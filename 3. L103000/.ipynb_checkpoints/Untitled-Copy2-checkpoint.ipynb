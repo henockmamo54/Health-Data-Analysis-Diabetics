{
 "cells": [
  {
   "cell_type": "code",
   "execution_count": 9,
   "metadata": {},
   "outputs": [],
   "source": [
    "import numpy as np\n",
    "import pandas as pd \n",
    "import warnings\n",
    "warnings.filterwarnings('ignore')\n",
    "from sklearn.model_selection import train_test_split\n",
    "from sklearn.ensemble import RandomForestRegressor\n",
    "from sklearn import metrics as m\n",
    "from matplotlib import pyplot as plt\n",
    "import math"
   ]
  },
  {
   "cell_type": "code",
   "execution_count": 10,
   "metadata": {},
   "outputs": [],
   "source": [
    "data= pd.read_csv('../sep19SexAndAgeAddedFINAL DATASET_ver2.txt',sep=',')\n",
    "data=data.drop(columns=['B_DAY'])"
   ]
  },
  {
   "cell_type": "code",
   "execution_count": 11,
   "metadata": {},
   "outputs": [],
   "source": [
    "data=data.query('FIELD_16 != 1 and FIELD_23 != 1')\n",
    "\n",
    "# data=data[data.SEX==0]\n",
    "# data=data[data.FIELD_15!=1]\n",
    "# data=data[data.FIELD_17!=1]\n",
    "# data=data[data.FIELD_22!=1]\n",
    "# data=data[data.FIELD_24!=1]\n",
    "# data=data[data.AGE>=40]\n",
    "# data=data[data.AGE<50]"
   ]
  },
  {
   "cell_type": "code",
   "execution_count": 12,
   "metadata": {},
   "outputs": [],
   "source": [
    "data2=data[['L103000', 'L103300', 'L103100', 'L100800', 'L101700', 'S000300', 'L100700', 'L102900', 'SEX', 'L190400', \n",
    "            'L190300', 'L101300', 'L190500', 'S000501', 'S000502', 'L104600', 'L190000', 'L102000', 'L190800', \n",
    "            'S000100', 'L100500',\n",
    "           'FIELD_33', 'FIELD_15', 'FIELD_17', 'FIELD_7', 'FIELD_22', 'FIELD_38', 'FIELD_24', 'FIELD_6', 'FIELD_40', \n",
    "            'FIELD_41', 'FIELD_27', 'FIELD_31', 'FIELD_42', 'FIELD_28']].dropna()"
   ]
  },
  {
   "cell_type": "code",
   "execution_count": 13,
   "metadata": {},
   "outputs": [],
   "source": [
    "# temppd=pd.DataFrame(x) #data2.copy()\n",
    "# temppd['y']=data2.L103000\n",
    "# temppd.head()\n",
    "# corval=abs(temppd.corr()).sort_values(by='y', ascending=False)\n"
   ]
  },
  {
   "cell_type": "code",
   "execution_count": 14,
   "metadata": {},
   "outputs": [],
   "source": [
    "# corval.y[:10].index"
   ]
  },
  {
   "cell_type": "code",
   "execution_count": 15,
   "metadata": {},
   "outputs": [
    {
     "ename": "KeyError",
     "evalue": "\"['FIELD_29', 'L101000', 'FIELD_32', 'FIELD_21', 'L100100', 'FIELD_14', 'FIELD_19', 'FIELD_26', 'FIELD_25', 'L100300', 'L103200', 'S000200', 'S001200', 'FIELD_18'] not in index\"",
     "output_type": "error",
     "traceback": [
      "\u001b[1;31m---------------------------------------------------------------------------\u001b[0m",
      "\u001b[1;31mKeyError\u001b[0m                                  Traceback (most recent call last)",
      "\u001b[1;32m<ipython-input-15-2cf494fddeff>\u001b[0m in \u001b[0;36m<module>\u001b[1;34m\u001b[0m\n\u001b[0;32m      3\u001b[0m             \u001b[1;34m'L190300'\u001b[0m\u001b[1;33m,\u001b[0m\u001b[1;33m\u001b[0m\u001b[1;33m\u001b[0m\u001b[0m\n\u001b[0;32m      4\u001b[0m            \u001b[1;34m'FIELD_33'\u001b[0m\u001b[1;33m,\u001b[0m \u001b[1;34m'FIELD_40'\u001b[0m\u001b[1;33m,\u001b[0m \u001b[1;34m'FIELD_38'\u001b[0m\u001b[1;33m,\u001b[0m \u001b[1;34m'FIELD_41'\u001b[0m\u001b[1;33m,\u001b[0m \u001b[1;34m'FIELD_32'\u001b[0m\u001b[1;33m,\u001b[0m \u001b[1;34m'FIELD_19'\u001b[0m\u001b[1;33m,\u001b[0m \u001b[1;34m'FIELD_31'\u001b[0m\u001b[1;33m,\u001b[0m \u001b[1;34m'FIELD_42'\u001b[0m\u001b[1;33m,\u001b[0m \u001b[1;34m'FIELD_26'\u001b[0m\u001b[1;33m,\u001b[0m\u001b[1;33m\u001b[0m\u001b[1;33m\u001b[0m\u001b[0m\n\u001b[1;32m----> 5\u001b[1;33m             'FIELD_18', 'FIELD_25', 'FIELD_28', 'FIELD_21', 'FIELD_14', 'FIELD_29']]\n\u001b[0m\u001b[0;32m      6\u001b[0m \u001b[1;33m\u001b[0m\u001b[0m\n\u001b[0;32m      7\u001b[0m \u001b[0my\u001b[0m\u001b[1;33m=\u001b[0m\u001b[0mdata2\u001b[0m\u001b[1;33m[\u001b[0m\u001b[1;33m[\u001b[0m\u001b[1;34m'L103000'\u001b[0m\u001b[1;33m]\u001b[0m\u001b[1;33m]\u001b[0m\u001b[1;33m\u001b[0m\u001b[1;33m\u001b[0m\u001b[0m\n",
      "\u001b[1;32mC:\\ProgramData\\Anaconda3\\lib\\site-packages\\pandas\\core\\frame.py\u001b[0m in \u001b[0;36m__getitem__\u001b[1;34m(self, key)\u001b[0m\n\u001b[0;32m   2932\u001b[0m                 \u001b[0mkey\u001b[0m \u001b[1;33m=\u001b[0m \u001b[0mlist\u001b[0m\u001b[1;33m(\u001b[0m\u001b[0mkey\u001b[0m\u001b[1;33m)\u001b[0m\u001b[1;33m\u001b[0m\u001b[1;33m\u001b[0m\u001b[0m\n\u001b[0;32m   2933\u001b[0m             indexer = self.loc._convert_to_indexer(key, axis=1,\n\u001b[1;32m-> 2934\u001b[1;33m                                                    raise_missing=True)\n\u001b[0m\u001b[0;32m   2935\u001b[0m \u001b[1;33m\u001b[0m\u001b[0m\n\u001b[0;32m   2936\u001b[0m         \u001b[1;31m# take() does not accept boolean indexers\u001b[0m\u001b[1;33m\u001b[0m\u001b[1;33m\u001b[0m\u001b[1;33m\u001b[0m\u001b[0m\n",
      "\u001b[1;32mC:\\ProgramData\\Anaconda3\\lib\\site-packages\\pandas\\core\\indexing.py\u001b[0m in \u001b[0;36m_convert_to_indexer\u001b[1;34m(self, obj, axis, is_setter, raise_missing)\u001b[0m\n\u001b[0;32m   1352\u001b[0m                 kwargs = {'raise_missing': True if is_setter else\n\u001b[0;32m   1353\u001b[0m                           raise_missing}\n\u001b[1;32m-> 1354\u001b[1;33m                 \u001b[1;32mreturn\u001b[0m \u001b[0mself\u001b[0m\u001b[1;33m.\u001b[0m\u001b[0m_get_listlike_indexer\u001b[0m\u001b[1;33m(\u001b[0m\u001b[0mobj\u001b[0m\u001b[1;33m,\u001b[0m \u001b[0maxis\u001b[0m\u001b[1;33m,\u001b[0m \u001b[1;33m**\u001b[0m\u001b[0mkwargs\u001b[0m\u001b[1;33m)\u001b[0m\u001b[1;33m[\u001b[0m\u001b[1;36m1\u001b[0m\u001b[1;33m]\u001b[0m\u001b[1;33m\u001b[0m\u001b[1;33m\u001b[0m\u001b[0m\n\u001b[0m\u001b[0;32m   1355\u001b[0m         \u001b[1;32melse\u001b[0m\u001b[1;33m:\u001b[0m\u001b[1;33m\u001b[0m\u001b[1;33m\u001b[0m\u001b[0m\n\u001b[0;32m   1356\u001b[0m             \u001b[1;32mtry\u001b[0m\u001b[1;33m:\u001b[0m\u001b[1;33m\u001b[0m\u001b[1;33m\u001b[0m\u001b[0m\n",
      "\u001b[1;32mC:\\ProgramData\\Anaconda3\\lib\\site-packages\\pandas\\core\\indexing.py\u001b[0m in \u001b[0;36m_get_listlike_indexer\u001b[1;34m(self, key, axis, raise_missing)\u001b[0m\n\u001b[0;32m   1159\u001b[0m         self._validate_read_indexer(keyarr, indexer,\n\u001b[0;32m   1160\u001b[0m                                     \u001b[0mo\u001b[0m\u001b[1;33m.\u001b[0m\u001b[0m_get_axis_number\u001b[0m\u001b[1;33m(\u001b[0m\u001b[0maxis\u001b[0m\u001b[1;33m)\u001b[0m\u001b[1;33m,\u001b[0m\u001b[1;33m\u001b[0m\u001b[1;33m\u001b[0m\u001b[0m\n\u001b[1;32m-> 1161\u001b[1;33m                                     raise_missing=raise_missing)\n\u001b[0m\u001b[0;32m   1162\u001b[0m         \u001b[1;32mreturn\u001b[0m \u001b[0mkeyarr\u001b[0m\u001b[1;33m,\u001b[0m \u001b[0mindexer\u001b[0m\u001b[1;33m\u001b[0m\u001b[1;33m\u001b[0m\u001b[0m\n\u001b[0;32m   1163\u001b[0m \u001b[1;33m\u001b[0m\u001b[0m\n",
      "\u001b[1;32mC:\\ProgramData\\Anaconda3\\lib\\site-packages\\pandas\\core\\indexing.py\u001b[0m in \u001b[0;36m_validate_read_indexer\u001b[1;34m(self, key, indexer, axis, raise_missing)\u001b[0m\n\u001b[0;32m   1250\u001b[0m             \u001b[1;32mif\u001b[0m \u001b[1;32mnot\u001b[0m\u001b[1;33m(\u001b[0m\u001b[0mself\u001b[0m\u001b[1;33m.\u001b[0m\u001b[0mname\u001b[0m \u001b[1;33m==\u001b[0m \u001b[1;34m'loc'\u001b[0m \u001b[1;32mand\u001b[0m \u001b[1;32mnot\u001b[0m \u001b[0mraise_missing\u001b[0m\u001b[1;33m)\u001b[0m\u001b[1;33m:\u001b[0m\u001b[1;33m\u001b[0m\u001b[1;33m\u001b[0m\u001b[0m\n\u001b[0;32m   1251\u001b[0m                 \u001b[0mnot_found\u001b[0m \u001b[1;33m=\u001b[0m \u001b[0mlist\u001b[0m\u001b[1;33m(\u001b[0m\u001b[0mset\u001b[0m\u001b[1;33m(\u001b[0m\u001b[0mkey\u001b[0m\u001b[1;33m)\u001b[0m \u001b[1;33m-\u001b[0m \u001b[0mset\u001b[0m\u001b[1;33m(\u001b[0m\u001b[0max\u001b[0m\u001b[1;33m)\u001b[0m\u001b[1;33m)\u001b[0m\u001b[1;33m\u001b[0m\u001b[1;33m\u001b[0m\u001b[0m\n\u001b[1;32m-> 1252\u001b[1;33m                 \u001b[1;32mraise\u001b[0m \u001b[0mKeyError\u001b[0m\u001b[1;33m(\u001b[0m\u001b[1;34m\"{} not in index\"\u001b[0m\u001b[1;33m.\u001b[0m\u001b[0mformat\u001b[0m\u001b[1;33m(\u001b[0m\u001b[0mnot_found\u001b[0m\u001b[1;33m)\u001b[0m\u001b[1;33m)\u001b[0m\u001b[1;33m\u001b[0m\u001b[1;33m\u001b[0m\u001b[0m\n\u001b[0m\u001b[0;32m   1253\u001b[0m \u001b[1;33m\u001b[0m\u001b[0m\n\u001b[0;32m   1254\u001b[0m             \u001b[1;31m# we skip the warning on Categorical/Interval\u001b[0m\u001b[1;33m\u001b[0m\u001b[1;33m\u001b[0m\u001b[1;33m\u001b[0m\u001b[0m\n",
      "\u001b[1;31mKeyError\u001b[0m: \"['FIELD_29', 'L101000', 'FIELD_32', 'FIELD_21', 'L100100', 'FIELD_14', 'FIELD_19', 'FIELD_26', 'FIELD_25', 'L100300', 'L103200', 'S000200', 'S001200', 'FIELD_18'] not in index\""
     ]
    }
   ],
   "source": [
    "x=data2[['L103300', 'L103100', 'L100800', 'L101700', 'S000300', 'L100700', 'L102900', 'SEX', 'L190400', \n",
    "            'L190300', 'L101300', 'L190500', 'S000501', 'S000502', 'L104600', 'L190000', 'L102000', 'L190800', \n",
    "            'S000100', 'L100500',\n",
    "           'FIELD_33', 'FIELD_15', 'FIELD_17', 'FIELD_7', 'FIELD_22', 'FIELD_38', 'FIELD_24', 'FIELD_6', 'FIELD_40', \n",
    "            'FIELD_41', 'FIELD_27', 'FIELD_31', 'FIELD_42', 'FIELD_28']]\n",
    "\n",
    "y=data2[['L103000']]"
   ]
  },
  {
   "cell_type": "code",
   "execution_count": null,
   "metadata": {},
   "outputs": [],
   "source": [
    "from sklearn import linear_model\n",
    "clf = linear_model.Lasso(alpha=0.1)\n",
    "clf.fit(x,y)\n",
    "\n",
    "print(clf.coef_)\n",
    "\n",
    "print(clf.intercept_)  \n",
    "\n",
    "# pd.DataFrame([x.columns.ravel(),clf.coef_.ravel()],columns=['Name','coeff'])\n",
    "\n",
    "lassod=pd.DataFrame()\n",
    "lassod['Name']=x.columns\n",
    "lassod['coeff']=clf.coef_\n",
    "lassod\n",
    "\n",
    "lassod=lassod.drop(lassod[lassod.coeff==0].index)\n",
    "lassod"
   ]
  },
  {
   "cell_type": "code",
   "execution_count": null,
   "metadata": {},
   "outputs": [],
   "source": [
    "# # x.S000200=np.log2(x.S000200)\n",
    "# xorg=x.copy()\n",
    "# for i in x.columns:\n",
    "#     x[i]=np.power(x[i],10)\n",
    "    \n",
    "# x=pd.concat([x,xorg])\n",
    "# y=pd.concat([y,y])"
   ]
  },
  {
   "cell_type": "code",
   "execution_count": null,
   "metadata": {},
   "outputs": [],
   "source": [
    "# from sklearn import preprocessing\n",
    "# min_max_scaler = preprocessing.StandardScaler()  #MinMaxScaler()\n",
    "# x = min_max_scaler.fit_transform(x)"
   ]
  },
  {
   "cell_type": "code",
   "execution_count": null,
   "metadata": {},
   "outputs": [],
   "source": []
  },
  {
   "cell_type": "code",
   "execution_count": 7,
   "metadata": {},
   "outputs": [],
   "source": [
    "x=data2[lassod.Name[:15]]\n",
    "y=y=data2[['L103000']]"
   ]
  },
  {
   "cell_type": "code",
   "execution_count": 8,
   "metadata": {},
   "outputs": [
    {
     "name": "stdout",
     "output_type": "stream",
     "text": [
      "['L103300', 'L103100', 'L100800', 'L101700', 'L102900', 'S001200', 'S000200', 'L100700', 'L190000', 'L101300', 'S000501', 'S000502', 'L101000', 'L190800', 'L100100']\n"
     ]
    }
   ],
   "source": [
    "print(list(lassod.Name[:15]))"
   ]
  },
  {
   "cell_type": "code",
   "execution_count": 29,
   "metadata": {},
   "outputs": [],
   "source": [
    "xtrain,xtest,ytrain,ytest=train_test_split(x, y, random_state=42, test_size=0.2)"
   ]
  },
  {
   "cell_type": "code",
   "execution_count": 30,
   "metadata": {},
   "outputs": [],
   "source": [
    "# x.dtypes"
   ]
  },
  {
   "cell_type": "code",
   "execution_count": 31,
   "metadata": {},
   "outputs": [
    {
     "name": "stdout",
     "output_type": "stream",
     "text": [
      "[0.29924585 0.30091827 0.16959375 0.08614717 0.00204774 0.00139194\n",
      " 0.00189639 0.00830634 0.00465004 0.00238237 0.00141006 0.00219566\n",
      " 0.0017589  0.11516915 0.00288637]\n"
     ]
    }
   ],
   "source": [
    "regr = RandomForestRegressor(max_depth=7, random_state=0,verbose =0,n_estimators=50)\n",
    "regr.fit(xtrain, ytrain) \n",
    "print(regr.feature_importances_)\n",
    "ypred=regr.predict(xtest)\n"
   ]
  },
  {
   "cell_type": "code",
   "execution_count": 32,
   "metadata": {},
   "outputs": [
    {
     "name": "stdout",
     "output_type": "stream",
     "text": [
      "mean_squared_error 5058.518379719819\n",
      "root mean_squared_error 71.12326187485932\n",
      "mean_absolute_error 44.62980549455567\n",
      "r2_score 0.5034991529786138\n"
     ]
    },
    {
     "data": {
      "image/png": "[encoded data removed]",
      "text/plain": [
       "<Figure size 432x288 with 1 Axes>"
      ]
     },
     "metadata": {
      "needs_background": "light"
     },
     "output_type": "display_data"
    },
    {
     "data": {
      "text/html": [
       "<div>\n",
       "<style scoped>\n",
       "    .dataframe tbody tr th:only-of-type {\n",
       "        vertical-align: middle;\n",
       "    }\n",
       "\n",
       "    .dataframe tbody tr th {\n",
       "        vertical-align: top;\n",
       "    }\n",
       "\n",
       "    .dataframe thead th {\n",
       "        text-align: right;\n",
       "    }\n",
       "</style>\n",
       "<table border=\"1\" class=\"dataframe\">\n",
       "  <thead>\n",
       "    <tr style=\"text-align: right;\">\n",
       "      <th></th>\n",
       "      <th>t + 1</th>\n",
       "      <th>pred (t +1)</th>\n",
       "    </tr>\n",
       "  </thead>\n",
       "  <tbody>\n",
       "    <tr>\n",
       "      <th>8521</th>\n",
       "      <td>1347.0</td>\n",
       "      <td>517.593687</td>\n",
       "    </tr>\n",
       "    <tr>\n",
       "      <th>1253</th>\n",
       "      <td>1425.0</td>\n",
       "      <td>439.117614</td>\n",
       "    </tr>\n",
       "    <tr>\n",
       "      <th>8979</th>\n",
       "      <td>1444.0</td>\n",
       "      <td>606.305032</td>\n",
       "    </tr>\n",
       "    <tr>\n",
       "      <th>8634</th>\n",
       "      <td>1449.0</td>\n",
       "      <td>652.052605</td>\n",
       "    </tr>\n",
       "    <tr>\n",
       "      <th>8568</th>\n",
       "      <td>1563.0</td>\n",
       "      <td>1452.014422</td>\n",
       "    </tr>\n",
       "    <tr>\n",
       "      <th>37</th>\n",
       "      <td>1569.0</td>\n",
       "      <td>607.507564</td>\n",
       "    </tr>\n",
       "    <tr>\n",
       "      <th>5889</th>\n",
       "      <td>1934.0</td>\n",
       "      <td>1107.080119</td>\n",
       "    </tr>\n",
       "    <tr>\n",
       "      <th>1809</th>\n",
       "      <td>2013.0</td>\n",
       "      <td>1809.768667</td>\n",
       "    </tr>\n",
       "    <tr>\n",
       "      <th>2204</th>\n",
       "      <td>2288.0</td>\n",
       "      <td>1247.940555</td>\n",
       "    </tr>\n",
       "    <tr>\n",
       "      <th>11975</th>\n",
       "      <td>2318.0</td>\n",
       "      <td>1763.500883</td>\n",
       "    </tr>\n",
       "  </tbody>\n",
       "</table>\n",
       "</div>"
      ],
      "text/plain": [
       "        t + 1  pred (t +1)\n",
       "8521   1347.0   517.593687\n",
       "1253   1425.0   439.117614\n",
       "8979   1444.0   606.305032\n",
       "8634   1449.0   652.052605\n",
       "8568   1563.0  1452.014422\n",
       "37     1569.0   607.507564\n",
       "5889   1934.0  1107.080119\n",
       "1809   2013.0  1809.768667\n",
       "2204   2288.0  1247.940555\n",
       "11975  2318.0  1763.500883"
      ]
     },
     "execution_count": 32,
     "metadata": {},
     "output_type": "execute_result"
    },
    {
     "data": {
      "image/png": "[encoded data removed]",
      "text/plain": [
       "<Figure size 432x288 with 1 Axes>"
      ]
     },
     "metadata": {
      "needs_background": "light"
     },
     "output_type": "display_data"
    }
   ],
   "source": [
    "\n",
    "print('mean_squared_error',m.mean_squared_error(ytest, ypred))\n",
    "print('root mean_squared_error',math.sqrt(m.mean_squared_error(ytest, ypred)))\n",
    "print('mean_absolute_error',m.mean_absolute_error(ytest, ypred))\n",
    "print('r2_score',m.r2_score(ytest, ypred))\n",
    "\n",
    "ypredPD=pd.DataFrame()\n",
    "# ypredPD['t']=xtest['S000501_x'].values\n",
    "ypredPD['t + 1']=ytest.values.ravel()\n",
    "ypredPD['pred (t +1)']=ypred\n",
    "ypredPD.head(30)\n",
    "\n",
    "import matplotlib.patches as mpatches\n",
    "plt.ylabel('Values')\n",
    "plt.xlabel('index')\n",
    "red_patch = mpatches.Patch(color='red', label='Actual data')\n",
    "blue_patch = mpatches.Patch(color='blue', label='Predicted data')\n",
    "plt.legend(handles=[red_patch,blue_patch])\n",
    "\n",
    "ypredPD=ypredPD.sort_values(by=['t + 1'])\n",
    "plt.scatter(np.arange(0,ypredPD.shape[0],1),ypredPD['pred (t +1)'][:ypredPD.shape[0]])\n",
    "plt.plot(np.arange(0,ypredPD.shape[0],1),ypredPD['t + 1'][:ypredPD.shape[0]],color='red')\n",
    "plt.show()\n",
    "\n",
    "plt.ylabel('p*(t+1), Predicted data')\n",
    "plt.xlabel('p(t+1), Actual data')\n",
    "plt.scatter(ypredPD['t + 1'][:ypredPD.shape[0]],ypredPD['pred (t +1)'][:ypredPD.shape[0]])\n",
    "\n",
    "ypredPD.tail(10)"
   ]
  },
  {
   "cell_type": "code",
   "execution_count": 33,
   "metadata": {},
   "outputs": [
    {
     "data": {
      "text/plain": [
       "Index(['Unnamed: 0', 'FIELD_1', 'FIELD_2', 'COMPARE', 'AGE', 'SEX', 'FIELD_3',\n",
       "       'FIELD_4', 'FIELD_5', 'FIELD_6',\n",
       "       ...\n",
       "       'S004423', 'S004424', 'S005200', 'S007400', 'S008501', 'S008502',\n",
       "       'S008503', 'S008504', 'S010101', 'S010102'],\n",
       "      dtype='object', length=405)"
      ]
     },
     "execution_count": 33,
     "metadata": {},
     "output_type": "execute_result"
    }
   ],
   "source": [
    "data.columns"
   ]
  },
  {
   "cell_type": "code",
   "execution_count": null,
   "metadata": {
    "scrolled": true
   },
   "outputs": [],
   "source": [
    "# for i in data2.columns:\n",
    "#     plt.scatter(data2.L103000,data2[i])\n",
    "#     plt.show()\n",
    "# #     print(i)"
   ]
  },
  {
   "cell_type": "code",
   "execution_count": null,
   "metadata": {},
   "outputs": [],
   "source": [
    "# plt.hist(data.L103100,bins=50)"
   ]
  },
  {
   "cell_type": "markdown",
   "metadata": {},
   "source": [
    "========================================\n",
    "=================="
   ]
  },
  {
   "cell_type": "code",
   "execution_count": 57,
   "metadata": {},
   "outputs": [],
   "source": [
    "data2=data[['L101700', 'L103100', 'L102900', 'L100800', 'S000300', 'S001200', 'S000200', 'L100700', 'L101300',\n",
    "         'L190000', 'S000502', 'S000501', 'AGE', 'L100300', 'L190400','L103000']].dropna()\n",
    "\n",
    "x=data2[['L101700', 'L103100', 'L102900', 'L100800', 'S000300', 'S001200', 'S000200', 'L100700', 'L101300',\n",
    "         'L190000', 'S000502', 'AGE', 'L100300', 'L190400']] #'S000501',\n",
    "\n",
    "y=y=data2[['L103000']]"
   ]
  },
  {
   "cell_type": "code",
   "execution_count": 58,
   "metadata": {},
   "outputs": [
    {
     "data": {
      "text/plain": [
       "(103495, 14)"
      ]
     },
     "execution_count": 58,
     "metadata": {},
     "output_type": "execute_result"
    }
   ],
   "source": [
    "# x2=x.copy()\n",
    "# x2=np.log10(x2)\n",
    "# x2=pd.concat([x,x2],axis=1)\n",
    "\n",
    "x.shape"
   ]
  },
  {
   "cell_type": "code",
   "execution_count": 59,
   "metadata": {},
   "outputs": [],
   "source": [
    "from sklearn import preprocessing\n",
    "min_max_scaler = preprocessing.MinMaxScaler()  #MinMaxScaler()\n",
    "x = min_max_scaler.fit_transform(x)\n",
    "\n",
    "min_max_scalery = preprocessing.MinMaxScaler()  #MinMaxScaler()\n",
    "y = min_max_scalery.fit_transform(y)\n"
   ]
  },
  {
   "cell_type": "code",
   "execution_count": 60,
   "metadata": {},
   "outputs": [],
   "source": [
    "xtrain,xtest,ytrain,ytest=train_test_split(x, y, random_state=42, test_size=0.2)"
   ]
  },
  {
   "cell_type": "code",
   "execution_count": 61,
   "metadata": {},
   "outputs": [
    {
     "name": "stdout",
     "output_type": "stream",
     "text": [
      "[0.29942584 0.29124429 0.16884757 0.08527101 0.00282613 0.00190329\n",
      " 0.00217942 0.00720106 0.00172622 0.00250135 0.00243232 0.00074883\n",
      " 0.13298873 0.00070393]\n"
     ]
    }
   ],
   "source": [
    "regr = RandomForestRegressor(max_depth=7, random_state=0,verbose =0,n_estimators=50)\n",
    "regr.fit(xtrain, ytrain) \n",
    "print(regr.feature_importances_)\n",
    "ypred=regr.predict(xtest)"
   ]
  },
  {
   "cell_type": "code",
   "execution_count": 62,
   "metadata": {},
   "outputs": [
    {
     "name": "stdout",
     "output_type": "stream",
     "text": [
      "mean_squared_error 0.000752215875586117\n",
      "root mean_squared_error 0.027426554205479715\n",
      "mean_absolute_error 0.01676265104405104\n",
      "r2_score 0.47679782116386815\n"
     ]
    },
    {
     "data": {
      "image/png": "[encoded data removed]",
      "text/plain": [
       "<Figure size 432x288 with 1 Axes>"
      ]
     },
     "metadata": {
      "needs_background": "light"
     },
     "output_type": "display_data"
    },
    {
     "data": {
      "text/html": [
       "<div>\n",
       "<style scoped>\n",
       "    .dataframe tbody tr th:only-of-type {\n",
       "        vertical-align: middle;\n",
       "    }\n",
       "\n",
       "    .dataframe tbody tr th {\n",
       "        vertical-align: top;\n",
       "    }\n",
       "\n",
       "    .dataframe thead th {\n",
       "        text-align: right;\n",
       "    }\n",
       "</style>\n",
       "<table border=\"1\" class=\"dataframe\">\n",
       "  <thead>\n",
       "    <tr style=\"text-align: right;\">\n",
       "      <th></th>\n",
       "      <th>t + 1</th>\n",
       "      <th>pred (t +1)</th>\n",
       "    </tr>\n",
       "  </thead>\n",
       "  <tbody>\n",
       "    <tr>\n",
       "      <th>4335</th>\n",
       "      <td>0.468069</td>\n",
       "      <td>0.248726</td>\n",
       "    </tr>\n",
       "    <tr>\n",
       "      <th>884</th>\n",
       "      <td>0.470323</td>\n",
       "      <td>0.104602</td>\n",
       "    </tr>\n",
       "    <tr>\n",
       "      <th>1174</th>\n",
       "      <td>0.472577</td>\n",
       "      <td>0.226757</td>\n",
       "    </tr>\n",
       "    <tr>\n",
       "      <th>11402</th>\n",
       "      <td>0.513524</td>\n",
       "      <td>0.082528</td>\n",
       "    </tr>\n",
       "    <tr>\n",
       "      <th>5682</th>\n",
       "      <td>0.531180</td>\n",
       "      <td>0.165111</td>\n",
       "    </tr>\n",
       "    <tr>\n",
       "      <th>9046</th>\n",
       "      <td>0.540195</td>\n",
       "      <td>0.186879</td>\n",
       "    </tr>\n",
       "    <tr>\n",
       "      <th>7712</th>\n",
       "      <td>0.555222</td>\n",
       "      <td>0.683546</td>\n",
       "    </tr>\n",
       "    <tr>\n",
       "      <th>5960</th>\n",
       "      <td>0.558978</td>\n",
       "      <td>0.388150</td>\n",
       "    </tr>\n",
       "    <tr>\n",
       "      <th>19816</th>\n",
       "      <td>0.583020</td>\n",
       "      <td>0.609835</td>\n",
       "    </tr>\n",
       "    <tr>\n",
       "      <th>4543</th>\n",
       "      <td>0.880917</td>\n",
       "      <td>0.253875</td>\n",
       "    </tr>\n",
       "  </tbody>\n",
       "</table>\n",
       "</div>"
      ],
      "text/plain": [
       "          t + 1  pred (t +1)\n",
       "4335   0.468069     0.248726\n",
       "884    0.470323     0.104602\n",
       "1174   0.472577     0.226757\n",
       "11402  0.513524     0.082528\n",
       "5682   0.531180     0.165111\n",
       "9046   0.540195     0.186879\n",
       "7712   0.555222     0.683546\n",
       "5960   0.558978     0.388150\n",
       "19816  0.583020     0.609835\n",
       "4543   0.880917     0.253875"
      ]
     },
     "execution_count": 62,
     "metadata": {},
     "output_type": "execute_result"
    },
    {
     "data": {
      "image/png": "[encoded data removed]",
      "text/plain": [
       "<Figure size 432x288 with 1 Axes>"
      ]
     },
     "metadata": {
      "needs_background": "light"
     },
     "output_type": "display_data"
    }
   ],
   "source": [
    "\n",
    "ypred=regr.predict(xtest)\n",
    "print('mean_squared_error',m.mean_squared_error(ytest, ypred))\n",
    "print('root mean_squared_error',math.sqrt(m.mean_squared_error(ytest, ypred)))\n",
    "print('mean_absolute_error',m.mean_absolute_error(ytest, ypred))\n",
    "print('r2_score',m.r2_score(ytest, ypred))\n",
    "\n",
    "ypredPD=pd.DataFrame()\n",
    "# ypredPD['t']=xtest['S000501_x'].values\n",
    "ypredPD['t + 1']=ytest.ravel() # ytest.values.ravel()\n",
    "ypredPD['pred (t +1)']=ypred\n",
    "ypredPD.head(30)\n",
    "\n",
    "import matplotlib.patches as mpatches\n",
    "plt.ylabel('Values')\n",
    "plt.xlabel('index')\n",
    "red_patch = mpatches.Patch(color='red', label='Actual data')\n",
    "blue_patch = mpatches.Patch(color='blue', label='Predicted data')\n",
    "plt.legend(handles=[red_patch,blue_patch])\n",
    "\n",
    "ypredPD=ypredPD.sort_values(by=['t + 1'])\n",
    "plt.scatter(np.arange(0,ypredPD.shape[0],1),ypredPD['pred (t +1)'][:ypredPD.shape[0]])\n",
    "plt.plot(np.arange(0,ypredPD.shape[0],1),ypredPD['t + 1'][:ypredPD.shape[0]],color='red')\n",
    "plt.show()\n",
    "\n",
    "plt.ylabel('p*(t+1), Predicted data')\n",
    "plt.xlabel('p(t+1), Actual data')\n",
    "plt.scatter(ypredPD['t + 1'][:ypredPD.shape[0]],ypredPD['pred (t +1)'][:ypredPD.shape[0]])\n",
    "\n",
    "ypredPD.tail(10)"
   ]
  },
  {
   "cell_type": "code",
   "execution_count": 63,
   "metadata": {},
   "outputs": [
    {
     "data": {
      "text/plain": [
       "(103495, 14)"
      ]
     },
     "execution_count": 63,
     "metadata": {},
     "output_type": "execute_result"
    }
   ],
   "source": [
    "tempx=x.copy()\n",
    "tempx.shape"
   ]
  },
  {
   "cell_type": "code",
   "execution_count": 51,
   "metadata": {},
   "outputs": [],
   "source": [
    "X = pd.DataFrame(x.copy())\n",
    "X['c']=np.ones(x.shape[0])\n",
    "\n",
    "# X=pd.concat([pd.DataFrame(np.ones(x.shape[0])),pd.DataFrame(x.copy())])"
   ]
  },
  {
   "cell_type": "code",
   "execution_count": 52,
   "metadata": {},
   "outputs": [],
   "source": [
    "import statsmodels.regression.linear_model as sm"
   ]
  },
  {
   "cell_type": "code",
   "execution_count": 53,
   "metadata": {},
   "outputs": [],
   "source": [
    "# import statsmodels.formula.api as sm"
   ]
  },
  {
   "cell_type": "code",
   "execution_count": 54,
   "metadata": {},
   "outputs": [
    {
     "data": {
      "text/html": [
       "<table class=\"simpletable\">\n",
       "<caption>OLS Regression Results</caption>\n",
       "<tr>\n",
       "  <th>Dep. Variable:</th>            <td>y</td>        <th>  R-squared (uncentered):</th>       <td>   0.758</td> \n",
       "</tr>\n",
       "<tr>\n",
       "  <th>Model:</th>                   <td>OLS</td>       <th>  Adj. R-squared (uncentered):</th>  <td>   0.758</td> \n",
       "</tr>\n",
       "<tr>\n",
       "  <th>Method:</th>             <td>Least Squares</td>  <th>  F-statistic:       </th>           <td>2.162e+04</td>\n",
       "</tr>\n",
       "<tr>\n",
       "  <th>Date:</th>             <td>Tue, 08 Oct 2019</td> <th>  Prob (F-statistic):</th>            <td>  0.00</td>  \n",
       "</tr>\n",
       "<tr>\n",
       "  <th>Time:</th>                 <td>22:30:34</td>     <th>  Log-Likelihood:    </th>          <td>2.1984e+05</td>\n",
       "</tr>\n",
       "<tr>\n",
       "  <th>No. Observations:</th>      <td>103495</td>      <th>  AIC:               </th>          <td>-4.396e+05</td>\n",
       "</tr>\n",
       "<tr>\n",
       "  <th>Df Residuals:</th>          <td>103480</td>      <th>  BIC:               </th>          <td>-4.395e+05</td>\n",
       "</tr>\n",
       "<tr>\n",
       "  <th>Df Model:</th>              <td>    15</td>      <th>                     </th>               <td> </td>    \n",
       "</tr>\n",
       "<tr>\n",
       "  <th>Covariance Type:</th>      <td>nonrobust</td>    <th>                     </th>               <td> </td>    \n",
       "</tr>\n",
       "</table>\n",
       "<table class=\"simpletable\">\n",
       "<tr>\n",
       "   <td></td>      <th>coef</th>     <th>std err</th>      <th>t</th>      <th>P>|t|</th>  <th>[0.025</th>    <th>0.975]</th>  \n",
       "</tr>\n",
       "<tr>\n",
       "  <th>x1</th>  <td>    0.3246</td> <td>    0.004</td> <td>   85.285</td> <td> 0.000</td> <td>    0.317</td> <td>    0.332</td>\n",
       "</tr>\n",
       "<tr>\n",
       "  <th>x2</th>  <td>   -0.1542</td> <td>    0.001</td> <td> -145.486</td> <td> 0.000</td> <td>   -0.156</td> <td>   -0.152</td>\n",
       "</tr>\n",
       "<tr>\n",
       "  <th>x3</th>  <td>    0.1250</td> <td>    0.001</td> <td>   93.857</td> <td> 0.000</td> <td>    0.122</td> <td>    0.128</td>\n",
       "</tr>\n",
       "<tr>\n",
       "  <th>x4</th>  <td>    0.2239</td> <td>    0.003</td> <td>   79.769</td> <td> 0.000</td> <td>    0.218</td> <td>    0.229</td>\n",
       "</tr>\n",
       "<tr>\n",
       "  <th>x5</th>  <td>    0.0164</td> <td>    0.003</td> <td>    5.234</td> <td> 0.000</td> <td>    0.010</td> <td>    0.023</td>\n",
       "</tr>\n",
       "<tr>\n",
       "  <th>x6</th>  <td>   -0.0278</td> <td>    0.003</td> <td>  -10.406</td> <td> 0.000</td> <td>   -0.033</td> <td>   -0.023</td>\n",
       "</tr>\n",
       "<tr>\n",
       "  <th>x7</th>  <td>    0.0090</td> <td>    0.003</td> <td>    3.050</td> <td> 0.002</td> <td>    0.003</td> <td>    0.015</td>\n",
       "</tr>\n",
       "<tr>\n",
       "  <th>x8</th>  <td>    0.0389</td> <td>    0.001</td> <td>   26.987</td> <td> 0.000</td> <td>    0.036</td> <td>    0.042</td>\n",
       "</tr>\n",
       "<tr>\n",
       "  <th>x9</th>  <td>   -0.1973</td> <td>    0.016</td> <td>  -12.223</td> <td> 0.000</td> <td>   -0.229</td> <td>   -0.166</td>\n",
       "</tr>\n",
       "<tr>\n",
       "  <th>x10</th> <td>    0.0325</td> <td>    0.001</td> <td>   25.392</td> <td> 0.000</td> <td>    0.030</td> <td>    0.035</td>\n",
       "</tr>\n",
       "<tr>\n",
       "  <th>x11</th> <td>    0.0140</td> <td>    0.002</td> <td>    9.011</td> <td> 0.000</td> <td>    0.011</td> <td>    0.017</td>\n",
       "</tr>\n",
       "<tr>\n",
       "  <th>x12</th> <td>    0.0013</td> <td>    0.002</td> <td>    0.764</td> <td> 0.445</td> <td>   -0.002</td> <td>    0.005</td>\n",
       "</tr>\n",
       "<tr>\n",
       "  <th>x13</th> <td>   -0.0035</td> <td>    0.001</td> <td>   -6.258</td> <td> 0.000</td> <td>   -0.005</td> <td>   -0.002</td>\n",
       "</tr>\n",
       "<tr>\n",
       "  <th>x14</th> <td>    0.0589</td> <td>    0.002</td> <td>   27.710</td> <td> 0.000</td> <td>    0.055</td> <td>    0.063</td>\n",
       "</tr>\n",
       "<tr>\n",
       "  <th>x15</th> <td>   -0.0121</td> <td>    0.001</td> <td>  -10.925</td> <td> 0.000</td> <td>   -0.014</td> <td>   -0.010</td>\n",
       "</tr>\n",
       "</table>\n",
       "<table class=\"simpletable\">\n",
       "<tr>\n",
       "  <th>Omnibus:</th>       <td>96742.918</td> <th>  Durbin-Watson:     </th>   <td>   1.576</td>  \n",
       "</tr>\n",
       "<tr>\n",
       "  <th>Prob(Omnibus):</th>  <td> 0.000</td>   <th>  Jarque-Bera (JB):  </th> <td>11279706.539</td>\n",
       "</tr>\n",
       "<tr>\n",
       "  <th>Skew:</th>           <td> 4.157</td>   <th>  Prob(JB):          </th>   <td>    0.00</td>  \n",
       "</tr>\n",
       "<tr>\n",
       "  <th>Kurtosis:</th>       <td>53.464</td>   <th>  Cond. No.          </th>   <td>    244.</td>  \n",
       "</tr>\n",
       "</table><br/><br/>Warnings:<br/>[1] Standard Errors assume that the covariance matrix of the errors is correctly specified."
      ],
      "text/plain": [
       "<class 'statsmodels.iolib.summary.Summary'>\n",
       "\"\"\"\n",
       "                                 OLS Regression Results                                \n",
       "=======================================================================================\n",
       "Dep. Variable:                      y   R-squared (uncentered):                   0.758\n",
       "Model:                            OLS   Adj. R-squared (uncentered):              0.758\n",
       "Method:                 Least Squares   F-statistic:                          2.162e+04\n",
       "Date:                Tue, 08 Oct 2019   Prob (F-statistic):                        0.00\n",
       "Time:                        22:30:34   Log-Likelihood:                      2.1984e+05\n",
       "No. Observations:              103495   AIC:                                 -4.396e+05\n",
       "Df Residuals:                  103480   BIC:                                 -4.395e+05\n",
       "Df Model:                          15                                                  \n",
       "Covariance Type:            nonrobust                                                  \n",
       "==============================================================================\n",
       "                 coef    std err          t      P>|t|      [0.025      0.975]\n",
       "------------------------------------------------------------------------------\n",
       "x1             0.3246      0.004     85.285      0.000       0.317       0.332\n",
       "x2            -0.1542      0.001   -145.486      0.000      -0.156      -0.152\n",
       "x3             0.1250      0.001     93.857      0.000       0.122       0.128\n",
       "x4             0.2239      0.003     79.769      0.000       0.218       0.229\n",
       "x5             0.0164      0.003      5.234      0.000       0.010       0.023\n",
       "x6            -0.0278      0.003    -10.406      0.000      -0.033      -0.023\n",
       "x7             0.0090      0.003      3.050      0.002       0.003       0.015\n",
       "x8             0.0389      0.001     26.987      0.000       0.036       0.042\n",
       "x9            -0.1973      0.016    -12.223      0.000      -0.229      -0.166\n",
       "x10            0.0325      0.001     25.392      0.000       0.030       0.035\n",
       "x11            0.0140      0.002      9.011      0.000       0.011       0.017\n",
       "x12            0.0013      0.002      0.764      0.445      -0.002       0.005\n",
       "x13           -0.0035      0.001     -6.258      0.000      -0.005      -0.002\n",
       "x14            0.0589      0.002     27.710      0.000       0.055       0.063\n",
       "x15           -0.0121      0.001    -10.925      0.000      -0.014      -0.010\n",
       "==============================================================================\n",
       "Omnibus:                    96742.918   Durbin-Watson:                   1.576\n",
       "Prob(Omnibus):                  0.000   Jarque-Bera (JB):         11279706.539\n",
       "Skew:                           4.157   Prob(JB):                         0.00\n",
       "Kurtosis:                      53.464   Cond. No.                         244.\n",
       "==============================================================================\n",
       "\n",
       "Warnings:\n",
       "[1] Standard Errors assume that the covariance matrix of the errors is correctly specified.\n",
       "\"\"\""
      ]
     },
     "execution_count": 54,
     "metadata": {},
     "output_type": "execute_result"
    }
   ],
   "source": [
    "regressor_OLS = sm.OLS(endog = y, exog = x).fit()\n",
    "regressor_OLS.summary()"
   ]
  },
  {
   "cell_type": "code",
   "execution_count": null,
   "metadata": {},
   "outputs": [],
   "source": []
  },
  {
   "cell_type": "code",
   "execution_count": 55,
   "metadata": {},
   "outputs": [],
   "source": [
    "\n",
    "x=data2[['L101700', 'L103100', 'L102900', 'L100800', 'S000300', 'S001200', 'S000200', 'L100700', 'L101300',\n",
    "         'L190000', 'S000502', 'AGE', 'L100300', 'L190400']] #'S000501',\n",
    "\n",
    "y=y=data2[['L103000']]"
   ]
  },
  {
   "cell_type": "code",
   "execution_count": 56,
   "metadata": {},
   "outputs": [
    {
     "data": {
      "text/html": [
       "<table class=\"simpletable\">\n",
       "<caption>OLS Regression Results</caption>\n",
       "<tr>\n",
       "  <th>Dep. Variable:</th>         <td>L103000</td>     <th>  R-squared (uncentered):</th>       <td>   0.781</td>  \n",
       "</tr>\n",
       "<tr>\n",
       "  <th>Model:</th>                   <td>OLS</td>       <th>  Adj. R-squared (uncentered):</th>  <td>   0.781</td>  \n",
       "</tr>\n",
       "<tr>\n",
       "  <th>Method:</th>             <td>Least Squares</td>  <th>  F-statistic:       </th>           <td>2.630e+04</td> \n",
       "</tr>\n",
       "<tr>\n",
       "  <th>Date:</th>             <td>Tue, 08 Oct 2019</td> <th>  Prob (F-statistic):</th>            <td>  0.00</td>   \n",
       "</tr>\n",
       "<tr>\n",
       "  <th>Time:</th>                 <td>22:31:22</td>     <th>  Log-Likelihood:    </th>          <td>-5.9687e+05</td>\n",
       "</tr>\n",
       "<tr>\n",
       "  <th>No. Observations:</th>      <td>103495</td>      <th>  AIC:               </th>           <td>1.194e+06</td> \n",
       "</tr>\n",
       "<tr>\n",
       "  <th>Df Residuals:</th>          <td>103481</td>      <th>  BIC:               </th>           <td>1.194e+06</td> \n",
       "</tr>\n",
       "<tr>\n",
       "  <th>Df Model:</th>              <td>    14</td>      <th>                     </th>               <td> </td>     \n",
       "</tr>\n",
       "<tr>\n",
       "  <th>Covariance Type:</th>      <td>nonrobust</td>    <th>                     </th>               <td> </td>     \n",
       "</tr>\n",
       "</table>\n",
       "<table class=\"simpletable\">\n",
       "<tr>\n",
       "     <td></td>        <th>coef</th>     <th>std err</th>      <th>t</th>      <th>P>|t|</th>  <th>[0.025</th>    <th>0.975]</th>  \n",
       "</tr>\n",
       "<tr>\n",
       "  <th>L101700</th> <td>    0.5938</td> <td>    0.007</td> <td>   89.442</td> <td> 0.000</td> <td>    0.581</td> <td>    0.607</td>\n",
       "</tr>\n",
       "<tr>\n",
       "  <th>L103100</th> <td>   -3.1091</td> <td>    0.021</td> <td> -150.425</td> <td> 0.000</td> <td>   -3.150</td> <td>   -3.069</td>\n",
       "</tr>\n",
       "<tr>\n",
       "  <th>L102900</th> <td>    0.7357</td> <td>    0.008</td> <td>   94.871</td> <td> 0.000</td> <td>    0.720</td> <td>    0.751</td>\n",
       "</tr>\n",
       "<tr>\n",
       "  <th>L100800</th> <td>    1.5211</td> <td>    0.020</td> <td>   75.512</td> <td> 0.000</td> <td>    1.482</td> <td>    1.561</td>\n",
       "</tr>\n",
       "<tr>\n",
       "  <th>S000300</th> <td>    0.9852</td> <td>    0.194</td> <td>    5.091</td> <td> 0.000</td> <td>    0.606</td> <td>    1.364</td>\n",
       "</tr>\n",
       "<tr>\n",
       "  <th>S001200</th> <td>   -1.3927</td> <td>    0.068</td> <td>  -20.427</td> <td> 0.000</td> <td>   -1.526</td> <td>   -1.259</td>\n",
       "</tr>\n",
       "<tr>\n",
       "  <th>S000200</th> <td>    0.4900</td> <td>    0.055</td> <td>    8.906</td> <td> 0.000</td> <td>    0.382</td> <td>    0.598</td>\n",
       "</tr>\n",
       "<tr>\n",
       "  <th>L100700</th> <td>    6.0213</td> <td>    0.214</td> <td>   28.176</td> <td> 0.000</td> <td>    5.602</td> <td>    6.440</td>\n",
       "</tr>\n",
       "<tr>\n",
       "  <th>L101300</th> <td>   -0.0918</td> <td>    0.009</td> <td>   -9.810</td> <td> 0.000</td> <td>   -0.110</td> <td>   -0.073</td>\n",
       "</tr>\n",
       "<tr>\n",
       "  <th>L190000</th> <td>    4.3342</td> <td>    0.167</td> <td>   25.895</td> <td> 0.000</td> <td>    4.006</td> <td>    4.662</td>\n",
       "</tr>\n",
       "<tr>\n",
       "  <th>S000502</th> <td>    0.2524</td> <td>    0.030</td> <td>    8.366</td> <td> 0.000</td> <td>    0.193</td> <td>    0.312</td>\n",
       "</tr>\n",
       "<tr>\n",
       "  <th>AGE</th>     <td>   -0.6342</td> <td>    0.060</td> <td>  -10.492</td> <td> 0.000</td> <td>   -0.753</td> <td>   -0.516</td>\n",
       "</tr>\n",
       "<tr>\n",
       "  <th>L100300</th> <td>   20.0155</td> <td>    0.711</td> <td>   28.165</td> <td> 0.000</td> <td>   18.623</td> <td>   21.408</td>\n",
       "</tr>\n",
       "<tr>\n",
       "  <th>L190400</th> <td>   -4.7045</td> <td>    0.212</td> <td>  -22.144</td> <td> 0.000</td> <td>   -5.121</td> <td>   -4.288</td>\n",
       "</tr>\n",
       "</table>\n",
       "<table class=\"simpletable\">\n",
       "<tr>\n",
       "  <th>Omnibus:</th>       <td>96326.602</td> <th>  Durbin-Watson:     </th>   <td>   1.574</td>  \n",
       "</tr>\n",
       "<tr>\n",
       "  <th>Prob(Omnibus):</th>  <td> 0.000</td>   <th>  Jarque-Bera (JB):  </th> <td>11082883.015</td>\n",
       "</tr>\n",
       "<tr>\n",
       "  <th>Skew:</th>           <td> 4.130</td>   <th>  Prob(JB):          </th>   <td>    0.00</td>  \n",
       "</tr>\n",
       "<tr>\n",
       "  <th>Kurtosis:</th>       <td>53.018</td>   <th>  Cond. No.          </th>   <td>    807.</td>  \n",
       "</tr>\n",
       "</table><br/><br/>Warnings:<br/>[1] Standard Errors assume that the covariance matrix of the errors is correctly specified."
      ],
      "text/plain": [
       "<class 'statsmodels.iolib.summary.Summary'>\n",
       "\"\"\"\n",
       "                                 OLS Regression Results                                \n",
       "=======================================================================================\n",
       "Dep. Variable:                L103000   R-squared (uncentered):                   0.781\n",
       "Model:                            OLS   Adj. R-squared (uncentered):              0.781\n",
       "Method:                 Least Squares   F-statistic:                          2.630e+04\n",
       "Date:                Tue, 08 Oct 2019   Prob (F-statistic):                        0.00\n",
       "Time:                        22:31:22   Log-Likelihood:                     -5.9687e+05\n",
       "No. Observations:              103495   AIC:                                  1.194e+06\n",
       "Df Residuals:                  103481   BIC:                                  1.194e+06\n",
       "Df Model:                          14                                                  \n",
       "Covariance Type:            nonrobust                                                  \n",
       "==============================================================================\n",
       "                 coef    std err          t      P>|t|      [0.025      0.975]\n",
       "------------------------------------------------------------------------------\n",
       "L101700        0.5938      0.007     89.442      0.000       0.581       0.607\n",
       "L103100       -3.1091      0.021   -150.425      0.000      -3.150      -3.069\n",
       "L102900        0.7357      0.008     94.871      0.000       0.720       0.751\n",
       "L100800        1.5211      0.020     75.512      0.000       1.482       1.561\n",
       "S000300        0.9852      0.194      5.091      0.000       0.606       1.364\n",
       "S001200       -1.3927      0.068    -20.427      0.000      -1.526      -1.259\n",
       "S000200        0.4900      0.055      8.906      0.000       0.382       0.598\n",
       "L100700        6.0213      0.214     28.176      0.000       5.602       6.440\n",
       "L101300       -0.0918      0.009     -9.810      0.000      -0.110      -0.073\n",
       "L190000        4.3342      0.167     25.895      0.000       4.006       4.662\n",
       "S000502        0.2524      0.030      8.366      0.000       0.193       0.312\n",
       "AGE           -0.6342      0.060    -10.492      0.000      -0.753      -0.516\n",
       "L100300       20.0155      0.711     28.165      0.000      18.623      21.408\n",
       "L190400       -4.7045      0.212    -22.144      0.000      -5.121      -4.288\n",
       "==============================================================================\n",
       "Omnibus:                    96326.602   Durbin-Watson:                   1.574\n",
       "Prob(Omnibus):                  0.000   Jarque-Bera (JB):         11082883.015\n",
       "Skew:                           4.130   Prob(JB):                         0.00\n",
       "Kurtosis:                      53.018   Cond. No.                         807.\n",
       "==============================================================================\n",
       "\n",
       "Warnings:\n",
       "[1] Standard Errors assume that the covariance matrix of the errors is correctly specified.\n",
       "\"\"\""
      ]
     },
     "execution_count": 56,
     "metadata": {},
     "output_type": "execute_result"
    }
   ],
   "source": [
    "regressor_OLS = sm.OLS(endog = y, exog = x).fit()\n",
    "regressor_OLS.summary()"
   ]
  },
  {
   "cell_type": "code",
   "execution_count": null,
   "metadata": {},
   "outputs": [],
   "source": []
  },
  {
   "cell_type": "code",
   "execution_count": null,
   "metadata": {},
   "outputs": [],
   "source": []
  },
  {
   "cell_type": "code",
   "execution_count": null,
   "metadata": {},
   "outputs": [],
   "source": []
  },
  {
   "cell_type": "code",
   "execution_count": 65,
   "metadata": {},
   "outputs": [
    {
     "data": {
      "text/plain": [
       "0.41905907731441905"
      ]
     },
     "execution_count": 65,
     "metadata": {},
     "output_type": "execute_result"
    }
   ],
   "source": [
    "import numpy as np\n",
    "from sklearn.linear_model import LinearRegression \n",
    "reg = LinearRegression().fit(xtest, ytest)\n",
    "reg.score(x, y)"
   ]
  },
  {
   "cell_type": "code",
   "execution_count": 66,
   "metadata": {},
   "outputs": [],
   "source": [
    "ypred=regr.predict(xtest)"
   ]
  },
  {
   "cell_type": "code",
   "execution_count": 67,
   "metadata": {},
   "outputs": [
    {
     "name": "stdout",
     "output_type": "stream",
     "text": [
      "mean_squared_error 0.000752215875586117\n",
      "root mean_squared_error 0.027426554205479715\n",
      "mean_absolute_error 0.01676265104405104\n",
      "r2_score 0.47679782116386815\n"
     ]
    },
    {
     "data": {
      "image/png": "[encoded data removed]",
      "text/plain": [
       "<Figure size 432x288 with 1 Axes>"
      ]
     },
     "metadata": {
      "needs_background": "light"
     },
     "output_type": "display_data"
    },
    {
     "data": {
      "text/html": [
       "<div>\n",
       "<style scoped>\n",
       "    .dataframe tbody tr th:only-of-type {\n",
       "        vertical-align: middle;\n",
       "    }\n",
       "\n",
       "    .dataframe tbody tr th {\n",
       "        vertical-align: top;\n",
       "    }\n",
       "\n",
       "    .dataframe thead th {\n",
       "        text-align: right;\n",
       "    }\n",
       "</style>\n",
       "<table border=\"1\" class=\"dataframe\">\n",
       "  <thead>\n",
       "    <tr style=\"text-align: right;\">\n",
       "      <th></th>\n",
       "      <th>t + 1</th>\n",
       "      <th>pred (t +1)</th>\n",
       "    </tr>\n",
       "  </thead>\n",
       "  <tbody>\n",
       "    <tr>\n",
       "      <th>4335</th>\n",
       "      <td>0.468069</td>\n",
       "      <td>0.248726</td>\n",
       "    </tr>\n",
       "    <tr>\n",
       "      <th>884</th>\n",
       "      <td>0.470323</td>\n",
       "      <td>0.104602</td>\n",
       "    </tr>\n",
       "    <tr>\n",
       "      <th>1174</th>\n",
       "      <td>0.472577</td>\n",
       "      <td>0.226757</td>\n",
       "    </tr>\n",
       "    <tr>\n",
       "      <th>11402</th>\n",
       "      <td>0.513524</td>\n",
       "      <td>0.082528</td>\n",
       "    </tr>\n",
       "    <tr>\n",
       "      <th>5682</th>\n",
       "      <td>0.531180</td>\n",
       "      <td>0.165111</td>\n",
       "    </tr>\n",
       "    <tr>\n",
       "      <th>9046</th>\n",
       "      <td>0.540195</td>\n",
       "      <td>0.186879</td>\n",
       "    </tr>\n",
       "    <tr>\n",
       "      <th>7712</th>\n",
       "      <td>0.555222</td>\n",
       "      <td>0.683546</td>\n",
       "    </tr>\n",
       "    <tr>\n",
       "      <th>5960</th>\n",
       "      <td>0.558978</td>\n",
       "      <td>0.388150</td>\n",
       "    </tr>\n",
       "    <tr>\n",
       "      <th>19816</th>\n",
       "      <td>0.583020</td>\n",
       "      <td>0.609835</td>\n",
       "    </tr>\n",
       "    <tr>\n",
       "      <th>4543</th>\n",
       "      <td>0.880917</td>\n",
       "      <td>0.253875</td>\n",
       "    </tr>\n",
       "  </tbody>\n",
       "</table>\n",
       "</div>"
      ],
      "text/plain": [
       "          t + 1  pred (t +1)\n",
       "4335   0.468069     0.248726\n",
       "884    0.470323     0.104602\n",
       "1174   0.472577     0.226757\n",
       "11402  0.513524     0.082528\n",
       "5682   0.531180     0.165111\n",
       "9046   0.540195     0.186879\n",
       "7712   0.555222     0.683546\n",
       "5960   0.558978     0.388150\n",
       "19816  0.583020     0.609835\n",
       "4543   0.880917     0.253875"
      ]
     },
     "execution_count": 67,
     "metadata": {},
     "output_type": "execute_result"
    },
    {
     "data": {
      "image/png": "[encoded data removed]",
      "text/plain": [
       "<Figure size 432x288 with 1 Axes>"
      ]
     },
     "metadata": {
      "needs_background": "light"
     },
     "output_type": "display_data"
    }
   ],
   "source": [
    "\n",
    "print('mean_squared_error',m.mean_squared_error(ytest, ypred))\n",
    "print('root mean_squared_error',math.sqrt(m.mean_squared_error(ytest, ypred)))\n",
    "print('mean_absolute_error',m.mean_absolute_error(ytest, ypred))\n",
    "print('r2_score',m.r2_score(ytest, ypred))\n",
    "\n",
    "ypredPD=pd.DataFrame()\n",
    "# ypredPD['t']=xtest['S000501_x'].values\n",
    "ypredPD['t + 1']=ytest.ravel() # ytest.values.ravel()\n",
    "ypredPD['pred (t +1)']=ypred\n",
    "ypredPD.head(30)\n",
    "\n",
    "import matplotlib.patches as mpatches\n",
    "plt.ylabel('Values')\n",
    "plt.xlabel('index')\n",
    "red_patch = mpatches.Patch(color='red', label='Actual data')\n",
    "blue_patch = mpatches.Patch(color='blue', label='Predicted data')\n",
    "plt.legend(handles=[red_patch,blue_patch])\n",
    "\n",
    "ypredPD=ypredPD.sort_values(by=['t + 1'])\n",
    "plt.scatter(np.arange(0,ypredPD.shape[0],1),ypredPD['pred (t +1)'][:ypredPD.shape[0]])\n",
    "plt.plot(np.arange(0,ypredPD.shape[0],1),ypredPD['t + 1'][:ypredPD.shape[0]],color='red')\n",
    "plt.show()\n",
    "\n",
    "plt.ylabel('p*(t+1), Predicted data')\n",
    "plt.xlabel('p(t+1), Actual data')\n",
    "plt.scatter(ypredPD['t + 1'][:ypredPD.shape[0]],ypredPD['pred (t +1)'][:ypredPD.shape[0]])\n",
    "\n",
    "ypredPD.tail(10)"
   ]
  },
  {
   "cell_type": "code",
   "execution_count": null,
   "metadata": {},
   "outputs": [],
   "source": []
  }
 ],
 "metadata": {
  "kernelspec": {
   "display_name": "Python 3",
   "language": "python",
   "name": "python3"
  },
  "language_info": {
   "codemirror_mode": {
    "name": "ipython",
    "version": 3
   },
   "file_extension": ".py",
   "mimetype": "text/x-python",
   "name": "python",
   "nbconvert_exporter": "python",
   "pygments_lexer": "ipython3",
   "version": "3.7.3"
  }
 },
 "nbformat": 4,
 "nbformat_minor": 2
}

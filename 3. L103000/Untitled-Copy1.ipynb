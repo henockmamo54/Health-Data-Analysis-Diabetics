{
 "cells": [
  {
   "cell_type": "code",
   "execution_count": 1,
   "metadata": {},
   "outputs": [],
   "source": [
    "import numpy as np\n",
    "import pandas as pd \n",
    "import warnings\n",
    "warnings.filterwarnings('ignore')\n",
    "from sklearn.model_selection import train_test_split\n",
    "from sklearn.ensemble import RandomForestRegressor\n",
    "from sklearn import metrics as m\n",
    "from matplotlib import pyplot as plt\n",
    "import math"
   ]
  },
  {
   "cell_type": "code",
   "execution_count": 2,
   "metadata": {},
   "outputs": [],
   "source": [
    "data= pd.read_csv('../sep19SexAndAgeAddedFINAL DATASET_ver2.txt',sep=',')\n",
    "data=data.drop(columns=['B_DAY'])"
   ]
  },
  {
   "cell_type": "code",
   "execution_count": 3,
   "metadata": {},
   "outputs": [],
   "source": [
    "data=data.query('FIELD_16 != 1 and FIELD_23 != 1')\n",
    "\n",
    "data=data[data.SEX==0]\n",
    "data=data[data.FIELD_15!=1]\n",
    "data=data[data.FIELD_17!=1]\n",
    "data=data[data.FIELD_22!=1]\n",
    "data=data[data.FIELD_24!=1]\n",
    "data=data[data.AGE<40]"
   ]
  },
  {
   "cell_type": "code",
   "execution_count": 4,
   "metadata": {},
   "outputs": [],
   "source": [
    "# data.groupby(by=['FIELD_16','FIELD_23']).size().reset_index(name='freq')"
   ]
  },
  {
   "cell_type": "code",
   "execution_count": 6,
   "metadata": {},
   "outputs": [],
   "source": [
    "data2=data[['L103000', 'L101700', 'L103100', 'L102900', 'L100800', 'S000300', 'S001200', \n",
    "                       'S000200', 'L100700', 'L101300', 'L190000', 'S000502', 'S000501', 'AGE', 'L100300', 'L190400', \n",
    "                       'L100100', 'L190800', 'L101000', 'L190300', 'L101600','SEX','FIELD_17','FIELD_22','FIELD_24',\n",
    "'FIELD_33', 'FIELD_38', 'FIELD_31', 'FIELD_40', 'FIELD_41', 'FIELD_42', 'FIELD_29', 'FIELD_27', 'FIELD_28', 'FIELD_25', \n",
    "                       'FIELD_32',  'FIELD_21', 'FIELD_19', 'FIELD_26', 'FIELD_18', 'FIELD_14', 'FIELD_13', \n",
    "                       'FIELD_20', 'FIELD_15', 'FIELD_16']].dropna()"
   ]
  },
  {
   "cell_type": "code",
   "execution_count": 37,
   "metadata": {},
   "outputs": [],
   "source": [
    "temppd=pd.DataFrame(x) #data2.copy()\n",
    "temppd['y']=data2.L103000\n",
    "temppd.head()\n",
    "corval=abs(temppd.corr()).sort_values(by='y', ascending=False)\n"
   ]
  },
  {
   "cell_type": "code",
   "execution_count": 52,
   "metadata": {},
   "outputs": [
    {
     "data": {
      "text/plain": [
       "Index(['y', 'L101700', 'L103100', 'L102900', 'L100800', 'S000300', 'S001200',\n",
       "       'S000200', 'L100700', 'L101300', 'L190000', 'S000502', 'S000501',\n",
       "       'L100300', 'L100100'],\n",
       "      dtype='object')"
      ]
     },
     "execution_count": 52,
     "metadata": {},
     "output_type": "execute_result"
    }
   ],
   "source": [
    "corval.y[:15].index"
   ]
  },
  {
   "cell_type": "code",
   "execution_count": 46,
   "metadata": {},
   "outputs": [],
   "source": [
    "x=data2[['L101700', 'L103100', 'L102900', 'L100800', 'S000300', 'S001200',\n",
    "       'S000200', 'L100700', 'L101300']]\n",
    "\n",
    "y=data2[['L103000']]"
   ]
  },
  {
   "cell_type": "code",
   "execution_count": 28,
   "metadata": {},
   "outputs": [
    {
     "name": "stdout",
     "output_type": "stream",
     "text": [
      "[  0.49206971  -2.95751906   0.72811891   1.60666403   0.9025088\n",
      "  -0.61270553   0.118656     5.94142757  -0.08803748   3.93068828\n",
      "   0.24642329   0.13223759  -0.03804127  20.31589214   0.42498386\n",
      "   6.82290819   7.88666222 -15.39671617  -0.96943914  -0.18114056\n",
      "   0.           0.           0.           0.           7.80757591\n",
      "   4.4874006   -1.26246796  -0.02466989  -0.78879086  -0.50479377\n",
      "   0.           0.          -0.           0.           0.02658205\n",
      "   0.          -0.          -0.           0.2588781    0.\n",
      "   0.           0.           0.           0.        ]\n",
      "[-463.23604088]\n"
     ]
    },
    {
     "data": {
      "text/html": [
       "<div>\n",
       "<style scoped>\n",
       "    .dataframe tbody tr th:only-of-type {\n",
       "        vertical-align: middle;\n",
       "    }\n",
       "\n",
       "    .dataframe tbody tr th {\n",
       "        vertical-align: top;\n",
       "    }\n",
       "\n",
       "    .dataframe thead th {\n",
       "        text-align: right;\n",
       "    }\n",
       "</style>\n",
       "<table border=\"1\" class=\"dataframe\">\n",
       "  <thead>\n",
       "    <tr style=\"text-align: right;\">\n",
       "      <th></th>\n",
       "      <th>Name</th>\n",
       "      <th>coeff</th>\n",
       "    </tr>\n",
       "  </thead>\n",
       "  <tbody>\n",
       "    <tr>\n",
       "      <th>0</th>\n",
       "      <td>L101700</td>\n",
       "      <td>0.492070</td>\n",
       "    </tr>\n",
       "    <tr>\n",
       "      <th>1</th>\n",
       "      <td>L103100</td>\n",
       "      <td>-2.957519</td>\n",
       "    </tr>\n",
       "    <tr>\n",
       "      <th>2</th>\n",
       "      <td>L102900</td>\n",
       "      <td>0.728119</td>\n",
       "    </tr>\n",
       "    <tr>\n",
       "      <th>3</th>\n",
       "      <td>L100800</td>\n",
       "      <td>1.606664</td>\n",
       "    </tr>\n",
       "    <tr>\n",
       "      <th>4</th>\n",
       "      <td>S000300</td>\n",
       "      <td>0.902509</td>\n",
       "    </tr>\n",
       "    <tr>\n",
       "      <th>5</th>\n",
       "      <td>S001200</td>\n",
       "      <td>-0.612706</td>\n",
       "    </tr>\n",
       "    <tr>\n",
       "      <th>6</th>\n",
       "      <td>S000200</td>\n",
       "      <td>0.118656</td>\n",
       "    </tr>\n",
       "    <tr>\n",
       "      <th>7</th>\n",
       "      <td>L100700</td>\n",
       "      <td>5.941428</td>\n",
       "    </tr>\n",
       "    <tr>\n",
       "      <th>8</th>\n",
       "      <td>L101300</td>\n",
       "      <td>-0.088037</td>\n",
       "    </tr>\n",
       "    <tr>\n",
       "      <th>9</th>\n",
       "      <td>L190000</td>\n",
       "      <td>3.930688</td>\n",
       "    </tr>\n",
       "    <tr>\n",
       "      <th>10</th>\n",
       "      <td>S000502</td>\n",
       "      <td>0.246423</td>\n",
       "    </tr>\n",
       "    <tr>\n",
       "      <th>11</th>\n",
       "      <td>S000501</td>\n",
       "      <td>0.132238</td>\n",
       "    </tr>\n",
       "    <tr>\n",
       "      <th>12</th>\n",
       "      <td>AGE</td>\n",
       "      <td>-0.038041</td>\n",
       "    </tr>\n",
       "    <tr>\n",
       "      <th>13</th>\n",
       "      <td>L100300</td>\n",
       "      <td>20.315892</td>\n",
       "    </tr>\n",
       "    <tr>\n",
       "      <th>14</th>\n",
       "      <td>L190400</td>\n",
       "      <td>0.424984</td>\n",
       "    </tr>\n",
       "    <tr>\n",
       "      <th>15</th>\n",
       "      <td>L100100</td>\n",
       "      <td>6.822908</td>\n",
       "    </tr>\n",
       "    <tr>\n",
       "      <th>16</th>\n",
       "      <td>L190800</td>\n",
       "      <td>7.886662</td>\n",
       "    </tr>\n",
       "    <tr>\n",
       "      <th>17</th>\n",
       "      <td>L101000</td>\n",
       "      <td>-15.396716</td>\n",
       "    </tr>\n",
       "    <tr>\n",
       "      <th>18</th>\n",
       "      <td>L190300</td>\n",
       "      <td>-0.969439</td>\n",
       "    </tr>\n",
       "    <tr>\n",
       "      <th>19</th>\n",
       "      <td>L101600</td>\n",
       "      <td>-0.181141</td>\n",
       "    </tr>\n",
       "    <tr>\n",
       "      <th>24</th>\n",
       "      <td>FIELD_33</td>\n",
       "      <td>7.807576</td>\n",
       "    </tr>\n",
       "    <tr>\n",
       "      <th>25</th>\n",
       "      <td>FIELD_38</td>\n",
       "      <td>4.487401</td>\n",
       "    </tr>\n",
       "    <tr>\n",
       "      <th>26</th>\n",
       "      <td>FIELD_31</td>\n",
       "      <td>-1.262468</td>\n",
       "    </tr>\n",
       "    <tr>\n",
       "      <th>27</th>\n",
       "      <td>FIELD_40</td>\n",
       "      <td>-0.024670</td>\n",
       "    </tr>\n",
       "    <tr>\n",
       "      <th>28</th>\n",
       "      <td>FIELD_41</td>\n",
       "      <td>-0.788791</td>\n",
       "    </tr>\n",
       "    <tr>\n",
       "      <th>29</th>\n",
       "      <td>FIELD_42</td>\n",
       "      <td>-0.504794</td>\n",
       "    </tr>\n",
       "    <tr>\n",
       "      <th>34</th>\n",
       "      <td>FIELD_32</td>\n",
       "      <td>0.026582</td>\n",
       "    </tr>\n",
       "    <tr>\n",
       "      <th>38</th>\n",
       "      <td>FIELD_18</td>\n",
       "      <td>0.258878</td>\n",
       "    </tr>\n",
       "  </tbody>\n",
       "</table>\n",
       "</div>"
      ],
      "text/plain": [
       "        Name      coeff\n",
       "0    L101700   0.492070\n",
       "1    L103100  -2.957519\n",
       "2    L102900   0.728119\n",
       "3    L100800   1.606664\n",
       "4    S000300   0.902509\n",
       "5    S001200  -0.612706\n",
       "6    S000200   0.118656\n",
       "7    L100700   5.941428\n",
       "8    L101300  -0.088037\n",
       "9    L190000   3.930688\n",
       "10   S000502   0.246423\n",
       "11   S000501   0.132238\n",
       "12       AGE  -0.038041\n",
       "13   L100300  20.315892\n",
       "14   L190400   0.424984\n",
       "15   L100100   6.822908\n",
       "16   L190800   7.886662\n",
       "17   L101000 -15.396716\n",
       "18   L190300  -0.969439\n",
       "19   L101600  -0.181141\n",
       "24  FIELD_33   7.807576\n",
       "25  FIELD_38   4.487401\n",
       "26  FIELD_31  -1.262468\n",
       "27  FIELD_40  -0.024670\n",
       "28  FIELD_41  -0.788791\n",
       "29  FIELD_42  -0.504794\n",
       "34  FIELD_32   0.026582\n",
       "38  FIELD_18   0.258878"
      ]
     },
     "execution_count": 28,
     "metadata": {},
     "output_type": "execute_result"
    }
   ],
   "source": [
    "from sklearn import linear_model\n",
    "clf = linear_model.Lasso(alpha=0.1)\n",
    "clf.fit(x,y)\n",
    "\n",
    "print(clf.coef_)\n",
    "\n",
    "print(clf.intercept_)  \n",
    "\n",
    "# pd.DataFrame([x.columns.ravel(),clf.coef_.ravel()],columns=['Name','coeff'])\n",
    "\n",
    "lassod=pd.DataFrame()\n",
    "lassod['Name']=x.columns\n",
    "lassod['coeff']=clf.coef_\n",
    "lassod\n",
    "\n",
    "lassod=lassod.drop(lassod[lassod.coeff==0].index)\n",
    "lassod"
   ]
  },
  {
   "cell_type": "code",
   "execution_count": 29,
   "metadata": {},
   "outputs": [],
   "source": [
    "# # x.S000200=np.log2(x.S000200)\n",
    "# xorg=x.copy()\n",
    "# for i in x.columns:\n",
    "#     x[i]=np.power(x[i],10)\n",
    "    \n",
    "# x=pd.concat([x,xorg])\n",
    "# y=pd.concat([y,y])"
   ]
  },
  {
   "cell_type": "code",
   "execution_count": 30,
   "metadata": {},
   "outputs": [],
   "source": [
    "# from sklearn import preprocessing\n",
    "# min_max_scaler = preprocessing.StandardScaler()  #MinMaxScaler()\n",
    "# x = min_max_scaler.fit_transform(x)"
   ]
  },
  {
   "cell_type": "code",
   "execution_count": null,
   "metadata": {},
   "outputs": [],
   "source": []
  },
  {
   "cell_type": "code",
   "execution_count": 53,
   "metadata": {},
   "outputs": [],
   "source": [
    "x=data2[['L101700', 'L103100', 'L102900', 'L100800', 'S000300', 'S001200',\n",
    "       'S000200', 'L100700', 'L101300', 'L190000', 'S000502', 'S000501',\n",
    "       'L100300', 'L100100']]\n",
    "y=y=data2[['L103000']]"
   ]
  },
  {
   "cell_type": "code",
   "execution_count": null,
   "metadata": {},
   "outputs": [],
   "source": []
  },
  {
   "cell_type": "code",
   "execution_count": 54,
   "metadata": {},
   "outputs": [],
   "source": [
    "xtrain,xtest,ytrain,ytest=train_test_split(x, y, random_state=42, test_size=0.2)"
   ]
  },
  {
   "cell_type": "code",
   "execution_count": 55,
   "metadata": {},
   "outputs": [],
   "source": [
    "# x.dtypes"
   ]
  },
  {
   "cell_type": "code",
   "execution_count": 56,
   "metadata": {},
   "outputs": [
    {
     "name": "stdout",
     "output_type": "stream",
     "text": [
      "[0.29924782 0.30110949 0.16904337 0.08560249 0.00220902 0.00128168\n",
      " 0.00166389 0.00792721 0.00468883 0.00270062 0.00157012 0.0021543\n",
      " 0.09602713 0.02477405]\n"
     ]
    }
   ],
   "source": [
    "regr = RandomForestRegressor(max_depth=7, random_state=0,verbose =0,n_estimators=50)\n",
    "regr.fit(xtrain, ytrain) \n",
    "print(regr.feature_importances_)\n",
    "ypred=regr.predict(xtest)\n"
   ]
  },
  {
   "cell_type": "code",
   "execution_count": 57,
   "metadata": {},
   "outputs": [
    {
     "name": "stdout",
     "output_type": "stream",
     "text": [
      "mean_squared_error 5052.005867721494\n",
      "root mean_squared_error 71.07746385262698\n",
      "mean_absolute_error 44.60930953954557\n",
      "r2_score 0.5041383653883915\n"
     ]
    },
    {
     "data": {
      "image/png": "[encoded data removed]",
      "text/plain": [
       "<Figure size 432x288 with 1 Axes>"
      ]
     },
     "metadata": {
      "needs_background": "light"
     },
     "output_type": "display_data"
    },
    {
     "data": {
      "text/html": [
       "<div>\n",
       "<style scoped>\n",
       "    .dataframe tbody tr th:only-of-type {\n",
       "        vertical-align: middle;\n",
       "    }\n",
       "\n",
       "    .dataframe tbody tr th {\n",
       "        vertical-align: top;\n",
       "    }\n",
       "\n",
       "    .dataframe thead th {\n",
       "        text-align: right;\n",
       "    }\n",
       "</style>\n",
       "<table border=\"1\" class=\"dataframe\">\n",
       "  <thead>\n",
       "    <tr style=\"text-align: right;\">\n",
       "      <th></th>\n",
       "      <th>t + 1</th>\n",
       "      <th>pred (t +1)</th>\n",
       "    </tr>\n",
       "  </thead>\n",
       "  <tbody>\n",
       "    <tr>\n",
       "      <th>8521</th>\n",
       "      <td>1347.0</td>\n",
       "      <td>481.929510</td>\n",
       "    </tr>\n",
       "    <tr>\n",
       "      <th>1253</th>\n",
       "      <td>1425.0</td>\n",
       "      <td>447.311092</td>\n",
       "    </tr>\n",
       "    <tr>\n",
       "      <th>8979</th>\n",
       "      <td>1444.0</td>\n",
       "      <td>546.635886</td>\n",
       "    </tr>\n",
       "    <tr>\n",
       "      <th>8634</th>\n",
       "      <td>1449.0</td>\n",
       "      <td>644.463207</td>\n",
       "    </tr>\n",
       "    <tr>\n",
       "      <th>8568</th>\n",
       "      <td>1563.0</td>\n",
       "      <td>1632.287171</td>\n",
       "    </tr>\n",
       "    <tr>\n",
       "      <th>37</th>\n",
       "      <td>1569.0</td>\n",
       "      <td>649.669305</td>\n",
       "    </tr>\n",
       "    <tr>\n",
       "      <th>5889</th>\n",
       "      <td>1934.0</td>\n",
       "      <td>1116.062557</td>\n",
       "    </tr>\n",
       "    <tr>\n",
       "      <th>1809</th>\n",
       "      <td>2013.0</td>\n",
       "      <td>2043.825000</td>\n",
       "    </tr>\n",
       "    <tr>\n",
       "      <th>2204</th>\n",
       "      <td>2288.0</td>\n",
       "      <td>1238.981603</td>\n",
       "    </tr>\n",
       "    <tr>\n",
       "      <th>11975</th>\n",
       "      <td>2318.0</td>\n",
       "      <td>1787.127550</td>\n",
       "    </tr>\n",
       "  </tbody>\n",
       "</table>\n",
       "</div>"
      ],
      "text/plain": [
       "        t + 1  pred (t +1)\n",
       "8521   1347.0   481.929510\n",
       "1253   1425.0   447.311092\n",
       "8979   1444.0   546.635886\n",
       "8634   1449.0   644.463207\n",
       "8568   1563.0  1632.287171\n",
       "37     1569.0   649.669305\n",
       "5889   1934.0  1116.062557\n",
       "1809   2013.0  2043.825000\n",
       "2204   2288.0  1238.981603\n",
       "11975  2318.0  1787.127550"
      ]
     },
     "execution_count": 57,
     "metadata": {},
     "output_type": "execute_result"
    },
    {
     "data": {
      "image/png": "[encoded data removed]",
      "text/plain": [
       "<Figure size 432x288 with 1 Axes>"
      ]
     },
     "metadata": {
      "needs_background": "light"
     },
     "output_type": "display_data"
    }
   ],
   "source": [
    "\n",
    "print('mean_squared_error',m.mean_squared_error(ytest, ypred))\n",
    "print('root mean_squared_error',math.sqrt(m.mean_squared_error(ytest, ypred)))\n",
    "print('mean_absolute_error',m.mean_absolute_error(ytest, ypred))\n",
    "print('r2_score',m.r2_score(ytest, ypred))\n",
    "\n",
    "ypredPD=pd.DataFrame()\n",
    "# ypredPD['t']=xtest['S000501_x'].values\n",
    "ypredPD['t + 1']=ytest.values.ravel()\n",
    "ypredPD['pred (t +1)']=ypred\n",
    "ypredPD.head(30)\n",
    "\n",
    "import matplotlib.patches as mpatches\n",
    "plt.ylabel('Values')\n",
    "plt.xlabel('index')\n",
    "red_patch = mpatches.Patch(color='red', label='Actual data')\n",
    "blue_patch = mpatches.Patch(color='blue', label='Predicted data')\n",
    "plt.legend(handles=[red_patch,blue_patch])\n",
    "\n",
    "ypredPD=ypredPD.sort_values(by=['t + 1'])\n",
    "plt.scatter(np.arange(0,ypredPD.shape[0],1),ypredPD['pred (t +1)'][:ypredPD.shape[0]])\n",
    "plt.plot(np.arange(0,ypredPD.shape[0],1),ypredPD['t + 1'][:ypredPD.shape[0]],color='red')\n",
    "plt.show()\n",
    "\n",
    "plt.ylabel('p*(t+1), Predicted data')\n",
    "plt.xlabel('p(t+1), Actual data')\n",
    "plt.scatter(ypredPD['t + 1'][:ypredPD.shape[0]],ypredPD['pred (t +1)'][:ypredPD.shape[0]])\n",
    "\n",
    "ypredPD.tail(10)"
   ]
  },
  {
   "cell_type": "code",
   "execution_count": 58,
   "metadata": {},
   "outputs": [
    {
     "data": {
      "text/plain": [
       "Index(['Unnamed: 0', 'FIELD_1', 'FIELD_2', 'COMPARE', 'AGE', 'SEX', 'FIELD_3',\n",
       "       'FIELD_4', 'FIELD_5', 'FIELD_6',\n",
       "       ...\n",
       "       'S004423', 'S004424', 'S005200', 'S007400', 'S008501', 'S008502',\n",
       "       'S008503', 'S008504', 'S010101', 'S010102'],\n",
       "      dtype='object', length=405)"
      ]
     },
     "execution_count": 58,
     "metadata": {},
     "output_type": "execute_result"
    }
   ],
   "source": [
    "data.columns"
   ]
  },
  {
   "cell_type": "code",
   "execution_count": null,
   "metadata": {
    "scrolled": true
   },
   "outputs": [],
   "source": [
    "# for i in data2.columns:\n",
    "#     plt.scatter(data2.L103000,data2[i])\n",
    "#     plt.show()\n",
    "# #     print(i)"
   ]
  },
  {
   "cell_type": "code",
   "execution_count": null,
   "metadata": {},
   "outputs": [],
   "source": [
    "# plt.hist(data.L103100,bins=50)"
   ]
  },
  {
   "cell_type": "code",
   "execution_count": null,
   "metadata": {},
   "outputs": [],
   "source": []
  }
 ],
 "metadata": {
  "kernelspec": {
   "display_name": "Python 3",
   "language": "python",
   "name": "python3"
  },
  "language_info": {
   "codemirror_mode": {
    "name": "ipython",
    "version": 3
   },
   "file_extension": ".py",
   "mimetype": "text/x-python",
   "name": "python",
   "nbconvert_exporter": "python",
   "pygments_lexer": "ipython3",
   "version": "3.7.3"
  }
 },
 "nbformat": 4,
 "nbformat_minor": 2
}

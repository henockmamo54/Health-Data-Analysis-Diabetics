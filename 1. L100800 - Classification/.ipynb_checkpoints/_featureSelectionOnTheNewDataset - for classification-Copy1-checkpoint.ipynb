{
 "cells": [
  {
   "cell_type": "code",
   "execution_count": 1,
   "metadata": {},
   "outputs": [],
   "source": [
    "import numpy as np\n",
    "import pandas as pd \n",
    "import warnings\n",
    "warnings.filterwarnings('ignore')\n",
    "from scipy.stats import chi2_contingency\n",
    "from scipy import stats"
   ]
  },
  {
   "cell_type": "markdown",
   "metadata": {},
   "source": [
    "1. Read the dataset \n",
    "========"
   ]
  },
  {
   "cell_type": "code",
   "execution_count": 2,
   "metadata": {},
   "outputs": [
    {
     "name": "stdout",
     "output_type": "stream",
     "text": [
      "(535169, 404)\n"
     ]
    }
   ],
   "source": [
    "data= pd.read_csv('../sep19SexAndAgeAddedFINAL DATASET_ver2.txt',sep=',')\n",
    "\n",
    "data['max']=np.min(data[['FIELD_6','FIELD_7']],axis=1) #combine FIELD_6 and FIELD_7 both represent the same thing (Women's marital status)\n",
    "data=data.drop(columns=['FIELD_6','FIELD_7','B_DAY'])\n",
    "print(data.shape)"
   ]
  },
  {
   "cell_type": "code",
   "execution_count": 3,
   "metadata": {},
   "outputs": [],
   "source": [
    "# add Class to the dataset \n",
    "conditions = [\n",
    "    (data.L100800 < 100)  ,\n",
    "    (data.L100800 >= 100) & (data.L100800 < 126),\n",
    "    (data.L100800 >= 126)]\n",
    "choices = [0,1,2]\n",
    "data['CLASS'] = np.select(conditions, choices, default=0) "
   ]
  },
  {
   "cell_type": "code",
   "execution_count": 4,
   "metadata": {},
   "outputs": [],
   "source": [
    "# filter the data set \n",
    "data=data[data.FIELD_16!=1] # exclude people who are diagnosed for (diabetes) \n",
    "data=data[data.FIELD_23!=1] # exclude people who are on medication for diabetes\n",
    "\n",
    "data=data[data.FIELD_15!=1] # exclude people who are diagnosed for (high blood pressure)\n",
    "data=data[data.FIELD_22!=1] # exclude people who are on medication for high blood pressure\n",
    "\n",
    "data=data[data.FIELD_17!=1] # exclude people who are diagnosed for hyperlipidemia\n",
    "data=data[data.FIELD_24!=1] # exclude people who are on medication for hyperlipidemia"
   ]
  },
  {
   "cell_type": "code",
   "execution_count": 5,
   "metadata": {},
   "outputs": [],
   "source": [
    "#split column types to categorical and numerical\n",
    "numerical_cols = list(data.columns[~data.columns.str.startswith('FIELD')])\n",
    "categorical_cols = list(data.columns[data.columns.str.startswith('FIELD')])\n",
    "categorical_cols.append('CLASS')"
   ]
  },
  {
   "cell_type": "markdown",
   "metadata": {},
   "source": [
    "2 Feature Selection\n",
    "==========="
   ]
  },
  {
   "cell_type": "markdown",
   "metadata": {},
   "source": [
    "2.1 Calculate correlation Value - for numerical values\n",
    "========"
   ]
  },
  {
   "cell_type": "markdown",
   "metadata": {},
   "source": [
    "2.1.1 Pearson Correlation\n",
    "======"
   ]
  },
  {
   "cell_type": "code",
   "execution_count": 6,
   "metadata": {},
   "outputs": [
    {
     "data": {
      "text/html": [
       "<div>\n",
       "<style scoped>\n",
       "    .dataframe tbody tr th:only-of-type {\n",
       "        vertical-align: middle;\n",
       "    }\n",
       "\n",
       "    .dataframe tbody tr th {\n",
       "        vertical-align: top;\n",
       "    }\n",
       "\n",
       "    .dataframe thead th {\n",
       "        text-align: right;\n",
       "    }\n",
       "</style>\n",
       "<table border=\"1\" class=\"dataframe\">\n",
       "  <thead>\n",
       "    <tr style=\"text-align: right;\">\n",
       "      <th></th>\n",
       "      <th>Col</th>\n",
       "      <th>val</th>\n",
       "    </tr>\n",
       "  </thead>\n",
       "  <tbody>\n",
       "    <tr>\n",
       "      <th>276</th>\n",
       "      <td>CLASS</td>\n",
       "      <td>1.000000</td>\n",
       "    </tr>\n",
       "    <tr>\n",
       "      <th>148</th>\n",
       "      <td>L501600</td>\n",
       "      <td>1.000000</td>\n",
       "    </tr>\n",
       "    <tr>\n",
       "      <th>152</th>\n",
       "      <td>L502000</td>\n",
       "      <td>0.956054</td>\n",
       "    </tr>\n",
       "    <tr>\n",
       "      <th>117</th>\n",
       "      <td>L303204</td>\n",
       "      <td>0.774597</td>\n",
       "    </tr>\n",
       "    <tr>\n",
       "      <th>114</th>\n",
       "      <td>L303201</td>\n",
       "      <td>0.774597</td>\n",
       "    </tr>\n",
       "  </tbody>\n",
       "</table>\n",
       "</div>"
      ],
      "text/plain": [
       "         Col       val\n",
       "276    CLASS  1.000000\n",
       "148  L501600  1.000000\n",
       "152  L502000  0.956054\n",
       "117  L303204  0.774597\n",
       "114  L303201  0.774597"
      ]
     },
     "execution_count": 6,
     "metadata": {},
     "output_type": "execute_result"
    }
   ],
   "source": [
    "corr=data[numerical_cols].corr() # compute the correlation value\n",
    "corr=corr.CLASS # select the correlation values of the Class\n",
    "\n",
    "# convert correlation values to dataframe\n",
    "corrvalPD=pd.DataFrame()\n",
    "corrvalPD['Col']=corr.index\n",
    "corrvalPD['val']=abs(corr.values)\n",
    "\n",
    "corrvalPD=corrvalPD.sort_values(by='val',ascending=False)\n",
    "corrvalPD.head()"
   ]
  },
  {
   "cell_type": "code",
   "execution_count": 7,
   "metadata": {},
   "outputs": [
    {
     "data": {
      "text/html": [
       "<div>\n",
       "<style scoped>\n",
       "    .dataframe tbody tr th:only-of-type {\n",
       "        vertical-align: middle;\n",
       "    }\n",
       "\n",
       "    .dataframe tbody tr th {\n",
       "        vertical-align: top;\n",
       "    }\n",
       "\n",
       "    .dataframe thead th {\n",
       "        text-align: right;\n",
       "    }\n",
       "</style>\n",
       "<table border=\"1\" class=\"dataframe\">\n",
       "  <thead>\n",
       "    <tr style=\"text-align: right;\">\n",
       "      <th></th>\n",
       "      <th>Col</th>\n",
       "      <th>Count</th>\n",
       "    </tr>\n",
       "  </thead>\n",
       "  <tbody>\n",
       "    <tr>\n",
       "      <th>0</th>\n",
       "      <td>Unnamed: 0</td>\n",
       "      <td>466680</td>\n",
       "    </tr>\n",
       "    <tr>\n",
       "      <th>1</th>\n",
       "      <td>COMPARE</td>\n",
       "      <td>466680</td>\n",
       "    </tr>\n",
       "    <tr>\n",
       "      <th>2</th>\n",
       "      <td>AGE</td>\n",
       "      <td>466679</td>\n",
       "    </tr>\n",
       "    <tr>\n",
       "      <th>3</th>\n",
       "      <td>SEX</td>\n",
       "      <td>466679</td>\n",
       "    </tr>\n",
       "    <tr>\n",
       "      <th>4</th>\n",
       "      <td>L100100</td>\n",
       "      <td>446887</td>\n",
       "    </tr>\n",
       "  </tbody>\n",
       "</table>\n",
       "</div>"
      ],
      "text/plain": [
       "          Col   Count\n",
       "0  Unnamed: 0  466680\n",
       "1     COMPARE  466680\n",
       "2         AGE  466679\n",
       "3         SEX  466679\n",
       "4     L100100  446887"
      ]
     },
     "execution_count": 7,
     "metadata": {},
     "output_type": "execute_result"
    }
   ],
   "source": [
    "#get count of none NA values of each feature set\n",
    "mydataset=data.copy()[numerical_cols]\n",
    "colCount=[]\n",
    "for i in mydataset.columns:\n",
    "    colCount.append([i,mydataset[i].dropna().shape[0]])\n",
    "\n",
    "colCountPD=pd.DataFrame(colCount,columns=['Col','Count'])\n",
    "colCountPD.head()"
   ]
  },
  {
   "cell_type": "code",
   "execution_count": 8,
   "metadata": {},
   "outputs": [
    {
     "data": {
      "text/html": [
       "<div>\n",
       "<style scoped>\n",
       "    .dataframe tbody tr th:only-of-type {\n",
       "        vertical-align: middle;\n",
       "    }\n",
       "\n",
       "    .dataframe tbody tr th {\n",
       "        vertical-align: top;\n",
       "    }\n",
       "\n",
       "    .dataframe thead th {\n",
       "        text-align: right;\n",
       "    }\n",
       "</style>\n",
       "<table border=\"1\" class=\"dataframe\">\n",
       "  <thead>\n",
       "    <tr style=\"text-align: right;\">\n",
       "      <th></th>\n",
       "      <th>Col</th>\n",
       "      <th>val</th>\n",
       "      <th>Count</th>\n",
       "    </tr>\n",
       "  </thead>\n",
       "  <tbody>\n",
       "    <tr>\n",
       "      <th>0</th>\n",
       "      <td>CLASS</td>\n",
       "      <td>1.000000</td>\n",
       "      <td>466680</td>\n",
       "    </tr>\n",
       "    <tr>\n",
       "      <th>5</th>\n",
       "      <td>L100800</td>\n",
       "      <td>0.741084</td>\n",
       "      <td>466134</td>\n",
       "    </tr>\n",
       "    <tr>\n",
       "      <th>11</th>\n",
       "      <td>L104600</td>\n",
       "      <td>0.458138</td>\n",
       "      <td>161194</td>\n",
       "    </tr>\n",
       "    <tr>\n",
       "      <th>18</th>\n",
       "      <td>L103000</td>\n",
       "      <td>0.317276</td>\n",
       "      <td>465103</td>\n",
       "    </tr>\n",
       "    <tr>\n",
       "      <th>22</th>\n",
       "      <td>S000300</td>\n",
       "      <td>0.269091</td>\n",
       "      <td>465393</td>\n",
       "    </tr>\n",
       "    <tr>\n",
       "      <th>24</th>\n",
       "      <td>S000501</td>\n",
       "      <td>0.261315</td>\n",
       "      <td>466410</td>\n",
       "    </tr>\n",
       "    <tr>\n",
       "      <th>27</th>\n",
       "      <td>L103300</td>\n",
       "      <td>0.247816</td>\n",
       "      <td>397549</td>\n",
       "    </tr>\n",
       "    <tr>\n",
       "      <th>29</th>\n",
       "      <td>S000502</td>\n",
       "      <td>0.243479</td>\n",
       "      <td>466410</td>\n",
       "    </tr>\n",
       "    <tr>\n",
       "      <th>34</th>\n",
       "      <td>L101700</td>\n",
       "      <td>0.232917</td>\n",
       "      <td>465651</td>\n",
       "    </tr>\n",
       "    <tr>\n",
       "      <th>37</th>\n",
       "      <td>SEX</td>\n",
       "      <td>0.221267</td>\n",
       "      <td>466679</td>\n",
       "    </tr>\n",
       "  </tbody>\n",
       "</table>\n",
       "</div>"
      ],
      "text/plain": [
       "        Col       val   Count\n",
       "0     CLASS  1.000000  466680\n",
       "5   L100800  0.741084  466134\n",
       "11  L104600  0.458138  161194\n",
       "18  L103000  0.317276  465103\n",
       "22  S000300  0.269091  465393\n",
       "24  S000501  0.261315  466410\n",
       "27  L103300  0.247816  397549\n",
       "29  S000502  0.243479  466410\n",
       "34  L101700  0.232917  465651\n",
       "37      SEX  0.221267  466679"
      ]
     },
     "execution_count": 8,
     "metadata": {},
     "output_type": "execute_result"
    }
   ],
   "source": [
    "#merge the correlation value and the total count of the feature \n",
    "mergedColCorrCount=pd.merge(corrvalPD,colCountPD,how='inner',left_on='Col',right_on='Col')\n",
    "mergedColCorrCount=mergedColCorrCount[mergedColCorrCount.Count>50000]\n",
    "mergedColCorrCount=mergedColCorrCount.sort_values(by='val', ascending=False)\n",
    "mergedColCorrCount.head(10)"
   ]
  },
  {
   "cell_type": "code",
   "execution_count": 10,
   "metadata": {},
   "outputs": [
    {
     "name": "stdout",
     "output_type": "stream",
     "text": [
      "['CLASS', 'L100800', 'L104600', 'L103000', 'S000300', 'S000501', 'L103300', 'S000502', 'L101700', 'SEX', 'L190400', 'AGE', 'L190500', 'L100700', 'L101300', 'L190300']\n"
     ]
    }
   ],
   "source": [
    "# select top 20 correlated features \n",
    "print(list(mergedColCorrCount.head(16).Col))"
   ]
  },
  {
   "cell_type": "markdown",
   "metadata": {},
   "source": [
    "2.1.2 Anova test\n",
    "======="
   ]
  },
  {
   "cell_type": "code",
   "execution_count": 11,
   "metadata": {},
   "outputs": [],
   "source": [
    "# another option for feature selection of numerical values\n",
    "\n",
    "mydataset=data.copy()[numerical_cols] # filter only numrical columns\n",
    "colslist=mydataset.columns\n",
    "DiabeticColVals=mydataset.CLASS\n",
    "\n",
    "cor=[]\n",
    "pval=[]\n",
    "count=[]\n",
    "\n",
    "#for each column compute f and p values \n",
    "for i in range(len(colslist)):\n",
    "    \n",
    "    temp=pd.DataFrame([])\n",
    "    temp['a']=DiabeticColVals\n",
    "    temp['b']=mydataset[colslist[i]]\n",
    "    temp=temp.dropna()\n",
    "    \n",
    "    count.append(temp.shape[0])\n",
    "    tempcor=temp.corr()\n",
    "    \n",
    "    if(tempcor.shape[0]>1):        \n",
    "        F, p = stats.f_oneway(temp[temp['a']==0].b,temp[temp['a']==1].b,temp[temp['a']==2].b) \n",
    "        cor.append(F)\n",
    "        pval.append(p)\n",
    "    else:\n",
    "        cor.append(0)\n",
    "        pval.append(0)\n",
    "    "
   ]
  },
  {
   "cell_type": "code",
   "execution_count": 12,
   "metadata": {},
   "outputs": [],
   "source": [
    "FvalPvalCorr=pd.DataFrame()    \n",
    "FvalPvalCorr['Cols']=colslist\n",
    "FvalPvalCorr['F']=cor\n",
    "FvalPvalCorr['P']=pval\n",
    "FvalPvalCorr['Count']=count\n",
    "FvalPvalCorr=FvalPvalCorr.sort_values(by='F', ascending=False)\n"
   ]
  },
  {
   "cell_type": "code",
   "execution_count": 29,
   "metadata": {},
   "outputs": [
    {
     "name": "stdout",
     "output_type": "stream",
     "text": [
      "['L100800', 'L104600', 'L103000', 'S000300', 'S000501', 'S000502', 'L101700', 'L103300', 'SEX', 'L190400', 'AGE', 'L190500', 'L100700', 'L101300', 'L190300', 'L102900', 'L103100', 'L101600', 'L100500', 'S000100']\n"
     ]
    },
    {
     "data": {
      "text/html": [
       "<div>\n",
       "<style scoped>\n",
       "    .dataframe tbody tr th:only-of-type {\n",
       "        vertical-align: middle;\n",
       "    }\n",
       "\n",
       "    .dataframe tbody tr th {\n",
       "        vertical-align: top;\n",
       "    }\n",
       "\n",
       "    .dataframe thead th {\n",
       "        text-align: right;\n",
       "    }\n",
       "</style>\n",
       "<table border=\"1\" class=\"dataframe\">\n",
       "  <thead>\n",
       "    <tr style=\"text-align: right;\">\n",
       "      <th></th>\n",
       "      <th>Cols</th>\n",
       "      <th>F</th>\n",
       "      <th>P</th>\n",
       "      <th>Count</th>\n",
       "    </tr>\n",
       "  </thead>\n",
       "  <tbody>\n",
       "    <tr>\n",
       "      <th>10</th>\n",
       "      <td>L100800</td>\n",
       "      <td>395085.487922</td>\n",
       "      <td>0.0</td>\n",
       "      <td>466134</td>\n",
       "    </tr>\n",
       "    <tr>\n",
       "      <th>40</th>\n",
       "      <td>L104600</td>\n",
       "      <td>42395.642121</td>\n",
       "      <td>0.0</td>\n",
       "      <td>161194</td>\n",
       "    </tr>\n",
       "    <tr>\n",
       "      <th>25</th>\n",
       "      <td>L103000</td>\n",
       "      <td>26797.148687</td>\n",
       "      <td>0.0</td>\n",
       "      <td>465103</td>\n",
       "    </tr>\n",
       "    <tr>\n",
       "      <th>211</th>\n",
       "      <td>S000300</td>\n",
       "      <td>18231.079620</td>\n",
       "      <td>0.0</td>\n",
       "      <td>465393</td>\n",
       "    </tr>\n",
       "    <tr>\n",
       "      <th>213</th>\n",
       "      <td>S000501</td>\n",
       "      <td>17197.234862</td>\n",
       "      <td>0.0</td>\n",
       "      <td>466410</td>\n",
       "    </tr>\n",
       "    <tr>\n",
       "      <th>214</th>\n",
       "      <td>S000502</td>\n",
       "      <td>14745.753045</td>\n",
       "      <td>0.0</td>\n",
       "      <td>466410</td>\n",
       "    </tr>\n",
       "    <tr>\n",
       "      <th>17</th>\n",
       "      <td>L101700</td>\n",
       "      <td>13627.364322</td>\n",
       "      <td>0.0</td>\n",
       "      <td>465651</td>\n",
       "    </tr>\n",
       "    <tr>\n",
       "      <th>28</th>\n",
       "      <td>L103300</td>\n",
       "      <td>13051.265944</td>\n",
       "      <td>0.0</td>\n",
       "      <td>397549</td>\n",
       "    </tr>\n",
       "    <tr>\n",
       "      <th>3</th>\n",
       "      <td>SEX</td>\n",
       "      <td>12479.338548</td>\n",
       "      <td>0.0</td>\n",
       "      <td>466679</td>\n",
       "    </tr>\n",
       "    <tr>\n",
       "      <th>92</th>\n",
       "      <td>L190400</td>\n",
       "      <td>10914.114772</td>\n",
       "      <td>0.0</td>\n",
       "      <td>466197</td>\n",
       "    </tr>\n",
       "  </tbody>\n",
       "</table>\n",
       "</div>"
      ],
      "text/plain": [
       "        Cols              F    P   Count\n",
       "10   L100800  395085.487922  0.0  466134\n",
       "40   L104600   42395.642121  0.0  161194\n",
       "25   L103000   26797.148687  0.0  465103\n",
       "211  S000300   18231.079620  0.0  465393\n",
       "213  S000501   17197.234862  0.0  466410\n",
       "214  S000502   14745.753045  0.0  466410\n",
       "17   L101700   13627.364322  0.0  465651\n",
       "28   L103300   13051.265944  0.0  397549\n",
       "3        SEX   12479.338548  0.0  466679\n",
       "92   L190400   10914.114772  0.0  466197"
      ]
     },
     "execution_count": 29,
     "metadata": {},
     "output_type": "execute_result"
    }
   ],
   "source": [
    "# select top 20 features\n",
    "print(list(FvalPvalCorr[FvalPvalCorr.Count>100000].Cols)[:20])\n",
    "FvalPvalCorr[FvalPvalCorr.Count>100000].head(10)"
   ]
  },
  {
   "cell_type": "markdown",
   "metadata": {},
   "source": [
    "2.2 Correlation for categorical values\n",
    "============"
   ]
  },
  {
   "cell_type": "markdown",
   "metadata": {},
   "source": [
    "2.2.1 chi2 method\n",
    "====="
   ]
  },
  {
   "cell_type": "code",
   "execution_count": 15,
   "metadata": {},
   "outputs": [],
   "source": [
    "mydata=data[categorical_cols] # filter only categorical columns\n",
    "\n",
    "#remove columns with string values as data type\n",
    "mydata=mydata.drop(columns=['FIELD_1','FIELD_2','FIELD_8','FIELD_10','FIELD_11','FIELD_12','FIELD_39','FIELD_88',\n",
    "                           'FIELD_89','FIELD_109','FIELD_110','FIELD_111','FIELD_70','FIELD_82','FIELD_85','FIELD_91',\n",
    "                           'FIELD_103','FIELD_106'])\n",
    "\n",
    "# Data clean up\n",
    "mydata=mydata.drop(mydata[mydata.FIELD_3=='`'].index)\n",
    "mydata=mydata.drop(mydata[mydata.FIELD_3=='G'].index)\n",
    "\n",
    "\n",
    "mydata=mydata.drop(mydata[mydata.FIELD_4=='.'].index)\n",
    "mydata=mydata.drop(mydata[mydata.FIELD_5=='.'].index)\n",
    "\n",
    "mydata=mydata.drop(mydata[mydata.FIELD_35=='?'].index)\n",
    "mydata=mydata.drop(mydata[mydata.FIELD_35=='.'].index)\n",
    "mydata=mydata.drop(mydata[mydata.FIELD_36=='.'].index)\n",
    "mydata=mydata.drop(mydata[mydata.FIELD_37=='\\\\'].index)\n",
    " \n",
    "# mydata=mydata.drop(mydata[mydata.FIELD_39 == '7+' ].index)\n",
    "# mydata=mydata.drop(mydata[mydata.FIELD_39 == '5~7'].index)\n",
    "# mydata=mydata.drop(mydata[mydata.FIELD_39 == '3-4'].index)\n",
    "\n",
    "\n",
    "mydata=mydata.drop(mydata[mydata.FIELD_95=='.'].index)"
   ]
  },
  {
   "cell_type": "code",
   "execution_count": 16,
   "metadata": {},
   "outputs": [],
   "source": [
    "AllTables=[]\n",
    "\n",
    "# prepare the table indicating the number of entries per class and per each column group\n",
    "for j in range(len(mydata.columns)):\n",
    "    \n",
    "    \n",
    "    columnName = mydata.columns[j]\n",
    "#     print(j,columnName)\n",
    "    \n",
    "    temp=mydata[columnName].dropna().astype(float).unique() \n",
    "    mytempdata=mydata[[columnName,'CLASS']].dropna()\n",
    "    mytempdata[columnName]=mytempdata[columnName].astype(float)\n",
    "    temptable=[]\n",
    "    \n",
    "    sumval=0\n",
    "\n",
    "    for i in range(temp.shape[0]):\n",
    "        \n",
    "        temp_i_val=str(temp[i])\n",
    "        class0_count = mytempdata.query(columnName + ' == '+( temp_i_val ) + ' & CLASS == 0' ).shape[0]\n",
    "        class1_count = mytempdata.query(columnName + ' == '+( temp_i_val ) + ' & CLASS == 1' ).shape[0]\n",
    "        class2_count = mytempdata.query(columnName + ' == '+( temp_i_val ) + ' & CLASS == 2' ).shape[0]\n",
    "        \n",
    "        sumval = sumval + (class0_count+class1_count+class2_count)\n",
    "\n",
    "        temptable.append(\n",
    "        [\n",
    "            class0_count,class1_count,class2_count\n",
    "        ])\n",
    "    \n",
    "#     print(sumval,mytempdata.shape[0], mytempdata.shape[0] == sumval)\n",
    "    \n",
    "    if(len(temptable) > 1):\n",
    "        AllTables.append([temptable , columnName , mytempdata.shape[0] ] )\n",
    "\n"
   ]
  },
  {
   "cell_type": "code",
   "execution_count": 17,
   "metadata": {
    "scrolled": true
   },
   "outputs": [],
   "source": [
    "# compute the statisitical values\n",
    "statas=[]\n",
    "for i in range(len(AllTables)):\n",
    "#     print(i,AllTables[i][1])\n",
    "    table=AllTables[i][0]\n",
    "    stat, p, dof, expected = chi2_contingency(table)\n",
    "    statas.append([AllTables[i][1],stat, p, dof, np.sum(table) , AllTables[i][2] ,AllTables[i][1], table, expected ])\n",
    "    "
   ]
  },
  {
   "cell_type": "code",
   "execution_count": 18,
   "metadata": {},
   "outputs": [
    {
     "name": "stdout",
     "output_type": "stream",
     "text": [
      "['CLASS', 'FIELD_33', 'FIELD_38', 'FIELD_40', 'FIELD_31', 'FIELD_41', 'FIELD_27', 'FIELD_21', 'FIELD_14', 'FIELD_32']\n"
     ]
    },
    {
     "data": {
      "text/html": [
       "<div>\n",
       "<style scoped>\n",
       "    .dataframe tbody tr th:only-of-type {\n",
       "        vertical-align: middle;\n",
       "    }\n",
       "\n",
       "    .dataframe tbody tr th {\n",
       "        vertical-align: top;\n",
       "    }\n",
       "\n",
       "    .dataframe thead th {\n",
       "        text-align: right;\n",
       "    }\n",
       "</style>\n",
       "<table border=\"1\" class=\"dataframe\">\n",
       "  <thead>\n",
       "    <tr style=\"text-align: right;\">\n",
       "      <th></th>\n",
       "      <th>Name</th>\n",
       "      <th>stat</th>\n",
       "      <th>instances</th>\n",
       "    </tr>\n",
       "  </thead>\n",
       "  <tbody>\n",
       "    <tr>\n",
       "      <th>102</th>\n",
       "      <td>CLASS</td>\n",
       "      <td>933332</td>\n",
       "      <td>466666</td>\n",
       "    </tr>\n",
       "    <tr>\n",
       "      <th>18</th>\n",
       "      <td>FIELD_33</td>\n",
       "      <td>14148</td>\n",
       "      <td>464395</td>\n",
       "    </tr>\n",
       "    <tr>\n",
       "      <th>23</th>\n",
       "      <td>FIELD_38</td>\n",
       "      <td>9689</td>\n",
       "      <td>433985</td>\n",
       "    </tr>\n",
       "    <tr>\n",
       "      <th>24</th>\n",
       "      <td>FIELD_40</td>\n",
       "      <td>1731</td>\n",
       "      <td>434053</td>\n",
       "    </tr>\n",
       "    <tr>\n",
       "      <th>16</th>\n",
       "      <td>FIELD_31</td>\n",
       "      <td>948</td>\n",
       "      <td>463755</td>\n",
       "    </tr>\n",
       "    <tr>\n",
       "      <th>25</th>\n",
       "      <td>FIELD_41</td>\n",
       "      <td>835</td>\n",
       "      <td>433981</td>\n",
       "    </tr>\n",
       "    <tr>\n",
       "      <th>12</th>\n",
       "      <td>FIELD_27</td>\n",
       "      <td>356</td>\n",
       "      <td>463298</td>\n",
       "    </tr>\n",
       "    <tr>\n",
       "      <th>9</th>\n",
       "      <td>FIELD_21</td>\n",
       "      <td>187</td>\n",
       "      <td>460307</td>\n",
       "    </tr>\n",
       "    <tr>\n",
       "      <th>5</th>\n",
       "      <td>FIELD_14</td>\n",
       "      <td>160</td>\n",
       "      <td>465487</td>\n",
       "    </tr>\n",
       "    <tr>\n",
       "      <th>17</th>\n",
       "      <td>FIELD_32</td>\n",
       "      <td>143</td>\n",
       "      <td>463953</td>\n",
       "    </tr>\n",
       "  </tbody>\n",
       "</table>\n",
       "</div>"
      ],
      "text/plain": [
       "         Name    stat  instances\n",
       "102     CLASS  933332     466666\n",
       "18   FIELD_33   14148     464395\n",
       "23   FIELD_38    9689     433985\n",
       "24   FIELD_40    1731     434053\n",
       "16   FIELD_31     948     463755\n",
       "25   FIELD_41     835     433981\n",
       "12   FIELD_27     356     463298\n",
       "9    FIELD_21     187     460307\n",
       "5    FIELD_14     160     465487\n",
       "17   FIELD_32     143     463953"
      ]
     },
     "execution_count": 18,
     "metadata": {},
     "output_type": "execute_result"
    }
   ],
   "source": [
    "# convert the computed status to dataframe\n",
    "finalstat=pd.DataFrame( statas ,columns=['Name','stat','p','dof','instances','orginal','Name2', 'table', 'expected'] )\n",
    "finalstat=finalstat[finalstat.orginal>200000] # select columns with count at least 200, 000\n",
    "\n",
    "# sort stat value and select top 20 features\n",
    "finalstat.stat=finalstat.stat.astype(int)\n",
    "finalstat=finalstat.sort_values(by='stat',ascending=False)\n",
    "\n",
    "print(list(finalstat.Name[:10]))\n",
    "finalstat[['Name','stat', 'instances',]].head(10)"
   ]
  },
  {
   "cell_type": "markdown",
   "metadata": {},
   "source": [
    "3 Refine the selected numerical and categorical features\n",
    "===="
   ]
  },
  {
   "cell_type": "code",
   "execution_count": 32,
   "metadata": {},
   "outputs": [],
   "source": [
    "#combine the selected columns list from section 2.1.2 and 2.2.1\n",
    "newColList=['L104600', 'L103000', 'S000300', 'S000501', 'S000502', 'L101700', 'L103300', 'SEX', 'L190400',\n",
    "            'AGE', 'L190500', 'L100700', 'L101300', 'L190300', 'L102900', 'L103100', 'L101600', 'L100500', 'S000100',\n",
    "           'FIELD_33', 'FIELD_38', 'FIELD_40', 'FIELD_31', 'FIELD_41', 'FIELD_27', 'FIELD_21', 'FIELD_14', \n",
    "            'FIELD_32','CLASS']"
   ]
  },
  {
   "cell_type": "code",
   "execution_count": 33,
   "metadata": {},
   "outputs": [
    {
     "name": "stdout",
     "output_type": "stream",
     "text": [
      "(126324, 29)\n"
     ]
    }
   ],
   "source": [
    "#filter a new data based on the selected columns \n",
    "mydata=data[newColList].copy().dropna()\n",
    "print(mydata.shape)"
   ]
  },
  {
   "cell_type": "code",
   "execution_count": 35,
   "metadata": {},
   "outputs": [
    {
     "name": "stdout",
     "output_type": "stream",
     "text": [
      "(126324, 29)\n"
     ]
    },
    {
     "data": {
      "text/html": [
       "<div>\n",
       "<style scoped>\n",
       "    .dataframe tbody tr th:only-of-type {\n",
       "        vertical-align: middle;\n",
       "    }\n",
       "\n",
       "    .dataframe tbody tr th {\n",
       "        vertical-align: top;\n",
       "    }\n",
       "\n",
       "    .dataframe thead th {\n",
       "        text-align: right;\n",
       "    }\n",
       "</style>\n",
       "<table border=\"1\" class=\"dataframe\">\n",
       "  <thead>\n",
       "    <tr style=\"text-align: right;\">\n",
       "      <th></th>\n",
       "      <th>L104600</th>\n",
       "      <th>L103000</th>\n",
       "      <th>S000300</th>\n",
       "      <th>S000501</th>\n",
       "      <th>S000502</th>\n",
       "      <th>L101700</th>\n",
       "      <th>L103300</th>\n",
       "      <th>SEX</th>\n",
       "      <th>L190400</th>\n",
       "      <th>AGE</th>\n",
       "      <th>...</th>\n",
       "      <th>FIELD_33</th>\n",
       "      <th>FIELD_38</th>\n",
       "      <th>FIELD_40</th>\n",
       "      <th>FIELD_31</th>\n",
       "      <th>FIELD_41</th>\n",
       "      <th>FIELD_27</th>\n",
       "      <th>FIELD_21</th>\n",
       "      <th>FIELD_14</th>\n",
       "      <th>FIELD_32</th>\n",
       "      <th>CLASS</th>\n",
       "    </tr>\n",
       "  </thead>\n",
       "  <tbody>\n",
       "    <tr>\n",
       "      <th>4</th>\n",
       "      <td>5.18</td>\n",
       "      <td>92.0</td>\n",
       "      <td>23.7</td>\n",
       "      <td>145.0</td>\n",
       "      <td>90.0</td>\n",
       "      <td>24.0</td>\n",
       "      <td>3.5</td>\n",
       "      <td>0.0</td>\n",
       "      <td>13.7</td>\n",
       "      <td>50.0</td>\n",
       "      <td>...</td>\n",
       "      <td>2.0</td>\n",
       "      <td>3.0</td>\n",
       "      <td>2.0</td>\n",
       "      <td>0.0</td>\n",
       "      <td>2.0</td>\n",
       "      <td>0.0</td>\n",
       "      <td>0.0</td>\n",
       "      <td>0.0</td>\n",
       "      <td>3.0</td>\n",
       "      <td>1</td>\n",
       "    </tr>\n",
       "    <tr>\n",
       "      <th>7</th>\n",
       "      <td>5.30</td>\n",
       "      <td>92.0</td>\n",
       "      <td>25.1</td>\n",
       "      <td>129.0</td>\n",
       "      <td>87.0</td>\n",
       "      <td>40.0</td>\n",
       "      <td>3.9</td>\n",
       "      <td>0.0</td>\n",
       "      <td>15.4</td>\n",
       "      <td>46.0</td>\n",
       "      <td>...</td>\n",
       "      <td>2.0</td>\n",
       "      <td>6.0</td>\n",
       "      <td>0.0</td>\n",
       "      <td>0.0</td>\n",
       "      <td>0.0</td>\n",
       "      <td>0.0</td>\n",
       "      <td>0.0</td>\n",
       "      <td>0.0</td>\n",
       "      <td>2.0</td>\n",
       "      <td>0</td>\n",
       "    </tr>\n",
       "    <tr>\n",
       "      <th>9</th>\n",
       "      <td>5.40</td>\n",
       "      <td>60.0</td>\n",
       "      <td>18.0</td>\n",
       "      <td>120.0</td>\n",
       "      <td>80.0</td>\n",
       "      <td>24.0</td>\n",
       "      <td>2.4</td>\n",
       "      <td>0.0</td>\n",
       "      <td>14.2</td>\n",
       "      <td>46.0</td>\n",
       "      <td>...</td>\n",
       "      <td>1.0</td>\n",
       "      <td>1.0</td>\n",
       "      <td>1.0</td>\n",
       "      <td>0.0</td>\n",
       "      <td>1.0</td>\n",
       "      <td>0.0</td>\n",
       "      <td>0.0</td>\n",
       "      <td>0.0</td>\n",
       "      <td>1.0</td>\n",
       "      <td>0</td>\n",
       "    </tr>\n",
       "    <tr>\n",
       "      <th>10</th>\n",
       "      <td>5.50</td>\n",
       "      <td>90.0</td>\n",
       "      <td>18.5</td>\n",
       "      <td>108.0</td>\n",
       "      <td>61.0</td>\n",
       "      <td>29.0</td>\n",
       "      <td>3.0</td>\n",
       "      <td>0.0</td>\n",
       "      <td>14.4</td>\n",
       "      <td>47.0</td>\n",
       "      <td>...</td>\n",
       "      <td>1.0</td>\n",
       "      <td>1.0</td>\n",
       "      <td>1.0</td>\n",
       "      <td>0.0</td>\n",
       "      <td>1.0</td>\n",
       "      <td>0.0</td>\n",
       "      <td>0.0</td>\n",
       "      <td>0.0</td>\n",
       "      <td>1.0</td>\n",
       "      <td>0</td>\n",
       "    </tr>\n",
       "    <tr>\n",
       "      <th>11</th>\n",
       "      <td>5.53</td>\n",
       "      <td>58.0</td>\n",
       "      <td>19.2</td>\n",
       "      <td>108.0</td>\n",
       "      <td>60.0</td>\n",
       "      <td>37.0</td>\n",
       "      <td>3.0</td>\n",
       "      <td>0.0</td>\n",
       "      <td>14.5</td>\n",
       "      <td>48.0</td>\n",
       "      <td>...</td>\n",
       "      <td>1.0</td>\n",
       "      <td>1.0</td>\n",
       "      <td>1.0</td>\n",
       "      <td>0.0</td>\n",
       "      <td>1.0</td>\n",
       "      <td>0.0</td>\n",
       "      <td>0.0</td>\n",
       "      <td>0.0</td>\n",
       "      <td>1.0</td>\n",
       "      <td>0</td>\n",
       "    </tr>\n",
       "  </tbody>\n",
       "</table>\n",
       "<p>5 rows × 29 columns</p>\n",
       "</div>"
      ],
      "text/plain": [
       "    L104600  L103000  S000300  S000501  S000502  L101700  L103300  SEX  \\\n",
       "4      5.18     92.0     23.7    145.0     90.0     24.0      3.5  0.0   \n",
       "7      5.30     92.0     25.1    129.0     87.0     40.0      3.9  0.0   \n",
       "9      5.40     60.0     18.0    120.0     80.0     24.0      2.4  0.0   \n",
       "10     5.50     90.0     18.5    108.0     61.0     29.0      3.0  0.0   \n",
       "11     5.53     58.0     19.2    108.0     60.0     37.0      3.0  0.0   \n",
       "\n",
       "    L190400   AGE  ...  FIELD_33  FIELD_38  FIELD_40  FIELD_31  FIELD_41  \\\n",
       "4      13.7  50.0  ...       2.0       3.0       2.0       0.0       2.0   \n",
       "7      15.4  46.0  ...       2.0       6.0       0.0       0.0       0.0   \n",
       "9      14.2  46.0  ...       1.0       1.0       1.0       0.0       1.0   \n",
       "10     14.4  47.0  ...       1.0       1.0       1.0       0.0       1.0   \n",
       "11     14.5  48.0  ...       1.0       1.0       1.0       0.0       1.0   \n",
       "\n",
       "    FIELD_27  FIELD_21  FIELD_14  FIELD_32  CLASS  \n",
       "4        0.0       0.0       0.0       3.0      1  \n",
       "7        0.0       0.0       0.0       2.0      0  \n",
       "9        0.0       0.0       0.0       1.0      0  \n",
       "10       0.0       0.0       0.0       1.0      0  \n",
       "11       0.0       0.0       0.0       1.0      0  \n",
       "\n",
       "[5 rows x 29 columns]"
      ]
     },
     "execution_count": 35,
     "metadata": {},
     "output_type": "execute_result"
    }
   ],
   "source": [
    " \n",
    "x= mydata[['L104600', 'L103000', 'S000300', 'S000501', 'S000502', 'L101700', 'L103300', 'SEX', 'L190400',\n",
    "            'AGE', 'L190500', 'L100700', 'L101300', 'L190300', 'L102900', 'L103100', 'L101600', 'L100500', 'S000100',\n",
    "           'FIELD_33', 'FIELD_38', 'FIELD_40', 'FIELD_31', 'FIELD_41', 'FIELD_27', 'FIELD_21', 'FIELD_14', \n",
    "            'FIELD_32' \n",
    "        ]]\n",
    "y=mydata[['CLASS']]\n",
    "\n",
    "print(mydata.shape)\n",
    "mydata.head()"
   ]
  },
  {
   "cell_type": "markdown",
   "metadata": {},
   "source": [
    "3.1 ExtraTreesClassifier feature_importances method\n",
    "========================"
   ]
  },
  {
   "cell_type": "code",
   "execution_count": 36,
   "metadata": {},
   "outputs": [
    {
     "name": "stdout",
     "output_type": "stream",
     "text": [
      "[0.10436703 0.06089534 0.05031173 0.04452603 0.04488602 0.04314574\n",
      " 0.03874309 0.03102541 0.03995139 0.04897239 0.03854048 0.03806544\n",
      " 0.0374662  0.03809147 0.03952814 0.03722288 0.03906396 0.03436636\n",
      " 0.03811031 0.01880147 0.03148993 0.02922904 0.01007316 0.03010965\n",
      " 0.00705993 0.00096013 0.0014286  0.0235687 ]\n"
     ]
    },
    {
     "data": {
      "image/png": "[encoded data removed]",
      "text/plain": [
       "<Figure size 432x288 with 1 Axes>"
      ]
     },
     "metadata": {
      "needs_background": "light"
     },
     "output_type": "display_data"
    },
    {
     "name": "stdout",
     "output_type": "stream",
     "text": [
      "Index(['L104600', 'L103000', 'S000300', 'AGE', 'S000502', 'S000501', 'L101700',\n",
      "       'L190400', 'L102900', 'L101600', 'L103300', 'L190500', 'S000100',\n",
      "       'L190300', 'L100700', 'L101300', 'L103100', 'L100500', 'FIELD_38',\n",
      "       'SEX'],\n",
      "      dtype='object')\n"
     ]
    }
   ],
   "source": [
    "from sklearn.ensemble import ExtraTreesClassifier\n",
    "import matplotlib.pyplot as plt\n",
    "model = ExtraTreesClassifier()\n",
    "model.fit(x,y)\n",
    "\n",
    "print(model.feature_importances_) #use inbuilt class feature_importances of tree based classifiers\n",
    "\n",
    "#plot graph of feature importances for better visualization\n",
    "feat_importances = pd.Series(model.feature_importances_, index=x.columns)\n",
    "feat_importances.nlargest(16).plot(kind='barh')\n",
    "plt.show()\n",
    "\n",
    "print(feat_importances.nlargest(20).index)"
   ]
  },
  {
   "cell_type": "markdown",
   "metadata": {},
   "source": [
    "3.2 SelectKBest method\n",
    "========="
   ]
  },
  {
   "cell_type": "code",
   "execution_count": 37,
   "metadata": {},
   "outputs": [
    {
     "name": "stdout",
     "output_type": "stream",
     "text": [
      "['L104600', 'L103000', 'S000300', 'S000501', 'S000502', 'L101700', 'L103300', 'SEX', 'L190400', 'AGE', 'L190500', 'L100700', 'L101300', 'L190300', 'L102900', 'L103100', 'L101600', 'L100500', 'S000100', 'FIELD_33']\n"
     ]
    }
   ],
   "source": [
    "from sklearn.feature_selection import f_classif\n",
    "from sklearn.feature_selection import SelectKBest\n",
    "\n",
    "bestfeatures = SelectKBest(score_func=f_classif, k=10)\n",
    "fit = bestfeatures.fit(x,y)\n",
    "\n",
    "dfscores = pd.DataFrame(fit.scores_)\n",
    "dfcolumns = pd.DataFrame(x.columns)\n",
    "\n",
    "featureScores = pd.concat([dfcolumns,dfscores],axis=1)\n",
    "featureScores.columns = ['Specs','Score']  #naming the dataframe columns\n",
    "\n",
    "# x=x[x.columns[:15]]\n",
    "print(list(x.columns[:20]))"
   ]
  },
  {
   "cell_type": "markdown",
   "metadata": {},
   "source": [
    "3.3 variance inflation factor \n",
    "============="
   ]
  },
  {
   "cell_type": "code",
   "execution_count": 24,
   "metadata": {},
   "outputs": [],
   "source": [
    "# this function computes vif value which help us to remove columns with redundant information ( to avoid Multicollinearity)\n",
    "# Multicollinearity occurs when two or more predictors in the model are correlated and provide redundant information about the response.\n",
    "# Multicollinearity was measured by variance inflation factors (VIF) and tolerance\n",
    "\n",
    "def vifcal(inputdata,depcol):\n",
    "    vifL5=[]\n",
    "    import statsmodels.formula.api as sm\n",
    "    xvars=inputdata.drop([depcol],axis=1)\n",
    "    xvarnames=xvars.columns\n",
    "    for i in range(0,xvarnames.shape[0]):\n",
    "        _y=xvars[xvarnames[i]]\n",
    "        _x=xvars[xvarnames.drop(xvarnames[i])]\n",
    "        rsq=sm.ols(formula=\"_y~_x\",data=xvars).fit().rsquared\n",
    "        vif=round(1/(1-rsq),2)\n",
    "        print(i,', ',xvarnames[i],\" VIF = \",vif)\n",
    "        if(vif<5):\n",
    "            vifL5.append(xvarnames[i])\n",
    "    return vifL5"
   ]
  },
  {
   "cell_type": "code",
   "execution_count": 38,
   "metadata": {},
   "outputs": [
    {
     "name": "stdout",
     "output_type": "stream",
     "text": [
      "0 ,  L104600  VIF =  1.19\n",
      "1 ,  L103000  VIF =  1.87\n",
      "2 ,  S000300  VIF =  1.62\n",
      "3 ,  S000501  VIF =  2.78\n",
      "4 ,  S000502  VIF =  2.55\n",
      "5 ,  L101700  VIF =  1.44\n",
      "6 ,  L103300  VIF =  13.96\n",
      "7 ,  SEX  VIF =  5.35\n",
      "8 ,  L190400  VIF =  17.54\n",
      "9 ,  AGE  VIF =  1.38\n",
      "10 ,  L190500  VIF =  21.99\n",
      "11 ,  L100700  VIF =  2.01\n",
      "12 ,  L101300  VIF =  1.3\n",
      "13 ,  L190300  VIF =  5.04\n",
      "14 ,  L102900  VIF =  5.79\n",
      "15 ,  L103100  VIF =  9.14\n",
      "16 ,  L101600  VIF =  1.21\n",
      "17 ,  L100500  VIF =  2.12\n",
      "18 ,  S000100  VIF =  2.56\n",
      "19 ,  FIELD_33  VIF =  1.63\n",
      "['L104600', 'L103000', 'S000300', 'S000501', 'S000502', 'L101700', 'AGE', 'L100700', 'L101300', 'L101600', 'L100500', 'S000100', 'FIELD_33'] 13\n"
     ]
    }
   ],
   "source": [
    "newcols = vifcal(mydata[['L104600', 'L103000', 'S000300', 'S000501', 'S000502', 'L101700', 'L103300', 'SEX',\n",
    "                         'L190400', 'AGE', 'L190500', 'L100700', 'L101300', 'L190300', 'L102900', 'L103100', \n",
    "                         'L101600', 'L100500', 'S000100', 'FIELD_33','CLASS']],'CLASS')\n",
    "print(newcols,len(newcols))\n",
    "\n",
    "# we need to exclude features with vif value >5\n",
    "# L190400  ,L103300,L190500,L190300,L102900,L103100  \n"
   ]
  },
  {
   "cell_type": "markdown",
   "metadata": {},
   "source": [
    "3.4 Final Selected Features\n",
    "======"
   ]
  },
  {
   "cell_type": "code",
   "execution_count": null,
   "metadata": {},
   "outputs": [],
   "source": [
    "# based on the out put of section of 3.1 and 3.3 the following features are selected\n",
    "\n",
    "# L190400  ,L103300,L190500,L190300,L102900,L103100  \n",
    "\n",
    "['L104600', 'L103000', 'S000300', 'S000501', 'S000502', 'L101700', 'L103300', 'SEX',  'AGE', \n",
    " 'L100700', 'L101300','L101600', 'L100500', 'S000100', 'FIELD_33']"
   ]
  },
  {
   "cell_type": "markdown",
   "metadata": {},
   "source": [
    "======================================\n",
    "========"
   ]
  },
  {
   "cell_type": "code",
   "execution_count": null,
   "metadata": {},
   "outputs": [],
   "source": [
    "randomseed=7\n",
    "# mydata=data[['L104600', 'L103000', 'S000300',  'L101700', 'SEX', 'AGE', #'S000501', 'S000502', 'L101300',\n",
    "#              'L100700', 'FIELD_33', 'FIELD_38', 'FIELD_40', 'FIELD_31','CLASS']].copy().dropna()\n",
    "\n",
    "mydata=data[['L104600', 'L103000', 'S000300', 'L101700', 'SEX', 'AGE', 'L100700', 'FIELD_33', \n",
    "             'FIELD_38', 'FIELD_40', 'FIELD_31','CLASS']].copy().dropna()\n",
    "\n",
    "print(mydata.shape)\n",
    "mydata.head()"
   ]
  },
  {
   "cell_type": "code",
   "execution_count": null,
   "metadata": {},
   "outputs": [],
   "source": [
    "diabetic = mydata[mydata.CLASS==2]\n",
    "prediabetic = mydata[mydata.CLASS==1]\n",
    "normal = mydata[mydata.CLASS==0]\n",
    "\n",
    "print(diabetic.shape[0],prediabetic.shape[0],normal.shape[0])"
   ]
  },
  {
   "cell_type": "code",
   "execution_count": null,
   "metadata": {},
   "outputs": [],
   "source": [
    "diabetic_test = diabetic.sample(500,random_state=randomseed)\n",
    "prediabetic_test = prediabetic.sample(500,random_state=randomseed)\n",
    "normal_test = normal.sample(500,random_state=randomseed)\n",
    "test=pd.concat([diabetic_test,prediabetic_test,normal_test])\n",
    "\n",
    "diabetic_train = diabetic.drop(diabetic_test.index)\n",
    "prediabetic_train = prediabetic.drop(prediabetic_test.index).sample(diabetic_train.shape[0],random_state=randomseed)\n",
    "normal_train = normal.drop(normal_test.index).sample(diabetic_train.shape[0],random_state=randomseed)\n",
    "train=pd.concat([diabetic_train,prediabetic_train,normal_train])"
   ]
  },
  {
   "cell_type": "code",
   "execution_count": null,
   "metadata": {},
   "outputs": [],
   "source": [
    "from sklearn.ensemble import RandomForestClassifier\n",
    "\n",
    "rf=RandomForestClassifier(random_state=randomseed,n_estimators=100,max_depth=10 )\n",
    "rf.fit(train.iloc[:,:-1],train.iloc[:,-1])"
   ]
  },
  {
   "cell_type": "code",
   "execution_count": null,
   "metadata": {},
   "outputs": [],
   "source": [
    "ypred= rf.predict(test.iloc[:,:-1])\n",
    "\n",
    "score=rf.score(test.iloc[:,:-1],test.iloc[:,-1])\n",
    "print(score)\n",
    "\n",
    "feat_importances = pd.Series(rf.feature_importances_, index=test.iloc[:,:-1].columns)\n",
    "feat_importances.nlargest(16).plot(kind='barh')\n",
    "plt.show()\n",
    "\n",
    "print(feat_importances.nlargest(16).index)"
   ]
  },
  {
   "cell_type": "code",
   "execution_count": null,
   "metadata": {},
   "outputs": [],
   "source": [
    "from sklearn.metrics import confusion_matrix\n",
    "confusion_matrix(test.iloc[:,-1],ypred)"
   ]
  },
  {
   "cell_type": "code",
   "execution_count": null,
   "metadata": {},
   "outputs": [],
   "source": [
    "print(\"Accuracy on training set: {:.3f}\".format(rf.score(train.iloc[:,:-1],train.iloc[:,-1])))\n",
    "print(\"Accuracy on test set: {:.3f}\".format(rf.score(test.iloc[:,:-1],test.iloc[:,-1] ))) \n",
    "ypred=rf.predict(test.iloc[:,:-1])\n",
    "\n",
    "confmatrx=pd.DataFrame(confusion_matrix(test.iloc[:,-1],ypred))\n",
    "confmatrx.head()\n"
   ]
  },
  {
   "cell_type": "code",
   "execution_count": null,
   "metadata": {},
   "outputs": [],
   "source": [
    "\n",
    "from sklearn.metrics import classification_report \n",
    "print(classification_report(test.iloc[:,-1], ypred))\n"
   ]
  },
  {
   "cell_type": "code",
   "execution_count": null,
   "metadata": {},
   "outputs": [],
   "source": [
    "import xgboost as xgb\n",
    "from sklearn import metrics as m\n",
    "xgb_model = xgb.XGBClassifier(objective=\"binary:logistic\", random_state=randomseed)\n",
    "\n",
    "xgb_model.fit(train.iloc[:,:-1],train.iloc[:,-1])\n",
    "\n",
    "y_pred = xgb_model.predict((test.iloc[:,:-1]))\n",
    "\n",
    "print('accuracy \\t',m.accuracy_score(test.iloc[:,-1],y_pred))\n",
    "confmatrx=pd.DataFrame(confusion_matrix(test.iloc[:,-1],y_pred))\n",
    "confmatrx.head()"
   ]
  },
  {
   "cell_type": "code",
   "execution_count": null,
   "metadata": {},
   "outputs": [],
   "source": [
    "print(classification_report(test.iloc[:,-1], y_pred))"
   ]
  },
  {
   "cell_type": "markdown",
   "metadata": {},
   "source": [
    "===============================\n",
    "=========="
   ]
  },
  {
   "cell_type": "code",
   "execution_count": null,
   "metadata": {},
   "outputs": [],
   "source": []
  },
  {
   "cell_type": "code",
   "execution_count": null,
   "metadata": {},
   "outputs": [],
   "source": [
    "newcols = vifcal(mydata,'CLASS')\n",
    "print(newcols,len(newcols))"
   ]
  },
  {
   "cell_type": "code",
   "execution_count": null,
   "metadata": {},
   "outputs": [],
   "source": [
    "corr=mydata.corr()\n",
    "corr"
   ]
  },
  {
   "cell_type": "code",
   "execution_count": null,
   "metadata": {},
   "outputs": [],
   "source": [
    "import seaborn as sns\n",
    "sns.heatmap(corr,vmin=-1,vmax=1)"
   ]
  },
  {
   "cell_type": "code",
   "execution_count": null,
   "metadata": {},
   "outputs": [],
   "source": []
  }
 ],
 "metadata": {
  "kernelspec": {
   "display_name": "Python 3",
   "language": "python",
   "name": "python3"
  },
  "language_info": {
   "codemirror_mode": {
    "name": "ipython",
    "version": 3
   },
   "file_extension": ".py",
   "mimetype": "text/x-python",
   "name": "python",
   "nbconvert_exporter": "python",
   "pygments_lexer": "ipython3",
   "version": "3.7.3"
  }
 },
 "nbformat": 4,
 "nbformat_minor": 2
}

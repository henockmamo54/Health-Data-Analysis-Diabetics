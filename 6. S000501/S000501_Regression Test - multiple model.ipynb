{
 "cells": [
  {
   "cell_type": "code",
   "execution_count": 2,
   "metadata": {},
   "outputs": [
    {
     "name": "stderr",
     "output_type": "stream",
     "text": [
      "Using TensorFlow backend.\n"
     ]
    }
   ],
   "source": [
    "from matplotlib import pyplot as plt\n",
    "import pandas as pd \n",
    "import numpy as np\n",
    "import warnings\n",
    "warnings.filterwarnings('ignore')\n",
    "from scipy import stats\n",
    "from sklearn.utils import shuffle\n",
    "from sklearn.preprocessing import LabelEncoder\n",
    "from sklearn.metrics import confusion_matrix \n",
    "from sklearn.utils import shuffle\n",
    "from sklearn.ensemble import RandomForestRegressor\n",
    "from sklearn.datasets import make_regression\n",
    "from sklearn.model_selection import train_test_split\n",
    "from sklearn.metrics import mean_absolute_error\n",
    "from sklearn.metrics import mean_squared_error\n",
    "from sklearn.metrics import mean_absolute_error\n",
    "from sklearn.metrics import r2_score\n",
    "from keras.models import Sequential\n",
    "from keras.layers import Dense\n",
    "from keras.wrappers.scikit_learn import KerasRegressor\n",
    "from sklearn.model_selection import cross_val_score\n",
    "from sklearn.model_selection import KFold\n",
    "from sklearn.preprocessing import StandardScaler\n",
    "from sklearn.pipeline import Pipeline\n",
    "from keras.layers import Dropout\n",
    "from keras.layers import BatchNormalization\n",
    "from keras.models import model_from_json\n",
    "from keras.utils import multi_gpu_model \n",
    "from keras.utils import to_categorical\n"
   ]
  },
  {
   "cell_type": "markdown",
   "metadata": {},
   "source": [
    "Read the data\n",
    "==========="
   ]
  },
  {
   "cell_type": "code",
   "execution_count": 6,
   "metadata": {},
   "outputs": [
    {
     "name": "stdout",
     "output_type": "stream",
     "text": [
      "(159381, 20)\n",
      "(159381, 2)\n"
     ]
    }
   ],
   "source": [
    "x_original=pd.read_csv('../_xlable4_withNa_AllColumns.txt')\n",
    "y_original=pd.read_csv('../_targelable4_withNa_AllColumns.txt')\n",
    "\n",
    "# x_original=x_original[['Unnamed: 0','S000501', 'S000502', 'S000300', 'SEX', 'L190400', 'L190300', 'L190500', 'L100700',\n",
    "#                        'L103300', 'L103000', 'L100800', 'L100500', 'S000100', 'L101700', 'L101300', 'L101600',\n",
    "#                        'FIELD_33', 'FIELD_38', 'FIELD_40', 'FIELD_29', 'FIELD_41', 'FIELD_27',\n",
    "#                        'FIELD_42', 'FIELD_21', 'AGE'\n",
    "# #                       'FIELD_7', 'FIELD_6', 'FIELD_5',\n",
    "#                       ]]\n",
    "\n",
    "# y_original=y_original[['Unnamed: 0','S000501', 'S000502', 'S000300', 'SEX', 'L190400', 'L190300', 'L190500', 'L100700',\n",
    "#                        'L103300', 'L103000', 'L100800', 'L100500', 'S000100', 'L101700', 'L101300', 'L101600',\n",
    "#                        'FIELD_33', 'FIELD_38', 'FIELD_40', 'FIELD_29', 'FIELD_41', 'FIELD_27',\n",
    "#                        'FIELD_42', 'FIELD_21', 'AGE'\n",
    "# #                       'FIELD_7', 'FIELD_6', 'FIELD_5',\n",
    "#                       ]]\n",
    "\n",
    "\n",
    "x_original=x_original[['Unnamed: 0','S000501','S000502','S000300','SEX','L190300','L190400','L190500','L100700','L103300',\n",
    "'L100500','S000100','L100800','L103000','L101700','L101300','FIELD_33','L101600','FIELD_38','AGE' \n",
    "                      ]]\n",
    "\n",
    "y_original=y_original[['Unnamed: 0','S000501']]\n",
    "\n",
    "print(x_original.shape)\n",
    "print(y_original.shape)\n"
   ]
  },
  {
   "cell_type": "code",
   "execution_count": 7,
   "metadata": {},
   "outputs": [
    {
     "name": "stdout",
     "output_type": "stream",
     "text": [
      "Unnamed: 0 159381\n",
      "S000501 159305\n",
      "S000502 159305\n",
      "S000300 159075\n",
      "SEX 159381\n",
      "L190300 159204\n",
      "L190400 159241\n",
      "L190500 159204\n",
      "L100700 152474\n",
      "L103300 135222\n",
      "L100500 158954\n",
      "S000100 159302\n",
      "L100800 159236\n",
      "L103000 158939\n",
      "L101700 158951\n",
      "L101300 159247\n",
      "FIELD_33 159069\n",
      "L101600 152251\n",
      "FIELD_38 159077\n",
      "AGE 159381\n"
     ]
    }
   ],
   "source": [
    "for index,col in enumerate(x_original.columns):\n",
    "    print(col,x_original[col].dropna().shape[0])"
   ]
  },
  {
   "cell_type": "markdown",
   "metadata": {},
   "source": [
    "Prepare the data\n",
    "============"
   ]
  },
  {
   "cell_type": "code",
   "execution_count": 8,
   "metadata": {},
   "outputs": [],
   "source": [
    "df=x_original.copy()\n",
    "conditions = [\n",
    "    (df.S000501 < 120)  ,\n",
    "    (df.S000501 >= 120) & (df.S000501 < 130),\n",
    "    (df.S000501 >=130)]\n",
    "choices = [0,1,2]\n",
    "df['sbpG'] = np.select(conditions, choices, default=0)\n",
    "df.head()\n",
    "x_original=df.copy()\n",
    "\n",
    "conditions2 = [\n",
    "    (df.S000502 < 80)  ,\n",
    "    (df.S000502 >= 80) & (df.S000502 < 90),\n",
    "    (df.S000502 >=90)]\n",
    "choices2 = [0,1,2]\n",
    "df['dbpG'] = np.select(conditions2, choices2, default=0)\n",
    "df.head()\n",
    "x_original=df.copy()\n",
    "\n",
    "conditions3 = [\n",
    "    (df.AGE < 30)  ,\n",
    "    (df.AGE >= 30) & (df.AGE < 40),\n",
    "    (df.AGE >= 40) & (df.AGE < 50),\n",
    "    (df.AGE >= 50) & (df.AGE < 60),\n",
    "    (df.AGE >= 60)]\n",
    "choices3 = [0,1,2,3,4]\n",
    "df['AgeG'] = np.select(conditions3, choices3, default=0)\n",
    "df.head()\n",
    "x_original=df.copy()\n",
    "\n",
    "\n",
    "conditions4 = [\n",
    "    (df.L100800 < 100)  ,\n",
    "    (df.L100800 >= 100) & (df.L100800 < 126), \n",
    "    (df.L100800 >= 126)]\n",
    "choices4 = [0,1,2]\n",
    "df['CLASS'] = np.select(conditions4, choices4, default=0)\n",
    "df.head()\n",
    "x_original=df.copy()"
   ]
  },
  {
   "cell_type": "code",
   "execution_count": 9,
   "metadata": {},
   "outputs": [
    {
     "name": "stdout",
     "output_type": "stream",
     "text": [
      "(128460, 26)\n"
     ]
    }
   ],
   "source": [
    "data= pd.merge(x_original,y_original, how='inner',left_on='Unnamed: 0', right_on='Unnamed: 0')\n",
    "data=data.dropna(). reset_index()\n",
    "\n",
    "# data=data[data.AGE_x >= 40]\n",
    "# data=data[data.AGE_x < 50]\n",
    "\n",
    "# data=data[data.CLASS_x==0]\n",
    "# data=data[data.sbpG==0]\n",
    "# data=data[data.dbpG==0]\n",
    "\n",
    "# data=data[data.L100800_y <200]\n",
    "\n",
    "print(data.shape)"
   ]
  },
  {
   "cell_type": "code",
   "execution_count": 10,
   "metadata": {},
   "outputs": [
    {
     "name": "stdout",
     "output_type": "stream",
     "text": [
      "(128460, 26)\n",
      "Index(['index', 'Unnamed: 0', 'S000501_x', 'S000502', 'S000300', 'SEX',\n",
      "       'L190300', 'L190400', 'L190500', 'L100700', 'L103300', 'L100500',\n",
      "       'S000100', 'L100800', 'L103000', 'L101700', 'L101300', 'FIELD_33',\n",
      "       'L101600', 'FIELD_38', 'AGE', 'sbpG', 'dbpG', 'AgeG', 'CLASS',\n",
      "       'S000501_y'],\n",
      "      dtype='object')\n"
     ]
    },
    {
     "data": {
      "text/html": [
       "<div>\n",
       "<style scoped>\n",
       "    .dataframe tbody tr th:only-of-type {\n",
       "        vertical-align: middle;\n",
       "    }\n",
       "\n",
       "    .dataframe tbody tr th {\n",
       "        vertical-align: top;\n",
       "    }\n",
       "\n",
       "    .dataframe thead th {\n",
       "        text-align: right;\n",
       "    }\n",
       "</style>\n",
       "<table border=\"1\" class=\"dataframe\">\n",
       "  <thead>\n",
       "    <tr style=\"text-align: right;\">\n",
       "      <th></th>\n",
       "      <th>index</th>\n",
       "      <th>Unnamed: 0</th>\n",
       "      <th>S000501_x</th>\n",
       "      <th>S000502</th>\n",
       "      <th>S000300</th>\n",
       "      <th>SEX</th>\n",
       "      <th>L190300</th>\n",
       "      <th>L190400</th>\n",
       "      <th>L190500</th>\n",
       "      <th>L100700</th>\n",
       "      <th>...</th>\n",
       "      <th>L101300</th>\n",
       "      <th>FIELD_33</th>\n",
       "      <th>L101600</th>\n",
       "      <th>FIELD_38</th>\n",
       "      <th>AGE</th>\n",
       "      <th>sbpG</th>\n",
       "      <th>dbpG</th>\n",
       "      <th>AgeG</th>\n",
       "      <th>CLASS</th>\n",
       "      <th>S000501_y</th>\n",
       "    </tr>\n",
       "  </thead>\n",
       "  <tbody>\n",
       "    <tr>\n",
       "      <th>0</th>\n",
       "      <td>0</td>\n",
       "      <td>0</td>\n",
       "      <td>121.0</td>\n",
       "      <td>67.0</td>\n",
       "      <td>20.1</td>\n",
       "      <td>1.0</td>\n",
       "      <td>4.20</td>\n",
       "      <td>12.3</td>\n",
       "      <td>38.2</td>\n",
       "      <td>3.0</td>\n",
       "      <td>...</td>\n",
       "      <td>8.0</td>\n",
       "      <td>1.0</td>\n",
       "      <td>49.0</td>\n",
       "      <td>1.0</td>\n",
       "      <td>44.0</td>\n",
       "      <td>1</td>\n",
       "      <td>0</td>\n",
       "      <td>2</td>\n",
       "      <td>0</td>\n",
       "      <td>117.0</td>\n",
       "    </tr>\n",
       "    <tr>\n",
       "      <th>1</th>\n",
       "      <td>1</td>\n",
       "      <td>1</td>\n",
       "      <td>117.0</td>\n",
       "      <td>76.0</td>\n",
       "      <td>19.7</td>\n",
       "      <td>1.0</td>\n",
       "      <td>4.24</td>\n",
       "      <td>13.1</td>\n",
       "      <td>39.0</td>\n",
       "      <td>3.0</td>\n",
       "      <td>...</td>\n",
       "      <td>9.0</td>\n",
       "      <td>1.0</td>\n",
       "      <td>51.0</td>\n",
       "      <td>1.0</td>\n",
       "      <td>45.0</td>\n",
       "      <td>0</td>\n",
       "      <td>0</td>\n",
       "      <td>2</td>\n",
       "      <td>0</td>\n",
       "      <td>135.0</td>\n",
       "    </tr>\n",
       "    <tr>\n",
       "      <th>2</th>\n",
       "      <td>2</td>\n",
       "      <td>2</td>\n",
       "      <td>135.0</td>\n",
       "      <td>82.0</td>\n",
       "      <td>20.2</td>\n",
       "      <td>1.0</td>\n",
       "      <td>4.26</td>\n",
       "      <td>12.9</td>\n",
       "      <td>38.4</td>\n",
       "      <td>3.8</td>\n",
       "      <td>...</td>\n",
       "      <td>10.0</td>\n",
       "      <td>1.0</td>\n",
       "      <td>56.0</td>\n",
       "      <td>2.0</td>\n",
       "      <td>46.0</td>\n",
       "      <td>2</td>\n",
       "      <td>1</td>\n",
       "      <td>2</td>\n",
       "      <td>0</td>\n",
       "      <td>129.0</td>\n",
       "    </tr>\n",
       "    <tr>\n",
       "      <th>3</th>\n",
       "      <td>3</td>\n",
       "      <td>3</td>\n",
       "      <td>118.0</td>\n",
       "      <td>71.0</td>\n",
       "      <td>24.8</td>\n",
       "      <td>1.0</td>\n",
       "      <td>4.20</td>\n",
       "      <td>13.5</td>\n",
       "      <td>40.3</td>\n",
       "      <td>3.7</td>\n",
       "      <td>...</td>\n",
       "      <td>12.0</td>\n",
       "      <td>1.0</td>\n",
       "      <td>42.0</td>\n",
       "      <td>0.0</td>\n",
       "      <td>51.0</td>\n",
       "      <td>0</td>\n",
       "      <td>0</td>\n",
       "      <td>3</td>\n",
       "      <td>0</td>\n",
       "      <td>111.0</td>\n",
       "    </tr>\n",
       "    <tr>\n",
       "      <th>4</th>\n",
       "      <td>4</td>\n",
       "      <td>4</td>\n",
       "      <td>111.0</td>\n",
       "      <td>65.0</td>\n",
       "      <td>25.5</td>\n",
       "      <td>1.0</td>\n",
       "      <td>3.92</td>\n",
       "      <td>12.6</td>\n",
       "      <td>38.6</td>\n",
       "      <td>3.4</td>\n",
       "      <td>...</td>\n",
       "      <td>12.0</td>\n",
       "      <td>1.0</td>\n",
       "      <td>46.0</td>\n",
       "      <td>0.0</td>\n",
       "      <td>52.0</td>\n",
       "      <td>0</td>\n",
       "      <td>0</td>\n",
       "      <td>3</td>\n",
       "      <td>0</td>\n",
       "      <td>122.0</td>\n",
       "    </tr>\n",
       "  </tbody>\n",
       "</table>\n",
       "<p>5 rows × 26 columns</p>\n",
       "</div>"
      ],
      "text/plain": [
       "   index  Unnamed: 0  S000501_x  S000502  S000300  SEX  L190300  L190400  \\\n",
       "0      0           0      121.0     67.0     20.1  1.0     4.20     12.3   \n",
       "1      1           1      117.0     76.0     19.7  1.0     4.24     13.1   \n",
       "2      2           2      135.0     82.0     20.2  1.0     4.26     12.9   \n",
       "3      3           3      118.0     71.0     24.8  1.0     4.20     13.5   \n",
       "4      4           4      111.0     65.0     25.5  1.0     3.92     12.6   \n",
       "\n",
       "   L190500  L100700  ...  L101300  FIELD_33  L101600  FIELD_38   AGE  sbpG  \\\n",
       "0     38.2      3.0  ...      8.0       1.0     49.0       1.0  44.0     1   \n",
       "1     39.0      3.0  ...      9.0       1.0     51.0       1.0  45.0     0   \n",
       "2     38.4      3.8  ...     10.0       1.0     56.0       2.0  46.0     2   \n",
       "3     40.3      3.7  ...     12.0       1.0     42.0       0.0  51.0     0   \n",
       "4     38.6      3.4  ...     12.0       1.0     46.0       0.0  52.0     0   \n",
       "\n",
       "   dbpG  AgeG  CLASS  S000501_y  \n",
       "0     0     2      0      117.0  \n",
       "1     0     2      0      135.0  \n",
       "2     1     2      0      129.0  \n",
       "3     0     3      0      111.0  \n",
       "4     0     3      0      122.0  \n",
       "\n",
       "[5 rows x 26 columns]"
      ]
     },
     "execution_count": 10,
     "metadata": {},
     "output_type": "execute_result"
    }
   ],
   "source": [
    "print(data.shape)\n",
    "print(data.columns)\n",
    "data.head()"
   ]
  },
  {
   "cell_type": "code",
   "execution_count": 11,
   "metadata": {},
   "outputs": [],
   "source": [
    "x=data[['S000501_x','S000502','S000300','SEX','L190300','L190400','L190500','L100700','L103300',\n",
    "'L100500','S000100','L100800','L103000','L101700','L101300','FIELD_33','L101600','FIELD_38','AGE'\n",
    "       ]]\n",
    "\n",
    "y=data[['S000501_y']]"
   ]
  },
  {
   "cell_type": "markdown",
   "metadata": {},
   "source": [
    "Check the correlation of the selected feature with the independent variables\n",
    "====="
   ]
  },
  {
   "cell_type": "code",
   "execution_count": 12,
   "metadata": {},
   "outputs": [],
   "source": [
    "temppd=pd.DataFrame(x.copy())\n",
    "temppd['y']=y.S000501_y\n",
    "temppd.head()\n",
    "corval=abs(temppd.corr()).sort_values(by='y', ascending=False)"
   ]
  },
  {
   "cell_type": "code",
   "execution_count": 13,
   "metadata": {},
   "outputs": [
    {
     "data": {
      "text/plain": [
       "y            1.000000\n",
       "S000501_x    0.665415\n",
       "S000502      0.571261\n",
       "S000300      0.444974\n",
       "SEX          0.378057\n",
       "L190300      0.353069\n",
       "L190400      0.351748\n",
       "L190500      0.345989\n",
       "L100700      0.341870\n",
       "L103300      0.287153\n",
       "L100500      0.276579\n",
       "S000100      0.275239\n",
       "L100800      0.264204\n",
       "L103000      0.261050\n",
       "L101700      0.246883\n",
       "L101300      0.238835\n",
       "FIELD_33     0.208663\n",
       "L101600      0.197378\n",
       "FIELD_38     0.181564\n",
       "AGE          0.157404\n",
       "Name: y, dtype: float64"
      ]
     },
     "execution_count": 13,
     "metadata": {},
     "output_type": "execute_result"
    }
   ],
   "source": [
    "corval.y"
   ]
  },
  {
   "cell_type": "code",
   "execution_count": 14,
   "metadata": {},
   "outputs": [],
   "source": [
    "#histogram plot of the features\n",
    "# import matplotlib.pyplot as plt\n",
    "# x[x.dtypes[(x.dtypes==\"float64\")|(x.dtypes==\"int64\")]\n",
    "#                         .index.values].hist(figsize=[11,11])"
   ]
  },
  {
   "cell_type": "markdown",
   "metadata": {},
   "source": [
    "Apply PCA\n",
    "==========="
   ]
  },
  {
   "cell_type": "code",
   "execution_count": 15,
   "metadata": {},
   "outputs": [],
   "source": [
    "# from sklearn.decomposition import PCA\n",
    "# pca = PCA(n_components=8)\n",
    "# pca.fit(x)\n",
    "\n",
    "# print(pca.explained_variance_ratio_)   \n",
    "# print(np.sum(pca.explained_variance_ratio_))\n",
    "\n",
    "# x=pca.fit_transform(x) \n",
    "# print(x.shape)\n"
   ]
  },
  {
   "cell_type": "markdown",
   "metadata": {},
   "source": [
    "feature scaling\n",
    "======="
   ]
  },
  {
   "cell_type": "code",
   "execution_count": 16,
   "metadata": {},
   "outputs": [],
   "source": [
    "# from sklearn import preprocessing\n",
    "# min_max_scaler = preprocessing.MinMaxScaler()  #StandardScaler()\n",
    "# x = min_max_scaler.fit_transform(x)"
   ]
  },
  {
   "cell_type": "markdown",
   "metadata": {},
   "source": [
    "clustring test\n",
    "=========="
   ]
  },
  {
   "cell_type": "code",
   "execution_count": 17,
   "metadata": {},
   "outputs": [],
   "source": [
    "# from sklearn.cluster import KMeans\n",
    "# from scipy.spatial.distance import cdist\n",
    "\n",
    "# K = range(1,10)\n",
    "# distortions = []\n",
    "\n",
    "# for k in K:\n",
    "#     kmeanModel = KMeans(n_clusters=k).fit(x)\n",
    "#     kmeanModel.fit(x)\n",
    "#     distortions.append(sum(np.min(cdist(x, kmeanModel.cluster_centers_, 'euclidean'), axis=1)) / x.shape[0])\n",
    "\n",
    "# # Plot the elbow\n",
    "# plt.plot(K, distortions, 'bx-')\n",
    "# plt.xlabel('k')\n",
    "# plt.ylabel('Distortion')\n",
    "# plt.title('The Elbow Method showing the optimal k')\n",
    "# plt.show()\n"
   ]
  },
  {
   "cell_type": "code",
   "execution_count": 18,
   "metadata": {},
   "outputs": [],
   "source": [
    "# kmeanModel = KMeans(n_clusters=k).fit(x)\n",
    "# x['lbl']=kmeanModel.labels_ "
   ]
  },
  {
   "cell_type": "code",
   "execution_count": 19,
   "metadata": {},
   "outputs": [],
   "source": [
    "# x.columns"
   ]
  },
  {
   "cell_type": "markdown",
   "metadata": {},
   "source": [
    "Random Forest Regressor\n",
    "============="
   ]
  },
  {
   "cell_type": "code",
   "execution_count": 20,
   "metadata": {},
   "outputs": [],
   "source": [
    "ylable=y[['S000501_y']]  \n",
    "xtrain,xtest,ytrain,ytest=train_test_split(x, ylable, random_state=42, test_size=0.2)"
   ]
  },
  {
   "cell_type": "code",
   "execution_count": 21,
   "metadata": {},
   "outputs": [
    {
     "name": "stdout",
     "output_type": "stream",
     "text": [
      "[8.76029950e-01 2.06934272e-02 4.24754273e-02 4.16276785e-02\n",
      " 9.35850548e-04 9.82993327e-04 9.66691184e-04 1.54681287e-03\n",
      " 4.99921244e-04 4.58351572e-04 1.09441529e-03 1.28708919e-03\n",
      " 8.94620118e-04 2.21510917e-03 8.19945646e-04 3.36715964e-05\n",
      " 8.93227087e-04 3.12468247e-04 6.23235003e-03]\n"
     ]
    }
   ],
   "source": [
    "regr = RandomForestRegressor(max_depth=7, random_state=0,verbose =0,n_estimators=500)\n",
    "regr.fit(xtrain, ytrain) \n",
    "print(regr.feature_importances_)\n",
    "ypred=regr.predict(xtest)\n"
   ]
  },
  {
   "cell_type": "code",
   "execution_count": 22,
   "metadata": {},
   "outputs": [
    {
     "name": "stdout",
     "output_type": "stream",
     "text": [
      "mean_squared_error 81.23227633967993\n",
      "root mean_squared_error 9.012895003253945\n",
      "mean_absolute_error 7.151475502823037\n",
      "r2_score 0.48787270752175904\n"
     ]
    },
    {
     "data": {
      "image/png": "[encoded data removed]",
      "text/plain": [
       "<Figure size 432x288 with 1 Axes>"
      ]
     },
     "metadata": {
      "needs_background": "light"
     },
     "output_type": "display_data"
    },
    {
     "data": {
      "text/html": [
       "<div>\n",
       "<style scoped>\n",
       "    .dataframe tbody tr th:only-of-type {\n",
       "        vertical-align: middle;\n",
       "    }\n",
       "\n",
       "    .dataframe tbody tr th {\n",
       "        vertical-align: top;\n",
       "    }\n",
       "\n",
       "    .dataframe thead th {\n",
       "        text-align: right;\n",
       "    }\n",
       "</style>\n",
       "<table border=\"1\" class=\"dataframe\">\n",
       "  <thead>\n",
       "    <tr style=\"text-align: right;\">\n",
       "      <th></th>\n",
       "      <th>t + 1</th>\n",
       "      <th>pred (t +1)</th>\n",
       "    </tr>\n",
       "  </thead>\n",
       "  <tbody>\n",
       "    <tr>\n",
       "      <th>23300</th>\n",
       "      <td>170.0</td>\n",
       "      <td>132.360276</td>\n",
       "    </tr>\n",
       "    <tr>\n",
       "      <th>8426</th>\n",
       "      <td>170.0</td>\n",
       "      <td>123.052078</td>\n",
       "    </tr>\n",
       "    <tr>\n",
       "      <th>7591</th>\n",
       "      <td>173.0</td>\n",
       "      <td>149.068889</td>\n",
       "    </tr>\n",
       "    <tr>\n",
       "      <th>23793</th>\n",
       "      <td>175.0</td>\n",
       "      <td>130.084740</td>\n",
       "    </tr>\n",
       "    <tr>\n",
       "      <th>132</th>\n",
       "      <td>175.0</td>\n",
       "      <td>136.240752</td>\n",
       "    </tr>\n",
       "    <tr>\n",
       "      <th>21357</th>\n",
       "      <td>175.0</td>\n",
       "      <td>138.032195</td>\n",
       "    </tr>\n",
       "    <tr>\n",
       "      <th>9649</th>\n",
       "      <td>178.0</td>\n",
       "      <td>133.294920</td>\n",
       "    </tr>\n",
       "    <tr>\n",
       "      <th>11878</th>\n",
       "      <td>180.0</td>\n",
       "      <td>137.807436</td>\n",
       "    </tr>\n",
       "    <tr>\n",
       "      <th>3147</th>\n",
       "      <td>180.0</td>\n",
       "      <td>137.970689</td>\n",
       "    </tr>\n",
       "    <tr>\n",
       "      <th>3719</th>\n",
       "      <td>194.0</td>\n",
       "      <td>166.264334</td>\n",
       "    </tr>\n",
       "  </tbody>\n",
       "</table>\n",
       "</div>"
      ],
      "text/plain": [
       "       t + 1  pred (t +1)\n",
       "23300  170.0   132.360276\n",
       "8426   170.0   123.052078\n",
       "7591   173.0   149.068889\n",
       "23793  175.0   130.084740\n",
       "132    175.0   136.240752\n",
       "21357  175.0   138.032195\n",
       "9649   178.0   133.294920\n",
       "11878  180.0   137.807436\n",
       "3147   180.0   137.970689\n",
       "3719   194.0   166.264334"
      ]
     },
     "execution_count": 22,
     "metadata": {},
     "output_type": "execute_result"
    },
    {
     "data": {
      "image/png": "[encoded data removed]",
      "text/plain": [
       "<Figure size 432x288 with 1 Axes>"
      ]
     },
     "metadata": {
      "needs_background": "light"
     },
     "output_type": "display_data"
    }
   ],
   "source": [
    "\n",
    "import math\n",
    "print('mean_squared_error',mean_squared_error(ytest, ypred))\n",
    "print('root mean_squared_error',math.sqrt(mean_squared_error(ytest, ypred)))\n",
    "print('mean_absolute_error',mean_absolute_error(ytest, ypred))\n",
    "print('r2_score',r2_score(ytest, ypred))\n",
    "\n",
    "ypredPD=pd.DataFrame()\n",
    "# ypredPD['t']=xtest['S000501_x'].values\n",
    "ypredPD['t + 1']=ytest.values.ravel()\n",
    "ypredPD['pred (t +1)']=ypred\n",
    "ypredPD.head(30)\n",
    "\n",
    "import matplotlib.patches as mpatches\n",
    "plt.ylabel('Values')\n",
    "plt.xlabel('index')\n",
    "red_patch = mpatches.Patch(color='red', label='Actual data')\n",
    "blue_patch = mpatches.Patch(color='blue', label='Predicted data')\n",
    "plt.legend(handles=[red_patch,blue_patch])\n",
    "\n",
    "ypredPD=ypredPD.sort_values(by=['t + 1'])\n",
    "plt.scatter(np.arange(0,ypredPD.shape[0],1),ypredPD['pred (t +1)'][:ypredPD.shape[0]])\n",
    "plt.plot(np.arange(0,ypredPD.shape[0],1),ypredPD['t + 1'][:ypredPD.shape[0]],color='red')\n",
    "plt.show()\n",
    "\n",
    "plt.ylabel('p*(t+1), Predicted data')\n",
    "plt.xlabel('p(t+1), Actual data')\n",
    "plt.scatter(ypredPD['t + 1'][:ypredPD.shape[0]],ypredPD['pred (t +1)'][:ypredPD.shape[0]])\n",
    "\n",
    "ypredPD.tail(10)"
   ]
  },
  {
   "cell_type": "code",
   "execution_count": 23,
   "metadata": {},
   "outputs": [],
   "source": [
    "# tempdata=pd.DataFrame(xtest.copy())\n",
    "# tempdata['ytest']=ytest\n",
    "# # temp=temp.dropna()\n",
    "# # tempdata.head()\n",
    "# # tempdata[tempdata.ytest.isna()].index\n",
    "\n",
    "# tempdata=tempdata.drop(tempdata[tempdata.ytest.isna()].index)\n"
   ]
  },
  {
   "cell_type": "markdown",
   "metadata": {},
   "source": [
    "xg boost\n",
    "=========="
   ]
  },
  {
   "cell_type": "code",
   "execution_count": 24,
   "metadata": {},
   "outputs": [],
   "source": [
    "import xgboost as xgb\n",
    "# from sklearn.metrics import mean_squared_error\n",
    "# import pandas as pd\n",
    "# import numpy as np"
   ]
  },
  {
   "cell_type": "code",
   "execution_count": 25,
   "metadata": {},
   "outputs": [
    {
     "name": "stdout",
     "output_type": "stream",
     "text": [
      "[03:05:22] WARNING: C:/Jenkins/workspace/xgboost-win64_release_0.90/src/objective/regression_obj.cu:152: reg:linear is now deprecated in favor of reg:squarederror.\n"
     ]
    },
    {
     "data": {
      "text/plain": [
       "XGBRegressor(base_score=0.5, booster='gbtree', colsample_bylevel=1,\n",
       "             colsample_bynode=1, colsample_bytree=1, gamma=0,\n",
       "             importance_type='gain', learning_rate=0.1, max_delta_step=0,\n",
       "             max_depth=3, min_child_weight=1, missing=None, n_estimators=100,\n",
       "             n_jobs=1, nthread=None, objective='reg:linear', random_state=0,\n",
       "             reg_alpha=0, reg_lambda=1, scale_pos_weight=1, seed=None,\n",
       "             silent=None, subsample=1, verbosity=1)"
      ]
     },
     "execution_count": 25,
     "metadata": {},
     "output_type": "execute_result"
    }
   ],
   "source": [
    "xg_reg = xgb.XGBRegressor()\n",
    "# xg_reg = xgb.XGBRegressor(objective ='reg:linear', colsample_bytree = 0.3, \n",
    "#                           learning_rate = 0.1,max_depth = 5, alpha = 10, n_estimators = 10)\n",
    "xg_reg.fit(xtrain, ytrain) "
   ]
  },
  {
   "cell_type": "code",
   "execution_count": 26,
   "metadata": {},
   "outputs": [
    {
     "name": "stdout",
     "output_type": "stream",
     "text": [
      "mean_squared_error 80.2885208107834\n",
      "root mean_squared_error 8.96038619763587\n",
      "mean_absolute_error 7.103183754949615\n",
      "r2_score 0.4938225957380401\n"
     ]
    }
   ],
   "source": [
    "\n",
    "ypred = xg_reg.predict(xtest)\n",
    "\n",
    "import math\n",
    "print('mean_squared_error',mean_squared_error(ytest, ypred))\n",
    "print('root mean_squared_error',math.sqrt(mean_squared_error(ytest, ypred)))\n",
    "print('mean_absolute_error',mean_absolute_error(ytest, ypred))\n",
    "print('r2_score',r2_score(ytest, ypred))\n",
    "\n",
    "# ypredPD=pd.DataFrame()\n",
    "# ypredPD['t']=xtest['S000501_x'].values\n",
    "# ypredPD['t + 1']=ytest.values\n",
    "# ypredPD['pred (t +1)']=ypred\n",
    "# ypredPD.head(10)"
   ]
  },
  {
   "cell_type": "code",
   "execution_count": 138,
   "metadata": {},
   "outputs": [],
   "source": [
    "# ytest[ytest.isna()].shape\n",
    "# tempdata.iloc[:,-1]"
   ]
  },
  {
   "cell_type": "markdown",
   "metadata": {},
   "source": [
    "ANN\n",
    "=========="
   ]
  },
  {
   "cell_type": "code",
   "execution_count": 141,
   "metadata": {},
   "outputs": [],
   "source": [
    "model= Sequential()\n",
    "model.add(Dense(input_dim=29,units=128,activation='relu', kernel_initializer='uniform'))\n",
    "model.add(Dense(units=128, activation='relu', kernel_initializer='uniform')) \n",
    "model.add(BatchNormalization())\n",
    "model.add(Dropout(0.25))  \n",
    "model.add(Dense(units=64, activation='relu', kernel_initializer='uniform'))\n",
    "model.add(Dense(units=32, activation='relu', kernel_initializer='uniform')) \n",
    "model.add(BatchNormalization())\n",
    "model.add(Dropout(0.25))  \n",
    "model.add(Dense(units=16, activation='relu', kernel_initializer='uniform'))\n",
    "model.add(BatchNormalization())\n",
    "model.add(Dropout(0.25))  \n",
    "model.add(Dense(units=8, activation='relu', kernel_initializer='uniform'))\n",
    "model.add(Dense(units=1, kernel_initializer='uniform'))\n",
    "model.compile(loss='mean_squared_error', optimizer='Nadam', metrics=['mean_squared_error' ])"
   ]
  },
  {
   "cell_type": "code",
   "execution_count": 142,
   "metadata": {
    "scrolled": true
   },
   "outputs": [
    {
     "name": "stdout",
     "output_type": "stream",
     "text": [
      "Train on 75152 samples, validate on 18789 samples\n",
      "Epoch 1/100\n",
      "75152/75152 [==============================] - 5s 66us/step - loss: 2174.7941 - mean_squared_error: 2174.7941 - val_loss: 355.6251 - val_mean_squared_error: 355.6251\n",
      "Epoch 2/100\n",
      "75152/75152 [==============================] - 3s 41us/step - loss: 549.0262 - mean_squared_error: 549.0262 - val_loss: 405.6969 - val_mean_squared_error: 405.6969\n",
      "Epoch 3/100\n",
      "75152/75152 [==============================] - 3s 38us/step - loss: 486.4230 - mean_squared_error: 486.4230 - val_loss: 214.7048 - val_mean_squared_error: 214.7048\n",
      "Epoch 4/100\n",
      "75152/75152 [==============================] - 3s 37us/step - loss: 419.0946 - mean_squared_error: 419.0946 - val_loss: 211.0288 - val_mean_squared_error: 211.0288\n",
      "Epoch 5/100\n",
      "75152/75152 [==============================] - 3s 37us/step - loss: 359.0444 - mean_squared_error: 359.0444 - val_loss: 145.3150 - val_mean_squared_error: 145.3150\n",
      "Epoch 6/100\n",
      "75152/75152 [==============================] - 3s 37us/step - loss: 252.5915 - mean_squared_error: 252.5915 - val_loss: 100.1070 - val_mean_squared_error: 100.1070\n",
      "Epoch 7/100\n",
      "75152/75152 [==============================] - 3s 38us/step - loss: 163.9689 - mean_squared_error: 163.9689 - val_loss: 98.6231 - val_mean_squared_error: 98.6231\n",
      "Epoch 8/100\n",
      "75152/75152 [==============================] - 3s 38us/step - loss: 105.5087 - mean_squared_error: 105.5087 - val_loss: 86.2967 - val_mean_squared_error: 86.2967\n",
      "Epoch 9/100\n",
      "75152/75152 [==============================] - 3s 37us/step - loss: 94.5034 - mean_squared_error: 94.5034 - val_loss: 86.4961 - val_mean_squared_error: 86.4961\n",
      "Epoch 10/100\n",
      "75152/75152 [==============================] - 3s 37us/step - loss: 92.2107 - mean_squared_error: 92.2107 - val_loss: 86.3306 - val_mean_squared_error: 86.3306\n",
      "Epoch 11/100\n",
      "75152/75152 [==============================] - 3s 37us/step - loss: 90.0479 - mean_squared_error: 90.0479 - val_loss: 85.8781 - val_mean_squared_error: 85.8781\n",
      "Epoch 12/100\n",
      "75152/75152 [==============================] - 3s 37us/step - loss: 88.9597 - mean_squared_error: 88.9597 - val_loss: 89.2265 - val_mean_squared_error: 89.2265\n",
      "Epoch 13/100\n",
      "75152/75152 [==============================] - 3s 37us/step - loss: 88.2223 - mean_squared_error: 88.2223 - val_loss: 102.4462 - val_mean_squared_error: 102.4462\n",
      "Epoch 14/100\n",
      "75152/75152 [==============================] - 3s 37us/step - loss: 87.8180 - mean_squared_error: 87.8180 - val_loss: 82.6224 - val_mean_squared_error: 82.6224\n",
      "Epoch 15/100\n",
      "75152/75152 [==============================] - 3s 37us/step - loss: 87.3484 - mean_squared_error: 87.3484 - val_loss: 81.0249 - val_mean_squared_error: 81.0249\n",
      "Epoch 16/100\n",
      "75152/75152 [==============================] - 3s 37us/step - loss: 87.0852 - mean_squared_error: 87.0852 - val_loss: 91.4302 - val_mean_squared_error: 91.4302\n",
      "Epoch 17/100\n",
      "75152/75152 [==============================] - 3s 37us/step - loss: 86.6919 - mean_squared_error: 86.6919 - val_loss: 82.4661 - val_mean_squared_error: 82.4661\n",
      "Epoch 18/100\n",
      "75152/75152 [==============================] - 3s 37us/step - loss: 86.9729 - mean_squared_error: 86.9729 - val_loss: 82.3743 - val_mean_squared_error: 82.3743\n",
      "Epoch 19/100\n",
      "75152/75152 [==============================] - 3s 37us/step - loss: 86.5270 - mean_squared_error: 86.5270 - val_loss: 81.6366 - val_mean_squared_error: 81.6366\n",
      "Epoch 20/100\n",
      "75152/75152 [==============================] - 3s 37us/step - loss: 86.1939 - mean_squared_error: 86.1939 - val_loss: 81.8381 - val_mean_squared_error: 81.8381\n",
      "Epoch 21/100\n",
      "75152/75152 [==============================] - 3s 37us/step - loss: 86.0593 - mean_squared_error: 86.0593 - val_loss: 79.2459 - val_mean_squared_error: 79.2459\n",
      "Epoch 22/100\n",
      "75152/75152 [==============================] - 3s 37us/step - loss: 86.0161 - mean_squared_error: 86.0161 - val_loss: 81.0726 - val_mean_squared_error: 81.0726\n",
      "Epoch 23/100\n",
      "75152/75152 [==============================] - 3s 37us/step - loss: 86.0551 - mean_squared_error: 86.0551 - val_loss: 79.4757 - val_mean_squared_error: 79.4757\n",
      "Epoch 24/100\n",
      "75152/75152 [==============================] - 3s 37us/step - loss: 86.1797 - mean_squared_error: 86.1797 - val_loss: 83.6376 - val_mean_squared_error: 83.6376\n",
      "Epoch 25/100\n",
      "75152/75152 [==============================] - 3s 37us/step - loss: 85.6752 - mean_squared_error: 85.6752 - val_loss: 79.7181 - val_mean_squared_error: 79.7181\n",
      "Epoch 26/100\n",
      "75152/75152 [==============================] - 3s 37us/step - loss: 85.7109 - mean_squared_error: 85.7109 - val_loss: 80.2316 - val_mean_squared_error: 80.2316\n",
      "Epoch 27/100\n",
      "75152/75152 [==============================] - 3s 37us/step - loss: 85.9638 - mean_squared_error: 85.9638 - val_loss: 84.5186 - val_mean_squared_error: 84.5186\n",
      "Epoch 28/100\n",
      "75152/75152 [==============================] - 3s 37us/step - loss: 85.8213 - mean_squared_error: 85.8213 - val_loss: 81.3924 - val_mean_squared_error: 81.3924\n",
      "Epoch 29/100\n",
      "75152/75152 [==============================] - 3s 37us/step - loss: 85.6987 - mean_squared_error: 85.6987 - val_loss: 79.6077 - val_mean_squared_error: 79.6077\n",
      "Epoch 30/100\n",
      "75152/75152 [==============================] - 3s 37us/step - loss: 85.7891 - mean_squared_error: 85.7891 - val_loss: 79.8070 - val_mean_squared_error: 79.8070\n",
      "Epoch 31/100\n",
      "75152/75152 [==============================] - 3s 37us/step - loss: 85.6197 - mean_squared_error: 85.6197 - val_loss: 79.9016 - val_mean_squared_error: 79.9016\n",
      "Epoch 32/100\n",
      "75152/75152 [==============================] - 3s 37us/step - loss: 85.6954 - mean_squared_error: 85.6954 - val_loss: 80.2815 - val_mean_squared_error: 80.2815\n",
      "Epoch 33/100\n",
      "75152/75152 [==============================] - 3s 37us/step - loss: 85.5387 - mean_squared_error: 85.5387 - val_loss: 83.8552 - val_mean_squared_error: 83.8552\n",
      "Epoch 34/100\n",
      "75152/75152 [==============================] - 3s 37us/step - loss: 85.6339 - mean_squared_error: 85.6339 - val_loss: 81.8623 - val_mean_squared_error: 81.8623\n",
      "Epoch 35/100\n",
      "75152/75152 [==============================] - 3s 37us/step - loss: 85.5871 - mean_squared_error: 85.5871 - val_loss: 79.5431 - val_mean_squared_error: 79.5431\n",
      "Epoch 36/100\n",
      "75152/75152 [==============================] - 3s 37us/step - loss: 85.3155 - mean_squared_error: 85.3155 - val_loss: 81.9259 - val_mean_squared_error: 81.9259\n",
      "Epoch 37/100\n",
      "75152/75152 [==============================] - 3s 37us/step - loss: 85.4057 - mean_squared_error: 85.4057 - val_loss: 80.5373 - val_mean_squared_error: 80.5373\n",
      "Epoch 38/100\n",
      "75152/75152 [==============================] - 3s 37us/step - loss: 85.6929 - mean_squared_error: 85.6929 - val_loss: 85.2545 - val_mean_squared_error: 85.2545\n",
      "Epoch 39/100\n",
      "75152/75152 [==============================] - 3s 37us/step - loss: 85.7679 - mean_squared_error: 85.7679 - val_loss: 81.7647 - val_mean_squared_error: 81.7647\n",
      "Epoch 40/100\n",
      "75152/75152 [==============================] - 3s 37us/step - loss: 85.3782 - mean_squared_error: 85.3782 - val_loss: 82.2282 - val_mean_squared_error: 82.2282\n",
      "Epoch 41/100\n",
      "75152/75152 [==============================] - 3s 37us/step - loss: 85.3723 - mean_squared_error: 85.3723 - val_loss: 84.2539 - val_mean_squared_error: 84.2539\n",
      "Epoch 42/100\n",
      "75152/75152 [==============================] - 3s 37us/step - loss: 85.4239 - mean_squared_error: 85.4239 - val_loss: 79.8624 - val_mean_squared_error: 79.8624\n",
      "Epoch 43/100\n",
      "75152/75152 [==============================] - 3s 37us/step - loss: 85.4085 - mean_squared_error: 85.4085 - val_loss: 79.8198 - val_mean_squared_error: 79.8198\n",
      "Epoch 44/100\n",
      "75152/75152 [==============================] - 3s 37us/step - loss: 85.3238 - mean_squared_error: 85.3238 - val_loss: 81.5481 - val_mean_squared_error: 81.5481\n",
      "Epoch 45/100\n",
      "75152/75152 [==============================] - 3s 37us/step - loss: 85.4981 - mean_squared_error: 85.4981 - val_loss: 81.0673 - val_mean_squared_error: 81.0673\n",
      "Epoch 46/100\n",
      "75152/75152 [==============================] - 3s 37us/step - loss: 85.3491 - mean_squared_error: 85.3491 - val_loss: 80.2253 - val_mean_squared_error: 80.2253\n",
      "Epoch 47/100\n",
      "75152/75152 [==============================] - 3s 37us/step - loss: 85.6465 - mean_squared_error: 85.6465 - val_loss: 80.2939 - val_mean_squared_error: 80.2939\n"
     ]
    },
    {
     "name": "stdout",
     "output_type": "stream",
     "text": [
      "Epoch 48/100\n",
      "75152/75152 [==============================] - 3s 37us/step - loss: 85.5588 - mean_squared_error: 85.5588 - val_loss: 79.3126 - val_mean_squared_error: 79.3126\n",
      "Epoch 49/100\n",
      "75152/75152 [==============================] - 3s 37us/step - loss: 85.1431 - mean_squared_error: 85.1431 - val_loss: 81.6007 - val_mean_squared_error: 81.6007\n",
      "Epoch 50/100\n",
      "75152/75152 [==============================] - 3s 37us/step - loss: 85.1324 - mean_squared_error: 85.1324 - val_loss: 81.0497 - val_mean_squared_error: 81.0497\n",
      "Epoch 51/100\n",
      "75152/75152 [==============================] - 3s 37us/step - loss: 85.4888 - mean_squared_error: 85.4888 - val_loss: 80.2375 - val_mean_squared_error: 80.2375\n",
      "Epoch 52/100\n",
      "75152/75152 [==============================] - 3s 38us/step - loss: 85.3520 - mean_squared_error: 85.3520 - val_loss: 82.8974 - val_mean_squared_error: 82.8974\n",
      "Epoch 53/100\n",
      "75152/75152 [==============================] - 3s 38us/step - loss: 85.5081 - mean_squared_error: 85.5081 - val_loss: 79.0786 - val_mean_squared_error: 79.0786\n",
      "Epoch 54/100\n",
      "75152/75152 [==============================] - 3s 38us/step - loss: 85.3309 - mean_squared_error: 85.3309 - val_loss: 82.9676 - val_mean_squared_error: 82.9676\n",
      "Epoch 55/100\n",
      "75152/75152 [==============================] - 3s 38us/step - loss: 85.1704 - mean_squared_error: 85.1704 - val_loss: 79.8698 - val_mean_squared_error: 79.8698\n",
      "Epoch 56/100\n",
      "75152/75152 [==============================] - 3s 38us/step - loss: 85.1837 - mean_squared_error: 85.1837 - val_loss: 79.6216 - val_mean_squared_error: 79.6216\n",
      "Epoch 57/100\n",
      "75152/75152 [==============================] - 3s 38us/step - loss: 85.1081 - mean_squared_error: 85.1081 - val_loss: 79.7125 - val_mean_squared_error: 79.7125\n",
      "Epoch 58/100\n",
      "75152/75152 [==============================] - 3s 37us/step - loss: 85.0103 - mean_squared_error: 85.0103 - val_loss: 79.5502 - val_mean_squared_error: 79.5502\n",
      "Epoch 59/100\n",
      "75152/75152 [==============================] - 3s 38us/step - loss: 85.1638 - mean_squared_error: 85.1638 - val_loss: 79.7971 - val_mean_squared_error: 79.7971\n",
      "Epoch 60/100\n",
      "75152/75152 [==============================] - 3s 37us/step - loss: 85.1209 - mean_squared_error: 85.1209 - val_loss: 80.0337 - val_mean_squared_error: 80.0337\n",
      "Epoch 61/100\n",
      "75152/75152 [==============================] - 3s 37us/step - loss: 85.0097 - mean_squared_error: 85.0097 - val_loss: 79.5508 - val_mean_squared_error: 79.5508\n",
      "Epoch 62/100\n",
      "75152/75152 [==============================] - 3s 38us/step - loss: 84.9542 - mean_squared_error: 84.9542 - val_loss: 81.0086 - val_mean_squared_error: 81.0086\n",
      "Epoch 63/100\n",
      "75152/75152 [==============================] - 3s 37us/step - loss: 84.9175 - mean_squared_error: 84.9175 - val_loss: 82.6773 - val_mean_squared_error: 82.6773\n",
      "Epoch 64/100\n",
      "75152/75152 [==============================] - 3s 37us/step - loss: 85.2104 - mean_squared_error: 85.2104 - val_loss: 81.6240 - val_mean_squared_error: 81.6240\n",
      "Epoch 65/100\n",
      "75152/75152 [==============================] - 3s 37us/step - loss: 85.1318 - mean_squared_error: 85.1318 - val_loss: 78.8611 - val_mean_squared_error: 78.8611\n",
      "Epoch 66/100\n",
      "75152/75152 [==============================] - 3s 37us/step - loss: 85.0872 - mean_squared_error: 85.0872 - val_loss: 80.3388 - val_mean_squared_error: 80.3388\n",
      "Epoch 67/100\n",
      "75152/75152 [==============================] - 3s 37us/step - loss: 84.9691 - mean_squared_error: 84.9691 - val_loss: 79.7747 - val_mean_squared_error: 79.7747\n",
      "Epoch 68/100\n",
      "75152/75152 [==============================] - 3s 37us/step - loss: 84.7631 - mean_squared_error: 84.7631 - val_loss: 80.2805 - val_mean_squared_error: 80.2805\n",
      "Epoch 69/100\n",
      "75152/75152 [==============================] - 3s 37us/step - loss: 85.2471 - mean_squared_error: 85.2471 - val_loss: 79.5097 - val_mean_squared_error: 79.5097\n",
      "Epoch 70/100\n",
      "75152/75152 [==============================] - 3s 37us/step - loss: 85.1903 - mean_squared_error: 85.1903 - val_loss: 83.7760 - val_mean_squared_error: 83.7760\n",
      "Epoch 71/100\n",
      "75152/75152 [==============================] - 3s 37us/step - loss: 85.0938 - mean_squared_error: 85.0938 - val_loss: 80.3930 - val_mean_squared_error: 80.3930\n",
      "Epoch 72/100\n",
      "75152/75152 [==============================] - 3s 37us/step - loss: 85.0645 - mean_squared_error: 85.0645 - val_loss: 759.4944 - val_mean_squared_error: 759.4944\n",
      "Epoch 73/100\n",
      "75152/75152 [==============================] - 3s 37us/step - loss: 84.9037 - mean_squared_error: 84.9037 - val_loss: 80.0709 - val_mean_squared_error: 80.0709\n",
      "Epoch 74/100\n",
      "75152/75152 [==============================] - 3s 37us/step - loss: 85.1103 - mean_squared_error: 85.1103 - val_loss: 80.9128 - val_mean_squared_error: 80.9128\n",
      "Epoch 75/100\n",
      "75152/75152 [==============================] - 3s 37us/step - loss: 84.6313 - mean_squared_error: 84.6313 - val_loss: 4676.7307 - val_mean_squared_error: 4676.7307\n",
      "Epoch 76/100\n",
      "75152/75152 [==============================] - 3s 37us/step - loss: 84.9431 - mean_squared_error: 84.9431 - val_loss: 804.5075 - val_mean_squared_error: 804.5075\n",
      "Epoch 77/100\n",
      "75152/75152 [==============================] - 3s 37us/step - loss: 84.4911 - mean_squared_error: 84.4911 - val_loss: 44006.5352 - val_mean_squared_error: 44006.5352\n",
      "Epoch 78/100\n",
      "75152/75152 [==============================] - 3s 40us/step - loss: 84.9685 - mean_squared_error: 84.9685 - val_loss: 81.0193 - val_mean_squared_error: 81.0193\n",
      "Epoch 79/100\n",
      "75152/75152 [==============================] - 3s 39us/step - loss: 84.9536 - mean_squared_error: 84.9536 - val_loss: 71966.5469 - val_mean_squared_error: 71966.5469\n",
      "Epoch 80/100\n",
      "75152/75152 [==============================] - 3s 39us/step - loss: 84.9366 - mean_squared_error: 84.9366 - val_loss: 223993.9662 - val_mean_squared_error: 223993.9662\n",
      "Epoch 81/100\n",
      "75152/75152 [==============================] - 3s 37us/step - loss: 84.8033 - mean_squared_error: 84.8033 - val_loss: 818781.1763 - val_mean_squared_error: 818781.1763\n",
      "Epoch 82/100\n",
      "75152/75152 [==============================] - 3s 37us/step - loss: 85.1686 - mean_squared_error: 85.1686 - val_loss: 3309536.5133 - val_mean_squared_error: 3309536.5133\n",
      "Epoch 83/100\n",
      "75152/75152 [==============================] - 3s 38us/step - loss: 84.8288 - mean_squared_error: 84.8288 - val_loss: 206960.8468 - val_mean_squared_error: 206960.8468\n",
      "Epoch 84/100\n",
      "75152/75152 [==============================] - 3s 37us/step - loss: 84.7695 - mean_squared_error: 84.7695 - val_loss: 384333.8598 - val_mean_squared_error: 384333.8598\n",
      "Epoch 85/100\n",
      "75152/75152 [==============================] - 3s 37us/step - loss: 84.9683 - mean_squared_error: 84.9683 - val_loss: 16927429.6241 - val_mean_squared_error: 16927429.6241\n",
      "Epoch 86/100\n",
      "75152/75152 [==============================] - 3s 37us/step - loss: 85.0194 - mean_squared_error: 85.0194 - val_loss: 2484691.1712 - val_mean_squared_error: 2484691.1712\n",
      "Epoch 87/100\n",
      "75152/75152 [==============================] - 3s 37us/step - loss: 84.9364 - mean_squared_error: 84.9364 - val_loss: 41141268.9644 - val_mean_squared_error: 41141268.9644\n",
      "Epoch 88/100\n",
      "75152/75152 [==============================] - 3s 37us/step - loss: 84.7203 - mean_squared_error: 84.7203 - val_loss: 79.2043 - val_mean_squared_error: 79.2043\n",
      "Epoch 89/100\n",
      "75152/75152 [==============================] - 3s 37us/step - loss: 84.8905 - mean_squared_error: 84.8905 - val_loss: 208.8952 - val_mean_squared_error: 208.8952\n",
      "Epoch 90/100\n",
      "75152/75152 [==============================] - 3s 37us/step - loss: 84.7653 - mean_squared_error: 84.7653 - val_loss: 80.4863 - val_mean_squared_error: 80.4863\n",
      "Epoch 91/100\n",
      "75152/75152 [==============================] - 3s 38us/step - loss: 84.9095 - mean_squared_error: 84.9095 - val_loss: 19175.3838 - val_mean_squared_error: 19175.3838\n",
      "Epoch 92/100\n",
      "75152/75152 [==============================] - 3s 38us/step - loss: 84.6924 - mean_squared_error: 84.6924 - val_loss: 2803426.9241 - val_mean_squared_error: 2803426.9241\n",
      "Epoch 93/100\n",
      "75152/75152 [==============================] - 3s 37us/step - loss: 84.6738 - mean_squared_error: 84.6738 - val_loss: 10654569.2053 - val_mean_squared_error: 10654569.2053\n",
      "Epoch 94/100\n",
      "75152/75152 [==============================] - 3s 37us/step - loss: 84.6397 - mean_squared_error: 84.6397 - val_loss: 885720.9357 - val_mean_squared_error: 885720.9357\n",
      "Epoch 95/100\n",
      "75152/75152 [==============================] - 3s 37us/step - loss: 84.9371 - mean_squared_error: 84.9371 - val_loss: 132.3760 - val_mean_squared_error: 132.3760\n",
      "Epoch 96/100\n",
      "75152/75152 [==============================] - 3s 37us/step - loss: 84.8301 - mean_squared_error: 84.8301 - val_loss: 14625.8653 - val_mean_squared_error: 14625.8653\n",
      "Epoch 97/100\n",
      "75152/75152 [==============================] - 3s 37us/step - loss: 84.9731 - mean_squared_error: 84.9731 - val_loss: 135.8886 - val_mean_squared_error: 135.8886\n",
      "Epoch 98/100\n",
      "75152/75152 [==============================] - 3s 37us/step - loss: 84.8093 - mean_squared_error: 84.8093 - val_loss: 589.0689 - val_mean_squared_error: 589.0689\n",
      "Epoch 99/100\n",
      "75152/75152 [==============================] - 3s 37us/step - loss: 84.7142 - mean_squared_error: 84.7142 - val_loss: 82.7519 - val_mean_squared_error: 82.7519\n",
      "Epoch 100/100\n",
      "75152/75152 [==============================] - 3s 37us/step - loss: 84.8677 - mean_squared_error: 84.8677 - val_loss: 3143.7360 - val_mean_squared_error: 3143.7360\n"
     ]
    }
   ],
   "source": [
    "h=model.fit(xtrain, ytrain, validation_split=.2,epochs=100, batch_size=50)"
   ]
  },
  {
   "cell_type": "code",
   "execution_count": 143,
   "metadata": {},
   "outputs": [
    {
     "name": "stdout",
     "output_type": "stream",
     "text": [
      "mean_squared_error 81.9526432127656\n",
      "root mean_squared_error 9.052769919354274\n",
      "mean_absolute_error 7.211532201655707\n",
      "r2_score 0.4829376178887158\n"
     ]
    },
    {
     "data": {
      "text/html": [
       "<div>\n",
       "<style scoped>\n",
       "    .dataframe tbody tr th:only-of-type {\n",
       "        vertical-align: middle;\n",
       "    }\n",
       "\n",
       "    .dataframe tbody tr th {\n",
       "        vertical-align: top;\n",
       "    }\n",
       "\n",
       "    .dataframe thead th {\n",
       "        text-align: right;\n",
       "    }\n",
       "</style>\n",
       "<table border=\"1\" class=\"dataframe\">\n",
       "  <thead>\n",
       "    <tr style=\"text-align: right;\">\n",
       "      <th></th>\n",
       "      <th>t + 1</th>\n",
       "      <th>pred (t +1)</th>\n",
       "    </tr>\n",
       "  </thead>\n",
       "  <tbody>\n",
       "    <tr>\n",
       "      <th>0</th>\n",
       "      <td>116.0</td>\n",
       "      <td>115.232285</td>\n",
       "    </tr>\n",
       "    <tr>\n",
       "      <th>1</th>\n",
       "      <td>121.0</td>\n",
       "      <td>111.680481</td>\n",
       "    </tr>\n",
       "    <tr>\n",
       "      <th>2</th>\n",
       "      <td>104.0</td>\n",
       "      <td>101.966057</td>\n",
       "    </tr>\n",
       "    <tr>\n",
       "      <th>3</th>\n",
       "      <td>129.0</td>\n",
       "      <td>122.883102</td>\n",
       "    </tr>\n",
       "    <tr>\n",
       "      <th>4</th>\n",
       "      <td>130.0</td>\n",
       "      <td>107.285866</td>\n",
       "    </tr>\n",
       "    <tr>\n",
       "      <th>5</th>\n",
       "      <td>111.0</td>\n",
       "      <td>115.045097</td>\n",
       "    </tr>\n",
       "    <tr>\n",
       "      <th>6</th>\n",
       "      <td>132.0</td>\n",
       "      <td>133.787872</td>\n",
       "    </tr>\n",
       "    <tr>\n",
       "      <th>7</th>\n",
       "      <td>121.0</td>\n",
       "      <td>111.468750</td>\n",
       "    </tr>\n",
       "    <tr>\n",
       "      <th>8</th>\n",
       "      <td>102.0</td>\n",
       "      <td>104.243210</td>\n",
       "    </tr>\n",
       "    <tr>\n",
       "      <th>9</th>\n",
       "      <td>150.0</td>\n",
       "      <td>129.118744</td>\n",
       "    </tr>\n",
       "  </tbody>\n",
       "</table>\n",
       "</div>"
      ],
      "text/plain": [
       "   t + 1  pred (t +1)\n",
       "0  116.0   115.232285\n",
       "1  121.0   111.680481\n",
       "2  104.0   101.966057\n",
       "3  129.0   122.883102\n",
       "4  130.0   107.285866\n",
       "5  111.0   115.045097\n",
       "6  132.0   133.787872\n",
       "7  121.0   111.468750\n",
       "8  102.0   104.243210\n",
       "9  150.0   129.118744"
      ]
     },
     "execution_count": 143,
     "metadata": {},
     "output_type": "execute_result"
    }
   ],
   "source": [
    "ypred=model.predict(xtest)\n",
    "\n",
    "import math\n",
    "print('mean_squared_error',mean_squared_error(ytest, ypred))\n",
    "print('root mean_squared_error',math.sqrt(mean_squared_error(ytest, ypred)))\n",
    "print('mean_absolute_error',mean_absolute_error(ytest, ypred))\n",
    "print('r2_score',r2_score(ytest, ypred))\n",
    "\n",
    "ypredPD=pd.DataFrame()\n",
    "# ypredPD['t']=xtest['S000501_x'].values\n",
    "ypredPD['t + 1']=ytest.values.ravel()\n",
    "ypredPD['pred (t +1)']=ypred\n",
    "ypredPD.head(10)"
   ]
  },
  {
   "cell_type": "code",
   "execution_count": 144,
   "metadata": {},
   "outputs": [
    {
     "name": "stdout",
     "output_type": "stream",
     "text": [
      "dict_keys(['val_loss', 'val_mean_squared_error', 'loss', 'mean_squared_error'])\n"
     ]
    },
    {
     "data": {
      "image/png": "[encoded data removed]",
      "text/plain": [
       "<Figure size 432x288 with 1 Axes>"
      ]
     },
     "metadata": {
      "needs_background": "light"
     },
     "output_type": "display_data"
    },
    {
     "data": {
      "image/png": "[encoded data removed]",
      "text/plain": [
       "<Figure size 432x288 with 1 Axes>"
      ]
     },
     "metadata": {
      "needs_background": "light"
     },
     "output_type": "display_data"
    }
   ],
   "source": [
    "history=h\n",
    "print(history.history.keys())\n",
    "# summarize history for accuracy\n",
    "plt.plot(history.history['val_loss'])\n",
    "plt.plot(history.history['loss'])\n",
    "plt.title('model accuracy')\n",
    "plt.ylabel('accuracy')\n",
    "plt.xlabel('epoch')\n",
    "plt.legend(['train', 'test'], loc='upper left')\n",
    "plt.show()\n",
    "# summarize history for loss\n",
    "plt.plot(history.history['val_mean_squared_error'])\n",
    "plt.plot(history.history['mean_squared_error'])\n",
    "plt.title('model loss')\n",
    "plt.ylabel('loss')\n",
    "plt.xlabel('epoch')\n",
    "plt.legend(['train', 'test'], loc='upper left')\n",
    "plt.show()"
   ]
  },
  {
   "cell_type": "code",
   "execution_count": 145,
   "metadata": {},
   "outputs": [
    {
     "name": "stdout",
     "output_type": "stream",
     "text": [
      "7.211532201655707\n",
      "5.472334649603271\n",
      "41.714212722472965\n"
     ]
    }
   ],
   "source": [
    "ypredPD['diff']=abs(ypredPD['t + 1']- ypredPD['pred (t +1)'])\n",
    "print(np.mean(ypredPD['diff']))\n",
    "print(np.std(ypredPD['diff']))\n",
    "print(100*ypredPD[ypredPD['diff']<=5].shape[0]/ypredPD.shape[0])"
   ]
  },
  {
   "cell_type": "code",
   "execution_count": 146,
   "metadata": {},
   "outputs": [
    {
     "data": {
      "image/png": "[encoded data removed]",
      "text/plain": [
       "<Figure size 432x288 with 1 Axes>"
      ]
     },
     "metadata": {
      "needs_background": "light"
     },
     "output_type": "display_data"
    },
    {
     "data": {
      "text/html": [
       "<div>\n",
       "<style scoped>\n",
       "    .dataframe tbody tr th:only-of-type {\n",
       "        vertical-align: middle;\n",
       "    }\n",
       "\n",
       "    .dataframe tbody tr th {\n",
       "        vertical-align: top;\n",
       "    }\n",
       "\n",
       "    .dataframe thead th {\n",
       "        text-align: right;\n",
       "    }\n",
       "</style>\n",
       "<table border=\"1\" class=\"dataframe\">\n",
       "  <thead>\n",
       "    <tr style=\"text-align: right;\">\n",
       "      <th></th>\n",
       "      <th>t + 1</th>\n",
       "      <th>pred (t +1)</th>\n",
       "      <th>diff</th>\n",
       "    </tr>\n",
       "  </thead>\n",
       "  <tbody>\n",
       "    <tr>\n",
       "      <th>13044</th>\n",
       "      <td>80.0</td>\n",
       "      <td>104.974762</td>\n",
       "      <td>24.974762</td>\n",
       "    </tr>\n",
       "    <tr>\n",
       "      <th>2481</th>\n",
       "      <td>80.0</td>\n",
       "      <td>101.413292</td>\n",
       "      <td>21.413292</td>\n",
       "    </tr>\n",
       "    <tr>\n",
       "      <th>2019</th>\n",
       "      <td>82.0</td>\n",
       "      <td>108.596695</td>\n",
       "      <td>26.596695</td>\n",
       "    </tr>\n",
       "    <tr>\n",
       "      <th>14306</th>\n",
       "      <td>85.0</td>\n",
       "      <td>105.688011</td>\n",
       "      <td>20.688011</td>\n",
       "    </tr>\n",
       "    <tr>\n",
       "      <th>7511</th>\n",
       "      <td>88.0</td>\n",
       "      <td>101.242935</td>\n",
       "      <td>13.242935</td>\n",
       "    </tr>\n",
       "    <tr>\n",
       "      <th>3649</th>\n",
       "      <td>89.0</td>\n",
       "      <td>106.611969</td>\n",
       "      <td>17.611969</td>\n",
       "    </tr>\n",
       "    <tr>\n",
       "      <th>4750</th>\n",
       "      <td>89.0</td>\n",
       "      <td>103.507233</td>\n",
       "      <td>14.507233</td>\n",
       "    </tr>\n",
       "    <tr>\n",
       "      <th>5429</th>\n",
       "      <td>89.0</td>\n",
       "      <td>104.798561</td>\n",
       "      <td>15.798561</td>\n",
       "    </tr>\n",
       "    <tr>\n",
       "      <th>18369</th>\n",
       "      <td>89.0</td>\n",
       "      <td>101.271683</td>\n",
       "      <td>12.271683</td>\n",
       "    </tr>\n",
       "    <tr>\n",
       "      <th>8046</th>\n",
       "      <td>90.0</td>\n",
       "      <td>101.259949</td>\n",
       "      <td>11.259949</td>\n",
       "    </tr>\n",
       "  </tbody>\n",
       "</table>\n",
       "</div>"
      ],
      "text/plain": [
       "       t + 1  pred (t +1)       diff\n",
       "13044   80.0   104.974762  24.974762\n",
       "2481    80.0   101.413292  21.413292\n",
       "2019    82.0   108.596695  26.596695\n",
       "14306   85.0   105.688011  20.688011\n",
       "7511    88.0   101.242935  13.242935\n",
       "3649    89.0   106.611969  17.611969\n",
       "4750    89.0   103.507233  14.507233\n",
       "5429    89.0   104.798561  15.798561\n",
       "18369   89.0   101.271683  12.271683\n",
       "8046    90.0   101.259949  11.259949"
      ]
     },
     "execution_count": 146,
     "metadata": {},
     "output_type": "execute_result"
    },
    {
     "data": {
      "image/png": "[encoded data removed]",
      "text/plain": [
       "<Figure size 432x288 with 1 Axes>"
      ]
     },
     "metadata": {
      "needs_background": "light"
     },
     "output_type": "display_data"
    }
   ],
   "source": [
    "\n",
    "import matplotlib.patches as mpatches\n",
    "plt.ylabel('Values')\n",
    "plt.xlabel('index')\n",
    "red_patch = mpatches.Patch(color='red', label='Actual data')\n",
    "blue_patch = mpatches.Patch(color='blue', label='Predicted data')\n",
    "plt.legend(handles=[red_patch,blue_patch])\n",
    "\n",
    "ypredPD=ypredPD.sort_values(by=['t + 1'])\n",
    "plt.scatter(np.arange(0,ypredPD.shape[0],1),ypredPD['pred (t +1)'][:ypredPD.shape[0]])\n",
    "plt.plot(np.arange(0,ypredPD.shape[0],1),ypredPD['t + 1'][:ypredPD.shape[0]],color='red')\n",
    "plt.show()\n",
    "\n",
    "plt.ylabel('p*(t+1), Predicted data')\n",
    "plt.xlabel('p(t+1), Actual data')\n",
    "plt.scatter(ypredPD['t + 1'][:ypredPD.shape[0]],ypredPD['pred (t +1)'][:ypredPD.shape[0]])\n",
    "\n",
    "ypredPD.head(10)"
   ]
  },
  {
   "cell_type": "markdown",
   "metadata": {},
   "source": [
    "SVR\n",
    "======"
   ]
  },
  {
   "cell_type": "code",
   "execution_count": null,
   "metadata": {},
   "outputs": [],
   "source": [
    "from sklearn.svm import SVR\n",
    "# svr_rbf = SVR(kernel='rbf', C=10, gamma=0.02, epsilon=.001)\n",
    "svr_rbf = SVR(kernel='rbf')"
   ]
  },
  {
   "cell_type": "code",
   "execution_count": null,
   "metadata": {},
   "outputs": [],
   "source": [
    "svr_rbf.fit(xtrain, ytrain) "
   ]
  },
  {
   "cell_type": "code",
   "execution_count": null,
   "metadata": {},
   "outputs": [],
   "source": [
    "ypred=svr_rbf.predict(xtest)"
   ]
  },
  {
   "cell_type": "code",
   "execution_count": null,
   "metadata": {},
   "outputs": [],
   "source": [
    "import math\n",
    "print('mean_squared_error',mean_squared_error(ytest, ypred))\n",
    "print('root mean_squared_error',math.sqrt(mean_squared_error(ytest, ypred)))\n",
    "print('mean_absolute_error',mean_absolute_error(ytest, ypred))\n",
    "print('r2_score',r2_score(ytest, ypred))\n",
    "\n",
    "ypredPD=pd.DataFrame()\n",
    "# ypredPD['t']=xtest['S000501_x'].values\n",
    "ypredPD['t + 1']=ytest.values.ravel()\n",
    "ypredPD['pred (t +1)']=ypred\n",
    "ypredPD.head(10)"
   ]
  },
  {
   "cell_type": "code",
   "execution_count": null,
   "metadata": {},
   "outputs": [],
   "source": []
  },
  {
   "cell_type": "code",
   "execution_count": null,
   "metadata": {},
   "outputs": [],
   "source": []
  }
 ],
 "metadata": {
  "kernelspec": {
   "display_name": "Python 3",
   "language": "python",
   "name": "python3"
  },
  "language_info": {
   "codemirror_mode": {
    "name": "ipython",
    "version": 3
   },
   "file_extension": ".py",
   "mimetype": "text/x-python",
   "name": "python",
   "nbconvert_exporter": "python",
   "pygments_lexer": "ipython3",
   "version": "3.7.3"
  }
 },
 "nbformat": 4,
 "nbformat_minor": 2
}

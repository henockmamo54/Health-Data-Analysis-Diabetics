{
 "cells": [
  {
   "cell_type": "code",
   "execution_count": 16,
   "metadata": {},
   "outputs": [
    {
     "name": "stdout",
     "output_type": "stream",
     "text": [
      "The nb_black extension is already loaded. To reload it, use:\n",
      "  %reload_ext nb_black\n"
     ]
    },
    {
     "data": {
      "application/javascript": [
       "\n",
       "            setTimeout(function() {\n",
       "                var nbb_cell_id = 16;\n",
       "                var nbb_formatted_code = \"%load_ext nb_black\\nfrom matplotlib import pyplot as plt\\nimport pandas as pd\\nimport numpy as np\\nimport warnings\\nfrom sklearn.model_selection import train_test_split\\n\\nwarnings.filterwarnings(\\\"ignore\\\")\";\n",
       "                var nbb_cells = Jupyter.notebook.get_cells();\n",
       "                for (var i = 0; i < nbb_cells.length; ++i) {\n",
       "                    if (nbb_cells[i].input_prompt_number == nbb_cell_id) {\n",
       "                        nbb_cells[i].set_text(nbb_formatted_code);\n",
       "                        break;\n",
       "                    }\n",
       "                }\n",
       "            }, 500);\n",
       "            "
      ],
      "text/plain": [
       "<IPython.core.display.Javascript object>"
      ]
     },
     "metadata": {},
     "output_type": "display_data"
    }
   ],
   "source": [
    "%load_ext nb_black\n",
    "from matplotlib import pyplot as plt\n",
    "import pandas as pd\n",
    "import numpy as np\n",
    "import warnings\n",
    "from sklearn.model_selection import train_test_split\n",
    "\n",
    "warnings.filterwarnings(\"ignore\")"
   ]
  },
  {
   "cell_type": "markdown",
   "metadata": {},
   "source": [
    "Read the data\n",
    "==========="
   ]
  },
  {
   "cell_type": "code",
   "execution_count": 17,
   "metadata": {},
   "outputs": [
    {
     "data": {
      "application/javascript": [
       "\n",
       "            setTimeout(function() {\n",
       "                var nbb_cell_id = 17;\n",
       "                var nbb_formatted_code = \"# x_original=pd.read_csv('../_xlable4_withNa_AllColumns.txt')\\n# y_original=pd.read_csv('../_targelable4_withNa_AllColumns.txt')\\n\\n# x_original=x_original[['Unnamed: 0','L100800', 'L104600', 'S000300', 'SEX', 'S000501', 'L101700',\\n#        'L190400', 'S000502', 'L190500', 'L101300', 'AGE', 'FIELD_38',\\n#        'FIELD_31', 'FIELD_41'\\n#                       ]]\\n\\n# y_original=y_original[['Unnamed: 0','L100800' ]]\\n\\n\\n# print(x_original.shape)\\n# print(y_original.shape)\";\n",
       "                var nbb_cells = Jupyter.notebook.get_cells();\n",
       "                for (var i = 0; i < nbb_cells.length; ++i) {\n",
       "                    if (nbb_cells[i].input_prompt_number == nbb_cell_id) {\n",
       "                        nbb_cells[i].set_text(nbb_formatted_code);\n",
       "                        break;\n",
       "                    }\n",
       "                }\n",
       "            }, 500);\n",
       "            "
      ],
      "text/plain": [
       "<IPython.core.display.Javascript object>"
      ]
     },
     "metadata": {},
     "output_type": "display_data"
    }
   ],
   "source": [
    "# x_original=pd.read_csv('../_xlable4_withNa_AllColumns.txt')\n",
    "# y_original=pd.read_csv('../_targelable4_withNa_AllColumns.txt')\n",
    "\n",
    "# x_original=x_original[['Unnamed: 0','L100800', 'L104600', 'S000300', 'SEX', 'S000501', 'L101700',\n",
    "#        'L190400', 'S000502', 'L190500', 'L101300', 'AGE', 'FIELD_38',\n",
    "#        'FIELD_31', 'FIELD_41'\n",
    "#                       ]]\n",
    "\n",
    "# y_original=y_original[['Unnamed: 0','L100800' ]]\n",
    "\n",
    "\n",
    "# print(x_original.shape)\n",
    "# print(y_original.shape)"
   ]
  },
  {
   "cell_type": "code",
   "execution_count": 18,
   "metadata": {},
   "outputs": [
    {
     "data": {
      "application/javascript": [
       "\n",
       "            setTimeout(function() {\n",
       "                var nbb_cell_id = 18;\n",
       "                var nbb_formatted_code = \"# for index,col in enumerate(x_original.columns):\\n#     print(col,x_original[col].dropna().shape[0])\";\n",
       "                var nbb_cells = Jupyter.notebook.get_cells();\n",
       "                for (var i = 0; i < nbb_cells.length; ++i) {\n",
       "                    if (nbb_cells[i].input_prompt_number == nbb_cell_id) {\n",
       "                        nbb_cells[i].set_text(nbb_formatted_code);\n",
       "                        break;\n",
       "                    }\n",
       "                }\n",
       "            }, 500);\n",
       "            "
      ],
      "text/plain": [
       "<IPython.core.display.Javascript object>"
      ]
     },
     "metadata": {},
     "output_type": "display_data"
    }
   ],
   "source": [
    "# for index,col in enumerate(x_original.columns):\n",
    "#     print(col,x_original[col].dropna().shape[0])"
   ]
  },
  {
   "cell_type": "markdown",
   "metadata": {},
   "source": [
    "Prepare the data\n",
    "============"
   ]
  },
  {
   "cell_type": "code",
   "execution_count": 46,
   "metadata": {},
   "outputs": [
    {
     "data": {
      "text/plain": [
       "<matplotlib.collections.PathCollection at 0x14c8e860a58>"
      ]
     },
     "execution_count": 46,
     "metadata": {},
     "output_type": "execute_result"
    },
    {
     "data": {
      "image/png": "[encoded data removed]",
      "text/plain": [
       "<Figure size 432x288 with 1 Axes>"
      ]
     },
     "metadata": {
      "needs_background": "light"
     },
     "output_type": "display_data"
    },
    {
     "data": {
      "application/javascript": [
       "\n",
       "            setTimeout(function() {\n",
       "                var nbb_cell_id = 46;\n",
       "                var nbb_formatted_code = \"plt.scatter(data.L103000, data.S000501)\";\n",
       "                var nbb_cells = Jupyter.notebook.get_cells();\n",
       "                for (var i = 0; i < nbb_cells.length; ++i) {\n",
       "                    if (nbb_cells[i].input_prompt_number == nbb_cell_id) {\n",
       "                        nbb_cells[i].set_text(nbb_formatted_code);\n",
       "                        break;\n",
       "                    }\n",
       "                }\n",
       "            }, 500);\n",
       "            "
      ],
      "text/plain": [
       "<IPython.core.display.Javascript object>"
      ]
     },
     "metadata": {},
     "output_type": "display_data"
    }
   ],
   "source": [
    "plt.scatter(data.L103000, data.S000501)"
   ]
  },
  {
   "cell_type": "code",
   "execution_count": 19,
   "metadata": {},
   "outputs": [
    {
     "name": "stdout",
     "output_type": "stream",
     "text": [
      "(153989, 27)\n"
     ]
    },
    {
     "data": {
      "application/javascript": [
       "\n",
       "            setTimeout(function() {\n",
       "                var nbb_cell_id = 19;\n",
       "                var nbb_formatted_code = \"data = pd.read_csv(\\\"../../sep19SexAndAgeAddedFINAL DATASET_ver2.txt\\\", sep=\\\",\\\")\\ndata[\\\"max\\\"] = np.min(data[[\\\"FIELD_6\\\", \\\"FIELD_7\\\"]], axis=1)\\ndata = data.drop(columns=[\\\"FIELD_6\\\", \\\"FIELD_7\\\"])\\n\\n# change field 38 to 3 group\\ncondtion = [\\n    data.FIELD_38 == 0,\\n    (data.FIELD_38 > 0) & (data.FIELD_38 < 4),\\n    data.FIELD_38 >= 4,\\n]\\nchoice = [0, 1, 2]\\ndata[\\\"FIELD_38_C\\\"] = np.select(condtion, choice, default=np.nan)\\n\\ndata = data[\\n    [\\n        \\\"S000501\\\",\\n        \\\"S000300\\\",\\n        \\\"L190300\\\",\\n        \\\"L100700\\\",\\n        \\\"L103300\\\",\\n        \\\"L103000\\\",\\n        \\\"L100800\\\",\\n        \\\"L100500\\\",\\n        \\\"S000100\\\",\\n        \\\"L101700\\\",\\n        \\\"max\\\",\\n        \\\"L101300\\\",\\n        \\\"L101600\\\",\\n        \\\"L103100\\\",\\n        \\\"S010101\\\",\\n        \\\"S010102\\\",\\n        \\\"SEX\\\",\\n        \\\"FIELD_38_C\\\",\\n        \\\"FIELD_33\\\",\\n        \\\"FIELD_38\\\",\\n        \\\"FIELD_40\\\",\\n        \\\"FIELD_29\\\",\\n        \\\"FIELD_41\\\",\\n        \\\"FIELD_27\\\",\\n        \\\"FIELD_42\\\",\\n        \\\"AGE\\\",\\n    ]\\n]\\ndata = data.dropna().reset_index()\\n\\n# data=data[data.FIELD_15==0]\\n# data=data[data.FIELD_22==0]\\n# data=data[data.SEX==0]\\n# data=data[data.AGE < 40]\\n\\nprint(data.shape)\";\n",
       "                var nbb_cells = Jupyter.notebook.get_cells();\n",
       "                for (var i = 0; i < nbb_cells.length; ++i) {\n",
       "                    if (nbb_cells[i].input_prompt_number == nbb_cell_id) {\n",
       "                        nbb_cells[i].set_text(nbb_formatted_code);\n",
       "                        break;\n",
       "                    }\n",
       "                }\n",
       "            }, 500);\n",
       "            "
      ],
      "text/plain": [
       "<IPython.core.display.Javascript object>"
      ]
     },
     "metadata": {},
     "output_type": "display_data"
    }
   ],
   "source": [
    "data = pd.read_csv(\"../../sep19SexAndAgeAddedFINAL DATASET_ver2.txt\", sep=\",\")\n",
    "data[\"max\"] = np.min(data[[\"FIELD_6\", \"FIELD_7\"]], axis=1)\n",
    "data = data.drop(columns=[\"FIELD_6\", \"FIELD_7\"])\n",
    "\n",
    "# change field 38 to 3 group\n",
    "condtion = [\n",
    "    data.FIELD_38 == 0,\n",
    "    (data.FIELD_38 > 0) & (data.FIELD_38 < 4),\n",
    "    data.FIELD_38 >= 4,\n",
    "]\n",
    "choice = [0, 1, 2]\n",
    "data[\"FIELD_38_C\"] = np.select(condtion, choice, default=np.nan)\n",
    "\n",
    "data = data[\n",
    "    [\n",
    "        \"S000501\",\n",
    "        \"S000300\",\n",
    "        \"L190300\",\n",
    "        \"L100700\",\n",
    "        \"L103300\",\n",
    "        \"L103000\",\n",
    "        \"L100800\",\n",
    "        \"L100500\",\n",
    "        \"S000100\",\n",
    "        \"L101700\",\n",
    "        \"max\",\n",
    "        \"L101300\",\n",
    "        \"L101600\",\n",
    "        \"L103100\",\n",
    "        \"S010101\",\n",
    "        \"S010102\",\n",
    "        \"SEX\",\n",
    "        \"FIELD_38_C\",\n",
    "        \"FIELD_33\",\n",
    "        \"FIELD_38\",\n",
    "        \"FIELD_40\",\n",
    "        \"FIELD_29\",\n",
    "        \"FIELD_41\",\n",
    "        \"FIELD_27\",\n",
    "        \"FIELD_42\",\n",
    "        \"AGE\",\n",
    "    ]\n",
    "]\n",
    "data = data.dropna().reset_index()\n",
    "\n",
    "# data=data[data.FIELD_15==0]\n",
    "# data=data[data.FIELD_22==0]\n",
    "# data=data[data.SEX==0]\n",
    "# data=data[data.AGE < 40]\n",
    "\n",
    "print(data.shape)"
   ]
  },
  {
   "cell_type": "code",
   "execution_count": 20,
   "metadata": {},
   "outputs": [
    {
     "name": "stdout",
     "output_type": "stream",
     "text": [
      "(153989, 27)\n",
      "Index(['index', 'S000501', 'S000300', 'L190300', 'L100700', 'L103300',\n",
      "       'L103000', 'L100800', 'L100500', 'S000100', 'L101700', 'max', 'L101300',\n",
      "       'L101600', 'L103100', 'S010101', 'S010102', 'SEX', 'FIELD_38_C',\n",
      "       'FIELD_33', 'FIELD_38', 'FIELD_40', 'FIELD_29', 'FIELD_41', 'FIELD_27',\n",
      "       'FIELD_42', 'AGE'],\n",
      "      dtype='object')\n"
     ]
    },
    {
     "data": {
      "text/html": [
       "<div>\n",
       "<style scoped>\n",
       "    .dataframe tbody tr th:only-of-type {\n",
       "        vertical-align: middle;\n",
       "    }\n",
       "\n",
       "    .dataframe tbody tr th {\n",
       "        vertical-align: top;\n",
       "    }\n",
       "\n",
       "    .dataframe thead th {\n",
       "        text-align: right;\n",
       "    }\n",
       "</style>\n",
       "<table border=\"1\" class=\"dataframe\">\n",
       "  <thead>\n",
       "    <tr style=\"text-align: right;\">\n",
       "      <th></th>\n",
       "      <th>index</th>\n",
       "      <th>S000501</th>\n",
       "      <th>S000300</th>\n",
       "      <th>L190300</th>\n",
       "      <th>L100700</th>\n",
       "      <th>L103300</th>\n",
       "      <th>L103000</th>\n",
       "      <th>L100800</th>\n",
       "      <th>L100500</th>\n",
       "      <th>S000100</th>\n",
       "      <th>...</th>\n",
       "      <th>SEX</th>\n",
       "      <th>FIELD_38_C</th>\n",
       "      <th>FIELD_33</th>\n",
       "      <th>FIELD_38</th>\n",
       "      <th>FIELD_40</th>\n",
       "      <th>FIELD_29</th>\n",
       "      <th>FIELD_41</th>\n",
       "      <th>FIELD_27</th>\n",
       "      <th>FIELD_42</th>\n",
       "      <th>AGE</th>\n",
       "    </tr>\n",
       "  </thead>\n",
       "  <tbody>\n",
       "    <tr>\n",
       "      <th>0</th>\n",
       "      <td>5</td>\n",
       "      <td>123.0</td>\n",
       "      <td>22.9</td>\n",
       "      <td>4.30</td>\n",
       "      <td>4.2</td>\n",
       "      <td>3.9</td>\n",
       "      <td>66.0</td>\n",
       "      <td>93.0</td>\n",
       "      <td>0.9</td>\n",
       "      <td>159.0</td>\n",
       "      <td>...</td>\n",
       "      <td>1.0</td>\n",
       "      <td>1.0</td>\n",
       "      <td>1.0</td>\n",
       "      <td>1.0</td>\n",
       "      <td>1.0</td>\n",
       "      <td>0.0</td>\n",
       "      <td>1.0</td>\n",
       "      <td>0.0</td>\n",
       "      <td>1.0</td>\n",
       "      <td>46.0</td>\n",
       "    </tr>\n",
       "    <tr>\n",
       "      <th>1</th>\n",
       "      <td>18</td>\n",
       "      <td>109.0</td>\n",
       "      <td>20.1</td>\n",
       "      <td>3.84</td>\n",
       "      <td>4.5</td>\n",
       "      <td>2.9</td>\n",
       "      <td>45.0</td>\n",
       "      <td>101.0</td>\n",
       "      <td>0.8</td>\n",
       "      <td>156.3</td>\n",
       "      <td>...</td>\n",
       "      <td>1.0</td>\n",
       "      <td>1.0</td>\n",
       "      <td>1.0</td>\n",
       "      <td>1.0</td>\n",
       "      <td>5.0</td>\n",
       "      <td>0.0</td>\n",
       "      <td>1.0</td>\n",
       "      <td>0.0</td>\n",
       "      <td>6.0</td>\n",
       "      <td>47.0</td>\n",
       "    </tr>\n",
       "    <tr>\n",
       "      <th>2</th>\n",
       "      <td>19</td>\n",
       "      <td>105.0</td>\n",
       "      <td>19.9</td>\n",
       "      <td>3.94</td>\n",
       "      <td>4.9</td>\n",
       "      <td>3.0</td>\n",
       "      <td>39.0</td>\n",
       "      <td>94.0</td>\n",
       "      <td>0.8</td>\n",
       "      <td>157.0</td>\n",
       "      <td>...</td>\n",
       "      <td>1.0</td>\n",
       "      <td>0.0</td>\n",
       "      <td>1.0</td>\n",
       "      <td>0.0</td>\n",
       "      <td>6.0</td>\n",
       "      <td>0.0</td>\n",
       "      <td>2.0</td>\n",
       "      <td>0.0</td>\n",
       "      <td>6.0</td>\n",
       "      <td>48.0</td>\n",
       "    </tr>\n",
       "    <tr>\n",
       "      <th>3</th>\n",
       "      <td>20</td>\n",
       "      <td>119.0</td>\n",
       "      <td>21.0</td>\n",
       "      <td>3.78</td>\n",
       "      <td>4.7</td>\n",
       "      <td>3.0</td>\n",
       "      <td>45.0</td>\n",
       "      <td>98.0</td>\n",
       "      <td>0.9</td>\n",
       "      <td>156.0</td>\n",
       "      <td>...</td>\n",
       "      <td>1.0</td>\n",
       "      <td>1.0</td>\n",
       "      <td>1.0</td>\n",
       "      <td>1.0</td>\n",
       "      <td>5.0</td>\n",
       "      <td>0.0</td>\n",
       "      <td>7.0</td>\n",
       "      <td>0.0</td>\n",
       "      <td>7.0</td>\n",
       "      <td>49.0</td>\n",
       "    </tr>\n",
       "    <tr>\n",
       "      <th>4</th>\n",
       "      <td>21</td>\n",
       "      <td>111.0</td>\n",
       "      <td>20.3</td>\n",
       "      <td>3.73</td>\n",
       "      <td>4.1</td>\n",
       "      <td>3.2</td>\n",
       "      <td>75.0</td>\n",
       "      <td>106.0</td>\n",
       "      <td>0.9</td>\n",
       "      <td>157.0</td>\n",
       "      <td>...</td>\n",
       "      <td>1.0</td>\n",
       "      <td>0.0</td>\n",
       "      <td>1.0</td>\n",
       "      <td>0.0</td>\n",
       "      <td>6.0</td>\n",
       "      <td>0.0</td>\n",
       "      <td>2.0</td>\n",
       "      <td>0.0</td>\n",
       "      <td>7.0</td>\n",
       "      <td>50.0</td>\n",
       "    </tr>\n",
       "  </tbody>\n",
       "</table>\n",
       "<p>5 rows × 27 columns</p>\n",
       "</div>"
      ],
      "text/plain": [
       "   index  S000501  S000300  L190300  L100700  L103300  L103000  L100800  \\\n",
       "0      5    123.0     22.9     4.30      4.2      3.9     66.0     93.0   \n",
       "1     18    109.0     20.1     3.84      4.5      2.9     45.0    101.0   \n",
       "2     19    105.0     19.9     3.94      4.9      3.0     39.0     94.0   \n",
       "3     20    119.0     21.0     3.78      4.7      3.0     45.0     98.0   \n",
       "4     21    111.0     20.3     3.73      4.1      3.2     75.0    106.0   \n",
       "\n",
       "   L100500  S000100  ...  SEX  FIELD_38_C  FIELD_33  FIELD_38  FIELD_40  \\\n",
       "0      0.9    159.0  ...  1.0         1.0       1.0       1.0       1.0   \n",
       "1      0.8    156.3  ...  1.0         1.0       1.0       1.0       5.0   \n",
       "2      0.8    157.0  ...  1.0         0.0       1.0       0.0       6.0   \n",
       "3      0.9    156.0  ...  1.0         1.0       1.0       1.0       5.0   \n",
       "4      0.9    157.0  ...  1.0         0.0       1.0       0.0       6.0   \n",
       "\n",
       "   FIELD_29  FIELD_41  FIELD_27  FIELD_42   AGE  \n",
       "0       0.0       1.0       0.0       1.0  46.0  \n",
       "1       0.0       1.0       0.0       6.0  47.0  \n",
       "2       0.0       2.0       0.0       6.0  48.0  \n",
       "3       0.0       7.0       0.0       7.0  49.0  \n",
       "4       0.0       2.0       0.0       7.0  50.0  \n",
       "\n",
       "[5 rows x 27 columns]"
      ]
     },
     "execution_count": 20,
     "metadata": {},
     "output_type": "execute_result"
    },
    {
     "data": {
      "application/javascript": [
       "\n",
       "            setTimeout(function() {\n",
       "                var nbb_cell_id = 20;\n",
       "                var nbb_formatted_code = \"print(data.shape)\\nprint(data.columns)\\ndata.head()\";\n",
       "                var nbb_cells = Jupyter.notebook.get_cells();\n",
       "                for (var i = 0; i < nbb_cells.length; ++i) {\n",
       "                    if (nbb_cells[i].input_prompt_number == nbb_cell_id) {\n",
       "                        nbb_cells[i].set_text(nbb_formatted_code);\n",
       "                        break;\n",
       "                    }\n",
       "                }\n",
       "            }, 500);\n",
       "            "
      ],
      "text/plain": [
       "<IPython.core.display.Javascript object>"
      ]
     },
     "metadata": {},
     "output_type": "display_data"
    }
   ],
   "source": [
    "print(data.shape)\n",
    "print(data.columns)\n",
    "data.head()"
   ]
  },
  {
   "cell_type": "code",
   "execution_count": 21,
   "metadata": {},
   "outputs": [
    {
     "data": {
      "application/javascript": [
       "\n",
       "            setTimeout(function() {\n",
       "                var nbb_cell_id = 21;\n",
       "                var nbb_formatted_code = \"x = data[\\n    [\\n        \\\"S000300\\\",\\n        \\\"L190300\\\",\\n        \\\"L100700\\\",\\n        \\\"L103300\\\",\\n        \\\"L103000\\\",\\n        \\\"L100800\\\",\\n        \\\"L100500\\\",\\n        \\\"S000100\\\",\\n        \\\"L101700\\\",\\n        \\\"max\\\",\\n        \\\"L101300\\\",\\n        \\\"L101600\\\",\\n        \\\"L103100\\\",\\n        \\\"S010101\\\",\\n        \\\"S010102\\\",\\n        \\\"SEX\\\",\\n        \\\"FIELD_38_C\\\",\\n        \\\"FIELD_33\\\",\\n        \\\"FIELD_38\\\",\\n        \\\"FIELD_40\\\",\\n        \\\"FIELD_29\\\",\\n        \\\"FIELD_41\\\",\\n        \\\"FIELD_27\\\",\\n        \\\"FIELD_42\\\",\\n        \\\"AGE\\\",\\n    ]\\n]\\n\\ny = data[[\\\"S000501\\\"]]\";\n",
       "                var nbb_cells = Jupyter.notebook.get_cells();\n",
       "                for (var i = 0; i < nbb_cells.length; ++i) {\n",
       "                    if (nbb_cells[i].input_prompt_number == nbb_cell_id) {\n",
       "                        nbb_cells[i].set_text(nbb_formatted_code);\n",
       "                        break;\n",
       "                    }\n",
       "                }\n",
       "            }, 500);\n",
       "            "
      ],
      "text/plain": [
       "<IPython.core.display.Javascript object>"
      ]
     },
     "metadata": {},
     "output_type": "display_data"
    }
   ],
   "source": [
    "x = data[\n",
    "    [\n",
    "        \"S000300\",\n",
    "        \"L190300\",\n",
    "        \"L100700\",\n",
    "        \"L103300\",\n",
    "        \"L103000\",\n",
    "        \"L100800\",\n",
    "        \"L100500\",\n",
    "        \"S000100\",\n",
    "        \"L101700\",\n",
    "        \"max\",\n",
    "        \"L101300\",\n",
    "        \"L101600\",\n",
    "        \"L103100\",\n",
    "        \"S010101\",\n",
    "        \"S010102\",\n",
    "        \"SEX\",\n",
    "        \"FIELD_38_C\",\n",
    "        \"FIELD_33\",\n",
    "        \"FIELD_38\",\n",
    "        \"FIELD_40\",\n",
    "        \"FIELD_29\",\n",
    "        \"FIELD_41\",\n",
    "        \"FIELD_27\",\n",
    "        \"FIELD_42\",\n",
    "        \"AGE\",\n",
    "    ]\n",
    "]\n",
    "\n",
    "y = data[[\"S000501\"]]"
   ]
  },
  {
   "cell_type": "code",
   "execution_count": 22,
   "metadata": {},
   "outputs": [
    {
     "data": {
      "application/javascript": [
       "\n",
       "            setTimeout(function() {\n",
       "                var nbb_cell_id = 22;\n",
       "                var nbb_formatted_code = \"# histogram plot of the features\\n# import matplotlib.pyplot as plt\\n# x[x.dtypes[(x.dtypes==\\\"float64\\\")|(x.dtypes==\\\"int64\\\")]\\n#                         .index.values].hist(figsize=[11,11])\";\n",
       "                var nbb_cells = Jupyter.notebook.get_cells();\n",
       "                for (var i = 0; i < nbb_cells.length; ++i) {\n",
       "                    if (nbb_cells[i].input_prompt_number == nbb_cell_id) {\n",
       "                        nbb_cells[i].set_text(nbb_formatted_code);\n",
       "                        break;\n",
       "                    }\n",
       "                }\n",
       "            }, 500);\n",
       "            "
      ],
      "text/plain": [
       "<IPython.core.display.Javascript object>"
      ]
     },
     "metadata": {},
     "output_type": "display_data"
    }
   ],
   "source": [
    "# histogram plot of the features\n",
    "# import matplotlib.pyplot as plt\n",
    "# x[x.dtypes[(x.dtypes==\"float64\")|(x.dtypes==\"int64\")]\n",
    "#                         .index.values].hist(figsize=[11,11])"
   ]
  },
  {
   "cell_type": "markdown",
   "metadata": {},
   "source": [
    "Apply PCA\n",
    "==========="
   ]
  },
  {
   "cell_type": "code",
   "execution_count": 23,
   "metadata": {},
   "outputs": [
    {
     "data": {
      "application/javascript": [
       "\n",
       "            setTimeout(function() {\n",
       "                var nbb_cell_id = 23;\n",
       "                var nbb_formatted_code = \"# from sklearn.decomposition import PCA\\n# pca = PCA(n_components=8)\\n# pca.fit(x)\\n\\n# print(pca.explained_variance_ratio_)\\n# print(np.sum(pca.explained_variance_ratio_))\\n\\n# x=pca.fit_transform(x)\\n# print(x.shape)\";\n",
       "                var nbb_cells = Jupyter.notebook.get_cells();\n",
       "                for (var i = 0; i < nbb_cells.length; ++i) {\n",
       "                    if (nbb_cells[i].input_prompt_number == nbb_cell_id) {\n",
       "                        nbb_cells[i].set_text(nbb_formatted_code);\n",
       "                        break;\n",
       "                    }\n",
       "                }\n",
       "            }, 500);\n",
       "            "
      ],
      "text/plain": [
       "<IPython.core.display.Javascript object>"
      ]
     },
     "metadata": {},
     "output_type": "display_data"
    }
   ],
   "source": [
    "# from sklearn.decomposition import PCA\n",
    "# pca = PCA(n_components=8)\n",
    "# pca.fit(x)\n",
    "\n",
    "# print(pca.explained_variance_ratio_)\n",
    "# print(np.sum(pca.explained_variance_ratio_))\n",
    "\n",
    "# x=pca.fit_transform(x)\n",
    "# print(x.shape)"
   ]
  },
  {
   "cell_type": "markdown",
   "metadata": {},
   "source": [
    "feature scaling\n",
    "======="
   ]
  },
  {
   "cell_type": "code",
   "execution_count": 24,
   "metadata": {},
   "outputs": [
    {
     "data": {
      "application/javascript": [
       "\n",
       "            setTimeout(function() {\n",
       "                var nbb_cell_id = 24;\n",
       "                var nbb_formatted_code = \"# from sklearn import preprocessing\\n# min_max_scaler = preprocessing.MinMaxScaler()  #StandardScaler()\\n# x = min_max_scaler.fit_transform(x)\";\n",
       "                var nbb_cells = Jupyter.notebook.get_cells();\n",
       "                for (var i = 0; i < nbb_cells.length; ++i) {\n",
       "                    if (nbb_cells[i].input_prompt_number == nbb_cell_id) {\n",
       "                        nbb_cells[i].set_text(nbb_formatted_code);\n",
       "                        break;\n",
       "                    }\n",
       "                }\n",
       "            }, 500);\n",
       "            "
      ],
      "text/plain": [
       "<IPython.core.display.Javascript object>"
      ]
     },
     "metadata": {},
     "output_type": "display_data"
    }
   ],
   "source": [
    "# from sklearn import preprocessing\n",
    "# min_max_scaler = preprocessing.MinMaxScaler()  #StandardScaler()\n",
    "# x = min_max_scaler.fit_transform(x)"
   ]
  },
  {
   "cell_type": "markdown",
   "metadata": {},
   "source": [
    "clustring test\n",
    "=========="
   ]
  },
  {
   "cell_type": "code",
   "execution_count": 25,
   "metadata": {},
   "outputs": [
    {
     "data": {
      "application/javascript": [
       "\n",
       "            setTimeout(function() {\n",
       "                var nbb_cell_id = 25;\n",
       "                var nbb_formatted_code = \"# from sklearn.cluster import KMeans\\n# from scipy.spatial.distance import cdist\\n\\n# K = range(1,10)\\n# distortions = []\\n\\n# for k in K:\\n#     kmeanModel = KMeans(n_clusters=k).fit(x)\\n#     kmeanModel.fit(x)\\n#     distortions.append(sum(np.min(cdist(x, kmeanModel.cluster_centers_, 'euclidean'), axis=1)) / x.shape[0])\\n\\n# # Plot the elbow\\n# plt.plot(K, distortions, 'bx-')\\n# plt.xlabel('k')\\n# plt.ylabel('Distortion')\\n# plt.title('The Elbow Method showing the optimal k')\\n# plt.show()\";\n",
       "                var nbb_cells = Jupyter.notebook.get_cells();\n",
       "                for (var i = 0; i < nbb_cells.length; ++i) {\n",
       "                    if (nbb_cells[i].input_prompt_number == nbb_cell_id) {\n",
       "                        nbb_cells[i].set_text(nbb_formatted_code);\n",
       "                        break;\n",
       "                    }\n",
       "                }\n",
       "            }, 500);\n",
       "            "
      ],
      "text/plain": [
       "<IPython.core.display.Javascript object>"
      ]
     },
     "metadata": {},
     "output_type": "display_data"
    }
   ],
   "source": [
    "# from sklearn.cluster import KMeans\n",
    "# from scipy.spatial.distance import cdist\n",
    "\n",
    "# K = range(1,10)\n",
    "# distortions = []\n",
    "\n",
    "# for k in K:\n",
    "#     kmeanModel = KMeans(n_clusters=k).fit(x)\n",
    "#     kmeanModel.fit(x)\n",
    "#     distortions.append(sum(np.min(cdist(x, kmeanModel.cluster_centers_, 'euclidean'), axis=1)) / x.shape[0])\n",
    "\n",
    "# # Plot the elbow\n",
    "# plt.plot(K, distortions, 'bx-')\n",
    "# plt.xlabel('k')\n",
    "# plt.ylabel('Distortion')\n",
    "# plt.title('The Elbow Method showing the optimal k')\n",
    "# plt.show()"
   ]
  },
  {
   "cell_type": "code",
   "execution_count": 26,
   "metadata": {},
   "outputs": [
    {
     "data": {
      "application/javascript": [
       "\n",
       "            setTimeout(function() {\n",
       "                var nbb_cell_id = 26;\n",
       "                var nbb_formatted_code = \"# kmeanModel = KMeans(n_clusters=k).fit(x)\\n# x['lbl']=kmeanModel.labels_\";\n",
       "                var nbb_cells = Jupyter.notebook.get_cells();\n",
       "                for (var i = 0; i < nbb_cells.length; ++i) {\n",
       "                    if (nbb_cells[i].input_prompt_number == nbb_cell_id) {\n",
       "                        nbb_cells[i].set_text(nbb_formatted_code);\n",
       "                        break;\n",
       "                    }\n",
       "                }\n",
       "            }, 500);\n",
       "            "
      ],
      "text/plain": [
       "<IPython.core.display.Javascript object>"
      ]
     },
     "metadata": {},
     "output_type": "display_data"
    }
   ],
   "source": [
    "# kmeanModel = KMeans(n_clusters=k).fit(x)\n",
    "# x['lbl']=kmeanModel.labels_"
   ]
  },
  {
   "cell_type": "markdown",
   "metadata": {},
   "source": [
    "Random Forest Regressor\n",
    "============="
   ]
  },
  {
   "cell_type": "code",
   "execution_count": 27,
   "metadata": {},
   "outputs": [
    {
     "data": {
      "application/javascript": [
       "\n",
       "            setTimeout(function() {\n",
       "                var nbb_cell_id = 27;\n",
       "                var nbb_formatted_code = \"ylable = y[[\\\"S000501\\\"]]\\nxtrain, xtest, ytrain, ytest = train_test_split(\\n    x, ylable, random_state=42, test_size=0.2\\n)\";\n",
       "                var nbb_cells = Jupyter.notebook.get_cells();\n",
       "                for (var i = 0; i < nbb_cells.length; ++i) {\n",
       "                    if (nbb_cells[i].input_prompt_number == nbb_cell_id) {\n",
       "                        nbb_cells[i].set_text(nbb_formatted_code);\n",
       "                        break;\n",
       "                    }\n",
       "                }\n",
       "            }, 500);\n",
       "            "
      ],
      "text/plain": [
       "<IPython.core.display.Javascript object>"
      ]
     },
     "metadata": {},
     "output_type": "display_data"
    }
   ],
   "source": [
    "ylable = y[[\"S000501\"]]\n",
    "xtrain, xtest, ytrain, ytest = train_test_split(\n",
    "    x, ylable, random_state=42, test_size=0.2\n",
    ")"
   ]
  },
  {
   "cell_type": "code",
   "execution_count": 29,
   "metadata": {},
   "outputs": [
    {
     "name": "stdout",
     "output_type": "stream",
     "text": [
      "[5.39324248e-01 3.82763479e-02 1.75683410e-03 1.21743564e-03\n",
      " 4.24903100e-03 4.56705532e-02 8.93729010e-04 1.81184243e-03\n",
      " 1.14920779e-02 4.51974137e-05 1.31903593e-03 4.21083414e-03\n",
      " 1.12051475e-03 1.50532247e-02 1.71889077e-02 0.00000000e+00\n",
      " 5.27820804e-05 2.28540706e-04 6.51309528e-04 1.62094412e-04\n",
      " 6.30003603e-03 1.89570493e-04 1.29281492e-04 2.33806657e-04\n",
      " 3.08422764e-01]\n"
     ]
    },
    {
     "data": {
      "application/javascript": [
       "\n",
       "            setTimeout(function() {\n",
       "                var nbb_cell_id = 29;\n",
       "                var nbb_formatted_code = \"from sklearn.ensemble import RandomForestRegressor\\n\\nregr = RandomForestRegressor(max_depth=7, random_state=0, verbose=0, n_estimators=500)\\nregr.fit(xtrain, ytrain)\\nprint(regr.feature_importances_)\\nypred = regr.predict(xtest)\";\n",
       "                var nbb_cells = Jupyter.notebook.get_cells();\n",
       "                for (var i = 0; i < nbb_cells.length; ++i) {\n",
       "                    if (nbb_cells[i].input_prompt_number == nbb_cell_id) {\n",
       "                        nbb_cells[i].set_text(nbb_formatted_code);\n",
       "                        break;\n",
       "                    }\n",
       "                }\n",
       "            }, 500);\n",
       "            "
      ],
      "text/plain": [
       "<IPython.core.display.Javascript object>"
      ]
     },
     "metadata": {},
     "output_type": "display_data"
    }
   ],
   "source": [
    "from sklearn.ensemble import RandomForestRegressor\n",
    "\n",
    "regr = RandomForestRegressor(max_depth=7, random_state=0, verbose=0, n_estimators=500)\n",
    "regr.fit(xtrain, ytrain)\n",
    "print(regr.feature_importances_)\n",
    "ypred = regr.predict(xtest)"
   ]
  },
  {
   "cell_type": "code",
   "execution_count": 30,
   "metadata": {},
   "outputs": [
    {
     "name": "stdout",
     "output_type": "stream",
     "text": [
      "mean_squared_error 121.13268881706661\n",
      "root mean_squared_error 11.006029657286346\n",
      "mean_absolute_error 8.733259849560937\n",
      "r2_score 0.287663498637435\n"
     ]
    },
    {
     "data": {
      "image/png": "[encoded data removed]",
      "text/plain": [
       "<Figure size 432x288 with 1 Axes>"
      ]
     },
     "metadata": {
      "needs_background": "light"
     },
     "output_type": "display_data"
    },
    {
     "data": {
      "text/html": [
       "<div>\n",
       "<style scoped>\n",
       "    .dataframe tbody tr th:only-of-type {\n",
       "        vertical-align: middle;\n",
       "    }\n",
       "\n",
       "    .dataframe tbody tr th {\n",
       "        vertical-align: top;\n",
       "    }\n",
       "\n",
       "    .dataframe thead th {\n",
       "        text-align: right;\n",
       "    }\n",
       "</style>\n",
       "<table border=\"1\" class=\"dataframe\">\n",
       "  <thead>\n",
       "    <tr style=\"text-align: right;\">\n",
       "      <th></th>\n",
       "      <th>t + 1</th>\n",
       "      <th>pred (t +1)</th>\n",
       "    </tr>\n",
       "  </thead>\n",
       "  <tbody>\n",
       "    <tr>\n",
       "      <th>27282</th>\n",
       "      <td>180.0</td>\n",
       "      <td>130.943239</td>\n",
       "    </tr>\n",
       "    <tr>\n",
       "      <th>24270</th>\n",
       "      <td>180.0</td>\n",
       "      <td>120.557022</td>\n",
       "    </tr>\n",
       "    <tr>\n",
       "      <th>24956</th>\n",
       "      <td>180.0</td>\n",
       "      <td>125.281789</td>\n",
       "    </tr>\n",
       "    <tr>\n",
       "      <th>18018</th>\n",
       "      <td>181.0</td>\n",
       "      <td>129.246737</td>\n",
       "    </tr>\n",
       "    <tr>\n",
       "      <th>2983</th>\n",
       "      <td>184.0</td>\n",
       "      <td>117.521735</td>\n",
       "    </tr>\n",
       "    <tr>\n",
       "      <th>28399</th>\n",
       "      <td>185.0</td>\n",
       "      <td>116.754698</td>\n",
       "    </tr>\n",
       "    <tr>\n",
       "      <th>9193</th>\n",
       "      <td>197.0</td>\n",
       "      <td>148.202274</td>\n",
       "    </tr>\n",
       "    <tr>\n",
       "      <th>9347</th>\n",
       "      <td>198.0</td>\n",
       "      <td>131.108202</td>\n",
       "    </tr>\n",
       "    <tr>\n",
       "      <th>20428</th>\n",
       "      <td>200.0</td>\n",
       "      <td>124.512395</td>\n",
       "    </tr>\n",
       "    <tr>\n",
       "      <th>12</th>\n",
       "      <td>215.0</td>\n",
       "      <td>116.920502</td>\n",
       "    </tr>\n",
       "  </tbody>\n",
       "</table>\n",
       "</div>"
      ],
      "text/plain": [
       "       t + 1  pred (t +1)\n",
       "27282  180.0   130.943239\n",
       "24270  180.0   120.557022\n",
       "24956  180.0   125.281789\n",
       "18018  181.0   129.246737\n",
       "2983   184.0   117.521735\n",
       "28399  185.0   116.754698\n",
       "9193   197.0   148.202274\n",
       "9347   198.0   131.108202\n",
       "20428  200.0   124.512395\n",
       "12     215.0   116.920502"
      ]
     },
     "execution_count": 30,
     "metadata": {},
     "output_type": "execute_result"
    },
    {
     "data": {
      "image/png": "[encoded data removed]",
      "text/plain": [
       "<Figure size 432x288 with 1 Axes>"
      ]
     },
     "metadata": {
      "needs_background": "light"
     },
     "output_type": "display_data"
    },
    {
     "data": {
      "application/javascript": [
       "\n",
       "            setTimeout(function() {\n",
       "                var nbb_cell_id = 30;\n",
       "                var nbb_formatted_code = \"import math\\nfrom sklearn import metrics as m\\n\\nprint(\\\"mean_squared_error\\\", m.mean_squared_error(ytest, ypred))\\nprint(\\\"root mean_squared_error\\\", math.sqrt(m.mean_squared_error(ytest, ypred)))\\nprint(\\\"mean_absolute_error\\\", m.mean_absolute_error(ytest, ypred))\\nprint(\\\"r2_score\\\", m.r2_score(ytest, ypred))\\n\\nypredPD = pd.DataFrame()\\n# ypredPD['t']=xtest['S000501_x'].values\\nypredPD[\\\"t + 1\\\"] = ytest.values.ravel()\\nypredPD[\\\"pred (t +1)\\\"] = ypred\\nypredPD.head(30)\\n\\nimport matplotlib.patches as mpatches\\n\\nplt.ylabel(\\\"Values\\\")\\nplt.xlabel(\\\"index\\\")\\nred_patch = mpatches.Patch(color=\\\"red\\\", label=\\\"Actual data\\\")\\nblue_patch = mpatches.Patch(color=\\\"blue\\\", label=\\\"Predicted data\\\")\\nplt.legend(handles=[red_patch, blue_patch])\\n\\nypredPD = ypredPD.sort_values(by=[\\\"t + 1\\\"])\\nplt.scatter(\\n    np.arange(0, ypredPD.shape[0], 1), ypredPD[\\\"pred (t +1)\\\"][: ypredPD.shape[0]]\\n)\\nplt.plot(\\n    np.arange(0, ypredPD.shape[0], 1), ypredPD[\\\"t + 1\\\"][: ypredPD.shape[0]], color=\\\"red\\\"\\n)\\nplt.show()\\n\\nplt.ylabel(\\\"p*(t+1), Predicted data\\\")\\nplt.xlabel(\\\"p(t+1), Actual data\\\")\\nplt.scatter(\\n    ypredPD[\\\"t + 1\\\"][: ypredPD.shape[0]], ypredPD[\\\"pred (t +1)\\\"][: ypredPD.shape[0]]\\n)\\n\\nypredPD.tail(10)\";\n",
       "                var nbb_cells = Jupyter.notebook.get_cells();\n",
       "                for (var i = 0; i < nbb_cells.length; ++i) {\n",
       "                    if (nbb_cells[i].input_prompt_number == nbb_cell_id) {\n",
       "                        nbb_cells[i].set_text(nbb_formatted_code);\n",
       "                        break;\n",
       "                    }\n",
       "                }\n",
       "            }, 500);\n",
       "            "
      ],
      "text/plain": [
       "<IPython.core.display.Javascript object>"
      ]
     },
     "metadata": {},
     "output_type": "display_data"
    }
   ],
   "source": [
    "import math\n",
    "from sklearn import metrics as m\n",
    "\n",
    "print(\"mean_squared_error\", m.mean_squared_error(ytest, ypred))\n",
    "print(\"root mean_squared_error\", math.sqrt(m.mean_squared_error(ytest, ypred)))\n",
    "print(\"mean_absolute_error\", m.mean_absolute_error(ytest, ypred))\n",
    "print(\"r2_score\", m.r2_score(ytest, ypred))\n",
    "\n",
    "ypredPD = pd.DataFrame()\n",
    "# ypredPD['t']=xtest['S000501_x'].values\n",
    "ypredPD[\"t + 1\"] = ytest.values.ravel()\n",
    "ypredPD[\"pred (t +1)\"] = ypred\n",
    "ypredPD.head(30)\n",
    "\n",
    "import matplotlib.patches as mpatches\n",
    "\n",
    "plt.ylabel(\"Values\")\n",
    "plt.xlabel(\"index\")\n",
    "red_patch = mpatches.Patch(color=\"red\", label=\"Actual data\")\n",
    "blue_patch = mpatches.Patch(color=\"blue\", label=\"Predicted data\")\n",
    "plt.legend(handles=[red_patch, blue_patch])\n",
    "\n",
    "ypredPD = ypredPD.sort_values(by=[\"t + 1\"])\n",
    "plt.scatter(\n",
    "    np.arange(0, ypredPD.shape[0], 1), ypredPD[\"pred (t +1)\"][: ypredPD.shape[0]]\n",
    ")\n",
    "plt.plot(\n",
    "    np.arange(0, ypredPD.shape[0], 1), ypredPD[\"t + 1\"][: ypredPD.shape[0]], color=\"red\"\n",
    ")\n",
    "plt.show()\n",
    "\n",
    "plt.ylabel(\"p*(t+1), Predicted data\")\n",
    "plt.xlabel(\"p(t+1), Actual data\")\n",
    "plt.scatter(\n",
    "    ypredPD[\"t + 1\"][: ypredPD.shape[0]], ypredPD[\"pred (t +1)\"][: ypredPD.shape[0]]\n",
    ")\n",
    "\n",
    "ypredPD.tail(10)"
   ]
  },
  {
   "cell_type": "markdown",
   "metadata": {},
   "source": [
    "xg boost\n",
    "=========="
   ]
  },
  {
   "cell_type": "code",
   "execution_count": 31,
   "metadata": {},
   "outputs": [
    {
     "name": "stdout",
     "output_type": "stream",
     "text": [
      "[23:16:22] WARNING: C:/Jenkins/workspace/xgboost-win64_release_0.90/src/objective/regression_obj.cu:152: reg:linear is now deprecated in favor of reg:squarederror.\n"
     ]
    },
    {
     "data": {
      "text/plain": [
       "XGBRegressor(base_score=0.5, booster='gbtree', colsample_bylevel=1,\n",
       "             colsample_bynode=1, colsample_bytree=1, gamma=0,\n",
       "             importance_type='gain', learning_rate=0.1, max_delta_step=0,\n",
       "             max_depth=3, min_child_weight=1, missing=None, n_estimators=100,\n",
       "             n_jobs=1, nthread=None, objective='reg:linear', random_state=0,\n",
       "             reg_alpha=0, reg_lambda=1, scale_pos_weight=1, seed=None,\n",
       "             silent=None, subsample=1, verbosity=1)"
      ]
     },
     "execution_count": 31,
     "metadata": {},
     "output_type": "execute_result"
    },
    {
     "data": {
      "application/javascript": [
       "\n",
       "            setTimeout(function() {\n",
       "                var nbb_cell_id = 31;\n",
       "                var nbb_formatted_code = \"import xgboost as xgb\\n\\nxg_reg = xgb.XGBRegressor()\\n# xg_reg = xgb.XGBRegressor(objective ='reg:linear', colsample_bytree = 0.3,\\n#                           learning_rate = 0.1,max_depth = 5, alpha = 10, n_estimators = 10)\\nxg_reg.fit(xtrain, ytrain)\";\n",
       "                var nbb_cells = Jupyter.notebook.get_cells();\n",
       "                for (var i = 0; i < nbb_cells.length; ++i) {\n",
       "                    if (nbb_cells[i].input_prompt_number == nbb_cell_id) {\n",
       "                        nbb_cells[i].set_text(nbb_formatted_code);\n",
       "                        break;\n",
       "                    }\n",
       "                }\n",
       "            }, 500);\n",
       "            "
      ],
      "text/plain": [
       "<IPython.core.display.Javascript object>"
      ]
     },
     "metadata": {},
     "output_type": "display_data"
    }
   ],
   "source": [
    "import xgboost as xgb\n",
    "\n",
    "xg_reg = xgb.XGBRegressor()\n",
    "# xg_reg = xgb.XGBRegressor(objective ='reg:linear', colsample_bytree = 0.3,\n",
    "#                           learning_rate = 0.1,max_depth = 5, alpha = 10, n_estimators = 10)\n",
    "xg_reg.fit(xtrain, ytrain)"
   ]
  },
  {
   "cell_type": "code",
   "execution_count": 32,
   "metadata": {},
   "outputs": [
    {
     "name": "stdout",
     "output_type": "stream",
     "text": [
      "mean_squared_error 117.32095900216657\n",
      "root mean_squared_error 10.831480000543166\n",
      "mean_absolute_error 8.583065198438417\n",
      "r2_score 0.3100788706315776\n"
     ]
    },
    {
     "data": {
      "application/javascript": [
       "\n",
       "            setTimeout(function() {\n",
       "                var nbb_cell_id = 32;\n",
       "                var nbb_formatted_code = \"ypred = xg_reg.predict(xtest)\\n\\nprint(\\\"mean_squared_error\\\", m.mean_squared_error(ytest, ypred))\\nprint(\\\"root mean_squared_error\\\", math.sqrt(m.mean_squared_error(ytest, ypred)))\\nprint(\\\"mean_absolute_error\\\", m.mean_absolute_error(ytest, ypred))\\nprint(\\\"r2_score\\\", m.r2_score(ytest, ypred))\\n\\n# ypredPD=pd.DataFrame()\\n# ypredPD['t']=xtest['S000501_x'].values\\n# ypredPD['t + 1']=ytest.values\\n# ypredPD['pred (t +1)']=ypred\\n# ypredPD.head(10)\";\n",
       "                var nbb_cells = Jupyter.notebook.get_cells();\n",
       "                for (var i = 0; i < nbb_cells.length; ++i) {\n",
       "                    if (nbb_cells[i].input_prompt_number == nbb_cell_id) {\n",
       "                        nbb_cells[i].set_text(nbb_formatted_code);\n",
       "                        break;\n",
       "                    }\n",
       "                }\n",
       "            }, 500);\n",
       "            "
      ],
      "text/plain": [
       "<IPython.core.display.Javascript object>"
      ]
     },
     "metadata": {},
     "output_type": "display_data"
    }
   ],
   "source": [
    "ypred = xg_reg.predict(xtest)\n",
    "\n",
    "print(\"mean_squared_error\", m.mean_squared_error(ytest, ypred))\n",
    "print(\"root mean_squared_error\", math.sqrt(m.mean_squared_error(ytest, ypred)))\n",
    "print(\"mean_absolute_error\", m.mean_absolute_error(ytest, ypred))\n",
    "print(\"r2_score\", m.r2_score(ytest, ypred))\n",
    "\n",
    "# ypredPD=pd.DataFrame()\n",
    "# ypredPD['t']=xtest['S000501_x'].values\n",
    "# ypredPD['t + 1']=ytest.values\n",
    "# ypredPD['pred (t +1)']=ypred\n",
    "# ypredPD.head(10)"
   ]
  },
  {
   "cell_type": "markdown",
   "metadata": {},
   "source": [
    "ANN\n",
    "=========="
   ]
  },
  {
   "cell_type": "code",
   "execution_count": 33,
   "metadata": {},
   "outputs": [
    {
     "name": "stderr",
     "output_type": "stream",
     "text": [
      "Using TensorFlow backend.\n"
     ]
    },
    {
     "data": {
      "application/javascript": [
       "\n",
       "            setTimeout(function() {\n",
       "                var nbb_cell_id = 33;\n",
       "                var nbb_formatted_code = \"from keras.layers import Dropout\\nfrom keras.layers import BatchNormalization\\nfrom keras.models import model_from_json\\nfrom keras.utils import multi_gpu_model\\nfrom keras.utils import to_categorical\\nfrom keras.models import Sequential\\nfrom keras.layers import Dense\\nfrom keras.wrappers.scikit_learn import KerasRegressor\";\n",
       "                var nbb_cells = Jupyter.notebook.get_cells();\n",
       "                for (var i = 0; i < nbb_cells.length; ++i) {\n",
       "                    if (nbb_cells[i].input_prompt_number == nbb_cell_id) {\n",
       "                        nbb_cells[i].set_text(nbb_formatted_code);\n",
       "                        break;\n",
       "                    }\n",
       "                }\n",
       "            }, 500);\n",
       "            "
      ],
      "text/plain": [
       "<IPython.core.display.Javascript object>"
      ]
     },
     "metadata": {},
     "output_type": "display_data"
    }
   ],
   "source": [
    "from keras.layers import Dropout\n",
    "from keras.layers import BatchNormalization\n",
    "from keras.models import model_from_json\n",
    "from keras.utils import multi_gpu_model\n",
    "from keras.utils import to_categorical\n",
    "from keras.models import Sequential\n",
    "from keras.layers import Dense\n",
    "from keras.wrappers.scikit_learn import KerasRegressor"
   ]
  },
  {
   "cell_type": "code",
   "execution_count": 59,
   "metadata": {},
   "outputs": [
    {
     "data": {
      "application/javascript": [
       "\n",
       "            setTimeout(function() {\n",
       "                var nbb_cell_id = 59;\n",
       "                var nbb_formatted_code = \"model = Sequential()\\nmodel.add(\\n    Dense(input_dim=25, units=128, activation=\\\"relu\\\", kernel_initializer=\\\"uniform\\\")\\n)\\nmodel.add(Dense(units=128, activation=\\\"relu\\\", kernel_initializer=\\\"uniform\\\"))\\nmodel.add(RBFLayer(128, 0.5))\\nmodel.add(BatchNormalization())\\nmodel.add(Dropout(0.25))\\nmodel.add(Dense(units=64, activation=\\\"relu\\\", kernel_initializer=\\\"uniform\\\"))\\nmodel.add(RBFLayer(64, 0.5))\\nmodel.add(Dense(units=32, activation=\\\"relu\\\", kernel_initializer=\\\"uniform\\\"))\\nmodel.add(RBFLayer(32, 0.5))\\nmodel.add(BatchNormalization())\\nmodel.add(Dropout(0.25))\\nmodel.add(Dense(units=16, activation=\\\"relu\\\", kernel_initializer=\\\"uniform\\\"))\\nmodel.add(RBFLayer(16, 0.5))\\nmodel.add(BatchNormalization())\\nmodel.add(Dropout(0.25))\\nmodel.add(Dense(units=8, activation=\\\"relu\\\", kernel_initializer=\\\"uniform\\\"))\\nmodel.add(RBFLayer(8, 0.5))\\nmodel.add(Dense(units=1, kernel_initializer=\\\"uniform\\\"))\\nmodel.compile(\\n    loss=\\\"mean_squared_error\\\", optimizer=\\\"Nadam\\\", metrics=[\\\"mean_squared_error\\\"]\\n)\";\n",
       "                var nbb_cells = Jupyter.notebook.get_cells();\n",
       "                for (var i = 0; i < nbb_cells.length; ++i) {\n",
       "                    if (nbb_cells[i].input_prompt_number == nbb_cell_id) {\n",
       "                        nbb_cells[i].set_text(nbb_formatted_code);\n",
       "                        break;\n",
       "                    }\n",
       "                }\n",
       "            }, 500);\n",
       "            "
      ],
      "text/plain": [
       "<IPython.core.display.Javascript object>"
      ]
     },
     "metadata": {},
     "output_type": "display_data"
    }
   ],
   "source": [
    "model = Sequential()\n",
    "model.add(\n",
    "    Dense(input_dim=25, units=128, activation=\"relu\", kernel_initializer=\"uniform\")\n",
    ")\n",
    "model.add(Dense(units=128, activation=\"relu\", kernel_initializer=\"uniform\"))\n",
    "model.add(RBFLayer(128, 0.5))\n",
    "model.add(BatchNormalization())\n",
    "model.add(Dropout(0.25))\n",
    "model.add(Dense(units=64, activation=\"relu\", kernel_initializer=\"uniform\"))\n",
    "model.add(RBFLayer(64, 0.5))\n",
    "model.add(Dense(units=32, activation=\"relu\", kernel_initializer=\"uniform\"))\n",
    "model.add(RBFLayer(32, 0.5))\n",
    "model.add(BatchNormalization())\n",
    "model.add(Dropout(0.25))\n",
    "model.add(Dense(units=16, activation=\"relu\", kernel_initializer=\"uniform\"))\n",
    "model.add(RBFLayer(16, 0.5))\n",
    "model.add(BatchNormalization())\n",
    "model.add(Dropout(0.25))\n",
    "model.add(Dense(units=8, activation=\"relu\", kernel_initializer=\"uniform\"))\n",
    "model.add(RBFLayer(8, 0.5))\n",
    "model.add(Dense(units=1, kernel_initializer=\"uniform\"))\n",
    "model.compile(\n",
    "    loss=\"mean_squared_error\", optimizer=\"Nadam\", metrics=[\"mean_squared_error\"]\n",
    ")"
   ]
  },
  {
   "cell_type": "code",
   "execution_count": 61,
   "metadata": {
    "scrolled": true
   },
   "outputs": [
    {
     "name": "stdout",
     "output_type": "stream",
     "text": [
      "Train on 98552 samples, validate on 24639 samples\n",
      "Epoch 1/20\n",
      "64700/98552 [==================>...........] - ETA: 3s - loss: 171.7253 - mean_squared_error: 171.7253"
     ]
    },
    {
     "ename": "KeyboardInterrupt",
     "evalue": "",
     "output_type": "error",
     "traceback": [
      "\u001b[1;31m---------------------------------------------------------------------------\u001b[0m",
      "\u001b[1;31mKeyboardInterrupt\u001b[0m                         Traceback (most recent call last)",
      "\u001b[1;32m<ipython-input-61-c0de9981e9bd>\u001b[0m in \u001b[0;36m<module>\u001b[1;34m\u001b[0m\n\u001b[1;32m----> 1\u001b[1;33m \u001b[0mh\u001b[0m \u001b[1;33m=\u001b[0m \u001b[0mmodel\u001b[0m\u001b[1;33m.\u001b[0m\u001b[0mfit\u001b[0m\u001b[1;33m(\u001b[0m\u001b[0mxtrain\u001b[0m\u001b[1;33m,\u001b[0m \u001b[0mytrain\u001b[0m\u001b[1;33m,\u001b[0m \u001b[0mvalidation_split\u001b[0m\u001b[1;33m=\u001b[0m\u001b[1;36m0.2\u001b[0m\u001b[1;33m,\u001b[0m \u001b[0mepochs\u001b[0m\u001b[1;33m=\u001b[0m\u001b[1;36m20\u001b[0m\u001b[1;33m,\u001b[0m \u001b[0mbatch_size\u001b[0m\u001b[1;33m=\u001b[0m\u001b[1;36m50\u001b[0m\u001b[1;33m)\u001b[0m\u001b[1;33m\u001b[0m\u001b[1;33m\u001b[0m\u001b[0m\n\u001b[0m",
      "\u001b[1;32mC:\\ProgramData\\Anaconda3\\lib\\site-packages\\keras\\engine\\training.py\u001b[0m in \u001b[0;36mfit\u001b[1;34m(self, x, y, batch_size, epochs, verbose, callbacks, validation_split, validation_data, shuffle, class_weight, sample_weight, initial_epoch, steps_per_epoch, validation_steps, **kwargs)\u001b[0m\n\u001b[0;32m   1037\u001b[0m                                         \u001b[0minitial_epoch\u001b[0m\u001b[1;33m=\u001b[0m\u001b[0minitial_epoch\u001b[0m\u001b[1;33m,\u001b[0m\u001b[1;33m\u001b[0m\u001b[1;33m\u001b[0m\u001b[0m\n\u001b[0;32m   1038\u001b[0m                                         \u001b[0msteps_per_epoch\u001b[0m\u001b[1;33m=\u001b[0m\u001b[0msteps_per_epoch\u001b[0m\u001b[1;33m,\u001b[0m\u001b[1;33m\u001b[0m\u001b[1;33m\u001b[0m\u001b[0m\n\u001b[1;32m-> 1039\u001b[1;33m                                         validation_steps=validation_steps)\n\u001b[0m\u001b[0;32m   1040\u001b[0m \u001b[1;33m\u001b[0m\u001b[0m\n\u001b[0;32m   1041\u001b[0m     def evaluate(self, x=None, y=None,\n",
      "\u001b[1;32mC:\\ProgramData\\Anaconda3\\lib\\site-packages\\keras\\engine\\training_arrays.py\u001b[0m in \u001b[0;36mfit_loop\u001b[1;34m(model, f, ins, out_labels, batch_size, epochs, verbose, callbacks, val_f, val_ins, shuffle, callback_metrics, initial_epoch, steps_per_epoch, validation_steps)\u001b[0m\n\u001b[0;32m    197\u001b[0m                     \u001b[0mins_batch\u001b[0m\u001b[1;33m[\u001b[0m\u001b[0mi\u001b[0m\u001b[1;33m]\u001b[0m \u001b[1;33m=\u001b[0m \u001b[0mins_batch\u001b[0m\u001b[1;33m[\u001b[0m\u001b[0mi\u001b[0m\u001b[1;33m]\u001b[0m\u001b[1;33m.\u001b[0m\u001b[0mtoarray\u001b[0m\u001b[1;33m(\u001b[0m\u001b[1;33m)\u001b[0m\u001b[1;33m\u001b[0m\u001b[1;33m\u001b[0m\u001b[0m\n\u001b[0;32m    198\u001b[0m \u001b[1;33m\u001b[0m\u001b[0m\n\u001b[1;32m--> 199\u001b[1;33m                 \u001b[0mouts\u001b[0m \u001b[1;33m=\u001b[0m \u001b[0mf\u001b[0m\u001b[1;33m(\u001b[0m\u001b[0mins_batch\u001b[0m\u001b[1;33m)\u001b[0m\u001b[1;33m\u001b[0m\u001b[1;33m\u001b[0m\u001b[0m\n\u001b[0m\u001b[0;32m    200\u001b[0m                 \u001b[0mouts\u001b[0m \u001b[1;33m=\u001b[0m \u001b[0mto_list\u001b[0m\u001b[1;33m(\u001b[0m\u001b[0mouts\u001b[0m\u001b[1;33m)\u001b[0m\u001b[1;33m\u001b[0m\u001b[1;33m\u001b[0m\u001b[0m\n\u001b[0;32m    201\u001b[0m                 \u001b[1;32mfor\u001b[0m \u001b[0ml\u001b[0m\u001b[1;33m,\u001b[0m \u001b[0mo\u001b[0m \u001b[1;32min\u001b[0m \u001b[0mzip\u001b[0m\u001b[1;33m(\u001b[0m\u001b[0mout_labels\u001b[0m\u001b[1;33m,\u001b[0m \u001b[0mouts\u001b[0m\u001b[1;33m)\u001b[0m\u001b[1;33m:\u001b[0m\u001b[1;33m\u001b[0m\u001b[1;33m\u001b[0m\u001b[0m\n",
      "\u001b[1;32mC:\\ProgramData\\Anaconda3\\lib\\site-packages\\keras\\backend\\tensorflow_backend.py\u001b[0m in \u001b[0;36m__call__\u001b[1;34m(self, inputs)\u001b[0m\n\u001b[0;32m   2713\u001b[0m                 \u001b[1;32mreturn\u001b[0m \u001b[0mself\u001b[0m\u001b[1;33m.\u001b[0m\u001b[0m_legacy_call\u001b[0m\u001b[1;33m(\u001b[0m\u001b[0minputs\u001b[0m\u001b[1;33m)\u001b[0m\u001b[1;33m\u001b[0m\u001b[1;33m\u001b[0m\u001b[0m\n\u001b[0;32m   2714\u001b[0m \u001b[1;33m\u001b[0m\u001b[0m\n\u001b[1;32m-> 2715\u001b[1;33m             \u001b[1;32mreturn\u001b[0m \u001b[0mself\u001b[0m\u001b[1;33m.\u001b[0m\u001b[0m_call\u001b[0m\u001b[1;33m(\u001b[0m\u001b[0minputs\u001b[0m\u001b[1;33m)\u001b[0m\u001b[1;33m\u001b[0m\u001b[1;33m\u001b[0m\u001b[0m\n\u001b[0m\u001b[0;32m   2716\u001b[0m         \u001b[1;32melse\u001b[0m\u001b[1;33m:\u001b[0m\u001b[1;33m\u001b[0m\u001b[1;33m\u001b[0m\u001b[0m\n\u001b[0;32m   2717\u001b[0m             \u001b[1;32mif\u001b[0m \u001b[0mpy_any\u001b[0m\u001b[1;33m(\u001b[0m\u001b[0mis_tensor\u001b[0m\u001b[1;33m(\u001b[0m\u001b[0mx\u001b[0m\u001b[1;33m)\u001b[0m \u001b[1;32mfor\u001b[0m \u001b[0mx\u001b[0m \u001b[1;32min\u001b[0m \u001b[0minputs\u001b[0m\u001b[1;33m)\u001b[0m\u001b[1;33m:\u001b[0m\u001b[1;33m\u001b[0m\u001b[1;33m\u001b[0m\u001b[0m\n",
      "\u001b[1;32mC:\\ProgramData\\Anaconda3\\lib\\site-packages\\keras\\backend\\tensorflow_backend.py\u001b[0m in \u001b[0;36m_call\u001b[1;34m(self, inputs)\u001b[0m\n\u001b[0;32m   2673\u001b[0m             \u001b[0mfetched\u001b[0m \u001b[1;33m=\u001b[0m \u001b[0mself\u001b[0m\u001b[1;33m.\u001b[0m\u001b[0m_callable_fn\u001b[0m\u001b[1;33m(\u001b[0m\u001b[1;33m*\u001b[0m\u001b[0marray_vals\u001b[0m\u001b[1;33m,\u001b[0m \u001b[0mrun_metadata\u001b[0m\u001b[1;33m=\u001b[0m\u001b[0mself\u001b[0m\u001b[1;33m.\u001b[0m\u001b[0mrun_metadata\u001b[0m\u001b[1;33m)\u001b[0m\u001b[1;33m\u001b[0m\u001b[1;33m\u001b[0m\u001b[0m\n\u001b[0;32m   2674\u001b[0m         \u001b[1;32melse\u001b[0m\u001b[1;33m:\u001b[0m\u001b[1;33m\u001b[0m\u001b[1;33m\u001b[0m\u001b[0m\n\u001b[1;32m-> 2675\u001b[1;33m             \u001b[0mfetched\u001b[0m \u001b[1;33m=\u001b[0m \u001b[0mself\u001b[0m\u001b[1;33m.\u001b[0m\u001b[0m_callable_fn\u001b[0m\u001b[1;33m(\u001b[0m\u001b[1;33m*\u001b[0m\u001b[0marray_vals\u001b[0m\u001b[1;33m)\u001b[0m\u001b[1;33m\u001b[0m\u001b[1;33m\u001b[0m\u001b[0m\n\u001b[0m\u001b[0;32m   2676\u001b[0m         \u001b[1;32mreturn\u001b[0m \u001b[0mfetched\u001b[0m\u001b[1;33m[\u001b[0m\u001b[1;33m:\u001b[0m\u001b[0mlen\u001b[0m\u001b[1;33m(\u001b[0m\u001b[0mself\u001b[0m\u001b[1;33m.\u001b[0m\u001b[0moutputs\u001b[0m\u001b[1;33m)\u001b[0m\u001b[1;33m]\u001b[0m\u001b[1;33m\u001b[0m\u001b[1;33m\u001b[0m\u001b[0m\n\u001b[0;32m   2677\u001b[0m \u001b[1;33m\u001b[0m\u001b[0m\n",
      "\u001b[1;32mC:\\ProgramData\\Anaconda3\\lib\\site-packages\\tensorflow\\python\\client\\session.py\u001b[0m in \u001b[0;36m__call__\u001b[1;34m(self, *args, **kwargs)\u001b[0m\n\u001b[0;32m   1456\u001b[0m         ret = tf_session.TF_SessionRunCallable(self._session._session,\n\u001b[0;32m   1457\u001b[0m                                                \u001b[0mself\u001b[0m\u001b[1;33m.\u001b[0m\u001b[0m_handle\u001b[0m\u001b[1;33m,\u001b[0m \u001b[0margs\u001b[0m\u001b[1;33m,\u001b[0m\u001b[1;33m\u001b[0m\u001b[1;33m\u001b[0m\u001b[0m\n\u001b[1;32m-> 1458\u001b[1;33m                                                run_metadata_ptr)\n\u001b[0m\u001b[0;32m   1459\u001b[0m         \u001b[1;32mif\u001b[0m \u001b[0mrun_metadata\u001b[0m\u001b[1;33m:\u001b[0m\u001b[1;33m\u001b[0m\u001b[1;33m\u001b[0m\u001b[0m\n\u001b[0;32m   1460\u001b[0m           \u001b[0mproto_data\u001b[0m \u001b[1;33m=\u001b[0m \u001b[0mtf_session\u001b[0m\u001b[1;33m.\u001b[0m\u001b[0mTF_GetBuffer\u001b[0m\u001b[1;33m(\u001b[0m\u001b[0mrun_metadata_ptr\u001b[0m\u001b[1;33m)\u001b[0m\u001b[1;33m\u001b[0m\u001b[1;33m\u001b[0m\u001b[0m\n",
      "\u001b[1;31mKeyboardInterrupt\u001b[0m: "
     ]
    },
    {
     "data": {
      "application/javascript": [
       "\n",
       "            setTimeout(function() {\n",
       "                var nbb_cell_id = 61;\n",
       "                var nbb_formatted_code = \"h = model.fit(xtrain, ytrain, validation_split=0.2, epochs=20, batch_size=50)\";\n",
       "                var nbb_cells = Jupyter.notebook.get_cells();\n",
       "                for (var i = 0; i < nbb_cells.length; ++i) {\n",
       "                    if (nbb_cells[i].input_prompt_number == nbb_cell_id) {\n",
       "                        nbb_cells[i].set_text(nbb_formatted_code);\n",
       "                        break;\n",
       "                    }\n",
       "                }\n",
       "            }, 500);\n",
       "            "
      ],
      "text/plain": [
       "<IPython.core.display.Javascript object>"
      ]
     },
     "metadata": {},
     "output_type": "display_data"
    }
   ],
   "source": [
    "h = model.fit(xtrain, ytrain, validation_split=0.2, epochs=20, batch_size=50)"
   ]
  },
  {
   "cell_type": "code",
   "execution_count": 62,
   "metadata": {},
   "outputs": [
    {
     "name": "stdout",
     "output_type": "stream",
     "text": [
      "mean_squared_error 170.0911894719296\n",
      "root mean_squared_error 13.041901298197653\n",
      "mean_absolute_error 10.563917738592883\n",
      "r2_score -0.00024331998449556025\n"
     ]
    },
    {
     "data": {
      "text/html": [
       "<div>\n",
       "<style scoped>\n",
       "    .dataframe tbody tr th:only-of-type {\n",
       "        vertical-align: middle;\n",
       "    }\n",
       "\n",
       "    .dataframe tbody tr th {\n",
       "        vertical-align: top;\n",
       "    }\n",
       "\n",
       "    .dataframe thead th {\n",
       "        text-align: right;\n",
       "    }\n",
       "</style>\n",
       "<table border=\"1\" class=\"dataframe\">\n",
       "  <thead>\n",
       "    <tr style=\"text-align: right;\">\n",
       "      <th></th>\n",
       "      <th>t + 1</th>\n",
       "      <th>pred (t +1)</th>\n",
       "    </tr>\n",
       "  </thead>\n",
       "  <tbody>\n",
       "    <tr>\n",
       "      <th>0</th>\n",
       "      <td>150.0</td>\n",
       "      <td>114.258026</td>\n",
       "    </tr>\n",
       "    <tr>\n",
       "      <th>1</th>\n",
       "      <td>120.0</td>\n",
       "      <td>114.258026</td>\n",
       "    </tr>\n",
       "    <tr>\n",
       "      <th>2</th>\n",
       "      <td>124.0</td>\n",
       "      <td>114.258026</td>\n",
       "    </tr>\n",
       "    <tr>\n",
       "      <th>3</th>\n",
       "      <td>109.0</td>\n",
       "      <td>114.258026</td>\n",
       "    </tr>\n",
       "    <tr>\n",
       "      <th>4</th>\n",
       "      <td>114.0</td>\n",
       "      <td>114.258026</td>\n",
       "    </tr>\n",
       "    <tr>\n",
       "      <th>5</th>\n",
       "      <td>106.0</td>\n",
       "      <td>114.258026</td>\n",
       "    </tr>\n",
       "    <tr>\n",
       "      <th>6</th>\n",
       "      <td>98.0</td>\n",
       "      <td>114.258026</td>\n",
       "    </tr>\n",
       "    <tr>\n",
       "      <th>7</th>\n",
       "      <td>128.0</td>\n",
       "      <td>114.258026</td>\n",
       "    </tr>\n",
       "    <tr>\n",
       "      <th>8</th>\n",
       "      <td>98.0</td>\n",
       "      <td>114.258026</td>\n",
       "    </tr>\n",
       "    <tr>\n",
       "      <th>9</th>\n",
       "      <td>110.0</td>\n",
       "      <td>114.258026</td>\n",
       "    </tr>\n",
       "  </tbody>\n",
       "</table>\n",
       "</div>"
      ],
      "text/plain": [
       "   t + 1  pred (t +1)\n",
       "0  150.0   114.258026\n",
       "1  120.0   114.258026\n",
       "2  124.0   114.258026\n",
       "3  109.0   114.258026\n",
       "4  114.0   114.258026\n",
       "5  106.0   114.258026\n",
       "6   98.0   114.258026\n",
       "7  128.0   114.258026\n",
       "8   98.0   114.258026\n",
       "9  110.0   114.258026"
      ]
     },
     "execution_count": 62,
     "metadata": {},
     "output_type": "execute_result"
    },
    {
     "data": {
      "application/javascript": [
       "\n",
       "            setTimeout(function() {\n",
       "                var nbb_cell_id = 62;\n",
       "                var nbb_formatted_code = \"ypred = model.predict(xtest)\\n\\nimport math\\n\\nprint(\\\"mean_squared_error\\\", m.mean_squared_error(ytest, ypred))\\nprint(\\\"root mean_squared_error\\\", math.sqrt(m.mean_squared_error(ytest, ypred)))\\nprint(\\\"mean_absolute_error\\\", m.mean_absolute_error(ytest, ypred))\\nprint(\\\"r2_score\\\", m.r2_score(ytest, ypred))\\n\\nypredPD = pd.DataFrame()\\n# ypredPD['t']=xtest['S000501_x'].values\\nypredPD[\\\"t + 1\\\"] = ytest.values.ravel()\\nypredPD[\\\"pred (t +1)\\\"] = ypred\\nypredPD.head(10)\";\n",
       "                var nbb_cells = Jupyter.notebook.get_cells();\n",
       "                for (var i = 0; i < nbb_cells.length; ++i) {\n",
       "                    if (nbb_cells[i].input_prompt_number == nbb_cell_id) {\n",
       "                        nbb_cells[i].set_text(nbb_formatted_code);\n",
       "                        break;\n",
       "                    }\n",
       "                }\n",
       "            }, 500);\n",
       "            "
      ],
      "text/plain": [
       "<IPython.core.display.Javascript object>"
      ]
     },
     "metadata": {},
     "output_type": "display_data"
    }
   ],
   "source": [
    "ypred = model.predict(xtest)\n",
    "\n",
    "import math\n",
    "\n",
    "print(\"mean_squared_error\", m.mean_squared_error(ytest, ypred))\n",
    "print(\"root mean_squared_error\", math.sqrt(m.mean_squared_error(ytest, ypred)))\n",
    "print(\"mean_absolute_error\", m.mean_absolute_error(ytest, ypred))\n",
    "print(\"r2_score\", m.r2_score(ytest, ypred))\n",
    "\n",
    "ypredPD = pd.DataFrame()\n",
    "# ypredPD['t']=xtest['S000501_x'].values\n",
    "ypredPD[\"t + 1\"] = ytest.values.ravel()\n",
    "ypredPD[\"pred (t +1)\"] = ypred\n",
    "ypredPD.head(10)"
   ]
  },
  {
   "cell_type": "code",
   "execution_count": 63,
   "metadata": {},
   "outputs": [
    {
     "name": "stdout",
     "output_type": "stream",
     "text": [
      "dict_keys(['val_loss', 'val_mean_squared_error', 'loss', 'mean_squared_error'])\n"
     ]
    },
    {
     "data": {
      "image/png": "[encoded data removed]",
      "text/plain": [
       "<Figure size 432x288 with 1 Axes>"
      ]
     },
     "metadata": {
      "needs_background": "light"
     },
     "output_type": "display_data"
    },
    {
     "data": {
      "image/png": "[encoded data removed]",
      "text/plain": [
       "<Figure size 432x288 with 1 Axes>"
      ]
     },
     "metadata": {
      "needs_background": "light"
     },
     "output_type": "display_data"
    },
    {
     "data": {
      "application/javascript": [
       "\n",
       "            setTimeout(function() {\n",
       "                var nbb_cell_id = 63;\n",
       "                var nbb_formatted_code = \"history = h\\nprint(history.history.keys())\\n# summarize history for accuracy\\nplt.plot(history.history[\\\"val_loss\\\"])\\nplt.plot(history.history[\\\"loss\\\"])\\nplt.title(\\\"model accuracy\\\")\\nplt.ylabel(\\\"accuracy\\\")\\nplt.xlabel(\\\"epoch\\\")\\nplt.legend([\\\"train\\\", \\\"test\\\"], loc=\\\"upper left\\\")\\nplt.show()\\n# summarize history for loss\\nplt.plot(history.history[\\\"val_mean_squared_error\\\"])\\nplt.plot(history.history[\\\"mean_squared_error\\\"])\\nplt.title(\\\"model loss\\\")\\nplt.ylabel(\\\"loss\\\")\\nplt.xlabel(\\\"epoch\\\")\\nplt.legend([\\\"train\\\", \\\"test\\\"], loc=\\\"upper left\\\")\\nplt.show()\";\n",
       "                var nbb_cells = Jupyter.notebook.get_cells();\n",
       "                for (var i = 0; i < nbb_cells.length; ++i) {\n",
       "                    if (nbb_cells[i].input_prompt_number == nbb_cell_id) {\n",
       "                        nbb_cells[i].set_text(nbb_formatted_code);\n",
       "                        break;\n",
       "                    }\n",
       "                }\n",
       "            }, 500);\n",
       "            "
      ],
      "text/plain": [
       "<IPython.core.display.Javascript object>"
      ]
     },
     "metadata": {},
     "output_type": "display_data"
    }
   ],
   "source": [
    "history = h\n",
    "print(history.history.keys())\n",
    "# summarize history for accuracy\n",
    "plt.plot(history.history[\"val_loss\"])\n",
    "plt.plot(history.history[\"loss\"])\n",
    "plt.title(\"model accuracy\")\n",
    "plt.ylabel(\"accuracy\")\n",
    "plt.xlabel(\"epoch\")\n",
    "plt.legend([\"train\", \"test\"], loc=\"upper left\")\n",
    "plt.show()\n",
    "# summarize history for loss\n",
    "plt.plot(history.history[\"val_mean_squared_error\"])\n",
    "plt.plot(history.history[\"mean_squared_error\"])\n",
    "plt.title(\"model loss\")\n",
    "plt.ylabel(\"loss\")\n",
    "plt.xlabel(\"epoch\")\n",
    "plt.legend([\"train\", \"test\"], loc=\"upper left\")\n",
    "plt.show()"
   ]
  },
  {
   "cell_type": "code",
   "execution_count": 64,
   "metadata": {},
   "outputs": [
    {
     "name": "stdout",
     "output_type": "stream",
     "text": [
      "10.563917738592883\n",
      "7.648191386476274\n",
      "27.644652250146112\n"
     ]
    },
    {
     "data": {
      "application/javascript": [
       "\n",
       "            setTimeout(function() {\n",
       "                var nbb_cell_id = 64;\n",
       "                var nbb_formatted_code = \"ypredPD[\\\"diff\\\"] = abs(ypredPD[\\\"t + 1\\\"] - ypredPD[\\\"pred (t +1)\\\"])\\nprint(np.mean(ypredPD[\\\"diff\\\"]))\\nprint(np.std(ypredPD[\\\"diff\\\"]))\\nprint(100 * ypredPD[ypredPD[\\\"diff\\\"] <= 5].shape[0] / ypredPD.shape[0])\";\n",
       "                var nbb_cells = Jupyter.notebook.get_cells();\n",
       "                for (var i = 0; i < nbb_cells.length; ++i) {\n",
       "                    if (nbb_cells[i].input_prompt_number == nbb_cell_id) {\n",
       "                        nbb_cells[i].set_text(nbb_formatted_code);\n",
       "                        break;\n",
       "                    }\n",
       "                }\n",
       "            }, 500);\n",
       "            "
      ],
      "text/plain": [
       "<IPython.core.display.Javascript object>"
      ]
     },
     "metadata": {},
     "output_type": "display_data"
    }
   ],
   "source": [
    "ypredPD[\"diff\"] = abs(ypredPD[\"t + 1\"] - ypredPD[\"pred (t +1)\"])\n",
    "print(np.mean(ypredPD[\"diff\"]))\n",
    "print(np.std(ypredPD[\"diff\"]))\n",
    "print(100 * ypredPD[ypredPD[\"diff\"] <= 5].shape[0] / ypredPD.shape[0])"
   ]
  },
  {
   "cell_type": "code",
   "execution_count": 65,
   "metadata": {},
   "outputs": [
    {
     "data": {
      "image/png": "[encoded data removed]",
      "text/plain": [
       "<Figure size 432x288 with 1 Axes>"
      ]
     },
     "metadata": {
      "needs_background": "light"
     },
     "output_type": "display_data"
    },
    {
     "data": {
      "text/html": [
       "<div>\n",
       "<style scoped>\n",
       "    .dataframe tbody tr th:only-of-type {\n",
       "        vertical-align: middle;\n",
       "    }\n",
       "\n",
       "    .dataframe tbody tr th {\n",
       "        vertical-align: top;\n",
       "    }\n",
       "\n",
       "    .dataframe thead th {\n",
       "        text-align: right;\n",
       "    }\n",
       "</style>\n",
       "<table border=\"1\" class=\"dataframe\">\n",
       "  <thead>\n",
       "    <tr style=\"text-align: right;\">\n",
       "      <th></th>\n",
       "      <th>t + 1</th>\n",
       "      <th>pred (t +1)</th>\n",
       "      <th>diff</th>\n",
       "    </tr>\n",
       "  </thead>\n",
       "  <tbody>\n",
       "    <tr>\n",
       "      <th>3741</th>\n",
       "      <td>60.0</td>\n",
       "      <td>114.258026</td>\n",
       "      <td>54.258026</td>\n",
       "    </tr>\n",
       "    <tr>\n",
       "      <th>22745</th>\n",
       "      <td>80.0</td>\n",
       "      <td>114.258026</td>\n",
       "      <td>34.258026</td>\n",
       "    </tr>\n",
       "    <tr>\n",
       "      <th>12066</th>\n",
       "      <td>80.0</td>\n",
       "      <td>114.258026</td>\n",
       "      <td>34.258026</td>\n",
       "    </tr>\n",
       "    <tr>\n",
       "      <th>22658</th>\n",
       "      <td>80.0</td>\n",
       "      <td>114.258026</td>\n",
       "      <td>34.258026</td>\n",
       "    </tr>\n",
       "    <tr>\n",
       "      <th>25885</th>\n",
       "      <td>80.0</td>\n",
       "      <td>114.258026</td>\n",
       "      <td>34.258026</td>\n",
       "    </tr>\n",
       "    <tr>\n",
       "      <th>23300</th>\n",
       "      <td>80.0</td>\n",
       "      <td>114.258026</td>\n",
       "      <td>34.258026</td>\n",
       "    </tr>\n",
       "    <tr>\n",
       "      <th>2803</th>\n",
       "      <td>80.0</td>\n",
       "      <td>114.258026</td>\n",
       "      <td>34.258026</td>\n",
       "    </tr>\n",
       "    <tr>\n",
       "      <th>1984</th>\n",
       "      <td>80.0</td>\n",
       "      <td>114.258026</td>\n",
       "      <td>34.258026</td>\n",
       "    </tr>\n",
       "    <tr>\n",
       "      <th>22503</th>\n",
       "      <td>80.0</td>\n",
       "      <td>114.258026</td>\n",
       "      <td>34.258026</td>\n",
       "    </tr>\n",
       "    <tr>\n",
       "      <th>17323</th>\n",
       "      <td>80.0</td>\n",
       "      <td>114.258026</td>\n",
       "      <td>34.258026</td>\n",
       "    </tr>\n",
       "  </tbody>\n",
       "</table>\n",
       "</div>"
      ],
      "text/plain": [
       "       t + 1  pred (t +1)       diff\n",
       "3741    60.0   114.258026  54.258026\n",
       "22745   80.0   114.258026  34.258026\n",
       "12066   80.0   114.258026  34.258026\n",
       "22658   80.0   114.258026  34.258026\n",
       "25885   80.0   114.258026  34.258026\n",
       "23300   80.0   114.258026  34.258026\n",
       "2803    80.0   114.258026  34.258026\n",
       "1984    80.0   114.258026  34.258026\n",
       "22503   80.0   114.258026  34.258026\n",
       "17323   80.0   114.258026  34.258026"
      ]
     },
     "execution_count": 65,
     "metadata": {},
     "output_type": "execute_result"
    },
    {
     "data": {
      "image/png": "[encoded data removed]",
      "text/plain": [
       "<Figure size 432x288 with 1 Axes>"
      ]
     },
     "metadata": {
      "needs_background": "light"
     },
     "output_type": "display_data"
    },
    {
     "data": {
      "application/javascript": [
       "\n",
       "            setTimeout(function() {\n",
       "                var nbb_cell_id = 65;\n",
       "                var nbb_formatted_code = \"import matplotlib.patches as mpatches\\n\\nplt.ylabel(\\\"Values\\\")\\nplt.xlabel(\\\"index\\\")\\nred_patch = mpatches.Patch(color=\\\"red\\\", label=\\\"Actual data\\\")\\nblue_patch = mpatches.Patch(color=\\\"blue\\\", label=\\\"Predicted data\\\")\\nplt.legend(handles=[red_patch, blue_patch])\\n\\nypredPD = ypredPD.sort_values(by=[\\\"t + 1\\\"])\\nplt.scatter(\\n    np.arange(0, ypredPD.shape[0], 1), ypredPD[\\\"pred (t +1)\\\"][: ypredPD.shape[0]]\\n)\\nplt.plot(\\n    np.arange(0, ypredPD.shape[0], 1), ypredPD[\\\"t + 1\\\"][: ypredPD.shape[0]], color=\\\"red\\\"\\n)\\nplt.show()\\n\\nplt.ylabel(\\\"p*(t+1), Predicted data\\\")\\nplt.xlabel(\\\"p(t+1), Actual data\\\")\\nplt.scatter(\\n    ypredPD[\\\"t + 1\\\"][: ypredPD.shape[0]], ypredPD[\\\"pred (t +1)\\\"][: ypredPD.shape[0]]\\n)\\n\\nypredPD.head(10)\";\n",
       "                var nbb_cells = Jupyter.notebook.get_cells();\n",
       "                for (var i = 0; i < nbb_cells.length; ++i) {\n",
       "                    if (nbb_cells[i].input_prompt_number == nbb_cell_id) {\n",
       "                        nbb_cells[i].set_text(nbb_formatted_code);\n",
       "                        break;\n",
       "                    }\n",
       "                }\n",
       "            }, 500);\n",
       "            "
      ],
      "text/plain": [
       "<IPython.core.display.Javascript object>"
      ]
     },
     "metadata": {},
     "output_type": "display_data"
    }
   ],
   "source": [
    "import matplotlib.patches as mpatches\n",
    "\n",
    "plt.ylabel(\"Values\")\n",
    "plt.xlabel(\"index\")\n",
    "red_patch = mpatches.Patch(color=\"red\", label=\"Actual data\")\n",
    "blue_patch = mpatches.Patch(color=\"blue\", label=\"Predicted data\")\n",
    "plt.legend(handles=[red_patch, blue_patch])\n",
    "\n",
    "ypredPD = ypredPD.sort_values(by=[\"t + 1\"])\n",
    "plt.scatter(\n",
    "    np.arange(0, ypredPD.shape[0], 1), ypredPD[\"pred (t +1)\"][: ypredPD.shape[0]]\n",
    ")\n",
    "plt.plot(\n",
    "    np.arange(0, ypredPD.shape[0], 1), ypredPD[\"t + 1\"][: ypredPD.shape[0]], color=\"red\"\n",
    ")\n",
    "plt.show()\n",
    "\n",
    "plt.ylabel(\"p*(t+1), Predicted data\")\n",
    "plt.xlabel(\"p(t+1), Actual data\")\n",
    "plt.scatter(\n",
    "    ypredPD[\"t + 1\"][: ypredPD.shape[0]], ypredPD[\"pred (t +1)\"][: ypredPD.shape[0]]\n",
    ")\n",
    "\n",
    "ypredPD.head(10)"
   ]
  },
  {
   "cell_type": "markdown",
   "metadata": {},
   "source": [
    "SVR\n",
    "======"
   ]
  },
  {
   "cell_type": "code",
   "execution_count": null,
   "metadata": {},
   "outputs": [],
   "source": [
    "from sklearn.svm import SVR\n",
    "# svr_rbf = SVR(kernel='rbf', C=10, gamma=0.02, epsilon=.001)\n",
    "svr_rbf = SVR(kernel='rbf')"
   ]
  },
  {
   "cell_type": "code",
   "execution_count": null,
   "metadata": {},
   "outputs": [],
   "source": [
    "svr_rbf.fit(xtrain, ytrain) "
   ]
  },
  {
   "cell_type": "code",
   "execution_count": null,
   "metadata": {},
   "outputs": [],
   "source": [
    "ypred=svr_rbf.predict(xtest)"
   ]
  },
  {
   "cell_type": "code",
   "execution_count": null,
   "metadata": {},
   "outputs": [],
   "source": [
    "import math\n",
    "print('mean_squared_error',mean_squared_error(ytest, ypred))\n",
    "print('root mean_squared_error',math.sqrt(mean_squared_error(ytest, ypred)))\n",
    "print('mean_absolute_error',mean_absolute_error(ytest, ypred))\n",
    "print('r2_score',r2_score(ytest, ypred))\n",
    "\n",
    "ypredPD=pd.DataFrame()\n",
    "# ypredPD['t']=xtest['S000501_x'].values\n",
    "ypredPD['t + 1']=ytest.values.ravel()\n",
    "ypredPD['pred (t +1)']=ypred\n",
    "ypredPD.head(10)"
   ]
  },
  {
   "cell_type": "code",
   "execution_count": null,
   "metadata": {},
   "outputs": [],
   "source": []
  },
  {
   "cell_type": "code",
   "execution_count": 56,
   "metadata": {},
   "outputs": [
    {
     "data": {
      "application/javascript": [
       "\n",
       "            setTimeout(function() {\n",
       "                var nbb_cell_id = 56;\n",
       "                var nbb_formatted_code = \"from keras.layers import Layer\\nfrom keras import backend as K\\n\\n\\nclass RBFLayer(Layer):\\n    def __init__(self, units, gamma, **kwargs):\\n        super(RBFLayer, self).__init__(**kwargs)\\n        self.units = units\\n        self.gamma = K.cast_to_floatx(gamma)\\n\\n    def build(self, input_shape):\\n        self.mu = self.add_weight(\\n            name=\\\"mu\\\",\\n            shape=(int(input_shape[1]), self.units),\\n            initializer=\\\"uniform\\\",\\n            trainable=True,\\n        )\\n        super(RBFLayer, self).build(input_shape)\\n\\n    def call(self, inputs):\\n        diff = K.expand_dims(inputs) - self.mu\\n        l2 = K.sum(K.pow(diff, 2), axis=1)\\n        res = K.exp(-1 * self.gamma * l2)\\n        return res\\n\\n    def compute_output_shape(self, input_shape):\\n        return (input_shape[0], self.units)\";\n",
       "                var nbb_cells = Jupyter.notebook.get_cells();\n",
       "                for (var i = 0; i < nbb_cells.length; ++i) {\n",
       "                    if (nbb_cells[i].input_prompt_number == nbb_cell_id) {\n",
       "                        nbb_cells[i].set_text(nbb_formatted_code);\n",
       "                        break;\n",
       "                    }\n",
       "                }\n",
       "            }, 500);\n",
       "            "
      ],
      "text/plain": [
       "<IPython.core.display.Javascript object>"
      ]
     },
     "metadata": {},
     "output_type": "display_data"
    }
   ],
   "source": [
    "from keras.layers import Layer\n",
    "from keras import backend as K\n",
    "\n",
    "\n",
    "class RBFLayer(Layer):\n",
    "    def __init__(self, units, gamma, **kwargs):\n",
    "        super(RBFLayer, self).__init__(**kwargs)\n",
    "        self.units = units\n",
    "        self.gamma = K.cast_to_floatx(gamma)\n",
    "\n",
    "    def build(self, input_shape):\n",
    "        self.mu = self.add_weight(\n",
    "            name=\"mu\",\n",
    "            shape=(int(input_shape[1]), self.units),\n",
    "            initializer=\"uniform\",\n",
    "            trainable=True,\n",
    "        )\n",
    "        super(RBFLayer, self).build(input_shape)\n",
    "\n",
    "    def call(self, inputs):\n",
    "        diff = K.expand_dims(inputs) - self.mu\n",
    "        l2 = K.sum(K.pow(diff, 2), axis=1)\n",
    "        res = K.exp(-1 * self.gamma * l2)\n",
    "        return res\n",
    "\n",
    "    def compute_output_shape(self, input_shape):\n",
    "        return (input_shape[0], self.units)"
   ]
  },
  {
   "cell_type": "code",
   "execution_count": null,
   "metadata": {},
   "outputs": [],
   "source": []
  }
 ],
 "metadata": {
  "kernelspec": {
   "display_name": "Python 3",
   "language": "python",
   "name": "python3"
  },
  "language_info": {
   "codemirror_mode": {
    "name": "ipython",
    "version": 3
   },
   "file_extension": ".py",
   "mimetype": "text/x-python",
   "name": "python",
   "nbconvert_exporter": "python",
   "pygments_lexer": "ipython3",
   "version": "3.7.3"
  }
 },
 "nbformat": 4,
 "nbformat_minor": 2
}

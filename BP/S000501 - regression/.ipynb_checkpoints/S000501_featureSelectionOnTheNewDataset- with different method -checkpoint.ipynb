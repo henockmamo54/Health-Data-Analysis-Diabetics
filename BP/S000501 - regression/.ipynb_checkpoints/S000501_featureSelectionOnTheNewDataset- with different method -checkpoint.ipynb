{
 "cells": [
  {
   "cell_type": "code",
   "execution_count": 16,
   "metadata": {},
   "outputs": [
    {
     "name": "stdout",
     "output_type": "stream",
     "text": [
      "The nb_black extension is already loaded. To reload it, use:\n",
      "  %reload_ext nb_black\n"
     ]
    },
    {
     "data": {
      "application/javascript": [
       "\n",
       "            setTimeout(function() {\n",
       "                var nbb_cell_id = 16;\n",
       "                var nbb_formatted_code = \"%load_ext nb_black\\nimport numpy as np\\nimport pandas as pd\\nimport warnings\\n\\nwarnings.filterwarnings(\\\"ignore\\\")\\nfrom scipy.stats import chi2_contingency\\nfrom scipy import stats\";\n",
       "                var nbb_cells = Jupyter.notebook.get_cells();\n",
       "                for (var i = 0; i < nbb_cells.length; ++i) {\n",
       "                    if (nbb_cells[i].input_prompt_number == nbb_cell_id) {\n",
       "                        nbb_cells[i].set_text(nbb_formatted_code);\n",
       "                        break;\n",
       "                    }\n",
       "                }\n",
       "            }, 500);\n",
       "            "
      ],
      "text/plain": [
       "<IPython.core.display.Javascript object>"
      ]
     },
     "metadata": {},
     "output_type": "display_data"
    }
   ],
   "source": [
    "%load_ext nb_black\n",
    "import numpy as np\n",
    "import pandas as pd\n",
    "import warnings\n",
    "\n",
    "warnings.filterwarnings(\"ignore\")\n",
    "from scipy.stats import chi2_contingency\n",
    "from scipy import stats"
   ]
  },
  {
   "cell_type": "code",
   "execution_count": 17,
   "metadata": {},
   "outputs": [
    {
     "data": {
      "application/javascript": [
       "\n",
       "            setTimeout(function() {\n",
       "                var nbb_cell_id = 17;\n",
       "                var nbb_formatted_code = \"# x=pd.read_csv('../_xlable4_withNa_AllColumns.txt')\\n# y=pd.read_csv('../_targelable4_withNa_AllColumns.txt')\\n\\n# y=y[['Unnamed: 0','S000501', ]]\";\n",
       "                var nbb_cells = Jupyter.notebook.get_cells();\n",
       "                for (var i = 0; i < nbb_cells.length; ++i) {\n",
       "                    if (nbb_cells[i].input_prompt_number == nbb_cell_id) {\n",
       "                        nbb_cells[i].set_text(nbb_formatted_code);\n",
       "                        break;\n",
       "                    }\n",
       "                }\n",
       "            }, 500);\n",
       "            "
      ],
      "text/plain": [
       "<IPython.core.display.Javascript object>"
      ]
     },
     "metadata": {},
     "output_type": "display_data"
    }
   ],
   "source": [
    "# x=pd.read_csv('../_xlable4_withNa_AllColumns.txt')\n",
    "# y=pd.read_csv('../_targelable4_withNa_AllColumns.txt')\n",
    "\n",
    "# y=y[['Unnamed: 0','S000501', ]]"
   ]
  },
  {
   "cell_type": "code",
   "execution_count": 25,
   "metadata": {},
   "outputs": [
    {
     "data": {
      "application/javascript": [
       "\n",
       "            setTimeout(function() {\n",
       "                var nbb_cell_id = 25;\n",
       "                var nbb_formatted_code = \"# data= pd.merge(x,y, how='inner',left_on='Unnamed: 0', right_on='Unnamed: 0')\\ndata = pd.read_csv(\\\"../../sep19SexAndAgeAddedFINAL DATASET_ver2.txt\\\", sep=\\\",\\\")\\ndata[\\\"max\\\"] = np.min(data[[\\\"FIELD_6\\\", \\\"FIELD_7\\\"]], axis=1)\\ndata = data.drop(columns=[\\\"FIELD_6\\\", \\\"FIELD_7\\\"])\";\n",
       "                var nbb_cells = Jupyter.notebook.get_cells();\n",
       "                for (var i = 0; i < nbb_cells.length; ++i) {\n",
       "                    if (nbb_cells[i].input_prompt_number == nbb_cell_id) {\n",
       "                        nbb_cells[i].set_text(nbb_formatted_code);\n",
       "                        break;\n",
       "                    }\n",
       "                }\n",
       "            }, 500);\n",
       "            "
      ],
      "text/plain": [
       "<IPython.core.display.Javascript object>"
      ]
     },
     "metadata": {},
     "output_type": "display_data"
    }
   ],
   "source": [
    "# data= pd.merge(x,y, how='inner',left_on='Unnamed: 0', right_on='Unnamed: 0')\n",
    "data = pd.read_csv(\"../../sep19SexAndAgeAddedFINAL DATASET_ver2.txt\", sep=\",\")\n",
    "data[\"max\"] = np.min(data[[\"FIELD_6\", \"FIELD_7\"]], axis=1)\n",
    "data = data.drop(columns=[\"FIELD_6\", \"FIELD_7\"])"
   ]
  },
  {
   "cell_type": "code",
   "execution_count": 26,
   "metadata": {},
   "outputs": [
    {
     "data": {
      "application/javascript": [
       "\n",
       "            setTimeout(function() {\n",
       "                var nbb_cell_id = 26;\n",
       "                var nbb_formatted_code = \"# change field 38 to 3 group\\ncondtion = [\\n    data.FIELD_38 == 0,\\n    (data.FIELD_38 > 0) & (data.FIELD_38 < 4),\\n    data.FIELD_38 >= 4,\\n]\\nchoice = [0, 1, 2]\\ndata[\\\"FIELD_38_C\\\"] = np.select(condtion, choice, default=np.nan)\";\n",
       "                var nbb_cells = Jupyter.notebook.get_cells();\n",
       "                for (var i = 0; i < nbb_cells.length; ++i) {\n",
       "                    if (nbb_cells[i].input_prompt_number == nbb_cell_id) {\n",
       "                        nbb_cells[i].set_text(nbb_formatted_code);\n",
       "                        break;\n",
       "                    }\n",
       "                }\n",
       "            }, 500);\n",
       "            "
      ],
      "text/plain": [
       "<IPython.core.display.Javascript object>"
      ]
     },
     "metadata": {},
     "output_type": "display_data"
    }
   ],
   "source": [
    "# change field 38 to 3 group\n",
    "condtion = [\n",
    "    data.FIELD_38 == 0,\n",
    "    (data.FIELD_38 > 0) & (data.FIELD_38 < 4),\n",
    "    data.FIELD_38 >= 4,\n",
    "]\n",
    "choice = [0, 1, 2]\n",
    "data[\"FIELD_38_C\"] = np.select(condtion, choice, default=np.nan)"
   ]
  },
  {
   "cell_type": "code",
   "execution_count": 27,
   "metadata": {},
   "outputs": [
    {
     "data": {
      "application/javascript": [
       "\n",
       "            setTimeout(function() {\n",
       "                var nbb_cell_id = 27;\n",
       "                var nbb_formatted_code = \"# add Class to the dataset\\n_class = []\\nfor i in range(data.shape[0]):\\n    if (data.S000501[i] >= 140) | (data.S000502[i] >= 90):\\n        _class.append(2)\\n    elif (data.S000501[i] < 120) & (data.S000502[i] < 80):\\n        _class.append(0)\\n    else:\\n        _class.append(1)\\ndata[\\\"CLASS\\\"] = _class\";\n",
       "                var nbb_cells = Jupyter.notebook.get_cells();\n",
       "                for (var i = 0; i < nbb_cells.length; ++i) {\n",
       "                    if (nbb_cells[i].input_prompt_number == nbb_cell_id) {\n",
       "                        nbb_cells[i].set_text(nbb_formatted_code);\n",
       "                        break;\n",
       "                    }\n",
       "                }\n",
       "            }, 500);\n",
       "            "
      ],
      "text/plain": [
       "<IPython.core.display.Javascript object>"
      ]
     },
     "metadata": {},
     "output_type": "display_data"
    }
   ],
   "source": [
    "# add Class to the dataset\n",
    "_class = []\n",
    "for i in range(data.shape[0]):\n",
    "    if (data.S000501[i] >= 140) | (data.S000502[i] >= 90):\n",
    "        _class.append(2)\n",
    "    elif (data.S000501[i] < 120) & (data.S000502[i] < 80):\n",
    "        _class.append(0)\n",
    "    else:\n",
    "        _class.append(1)\n",
    "data[\"CLASS\"] = _class"
   ]
  },
  {
   "cell_type": "code",
   "execution_count": 28,
   "metadata": {},
   "outputs": [
    {
     "name": "stdout",
     "output_type": "stream",
     "text": [
      "(466680, 407)\n"
     ]
    },
    {
     "data": {
      "application/javascript": [
       "\n",
       "            setTimeout(function() {\n",
       "                var nbb_cell_id = 28;\n",
       "                var nbb_formatted_code = \"# filter the data set\\ndata = data[data.FIELD_16 != 1]  # exclude people who are diagnosed for (diabetes)\\ndata = data[data.FIELD_23 != 1]  # exclude people who are on medication for diabetes\\n\\ndata = data[\\n    data.FIELD_15 != 1\\n]  # exclude people who are diagnosed for (high blood pressure)\\ndata = data[\\n    data.FIELD_22 != 1\\n]  # exclude people who are on medication for high blood pressure\\n\\ndata = data[data.FIELD_17 != 1]  # exclude people who are diagnosed for hyperlipidemia\\ndata = data[\\n    data.FIELD_24 != 1\\n]  # exclude people who are on medication for hyperlipidemia\\nprint(data.shape)\";\n",
       "                var nbb_cells = Jupyter.notebook.get_cells();\n",
       "                for (var i = 0; i < nbb_cells.length; ++i) {\n",
       "                    if (nbb_cells[i].input_prompt_number == nbb_cell_id) {\n",
       "                        nbb_cells[i].set_text(nbb_formatted_code);\n",
       "                        break;\n",
       "                    }\n",
       "                }\n",
       "            }, 500);\n",
       "            "
      ],
      "text/plain": [
       "<IPython.core.display.Javascript object>"
      ]
     },
     "metadata": {},
     "output_type": "display_data"
    }
   ],
   "source": [
    "# filter the data set\n",
    "data = data[data.FIELD_16 != 1]  # exclude people who are diagnosed for (diabetes)\n",
    "data = data[data.FIELD_23 != 1]  # exclude people who are on medication for diabetes\n",
    "\n",
    "data = data[\n",
    "    data.FIELD_15 != 1\n",
    "]  # exclude people who are diagnosed for (high blood pressure)\n",
    "data = data[\n",
    "    data.FIELD_22 != 1\n",
    "]  # exclude people who are on medication for high blood pressure\n",
    "\n",
    "data = data[data.FIELD_17 != 1]  # exclude people who are diagnosed for hyperlipidemia\n",
    "data = data[\n",
    "    data.FIELD_24 != 1\n",
    "]  # exclude people who are on medication for hyperlipidemia\n",
    "print(data.shape)"
   ]
  },
  {
   "cell_type": "code",
   "execution_count": 29,
   "metadata": {},
   "outputs": [
    {
     "data": {
      "application/javascript": [
       "\n",
       "            setTimeout(function() {\n",
       "                var nbb_cell_id = 29;\n",
       "                var nbb_formatted_code = \"# split column types to categorical and numerical\\nnumerical_cols = list(data.columns[~data.columns.str.startswith(\\\"FIELD\\\")])\\ncategorical_cols = list(data.columns[data.columns.str.startswith(\\\"FIELD\\\")])\\ncategorical_cols.append(\\\"CLASS\\\")\\nnumerical_cols.remove(\\\"SEX\\\")\\ncategorical_cols.append(\\\"SEX\\\")\";\n",
       "                var nbb_cells = Jupyter.notebook.get_cells();\n",
       "                for (var i = 0; i < nbb_cells.length; ++i) {\n",
       "                    if (nbb_cells[i].input_prompt_number == nbb_cell_id) {\n",
       "                        nbb_cells[i].set_text(nbb_formatted_code);\n",
       "                        break;\n",
       "                    }\n",
       "                }\n",
       "            }, 500);\n",
       "            "
      ],
      "text/plain": [
       "<IPython.core.display.Javascript object>"
      ]
     },
     "metadata": {},
     "output_type": "display_data"
    }
   ],
   "source": [
    "# split column types to categorical and numerical\n",
    "numerical_cols = list(data.columns[~data.columns.str.startswith(\"FIELD\")])\n",
    "categorical_cols = list(data.columns[data.columns.str.startswith(\"FIELD\")])\n",
    "categorical_cols.append(\"CLASS\")\n",
    "numerical_cols.remove(\"SEX\")\n",
    "categorical_cols.append(\"SEX\")"
   ]
  },
  {
   "cell_type": "markdown",
   "metadata": {},
   "source": [
    "Calculate correlation Value - for numerical values\n",
    "========"
   ]
  },
  {
   "cell_type": "code",
   "execution_count": 31,
   "metadata": {},
   "outputs": [
    {
     "data": {
      "text/html": [
       "<div>\n",
       "<style scoped>\n",
       "    .dataframe tbody tr th:only-of-type {\n",
       "        vertical-align: middle;\n",
       "    }\n",
       "\n",
       "    .dataframe tbody tr th {\n",
       "        vertical-align: top;\n",
       "    }\n",
       "\n",
       "    .dataframe thead th {\n",
       "        text-align: right;\n",
       "    }\n",
       "</style>\n",
       "<table border=\"1\" class=\"dataframe\">\n",
       "  <thead>\n",
       "    <tr style=\"text-align: right;\">\n",
       "      <th></th>\n",
       "      <th>Col</th>\n",
       "      <th>val</th>\n",
       "    </tr>\n",
       "  </thead>\n",
       "  <tbody>\n",
       "    <tr>\n",
       "      <th>63</th>\n",
       "      <td>L120600</td>\n",
       "      <td>1.0</td>\n",
       "    </tr>\n",
       "    <tr>\n",
       "      <th>178</th>\n",
       "      <td>L518900</td>\n",
       "      <td>1.0</td>\n",
       "    </tr>\n",
       "    <tr>\n",
       "      <th>59</th>\n",
       "      <td>L117700</td>\n",
       "      <td>1.0</td>\n",
       "    </tr>\n",
       "    <tr>\n",
       "      <th>148</th>\n",
       "      <td>L501600</td>\n",
       "      <td>1.0</td>\n",
       "    </tr>\n",
       "    <tr>\n",
       "      <th>213</th>\n",
       "      <td>S000501</td>\n",
       "      <td>1.0</td>\n",
       "    </tr>\n",
       "  </tbody>\n",
       "</table>\n",
       "</div>"
      ],
      "text/plain": [
       "         Col  val\n",
       "63   L120600  1.0\n",
       "178  L518900  1.0\n",
       "59   L117700  1.0\n",
       "148  L501600  1.0\n",
       "213  S000501  1.0"
      ]
     },
     "execution_count": 31,
     "metadata": {},
     "output_type": "execute_result"
    },
    {
     "data": {
      "application/javascript": [
       "\n",
       "            setTimeout(function() {\n",
       "                var nbb_cell_id = 31;\n",
       "                var nbb_formatted_code = \"corr = data[numerical_cols].corr()\\ncorr = corr.S000501\\ncorrvalPD = pd.DataFrame()\\ncorrvalPD[\\\"Col\\\"] = corr.index\\ncorrvalPD[\\\"val\\\"] = abs(corr.values)\\n\\ncorrvalPD = corrvalPD.sort_values(by=\\\"val\\\", ascending=False)\\ncorrvalPD.head()\";\n",
       "                var nbb_cells = Jupyter.notebook.get_cells();\n",
       "                for (var i = 0; i < nbb_cells.length; ++i) {\n",
       "                    if (nbb_cells[i].input_prompt_number == nbb_cell_id) {\n",
       "                        nbb_cells[i].set_text(nbb_formatted_code);\n",
       "                        break;\n",
       "                    }\n",
       "                }\n",
       "            }, 500);\n",
       "            "
      ],
      "text/plain": [
       "<IPython.core.display.Javascript object>"
      ]
     },
     "metadata": {},
     "output_type": "display_data"
    }
   ],
   "source": [
    "corr = data[numerical_cols].corr()\n",
    "corr = corr.S000501\n",
    "corrvalPD = pd.DataFrame()\n",
    "corrvalPD[\"Col\"] = corr.index\n",
    "corrvalPD[\"val\"] = abs(corr.values)\n",
    "\n",
    "corrvalPD = corrvalPD.sort_values(by=\"val\", ascending=False)\n",
    "corrvalPD.head()"
   ]
  },
  {
   "cell_type": "code",
   "execution_count": 32,
   "metadata": {},
   "outputs": [
    {
     "data": {
      "text/html": [
       "<div>\n",
       "<style scoped>\n",
       "    .dataframe tbody tr th:only-of-type {\n",
       "        vertical-align: middle;\n",
       "    }\n",
       "\n",
       "    .dataframe tbody tr th {\n",
       "        vertical-align: top;\n",
       "    }\n",
       "\n",
       "    .dataframe thead th {\n",
       "        text-align: right;\n",
       "    }\n",
       "</style>\n",
       "<table border=\"1\" class=\"dataframe\">\n",
       "  <thead>\n",
       "    <tr style=\"text-align: right;\">\n",
       "      <th></th>\n",
       "      <th>Col</th>\n",
       "      <th>Count</th>\n",
       "    </tr>\n",
       "  </thead>\n",
       "  <tbody>\n",
       "    <tr>\n",
       "      <th>0</th>\n",
       "      <td>Unnamed: 0</td>\n",
       "      <td>466680</td>\n",
       "    </tr>\n",
       "    <tr>\n",
       "      <th>1</th>\n",
       "      <td>COMPARE</td>\n",
       "      <td>466680</td>\n",
       "    </tr>\n",
       "    <tr>\n",
       "      <th>2</th>\n",
       "      <td>AGE</td>\n",
       "      <td>466679</td>\n",
       "    </tr>\n",
       "    <tr>\n",
       "      <th>3</th>\n",
       "      <td>B_DAY</td>\n",
       "      <td>466679</td>\n",
       "    </tr>\n",
       "    <tr>\n",
       "      <th>4</th>\n",
       "      <td>L100100</td>\n",
       "      <td>446887</td>\n",
       "    </tr>\n",
       "  </tbody>\n",
       "</table>\n",
       "</div>"
      ],
      "text/plain": [
       "          Col   Count\n",
       "0  Unnamed: 0  466680\n",
       "1     COMPARE  466680\n",
       "2         AGE  466679\n",
       "3       B_DAY  466679\n",
       "4     L100100  446887"
      ]
     },
     "execution_count": 32,
     "metadata": {},
     "output_type": "execute_result"
    },
    {
     "data": {
      "application/javascript": [
       "\n",
       "            setTimeout(function() {\n",
       "                var nbb_cell_id = 32;\n",
       "                var nbb_formatted_code = \"# count of none NA values of feature set\\nmydataset = data.copy()[numerical_cols]\\ncolCount = []\\nfor i in mydataset.columns:\\n    colCount.append([i, mydataset[i].dropna().shape[0]])\\n\\ncolCountPD = pd.DataFrame(colCount, columns=[\\\"Col\\\", \\\"Count\\\"])\\ncolCountPD.head()\";\n",
       "                var nbb_cells = Jupyter.notebook.get_cells();\n",
       "                for (var i = 0; i < nbb_cells.length; ++i) {\n",
       "                    if (nbb_cells[i].input_prompt_number == nbb_cell_id) {\n",
       "                        nbb_cells[i].set_text(nbb_formatted_code);\n",
       "                        break;\n",
       "                    }\n",
       "                }\n",
       "            }, 500);\n",
       "            "
      ],
      "text/plain": [
       "<IPython.core.display.Javascript object>"
      ]
     },
     "metadata": {},
     "output_type": "display_data"
    }
   ],
   "source": [
    "# count of none NA values of feature set\n",
    "mydataset = data.copy()[numerical_cols]\n",
    "colCount = []\n",
    "for i in mydataset.columns:\n",
    "    colCount.append([i, mydataset[i].dropna().shape[0]])\n",
    "\n",
    "colCountPD = pd.DataFrame(colCount, columns=[\"Col\", \"Count\"])\n",
    "colCountPD.head()"
   ]
  },
  {
   "cell_type": "code",
   "execution_count": 33,
   "metadata": {},
   "outputs": [
    {
     "data": {
      "text/html": [
       "<div>\n",
       "<style scoped>\n",
       "    .dataframe tbody tr th:only-of-type {\n",
       "        vertical-align: middle;\n",
       "    }\n",
       "\n",
       "    .dataframe tbody tr th {\n",
       "        vertical-align: top;\n",
       "    }\n",
       "\n",
       "    .dataframe thead th {\n",
       "        text-align: right;\n",
       "    }\n",
       "</style>\n",
       "<table border=\"1\" class=\"dataframe\">\n",
       "  <thead>\n",
       "    <tr style=\"text-align: right;\">\n",
       "      <th></th>\n",
       "      <th>Col</th>\n",
       "      <th>val</th>\n",
       "      <th>Count</th>\n",
       "    </tr>\n",
       "  </thead>\n",
       "  <tbody>\n",
       "    <tr>\n",
       "      <th>4</th>\n",
       "      <td>S000501</td>\n",
       "      <td>1.000000</td>\n",
       "      <td>466410</td>\n",
       "    </tr>\n",
       "    <tr>\n",
       "      <th>10</th>\n",
       "      <td>CLASS</td>\n",
       "      <td>0.827811</td>\n",
       "      <td>466680</td>\n",
       "    </tr>\n",
       "    <tr>\n",
       "      <th>13</th>\n",
       "      <td>S000502</td>\n",
       "      <td>0.772022</td>\n",
       "      <td>466410</td>\n",
       "    </tr>\n",
       "    <tr>\n",
       "      <th>21</th>\n",
       "      <td>S000300</td>\n",
       "      <td>0.432773</td>\n",
       "      <td>465393</td>\n",
       "    </tr>\n",
       "    <tr>\n",
       "      <th>26</th>\n",
       "      <td>L190300</td>\n",
       "      <td>0.354765</td>\n",
       "      <td>465316</td>\n",
       "    </tr>\n",
       "    <tr>\n",
       "      <th>28</th>\n",
       "      <td>L190400</td>\n",
       "      <td>0.354575</td>\n",
       "      <td>466197</td>\n",
       "    </tr>\n",
       "    <tr>\n",
       "      <th>29</th>\n",
       "      <td>L190500</td>\n",
       "      <td>0.348331</td>\n",
       "      <td>465172</td>\n",
       "    </tr>\n",
       "    <tr>\n",
       "      <th>34</th>\n",
       "      <td>L100700</td>\n",
       "      <td>0.324801</td>\n",
       "      <td>447592</td>\n",
       "    </tr>\n",
       "    <tr>\n",
       "      <th>40</th>\n",
       "      <td>L103300</td>\n",
       "      <td>0.288110</td>\n",
       "      <td>397549</td>\n",
       "    </tr>\n",
       "    <tr>\n",
       "      <th>44</th>\n",
       "      <td>L103000</td>\n",
       "      <td>0.275932</td>\n",
       "      <td>465103</td>\n",
       "    </tr>\n",
       "    <tr>\n",
       "      <th>45</th>\n",
       "      <td>L100800</td>\n",
       "      <td>0.271919</td>\n",
       "      <td>466134</td>\n",
       "    </tr>\n",
       "    <tr>\n",
       "      <th>46</th>\n",
       "      <td>L100500</td>\n",
       "      <td>0.258199</td>\n",
       "      <td>465605</td>\n",
       "    </tr>\n",
       "    <tr>\n",
       "      <th>47</th>\n",
       "      <td>S000100</td>\n",
       "      <td>0.254837</td>\n",
       "      <td>466344</td>\n",
       "    </tr>\n",
       "    <tr>\n",
       "      <th>48</th>\n",
       "      <td>L101700</td>\n",
       "      <td>0.248465</td>\n",
       "      <td>465651</td>\n",
       "    </tr>\n",
       "    <tr>\n",
       "      <th>51</th>\n",
       "      <td>max</td>\n",
       "      <td>0.238957</td>\n",
       "      <td>204407</td>\n",
       "    </tr>\n",
       "    <tr>\n",
       "      <th>55</th>\n",
       "      <td>L101300</td>\n",
       "      <td>0.227734</td>\n",
       "      <td>466235</td>\n",
       "    </tr>\n",
       "    <tr>\n",
       "      <th>57</th>\n",
       "      <td>L101600</td>\n",
       "      <td>0.215892</td>\n",
       "      <td>452094</td>\n",
       "    </tr>\n",
       "    <tr>\n",
       "      <th>59</th>\n",
       "      <td>L103100</td>\n",
       "      <td>0.202877</td>\n",
       "      <td>464378</td>\n",
       "    </tr>\n",
       "    <tr>\n",
       "      <th>61</th>\n",
       "      <td>S010101</td>\n",
       "      <td>0.196675</td>\n",
       "      <td>399544</td>\n",
       "    </tr>\n",
       "    <tr>\n",
       "      <th>62</th>\n",
       "      <td>S010102</td>\n",
       "      <td>0.195331</td>\n",
       "      <td>399562</td>\n",
       "    </tr>\n",
       "  </tbody>\n",
       "</table>\n",
       "</div>"
      ],
      "text/plain": [
       "        Col       val   Count\n",
       "4   S000501  1.000000  466410\n",
       "10    CLASS  0.827811  466680\n",
       "13  S000502  0.772022  466410\n",
       "21  S000300  0.432773  465393\n",
       "26  L190300  0.354765  465316\n",
       "28  L190400  0.354575  466197\n",
       "29  L190500  0.348331  465172\n",
       "34  L100700  0.324801  447592\n",
       "40  L103300  0.288110  397549\n",
       "44  L103000  0.275932  465103\n",
       "45  L100800  0.271919  466134\n",
       "46  L100500  0.258199  465605\n",
       "47  S000100  0.254837  466344\n",
       "48  L101700  0.248465  465651\n",
       "51      max  0.238957  204407\n",
       "55  L101300  0.227734  466235\n",
       "57  L101600  0.215892  452094\n",
       "59  L103100  0.202877  464378\n",
       "61  S010101  0.196675  399544\n",
       "62  S010102  0.195331  399562"
      ]
     },
     "execution_count": 33,
     "metadata": {},
     "output_type": "execute_result"
    },
    {
     "data": {
      "application/javascript": [
       "\n",
       "            setTimeout(function() {\n",
       "                var nbb_cell_id = 33;\n",
       "                var nbb_formatted_code = \"mergedColCorrCount = pd.merge(\\n    corrvalPD, colCountPD, how=\\\"inner\\\", left_on=\\\"Col\\\", right_on=\\\"Col\\\"\\n)\\nmergedColCorrCount = mergedColCorrCount[mergedColCorrCount.Count > 50000]\\nmergedColCorrCount = mergedColCorrCount.sort_values(by=\\\"val\\\", ascending=False)\\nmergedColCorrCount.head(20)\";\n",
       "                var nbb_cells = Jupyter.notebook.get_cells();\n",
       "                for (var i = 0; i < nbb_cells.length; ++i) {\n",
       "                    if (nbb_cells[i].input_prompt_number == nbb_cell_id) {\n",
       "                        nbb_cells[i].set_text(nbb_formatted_code);\n",
       "                        break;\n",
       "                    }\n",
       "                }\n",
       "            }, 500);\n",
       "            "
      ],
      "text/plain": [
       "<IPython.core.display.Javascript object>"
      ]
     },
     "metadata": {},
     "output_type": "display_data"
    }
   ],
   "source": [
    "mergedColCorrCount = pd.merge(\n",
    "    corrvalPD, colCountPD, how=\"inner\", left_on=\"Col\", right_on=\"Col\"\n",
    ")\n",
    "mergedColCorrCount = mergedColCorrCount[mergedColCorrCount.Count > 50000]\n",
    "mergedColCorrCount = mergedColCorrCount.sort_values(by=\"val\", ascending=False)\n",
    "mergedColCorrCount.head(20)"
   ]
  },
  {
   "cell_type": "code",
   "execution_count": 40,
   "metadata": {},
   "outputs": [
    {
     "name": "stdout",
     "output_type": "stream",
     "text": [
      "['S000501', 'CLASS', 'S000502', 'S000300', 'L190300', 'L190400', 'L190500', 'L100700', 'L103300', 'L103000', 'L100800', 'L100500', 'S000100', 'L101700', 'max', 'L101300', 'L101600', 'L103100', 'S010101', 'S010102']\n"
     ]
    },
    {
     "data": {
      "application/javascript": [
       "\n",
       "            setTimeout(function() {\n",
       "                var nbb_cell_id = 40;\n",
       "                var nbb_formatted_code = \"print(list(mergedColCorrCount.head(20).Col))\";\n",
       "                var nbb_cells = Jupyter.notebook.get_cells();\n",
       "                for (var i = 0; i < nbb_cells.length; ++i) {\n",
       "                    if (nbb_cells[i].input_prompt_number == nbb_cell_id) {\n",
       "                        nbb_cells[i].set_text(nbb_formatted_code);\n",
       "                        break;\n",
       "                    }\n",
       "                }\n",
       "            }, 500);\n",
       "            "
      ],
      "text/plain": [
       "<IPython.core.display.Javascript object>"
      ]
     },
     "metadata": {},
     "output_type": "display_data"
    }
   ],
   "source": [
    "print(list(mergedColCorrCount.head(20).Col))"
   ]
  },
  {
   "cell_type": "markdown",
   "metadata": {},
   "source": [
    "Anova test - For categorical values [Questionnaire answers]\n",
    "======="
   ]
  },
  {
   "cell_type": "code",
   "execution_count": 35,
   "metadata": {},
   "outputs": [
    {
     "data": {
      "application/javascript": [
       "\n",
       "            setTimeout(function() {\n",
       "                var nbb_cell_id = 35;\n",
       "                var nbb_formatted_code = \"mydataset = data.copy()[categorical_cols]  # [np.insert(categorical_cols,0,'L100800')]\\n\\n# mydataset=mydataset.drop(columns=['FIELD_1','FIELD_2','FIELD_8','FIELD_10','FIELD_11','FIELD_12','FIELD_39','FIELD_88',\\n#                            'FIELD_89','FIELD_109','FIELD_110','FIELD_111','FIELD_70','FIELD_82','FIELD_85','FIELD_91',\\n#                            'FIELD_103','FIELD_106'])\\n\\n# mydataset=mydataset.drop(columns=['FIELD_1','FIELD_2','FIELD_87','FIELD_8','FIELD_10','FIELD_11','FIELD_12','FIELD_39',\\n#                                   'FIELD_88','FIELD_89', 'FIELD_108','FIELD_109','FIELD_110','FIELD_111','FIELD_82',\\n#                                  'FIELD_91','FIELD_103','FIELD_118','FIELD_119','FIELD_120','FIELD_121','FIELD_122',\\n#                                  'FIELD_123','FIELD_124','FIELD_125','FIELD_126','FIELD_127','FIELD_128','FIELD_129',\\n#                                  'FIELD_130','FIELD_131','FIELD_132','FIELD_133','FIELD_134','FIELD_135','FIELD_136',\\n#                                   'FIELD_137','FIELD_138','FIELD_139','FIELD_140'])\\n\\n\\nmydataset = mydataset.drop(\\n    columns=[\\n        \\\"FIELD_1\\\",\\n        \\\"FIELD_2\\\",\\n        \\\"FIELD_87\\\",\\n        \\\"FIELD_8\\\",\\n        \\\"FIELD_10\\\",\\n        \\\"FIELD_11\\\",\\n        \\\"FIELD_12\\\",\\n        \\\"FIELD_39\\\",\\n        \\\"FIELD_88\\\",\\n        \\\"FIELD_89\\\",\\n        \\\"FIELD_108\\\",\\n        \\\"FIELD_109\\\",\\n        \\\"FIELD_110\\\",\\n        \\\"FIELD_111\\\",\\n        \\\"FIELD_82\\\",\\n        \\\"FIELD_91\\\",\\n        \\\"FIELD_103\\\",\\n        \\\"FIELD_118\\\",\\n        \\\"FIELD_119\\\",\\n        \\\"FIELD_120\\\",\\n        \\\"FIELD_121\\\",\\n        \\\"FIELD_122\\\",\\n        \\\"FIELD_123\\\",\\n        \\\"FIELD_124\\\",\\n        \\\"FIELD_125\\\",\\n        \\\"FIELD_126\\\",\\n        \\\"FIELD_127\\\",\\n        \\\"FIELD_128\\\",\\n        \\\"FIELD_129\\\",\\n        \\\"FIELD_130\\\",\\n        \\\"FIELD_131\\\",\\n        \\\"FIELD_132\\\",\\n        \\\"FIELD_133\\\",\\n        \\\"FIELD_134\\\",\\n        \\\"FIELD_135\\\",\\n        \\\"FIELD_136\\\",\\n        \\\"FIELD_137\\\",\\n        \\\"FIELD_138\\\",\\n        \\\"FIELD_139\\\",\\n        \\\"FIELD_140\\\",\\n        \\\"FIELD_64\\\",\\n        \\\"FIELD_65\\\",\\n        \\\"FIELD_66\\\",\\n        \\\"FIELD_67\\\",\\n        \\\"FIELD_68\\\",\\n        \\\"FIELD_69\\\",\\n        \\\"FIELD_70\\\",\\n        \\\"FIELD_72\\\",\\n        \\\"FIELD_73\\\",\\n        \\\"FIELD_74\\\",\\n        \\\"FIELD_75\\\",\\n        \\\"FIELD_76\\\",\\n        \\\"FIELD_77\\\",\\n        \\\"FIELD_80\\\",\\n        \\\"FIELD_81\\\",\\n        \\\"FIELD_84\\\",\\n        \\\"FIELD_85\\\",\\n        \\\"FIELD_90\\\",\\n        \\\"FIELD_93\\\",\\n        \\\"FIELD_94\\\",\\n        \\\"FIELD_95\\\",\\n        \\\"FIELD_96\\\",\\n        \\\"FIELD_97\\\",\\n        \\\"FIELD_98\\\",\\n        \\\"FIELD_101\\\",\\n        \\\"FIELD_102\\\",\\n        \\\"FIELD_105\\\",\\n        \\\"FIELD_106\\\",\\n        \\\"FIELD_112\\\",\\n        \\\"FIELD_113\\\",\\n        \\\"FIELD_114\\\",\\n        \\\"FIELD_115\\\",\\n        \\\"FIELD_116\\\",\\n        \\\"FIELD_117\\\",\\n        \\\"FIELD_118\\\",\\n        \\\"FIELD_119\\\",\\n        \\\"FIELD_9\\\",\\n    ]\\n)\\n\\n\\nmydataset = mydataset.drop(mydataset[mydataset.FIELD_3 == \\\"`\\\"].index)\\nmydataset = mydataset.drop(mydataset[mydataset.FIELD_3 == \\\"G\\\"].index)\\n\\n\\nmydataset = mydataset.drop(mydataset[mydataset.FIELD_4 == \\\".\\\"].index)\\nmydataset = mydataset.drop(mydataset[mydataset.FIELD_5 == \\\".\\\"].index)\\n\\nmydataset = mydataset.drop(mydataset[mydataset.FIELD_35 == \\\"?\\\"].index)\\nmydataset = mydataset.drop(mydataset[mydataset.FIELD_35 == \\\".\\\"].index)\\nmydataset = mydataset.drop(mydataset[mydataset.FIELD_36 == \\\".\\\"].index)\\nmydataset = mydataset.drop(mydataset[mydataset.FIELD_37 == \\\"\\\\\\\\\\\"].index)\\n\\n# mydataset=mydataset.drop(mydataset[mydataset.FIELD_39 == '7+' ].index)\\n# mydataset=mydataset.drop(mydataset[mydataset.FIELD_39 == '5~7'].index)\\n# mydataset=mydataset.drop(mydataset[mydataset.FIELD_39 == '3-4'].index)\\n\\n\\n# mydataset=mydataset.drop(mydataset[mydataset.FIELD_95=='.'].index)\";\n",
       "                var nbb_cells = Jupyter.notebook.get_cells();\n",
       "                for (var i = 0; i < nbb_cells.length; ++i) {\n",
       "                    if (nbb_cells[i].input_prompt_number == nbb_cell_id) {\n",
       "                        nbb_cells[i].set_text(nbb_formatted_code);\n",
       "                        break;\n",
       "                    }\n",
       "                }\n",
       "            }, 500);\n",
       "            "
      ],
      "text/plain": [
       "<IPython.core.display.Javascript object>"
      ]
     },
     "metadata": {},
     "output_type": "display_data"
    }
   ],
   "source": [
    "mydataset = data.copy()[categorical_cols]  # [np.insert(categorical_cols,0,'L100800')]\n",
    "\n",
    "# mydataset=mydataset.drop(columns=['FIELD_1','FIELD_2','FIELD_8','FIELD_10','FIELD_11','FIELD_12','FIELD_39','FIELD_88',\n",
    "#                            'FIELD_89','FIELD_109','FIELD_110','FIELD_111','FIELD_70','FIELD_82','FIELD_85','FIELD_91',\n",
    "#                            'FIELD_103','FIELD_106'])\n",
    "\n",
    "# mydataset=mydataset.drop(columns=['FIELD_1','FIELD_2','FIELD_87','FIELD_8','FIELD_10','FIELD_11','FIELD_12','FIELD_39',\n",
    "#                                   'FIELD_88','FIELD_89', 'FIELD_108','FIELD_109','FIELD_110','FIELD_111','FIELD_82',\n",
    "#                                  'FIELD_91','FIELD_103','FIELD_118','FIELD_119','FIELD_120','FIELD_121','FIELD_122',\n",
    "#                                  'FIELD_123','FIELD_124','FIELD_125','FIELD_126','FIELD_127','FIELD_128','FIELD_129',\n",
    "#                                  'FIELD_130','FIELD_131','FIELD_132','FIELD_133','FIELD_134','FIELD_135','FIELD_136',\n",
    "#                                   'FIELD_137','FIELD_138','FIELD_139','FIELD_140'])\n",
    "\n",
    "\n",
    "mydataset = mydataset.drop(\n",
    "    columns=[\n",
    "        \"FIELD_1\",\n",
    "        \"FIELD_2\",\n",
    "        \"FIELD_87\",\n",
    "        \"FIELD_8\",\n",
    "        \"FIELD_10\",\n",
    "        \"FIELD_11\",\n",
    "        \"FIELD_12\",\n",
    "        \"FIELD_39\",\n",
    "        \"FIELD_88\",\n",
    "        \"FIELD_89\",\n",
    "        \"FIELD_108\",\n",
    "        \"FIELD_109\",\n",
    "        \"FIELD_110\",\n",
    "        \"FIELD_111\",\n",
    "        \"FIELD_82\",\n",
    "        \"FIELD_91\",\n",
    "        \"FIELD_103\",\n",
    "        \"FIELD_118\",\n",
    "        \"FIELD_119\",\n",
    "        \"FIELD_120\",\n",
    "        \"FIELD_121\",\n",
    "        \"FIELD_122\",\n",
    "        \"FIELD_123\",\n",
    "        \"FIELD_124\",\n",
    "        \"FIELD_125\",\n",
    "        \"FIELD_126\",\n",
    "        \"FIELD_127\",\n",
    "        \"FIELD_128\",\n",
    "        \"FIELD_129\",\n",
    "        \"FIELD_130\",\n",
    "        \"FIELD_131\",\n",
    "        \"FIELD_132\",\n",
    "        \"FIELD_133\",\n",
    "        \"FIELD_134\",\n",
    "        \"FIELD_135\",\n",
    "        \"FIELD_136\",\n",
    "        \"FIELD_137\",\n",
    "        \"FIELD_138\",\n",
    "        \"FIELD_139\",\n",
    "        \"FIELD_140\",\n",
    "        \"FIELD_64\",\n",
    "        \"FIELD_65\",\n",
    "        \"FIELD_66\",\n",
    "        \"FIELD_67\",\n",
    "        \"FIELD_68\",\n",
    "        \"FIELD_69\",\n",
    "        \"FIELD_70\",\n",
    "        \"FIELD_72\",\n",
    "        \"FIELD_73\",\n",
    "        \"FIELD_74\",\n",
    "        \"FIELD_75\",\n",
    "        \"FIELD_76\",\n",
    "        \"FIELD_77\",\n",
    "        \"FIELD_80\",\n",
    "        \"FIELD_81\",\n",
    "        \"FIELD_84\",\n",
    "        \"FIELD_85\",\n",
    "        \"FIELD_90\",\n",
    "        \"FIELD_93\",\n",
    "        \"FIELD_94\",\n",
    "        \"FIELD_95\",\n",
    "        \"FIELD_96\",\n",
    "        \"FIELD_97\",\n",
    "        \"FIELD_98\",\n",
    "        \"FIELD_101\",\n",
    "        \"FIELD_102\",\n",
    "        \"FIELD_105\",\n",
    "        \"FIELD_106\",\n",
    "        \"FIELD_112\",\n",
    "        \"FIELD_113\",\n",
    "        \"FIELD_114\",\n",
    "        \"FIELD_115\",\n",
    "        \"FIELD_116\",\n",
    "        \"FIELD_117\",\n",
    "        \"FIELD_118\",\n",
    "        \"FIELD_119\",\n",
    "        \"FIELD_9\",\n",
    "    ]\n",
    ")\n",
    "\n",
    "\n",
    "mydataset = mydataset.drop(mydataset[mydataset.FIELD_3 == \"`\"].index)\n",
    "mydataset = mydataset.drop(mydataset[mydataset.FIELD_3 == \"G\"].index)\n",
    "\n",
    "\n",
    "mydataset = mydataset.drop(mydataset[mydataset.FIELD_4 == \".\"].index)\n",
    "mydataset = mydataset.drop(mydataset[mydataset.FIELD_5 == \".\"].index)\n",
    "\n",
    "mydataset = mydataset.drop(mydataset[mydataset.FIELD_35 == \"?\"].index)\n",
    "mydataset = mydataset.drop(mydataset[mydataset.FIELD_35 == \".\"].index)\n",
    "mydataset = mydataset.drop(mydataset[mydataset.FIELD_36 == \".\"].index)\n",
    "mydataset = mydataset.drop(mydataset[mydataset.FIELD_37 == \"\\\\\"].index)\n",
    "\n",
    "# mydataset=mydataset.drop(mydataset[mydataset.FIELD_39 == '7+' ].index)\n",
    "# mydataset=mydataset.drop(mydataset[mydataset.FIELD_39 == '5~7'].index)\n",
    "# mydataset=mydataset.drop(mydataset[mydataset.FIELD_39 == '3-4'].index)\n",
    "\n",
    "\n",
    "# mydataset=mydataset.drop(mydataset[mydataset.FIELD_95=='.'].index)"
   ]
  },
  {
   "cell_type": "code",
   "execution_count": 36,
   "metadata": {
    "scrolled": true
   },
   "outputs": [
    {
     "name": "stdout",
     "output_type": "stream",
     "text": [
      "0 FIELD_3\n",
      "1 FIELD_4\n",
      "2 FIELD_5\n",
      "3 FIELD_13\n",
      "4 FIELD_14\n",
      "5 FIELD_15\n",
      "6 FIELD_16\n",
      "7 FIELD_17\n",
      "8 FIELD_18\n",
      "9 FIELD_19\n",
      "10 FIELD_20\n",
      "11 FIELD_21\n",
      "12 FIELD_22\n",
      "13 FIELD_23\n",
      "14 FIELD_24\n",
      "15 FIELD_25\n",
      "16 FIELD_26\n",
      "17 FIELD_27\n",
      "18 FIELD_28\n",
      "19 FIELD_29\n",
      "20 FIELD_30\n",
      "21 FIELD_31\n",
      "22 FIELD_32\n",
      "23 FIELD_33\n",
      "24 FIELD_34\n",
      "25 FIELD_35\n",
      "26 FIELD_36\n",
      "27 FIELD_37\n",
      "28 FIELD_38\n",
      "29 FIELD_40\n",
      "30 FIELD_41\n",
      "31 FIELD_42\n",
      "32 FIELD_43\n",
      "33 FIELD_44\n",
      "34 FIELD_45\n",
      "35 FIELD_46\n",
      "36 FIELD_47\n",
      "37 FIELD_48\n",
      "38 FIELD_49\n",
      "39 FIELD_50\n",
      "40 FIELD_51\n",
      "41 FIELD_52\n",
      "42 FIELD_53\n",
      "43 FIELD_54\n",
      "44 FIELD_55\n",
      "45 FIELD_56\n",
      "46 FIELD_57\n",
      "47 FIELD_58\n",
      "48 FIELD_59\n",
      "49 FIELD_60\n",
      "50 FIELD_61\n",
      "51 FIELD_62\n",
      "52 FIELD_63\n",
      "53 FIELD_38_C\n",
      "54 CLASS\n",
      "55 SEX\n"
     ]
    },
    {
     "data": {
      "application/javascript": [
       "\n",
       "            setTimeout(function() {\n",
       "                var nbb_cell_id = 36;\n",
       "                var nbb_formatted_code = \"colslist = mydataset.columns\\nDiabeticColVals = data.S000501\\n\\ncor = []\\npval = []\\ncount = []\\n\\nfor i in range(len(colslist)):\\n    print(i, colslist[i])\\n\\n    temp = pd.DataFrame([])\\n    temp[\\\"a\\\"] = DiabeticColVals\\n    temp[\\\"b\\\"] = mydataset[colslist[i]].astype(float)\\n    temp = temp.dropna()\\n    count.append(temp.shape[0])\\n\\n    uniquevalues = temp.b.unique()\\n\\n    selectedGroupVals = []\\n    for k in range(len(uniquevalues)):\\n        selectedGroupVals.append(np.asarray(temp[temp[\\\"b\\\"] == uniquevalues[k]].a))\\n\\n    F, p = stats.f_oneway(*selectedGroupVals)\\n    cor.append(F)\\n    pval.append(p)\";\n",
       "                var nbb_cells = Jupyter.notebook.get_cells();\n",
       "                for (var i = 0; i < nbb_cells.length; ++i) {\n",
       "                    if (nbb_cells[i].input_prompt_number == nbb_cell_id) {\n",
       "                        nbb_cells[i].set_text(nbb_formatted_code);\n",
       "                        break;\n",
       "                    }\n",
       "                }\n",
       "            }, 500);\n",
       "            "
      ],
      "text/plain": [
       "<IPython.core.display.Javascript object>"
      ]
     },
     "metadata": {},
     "output_type": "display_data"
    }
   ],
   "source": [
    "colslist = mydataset.columns\n",
    "DiabeticColVals = data.S000501\n",
    "\n",
    "cor = []\n",
    "pval = []\n",
    "count = []\n",
    "\n",
    "for i in range(len(colslist)):\n",
    "    print(i, colslist[i])\n",
    "\n",
    "    temp = pd.DataFrame([])\n",
    "    temp[\"a\"] = DiabeticColVals\n",
    "    temp[\"b\"] = mydataset[colslist[i]].astype(float)\n",
    "    temp = temp.dropna()\n",
    "    count.append(temp.shape[0])\n",
    "\n",
    "    uniquevalues = temp.b.unique()\n",
    "\n",
    "    selectedGroupVals = []\n",
    "    for k in range(len(uniquevalues)):\n",
    "        selectedGroupVals.append(np.asarray(temp[temp[\"b\"] == uniquevalues[k]].a))\n",
    "\n",
    "    F, p = stats.f_oneway(*selectedGroupVals)\n",
    "    cor.append(F)\n",
    "    pval.append(p)"
   ]
  },
  {
   "cell_type": "code",
   "execution_count": 37,
   "metadata": {},
   "outputs": [
    {
     "data": {
      "application/javascript": [
       "\n",
       "            setTimeout(function() {\n",
       "                var nbb_cell_id = 37;\n",
       "                var nbb_formatted_code = \"FvalPvalCorr = pd.DataFrame()\\nFvalPvalCorr[\\\"Cols\\\"] = colslist\\nFvalPvalCorr[\\\"F\\\"] = cor\\nFvalPvalCorr[\\\"P\\\"] = pval\\nFvalPvalCorr[\\\"Count\\\"] = count\\nFvalPvalCorr = FvalPvalCorr.sort_values(by=\\\"F\\\", ascending=False)\";\n",
       "                var nbb_cells = Jupyter.notebook.get_cells();\n",
       "                for (var i = 0; i < nbb_cells.length; ++i) {\n",
       "                    if (nbb_cells[i].input_prompt_number == nbb_cell_id) {\n",
       "                        nbb_cells[i].set_text(nbb_formatted_code);\n",
       "                        break;\n",
       "                    }\n",
       "                }\n",
       "            }, 500);\n",
       "            "
      ],
      "text/plain": [
       "<IPython.core.display.Javascript object>"
      ]
     },
     "metadata": {},
     "output_type": "display_data"
    }
   ],
   "source": [
    "FvalPvalCorr = pd.DataFrame()\n",
    "FvalPvalCorr[\"Cols\"] = colslist\n",
    "FvalPvalCorr[\"F\"] = cor\n",
    "FvalPvalCorr[\"P\"] = pval\n",
    "FvalPvalCorr[\"Count\"] = count\n",
    "FvalPvalCorr = FvalPvalCorr.sort_values(by=\"F\", ascending=False)"
   ]
  },
  {
   "cell_type": "code",
   "execution_count": 38,
   "metadata": {},
   "outputs": [
    {
     "data": {
      "text/html": [
       "<div>\n",
       "<style scoped>\n",
       "    .dataframe tbody tr th:only-of-type {\n",
       "        vertical-align: middle;\n",
       "    }\n",
       "\n",
       "    .dataframe tbody tr th {\n",
       "        vertical-align: top;\n",
       "    }\n",
       "\n",
       "    .dataframe thead th {\n",
       "        text-align: right;\n",
       "    }\n",
       "</style>\n",
       "<table border=\"1\" class=\"dataframe\">\n",
       "  <thead>\n",
       "    <tr style=\"text-align: right;\">\n",
       "      <th></th>\n",
       "      <th>Cols</th>\n",
       "      <th>F</th>\n",
       "      <th>P</th>\n",
       "      <th>Count</th>\n",
       "    </tr>\n",
       "  </thead>\n",
       "  <tbody>\n",
       "    <tr>\n",
       "      <th>54</th>\n",
       "      <td>CLASS</td>\n",
       "      <td>514321.357187</td>\n",
       "      <td>0.000000e+00</td>\n",
       "      <td>466397</td>\n",
       "    </tr>\n",
       "    <tr>\n",
       "      <th>55</th>\n",
       "      <td>SEX</td>\n",
       "      <td>70935.966231</td>\n",
       "      <td>0.000000e+00</td>\n",
       "      <td>466396</td>\n",
       "    </tr>\n",
       "    <tr>\n",
       "      <th>53</th>\n",
       "      <td>FIELD_38_C</td>\n",
       "      <td>4777.768439</td>\n",
       "      <td>0.000000e+00</td>\n",
       "      <td>433775</td>\n",
       "    </tr>\n",
       "    <tr>\n",
       "      <th>23</th>\n",
       "      <td>FIELD_33</td>\n",
       "      <td>3303.562953</td>\n",
       "      <td>0.000000e+00</td>\n",
       "      <td>464179</td>\n",
       "    </tr>\n",
       "    <tr>\n",
       "      <th>28</th>\n",
       "      <td>FIELD_38</td>\n",
       "      <td>1410.009764</td>\n",
       "      <td>0.000000e+00</td>\n",
       "      <td>433775</td>\n",
       "    </tr>\n",
       "    <tr>\n",
       "      <th>29</th>\n",
       "      <td>FIELD_40</td>\n",
       "      <td>489.080744</td>\n",
       "      <td>0.000000e+00</td>\n",
       "      <td>433843</td>\n",
       "    </tr>\n",
       "    <tr>\n",
       "      <th>19</th>\n",
       "      <td>FIELD_29</td>\n",
       "      <td>347.550606</td>\n",
       "      <td>1.491927e-151</td>\n",
       "      <td>463541</td>\n",
       "    </tr>\n",
       "    <tr>\n",
       "      <th>30</th>\n",
       "      <td>FIELD_41</td>\n",
       "      <td>315.885983</td>\n",
       "      <td>0.000000e+00</td>\n",
       "      <td>433771</td>\n",
       "    </tr>\n",
       "    <tr>\n",
       "      <th>17</th>\n",
       "      <td>FIELD_27</td>\n",
       "      <td>308.139192</td>\n",
       "      <td>1.844285e-134</td>\n",
       "      <td>463031</td>\n",
       "    </tr>\n",
       "    <tr>\n",
       "      <th>31</th>\n",
       "      <td>FIELD_42</td>\n",
       "      <td>60.368834</td>\n",
       "      <td>3.642285e-99</td>\n",
       "      <td>433726</td>\n",
       "    </tr>\n",
       "  </tbody>\n",
       "</table>\n",
       "</div>"
      ],
      "text/plain": [
       "          Cols              F              P   Count\n",
       "54       CLASS  514321.357187   0.000000e+00  466397\n",
       "55         SEX   70935.966231   0.000000e+00  466396\n",
       "53  FIELD_38_C    4777.768439   0.000000e+00  433775\n",
       "23    FIELD_33    3303.562953   0.000000e+00  464179\n",
       "28    FIELD_38    1410.009764   0.000000e+00  433775\n",
       "29    FIELD_40     489.080744   0.000000e+00  433843\n",
       "19    FIELD_29     347.550606  1.491927e-151  463541\n",
       "30    FIELD_41     315.885983   0.000000e+00  433771\n",
       "17    FIELD_27     308.139192  1.844285e-134  463031\n",
       "31    FIELD_42      60.368834   3.642285e-99  433726"
      ]
     },
     "execution_count": 38,
     "metadata": {},
     "output_type": "execute_result"
    },
    {
     "data": {
      "application/javascript": [
       "\n",
       "            setTimeout(function() {\n",
       "                var nbb_cell_id = 38;\n",
       "                var nbb_formatted_code = \"FvalPvalCorr[FvalPvalCorr.Count > 50000].head(10)\";\n",
       "                var nbb_cells = Jupyter.notebook.get_cells();\n",
       "                for (var i = 0; i < nbb_cells.length; ++i) {\n",
       "                    if (nbb_cells[i].input_prompt_number == nbb_cell_id) {\n",
       "                        nbb_cells[i].set_text(nbb_formatted_code);\n",
       "                        break;\n",
       "                    }\n",
       "                }\n",
       "            }, 500);\n",
       "            "
      ],
      "text/plain": [
       "<IPython.core.display.Javascript object>"
      ]
     },
     "metadata": {},
     "output_type": "display_data"
    }
   ],
   "source": [
    "FvalPvalCorr[FvalPvalCorr.Count > 50000].head(10)"
   ]
  },
  {
   "cell_type": "code",
   "execution_count": 39,
   "metadata": {},
   "outputs": [
    {
     "name": "stdout",
     "output_type": "stream",
     "text": [
      "['CLASS', 'SEX', 'FIELD_38_C', 'FIELD_33', 'FIELD_38', 'FIELD_40', 'FIELD_29', 'FIELD_41', 'FIELD_27', 'FIELD_42']\n"
     ]
    },
    {
     "data": {
      "application/javascript": [
       "\n",
       "            setTimeout(function() {\n",
       "                var nbb_cell_id = 39;\n",
       "                var nbb_formatted_code = \"print(list(FvalPvalCorr[FvalPvalCorr.Count > 50000].Cols)[:10])\";\n",
       "                var nbb_cells = Jupyter.notebook.get_cells();\n",
       "                for (var i = 0; i < nbb_cells.length; ++i) {\n",
       "                    if (nbb_cells[i].input_prompt_number == nbb_cell_id) {\n",
       "                        nbb_cells[i].set_text(nbb_formatted_code);\n",
       "                        break;\n",
       "                    }\n",
       "                }\n",
       "            }, 500);\n",
       "            "
      ],
      "text/plain": [
       "<IPython.core.display.Javascript object>"
      ]
     },
     "metadata": {},
     "output_type": "display_data"
    }
   ],
   "source": [
    "print(list(FvalPvalCorr[FvalPvalCorr.Count > 50000].Cols)[:10])"
   ]
  },
  {
   "cell_type": "markdown",
   "metadata": {},
   "source": [
    "========================= LASSO method\n",
    "================"
   ]
  },
  {
   "cell_type": "code",
   "execution_count": 42,
   "metadata": {},
   "outputs": [
    {
     "name": "stdout",
     "output_type": "stream",
     "text": [
      "(138973, 28)\n"
     ]
    },
    {
     "data": {
      "application/javascript": [
       "\n",
       "            setTimeout(function() {\n",
       "                var nbb_cell_id = 42;\n",
       "                var nbb_formatted_code = \"selectedcols = [\\n    \\\"S000501\\\",\\n    \\\"S000300\\\",\\n    \\\"L190300\\\",\\n    \\\"L190400\\\",\\n    \\\"L190500\\\",\\n    \\\"L100700\\\",\\n    \\\"L103300\\\",\\n    \\\"L103000\\\",\\n    \\\"L100800\\\",\\n    \\\"L100500\\\",\\n    \\\"S000100\\\",\\n    \\\"L101700\\\",\\n    \\\"max\\\",\\n    \\\"L101300\\\",\\n    \\\"L101600\\\",\\n    \\\"L103100\\\",\\n    \\\"S010101\\\",\\n    \\\"S010102\\\",\\n    \\\"SEX\\\",\\n    \\\"FIELD_38_C\\\",\\n    \\\"FIELD_33\\\",\\n    \\\"FIELD_38\\\",\\n    \\\"FIELD_40\\\",\\n    \\\"FIELD_29\\\",\\n    \\\"FIELD_41\\\",\\n    \\\"FIELD_27\\\",\\n    \\\"FIELD_42\\\",\\n    \\\"AGE\\\",\\n]\\ndata2 = data[selectedcols].copy().dropna()\\nprint(data2.shape)\";\n",
       "                var nbb_cells = Jupyter.notebook.get_cells();\n",
       "                for (var i = 0; i < nbb_cells.length; ++i) {\n",
       "                    if (nbb_cells[i].input_prompt_number == nbb_cell_id) {\n",
       "                        nbb_cells[i].set_text(nbb_formatted_code);\n",
       "                        break;\n",
       "                    }\n",
       "                }\n",
       "            }, 500);\n",
       "            "
      ],
      "text/plain": [
       "<IPython.core.display.Javascript object>"
      ]
     },
     "metadata": {},
     "output_type": "display_data"
    }
   ],
   "source": [
    "selectedcols = [\n",
    "    \"S000501\",\n",
    "    \"S000300\",\n",
    "    \"L190300\",\n",
    "    \"L190400\",\n",
    "    \"L190500\",\n",
    "    \"L100700\",\n",
    "    \"L103300\",\n",
    "    \"L103000\",\n",
    "    \"L100800\",\n",
    "    \"L100500\",\n",
    "    \"S000100\",\n",
    "    \"L101700\",\n",
    "    \"max\",\n",
    "    \"L101300\",\n",
    "    \"L101600\",\n",
    "    \"L103100\",\n",
    "    \"S010101\",\n",
    "    \"S010102\",\n",
    "    \"SEX\",\n",
    "    \"FIELD_38_C\",\n",
    "    \"FIELD_33\",\n",
    "    \"FIELD_38\",\n",
    "    \"FIELD_40\",\n",
    "    \"FIELD_29\",\n",
    "    \"FIELD_41\",\n",
    "    \"FIELD_27\",\n",
    "    \"FIELD_42\",\n",
    "    \"AGE\",\n",
    "]\n",
    "data2 = data[selectedcols].copy().dropna()\n",
    "print(data2.shape)"
   ]
  },
  {
   "cell_type": "code",
   "execution_count": 43,
   "metadata": {},
   "outputs": [
    {
     "data": {
      "application/javascript": [
       "\n",
       "            setTimeout(function() {\n",
       "                var nbb_cell_id = 43;\n",
       "                var nbb_formatted_code = \"x = data2[\\n    [\\n        \\\"S000300\\\",\\n        \\\"L190300\\\",\\n        \\\"L190400\\\",\\n        \\\"L190500\\\",\\n        \\\"L100700\\\",\\n        \\\"L103300\\\",\\n        \\\"L103000\\\",\\n        \\\"L100800\\\",\\n        \\\"L100500\\\",\\n        \\\"S000100\\\",\\n        \\\"L101700\\\",\\n        \\\"max\\\",\\n        \\\"L101300\\\",\\n        \\\"L101600\\\",\\n        \\\"L103100\\\",\\n        \\\"S010101\\\",\\n        \\\"S010102\\\",\\n        \\\"SEX\\\",\\n        \\\"FIELD_38_C\\\",\\n        \\\"FIELD_33\\\",\\n        \\\"FIELD_38\\\",\\n        \\\"FIELD_40\\\",\\n        \\\"FIELD_29\\\",\\n        \\\"FIELD_41\\\",\\n        \\\"FIELD_27\\\",\\n        \\\"FIELD_42\\\",\\n        \\\"AGE\\\",\\n    ]\\n]\\ny = data2.S000501\";\n",
       "                var nbb_cells = Jupyter.notebook.get_cells();\n",
       "                for (var i = 0; i < nbb_cells.length; ++i) {\n",
       "                    if (nbb_cells[i].input_prompt_number == nbb_cell_id) {\n",
       "                        nbb_cells[i].set_text(nbb_formatted_code);\n",
       "                        break;\n",
       "                    }\n",
       "                }\n",
       "            }, 500);\n",
       "            "
      ],
      "text/plain": [
       "<IPython.core.display.Javascript object>"
      ]
     },
     "metadata": {},
     "output_type": "display_data"
    }
   ],
   "source": [
    "x = data2[\n",
    "    [\n",
    "        \"S000300\",\n",
    "        \"L190300\",\n",
    "        \"L190400\",\n",
    "        \"L190500\",\n",
    "        \"L100700\",\n",
    "        \"L103300\",\n",
    "        \"L103000\",\n",
    "        \"L100800\",\n",
    "        \"L100500\",\n",
    "        \"S000100\",\n",
    "        \"L101700\",\n",
    "        \"max\",\n",
    "        \"L101300\",\n",
    "        \"L101600\",\n",
    "        \"L103100\",\n",
    "        \"S010101\",\n",
    "        \"S010102\",\n",
    "        \"SEX\",\n",
    "        \"FIELD_38_C\",\n",
    "        \"FIELD_33\",\n",
    "        \"FIELD_38\",\n",
    "        \"FIELD_40\",\n",
    "        \"FIELD_29\",\n",
    "        \"FIELD_41\",\n",
    "        \"FIELD_27\",\n",
    "        \"FIELD_42\",\n",
    "        \"AGE\",\n",
    "    ]\n",
    "]\n",
    "y = data2.S000501"
   ]
  },
  {
   "cell_type": "code",
   "execution_count": 44,
   "metadata": {},
   "outputs": [
    {
     "name": "stdout",
     "output_type": "stream",
     "text": [
      "[ 1.05219685e+00  3.45859055e+00 -0.00000000e+00  4.72486324e-02\n",
      "  1.35961911e-01  0.00000000e+00  1.20612434e-02  9.53064603e-02\n",
      " -0.00000000e+00  1.09822687e-01  1.29863646e-02  0.00000000e+00\n",
      " -6.25728674e-03  3.78656422e-02  3.51051407e-02  2.87361582e-01\n",
      "  2.37663801e-01 -0.00000000e+00  0.00000000e+00 -8.86797724e-02\n",
      "  3.90573381e-01  1.13315026e-03  1.21631704e+00  6.33787797e-02\n",
      "  0.00000000e+00  5.45027643e-02  2.71148380e-01]\n",
      "21.794080732411757\n"
     ]
    },
    {
     "data": {
      "text/html": [
       "<div>\n",
       "<style scoped>\n",
       "    .dataframe tbody tr th:only-of-type {\n",
       "        vertical-align: middle;\n",
       "    }\n",
       "\n",
       "    .dataframe tbody tr th {\n",
       "        vertical-align: top;\n",
       "    }\n",
       "\n",
       "    .dataframe thead th {\n",
       "        text-align: right;\n",
       "    }\n",
       "</style>\n",
       "<table border=\"1\" class=\"dataframe\">\n",
       "  <thead>\n",
       "    <tr style=\"text-align: right;\">\n",
       "      <th></th>\n",
       "      <th>Name</th>\n",
       "      <th>coeff</th>\n",
       "    </tr>\n",
       "  </thead>\n",
       "  <tbody>\n",
       "    <tr>\n",
       "      <th>1</th>\n",
       "      <td>L190300</td>\n",
       "      <td>3.458591</td>\n",
       "    </tr>\n",
       "    <tr>\n",
       "      <th>22</th>\n",
       "      <td>FIELD_29</td>\n",
       "      <td>1.216317</td>\n",
       "    </tr>\n",
       "    <tr>\n",
       "      <th>0</th>\n",
       "      <td>S000300</td>\n",
       "      <td>1.052197</td>\n",
       "    </tr>\n",
       "    <tr>\n",
       "      <th>20</th>\n",
       "      <td>FIELD_38</td>\n",
       "      <td>0.390573</td>\n",
       "    </tr>\n",
       "    <tr>\n",
       "      <th>15</th>\n",
       "      <td>S010101</td>\n",
       "      <td>0.287362</td>\n",
       "    </tr>\n",
       "    <tr>\n",
       "      <th>26</th>\n",
       "      <td>AGE</td>\n",
       "      <td>0.271148</td>\n",
       "    </tr>\n",
       "    <tr>\n",
       "      <th>16</th>\n",
       "      <td>S010102</td>\n",
       "      <td>0.237664</td>\n",
       "    </tr>\n",
       "    <tr>\n",
       "      <th>4</th>\n",
       "      <td>L100700</td>\n",
       "      <td>0.135962</td>\n",
       "    </tr>\n",
       "    <tr>\n",
       "      <th>9</th>\n",
       "      <td>S000100</td>\n",
       "      <td>0.109823</td>\n",
       "    </tr>\n",
       "    <tr>\n",
       "      <th>7</th>\n",
       "      <td>L100800</td>\n",
       "      <td>0.095306</td>\n",
       "    </tr>\n",
       "    <tr>\n",
       "      <th>19</th>\n",
       "      <td>FIELD_33</td>\n",
       "      <td>0.088680</td>\n",
       "    </tr>\n",
       "    <tr>\n",
       "      <th>23</th>\n",
       "      <td>FIELD_41</td>\n",
       "      <td>0.063379</td>\n",
       "    </tr>\n",
       "    <tr>\n",
       "      <th>25</th>\n",
       "      <td>FIELD_42</td>\n",
       "      <td>0.054503</td>\n",
       "    </tr>\n",
       "    <tr>\n",
       "      <th>3</th>\n",
       "      <td>L190500</td>\n",
       "      <td>0.047249</td>\n",
       "    </tr>\n",
       "    <tr>\n",
       "      <th>13</th>\n",
       "      <td>L101600</td>\n",
       "      <td>0.037866</td>\n",
       "    </tr>\n",
       "    <tr>\n",
       "      <th>14</th>\n",
       "      <td>L103100</td>\n",
       "      <td>0.035105</td>\n",
       "    </tr>\n",
       "    <tr>\n",
       "      <th>10</th>\n",
       "      <td>L101700</td>\n",
       "      <td>0.012986</td>\n",
       "    </tr>\n",
       "    <tr>\n",
       "      <th>6</th>\n",
       "      <td>L103000</td>\n",
       "      <td>0.012061</td>\n",
       "    </tr>\n",
       "    <tr>\n",
       "      <th>12</th>\n",
       "      <td>L101300</td>\n",
       "      <td>0.006257</td>\n",
       "    </tr>\n",
       "    <tr>\n",
       "      <th>21</th>\n",
       "      <td>FIELD_40</td>\n",
       "      <td>0.001133</td>\n",
       "    </tr>\n",
       "  </tbody>\n",
       "</table>\n",
       "</div>"
      ],
      "text/plain": [
       "        Name     coeff\n",
       "1    L190300  3.458591\n",
       "22  FIELD_29  1.216317\n",
       "0    S000300  1.052197\n",
       "20  FIELD_38  0.390573\n",
       "15   S010101  0.287362\n",
       "26       AGE  0.271148\n",
       "16   S010102  0.237664\n",
       "4    L100700  0.135962\n",
       "9    S000100  0.109823\n",
       "7    L100800  0.095306\n",
       "19  FIELD_33  0.088680\n",
       "23  FIELD_41  0.063379\n",
       "25  FIELD_42  0.054503\n",
       "3    L190500  0.047249\n",
       "13   L101600  0.037866\n",
       "14   L103100  0.035105\n",
       "10   L101700  0.012986\n",
       "6    L103000  0.012061\n",
       "12   L101300  0.006257\n",
       "21  FIELD_40  0.001133"
      ]
     },
     "execution_count": 44,
     "metadata": {},
     "output_type": "execute_result"
    },
    {
     "data": {
      "application/javascript": [
       "\n",
       "            setTimeout(function() {\n",
       "                var nbb_cell_id = 44;\n",
       "                var nbb_formatted_code = \"from sklearn import linear_model\\n\\nclf = linear_model.Lasso(alpha=0.1)\\nclf.fit(x, y)\\n\\nprint(clf.coef_)\\n\\nprint(clf.intercept_)\\n\\n# pd.DataFrame([x.columns.ravel(),clf.coef_.ravel()],columns=['Name','coeff'])\\n\\nlassod = pd.DataFrame()\\nlassod[\\\"Name\\\"] = x.columns\\nlassod[\\\"coeff\\\"] = clf.coef_\\nlassod\\n\\nlassod = lassod.drop(lassod[lassod.coeff == 0].index)\\nlassod.coeff = abs(lassod.coeff)\\nlassod = lassod.sort_values(by=\\\"coeff\\\", ascending=False)\\nlassod\";\n",
       "                var nbb_cells = Jupyter.notebook.get_cells();\n",
       "                for (var i = 0; i < nbb_cells.length; ++i) {\n",
       "                    if (nbb_cells[i].input_prompt_number == nbb_cell_id) {\n",
       "                        nbb_cells[i].set_text(nbb_formatted_code);\n",
       "                        break;\n",
       "                    }\n",
       "                }\n",
       "            }, 500);\n",
       "            "
      ],
      "text/plain": [
       "<IPython.core.display.Javascript object>"
      ]
     },
     "metadata": {},
     "output_type": "display_data"
    }
   ],
   "source": [
    "from sklearn import linear_model\n",
    "\n",
    "clf = linear_model.Lasso(alpha=0.1)\n",
    "clf.fit(x, y)\n",
    "\n",
    "print(clf.coef_)\n",
    "\n",
    "print(clf.intercept_)\n",
    "\n",
    "# pd.DataFrame([x.columns.ravel(),clf.coef_.ravel()],columns=['Name','coeff'])\n",
    "\n",
    "lassod = pd.DataFrame()\n",
    "lassod[\"Name\"] = x.columns\n",
    "lassod[\"coeff\"] = clf.coef_\n",
    "lassod\n",
    "\n",
    "lassod = lassod.drop(lassod[lassod.coeff == 0].index)\n",
    "lassod.coeff = abs(lassod.coeff)\n",
    "lassod = lassod.sort_values(by=\"coeff\", ascending=False)\n",
    "lassod"
   ]
  },
  {
   "cell_type": "code",
   "execution_count": 45,
   "metadata": {},
   "outputs": [
    {
     "name": "stdout",
     "output_type": "stream",
     "text": [
      "['L190300', 'FIELD_29', 'S000300', 'FIELD_38', 'S010101', 'AGE', 'S010102', 'L100700', 'S000100', 'L100800', 'FIELD_33', 'FIELD_41', 'FIELD_42', 'L190500', 'L101600', 'L103100']\n"
     ]
    },
    {
     "data": {
      "application/javascript": [
       "\n",
       "            setTimeout(function() {\n",
       "                var nbb_cell_id = 45;\n",
       "                var nbb_formatted_code = \"print(list(lassod.Name[:16]))\";\n",
       "                var nbb_cells = Jupyter.notebook.get_cells();\n",
       "                for (var i = 0; i < nbb_cells.length; ++i) {\n",
       "                    if (nbb_cells[i].input_prompt_number == nbb_cell_id) {\n",
       "                        nbb_cells[i].set_text(nbb_formatted_code);\n",
       "                        break;\n",
       "                    }\n",
       "                }\n",
       "            }, 500);\n",
       "            "
      ],
      "text/plain": [
       "<IPython.core.display.Javascript object>"
      ]
     },
     "metadata": {},
     "output_type": "display_data"
    }
   ],
   "source": [
    "print(list(lassod.Name[:16]))"
   ]
  },
  {
   "cell_type": "markdown",
   "metadata": {},
   "source": [
    "=============================== SelectKBest method\n",
    "========================"
   ]
  },
  {
   "cell_type": "code",
   "execution_count": 46,
   "metadata": {},
   "outputs": [
    {
     "name": "stdout",
     "output_type": "stream",
     "text": [
      "['S000300', 'L190300', 'L190400', 'L190500', 'L100700', 'L103300', 'L103000', 'L100800', 'L100500', 'S000100', 'L101700', 'max', 'L101300', 'L101600', 'L103100', 'S010101']\n"
     ]
    },
    {
     "data": {
      "application/javascript": [
       "\n",
       "            setTimeout(function() {\n",
       "                var nbb_cell_id = 46;\n",
       "                var nbb_formatted_code = \"# from sklearn.feature_selection import chi2\\nfrom sklearn.feature_selection import f_regression\\nfrom sklearn.feature_selection import SelectKBest\\n\\nbestfeatures = SelectKBest(score_func=f_regression, k=10)\\nfit = bestfeatures.fit(x, y)\\n\\ndfscores = pd.DataFrame(fit.scores_)\\ndfcolumns = pd.DataFrame(x.columns)\\n\\nfeatureScores = pd.concat([dfcolumns, dfscores], axis=1)\\nfeatureScores.columns = [\\\"Specs\\\", \\\"Score\\\"]  # naming the dataframe columns\\n\\n# x=x[x.columns[:15]]\\nprint(list(x.columns[:16]))\";\n",
       "                var nbb_cells = Jupyter.notebook.get_cells();\n",
       "                for (var i = 0; i < nbb_cells.length; ++i) {\n",
       "                    if (nbb_cells[i].input_prompt_number == nbb_cell_id) {\n",
       "                        nbb_cells[i].set_text(nbb_formatted_code);\n",
       "                        break;\n",
       "                    }\n",
       "                }\n",
       "            }, 500);\n",
       "            "
      ],
      "text/plain": [
       "<IPython.core.display.Javascript object>"
      ]
     },
     "metadata": {},
     "output_type": "display_data"
    }
   ],
   "source": [
    "# from sklearn.feature_selection import chi2\n",
    "from sklearn.feature_selection import f_regression\n",
    "from sklearn.feature_selection import SelectKBest\n",
    "\n",
    "bestfeatures = SelectKBest(score_func=f_regression, k=10)\n",
    "fit = bestfeatures.fit(x, y)\n",
    "\n",
    "dfscores = pd.DataFrame(fit.scores_)\n",
    "dfcolumns = pd.DataFrame(x.columns)\n",
    "\n",
    "featureScores = pd.concat([dfcolumns, dfscores], axis=1)\n",
    "featureScores.columns = [\"Specs\", \"Score\"]  # naming the dataframe columns\n",
    "\n",
    "# x=x[x.columns[:15]]\n",
    "print(list(x.columns[:16]))"
   ]
  },
  {
   "cell_type": "markdown",
   "metadata": {},
   "source": [
    "========================================= LinearSVC\n",
    "==============="
   ]
  },
  {
   "cell_type": "code",
   "execution_count": 41,
   "metadata": {},
   "outputs": [
    {
     "data": {
      "text/plain": [
       "(21538, 20)"
      ]
     },
     "execution_count": 41,
     "metadata": {},
     "output_type": "execute_result"
    }
   ],
   "source": [
    "# from sklearn.svm import LinearSVC\n",
    "# from sklearn.datasets import load_iris\n",
    "# from sklearn.feature_selection import SelectFromModel\n",
    "\n",
    "# lsvc = LinearSVC(C=0.01, penalty=\"l1\", dual=False).fit(x, y)\n",
    "# model = SelectFromModel(lsvc, prefit=True)\n",
    "# X_new = model.transform(x)\n",
    "# X_new.shape"
   ]
  },
  {
   "cell_type": "code",
   "execution_count": 44,
   "metadata": {},
   "outputs": [],
   "source": [
    "# X_new"
   ]
  },
  {
   "cell_type": "markdown",
   "metadata": {},
   "source": [
    "================================ SequentialFeatureSelector \n",
    "================================"
   ]
  },
  {
   "cell_type": "code",
   "execution_count": 33,
   "metadata": {},
   "outputs": [],
   "source": [
    "# from sklearn.linear_model import LinearRegression\n",
    "# from mlxtend.feature_selection import SequentialFeatureSelector as SFS\n",
    "# from mlxtend.plotting import plot_sequential_feature_selection as plot_sfs\n",
    "# from sklearn.ensemble import RandomForestRegressor\n",
    "\n",
    "# lr = RandomForestRegressor()\n",
    "\n",
    "# sfs = SFS(lr, \n",
    "#           k_features=13, \n",
    "#           forward=True, \n",
    "#           floating=False, \n",
    "#           scoring='neg_mean_squared_error',\n",
    "#           cv=5)\n",
    "\n",
    "# sfs = sfs.fit(x, y)\n",
    "# fig = plot_sfs(sfs.get_metric_dict(), kind='std_err')\n",
    "\n",
    "# plt.title('Sequential Forward Selection (w. StdErr)')\n",
    "# plt.grid()\n",
    "# plt.show()"
   ]
  },
  {
   "cell_type": "markdown",
   "metadata": {},
   "source": [
    "================================= feature_importances\n",
    "====="
   ]
  },
  {
   "cell_type": "code",
   "execution_count": 47,
   "metadata": {},
   "outputs": [
    {
     "name": "stdout",
     "output_type": "stream",
     "text": [
      "[5.35014340e-02 5.16540782e-02 4.92644788e-02 5.04610909e-02\n",
      " 5.10542687e-02 5.03288661e-02 5.15652485e-02 5.13416461e-02\n",
      " 4.14807325e-02 5.14080430e-02 4.93140187e-02 2.15942140e-03\n",
      " 4.94892934e-02 5.07936834e-02 5.09291525e-02 4.53456677e-02\n",
      " 4.46244731e-02 1.42100132e-05 1.25047621e-02 9.22547337e-03\n",
      " 1.92048612e-02 2.79561738e-02 5.59657657e-03 3.16391696e-02\n",
      " 4.43561904e-03 4.42859558e-02 5.04216015e-02]\n"
     ]
    },
    {
     "data": {
      "text/plain": [
       "<Figure size 640x480 with 1 Axes>"
      ]
     },
     "metadata": {},
     "output_type": "display_data"
    },
    {
     "name": "stdout",
     "output_type": "stream",
     "text": [
      "S000300    0.053501\n",
      "L190300    0.051654\n",
      "L103000    0.051565\n",
      "S000100    0.051408\n",
      "L100800    0.051342\n",
      "L100700    0.051054\n",
      "L103100    0.050929\n",
      "L101600    0.050794\n",
      "L190500    0.050461\n",
      "AGE        0.050422\n",
      "L103300    0.050329\n",
      "L101300    0.049489\n",
      "L101700    0.049314\n",
      "L190400    0.049264\n",
      "S010101    0.045346\n",
      "S010102    0.044624\n",
      "dtype: float64\n"
     ]
    },
    {
     "data": {
      "application/javascript": [
       "\n",
       "            setTimeout(function() {\n",
       "                var nbb_cell_id = 47;\n",
       "                var nbb_formatted_code = \"from sklearn.ensemble import ExtraTreesClassifier\\nimport matplotlib.pyplot as plt\\n\\nmodel = ExtraTreesClassifier()\\nmodel.fit(x, y)\\n\\nprint(\\n    model.feature_importances_\\n)  # use inbuilt class feature_importances of tree based classifiers\\n\\n# plot graph of feature importances for better visualization\\nfeat_importances = pd.Series(model.feature_importances_, index=x.columns)\\nfeat_importances.nlargest(16).plot(kind=\\\"barh\\\")\\nplt.show()\\n\\nprint(feat_importances.nlargest(16))\";\n",
       "                var nbb_cells = Jupyter.notebook.get_cells();\n",
       "                for (var i = 0; i < nbb_cells.length; ++i) {\n",
       "                    if (nbb_cells[i].input_prompt_number == nbb_cell_id) {\n",
       "                        nbb_cells[i].set_text(nbb_formatted_code);\n",
       "                        break;\n",
       "                    }\n",
       "                }\n",
       "            }, 500);\n",
       "            "
      ],
      "text/plain": [
       "<IPython.core.display.Javascript object>"
      ]
     },
     "metadata": {},
     "output_type": "display_data"
    }
   ],
   "source": [
    "from sklearn.ensemble import ExtraTreesClassifier\n",
    "import matplotlib.pyplot as plt\n",
    "\n",
    "model = ExtraTreesClassifier()\n",
    "model.fit(x, y)\n",
    "\n",
    "print(\n",
    "    model.feature_importances_\n",
    ")  # use inbuilt class feature_importances of tree based classifiers\n",
    "\n",
    "# plot graph of feature importances for better visualization\n",
    "feat_importances = pd.Series(model.feature_importances_, index=x.columns)\n",
    "feat_importances.nlargest(16).plot(kind=\"barh\")\n",
    "plt.show()\n",
    "\n",
    "print(feat_importances.nlargest(16))"
   ]
  },
  {
   "cell_type": "markdown",
   "metadata": {},
   "source": [
    "============================= Backward Elimination\n",
    "========"
   ]
  },
  {
   "cell_type": "code",
   "execution_count": 50,
   "metadata": {},
   "outputs": [
    {
     "data": {
      "text/html": [
       "<table class=\"simpletable\">\n",
       "<caption>OLS Regression Results</caption>\n",
       "<tr>\n",
       "  <th>Dep. Variable:</th>         <td>S000501</td>     <th>  R-squared:         </th>  <td>   0.259</td>  \n",
       "</tr>\n",
       "<tr>\n",
       "  <th>Model:</th>                   <td>OLS</td>       <th>  Adj. R-squared:    </th>  <td>   0.258</td>  \n",
       "</tr>\n",
       "<tr>\n",
       "  <th>Method:</th>             <td>Least Squares</td>  <th>  F-statistic:       </th>  <td>   1795.</td>  \n",
       "</tr>\n",
       "<tr>\n",
       "  <th>Date:</th>             <td>Thu, 17 Oct 2019</td> <th>  Prob (F-statistic):</th>   <td>  0.00</td>   \n",
       "</tr>\n",
       "<tr>\n",
       "  <th>Time:</th>                 <td>23:00:27</td>     <th>  Log-Likelihood:    </th> <td>-5.2689e+05</td>\n",
       "</tr>\n",
       "<tr>\n",
       "  <th>No. Observations:</th>      <td>138973</td>      <th>  AIC:               </th>  <td>1.054e+06</td> \n",
       "</tr>\n",
       "<tr>\n",
       "  <th>Df Residuals:</th>          <td>138945</td>      <th>  BIC:               </th>  <td>1.054e+06</td> \n",
       "</tr>\n",
       "<tr>\n",
       "  <th>Df Model:</th>              <td>    27</td>      <th>                     </th>      <td> </td>     \n",
       "</tr>\n",
       "<tr>\n",
       "  <th>Covariance Type:</th>      <td>nonrobust</td>    <th>                     </th>      <td> </td>     \n",
       "</tr>\n",
       "</table>\n",
       "<table class=\"simpletable\">\n",
       "<tr>\n",
       "       <td></td>         <th>coef</th>     <th>std err</th>      <th>t</th>      <th>P>|t|</th>  <th>[0.025</th>    <th>0.975]</th>  \n",
       "</tr>\n",
       "<tr>\n",
       "  <th>S000300</th>    <td>    1.0375</td> <td>    0.011</td> <td>   96.367</td> <td> 0.000</td> <td>    1.016</td> <td>    1.059</td>\n",
       "</tr>\n",
       "<tr>\n",
       "  <th>L190300</th>    <td>    5.3876</td> <td>    0.141</td> <td>   38.082</td> <td> 0.000</td> <td>    5.110</td> <td>    5.665</td>\n",
       "</tr>\n",
       "<tr>\n",
       "  <th>L190400</th>    <td>   -0.0294</td> <td>    0.082</td> <td>   -0.359</td> <td> 0.720</td> <td>   -0.190</td> <td>    0.131</td>\n",
       "</tr>\n",
       "<tr>\n",
       "  <th>L190500</th>    <td>   -0.0741</td> <td>    0.036</td> <td>   -2.066</td> <td> 0.039</td> <td>   -0.144</td> <td>   -0.004</td>\n",
       "</tr>\n",
       "<tr>\n",
       "  <th>L100700</th>    <td>    0.2528</td> <td>    0.036</td> <td>    7.067</td> <td> 0.000</td> <td>    0.183</td> <td>    0.323</td>\n",
       "</tr>\n",
       "<tr>\n",
       "  <th>L103300</th>    <td>    0.1796</td> <td>    0.055</td> <td>    3.276</td> <td> 0.001</td> <td>    0.072</td> <td>    0.287</td>\n",
       "</tr>\n",
       "<tr>\n",
       "  <th>L103000</th>    <td>    0.0105</td> <td>    0.001</td> <td>   15.130</td> <td> 0.000</td> <td>    0.009</td> <td>    0.012</td>\n",
       "</tr>\n",
       "<tr>\n",
       "  <th>L100800</th>    <td>    0.0933</td> <td>    0.003</td> <td>   32.229</td> <td> 0.000</td> <td>    0.088</td> <td>    0.099</td>\n",
       "</tr>\n",
       "<tr>\n",
       "  <th>L100500</th>    <td>   -1.3036</td> <td>    0.254</td> <td>   -5.139</td> <td> 0.000</td> <td>   -1.801</td> <td>   -0.806</td>\n",
       "</tr>\n",
       "<tr>\n",
       "  <th>S000100</th>    <td>    0.1191</td> <td>    0.006</td> <td>   20.869</td> <td> 0.000</td> <td>    0.108</td> <td>    0.130</td>\n",
       "</tr>\n",
       "<tr>\n",
       "  <th>L101700</th>    <td>    0.0143</td> <td>    0.002</td> <td>    8.631</td> <td> 0.000</td> <td>    0.011</td> <td>    0.018</td>\n",
       "</tr>\n",
       "<tr>\n",
       "  <th>max</th>        <td>    0.3025</td> <td>    0.104</td> <td>    2.913</td> <td> 0.004</td> <td>    0.099</td> <td>    0.506</td>\n",
       "</tr>\n",
       "<tr>\n",
       "  <th>L101300</th>    <td>   -0.0085</td> <td>    0.002</td> <td>   -3.742</td> <td> 0.000</td> <td>   -0.013</td> <td>   -0.004</td>\n",
       "</tr>\n",
       "<tr>\n",
       "  <th>L101600</th>    <td>    0.0323</td> <td>    0.002</td> <td>   15.166</td> <td> 0.000</td> <td>    0.028</td> <td>    0.036</td>\n",
       "</tr>\n",
       "<tr>\n",
       "  <th>L103100</th>    <td>    0.0419</td> <td>    0.003</td> <td>   13.775</td> <td> 0.000</td> <td>    0.036</td> <td>    0.048</td>\n",
       "</tr>\n",
       "<tr>\n",
       "  <th>S010101</th>    <td>    0.2917</td> <td>    0.016</td> <td>   17.707</td> <td> 0.000</td> <td>    0.259</td> <td>    0.324</td>\n",
       "</tr>\n",
       "<tr>\n",
       "  <th>S010102</th>    <td>    0.2399</td> <td>    0.017</td> <td>   14.488</td> <td> 0.000</td> <td>    0.207</td> <td>    0.272</td>\n",
       "</tr>\n",
       "<tr>\n",
       "  <th>SEX</th>        <td>   -5.4098</td> <td>    4.056</td> <td>   -1.334</td> <td> 0.182</td> <td>  -13.360</td> <td>    2.541</td>\n",
       "</tr>\n",
       "<tr>\n",
       "  <th>FIELD_38_C</th> <td>   -0.4381</td> <td>    0.107</td> <td>   -4.111</td> <td> 0.000</td> <td>   -0.647</td> <td>   -0.229</td>\n",
       "</tr>\n",
       "<tr>\n",
       "  <th>FIELD_33</th>   <td>   -0.7708</td> <td>    0.075</td> <td>  -10.283</td> <td> 0.000</td> <td>   -0.918</td> <td>   -0.624</td>\n",
       "</tr>\n",
       "<tr>\n",
       "  <th>FIELD_38</th>   <td>    0.7509</td> <td>    0.054</td> <td>   13.868</td> <td> 0.000</td> <td>    0.645</td> <td>    0.857</td>\n",
       "</tr>\n",
       "<tr>\n",
       "  <th>FIELD_40</th>   <td>    0.0469</td> <td>    0.024</td> <td>    1.920</td> <td> 0.055</td> <td>   -0.001</td> <td>    0.095</td>\n",
       "</tr>\n",
       "<tr>\n",
       "  <th>FIELD_29</th>   <td>    1.8676</td> <td>    0.077</td> <td>   24.382</td> <td> 0.000</td> <td>    1.717</td> <td>    2.018</td>\n",
       "</tr>\n",
       "<tr>\n",
       "  <th>FIELD_41</th>   <td>    0.0799</td> <td>    0.022</td> <td>    3.577</td> <td> 0.000</td> <td>    0.036</td> <td>    0.124</td>\n",
       "</tr>\n",
       "<tr>\n",
       "  <th>FIELD_27</th>   <td>    0.2388</td> <td>    0.123</td> <td>    1.941</td> <td> 0.052</td> <td>   -0.002</td> <td>    0.480</td>\n",
       "</tr>\n",
       "<tr>\n",
       "  <th>FIELD_42</th>   <td>    0.0640</td> <td>    0.014</td> <td>    4.728</td> <td> 0.000</td> <td>    0.037</td> <td>    0.091</td>\n",
       "</tr>\n",
       "<tr>\n",
       "  <th>AGE</th>        <td>    0.2699</td> <td>    0.004</td> <td>   62.716</td> <td> 0.000</td> <td>    0.261</td> <td>    0.278</td>\n",
       "</tr>\n",
       "<tr>\n",
       "  <th>const</th>      <td>   23.0656</td> <td>    4.239</td> <td>    5.442</td> <td> 0.000</td> <td>   14.758</td> <td>   31.373</td>\n",
       "</tr>\n",
       "</table>\n",
       "<table class=\"simpletable\">\n",
       "<tr>\n",
       "  <th>Omnibus:</th>       <td>6015.771</td> <th>  Durbin-Watson:     </th> <td>   1.580</td>\n",
       "</tr>\n",
       "<tr>\n",
       "  <th>Prob(Omnibus):</th>  <td> 0.000</td>  <th>  Jarque-Bera (JB):  </th> <td>9013.269</td>\n",
       "</tr>\n",
       "<tr>\n",
       "  <th>Skew:</th>           <td> 0.405</td>  <th>  Prob(JB):          </th> <td>    0.00</td>\n",
       "</tr>\n",
       "<tr>\n",
       "  <th>Kurtosis:</th>       <td> 3.949</td>  <th>  Cond. No.          </th> <td>4.64e+04</td>\n",
       "</tr>\n",
       "</table><br/><br/>Warnings:<br/>[1] Standard Errors assume that the covariance matrix of the errors is correctly specified.<br/>[2] The condition number is large, 4.64e+04. This might indicate that there are<br/>strong multicollinearity or other numerical problems."
      ],
      "text/plain": [
       "<class 'statsmodels.iolib.summary.Summary'>\n",
       "\"\"\"\n",
       "                            OLS Regression Results                            \n",
       "==============================================================================\n",
       "Dep. Variable:                S000501   R-squared:                       0.259\n",
       "Model:                            OLS   Adj. R-squared:                  0.258\n",
       "Method:                 Least Squares   F-statistic:                     1795.\n",
       "Date:                Thu, 17 Oct 2019   Prob (F-statistic):               0.00\n",
       "Time:                        23:00:27   Log-Likelihood:            -5.2689e+05\n",
       "No. Observations:              138973   AIC:                         1.054e+06\n",
       "Df Residuals:                  138945   BIC:                         1.054e+06\n",
       "Df Model:                          27                                         \n",
       "Covariance Type:            nonrobust                                         \n",
       "==============================================================================\n",
       "                 coef    std err          t      P>|t|      [0.025      0.975]\n",
       "------------------------------------------------------------------------------\n",
       "S000300        1.0375      0.011     96.367      0.000       1.016       1.059\n",
       "L190300        5.3876      0.141     38.082      0.000       5.110       5.665\n",
       "L190400       -0.0294      0.082     -0.359      0.720      -0.190       0.131\n",
       "L190500       -0.0741      0.036     -2.066      0.039      -0.144      -0.004\n",
       "L100700        0.2528      0.036      7.067      0.000       0.183       0.323\n",
       "L103300        0.1796      0.055      3.276      0.001       0.072       0.287\n",
       "L103000        0.0105      0.001     15.130      0.000       0.009       0.012\n",
       "L100800        0.0933      0.003     32.229      0.000       0.088       0.099\n",
       "L100500       -1.3036      0.254     -5.139      0.000      -1.801      -0.806\n",
       "S000100        0.1191      0.006     20.869      0.000       0.108       0.130\n",
       "L101700        0.0143      0.002      8.631      0.000       0.011       0.018\n",
       "max            0.3025      0.104      2.913      0.004       0.099       0.506\n",
       "L101300       -0.0085      0.002     -3.742      0.000      -0.013      -0.004\n",
       "L101600        0.0323      0.002     15.166      0.000       0.028       0.036\n",
       "L103100        0.0419      0.003     13.775      0.000       0.036       0.048\n",
       "S010101        0.2917      0.016     17.707      0.000       0.259       0.324\n",
       "S010102        0.2399      0.017     14.488      0.000       0.207       0.272\n",
       "SEX           -5.4098      4.056     -1.334      0.182     -13.360       2.541\n",
       "FIELD_38_C    -0.4381      0.107     -4.111      0.000      -0.647      -0.229\n",
       "FIELD_33      -0.7708      0.075    -10.283      0.000      -0.918      -0.624\n",
       "FIELD_38       0.7509      0.054     13.868      0.000       0.645       0.857\n",
       "FIELD_40       0.0469      0.024      1.920      0.055      -0.001       0.095\n",
       "FIELD_29       1.8676      0.077     24.382      0.000       1.717       2.018\n",
       "FIELD_41       0.0799      0.022      3.577      0.000       0.036       0.124\n",
       "FIELD_27       0.2388      0.123      1.941      0.052      -0.002       0.480\n",
       "FIELD_42       0.0640      0.014      4.728      0.000       0.037       0.091\n",
       "AGE            0.2699      0.004     62.716      0.000       0.261       0.278\n",
       "const         23.0656      4.239      5.442      0.000      14.758      31.373\n",
       "==============================================================================\n",
       "Omnibus:                     6015.771   Durbin-Watson:                   1.580\n",
       "Prob(Omnibus):                  0.000   Jarque-Bera (JB):             9013.269\n",
       "Skew:                           0.405   Prob(JB):                         0.00\n",
       "Kurtosis:                       3.949   Cond. No.                     4.64e+04\n",
       "==============================================================================\n",
       "\n",
       "Warnings:\n",
       "[1] Standard Errors assume that the covariance matrix of the errors is correctly specified.\n",
       "[2] The condition number is large, 4.64e+04. This might indicate that there are\n",
       "strong multicollinearity or other numerical problems.\n",
       "\"\"\""
      ]
     },
     "execution_count": 50,
     "metadata": {},
     "output_type": "execute_result"
    },
    {
     "data": {
      "application/javascript": [
       "\n",
       "            setTimeout(function() {\n",
       "                var nbb_cell_id = 50;\n",
       "                var nbb_formatted_code = \"import statsmodels.regression.linear_model as sm\\n\\ntemp = x.copy()\\ntemp[\\\"const\\\"] = np.ones((x.shape[0], 1))\\nregressor_OLS = sm.OLS(endog=y, exog=temp).fit()\\nregressor_OLS.summary()\";\n",
       "                var nbb_cells = Jupyter.notebook.get_cells();\n",
       "                for (var i = 0; i < nbb_cells.length; ++i) {\n",
       "                    if (nbb_cells[i].input_prompt_number == nbb_cell_id) {\n",
       "                        nbb_cells[i].set_text(nbb_formatted_code);\n",
       "                        break;\n",
       "                    }\n",
       "                }\n",
       "            }, 500);\n",
       "            "
      ],
      "text/plain": [
       "<IPython.core.display.Javascript object>"
      ]
     },
     "metadata": {},
     "output_type": "display_data"
    }
   ],
   "source": [
    "import statsmodels.regression.linear_model as sm\n",
    "\n",
    "temp = x.copy()\n",
    "temp[\"const\"] = np.ones((x.shape[0], 1))\n",
    "regressor_OLS = sm.OLS(endog=y, exog=temp).fit()\n",
    "regressor_OLS.summary()"
   ]
  },
  {
   "cell_type": "code",
   "execution_count": 49,
   "metadata": {},
   "outputs": [
    {
     "ename": "KeyError",
     "evalue": "\"['FIELD_21' 'FIELD_5' 'FIELD_14'] not found in axis\"",
     "output_type": "error",
     "traceback": [
      "\u001b[1;31m---------------------------------------------------------------------------\u001b[0m",
      "\u001b[1;31mKeyError\u001b[0m                                  Traceback (most recent call last)",
      "\u001b[1;32m<ipython-input-49-0195e53d156d>\u001b[0m in \u001b[0;36m<module>\u001b[1;34m\u001b[0m\n\u001b[1;32m----> 1\u001b[1;33m \u001b[0mtemp\u001b[0m\u001b[1;33m=\u001b[0m\u001b[0mtemp\u001b[0m\u001b[1;33m.\u001b[0m\u001b[0mdrop\u001b[0m\u001b[1;33m(\u001b[0m\u001b[0mcolumns\u001b[0m\u001b[1;33m=\u001b[0m\u001b[1;33m[\u001b[0m\u001b[1;34m'L103000'\u001b[0m\u001b[1;33m,\u001b[0m\u001b[1;34m'L103300'\u001b[0m\u001b[1;33m,\u001b[0m\u001b[1;34m'L190300'\u001b[0m\u001b[1;33m,\u001b[0m\u001b[1;34m'FIELD_40'\u001b[0m\u001b[1;33m,\u001b[0m\u001b[1;34m'FIELD_27'\u001b[0m\u001b[1;33m,\u001b[0m\u001b[1;34m'FIELD_29'\u001b[0m\u001b[1;33m,\u001b[0m\u001b[1;34m'FIELD_21'\u001b[0m\u001b[1;33m,\u001b[0m\u001b[1;34m'FIELD_5'\u001b[0m\u001b[1;33m,\u001b[0m\u001b[1;34m'FIELD_14'\u001b[0m\u001b[1;33m]\u001b[0m\u001b[1;33m)\u001b[0m\u001b[1;33m\u001b[0m\u001b[1;33m\u001b[0m\u001b[0m\n\u001b[0m\u001b[0;32m      2\u001b[0m \u001b[0mregressor_OLS\u001b[0m \u001b[1;33m=\u001b[0m \u001b[0msm\u001b[0m\u001b[1;33m.\u001b[0m\u001b[0mOLS\u001b[0m\u001b[1;33m(\u001b[0m\u001b[0mendog\u001b[0m \u001b[1;33m=\u001b[0m \u001b[0my\u001b[0m\u001b[1;33m,\u001b[0m \u001b[0mexog\u001b[0m \u001b[1;33m=\u001b[0m \u001b[0mtemp\u001b[0m\u001b[1;33m)\u001b[0m\u001b[1;33m.\u001b[0m\u001b[0mfit\u001b[0m\u001b[1;33m(\u001b[0m\u001b[1;33m)\u001b[0m\u001b[1;33m\u001b[0m\u001b[1;33m\u001b[0m\u001b[0m\n\u001b[0;32m      3\u001b[0m \u001b[0mregressor_OLS\u001b[0m\u001b[1;33m.\u001b[0m\u001b[0msummary\u001b[0m\u001b[1;33m(\u001b[0m\u001b[1;33m)\u001b[0m\u001b[1;33m\u001b[0m\u001b[1;33m\u001b[0m\u001b[0m\n",
      "\u001b[1;32mC:\\ProgramData\\Anaconda3\\lib\\site-packages\\pandas\\core\\frame.py\u001b[0m in \u001b[0;36mdrop\u001b[1;34m(self, labels, axis, index, columns, level, inplace, errors)\u001b[0m\n\u001b[0;32m   3938\u001b[0m                                            \u001b[0mindex\u001b[0m\u001b[1;33m=\u001b[0m\u001b[0mindex\u001b[0m\u001b[1;33m,\u001b[0m \u001b[0mcolumns\u001b[0m\u001b[1;33m=\u001b[0m\u001b[0mcolumns\u001b[0m\u001b[1;33m,\u001b[0m\u001b[1;33m\u001b[0m\u001b[1;33m\u001b[0m\u001b[0m\n\u001b[0;32m   3939\u001b[0m                                            \u001b[0mlevel\u001b[0m\u001b[1;33m=\u001b[0m\u001b[0mlevel\u001b[0m\u001b[1;33m,\u001b[0m \u001b[0minplace\u001b[0m\u001b[1;33m=\u001b[0m\u001b[0minplace\u001b[0m\u001b[1;33m,\u001b[0m\u001b[1;33m\u001b[0m\u001b[1;33m\u001b[0m\u001b[0m\n\u001b[1;32m-> 3940\u001b[1;33m                                            errors=errors)\n\u001b[0m\u001b[0;32m   3941\u001b[0m \u001b[1;33m\u001b[0m\u001b[0m\n\u001b[0;32m   3942\u001b[0m     @rewrite_axis_style_signature('mapper', [('copy', True),\n",
      "\u001b[1;32mC:\\ProgramData\\Anaconda3\\lib\\site-packages\\pandas\\core\\generic.py\u001b[0m in \u001b[0;36mdrop\u001b[1;34m(self, labels, axis, index, columns, level, inplace, errors)\u001b[0m\n\u001b[0;32m   3778\u001b[0m         \u001b[1;32mfor\u001b[0m \u001b[0maxis\u001b[0m\u001b[1;33m,\u001b[0m \u001b[0mlabels\u001b[0m \u001b[1;32min\u001b[0m \u001b[0maxes\u001b[0m\u001b[1;33m.\u001b[0m\u001b[0mitems\u001b[0m\u001b[1;33m(\u001b[0m\u001b[1;33m)\u001b[0m\u001b[1;33m:\u001b[0m\u001b[1;33m\u001b[0m\u001b[1;33m\u001b[0m\u001b[0m\n\u001b[0;32m   3779\u001b[0m             \u001b[1;32mif\u001b[0m \u001b[0mlabels\u001b[0m \u001b[1;32mis\u001b[0m \u001b[1;32mnot\u001b[0m \u001b[1;32mNone\u001b[0m\u001b[1;33m:\u001b[0m\u001b[1;33m\u001b[0m\u001b[1;33m\u001b[0m\u001b[0m\n\u001b[1;32m-> 3780\u001b[1;33m                 \u001b[0mobj\u001b[0m \u001b[1;33m=\u001b[0m \u001b[0mobj\u001b[0m\u001b[1;33m.\u001b[0m\u001b[0m_drop_axis\u001b[0m\u001b[1;33m(\u001b[0m\u001b[0mlabels\u001b[0m\u001b[1;33m,\u001b[0m \u001b[0maxis\u001b[0m\u001b[1;33m,\u001b[0m \u001b[0mlevel\u001b[0m\u001b[1;33m=\u001b[0m\u001b[0mlevel\u001b[0m\u001b[1;33m,\u001b[0m \u001b[0merrors\u001b[0m\u001b[1;33m=\u001b[0m\u001b[0merrors\u001b[0m\u001b[1;33m)\u001b[0m\u001b[1;33m\u001b[0m\u001b[1;33m\u001b[0m\u001b[0m\n\u001b[0m\u001b[0;32m   3781\u001b[0m \u001b[1;33m\u001b[0m\u001b[0m\n\u001b[0;32m   3782\u001b[0m         \u001b[1;32mif\u001b[0m \u001b[0minplace\u001b[0m\u001b[1;33m:\u001b[0m\u001b[1;33m\u001b[0m\u001b[1;33m\u001b[0m\u001b[0m\n",
      "\u001b[1;32mC:\\ProgramData\\Anaconda3\\lib\\site-packages\\pandas\\core\\generic.py\u001b[0m in \u001b[0;36m_drop_axis\u001b[1;34m(self, labels, axis, level, errors)\u001b[0m\n\u001b[0;32m   3810\u001b[0m                 \u001b[0mnew_axis\u001b[0m \u001b[1;33m=\u001b[0m \u001b[0maxis\u001b[0m\u001b[1;33m.\u001b[0m\u001b[0mdrop\u001b[0m\u001b[1;33m(\u001b[0m\u001b[0mlabels\u001b[0m\u001b[1;33m,\u001b[0m \u001b[0mlevel\u001b[0m\u001b[1;33m=\u001b[0m\u001b[0mlevel\u001b[0m\u001b[1;33m,\u001b[0m \u001b[0merrors\u001b[0m\u001b[1;33m=\u001b[0m\u001b[0merrors\u001b[0m\u001b[1;33m)\u001b[0m\u001b[1;33m\u001b[0m\u001b[1;33m\u001b[0m\u001b[0m\n\u001b[0;32m   3811\u001b[0m             \u001b[1;32melse\u001b[0m\u001b[1;33m:\u001b[0m\u001b[1;33m\u001b[0m\u001b[1;33m\u001b[0m\u001b[0m\n\u001b[1;32m-> 3812\u001b[1;33m                 \u001b[0mnew_axis\u001b[0m \u001b[1;33m=\u001b[0m \u001b[0maxis\u001b[0m\u001b[1;33m.\u001b[0m\u001b[0mdrop\u001b[0m\u001b[1;33m(\u001b[0m\u001b[0mlabels\u001b[0m\u001b[1;33m,\u001b[0m \u001b[0merrors\u001b[0m\u001b[1;33m=\u001b[0m\u001b[0merrors\u001b[0m\u001b[1;33m)\u001b[0m\u001b[1;33m\u001b[0m\u001b[1;33m\u001b[0m\u001b[0m\n\u001b[0m\u001b[0;32m   3813\u001b[0m             \u001b[0mresult\u001b[0m \u001b[1;33m=\u001b[0m \u001b[0mself\u001b[0m\u001b[1;33m.\u001b[0m\u001b[0mreindex\u001b[0m\u001b[1;33m(\u001b[0m\u001b[1;33m**\u001b[0m\u001b[1;33m{\u001b[0m\u001b[0maxis_name\u001b[0m\u001b[1;33m:\u001b[0m \u001b[0mnew_axis\u001b[0m\u001b[1;33m}\u001b[0m\u001b[1;33m)\u001b[0m\u001b[1;33m\u001b[0m\u001b[1;33m\u001b[0m\u001b[0m\n\u001b[0;32m   3814\u001b[0m \u001b[1;33m\u001b[0m\u001b[0m\n",
      "\u001b[1;32mC:\\ProgramData\\Anaconda3\\lib\\site-packages\\pandas\\core\\indexes\\base.py\u001b[0m in \u001b[0;36mdrop\u001b[1;34m(self, labels, errors)\u001b[0m\n\u001b[0;32m   4963\u001b[0m             \u001b[1;32mif\u001b[0m \u001b[0merrors\u001b[0m \u001b[1;33m!=\u001b[0m \u001b[1;34m'ignore'\u001b[0m\u001b[1;33m:\u001b[0m\u001b[1;33m\u001b[0m\u001b[1;33m\u001b[0m\u001b[0m\n\u001b[0;32m   4964\u001b[0m                 raise KeyError(\n\u001b[1;32m-> 4965\u001b[1;33m                     '{} not found in axis'.format(labels[mask]))\n\u001b[0m\u001b[0;32m   4966\u001b[0m             \u001b[0mindexer\u001b[0m \u001b[1;33m=\u001b[0m \u001b[0mindexer\u001b[0m\u001b[1;33m[\u001b[0m\u001b[1;33m~\u001b[0m\u001b[0mmask\u001b[0m\u001b[1;33m]\u001b[0m\u001b[1;33m\u001b[0m\u001b[1;33m\u001b[0m\u001b[0m\n\u001b[0;32m   4967\u001b[0m         \u001b[1;32mreturn\u001b[0m \u001b[0mself\u001b[0m\u001b[1;33m.\u001b[0m\u001b[0mdelete\u001b[0m\u001b[1;33m(\u001b[0m\u001b[0mindexer\u001b[0m\u001b[1;33m)\u001b[0m\u001b[1;33m\u001b[0m\u001b[1;33m\u001b[0m\u001b[0m\n",
      "\u001b[1;31mKeyError\u001b[0m: \"['FIELD_21' 'FIELD_5' 'FIELD_14'] not found in axis\""
     ]
    },
    {
     "data": {
      "application/javascript": [
       "\n",
       "            setTimeout(function() {\n",
       "                var nbb_cell_id = 49;\n",
       "                var nbb_formatted_code = \"temp = temp.drop(\\n    columns=[\\n        \\\"L103000\\\",\\n        \\\"L103300\\\",\\n        \\\"L190300\\\",\\n        \\\"FIELD_40\\\",\\n        \\\"FIELD_27\\\",\\n        \\\"FIELD_29\\\",\\n        \\\"FIELD_21\\\",\\n        \\\"FIELD_5\\\",\\n        \\\"FIELD_14\\\",\\n    ]\\n)\\nregressor_OLS = sm.OLS(endog=y, exog=temp).fit()\\nregressor_OLS.summary()\";\n",
       "                var nbb_cells = Jupyter.notebook.get_cells();\n",
       "                for (var i = 0; i < nbb_cells.length; ++i) {\n",
       "                    if (nbb_cells[i].input_prompt_number == nbb_cell_id) {\n",
       "                        nbb_cells[i].set_text(nbb_formatted_code);\n",
       "                        break;\n",
       "                    }\n",
       "                }\n",
       "            }, 500);\n",
       "            "
      ],
      "text/plain": [
       "<IPython.core.display.Javascript object>"
      ]
     },
     "metadata": {},
     "output_type": "display_data"
    }
   ],
   "source": [
    "temp = temp.drop(\n",
    "    columns=[\n",
    "        \"L103000\",\n",
    "        \"L103300\",\n",
    "        \"L190300\",\n",
    "        \"FIELD_40\",\n",
    "        \"FIELD_27\",\n",
    "        \"FIELD_29\",\n",
    "        \"FIELD_21\",\n",
    "        \"FIELD_5\",\n",
    "        \"FIELD_14\",\n",
    "    ]\n",
    ")\n",
    "regressor_OLS = sm.OLS(endog=y, exog=temp).fit()\n",
    "regressor_OLS.summary()"
   ]
  },
  {
   "cell_type": "code",
   "execution_count": 49,
   "metadata": {},
   "outputs": [
    {
     "data": {
      "text/html": [
       "<table class=\"simpletable\">\n",
       "<caption>OLS Regression Results</caption>\n",
       "<tr>\n",
       "  <th>Dep. Variable:</th>        <td>L100800_y</td>    <th>  R-squared (uncentered):</th>      <td>   0.992</td> \n",
       "</tr>\n",
       "<tr>\n",
       "  <th>Model:</th>                   <td>OLS</td>       <th>  Adj. R-squared (uncentered):</th> <td>   0.992</td> \n",
       "</tr>\n",
       "<tr>\n",
       "  <th>Method:</th>             <td>Least Squares</td>  <th>  F-statistic:       </th>          <td>1.851e+05</td>\n",
       "</tr>\n",
       "<tr>\n",
       "  <th>Date:</th>             <td>Wed, 09 Oct 2019</td> <th>  Prob (F-statistic):</th>           <td>  0.00</td>  \n",
       "</tr>\n",
       "<tr>\n",
       "  <th>Time:</th>                 <td>21:54:41</td>     <th>  Log-Likelihood:    </th>          <td> -77458.</td> \n",
       "</tr>\n",
       "<tr>\n",
       "  <th>No. Observations:</th>      <td> 21538</td>      <th>  AIC:               </th>          <td>1.549e+05</td>\n",
       "</tr>\n",
       "<tr>\n",
       "  <th>Df Residuals:</th>          <td> 21524</td>      <th>  BIC:               </th>          <td>1.551e+05</td>\n",
       "</tr>\n",
       "<tr>\n",
       "  <th>Df Model:</th>              <td>    14</td>      <th>                     </th>              <td> </td>    \n",
       "</tr>\n",
       "<tr>\n",
       "  <th>Covariance Type:</th>      <td>nonrobust</td>    <th>                     </th>              <td> </td>    \n",
       "</tr>\n",
       "</table>\n",
       "<table class=\"simpletable\">\n",
       "<tr>\n",
       "      <td></td>         <th>coef</th>     <th>std err</th>      <th>t</th>      <th>P>|t|</th>  <th>[0.025</th>    <th>0.975]</th>  \n",
       "</tr>\n",
       "<tr>\n",
       "  <th>L100800_x</th> <td>    0.4959</td> <td>    0.007</td> <td>   72.088</td> <td> 0.000</td> <td>    0.482</td> <td>    0.509</td>\n",
       "</tr>\n",
       "<tr>\n",
       "  <th>L104600</th>   <td>    8.5403</td> <td>    0.181</td> <td>   47.069</td> <td> 0.000</td> <td>    8.185</td> <td>    8.896</td>\n",
       "</tr>\n",
       "<tr>\n",
       "  <th>S000300</th>   <td>    0.0717</td> <td>    0.022</td> <td>    3.239</td> <td> 0.001</td> <td>    0.028</td> <td>    0.115</td>\n",
       "</tr>\n",
       "<tr>\n",
       "  <th>SEX</th>       <td>   -1.8595</td> <td>    0.163</td> <td>  -11.392</td> <td> 0.000</td> <td>   -2.179</td> <td>   -1.540</td>\n",
       "</tr>\n",
       "<tr>\n",
       "  <th>S000501</th>   <td>    0.0194</td> <td>    0.008</td> <td>    2.494</td> <td> 0.013</td> <td>    0.004</td> <td>    0.035</td>\n",
       "</tr>\n",
       "<tr>\n",
       "  <th>L101700</th>   <td>    0.0166</td> <td>    0.002</td> <td>    7.972</td> <td> 0.000</td> <td>    0.013</td> <td>    0.021</td>\n",
       "</tr>\n",
       "<tr>\n",
       "  <th>L190400</th>   <td>    1.7212</td> <td>    0.153</td> <td>   11.220</td> <td> 0.000</td> <td>    1.421</td> <td>    2.022</td>\n",
       "</tr>\n",
       "<tr>\n",
       "  <th>S000502</th>   <td>   -0.0279</td> <td>    0.010</td> <td>   -2.702</td> <td> 0.007</td> <td>   -0.048</td> <td>   -0.008</td>\n",
       "</tr>\n",
       "<tr>\n",
       "  <th>L190500</th>   <td>   -0.6045</td> <td>    0.054</td> <td>  -11.168</td> <td> 0.000</td> <td>   -0.711</td> <td>   -0.498</td>\n",
       "</tr>\n",
       "<tr>\n",
       "  <th>L101300</th>   <td>    0.0124</td> <td>    0.004</td> <td>    3.303</td> <td> 0.001</td> <td>    0.005</td> <td>    0.020</td>\n",
       "</tr>\n",
       "<tr>\n",
       "  <th>AGE</th>       <td>    0.0271</td> <td>    0.008</td> <td>    3.354</td> <td> 0.001</td> <td>    0.011</td> <td>    0.043</td>\n",
       "</tr>\n",
       "<tr>\n",
       "  <th>FIELD_38</th>  <td>    0.2745</td> <td>    0.056</td> <td>    4.941</td> <td> 0.000</td> <td>    0.166</td> <td>    0.383</td>\n",
       "</tr>\n",
       "<tr>\n",
       "  <th>FIELD_31</th>  <td>    0.5832</td> <td>    0.169</td> <td>    3.449</td> <td> 0.001</td> <td>    0.252</td> <td>    0.915</td>\n",
       "</tr>\n",
       "<tr>\n",
       "  <th>FIELD_41</th>  <td>    0.1317</td> <td>    0.038</td> <td>    3.491</td> <td> 0.000</td> <td>    0.058</td> <td>    0.206</td>\n",
       "</tr>\n",
       "</table>\n",
       "<table class=\"simpletable\">\n",
       "<tr>\n",
       "  <th>Omnibus:</th>       <td>12859.970</td> <th>  Durbin-Watson:     </th>  <td>   2.086</td> \n",
       "</tr>\n",
       "<tr>\n",
       "  <th>Prob(Omnibus):</th>  <td> 0.000</td>   <th>  Jarque-Bera (JB):  </th> <td>743785.719</td>\n",
       "</tr>\n",
       "<tr>\n",
       "  <th>Skew:</th>           <td> 2.144</td>   <th>  Prob(JB):          </th>  <td>    0.00</td> \n",
       "</tr>\n",
       "<tr>\n",
       "  <th>Kurtosis:</th>       <td>31.468</td>   <th>  Cond. No.          </th>  <td>    648.</td> \n",
       "</tr>\n",
       "</table><br/><br/>Warnings:<br/>[1] Standard Errors assume that the covariance matrix of the errors is correctly specified."
      ],
      "text/plain": [
       "<class 'statsmodels.iolib.summary.Summary'>\n",
       "\"\"\"\n",
       "                                 OLS Regression Results                                \n",
       "=======================================================================================\n",
       "Dep. Variable:              L100800_y   R-squared (uncentered):                   0.992\n",
       "Model:                            OLS   Adj. R-squared (uncentered):              0.992\n",
       "Method:                 Least Squares   F-statistic:                          1.851e+05\n",
       "Date:                Wed, 09 Oct 2019   Prob (F-statistic):                        0.00\n",
       "Time:                        21:54:41   Log-Likelihood:                         -77458.\n",
       "No. Observations:               21538   AIC:                                  1.549e+05\n",
       "Df Residuals:                   21524   BIC:                                  1.551e+05\n",
       "Df Model:                          14                                                  \n",
       "Covariance Type:            nonrobust                                                  \n",
       "==============================================================================\n",
       "                 coef    std err          t      P>|t|      [0.025      0.975]\n",
       "------------------------------------------------------------------------------\n",
       "L100800_x      0.4959      0.007     72.088      0.000       0.482       0.509\n",
       "L104600        8.5403      0.181     47.069      0.000       8.185       8.896\n",
       "S000300        0.0717      0.022      3.239      0.001       0.028       0.115\n",
       "SEX           -1.8595      0.163    -11.392      0.000      -2.179      -1.540\n",
       "S000501        0.0194      0.008      2.494      0.013       0.004       0.035\n",
       "L101700        0.0166      0.002      7.972      0.000       0.013       0.021\n",
       "L190400        1.7212      0.153     11.220      0.000       1.421       2.022\n",
       "S000502       -0.0279      0.010     -2.702      0.007      -0.048      -0.008\n",
       "L190500       -0.6045      0.054    -11.168      0.000      -0.711      -0.498\n",
       "L101300        0.0124      0.004      3.303      0.001       0.005       0.020\n",
       "AGE            0.0271      0.008      3.354      0.001       0.011       0.043\n",
       "FIELD_38       0.2745      0.056      4.941      0.000       0.166       0.383\n",
       "FIELD_31       0.5832      0.169      3.449      0.001       0.252       0.915\n",
       "FIELD_41       0.1317      0.038      3.491      0.000       0.058       0.206\n",
       "==============================================================================\n",
       "Omnibus:                    12859.970   Durbin-Watson:                   2.086\n",
       "Prob(Omnibus):                  0.000   Jarque-Bera (JB):           743785.719\n",
       "Skew:                           2.144   Prob(JB):                         0.00\n",
       "Kurtosis:                      31.468   Cond. No.                         648.\n",
       "==============================================================================\n",
       "\n",
       "Warnings:\n",
       "[1] Standard Errors assume that the covariance matrix of the errors is correctly specified.\n",
       "\"\"\""
      ]
     },
     "execution_count": 49,
     "metadata": {},
     "output_type": "execute_result"
    }
   ],
   "source": [
    "temp=temp.drop(columns=['FIELD_33'])\n",
    "regressor_OLS = sm.OLS(endog = y, exog = temp).fit()\n",
    "regressor_OLS.summary()"
   ]
  },
  {
   "cell_type": "code",
   "execution_count": 50,
   "metadata": {},
   "outputs": [
    {
     "data": {
      "text/plain": [
       "Index(['L100800_x', 'L104600', 'S000300', 'SEX', 'S000501', 'L101700',\n",
       "       'L190400', 'S000502', 'L190500', 'L101300', 'AGE', 'FIELD_38',\n",
       "       'FIELD_31', 'FIELD_41'],\n",
       "      dtype='object')"
      ]
     },
     "execution_count": 50,
     "metadata": {},
     "output_type": "execute_result"
    }
   ],
   "source": [
    "temp.columns"
   ]
  },
  {
   "cell_type": "code",
   "execution_count": null,
   "metadata": {},
   "outputs": [],
   "source": []
  },
  {
   "cell_type": "markdown",
   "metadata": {},
   "source": [
    "======================== variance inflation factor \n",
    "============="
   ]
  },
  {
   "cell_type": "code",
   "execution_count": 51,
   "metadata": {},
   "outputs": [
    {
     "data": {
      "application/javascript": [
       "\n",
       "            setTimeout(function() {\n",
       "                var nbb_cell_id = 51;\n",
       "                var nbb_formatted_code = \"# this function computes vif value which help us to remove columns with redundant information ( to avoid Multicollinearity)\\n# Multicollinearity occurs when two or more predictors in the model are correlated and provide redundant information about the response.\\n# Multicollinearity was measured by variance inflation factors (VIF) and tolerance\\n\\n\\ndef vifcal(inputdata, depcol):\\n    vifL5 = []\\n    import statsmodels.formula.api as sm\\n\\n    xvars = inputdata.drop([depcol], axis=1)\\n    xvarnames = xvars.columns\\n    for i in range(0, xvarnames.shape[0]):\\n        _y = xvars[xvarnames[i]]\\n        _x = xvars[xvarnames.drop(xvarnames[i])]\\n        rsq = sm.ols(formula=\\\"_y~_x\\\", data=xvars).fit().rsquared\\n        vif = round(1 / (1 - rsq), 2)\\n        print(i, \\\", \\\", xvarnames[i], \\\" VIF = \\\", vif)\\n        if vif < 5:\\n            vifL5.append(xvarnames[i])\\n    return vifL5\";\n",
       "                var nbb_cells = Jupyter.notebook.get_cells();\n",
       "                for (var i = 0; i < nbb_cells.length; ++i) {\n",
       "                    if (nbb_cells[i].input_prompt_number == nbb_cell_id) {\n",
       "                        nbb_cells[i].set_text(nbb_formatted_code);\n",
       "                        break;\n",
       "                    }\n",
       "                }\n",
       "            }, 500);\n",
       "            "
      ],
      "text/plain": [
       "<IPython.core.display.Javascript object>"
      ]
     },
     "metadata": {},
     "output_type": "display_data"
    }
   ],
   "source": [
    "# this function computes vif value which help us to remove columns with redundant information ( to avoid Multicollinearity)\n",
    "# Multicollinearity occurs when two or more predictors in the model are correlated and provide redundant information about the response.\n",
    "# Multicollinearity was measured by variance inflation factors (VIF) and tolerance\n",
    "\n",
    "\n",
    "def vifcal(inputdata, depcol):\n",
    "    vifL5 = []\n",
    "    import statsmodels.formula.api as sm\n",
    "\n",
    "    xvars = inputdata.drop([depcol], axis=1)\n",
    "    xvarnames = xvars.columns\n",
    "    for i in range(0, xvarnames.shape[0]):\n",
    "        _y = xvars[xvarnames[i]]\n",
    "        _x = xvars[xvarnames.drop(xvarnames[i])]\n",
    "        rsq = sm.ols(formula=\"_y~_x\", data=xvars).fit().rsquared\n",
    "        vif = round(1 / (1 - rsq), 2)\n",
    "        print(i, \", \", xvarnames[i], \" VIF = \", vif)\n",
    "        if vif < 5:\n",
    "            vifL5.append(xvarnames[i])\n",
    "    return vifL5"
   ]
  },
  {
   "cell_type": "code",
   "execution_count": 53,
   "metadata": {},
   "outputs": [
    {
     "name": "stdout",
     "output_type": "stream",
     "text": [
      "0 ,  S000300  VIF =  1.37\n",
      "1 ,  L190300  VIF =  2.32\n",
      "2 ,  L190400  VIF =  10.03\n",
      "3 ,  L190500  VIF =  12.97\n",
      "4 ,  L100700  VIF =  1.21\n",
      "5 ,  L103300  VIF =  2.91\n",
      "6 ,  L103000  VIF =  1.62\n",
      "7 ,  L100800  VIF =  1.21\n",
      "8 ,  L100500  VIF =  1.08\n",
      "9 ,  S000100  VIF =  1.2\n",
      "10 ,  L101700  VIF =  1.35\n",
      "11 ,  max  VIF =  2.15\n",
      "12 ,  L101300  VIF =  1.28\n",
      "13 ,  L101600  VIF =  1.46\n",
      "14 ,  L103100  VIF =  2.06\n",
      "15 ,  S010101  VIF =  2.69\n",
      "16 ,  S010102  VIF =  2.69\n",
      "17 ,  SEX  VIF =  1.0\n",
      "18 ,  FIELD_38_C  VIF =  4.08\n",
      "19 ,  FIELD_33  VIF =  1.06\n",
      "20 ,  FIELD_38  VIF =  4.1\n",
      "21 ,  FIELD_40  VIF =  1.45\n",
      "22 ,  FIELD_29  VIF =  1.03\n",
      "23 ,  FIELD_41  VIF =  1.58\n",
      "24 ,  FIELD_27  VIF =  1.04\n",
      "25 ,  FIELD_42  VIF =  1.14\n",
      "26 ,  AGE  VIF =  2.37\n",
      "['S000300', 'L190300', 'L100700', 'L103300', 'L103000', 'L100800', 'L100500', 'S000100', 'L101700', 'max', 'L101300', 'L101600', 'L103100', 'S010101', 'S010102', 'SEX', 'FIELD_38_C', 'FIELD_33', 'FIELD_38', 'FIELD_40', 'FIELD_29', 'FIELD_41', 'FIELD_27', 'FIELD_42', 'AGE'] 25\n"
     ]
    },
    {
     "data": {
      "application/javascript": [
       "\n",
       "            setTimeout(function() {\n",
       "                var nbb_cell_id = 53;\n",
       "                var nbb_formatted_code = \"newcols = vifcal(data2, \\\"S000501\\\")\\nprint(newcols, len(newcols))\";\n",
       "                var nbb_cells = Jupyter.notebook.get_cells();\n",
       "                for (var i = 0; i < nbb_cells.length; ++i) {\n",
       "                    if (nbb_cells[i].input_prompt_number == nbb_cell_id) {\n",
       "                        nbb_cells[i].set_text(nbb_formatted_code);\n",
       "                        break;\n",
       "                    }\n",
       "                }\n",
       "            }, 500);\n",
       "            "
      ],
      "text/plain": [
       "<IPython.core.display.Javascript object>"
      ]
     },
     "metadata": {},
     "output_type": "display_data"
    }
   ],
   "source": [
    "newcols = vifcal(data2, \"S000501\")\n",
    "print(newcols, len(newcols))"
   ]
  },
  {
   "cell_type": "code",
   "execution_count": null,
   "metadata": {},
   "outputs": [],
   "source": []
  }
 ],
 "metadata": {
  "kernelspec": {
   "display_name": "Python 3",
   "language": "python",
   "name": "python3"
  },
  "language_info": {
   "codemirror_mode": {
    "name": "ipython",
    "version": 3
   },
   "file_extension": ".py",
   "mimetype": "text/x-python",
   "name": "python",
   "nbconvert_exporter": "python",
   "pygments_lexer": "ipython3",
   "version": "3.7.3"
  }
 },
 "nbformat": 4,
 "nbformat_minor": 2
}

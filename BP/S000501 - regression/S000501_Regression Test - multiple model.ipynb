{
 "cells": [
  {
   "cell_type": "code",
   "execution_count": 15,
   "metadata": {},
   "outputs": [
    {
     "data": {
      "application/javascript": [
       "\n",
       "            setTimeout(function() {\n",
       "                var nbb_cell_id = 15;\n",
       "                var nbb_formatted_code = \"from matplotlib import pyplot as plt\\nimport pandas as pd\\nimport numpy as np\\nimport warnings\\nfrom sklearn.model_selection import train_test_split\\nimport math\\nfrom sklearn import metrics as m\\n\\nwarnings.filterwarnings(\\\"ignore\\\")\";\n",
       "                var nbb_cells = Jupyter.notebook.get_cells();\n",
       "                for (var i = 0; i < nbb_cells.length; ++i) {\n",
       "                    if (nbb_cells[i].input_prompt_number == nbb_cell_id) {\n",
       "                        nbb_cells[i].set_text(nbb_formatted_code);\n",
       "                        break;\n",
       "                    }\n",
       "                }\n",
       "            }, 500);\n",
       "            "
      ],
      "text/plain": [
       "<IPython.core.display.Javascript object>"
      ]
     },
     "metadata": {},
     "output_type": "display_data"
    }
   ],
   "source": [
    "from matplotlib import pyplot as plt\n",
    "import pandas as pd\n",
    "import numpy as np\n",
    "import warnings\n",
    "from sklearn.model_selection import train_test_split\n",
    "import math\n",
    "from sklearn import metrics as m\n",
    "\n",
    "warnings.filterwarnings(\"ignore\")"
   ]
  },
  {
   "cell_type": "markdown",
   "metadata": {},
   "source": [
    "Read the data\n",
    "==========="
   ]
  },
  {
   "cell_type": "code",
   "execution_count": 16,
   "metadata": {},
   "outputs": [
    {
     "data": {
      "application/javascript": [
       "\n",
       "            setTimeout(function() {\n",
       "                var nbb_cell_id = 16;\n",
       "                var nbb_formatted_code = \"# x_original=pd.read_csv('../_xlable4_withNa_AllColumns.txt')\\n# y_original=pd.read_csv('../_targelable4_withNa_AllColumns.txt')\\n\\n# x_original=x_original[['Unnamed: 0','L100800', 'L104600', 'S000300', 'SEX', 'S000501', 'L101700',\\n#        'L190400', 'S000502', 'L190500', 'L101300', 'AGE', 'FIELD_38',\\n#        'FIELD_31', 'FIELD_41'\\n#                       ]]\\n\\n# y_original=y_original[['Unnamed: 0','L100800' ]]\\n\\n\\n# print(x_original.shape)\\n# print(y_original.shape)\";\n",
       "                var nbb_cells = Jupyter.notebook.get_cells();\n",
       "                for (var i = 0; i < nbb_cells.length; ++i) {\n",
       "                    if (nbb_cells[i].input_prompt_number == nbb_cell_id) {\n",
       "                        nbb_cells[i].set_text(nbb_formatted_code);\n",
       "                        break;\n",
       "                    }\n",
       "                }\n",
       "            }, 500);\n",
       "            "
      ],
      "text/plain": [
       "<IPython.core.display.Javascript object>"
      ]
     },
     "metadata": {},
     "output_type": "display_data"
    }
   ],
   "source": [
    "# x_original=pd.read_csv('../_xlable4_withNa_AllColumns.txt')\n",
    "# y_original=pd.read_csv('../_targelable4_withNa_AllColumns.txt')\n",
    "\n",
    "# x_original=x_original[['Unnamed: 0','L100800', 'L104600', 'S000300', 'SEX', 'S000501', 'L101700',\n",
    "#        'L190400', 'S000502', 'L190500', 'L101300', 'AGE', 'FIELD_38',\n",
    "#        'FIELD_31', 'FIELD_41'\n",
    "#                       ]]\n",
    "\n",
    "# y_original=y_original[['Unnamed: 0','L100800' ]]\n",
    "\n",
    "\n",
    "# print(x_original.shape)\n",
    "# print(y_original.shape)"
   ]
  },
  {
   "cell_type": "code",
   "execution_count": 17,
   "metadata": {},
   "outputs": [
    {
     "data": {
      "application/javascript": [
       "\n",
       "            setTimeout(function() {\n",
       "                var nbb_cell_id = 17;\n",
       "                var nbb_formatted_code = \"# for index,col in enumerate(x_original.columns):\\n#     print(col,x_original[col].dropna().shape[0])\";\n",
       "                var nbb_cells = Jupyter.notebook.get_cells();\n",
       "                for (var i = 0; i < nbb_cells.length; ++i) {\n",
       "                    if (nbb_cells[i].input_prompt_number == nbb_cell_id) {\n",
       "                        nbb_cells[i].set_text(nbb_formatted_code);\n",
       "                        break;\n",
       "                    }\n",
       "                }\n",
       "            }, 500);\n",
       "            "
      ],
      "text/plain": [
       "<IPython.core.display.Javascript object>"
      ]
     },
     "metadata": {},
     "output_type": "display_data"
    }
   ],
   "source": [
    "# for index,col in enumerate(x_original.columns):\n",
    "#     print(col,x_original[col].dropna().shape[0])"
   ]
  },
  {
   "cell_type": "markdown",
   "metadata": {},
   "source": [
    "Prepare the data\n",
    "============"
   ]
  },
  {
   "cell_type": "code",
   "execution_count": 18,
   "metadata": {},
   "outputs": [
    {
     "name": "stdout",
     "output_type": "stream",
     "text": [
      "(461862, 17)\n"
     ]
    },
    {
     "data": {
      "application/javascript": [
       "\n",
       "            setTimeout(function() {\n",
       "                var nbb_cell_id = 18;\n",
       "                var nbb_formatted_code = \"data = pd.read_csv(\\\"../../sep19SexAndAgeAddedFINAL DATASET_ver2.txt\\\", sep=\\\",\\\")\\ndata[\\\"max\\\"] = np.min(data[[\\\"FIELD_6\\\", \\\"FIELD_7\\\"]], axis=1)\\ndata = data.drop(columns=[\\\"FIELD_6\\\", \\\"FIELD_7\\\"])\\n\\n# change field 38 to 3 group\\ncondtion = [\\n    data.FIELD_38 == 0,\\n    (data.FIELD_38 > 0) & (data.FIELD_38 < 4),\\n    data.FIELD_38 >= 4,\\n]\\nchoice = [0, 1, 2]\\ndata[\\\"FIELD_38_C\\\"] = np.select(condtion, choice, default=np.nan)\\n\\ndata = data[\\n    [\\n        \\\"L190300\\\",\\n        \\\"FIELD_29\\\",\\n        \\\"S000300\\\",\\n        \\\"FIELD_38\\\",\\n        \\\"AGE\\\",\\n        \\\"SEX\\\",\\n        \\\"L100700\\\",\\n        \\\"L100800\\\",\\n        \\\"FIELD_33\\\",\\n        \\\"FIELD_41\\\",\\n        \\\"FIELD_42\\\",\\n        \\\"L190500\\\",\\n        \\\"L101600\\\",\\n        \\\"L103100\\\",\\n        \\\"L103000\\\",\\n        \\\"S000501\\\",\\n    ]\\n]\\ndata = data.dropna().reset_index()\\n\\n# data=data[data.FIELD_15==0]\\n# data=data[data.FIELD_22==0]\\n# data=data[data.SEX==0]\\n# data=data[data.AGE < 40]\\n\\n# data = data.sample(100000, random_seed=42)\\n\\nprint(data.shape)\";\n",
       "                var nbb_cells = Jupyter.notebook.get_cells();\n",
       "                for (var i = 0; i < nbb_cells.length; ++i) {\n",
       "                    if (nbb_cells[i].input_prompt_number == nbb_cell_id) {\n",
       "                        nbb_cells[i].set_text(nbb_formatted_code);\n",
       "                        break;\n",
       "                    }\n",
       "                }\n",
       "            }, 500);\n",
       "            "
      ],
      "text/plain": [
       "<IPython.core.display.Javascript object>"
      ]
     },
     "metadata": {},
     "output_type": "display_data"
    }
   ],
   "source": [
    "data = pd.read_csv(\"../../sep19SexAndAgeAddedFINAL DATASET_ver2.txt\", sep=\",\")\n",
    "data[\"max\"] = np.min(data[[\"FIELD_6\", \"FIELD_7\"]], axis=1)\n",
    "data = data.drop(columns=[\"FIELD_6\", \"FIELD_7\"])\n",
    "\n",
    "# change field 38 to 3 group\n",
    "condtion = [\n",
    "    data.FIELD_38 == 0,\n",
    "    (data.FIELD_38 > 0) & (data.FIELD_38 < 4),\n",
    "    data.FIELD_38 >= 4,\n",
    "]\n",
    "choice = [0, 1, 2]\n",
    "data[\"FIELD_38_C\"] = np.select(condtion, choice, default=np.nan)\n",
    "\n",
    "data = data[\n",
    "    [\n",
    "        \"L190300\",\n",
    "        \"FIELD_29\",\n",
    "        \"S000300\",\n",
    "        \"FIELD_38\",\n",
    "        \"AGE\",\n",
    "        \"SEX\",\n",
    "        \"L100700\",\n",
    "        \"L100800\",\n",
    "        \"FIELD_33\",\n",
    "        \"FIELD_41\",\n",
    "        \"FIELD_42\",\n",
    "        \"L190500\",\n",
    "        \"L101600\",\n",
    "        \"L103100\",\n",
    "        \"L103000\",\n",
    "        \"S000501\",\n",
    "    ]\n",
    "]\n",
    "data = data.dropna().reset_index()\n",
    "\n",
    "# data=data[data.FIELD_15==0]\n",
    "# data=data[data.FIELD_22==0]\n",
    "# data=data[data.SEX==0]\n",
    "# data=data[data.AGE < 40]\n",
    "\n",
    "# data = data.sample(100000, random_seed=42)\n",
    "\n",
    "print(data.shape)"
   ]
  },
  {
   "cell_type": "code",
   "execution_count": 19,
   "metadata": {},
   "outputs": [
    {
     "name": "stdout",
     "output_type": "stream",
     "text": [
      "(461862, 17)\n",
      "Index(['index', 'L190300', 'FIELD_29', 'S000300', 'FIELD_38', 'AGE', 'SEX',\n",
      "       'L100700', 'L100800', 'FIELD_33', 'FIELD_41', 'FIELD_42', 'L190500',\n",
      "       'L101600', 'L103100', 'L103000', 'S000501'],\n",
      "      dtype='object')\n"
     ]
    },
    {
     "data": {
      "text/html": [
       "<div>\n",
       "<style scoped>\n",
       "    .dataframe tbody tr th:only-of-type {\n",
       "        vertical-align: middle;\n",
       "    }\n",
       "\n",
       "    .dataframe tbody tr th {\n",
       "        vertical-align: top;\n",
       "    }\n",
       "\n",
       "    .dataframe thead th {\n",
       "        text-align: right;\n",
       "    }\n",
       "</style>\n",
       "<table border=\"1\" class=\"dataframe\">\n",
       "  <thead>\n",
       "    <tr style=\"text-align: right;\">\n",
       "      <th></th>\n",
       "      <th>index</th>\n",
       "      <th>L190300</th>\n",
       "      <th>FIELD_29</th>\n",
       "      <th>S000300</th>\n",
       "      <th>FIELD_38</th>\n",
       "      <th>AGE</th>\n",
       "      <th>SEX</th>\n",
       "      <th>L100700</th>\n",
       "      <th>L100800</th>\n",
       "      <th>FIELD_33</th>\n",
       "      <th>FIELD_41</th>\n",
       "      <th>FIELD_42</th>\n",
       "      <th>L190500</th>\n",
       "      <th>L101600</th>\n",
       "      <th>L103100</th>\n",
       "      <th>L103000</th>\n",
       "      <th>S000501</th>\n",
       "    </tr>\n",
       "  </thead>\n",
       "  <tbody>\n",
       "    <tr>\n",
       "      <th>0</th>\n",
       "      <td>0</td>\n",
       "      <td>3.76</td>\n",
       "      <td>0.0</td>\n",
       "      <td>22.6</td>\n",
       "      <td>2.0</td>\n",
       "      <td>46.0</td>\n",
       "      <td>0.0</td>\n",
       "      <td>2.6</td>\n",
       "      <td>111.0</td>\n",
       "      <td>2.0</td>\n",
       "      <td>7.0</td>\n",
       "      <td>7.0</td>\n",
       "      <td>35.4</td>\n",
       "      <td>48.0</td>\n",
       "      <td>73.0</td>\n",
       "      <td>70.0</td>\n",
       "      <td>130.0</td>\n",
       "    </tr>\n",
       "    <tr>\n",
       "      <th>1</th>\n",
       "      <td>1</td>\n",
       "      <td>4.02</td>\n",
       "      <td>0.0</td>\n",
       "      <td>22.9</td>\n",
       "      <td>2.0</td>\n",
       "      <td>47.0</td>\n",
       "      <td>0.0</td>\n",
       "      <td>3.7</td>\n",
       "      <td>103.0</td>\n",
       "      <td>2.0</td>\n",
       "      <td>4.0</td>\n",
       "      <td>5.0</td>\n",
       "      <td>38.2</td>\n",
       "      <td>49.0</td>\n",
       "      <td>79.0</td>\n",
       "      <td>50.0</td>\n",
       "      <td>132.0</td>\n",
       "    </tr>\n",
       "    <tr>\n",
       "      <th>2</th>\n",
       "      <td>2</td>\n",
       "      <td>4.24</td>\n",
       "      <td>0.0</td>\n",
       "      <td>24.3</td>\n",
       "      <td>3.0</td>\n",
       "      <td>48.0</td>\n",
       "      <td>0.0</td>\n",
       "      <td>2.6</td>\n",
       "      <td>113.0</td>\n",
       "      <td>2.0</td>\n",
       "      <td>3.0</td>\n",
       "      <td>3.0</td>\n",
       "      <td>40.7</td>\n",
       "      <td>42.0</td>\n",
       "      <td>65.0</td>\n",
       "      <td>75.0</td>\n",
       "      <td>132.0</td>\n",
       "    </tr>\n",
       "    <tr>\n",
       "      <th>3</th>\n",
       "      <td>3</td>\n",
       "      <td>4.28</td>\n",
       "      <td>0.0</td>\n",
       "      <td>24.3</td>\n",
       "      <td>2.0</td>\n",
       "      <td>49.0</td>\n",
       "      <td>0.0</td>\n",
       "      <td>2.0</td>\n",
       "      <td>105.0</td>\n",
       "      <td>2.0</td>\n",
       "      <td>0.0</td>\n",
       "      <td>0.0</td>\n",
       "      <td>41.1</td>\n",
       "      <td>53.0</td>\n",
       "      <td>62.0</td>\n",
       "      <td>130.0</td>\n",
       "      <td>140.0</td>\n",
       "    </tr>\n",
       "    <tr>\n",
       "      <th>4</th>\n",
       "      <td>4</td>\n",
       "      <td>4.34</td>\n",
       "      <td>0.0</td>\n",
       "      <td>23.7</td>\n",
       "      <td>3.0</td>\n",
       "      <td>50.0</td>\n",
       "      <td>0.0</td>\n",
       "      <td>2.8</td>\n",
       "      <td>118.0</td>\n",
       "      <td>2.0</td>\n",
       "      <td>2.0</td>\n",
       "      <td>2.0</td>\n",
       "      <td>40.4</td>\n",
       "      <td>49.0</td>\n",
       "      <td>61.0</td>\n",
       "      <td>92.0</td>\n",
       "      <td>145.0</td>\n",
       "    </tr>\n",
       "  </tbody>\n",
       "</table>\n",
       "</div>"
      ],
      "text/plain": [
       "   index  L190300  FIELD_29  S000300  FIELD_38   AGE  SEX  L100700  L100800  \\\n",
       "0      0     3.76       0.0     22.6       2.0  46.0  0.0      2.6    111.0   \n",
       "1      1     4.02       0.0     22.9       2.0  47.0  0.0      3.7    103.0   \n",
       "2      2     4.24       0.0     24.3       3.0  48.0  0.0      2.6    113.0   \n",
       "3      3     4.28       0.0     24.3       2.0  49.0  0.0      2.0    105.0   \n",
       "4      4     4.34       0.0     23.7       3.0  50.0  0.0      2.8    118.0   \n",
       "\n",
       "   FIELD_33  FIELD_41  FIELD_42  L190500  L101600  L103100  L103000  S000501  \n",
       "0       2.0       7.0       7.0     35.4     48.0     73.0     70.0    130.0  \n",
       "1       2.0       4.0       5.0     38.2     49.0     79.0     50.0    132.0  \n",
       "2       2.0       3.0       3.0     40.7     42.0     65.0     75.0    132.0  \n",
       "3       2.0       0.0       0.0     41.1     53.0     62.0    130.0    140.0  \n",
       "4       2.0       2.0       2.0     40.4     49.0     61.0     92.0    145.0  "
      ]
     },
     "execution_count": 19,
     "metadata": {},
     "output_type": "execute_result"
    },
    {
     "data": {
      "application/javascript": [
       "\n",
       "            setTimeout(function() {\n",
       "                var nbb_cell_id = 19;\n",
       "                var nbb_formatted_code = \"print(data.shape)\\nprint(data.columns)\\ndata.head()\";\n",
       "                var nbb_cells = Jupyter.notebook.get_cells();\n",
       "                for (var i = 0; i < nbb_cells.length; ++i) {\n",
       "                    if (nbb_cells[i].input_prompt_number == nbb_cell_id) {\n",
       "                        nbb_cells[i].set_text(nbb_formatted_code);\n",
       "                        break;\n",
       "                    }\n",
       "                }\n",
       "            }, 500);\n",
       "            "
      ],
      "text/plain": [
       "<IPython.core.display.Javascript object>"
      ]
     },
     "metadata": {},
     "output_type": "display_data"
    }
   ],
   "source": [
    "print(data.shape)\n",
    "print(data.columns)\n",
    "data.head()"
   ]
  },
  {
   "cell_type": "code",
   "execution_count": 20,
   "metadata": {},
   "outputs": [
    {
     "data": {
      "application/javascript": [
       "\n",
       "            setTimeout(function() {\n",
       "                var nbb_cell_id = 20;\n",
       "                var nbb_formatted_code = \"x = data[\\n    [\\n        \\\"L190300\\\",\\n        \\\"FIELD_29\\\",\\n        \\\"S000300\\\",\\n        \\\"FIELD_38\\\",\\n        \\\"AGE\\\",\\n        \\\"SEX\\\",\\n        \\\"L100700\\\",\\n        \\\"L100800\\\",\\n        \\\"FIELD_33\\\",\\n        \\\"FIELD_41\\\",\\n        \\\"FIELD_42\\\",\\n        \\\"L190500\\\",\\n        \\\"L101600\\\",\\n        \\\"L103100\\\",\\n        \\\"L103000\\\",\\n    ]\\n]\\n\\ny = data[[\\\"S000501\\\"]]\";\n",
       "                var nbb_cells = Jupyter.notebook.get_cells();\n",
       "                for (var i = 0; i < nbb_cells.length; ++i) {\n",
       "                    if (nbb_cells[i].input_prompt_number == nbb_cell_id) {\n",
       "                        nbb_cells[i].set_text(nbb_formatted_code);\n",
       "                        break;\n",
       "                    }\n",
       "                }\n",
       "            }, 500);\n",
       "            "
      ],
      "text/plain": [
       "<IPython.core.display.Javascript object>"
      ]
     },
     "metadata": {},
     "output_type": "display_data"
    }
   ],
   "source": [
    "x = data[\n",
    "    [\n",
    "        \"L190300\",\n",
    "        \"FIELD_29\",\n",
    "        \"S000300\",\n",
    "        \"FIELD_38\",\n",
    "        \"AGE\",\n",
    "        \"SEX\",\n",
    "        \"L100700\",\n",
    "        \"L100800\",\n",
    "        \"FIELD_33\",\n",
    "        \"FIELD_41\",\n",
    "        \"FIELD_42\",\n",
    "        \"L190500\",\n",
    "        \"L101600\",\n",
    "        \"L103100\",\n",
    "        \"L103000\",\n",
    "    ]\n",
    "]\n",
    "\n",
    "y = data[[\"S000501\"]]"
   ]
  },
  {
   "cell_type": "code",
   "execution_count": 21,
   "metadata": {},
   "outputs": [
    {
     "data": {
      "application/javascript": [
       "\n",
       "            setTimeout(function() {\n",
       "                var nbb_cell_id = 21;\n",
       "                var nbb_formatted_code = \"from keras.layers import Layer\\nfrom keras import backend as K\\n\\n\\nclass RBFLayer(Layer):\\n    def __init__(self, units, gamma, **kwargs):\\n        super(RBFLayer, self).__init__(**kwargs)\\n        self.units = units\\n        self.gamma = K.cast_to_floatx(gamma)\\n\\n    def build(self, input_shape):\\n        self.mu = self.add_weight(\\n            name=\\\"mu\\\",\\n            shape=(int(input_shape[1]), self.units),\\n            initializer=\\\"uniform\\\",\\n            trainable=True,\\n        )\\n        super(RBFLayer, self).build(input_shape)\\n\\n    def call(self, inputs):\\n        diff = K.expand_dims(inputs) - self.mu\\n        l2 = K.sum(K.pow(diff, 2), axis=1)\\n        res = K.exp(-1 * self.gamma * l2)\\n        return res\\n\\n    def compute_output_shape(self, input_shape):\\n        return (input_shape[0], self.units)\";\n",
       "                var nbb_cells = Jupyter.notebook.get_cells();\n",
       "                for (var i = 0; i < nbb_cells.length; ++i) {\n",
       "                    if (nbb_cells[i].input_prompt_number == nbb_cell_id) {\n",
       "                        nbb_cells[i].set_text(nbb_formatted_code);\n",
       "                        break;\n",
       "                    }\n",
       "                }\n",
       "            }, 500);\n",
       "            "
      ],
      "text/plain": [
       "<IPython.core.display.Javascript object>"
      ]
     },
     "metadata": {},
     "output_type": "display_data"
    }
   ],
   "source": [
    "from keras.layers import Layer\n",
    "from keras import backend as K\n",
    "\n",
    "\n",
    "class RBFLayer(Layer):\n",
    "    def __init__(self, units, gamma, **kwargs):\n",
    "        super(RBFLayer, self).__init__(**kwargs)\n",
    "        self.units = units\n",
    "        self.gamma = K.cast_to_floatx(gamma)\n",
    "\n",
    "    def build(self, input_shape):\n",
    "        self.mu = self.add_weight(\n",
    "            name=\"mu\",\n",
    "            shape=(int(input_shape[1]), self.units),\n",
    "            initializer=\"uniform\",\n",
    "            trainable=True,\n",
    "        )\n",
    "        super(RBFLayer, self).build(input_shape)\n",
    "\n",
    "    def call(self, inputs):\n",
    "        diff = K.expand_dims(inputs) - self.mu\n",
    "        l2 = K.sum(K.pow(diff, 2), axis=1)\n",
    "        res = K.exp(-1 * self.gamma * l2)\n",
    "        return res\n",
    "\n",
    "    def compute_output_shape(self, input_shape):\n",
    "        return (input_shape[0], self.units)"
   ]
  },
  {
   "cell_type": "markdown",
   "metadata": {},
   "source": [
    "Apply PCA\n",
    "==========="
   ]
  },
  {
   "cell_type": "code",
   "execution_count": 22,
   "metadata": {},
   "outputs": [
    {
     "data": {
      "application/javascript": [
       "\n",
       "            setTimeout(function() {\n",
       "                var nbb_cell_id = 22;\n",
       "                var nbb_formatted_code = \"# from sklearn.decomposition import PCA\\n# pca = PCA(n_components=8)\\n# pca.fit(x)\\n\\n# print(pca.explained_variance_ratio_)\\n# print(np.sum(pca.explained_variance_ratio_))\\n\\n# x=pca.fit_transform(x)\\n# print(x.shape)\";\n",
       "                var nbb_cells = Jupyter.notebook.get_cells();\n",
       "                for (var i = 0; i < nbb_cells.length; ++i) {\n",
       "                    if (nbb_cells[i].input_prompt_number == nbb_cell_id) {\n",
       "                        nbb_cells[i].set_text(nbb_formatted_code);\n",
       "                        break;\n",
       "                    }\n",
       "                }\n",
       "            }, 500);\n",
       "            "
      ],
      "text/plain": [
       "<IPython.core.display.Javascript object>"
      ]
     },
     "metadata": {},
     "output_type": "display_data"
    }
   ],
   "source": [
    "# from sklearn.decomposition import PCA\n",
    "# pca = PCA(n_components=8)\n",
    "# pca.fit(x)\n",
    "\n",
    "# print(pca.explained_variance_ratio_)\n",
    "# print(np.sum(pca.explained_variance_ratio_))\n",
    "\n",
    "# x=pca.fit_transform(x)\n",
    "# print(x.shape)"
   ]
  },
  {
   "cell_type": "markdown",
   "metadata": {},
   "source": [
    "feature scaling\n",
    "======="
   ]
  },
  {
   "cell_type": "code",
   "execution_count": 23,
   "metadata": {},
   "outputs": [
    {
     "data": {
      "application/javascript": [
       "\n",
       "            setTimeout(function() {\n",
       "                var nbb_cell_id = 23;\n",
       "                var nbb_formatted_code = \"# from sklearn import preprocessing\\n# min_max_scaler = preprocessing.MinMaxScaler()  #StandardScaler()\\n# x = min_max_scaler.fit_transform(x)\";\n",
       "                var nbb_cells = Jupyter.notebook.get_cells();\n",
       "                for (var i = 0; i < nbb_cells.length; ++i) {\n",
       "                    if (nbb_cells[i].input_prompt_number == nbb_cell_id) {\n",
       "                        nbb_cells[i].set_text(nbb_formatted_code);\n",
       "                        break;\n",
       "                    }\n",
       "                }\n",
       "            }, 500);\n",
       "            "
      ],
      "text/plain": [
       "<IPython.core.display.Javascript object>"
      ]
     },
     "metadata": {},
     "output_type": "display_data"
    }
   ],
   "source": [
    "# from sklearn import preprocessing\n",
    "# min_max_scaler = preprocessing.MinMaxScaler()  #StandardScaler()\n",
    "# x = min_max_scaler.fit_transform(x)"
   ]
  },
  {
   "cell_type": "markdown",
   "metadata": {},
   "source": [
    "clustring test\n",
    "=========="
   ]
  },
  {
   "cell_type": "code",
   "execution_count": 24,
   "metadata": {},
   "outputs": [
    {
     "data": {
      "application/javascript": [
       "\n",
       "            setTimeout(function() {\n",
       "                var nbb_cell_id = 24;\n",
       "                var nbb_formatted_code = \"from sklearn.cluster import KMeans\\nfrom scipy.spatial.distance import cdist\\n\\n# K = range(1, 20)\\n# distortions = []\\n\\n# for k in K:\\n#     kmeanModel = KMeans(n_clusters=k).fit(x)\\n#     kmeanModel.fit(x)\\n#     distortions.append(\\n#         sum(np.min(cdist(x, kmeanModel.cluster_centers_, \\\"euclidean\\\"), axis=1))\\n#         / x.shape[0]\\n#     )\\n#     print(k)\\n\\n# # Plot the elbow\\n# plt.plot(K, distortions, \\\"bx-\\\")\\n# plt.xlabel(\\\"k\\\")\\n# plt.ylabel(\\\"Distortion\\\")\\n# plt.title(\\\"The Elbow Method showing the optimal k\\\")\\n# plt.show()\";\n",
       "                var nbb_cells = Jupyter.notebook.get_cells();\n",
       "                for (var i = 0; i < nbb_cells.length; ++i) {\n",
       "                    if (nbb_cells[i].input_prompt_number == nbb_cell_id) {\n",
       "                        nbb_cells[i].set_text(nbb_formatted_code);\n",
       "                        break;\n",
       "                    }\n",
       "                }\n",
       "            }, 500);\n",
       "            "
      ],
      "text/plain": [
       "<IPython.core.display.Javascript object>"
      ]
     },
     "metadata": {},
     "output_type": "display_data"
    }
   ],
   "source": [
    "from sklearn.cluster import KMeans\n",
    "from scipy.spatial.distance import cdist\n",
    "\n",
    "# K = range(1, 20)\n",
    "# distortions = []\n",
    "\n",
    "# for k in K:\n",
    "#     kmeanModel = KMeans(n_clusters=k).fit(x)\n",
    "#     kmeanModel.fit(x)\n",
    "#     distortions.append(\n",
    "#         sum(np.min(cdist(x, kmeanModel.cluster_centers_, \"euclidean\"), axis=1))\n",
    "#         / x.shape[0]\n",
    "#     )\n",
    "#     print(k)\n",
    "\n",
    "# # Plot the elbow\n",
    "# plt.plot(K, distortions, \"bx-\")\n",
    "# plt.xlabel(\"k\")\n",
    "# plt.ylabel(\"Distortion\")\n",
    "# plt.title(\"The Elbow Method showing the optimal k\")\n",
    "# plt.show()"
   ]
  },
  {
   "cell_type": "code",
   "execution_count": 25,
   "metadata": {},
   "outputs": [
    {
     "ename": "KeyboardInterrupt",
     "evalue": "",
     "output_type": "error",
     "traceback": [
      "\u001b[1;31m---------------------------------------------------------------------------\u001b[0m",
      "\u001b[1;31mKeyboardInterrupt\u001b[0m                         Traceback (most recent call last)",
      "\u001b[1;32m<ipython-input-25-d4a08da8ef37>\u001b[0m in \u001b[0;36m<module>\u001b[1;34m\u001b[0m\n\u001b[1;32m----> 1\u001b[1;33m \u001b[0mkmeanModel\u001b[0m \u001b[1;33m=\u001b[0m \u001b[0mKMeans\u001b[0m\u001b[1;33m(\u001b[0m\u001b[0mn_clusters\u001b[0m\u001b[1;33m=\u001b[0m\u001b[1;36m10\u001b[0m\u001b[1;33m)\u001b[0m\u001b[1;33m.\u001b[0m\u001b[0mfit\u001b[0m\u001b[1;33m(\u001b[0m\u001b[0mx\u001b[0m\u001b[1;33m)\u001b[0m\u001b[1;33m\u001b[0m\u001b[1;33m\u001b[0m\u001b[0m\n\u001b[0m\u001b[0;32m      2\u001b[0m \u001b[0mx\u001b[0m\u001b[1;33m[\u001b[0m\u001b[1;34m\"lbl\"\u001b[0m\u001b[1;33m]\u001b[0m \u001b[1;33m=\u001b[0m \u001b[0mkmeanModel\u001b[0m\u001b[1;33m.\u001b[0m\u001b[0mlabels_\u001b[0m\u001b[1;33m\u001b[0m\u001b[1;33m\u001b[0m\u001b[0m\n",
      "\u001b[1;32mC:\\ProgramData\\Anaconda3\\lib\\site-packages\\sklearn\\cluster\\k_means_.py\u001b[0m in \u001b[0;36mfit\u001b[1;34m(self, X, y, sample_weight)\u001b[0m\n\u001b[0;32m    967\u001b[0m                 \u001b[0mtol\u001b[0m\u001b[1;33m=\u001b[0m\u001b[0mself\u001b[0m\u001b[1;33m.\u001b[0m\u001b[0mtol\u001b[0m\u001b[1;33m,\u001b[0m \u001b[0mrandom_state\u001b[0m\u001b[1;33m=\u001b[0m\u001b[0mrandom_state\u001b[0m\u001b[1;33m,\u001b[0m \u001b[0mcopy_x\u001b[0m\u001b[1;33m=\u001b[0m\u001b[0mself\u001b[0m\u001b[1;33m.\u001b[0m\u001b[0mcopy_x\u001b[0m\u001b[1;33m,\u001b[0m\u001b[1;33m\u001b[0m\u001b[1;33m\u001b[0m\u001b[0m\n\u001b[0;32m    968\u001b[0m                 \u001b[0mn_jobs\u001b[0m\u001b[1;33m=\u001b[0m\u001b[0mself\u001b[0m\u001b[1;33m.\u001b[0m\u001b[0mn_jobs\u001b[0m\u001b[1;33m,\u001b[0m \u001b[0malgorithm\u001b[0m\u001b[1;33m=\u001b[0m\u001b[0mself\u001b[0m\u001b[1;33m.\u001b[0m\u001b[0malgorithm\u001b[0m\u001b[1;33m,\u001b[0m\u001b[1;33m\u001b[0m\u001b[1;33m\u001b[0m\u001b[0m\n\u001b[1;32m--> 969\u001b[1;33m                 return_n_iter=True)\n\u001b[0m\u001b[0;32m    970\u001b[0m         \u001b[1;32mreturn\u001b[0m \u001b[0mself\u001b[0m\u001b[1;33m\u001b[0m\u001b[1;33m\u001b[0m\u001b[0m\n\u001b[0;32m    971\u001b[0m \u001b[1;33m\u001b[0m\u001b[0m\n",
      "\u001b[1;32mC:\\ProgramData\\Anaconda3\\lib\\site-packages\\sklearn\\cluster\\k_means_.py\u001b[0m in \u001b[0;36mk_means\u001b[1;34m(X, n_clusters, sample_weight, init, precompute_distances, n_init, max_iter, verbose, tol, random_state, copy_x, n_jobs, algorithm, return_n_iter)\u001b[0m\n\u001b[0;32m    376\u001b[0m                 \u001b[0mverbose\u001b[0m\u001b[1;33m=\u001b[0m\u001b[0mverbose\u001b[0m\u001b[1;33m,\u001b[0m \u001b[0mprecompute_distances\u001b[0m\u001b[1;33m=\u001b[0m\u001b[0mprecompute_distances\u001b[0m\u001b[1;33m,\u001b[0m\u001b[1;33m\u001b[0m\u001b[1;33m\u001b[0m\u001b[0m\n\u001b[0;32m    377\u001b[0m                 \u001b[0mtol\u001b[0m\u001b[1;33m=\u001b[0m\u001b[0mtol\u001b[0m\u001b[1;33m,\u001b[0m \u001b[0mx_squared_norms\u001b[0m\u001b[1;33m=\u001b[0m\u001b[0mx_squared_norms\u001b[0m\u001b[1;33m,\u001b[0m\u001b[1;33m\u001b[0m\u001b[1;33m\u001b[0m\u001b[0m\n\u001b[1;32m--> 378\u001b[1;33m                 random_state=random_state)\n\u001b[0m\u001b[0;32m    379\u001b[0m             \u001b[1;31m# determine if these results are the best so far\u001b[0m\u001b[1;33m\u001b[0m\u001b[1;33m\u001b[0m\u001b[1;33m\u001b[0m\u001b[0m\n\u001b[0;32m    380\u001b[0m             \u001b[1;32mif\u001b[0m \u001b[0mbest_inertia\u001b[0m \u001b[1;32mis\u001b[0m \u001b[1;32mNone\u001b[0m \u001b[1;32mor\u001b[0m \u001b[0minertia\u001b[0m \u001b[1;33m<\u001b[0m \u001b[0mbest_inertia\u001b[0m\u001b[1;33m:\u001b[0m\u001b[1;33m\u001b[0m\u001b[1;33m\u001b[0m\u001b[0m\n",
      "\u001b[1;32mC:\\ProgramData\\Anaconda3\\lib\\site-packages\\sklearn\\cluster\\k_means_.py\u001b[0m in \u001b[0;36m_kmeans_single_elkan\u001b[1;34m(X, sample_weight, n_clusters, max_iter, init, verbose, x_squared_norms, random_state, tol, precompute_distances)\u001b[0m\n\u001b[0;32m    440\u001b[0m     centers, labels, n_iter = k_means_elkan(X, checked_sample_weight,\n\u001b[0;32m    441\u001b[0m                                             \u001b[0mn_clusters\u001b[0m\u001b[1;33m,\u001b[0m \u001b[0mcenters\u001b[0m\u001b[1;33m,\u001b[0m \u001b[0mtol\u001b[0m\u001b[1;33m=\u001b[0m\u001b[0mtol\u001b[0m\u001b[1;33m,\u001b[0m\u001b[1;33m\u001b[0m\u001b[1;33m\u001b[0m\u001b[0m\n\u001b[1;32m--> 442\u001b[1;33m                                             max_iter=max_iter, verbose=verbose)\n\u001b[0m\u001b[0;32m    443\u001b[0m     \u001b[1;32mif\u001b[0m \u001b[0msample_weight\u001b[0m \u001b[1;32mis\u001b[0m \u001b[1;32mNone\u001b[0m\u001b[1;33m:\u001b[0m\u001b[1;33m\u001b[0m\u001b[1;33m\u001b[0m\u001b[0m\n\u001b[0;32m    444\u001b[0m         \u001b[0minertia\u001b[0m \u001b[1;33m=\u001b[0m \u001b[0mnp\u001b[0m\u001b[1;33m.\u001b[0m\u001b[0msum\u001b[0m\u001b[1;33m(\u001b[0m\u001b[1;33m(\u001b[0m\u001b[0mX\u001b[0m \u001b[1;33m-\u001b[0m \u001b[0mcenters\u001b[0m\u001b[1;33m[\u001b[0m\u001b[0mlabels\u001b[0m\u001b[1;33m]\u001b[0m\u001b[1;33m)\u001b[0m \u001b[1;33m**\u001b[0m \u001b[1;36m2\u001b[0m\u001b[1;33m,\u001b[0m \u001b[0mdtype\u001b[0m\u001b[1;33m=\u001b[0m\u001b[0mnp\u001b[0m\u001b[1;33m.\u001b[0m\u001b[0mfloat64\u001b[0m\u001b[1;33m)\u001b[0m\u001b[1;33m\u001b[0m\u001b[1;33m\u001b[0m\u001b[0m\n",
      "\u001b[1;32msklearn\\cluster\\_k_means_elkan.pyx\u001b[0m in \u001b[0;36msklearn.cluster._k_means_elkan.k_means_elkan\u001b[1;34m()\u001b[0m\n",
      "\u001b[1;32mC:\\ProgramData\\Anaconda3\\lib\\site-packages\\sklearn\\metrics\\pairwise.py\u001b[0m in \u001b[0;36meuclidean_distances\u001b[1;34m(X, Y, Y_norm_squared, squared, X_norm_squared)\u001b[0m\n\u001b[0;32m    163\u001b[0m \u001b[1;33m\u001b[0m\u001b[0m\n\u001b[0;32m    164\u001b[0m \u001b[1;31m# Pairwise distances\u001b[0m\u001b[1;33m\u001b[0m\u001b[1;33m\u001b[0m\u001b[1;33m\u001b[0m\u001b[0m\n\u001b[1;32m--> 165\u001b[1;33m def euclidean_distances(X, Y=None, Y_norm_squared=None, squared=False,\n\u001b[0m\u001b[0;32m    166\u001b[0m                         X_norm_squared=None):\n\u001b[0;32m    167\u001b[0m     \"\"\"\n",
      "\u001b[1;31mKeyboardInterrupt\u001b[0m: "
     ]
    },
    {
     "data": {
      "application/javascript": [
       "\n",
       "            setTimeout(function() {\n",
       "                var nbb_cell_id = 25;\n",
       "                var nbb_formatted_code = \"kmeanModel = KMeans(n_clusters=10).fit(x)\\nx[\\\"lbl\\\"] = kmeanModel.labels_\";\n",
       "                var nbb_cells = Jupyter.notebook.get_cells();\n",
       "                for (var i = 0; i < nbb_cells.length; ++i) {\n",
       "                    if (nbb_cells[i].input_prompt_number == nbb_cell_id) {\n",
       "                        nbb_cells[i].set_text(nbb_formatted_code);\n",
       "                        break;\n",
       "                    }\n",
       "                }\n",
       "            }, 500);\n",
       "            "
      ],
      "text/plain": [
       "<IPython.core.display.Javascript object>"
      ]
     },
     "metadata": {},
     "output_type": "display_data"
    }
   ],
   "source": [
    "kmeanModel = KMeans(n_clusters=10).fit(x)\n",
    "x[\"lbl\"] = kmeanModel.labels_"
   ]
  },
  {
   "cell_type": "markdown",
   "metadata": {},
   "source": [
    "Random Forest Regressor\n",
    "============="
   ]
  },
  {
   "cell_type": "code",
   "execution_count": null,
   "metadata": {},
   "outputs": [],
   "source": [
    "ylable = y[[\"S000501\"]]\n",
    "xtrain, xtest, ytrain, ytest = train_test_split(\n",
    "    x, ylable, random_state=42, test_size=0.3\n",
    ")"
   ]
  },
  {
   "cell_type": "code",
   "execution_count": null,
   "metadata": {},
   "outputs": [],
   "source": [
    "from sklearn.ensemble import RandomForestRegressor\n",
    "\n",
    "regr = RandomForestRegressor(max_depth=7, random_state=0, verbose=0, n_estimators=100)\n",
    "regr.fit(xtrain, ytrain)\n",
    "print(regr.feature_importances_)\n",
    "ypred = regr.predict(xtest)"
   ]
  },
  {
   "cell_type": "code",
   "execution_count": null,
   "metadata": {},
   "outputs": [],
   "source": [
    "h = model.fit(xtrain, ytrain, validation_split=0.2, epochs=100, batch_size=10000)"
   ]
  },
  {
   "cell_type": "code",
   "execution_count": 33,
   "metadata": {},
   "outputs": [
    {
     "name": "stdout",
     "output_type": "stream",
     "text": [
      "< 5  34.715175484811525\n",
      "< 10  64.06440577660058\n",
      "< 15  83.82061071456924\n",
      "< 20  93.99245086930478\n",
      "< 25  97.88537734827763\n",
      "< 30  99.24075664518364\n"
     ]
    },
    {
     "data": {
      "application/javascript": [
       "\n",
       "            setTimeout(function() {\n",
       "                var nbb_cell_id = 33;\n",
       "                var nbb_formatted_code = \"ypredPD[\\\"diff\\\"] = abs(ypredPD[\\\"t + 1\\\"] - ypredPD[\\\"pred (t +1)\\\"])\\nprint(\\\"< 5 \\\", 100 * ypredPD[ypredPD[\\\"diff\\\"] < 5].shape[0] / ypredPD.shape[0])\\nprint(\\\"< 10 \\\", 100 * ypredPD[ypredPD[\\\"diff\\\"] < 10].shape[0] / ypredPD.shape[0])\\nprint(\\\"< 15 \\\", 100 * ypredPD[ypredPD[\\\"diff\\\"] < 15].shape[0] / ypredPD.shape[0])\\nprint(\\\"< 20 \\\", 100 * ypredPD[ypredPD[\\\"diff\\\"] < 20].shape[0] / ypredPD.shape[0])\\nprint(\\\"< 25 \\\", 100 * ypredPD[ypredPD[\\\"diff\\\"] < 25].shape[0] / ypredPD.shape[0])\\nprint(\\\"< 30 \\\", 100 * ypredPD[ypredPD[\\\"diff\\\"] < 30].shape[0] / ypredPD.shape[0])\";\n",
       "                var nbb_cells = Jupyter.notebook.get_cells();\n",
       "                for (var i = 0; i < nbb_cells.length; ++i) {\n",
       "                    if (nbb_cells[i].input_prompt_number == nbb_cell_id) {\n",
       "                        nbb_cells[i].set_text(nbb_formatted_code);\n",
       "                        break;\n",
       "                    }\n",
       "                }\n",
       "            }, 500);\n",
       "            "
      ],
      "text/plain": [
       "<IPython.core.display.Javascript object>"
      ]
     },
     "metadata": {},
     "output_type": "display_data"
    }
   ],
   "source": [
    "ypredPD[\"diff\"] = abs(ypredPD[\"t + 1\"] - ypredPD[\"pred (t +1)\"])\n",
    "print(np.mean(ypredPD[\"diff\"]))\n",
    "print(np.std(ypredPD[\"diff\"]))\n",
    "print(100 * ypredPD[ypredPD[\"diff\"] <= 5].shape[0] / ypredPD.shape[0])"
   ]
  },
  {
   "cell_type": "code",
   "execution_count": 32,
   "metadata": {},
   "outputs": [
    {
     "data": {
      "application/javascript": [
       "\n",
       "            setTimeout(function() {\n",
       "                var nbb_cell_id = 32;\n",
       "                var nbb_formatted_code = \"xtest.to_csv(\\\"xtest.txt\\\", sep=\\\",\\\")\\nytest.to_csv(\\\"ytest.txt\\\", sep=\\\",\\\")\\n\\nxtrain.to_csv(\\\"xtrain.txt\\\", sep=\\\",\\\")\\nytrain.to_csv(\\\"ytrain.txt\\\", sep=\\\",\\\")\\n\\npd.DataFrame(ypred).to_csv(\\\"ypred_s000501.txt\\\", sep=\\\",\\\")\";\n",
       "                var nbb_cells = Jupyter.notebook.get_cells();\n",
       "                for (var i = 0; i < nbb_cells.length; ++i) {\n",
       "                    if (nbb_cells[i].input_prompt_number == nbb_cell_id) {\n",
       "                        nbb_cells[i].set_text(nbb_formatted_code);\n",
       "                        break;\n",
       "                    }\n",
       "                }\n",
       "            }, 500);\n",
       "            "
      ],
      "text/plain": [
       "<IPython.core.display.Javascript object>"
      ]
     },
     "metadata": {},
     "output_type": "display_data"
    }
   ],
   "source": [
    "history = h\n",
    "print(history.history.keys())\n",
    "# summarize history for accuracy\n",
    "plt.plot(history.history[\"val_loss\"])\n",
    "plt.plot(history.history[\"loss\"])\n",
    "plt.title(\"model accuracy\")\n",
    "plt.ylabel(\"accuracy\")\n",
    "plt.xlabel(\"epoch\")\n",
    "plt.legend([\"train\", \"test\"], loc=\"upper left\")\n",
    "plt.show()\n",
    "# summarize history for loss\n",
    "plt.plot(history.history[\"val_mean_squared_error\"])\n",
    "plt.plot(history.history[\"mean_squared_error\"])\n",
    "plt.title(\"model loss\")\n",
    "plt.ylabel(\"loss\")\n",
    "plt.xlabel(\"epoch\")\n",
    "plt.legend([\"train\", \"test\"], loc=\"upper left\")\n",
    "plt.show()"
   ]
  },
  {
   "cell_type": "markdown",
   "metadata": {},
   "source": [
    "xg boost\n",
    "=========="
   ]
  },
  {
   "cell_type": "code",
   "execution_count": 25,
   "metadata": {},
   "outputs": [
    {
     "data": {
      "text/plain": [
       "XGBRegressor(base_score=0.5, booster='gbtree', colsample_bylevel=1,\n",
       "             colsample_bynode=1, colsample_bytree=1, gamma=0,\n",
       "             importance_type='gain', learning_rate=0.1, max_delta_step=0,\n",
       "             max_depth=3, min_child_weight=1, missing=None, n_estimators=100,\n",
       "             n_jobs=1, nthread=None, objective='reg:squarederror',\n",
       "             random_state=0, reg_alpha=0, reg_lambda=1, scale_pos_weight=1,\n",
       "             seed=None, silent=None, subsample=1, verbosity=1)"
      ]
     },
     "execution_count": 25,
     "metadata": {},
     "output_type": "execute_result"
    },
    {
     "data": {
      "application/javascript": [
       "\n",
       "            setTimeout(function() {\n",
       "                var nbb_cell_id = 25;\n",
       "                var nbb_formatted_code = \"import xgboost as xgb\\n\\nxg_reg = xgb.XGBRegressor(objective=\\\"reg:squarederror\\\")\\n# xg_reg = xgb.XGBRegressor(objective ='reg:linear', colsample_bytree = 0.3,\\n#                           learning_rate = 0.1,max_depth = 5, alpha = 10, n_estimators = 10)\\nxg_reg.fit(xtrain, ytrain)\";\n",
       "                var nbb_cells = Jupyter.notebook.get_cells();\n",
       "                for (var i = 0; i < nbb_cells.length; ++i) {\n",
       "                    if (nbb_cells[i].input_prompt_number == nbb_cell_id) {\n",
       "                        nbb_cells[i].set_text(nbb_formatted_code);\n",
       "                        break;\n",
       "                    }\n",
       "                }\n",
       "            }, 500);\n",
       "            "
      ],
      "text/plain": [
       "<IPython.core.display.Javascript object>"
      ]
     },
     "metadata": {},
     "output_type": "display_data"
    }
   ],
   "source": [
    "import xgboost as xgb\n",
    "\n",
    "xg_reg = xgb.XGBRegressor(objective=\"reg:squarederror\")\n",
    "# xg_reg = xgb.XGBRegressor(objective ='reg:linear', colsample_bytree = 0.3,\n",
    "#                           learning_rate = 0.1,max_depth = 5, alpha = 10, n_estimators = 10)\n",
    "xg_reg.fit(xtrain, ytrain)"
   ]
  },
  {
   "cell_type": "code",
   "execution_count": 26,
   "metadata": {},
   "outputs": [
    {
     "name": "stdout",
     "output_type": "stream",
     "text": [
      "mean_squared_error 116.63587435978897\n",
      "root mean_squared_error 10.79980899644938\n",
      "mean_absolute_error 8.585266472810057\n",
      "r2_score 0.3123438277632288\n"
     ]
    },
    {
     "data": {
      "text/html": [
       "<div>\n",
       "<style scoped>\n",
       "    .dataframe tbody tr th:only-of-type {\n",
       "        vertical-align: middle;\n",
       "    }\n",
       "\n",
       "    .dataframe tbody tr th {\n",
       "        vertical-align: top;\n",
       "    }\n",
       "\n",
       "    .dataframe thead th {\n",
       "        text-align: right;\n",
       "    }\n",
       "</style>\n",
       "<table border=\"1\" class=\"dataframe\">\n",
       "  <thead>\n",
       "    <tr style=\"text-align: right;\">\n",
       "      <th></th>\n",
       "      <th>t + 1</th>\n",
       "      <th>pred (t +1)</th>\n",
       "    </tr>\n",
       "  </thead>\n",
       "  <tbody>\n",
       "    <tr>\n",
       "      <th>0</th>\n",
       "      <td>136.0</td>\n",
       "      <td>123.149788</td>\n",
       "    </tr>\n",
       "    <tr>\n",
       "      <th>1</th>\n",
       "      <td>136.0</td>\n",
       "      <td>121.850365</td>\n",
       "    </tr>\n",
       "    <tr>\n",
       "      <th>2</th>\n",
       "      <td>135.0</td>\n",
       "      <td>121.060188</td>\n",
       "    </tr>\n",
       "    <tr>\n",
       "      <th>3</th>\n",
       "      <td>140.0</td>\n",
       "      <td>126.918518</td>\n",
       "    </tr>\n",
       "    <tr>\n",
       "      <th>4</th>\n",
       "      <td>135.0</td>\n",
       "      <td>125.889702</td>\n",
       "    </tr>\n",
       "    <tr>\n",
       "      <th>5</th>\n",
       "      <td>120.0</td>\n",
       "      <td>120.697990</td>\n",
       "    </tr>\n",
       "    <tr>\n",
       "      <th>6</th>\n",
       "      <td>121.0</td>\n",
       "      <td>125.196861</td>\n",
       "    </tr>\n",
       "    <tr>\n",
       "      <th>7</th>\n",
       "      <td>126.0</td>\n",
       "      <td>116.606316</td>\n",
       "    </tr>\n",
       "    <tr>\n",
       "      <th>8</th>\n",
       "      <td>104.0</td>\n",
       "      <td>105.542007</td>\n",
       "    </tr>\n",
       "    <tr>\n",
       "      <th>9</th>\n",
       "      <td>119.0</td>\n",
       "      <td>109.400848</td>\n",
       "    </tr>\n",
       "  </tbody>\n",
       "</table>\n",
       "</div>"
      ],
      "text/plain": [
       "   t + 1  pred (t +1)\n",
       "0  136.0   123.149788\n",
       "1  136.0   121.850365\n",
       "2  135.0   121.060188\n",
       "3  140.0   126.918518\n",
       "4  135.0   125.889702\n",
       "5  120.0   120.697990\n",
       "6  121.0   125.196861\n",
       "7  126.0   116.606316\n",
       "8  104.0   105.542007\n",
       "9  119.0   109.400848"
      ]
     },
     "execution_count": 26,
     "metadata": {},
     "output_type": "execute_result"
    },
    {
     "data": {
      "application/javascript": [
       "\n",
       "            setTimeout(function() {\n",
       "                var nbb_cell_id = 26;\n",
       "                var nbb_formatted_code = \"ypred = xg_reg.predict(xtest)\\n\\nprint(\\\"mean_squared_error\\\", m.mean_squared_error(ytest, ypred))\\nprint(\\\"root mean_squared_error\\\", math.sqrt(m.mean_squared_error(ytest, ypred)))\\nprint(\\\"mean_absolute_error\\\", m.mean_absolute_error(ytest, ypred))\\nprint(\\\"r2_score\\\", m.r2_score(ytest, ypred))\\n\\nypredPD = pd.DataFrame()\\nypredPD[\\\"t + 1\\\"] = ytest.values.ravel()\\nypredPD[\\\"pred (t +1)\\\"] = ypred\\nypredPD.head(10)\";\n",
       "                var nbb_cells = Jupyter.notebook.get_cells();\n",
       "                for (var i = 0; i < nbb_cells.length; ++i) {\n",
       "                    if (nbb_cells[i].input_prompt_number == nbb_cell_id) {\n",
       "                        nbb_cells[i].set_text(nbb_formatted_code);\n",
       "                        break;\n",
       "                    }\n",
       "                }\n",
       "            }, 500);\n",
       "            "
      ],
      "text/plain": [
       "<IPython.core.display.Javascript object>"
      ]
     },
     "metadata": {},
     "output_type": "display_data"
    }
   ],
   "source": [
    "ypred = xg_reg.predict(xtest)\n",
    "\n",
    "print(\"mean_squared_error\", m.mean_squared_error(ytest, ypred))\n",
    "print(\"root mean_squared_error\", math.sqrt(m.mean_squared_error(ytest, ypred)))\n",
    "print(\"mean_absolute_error\", m.mean_absolute_error(ytest, ypred))\n",
    "print(\"r2_score\", m.r2_score(ytest, ypred))\n",
    "\n",
    "ypredPD = pd.DataFrame()\n",
    "ypredPD[\"t + 1\"] = ytest.values.ravel()\n",
    "ypredPD[\"pred (t +1)\"] = ypred\n",
    "ypredPD.head(10)"
   ]
  },
  {
   "cell_type": "code",
   "execution_count": 27,
   "metadata": {},
   "outputs": [
    {
     "name": "stdout",
     "output_type": "stream",
     "text": [
      "< 5  35.210505234213464\n",
      "< 10  64.77325625453325\n",
      "< 15  84.44242365193293\n",
      "< 20  94.269970662423\n",
      "< 25  97.96585582367142\n",
      "< 30  99.28875320710597\n"
     ]
    },
    {
     "data": {
      "application/javascript": [
       "\n",
       "            setTimeout(function() {\n",
       "                var nbb_cell_id = 27;\n",
       "                var nbb_formatted_code = \"ypredPD[\\\"diff\\\"] = abs(ypredPD[\\\"t + 1\\\"] - ypredPD[\\\"pred (t +1)\\\"])\\nprint(\\\"< 5 \\\", 100 * ypredPD[ypredPD[\\\"diff\\\"] < 5].shape[0] / ypredPD.shape[0])\\nprint(\\\"< 10 \\\", 100 * ypredPD[ypredPD[\\\"diff\\\"] < 10].shape[0] / ypredPD.shape[0])\\nprint(\\\"< 15 \\\", 100 * ypredPD[ypredPD[\\\"diff\\\"] < 15].shape[0] / ypredPD.shape[0])\\nprint(\\\"< 20 \\\", 100 * ypredPD[ypredPD[\\\"diff\\\"] < 20].shape[0] / ypredPD.shape[0])\\nprint(\\\"< 25 \\\", 100 * ypredPD[ypredPD[\\\"diff\\\"] < 25].shape[0] / ypredPD.shape[0])\\nprint(\\\"< 30 \\\", 100 * ypredPD[ypredPD[\\\"diff\\\"] < 30].shape[0] / ypredPD.shape[0])\";\n",
       "                var nbb_cells = Jupyter.notebook.get_cells();\n",
       "                for (var i = 0; i < nbb_cells.length; ++i) {\n",
       "                    if (nbb_cells[i].input_prompt_number == nbb_cell_id) {\n",
       "                        nbb_cells[i].set_text(nbb_formatted_code);\n",
       "                        break;\n",
       "                    }\n",
       "                }\n",
       "            }, 500);\n",
       "            "
      ],
      "text/plain": [
       "<IPython.core.display.Javascript object>"
      ]
     },
     "metadata": {},
     "output_type": "display_data"
    }
   ],
   "source": [
    "ypredPD[\"diff\"] = abs(ypredPD[\"t + 1\"] - ypredPD[\"pred (t +1)\"])\n",
    "print(\"< 5 \", 100 * ypredPD[ypredPD[\"diff\"] < 5].shape[0] / ypredPD.shape[0])\n",
    "print(\"< 10 \", 100 * ypredPD[ypredPD[\"diff\"] < 10].shape[0] / ypredPD.shape[0])\n",
    "print(\"< 15 \", 100 * ypredPD[ypredPD[\"diff\"] < 15].shape[0] / ypredPD.shape[0])\n",
    "print(\"< 20 \", 100 * ypredPD[ypredPD[\"diff\"] < 20].shape[0] / ypredPD.shape[0])\n",
    "print(\"< 25 \", 100 * ypredPD[ypredPD[\"diff\"] < 25].shape[0] / ypredPD.shape[0])\n",
    "print(\"< 30 \", 100 * ypredPD[ypredPD[\"diff\"] < 30].shape[0] / ypredPD.shape[0])"
   ]
  },
  {
   "cell_type": "markdown",
   "metadata": {},
   "source": [
    "ANN\n",
    "=========="
   ]
  },
  {
   "cell_type": "code",
   "execution_count": 10,
   "metadata": {},
   "outputs": [
    {
     "name": "stderr",
     "output_type": "stream",
     "text": [
      "Using TensorFlow backend.\n"
     ]
    },
    {
     "data": {
      "application/javascript": [
       "\n",
       "            setTimeout(function() {\n",
       "                var nbb_cell_id = 10;\n",
       "                var nbb_formatted_code = \"from keras.layers import Dropout\\nfrom keras.layers import BatchNormalization\\nfrom keras.models import model_from_json\\nfrom keras.utils import multi_gpu_model\\nfrom keras.utils import to_categorical\\nfrom keras.models import Sequential\\nfrom keras.layers import Dense\\nfrom keras.wrappers.scikit_learn import KerasRegressor\";\n",
       "                var nbb_cells = Jupyter.notebook.get_cells();\n",
       "                for (var i = 0; i < nbb_cells.length; ++i) {\n",
       "                    if (nbb_cells[i].input_prompt_number == nbb_cell_id) {\n",
       "                        nbb_cells[i].set_text(nbb_formatted_code);\n",
       "                        break;\n",
       "                    }\n",
       "                }\n",
       "            }, 500);\n",
       "            "
      ],
      "text/plain": [
       "<IPython.core.display.Javascript object>"
      ]
     },
     "metadata": {},
     "output_type": "display_data"
    }
   ],
   "source": [
    "from keras.layers import Dropout\n",
    "from keras.layers import BatchNormalization\n",
    "from keras.models import model_from_json\n",
    "from keras.utils import multi_gpu_model\n",
    "from keras.utils import to_categorical\n",
    "from keras.models import Sequential\n",
    "from keras.layers import Dense\n",
    "from keras.wrappers.scikit_learn import KerasRegressor"
   ]
  },
  {
   "cell_type": "code",
   "execution_count": 21,
   "metadata": {},
   "outputs": [
    {
     "data": {
      "application/javascript": [
       "\n",
       "            setTimeout(function() {\n",
       "                var nbb_cell_id = 21;\n",
       "                var nbb_formatted_code = \"model = Sequential()\\nmodel.add(\\n    Dense(input_dim=16, units=512, activation=\\\"relu\\\", kernel_initializer=\\\"uniform\\\")\\n)\\nmodel.add(Dense(units=512, activation=\\\"relu\\\", kernel_initializer=\\\"uniform\\\"))\\n# model.add(RBFLayer(512, 0.5))\\nmodel.add(BatchNormalization())\\nmodel.add(Dropout(0.25))\\n\\n# model.add(Dense(units=256, activation=\\\"relu\\\", kernel_initializer=\\\"uniform\\\"))\\n# model.add(RBFLayer(256, 0.5))\\n# model.add(Dense(units=256, activation=\\\"relu\\\", kernel_initializer=\\\"uniform\\\"))\\n# model.add(RBFLayer(256, 0.5))\\n# model.add(BatchNormalization())\\n# model.add(Dropout(0.25))\\n\\nmodel.add(Dense(units=128, activation=\\\"relu\\\", kernel_initializer=\\\"uniform\\\"))\\n# model.add(RBFLayer(128, 0.5))\\nmodel.add(Dense(units=128, activation=\\\"relu\\\", kernel_initializer=\\\"uniform\\\"))\\n# model.add(RBFLayer(128, 0.5))\\nmodel.add(BatchNormalization())\\nmodel.add(Dropout(0.25))\\n\\n# model.add(Dense(units=64, activation=\\\"relu\\\", kernel_initializer=\\\"uniform\\\"))\\n# model.add(RBFLayer(64, 0.5))\\n# model.add(Dense(units=64, activation=\\\"relu\\\", kernel_initializer=\\\"uniform\\\"))\\n# model.add(RBFLayer(64, 0.5))\\n# model.add(BatchNormalization())\\n# model.add(Dropout(0.25))\\n\\nmodel.add(Dense(units=32, activation=\\\"relu\\\", kernel_initializer=\\\"uniform\\\"))\\n# model.add(RBFLayer(32, 0.5))\\nmodel.add(Dense(units=32, activation=\\\"relu\\\", kernel_initializer=\\\"uniform\\\"))\\n# model.add(RBFLayer(32, 0.5))\\nmodel.add(BatchNormalization())\\nmodel.add(Dropout(0.25))\\n\\nmodel.add(Dense(units=16, activation=\\\"relu\\\", kernel_initializer=\\\"uniform\\\"))\\n# model.add(RBFLayer(16, 0.5))\\nmodel.add(BatchNormalization())\\nmodel.add(Dropout(0.25))\\nmodel.add(Dense(units=8, activation=\\\"relu\\\", kernel_initializer=\\\"uniform\\\"))\\n# model.add(RBFLayer(8, 0.5))\\n\\nmodel.add(Dense(units=1, kernel_initializer=\\\"uniform\\\"))\\nmodel.compile(\\n    loss=\\\"mean_squared_error\\\", optimizer=\\\"Nadam\\\", metrics=[\\\"mean_squared_error\\\"]\\n)\";\n",
       "                var nbb_cells = Jupyter.notebook.get_cells();\n",
       "                for (var i = 0; i < nbb_cells.length; ++i) {\n",
       "                    if (nbb_cells[i].input_prompt_number == nbb_cell_id) {\n",
       "                        nbb_cells[i].set_text(nbb_formatted_code);\n",
       "                        break;\n",
       "                    }\n",
       "                }\n",
       "            }, 500);\n",
       "            "
      ],
      "text/plain": [
       "<IPython.core.display.Javascript object>"
      ]
     },
     "metadata": {},
     "output_type": "display_data"
    }
   ],
   "source": [
    "model = Sequential()\n",
    "model.add(\n",
    "    Dense(input_dim=16, units=512, activation=\"relu\", kernel_initializer=\"uniform\")\n",
    ")\n",
    "model.add(Dense(units=512, activation=\"relu\", kernel_initializer=\"uniform\"))\n",
    "# model.add(RBFLayer(512, 0.5))\n",
    "model.add(BatchNormalization())\n",
    "model.add(Dropout(0.25))\n",
    "\n",
    "# model.add(Dense(units=256, activation=\"relu\", kernel_initializer=\"uniform\"))\n",
    "# model.add(RBFLayer(256, 0.5))\n",
    "# model.add(Dense(units=256, activation=\"relu\", kernel_initializer=\"uniform\"))\n",
    "# model.add(RBFLayer(256, 0.5))\n",
    "# model.add(BatchNormalization())\n",
    "# model.add(Dropout(0.25))\n",
    "\n",
    "model.add(Dense(units=128, activation=\"relu\", kernel_initializer=\"uniform\"))\n",
    "# model.add(RBFLayer(128, 0.5))\n",
    "model.add(Dense(units=128, activation=\"relu\", kernel_initializer=\"uniform\"))\n",
    "# model.add(RBFLayer(128, 0.5))\n",
    "model.add(BatchNormalization())\n",
    "model.add(Dropout(0.25))\n",
    "\n",
    "# model.add(Dense(units=64, activation=\"relu\", kernel_initializer=\"uniform\"))\n",
    "# model.add(RBFLayer(64, 0.5))\n",
    "# model.add(Dense(units=64, activation=\"relu\", kernel_initializer=\"uniform\"))\n",
    "# model.add(RBFLayer(64, 0.5))\n",
    "# model.add(BatchNormalization())\n",
    "# model.add(Dropout(0.25))\n",
    "\n",
    "model.add(Dense(units=32, activation=\"relu\", kernel_initializer=\"uniform\"))\n",
    "# model.add(RBFLayer(32, 0.5))\n",
    "model.add(Dense(units=32, activation=\"relu\", kernel_initializer=\"uniform\"))\n",
    "# model.add(RBFLayer(32, 0.5))\n",
    "model.add(BatchNormalization())\n",
    "model.add(Dropout(0.25))\n",
    "\n",
    "model.add(Dense(units=16, activation=\"relu\", kernel_initializer=\"uniform\"))\n",
    "# model.add(RBFLayer(16, 0.5))\n",
    "model.add(BatchNormalization())\n",
    "model.add(Dropout(0.25))\n",
    "model.add(Dense(units=8, activation=\"relu\", kernel_initializer=\"uniform\"))\n",
    "# model.add(RBFLayer(8, 0.5))\n",
    "\n",
    "model.add(Dense(units=1, kernel_initializer=\"uniform\"))\n",
    "model.compile(\n",
    "    loss=\"mean_squared_error\", optimizer=\"Nadam\", metrics=[\"mean_squared_error\"]\n",
    ")"
   ]
  },
  {
   "cell_type": "code",
   "execution_count": 30,
   "metadata": {
    "scrolled": true
   },
   "outputs": [
    {
     "name": "stdout",
     "output_type": "stream",
     "text": [
      "Train on 258642 samples, validate on 64661 samples\n",
      "Epoch 1/100\n",
      "258642/258642 [==============================] - 6s 25us/step - loss: 212.5951 - mean_squared_error: 212.5951 - val_loss: 153.0835 - val_mean_squared_error: 153.0835\n",
      "Epoch 2/100\n",
      "258642/258642 [==============================] - 6s 25us/step - loss: 208.4055 - mean_squared_error: 208.4055 - val_loss: 236.3734 - val_mean_squared_error: 236.3734\n",
      "Epoch 3/100\n",
      "258642/258642 [==============================] - 6s 25us/step - loss: 206.1197 - mean_squared_error: 206.1197 - val_loss: 161.9778 - val_mean_squared_error: 161.9778\n",
      "Epoch 4/100\n",
      "258642/258642 [==============================] - 7s 25us/step - loss: 205.9987 - mean_squared_error: 205.9987 - val_loss: 138.5999 - val_mean_squared_error: 138.5999\n",
      "Epoch 5/100\n",
      "258642/258642 [==============================] - 6s 25us/step - loss: 205.4116 - mean_squared_error: 205.4116 - val_loss: 141.9204 - val_mean_squared_error: 141.9204\n",
      "Epoch 6/100\n",
      "258642/258642 [==============================] - 6s 25us/step - loss: 203.6669 - mean_squared_error: 203.6669 - val_loss: 137.9703 - val_mean_squared_error: 137.9703\n",
      "Epoch 7/100\n",
      "258642/258642 [==============================] - 6s 25us/step - loss: 203.5557 - mean_squared_error: 203.5557 - val_loss: 138.8547 - val_mean_squared_error: 138.8547\n",
      "Epoch 8/100\n",
      "258642/258642 [==============================] - 6s 25us/step - loss: 201.6440 - mean_squared_error: 201.6440 - val_loss: 207.3799 - val_mean_squared_error: 207.3799\n",
      "Epoch 9/100\n",
      "258642/258642 [==============================] - 6s 25us/step - loss: 199.8032 - mean_squared_error: 199.8032 - val_loss: 481.4575 - val_mean_squared_error: 481.4575\n",
      "Epoch 10/100\n",
      "258642/258642 [==============================] - 6s 25us/step - loss: 196.9840 - mean_squared_error: 196.9840 - val_loss: 395.2758 - val_mean_squared_error: 395.2758\n",
      "Epoch 11/100\n",
      "258642/258642 [==============================] - 6s 25us/step - loss: 194.6616 - mean_squared_error: 194.6616 - val_loss: 204.5219 - val_mean_squared_error: 204.5219\n",
      "Epoch 12/100\n",
      "258642/258642 [==============================] - 6s 24us/step - loss: 196.4970 - mean_squared_error: 196.4970 - val_loss: 135.8475 - val_mean_squared_error: 135.8475\n",
      "Epoch 13/100\n",
      "258642/258642 [==============================] - 6s 25us/step - loss: 194.7297 - mean_squared_error: 194.7297 - val_loss: 211.7103 - val_mean_squared_error: 211.7103\n",
      "Epoch 14/100\n",
      "258642/258642 [==============================] - 7s 26us/step - loss: 192.7414 - mean_squared_error: 192.7414 - val_loss: 205.7765 - val_mean_squared_error: 205.7765\n",
      "Epoch 15/100\n",
      "258642/258642 [==============================] - 6s 25us/step - loss: 192.6510 - mean_squared_error: 192.6510 - val_loss: 162.3179 - val_mean_squared_error: 162.3179\n",
      "Epoch 16/100\n",
      "258642/258642 [==============================] - 6s 25us/step - loss: 191.2393 - mean_squared_error: 191.2393 - val_loss: 286.5238 - val_mean_squared_error: 286.5238\n",
      "Epoch 17/100\n",
      "258642/258642 [==============================] - 6s 25us/step - loss: 188.3120 - mean_squared_error: 188.3120 - val_loss: 253.1362 - val_mean_squared_error: 253.1362\n",
      "Epoch 18/100\n",
      "258642/258642 [==============================] - 6s 24us/step - loss: 187.8947 - mean_squared_error: 187.8947 - val_loss: 200.7636 - val_mean_squared_error: 200.7636\n",
      "Epoch 19/100\n",
      "258642/258642 [==============================] - 6s 25us/step - loss: 186.2845 - mean_squared_error: 186.2845 - val_loss: 193.2466 - val_mean_squared_error: 193.2466\n",
      "Epoch 20/100\n",
      "258642/258642 [==============================] - 6s 24us/step - loss: 185.5213 - mean_squared_error: 185.5213 - val_loss: 152.7395 - val_mean_squared_error: 152.7395\n",
      "Epoch 21/100\n",
      "258642/258642 [==============================] - 6s 25us/step - loss: 183.9120 - mean_squared_error: 183.9120 - val_loss: 240.4706 - val_mean_squared_error: 240.4706\n",
      "Epoch 22/100\n",
      "258642/258642 [==============================] - 6s 24us/step - loss: 182.2076 - mean_squared_error: 182.2076 - val_loss: 256.9236 - val_mean_squared_error: 256.9236\n",
      "Epoch 23/100\n",
      "258642/258642 [==============================] - 6s 24us/step - loss: 180.5497 - mean_squared_error: 180.5497 - val_loss: 304.7310 - val_mean_squared_error: 304.7310\n",
      "Epoch 24/100\n",
      "258642/258642 [==============================] - 6s 25us/step - loss: 179.3569 - mean_squared_error: 179.3569 - val_loss: 502.3456 - val_mean_squared_error: 502.3456\n",
      "Epoch 25/100\n",
      "258642/258642 [==============================] - 6s 25us/step - loss: 176.6747 - mean_squared_error: 176.6747 - val_loss: 509.2851 - val_mean_squared_error: 509.2851\n",
      "Epoch 26/100\n",
      "258642/258642 [==============================] - 6s 24us/step - loss: 175.2402 - mean_squared_error: 175.2402 - val_loss: 214.5809 - val_mean_squared_error: 214.5809\n",
      "Epoch 27/100\n",
      "258642/258642 [==============================] - 6s 25us/step - loss: 175.3426 - mean_squared_error: 175.3426 - val_loss: 259.0072 - val_mean_squared_error: 259.0072\n",
      "Epoch 28/100\n",
      "258642/258642 [==============================] - 6s 25us/step - loss: 173.8553 - mean_squared_error: 173.8553 - val_loss: 271.0163 - val_mean_squared_error: 271.0163\n",
      "Epoch 29/100\n",
      "258642/258642 [==============================] - 6s 24us/step - loss: 173.4817 - mean_squared_error: 173.4817 - val_loss: 361.3913 - val_mean_squared_error: 361.3913\n",
      "Epoch 30/100\n",
      "258642/258642 [==============================] - 6s 24us/step - loss: 173.0807 - mean_squared_error: 173.0807 - val_loss: 240.7276 - val_mean_squared_error: 240.7276\n",
      "Epoch 31/100\n",
      "258642/258642 [==============================] - 6s 24us/step - loss: 172.4610 - mean_squared_error: 172.4610 - val_loss: 213.8952 - val_mean_squared_error: 213.8952\n",
      "Epoch 32/100\n",
      "258642/258642 [==============================] - 6s 24us/step - loss: 171.1227 - mean_squared_error: 171.1227 - val_loss: 266.7234 - val_mean_squared_error: 266.7234\n",
      "Epoch 33/100\n",
      "258642/258642 [==============================] - 6s 24us/step - loss: 171.1421 - mean_squared_error: 171.1421 - val_loss: 215.2817 - val_mean_squared_error: 215.2817\n",
      "Epoch 34/100\n",
      "258642/258642 [==============================] - 6s 25us/step - loss: 171.4232 - mean_squared_error: 171.4232 - val_loss: 142.9447 - val_mean_squared_error: 142.9447\n",
      "Epoch 35/100\n",
      "258642/258642 [==============================] - 6s 25us/step - loss: 173.0951 - mean_squared_error: 173.0951 - val_loss: 133.7063 - val_mean_squared_error: 133.7063\n",
      "Epoch 36/100\n",
      "258642/258642 [==============================] - 6s 25us/step - loss: 170.7926 - mean_squared_error: 170.7926 - val_loss: 283.1082 - val_mean_squared_error: 283.1082\n",
      "Epoch 37/100\n",
      "258642/258642 [==============================] - 6s 25us/step - loss: 170.7406 - mean_squared_error: 170.7406 - val_loss: 466.2127 - val_mean_squared_error: 466.2127\n",
      "Epoch 38/100\n",
      "258642/258642 [==============================] - 6s 24us/step - loss: 168.8860 - mean_squared_error: 168.8860 - val_loss: 231.8002 - val_mean_squared_error: 231.8002\n",
      "Epoch 39/100\n",
      "258642/258642 [==============================] - 6s 24us/step - loss: 168.0909 - mean_squared_error: 168.0909 - val_loss: 146.4164 - val_mean_squared_error: 146.4164\n",
      "Epoch 40/100\n",
      "258642/258642 [==============================] - 6s 24us/step - loss: 172.4764 - mean_squared_error: 172.4764 - val_loss: 138.2252 - val_mean_squared_error: 138.2252\n",
      "Epoch 41/100\n",
      "258642/258642 [==============================] - 6s 25us/step - loss: 166.2680 - mean_squared_error: 166.2680 - val_loss: 159.4153 - val_mean_squared_error: 159.4153\n",
      "Epoch 42/100\n",
      "258642/258642 [==============================] - 6s 24us/step - loss: 165.6671 - mean_squared_error: 165.6671 - val_loss: 157.3630 - val_mean_squared_error: 157.3630\n",
      "Epoch 43/100\n",
      "258642/258642 [==============================] - 6s 25us/step - loss: 164.7568 - mean_squared_error: 164.7568 - val_loss: 177.5336 - val_mean_squared_error: 177.5336\n",
      "Epoch 44/100\n",
      "258642/258642 [==============================] - 6s 24us/step - loss: 163.7061 - mean_squared_error: 163.7061 - val_loss: 232.2386 - val_mean_squared_error: 232.2386\n",
      "Epoch 45/100\n",
      "258642/258642 [==============================] - 6s 25us/step - loss: 165.1527 - mean_squared_error: 165.1527 - val_loss: 417.7557 - val_mean_squared_error: 417.7557\n",
      "Epoch 46/100\n",
      "258642/258642 [==============================] - 6s 24us/step - loss: 165.2736 - mean_squared_error: 165.2736 - val_loss: 489.4501 - val_mean_squared_error: 489.4501\n",
      "Epoch 47/100\n",
      "258642/258642 [==============================] - 6s 24us/step - loss: 161.1768 - mean_squared_error: 161.1768 - val_loss: 246.4568 - val_mean_squared_error: 246.4568\n",
      "Epoch 48/100\n",
      "258642/258642 [==============================] - 6s 24us/step - loss: 159.2820 - mean_squared_error: 159.2820 - val_loss: 302.1125 - val_mean_squared_error: 302.1125\n",
      "Epoch 49/100\n",
      "258642/258642 [==============================] - 6s 24us/step - loss: 158.1351 - mean_squared_error: 158.1351 - val_loss: 197.5049 - val_mean_squared_error: 197.5049\n",
      "Epoch 50/100\n",
      "258642/258642 [==============================] - 6s 24us/step - loss: 159.1572 - mean_squared_error: 159.1572 - val_loss: 180.6071 - val_mean_squared_error: 180.6071\n",
      "Epoch 51/100\n",
      "258642/258642 [==============================] - 6s 24us/step - loss: 157.2298 - mean_squared_error: 157.2298 - val_loss: 154.3177 - val_mean_squared_error: 154.3177\n",
      "Epoch 52/100\n",
      "258642/258642 [==============================] - 6s 24us/step - loss: 156.2316 - mean_squared_error: 156.2316 - val_loss: 207.6329 - val_mean_squared_error: 207.6329\n",
      "Epoch 53/100\n",
      "258642/258642 [==============================] - 6s 24us/step - loss: 158.0415 - mean_squared_error: 158.0415 - val_loss: 365.6688 - val_mean_squared_error: 365.6688\n",
      "Epoch 54/100\n",
      "258642/258642 [==============================] - 6s 24us/step - loss: 162.9043 - mean_squared_error: 162.9043 - val_loss: 261.7025 - val_mean_squared_error: 261.7025\n",
      "Epoch 55/100\n",
      "258642/258642 [==============================] - 6s 25us/step - loss: 165.1403 - mean_squared_error: 165.1403 - val_loss: 270.8172 - val_mean_squared_error: 270.8172\n",
      "Epoch 56/100\n",
      "258642/258642 [==============================] - 6s 24us/step - loss: 158.7185 - mean_squared_error: 158.7185 - val_loss: 137.7813 - val_mean_squared_error: 137.7813\n",
      "Epoch 57/100\n",
      "258642/258642 [==============================] - 6s 24us/step - loss: 159.1770 - mean_squared_error: 159.1770 - val_loss: 164.1175 - val_mean_squared_error: 164.1175\n",
      "Epoch 58/100\n",
      "258642/258642 [==============================] - 6s 25us/step - loss: 160.0219 - mean_squared_error: 160.0219 - val_loss: 170.4915 - val_mean_squared_error: 170.4915\n",
      "Epoch 59/100\n",
      "258642/258642 [==============================] - 6s 24us/step - loss: 156.7862 - mean_squared_error: 156.7862 - val_loss: 134.8472 - val_mean_squared_error: 134.8472\n",
      "Epoch 60/100\n",
      "258642/258642 [==============================] - 6s 24us/step - loss: 155.1995 - mean_squared_error: 155.1995 - val_loss: 167.6964 - val_mean_squared_error: 167.6964\n",
      "Epoch 61/100\n",
      "258642/258642 [==============================] - 6s 25us/step - loss: 156.3434 - mean_squared_error: 156.3434 - val_loss: 229.4257 - val_mean_squared_error: 229.4257\n",
      "Epoch 62/100\n",
      "258642/258642 [==============================] - 6s 24us/step - loss: 153.5084 - mean_squared_error: 153.5084 - val_loss: 148.3912 - val_mean_squared_error: 148.3912\n",
      "Epoch 63/100\n",
      "258642/258642 [==============================] - 6s 24us/step - loss: 153.1219 - mean_squared_error: 153.1219 - val_loss: 138.8732 - val_mean_squared_error: 138.8732\n",
      "Epoch 64/100\n",
      "258642/258642 [==============================] - 6s 24us/step - loss: 152.8577 - mean_squared_error: 152.8577 - val_loss: 173.2726 - val_mean_squared_error: 173.2726\n",
      "Epoch 65/100\n",
      "258642/258642 [==============================] - 6s 24us/step - loss: 153.7635 - mean_squared_error: 153.7635 - val_loss: 216.4722 - val_mean_squared_error: 216.4722\n",
      "Epoch 66/100\n",
      "258642/258642 [==============================] - 6s 25us/step - loss: 157.9497 - mean_squared_error: 157.9497 - val_loss: 187.2225 - val_mean_squared_error: 187.2225\n",
      "Epoch 67/100\n",
      "258642/258642 [==============================] - 6s 24us/step - loss: 152.6347 - mean_squared_error: 152.6347 - val_loss: 165.3093 - val_mean_squared_error: 165.3093\n",
      "Epoch 68/100\n",
      "258642/258642 [==============================] - 6s 24us/step - loss: 151.4952 - mean_squared_error: 151.4952 - val_loss: 202.1302 - val_mean_squared_error: 202.1302\n",
      "Epoch 69/100\n",
      "258642/258642 [==============================] - 6s 24us/step - loss: 163.7793 - mean_squared_error: 163.7793 - val_loss: 143.2956 - val_mean_squared_error: 143.2956\n",
      "Epoch 70/100\n",
      "258642/258642 [==============================] - 6s 24us/step - loss: 145.2363 - mean_squared_error: 145.2363 - val_loss: 137.5498 - val_mean_squared_error: 137.5498\n",
      "Epoch 71/100\n",
      "258642/258642 [==============================] - 6s 25us/step - loss: 141.0670 - mean_squared_error: 141.0670 - val_loss: 135.6676 - val_mean_squared_error: 135.6676\n",
      "Epoch 72/100\n",
      "258642/258642 [==============================] - 6s 24us/step - loss: 139.0928 - mean_squared_error: 139.0928 - val_loss: 134.6142 - val_mean_squared_error: 134.6142\n",
      "Epoch 73/100\n",
      "258642/258642 [==============================] - 6s 24us/step - loss: 138.0630 - mean_squared_error: 138.0630 - val_loss: 134.7935 - val_mean_squared_error: 134.7935\n",
      "Epoch 74/100\n",
      "258642/258642 [==============================] - 6s 24us/step - loss: 137.5251 - mean_squared_error: 137.5251 - val_loss: 134.8882 - val_mean_squared_error: 134.8882\n",
      "Epoch 75/100\n",
      "258642/258642 [==============================] - 6s 24us/step - loss: 136.7883 - mean_squared_error: 136.7883 - val_loss: 134.9079 - val_mean_squared_error: 134.9079\n",
      "Epoch 76/100\n",
      "258642/258642 [==============================] - 7s 25us/step - loss: 136.2475 - mean_squared_error: 136.2475 - val_loss: 134.8686 - val_mean_squared_error: 134.8686\n",
      "Epoch 77/100\n",
      "258642/258642 [==============================] - 6s 25us/step - loss: 135.9086 - mean_squared_error: 135.9086 - val_loss: 133.8319 - val_mean_squared_error: 133.8319\n",
      "Epoch 78/100\n",
      "258642/258642 [==============================] - 6s 24us/step - loss: 135.2532 - mean_squared_error: 135.2532 - val_loss: 133.2676 - val_mean_squared_error: 133.2676\n",
      "Epoch 79/100\n",
      "258642/258642 [==============================] - 6s 24us/step - loss: 134.8403 - mean_squared_error: 134.8403 - val_loss: 132.3465 - val_mean_squared_error: 132.3465\n",
      "Epoch 80/100\n",
      "258642/258642 [==============================] - 6s 25us/step - loss: 134.8348 - mean_squared_error: 134.8348 - val_loss: 131.8651 - val_mean_squared_error: 131.8651\n",
      "Epoch 81/100\n",
      "258642/258642 [==============================] - 6s 24us/step - loss: 134.0748 - mean_squared_error: 134.0748 - val_loss: 131.2281 - val_mean_squared_error: 131.2281\n",
      "Epoch 82/100\n",
      "258642/258642 [==============================] - 6s 25us/step - loss: 133.7937 - mean_squared_error: 133.7937 - val_loss: 130.8249 - val_mean_squared_error: 130.8249\n",
      "Epoch 83/100\n",
      "258642/258642 [==============================] - 6s 25us/step - loss: 133.4557 - mean_squared_error: 133.4557 - val_loss: 130.5295 - val_mean_squared_error: 130.5295\n",
      "Epoch 84/100\n",
      "258642/258642 [==============================] - 6s 24us/step - loss: 133.3387 - mean_squared_error: 133.3387 - val_loss: 130.2485 - val_mean_squared_error: 130.2485\n",
      "Epoch 85/100\n",
      "258642/258642 [==============================] - 6s 24us/step - loss: 132.8168 - mean_squared_error: 132.8168 - val_loss: 129.6766 - val_mean_squared_error: 129.6766\n",
      "Epoch 86/100\n",
      "258642/258642 [==============================] - 6s 25us/step - loss: 132.7055 - mean_squared_error: 132.7055 - val_loss: 129.7958 - val_mean_squared_error: 129.7958\n",
      "Epoch 87/100\n",
      "258642/258642 [==============================] - 6s 25us/step - loss: 133.3048 - mean_squared_error: 133.3048 - val_loss: 130.6313 - val_mean_squared_error: 130.6313\n",
      "Epoch 88/100\n",
      "258642/258642 [==============================] - 6s 25us/step - loss: 132.9430 - mean_squared_error: 132.9430 - val_loss: 129.6025 - val_mean_squared_error: 129.6025\n",
      "Epoch 89/100\n",
      "258642/258642 [==============================] - 6s 24us/step - loss: 132.3597 - mean_squared_error: 132.3597 - val_loss: 129.8558 - val_mean_squared_error: 129.8558\n",
      "Epoch 90/100\n",
      "258642/258642 [==============================] - 6s 25us/step - loss: 131.9123 - mean_squared_error: 131.9123 - val_loss: 128.9934 - val_mean_squared_error: 128.9934\n",
      "Epoch 91/100\n",
      "258642/258642 [==============================] - 6s 25us/step - loss: 131.5814 - mean_squared_error: 131.5814 - val_loss: 129.1476 - val_mean_squared_error: 129.1476\n"
     ]
    },
    {
     "name": "stdout",
     "output_type": "stream",
     "text": [
      "Epoch 92/100\n",
      "258642/258642 [==============================] - 6s 24us/step - loss: 131.2656 - mean_squared_error: 131.2656 - val_loss: 128.1786 - val_mean_squared_error: 128.1786\n",
      "Epoch 93/100\n",
      "258642/258642 [==============================] - 6s 24us/step - loss: 131.2013 - mean_squared_error: 131.2013 - val_loss: 128.0208 - val_mean_squared_error: 128.0208\n",
      "Epoch 94/100\n",
      "258642/258642 [==============================] - 6s 24us/step - loss: 130.8399 - mean_squared_error: 130.8399 - val_loss: 127.8397 - val_mean_squared_error: 127.8397\n",
      "Epoch 95/100\n",
      "258642/258642 [==============================] - 6s 24us/step - loss: 130.6424 - mean_squared_error: 130.6424 - val_loss: 127.7199 - val_mean_squared_error: 127.7199\n",
      "Epoch 96/100\n",
      "258642/258642 [==============================] - 6s 24us/step - loss: 130.3833 - mean_squared_error: 130.3833 - val_loss: 128.1263 - val_mean_squared_error: 128.1263\n",
      "Epoch 97/100\n",
      "258642/258642 [==============================] - 6s 25us/step - loss: 130.2712 - mean_squared_error: 130.2712 - val_loss: 127.5987 - val_mean_squared_error: 127.5987\n",
      "Epoch 98/100\n",
      "258642/258642 [==============================] - 6s 24us/step - loss: 130.0851 - mean_squared_error: 130.0851 - val_loss: 128.5487 - val_mean_squared_error: 128.5487\n",
      "Epoch 99/100\n",
      "258642/258642 [==============================] - 6s 24us/step - loss: 129.7453 - mean_squared_error: 129.7453 - val_loss: 128.1712 - val_mean_squared_error: 128.1712\n",
      "Epoch 100/100\n",
      "258642/258642 [==============================] - 6s 25us/step - loss: 129.6261 - mean_squared_error: 129.6261 - val_loss: 128.4053 - val_mean_squared_error: 128.4053\n"
     ]
    },
    {
     "data": {
      "application/javascript": [
       "\n",
       "            setTimeout(function() {\n",
       "                var nbb_cell_id = 30;\n",
       "                var nbb_formatted_code = \"h = model.fit(xtrain, ytrain, validation_split=0.2, epochs=100, batch_size=10000)\";\n",
       "                var nbb_cells = Jupyter.notebook.get_cells();\n",
       "                for (var i = 0; i < nbb_cells.length; ++i) {\n",
       "                    if (nbb_cells[i].input_prompt_number == nbb_cell_id) {\n",
       "                        nbb_cells[i].set_text(nbb_formatted_code);\n",
       "                        break;\n",
       "                    }\n",
       "                }\n",
       "            }, 500);\n",
       "            "
      ],
      "text/plain": [
       "<IPython.core.display.Javascript object>"
      ]
     },
     "metadata": {},
     "output_type": "display_data"
    }
   ],
   "source": [
    "h = model.fit(xtrain, ytrain, validation_split=0.2, epochs=100, batch_size=10000)"
   ]
  },
  {
   "cell_type": "code",
   "execution_count": 31,
   "metadata": {},
   "outputs": [
    {
     "name": "stdout",
     "output_type": "stream",
     "text": [
      "mean_squared_error 128.02252713061088\n",
      "root mean_squared_error 11.314704023111293\n",
      "mean_absolute_error 9.03241529160433\n",
      "r2_score 0.24538778055651644\n"
     ]
    },
    {
     "data": {
      "text/html": [
       "<div>\n",
       "<style scoped>\n",
       "    .dataframe tbody tr th:only-of-type {\n",
       "        vertical-align: middle;\n",
       "    }\n",
       "\n",
       "    .dataframe tbody tr th {\n",
       "        vertical-align: top;\n",
       "    }\n",
       "\n",
       "    .dataframe thead th {\n",
       "        text-align: right;\n",
       "    }\n",
       "</style>\n",
       "<table border=\"1\" class=\"dataframe\">\n",
       "  <thead>\n",
       "    <tr style=\"text-align: right;\">\n",
       "      <th></th>\n",
       "      <th>t + 1</th>\n",
       "      <th>pred (t +1)</th>\n",
       "    </tr>\n",
       "  </thead>\n",
       "  <tbody>\n",
       "    <tr>\n",
       "      <th>0</th>\n",
       "      <td>136.0</td>\n",
       "      <td>109.752190</td>\n",
       "    </tr>\n",
       "    <tr>\n",
       "      <th>1</th>\n",
       "      <td>136.0</td>\n",
       "      <td>122.779984</td>\n",
       "    </tr>\n",
       "    <tr>\n",
       "      <th>2</th>\n",
       "      <td>135.0</td>\n",
       "      <td>121.585678</td>\n",
       "    </tr>\n",
       "    <tr>\n",
       "      <th>3</th>\n",
       "      <td>140.0</td>\n",
       "      <td>124.270432</td>\n",
       "    </tr>\n",
       "    <tr>\n",
       "      <th>4</th>\n",
       "      <td>135.0</td>\n",
       "      <td>122.329887</td>\n",
       "    </tr>\n",
       "    <tr>\n",
       "      <th>5</th>\n",
       "      <td>120.0</td>\n",
       "      <td>115.557671</td>\n",
       "    </tr>\n",
       "    <tr>\n",
       "      <th>6</th>\n",
       "      <td>121.0</td>\n",
       "      <td>121.627403</td>\n",
       "    </tr>\n",
       "    <tr>\n",
       "      <th>7</th>\n",
       "      <td>126.0</td>\n",
       "      <td>114.184174</td>\n",
       "    </tr>\n",
       "    <tr>\n",
       "      <th>8</th>\n",
       "      <td>104.0</td>\n",
       "      <td>108.610840</td>\n",
       "    </tr>\n",
       "    <tr>\n",
       "      <th>9</th>\n",
       "      <td>119.0</td>\n",
       "      <td>108.237434</td>\n",
       "    </tr>\n",
       "  </tbody>\n",
       "</table>\n",
       "</div>"
      ],
      "text/plain": [
       "   t + 1  pred (t +1)\n",
       "0  136.0   109.752190\n",
       "1  136.0   122.779984\n",
       "2  135.0   121.585678\n",
       "3  140.0   124.270432\n",
       "4  135.0   122.329887\n",
       "5  120.0   115.557671\n",
       "6  121.0   121.627403\n",
       "7  126.0   114.184174\n",
       "8  104.0   108.610840\n",
       "9  119.0   108.237434"
      ]
     },
     "execution_count": 31,
     "metadata": {},
     "output_type": "execute_result"
    },
    {
     "data": {
      "application/javascript": [
       "\n",
       "            setTimeout(function() {\n",
       "                var nbb_cell_id = 31;\n",
       "                var nbb_formatted_code = \"ypred = model.predict(xtest)\\n\\nimport math\\n\\nprint(\\\"mean_squared_error\\\", m.mean_squared_error(ytest, ypred))\\nprint(\\\"root mean_squared_error\\\", math.sqrt(m.mean_squared_error(ytest, ypred)))\\nprint(\\\"mean_absolute_error\\\", m.mean_absolute_error(ytest, ypred))\\nprint(\\\"r2_score\\\", m.r2_score(ytest, ypred))\\n\\nypredPD = pd.DataFrame()\\n# ypredPD['t']=xtest['S000501_x'].values\\nypredPD[\\\"t + 1\\\"] = ytest.values.ravel()\\nypredPD[\\\"pred (t +1)\\\"] = ypred\\nypredPD.head(10)\";\n",
       "                var nbb_cells = Jupyter.notebook.get_cells();\n",
       "                for (var i = 0; i < nbb_cells.length; ++i) {\n",
       "                    if (nbb_cells[i].input_prompt_number == nbb_cell_id) {\n",
       "                        nbb_cells[i].set_text(nbb_formatted_code);\n",
       "                        break;\n",
       "                    }\n",
       "                }\n",
       "            }, 500);\n",
       "            "
      ],
      "text/plain": [
       "<IPython.core.display.Javascript object>"
      ]
     },
     "metadata": {},
     "output_type": "display_data"
    }
   ],
   "source": [
    "ypred = model.predict(xtest)\n",
    "\n",
    "import math\n",
    "\n",
    "print(\"mean_squared_error\", m.mean_squared_error(ytest, ypred))\n",
    "print(\"root mean_squared_error\", math.sqrt(m.mean_squared_error(ytest, ypred)))\n",
    "print(\"mean_absolute_error\", m.mean_absolute_error(ytest, ypred))\n",
    "print(\"r2_score\", m.r2_score(ytest, ypred))\n",
    "\n",
    "ypredPD = pd.DataFrame()\n",
    "# ypredPD['t']=xtest['S000501_x'].values\n",
    "ypredPD[\"t + 1\"] = ytest.values.ravel()\n",
    "ypredPD[\"pred (t +1)\"] = ypred\n",
    "ypredPD.head(10)"
   ]
  },
  {
   "cell_type": "code",
   "execution_count": 32,
   "metadata": {},
   "outputs": [
    {
     "name": "stdout",
     "output_type": "stream",
     "text": [
      "dict_keys(['val_loss', 'val_mean_squared_error', 'loss', 'mean_squared_error'])\n"
     ]
    },
    {
     "data": {
      "image/png": "[encoded data removed]",
      "text/plain": [
       "<Figure size 432x288 with 1 Axes>"
      ]
     },
     "metadata": {
      "needs_background": "light"
     },
     "output_type": "display_data"
    },
    {
     "data": {
      "image/png": "[encoded data removed]",
      "text/plain": [
       "<Figure size 432x288 with 1 Axes>"
      ]
     },
     "metadata": {
      "needs_background": "light"
     },
     "output_type": "display_data"
    },
    {
     "data": {
      "application/javascript": [
       "\n",
       "            setTimeout(function() {\n",
       "                var nbb_cell_id = 32;\n",
       "                var nbb_formatted_code = \"history = h\\nprint(history.history.keys())\\n# summarize history for accuracy\\nplt.plot(history.history[\\\"val_loss\\\"])\\nplt.plot(history.history[\\\"loss\\\"])\\nplt.title(\\\"model accuracy\\\")\\nplt.ylabel(\\\"accuracy\\\")\\nplt.xlabel(\\\"epoch\\\")\\nplt.legend([\\\"train\\\", \\\"test\\\"], loc=\\\"upper left\\\")\\nplt.show()\\n# summarize history for loss\\nplt.plot(history.history[\\\"val_mean_squared_error\\\"])\\nplt.plot(history.history[\\\"mean_squared_error\\\"])\\nplt.title(\\\"model loss\\\")\\nplt.ylabel(\\\"loss\\\")\\nplt.xlabel(\\\"epoch\\\")\\nplt.legend([\\\"train\\\", \\\"test\\\"], loc=\\\"upper left\\\")\\nplt.show()\";\n",
       "                var nbb_cells = Jupyter.notebook.get_cells();\n",
       "                for (var i = 0; i < nbb_cells.length; ++i) {\n",
       "                    if (nbb_cells[i].input_prompt_number == nbb_cell_id) {\n",
       "                        nbb_cells[i].set_text(nbb_formatted_code);\n",
       "                        break;\n",
       "                    }\n",
       "                }\n",
       "            }, 500);\n",
       "            "
      ],
      "text/plain": [
       "<IPython.core.display.Javascript object>"
      ]
     },
     "metadata": {},
     "output_type": "display_data"
    }
   ],
   "source": [
    "history = h\n",
    "print(history.history.keys())\n",
    "# summarize history for accuracy\n",
    "plt.plot(history.history[\"val_loss\"])\n",
    "plt.plot(history.history[\"loss\"])\n",
    "plt.title(\"model accuracy\")\n",
    "plt.ylabel(\"accuracy\")\n",
    "plt.xlabel(\"epoch\")\n",
    "plt.legend([\"train\", \"test\"], loc=\"upper left\")\n",
    "plt.show()\n",
    "# summarize history for loss\n",
    "plt.plot(history.history[\"val_mean_squared_error\"])\n",
    "plt.plot(history.history[\"mean_squared_error\"])\n",
    "plt.title(\"model loss\")\n",
    "plt.ylabel(\"loss\")\n",
    "plt.xlabel(\"epoch\")\n",
    "plt.legend([\"train\", \"test\"], loc=\"upper left\")\n",
    "plt.show()"
   ]
  },
  {
   "cell_type": "code",
   "execution_count": 33,
   "metadata": {},
   "outputs": [
    {
     "name": "stdout",
     "output_type": "stream",
     "text": [
      "9.03241529160433\n",
      "6.814543354517832\n",
      "33.317215049184824\n"
     ]
    },
    {
     "data": {
      "application/javascript": [
       "\n",
       "            setTimeout(function() {\n",
       "                var nbb_cell_id = 33;\n",
       "                var nbb_formatted_code = \"ypredPD[\\\"diff\\\"] = abs(ypredPD[\\\"t + 1\\\"] - ypredPD[\\\"pred (t +1)\\\"])\\nprint(np.mean(ypredPD[\\\"diff\\\"]))\\nprint(np.std(ypredPD[\\\"diff\\\"]))\\nprint(100 * ypredPD[ypredPD[\\\"diff\\\"] <= 5].shape[0] / ypredPD.shape[0])\";\n",
       "                var nbb_cells = Jupyter.notebook.get_cells();\n",
       "                for (var i = 0; i < nbb_cells.length; ++i) {\n",
       "                    if (nbb_cells[i].input_prompt_number == nbb_cell_id) {\n",
       "                        nbb_cells[i].set_text(nbb_formatted_code);\n",
       "                        break;\n",
       "                    }\n",
       "                }\n",
       "            }, 500);\n",
       "            "
      ],
      "text/plain": [
       "<IPython.core.display.Javascript object>"
      ]
     },
     "metadata": {},
     "output_type": "display_data"
    }
   ],
   "source": [
    "ypredPD[\"diff\"] = abs(ypredPD[\"t + 1\"] - ypredPD[\"pred (t +1)\"])\n",
    "print(np.mean(ypredPD[\"diff\"]))\n",
    "print(np.std(ypredPD[\"diff\"]))\n",
    "print(100 * ypredPD[ypredPD[\"diff\"] <= 5].shape[0] / ypredPD.shape[0])"
   ]
  },
  {
   "cell_type": "code",
   "execution_count": 34,
   "metadata": {},
   "outputs": [
    {
     "data": {
      "image/png": "[encoded data removed]",
      "text/plain": [
       "<Figure size 432x288 with 1 Axes>"
      ]
     },
     "metadata": {
      "needs_background": "light"
     },
     "output_type": "display_data"
    },
    {
     "data": {
      "text/html": [
       "<div>\n",
       "<style scoped>\n",
       "    .dataframe tbody tr th:only-of-type {\n",
       "        vertical-align: middle;\n",
       "    }\n",
       "\n",
       "    .dataframe tbody tr th {\n",
       "        vertical-align: top;\n",
       "    }\n",
       "\n",
       "    .dataframe thead th {\n",
       "        text-align: right;\n",
       "    }\n",
       "</style>\n",
       "<table border=\"1\" class=\"dataframe\">\n",
       "  <thead>\n",
       "    <tr style=\"text-align: right;\">\n",
       "      <th></th>\n",
       "      <th>t + 1</th>\n",
       "      <th>pred (t +1)</th>\n",
       "      <th>diff</th>\n",
       "    </tr>\n",
       "  </thead>\n",
       "  <tbody>\n",
       "    <tr>\n",
       "      <th>111375</th>\n",
       "      <td>60.0</td>\n",
       "      <td>108.235214</td>\n",
       "      <td>48.235214</td>\n",
       "    </tr>\n",
       "    <tr>\n",
       "      <th>129837</th>\n",
       "      <td>78.0</td>\n",
       "      <td>120.987267</td>\n",
       "      <td>42.987267</td>\n",
       "    </tr>\n",
       "    <tr>\n",
       "      <th>137577</th>\n",
       "      <td>80.0</td>\n",
       "      <td>108.934647</td>\n",
       "      <td>28.934647</td>\n",
       "    </tr>\n",
       "    <tr>\n",
       "      <th>130220</th>\n",
       "      <td>80.0</td>\n",
       "      <td>108.351845</td>\n",
       "      <td>28.351845</td>\n",
       "    </tr>\n",
       "    <tr>\n",
       "      <th>136816</th>\n",
       "      <td>80.0</td>\n",
       "      <td>108.472870</td>\n",
       "      <td>28.472870</td>\n",
       "    </tr>\n",
       "    <tr>\n",
       "      <th>78957</th>\n",
       "      <td>80.0</td>\n",
       "      <td>121.658707</td>\n",
       "      <td>41.658707</td>\n",
       "    </tr>\n",
       "    <tr>\n",
       "      <th>94994</th>\n",
       "      <td>80.0</td>\n",
       "      <td>110.835945</td>\n",
       "      <td>30.835945</td>\n",
       "    </tr>\n",
       "    <tr>\n",
       "      <th>109320</th>\n",
       "      <td>80.0</td>\n",
       "      <td>108.344917</td>\n",
       "      <td>28.344917</td>\n",
       "    </tr>\n",
       "    <tr>\n",
       "      <th>82729</th>\n",
       "      <td>80.0</td>\n",
       "      <td>108.345764</td>\n",
       "      <td>28.345764</td>\n",
       "    </tr>\n",
       "    <tr>\n",
       "      <th>16755</th>\n",
       "      <td>80.0</td>\n",
       "      <td>121.284637</td>\n",
       "      <td>41.284637</td>\n",
       "    </tr>\n",
       "  </tbody>\n",
       "</table>\n",
       "</div>"
      ],
      "text/plain": [
       "        t + 1  pred (t +1)       diff\n",
       "111375   60.0   108.235214  48.235214\n",
       "129837   78.0   120.987267  42.987267\n",
       "137577   80.0   108.934647  28.934647\n",
       "130220   80.0   108.351845  28.351845\n",
       "136816   80.0   108.472870  28.472870\n",
       "78957    80.0   121.658707  41.658707\n",
       "94994    80.0   110.835945  30.835945\n",
       "109320   80.0   108.344917  28.344917\n",
       "82729    80.0   108.345764  28.345764\n",
       "16755    80.0   121.284637  41.284637"
      ]
     },
     "execution_count": 34,
     "metadata": {},
     "output_type": "execute_result"
    },
    {
     "data": {
      "image/png": "[encoded data removed]",
      "text/plain": [
       "<Figure size 432x288 with 1 Axes>"
      ]
     },
     "metadata": {
      "needs_background": "light"
     },
     "output_type": "display_data"
    },
    {
     "data": {
      "application/javascript": [
       "\n",
       "            setTimeout(function() {\n",
       "                var nbb_cell_id = 34;\n",
       "                var nbb_formatted_code = \"import matplotlib.patches as mpatches\\n\\nplt.ylabel(\\\"Values\\\")\\nplt.xlabel(\\\"index\\\")\\nred_patch = mpatches.Patch(color=\\\"red\\\", label=\\\"Actual data\\\")\\nblue_patch = mpatches.Patch(color=\\\"blue\\\", label=\\\"Predicted data\\\")\\nplt.legend(handles=[red_patch, blue_patch])\\n\\nypredPD = ypredPD.sort_values(by=[\\\"t + 1\\\"])\\nplt.scatter(\\n    np.arange(0, ypredPD.shape[0], 1), ypredPD[\\\"pred (t +1)\\\"][: ypredPD.shape[0]]\\n)\\nplt.plot(\\n    np.arange(0, ypredPD.shape[0], 1), ypredPD[\\\"t + 1\\\"][: ypredPD.shape[0]], color=\\\"red\\\"\\n)\\nplt.show()\\n\\nplt.ylabel(\\\"p*(t+1), Predicted data\\\")\\nplt.xlabel(\\\"p(t+1), Actual data\\\")\\nplt.scatter(\\n    ypredPD[\\\"t + 1\\\"][: ypredPD.shape[0]], ypredPD[\\\"pred (t +1)\\\"][: ypredPD.shape[0]]\\n)\\n\\nypredPD.head(10)\";\n",
       "                var nbb_cells = Jupyter.notebook.get_cells();\n",
       "                for (var i = 0; i < nbb_cells.length; ++i) {\n",
       "                    if (nbb_cells[i].input_prompt_number == nbb_cell_id) {\n",
       "                        nbb_cells[i].set_text(nbb_formatted_code);\n",
       "                        break;\n",
       "                    }\n",
       "                }\n",
       "            }, 500);\n",
       "            "
      ],
      "text/plain": [
       "<IPython.core.display.Javascript object>"
      ]
     },
     "metadata": {},
     "output_type": "display_data"
    }
   ],
   "source": [
    "import matplotlib.patches as mpatches\n",
    "\n",
    "plt.ylabel(\"Values\")\n",
    "plt.xlabel(\"index\")\n",
    "red_patch = mpatches.Patch(color=\"red\", label=\"Actual data\")\n",
    "blue_patch = mpatches.Patch(color=\"blue\", label=\"Predicted data\")\n",
    "plt.legend(handles=[red_patch, blue_patch])\n",
    "\n",
    "ypredPD = ypredPD.sort_values(by=[\"t + 1\"])\n",
    "plt.scatter(\n",
    "    np.arange(0, ypredPD.shape[0], 1), ypredPD[\"pred (t +1)\"][: ypredPD.shape[0]]\n",
    ")\n",
    "plt.plot(\n",
    "    np.arange(0, ypredPD.shape[0], 1), ypredPD[\"t + 1\"][: ypredPD.shape[0]], color=\"red\"\n",
    ")\n",
    "plt.show()\n",
    "\n",
    "plt.ylabel(\"p*(t+1), Predicted data\")\n",
    "plt.xlabel(\"p(t+1), Actual data\")\n",
    "plt.scatter(\n",
    "    ypredPD[\"t + 1\"][: ypredPD.shape[0]], ypredPD[\"pred (t +1)\"][: ypredPD.shape[0]]\n",
    ")\n",
    "\n",
    "ypredPD.head(10)"
   ]
  },
  {
   "cell_type": "code",
   "execution_count": 36,
   "metadata": {},
   "outputs": [
    {
     "name": "stdout",
     "output_type": "stream",
     "text": [
      "< 5  33.317215049184824\n",
      "< 10  61.94184426850656\n",
      "< 15  82.28191600689959\n",
      "< 20  93.50601548798707\n",
      "< 25  97.6176213742882\n",
      "< 30  99.13827322656775\n"
     ]
    },
    {
     "data": {
      "application/javascript": [
       "\n",
       "            setTimeout(function() {\n",
       "                var nbb_cell_id = 36;\n",
       "                var nbb_formatted_code = \"ypredPD[\\\"diff\\\"] = abs(ypredPD[\\\"t + 1\\\"] - ypredPD[\\\"pred (t +1)\\\"])\\nprint(\\\"< 5 \\\", 100 * ypredPD[ypredPD[\\\"diff\\\"] < 5].shape[0] / ypredPD.shape[0])\\nprint(\\\"< 10 \\\", 100 * ypredPD[ypredPD[\\\"diff\\\"] < 10].shape[0] / ypredPD.shape[0])\\nprint(\\\"< 15 \\\", 100 * ypredPD[ypredPD[\\\"diff\\\"] < 15].shape[0] / ypredPD.shape[0])\\nprint(\\\"< 20 \\\", 100 * ypredPD[ypredPD[\\\"diff\\\"] < 20].shape[0] / ypredPD.shape[0])\\nprint(\\\"< 25 \\\", 100 * ypredPD[ypredPD[\\\"diff\\\"] < 25].shape[0] / ypredPD.shape[0])\\nprint(\\\"< 30 \\\", 100 * ypredPD[ypredPD[\\\"diff\\\"] < 30].shape[0] / ypredPD.shape[0])\";\n",
       "                var nbb_cells = Jupyter.notebook.get_cells();\n",
       "                for (var i = 0; i < nbb_cells.length; ++i) {\n",
       "                    if (nbb_cells[i].input_prompt_number == nbb_cell_id) {\n",
       "                        nbb_cells[i].set_text(nbb_formatted_code);\n",
       "                        break;\n",
       "                    }\n",
       "                }\n",
       "            }, 500);\n",
       "            "
      ],
      "text/plain": [
       "<IPython.core.display.Javascript object>"
      ]
     },
     "metadata": {},
     "output_type": "display_data"
    }
   ],
   "source": [
    "ypredPD[\"diff\"] = abs(ypredPD[\"t + 1\"] - ypredPD[\"pred (t +1)\"])\n",
    "print(\"< 5 \", 100 * ypredPD[ypredPD[\"diff\"] < 5].shape[0] / ypredPD.shape[0])\n",
    "print(\"< 10 \", 100 * ypredPD[ypredPD[\"diff\"] < 10].shape[0] / ypredPD.shape[0])\n",
    "print(\"< 15 \", 100 * ypredPD[ypredPD[\"diff\"] < 15].shape[0] / ypredPD.shape[0])\n",
    "print(\"< 20 \", 100 * ypredPD[ypredPD[\"diff\"] < 20].shape[0] / ypredPD.shape[0])\n",
    "print(\"< 25 \", 100 * ypredPD[ypredPD[\"diff\"] < 25].shape[0] / ypredPD.shape[0])\n",
    "print(\"< 30 \", 100 * ypredPD[ypredPD[\"diff\"] < 30].shape[0] / ypredPD.shape[0])"
   ]
  },
  {
   "cell_type": "markdown",
   "metadata": {},
   "source": [
    "SVR\n",
    "======"
   ]
  },
  {
   "cell_type": "code",
   "execution_count": null,
   "metadata": {},
   "outputs": [],
   "source": [
    "from sklearn.svm import SVR\n",
    "# svr_rbf = SVR(kernel='rbf', C=10, gamma=0.02, epsilon=.001)\n",
    "svr_rbf = SVR(kernel='rbf')"
   ]
  },
  {
   "cell_type": "code",
   "execution_count": null,
   "metadata": {},
   "outputs": [],
   "source": [
    "svr_rbf.fit(xtrain, ytrain) "
   ]
  },
  {
   "cell_type": "code",
   "execution_count": null,
   "metadata": {},
   "outputs": [],
   "source": [
    "ypred=svr_rbf.predict(xtest)"
   ]
  },
  {
   "cell_type": "code",
   "execution_count": null,
   "metadata": {},
   "outputs": [],
   "source": [
    "import math\n",
    "print('mean_squared_error',mean_squared_error(ytest, ypred))\n",
    "print('root mean_squared_error',math.sqrt(mean_squared_error(ytest, ypred)))\n",
    "print('mean_absolute_error',mean_absolute_error(ytest, ypred))\n",
    "print('r2_score',r2_score(ytest, ypred))\n",
    "\n",
    "ypredPD=pd.DataFrame()\n",
    "# ypredPD['t']=xtest['S000501_x'].values\n",
    "ypredPD['t + 1']=ytest.values.ravel()\n",
    "ypredPD['pred (t +1)']=ypred\n",
    "ypredPD.head(10)"
   ]
  },
  {
   "cell_type": "code",
   "execution_count": null,
   "metadata": {},
   "outputs": [],
   "source": []
  },
  {
   "cell_type": "code",
   "execution_count": 12,
   "metadata": {},
   "outputs": [
    {
     "data": {
      "application/javascript": [
       "\n",
       "            setTimeout(function() {\n",
       "                var nbb_cell_id = 12;\n",
       "                var nbb_formatted_code = \"from keras.layers import Layer\\nfrom keras import backend as K\\n\\n\\nclass RBFLayer(Layer):\\n    def __init__(self, units, gamma, **kwargs):\\n        super(RBFLayer, self).__init__(**kwargs)\\n        self.units = units\\n        self.gamma = K.cast_to_floatx(gamma)\\n\\n    def build(self, input_shape):\\n        self.mu = self.add_weight(\\n            name=\\\"mu\\\",\\n            shape=(int(input_shape[1]), self.units),\\n            initializer=\\\"uniform\\\",\\n            trainable=True,\\n        )\\n        super(RBFLayer, self).build(input_shape)\\n\\n    def call(self, inputs):\\n        diff = K.expand_dims(inputs) - self.mu\\n        l2 = K.sum(K.pow(diff, 2), axis=1)\\n        res = K.exp(-1 * self.gamma * l2)\\n        return res\\n\\n    def compute_output_shape(self, input_shape):\\n        return (input_shape[0], self.units)\";\n",
       "                var nbb_cells = Jupyter.notebook.get_cells();\n",
       "                for (var i = 0; i < nbb_cells.length; ++i) {\n",
       "                    if (nbb_cells[i].input_prompt_number == nbb_cell_id) {\n",
       "                        nbb_cells[i].set_text(nbb_formatted_code);\n",
       "                        break;\n",
       "                    }\n",
       "                }\n",
       "            }, 500);\n",
       "            "
      ],
      "text/plain": [
       "<IPython.core.display.Javascript object>"
      ]
     },
     "metadata": {},
     "output_type": "display_data"
    }
   ],
   "source": [
    "from keras.layers import Layer\n",
    "from keras import backend as K\n",
    "\n",
    "\n",
    "class RBFLayer(Layer):\n",
    "    def __init__(self, units, gamma, **kwargs):\n",
    "        super(RBFLayer, self).__init__(**kwargs)\n",
    "        self.units = units\n",
    "        self.gamma = K.cast_to_floatx(gamma)\n",
    "\n",
    "    def build(self, input_shape):\n",
    "        self.mu = self.add_weight(\n",
    "            name=\"mu\",\n",
    "            shape=(int(input_shape[1]), self.units),\n",
    "            initializer=\"uniform\",\n",
    "            trainable=True,\n",
    "        )\n",
    "        super(RBFLayer, self).build(input_shape)\n",
    "\n",
    "    def call(self, inputs):\n",
    "        diff = K.expand_dims(inputs) - self.mu\n",
    "        l2 = K.sum(K.pow(diff, 2), axis=1)\n",
    "        res = K.exp(-1 * self.gamma * l2)\n",
    "        return res\n",
    "\n",
    "    def compute_output_shape(self, input_shape):\n",
    "        return (input_shape[0], self.units)"
   ]
  },
  {
   "cell_type": "code",
   "execution_count": null,
   "metadata": {},
   "outputs": [],
   "source": []
  }
 ],
 "metadata": {
  "kernelspec": {
   "display_name": "Python 3",
   "language": "python",
   "name": "python3"
  },
  "language_info": {
   "codemirror_mode": {
    "name": "ipython",
    "version": 3
   },
   "file_extension": ".py",
   "mimetype": "text/x-python",
   "name": "python",
   "nbconvert_exporter": "python",
   "pygments_lexer": "ipython3",
   "version": "3.7.3"
  }
 },
 "nbformat": 4,
 "nbformat_minor": 2
}

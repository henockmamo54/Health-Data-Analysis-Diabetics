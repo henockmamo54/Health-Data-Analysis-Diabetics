{
 "cells": [
  {
   "cell_type": "code",
   "execution_count": 120,
   "metadata": {},
   "outputs": [],
   "source": [
    "from matplotlib import pyplot as plt\n",
    "import pandas as pd\n",
    "import numpy as np\n",
    "import warnings\n",
    "from sklearn.model_selection import train_test_split\n",
    "import math\n",
    "from sklearn import metrics as m\n",
    "\n",
    "warnings.filterwarnings(\"ignore\")"
   ]
  },
  {
   "cell_type": "markdown",
   "metadata": {},
   "source": [
    "Read the data & Prepare the data\n",
    "==========="
   ]
  },
  {
   "cell_type": "code",
   "execution_count": 121,
   "metadata": {},
   "outputs": [],
   "source": [
    "data = pd.read_csv(\"../../sep19SexAndAgeAddedFINAL DATASET_ver2.txt\", sep=\",\")\n",
    "data[\"max\"] = np.min(data[[\"FIELD_6\", \"FIELD_7\"]], axis=1)\n",
    "data = data.drop(columns=[\"FIELD_6\", \"FIELD_7\"])"
   ]
  },
  {
   "cell_type": "code",
   "execution_count": 122,
   "metadata": {},
   "outputs": [
    {
     "name": "stdout",
     "output_type": "stream",
     "text": [
      "(466680, 405)\n",
      "(465879, 405)\n"
     ]
    }
   ],
   "source": [
    "# filter the data set\n",
    "data = data[data.FIELD_16 != 1]  # exclude people who are diagnosed for (diabetes)\n",
    "data = data[data.FIELD_23 != 1]  # exclude people who are on medication for diabetes\n",
    "\n",
    "data = data[\n",
    "    data.FIELD_15 != 1\n",
    "]  # exclude people who are diagnosed for (high blood pressure)\n",
    "data = data[\n",
    "    data.FIELD_22 != 1\n",
    "]  # exclude people who are on medication for high blood pressure\n",
    "\n",
    "data = data[data.FIELD_17 != 1]  # exclude people who are diagnosed for hyperlipidemia\n",
    "data = data[\n",
    "    data.FIELD_24 != 1\n",
    "]  # exclude people who are on medication for hyperlipidemia\n",
    "print(data.shape)\n",
    "\n",
    "\n",
    "data = data[data.FIELD_13 != 1]  \n",
    "data = data[data.FIELD_20 != 1]  \n",
    "print(data.shape)\n"
   ]
  },
  {
   "cell_type": "code",
   "execution_count": 123,
   "metadata": {},
   "outputs": [
    {
     "data": {
      "image/png": "[encoded data removed]",
      "text/plain": [
       "<Figure size 432x288 with 1 Axes>"
      ]
     },
     "metadata": {
      "needs_background": "light"
     },
     "output_type": "display_data"
    },
    {
     "data": {
      "image/png": "[encoded data removed]",
      "text/plain": [
       "<Figure size 432x288 with 1 Axes>"
      ]
     },
     "metadata": {
      "needs_background": "light"
     },
     "output_type": "display_data"
    }
   ],
   "source": [
    "\n",
    "# data=data[data.AGE>30]\n",
    "# data=data[data.AGE <= 40 ]\n",
    "# data=data[data.SEX==1]\n",
    "\n",
    "plt.hist(data.AGE,bins=50)\n",
    "plt.show()\n",
    "plt.scatter(data.AGE,data.S000501)\n",
    "plt.show()"
   ]
  },
  {
   "cell_type": "code",
   "execution_count": 124,
   "metadata": {},
   "outputs": [
    {
     "name": "stdout",
     "output_type": "stream",
     "text": [
      "(403309, 17)\n"
     ]
    }
   ],
   "source": [
    "\n",
    "\n",
    "# change field 38 to 3 group\n",
    "condtion = [\n",
    "    data.FIELD_38 == 0,\n",
    "    (data.FIELD_38 > 0) & (data.FIELD_38 < 4),\n",
    "    data.FIELD_38 >= 4,\n",
    "]\n",
    "choice = [0, 1, 2]\n",
    "data[\"FIELD_38_C\"] = np.select(condtion, choice, default=np.nan)\n",
    "\n",
    "data = data[\n",
    "    [\n",
    "        \"L190300\",\n",
    "        \"FIELD_29\",\n",
    "        \"S000300\",\n",
    "        \"FIELD_38\",\n",
    "        \"AGE\",\n",
    "        \"SEX\",\n",
    "        \"L100700\",\n",
    "        \"L100800\",\n",
    "        \"FIELD_33\",\n",
    "        \"FIELD_41\",\n",
    "        \"FIELD_42\",\n",
    "        \"L190500\",\n",
    "        \"L101600\",\n",
    "        \"L103100\",\n",
    "        \"L103000\",\n",
    "        \"S000501\",\n",
    "    ]\n",
    "]\n",
    "data = data.dropna().reset_index()\n",
    "\n",
    "# data=data[data.FIELD_15==0]\n",
    "# data=data[data.FIELD_22==0]\n",
    "# data=data[data.SEX==0]\n",
    "# data=data[data.AGE < 40]\n",
    "\n",
    "# data = data.sample(100000, random_seed=42)\n",
    "\n",
    "print(data.shape)"
   ]
  },
  {
   "cell_type": "code",
   "execution_count": 125,
   "metadata": {},
   "outputs": [
    {
     "name": "stdout",
     "output_type": "stream",
     "text": [
      "(403309, 17)\n",
      "Index(['index', 'L190300', 'FIELD_29', 'S000300', 'FIELD_38', 'AGE', 'SEX',\n",
      "       'L100700', 'L100800', 'FIELD_33', 'FIELD_41', 'FIELD_42', 'L190500',\n",
      "       'L101600', 'L103100', 'L103000', 'S000501'],\n",
      "      dtype='object')\n"
     ]
    },
    {
     "data": {
      "text/html": [
       "<div>\n",
       "<style scoped>\n",
       "    .dataframe tbody tr th:only-of-type {\n",
       "        vertical-align: middle;\n",
       "    }\n",
       "\n",
       "    .dataframe tbody tr th {\n",
       "        vertical-align: top;\n",
       "    }\n",
       "\n",
       "    .dataframe thead th {\n",
       "        text-align: right;\n",
       "    }\n",
       "</style>\n",
       "<table border=\"1\" class=\"dataframe\">\n",
       "  <thead>\n",
       "    <tr style=\"text-align: right;\">\n",
       "      <th></th>\n",
       "      <th>index</th>\n",
       "      <th>L190300</th>\n",
       "      <th>FIELD_29</th>\n",
       "      <th>S000300</th>\n",
       "      <th>FIELD_38</th>\n",
       "      <th>AGE</th>\n",
       "      <th>SEX</th>\n",
       "      <th>L100700</th>\n",
       "      <th>L100800</th>\n",
       "      <th>FIELD_33</th>\n",
       "      <th>FIELD_41</th>\n",
       "      <th>FIELD_42</th>\n",
       "      <th>L190500</th>\n",
       "      <th>L101600</th>\n",
       "      <th>L103100</th>\n",
       "      <th>L103000</th>\n",
       "      <th>S000501</th>\n",
       "    </tr>\n",
       "  </thead>\n",
       "  <tbody>\n",
       "    <tr>\n",
       "      <th>0</th>\n",
       "      <td>0</td>\n",
       "      <td>3.76</td>\n",
       "      <td>0.0</td>\n",
       "      <td>22.6</td>\n",
       "      <td>2.0</td>\n",
       "      <td>46.0</td>\n",
       "      <td>0.0</td>\n",
       "      <td>2.6</td>\n",
       "      <td>111.0</td>\n",
       "      <td>2.0</td>\n",
       "      <td>7.0</td>\n",
       "      <td>7.0</td>\n",
       "      <td>35.4</td>\n",
       "      <td>48.0</td>\n",
       "      <td>73.0</td>\n",
       "      <td>70.0</td>\n",
       "      <td>130.0</td>\n",
       "    </tr>\n",
       "    <tr>\n",
       "      <th>1</th>\n",
       "      <td>1</td>\n",
       "      <td>4.02</td>\n",
       "      <td>0.0</td>\n",
       "      <td>22.9</td>\n",
       "      <td>2.0</td>\n",
       "      <td>47.0</td>\n",
       "      <td>0.0</td>\n",
       "      <td>3.7</td>\n",
       "      <td>103.0</td>\n",
       "      <td>2.0</td>\n",
       "      <td>4.0</td>\n",
       "      <td>5.0</td>\n",
       "      <td>38.2</td>\n",
       "      <td>49.0</td>\n",
       "      <td>79.0</td>\n",
       "      <td>50.0</td>\n",
       "      <td>132.0</td>\n",
       "    </tr>\n",
       "    <tr>\n",
       "      <th>2</th>\n",
       "      <td>2</td>\n",
       "      <td>4.24</td>\n",
       "      <td>0.0</td>\n",
       "      <td>24.3</td>\n",
       "      <td>3.0</td>\n",
       "      <td>48.0</td>\n",
       "      <td>0.0</td>\n",
       "      <td>2.6</td>\n",
       "      <td>113.0</td>\n",
       "      <td>2.0</td>\n",
       "      <td>3.0</td>\n",
       "      <td>3.0</td>\n",
       "      <td>40.7</td>\n",
       "      <td>42.0</td>\n",
       "      <td>65.0</td>\n",
       "      <td>75.0</td>\n",
       "      <td>132.0</td>\n",
       "    </tr>\n",
       "    <tr>\n",
       "      <th>3</th>\n",
       "      <td>3</td>\n",
       "      <td>4.28</td>\n",
       "      <td>0.0</td>\n",
       "      <td>24.3</td>\n",
       "      <td>2.0</td>\n",
       "      <td>49.0</td>\n",
       "      <td>0.0</td>\n",
       "      <td>2.0</td>\n",
       "      <td>105.0</td>\n",
       "      <td>2.0</td>\n",
       "      <td>0.0</td>\n",
       "      <td>0.0</td>\n",
       "      <td>41.1</td>\n",
       "      <td>53.0</td>\n",
       "      <td>62.0</td>\n",
       "      <td>130.0</td>\n",
       "      <td>140.0</td>\n",
       "    </tr>\n",
       "    <tr>\n",
       "      <th>4</th>\n",
       "      <td>4</td>\n",
       "      <td>4.34</td>\n",
       "      <td>0.0</td>\n",
       "      <td>23.7</td>\n",
       "      <td>3.0</td>\n",
       "      <td>50.0</td>\n",
       "      <td>0.0</td>\n",
       "      <td>2.8</td>\n",
       "      <td>118.0</td>\n",
       "      <td>2.0</td>\n",
       "      <td>2.0</td>\n",
       "      <td>2.0</td>\n",
       "      <td>40.4</td>\n",
       "      <td>49.0</td>\n",
       "      <td>61.0</td>\n",
       "      <td>92.0</td>\n",
       "      <td>145.0</td>\n",
       "    </tr>\n",
       "  </tbody>\n",
       "</table>\n",
       "</div>"
      ],
      "text/plain": [
       "   index  L190300  FIELD_29  S000300  FIELD_38   AGE  SEX  L100700  L100800  \\\n",
       "0      0     3.76       0.0     22.6       2.0  46.0  0.0      2.6    111.0   \n",
       "1      1     4.02       0.0     22.9       2.0  47.0  0.0      3.7    103.0   \n",
       "2      2     4.24       0.0     24.3       3.0  48.0  0.0      2.6    113.0   \n",
       "3      3     4.28       0.0     24.3       2.0  49.0  0.0      2.0    105.0   \n",
       "4      4     4.34       0.0     23.7       3.0  50.0  0.0      2.8    118.0   \n",
       "\n",
       "   FIELD_33  FIELD_41  FIELD_42  L190500  L101600  L103100  L103000  S000501  \n",
       "0       2.0       7.0       7.0     35.4     48.0     73.0     70.0    130.0  \n",
       "1       2.0       4.0       5.0     38.2     49.0     79.0     50.0    132.0  \n",
       "2       2.0       3.0       3.0     40.7     42.0     65.0     75.0    132.0  \n",
       "3       2.0       0.0       0.0     41.1     53.0     62.0    130.0    140.0  \n",
       "4       2.0       2.0       2.0     40.4     49.0     61.0     92.0    145.0  "
      ]
     },
     "execution_count": 125,
     "metadata": {},
     "output_type": "execute_result"
    }
   ],
   "source": [
    "print(data.shape)\n",
    "print(data.columns)\n",
    "data.head()"
   ]
  },
  {
   "cell_type": "code",
   "execution_count": 126,
   "metadata": {},
   "outputs": [],
   "source": [
    "# test = pd.read_csv(\"test.txt\")\n",
    "# testpd = data[data.index.isin(list(test[[\"Unnamed: 0\"]].values.astype(int).ravel()))]\n",
    "\n",
    "# train = pd.read_csv(\"train.txt\")\n",
    "# trainpd = data[\n",
    "#     data.index.isin(list(train[[\"Unnamed: 0\"]].values.astype(int).ravel()))\n",
    "# ]\n",
    "\n",
    "# # list(xtest[[\"Unnamed: 0\"]].values.astype(int).ravel())\n"
   ]
  },
  {
   "cell_type": "code",
   "execution_count": 127,
   "metadata": {},
   "outputs": [],
   "source": [
    "x = data[\n",
    "    [\n",
    "        \"L190300\",\n",
    "        \"FIELD_29\",\n",
    "        \"S000300\",\n",
    "        \"FIELD_38\",\n",
    "        \"AGE\",\n",
    "        \"SEX\",\n",
    "        \"L100700\",\n",
    "        \"L100800\",\n",
    "        \"FIELD_33\",\n",
    "        \"FIELD_41\",\n",
    "        \"FIELD_42\",\n",
    "        \"L190500\",\n",
    "        \"L101600\",\n",
    "        \"L103100\",\n",
    "        \"L103000\",\n",
    "    ]\n",
    "]\n",
    "\n",
    "y = data[[\"S000501\"]]"
   ]
  },
  {
   "cell_type": "code",
   "execution_count": 128,
   "metadata": {},
   "outputs": [],
   "source": [
    "from keras.layers import Layer\n",
    "from keras import backend as K\n",
    "\n",
    "\n",
    "class RBFLayer(Layer):\n",
    "    def __init__(self, units, gamma, **kwargs):\n",
    "        super(RBFLayer, self).__init__(**kwargs)\n",
    "        self.units = units\n",
    "        self.gamma = K.cast_to_floatx(gamma)\n",
    "\n",
    "    def build(self, input_shape):\n",
    "        self.mu = self.add_weight(\n",
    "            name=\"mu\",\n",
    "            shape=(int(input_shape[1]), self.units),\n",
    "            initializer=\"uniform\",\n",
    "            trainable=True,\n",
    "        )\n",
    "        super(RBFLayer, self).build(input_shape)\n",
    "\n",
    "    def call(self, inputs):\n",
    "        diff = K.expand_dims(inputs) - self.mu\n",
    "        l2 = K.sum(K.pow(diff, 2), axis=1)\n",
    "        res = K.exp(-1 * self.gamma * l2)\n",
    "        return res\n",
    "\n",
    "    def compute_output_shape(self, input_shape):\n",
    "        return (input_shape[0], self.units)"
   ]
  },
  {
   "cell_type": "markdown",
   "metadata": {},
   "source": [
    "Apply PCA\n",
    "==========="
   ]
  },
  {
   "cell_type": "code",
   "execution_count": 129,
   "metadata": {},
   "outputs": [],
   "source": [
    "# from sklearn.decomposition import PCA\n",
    "# pca = PCA(n_components=8)\n",
    "# pca.fit(x)\n",
    "\n",
    "# print(pca.explained_variance_ratio_)\n",
    "# print(np.sum(pca.explained_variance_ratio_))\n",
    "\n",
    "# x=pca.fit_transform(x)\n",
    "# print(x.shape)"
   ]
  },
  {
   "cell_type": "markdown",
   "metadata": {},
   "source": [
    "feature scaling\n",
    "======="
   ]
  },
  {
   "cell_type": "code",
   "execution_count": 130,
   "metadata": {},
   "outputs": [],
   "source": [
    "# from sklearn import preprocessing\n",
    "# min_max_scaler = preprocessing.MinMaxScaler()  #StandardScaler()\n",
    "# x = min_max_scaler.fit_transform(x)"
   ]
  },
  {
   "cell_type": "markdown",
   "metadata": {},
   "source": [
    "clustring test\n",
    "=========="
   ]
  },
  {
   "cell_type": "code",
   "execution_count": 131,
   "metadata": {},
   "outputs": [],
   "source": [
    "from sklearn.cluster import KMeans\n",
    "from scipy.spatial.distance import cdist\n",
    "\n",
    "# K = range(1, 20)\n",
    "# distortions = []\n",
    "\n",
    "# for k in K:\n",
    "#     kmeanModel = KMeans(n_clusters=k).fit(x)\n",
    "#     kmeanModel.fit(x)\n",
    "#     distortions.append(\n",
    "#         sum(np.min(cdist(x, kmeanModel.cluster_centers_, \"euclidean\"), axis=1))\n",
    "#         / x.shape[0]\n",
    "#     )\n",
    "#     print(k)\n",
    "\n",
    "# # Plot the elbow\n",
    "# plt.plot(K, distortions, \"bx-\")\n",
    "# plt.xlabel(\"k\")\n",
    "# plt.ylabel(\"Distortion\")\n",
    "# plt.title(\"The Elbow Method showing the optimal k\")\n",
    "# plt.show()"
   ]
  },
  {
   "cell_type": "code",
   "execution_count": 132,
   "metadata": {},
   "outputs": [],
   "source": [
    "# kmeanModel = KMeans(n_clusters=10).fit(x)\n",
    "# x[\"lbl\"] = kmeanModel.labels_"
   ]
  },
  {
   "cell_type": "markdown",
   "metadata": {},
   "source": [
    "Random Forest Regressor\n",
    "============="
   ]
  },
  {
   "cell_type": "code",
   "execution_count": 133,
   "metadata": {},
   "outputs": [],
   "source": [
    "# import numpy as np\n",
    "# from sklearn.linear_model import LinearRegression\n",
    "# from sklearn.preprocessing import PolynomialFeatures\n",
    "\n",
    "\n",
    "# # Step 2b: Transform input data\n",
    "# x = PolynomialFeatures(degree=2, include_bias=False).fit_transform(x)\n",
    "\n",
    "# ylable = y[[\"S000501\"]]\n",
    "# xtrain, xtest, ytrain, ytest = train_test_split(\n",
    "#     x, ylable, random_state=42, test_size=0.3\n",
    "# )\n",
    "\n",
    "# # Step 3: Create a model and fit it\n",
    "# model = LinearRegression().fit(xtrain, ytrain)\n",
    "\n",
    "# # Step 4: Get results\n",
    "# r_sq = model.score(xtest, ytest)\n",
    "# intercept, coefficients = model.intercept_, model.coef_\n",
    "\n",
    "# # Step 5: Predict\n",
    "# ypred = model.predict(xtest)\n",
    "# print(\"r2_score\", m.r2_score(ytest, ypred))"
   ]
  },
  {
   "cell_type": "code",
   "execution_count": 134,
   "metadata": {},
   "outputs": [],
   "source": [
    "ylable = y[[\"S000501\"]]\n",
    "xtrain, xtest, ytrain, ytest = train_test_split(\n",
    "    x, ylable, random_state=42, test_size=0.3\n",
    ")"
   ]
  },
  {
   "cell_type": "code",
   "execution_count": 135,
   "metadata": {},
   "outputs": [],
   "source": [
    "# xtrain= trainpd[[\"L190300\",\n",
    "#         \"FIELD_29\",\n",
    "#         \"S000300\",\n",
    "#         \"FIELD_38\",\n",
    "#         \"AGE\",\n",
    "#         \"SEX\",\n",
    "#         \"L100700\",\n",
    "#         \"L100800\",\n",
    "#         \"FIELD_33\",\n",
    "#         \"FIELD_41\",\n",
    "#         \"FIELD_42\",\n",
    "#         \"L190500\",\n",
    "#         \"L101600\",\n",
    "#         \"L103100\",\n",
    "#         \"L103000\"]]\n",
    "# ytrain=trainpd[[\"S000501\"]] \n",
    "\n",
    "# xtest=testpd[[\"L190300\",\n",
    "#         \"FIELD_29\",\n",
    "#         \"S000300\",\n",
    "#         \"FIELD_38\",\n",
    "#         \"AGE\",\n",
    "#         \"SEX\",\n",
    "#         \"L100700\",\n",
    "#         \"L100800\",\n",
    "#         \"FIELD_33\",\n",
    "#         \"FIELD_41\",\n",
    "#         \"FIELD_42\",\n",
    "#         \"L190500\",\n",
    "#         \"L101600\",\n",
    "#         \"L103100\",\n",
    "#         \"L103000\"]]\n",
    "# ytest= testpd[[\"S000501\"]] "
   ]
  },
  {
   "cell_type": "code",
   "execution_count": 136,
   "metadata": {},
   "outputs": [],
   "source": [
    "# xtest.shape"
   ]
  },
  {
   "cell_type": "code",
   "execution_count": 137,
   "metadata": {},
   "outputs": [
    {
     "name": "stdout",
     "output_type": "stream",
     "text": [
      "[2.19951319e-02 1.13660632e-03 6.29136716e-01 4.63112052e-03\n",
      " 8.51325338e-02 1.70395430e-01 8.34341594e-04 5.12255124e-02\n",
      " 1.01316912e-03 6.83584723e-05 6.66843228e-05 2.61936465e-02\n",
      " 1.21737383e-03 1.52486116e-03 5.42851436e-03]\n"
     ]
    }
   ],
   "source": [
    "from sklearn.ensemble import RandomForestRegressor\n",
    "\n",
    "regr = RandomForestRegressor(max_depth=7, random_state=0, verbose=0, n_estimators=100)\n",
    "regr.fit(xtrain, ytrain)\n",
    "print(regr.feature_importances_)\n",
    "ypred = regr.predict(xtest)"
   ]
  },
  {
   "cell_type": "code",
   "execution_count": 138,
   "metadata": {},
   "outputs": [
    {
     "name": "stdout",
     "output_type": "stream",
     "text": [
      "mean_squared_error 114.95271835305253\n",
      "root mean_squared_error 10.721600549966993\n",
      "mean_absolute_error 8.553860963859647\n",
      "r2_score 0.29845226482665377\n"
     ]
    },
    {
     "data": {
      "image/png": "[encoded data removed]",
      "text/plain": [
       "<Figure size 432x288 with 1 Axes>"
      ]
     },
     "metadata": {
      "needs_background": "light"
     },
     "output_type": "display_data"
    },
    {
     "data": {
      "text/html": [
       "<div>\n",
       "<style scoped>\n",
       "    .dataframe tbody tr th:only-of-type {\n",
       "        vertical-align: middle;\n",
       "    }\n",
       "\n",
       "    .dataframe tbody tr th {\n",
       "        vertical-align: top;\n",
       "    }\n",
       "\n",
       "    .dataframe thead th {\n",
       "        text-align: right;\n",
       "    }\n",
       "</style>\n",
       "<table border=\"1\" class=\"dataframe\">\n",
       "  <thead>\n",
       "    <tr style=\"text-align: right;\">\n",
       "      <th></th>\n",
       "      <th>t + 1</th>\n",
       "      <th>pred (t +1)</th>\n",
       "    </tr>\n",
       "  </thead>\n",
       "  <tbody>\n",
       "    <tr>\n",
       "      <th>59723</th>\n",
       "      <td>190.0</td>\n",
       "      <td>124.276286</td>\n",
       "    </tr>\n",
       "    <tr>\n",
       "      <th>81984</th>\n",
       "      <td>190.0</td>\n",
       "      <td>132.487987</td>\n",
       "    </tr>\n",
       "    <tr>\n",
       "      <th>25314</th>\n",
       "      <td>190.0</td>\n",
       "      <td>133.452917</td>\n",
       "    </tr>\n",
       "    <tr>\n",
       "      <th>77423</th>\n",
       "      <td>190.0</td>\n",
       "      <td>125.608256</td>\n",
       "    </tr>\n",
       "    <tr>\n",
       "      <th>47093</th>\n",
       "      <td>191.0</td>\n",
       "      <td>116.026748</td>\n",
       "    </tr>\n",
       "    <tr>\n",
       "      <th>81708</th>\n",
       "      <td>194.0</td>\n",
       "      <td>125.637069</td>\n",
       "    </tr>\n",
       "    <tr>\n",
       "      <th>47481</th>\n",
       "      <td>200.0</td>\n",
       "      <td>112.422741</td>\n",
       "    </tr>\n",
       "    <tr>\n",
       "      <th>61562</th>\n",
       "      <td>205.0</td>\n",
       "      <td>128.623565</td>\n",
       "    </tr>\n",
       "    <tr>\n",
       "      <th>56022</th>\n",
       "      <td>207.0</td>\n",
       "      <td>116.881133</td>\n",
       "    </tr>\n",
       "    <tr>\n",
       "      <th>53311</th>\n",
       "      <td>211.0</td>\n",
       "      <td>122.933717</td>\n",
       "    </tr>\n",
       "  </tbody>\n",
       "</table>\n",
       "</div>"
      ],
      "text/plain": [
       "       t + 1  pred (t +1)\n",
       "59723  190.0   124.276286\n",
       "81984  190.0   132.487987\n",
       "25314  190.0   133.452917\n",
       "77423  190.0   125.608256\n",
       "47093  191.0   116.026748\n",
       "81708  194.0   125.637069\n",
       "47481  200.0   112.422741\n",
       "61562  205.0   128.623565\n",
       "56022  207.0   116.881133\n",
       "53311  211.0   122.933717"
      ]
     },
     "execution_count": 138,
     "metadata": {},
     "output_type": "execute_result"
    },
    {
     "data": {
      "image/png": "[encoded data removed]",
      "text/plain": [
       "<Figure size 432x288 with 1 Axes>"
      ]
     },
     "metadata": {
      "needs_background": "light"
     },
     "output_type": "display_data"
    }
   ],
   "source": [
    "print(\"mean_squared_error\", m.mean_squared_error(ytest, ypred))\n",
    "print(\"root mean_squared_error\", math.sqrt(m.mean_squared_error(ytest, ypred)))\n",
    "print(\"mean_absolute_error\", m.mean_absolute_error(ytest, ypred))\n",
    "print(\"r2_score\", m.r2_score(ytest, ypred))\n",
    "\n",
    "ypredPD = pd.DataFrame()\n",
    "# ypredPD['t']=xtest['S000501_x'].values\n",
    "ypredPD[\"t + 1\"] = ytest.values.ravel()\n",
    "ypredPD[\"pred (t +1)\"] = ypred\n",
    "ypredPD.head(30)\n",
    "\n",
    "import matplotlib.patches as mpatches\n",
    "\n",
    "plt.ylabel(\"Values\")\n",
    "plt.xlabel(\"index\")\n",
    "red_patch = mpatches.Patch(color=\"red\", label=\"Actual data\")\n",
    "blue_patch = mpatches.Patch(color=\"blue\", label=\"Predicted data\")\n",
    "plt.legend(handles=[red_patch, blue_patch])\n",
    "\n",
    "ypredPD = ypredPD.sort_values(by=[\"t + 1\"])\n",
    "plt.scatter(\n",
    "    np.arange(0, ypredPD.shape[0], 1), ypredPD[\"pred (t +1)\"][: ypredPD.shape[0]]\n",
    ")\n",
    "plt.plot(\n",
    "    np.arange(0, ypredPD.shape[0], 1), ypredPD[\"t + 1\"][: ypredPD.shape[0]], color=\"red\"\n",
    ")\n",
    "plt.show()\n",
    "\n",
    "plt.ylabel(\"p*(t+1), Predicted data\")\n",
    "plt.xlabel(\"p(t+1), Actual data\")\n",
    "plt.scatter(\n",
    "    ypredPD[\"t + 1\"][: ypredPD.shape[0]], ypredPD[\"pred (t +1)\"][: ypredPD.shape[0]]\n",
    ")\n",
    "\n",
    "ypredPD.tail(10)"
   ]
  },
  {
   "cell_type": "code",
   "execution_count": 139,
   "metadata": {},
   "outputs": [
    {
     "name": "stdout",
     "output_type": "stream",
     "text": [
      "< 5  35.354937888968784\n",
      "< 10  64.54009736100436\n",
      "< 15  84.43959567908887\n",
      "< 20  94.57406626829652\n",
      "< 25  98.16435661567198\n",
      "< 30  99.38756787582753\n"
     ]
    }
   ],
   "source": [
    "ypredPD[\"diff\"] = abs(ypredPD[\"t + 1\"] - ypredPD[\"pred (t +1)\"])\n",
    "print(\"< 5 \", 100 * ypredPD[ypredPD[\"diff\"] < 5].shape[0] / ypredPD.shape[0])\n",
    "print(\"< 10 \", 100 * ypredPD[ypredPD[\"diff\"] < 10].shape[0] / ypredPD.shape[0])\n",
    "print(\"< 15 \", 100 * ypredPD[ypredPD[\"diff\"] < 15].shape[0] / ypredPD.shape[0])\n",
    "print(\"< 20 \", 100 * ypredPD[ypredPD[\"diff\"] < 20].shape[0] / ypredPD.shape[0])\n",
    "print(\"< 25 \", 100 * ypredPD[ypredPD[\"diff\"] < 25].shape[0] / ypredPD.shape[0])\n",
    "print(\"< 30 \", 100 * ypredPD[ypredPD[\"diff\"] < 30].shape[0] / ypredPD.shape[0])"
   ]
  },
  {
   "cell_type": "code",
   "execution_count": 140,
   "metadata": {},
   "outputs": [],
   "source": [
    "# xtest.to_csv(\"xtest.txt\", sep=\",\")\n",
    "# ytest.to_csv(\"ytest.txt\", sep=\",\")\n",
    "\n",
    "# xtrain.to_csv(\"xtrain.txt\", sep=\",\")\n",
    "# ytrain.to_csv(\"ytrain.txt\", sep=\",\")\n",
    "\n",
    "# pd.DataFrame(ypred,ytest.index.ravel()).to_csv(\"ypred_s000501.txt\", sep=\",\")"
   ]
  },
  {
   "cell_type": "code",
   "execution_count": 141,
   "metadata": {},
   "outputs": [
    {
     "data": {
      "text/plain": [
       "(120993, 1)"
      ]
     },
     "execution_count": 141,
     "metadata": {},
     "output_type": "execute_result"
    }
   ],
   "source": [
    "ytest.shape"
   ]
  },
  {
   "cell_type": "markdown",
   "metadata": {},
   "source": [
    "xg boost\n",
    "=========="
   ]
  },
  {
   "cell_type": "code",
   "execution_count": 142,
   "metadata": {},
   "outputs": [
    {
     "data": {
      "text/plain": [
       "XGBRegressor(base_score=0.5, booster='gbtree', colsample_bylevel=1,\n",
       "             colsample_bynode=1, colsample_bytree=1, gamma=0,\n",
       "             importance_type='gain', learning_rate=0.1, max_delta_step=0,\n",
       "             max_depth=3, min_child_weight=1, missing=None, n_estimators=100,\n",
       "             n_jobs=1, nthread=None, objective='reg:squarederror',\n",
       "             random_state=0, reg_alpha=0, reg_lambda=1, scale_pos_weight=1,\n",
       "             seed=None, silent=None, subsample=1, verbosity=1)"
      ]
     },
     "execution_count": 142,
     "metadata": {},
     "output_type": "execute_result"
    }
   ],
   "source": [
    "import xgboost as xgb\n",
    "\n",
    "xg_reg = xgb.XGBRegressor(objective=\"reg:squarederror\")\n",
    "# xg_reg = xgb.XGBRegressor(objective ='reg:linear', colsample_bytree = 0.3,\n",
    "#                           learning_rate = 0.1,max_depth = 5, alpha = 10, n_estimators = 10)\n",
    "xg_reg.fit(xtrain, ytrain)"
   ]
  },
  {
   "cell_type": "code",
   "execution_count": 143,
   "metadata": {},
   "outputs": [
    {
     "name": "stdout",
     "output_type": "stream",
     "text": [
      "mean_squared_error 112.1825842969909\n",
      "root mean_squared_error 10.59162802863615\n",
      "mean_absolute_error 8.445194767343809\n",
      "r2_score 0.3153581831990051\n"
     ]
    },
    {
     "data": {
      "text/html": [
       "<div>\n",
       "<style scoped>\n",
       "    .dataframe tbody tr th:only-of-type {\n",
       "        vertical-align: middle;\n",
       "    }\n",
       "\n",
       "    .dataframe tbody tr th {\n",
       "        vertical-align: top;\n",
       "    }\n",
       "\n",
       "    .dataframe thead th {\n",
       "        text-align: right;\n",
       "    }\n",
       "</style>\n",
       "<table border=\"1\" class=\"dataframe\">\n",
       "  <thead>\n",
       "    <tr style=\"text-align: right;\">\n",
       "      <th></th>\n",
       "      <th>t + 1</th>\n",
       "      <th>pred (t +1)</th>\n",
       "    </tr>\n",
       "  </thead>\n",
       "  <tbody>\n",
       "    <tr>\n",
       "      <th>0</th>\n",
       "      <td>110.0</td>\n",
       "      <td>120.052856</td>\n",
       "    </tr>\n",
       "    <tr>\n",
       "      <th>1</th>\n",
       "      <td>118.0</td>\n",
       "      <td>114.848770</td>\n",
       "    </tr>\n",
       "    <tr>\n",
       "      <th>2</th>\n",
       "      <td>131.0</td>\n",
       "      <td>119.520370</td>\n",
       "    </tr>\n",
       "    <tr>\n",
       "      <th>3</th>\n",
       "      <td>115.0</td>\n",
       "      <td>116.265152</td>\n",
       "    </tr>\n",
       "    <tr>\n",
       "      <th>4</th>\n",
       "      <td>130.0</td>\n",
       "      <td>120.273720</td>\n",
       "    </tr>\n",
       "    <tr>\n",
       "      <th>5</th>\n",
       "      <td>125.0</td>\n",
       "      <td>122.717873</td>\n",
       "    </tr>\n",
       "    <tr>\n",
       "      <th>6</th>\n",
       "      <td>116.0</td>\n",
       "      <td>116.911064</td>\n",
       "    </tr>\n",
       "    <tr>\n",
       "      <th>7</th>\n",
       "      <td>117.0</td>\n",
       "      <td>123.353439</td>\n",
       "    </tr>\n",
       "    <tr>\n",
       "      <th>8</th>\n",
       "      <td>133.0</td>\n",
       "      <td>119.192833</td>\n",
       "    </tr>\n",
       "    <tr>\n",
       "      <th>9</th>\n",
       "      <td>91.0</td>\n",
       "      <td>110.387611</td>\n",
       "    </tr>\n",
       "  </tbody>\n",
       "</table>\n",
       "</div>"
      ],
      "text/plain": [
       "   t + 1  pred (t +1)\n",
       "0  110.0   120.052856\n",
       "1  118.0   114.848770\n",
       "2  131.0   119.520370\n",
       "3  115.0   116.265152\n",
       "4  130.0   120.273720\n",
       "5  125.0   122.717873\n",
       "6  116.0   116.911064\n",
       "7  117.0   123.353439\n",
       "8  133.0   119.192833\n",
       "9   91.0   110.387611"
      ]
     },
     "execution_count": 143,
     "metadata": {},
     "output_type": "execute_result"
    }
   ],
   "source": [
    "ypred = xg_reg.predict(xtest)\n",
    "\n",
    "print(\"mean_squared_error\", m.mean_squared_error(ytest, ypred))\n",
    "print(\"root mean_squared_error\", math.sqrt(m.mean_squared_error(ytest, ypred)))\n",
    "print(\"mean_absolute_error\", m.mean_absolute_error(ytest, ypred))\n",
    "print(\"r2_score\", m.r2_score(ytest, ypred))\n",
    "\n",
    "ypredPD = pd.DataFrame()\n",
    "ypredPD[\"t + 1\"] = ytest.values.ravel()\n",
    "ypredPD[\"pred (t +1)\"] = ypred\n",
    "ypredPD.head(10)"
   ]
  },
  {
   "cell_type": "code",
   "execution_count": 144,
   "metadata": {},
   "outputs": [
    {
     "name": "stdout",
     "output_type": "stream",
     "text": [
      "< 5  35.81446860562181\n",
      "< 10  65.2079045895217\n",
      "< 15  85.00657062805286\n",
      "< 20  94.84515633135801\n",
      "< 25  98.28833072987693\n",
      "< 30  99.43054556875191\n"
     ]
    }
   ],
   "source": [
    "ypredPD[\"diff\"] = abs(ypredPD[\"t + 1\"] - ypredPD[\"pred (t +1)\"])\n",
    "print(\"< 5 \", 100 * ypredPD[ypredPD[\"diff\"] < 5].shape[0] / ypredPD.shape[0])\n",
    "print(\"< 10 \", 100 * ypredPD[ypredPD[\"diff\"] < 10].shape[0] / ypredPD.shape[0])\n",
    "print(\"< 15 \", 100 * ypredPD[ypredPD[\"diff\"] < 15].shape[0] / ypredPD.shape[0])\n",
    "print(\"< 20 \", 100 * ypredPD[ypredPD[\"diff\"] < 20].shape[0] / ypredPD.shape[0])\n",
    "print(\"< 25 \", 100 * ypredPD[ypredPD[\"diff\"] < 25].shape[0] / ypredPD.shape[0])\n",
    "print(\"< 30 \", 100 * ypredPD[ypredPD[\"diff\"] < 30].shape[0] / ypredPD.shape[0])"
   ]
  },
  {
   "cell_type": "code",
   "execution_count": 145,
   "metadata": {},
   "outputs": [],
   "source": [
    "# xtest.to_csv(\"xtest.txt\", sep=\",\")\n",
    "# ytest.to_csv(\"ytest.txt\", sep=\",\")\n",
    "\n",
    "# xtrain.to_csv(\"xtrain.txt\", sep=\",\")\n",
    "# ytrain.to_csv(\"ytrain.txt\", sep=\",\")\n",
    "\n",
    "# pd.DataFrame(ypred).to_csv(\"ypred_s000501.txt\", sep=\",\")"
   ]
  },
  {
   "cell_type": "markdown",
   "metadata": {},
   "source": [
    "ANN\n",
    "=========="
   ]
  },
  {
   "cell_type": "code",
   "execution_count": null,
   "metadata": {},
   "outputs": [],
   "source": [
    "from keras.layers import Dropout\n",
    "from keras.layers import BatchNormalization\n",
    "from keras.models import model_from_json\n",
    "from keras.utils import multi_gpu_model\n",
    "from keras.utils import to_categorical\n",
    "from keras.models import Sequential\n",
    "from keras.layers import Dense\n",
    "from keras.wrappers.scikit_learn import KerasRegressor"
   ]
  },
  {
   "cell_type": "code",
   "execution_count": null,
   "metadata": {},
   "outputs": [],
   "source": [
    "model = Sequential()\n",
    "model.add(\n",
    "    Dense(input_dim=16, units=512, activation=\"relu\", kernel_initializer=\"uniform\")\n",
    ")\n",
    "model.add(Dense(units=512, activation=\"relu\", kernel_initializer=\"uniform\"))\n",
    "# model.add(RBFLayer(512, 0.5))\n",
    "model.add(BatchNormalization())\n",
    "model.add(Dropout(0.25))\n",
    "\n",
    "# model.add(Dense(units=256, activation=\"relu\", kernel_initializer=\"uniform\"))\n",
    "# model.add(RBFLayer(256, 0.5))\n",
    "# model.add(Dense(units=256, activation=\"relu\", kernel_initializer=\"uniform\"))\n",
    "# model.add(RBFLayer(256, 0.5))\n",
    "# model.add(BatchNormalization())\n",
    "# model.add(Dropout(0.25))\n",
    "\n",
    "model.add(Dense(units=128, activation=\"relu\", kernel_initializer=\"uniform\"))\n",
    "# model.add(RBFLayer(128, 0.5))\n",
    "model.add(Dense(units=128, activation=\"relu\", kernel_initializer=\"uniform\"))\n",
    "# model.add(RBFLayer(128, 0.5))\n",
    "model.add(BatchNormalization())\n",
    "model.add(Dropout(0.25))\n",
    "\n",
    "# model.add(Dense(units=64, activation=\"relu\", kernel_initializer=\"uniform\"))\n",
    "# model.add(RBFLayer(64, 0.5))\n",
    "# model.add(Dense(units=64, activation=\"relu\", kernel_initializer=\"uniform\"))\n",
    "# model.add(RBFLayer(64, 0.5))\n",
    "# model.add(BatchNormalization())\n",
    "# model.add(Dropout(0.25))\n",
    "\n",
    "model.add(Dense(units=32, activation=\"relu\", kernel_initializer=\"uniform\"))\n",
    "# model.add(RBFLayer(32, 0.5))\n",
    "model.add(Dense(units=32, activation=\"relu\", kernel_initializer=\"uniform\"))\n",
    "# model.add(RBFLayer(32, 0.5))\n",
    "model.add(BatchNormalization())\n",
    "model.add(Dropout(0.25))\n",
    "\n",
    "model.add(Dense(units=16, activation=\"relu\", kernel_initializer=\"uniform\"))\n",
    "# model.add(RBFLayer(16, 0.5))\n",
    "model.add(BatchNormalization())\n",
    "model.add(Dropout(0.25))\n",
    "model.add(Dense(units=8, activation=\"relu\", kernel_initializer=\"uniform\"))\n",
    "# model.add(RBFLayer(8, 0.5))\n",
    "\n",
    "model.add(Dense(units=1, kernel_initializer=\"uniform\"))\n",
    "model.compile(\n",
    "    loss=\"mean_squared_error\", optimizer=\"Nadam\", metrics=[\"mean_squared_error\"]\n",
    ")"
   ]
  },
  {
   "cell_type": "code",
   "execution_count": null,
   "metadata": {
    "scrolled": true
   },
   "outputs": [],
   "source": [
    "h = model.fit(xtrain, ytrain, validation_split=0.2, epochs=100, batch_size=10000)"
   ]
  },
  {
   "cell_type": "code",
   "execution_count": null,
   "metadata": {},
   "outputs": [],
   "source": [
    "ypred = model.predict(xtest)\n",
    "\n",
    "import math\n",
    "\n",
    "print(\"mean_squared_error\", m.mean_squared_error(ytest, ypred))\n",
    "print(\"root mean_squared_error\", math.sqrt(m.mean_squared_error(ytest, ypred)))\n",
    "print(\"mean_absolute_error\", m.mean_absolute_error(ytest, ypred))\n",
    "print(\"r2_score\", m.r2_score(ytest, ypred))\n",
    "\n",
    "ypredPD = pd.DataFrame()\n",
    "# ypredPD['t']=xtest['S000501_x'].values\n",
    "ypredPD[\"t + 1\"] = ytest.values.ravel()\n",
    "ypredPD[\"pred (t +1)\"] = ypred\n",
    "ypredPD.head(10)"
   ]
  },
  {
   "cell_type": "code",
   "execution_count": null,
   "metadata": {},
   "outputs": [],
   "source": [
    "history = h\n",
    "print(history.history.keys())\n",
    "# summarize history for accuracy\n",
    "plt.plot(history.history[\"val_loss\"])\n",
    "plt.plot(history.history[\"loss\"])\n",
    "plt.title(\"model accuracy\")\n",
    "plt.ylabel(\"accuracy\")\n",
    "plt.xlabel(\"epoch\")\n",
    "plt.legend([\"train\", \"test\"], loc=\"upper left\")\n",
    "plt.show()\n",
    "# summarize history for loss\n",
    "plt.plot(history.history[\"val_mean_squared_error\"])\n",
    "plt.plot(history.history[\"mean_squared_error\"])\n",
    "plt.title(\"model loss\")\n",
    "plt.ylabel(\"loss\")\n",
    "plt.xlabel(\"epoch\")\n",
    "plt.legend([\"train\", \"test\"], loc=\"upper left\")\n",
    "plt.show()"
   ]
  },
  {
   "cell_type": "code",
   "execution_count": null,
   "metadata": {},
   "outputs": [],
   "source": [
    "ypredPD[\"diff\"] = abs(ypredPD[\"t + 1\"] - ypredPD[\"pred (t +1)\"])\n",
    "print(np.mean(ypredPD[\"diff\"]))\n",
    "print(np.std(ypredPD[\"diff\"]))\n",
    "print(100 * ypredPD[ypredPD[\"diff\"] <= 5].shape[0] / ypredPD.shape[0])"
   ]
  },
  {
   "cell_type": "code",
   "execution_count": null,
   "metadata": {},
   "outputs": [],
   "source": [
    "import matplotlib.patches as mpatches\n",
    "\n",
    "plt.ylabel(\"Values\")\n",
    "plt.xlabel(\"index\")\n",
    "red_patch = mpatches.Patch(color=\"red\", label=\"Actual data\")\n",
    "blue_patch = mpatches.Patch(color=\"blue\", label=\"Predicted data\")\n",
    "plt.legend(handles=[red_patch, blue_patch])\n",
    "\n",
    "ypredPD = ypredPD.sort_values(by=[\"t + 1\"])\n",
    "plt.scatter(\n",
    "    np.arange(0, ypredPD.shape[0], 1), ypredPD[\"pred (t +1)\"][: ypredPD.shape[0]]\n",
    ")\n",
    "plt.plot(\n",
    "    np.arange(0, ypredPD.shape[0], 1), ypredPD[\"t + 1\"][: ypredPD.shape[0]], color=\"red\"\n",
    ")\n",
    "plt.show()\n",
    "\n",
    "plt.ylabel(\"p*(t+1), Predicted data\")\n",
    "plt.xlabel(\"p(t+1), Actual data\")\n",
    "plt.scatter(\n",
    "    ypredPD[\"t + 1\"][: ypredPD.shape[0]], ypredPD[\"pred (t +1)\"][: ypredPD.shape[0]]\n",
    ")\n",
    "\n",
    "ypredPD.head(10)"
   ]
  },
  {
   "cell_type": "code",
   "execution_count": null,
   "metadata": {},
   "outputs": [],
   "source": [
    "ypredPD[\"diff\"] = abs(ypredPD[\"t + 1\"] - ypredPD[\"pred (t +1)\"])\n",
    "print(\"< 5 \", 100 * ypredPD[ypredPD[\"diff\"] < 5].shape[0] / ypredPD.shape[0])\n",
    "print(\"< 10 \", 100 * ypredPD[ypredPD[\"diff\"] < 10].shape[0] / ypredPD.shape[0])\n",
    "print(\"< 15 \", 100 * ypredPD[ypredPD[\"diff\"] < 15].shape[0] / ypredPD.shape[0])\n",
    "print(\"< 20 \", 100 * ypredPD[ypredPD[\"diff\"] < 20].shape[0] / ypredPD.shape[0])\n",
    "print(\"< 25 \", 100 * ypredPD[ypredPD[\"diff\"] < 25].shape[0] / ypredPD.shape[0])\n",
    "print(\"< 30 \", 100 * ypredPD[ypredPD[\"diff\"] < 30].shape[0] / ypredPD.shape[0])"
   ]
  },
  {
   "cell_type": "markdown",
   "metadata": {},
   "source": [
    "SVR\n",
    "======"
   ]
  },
  {
   "cell_type": "code",
   "execution_count": null,
   "metadata": {},
   "outputs": [],
   "source": [
    "from sklearn.svm import SVR\n",
    "# svr_rbf = SVR(kernel='rbf', C=10, gamma=0.02, epsilon=.001)\n",
    "svr_rbf = SVR(kernel='rbf')"
   ]
  },
  {
   "cell_type": "code",
   "execution_count": null,
   "metadata": {},
   "outputs": [],
   "source": [
    "svr_rbf.fit(xtrain, ytrain) "
   ]
  },
  {
   "cell_type": "code",
   "execution_count": null,
   "metadata": {},
   "outputs": [],
   "source": [
    "ypred=svr_rbf.predict(xtest)"
   ]
  },
  {
   "cell_type": "code",
   "execution_count": null,
   "metadata": {},
   "outputs": [],
   "source": [
    "import math\n",
    "print('mean_squared_error',mean_squared_error(ytest, ypred))\n",
    "print('root mean_squared_error',math.sqrt(mean_squared_error(ytest, ypred)))\n",
    "print('mean_absolute_error',mean_absolute_error(ytest, ypred))\n",
    "print('r2_score',r2_score(ytest, ypred))\n",
    "\n",
    "ypredPD=pd.DataFrame()\n",
    "# ypredPD['t']=xtest['S000501_x'].values\n",
    "ypredPD['t + 1']=ytest.values.ravel()\n",
    "ypredPD['pred (t +1)']=ypred\n",
    "ypredPD.head(10)"
   ]
  },
  {
   "cell_type": "code",
   "execution_count": null,
   "metadata": {},
   "outputs": [],
   "source": []
  },
  {
   "cell_type": "code",
   "execution_count": null,
   "metadata": {},
   "outputs": [],
   "source": [
    "from keras.layers import Layer\n",
    "from keras import backend as K\n",
    "\n",
    "\n",
    "class RBFLayer(Layer):\n",
    "    def __init__(self, units, gamma, **kwargs):\n",
    "        super(RBFLayer, self).__init__(**kwargs)\n",
    "        self.units = units\n",
    "        self.gamma = K.cast_to_floatx(gamma)\n",
    "\n",
    "    def build(self, input_shape):\n",
    "        self.mu = self.add_weight(\n",
    "            name=\"mu\",\n",
    "            shape=(int(input_shape[1]), self.units),\n",
    "            initializer=\"uniform\",\n",
    "            trainable=True,\n",
    "        )\n",
    "        super(RBFLayer, self).build(input_shape)\n",
    "\n",
    "    def call(self, inputs):\n",
    "        diff = K.expand_dims(inputs) - self.mu\n",
    "        l2 = K.sum(K.pow(diff, 2), axis=1)\n",
    "        res = K.exp(-1 * self.gamma * l2)\n",
    "        return res\n",
    "\n",
    "    def compute_output_shape(self, input_shape):\n",
    "        return (input_shape[0], self.units)"
   ]
  },
  {
   "cell_type": "code",
   "execution_count": null,
   "metadata": {},
   "outputs": [],
   "source": []
  }
 ],
 "metadata": {
  "kernelspec": {
   "display_name": "Python 3",
   "language": "python",
   "name": "python3"
  },
  "language_info": {
   "codemirror_mode": {
    "name": "ipython",
    "version": 3
   },
   "file_extension": ".py",
   "mimetype": "text/x-python",
   "name": "python",
   "nbconvert_exporter": "python",
   "pygments_lexer": "ipython3",
   "version": "3.7.3"
  }
 },
 "nbformat": 4,
 "nbformat_minor": 2
}

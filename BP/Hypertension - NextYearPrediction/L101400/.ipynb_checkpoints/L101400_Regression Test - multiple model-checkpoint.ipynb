{
 "cells": [
  {
   "cell_type": "code",
   "execution_count": 1,
   "metadata": {},
   "outputs": [
    {
     "name": "stderr",
     "output_type": "stream",
     "text": [
      "Using TensorFlow backend.\n"
     ]
    }
   ],
   "source": [
    "from matplotlib import pyplot as plt\n",
    "import pandas as pd \n",
    "import numpy as np\n",
    "import warnings\n",
    "warnings.filterwarnings('ignore')\n",
    "from scipy import stats\n",
    "from sklearn.utils import shuffle\n",
    "from sklearn.preprocessing import LabelEncoder\n",
    "from sklearn.metrics import confusion_matrix \n",
    "from sklearn.utils import shuffle\n",
    "from sklearn.ensemble import RandomForestRegressor\n",
    "from sklearn.datasets import make_regression\n",
    "from sklearn.model_selection import train_test_split\n",
    "from sklearn.metrics import mean_absolute_error\n",
    "from sklearn.metrics import mean_squared_error\n",
    "from sklearn.metrics import mean_absolute_error\n",
    "from sklearn.metrics import r2_score\n",
    "from keras.models import Sequential\n",
    "from keras.layers import Dense\n",
    "from keras.wrappers.scikit_learn import KerasRegressor\n",
    "from sklearn.model_selection import cross_val_score\n",
    "from sklearn.model_selection import KFold\n",
    "from sklearn.preprocessing import StandardScaler\n",
    "from sklearn.pipeline import Pipeline\n",
    "from keras.layers import Dropout\n",
    "from keras.layers import BatchNormalization\n",
    "from keras.models import model_from_json\n",
    "from keras.utils import multi_gpu_model \n",
    "from keras.utils import to_categorical\n"
   ]
  },
  {
   "cell_type": "markdown",
   "metadata": {},
   "source": [
    "Read the data\n",
    "==========="
   ]
  },
  {
   "cell_type": "code",
   "execution_count": 37,
   "metadata": {},
   "outputs": [
    {
     "name": "stdout",
     "output_type": "stream",
     "text": [
      "(159381, 18)\n",
      "(159381, 2)\n"
     ]
    }
   ],
   "source": [
    "x_original=pd.read_csv('../../_xlable4_withNa_AllColumns.txt')\n",
    "y_original=pd.read_csv('../../_targelable4_withNa_AllColumns.txt')\n",
    "\n",
    "x_original=x_original[['Unnamed: 0','L101400', 'L500700', 'L103600', 'L190900', 'L191200',\n",
    "       'L107500', 'L102400', 'L100300', 'L500800', 'AGE', 'L100100',\n",
    "                      'FIELD_16','FIELD_23','FIELD_15','FIELD_22','FIELD_17','FIELD_24']]\n",
    "\n",
    "y_original=y_original[['Unnamed: 0','L101400']]\n",
    "\n",
    "\n",
    "print(x_original.shape)\n",
    "print(y_original.shape)\n"
   ]
  },
  {
   "cell_type": "code",
   "execution_count": 38,
   "metadata": {},
   "outputs": [],
   "source": [
    "# for index,col in enumerate(x_original.columns):\n",
    "#     print(col,x_original[col].dropna().shape[0])"
   ]
  },
  {
   "cell_type": "markdown",
   "metadata": {},
   "source": [
    "Prepare the data\n",
    "============"
   ]
  },
  {
   "cell_type": "code",
   "execution_count": 39,
   "metadata": {},
   "outputs": [
    {
     "name": "stdout",
     "output_type": "stream",
     "text": [
      "(26593, 20)\n"
     ]
    }
   ],
   "source": [
    "data= pd.merge(x_original,y_original, how='inner',left_on='Unnamed: 0', right_on='Unnamed: 0')\n",
    "data=data.dropna(). reset_index()\n",
    "\n",
    "print(data.shape)"
   ]
  },
  {
   "cell_type": "code",
   "execution_count": 40,
   "metadata": {},
   "outputs": [
    {
     "name": "stdout",
     "output_type": "stream",
     "text": [
      "(26593, 20)\n"
     ]
    }
   ],
   "source": [
    "# filter the data set\n",
    "data = data[data.FIELD_16 != 1]  # exclude people who are diagnosed for (diabetes)\n",
    "data = data[data.FIELD_23 != 1]  # exclude people who are on medication for diabetes\n",
    "\n",
    "data = data[\n",
    "    data.FIELD_15 != 1\n",
    "]  # exclude people who are diagnosed for (high blood pressure)\n",
    "data = data[\n",
    "    data.FIELD_22 != 1\n",
    "]  # exclude people who are on medication for high blood pressure\n",
    "\n",
    "data = data[data.FIELD_17 != 1]  # exclude people who are diagnosed for hyperlipidemia\n",
    "data = data[\n",
    "    data.FIELD_24 != 1\n",
    "]  # exclude people who are on medication for hyperlipidemia\n",
    "print(data.shape)"
   ]
  },
  {
   "cell_type": "code",
   "execution_count": 41,
   "metadata": {},
   "outputs": [
    {
     "name": "stdout",
     "output_type": "stream",
     "text": [
      "(26593, 20)\n",
      "Index(['index', 'Unnamed: 0', 'L101400_x', 'L500700', 'L103600', 'L190900',\n",
      "       'L191200', 'L107500', 'L102400', 'L100300', 'L500800', 'AGE', 'L100100',\n",
      "       'FIELD_16', 'FIELD_23', 'FIELD_15', 'FIELD_22', 'FIELD_17', 'FIELD_24',\n",
      "       'L101400_y'],\n",
      "      dtype='object')\n"
     ]
    },
    {
     "data": {
      "text/html": [
       "<div>\n",
       "<style scoped>\n",
       "    .dataframe tbody tr th:only-of-type {\n",
       "        vertical-align: middle;\n",
       "    }\n",
       "\n",
       "    .dataframe tbody tr th {\n",
       "        vertical-align: top;\n",
       "    }\n",
       "\n",
       "    .dataframe thead th {\n",
       "        text-align: right;\n",
       "    }\n",
       "</style>\n",
       "<table border=\"1\" class=\"dataframe\">\n",
       "  <thead>\n",
       "    <tr style=\"text-align: right;\">\n",
       "      <th></th>\n",
       "      <th>index</th>\n",
       "      <th>Unnamed: 0</th>\n",
       "      <th>L101400_x</th>\n",
       "      <th>L500700</th>\n",
       "      <th>L103600</th>\n",
       "      <th>L190900</th>\n",
       "      <th>L191200</th>\n",
       "      <th>L107500</th>\n",
       "      <th>L102400</th>\n",
       "      <th>L100300</th>\n",
       "      <th>L500800</th>\n",
       "      <th>AGE</th>\n",
       "      <th>L100100</th>\n",
       "      <th>FIELD_16</th>\n",
       "      <th>FIELD_23</th>\n",
       "      <th>FIELD_15</th>\n",
       "      <th>FIELD_22</th>\n",
       "      <th>FIELD_17</th>\n",
       "      <th>FIELD_24</th>\n",
       "      <th>L101400_y</th>\n",
       "    </tr>\n",
       "  </thead>\n",
       "  <tbody>\n",
       "    <tr>\n",
       "      <th>0</th>\n",
       "      <td>0</td>\n",
       "      <td>0</td>\n",
       "      <td>228.0</td>\n",
       "      <td>0.87</td>\n",
       "      <td>104.0</td>\n",
       "      <td>13.2</td>\n",
       "      <td>9.8</td>\n",
       "      <td>1.8</td>\n",
       "      <td>45.0</td>\n",
       "      <td>2.5</td>\n",
       "      <td>2.46</td>\n",
       "      <td>44.0</td>\n",
       "      <td>7.0</td>\n",
       "      <td>0.0</td>\n",
       "      <td>0.0</td>\n",
       "      <td>0.0</td>\n",
       "      <td>0.0</td>\n",
       "      <td>0.0</td>\n",
       "      <td>0.0</td>\n",
       "      <td>279.0</td>\n",
       "    </tr>\n",
       "    <tr>\n",
       "      <th>1</th>\n",
       "      <td>1</td>\n",
       "      <td>1</td>\n",
       "      <td>279.0</td>\n",
       "      <td>1.13</td>\n",
       "      <td>106.0</td>\n",
       "      <td>13.7</td>\n",
       "      <td>10.0</td>\n",
       "      <td>1.6</td>\n",
       "      <td>42.0</td>\n",
       "      <td>3.1</td>\n",
       "      <td>2.03</td>\n",
       "      <td>45.0</td>\n",
       "      <td>8.0</td>\n",
       "      <td>0.0</td>\n",
       "      <td>0.0</td>\n",
       "      <td>0.0</td>\n",
       "      <td>0.0</td>\n",
       "      <td>0.0</td>\n",
       "      <td>0.0</td>\n",
       "      <td>314.0</td>\n",
       "    </tr>\n",
       "    <tr>\n",
       "      <th>2</th>\n",
       "      <td>3</td>\n",
       "      <td>3</td>\n",
       "      <td>273.0</td>\n",
       "      <td>1.08</td>\n",
       "      <td>105.0</td>\n",
       "      <td>13.3</td>\n",
       "      <td>8.2</td>\n",
       "      <td>1.5</td>\n",
       "      <td>54.0</td>\n",
       "      <td>2.7</td>\n",
       "      <td>2.73</td>\n",
       "      <td>51.0</td>\n",
       "      <td>6.8</td>\n",
       "      <td>0.0</td>\n",
       "      <td>0.0</td>\n",
       "      <td>0.0</td>\n",
       "      <td>0.0</td>\n",
       "      <td>0.0</td>\n",
       "      <td>0.0</td>\n",
       "      <td>271.0</td>\n",
       "    </tr>\n",
       "    <tr>\n",
       "      <th>3</th>\n",
       "      <td>5</td>\n",
       "      <td>5</td>\n",
       "      <td>352.0</td>\n",
       "      <td>1.10</td>\n",
       "      <td>104.0</td>\n",
       "      <td>13.6</td>\n",
       "      <td>8.1</td>\n",
       "      <td>1.5</td>\n",
       "      <td>29.0</td>\n",
       "      <td>2.7</td>\n",
       "      <td>2.82</td>\n",
       "      <td>63.0</td>\n",
       "      <td>6.7</td>\n",
       "      <td>0.0</td>\n",
       "      <td>0.0</td>\n",
       "      <td>0.0</td>\n",
       "      <td>0.0</td>\n",
       "      <td>0.0</td>\n",
       "      <td>0.0</td>\n",
       "      <td>362.0</td>\n",
       "    </tr>\n",
       "    <tr>\n",
       "      <th>4</th>\n",
       "      <td>6</td>\n",
       "      <td>6</td>\n",
       "      <td>270.0</td>\n",
       "      <td>1.21</td>\n",
       "      <td>106.0</td>\n",
       "      <td>12.8</td>\n",
       "      <td>9.9</td>\n",
       "      <td>1.7</td>\n",
       "      <td>68.0</td>\n",
       "      <td>2.5</td>\n",
       "      <td>2.97</td>\n",
       "      <td>36.0</td>\n",
       "      <td>6.8</td>\n",
       "      <td>0.0</td>\n",
       "      <td>0.0</td>\n",
       "      <td>0.0</td>\n",
       "      <td>0.0</td>\n",
       "      <td>0.0</td>\n",
       "      <td>0.0</td>\n",
       "      <td>288.0</td>\n",
       "    </tr>\n",
       "  </tbody>\n",
       "</table>\n",
       "</div>"
      ],
      "text/plain": [
       "   index  Unnamed: 0  L101400_x  L500700  L103600  L190900  L191200  L107500  \\\n",
       "0      0           0      228.0     0.87    104.0     13.2      9.8      1.8   \n",
       "1      1           1      279.0     1.13    106.0     13.7     10.0      1.6   \n",
       "2      3           3      273.0     1.08    105.0     13.3      8.2      1.5   \n",
       "3      5           5      352.0     1.10    104.0     13.6      8.1      1.5   \n",
       "4      6           6      270.0     1.21    106.0     12.8      9.9      1.7   \n",
       "\n",
       "   L102400  L100300  L500800   AGE  L100100  FIELD_16  FIELD_23  FIELD_15  \\\n",
       "0     45.0      2.5     2.46  44.0      7.0       0.0       0.0       0.0   \n",
       "1     42.0      3.1     2.03  45.0      8.0       0.0       0.0       0.0   \n",
       "2     54.0      2.7     2.73  51.0      6.8       0.0       0.0       0.0   \n",
       "3     29.0      2.7     2.82  63.0      6.7       0.0       0.0       0.0   \n",
       "4     68.0      2.5     2.97  36.0      6.8       0.0       0.0       0.0   \n",
       "\n",
       "   FIELD_22  FIELD_17  FIELD_24  L101400_y  \n",
       "0       0.0       0.0       0.0      279.0  \n",
       "1       0.0       0.0       0.0      314.0  \n",
       "2       0.0       0.0       0.0      271.0  \n",
       "3       0.0       0.0       0.0      362.0  \n",
       "4       0.0       0.0       0.0      288.0  "
      ]
     },
     "execution_count": 41,
     "metadata": {},
     "output_type": "execute_result"
    }
   ],
   "source": [
    "print(data.shape)\n",
    "print(data.columns)\n",
    "data.head()"
   ]
  },
  {
   "cell_type": "code",
   "execution_count": null,
   "metadata": {},
   "outputs": [],
   "source": [
    "\n",
    "x=data[['L101400_x', 'L500700', 'L103600', 'L190900', 'L191200',\n",
    "       'L107500', 'L102400', 'L100300', 'L500800', 'AGE', 'L100100','SEX']]\n",
    "\n",
    "y=data[['L101400_y' ]]"
   ]
  },
  {
   "cell_type": "markdown",
   "metadata": {},
   "source": [
    "Check the correlation of the selected feature with the independent variables\n",
    "====="
   ]
  },
  {
   "cell_type": "code",
   "execution_count": 43,
   "metadata": {},
   "outputs": [],
   "source": [
    "temppd=pd.DataFrame(x.copy())\n",
    "temppd['y']=y.L101400_y\n",
    "temppd.head()\n",
    "corval=abs(temppd.corr()).sort_values(by='y', ascending=False)"
   ]
  },
  {
   "cell_type": "code",
   "execution_count": 44,
   "metadata": {},
   "outputs": [
    {
     "data": {
      "text/plain": [
       "y            1.000000\n",
       "L101400_x    0.311220\n",
       "L103600      0.194318\n",
       "L100300      0.185627\n",
       "L500700      0.183523\n",
       "L107500      0.177060\n",
       "L191200      0.172512\n",
       "L190900      0.151035\n",
       "COMPARE      0.139180\n",
       "L100100      0.134689\n",
       "L102400      0.124952\n",
       "L500800      0.123934\n",
       "AGE          0.054705\n",
       "Name: y, dtype: float64"
      ]
     },
     "execution_count": 44,
     "metadata": {},
     "output_type": "execute_result"
    }
   ],
   "source": [
    "corval.y"
   ]
  },
  {
   "cell_type": "code",
   "execution_count": 45,
   "metadata": {},
   "outputs": [],
   "source": [
    "#histogram plot of the features\n",
    "# import matplotlib.pyplot as plt\n",
    "# x[x.dtypes[(x.dtypes==\"float64\")|(x.dtypes==\"int64\")]\n",
    "#                         .index.values].hist(figsize=[11,11])"
   ]
  },
  {
   "cell_type": "markdown",
   "metadata": {},
   "source": [
    "Apply PCA\n",
    "==========="
   ]
  },
  {
   "cell_type": "code",
   "execution_count": 46,
   "metadata": {},
   "outputs": [],
   "source": [
    "# from sklearn.decomposition import PCA\n",
    "# pca = PCA(n_components=8)\n",
    "# pca.fit(x)\n",
    "\n",
    "# print(pca.explained_variance_ratio_)   \n",
    "# print(np.sum(pca.explained_variance_ratio_))\n",
    "\n",
    "# x=pca.fit_transform(x) \n",
    "# print(x.shape)\n"
   ]
  },
  {
   "cell_type": "markdown",
   "metadata": {},
   "source": [
    "feature scaling\n",
    "======="
   ]
  },
  {
   "cell_type": "code",
   "execution_count": 47,
   "metadata": {},
   "outputs": [],
   "source": [
    "# from sklearn import preprocessing\n",
    "# min_max_scaler = preprocessing.MinMaxScaler()  #StandardScaler()\n",
    "# x = min_max_scaler.fit_transform(x)"
   ]
  },
  {
   "cell_type": "markdown",
   "metadata": {},
   "source": [
    "clustring test\n",
    "=========="
   ]
  },
  {
   "cell_type": "code",
   "execution_count": 48,
   "metadata": {},
   "outputs": [],
   "source": [
    "# from sklearn.cluster import KMeans\n",
    "# from scipy.spatial.distance import cdist\n",
    "\n",
    "# K = range(1,10)\n",
    "# distortions = []\n",
    "\n",
    "# for k in K:\n",
    "#     kmeanModel = KMeans(n_clusters=k).fit(x)\n",
    "#     kmeanModel.fit(x)\n",
    "#     distortions.append(sum(np.min(cdist(x, kmeanModel.cluster_centers_, 'euclidean'), axis=1)) / x.shape[0])\n",
    "\n",
    "# # Plot the elbow\n",
    "# plt.plot(K, distortions, 'bx-')\n",
    "# plt.xlabel('k')\n",
    "# plt.ylabel('Distortion')\n",
    "# plt.title('The Elbow Method showing the optimal k')\n",
    "# plt.show()\n"
   ]
  },
  {
   "cell_type": "code",
   "execution_count": 49,
   "metadata": {},
   "outputs": [],
   "source": [
    "# kmeanModel = KMeans(n_clusters=k).fit(x)\n",
    "# x['lbl']=kmeanModel.labels_ "
   ]
  },
  {
   "cell_type": "code",
   "execution_count": 50,
   "metadata": {},
   "outputs": [],
   "source": [
    "# x.columns"
   ]
  },
  {
   "cell_type": "markdown",
   "metadata": {},
   "source": [
    "Random Forest Regressor\n",
    "============="
   ]
  },
  {
   "cell_type": "code",
   "execution_count": 51,
   "metadata": {},
   "outputs": [],
   "source": [
    "ylable=y[['L101400_y']]  \n",
    "xtrain,xtest,ytrain,ytest=train_test_split(x, ylable, random_state=42, test_size=0.2)"
   ]
  },
  {
   "cell_type": "code",
   "execution_count": 52,
   "metadata": {},
   "outputs": [
    {
     "name": "stdout",
     "output_type": "stream",
     "text": [
      "[0.38943915 0.11158856 0.1404872  0.07630674 0.18454645 0.01933034\n",
      " 0.0166791  0.0266677  0.01124211 0.00880413 0.01103749 0.00387102]\n"
     ]
    }
   ],
   "source": [
    "regr = RandomForestRegressor(max_depth=7, random_state=0,verbose =0,n_estimators=500)\n",
    "regr.fit(xtrain, ytrain) \n",
    "print(regr.feature_importances_)\n",
    "ypred=regr.predict(xtest)\n"
   ]
  },
  {
   "cell_type": "code",
   "execution_count": 53,
   "metadata": {},
   "outputs": [
    {
     "name": "stdout",
     "output_type": "stream",
     "text": [
      "mean_squared_error 4391.660728751451\n",
      "root mean_squared_error 66.26960637238953\n",
      "mean_absolute_error 45.85105645903813\n",
      "r2_score 0.28500162512198013\n"
     ]
    },
    {
     "data": {
      "image/png": "[encoded data removed]",
      "text/plain": [
       "<Figure size 432x288 with 1 Axes>"
      ]
     },
     "metadata": {
      "needs_background": "light"
     },
     "output_type": "display_data"
    },
    {
     "data": {
      "text/html": [
       "<div>\n",
       "<style scoped>\n",
       "    .dataframe tbody tr th:only-of-type {\n",
       "        vertical-align: middle;\n",
       "    }\n",
       "\n",
       "    .dataframe tbody tr th {\n",
       "        vertical-align: top;\n",
       "    }\n",
       "\n",
       "    .dataframe thead th {\n",
       "        text-align: right;\n",
       "    }\n",
       "</style>\n",
       "<table border=\"1\" class=\"dataframe\">\n",
       "  <thead>\n",
       "    <tr style=\"text-align: right;\">\n",
       "      <th></th>\n",
       "      <th>t + 1</th>\n",
       "      <th>pred (t +1)</th>\n",
       "    </tr>\n",
       "  </thead>\n",
       "  <tbody>\n",
       "    <tr>\n",
       "      <th>430</th>\n",
       "      <td>557.0</td>\n",
       "      <td>344.184497</td>\n",
       "    </tr>\n",
       "    <tr>\n",
       "      <th>2557</th>\n",
       "      <td>596.0</td>\n",
       "      <td>346.003446</td>\n",
       "    </tr>\n",
       "    <tr>\n",
       "      <th>4963</th>\n",
       "      <td>626.0</td>\n",
       "      <td>346.004687</td>\n",
       "    </tr>\n",
       "    <tr>\n",
       "      <th>1525</th>\n",
       "      <td>668.0</td>\n",
       "      <td>337.356113</td>\n",
       "    </tr>\n",
       "    <tr>\n",
       "      <th>3372</th>\n",
       "      <td>676.0</td>\n",
       "      <td>326.530057</td>\n",
       "    </tr>\n",
       "    <tr>\n",
       "      <th>3555</th>\n",
       "      <td>709.0</td>\n",
       "      <td>270.950653</td>\n",
       "    </tr>\n",
       "    <tr>\n",
       "      <th>5035</th>\n",
       "      <td>897.0</td>\n",
       "      <td>298.721375</td>\n",
       "    </tr>\n",
       "    <tr>\n",
       "      <th>2974</th>\n",
       "      <td>907.0</td>\n",
       "      <td>282.139580</td>\n",
       "    </tr>\n",
       "    <tr>\n",
       "      <th>3868</th>\n",
       "      <td>929.0</td>\n",
       "      <td>286.756846</td>\n",
       "    </tr>\n",
       "    <tr>\n",
       "      <th>889</th>\n",
       "      <td>1777.0</td>\n",
       "      <td>319.227631</td>\n",
       "    </tr>\n",
       "  </tbody>\n",
       "</table>\n",
       "</div>"
      ],
      "text/plain": [
       "       t + 1  pred (t +1)\n",
       "430    557.0   344.184497\n",
       "2557   596.0   346.003446\n",
       "4963   626.0   346.004687\n",
       "1525   668.0   337.356113\n",
       "3372   676.0   326.530057\n",
       "3555   709.0   270.950653\n",
       "5035   897.0   298.721375\n",
       "2974   907.0   282.139580\n",
       "3868   929.0   286.756846\n",
       "889   1777.0   319.227631"
      ]
     },
     "execution_count": 53,
     "metadata": {},
     "output_type": "execute_result"
    },
    {
     "data": {
      "image/png": "[encoded data removed]",
      "text/plain": [
       "<Figure size 432x288 with 1 Axes>"
      ]
     },
     "metadata": {
      "needs_background": "light"
     },
     "output_type": "display_data"
    }
   ],
   "source": [
    "\n",
    "import math\n",
    "print('mean_squared_error',mean_squared_error(ytest, ypred))\n",
    "print('root mean_squared_error',math.sqrt(mean_squared_error(ytest, ypred)))\n",
    "print('mean_absolute_error',mean_absolute_error(ytest, ypred))\n",
    "print('r2_score',r2_score(ytest, ypred))\n",
    "\n",
    "ypredPD=pd.DataFrame()\n",
    "# ypredPD['t']=xtest['S000501_x'].values\n",
    "ypredPD['t + 1']=ytest.values.ravel()\n",
    "ypredPD['pred (t +1)']=ypred\n",
    "ypredPD.head(30)\n",
    "\n",
    "import matplotlib.patches as mpatches\n",
    "plt.ylabel('Values')\n",
    "plt.xlabel('index')\n",
    "red_patch = mpatches.Patch(color='red', label='Actual data')\n",
    "blue_patch = mpatches.Patch(color='blue', label='Predicted data')\n",
    "plt.legend(handles=[red_patch,blue_patch])\n",
    "\n",
    "ypredPD=ypredPD.sort_values(by=['t + 1'])\n",
    "plt.scatter(np.arange(0,ypredPD.shape[0],1),ypredPD['pred (t +1)'][:ypredPD.shape[0]])\n",
    "plt.plot(np.arange(0,ypredPD.shape[0],1),ypredPD['t + 1'][:ypredPD.shape[0]],color='red')\n",
    "plt.show()\n",
    "\n",
    "plt.ylabel('p*(t+1), Predicted data')\n",
    "plt.xlabel('p(t+1), Actual data')\n",
    "plt.scatter(ypredPD['t + 1'][:ypredPD.shape[0]],ypredPD['pred (t +1)'][:ypredPD.shape[0]])\n",
    "\n",
    "ypredPD.tail(10)"
   ]
  },
  {
   "cell_type": "code",
   "execution_count": 54,
   "metadata": {},
   "outputs": [],
   "source": [
    "# tempdata=pd.DataFrame(xtest.copy())\n",
    "# tempdata['ytest']=ytest\n",
    "# # temp=temp.dropna()\n",
    "# # tempdata.head()\n",
    "# # tempdata[tempdata.ytest.isna()].index\n",
    "\n",
    "# tempdata=tempdata.drop(tempdata[tempdata.ytest.isna()].index)\n"
   ]
  },
  {
   "cell_type": "markdown",
   "metadata": {},
   "source": [
    "xg boost\n",
    "=========="
   ]
  },
  {
   "cell_type": "code",
   "execution_count": 34,
   "metadata": {},
   "outputs": [],
   "source": [
    "import xgboost as xgb\n",
    "# from sklearn.metrics import mean_squared_error\n",
    "# import pandas as pd\n",
    "# import numpy as np"
   ]
  },
  {
   "cell_type": "code",
   "execution_count": 35,
   "metadata": {},
   "outputs": [
    {
     "name": "stdout",
     "output_type": "stream",
     "text": [
      "[20:24:39] WARNING: C:/Jenkins/workspace/xgboost-win64_release_0.90/src/objective/regression_obj.cu:152: reg:linear is now deprecated in favor of reg:squarederror.\n"
     ]
    },
    {
     "data": {
      "text/plain": [
       "XGBRegressor(base_score=0.5, booster='gbtree', colsample_bylevel=1,\n",
       "             colsample_bynode=1, colsample_bytree=1, gamma=0,\n",
       "             importance_type='gain', learning_rate=0.1, max_delta_step=0,\n",
       "             max_depth=3, min_child_weight=1, missing=None, n_estimators=100,\n",
       "             n_jobs=1, nthread=None, objective='reg:linear', random_state=0,\n",
       "             reg_alpha=0, reg_lambda=1, scale_pos_weight=1, seed=None,\n",
       "             silent=None, subsample=1, verbosity=1)"
      ]
     },
     "execution_count": 35,
     "metadata": {},
     "output_type": "execute_result"
    }
   ],
   "source": [
    "xg_reg = xgb.XGBRegressor()\n",
    "# xg_reg = xgb.XGBRegressor(objective ='reg:linear', colsample_bytree = 0.3, \n",
    "#                           learning_rate = 0.1,max_depth = 5, alpha = 10, n_estimators = 10)\n",
    "xg_reg.fit(xtrain, ytrain) "
   ]
  },
  {
   "cell_type": "code",
   "execution_count": 36,
   "metadata": {},
   "outputs": [
    {
     "name": "stdout",
     "output_type": "stream",
     "text": [
      "mean_squared_error 4072.212628308622\n",
      "root mean_squared_error 63.81389055925537\n",
      "mean_absolute_error 44.51702497022944\n",
      "r2_score 0.3370103951025857\n"
     ]
    }
   ],
   "source": [
    "\n",
    "ypred = xg_reg.predict(xtest)\n",
    "\n",
    "import math\n",
    "print('mean_squared_error',mean_squared_error(ytest, ypred))\n",
    "print('root mean_squared_error',math.sqrt(mean_squared_error(ytest, ypred)))\n",
    "print('mean_absolute_error',mean_absolute_error(ytest, ypred))\n",
    "print('r2_score',r2_score(ytest, ypred))\n",
    "\n",
    "# ypredPD=pd.DataFrame()\n",
    "# ypredPD['t']=xtest['S000501_x'].values\n",
    "# ypredPD['t + 1']=ytest.values\n",
    "# ypredPD['pred (t +1)']=ypred\n",
    "# ypredPD.head(10)"
   ]
  },
  {
   "cell_type": "code",
   "execution_count": 24,
   "metadata": {},
   "outputs": [],
   "source": [
    "# ytest[ytest.isna()].shape\n",
    "# tempdata.iloc[:,-1]"
   ]
  },
  {
   "cell_type": "markdown",
   "metadata": {},
   "source": [
    "ANN\n",
    "=========="
   ]
  },
  {
   "cell_type": "code",
   "execution_count": 40,
   "metadata": {},
   "outputs": [
    {
     "name": "stderr",
     "output_type": "stream",
     "text": [
      "WARNING: Logging before flag parsing goes to stderr.\n",
      "W1004 00:26:52.982615 10444 deprecation_wrapper.py:119] From C:\\ProgramData\\Anaconda3\\lib\\site-packages\\keras\\backend\\tensorflow_backend.py:74: The name tf.get_default_graph is deprecated. Please use tf.compat.v1.get_default_graph instead.\n",
      "\n",
      "W1004 00:26:52.995581 10444 deprecation_wrapper.py:119] From C:\\ProgramData\\Anaconda3\\lib\\site-packages\\keras\\backend\\tensorflow_backend.py:517: The name tf.placeholder is deprecated. Please use tf.compat.v1.placeholder instead.\n",
      "\n",
      "W1004 00:26:52.997575 10444 deprecation_wrapper.py:119] From C:\\ProgramData\\Anaconda3\\lib\\site-packages\\keras\\backend\\tensorflow_backend.py:4138: The name tf.random_uniform is deprecated. Please use tf.random.uniform instead.\n",
      "\n",
      "W1004 00:26:53.093015 10444 deprecation_wrapper.py:119] From C:\\ProgramData\\Anaconda3\\lib\\site-packages\\keras\\backend\\tensorflow_backend.py:133: The name tf.placeholder_with_default is deprecated. Please use tf.compat.v1.placeholder_with_default instead.\n",
      "\n",
      "W1004 00:26:53.117435 10444 deprecation.py:506] From C:\\ProgramData\\Anaconda3\\lib\\site-packages\\keras\\backend\\tensorflow_backend.py:3445: calling dropout (from tensorflow.python.ops.nn_ops) with keep_prob is deprecated and will be removed in a future version.\n",
      "Instructions for updating:\n",
      "Please use `rate` instead of `keep_prob`. Rate should be set to `rate = 1 - keep_prob`.\n",
      "W1004 00:26:53.214956 10444 deprecation_wrapper.py:119] From C:\\ProgramData\\Anaconda3\\lib\\site-packages\\keras\\optimizers.py:790: The name tf.train.Optimizer is deprecated. Please use tf.compat.v1.train.Optimizer instead.\n",
      "\n"
     ]
    }
   ],
   "source": [
    "model= Sequential()\n",
    "model.add(Dense(input_dim=34,units=128,activation='relu', kernel_initializer='uniform'))\n",
    "model.add(Dense(units=128, activation='relu', kernel_initializer='uniform')) \n",
    "# model.add(BatchNormalization())\n",
    "# model.add(Dropout(0.25))  \n",
    "model.add(Dense(units=64, activation='relu', kernel_initializer='uniform'))\n",
    "model.add(Dense(units=32, activation='relu', kernel_initializer='uniform')) \n",
    "model.add(BatchNormalization())\n",
    "model.add(Dropout(0.25))  \n",
    "model.add(Dense(units=16, activation='relu', kernel_initializer='uniform'))\n",
    "model.add(BatchNormalization())\n",
    "model.add(Dropout(0.25))  \n",
    "model.add(Dense(units=8, activation='relu', kernel_initializer='uniform'))\n",
    "model.add(Dense(units=1, kernel_initializer='uniform'))\n",
    "model.compile(loss='mean_squared_error', optimizer='Nadam', metrics=['mean_squared_error' ])"
   ]
  },
  {
   "cell_type": "code",
   "execution_count": 41,
   "metadata": {
    "scrolled": true
   },
   "outputs": [
    {
     "name": "stderr",
     "output_type": "stream",
     "text": [
      "W1004 00:26:53.623558 10444 deprecation_wrapper.py:119] From C:\\ProgramData\\Anaconda3\\lib\\site-packages\\keras\\backend\\tensorflow_backend.py:986: The name tf.assign_add is deprecated. Please use tf.compat.v1.assign_add instead.\n",
      "\n"
     ]
    },
    {
     "name": "stdout",
     "output_type": "stream",
     "text": [
      "Train on 32352 samples, validate on 8089 samples\n",
      "Epoch 1/100\n",
      "32352/32352 [==============================] - 1s 41us/step - loss: 4.6046 - mean_squared_error: 4.6046 - val_loss: 1.6467 - val_mean_squared_error: 1.6467\n",
      "Epoch 2/100\n",
      "32352/32352 [==============================] - 1s 24us/step - loss: 1.1394 - mean_squared_error: 1.1394 - val_loss: 2.4030 - val_mean_squared_error: 2.4030\n",
      "Epoch 3/100\n",
      "32352/32352 [==============================] - 1s 24us/step - loss: 0.7273 - mean_squared_error: 0.7273 - val_loss: 1.8084 - val_mean_squared_error: 1.8084\n",
      "Epoch 4/100\n",
      "32352/32352 [==============================] - 1s 24us/step - loss: 0.6440 - mean_squared_error: 0.6440 - val_loss: 0.9060 - val_mean_squared_error: 0.9060\n",
      "Epoch 5/100\n",
      "32352/32352 [==============================] - 1s 23us/step - loss: 0.6222 - mean_squared_error: 0.6222 - val_loss: 1.2086 - val_mean_squared_error: 1.2086\n",
      "Epoch 6/100\n",
      "32352/32352 [==============================] - 1s 24us/step - loss: 0.6125 - mean_squared_error: 0.6125 - val_loss: 0.7628 - val_mean_squared_error: 0.7628\n",
      "Epoch 7/100\n",
      "32352/32352 [==============================] - 1s 23us/step - loss: 0.6044 - mean_squared_error: 0.6044 - val_loss: 1.0844 - val_mean_squared_error: 1.0844\n",
      "Epoch 8/100\n",
      "32352/32352 [==============================] - 1s 24us/step - loss: 0.5978 - mean_squared_error: 0.5978 - val_loss: 1.1311 - val_mean_squared_error: 1.1311\n",
      "Epoch 9/100\n",
      "32352/32352 [==============================] - 1s 24us/step - loss: 0.6030 - mean_squared_error: 0.6030 - val_loss: 3.6206 - val_mean_squared_error: 3.6206\n",
      "Epoch 10/100\n",
      "32352/32352 [==============================] - 1s 24us/step - loss: 0.6770 - mean_squared_error: 0.6770 - val_loss: 0.7901 - val_mean_squared_error: 0.7901\n",
      "Epoch 11/100\n",
      "32352/32352 [==============================] - 1s 23us/step - loss: 0.6431 - mean_squared_error: 0.6431 - val_loss: 1.2917 - val_mean_squared_error: 1.2917\n",
      "Epoch 12/100\n",
      "32352/32352 [==============================] - 1s 25us/step - loss: 0.6407 - mean_squared_error: 0.6407 - val_loss: 1.0940 - val_mean_squared_error: 1.0940\n",
      "Epoch 13/100\n",
      "32352/32352 [==============================] - 1s 25us/step - loss: 0.6214 - mean_squared_error: 0.6214 - val_loss: 0.8142 - val_mean_squared_error: 0.8142\n",
      "Epoch 14/100\n",
      "32352/32352 [==============================] - 1s 25us/step - loss: 0.6247 - mean_squared_error: 0.6247 - val_loss: 0.7893 - val_mean_squared_error: 0.7893\n",
      "Epoch 15/100\n",
      "32352/32352 [==============================] - 1s 25us/step - loss: 0.6163 - mean_squared_error: 0.6163 - val_loss: 0.7896 - val_mean_squared_error: 0.7896\n",
      "Epoch 16/100\n",
      "32352/32352 [==============================] - 1s 25us/step - loss: 0.6151 - mean_squared_error: 0.6151 - val_loss: 0.7210 - val_mean_squared_error: 0.7210\n",
      "Epoch 17/100\n",
      "32352/32352 [==============================] - 1s 25us/step - loss: 0.6174 - mean_squared_error: 0.6174 - val_loss: 0.5592 - val_mean_squared_error: 0.5592\n",
      "Epoch 18/100\n",
      "32352/32352 [==============================] - 1s 25us/step - loss: 0.6134 - mean_squared_error: 0.6134 - val_loss: 0.8105 - val_mean_squared_error: 0.8105\n",
      "Epoch 19/100\n",
      "32352/32352 [==============================] - 1s 24us/step - loss: 0.6152 - mean_squared_error: 0.6152 - val_loss: 0.5482 - val_mean_squared_error: 0.5482\n",
      "Epoch 20/100\n",
      "32352/32352 [==============================] - 1s 23us/step - loss: 0.6070 - mean_squared_error: 0.6070 - val_loss: 0.5927 - val_mean_squared_error: 0.5927\n",
      "Epoch 21/100\n",
      "32352/32352 [==============================] - 1s 24us/step - loss: 0.6044 - mean_squared_error: 0.6044 - val_loss: 0.5307 - val_mean_squared_error: 0.5307\n",
      "Epoch 22/100\n",
      "32352/32352 [==============================] - 1s 24us/step - loss: 0.5988 - mean_squared_error: 0.5988 - val_loss: 0.5292 - val_mean_squared_error: 0.5292\n",
      "Epoch 23/100\n",
      "32352/32352 [==============================] - 1s 24us/step - loss: 0.5982 - mean_squared_error: 0.5982 - val_loss: 0.5488 - val_mean_squared_error: 0.5488\n",
      "Epoch 24/100\n",
      "32352/32352 [==============================] - 1s 25us/step - loss: 0.5931 - mean_squared_error: 0.5931 - val_loss: 0.6410 - val_mean_squared_error: 0.6410\n",
      "Epoch 25/100\n",
      "32352/32352 [==============================] - 1s 25us/step - loss: 0.6019 - mean_squared_error: 0.6019 - val_loss: 0.4932 - val_mean_squared_error: 0.4932\n",
      "Epoch 26/100\n",
      "32352/32352 [==============================] - 1s 25us/step - loss: 0.5894 - mean_squared_error: 0.5894 - val_loss: 5122.0187 - val_mean_squared_error: 5122.0187\n",
      "Epoch 27/100\n",
      "32352/32352 [==============================] - 1s 26us/step - loss: 0.5956 - mean_squared_error: 0.5956 - val_loss: 0.5676 - val_mean_squared_error: 0.5676\n",
      "Epoch 28/100\n",
      "32352/32352 [==============================] - 1s 26us/step - loss: 0.5864 - mean_squared_error: 0.5864 - val_loss: 0.5292 - val_mean_squared_error: 0.5292\n",
      "Epoch 29/100\n",
      "32352/32352 [==============================] - 1s 24us/step - loss: 0.5880 - mean_squared_error: 0.5880 - val_loss: 0.5177 - val_mean_squared_error: 0.5177\n",
      "Epoch 30/100\n",
      "32352/32352 [==============================] - 1s 24us/step - loss: 0.5861 - mean_squared_error: 0.5861 - val_loss: 0.6353 - val_mean_squared_error: 0.6353\n",
      "Epoch 31/100\n",
      "32352/32352 [==============================] - 1s 24us/step - loss: 0.5860 - mean_squared_error: 0.5860 - val_loss: 0.8404 - val_mean_squared_error: 0.8404\n",
      "Epoch 32/100\n",
      "32352/32352 [==============================] - 1s 24us/step - loss: 0.5817 - mean_squared_error: 0.5817 - val_loss: 0.5133 - val_mean_squared_error: 0.5133\n",
      "Epoch 33/100\n",
      "32352/32352 [==============================] - 1s 24us/step - loss: 0.5809 - mean_squared_error: 0.5809 - val_loss: 0.5724 - val_mean_squared_error: 0.5724\n",
      "Epoch 34/100\n",
      "32352/32352 [==============================] - 1s 24us/step - loss: 0.5797 - mean_squared_error: 0.5797 - val_loss: 0.8289 - val_mean_squared_error: 0.8289\n",
      "Epoch 35/100\n",
      "32352/32352 [==============================] - 1s 24us/step - loss: 0.5771 - mean_squared_error: 0.5771 - val_loss: 0.4999 - val_mean_squared_error: 0.4999\n",
      "Epoch 36/100\n",
      "32352/32352 [==============================] - 1s 24us/step - loss: 0.5721 - mean_squared_error: 0.5721 - val_loss: 0.5159 - val_mean_squared_error: 0.5159\n",
      "Epoch 37/100\n",
      "32352/32352 [==============================] - 1s 24us/step - loss: 0.5775 - mean_squared_error: 0.5775 - val_loss: 0.7083 - val_mean_squared_error: 0.7083\n",
      "Epoch 38/100\n",
      "32352/32352 [==============================] - 1s 24us/step - loss: 0.5779 - mean_squared_error: 0.5779 - val_loss: 0.4950 - val_mean_squared_error: 0.4950\n",
      "Epoch 39/100\n",
      "32352/32352 [==============================] - 1s 24us/step - loss: 0.5768 - mean_squared_error: 0.5768 - val_loss: 0.8400 - val_mean_squared_error: 0.8400\n",
      "Epoch 40/100\n",
      "32352/32352 [==============================] - 1s 23us/step - loss: 0.5738 - mean_squared_error: 0.5738 - val_loss: 0.5925 - val_mean_squared_error: 0.5925\n",
      "Epoch 41/100\n",
      "32352/32352 [==============================] - 1s 24us/step - loss: 0.5757 - mean_squared_error: 0.5757 - val_loss: 0.5708 - val_mean_squared_error: 0.5708\n",
      "Epoch 42/100\n",
      "32352/32352 [==============================] - 1s 24us/step - loss: 0.5748 - mean_squared_error: 0.5748 - val_loss: 0.5294 - val_mean_squared_error: 0.5294\n",
      "Epoch 43/100\n",
      "32352/32352 [==============================] - 1s 24us/step - loss: 0.5725 - mean_squared_error: 0.5725 - val_loss: 0.7710 - val_mean_squared_error: 0.7710\n",
      "Epoch 44/100\n",
      "32352/32352 [==============================] - 1s 24us/step - loss: 0.5657 - mean_squared_error: 0.5657 - val_loss: 0.6047 - val_mean_squared_error: 0.6047\n",
      "Epoch 45/100\n",
      "32352/32352 [==============================] - 1s 24us/step - loss: 0.5716 - mean_squared_error: 0.5716 - val_loss: 0.5373 - val_mean_squared_error: 0.5373\n",
      "Epoch 46/100\n",
      "32352/32352 [==============================] - 1s 23us/step - loss: 0.5689 - mean_squared_error: 0.5689 - val_loss: 0.7967 - val_mean_squared_error: 0.7967\n",
      "Epoch 47/100\n",
      "32352/32352 [==============================] - 1s 24us/step - loss: 0.5737 - mean_squared_error: 0.5737 - val_loss: 0.5228 - val_mean_squared_error: 0.5228\n",
      "Epoch 48/100\n",
      "32352/32352 [==============================] - 1s 25us/step - loss: 0.5682 - mean_squared_error: 0.5682 - val_loss: 0.5565 - val_mean_squared_error: 0.5565\n",
      "Epoch 49/100\n",
      "32352/32352 [==============================] - 1s 26us/step - loss: 0.5717 - mean_squared_error: 0.5717 - val_loss: 0.5614 - val_mean_squared_error: 0.5614\n",
      "Epoch 50/100\n",
      "32352/32352 [==============================] - 1s 24us/step - loss: 0.5720 - mean_squared_error: 0.5720 - val_loss: 0.5417 - val_mean_squared_error: 0.5417\n",
      "Epoch 51/100\n",
      "32352/32352 [==============================] - 1s 25us/step - loss: 0.5712 - mean_squared_error: 0.5712 - val_loss: 0.6551 - val_mean_squared_error: 0.6551\n",
      "Epoch 52/100\n",
      "32352/32352 [==============================] - 1s 25us/step - loss: 0.5702 - mean_squared_error: 0.5702 - val_loss: 0.5315 - val_mean_squared_error: 0.5315\n",
      "Epoch 53/100\n",
      "32352/32352 [==============================] - 1s 25us/step - loss: 0.5721 - mean_squared_error: 0.5721 - val_loss: 0.6020 - val_mean_squared_error: 0.6020\n",
      "Epoch 54/100\n",
      "32352/32352 [==============================] - 1s 25us/step - loss: 0.5637 - mean_squared_error: 0.5637 - val_loss: 0.8030 - val_mean_squared_error: 0.8030\n",
      "Epoch 55/100\n",
      "32352/32352 [==============================] - 1s 25us/step - loss: 0.5631 - mean_squared_error: 0.5631 - val_loss: 0.7513 - val_mean_squared_error: 0.7513\n",
      "Epoch 56/100\n",
      "32352/32352 [==============================] - 1s 25us/step - loss: 0.5688 - mean_squared_error: 0.5688 - val_loss: 0.5734 - val_mean_squared_error: 0.5734\n",
      "Epoch 57/100\n",
      "32352/32352 [==============================] - 1s 27us/step - loss: 0.5670 - mean_squared_error: 0.5670 - val_loss: 0.5509 - val_mean_squared_error: 0.5509\n",
      "Epoch 58/100\n",
      "32352/32352 [==============================] - 1s 25us/step - loss: 0.5698 - mean_squared_error: 0.5698 - val_loss: 0.5236 - val_mean_squared_error: 0.5236\n",
      "Epoch 59/100\n",
      "32352/32352 [==============================] - 1s 25us/step - loss: 0.5654 - mean_squared_error: 0.5654 - val_loss: 0.7479 - val_mean_squared_error: 0.7479\n",
      "Epoch 60/100\n",
      "32352/32352 [==============================] - 1s 25us/step - loss: 0.5676 - mean_squared_error: 0.5676 - val_loss: 0.5338 - val_mean_squared_error: 0.5338\n",
      "Epoch 61/100\n",
      "32352/32352 [==============================] - 1s 25us/step - loss: 0.5647 - mean_squared_error: 0.5647 - val_loss: 0.6850 - val_mean_squared_error: 0.6850\n",
      "Epoch 62/100\n",
      "32352/32352 [==============================] - 1s 25us/step - loss: 0.5723 - mean_squared_error: 0.5723 - val_loss: 0.9963 - val_mean_squared_error: 0.9963\n",
      "Epoch 63/100\n",
      "32352/32352 [==============================] - 1s 25us/step - loss: 0.5688 - mean_squared_error: 0.5688 - val_loss: 0.6428 - val_mean_squared_error: 0.6428\n",
      "Epoch 64/100\n",
      "32352/32352 [==============================] - 1s 26us/step - loss: 0.5696 - mean_squared_error: 0.5696 - val_loss: 0.5645 - val_mean_squared_error: 0.5645\n",
      "Epoch 65/100\n",
      "32352/32352 [==============================] - 1s 27us/step - loss: 0.5683 - mean_squared_error: 0.5683 - val_loss: 0.5270 - val_mean_squared_error: 0.5270\n",
      "Epoch 66/100\n",
      "32352/32352 [==============================] - 1s 25us/step - loss: 0.5674 - mean_squared_error: 0.5674 - val_loss: 2.2842 - val_mean_squared_error: 2.2842\n",
      "Epoch 67/100\n",
      "32352/32352 [==============================] - 1s 25us/step - loss: 0.5682 - mean_squared_error: 0.5682 - val_loss: 0.6212 - val_mean_squared_error: 0.6212\n",
      "Epoch 68/100\n",
      "32352/32352 [==============================] - 1s 25us/step - loss: 0.5651 - mean_squared_error: 0.5651 - val_loss: 0.5857 - val_mean_squared_error: 0.5857\n",
      "Epoch 69/100\n",
      "32352/32352 [==============================] - 1s 25us/step - loss: 0.5675 - mean_squared_error: 0.5675 - val_loss: 0.5416 - val_mean_squared_error: 0.5416\n",
      "Epoch 70/100\n",
      "32352/32352 [==============================] - 1s 25us/step - loss: 0.5616 - mean_squared_error: 0.5616 - val_loss: 0.5512 - val_mean_squared_error: 0.5512\n",
      "Epoch 71/100\n",
      "32352/32352 [==============================] - 1s 27us/step - loss: 0.5619 - mean_squared_error: 0.5619 - val_loss: 0.5656 - val_mean_squared_error: 0.5656\n",
      "Epoch 72/100\n",
      "32352/32352 [==============================] - 1s 26us/step - loss: 0.5667 - mean_squared_error: 0.5667 - val_loss: 0.5571 - val_mean_squared_error: 0.5571\n",
      "Epoch 73/100\n",
      "32352/32352 [==============================] - 1s 27us/step - loss: 0.5641 - mean_squared_error: 0.5641 - val_loss: 0.5351 - val_mean_squared_error: 0.5351\n",
      "Epoch 74/100\n",
      "32352/32352 [==============================] - 1s 27us/step - loss: 0.5682 - mean_squared_error: 0.5682 - val_loss: 0.5179 - val_mean_squared_error: 0.5179\n",
      "Epoch 75/100\n",
      "32352/32352 [==============================] - 1s 27us/step - loss: 0.5643 - mean_squared_error: 0.5643 - val_loss: 0.5764 - val_mean_squared_error: 0.5764\n",
      "Epoch 76/100\n",
      "32352/32352 [==============================] - 1s 24us/step - loss: 0.5656 - mean_squared_error: 0.5656 - val_loss: 0.5451 - val_mean_squared_error: 0.5451\n",
      "Epoch 77/100\n",
      "32352/32352 [==============================] - 1s 24us/step - loss: 0.5608 - mean_squared_error: 0.5608 - val_loss: 0.5823 - val_mean_squared_error: 0.5823\n",
      "Epoch 78/100\n",
      "32352/32352 [==============================] - 1s 24us/step - loss: 0.5614 - mean_squared_error: 0.5614 - val_loss: 0.5512 - val_mean_squared_error: 0.5512\n",
      "Epoch 79/100\n",
      "32352/32352 [==============================] - 1s 24us/step - loss: 0.5578 - mean_squared_error: 0.5578 - val_loss: 0.5745 - val_mean_squared_error: 0.5745\n",
      "Epoch 80/100\n",
      "32352/32352 [==============================] - 1s 24us/step - loss: 0.5587 - mean_squared_error: 0.5587 - val_loss: 0.6710 - val_mean_squared_error: 0.6710\n",
      "Epoch 81/100\n",
      "32352/32352 [==============================] - 1s 24us/step - loss: 0.5626 - mean_squared_error: 0.5626 - val_loss: 0.5872 - val_mean_squared_error: 0.5872\n",
      "Epoch 82/100\n",
      "32352/32352 [==============================] - 1s 24us/step - loss: 0.5618 - mean_squared_error: 0.5618 - val_loss: 0.8209 - val_mean_squared_error: 0.8209\n",
      "Epoch 83/100\n",
      "32352/32352 [==============================] - 1s 24us/step - loss: 0.5553 - mean_squared_error: 0.5553 - val_loss: 0.5661 - val_mean_squared_error: 0.5661\n",
      "Epoch 84/100\n",
      "32352/32352 [==============================] - 1s 23us/step - loss: 0.5579 - mean_squared_error: 0.5579 - val_loss: 0.7186 - val_mean_squared_error: 0.7186\n",
      "Epoch 85/100\n",
      "32352/32352 [==============================] - 1s 24us/step - loss: 0.5609 - mean_squared_error: 0.5609 - val_loss: 0.6812 - val_mean_squared_error: 0.6812\n",
      "Epoch 86/100\n",
      "32352/32352 [==============================] - 1s 24us/step - loss: 0.5615 - mean_squared_error: 0.5615 - val_loss: 0.6794 - val_mean_squared_error: 0.6794\n",
      "Epoch 87/100\n",
      "32352/32352 [==============================] - 1s 24us/step - loss: 0.5572 - mean_squared_error: 0.5572 - val_loss: 0.7562 - val_mean_squared_error: 0.7562\n",
      "Epoch 88/100\n",
      "32352/32352 [==============================] - 1s 24us/step - loss: 0.5555 - mean_squared_error: 0.5555 - val_loss: 0.6926 - val_mean_squared_error: 0.6926\n",
      "Epoch 89/100\n",
      "32352/32352 [==============================] - 1s 24us/step - loss: 0.5532 - mean_squared_error: 0.5532 - val_loss: 0.6497 - val_mean_squared_error: 0.6497\n",
      "Epoch 90/100\n",
      "32352/32352 [==============================] - 1s 26us/step - loss: 0.5601 - mean_squared_error: 0.5601 - val_loss: 0.6824 - val_mean_squared_error: 0.6824\n",
      "Epoch 91/100\n",
      "32352/32352 [==============================] - 1s 25us/step - loss: 0.5614 - mean_squared_error: 0.5614 - val_loss: 0.5604 - val_mean_squared_error: 0.5604\n",
      "Epoch 92/100\n",
      "32352/32352 [==============================] - 1s 26us/step - loss: 0.5598 - mean_squared_error: 0.5598 - val_loss: 0.5767 - val_mean_squared_error: 0.5767\n",
      "Epoch 93/100\n",
      "32352/32352 [==============================] - 1s 25us/step - loss: 0.5525 - mean_squared_error: 0.5525 - val_loss: 0.6361 - val_mean_squared_error: 0.6361\n",
      "Epoch 94/100\n",
      "32352/32352 [==============================] - 1s 25us/step - loss: 0.5568 - mean_squared_error: 0.5568 - val_loss: 0.8765 - val_mean_squared_error: 0.8765\n",
      "Epoch 95/100\n",
      "32352/32352 [==============================] - 1s 26us/step - loss: 0.5554 - mean_squared_error: 0.5554 - val_loss: 0.5902 - val_mean_squared_error: 0.5902\n",
      "Epoch 96/100\n",
      "32352/32352 [==============================] - 1s 25us/step - loss: 0.5569 - mean_squared_error: 0.5569 - val_loss: 0.6321 - val_mean_squared_error: 0.6321\n",
      "Epoch 97/100\n"
     ]
    },
    {
     "name": "stdout",
     "output_type": "stream",
     "text": [
      "32352/32352 [==============================] - 1s 27us/step - loss: 0.5566 - mean_squared_error: 0.5566 - val_loss: 0.7155 - val_mean_squared_error: 0.7155\n",
      "Epoch 98/100\n",
      "32352/32352 [==============================] - 1s 27us/step - loss: 0.5533 - mean_squared_error: 0.5533 - val_loss: 0.5762 - val_mean_squared_error: 0.5762\n",
      "Epoch 99/100\n",
      "32352/32352 [==============================] - 1s 27us/step - loss: 0.5548 - mean_squared_error: 0.5548 - val_loss: 0.6480 - val_mean_squared_error: 0.6480\n",
      "Epoch 100/100\n",
      "32352/32352 [==============================] - 1s 25us/step - loss: 0.5599 - mean_squared_error: 0.5599 - val_loss: 0.7154 - val_mean_squared_error: 0.7154\n"
     ]
    }
   ],
   "source": [
    "h=model.fit(xtrain, ytrain, validation_split=.2,epochs=100, batch_size=50)"
   ]
  },
  {
   "cell_type": "code",
   "execution_count": 42,
   "metadata": {},
   "outputs": [
    {
     "name": "stdout",
     "output_type": "stream",
     "text": [
      "mean_squared_error 0.7174055272813694\n",
      "root mean_squared_error 0.8469979499865211\n",
      "mean_absolute_error 0.6392646479377901\n",
      "r2_score 0.636315591648466\n"
     ]
    },
    {
     "data": {
      "text/html": [
       "<div>\n",
       "<style scoped>\n",
       "    .dataframe tbody tr th:only-of-type {\n",
       "        vertical-align: middle;\n",
       "    }\n",
       "\n",
       "    .dataframe tbody tr th {\n",
       "        vertical-align: top;\n",
       "    }\n",
       "\n",
       "    .dataframe thead th {\n",
       "        text-align: right;\n",
       "    }\n",
       "</style>\n",
       "<table border=\"1\" class=\"dataframe\">\n",
       "  <thead>\n",
       "    <tr style=\"text-align: right;\">\n",
       "      <th></th>\n",
       "      <th>t + 1</th>\n",
       "      <th>pred (t +1)</th>\n",
       "    </tr>\n",
       "  </thead>\n",
       "  <tbody>\n",
       "    <tr>\n",
       "      <th>0</th>\n",
       "      <td>5.3</td>\n",
       "      <td>4.723892</td>\n",
       "    </tr>\n",
       "    <tr>\n",
       "      <th>1</th>\n",
       "      <td>4.3</td>\n",
       "      <td>5.306175</td>\n",
       "    </tr>\n",
       "    <tr>\n",
       "      <th>2</th>\n",
       "      <td>4.2</td>\n",
       "      <td>4.000012</td>\n",
       "    </tr>\n",
       "    <tr>\n",
       "      <th>3</th>\n",
       "      <td>6.1</td>\n",
       "      <td>5.396946</td>\n",
       "    </tr>\n",
       "    <tr>\n",
       "      <th>4</th>\n",
       "      <td>4.4</td>\n",
       "      <td>5.289919</td>\n",
       "    </tr>\n",
       "    <tr>\n",
       "      <th>5</th>\n",
       "      <td>7.1</td>\n",
       "      <td>6.372007</td>\n",
       "    </tr>\n",
       "    <tr>\n",
       "      <th>6</th>\n",
       "      <td>5.5</td>\n",
       "      <td>5.720734</td>\n",
       "    </tr>\n",
       "    <tr>\n",
       "      <th>7</th>\n",
       "      <td>7.3</td>\n",
       "      <td>5.965288</td>\n",
       "    </tr>\n",
       "    <tr>\n",
       "      <th>8</th>\n",
       "      <td>4.2</td>\n",
       "      <td>4.421140</td>\n",
       "    </tr>\n",
       "    <tr>\n",
       "      <th>9</th>\n",
       "      <td>6.3</td>\n",
       "      <td>5.605452</td>\n",
       "    </tr>\n",
       "  </tbody>\n",
       "</table>\n",
       "</div>"
      ],
      "text/plain": [
       "   t + 1  pred (t +1)\n",
       "0    5.3     4.723892\n",
       "1    4.3     5.306175\n",
       "2    4.2     4.000012\n",
       "3    6.1     5.396946\n",
       "4    4.4     5.289919\n",
       "5    7.1     6.372007\n",
       "6    5.5     5.720734\n",
       "7    7.3     5.965288\n",
       "8    4.2     4.421140\n",
       "9    6.3     5.605452"
      ]
     },
     "execution_count": 42,
     "metadata": {},
     "output_type": "execute_result"
    }
   ],
   "source": [
    "ypred=model.predict(xtest)\n",
    "\n",
    "import math\n",
    "print('mean_squared_error',mean_squared_error(ytest, ypred))\n",
    "print('root mean_squared_error',math.sqrt(mean_squared_error(ytest, ypred)))\n",
    "print('mean_absolute_error',mean_absolute_error(ytest, ypred))\n",
    "print('r2_score',r2_score(ytest, ypred))\n",
    "\n",
    "ypredPD=pd.DataFrame()\n",
    "# ypredPD['t']=xtest['S000501_x'].values\n",
    "ypredPD['t + 1']=ytest.values.ravel()\n",
    "ypredPD['pred (t +1)']=ypred\n",
    "ypredPD.head(10)"
   ]
  },
  {
   "cell_type": "code",
   "execution_count": 43,
   "metadata": {},
   "outputs": [
    {
     "name": "stdout",
     "output_type": "stream",
     "text": [
      "dict_keys(['val_loss', 'val_mean_squared_error', 'loss', 'mean_squared_error'])\n"
     ]
    },
    {
     "data": {
      "image/png": "[encoded data removed]",
      "text/plain": [
       "<Figure size 432x288 with 1 Axes>"
      ]
     },
     "metadata": {
      "needs_background": "light"
     },
     "output_type": "display_data"
    },
    {
     "data": {
      "image/png": "[encoded data removed]",
      "text/plain": [
       "<Figure size 432x288 with 1 Axes>"
      ]
     },
     "metadata": {
      "needs_background": "light"
     },
     "output_type": "display_data"
    }
   ],
   "source": [
    "history=h\n",
    "print(history.history.keys())\n",
    "# summarize history for accuracy\n",
    "plt.plot(history.history['val_loss'])\n",
    "plt.plot(history.history['loss'])\n",
    "plt.title('model accuracy')\n",
    "plt.ylabel('accuracy')\n",
    "plt.xlabel('epoch')\n",
    "plt.legend(['train', 'test'], loc='upper left')\n",
    "plt.show()\n",
    "# summarize history for loss\n",
    "plt.plot(history.history['val_mean_squared_error'])\n",
    "plt.plot(history.history['mean_squared_error'])\n",
    "plt.title('model loss')\n",
    "plt.ylabel('loss')\n",
    "plt.xlabel('epoch')\n",
    "plt.legend(['train', 'test'], loc='upper left')\n",
    "plt.show()"
   ]
  },
  {
   "cell_type": "code",
   "execution_count": 44,
   "metadata": {},
   "outputs": [
    {
     "name": "stdout",
     "output_type": "stream",
     "text": [
      "0.6392646479377897\n",
      "0.555649383315002\n",
      "99.99010978142617\n"
     ]
    }
   ],
   "source": [
    "ypredPD['diff']=abs(ypredPD['t + 1']- ypredPD['pred (t +1)'])\n",
    "print(np.mean(ypredPD['diff']))\n",
    "print(np.std(ypredPD['diff']))\n",
    "print(100*ypredPD[ypredPD['diff']<=5].shape[0]/ypredPD.shape[0])"
   ]
  },
  {
   "cell_type": "code",
   "execution_count": 45,
   "metadata": {},
   "outputs": [
    {
     "data": {
      "image/png": "[encoded data removed]",
      "text/plain": [
       "<Figure size 432x288 with 1 Axes>"
      ]
     },
     "metadata": {
      "needs_background": "light"
     },
     "output_type": "display_data"
    },
    {
     "data": {
      "text/html": [
       "<div>\n",
       "<style scoped>\n",
       "    .dataframe tbody tr th:only-of-type {\n",
       "        vertical-align: middle;\n",
       "    }\n",
       "\n",
       "    .dataframe tbody tr th {\n",
       "        vertical-align: top;\n",
       "    }\n",
       "\n",
       "    .dataframe thead th {\n",
       "        text-align: right;\n",
       "    }\n",
       "</style>\n",
       "<table border=\"1\" class=\"dataframe\">\n",
       "  <thead>\n",
       "    <tr style=\"text-align: right;\">\n",
       "      <th></th>\n",
       "      <th>t + 1</th>\n",
       "      <th>pred (t +1)</th>\n",
       "      <th>diff</th>\n",
       "    </tr>\n",
       "  </thead>\n",
       "  <tbody>\n",
       "    <tr>\n",
       "      <th>9432</th>\n",
       "      <td>0.6</td>\n",
       "      <td>2.046516</td>\n",
       "      <td>1.446516</td>\n",
       "    </tr>\n",
       "    <tr>\n",
       "      <th>4784</th>\n",
       "      <td>0.7</td>\n",
       "      <td>2.396551</td>\n",
       "      <td>1.696551</td>\n",
       "    </tr>\n",
       "    <tr>\n",
       "      <th>91</th>\n",
       "      <td>0.7</td>\n",
       "      <td>2.124404</td>\n",
       "      <td>1.424404</td>\n",
       "    </tr>\n",
       "    <tr>\n",
       "      <th>8845</th>\n",
       "      <td>0.8</td>\n",
       "      <td>2.218421</td>\n",
       "      <td>1.418421</td>\n",
       "    </tr>\n",
       "    <tr>\n",
       "      <th>2100</th>\n",
       "      <td>0.9</td>\n",
       "      <td>2.339827</td>\n",
       "      <td>1.439827</td>\n",
       "    </tr>\n",
       "    <tr>\n",
       "      <th>2068</th>\n",
       "      <td>1.0</td>\n",
       "      <td>2.470100</td>\n",
       "      <td>1.470100</td>\n",
       "    </tr>\n",
       "    <tr>\n",
       "      <th>7307</th>\n",
       "      <td>1.3</td>\n",
       "      <td>2.347502</td>\n",
       "      <td>1.047502</td>\n",
       "    </tr>\n",
       "    <tr>\n",
       "      <th>4109</th>\n",
       "      <td>1.4</td>\n",
       "      <td>2.792722</td>\n",
       "      <td>1.392722</td>\n",
       "    </tr>\n",
       "    <tr>\n",
       "      <th>3492</th>\n",
       "      <td>1.5</td>\n",
       "      <td>2.782716</td>\n",
       "      <td>1.282716</td>\n",
       "    </tr>\n",
       "    <tr>\n",
       "      <th>2684</th>\n",
       "      <td>1.5</td>\n",
       "      <td>2.363954</td>\n",
       "      <td>0.863954</td>\n",
       "    </tr>\n",
       "  </tbody>\n",
       "</table>\n",
       "</div>"
      ],
      "text/plain": [
       "      t + 1  pred (t +1)      diff\n",
       "9432    0.6     2.046516  1.446516\n",
       "4784    0.7     2.396551  1.696551\n",
       "91      0.7     2.124404  1.424404\n",
       "8845    0.8     2.218421  1.418421\n",
       "2100    0.9     2.339827  1.439827\n",
       "2068    1.0     2.470100  1.470100\n",
       "7307    1.3     2.347502  1.047502\n",
       "4109    1.4     2.792722  1.392722\n",
       "3492    1.5     2.782716  1.282716\n",
       "2684    1.5     2.363954  0.863954"
      ]
     },
     "execution_count": 45,
     "metadata": {},
     "output_type": "execute_result"
    },
    {
     "data": {
      "image/png": "[encoded data removed]",
      "text/plain": [
       "<Figure size 432x288 with 1 Axes>"
      ]
     },
     "metadata": {
      "needs_background": "light"
     },
     "output_type": "display_data"
    }
   ],
   "source": [
    "\n",
    "import matplotlib.patches as mpatches\n",
    "plt.ylabel('Values')\n",
    "plt.xlabel('index')\n",
    "red_patch = mpatches.Patch(color='red', label='Actual data')\n",
    "blue_patch = mpatches.Patch(color='blue', label='Predicted data')\n",
    "plt.legend(handles=[red_patch,blue_patch])\n",
    "\n",
    "ypredPD=ypredPD.sort_values(by=['t + 1'])\n",
    "plt.scatter(np.arange(0,ypredPD.shape[0],1),ypredPD['pred (t +1)'][:ypredPD.shape[0]])\n",
    "plt.plot(np.arange(0,ypredPD.shape[0],1),ypredPD['t + 1'][:ypredPD.shape[0]],color='red')\n",
    "plt.show()\n",
    "\n",
    "plt.ylabel('p*(t+1), Predicted data')\n",
    "plt.xlabel('p(t+1), Actual data')\n",
    "plt.scatter(ypredPD['t + 1'][:ypredPD.shape[0]],ypredPD['pred (t +1)'][:ypredPD.shape[0]])\n",
    "\n",
    "ypredPD.head(10)"
   ]
  },
  {
   "cell_type": "markdown",
   "metadata": {},
   "source": [
    "SVR\n",
    "======"
   ]
  },
  {
   "cell_type": "code",
   "execution_count": null,
   "metadata": {},
   "outputs": [],
   "source": [
    "from sklearn.svm import SVR\n",
    "# svr_rbf = SVR(kernel='rbf', C=10, gamma=0.02, epsilon=.001)\n",
    "svr_rbf = SVR(kernel='rbf')"
   ]
  },
  {
   "cell_type": "code",
   "execution_count": null,
   "metadata": {},
   "outputs": [],
   "source": [
    "svr_rbf.fit(xtrain, ytrain) "
   ]
  },
  {
   "cell_type": "code",
   "execution_count": null,
   "metadata": {},
   "outputs": [],
   "source": [
    "ypred=svr_rbf.predict(xtest)"
   ]
  },
  {
   "cell_type": "code",
   "execution_count": null,
   "metadata": {},
   "outputs": [],
   "source": [
    "import math\n",
    "print('mean_squared_error',mean_squared_error(ytest, ypred))\n",
    "print('root mean_squared_error',math.sqrt(mean_squared_error(ytest, ypred)))\n",
    "print('mean_absolute_error',mean_absolute_error(ytest, ypred))\n",
    "print('r2_score',r2_score(ytest, ypred))\n",
    "\n",
    "ypredPD=pd.DataFrame()\n",
    "# ypredPD['t']=xtest['S000501_x'].values\n",
    "ypredPD['t + 1']=ytest.values.ravel()\n",
    "ypredPD['pred (t +1)']=ypred\n",
    "ypredPD.head(10)"
   ]
  },
  {
   "cell_type": "code",
   "execution_count": null,
   "metadata": {},
   "outputs": [],
   "source": []
  },
  {
   "cell_type": "code",
   "execution_count": null,
   "metadata": {},
   "outputs": [],
   "source": []
  }
 ],
 "metadata": {
  "kernelspec": {
   "display_name": "Python 3",
   "language": "python",
   "name": "python3"
  },
  "language_info": {
   "codemirror_mode": {
    "name": "ipython",
    "version": 3
   },
   "file_extension": ".py",
   "mimetype": "text/x-python",
   "name": "python",
   "nbconvert_exporter": "python",
   "pygments_lexer": "ipython3",
   "version": "3.7.3"
  }
 },
 "nbformat": 4,
 "nbformat_minor": 2
}

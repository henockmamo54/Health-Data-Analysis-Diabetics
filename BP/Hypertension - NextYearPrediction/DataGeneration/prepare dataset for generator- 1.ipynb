{
 "cells": [
  {
   "cell_type": "code",
   "execution_count": 1,
   "metadata": {},
   "outputs": [],
   "source": [
    "# %load_ext nb_black\n",
    "import numpy as np\n",
    "import pandas as pd\n",
    "import warnings\n",
    "from sklearn.model_selection import train_test_split\n",
    "from sklearn.ensemble import RandomForestRegressor\n",
    "from sklearn import metrics as m\n",
    "import xgboost as xgb\n",
    "import seaborn as sns\n",
    "warnings.filterwarnings(\"ignore\")\n",
    "random_seed = 8\n",
    "import xgboost as xgb"
   ]
  },
  {
   "cell_type": "code",
   "execution_count": 2,
   "metadata": {},
   "outputs": [],
   "source": [
    "temp=['L101600', 'FIELD_6_7', 'AGE', 'S000300', 'L101700', 'L101400',\n",
    "'S000501', 'L500800', 'L504700', 'L100500', 'L103300', 'S000502','SEX', \n",
    "\n",
    "'L100500', 'L190400', 'L190500', 'S000100', 'L100700', 'L190300', \n",
    "'L105200', 'S000300', 'L100400', 'L103300', 'L103100', 'S000501',\n",
    "\n",
    "'S000300', 'SEX', 'L103300', 'S000501', \n",
    "'L103100', 'L101300', 'S000502', 'L190300', 'L190400', 'L100700', 'L103000', 'L100800',\n",
    "\n",
    "'L101700', 'SEX', 'L101300', 'FIELD_38', 'S000300', 'L101200', \n",
    "'L100700', 'L190400', 'L103000', 'L103300', 'L190300', 'L100800',\n",
    "\n",
    "'L100800', 'L104600', 'SEX', 'AGE', 'L101300', 'S000300', \n",
    "'L103000', 'L103300', 'S000501', 'S000502', 'L101700', 'FIELD_38',\n",
    "\n",
    "'L100700', 'SEX', 'S000300', 'L103000', 'L103100', 'L103300',\n",
    "'S000501', 'S000100', 'L101300', 'L190300', 'L100500', 'L101700',\n",
    "\n",
    "'L103000', 'L100700', 'L101700', 'S000300', 'S000502', 'FIELD_33',\n",
    "'L190000', 'L100800', 'L101600', 'S000501',\n",
    "\n",
    "'L101300', 'SEX', 'L101700', 'L101200', 'S000300', 'L103300',\n",
    "'L100700', 'L103000', 'S000501', 'L190300', 'L103100', 'L190500',\n",
    "      \n",
    "'Unnamed: 0','FIELD_1','FIELD_2','FIELD_33','FIELD_38','FIELD_40','CLASS'\n",
    "     \n",
    "     ]"
   ]
  },
  {
   "cell_type": "code",
   "execution_count": 3,
   "metadata": {},
   "outputs": [
    {
     "name": "stdout",
     "output_type": "stream",
     "text": [
      "['AGE' 'CLASS' 'FIELD_1' 'FIELD_2' 'FIELD_33' 'FIELD_38' 'FIELD_40'\n",
      " 'FIELD_6_7' 'L100400' 'L100500' 'L100700' 'L100800' 'L101200' 'L101300'\n",
      " 'L101400' 'L101600' 'L101700' 'L103000' 'L103100' 'L103300' 'L104600'\n",
      " 'L105200' 'L190000' 'L190300' 'L190400' 'L190500' 'L500800' 'L504700'\n",
      " 'S000100' 'S000300' 'S000501' 'S000502' 'SEX' 'Unnamed: 0']\n"
     ]
    }
   ],
   "source": [
    "# collected form each main diabetic indicator features regressors\n",
    "cols = np.unique(temp)\n",
    "print(cols)"
   ]
  },
  {
   "cell_type": "code",
   "execution_count": 4,
   "metadata": {},
   "outputs": [],
   "source": [
    "xcols=[]\n",
    "ycols=[]\n",
    "allxycols=[]\n",
    "\n",
    "for i in cols:\n",
    "    xcols.append (i+'_x')\n",
    "    ycols.append (i+'_y')\n",
    "    \n",
    "    allxycols.append (i+'_x')\n",
    "    allxycols.append (i+'_y')"
   ]
  },
  {
   "cell_type": "markdown",
   "metadata": {},
   "source": [
    "Read Dataset\n",
    "===="
   ]
  },
  {
   "cell_type": "code",
   "execution_count": 5,
   "metadata": {},
   "outputs": [],
   "source": [
    "x_original = pd.read_csv(\"../../_xlable4_withNa_AllColumns.txt\")\n",
    "y_original = pd.read_csv(\"../../_targelable4_withNa_AllColumns.txt\")"
   ]
  },
  {
   "cell_type": "code",
   "execution_count": 6,
   "metadata": {},
   "outputs": [],
   "source": [
    "x_original[\"FIELD_6_7\"] = np.min( x_original[[\"FIELD_6\", \"FIELD_7\"]], axis=1 )\n",
    "y_original[\"FIELD_6_7\"] = np.min( y_original[[\"FIELD_6\", \"FIELD_7\"]], axis=1 )"
   ]
  },
  {
   "cell_type": "code",
   "execution_count": 7,
   "metadata": {},
   "outputs": [],
   "source": [
    "_class = []\n",
    "for i in range(x_original.shape[0]):\n",
    "    if (x_original.S000501[i] >= 140) | (x_original.S000502[i] >= 90):\n",
    "        _class.append(2)\n",
    "    elif (x_original.S000501[i] < 120) & (x_original.S000502[i] < 80):\n",
    "        _class.append(0)\n",
    "    else:\n",
    "        _class.append(1)\n",
    "x_original[\"CLASS\"] = _class\n",
    "\n",
    "_class = []\n",
    "for i in range(y_original.shape[0]):\n",
    "    if (y_original.S000501[i] >= 140) | (y_original.S000502[i] >= 90):\n",
    "        _class.append(2)\n",
    "    elif (y_original.S000501[i] < 120) & (y_original.S000502[i] < 80):\n",
    "        _class.append(0)\n",
    "    else:\n",
    "        _class.append(1)\n",
    "y_original[\"CLASS\"] = _class"
   ]
  },
  {
   "cell_type": "code",
   "execution_count": 8,
   "metadata": {},
   "outputs": [
    {
     "data": {
      "text/plain": [
       "(159381, 67)"
      ]
     },
     "execution_count": 8,
     "metadata": {},
     "output_type": "execute_result"
    }
   ],
   "source": [
    "data = pd.merge(\n",
    "    x_original[cols], y_original[cols], how=\"inner\", left_on=\"Unnamed: 0\", right_on=\"Unnamed: 0\"\n",
    ")\n",
    "data.shape"
   ]
  },
  {
   "cell_type": "code",
   "execution_count": 9,
   "metadata": {},
   "outputs": [
    {
     "data": {
      "text/plain": [
       "CLASS_x\n",
       "0    80759\n",
       "1    73224\n",
       "2     5398\n",
       "dtype: int64"
      ]
     },
     "execution_count": 9,
     "metadata": {},
     "output_type": "execute_result"
    }
   ],
   "source": [
    "data.groupby('CLASS_x').size()"
   ]
  },
  {
   "cell_type": "code",
   "execution_count": 10,
   "metadata": {},
   "outputs": [
    {
     "data": {
      "text/plain": [
       "CLASS_y\n",
       "0    6881\n",
       "1    2416\n",
       "2     146\n",
       "dtype: int64"
      ]
     },
     "execution_count": 10,
     "metadata": {},
     "output_type": "execute_result"
    }
   ],
   "source": [
    "data.dropna().groupby('CLASS_y').size()"
   ]
  },
  {
   "cell_type": "code",
   "execution_count": 11,
   "metadata": {},
   "outputs": [],
   "source": [
    "# data=data.dropna()"
   ]
  },
  {
   "cell_type": "code",
   "execution_count": 12,
   "metadata": {},
   "outputs": [],
   "source": [
    "#main features which are going to be used to classify BP\n",
    "temp=['L101600','L100500','S000300','L101700','L100700','L103000',\n",
    "'L101300','FIELD_33','FIELD_38','FIELD_40']"
   ]
  },
  {
   "cell_type": "code",
   "execution_count": 13,
   "metadata": {},
   "outputs": [
    {
     "data": {
      "text/plain": [
       "(133905, 22)"
      ]
     },
     "execution_count": 13,
     "metadata": {},
     "output_type": "execute_result"
    }
   ],
   "source": [
    "tempdata=data.copy()\n",
    "tempdata=tempdata[['L101600_x','L100500_x','S000300_x','L101700_x','L100700_x','L103000_x',\n",
    "'L101300_x','FIELD_33_x','FIELD_38_x','FIELD_40_x','CLASS_x',\n",
    "              'L101600_y','L100500_y','S000300_y','L101700_y','L100700_y','L103000_y',\n",
    "'L101300_y','FIELD_33_y','FIELD_38_y','FIELD_40_y','CLASS_y']].dropna()\n",
    "\n",
    "tempdata.shape"
   ]
  },
  {
   "cell_type": "code",
   "execution_count": 14,
   "metadata": {},
   "outputs": [
    {
     "data": {
      "text/plain": [
       "CLASS_y\n",
       "0    67615\n",
       "1    61214\n",
       "2     5076\n",
       "dtype: int64"
      ]
     },
     "execution_count": 14,
     "metadata": {},
     "output_type": "execute_result"
    }
   ],
   "source": [
    "tempdata.groupby('CLASS_y').size()"
   ]
  },
  {
   "cell_type": "code",
   "execution_count": 15,
   "metadata": {},
   "outputs": [],
   "source": [
    "class2=tempdata[tempdata.CLASS_y==2]\n",
    "class1=tempdata[tempdata.CLASS_y==1]\n",
    "class0=tempdata[tempdata.CLASS_y==0]\n",
    "\n",
    "class2_test= class2.sample(1000,random_state=42)\n",
    "class1_test= class1.sample(1000,random_state=42)\n",
    "class0_test= class0.sample(1000,random_state=42)\n",
    "test=pd.concat([class2_test,class1_test,class0_test])\n",
    "\n",
    "\n",
    "class2_train= class2.drop(class2_test.index) \n",
    "class1_train= class1.drop(class1_test.index)\n",
    "class0_train= class0.drop(class0_test.index)\n",
    "train=pd.concat([class2_train,class1_train,class0_train])\n"
   ]
  },
  {
   "cell_type": "markdown",
   "metadata": {},
   "source": [
    "Prepare dataset\n",
    "==="
   ]
  },
  {
   "cell_type": "code",
   "execution_count": 16,
   "metadata": {},
   "outputs": [],
   "source": [
    "cols=list(cols)\n",
    "cols.remove('Unnamed: 0')\n",
    "\n",
    "xcols=[]\n",
    "ycols=[]\n",
    "allxycols=[]\n",
    "\n",
    "for i in cols:\n",
    "    xcols.append (i+'_x')\n",
    "    ycols.append (i+'_y')\n",
    "    \n",
    "    allxycols.append (i+'_x')\n",
    "    allxycols.append (i+'_y')"
   ]
  },
  {
   "cell_type": "code",
   "execution_count": 17,
   "metadata": {},
   "outputs": [],
   "source": [
    "\n",
    "xtrain=data.iloc[train.index,:][xcols]\n",
    "xtest=data.iloc[test.index,:][xcols]\n",
    "ytrain=data.iloc[train.index,:][ycols]\n",
    "ytest=data.iloc[test.index,:][ycols]\n"
   ]
  },
  {
   "cell_type": "code",
   "execution_count": 18,
   "metadata": {},
   "outputs": [
    {
     "data": {
      "text/plain": [
       "CLASS_y\n",
       "0    1000\n",
       "1    1000\n",
       "2    1000\n",
       "dtype: int64"
      ]
     },
     "execution_count": 18,
     "metadata": {},
     "output_type": "execute_result"
    }
   ],
   "source": [
    "ytest.groupby(by='CLASS_y').size()"
   ]
  },
  {
   "cell_type": "markdown",
   "metadata": {},
   "source": [
    "Train Regression Models\n",
    "=========="
   ]
  },
  {
   "cell_type": "markdown",
   "metadata": {},
   "source": [
    "L100700_x # Uric Acid\n",
    "===="
   ]
  },
  {
   "cell_type": "code",
   "execution_count": 19,
   "metadata": {},
   "outputs": [
    {
     "name": "stdout",
     "output_type": "stream",
     "text": [
      "r2_score 0.7521323381557039\n"
     ]
    }
   ],
   "source": [
    "regr = xgb.XGBRegressor(colsample_bytree=0.4,objective='reg:squarederror',\n",
    "                 gamma=0,                 \n",
    "                 learning_rate=0.07,\n",
    "                 max_depth=3,\n",
    "                 min_child_weight=1.5,\n",
    "                 n_estimators=100,                                                                    \n",
    "                 reg_alpha=0.75,\n",
    "                 reg_lambda=0.45,\n",
    "                 subsample=0.6,\n",
    "                 seed=42) \n",
    "\n",
    "regr.fit(xtrain,  ytrain[[\"L100700_y\"]])\n",
    "\n",
    "ypred = regr.predict(xtest)\n",
    "\n",
    "print(\"r2_score\", m.r2_score(ytest[[\"L100700_y\"]], ypred))"
   ]
  },
  {
   "cell_type": "code",
   "execution_count": 20,
   "metadata": {},
   "outputs": [],
   "source": [
    "pred_L100700 = ypred"
   ]
  },
  {
   "cell_type": "code",
   "execution_count": null,
   "metadata": {},
   "outputs": [],
   "source": []
  },
  {
   "cell_type": "markdown",
   "metadata": {},
   "source": [
    "S000300 #BMI\n",
    "==="
   ]
  },
  {
   "cell_type": "code",
   "execution_count": 21,
   "metadata": {},
   "outputs": [
    {
     "name": "stdout",
     "output_type": "stream",
     "text": [
      "r2_score 0.8810613007469192\n"
     ]
    }
   ],
   "source": [
    "\n",
    "regr = xgb.XGBRegressor(colsample_bytree=0.4,objective='reg:squarederror',\n",
    "                 gamma=0,                 \n",
    "                 learning_rate=0.07,\n",
    "                 max_depth=3,\n",
    "                 min_child_weight=1.5,\n",
    "                 n_estimators=1000,                                                                    \n",
    "                 reg_alpha=0.75,\n",
    "                 reg_lambda=0.45,\n",
    "                 subsample=0.6,\n",
    "                 seed=42) \n",
    "\n",
    "regr.fit(\n",
    "    xtrain,\n",
    "    ytrain[[\"S000300_y\"]],\n",
    ")\n",
    "\n",
    "ypred = regr.predict(  xtest )\n",
    "\n",
    "print(\"r2_score\", m.r2_score(ytest[[\"S000300_y\"]], ypred))"
   ]
  },
  {
   "cell_type": "code",
   "execution_count": 22,
   "metadata": {},
   "outputs": [],
   "source": [
    "pred_S000300 = ypred"
   ]
  },
  {
   "cell_type": "markdown",
   "metadata": {},
   "source": [
    "L101700 # r-GTP gamma\n",
    "==="
   ]
  },
  {
   "cell_type": "code",
   "execution_count": 23,
   "metadata": {},
   "outputs": [
    {
     "name": "stdout",
     "output_type": "stream",
     "text": [
      "r2_score 0.6984876129810054\n"
     ]
    }
   ],
   "source": [
    "regr = xgb.XGBRegressor(colsample_bytree=0.4,objective='reg:squarederror',\n",
    "                 gamma=0,                 \n",
    "                 learning_rate=0.07,\n",
    "                 max_depth=3,\n",
    "                 min_child_weight=1.5,\n",
    "                 n_estimators=1000,                                                                    \n",
    "                 reg_alpha=0.75,\n",
    "                 reg_lambda=0.45,\n",
    "                 subsample=0.6,\n",
    "                 seed=42) \n",
    "regr.fit(\n",
    "    xtrain,\n",
    "    ytrain[[\"L101700_y\"]],\n",
    ")\n",
    "\n",
    "\n",
    "ypred = regr.predict(  xtest )\n",
    "\n",
    "print(\"r2_score\", m.r2_score(ytest[[\"L101700_y\"]], ypred))"
   ]
  },
  {
   "cell_type": "code",
   "execution_count": 24,
   "metadata": {},
   "outputs": [],
   "source": [
    "pred_L101700 = ypred"
   ]
  },
  {
   "cell_type": "markdown",
   "metadata": {},
   "source": [
    "L100800 # fasting glucose level\n",
    "===="
   ]
  },
  {
   "cell_type": "code",
   "execution_count": 25,
   "metadata": {},
   "outputs": [
    {
     "name": "stdout",
     "output_type": "stream",
     "text": [
      "r2_score 0.5613411599952363\n"
     ]
    }
   ],
   "source": [
    "regr = xgb.XGBRegressor(colsample_bytree=0.4,objective='reg:squarederror',\n",
    "                 gamma=0,                 \n",
    "                 learning_rate=0.07,\n",
    "                 max_depth=3,\n",
    "                 min_child_weight=1.5,\n",
    "                 n_estimators=1000,                                                                    \n",
    "                 reg_alpha=0.75,\n",
    "                 reg_lambda=0.45,\n",
    "                 subsample=0.6,\n",
    "                 seed=42) \n",
    "\n",
    "regr.fit(\n",
    "    xtrain,\n",
    "    ytrain[[\"L100800_y\"]],\n",
    ")\n",
    "\n",
    "ypred = regr.predict(xtest)\n",
    "\n",
    "print(\"r2_score\", m.r2_score(ytest[[\"L100800_y\"]], ypred))"
   ]
  },
  {
   "cell_type": "code",
   "execution_count": 26,
   "metadata": {},
   "outputs": [],
   "source": [
    "pred_L100800 = ypred"
   ]
  },
  {
   "cell_type": "markdown",
   "metadata": {},
   "source": [
    "L101300 # SGPT\n",
    "======="
   ]
  },
  {
   "cell_type": "code",
   "execution_count": 27,
   "metadata": {},
   "outputs": [
    {
     "name": "stdout",
     "output_type": "stream",
     "text": [
      "r2_score 0.4261773033559182\n"
     ]
    }
   ],
   "source": [
    "regr = xgb.XGBRegressor(colsample_bytree=0.4,objective='reg:squarederror',\n",
    "                 gamma=0,                 \n",
    "                 learning_rate=0.07,\n",
    "                 max_depth=3,\n",
    "                 min_child_weight=1.5,\n",
    "                 n_estimators=100,                                                                    \n",
    "                 reg_alpha=0.75,\n",
    "                 reg_lambda=0.45,\n",
    "                 subsample=0.6,\n",
    "                 seed=42) \n",
    "regr.fit(\n",
    "    xtrain,\n",
    "    ytrain[[\"L101300_y\"]],\n",
    ")\n",
    "\n",
    "\n",
    "ypred = regr.predict(xtest)\n",
    "\n",
    "print(\"r2_score\", m.r2_score(ytest[[\"L101300_y\"]], ypred))"
   ]
  },
  {
   "cell_type": "code",
   "execution_count": 28,
   "metadata": {},
   "outputs": [],
   "source": [
    "pred_L101300_y = ypred"
   ]
  },
  {
   "cell_type": "markdown",
   "metadata": {},
   "source": [
    "103100 # HDL\n",
    "==="
   ]
  },
  {
   "cell_type": "code",
   "execution_count": 29,
   "metadata": {},
   "outputs": [
    {
     "name": "stdout",
     "output_type": "stream",
     "text": [
      "r2_score 0.6700037466150782\n"
     ]
    }
   ],
   "source": [
    "regr = xgb.XGBRegressor(colsample_bytree=0.4,objective='reg:squarederror',\n",
    "                 gamma=0,                 \n",
    "                 learning_rate=0.07,\n",
    "                 max_depth=30,\n",
    "                 min_child_weight=1.5,\n",
    "                 n_estimators=100,                                                                    \n",
    "                 reg_alpha=0.75,\n",
    "                 reg_lambda=0.45,\n",
    "                 subsample=0.6,\n",
    "                 seed=42) \n",
    "regr.fit(\n",
    "    xtrain,\n",
    "    ytrain[[\"L103100_y\"]],\n",
    ")\n",
    "\n",
    "ypred = regr.predict(\n",
    "    xtest )\n",
    "\n",
    "print(\"r2_score\", m.r2_score(ytest[[\"L103100_y\"]], ypred))"
   ]
  },
  {
   "cell_type": "code",
   "execution_count": 30,
   "metadata": {},
   "outputs": [],
   "source": [
    "pred_L103100 = ypred"
   ]
  },
  {
   "cell_type": "markdown",
   "metadata": {},
   "source": [
    "L504700 # \n",
    "===="
   ]
  },
  {
   "cell_type": "code",
   "execution_count": 32,
   "metadata": {},
   "outputs": [],
   "source": [
    "# regr = xgb.XGBRegressor(colsample_bytree=0.4,objective='reg:squarederror',\n",
    "#                  gamma=0,                 \n",
    "#                  learning_rate=0.07,\n",
    "#                  max_depth=3,\n",
    "#                  min_child_weight=1.5,\n",
    "#                  n_estimators=100,                                                                    \n",
    "#                  reg_alpha=0.75,\n",
    "#                  reg_lambda=0.45,\n",
    "#                  subsample=0.6,\n",
    "#                  seed=42) \n",
    "# regr.fit(\n",
    "#     xtrain,\n",
    "#     ytrain[[\"L504700_y\"]],\n",
    "# )\n",
    "\n",
    "\n",
    "# ypred = regr.predict(xtest)\n",
    "\n",
    "# print(\"r2_score\", m.r2_score(ytest[[\"L504700_y\"]], ypred))\n"
   ]
  },
  {
   "cell_type": "code",
   "execution_count": 33,
   "metadata": {},
   "outputs": [],
   "source": [
    "# pred_L504700 = ypred"
   ]
  },
  {
   "cell_type": "markdown",
   "metadata": {},
   "source": [
    "RBC #\n",
    "==="
   ]
  },
  {
   "cell_type": "code",
   "execution_count": 36,
   "metadata": {},
   "outputs": [],
   "source": [
    "# regr = xgb.XGBRegressor(colsample_bytree=0.4,objective='reg:squarederror',\n",
    "#                  gamma=0,                 \n",
    "#                  learning_rate=0.07,\n",
    "#                  max_depth=3,\n",
    "#                  min_child_weight=1.5,\n",
    "#                  n_estimators=100,                                                                    \n",
    "#                  reg_alpha=0.75,\n",
    "#                  reg_lambda=0.45,\n",
    "#                  subsample=0.6,\n",
    "#                  seed=42) \n",
    "# regr.fit(\n",
    "#     xtrain,\n",
    "#     ytrain[[\"L190300_y\"]],\n",
    "# )\n",
    "\n",
    "\n",
    "\n",
    "# ypred = regr.predict( xtest )\n",
    "\n",
    "# print(\"r2_score\", m.r2_score(ytest[[\"L190300_y\"]], ypred))\n"
   ]
  },
  {
   "cell_type": "code",
   "execution_count": 37,
   "metadata": {},
   "outputs": [],
   "source": [
    "# pred_L190300 = ypred"
   ]
  },
  {
   "cell_type": "markdown",
   "metadata": {},
   "source": [
    "Triglycerides #\n",
    "==="
   ]
  },
  {
   "cell_type": "code",
   "execution_count": 38,
   "metadata": {},
   "outputs": [
    {
     "name": "stdout",
     "output_type": "stream",
     "text": [
      "r2_score 0.4945373814983651\n"
     ]
    }
   ],
   "source": [
    "regr = xgb.XGBRegressor(colsample_bytree=0.4,objective='reg:squarederror',\n",
    "                 gamma=0,                 \n",
    "                 learning_rate=0.07,\n",
    "                 max_depth=3,\n",
    "                 min_child_weight=1.5,\n",
    "                 n_estimators=60,                                                                    \n",
    "                 reg_alpha=0.75,\n",
    "                 reg_lambda=0.45,\n",
    "                 subsample=0.6,\n",
    "                 seed=42) \n",
    "regr.fit(\n",
    "    xtrain,\n",
    "    ytrain[[\"L103000_y\"]],\n",
    ")\n",
    "\n",
    "\n",
    "\n",
    "ypred = regr.predict(  xtest )\n",
    "\n",
    "print(\"r2_score\", m.r2_score(ytest[[\"L103000_y\"]], ypred))\n"
   ]
  },
  {
   "cell_type": "code",
   "execution_count": 39,
   "metadata": {},
   "outputs": [],
   "source": [
    "pred_L103000_y = ypred"
   ]
  },
  {
   "cell_type": "code",
   "execution_count": 40,
   "metadata": {},
   "outputs": [
    {
     "data": {
      "text/plain": [
       "CLASS_y\n",
       "0    1000\n",
       "1    1000\n",
       "2    1000\n",
       "dtype: int64"
      ]
     },
     "execution_count": 40,
     "metadata": {},
     "output_type": "execute_result"
    }
   ],
   "source": [
    "ytest.groupby(by='CLASS_y').size()"
   ]
  },
  {
   "cell_type": "markdown",
   "metadata": {},
   "source": [
    "L101600\n",
    "======"
   ]
  },
  {
   "cell_type": "code",
   "execution_count": 41,
   "metadata": {},
   "outputs": [
    {
     "name": "stdout",
     "output_type": "stream",
     "text": [
      "r2_score 0.6369080458504491\n"
     ]
    }
   ],
   "source": [
    "regr = xgb.XGBRegressor(colsample_bytree=0.4,objective='reg:squarederror',\n",
    "                 gamma=0,                 \n",
    "                 learning_rate=0.07,\n",
    "                 max_depth=3,\n",
    "                 min_child_weight=1.5,\n",
    "                 n_estimators=60,                                                                    \n",
    "                 reg_alpha=0.75,\n",
    "                 reg_lambda=0.45,\n",
    "                 subsample=0.6,\n",
    "                 seed=42) \n",
    "regr.fit(\n",
    "    xtrain,\n",
    "    ytrain[[\"L101600_y\"]],\n",
    ")\n",
    "\n",
    "\n",
    "\n",
    "ypred = regr.predict(  xtest )\n",
    "\n",
    "print(\"r2_score\", m.r2_score(ytest[[\"L101600_y\"]], ypred))\n"
   ]
  },
  {
   "cell_type": "code",
   "execution_count": 42,
   "metadata": {},
   "outputs": [],
   "source": [
    "pred_L101600_y = ypred"
   ]
  },
  {
   "cell_type": "markdown",
   "metadata": {},
   "source": [
    "L100500\n",
    "======"
   ]
  },
  {
   "cell_type": "code",
   "execution_count": 43,
   "metadata": {},
   "outputs": [
    {
     "name": "stdout",
     "output_type": "stream",
     "text": [
      "r2_score 0.7184206629908654\n"
     ]
    }
   ],
   "source": [
    "regr = xgb.XGBRegressor(colsample_bytree=0.4,objective='reg:squarederror',\n",
    "                 gamma=0,                 \n",
    "                 learning_rate=0.07,\n",
    "                 max_depth=3,\n",
    "                 min_child_weight=1.5,\n",
    "                 n_estimators=60,                                                                    \n",
    "                 reg_alpha=0.75,\n",
    "                 reg_lambda=0.45,\n",
    "                 subsample=0.6,\n",
    "                 seed=42) \n",
    "regr.fit(\n",
    "    xtrain,\n",
    "    ytrain[[\"L100500_y\"]],\n",
    ")\n",
    "\n",
    "\n",
    "\n",
    "ypred = regr.predict(  xtest )\n",
    "\n",
    "print(\"r2_score\", m.r2_score(ytest[[\"L100500_y\"]], ypred))\n"
   ]
  },
  {
   "cell_type": "code",
   "execution_count": 44,
   "metadata": {},
   "outputs": [],
   "source": [
    "pred_L100500_y = ypred"
   ]
  },
  {
   "cell_type": "markdown",
   "metadata": {},
   "source": [
    "Categorical values\n",
    "====="
   ]
  },
  {
   "cell_type": "code",
   "execution_count": 45,
   "metadata": {},
   "outputs": [],
   "source": [
    "pred_FIELD_40 = ytest.FIELD_40_y"
   ]
  },
  {
   "cell_type": "code",
   "execution_count": 46,
   "metadata": {},
   "outputs": [],
   "source": [
    "pred_FIELD_38 = ytest.FIELD_38_y"
   ]
  },
  {
   "cell_type": "code",
   "execution_count": 47,
   "metadata": {},
   "outputs": [],
   "source": [
    "pred_FIELD_33 = ytest.FIELD_33_y"
   ]
  },
  {
   "cell_type": "code",
   "execution_count": 48,
   "metadata": {},
   "outputs": [],
   "source": [
    "pred_SEX = ytest.SEX_y"
   ]
  },
  {
   "cell_type": "code",
   "execution_count": 49,
   "metadata": {},
   "outputs": [],
   "source": [
    "pred_AGE = ytest.AGE_y + 1"
   ]
  },
  {
   "cell_type": "markdown",
   "metadata": {},
   "source": [
    "Combine the predicted values to make dataframe\n",
    "===="
   ]
  },
  {
   "cell_type": "code",
   "execution_count": 54,
   "metadata": {},
   "outputs": [],
   "source": [
    "NextYearData = pd.DataFrame()\n",
    "NextYearData[\"P_FIELD_1\"] = ytest.FIELD_1_y.values\n",
    "NextYearData[\"P_FIELD_2\"] = ytest.FIELD_2_y.values\n",
    "\n",
    "NextYearData[\"P_L100700\"] = pred_L100700\n",
    "NextYearData[\"P_S000300\"] = pred_S000300\n",
    "NextYearData[\"P_L101700\"] = pred_L101700\n",
    "NextYearData[\"P_L100800\"] = pred_L100800\n",
    "NextYearData[\"P_L103000\"] = pred_L103000_y\n",
    "NextYearData[\"P_L101300\"] = pred_L101300_y\n",
    "NextYearData[\"P_L101600\"] = pred_L101600_y\n",
    "NextYearData[\"P_L100500\"] = pred_L100500_y\n",
    "\n",
    "NextYearData[\"P_FIELD_40\"] = pred_FIELD_40.values\n",
    "NextYearData[\"P_FIELD_38\"] = pred_FIELD_38.values\n",
    "NextYearData[\"P_FIELD_33\"] = pred_FIELD_33.values\n",
    "\n",
    "NextYearData[\"P_SEX\"] = pred_SEX.values\n",
    "NextYearData[\"P_AGE\"] = pred_AGE.values\n",
    "\n",
    "NextYearData[\"CLASS\"] = ytest.CLASS_y.values"
   ]
  },
  {
   "cell_type": "code",
   "execution_count": 55,
   "metadata": {},
   "outputs": [],
   "source": [
    "NextYearData.to_csv(\"Predicted_NextYearData.txt\", sep=\",\")"
   ]
  },
  {
   "cell_type": "markdown",
   "metadata": {},
   "source": [
    "==============================================\n",
    "=========="
   ]
  },
  {
   "cell_type": "code",
   "execution_count": 56,
   "metadata": {},
   "outputs": [],
   "source": [
    "# select the actual next year values\n",
    "\n",
    "NextYearData_actualData = pd.DataFrame()\n",
    "NextYearData_actualData[\"FIELD_1\"] = ytest.FIELD_1_y.values\n",
    "NextYearData_actualData[\"FIELD_2\"] = ytest.FIELD_2_y.values\n",
    "\n",
    "NextYearData_actualData[\"L100700\"] = ytest.L100700_y.values\n",
    "NextYearData_actualData[\"S000300\"] = ytest.S000300_y.values\n",
    "NextYearData_actualData[\"L101700\"] = ytest.L101700_y.values\n",
    "NextYearData_actualData[\"L100800\"] = ytest.L100800_y.values\n",
    "NextYearData_actualData[\"L103000\"] = ytest.L103000_y.values \n",
    "NextYearData_actualData[\"L101300\"] = ytest.L101300_y.values \n",
    "NextYearData_actualData[\"L101600\"] = ytest.L101600_y.values\n",
    "NextYearData_actualData[\"L100500\"] = ytest.L100500_y.values \n",
    "\n",
    "NextYearData_actualData[\"FIELD_40\"] = ytest.FIELD_40_y.values\n",
    "NextYearData_actualData[\"FIELD_38\"] = ytest.FIELD_38_y.values\n",
    "NextYearData_actualData[\"FIELD_33\"] = ytest.FIELD_33_y.values\n",
    "NextYearData_actualData[\"SEX\"] = ytest.SEX_y.values\n",
    "NextYearData_actualData[\"AGE\"] = ytest.AGE_y.values\n",
    "\n",
    "NextYearData_actualData[\"CLASS\"] = ytest.CLASS_y.values\n",
    "\n",
    "\n",
    "NextYearData_actualData.to_csv(\"NextYearData_actualData_test.txt\", sep=\",\")"
   ]
  },
  {
   "cell_type": "markdown",
   "metadata": {},
   "source": [
    "==========================================================\n",
    "==="
   ]
  },
  {
   "cell_type": "code",
   "execution_count": 57,
   "metadata": {},
   "outputs": [],
   "source": [
    "# select the actual this year values\n",
    "\n",
    "ThisYearData_actualData = pd.DataFrame()\n",
    "ThisYearData_actualData[\"FIELD_1\"] = xtest.FIELD_1_x.values\n",
    "ThisYearData_actualData[\"FIELD_2\"] = xtest.FIELD_2_x.values\n",
    "\n",
    "ThisYearData_actualData[\"L100700\"] = xtest.L100700_x.values\n",
    "ThisYearData_actualData[\"S000300\"] = xtest.S000300_x.values\n",
    "ThisYearData_actualData[\"L101700\"] = xtest.L101700_x.values\n",
    "ThisYearData_actualData[\"L100800\"] = xtest.L100800_x.values\n",
    "ThisYearData_actualData[\"L103000\"] = xtest.L103000_x.values\n",
    "ThisYearData_actualData[\"L101300\"] = xtest.L101300_x.values\n",
    "ThisYearData_actualData[\"L101600\"] = xtest.L101600_x.values\n",
    "ThisYearData_actualData[\"L100500\"] = xtest.L100500_x.values\n",
    "\n",
    "ThisYearData_actualData[\"FIELD_40\"] = xtest.FIELD_40_x.values\n",
    "ThisYearData_actualData[\"FIELD_38\"] = xtest.FIELD_38_x.values\n",
    "ThisYearData_actualData[\"FIELD_33\"] = xtest.FIELD_33_x.values\n",
    "\n",
    "ThisYearData_actualData[\"SEX\"] = xtest.SEX_x.values\n",
    "ThisYearData_actualData[\"AGE\"] = xtest.AGE_x.values \n",
    "\n",
    "ThisYearData_actualData[\"CLASS\"] = xtest.CLASS_x.values \n",
    "\n",
    "ThisYearData_actualData.to_csv(\"ThisYearData_actualData_test.txt\", sep=\",\")"
   ]
  },
  {
   "cell_type": "markdown",
   "metadata": {},
   "source": [
    "============================================\n",
    "========="
   ]
  },
  {
   "cell_type": "code",
   "execution_count": 58,
   "metadata": {},
   "outputs": [],
   "source": [
    "# select the actual next year values train\n",
    "\n",
    "NextYearData_actualData_train = pd.DataFrame()\n",
    "NextYearData_actualData_train[\"FIELD_1\"] = ytrain.FIELD_1_y.values\n",
    "NextYearData_actualData_train[\"FIELD_2\"] = ytrain.FIELD_2_y.values\n",
    "\n",
    "NextYearData_actualData_train[\"L100700\"] = ytrain.L100700_y.values\n",
    "NextYearData_actualData_train[\"S000300\"] = ytrain.S000300_y.values\n",
    "NextYearData_actualData_train[\"L101700\"] = ytrain.L101700_y.values\n",
    "NextYearData_actualData_train[\"L100800\"] = ytrain.L100800_y.values\n",
    "NextYearData_actualData_train[\"L103000\"] = ytrain.L103000_y.values \n",
    "NextYearData_actualData_train[\"L101300\"] = ytrain.L101300_y.values \n",
    "NextYearData_actualData_train[\"L101600\"] = ytrain.L101600_y.values\n",
    "NextYearData_actualData_train[\"L100500\"] = ytrain.L100500_y.values\n",
    "\n",
    "\n",
    "NextYearData_actualData_train[\"FIELD_40\"] = ytrain.FIELD_40_y.values\n",
    "NextYearData_actualData_train[\"FIELD_38\"] = ytrain.FIELD_38_y.values\n",
    "NextYearData_actualData_train[\"FIELD_33\"] = ytrain.FIELD_33_y.values\n",
    "\n",
    "NextYearData_actualData_train[\"SEX\"] = ytrain.SEX_y.values\n",
    "NextYearData_actualData_train[\"AGE\"] = ytrain.AGE_y.values\n",
    "\n",
    "\n",
    "NextYearData_actualData_train[\"CLASS\"] = ytrain.CLASS_y.values\n",
    "\n",
    "\n",
    "NextYearData_actualData_train.to_csv(\"NextYearData_actualData_train.txt\", sep=\",\")"
   ]
  },
  {
   "cell_type": "markdown",
   "metadata": {},
   "source": [
    "=================================================\n",
    "=============="
   ]
  },
  {
   "cell_type": "code",
   "execution_count": 59,
   "metadata": {},
   "outputs": [],
   "source": [
    "# select the actual this year values train\n",
    "\n",
    "ThisYearData_actualData_train = pd.DataFrame()\n",
    "ThisYearData_actualData_train[\"FIELD_1\"] = xtrain.FIELD_1_x.values\n",
    "ThisYearData_actualData_train[\"FIELD_2\"] = xtrain.FIELD_2_x.values\n",
    "\n",
    "ThisYearData_actualData_train[\"L100700\"] = xtrain.L100700_x.values\n",
    "ThisYearData_actualData_train[\"S000300\"] = xtrain.S000300_x.values\n",
    "ThisYearData_actualData_train[\"L101700\"] = xtrain.L101700_x.values\n",
    "ThisYearData_actualData_train[\"L100800\"] = xtrain.L100800_x.values\n",
    "ThisYearData_actualData_train[\"L103000\"] = xtrain.L103000_x.values\n",
    "ThisYearData_actualData_train[\"L101300\"] = xtrain.L101300_x.values\n",
    "ThisYearData_actualData_train[\"L101600\"] = xtrain.L101600_x.values\n",
    "ThisYearData_actualData_train[\"L100500\"] = xtrain.L100500_x.values\n",
    "\n",
    "\n",
    "ThisYearData_actualData_train[\"FIELD_40\"] = xtrain.FIELD_40_x.values\n",
    "ThisYearData_actualData_train[\"FIELD_38\"] = xtrain.FIELD_38_x.values\n",
    "ThisYearData_actualData_train[\"FIELD_33\"] = xtrain.FIELD_33_x.values\n",
    "\n",
    "ThisYearData_actualData_train[\"SEX\"] = xtrain.SEX_x.values\n",
    "ThisYearData_actualData_train[\"AGE\"] = xtrain.AGE_x.values\n",
    "\n",
    "ThisYearData_actualData_train[\"CLASS\"] = xtrain.CLASS_x.values\n",
    "\n",
    "ThisYearData_actualData_train.to_csv(\"ThisYearData_actualData_train.txt\", sep=\",\")"
   ]
  },
  {
   "cell_type": "code",
   "execution_count": null,
   "metadata": {},
   "outputs": [],
   "source": []
  },
  {
   "cell_type": "code",
   "execution_count": null,
   "metadata": {},
   "outputs": [],
   "source": []
  },
  {
   "cell_type": "code",
   "execution_count": null,
   "metadata": {},
   "outputs": [],
   "source": []
  },
  {
   "cell_type": "code",
   "execution_count": null,
   "metadata": {},
   "outputs": [],
   "source": []
  },
  {
   "cell_type": "code",
   "execution_count": null,
   "metadata": {},
   "outputs": [],
   "source": []
  }
 ],
 "metadata": {
  "kernelspec": {
   "display_name": "Python 3",
   "language": "python",
   "name": "python3"
  },
  "language_info": {
   "codemirror_mode": {
    "name": "ipython",
    "version": 3
   },
   "file_extension": ".py",
   "mimetype": "text/x-python",
   "name": "python",
   "nbconvert_exporter": "python",
   "pygments_lexer": "ipython3",
   "version": "3.7.3"
  }
 },
 "nbformat": 4,
 "nbformat_minor": 2
}

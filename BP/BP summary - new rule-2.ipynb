{
 "cells": [
  {
   "cell_type": "code",
   "execution_count": 1,
   "metadata": {},
   "outputs": [
    {
     "data": {
      "application/javascript": [
       "\n",
       "            setTimeout(function() {\n",
       "                var nbb_cell_id = 1;\n",
       "                var nbb_formatted_code = \"%load_ext nb_black\\nimport pandas as pd\\nimport numpy as np\\nimport warnings\\nfrom matplotlib import pyplot as plt\\n\\nwarnings.filterwarnings(\\\"ignore\\\")\";\n",
       "                var nbb_cells = Jupyter.notebook.get_cells();\n",
       "                for (var i = 0; i < nbb_cells.length; ++i) {\n",
       "                    if (nbb_cells[i].input_prompt_number == nbb_cell_id) {\n",
       "                        nbb_cells[i].set_text(nbb_formatted_code);\n",
       "                        break;\n",
       "                    }\n",
       "                }\n",
       "            }, 500);\n",
       "            "
      ],
      "text/plain": [
       "<IPython.core.display.Javascript object>"
      ]
     },
     "metadata": {},
     "output_type": "display_data"
    }
   ],
   "source": [
    "%load_ext nb_black\n",
    "import pandas as pd\n",
    "import numpy as np\n",
    "import warnings\n",
    "from matplotlib import pyplot as plt\n",
    "\n",
    "warnings.filterwarnings(\"ignore\")"
   ]
  },
  {
   "cell_type": "code",
   "execution_count": 2,
   "metadata": {},
   "outputs": [
    {
     "name": "stdout",
     "output_type": "stream",
     "text": [
      "(535169, 406)\n"
     ]
    },
    {
     "data": {
      "application/javascript": [
       "\n",
       "            setTimeout(function() {\n",
       "                var nbb_cell_id = 2;\n",
       "                var nbb_formatted_code = \"data = pd.read_csv(\\\"../sep19SexAndAgeAddedFINAL DATASET_ver2.txt\\\")\\nprint(data.shape)\";\n",
       "                var nbb_cells = Jupyter.notebook.get_cells();\n",
       "                for (var i = 0; i < nbb_cells.length; ++i) {\n",
       "                    if (nbb_cells[i].input_prompt_number == nbb_cell_id) {\n",
       "                        nbb_cells[i].set_text(nbb_formatted_code);\n",
       "                        break;\n",
       "                    }\n",
       "                }\n",
       "            }, 500);\n",
       "            "
      ],
      "text/plain": [
       "<IPython.core.display.Javascript object>"
      ]
     },
     "metadata": {},
     "output_type": "display_data"
    }
   ],
   "source": [
    "data = pd.read_csv(\"../sep19SexAndAgeAddedFINAL DATASET_ver2.txt\")\n",
    "print(data.shape)"
   ]
  },
  {
   "cell_type": "code",
   "execution_count": 3,
   "metadata": {},
   "outputs": [
    {
     "name": "stdout",
     "output_type": "stream",
     "text": [
      "(516594, 406)\n"
     ]
    },
    {
     "data": {
      "application/javascript": [
       "\n",
       "            setTimeout(function() {\n",
       "                var nbb_cell_id = 3;\n",
       "                var nbb_formatted_code = \"# Filter the data\\n\\n# remove diabetic people\\ndata = data[data.FIELD_16 != 1]\\ndata = data[data.FIELD_23 != 1]\\n\\n# remove hypertensive people who are diagnosed and on drugs\\n# data=data[data.FIELD_15!=1]\\n# data=data[data.FIELD_22!=1]\\n\\n# remove people who are diagnosed and on drugs for high lipids\\n# data=data[data.FIELD_17!=1]\\n# data=data[data.FIELD_24!=1]\\n\\nprint(data.shape)\";\n",
       "                var nbb_cells = Jupyter.notebook.get_cells();\n",
       "                for (var i = 0; i < nbb_cells.length; ++i) {\n",
       "                    if (nbb_cells[i].input_prompt_number == nbb_cell_id) {\n",
       "                        nbb_cells[i].set_text(nbb_formatted_code);\n",
       "                        break;\n",
       "                    }\n",
       "                }\n",
       "            }, 500);\n",
       "            "
      ],
      "text/plain": [
       "<IPython.core.display.Javascript object>"
      ]
     },
     "metadata": {},
     "output_type": "display_data"
    }
   ],
   "source": [
    "# Filter the data\n",
    "\n",
    "# remove diabetic people\n",
    "data = data[data.FIELD_16 != 1]\n",
    "data = data[data.FIELD_23 != 1]\n",
    "\n",
    "# remove hypertensive people who are diagnosed and on drugs\n",
    "# data=data[data.FIELD_15!=1]\n",
    "# data=data[data.FIELD_22!=1]\n",
    "\n",
    "# remove people who are diagnosed and on drugs for high lipids\n",
    "# data=data[data.FIELD_17!=1]\n",
    "# data=data[data.FIELD_24!=1]\n",
    "\n",
    "print(data.shape)"
   ]
  },
  {
   "cell_type": "code",
   "execution_count": 4,
   "metadata": {},
   "outputs": [
    {
     "data": {
      "application/javascript": [
       "\n",
       "            setTimeout(function() {\n",
       "                var nbb_cell_id = 4;\n",
       "                var nbb_formatted_code = \"# conditions = [\\n#     (data.S000501 < 120) & (data.S000502 < 80),\\n#     # overlaping values\\n#     (data.S000501 >= 120) & (data.S000501 < 140) & (data.S000502 < 80),\\n#     # overlaping values\\n#     (data.S000501 < 120) & (data.S000502 >= 80) & (data.S000502 < 90),\\n#     # Class 1\\n#     (data.S000501 >= 120)\\n#     & (data.S000501 < 140)\\n#     & (data.S000502 >= 80)\\n#     & (data.S000502 < 90),\\n#     # overlaping values\\n#     (data.S000501 >= 120) & (data.S000501 < 140) & (data.S000502 >= 90),\\n#     # overlaping values\\n#     (data.S000501 >= 140) & (data.S000502 >= 80) & (data.S000502 < 90),\\n#     # class 2\\n#     (data.S000501 >= 140) & (data.S000502 >= 90),\\n# ]\\n# choices = [0, 1, 1, 1, 2, 2, 2]\\n# data[\\\"CLASS\\\"] = np.select(conditions, choices, default=-1)\\n\\ndata = data[[\\\"FIELD_15\\\", \\\"FIELD_22\\\", \\\"S000501\\\", \\\"S000502\\\"]].dropna()\\ndata = data.reset_index()\\n\\n_class = []\\nfor i in range(data.shape[0]):\\n    if (data.S000501[i] >= 140) | (data.S000502[i] >= 90):\\n        _class.append(2)\\n    elif (data.S000501[i] < 120) & (data.S000502[i] < 80):\\n        _class.append(0)\\n    else:\\n        _class.append(1)\\ndata[\\\"CLASS\\\"] = _class\";\n",
       "                var nbb_cells = Jupyter.notebook.get_cells();\n",
       "                for (var i = 0; i < nbb_cells.length; ++i) {\n",
       "                    if (nbb_cells[i].input_prompt_number == nbb_cell_id) {\n",
       "                        nbb_cells[i].set_text(nbb_formatted_code);\n",
       "                        break;\n",
       "                    }\n",
       "                }\n",
       "            }, 500);\n",
       "            "
      ],
      "text/plain": [
       "<IPython.core.display.Javascript object>"
      ]
     },
     "metadata": {},
     "output_type": "display_data"
    }
   ],
   "source": [
    "# conditions = [\n",
    "#     (data.S000501 < 120) & (data.S000502 < 80),\n",
    "#     # overlaping values\n",
    "#     (data.S000501 >= 120) & (data.S000501 < 140) & (data.S000502 < 80),\n",
    "#     # overlaping values\n",
    "#     (data.S000501 < 120) & (data.S000502 >= 80) & (data.S000502 < 90),\n",
    "#     # Class 1\n",
    "#     (data.S000501 >= 120)\n",
    "#     & (data.S000501 < 140)\n",
    "#     & (data.S000502 >= 80)\n",
    "#     & (data.S000502 < 90),\n",
    "#     # overlaping values\n",
    "#     (data.S000501 >= 120) & (data.S000501 < 140) & (data.S000502 >= 90),\n",
    "#     # overlaping values\n",
    "#     (data.S000501 >= 140) & (data.S000502 >= 80) & (data.S000502 < 90),\n",
    "#     # class 2\n",
    "#     (data.S000501 >= 140) & (data.S000502 >= 90),\n",
    "# ]\n",
    "# choices = [0, 1, 1, 1, 2, 2, 2]\n",
    "# data[\"CLASS\"] = np.select(conditions, choices, default=-1)\n",
    "\n",
    "data = data[[\"FIELD_15\", \"FIELD_22\", \"S000501\", \"S000502\"]].dropna()\n",
    "data = data.reset_index()\n",
    "\n",
    "_class = []\n",
    "for i in range(data.shape[0]):\n",
    "    if (data.S000501[i] >= 140) | (data.S000502[i] >= 90):\n",
    "        _class.append(2)\n",
    "    elif (data.S000501[i] < 120) & (data.S000502[i] < 80):\n",
    "        _class.append(0)\n",
    "    else:\n",
    "        _class.append(1)\n",
    "data[\"CLASS\"] = _class"
   ]
  },
  {
   "cell_type": "code",
   "execution_count": 5,
   "metadata": {},
   "outputs": [
    {
     "name": "stdout",
     "output_type": "stream",
     "text": [
      "Diagnosed = 40781 ON Drug = 36165 Others = 467837\n"
     ]
    },
    {
     "data": {
      "image/png": "[encoded data removed]",
      "text/plain": [
       "<Figure size 432x288 with 1 Axes>"
      ]
     },
     "metadata": {
      "needs_background": "light"
     },
     "output_type": "display_data"
    },
    {
     "data": {
      "application/javascript": [
       "\n",
       "            setTimeout(function() {\n",
       "                var nbb_cell_id = 5;\n",
       "                var nbb_formatted_code = \"# hypertensive people who are diagnosed\\ndiagnosedPeople = data[data.FIELD_15 == 1]\\n\\n# hypertensive people who are on drugs\\npeopleTakingDrugs = data[data.FIELD_22 == 1]\\n\\nothers = data.query(\\\"FIELD_15!=1 and FIELD_22!=1\\\")\\n\\nplt.bar(\\n    [\\\"Diagnosed\\\", \\\"ON Drug\\\", \\\"Others\\\"],\\n    [diagnosedPeople.shape[0], peopleTakingDrugs.shape[0], others.shape[0]],\\n    width=0.8,\\n)\\n\\nprint(\\n    \\\"Diagnosed =\\\",\\n    diagnosedPeople.shape[0],\\n    \\\"ON Drug =\\\",\\n    peopleTakingDrugs.shape[0],\\n    \\\"Others =\\\",\\n    others.shape[0],\\n)\";\n",
       "                var nbb_cells = Jupyter.notebook.get_cells();\n",
       "                for (var i = 0; i < nbb_cells.length; ++i) {\n",
       "                    if (nbb_cells[i].input_prompt_number == nbb_cell_id) {\n",
       "                        nbb_cells[i].set_text(nbb_formatted_code);\n",
       "                        break;\n",
       "                    }\n",
       "                }\n",
       "            }, 500);\n",
       "            "
      ],
      "text/plain": [
       "<IPython.core.display.Javascript object>"
      ]
     },
     "metadata": {},
     "output_type": "display_data"
    }
   ],
   "source": [
    "# hypertensive people who are diagnosed\n",
    "diagnosedPeople = data[data.FIELD_15 == 1]\n",
    "\n",
    "# hypertensive people who are on drugs\n",
    "peopleTakingDrugs = data[data.FIELD_22 == 1]\n",
    "\n",
    "others = data.query(\"FIELD_15!=1 and FIELD_22!=1\")\n",
    "\n",
    "plt.bar(\n",
    "    [\"Diagnosed\", \"ON Drug\", \"Others\"],\n",
    "    [diagnosedPeople.shape[0], peopleTakingDrugs.shape[0], others.shape[0]],\n",
    "    width=0.8,\n",
    ")\n",
    "\n",
    "print(\n",
    "    \"Diagnosed =\",\n",
    "    diagnosedPeople.shape[0],\n",
    "    \"ON Drug =\",\n",
    "    peopleTakingDrugs.shape[0],\n",
    "    \"Others =\",\n",
    "    others.shape[0],\n",
    ")"
   ]
  },
  {
   "cell_type": "markdown",
   "metadata": {},
   "source": [
    "1 All Dataset\n",
    "===="
   ]
  },
  {
   "cell_type": "code",
   "execution_count": 7,
   "metadata": {},
   "outputs": [
    {
     "data": {
      "text/html": [
       "<div>\n",
       "<style scoped>\n",
       "    .dataframe tbody tr th:only-of-type {\n",
       "        vertical-align: middle;\n",
       "    }\n",
       "\n",
       "    .dataframe tbody tr th {\n",
       "        vertical-align: top;\n",
       "    }\n",
       "\n",
       "    .dataframe thead th {\n",
       "        text-align: right;\n",
       "    }\n",
       "</style>\n",
       "<table border=\"1\" class=\"dataframe\">\n",
       "  <thead>\n",
       "    <tr style=\"text-align: right;\">\n",
       "      <th></th>\n",
       "      <th>CLASS</th>\n",
       "      <th>total</th>\n",
       "    </tr>\n",
       "  </thead>\n",
       "  <tbody>\n",
       "    <tr>\n",
       "      <th>0</th>\n",
       "      <td>0</td>\n",
       "      <td>247938</td>\n",
       "    </tr>\n",
       "    <tr>\n",
       "      <th>1</th>\n",
       "      <td>1</td>\n",
       "      <td>237709</td>\n",
       "    </tr>\n",
       "    <tr>\n",
       "      <th>2</th>\n",
       "      <td>2</td>\n",
       "      <td>23601</td>\n",
       "    </tr>\n",
       "  </tbody>\n",
       "</table>\n",
       "</div>"
      ],
      "text/plain": [
       "   CLASS   total\n",
       "0      0  247938\n",
       "1      1  237709\n",
       "2      2   23601"
      ]
     },
     "execution_count": 7,
     "metadata": {},
     "output_type": "execute_result"
    },
    {
     "data": {
      "application/javascript": [
       "\n",
       "            setTimeout(function() {\n",
       "                var nbb_cell_id = 7;\n",
       "                var nbb_formatted_code = \"temp = pd.DataFrame(data.groupby(by=\\\"CLASS\\\").size().reset_index(name=\\\"total\\\"))\\ntemp\";\n",
       "                var nbb_cells = Jupyter.notebook.get_cells();\n",
       "                for (var i = 0; i < nbb_cells.length; ++i) {\n",
       "                    if (nbb_cells[i].input_prompt_number == nbb_cell_id) {\n",
       "                        nbb_cells[i].set_text(nbb_formatted_code);\n",
       "                        break;\n",
       "                    }\n",
       "                }\n",
       "            }, 500);\n",
       "            "
      ],
      "text/plain": [
       "<IPython.core.display.Javascript object>"
      ]
     },
     "metadata": {},
     "output_type": "display_data"
    }
   ],
   "source": [
    "temp = pd.DataFrame(data.groupby(by=\"CLASS\").size().reset_index(name=\"total\"))\n",
    "temp"
   ]
  },
  {
   "cell_type": "code",
   "execution_count": 8,
   "metadata": {},
   "outputs": [
    {
     "data": {
      "image/png": "[encoded data removed]",
      "text/plain": [
       "<Figure size 432x288 with 1 Axes>"
      ]
     },
     "metadata": {},
     "output_type": "display_data"
    },
    {
     "data": {
      "text/html": [
       "<div>\n",
       "<style scoped>\n",
       "    .dataframe tbody tr th:only-of-type {\n",
       "        vertical-align: middle;\n",
       "    }\n",
       "\n",
       "    .dataframe tbody tr th {\n",
       "        vertical-align: top;\n",
       "    }\n",
       "\n",
       "    .dataframe thead th {\n",
       "        text-align: right;\n",
       "    }\n",
       "</style>\n",
       "<table border=\"1\" class=\"dataframe\">\n",
       "  <thead>\n",
       "    <tr style=\"text-align: right;\">\n",
       "      <th></th>\n",
       "      <th>CLASS</th>\n",
       "      <th>total</th>\n",
       "    </tr>\n",
       "  </thead>\n",
       "  <tbody>\n",
       "    <tr>\n",
       "      <th>0</th>\n",
       "      <td>0</td>\n",
       "      <td>247938</td>\n",
       "    </tr>\n",
       "    <tr>\n",
       "      <th>1</th>\n",
       "      <td>1</td>\n",
       "      <td>237709</td>\n",
       "    </tr>\n",
       "    <tr>\n",
       "      <th>2</th>\n",
       "      <td>2</td>\n",
       "      <td>23601</td>\n",
       "    </tr>\n",
       "  </tbody>\n",
       "</table>\n",
       "</div>"
      ],
      "text/plain": [
       "   CLASS   total\n",
       "0      0  247938\n",
       "1      1  237709\n",
       "2      2   23601"
      ]
     },
     "execution_count": 8,
     "metadata": {},
     "output_type": "execute_result"
    },
    {
     "data": {
      "application/javascript": [
       "\n",
       "            setTimeout(function() {\n",
       "                var nbb_cell_id = 8;\n",
       "                var nbb_formatted_code = \"# group the whole data based on class\\ntemp = pd.DataFrame(data.groupby(by=\\\"CLASS\\\").size().reset_index(name=\\\"total\\\"))\\n\\nlabels = \\\"0\\\", \\\"1\\\", \\\"2\\\"\\nsizes = [temp.total[0], temp.total[1], temp.total[2]]\\nexplode = (0.1, 0, 0)\\n\\nfig1, ax1 = plt.subplots()\\nax1.pie(\\n    sizes, explode=explode, labels=labels, autopct=\\\"%1.1f%%\\\", shadow=True, startangle=90\\n)\\nax1.axis(\\\"equal\\\")  # Equal aspect ratio ensures that pie is drawn as a circle.\\n\\nplt.show()\\n\\ntemp\";\n",
       "                var nbb_cells = Jupyter.notebook.get_cells();\n",
       "                for (var i = 0; i < nbb_cells.length; ++i) {\n",
       "                    if (nbb_cells[i].input_prompt_number == nbb_cell_id) {\n",
       "                        nbb_cells[i].set_text(nbb_formatted_code);\n",
       "                        break;\n",
       "                    }\n",
       "                }\n",
       "            }, 500);\n",
       "            "
      ],
      "text/plain": [
       "<IPython.core.display.Javascript object>"
      ]
     },
     "metadata": {},
     "output_type": "display_data"
    }
   ],
   "source": [
    "# group the whole data based on class\n",
    "temp = pd.DataFrame(data.groupby(by=\"CLASS\").size().reset_index(name=\"total\"))\n",
    "\n",
    "labels = \"0\", \"1\", \"2\"\n",
    "sizes = [temp.total[0], temp.total[1], temp.total[2]]\n",
    "explode = (0.1, 0, 0)\n",
    "\n",
    "fig1, ax1 = plt.subplots()\n",
    "ax1.pie(\n",
    "    sizes, explode=explode, labels=labels, autopct=\"%1.1f%%\", shadow=True, startangle=90\n",
    ")\n",
    "ax1.axis(\"equal\")  # Equal aspect ratio ensures that pie is drawn as a circle.\n",
    "\n",
    "plt.show()\n",
    "\n",
    "temp"
   ]
  },
  {
   "cell_type": "markdown",
   "metadata": {},
   "source": [
    "2 Hypertensive people who are diagnosed \n",
    "======"
   ]
  },
  {
   "cell_type": "code",
   "execution_count": 9,
   "metadata": {},
   "outputs": [
    {
     "data": {
      "image/png": "[encoded data removed]",
      "text/plain": [
       "<Figure size 432x288 with 1 Axes>"
      ]
     },
     "metadata": {},
     "output_type": "display_data"
    },
    {
     "data": {
      "text/html": [
       "<div>\n",
       "<style scoped>\n",
       "    .dataframe tbody tr th:only-of-type {\n",
       "        vertical-align: middle;\n",
       "    }\n",
       "\n",
       "    .dataframe tbody tr th {\n",
       "        vertical-align: top;\n",
       "    }\n",
       "\n",
       "    .dataframe thead th {\n",
       "        text-align: right;\n",
       "    }\n",
       "</style>\n",
       "<table border=\"1\" class=\"dataframe\">\n",
       "  <thead>\n",
       "    <tr style=\"text-align: right;\">\n",
       "      <th></th>\n",
       "      <th>CLASS</th>\n",
       "      <th>total</th>\n",
       "    </tr>\n",
       "  </thead>\n",
       "  <tbody>\n",
       "    <tr>\n",
       "      <th>0</th>\n",
       "      <td>0</td>\n",
       "      <td>8199</td>\n",
       "    </tr>\n",
       "    <tr>\n",
       "      <th>1</th>\n",
       "      <td>1</td>\n",
       "      <td>27308</td>\n",
       "    </tr>\n",
       "    <tr>\n",
       "      <th>2</th>\n",
       "      <td>2</td>\n",
       "      <td>5274</td>\n",
       "    </tr>\n",
       "  </tbody>\n",
       "</table>\n",
       "</div>"
      ],
      "text/plain": [
       "   CLASS  total\n",
       "0      0   8199\n",
       "1      1  27308\n",
       "2      2   5274"
      ]
     },
     "execution_count": 9,
     "metadata": {},
     "output_type": "execute_result"
    },
    {
     "data": {
      "application/javascript": [
       "\n",
       "            setTimeout(function() {\n",
       "                var nbb_cell_id = 9;\n",
       "                var nbb_formatted_code = \"temp = pd.DataFrame(\\n    diagnosedPeople.groupby(by=\\\"CLASS\\\").size().reset_index(name=\\\"total\\\")\\n)\\n\\nlabels = \\\"0\\\", \\\"1\\\", \\\"2\\\"\\nsizes = [temp.total[0], temp.total[1], temp.total[2]]\\nexplode = (0.1, 0, 0)\\n\\nfig1, ax1 = plt.subplots()\\nax1.pie(\\n    sizes, explode=explode, labels=labels, autopct=\\\"%1.1f%%\\\", shadow=True, startangle=90\\n)\\nax1.axis(\\\"equal\\\")  # Equal aspect ratio ensures that pie is drawn as a circle.\\n\\nplt.show()\\n\\ntemp\";\n",
       "                var nbb_cells = Jupyter.notebook.get_cells();\n",
       "                for (var i = 0; i < nbb_cells.length; ++i) {\n",
       "                    if (nbb_cells[i].input_prompt_number == nbb_cell_id) {\n",
       "                        nbb_cells[i].set_text(nbb_formatted_code);\n",
       "                        break;\n",
       "                    }\n",
       "                }\n",
       "            }, 500);\n",
       "            "
      ],
      "text/plain": [
       "<IPython.core.display.Javascript object>"
      ]
     },
     "metadata": {},
     "output_type": "display_data"
    }
   ],
   "source": [
    "temp = pd.DataFrame(\n",
    "    diagnosedPeople.groupby(by=\"CLASS\").size().reset_index(name=\"total\")\n",
    ")\n",
    "\n",
    "labels = \"0\", \"1\", \"2\"\n",
    "sizes = [temp.total[0], temp.total[1], temp.total[2]]\n",
    "explode = (0.1, 0, 0)\n",
    "\n",
    "fig1, ax1 = plt.subplots()\n",
    "ax1.pie(\n",
    "    sizes, explode=explode, labels=labels, autopct=\"%1.1f%%\", shadow=True, startangle=90\n",
    ")\n",
    "ax1.axis(\"equal\")  # Equal aspect ratio ensures that pie is drawn as a circle.\n",
    "\n",
    "plt.show()\n",
    "\n",
    "temp"
   ]
  },
  {
   "cell_type": "markdown",
   "metadata": {},
   "source": [
    "3 Hypertensive people who are on drugs\n",
    "==="
   ]
  },
  {
   "cell_type": "code",
   "execution_count": 10,
   "metadata": {},
   "outputs": [
    {
     "data": {
      "image/png": "[encoded data removed]",
      "text/plain": [
       "<Figure size 432x288 with 1 Axes>"
      ]
     },
     "metadata": {},
     "output_type": "display_data"
    },
    {
     "data": {
      "text/html": [
       "<div>\n",
       "<style scoped>\n",
       "    .dataframe tbody tr th:only-of-type {\n",
       "        vertical-align: middle;\n",
       "    }\n",
       "\n",
       "    .dataframe tbody tr th {\n",
       "        vertical-align: top;\n",
       "    }\n",
       "\n",
       "    .dataframe thead th {\n",
       "        text-align: right;\n",
       "    }\n",
       "</style>\n",
       "<table border=\"1\" class=\"dataframe\">\n",
       "  <thead>\n",
       "    <tr style=\"text-align: right;\">\n",
       "      <th></th>\n",
       "      <th>CLASS</th>\n",
       "      <th>total</th>\n",
       "    </tr>\n",
       "  </thead>\n",
       "  <tbody>\n",
       "    <tr>\n",
       "      <th>0</th>\n",
       "      <td>0</td>\n",
       "      <td>7773</td>\n",
       "    </tr>\n",
       "    <tr>\n",
       "      <th>1</th>\n",
       "      <td>1</td>\n",
       "      <td>24559</td>\n",
       "    </tr>\n",
       "    <tr>\n",
       "      <th>2</th>\n",
       "      <td>2</td>\n",
       "      <td>3833</td>\n",
       "    </tr>\n",
       "  </tbody>\n",
       "</table>\n",
       "</div>"
      ],
      "text/plain": [
       "   CLASS  total\n",
       "0      0   7773\n",
       "1      1  24559\n",
       "2      2   3833"
      ]
     },
     "execution_count": 10,
     "metadata": {},
     "output_type": "execute_result"
    },
    {
     "data": {
      "application/javascript": [
       "\n",
       "            setTimeout(function() {\n",
       "                var nbb_cell_id = 10;\n",
       "                var nbb_formatted_code = \"temp = pd.DataFrame(\\n    peopleTakingDrugs.groupby(by=\\\"CLASS\\\").size().reset_index(name=\\\"total\\\")\\n)\\n\\nlabels = \\\"0\\\", \\\"1\\\", \\\"2\\\"\\nsizes = [temp.total[0], temp.total[1], temp.total[2]]\\nexplode = (0.1, 0, 0)\\n\\nfig1, ax1 = plt.subplots()\\nax1.pie(\\n    sizes, explode=explode, labels=labels, autopct=\\\"%1.1f%%\\\", shadow=True, startangle=90\\n)\\nax1.axis(\\\"equal\\\")  # Equal aspect ratio ensures that pie is drawn as a circle.\\n\\nplt.show()\\n\\ntemp\";\n",
       "                var nbb_cells = Jupyter.notebook.get_cells();\n",
       "                for (var i = 0; i < nbb_cells.length; ++i) {\n",
       "                    if (nbb_cells[i].input_prompt_number == nbb_cell_id) {\n",
       "                        nbb_cells[i].set_text(nbb_formatted_code);\n",
       "                        break;\n",
       "                    }\n",
       "                }\n",
       "            }, 500);\n",
       "            "
      ],
      "text/plain": [
       "<IPython.core.display.Javascript object>"
      ]
     },
     "metadata": {},
     "output_type": "display_data"
    }
   ],
   "source": [
    "temp = pd.DataFrame(\n",
    "    peopleTakingDrugs.groupby(by=\"CLASS\").size().reset_index(name=\"total\")\n",
    ")\n",
    "\n",
    "labels = \"0\", \"1\", \"2\"\n",
    "sizes = [temp.total[0], temp.total[1], temp.total[2]]\n",
    "explode = (0.1, 0, 0)\n",
    "\n",
    "fig1, ax1 = plt.subplots()\n",
    "ax1.pie(\n",
    "    sizes, explode=explode, labels=labels, autopct=\"%1.1f%%\", shadow=True, startangle=90\n",
    ")\n",
    "ax1.axis(\"equal\")  # Equal aspect ratio ensures that pie is drawn as a circle.\n",
    "\n",
    "plt.show()\n",
    "\n",
    "temp"
   ]
  },
  {
   "cell_type": "markdown",
   "metadata": {},
   "source": [
    "4 Others\n",
    "==="
   ]
  },
  {
   "cell_type": "code",
   "execution_count": 11,
   "metadata": {},
   "outputs": [
    {
     "data": {
      "image/png": "[encoded data removed]",
      "text/plain": [
       "<Figure size 432x288 with 1 Axes>"
      ]
     },
     "metadata": {},
     "output_type": "display_data"
    },
    {
     "data": {
      "text/html": [
       "<div>\n",
       "<style scoped>\n",
       "    .dataframe tbody tr th:only-of-type {\n",
       "        vertical-align: middle;\n",
       "    }\n",
       "\n",
       "    .dataframe tbody tr th {\n",
       "        vertical-align: top;\n",
       "    }\n",
       "\n",
       "    .dataframe thead th {\n",
       "        text-align: right;\n",
       "    }\n",
       "</style>\n",
       "<table border=\"1\" class=\"dataframe\">\n",
       "  <thead>\n",
       "    <tr style=\"text-align: right;\">\n",
       "      <th></th>\n",
       "      <th>CLASS</th>\n",
       "      <th>total</th>\n",
       "    </tr>\n",
       "  </thead>\n",
       "  <tbody>\n",
       "    <tr>\n",
       "      <th>0</th>\n",
       "      <td>0</td>\n",
       "      <td>239585</td>\n",
       "    </tr>\n",
       "    <tr>\n",
       "      <th>1</th>\n",
       "      <td>1</td>\n",
       "      <td>209968</td>\n",
       "    </tr>\n",
       "    <tr>\n",
       "      <th>2</th>\n",
       "      <td>2</td>\n",
       "      <td>18284</td>\n",
       "    </tr>\n",
       "  </tbody>\n",
       "</table>\n",
       "</div>"
      ],
      "text/plain": [
       "   CLASS   total\n",
       "0      0  239585\n",
       "1      1  209968\n",
       "2      2   18284"
      ]
     },
     "execution_count": 11,
     "metadata": {},
     "output_type": "execute_result"
    },
    {
     "data": {
      "application/javascript": [
       "\n",
       "            setTimeout(function() {\n",
       "                var nbb_cell_id = 11;\n",
       "                var nbb_formatted_code = \"temp = pd.DataFrame(others.groupby(by=\\\"CLASS\\\").size().reset_index(name=\\\"total\\\"))\\n\\nlabels = \\\"0\\\", \\\"1\\\", \\\"2\\\"\\nsizes = [temp.total[0], temp.total[1], temp.total[2]]\\nexplode = (0.1, 0, 0)\\n\\nfig1, ax1 = plt.subplots()\\nax1.pie(\\n    sizes, explode=explode, labels=labels, autopct=\\\"%1.1f%%\\\", shadow=True, startangle=90\\n)\\nax1.axis(\\\"equal\\\")  # Equal aspect ratio ensures that pie is drawn as a circle.\\n\\nplt.show()\\n\\ntemp\";\n",
       "                var nbb_cells = Jupyter.notebook.get_cells();\n",
       "                for (var i = 0; i < nbb_cells.length; ++i) {\n",
       "                    if (nbb_cells[i].input_prompt_number == nbb_cell_id) {\n",
       "                        nbb_cells[i].set_text(nbb_formatted_code);\n",
       "                        break;\n",
       "                    }\n",
       "                }\n",
       "            }, 500);\n",
       "            "
      ],
      "text/plain": [
       "<IPython.core.display.Javascript object>"
      ]
     },
     "metadata": {},
     "output_type": "display_data"
    }
   ],
   "source": [
    "temp = pd.DataFrame(others.groupby(by=\"CLASS\").size().reset_index(name=\"total\"))\n",
    "\n",
    "labels = \"0\", \"1\", \"2\"\n",
    "sizes = [temp.total[0], temp.total[1], temp.total[2]]\n",
    "explode = (0.1, 0, 0)\n",
    "\n",
    "fig1, ax1 = plt.subplots()\n",
    "ax1.pie(\n",
    "    sizes, explode=explode, labels=labels, autopct=\"%1.1f%%\", shadow=True, startangle=90\n",
    ")\n",
    "ax1.axis(\"equal\")  # Equal aspect ratio ensures that pie is drawn as a circle.\n",
    "\n",
    "plt.show()\n",
    "\n",
    "temp"
   ]
  },
  {
   "cell_type": "code",
   "execution_count": null,
   "metadata": {},
   "outputs": [],
   "source": []
  },
  {
   "cell_type": "code",
   "execution_count": null,
   "metadata": {},
   "outputs": [],
   "source": []
  }
 ],
 "metadata": {
  "kernelspec": {
   "display_name": "Python 3",
   "language": "python",
   "name": "python3"
  },
  "language_info": {
   "codemirror_mode": {
    "name": "ipython",
    "version": 3
   },
   "file_extension": ".py",
   "mimetype": "text/x-python",
   "name": "python",
   "nbconvert_exporter": "python",
   "pygments_lexer": "ipython3",
   "version": "3.7.3"
  }
 },
 "nbformat": 4,
 "nbformat_minor": 2
}

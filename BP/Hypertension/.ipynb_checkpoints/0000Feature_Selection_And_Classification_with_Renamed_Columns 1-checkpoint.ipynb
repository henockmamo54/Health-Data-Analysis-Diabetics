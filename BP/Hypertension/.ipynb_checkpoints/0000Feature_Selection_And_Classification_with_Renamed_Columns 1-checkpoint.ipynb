{
 "cells": [
  {
   "cell_type": "code",
   "execution_count": 1,
   "metadata": {},
   "outputs": [
    {
     "data": {
      "application/javascript": [
       "\n",
       "            setTimeout(function() {\n",
       "                var nbb_cell_id = 1;\n",
       "                var nbb_formatted_code = \"%load_ext nb_black\\nimport numpy as np\\nimport pandas as pd\\nimport warnings\\nfrom scipy.stats import chi2_contingency\\nfrom scipy import stats\\nfrom matplotlib import pyplot as plt\\n\\nwarnings.filterwarnings(\\\"ignore\\\")\";\n",
       "                var nbb_cells = Jupyter.notebook.get_cells();\n",
       "                for (var i = 0; i < nbb_cells.length; ++i) {\n",
       "                    if (nbb_cells[i].input_prompt_number == nbb_cell_id) {\n",
       "                        nbb_cells[i].set_text(nbb_formatted_code);\n",
       "                        break;\n",
       "                    }\n",
       "                }\n",
       "            }, 500);\n",
       "            "
      ],
      "text/plain": [
       "<IPython.core.display.Javascript object>"
      ]
     },
     "metadata": {},
     "output_type": "display_data"
    }
   ],
   "source": [
    "%load_ext nb_black\n",
    "import numpy as np\n",
    "import pandas as pd\n",
    "import warnings\n",
    "from scipy.stats import chi2_contingency\n",
    "from scipy import stats\n",
    "from matplotlib import pyplot as plt\n",
    "\n",
    "warnings.filterwarnings(\"ignore\")"
   ]
  },
  {
   "cell_type": "markdown",
   "metadata": {},
   "source": [
    "1 Read the dataset \n",
    "========"
   ]
  },
  {
   "cell_type": "code",
   "execution_count": 2,
   "metadata": {},
   "outputs": [
    {
     "data": {
      "application/javascript": [
       "\n",
       "            setTimeout(function() {\n",
       "                var nbb_cell_id = 2;\n",
       "                var nbb_formatted_code = \"data = pd.read_csv(\\\"../../sep19SexAndAgeAddedFINAL DATASET_ver2.txt\\\", sep=\\\",\\\")\";\n",
       "                var nbb_cells = Jupyter.notebook.get_cells();\n",
       "                for (var i = 0; i < nbb_cells.length; ++i) {\n",
       "                    if (nbb_cells[i].input_prompt_number == nbb_cell_id) {\n",
       "                        nbb_cells[i].set_text(nbb_formatted_code);\n",
       "                        break;\n",
       "                    }\n",
       "                }\n",
       "            }, 500);\n",
       "            "
      ],
      "text/plain": [
       "<IPython.core.display.Javascript object>"
      ]
     },
     "metadata": {},
     "output_type": "display_data"
    }
   ],
   "source": [
    "data = pd.read_csv(\"../../sep19SexAndAgeAddedFINAL DATASET_ver2.txt\", sep=\",\")"
   ]
  },
  {
   "cell_type": "code",
   "execution_count": 3,
   "metadata": {},
   "outputs": [
    {
     "data": {
      "application/javascript": [
       "\n",
       "            setTimeout(function() {\n",
       "                var nbb_cell_id = 3;\n",
       "                var nbb_formatted_code = \"# change field 38 to 3 group\\n\\ncondtion = [\\n    data.FIELD_38 == 0,\\n    (data.FIELD_38 > 0) & (data.FIELD_38 < 4),\\n    data.FIELD_38 >= 4,\\n]\\nchoice = [0, 1, 2]\\ndata[\\\"FIELD_38_C\\\"] = np.select(condtion, choice, default=np.nan)\";\n",
       "                var nbb_cells = Jupyter.notebook.get_cells();\n",
       "                for (var i = 0; i < nbb_cells.length; ++i) {\n",
       "                    if (nbb_cells[i].input_prompt_number == nbb_cell_id) {\n",
       "                        nbb_cells[i].set_text(nbb_formatted_code);\n",
       "                        break;\n",
       "                    }\n",
       "                }\n",
       "            }, 500);\n",
       "            "
      ],
      "text/plain": [
       "<IPython.core.display.Javascript object>"
      ]
     },
     "metadata": {},
     "output_type": "display_data"
    }
   ],
   "source": [
    "# change field 38 to 3 group\n",
    "\n",
    "condtion = [\n",
    "    data.FIELD_38 == 0,\n",
    "    (data.FIELD_38 > 0) & (data.FIELD_38 < 4),\n",
    "    data.FIELD_38 >= 4,\n",
    "]\n",
    "choice = [0, 1, 2]\n",
    "data[\"FIELD_38_C\"] = np.select(condtion, choice, default=np.nan)"
   ]
  },
  {
   "cell_type": "code",
   "execution_count": 4,
   "metadata": {},
   "outputs": [
    {
     "data": {
      "application/javascript": [
       "\n",
       "            setTimeout(function() {\n",
       "                var nbb_cell_id = 4;\n",
       "                var nbb_formatted_code = \"# #change physical excercise fields to one group\\n# # FIELD_40\\t6-1 of physical activity (high strength) class=2\\n# # FIELD_41\\t6-2 of physical activity (moderate) class=2\\n# # FIELD_42\\t6-3 of physical activity (walking) class=2\\n# # No Physical acitvity class=0\\n\\n# phActivity=[]\\n# for i in range(data.shape[0]):\\n#     if( not(np.isnan(data.FIELD_40[i])) or not(np.isnan(data.FIELD_40[i])) or not(np.isnan(data.FIELD_40[i])) ):\\n#         if()\";\n",
       "                var nbb_cells = Jupyter.notebook.get_cells();\n",
       "                for (var i = 0; i < nbb_cells.length; ++i) {\n",
       "                    if (nbb_cells[i].input_prompt_number == nbb_cell_id) {\n",
       "                        nbb_cells[i].set_text(nbb_formatted_code);\n",
       "                        break;\n",
       "                    }\n",
       "                }\n",
       "            }, 500);\n",
       "            "
      ],
      "text/plain": [
       "<IPython.core.display.Javascript object>"
      ]
     },
     "metadata": {},
     "output_type": "display_data"
    }
   ],
   "source": [
    "# #change physical excercise fields to one group\n",
    "# # FIELD_40\t6-1 of physical activity (high strength) class=2\n",
    "# # FIELD_41\t6-2 of physical activity (moderate) class=2\n",
    "# # FIELD_42\t6-3 of physical activity (walking) class=2\n",
    "# # No Physical acitvity class=0\n",
    "\n",
    "# phActivity=[]\n",
    "# for i in range(data.shape[0]):\n",
    "#     if( not(np.isnan(data.FIELD_40[i])) or not(np.isnan(data.FIELD_40[i])) or not(np.isnan(data.FIELD_40[i])) ):\n",
    "#         if()"
   ]
  },
  {
   "cell_type": "code",
   "execution_count": 5,
   "metadata": {},
   "outputs": [
    {
     "name": "stdout",
     "output_type": "stream",
     "text": [
      "(535169, 405)\n"
     ]
    },
    {
     "data": {
      "application/javascript": [
       "\n",
       "            setTimeout(function() {\n",
       "                var nbb_cell_id = 5;\n",
       "                var nbb_formatted_code = \"data[\\\"max\\\"] = np.min(\\n    data[[\\\"FIELD_6\\\", \\\"FIELD_7\\\"]], axis=1\\n)  # combine FIELD_6 and FIELD_7 both represent the same thing (Women's marital status)\\ndata = data.drop(columns=[\\\"FIELD_6\\\", \\\"FIELD_7\\\", \\\"B_DAY\\\"])\\nprint(data.shape)\";\n",
       "                var nbb_cells = Jupyter.notebook.get_cells();\n",
       "                for (var i = 0; i < nbb_cells.length; ++i) {\n",
       "                    if (nbb_cells[i].input_prompt_number == nbb_cell_id) {\n",
       "                        nbb_cells[i].set_text(nbb_formatted_code);\n",
       "                        break;\n",
       "                    }\n",
       "                }\n",
       "            }, 500);\n",
       "            "
      ],
      "text/plain": [
       "<IPython.core.display.Javascript object>"
      ]
     },
     "metadata": {},
     "output_type": "display_data"
    }
   ],
   "source": [
    "data[\"max\"] = np.min(\n",
    "    data[[\"FIELD_6\", \"FIELD_7\"]], axis=1\n",
    ")  # combine FIELD_6 and FIELD_7 both represent the same thing (Women's marital status)\n",
    "data = data.drop(columns=[\"FIELD_6\", \"FIELD_7\", \"B_DAY\"])\n",
    "print(data.shape)"
   ]
  },
  {
   "cell_type": "code",
   "execution_count": 6,
   "metadata": {},
   "outputs": [
    {
     "data": {
      "application/javascript": [
       "\n",
       "            setTimeout(function() {\n",
       "                var nbb_cell_id = 6;\n",
       "                var nbb_formatted_code = \"# add Class to the dataset\\n_class = []\\nfor i in range(data.shape[0]):\\n    if (data.S000501[i] >= 140) | (data.S000502[i] >= 90):\\n        _class.append(2)\\n    elif (data.S000501[i] < 120) & (data.S000502[i] < 80):\\n        _class.append(0)\\n    else:\\n        _class.append(1)\\ndata[\\\"CLASS\\\"] = _class\";\n",
       "                var nbb_cells = Jupyter.notebook.get_cells();\n",
       "                for (var i = 0; i < nbb_cells.length; ++i) {\n",
       "                    if (nbb_cells[i].input_prompt_number == nbb_cell_id) {\n",
       "                        nbb_cells[i].set_text(nbb_formatted_code);\n",
       "                        break;\n",
       "                    }\n",
       "                }\n",
       "            }, 500);\n",
       "            "
      ],
      "text/plain": [
       "<IPython.core.display.Javascript object>"
      ]
     },
     "metadata": {},
     "output_type": "display_data"
    }
   ],
   "source": [
    "# add Class to the dataset\n",
    "_class = []\n",
    "for i in range(data.shape[0]):\n",
    "    if (data.S000501[i] >= 140) | (data.S000502[i] >= 90):\n",
    "        _class.append(2)\n",
    "    elif (data.S000501[i] < 120) & (data.S000502[i] < 80):\n",
    "        _class.append(0)\n",
    "    else:\n",
    "        _class.append(1)\n",
    "data[\"CLASS\"] = _class"
   ]
  },
  {
   "cell_type": "code",
   "execution_count": 7,
   "metadata": {},
   "outputs": [
    {
     "name": "stdout",
     "output_type": "stream",
     "text": [
      "(466680, 406)\n"
     ]
    },
    {
     "data": {
      "application/javascript": [
       "\n",
       "            setTimeout(function() {\n",
       "                var nbb_cell_id = 7;\n",
       "                var nbb_formatted_code = \"# filter the data set\\ndata = data[data.FIELD_16 != 1]  # exclude people who are diagnosed for (diabetes)\\ndata = data[data.FIELD_23 != 1]  # exclude people who are on medication for diabetes\\n\\ndata = data[\\n    data.FIELD_15 != 1\\n]  # exclude people who are diagnosed for (high blood pressure)\\ndata = data[\\n    data.FIELD_22 != 1\\n]  # exclude people who are on medication for high blood pressure\\n\\ndata = data[data.FIELD_17 != 1]  # exclude people who are diagnosed for hyperlipidemia\\ndata = data[\\n    data.FIELD_24 != 1\\n]  # exclude people who are on medication for hyperlipidemia\\nprint(data.shape)\";\n",
       "                var nbb_cells = Jupyter.notebook.get_cells();\n",
       "                for (var i = 0; i < nbb_cells.length; ++i) {\n",
       "                    if (nbb_cells[i].input_prompt_number == nbb_cell_id) {\n",
       "                        nbb_cells[i].set_text(nbb_formatted_code);\n",
       "                        break;\n",
       "                    }\n",
       "                }\n",
       "            }, 500);\n",
       "            "
      ],
      "text/plain": [
       "<IPython.core.display.Javascript object>"
      ]
     },
     "metadata": {},
     "output_type": "display_data"
    }
   ],
   "source": [
    "# filter the data set\n",
    "data = data[data.FIELD_16 != 1]  # exclude people who are diagnosed for (diabetes)\n",
    "data = data[data.FIELD_23 != 1]  # exclude people who are on medication for diabetes\n",
    "\n",
    "data = data[\n",
    "    data.FIELD_15 != 1\n",
    "]  # exclude people who are diagnosed for (high blood pressure)\n",
    "data = data[\n",
    "    data.FIELD_22 != 1\n",
    "]  # exclude people who are on medication for high blood pressure\n",
    "\n",
    "data = data[data.FIELD_17 != 1]  # exclude people who are diagnosed for hyperlipidemia\n",
    "data = data[\n",
    "    data.FIELD_24 != 1\n",
    "]  # exclude people who are on medication for hyperlipidemia\n",
    "print(data.shape)"
   ]
  },
  {
   "cell_type": "code",
   "execution_count": 8,
   "metadata": {},
   "outputs": [
    {
     "data": {
      "application/javascript": [
       "\n",
       "            setTimeout(function() {\n",
       "                var nbb_cell_id = 8;\n",
       "                var nbb_formatted_code = \"# rename columns\\ndata.rename(\\n    columns={\\n        \\\"L104600\\\": \\\"HBA1C\\\",\\n        \\\"L103000\\\": \\\"Triglycerides\\\",\\n        \\\"L100800\\\": \\\"fasting glucose\\\",\\n        \\\"S000300\\\": \\\"BMI\\\",\\n        \\\"S000501\\\": \\\"SBP\\\",\\n        \\\"S000502\\\": \\\"DBP\\\",\\n        \\\"L101700\\\": \\\"r-GTP gamma\\\",\\n        \\\"L103300\\\": \\\"Cardiac risk factor\\\",\\n        \\\"L190400\\\": \\\"Hemoglobin\\\",\\n        \\\"L190500\\\": \\\"HCT\\\",\\n        \\\"L100700\\\": \\\"Uric Acid\\\",\\n        \\\"L101300\\\": \\\"SGPT\\\",\\n        \\\"L190300\\\": \\\"RBC\\\",\\n        \\\"L102900\\\": \\\"total cholesterol\\\",\\n        \\\"L103100\\\": \\\"HDL-Cholesterol\\\",\\n    },\\n    inplace=True,\\n)\";\n",
       "                var nbb_cells = Jupyter.notebook.get_cells();\n",
       "                for (var i = 0; i < nbb_cells.length; ++i) {\n",
       "                    if (nbb_cells[i].input_prompt_number == nbb_cell_id) {\n",
       "                        nbb_cells[i].set_text(nbb_formatted_code);\n",
       "                        break;\n",
       "                    }\n",
       "                }\n",
       "            }, 500);\n",
       "            "
      ],
      "text/plain": [
       "<IPython.core.display.Javascript object>"
      ]
     },
     "metadata": {},
     "output_type": "display_data"
    }
   ],
   "source": [
    "# rename columns\n",
    "data.rename(\n",
    "    columns={\n",
    "        \"L104600\": \"HBA1C\",\n",
    "        \"L103000\": \"Triglycerides\",\n",
    "        \"L100800\": \"fasting glucose\",\n",
    "        \"S000300\": \"BMI\",\n",
    "        \"S000501\": \"SBP\",\n",
    "        \"S000502\": \"DBP\",\n",
    "        \"L101700\": \"r-GTP gamma\",\n",
    "        \"L103300\": \"Cardiac risk factor\",\n",
    "        \"L190400\": \"Hemoglobin\",\n",
    "        \"L190500\": \"HCT\",\n",
    "        \"L100700\": \"Uric Acid\",\n",
    "        \"L101300\": \"SGPT\",\n",
    "        \"L190300\": \"RBC\",\n",
    "        \"L102900\": \"total cholesterol\",\n",
    "        \"L103100\": \"HDL-Cholesterol\",\n",
    "    },\n",
    "    inplace=True,\n",
    ")"
   ]
  },
  {
   "cell_type": "code",
   "execution_count": 9,
   "metadata": {},
   "outputs": [
    {
     "data": {
      "application/javascript": [
       "\n",
       "            setTimeout(function() {\n",
       "                var nbb_cell_id = 9;\n",
       "                var nbb_formatted_code = \"# split column types to categorical and numerical\\nnumerical_cols = list(data.columns[~data.columns.str.startswith(\\\"FIELD\\\")])\\ncategorical_cols = list(data.columns[data.columns.str.startswith(\\\"FIELD\\\")])\\ncategorical_cols.append(\\\"CLASS\\\")\";\n",
       "                var nbb_cells = Jupyter.notebook.get_cells();\n",
       "                for (var i = 0; i < nbb_cells.length; ++i) {\n",
       "                    if (nbb_cells[i].input_prompt_number == nbb_cell_id) {\n",
       "                        nbb_cells[i].set_text(nbb_formatted_code);\n",
       "                        break;\n",
       "                    }\n",
       "                }\n",
       "            }, 500);\n",
       "            "
      ],
      "text/plain": [
       "<IPython.core.display.Javascript object>"
      ]
     },
     "metadata": {},
     "output_type": "display_data"
    }
   ],
   "source": [
    "# split column types to categorical and numerical\n",
    "numerical_cols = list(data.columns[~data.columns.str.startswith(\"FIELD\")])\n",
    "categorical_cols = list(data.columns[data.columns.str.startswith(\"FIELD\")])\n",
    "categorical_cols.append(\"CLASS\")"
   ]
  },
  {
   "cell_type": "markdown",
   "metadata": {},
   "source": [
    "2 Feature Selection\n",
    "==========="
   ]
  },
  {
   "cell_type": "markdown",
   "metadata": {},
   "source": [
    "2.1 Calculate correlation Value - for numerical values\n",
    "========"
   ]
  },
  {
   "cell_type": "markdown",
   "metadata": {},
   "source": [
    "2.1.1 Pearson Correlation\n",
    "======"
   ]
  },
  {
   "cell_type": "code",
   "execution_count": 10,
   "metadata": {},
   "outputs": [
    {
     "data": {
      "text/html": [
       "<div>\n",
       "<style scoped>\n",
       "    .dataframe tbody tr th:only-of-type {\n",
       "        vertical-align: middle;\n",
       "    }\n",
       "\n",
       "    .dataframe tbody tr th {\n",
       "        vertical-align: top;\n",
       "    }\n",
       "\n",
       "    .dataframe thead th {\n",
       "        text-align: right;\n",
       "    }\n",
       "</style>\n",
       "<table border=\"1\" class=\"dataframe\">\n",
       "  <thead>\n",
       "    <tr style=\"text-align: right;\">\n",
       "      <th></th>\n",
       "      <th>Col</th>\n",
       "      <th>val</th>\n",
       "    </tr>\n",
       "  </thead>\n",
       "  <tbody>\n",
       "    <tr>\n",
       "      <th>276</th>\n",
       "      <td>CLASS</td>\n",
       "      <td>1.000000</td>\n",
       "    </tr>\n",
       "    <tr>\n",
       "      <th>59</th>\n",
       "      <td>L117700</td>\n",
       "      <td>1.000000</td>\n",
       "    </tr>\n",
       "    <tr>\n",
       "      <th>70</th>\n",
       "      <td>L132900</td>\n",
       "      <td>1.000000</td>\n",
       "    </tr>\n",
       "    <tr>\n",
       "      <th>159</th>\n",
       "      <td>L503200</td>\n",
       "      <td>1.000000</td>\n",
       "    </tr>\n",
       "    <tr>\n",
       "      <th>213</th>\n",
       "      <td>SBP</td>\n",
       "      <td>0.827811</td>\n",
       "    </tr>\n",
       "  </tbody>\n",
       "</table>\n",
       "</div>"
      ],
      "text/plain": [
       "         Col       val\n",
       "276    CLASS  1.000000\n",
       "59   L117700  1.000000\n",
       "70   L132900  1.000000\n",
       "159  L503200  1.000000\n",
       "213      SBP  0.827811"
      ]
     },
     "execution_count": 10,
     "metadata": {},
     "output_type": "execute_result"
    },
    {
     "data": {
      "application/javascript": [
       "\n",
       "            setTimeout(function() {\n",
       "                var nbb_cell_id = 10;\n",
       "                var nbb_formatted_code = \"corr = data[numerical_cols].corr()  # compute the correlation value\\ncorr = corr.CLASS  # select the correlation values of the Class\\n\\n# convert correlation values to dataframe\\ncorrvalPD = pd.DataFrame()\\ncorrvalPD[\\\"Col\\\"] = corr.index\\ncorrvalPD[\\\"val\\\"] = abs(corr.values)\\n\\ncorrvalPD = corrvalPD.sort_values(by=\\\"val\\\", ascending=False)\\ncorrvalPD.head()\";\n",
       "                var nbb_cells = Jupyter.notebook.get_cells();\n",
       "                for (var i = 0; i < nbb_cells.length; ++i) {\n",
       "                    if (nbb_cells[i].input_prompt_number == nbb_cell_id) {\n",
       "                        nbb_cells[i].set_text(nbb_formatted_code);\n",
       "                        break;\n",
       "                    }\n",
       "                }\n",
       "            }, 500);\n",
       "            "
      ],
      "text/plain": [
       "<IPython.core.display.Javascript object>"
      ]
     },
     "metadata": {},
     "output_type": "display_data"
    }
   ],
   "source": [
    "corr = data[numerical_cols].corr()  # compute the correlation value\n",
    "corr = corr.CLASS  # select the correlation values of the Class\n",
    "\n",
    "# convert correlation values to dataframe\n",
    "corrvalPD = pd.DataFrame()\n",
    "corrvalPD[\"Col\"] = corr.index\n",
    "corrvalPD[\"val\"] = abs(corr.values)\n",
    "\n",
    "corrvalPD = corrvalPD.sort_values(by=\"val\", ascending=False)\n",
    "corrvalPD.head()"
   ]
  },
  {
   "cell_type": "code",
   "execution_count": 11,
   "metadata": {},
   "outputs": [
    {
     "data": {
      "text/html": [
       "<div>\n",
       "<style scoped>\n",
       "    .dataframe tbody tr th:only-of-type {\n",
       "        vertical-align: middle;\n",
       "    }\n",
       "\n",
       "    .dataframe tbody tr th {\n",
       "        vertical-align: top;\n",
       "    }\n",
       "\n",
       "    .dataframe thead th {\n",
       "        text-align: right;\n",
       "    }\n",
       "</style>\n",
       "<table border=\"1\" class=\"dataframe\">\n",
       "  <thead>\n",
       "    <tr style=\"text-align: right;\">\n",
       "      <th></th>\n",
       "      <th>Col</th>\n",
       "      <th>Count</th>\n",
       "    </tr>\n",
       "  </thead>\n",
       "  <tbody>\n",
       "    <tr>\n",
       "      <th>0</th>\n",
       "      <td>Unnamed: 0</td>\n",
       "      <td>466680</td>\n",
       "    </tr>\n",
       "    <tr>\n",
       "      <th>1</th>\n",
       "      <td>COMPARE</td>\n",
       "      <td>466680</td>\n",
       "    </tr>\n",
       "    <tr>\n",
       "      <th>2</th>\n",
       "      <td>AGE</td>\n",
       "      <td>466679</td>\n",
       "    </tr>\n",
       "    <tr>\n",
       "      <th>3</th>\n",
       "      <td>SEX</td>\n",
       "      <td>466679</td>\n",
       "    </tr>\n",
       "    <tr>\n",
       "      <th>4</th>\n",
       "      <td>L100100</td>\n",
       "      <td>446887</td>\n",
       "    </tr>\n",
       "  </tbody>\n",
       "</table>\n",
       "</div>"
      ],
      "text/plain": [
       "          Col   Count\n",
       "0  Unnamed: 0  466680\n",
       "1     COMPARE  466680\n",
       "2         AGE  466679\n",
       "3         SEX  466679\n",
       "4     L100100  446887"
      ]
     },
     "execution_count": 11,
     "metadata": {},
     "output_type": "execute_result"
    },
    {
     "data": {
      "application/javascript": [
       "\n",
       "            setTimeout(function() {\n",
       "                var nbb_cell_id = 11;\n",
       "                var nbb_formatted_code = \"# get count of none NA values of each feature set\\nmydataset = data.copy()[numerical_cols]\\ncolCount = []\\nfor i in mydataset.columns:\\n    colCount.append([i, mydataset[i].dropna().shape[0]])\\n\\ncolCountPD = pd.DataFrame(colCount, columns=[\\\"Col\\\", \\\"Count\\\"])\\ncolCountPD.head()\";\n",
       "                var nbb_cells = Jupyter.notebook.get_cells();\n",
       "                for (var i = 0; i < nbb_cells.length; ++i) {\n",
       "                    if (nbb_cells[i].input_prompt_number == nbb_cell_id) {\n",
       "                        nbb_cells[i].set_text(nbb_formatted_code);\n",
       "                        break;\n",
       "                    }\n",
       "                }\n",
       "            }, 500);\n",
       "            "
      ],
      "text/plain": [
       "<IPython.core.display.Javascript object>"
      ]
     },
     "metadata": {},
     "output_type": "display_data"
    }
   ],
   "source": [
    "# get count of none NA values of each feature set\n",
    "mydataset = data.copy()[numerical_cols]\n",
    "colCount = []\n",
    "for i in mydataset.columns:\n",
    "    colCount.append([i, mydataset[i].dropna().shape[0]])\n",
    "\n",
    "colCountPD = pd.DataFrame(colCount, columns=[\"Col\", \"Count\"])\n",
    "colCountPD.head()"
   ]
  },
  {
   "cell_type": "code",
   "execution_count": 12,
   "metadata": {},
   "outputs": [
    {
     "data": {
      "text/html": [
       "<div>\n",
       "<style scoped>\n",
       "    .dataframe tbody tr th:only-of-type {\n",
       "        vertical-align: middle;\n",
       "    }\n",
       "\n",
       "    .dataframe tbody tr th {\n",
       "        vertical-align: top;\n",
       "    }\n",
       "\n",
       "    .dataframe thead th {\n",
       "        text-align: right;\n",
       "    }\n",
       "</style>\n",
       "<table border=\"1\" class=\"dataframe\">\n",
       "  <thead>\n",
       "    <tr style=\"text-align: right;\">\n",
       "      <th></th>\n",
       "      <th>Col</th>\n",
       "      <th>val</th>\n",
       "      <th>Count</th>\n",
       "    </tr>\n",
       "  </thead>\n",
       "  <tbody>\n",
       "    <tr>\n",
       "      <th>0</th>\n",
       "      <td>CLASS</td>\n",
       "      <td>1.000000</td>\n",
       "      <td>466680</td>\n",
       "    </tr>\n",
       "    <tr>\n",
       "      <th>4</th>\n",
       "      <td>SBP</td>\n",
       "      <td>0.827811</td>\n",
       "      <td>466410</td>\n",
       "    </tr>\n",
       "    <tr>\n",
       "      <th>10</th>\n",
       "      <td>DBP</td>\n",
       "      <td>0.749195</td>\n",
       "      <td>466410</td>\n",
       "    </tr>\n",
       "    <tr>\n",
       "      <th>29</th>\n",
       "      <td>BMI</td>\n",
       "      <td>0.374275</td>\n",
       "      <td>465393</td>\n",
       "    </tr>\n",
       "    <tr>\n",
       "      <th>33</th>\n",
       "      <td>Hemoglobin</td>\n",
       "      <td>0.310586</td>\n",
       "      <td>466197</td>\n",
       "    </tr>\n",
       "    <tr>\n",
       "      <th>35</th>\n",
       "      <td>RBC</td>\n",
       "      <td>0.307434</td>\n",
       "      <td>465316</td>\n",
       "    </tr>\n",
       "    <tr>\n",
       "      <th>36</th>\n",
       "      <td>SEX</td>\n",
       "      <td>0.306015</td>\n",
       "      <td>466679</td>\n",
       "    </tr>\n",
       "    <tr>\n",
       "      <th>37</th>\n",
       "      <td>HCT</td>\n",
       "      <td>0.303678</td>\n",
       "      <td>465172</td>\n",
       "    </tr>\n",
       "    <tr>\n",
       "      <th>40</th>\n",
       "      <td>Uric Acid</td>\n",
       "      <td>0.285982</td>\n",
       "      <td>447592</td>\n",
       "    </tr>\n",
       "    <tr>\n",
       "      <th>43</th>\n",
       "      <td>Cardiac risk factor</td>\n",
       "      <td>0.255095</td>\n",
       "      <td>397549</td>\n",
       "    </tr>\n",
       "  </tbody>\n",
       "</table>\n",
       "</div>"
      ],
      "text/plain": [
       "                    Col       val   Count\n",
       "0                 CLASS  1.000000  466680\n",
       "4                   SBP  0.827811  466410\n",
       "10                  DBP  0.749195  466410\n",
       "29                  BMI  0.374275  465393\n",
       "33           Hemoglobin  0.310586  466197\n",
       "35                  RBC  0.307434  465316\n",
       "36                  SEX  0.306015  466679\n",
       "37                  HCT  0.303678  465172\n",
       "40            Uric Acid  0.285982  447592\n",
       "43  Cardiac risk factor  0.255095  397549"
      ]
     },
     "execution_count": 12,
     "metadata": {},
     "output_type": "execute_result"
    },
    {
     "data": {
      "application/javascript": [
       "\n",
       "            setTimeout(function() {\n",
       "                var nbb_cell_id = 12;\n",
       "                var nbb_formatted_code = \"# merge the correlation value and the total count of the feature\\nmergedColCorrCount = pd.merge(\\n    corrvalPD, colCountPD, how=\\\"inner\\\", left_on=\\\"Col\\\", right_on=\\\"Col\\\"\\n)\\nmergedColCorrCount = mergedColCorrCount[mergedColCorrCount.Count > 50000]\\nmergedColCorrCount = mergedColCorrCount.sort_values(by=\\\"val\\\", ascending=False)\\nmergedColCorrCount.head(10)\";\n",
       "                var nbb_cells = Jupyter.notebook.get_cells();\n",
       "                for (var i = 0; i < nbb_cells.length; ++i) {\n",
       "                    if (nbb_cells[i].input_prompt_number == nbb_cell_id) {\n",
       "                        nbb_cells[i].set_text(nbb_formatted_code);\n",
       "                        break;\n",
       "                    }\n",
       "                }\n",
       "            }, 500);\n",
       "            "
      ],
      "text/plain": [
       "<IPython.core.display.Javascript object>"
      ]
     },
     "metadata": {},
     "output_type": "display_data"
    }
   ],
   "source": [
    "# merge the correlation value and the total count of the feature\n",
    "mergedColCorrCount = pd.merge(\n",
    "    corrvalPD, colCountPD, how=\"inner\", left_on=\"Col\", right_on=\"Col\"\n",
    ")\n",
    "mergedColCorrCount = mergedColCorrCount[mergedColCorrCount.Count > 50000]\n",
    "mergedColCorrCount = mergedColCorrCount.sort_values(by=\"val\", ascending=False)\n",
    "mergedColCorrCount.head(10)"
   ]
  },
  {
   "cell_type": "code",
   "execution_count": 13,
   "metadata": {},
   "outputs": [
    {
     "data": {
      "application/javascript": [
       "\n",
       "            setTimeout(function() {\n",
       "                var nbb_cell_id = 13;\n",
       "                var nbb_formatted_code = \"# rename commen field names\\ncategorical_cols[categorical_cols.index(\\\"FIELD_33\\\")] = \\\"_4_1_Smoking\\\"\\ncategorical_cols[categorical_cols.index(\\\"FIELD_38\\\")] = \\\"Drinking_5_1_days\\\"\\ncategorical_cols[\\n    categorical_cols.index(\\\"FIELD_40\\\")\\n] = \\\"_6_1_of_physical_activity_high_strength\\\"\\ncategorical_cols[categorical_cols.index(\\\"FIELD_31\\\")] = \\\"Family_history\\\"\\ncategorical_cols[\\n    categorical_cols.index(\\\"FIELD_41\\\")\\n] = \\\"_6_2_of_physical_activity_moderate\\\"\\ncategorical_cols[categorical_cols.index(\\\"FIELD_27\\\")] = \\\"_2_family_history_stroke\\\"\\ncategorical_cols[categorical_cols.index(\\\"FIELD_21\\\")] = \\\"_1_medication_heart_disease\\\"\\ncategorical_cols[categorical_cols.index(\\\"FIELD_14\\\")] = \\\"Whether_one_diagnosis_disease\\\"\\ncategorical_cols[categorical_cols.index(\\\"FIELD_32\\\")] = \\\"_3B_hepatitis\\\"\\ncategorical_cols[\\n    categorical_cols.index(\\\"FIELD_42\\\")\\n] = \\\"_6_3_of_physical_activity_walking\\\"\\ncategorical_cols[categorical_cols.index(\\\"FIELD_4\\\")] = \\\"blood_type\\\"\\ncategorical_cols[categorical_cols.index(\\\"FIELD_29\\\")] = \\\"_2_family_history_hypertension\\\"\\ncategorical_cols[categorical_cols.index(\\\"FIELD_3\\\")] = \\\"Blood_factor_RH_factor\\\"\\ncategorical_cols[categorical_cols.index(\\\"FIELD_19\\\")] = \\\"_1_drug_therapy_stroke\\\"\";\n",
       "                var nbb_cells = Jupyter.notebook.get_cells();\n",
       "                for (var i = 0; i < nbb_cells.length; ++i) {\n",
       "                    if (nbb_cells[i].input_prompt_number == nbb_cell_id) {\n",
       "                        nbb_cells[i].set_text(nbb_formatted_code);\n",
       "                        break;\n",
       "                    }\n",
       "                }\n",
       "            }, 500);\n",
       "            "
      ],
      "text/plain": [
       "<IPython.core.display.Javascript object>"
      ]
     },
     "metadata": {},
     "output_type": "display_data"
    }
   ],
   "source": [
    "# rename commen field names\n",
    "categorical_cols[categorical_cols.index(\"FIELD_33\")] = \"_4_1_Smoking\"\n",
    "categorical_cols[categorical_cols.index(\"FIELD_38\")] = \"Drinking_5_1_days\"\n",
    "categorical_cols[\n",
    "    categorical_cols.index(\"FIELD_40\")\n",
    "] = \"_6_1_of_physical_activity_high_strength\"\n",
    "categorical_cols[categorical_cols.index(\"FIELD_31\")] = \"Family_history\"\n",
    "categorical_cols[\n",
    "    categorical_cols.index(\"FIELD_41\")\n",
    "] = \"_6_2_of_physical_activity_moderate\"\n",
    "categorical_cols[categorical_cols.index(\"FIELD_27\")] = \"_2_family_history_stroke\"\n",
    "categorical_cols[categorical_cols.index(\"FIELD_21\")] = \"_1_medication_heart_disease\"\n",
    "categorical_cols[categorical_cols.index(\"FIELD_14\")] = \"Whether_one_diagnosis_disease\"\n",
    "categorical_cols[categorical_cols.index(\"FIELD_32\")] = \"_3B_hepatitis\"\n",
    "categorical_cols[\n",
    "    categorical_cols.index(\"FIELD_42\")\n",
    "] = \"_6_3_of_physical_activity_walking\"\n",
    "categorical_cols[categorical_cols.index(\"FIELD_4\")] = \"blood_type\"\n",
    "categorical_cols[categorical_cols.index(\"FIELD_29\")] = \"_2_family_history_hypertension\"\n",
    "categorical_cols[categorical_cols.index(\"FIELD_3\")] = \"Blood_factor_RH_factor\"\n",
    "categorical_cols[categorical_cols.index(\"FIELD_19\")] = \"_1_drug_therapy_stroke\""
   ]
  },
  {
   "cell_type": "markdown",
   "metadata": {},
   "source": [
    "2.1.2 Anova test\n",
    "======="
   ]
  },
  {
   "cell_type": "code",
   "execution_count": 14,
   "metadata": {},
   "outputs": [
    {
     "data": {
      "application/javascript": [
       "\n",
       "            setTimeout(function() {\n",
       "                var nbb_cell_id = 14;\n",
       "                var nbb_formatted_code = \"mydata = data.rename(\\n    columns={\\n        \\\"FIELD_33\\\": \\\"_4_1_Smoking\\\",\\n        \\\"FIELD_38\\\": \\\"Drinking_5_1_days\\\",\\n        \\\"FIELD_40\\\": \\\"_6_1_of_physical_activity_high_strength\\\",\\n        \\\"FIELD_31\\\": \\\"Family_history\\\",\\n        \\\"FIELD_41\\\": \\\"_6_2_of_physical_activity_moderate\\\",\\n        \\\"FIELD_27\\\": \\\"_2_family_history_stroke\\\",\\n        \\\"FIELD_21\\\": \\\"_1_medication_heart_disease\\\",\\n        \\\"FIELD_14\\\": \\\"Whether_one_diagnosis_disease\\\",\\n        \\\"FIELD_32\\\": \\\"_3B_hepatitis\\\",\\n        \\\"FIELD_42\\\": \\\"_6_3_of_physical_activity_walking\\\",\\n        \\\"FIELD_4\\\": \\\"blood_type\\\",\\n        \\\"FIELD_29\\\": \\\"_2_family_history_hypertension\\\",\\n        \\\"FIELD_3\\\": \\\"Blood_factor_RH_factor\\\",\\n        \\\"FIELD_19\\\": \\\"_1_drug_therapy_stroke\\\",\\n    },\\n    inplace=True,\\n)\\n\\n\\n# mydata=data[categorical_cols] # filter only categorical columns\";\n",
       "                var nbb_cells = Jupyter.notebook.get_cells();\n",
       "                for (var i = 0; i < nbb_cells.length; ++i) {\n",
       "                    if (nbb_cells[i].input_prompt_number == nbb_cell_id) {\n",
       "                        nbb_cells[i].set_text(nbb_formatted_code);\n",
       "                        break;\n",
       "                    }\n",
       "                }\n",
       "            }, 500);\n",
       "            "
      ],
      "text/plain": [
       "<IPython.core.display.Javascript object>"
      ]
     },
     "metadata": {},
     "output_type": "display_data"
    }
   ],
   "source": [
    "mydata = data.rename(\n",
    "    columns={\n",
    "        \"FIELD_33\": \"_4_1_Smoking\",\n",
    "        \"FIELD_38\": \"Drinking_5_1_days\",\n",
    "        \"FIELD_40\": \"_6_1_of_physical_activity_high_strength\",\n",
    "        \"FIELD_31\": \"Family_history\",\n",
    "        \"FIELD_41\": \"_6_2_of_physical_activity_moderate\",\n",
    "        \"FIELD_27\": \"_2_family_history_stroke\",\n",
    "        \"FIELD_21\": \"_1_medication_heart_disease\",\n",
    "        \"FIELD_14\": \"Whether_one_diagnosis_disease\",\n",
    "        \"FIELD_32\": \"_3B_hepatitis\",\n",
    "        \"FIELD_42\": \"_6_3_of_physical_activity_walking\",\n",
    "        \"FIELD_4\": \"blood_type\",\n",
    "        \"FIELD_29\": \"_2_family_history_hypertension\",\n",
    "        \"FIELD_3\": \"Blood_factor_RH_factor\",\n",
    "        \"FIELD_19\": \"_1_drug_therapy_stroke\",\n",
    "    },\n",
    "    inplace=True,\n",
    ")\n",
    "\n",
    "\n",
    "# mydata=data[categorical_cols] # filter only categorical columns"
   ]
  },
  {
   "cell_type": "code",
   "execution_count": 15,
   "metadata": {},
   "outputs": [
    {
     "data": {
      "text/html": [
       "<div>\n",
       "<style scoped>\n",
       "    .dataframe tbody tr th:only-of-type {\n",
       "        vertical-align: middle;\n",
       "    }\n",
       "\n",
       "    .dataframe tbody tr th {\n",
       "        vertical-align: top;\n",
       "    }\n",
       "\n",
       "    .dataframe thead th {\n",
       "        text-align: right;\n",
       "    }\n",
       "</style>\n",
       "<table border=\"1\" class=\"dataframe\">\n",
       "  <thead>\n",
       "    <tr style=\"text-align: right;\">\n",
       "      <th></th>\n",
       "      <th>Blood_factor_RH_factor</th>\n",
       "      <th>blood_type</th>\n",
       "      <th>FIELD_5</th>\n",
       "      <th>FIELD_9</th>\n",
       "      <th>FIELD_13</th>\n",
       "      <th>Whether_one_diagnosis_disease</th>\n",
       "      <th>FIELD_15</th>\n",
       "      <th>FIELD_16</th>\n",
       "      <th>FIELD_17</th>\n",
       "      <th>FIELD_18</th>\n",
       "      <th>...</th>\n",
       "      <th>FIELD_133</th>\n",
       "      <th>FIELD_134</th>\n",
       "      <th>FIELD_135</th>\n",
       "      <th>FIELD_136</th>\n",
       "      <th>FIELD_137</th>\n",
       "      <th>FIELD_138</th>\n",
       "      <th>FIELD_139</th>\n",
       "      <th>FIELD_140</th>\n",
       "      <th>FIELD_38_C</th>\n",
       "      <th>CLASS</th>\n",
       "    </tr>\n",
       "  </thead>\n",
       "  <tbody>\n",
       "    <tr>\n",
       "      <th>0</th>\n",
       "      <td>NaN</td>\n",
       "      <td>4</td>\n",
       "      <td>1</td>\n",
       "      <td>NaN</td>\n",
       "      <td>0.0</td>\n",
       "      <td>0.0</td>\n",
       "      <td>0.0</td>\n",
       "      <td>0.0</td>\n",
       "      <td>0.0</td>\n",
       "      <td>0.0</td>\n",
       "      <td>...</td>\n",
       "      <td>NaN</td>\n",
       "      <td>NaN</td>\n",
       "      <td>NaN</td>\n",
       "      <td>NaN</td>\n",
       "      <td>NaN</td>\n",
       "      <td>NaN</td>\n",
       "      <td>NaN</td>\n",
       "      <td>NaN</td>\n",
       "      <td>1.0</td>\n",
       "      <td>1</td>\n",
       "    </tr>\n",
       "    <tr>\n",
       "      <th>1</th>\n",
       "      <td>NaN</td>\n",
       "      <td>4</td>\n",
       "      <td>1</td>\n",
       "      <td>NaN</td>\n",
       "      <td>0.0</td>\n",
       "      <td>0.0</td>\n",
       "      <td>0.0</td>\n",
       "      <td>0.0</td>\n",
       "      <td>0.0</td>\n",
       "      <td>0.0</td>\n",
       "      <td>...</td>\n",
       "      <td>NaN</td>\n",
       "      <td>NaN</td>\n",
       "      <td>NaN</td>\n",
       "      <td>NaN</td>\n",
       "      <td>NaN</td>\n",
       "      <td>NaN</td>\n",
       "      <td>NaN</td>\n",
       "      <td>NaN</td>\n",
       "      <td>1.0</td>\n",
       "      <td>1</td>\n",
       "    </tr>\n",
       "    <tr>\n",
       "      <th>2</th>\n",
       "      <td>1</td>\n",
       "      <td>4</td>\n",
       "      <td>1</td>\n",
       "      <td>NaN</td>\n",
       "      <td>0.0</td>\n",
       "      <td>0.0</td>\n",
       "      <td>0.0</td>\n",
       "      <td>0.0</td>\n",
       "      <td>0.0</td>\n",
       "      <td>0.0</td>\n",
       "      <td>...</td>\n",
       "      <td>NaN</td>\n",
       "      <td>NaN</td>\n",
       "      <td>NaN</td>\n",
       "      <td>NaN</td>\n",
       "      <td>NaN</td>\n",
       "      <td>NaN</td>\n",
       "      <td>NaN</td>\n",
       "      <td>NaN</td>\n",
       "      <td>1.0</td>\n",
       "      <td>1</td>\n",
       "    </tr>\n",
       "    <tr>\n",
       "      <th>3</th>\n",
       "      <td>NaN</td>\n",
       "      <td>4</td>\n",
       "      <td>NaN</td>\n",
       "      <td>NaN</td>\n",
       "      <td>0.0</td>\n",
       "      <td>0.0</td>\n",
       "      <td>0.0</td>\n",
       "      <td>0.0</td>\n",
       "      <td>0.0</td>\n",
       "      <td>0.0</td>\n",
       "      <td>...</td>\n",
       "      <td>NaN</td>\n",
       "      <td>NaN</td>\n",
       "      <td>NaN</td>\n",
       "      <td>NaN</td>\n",
       "      <td>NaN</td>\n",
       "      <td>NaN</td>\n",
       "      <td>NaN</td>\n",
       "      <td>NaN</td>\n",
       "      <td>1.0</td>\n",
       "      <td>2</td>\n",
       "    </tr>\n",
       "    <tr>\n",
       "      <th>4</th>\n",
       "      <td>NaN</td>\n",
       "      <td>4</td>\n",
       "      <td>NaN</td>\n",
       "      <td>NaN</td>\n",
       "      <td>0.0</td>\n",
       "      <td>0.0</td>\n",
       "      <td>0.0</td>\n",
       "      <td>0.0</td>\n",
       "      <td>0.0</td>\n",
       "      <td>0.0</td>\n",
       "      <td>...</td>\n",
       "      <td>NaN</td>\n",
       "      <td>NaN</td>\n",
       "      <td>NaN</td>\n",
       "      <td>NaN</td>\n",
       "      <td>NaN</td>\n",
       "      <td>NaN</td>\n",
       "      <td>NaN</td>\n",
       "      <td>NaN</td>\n",
       "      <td>1.0</td>\n",
       "      <td>2</td>\n",
       "    </tr>\n",
       "  </tbody>\n",
       "</table>\n",
       "<p>5 rows × 112 columns</p>\n",
       "</div>"
      ],
      "text/plain": [
       "  Blood_factor_RH_factor blood_type FIELD_5  FIELD_9  FIELD_13  \\\n",
       "0                    NaN          4       1      NaN       0.0   \n",
       "1                    NaN          4       1      NaN       0.0   \n",
       "2                      1          4       1      NaN       0.0   \n",
       "3                    NaN          4     NaN      NaN       0.0   \n",
       "4                    NaN          4     NaN      NaN       0.0   \n",
       "\n",
       "   Whether_one_diagnosis_disease  FIELD_15  FIELD_16  FIELD_17  FIELD_18  ...  \\\n",
       "0                            0.0       0.0       0.0       0.0       0.0  ...   \n",
       "1                            0.0       0.0       0.0       0.0       0.0  ...   \n",
       "2                            0.0       0.0       0.0       0.0       0.0  ...   \n",
       "3                            0.0       0.0       0.0       0.0       0.0  ...   \n",
       "4                            0.0       0.0       0.0       0.0       0.0  ...   \n",
       "\n",
       "   FIELD_133  FIELD_134  FIELD_135  FIELD_136  FIELD_137  FIELD_138  \\\n",
       "0        NaN        NaN        NaN        NaN        NaN        NaN   \n",
       "1        NaN        NaN        NaN        NaN        NaN        NaN   \n",
       "2        NaN        NaN        NaN        NaN        NaN        NaN   \n",
       "3        NaN        NaN        NaN        NaN        NaN        NaN   \n",
       "4        NaN        NaN        NaN        NaN        NaN        NaN   \n",
       "\n",
       "   FIELD_139  FIELD_140  FIELD_38_C  CLASS  \n",
       "0        NaN        NaN         1.0      1  \n",
       "1        NaN        NaN         1.0      1  \n",
       "2        NaN        NaN         1.0      1  \n",
       "3        NaN        NaN         1.0      2  \n",
       "4        NaN        NaN         1.0      2  \n",
       "\n",
       "[5 rows x 112 columns]"
      ]
     },
     "execution_count": 15,
     "metadata": {},
     "output_type": "execute_result"
    },
    {
     "data": {
      "application/javascript": [
       "\n",
       "            setTimeout(function() {\n",
       "                var nbb_cell_id = 15;\n",
       "                var nbb_formatted_code = \"# filter only categorical columns\\nmydata = data[categorical_cols]\\n# remove columns with string values as data type\\nmydata = mydata.drop(\\n    columns=[\\n        \\\"FIELD_1\\\",\\n        \\\"FIELD_2\\\",\\n        \\\"FIELD_8\\\",\\n        \\\"FIELD_10\\\",\\n        \\\"FIELD_11\\\",\\n        \\\"FIELD_12\\\",\\n        \\\"FIELD_39\\\",\\n        \\\"FIELD_88\\\",\\n        \\\"FIELD_89\\\",\\n        \\\"FIELD_109\\\",\\n        \\\"FIELD_110\\\",\\n        \\\"FIELD_111\\\",\\n        \\\"FIELD_70\\\",\\n        \\\"FIELD_82\\\",\\n        \\\"FIELD_85\\\",\\n        \\\"FIELD_91\\\",\\n        \\\"FIELD_103\\\",\\n        \\\"FIELD_106\\\",\\n    ]\\n)\\n\\nmydata.head()\";\n",
       "                var nbb_cells = Jupyter.notebook.get_cells();\n",
       "                for (var i = 0; i < nbb_cells.length; ++i) {\n",
       "                    if (nbb_cells[i].input_prompt_number == nbb_cell_id) {\n",
       "                        nbb_cells[i].set_text(nbb_formatted_code);\n",
       "                        break;\n",
       "                    }\n",
       "                }\n",
       "            }, 500);\n",
       "            "
      ],
      "text/plain": [
       "<IPython.core.display.Javascript object>"
      ]
     },
     "metadata": {},
     "output_type": "display_data"
    }
   ],
   "source": [
    "# filter only categorical columns\n",
    "mydata = data[categorical_cols]\n",
    "# remove columns with string values as data type\n",
    "mydata = mydata.drop(\n",
    "    columns=[\n",
    "        \"FIELD_1\",\n",
    "        \"FIELD_2\",\n",
    "        \"FIELD_8\",\n",
    "        \"FIELD_10\",\n",
    "        \"FIELD_11\",\n",
    "        \"FIELD_12\",\n",
    "        \"FIELD_39\",\n",
    "        \"FIELD_88\",\n",
    "        \"FIELD_89\",\n",
    "        \"FIELD_109\",\n",
    "        \"FIELD_110\",\n",
    "        \"FIELD_111\",\n",
    "        \"FIELD_70\",\n",
    "        \"FIELD_82\",\n",
    "        \"FIELD_85\",\n",
    "        \"FIELD_91\",\n",
    "        \"FIELD_103\",\n",
    "        \"FIELD_106\",\n",
    "    ]\n",
    ")\n",
    "\n",
    "mydata.head()"
   ]
  },
  {
   "cell_type": "code",
   "execution_count": 16,
   "metadata": {},
   "outputs": [
    {
     "data": {
      "text/html": [
       "<div>\n",
       "<style scoped>\n",
       "    .dataframe tbody tr th:only-of-type {\n",
       "        vertical-align: middle;\n",
       "    }\n",
       "\n",
       "    .dataframe tbody tr th {\n",
       "        vertical-align: top;\n",
       "    }\n",
       "\n",
       "    .dataframe thead th {\n",
       "        text-align: right;\n",
       "    }\n",
       "</style>\n",
       "<table border=\"1\" class=\"dataframe\">\n",
       "  <thead>\n",
       "    <tr style=\"text-align: right;\">\n",
       "      <th></th>\n",
       "      <th>Blood_factor_RH_factor</th>\n",
       "      <th>blood_type</th>\n",
       "      <th>FIELD_5</th>\n",
       "      <th>FIELD_9</th>\n",
       "      <th>FIELD_13</th>\n",
       "      <th>Whether_one_diagnosis_disease</th>\n",
       "      <th>FIELD_15</th>\n",
       "      <th>FIELD_16</th>\n",
       "      <th>FIELD_17</th>\n",
       "      <th>FIELD_18</th>\n",
       "      <th>...</th>\n",
       "      <th>FIELD_133</th>\n",
       "      <th>FIELD_134</th>\n",
       "      <th>FIELD_135</th>\n",
       "      <th>FIELD_136</th>\n",
       "      <th>FIELD_137</th>\n",
       "      <th>FIELD_138</th>\n",
       "      <th>FIELD_139</th>\n",
       "      <th>FIELD_140</th>\n",
       "      <th>FIELD_38_C</th>\n",
       "      <th>CLASS</th>\n",
       "    </tr>\n",
       "  </thead>\n",
       "  <tbody>\n",
       "    <tr>\n",
       "      <th>0</th>\n",
       "      <td>NaN</td>\n",
       "      <td>4</td>\n",
       "      <td>1</td>\n",
       "      <td>NaN</td>\n",
       "      <td>0.0</td>\n",
       "      <td>0.0</td>\n",
       "      <td>0.0</td>\n",
       "      <td>0.0</td>\n",
       "      <td>0.0</td>\n",
       "      <td>0.0</td>\n",
       "      <td>...</td>\n",
       "      <td>NaN</td>\n",
       "      <td>NaN</td>\n",
       "      <td>NaN</td>\n",
       "      <td>NaN</td>\n",
       "      <td>NaN</td>\n",
       "      <td>NaN</td>\n",
       "      <td>NaN</td>\n",
       "      <td>NaN</td>\n",
       "      <td>1.0</td>\n",
       "      <td>1</td>\n",
       "    </tr>\n",
       "    <tr>\n",
       "      <th>1</th>\n",
       "      <td>NaN</td>\n",
       "      <td>4</td>\n",
       "      <td>1</td>\n",
       "      <td>NaN</td>\n",
       "      <td>0.0</td>\n",
       "      <td>0.0</td>\n",
       "      <td>0.0</td>\n",
       "      <td>0.0</td>\n",
       "      <td>0.0</td>\n",
       "      <td>0.0</td>\n",
       "      <td>...</td>\n",
       "      <td>NaN</td>\n",
       "      <td>NaN</td>\n",
       "      <td>NaN</td>\n",
       "      <td>NaN</td>\n",
       "      <td>NaN</td>\n",
       "      <td>NaN</td>\n",
       "      <td>NaN</td>\n",
       "      <td>NaN</td>\n",
       "      <td>1.0</td>\n",
       "      <td>1</td>\n",
       "    </tr>\n",
       "    <tr>\n",
       "      <th>2</th>\n",
       "      <td>1</td>\n",
       "      <td>4</td>\n",
       "      <td>1</td>\n",
       "      <td>NaN</td>\n",
       "      <td>0.0</td>\n",
       "      <td>0.0</td>\n",
       "      <td>0.0</td>\n",
       "      <td>0.0</td>\n",
       "      <td>0.0</td>\n",
       "      <td>0.0</td>\n",
       "      <td>...</td>\n",
       "      <td>NaN</td>\n",
       "      <td>NaN</td>\n",
       "      <td>NaN</td>\n",
       "      <td>NaN</td>\n",
       "      <td>NaN</td>\n",
       "      <td>NaN</td>\n",
       "      <td>NaN</td>\n",
       "      <td>NaN</td>\n",
       "      <td>1.0</td>\n",
       "      <td>1</td>\n",
       "    </tr>\n",
       "    <tr>\n",
       "      <th>3</th>\n",
       "      <td>NaN</td>\n",
       "      <td>4</td>\n",
       "      <td>NaN</td>\n",
       "      <td>NaN</td>\n",
       "      <td>0.0</td>\n",
       "      <td>0.0</td>\n",
       "      <td>0.0</td>\n",
       "      <td>0.0</td>\n",
       "      <td>0.0</td>\n",
       "      <td>0.0</td>\n",
       "      <td>...</td>\n",
       "      <td>NaN</td>\n",
       "      <td>NaN</td>\n",
       "      <td>NaN</td>\n",
       "      <td>NaN</td>\n",
       "      <td>NaN</td>\n",
       "      <td>NaN</td>\n",
       "      <td>NaN</td>\n",
       "      <td>NaN</td>\n",
       "      <td>1.0</td>\n",
       "      <td>2</td>\n",
       "    </tr>\n",
       "    <tr>\n",
       "      <th>4</th>\n",
       "      <td>NaN</td>\n",
       "      <td>4</td>\n",
       "      <td>NaN</td>\n",
       "      <td>NaN</td>\n",
       "      <td>0.0</td>\n",
       "      <td>0.0</td>\n",
       "      <td>0.0</td>\n",
       "      <td>0.0</td>\n",
       "      <td>0.0</td>\n",
       "      <td>0.0</td>\n",
       "      <td>...</td>\n",
       "      <td>NaN</td>\n",
       "      <td>NaN</td>\n",
       "      <td>NaN</td>\n",
       "      <td>NaN</td>\n",
       "      <td>NaN</td>\n",
       "      <td>NaN</td>\n",
       "      <td>NaN</td>\n",
       "      <td>NaN</td>\n",
       "      <td>1.0</td>\n",
       "      <td>2</td>\n",
       "    </tr>\n",
       "  </tbody>\n",
       "</table>\n",
       "<p>5 rows × 112 columns</p>\n",
       "</div>"
      ],
      "text/plain": [
       "  Blood_factor_RH_factor blood_type FIELD_5  FIELD_9  FIELD_13  \\\n",
       "0                    NaN          4       1      NaN       0.0   \n",
       "1                    NaN          4       1      NaN       0.0   \n",
       "2                      1          4       1      NaN       0.0   \n",
       "3                    NaN          4     NaN      NaN       0.0   \n",
       "4                    NaN          4     NaN      NaN       0.0   \n",
       "\n",
       "   Whether_one_diagnosis_disease  FIELD_15  FIELD_16  FIELD_17  FIELD_18  ...  \\\n",
       "0                            0.0       0.0       0.0       0.0       0.0  ...   \n",
       "1                            0.0       0.0       0.0       0.0       0.0  ...   \n",
       "2                            0.0       0.0       0.0       0.0       0.0  ...   \n",
       "3                            0.0       0.0       0.0       0.0       0.0  ...   \n",
       "4                            0.0       0.0       0.0       0.0       0.0  ...   \n",
       "\n",
       "   FIELD_133  FIELD_134  FIELD_135  FIELD_136  FIELD_137  FIELD_138  \\\n",
       "0        NaN        NaN        NaN        NaN        NaN        NaN   \n",
       "1        NaN        NaN        NaN        NaN        NaN        NaN   \n",
       "2        NaN        NaN        NaN        NaN        NaN        NaN   \n",
       "3        NaN        NaN        NaN        NaN        NaN        NaN   \n",
       "4        NaN        NaN        NaN        NaN        NaN        NaN   \n",
       "\n",
       "   FIELD_139  FIELD_140  FIELD_38_C  CLASS  \n",
       "0        NaN        NaN         1.0      1  \n",
       "1        NaN        NaN         1.0      1  \n",
       "2        NaN        NaN         1.0      1  \n",
       "3        NaN        NaN         1.0      2  \n",
       "4        NaN        NaN         1.0      2  \n",
       "\n",
       "[5 rows x 112 columns]"
      ]
     },
     "execution_count": 16,
     "metadata": {},
     "output_type": "execute_result"
    },
    {
     "data": {
      "application/javascript": [
       "\n",
       "            setTimeout(function() {\n",
       "                var nbb_cell_id = 16;\n",
       "                var nbb_formatted_code = \"# Data clean up\\nmydata = mydata.drop(\\n    mydata[[\\\"Blood_factor_RH_factor\\\"]][mydata[[\\\"Blood_factor_RH_factor\\\"]] == \\\"`\\\"]\\n    .dropna()\\n    .index\\n)\\nmydata = mydata.drop(\\n    mydata[[\\\"Blood_factor_RH_factor\\\"]][mydata[[\\\"Blood_factor_RH_factor\\\"]] == \\\"G\\\"]\\n    .dropna()\\n    .index\\n)\\n\\nmydata = mydata.drop(\\n    mydata[[\\\"blood_type\\\"]][mydata[[\\\"blood_type\\\"]] == \\\".\\\"].dropna().index\\n)\\nmydata = mydata.drop(mydata[mydata.FIELD_5 == \\\".\\\"].index)\\n\\n\\nmydata = mydata.drop(mydata[mydata.FIELD_35 == \\\"?\\\"].index)\\nmydata = mydata.drop(mydata[mydata.FIELD_35 == \\\".\\\"].index)\\nmydata = mydata.drop(mydata[mydata.FIELD_36 == \\\".\\\"].index)\\nmydata = mydata.drop(mydata[mydata.FIELD_37 == \\\"\\\\\\\\\\\"].index)\\nmydata.head()\\n\\n# mydata=mydata.drop(mydata[mydata.FIELD_39 == '7+' ].index)\\n# mydata=mydata.drop(mydata[mydata.FIELD_39 == '5~7'].index)\\n# mydata=mydata.drop(mydata[mydata.FIELD_39 == '3-4'].index)\\n\\n\\nmydata = mydata.drop(mydata[mydata.FIELD_95 == \\\".\\\"].index)\\nmydata.head()\\n\\nmydata.head()\";\n",
       "                var nbb_cells = Jupyter.notebook.get_cells();\n",
       "                for (var i = 0; i < nbb_cells.length; ++i) {\n",
       "                    if (nbb_cells[i].input_prompt_number == nbb_cell_id) {\n",
       "                        nbb_cells[i].set_text(nbb_formatted_code);\n",
       "                        break;\n",
       "                    }\n",
       "                }\n",
       "            }, 500);\n",
       "            "
      ],
      "text/plain": [
       "<IPython.core.display.Javascript object>"
      ]
     },
     "metadata": {},
     "output_type": "display_data"
    }
   ],
   "source": [
    "# Data clean up\n",
    "mydata = mydata.drop(\n",
    "    mydata[[\"Blood_factor_RH_factor\"]][mydata[[\"Blood_factor_RH_factor\"]] == \"`\"]\n",
    "    .dropna()\n",
    "    .index\n",
    ")\n",
    "mydata = mydata.drop(\n",
    "    mydata[[\"Blood_factor_RH_factor\"]][mydata[[\"Blood_factor_RH_factor\"]] == \"G\"]\n",
    "    .dropna()\n",
    "    .index\n",
    ")\n",
    "\n",
    "mydata = mydata.drop(\n",
    "    mydata[[\"blood_type\"]][mydata[[\"blood_type\"]] == \".\"].dropna().index\n",
    ")\n",
    "mydata = mydata.drop(mydata[mydata.FIELD_5 == \".\"].index)\n",
    "\n",
    "\n",
    "mydata = mydata.drop(mydata[mydata.FIELD_35 == \"?\"].index)\n",
    "mydata = mydata.drop(mydata[mydata.FIELD_35 == \".\"].index)\n",
    "mydata = mydata.drop(mydata[mydata.FIELD_36 == \".\"].index)\n",
    "mydata = mydata.drop(mydata[mydata.FIELD_37 == \"\\\\\"].index)\n",
    "mydata.head()\n",
    "\n",
    "# mydata=mydata.drop(mydata[mydata.FIELD_39 == '7+' ].index)\n",
    "# mydata=mydata.drop(mydata[mydata.FIELD_39 == '5~7'].index)\n",
    "# mydata=mydata.drop(mydata[mydata.FIELD_39 == '3-4'].index)\n",
    "\n",
    "\n",
    "mydata = mydata.drop(mydata[mydata.FIELD_95 == \".\"].index)\n",
    "mydata.head()\n",
    "\n",
    "mydata.head()"
   ]
  },
  {
   "cell_type": "markdown",
   "metadata": {},
   "source": [
    "2.2 Correlation for categorical values\n",
    "============"
   ]
  },
  {
   "cell_type": "markdown",
   "metadata": {},
   "source": [
    "2.2.1 chi2 method\n",
    "====="
   ]
  },
  {
   "cell_type": "code",
   "execution_count": 19,
   "metadata": {},
   "outputs": [
    {
     "ename": "ValueError",
     "evalue": "'FIELD_38' is not in list",
     "output_type": "error",
     "traceback": [
      "\u001b[1;31m---------------------------------------------------------------------------\u001b[0m",
      "\u001b[1;31mValueError\u001b[0m                                Traceback (most recent call last)",
      "\u001b[1;32m<ipython-input-19-8772bc518c2a>\u001b[0m in \u001b[0;36m<module>\u001b[1;34m\u001b[0m\n\u001b[0;32m      1\u001b[0m \u001b[1;31m# rename commen field names\u001b[0m\u001b[1;33m\u001b[0m\u001b[1;33m\u001b[0m\u001b[1;33m\u001b[0m\u001b[0m\n\u001b[0;32m      2\u001b[0m \u001b[1;31m# categorical_cols[categorical_cols.index(\"FIELD_33\")] = \"_4_1_Smoking\"\u001b[0m\u001b[1;33m\u001b[0m\u001b[1;33m\u001b[0m\u001b[1;33m\u001b[0m\u001b[0m\n\u001b[1;32m----> 3\u001b[1;33m \u001b[0mcategorical_cols\u001b[0m\u001b[1;33m[\u001b[0m\u001b[0mcategorical_cols\u001b[0m\u001b[1;33m.\u001b[0m\u001b[0mindex\u001b[0m\u001b[1;33m(\u001b[0m\u001b[1;34m\"FIELD_38\"\u001b[0m\u001b[1;33m)\u001b[0m\u001b[1;33m]\u001b[0m \u001b[1;33m=\u001b[0m \u001b[1;34m\"Drinking_5_1_days\"\u001b[0m\u001b[1;33m\u001b[0m\u001b[1;33m\u001b[0m\u001b[0m\n\u001b[0m\u001b[0;32m      4\u001b[0m categorical_cols[\n\u001b[0;32m      5\u001b[0m     \u001b[0mcategorical_cols\u001b[0m\u001b[1;33m.\u001b[0m\u001b[0mindex\u001b[0m\u001b[1;33m(\u001b[0m\u001b[1;34m\"FIELD_40\"\u001b[0m\u001b[1;33m)\u001b[0m\u001b[1;33m\u001b[0m\u001b[1;33m\u001b[0m\u001b[0m\n",
      "\u001b[1;31mValueError\u001b[0m: 'FIELD_38' is not in list"
     ]
    },
    {
     "data": {
      "application/javascript": [
       "\n",
       "            setTimeout(function() {\n",
       "                var nbb_cell_id = 19;\n",
       "                var nbb_formatted_code = \"# rename commen field names\\n# categorical_cols[categorical_cols.index(\\\"FIELD_33\\\")] = \\\"_4_1_Smoking\\\"\\ncategorical_cols[categorical_cols.index(\\\"FIELD_38\\\")] = \\\"Drinking_5_1_days\\\"\\ncategorical_cols[\\n    categorical_cols.index(\\\"FIELD_40\\\")\\n] = \\\"_6_1_of_physical_activity_high_strength\\\"\\ncategorical_cols[categorical_cols.index(\\\"FIELD_31\\\")] = \\\"Family_history\\\"\\ncategorical_cols[\\n    categorical_cols.index(\\\"FIELD_41\\\")\\n] = \\\"_6_2_of_physical_activity_moderate\\\"\\ncategorical_cols[categorical_cols.index(\\\"FIELD_27\\\")] = \\\"_2_family_history_stroke\\\"\\ncategorical_cols[categorical_cols.index(\\\"FIELD_21\\\")] = \\\"_1_medication_heart_disease\\\"\\ncategorical_cols[categorical_cols.index(\\\"FIELD_14\\\")] = \\\"Whether_one_diagnosis_disease\\\"\\ncategorical_cols[categorical_cols.index(\\\"FIELD_32\\\")] = \\\"_3B_hepatitis\\\"\\ncategorical_cols[\\n    categorical_cols.index(\\\"FIELD_42\\\")\\n] = \\\"_6_3_of_physical_activity_walking\\\"\\ncategorical_cols[categorical_cols.index(\\\"FIELD_4\\\")] = \\\"blood_type\\\"\\ncategorical_cols[categorical_cols.index(\\\"FIELD_29\\\")] = \\\"_2_family_history_hypertension\\\"\\ncategorical_cols[categorical_cols.index(\\\"FIELD_3\\\")] = \\\"Blood_factor_RH_factor\\\"\\ncategorical_cols[categorical_cols.index(\\\"FIELD_19\\\")] = \\\"_1_drug_therapy_stroke\\\"\";\n",
       "                var nbb_cells = Jupyter.notebook.get_cells();\n",
       "                for (var i = 0; i < nbb_cells.length; ++i) {\n",
       "                    if (nbb_cells[i].input_prompt_number == nbb_cell_id) {\n",
       "                        nbb_cells[i].set_text(nbb_formatted_code);\n",
       "                        break;\n",
       "                    }\n",
       "                }\n",
       "            }, 500);\n",
       "            "
      ],
      "text/plain": [
       "<IPython.core.display.Javascript object>"
      ]
     },
     "metadata": {},
     "output_type": "display_data"
    }
   ],
   "source": [
    "# # rename commen field names\n",
    "# categorical_cols[categorical_cols.index(\"FIELD_33\")] = \"_4_1_Smoking\"\n",
    "# categorical_cols[categorical_cols.index(\"FIELD_38\")] = \"Drinking_5_1_days\"\n",
    "# categorical_cols[\n",
    "#     categorical_cols.index(\"FIELD_40\")\n",
    "# ] = \"_6_1_of_physical_activity_high_strength\"\n",
    "# categorical_cols[categorical_cols.index(\"FIELD_31\")] = \"Family_history\"\n",
    "# categorical_cols[\n",
    "#     categorical_cols.index(\"FIELD_41\")\n",
    "# ] = \"_6_2_of_physical_activity_moderate\"\n",
    "# categorical_cols[categorical_cols.index(\"FIELD_27\")] = \"_2_family_history_stroke\"\n",
    "# categorical_cols[categorical_cols.index(\"FIELD_21\")] = \"_1_medication_heart_disease\"\n",
    "# categorical_cols[categorical_cols.index(\"FIELD_14\")] = \"Whether_one_diagnosis_disease\"\n",
    "# categorical_cols[categorical_cols.index(\"FIELD_32\")] = \"_3B_hepatitis\"\n",
    "# categorical_cols[\n",
    "#     categorical_cols.index(\"FIELD_42\")\n",
    "# ] = \"_6_3_of_physical_activity_walking\"\n",
    "# categorical_cols[categorical_cols.index(\"FIELD_4\")] = \"blood_type\"\n",
    "# categorical_cols[categorical_cols.index(\"FIELD_29\")] = \"_2_family_history_hypertension\"\n",
    "# categorical_cols[categorical_cols.index(\"FIELD_3\")] = \"Blood_factor_RH_factor\"\n",
    "# categorical_cols[categorical_cols.index(\"FIELD_19\")] = \"_1_drug_therapy_stroke\""
   ]
  },
  {
   "cell_type": "code",
   "execution_count": null,
   "metadata": {},
   "outputs": [],
   "source": [
    "mydata = data.rename(\n",
    "    columns={\n",
    "        \"FIELD_33\": \"_4_1_Smoking\",\n",
    "        \"FIELD_38\": \"Drinking_5_1_days\",\n",
    "        \"FIELD_40\": \"_6_1_of_physical_activity_high_strength\",\n",
    "        \"FIELD_31\": \"Family_history\",\n",
    "        \"FIELD_41\": \"_6_2_of_physical_activity_moderate\",\n",
    "        \"FIELD_27\": \"_2_family_history_stroke\",\n",
    "        \"FIELD_21\": \"_1_medication_heart_disease\",\n",
    "        \"FIELD_14\": \"Whether_one_diagnosis_disease\",\n",
    "        \"FIELD_32\": \"_3B_hepatitis\",\n",
    "        \"FIELD_42\": \"_6_3_of_physical_activity_walking\",\n",
    "        \"FIELD_4\": \"blood_type\",\n",
    "        \"FIELD_29\": \"_2_family_history_hypertension\",\n",
    "        \"FIELD_3\": \"Blood_factor_RH_factor\",\n",
    "        \"FIELD_19\": \"_1_drug_therapy_stroke\",\n",
    "    },\n",
    "    inplace=True,\n",
    ")\n",
    "\n",
    "\n",
    "# mydata=data[categorical_cols] # filter only categorical columns"
   ]
  },
  {
   "cell_type": "code",
   "execution_count": null,
   "metadata": {},
   "outputs": [],
   "source": [
    "# filter only categorical columns\n",
    "mydata = data[categorical_cols]\n",
    "# remove columns with string values as data type\n",
    "mydata = mydata.drop(\n",
    "    columns=[\n",
    "        \"FIELD_1\",\n",
    "        \"FIELD_2\",\n",
    "        \"FIELD_8\",\n",
    "        \"FIELD_10\",\n",
    "        \"FIELD_11\",\n",
    "        \"FIELD_12\",\n",
    "        \"FIELD_39\",\n",
    "        \"FIELD_88\",\n",
    "        \"FIELD_89\",\n",
    "        \"FIELD_109\",\n",
    "        \"FIELD_110\",\n",
    "        \"FIELD_111\",\n",
    "        \"FIELD_70\",\n",
    "        \"FIELD_82\",\n",
    "        \"FIELD_85\",\n",
    "        \"FIELD_91\",\n",
    "        \"FIELD_103\",\n",
    "        \"FIELD_106\",\n",
    "    ]\n",
    ")\n",
    "\n",
    "mydata.head()"
   ]
  },
  {
   "cell_type": "code",
   "execution_count": null,
   "metadata": {},
   "outputs": [],
   "source": [
    "# Data clean up\n",
    "# mydata = mydata.drop(\n",
    "#     mydata[[\"Blood_factor_RH_factor\"]][mydata[[\"Blood_factor_RH_factor\"]] == \"`\"]\n",
    "#     .dropna()\n",
    "#     .index\n",
    "# )\n",
    "# mydata = mydata.drop(\n",
    "#     mydata[[\"Blood_factor_RH_factor\"]][mydata[[\"Blood_factor_RH_factor\"]] == \"G\"]\n",
    "#     .dropna()\n",
    "#     .index\n",
    "# )\n",
    "\n",
    "mydata = mydata.drop(\n",
    "    mydata[[\"blood_type\"]][mydata[[\"blood_type\"]] == \".\"].dropna().index\n",
    ")\n",
    "# mydata = mydata.drop(mydata[mydata.FIELD_5 == \".\"].index)\n",
    "\n",
    "\n",
    "# mydata = mydata.drop(mydata[mydata.FIELD_35 == \"?\"].index)\n",
    "# mydata = mydata.drop(mydata[mydata.FIELD_35 == \".\"].index)\n",
    "# mydata = mydata.drop(mydata[mydata.FIELD_36 == \".\"].index)\n",
    "# mydata = mydata.drop(mydata[mydata.FIELD_37 == \"\\\\\"].index)\n",
    "mydata.head()\n",
    "\n",
    "# mydata=mydata.drop(mydata[mydata.FIELD_39 == '7+' ].index)\n",
    "# mydata=mydata.drop(mydata[mydata.FIELD_39 == '5~7'].index)\n",
    "# mydata=mydata.drop(mydata[mydata.FIELD_39 == '3-4'].index)\n",
    "\n",
    "\n",
    "# mydata = mydata.drop(mydata[mydata.FIELD_95 == \".\"].index)\n",
    "mydata.head()\n",
    "\n",
    "mydata.head()"
   ]
  },
  {
   "cell_type": "code",
   "execution_count": null,
   "metadata": {},
   "outputs": [],
   "source": [
    "train.shape"
   ]
  },
  {
   "cell_type": "code",
   "execution_count": null,
   "metadata": {
    "scrolled": true
   },
   "outputs": [],
   "source": [
    "# # generate synthetic dataset to overcome class imbalance\n",
    "# from collections import Counter\n",
    "# from numpy.random import RandomState\n",
    "# from sklearn.datasets import make_classification\n",
    "# from imblearn.over_sampling import SMOTENC\n",
    "\n",
    "# sm = SMOTENC(random_state=42, categorical_features=[5, 6, 7, 8])\n",
    "# X_res, y_res = sm.fit_resample(train.iloc[:, :-1], train.iloc[:, -1])\n",
    "# print(\"Resampled dataset samples per class {}\".format(Counter(y_res)))\n",
    "\n",
    "# train = pd.DataFrame(X_res, columns=list(train.columns[:-1]))\n",
    "# train[\"CLASS\"] = y_res"
   ]
  },
  {
   "cell_type": "code",
   "execution_count": null,
   "metadata": {},
   "outputs": [],
   "source": [
    "from sklearn.ensemble import RandomForestClassifier\n",
    "\n",
    "rf = RandomForestClassifier(random_state=randomseed, n_estimators=100, max_depth=10)\n",
    "rf.fit(train.iloc[:, :-1], train.iloc[:, -1])"
   ]
  },
  {
   "cell_type": "markdown",
   "metadata": {},
   "source": [
    "3 Refine the selected numerical and categorical features\n",
    "===="
   ]
  },
  {
   "cell_type": "code",
   "execution_count": null,
   "metadata": {},
   "outputs": [],
   "source": [
    "from sklearn.metrics import confusion_matrix\n",
    "\n",
    "confusion_matrix(test.iloc[:, -1], ypred)"
   ]
  },
  {
   "cell_type": "code",
   "execution_count": null,
   "metadata": {},
   "outputs": [],
   "source": [
    "print(\n",
    "    \"Accuracy on training set: {:.3f}\".format(\n",
    "        rf.score(train.iloc[:, :-1], train.iloc[:, -1])\n",
    "    )\n",
    ")\n",
    "print(\n",
    "    \"Accuracy on test set: {:.3f}\".format(rf.score(test.iloc[:, :-1], test.iloc[:, -1]))\n",
    ")\n",
    "ypred = rf.predict(test.iloc[:, :-1])\n",
    "\n",
    "confmatrx = pd.DataFrame(confusion_matrix(test.iloc[:, -1], ypred))\n",
    "confmatrx.head()"
   ]
  },
  {
   "cell_type": "code",
   "execution_count": null,
   "metadata": {},
   "outputs": [],
   "source": [
    "from sklearn.metrics import classification_report\n",
    "\n",
    "print(classification_report(test.iloc[:, -1], ypred))"
   ]
  },
  {
   "cell_type": "markdown",
   "metadata": {},
   "source": [
    "3.1 ExtraTreesClassifier feature_importances method\n",
    "========================"
   ]
  },
  {
   "cell_type": "code",
   "execution_count": null,
   "metadata": {},
   "outputs": [],
   "source": [
    "randomseed = 7\n",
    "mydata = data[finalFeatures].copy().dropna()\n",
    "print(mydata.shape)\n",
    "mydata.head()"
   ]
  },
  {
   "cell_type": "markdown",
   "metadata": {},
   "source": [
    "3.2 SelectKBest method\n",
    "========="
   ]
  },
  {
   "cell_type": "code",
   "execution_count": null,
   "metadata": {},
   "outputs": [],
   "source": [
    "mydata.blood_type = mydata.blood_type.astype(int)"
   ]
  },
  {
   "cell_type": "markdown",
   "metadata": {},
   "source": [
    "3.3 variance inflation factor \n",
    "============="
   ]
  },
  {
   "cell_type": "code",
   "execution_count": null,
   "metadata": {},
   "outputs": [],
   "source": [
    "from sklearn.metrics import confusion_matrix\n",
    "\n",
    "confusion_matrix(test.iloc[:, -1], ypred)"
   ]
  },
  {
   "cell_type": "code",
   "execution_count": null,
   "metadata": {},
   "outputs": [],
   "source": [
    "from sklearn.metrics import classification_report\n",
    "\n",
    "print(classification_report(test.iloc[:, -1], ypred))"
   ]
  },
  {
   "cell_type": "markdown",
   "metadata": {},
   "source": [
    "3.4 Final Selected Features\n",
    "======"
   ]
  },
  {
   "cell_type": "code",
   "execution_count": null,
   "metadata": {},
   "outputs": [],
   "source": [
    "# based on the out put of section of 3.2 and 3.3 the following features are selected\n",
    "\n",
    "# finalFeatures=['L104600', 'L103000', 'S000300', 'S000501', 'S000502', 'L101700', 'SEX', 'AGE',\n",
    "#  'L100700', 'L101300', 'FIELD_33', 'FIELD_38', 'FIELD_40', 'FIELD_31']\n",
    "finalFeatures = [\n",
    "    \"BMI\",\n",
    "    \"SEX\",\n",
    "    \"Hemoglobin\",\n",
    "    \"RBC\",\n",
    "    \"HCT\",\n",
    "    \"Uric Acid\",\n",
    "    \"Triglycerides\",\n",
    "    \"fasting glucose\",\n",
    "    \"Cardiac risk factor\",\n",
    "    \"L100500\",\n",
    "    \"r-GTP gamma\",\n",
    "    \"S000100\",\n",
    "    \"SGPT\",\n",
    "    \"L101600\",\n",
    "    \"HDL-Cholesterol\",\n",
    "    \"_4_1_Smoking\",\n",
    "    \"Drinking_5_1_days\",\n",
    "    \"FIELD_38_C\",\n",
    "    \"_6_1_of_physical_activity_high_strength\",\n",
    "    \"_6_2_of_physical_activity_moderate\",\n",
    "    \"_2_family_history_hypertension\",\n",
    "    \"_2_family_history_stroke\",\n",
    "    \"_6_3_of_physical_activity_walking\",\n",
    "    \"_3B_hepatitis\",\n",
    "    \"FIELD_28\",\n",
    "    \"Whether_one_diagnosis_disease\",\n",
    "    \"FIELD_13\",\n",
    "    \"_1_medication_heart_disease\",\n",
    "    \"CLASS\",\n",
    "]\n",
    "\n",
    "\n",
    "# 'S000501', 'S000502', 'L101300' are excluded from the features value after considering the impact on the classifier model\n",
    "# finalFeatures=['L104600', 'L103000', 'S000300', 'L101700', 'SEX', 'AGE',\n",
    "#  'L100700', 'FIELD_33', 'FIELD_38', 'FIELD_40', 'FIELD_31','CLASS']\n",
    "\n",
    "\n",
    "# finalFeatures=['HBA1C', 'Triglycerides', 'BMI',  'r-GTP gamma', 'SEX', 'AGE', 'Uric Acid',\n",
    "#                '_4_1_Smoking', 'Drinking_5_1_days', '_6_1_of_physical_activity_high_strength', 'Family_history','CLASS']"
   ]
  },
  {
   "cell_type": "markdown",
   "metadata": {},
   "source": [
    "Classifier Model Test Based on the features \n",
    "========"
   ]
  },
  {
   "cell_type": "code",
   "execution_count": null,
   "metadata": {},
   "outputs": [],
   "source": [
    "randomseed = 7\n",
    "mydata = data[finalFeatures].copy().dropna()\n",
    "print(mydata.shape)\n",
    "mydata.head()\n",
    "\n",
    "# mydata = mydata.drop(\n",
    "#     mydata[[\"blood_type\"]][mydata[[\"blood_type\"]] == \".\"].dropna().index\n",
    "# )\n",
    "# mydata.blood_type = mydata.blood_type.astype(int)"
   ]
  },
  {
   "cell_type": "code",
   "execution_count": null,
   "metadata": {},
   "outputs": [],
   "source": [
    "# mydata.blood_type = mydata.blood_type.astype(int)"
   ]
  },
  {
   "cell_type": "code",
   "execution_count": null,
   "metadata": {},
   "outputs": [],
   "source": [
    "class2 = mydata[mydata.CLASS == 2]\n",
    "class1 = mydata[mydata.CLASS == 1]\n",
    "class0 = mydata[mydata.CLASS == 0]\n",
    "\n",
    "print(class2.shape[0], class1.shape[0], class0.shape[0])"
   ]
  },
  {
   "cell_type": "code",
   "execution_count": null,
   "metadata": {},
   "outputs": [],
   "source": [
    "class2_test = class2.sample(1000, random_state=randomseed)\n",
    "class1_test = class1.sample(1000, random_state=randomseed)\n",
    "class0_test = class0.sample(1000, random_state=randomseed)\n",
    "test = pd.concat([class2_test, class1_test, class0_test])\n",
    "\n",
    "class2_train = class2.drop(class2_test.index)\n",
    "\n",
    "class1_train = class1.drop(\n",
    "    class1_test.index\n",
    ")  # .sample(    class2_train.shape[0], random_state=randomseed)\n",
    "\n",
    "class0_train = class0.drop(\n",
    "    class0_test.index\n",
    ")  # .sample(    class2_train.shape[0], random_state=randomseed)\n",
    "train = pd.concat([class2_train, class1_train, class0_train])"
   ]
  },
  {
   "cell_type": "code",
   "execution_count": null,
   "metadata": {},
   "outputs": [],
   "source": [
    "test.groupby(by=\"CLASS\").size()"
   ]
  },
  {
   "cell_type": "code",
   "execution_count": null,
   "metadata": {},
   "outputs": [],
   "source": [
    "# # generate synthetic dataset to overcome class imbalance\n",
    "# from collections import Counter\n",
    "# from numpy.random import RandomState\n",
    "# from sklearn.datasets import make_classification\n",
    "# from imblearn.over_sampling import SMOTENC\n",
    "\n",
    "# sm = SMOTENC(random_state=42, categorical_features=[5, 6, 7, 8])\n",
    "# X_res, y_res = sm.fit_resample(train.iloc[:, :-1], train.iloc[:, -1])\n",
    "# print(\"Resampled dataset samples per class {}\".format(Counter(y_res)))\n",
    "\n",
    "# train = pd.DataFrame(X_res, columns=list(train.columns[:-1]))\n",
    "# train[\"CLASS\"] = y_res"
   ]
  },
  {
   "cell_type": "code",
   "execution_count": null,
   "metadata": {},
   "outputs": [],
   "source": [
    "from sklearn.ensemble import RandomForestClassifier\n",
    "\n",
    "rf = RandomForestClassifier(random_state=randomseed, n_estimators=100, max_depth=10)\n",
    "rf.fit(train.iloc[:, :-1], train.iloc[:, -1])"
   ]
  },
  {
   "cell_type": "code",
   "execution_count": null,
   "metadata": {},
   "outputs": [],
   "source": [
    "ypred = rf.predict(test.iloc[:, :-1])\n",
    "\n",
    "score = rf.score(test.iloc[:, :-1], test.iloc[:, -1])\n",
    "print(score)\n",
    "\n",
    "feat_importances = pd.Series(rf.feature_importances_, index=test.iloc[:, :-1].columns)\n",
    "feat_importances.nlargest(16).plot(kind=\"barh\")\n",
    "plt.show()\n",
    "\n",
    "print(feat_importances.nlargest(16).index)\n",
    "\n",
    "print(np.sum(feat_importances.nlargest(16)))"
   ]
  },
  {
   "cell_type": "code",
   "execution_count": null,
   "metadata": {},
   "outputs": [],
   "source": [
    "from sklearn.metrics import confusion_matrix\n",
    "\n",
    "confusion_matrix(test.iloc[:, -1], ypred)"
   ]
  },
  {
   "cell_type": "code",
   "execution_count": null,
   "metadata": {},
   "outputs": [],
   "source": [
    "print(\n",
    "    \"Accuracy on training set: {:.3f}\".format(\n",
    "        rf.score(train.iloc[:, :-1], train.iloc[:, -1])\n",
    "    )\n",
    ")\n",
    "print(\n",
    "    \"Accuracy on test set: {:.3f}\".format(rf.score(test.iloc[:, :-1], test.iloc[:, -1]))\n",
    ")\n",
    "ypred = rf.predict(test.iloc[:, :-1])\n",
    "\n",
    "confmatrx = pd.DataFrame(confusion_matrix(test.iloc[:, -1], ypred))\n",
    "confmatrx.head()"
   ]
  },
  {
   "cell_type": "code",
   "execution_count": null,
   "metadata": {},
   "outputs": [],
   "source": [
    "from sklearn.metrics import classification_report\n",
    "\n",
    "print(classification_report(test.iloc[:, -1], ypred))"
   ]
  },
  {
   "cell_type": "code",
   "execution_count": null,
   "metadata": {},
   "outputs": [],
   "source": [
    "train.columns"
   ]
  },
  {
   "cell_type": "code",
   "execution_count": null,
   "metadata": {},
   "outputs": [],
   "source": [
    "import xgboost as xgb\n",
    "from sklearn import metrics as m\n",
    "\n",
    "# multi:softprob\n",
    "xgb_model = xgb.XGBClassifier(objective=\"multi:softmax\", random_state=randomseed)\n",
    "\n",
    "xgb_model.fit(train.iloc[:, :-1], train.iloc[:, -1])\n",
    "\n",
    "y_pred = xgb_model.predict((test.iloc[:, :-1]))\n",
    "\n",
    "print(\"accuracy \\t\", m.accuracy_score(test.iloc[:, -1], y_pred))\n",
    "confmatrx = pd.DataFrame(confusion_matrix(test.iloc[:, -1], y_pred))\n",
    "confmatrx.head()"
   ]
  },
  {
   "cell_type": "code",
   "execution_count": null,
   "metadata": {},
   "outputs": [],
   "source": [
    "print(classification_report(test.iloc[:, -1], y_pred))"
   ]
  },
  {
   "cell_type": "markdown",
   "metadata": {},
   "source": [
    "===============================\n",
    "=========="
   ]
  },
  {
   "cell_type": "code",
   "execution_count": null,
   "metadata": {},
   "outputs": [],
   "source": []
  },
  {
   "cell_type": "code",
   "execution_count": null,
   "metadata": {},
   "outputs": [],
   "source": []
  }
 ],
 "metadata": {
  "kernelspec": {
   "display_name": "Python 3",
   "language": "python",
   "name": "python3"
  },
  "language_info": {
   "codemirror_mode": {
    "name": "ipython",
    "version": 3
   },
   "file_extension": ".py",
   "mimetype": "text/x-python",
   "name": "python",
   "nbconvert_exporter": "python",
   "pygments_lexer": "ipython3",
   "version": "3.7.3"
  }
 },
 "nbformat": 4,
 "nbformat_minor": 2
}

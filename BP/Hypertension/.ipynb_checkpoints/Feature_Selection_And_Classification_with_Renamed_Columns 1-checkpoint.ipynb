{
 "cells": [
  {
   "cell_type": "code",
   "execution_count": 46,
   "metadata": {},
   "outputs": [
    {
     "name": "stdout",
     "output_type": "stream",
     "text": [
      "The nb_black extension is already loaded. To reload it, use:\n",
      "  %reload_ext nb_black\n"
     ]
    },
    {
     "data": {
      "application/javascript": [
       "\n",
       "            setTimeout(function() {\n",
       "                var nbb_cell_id = 46;\n",
       "                var nbb_formatted_code = \"%load_ext nb_black\\nimport numpy as np\\nimport pandas as pd\\nimport warnings\\nfrom scipy.stats import chi2_contingency\\nfrom scipy import stats\\nfrom matplotlib import pyplot as plt\\n\\nwarnings.filterwarnings(\\\"ignore\\\")\";\n",
       "                var nbb_cells = Jupyter.notebook.get_cells();\n",
       "                for (var i = 0; i < nbb_cells.length; ++i) {\n",
       "                    if (nbb_cells[i].input_prompt_number == nbb_cell_id) {\n",
       "                        nbb_cells[i].set_text(nbb_formatted_code);\n",
       "                        break;\n",
       "                    }\n",
       "                }\n",
       "            }, 500);\n",
       "            "
      ],
      "text/plain": [
       "<IPython.core.display.Javascript object>"
      ]
     },
     "metadata": {},
     "output_type": "display_data"
    }
   ],
   "source": [
    "%load_ext nb_black\n",
    "import numpy as np\n",
    "import pandas as pd\n",
    "import warnings\n",
    "from scipy.stats import chi2_contingency\n",
    "from scipy import stats\n",
    "from matplotlib import pyplot as plt\n",
    "\n",
    "warnings.filterwarnings(\"ignore\")"
   ]
  },
  {
   "cell_type": "markdown",
   "metadata": {},
   "source": [
    "1 Read the dataset \n",
    "========"
   ]
  },
  {
   "cell_type": "code",
   "execution_count": 2,
   "metadata": {},
   "outputs": [
    {
     "data": {
      "application/javascript": [
       "\n",
       "            setTimeout(function() {\n",
       "                var nbb_cell_id = 2;\n",
       "                var nbb_formatted_code = \"data = pd.read_csv(\\\"../../sep19SexAndAgeAddedFINAL DATASET_ver2.txt\\\", sep=\\\",\\\")\";\n",
       "                var nbb_cells = Jupyter.notebook.get_cells();\n",
       "                for (var i = 0; i < nbb_cells.length; ++i) {\n",
       "                    if (nbb_cells[i].input_prompt_number == nbb_cell_id) {\n",
       "                        nbb_cells[i].set_text(nbb_formatted_code);\n",
       "                        break;\n",
       "                    }\n",
       "                }\n",
       "            }, 500);\n",
       "            "
      ],
      "text/plain": [
       "<IPython.core.display.Javascript object>"
      ]
     },
     "metadata": {},
     "output_type": "display_data"
    }
   ],
   "source": [
    "data = pd.read_csv(\"../../sep19SexAndAgeAddedFINAL DATASET_ver2.txt\", sep=\",\")"
   ]
  },
  {
   "cell_type": "code",
   "execution_count": 3,
   "metadata": {},
   "outputs": [
    {
     "data": {
      "application/javascript": [
       "\n",
       "            setTimeout(function() {\n",
       "                var nbb_cell_id = 3;\n",
       "                var nbb_formatted_code = \"# change field 38 to 3 group\\n\\ncondtion = [\\n    data.FIELD_38 == 0,\\n    (data.FIELD_38 > 0) & (data.FIELD_38 < 4),\\n    data.FIELD_38 >= 4,\\n]\\nchoice = [0, 1, 2]\\ndata[\\\"FIELD_38_C\\\"] = np.select(condtion, choice, default=np.nan)\";\n",
       "                var nbb_cells = Jupyter.notebook.get_cells();\n",
       "                for (var i = 0; i < nbb_cells.length; ++i) {\n",
       "                    if (nbb_cells[i].input_prompt_number == nbb_cell_id) {\n",
       "                        nbb_cells[i].set_text(nbb_formatted_code);\n",
       "                        break;\n",
       "                    }\n",
       "                }\n",
       "            }, 500);\n",
       "            "
      ],
      "text/plain": [
       "<IPython.core.display.Javascript object>"
      ]
     },
     "metadata": {},
     "output_type": "display_data"
    }
   ],
   "source": [
    "# change field 38 to 3 group\n",
    "\n",
    "condtion = [\n",
    "    data.FIELD_38 == 0,\n",
    "    (data.FIELD_38 > 0) & (data.FIELD_38 < 4),\n",
    "    data.FIELD_38 >= 4,\n",
    "]\n",
    "choice = [0, 1, 2]\n",
    "data[\"FIELD_38_C\"] = np.select(condtion, choice, default=np.nan)"
   ]
  },
  {
   "cell_type": "code",
   "execution_count": 4,
   "metadata": {},
   "outputs": [
    {
     "data": {
      "application/javascript": [
       "\n",
       "            setTimeout(function() {\n",
       "                var nbb_cell_id = 4;\n",
       "                var nbb_formatted_code = \"# #change physical excercise fields to one group\\n# # FIELD_40\\t6-1 of physical activity (high strength) class=2\\n# # FIELD_41\\t6-2 of physical activity (moderate) class=2\\n# # FIELD_42\\t6-3 of physical activity (walking) class=2\\n# # No Physical acitvity class=0\\n\\n# phActivity=[]\\n# for i in range(data.shape[0]):\\n#     if( not(np.isnan(data.FIELD_40[i])) or not(np.isnan(data.FIELD_40[i])) or not(np.isnan(data.FIELD_40[i])) ):\\n#         if()\";\n",
       "                var nbb_cells = Jupyter.notebook.get_cells();\n",
       "                for (var i = 0; i < nbb_cells.length; ++i) {\n",
       "                    if (nbb_cells[i].input_prompt_number == nbb_cell_id) {\n",
       "                        nbb_cells[i].set_text(nbb_formatted_code);\n",
       "                        break;\n",
       "                    }\n",
       "                }\n",
       "            }, 500);\n",
       "            "
      ],
      "text/plain": [
       "<IPython.core.display.Javascript object>"
      ]
     },
     "metadata": {},
     "output_type": "display_data"
    }
   ],
   "source": [
    "# #change physical excercise fields to one group\n",
    "# # FIELD_40\t6-1 of physical activity (high strength) class=2\n",
    "# # FIELD_41\t6-2 of physical activity (moderate) class=2\n",
    "# # FIELD_42\t6-3 of physical activity (walking) class=2\n",
    "# # No Physical acitvity class=0\n",
    "\n",
    "# phActivity=[]\n",
    "# for i in range(data.shape[0]):\n",
    "#     if( not(np.isnan(data.FIELD_40[i])) or not(np.isnan(data.FIELD_40[i])) or not(np.isnan(data.FIELD_40[i])) ):\n",
    "#         if()"
   ]
  },
  {
   "cell_type": "code",
   "execution_count": 5,
   "metadata": {},
   "outputs": [
    {
     "name": "stdout",
     "output_type": "stream",
     "text": [
      "(535169, 405)\n"
     ]
    },
    {
     "data": {
      "application/javascript": [
       "\n",
       "            setTimeout(function() {\n",
       "                var nbb_cell_id = 5;\n",
       "                var nbb_formatted_code = \"data[\\\"max\\\"] = np.min(\\n    data[[\\\"FIELD_6\\\", \\\"FIELD_7\\\"]], axis=1\\n)  # combine FIELD_6 and FIELD_7 both represent the same thing (Women's marital status)\\ndata = data.drop(columns=[\\\"FIELD_6\\\", \\\"FIELD_7\\\", \\\"B_DAY\\\"])\\nprint(data.shape)\";\n",
       "                var nbb_cells = Jupyter.notebook.get_cells();\n",
       "                for (var i = 0; i < nbb_cells.length; ++i) {\n",
       "                    if (nbb_cells[i].input_prompt_number == nbb_cell_id) {\n",
       "                        nbb_cells[i].set_text(nbb_formatted_code);\n",
       "                        break;\n",
       "                    }\n",
       "                }\n",
       "            }, 500);\n",
       "            "
      ],
      "text/plain": [
       "<IPython.core.display.Javascript object>"
      ]
     },
     "metadata": {},
     "output_type": "display_data"
    }
   ],
   "source": [
    "data[\"max\"] = np.min(\n",
    "    data[[\"FIELD_6\", \"FIELD_7\"]], axis=1\n",
    ")  # combine FIELD_6 and FIELD_7 both represent the same thing (Women's marital status)\n",
    "data = data.drop(columns=[\"FIELD_6\", \"FIELD_7\", \"B_DAY\"])\n",
    "print(data.shape)"
   ]
  },
  {
   "cell_type": "code",
   "execution_count": 6,
   "metadata": {},
   "outputs": [
    {
     "data": {
      "application/javascript": [
       "\n",
       "            setTimeout(function() {\n",
       "                var nbb_cell_id = 6;\n",
       "                var nbb_formatted_code = \"# add Class to the dataset\\n_class = []\\nfor i in range(data.shape[0]):\\n    if (data.S000501[i] >= 140) | (data.S000502[i] >= 90):\\n        _class.append(2)\\n    elif (data.S000501[i] < 120) & (data.S000502[i] < 80):\\n        _class.append(0)\\n    else:\\n        _class.append(1)\\ndata[\\\"CLASS\\\"] = _class\";\n",
       "                var nbb_cells = Jupyter.notebook.get_cells();\n",
       "                for (var i = 0; i < nbb_cells.length; ++i) {\n",
       "                    if (nbb_cells[i].input_prompt_number == nbb_cell_id) {\n",
       "                        nbb_cells[i].set_text(nbb_formatted_code);\n",
       "                        break;\n",
       "                    }\n",
       "                }\n",
       "            }, 500);\n",
       "            "
      ],
      "text/plain": [
       "<IPython.core.display.Javascript object>"
      ]
     },
     "metadata": {},
     "output_type": "display_data"
    }
   ],
   "source": [
    "# add Class to the dataset\n",
    "_class = []\n",
    "for i in range(data.shape[0]):\n",
    "    if (data.S000501[i] >= 140) | (data.S000502[i] >= 90):\n",
    "        _class.append(2)\n",
    "    elif (data.S000501[i] < 120) & (data.S000502[i] < 80):\n",
    "        _class.append(0)\n",
    "    else:\n",
    "        _class.append(1)\n",
    "data[\"CLASS\"] = _class"
   ]
  },
  {
   "cell_type": "code",
   "execution_count": 7,
   "metadata": {},
   "outputs": [
    {
     "name": "stdout",
     "output_type": "stream",
     "text": [
      "(466680, 406)\n"
     ]
    },
    {
     "data": {
      "application/javascript": [
       "\n",
       "            setTimeout(function() {\n",
       "                var nbb_cell_id = 7;\n",
       "                var nbb_formatted_code = \"# filter the data set\\ndata = data[data.FIELD_16 != 1]  # exclude people who are diagnosed for (diabetes)\\ndata = data[data.FIELD_23 != 1]  # exclude people who are on medication for diabetes\\n\\ndata = data[\\n    data.FIELD_15 != 1\\n]  # exclude people who are diagnosed for (high blood pressure)\\ndata = data[\\n    data.FIELD_22 != 1\\n]  # exclude people who are on medication for high blood pressure\\n\\ndata = data[data.FIELD_17 != 1]  # exclude people who are diagnosed for hyperlipidemia\\ndata = data[\\n    data.FIELD_24 != 1\\n]  # exclude people who are on medication for hyperlipidemia\\nprint(data.shape)\";\n",
       "                var nbb_cells = Jupyter.notebook.get_cells();\n",
       "                for (var i = 0; i < nbb_cells.length; ++i) {\n",
       "                    if (nbb_cells[i].input_prompt_number == nbb_cell_id) {\n",
       "                        nbb_cells[i].set_text(nbb_formatted_code);\n",
       "                        break;\n",
       "                    }\n",
       "                }\n",
       "            }, 500);\n",
       "            "
      ],
      "text/plain": [
       "<IPython.core.display.Javascript object>"
      ]
     },
     "metadata": {},
     "output_type": "display_data"
    }
   ],
   "source": [
    "# filter the data set\n",
    "data = data[data.FIELD_16 != 1]  # exclude people who are diagnosed for (diabetes)\n",
    "data = data[data.FIELD_23 != 1]  # exclude people who are on medication for diabetes\n",
    "\n",
    "data = data[\n",
    "    data.FIELD_15 != 1\n",
    "]  # exclude people who are diagnosed for (high blood pressure)\n",
    "data = data[\n",
    "    data.FIELD_22 != 1\n",
    "]  # exclude people who are on medication for high blood pressure\n",
    "\n",
    "data = data[data.FIELD_17 != 1]  # exclude people who are diagnosed for hyperlipidemia\n",
    "data = data[\n",
    "    data.FIELD_24 != 1\n",
    "]  # exclude people who are on medication for hyperlipidemia\n",
    "print(data.shape)"
   ]
  },
  {
   "cell_type": "code",
   "execution_count": 8,
   "metadata": {},
   "outputs": [
    {
     "data": {
      "application/javascript": [
       "\n",
       "            setTimeout(function() {\n",
       "                var nbb_cell_id = 8;\n",
       "                var nbb_formatted_code = \"# rename columns\\ndata.rename(\\n    columns={\\n        \\\"L104600\\\": \\\"HBA1C\\\",\\n        \\\"L103000\\\": \\\"Triglycerides\\\",\\n        \\\"L100800\\\": \\\"fasting glucose\\\",\\n        \\\"S000300\\\": \\\"BMI\\\",\\n        \\\"S000501\\\": \\\"SBP\\\",\\n        \\\"S000502\\\": \\\"DBP\\\",\\n        \\\"L101700\\\": \\\"r-GTP gamma\\\",\\n        \\\"L103300\\\": \\\"Cardiac risk factor\\\",\\n        \\\"L190400\\\": \\\"Hemoglobin\\\",\\n        \\\"L190500\\\": \\\"HCT\\\",\\n        \\\"L100700\\\": \\\"Uric Acid\\\",\\n        \\\"L101300\\\": \\\"SGPT\\\",\\n        \\\"L190300\\\": \\\"RBC\\\",\\n        \\\"L102900\\\": \\\"total cholesterol\\\",\\n        \\\"L103100\\\": \\\"HDL-Cholesterol\\\",\\n    },\\n    inplace=True,\\n)\";\n",
       "                var nbb_cells = Jupyter.notebook.get_cells();\n",
       "                for (var i = 0; i < nbb_cells.length; ++i) {\n",
       "                    if (nbb_cells[i].input_prompt_number == nbb_cell_id) {\n",
       "                        nbb_cells[i].set_text(nbb_formatted_code);\n",
       "                        break;\n",
       "                    }\n",
       "                }\n",
       "            }, 500);\n",
       "            "
      ],
      "text/plain": [
       "<IPython.core.display.Javascript object>"
      ]
     },
     "metadata": {},
     "output_type": "display_data"
    }
   ],
   "source": [
    "# rename columns\n",
    "data.rename(\n",
    "    columns={\n",
    "        \"L104600\": \"HBA1C\",\n",
    "        \"L103000\": \"Triglycerides\",\n",
    "        \"L100800\": \"fasting glucose\",\n",
    "        \"S000300\": \"BMI\",\n",
    "        \"S000501\": \"SBP\",\n",
    "        \"S000502\": \"DBP\",\n",
    "        \"L101700\": \"r-GTP gamma\",\n",
    "        \"L103300\": \"Cardiac risk factor\",\n",
    "        \"L190400\": \"Hemoglobin\",\n",
    "        \"L190500\": \"HCT\",\n",
    "        \"L100700\": \"Uric Acid\",\n",
    "        \"L101300\": \"SGPT\",\n",
    "        \"L190300\": \"RBC\",\n",
    "        \"L102900\": \"total cholesterol\",\n",
    "        \"L103100\": \"HDL-Cholesterol\",\n",
    "    },\n",
    "    inplace=True,\n",
    ")"
   ]
  },
  {
   "cell_type": "code",
   "execution_count": 9,
   "metadata": {},
   "outputs": [
    {
     "data": {
      "application/javascript": [
       "\n",
       "            setTimeout(function() {\n",
       "                var nbb_cell_id = 9;\n",
       "                var nbb_formatted_code = \"# split column types to categorical and numerical\\nnumerical_cols = list(data.columns[~data.columns.str.startswith(\\\"FIELD\\\")])\\ncategorical_cols = list(data.columns[data.columns.str.startswith(\\\"FIELD\\\")])\\ncategorical_cols.append(\\\"CLASS\\\")\\nnumerical_cols.remove(\\\"SEX\\\")\\ncategorical_cols.append(\\\"SEX\\\")\";\n",
       "                var nbb_cells = Jupyter.notebook.get_cells();\n",
       "                for (var i = 0; i < nbb_cells.length; ++i) {\n",
       "                    if (nbb_cells[i].input_prompt_number == nbb_cell_id) {\n",
       "                        nbb_cells[i].set_text(nbb_formatted_code);\n",
       "                        break;\n",
       "                    }\n",
       "                }\n",
       "            }, 500);\n",
       "            "
      ],
      "text/plain": [
       "<IPython.core.display.Javascript object>"
      ]
     },
     "metadata": {},
     "output_type": "display_data"
    }
   ],
   "source": [
    "# split column types to categorical and numerical\n",
    "numerical_cols = list(data.columns[~data.columns.str.startswith(\"FIELD\")])\n",
    "categorical_cols = list(data.columns[data.columns.str.startswith(\"FIELD\")])\n",
    "categorical_cols.append(\"CLASS\")\n",
    "numerical_cols.remove(\"SEX\")\n",
    "categorical_cols.append(\"SEX\")"
   ]
  },
  {
   "cell_type": "markdown",
   "metadata": {},
   "source": [
    "2 Feature Selection\n",
    "==========="
   ]
  },
  {
   "cell_type": "markdown",
   "metadata": {},
   "source": [
    "2.1 Calculate correlation Value - for numerical values\n",
    "========"
   ]
  },
  {
   "cell_type": "markdown",
   "metadata": {},
   "source": [
    "2.1.1 Pearson Correlation\n",
    "======"
   ]
  },
  {
   "cell_type": "code",
   "execution_count": 10,
   "metadata": {},
   "outputs": [
    {
     "data": {
      "text/html": [
       "<div>\n",
       "<style scoped>\n",
       "    .dataframe tbody tr th:only-of-type {\n",
       "        vertical-align: middle;\n",
       "    }\n",
       "\n",
       "    .dataframe tbody tr th {\n",
       "        vertical-align: top;\n",
       "    }\n",
       "\n",
       "    .dataframe thead th {\n",
       "        text-align: right;\n",
       "    }\n",
       "</style>\n",
       "<table border=\"1\" class=\"dataframe\">\n",
       "  <thead>\n",
       "    <tr style=\"text-align: right;\">\n",
       "      <th></th>\n",
       "      <th>Col</th>\n",
       "      <th>val</th>\n",
       "    </tr>\n",
       "  </thead>\n",
       "  <tbody>\n",
       "    <tr>\n",
       "      <th>275</th>\n",
       "      <td>CLASS</td>\n",
       "      <td>1.000000</td>\n",
       "    </tr>\n",
       "    <tr>\n",
       "      <th>69</th>\n",
       "      <td>L132900</td>\n",
       "      <td>1.000000</td>\n",
       "    </tr>\n",
       "    <tr>\n",
       "      <th>158</th>\n",
       "      <td>L503200</td>\n",
       "      <td>1.000000</td>\n",
       "    </tr>\n",
       "    <tr>\n",
       "      <th>58</th>\n",
       "      <td>L117700</td>\n",
       "      <td>1.000000</td>\n",
       "    </tr>\n",
       "    <tr>\n",
       "      <th>212</th>\n",
       "      <td>SBP</td>\n",
       "      <td>0.827811</td>\n",
       "    </tr>\n",
       "  </tbody>\n",
       "</table>\n",
       "</div>"
      ],
      "text/plain": [
       "         Col       val\n",
       "275    CLASS  1.000000\n",
       "69   L132900  1.000000\n",
       "158  L503200  1.000000\n",
       "58   L117700  1.000000\n",
       "212      SBP  0.827811"
      ]
     },
     "execution_count": 10,
     "metadata": {},
     "output_type": "execute_result"
    },
    {
     "data": {
      "application/javascript": [
       "\n",
       "            setTimeout(function() {\n",
       "                var nbb_cell_id = 10;\n",
       "                var nbb_formatted_code = \"corr = data[numerical_cols].corr()  # compute the correlation value\\ncorr = corr.CLASS  # select the correlation values of the Class\\n\\n# convert correlation values to dataframe\\ncorrvalPD = pd.DataFrame()\\ncorrvalPD[\\\"Col\\\"] = corr.index\\ncorrvalPD[\\\"val\\\"] = abs(corr.values)\\n\\ncorrvalPD = corrvalPD.sort_values(by=\\\"val\\\", ascending=False)\\ncorrvalPD.head()\";\n",
       "                var nbb_cells = Jupyter.notebook.get_cells();\n",
       "                for (var i = 0; i < nbb_cells.length; ++i) {\n",
       "                    if (nbb_cells[i].input_prompt_number == nbb_cell_id) {\n",
       "                        nbb_cells[i].set_text(nbb_formatted_code);\n",
       "                        break;\n",
       "                    }\n",
       "                }\n",
       "            }, 500);\n",
       "            "
      ],
      "text/plain": [
       "<IPython.core.display.Javascript object>"
      ]
     },
     "metadata": {},
     "output_type": "display_data"
    }
   ],
   "source": [
    "corr = data[numerical_cols].corr()  # compute the correlation value\n",
    "corr = corr.CLASS  # select the correlation values of the Class\n",
    "\n",
    "# convert correlation values to dataframe\n",
    "corrvalPD = pd.DataFrame()\n",
    "corrvalPD[\"Col\"] = corr.index\n",
    "corrvalPD[\"val\"] = abs(corr.values)\n",
    "\n",
    "corrvalPD = corrvalPD.sort_values(by=\"val\", ascending=False)\n",
    "corrvalPD.head()"
   ]
  },
  {
   "cell_type": "code",
   "execution_count": 11,
   "metadata": {},
   "outputs": [
    {
     "data": {
      "text/html": [
       "<div>\n",
       "<style scoped>\n",
       "    .dataframe tbody tr th:only-of-type {\n",
       "        vertical-align: middle;\n",
       "    }\n",
       "\n",
       "    .dataframe tbody tr th {\n",
       "        vertical-align: top;\n",
       "    }\n",
       "\n",
       "    .dataframe thead th {\n",
       "        text-align: right;\n",
       "    }\n",
       "</style>\n",
       "<table border=\"1\" class=\"dataframe\">\n",
       "  <thead>\n",
       "    <tr style=\"text-align: right;\">\n",
       "      <th></th>\n",
       "      <th>Col</th>\n",
       "      <th>Count</th>\n",
       "    </tr>\n",
       "  </thead>\n",
       "  <tbody>\n",
       "    <tr>\n",
       "      <th>0</th>\n",
       "      <td>Unnamed: 0</td>\n",
       "      <td>466680</td>\n",
       "    </tr>\n",
       "    <tr>\n",
       "      <th>1</th>\n",
       "      <td>COMPARE</td>\n",
       "      <td>466680</td>\n",
       "    </tr>\n",
       "    <tr>\n",
       "      <th>2</th>\n",
       "      <td>AGE</td>\n",
       "      <td>466679</td>\n",
       "    </tr>\n",
       "    <tr>\n",
       "      <th>3</th>\n",
       "      <td>L100100</td>\n",
       "      <td>446887</td>\n",
       "    </tr>\n",
       "    <tr>\n",
       "      <th>4</th>\n",
       "      <td>L100200</td>\n",
       "      <td>447258</td>\n",
       "    </tr>\n",
       "  </tbody>\n",
       "</table>\n",
       "</div>"
      ],
      "text/plain": [
       "          Col   Count\n",
       "0  Unnamed: 0  466680\n",
       "1     COMPARE  466680\n",
       "2         AGE  466679\n",
       "3     L100100  446887\n",
       "4     L100200  447258"
      ]
     },
     "execution_count": 11,
     "metadata": {},
     "output_type": "execute_result"
    },
    {
     "data": {
      "application/javascript": [
       "\n",
       "            setTimeout(function() {\n",
       "                var nbb_cell_id = 11;\n",
       "                var nbb_formatted_code = \"# get count of none NA values of each feature set\\nmydataset = data.copy()[numerical_cols]\\ncolCount = []\\nfor i in mydataset.columns:\\n    colCount.append([i, mydataset[i].dropna().shape[0]])\\n\\ncolCountPD = pd.DataFrame(colCount, columns=[\\\"Col\\\", \\\"Count\\\"])\\ncolCountPD.head()\";\n",
       "                var nbb_cells = Jupyter.notebook.get_cells();\n",
       "                for (var i = 0; i < nbb_cells.length; ++i) {\n",
       "                    if (nbb_cells[i].input_prompt_number == nbb_cell_id) {\n",
       "                        nbb_cells[i].set_text(nbb_formatted_code);\n",
       "                        break;\n",
       "                    }\n",
       "                }\n",
       "            }, 500);\n",
       "            "
      ],
      "text/plain": [
       "<IPython.core.display.Javascript object>"
      ]
     },
     "metadata": {},
     "output_type": "display_data"
    }
   ],
   "source": [
    "# get count of none NA values of each feature set\n",
    "mydataset = data.copy()[numerical_cols]\n",
    "colCount = []\n",
    "for i in mydataset.columns:\n",
    "    colCount.append([i, mydataset[i].dropna().shape[0]])\n",
    "\n",
    "colCountPD = pd.DataFrame(colCount, columns=[\"Col\", \"Count\"])\n",
    "colCountPD.head()"
   ]
  },
  {
   "cell_type": "code",
   "execution_count": 12,
   "metadata": {},
   "outputs": [
    {
     "data": {
      "text/html": [
       "<div>\n",
       "<style scoped>\n",
       "    .dataframe tbody tr th:only-of-type {\n",
       "        vertical-align: middle;\n",
       "    }\n",
       "\n",
       "    .dataframe tbody tr th {\n",
       "        vertical-align: top;\n",
       "    }\n",
       "\n",
       "    .dataframe thead th {\n",
       "        text-align: right;\n",
       "    }\n",
       "</style>\n",
       "<table border=\"1\" class=\"dataframe\">\n",
       "  <thead>\n",
       "    <tr style=\"text-align: right;\">\n",
       "      <th></th>\n",
       "      <th>Col</th>\n",
       "      <th>val</th>\n",
       "      <th>Count</th>\n",
       "    </tr>\n",
       "  </thead>\n",
       "  <tbody>\n",
       "    <tr>\n",
       "      <th>0</th>\n",
       "      <td>CLASS</td>\n",
       "      <td>1.000000</td>\n",
       "      <td>466680</td>\n",
       "    </tr>\n",
       "    <tr>\n",
       "      <th>4</th>\n",
       "      <td>SBP</td>\n",
       "      <td>0.827811</td>\n",
       "      <td>466410</td>\n",
       "    </tr>\n",
       "    <tr>\n",
       "      <th>10</th>\n",
       "      <td>DBP</td>\n",
       "      <td>0.749195</td>\n",
       "      <td>466410</td>\n",
       "    </tr>\n",
       "    <tr>\n",
       "      <th>29</th>\n",
       "      <td>BMI</td>\n",
       "      <td>0.374275</td>\n",
       "      <td>465393</td>\n",
       "    </tr>\n",
       "    <tr>\n",
       "      <th>33</th>\n",
       "      <td>Hemoglobin</td>\n",
       "      <td>0.310586</td>\n",
       "      <td>466197</td>\n",
       "    </tr>\n",
       "    <tr>\n",
       "      <th>35</th>\n",
       "      <td>RBC</td>\n",
       "      <td>0.307434</td>\n",
       "      <td>465316</td>\n",
       "    </tr>\n",
       "    <tr>\n",
       "      <th>36</th>\n",
       "      <td>HCT</td>\n",
       "      <td>0.303678</td>\n",
       "      <td>465172</td>\n",
       "    </tr>\n",
       "    <tr>\n",
       "      <th>39</th>\n",
       "      <td>Uric Acid</td>\n",
       "      <td>0.285982</td>\n",
       "      <td>447592</td>\n",
       "    </tr>\n",
       "    <tr>\n",
       "      <th>42</th>\n",
       "      <td>Cardiac risk factor</td>\n",
       "      <td>0.255095</td>\n",
       "      <td>397549</td>\n",
       "    </tr>\n",
       "    <tr>\n",
       "      <th>43</th>\n",
       "      <td>Triglycerides</td>\n",
       "      <td>0.252485</td>\n",
       "      <td>465103</td>\n",
       "    </tr>\n",
       "  </tbody>\n",
       "</table>\n",
       "</div>"
      ],
      "text/plain": [
       "                    Col       val   Count\n",
       "0                 CLASS  1.000000  466680\n",
       "4                   SBP  0.827811  466410\n",
       "10                  DBP  0.749195  466410\n",
       "29                  BMI  0.374275  465393\n",
       "33           Hemoglobin  0.310586  466197\n",
       "35                  RBC  0.307434  465316\n",
       "36                  HCT  0.303678  465172\n",
       "39            Uric Acid  0.285982  447592\n",
       "42  Cardiac risk factor  0.255095  397549\n",
       "43        Triglycerides  0.252485  465103"
      ]
     },
     "execution_count": 12,
     "metadata": {},
     "output_type": "execute_result"
    },
    {
     "data": {
      "application/javascript": [
       "\n",
       "            setTimeout(function() {\n",
       "                var nbb_cell_id = 12;\n",
       "                var nbb_formatted_code = \"# merge the correlation value and the total count of the feature\\nmergedColCorrCount = pd.merge(\\n    corrvalPD, colCountPD, how=\\\"inner\\\", left_on=\\\"Col\\\", right_on=\\\"Col\\\"\\n)\\nmergedColCorrCount = mergedColCorrCount[mergedColCorrCount.Count > 50000]\\nmergedColCorrCount = mergedColCorrCount.sort_values(by=\\\"val\\\", ascending=False)\\nmergedColCorrCount.head(10)\";\n",
       "                var nbb_cells = Jupyter.notebook.get_cells();\n",
       "                for (var i = 0; i < nbb_cells.length; ++i) {\n",
       "                    if (nbb_cells[i].input_prompt_number == nbb_cell_id) {\n",
       "                        nbb_cells[i].set_text(nbb_formatted_code);\n",
       "                        break;\n",
       "                    }\n",
       "                }\n",
       "            }, 500);\n",
       "            "
      ],
      "text/plain": [
       "<IPython.core.display.Javascript object>"
      ]
     },
     "metadata": {},
     "output_type": "display_data"
    }
   ],
   "source": [
    "# merge the correlation value and the total count of the feature\n",
    "mergedColCorrCount = pd.merge(\n",
    "    corrvalPD, colCountPD, how=\"inner\", left_on=\"Col\", right_on=\"Col\"\n",
    ")\n",
    "mergedColCorrCount = mergedColCorrCount[mergedColCorrCount.Count > 50000]\n",
    "mergedColCorrCount = mergedColCorrCount.sort_values(by=\"val\", ascending=False)\n",
    "mergedColCorrCount.head(10)"
   ]
  },
  {
   "cell_type": "code",
   "execution_count": 13,
   "metadata": {},
   "outputs": [
    {
     "name": "stdout",
     "output_type": "stream",
     "text": [
      "['CLASS', 'SBP', 'DBP', 'BMI', 'Hemoglobin', 'RBC', 'HCT', 'Uric Acid', 'Cardiac risk factor', 'Triglycerides', 'fasting glucose', 'r-GTP gamma', 'L100500', 'max', 'SGPT', 'S000100']\n"
     ]
    },
    {
     "data": {
      "application/javascript": [
       "\n",
       "            setTimeout(function() {\n",
       "                var nbb_cell_id = 13;\n",
       "                var nbb_formatted_code = \"# select top 20 correlated features\\nprint(list(mergedColCorrCount.head(16).Col))\";\n",
       "                var nbb_cells = Jupyter.notebook.get_cells();\n",
       "                for (var i = 0; i < nbb_cells.length; ++i) {\n",
       "                    if (nbb_cells[i].input_prompt_number == nbb_cell_id) {\n",
       "                        nbb_cells[i].set_text(nbb_formatted_code);\n",
       "                        break;\n",
       "                    }\n",
       "                }\n",
       "            }, 500);\n",
       "            "
      ],
      "text/plain": [
       "<IPython.core.display.Javascript object>"
      ]
     },
     "metadata": {},
     "output_type": "display_data"
    }
   ],
   "source": [
    "# select top 20 correlated features\n",
    "print(list(mergedColCorrCount.head(16).Col))"
   ]
  },
  {
   "cell_type": "markdown",
   "metadata": {},
   "source": [
    "2.1.2 Anova test\n",
    "======="
   ]
  },
  {
   "cell_type": "code",
   "execution_count": 14,
   "metadata": {},
   "outputs": [
    {
     "data": {
      "application/javascript": [
       "\n",
       "            setTimeout(function() {\n",
       "                var nbb_cell_id = 14;\n",
       "                var nbb_formatted_code = \"# another option for feature selection of numerical values\\n\\nmydataset = data.copy()[numerical_cols]  # filter only numrical columns\\ncolslist = mydataset.columns\\nDiabeticColVals = mydataset.CLASS\\n\\ncor = []\\npval = []\\ncount = []\\n\\n# for each column compute f and p values\\nfor i in range(len(colslist)):\\n\\n    temp = pd.DataFrame([])\\n    temp[\\\"a\\\"] = DiabeticColVals\\n    temp[\\\"b\\\"] = mydataset[colslist[i]]\\n    temp = temp.dropna()\\n\\n    count.append(temp.shape[0])\\n    tempcor = temp.corr()\\n\\n    if tempcor.shape[0] > 1:\\n        F, p = stats.f_oneway(\\n            temp[temp[\\\"a\\\"] == 0].b, temp[temp[\\\"a\\\"] == 1].b, temp[temp[\\\"a\\\"] == 2].b\\n        )\\n        cor.append(F)\\n        pval.append(p)\\n    else:\\n        cor.append(0)\\n        pval.append(0)\";\n",
       "                var nbb_cells = Jupyter.notebook.get_cells();\n",
       "                for (var i = 0; i < nbb_cells.length; ++i) {\n",
       "                    if (nbb_cells[i].input_prompt_number == nbb_cell_id) {\n",
       "                        nbb_cells[i].set_text(nbb_formatted_code);\n",
       "                        break;\n",
       "                    }\n",
       "                }\n",
       "            }, 500);\n",
       "            "
      ],
      "text/plain": [
       "<IPython.core.display.Javascript object>"
      ]
     },
     "metadata": {},
     "output_type": "display_data"
    }
   ],
   "source": [
    "# another option for feature selection of numerical values\n",
    "\n",
    "mydataset = data.copy()[numerical_cols]  # filter only numrical columns\n",
    "colslist = mydataset.columns\n",
    "DiabeticColVals = mydataset.CLASS\n",
    "\n",
    "cor = []\n",
    "pval = []\n",
    "count = []\n",
    "\n",
    "# for each column compute f and p values\n",
    "for i in range(len(colslist)):\n",
    "\n",
    "    temp = pd.DataFrame([])\n",
    "    temp[\"a\"] = DiabeticColVals\n",
    "    temp[\"b\"] = mydataset[colslist[i]]\n",
    "    temp = temp.dropna()\n",
    "\n",
    "    count.append(temp.shape[0])\n",
    "    tempcor = temp.corr()\n",
    "\n",
    "    if tempcor.shape[0] > 1:\n",
    "        F, p = stats.f_oneway(\n",
    "            temp[temp[\"a\"] == 0].b, temp[temp[\"a\"] == 1].b, temp[temp[\"a\"] == 2].b\n",
    "        )\n",
    "        cor.append(F)\n",
    "        pval.append(p)\n",
    "    else:\n",
    "        cor.append(0)\n",
    "        pval.append(0)"
   ]
  },
  {
   "cell_type": "code",
   "execution_count": 15,
   "metadata": {},
   "outputs": [
    {
     "data": {
      "application/javascript": [
       "\n",
       "            setTimeout(function() {\n",
       "                var nbb_cell_id = 15;\n",
       "                var nbb_formatted_code = \"FvalPvalCorr = pd.DataFrame()\\nFvalPvalCorr[\\\"Cols\\\"] = colslist\\nFvalPvalCorr[\\\"F\\\"] = cor\\nFvalPvalCorr[\\\"P\\\"] = pval\\nFvalPvalCorr[\\\"Count\\\"] = count\\nFvalPvalCorr = FvalPvalCorr.sort_values(by=\\\"F\\\", ascending=False)\";\n",
       "                var nbb_cells = Jupyter.notebook.get_cells();\n",
       "                for (var i = 0; i < nbb_cells.length; ++i) {\n",
       "                    if (nbb_cells[i].input_prompt_number == nbb_cell_id) {\n",
       "                        nbb_cells[i].set_text(nbb_formatted_code);\n",
       "                        break;\n",
       "                    }\n",
       "                }\n",
       "            }, 500);\n",
       "            "
      ],
      "text/plain": [
       "<IPython.core.display.Javascript object>"
      ]
     },
     "metadata": {},
     "output_type": "display_data"
    }
   ],
   "source": [
    "FvalPvalCorr = pd.DataFrame()\n",
    "FvalPvalCorr[\"Cols\"] = colslist\n",
    "FvalPvalCorr[\"F\"] = cor\n",
    "FvalPvalCorr[\"P\"] = pval\n",
    "FvalPvalCorr[\"Count\"] = count\n",
    "FvalPvalCorr = FvalPvalCorr.sort_values(by=\"F\", ascending=False)"
   ]
  },
  {
   "cell_type": "code",
   "execution_count": 16,
   "metadata": {},
   "outputs": [
    {
     "name": "stdout",
     "output_type": "stream",
     "text": [
      "['SBP', 'DBP', 'BMI', 'Hemoglobin', 'RBC', 'HCT', 'Uric Acid', 'Triglycerides', 'fasting glucose', 'Cardiac risk factor', 'L100500', 'r-GTP gamma', 'S000100', 'SGPT', 'L101600', 'HDL-Cholesterol', 'total cholesterol']\n"
     ]
    },
    {
     "data": {
      "text/html": [
       "<div>\n",
       "<style scoped>\n",
       "    .dataframe tbody tr th:only-of-type {\n",
       "        vertical-align: middle;\n",
       "    }\n",
       "\n",
       "    .dataframe tbody tr th {\n",
       "        vertical-align: top;\n",
       "    }\n",
       "\n",
       "    .dataframe thead th {\n",
       "        text-align: right;\n",
       "    }\n",
       "</style>\n",
       "<table border=\"1\" class=\"dataframe\">\n",
       "  <thead>\n",
       "    <tr style=\"text-align: right;\">\n",
       "      <th></th>\n",
       "      <th>Cols</th>\n",
       "      <th>F</th>\n",
       "      <th>P</th>\n",
       "      <th>Count</th>\n",
       "    </tr>\n",
       "  </thead>\n",
       "  <tbody>\n",
       "    <tr>\n",
       "      <th>212</th>\n",
       "      <td>SBP</td>\n",
       "      <td>514356.656540</td>\n",
       "      <td>0.0</td>\n",
       "      <td>466410</td>\n",
       "    </tr>\n",
       "    <tr>\n",
       "      <th>213</th>\n",
       "      <td>DBP</td>\n",
       "      <td>298372.122381</td>\n",
       "      <td>0.0</td>\n",
       "      <td>466410</td>\n",
       "    </tr>\n",
       "    <tr>\n",
       "      <th>210</th>\n",
       "      <td>BMI</td>\n",
       "      <td>38399.544055</td>\n",
       "      <td>0.0</td>\n",
       "      <td>465393</td>\n",
       "    </tr>\n",
       "    <tr>\n",
       "      <th>91</th>\n",
       "      <td>Hemoglobin</td>\n",
       "      <td>26239.842046</td>\n",
       "      <td>0.0</td>\n",
       "      <td>466197</td>\n",
       "    </tr>\n",
       "    <tr>\n",
       "      <th>90</th>\n",
       "      <td>RBC</td>\n",
       "      <td>25523.436586</td>\n",
       "      <td>0.0</td>\n",
       "      <td>465316</td>\n",
       "    </tr>\n",
       "    <tr>\n",
       "      <th>92</th>\n",
       "      <td>HCT</td>\n",
       "      <td>24980.660197</td>\n",
       "      <td>0.0</td>\n",
       "      <td>465172</td>\n",
       "    </tr>\n",
       "    <tr>\n",
       "      <th>8</th>\n",
       "      <td>Uric Acid</td>\n",
       "      <td>20943.769255</td>\n",
       "      <td>0.0</td>\n",
       "      <td>447592</td>\n",
       "    </tr>\n",
       "    <tr>\n",
       "      <th>24</th>\n",
       "      <td>Triglycerides</td>\n",
       "      <td>15857.089772</td>\n",
       "      <td>0.0</td>\n",
       "      <td>465103</td>\n",
       "    </tr>\n",
       "    <tr>\n",
       "      <th>9</th>\n",
       "      <td>fasting glucose</td>\n",
       "      <td>14822.049826</td>\n",
       "      <td>0.0</td>\n",
       "      <td>466134</td>\n",
       "    </tr>\n",
       "    <tr>\n",
       "      <th>27</th>\n",
       "      <td>Cardiac risk factor</td>\n",
       "      <td>14179.695817</td>\n",
       "      <td>0.0</td>\n",
       "      <td>397549</td>\n",
       "    </tr>\n",
       "    <tr>\n",
       "      <th>7</th>\n",
       "      <td>L100500</td>\n",
       "      <td>13548.081102</td>\n",
       "      <td>0.0</td>\n",
       "      <td>465605</td>\n",
       "    </tr>\n",
       "    <tr>\n",
       "      <th>16</th>\n",
       "      <td>r-GTP gamma</td>\n",
       "      <td>13273.726296</td>\n",
       "      <td>0.0</td>\n",
       "      <td>465651</td>\n",
       "    </tr>\n",
       "    <tr>\n",
       "      <th>208</th>\n",
       "      <td>S000100</td>\n",
       "      <td>12219.109624</td>\n",
       "      <td>0.0</td>\n",
       "      <td>466344</td>\n",
       "    </tr>\n",
       "    <tr>\n",
       "      <th>13</th>\n",
       "      <td>SGPT</td>\n",
       "      <td>10710.925734</td>\n",
       "      <td>0.0</td>\n",
       "      <td>466235</td>\n",
       "    </tr>\n",
       "    <tr>\n",
       "      <th>15</th>\n",
       "      <td>L101600</td>\n",
       "      <td>8062.120769</td>\n",
       "      <td>0.0</td>\n",
       "      <td>452094</td>\n",
       "    </tr>\n",
       "    <tr>\n",
       "      <th>25</th>\n",
       "      <td>HDL-Cholesterol</td>\n",
       "      <td>7615.473532</td>\n",
       "      <td>0.0</td>\n",
       "      <td>464378</td>\n",
       "    </tr>\n",
       "    <tr>\n",
       "      <th>23</th>\n",
       "      <td>total cholesterol</td>\n",
       "      <td>7180.544309</td>\n",
       "      <td>0.0</td>\n",
       "      <td>465273</td>\n",
       "    </tr>\n",
       "    <tr>\n",
       "      <th>2</th>\n",
       "      <td>AGE</td>\n",
       "      <td>6407.371502</td>\n",
       "      <td>0.0</td>\n",
       "      <td>466679</td>\n",
       "    </tr>\n",
       "    <tr>\n",
       "      <th>272</th>\n",
       "      <td>S010101</td>\n",
       "      <td>6246.690158</td>\n",
       "      <td>0.0</td>\n",
       "      <td>399544</td>\n",
       "    </tr>\n",
       "    <tr>\n",
       "      <th>273</th>\n",
       "      <td>S010102</td>\n",
       "      <td>6192.007660</td>\n",
       "      <td>0.0</td>\n",
       "      <td>399562</td>\n",
       "    </tr>\n",
       "  </tbody>\n",
       "</table>\n",
       "</div>"
      ],
      "text/plain": [
       "                    Cols              F    P   Count\n",
       "212                  SBP  514356.656540  0.0  466410\n",
       "213                  DBP  298372.122381  0.0  466410\n",
       "210                  BMI   38399.544055  0.0  465393\n",
       "91            Hemoglobin   26239.842046  0.0  466197\n",
       "90                   RBC   25523.436586  0.0  465316\n",
       "92                   HCT   24980.660197  0.0  465172\n",
       "8              Uric Acid   20943.769255  0.0  447592\n",
       "24         Triglycerides   15857.089772  0.0  465103\n",
       "9        fasting glucose   14822.049826  0.0  466134\n",
       "27   Cardiac risk factor   14179.695817  0.0  397549\n",
       "7                L100500   13548.081102  0.0  465605\n",
       "16           r-GTP gamma   13273.726296  0.0  465651\n",
       "208              S000100   12219.109624  0.0  466344\n",
       "13                  SGPT   10710.925734  0.0  466235\n",
       "15               L101600    8062.120769  0.0  452094\n",
       "25       HDL-Cholesterol    7615.473532  0.0  464378\n",
       "23     total cholesterol    7180.544309  0.0  465273\n",
       "2                    AGE    6407.371502  0.0  466679\n",
       "272              S010101    6246.690158  0.0  399544\n",
       "273              S010102    6192.007660  0.0  399562"
      ]
     },
     "execution_count": 16,
     "metadata": {},
     "output_type": "execute_result"
    },
    {
     "data": {
      "application/javascript": [
       "\n",
       "            setTimeout(function() {\n",
       "                var nbb_cell_id = 16;\n",
       "                var nbb_formatted_code = \"# select top 20 features\\nprint(list(FvalPvalCorr[FvalPvalCorr.Count > 100000].Cols)[:17])\\nFvalPvalCorr[FvalPvalCorr.Count > 100000].head(20)\";\n",
       "                var nbb_cells = Jupyter.notebook.get_cells();\n",
       "                for (var i = 0; i < nbb_cells.length; ++i) {\n",
       "                    if (nbb_cells[i].input_prompt_number == nbb_cell_id) {\n",
       "                        nbb_cells[i].set_text(nbb_formatted_code);\n",
       "                        break;\n",
       "                    }\n",
       "                }\n",
       "            }, 500);\n",
       "            "
      ],
      "text/plain": [
       "<IPython.core.display.Javascript object>"
      ]
     },
     "metadata": {},
     "output_type": "display_data"
    }
   ],
   "source": [
    "# select top 20 features\n",
    "print(list(FvalPvalCorr[FvalPvalCorr.Count > 100000].Cols)[:17])\n",
    "FvalPvalCorr[FvalPvalCorr.Count > 100000].head(20)"
   ]
  },
  {
   "cell_type": "markdown",
   "metadata": {},
   "source": [
    "2.2 Correlation for categorical values\n",
    "============"
   ]
  },
  {
   "cell_type": "markdown",
   "metadata": {},
   "source": [
    "2.2.1 chi2 method\n",
    "====="
   ]
  },
  {
   "cell_type": "code",
   "execution_count": 17,
   "metadata": {},
   "outputs": [
    {
     "data": {
      "application/javascript": [
       "\n",
       "            setTimeout(function() {\n",
       "                var nbb_cell_id = 17;\n",
       "                var nbb_formatted_code = \"# rename commen field names\\ncategorical_cols[categorical_cols.index(\\\"FIELD_33\\\")] = \\\"_4_1_Smoking\\\"\\ncategorical_cols[categorical_cols.index(\\\"FIELD_38\\\")] = \\\"Drinking_5_1_days\\\"\\ncategorical_cols[\\n    categorical_cols.index(\\\"FIELD_40\\\")\\n] = \\\"_6_1_of_physical_activity_high_strength\\\"\\ncategorical_cols[categorical_cols.index(\\\"FIELD_31\\\")] = \\\"Family_history\\\"\\ncategorical_cols[\\n    categorical_cols.index(\\\"FIELD_41\\\")\\n] = \\\"_6_2_of_physical_activity_moderate\\\"\\ncategorical_cols[categorical_cols.index(\\\"FIELD_27\\\")] = \\\"_2_family_history_stroke\\\"\\ncategorical_cols[categorical_cols.index(\\\"FIELD_21\\\")] = \\\"_1_medication_heart_disease\\\"\\ncategorical_cols[categorical_cols.index(\\\"FIELD_14\\\")] = \\\"Whether_one_diagnosis_disease\\\"\\ncategorical_cols[categorical_cols.index(\\\"FIELD_32\\\")] = \\\"_3B_hepatitis\\\"\\ncategorical_cols[\\n    categorical_cols.index(\\\"FIELD_42\\\")\\n] = \\\"_6_3_of_physical_activity_walking\\\"\\ncategorical_cols[categorical_cols.index(\\\"FIELD_4\\\")] = \\\"blood_type\\\"\\ncategorical_cols[categorical_cols.index(\\\"FIELD_29\\\")] = \\\"_2_family_history_hypertension\\\"\\ncategorical_cols[categorical_cols.index(\\\"FIELD_3\\\")] = \\\"Blood_factor_RH_factor\\\"\\ncategorical_cols[categorical_cols.index(\\\"FIELD_19\\\")] = \\\"_1_drug_therapy_stroke\\\"\";\n",
       "                var nbb_cells = Jupyter.notebook.get_cells();\n",
       "                for (var i = 0; i < nbb_cells.length; ++i) {\n",
       "                    if (nbb_cells[i].input_prompt_number == nbb_cell_id) {\n",
       "                        nbb_cells[i].set_text(nbb_formatted_code);\n",
       "                        break;\n",
       "                    }\n",
       "                }\n",
       "            }, 500);\n",
       "            "
      ],
      "text/plain": [
       "<IPython.core.display.Javascript object>"
      ]
     },
     "metadata": {},
     "output_type": "display_data"
    }
   ],
   "source": [
    "# rename commen field names\n",
    "categorical_cols[categorical_cols.index(\"FIELD_33\")] = \"_4_1_Smoking\"\n",
    "categorical_cols[categorical_cols.index(\"FIELD_38\")] = \"Drinking_5_1_days\"\n",
    "categorical_cols[\n",
    "    categorical_cols.index(\"FIELD_40\")\n",
    "] = \"_6_1_of_physical_activity_high_strength\"\n",
    "categorical_cols[categorical_cols.index(\"FIELD_31\")] = \"Family_history\"\n",
    "categorical_cols[\n",
    "    categorical_cols.index(\"FIELD_41\")\n",
    "] = \"_6_2_of_physical_activity_moderate\"\n",
    "categorical_cols[categorical_cols.index(\"FIELD_27\")] = \"_2_family_history_stroke\"\n",
    "categorical_cols[categorical_cols.index(\"FIELD_21\")] = \"_1_medication_heart_disease\"\n",
    "categorical_cols[categorical_cols.index(\"FIELD_14\")] = \"Whether_one_diagnosis_disease\"\n",
    "categorical_cols[categorical_cols.index(\"FIELD_32\")] = \"_3B_hepatitis\"\n",
    "categorical_cols[\n",
    "    categorical_cols.index(\"FIELD_42\")\n",
    "] = \"_6_3_of_physical_activity_walking\"\n",
    "categorical_cols[categorical_cols.index(\"FIELD_4\")] = \"blood_type\"\n",
    "categorical_cols[categorical_cols.index(\"FIELD_29\")] = \"_2_family_history_hypertension\"\n",
    "categorical_cols[categorical_cols.index(\"FIELD_3\")] = \"Blood_factor_RH_factor\"\n",
    "categorical_cols[categorical_cols.index(\"FIELD_19\")] = \"_1_drug_therapy_stroke\""
   ]
  },
  {
   "cell_type": "code",
   "execution_count": 18,
   "metadata": {},
   "outputs": [
    {
     "data": {
      "application/javascript": [
       "\n",
       "            setTimeout(function() {\n",
       "                var nbb_cell_id = 18;\n",
       "                var nbb_formatted_code = \"mydata = data.rename(\\n    columns={\\n        \\\"FIELD_33\\\": \\\"_4_1_Smoking\\\",\\n        \\\"FIELD_38\\\": \\\"Drinking_5_1_days\\\",\\n        \\\"FIELD_40\\\": \\\"_6_1_of_physical_activity_high_strength\\\",\\n        \\\"FIELD_31\\\": \\\"Family_history\\\",\\n        \\\"FIELD_41\\\": \\\"_6_2_of_physical_activity_moderate\\\",\\n        \\\"FIELD_27\\\": \\\"_2_family_history_stroke\\\",\\n        \\\"FIELD_21\\\": \\\"_1_medication_heart_disease\\\",\\n        \\\"FIELD_14\\\": \\\"Whether_one_diagnosis_disease\\\",\\n        \\\"FIELD_32\\\": \\\"_3B_hepatitis\\\",\\n        \\\"FIELD_42\\\": \\\"_6_3_of_physical_activity_walking\\\",\\n        \\\"FIELD_4\\\": \\\"blood_type\\\",\\n        \\\"FIELD_29\\\": \\\"_2_family_history_hypertension\\\",\\n        \\\"FIELD_3\\\": \\\"Blood_factor_RH_factor\\\",\\n        \\\"FIELD_19\\\": \\\"_1_drug_therapy_stroke\\\",\\n    },\\n    inplace=True,\\n)\\n\\n\\n# mydata=data[categorical_cols] # filter only categorical columns\";\n",
       "                var nbb_cells = Jupyter.notebook.get_cells();\n",
       "                for (var i = 0; i < nbb_cells.length; ++i) {\n",
       "                    if (nbb_cells[i].input_prompt_number == nbb_cell_id) {\n",
       "                        nbb_cells[i].set_text(nbb_formatted_code);\n",
       "                        break;\n",
       "                    }\n",
       "                }\n",
       "            }, 500);\n",
       "            "
      ],
      "text/plain": [
       "<IPython.core.display.Javascript object>"
      ]
     },
     "metadata": {},
     "output_type": "display_data"
    }
   ],
   "source": [
    "mydata = data.rename(\n",
    "    columns={\n",
    "        \"FIELD_33\": \"_4_1_Smoking\",\n",
    "        \"FIELD_38\": \"Drinking_5_1_days\",\n",
    "        \"FIELD_40\": \"_6_1_of_physical_activity_high_strength\",\n",
    "        \"FIELD_31\": \"Family_history\",\n",
    "        \"FIELD_41\": \"_6_2_of_physical_activity_moderate\",\n",
    "        \"FIELD_27\": \"_2_family_history_stroke\",\n",
    "        \"FIELD_21\": \"_1_medication_heart_disease\",\n",
    "        \"FIELD_14\": \"Whether_one_diagnosis_disease\",\n",
    "        \"FIELD_32\": \"_3B_hepatitis\",\n",
    "        \"FIELD_42\": \"_6_3_of_physical_activity_walking\",\n",
    "        \"FIELD_4\": \"blood_type\",\n",
    "        \"FIELD_29\": \"_2_family_history_hypertension\",\n",
    "        \"FIELD_3\": \"Blood_factor_RH_factor\",\n",
    "        \"FIELD_19\": \"_1_drug_therapy_stroke\",\n",
    "    },\n",
    "    inplace=True,\n",
    ")\n",
    "\n",
    "\n",
    "# mydata=data[categorical_cols] # filter only categorical columns"
   ]
  },
  {
   "cell_type": "code",
   "execution_count": 19,
   "metadata": {},
   "outputs": [
    {
     "data": {
      "text/html": [
       "<div>\n",
       "<style scoped>\n",
       "    .dataframe tbody tr th:only-of-type {\n",
       "        vertical-align: middle;\n",
       "    }\n",
       "\n",
       "    .dataframe tbody tr th {\n",
       "        vertical-align: top;\n",
       "    }\n",
       "\n",
       "    .dataframe thead th {\n",
       "        text-align: right;\n",
       "    }\n",
       "</style>\n",
       "<table border=\"1\" class=\"dataframe\">\n",
       "  <thead>\n",
       "    <tr style=\"text-align: right;\">\n",
       "      <th></th>\n",
       "      <th>Blood_factor_RH_factor</th>\n",
       "      <th>blood_type</th>\n",
       "      <th>FIELD_5</th>\n",
       "      <th>FIELD_9</th>\n",
       "      <th>FIELD_13</th>\n",
       "      <th>Whether_one_diagnosis_disease</th>\n",
       "      <th>FIELD_15</th>\n",
       "      <th>FIELD_16</th>\n",
       "      <th>FIELD_17</th>\n",
       "      <th>FIELD_18</th>\n",
       "      <th>...</th>\n",
       "      <th>FIELD_134</th>\n",
       "      <th>FIELD_135</th>\n",
       "      <th>FIELD_136</th>\n",
       "      <th>FIELD_137</th>\n",
       "      <th>FIELD_138</th>\n",
       "      <th>FIELD_139</th>\n",
       "      <th>FIELD_140</th>\n",
       "      <th>FIELD_38_C</th>\n",
       "      <th>CLASS</th>\n",
       "      <th>SEX</th>\n",
       "    </tr>\n",
       "  </thead>\n",
       "  <tbody>\n",
       "    <tr>\n",
       "      <th>0</th>\n",
       "      <td>NaN</td>\n",
       "      <td>4</td>\n",
       "      <td>1</td>\n",
       "      <td>NaN</td>\n",
       "      <td>0.0</td>\n",
       "      <td>0.0</td>\n",
       "      <td>0.0</td>\n",
       "      <td>0.0</td>\n",
       "      <td>0.0</td>\n",
       "      <td>0.0</td>\n",
       "      <td>...</td>\n",
       "      <td>NaN</td>\n",
       "      <td>NaN</td>\n",
       "      <td>NaN</td>\n",
       "      <td>NaN</td>\n",
       "      <td>NaN</td>\n",
       "      <td>NaN</td>\n",
       "      <td>NaN</td>\n",
       "      <td>1.0</td>\n",
       "      <td>1</td>\n",
       "      <td>0.0</td>\n",
       "    </tr>\n",
       "    <tr>\n",
       "      <th>1</th>\n",
       "      <td>NaN</td>\n",
       "      <td>4</td>\n",
       "      <td>1</td>\n",
       "      <td>NaN</td>\n",
       "      <td>0.0</td>\n",
       "      <td>0.0</td>\n",
       "      <td>0.0</td>\n",
       "      <td>0.0</td>\n",
       "      <td>0.0</td>\n",
       "      <td>0.0</td>\n",
       "      <td>...</td>\n",
       "      <td>NaN</td>\n",
       "      <td>NaN</td>\n",
       "      <td>NaN</td>\n",
       "      <td>NaN</td>\n",
       "      <td>NaN</td>\n",
       "      <td>NaN</td>\n",
       "      <td>NaN</td>\n",
       "      <td>1.0</td>\n",
       "      <td>1</td>\n",
       "      <td>0.0</td>\n",
       "    </tr>\n",
       "    <tr>\n",
       "      <th>2</th>\n",
       "      <td>1</td>\n",
       "      <td>4</td>\n",
       "      <td>1</td>\n",
       "      <td>NaN</td>\n",
       "      <td>0.0</td>\n",
       "      <td>0.0</td>\n",
       "      <td>0.0</td>\n",
       "      <td>0.0</td>\n",
       "      <td>0.0</td>\n",
       "      <td>0.0</td>\n",
       "      <td>...</td>\n",
       "      <td>NaN</td>\n",
       "      <td>NaN</td>\n",
       "      <td>NaN</td>\n",
       "      <td>NaN</td>\n",
       "      <td>NaN</td>\n",
       "      <td>NaN</td>\n",
       "      <td>NaN</td>\n",
       "      <td>1.0</td>\n",
       "      <td>1</td>\n",
       "      <td>0.0</td>\n",
       "    </tr>\n",
       "    <tr>\n",
       "      <th>3</th>\n",
       "      <td>NaN</td>\n",
       "      <td>4</td>\n",
       "      <td>NaN</td>\n",
       "      <td>NaN</td>\n",
       "      <td>0.0</td>\n",
       "      <td>0.0</td>\n",
       "      <td>0.0</td>\n",
       "      <td>0.0</td>\n",
       "      <td>0.0</td>\n",
       "      <td>0.0</td>\n",
       "      <td>...</td>\n",
       "      <td>NaN</td>\n",
       "      <td>NaN</td>\n",
       "      <td>NaN</td>\n",
       "      <td>NaN</td>\n",
       "      <td>NaN</td>\n",
       "      <td>NaN</td>\n",
       "      <td>NaN</td>\n",
       "      <td>1.0</td>\n",
       "      <td>2</td>\n",
       "      <td>0.0</td>\n",
       "    </tr>\n",
       "    <tr>\n",
       "      <th>4</th>\n",
       "      <td>NaN</td>\n",
       "      <td>4</td>\n",
       "      <td>NaN</td>\n",
       "      <td>NaN</td>\n",
       "      <td>0.0</td>\n",
       "      <td>0.0</td>\n",
       "      <td>0.0</td>\n",
       "      <td>0.0</td>\n",
       "      <td>0.0</td>\n",
       "      <td>0.0</td>\n",
       "      <td>...</td>\n",
       "      <td>NaN</td>\n",
       "      <td>NaN</td>\n",
       "      <td>NaN</td>\n",
       "      <td>NaN</td>\n",
       "      <td>NaN</td>\n",
       "      <td>NaN</td>\n",
       "      <td>NaN</td>\n",
       "      <td>1.0</td>\n",
       "      <td>2</td>\n",
       "      <td>0.0</td>\n",
       "    </tr>\n",
       "  </tbody>\n",
       "</table>\n",
       "<p>5 rows × 113 columns</p>\n",
       "</div>"
      ],
      "text/plain": [
       "  Blood_factor_RH_factor blood_type FIELD_5  FIELD_9  FIELD_13  \\\n",
       "0                    NaN          4       1      NaN       0.0   \n",
       "1                    NaN          4       1      NaN       0.0   \n",
       "2                      1          4       1      NaN       0.0   \n",
       "3                    NaN          4     NaN      NaN       0.0   \n",
       "4                    NaN          4     NaN      NaN       0.0   \n",
       "\n",
       "   Whether_one_diagnosis_disease  FIELD_15  FIELD_16  FIELD_17  FIELD_18  ...  \\\n",
       "0                            0.0       0.0       0.0       0.0       0.0  ...   \n",
       "1                            0.0       0.0       0.0       0.0       0.0  ...   \n",
       "2                            0.0       0.0       0.0       0.0       0.0  ...   \n",
       "3                            0.0       0.0       0.0       0.0       0.0  ...   \n",
       "4                            0.0       0.0       0.0       0.0       0.0  ...   \n",
       "\n",
       "   FIELD_134  FIELD_135  FIELD_136  FIELD_137  FIELD_138  FIELD_139  \\\n",
       "0        NaN        NaN        NaN        NaN        NaN        NaN   \n",
       "1        NaN        NaN        NaN        NaN        NaN        NaN   \n",
       "2        NaN        NaN        NaN        NaN        NaN        NaN   \n",
       "3        NaN        NaN        NaN        NaN        NaN        NaN   \n",
       "4        NaN        NaN        NaN        NaN        NaN        NaN   \n",
       "\n",
       "   FIELD_140  FIELD_38_C  CLASS  SEX  \n",
       "0        NaN         1.0      1  0.0  \n",
       "1        NaN         1.0      1  0.0  \n",
       "2        NaN         1.0      1  0.0  \n",
       "3        NaN         1.0      2  0.0  \n",
       "4        NaN         1.0      2  0.0  \n",
       "\n",
       "[5 rows x 113 columns]"
      ]
     },
     "execution_count": 19,
     "metadata": {},
     "output_type": "execute_result"
    },
    {
     "data": {
      "application/javascript": [
       "\n",
       "            setTimeout(function() {\n",
       "                var nbb_cell_id = 19;\n",
       "                var nbb_formatted_code = \"# filter only categorical columns\\nmydata = data[categorical_cols]\\n# remove columns with string values as data type\\nmydata = mydata.drop(\\n    columns=[\\n        \\\"FIELD_1\\\",\\n        \\\"FIELD_2\\\",\\n        \\\"FIELD_8\\\",\\n        \\\"FIELD_10\\\",\\n        \\\"FIELD_11\\\",\\n        \\\"FIELD_12\\\",\\n        \\\"FIELD_39\\\",\\n        \\\"FIELD_88\\\",\\n        \\\"FIELD_89\\\",\\n        \\\"FIELD_109\\\",\\n        \\\"FIELD_110\\\",\\n        \\\"FIELD_111\\\",\\n        \\\"FIELD_70\\\",\\n        \\\"FIELD_82\\\",\\n        \\\"FIELD_85\\\",\\n        \\\"FIELD_91\\\",\\n        \\\"FIELD_103\\\",\\n        \\\"FIELD_106\\\",\\n    ]\\n)\\n\\nmydata.head()\";\n",
       "                var nbb_cells = Jupyter.notebook.get_cells();\n",
       "                for (var i = 0; i < nbb_cells.length; ++i) {\n",
       "                    if (nbb_cells[i].input_prompt_number == nbb_cell_id) {\n",
       "                        nbb_cells[i].set_text(nbb_formatted_code);\n",
       "                        break;\n",
       "                    }\n",
       "                }\n",
       "            }, 500);\n",
       "            "
      ],
      "text/plain": [
       "<IPython.core.display.Javascript object>"
      ]
     },
     "metadata": {},
     "output_type": "display_data"
    }
   ],
   "source": [
    "# filter only categorical columns\n",
    "mydata = data[categorical_cols]\n",
    "# remove columns with string values as data type\n",
    "mydata = mydata.drop(\n",
    "    columns=[\n",
    "        \"FIELD_1\",\n",
    "        \"FIELD_2\",\n",
    "        \"FIELD_8\",\n",
    "        \"FIELD_10\",\n",
    "        \"FIELD_11\",\n",
    "        \"FIELD_12\",\n",
    "        \"FIELD_39\",\n",
    "        \"FIELD_88\",\n",
    "        \"FIELD_89\",\n",
    "        \"FIELD_109\",\n",
    "        \"FIELD_110\",\n",
    "        \"FIELD_111\",\n",
    "        \"FIELD_70\",\n",
    "        \"FIELD_82\",\n",
    "        \"FIELD_85\",\n",
    "        \"FIELD_91\",\n",
    "        \"FIELD_103\",\n",
    "        \"FIELD_106\",\n",
    "    ]\n",
    ")\n",
    "\n",
    "mydata.head()"
   ]
  },
  {
   "cell_type": "code",
   "execution_count": 20,
   "metadata": {},
   "outputs": [
    {
     "data": {
      "text/html": [
       "<div>\n",
       "<style scoped>\n",
       "    .dataframe tbody tr th:only-of-type {\n",
       "        vertical-align: middle;\n",
       "    }\n",
       "\n",
       "    .dataframe tbody tr th {\n",
       "        vertical-align: top;\n",
       "    }\n",
       "\n",
       "    .dataframe thead th {\n",
       "        text-align: right;\n",
       "    }\n",
       "</style>\n",
       "<table border=\"1\" class=\"dataframe\">\n",
       "  <thead>\n",
       "    <tr style=\"text-align: right;\">\n",
       "      <th></th>\n",
       "      <th>Blood_factor_RH_factor</th>\n",
       "      <th>blood_type</th>\n",
       "      <th>FIELD_5</th>\n",
       "      <th>FIELD_9</th>\n",
       "      <th>FIELD_13</th>\n",
       "      <th>Whether_one_diagnosis_disease</th>\n",
       "      <th>FIELD_15</th>\n",
       "      <th>FIELD_16</th>\n",
       "      <th>FIELD_17</th>\n",
       "      <th>FIELD_18</th>\n",
       "      <th>...</th>\n",
       "      <th>FIELD_134</th>\n",
       "      <th>FIELD_135</th>\n",
       "      <th>FIELD_136</th>\n",
       "      <th>FIELD_137</th>\n",
       "      <th>FIELD_138</th>\n",
       "      <th>FIELD_139</th>\n",
       "      <th>FIELD_140</th>\n",
       "      <th>FIELD_38_C</th>\n",
       "      <th>CLASS</th>\n",
       "      <th>SEX</th>\n",
       "    </tr>\n",
       "  </thead>\n",
       "  <tbody>\n",
       "    <tr>\n",
       "      <th>0</th>\n",
       "      <td>NaN</td>\n",
       "      <td>4</td>\n",
       "      <td>1</td>\n",
       "      <td>NaN</td>\n",
       "      <td>0.0</td>\n",
       "      <td>0.0</td>\n",
       "      <td>0.0</td>\n",
       "      <td>0.0</td>\n",
       "      <td>0.0</td>\n",
       "      <td>0.0</td>\n",
       "      <td>...</td>\n",
       "      <td>NaN</td>\n",
       "      <td>NaN</td>\n",
       "      <td>NaN</td>\n",
       "      <td>NaN</td>\n",
       "      <td>NaN</td>\n",
       "      <td>NaN</td>\n",
       "      <td>NaN</td>\n",
       "      <td>1.0</td>\n",
       "      <td>1</td>\n",
       "      <td>0.0</td>\n",
       "    </tr>\n",
       "    <tr>\n",
       "      <th>1</th>\n",
       "      <td>NaN</td>\n",
       "      <td>4</td>\n",
       "      <td>1</td>\n",
       "      <td>NaN</td>\n",
       "      <td>0.0</td>\n",
       "      <td>0.0</td>\n",
       "      <td>0.0</td>\n",
       "      <td>0.0</td>\n",
       "      <td>0.0</td>\n",
       "      <td>0.0</td>\n",
       "      <td>...</td>\n",
       "      <td>NaN</td>\n",
       "      <td>NaN</td>\n",
       "      <td>NaN</td>\n",
       "      <td>NaN</td>\n",
       "      <td>NaN</td>\n",
       "      <td>NaN</td>\n",
       "      <td>NaN</td>\n",
       "      <td>1.0</td>\n",
       "      <td>1</td>\n",
       "      <td>0.0</td>\n",
       "    </tr>\n",
       "    <tr>\n",
       "      <th>2</th>\n",
       "      <td>1</td>\n",
       "      <td>4</td>\n",
       "      <td>1</td>\n",
       "      <td>NaN</td>\n",
       "      <td>0.0</td>\n",
       "      <td>0.0</td>\n",
       "      <td>0.0</td>\n",
       "      <td>0.0</td>\n",
       "      <td>0.0</td>\n",
       "      <td>0.0</td>\n",
       "      <td>...</td>\n",
       "      <td>NaN</td>\n",
       "      <td>NaN</td>\n",
       "      <td>NaN</td>\n",
       "      <td>NaN</td>\n",
       "      <td>NaN</td>\n",
       "      <td>NaN</td>\n",
       "      <td>NaN</td>\n",
       "      <td>1.0</td>\n",
       "      <td>1</td>\n",
       "      <td>0.0</td>\n",
       "    </tr>\n",
       "    <tr>\n",
       "      <th>3</th>\n",
       "      <td>NaN</td>\n",
       "      <td>4</td>\n",
       "      <td>NaN</td>\n",
       "      <td>NaN</td>\n",
       "      <td>0.0</td>\n",
       "      <td>0.0</td>\n",
       "      <td>0.0</td>\n",
       "      <td>0.0</td>\n",
       "      <td>0.0</td>\n",
       "      <td>0.0</td>\n",
       "      <td>...</td>\n",
       "      <td>NaN</td>\n",
       "      <td>NaN</td>\n",
       "      <td>NaN</td>\n",
       "      <td>NaN</td>\n",
       "      <td>NaN</td>\n",
       "      <td>NaN</td>\n",
       "      <td>NaN</td>\n",
       "      <td>1.0</td>\n",
       "      <td>2</td>\n",
       "      <td>0.0</td>\n",
       "    </tr>\n",
       "    <tr>\n",
       "      <th>4</th>\n",
       "      <td>NaN</td>\n",
       "      <td>4</td>\n",
       "      <td>NaN</td>\n",
       "      <td>NaN</td>\n",
       "      <td>0.0</td>\n",
       "      <td>0.0</td>\n",
       "      <td>0.0</td>\n",
       "      <td>0.0</td>\n",
       "      <td>0.0</td>\n",
       "      <td>0.0</td>\n",
       "      <td>...</td>\n",
       "      <td>NaN</td>\n",
       "      <td>NaN</td>\n",
       "      <td>NaN</td>\n",
       "      <td>NaN</td>\n",
       "      <td>NaN</td>\n",
       "      <td>NaN</td>\n",
       "      <td>NaN</td>\n",
       "      <td>1.0</td>\n",
       "      <td>2</td>\n",
       "      <td>0.0</td>\n",
       "    </tr>\n",
       "  </tbody>\n",
       "</table>\n",
       "<p>5 rows × 113 columns</p>\n",
       "</div>"
      ],
      "text/plain": [
       "  Blood_factor_RH_factor blood_type FIELD_5  FIELD_9  FIELD_13  \\\n",
       "0                    NaN          4       1      NaN       0.0   \n",
       "1                    NaN          4       1      NaN       0.0   \n",
       "2                      1          4       1      NaN       0.0   \n",
       "3                    NaN          4     NaN      NaN       0.0   \n",
       "4                    NaN          4     NaN      NaN       0.0   \n",
       "\n",
       "   Whether_one_diagnosis_disease  FIELD_15  FIELD_16  FIELD_17  FIELD_18  ...  \\\n",
       "0                            0.0       0.0       0.0       0.0       0.0  ...   \n",
       "1                            0.0       0.0       0.0       0.0       0.0  ...   \n",
       "2                            0.0       0.0       0.0       0.0       0.0  ...   \n",
       "3                            0.0       0.0       0.0       0.0       0.0  ...   \n",
       "4                            0.0       0.0       0.0       0.0       0.0  ...   \n",
       "\n",
       "   FIELD_134  FIELD_135  FIELD_136  FIELD_137  FIELD_138  FIELD_139  \\\n",
       "0        NaN        NaN        NaN        NaN        NaN        NaN   \n",
       "1        NaN        NaN        NaN        NaN        NaN        NaN   \n",
       "2        NaN        NaN        NaN        NaN        NaN        NaN   \n",
       "3        NaN        NaN        NaN        NaN        NaN        NaN   \n",
       "4        NaN        NaN        NaN        NaN        NaN        NaN   \n",
       "\n",
       "   FIELD_140  FIELD_38_C  CLASS  SEX  \n",
       "0        NaN         1.0      1  0.0  \n",
       "1        NaN         1.0      1  0.0  \n",
       "2        NaN         1.0      1  0.0  \n",
       "3        NaN         1.0      2  0.0  \n",
       "4        NaN         1.0      2  0.0  \n",
       "\n",
       "[5 rows x 113 columns]"
      ]
     },
     "execution_count": 20,
     "metadata": {},
     "output_type": "execute_result"
    },
    {
     "data": {
      "application/javascript": [
       "\n",
       "            setTimeout(function() {\n",
       "                var nbb_cell_id = 20;\n",
       "                var nbb_formatted_code = \"# Data clean up\\nmydata = mydata.drop(\\n    mydata[[\\\"Blood_factor_RH_factor\\\"]][mydata[[\\\"Blood_factor_RH_factor\\\"]] == \\\"`\\\"]\\n    .dropna()\\n    .index\\n)\\nmydata = mydata.drop(\\n    mydata[[\\\"Blood_factor_RH_factor\\\"]][mydata[[\\\"Blood_factor_RH_factor\\\"]] == \\\"G\\\"]\\n    .dropna()\\n    .index\\n)\\n\\nmydata = mydata.drop(\\n    mydata[[\\\"blood_type\\\"]][mydata[[\\\"blood_type\\\"]] == \\\".\\\"].dropna().index\\n)\\nmydata = mydata.drop(mydata[mydata.FIELD_5 == \\\".\\\"].index)\\n\\n\\nmydata = mydata.drop(mydata[mydata.FIELD_35 == \\\"?\\\"].index)\\nmydata = mydata.drop(mydata[mydata.FIELD_35 == \\\".\\\"].index)\\nmydata = mydata.drop(mydata[mydata.FIELD_36 == \\\".\\\"].index)\\nmydata = mydata.drop(mydata[mydata.FIELD_37 == \\\"\\\\\\\\\\\"].index)\\nmydata.head()\\n\\n# mydata=mydata.drop(mydata[mydata.FIELD_39 == '7+' ].index)\\n# mydata=mydata.drop(mydata[mydata.FIELD_39 == '5~7'].index)\\n# mydata=mydata.drop(mydata[mydata.FIELD_39 == '3-4'].index)\\n\\n\\nmydata = mydata.drop(mydata[mydata.FIELD_95 == \\\".\\\"].index)\\nmydata.head()\\n\\nmydata.head()\";\n",
       "                var nbb_cells = Jupyter.notebook.get_cells();\n",
       "                for (var i = 0; i < nbb_cells.length; ++i) {\n",
       "                    if (nbb_cells[i].input_prompt_number == nbb_cell_id) {\n",
       "                        nbb_cells[i].set_text(nbb_formatted_code);\n",
       "                        break;\n",
       "                    }\n",
       "                }\n",
       "            }, 500);\n",
       "            "
      ],
      "text/plain": [
       "<IPython.core.display.Javascript object>"
      ]
     },
     "metadata": {},
     "output_type": "display_data"
    }
   ],
   "source": [
    "# Data clean up\n",
    "mydata = mydata.drop(\n",
    "    mydata[[\"Blood_factor_RH_factor\"]][mydata[[\"Blood_factor_RH_factor\"]] == \"`\"]\n",
    "    .dropna()\n",
    "    .index\n",
    ")\n",
    "mydata = mydata.drop(\n",
    "    mydata[[\"Blood_factor_RH_factor\"]][mydata[[\"Blood_factor_RH_factor\"]] == \"G\"]\n",
    "    .dropna()\n",
    "    .index\n",
    ")\n",
    "\n",
    "mydata = mydata.drop(\n",
    "    mydata[[\"blood_type\"]][mydata[[\"blood_type\"]] == \".\"].dropna().index\n",
    ")\n",
    "mydata = mydata.drop(mydata[mydata.FIELD_5 == \".\"].index)\n",
    "\n",
    "\n",
    "mydata = mydata.drop(mydata[mydata.FIELD_35 == \"?\"].index)\n",
    "mydata = mydata.drop(mydata[mydata.FIELD_35 == \".\"].index)\n",
    "mydata = mydata.drop(mydata[mydata.FIELD_36 == \".\"].index)\n",
    "mydata = mydata.drop(mydata[mydata.FIELD_37 == \"\\\\\"].index)\n",
    "mydata.head()\n",
    "\n",
    "# mydata=mydata.drop(mydata[mydata.FIELD_39 == '7+' ].index)\n",
    "# mydata=mydata.drop(mydata[mydata.FIELD_39 == '5~7'].index)\n",
    "# mydata=mydata.drop(mydata[mydata.FIELD_39 == '3-4'].index)\n",
    "\n",
    "\n",
    "mydata = mydata.drop(mydata[mydata.FIELD_95 == \".\"].index)\n",
    "mydata.head()\n",
    "\n",
    "mydata.head()"
   ]
  },
  {
   "cell_type": "code",
   "execution_count": 21,
   "metadata": {
    "scrolled": true
   },
   "outputs": [
    {
     "name": "stdout",
     "output_type": "stream",
     "text": [
      "0 Blood_factor_RH_factor\n",
      "1 blood_type\n",
      "2 FIELD_5\n",
      "3 FIELD_9\n",
      "4 FIELD_13\n",
      "5 Whether_one_diagnosis_disease\n",
      "6 FIELD_15\n",
      "7 FIELD_16\n",
      "8 FIELD_17\n",
      "9 FIELD_18\n",
      "10 _1_drug_therapy_stroke\n",
      "11 FIELD_20\n",
      "12 _1_medication_heart_disease\n",
      "13 FIELD_22\n",
      "14 FIELD_23\n",
      "15 FIELD_24\n",
      "16 FIELD_25\n",
      "17 FIELD_26\n",
      "18 _2_family_history_stroke\n",
      "19 FIELD_28\n",
      "20 _2_family_history_hypertension\n",
      "21 FIELD_30\n",
      "22 Family_history\n",
      "23 _3B_hepatitis\n",
      "24 _4_1_Smoking\n",
      "25 FIELD_34\n",
      "26 FIELD_35\n",
      "27 FIELD_36\n",
      "28 FIELD_37\n",
      "29 Drinking_5_1_days\n",
      "30 _6_1_of_physical_activity_high_strength\n",
      "31 _6_2_of_physical_activity_moderate\n",
      "32 _6_3_of_physical_activity_walking\n",
      "33 FIELD_43\n",
      "34 FIELD_44\n",
      "35 FIELD_45\n",
      "36 FIELD_46\n",
      "37 FIELD_47\n",
      "38 FIELD_48\n",
      "39 FIELD_49\n",
      "40 FIELD_50\n",
      "41 FIELD_51\n",
      "42 FIELD_52\n",
      "43 FIELD_53\n",
      "44 FIELD_54\n",
      "45 FIELD_55\n",
      "46 FIELD_56\n",
      "47 FIELD_57\n",
      "48 FIELD_58\n",
      "49 FIELD_59\n",
      "50 FIELD_60\n",
      "51 FIELD_61\n",
      "52 FIELD_62\n",
      "53 FIELD_63\n",
      "54 FIELD_64\n",
      "55 FIELD_65\n",
      "56 FIELD_66\n",
      "57 FIELD_67\n",
      "58 FIELD_68\n",
      "59 FIELD_69\n",
      "60 FIELD_72\n",
      "61 FIELD_73\n",
      "62 FIELD_74\n",
      "63 FIELD_75\n",
      "64 FIELD_76\n",
      "65 FIELD_77\n",
      "66 FIELD_80\n",
      "67 FIELD_81\n",
      "68 FIELD_84\n",
      "69 FIELD_87\n",
      "70 FIELD_90\n",
      "71 FIELD_93\n",
      "72 FIELD_94\n",
      "73 FIELD_95\n",
      "74 FIELD_96\n",
      "75 FIELD_97\n",
      "76 FIELD_98\n",
      "77 FIELD_101\n",
      "78 FIELD_102\n",
      "79 FIELD_105\n",
      "80 FIELD_108\n",
      "81 FIELD_112\n",
      "82 FIELD_113\n",
      "83 FIELD_114\n",
      "84 FIELD_115\n",
      "85 FIELD_116\n",
      "86 FIELD_117\n",
      "87 FIELD_118\n",
      "88 FIELD_119\n",
      "89 FIELD_120\n",
      "90 FIELD_121\n",
      "91 FIELD_122\n",
      "92 FIELD_123\n",
      "93 FIELD_124\n",
      "94 FIELD_125\n",
      "95 FIELD_126\n",
      "96 FIELD_127\n",
      "97 FIELD_128\n",
      "98 FIELD_129\n",
      "99 FIELD_130\n",
      "100 FIELD_131\n",
      "101 FIELD_132\n",
      "102 FIELD_133\n",
      "103 FIELD_134\n",
      "104 FIELD_135\n",
      "105 FIELD_136\n",
      "106 FIELD_137\n",
      "107 FIELD_138\n",
      "108 FIELD_139\n",
      "109 FIELD_140\n",
      "110 FIELD_38_C\n",
      "111 CLASS\n",
      "112 SEX\n"
     ]
    },
    {
     "data": {
      "application/javascript": [
       "\n",
       "            setTimeout(function() {\n",
       "                var nbb_cell_id = 21;\n",
       "                var nbb_formatted_code = \"AllTables = []\\n\\n# prepare the table indicating the number of entries per class and per each column group\\nfor j in range(len(mydata.columns)):\\n\\n    columnName = mydata.columns[j]\\n    print(j, columnName)\\n\\n    temp = mydata[columnName].dropna().astype(float).unique()\\n    mytempdata = mydata[[columnName, \\\"CLASS\\\"]].dropna()\\n    mytempdata[columnName] = mytempdata[columnName].astype(float)\\n    temptable = []\\n\\n    sumval = 0\\n\\n    for i in range(temp.shape[0]):\\n\\n        temp_i_val = str(temp[i])\\n        class0_count = mytempdata.query(\\n            columnName + \\\" == \\\" + (temp_i_val) + \\\" & CLASS == 0\\\"\\n        ).shape[0]\\n        class1_count = mytempdata.query(\\n            columnName + \\\" == \\\" + (temp_i_val) + \\\" & CLASS == 1\\\"\\n        ).shape[0]\\n        class2_count = mytempdata.query(\\n            columnName + \\\" == \\\" + (temp_i_val) + \\\" & CLASS == 2\\\"\\n        ).shape[0]\\n\\n        sumval = sumval + (class0_count + class1_count + class2_count)\\n\\n        temptable.append([class0_count, class1_count, class2_count])\\n\\n    #     print(sumval,mytempdata.shape[0], mytempdata.shape[0] == sumval)\\n\\n    if len(temptable) > 1:\\n        AllTables.append([temptable, columnName, mytempdata.shape[0]])\";\n",
       "                var nbb_cells = Jupyter.notebook.get_cells();\n",
       "                for (var i = 0; i < nbb_cells.length; ++i) {\n",
       "                    if (nbb_cells[i].input_prompt_number == nbb_cell_id) {\n",
       "                        nbb_cells[i].set_text(nbb_formatted_code);\n",
       "                        break;\n",
       "                    }\n",
       "                }\n",
       "            }, 500);\n",
       "            "
      ],
      "text/plain": [
       "<IPython.core.display.Javascript object>"
      ]
     },
     "metadata": {},
     "output_type": "display_data"
    }
   ],
   "source": [
    "AllTables = []\n",
    "\n",
    "# prepare the table indicating the number of entries per class and per each column group\n",
    "for j in range(len(mydata.columns)):\n",
    "\n",
    "    columnName = mydata.columns[j]\n",
    "    print(j, columnName)\n",
    "\n",
    "    temp = mydata[columnName].dropna().astype(float).unique()\n",
    "    mytempdata = mydata[[columnName, \"CLASS\"]].dropna()\n",
    "    mytempdata[columnName] = mytempdata[columnName].astype(float)\n",
    "    temptable = []\n",
    "\n",
    "    sumval = 0\n",
    "\n",
    "    for i in range(temp.shape[0]):\n",
    "\n",
    "        temp_i_val = str(temp[i])\n",
    "        class0_count = mytempdata.query(\n",
    "            columnName + \" == \" + (temp_i_val) + \" & CLASS == 0\"\n",
    "        ).shape[0]\n",
    "        class1_count = mytempdata.query(\n",
    "            columnName + \" == \" + (temp_i_val) + \" & CLASS == 1\"\n",
    "        ).shape[0]\n",
    "        class2_count = mytempdata.query(\n",
    "            columnName + \" == \" + (temp_i_val) + \" & CLASS == 2\"\n",
    "        ).shape[0]\n",
    "\n",
    "        sumval = sumval + (class0_count + class1_count + class2_count)\n",
    "\n",
    "        temptable.append([class0_count, class1_count, class2_count])\n",
    "\n",
    "    #     print(sumval,mytempdata.shape[0], mytempdata.shape[0] == sumval)\n",
    "\n",
    "    if len(temptable) > 1:\n",
    "        AllTables.append([temptable, columnName, mytempdata.shape[0]])"
   ]
  },
  {
   "cell_type": "code",
   "execution_count": 22,
   "metadata": {
    "scrolled": true
   },
   "outputs": [
    {
     "data": {
      "application/javascript": [
       "\n",
       "            setTimeout(function() {\n",
       "                var nbb_cell_id = 22;\n",
       "                var nbb_formatted_code = \"# compute the statisitical values\\nstatas = []\\nfor i in range(len(AllTables)):\\n    #     print(i,AllTables[i][1])\\n    table = AllTables[i][0]\\n    stat, p, dof, expected = chi2_contingency(table)\\n    statas.append(\\n        [\\n            AllTables[i][1],\\n            stat,\\n            p,\\n            dof,\\n            np.sum(table),\\n            AllTables[i][2],\\n            AllTables[i][1],\\n            table,\\n            expected,\\n        ]\\n    )\";\n",
       "                var nbb_cells = Jupyter.notebook.get_cells();\n",
       "                for (var i = 0; i < nbb_cells.length; ++i) {\n",
       "                    if (nbb_cells[i].input_prompt_number == nbb_cell_id) {\n",
       "                        nbb_cells[i].set_text(nbb_formatted_code);\n",
       "                        break;\n",
       "                    }\n",
       "                }\n",
       "            }, 500);\n",
       "            "
      ],
      "text/plain": [
       "<IPython.core.display.Javascript object>"
      ]
     },
     "metadata": {},
     "output_type": "display_data"
    }
   ],
   "source": [
    "# compute the statisitical values\n",
    "statas = []\n",
    "for i in range(len(AllTables)):\n",
    "    #     print(i,AllTables[i][1])\n",
    "    table = AllTables[i][0]\n",
    "    stat, p, dof, expected = chi2_contingency(table)\n",
    "    statas.append(\n",
    "        [\n",
    "            AllTables[i][1],\n",
    "            stat,\n",
    "            p,\n",
    "            dof,\n",
    "            np.sum(table),\n",
    "            AllTables[i][2],\n",
    "            AllTables[i][1],\n",
    "            table,\n",
    "            expected,\n",
    "        ]\n",
    "    )"
   ]
  },
  {
   "cell_type": "code",
   "execution_count": 23,
   "metadata": {},
   "outputs": [
    {
     "name": "stdout",
     "output_type": "stream",
     "text": [
      "['CLASS', 'SEX', '_4_1_Smoking', 'Drinking_5_1_days', 'FIELD_38_C', '_6_1_of_physical_activity_high_strength', '_6_2_of_physical_activity_moderate', '_2_family_history_hypertension', '_2_family_history_stroke', '_6_3_of_physical_activity_walking', 'blood_type', '_3B_hepatitis', 'FIELD_28', 'Whether_one_diagnosis_disease', 'FIELD_13']\n"
     ]
    },
    {
     "data": {
      "text/html": [
       "<div>\n",
       "<style scoped>\n",
       "    .dataframe tbody tr th:only-of-type {\n",
       "        vertical-align: middle;\n",
       "    }\n",
       "\n",
       "    .dataframe tbody tr th {\n",
       "        vertical-align: top;\n",
       "    }\n",
       "\n",
       "    .dataframe thead th {\n",
       "        text-align: right;\n",
       "    }\n",
       "</style>\n",
       "<table border=\"1\" class=\"dataframe\">\n",
       "  <thead>\n",
       "    <tr style=\"text-align: right;\">\n",
       "      <th></th>\n",
       "      <th>Name</th>\n",
       "      <th>stat</th>\n",
       "      <th>instances</th>\n",
       "    </tr>\n",
       "  </thead>\n",
       "  <tbody>\n",
       "    <tr>\n",
       "      <th>103</th>\n",
       "      <td>CLASS</td>\n",
       "      <td>933332</td>\n",
       "      <td>466666</td>\n",
       "    </tr>\n",
       "    <tr>\n",
       "      <th>104</th>\n",
       "      <td>SEX</td>\n",
       "      <td>48070</td>\n",
       "      <td>466665</td>\n",
       "    </tr>\n",
       "    <tr>\n",
       "      <th>18</th>\n",
       "      <td>_4_1_Smoking</td>\n",
       "      <td>18001</td>\n",
       "      <td>464395</td>\n",
       "    </tr>\n",
       "    <tr>\n",
       "      <th>23</th>\n",
       "      <td>Drinking_5_1_days</td>\n",
       "      <td>11736</td>\n",
       "      <td>433985</td>\n",
       "    </tr>\n",
       "    <tr>\n",
       "      <th>102</th>\n",
       "      <td>FIELD_38_C</td>\n",
       "      <td>7970</td>\n",
       "      <td>433985</td>\n",
       "    </tr>\n",
       "    <tr>\n",
       "      <th>24</th>\n",
       "      <td>_6_1_of_physical_activity_high_strength</td>\n",
       "      <td>3590</td>\n",
       "      <td>434053</td>\n",
       "    </tr>\n",
       "    <tr>\n",
       "      <th>25</th>\n",
       "      <td>_6_2_of_physical_activity_moderate</td>\n",
       "      <td>1778</td>\n",
       "      <td>433981</td>\n",
       "    </tr>\n",
       "    <tr>\n",
       "      <th>14</th>\n",
       "      <td>_2_family_history_hypertension</td>\n",
       "      <td>595</td>\n",
       "      <td>463809</td>\n",
       "    </tr>\n",
       "    <tr>\n",
       "      <th>12</th>\n",
       "      <td>_2_family_history_stroke</td>\n",
       "      <td>525</td>\n",
       "      <td>463298</td>\n",
       "    </tr>\n",
       "    <tr>\n",
       "      <th>26</th>\n",
       "      <td>_6_3_of_physical_activity_walking</td>\n",
       "      <td>390</td>\n",
       "      <td>433936</td>\n",
       "    </tr>\n",
       "  </tbody>\n",
       "</table>\n",
       "</div>"
      ],
      "text/plain": [
       "                                        Name    stat  instances\n",
       "103                                    CLASS  933332     466666\n",
       "104                                      SEX   48070     466665\n",
       "18                              _4_1_Smoking   18001     464395\n",
       "23                         Drinking_5_1_days   11736     433985\n",
       "102                               FIELD_38_C    7970     433985\n",
       "24   _6_1_of_physical_activity_high_strength    3590     434053\n",
       "25        _6_2_of_physical_activity_moderate    1778     433981\n",
       "14            _2_family_history_hypertension     595     463809\n",
       "12                  _2_family_history_stroke     525     463298\n",
       "26         _6_3_of_physical_activity_walking     390     433936"
      ]
     },
     "execution_count": 23,
     "metadata": {},
     "output_type": "execute_result"
    },
    {
     "data": {
      "application/javascript": [
       "\n",
       "            setTimeout(function() {\n",
       "                var nbb_cell_id = 23;\n",
       "                var nbb_formatted_code = \"# convert the computed status to dataframe\\nfinalstat = pd.DataFrame(\\n    statas,\\n    columns=[\\n        \\\"Name\\\",\\n        \\\"stat\\\",\\n        \\\"p\\\",\\n        \\\"dof\\\",\\n        \\\"instances\\\",\\n        \\\"orginal\\\",\\n        \\\"Name2\\\",\\n        \\\"table\\\",\\n        \\\"expected\\\",\\n    ],\\n)\\nfinalstat = finalstat[\\n    finalstat.orginal > 200000\\n]  # select columns with count at least 200, 000\\n\\n# sort stat value and select top 20 features\\nfinalstat.stat = finalstat.stat.astype(int)\\nfinalstat = finalstat.sort_values(by=\\\"stat\\\", ascending=False)\\n\\nprint(list(finalstat.Name[:15]))\\nfinalstat[[\\\"Name\\\", \\\"stat\\\", \\\"instances\\\"]].head(10)\";\n",
       "                var nbb_cells = Jupyter.notebook.get_cells();\n",
       "                for (var i = 0; i < nbb_cells.length; ++i) {\n",
       "                    if (nbb_cells[i].input_prompt_number == nbb_cell_id) {\n",
       "                        nbb_cells[i].set_text(nbb_formatted_code);\n",
       "                        break;\n",
       "                    }\n",
       "                }\n",
       "            }, 500);\n",
       "            "
      ],
      "text/plain": [
       "<IPython.core.display.Javascript object>"
      ]
     },
     "metadata": {},
     "output_type": "display_data"
    }
   ],
   "source": [
    "# convert the computed status to dataframe\n",
    "finalstat = pd.DataFrame(\n",
    "    statas,\n",
    "    columns=[\n",
    "        \"Name\",\n",
    "        \"stat\",\n",
    "        \"p\",\n",
    "        \"dof\",\n",
    "        \"instances\",\n",
    "        \"orginal\",\n",
    "        \"Name2\",\n",
    "        \"table\",\n",
    "        \"expected\",\n",
    "    ],\n",
    ")\n",
    "finalstat = finalstat[\n",
    "    finalstat.orginal > 200000\n",
    "]  # select columns with count at least 200, 000\n",
    "\n",
    "# sort stat value and select top 20 features\n",
    "finalstat.stat = finalstat.stat.astype(int)\n",
    "finalstat = finalstat.sort_values(by=\"stat\", ascending=False)\n",
    "\n",
    "print(list(finalstat.Name[:15]))\n",
    "finalstat[[\"Name\", \"stat\", \"instances\"]].head(10)"
   ]
  },
  {
   "cell_type": "markdown",
   "metadata": {},
   "source": [
    "3 Refine the selected numerical and categorical features\n",
    "===="
   ]
  },
  {
   "cell_type": "code",
   "execution_count": 25,
   "metadata": {},
   "outputs": [
    {
     "data": {
      "application/javascript": [
       "\n",
       "            setTimeout(function() {\n",
       "                var nbb_cell_id = 25;\n",
       "                var nbb_formatted_code = \"# combine the selected columns list from section 2.1.2 and 2.2.1\\n\\nnewColList = [\\n    \\\"BMI\\\",\\n    \\\"Uric Acid\\\",\\n    \\\"Triglycerides\\\",\\n    \\\"fasting glucose\\\",\\n    \\\"L100500\\\",\\n    \\\"r-GTP gamma\\\",\\n    \\\"S000100\\\",\\n    \\\"SGPT\\\",\\n    \\\"L101600\\\",\\n    \\\"_4_1_Smoking\\\",\\n    \\\"Drinking_5_1_days\\\",\\n    \\\"FIELD_38_C\\\",\\n    \\\"_6_1_of_physical_activity_high_strength\\\",\\n    \\\"_6_2_of_physical_activity_moderate\\\",\\n    \\\"_2_family_history_hypertension\\\",\\n    \\\"_2_family_history_stroke\\\",\\n    \\\"_6_3_of_physical_activity_walking\\\",\\n    \\\"_3B_hepatitis\\\",\\n    \\\"FIELD_28\\\",\\n    \\\"Whether_one_diagnosis_disease\\\",\\n    \\\"FIELD_13\\\",\\n    \\\"AGE\\\",\\n    \\\"CLASS\\\",\\n]\";\n",
       "                var nbb_cells = Jupyter.notebook.get_cells();\n",
       "                for (var i = 0; i < nbb_cells.length; ++i) {\n",
       "                    if (nbb_cells[i].input_prompt_number == nbb_cell_id) {\n",
       "                        nbb_cells[i].set_text(nbb_formatted_code);\n",
       "                        break;\n",
       "                    }\n",
       "                }\n",
       "            }, 500);\n",
       "            "
      ],
      "text/plain": [
       "<IPython.core.display.Javascript object>"
      ]
     },
     "metadata": {},
     "output_type": "display_data"
    }
   ],
   "source": [
    "# combine the selected columns list from section 2.1.2 and 2.2.1\n",
    "\n",
    "newColList = [\n",
    "    \"BMI\",\n",
    "    \"Uric Acid\",\n",
    "    \"Triglycerides\",\n",
    "    \"fasting glucose\",\n",
    "    \"L100500\",\n",
    "    \"r-GTP gamma\",\n",
    "    \"S000100\",\n",
    "    \"SGPT\",\n",
    "    \"L101600\",\n",
    "    \"_4_1_Smoking\",\n",
    "    \"Drinking_5_1_days\",\n",
    "    \"FIELD_38_C\",\n",
    "    \"_6_1_of_physical_activity_high_strength\",\n",
    "    \"_6_2_of_physical_activity_moderate\",\n",
    "    \"_2_family_history_hypertension\",\n",
    "    \"_2_family_history_stroke\",\n",
    "    \"_6_3_of_physical_activity_walking\",\n",
    "    \"_3B_hepatitis\",\n",
    "    \"FIELD_28\",\n",
    "    \"Whether_one_diagnosis_disease\",\n",
    "    \"FIELD_13\",\n",
    "    \"AGE\",\n",
    "    \"CLASS\",\n",
    "]"
   ]
  },
  {
   "cell_type": "code",
   "execution_count": 26,
   "metadata": {},
   "outputs": [
    {
     "name": "stdout",
     "output_type": "stream",
     "text": [
      "(403755, 23)\n"
     ]
    },
    {
     "data": {
      "application/javascript": [
       "\n",
       "            setTimeout(function() {\n",
       "                var nbb_cell_id = 26;\n",
       "                var nbb_formatted_code = \"# filter a new data based on the selected columns\\nmydata = data[newColList].copy().dropna()\\n\\n# mydata = mydata.drop(\\n#     mydata[[\\\"blood_type\\\"]][mydata[[\\\"blood_type\\\"]] == \\\".\\\"].dropna().index\\n# )\\n# mydata = mydata.drop(\\n#     mydata[[\\\"Blood_factor_RH_factor\\\"]][mydata[[\\\"Blood_factor_RH_factor\\\"]] == \\\"G\\\"]\\n#     .dropna()\\n#     .index\\n# )\\n\\nprint(mydata.shape)\";\n",
       "                var nbb_cells = Jupyter.notebook.get_cells();\n",
       "                for (var i = 0; i < nbb_cells.length; ++i) {\n",
       "                    if (nbb_cells[i].input_prompt_number == nbb_cell_id) {\n",
       "                        nbb_cells[i].set_text(nbb_formatted_code);\n",
       "                        break;\n",
       "                    }\n",
       "                }\n",
       "            }, 500);\n",
       "            "
      ],
      "text/plain": [
       "<IPython.core.display.Javascript object>"
      ]
     },
     "metadata": {},
     "output_type": "display_data"
    }
   ],
   "source": [
    "# filter a new data based on the selected columns\n",
    "mydata = data[newColList].copy().dropna()\n",
    "\n",
    "# mydata = mydata.drop(\n",
    "#     mydata[[\"blood_type\"]][mydata[[\"blood_type\"]] == \".\"].dropna().index\n",
    "# )\n",
    "# mydata = mydata.drop(\n",
    "#     mydata[[\"Blood_factor_RH_factor\"]][mydata[[\"Blood_factor_RH_factor\"]] == \"G\"]\n",
    "#     .dropna()\n",
    "#     .index\n",
    "# )\n",
    "\n",
    "print(mydata.shape)"
   ]
  },
  {
   "cell_type": "code",
   "execution_count": 27,
   "metadata": {},
   "outputs": [
    {
     "name": "stdout",
     "output_type": "stream",
     "text": [
      "(403755, 22)\n"
     ]
    },
    {
     "data": {
      "text/html": [
       "<div>\n",
       "<style scoped>\n",
       "    .dataframe tbody tr th:only-of-type {\n",
       "        vertical-align: middle;\n",
       "    }\n",
       "\n",
       "    .dataframe tbody tr th {\n",
       "        vertical-align: top;\n",
       "    }\n",
       "\n",
       "    .dataframe thead th {\n",
       "        text-align: right;\n",
       "    }\n",
       "</style>\n",
       "<table border=\"1\" class=\"dataframe\">\n",
       "  <thead>\n",
       "    <tr style=\"text-align: right;\">\n",
       "      <th></th>\n",
       "      <th>BMI</th>\n",
       "      <th>Uric Acid</th>\n",
       "      <th>Triglycerides</th>\n",
       "      <th>fasting glucose</th>\n",
       "      <th>L100500</th>\n",
       "      <th>r-GTP gamma</th>\n",
       "      <th>S000100</th>\n",
       "      <th>SGPT</th>\n",
       "      <th>L101600</th>\n",
       "      <th>_4_1_Smoking</th>\n",
       "      <th>...</th>\n",
       "      <th>_6_2_of_physical_activity_moderate</th>\n",
       "      <th>_2_family_history_hypertension</th>\n",
       "      <th>_2_family_history_stroke</th>\n",
       "      <th>_6_3_of_physical_activity_walking</th>\n",
       "      <th>_3B_hepatitis</th>\n",
       "      <th>FIELD_28</th>\n",
       "      <th>Whether_one_diagnosis_disease</th>\n",
       "      <th>FIELD_13</th>\n",
       "      <th>AGE</th>\n",
       "      <th>CLASS</th>\n",
       "    </tr>\n",
       "  </thead>\n",
       "  <tbody>\n",
       "    <tr>\n",
       "      <th>0</th>\n",
       "      <td>22.6</td>\n",
       "      <td>2.6</td>\n",
       "      <td>70.0</td>\n",
       "      <td>111.0</td>\n",
       "      <td>1.0</td>\n",
       "      <td>31.0</td>\n",
       "      <td>167.0</td>\n",
       "      <td>16.0</td>\n",
       "      <td>48.0</td>\n",
       "      <td>2.0</td>\n",
       "      <td>...</td>\n",
       "      <td>7.0</td>\n",
       "      <td>0.0</td>\n",
       "      <td>0.0</td>\n",
       "      <td>7.0</td>\n",
       "      <td>2.0</td>\n",
       "      <td>0.0</td>\n",
       "      <td>0.0</td>\n",
       "      <td>0.0</td>\n",
       "      <td>46.0</td>\n",
       "      <td>1</td>\n",
       "    </tr>\n",
       "    <tr>\n",
       "      <th>1</th>\n",
       "      <td>22.9</td>\n",
       "      <td>3.7</td>\n",
       "      <td>50.0</td>\n",
       "      <td>103.0</td>\n",
       "      <td>1.2</td>\n",
       "      <td>34.0</td>\n",
       "      <td>166.0</td>\n",
       "      <td>15.0</td>\n",
       "      <td>49.0</td>\n",
       "      <td>2.0</td>\n",
       "      <td>...</td>\n",
       "      <td>4.0</td>\n",
       "      <td>0.0</td>\n",
       "      <td>0.0</td>\n",
       "      <td>5.0</td>\n",
       "      <td>2.0</td>\n",
       "      <td>0.0</td>\n",
       "      <td>0.0</td>\n",
       "      <td>0.0</td>\n",
       "      <td>47.0</td>\n",
       "      <td>1</td>\n",
       "    </tr>\n",
       "    <tr>\n",
       "      <th>2</th>\n",
       "      <td>24.3</td>\n",
       "      <td>2.6</td>\n",
       "      <td>75.0</td>\n",
       "      <td>113.0</td>\n",
       "      <td>1.1</td>\n",
       "      <td>36.0</td>\n",
       "      <td>166.0</td>\n",
       "      <td>15.0</td>\n",
       "      <td>42.0</td>\n",
       "      <td>2.0</td>\n",
       "      <td>...</td>\n",
       "      <td>3.0</td>\n",
       "      <td>0.0</td>\n",
       "      <td>0.0</td>\n",
       "      <td>3.0</td>\n",
       "      <td>2.0</td>\n",
       "      <td>0.0</td>\n",
       "      <td>0.0</td>\n",
       "      <td>0.0</td>\n",
       "      <td>48.0</td>\n",
       "      <td>1</td>\n",
       "    </tr>\n",
       "    <tr>\n",
       "      <th>3</th>\n",
       "      <td>24.3</td>\n",
       "      <td>2.0</td>\n",
       "      <td>130.0</td>\n",
       "      <td>105.0</td>\n",
       "      <td>1.0</td>\n",
       "      <td>39.0</td>\n",
       "      <td>166.0</td>\n",
       "      <td>15.0</td>\n",
       "      <td>53.0</td>\n",
       "      <td>2.0</td>\n",
       "      <td>...</td>\n",
       "      <td>0.0</td>\n",
       "      <td>0.0</td>\n",
       "      <td>0.0</td>\n",
       "      <td>0.0</td>\n",
       "      <td>3.0</td>\n",
       "      <td>0.0</td>\n",
       "      <td>0.0</td>\n",
       "      <td>0.0</td>\n",
       "      <td>49.0</td>\n",
       "      <td>2</td>\n",
       "    </tr>\n",
       "    <tr>\n",
       "      <th>4</th>\n",
       "      <td>23.7</td>\n",
       "      <td>2.8</td>\n",
       "      <td>92.0</td>\n",
       "      <td>118.0</td>\n",
       "      <td>1.0</td>\n",
       "      <td>24.0</td>\n",
       "      <td>167.0</td>\n",
       "      <td>12.0</td>\n",
       "      <td>49.0</td>\n",
       "      <td>2.0</td>\n",
       "      <td>...</td>\n",
       "      <td>2.0</td>\n",
       "      <td>0.0</td>\n",
       "      <td>0.0</td>\n",
       "      <td>2.0</td>\n",
       "      <td>3.0</td>\n",
       "      <td>0.0</td>\n",
       "      <td>0.0</td>\n",
       "      <td>0.0</td>\n",
       "      <td>50.0</td>\n",
       "      <td>2</td>\n",
       "    </tr>\n",
       "  </tbody>\n",
       "</table>\n",
       "<p>5 rows × 23 columns</p>\n",
       "</div>"
      ],
      "text/plain": [
       "    BMI  Uric Acid  Triglycerides  fasting glucose  L100500  r-GTP gamma  \\\n",
       "0  22.6        2.6           70.0            111.0      1.0         31.0   \n",
       "1  22.9        3.7           50.0            103.0      1.2         34.0   \n",
       "2  24.3        2.6           75.0            113.0      1.1         36.0   \n",
       "3  24.3        2.0          130.0            105.0      1.0         39.0   \n",
       "4  23.7        2.8           92.0            118.0      1.0         24.0   \n",
       "\n",
       "   S000100  SGPT  L101600  _4_1_Smoking  ...  \\\n",
       "0    167.0  16.0     48.0           2.0  ...   \n",
       "1    166.0  15.0     49.0           2.0  ...   \n",
       "2    166.0  15.0     42.0           2.0  ...   \n",
       "3    166.0  15.0     53.0           2.0  ...   \n",
       "4    167.0  12.0     49.0           2.0  ...   \n",
       "\n",
       "   _6_2_of_physical_activity_moderate  _2_family_history_hypertension  \\\n",
       "0                                 7.0                             0.0   \n",
       "1                                 4.0                             0.0   \n",
       "2                                 3.0                             0.0   \n",
       "3                                 0.0                             0.0   \n",
       "4                                 2.0                             0.0   \n",
       "\n",
       "   _2_family_history_stroke  _6_3_of_physical_activity_walking  _3B_hepatitis  \\\n",
       "0                       0.0                                7.0            2.0   \n",
       "1                       0.0                                5.0            2.0   \n",
       "2                       0.0                                3.0            2.0   \n",
       "3                       0.0                                0.0            3.0   \n",
       "4                       0.0                                2.0            3.0   \n",
       "\n",
       "   FIELD_28  Whether_one_diagnosis_disease  FIELD_13   AGE  CLASS  \n",
       "0       0.0                            0.0       0.0  46.0      1  \n",
       "1       0.0                            0.0       0.0  47.0      1  \n",
       "2       0.0                            0.0       0.0  48.0      1  \n",
       "3       0.0                            0.0       0.0  49.0      2  \n",
       "4       0.0                            0.0       0.0  50.0      2  \n",
       "\n",
       "[5 rows x 23 columns]"
      ]
     },
     "execution_count": 27,
     "metadata": {},
     "output_type": "execute_result"
    },
    {
     "data": {
      "application/javascript": [
       "\n",
       "            setTimeout(function() {\n",
       "                var nbb_cell_id = 27;\n",
       "                var nbb_formatted_code = \"x = mydata[\\n    [\\n        \\\"BMI\\\",\\n        \\\"Uric Acid\\\",\\n        \\\"Triglycerides\\\",\\n        \\\"fasting glucose\\\",\\n        \\\"L100500\\\",\\n        \\\"r-GTP gamma\\\",\\n        \\\"S000100\\\",\\n        \\\"SGPT\\\",\\n        \\\"L101600\\\",\\n        \\\"_4_1_Smoking\\\",\\n        \\\"Drinking_5_1_days\\\",\\n        \\\"FIELD_38_C\\\",\\n        \\\"_6_1_of_physical_activity_high_strength\\\",\\n        \\\"_6_2_of_physical_activity_moderate\\\",\\n        \\\"_2_family_history_hypertension\\\",\\n        \\\"_2_family_history_stroke\\\",\\n        \\\"_6_3_of_physical_activity_walking\\\",\\n        \\\"_3B_hepatitis\\\",\\n        \\\"FIELD_28\\\",\\n        \\\"Whether_one_diagnosis_disease\\\",\\n        \\\"FIELD_13\\\",\\n        \\\"AGE\\\",\\n    ]\\n]\\n\\n\\ny = mydata[[\\\"CLASS\\\"]]\\n\\nprint(x.shape)\\nmydata.head()\";\n",
       "                var nbb_cells = Jupyter.notebook.get_cells();\n",
       "                for (var i = 0; i < nbb_cells.length; ++i) {\n",
       "                    if (nbb_cells[i].input_prompt_number == nbb_cell_id) {\n",
       "                        nbb_cells[i].set_text(nbb_formatted_code);\n",
       "                        break;\n",
       "                    }\n",
       "                }\n",
       "            }, 500);\n",
       "            "
      ],
      "text/plain": [
       "<IPython.core.display.Javascript object>"
      ]
     },
     "metadata": {},
     "output_type": "display_data"
    }
   ],
   "source": [
    "x = mydata[\n",
    "    [\n",
    "        \"BMI\",\n",
    "        \"Uric Acid\",\n",
    "        \"Triglycerides\",\n",
    "        \"fasting glucose\",\n",
    "        \"L100500\",\n",
    "        \"r-GTP gamma\",\n",
    "        \"S000100\",\n",
    "        \"SGPT\",\n",
    "        \"L101600\",\n",
    "        \"_4_1_Smoking\",\n",
    "        \"Drinking_5_1_days\",\n",
    "        \"FIELD_38_C\",\n",
    "        \"_6_1_of_physical_activity_high_strength\",\n",
    "        \"_6_2_of_physical_activity_moderate\",\n",
    "        \"_2_family_history_hypertension\",\n",
    "        \"_2_family_history_stroke\",\n",
    "        \"_6_3_of_physical_activity_walking\",\n",
    "        \"_3B_hepatitis\",\n",
    "        \"FIELD_28\",\n",
    "        \"Whether_one_diagnosis_disease\",\n",
    "        \"FIELD_13\",\n",
    "        \"AGE\",\n",
    "    ]\n",
    "]\n",
    "\n",
    "\n",
    "y = mydata[[\"CLASS\"]]\n",
    "\n",
    "print(x.shape)\n",
    "mydata.head()"
   ]
  },
  {
   "cell_type": "markdown",
   "metadata": {},
   "source": [
    "3.1 ExtraTreesClassifier feature_importances method\n",
    "========================"
   ]
  },
  {
   "cell_type": "code",
   "execution_count": 28,
   "metadata": {},
   "outputs": [
    {
     "name": "stdout",
     "output_type": "stream",
     "text": [
      "[0.10570419 0.08500715 0.08220143 0.07381446 0.05819971 0.07334343\n",
      " 0.07957233 0.06730125 0.06763988 0.02288135 0.02065814 0.00850015\n",
      " 0.03484532 0.03874637 0.00559278 0.00614147 0.05117037 0.03225982\n",
      " 0.0079443  0.00157902 0.00063499 0.07626208]\n"
     ]
    },
    {
     "data": {
      "image/png": "[encoded data removed]",
      "text/plain": [
       "<Figure size 432x288 with 1 Axes>"
      ]
     },
     "metadata": {
      "needs_background": "light"
     },
     "output_type": "display_data"
    },
    {
     "name": "stdout",
     "output_type": "stream",
     "text": [
      "Index(['BMI', 'Uric Acid', 'Triglycerides', 'S000100', 'AGE',\n",
      "       'fasting glucose', 'r-GTP gamma', 'L101600', 'SGPT', 'L100500',\n",
      "       '_6_3_of_physical_activity_walking',\n",
      "       '_6_2_of_physical_activity_moderate',\n",
      "       '_6_1_of_physical_activity_high_strength', '_3B_hepatitis',\n",
      "       '_4_1_Smoking'],\n",
      "      dtype='object')\n"
     ]
    },
    {
     "data": {
      "application/javascript": [
       "\n",
       "            setTimeout(function() {\n",
       "                var nbb_cell_id = 28;\n",
       "                var nbb_formatted_code = \"from sklearn.ensemble import ExtraTreesClassifier\\nimport matplotlib.pyplot as plt\\n\\nmodel = ExtraTreesClassifier()\\nmodel.fit(x, y)\\n\\nprint(\\n    model.feature_importances_\\n)  # use inbuilt class feature_importances of tree based classifiers\\n\\n# plot graph of feature importances for better visualization\\nfeat_importances = pd.Series(model.feature_importances_, index=x.columns)\\nfeat_importances.nlargest(16).plot(kind=\\\"barh\\\")\\nplt.show()\\n\\nprint(feat_importances.nlargest(15).index)\";\n",
       "                var nbb_cells = Jupyter.notebook.get_cells();\n",
       "                for (var i = 0; i < nbb_cells.length; ++i) {\n",
       "                    if (nbb_cells[i].input_prompt_number == nbb_cell_id) {\n",
       "                        nbb_cells[i].set_text(nbb_formatted_code);\n",
       "                        break;\n",
       "                    }\n",
       "                }\n",
       "            }, 500);\n",
       "            "
      ],
      "text/plain": [
       "<IPython.core.display.Javascript object>"
      ]
     },
     "metadata": {},
     "output_type": "display_data"
    }
   ],
   "source": [
    "from sklearn.ensemble import ExtraTreesClassifier\n",
    "import matplotlib.pyplot as plt\n",
    "\n",
    "model = ExtraTreesClassifier()\n",
    "model.fit(x, y)\n",
    "\n",
    "print(\n",
    "    model.feature_importances_\n",
    ")  # use inbuilt class feature_importances of tree based classifiers\n",
    "\n",
    "# plot graph of feature importances for better visualization\n",
    "feat_importances = pd.Series(model.feature_importances_, index=x.columns)\n",
    "feat_importances.nlargest(16).plot(kind=\"barh\")\n",
    "plt.show()\n",
    "\n",
    "print(feat_importances.nlargest(15).index)"
   ]
  },
  {
   "cell_type": "markdown",
   "metadata": {},
   "source": [
    "3.2 SelectKBest method\n",
    "========="
   ]
  },
  {
   "cell_type": "code",
   "execution_count": 29,
   "metadata": {},
   "outputs": [
    {
     "name": "stdout",
     "output_type": "stream",
     "text": [
      "['BMI', 'Uric Acid', 'Triglycerides', 'fasting glucose', 'L100500', 'r-GTP gamma', 'S000100', 'SGPT', 'L101600', '_4_1_Smoking', 'Drinking_5_1_days', 'FIELD_38_C', '_6_1_of_physical_activity_high_strength', '_6_2_of_physical_activity_moderate', '_2_family_history_hypertension']\n"
     ]
    },
    {
     "data": {
      "application/javascript": [
       "\n",
       "            setTimeout(function() {\n",
       "                var nbb_cell_id = 29;\n",
       "                var nbb_formatted_code = \"from sklearn.feature_selection import f_classif\\nfrom sklearn.feature_selection import SelectKBest\\n\\nbestfeatures = SelectKBest(score_func=f_classif, k=10)\\nfit = bestfeatures.fit(x, y)\\n\\ndfscores = pd.DataFrame(fit.scores_)\\ndfcolumns = pd.DataFrame(x.columns)\\n\\nfeatureScores = pd.concat([dfcolumns, dfscores], axis=1)\\nfeatureScores.columns = [\\\"Specs\\\", \\\"Score\\\"]  # naming the dataframe columns\\n\\n# x=x[x.columns[:15]]\\nprint(list(x.columns[:15]))\";\n",
       "                var nbb_cells = Jupyter.notebook.get_cells();\n",
       "                for (var i = 0; i < nbb_cells.length; ++i) {\n",
       "                    if (nbb_cells[i].input_prompt_number == nbb_cell_id) {\n",
       "                        nbb_cells[i].set_text(nbb_formatted_code);\n",
       "                        break;\n",
       "                    }\n",
       "                }\n",
       "            }, 500);\n",
       "            "
      ],
      "text/plain": [
       "<IPython.core.display.Javascript object>"
      ]
     },
     "metadata": {},
     "output_type": "display_data"
    }
   ],
   "source": [
    "from sklearn.feature_selection import f_classif\n",
    "from sklearn.feature_selection import SelectKBest\n",
    "\n",
    "bestfeatures = SelectKBest(score_func=f_classif, k=10)\n",
    "fit = bestfeatures.fit(x, y)\n",
    "\n",
    "dfscores = pd.DataFrame(fit.scores_)\n",
    "dfcolumns = pd.DataFrame(x.columns)\n",
    "\n",
    "featureScores = pd.concat([dfcolumns, dfscores], axis=1)\n",
    "featureScores.columns = [\"Specs\", \"Score\"]  # naming the dataframe columns\n",
    "\n",
    "# x=x[x.columns[:15]]\n",
    "print(list(x.columns[:15]))"
   ]
  },
  {
   "cell_type": "markdown",
   "metadata": {},
   "source": [
    "3.3 variance inflation factor \n",
    "============="
   ]
  },
  {
   "cell_type": "code",
   "execution_count": 30,
   "metadata": {},
   "outputs": [
    {
     "data": {
      "application/javascript": [
       "\n",
       "            setTimeout(function() {\n",
       "                var nbb_cell_id = 30;\n",
       "                var nbb_formatted_code = \"# this function computes vif value which help us to remove columns with redundant information ( to avoid Multicollinearity)\\n# Multicollinearity occurs when two or more predictors in the model are correlated and provide redundant information about the response.\\n# Multicollinearity was measured by variance inflation factors (VIF) and tolerance\\n\\n\\ndef vifcal(inputdata, depcol):\\n    vifL5 = []\\n    import statsmodels.formula.api as sm\\n\\n    xvars = inputdata.drop([depcol], axis=1)\\n    xvarnames = xvars.columns\\n    for i in range(0, xvarnames.shape[0]):\\n        _y = xvars[xvarnames[i]]\\n        _x = xvars[xvarnames.drop(xvarnames[i])]\\n        rsq = sm.ols(formula=\\\"_y~_x\\\", data=xvars).fit().rsquared\\n        vif = round(1 / (1 - rsq), 2)\\n        print(i, \\\", \\\", xvarnames[i], \\\" VIF = \\\", vif)\\n        if vif < 5:\\n            vifL5.append(xvarnames[i])\\n    return vifL5\";\n",
       "                var nbb_cells = Jupyter.notebook.get_cells();\n",
       "                for (var i = 0; i < nbb_cells.length; ++i) {\n",
       "                    if (nbb_cells[i].input_prompt_number == nbb_cell_id) {\n",
       "                        nbb_cells[i].set_text(nbb_formatted_code);\n",
       "                        break;\n",
       "                    }\n",
       "                }\n",
       "            }, 500);\n",
       "            "
      ],
      "text/plain": [
       "<IPython.core.display.Javascript object>"
      ]
     },
     "metadata": {},
     "output_type": "display_data"
    }
   ],
   "source": [
    "# this function computes vif value which help us to remove columns with redundant information ( to avoid Multicollinearity)\n",
    "# Multicollinearity occurs when two or more predictors in the model are correlated and provide redundant information about the response.\n",
    "# Multicollinearity was measured by variance inflation factors (VIF) and tolerance\n",
    "\n",
    "\n",
    "def vifcal(inputdata, depcol):\n",
    "    vifL5 = []\n",
    "    import statsmodels.formula.api as sm\n",
    "\n",
    "    xvars = inputdata.drop([depcol], axis=1)\n",
    "    xvarnames = xvars.columns\n",
    "    for i in range(0, xvarnames.shape[0]):\n",
    "        _y = xvars[xvarnames[i]]\n",
    "        _x = xvars[xvarnames.drop(xvarnames[i])]\n",
    "        rsq = sm.ols(formula=\"_y~_x\", data=xvars).fit().rsquared\n",
    "        vif = round(1 / (1 - rsq), 2)\n",
    "        print(i, \", \", xvarnames[i], \" VIF = \", vif)\n",
    "        if vif < 5:\n",
    "            vifL5.append(xvarnames[i])\n",
    "    return vifL5"
   ]
  },
  {
   "cell_type": "code",
   "execution_count": 36,
   "metadata": {},
   "outputs": [
    {
     "name": "stdout",
     "output_type": "stream",
     "text": [
      "0 ,  BMI  VIF =  1.55\n",
      "1 ,  Hemoglobin  VIF =  17.0\n",
      "2 ,  RBC  VIF =  5.16\n",
      "3 ,  HCT  VIF =  21.44\n",
      "4 ,  Uric Acid  VIF =  2.03\n",
      "5 ,  Triglycerides  VIF =  1.98\n",
      "6 ,  fasting glucose  VIF =  1.27\n",
      "7 ,  Cardiac risk factor  VIF =  14.06\n",
      "8 ,  L100500  VIF =  2.12\n",
      "9 ,  r-GTP gamma  VIF =  1.54\n",
      "10 ,  S000100  VIF =  2.59\n",
      "11 ,  SGPT  VIF =  1.41\n",
      "12 ,  L101600  VIF =  1.24\n",
      "13 ,  HDL-Cholesterol  VIF =  9.12\n",
      "14 ,  total cholesterol  VIF =  5.81\n",
      "15 ,  SEX  VIF =  5.45\n",
      "16 ,  _4_1_Smoking  VIF =  1.63\n",
      "17 ,  Drinking_5_1_days  VIF =  3.95\n",
      "18 ,  FIELD_38_C  VIF =  3.83\n",
      "19 ,  _6_1_of_physical_activity_high_strength  VIF =  1.59\n",
      "20 ,  _6_2_of_physical_activity_moderate  VIF =  1.69\n",
      "21 ,  _2_family_history_hypertension  VIF =  1.04\n",
      "22 ,  _2_family_history_stroke  VIF =  1.04\n",
      "23 ,  _6_3_of_physical_activity_walking  VIF =  1.14\n",
      "24 ,  _3B_hepatitis  VIF =  1.02\n",
      "25 ,  FIELD_28  VIF =  1.02\n",
      "26 ,  Whether_one_diagnosis_disease  VIF =  1.01\n",
      "27 ,  FIELD_13  VIF =  1.01\n",
      "28 ,  AGE  VIF =  1.44\n",
      "['BMI', 'Uric Acid', 'Triglycerides', 'fasting glucose', 'L100500', 'r-GTP gamma', 'S000100', 'SGPT', 'L101600', '_4_1_Smoking', 'Drinking_5_1_days', 'FIELD_38_C', '_6_1_of_physical_activity_high_strength', '_6_2_of_physical_activity_moderate', '_2_family_history_hypertension', '_2_family_history_stroke', '_6_3_of_physical_activity_walking', '_3B_hepatitis', 'FIELD_28', 'Whether_one_diagnosis_disease', 'FIELD_13', 'AGE'] 22\n"
     ]
    },
    {
     "data": {
      "application/javascript": [
       "\n",
       "            setTimeout(function() {\n",
       "                var nbb_cell_id = 36;\n",
       "                var nbb_formatted_code = \"# the new columns are selcted from section 3.2\\n# newcols = vifcal(mydata[['L104600', 'L103000', 'S000300', 'S000501', 'S000502', 'L101700', 'L103300', 'SEX',\\n#                          'L190400', 'AGE', 'L190500', 'L100700', 'L101300', 'L190300', 'L102900', 'L103100',\\n#                          'FIELD_33', 'FIELD_38', 'FIELD_40', 'FIELD_31','CLASS']],'CLASS')\\n\\nnewcols = vifcal(\\n    mydata[\\n        [\\n            \\\"BMI\\\",\\n            \\\"Hemoglobin\\\",\\n            \\\"RBC\\\",\\n            \\\"HCT\\\",\\n            \\\"Uric Acid\\\",\\n            \\\"Triglycerides\\\",\\n            \\\"fasting glucose\\\",\\n            \\\"Cardiac risk factor\\\",\\n            \\\"L100500\\\",\\n            \\\"r-GTP gamma\\\",\\n            \\\"S000100\\\",\\n            \\\"SGPT\\\",\\n            \\\"L101600\\\",\\n            \\\"HDL-Cholesterol\\\",\\n            \\\"total cholesterol\\\",\\n            \\\"SEX\\\",\\n            \\\"_4_1_Smoking\\\",\\n            \\\"Drinking_5_1_days\\\",\\n            \\\"FIELD_38_C\\\",\\n            \\\"_6_1_of_physical_activity_high_strength\\\",\\n            \\\"_6_2_of_physical_activity_moderate\\\",\\n            \\\"_2_family_history_hypertension\\\",\\n            \\\"_2_family_history_stroke\\\",\\n            \\\"_6_3_of_physical_activity_walking\\\",\\n            #         \\\"blood_type\\\",\\n            \\\"_3B_hepatitis\\\",\\n            \\\"FIELD_28\\\",\\n            \\\"Whether_one_diagnosis_disease\\\",\\n            \\\"FIELD_13\\\",\\n            \\\"AGE\\\",\\n            \\\"CLASS\\\",\\n        ]\\n    ],\\n    \\\"CLASS\\\",\\n)\\nprint(newcols, len(newcols))\\n\\n# we need to exclude features with vif value >5\\n# L190400  ,L103300,L190500,L190300,L102900,L103100\";\n",
       "                var nbb_cells = Jupyter.notebook.get_cells();\n",
       "                for (var i = 0; i < nbb_cells.length; ++i) {\n",
       "                    if (nbb_cells[i].input_prompt_number == nbb_cell_id) {\n",
       "                        nbb_cells[i].set_text(nbb_formatted_code);\n",
       "                        break;\n",
       "                    }\n",
       "                }\n",
       "            }, 500);\n",
       "            "
      ],
      "text/plain": [
       "<IPython.core.display.Javascript object>"
      ]
     },
     "metadata": {},
     "output_type": "display_data"
    }
   ],
   "source": [
    "# # generate synthetic dataset to overcome class imbalance\n",
    "# from collections import Counter\n",
    "# from numpy.random import RandomState\n",
    "# from sklearn.datasets import make_classification\n",
    "# from imblearn.over_sampling import SMOTENC\n",
    "\n",
    "# sm = SMOTENC(random_state=42, categorical_features=[5, 6, 7, 8])\n",
    "# X_res, y_res = sm.fit_resample(train.iloc[:, :-1], train.iloc[:, -1])\n",
    "# print(\"Resampled dataset samples per class {}\".format(Counter(y_res)))\n",
    "\n",
    "# train = pd.DataFrame(X_res, columns=list(train.columns[:-1]))\n",
    "# train[\"CLASS\"] = y_res"
   ]
  },
  {
   "cell_type": "markdown",
   "metadata": {},
   "source": [
    "3.4 Final Selected Features\n",
    "======"
   ]
  },
  {
   "cell_type": "code",
   "execution_count": 109,
   "metadata": {},
   "outputs": [
    {
     "data": {
      "application/javascript": [
       "\n",
       "            setTimeout(function() {\n",
       "                var nbb_cell_id = 109;\n",
       "                var nbb_formatted_code = \"# based on the out put of section of 3.2 and 3.3 the following features are selected\\n\\n# finalFeatures=['L104600', 'L103000', 'S000300', 'S000501', 'S000502', 'L101700', 'SEX', 'AGE',\\n#  'L100700', 'L101300', 'FIELD_33', 'FIELD_38', 'FIELD_40', 'FIELD_31']\\n\\n# finalFeatures = [\\n#     \\\"BMI\\\",\\n#     \\\"Uric Acid\\\",\\n#     \\\"Triglycerides\\\",\\n#     \\\"fasting glucose\\\",\\n#     \\\"L100500\\\",\\n#     \\\"r-GTP gamma\\\",\\n#     \\\"SGPT\\\",\\n#     \\\"L101600\\\",\\n#     \\\"_4_1_Smoking\\\",\\n#     \\\"Drinking_5_1_days\\\",\\n#     \\\"FIELD_38_C\\\",\\n#     \\\"_6_1_of_physical_activity_high_strength\\\",\\n#     \\\"_6_2_of_physical_activity_moderate\\\",\\n#     \\\"_2_family_history_hypertension\\\",\\n#     \\\"total cholesterol\\\",\\n#     \\\"HDL-Cholesterol\\\",\\n#     \\\"L103200\\\",\\n#     \\\"Hemoglobin\\\",\\n#     \\\"HCT\\\",\\n#     \\\"RBC\\\",\\n#     \\\"AGE\\\",\\n#     \\\"SEX\\\",\\n#     \\\"CLASS\\\",\\n# ]\\n\\n\\nfinalFeatures = [\\n    \\\"BMI\\\",\\n    \\\"Uric Acid\\\",\\n    \\\"Triglycerides\\\",\\n    \\\"fasting glucose\\\",\\n    \\\"L100500\\\",\\n    \\\"r-GTP gamma\\\",\\n    \\\"S000100\\\",\\n    \\\"SGPT\\\",\\n    \\\"L101600\\\",\\n    \\\"_4_1_Smoking\\\",\\n    \\\"Drinking_5_1_days\\\",\\n    \\\"FIELD_38_C\\\",\\n    \\\"_6_1_of_physical_activity_high_strength\\\",\\n    \\\"_6_2_of_physical_activity_moderate\\\",\\n    \\\"_2_family_history_hypertension\\\",\\n    \\\"_2_family_history_stroke\\\",\\n    \\\"_6_3_of_physical_activity_walking\\\",\\n    \\\"_3B_hepatitis\\\",\\n    \\\"FIELD_28\\\",\\n    \\\"Whether_one_diagnosis_disease\\\",\\n    \\\"FIELD_13\\\",\\n    \\\"AGE\\\",\\n    \\\"SBP\\\",\\n    \\\"DBP\\\",\\n    \\\"CLASS\\\",\\n]\\n\\n\\n# 'S000501', 'S000502', 'L101300' are excluded from the features value after considering the impact on the classifier model\\n# finalFeatures=['L104600', 'L103000', 'S000300', 'L101700', 'SEX', 'AGE',\\n#  'L100700', 'FIELD_33', 'FIELD_38', 'FIELD_40', 'FIELD_31','CLASS']\\n\\n\\n# finalFeatures=['HBA1C', 'Triglycerides', 'BMI',  'r-GTP gamma', 'SEX', 'AGE', 'Uric Acid',\\n#                '_4_1_Smoking', 'Drinking_5_1_days', '_6_1_of_physical_activity_high_strength', 'Family_history','CLASS']\";\n",
       "                var nbb_cells = Jupyter.notebook.get_cells();\n",
       "                for (var i = 0; i < nbb_cells.length; ++i) {\n",
       "                    if (nbb_cells[i].input_prompt_number == nbb_cell_id) {\n",
       "                        nbb_cells[i].set_text(nbb_formatted_code);\n",
       "                        break;\n",
       "                    }\n",
       "                }\n",
       "            }, 500);\n",
       "            "
      ],
      "text/plain": [
       "<IPython.core.display.Javascript object>"
      ]
     },
     "metadata": {},
     "output_type": "display_data"
    }
   ],
   "source": [
    "# based on the out put of section of 3.2 and 3.3 the following features are selected\n",
    "\n",
    "# finalFeatures=['L104600', 'L103000', 'S000300', 'S000501', 'S000502', 'L101700', 'SEX', 'AGE',\n",
    "#  'L100700', 'L101300', 'FIELD_33', 'FIELD_38', 'FIELD_40', 'FIELD_31']\n",
    "\n",
    "# finalFeatures = [\n",
    "#     \"BMI\",\n",
    "#     \"Uric Acid\",\n",
    "#     \"Triglycerides\",\n",
    "#     \"fasting glucose\",\n",
    "#     \"L100500\",\n",
    "#     \"r-GTP gamma\",\n",
    "#     \"SGPT\",\n",
    "#     \"L101600\",\n",
    "#     \"_4_1_Smoking\",\n",
    "#     \"Drinking_5_1_days\",\n",
    "#     \"FIELD_38_C\",\n",
    "#     \"_6_1_of_physical_activity_high_strength\",\n",
    "#     \"_6_2_of_physical_activity_moderate\",\n",
    "#     \"_2_family_history_hypertension\",\n",
    "#     \"total cholesterol\",\n",
    "#     \"HDL-Cholesterol\",\n",
    "#     \"L103200\",\n",
    "#     \"Hemoglobin\",\n",
    "#     \"HCT\",\n",
    "#     \"RBC\",\n",
    "#     \"AGE\",\n",
    "#     \"SEX\",\n",
    "#     \"CLASS\",\n",
    "# ]\n",
    "\n",
    "\n",
    "finalFeatures = [\n",
    "    \"BMI\",\n",
    "    \"Uric Acid\",\n",
    "    \"Triglycerides\",\n",
    "    \"fasting glucose\",\n",
    "    \"L100500\",\n",
    "    \"r-GTP gamma\",\n",
    "    \"S000100\",\n",
    "    \"SGPT\",\n",
    "    \"L101600\",\n",
    "    \"_4_1_Smoking\",\n",
    "    \"Drinking_5_1_days\",\n",
    "    \"FIELD_38_C\",\n",
    "    \"_6_1_of_physical_activity_high_strength\",\n",
    "    \"_6_2_of_physical_activity_moderate\",\n",
    "    \"_2_family_history_hypertension\",\n",
    "    \"_2_family_history_stroke\",\n",
    "    \"_6_3_of_physical_activity_walking\",\n",
    "    \"_3B_hepatitis\",\n",
    "    \"FIELD_28\",\n",
    "    \"Whether_one_diagnosis_disease\",\n",
    "    \"FIELD_13\",\n",
    "    \"AGE\",\n",
    "    \"SBP\",\n",
    "    \"DBP\",\n",
    "    \"CLASS\",\n",
    "]\n",
    "\n",
    "\n",
    "# 'S000501', 'S000502', 'L101300' are excluded from the features value after considering the impact on the classifier model\n",
    "# finalFeatures=['L104600', 'L103000', 'S000300', 'L101700', 'SEX', 'AGE',\n",
    "#  'L100700', 'FIELD_33', 'FIELD_38', 'FIELD_40', 'FIELD_31','CLASS']\n",
    "\n",
    "\n",
    "# finalFeatures=['HBA1C', 'Triglycerides', 'BMI',  'r-GTP gamma', 'SEX', 'AGE', 'Uric Acid',\n",
    "#                '_4_1_Smoking', 'Drinking_5_1_days', '_6_1_of_physical_activity_high_strength', 'Family_history','CLASS']"
   ]
  },
  {
   "cell_type": "markdown",
   "metadata": {},
   "source": [
    "Classifier Model Test Based on the features \n",
    "========"
   ]
  },
  {
   "cell_type": "code",
   "execution_count": 152,
   "metadata": {},
   "outputs": [
    {
     "name": "stdout",
     "output_type": "stream",
     "text": [
      "(403729, 25)\n"
     ]
    },
    {
     "data": {
      "text/html": [
       "<div>\n",
       "<style scoped>\n",
       "    .dataframe tbody tr th:only-of-type {\n",
       "        vertical-align: middle;\n",
       "    }\n",
       "\n",
       "    .dataframe tbody tr th {\n",
       "        vertical-align: top;\n",
       "    }\n",
       "\n",
       "    .dataframe thead th {\n",
       "        text-align: right;\n",
       "    }\n",
       "</style>\n",
       "<table border=\"1\" class=\"dataframe\">\n",
       "  <thead>\n",
       "    <tr style=\"text-align: right;\">\n",
       "      <th></th>\n",
       "      <th>BMI</th>\n",
       "      <th>Uric Acid</th>\n",
       "      <th>Triglycerides</th>\n",
       "      <th>fasting glucose</th>\n",
       "      <th>L100500</th>\n",
       "      <th>r-GTP gamma</th>\n",
       "      <th>S000100</th>\n",
       "      <th>SGPT</th>\n",
       "      <th>L101600</th>\n",
       "      <th>_4_1_Smoking</th>\n",
       "      <th>...</th>\n",
       "      <th>_2_family_history_stroke</th>\n",
       "      <th>_6_3_of_physical_activity_walking</th>\n",
       "      <th>_3B_hepatitis</th>\n",
       "      <th>FIELD_28</th>\n",
       "      <th>Whether_one_diagnosis_disease</th>\n",
       "      <th>FIELD_13</th>\n",
       "      <th>AGE</th>\n",
       "      <th>SBP</th>\n",
       "      <th>DBP</th>\n",
       "      <th>CLASS</th>\n",
       "    </tr>\n",
       "  </thead>\n",
       "  <tbody>\n",
       "    <tr>\n",
       "      <th>0</th>\n",
       "      <td>22.6</td>\n",
       "      <td>2.6</td>\n",
       "      <td>70.0</td>\n",
       "      <td>111.0</td>\n",
       "      <td>1.0</td>\n",
       "      <td>31.0</td>\n",
       "      <td>167.0</td>\n",
       "      <td>16.0</td>\n",
       "      <td>48.0</td>\n",
       "      <td>2.0</td>\n",
       "      <td>...</td>\n",
       "      <td>0.0</td>\n",
       "      <td>7.0</td>\n",
       "      <td>2.0</td>\n",
       "      <td>0.0</td>\n",
       "      <td>0.0</td>\n",
       "      <td>0.0</td>\n",
       "      <td>46.0</td>\n",
       "      <td>130.0</td>\n",
       "      <td>80.0</td>\n",
       "      <td>1</td>\n",
       "    </tr>\n",
       "    <tr>\n",
       "      <th>1</th>\n",
       "      <td>22.9</td>\n",
       "      <td>3.7</td>\n",
       "      <td>50.0</td>\n",
       "      <td>103.0</td>\n",
       "      <td>1.2</td>\n",
       "      <td>34.0</td>\n",
       "      <td>166.0</td>\n",
       "      <td>15.0</td>\n",
       "      <td>49.0</td>\n",
       "      <td>2.0</td>\n",
       "      <td>...</td>\n",
       "      <td>0.0</td>\n",
       "      <td>5.0</td>\n",
       "      <td>2.0</td>\n",
       "      <td>0.0</td>\n",
       "      <td>0.0</td>\n",
       "      <td>0.0</td>\n",
       "      <td>47.0</td>\n",
       "      <td>132.0</td>\n",
       "      <td>83.0</td>\n",
       "      <td>1</td>\n",
       "    </tr>\n",
       "    <tr>\n",
       "      <th>2</th>\n",
       "      <td>24.3</td>\n",
       "      <td>2.6</td>\n",
       "      <td>75.0</td>\n",
       "      <td>113.0</td>\n",
       "      <td>1.1</td>\n",
       "      <td>36.0</td>\n",
       "      <td>166.0</td>\n",
       "      <td>15.0</td>\n",
       "      <td>42.0</td>\n",
       "      <td>2.0</td>\n",
       "      <td>...</td>\n",
       "      <td>0.0</td>\n",
       "      <td>3.0</td>\n",
       "      <td>2.0</td>\n",
       "      <td>0.0</td>\n",
       "      <td>0.0</td>\n",
       "      <td>0.0</td>\n",
       "      <td>48.0</td>\n",
       "      <td>132.0</td>\n",
       "      <td>85.0</td>\n",
       "      <td>1</td>\n",
       "    </tr>\n",
       "    <tr>\n",
       "      <th>3</th>\n",
       "      <td>24.3</td>\n",
       "      <td>2.0</td>\n",
       "      <td>130.0</td>\n",
       "      <td>105.0</td>\n",
       "      <td>1.0</td>\n",
       "      <td>39.0</td>\n",
       "      <td>166.0</td>\n",
       "      <td>15.0</td>\n",
       "      <td>53.0</td>\n",
       "      <td>2.0</td>\n",
       "      <td>...</td>\n",
       "      <td>0.0</td>\n",
       "      <td>0.0</td>\n",
       "      <td>3.0</td>\n",
       "      <td>0.0</td>\n",
       "      <td>0.0</td>\n",
       "      <td>0.0</td>\n",
       "      <td>49.0</td>\n",
       "      <td>140.0</td>\n",
       "      <td>80.0</td>\n",
       "      <td>2</td>\n",
       "    </tr>\n",
       "    <tr>\n",
       "      <th>4</th>\n",
       "      <td>23.7</td>\n",
       "      <td>2.8</td>\n",
       "      <td>92.0</td>\n",
       "      <td>118.0</td>\n",
       "      <td>1.0</td>\n",
       "      <td>24.0</td>\n",
       "      <td>167.0</td>\n",
       "      <td>12.0</td>\n",
       "      <td>49.0</td>\n",
       "      <td>2.0</td>\n",
       "      <td>...</td>\n",
       "      <td>0.0</td>\n",
       "      <td>2.0</td>\n",
       "      <td>3.0</td>\n",
       "      <td>0.0</td>\n",
       "      <td>0.0</td>\n",
       "      <td>0.0</td>\n",
       "      <td>50.0</td>\n",
       "      <td>145.0</td>\n",
       "      <td>90.0</td>\n",
       "      <td>2</td>\n",
       "    </tr>\n",
       "  </tbody>\n",
       "</table>\n",
       "<p>5 rows × 25 columns</p>\n",
       "</div>"
      ],
      "text/plain": [
       "    BMI  Uric Acid  Triglycerides  fasting glucose  L100500  r-GTP gamma  \\\n",
       "0  22.6        2.6           70.0            111.0      1.0         31.0   \n",
       "1  22.9        3.7           50.0            103.0      1.2         34.0   \n",
       "2  24.3        2.6           75.0            113.0      1.1         36.0   \n",
       "3  24.3        2.0          130.0            105.0      1.0         39.0   \n",
       "4  23.7        2.8           92.0            118.0      1.0         24.0   \n",
       "\n",
       "   S000100  SGPT  L101600  _4_1_Smoking  ...  _2_family_history_stroke  \\\n",
       "0    167.0  16.0     48.0           2.0  ...                       0.0   \n",
       "1    166.0  15.0     49.0           2.0  ...                       0.0   \n",
       "2    166.0  15.0     42.0           2.0  ...                       0.0   \n",
       "3    166.0  15.0     53.0           2.0  ...                       0.0   \n",
       "4    167.0  12.0     49.0           2.0  ...                       0.0   \n",
       "\n",
       "   _6_3_of_physical_activity_walking  _3B_hepatitis  FIELD_28  \\\n",
       "0                                7.0            2.0       0.0   \n",
       "1                                5.0            2.0       0.0   \n",
       "2                                3.0            2.0       0.0   \n",
       "3                                0.0            3.0       0.0   \n",
       "4                                2.0            3.0       0.0   \n",
       "\n",
       "   Whether_one_diagnosis_disease  FIELD_13   AGE    SBP   DBP  CLASS  \n",
       "0                            0.0       0.0  46.0  130.0  80.0      1  \n",
       "1                            0.0       0.0  47.0  132.0  83.0      1  \n",
       "2                            0.0       0.0  48.0  132.0  85.0      1  \n",
       "3                            0.0       0.0  49.0  140.0  80.0      2  \n",
       "4                            0.0       0.0  50.0  145.0  90.0      2  \n",
       "\n",
       "[5 rows x 25 columns]"
      ]
     },
     "execution_count": 152,
     "metadata": {},
     "output_type": "execute_result"
    },
    {
     "data": {
      "application/javascript": [
       "\n",
       "            setTimeout(function() {\n",
       "                var nbb_cell_id = 152;\n",
       "                var nbb_formatted_code = \"randomseed = 7\\nmydata = data[finalFeatures].copy().dropna()\\nprint(mydata.shape)\\nmydata.head()\";\n",
       "                var nbb_cells = Jupyter.notebook.get_cells();\n",
       "                for (var i = 0; i < nbb_cells.length; ++i) {\n",
       "                    if (nbb_cells[i].input_prompt_number == nbb_cell_id) {\n",
       "                        nbb_cells[i].set_text(nbb_formatted_code);\n",
       "                        break;\n",
       "                    }\n",
       "                }\n",
       "            }, 500);\n",
       "            "
      ],
      "text/plain": [
       "<IPython.core.display.Javascript object>"
      ]
     },
     "metadata": {},
     "output_type": "display_data"
    }
   ],
   "source": [
    "randomseed = 7\n",
    "mydata = data[finalFeatures].copy().dropna()\n",
    "print(mydata.shape)\n",
    "mydata.head()"
   ]
  },
  {
   "cell_type": "code",
   "execution_count": 153,
   "metadata": {},
   "outputs": [
    {
     "name": "stdout",
     "output_type": "stream",
     "text": [
      "(92373, 16)\n",
      "(69363, 33)\n"
     ]
    },
    {
     "data": {
      "text/plain": [
       "(69366, 25)"
      ]
     },
     "execution_count": 153,
     "metadata": {},
     "output_type": "execute_result"
    },
    {
     "data": {
      "application/javascript": [
       "\n",
       "            setTimeout(function() {\n",
       "                var nbb_cell_id = 153;\n",
       "                var nbb_formatted_code = \"s000501 = pd.read_csv(\\\"../S000501 - regression/ypred_s000501.txt\\\")\\ns000502 = pd.read_csv(\\\"../S000502 - regression/ypred_s000502.txt\\\")\\n\\nothervalues = pd.read_csv(\\\"../S000501 - regression/xtest.txt\\\")\\nothervalues[\\\"ps000501\\\"] = s000501[\\\"0\\\"]\\nothervalues[\\\"ps000502\\\"] = s000502[\\\"0\\\"]\\n\\nprint(othervalues.shape)\\n\\ntemp = pd.merge(\\n    othervalues[\\n        [\\n            \\\"Unnamed: 0\\\",\\n            \\\"ps000501\\\",\\n            \\\"ps000502\\\",\\n            \\\"S000300\\\",\\n            \\\"L100700\\\",\\n            \\\"L103000\\\",\\n            \\\"L100800\\\",\\n        ]\\n    ],\\n    mydata,\\n    how=\\\"inner\\\",\\n    left_on=othervalues[\\\"Unnamed: 0\\\"],\\n    right_on=mydata.index,\\n)\\n\\nprint(temp.shape)\\n\\nmydata = temp[\\n    [\\n        \\\"ps000501\\\",\\n        \\\"ps000502\\\",\\n        \\\"S000300\\\",\\n        \\\"L100700\\\",\\n        \\\"L103000\\\",\\n        \\\"L100800\\\",\\n        \\\"L100500\\\",\\n        \\\"r-GTP gamma\\\",\\n        \\\"SGPT\\\",\\n        \\\"L101600\\\",\\n        \\\"_4_1_Smoking\\\",\\n        \\\"Drinking_5_1_days\\\",\\n        \\\"FIELD_38_C\\\",\\n        \\\"_6_1_of_physical_activity_high_strength\\\",\\n        \\\"_6_2_of_physical_activity_moderate\\\",\\n        \\\"_2_family_history_hypertension\\\",\\n        \\\"_2_family_history_stroke\\\",\\n        \\\"_6_3_of_physical_activity_walking\\\",\\n        \\\"_3B_hepatitis\\\",\\n        \\\"FIELD_28\\\",\\n        \\\"Whether_one_diagnosis_disease\\\",\\n        \\\"FIELD_13\\\",\\n        \\\"AGE\\\",\\n        \\\"CLASS\\\",\\n    ]\\n]\\n\\nxtest.shape\";\n",
       "                var nbb_cells = Jupyter.notebook.get_cells();\n",
       "                for (var i = 0; i < nbb_cells.length; ++i) {\n",
       "                    if (nbb_cells[i].input_prompt_number == nbb_cell_id) {\n",
       "                        nbb_cells[i].set_text(nbb_formatted_code);\n",
       "                        break;\n",
       "                    }\n",
       "                }\n",
       "            }, 500);\n",
       "            "
      ],
      "text/plain": [
       "<IPython.core.display.Javascript object>"
      ]
     },
     "metadata": {},
     "output_type": "display_data"
    }
   ],
   "source": [
    "# s000501 = pd.read_csv(\"../S000501 - regression/ypred_s000501.txt\")\n",
    "# s000502 = pd.read_csv(\"../S000502 - regression/ypred_s000502.txt\")\n",
    "\n",
    "# othervalues = pd.read_csv(\"../S000501 - regression/xtest.txt\")\n",
    "# othervalues[\"ps000501\"] = s000501[\"0\"]\n",
    "# othervalues[\"ps000502\"] = s000502[\"0\"]\n",
    "\n",
    "# print(othervalues.shape)\n",
    "\n",
    "# temp = pd.merge(\n",
    "#     othervalues[\n",
    "#         [\n",
    "#             \"Unnamed: 0\",\n",
    "#             \"ps000501\",\n",
    "#             \"ps000502\",\n",
    "#             \"S000300\",\n",
    "#             \"L100700\",\n",
    "#             \"L103000\",\n",
    "#             \"L100800\",\n",
    "#         ]\n",
    "#     ],\n",
    "#     mydata,\n",
    "#     how=\"inner\",\n",
    "#     left_on=othervalues[\"Unnamed: 0\"],\n",
    "#     right_on=mydata.index,\n",
    "# )\n",
    "\n",
    "# print(temp.shape)\n",
    "\n",
    "# mydata = temp[\n",
    "#     [\n",
    "#         \"ps000501\",\n",
    "#         \"ps000502\",\n",
    "#         \"S000300\",\n",
    "#         \"L100700\",\n",
    "#         \"L103000\",\n",
    "#         \"L100800\",\n",
    "#         \"L100500\",\n",
    "#         \"r-GTP gamma\",\n",
    "#         \"SGPT\",\n",
    "#         \"L101600\",\n",
    "#         \"_4_1_Smoking\",\n",
    "#         \"Drinking_5_1_days\",\n",
    "#         \"FIELD_38_C\",\n",
    "#         \"_6_1_of_physical_activity_high_strength\",\n",
    "#         \"_6_2_of_physical_activity_moderate\",\n",
    "#         \"_2_family_history_hypertension\",\n",
    "#         \"_2_family_history_stroke\",\n",
    "#         \"_6_3_of_physical_activity_walking\",\n",
    "#         \"_3B_hepatitis\",\n",
    "#         \"FIELD_28\",\n",
    "#         \"Whether_one_diagnosis_disease\",\n",
    "#         \"FIELD_13\",\n",
    "#         \"AGE\",\n",
    "#         \"CLASS\",\n",
    "#     ]\n",
    "# ]\n",
    "\n",
    "# xtest.shape"
   ]
  },
  {
   "cell_type": "code",
   "execution_count": 154,
   "metadata": {},
   "outputs": [
    {
     "name": "stdout",
     "output_type": "stream",
     "text": [
      "2668 30535 36160\n"
     ]
    },
    {
     "data": {
      "application/javascript": [
       "\n",
       "            setTimeout(function() {\n",
       "                var nbb_cell_id = 154;\n",
       "                var nbb_formatted_code = \"class2 = mydata[mydata.CLASS == 2]\\nclass1 = mydata[mydata.CLASS == 1]\\nclass0 = mydata[mydata.CLASS == 0]\\n\\nprint(class2.shape[0], class1.shape[0], class0.shape[0])\";\n",
       "                var nbb_cells = Jupyter.notebook.get_cells();\n",
       "                for (var i = 0; i < nbb_cells.length; ++i) {\n",
       "                    if (nbb_cells[i].input_prompt_number == nbb_cell_id) {\n",
       "                        nbb_cells[i].set_text(nbb_formatted_code);\n",
       "                        break;\n",
       "                    }\n",
       "                }\n",
       "            }, 500);\n",
       "            "
      ],
      "text/plain": [
       "<IPython.core.display.Javascript object>"
      ]
     },
     "metadata": {},
     "output_type": "display_data"
    }
   ],
   "source": [
    "class2 = mydata[mydata.CLASS == 2]\n",
    "class1 = mydata[mydata.CLASS == 1]\n",
    "class0 = mydata[mydata.CLASS == 0]\n",
    "\n",
    "print(class2.shape[0], class1.shape[0], class0.shape[0])"
   ]
  },
  {
   "cell_type": "code",
   "execution_count": 155,
   "metadata": {},
   "outputs": [
    {
     "data": {
      "application/javascript": [
       "\n",
       "            setTimeout(function() {\n",
       "                var nbb_cell_id = 155;\n",
       "                var nbb_formatted_code = \"class2_test = class2.sample(1000, random_state=randomseed)\\nclass1_test = class1.sample(1000, random_state=randomseed)\\nclass0_test = class0.sample(1000, random_state=randomseed)\\ntest = pd.concat([class2_test, class1_test, class0_test])\\n\\nclass2_train = class2.drop(class2_test.index)\\n\\nclass1_train = class1.drop(class1_test.index).sample(\\n    class2_train.shape[0], random_state=randomseed\\n)\\n\\nclass0_train = class0.drop(class0_test.index).sample(\\n    class2_train.shape[0], random_state=randomseed\\n)\\ntrain = pd.concat([class2_train, class1_train, class0_train])\";\n",
       "                var nbb_cells = Jupyter.notebook.get_cells();\n",
       "                for (var i = 0; i < nbb_cells.length; ++i) {\n",
       "                    if (nbb_cells[i].input_prompt_number == nbb_cell_id) {\n",
       "                        nbb_cells[i].set_text(nbb_formatted_code);\n",
       "                        break;\n",
       "                    }\n",
       "                }\n",
       "            }, 500);\n",
       "            "
      ],
      "text/plain": [
       "<IPython.core.display.Javascript object>"
      ]
     },
     "metadata": {},
     "output_type": "display_data"
    }
   ],
   "source": [
    "class2_test = class2.sample(1000, random_state=randomseed)\n",
    "class1_test = class1.sample(1000, random_state=randomseed)\n",
    "class0_test = class0.sample(1000, random_state=randomseed)\n",
    "test = pd.concat([class2_test, class1_test, class0_test])\n",
    "\n",
    "class2_train = class2.drop(class2_test.index)\n",
    "\n",
    "class1_train = class1.drop(class1_test.index).sample(\n",
    "    class2_train.shape[0], random_state=randomseed\n",
    ")\n",
    "\n",
    "class0_train = class0.drop(class0_test.index).sample(\n",
    "    class2_train.shape[0], random_state=randomseed\n",
    ")\n",
    "train = pd.concat([class2_train, class1_train, class0_train])"
   ]
  },
  {
   "cell_type": "code",
   "execution_count": 156,
   "metadata": {},
   "outputs": [
    {
     "data": {
      "text/plain": [
       "Index(['ps000501', 'ps000502', 'S000300', 'L100700', 'L103000', 'L100800',\n",
       "       'L100500', 'r-GTP gamma', 'SGPT', 'L101600', '_4_1_Smoking',\n",
       "       'Drinking_5_1_days', 'FIELD_38_C',\n",
       "       '_6_1_of_physical_activity_high_strength',\n",
       "       '_6_2_of_physical_activity_moderate', '_2_family_history_hypertension',\n",
       "       '_2_family_history_stroke', '_6_3_of_physical_activity_walking',\n",
       "       '_3B_hepatitis', 'FIELD_28', 'Whether_one_diagnosis_disease',\n",
       "       'FIELD_13', 'AGE', 'CLASS'],\n",
       "      dtype='object')"
      ]
     },
     "execution_count": 156,
     "metadata": {},
     "output_type": "execute_result"
    },
    {
     "data": {
      "application/javascript": [
       "\n",
       "            setTimeout(function() {\n",
       "                var nbb_cell_id = 156;\n",
       "                var nbb_formatted_code = \"train.columns\";\n",
       "                var nbb_cells = Jupyter.notebook.get_cells();\n",
       "                for (var i = 0; i < nbb_cells.length; ++i) {\n",
       "                    if (nbb_cells[i].input_prompt_number == nbb_cell_id) {\n",
       "                        nbb_cells[i].set_text(nbb_formatted_code);\n",
       "                        break;\n",
       "                    }\n",
       "                }\n",
       "            }, 500);\n",
       "            "
      ],
      "text/plain": [
       "<IPython.core.display.Javascript object>"
      ]
     },
     "metadata": {},
     "output_type": "display_data"
    }
   ],
   "source": [
    "train.columns"
   ]
  },
  {
   "cell_type": "code",
   "execution_count": 157,
   "metadata": {},
   "outputs": [
    {
     "data": {
      "application/javascript": [
       "\n",
       "            setTimeout(function() {\n",
       "                var nbb_cell_id = 157;\n",
       "                var nbb_formatted_code = \"# # generate synthetic dataset to overcome class imbalance\\n# from collections import Counter\\n# from numpy.random import RandomState\\n# from sklearn.datasets import make_classification\\n# from imblearn.over_sampling import SMOTENC\\n\\n# sm = SMOTENC(random_state=42, categorical_features=[5, 6, 7, 8])\\n# X_res, y_res = sm.fit_resample(train.iloc[:, :-1], train.iloc[:, -1])\\n# print(\\\"Resampled dataset samples per class {}\\\".format(Counter(y_res)))\\n\\n# train = pd.DataFrame(X_res, columns=list(train.columns[:-1]))\\n# train[\\\"CLASS\\\"] = y_res\";\n",
       "                var nbb_cells = Jupyter.notebook.get_cells();\n",
       "                for (var i = 0; i < nbb_cells.length; ++i) {\n",
       "                    if (nbb_cells[i].input_prompt_number == nbb_cell_id) {\n",
       "                        nbb_cells[i].set_text(nbb_formatted_code);\n",
       "                        break;\n",
       "                    }\n",
       "                }\n",
       "            }, 500);\n",
       "            "
      ],
      "text/plain": [
       "<IPython.core.display.Javascript object>"
      ]
     },
     "metadata": {},
     "output_type": "display_data"
    }
   ],
   "source": [
    "# # generate synthetic dataset to overcome class imbalance\n",
    "# from collections import Counter\n",
    "# from numpy.random import RandomState\n",
    "# from sklearn.datasets import make_classification\n",
    "# from imblearn.over_sampling import SMOTENC\n",
    "\n",
    "# sm = SMOTENC(random_state=42, categorical_features=[5, 6, 7, 8])\n",
    "# X_res, y_res = sm.fit_resample(train.iloc[:, :-1], train.iloc[:, -1])\n",
    "# print(\"Resampled dataset samples per class {}\".format(Counter(y_res)))\n",
    "\n",
    "# train = pd.DataFrame(X_res, columns=list(train.columns[:-1]))\n",
    "# train[\"CLASS\"] = y_res"
   ]
  },
  {
   "cell_type": "code",
   "execution_count": 158,
   "metadata": {},
   "outputs": [
    {
     "data": {
      "application/javascript": [
       "\n",
       "            setTimeout(function() {\n",
       "                var nbb_cell_id = 158;\n",
       "                var nbb_formatted_code = \"# from sklearn.preprocessing import RobustScaler\\n\\n# transformer = RobustScaler()\\n# transformer.fit(train.iloc[:, :-1])\\n# train.iloc[:, :-1] = transformer.transform(train.iloc[:, :-1])\\n# test.iloc[:, :-1] = transformer.transform(test.iloc[:, :-1])\";\n",
       "                var nbb_cells = Jupyter.notebook.get_cells();\n",
       "                for (var i = 0; i < nbb_cells.length; ++i) {\n",
       "                    if (nbb_cells[i].input_prompt_number == nbb_cell_id) {\n",
       "                        nbb_cells[i].set_text(nbb_formatted_code);\n",
       "                        break;\n",
       "                    }\n",
       "                }\n",
       "            }, 500);\n",
       "            "
      ],
      "text/plain": [
       "<IPython.core.display.Javascript object>"
      ]
     },
     "metadata": {},
     "output_type": "display_data"
    }
   ],
   "source": [
    "# from sklearn.preprocessing import RobustScaler\n",
    "\n",
    "# transformer = RobustScaler()\n",
    "# transformer.fit(train.iloc[:, :-1])\n",
    "# train.iloc[:, :-1] = transformer.transform(train.iloc[:, :-1])\n",
    "# test.iloc[:, :-1] = transformer.transform(test.iloc[:, :-1])"
   ]
  },
  {
   "cell_type": "code",
   "execution_count": 159,
   "metadata": {},
   "outputs": [
    {
     "data": {
      "text/plain": [
       "RandomForestClassifier(bootstrap=True, class_weight=None, criterion='gini',\n",
       "                       max_depth=10, max_features='auto', max_leaf_nodes=None,\n",
       "                       min_impurity_decrease=0.0, min_impurity_split=None,\n",
       "                       min_samples_leaf=1, min_samples_split=2,\n",
       "                       min_weight_fraction_leaf=0.0, n_estimators=100,\n",
       "                       n_jobs=None, oob_score=False, random_state=7, verbose=0,\n",
       "                       warm_start=False)"
      ]
     },
     "execution_count": 159,
     "metadata": {},
     "output_type": "execute_result"
    },
    {
     "data": {
      "application/javascript": [
       "\n",
       "            setTimeout(function() {\n",
       "                var nbb_cell_id = 159;\n",
       "                var nbb_formatted_code = \"from sklearn.ensemble import RandomForestClassifier\\n\\nrf = RandomForestClassifier(random_state=randomseed, n_estimators=100, max_depth=10)\\nrf.fit(train.iloc[:, :-1], train.iloc[:, -1])\";\n",
       "                var nbb_cells = Jupyter.notebook.get_cells();\n",
       "                for (var i = 0; i < nbb_cells.length; ++i) {\n",
       "                    if (nbb_cells[i].input_prompt_number == nbb_cell_id) {\n",
       "                        nbb_cells[i].set_text(nbb_formatted_code);\n",
       "                        break;\n",
       "                    }\n",
       "                }\n",
       "            }, 500);\n",
       "            "
      ],
      "text/plain": [
       "<IPython.core.display.Javascript object>"
      ]
     },
     "metadata": {},
     "output_type": "display_data"
    }
   ],
   "source": [
    "from sklearn.ensemble import RandomForestClassifier\n",
    "\n",
    "rf = RandomForestClassifier(random_state=randomseed, n_estimators=100, max_depth=10)\n",
    "rf.fit(train.iloc[:, :-1], train.iloc[:, -1])"
   ]
  },
  {
   "cell_type": "code",
   "execution_count": 160,
   "metadata": {},
   "outputs": [
    {
     "name": "stdout",
     "output_type": "stream",
     "text": [
      "0.526\n"
     ]
    },
    {
     "data": {
      "image/png": "[encoded data removed]",
      "text/plain": [
       "<Figure size 432x288 with 1 Axes>"
      ]
     },
     "metadata": {
      "needs_background": "light"
     },
     "output_type": "display_data"
    },
    {
     "name": "stdout",
     "output_type": "stream",
     "text": [
      "Index(['r-GTP gamma', 'SGPT', 'AGE', 'L101600', 'L100500', 'ps000502',\n",
      "       'ps000501', 'S000300', 'L103000', 'L100700', 'L100800',\n",
      "       '_6_3_of_physical_activity_walking', 'Drinking_5_1_days',\n",
      "       '_6_2_of_physical_activity_moderate',\n",
      "       '_6_1_of_physical_activity_high_strength', '_4_1_Smoking'],\n",
      "      dtype='object')\n",
      "0.9575490183166779\n"
     ]
    },
    {
     "data": {
      "application/javascript": [
       "\n",
       "            setTimeout(function() {\n",
       "                var nbb_cell_id = 160;\n",
       "                var nbb_formatted_code = \"ypred = rf.predict(test.iloc[:, :-1])\\n\\nscore = rf.score(test.iloc[:, :-1], test.iloc[:, -1])\\nprint(score)\\n\\nfeat_importances = pd.Series(rf.feature_importances_, index=test.iloc[:, :-1].columns)\\nfeat_importances.nlargest(16).plot(kind=\\\"barh\\\")\\nplt.show()\\n\\nprint(feat_importances.nlargest(16).index)\\n\\nprint(np.sum(feat_importances.nlargest(16)))\";\n",
       "                var nbb_cells = Jupyter.notebook.get_cells();\n",
       "                for (var i = 0; i < nbb_cells.length; ++i) {\n",
       "                    if (nbb_cells[i].input_prompt_number == nbb_cell_id) {\n",
       "                        nbb_cells[i].set_text(nbb_formatted_code);\n",
       "                        break;\n",
       "                    }\n",
       "                }\n",
       "            }, 500);\n",
       "            "
      ],
      "text/plain": [
       "<IPython.core.display.Javascript object>"
      ]
     },
     "metadata": {},
     "output_type": "display_data"
    }
   ],
   "source": [
    "ypred = rf.predict(test.iloc[:, :-1])\n",
    "\n",
    "score = rf.score(test.iloc[:, :-1], test.iloc[:, -1])\n",
    "print(score)\n",
    "\n",
    "feat_importances = pd.Series(rf.feature_importances_, index=test.iloc[:, :-1].columns)\n",
    "feat_importances.nlargest(16).plot(kind=\"barh\")\n",
    "plt.show()\n",
    "\n",
    "print(feat_importances.nlargest(16).index)\n",
    "\n",
    "print(np.sum(feat_importances.nlargest(16)))"
   ]
  },
  {
   "cell_type": "code",
   "execution_count": 161,
   "metadata": {},
   "outputs": [
    {
     "data": {
      "text/plain": [
       "array([[627, 200, 173],\n",
       "       [263, 341, 396],\n",
       "       [139, 251, 610]], dtype=int64)"
      ]
     },
     "execution_count": 161,
     "metadata": {},
     "output_type": "execute_result"
    },
    {
     "data": {
      "application/javascript": [
       "\n",
       "            setTimeout(function() {\n",
       "                var nbb_cell_id = 161;\n",
       "                var nbb_formatted_code = \"from sklearn.metrics import confusion_matrix\\n\\nconfusion_matrix(test.iloc[:, -1], ypred)\";\n",
       "                var nbb_cells = Jupyter.notebook.get_cells();\n",
       "                for (var i = 0; i < nbb_cells.length; ++i) {\n",
       "                    if (nbb_cells[i].input_prompt_number == nbb_cell_id) {\n",
       "                        nbb_cells[i].set_text(nbb_formatted_code);\n",
       "                        break;\n",
       "                    }\n",
       "                }\n",
       "            }, 500);\n",
       "            "
      ],
      "text/plain": [
       "<IPython.core.display.Javascript object>"
      ]
     },
     "metadata": {},
     "output_type": "display_data"
    }
   ],
   "source": [
    "from sklearn.metrics import confusion_matrix\n",
    "\n",
    "confusion_matrix(test.iloc[:, -1], ypred)"
   ]
  },
  {
   "cell_type": "code",
   "execution_count": 162,
   "metadata": {},
   "outputs": [
    {
     "name": "stdout",
     "output_type": "stream",
     "text": [
      "Accuracy on training set: 0.844\n",
      "Accuracy on test set: 0.526\n"
     ]
    },
    {
     "data": {
      "text/html": [
       "<div>\n",
       "<style scoped>\n",
       "    .dataframe tbody tr th:only-of-type {\n",
       "        vertical-align: middle;\n",
       "    }\n",
       "\n",
       "    .dataframe tbody tr th {\n",
       "        vertical-align: top;\n",
       "    }\n",
       "\n",
       "    .dataframe thead th {\n",
       "        text-align: right;\n",
       "    }\n",
       "</style>\n",
       "<table border=\"1\" class=\"dataframe\">\n",
       "  <thead>\n",
       "    <tr style=\"text-align: right;\">\n",
       "      <th></th>\n",
       "      <th>0</th>\n",
       "      <th>1</th>\n",
       "      <th>2</th>\n",
       "    </tr>\n",
       "  </thead>\n",
       "  <tbody>\n",
       "    <tr>\n",
       "      <th>0</th>\n",
       "      <td>627</td>\n",
       "      <td>200</td>\n",
       "      <td>173</td>\n",
       "    </tr>\n",
       "    <tr>\n",
       "      <th>1</th>\n",
       "      <td>263</td>\n",
       "      <td>341</td>\n",
       "      <td>396</td>\n",
       "    </tr>\n",
       "    <tr>\n",
       "      <th>2</th>\n",
       "      <td>139</td>\n",
       "      <td>251</td>\n",
       "      <td>610</td>\n",
       "    </tr>\n",
       "  </tbody>\n",
       "</table>\n",
       "</div>"
      ],
      "text/plain": [
       "     0    1    2\n",
       "0  627  200  173\n",
       "1  263  341  396\n",
       "2  139  251  610"
      ]
     },
     "execution_count": 162,
     "metadata": {},
     "output_type": "execute_result"
    },
    {
     "data": {
      "application/javascript": [
       "\n",
       "            setTimeout(function() {\n",
       "                var nbb_cell_id = 162;\n",
       "                var nbb_formatted_code = \"print(\\n    \\\"Accuracy on training set: {:.3f}\\\".format(\\n        rf.score(train.iloc[:, :-1], train.iloc[:, -1])\\n    )\\n)\\nprint(\\n    \\\"Accuracy on test set: {:.3f}\\\".format(rf.score(test.iloc[:, :-1], test.iloc[:, -1]))\\n)\\nypred = rf.predict(test.iloc[:, :-1])\\n\\nconfmatrx = pd.DataFrame(confusion_matrix(test.iloc[:, -1], ypred))\\nconfmatrx.head()\";\n",
       "                var nbb_cells = Jupyter.notebook.get_cells();\n",
       "                for (var i = 0; i < nbb_cells.length; ++i) {\n",
       "                    if (nbb_cells[i].input_prompt_number == nbb_cell_id) {\n",
       "                        nbb_cells[i].set_text(nbb_formatted_code);\n",
       "                        break;\n",
       "                    }\n",
       "                }\n",
       "            }, 500);\n",
       "            "
      ],
      "text/plain": [
       "<IPython.core.display.Javascript object>"
      ]
     },
     "metadata": {},
     "output_type": "display_data"
    }
   ],
   "source": [
    "print(\n",
    "    \"Accuracy on training set: {:.3f}\".format(\n",
    "        rf.score(train.iloc[:, :-1], train.iloc[:, -1])\n",
    "    )\n",
    ")\n",
    "print(\n",
    "    \"Accuracy on test set: {:.3f}\".format(rf.score(test.iloc[:, :-1], test.iloc[:, -1]))\n",
    ")\n",
    "ypred = rf.predict(test.iloc[:, :-1])\n",
    "\n",
    "confmatrx = pd.DataFrame(confusion_matrix(test.iloc[:, -1], ypred))\n",
    "confmatrx.head()"
   ]
  },
  {
   "cell_type": "code",
   "execution_count": 163,
   "metadata": {},
   "outputs": [
    {
     "name": "stdout",
     "output_type": "stream",
     "text": [
      "              precision    recall  f1-score   support\n",
      "\n",
      "           0       0.61      0.63      0.62      1000\n",
      "           1       0.43      0.34      0.38      1000\n",
      "           2       0.52      0.61      0.56      1000\n",
      "\n",
      "    accuracy                           0.53      3000\n",
      "   macro avg       0.52      0.53      0.52      3000\n",
      "weighted avg       0.52      0.53      0.52      3000\n",
      "\n"
     ]
    },
    {
     "data": {
      "application/javascript": [
       "\n",
       "            setTimeout(function() {\n",
       "                var nbb_cell_id = 163;\n",
       "                var nbb_formatted_code = \"from sklearn.metrics import classification_report\\n\\nprint(classification_report(test.iloc[:, -1], ypred))\";\n",
       "                var nbb_cells = Jupyter.notebook.get_cells();\n",
       "                for (var i = 0; i < nbb_cells.length; ++i) {\n",
       "                    if (nbb_cells[i].input_prompt_number == nbb_cell_id) {\n",
       "                        nbb_cells[i].set_text(nbb_formatted_code);\n",
       "                        break;\n",
       "                    }\n",
       "                }\n",
       "            }, 500);\n",
       "            "
      ],
      "text/plain": [
       "<IPython.core.display.Javascript object>"
      ]
     },
     "metadata": {},
     "output_type": "display_data"
    }
   ],
   "source": [
    "from sklearn.metrics import classification_report\n",
    "\n",
    "print(classification_report(test.iloc[:, -1], ypred))"
   ]
  },
  {
   "cell_type": "code",
   "execution_count": 164,
   "metadata": {},
   "outputs": [
    {
     "name": "stdout",
     "output_type": "stream",
     "text": [
      "accuracy \t 0.527\n"
     ]
    },
    {
     "data": {
      "text/html": [
       "<div>\n",
       "<style scoped>\n",
       "    .dataframe tbody tr th:only-of-type {\n",
       "        vertical-align: middle;\n",
       "    }\n",
       "\n",
       "    .dataframe tbody tr th {\n",
       "        vertical-align: top;\n",
       "    }\n",
       "\n",
       "    .dataframe thead th {\n",
       "        text-align: right;\n",
       "    }\n",
       "</style>\n",
       "<table border=\"1\" class=\"dataframe\">\n",
       "  <thead>\n",
       "    <tr style=\"text-align: right;\">\n",
       "      <th></th>\n",
       "      <th>0</th>\n",
       "      <th>1</th>\n",
       "      <th>2</th>\n",
       "    </tr>\n",
       "  </thead>\n",
       "  <tbody>\n",
       "    <tr>\n",
       "      <th>0</th>\n",
       "      <td>631</td>\n",
       "      <td>192</td>\n",
       "      <td>177</td>\n",
       "    </tr>\n",
       "    <tr>\n",
       "      <th>1</th>\n",
       "      <td>272</td>\n",
       "      <td>341</td>\n",
       "      <td>387</td>\n",
       "    </tr>\n",
       "    <tr>\n",
       "      <th>2</th>\n",
       "      <td>134</td>\n",
       "      <td>257</td>\n",
       "      <td>609</td>\n",
       "    </tr>\n",
       "  </tbody>\n",
       "</table>\n",
       "</div>"
      ],
      "text/plain": [
       "     0    1    2\n",
       "0  631  192  177\n",
       "1  272  341  387\n",
       "2  134  257  609"
      ]
     },
     "execution_count": 164,
     "metadata": {},
     "output_type": "execute_result"
    },
    {
     "data": {
      "application/javascript": [
       "\n",
       "            setTimeout(function() {\n",
       "                var nbb_cell_id = 164;\n",
       "                var nbb_formatted_code = \"import xgboost as xgb\\nfrom sklearn import metrics as m\\n\\nxgb_model = xgb.XGBClassifier(objective=\\\"binary:logistic\\\", random_state=randomseed)\\n\\nxgb_model.fit(train.iloc[:, :-1], train.iloc[:, -1])\\n\\ny_pred = xgb_model.predict((test.iloc[:, :-1]))\\n\\nprint(\\\"accuracy \\\\t\\\", m.accuracy_score(test.iloc[:, -1], y_pred))\\nconfmatrx = pd.DataFrame(confusion_matrix(test.iloc[:, -1], y_pred))\\nconfmatrx.head()\";\n",
       "                var nbb_cells = Jupyter.notebook.get_cells();\n",
       "                for (var i = 0; i < nbb_cells.length; ++i) {\n",
       "                    if (nbb_cells[i].input_prompt_number == nbb_cell_id) {\n",
       "                        nbb_cells[i].set_text(nbb_formatted_code);\n",
       "                        break;\n",
       "                    }\n",
       "                }\n",
       "            }, 500);\n",
       "            "
      ],
      "text/plain": [
       "<IPython.core.display.Javascript object>"
      ]
     },
     "metadata": {},
     "output_type": "display_data"
    }
   ],
   "source": [
    "import xgboost as xgb\n",
    "from sklearn import metrics as m\n",
    "\n",
    "xgb_model = xgb.XGBClassifier(objective=\"binary:logistic\", random_state=randomseed)\n",
    "\n",
    "xgb_model.fit(train.iloc[:, :-1], train.iloc[:, -1])\n",
    "\n",
    "y_pred = xgb_model.predict((test.iloc[:, :-1]))\n",
    "\n",
    "print(\"accuracy \\t\", m.accuracy_score(test.iloc[:, -1], y_pred))\n",
    "confmatrx = pd.DataFrame(confusion_matrix(test.iloc[:, -1], y_pred))\n",
    "confmatrx.head()"
   ]
  },
  {
   "cell_type": "code",
   "execution_count": 165,
   "metadata": {},
   "outputs": [
    {
     "name": "stdout",
     "output_type": "stream",
     "text": [
      "              precision    recall  f1-score   support\n",
      "\n",
      "           0       0.61      0.63      0.62      1000\n",
      "           1       0.43      0.34      0.38      1000\n",
      "           2       0.52      0.61      0.56      1000\n",
      "\n",
      "    accuracy                           0.53      3000\n",
      "   macro avg       0.52      0.53      0.52      3000\n",
      "weighted avg       0.52      0.53      0.52      3000\n",
      "\n"
     ]
    },
    {
     "data": {
      "application/javascript": [
       "\n",
       "            setTimeout(function() {\n",
       "                var nbb_cell_id = 165;\n",
       "                var nbb_formatted_code = \"print(classification_report(test.iloc[:, -1], y_pred))\";\n",
       "                var nbb_cells = Jupyter.notebook.get_cells();\n",
       "                for (var i = 0; i < nbb_cells.length; ++i) {\n",
       "                    if (nbb_cells[i].input_prompt_number == nbb_cell_id) {\n",
       "                        nbb_cells[i].set_text(nbb_formatted_code);\n",
       "                        break;\n",
       "                    }\n",
       "                }\n",
       "            }, 500);\n",
       "            "
      ],
      "text/plain": [
       "<IPython.core.display.Javascript object>"
      ]
     },
     "metadata": {},
     "output_type": "display_data"
    }
   ],
   "source": [
    "print(classification_report(test.iloc[:, -1], y_pred))"
   ]
  },
  {
   "cell_type": "markdown",
   "metadata": {},
   "source": [
    "===============================\n",
    "=========="
   ]
  },
  {
   "cell_type": "code",
   "execution_count": null,
   "metadata": {},
   "outputs": [],
   "source": []
  },
  {
   "cell_type": "code",
   "execution_count": null,
   "metadata": {},
   "outputs": [],
   "source": []
  }
 ],
 "metadata": {
  "kernelspec": {
   "display_name": "Python 3",
   "language": "python",
   "name": "python3"
  },
  "language_info": {
   "codemirror_mode": {
    "name": "ipython",
    "version": 3
   },
   "file_extension": ".py",
   "mimetype": "text/x-python",
   "name": "python",
   "nbconvert_exporter": "python",
   "pygments_lexer": "ipython3",
   "version": "3.7.3"
  }
 },
 "nbformat": 4,
 "nbformat_minor": 2
}

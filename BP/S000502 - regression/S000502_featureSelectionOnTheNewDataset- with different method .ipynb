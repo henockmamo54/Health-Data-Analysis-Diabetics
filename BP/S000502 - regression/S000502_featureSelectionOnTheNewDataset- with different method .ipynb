{
 "cells": [
  {
   "cell_type": "code",
   "execution_count": 1,
   "metadata": {},
   "outputs": [
    {
     "data": {
      "application/javascript": [
       "\n",
       "            setTimeout(function() {\n",
       "                var nbb_cell_id = 1;\n",
       "                var nbb_formatted_code = \"%load_ext nb_black\\nimport numpy as np\\nimport pandas as pd\\nimport warnings\\n\\nwarnings.filterwarnings(\\\"ignore\\\")\\nfrom scipy.stats import chi2_contingency\\nfrom scipy import stats\";\n",
       "                var nbb_cells = Jupyter.notebook.get_cells();\n",
       "                for (var i = 0; i < nbb_cells.length; ++i) {\n",
       "                    if (nbb_cells[i].input_prompt_number == nbb_cell_id) {\n",
       "                        nbb_cells[i].set_text(nbb_formatted_code);\n",
       "                        break;\n",
       "                    }\n",
       "                }\n",
       "            }, 500);\n",
       "            "
      ],
      "text/plain": [
       "<IPython.core.display.Javascript object>"
      ]
     },
     "metadata": {},
     "output_type": "display_data"
    }
   ],
   "source": [
    "%load_ext nb_black\n",
    "import numpy as np\n",
    "import pandas as pd\n",
    "import warnings\n",
    "\n",
    "warnings.filterwarnings(\"ignore\")\n",
    "from scipy.stats import chi2_contingency\n",
    "from scipy import stats"
   ]
  },
  {
   "cell_type": "code",
   "execution_count": 2,
   "metadata": {},
   "outputs": [
    {
     "data": {
      "application/javascript": [
       "\n",
       "            setTimeout(function() {\n",
       "                var nbb_cell_id = 2;\n",
       "                var nbb_formatted_code = \"# x=pd.read_csv('../_xlable4_withNa_AllColumns.txt')\\n# y=pd.read_csv('../_targelable4_withNa_AllColumns.txt')\\n\\n# y=y[['Unnamed: 0','S000501', ]]\";\n",
       "                var nbb_cells = Jupyter.notebook.get_cells();\n",
       "                for (var i = 0; i < nbb_cells.length; ++i) {\n",
       "                    if (nbb_cells[i].input_prompt_number == nbb_cell_id) {\n",
       "                        nbb_cells[i].set_text(nbb_formatted_code);\n",
       "                        break;\n",
       "                    }\n",
       "                }\n",
       "            }, 500);\n",
       "            "
      ],
      "text/plain": [
       "<IPython.core.display.Javascript object>"
      ]
     },
     "metadata": {},
     "output_type": "display_data"
    }
   ],
   "source": [
    "# x=pd.read_csv('../_xlable4_withNa_AllColumns.txt')\n",
    "# y=pd.read_csv('../_targelable4_withNa_AllColumns.txt')\n",
    "\n",
    "# y=y[['Unnamed: 0','S000501', ]]"
   ]
  },
  {
   "cell_type": "code",
   "execution_count": 3,
   "metadata": {},
   "outputs": [
    {
     "data": {
      "application/javascript": [
       "\n",
       "            setTimeout(function() {\n",
       "                var nbb_cell_id = 3;\n",
       "                var nbb_formatted_code = \"# data= pd.merge(x,y, how='inner',left_on='Unnamed: 0', right_on='Unnamed: 0')\\ndata = pd.read_csv(\\\"../../sep19SexAndAgeAddedFINAL DATASET_ver2.txt\\\", sep=\\\",\\\")\\ndata[\\\"max\\\"] = np.min(data[[\\\"FIELD_6\\\", \\\"FIELD_7\\\"]], axis=1)\\ndata = data.drop(columns=[\\\"FIELD_6\\\", \\\"FIELD_7\\\"])\";\n",
       "                var nbb_cells = Jupyter.notebook.get_cells();\n",
       "                for (var i = 0; i < nbb_cells.length; ++i) {\n",
       "                    if (nbb_cells[i].input_prompt_number == nbb_cell_id) {\n",
       "                        nbb_cells[i].set_text(nbb_formatted_code);\n",
       "                        break;\n",
       "                    }\n",
       "                }\n",
       "            }, 500);\n",
       "            "
      ],
      "text/plain": [
       "<IPython.core.display.Javascript object>"
      ]
     },
     "metadata": {},
     "output_type": "display_data"
    }
   ],
   "source": [
    "# data= pd.merge(x,y, how='inner',left_on='Unnamed: 0', right_on='Unnamed: 0')\n",
    "data = pd.read_csv(\"../../sep19SexAndAgeAddedFINAL DATASET_ver2.txt\", sep=\",\")\n",
    "data[\"max\"] = np.min(data[[\"FIELD_6\", \"FIELD_7\"]], axis=1)\n",
    "data = data.drop(columns=[\"FIELD_6\", \"FIELD_7\"])"
   ]
  },
  {
   "cell_type": "code",
   "execution_count": 4,
   "metadata": {},
   "outputs": [
    {
     "data": {
      "application/javascript": [
       "\n",
       "            setTimeout(function() {\n",
       "                var nbb_cell_id = 4;\n",
       "                var nbb_formatted_code = \"# change field 38 to 3 group\\ncondtion = [\\n    data.FIELD_38 == 0,\\n    (data.FIELD_38 > 0) & (data.FIELD_38 < 4),\\n    data.FIELD_38 >= 4,\\n]\\nchoice = [0, 1, 2]\\ndata[\\\"FIELD_38_C\\\"] = np.select(condtion, choice, default=np.nan)\";\n",
       "                var nbb_cells = Jupyter.notebook.get_cells();\n",
       "                for (var i = 0; i < nbb_cells.length; ++i) {\n",
       "                    if (nbb_cells[i].input_prompt_number == nbb_cell_id) {\n",
       "                        nbb_cells[i].set_text(nbb_formatted_code);\n",
       "                        break;\n",
       "                    }\n",
       "                }\n",
       "            }, 500);\n",
       "            "
      ],
      "text/plain": [
       "<IPython.core.display.Javascript object>"
      ]
     },
     "metadata": {},
     "output_type": "display_data"
    }
   ],
   "source": [
    "# change field 38 to 3 group\n",
    "condtion = [\n",
    "    data.FIELD_38 == 0,\n",
    "    (data.FIELD_38 > 0) & (data.FIELD_38 < 4),\n",
    "    data.FIELD_38 >= 4,\n",
    "]\n",
    "choice = [0, 1, 2]\n",
    "data[\"FIELD_38_C\"] = np.select(condtion, choice, default=np.nan)"
   ]
  },
  {
   "cell_type": "code",
   "execution_count": 5,
   "metadata": {},
   "outputs": [
    {
     "data": {
      "application/javascript": [
       "\n",
       "            setTimeout(function() {\n",
       "                var nbb_cell_id = 5;\n",
       "                var nbb_formatted_code = \"# add Class to the dataset\\n_class = []\\nfor i in range(data.shape[0]):\\n    if (data.S000501[i] >= 140) | (data.S000502[i] >= 90):\\n        _class.append(2)\\n    elif (data.S000501[i] < 120) & (data.S000502[i] < 80):\\n        _class.append(0)\\n    else:\\n        _class.append(1)\\ndata[\\\"CLASS\\\"] = _class\";\n",
       "                var nbb_cells = Jupyter.notebook.get_cells();\n",
       "                for (var i = 0; i < nbb_cells.length; ++i) {\n",
       "                    if (nbb_cells[i].input_prompt_number == nbb_cell_id) {\n",
       "                        nbb_cells[i].set_text(nbb_formatted_code);\n",
       "                        break;\n",
       "                    }\n",
       "                }\n",
       "            }, 500);\n",
       "            "
      ],
      "text/plain": [
       "<IPython.core.display.Javascript object>"
      ]
     },
     "metadata": {},
     "output_type": "display_data"
    }
   ],
   "source": [
    "# add Class to the dataset\n",
    "_class = []\n",
    "for i in range(data.shape[0]):\n",
    "    if (data.S000501[i] >= 140) | (data.S000502[i] >= 90):\n",
    "        _class.append(2)\n",
    "    elif (data.S000501[i] < 120) & (data.S000502[i] < 80):\n",
    "        _class.append(0)\n",
    "    else:\n",
    "        _class.append(1)\n",
    "data[\"CLASS\"] = _class"
   ]
  },
  {
   "cell_type": "code",
   "execution_count": 6,
   "metadata": {},
   "outputs": [
    {
     "name": "stdout",
     "output_type": "stream",
     "text": [
      "(466680, 407)\n"
     ]
    },
    {
     "data": {
      "application/javascript": [
       "\n",
       "            setTimeout(function() {\n",
       "                var nbb_cell_id = 6;\n",
       "                var nbb_formatted_code = \"# filter the data set\\ndata = data[data.FIELD_16 != 1]  # exclude people who are diagnosed for (diabetes)\\ndata = data[data.FIELD_23 != 1]  # exclude people who are on medication for diabetes\\n\\ndata = data[\\n    data.FIELD_15 != 1\\n]  # exclude people who are diagnosed for (high blood pressure)\\ndata = data[\\n    data.FIELD_22 != 1\\n]  # exclude people who are on medication for high blood pressure\\n\\ndata = data[data.FIELD_17 != 1]  # exclude people who are diagnosed for hyperlipidemia\\ndata = data[\\n    data.FIELD_24 != 1\\n]  # exclude people who are on medication for hyperlipidemia\\nprint(data.shape)\";\n",
       "                var nbb_cells = Jupyter.notebook.get_cells();\n",
       "                for (var i = 0; i < nbb_cells.length; ++i) {\n",
       "                    if (nbb_cells[i].input_prompt_number == nbb_cell_id) {\n",
       "                        nbb_cells[i].set_text(nbb_formatted_code);\n",
       "                        break;\n",
       "                    }\n",
       "                }\n",
       "            }, 500);\n",
       "            "
      ],
      "text/plain": [
       "<IPython.core.display.Javascript object>"
      ]
     },
     "metadata": {},
     "output_type": "display_data"
    }
   ],
   "source": [
    "# filter the data set\n",
    "data = data[data.FIELD_16 != 1]  # exclude people who are diagnosed for (diabetes)\n",
    "data = data[data.FIELD_23 != 1]  # exclude people who are on medication for diabetes\n",
    "\n",
    "data = data[\n",
    "    data.FIELD_15 != 1\n",
    "]  # exclude people who are diagnosed for (high blood pressure)\n",
    "data = data[\n",
    "    data.FIELD_22 != 1\n",
    "]  # exclude people who are on medication for high blood pressure\n",
    "\n",
    "data = data[data.FIELD_17 != 1]  # exclude people who are diagnosed for hyperlipidemia\n",
    "data = data[\n",
    "    data.FIELD_24 != 1\n",
    "]  # exclude people who are on medication for hyperlipidemia\n",
    "print(data.shape)"
   ]
  },
  {
   "cell_type": "code",
   "execution_count": 7,
   "metadata": {},
   "outputs": [
    {
     "data": {
      "application/javascript": [
       "\n",
       "            setTimeout(function() {\n",
       "                var nbb_cell_id = 7;\n",
       "                var nbb_formatted_code = \"# split column types to categorical and numerical\\nnumerical_cols = list(data.columns[~data.columns.str.startswith(\\\"FIELD\\\")])\\ncategorical_cols = list(data.columns[data.columns.str.startswith(\\\"FIELD\\\")])\\ncategorical_cols.append(\\\"CLASS\\\")\\nnumerical_cols.remove(\\\"SEX\\\")\\ncategorical_cols.append(\\\"SEX\\\")\";\n",
       "                var nbb_cells = Jupyter.notebook.get_cells();\n",
       "                for (var i = 0; i < nbb_cells.length; ++i) {\n",
       "                    if (nbb_cells[i].input_prompt_number == nbb_cell_id) {\n",
       "                        nbb_cells[i].set_text(nbb_formatted_code);\n",
       "                        break;\n",
       "                    }\n",
       "                }\n",
       "            }, 500);\n",
       "            "
      ],
      "text/plain": [
       "<IPython.core.display.Javascript object>"
      ]
     },
     "metadata": {},
     "output_type": "display_data"
    }
   ],
   "source": [
    "# split column types to categorical and numerical\n",
    "numerical_cols = list(data.columns[~data.columns.str.startswith(\"FIELD\")])\n",
    "categorical_cols = list(data.columns[data.columns.str.startswith(\"FIELD\")])\n",
    "categorical_cols.append(\"CLASS\")\n",
    "numerical_cols.remove(\"SEX\")\n",
    "categorical_cols.append(\"SEX\")"
   ]
  },
  {
   "cell_type": "markdown",
   "metadata": {},
   "source": [
    "Calculate correlation Value - for numerical values\n",
    "========"
   ]
  },
  {
   "cell_type": "code",
   "execution_count": 8,
   "metadata": {},
   "outputs": [
    {
     "data": {
      "text/html": [
       "<div>\n",
       "<style scoped>\n",
       "    .dataframe tbody tr th:only-of-type {\n",
       "        vertical-align: middle;\n",
       "    }\n",
       "\n",
       "    .dataframe tbody tr th {\n",
       "        vertical-align: top;\n",
       "    }\n",
       "\n",
       "    .dataframe thead th {\n",
       "        text-align: right;\n",
       "    }\n",
       "</style>\n",
       "<table border=\"1\" class=\"dataframe\">\n",
       "  <thead>\n",
       "    <tr style=\"text-align: right;\">\n",
       "      <th></th>\n",
       "      <th>Col</th>\n",
       "      <th>val</th>\n",
       "    </tr>\n",
       "  </thead>\n",
       "  <tbody>\n",
       "    <tr>\n",
       "      <th>214</th>\n",
       "      <td>S000502</td>\n",
       "      <td>1.0</td>\n",
       "    </tr>\n",
       "    <tr>\n",
       "      <th>178</th>\n",
       "      <td>L518900</td>\n",
       "      <td>1.0</td>\n",
       "    </tr>\n",
       "    <tr>\n",
       "      <th>59</th>\n",
       "      <td>L117700</td>\n",
       "      <td>1.0</td>\n",
       "    </tr>\n",
       "    <tr>\n",
       "      <th>148</th>\n",
       "      <td>L501600</td>\n",
       "      <td>1.0</td>\n",
       "    </tr>\n",
       "    <tr>\n",
       "      <th>159</th>\n",
       "      <td>L503200</td>\n",
       "      <td>1.0</td>\n",
       "    </tr>\n",
       "  </tbody>\n",
       "</table>\n",
       "</div>"
      ],
      "text/plain": [
       "         Col  val\n",
       "214  S000502  1.0\n",
       "178  L518900  1.0\n",
       "59   L117700  1.0\n",
       "148  L501600  1.0\n",
       "159  L503200  1.0"
      ]
     },
     "execution_count": 8,
     "metadata": {},
     "output_type": "execute_result"
    },
    {
     "data": {
      "application/javascript": [
       "\n",
       "            setTimeout(function() {\n",
       "                var nbb_cell_id = 8;\n",
       "                var nbb_formatted_code = \"corr = data[numerical_cols].corr()\\ncorr = corr.S000502\\ncorrvalPD = pd.DataFrame()\\ncorrvalPD[\\\"Col\\\"] = corr.index\\ncorrvalPD[\\\"val\\\"] = abs(corr.values)\\n\\ncorrvalPD = corrvalPD.sort_values(by=\\\"val\\\", ascending=False)\\ncorrvalPD.head()\";\n",
       "                var nbb_cells = Jupyter.notebook.get_cells();\n",
       "                for (var i = 0; i < nbb_cells.length; ++i) {\n",
       "                    if (nbb_cells[i].input_prompt_number == nbb_cell_id) {\n",
       "                        nbb_cells[i].set_text(nbb_formatted_code);\n",
       "                        break;\n",
       "                    }\n",
       "                }\n",
       "            }, 500);\n",
       "            "
      ],
      "text/plain": [
       "<IPython.core.display.Javascript object>"
      ]
     },
     "metadata": {},
     "output_type": "display_data"
    }
   ],
   "source": [
    "corr = data[numerical_cols].corr()\n",
    "corr = corr.S000502\n",
    "corrvalPD = pd.DataFrame()\n",
    "corrvalPD[\"Col\"] = corr.index\n",
    "corrvalPD[\"val\"] = abs(corr.values)\n",
    "\n",
    "corrvalPD = corrvalPD.sort_values(by=\"val\", ascending=False)\n",
    "corrvalPD.head()"
   ]
  },
  {
   "cell_type": "code",
   "execution_count": 9,
   "metadata": {},
   "outputs": [
    {
     "data": {
      "text/html": [
       "<div>\n",
       "<style scoped>\n",
       "    .dataframe tbody tr th:only-of-type {\n",
       "        vertical-align: middle;\n",
       "    }\n",
       "\n",
       "    .dataframe tbody tr th {\n",
       "        vertical-align: top;\n",
       "    }\n",
       "\n",
       "    .dataframe thead th {\n",
       "        text-align: right;\n",
       "    }\n",
       "</style>\n",
       "<table border=\"1\" class=\"dataframe\">\n",
       "  <thead>\n",
       "    <tr style=\"text-align: right;\">\n",
       "      <th></th>\n",
       "      <th>Col</th>\n",
       "      <th>Count</th>\n",
       "    </tr>\n",
       "  </thead>\n",
       "  <tbody>\n",
       "    <tr>\n",
       "      <th>0</th>\n",
       "      <td>Unnamed: 0</td>\n",
       "      <td>466680</td>\n",
       "    </tr>\n",
       "    <tr>\n",
       "      <th>1</th>\n",
       "      <td>COMPARE</td>\n",
       "      <td>466680</td>\n",
       "    </tr>\n",
       "    <tr>\n",
       "      <th>2</th>\n",
       "      <td>AGE</td>\n",
       "      <td>466679</td>\n",
       "    </tr>\n",
       "    <tr>\n",
       "      <th>3</th>\n",
       "      <td>B_DAY</td>\n",
       "      <td>466679</td>\n",
       "    </tr>\n",
       "    <tr>\n",
       "      <th>4</th>\n",
       "      <td>L100100</td>\n",
       "      <td>446887</td>\n",
       "    </tr>\n",
       "  </tbody>\n",
       "</table>\n",
       "</div>"
      ],
      "text/plain": [
       "          Col   Count\n",
       "0  Unnamed: 0  466680\n",
       "1     COMPARE  466680\n",
       "2         AGE  466679\n",
       "3       B_DAY  466679\n",
       "4     L100100  446887"
      ]
     },
     "execution_count": 9,
     "metadata": {},
     "output_type": "execute_result"
    },
    {
     "data": {
      "application/javascript": [
       "\n",
       "            setTimeout(function() {\n",
       "                var nbb_cell_id = 9;\n",
       "                var nbb_formatted_code = \"# count of none NA values of feature set\\nmydataset = data.copy()[numerical_cols]\\ncolCount = []\\nfor i in mydataset.columns:\\n    colCount.append([i, mydataset[i].dropna().shape[0]])\\n\\ncolCountPD = pd.DataFrame(colCount, columns=[\\\"Col\\\", \\\"Count\\\"])\\ncolCountPD.head()\";\n",
       "                var nbb_cells = Jupyter.notebook.get_cells();\n",
       "                for (var i = 0; i < nbb_cells.length; ++i) {\n",
       "                    if (nbb_cells[i].input_prompt_number == nbb_cell_id) {\n",
       "                        nbb_cells[i].set_text(nbb_formatted_code);\n",
       "                        break;\n",
       "                    }\n",
       "                }\n",
       "            }, 500);\n",
       "            "
      ],
      "text/plain": [
       "<IPython.core.display.Javascript object>"
      ]
     },
     "metadata": {},
     "output_type": "display_data"
    }
   ],
   "source": [
    "# count of none NA values of feature set\n",
    "mydataset = data.copy()[numerical_cols]\n",
    "colCount = []\n",
    "for i in mydataset.columns:\n",
    "    colCount.append([i, mydataset[i].dropna().shape[0]])\n",
    "\n",
    "colCountPD = pd.DataFrame(colCount, columns=[\"Col\", \"Count\"])\n",
    "colCountPD.head()"
   ]
  },
  {
   "cell_type": "code",
   "execution_count": 10,
   "metadata": {},
   "outputs": [
    {
     "data": {
      "text/html": [
       "<div>\n",
       "<style scoped>\n",
       "    .dataframe tbody tr th:only-of-type {\n",
       "        vertical-align: middle;\n",
       "    }\n",
       "\n",
       "    .dataframe tbody tr th {\n",
       "        vertical-align: top;\n",
       "    }\n",
       "\n",
       "    .dataframe thead th {\n",
       "        text-align: right;\n",
       "    }\n",
       "</style>\n",
       "<table border=\"1\" class=\"dataframe\">\n",
       "  <thead>\n",
       "    <tr style=\"text-align: right;\">\n",
       "      <th></th>\n",
       "      <th>Col</th>\n",
       "      <th>val</th>\n",
       "      <th>Count</th>\n",
       "    </tr>\n",
       "  </thead>\n",
       "  <tbody>\n",
       "    <tr>\n",
       "      <th>0</th>\n",
       "      <td>S000502</td>\n",
       "      <td>1.000000</td>\n",
       "      <td>466410</td>\n",
       "    </tr>\n",
       "    <tr>\n",
       "      <th>12</th>\n",
       "      <td>S000501</td>\n",
       "      <td>0.772022</td>\n",
       "      <td>466410</td>\n",
       "    </tr>\n",
       "    <tr>\n",
       "      <th>16</th>\n",
       "      <td>CLASS</td>\n",
       "      <td>0.749195</td>\n",
       "      <td>466680</td>\n",
       "    </tr>\n",
       "    <tr>\n",
       "      <th>28</th>\n",
       "      <td>S000300</td>\n",
       "      <td>0.354385</td>\n",
       "      <td>465393</td>\n",
       "    </tr>\n",
       "    <tr>\n",
       "      <th>32</th>\n",
       "      <td>L190400</td>\n",
       "      <td>0.331420</td>\n",
       "      <td>466197</td>\n",
       "    </tr>\n",
       "    <tr>\n",
       "      <th>33</th>\n",
       "      <td>L190500</td>\n",
       "      <td>0.323375</td>\n",
       "      <td>465172</td>\n",
       "    </tr>\n",
       "    <tr>\n",
       "      <th>34</th>\n",
       "      <td>L190300</td>\n",
       "      <td>0.321483</td>\n",
       "      <td>465316</td>\n",
       "    </tr>\n",
       "    <tr>\n",
       "      <th>37</th>\n",
       "      <td>L100700</td>\n",
       "      <td>0.293079</td>\n",
       "      <td>447592</td>\n",
       "    </tr>\n",
       "    <tr>\n",
       "      <th>39</th>\n",
       "      <td>L103000</td>\n",
       "      <td>0.267757</td>\n",
       "      <td>465103</td>\n",
       "    </tr>\n",
       "    <tr>\n",
       "      <th>40</th>\n",
       "      <td>L103300</td>\n",
       "      <td>0.266663</td>\n",
       "      <td>397549</td>\n",
       "    </tr>\n",
       "    <tr>\n",
       "      <th>42</th>\n",
       "      <td>L100800</td>\n",
       "      <td>0.250716</td>\n",
       "      <td>466134</td>\n",
       "    </tr>\n",
       "    <tr>\n",
       "      <th>44</th>\n",
       "      <td>S000600</td>\n",
       "      <td>0.246757</td>\n",
       "      <td>69774</td>\n",
       "    </tr>\n",
       "    <tr>\n",
       "      <th>45</th>\n",
       "      <td>L101700</td>\n",
       "      <td>0.246223</td>\n",
       "      <td>465651</td>\n",
       "    </tr>\n",
       "    <tr>\n",
       "      <th>46</th>\n",
       "      <td>L100500</td>\n",
       "      <td>0.228397</td>\n",
       "      <td>465605</td>\n",
       "    </tr>\n",
       "    <tr>\n",
       "      <th>50</th>\n",
       "      <td>L101300</td>\n",
       "      <td>0.208917</td>\n",
       "      <td>466235</td>\n",
       "    </tr>\n",
       "    <tr>\n",
       "      <th>53</th>\n",
       "      <td>S000100</td>\n",
       "      <td>0.196408</td>\n",
       "      <td>466344</td>\n",
       "    </tr>\n",
       "    <tr>\n",
       "      <th>54</th>\n",
       "      <td>L102900</td>\n",
       "      <td>0.193668</td>\n",
       "      <td>465273</td>\n",
       "    </tr>\n",
       "    <tr>\n",
       "      <th>55</th>\n",
       "      <td>S010102</td>\n",
       "      <td>0.193282</td>\n",
       "      <td>399562</td>\n",
       "    </tr>\n",
       "    <tr>\n",
       "      <th>56</th>\n",
       "      <td>S010101</td>\n",
       "      <td>0.193022</td>\n",
       "      <td>399544</td>\n",
       "    </tr>\n",
       "    <tr>\n",
       "      <th>59</th>\n",
       "      <td>AGE</td>\n",
       "      <td>0.177733</td>\n",
       "      <td>466679</td>\n",
       "    </tr>\n",
       "  </tbody>\n",
       "</table>\n",
       "</div>"
      ],
      "text/plain": [
       "        Col       val   Count\n",
       "0   S000502  1.000000  466410\n",
       "12  S000501  0.772022  466410\n",
       "16    CLASS  0.749195  466680\n",
       "28  S000300  0.354385  465393\n",
       "32  L190400  0.331420  466197\n",
       "33  L190500  0.323375  465172\n",
       "34  L190300  0.321483  465316\n",
       "37  L100700  0.293079  447592\n",
       "39  L103000  0.267757  465103\n",
       "40  L103300  0.266663  397549\n",
       "42  L100800  0.250716  466134\n",
       "44  S000600  0.246757   69774\n",
       "45  L101700  0.246223  465651\n",
       "46  L100500  0.228397  465605\n",
       "50  L101300  0.208917  466235\n",
       "53  S000100  0.196408  466344\n",
       "54  L102900  0.193668  465273\n",
       "55  S010102  0.193282  399562\n",
       "56  S010101  0.193022  399544\n",
       "59      AGE  0.177733  466679"
      ]
     },
     "execution_count": 10,
     "metadata": {},
     "output_type": "execute_result"
    },
    {
     "data": {
      "application/javascript": [
       "\n",
       "            setTimeout(function() {\n",
       "                var nbb_cell_id = 10;\n",
       "                var nbb_formatted_code = \"mergedColCorrCount = pd.merge(\\n    corrvalPD, colCountPD, how=\\\"inner\\\", left_on=\\\"Col\\\", right_on=\\\"Col\\\"\\n)\\nmergedColCorrCount = mergedColCorrCount[mergedColCorrCount.Count > 50000]\\nmergedColCorrCount = mergedColCorrCount.sort_values(by=\\\"val\\\", ascending=False)\\nmergedColCorrCount.head(20)\";\n",
       "                var nbb_cells = Jupyter.notebook.get_cells();\n",
       "                for (var i = 0; i < nbb_cells.length; ++i) {\n",
       "                    if (nbb_cells[i].input_prompt_number == nbb_cell_id) {\n",
       "                        nbb_cells[i].set_text(nbb_formatted_code);\n",
       "                        break;\n",
       "                    }\n",
       "                }\n",
       "            }, 500);\n",
       "            "
      ],
      "text/plain": [
       "<IPython.core.display.Javascript object>"
      ]
     },
     "metadata": {},
     "output_type": "display_data"
    }
   ],
   "source": [
    "mergedColCorrCount = pd.merge(\n",
    "    corrvalPD, colCountPD, how=\"inner\", left_on=\"Col\", right_on=\"Col\"\n",
    ")\n",
    "mergedColCorrCount = mergedColCorrCount[mergedColCorrCount.Count > 50000]\n",
    "mergedColCorrCount = mergedColCorrCount.sort_values(by=\"val\", ascending=False)\n",
    "mergedColCorrCount.head(20)"
   ]
  },
  {
   "cell_type": "code",
   "execution_count": 11,
   "metadata": {},
   "outputs": [
    {
     "name": "stdout",
     "output_type": "stream",
     "text": [
      "['S000502', 'S000501', 'CLASS', 'S000300', 'L190400', 'L190500', 'L190300', 'L100700', 'L103000', 'L103300', 'L100800', 'S000600', 'L101700', 'L100500', 'L101300', 'S000100', 'L102900', 'S010102', 'S010101', 'AGE']\n"
     ]
    },
    {
     "data": {
      "application/javascript": [
       "\n",
       "            setTimeout(function() {\n",
       "                var nbb_cell_id = 11;\n",
       "                var nbb_formatted_code = \"print(list(mergedColCorrCount.head(20).Col))\";\n",
       "                var nbb_cells = Jupyter.notebook.get_cells();\n",
       "                for (var i = 0; i < nbb_cells.length; ++i) {\n",
       "                    if (nbb_cells[i].input_prompt_number == nbb_cell_id) {\n",
       "                        nbb_cells[i].set_text(nbb_formatted_code);\n",
       "                        break;\n",
       "                    }\n",
       "                }\n",
       "            }, 500);\n",
       "            "
      ],
      "text/plain": [
       "<IPython.core.display.Javascript object>"
      ]
     },
     "metadata": {},
     "output_type": "display_data"
    }
   ],
   "source": [
    "print(list(mergedColCorrCount.head(20).Col))"
   ]
  },
  {
   "cell_type": "markdown",
   "metadata": {},
   "source": [
    "Anova test - For categorical values [Questionnaire answers]\n",
    "======="
   ]
  },
  {
   "cell_type": "code",
   "execution_count": 12,
   "metadata": {},
   "outputs": [
    {
     "data": {
      "application/javascript": [
       "\n",
       "            setTimeout(function() {\n",
       "                var nbb_cell_id = 12;\n",
       "                var nbb_formatted_code = \"mydataset = data.copy()[categorical_cols]  # [np.insert(categorical_cols,0,'L100800')]\\n\\n# mydataset=mydataset.drop(columns=['FIELD_1','FIELD_2','FIELD_8','FIELD_10','FIELD_11','FIELD_12','FIELD_39','FIELD_88',\\n#                            'FIELD_89','FIELD_109','FIELD_110','FIELD_111','FIELD_70','FIELD_82','FIELD_85','FIELD_91',\\n#                            'FIELD_103','FIELD_106'])\\n\\n# mydataset=mydataset.drop(columns=['FIELD_1','FIELD_2','FIELD_87','FIELD_8','FIELD_10','FIELD_11','FIELD_12','FIELD_39',\\n#                                   'FIELD_88','FIELD_89', 'FIELD_108','FIELD_109','FIELD_110','FIELD_111','FIELD_82',\\n#                                  'FIELD_91','FIELD_103','FIELD_118','FIELD_119','FIELD_120','FIELD_121','FIELD_122',\\n#                                  'FIELD_123','FIELD_124','FIELD_125','FIELD_126','FIELD_127','FIELD_128','FIELD_129',\\n#                                  'FIELD_130','FIELD_131','FIELD_132','FIELD_133','FIELD_134','FIELD_135','FIELD_136',\\n#                                   'FIELD_137','FIELD_138','FIELD_139','FIELD_140'])\\n\\n\\nmydataset = mydataset.drop(\\n    columns=[\\n        \\\"FIELD_1\\\",\\n        \\\"FIELD_2\\\",\\n        \\\"FIELD_87\\\",\\n        \\\"FIELD_8\\\",\\n        \\\"FIELD_10\\\",\\n        \\\"FIELD_11\\\",\\n        \\\"FIELD_12\\\",\\n        \\\"FIELD_39\\\",\\n        \\\"FIELD_88\\\",\\n        \\\"FIELD_89\\\",\\n        \\\"FIELD_108\\\",\\n        \\\"FIELD_109\\\",\\n        \\\"FIELD_110\\\",\\n        \\\"FIELD_111\\\",\\n        \\\"FIELD_82\\\",\\n        \\\"FIELD_91\\\",\\n        \\\"FIELD_103\\\",\\n        \\\"FIELD_118\\\",\\n        \\\"FIELD_119\\\",\\n        \\\"FIELD_120\\\",\\n        \\\"FIELD_121\\\",\\n        \\\"FIELD_122\\\",\\n        \\\"FIELD_123\\\",\\n        \\\"FIELD_124\\\",\\n        \\\"FIELD_125\\\",\\n        \\\"FIELD_126\\\",\\n        \\\"FIELD_127\\\",\\n        \\\"FIELD_128\\\",\\n        \\\"FIELD_129\\\",\\n        \\\"FIELD_130\\\",\\n        \\\"FIELD_131\\\",\\n        \\\"FIELD_132\\\",\\n        \\\"FIELD_133\\\",\\n        \\\"FIELD_134\\\",\\n        \\\"FIELD_135\\\",\\n        \\\"FIELD_136\\\",\\n        \\\"FIELD_137\\\",\\n        \\\"FIELD_138\\\",\\n        \\\"FIELD_139\\\",\\n        \\\"FIELD_140\\\",\\n        \\\"FIELD_64\\\",\\n        \\\"FIELD_65\\\",\\n        \\\"FIELD_66\\\",\\n        \\\"FIELD_67\\\",\\n        \\\"FIELD_68\\\",\\n        \\\"FIELD_69\\\",\\n        \\\"FIELD_70\\\",\\n        \\\"FIELD_72\\\",\\n        \\\"FIELD_73\\\",\\n        \\\"FIELD_74\\\",\\n        \\\"FIELD_75\\\",\\n        \\\"FIELD_76\\\",\\n        \\\"FIELD_77\\\",\\n        \\\"FIELD_80\\\",\\n        \\\"FIELD_81\\\",\\n        \\\"FIELD_84\\\",\\n        \\\"FIELD_85\\\",\\n        \\\"FIELD_90\\\",\\n        \\\"FIELD_93\\\",\\n        \\\"FIELD_94\\\",\\n        \\\"FIELD_95\\\",\\n        \\\"FIELD_96\\\",\\n        \\\"FIELD_97\\\",\\n        \\\"FIELD_98\\\",\\n        \\\"FIELD_101\\\",\\n        \\\"FIELD_102\\\",\\n        \\\"FIELD_105\\\",\\n        \\\"FIELD_106\\\",\\n        \\\"FIELD_112\\\",\\n        \\\"FIELD_113\\\",\\n        \\\"FIELD_114\\\",\\n        \\\"FIELD_115\\\",\\n        \\\"FIELD_116\\\",\\n        \\\"FIELD_117\\\",\\n        \\\"FIELD_118\\\",\\n        \\\"FIELD_119\\\",\\n        \\\"FIELD_9\\\",\\n    ]\\n)\\n\\n\\nmydataset = mydataset.drop(mydataset[mydataset.FIELD_3 == \\\"`\\\"].index)\\nmydataset = mydataset.drop(mydataset[mydataset.FIELD_3 == \\\"G\\\"].index)\\n\\n\\nmydataset = mydataset.drop(mydataset[mydataset.FIELD_4 == \\\".\\\"].index)\\nmydataset = mydataset.drop(mydataset[mydataset.FIELD_5 == \\\".\\\"].index)\\n\\nmydataset = mydataset.drop(mydataset[mydataset.FIELD_35 == \\\"?\\\"].index)\\nmydataset = mydataset.drop(mydataset[mydataset.FIELD_35 == \\\".\\\"].index)\\nmydataset = mydataset.drop(mydataset[mydataset.FIELD_36 == \\\".\\\"].index)\\nmydataset = mydataset.drop(mydataset[mydataset.FIELD_37 == \\\"\\\\\\\\\\\"].index)\\n\\n# mydataset=mydataset.drop(mydataset[mydataset.FIELD_39 == '7+' ].index)\\n# mydataset=mydataset.drop(mydataset[mydataset.FIELD_39 == '5~7'].index)\\n# mydataset=mydataset.drop(mydataset[mydataset.FIELD_39 == '3-4'].index)\\n\\n\\n# mydataset=mydataset.drop(mydataset[mydataset.FIELD_95=='.'].index)\";\n",
       "                var nbb_cells = Jupyter.notebook.get_cells();\n",
       "                for (var i = 0; i < nbb_cells.length; ++i) {\n",
       "                    if (nbb_cells[i].input_prompt_number == nbb_cell_id) {\n",
       "                        nbb_cells[i].set_text(nbb_formatted_code);\n",
       "                        break;\n",
       "                    }\n",
       "                }\n",
       "            }, 500);\n",
       "            "
      ],
      "text/plain": [
       "<IPython.core.display.Javascript object>"
      ]
     },
     "metadata": {},
     "output_type": "display_data"
    }
   ],
   "source": [
    "mydataset = data.copy()[categorical_cols]  # [np.insert(categorical_cols,0,'L100800')]\n",
    "\n",
    "# mydataset=mydataset.drop(columns=['FIELD_1','FIELD_2','FIELD_8','FIELD_10','FIELD_11','FIELD_12','FIELD_39','FIELD_88',\n",
    "#                            'FIELD_89','FIELD_109','FIELD_110','FIELD_111','FIELD_70','FIELD_82','FIELD_85','FIELD_91',\n",
    "#                            'FIELD_103','FIELD_106'])\n",
    "\n",
    "# mydataset=mydataset.drop(columns=['FIELD_1','FIELD_2','FIELD_87','FIELD_8','FIELD_10','FIELD_11','FIELD_12','FIELD_39',\n",
    "#                                   'FIELD_88','FIELD_89', 'FIELD_108','FIELD_109','FIELD_110','FIELD_111','FIELD_82',\n",
    "#                                  'FIELD_91','FIELD_103','FIELD_118','FIELD_119','FIELD_120','FIELD_121','FIELD_122',\n",
    "#                                  'FIELD_123','FIELD_124','FIELD_125','FIELD_126','FIELD_127','FIELD_128','FIELD_129',\n",
    "#                                  'FIELD_130','FIELD_131','FIELD_132','FIELD_133','FIELD_134','FIELD_135','FIELD_136',\n",
    "#                                   'FIELD_137','FIELD_138','FIELD_139','FIELD_140'])\n",
    "\n",
    "\n",
    "mydataset = mydataset.drop(\n",
    "    columns=[\n",
    "        \"FIELD_1\",\n",
    "        \"FIELD_2\",\n",
    "        \"FIELD_87\",\n",
    "        \"FIELD_8\",\n",
    "        \"FIELD_10\",\n",
    "        \"FIELD_11\",\n",
    "        \"FIELD_12\",\n",
    "        \"FIELD_39\",\n",
    "        \"FIELD_88\",\n",
    "        \"FIELD_89\",\n",
    "        \"FIELD_108\",\n",
    "        \"FIELD_109\",\n",
    "        \"FIELD_110\",\n",
    "        \"FIELD_111\",\n",
    "        \"FIELD_82\",\n",
    "        \"FIELD_91\",\n",
    "        \"FIELD_103\",\n",
    "        \"FIELD_118\",\n",
    "        \"FIELD_119\",\n",
    "        \"FIELD_120\",\n",
    "        \"FIELD_121\",\n",
    "        \"FIELD_122\",\n",
    "        \"FIELD_123\",\n",
    "        \"FIELD_124\",\n",
    "        \"FIELD_125\",\n",
    "        \"FIELD_126\",\n",
    "        \"FIELD_127\",\n",
    "        \"FIELD_128\",\n",
    "        \"FIELD_129\",\n",
    "        \"FIELD_130\",\n",
    "        \"FIELD_131\",\n",
    "        \"FIELD_132\",\n",
    "        \"FIELD_133\",\n",
    "        \"FIELD_134\",\n",
    "        \"FIELD_135\",\n",
    "        \"FIELD_136\",\n",
    "        \"FIELD_137\",\n",
    "        \"FIELD_138\",\n",
    "        \"FIELD_139\",\n",
    "        \"FIELD_140\",\n",
    "        \"FIELD_64\",\n",
    "        \"FIELD_65\",\n",
    "        \"FIELD_66\",\n",
    "        \"FIELD_67\",\n",
    "        \"FIELD_68\",\n",
    "        \"FIELD_69\",\n",
    "        \"FIELD_70\",\n",
    "        \"FIELD_72\",\n",
    "        \"FIELD_73\",\n",
    "        \"FIELD_74\",\n",
    "        \"FIELD_75\",\n",
    "        \"FIELD_76\",\n",
    "        \"FIELD_77\",\n",
    "        \"FIELD_80\",\n",
    "        \"FIELD_81\",\n",
    "        \"FIELD_84\",\n",
    "        \"FIELD_85\",\n",
    "        \"FIELD_90\",\n",
    "        \"FIELD_93\",\n",
    "        \"FIELD_94\",\n",
    "        \"FIELD_95\",\n",
    "        \"FIELD_96\",\n",
    "        \"FIELD_97\",\n",
    "        \"FIELD_98\",\n",
    "        \"FIELD_101\",\n",
    "        \"FIELD_102\",\n",
    "        \"FIELD_105\",\n",
    "        \"FIELD_106\",\n",
    "        \"FIELD_112\",\n",
    "        \"FIELD_113\",\n",
    "        \"FIELD_114\",\n",
    "        \"FIELD_115\",\n",
    "        \"FIELD_116\",\n",
    "        \"FIELD_117\",\n",
    "        \"FIELD_118\",\n",
    "        \"FIELD_119\",\n",
    "        \"FIELD_9\",\n",
    "    ]\n",
    ")\n",
    "\n",
    "\n",
    "mydataset = mydataset.drop(mydataset[mydataset.FIELD_3 == \"`\"].index)\n",
    "mydataset = mydataset.drop(mydataset[mydataset.FIELD_3 == \"G\"].index)\n",
    "\n",
    "\n",
    "mydataset = mydataset.drop(mydataset[mydataset.FIELD_4 == \".\"].index)\n",
    "mydataset = mydataset.drop(mydataset[mydataset.FIELD_5 == \".\"].index)\n",
    "\n",
    "mydataset = mydataset.drop(mydataset[mydataset.FIELD_35 == \"?\"].index)\n",
    "mydataset = mydataset.drop(mydataset[mydataset.FIELD_35 == \".\"].index)\n",
    "mydataset = mydataset.drop(mydataset[mydataset.FIELD_36 == \".\"].index)\n",
    "mydataset = mydataset.drop(mydataset[mydataset.FIELD_37 == \"\\\\\"].index)\n",
    "\n",
    "# mydataset=mydataset.drop(mydataset[mydataset.FIELD_39 == '7+' ].index)\n",
    "# mydataset=mydataset.drop(mydataset[mydataset.FIELD_39 == '5~7'].index)\n",
    "# mydataset=mydataset.drop(mydataset[mydataset.FIELD_39 == '3-4'].index)\n",
    "\n",
    "\n",
    "# mydataset=mydataset.drop(mydataset[mydataset.FIELD_95=='.'].index)"
   ]
  },
  {
   "cell_type": "code",
   "execution_count": 13,
   "metadata": {
    "scrolled": true
   },
   "outputs": [
    {
     "name": "stdout",
     "output_type": "stream",
     "text": [
      "0 FIELD_3\n",
      "1 FIELD_4\n",
      "2 FIELD_5\n",
      "3 FIELD_13\n",
      "4 FIELD_14\n",
      "5 FIELD_15\n",
      "6 FIELD_16\n",
      "7 FIELD_17\n",
      "8 FIELD_18\n",
      "9 FIELD_19\n",
      "10 FIELD_20\n",
      "11 FIELD_21\n",
      "12 FIELD_22\n",
      "13 FIELD_23\n",
      "14 FIELD_24\n",
      "15 FIELD_25\n",
      "16 FIELD_26\n",
      "17 FIELD_27\n",
      "18 FIELD_28\n",
      "19 FIELD_29\n",
      "20 FIELD_30\n",
      "21 FIELD_31\n",
      "22 FIELD_32\n",
      "23 FIELD_33\n",
      "24 FIELD_34\n",
      "25 FIELD_35\n",
      "26 FIELD_36\n",
      "27 FIELD_37\n",
      "28 FIELD_38\n",
      "29 FIELD_40\n",
      "30 FIELD_41\n",
      "31 FIELD_42\n",
      "32 FIELD_43\n",
      "33 FIELD_44\n",
      "34 FIELD_45\n",
      "35 FIELD_46\n",
      "36 FIELD_47\n",
      "37 FIELD_48\n",
      "38 FIELD_49\n",
      "39 FIELD_50\n",
      "40 FIELD_51\n",
      "41 FIELD_52\n",
      "42 FIELD_53\n",
      "43 FIELD_54\n",
      "44 FIELD_55\n",
      "45 FIELD_56\n",
      "46 FIELD_57\n",
      "47 FIELD_58\n",
      "48 FIELD_59\n",
      "49 FIELD_60\n",
      "50 FIELD_61\n",
      "51 FIELD_62\n",
      "52 FIELD_63\n",
      "53 FIELD_38_C\n",
      "54 CLASS\n",
      "55 SEX\n"
     ]
    },
    {
     "data": {
      "application/javascript": [
       "\n",
       "            setTimeout(function() {\n",
       "                var nbb_cell_id = 13;\n",
       "                var nbb_formatted_code = \"colslist = mydataset.columns\\nDiabeticColVals = data.S000502\\n\\ncor = []\\npval = []\\ncount = []\\n\\nfor i in range(len(colslist)):\\n    print(i, colslist[i])\\n\\n    temp = pd.DataFrame([])\\n    temp[\\\"a\\\"] = DiabeticColVals\\n    temp[\\\"b\\\"] = mydataset[colslist[i]].astype(float)\\n    temp = temp.dropna()\\n    count.append(temp.shape[0])\\n\\n    uniquevalues = temp.b.unique()\\n\\n    selectedGroupVals = []\\n    for k in range(len(uniquevalues)):\\n        selectedGroupVals.append(np.asarray(temp[temp[\\\"b\\\"] == uniquevalues[k]].a))\\n\\n    F, p = stats.f_oneway(*selectedGroupVals)\\n    cor.append(F)\\n    pval.append(p)\";\n",
       "                var nbb_cells = Jupyter.notebook.get_cells();\n",
       "                for (var i = 0; i < nbb_cells.length; ++i) {\n",
       "                    if (nbb_cells[i].input_prompt_number == nbb_cell_id) {\n",
       "                        nbb_cells[i].set_text(nbb_formatted_code);\n",
       "                        break;\n",
       "                    }\n",
       "                }\n",
       "            }, 500);\n",
       "            "
      ],
      "text/plain": [
       "<IPython.core.display.Javascript object>"
      ]
     },
     "metadata": {},
     "output_type": "display_data"
    }
   ],
   "source": [
    "colslist = mydataset.columns\n",
    "DiabeticColVals = data.S000502\n",
    "\n",
    "cor = []\n",
    "pval = []\n",
    "count = []\n",
    "\n",
    "for i in range(len(colslist)):\n",
    "    print(i, colslist[i])\n",
    "\n",
    "    temp = pd.DataFrame([])\n",
    "    temp[\"a\"] = DiabeticColVals\n",
    "    temp[\"b\"] = mydataset[colslist[i]].astype(float)\n",
    "    temp = temp.dropna()\n",
    "    count.append(temp.shape[0])\n",
    "\n",
    "    uniquevalues = temp.b.unique()\n",
    "\n",
    "    selectedGroupVals = []\n",
    "    for k in range(len(uniquevalues)):\n",
    "        selectedGroupVals.append(np.asarray(temp[temp[\"b\"] == uniquevalues[k]].a))\n",
    "\n",
    "    F, p = stats.f_oneway(*selectedGroupVals)\n",
    "    cor.append(F)\n",
    "    pval.append(p)"
   ]
  },
  {
   "cell_type": "code",
   "execution_count": 14,
   "metadata": {},
   "outputs": [
    {
     "data": {
      "application/javascript": [
       "\n",
       "            setTimeout(function() {\n",
       "                var nbb_cell_id = 14;\n",
       "                var nbb_formatted_code = \"FvalPvalCorr = pd.DataFrame()\\nFvalPvalCorr[\\\"Cols\\\"] = colslist\\nFvalPvalCorr[\\\"F\\\"] = cor\\nFvalPvalCorr[\\\"P\\\"] = pval\\nFvalPvalCorr[\\\"Count\\\"] = count\\nFvalPvalCorr = FvalPvalCorr.sort_values(by=\\\"F\\\", ascending=False)\";\n",
       "                var nbb_cells = Jupyter.notebook.get_cells();\n",
       "                for (var i = 0; i < nbb_cells.length; ++i) {\n",
       "                    if (nbb_cells[i].input_prompt_number == nbb_cell_id) {\n",
       "                        nbb_cells[i].set_text(nbb_formatted_code);\n",
       "                        break;\n",
       "                    }\n",
       "                }\n",
       "            }, 500);\n",
       "            "
      ],
      "text/plain": [
       "<IPython.core.display.Javascript object>"
      ]
     },
     "metadata": {},
     "output_type": "display_data"
    }
   ],
   "source": [
    "FvalPvalCorr = pd.DataFrame()\n",
    "FvalPvalCorr[\"Cols\"] = colslist\n",
    "FvalPvalCorr[\"F\"] = cor\n",
    "FvalPvalCorr[\"P\"] = pval\n",
    "FvalPvalCorr[\"Count\"] = count\n",
    "FvalPvalCorr = FvalPvalCorr.sort_values(by=\"F\", ascending=False)"
   ]
  },
  {
   "cell_type": "code",
   "execution_count": 15,
   "metadata": {},
   "outputs": [
    {
     "data": {
      "text/html": [
       "<div>\n",
       "<style scoped>\n",
       "    .dataframe tbody tr th:only-of-type {\n",
       "        vertical-align: middle;\n",
       "    }\n",
       "\n",
       "    .dataframe tbody tr th {\n",
       "        vertical-align: top;\n",
       "    }\n",
       "\n",
       "    .dataframe thead th {\n",
       "        text-align: right;\n",
       "    }\n",
       "</style>\n",
       "<table border=\"1\" class=\"dataframe\">\n",
       "  <thead>\n",
       "    <tr style=\"text-align: right;\">\n",
       "      <th></th>\n",
       "      <th>Cols</th>\n",
       "      <th>F</th>\n",
       "      <th>P</th>\n",
       "      <th>Count</th>\n",
       "    </tr>\n",
       "  </thead>\n",
       "  <tbody>\n",
       "    <tr>\n",
       "      <th>54</th>\n",
       "      <td>CLASS</td>\n",
       "      <td>298352.818758</td>\n",
       "      <td>0.000000e+00</td>\n",
       "      <td>466397</td>\n",
       "    </tr>\n",
       "    <tr>\n",
       "      <th>55</th>\n",
       "      <td>SEX</td>\n",
       "      <td>48231.961682</td>\n",
       "      <td>0.000000e+00</td>\n",
       "      <td>466396</td>\n",
       "    </tr>\n",
       "    <tr>\n",
       "      <th>53</th>\n",
       "      <td>FIELD_38_C</td>\n",
       "      <td>5034.396179</td>\n",
       "      <td>0.000000e+00</td>\n",
       "      <td>433775</td>\n",
       "    </tr>\n",
       "    <tr>\n",
       "      <th>23</th>\n",
       "      <td>FIELD_33</td>\n",
       "      <td>2841.555479</td>\n",
       "      <td>0.000000e+00</td>\n",
       "      <td>464179</td>\n",
       "    </tr>\n",
       "    <tr>\n",
       "      <th>28</th>\n",
       "      <td>FIELD_38</td>\n",
       "      <td>1470.570441</td>\n",
       "      <td>0.000000e+00</td>\n",
       "      <td>433775</td>\n",
       "    </tr>\n",
       "    <tr>\n",
       "      <th>19</th>\n",
       "      <td>FIELD_29</td>\n",
       "      <td>525.732670</td>\n",
       "      <td>8.625201e-229</td>\n",
       "      <td>463541</td>\n",
       "    </tr>\n",
       "    <tr>\n",
       "      <th>17</th>\n",
       "      <td>FIELD_27</td>\n",
       "      <td>432.888228</td>\n",
       "      <td>1.494776e-188</td>\n",
       "      <td>463031</td>\n",
       "    </tr>\n",
       "    <tr>\n",
       "      <th>29</th>\n",
       "      <td>FIELD_40</td>\n",
       "      <td>239.874349</td>\n",
       "      <td>0.000000e+00</td>\n",
       "      <td>433843</td>\n",
       "    </tr>\n",
       "    <tr>\n",
       "      <th>30</th>\n",
       "      <td>FIELD_41</td>\n",
       "      <td>144.865286</td>\n",
       "      <td>1.543551e-244</td>\n",
       "      <td>433771</td>\n",
       "    </tr>\n",
       "    <tr>\n",
       "      <th>18</th>\n",
       "      <td>FIELD_28</td>\n",
       "      <td>49.996792</td>\n",
       "      <td>1.945422e-22</td>\n",
       "      <td>462933</td>\n",
       "    </tr>\n",
       "  </tbody>\n",
       "</table>\n",
       "</div>"
      ],
      "text/plain": [
       "          Cols              F              P   Count\n",
       "54       CLASS  298352.818758   0.000000e+00  466397\n",
       "55         SEX   48231.961682   0.000000e+00  466396\n",
       "53  FIELD_38_C    5034.396179   0.000000e+00  433775\n",
       "23    FIELD_33    2841.555479   0.000000e+00  464179\n",
       "28    FIELD_38    1470.570441   0.000000e+00  433775\n",
       "19    FIELD_29     525.732670  8.625201e-229  463541\n",
       "17    FIELD_27     432.888228  1.494776e-188  463031\n",
       "29    FIELD_40     239.874349   0.000000e+00  433843\n",
       "30    FIELD_41     144.865286  1.543551e-244  433771\n",
       "18    FIELD_28      49.996792   1.945422e-22  462933"
      ]
     },
     "execution_count": 15,
     "metadata": {},
     "output_type": "execute_result"
    },
    {
     "data": {
      "application/javascript": [
       "\n",
       "            setTimeout(function() {\n",
       "                var nbb_cell_id = 15;\n",
       "                var nbb_formatted_code = \"FvalPvalCorr[FvalPvalCorr.Count > 50000].head(10)\";\n",
       "                var nbb_cells = Jupyter.notebook.get_cells();\n",
       "                for (var i = 0; i < nbb_cells.length; ++i) {\n",
       "                    if (nbb_cells[i].input_prompt_number == nbb_cell_id) {\n",
       "                        nbb_cells[i].set_text(nbb_formatted_code);\n",
       "                        break;\n",
       "                    }\n",
       "                }\n",
       "            }, 500);\n",
       "            "
      ],
      "text/plain": [
       "<IPython.core.display.Javascript object>"
      ]
     },
     "metadata": {},
     "output_type": "display_data"
    }
   ],
   "source": [
    "FvalPvalCorr[FvalPvalCorr.Count > 50000].head(10)"
   ]
  },
  {
   "cell_type": "code",
   "execution_count": 16,
   "metadata": {},
   "outputs": [
    {
     "name": "stdout",
     "output_type": "stream",
     "text": [
      "['CLASS', 'SEX', 'FIELD_38_C', 'FIELD_33', 'FIELD_38', 'FIELD_29', 'FIELD_27', 'FIELD_40', 'FIELD_41', 'FIELD_28']\n"
     ]
    },
    {
     "data": {
      "application/javascript": [
       "\n",
       "            setTimeout(function() {\n",
       "                var nbb_cell_id = 16;\n",
       "                var nbb_formatted_code = \"print(list(FvalPvalCorr[FvalPvalCorr.Count > 50000].Cols)[:10])\";\n",
       "                var nbb_cells = Jupyter.notebook.get_cells();\n",
       "                for (var i = 0; i < nbb_cells.length; ++i) {\n",
       "                    if (nbb_cells[i].input_prompt_number == nbb_cell_id) {\n",
       "                        nbb_cells[i].set_text(nbb_formatted_code);\n",
       "                        break;\n",
       "                    }\n",
       "                }\n",
       "            }, 500);\n",
       "            "
      ],
      "text/plain": [
       "<IPython.core.display.Javascript object>"
      ]
     },
     "metadata": {},
     "output_type": "display_data"
    }
   ],
   "source": [
    "print(list(FvalPvalCorr[FvalPvalCorr.Count > 50000].Cols)[:10])"
   ]
  },
  {
   "cell_type": "markdown",
   "metadata": {},
   "source": [
    "========================= LASSO method\n",
    "================"
   ]
  },
  {
   "cell_type": "code",
   "execution_count": 32,
   "metadata": {},
   "outputs": [
    {
     "name": "stdout",
     "output_type": "stream",
     "text": [
      "(50997, 29)\n"
     ]
    },
    {
     "data": {
      "application/javascript": [
       "\n",
       "            setTimeout(function() {\n",
       "                var nbb_cell_id = 32;\n",
       "                var nbb_formatted_code = \"selectedcols = [\\n    \\\"S000502\\\",\\n    \\\"S000501\\\",\\n    \\\"CLASS\\\",\\n    \\\"S000300\\\",\\n    \\\"L190400\\\",\\n    \\\"L190500\\\",\\n    \\\"L190300\\\",\\n    \\\"L100700\\\",\\n    \\\"L103000\\\",\\n    \\\"L103300\\\",\\n    \\\"L100800\\\",\\n    \\\"S000600\\\",\\n    \\\"L101700\\\",\\n    \\\"L100500\\\",\\n    \\\"L101300\\\",\\n    \\\"S000100\\\",\\n    \\\"L102900\\\",\\n    \\\"S010102\\\",\\n    \\\"S010101\\\",\\n    \\\"AGE\\\",\\n    \\\"SEX\\\",\\n    \\\"FIELD_38_C\\\",\\n    \\\"FIELD_33\\\",\\n    \\\"FIELD_38\\\",\\n    \\\"FIELD_29\\\",\\n    \\\"FIELD_27\\\",\\n    \\\"FIELD_40\\\",\\n    \\\"FIELD_41\\\",\\n    \\\"FIELD_28\\\",\\n]\\ndata2 = data[selectedcols].copy().dropna()\\nprint(data2.shape)\";\n",
       "                var nbb_cells = Jupyter.notebook.get_cells();\n",
       "                for (var i = 0; i < nbb_cells.length; ++i) {\n",
       "                    if (nbb_cells[i].input_prompt_number == nbb_cell_id) {\n",
       "                        nbb_cells[i].set_text(nbb_formatted_code);\n",
       "                        break;\n",
       "                    }\n",
       "                }\n",
       "            }, 500);\n",
       "            "
      ],
      "text/plain": [
       "<IPython.core.display.Javascript object>"
      ]
     },
     "metadata": {},
     "output_type": "display_data"
    }
   ],
   "source": [
    "selectedcols = [\n",
    "    \"S000502\",\n",
    "    \"S000501\",\n",
    "    \"CLASS\",\n",
    "    \"S000300\",\n",
    "    \"L190400\",\n",
    "    \"L190500\",\n",
    "    \"L190300\",\n",
    "    \"L100700\",\n",
    "    \"L103000\",\n",
    "    \"L103300\",\n",
    "    \"L100800\",\n",
    "    \"S000600\",\n",
    "    \"L101700\",\n",
    "    \"L100500\",\n",
    "    \"L101300\",\n",
    "    \"S000100\",\n",
    "    \"L102900\",\n",
    "    \"S010102\",\n",
    "    \"S010101\",\n",
    "    \"AGE\",\n",
    "    \"SEX\",\n",
    "    \"FIELD_38_C\",\n",
    "    \"FIELD_33\",\n",
    "    \"FIELD_38\",\n",
    "    \"FIELD_29\",\n",
    "    \"FIELD_27\",\n",
    "    \"FIELD_40\",\n",
    "    \"FIELD_41\",\n",
    "    \"FIELD_28\",\n",
    "]\n",
    "data2 = data[selectedcols].copy().dropna()\n",
    "print(data2.shape)"
   ]
  },
  {
   "cell_type": "code",
   "execution_count": 33,
   "metadata": {},
   "outputs": [
    {
     "data": {
      "application/javascript": [
       "\n",
       "            setTimeout(function() {\n",
       "                var nbb_cell_id = 33;\n",
       "                var nbb_formatted_code = \"x = data2[\\n    [\\n        \\\"S000501\\\",\\n        \\\"CLASS\\\",\\n        \\\"S000300\\\",\\n        \\\"L190400\\\",\\n        \\\"L190500\\\",\\n        \\\"L190300\\\",\\n        \\\"L100700\\\",\\n        \\\"L103000\\\",\\n        \\\"L103300\\\",\\n        \\\"L100800\\\",\\n        \\\"S000600\\\",\\n        \\\"L101700\\\",\\n        \\\"L100500\\\",\\n        \\\"L101300\\\",\\n        \\\"S000100\\\",\\n        \\\"L102900\\\",\\n        \\\"S010102\\\",\\n        \\\"S010101\\\",\\n        \\\"AGE\\\",\\n        \\\"SEX\\\",\\n        \\\"FIELD_38_C\\\",\\n        \\\"FIELD_33\\\",\\n        \\\"FIELD_38\\\",\\n        \\\"FIELD_29\\\",\\n        \\\"FIELD_27\\\",\\n        \\\"FIELD_40\\\",\\n        \\\"FIELD_41\\\",\\n        \\\"FIELD_28\\\",\\n    ]\\n]\\ny = data2.S000502\";\n",
       "                var nbb_cells = Jupyter.notebook.get_cells();\n",
       "                for (var i = 0; i < nbb_cells.length; ++i) {\n",
       "                    if (nbb_cells[i].input_prompt_number == nbb_cell_id) {\n",
       "                        nbb_cells[i].set_text(nbb_formatted_code);\n",
       "                        break;\n",
       "                    }\n",
       "                }\n",
       "            }, 500);\n",
       "            "
      ],
      "text/plain": [
       "<IPython.core.display.Javascript object>"
      ]
     },
     "metadata": {},
     "output_type": "display_data"
    }
   ],
   "source": [
    "x = data2[\n",
    "    [\n",
    "        \"S000501\",\n",
    "        \"CLASS\",\n",
    "        \"S000300\",\n",
    "        \"L190400\",\n",
    "        \"L190500\",\n",
    "        \"L190300\",\n",
    "        \"L100700\",\n",
    "        \"L103000\",\n",
    "        \"L103300\",\n",
    "        \"L100800\",\n",
    "        \"S000600\",\n",
    "        \"L101700\",\n",
    "        \"L100500\",\n",
    "        \"L101300\",\n",
    "        \"S000100\",\n",
    "        \"L102900\",\n",
    "        \"S010102\",\n",
    "        \"S010101\",\n",
    "        \"AGE\",\n",
    "        \"SEX\",\n",
    "        \"FIELD_38_C\",\n",
    "        \"FIELD_33\",\n",
    "        \"FIELD_38\",\n",
    "        \"FIELD_29\",\n",
    "        \"FIELD_27\",\n",
    "        \"FIELD_40\",\n",
    "        \"FIELD_41\",\n",
    "        \"FIELD_28\",\n",
    "    ]\n",
    "]\n",
    "y = data2.S000502"
   ]
  },
  {
   "cell_type": "code",
   "execution_count": 34,
   "metadata": {},
   "outputs": [
    {
     "name": "stdout",
     "output_type": "stream",
     "text": [
      "[ 3.37637213e-01  4.48458380e+00 -3.28930986e-03  1.75329522e-01\n",
      "  2.24452884e-02  0.00000000e+00  1.66527669e-02  2.15870799e-03\n",
      " -0.00000000e+00  4.61731289e-03  1.12551578e-01  2.72903280e-03\n",
      "  0.00000000e+00 -1.83938882e-03 -9.58624420e-03  4.25330944e-03\n",
      "  7.96030615e-02  1.18149762e-02  2.52674373e-02  0.00000000e+00\n",
      "  0.00000000e+00  0.00000000e+00  1.67998269e-01  0.00000000e+00\n",
      "  0.00000000e+00 -7.60093082e-04 -1.20424972e-02 -0.00000000e+00]\n",
      "16.955445856143598\n"
     ]
    },
    {
     "data": {
      "text/html": [
       "<div>\n",
       "<style scoped>\n",
       "    .dataframe tbody tr th:only-of-type {\n",
       "        vertical-align: middle;\n",
       "    }\n",
       "\n",
       "    .dataframe tbody tr th {\n",
       "        vertical-align: top;\n",
       "    }\n",
       "\n",
       "    .dataframe thead th {\n",
       "        text-align: right;\n",
       "    }\n",
       "</style>\n",
       "<table border=\"1\" class=\"dataframe\">\n",
       "  <thead>\n",
       "    <tr style=\"text-align: right;\">\n",
       "      <th></th>\n",
       "      <th>Name</th>\n",
       "      <th>coeff</th>\n",
       "    </tr>\n",
       "  </thead>\n",
       "  <tbody>\n",
       "    <tr>\n",
       "      <th>1</th>\n",
       "      <td>CLASS</td>\n",
       "      <td>4.484584</td>\n",
       "    </tr>\n",
       "    <tr>\n",
       "      <th>0</th>\n",
       "      <td>S000501</td>\n",
       "      <td>0.337637</td>\n",
       "    </tr>\n",
       "    <tr>\n",
       "      <th>3</th>\n",
       "      <td>L190400</td>\n",
       "      <td>0.175330</td>\n",
       "    </tr>\n",
       "    <tr>\n",
       "      <th>22</th>\n",
       "      <td>FIELD_38</td>\n",
       "      <td>0.167998</td>\n",
       "    </tr>\n",
       "    <tr>\n",
       "      <th>10</th>\n",
       "      <td>S000600</td>\n",
       "      <td>0.112552</td>\n",
       "    </tr>\n",
       "    <tr>\n",
       "      <th>16</th>\n",
       "      <td>S010102</td>\n",
       "      <td>0.079603</td>\n",
       "    </tr>\n",
       "    <tr>\n",
       "      <th>18</th>\n",
       "      <td>AGE</td>\n",
       "      <td>0.025267</td>\n",
       "    </tr>\n",
       "    <tr>\n",
       "      <th>4</th>\n",
       "      <td>L190500</td>\n",
       "      <td>0.022445</td>\n",
       "    </tr>\n",
       "    <tr>\n",
       "      <th>6</th>\n",
       "      <td>L100700</td>\n",
       "      <td>0.016653</td>\n",
       "    </tr>\n",
       "    <tr>\n",
       "      <th>26</th>\n",
       "      <td>FIELD_41</td>\n",
       "      <td>0.012042</td>\n",
       "    </tr>\n",
       "    <tr>\n",
       "      <th>17</th>\n",
       "      <td>S010101</td>\n",
       "      <td>0.011815</td>\n",
       "    </tr>\n",
       "    <tr>\n",
       "      <th>14</th>\n",
       "      <td>S000100</td>\n",
       "      <td>0.009586</td>\n",
       "    </tr>\n",
       "    <tr>\n",
       "      <th>9</th>\n",
       "      <td>L100800</td>\n",
       "      <td>0.004617</td>\n",
       "    </tr>\n",
       "    <tr>\n",
       "      <th>15</th>\n",
       "      <td>L102900</td>\n",
       "      <td>0.004253</td>\n",
       "    </tr>\n",
       "    <tr>\n",
       "      <th>2</th>\n",
       "      <td>S000300</td>\n",
       "      <td>0.003289</td>\n",
       "    </tr>\n",
       "    <tr>\n",
       "      <th>11</th>\n",
       "      <td>L101700</td>\n",
       "      <td>0.002729</td>\n",
       "    </tr>\n",
       "    <tr>\n",
       "      <th>7</th>\n",
       "      <td>L103000</td>\n",
       "      <td>0.002159</td>\n",
       "    </tr>\n",
       "    <tr>\n",
       "      <th>13</th>\n",
       "      <td>L101300</td>\n",
       "      <td>0.001839</td>\n",
       "    </tr>\n",
       "    <tr>\n",
       "      <th>25</th>\n",
       "      <td>FIELD_40</td>\n",
       "      <td>0.000760</td>\n",
       "    </tr>\n",
       "  </tbody>\n",
       "</table>\n",
       "</div>"
      ],
      "text/plain": [
       "        Name     coeff\n",
       "1      CLASS  4.484584\n",
       "0    S000501  0.337637\n",
       "3    L190400  0.175330\n",
       "22  FIELD_38  0.167998\n",
       "10   S000600  0.112552\n",
       "16   S010102  0.079603\n",
       "18       AGE  0.025267\n",
       "4    L190500  0.022445\n",
       "6    L100700  0.016653\n",
       "26  FIELD_41  0.012042\n",
       "17   S010101  0.011815\n",
       "14   S000100  0.009586\n",
       "9    L100800  0.004617\n",
       "15   L102900  0.004253\n",
       "2    S000300  0.003289\n",
       "11   L101700  0.002729\n",
       "7    L103000  0.002159\n",
       "13   L101300  0.001839\n",
       "25  FIELD_40  0.000760"
      ]
     },
     "execution_count": 34,
     "metadata": {},
     "output_type": "execute_result"
    },
    {
     "data": {
      "application/javascript": [
       "\n",
       "            setTimeout(function() {\n",
       "                var nbb_cell_id = 34;\n",
       "                var nbb_formatted_code = \"from sklearn import linear_model\\n\\nclf = linear_model.Lasso(alpha=0.1)\\nclf.fit(x, y)\\n\\nprint(clf.coef_)\\n\\nprint(clf.intercept_)\\n\\n# pd.DataFrame([x.columns.ravel(),clf.coef_.ravel()],columns=['Name','coeff'])\\n\\nlassod = pd.DataFrame()\\nlassod[\\\"Name\\\"] = x.columns\\nlassod[\\\"coeff\\\"] = clf.coef_\\nlassod\\n\\nlassod = lassod.drop(lassod[lassod.coeff == 0].index)\\nlassod.coeff = abs(lassod.coeff)\\nlassod = lassod.sort_values(by=\\\"coeff\\\", ascending=False)\\nlassod\";\n",
       "                var nbb_cells = Jupyter.notebook.get_cells();\n",
       "                for (var i = 0; i < nbb_cells.length; ++i) {\n",
       "                    if (nbb_cells[i].input_prompt_number == nbb_cell_id) {\n",
       "                        nbb_cells[i].set_text(nbb_formatted_code);\n",
       "                        break;\n",
       "                    }\n",
       "                }\n",
       "            }, 500);\n",
       "            "
      ],
      "text/plain": [
       "<IPython.core.display.Javascript object>"
      ]
     },
     "metadata": {},
     "output_type": "display_data"
    }
   ],
   "source": [
    "from sklearn import linear_model\n",
    "\n",
    "clf = linear_model.Lasso(alpha=0.1)\n",
    "clf.fit(x, y)\n",
    "\n",
    "print(clf.coef_)\n",
    "\n",
    "print(clf.intercept_)\n",
    "\n",
    "# pd.DataFrame([x.columns.ravel(),clf.coef_.ravel()],columns=['Name','coeff'])\n",
    "\n",
    "lassod = pd.DataFrame()\n",
    "lassod[\"Name\"] = x.columns\n",
    "lassod[\"coeff\"] = clf.coef_\n",
    "lassod\n",
    "\n",
    "lassod = lassod.drop(lassod[lassod.coeff == 0].index)\n",
    "lassod.coeff = abs(lassod.coeff)\n",
    "lassod = lassod.sort_values(by=\"coeff\", ascending=False)\n",
    "lassod"
   ]
  },
  {
   "cell_type": "code",
   "execution_count": 35,
   "metadata": {},
   "outputs": [
    {
     "name": "stdout",
     "output_type": "stream",
     "text": [
      "['CLASS', 'S000501', 'L190400', 'FIELD_38', 'S000600', 'S010102', 'AGE', 'L190500', 'L100700', 'FIELD_41', 'S010101', 'S000100', 'L100800', 'L102900', 'S000300', 'L101700']\n"
     ]
    },
    {
     "data": {
      "application/javascript": [
       "\n",
       "            setTimeout(function() {\n",
       "                var nbb_cell_id = 35;\n",
       "                var nbb_formatted_code = \"print(list(lassod.Name[:16]))\";\n",
       "                var nbb_cells = Jupyter.notebook.get_cells();\n",
       "                for (var i = 0; i < nbb_cells.length; ++i) {\n",
       "                    if (nbb_cells[i].input_prompt_number == nbb_cell_id) {\n",
       "                        nbb_cells[i].set_text(nbb_formatted_code);\n",
       "                        break;\n",
       "                    }\n",
       "                }\n",
       "            }, 500);\n",
       "            "
      ],
      "text/plain": [
       "<IPython.core.display.Javascript object>"
      ]
     },
     "metadata": {},
     "output_type": "display_data"
    }
   ],
   "source": [
    "print(list(lassod.Name[:16]))"
   ]
  },
  {
   "cell_type": "markdown",
   "metadata": {},
   "source": [
    "=============================== SelectKBest method\n",
    "========================"
   ]
  },
  {
   "cell_type": "code",
   "execution_count": 36,
   "metadata": {},
   "outputs": [
    {
     "name": "stdout",
     "output_type": "stream",
     "text": [
      "['S000501', 'CLASS', 'S000300', 'L190400', 'L190500', 'L190300', 'L100700', 'L103000', 'L103300', 'L100800', 'S000600', 'L101700', 'L100500', 'L101300', 'S000100', 'L102900']\n"
     ]
    },
    {
     "data": {
      "application/javascript": [
       "\n",
       "            setTimeout(function() {\n",
       "                var nbb_cell_id = 36;\n",
       "                var nbb_formatted_code = \"# from sklearn.feature_selection import chi2\\nfrom sklearn.feature_selection import f_regression\\nfrom sklearn.feature_selection import SelectKBest\\n\\nbestfeatures = SelectKBest(score_func=f_regression, k=10)\\nfit = bestfeatures.fit(x, y)\\n\\ndfscores = pd.DataFrame(fit.scores_)\\ndfcolumns = pd.DataFrame(x.columns)\\n\\nfeatureScores = pd.concat([dfcolumns, dfscores], axis=1)\\nfeatureScores.columns = [\\\"Specs\\\", \\\"Score\\\"]  # naming the dataframe columns\\n\\n# x=x[x.columns[:15]]\\nprint(list(x.columns[:16]))\";\n",
       "                var nbb_cells = Jupyter.notebook.get_cells();\n",
       "                for (var i = 0; i < nbb_cells.length; ++i) {\n",
       "                    if (nbb_cells[i].input_prompt_number == nbb_cell_id) {\n",
       "                        nbb_cells[i].set_text(nbb_formatted_code);\n",
       "                        break;\n",
       "                    }\n",
       "                }\n",
       "            }, 500);\n",
       "            "
      ],
      "text/plain": [
       "<IPython.core.display.Javascript object>"
      ]
     },
     "metadata": {},
     "output_type": "display_data"
    }
   ],
   "source": [
    "# from sklearn.feature_selection import chi2\n",
    "from sklearn.feature_selection import f_regression\n",
    "from sklearn.feature_selection import SelectKBest\n",
    "\n",
    "bestfeatures = SelectKBest(score_func=f_regression, k=10)\n",
    "fit = bestfeatures.fit(x, y)\n",
    "\n",
    "dfscores = pd.DataFrame(fit.scores_)\n",
    "dfcolumns = pd.DataFrame(x.columns)\n",
    "\n",
    "featureScores = pd.concat([dfcolumns, dfscores], axis=1)\n",
    "featureScores.columns = [\"Specs\", \"Score\"]  # naming the dataframe columns\n",
    "\n",
    "# x=x[x.columns[:15]]\n",
    "print(list(x.columns[:16]))"
   ]
  },
  {
   "cell_type": "markdown",
   "metadata": {},
   "source": [
    "========================================= LinearSVC\n",
    "==============="
   ]
  },
  {
   "cell_type": "code",
   "execution_count": 37,
   "metadata": {},
   "outputs": [
    {
     "data": {
      "application/javascript": [
       "\n",
       "            setTimeout(function() {\n",
       "                var nbb_cell_id = 37;\n",
       "                var nbb_formatted_code = \"# from sklearn.svm import LinearSVC\\n# from sklearn.datasets import load_iris\\n# from sklearn.feature_selection import SelectFromModel\\n\\n# lsvc = LinearSVC(C=0.01, penalty=\\\"l1\\\", dual=False).fit(x, y)\\n# model = SelectFromModel(lsvc, prefit=True)\\n# X_new = model.transform(x)\\n# X_new.shape\";\n",
       "                var nbb_cells = Jupyter.notebook.get_cells();\n",
       "                for (var i = 0; i < nbb_cells.length; ++i) {\n",
       "                    if (nbb_cells[i].input_prompt_number == nbb_cell_id) {\n",
       "                        nbb_cells[i].set_text(nbb_formatted_code);\n",
       "                        break;\n",
       "                    }\n",
       "                }\n",
       "            }, 500);\n",
       "            "
      ],
      "text/plain": [
       "<IPython.core.display.Javascript object>"
      ]
     },
     "metadata": {},
     "output_type": "display_data"
    }
   ],
   "source": [
    "# from sklearn.svm import LinearSVC\n",
    "# from sklearn.datasets import load_iris\n",
    "# from sklearn.feature_selection import SelectFromModel\n",
    "\n",
    "# lsvc = LinearSVC(C=0.01, penalty=\"l1\", dual=False).fit(x, y)\n",
    "# model = SelectFromModel(lsvc, prefit=True)\n",
    "# X_new = model.transform(x)\n",
    "# X_new.shape"
   ]
  },
  {
   "cell_type": "code",
   "execution_count": 38,
   "metadata": {},
   "outputs": [
    {
     "data": {
      "application/javascript": [
       "\n",
       "            setTimeout(function() {\n",
       "                var nbb_cell_id = 38;\n",
       "                var nbb_formatted_code = \"# X_new\";\n",
       "                var nbb_cells = Jupyter.notebook.get_cells();\n",
       "                for (var i = 0; i < nbb_cells.length; ++i) {\n",
       "                    if (nbb_cells[i].input_prompt_number == nbb_cell_id) {\n",
       "                        nbb_cells[i].set_text(nbb_formatted_code);\n",
       "                        break;\n",
       "                    }\n",
       "                }\n",
       "            }, 500);\n",
       "            "
      ],
      "text/plain": [
       "<IPython.core.display.Javascript object>"
      ]
     },
     "metadata": {},
     "output_type": "display_data"
    }
   ],
   "source": [
    "# X_new"
   ]
  },
  {
   "cell_type": "markdown",
   "metadata": {},
   "source": [
    "================================ SequentialFeatureSelector \n",
    "================================"
   ]
  },
  {
   "cell_type": "code",
   "execution_count": 39,
   "metadata": {},
   "outputs": [
    {
     "data": {
      "application/javascript": [
       "\n",
       "            setTimeout(function() {\n",
       "                var nbb_cell_id = 39;\n",
       "                var nbb_formatted_code = \"# from sklearn.linear_model import LinearRegression\\n# from mlxtend.feature_selection import SequentialFeatureSelector as SFS\\n# from mlxtend.plotting import plot_sequential_feature_selection as plot_sfs\\n# from sklearn.ensemble import RandomForestRegressor\\n\\n# lr = RandomForestRegressor()\\n\\n# sfs = SFS(lr,\\n#           k_features=13,\\n#           forward=True,\\n#           floating=False,\\n#           scoring='neg_mean_squared_error',\\n#           cv=5)\\n\\n# sfs = sfs.fit(x, y)\\n# fig = plot_sfs(sfs.get_metric_dict(), kind='std_err')\\n\\n# plt.title('Sequential Forward Selection (w. StdErr)')\\n# plt.grid()\\n# plt.show()\";\n",
       "                var nbb_cells = Jupyter.notebook.get_cells();\n",
       "                for (var i = 0; i < nbb_cells.length; ++i) {\n",
       "                    if (nbb_cells[i].input_prompt_number == nbb_cell_id) {\n",
       "                        nbb_cells[i].set_text(nbb_formatted_code);\n",
       "                        break;\n",
       "                    }\n",
       "                }\n",
       "            }, 500);\n",
       "            "
      ],
      "text/plain": [
       "<IPython.core.display.Javascript object>"
      ]
     },
     "metadata": {},
     "output_type": "display_data"
    }
   ],
   "source": [
    "# from sklearn.linear_model import LinearRegression\n",
    "# from mlxtend.feature_selection import SequentialFeatureSelector as SFS\n",
    "# from mlxtend.plotting import plot_sequential_feature_selection as plot_sfs\n",
    "# from sklearn.ensemble import RandomForestRegressor\n",
    "\n",
    "# lr = RandomForestRegressor()\n",
    "\n",
    "# sfs = SFS(lr,\n",
    "#           k_features=13,\n",
    "#           forward=True,\n",
    "#           floating=False,\n",
    "#           scoring='neg_mean_squared_error',\n",
    "#           cv=5)\n",
    "\n",
    "# sfs = sfs.fit(x, y)\n",
    "# fig = plot_sfs(sfs.get_metric_dict(), kind='std_err')\n",
    "\n",
    "# plt.title('Sequential Forward Selection (w. StdErr)')\n",
    "# plt.grid()\n",
    "# plt.show()"
   ]
  },
  {
   "cell_type": "markdown",
   "metadata": {},
   "source": [
    "================================= feature_importances\n",
    "====="
   ]
  },
  {
   "cell_type": "code",
   "execution_count": 40,
   "metadata": {},
   "outputs": [
    {
     "name": "stdout",
     "output_type": "stream",
     "text": [
      "[0.07311714 0.02569905 0.04501584 0.04395969 0.04422155 0.04498227\n",
      " 0.04451119 0.04542878 0.04421979 0.04411736 0.04725948 0.04335946\n",
      " 0.03861915 0.04343268 0.04460996 0.04527224 0.04150492 0.04097123\n",
      " 0.04528447 0.00433933 0.01324784 0.01859796 0.02402181 0.00961862\n",
      " 0.00816872 0.0322593  0.03642184 0.00773833]\n"
     ]
    },
    {
     "data": {
      "image/png": "[encoded data removed]",
      "text/plain": [
       "<Figure size 432x288 with 1 Axes>"
      ]
     },
     "metadata": {
      "needs_background": "light"
     },
     "output_type": "display_data"
    },
    {
     "name": "stdout",
     "output_type": "stream",
     "text": [
      "S000501    0.073117\n",
      "S000600    0.047259\n",
      "L103000    0.045429\n",
      "AGE        0.045284\n",
      "L102900    0.045272\n",
      "S000300    0.045016\n",
      "L190300    0.044982\n",
      "S000100    0.044610\n",
      "L100700    0.044511\n",
      "L190500    0.044222\n",
      "L103300    0.044220\n",
      "L100800    0.044117\n",
      "L190400    0.043960\n",
      "L101300    0.043433\n",
      "L101700    0.043359\n",
      "S010102    0.041505\n",
      "dtype: float64\n"
     ]
    },
    {
     "data": {
      "application/javascript": [
       "\n",
       "            setTimeout(function() {\n",
       "                var nbb_cell_id = 40;\n",
       "                var nbb_formatted_code = \"from sklearn.ensemble import ExtraTreesClassifier\\nimport matplotlib.pyplot as plt\\n\\nmodel = ExtraTreesClassifier()\\nmodel.fit(x, y)\\n\\nprint(\\n    model.feature_importances_\\n)  # use inbuilt class feature_importances of tree based classifiers\\n\\n# plot graph of feature importances for better visualization\\nfeat_importances = pd.Series(model.feature_importances_, index=x.columns)\\nfeat_importances.nlargest(16).plot(kind=\\\"barh\\\")\\nplt.show()\\n\\nprint(feat_importances.nlargest(16))\";\n",
       "                var nbb_cells = Jupyter.notebook.get_cells();\n",
       "                for (var i = 0; i < nbb_cells.length; ++i) {\n",
       "                    if (nbb_cells[i].input_prompt_number == nbb_cell_id) {\n",
       "                        nbb_cells[i].set_text(nbb_formatted_code);\n",
       "                        break;\n",
       "                    }\n",
       "                }\n",
       "            }, 500);\n",
       "            "
      ],
      "text/plain": [
       "<IPython.core.display.Javascript object>"
      ]
     },
     "metadata": {},
     "output_type": "display_data"
    }
   ],
   "source": [
    "from sklearn.ensemble import ExtraTreesClassifier\n",
    "import matplotlib.pyplot as plt\n",
    "\n",
    "model = ExtraTreesClassifier()\n",
    "model.fit(x, y)\n",
    "\n",
    "print(\n",
    "    model.feature_importances_\n",
    ")  # use inbuilt class feature_importances of tree based classifiers\n",
    "\n",
    "# plot graph of feature importances for better visualization\n",
    "feat_importances = pd.Series(model.feature_importances_, index=x.columns)\n",
    "feat_importances.nlargest(16).plot(kind=\"barh\")\n",
    "plt.show()\n",
    "\n",
    "print(feat_importances.nlargest(16))"
   ]
  },
  {
   "cell_type": "markdown",
   "metadata": {},
   "source": [
    "============================= Backward Elimination\n",
    "========"
   ]
  },
  {
   "cell_type": "code",
   "execution_count": 41,
   "metadata": {},
   "outputs": [
    {
     "data": {
      "text/html": [
       "<table class=\"simpletable\">\n",
       "<caption>OLS Regression Results</caption>\n",
       "<tr>\n",
       "  <th>Dep. Variable:</th>         <td>S000502</td>     <th>  R-squared:         </th>  <td>   0.656</td>  \n",
       "</tr>\n",
       "<tr>\n",
       "  <th>Model:</th>                   <td>OLS</td>       <th>  Adj. R-squared:    </th>  <td>   0.656</td>  \n",
       "</tr>\n",
       "<tr>\n",
       "  <th>Method:</th>             <td>Least Squares</td>  <th>  F-statistic:       </th>  <td>   3477.</td>  \n",
       "</tr>\n",
       "<tr>\n",
       "  <th>Date:</th>             <td>Fri, 18 Oct 2019</td> <th>  Prob (F-statistic):</th>   <td>  0.00</td>   \n",
       "</tr>\n",
       "<tr>\n",
       "  <th>Time:</th>                 <td>01:02:00</td>     <th>  Log-Likelihood:    </th> <td>-1.5784e+05</td>\n",
       "</tr>\n",
       "<tr>\n",
       "  <th>No. Observations:</th>      <td> 50997</td>      <th>  AIC:               </th>  <td>3.157e+05</td> \n",
       "</tr>\n",
       "<tr>\n",
       "  <th>Df Residuals:</th>          <td> 50968</td>      <th>  BIC:               </th>  <td>3.160e+05</td> \n",
       "</tr>\n",
       "<tr>\n",
       "  <th>Df Model:</th>              <td>    28</td>      <th>                     </th>      <td> </td>     \n",
       "</tr>\n",
       "<tr>\n",
       "  <th>Covariance Type:</th>      <td>nonrobust</td>    <th>                     </th>      <td> </td>     \n",
       "</tr>\n",
       "</table>\n",
       "<table class=\"simpletable\">\n",
       "<tr>\n",
       "       <td></td>         <th>coef</th>     <th>std err</th>      <th>t</th>      <th>P>|t|</th>  <th>[0.025</th>    <th>0.975]</th>  \n",
       "</tr>\n",
       "<tr>\n",
       "  <th>S000501</th>    <td>    0.3038</td> <td>    0.003</td> <td>   87.388</td> <td> 0.000</td> <td>    0.297</td> <td>    0.311</td>\n",
       "</tr>\n",
       "<tr>\n",
       "  <th>CLASS</th>      <td>    5.4019</td> <td>    0.074</td> <td>   72.585</td> <td> 0.000</td> <td>    5.256</td> <td>    5.548</td>\n",
       "</tr>\n",
       "<tr>\n",
       "  <th>S000300</th>    <td>   -0.0231</td> <td>    0.009</td> <td>   -2.454</td> <td> 0.014</td> <td>   -0.042</td> <td>   -0.005</td>\n",
       "</tr>\n",
       "<tr>\n",
       "  <th>L190400</th>    <td>    0.6282</td> <td>    0.062</td> <td>   10.164</td> <td> 0.000</td> <td>    0.507</td> <td>    0.749</td>\n",
       "</tr>\n",
       "<tr>\n",
       "  <th>L190500</th>    <td>   -0.1570</td> <td>    0.026</td> <td>   -6.077</td> <td> 0.000</td> <td>   -0.208</td> <td>   -0.106</td>\n",
       "</tr>\n",
       "<tr>\n",
       "  <th>L190300</th>    <td>    0.3762</td> <td>    0.116</td> <td>    3.254</td> <td> 0.001</td> <td>    0.150</td> <td>    0.603</td>\n",
       "</tr>\n",
       "<tr>\n",
       "  <th>L100700</th>    <td>    0.0890</td> <td>    0.025</td> <td>    3.595</td> <td> 0.000</td> <td>    0.040</td> <td>    0.137</td>\n",
       "</tr>\n",
       "<tr>\n",
       "  <th>L103000</th>    <td>    0.0022</td> <td>    0.000</td> <td>    5.783</td> <td> 0.000</td> <td>    0.001</td> <td>    0.003</td>\n",
       "</tr>\n",
       "<tr>\n",
       "  <th>L103300</th>    <td>   -0.0933</td> <td>    0.034</td> <td>   -2.743</td> <td> 0.006</td> <td>   -0.160</td> <td>   -0.027</td>\n",
       "</tr>\n",
       "<tr>\n",
       "  <th>L100800</th>    <td>    0.0050</td> <td>    0.002</td> <td>    2.499</td> <td> 0.012</td> <td>    0.001</td> <td>    0.009</td>\n",
       "</tr>\n",
       "<tr>\n",
       "  <th>S000600</th>    <td>    0.1104</td> <td>    0.002</td> <td>   49.482</td> <td> 0.000</td> <td>    0.106</td> <td>    0.115</td>\n",
       "</tr>\n",
       "<tr>\n",
       "  <th>L101700</th>    <td>    0.0020</td> <td>    0.001</td> <td>    2.528</td> <td> 0.011</td> <td>    0.000</td> <td>    0.004</td>\n",
       "</tr>\n",
       "<tr>\n",
       "  <th>L100500</th>    <td>    0.7504</td> <td>    0.192</td> <td>    3.902</td> <td> 0.000</td> <td>    0.373</td> <td>    1.127</td>\n",
       "</tr>\n",
       "<tr>\n",
       "  <th>L101300</th>    <td>   -0.0023</td> <td>    0.001</td> <td>   -1.574</td> <td> 0.115</td> <td>   -0.005</td> <td>    0.001</td>\n",
       "</tr>\n",
       "<tr>\n",
       "  <th>S000100</th>    <td>   -0.0108</td> <td>    0.004</td> <td>   -2.442</td> <td> 0.015</td> <td>   -0.020</td> <td>   -0.002</td>\n",
       "</tr>\n",
       "<tr>\n",
       "  <th>L102900</th>    <td>    0.0046</td> <td>    0.001</td> <td>    5.394</td> <td> 0.000</td> <td>    0.003</td> <td>    0.006</td>\n",
       "</tr>\n",
       "<tr>\n",
       "  <th>S010102</th>    <td>    0.0868</td> <td>    0.013</td> <td>    6.439</td> <td> 0.000</td> <td>    0.060</td> <td>    0.113</td>\n",
       "</tr>\n",
       "<tr>\n",
       "  <th>S010101</th>    <td>    0.0190</td> <td>    0.013</td> <td>    1.425</td> <td> 0.154</td> <td>   -0.007</td> <td>    0.045</td>\n",
       "</tr>\n",
       "<tr>\n",
       "  <th>AGE</th>        <td>    0.0309</td> <td>    0.003</td> <td>   11.093</td> <td> 0.000</td> <td>    0.025</td> <td>    0.036</td>\n",
       "</tr>\n",
       "<tr>\n",
       "  <th>SEX</th>        <td>    0.4977</td> <td>    0.110</td> <td>    4.504</td> <td> 0.000</td> <td>    0.281</td> <td>    0.714</td>\n",
       "</tr>\n",
       "<tr>\n",
       "  <th>FIELD_38_C</th> <td>    0.2831</td> <td>    0.084</td> <td>    3.364</td> <td> 0.001</td> <td>    0.118</td> <td>    0.448</td>\n",
       "</tr>\n",
       "<tr>\n",
       "  <th>FIELD_33</th>   <td>    0.0935</td> <td>    0.038</td> <td>    2.438</td> <td> 0.015</td> <td>    0.018</td> <td>    0.169</td>\n",
       "</tr>\n",
       "<tr>\n",
       "  <th>FIELD_38</th>   <td>    0.1256</td> <td>    0.037</td> <td>    3.382</td> <td> 0.001</td> <td>    0.053</td> <td>    0.198</td>\n",
       "</tr>\n",
       "<tr>\n",
       "  <th>FIELD_29</th>   <td>    0.4683</td> <td>    0.068</td> <td>    6.910</td> <td> 0.000</td> <td>    0.336</td> <td>    0.601</td>\n",
       "</tr>\n",
       "<tr>\n",
       "  <th>FIELD_27</th>   <td>    0.3952</td> <td>    0.097</td> <td>    4.081</td> <td> 0.000</td> <td>    0.205</td> <td>    0.585</td>\n",
       "</tr>\n",
       "<tr>\n",
       "  <th>FIELD_40</th>   <td>   -0.0342</td> <td>    0.020</td> <td>   -1.739</td> <td> 0.082</td> <td>   -0.073</td> <td>    0.004</td>\n",
       "</tr>\n",
       "<tr>\n",
       "  <th>FIELD_41</th>   <td>   -0.0342</td> <td>    0.018</td> <td>   -1.938</td> <td> 0.053</td> <td>   -0.069</td> <td>    0.000</td>\n",
       "</tr>\n",
       "<tr>\n",
       "  <th>FIELD_28</th>   <td>   -0.1671</td> <td>    0.103</td> <td>   -1.618</td> <td> 0.106</td> <td>   -0.369</td> <td>    0.035</td>\n",
       "</tr>\n",
       "<tr>\n",
       "  <th>const</th>      <td>   18.9533</td> <td>    0.998</td> <td>   18.982</td> <td> 0.000</td> <td>   16.996</td> <td>   20.910</td>\n",
       "</tr>\n",
       "</table>\n",
       "<table class=\"simpletable\">\n",
       "<tr>\n",
       "  <th>Omnibus:</th>       <td>55.953</td> <th>  Durbin-Watson:     </th> <td>   1.838</td>\n",
       "</tr>\n",
       "<tr>\n",
       "  <th>Prob(Omnibus):</th> <td> 0.000</td> <th>  Jarque-Bera (JB):  </th> <td>  64.297</td>\n",
       "</tr>\n",
       "<tr>\n",
       "  <th>Skew:</th>          <td>-0.025</td> <th>  Prob(JB):          </th> <td>1.09e-14</td>\n",
       "</tr>\n",
       "<tr>\n",
       "  <th>Kurtosis:</th>      <td> 3.166</td> <th>  Cond. No.          </th> <td>1.44e+04</td>\n",
       "</tr>\n",
       "</table><br/><br/>Warnings:<br/>[1] Standard Errors assume that the covariance matrix of the errors is correctly specified.<br/>[2] The condition number is large, 1.44e+04. This might indicate that there are<br/>strong multicollinearity or other numerical problems."
      ],
      "text/plain": [
       "<class 'statsmodels.iolib.summary.Summary'>\n",
       "\"\"\"\n",
       "                            OLS Regression Results                            \n",
       "==============================================================================\n",
       "Dep. Variable:                S000502   R-squared:                       0.656\n",
       "Model:                            OLS   Adj. R-squared:                  0.656\n",
       "Method:                 Least Squares   F-statistic:                     3477.\n",
       "Date:                Fri, 18 Oct 2019   Prob (F-statistic):               0.00\n",
       "Time:                        01:02:00   Log-Likelihood:            -1.5784e+05\n",
       "No. Observations:               50997   AIC:                         3.157e+05\n",
       "Df Residuals:                   50968   BIC:                         3.160e+05\n",
       "Df Model:                          28                                         \n",
       "Covariance Type:            nonrobust                                         \n",
       "==============================================================================\n",
       "                 coef    std err          t      P>|t|      [0.025      0.975]\n",
       "------------------------------------------------------------------------------\n",
       "S000501        0.3038      0.003     87.388      0.000       0.297       0.311\n",
       "CLASS          5.4019      0.074     72.585      0.000       5.256       5.548\n",
       "S000300       -0.0231      0.009     -2.454      0.014      -0.042      -0.005\n",
       "L190400        0.6282      0.062     10.164      0.000       0.507       0.749\n",
       "L190500       -0.1570      0.026     -6.077      0.000      -0.208      -0.106\n",
       "L190300        0.3762      0.116      3.254      0.001       0.150       0.603\n",
       "L100700        0.0890      0.025      3.595      0.000       0.040       0.137\n",
       "L103000        0.0022      0.000      5.783      0.000       0.001       0.003\n",
       "L103300       -0.0933      0.034     -2.743      0.006      -0.160      -0.027\n",
       "L100800        0.0050      0.002      2.499      0.012       0.001       0.009\n",
       "S000600        0.1104      0.002     49.482      0.000       0.106       0.115\n",
       "L101700        0.0020      0.001      2.528      0.011       0.000       0.004\n",
       "L100500        0.7504      0.192      3.902      0.000       0.373       1.127\n",
       "L101300       -0.0023      0.001     -1.574      0.115      -0.005       0.001\n",
       "S000100       -0.0108      0.004     -2.442      0.015      -0.020      -0.002\n",
       "L102900        0.0046      0.001      5.394      0.000       0.003       0.006\n",
       "S010102        0.0868      0.013      6.439      0.000       0.060       0.113\n",
       "S010101        0.0190      0.013      1.425      0.154      -0.007       0.045\n",
       "AGE            0.0309      0.003     11.093      0.000       0.025       0.036\n",
       "SEX            0.4977      0.110      4.504      0.000       0.281       0.714\n",
       "FIELD_38_C     0.2831      0.084      3.364      0.001       0.118       0.448\n",
       "FIELD_33       0.0935      0.038      2.438      0.015       0.018       0.169\n",
       "FIELD_38       0.1256      0.037      3.382      0.001       0.053       0.198\n",
       "FIELD_29       0.4683      0.068      6.910      0.000       0.336       0.601\n",
       "FIELD_27       0.3952      0.097      4.081      0.000       0.205       0.585\n",
       "FIELD_40      -0.0342      0.020     -1.739      0.082      -0.073       0.004\n",
       "FIELD_41      -0.0342      0.018     -1.938      0.053      -0.069       0.000\n",
       "FIELD_28      -0.1671      0.103     -1.618      0.106      -0.369       0.035\n",
       "const         18.9533      0.998     18.982      0.000      16.996      20.910\n",
       "==============================================================================\n",
       "Omnibus:                       55.953   Durbin-Watson:                   1.838\n",
       "Prob(Omnibus):                  0.000   Jarque-Bera (JB):               64.297\n",
       "Skew:                          -0.025   Prob(JB):                     1.09e-14\n",
       "Kurtosis:                       3.166   Cond. No.                     1.44e+04\n",
       "==============================================================================\n",
       "\n",
       "Warnings:\n",
       "[1] Standard Errors assume that the covariance matrix of the errors is correctly specified.\n",
       "[2] The condition number is large, 1.44e+04. This might indicate that there are\n",
       "strong multicollinearity or other numerical problems.\n",
       "\"\"\""
      ]
     },
     "execution_count": 41,
     "metadata": {},
     "output_type": "execute_result"
    },
    {
     "data": {
      "application/javascript": [
       "\n",
       "            setTimeout(function() {\n",
       "                var nbb_cell_id = 41;\n",
       "                var nbb_formatted_code = \"import statsmodels.regression.linear_model as sm\\n\\ntemp = x.copy()\\ntemp[\\\"const\\\"] = np.ones((x.shape[0], 1))\\nregressor_OLS = sm.OLS(endog=y, exog=temp).fit()\\nregressor_OLS.summary()\";\n",
       "                var nbb_cells = Jupyter.notebook.get_cells();\n",
       "                for (var i = 0; i < nbb_cells.length; ++i) {\n",
       "                    if (nbb_cells[i].input_prompt_number == nbb_cell_id) {\n",
       "                        nbb_cells[i].set_text(nbb_formatted_code);\n",
       "                        break;\n",
       "                    }\n",
       "                }\n",
       "            }, 500);\n",
       "            "
      ],
      "text/plain": [
       "<IPython.core.display.Javascript object>"
      ]
     },
     "metadata": {},
     "output_type": "display_data"
    }
   ],
   "source": [
    "import statsmodels.regression.linear_model as sm\n",
    "\n",
    "temp = x.copy()\n",
    "temp[\"const\"] = np.ones((x.shape[0], 1))\n",
    "regressor_OLS = sm.OLS(endog=y, exog=temp).fit()\n",
    "regressor_OLS.summary()"
   ]
  },
  {
   "cell_type": "code",
   "execution_count": 49,
   "metadata": {},
   "outputs": [
    {
     "ename": "KeyError",
     "evalue": "\"['FIELD_21' 'FIELD_5' 'FIELD_14'] not found in axis\"",
     "output_type": "error",
     "traceback": [
      "\u001b[1;31m---------------------------------------------------------------------------\u001b[0m",
      "\u001b[1;31mKeyError\u001b[0m                                  Traceback (most recent call last)",
      "\u001b[1;32m<ipython-input-49-0195e53d156d>\u001b[0m in \u001b[0;36m<module>\u001b[1;34m\u001b[0m\n\u001b[1;32m----> 1\u001b[1;33m \u001b[0mtemp\u001b[0m\u001b[1;33m=\u001b[0m\u001b[0mtemp\u001b[0m\u001b[1;33m.\u001b[0m\u001b[0mdrop\u001b[0m\u001b[1;33m(\u001b[0m\u001b[0mcolumns\u001b[0m\u001b[1;33m=\u001b[0m\u001b[1;33m[\u001b[0m\u001b[1;34m'L103000'\u001b[0m\u001b[1;33m,\u001b[0m\u001b[1;34m'L103300'\u001b[0m\u001b[1;33m,\u001b[0m\u001b[1;34m'L190300'\u001b[0m\u001b[1;33m,\u001b[0m\u001b[1;34m'FIELD_40'\u001b[0m\u001b[1;33m,\u001b[0m\u001b[1;34m'FIELD_27'\u001b[0m\u001b[1;33m,\u001b[0m\u001b[1;34m'FIELD_29'\u001b[0m\u001b[1;33m,\u001b[0m\u001b[1;34m'FIELD_21'\u001b[0m\u001b[1;33m,\u001b[0m\u001b[1;34m'FIELD_5'\u001b[0m\u001b[1;33m,\u001b[0m\u001b[1;34m'FIELD_14'\u001b[0m\u001b[1;33m]\u001b[0m\u001b[1;33m)\u001b[0m\u001b[1;33m\u001b[0m\u001b[1;33m\u001b[0m\u001b[0m\n\u001b[0m\u001b[0;32m      2\u001b[0m \u001b[0mregressor_OLS\u001b[0m \u001b[1;33m=\u001b[0m \u001b[0msm\u001b[0m\u001b[1;33m.\u001b[0m\u001b[0mOLS\u001b[0m\u001b[1;33m(\u001b[0m\u001b[0mendog\u001b[0m \u001b[1;33m=\u001b[0m \u001b[0my\u001b[0m\u001b[1;33m,\u001b[0m \u001b[0mexog\u001b[0m \u001b[1;33m=\u001b[0m \u001b[0mtemp\u001b[0m\u001b[1;33m)\u001b[0m\u001b[1;33m.\u001b[0m\u001b[0mfit\u001b[0m\u001b[1;33m(\u001b[0m\u001b[1;33m)\u001b[0m\u001b[1;33m\u001b[0m\u001b[1;33m\u001b[0m\u001b[0m\n\u001b[0;32m      3\u001b[0m \u001b[0mregressor_OLS\u001b[0m\u001b[1;33m.\u001b[0m\u001b[0msummary\u001b[0m\u001b[1;33m(\u001b[0m\u001b[1;33m)\u001b[0m\u001b[1;33m\u001b[0m\u001b[1;33m\u001b[0m\u001b[0m\n",
      "\u001b[1;32mC:\\ProgramData\\Anaconda3\\lib\\site-packages\\pandas\\core\\frame.py\u001b[0m in \u001b[0;36mdrop\u001b[1;34m(self, labels, axis, index, columns, level, inplace, errors)\u001b[0m\n\u001b[0;32m   3938\u001b[0m                                            \u001b[0mindex\u001b[0m\u001b[1;33m=\u001b[0m\u001b[0mindex\u001b[0m\u001b[1;33m,\u001b[0m \u001b[0mcolumns\u001b[0m\u001b[1;33m=\u001b[0m\u001b[0mcolumns\u001b[0m\u001b[1;33m,\u001b[0m\u001b[1;33m\u001b[0m\u001b[1;33m\u001b[0m\u001b[0m\n\u001b[0;32m   3939\u001b[0m                                            \u001b[0mlevel\u001b[0m\u001b[1;33m=\u001b[0m\u001b[0mlevel\u001b[0m\u001b[1;33m,\u001b[0m \u001b[0minplace\u001b[0m\u001b[1;33m=\u001b[0m\u001b[0minplace\u001b[0m\u001b[1;33m,\u001b[0m\u001b[1;33m\u001b[0m\u001b[1;33m\u001b[0m\u001b[0m\n\u001b[1;32m-> 3940\u001b[1;33m                                            errors=errors)\n\u001b[0m\u001b[0;32m   3941\u001b[0m \u001b[1;33m\u001b[0m\u001b[0m\n\u001b[0;32m   3942\u001b[0m     @rewrite_axis_style_signature('mapper', [('copy', True),\n",
      "\u001b[1;32mC:\\ProgramData\\Anaconda3\\lib\\site-packages\\pandas\\core\\generic.py\u001b[0m in \u001b[0;36mdrop\u001b[1;34m(self, labels, axis, index, columns, level, inplace, errors)\u001b[0m\n\u001b[0;32m   3778\u001b[0m         \u001b[1;32mfor\u001b[0m \u001b[0maxis\u001b[0m\u001b[1;33m,\u001b[0m \u001b[0mlabels\u001b[0m \u001b[1;32min\u001b[0m \u001b[0maxes\u001b[0m\u001b[1;33m.\u001b[0m\u001b[0mitems\u001b[0m\u001b[1;33m(\u001b[0m\u001b[1;33m)\u001b[0m\u001b[1;33m:\u001b[0m\u001b[1;33m\u001b[0m\u001b[1;33m\u001b[0m\u001b[0m\n\u001b[0;32m   3779\u001b[0m             \u001b[1;32mif\u001b[0m \u001b[0mlabels\u001b[0m \u001b[1;32mis\u001b[0m \u001b[1;32mnot\u001b[0m \u001b[1;32mNone\u001b[0m\u001b[1;33m:\u001b[0m\u001b[1;33m\u001b[0m\u001b[1;33m\u001b[0m\u001b[0m\n\u001b[1;32m-> 3780\u001b[1;33m                 \u001b[0mobj\u001b[0m \u001b[1;33m=\u001b[0m \u001b[0mobj\u001b[0m\u001b[1;33m.\u001b[0m\u001b[0m_drop_axis\u001b[0m\u001b[1;33m(\u001b[0m\u001b[0mlabels\u001b[0m\u001b[1;33m,\u001b[0m \u001b[0maxis\u001b[0m\u001b[1;33m,\u001b[0m \u001b[0mlevel\u001b[0m\u001b[1;33m=\u001b[0m\u001b[0mlevel\u001b[0m\u001b[1;33m,\u001b[0m \u001b[0merrors\u001b[0m\u001b[1;33m=\u001b[0m\u001b[0merrors\u001b[0m\u001b[1;33m)\u001b[0m\u001b[1;33m\u001b[0m\u001b[1;33m\u001b[0m\u001b[0m\n\u001b[0m\u001b[0;32m   3781\u001b[0m \u001b[1;33m\u001b[0m\u001b[0m\n\u001b[0;32m   3782\u001b[0m         \u001b[1;32mif\u001b[0m \u001b[0minplace\u001b[0m\u001b[1;33m:\u001b[0m\u001b[1;33m\u001b[0m\u001b[1;33m\u001b[0m\u001b[0m\n",
      "\u001b[1;32mC:\\ProgramData\\Anaconda3\\lib\\site-packages\\pandas\\core\\generic.py\u001b[0m in \u001b[0;36m_drop_axis\u001b[1;34m(self, labels, axis, level, errors)\u001b[0m\n\u001b[0;32m   3810\u001b[0m                 \u001b[0mnew_axis\u001b[0m \u001b[1;33m=\u001b[0m \u001b[0maxis\u001b[0m\u001b[1;33m.\u001b[0m\u001b[0mdrop\u001b[0m\u001b[1;33m(\u001b[0m\u001b[0mlabels\u001b[0m\u001b[1;33m,\u001b[0m \u001b[0mlevel\u001b[0m\u001b[1;33m=\u001b[0m\u001b[0mlevel\u001b[0m\u001b[1;33m,\u001b[0m \u001b[0merrors\u001b[0m\u001b[1;33m=\u001b[0m\u001b[0merrors\u001b[0m\u001b[1;33m)\u001b[0m\u001b[1;33m\u001b[0m\u001b[1;33m\u001b[0m\u001b[0m\n\u001b[0;32m   3811\u001b[0m             \u001b[1;32melse\u001b[0m\u001b[1;33m:\u001b[0m\u001b[1;33m\u001b[0m\u001b[1;33m\u001b[0m\u001b[0m\n\u001b[1;32m-> 3812\u001b[1;33m                 \u001b[0mnew_axis\u001b[0m \u001b[1;33m=\u001b[0m \u001b[0maxis\u001b[0m\u001b[1;33m.\u001b[0m\u001b[0mdrop\u001b[0m\u001b[1;33m(\u001b[0m\u001b[0mlabels\u001b[0m\u001b[1;33m,\u001b[0m \u001b[0merrors\u001b[0m\u001b[1;33m=\u001b[0m\u001b[0merrors\u001b[0m\u001b[1;33m)\u001b[0m\u001b[1;33m\u001b[0m\u001b[1;33m\u001b[0m\u001b[0m\n\u001b[0m\u001b[0;32m   3813\u001b[0m             \u001b[0mresult\u001b[0m \u001b[1;33m=\u001b[0m \u001b[0mself\u001b[0m\u001b[1;33m.\u001b[0m\u001b[0mreindex\u001b[0m\u001b[1;33m(\u001b[0m\u001b[1;33m**\u001b[0m\u001b[1;33m{\u001b[0m\u001b[0maxis_name\u001b[0m\u001b[1;33m:\u001b[0m \u001b[0mnew_axis\u001b[0m\u001b[1;33m}\u001b[0m\u001b[1;33m)\u001b[0m\u001b[1;33m\u001b[0m\u001b[1;33m\u001b[0m\u001b[0m\n\u001b[0;32m   3814\u001b[0m \u001b[1;33m\u001b[0m\u001b[0m\n",
      "\u001b[1;32mC:\\ProgramData\\Anaconda3\\lib\\site-packages\\pandas\\core\\indexes\\base.py\u001b[0m in \u001b[0;36mdrop\u001b[1;34m(self, labels, errors)\u001b[0m\n\u001b[0;32m   4963\u001b[0m             \u001b[1;32mif\u001b[0m \u001b[0merrors\u001b[0m \u001b[1;33m!=\u001b[0m \u001b[1;34m'ignore'\u001b[0m\u001b[1;33m:\u001b[0m\u001b[1;33m\u001b[0m\u001b[1;33m\u001b[0m\u001b[0m\n\u001b[0;32m   4964\u001b[0m                 raise KeyError(\n\u001b[1;32m-> 4965\u001b[1;33m                     '{} not found in axis'.format(labels[mask]))\n\u001b[0m\u001b[0;32m   4966\u001b[0m             \u001b[0mindexer\u001b[0m \u001b[1;33m=\u001b[0m \u001b[0mindexer\u001b[0m\u001b[1;33m[\u001b[0m\u001b[1;33m~\u001b[0m\u001b[0mmask\u001b[0m\u001b[1;33m]\u001b[0m\u001b[1;33m\u001b[0m\u001b[1;33m\u001b[0m\u001b[0m\n\u001b[0;32m   4967\u001b[0m         \u001b[1;32mreturn\u001b[0m \u001b[0mself\u001b[0m\u001b[1;33m.\u001b[0m\u001b[0mdelete\u001b[0m\u001b[1;33m(\u001b[0m\u001b[0mindexer\u001b[0m\u001b[1;33m)\u001b[0m\u001b[1;33m\u001b[0m\u001b[1;33m\u001b[0m\u001b[0m\n",
      "\u001b[1;31mKeyError\u001b[0m: \"['FIELD_21' 'FIELD_5' 'FIELD_14'] not found in axis\""
     ]
    },
    {
     "data": {
      "application/javascript": [
       "\n",
       "            setTimeout(function() {\n",
       "                var nbb_cell_id = 49;\n",
       "                var nbb_formatted_code = \"temp = temp.drop(\\n    columns=[\\n        \\\"L103000\\\",\\n        \\\"L103300\\\",\\n        \\\"L190300\\\",\\n        \\\"FIELD_40\\\",\\n        \\\"FIELD_27\\\",\\n        \\\"FIELD_29\\\",\\n        \\\"FIELD_21\\\",\\n        \\\"FIELD_5\\\",\\n        \\\"FIELD_14\\\",\\n    ]\\n)\\nregressor_OLS = sm.OLS(endog=y, exog=temp).fit()\\nregressor_OLS.summary()\";\n",
       "                var nbb_cells = Jupyter.notebook.get_cells();\n",
       "                for (var i = 0; i < nbb_cells.length; ++i) {\n",
       "                    if (nbb_cells[i].input_prompt_number == nbb_cell_id) {\n",
       "                        nbb_cells[i].set_text(nbb_formatted_code);\n",
       "                        break;\n",
       "                    }\n",
       "                }\n",
       "            }, 500);\n",
       "            "
      ],
      "text/plain": [
       "<IPython.core.display.Javascript object>"
      ]
     },
     "metadata": {},
     "output_type": "display_data"
    }
   ],
   "source": [
    "temp = temp.drop(\n",
    "    columns=[\n",
    "        \"L103000\",\n",
    "        \"L103300\",\n",
    "        \"L190300\",\n",
    "        \"FIELD_40\",\n",
    "        \"FIELD_27\",\n",
    "        \"FIELD_29\",\n",
    "        \"FIELD_21\",\n",
    "        \"FIELD_5\",\n",
    "        \"FIELD_14\",\n",
    "    ]\n",
    ")\n",
    "regressor_OLS = sm.OLS(endog=y, exog=temp).fit()\n",
    "regressor_OLS.summary()"
   ]
  },
  {
   "cell_type": "code",
   "execution_count": 49,
   "metadata": {},
   "outputs": [
    {
     "data": {
      "text/html": [
       "<table class=\"simpletable\">\n",
       "<caption>OLS Regression Results</caption>\n",
       "<tr>\n",
       "  <th>Dep. Variable:</th>        <td>L100800_y</td>    <th>  R-squared (uncentered):</th>      <td>   0.992</td> \n",
       "</tr>\n",
       "<tr>\n",
       "  <th>Model:</th>                   <td>OLS</td>       <th>  Adj. R-squared (uncentered):</th> <td>   0.992</td> \n",
       "</tr>\n",
       "<tr>\n",
       "  <th>Method:</th>             <td>Least Squares</td>  <th>  F-statistic:       </th>          <td>1.851e+05</td>\n",
       "</tr>\n",
       "<tr>\n",
       "  <th>Date:</th>             <td>Wed, 09 Oct 2019</td> <th>  Prob (F-statistic):</th>           <td>  0.00</td>  \n",
       "</tr>\n",
       "<tr>\n",
       "  <th>Time:</th>                 <td>21:54:41</td>     <th>  Log-Likelihood:    </th>          <td> -77458.</td> \n",
       "</tr>\n",
       "<tr>\n",
       "  <th>No. Observations:</th>      <td> 21538</td>      <th>  AIC:               </th>          <td>1.549e+05</td>\n",
       "</tr>\n",
       "<tr>\n",
       "  <th>Df Residuals:</th>          <td> 21524</td>      <th>  BIC:               </th>          <td>1.551e+05</td>\n",
       "</tr>\n",
       "<tr>\n",
       "  <th>Df Model:</th>              <td>    14</td>      <th>                     </th>              <td> </td>    \n",
       "</tr>\n",
       "<tr>\n",
       "  <th>Covariance Type:</th>      <td>nonrobust</td>    <th>                     </th>              <td> </td>    \n",
       "</tr>\n",
       "</table>\n",
       "<table class=\"simpletable\">\n",
       "<tr>\n",
       "      <td></td>         <th>coef</th>     <th>std err</th>      <th>t</th>      <th>P>|t|</th>  <th>[0.025</th>    <th>0.975]</th>  \n",
       "</tr>\n",
       "<tr>\n",
       "  <th>L100800_x</th> <td>    0.4959</td> <td>    0.007</td> <td>   72.088</td> <td> 0.000</td> <td>    0.482</td> <td>    0.509</td>\n",
       "</tr>\n",
       "<tr>\n",
       "  <th>L104600</th>   <td>    8.5403</td> <td>    0.181</td> <td>   47.069</td> <td> 0.000</td> <td>    8.185</td> <td>    8.896</td>\n",
       "</tr>\n",
       "<tr>\n",
       "  <th>S000300</th>   <td>    0.0717</td> <td>    0.022</td> <td>    3.239</td> <td> 0.001</td> <td>    0.028</td> <td>    0.115</td>\n",
       "</tr>\n",
       "<tr>\n",
       "  <th>SEX</th>       <td>   -1.8595</td> <td>    0.163</td> <td>  -11.392</td> <td> 0.000</td> <td>   -2.179</td> <td>   -1.540</td>\n",
       "</tr>\n",
       "<tr>\n",
       "  <th>S000501</th>   <td>    0.0194</td> <td>    0.008</td> <td>    2.494</td> <td> 0.013</td> <td>    0.004</td> <td>    0.035</td>\n",
       "</tr>\n",
       "<tr>\n",
       "  <th>L101700</th>   <td>    0.0166</td> <td>    0.002</td> <td>    7.972</td> <td> 0.000</td> <td>    0.013</td> <td>    0.021</td>\n",
       "</tr>\n",
       "<tr>\n",
       "  <th>L190400</th>   <td>    1.7212</td> <td>    0.153</td> <td>   11.220</td> <td> 0.000</td> <td>    1.421</td> <td>    2.022</td>\n",
       "</tr>\n",
       "<tr>\n",
       "  <th>S000502</th>   <td>   -0.0279</td> <td>    0.010</td> <td>   -2.702</td> <td> 0.007</td> <td>   -0.048</td> <td>   -0.008</td>\n",
       "</tr>\n",
       "<tr>\n",
       "  <th>L190500</th>   <td>   -0.6045</td> <td>    0.054</td> <td>  -11.168</td> <td> 0.000</td> <td>   -0.711</td> <td>   -0.498</td>\n",
       "</tr>\n",
       "<tr>\n",
       "  <th>L101300</th>   <td>    0.0124</td> <td>    0.004</td> <td>    3.303</td> <td> 0.001</td> <td>    0.005</td> <td>    0.020</td>\n",
       "</tr>\n",
       "<tr>\n",
       "  <th>AGE</th>       <td>    0.0271</td> <td>    0.008</td> <td>    3.354</td> <td> 0.001</td> <td>    0.011</td> <td>    0.043</td>\n",
       "</tr>\n",
       "<tr>\n",
       "  <th>FIELD_38</th>  <td>    0.2745</td> <td>    0.056</td> <td>    4.941</td> <td> 0.000</td> <td>    0.166</td> <td>    0.383</td>\n",
       "</tr>\n",
       "<tr>\n",
       "  <th>FIELD_31</th>  <td>    0.5832</td> <td>    0.169</td> <td>    3.449</td> <td> 0.001</td> <td>    0.252</td> <td>    0.915</td>\n",
       "</tr>\n",
       "<tr>\n",
       "  <th>FIELD_41</th>  <td>    0.1317</td> <td>    0.038</td> <td>    3.491</td> <td> 0.000</td> <td>    0.058</td> <td>    0.206</td>\n",
       "</tr>\n",
       "</table>\n",
       "<table class=\"simpletable\">\n",
       "<tr>\n",
       "  <th>Omnibus:</th>       <td>12859.970</td> <th>  Durbin-Watson:     </th>  <td>   2.086</td> \n",
       "</tr>\n",
       "<tr>\n",
       "  <th>Prob(Omnibus):</th>  <td> 0.000</td>   <th>  Jarque-Bera (JB):  </th> <td>743785.719</td>\n",
       "</tr>\n",
       "<tr>\n",
       "  <th>Skew:</th>           <td> 2.144</td>   <th>  Prob(JB):          </th>  <td>    0.00</td> \n",
       "</tr>\n",
       "<tr>\n",
       "  <th>Kurtosis:</th>       <td>31.468</td>   <th>  Cond. No.          </th>  <td>    648.</td> \n",
       "</tr>\n",
       "</table><br/><br/>Warnings:<br/>[1] Standard Errors assume that the covariance matrix of the errors is correctly specified."
      ],
      "text/plain": [
       "<class 'statsmodels.iolib.summary.Summary'>\n",
       "\"\"\"\n",
       "                                 OLS Regression Results                                \n",
       "=======================================================================================\n",
       "Dep. Variable:              L100800_y   R-squared (uncentered):                   0.992\n",
       "Model:                            OLS   Adj. R-squared (uncentered):              0.992\n",
       "Method:                 Least Squares   F-statistic:                          1.851e+05\n",
       "Date:                Wed, 09 Oct 2019   Prob (F-statistic):                        0.00\n",
       "Time:                        21:54:41   Log-Likelihood:                         -77458.\n",
       "No. Observations:               21538   AIC:                                  1.549e+05\n",
       "Df Residuals:                   21524   BIC:                                  1.551e+05\n",
       "Df Model:                          14                                                  \n",
       "Covariance Type:            nonrobust                                                  \n",
       "==============================================================================\n",
       "                 coef    std err          t      P>|t|      [0.025      0.975]\n",
       "------------------------------------------------------------------------------\n",
       "L100800_x      0.4959      0.007     72.088      0.000       0.482       0.509\n",
       "L104600        8.5403      0.181     47.069      0.000       8.185       8.896\n",
       "S000300        0.0717      0.022      3.239      0.001       0.028       0.115\n",
       "SEX           -1.8595      0.163    -11.392      0.000      -2.179      -1.540\n",
       "S000501        0.0194      0.008      2.494      0.013       0.004       0.035\n",
       "L101700        0.0166      0.002      7.972      0.000       0.013       0.021\n",
       "L190400        1.7212      0.153     11.220      0.000       1.421       2.022\n",
       "S000502       -0.0279      0.010     -2.702      0.007      -0.048      -0.008\n",
       "L190500       -0.6045      0.054    -11.168      0.000      -0.711      -0.498\n",
       "L101300        0.0124      0.004      3.303      0.001       0.005       0.020\n",
       "AGE            0.0271      0.008      3.354      0.001       0.011       0.043\n",
       "FIELD_38       0.2745      0.056      4.941      0.000       0.166       0.383\n",
       "FIELD_31       0.5832      0.169      3.449      0.001       0.252       0.915\n",
       "FIELD_41       0.1317      0.038      3.491      0.000       0.058       0.206\n",
       "==============================================================================\n",
       "Omnibus:                    12859.970   Durbin-Watson:                   2.086\n",
       "Prob(Omnibus):                  0.000   Jarque-Bera (JB):           743785.719\n",
       "Skew:                           2.144   Prob(JB):                         0.00\n",
       "Kurtosis:                      31.468   Cond. No.                         648.\n",
       "==============================================================================\n",
       "\n",
       "Warnings:\n",
       "[1] Standard Errors assume that the covariance matrix of the errors is correctly specified.\n",
       "\"\"\""
      ]
     },
     "execution_count": 49,
     "metadata": {},
     "output_type": "execute_result"
    }
   ],
   "source": [
    "temp=temp.drop(columns=['FIELD_33'])\n",
    "regressor_OLS = sm.OLS(endog = y, exog = temp).fit()\n",
    "regressor_OLS.summary()"
   ]
  },
  {
   "cell_type": "code",
   "execution_count": 50,
   "metadata": {},
   "outputs": [
    {
     "data": {
      "text/plain": [
       "Index(['L100800_x', 'L104600', 'S000300', 'SEX', 'S000501', 'L101700',\n",
       "       'L190400', 'S000502', 'L190500', 'L101300', 'AGE', 'FIELD_38',\n",
       "       'FIELD_31', 'FIELD_41'],\n",
       "      dtype='object')"
      ]
     },
     "execution_count": 50,
     "metadata": {},
     "output_type": "execute_result"
    }
   ],
   "source": [
    "temp.columns"
   ]
  },
  {
   "cell_type": "code",
   "execution_count": null,
   "metadata": {},
   "outputs": [],
   "source": []
  },
  {
   "cell_type": "markdown",
   "metadata": {},
   "source": [
    "======================== variance inflation factor \n",
    "============="
   ]
  },
  {
   "cell_type": "code",
   "execution_count": 43,
   "metadata": {},
   "outputs": [
    {
     "data": {
      "application/javascript": [
       "\n",
       "            setTimeout(function() {\n",
       "                var nbb_cell_id = 43;\n",
       "                var nbb_formatted_code = \"# this function computes vif value which help us to remove columns with redundant information ( to avoid Multicollinearity)\\n# Multicollinearity occurs when two or more predictors in the model are correlated and provide redundant information about the response.\\n# Multicollinearity was measured by variance inflation factors (VIF) and tolerance\\n\\n\\ndef vifcal(inputdata, depcol):\\n    vifL5 = []\\n    import statsmodels.formula.api as sm\\n\\n    xvars = inputdata.drop([depcol], axis=1)\\n    xvarnames = xvars.columns\\n    for i in range(0, xvarnames.shape[0]):\\n        _y = xvars[xvarnames[i]]\\n        _x = xvars[xvarnames.drop(xvarnames[i])]\\n        rsq = sm.ols(formula=\\\"_y~_x\\\", data=xvars).fit().rsquared\\n        vif = round(1 / (1 - rsq), 2)\\n        print(i, \\\", \\\", xvarnames[i], \\\" VIF = \\\", vif)\\n        if vif < 5:\\n            vifL5.append(xvarnames[i])\\n    return vifL5\";\n",
       "                var nbb_cells = Jupyter.notebook.get_cells();\n",
       "                for (var i = 0; i < nbb_cells.length; ++i) {\n",
       "                    if (nbb_cells[i].input_prompt_number == nbb_cell_id) {\n",
       "                        nbb_cells[i].set_text(nbb_formatted_code);\n",
       "                        break;\n",
       "                    }\n",
       "                }\n",
       "            }, 500);\n",
       "            "
      ],
      "text/plain": [
       "<IPython.core.display.Javascript object>"
      ]
     },
     "metadata": {},
     "output_type": "display_data"
    }
   ],
   "source": [
    "# this function computes vif value which help us to remove columns with redundant information ( to avoid Multicollinearity)\n",
    "# Multicollinearity occurs when two or more predictors in the model are correlated and provide redundant information about the response.\n",
    "# Multicollinearity was measured by variance inflation factors (VIF) and tolerance\n",
    "\n",
    "\n",
    "def vifcal(inputdata, depcol):\n",
    "    vifL5 = []\n",
    "    import statsmodels.formula.api as sm\n",
    "\n",
    "    xvars = inputdata.drop([depcol], axis=1)\n",
    "    xvarnames = xvars.columns\n",
    "    for i in range(0, xvarnames.shape[0]):\n",
    "        _y = xvars[xvarnames[i]]\n",
    "        _x = xvars[xvarnames.drop(xvarnames[i])]\n",
    "        rsq = sm.ols(formula=\"_y~_x\", data=xvars).fit().rsquared\n",
    "        vif = round(1 / (1 - rsq), 2)\n",
    "        print(i, \", \", xvarnames[i], \" VIF = \", vif)\n",
    "        if vif < 5:\n",
    "            vifL5.append(xvarnames[i])\n",
    "    return vifL5"
   ]
  },
  {
   "cell_type": "code",
   "execution_count": 44,
   "metadata": {},
   "outputs": [
    {
     "name": "stdout",
     "output_type": "stream",
     "text": [
      "0 ,  S000501  VIF =  3.57\n",
      "1 ,  CLASS  VIF =  3.22\n",
      "2 ,  S000300  VIF =  1.63\n",
      "3 ,  L190400  VIF =  16.32\n",
      "4 ,  L190500  VIF =  21.19\n",
      "5 ,  L190300  VIF =  5.12\n",
      "6 ,  L100700  VIF =  2.07\n",
      "7 ,  L103000  VIF =  1.86\n",
      "8 ,  L103300  VIF =  2.53\n",
      "9 ,  L100800  VIF =  1.28\n",
      "10 ,  S000600  VIF =  1.1\n",
      "11 ,  L101700  VIF =  1.58\n",
      "12 ,  L100500  VIF =  2.24\n",
      "13 ,  L101300  VIF =  1.47\n",
      "14 ,  S000100  VIF =  2.65\n",
      "15 ,  L102900  VIF =  1.57\n",
      "16 ,  S010102  VIF =  2.73\n",
      "17 ,  S010101  VIF =  2.73\n",
      "18 ,  AGE  VIF =  1.44\n",
      "19 ,  SEX  VIF =  5.44\n",
      "20 ,  FIELD_38_C  VIF =  4.15\n",
      "21 ,  FIELD_33  VIF =  1.63\n",
      "22 ,  FIELD_38  VIF =  4.22\n",
      "23 ,  FIELD_29  VIF =  1.05\n",
      "24 ,  FIELD_27  VIF =  1.05\n",
      "25 ,  FIELD_40  VIF =  1.52\n",
      "26 ,  FIELD_41  VIF =  1.49\n",
      "27 ,  FIELD_28  VIF =  1.03\n",
      "['S000501', 'CLASS', 'S000300', 'L100700', 'L103000', 'L103300', 'L100800', 'S000600', 'L101700', 'L100500', 'L101300', 'S000100', 'L102900', 'S010102', 'S010101', 'AGE', 'FIELD_38_C', 'FIELD_33', 'FIELD_38', 'FIELD_29', 'FIELD_27', 'FIELD_40', 'FIELD_41', 'FIELD_28'] 24\n"
     ]
    },
    {
     "data": {
      "application/javascript": [
       "\n",
       "            setTimeout(function() {\n",
       "                var nbb_cell_id = 44;\n",
       "                var nbb_formatted_code = \"newcols = vifcal(data2, \\\"S000502\\\")\\nprint(newcols, len(newcols))\";\n",
       "                var nbb_cells = Jupyter.notebook.get_cells();\n",
       "                for (var i = 0; i < nbb_cells.length; ++i) {\n",
       "                    if (nbb_cells[i].input_prompt_number == nbb_cell_id) {\n",
       "                        nbb_cells[i].set_text(nbb_formatted_code);\n",
       "                        break;\n",
       "                    }\n",
       "                }\n",
       "            }, 500);\n",
       "            "
      ],
      "text/plain": [
       "<IPython.core.display.Javascript object>"
      ]
     },
     "metadata": {},
     "output_type": "display_data"
    }
   ],
   "source": [
    "newcols = vifcal(data2, \"S000502\")\n",
    "print(newcols, len(newcols))"
   ]
  },
  {
   "cell_type": "code",
   "execution_count": null,
   "metadata": {},
   "outputs": [],
   "source": []
  }
 ],
 "metadata": {
  "kernelspec": {
   "display_name": "Python 3",
   "language": "python",
   "name": "python3"
  },
  "language_info": {
   "codemirror_mode": {
    "name": "ipython",
    "version": 3
   },
   "file_extension": ".py",
   "mimetype": "text/x-python",
   "name": "python",
   "nbconvert_exporter": "python",
   "pygments_lexer": "ipython3",
   "version": "3.7.3"
  }
 },
 "nbformat": 4,
 "nbformat_minor": 2
}

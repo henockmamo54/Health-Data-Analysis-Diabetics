{
 "cells": [
  {
   "cell_type": "code",
   "execution_count": 17,
   "metadata": {},
   "outputs": [],
   "source": [
    "from matplotlib import pyplot as plt\n",
    "import pandas as pd \n",
    "import numpy as np\n",
    "import warnings\n",
    "warnings.filterwarnings('ignore') "
   ]
  },
  {
   "cell_type": "markdown",
   "metadata": {},
   "source": [
    "Read the data\n",
    "==========="
   ]
  },
  {
   "cell_type": "code",
   "execution_count": 2,
   "metadata": {},
   "outputs": [
    {
     "name": "stdout",
     "output_type": "stream",
     "text": [
      "(159381, 15)\n",
      "(159381, 2)\n"
     ]
    }
   ],
   "source": [
    "x_original=pd.read_csv('../_xlable4_withNa_AllColumns.txt')\n",
    "y_original=pd.read_csv('../_targelable4_withNa_AllColumns.txt')                       \n",
    "    \n",
    "x_original=x_original[['Unnamed: 0','L100800', 'L104600', 'S000300', 'SEX', 'S000501', 'L101700',\n",
    "       'L190400', 'S000502', 'L190500', 'L101300', 'AGE', 'FIELD_38',\n",
    "       'FIELD_31', 'FIELD_41'\n",
    "                      ]]\n",
    "\n",
    "y_original=y_original[['Unnamed: 0','L100800' ]]\n",
    "        \n",
    "    \n",
    "                       \n",
    "print(x_original.shape)\n",
    "print(y_original.shape)\n"
   ]
  },
  {
   "cell_type": "code",
   "execution_count": 3,
   "metadata": {},
   "outputs": [],
   "source": [
    "# for index,col in enumerate(x_original.columns):\n",
    "#     print(col,x_original[col].dropna().shape[0])"
   ]
  },
  {
   "cell_type": "markdown",
   "metadata": {},
   "source": [
    "Prepare the data\n",
    "============"
   ]
  },
  {
   "cell_type": "code",
   "execution_count": 4,
   "metadata": {},
   "outputs": [
    {
     "name": "stdout",
     "output_type": "stream",
     "text": [
      "(56184, 17)\n"
     ]
    }
   ],
   "source": [
    "data= pd.merge(x_original,y_original, how='inner',left_on='Unnamed: 0', right_on='Unnamed: 0')\n",
    "data=data.dropna(). reset_index()\n",
    "\n",
    "# data=data[data.FIELD_15==0]\n",
    "# data=data[data.FIELD_22==0]\n",
    "# data=data[data.SEX==0]\n",
    "# data=data[data.AGE < 40]\n",
    "\n",
    "print(data.shape)"
   ]
  },
  {
   "cell_type": "code",
   "execution_count": 5,
   "metadata": {},
   "outputs": [
    {
     "name": "stdout",
     "output_type": "stream",
     "text": [
      "(56184, 17)\n",
      "Index(['index', 'Unnamed: 0', 'L100800_x', 'L104600', 'S000300', 'SEX',\n",
      "       'S000501', 'L101700', 'L190400', 'S000502', 'L190500', 'L101300', 'AGE',\n",
      "       'FIELD_38', 'FIELD_31', 'FIELD_41', 'L100800_y'],\n",
      "      dtype='object')\n"
     ]
    },
    {
     "data": {
      "text/html": [
       "<div>\n",
       "<style scoped>\n",
       "    .dataframe tbody tr th:only-of-type {\n",
       "        vertical-align: middle;\n",
       "    }\n",
       "\n",
       "    .dataframe tbody tr th {\n",
       "        vertical-align: top;\n",
       "    }\n",
       "\n",
       "    .dataframe thead th {\n",
       "        text-align: right;\n",
       "    }\n",
       "</style>\n",
       "<table border=\"1\" class=\"dataframe\">\n",
       "  <thead>\n",
       "    <tr style=\"text-align: right;\">\n",
       "      <th></th>\n",
       "      <th>index</th>\n",
       "      <th>Unnamed: 0</th>\n",
       "      <th>L100800_x</th>\n",
       "      <th>L104600</th>\n",
       "      <th>S000300</th>\n",
       "      <th>SEX</th>\n",
       "      <th>S000501</th>\n",
       "      <th>L101700</th>\n",
       "      <th>L190400</th>\n",
       "      <th>S000502</th>\n",
       "      <th>L190500</th>\n",
       "      <th>L101300</th>\n",
       "      <th>AGE</th>\n",
       "      <th>FIELD_38</th>\n",
       "      <th>FIELD_31</th>\n",
       "      <th>FIELD_41</th>\n",
       "      <th>L100800_y</th>\n",
       "    </tr>\n",
       "  </thead>\n",
       "  <tbody>\n",
       "    <tr>\n",
       "      <th>0</th>\n",
       "      <td>2</td>\n",
       "      <td>2</td>\n",
       "      <td>78.0</td>\n",
       "      <td>5.28</td>\n",
       "      <td>20.2</td>\n",
       "      <td>1.0</td>\n",
       "      <td>135.0</td>\n",
       "      <td>15.0</td>\n",
       "      <td>12.9</td>\n",
       "      <td>82.0</td>\n",
       "      <td>38.4</td>\n",
       "      <td>10.0</td>\n",
       "      <td>46.0</td>\n",
       "      <td>2.0</td>\n",
       "      <td>0.0</td>\n",
       "      <td>2.0</td>\n",
       "      <td>86.0</td>\n",
       "    </tr>\n",
       "    <tr>\n",
       "      <th>1</th>\n",
       "      <td>4</td>\n",
       "      <td>4</td>\n",
       "      <td>90.0</td>\n",
       "      <td>5.74</td>\n",
       "      <td>25.5</td>\n",
       "      <td>1.0</td>\n",
       "      <td>111.0</td>\n",
       "      <td>12.0</td>\n",
       "      <td>12.6</td>\n",
       "      <td>65.0</td>\n",
       "      <td>38.6</td>\n",
       "      <td>12.0</td>\n",
       "      <td>52.0</td>\n",
       "      <td>0.0</td>\n",
       "      <td>0.0</td>\n",
       "      <td>3.0</td>\n",
       "      <td>88.0</td>\n",
       "    </tr>\n",
       "    <tr>\n",
       "      <th>2</th>\n",
       "      <td>7</td>\n",
       "      <td>7</td>\n",
       "      <td>86.0</td>\n",
       "      <td>5.83</td>\n",
       "      <td>21.2</td>\n",
       "      <td>1.0</td>\n",
       "      <td>136.0</td>\n",
       "      <td>17.0</td>\n",
       "      <td>13.4</td>\n",
       "      <td>61.0</td>\n",
       "      <td>40.0</td>\n",
       "      <td>5.0</td>\n",
       "      <td>37.0</td>\n",
       "      <td>0.0</td>\n",
       "      <td>1.0</td>\n",
       "      <td>2.0</td>\n",
       "      <td>91.0</td>\n",
       "    </tr>\n",
       "    <tr>\n",
       "      <th>3</th>\n",
       "      <td>8</td>\n",
       "      <td>8</td>\n",
       "      <td>86.0</td>\n",
       "      <td>4.73</td>\n",
       "      <td>22.0</td>\n",
       "      <td>1.0</td>\n",
       "      <td>130.0</td>\n",
       "      <td>30.0</td>\n",
       "      <td>13.6</td>\n",
       "      <td>77.0</td>\n",
       "      <td>41.1</td>\n",
       "      <td>15.0</td>\n",
       "      <td>39.0</td>\n",
       "      <td>2.0</td>\n",
       "      <td>0.0</td>\n",
       "      <td>1.0</td>\n",
       "      <td>79.0</td>\n",
       "    </tr>\n",
       "    <tr>\n",
       "      <th>4</th>\n",
       "      <td>30</td>\n",
       "      <td>30</td>\n",
       "      <td>99.0</td>\n",
       "      <td>5.10</td>\n",
       "      <td>20.1</td>\n",
       "      <td>1.0</td>\n",
       "      <td>105.0</td>\n",
       "      <td>11.0</td>\n",
       "      <td>13.0</td>\n",
       "      <td>60.0</td>\n",
       "      <td>40.8</td>\n",
       "      <td>9.0</td>\n",
       "      <td>19.0</td>\n",
       "      <td>1.0</td>\n",
       "      <td>0.0</td>\n",
       "      <td>0.0</td>\n",
       "      <td>93.0</td>\n",
       "    </tr>\n",
       "  </tbody>\n",
       "</table>\n",
       "</div>"
      ],
      "text/plain": [
       "   index  Unnamed: 0  L100800_x  L104600  S000300  SEX  S000501  L101700  \\\n",
       "0      2           2       78.0     5.28     20.2  1.0    135.0     15.0   \n",
       "1      4           4       90.0     5.74     25.5  1.0    111.0     12.0   \n",
       "2      7           7       86.0     5.83     21.2  1.0    136.0     17.0   \n",
       "3      8           8       86.0     4.73     22.0  1.0    130.0     30.0   \n",
       "4     30          30       99.0     5.10     20.1  1.0    105.0     11.0   \n",
       "\n",
       "   L190400  S000502  L190500  L101300   AGE  FIELD_38  FIELD_31  FIELD_41  \\\n",
       "0     12.9     82.0     38.4     10.0  46.0       2.0       0.0       2.0   \n",
       "1     12.6     65.0     38.6     12.0  52.0       0.0       0.0       3.0   \n",
       "2     13.4     61.0     40.0      5.0  37.0       0.0       1.0       2.0   \n",
       "3     13.6     77.0     41.1     15.0  39.0       2.0       0.0       1.0   \n",
       "4     13.0     60.0     40.8      9.0  19.0       1.0       0.0       0.0   \n",
       "\n",
       "   L100800_y  \n",
       "0       86.0  \n",
       "1       88.0  \n",
       "2       91.0  \n",
       "3       79.0  \n",
       "4       93.0  "
      ]
     },
     "execution_count": 5,
     "metadata": {},
     "output_type": "execute_result"
    }
   ],
   "source": [
    "print(data.shape)\n",
    "print(data.columns)\n",
    "data.head()"
   ]
  },
  {
   "cell_type": "code",
   "execution_count": 6,
   "metadata": {},
   "outputs": [],
   "source": [
    "x=data[['L100800_x', 'L104600', 'S000300', 'SEX', 'S000501', 'L101700',\n",
    "       'L190400', 'S000502', 'L190500', 'L101300', 'AGE', 'FIELD_38',\n",
    "       'FIELD_31', 'FIELD_41']]\n",
    "\n",
    "y=data[['L100800_y']]\n"
   ]
  },
  {
   "cell_type": "code",
   "execution_count": 122,
   "metadata": {},
   "outputs": [],
   "source": [
    "#histogram plot of the features\n",
    "# import matplotlib.pyplot as plt\n",
    "# x[x.dtypes[(x.dtypes==\"float64\")|(x.dtypes==\"int64\")]\n",
    "#                         .index.values].hist(figsize=[11,11])"
   ]
  },
  {
   "cell_type": "markdown",
   "metadata": {},
   "source": [
    "Apply PCA\n",
    "==========="
   ]
  },
  {
   "cell_type": "code",
   "execution_count": 123,
   "metadata": {},
   "outputs": [],
   "source": [
    "# from sklearn.decomposition import PCA\n",
    "# pca = PCA(n_components=8)\n",
    "# pca.fit(x)\n",
    "\n",
    "# print(pca.explained_variance_ratio_)   \n",
    "# print(np.sum(pca.explained_variance_ratio_))\n",
    "\n",
    "# x=pca.fit_transform(x) \n",
    "# print(x.shape)\n"
   ]
  },
  {
   "cell_type": "markdown",
   "metadata": {},
   "source": [
    "feature scaling\n",
    "======="
   ]
  },
  {
   "cell_type": "code",
   "execution_count": 124,
   "metadata": {},
   "outputs": [],
   "source": [
    "# from sklearn import preprocessing\n",
    "# min_max_scaler = preprocessing.MinMaxScaler()  #StandardScaler()\n",
    "# x = min_max_scaler.fit_transform(x)"
   ]
  },
  {
   "cell_type": "markdown",
   "metadata": {},
   "source": [
    "clustring test\n",
    "=========="
   ]
  },
  {
   "cell_type": "code",
   "execution_count": 125,
   "metadata": {},
   "outputs": [],
   "source": [
    "# from sklearn.cluster import KMeans\n",
    "# from scipy.spatial.distance import cdist\n",
    "\n",
    "# K = range(1,10)\n",
    "# distortions = []\n",
    "\n",
    "# for k in K:\n",
    "#     kmeanModel = KMeans(n_clusters=k).fit(x)\n",
    "#     kmeanModel.fit(x)\n",
    "#     distortions.append(sum(np.min(cdist(x, kmeanModel.cluster_centers_, 'euclidean'), axis=1)) / x.shape[0])\n",
    "\n",
    "# # Plot the elbow\n",
    "# plt.plot(K, distortions, 'bx-')\n",
    "# plt.xlabel('k')\n",
    "# plt.ylabel('Distortion')\n",
    "# plt.title('The Elbow Method showing the optimal k')\n",
    "# plt.show()\n"
   ]
  },
  {
   "cell_type": "code",
   "execution_count": 126,
   "metadata": {},
   "outputs": [],
   "source": [
    "# kmeanModel = KMeans(n_clusters=k).fit(x)\n",
    "# x['lbl']=kmeanModel.labels_ "
   ]
  },
  {
   "cell_type": "markdown",
   "metadata": {},
   "source": [
    "Random Forest Regressor\n",
    "============="
   ]
  },
  {
   "cell_type": "code",
   "execution_count": 7,
   "metadata": {},
   "outputs": [],
   "source": [
    "ylable=y[['L100800_y']]  \n",
    "xtrain,xtest,ytrain,ytest=train_test_split(x, ylable, random_state=42, test_size=0.2)"
   ]
  },
  {
   "cell_type": "code",
   "execution_count": 8,
   "metadata": {},
   "outputs": [
    {
     "name": "stdout",
     "output_type": "stream",
     "text": [
      "[7.04926839e-01 1.85337054e-01 1.56045093e-02 1.85383746e-02\n",
      " 6.57544351e-03 1.47183356e-02 5.26307089e-03 8.23723670e-03\n",
      " 5.22599248e-03 1.19481634e-02 1.39020430e-02 4.72062718e-03\n",
      " 3.23248155e-04 4.67906263e-03]\n"
     ]
    }
   ],
   "source": [
    "regr = RandomForestRegressor(max_depth=7, random_state=0,verbose =0,n_estimators=500)\n",
    "regr.fit(xtrain, ytrain) \n",
    "print(regr.feature_importances_)\n",
    "ypred=regr.predict(xtest)\n"
   ]
  },
  {
   "cell_type": "code",
   "execution_count": 11,
   "metadata": {},
   "outputs": [
    {
     "name": "stdout",
     "output_type": "stream",
     "text": [
      "mean_squared_error 76.49445587114793\n",
      "root mean_squared_error 8.746110899774136\n",
      "mean_absolute_error 6.0976464671009545\n",
      "r2_score 0.48927231685995287\n"
     ]
    },
    {
     "data": {
      "image/png": "[encoded data removed]",
      "text/plain": [
       "<Figure size 432x288 with 1 Axes>"
      ]
     },
     "metadata": {
      "needs_background": "light"
     },
     "output_type": "display_data"
    },
    {
     "data": {
      "text/html": [
       "<div>\n",
       "<style scoped>\n",
       "    .dataframe tbody tr th:only-of-type {\n",
       "        vertical-align: middle;\n",
       "    }\n",
       "\n",
       "    .dataframe tbody tr th {\n",
       "        vertical-align: top;\n",
       "    }\n",
       "\n",
       "    .dataframe thead th {\n",
       "        text-align: right;\n",
       "    }\n",
       "</style>\n",
       "<table border=\"1\" class=\"dataframe\">\n",
       "  <thead>\n",
       "    <tr style=\"text-align: right;\">\n",
       "      <th></th>\n",
       "      <th>t + 1</th>\n",
       "      <th>pred (t +1)</th>\n",
       "    </tr>\n",
       "  </thead>\n",
       "  <tbody>\n",
       "    <tr>\n",
       "      <th>526</th>\n",
       "      <td>215.0</td>\n",
       "      <td>161.490856</td>\n",
       "    </tr>\n",
       "    <tr>\n",
       "      <th>6040</th>\n",
       "      <td>218.0</td>\n",
       "      <td>139.668258</td>\n",
       "    </tr>\n",
       "    <tr>\n",
       "      <th>3469</th>\n",
       "      <td>233.0</td>\n",
       "      <td>98.161349</td>\n",
       "    </tr>\n",
       "    <tr>\n",
       "      <th>396</th>\n",
       "      <td>234.0</td>\n",
       "      <td>220.939491</td>\n",
       "    </tr>\n",
       "    <tr>\n",
       "      <th>4213</th>\n",
       "      <td>241.0</td>\n",
       "      <td>201.875509</td>\n",
       "    </tr>\n",
       "    <tr>\n",
       "      <th>3455</th>\n",
       "      <td>254.0</td>\n",
       "      <td>200.679301</td>\n",
       "    </tr>\n",
       "    <tr>\n",
       "      <th>9406</th>\n",
       "      <td>259.0</td>\n",
       "      <td>131.750024</td>\n",
       "    </tr>\n",
       "    <tr>\n",
       "      <th>9185</th>\n",
       "      <td>267.0</td>\n",
       "      <td>242.535589</td>\n",
       "    </tr>\n",
       "    <tr>\n",
       "      <th>2305</th>\n",
       "      <td>275.0</td>\n",
       "      <td>228.149649</td>\n",
       "    </tr>\n",
       "    <tr>\n",
       "      <th>1900</th>\n",
       "      <td>374.0</td>\n",
       "      <td>143.829580</td>\n",
       "    </tr>\n",
       "  </tbody>\n",
       "</table>\n",
       "</div>"
      ],
      "text/plain": [
       "      t + 1  pred (t +1)\n",
       "526   215.0   161.490856\n",
       "6040  218.0   139.668258\n",
       "3469  233.0    98.161349\n",
       "396   234.0   220.939491\n",
       "4213  241.0   201.875509\n",
       "3455  254.0   200.679301\n",
       "9406  259.0   131.750024\n",
       "9185  267.0   242.535589\n",
       "2305  275.0   228.149649\n",
       "1900  374.0   143.829580"
      ]
     },
     "execution_count": 11,
     "metadata": {},
     "output_type": "execute_result"
    },
    {
     "data": {
      "image/png": "[encoded data removed]",
      "text/plain": [
       "<Figure size 432x288 with 1 Axes>"
      ]
     },
     "metadata": {
      "needs_background": "light"
     },
     "output_type": "display_data"
    }
   ],
   "source": [
    "import math\n",
    "print('mean_squared_error',m.mean_squared_error(ytest, ypred))\n",
    "print('root mean_squared_error',math.sqrt(m.mean_squared_error(ytest, ypred)))\n",
    "print('mean_absolute_error',m.mean_absolute_error(ytest, ypred))\n",
    "print('r2_score',m.r2_score(ytest, ypred))\n",
    "\n",
    "ypredPD=pd.DataFrame()\n",
    "# ypredPD['t']=xtest['S000501_x'].values\n",
    "ypredPD['t + 1']=ytest.values.ravel()\n",
    "ypredPD['pred (t +1)']=ypred\n",
    "ypredPD.head(30)\n",
    "\n",
    "import matplotlib.patches as mpatches\n",
    "plt.ylabel('Values')\n",
    "plt.xlabel('index')\n",
    "red_patch = mpatches.Patch(color='red', label='Actual data')\n",
    "blue_patch = mpatches.Patch(color='blue', label='Predicted data')\n",
    "plt.legend(handles=[red_patch,blue_patch])\n",
    "\n",
    "ypredPD=ypredPD.sort_values(by=['t + 1'])\n",
    "plt.scatter(np.arange(0,ypredPD.shape[0],1),ypredPD['pred (t +1)'][:ypredPD.shape[0]])\n",
    "plt.plot(np.arange(0,ypredPD.shape[0],1),ypredPD['t + 1'][:ypredPD.shape[0]],color='red')\n",
    "plt.show()\n",
    "\n",
    "plt.ylabel('p*(t+1), Predicted data')\n",
    "plt.xlabel('p(t+1), Actual data')\n",
    "plt.scatter(ypredPD['t + 1'][:ypredPD.shape[0]],ypredPD['pred (t +1)'][:ypredPD.shape[0]])\n",
    "\n",
    "ypredPD.tail(10)"
   ]
  },
  {
   "cell_type": "markdown",
   "metadata": {},
   "source": [
    "xg boost\n",
    "=========="
   ]
  },
  {
   "cell_type": "code",
   "execution_count": 12,
   "metadata": {},
   "outputs": [
    {
     "name": "stdout",
     "output_type": "stream",
     "text": [
      "[22:07:08] WARNING: C:/Jenkins/workspace/xgboost-win64_release_0.90/src/objective/regression_obj.cu:152: reg:linear is now deprecated in favor of reg:squarederror.\n"
     ]
    },
    {
     "data": {
      "text/plain": [
       "XGBRegressor(base_score=0.5, booster='gbtree', colsample_bylevel=1,\n",
       "             colsample_bynode=1, colsample_bytree=1, gamma=0,\n",
       "             importance_type='gain', learning_rate=0.1, max_delta_step=0,\n",
       "             max_depth=3, min_child_weight=1, missing=None, n_estimators=100,\n",
       "             n_jobs=1, nthread=None, objective='reg:linear', random_state=0,\n",
       "             reg_alpha=0, reg_lambda=1, scale_pos_weight=1, seed=None,\n",
       "             silent=None, subsample=1, verbosity=1)"
      ]
     },
     "execution_count": 12,
     "metadata": {},
     "output_type": "execute_result"
    }
   ],
   "source": [
    "import xgboost as xgb\n",
    "xg_reg = xgb.XGBRegressor()\n",
    "# xg_reg = xgb.XGBRegressor(objective ='reg:linear', colsample_bytree = 0.3, \n",
    "#                           learning_rate = 0.1,max_depth = 5, alpha = 10, n_estimators = 10)\n",
    "xg_reg.fit(xtrain, ytrain) "
   ]
  },
  {
   "cell_type": "code",
   "execution_count": 14,
   "metadata": {},
   "outputs": [
    {
     "name": "stdout",
     "output_type": "stream",
     "text": [
      "mean_squared_error 75.02601488275931\n",
      "root mean_squared_error 8.661755877578132\n",
      "mean_absolute_error 6.068460947043363\n",
      "r2_score 0.49907660208934135\n"
     ]
    }
   ],
   "source": [
    "\n",
    "ypred = xg_reg.predict(xtest)\n",
    "\n",
    "print('mean_squared_error',m.mean_squared_error(ytest, ypred))\n",
    "print('root mean_squared_error',math.sqrt(m.mean_squared_error(ytest, ypred)))\n",
    "print('mean_absolute_error',m.mean_absolute_error(ytest, ypred))\n",
    "print('r2_score',m.r2_score(ytest, ypred))\n",
    "\n",
    "# ypredPD=pd.DataFrame()\n",
    "# ypredPD['t']=xtest['S000501_x'].values\n",
    "# ypredPD['t + 1']=ytest.values\n",
    "# ypredPD['pred (t +1)']=ypred\n",
    "# ypredPD.head(10)"
   ]
  },
  {
   "cell_type": "markdown",
   "metadata": {},
   "source": [
    "ANN\n",
    "=========="
   ]
  },
  {
   "cell_type": "code",
   "execution_count": 18,
   "metadata": {},
   "outputs": [
    {
     "name": "stderr",
     "output_type": "stream",
     "text": [
      "Using TensorFlow backend.\n"
     ]
    }
   ],
   "source": [
    "from keras.layers import Dropout\n",
    "from keras.layers import BatchNormalization\n",
    "from keras.models import model_from_json\n",
    "from keras.utils import multi_gpu_model \n",
    "from keras.utils import to_categorical\n",
    "from keras.models import Sequential\n",
    "from keras.layers import Dense\n",
    "from keras.wrappers.scikit_learn import KerasRegressor"
   ]
  },
  {
   "cell_type": "code",
   "execution_count": 19,
   "metadata": {},
   "outputs": [
    {
     "name": "stderr",
     "output_type": "stream",
     "text": [
      "WARNING: Logging before flag parsing goes to stderr.\n",
      "W1009 22:08:54.668978 21356 deprecation_wrapper.py:119] From C:\\ProgramData\\Anaconda3\\lib\\site-packages\\keras\\backend\\tensorflow_backend.py:74: The name tf.get_default_graph is deprecated. Please use tf.compat.v1.get_default_graph instead.\n",
      "\n",
      "W1009 22:08:54.701870 21356 deprecation_wrapper.py:119] From C:\\ProgramData\\Anaconda3\\lib\\site-packages\\keras\\backend\\tensorflow_backend.py:517: The name tf.placeholder is deprecated. Please use tf.compat.v1.placeholder instead.\n",
      "\n",
      "W1009 22:08:54.710855 21356 deprecation_wrapper.py:119] From C:\\ProgramData\\Anaconda3\\lib\\site-packages\\keras\\backend\\tensorflow_backend.py:4138: The name tf.random_uniform is deprecated. Please use tf.random.uniform instead.\n",
      "\n",
      "W1009 22:08:54.802794 21356 deprecation_wrapper.py:119] From C:\\ProgramData\\Anaconda3\\lib\\site-packages\\keras\\backend\\tensorflow_backend.py:133: The name tf.placeholder_with_default is deprecated. Please use tf.compat.v1.placeholder_with_default instead.\n",
      "\n",
      "W1009 22:08:54.817757 21356 deprecation.py:506] From C:\\ProgramData\\Anaconda3\\lib\\site-packages\\keras\\backend\\tensorflow_backend.py:3445: calling dropout (from tensorflow.python.ops.nn_ops) with keep_prob is deprecated and will be removed in a future version.\n",
      "Instructions for updating:\n",
      "Please use `rate` instead of `keep_prob`. Rate should be set to `rate = 1 - keep_prob`.\n",
      "W1009 22:08:55.082048 21356 deprecation_wrapper.py:119] From C:\\ProgramData\\Anaconda3\\lib\\site-packages\\keras\\optimizers.py:790: The name tf.train.Optimizer is deprecated. Please use tf.compat.v1.train.Optimizer instead.\n",
      "\n"
     ]
    }
   ],
   "source": [
    "model= Sequential()\n",
    "model.add(Dense(input_dim=14,units=128,activation='relu', kernel_initializer='uniform'))\n",
    "model.add(Dense(units=128, activation='relu', kernel_initializer='uniform')) \n",
    "model.add(BatchNormalization())\n",
    "model.add(Dropout(0.25))  \n",
    "model.add(Dense(units=64, activation='relu', kernel_initializer='uniform'))\n",
    "model.add(Dense(units=32, activation='relu', kernel_initializer='uniform')) \n",
    "model.add(BatchNormalization())\n",
    "model.add(Dropout(0.25))  \n",
    "model.add(Dense(units=16, activation='relu', kernel_initializer='uniform'))\n",
    "model.add(BatchNormalization())\n",
    "model.add(Dropout(0.25))  \n",
    "model.add(Dense(units=8, activation='relu', kernel_initializer='uniform'))\n",
    "model.add(Dense(units=1, kernel_initializer='uniform'))\n",
    "model.compile(loss='mean_squared_error', optimizer='Nadam', metrics=['mean_squared_error' ])"
   ]
  },
  {
   "cell_type": "code",
   "execution_count": 20,
   "metadata": {
    "scrolled": true
   },
   "outputs": [
    {
     "name": "stderr",
     "output_type": "stream",
     "text": [
      "W1009 22:08:57.554039 21356 deprecation_wrapper.py:119] From C:\\ProgramData\\Anaconda3\\lib\\site-packages\\keras\\backend\\tensorflow_backend.py:986: The name tf.assign_add is deprecated. Please use tf.compat.v1.assign_add instead.\n",
      "\n"
     ]
    },
    {
     "name": "stdout",
     "output_type": "stream",
     "text": [
      "Train on 35957 samples, validate on 8990 samples\n",
      "Epoch 1/100\n",
      "35957/35957 [==============================] - 2s 55us/step - loss: 2515.8729 - mean_squared_error: 2515.8729 - val_loss: 2351.0306 - val_mean_squared_error: 2351.0306\n",
      "Epoch 2/100\n",
      "35957/35957 [==============================] - 1s 31us/step - loss: 476.7833 - mean_squared_error: 476.7833 - val_loss: 192.5097 - val_mean_squared_error: 192.5097\n",
      "Epoch 3/100\n",
      "35957/35957 [==============================] - 1s 31us/step - loss: 443.6573 - mean_squared_error: 443.6573 - val_loss: 392.7529 - val_mean_squared_error: 392.7529\n",
      "Epoch 4/100\n",
      "35957/35957 [==============================] - 1s 31us/step - loss: 383.2081 - mean_squared_error: 383.2081 - val_loss: 154.4987 - val_mean_squared_error: 154.4987\n",
      "Epoch 5/100\n",
      "35957/35957 [==============================] - 1s 31us/step - loss: 277.9944 - mean_squared_error: 277.9944 - val_loss: 6888.9281 - val_mean_squared_error: 6888.9281\n",
      "Epoch 6/100\n",
      "35957/35957 [==============================] - 1s 31us/step - loss: 239.2986 - mean_squared_error: 239.2986 - val_loss: 3225.5470 - val_mean_squared_error: 3225.5470\n",
      "Epoch 7/100\n",
      "35957/35957 [==============================] - 1s 31us/step - loss: 190.2596 - mean_squared_error: 190.2596 - val_loss: 93.7573 - val_mean_squared_error: 93.7573\n",
      "Epoch 8/100\n",
      "35957/35957 [==============================] - 1s 31us/step - loss: 156.6568 - mean_squared_error: 156.6568 - val_loss: 100.7232 - val_mean_squared_error: 100.7232\n",
      "Epoch 9/100\n",
      "35957/35957 [==============================] - 1s 31us/step - loss: 134.2842 - mean_squared_error: 134.2842 - val_loss: 110.1455 - val_mean_squared_error: 110.1455\n",
      "Epoch 10/100\n",
      "35957/35957 [==============================] - 1s 30us/step - loss: 118.4979 - mean_squared_error: 118.4979 - val_loss: 1016.6727 - val_mean_squared_error: 1016.6727\n",
      "Epoch 11/100\n",
      "35957/35957 [==============================] - 1s 31us/step - loss: 110.7412 - mean_squared_error: 110.7412 - val_loss: 109.7551 - val_mean_squared_error: 109.7551\n",
      "Epoch 12/100\n",
      "35957/35957 [==============================] - 1s 30us/step - loss: 106.1204 - mean_squared_error: 106.1204 - val_loss: 138.3415 - val_mean_squared_error: 138.3415\n",
      "Epoch 13/100\n",
      "35957/35957 [==============================] - 1s 30us/step - loss: 103.7142 - mean_squared_error: 103.7142 - val_loss: 90.0758 - val_mean_squared_error: 90.0758\n",
      "Epoch 14/100\n",
      "35957/35957 [==============================] - 1s 30us/step - loss: 99.1568 - mean_squared_error: 99.1568 - val_loss: 122.2710 - val_mean_squared_error: 122.2710\n",
      "Epoch 15/100\n",
      "35957/35957 [==============================] - 1s 30us/step - loss: 97.1931 - mean_squared_error: 97.1931 - val_loss: 89.8877 - val_mean_squared_error: 89.8877\n",
      "Epoch 16/100\n",
      "35957/35957 [==============================] - 1s 30us/step - loss: 96.6967 - mean_squared_error: 96.6967 - val_loss: 104.0554 - val_mean_squared_error: 104.0554\n",
      "Epoch 17/100\n",
      "35957/35957 [==============================] - 1s 30us/step - loss: 94.3160 - mean_squared_error: 94.3160 - val_loss: 89.4713 - val_mean_squared_error: 89.4713\n",
      "Epoch 18/100\n",
      "35957/35957 [==============================] - 1s 31us/step - loss: 94.4459 - mean_squared_error: 94.4459 - val_loss: 166.5474 - val_mean_squared_error: 166.5474\n",
      "Epoch 19/100\n",
      "35957/35957 [==============================] - 1s 30us/step - loss: 92.2684 - mean_squared_error: 92.2684 - val_loss: 262.4203 - val_mean_squared_error: 262.4203\n",
      "Epoch 20/100\n",
      "35957/35957 [==============================] - 1s 31us/step - loss: 94.0142 - mean_squared_error: 94.0142 - val_loss: 82.0272 - val_mean_squared_error: 82.0272\n",
      "Epoch 21/100\n",
      "35957/35957 [==============================] - 1s 30us/step - loss: 92.5519 - mean_squared_error: 92.5519 - val_loss: 95.1515 - val_mean_squared_error: 95.1515\n",
      "Epoch 22/100\n",
      "35957/35957 [==============================] - 1s 30us/step - loss: 91.0038 - mean_squared_error: 91.0038 - val_loss: 907.9317 - val_mean_squared_error: 907.9317\n",
      "Epoch 23/100\n",
      "35957/35957 [==============================] - 1s 31us/step - loss: 93.3496 - mean_squared_error: 93.3496 - val_loss: 101.9568 - val_mean_squared_error: 101.9568\n",
      "Epoch 24/100\n",
      "35957/35957 [==============================] - 1s 30us/step - loss: 90.0701 - mean_squared_error: 90.0701 - val_loss: 100.0045 - val_mean_squared_error: 100.0045\n",
      "Epoch 25/100\n",
      "35957/35957 [==============================] - 1s 31us/step - loss: 90.2588 - mean_squared_error: 90.2588 - val_loss: 81.8296 - val_mean_squared_error: 81.8296\n",
      "Epoch 26/100\n",
      "35957/35957 [==============================] - 1s 30us/step - loss: 86.9176 - mean_squared_error: 86.9176 - val_loss: 104.4494 - val_mean_squared_error: 104.4494\n",
      "Epoch 27/100\n",
      "35957/35957 [==============================] - 1s 31us/step - loss: 86.0156 - mean_squared_error: 86.0156 - val_loss: 91.7690 - val_mean_squared_error: 91.7690\n",
      "Epoch 28/100\n",
      "35957/35957 [==============================] - 1s 30us/step - loss: 87.5957 - mean_squared_error: 87.5957 - val_loss: 83.9735 - val_mean_squared_error: 83.9735\n",
      "Epoch 29/100\n",
      "35957/35957 [==============================] - 1s 30us/step - loss: 85.9966 - mean_squared_error: 85.9966 - val_loss: 95.7972 - val_mean_squared_error: 95.7972\n",
      "Epoch 30/100\n",
      "35957/35957 [==============================] - 1s 31us/step - loss: 85.4537 - mean_squared_error: 85.4537 - val_loss: 166.3248 - val_mean_squared_error: 166.3248\n",
      "Epoch 31/100\n",
      "35957/35957 [==============================] - 1s 30us/step - loss: 85.3063 - mean_squared_error: 85.3063 - val_loss: 103.7904 - val_mean_squared_error: 103.7904\n",
      "Epoch 32/100\n",
      "35957/35957 [==============================] - 1s 31us/step - loss: 83.9856 - mean_squared_error: 83.9856 - val_loss: 89.8900 - val_mean_squared_error: 89.8900\n",
      "Epoch 33/100\n",
      "35957/35957 [==============================] - 1s 30us/step - loss: 85.0510 - mean_squared_error: 85.0510 - val_loss: 82.9141 - val_mean_squared_error: 82.9141\n",
      "Epoch 34/100\n",
      "35957/35957 [==============================] - 1s 31us/step - loss: 86.6294 - mean_squared_error: 86.6294 - val_loss: 82.8204 - val_mean_squared_error: 82.8204\n",
      "Epoch 35/100\n",
      "35957/35957 [==============================] - 1s 31us/step - loss: 84.9515 - mean_squared_error: 84.9515 - val_loss: 87.9854 - val_mean_squared_error: 87.9854\n",
      "Epoch 36/100\n",
      "35957/35957 [==============================] - 1s 31us/step - loss: 86.1124 - mean_squared_error: 86.1124 - val_loss: 84.0093 - val_mean_squared_error: 84.0093\n",
      "Epoch 37/100\n",
      "35957/35957 [==============================] - 1s 31us/step - loss: 83.6710 - mean_squared_error: 83.6710 - val_loss: 78.6035 - val_mean_squared_error: 78.6035\n",
      "Epoch 38/100\n",
      "35957/35957 [==============================] - 1s 31us/step - loss: 87.2307 - mean_squared_error: 87.2307 - val_loss: 90.9392 - val_mean_squared_error: 90.9392\n",
      "Epoch 39/100\n",
      "35957/35957 [==============================] - 1s 31us/step - loss: 85.1973 - mean_squared_error: 85.1973 - val_loss: 82.3579 - val_mean_squared_error: 82.3579\n",
      "Epoch 40/100\n",
      "35957/35957 [==============================] - 1s 31us/step - loss: 86.3267 - mean_squared_error: 86.3267 - val_loss: 87.3231 - val_mean_squared_error: 87.3231\n",
      "Epoch 41/100\n",
      "35957/35957 [==============================] - 1s 31us/step - loss: 83.6059 - mean_squared_error: 83.6059 - val_loss: 79.5245 - val_mean_squared_error: 79.5245\n",
      "Epoch 42/100\n",
      "35957/35957 [==============================] - 1s 31us/step - loss: 84.6859 - mean_squared_error: 84.6859 - val_loss: 102.0371 - val_mean_squared_error: 102.0371\n",
      "Epoch 43/100\n",
      "35957/35957 [==============================] - 1s 31us/step - loss: 83.3337 - mean_squared_error: 83.3337 - val_loss: 82.5531 - val_mean_squared_error: 82.5531\n",
      "Epoch 44/100\n",
      "35957/35957 [==============================] - 1s 31us/step - loss: 84.3185 - mean_squared_error: 84.3185 - val_loss: 83.0429 - val_mean_squared_error: 83.0429\n",
      "Epoch 45/100\n",
      "35957/35957 [==============================] - 1s 31us/step - loss: 83.0103 - mean_squared_error: 83.0103 - val_loss: 109.2120 - val_mean_squared_error: 109.2120\n",
      "Epoch 46/100\n",
      "35957/35957 [==============================] - 1s 31us/step - loss: 85.6257 - mean_squared_error: 85.6257 - val_loss: 125.0540 - val_mean_squared_error: 125.0540\n",
      "Epoch 47/100\n"
     ]
    },
    {
     "name": "stdout",
     "output_type": "stream",
     "text": [
      "35957/35957 [==============================] - 1s 31us/step - loss: 84.4354 - mean_squared_error: 84.4354 - val_loss: 75.9794 - val_mean_squared_error: 75.9794\n",
      "Epoch 48/100\n",
      "35957/35957 [==============================] - 1s 31us/step - loss: 82.2243 - mean_squared_error: 82.2243 - val_loss: 84.7167 - val_mean_squared_error: 84.7167\n",
      "Epoch 49/100\n",
      "35957/35957 [==============================] - 1s 31us/step - loss: 85.1283 - mean_squared_error: 85.1283 - val_loss: 89.4246 - val_mean_squared_error: 89.4246\n",
      "Epoch 50/100\n",
      "35957/35957 [==============================] - 1s 31us/step - loss: 83.3734 - mean_squared_error: 83.3734 - val_loss: 94.3344 - val_mean_squared_error: 94.3344\n",
      "Epoch 51/100\n",
      "35957/35957 [==============================] - 1s 31us/step - loss: 83.3447 - mean_squared_error: 83.3447 - val_loss: 82.1425 - val_mean_squared_error: 82.1425\n",
      "Epoch 52/100\n",
      "35957/35957 [==============================] - 1s 31us/step - loss: 84.1026 - mean_squared_error: 84.1026 - val_loss: 114.3965 - val_mean_squared_error: 114.3965\n",
      "Epoch 53/100\n",
      "35957/35957 [==============================] - 1s 31us/step - loss: 82.8859 - mean_squared_error: 82.8859 - val_loss: 80.5135 - val_mean_squared_error: 80.5135\n",
      "Epoch 54/100\n",
      "35957/35957 [==============================] - 1s 31us/step - loss: 82.6808 - mean_squared_error: 82.6808 - val_loss: 105.9697 - val_mean_squared_error: 105.9697\n",
      "Epoch 55/100\n",
      "35957/35957 [==============================] - 1s 31us/step - loss: 81.8399 - mean_squared_error: 81.8399 - val_loss: 80.3642 - val_mean_squared_error: 80.3642\n",
      "Epoch 56/100\n",
      "35957/35957 [==============================] - 1s 31us/step - loss: 83.7388 - mean_squared_error: 83.7388 - val_loss: 85.7381 - val_mean_squared_error: 85.7381\n",
      "Epoch 57/100\n",
      "35957/35957 [==============================] - 1s 30us/step - loss: 82.4134 - mean_squared_error: 82.4134 - val_loss: 85.3090 - val_mean_squared_error: 85.3090\n",
      "Epoch 58/100\n",
      "35957/35957 [==============================] - 1s 30us/step - loss: 81.3098 - mean_squared_error: 81.3098 - val_loss: 80.8789 - val_mean_squared_error: 80.8789\n",
      "Epoch 59/100\n",
      "35957/35957 [==============================] - 1s 31us/step - loss: 84.1105 - mean_squared_error: 84.1105 - val_loss: 79.2664 - val_mean_squared_error: 79.2664\n",
      "Epoch 60/100\n",
      "35957/35957 [==============================] - 1s 30us/step - loss: 83.3193 - mean_squared_error: 83.3193 - val_loss: 99.6318 - val_mean_squared_error: 99.6318\n",
      "Epoch 61/100\n",
      "35957/35957 [==============================] - 1s 30us/step - loss: 82.8427 - mean_squared_error: 82.8427 - val_loss: 84.3037 - val_mean_squared_error: 84.3037\n",
      "Epoch 62/100\n",
      "35957/35957 [==============================] - 1s 31us/step - loss: 82.2027 - mean_squared_error: 82.2027 - val_loss: 89.2787 - val_mean_squared_error: 89.2787\n",
      "Epoch 63/100\n",
      "35957/35957 [==============================] - 1s 31us/step - loss: 83.5202 - mean_squared_error: 83.5202 - val_loss: 80.5148 - val_mean_squared_error: 80.5148\n",
      "Epoch 64/100\n",
      "35957/35957 [==============================] - 1s 31us/step - loss: 82.6808 - mean_squared_error: 82.6808 - val_loss: 85.7923 - val_mean_squared_error: 85.7923\n",
      "Epoch 65/100\n",
      "35957/35957 [==============================] - 1s 30us/step - loss: 83.1497 - mean_squared_error: 83.1497 - val_loss: 79.5491 - val_mean_squared_error: 79.5491\n",
      "Epoch 66/100\n",
      "35957/35957 [==============================] - 1s 30us/step - loss: 81.0203 - mean_squared_error: 81.0203 - val_loss: 86.2340 - val_mean_squared_error: 86.2340\n",
      "Epoch 67/100\n",
      "35957/35957 [==============================] - 1s 30us/step - loss: 81.1495 - mean_squared_error: 81.1495 - val_loss: 80.9462 - val_mean_squared_error: 80.9462\n",
      "Epoch 68/100\n",
      "35957/35957 [==============================] - 1s 30us/step - loss: 81.9364 - mean_squared_error: 81.9364 - val_loss: 90.5425 - val_mean_squared_error: 90.5425\n",
      "Epoch 69/100\n",
      "35957/35957 [==============================] - 1s 30us/step - loss: 81.7820 - mean_squared_error: 81.7820 - val_loss: 78.5501 - val_mean_squared_error: 78.5501\n",
      "Epoch 70/100\n",
      "35957/35957 [==============================] - 1s 30us/step - loss: 80.9668 - mean_squared_error: 80.9668 - val_loss: 82.9196 - val_mean_squared_error: 82.9196\n",
      "Epoch 71/100\n",
      "35957/35957 [==============================] - 1s 30us/step - loss: 82.8557 - mean_squared_error: 82.8557 - val_loss: 82.3716 - val_mean_squared_error: 82.3716\n",
      "Epoch 72/100\n",
      "35957/35957 [==============================] - 1s 30us/step - loss: 83.4974 - mean_squared_error: 83.4974 - val_loss: 92.5044 - val_mean_squared_error: 92.5044\n",
      "Epoch 73/100\n",
      "35957/35957 [==============================] - 1s 31us/step - loss: 81.7573 - mean_squared_error: 81.7573 - val_loss: 83.2889 - val_mean_squared_error: 83.2889\n",
      "Epoch 74/100\n",
      "35957/35957 [==============================] - 1s 30us/step - loss: 81.1146 - mean_squared_error: 81.1146 - val_loss: 102.9986 - val_mean_squared_error: 102.9986\n",
      "Epoch 75/100\n",
      "35957/35957 [==============================] - 1s 30us/step - loss: 82.5032 - mean_squared_error: 82.5032 - val_loss: 92.0939 - val_mean_squared_error: 92.0939\n",
      "Epoch 76/100\n",
      "35957/35957 [==============================] - 1s 30us/step - loss: 82.4668 - mean_squared_error: 82.4668 - val_loss: 87.7319 - val_mean_squared_error: 87.7319\n",
      "Epoch 77/100\n",
      "35957/35957 [==============================] - 1s 30us/step - loss: 83.3147 - mean_squared_error: 83.3147 - val_loss: 83.3471 - val_mean_squared_error: 83.3471\n",
      "Epoch 78/100\n",
      "35957/35957 [==============================] - 1s 30us/step - loss: 82.8701 - mean_squared_error: 82.8701 - val_loss: 85.1590 - val_mean_squared_error: 85.1590\n",
      "Epoch 79/100\n",
      "35957/35957 [==============================] - 1s 30us/step - loss: 82.3178 - mean_squared_error: 82.3178 - val_loss: 87.6161 - val_mean_squared_error: 87.6161\n",
      "Epoch 80/100\n",
      "35957/35957 [==============================] - 1s 30us/step - loss: 82.4140 - mean_squared_error: 82.4140 - val_loss: 95.0435 - val_mean_squared_error: 95.0435\n",
      "Epoch 81/100\n",
      "35957/35957 [==============================] - 1s 30us/step - loss: 81.8299 - mean_squared_error: 81.8299 - val_loss: 85.8547 - val_mean_squared_error: 85.8547\n",
      "Epoch 82/100\n",
      "35957/35957 [==============================] - 1s 30us/step - loss: 82.0943 - mean_squared_error: 82.0943 - val_loss: 80.8371 - val_mean_squared_error: 80.8371\n",
      "Epoch 83/100\n",
      "35957/35957 [==============================] - 1s 30us/step - loss: 83.0030 - mean_squared_error: 83.0030 - val_loss: 78.9071 - val_mean_squared_error: 78.9071\n",
      "Epoch 84/100\n",
      "35957/35957 [==============================] - 1s 30us/step - loss: 80.5746 - mean_squared_error: 80.5746 - val_loss: 85.8988 - val_mean_squared_error: 85.8988\n",
      "Epoch 85/100\n",
      "35957/35957 [==============================] - 1s 30us/step - loss: 81.7372 - mean_squared_error: 81.7372 - val_loss: 93.4210 - val_mean_squared_error: 93.4210\n",
      "Epoch 86/100\n",
      "35957/35957 [==============================] - 1s 30us/step - loss: 81.6950 - mean_squared_error: 81.6950 - val_loss: 87.5332 - val_mean_squared_error: 87.5332\n",
      "Epoch 87/100\n",
      "35957/35957 [==============================] - 1s 30us/step - loss: 81.4238 - mean_squared_error: 81.4238 - val_loss: 81.3821 - val_mean_squared_error: 81.3821\n",
      "Epoch 88/100\n",
      "35957/35957 [==============================] - 1s 30us/step - loss: 82.5872 - mean_squared_error: 82.5872 - val_loss: 76.6285 - val_mean_squared_error: 76.6285\n",
      "Epoch 89/100\n",
      "35957/35957 [==============================] - 1s 30us/step - loss: 80.8514 - mean_squared_error: 80.8514 - val_loss: 90.4664 - val_mean_squared_error: 90.4664\n",
      "Epoch 90/100\n",
      "35957/35957 [==============================] - 1s 30us/step - loss: 83.0831 - mean_squared_error: 83.0831 - val_loss: 90.8460 - val_mean_squared_error: 90.8460\n",
      "Epoch 91/100\n",
      "35957/35957 [==============================] - 1s 30us/step - loss: 80.7762 - mean_squared_error: 80.7762 - val_loss: 87.7146 - val_mean_squared_error: 87.7146\n",
      "Epoch 92/100\n",
      "35957/35957 [==============================] - 1s 30us/step - loss: 81.5053 - mean_squared_error: 81.5053 - val_loss: 76.3901 - val_mean_squared_error: 76.3901\n",
      "Epoch 93/100\n",
      "35957/35957 [==============================] - 1s 30us/step - loss: 83.0583 - mean_squared_error: 83.0583 - val_loss: 81.1498 - val_mean_squared_error: 81.1498\n",
      "Epoch 94/100\n"
     ]
    },
    {
     "name": "stdout",
     "output_type": "stream",
     "text": [
      "35957/35957 [==============================] - 1s 30us/step - loss: 82.9260 - mean_squared_error: 82.9260 - val_loss: 83.1054 - val_mean_squared_error: 83.1054\n",
      "Epoch 95/100\n",
      "35957/35957 [==============================] - 1s 30us/step - loss: 83.2627 - mean_squared_error: 83.2627 - val_loss: 98.6024 - val_mean_squared_error: 98.6024\n",
      "Epoch 96/100\n",
      "35957/35957 [==============================] - 1s 30us/step - loss: 82.0159 - mean_squared_error: 82.0159 - val_loss: 80.6048 - val_mean_squared_error: 80.6048\n",
      "Epoch 97/100\n",
      "35957/35957 [==============================] - 1s 30us/step - loss: 81.9934 - mean_squared_error: 81.9934 - val_loss: 91.2041 - val_mean_squared_error: 91.2041\n",
      "Epoch 98/100\n",
      "35957/35957 [==============================] - 1s 30us/step - loss: 82.4001 - mean_squared_error: 82.4001 - val_loss: 79.3810 - val_mean_squared_error: 79.3810\n",
      "Epoch 99/100\n",
      "35957/35957 [==============================] - 1s 30us/step - loss: 80.5320 - mean_squared_error: 80.5320 - val_loss: 84.2958 - val_mean_squared_error: 84.2958\n",
      "Epoch 100/100\n",
      "35957/35957 [==============================] - 1s 30us/step - loss: 81.5688 - mean_squared_error: 81.5688 - val_loss: 90.6313 - val_mean_squared_error: 90.6313\n"
     ]
    }
   ],
   "source": [
    "h=model.fit(xtrain, ytrain, validation_split=.2,epochs=100, batch_size=50)"
   ]
  },
  {
   "cell_type": "code",
   "execution_count": 22,
   "metadata": {},
   "outputs": [
    {
     "name": "stdout",
     "output_type": "stream",
     "text": [
      "mean_squared_error 90.79308401842405\n",
      "root mean_squared_error 9.528540497810987\n",
      "mean_absolute_error 6.971602035648746\n",
      "r2_score 0.3938051991117003\n"
     ]
    },
    {
     "data": {
      "text/html": [
       "<div>\n",
       "<style scoped>\n",
       "    .dataframe tbody tr th:only-of-type {\n",
       "        vertical-align: middle;\n",
       "    }\n",
       "\n",
       "    .dataframe tbody tr th {\n",
       "        vertical-align: top;\n",
       "    }\n",
       "\n",
       "    .dataframe thead th {\n",
       "        text-align: right;\n",
       "    }\n",
       "</style>\n",
       "<table border=\"1\" class=\"dataframe\">\n",
       "  <thead>\n",
       "    <tr style=\"text-align: right;\">\n",
       "      <th></th>\n",
       "      <th>t + 1</th>\n",
       "      <th>pred (t +1)</th>\n",
       "    </tr>\n",
       "  </thead>\n",
       "  <tbody>\n",
       "    <tr>\n",
       "      <th>0</th>\n",
       "      <td>92.0</td>\n",
       "      <td>99.111542</td>\n",
       "    </tr>\n",
       "    <tr>\n",
       "      <th>1</th>\n",
       "      <td>93.0</td>\n",
       "      <td>105.813065</td>\n",
       "    </tr>\n",
       "    <tr>\n",
       "      <th>2</th>\n",
       "      <td>92.0</td>\n",
       "      <td>92.819450</td>\n",
       "    </tr>\n",
       "    <tr>\n",
       "      <th>3</th>\n",
       "      <td>92.0</td>\n",
       "      <td>106.211761</td>\n",
       "    </tr>\n",
       "    <tr>\n",
       "      <th>4</th>\n",
       "      <td>100.0</td>\n",
       "      <td>98.846634</td>\n",
       "    </tr>\n",
       "    <tr>\n",
       "      <th>5</th>\n",
       "      <td>91.0</td>\n",
       "      <td>95.840340</td>\n",
       "    </tr>\n",
       "    <tr>\n",
       "      <th>6</th>\n",
       "      <td>92.0</td>\n",
       "      <td>98.256866</td>\n",
       "    </tr>\n",
       "    <tr>\n",
       "      <th>7</th>\n",
       "      <td>99.0</td>\n",
       "      <td>92.595665</td>\n",
       "    </tr>\n",
       "    <tr>\n",
       "      <th>8</th>\n",
       "      <td>78.0</td>\n",
       "      <td>100.413475</td>\n",
       "    </tr>\n",
       "    <tr>\n",
       "      <th>9</th>\n",
       "      <td>108.0</td>\n",
       "      <td>95.304398</td>\n",
       "    </tr>\n",
       "  </tbody>\n",
       "</table>\n",
       "</div>"
      ],
      "text/plain": [
       "   t + 1  pred (t +1)\n",
       "0   92.0    99.111542\n",
       "1   93.0   105.813065\n",
       "2   92.0    92.819450\n",
       "3   92.0   106.211761\n",
       "4  100.0    98.846634\n",
       "5   91.0    95.840340\n",
       "6   92.0    98.256866\n",
       "7   99.0    92.595665\n",
       "8   78.0   100.413475\n",
       "9  108.0    95.304398"
      ]
     },
     "execution_count": 22,
     "metadata": {},
     "output_type": "execute_result"
    }
   ],
   "source": [
    "ypred=model.predict(xtest)\n",
    "\n",
    "import math\n",
    "print('mean_squared_error',m.mean_squared_error(ytest, ypred))\n",
    "print('root mean_squared_error',math.sqrt(m.mean_squared_error(ytest, ypred)))\n",
    "print('mean_absolute_error',m.mean_absolute_error(ytest, ypred))\n",
    "print('r2_score',m.r2_score(ytest, ypred))\n",
    "\n",
    "ypredPD=pd.DataFrame()\n",
    "# ypredPD['t']=xtest['S000501_x'].values\n",
    "ypredPD['t + 1']=ytest.values.ravel()\n",
    "ypredPD['pred (t +1)']=ypred\n",
    "ypredPD.head(10)"
   ]
  },
  {
   "cell_type": "code",
   "execution_count": 23,
   "metadata": {},
   "outputs": [
    {
     "name": "stdout",
     "output_type": "stream",
     "text": [
      "dict_keys(['val_loss', 'val_mean_squared_error', 'loss', 'mean_squared_error'])\n"
     ]
    },
    {
     "data": {
      "image/png": "[encoded data removed]",
      "text/plain": [
       "<Figure size 432x288 with 1 Axes>"
      ]
     },
     "metadata": {
      "needs_background": "light"
     },
     "output_type": "display_data"
    },
    {
     "data": {
      "image/png": "[encoded data removed]",
      "text/plain": [
       "<Figure size 432x288 with 1 Axes>"
      ]
     },
     "metadata": {
      "needs_background": "light"
     },
     "output_type": "display_data"
    }
   ],
   "source": [
    "history=h\n",
    "print(history.history.keys())\n",
    "# summarize history for accuracy\n",
    "plt.plot(history.history['val_loss'])\n",
    "plt.plot(history.history['loss'])\n",
    "plt.title('model accuracy')\n",
    "plt.ylabel('accuracy')\n",
    "plt.xlabel('epoch')\n",
    "plt.legend(['train', 'test'], loc='upper left')\n",
    "plt.show()\n",
    "# summarize history for loss\n",
    "plt.plot(history.history['val_mean_squared_error'])\n",
    "plt.plot(history.history['mean_squared_error'])\n",
    "plt.title('model loss')\n",
    "plt.ylabel('loss')\n",
    "plt.xlabel('epoch')\n",
    "plt.legend(['train', 'test'], loc='upper left')\n",
    "plt.show()"
   ]
  },
  {
   "cell_type": "code",
   "execution_count": 24,
   "metadata": {},
   "outputs": [
    {
     "name": "stdout",
     "output_type": "stream",
     "text": [
      "6.971602035648746\n",
      "6.495371357741015\n",
      "44.380172643944114\n"
     ]
    }
   ],
   "source": [
    "ypredPD['diff']=abs(ypredPD['t + 1']- ypredPD['pred (t +1)'])\n",
    "print(np.mean(ypredPD['diff']))\n",
    "print(np.std(ypredPD['diff']))\n",
    "print(100*ypredPD[ypredPD['diff']<=5].shape[0]/ypredPD.shape[0])"
   ]
  },
  {
   "cell_type": "code",
   "execution_count": 25,
   "metadata": {},
   "outputs": [
    {
     "data": {
      "image/png": "[encoded data removed]",
      "text/plain": [
       "<Figure size 432x288 with 1 Axes>"
      ]
     },
     "metadata": {
      "needs_background": "light"
     },
     "output_type": "display_data"
    },
    {
     "data": {
      "text/html": [
       "<div>\n",
       "<style scoped>\n",
       "    .dataframe tbody tr th:only-of-type {\n",
       "        vertical-align: middle;\n",
       "    }\n",
       "\n",
       "    .dataframe tbody tr th {\n",
       "        vertical-align: top;\n",
       "    }\n",
       "\n",
       "    .dataframe thead th {\n",
       "        text-align: right;\n",
       "    }\n",
       "</style>\n",
       "<table border=\"1\" class=\"dataframe\">\n",
       "  <thead>\n",
       "    <tr style=\"text-align: right;\">\n",
       "      <th></th>\n",
       "      <th>t + 1</th>\n",
       "      <th>pred (t +1)</th>\n",
       "      <th>diff</th>\n",
       "    </tr>\n",
       "  </thead>\n",
       "  <tbody>\n",
       "    <tr>\n",
       "      <th>9784</th>\n",
       "      <td>59.0</td>\n",
       "      <td>91.949738</td>\n",
       "      <td>32.949738</td>\n",
       "    </tr>\n",
       "    <tr>\n",
       "      <th>8578</th>\n",
       "      <td>62.0</td>\n",
       "      <td>94.768982</td>\n",
       "      <td>32.768982</td>\n",
       "    </tr>\n",
       "    <tr>\n",
       "      <th>4667</th>\n",
       "      <td>67.0</td>\n",
       "      <td>97.691673</td>\n",
       "      <td>30.691673</td>\n",
       "    </tr>\n",
       "    <tr>\n",
       "      <th>5377</th>\n",
       "      <td>68.0</td>\n",
       "      <td>92.226151</td>\n",
       "      <td>24.226151</td>\n",
       "    </tr>\n",
       "    <tr>\n",
       "      <th>1382</th>\n",
       "      <td>68.0</td>\n",
       "      <td>95.446304</td>\n",
       "      <td>27.446304</td>\n",
       "    </tr>\n",
       "    <tr>\n",
       "      <th>6730</th>\n",
       "      <td>70.0</td>\n",
       "      <td>96.099655</td>\n",
       "      <td>26.099655</td>\n",
       "    </tr>\n",
       "    <tr>\n",
       "      <th>4920</th>\n",
       "      <td>70.0</td>\n",
       "      <td>94.547325</td>\n",
       "      <td>24.547325</td>\n",
       "    </tr>\n",
       "    <tr>\n",
       "      <th>10249</th>\n",
       "      <td>70.0</td>\n",
       "      <td>93.819115</td>\n",
       "      <td>23.819115</td>\n",
       "    </tr>\n",
       "    <tr>\n",
       "      <th>6629</th>\n",
       "      <td>70.0</td>\n",
       "      <td>92.802917</td>\n",
       "      <td>22.802917</td>\n",
       "    </tr>\n",
       "    <tr>\n",
       "      <th>6155</th>\n",
       "      <td>70.0</td>\n",
       "      <td>92.573219</td>\n",
       "      <td>22.573219</td>\n",
       "    </tr>\n",
       "  </tbody>\n",
       "</table>\n",
       "</div>"
      ],
      "text/plain": [
       "       t + 1  pred (t +1)       diff\n",
       "9784    59.0    91.949738  32.949738\n",
       "8578    62.0    94.768982  32.768982\n",
       "4667    67.0    97.691673  30.691673\n",
       "5377    68.0    92.226151  24.226151\n",
       "1382    68.0    95.446304  27.446304\n",
       "6730    70.0    96.099655  26.099655\n",
       "4920    70.0    94.547325  24.547325\n",
       "10249   70.0    93.819115  23.819115\n",
       "6629    70.0    92.802917  22.802917\n",
       "6155    70.0    92.573219  22.573219"
      ]
     },
     "execution_count": 25,
     "metadata": {},
     "output_type": "execute_result"
    },
    {
     "data": {
      "image/png": "[encoded data removed]",
      "text/plain": [
       "<Figure size 432x288 with 1 Axes>"
      ]
     },
     "metadata": {
      "needs_background": "light"
     },
     "output_type": "display_data"
    }
   ],
   "source": [
    "\n",
    "import matplotlib.patches as mpatches\n",
    "plt.ylabel('Values')\n",
    "plt.xlabel('index')\n",
    "red_patch = mpatches.Patch(color='red', label='Actual data')\n",
    "blue_patch = mpatches.Patch(color='blue', label='Predicted data')\n",
    "plt.legend(handles=[red_patch,blue_patch])\n",
    "\n",
    "ypredPD=ypredPD.sort_values(by=['t + 1'])\n",
    "plt.scatter(np.arange(0,ypredPD.shape[0],1),ypredPD['pred (t +1)'][:ypredPD.shape[0]])\n",
    "plt.plot(np.arange(0,ypredPD.shape[0],1),ypredPD['t + 1'][:ypredPD.shape[0]],color='red')\n",
    "plt.show()\n",
    "\n",
    "plt.ylabel('p*(t+1), Predicted data')\n",
    "plt.xlabel('p(t+1), Actual data')\n",
    "plt.scatter(ypredPD['t + 1'][:ypredPD.shape[0]],ypredPD['pred (t +1)'][:ypredPD.shape[0]])\n",
    "\n",
    "ypredPD.head(10)"
   ]
  },
  {
   "cell_type": "markdown",
   "metadata": {},
   "source": [
    "SVR\n",
    "======"
   ]
  },
  {
   "cell_type": "code",
   "execution_count": null,
   "metadata": {},
   "outputs": [],
   "source": [
    "from sklearn.svm import SVR\n",
    "# svr_rbf = SVR(kernel='rbf', C=10, gamma=0.02, epsilon=.001)\n",
    "svr_rbf = SVR(kernel='rbf')"
   ]
  },
  {
   "cell_type": "code",
   "execution_count": null,
   "metadata": {},
   "outputs": [],
   "source": [
    "svr_rbf.fit(xtrain, ytrain) "
   ]
  },
  {
   "cell_type": "code",
   "execution_count": null,
   "metadata": {},
   "outputs": [],
   "source": [
    "ypred=svr_rbf.predict(xtest)"
   ]
  },
  {
   "cell_type": "code",
   "execution_count": null,
   "metadata": {},
   "outputs": [],
   "source": [
    "import math\n",
    "print('mean_squared_error',mean_squared_error(ytest, ypred))\n",
    "print('root mean_squared_error',math.sqrt(mean_squared_error(ytest, ypred)))\n",
    "print('mean_absolute_error',mean_absolute_error(ytest, ypred))\n",
    "print('r2_score',r2_score(ytest, ypred))\n",
    "\n",
    "ypredPD=pd.DataFrame()\n",
    "# ypredPD['t']=xtest['S000501_x'].values\n",
    "ypredPD['t + 1']=ytest.values.ravel()\n",
    "ypredPD['pred (t +1)']=ypred\n",
    "ypredPD.head(10)"
   ]
  },
  {
   "cell_type": "code",
   "execution_count": null,
   "metadata": {},
   "outputs": [],
   "source": []
  },
  {
   "cell_type": "code",
   "execution_count": null,
   "metadata": {},
   "outputs": [],
   "source": []
  }
 ],
 "metadata": {
  "kernelspec": {
   "display_name": "Python 3",
   "language": "python",
   "name": "python3"
  },
  "language_info": {
   "codemirror_mode": {
    "name": "ipython",
    "version": 3
   },
   "file_extension": ".py",
   "mimetype": "text/x-python",
   "name": "python",
   "nbconvert_exporter": "python",
   "pygments_lexer": "ipython3",
   "version": "3.7.3"
  }
 },
 "nbformat": 4,
 "nbformat_minor": 2
}

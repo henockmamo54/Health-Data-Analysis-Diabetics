{
 "cells": [
  {
   "cell_type": "code",
   "execution_count": 1,
   "metadata": {},
   "outputs": [
    {
     "data": {
      "application/javascript": [
       "\n",
       "            setTimeout(function() {\n",
       "                var nbb_cell_id = 1;\n",
       "                var nbb_formatted_code = \"%load_ext nb_black\\nimport pandas as pd\\nimport numpy as np\\nimport warnings\\nfrom matplotlib import pyplot as plt\\n\\nwarnings.filterwarnings(\\\"ignore\\\")\";\n",
       "                var nbb_cells = Jupyter.notebook.get_cells();\n",
       "                for (var i = 0; i < nbb_cells.length; ++i) {\n",
       "                    if (nbb_cells[i].input_prompt_number == nbb_cell_id) {\n",
       "                        nbb_cells[i].set_text(nbb_formatted_code);\n",
       "                        break;\n",
       "                    }\n",
       "                }\n",
       "            }, 500);\n",
       "            "
      ],
      "text/plain": [
       "<IPython.core.display.Javascript object>"
      ]
     },
     "metadata": {},
     "output_type": "display_data"
    }
   ],
   "source": [
    "%load_ext nb_black\n",
    "import pandas as pd\n",
    "import numpy as np\n",
    "import warnings\n",
    "from matplotlib import pyplot as plt\n",
    "\n",
    "warnings.filterwarnings(\"ignore\")"
   ]
  },
  {
   "cell_type": "code",
   "execution_count": 2,
   "metadata": {},
   "outputs": [
    {
     "name": "stdout",
     "output_type": "stream",
     "text": [
      "(535169, 406)\n"
     ]
    },
    {
     "data": {
      "application/javascript": [
       "\n",
       "            setTimeout(function() {\n",
       "                var nbb_cell_id = 2;\n",
       "                var nbb_formatted_code = \"data = pd.read_csv(\\\"../sep19SexAndAgeAddedFINAL DATASET_ver2.txt\\\")\\nprint(data.shape)\";\n",
       "                var nbb_cells = Jupyter.notebook.get_cells();\n",
       "                for (var i = 0; i < nbb_cells.length; ++i) {\n",
       "                    if (nbb_cells[i].input_prompt_number == nbb_cell_id) {\n",
       "                        nbb_cells[i].set_text(nbb_formatted_code);\n",
       "                        break;\n",
       "                    }\n",
       "                }\n",
       "            }, 500);\n",
       "            "
      ],
      "text/plain": [
       "<IPython.core.display.Javascript object>"
      ]
     },
     "metadata": {},
     "output_type": "display_data"
    }
   ],
   "source": [
    "data = pd.read_csv(\"../sep19SexAndAgeAddedFINAL DATASET_ver2.txt\")\n",
    "print(data.shape)"
   ]
  },
  {
   "cell_type": "code",
   "execution_count": 3,
   "metadata": {},
   "outputs": [
    {
     "name": "stdout",
     "output_type": "stream",
     "text": [
      "(516594, 406)\n"
     ]
    },
    {
     "data": {
      "application/javascript": [
       "\n",
       "            setTimeout(function() {\n",
       "                var nbb_cell_id = 3;\n",
       "                var nbb_formatted_code = \"# Filter the data\\n\\n# remove diabetic people\\ndata = data[data.FIELD_16 != 1]\\ndata = data[data.FIELD_23 != 1]\\n\\n# remove hypertensive people who are diagnosed and on drugs\\n# data=data[data.FIELD_15!=1]\\n# data=data[data.FIELD_22!=1]\\n\\n# remove people who are diagnosed and on drugs for high lipids\\n# data=data[data.FIELD_17!=1]\\n# data=data[data.FIELD_24!=1]\\n\\nprint(data.shape)\";\n",
       "                var nbb_cells = Jupyter.notebook.get_cells();\n",
       "                for (var i = 0; i < nbb_cells.length; ++i) {\n",
       "                    if (nbb_cells[i].input_prompt_number == nbb_cell_id) {\n",
       "                        nbb_cells[i].set_text(nbb_formatted_code);\n",
       "                        break;\n",
       "                    }\n",
       "                }\n",
       "            }, 500);\n",
       "            "
      ],
      "text/plain": [
       "<IPython.core.display.Javascript object>"
      ]
     },
     "metadata": {},
     "output_type": "display_data"
    }
   ],
   "source": [
    "# Filter the data\n",
    "\n",
    "# remove diabetic people\n",
    "data = data[data.FIELD_16 != 1]\n",
    "data = data[data.FIELD_23 != 1]\n",
    "\n",
    "# remove hypertensive people who are diagnosed and on drugs\n",
    "# data=data[data.FIELD_15!=1]\n",
    "# data=data[data.FIELD_22!=1]\n",
    "\n",
    "# remove people who are diagnosed and on drugs for high lipids\n",
    "# data=data[data.FIELD_17!=1]\n",
    "# data=data[data.FIELD_24!=1]\n",
    "\n",
    "print(data.shape)"
   ]
  },
  {
   "cell_type": "code",
   "execution_count": 4,
   "metadata": {},
   "outputs": [
    {
     "ename": "TypeError",
     "evalue": "'Series' object is not callable",
     "output_type": "error",
     "traceback": [
      "\u001b[1;31m---------------------------------------------------------------------------\u001b[0m",
      "\u001b[1;31mTypeError\u001b[0m                                 Traceback (most recent call last)",
      "\u001b[1;32m<ipython-input-4-1f881ffc31b9>\u001b[0m in \u001b[0;36m<module>\u001b[1;34m\u001b[0m\n\u001b[0;32m      4\u001b[0m     \u001b[1;33m(\u001b[0m\u001b[0mdata\u001b[0m\u001b[1;33m.\u001b[0m\u001b[0mS000501\u001b[0m \u001b[1;33m>=\u001b[0m \u001b[1;36m120\u001b[0m\u001b[1;33m)\u001b[0m\u001b[1;33m\u001b[0m\u001b[1;33m\u001b[0m\u001b[0m\n\u001b[0;32m      5\u001b[0m     \u001b[1;33m&\u001b[0m \u001b[1;33m(\u001b[0m\u001b[0mdata\u001b[0m\u001b[1;33m.\u001b[0m\u001b[0mS000501\u001b[0m \u001b[1;33m<\u001b[0m \u001b[1;36m140\u001b[0m\u001b[1;33m)\u001b[0m\u001b[1;33m\u001b[0m\u001b[1;33m\u001b[0m\u001b[0m\n\u001b[1;32m----> 6\u001b[1;33m     \u001b[1;33m(\u001b[0m\u001b[0mdata\u001b[0m\u001b[1;33m.\u001b[0m\u001b[0mS000502\u001b[0m \u001b[1;33m<\u001b[0m \u001b[1;36m80\u001b[0m\u001b[1;33m)\u001b[0m\u001b[1;33m,\u001b[0m\u001b[1;33m\u001b[0m\u001b[1;33m\u001b[0m\u001b[0m\n\u001b[0m\u001b[0;32m      7\u001b[0m \u001b[1;33m\u001b[0m\u001b[0m\n\u001b[0;32m      8\u001b[0m     \u001b[1;31m# overlaping values\u001b[0m\u001b[1;33m\u001b[0m\u001b[1;33m\u001b[0m\u001b[1;33m\u001b[0m\u001b[0m\n",
      "\u001b[1;31mTypeError\u001b[0m: 'Series' object is not callable"
     ]
    },
    {
     "data": {
      "application/javascript": [
       "\n",
       "            setTimeout(function() {\n",
       "                var nbb_cell_id = 4;\n",
       "                var nbb_formatted_code = \"conditions = [\\n    (data.S000501 < 120) & (data.S000502 < 80),\\n    # overlaping values\\n    (data.S000501 >= 120) & (data.S000501 < 140)(data.S000502 < 80),\\n    # overlaping values\\n    (data.S000501 < 120) & (data.S000502 >= 80) & (data.S000502 < 90),\\n    # Class 1\\n    (data.S000501 >= 120)\\n    & (data.S000501 < 140)\\n    & (data.S000502 >= 80)\\n    & (data.S000502 < 90),\\n    # overlaping values\\n    (data.S000501 >= 120) & (data.S000501 < 140) & (data.S000502 >= 90),\\n    # overlaping values\\n    (data.S000501 >= 140) & (data.S000502 >= 80) & (data.S000502 < 90),\\n    # class 2\\n    (data.S000501 >= 140) & (data.S000502 >= 90),\\n]\\nchoices = [0, 1, 1, 1, 2, 2, 2]\\ndata[\\\"CLASS\\\"] = np.select(conditions, choices, default=-1)\";\n",
       "                var nbb_cells = Jupyter.notebook.get_cells();\n",
       "                for (var i = 0; i < nbb_cells.length; ++i) {\n",
       "                    if (nbb_cells[i].input_prompt_number == nbb_cell_id) {\n",
       "                        nbb_cells[i].set_text(nbb_formatted_code);\n",
       "                        break;\n",
       "                    }\n",
       "                }\n",
       "            }, 500);\n",
       "            "
      ],
      "text/plain": [
       "<IPython.core.display.Javascript object>"
      ]
     },
     "metadata": {},
     "output_type": "display_data"
    }
   ],
   "source": [
    "conditions = [\n",
    "    (data.S000501 < 120) & (data.S000502 < 80),\n",
    "    # overlaping values\n",
    "    (data.S000501 >= 120) & (data.S000501 < 140)&(data.S000502 < 80),\n",
    "    # overlaping values\n",
    "    (data.S000501 < 120) & (data.S000502 >= 80) & (data.S000502 < 90),\n",
    "    # Class 1\n",
    "    (data.S000501 >= 120)\n",
    "    & (data.S000501 < 140)\n",
    "    & (data.S000502 >= 80)\n",
    "    & (data.S000502 < 90),\n",
    "    # overlaping values\n",
    "    (data.S000501 >= 120) & (data.S000501 < 140) & (data.S000502 >= 90),\n",
    "    # overlaping values\n",
    "    (data.S000501 >= 140) & (data.S000502 >= 80) & (data.S000502 < 90),\n",
    "    # class 2\n",
    "    (data.S000501 >= 140) & (data.S000502 >= 90),\n",
    "]\n",
    "choices = [0, 1, 1, 1, 2, 2, 2]\n",
    "data[\"CLASS\"] = np.select(conditions, choices, default=-1)"
   ]
  },
  {
   "cell_type": "code",
   "execution_count": null,
   "metadata": {},
   "outputs": [],
   "source": [
    "# hypertensive people who are diagnosed\n",
    "diagnosedPeople = data[data.FIELD_15 == 1]\n",
    "\n",
    "# hypertensive people who are on drugs\n",
    "peopleTakingDrugs = data[data.FIELD_22 == 1]\n",
    "\n",
    "others = data.query(\"FIELD_15!=1 and FIELD_22!=1\")\n",
    "\n",
    "plt.bar(\n",
    "    [\"Diagnosed\", \"ON Drug\", \"Others\"],\n",
    "    [diagnosedPeople.shape[0], peopleTakingDrugs.shape[0], others.shape[0]],\n",
    "    width=0.8,\n",
    ")\n",
    "\n",
    "print(\n",
    "    \"Diagnosed =\",\n",
    "    diagnosedPeople.shape[0],\n",
    "    \"ON Drug =\",\n",
    "    peopleTakingDrugs.shape[0],\n",
    "    \"Others =\",\n",
    "    others.shape[0],\n",
    ")"
   ]
  },
  {
   "cell_type": "markdown",
   "metadata": {},
   "source": [
    "1 All Dataset\n",
    "===="
   ]
  },
  {
   "cell_type": "code",
   "execution_count": null,
   "metadata": {},
   "outputs": [],
   "source": [
    "# group the whole data based on class\n",
    "temp = pd.DataFrame(data.groupby(by=\"CLASS\").size().reset_index(name=\"total\"))\n",
    "\n",
    "labels = \"-1\", \"0\", \"1\", \"2\"\n",
    "sizes = [temp.total[0], temp.total[1], temp.total[2], temp.total[3]]\n",
    "explode = (0.1, 0, 0, 0)\n",
    "\n",
    "fig1, ax1 = plt.subplots()\n",
    "ax1.pie(\n",
    "    sizes, explode=explode, labels=labels, autopct=\"%1.1f%%\", shadow=True, startangle=90\n",
    ")\n",
    "ax1.axis(\"equal\")  # Equal aspect ratio ensures that pie is drawn as a circle.\n",
    "\n",
    "plt.show()\n",
    "\n",
    "temp"
   ]
  },
  {
   "cell_type": "markdown",
   "metadata": {},
   "source": [
    "2 Hypertensive people who are diagnosed \n",
    "======"
   ]
  },
  {
   "cell_type": "code",
   "execution_count": null,
   "metadata": {},
   "outputs": [],
   "source": [
    "temp = pd.DataFrame(\n",
    "    diagnosedPeople.groupby(by=\"CLASS\").size().reset_index(name=\"total\")\n",
    ")\n",
    "\n",
    "labels = \"-1\", \"0\", \"1\", \"2\"\n",
    "sizes = [temp.total[0], temp.total[1], temp.total[2], temp.total[3]]\n",
    "explode = (0.1, 0, 0, 0)\n",
    "\n",
    "fig1, ax1 = plt.subplots()\n",
    "ax1.pie(\n",
    "    sizes, explode=explode, labels=labels, autopct=\"%1.1f%%\", shadow=True, startangle=90\n",
    ")\n",
    "ax1.axis(\"equal\")  # Equal aspect ratio ensures that pie is drawn as a circle.\n",
    "\n",
    "plt.show()\n",
    "\n",
    "temp"
   ]
  },
  {
   "cell_type": "markdown",
   "metadata": {},
   "source": [
    "3 Hypertensive people who are on drugs\n",
    "==="
   ]
  },
  {
   "cell_type": "code",
   "execution_count": null,
   "metadata": {},
   "outputs": [],
   "source": [
    "temp = pd.DataFrame(\n",
    "    peopleTakingDrugs.groupby(by=\"CLASS\").size().reset_index(name=\"total\")\n",
    ")\n",
    "\n",
    "labels = \"-1\", \"0\", \"1\", \"2\"\n",
    "sizes = [temp.total[0], temp.total[1], temp.total[2], temp.total[3]]\n",
    "explode = (0.1, 0, 0, 0)\n",
    "\n",
    "fig1, ax1 = plt.subplots()\n",
    "ax1.pie(\n",
    "    sizes, explode=explode, labels=labels, autopct=\"%1.1f%%\", shadow=True, startangle=90\n",
    ")\n",
    "ax1.axis(\"equal\")  # Equal aspect ratio ensures that pie is drawn as a circle.\n",
    "\n",
    "plt.show()\n",
    "\n",
    "temp"
   ]
  },
  {
   "cell_type": "markdown",
   "metadata": {},
   "source": [
    "4 Others\n",
    "==="
   ]
  },
  {
   "cell_type": "code",
   "execution_count": null,
   "metadata": {},
   "outputs": [],
   "source": [
    "temp = pd.DataFrame(others.groupby(by=\"CLASS\").size().reset_index(name=\"total\"))\n",
    "\n",
    "labels = \"-1\", \"0\", \"1\", \"2\"\n",
    "sizes = [temp.total[0], temp.total[1], temp.total[2], temp.total[3]]\n",
    "explode = (0.1, 0, 0, 0)\n",
    "\n",
    "fig1, ax1 = plt.subplots()\n",
    "ax1.pie(\n",
    "    sizes, explode=explode, labels=labels, autopct=\"%1.1f%%\", shadow=True, startangle=90\n",
    ")\n",
    "ax1.axis(\"equal\")  # Equal aspect ratio ensures that pie is drawn as a circle.\n",
    "\n",
    "plt.show()\n",
    "\n",
    "temp"
   ]
  },
  {
   "cell_type": "code",
   "execution_count": null,
   "metadata": {},
   "outputs": [],
   "source": []
  }
 ],
 "metadata": {
  "kernelspec": {
   "display_name": "Python 3",
   "language": "python",
   "name": "python3"
  },
  "language_info": {
   "codemirror_mode": {
    "name": "ipython",
    "version": 3
   },
   "file_extension": ".py",
   "mimetype": "text/x-python",
   "name": "python",
   "nbconvert_exporter": "python",
   "pygments_lexer": "ipython3",
   "version": "3.7.3"
  }
 },
 "nbformat": 4,
 "nbformat_minor": 2
}

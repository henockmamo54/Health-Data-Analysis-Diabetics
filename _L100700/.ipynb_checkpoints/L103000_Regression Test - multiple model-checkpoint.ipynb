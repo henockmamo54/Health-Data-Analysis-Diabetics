{
 "cells": [
  {
   "cell_type": "code",
   "execution_count": 6,
   "metadata": {},
   "outputs": [],
   "source": [
    "from matplotlib import pyplot as plt\n",
    "import pandas as pd \n",
    "import numpy as np\n",
    "import warnings\n",
    "warnings.filterwarnings('ignore')\n",
    "from scipy import stats\n",
    "from sklearn.utils import shuffle\n",
    "from sklearn.preprocessing import LabelEncoder\n",
    "from sklearn.metrics import confusion_matrix \n",
    "from sklearn.utils import shuffle\n",
    "from sklearn.ensemble import RandomForestRegressor\n",
    "from sklearn.datasets import make_regression\n",
    "from sklearn.model_selection import train_test_split\n",
    "from sklearn.metrics import mean_absolute_error\n",
    "from sklearn.metrics import mean_squared_error\n",
    "from sklearn.metrics import mean_absolute_error\n",
    "from sklearn.metrics import r2_score\n",
    "from keras.models import Sequential\n",
    "from keras.layers import Dense\n",
    "from keras.wrappers.scikit_learn import KerasRegressor\n",
    "from sklearn.model_selection import cross_val_score\n",
    "from sklearn.model_selection import KFold\n",
    "from sklearn.preprocessing import StandardScaler\n",
    "from sklearn.pipeline import Pipeline\n",
    "from keras.layers import Dropout\n",
    "from keras.layers import BatchNormalization\n",
    "from keras.models import model_from_json\n",
    "from keras.utils import multi_gpu_model \n",
    "from keras.utils import to_categorical\n"
   ]
  },
  {
   "cell_type": "markdown",
   "metadata": {},
   "source": [
    "Read the data\n",
    "==========="
   ]
  },
  {
   "cell_type": "code",
   "execution_count": 8,
   "metadata": {},
   "outputs": [
    {
     "name": "stdout",
     "output_type": "stream",
     "text": [
      "(159381, 29)\n",
      "(159381, 29)\n"
     ]
    }
   ],
   "source": [
    "x_original=pd.read_csv('_xlable4_withNa_AllColumns.txt')\n",
    "y_original=pd.read_csv('_targelable4_withNa_AllColumns.txt')\n",
    "\n",
    "x_original=x_original[['Unnamed: 0','L103000', 'L103300', 'L103100', 'L101700', 'L100800', 'S000300', 'L100700',\n",
    "                       'L102900','AGE', 'SEX', 'L190400', 'L190300', 'L190500', 'S000501', 'L101300', 'S000502', \n",
    "                       'L104600','FIELD_33', 'FIELD_7', 'FIELD_38', 'FIELD_6', 'FIELD_40', 'FIELD_41', 'FIELD_31', \n",
    "                       'FIELD_27', 'FIELD_42', 'FIELD_18', 'FIELD_25']]\n",
    "\n",
    "y_original=y_original[['Unnamed: 0','L103000', 'L103300', 'L103100', 'L101700', 'L100800', 'S000300', 'L100700',\n",
    "                       'L102900','AGE','SEX', 'L190400', 'L190300', 'L190500', 'S000501', 'L101300', 'S000502', \n",
    "                       'L104600','FIELD_33', 'FIELD_7', 'FIELD_38', 'FIELD_6', 'FIELD_40', 'FIELD_41', 'FIELD_31', \n",
    "                       'FIELD_27', 'FIELD_42', 'FIELD_18', 'FIELD_25']]\n",
    "\n",
    "print(x_original.shape)\n",
    "print(y_original.shape)\n"
   ]
  },
  {
   "cell_type": "markdown",
   "metadata": {},
   "source": [
    "Prepare the data\n",
    "============"
   ]
  },
  {
   "cell_type": "code",
   "execution_count": 9,
   "metadata": {},
   "outputs": [],
   "source": [
    "df=x_original.copy()\n",
    "conditions = [\n",
    "    (df.S000501 < 120)  ,\n",
    "    (df.S000501 >= 120) & (df.S000501 < 130),\n",
    "    (df.S000501 >=130)]\n",
    "choices = [0,1,2]\n",
    "df['sbpG'] = np.select(conditions, choices, default=0)\n",
    "df.head()\n",
    "x_original=df.copy()\n",
    "\n",
    "conditions2 = [\n",
    "    (df.S000502 < 80)  ,\n",
    "    (df.S000502 >= 80) & (df.S000502 < 90),\n",
    "    (df.S000502 >=90)]\n",
    "choices2 = [0,1,2]\n",
    "df['dbpG'] = np.select(conditions2, choices2, default=0)\n",
    "df.head()\n",
    "x_original=df.copy()\n",
    "\n",
    "conditions3 = [\n",
    "    (df.AGE < 30)  ,\n",
    "    (df.AGE >= 30) & (df.AGE < 40),\n",
    "    (df.AGE >= 40) & (df.AGE < 50),\n",
    "    (df.AGE >= 50) & (df.AGE < 60),\n",
    "    (df.AGE >= 60)]\n",
    "choices3 = [0,1,2,3,4]\n",
    "df['AgeG'] = np.select(conditions3, choices3, default=0)\n",
    "df.head()\n",
    "x_original=df.copy()\n",
    "\n",
    "\n",
    "conditions4 = [\n",
    "    (df.L100800 < 100)  ,\n",
    "    (df.L100800 >= 100) & (df.L100800 < 126), \n",
    "    (df.L100800 >= 126)]\n",
    "choices4 = [0,1,2]\n",
    "df['CLASS'] = np.select(conditions4, choices4, default=0)\n",
    "df.head()\n",
    "x_original=df.copy()"
   ]
  },
  {
   "cell_type": "code",
   "execution_count": 10,
   "metadata": {},
   "outputs": [
    {
     "name": "stdout",
     "output_type": "stream",
     "text": [
      "(11525, 62)\n"
     ]
    }
   ],
   "source": [
    "data= pd.merge(x_original,y_original, how='inner',left_on='Unnamed: 0', right_on='Unnamed: 0')\n",
    "data=data.dropna(). reset_index()\n",
    "\n",
    "# data=data[data.AGE_x >= 40]\n",
    "# data=data[data.AGE_x < 50]\n",
    "\n",
    "# data=data[data.CLASS_x==0]\n",
    "# data=data[data.sbpG==0]\n",
    "# data=data[data.dbpG==0]\n",
    "\n",
    "# data=data[data.L100800_y <200]\n",
    "\n",
    "print(data.shape)"
   ]
  },
  {
   "cell_type": "code",
   "execution_count": 11,
   "metadata": {},
   "outputs": [
    {
     "name": "stdout",
     "output_type": "stream",
     "text": [
      "(11525, 62)\n",
      "Index(['index', 'Unnamed: 0', 'L103000_x', 'L103300_x', 'L103100_x',\n",
      "       'L101700_x', 'L100800_x', 'S000300_x', 'L100700_x', 'L102900_x',\n",
      "       'AGE_x', 'SEX_x', 'L190400_x', 'L190300_x', 'L190500_x', 'S000501_x',\n",
      "       'L101300_x', 'S000502_x', 'L104600_x', 'FIELD_33_x', 'FIELD_7_x',\n",
      "       'FIELD_38_x', 'FIELD_6_x', 'FIELD_40_x', 'FIELD_41_x', 'FIELD_31_x',\n",
      "       'FIELD_27_x', 'FIELD_42_x', 'FIELD_18_x', 'FIELD_25_x', 'sbpG', 'dbpG',\n",
      "       'AgeG', 'CLASS', 'L103000_y', 'L103300_y', 'L103100_y', 'L101700_y',\n",
      "       'L100800_y', 'S000300_y', 'L100700_y', 'L102900_y', 'AGE_y', 'SEX_y',\n",
      "       'L190400_y', 'L190300_y', 'L190500_y', 'S000501_y', 'L101300_y',\n",
      "       'S000502_y', 'L104600_y', 'FIELD_33_y', 'FIELD_7_y', 'FIELD_38_y',\n",
      "       'FIELD_6_y', 'FIELD_40_y', 'FIELD_41_y', 'FIELD_31_y', 'FIELD_27_y',\n",
      "       'FIELD_42_y', 'FIELD_18_y', 'FIELD_25_y'],\n",
      "      dtype='object')\n"
     ]
    },
    {
     "data": {
      "text/html": [
       "<div>\n",
       "<style scoped>\n",
       "    .dataframe tbody tr th:only-of-type {\n",
       "        vertical-align: middle;\n",
       "    }\n",
       "\n",
       "    .dataframe tbody tr th {\n",
       "        vertical-align: top;\n",
       "    }\n",
       "\n",
       "    .dataframe thead th {\n",
       "        text-align: right;\n",
       "    }\n",
       "</style>\n",
       "<table border=\"1\" class=\"dataframe\">\n",
       "  <thead>\n",
       "    <tr style=\"text-align: right;\">\n",
       "      <th></th>\n",
       "      <th>index</th>\n",
       "      <th>Unnamed: 0</th>\n",
       "      <th>L103000_x</th>\n",
       "      <th>L103300_x</th>\n",
       "      <th>L103100_x</th>\n",
       "      <th>L101700_x</th>\n",
       "      <th>L100800_x</th>\n",
       "      <th>S000300_x</th>\n",
       "      <th>L100700_x</th>\n",
       "      <th>L102900_x</th>\n",
       "      <th>...</th>\n",
       "      <th>FIELD_7_y</th>\n",
       "      <th>FIELD_38_y</th>\n",
       "      <th>FIELD_6_y</th>\n",
       "      <th>FIELD_40_y</th>\n",
       "      <th>FIELD_41_y</th>\n",
       "      <th>FIELD_31_y</th>\n",
       "      <th>FIELD_27_y</th>\n",
       "      <th>FIELD_42_y</th>\n",
       "      <th>FIELD_18_y</th>\n",
       "      <th>FIELD_25_y</th>\n",
       "    </tr>\n",
       "  </thead>\n",
       "  <tbody>\n",
       "    <tr>\n",
       "      <th>0</th>\n",
       "      <td>2</td>\n",
       "      <td>2</td>\n",
       "      <td>41.0</td>\n",
       "      <td>3.4</td>\n",
       "      <td>72.0</td>\n",
       "      <td>15.0</td>\n",
       "      <td>78.0</td>\n",
       "      <td>20.2</td>\n",
       "      <td>3.8</td>\n",
       "      <td>243.0</td>\n",
       "      <td>...</td>\n",
       "      <td>1.0</td>\n",
       "      <td>2.0</td>\n",
       "      <td>2.0</td>\n",
       "      <td>0.0</td>\n",
       "      <td>3.0</td>\n",
       "      <td>0.0</td>\n",
       "      <td>0.0</td>\n",
       "      <td>4.0</td>\n",
       "      <td>0.0</td>\n",
       "      <td>0.0</td>\n",
       "    </tr>\n",
       "    <tr>\n",
       "      <th>1</th>\n",
       "      <td>4</td>\n",
       "      <td>4</td>\n",
       "      <td>50.0</td>\n",
       "      <td>2.9</td>\n",
       "      <td>58.0</td>\n",
       "      <td>12.0</td>\n",
       "      <td>90.0</td>\n",
       "      <td>25.5</td>\n",
       "      <td>3.4</td>\n",
       "      <td>170.0</td>\n",
       "      <td>...</td>\n",
       "      <td>2.0</td>\n",
       "      <td>0.0</td>\n",
       "      <td>2.0</td>\n",
       "      <td>0.0</td>\n",
       "      <td>5.0</td>\n",
       "      <td>1.0</td>\n",
       "      <td>0.0</td>\n",
       "      <td>0.0</td>\n",
       "      <td>0.0</td>\n",
       "      <td>0.0</td>\n",
       "    </tr>\n",
       "    <tr>\n",
       "      <th>2</th>\n",
       "      <td>7</td>\n",
       "      <td>7</td>\n",
       "      <td>45.0</td>\n",
       "      <td>2.9</td>\n",
       "      <td>77.0</td>\n",
       "      <td>17.0</td>\n",
       "      <td>86.0</td>\n",
       "      <td>21.2</td>\n",
       "      <td>3.9</td>\n",
       "      <td>225.0</td>\n",
       "      <td>...</td>\n",
       "      <td>1.0</td>\n",
       "      <td>0.0</td>\n",
       "      <td>2.0</td>\n",
       "      <td>0.0</td>\n",
       "      <td>7.0</td>\n",
       "      <td>1.0</td>\n",
       "      <td>0.0</td>\n",
       "      <td>7.0</td>\n",
       "      <td>0.0</td>\n",
       "      <td>0.0</td>\n",
       "    </tr>\n",
       "    <tr>\n",
       "      <th>3</th>\n",
       "      <td>8</td>\n",
       "      <td>8</td>\n",
       "      <td>54.0</td>\n",
       "      <td>3.1</td>\n",
       "      <td>47.0</td>\n",
       "      <td>30.0</td>\n",
       "      <td>86.0</td>\n",
       "      <td>22.0</td>\n",
       "      <td>4.2</td>\n",
       "      <td>145.0</td>\n",
       "      <td>...</td>\n",
       "      <td>1.0</td>\n",
       "      <td>2.0</td>\n",
       "      <td>2.0</td>\n",
       "      <td>0.0</td>\n",
       "      <td>0.0</td>\n",
       "      <td>0.0</td>\n",
       "      <td>0.0</td>\n",
       "      <td>0.0</td>\n",
       "      <td>0.0</td>\n",
       "      <td>0.0</td>\n",
       "    </tr>\n",
       "    <tr>\n",
       "      <th>4</th>\n",
       "      <td>31</td>\n",
       "      <td>31</td>\n",
       "      <td>99.0</td>\n",
       "      <td>2.8</td>\n",
       "      <td>44.0</td>\n",
       "      <td>9.0</td>\n",
       "      <td>93.0</td>\n",
       "      <td>19.4</td>\n",
       "      <td>4.1</td>\n",
       "      <td>130.0</td>\n",
       "      <td>...</td>\n",
       "      <td>1.0</td>\n",
       "      <td>1.0</td>\n",
       "      <td>1.0</td>\n",
       "      <td>0.0</td>\n",
       "      <td>3.0</td>\n",
       "      <td>0.0</td>\n",
       "      <td>0.0</td>\n",
       "      <td>1.0</td>\n",
       "      <td>0.0</td>\n",
       "      <td>0.0</td>\n",
       "    </tr>\n",
       "  </tbody>\n",
       "</table>\n",
       "<p>5 rows × 62 columns</p>\n",
       "</div>"
      ],
      "text/plain": [
       "   index  Unnamed: 0  L103000_x  L103300_x  L103100_x  L101700_x  L100800_x  \\\n",
       "0      2           2       41.0        3.4       72.0       15.0       78.0   \n",
       "1      4           4       50.0        2.9       58.0       12.0       90.0   \n",
       "2      7           7       45.0        2.9       77.0       17.0       86.0   \n",
       "3      8           8       54.0        3.1       47.0       30.0       86.0   \n",
       "4     31          31       99.0        2.8       44.0        9.0       93.0   \n",
       "\n",
       "   S000300_x  L100700_x  L102900_x  ...  FIELD_7_y  FIELD_38_y  FIELD_6_y  \\\n",
       "0       20.2        3.8      243.0  ...        1.0         2.0        2.0   \n",
       "1       25.5        3.4      170.0  ...        2.0         0.0        2.0   \n",
       "2       21.2        3.9      225.0  ...        1.0         0.0        2.0   \n",
       "3       22.0        4.2      145.0  ...        1.0         2.0        2.0   \n",
       "4       19.4        4.1      130.0  ...        1.0         1.0        1.0   \n",
       "\n",
       "   FIELD_40_y  FIELD_41_y  FIELD_31_y  FIELD_27_y  FIELD_42_y  FIELD_18_y  \\\n",
       "0         0.0         3.0         0.0         0.0         4.0         0.0   \n",
       "1         0.0         5.0         1.0         0.0         0.0         0.0   \n",
       "2         0.0         7.0         1.0         0.0         7.0         0.0   \n",
       "3         0.0         0.0         0.0         0.0         0.0         0.0   \n",
       "4         0.0         3.0         0.0         0.0         1.0         0.0   \n",
       "\n",
       "   FIELD_25_y  \n",
       "0         0.0  \n",
       "1         0.0  \n",
       "2         0.0  \n",
       "3         0.0  \n",
       "4         0.0  \n",
       "\n",
       "[5 rows x 62 columns]"
      ]
     },
     "execution_count": 11,
     "metadata": {},
     "output_type": "execute_result"
    }
   ],
   "source": [
    "print(data.shape)\n",
    "print(data.columns)\n",
    "data.head()"
   ]
  },
  {
   "cell_type": "code",
   "execution_count": 9,
   "metadata": {},
   "outputs": [],
   "source": [
    "x=data[['L103000_x', 'L103300_x', 'L103100_x', 'L101700_x', 'L100800_x', 'S000300_x', 'L100700_x',\n",
    "        'L102900_x', 'SEX_x', 'L190400_x', 'L190300_x', 'L190500_x', 'S000501_x', 'L101300_x', 'S000502_x', \n",
    "        'L104600_x','FIELD_33_x', 'FIELD_7_x', 'FIELD_38_x', 'FIELD_6_x', 'FIELD_40_x', 'FIELD_41_x', 'FIELD_31_x', \n",
    "        'FIELD_27_x', 'FIELD_42_x', 'FIELD_18_x', 'FIELD_25_x',\n",
    "        'CLASS','sbpG','dbpG','AgeG']]\n",
    "\n",
    "y=data[['L104600_y', 'L100800_y', 'L103300_y', 'AGE_y', 'L103000_y', 'S000300_y', 'L102900_y',\n",
    "        'L101600_y', 'S000501_y', 'L103200_y', 'L103100_y', 'L101700_y', 'S000502_y', 'L101300_y', 'L190000_y',\n",
    "        'L190300_y','L504700_y', 'FIELD_31_y', 'FIELD_33_y', 'FIELD_21_y', 'FIELD_27_y', 'FIELD_14_y', 'FIELD_28_y', \n",
    "        'FIELD_38_y', 'FIELD_18_y', 'FIELD_29_y', 'FIELD_4_y', 'FIELD_40_y',]]"
   ]
  },
  {
   "cell_type": "markdown",
   "metadata": {},
   "source": [
    "Check the correlation of the selected feature with the independent variables\n",
    "====="
   ]
  },
  {
   "cell_type": "code",
   "execution_count": 11,
   "metadata": {},
   "outputs": [],
   "source": [
    "temppd=pd.DataFrame(x.copy())\n",
    "temppd['y']=y.L104600_y\n",
    "temppd.head()\n",
    "corval=abs(temppd.corr()).sort_values(by='y', ascending=False)"
   ]
  },
  {
   "cell_type": "code",
   "execution_count": 12,
   "metadata": {},
   "outputs": [
    {
     "data": {
      "text/plain": [
       "y             1.000000\n",
       "L104600_x     0.775852\n",
       "L100800_x     0.538101\n",
       "CLASS         0.399946\n",
       "L103300_x     0.242938\n",
       "S000300_x     0.238122\n",
       "AGE_x         0.210735\n",
       "L103000_x     0.207670\n",
       "AgeG          0.199074\n",
       "L102900_x     0.192172\n",
       "L101300_x     0.176261\n",
       "L101700_x     0.153809\n",
       "L103200_x     0.152935\n",
       "L190000_x     0.151385\n",
       "S000501_x     0.145127\n",
       "L103100_x     0.142568\n",
       "S000502_x     0.141425\n",
       "L101600_x     0.134421\n",
       "sbpG          0.130357\n",
       "dbpG          0.124629\n",
       "L190300_x     0.122751\n",
       "FIELD_33_x    0.109053\n",
       "L504700_x     0.101522\n",
       "FIELD_31_x    0.051298\n",
       "FIELD_21_x    0.026268\n",
       "FIELD_27_x    0.022387\n",
       "FIELD_14_x    0.020646\n",
       "FIELD_40_x    0.016064\n",
       "FIELD_29_x    0.010469\n",
       "FIELD_18_x    0.008941\n",
       "FIELD_28_x    0.008717\n",
       "FIELD_4_x     0.007060\n",
       "FIELD_38_x    0.005617\n",
       "Name: y, dtype: float64"
      ]
     },
     "execution_count": 12,
     "metadata": {},
     "output_type": "execute_result"
    }
   ],
   "source": [
    "corval.y"
   ]
  },
  {
   "cell_type": "code",
   "execution_count": 13,
   "metadata": {},
   "outputs": [],
   "source": [
    "#histogram plot of the features\n",
    "# import matplotlib.pyplot as plt\n",
    "# x[x.dtypes[(x.dtypes==\"float64\")|(x.dtypes==\"int64\")]\n",
    "#                         .index.values].hist(figsize=[11,11])"
   ]
  },
  {
   "cell_type": "markdown",
   "metadata": {},
   "source": [
    "Apply PCA\n",
    "==========="
   ]
  },
  {
   "cell_type": "code",
   "execution_count": 14,
   "metadata": {},
   "outputs": [],
   "source": [
    "# from sklearn.decomposition import PCA\n",
    "# pca = PCA(n_components=8)\n",
    "# pca.fit(x)\n",
    "\n",
    "# print(pca.explained_variance_ratio_)   \n",
    "# print(np.sum(pca.explained_variance_ratio_))\n",
    "\n",
    "# x=pca.fit_transform(x) \n",
    "# print(x.shape)\n"
   ]
  },
  {
   "cell_type": "markdown",
   "metadata": {},
   "source": [
    "feature scaling\n",
    "======="
   ]
  },
  {
   "cell_type": "code",
   "execution_count": 15,
   "metadata": {},
   "outputs": [],
   "source": [
    "# from sklearn import preprocessing\n",
    "# min_max_scaler = preprocessing.MinMaxScaler()  #StandardScaler()\n",
    "# x = min_max_scaler.fit_transform(x)"
   ]
  },
  {
   "cell_type": "markdown",
   "metadata": {},
   "source": [
    "clustring test\n",
    "=========="
   ]
  },
  {
   "cell_type": "code",
   "execution_count": 16,
   "metadata": {},
   "outputs": [],
   "source": [
    "# from sklearn.cluster import KMeans\n",
    "# from scipy.spatial.distance import cdist\n",
    "\n",
    "# K = range(1,10)\n",
    "# distortions = []\n",
    "\n",
    "# for k in K:\n",
    "#     kmeanModel = KMeans(n_clusters=k).fit(x)\n",
    "#     kmeanModel.fit(x)\n",
    "#     distortions.append(sum(np.min(cdist(x, kmeanModel.cluster_centers_, 'euclidean'), axis=1)) / x.shape[0])\n",
    "\n",
    "# # Plot the elbow\n",
    "# plt.plot(K, distortions, 'bx-')\n",
    "# plt.xlabel('k')\n",
    "# plt.ylabel('Distortion')\n",
    "# plt.title('The Elbow Method showing the optimal k')\n",
    "# plt.show()\n"
   ]
  },
  {
   "cell_type": "code",
   "execution_count": 17,
   "metadata": {},
   "outputs": [],
   "source": [
    "# kmeanModel = KMeans(n_clusters=k).fit(x)\n",
    "# x['lbl']=kmeanModel.labels_ "
   ]
  },
  {
   "cell_type": "code",
   "execution_count": 18,
   "metadata": {},
   "outputs": [],
   "source": [
    "# x.columns"
   ]
  },
  {
   "cell_type": "markdown",
   "metadata": {},
   "source": [
    "Random Forest Regressor\n",
    "============="
   ]
  },
  {
   "cell_type": "code",
   "execution_count": 29,
   "metadata": {},
   "outputs": [],
   "source": [
    "ylable=y[['L104600_y']]  \n",
    "xtrain,xtest,ytrain,ytest=train_test_split(x, ylable, random_state=42, test_size=0.2)"
   ]
  },
  {
   "cell_type": "code",
   "execution_count": 30,
   "metadata": {},
   "outputs": [
    {
     "name": "stdout",
     "output_type": "stream",
     "text": [
      "[8.57892515e-01 3.44434032e-02 3.95197303e-03 7.45406478e-03\n",
      " 6.06201372e-03 5.84869423e-03 4.81265107e-03 6.09611504e-03\n",
      " 3.22719187e-03 4.50918360e-03 2.70968357e-03 4.76455260e-03\n",
      " 3.02258804e-03 8.50382278e-03 8.19111289e-03 1.10933981e-02\n",
      " 1.30930109e-02 5.78353046e-04 1.00274351e-03 6.45470149e-05\n",
      " 1.83413319e-04 5.34071447e-05 6.92643958e-05 4.03519713e-03\n",
      " 9.05203095e-04 1.06052919e-04 1.19480518e-03 3.30437205e-03\n",
      " 5.81530519e-04 3.55330552e-04 5.25432615e-04 1.36437337e-03]\n"
     ]
    }
   ],
   "source": [
    "regr = RandomForestRegressor(max_depth=7, random_state=0,verbose =0,n_estimators=500)\n",
    "regr.fit(xtrain, ytrain) \n",
    "print(regr.feature_importances_)\n",
    "ypred=regr.predict(xtest)\n"
   ]
  },
  {
   "cell_type": "code",
   "execution_count": 31,
   "metadata": {},
   "outputs": [
    {
     "name": "stdout",
     "output_type": "stream",
     "text": [
      "mean_squared_error 0.06046543202580724\n",
      "root mean_squared_error 0.2458971980844988\n",
      "mean_absolute_error 0.170364090764924\n",
      "r2_score 0.6537788986718653\n"
     ]
    },
    {
     "data": {
      "image/png": "[encoded data removed]",
      "text/plain": [
       "<Figure size 432x288 with 1 Axes>"
      ]
     },
     "metadata": {
      "needs_background": "light"
     },
     "output_type": "display_data"
    },
    {
     "data": {
      "text/html": [
       "<div>\n",
       "<style scoped>\n",
       "    .dataframe tbody tr th:only-of-type {\n",
       "        vertical-align: middle;\n",
       "    }\n",
       "\n",
       "    .dataframe tbody tr th {\n",
       "        vertical-align: top;\n",
       "    }\n",
       "\n",
       "    .dataframe thead th {\n",
       "        text-align: right;\n",
       "    }\n",
       "</style>\n",
       "<table border=\"1\" class=\"dataframe\">\n",
       "  <thead>\n",
       "    <tr style=\"text-align: right;\">\n",
       "      <th></th>\n",
       "      <th>t + 1</th>\n",
       "      <th>pred (t +1)</th>\n",
       "    </tr>\n",
       "  </thead>\n",
       "  <tbody>\n",
       "    <tr>\n",
       "      <th>3770</th>\n",
       "      <td>9.90</td>\n",
       "      <td>9.124791</td>\n",
       "    </tr>\n",
       "    <tr>\n",
       "      <th>5896</th>\n",
       "      <td>10.10</td>\n",
       "      <td>11.461990</td>\n",
       "    </tr>\n",
       "    <tr>\n",
       "      <th>7279</th>\n",
       "      <td>10.42</td>\n",
       "      <td>6.525040</td>\n",
       "    </tr>\n",
       "    <tr>\n",
       "      <th>1529</th>\n",
       "      <td>10.58</td>\n",
       "      <td>9.873920</td>\n",
       "    </tr>\n",
       "    <tr>\n",
       "      <th>1794</th>\n",
       "      <td>10.81</td>\n",
       "      <td>5.834711</td>\n",
       "    </tr>\n",
       "    <tr>\n",
       "      <th>66</th>\n",
       "      <td>11.26</td>\n",
       "      <td>8.493031</td>\n",
       "    </tr>\n",
       "    <tr>\n",
       "      <th>6077</th>\n",
       "      <td>11.33</td>\n",
       "      <td>8.486373</td>\n",
       "    </tr>\n",
       "    <tr>\n",
       "      <th>1650</th>\n",
       "      <td>11.55</td>\n",
       "      <td>11.162770</td>\n",
       "    </tr>\n",
       "    <tr>\n",
       "      <th>7887</th>\n",
       "      <td>12.07</td>\n",
       "      <td>9.559329</td>\n",
       "    </tr>\n",
       "    <tr>\n",
       "      <th>6410</th>\n",
       "      <td>12.57</td>\n",
       "      <td>9.508913</td>\n",
       "    </tr>\n",
       "  </tbody>\n",
       "</table>\n",
       "</div>"
      ],
      "text/plain": [
       "      t + 1  pred (t +1)\n",
       "3770   9.90     9.124791\n",
       "5896  10.10    11.461990\n",
       "7279  10.42     6.525040\n",
       "1529  10.58     9.873920\n",
       "1794  10.81     5.834711\n",
       "66    11.26     8.493031\n",
       "6077  11.33     8.486373\n",
       "1650  11.55    11.162770\n",
       "7887  12.07     9.559329\n",
       "6410  12.57     9.508913"
      ]
     },
     "execution_count": 31,
     "metadata": {},
     "output_type": "execute_result"
    },
    {
     "data": {
      "image/png": "[encoded data removed]",
      "text/plain": [
       "<Figure size 432x288 with 1 Axes>"
      ]
     },
     "metadata": {
      "needs_background": "light"
     },
     "output_type": "display_data"
    }
   ],
   "source": [
    "\n",
    "import math\n",
    "print('mean_squared_error',mean_squared_error(ytest, ypred))\n",
    "print('root mean_squared_error',math.sqrt(mean_squared_error(ytest, ypred)))\n",
    "print('mean_absolute_error',mean_absolute_error(ytest, ypred))\n",
    "print('r2_score',r2_score(ytest, ypred))\n",
    "\n",
    "ypredPD=pd.DataFrame()\n",
    "# ypredPD['t']=xtest['S000501_x'].values\n",
    "ypredPD['t + 1']=ytest.values.ravel()\n",
    "ypredPD['pred (t +1)']=ypred\n",
    "ypredPD.head(30)\n",
    "\n",
    "import matplotlib.patches as mpatches\n",
    "plt.ylabel('Values')\n",
    "plt.xlabel('index')\n",
    "red_patch = mpatches.Patch(color='red', label='Actual data')\n",
    "blue_patch = mpatches.Patch(color='blue', label='Predicted data')\n",
    "plt.legend(handles=[red_patch,blue_patch])\n",
    "\n",
    "ypredPD=ypredPD.sort_values(by=['t + 1'])\n",
    "plt.scatter(np.arange(0,ypredPD.shape[0],1),ypredPD['pred (t +1)'][:ypredPD.shape[0]])\n",
    "plt.plot(np.arange(0,ypredPD.shape[0],1),ypredPD['t + 1'][:ypredPD.shape[0]],color='red')\n",
    "plt.show()\n",
    "\n",
    "plt.ylabel('p*(t+1), Predicted data')\n",
    "plt.xlabel('p(t+1), Actual data')\n",
    "plt.scatter(ypredPD['t + 1'][:ypredPD.shape[0]],ypredPD['pred (t +1)'][:ypredPD.shape[0]])\n",
    "\n",
    "ypredPD.tail(10)"
   ]
  },
  {
   "cell_type": "code",
   "execution_count": 32,
   "metadata": {},
   "outputs": [],
   "source": [
    "# tempdata=pd.DataFrame(xtest.copy())\n",
    "# tempdata['ytest']=ytest\n",
    "# # temp=temp.dropna()\n",
    "# # tempdata.head()\n",
    "# # tempdata[tempdata.ytest.isna()].index\n",
    "\n",
    "# tempdata=tempdata.drop(tempdata[tempdata.ytest.isna()].index)\n"
   ]
  },
  {
   "cell_type": "markdown",
   "metadata": {},
   "source": [
    "xg boost\n",
    "=========="
   ]
  },
  {
   "cell_type": "code",
   "execution_count": 33,
   "metadata": {},
   "outputs": [],
   "source": [
    "import xgboost as xgb\n",
    "# from sklearn.metrics import mean_squared_error\n",
    "# import pandas as pd\n",
    "# import numpy as np"
   ]
  },
  {
   "cell_type": "code",
   "execution_count": 34,
   "metadata": {},
   "outputs": [
    {
     "name": "stdout",
     "output_type": "stream",
     "text": [
      "[18:27:43] WARNING: C:/Jenkins/workspace/xgboost-win64_release_0.90/src/objective/regression_obj.cu:152: reg:linear is now deprecated in favor of reg:squarederror.\n"
     ]
    },
    {
     "data": {
      "text/plain": [
       "XGBRegressor(base_score=0.5, booster='gbtree', colsample_bylevel=1,\n",
       "             colsample_bynode=1, colsample_bytree=1, gamma=0,\n",
       "             importance_type='gain', learning_rate=0.1, max_delta_step=0,\n",
       "             max_depth=3, min_child_weight=1, missing=None, n_estimators=100,\n",
       "             n_jobs=1, nthread=None, objective='reg:linear', random_state=0,\n",
       "             reg_alpha=0, reg_lambda=1, scale_pos_weight=1, seed=None,\n",
       "             silent=None, subsample=1, verbosity=1)"
      ]
     },
     "execution_count": 34,
     "metadata": {},
     "output_type": "execute_result"
    }
   ],
   "source": [
    "xg_reg = xgb.XGBRegressor()\n",
    "# xg_reg = xgb.XGBRegressor(objective ='reg:linear', colsample_bytree = 0.3, \n",
    "#                           learning_rate = 0.1,max_depth = 5, alpha = 10, n_estimators = 10)\n",
    "xg_reg.fit(xtrain, ytrain) "
   ]
  },
  {
   "cell_type": "code",
   "execution_count": 35,
   "metadata": {},
   "outputs": [
    {
     "name": "stdout",
     "output_type": "stream",
     "text": [
      "mean_squared_error 0.06047254984303241\n",
      "root mean_squared_error 0.24591167081501522\n",
      "mean_absolute_error 0.17016816990627345\n",
      "r2_score 0.6537381425168824\n"
     ]
    }
   ],
   "source": [
    "\n",
    "ypred = xg_reg.predict(xtest)\n",
    "\n",
    "import math\n",
    "print('mean_squared_error',mean_squared_error(ytest, ypred))\n",
    "print('root mean_squared_error',math.sqrt(mean_squared_error(ytest, ypred)))\n",
    "print('mean_absolute_error',mean_absolute_error(ytest, ypred))\n",
    "print('r2_score',r2_score(ytest, ypred))\n",
    "\n",
    "# ypredPD=pd.DataFrame()\n",
    "# ypredPD['t']=xtest['S000501_x'].values\n",
    "# ypredPD['t + 1']=ytest.values\n",
    "# ypredPD['pred (t +1)']=ypred\n",
    "# ypredPD.head(10)"
   ]
  },
  {
   "cell_type": "code",
   "execution_count": 36,
   "metadata": {},
   "outputs": [],
   "source": [
    "# ytest[ytest.isna()].shape\n",
    "# tempdata.iloc[:,-1]"
   ]
  },
  {
   "cell_type": "markdown",
   "metadata": {},
   "source": [
    "ANN\n",
    "=========="
   ]
  },
  {
   "cell_type": "code",
   "execution_count": 45,
   "metadata": {},
   "outputs": [
    {
     "name": "stderr",
     "output_type": "stream",
     "text": [
      "W1003 18:30:23.678489 12576 deprecation.py:506] From C:\\ProgramData\\Anaconda3\\lib\\site-packages\\keras\\backend\\tensorflow_backend.py:3445: calling dropout (from tensorflow.python.ops.nn_ops) with keep_prob is deprecated and will be removed in a future version.\n",
      "Instructions for updating:\n",
      "Please use `rate` instead of `keep_prob`. Rate should be set to `rate = 1 - keep_prob`.\n"
     ]
    }
   ],
   "source": [
    "model= Sequential()\n",
    "model.add(Dense(input_dim=32,units=128,activation='relu', kernel_initializer='uniform'))\n",
    "model.add(Dense(units=128, activation='relu', kernel_initializer='uniform')) \n",
    "model.add(BatchNormalization())\n",
    "model.add(Dropout(0.25))  \n",
    "model.add(Dense(units=64, activation='relu', kernel_initializer='uniform'))\n",
    "model.add(Dense(units=32, activation='relu', kernel_initializer='uniform')) \n",
    "model.add(BatchNormalization())\n",
    "model.add(Dropout(0.25))  \n",
    "model.add(Dense(units=16, activation='relu', kernel_initializer='uniform'))\n",
    "model.add(BatchNormalization())\n",
    "model.add(Dropout(0.25))  \n",
    "model.add(Dense(units=8, activation='relu', kernel_initializer='uniform'))\n",
    "model.add(Dense(units=1, kernel_initializer='uniform'))\n",
    "model.compile(loss='mean_squared_error', optimizer='Nadam', metrics=['mean_squared_error' ])"
   ]
  },
  {
   "cell_type": "code",
   "execution_count": 46,
   "metadata": {
    "scrolled": true
   },
   "outputs": [
    {
     "name": "stdout",
     "output_type": "stream",
     "text": [
      "Train on 25781 samples, validate on 6446 samples\n",
      "Epoch 1/100\n",
      "25781/25781 [==============================] - 2s 67us/step - loss: 4.3544 - mean_squared_error: 4.3544 - val_loss: 0.6419 - val_mean_squared_error: 0.6419\n",
      "Epoch 2/100\n",
      "25781/25781 [==============================] - 1s 33us/step - loss: 0.9160 - mean_squared_error: 0.9160 - val_loss: 0.2066 - val_mean_squared_error: 0.2066\n",
      "Epoch 3/100\n",
      "25781/25781 [==============================] - 1s 33us/step - loss: 0.5706 - mean_squared_error: 0.5706 - val_loss: 0.1805 - val_mean_squared_error: 0.1805\n",
      "Epoch 4/100\n",
      "25781/25781 [==============================] - 1s 34us/step - loss: 0.3520 - mean_squared_error: 0.3520 - val_loss: 0.1547 - val_mean_squared_error: 0.1547\n",
      "Epoch 5/100\n",
      "25781/25781 [==============================] - 1s 33us/step - loss: 0.2344 - mean_squared_error: 0.2344 - val_loss: 0.3256 - val_mean_squared_error: 0.3256\n",
      "Epoch 6/100\n",
      "25781/25781 [==============================] - 1s 34us/step - loss: 0.1856 - mean_squared_error: 0.1856 - val_loss: 0.1508 - val_mean_squared_error: 0.1508\n",
      "Epoch 7/100\n",
      "25781/25781 [==============================] - 1s 33us/step - loss: 0.1564 - mean_squared_error: 0.1564 - val_loss: 0.1267 - val_mean_squared_error: 0.1267\n",
      "Epoch 8/100\n",
      "25781/25781 [==============================] - 1s 33us/step - loss: 0.1439 - mean_squared_error: 0.1439 - val_loss: 0.1139 - val_mean_squared_error: 0.1139\n",
      "Epoch 9/100\n",
      "25781/25781 [==============================] - 1s 33us/step - loss: 0.1361 - mean_squared_error: 0.1361 - val_loss: 0.1214 - val_mean_squared_error: 0.1214\n",
      "Epoch 10/100\n",
      "25781/25781 [==============================] - 1s 33us/step - loss: 0.1302 - mean_squared_error: 0.1302 - val_loss: 0.1088 - val_mean_squared_error: 0.1088\n",
      "Epoch 11/100\n",
      "25781/25781 [==============================] - 1s 33us/step - loss: 0.1242 - mean_squared_error: 0.1242 - val_loss: 2.2118 - val_mean_squared_error: 2.2118\n",
      "Epoch 12/100\n",
      "25781/25781 [==============================] - 1s 33us/step - loss: 0.1137 - mean_squared_error: 0.1137 - val_loss: 0.2217 - val_mean_squared_error: 0.2217\n",
      "Epoch 13/100\n",
      "25781/25781 [==============================] - 1s 32us/step - loss: 0.1396 - mean_squared_error: 0.1396 - val_loss: 0.2219 - val_mean_squared_error: 0.2219\n",
      "Epoch 14/100\n",
      "25781/25781 [==============================] - 1s 33us/step - loss: 0.1310 - mean_squared_error: 0.1310 - val_loss: 0.5527 - val_mean_squared_error: 0.5527\n",
      "Epoch 15/100\n",
      "25781/25781 [==============================] - 1s 33us/step - loss: 0.1130 - mean_squared_error: 0.1130 - val_loss: 0.4748 - val_mean_squared_error: 0.4748\n",
      "Epoch 16/100\n",
      "25781/25781 [==============================] - 1s 32us/step - loss: 0.1087 - mean_squared_error: 0.1087 - val_loss: 0.0881 - val_mean_squared_error: 0.0881\n",
      "Epoch 17/100\n",
      "25781/25781 [==============================] - 1s 32us/step - loss: 0.1054 - mean_squared_error: 0.1054 - val_loss: 0.1630 - val_mean_squared_error: 0.1630\n",
      "Epoch 18/100\n",
      "25781/25781 [==============================] - 1s 33us/step - loss: 0.1033 - mean_squared_error: 0.1033 - val_loss: 0.0800 - val_mean_squared_error: 0.0800\n",
      "Epoch 19/100\n",
      "25781/25781 [==============================] - 1s 32us/step - loss: 0.1033 - mean_squared_error: 0.1033 - val_loss: 0.0758 - val_mean_squared_error: 0.0758\n",
      "Epoch 20/100\n",
      "25781/25781 [==============================] - 1s 32us/step - loss: 0.1020 - mean_squared_error: 0.1020 - val_loss: 0.7099 - val_mean_squared_error: 0.7099\n",
      "Epoch 21/100\n",
      "25781/25781 [==============================] - 1s 32us/step - loss: 0.0994 - mean_squared_error: 0.0994 - val_loss: 0.2192 - val_mean_squared_error: 0.2192\n",
      "Epoch 22/100\n",
      "25781/25781 [==============================] - 1s 33us/step - loss: 0.0982 - mean_squared_error: 0.0982 - val_loss: 0.1658 - val_mean_squared_error: 0.1658\n",
      "Epoch 23/100\n",
      "25781/25781 [==============================] - 1s 32us/step - loss: 0.0984 - mean_squared_error: 0.0984 - val_loss: 0.7522 - val_mean_squared_error: 0.7522\n",
      "Epoch 24/100\n",
      "25781/25781 [==============================] - 1s 33us/step - loss: 0.0962 - mean_squared_error: 0.0962 - val_loss: 0.7042 - val_mean_squared_error: 0.7042\n",
      "Epoch 25/100\n",
      "25781/25781 [==============================] - 1s 32us/step - loss: 0.0963 - mean_squared_error: 0.0963 - val_loss: 0.2626 - val_mean_squared_error: 0.2626\n",
      "Epoch 26/100\n",
      "25781/25781 [==============================] - 1s 32us/step - loss: 0.0942 - mean_squared_error: 0.0942 - val_loss: 0.3425 - val_mean_squared_error: 0.3425\n",
      "Epoch 27/100\n",
      "25781/25781 [==============================] - 1s 32us/step - loss: 0.0971 - mean_squared_error: 0.0971 - val_loss: 0.0927 - val_mean_squared_error: 0.0927\n",
      "Epoch 28/100\n",
      "25781/25781 [==============================] - 1s 33us/step - loss: 0.0925 - mean_squared_error: 0.0925 - val_loss: 0.0996 - val_mean_squared_error: 0.0996\n",
      "Epoch 29/100\n",
      "25781/25781 [==============================] - 1s 32us/step - loss: 0.0956 - mean_squared_error: 0.0956 - val_loss: 0.0798 - val_mean_squared_error: 0.0798\n",
      "Epoch 30/100\n",
      "25781/25781 [==============================] - 1s 33us/step - loss: 0.0939 - mean_squared_error: 0.0939 - val_loss: 0.1493 - val_mean_squared_error: 0.1493\n",
      "Epoch 31/100\n",
      "25781/25781 [==============================] - 1s 33us/step - loss: 0.0934 - mean_squared_error: 0.0934 - val_loss: 0.1379 - val_mean_squared_error: 0.1379\n",
      "Epoch 32/100\n",
      "25781/25781 [==============================] - 1s 32us/step - loss: 0.0911 - mean_squared_error: 0.0911 - val_loss: 0.0820 - val_mean_squared_error: 0.0820\n",
      "Epoch 33/100\n",
      "25781/25781 [==============================] - 1s 32us/step - loss: 0.0887 - mean_squared_error: 0.0887 - val_loss: 0.2096 - val_mean_squared_error: 0.2096\n",
      "Epoch 34/100\n",
      "25781/25781 [==============================] - 1s 33us/step - loss: 0.0890 - mean_squared_error: 0.0890 - val_loss: 0.0865 - val_mean_squared_error: 0.0865\n",
      "Epoch 35/100\n",
      "25781/25781 [==============================] - 1s 32us/step - loss: 0.0927 - mean_squared_error: 0.0927 - val_loss: 0.0704 - val_mean_squared_error: 0.0704\n",
      "Epoch 36/100\n",
      "25781/25781 [==============================] - 1s 33us/step - loss: 0.0913 - mean_squared_error: 0.0913 - val_loss: 0.0818 - val_mean_squared_error: 0.0818\n",
      "Epoch 37/100\n",
      "25781/25781 [==============================] - 1s 32us/step - loss: 0.0916 - mean_squared_error: 0.0916 - val_loss: 0.1219 - val_mean_squared_error: 0.1219\n",
      "Epoch 38/100\n",
      "25781/25781 [==============================] - 1s 33us/step - loss: 0.0932 - mean_squared_error: 0.0932 - val_loss: 0.0748 - val_mean_squared_error: 0.0748\n",
      "Epoch 39/100\n",
      "25781/25781 [==============================] - 1s 33us/step - loss: 0.0939 - mean_squared_error: 0.0939 - val_loss: 0.0780 - val_mean_squared_error: 0.0780\n",
      "Epoch 40/100\n",
      "25781/25781 [==============================] - 1s 33us/step - loss: 0.0918 - mean_squared_error: 0.0918 - val_loss: 0.1645 - val_mean_squared_error: 0.1645\n",
      "Epoch 41/100\n",
      "25781/25781 [==============================] - 1s 32us/step - loss: 0.0933 - mean_squared_error: 0.0933 - val_loss: 0.2125 - val_mean_squared_error: 0.2125\n",
      "Epoch 42/100\n",
      "25781/25781 [==============================] - 1s 33us/step - loss: 0.0910 - mean_squared_error: 0.0910 - val_loss: 0.1061 - val_mean_squared_error: 0.1061\n",
      "Epoch 43/100\n",
      "25781/25781 [==============================] - 1s 32us/step - loss: 0.0868 - mean_squared_error: 0.0868 - val_loss: 0.0949 - val_mean_squared_error: 0.0949\n",
      "Epoch 44/100\n",
      "25781/25781 [==============================] - 1s 32us/step - loss: 0.0896 - mean_squared_error: 0.0896 - val_loss: 0.0999 - val_mean_squared_error: 0.0999\n",
      "Epoch 45/100\n",
      "25781/25781 [==============================] - 1s 32us/step - loss: 0.0870 - mean_squared_error: 0.0870 - val_loss: 0.1014 - val_mean_squared_error: 0.1014\n",
      "Epoch 46/100\n",
      "25781/25781 [==============================] - 1s 33us/step - loss: 0.0883 - mean_squared_error: 0.0883 - val_loss: 0.1803 - val_mean_squared_error: 0.1803\n",
      "Epoch 47/100\n",
      "25781/25781 [==============================] - 1s 32us/step - loss: 0.0898 - mean_squared_error: 0.0898 - val_loss: 0.1239 - val_mean_squared_error: 0.1239\n",
      "Epoch 48/100\n",
      "25781/25781 [==============================] - 1s 32us/step - loss: 0.0872 - mean_squared_error: 0.0872 - val_loss: 0.1529 - val_mean_squared_error: 0.1529\n",
      "Epoch 49/100\n",
      "25781/25781 [==============================] - 1s 33us/step - loss: 0.0875 - mean_squared_error: 0.0875 - val_loss: 0.0694 - val_mean_squared_error: 0.0694\n",
      "Epoch 50/100\n",
      "25781/25781 [==============================] - 1s 32us/step - loss: 0.0888 - mean_squared_error: 0.0888 - val_loss: 0.0867 - val_mean_squared_error: 0.0867\n",
      "Epoch 51/100\n",
      "25781/25781 [==============================] - 1s 33us/step - loss: 0.0910 - mean_squared_error: 0.0910 - val_loss: 0.1933 - val_mean_squared_error: 0.1933\n",
      "Epoch 52/100\n",
      "25781/25781 [==============================] - 1s 32us/step - loss: 0.0883 - mean_squared_error: 0.0883 - val_loss: 0.0857 - val_mean_squared_error: 0.0857\n",
      "Epoch 53/100\n",
      "25781/25781 [==============================] - 1s 32us/step - loss: 0.0875 - mean_squared_error: 0.0875 - val_loss: 0.1011 - val_mean_squared_error: 0.1011\n",
      "Epoch 54/100\n",
      "25781/25781 [==============================] - 1s 32us/step - loss: 0.0878 - mean_squared_error: 0.0878 - val_loss: 0.0889 - val_mean_squared_error: 0.0889\n",
      "Epoch 55/100\n",
      "25781/25781 [==============================] - 1s 32us/step - loss: 0.0865 - mean_squared_error: 0.0865 - val_loss: 0.0713 - val_mean_squared_error: 0.0713\n",
      "Epoch 56/100\n",
      "25781/25781 [==============================] - 1s 32us/step - loss: 0.0876 - mean_squared_error: 0.0876 - val_loss: 0.0701 - val_mean_squared_error: 0.0701\n",
      "Epoch 57/100\n",
      "25781/25781 [==============================] - 1s 33us/step - loss: 0.0868 - mean_squared_error: 0.0868 - val_loss: 0.1019 - val_mean_squared_error: 0.1019\n",
      "Epoch 58/100\n",
      "25781/25781 [==============================] - 1s 32us/step - loss: 0.0868 - mean_squared_error: 0.0868 - val_loss: 0.0805 - val_mean_squared_error: 0.0805\n",
      "Epoch 59/100\n",
      "25781/25781 [==============================] - 1s 32us/step - loss: 0.0865 - mean_squared_error: 0.0865 - val_loss: 0.0788 - val_mean_squared_error: 0.0788\n",
      "Epoch 60/100\n",
      "25781/25781 [==============================] - 1s 32us/step - loss: 0.0887 - mean_squared_error: 0.0887 - val_loss: 0.1114 - val_mean_squared_error: 0.1114\n",
      "Epoch 61/100\n",
      "25781/25781 [==============================] - 1s 33us/step - loss: 0.0871 - mean_squared_error: 0.0871 - val_loss: 0.0952 - val_mean_squared_error: 0.0952\n",
      "Epoch 62/100\n",
      "25781/25781 [==============================] - 1s 32us/step - loss: 0.0868 - mean_squared_error: 0.0868 - val_loss: 0.1326 - val_mean_squared_error: 0.1326\n",
      "Epoch 63/100\n",
      "25781/25781 [==============================] - 1s 32us/step - loss: 0.0861 - mean_squared_error: 0.0861 - val_loss: 0.0727 - val_mean_squared_error: 0.0727\n",
      "Epoch 64/100\n",
      "25781/25781 [==============================] - 1s 32us/step - loss: 0.0845 - mean_squared_error: 0.0845 - val_loss: 0.0796 - val_mean_squared_error: 0.0796\n",
      "Epoch 65/100\n",
      "25781/25781 [==============================] - 1s 32us/step - loss: 0.0882 - mean_squared_error: 0.0882 - val_loss: 0.0722 - val_mean_squared_error: 0.0722\n",
      "Epoch 66/100\n",
      "25781/25781 [==============================] - 1s 33us/step - loss: 0.0875 - mean_squared_error: 0.0875 - val_loss: 0.0736 - val_mean_squared_error: 0.0736\n",
      "Epoch 67/100\n",
      "25781/25781 [==============================] - 1s 32us/step - loss: 0.0851 - mean_squared_error: 0.0851 - val_loss: 0.0743 - val_mean_squared_error: 0.0743\n",
      "Epoch 68/100\n",
      "25781/25781 [==============================] - 1s 33us/step - loss: 0.0877 - mean_squared_error: 0.0877 - val_loss: 0.1140 - val_mean_squared_error: 0.1140\n",
      "Epoch 69/100\n",
      "25781/25781 [==============================] - 1s 33us/step - loss: 0.0877 - mean_squared_error: 0.0877 - val_loss: 0.0733 - val_mean_squared_error: 0.0733\n",
      "Epoch 70/100\n",
      "25781/25781 [==============================] - 1s 32us/step - loss: 0.0828 - mean_squared_error: 0.0828 - val_loss: 0.0782 - val_mean_squared_error: 0.0782\n",
      "Epoch 71/100\n",
      "25781/25781 [==============================] - 1s 32us/step - loss: 0.0859 - mean_squared_error: 0.0859 - val_loss: 0.0979 - val_mean_squared_error: 0.0979\n",
      "Epoch 72/100\n",
      "25781/25781 [==============================] - 1s 32us/step - loss: 0.0839 - mean_squared_error: 0.0839 - val_loss: 0.0803 - val_mean_squared_error: 0.0803\n",
      "Epoch 73/100\n",
      "25781/25781 [==============================] - 1s 32us/step - loss: 0.0849 - mean_squared_error: 0.0849 - val_loss: 0.0841 - val_mean_squared_error: 0.0841\n",
      "Epoch 74/100\n",
      "25781/25781 [==============================] - 1s 32us/step - loss: 0.0861 - mean_squared_error: 0.0861 - val_loss: 0.0739 - val_mean_squared_error: 0.0739\n",
      "Epoch 75/100\n",
      "25781/25781 [==============================] - 1s 32us/step - loss: 0.0872 - mean_squared_error: 0.0872 - val_loss: 0.0804 - val_mean_squared_error: 0.0804\n",
      "Epoch 76/100\n",
      "25781/25781 [==============================] - 1s 32us/step - loss: 0.0829 - mean_squared_error: 0.0829 - val_loss: 0.0904 - val_mean_squared_error: 0.0904\n",
      "Epoch 77/100\n",
      "25781/25781 [==============================] - 1s 33us/step - loss: 0.0863 - mean_squared_error: 0.0863 - val_loss: 0.0636 - val_mean_squared_error: 0.0636\n",
      "Epoch 78/100\n",
      "25781/25781 [==============================] - 1s 32us/step - loss: 0.0823 - mean_squared_error: 0.0823 - val_loss: 0.0796 - val_mean_squared_error: 0.0796\n",
      "Epoch 79/100\n",
      "25781/25781 [==============================] - 1s 34us/step - loss: 0.0867 - mean_squared_error: 0.0867 - val_loss: 0.0911 - val_mean_squared_error: 0.0911\n",
      "Epoch 80/100\n",
      "25781/25781 [==============================] - 1s 33us/step - loss: 0.0830 - mean_squared_error: 0.0830 - val_loss: 0.0763 - val_mean_squared_error: 0.0763\n",
      "Epoch 81/100\n",
      "25781/25781 [==============================] - 1s 34us/step - loss: 0.0821 - mean_squared_error: 0.0821 - val_loss: 0.0833 - val_mean_squared_error: 0.0833\n",
      "Epoch 82/100\n",
      "25781/25781 [==============================] - 1s 33us/step - loss: 0.0837 - mean_squared_error: 0.0837 - val_loss: 0.1150 - val_mean_squared_error: 0.1150\n",
      "Epoch 83/100\n",
      "25781/25781 [==============================] - 1s 33us/step - loss: 0.0806 - mean_squared_error: 0.0806 - val_loss: 0.0769 - val_mean_squared_error: 0.0769\n",
      "Epoch 84/100\n",
      "25781/25781 [==============================] - 1s 34us/step - loss: 0.0812 - mean_squared_error: 0.0812 - val_loss: 0.0802 - val_mean_squared_error: 0.0802\n",
      "Epoch 85/100\n",
      "25781/25781 [==============================] - 1s 34us/step - loss: 0.0819 - mean_squared_error: 0.0819 - val_loss: 0.0852 - val_mean_squared_error: 0.0852\n",
      "Epoch 86/100\n",
      "25781/25781 [==============================] - 1s 33us/step - loss: 0.0805 - mean_squared_error: 0.0805 - val_loss: 0.1205 - val_mean_squared_error: 0.1205\n",
      "Epoch 87/100\n",
      "25781/25781 [==============================] - 1s 33us/step - loss: 0.0848 - mean_squared_error: 0.0848 - val_loss: 0.0779 - val_mean_squared_error: 0.0779\n",
      "Epoch 88/100\n",
      "25781/25781 [==============================] - 1s 33us/step - loss: 0.0830 - mean_squared_error: 0.0830 - val_loss: 0.0719 - val_mean_squared_error: 0.0719\n",
      "Epoch 89/100\n",
      "25781/25781 [==============================] - 1s 33us/step - loss: 0.0826 - mean_squared_error: 0.0826 - val_loss: 0.0806 - val_mean_squared_error: 0.0806\n",
      "Epoch 90/100\n",
      "25781/25781 [==============================] - 1s 33us/step - loss: 0.0820 - mean_squared_error: 0.0820 - val_loss: 0.0827 - val_mean_squared_error: 0.0827\n",
      "Epoch 91/100\n",
      "25781/25781 [==============================] - 1s 32us/step - loss: 0.0832 - mean_squared_error: 0.0832 - val_loss: 0.0785 - val_mean_squared_error: 0.0785\n",
      "Epoch 92/100\n",
      "25781/25781 [==============================] - 1s 32us/step - loss: 0.0845 - mean_squared_error: 0.0845 - val_loss: 0.0721 - val_mean_squared_error: 0.0721\n",
      "Epoch 93/100\n",
      "25781/25781 [==============================] - 1s 33us/step - loss: 0.0854 - mean_squared_error: 0.0854 - val_loss: 0.1087 - val_mean_squared_error: 0.1087\n",
      "Epoch 94/100\n",
      "25781/25781 [==============================] - 1s 33us/step - loss: 0.0825 - mean_squared_error: 0.0825 - val_loss: 0.0829 - val_mean_squared_error: 0.0829\n",
      "Epoch 95/100\n",
      "25781/25781 [==============================] - 1s 32us/step - loss: 0.0828 - mean_squared_error: 0.0828 - val_loss: 0.0868 - val_mean_squared_error: 0.0868\n",
      "Epoch 96/100\n",
      "25781/25781 [==============================] - 1s 33us/step - loss: 0.0845 - mean_squared_error: 0.0845 - val_loss: 0.1117 - val_mean_squared_error: 0.1117\n",
      "Epoch 97/100\n"
     ]
    },
    {
     "name": "stdout",
     "output_type": "stream",
     "text": [
      "25781/25781 [==============================] - 1s 32us/step - loss: 0.0810 - mean_squared_error: 0.0810 - val_loss: 0.0771 - val_mean_squared_error: 0.0771\n",
      "Epoch 98/100\n",
      "25781/25781 [==============================] - 1s 33us/step - loss: 0.0821 - mean_squared_error: 0.0821 - val_loss: 0.0745 - val_mean_squared_error: 0.0745\n",
      "Epoch 99/100\n",
      "25781/25781 [==============================] - 1s 33us/step - loss: 0.0823 - mean_squared_error: 0.0823 - val_loss: 0.0809 - val_mean_squared_error: 0.0809\n",
      "Epoch 100/100\n",
      "25781/25781 [==============================] - 1s 32us/step - loss: 0.0813 - mean_squared_error: 0.0813 - val_loss: 0.0741 - val_mean_squared_error: 0.0741\n"
     ]
    }
   ],
   "source": [
    "h=model.fit(xtrain, ytrain, validation_split=.2,epochs=100, batch_size=50)"
   ]
  },
  {
   "cell_type": "code",
   "execution_count": 51,
   "metadata": {},
   "outputs": [
    {
     "name": "stdout",
     "output_type": "stream",
     "text": [
      "mean_squared_error 0.07330340021925985\n",
      "root mean_squared_error 0.27074600683899264\n",
      "mean_absolute_error 0.18470071567944\n",
      "r2_score 0.5802695341004578\n"
     ]
    },
    {
     "data": {
      "text/html": [
       "<div>\n",
       "<style scoped>\n",
       "    .dataframe tbody tr th:only-of-type {\n",
       "        vertical-align: middle;\n",
       "    }\n",
       "\n",
       "    .dataframe tbody tr th {\n",
       "        vertical-align: top;\n",
       "    }\n",
       "\n",
       "    .dataframe thead th {\n",
       "        text-align: right;\n",
       "    }\n",
       "</style>\n",
       "<table border=\"1\" class=\"dataframe\">\n",
       "  <thead>\n",
       "    <tr style=\"text-align: right;\">\n",
       "      <th></th>\n",
       "      <th>t + 1</th>\n",
       "      <th>pred (t +1)</th>\n",
       "    </tr>\n",
       "  </thead>\n",
       "  <tbody>\n",
       "    <tr>\n",
       "      <th>0</th>\n",
       "      <td>5.38</td>\n",
       "      <td>5.623650</td>\n",
       "    </tr>\n",
       "    <tr>\n",
       "      <th>1</th>\n",
       "      <td>5.11</td>\n",
       "      <td>5.308823</td>\n",
       "    </tr>\n",
       "    <tr>\n",
       "      <th>2</th>\n",
       "      <td>5.00</td>\n",
       "      <td>5.283126</td>\n",
       "    </tr>\n",
       "    <tr>\n",
       "      <th>3</th>\n",
       "      <td>6.14</td>\n",
       "      <td>5.751937</td>\n",
       "    </tr>\n",
       "    <tr>\n",
       "      <th>4</th>\n",
       "      <td>5.19</td>\n",
       "      <td>5.426460</td>\n",
       "    </tr>\n",
       "    <tr>\n",
       "      <th>5</th>\n",
       "      <td>5.12</td>\n",
       "      <td>5.279867</td>\n",
       "    </tr>\n",
       "    <tr>\n",
       "      <th>6</th>\n",
       "      <td>5.10</td>\n",
       "      <td>5.268731</td>\n",
       "    </tr>\n",
       "    <tr>\n",
       "      <th>7</th>\n",
       "      <td>5.30</td>\n",
       "      <td>5.369132</td>\n",
       "    </tr>\n",
       "    <tr>\n",
       "      <th>8</th>\n",
       "      <td>5.26</td>\n",
       "      <td>5.285102</td>\n",
       "    </tr>\n",
       "    <tr>\n",
       "      <th>9</th>\n",
       "      <td>5.71</td>\n",
       "      <td>5.509433</td>\n",
       "    </tr>\n",
       "  </tbody>\n",
       "</table>\n",
       "</div>"
      ],
      "text/plain": [
       "   t + 1  pred (t +1)\n",
       "0   5.38     5.623650\n",
       "1   5.11     5.308823\n",
       "2   5.00     5.283126\n",
       "3   6.14     5.751937\n",
       "4   5.19     5.426460\n",
       "5   5.12     5.279867\n",
       "6   5.10     5.268731\n",
       "7   5.30     5.369132\n",
       "8   5.26     5.285102\n",
       "9   5.71     5.509433"
      ]
     },
     "execution_count": 51,
     "metadata": {},
     "output_type": "execute_result"
    }
   ],
   "source": [
    "ypred=model.predict(xtest)\n",
    "\n",
    "import math\n",
    "print('mean_squared_error',mean_squared_error(ytest, ypred))\n",
    "print('root mean_squared_error',math.sqrt(mean_squared_error(ytest, ypred)))\n",
    "print('mean_absolute_error',mean_absolute_error(ytest, ypred))\n",
    "print('r2_score',r2_score(ytest, ypred))\n",
    "\n",
    "ypredPD=pd.DataFrame()\n",
    "# ypredPD['t']=xtest['S000501_x'].values\n",
    "ypredPD['t + 1']=ytest.values.ravel()\n",
    "ypredPD['pred (t +1)']=ypred\n",
    "ypredPD.head(10)"
   ]
  },
  {
   "cell_type": "code",
   "execution_count": 52,
   "metadata": {},
   "outputs": [
    {
     "name": "stdout",
     "output_type": "stream",
     "text": [
      "dict_keys(['val_loss', 'val_mean_squared_error', 'loss', 'mean_squared_error'])\n"
     ]
    },
    {
     "data": {
      "image/png": "[encoded data removed]",
      "text/plain": [
       "<Figure size 432x288 with 1 Axes>"
      ]
     },
     "metadata": {
      "needs_background": "light"
     },
     "output_type": "display_data"
    },
    {
     "data": {
      "image/png": "[encoded data removed]",
      "text/plain": [
       "<Figure size 432x288 with 1 Axes>"
      ]
     },
     "metadata": {
      "needs_background": "light"
     },
     "output_type": "display_data"
    }
   ],
   "source": [
    "history=h\n",
    "print(history.history.keys())\n",
    "# summarize history for accuracy\n",
    "plt.plot(history.history['val_loss'])\n",
    "plt.plot(history.history['loss'])\n",
    "plt.title('model accuracy')\n",
    "plt.ylabel('accuracy')\n",
    "plt.xlabel('epoch')\n",
    "plt.legend(['train', 'test'], loc='upper left')\n",
    "plt.show()\n",
    "# summarize history for loss\n",
    "plt.plot(history.history['val_mean_squared_error'])\n",
    "plt.plot(history.history['mean_squared_error'])\n",
    "plt.title('model loss')\n",
    "plt.ylabel('loss')\n",
    "plt.xlabel('epoch')\n",
    "plt.legend(['train', 'test'], loc='upper left')\n",
    "plt.show()"
   ]
  },
  {
   "cell_type": "code",
   "execution_count": 53,
   "metadata": {},
   "outputs": [
    {
     "name": "stdout",
     "output_type": "stream",
     "text": [
      "0.18470071567944105\n",
      "0.1979622333849629\n",
      "99.98758843241902\n"
     ]
    }
   ],
   "source": [
    "ypredPD['diff']=abs(ypredPD['t + 1']- ypredPD['pred (t +1)'])\n",
    "print(np.mean(ypredPD['diff']))\n",
    "print(np.std(ypredPD['diff']))\n",
    "print(100*ypredPD[ypredPD['diff']<=5].shape[0]/ypredPD.shape[0])"
   ]
  },
  {
   "cell_type": "code",
   "execution_count": 54,
   "metadata": {},
   "outputs": [
    {
     "data": {
      "image/png": "[encoded data removed]",
      "text/plain": [
       "<Figure size 432x288 with 1 Axes>"
      ]
     },
     "metadata": {
      "needs_background": "light"
     },
     "output_type": "display_data"
    },
    {
     "data": {
      "text/html": [
       "<div>\n",
       "<style scoped>\n",
       "    .dataframe tbody tr th:only-of-type {\n",
       "        vertical-align: middle;\n",
       "    }\n",
       "\n",
       "    .dataframe tbody tr th {\n",
       "        vertical-align: top;\n",
       "    }\n",
       "\n",
       "    .dataframe thead th {\n",
       "        text-align: right;\n",
       "    }\n",
       "</style>\n",
       "<table border=\"1\" class=\"dataframe\">\n",
       "  <thead>\n",
       "    <tr style=\"text-align: right;\">\n",
       "      <th></th>\n",
       "      <th>t + 1</th>\n",
       "      <th>pred (t +1)</th>\n",
       "      <th>diff</th>\n",
       "    </tr>\n",
       "  </thead>\n",
       "  <tbody>\n",
       "    <tr>\n",
       "      <th>3036</th>\n",
       "      <td>4.30</td>\n",
       "      <td>5.033854</td>\n",
       "      <td>0.733854</td>\n",
       "    </tr>\n",
       "    <tr>\n",
       "      <th>575</th>\n",
       "      <td>4.30</td>\n",
       "      <td>5.081722</td>\n",
       "      <td>0.781722</td>\n",
       "    </tr>\n",
       "    <tr>\n",
       "      <th>4263</th>\n",
       "      <td>4.34</td>\n",
       "      <td>5.395401</td>\n",
       "      <td>1.055401</td>\n",
       "    </tr>\n",
       "    <tr>\n",
       "      <th>2003</th>\n",
       "      <td>4.35</td>\n",
       "      <td>5.189622</td>\n",
       "      <td>0.839622</td>\n",
       "    </tr>\n",
       "    <tr>\n",
       "      <th>3624</th>\n",
       "      <td>4.35</td>\n",
       "      <td>5.253095</td>\n",
       "      <td>0.903095</td>\n",
       "    </tr>\n",
       "    <tr>\n",
       "      <th>2553</th>\n",
       "      <td>4.49</td>\n",
       "      <td>5.180108</td>\n",
       "      <td>0.690108</td>\n",
       "    </tr>\n",
       "    <tr>\n",
       "      <th>6082</th>\n",
       "      <td>4.50</td>\n",
       "      <td>5.151280</td>\n",
       "      <td>0.651280</td>\n",
       "    </tr>\n",
       "    <tr>\n",
       "      <th>7970</th>\n",
       "      <td>4.59</td>\n",
       "      <td>5.367824</td>\n",
       "      <td>0.777824</td>\n",
       "    </tr>\n",
       "    <tr>\n",
       "      <th>2110</th>\n",
       "      <td>4.59</td>\n",
       "      <td>5.127114</td>\n",
       "      <td>0.537114</td>\n",
       "    </tr>\n",
       "    <tr>\n",
       "      <th>570</th>\n",
       "      <td>4.59</td>\n",
       "      <td>5.103750</td>\n",
       "      <td>0.513750</td>\n",
       "    </tr>\n",
       "  </tbody>\n",
       "</table>\n",
       "</div>"
      ],
      "text/plain": [
       "      t + 1  pred (t +1)      diff\n",
       "3036   4.30     5.033854  0.733854\n",
       "575    4.30     5.081722  0.781722\n",
       "4263   4.34     5.395401  1.055401\n",
       "2003   4.35     5.189622  0.839622\n",
       "3624   4.35     5.253095  0.903095\n",
       "2553   4.49     5.180108  0.690108\n",
       "6082   4.50     5.151280  0.651280\n",
       "7970   4.59     5.367824  0.777824\n",
       "2110   4.59     5.127114  0.537114\n",
       "570    4.59     5.103750  0.513750"
      ]
     },
     "execution_count": 54,
     "metadata": {},
     "output_type": "execute_result"
    },
    {
     "data": {
      "image/png": "[encoded data removed]",
      "text/plain": [
       "<Figure size 432x288 with 1 Axes>"
      ]
     },
     "metadata": {
      "needs_background": "light"
     },
     "output_type": "display_data"
    }
   ],
   "source": [
    "\n",
    "import matplotlib.patches as mpatches\n",
    "plt.ylabel('Values')\n",
    "plt.xlabel('index')\n",
    "red_patch = mpatches.Patch(color='red', label='Actual data')\n",
    "blue_patch = mpatches.Patch(color='blue', label='Predicted data')\n",
    "plt.legend(handles=[red_patch,blue_patch])\n",
    "\n",
    "ypredPD=ypredPD.sort_values(by=['t + 1'])\n",
    "plt.scatter(np.arange(0,ypredPD.shape[0],1),ypredPD['pred (t +1)'][:ypredPD.shape[0]])\n",
    "plt.plot(np.arange(0,ypredPD.shape[0],1),ypredPD['t + 1'][:ypredPD.shape[0]],color='red')\n",
    "plt.show()\n",
    "\n",
    "plt.ylabel('p*(t+1), Predicted data')\n",
    "plt.xlabel('p(t+1), Actual data')\n",
    "plt.scatter(ypredPD['t + 1'][:ypredPD.shape[0]],ypredPD['pred (t +1)'][:ypredPD.shape[0]])\n",
    "\n",
    "ypredPD.head(10)"
   ]
  },
  {
   "cell_type": "markdown",
   "metadata": {},
   "source": [
    "SVR\n",
    "======"
   ]
  },
  {
   "cell_type": "code",
   "execution_count": null,
   "metadata": {},
   "outputs": [],
   "source": [
    "from sklearn.svm import SVR\n",
    "# svr_rbf = SVR(kernel='rbf', C=10, gamma=0.02, epsilon=.001)\n",
    "svr_rbf = SVR(kernel='rbf')"
   ]
  },
  {
   "cell_type": "code",
   "execution_count": null,
   "metadata": {},
   "outputs": [],
   "source": [
    "svr_rbf.fit(xtrain, ytrain) "
   ]
  },
  {
   "cell_type": "code",
   "execution_count": null,
   "metadata": {},
   "outputs": [],
   "source": [
    "ypred=svr_rbf.predict(xtest)"
   ]
  },
  {
   "cell_type": "code",
   "execution_count": null,
   "metadata": {},
   "outputs": [],
   "source": [
    "import math\n",
    "print('mean_squared_error',mean_squared_error(ytest, ypred))\n",
    "print('root mean_squared_error',math.sqrt(mean_squared_error(ytest, ypred)))\n",
    "print('mean_absolute_error',mean_absolute_error(ytest, ypred))\n",
    "print('r2_score',r2_score(ytest, ypred))\n",
    "\n",
    "ypredPD=pd.DataFrame()\n",
    "# ypredPD['t']=xtest['S000501_x'].values\n",
    "ypredPD['t + 1']=ytest.values.ravel()\n",
    "ypredPD['pred (t +1)']=ypred\n",
    "ypredPD.head(10)"
   ]
  },
  {
   "cell_type": "code",
   "execution_count": null,
   "metadata": {},
   "outputs": [],
   "source": []
  },
  {
   "cell_type": "code",
   "execution_count": null,
   "metadata": {},
   "outputs": [],
   "source": []
  }
 ],
 "metadata": {
  "kernelspec": {
   "display_name": "Python 3",
   "language": "python",
   "name": "python3"
  },
  "language_info": {
   "codemirror_mode": {
    "name": "ipython",
    "version": 3
   },
   "file_extension": ".py",
   "mimetype": "text/x-python",
   "name": "python",
   "nbconvert_exporter": "python",
   "pygments_lexer": "ipython3",
   "version": "3.7.3"
  }
 },
 "nbformat": 4,
 "nbformat_minor": 2
}

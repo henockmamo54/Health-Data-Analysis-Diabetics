{
 "cells": [
  {
   "cell_type": "code",
   "execution_count": 1,
   "metadata": {},
   "outputs": [],
   "source": [
    "import numpy as np\n",
    "import pandas as pd \n",
    "import warnings\n",
    "warnings.filterwarnings('ignore')\n",
    "from scipy.stats import chi2_contingency\n",
    "from scipy import stats"
   ]
  },
  {
   "cell_type": "code",
   "execution_count": 2,
   "metadata": {},
   "outputs": [],
   "source": [
    "x=pd.read_csv('../../_xlable4_withNa_AllColumns.txt')\n",
    "y=pd.read_csv('../../_targelable4_withNa_AllColumns.txt')\n",
    "\n",
    "y=y[['Unnamed: 0','L101700', ]]"
   ]
  },
  {
   "cell_type": "code",
   "execution_count": 3,
   "metadata": {},
   "outputs": [],
   "source": [
    "data= pd.merge(x,y, how='inner',left_on='Unnamed: 0', right_on='Unnamed: 0')\n",
    "data['max']=np.min(data[['FIELD_6','FIELD_7']],axis=1)\n",
    "data=data.drop(columns=['FIELD_6','FIELD_7'])"
   ]
  },
  {
   "cell_type": "code",
   "execution_count": 4,
   "metadata": {},
   "outputs": [
    {
     "name": "stdout",
     "output_type": "stream",
     "text": [
      "(159381, 408)\n"
     ]
    }
   ],
   "source": [
    "# filter the data set \n",
    "data=data[data.FIELD_16!=1] # exclude people who are diagnosed for (diabetes) \n",
    "data=data[data.FIELD_23!=1] # exclude people who are on medication for diabetes\n",
    "\n",
    "data=data[data.FIELD_15!=1] # exclude people who are diagnosed for (high blood pressure)\n",
    "data=data[data.FIELD_22!=1] # exclude people who are on medication for high blood pressure\n",
    "\n",
    "data=data[data.FIELD_17!=1] # exclude people who are diagnosed for hyperlipidemia\n",
    "data=data[data.FIELD_24!=1] # exclude people who are on medication for hyperlipidemia\n",
    "\n",
    "print(data.shape)"
   ]
  },
  {
   "cell_type": "code",
   "execution_count": 5,
   "metadata": {},
   "outputs": [],
   "source": [
    "#split column types to categorical and numerical\n",
    "numerical_cols = list(data.columns[~data.columns.str.startswith('FIELD')])\n",
    "categorical_cols = list(data.columns[data.columns.str.startswith('FIELD')])"
   ]
  },
  {
   "cell_type": "markdown",
   "metadata": {},
   "source": [
    "Calculate correlation Value - for numerical values\n",
    "========"
   ]
  },
  {
   "cell_type": "code",
   "execution_count": 7,
   "metadata": {},
   "outputs": [
    {
     "data": {
      "text/html": [
       "<div>\n",
       "<style scoped>\n",
       "    .dataframe tbody tr th:only-of-type {\n",
       "        vertical-align: middle;\n",
       "    }\n",
       "\n",
       "    .dataframe tbody tr th {\n",
       "        vertical-align: top;\n",
       "    }\n",
       "\n",
       "    .dataframe thead th {\n",
       "        text-align: right;\n",
       "    }\n",
       "</style>\n",
       "<table border=\"1\" class=\"dataframe\">\n",
       "  <thead>\n",
       "    <tr style=\"text-align: right;\">\n",
       "      <th></th>\n",
       "      <th>Col</th>\n",
       "      <th>val</th>\n",
       "    </tr>\n",
       "  </thead>\n",
       "  <tbody>\n",
       "    <tr>\n",
       "      <th>134</th>\n",
       "      <td>L393800</td>\n",
       "      <td>1.000000</td>\n",
       "    </tr>\n",
       "    <tr>\n",
       "      <th>278</th>\n",
       "      <td>L101700_y</td>\n",
       "      <td>1.000000</td>\n",
       "    </tr>\n",
       "    <tr>\n",
       "      <th>214</th>\n",
       "      <td>S000400</td>\n",
       "      <td>0.913641</td>\n",
       "    </tr>\n",
       "    <tr>\n",
       "      <th>71</th>\n",
       "      <td>L122000</td>\n",
       "      <td>0.871856</td>\n",
       "    </tr>\n",
       "    <tr>\n",
       "      <th>19</th>\n",
       "      <td>L101700_x</td>\n",
       "      <td>0.839251</td>\n",
       "    </tr>\n",
       "  </tbody>\n",
       "</table>\n",
       "</div>"
      ],
      "text/plain": [
       "           Col       val\n",
       "134    L393800  1.000000\n",
       "278  L101700_y  1.000000\n",
       "214    S000400  0.913641\n",
       "71     L122000  0.871856\n",
       "19   L101700_x  0.839251"
      ]
     },
     "execution_count": 7,
     "metadata": {},
     "output_type": "execute_result"
    }
   ],
   "source": [
    "corr=data[numerical_cols].corr()\n",
    "corr=corr.L101700_y\n",
    "corrvalPD=pd.DataFrame()\n",
    "corrvalPD['Col']=corr.index\n",
    "corrvalPD['val']=abs(corr.values)\n",
    "\n",
    "corrvalPD=corrvalPD.sort_values(by='val',ascending=False)\n",
    "corrvalPD.head()"
   ]
  },
  {
   "cell_type": "code",
   "execution_count": 8,
   "metadata": {},
   "outputs": [
    {
     "data": {
      "text/html": [
       "<div>\n",
       "<style scoped>\n",
       "    .dataframe tbody tr th:only-of-type {\n",
       "        vertical-align: middle;\n",
       "    }\n",
       "\n",
       "    .dataframe tbody tr th {\n",
       "        vertical-align: top;\n",
       "    }\n",
       "\n",
       "    .dataframe thead th {\n",
       "        text-align: right;\n",
       "    }\n",
       "</style>\n",
       "<table border=\"1\" class=\"dataframe\">\n",
       "  <thead>\n",
       "    <tr style=\"text-align: right;\">\n",
       "      <th></th>\n",
       "      <th>Col</th>\n",
       "      <th>Count</th>\n",
       "    </tr>\n",
       "  </thead>\n",
       "  <tbody>\n",
       "    <tr>\n",
       "      <th>0</th>\n",
       "      <td>Unnamed: 0</td>\n",
       "      <td>159381</td>\n",
       "    </tr>\n",
       "    <tr>\n",
       "      <th>1</th>\n",
       "      <td>index</td>\n",
       "      <td>159381</td>\n",
       "    </tr>\n",
       "    <tr>\n",
       "      <th>2</th>\n",
       "      <td>COMPARE</td>\n",
       "      <td>159381</td>\n",
       "    </tr>\n",
       "    <tr>\n",
       "      <th>3</th>\n",
       "      <td>AGE</td>\n",
       "      <td>159381</td>\n",
       "    </tr>\n",
       "    <tr>\n",
       "      <th>4</th>\n",
       "      <td>B_DAY</td>\n",
       "      <td>159381</td>\n",
       "    </tr>\n",
       "  </tbody>\n",
       "</table>\n",
       "</div>"
      ],
      "text/plain": [
       "          Col   Count\n",
       "0  Unnamed: 0  159381\n",
       "1       index  159381\n",
       "2     COMPARE  159381\n",
       "3         AGE  159381\n",
       "4       B_DAY  159381"
      ]
     },
     "execution_count": 8,
     "metadata": {},
     "output_type": "execute_result"
    }
   ],
   "source": [
    "#count of none NA values of feature set\n",
    "mydataset=data.copy()[numerical_cols]\n",
    "colCount=[]\n",
    "for i in mydataset.columns:\n",
    "    colCount.append([i,mydataset[i].dropna().shape[0]])\n",
    "\n",
    "colCountPD=pd.DataFrame(colCount,columns=['Col','Count'])\n",
    "colCountPD.head()"
   ]
  },
  {
   "cell_type": "code",
   "execution_count": 9,
   "metadata": {},
   "outputs": [
    {
     "data": {
      "text/html": [
       "<div>\n",
       "<style scoped>\n",
       "    .dataframe tbody tr th:only-of-type {\n",
       "        vertical-align: middle;\n",
       "    }\n",
       "\n",
       "    .dataframe tbody tr th {\n",
       "        vertical-align: top;\n",
       "    }\n",
       "\n",
       "    .dataframe thead th {\n",
       "        text-align: right;\n",
       "    }\n",
       "</style>\n",
       "<table border=\"1\" class=\"dataframe\">\n",
       "  <thead>\n",
       "    <tr style=\"text-align: right;\">\n",
       "      <th></th>\n",
       "      <th>Col</th>\n",
       "      <th>val</th>\n",
       "      <th>Count</th>\n",
       "    </tr>\n",
       "  </thead>\n",
       "  <tbody>\n",
       "    <tr>\n",
       "      <th>1</th>\n",
       "      <td>L101700_y</td>\n",
       "      <td>1.000000</td>\n",
       "      <td>159048</td>\n",
       "    </tr>\n",
       "    <tr>\n",
       "      <th>4</th>\n",
       "      <td>L101700_x</td>\n",
       "      <td>0.839251</td>\n",
       "      <td>158951</td>\n",
       "    </tr>\n",
       "    <tr>\n",
       "      <th>18</th>\n",
       "      <td>L101300</td>\n",
       "      <td>0.346333</td>\n",
       "      <td>159247</td>\n",
       "    </tr>\n",
       "    <tr>\n",
       "      <th>21</th>\n",
       "      <td>L103000</td>\n",
       "      <td>0.335822</td>\n",
       "      <td>158939</td>\n",
       "    </tr>\n",
       "    <tr>\n",
       "      <th>25</th>\n",
       "      <td>SEX</td>\n",
       "      <td>0.298073</td>\n",
       "      <td>159381</td>\n",
       "    </tr>\n",
       "    <tr>\n",
       "      <th>26</th>\n",
       "      <td>L100700</td>\n",
       "      <td>0.294717</td>\n",
       "      <td>152474</td>\n",
       "    </tr>\n",
       "    <tr>\n",
       "      <th>30</th>\n",
       "      <td>L190400</td>\n",
       "      <td>0.277378</td>\n",
       "      <td>159241</td>\n",
       "    </tr>\n",
       "    <tr>\n",
       "      <th>32</th>\n",
       "      <td>L101200</td>\n",
       "      <td>0.274795</td>\n",
       "      <td>159247</td>\n",
       "    </tr>\n",
       "    <tr>\n",
       "      <th>33</th>\n",
       "      <td>L190500</td>\n",
       "      <td>0.268272</td>\n",
       "      <td>159204</td>\n",
       "    </tr>\n",
       "    <tr>\n",
       "      <th>35</th>\n",
       "      <td>S000300</td>\n",
       "      <td>0.254737</td>\n",
       "      <td>159075</td>\n",
       "    </tr>\n",
       "    <tr>\n",
       "      <th>38</th>\n",
       "      <td>S000501</td>\n",
       "      <td>0.233712</td>\n",
       "      <td>159305</td>\n",
       "    </tr>\n",
       "    <tr>\n",
       "      <th>39</th>\n",
       "      <td>L103300</td>\n",
       "      <td>0.233137</td>\n",
       "      <td>135222</td>\n",
       "    </tr>\n",
       "    <tr>\n",
       "      <th>40</th>\n",
       "      <td>L100800</td>\n",
       "      <td>0.228874</td>\n",
       "      <td>159236</td>\n",
       "    </tr>\n",
       "    <tr>\n",
       "      <th>41</th>\n",
       "      <td>S000502</td>\n",
       "      <td>0.228589</td>\n",
       "      <td>159305</td>\n",
       "    </tr>\n",
       "    <tr>\n",
       "      <th>43</th>\n",
       "      <td>L190300</td>\n",
       "      <td>0.220034</td>\n",
       "      <td>159204</td>\n",
       "    </tr>\n",
       "    <tr>\n",
       "      <th>45</th>\n",
       "      <td>L101600</td>\n",
       "      <td>0.203148</td>\n",
       "      <td>152251</td>\n",
       "    </tr>\n",
       "    <tr>\n",
       "      <th>46</th>\n",
       "      <td>S000100</td>\n",
       "      <td>0.196943</td>\n",
       "      <td>159302</td>\n",
       "    </tr>\n",
       "    <tr>\n",
       "      <th>47</th>\n",
       "      <td>L100500</td>\n",
       "      <td>0.191653</td>\n",
       "      <td>158954</td>\n",
       "    </tr>\n",
       "    <tr>\n",
       "      <th>53</th>\n",
       "      <td>L102900</td>\n",
       "      <td>0.172638</td>\n",
       "      <td>158941</td>\n",
       "    </tr>\n",
       "    <tr>\n",
       "      <th>55</th>\n",
       "      <td>L504700</td>\n",
       "      <td>0.169913</td>\n",
       "      <td>135994</td>\n",
       "    </tr>\n",
       "  </tbody>\n",
       "</table>\n",
       "</div>"
      ],
      "text/plain": [
       "          Col       val   Count\n",
       "1   L101700_y  1.000000  159048\n",
       "4   L101700_x  0.839251  158951\n",
       "18    L101300  0.346333  159247\n",
       "21    L103000  0.335822  158939\n",
       "25        SEX  0.298073  159381\n",
       "26    L100700  0.294717  152474\n",
       "30    L190400  0.277378  159241\n",
       "32    L101200  0.274795  159247\n",
       "33    L190500  0.268272  159204\n",
       "35    S000300  0.254737  159075\n",
       "38    S000501  0.233712  159305\n",
       "39    L103300  0.233137  135222\n",
       "40    L100800  0.228874  159236\n",
       "41    S000502  0.228589  159305\n",
       "43    L190300  0.220034  159204\n",
       "45    L101600  0.203148  152251\n",
       "46    S000100  0.196943  159302\n",
       "47    L100500  0.191653  158954\n",
       "53    L102900  0.172638  158941\n",
       "55    L504700  0.169913  135994"
      ]
     },
     "execution_count": 9,
     "metadata": {},
     "output_type": "execute_result"
    }
   ],
   "source": [
    "mergedColCorrCount=pd.merge(corrvalPD,colCountPD,how='inner',left_on='Col',right_on='Col')\n",
    "mergedColCorrCount=mergedColCorrCount[mergedColCorrCount.Count>50000]\n",
    "mergedColCorrCount=mergedColCorrCount.sort_values(by='val', ascending=False)\n",
    "mergedColCorrCount.head(20)"
   ]
  },
  {
   "cell_type": "code",
   "execution_count": 10,
   "metadata": {},
   "outputs": [
    {
     "name": "stdout",
     "output_type": "stream",
     "text": [
      "['L101700_y', 'L101700_x', 'L101300', 'L103000', 'SEX', 'L100700', 'L190400', 'L101200', 'L190500', 'S000300', 'S000501', 'L103300', 'L100800', 'S000502', 'L190300']\n"
     ]
    }
   ],
   "source": [
    "print(list(mergedColCorrCount.head(15).Col))"
   ]
  },
  {
   "cell_type": "markdown",
   "metadata": {},
   "source": [
    "Anova test - For categorical values [Questionnaire answers]\n",
    "======="
   ]
  },
  {
   "cell_type": "code",
   "execution_count": 11,
   "metadata": {},
   "outputs": [],
   "source": [
    "mydataset=data.copy()[categorical_cols] #[np.insert(categorical_cols,0,'L100800')]\n",
    "\n",
    "\n",
    "mydataset=mydataset.drop(columns=['FIELD_1','FIELD_2','FIELD_87','FIELD_8','FIELD_10','FIELD_11','FIELD_12','FIELD_39',\n",
    "                                  'FIELD_88','FIELD_89', 'FIELD_108','FIELD_109','FIELD_110','FIELD_111','FIELD_82',\n",
    "                                 'FIELD_91','FIELD_103','FIELD_118','FIELD_119','FIELD_120','FIELD_121','FIELD_122',\n",
    "                                 'FIELD_123','FIELD_124','FIELD_125','FIELD_126','FIELD_127','FIELD_128','FIELD_129',\n",
    "                                 'FIELD_130','FIELD_131','FIELD_132','FIELD_133','FIELD_134','FIELD_135','FIELD_136',\n",
    "                                  'FIELD_137','FIELD_138','FIELD_139','FIELD_140',\n",
    "                                  'FIELD_64','FIELD_65','FIELD_66','FIELD_67','FIELD_68','FIELD_69','FIELD_70','FIELD_72',\n",
    "                                  'FIELD_73','FIELD_74','FIELD_75','FIELD_76','FIELD_77','FIELD_80','FIELD_81','FIELD_84',\n",
    "                                  'FIELD_85','FIELD_90','FIELD_93','FIELD_94','FIELD_95','FIELD_96','FIELD_97','FIELD_98',\n",
    "                                  'FIELD_101','FIELD_102','FIELD_105','FIELD_106','FIELD_112','FIELD_113','FIELD_114',\n",
    "                                  'FIELD_115','FIELD_116','FIELD_117','FIELD_118','FIELD_119','FIELD_9'\n",
    "                                 ])\n",
    "\n",
    "\n",
    "mydataset=mydataset.drop(mydataset[mydataset.FIELD_3=='`'].index)\n",
    "mydataset=mydataset.drop(mydataset[mydataset.FIELD_3=='G'].index)\n",
    "\n",
    "\n",
    "mydataset=mydataset.drop(mydataset[mydataset.FIELD_4=='.'].index)\n",
    "mydataset=mydataset.drop(mydataset[mydataset.FIELD_5=='.'].index)\n",
    "\n",
    "mydataset=mydataset.drop(mydataset[mydataset.FIELD_35=='?'].index)\n",
    "mydataset=mydataset.drop(mydataset[mydataset.FIELD_35=='.'].index)\n",
    "mydataset=mydataset.drop(mydataset[mydataset.FIELD_36=='.'].index)\n",
    "mydataset=mydataset.drop(mydataset[mydataset.FIELD_37=='\\\\'].index)\n",
    " \n",
    "# mydataset=mydataset.drop(mydataset[mydataset.FIELD_39 == '7+' ].index)\n",
    "# mydataset=mydataset.drop(mydataset[mydataset.FIELD_39 == '5~7'].index)\n",
    "# mydataset=mydataset.drop(mydataset[mydataset.FIELD_39 == '3-4'].index)\n",
    "\n",
    "\n",
    "# mydataset=mydataset.drop(mydataset[mydataset.FIELD_95=='.'].index)"
   ]
  },
  {
   "cell_type": "code",
   "execution_count": 12,
   "metadata": {
    "scrolled": true
   },
   "outputs": [
    {
     "name": "stdout",
     "output_type": "stream",
     "text": [
      "0 FIELD_3\n",
      "1 FIELD_4\n",
      "2 FIELD_5\n",
      "3 FIELD_13\n",
      "4 FIELD_14\n",
      "5 FIELD_15\n",
      "6 FIELD_16\n",
      "7 FIELD_17\n",
      "8 FIELD_18\n",
      "9 FIELD_19\n",
      "10 FIELD_20\n",
      "11 FIELD_21\n",
      "12 FIELD_22\n",
      "13 FIELD_23\n",
      "14 FIELD_24\n",
      "15 FIELD_25\n",
      "16 FIELD_26\n",
      "17 FIELD_27\n",
      "18 FIELD_28\n",
      "19 FIELD_29\n",
      "20 FIELD_30\n",
      "21 FIELD_31\n",
      "22 FIELD_32\n",
      "23 FIELD_33\n",
      "24 FIELD_34\n",
      "25 FIELD_35\n",
      "26 FIELD_36\n",
      "27 FIELD_37\n",
      "28 FIELD_38\n",
      "29 FIELD_40\n",
      "30 FIELD_41\n",
      "31 FIELD_42\n",
      "32 FIELD_43\n",
      "33 FIELD_44\n",
      "34 FIELD_45\n",
      "35 FIELD_46\n",
      "36 FIELD_47\n",
      "37 FIELD_48\n",
      "38 FIELD_49\n",
      "39 FIELD_50\n",
      "40 FIELD_51\n",
      "41 FIELD_52\n",
      "42 FIELD_53\n",
      "43 FIELD_54\n",
      "44 FIELD_55\n",
      "45 FIELD_56\n",
      "46 FIELD_57\n",
      "47 FIELD_58\n",
      "48 FIELD_59\n",
      "49 FIELD_60\n",
      "50 FIELD_61\n",
      "51 FIELD_62\n",
      "52 FIELD_63\n"
     ]
    }
   ],
   "source": [
    "colslist=mydataset.columns\n",
    "DiabeticColVals=data.L101700_y\n",
    "\n",
    "cor=[]\n",
    "pval=[]\n",
    "count=[]\n",
    "\n",
    "for i in range(len(colslist)):\n",
    "    print(i,colslist[i])\n",
    "    \n",
    "    temp=pd.DataFrame([])\n",
    "    temp['a']=DiabeticColVals\n",
    "    temp['b']=mydataset[colslist[i]].astype(float)\n",
    "    temp=temp.dropna()\n",
    "    count.append(temp.shape[0])\n",
    "    \n",
    "    uniquevalues=temp.b.unique()\n",
    "    \n",
    "    selectedGroupVals=[]\n",
    "    for k in range(len(uniquevalues)):\n",
    "        selectedGroupVals.append(np.asarray(temp[temp['b']==uniquevalues[k]].a))\n",
    "\n",
    "    F, p = stats.f_oneway(*selectedGroupVals)\n",
    "    cor.append(F)\n",
    "    pval.append(p)\n",
    "    "
   ]
  },
  {
   "cell_type": "code",
   "execution_count": 13,
   "metadata": {},
   "outputs": [],
   "source": [
    "FvalPvalCorr=pd.DataFrame()    \n",
    "FvalPvalCorr['Cols']=colslist\n",
    "FvalPvalCorr['F']=cor\n",
    "FvalPvalCorr['P']=pval\n",
    "FvalPvalCorr['Count']=count\n",
    "FvalPvalCorr=FvalPvalCorr.sort_values(by='F', ascending=False)\n"
   ]
  },
  {
   "cell_type": "code",
   "execution_count": 14,
   "metadata": {},
   "outputs": [
    {
     "data": {
      "text/html": [
       "<div>\n",
       "<style scoped>\n",
       "    .dataframe tbody tr th:only-of-type {\n",
       "        vertical-align: middle;\n",
       "    }\n",
       "\n",
       "    .dataframe tbody tr th {\n",
       "        vertical-align: top;\n",
       "    }\n",
       "\n",
       "    .dataframe thead th {\n",
       "        text-align: right;\n",
       "    }\n",
       "</style>\n",
       "<table border=\"1\" class=\"dataframe\">\n",
       "  <thead>\n",
       "    <tr style=\"text-align: right;\">\n",
       "      <th></th>\n",
       "      <th>Cols</th>\n",
       "      <th>F</th>\n",
       "      <th>P</th>\n",
       "      <th>Count</th>\n",
       "    </tr>\n",
       "  </thead>\n",
       "  <tbody>\n",
       "    <tr>\n",
       "      <th>23</th>\n",
       "      <td>FIELD_33</td>\n",
       "      <td>2586.229301</td>\n",
       "      <td>0.000000e+00</td>\n",
       "      <td>158735</td>\n",
       "    </tr>\n",
       "    <tr>\n",
       "      <th>28</th>\n",
       "      <td>FIELD_38</td>\n",
       "      <td>1938.399702</td>\n",
       "      <td>0.000000e+00</td>\n",
       "      <td>158743</td>\n",
       "    </tr>\n",
       "    <tr>\n",
       "      <th>19</th>\n",
       "      <td>FIELD_29</td>\n",
       "      <td>130.984272</td>\n",
       "      <td>2.565003e-30</td>\n",
       "      <td>159030</td>\n",
       "    </tr>\n",
       "    <tr>\n",
       "      <th>29</th>\n",
       "      <td>FIELD_40</td>\n",
       "      <td>101.398406</td>\n",
       "      <td>1.166229e-148</td>\n",
       "      <td>158749</td>\n",
       "    </tr>\n",
       "    <tr>\n",
       "      <th>8</th>\n",
       "      <td>FIELD_18</td>\n",
       "      <td>65.581314</td>\n",
       "      <td>5.615470e-16</td>\n",
       "      <td>159030</td>\n",
       "    </tr>\n",
       "    <tr>\n",
       "      <th>30</th>\n",
       "      <td>FIELD_41</td>\n",
       "      <td>46.144518</td>\n",
       "      <td>8.583005e-66</td>\n",
       "      <td>158719</td>\n",
       "    </tr>\n",
       "    <tr>\n",
       "      <th>15</th>\n",
       "      <td>FIELD_25</td>\n",
       "      <td>33.042825</td>\n",
       "      <td>9.031522e-09</td>\n",
       "      <td>159031</td>\n",
       "    </tr>\n",
       "    <tr>\n",
       "      <th>11</th>\n",
       "      <td>FIELD_21</td>\n",
       "      <td>22.682493</td>\n",
       "      <td>1.912691e-06</td>\n",
       "      <td>159031</td>\n",
       "    </tr>\n",
       "    <tr>\n",
       "      <th>2</th>\n",
       "      <td>FIELD_5</td>\n",
       "      <td>14.522490</td>\n",
       "      <td>1.222827e-16</td>\n",
       "      <td>66710</td>\n",
       "    </tr>\n",
       "    <tr>\n",
       "      <th>17</th>\n",
       "      <td>FIELD_27</td>\n",
       "      <td>14.330515</td>\n",
       "      <td>1.534150e-04</td>\n",
       "      <td>159030</td>\n",
       "    </tr>\n",
       "  </tbody>\n",
       "</table>\n",
       "</div>"
      ],
      "text/plain": [
       "        Cols            F              P   Count\n",
       "23  FIELD_33  2586.229301   0.000000e+00  158735\n",
       "28  FIELD_38  1938.399702   0.000000e+00  158743\n",
       "19  FIELD_29   130.984272   2.565003e-30  159030\n",
       "29  FIELD_40   101.398406  1.166229e-148  158749\n",
       "8   FIELD_18    65.581314   5.615470e-16  159030\n",
       "30  FIELD_41    46.144518   8.583005e-66  158719\n",
       "15  FIELD_25    33.042825   9.031522e-09  159031\n",
       "11  FIELD_21    22.682493   1.912691e-06  159031\n",
       "2    FIELD_5    14.522490   1.222827e-16   66710\n",
       "17  FIELD_27    14.330515   1.534150e-04  159030"
      ]
     },
     "execution_count": 14,
     "metadata": {},
     "output_type": "execute_result"
    }
   ],
   "source": [
    "FvalPvalCorr[FvalPvalCorr.Count>50000].head(10)"
   ]
  },
  {
   "cell_type": "code",
   "execution_count": 15,
   "metadata": {},
   "outputs": [
    {
     "name": "stdout",
     "output_type": "stream",
     "text": [
      "['FIELD_33', 'FIELD_38', 'FIELD_29', 'FIELD_40', 'FIELD_18', 'FIELD_41', 'FIELD_25', 'FIELD_21', 'FIELD_5', 'FIELD_27']\n"
     ]
    }
   ],
   "source": [
    "print(list(FvalPvalCorr[FvalPvalCorr.Count>50000].Cols)[:10])"
   ]
  },
  {
   "cell_type": "markdown",
   "metadata": {},
   "source": [
    "========================= LASSO method\n",
    "================"
   ]
  },
  {
   "cell_type": "code",
   "execution_count": 16,
   "metadata": {},
   "outputs": [
    {
     "name": "stdout",
     "output_type": "stream",
     "text": [
      "(51676, 25)\n"
     ]
    }
   ],
   "source": [
    "selectedcols=['L101700_y', 'L101700_x', 'L101300', 'L103000', 'SEX', 'L100700', 'L190400', 'L101200', \n",
    "              'L190500', 'S000300', 'S000501', 'L103300', 'L100800', 'S000502', 'L190300','FIELD_33', \n",
    "              'FIELD_38', 'FIELD_29', 'FIELD_40', 'FIELD_18', 'FIELD_41', 'FIELD_25', 'FIELD_21', 'FIELD_5', 'FIELD_27'\n",
    "             ]\n",
    "data2=data[selectedcols].copy().dropna()\n",
    "print(data2.shape)"
   ]
  },
  {
   "cell_type": "code",
   "execution_count": 19,
   "metadata": {},
   "outputs": [],
   "source": [
    "x=data2[['L101700_x', 'L101300', 'L103000', 'SEX', 'L100700', 'L190400', 'L101200', \n",
    "              'L190500', 'S000300', 'S000501', 'L103300', 'L100800', 'S000502', 'L190300','FIELD_33', \n",
    "              'FIELD_38', 'FIELD_29', 'FIELD_40', 'FIELD_18', 'FIELD_41', 'FIELD_25', 'FIELD_21', 'FIELD_5', 'FIELD_27']]\n",
    "y=data2.L101700_y"
   ]
  },
  {
   "cell_type": "code",
   "execution_count": 20,
   "metadata": {},
   "outputs": [
    {
     "name": "stdout",
     "output_type": "stream",
     "text": [
      "[ 0.86548012 -0.10899988  0.00798935 -1.35469277  0.          0.\n",
      " -0.0224483   0.04394448  0.21168403  0.0360296   0.17220026 -0.01403986\n",
      " -0.00636157  0.          0.99834083  0.68521426 -0.          0.15653346\n",
      " -0.          0.0466995  -0.         -0.          0.          0.        ]\n",
      "-4.9686879157613575\n"
     ]
    },
    {
     "data": {
      "text/html": [
       "<div>\n",
       "<style scoped>\n",
       "    .dataframe tbody tr th:only-of-type {\n",
       "        vertical-align: middle;\n",
       "    }\n",
       "\n",
       "    .dataframe tbody tr th {\n",
       "        vertical-align: top;\n",
       "    }\n",
       "\n",
       "    .dataframe thead th {\n",
       "        text-align: right;\n",
       "    }\n",
       "</style>\n",
       "<table border=\"1\" class=\"dataframe\">\n",
       "  <thead>\n",
       "    <tr style=\"text-align: right;\">\n",
       "      <th></th>\n",
       "      <th>Name</th>\n",
       "      <th>coeff</th>\n",
       "    </tr>\n",
       "  </thead>\n",
       "  <tbody>\n",
       "    <tr>\n",
       "      <th>3</th>\n",
       "      <td>SEX</td>\n",
       "      <td>1.354693</td>\n",
       "    </tr>\n",
       "    <tr>\n",
       "      <th>14</th>\n",
       "      <td>FIELD_33</td>\n",
       "      <td>0.998341</td>\n",
       "    </tr>\n",
       "    <tr>\n",
       "      <th>0</th>\n",
       "      <td>L101700_x</td>\n",
       "      <td>0.865480</td>\n",
       "    </tr>\n",
       "    <tr>\n",
       "      <th>15</th>\n",
       "      <td>FIELD_38</td>\n",
       "      <td>0.685214</td>\n",
       "    </tr>\n",
       "    <tr>\n",
       "      <th>8</th>\n",
       "      <td>S000300</td>\n",
       "      <td>0.211684</td>\n",
       "    </tr>\n",
       "    <tr>\n",
       "      <th>10</th>\n",
       "      <td>L103300</td>\n",
       "      <td>0.172200</td>\n",
       "    </tr>\n",
       "    <tr>\n",
       "      <th>17</th>\n",
       "      <td>FIELD_40</td>\n",
       "      <td>0.156533</td>\n",
       "    </tr>\n",
       "    <tr>\n",
       "      <th>1</th>\n",
       "      <td>L101300</td>\n",
       "      <td>0.109000</td>\n",
       "    </tr>\n",
       "    <tr>\n",
       "      <th>19</th>\n",
       "      <td>FIELD_41</td>\n",
       "      <td>0.046699</td>\n",
       "    </tr>\n",
       "    <tr>\n",
       "      <th>7</th>\n",
       "      <td>L190500</td>\n",
       "      <td>0.043944</td>\n",
       "    </tr>\n",
       "    <tr>\n",
       "      <th>9</th>\n",
       "      <td>S000501</td>\n",
       "      <td>0.036030</td>\n",
       "    </tr>\n",
       "    <tr>\n",
       "      <th>6</th>\n",
       "      <td>L101200</td>\n",
       "      <td>0.022448</td>\n",
       "    </tr>\n",
       "    <tr>\n",
       "      <th>11</th>\n",
       "      <td>L100800</td>\n",
       "      <td>0.014040</td>\n",
       "    </tr>\n",
       "    <tr>\n",
       "      <th>2</th>\n",
       "      <td>L103000</td>\n",
       "      <td>0.007989</td>\n",
       "    </tr>\n",
       "    <tr>\n",
       "      <th>12</th>\n",
       "      <td>S000502</td>\n",
       "      <td>0.006362</td>\n",
       "    </tr>\n",
       "  </tbody>\n",
       "</table>\n",
       "</div>"
      ],
      "text/plain": [
       "         Name     coeff\n",
       "3         SEX  1.354693\n",
       "14   FIELD_33  0.998341\n",
       "0   L101700_x  0.865480\n",
       "15   FIELD_38  0.685214\n",
       "8     S000300  0.211684\n",
       "10    L103300  0.172200\n",
       "17   FIELD_40  0.156533\n",
       "1     L101300  0.109000\n",
       "19   FIELD_41  0.046699\n",
       "7     L190500  0.043944\n",
       "9     S000501  0.036030\n",
       "6     L101200  0.022448\n",
       "11    L100800  0.014040\n",
       "2     L103000  0.007989\n",
       "12    S000502  0.006362"
      ]
     },
     "execution_count": 20,
     "metadata": {},
     "output_type": "execute_result"
    }
   ],
   "source": [
    "from sklearn import linear_model\n",
    "clf = linear_model.Lasso(alpha=0.1)\n",
    "clf.fit(x,y)\n",
    "\n",
    "print(clf.coef_)\n",
    "\n",
    "print(clf.intercept_)  \n",
    "\n",
    "# pd.DataFrame([x.columns.ravel(),clf.coef_.ravel()],columns=['Name','coeff'])\n",
    "\n",
    "lassod=pd.DataFrame()\n",
    "lassod['Name']=x.columns\n",
    "lassod['coeff']=clf.coef_\n",
    "lassod\n",
    "\n",
    "lassod=lassod.drop(lassod[lassod.coeff==0].index)\n",
    "lassod.coeff=abs(lassod.coeff)\n",
    "lassod=lassod.sort_values(by='coeff', ascending=False)\n",
    "lassod"
   ]
  },
  {
   "cell_type": "code",
   "execution_count": 21,
   "metadata": {},
   "outputs": [
    {
     "name": "stdout",
     "output_type": "stream",
     "text": [
      "['SEX', 'FIELD_33', 'L101700_x', 'FIELD_38', 'S000300', 'L103300', 'FIELD_40', 'L101300', 'FIELD_41', 'L190500', 'S000501', 'L101200', 'L100800', 'L103000', 'S000502']\n"
     ]
    }
   ],
   "source": [
    "print(list(lassod.Name[:16]))"
   ]
  },
  {
   "cell_type": "markdown",
   "metadata": {},
   "source": [
    "=============================== SelectKBest method\n",
    "========================"
   ]
  },
  {
   "cell_type": "code",
   "execution_count": 22,
   "metadata": {},
   "outputs": [
    {
     "name": "stdout",
     "output_type": "stream",
     "text": [
      "['L101700_x', 'L101300', 'L103000', 'SEX', 'L100700', 'L190400', 'L101200', 'L190500', 'S000300', 'S000501', 'L103300', 'L100800']\n"
     ]
    }
   ],
   "source": [
    "# from sklearn.feature_selection import chi2\n",
    "from sklearn.feature_selection import f_regression\n",
    "from sklearn.feature_selection import SelectKBest\n",
    "\n",
    "bestfeatures = SelectKBest(score_func=f_regression, k=10)\n",
    "fit = bestfeatures.fit(x,y)\n",
    "\n",
    "dfscores = pd.DataFrame(fit.scores_)\n",
    "dfcolumns = pd.DataFrame(x.columns)\n",
    "\n",
    "featureScores = pd.concat([dfcolumns,dfscores],axis=1)\n",
    "featureScores.columns = ['Specs','Score']  #naming the dataframe columns\n",
    "\n",
    "# x=x[x.columns[:15]]\n",
    "print(list(x.columns[:12]))"
   ]
  },
  {
   "cell_type": "markdown",
   "metadata": {},
   "source": [
    "========================================= LinearSVC\n",
    "==============="
   ]
  },
  {
   "cell_type": "code",
   "execution_count": 23,
   "metadata": {},
   "outputs": [],
   "source": [
    "# from sklearn.svm import LinearSVC\n",
    "# from sklearn.datasets import load_iris\n",
    "# from sklearn.feature_selection import SelectFromModel\n",
    "\n",
    "# lsvc = LinearSVC(C=0.01, penalty=\"l1\", dual=False).fit(x, y)\n",
    "# model = SelectFromModel(lsvc, prefit=True)\n",
    "# X_new = model.transform(x)\n",
    "# X_new.shape"
   ]
  },
  {
   "cell_type": "code",
   "execution_count": 24,
   "metadata": {},
   "outputs": [],
   "source": [
    "# X_new"
   ]
  },
  {
   "cell_type": "markdown",
   "metadata": {},
   "source": [
    "================================ SequentialFeatureSelector \n",
    "================================"
   ]
  },
  {
   "cell_type": "code",
   "execution_count": 25,
   "metadata": {},
   "outputs": [],
   "source": [
    "# from sklearn.linear_model import LinearRegression\n",
    "# from mlxtend.feature_selection import SequentialFeatureSelector as SFS\n",
    "# from mlxtend.plotting import plot_sequential_feature_selection as plot_sfs\n",
    "# from sklearn.ensemble import RandomForestRegressor\n",
    "\n",
    "# lr = RandomForestRegressor()\n",
    "\n",
    "# sfs = SFS(lr, \n",
    "#           k_features=13, \n",
    "#           forward=True, \n",
    "#           floating=False, \n",
    "#           scoring='neg_mean_squared_error',\n",
    "#           cv=5)\n",
    "\n",
    "# sfs = sfs.fit(x, y)\n",
    "# fig = plot_sfs(sfs.get_metric_dict(), kind='std_err')\n",
    "\n",
    "# plt.title('Sequential Forward Selection (w. StdErr)')\n",
    "# plt.grid()\n",
    "# plt.show()"
   ]
  },
  {
   "cell_type": "markdown",
   "metadata": {},
   "source": [
    "================================= feature_importances\n",
    "====="
   ]
  },
  {
   "cell_type": "code",
   "execution_count": 28,
   "metadata": {},
   "outputs": [
    {
     "name": "stdout",
     "output_type": "stream",
     "text": [
      "[6.21529807e-01 2.47926286e-02 1.45992520e-02 1.05457588e-01\n",
      " 1.67967938e-02 1.55990230e-02 1.81177390e-02 1.41865466e-02\n",
      " 1.91003047e-02 1.23944695e-02 1.45519021e-02 1.43509600e-02\n",
      " 1.24474203e-02 1.45101592e-02 1.22091771e-02 2.04593962e-02\n",
      " 4.71335708e-03 1.07613601e-02 8.57431878e-04 1.17765161e-02\n",
      " 1.16082379e-03 2.84699890e-04 1.31907258e-02 6.15191788e-03]\n"
     ]
    },
    {
     "data": {
      "image/png": "[encoded data removed]",
      "text/plain": [
       "<Figure size 432x288 with 1 Axes>"
      ]
     },
     "metadata": {
      "needs_background": "light"
     },
     "output_type": "display_data"
    },
    {
     "name": "stdout",
     "output_type": "stream",
     "text": [
      "L101700_x    0.621530\n",
      "SEX          0.105458\n",
      "L101300      0.024793\n",
      "FIELD_38     0.020459\n",
      "S000300      0.019100\n",
      "L101200      0.018118\n",
      "L100700      0.016797\n",
      "L190400      0.015599\n",
      "L103000      0.014599\n",
      "L103300      0.014552\n",
      "L190300      0.014510\n",
      "L100800      0.014351\n",
      "dtype: float64\n",
      "Index(['L101700_x', 'SEX', 'L101300', 'FIELD_38', 'S000300', 'L101200',\n",
      "       'L100700', 'L190400', 'L103000', 'L103300', 'L190300', 'L100800'],\n",
      "      dtype='object')\n"
     ]
    }
   ],
   "source": [
    "from sklearn.ensemble import ExtraTreesRegressor\n",
    "import matplotlib.pyplot as plt\n",
    "model = ExtraTreesRegressor()\n",
    "model.fit(x,y)\n",
    "\n",
    "print(model.feature_importances_) #use inbuilt class feature_importances of tree based classifiers\n",
    "\n",
    "#plot graph of feature importances for better visualization\n",
    "feat_importances = pd.Series(model.feature_importances_, index=x.columns)\n",
    "feat_importances.nlargest(16).plot(kind='barh')\n",
    "plt.show()\n",
    "\n",
    "print(feat_importances.nlargest(12))\n",
    "print(feat_importances.nlargest(12).index)"
   ]
  },
  {
   "cell_type": "code",
   "execution_count": 27,
   "metadata": {},
   "outputs": [],
   "source": [
    "# this function computes vif value which help us to remove columns with redundant information ( to avoid Multicollinearity)\n",
    "# Multicollinearity occurs when two or more predictors in the model are correlated and provide redundant information about the response.\n",
    "# Multicollinearity was measured by variance inflation factors (VIF) and tolerance\n",
    "\n",
    "\n",
    "def vifcal(inputdata, depcol):\n",
    "    vifL5 = []\n",
    "    import statsmodels.formula.api as sm\n",
    "\n",
    "    xvars = inputdata.drop([depcol], axis=1)\n",
    "    xvarnames = xvars.columns\n",
    "    for i in range(0, xvarnames.shape[0]):\n",
    "        _y = xvars[xvarnames[i]]\n",
    "        _x = xvars[xvarnames.drop(xvarnames[i])]\n",
    "        rsq = sm.ols(formula=\"_y~_x\", data=xvars).fit().rsquared\n",
    "        vif = round(1 / (1 - rsq), 2)\n",
    "        print(i, \", \", xvarnames[i], \" VIF = \", vif)\n",
    "        if vif < 5:\n",
    "            vifL5.append(xvarnames[i])\n",
    "    return vifL5"
   ]
  },
  {
   "cell_type": "code",
   "execution_count": 34,
   "metadata": {},
   "outputs": [
    {
     "name": "stdout",
     "output_type": "stream",
     "text": [
      "0 ,  L100700_x  VIF =  1.97\n",
      "1 ,  SEX  VIF =  4.17\n",
      "2 ,  S000300  VIF =  1.65\n",
      "3 ,  L103000  VIF =  1.78\n",
      "4 ,  L103100  VIF =  2.4\n",
      "5 ,  L103300  VIF =  3.18\n",
      "6 ,  S000501  VIF =  1.38\n",
      "7 ,  S000100  VIF =  2.19\n",
      "8 ,  L101300  VIF =  1.46\n",
      "9 ,  L190300  VIF =  2.01\n",
      "10 ,  L100500  VIF =  2.05\n",
      "11 ,  L101700  VIF =  1.48\n",
      "['L100700_x', 'SEX', 'S000300', 'L103000', 'L103100', 'L103300', 'S000501', 'S000100', 'L101300', 'L190300', 'L100500', 'L101700'] 12\n"
     ]
    }
   ],
   "source": [
    "\n",
    "newcols = vifcal(\n",
    "    data2[\n",
    "        [\n",
    "            'L101700_y','L101700_x', 'SEX', 'L101300', 'FIELD_38', 'S000300', 'L101200',\n",
    "       'L100700', 'L190400', 'L103000', 'L103300', 'L190300', 'L100800'\n",
    "        ]\n",
    "    ],\n",
    "    \"L101700_y\",\n",
    ")\n",
    "print(newcols, len(newcols))"
   ]
  },
  {
   "cell_type": "markdown",
   "metadata": {},
   "source": [
    "============================= Backward Elimination\n",
    "========"
   ]
  },
  {
   "cell_type": "code",
   "execution_count": null,
   "metadata": {},
   "outputs": [],
   "source": [
    "import statsmodels.regression.linear_model as sm\n",
    "temp=x.copy()\n",
    "temp['const']=np.ones((x.shape[0],1))\n",
    "regressor_OLS = sm.OLS(endog = y, exog = temp).fit()\n",
    "regressor_OLS.summary()"
   ]
  },
  {
   "cell_type": "code",
   "execution_count": null,
   "metadata": {},
   "outputs": [],
   "source": [
    "temp=temp.drop(columns=['L103000','L103300','L190300','FIELD_40','FIELD_27','FIELD_29','FIELD_21','FIELD_5','FIELD_14'])\n",
    "regressor_OLS = sm.OLS(endog = y, exog = temp).fit()\n",
    "regressor_OLS.summary()"
   ]
  },
  {
   "cell_type": "code",
   "execution_count": null,
   "metadata": {},
   "outputs": [],
   "source": [
    "temp=temp.drop(columns=['FIELD_33'])\n",
    "regressor_OLS = sm.OLS(endog = y, exog = temp).fit()\n",
    "regressor_OLS.summary()"
   ]
  },
  {
   "cell_type": "code",
   "execution_count": null,
   "metadata": {},
   "outputs": [],
   "source": [
    "temp.columns"
   ]
  },
  {
   "cell_type": "code",
   "execution_count": null,
   "metadata": {},
   "outputs": [],
   "source": []
  }
 ],
 "metadata": {
  "kernelspec": {
   "display_name": "Python 3",
   "language": "python",
   "name": "python3"
  },
  "language_info": {
   "codemirror_mode": {
    "name": "ipython",
    "version": 3
   },
   "file_extension": ".py",
   "mimetype": "text/x-python",
   "name": "python",
   "nbconvert_exporter": "python",
   "pygments_lexer": "ipython3",
   "version": "3.7.3"
  }
 },
 "nbformat": 4,
 "nbformat_minor": 2
}

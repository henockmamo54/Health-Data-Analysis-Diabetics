{
 "cells": [
  {
   "cell_type": "code",
   "execution_count": 1,
   "metadata": {},
   "outputs": [
    {
     "name": "stderr",
     "output_type": "stream",
     "text": [
      "Using TensorFlow backend.\n"
     ]
    }
   ],
   "source": [
    "from matplotlib import pyplot as plt\n",
    "import pandas as pd \n",
    "import numpy as np\n",
    "import warnings\n",
    "warnings.filterwarnings('ignore')\n",
    "from scipy import stats\n",
    "from sklearn.utils import shuffle\n",
    "from sklearn.preprocessing import LabelEncoder\n",
    "from sklearn.metrics import confusion_matrix \n",
    "from sklearn.utils import shuffle\n",
    "from sklearn.ensemble import RandomForestRegressor\n",
    "from sklearn.datasets import make_regression\n",
    "from sklearn.model_selection import train_test_split\n",
    "from sklearn.metrics import mean_absolute_error\n",
    "from sklearn.metrics import mean_squared_error\n",
    "from sklearn.metrics import mean_absolute_error\n",
    "from sklearn.metrics import r2_score\n",
    "from keras.models import Sequential\n",
    "from keras.layers import Dense\n",
    "from keras.wrappers.scikit_learn import KerasRegressor\n",
    "from sklearn.model_selection import cross_val_score\n",
    "from sklearn.model_selection import KFold\n",
    "from sklearn.preprocessing import StandardScaler\n",
    "from sklearn.pipeline import Pipeline\n",
    "from keras.layers import Dropout\n",
    "from keras.layers import BatchNormalization\n",
    "from keras.models import model_from_json\n",
    "from keras.utils import multi_gpu_model \n",
    "from keras.utils import to_categorical\n"
   ]
  },
  {
   "cell_type": "markdown",
   "metadata": {},
   "source": [
    "Read the data\n",
    "==========="
   ]
  },
  {
   "cell_type": "code",
   "execution_count": 3,
   "metadata": {},
   "outputs": [
    {
     "name": "stdout",
     "output_type": "stream",
     "text": [
      "(159381, 11)\n",
      "(159381, 2)\n"
     ]
    }
   ],
   "source": [
    "x_original=pd.read_csv('../../_xlable4_withNa_AllColumns.txt')\n",
    "y_original=pd.read_csv('../../_targelable4_withNa_AllColumns.txt')\n",
    "\n",
    "x_original=x_original[['Unnamed: 0','L100200', 'AGE', 'S000100', 'L100700', 'L103800', 'L107500', 'L190300', \n",
    "                       'FIELD_42', 'L100500', 'FIELD_38']]\n",
    "\n",
    "y_original=y_original[['Unnamed: 0','L100200']]\n",
    "\n",
    "print(x_original.shape)\n",
    "print(y_original.shape)\n"
   ]
  },
  {
   "cell_type": "markdown",
   "metadata": {},
   "source": [
    "Prepare the data\n",
    "============"
   ]
  },
  {
   "cell_type": "code",
   "execution_count": 4,
   "metadata": {},
   "outputs": [
    {
     "name": "stdout",
     "output_type": "stream",
     "text": [
      "(64846, 13)\n"
     ]
    }
   ],
   "source": [
    "data= pd.merge(x_original,y_original, how='inner',left_on='Unnamed: 0', right_on='Unnamed: 0')\n",
    "data=data.dropna(). reset_index()\n",
    "\n",
    "print(data.shape)"
   ]
  },
  {
   "cell_type": "code",
   "execution_count": 5,
   "metadata": {},
   "outputs": [
    {
     "name": "stdout",
     "output_type": "stream",
     "text": [
      "(64846, 13)\n",
      "Index(['index', 'Unnamed: 0', 'L100200_x', 'AGE', 'S000100', 'L100700',\n",
      "       'L103800', 'L107500', 'L190300', 'FIELD_42', 'L100500', 'FIELD_38',\n",
      "       'L100200_y'],\n",
      "      dtype='object')\n"
     ]
    },
    {
     "data": {
      "text/html": [
       "<div>\n",
       "<style scoped>\n",
       "    .dataframe tbody tr th:only-of-type {\n",
       "        vertical-align: middle;\n",
       "    }\n",
       "\n",
       "    .dataframe tbody tr th {\n",
       "        vertical-align: top;\n",
       "    }\n",
       "\n",
       "    .dataframe thead th {\n",
       "        text-align: right;\n",
       "    }\n",
       "</style>\n",
       "<table border=\"1\" class=\"dataframe\">\n",
       "  <thead>\n",
       "    <tr style=\"text-align: right;\">\n",
       "      <th></th>\n",
       "      <th>index</th>\n",
       "      <th>Unnamed: 0</th>\n",
       "      <th>L100200_x</th>\n",
       "      <th>AGE</th>\n",
       "      <th>S000100</th>\n",
       "      <th>L100700</th>\n",
       "      <th>L103800</th>\n",
       "      <th>L107500</th>\n",
       "      <th>L190300</th>\n",
       "      <th>FIELD_42</th>\n",
       "      <th>L100500</th>\n",
       "      <th>FIELD_38</th>\n",
       "      <th>L100200_y</th>\n",
       "    </tr>\n",
       "  </thead>\n",
       "  <tbody>\n",
       "    <tr>\n",
       "      <th>0</th>\n",
       "      <td>0</td>\n",
       "      <td>0</td>\n",
       "      <td>4.5</td>\n",
       "      <td>44.0</td>\n",
       "      <td>159.8</td>\n",
       "      <td>3.0</td>\n",
       "      <td>8.4</td>\n",
       "      <td>1.8</td>\n",
       "      <td>4.20</td>\n",
       "      <td>4.0</td>\n",
       "      <td>0.8</td>\n",
       "      <td>1.0</td>\n",
       "      <td>4.9</td>\n",
       "    </tr>\n",
       "    <tr>\n",
       "      <th>1</th>\n",
       "      <td>1</td>\n",
       "      <td>1</td>\n",
       "      <td>4.9</td>\n",
       "      <td>45.0</td>\n",
       "      <td>159.5</td>\n",
       "      <td>3.0</td>\n",
       "      <td>8.4</td>\n",
       "      <td>1.6</td>\n",
       "      <td>4.24</td>\n",
       "      <td>4.0</td>\n",
       "      <td>0.8</td>\n",
       "      <td>1.0</td>\n",
       "      <td>4.9</td>\n",
       "    </tr>\n",
       "    <tr>\n",
       "      <th>2</th>\n",
       "      <td>2</td>\n",
       "      <td>2</td>\n",
       "      <td>4.9</td>\n",
       "      <td>46.0</td>\n",
       "      <td>159.0</td>\n",
       "      <td>3.8</td>\n",
       "      <td>8.6</td>\n",
       "      <td>1.7</td>\n",
       "      <td>4.26</td>\n",
       "      <td>3.0</td>\n",
       "      <td>0.8</td>\n",
       "      <td>2.0</td>\n",
       "      <td>4.5</td>\n",
       "    </tr>\n",
       "    <tr>\n",
       "      <th>3</th>\n",
       "      <td>3</td>\n",
       "      <td>3</td>\n",
       "      <td>4.1</td>\n",
       "      <td>51.0</td>\n",
       "      <td>155.3</td>\n",
       "      <td>3.7</td>\n",
       "      <td>8.1</td>\n",
       "      <td>1.5</td>\n",
       "      <td>4.20</td>\n",
       "      <td>0.0</td>\n",
       "      <td>0.8</td>\n",
       "      <td>0.0</td>\n",
       "      <td>3.9</td>\n",
       "    </tr>\n",
       "    <tr>\n",
       "      <th>4</th>\n",
       "      <td>4</td>\n",
       "      <td>4</td>\n",
       "      <td>3.9</td>\n",
       "      <td>52.0</td>\n",
       "      <td>156.0</td>\n",
       "      <td>3.4</td>\n",
       "      <td>8.1</td>\n",
       "      <td>1.6</td>\n",
       "      <td>3.92</td>\n",
       "      <td>1.0</td>\n",
       "      <td>0.8</td>\n",
       "      <td>0.0</td>\n",
       "      <td>4.4</td>\n",
       "    </tr>\n",
       "  </tbody>\n",
       "</table>\n",
       "</div>"
      ],
      "text/plain": [
       "   index  Unnamed: 0  L100200_x   AGE  S000100  L100700  L103800  L107500  \\\n",
       "0      0           0        4.5  44.0    159.8      3.0      8.4      1.8   \n",
       "1      1           1        4.9  45.0    159.5      3.0      8.4      1.6   \n",
       "2      2           2        4.9  46.0    159.0      3.8      8.6      1.7   \n",
       "3      3           3        4.1  51.0    155.3      3.7      8.1      1.5   \n",
       "4      4           4        3.9  52.0    156.0      3.4      8.1      1.6   \n",
       "\n",
       "   L190300  FIELD_42  L100500  FIELD_38  L100200_y  \n",
       "0     4.20       4.0      0.8       1.0        4.9  \n",
       "1     4.24       4.0      0.8       1.0        4.9  \n",
       "2     4.26       3.0      0.8       2.0        4.5  \n",
       "3     4.20       0.0      0.8       0.0        3.9  \n",
       "4     3.92       1.0      0.8       0.0        4.4  "
      ]
     },
     "execution_count": 5,
     "metadata": {},
     "output_type": "execute_result"
    }
   ],
   "source": [
    "print(data.shape)\n",
    "print(data.columns)\n",
    "data.head()"
   ]
  },
  {
   "cell_type": "code",
   "execution_count": 7,
   "metadata": {},
   "outputs": [],
   "source": [
    "\n",
    "x=data[['Unnamed: 0','L100200_x', 'AGE', 'S000100', 'L100700', 'L103800', 'L107500', 'L190300', \n",
    "                       'FIELD_42', 'L100500', 'FIELD_38']]\n",
    "\n",
    "y=data[['Unnamed: 0','L100200_y']]\n"
   ]
  },
  {
   "cell_type": "markdown",
   "metadata": {},
   "source": [
    "Check the correlation of the selected feature with the independent variables\n",
    "====="
   ]
  },
  {
   "cell_type": "code",
   "execution_count": 9,
   "metadata": {},
   "outputs": [],
   "source": [
    "temppd=pd.DataFrame(x.copy())\n",
    "temppd['y']=y.L100200_y\n",
    "temppd.head()\n",
    "corval=abs(temppd.corr()).sort_values(by='y', ascending=False)"
   ]
  },
  {
   "cell_type": "code",
   "execution_count": 10,
   "metadata": {},
   "outputs": [
    {
     "data": {
      "text/plain": [
       "y             1.000000\n",
       "L100200_x     0.420785\n",
       "L107500       0.214216\n",
       "L103800       0.206304\n",
       "L190300       0.205495\n",
       "S000100       0.194258\n",
       "L100700       0.189590\n",
       "AGE           0.159100\n",
       "L100500       0.143455\n",
       "FIELD_38      0.093494\n",
       "FIELD_42      0.035317\n",
       "Unnamed: 0    0.000798\n",
       "Name: y, dtype: float64"
      ]
     },
     "execution_count": 10,
     "metadata": {},
     "output_type": "execute_result"
    }
   ],
   "source": [
    "corval.y"
   ]
  },
  {
   "cell_type": "markdown",
   "metadata": {},
   "source": [
    "Apply PCA\n",
    "==========="
   ]
  },
  {
   "cell_type": "code",
   "execution_count": 11,
   "metadata": {},
   "outputs": [],
   "source": [
    "# from sklearn.decomposition import PCA\n",
    "# pca = PCA(n_components=8)\n",
    "# pca.fit(x)\n",
    "\n",
    "# print(pca.explained_variance_ratio_)   \n",
    "# print(np.sum(pca.explained_variance_ratio_))\n",
    "\n",
    "# x=pca.fit_transform(x) \n",
    "# print(x.shape)\n"
   ]
  },
  {
   "cell_type": "markdown",
   "metadata": {},
   "source": [
    "feature scaling\n",
    "======="
   ]
  },
  {
   "cell_type": "code",
   "execution_count": 12,
   "metadata": {},
   "outputs": [],
   "source": [
    "# from sklearn import preprocessing\n",
    "# min_max_scaler = preprocessing.MinMaxScaler()  #StandardScaler()\n",
    "# x = min_max_scaler.fit_transform(x)"
   ]
  },
  {
   "cell_type": "markdown",
   "metadata": {},
   "source": [
    "clustring test\n",
    "=========="
   ]
  },
  {
   "cell_type": "code",
   "execution_count": 13,
   "metadata": {},
   "outputs": [],
   "source": [
    "# from sklearn.cluster import KMeans\n",
    "# from scipy.spatial.distance import cdist\n",
    "\n",
    "# K = range(1,10)\n",
    "# distortions = []\n",
    "\n",
    "# for k in K:\n",
    "#     kmeanModel = KMeans(n_clusters=k).fit(x)\n",
    "#     kmeanModel.fit(x)\n",
    "#     distortions.append(sum(np.min(cdist(x, kmeanModel.cluster_centers_, 'euclidean'), axis=1)) / x.shape[0])\n",
    "\n",
    "# # Plot the elbow\n",
    "# plt.plot(K, distortions, 'bx-')\n",
    "# plt.xlabel('k')\n",
    "# plt.ylabel('Distortion')\n",
    "# plt.title('The Elbow Method showing the optimal k')\n",
    "# plt.show()\n"
   ]
  },
  {
   "cell_type": "code",
   "execution_count": 14,
   "metadata": {},
   "outputs": [],
   "source": [
    "# kmeanModel = KMeans(n_clusters=k).fit(x)\n",
    "# x['lbl']=kmeanModel.labels_ "
   ]
  },
  {
   "cell_type": "code",
   "execution_count": 15,
   "metadata": {},
   "outputs": [],
   "source": [
    "# x.columns"
   ]
  },
  {
   "cell_type": "markdown",
   "metadata": {},
   "source": [
    "Random Forest Regressor\n",
    "============="
   ]
  },
  {
   "cell_type": "code",
   "execution_count": 16,
   "metadata": {},
   "outputs": [],
   "source": [
    "ylable=y[['L100200_y']]  \n",
    "xtrain,xtest,ytrain,ytest=train_test_split(x, ylable, random_state=42, test_size=0.2)"
   ]
  },
  {
   "cell_type": "code",
   "execution_count": 17,
   "metadata": {},
   "outputs": [
    {
     "name": "stdout",
     "output_type": "stream",
     "text": [
      "[0.02783908 0.70904268 0.03316823 0.04632974 0.01569057 0.00942386\n",
      " 0.12586883 0.0203507  0.00244009 0.0054381  0.00440813]\n"
     ]
    }
   ],
   "source": [
    "regr = RandomForestRegressor(max_depth=7, random_state=0,verbose =0,n_estimators=500)\n",
    "regr.fit(xtrain, ytrain) \n",
    "print(regr.feature_importances_)\n",
    "ypred=regr.predict(xtest)\n"
   ]
  },
  {
   "cell_type": "code",
   "execution_count": 18,
   "metadata": {},
   "outputs": [
    {
     "name": "stdout",
     "output_type": "stream",
     "text": [
      "mean_squared_error 0.0560705053278134\n",
      "root mean_squared_error 0.2367921141588406\n",
      "mean_absolute_error 0.1822576764052342\n",
      "r2_score 0.2230556425288449\n"
     ]
    },
    {
     "data": {
      "image/png": "[encoded data removed]",
      "text/plain": [
       "<Figure size 432x288 with 1 Axes>"
      ]
     },
     "metadata": {
      "needs_background": "light"
     },
     "output_type": "display_data"
    },
    {
     "data": {
      "text/html": [
       "<div>\n",
       "<style scoped>\n",
       "    .dataframe tbody tr th:only-of-type {\n",
       "        vertical-align: middle;\n",
       "    }\n",
       "\n",
       "    .dataframe tbody tr th {\n",
       "        vertical-align: top;\n",
       "    }\n",
       "\n",
       "    .dataframe thead th {\n",
       "        text-align: right;\n",
       "    }\n",
       "</style>\n",
       "<table border=\"1\" class=\"dataframe\">\n",
       "  <thead>\n",
       "    <tr style=\"text-align: right;\">\n",
       "      <th></th>\n",
       "      <th>t + 1</th>\n",
       "      <th>pred (t +1)</th>\n",
       "    </tr>\n",
       "  </thead>\n",
       "  <tbody>\n",
       "    <tr>\n",
       "      <th>9680</th>\n",
       "      <td>5.5</td>\n",
       "      <td>4.650717</td>\n",
       "    </tr>\n",
       "    <tr>\n",
       "      <th>906</th>\n",
       "      <td>5.6</td>\n",
       "      <td>4.770723</td>\n",
       "    </tr>\n",
       "    <tr>\n",
       "      <th>437</th>\n",
       "      <td>5.6</td>\n",
       "      <td>4.753439</td>\n",
       "    </tr>\n",
       "    <tr>\n",
       "      <th>2166</th>\n",
       "      <td>5.6</td>\n",
       "      <td>4.674054</td>\n",
       "    </tr>\n",
       "    <tr>\n",
       "      <th>3418</th>\n",
       "      <td>5.6</td>\n",
       "      <td>4.588829</td>\n",
       "    </tr>\n",
       "    <tr>\n",
       "      <th>2664</th>\n",
       "      <td>5.7</td>\n",
       "      <td>4.665363</td>\n",
       "    </tr>\n",
       "    <tr>\n",
       "      <th>8528</th>\n",
       "      <td>5.7</td>\n",
       "      <td>4.758902</td>\n",
       "    </tr>\n",
       "    <tr>\n",
       "      <th>4948</th>\n",
       "      <td>5.8</td>\n",
       "      <td>4.700518</td>\n",
       "    </tr>\n",
       "    <tr>\n",
       "      <th>10950</th>\n",
       "      <td>5.8</td>\n",
       "      <td>4.806887</td>\n",
       "    </tr>\n",
       "    <tr>\n",
       "      <th>10936</th>\n",
       "      <td>6.2</td>\n",
       "      <td>4.579792</td>\n",
       "    </tr>\n",
       "  </tbody>\n",
       "</table>\n",
       "</div>"
      ],
      "text/plain": [
       "       t + 1  pred (t +1)\n",
       "9680     5.5     4.650717\n",
       "906      5.6     4.770723\n",
       "437      5.6     4.753439\n",
       "2166     5.6     4.674054\n",
       "3418     5.6     4.588829\n",
       "2664     5.7     4.665363\n",
       "8528     5.7     4.758902\n",
       "4948     5.8     4.700518\n",
       "10950    5.8     4.806887\n",
       "10936    6.2     4.579792"
      ]
     },
     "execution_count": 18,
     "metadata": {},
     "output_type": "execute_result"
    },
    {
     "data": {
      "image/png": "[encoded data removed]",
      "text/plain": [
       "<Figure size 432x288 with 1 Axes>"
      ]
     },
     "metadata": {
      "needs_background": "light"
     },
     "output_type": "display_data"
    }
   ],
   "source": [
    "\n",
    "import math\n",
    "print('mean_squared_error',mean_squared_error(ytest, ypred))\n",
    "print('root mean_squared_error',math.sqrt(mean_squared_error(ytest, ypred)))\n",
    "print('mean_absolute_error',mean_absolute_error(ytest, ypred))\n",
    "print('r2_score',r2_score(ytest, ypred))\n",
    "\n",
    "ypredPD=pd.DataFrame()\n",
    "# ypredPD['t']=xtest['S000501_x'].values\n",
    "ypredPD['t + 1']=ytest.values.ravel()\n",
    "ypredPD['pred (t +1)']=ypred\n",
    "ypredPD.head(30)\n",
    "\n",
    "import matplotlib.patches as mpatches\n",
    "plt.ylabel('Values')\n",
    "plt.xlabel('index')\n",
    "red_patch = mpatches.Patch(color='red', label='Actual data')\n",
    "blue_patch = mpatches.Patch(color='blue', label='Predicted data')\n",
    "plt.legend(handles=[red_patch,blue_patch])\n",
    "\n",
    "ypredPD=ypredPD.sort_values(by=['t + 1'])\n",
    "plt.scatter(np.arange(0,ypredPD.shape[0],1),ypredPD['pred (t +1)'][:ypredPD.shape[0]])\n",
    "plt.plot(np.arange(0,ypredPD.shape[0],1),ypredPD['t + 1'][:ypredPD.shape[0]],color='red')\n",
    "plt.show()\n",
    "\n",
    "plt.ylabel('p*(t+1), Predicted data')\n",
    "plt.xlabel('p(t+1), Actual data')\n",
    "plt.scatter(ypredPD['t + 1'][:ypredPD.shape[0]],ypredPD['pred (t +1)'][:ypredPD.shape[0]])\n",
    "\n",
    "ypredPD.tail(10)"
   ]
  },
  {
   "cell_type": "code",
   "execution_count": 19,
   "metadata": {},
   "outputs": [],
   "source": [
    "# tempdata=pd.DataFrame(xtest.copy())\n",
    "# tempdata['ytest']=ytest\n",
    "# # temp=temp.dropna()\n",
    "# # tempdata.head()\n",
    "# # tempdata[tempdata.ytest.isna()].index\n",
    "\n",
    "# tempdata=tempdata.drop(tempdata[tempdata.ytest.isna()].index)\n"
   ]
  },
  {
   "cell_type": "markdown",
   "metadata": {},
   "source": [
    "xg boost\n",
    "=========="
   ]
  },
  {
   "cell_type": "code",
   "execution_count": 20,
   "metadata": {},
   "outputs": [],
   "source": [
    "import xgboost as xgb\n",
    "# from sklearn.metrics import mean_squared_error\n",
    "# import pandas as pd\n",
    "# import numpy as np"
   ]
  },
  {
   "cell_type": "code",
   "execution_count": 21,
   "metadata": {},
   "outputs": [
    {
     "name": "stdout",
     "output_type": "stream",
     "text": [
      "[02:47:54] WARNING: C:/Jenkins/workspace/xgboost-win64_release_0.90/src/objective/regression_obj.cu:152: reg:linear is now deprecated in favor of reg:squarederror.\n"
     ]
    },
    {
     "data": {
      "text/plain": [
       "XGBRegressor(base_score=0.5, booster='gbtree', colsample_bylevel=1,\n",
       "             colsample_bynode=1, colsample_bytree=1, gamma=0,\n",
       "             importance_type='gain', learning_rate=0.1, max_delta_step=0,\n",
       "             max_depth=3, min_child_weight=1, missing=None, n_estimators=100,\n",
       "             n_jobs=1, nthread=None, objective='reg:linear', random_state=0,\n",
       "             reg_alpha=0, reg_lambda=1, scale_pos_weight=1, seed=None,\n",
       "             silent=None, subsample=1, verbosity=1)"
      ]
     },
     "execution_count": 21,
     "metadata": {},
     "output_type": "execute_result"
    }
   ],
   "source": [
    "xg_reg = xgb.XGBRegressor()\n",
    "# xg_reg = xgb.XGBRegressor(objective ='reg:linear', colsample_bytree = 0.3, \n",
    "#                           learning_rate = 0.1,max_depth = 5, alpha = 10, n_estimators = 10)\n",
    "xg_reg.fit(xtrain, ytrain) "
   ]
  },
  {
   "cell_type": "code",
   "execution_count": 22,
   "metadata": {},
   "outputs": [
    {
     "name": "stdout",
     "output_type": "stream",
     "text": [
      "mean_squared_error 0.05541948773527681\n",
      "root mean_squared_error 0.23541344000561398\n",
      "mean_absolute_error 0.18114071140862834\n",
      "r2_score 0.2320765072807961\n"
     ]
    }
   ],
   "source": [
    "\n",
    "ypred = xg_reg.predict(xtest)\n",
    "\n",
    "import math\n",
    "print('mean_squared_error',mean_squared_error(ytest, ypred))\n",
    "print('root mean_squared_error',math.sqrt(mean_squared_error(ytest, ypred)))\n",
    "print('mean_absolute_error',mean_absolute_error(ytest, ypred))\n",
    "print('r2_score',r2_score(ytest, ypred))\n",
    "\n",
    "# ypredPD=pd.DataFrame()\n",
    "# ypredPD['t']=xtest['S000501_x'].values\n",
    "# ypredPD['t + 1']=ytest.values\n",
    "# ypredPD['pred (t +1)']=ypred\n",
    "# ypredPD.head(10)"
   ]
  },
  {
   "cell_type": "code",
   "execution_count": 23,
   "metadata": {},
   "outputs": [],
   "source": [
    "# ytest[ytest.isna()].shape\n",
    "# tempdata.iloc[:,-1]"
   ]
  },
  {
   "cell_type": "markdown",
   "metadata": {},
   "source": [
    "ANN\n",
    "=========="
   ]
  },
  {
   "cell_type": "code",
   "execution_count": 58,
   "metadata": {},
   "outputs": [],
   "source": [
    "model= Sequential()\n",
    "model.add(Dense(input_dim=29,units=128,activation='relu', kernel_initializer='uniform'))\n",
    "model.add(Dense(units=128, activation='relu', kernel_initializer='uniform')) \n",
    "model.add(BatchNormalization())\n",
    "model.add(Dropout(0.25))  \n",
    "model.add(Dense(units=64, activation='relu', kernel_initializer='uniform'))\n",
    "model.add(Dense(units=64, activation='relu', kernel_initializer='uniform')) \n",
    "model.add(BatchNormalization())\n",
    "model.add(Dropout(0.25))  \n",
    "model.add(Dense(units=64, activation='relu', kernel_initializer='uniform'))\n",
    "model.add(Dense(units=64, activation='relu', kernel_initializer='uniform')) \n",
    "model.add(BatchNormalization())\n",
    "model.add(Dropout(0.25))  \n",
    "model.add(Dense(units=32, activation='relu', kernel_initializer='uniform'))\n",
    "model.add(Dense(units=32, activation='relu', kernel_initializer='uniform')) \n",
    "model.add(BatchNormalization())\n",
    "model.add(Dropout(0.25))  \n",
    "model.add(Dense(units=16, activation='relu', kernel_initializer='uniform'))\n",
    "model.add(BatchNormalization())\n",
    "model.add(Dropout(0.25))  \n",
    "model.add(Dense(units=8, activation='relu', kernel_initializer='uniform'))\n",
    "model.add(Dense(units=1, kernel_initializer='uniform'))\n",
    "model.compile(loss='mean_squared_error', optimizer='Nadam', metrics=['mean_squared_error' ])"
   ]
  },
  {
   "cell_type": "code",
   "execution_count": 59,
   "metadata": {
    "scrolled": true
   },
   "outputs": [
    {
     "name": "stdout",
     "output_type": "stream",
     "text": [
      "Train on 23032 samples, validate on 5759 samples\n",
      "Epoch 1/100\n",
      "23032/23032 [==============================] - 3s 120us/step - loss: 118.7340 - mean_squared_error: 118.7340 - val_loss: 19.8389 - val_mean_squared_error: 19.8389\n",
      "Epoch 2/100\n",
      "23032/23032 [==============================] - 1s 51us/step - loss: 25.9030 - mean_squared_error: 25.9030 - val_loss: 10.8667 - val_mean_squared_error: 10.8667\n",
      "Epoch 3/100\n",
      "23032/23032 [==============================] - 1s 51us/step - loss: 22.3034 - mean_squared_error: 22.3034 - val_loss: 10.7477 - val_mean_squared_error: 10.7477\n",
      "Epoch 4/100\n",
      "23032/23032 [==============================] - 1s 51us/step - loss: 20.5817 - mean_squared_error: 20.5817 - val_loss: 10.7501 - val_mean_squared_error: 10.7501\n",
      "Epoch 5/100\n",
      "23032/23032 [==============================] - 1s 50us/step - loss: 18.8789 - mean_squared_error: 18.8789 - val_loss: 11.0220 - val_mean_squared_error: 11.0220\n",
      "Epoch 6/100\n",
      "23032/23032 [==============================] - 1s 51us/step - loss: 17.3384 - mean_squared_error: 17.3384 - val_loss: 9.2237 - val_mean_squared_error: 9.2237\n",
      "Epoch 7/100\n",
      "23032/23032 [==============================] - 1s 52us/step - loss: 15.8318 - mean_squared_error: 15.8318 - val_loss: 9.6316 - val_mean_squared_error: 9.6316\n",
      "Epoch 8/100\n",
      "23032/23032 [==============================] - 1s 52us/step - loss: 14.2854 - mean_squared_error: 14.2854 - val_loss: 10.3285 - val_mean_squared_error: 10.3285\n",
      "Epoch 9/100\n",
      "23032/23032 [==============================] - 1s 51us/step - loss: 12.8729 - mean_squared_error: 12.8729 - val_loss: 9.6566 - val_mean_squared_error: 9.6566\n",
      "Epoch 10/100\n",
      "23032/23032 [==============================] - 1s 51us/step - loss: 11.2525 - mean_squared_error: 11.2525 - val_loss: 8.9247 - val_mean_squared_error: 8.9247\n",
      "Epoch 11/100\n",
      "23032/23032 [==============================] - 1s 52us/step - loss: 9.9443 - mean_squared_error: 9.9443 - val_loss: 8.9367 - val_mean_squared_error: 8.9367\n",
      "Epoch 12/100\n",
      "23032/23032 [==============================] - 1s 51us/step - loss: 9.3914 - mean_squared_error: 9.3914 - val_loss: 8.8609 - val_mean_squared_error: 8.8609\n",
      "Epoch 13/100\n",
      "23032/23032 [==============================] - 1s 50us/step - loss: 9.2838 - mean_squared_error: 9.2838 - val_loss: 8.8469 - val_mean_squared_error: 8.8469\n",
      "Epoch 14/100\n",
      "23032/23032 [==============================] - 1s 51us/step - loss: 9.2615 - mean_squared_error: 9.2615 - val_loss: 8.8382 - val_mean_squared_error: 8.8382\n",
      "Epoch 15/100\n",
      "23032/23032 [==============================] - 1s 51us/step - loss: 9.2270 - mean_squared_error: 9.2270 - val_loss: 8.8084 - val_mean_squared_error: 8.8084\n",
      "Epoch 16/100\n",
      "23032/23032 [==============================] - 1s 51us/step - loss: 9.2382 - mean_squared_error: 9.2382 - val_loss: 8.8008 - val_mean_squared_error: 8.8008\n",
      "Epoch 17/100\n",
      "23032/23032 [==============================] - 1s 51us/step - loss: 9.2057 - mean_squared_error: 9.2057 - val_loss: 8.8356 - val_mean_squared_error: 8.8356\n",
      "Epoch 18/100\n",
      "23032/23032 [==============================] - 1s 51us/step - loss: 9.2118 - mean_squared_error: 9.2118 - val_loss: 8.8429 - val_mean_squared_error: 8.8429\n",
      "Epoch 19/100\n",
      "23032/23032 [==============================] - 1s 51us/step - loss: 9.2248 - mean_squared_error: 9.2248 - val_loss: 8.8729 - val_mean_squared_error: 8.8729\n",
      "Epoch 20/100\n",
      "23032/23032 [==============================] - 1s 51us/step - loss: 9.2203 - mean_squared_error: 9.2203 - val_loss: 8.8458 - val_mean_squared_error: 8.8458\n",
      "Epoch 21/100\n",
      "23032/23032 [==============================] - 1s 51us/step - loss: 9.2023 - mean_squared_error: 9.2023 - val_loss: 8.8312 - val_mean_squared_error: 8.8312\n",
      "Epoch 22/100\n",
      "23032/23032 [==============================] - 1s 51us/step - loss: 9.1955 - mean_squared_error: 9.1955 - val_loss: 8.8081 - val_mean_squared_error: 8.8081\n",
      "Epoch 23/100\n",
      "23032/23032 [==============================] - 1s 51us/step - loss: 9.1957 - mean_squared_error: 9.1957 - val_loss: 8.8116 - val_mean_squared_error: 8.8116\n",
      "Epoch 24/100\n",
      "23032/23032 [==============================] - 1s 51us/step - loss: 9.1757 - mean_squared_error: 9.1757 - val_loss: 8.8062 - val_mean_squared_error: 8.8062\n",
      "Epoch 25/100\n",
      "23032/23032 [==============================] - 1s 51us/step - loss: 9.1735 - mean_squared_error: 9.1735 - val_loss: 8.8187 - val_mean_squared_error: 8.8187\n",
      "Epoch 26/100\n",
      "23032/23032 [==============================] - 1s 51us/step - loss: 9.1670 - mean_squared_error: 9.1670 - val_loss: 8.7982 - val_mean_squared_error: 8.7982\n",
      "Epoch 27/100\n",
      "23032/23032 [==============================] - 1s 51us/step - loss: 9.1854 - mean_squared_error: 9.1854 - val_loss: 8.8499 - val_mean_squared_error: 8.8499\n",
      "Epoch 28/100\n",
      "23032/23032 [==============================] - 1s 51us/step - loss: 9.1745 - mean_squared_error: 9.1745 - val_loss: 8.7937 - val_mean_squared_error: 8.7937\n",
      "Epoch 29/100\n",
      "23032/23032 [==============================] - ETA: 0s - loss: 9.1741 - mean_squared_error: 9.17 - 1s 51us/step - loss: 9.1625 - mean_squared_error: 9.1625 - val_loss: 8.7888 - val_mean_squared_error: 8.7888\n",
      "Epoch 30/100\n",
      "23032/23032 [==============================] - 1s 51us/step - loss: 9.1586 - mean_squared_error: 9.1586 - val_loss: 8.8197 - val_mean_squared_error: 8.8197\n",
      "Epoch 31/100\n",
      "23032/23032 [==============================] - 1s 51us/step - loss: 9.1508 - mean_squared_error: 9.1508 - val_loss: 8.8107 - val_mean_squared_error: 8.8107\n",
      "Epoch 32/100\n",
      "23032/23032 [==============================] - 1s 51us/step - loss: 9.1526 - mean_squared_error: 9.1526 - val_loss: 8.7703 - val_mean_squared_error: 8.7703\n",
      "Epoch 33/100\n",
      "23032/23032 [==============================] - 1s 51us/step - loss: 9.1622 - mean_squared_error: 9.1622 - val_loss: 8.8244 - val_mean_squared_error: 8.8244\n",
      "Epoch 34/100\n",
      "23032/23032 [==============================] - 1s 53us/step - loss: 9.1528 - mean_squared_error: 9.1528 - val_loss: 8.8891 - val_mean_squared_error: 8.8891\n",
      "Epoch 35/100\n",
      "23032/23032 [==============================] - 1s 52us/step - loss: 9.1730 - mean_squared_error: 9.1730 - val_loss: 8.7718 - val_mean_squared_error: 8.7718\n",
      "Epoch 36/100\n",
      "23032/23032 [==============================] - 1s 52us/step - loss: 9.1396 - mean_squared_error: 9.1396 - val_loss: 8.7912 - val_mean_squared_error: 8.7912\n",
      "Epoch 37/100\n",
      "23032/23032 [==============================] - 1s 52us/step - loss: 9.1640 - mean_squared_error: 9.1640 - val_loss: 8.7968 - val_mean_squared_error: 8.7968\n",
      "Epoch 38/100\n",
      "23032/23032 [==============================] - 1s 51us/step - loss: 9.1513 - mean_squared_error: 9.1513 - val_loss: 8.7736 - val_mean_squared_error: 8.7736\n",
      "Epoch 39/100\n",
      "23032/23032 [==============================] - 1s 51us/step - loss: 9.1447 - mean_squared_error: 9.1447 - val_loss: 8.7956 - val_mean_squared_error: 8.7956\n",
      "Epoch 40/100\n",
      "23032/23032 [==============================] - 1s 51us/step - loss: 9.1645 - mean_squared_error: 9.1645 - val_loss: 8.8805 - val_mean_squared_error: 8.8805\n",
      "Epoch 41/100\n",
      "23032/23032 [==============================] - 1s 51us/step - loss: 9.1709 - mean_squared_error: 9.1709 - val_loss: 8.9662 - val_mean_squared_error: 8.9662\n",
      "Epoch 42/100\n",
      "23032/23032 [==============================] - 1s 51us/step - loss: 9.1547 - mean_squared_error: 9.1547 - val_loss: 8.7821 - val_mean_squared_error: 8.7821\n",
      "Epoch 43/100\n",
      "23032/23032 [==============================] - 1s 51us/step - loss: 9.1497 - mean_squared_error: 9.1497 - val_loss: 8.7955 - val_mean_squared_error: 8.7955\n",
      "Epoch 44/100\n",
      "23032/23032 [==============================] - 1s 51us/step - loss: 9.1603 - mean_squared_error: 9.1603 - val_loss: 8.8676 - val_mean_squared_error: 8.8676\n",
      "Epoch 45/100\n",
      "23032/23032 [==============================] - 1s 52us/step - loss: 9.1628 - mean_squared_error: 9.1628 - val_loss: 8.8221 - val_mean_squared_error: 8.8221\n",
      "Epoch 46/100\n",
      "23032/23032 [==============================] - 1s 51us/step - loss: 9.1528 - mean_squared_error: 9.1528 - val_loss: 8.8142 - val_mean_squared_error: 8.8142\n",
      "Epoch 47/100\n",
      "23032/23032 [==============================] - 1s 50us/step - loss: 9.1470 - mean_squared_error: 9.1470 - val_loss: 8.8217 - val_mean_squared_error: 8.8217\n",
      "Epoch 48/100\n",
      "23032/23032 [==============================] - 1s 51us/step - loss: 9.1670 - mean_squared_error: 9.1670 - val_loss: 8.8258 - val_mean_squared_error: 8.8258\n"
     ]
    },
    {
     "name": "stdout",
     "output_type": "stream",
     "text": [
      "Epoch 49/100\n",
      "23032/23032 [==============================] - 1s 50us/step - loss: 9.1582 - mean_squared_error: 9.1582 - val_loss: 8.8271 - val_mean_squared_error: 8.8271\n",
      "Epoch 50/100\n",
      "23032/23032 [==============================] - 1s 50us/step - loss: 9.1611 - mean_squared_error: 9.1611 - val_loss: 8.8421 - val_mean_squared_error: 8.8421\n",
      "Epoch 51/100\n",
      "23032/23032 [==============================] - 1s 50us/step - loss: 9.1775 - mean_squared_error: 9.1775 - val_loss: 8.8505 - val_mean_squared_error: 8.8505\n",
      "Epoch 52/100\n",
      "23032/23032 [==============================] - 1s 50us/step - loss: 9.1786 - mean_squared_error: 9.1786 - val_loss: 8.7868 - val_mean_squared_error: 8.7868\n",
      "Epoch 53/100\n",
      "23032/23032 [==============================] - 1s 50us/step - loss: 9.1790 - mean_squared_error: 9.1790 - val_loss: 8.8795 - val_mean_squared_error: 8.8795\n",
      "Epoch 54/100\n",
      "23032/23032 [==============================] - 1s 50us/step - loss: 9.1755 - mean_squared_error: 9.1755 - val_loss: 9.1229 - val_mean_squared_error: 9.1229\n",
      "Epoch 55/100\n",
      "23032/23032 [==============================] - 1s 50us/step - loss: 9.2166 - mean_squared_error: 9.2166 - val_loss: 8.8759 - val_mean_squared_error: 8.8759\n",
      "Epoch 56/100\n",
      "23032/23032 [==============================] - 1s 50us/step - loss: 9.2287 - mean_squared_error: 9.2287 - val_loss: 8.8951 - val_mean_squared_error: 8.8951\n",
      "Epoch 57/100\n",
      "23032/23032 [==============================] - 1s 50us/step - loss: 9.2103 - mean_squared_error: 9.2103 - val_loss: 8.9077 - val_mean_squared_error: 8.9077\n",
      "Epoch 58/100\n",
      "23032/23032 [==============================] - 1s 51us/step - loss: 9.2098 - mean_squared_error: 9.2098 - val_loss: 9.0119 - val_mean_squared_error: 9.0119\n",
      "Epoch 59/100\n",
      "23032/23032 [==============================] - 1s 50us/step - loss: 9.2918 - mean_squared_error: 9.2918 - val_loss: 8.9719 - val_mean_squared_error: 8.9719\n",
      "Epoch 60/100\n",
      "23032/23032 [==============================] - 1s 52us/step - loss: 9.2742 - mean_squared_error: 9.2742 - val_loss: 8.9713 - val_mean_squared_error: 8.9713\n",
      "Epoch 61/100\n",
      "23032/23032 [==============================] - 1s 52us/step - loss: 9.2894 - mean_squared_error: 9.2894 - val_loss: 8.9688 - val_mean_squared_error: 8.9688\n",
      "Epoch 62/100\n",
      "23032/23032 [==============================] - 1s 52us/step - loss: 9.2927 - mean_squared_error: 9.2927 - val_loss: 8.9765 - val_mean_squared_error: 8.9765\n",
      "Epoch 63/100\n",
      "23032/23032 [==============================] - 1s 52us/step - loss: 9.2816 - mean_squared_error: 9.2816 - val_loss: 9.0476 - val_mean_squared_error: 9.0476\n",
      "Epoch 64/100\n",
      "23032/23032 [==============================] - 1s 50us/step - loss: 9.2921 - mean_squared_error: 9.2921 - val_loss: 9.2621 - val_mean_squared_error: 9.2621\n",
      "Epoch 65/100\n",
      "23032/23032 [==============================] - 1s 51us/step - loss: 9.2395 - mean_squared_error: 9.2395 - val_loss: 8.9384 - val_mean_squared_error: 8.9384\n",
      "Epoch 66/100\n",
      "23032/23032 [==============================] - 1s 51us/step - loss: 9.1854 - mean_squared_error: 9.1854 - val_loss: 8.9609 - val_mean_squared_error: 8.9609\n",
      "Epoch 67/100\n",
      "23032/23032 [==============================] - 1s 51us/step - loss: 9.1699 - mean_squared_error: 9.1699 - val_loss: 8.9161 - val_mean_squared_error: 8.9161\n",
      "Epoch 68/100\n",
      "23032/23032 [==============================] - 1s 52us/step - loss: 9.2507 - mean_squared_error: 9.2507 - val_loss: 8.9741 - val_mean_squared_error: 8.9741\n",
      "Epoch 69/100\n",
      "23032/23032 [==============================] - 1s 52us/step - loss: 9.2865 - mean_squared_error: 9.2865 - val_loss: 9.0034 - val_mean_squared_error: 9.0034\n",
      "Epoch 70/100\n",
      "23032/23032 [==============================] - 1s 51us/step - loss: 9.2742 - mean_squared_error: 9.2742 - val_loss: 8.9670 - val_mean_squared_error: 8.9670\n",
      "Epoch 71/100\n",
      "23032/23032 [==============================] - 1s 51us/step - loss: 9.2778 - mean_squared_error: 9.2778 - val_loss: 8.9540 - val_mean_squared_error: 8.9540\n",
      "Epoch 72/100\n",
      "23032/23032 [==============================] - 1s 51us/step - loss: 9.2739 - mean_squared_error: 9.2739 - val_loss: 8.9664 - val_mean_squared_error: 8.9664\n",
      "Epoch 73/100\n",
      "23032/23032 [==============================] - 1s 51us/step - loss: 9.2419 - mean_squared_error: 9.2419 - val_loss: 8.9232 - val_mean_squared_error: 8.9232\n",
      "Epoch 74/100\n",
      "23032/23032 [==============================] - 1s 52us/step - loss: 9.1820 - mean_squared_error: 9.1820 - val_loss: 8.8197 - val_mean_squared_error: 8.8197\n",
      "Epoch 75/100\n",
      "23032/23032 [==============================] - 1s 51us/step - loss: 9.2294 - mean_squared_error: 9.2294 - val_loss: 8.9459 - val_mean_squared_error: 8.9459\n",
      "Epoch 76/100\n",
      "23032/23032 [==============================] - 1s 51us/step - loss: 9.2384 - mean_squared_error: 9.2384 - val_loss: 8.9182 - val_mean_squared_error: 8.9182\n",
      "Epoch 77/100\n",
      "23032/23032 [==============================] - 1s 52us/step - loss: 9.1952 - mean_squared_error: 9.1952 - val_loss: 9.5515 - val_mean_squared_error: 9.5515\n",
      "Epoch 78/100\n",
      "23032/23032 [==============================] - 1s 54us/step - loss: 9.2245 - mean_squared_error: 9.2245 - val_loss: 8.8962 - val_mean_squared_error: 8.8962\n",
      "Epoch 79/100\n",
      "23032/23032 [==============================] - 1s 50us/step - loss: 9.1952 - mean_squared_error: 9.1952 - val_loss: 8.7860 - val_mean_squared_error: 8.7860\n",
      "Epoch 80/100\n",
      "23032/23032 [==============================] - 1s 51us/step - loss: 9.1688 - mean_squared_error: 9.1688 - val_loss: 9.0438 - val_mean_squared_error: 9.0438\n",
      "Epoch 81/100\n",
      "23032/23032 [==============================] - 1s 50us/step - loss: 9.2474 - mean_squared_error: 9.2474 - val_loss: 8.9548 - val_mean_squared_error: 8.9548\n",
      "Epoch 82/100\n",
      "23032/23032 [==============================] - 1s 51us/step - loss: 9.2435 - mean_squared_error: 9.2435 - val_loss: 8.9673 - val_mean_squared_error: 8.9673\n",
      "Epoch 83/100\n",
      "23032/23032 [==============================] - 1s 51us/step - loss: 9.2422 - mean_squared_error: 9.2422 - val_loss: 8.9391 - val_mean_squared_error: 8.9391\n",
      "Epoch 84/100\n",
      "23032/23032 [==============================] - 1s 50us/step - loss: 9.2584 - mean_squared_error: 9.2584 - val_loss: 8.9307 - val_mean_squared_error: 8.9307\n",
      "Epoch 85/100\n",
      "23032/23032 [==============================] - 1s 50us/step - loss: 9.2366 - mean_squared_error: 9.2366 - val_loss: 8.9361 - val_mean_squared_error: 8.9361\n",
      "Epoch 86/100\n",
      "23032/23032 [==============================] - 1s 52us/step - loss: 9.2129 - mean_squared_error: 9.2129 - val_loss: 8.8837 - val_mean_squared_error: 8.8837\n",
      "Epoch 87/100\n",
      "23032/23032 [==============================] - 1s 50us/step - loss: 9.2019 - mean_squared_error: 9.2019 - val_loss: 8.8623 - val_mean_squared_error: 8.8623\n",
      "Epoch 88/100\n",
      "23032/23032 [==============================] - 1s 50us/step - loss: 9.1909 - mean_squared_error: 9.1909 - val_loss: 9.0127 - val_mean_squared_error: 9.0127\n",
      "Epoch 89/100\n",
      "23032/23032 [==============================] - 1s 51us/step - loss: 9.1896 - mean_squared_error: 9.1896 - val_loss: 8.8835 - val_mean_squared_error: 8.8835\n",
      "Epoch 90/100\n",
      "23032/23032 [==============================] - 1s 51us/step - loss: 9.1067 - mean_squared_error: 9.1067 - val_loss: 8.8721 - val_mean_squared_error: 8.8721\n",
      "Epoch 91/100\n",
      "23032/23032 [==============================] - 1s 51us/step - loss: 9.1535 - mean_squared_error: 9.1535 - val_loss: 8.7798 - val_mean_squared_error: 8.7798\n",
      "Epoch 92/100\n",
      "23032/23032 [==============================] - 1s 52us/step - loss: 9.0089 - mean_squared_error: 9.0089 - val_loss: 8.9803 - val_mean_squared_error: 8.9803\n",
      "Epoch 93/100\n",
      "23032/23032 [==============================] - 1s 51us/step - loss: 8.3872 - mean_squared_error: 8.3872 - val_loss: 8.2414 - val_mean_squared_error: 8.2414\n",
      "Epoch 94/100\n",
      "23032/23032 [==============================] - 1s 50us/step - loss: 5.6223 - mean_squared_error: 5.6223 - val_loss: 3.6082 - val_mean_squared_error: 3.6082\n",
      "Epoch 95/100\n",
      "23032/23032 [==============================] - 1s 50us/step - loss: 4.1561 - mean_squared_error: 4.1561 - val_loss: 3.8209 - val_mean_squared_error: 3.8209\n",
      "Epoch 96/100\n",
      "23032/23032 [==============================] - 1s 51us/step - loss: 3.7251 - mean_squared_error: 3.7251 - val_loss: 8.0323 - val_mean_squared_error: 8.0323\n",
      "Epoch 97/100\n",
      "23032/23032 [==============================] - 1s 50us/step - loss: 3.5814 - mean_squared_error: 3.5814 - val_loss: 2.9625 - val_mean_squared_error: 2.9625\n",
      "Epoch 98/100\n",
      "23032/23032 [==============================] - 1s 50us/step - loss: 3.3871 - mean_squared_error: 3.3871 - val_loss: 3.0843 - val_mean_squared_error: 3.0843\n",
      "Epoch 99/100\n",
      "23032/23032 [==============================] - 1s 50us/step - loss: 3.7529 - mean_squared_error: 3.7529 - val_loss: 2.9497 - val_mean_squared_error: 2.9497\n",
      "Epoch 100/100\n",
      "23032/23032 [==============================] - 1s 50us/step - loss: 3.2239 - mean_squared_error: 3.2239 - val_loss: 3.3650 - val_mean_squared_error: 3.3650\n"
     ]
    }
   ],
   "source": [
    "h=model.fit(xtrain, ytrain, validation_split=.2,epochs=100, batch_size=50)"
   ]
  },
  {
   "cell_type": "code",
   "execution_count": 60,
   "metadata": {},
   "outputs": [
    {
     "name": "stdout",
     "output_type": "stream",
     "text": [
      "mean_squared_error 3.2517443494341\n",
      "root mean_squared_error 1.8032593683200706\n",
      "mean_absolute_error 1.3202867395846702\n",
      "r2_score 0.6421986533601264\n"
     ]
    },
    {
     "data": {
      "text/html": [
       "<div>\n",
       "<style scoped>\n",
       "    .dataframe tbody tr th:only-of-type {\n",
       "        vertical-align: middle;\n",
       "    }\n",
       "\n",
       "    .dataframe tbody tr th {\n",
       "        vertical-align: top;\n",
       "    }\n",
       "\n",
       "    .dataframe thead th {\n",
       "        text-align: right;\n",
       "    }\n",
       "</style>\n",
       "<table border=\"1\" class=\"dataframe\">\n",
       "  <thead>\n",
       "    <tr style=\"text-align: right;\">\n",
       "      <th></th>\n",
       "      <th>t + 1</th>\n",
       "      <th>pred (t +1)</th>\n",
       "    </tr>\n",
       "  </thead>\n",
       "  <tbody>\n",
       "    <tr>\n",
       "      <th>0</th>\n",
       "      <td>17.8</td>\n",
       "      <td>19.481968</td>\n",
       "    </tr>\n",
       "    <tr>\n",
       "      <th>1</th>\n",
       "      <td>21.6</td>\n",
       "      <td>19.718412</td>\n",
       "    </tr>\n",
       "    <tr>\n",
       "      <th>2</th>\n",
       "      <td>24.1</td>\n",
       "      <td>22.552965</td>\n",
       "    </tr>\n",
       "    <tr>\n",
       "      <th>3</th>\n",
       "      <td>23.5</td>\n",
       "      <td>21.673393</td>\n",
       "    </tr>\n",
       "    <tr>\n",
       "      <th>4</th>\n",
       "      <td>27.5</td>\n",
       "      <td>23.912336</td>\n",
       "    </tr>\n",
       "    <tr>\n",
       "      <th>5</th>\n",
       "      <td>20.4</td>\n",
       "      <td>19.873095</td>\n",
       "    </tr>\n",
       "    <tr>\n",
       "      <th>6</th>\n",
       "      <td>19.5</td>\n",
       "      <td>19.901802</td>\n",
       "    </tr>\n",
       "    <tr>\n",
       "      <th>7</th>\n",
       "      <td>18.3</td>\n",
       "      <td>19.374771</td>\n",
       "    </tr>\n",
       "    <tr>\n",
       "      <th>8</th>\n",
       "      <td>27.0</td>\n",
       "      <td>25.263119</td>\n",
       "    </tr>\n",
       "    <tr>\n",
       "      <th>9</th>\n",
       "      <td>18.0</td>\n",
       "      <td>19.727901</td>\n",
       "    </tr>\n",
       "  </tbody>\n",
       "</table>\n",
       "</div>"
      ],
      "text/plain": [
       "   t + 1  pred (t +1)\n",
       "0   17.8    19.481968\n",
       "1   21.6    19.718412\n",
       "2   24.1    22.552965\n",
       "3   23.5    21.673393\n",
       "4   27.5    23.912336\n",
       "5   20.4    19.873095\n",
       "6   19.5    19.901802\n",
       "7   18.3    19.374771\n",
       "8   27.0    25.263119\n",
       "9   18.0    19.727901"
      ]
     },
     "execution_count": 60,
     "metadata": {},
     "output_type": "execute_result"
    }
   ],
   "source": [
    "ypred=model.predict(xtest)\n",
    "\n",
    "import math\n",
    "print('mean_squared_error',mean_squared_error(ytest, ypred))\n",
    "print('root mean_squared_error',math.sqrt(mean_squared_error(ytest, ypred)))\n",
    "print('mean_absolute_error',mean_absolute_error(ytest, ypred))\n",
    "print('r2_score',r2_score(ytest, ypred))\n",
    "\n",
    "ypredPD=pd.DataFrame()\n",
    "# ypredPD['t']=xtest['S000501_x'].values\n",
    "ypredPD['t + 1']=ytest.values.ravel()\n",
    "ypredPD['pred (t +1)']=ypred\n",
    "ypredPD.head(10)"
   ]
  },
  {
   "cell_type": "code",
   "execution_count": 61,
   "metadata": {},
   "outputs": [
    {
     "name": "stdout",
     "output_type": "stream",
     "text": [
      "dict_keys(['val_loss', 'val_mean_squared_error', 'loss', 'mean_squared_error'])\n"
     ]
    },
    {
     "data": {
      "image/png": "[encoded data removed]",
      "text/plain": [
       "<Figure size 432x288 with 1 Axes>"
      ]
     },
     "metadata": {
      "needs_background": "light"
     },
     "output_type": "display_data"
    },
    {
     "data": {
      "image/png": "[encoded data removed]",
      "text/plain": [
       "<Figure size 432x288 with 1 Axes>"
      ]
     },
     "metadata": {
      "needs_background": "light"
     },
     "output_type": "display_data"
    }
   ],
   "source": [
    "history=h\n",
    "print(history.history.keys())\n",
    "# summarize history for accuracy\n",
    "plt.plot(history.history['val_loss'])\n",
    "plt.plot(history.history['loss'])\n",
    "plt.title('model accuracy')\n",
    "plt.ylabel('accuracy')\n",
    "plt.xlabel('epoch')\n",
    "plt.legend(['train', 'test'], loc='upper left')\n",
    "plt.show()\n",
    "# summarize history for loss\n",
    "plt.plot(history.history['val_mean_squared_error'])\n",
    "plt.plot(history.history['mean_squared_error'])\n",
    "plt.title('model loss')\n",
    "plt.ylabel('loss')\n",
    "plt.xlabel('epoch')\n",
    "plt.legend(['train', 'test'], loc='upper left')\n",
    "plt.show()"
   ]
  },
  {
   "cell_type": "code",
   "execution_count": 62,
   "metadata": {},
   "outputs": [
    {
     "name": "stdout",
     "output_type": "stream",
     "text": [
      "1.3202867395846738\n",
      "1.2282456084639513\n",
      "98.37454848569047\n"
     ]
    }
   ],
   "source": [
    "ypredPD['diff']=abs(ypredPD['t + 1']- ypredPD['pred (t +1)'])\n",
    "print(np.mean(ypredPD['diff']))\n",
    "print(np.std(ypredPD['diff']))\n",
    "print(100*ypredPD[ypredPD['diff']<=5].shape[0]/ypredPD.shape[0])"
   ]
  },
  {
   "cell_type": "code",
   "execution_count": 63,
   "metadata": {},
   "outputs": [
    {
     "data": {
      "image/png": "[encoded data removed]",
      "text/plain": [
       "<Figure size 432x288 with 1 Axes>"
      ]
     },
     "metadata": {
      "needs_background": "light"
     },
     "output_type": "display_data"
    },
    {
     "data": {
      "text/html": [
       "<div>\n",
       "<style scoped>\n",
       "    .dataframe tbody tr th:only-of-type {\n",
       "        vertical-align: middle;\n",
       "    }\n",
       "\n",
       "    .dataframe tbody tr th {\n",
       "        vertical-align: top;\n",
       "    }\n",
       "\n",
       "    .dataframe thead th {\n",
       "        text-align: right;\n",
       "    }\n",
       "</style>\n",
       "<table border=\"1\" class=\"dataframe\">\n",
       "  <thead>\n",
       "    <tr style=\"text-align: right;\">\n",
       "      <th></th>\n",
       "      <th>t + 1</th>\n",
       "      <th>pred (t +1)</th>\n",
       "      <th>diff</th>\n",
       "    </tr>\n",
       "  </thead>\n",
       "  <tbody>\n",
       "    <tr>\n",
       "      <th>2419</th>\n",
       "      <td>13.4</td>\n",
       "      <td>18.191751</td>\n",
       "      <td>4.791751</td>\n",
       "    </tr>\n",
       "    <tr>\n",
       "      <th>2464</th>\n",
       "      <td>15.0</td>\n",
       "      <td>17.902821</td>\n",
       "      <td>2.902821</td>\n",
       "    </tr>\n",
       "    <tr>\n",
       "      <th>1788</th>\n",
       "      <td>15.0</td>\n",
       "      <td>18.570789</td>\n",
       "      <td>3.570789</td>\n",
       "    </tr>\n",
       "    <tr>\n",
       "      <th>2690</th>\n",
       "      <td>15.1</td>\n",
       "      <td>18.881800</td>\n",
       "      <td>3.781800</td>\n",
       "    </tr>\n",
       "    <tr>\n",
       "      <th>5780</th>\n",
       "      <td>15.1</td>\n",
       "      <td>18.492310</td>\n",
       "      <td>3.392310</td>\n",
       "    </tr>\n",
       "    <tr>\n",
       "      <th>2730</th>\n",
       "      <td>15.2</td>\n",
       "      <td>18.174953</td>\n",
       "      <td>2.974953</td>\n",
       "    </tr>\n",
       "    <tr>\n",
       "      <th>3299</th>\n",
       "      <td>15.4</td>\n",
       "      <td>18.548992</td>\n",
       "      <td>3.148992</td>\n",
       "    </tr>\n",
       "    <tr>\n",
       "      <th>2230</th>\n",
       "      <td>15.4</td>\n",
       "      <td>17.965977</td>\n",
       "      <td>2.565977</td>\n",
       "    </tr>\n",
       "    <tr>\n",
       "      <th>1692</th>\n",
       "      <td>15.5</td>\n",
       "      <td>18.641792</td>\n",
       "      <td>3.141792</td>\n",
       "    </tr>\n",
       "    <tr>\n",
       "      <th>1494</th>\n",
       "      <td>15.6</td>\n",
       "      <td>17.876085</td>\n",
       "      <td>2.276085</td>\n",
       "    </tr>\n",
       "  </tbody>\n",
       "</table>\n",
       "</div>"
      ],
      "text/plain": [
       "      t + 1  pred (t +1)      diff\n",
       "2419   13.4    18.191751  4.791751\n",
       "2464   15.0    17.902821  2.902821\n",
       "1788   15.0    18.570789  3.570789\n",
       "2690   15.1    18.881800  3.781800\n",
       "5780   15.1    18.492310  3.392310\n",
       "2730   15.2    18.174953  2.974953\n",
       "3299   15.4    18.548992  3.148992\n",
       "2230   15.4    17.965977  2.565977\n",
       "1692   15.5    18.641792  3.141792\n",
       "1494   15.6    17.876085  2.276085"
      ]
     },
     "execution_count": 63,
     "metadata": {},
     "output_type": "execute_result"
    },
    {
     "data": {
      "image/png": "[encoded data removed]",
      "text/plain": [
       "<Figure size 432x288 with 1 Axes>"
      ]
     },
     "metadata": {
      "needs_background": "light"
     },
     "output_type": "display_data"
    }
   ],
   "source": [
    "\n",
    "import matplotlib.patches as mpatches\n",
    "plt.ylabel('Values')\n",
    "plt.xlabel('index')\n",
    "red_patch = mpatches.Patch(color='red', label='Actual data')\n",
    "blue_patch = mpatches.Patch(color='blue', label='Predicted data')\n",
    "plt.legend(handles=[red_patch,blue_patch])\n",
    "\n",
    "ypredPD=ypredPD.sort_values(by=['t + 1'])\n",
    "plt.scatter(np.arange(0,ypredPD.shape[0],1),ypredPD['pred (t +1)'][:ypredPD.shape[0]])\n",
    "plt.plot(np.arange(0,ypredPD.shape[0],1),ypredPD['t + 1'][:ypredPD.shape[0]],color='red')\n",
    "plt.show()\n",
    "\n",
    "plt.ylabel('p*(t+1), Predicted data')\n",
    "plt.xlabel('p(t+1), Actual data')\n",
    "plt.scatter(ypredPD['t + 1'][:ypredPD.shape[0]],ypredPD['pred (t +1)'][:ypredPD.shape[0]])\n",
    "\n",
    "ypredPD.head(10)"
   ]
  },
  {
   "cell_type": "markdown",
   "metadata": {},
   "source": [
    "SVR\n",
    "======"
   ]
  },
  {
   "cell_type": "code",
   "execution_count": null,
   "metadata": {},
   "outputs": [],
   "source": [
    "from sklearn.svm import SVR\n",
    "# svr_rbf = SVR(kernel='rbf', C=10, gamma=0.02, epsilon=.001)\n",
    "svr_rbf = SVR(kernel='rbf')"
   ]
  },
  {
   "cell_type": "code",
   "execution_count": null,
   "metadata": {},
   "outputs": [],
   "source": [
    "svr_rbf.fit(xtrain, ytrain) "
   ]
  },
  {
   "cell_type": "code",
   "execution_count": null,
   "metadata": {},
   "outputs": [],
   "source": [
    "ypred=svr_rbf.predict(xtest)"
   ]
  },
  {
   "cell_type": "code",
   "execution_count": null,
   "metadata": {},
   "outputs": [],
   "source": [
    "import math\n",
    "print('mean_squared_error',mean_squared_error(ytest, ypred))\n",
    "print('root mean_squared_error',math.sqrt(mean_squared_error(ytest, ypred)))\n",
    "print('mean_absolute_error',mean_absolute_error(ytest, ypred))\n",
    "print('r2_score',r2_score(ytest, ypred))\n",
    "\n",
    "ypredPD=pd.DataFrame()\n",
    "# ypredPD['t']=xtest['S000501_x'].values\n",
    "ypredPD['t + 1']=ytest.values.ravel()\n",
    "ypredPD['pred (t +1)']=ypred\n",
    "ypredPD.head(10)"
   ]
  },
  {
   "cell_type": "code",
   "execution_count": null,
   "metadata": {},
   "outputs": [],
   "source": []
  },
  {
   "cell_type": "code",
   "execution_count": null,
   "metadata": {},
   "outputs": [],
   "source": []
  }
 ],
 "metadata": {
  "kernelspec": {
   "display_name": "Python 3",
   "language": "python",
   "name": "python3"
  },
  "language_info": {
   "codemirror_mode": {
    "name": "ipython",
    "version": 3
   },
   "file_extension": ".py",
   "mimetype": "text/x-python",
   "name": "python",
   "nbconvert_exporter": "python",
   "pygments_lexer": "ipython3",
   "version": "3.7.3"
  }
 },
 "nbformat": 4,
 "nbformat_minor": 2
}

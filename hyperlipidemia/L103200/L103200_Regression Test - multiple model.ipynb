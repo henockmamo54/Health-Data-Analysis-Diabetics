{
 "cells": [
  {
   "cell_type": "code",
   "execution_count": 1,
   "metadata": {},
   "outputs": [
    {
     "name": "stderr",
     "output_type": "stream",
     "text": [
      "Using TensorFlow backend.\n"
     ]
    }
   ],
   "source": [
    "from matplotlib import pyplot as plt\n",
    "import pandas as pd \n",
    "import numpy as np\n",
    "import warnings\n",
    "warnings.filterwarnings('ignore')\n",
    "from scipy import stats\n",
    "from sklearn.utils import shuffle\n",
    "from sklearn.preprocessing import LabelEncoder\n",
    "from sklearn.metrics import confusion_matrix \n",
    "from sklearn.utils import shuffle\n",
    "from sklearn.ensemble import RandomForestRegressor\n",
    "from sklearn.datasets import make_regression\n",
    "from sklearn.model_selection import train_test_split\n",
    "from sklearn.metrics import mean_absolute_error\n",
    "from sklearn.metrics import mean_squared_error\n",
    "from sklearn.metrics import mean_absolute_error\n",
    "from sklearn.metrics import r2_score\n",
    "from keras.models import Sequential\n",
    "from keras.layers import Dense\n",
    "from keras.wrappers.scikit_learn import KerasRegressor\n",
    "from sklearn.model_selection import cross_val_score\n",
    "from sklearn.model_selection import KFold\n",
    "from sklearn.preprocessing import StandardScaler\n",
    "from sklearn.pipeline import Pipeline\n",
    "from keras.layers import Dropout\n",
    "from keras.layers import BatchNormalization\n",
    "from keras.models import model_from_json\n",
    "from keras.utils import multi_gpu_model \n",
    "from keras.utils import to_categorical\n"
   ]
  },
  {
   "cell_type": "markdown",
   "metadata": {},
   "source": [
    "Read the data\n",
    "==========="
   ]
  },
  {
   "cell_type": "code",
   "execution_count": 2,
   "metadata": {},
   "outputs": [
    {
     "name": "stdout",
     "output_type": "stream",
     "text": [
      "(159381, 14)\n",
      "(159381, 2)\n"
     ]
    }
   ],
   "source": [
    "x_original=pd.read_csv('../../_xlable4_withNa_AllColumns.txt')\n",
    "y_original=pd.read_csv('../../_targelable4_withNa_AllColumns.txt')\n",
    "\n",
    "x_original=x_original[['Unnamed: 0','L103200', 'L102900', 'B_DAY', 'L103100', 'L100700', 'S000501',\n",
    "       'L190300', 'L104600', 'S000300', 'L103300', 'AGE', 'FIELD_41','FIELD_4' ]]\n",
    "\n",
    "y_original=y_original[['Unnamed: 0','L103200', ]]\n",
    "\n",
    "print(x_original.shape)\n",
    "print(y_original.shape)\n"
   ]
  },
  {
   "cell_type": "code",
   "execution_count": 3,
   "metadata": {},
   "outputs": [
    {
     "name": "stdout",
     "output_type": "stream",
     "text": [
      "Unnamed: 0 159381\n",
      "L103200 158879\n",
      "L102900 158941\n",
      "B_DAY 159381\n",
      "L103100 158880\n",
      "L100700 152474\n",
      "S000501 159305\n",
      "L190300 159204\n",
      "L104600 56437\n",
      "S000300 159075\n",
      "L103300 135222\n",
      "AGE 159381\n",
      "FIELD_41 159053\n",
      "FIELD_4 156956\n"
     ]
    }
   ],
   "source": [
    "for index,col in enumerate(x_original.columns):\n",
    "    print(col,x_original[col].dropna().shape[0])"
   ]
  },
  {
   "cell_type": "markdown",
   "metadata": {},
   "source": [
    "Prepare the data\n",
    "============"
   ]
  },
  {
   "cell_type": "code",
   "execution_count": 4,
   "metadata": {},
   "outputs": [
    {
     "name": "stdout",
     "output_type": "stream",
     "text": [
      "(45153, 16)\n"
     ]
    }
   ],
   "source": [
    "data= pd.merge(x_original,y_original, how='inner',left_on='Unnamed: 0', right_on='Unnamed: 0')\n",
    "data=data.dropna(). reset_index()\n",
    "\n",
    "\n",
    "print(data.shape)"
   ]
  },
  {
   "cell_type": "code",
   "execution_count": 5,
   "metadata": {},
   "outputs": [
    {
     "name": "stdout",
     "output_type": "stream",
     "text": [
      "(45153, 16)\n",
      "Index(['index', 'Unnamed: 0', 'L103200_x', 'L102900', 'B_DAY', 'L103100',\n",
      "       'L100700', 'S000501', 'L190300', 'L104600', 'S000300', 'L103300', 'AGE',\n",
      "       'FIELD_41', 'FIELD_4', 'L103200_y'],\n",
      "      dtype='object')\n"
     ]
    },
    {
     "data": {
      "text/html": [
       "<div>\n",
       "<style scoped>\n",
       "    .dataframe tbody tr th:only-of-type {\n",
       "        vertical-align: middle;\n",
       "    }\n",
       "\n",
       "    .dataframe tbody tr th {\n",
       "        vertical-align: top;\n",
       "    }\n",
       "\n",
       "    .dataframe thead th {\n",
       "        text-align: right;\n",
       "    }\n",
       "</style>\n",
       "<table border=\"1\" class=\"dataframe\">\n",
       "  <thead>\n",
       "    <tr style=\"text-align: right;\">\n",
       "      <th></th>\n",
       "      <th>index</th>\n",
       "      <th>Unnamed: 0</th>\n",
       "      <th>L103200_x</th>\n",
       "      <th>L102900</th>\n",
       "      <th>B_DAY</th>\n",
       "      <th>L103100</th>\n",
       "      <th>L100700</th>\n",
       "      <th>S000501</th>\n",
       "      <th>L190300</th>\n",
       "      <th>L104600</th>\n",
       "      <th>S000300</th>\n",
       "      <th>L103300</th>\n",
       "      <th>AGE</th>\n",
       "      <th>FIELD_41</th>\n",
       "      <th>FIELD_4</th>\n",
       "      <th>L103200_y</th>\n",
       "    </tr>\n",
       "  </thead>\n",
       "  <tbody>\n",
       "    <tr>\n",
       "      <th>0</th>\n",
       "      <td>2</td>\n",
       "      <td>2</td>\n",
       "      <td>163.0</td>\n",
       "      <td>243.0</td>\n",
       "      <td>690507.0</td>\n",
       "      <td>72.0</td>\n",
       "      <td>3.8</td>\n",
       "      <td>135.0</td>\n",
       "      <td>4.26</td>\n",
       "      <td>5.28</td>\n",
       "      <td>20.2</td>\n",
       "      <td>3.4</td>\n",
       "      <td>46.0</td>\n",
       "      <td>2.0</td>\n",
       "      <td>3.0</td>\n",
       "      <td>161.0</td>\n",
       "    </tr>\n",
       "    <tr>\n",
       "      <th>1</th>\n",
       "      <td>4</td>\n",
       "      <td>4</td>\n",
       "      <td>102.0</td>\n",
       "      <td>170.0</td>\n",
       "      <td>630314.0</td>\n",
       "      <td>58.0</td>\n",
       "      <td>3.4</td>\n",
       "      <td>111.0</td>\n",
       "      <td>3.92</td>\n",
       "      <td>5.74</td>\n",
       "      <td>25.5</td>\n",
       "      <td>2.9</td>\n",
       "      <td>52.0</td>\n",
       "      <td>3.0</td>\n",
       "      <td>2.0</td>\n",
       "      <td>96.0</td>\n",
       "    </tr>\n",
       "    <tr>\n",
       "      <th>2</th>\n",
       "      <td>7</td>\n",
       "      <td>7</td>\n",
       "      <td>139.0</td>\n",
       "      <td>225.0</td>\n",
       "      <td>781215.0</td>\n",
       "      <td>77.0</td>\n",
       "      <td>3.9</td>\n",
       "      <td>136.0</td>\n",
       "      <td>4.44</td>\n",
       "      <td>5.83</td>\n",
       "      <td>21.2</td>\n",
       "      <td>2.9</td>\n",
       "      <td>37.0</td>\n",
       "      <td>2.0</td>\n",
       "      <td>2.0</td>\n",
       "      <td>143.0</td>\n",
       "    </tr>\n",
       "    <tr>\n",
       "      <th>3</th>\n",
       "      <td>8</td>\n",
       "      <td>8</td>\n",
       "      <td>87.0</td>\n",
       "      <td>145.0</td>\n",
       "      <td>771005.0</td>\n",
       "      <td>47.0</td>\n",
       "      <td>4.2</td>\n",
       "      <td>130.0</td>\n",
       "      <td>4.28</td>\n",
       "      <td>4.73</td>\n",
       "      <td>22.0</td>\n",
       "      <td>3.1</td>\n",
       "      <td>39.0</td>\n",
       "      <td>1.0</td>\n",
       "      <td>2.0</td>\n",
       "      <td>99.0</td>\n",
       "    </tr>\n",
       "    <tr>\n",
       "      <th>4</th>\n",
       "      <td>30</td>\n",
       "      <td>30</td>\n",
       "      <td>74.0</td>\n",
       "      <td>149.0</td>\n",
       "      <td>940924.0</td>\n",
       "      <td>57.0</td>\n",
       "      <td>4.8</td>\n",
       "      <td>105.0</td>\n",
       "      <td>4.42</td>\n",
       "      <td>5.10</td>\n",
       "      <td>20.1</td>\n",
       "      <td>2.6</td>\n",
       "      <td>19.0</td>\n",
       "      <td>0.0</td>\n",
       "      <td>4.0</td>\n",
       "      <td>66.0</td>\n",
       "    </tr>\n",
       "  </tbody>\n",
       "</table>\n",
       "</div>"
      ],
      "text/plain": [
       "   index  Unnamed: 0  L103200_x  L102900     B_DAY  L103100  L100700  S000501  \\\n",
       "0      2           2      163.0    243.0  690507.0     72.0      3.8    135.0   \n",
       "1      4           4      102.0    170.0  630314.0     58.0      3.4    111.0   \n",
       "2      7           7      139.0    225.0  781215.0     77.0      3.9    136.0   \n",
       "3      8           8       87.0    145.0  771005.0     47.0      4.2    130.0   \n",
       "4     30          30       74.0    149.0  940924.0     57.0      4.8    105.0   \n",
       "\n",
       "   L190300  L104600  S000300  L103300   AGE  FIELD_41  FIELD_4  L103200_y  \n",
       "0     4.26     5.28     20.2      3.4  46.0       2.0      3.0      161.0  \n",
       "1     3.92     5.74     25.5      2.9  52.0       3.0      2.0       96.0  \n",
       "2     4.44     5.83     21.2      2.9  37.0       2.0      2.0      143.0  \n",
       "3     4.28     4.73     22.0      3.1  39.0       1.0      2.0       99.0  \n",
       "4     4.42     5.10     20.1      2.6  19.0       0.0      4.0       66.0  "
      ]
     },
     "execution_count": 5,
     "metadata": {},
     "output_type": "execute_result"
    }
   ],
   "source": [
    "print(data.shape)\n",
    "print(data.columns)\n",
    "data.head()"
   ]
  },
  {
   "cell_type": "code",
   "execution_count": 21,
   "metadata": {},
   "outputs": [],
   "source": [
    "\n",
    "x=data[['L103200_x', 'L102900', 'L103100', 'L100700', 'S000501',\n",
    "       'L190300', 'L104600', 'S000300', 'L103300', 'AGE', 'FIELD_41','FIELD_4']]\n",
    "\n",
    "y=data[['L103200_y' ]]"
   ]
  },
  {
   "cell_type": "markdown",
   "metadata": {},
   "source": [
    "Check the correlation of the selected feature with the independent variables\n",
    "====="
   ]
  },
  {
   "cell_type": "code",
   "execution_count": 22,
   "metadata": {},
   "outputs": [],
   "source": [
    "temppd=pd.DataFrame(x.copy())\n",
    "temppd['y']=y.L103200_y\n",
    "temppd.head()\n",
    "corval=abs(temppd.corr()).sort_values(by='y', ascending=False)"
   ]
  },
  {
   "cell_type": "code",
   "execution_count": 23,
   "metadata": {},
   "outputs": [
    {
     "data": {
      "text/plain": [
       "y            1.000000\n",
       "L103200_x    0.694410\n",
       "L102900      0.635050\n",
       "L103300      0.474526\n",
       "S000300      0.187312\n",
       "L104600      0.168534\n",
       "AGE          0.164661\n",
       "L103100      0.132550\n",
       "L190300      0.130207\n",
       "S000501      0.121983\n",
       "L100700      0.120819\n",
       "FIELD_4      0.038355\n",
       "FIELD_41     0.011844\n",
       "Name: y, dtype: float64"
      ]
     },
     "execution_count": 23,
     "metadata": {},
     "output_type": "execute_result"
    }
   ],
   "source": [
    "corval.y"
   ]
  },
  {
   "cell_type": "markdown",
   "metadata": {},
   "source": [
    "Apply PCA\n",
    "==========="
   ]
  },
  {
   "cell_type": "code",
   "execution_count": 24,
   "metadata": {},
   "outputs": [],
   "source": [
    "# from sklearn.decomposition import PCA\n",
    "# pca = PCA(n_components=8)\n",
    "# pca.fit(x)\n",
    "\n",
    "# print(pca.explained_variance_ratio_)   \n",
    "# print(np.sum(pca.explained_variance_ratio_))\n",
    "\n",
    "# x=pca.fit_transform(x) \n",
    "# print(x.shape)\n"
   ]
  },
  {
   "cell_type": "markdown",
   "metadata": {},
   "source": [
    "feature scaling\n",
    "======="
   ]
  },
  {
   "cell_type": "code",
   "execution_count": 25,
   "metadata": {},
   "outputs": [],
   "source": [
    "# from sklearn import preprocessing\n",
    "# min_max_scaler = preprocessing.MinMaxScaler()  #StandardScaler()\n",
    "# x = min_max_scaler.fit_transform(x)"
   ]
  },
  {
   "cell_type": "markdown",
   "metadata": {},
   "source": [
    "clustring test\n",
    "=========="
   ]
  },
  {
   "cell_type": "code",
   "execution_count": 26,
   "metadata": {},
   "outputs": [],
   "source": [
    "# from sklearn.cluster import KMeans\n",
    "# from scipy.spatial.distance import cdist\n",
    "\n",
    "# K = range(1,10)\n",
    "# distortions = []\n",
    "\n",
    "# for k in K:\n",
    "#     kmeanModel = KMeans(n_clusters=k).fit(x)\n",
    "#     kmeanModel.fit(x)\n",
    "#     distortions.append(sum(np.min(cdist(x, kmeanModel.cluster_centers_, 'euclidean'), axis=1)) / x.shape[0])\n",
    "\n",
    "# # Plot the elbow\n",
    "# plt.plot(K, distortions, 'bx-')\n",
    "# plt.xlabel('k')\n",
    "# plt.ylabel('Distortion')\n",
    "# plt.title('The Elbow Method showing the optimal k')\n",
    "# plt.show()\n"
   ]
  },
  {
   "cell_type": "code",
   "execution_count": 27,
   "metadata": {},
   "outputs": [],
   "source": [
    "# kmeanModel = KMeans(n_clusters=k).fit(x)\n",
    "# x['lbl']=kmeanModel.labels_ "
   ]
  },
  {
   "cell_type": "code",
   "execution_count": 28,
   "metadata": {},
   "outputs": [],
   "source": [
    "# x.columns"
   ]
  },
  {
   "cell_type": "markdown",
   "metadata": {},
   "source": [
    "Random Forest Regressor\n",
    "============="
   ]
  },
  {
   "cell_type": "code",
   "execution_count": 29,
   "metadata": {},
   "outputs": [],
   "source": [
    "ylable=y[['L103200_y']]  \n",
    "xtrain,xtest,ytrain,ytest=train_test_split(x, ylable, random_state=42, test_size=0.2)"
   ]
  },
  {
   "cell_type": "code",
   "execution_count": 35,
   "metadata": {},
   "outputs": [
    {
     "name": "stdout",
     "output_type": "stream",
     "text": [
      "[0.88763648 0.0177618  0.00695531 0.00925037 0.00627117 0.01089396\n",
      " 0.01373462 0.00902404 0.02727853 0.00778841 0.00183576 0.00156955]\n"
     ]
    }
   ],
   "source": [
    "regr = RandomForestRegressor(max_depth=8, random_state=0,verbose =0,n_estimators=1000)\n",
    "regr.fit(xtrain, ytrain) \n",
    "print(regr.feature_importances_)\n",
    "ypred=regr.predict(xtest)\n"
   ]
  },
  {
   "cell_type": "code",
   "execution_count": 36,
   "metadata": {},
   "outputs": [
    {
     "name": "stdout",
     "output_type": "stream",
     "text": [
      "mean_squared_error 496.1415408604615\n",
      "root mean_squared_error 22.274234910776656\n",
      "mean_absolute_error 16.974306317811788\n",
      "r2_score 0.5003934472654796\n"
     ]
    },
    {
     "data": {
      "image/png": "[encoded data removed]",
      "text/plain": [
       "<Figure size 432x288 with 1 Axes>"
      ]
     },
     "metadata": {
      "needs_background": "light"
     },
     "output_type": "display_data"
    },
    {
     "data": {
      "text/html": [
       "<div>\n",
       "<style scoped>\n",
       "    .dataframe tbody tr th:only-of-type {\n",
       "        vertical-align: middle;\n",
       "    }\n",
       "\n",
       "    .dataframe tbody tr th {\n",
       "        vertical-align: top;\n",
       "    }\n",
       "\n",
       "    .dataframe thead th {\n",
       "        text-align: right;\n",
       "    }\n",
       "</style>\n",
       "<table border=\"1\" class=\"dataframe\">\n",
       "  <thead>\n",
       "    <tr style=\"text-align: right;\">\n",
       "      <th></th>\n",
       "      <th>t + 1</th>\n",
       "      <th>pred (t +1)</th>\n",
       "    </tr>\n",
       "  </thead>\n",
       "  <tbody>\n",
       "    <tr>\n",
       "      <th>8913</th>\n",
       "      <td>247.0</td>\n",
       "      <td>177.139382</td>\n",
       "    </tr>\n",
       "    <tr>\n",
       "      <th>6922</th>\n",
       "      <td>250.0</td>\n",
       "      <td>184.742330</td>\n",
       "    </tr>\n",
       "    <tr>\n",
       "      <th>7647</th>\n",
       "      <td>252.0</td>\n",
       "      <td>163.094924</td>\n",
       "    </tr>\n",
       "    <tr>\n",
       "      <th>451</th>\n",
       "      <td>258.0</td>\n",
       "      <td>199.245610</td>\n",
       "    </tr>\n",
       "    <tr>\n",
       "      <th>6750</th>\n",
       "      <td>260.0</td>\n",
       "      <td>171.807742</td>\n",
       "    </tr>\n",
       "    <tr>\n",
       "      <th>4657</th>\n",
       "      <td>265.0</td>\n",
       "      <td>145.315534</td>\n",
       "    </tr>\n",
       "    <tr>\n",
       "      <th>4770</th>\n",
       "      <td>270.0</td>\n",
       "      <td>212.114233</td>\n",
       "    </tr>\n",
       "    <tr>\n",
       "      <th>4167</th>\n",
       "      <td>270.0</td>\n",
       "      <td>184.327964</td>\n",
       "    </tr>\n",
       "    <tr>\n",
       "      <th>7658</th>\n",
       "      <td>275.0</td>\n",
       "      <td>189.897395</td>\n",
       "    </tr>\n",
       "    <tr>\n",
       "      <th>7462</th>\n",
       "      <td>293.0</td>\n",
       "      <td>233.613243</td>\n",
       "    </tr>\n",
       "  </tbody>\n",
       "</table>\n",
       "</div>"
      ],
      "text/plain": [
       "      t + 1  pred (t +1)\n",
       "8913  247.0   177.139382\n",
       "6922  250.0   184.742330\n",
       "7647  252.0   163.094924\n",
       "451   258.0   199.245610\n",
       "6750  260.0   171.807742\n",
       "4657  265.0   145.315534\n",
       "4770  270.0   212.114233\n",
       "4167  270.0   184.327964\n",
       "7658  275.0   189.897395\n",
       "7462  293.0   233.613243"
      ]
     },
     "execution_count": 36,
     "metadata": {},
     "output_type": "execute_result"
    },
    {
     "data": {
      "image/png": "[encoded data removed]",
      "text/plain": [
       "<Figure size 432x288 with 1 Axes>"
      ]
     },
     "metadata": {
      "needs_background": "light"
     },
     "output_type": "display_data"
    }
   ],
   "source": [
    "\n",
    "import math\n",
    "print('mean_squared_error',mean_squared_error(ytest, ypred))\n",
    "print('root mean_squared_error',math.sqrt(mean_squared_error(ytest, ypred)))\n",
    "print('mean_absolute_error',mean_absolute_error(ytest, ypred))\n",
    "print('r2_score',r2_score(ytest, ypred))\n",
    "\n",
    "ypredPD=pd.DataFrame()\n",
    "# ypredPD['t']=xtest['S000501_x'].values\n",
    "ypredPD['t + 1']=ytest.values.ravel()\n",
    "ypredPD['pred (t +1)']=ypred\n",
    "ypredPD.head(30)\n",
    "\n",
    "import matplotlib.patches as mpatches\n",
    "plt.ylabel('Values')\n",
    "plt.xlabel('index')\n",
    "red_patch = mpatches.Patch(color='red', label='Actual data')\n",
    "blue_patch = mpatches.Patch(color='blue', label='Predicted data')\n",
    "plt.legend(handles=[red_patch,blue_patch])\n",
    "\n",
    "ypredPD=ypredPD.sort_values(by=['t + 1'])\n",
    "plt.scatter(np.arange(0,ypredPD.shape[0],1),ypredPD['pred (t +1)'][:ypredPD.shape[0]])\n",
    "plt.plot(np.arange(0,ypredPD.shape[0],1),ypredPD['t + 1'][:ypredPD.shape[0]],color='red')\n",
    "plt.show()\n",
    "\n",
    "plt.ylabel('p*(t+1), Predicted data')\n",
    "plt.xlabel('p(t+1), Actual data')\n",
    "plt.scatter(ypredPD['t + 1'][:ypredPD.shape[0]],ypredPD['pred (t +1)'][:ypredPD.shape[0]])\n",
    "\n",
    "ypredPD.tail(10)"
   ]
  },
  {
   "cell_type": "markdown",
   "metadata": {},
   "source": [
    "xg boost\n",
    "=========="
   ]
  },
  {
   "cell_type": "code",
   "execution_count": 37,
   "metadata": {},
   "outputs": [],
   "source": [
    "import xgboost as xgb\n",
    "# from sklearn.metrics import mean_squared_error\n",
    "# import pandas as pd\n",
    "# import numpy as np"
   ]
  },
  {
   "cell_type": "code",
   "execution_count": 38,
   "metadata": {},
   "outputs": [
    {
     "name": "stdout",
     "output_type": "stream",
     "text": [
      "[02:08:40] WARNING: C:/Jenkins/workspace/xgboost-win64_release_0.90/src/objective/regression_obj.cu:152: reg:linear is now deprecated in favor of reg:squarederror.\n"
     ]
    },
    {
     "data": {
      "text/plain": [
       "XGBRegressor(base_score=0.5, booster='gbtree', colsample_bylevel=1,\n",
       "             colsample_bynode=1, colsample_bytree=1, gamma=0,\n",
       "             importance_type='gain', learning_rate=0.1, max_delta_step=0,\n",
       "             max_depth=3, min_child_weight=1, missing=None, n_estimators=100,\n",
       "             n_jobs=1, nthread=None, objective='reg:linear', random_state=0,\n",
       "             reg_alpha=0, reg_lambda=1, scale_pos_weight=1, seed=None,\n",
       "             silent=None, subsample=1, verbosity=1)"
      ]
     },
     "execution_count": 38,
     "metadata": {},
     "output_type": "execute_result"
    }
   ],
   "source": [
    "xg_reg = xgb.XGBRegressor()\n",
    "# xg_reg = xgb.XGBRegressor(objective ='reg:linear', colsample_bytree = 0.3, \n",
    "#                           learning_rate = 0.1,max_depth = 5, alpha = 10, n_estimators = 10)\n",
    "xg_reg.fit(xtrain, ytrain) "
   ]
  },
  {
   "cell_type": "code",
   "execution_count": 39,
   "metadata": {},
   "outputs": [
    {
     "name": "stdout",
     "output_type": "stream",
     "text": [
      "mean_squared_error 490.5725228424887\n",
      "root mean_squared_error 22.148871818729024\n",
      "mean_absolute_error 16.853060511045314\n",
      "r2_score 0.5060013588490379\n"
     ]
    }
   ],
   "source": [
    "\n",
    "ypred = xg_reg.predict(xtest)\n",
    "\n",
    "import math\n",
    "print('mean_squared_error',mean_squared_error(ytest, ypred))\n",
    "print('root mean_squared_error',math.sqrt(mean_squared_error(ytest, ypred)))\n",
    "print('mean_absolute_error',mean_absolute_error(ytest, ypred))\n",
    "print('r2_score',r2_score(ytest, ypred))\n",
    "\n",
    "# ypredPD=pd.DataFrame()\n",
    "# ypredPD['t']=xtest['S000501_x'].values\n",
    "# ypredPD['t + 1']=ytest.values\n",
    "# ypredPD['pred (t +1)']=ypred\n",
    "# ypredPD.head(10)"
   ]
  },
  {
   "cell_type": "code",
   "execution_count": 40,
   "metadata": {},
   "outputs": [],
   "source": [
    "# ytest[ytest.isna()].shape\n",
    "# tempdata.iloc[:,-1]"
   ]
  },
  {
   "cell_type": "markdown",
   "metadata": {},
   "source": [
    "ANN\n",
    "=========="
   ]
  },
  {
   "cell_type": "code",
   "execution_count": null,
   "metadata": {},
   "outputs": [],
   "source": [
    "model= Sequential()\n",
    "model.add(Dense(input_dim=34,units=128,activation='relu', kernel_initializer='uniform'))\n",
    "model.add(Dense(units=128, activation='relu', kernel_initializer='uniform')) \n",
    "# model.add(BatchNormalization())\n",
    "# model.add(Dropout(0.25))  \n",
    "model.add(Dense(units=64, activation='relu', kernel_initializer='uniform'))\n",
    "model.add(Dense(units=32, activation='relu', kernel_initializer='uniform')) \n",
    "model.add(BatchNormalization())\n",
    "model.add(Dropout(0.25))  \n",
    "model.add(Dense(units=16, activation='relu', kernel_initializer='uniform'))\n",
    "model.add(BatchNormalization())\n",
    "model.add(Dropout(0.25))  \n",
    "model.add(Dense(units=8, activation='relu', kernel_initializer='uniform'))\n",
    "model.add(Dense(units=1, kernel_initializer='uniform'))\n",
    "model.compile(loss='mean_squared_error', optimizer='Nadam', metrics=['mean_squared_error' ])"
   ]
  },
  {
   "cell_type": "code",
   "execution_count": null,
   "metadata": {
    "scrolled": true
   },
   "outputs": [],
   "source": [
    "h=model.fit(xtrain, ytrain, validation_split=.2,epochs=100, batch_size=50)"
   ]
  },
  {
   "cell_type": "code",
   "execution_count": null,
   "metadata": {},
   "outputs": [],
   "source": [
    "ypred=model.predict(xtest)\n",
    "\n",
    "import math\n",
    "print('mean_squared_error',mean_squared_error(ytest, ypred))\n",
    "print('root mean_squared_error',math.sqrt(mean_squared_error(ytest, ypred)))\n",
    "print('mean_absolute_error',mean_absolute_error(ytest, ypred))\n",
    "print('r2_score',r2_score(ytest, ypred))\n",
    "\n",
    "ypredPD=pd.DataFrame()\n",
    "# ypredPD['t']=xtest['S000501_x'].values\n",
    "ypredPD['t + 1']=ytest.values.ravel()\n",
    "ypredPD['pred (t +1)']=ypred\n",
    "ypredPD.head(10)"
   ]
  },
  {
   "cell_type": "code",
   "execution_count": null,
   "metadata": {},
   "outputs": [],
   "source": [
    "history=h\n",
    "print(history.history.keys())\n",
    "# summarize history for accuracy\n",
    "plt.plot(history.history['val_loss'])\n",
    "plt.plot(history.history['loss'])\n",
    "plt.title('model accuracy')\n",
    "plt.ylabel('accuracy')\n",
    "plt.xlabel('epoch')\n",
    "plt.legend(['train', 'test'], loc='upper left')\n",
    "plt.show()\n",
    "# summarize history for loss\n",
    "plt.plot(history.history['val_mean_squared_error'])\n",
    "plt.plot(history.history['mean_squared_error'])\n",
    "plt.title('model loss')\n",
    "plt.ylabel('loss')\n",
    "plt.xlabel('epoch')\n",
    "plt.legend(['train', 'test'], loc='upper left')\n",
    "plt.show()"
   ]
  },
  {
   "cell_type": "code",
   "execution_count": null,
   "metadata": {},
   "outputs": [],
   "source": [
    "ypredPD['diff']=abs(ypredPD['t + 1']- ypredPD['pred (t +1)'])\n",
    "print(np.mean(ypredPD['diff']))\n",
    "print(np.std(ypredPD['diff']))\n",
    "print(100*ypredPD[ypredPD['diff']<=5].shape[0]/ypredPD.shape[0])"
   ]
  },
  {
   "cell_type": "code",
   "execution_count": null,
   "metadata": {},
   "outputs": [],
   "source": [
    "\n",
    "import matplotlib.patches as mpatches\n",
    "plt.ylabel('Values')\n",
    "plt.xlabel('index')\n",
    "red_patch = mpatches.Patch(color='red', label='Actual data')\n",
    "blue_patch = mpatches.Patch(color='blue', label='Predicted data')\n",
    "plt.legend(handles=[red_patch,blue_patch])\n",
    "\n",
    "ypredPD=ypredPD.sort_values(by=['t + 1'])\n",
    "plt.scatter(np.arange(0,ypredPD.shape[0],1),ypredPD['pred (t +1)'][:ypredPD.shape[0]])\n",
    "plt.plot(np.arange(0,ypredPD.shape[0],1),ypredPD['t + 1'][:ypredPD.shape[0]],color='red')\n",
    "plt.show()\n",
    "\n",
    "plt.ylabel('p*(t+1), Predicted data')\n",
    "plt.xlabel('p(t+1), Actual data')\n",
    "plt.scatter(ypredPD['t + 1'][:ypredPD.shape[0]],ypredPD['pred (t +1)'][:ypredPD.shape[0]])\n",
    "\n",
    "ypredPD.head(10)"
   ]
  },
  {
   "cell_type": "markdown",
   "metadata": {},
   "source": [
    "SVR\n",
    "======"
   ]
  },
  {
   "cell_type": "code",
   "execution_count": null,
   "metadata": {},
   "outputs": [],
   "source": [
    "from sklearn.svm import SVR\n",
    "# svr_rbf = SVR(kernel='rbf', C=10, gamma=0.02, epsilon=.001)\n",
    "svr_rbf = SVR(kernel='rbf')"
   ]
  },
  {
   "cell_type": "code",
   "execution_count": null,
   "metadata": {},
   "outputs": [],
   "source": [
    "svr_rbf.fit(xtrain, ytrain) "
   ]
  },
  {
   "cell_type": "code",
   "execution_count": null,
   "metadata": {},
   "outputs": [],
   "source": [
    "ypred=svr_rbf.predict(xtest)"
   ]
  },
  {
   "cell_type": "code",
   "execution_count": null,
   "metadata": {},
   "outputs": [],
   "source": [
    "import math\n",
    "print('mean_squared_error',mean_squared_error(ytest, ypred))\n",
    "print('root mean_squared_error',math.sqrt(mean_squared_error(ytest, ypred)))\n",
    "print('mean_absolute_error',mean_absolute_error(ytest, ypred))\n",
    "print('r2_score',r2_score(ytest, ypred))\n",
    "\n",
    "ypredPD=pd.DataFrame()\n",
    "# ypredPD['t']=xtest['S000501_x'].values\n",
    "ypredPD['t + 1']=ytest.values.ravel()\n",
    "ypredPD['pred (t +1)']=ypred\n",
    "ypredPD.head(10)"
   ]
  },
  {
   "cell_type": "code",
   "execution_count": null,
   "metadata": {},
   "outputs": [],
   "source": []
  },
  {
   "cell_type": "code",
   "execution_count": null,
   "metadata": {},
   "outputs": [],
   "source": []
  }
 ],
 "metadata": {
  "kernelspec": {
   "display_name": "Python 3",
   "language": "python",
   "name": "python3"
  },
  "language_info": {
   "codemirror_mode": {
    "name": "ipython",
    "version": 3
   },
   "file_extension": ".py",
   "mimetype": "text/x-python",
   "name": "python",
   "nbconvert_exporter": "python",
   "pygments_lexer": "ipython3",
   "version": "3.7.3"
  }
 },
 "nbformat": 4,
 "nbformat_minor": 2
}

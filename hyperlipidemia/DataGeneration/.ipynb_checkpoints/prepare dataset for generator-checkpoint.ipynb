{
 "cells": [
  {
   "cell_type": "code",
   "execution_count": 1,
   "metadata": {},
   "outputs": [],
   "source": [
    "# %load_ext nb_black\n",
    "import numpy as np\n",
    "import pandas as pd\n",
    "import warnings\n",
    "from sklearn.model_selection import train_test_split\n",
    "from sklearn.ensemble import RandomForestRegressor\n",
    "from sklearn import metrics as m\n",
    "import xgboost as xgb\n",
    "import seaborn as sns\n",
    "\n",
    "warnings.filterwarnings(\"ignore\")\n",
    "random_seed = 8"
   ]
  },
  {
   "cell_type": "code",
   "execution_count": 2,
   "metadata": {},
   "outputs": [],
   "source": [
    "temp=['L100700', 'SEX', 'S000300', 'L103000', 'L103100', 'L103300',\n",
    "       'S000501', 'S000100', 'L101300', 'L190300', 'L100500', 'L101700',\n",
    "      \n",
    "      'S000300', 'SEX', 'L103300', 'S000501', \n",
    "                       'L103100', 'L101300', 'S000502', 'L190300', 'L190400', 'L100700', 'L103000', 'L100800'\n",
    "      \n",
    "      'L101700', 'SEX', 'L101300', 'FIELD_38', 'S000300', 'L101200', \n",
    "                       'L100700', 'L190400', 'L103000', 'L103300', 'L190300', 'L100800',\n",
    "      \n",
    "      'L100800', 'L104600', 'SEX', 'AGE', 'L101300', 'S000300', \n",
    "                       'L103000', 'L103300', 'S000501', 'S000502', 'L101700', 'FIELD_38',\n",
    "      \n",
    "      'L103300', 'L103100', 'L103000', 'L103200', 'S000300', 'L102900', 'SEX', \n",
    "                       'L100700', 'L190300', 'L190400', 'L190500', 'L100500',\n",
    "      \n",
    "      'L102900', 'L103000', 'L103200' \n",
    "     \n",
    "     ]"
   ]
  },
  {
   "cell_type": "code",
   "execution_count": 48,
   "metadata": {},
   "outputs": [
    {
     "name": "stdout",
     "output_type": "stream",
     "text": [
      "['AGE' 'FIELD_1' 'FIELD_15' 'FIELD_17' 'FIELD_2' 'FIELD_22' 'FIELD_23'\n",
      " 'FIELD_24' 'FIELD_33' 'FIELD_38' 'FIELD_40' 'L100500' 'L100500FIELD_16'\n",
      " 'L100700' 'L100800' 'L101200' 'L101300' 'L101700' 'L102900' 'L103000'\n",
      " 'L103100' 'L103200' 'L103300' 'L104600' 'L190300' 'L190400' 'L190500'\n",
      " 'S000100' 'S000300' 'S000501' 'S000502' 'SEX']\n"
     ]
    }
   ],
   "source": [
    "# collected form each main diabetic indicator features regressors\n",
    "cols = np.unique(\n",
    "    [\n",
    "        'L100700', 'SEX', 'S000300', 'L103000', 'L103100', 'L103300',\n",
    "       'S000501', 'S000100', 'L101300', 'L190300', 'L100500', 'L101700',\n",
    "      \n",
    "      'S000300', 'SEX', 'L103300', 'S000501', \n",
    "                       'L103100', 'L101300', 'S000502', 'L190300', 'L190400', 'L100700', 'L103000', 'L100800',\n",
    "      \n",
    "      'L101700', 'SEX', 'L101300', 'FIELD_38', 'S000300', 'L101200', \n",
    "                       'L100700', 'L190400', 'L103000', 'L103300', 'L190300', 'L100800',\n",
    "      \n",
    "      'L100800', 'L104600', 'SEX', 'AGE', 'L101300', 'S000300', \n",
    "                       'L103000', 'L103300', 'S000501', 'S000502', 'L101700', 'FIELD_38',\n",
    "        \n",
    "        'L103300', 'L103100', 'L103000', 'L103200', 'S000300', 'L102900', 'SEX', \n",
    "                       'L100700', 'L190300', 'L190400', 'L190500', 'L100500'\n",
    "        \n",
    "        'FIELD_16','FIELD_23','FIELD_15','FIELD_22','FIELD_17','FIELD_24','FIELD_33','FIELD_40','FIELD_1','FIELD_2',\n",
    "        \n",
    "        'L102900', 'L103000', 'L103200' \n",
    "    ]\n",
    ")\n",
    "\n",
    "print(cols)"
   ]
  },
  {
   "cell_type": "markdown",
   "metadata": {},
   "source": [
    "Read Dataset\n",
    "===="
   ]
  },
  {
   "cell_type": "code",
   "execution_count": 26,
   "metadata": {},
   "outputs": [],
   "source": [
    "x_original=pd.read_csv('../../_xlable4_withNa_AllColumns.txt')\n",
    "y_original=pd.read_csv('../../_targelable4_withNa_AllColumns.txt')\n",
    "\n",
    "data = pd.merge(\n",
    "    x_original, y_original, how=\"inner\", left_on=\"Unnamed: 0\", right_on=\"Unnamed: 0\"\n",
    ")"
   ]
  },
  {
   "cell_type": "markdown",
   "metadata": {},
   "source": [
    "Prepare dataset\n",
    "==="
   ]
  },
  {
   "cell_type": "code",
   "execution_count": 28,
   "metadata": {},
   "outputs": [
    {
     "name": "stdout",
     "output_type": "stream",
     "text": [
      "(39030, 52)\n"
     ]
    }
   ],
   "source": [
    "# filter the data set\n",
    "data = data[data.FIELD_16_x != 1]  # exclude people who are diagnosed for (diabetes)\n",
    "data = data[data.FIELD_23_x != 1]  # exclude people who are on medication for diabetes\n",
    "\n",
    "data = data[\n",
    "    data.FIELD_15_x != 1\n",
    "]  # exclude people who are diagnosed for (high blood pressure)\n",
    "data = data[\n",
    "    data.FIELD_22_x != 1\n",
    "]  # exclude people who are on medication for high blood pressure\n",
    "\n",
    "data = data[data.FIELD_17_x != 1]  # exclude people who are diagnosed for hyperlipidemia\n",
    "data = data[\n",
    "    data.FIELD_24_x != 1\n",
    "]  # exclude people who are on medication for hyperlipidemia\n",
    "\n",
    "\n",
    "data = data[['AGE_x' ,'FIELD_38_x', 'L100500_x' ,'L100700_x', 'L100800_x' ,'L101200_x' ,'L101300_x',\n",
    " 'L101700_x', 'L103000_x', 'L103100_x' ,'L103300_x', 'L104600_x', 'L190300_x' ,'L190400_x',\n",
    " 'S000100_x', 'S000300_x' ,'S000501_x', 'S000502_x' ,'SEX_x','L102900_x', 'L190500_x', 'L103200_x',\n",
    " 'FIELD_33_x','FIELD_40_x','FIELD_1_x','FIELD_2_x','L102900_x', 'L103000_x', 'L103200_x' ,\n",
    "             \n",
    "  'AGE_y' ,'FIELD_38_y' ,'L100500_y', 'L100700_y' ,'L100800_y' ,'L101200_y' ,'L101300_y',\n",
    " 'L101700_y', 'L103000_y' ,'L103100_y' ,'L103300_y' ,'L104600_y', 'L190300_y' ,'L190400_y',\n",
    " 'S000100_y' ,'S000300_y' ,'S000501_y' ,'S000502_y' ,'SEX_y','L102900_y', 'L190500_y', 'L103200_y',\n",
    " 'FIELD_33_y','FIELD_40_y','FIELD_1_y','FIELD_2_y', 'L102900_y', 'L103000_y', 'L103200_y' \n",
    " ]].dropna()\n",
    "print(data.shape)"
   ]
  },
  {
   "cell_type": "code",
   "execution_count": 70,
   "metadata": {},
   "outputs": [],
   "source": [
    "x = data[\n",
    "    [\n",
    "        'AGE_x' ,'FIELD_38_x', 'L100500_x' ,'L100700_x', 'L100800_x' ,'L101200_x' ,'L101300_x',\n",
    " 'L101700_x', 'L103000_x', 'L103100_x' ,'L103300_x', 'L104600_x', 'L190300_x' ,'L190400_x',\n",
    " 'S000100_x', 'S000300_x' ,'S000501_x', 'S000502_x' ,'SEX_x','L102900_x', 'L190500_x', 'L103200_x',\n",
    "        'FIELD_33_x','FIELD_40_x','FIELD_1_x','FIELD_2_x',\n",
    "#         'L102900_x', \n",
    "#         'L103000_x', \n",
    "#         'L103200_x' \n",
    "    ]\n",
    "]\n",
    "\n",
    "y = data[\n",
    "    [        'AGE_y' ,'FIELD_38_y' ,'L100500_y', 'L100700_y' ,'L100800_y' ,'L101200_y' ,'L101300_y',\n",
    " 'L101700_y', 'L103000_y' ,'L103100_y' ,'L103300_y' ,'L104600_y', 'L190300_y' ,'L190400_y',\n",
    " 'S000100_y' ,'S000300_y' ,'S000501_y' ,'S000502_y' ,'SEX_y','L102900_y', 'L190500_y', 'L103200_y',\n",
    "     'FIELD_33_y','FIELD_40_y','FIELD_1_y','FIELD_2_y',  \n",
    "#      'L102900_y', \n",
    "#      'L103000_y', \n",
    "#      'L103200_y' \n",
    "    ]\n",
    "]"
   ]
  },
  {
   "cell_type": "code",
   "execution_count": 71,
   "metadata": {},
   "outputs": [],
   "source": [
    "xtrain, xtest, ytrain, ytest = train_test_split(x, y, random_state=42, test_size=0.3)"
   ]
  },
  {
   "cell_type": "markdown",
   "metadata": {},
   "source": [
    "Train Regression Models\n",
    "=========="
   ]
  },
  {
   "cell_type": "markdown",
   "metadata": {},
   "source": [
    "L100700_x # Uric Acid\n",
    "===="
   ]
  },
  {
   "cell_type": "code",
   "execution_count": 72,
   "metadata": {},
   "outputs": [
    {
     "name": "stdout",
     "output_type": "stream",
     "text": [
      "r2_score 0.7477076322601623\n"
     ]
    }
   ],
   "source": [
    "regr = RandomForestRegressor(\n",
    "    max_depth=10, random_state=random_seed, verbose=0, n_estimators=500, max_features=4\n",
    ")\n",
    "regr.fit(\n",
    "    xtrain[\n",
    "        [\n",
    "            'L100700_x', 'SEX_x', 'S000300_x', 'L103000_x', 'L103100_x', 'L103300_x',\n",
    "       'S000501_x', 'S000100_x', 'L101300_x', 'L190300_x', 'L100500_x', 'L101700_x'\n",
    "        ]\n",
    "    ],\n",
    "    ytrain[[\"L100700_y\"]],\n",
    ")\n",
    "\n",
    "ypred = regr.predict(\n",
    "    xtest[\n",
    "        [\n",
    "            'L100700_x', 'SEX_x', 'S000300_x', 'L103000_x', 'L103100_x', 'L103300_x',\n",
    "       'S000501_x', 'S000100_x', 'L101300_x', 'L190300_x', 'L100500_x', 'L101700_x'\n",
    "        ]\n",
    "    ]\n",
    ")\n",
    "\n",
    "print(\"r2_score\", m.r2_score(ytest[[\"L100700_y\"]], ypred))"
   ]
  },
  {
   "cell_type": "code",
   "execution_count": 73,
   "metadata": {},
   "outputs": [
    {
     "data": {
      "text/plain": [
       "(11709,)"
      ]
     },
     "execution_count": 73,
     "metadata": {},
     "output_type": "execute_result"
    }
   ],
   "source": [
    "pred_L100700 = ypred\n",
    "pred_L100700.shape"
   ]
  },
  {
   "cell_type": "markdown",
   "metadata": {},
   "source": [
    "S000300 #BMI\n",
    "==="
   ]
  },
  {
   "cell_type": "code",
   "execution_count": 74,
   "metadata": {},
   "outputs": [
    {
     "name": "stdout",
     "output_type": "stream",
     "text": [
      "r2_score 0.9004909313156023\n"
     ]
    }
   ],
   "source": [
    "regr = RandomForestRegressor(\n",
    "    max_depth=10, random_state=random_seed, verbose=0, n_estimators=500, max_features=4\n",
    ")\n",
    "regr.fit(\n",
    "    xtrain[\n",
    "        [            \n",
    "      'S000300_x', 'SEX_x', 'L103300_x', 'S000501_x','L103100_x', 'L101300_x', 'S000502_x', \n",
    "            'L190300_x', 'L190400_x', 'L100700_x', 'L103000_x', 'L100800_x',\n",
    "        ]\n",
    "    ],\n",
    "    ytrain[[\"S000300_y\"]],\n",
    ")\n",
    "\n",
    "ypred = regr.predict(\n",
    "    xtest[\n",
    "        [\n",
    "            'S000300_x', 'SEX_x', 'L103300_x', 'S000501_x','L103100_x', 'L101300_x', 'S000502_x', \n",
    "            'L190300_x', 'L190400_x', 'L100700_x', 'L103000_x', 'L100800_x',\n",
    "        ]\n",
    "    ]\n",
    ")\n",
    "\n",
    "print(\"r2_score\", m.r2_score(ytest[[\"S000300_y\"]], ypred))"
   ]
  },
  {
   "cell_type": "code",
   "execution_count": 75,
   "metadata": {},
   "outputs": [],
   "source": [
    "pred_S000300 = ypred"
   ]
  },
  {
   "cell_type": "markdown",
   "metadata": {},
   "source": [
    "L101700 # r-GTP gamma\n",
    "==="
   ]
  },
  {
   "cell_type": "code",
   "execution_count": 76,
   "metadata": {},
   "outputs": [
    {
     "name": "stdout",
     "output_type": "stream",
     "text": [
      "r2_score 0.695967356810201\n"
     ]
    }
   ],
   "source": [
    "regr = RandomForestRegressor(\n",
    "    max_depth=4, random_state=random_seed, verbose=0, n_estimators=1000\n",
    ")\n",
    "regr.fit(\n",
    "    xtrain[\n",
    "        ['L101700_x', 'SEX_x', 'L101300_x', 'FIELD_38_x', 'S000300_x', 'L101200_x', \n",
    "        'L100700_x', 'L190400_x', 'L103000_x', 'L103300_x', 'L190300_x', 'L100800_x',\n",
    "        ]\n",
    "    ],\n",
    "    ytrain[[\"L101700_y\"]],\n",
    ")\n",
    "\n",
    "ypred = regr.predict(\n",
    "    xtest[\n",
    "        ['L101700_x', 'SEX_x', 'L101300_x', 'FIELD_38_x', 'S000300_x', 'L101200_x', \n",
    "        'L100700_x', 'L190400_x', 'L103000_x', 'L103300_x', 'L190300_x', 'L100800_x',\n",
    "        ]\n",
    "    ]\n",
    ")\n",
    "\n",
    "print(\"r2_score\", m.r2_score(ytest[[\"L101700_y\"]], ypred))"
   ]
  },
  {
   "cell_type": "code",
   "execution_count": 77,
   "metadata": {},
   "outputs": [],
   "source": [
    "pred_L101700 = ypred"
   ]
  },
  {
   "cell_type": "markdown",
   "metadata": {},
   "source": [
    "L100800 # fasting glucose level\n",
    "===="
   ]
  },
  {
   "cell_type": "code",
   "execution_count": 78,
   "metadata": {},
   "outputs": [
    {
     "name": "stdout",
     "output_type": "stream",
     "text": [
      "r2_score 0.5082072974432917\n"
     ]
    }
   ],
   "source": [
    "regr = RandomForestRegressor(\n",
    "    max_depth=5, random_state=random_seed, verbose=0, n_estimators=1000, max_features=4\n",
    ")\n",
    "regr.fit(\n",
    "    xtrain[\n",
    "        [\n",
    "           'L100800_x', 'L104600_x', 'SEX_x', 'AGE_x', 'L101300_x', 'S000300_x', \n",
    "                       'L103000_x', 'L103300_x', 'S000501_x', 'S000502_x', 'L101700_x', 'FIELD_38_x',\n",
    "        ]\n",
    "    ],\n",
    "    ytrain[[\"L100800_y\"]],\n",
    ")\n",
    "\n",
    "ypred = regr.predict(\n",
    "    xtest[\n",
    "        [\n",
    "            'L100800_x', 'L104600_x', 'SEX_x', 'AGE_x', 'L101300_x', 'S000300_x', \n",
    "                       'L103000_x', 'L103300_x', 'S000501_x', 'S000502_x', 'L101700_x', 'FIELD_38_x',\n",
    "        ]\n",
    "    ]\n",
    ")\n",
    "\n",
    "print(\"r2_score\", m.r2_score(ytest[[\"L100800_y\"]], ypred))"
   ]
  },
  {
   "cell_type": "code",
   "execution_count": 79,
   "metadata": {},
   "outputs": [],
   "source": [
    "pred_L100800 = ypred"
   ]
  },
  {
   "cell_type": "markdown",
   "metadata": {},
   "source": [
    "L1033 # Cardiac risk factor\n",
    "======="
   ]
  },
  {
   "cell_type": "code",
   "execution_count": 80,
   "metadata": {},
   "outputs": [
    {
     "name": "stdout",
     "output_type": "stream",
     "text": [
      "r2_score 0.7021777444406085\n"
     ]
    }
   ],
   "source": [
    "regr = RandomForestRegressor(\n",
    "    max_depth=8, random_state=random_seed, verbose=0, n_estimators=1000, max_features=7\n",
    ")\n",
    "regr.fit(\n",
    "    xtrain[\n",
    "        [\n",
    "           'L103300_x', 'L103100_x', 'L103000_x', 'L103200_x', 'S000300_x', 'L102900_x', 'SEX_x', \n",
    "                       'L100700_x', 'L190300_x', 'L190400_x', 'L190500_x', 'L100500_x'\n",
    "        ]\n",
    "    ],\n",
    "    ytrain[[\"L103300_y\"]],\n",
    ")\n",
    "\n",
    "ypred = regr.predict(\n",
    "    xtest[\n",
    "        [\n",
    "            'L103300_x', 'L103100_x', 'L103000_x', 'L103200_x', 'S000300_x', 'L102900_x', 'SEX_x', \n",
    "                       'L100700_x', 'L190300_x', 'L190400_x', 'L190500_x', 'L100500_x'\n",
    "        ]\n",
    "    ]\n",
    ")\n",
    "\n",
    "print(\"r2_score\", m.r2_score(ytest[[\"L103300_y\"]], ypred))"
   ]
  },
  {
   "cell_type": "code",
   "execution_count": 81,
   "metadata": {},
   "outputs": [],
   "source": [
    "pred_L103300 = ypred"
   ]
  },
  {
   "cell_type": "markdown",
   "metadata": {},
   "source": [
    "Categorical values\n",
    "====="
   ]
  },
  {
   "cell_type": "code",
   "execution_count": 82,
   "metadata": {},
   "outputs": [],
   "source": [
    "pred_FIELD_33 = ytest.FIELD_33_y"
   ]
  },
  {
   "cell_type": "code",
   "execution_count": 83,
   "metadata": {},
   "outputs": [],
   "source": [
    "pred_FIELD_38 = ytest.FIELD_38_y"
   ]
  },
  {
   "cell_type": "code",
   "execution_count": 84,
   "metadata": {},
   "outputs": [],
   "source": [
    "pred_FIELD_40 = ytest.FIELD_40_y"
   ]
  },
  {
   "cell_type": "code",
   "execution_count": 85,
   "metadata": {},
   "outputs": [],
   "source": [
    "pred_SEX = ytest.SEX_y"
   ]
  },
  {
   "cell_type": "code",
   "execution_count": 86,
   "metadata": {},
   "outputs": [],
   "source": [
    "pred_AGE = ytest.AGE_y + 1"
   ]
  },
  {
   "cell_type": "code",
   "execution_count": 89,
   "metadata": {},
   "outputs": [
    {
     "data": {
      "text/plain": [
       "array([217., 156., 162., ..., 166., 222., 253.])"
      ]
     },
     "execution_count": 89,
     "metadata": {},
     "output_type": "execute_result"
    }
   ],
   "source": [
    "ytest.L102900_y.values"
   ]
  },
  {
   "cell_type": "markdown",
   "metadata": {},
   "source": [
    "Combine the predicted values to make dataframe\n",
    "===="
   ]
  },
  {
   "cell_type": "code",
   "execution_count": 94,
   "metadata": {},
   "outputs": [
    {
     "data": {
      "text/html": [
       "<div>\n",
       "<style scoped>\n",
       "    .dataframe tbody tr th:only-of-type {\n",
       "        vertical-align: middle;\n",
       "    }\n",
       "\n",
       "    .dataframe tbody tr th {\n",
       "        vertical-align: top;\n",
       "    }\n",
       "\n",
       "    .dataframe thead th {\n",
       "        text-align: right;\n",
       "    }\n",
       "</style>\n",
       "<table border=\"1\" class=\"dataframe\">\n",
       "  <thead>\n",
       "    <tr style=\"text-align: right;\">\n",
       "      <th></th>\n",
       "      <th>P_FIELD_1</th>\n",
       "      <th>P_FIELD_2</th>\n",
       "      <th>P_L100700</th>\n",
       "      <th>P_S000300</th>\n",
       "      <th>P_L101700</th>\n",
       "      <th>P_L100800</th>\n",
       "      <th>P_L103300</th>\n",
       "      <th>P_FIELD_33</th>\n",
       "      <th>P_FIELD_38</th>\n",
       "      <th>P_FIELD_40</th>\n",
       "      <th>P_SEX</th>\n",
       "      <th>P_AGE</th>\n",
       "      <th>A_L102900</th>\n",
       "      <th>A_L103200</th>\n",
       "      <th>A_L103000</th>\n",
       "      <th>A_L103300</th>\n",
       "      <th>CLASS</th>\n",
       "    </tr>\n",
       "  </thead>\n",
       "  <tbody>\n",
       "    <tr>\n",
       "      <th>0</th>\n",
       "      <td>430817</td>\n",
       "      <td>20170828</td>\n",
       "      <td>5.382595</td>\n",
       "      <td>26.685450</td>\n",
       "      <td>42.835734</td>\n",
       "      <td>94.943444</td>\n",
       "      <td>3.729447</td>\n",
       "      <td>1.0</td>\n",
       "      <td>1.0</td>\n",
       "      <td>0.0</td>\n",
       "      <td>0.0</td>\n",
       "      <td>36.0</td>\n",
       "      <td>217.0</td>\n",
       "      <td>152.0</td>\n",
       "      <td>59.0</td>\n",
       "      <td>4.1</td>\n",
       "      <td>1</td>\n",
       "    </tr>\n",
       "    <tr>\n",
       "      <th>1</th>\n",
       "      <td>349012</td>\n",
       "      <td>20140804</td>\n",
       "      <td>6.188930</td>\n",
       "      <td>20.612305</td>\n",
       "      <td>18.436570</td>\n",
       "      <td>90.896418</td>\n",
       "      <td>2.859279</td>\n",
       "      <td>1.0</td>\n",
       "      <td>2.0</td>\n",
       "      <td>6.0</td>\n",
       "      <td>0.0</td>\n",
       "      <td>31.0</td>\n",
       "      <td>156.0</td>\n",
       "      <td>92.0</td>\n",
       "      <td>52.0</td>\n",
       "      <td>2.9</td>\n",
       "      <td>0</td>\n",
       "    </tr>\n",
       "    <tr>\n",
       "      <th>2</th>\n",
       "      <td>186912</td>\n",
       "      <td>20161114</td>\n",
       "      <td>7.371954</td>\n",
       "      <td>24.329709</td>\n",
       "      <td>22.845141</td>\n",
       "      <td>96.516122</td>\n",
       "      <td>3.405242</td>\n",
       "      <td>1.0</td>\n",
       "      <td>2.0</td>\n",
       "      <td>2.0</td>\n",
       "      <td>0.0</td>\n",
       "      <td>30.0</td>\n",
       "      <td>162.0</td>\n",
       "      <td>98.0</td>\n",
       "      <td>99.0</td>\n",
       "      <td>3.7</td>\n",
       "      <td>0</td>\n",
       "    </tr>\n",
       "    <tr>\n",
       "      <th>3</th>\n",
       "      <td>657603</td>\n",
       "      <td>20150819</td>\n",
       "      <td>6.040962</td>\n",
       "      <td>23.142083</td>\n",
       "      <td>28.747196</td>\n",
       "      <td>92.942380</td>\n",
       "      <td>3.092095</td>\n",
       "      <td>1.0</td>\n",
       "      <td>0.0</td>\n",
       "      <td>0.0</td>\n",
       "      <td>0.0</td>\n",
       "      <td>39.0</td>\n",
       "      <td>171.0</td>\n",
       "      <td>100.0</td>\n",
       "      <td>76.0</td>\n",
       "      <td>3.1</td>\n",
       "      <td>0</td>\n",
       "    </tr>\n",
       "    <tr>\n",
       "      <th>4</th>\n",
       "      <td>958053</td>\n",
       "      <td>20140620</td>\n",
       "      <td>4.847240</td>\n",
       "      <td>21.209042</td>\n",
       "      <td>48.110911</td>\n",
       "      <td>99.053449</td>\n",
       "      <td>2.615316</td>\n",
       "      <td>2.0</td>\n",
       "      <td>2.0</td>\n",
       "      <td>3.0</td>\n",
       "      <td>0.0</td>\n",
       "      <td>47.0</td>\n",
       "      <td>216.0</td>\n",
       "      <td>103.0</td>\n",
       "      <td>176.0</td>\n",
       "      <td>2.8</td>\n",
       "      <td>1</td>\n",
       "    </tr>\n",
       "  </tbody>\n",
       "</table>\n",
       "</div>"
      ],
      "text/plain": [
       "   P_FIELD_1  P_FIELD_2  P_L100700  P_S000300  P_L101700  P_L100800  \\\n",
       "0     430817   20170828   5.382595  26.685450  42.835734  94.943444   \n",
       "1     349012   20140804   6.188930  20.612305  18.436570  90.896418   \n",
       "2     186912   20161114   7.371954  24.329709  22.845141  96.516122   \n",
       "3     657603   20150819   6.040962  23.142083  28.747196  92.942380   \n",
       "4     958053   20140620   4.847240  21.209042  48.110911  99.053449   \n",
       "\n",
       "   P_L103300  P_FIELD_33  P_FIELD_38  P_FIELD_40  P_SEX  P_AGE  A_L102900  \\\n",
       "0   3.729447         1.0         1.0         0.0    0.0   36.0      217.0   \n",
       "1   2.859279         1.0         2.0         6.0    0.0   31.0      156.0   \n",
       "2   3.405242         1.0         2.0         2.0    0.0   30.0      162.0   \n",
       "3   3.092095         1.0         0.0         0.0    0.0   39.0      171.0   \n",
       "4   2.615316         2.0         2.0         3.0    0.0   47.0      216.0   \n",
       "\n",
       "   A_L103200  A_L103000  A_L103300  CLASS  \n",
       "0      152.0       59.0        4.1      1  \n",
       "1       92.0       52.0        2.9      0  \n",
       "2       98.0       99.0        3.7      0  \n",
       "3      100.0       76.0        3.1      0  \n",
       "4      103.0      176.0        2.8      1  "
      ]
     },
     "execution_count": 94,
     "metadata": {},
     "output_type": "execute_result"
    }
   ],
   "source": [
    "NextYearData = pd.DataFrame()\n",
    "NextYearData[\"P_FIELD_1\"] = ytest.FIELD_1_y.values\n",
    "NextYearData[\"P_FIELD_2\"] = ytest.FIELD_2_y.values\n",
    "NextYearData[\"P_L100700\"] = pred_L100700\n",
    "NextYearData[\"P_S000300\"] = pred_S000300\n",
    "NextYearData[\"P_L101700\"] = pred_L101700\n",
    "NextYearData[\"P_L100800\"] = pred_L100800\n",
    "NextYearData[\"P_L103300\"] = pred_L103300\n",
    "NextYearData[\"P_FIELD_33\"] = pred_FIELD_33.values\n",
    "NextYearData[\"P_FIELD_38\"] = pred_FIELD_38.values\n",
    "NextYearData[\"P_FIELD_40\"] = pred_FIELD_40.values\n",
    "NextYearData[\"P_SEX\"] = pred_SEX.values\n",
    "NextYearData[\"P_AGE\"] = pred_AGE.values\n",
    "\n",
    "NextYearData[\"A_L102900\"] = ytest.L102900_y.values\n",
    "NextYearData[\"A_L103200\"] = ytest.L103200_y.values\n",
    "NextYearData[\"A_L103000\"] = ytest.L103000_y.values\n",
    "NextYearData[\"A_L103300\"] = ytest.L103300_y.values\n",
    "\n",
    "_class = []\n",
    "for i in range(NextYearData.shape[0]):\n",
    "    if((NextYearData.A_L102900[i] <= 200) & (NextYearData.A_L103200[i] <= 130) & (NextYearData.A_L103000[i] <=150)):\n",
    "        _class.append(0)\n",
    "    else:\n",
    "        _class.append(1)\n",
    "NextYearData[\"CLASS\"] = _class\n",
    "\n",
    "NextYearData.head()"
   ]
  },
  {
   "cell_type": "code",
   "execution_count": 93,
   "metadata": {},
   "outputs": [],
   "source": [
    "NextYearData.to_csv(\"Predicted_NextYearData.txt\", sep=\",\")"
   ]
  },
  {
   "cell_type": "markdown",
   "metadata": {},
   "source": [
    "==============================================\n",
    "=========="
   ]
  },
  {
   "cell_type": "code",
   "execution_count": 96,
   "metadata": {},
   "outputs": [],
   "source": [
    "# select the actual next year values\n",
    "\n",
    "NextYearData_actualData = pd.DataFrame()\n",
    "NextYearData_actualData[\"FIELD_1\"] = ytest.FIELD_1_y.values\n",
    "NextYearData_actualData[\"FIELD_2\"] = ytest.FIELD_2_y.values\n",
    "NextYearData_actualData[\"L100700\"] = ytest.L100700_y.values\n",
    "NextYearData_actualData[\"S000300\"] = ytest.S000300_y.values\n",
    "NextYearData_actualData[\"L101700\"] = ytest.L101700_y.values\n",
    "NextYearData_actualData[\"L100800\"] = ytest.L100800_y.values\n",
    "NextYearData_actualData[\"L103300\"] = ytest.L103300_y.values \n",
    "NextYearData_actualData[\"FIELD_33\"] = ytest.FIELD_33_y.values\n",
    "NextYearData_actualData[\"FIELD_38\"] = ytest.FIELD_38_y.values\n",
    "NextYearData_actualData[\"FIELD_40\"] = ytest.FIELD_40_y.values\n",
    "NextYearData_actualData[\"SEX\"] = ytest.SEX_y.values\n",
    "NextYearData_actualData[\"AGE\"] = ytest.AGE_y.values\n",
    "\n",
    "NextYearData_actualData[\"L102900\"] = ytest.L102900_y.values\n",
    "NextYearData_actualData[\"L103200\"] = ytest.L103200_y.values\n",
    "NextYearData_actualData[\"L103000\"] = ytest.L103000_y.values\n",
    "NextYearData_actualData[\"L103300\"] = ytest.L103300_y.values\n",
    "\n",
    "_class = []\n",
    "for i in range(NextYearData_actualData.shape[0]):\n",
    "    if((NextYearData_actualData.L102900[i] <= 200) & \n",
    "       (NextYearData_actualData.L103200[i] <= 130) & \n",
    "       (NextYearData_actualData.L103000[i] <=150)):\n",
    "        _class.append(0)\n",
    "    else:\n",
    "        _class.append(1)\n",
    "NextYearData_actualData[\"CLASS\"] = _class\n",
    " \n",
    "\n",
    "NextYearData_actualData.to_csv(\"NextYearData_actualData.txt\", sep=\",\")"
   ]
  },
  {
   "cell_type": "markdown",
   "metadata": {},
   "source": [
    "==========================================================\n",
    "==="
   ]
  },
  {
   "cell_type": "code",
   "execution_count": 98,
   "metadata": {},
   "outputs": [],
   "source": [
    "# select the actual this year values\n",
    "\n",
    "ThisYearData_actualData = pd.DataFrame()\n",
    "ThisYearData_actualData[\"FIELD_1\"] = xtest.FIELD_1_x.values\n",
    "ThisYearData_actualData[\"FIELD_2\"] = xtest.FIELD_2_x.values\n",
    "ThisYearData_actualData[\"L100700\"] = xtest.L100700_x.values\n",
    "ThisYearData_actualData[\"S000300\"] = xtest.S000300_x.values\n",
    "ThisYearData_actualData[\"L101700\"] = xtest.L101700_x.values\n",
    "ThisYearData_actualData[\"L100800\"] = xtest.L100800_x.values\n",
    "ThisYearData_actualData[\"L103300\"] = xtest.L103300_x.values\n",
    "ThisYearData_actualData[\"FIELD_33\"] = xtest.FIELD_33_x.values\n",
    "ThisYearData_actualData[\"FIELD_38\"] = xtest.FIELD_38_x.values\n",
    "ThisYearData_actualData[\"FIELD_40\"] = xtest.FIELD_40_x.values\n",
    "ThisYearData_actualData[\"SEX\"] = xtest.SEX_x.values\n",
    "ThisYearData_actualData[\"AGE\"] = xtest.AGE_x.values \n",
    "\n",
    "\n",
    "ThisYearData_actualData[\"L102900\"] = xtest.L102900_x.values\n",
    "ThisYearData_actualData[\"L103200\"] = xtest.L103200_x.values\n",
    "ThisYearData_actualData[\"L103000\"] = xtest.L103000_x.values\n",
    "ThisYearData_actualData[\"L103300\"] = xtest.L103300_x.values\n",
    "\n",
    "_class = []\n",
    "for i in range(ThisYearData_actualData.shape[0]):\n",
    "    if((ThisYearData_actualData.L102900[i] <= 200) & \n",
    "       (ThisYearData_actualData.L103200[i] <= 130) & \n",
    "       (ThisYearData_actualData.L103000[i] <=150)):\n",
    "        _class.append(0)\n",
    "    else:\n",
    "        _class.append(1)\n",
    "ThisYearData_actualData[\"CLASS\"] = _class\n",
    "\n",
    "ThisYearData_actualData.to_csv(\"ThisYearData_actualData.txt\", sep=\",\")"
   ]
  },
  {
   "cell_type": "markdown",
   "metadata": {},
   "source": [
    "============================================\n",
    "========="
   ]
  },
  {
   "cell_type": "code",
   "execution_count": 99,
   "metadata": {},
   "outputs": [],
   "source": [
    "# select the actual next year values train\n",
    "\n",
    "NextYearData_actualData_train = pd.DataFrame()\n",
    "NextYearData_actualData_train[\"FIELD_1\"] = ytrain.FIELD_1_y.values\n",
    "NextYearData_actualData_train[\"FIELD_2\"] = ytrain.FIELD_2_y.values\n",
    "NextYearData_actualData_train[\"L100700\"] = ytrain.L100700_y.values\n",
    "NextYearData_actualData_train[\"S000300\"] = ytrain.S000300_y.values\n",
    "NextYearData_actualData_train[\"L101700\"] = ytrain.L101700_y.values\n",
    "NextYearData_actualData_train[\"L100800\"] = ytrain.L100800_y.values\n",
    "NextYearData_actualData_train[\"L103300\"] = ytrain.L103300_y.values \n",
    "NextYearData_actualData_train[\"FIELD_33\"] = ytrain.FIELD_33_y.values\n",
    "NextYearData_actualData_train[\"FIELD_38\"] = ytrain.FIELD_38_y.values\n",
    "NextYearData_actualData_train[\"FIELD_40\"] = ytrain.FIELD_40_y.values\n",
    "NextYearData_actualData_train[\"SEX\"] = ytrain.SEX_y.values\n",
    "NextYearData_actualData_train[\"AGE\"] = ytrain.AGE_y.values\n",
    "\n",
    "\n",
    "NextYearData_actualData_train[\"L102900\"] = ytrain.L102900_y.values\n",
    "NextYearData_actualData_train[\"L103200\"] = ytrain.L103200_y.values\n",
    "NextYearData_actualData_train[\"L103000\"] = ytrain.L103000_y.values\n",
    "NextYearData_actualData_train[\"L103300\"] = ytrain.L103300_y.values\n",
    "\n",
    "_class = []\n",
    "for i in range(NextYearData_actualData_train.shape[0]):\n",
    "    if((NextYearData_actualData_train.L102900[i] <= 200) & \n",
    "       (NextYearData_actualData_train.L103200[i] <= 130) & \n",
    "       (NextYearData_actualData_train.L103000[i] <=150)):\n",
    "        _class.append(0)\n",
    "    else:\n",
    "        _class.append(1)\n",
    "NextYearData_actualData_train[\"CLASS\"] = _class \n",
    "\n",
    "NextYearData_actualData_train.to_csv(\"NextYearData_actualData_train.txt\", sep=\",\")"
   ]
  },
  {
   "cell_type": "markdown",
   "metadata": {},
   "source": [
    "=================================================\n",
    "=============="
   ]
  },
  {
   "cell_type": "code",
   "execution_count": 100,
   "metadata": {},
   "outputs": [],
   "source": [
    "# select the actual this year values train\n",
    "\n",
    "ThisYearData_actualData_train = pd.DataFrame()\n",
    "ThisYearData_actualData_train[\"FIELD_1\"] = xtrain.FIELD_1_x.values\n",
    "ThisYearData_actualData_train[\"FIELD_2\"] = xtrain.FIELD_2_x.values\n",
    "ThisYearData_actualData_train[\"L100700\"] = xtrain.L100700_x.values\n",
    "ThisYearData_actualData_train[\"S000300\"] = xtrain.S000300_x.values\n",
    "ThisYearData_actualData_train[\"L101700\"] = xtrain.L101700_x.values\n",
    "ThisYearData_actualData_train[\"L100800\"] = xtrain.L100800_x.values\n",
    "ThisYearData_actualData_train[\"L103300\"] = xtrain.L103300_x.values\n",
    "ThisYearData_actualData_train[\"FIELD_33\"] = xtrain.FIELD_33_x.values\n",
    "ThisYearData_actualData_train[\"FIELD_38\"] = xtrain.FIELD_38_x.values\n",
    "ThisYearData_actualData_train[\"FIELD_40\"] = xtrain.FIELD_40_x.values\n",
    "ThisYearData_actualData_train[\"SEX\"] = xtrain.SEX_x.values\n",
    "ThisYearData_actualData_train[\"AGE\"] = xtrain.AGE_x.values\n",
    "\n",
    "\n",
    "ThisYearData_actualData_train[\"L102900\"] = ytrain.L102900_y.values\n",
    "ThisYearData_actualData_train[\"L103200\"] = ytrain.L103200_y.values\n",
    "ThisYearData_actualData_train[\"L103000\"] = ytrain.L103000_y.values\n",
    "ThisYearData_actualData_train[\"L103300\"] = ytrain.L103300_y.values\n",
    "\n",
    "_class = []\n",
    "for i in range(ThisYearData_actualData_train.shape[0]):\n",
    "    if((ThisYearData_actualData_train.L102900[i] <= 200) & \n",
    "       (ThisYearData_actualData_train.L103200[i] <= 130) & \n",
    "       (ThisYearData_actualData_train.L103000[i] <=150)):\n",
    "        _class.append(0)\n",
    "    else:\n",
    "        _class.append(1)\n",
    "ThisYearData_actualData_train[\"CLASS\"] = _class \n",
    "\n",
    "\n",
    "\n",
    "ThisYearData_actualData_train.to_csv(\"ThisYearData_actualData_train.txt\", sep=\",\")"
   ]
  },
  {
   "cell_type": "code",
   "execution_count": null,
   "metadata": {},
   "outputs": [],
   "source": []
  }
 ],
 "metadata": {
  "kernelspec": {
   "display_name": "Python 3",
   "language": "python",
   "name": "python3"
  },
  "language_info": {
   "codemirror_mode": {
    "name": "ipython",
    "version": 3
   },
   "file_extension": ".py",
   "mimetype": "text/x-python",
   "name": "python",
   "nbconvert_exporter": "python",
   "pygments_lexer": "ipython3",
   "version": "3.7.3"
  }
 },
 "nbformat": 4,
 "nbformat_minor": 2
}

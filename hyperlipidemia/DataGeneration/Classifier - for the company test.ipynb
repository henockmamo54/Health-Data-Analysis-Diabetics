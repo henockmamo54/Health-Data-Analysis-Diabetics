{
 "cells": [
  {
   "cell_type": "code",
   "execution_count": 1,
   "metadata": {},
   "outputs": [
    {
     "name": "stderr",
     "output_type": "stream",
     "text": [
      "Using TensorFlow backend.\n"
     ]
    },
    {
     "data": {
      "application/javascript": [
       "\n",
       "            setTimeout(function() {\n",
       "                var nbb_cell_id = 1;\n",
       "                var nbb_formatted_code = \"%load_ext nb_black\\n\\nimport pandas as pd\\nimport numpy as np\\nimport warnings\\nfrom matplotlib import pyplot as plt\\nfrom sklearn import metrics as m\\nfrom sklearn.datasets import make_classification\\nfrom imblearn.over_sampling import SMOTE  # doctest: +NORMALIZE_WHITESPACE\\nfrom sklearn.metrics import confusion_matrix\\nfrom sklearn.metrics import classification_report\\nfrom sklearn.model_selection import train_test_split\\nfrom collections import Counter\\n\\nwarnings.filterwarnings(\\\"ignore\\\")\\nrandomseed = 7\";\n",
       "                var nbb_cells = Jupyter.notebook.get_cells();\n",
       "                for (var i = 0; i < nbb_cells.length; ++i) {\n",
       "                    if (nbb_cells[i].input_prompt_number == nbb_cell_id) {\n",
       "                        nbb_cells[i].set_text(nbb_formatted_code);\n",
       "                        break;\n",
       "                    }\n",
       "                }\n",
       "            }, 500);\n",
       "            "
      ],
      "text/plain": [
       "<IPython.core.display.Javascript object>"
      ]
     },
     "metadata": {},
     "output_type": "display_data"
    }
   ],
   "source": [
    "%load_ext nb_black\n",
    "\n",
    "import pandas as pd\n",
    "import numpy as np\n",
    "import warnings\n",
    "from matplotlib import pyplot as plt\n",
    "from sklearn import metrics as m\n",
    "from sklearn.datasets import make_classification\n",
    "from imblearn.over_sampling import SMOTE  # doctest: +NORMALIZE_WHITESPACE\n",
    "from sklearn.metrics import confusion_matrix\n",
    "from sklearn.metrics import classification_report\n",
    "from sklearn.model_selection import train_test_split\n",
    "from collections import Counter\n",
    "\n",
    "warnings.filterwarnings(\"ignore\")\n",
    "randomseed = 7"
   ]
  },
  {
   "cell_type": "code",
   "execution_count": 14,
   "metadata": {},
   "outputs": [
    {
     "name": "stdout",
     "output_type": "stream",
     "text": [
      "(4224, 13)\n"
     ]
    },
    {
     "data": {
      "text/html": [
       "<div>\n",
       "<style scoped>\n",
       "    .dataframe tbody tr th:only-of-type {\n",
       "        vertical-align: middle;\n",
       "    }\n",
       "\n",
       "    .dataframe tbody tr th {\n",
       "        vertical-align: top;\n",
       "    }\n",
       "\n",
       "    .dataframe thead th {\n",
       "        text-align: right;\n",
       "    }\n",
       "</style>\n",
       "<table border=\"1\" class=\"dataframe\">\n",
       "  <thead>\n",
       "    <tr style=\"text-align: right;\">\n",
       "      <th></th>\n",
       "      <th>FIELD_1</th>\n",
       "      <th>FIELD_2</th>\n",
       "      <th>AGE</th>\n",
       "      <th>B_DAY</th>\n",
       "      <th>SEX</th>\n",
       "      <th>FIELD_31</th>\n",
       "      <th>FIELD_33</th>\n",
       "      <th>FIELD_38</th>\n",
       "      <th>FIELD_40</th>\n",
       "      <th>L100700</th>\n",
       "      <th>L100800</th>\n",
       "      <th>L101700</th>\n",
       "      <th>L103000</th>\n",
       "      <th>L104600</th>\n",
       "      <th>S000300</th>\n",
       "      <th>CLASS</th>\n",
       "    </tr>\n",
       "  </thead>\n",
       "  <tbody>\n",
       "    <tr>\n",
       "      <th>0</th>\n",
       "      <td>1037483</td>\n",
       "      <td>20140614</td>\n",
       "      <td>49.0</td>\n",
       "      <td>650717.0</td>\n",
       "      <td>1.0</td>\n",
       "      <td>0.0</td>\n",
       "      <td>1.0</td>\n",
       "      <td>1.0</td>\n",
       "      <td>1.0</td>\n",
       "      <td>3.0</td>\n",
       "      <td>98.0</td>\n",
       "      <td>20.0</td>\n",
       "      <td>193.0</td>\n",
       "      <td>4.90</td>\n",
       "      <td>19.8</td>\n",
       "      <td>0</td>\n",
       "    </tr>\n",
       "    <tr>\n",
       "      <th>3</th>\n",
       "      <td>1037494</td>\n",
       "      <td>20170718</td>\n",
       "      <td>52.0</td>\n",
       "      <td>650717.0</td>\n",
       "      <td>0.0</td>\n",
       "      <td>0.0</td>\n",
       "      <td>2.0</td>\n",
       "      <td>2.0</td>\n",
       "      <td>0.0</td>\n",
       "      <td>6.8</td>\n",
       "      <td>94.0</td>\n",
       "      <td>54.0</td>\n",
       "      <td>101.0</td>\n",
       "      <td>5.17</td>\n",
       "      <td>24.2</td>\n",
       "      <td>0</td>\n",
       "    </tr>\n",
       "    <tr>\n",
       "      <th>8</th>\n",
       "      <td>1037502</td>\n",
       "      <td>20170519</td>\n",
       "      <td>52.0</td>\n",
       "      <td>650717.0</td>\n",
       "      <td>0.0</td>\n",
       "      <td>0.0</td>\n",
       "      <td>3.0</td>\n",
       "      <td>2.0</td>\n",
       "      <td>3.0</td>\n",
       "      <td>7.0</td>\n",
       "      <td>89.0</td>\n",
       "      <td>23.0</td>\n",
       "      <td>71.0</td>\n",
       "      <td>5.39</td>\n",
       "      <td>22.8</td>\n",
       "      <td>0</td>\n",
       "    </tr>\n",
       "    <tr>\n",
       "      <th>22</th>\n",
       "      <td>1037630</td>\n",
       "      <td>20131122</td>\n",
       "      <td>48.0</td>\n",
       "      <td>650715.0</td>\n",
       "      <td>1.0</td>\n",
       "      <td>0.0</td>\n",
       "      <td>1.0</td>\n",
       "      <td>0.0</td>\n",
       "      <td>2.0</td>\n",
       "      <td>3.2</td>\n",
       "      <td>89.0</td>\n",
       "      <td>10.0</td>\n",
       "      <td>92.0</td>\n",
       "      <td>5.30</td>\n",
       "      <td>21.5</td>\n",
       "      <td>0</td>\n",
       "    </tr>\n",
       "    <tr>\n",
       "      <th>23</th>\n",
       "      <td>1037630</td>\n",
       "      <td>20141217</td>\n",
       "      <td>49.0</td>\n",
       "      <td>650715.0</td>\n",
       "      <td>1.0</td>\n",
       "      <td>0.0</td>\n",
       "      <td>1.0</td>\n",
       "      <td>0.0</td>\n",
       "      <td>0.0</td>\n",
       "      <td>4.2</td>\n",
       "      <td>85.0</td>\n",
       "      <td>13.0</td>\n",
       "      <td>60.0</td>\n",
       "      <td>5.50</td>\n",
       "      <td>22.5</td>\n",
       "      <td>0</td>\n",
       "    </tr>\n",
       "  </tbody>\n",
       "</table>\n",
       "</div>"
      ],
      "text/plain": [
       "    FIELD_1   FIELD_2   AGE     B_DAY  SEX  FIELD_31  FIELD_33  FIELD_38  \\\n",
       "0   1037483  20140614  49.0  650717.0  1.0       0.0       1.0       1.0   \n",
       "3   1037494  20170718  52.0  650717.0  0.0       0.0       2.0       2.0   \n",
       "8   1037502  20170519  52.0  650717.0  0.0       0.0       3.0       2.0   \n",
       "22  1037630  20131122  48.0  650715.0  1.0       0.0       1.0       0.0   \n",
       "23  1037630  20141217  49.0  650715.0  1.0       0.0       1.0       0.0   \n",
       "\n",
       "    FIELD_40  L100700  L100800  L101700  L103000  L104600  S000300  CLASS  \n",
       "0        1.0      3.0     98.0     20.0    193.0     4.90     19.8      0  \n",
       "3        0.0      6.8     94.0     54.0    101.0     5.17     24.2      0  \n",
       "8        3.0      7.0     89.0     23.0     71.0     5.39     22.8      0  \n",
       "22       2.0      3.2     89.0     10.0     92.0     5.30     21.5      0  \n",
       "23       0.0      4.2     85.0     13.0     60.0     5.50     22.5      0  "
      ]
     },
     "execution_count": 14,
     "metadata": {},
     "output_type": "execute_result"
    },
    {
     "data": {
      "application/javascript": [
       "\n",
       "            setTimeout(function() {\n",
       "                var nbb_cell_id = 14;\n",
       "                var nbb_formatted_code = \"data_test1 = pd.read_csv(\\\"companytestdata/CLASS 0.csv\\\").dropna()\\nconditions = [\\n    (data_test1.L100800 < 100),\\n    (data_test1.L100800 >= 100) & (data_test1.L100800 < 126),\\n    (data_test1.L100800 >= 126),\\n]\\nchoices = [0, 1, 2]\\ndata_test1[\\\"CLASS\\\"] = np.select(conditions, choices, default=0)\\n\\ndata_test2 = pd.read_csv(\\\"companytestdata/CLASS 1.csv\\\").dropna()\\ndata_test3 = pd.read_csv(\\\"companytestdata/CLASS 2.csv\\\").dropna()\\n\\ndata = pd.read_csv(\\\"companytestdata/studyDATA_withCat.csv\\\").dropna()\\n\\nprint(data.shape)\\n# datatest.head()\\n# print(data.columns)\\n\\ndata_test1.head()\";\n",
       "                var nbb_cells = Jupyter.notebook.get_cells();\n",
       "                for (var i = 0; i < nbb_cells.length; ++i) {\n",
       "                    if (nbb_cells[i].input_prompt_number == nbb_cell_id) {\n",
       "                        nbb_cells[i].set_text(nbb_formatted_code);\n",
       "                        break;\n",
       "                    }\n",
       "                }\n",
       "            }, 500);\n",
       "            "
      ],
      "text/plain": [
       "<IPython.core.display.Javascript object>"
      ]
     },
     "metadata": {},
     "output_type": "display_data"
    }
   ],
   "source": [
    "data_test1 = pd.read_csv(\"companytestdata/CLASS 0.csv\").dropna()\n",
    "conditions = [\n",
    "    (data_test1.L100800 < 100),\n",
    "    (data_test1.L100800 >= 100) & (data_test1.L100800 < 126),\n",
    "    (data_test1.L100800 >= 126),\n",
    "]\n",
    "choices = [0, 1, 2]\n",
    "data_test1[\"CLASS\"] = np.select(conditions, choices, default=0)\n",
    "\n",
    "data_test2 = pd.read_csv(\"companytestdata/CLASS 1.csv\").dropna()\n",
    "data_test3 = pd.read_csv(\"companytestdata/CLASS 2.csv\").dropna()\n",
    "\n",
    "data = pd.read_csv(\"companytestdata/studyDATA_withCat.csv\").dropna()\n",
    "\n",
    "print(data.shape)\n",
    "# datatest.head()\n",
    "# print(data.columns)\n",
    "\n",
    "data_test1.head()"
   ]
  },
  {
   "cell_type": "code",
   "execution_count": 3,
   "metadata": {},
   "outputs": [
    {
     "name": "stdout",
     "output_type": "stream",
     "text": [
      "158 822 3244\n"
     ]
    },
    {
     "data": {
      "application/javascript": [
       "\n",
       "            setTimeout(function() {\n",
       "                var nbb_cell_id = 3;\n",
       "                var nbb_formatted_code = \"diabetic = data[data.CLASS == 2].dropna()\\nprediabetic = data[data.CLASS == 1].dropna()\\nnormal = data[data.CLASS == 0].dropna()\\n\\nprint(diabetic.shape[0], prediabetic.shape[0], normal.shape[0])\\n\\ntrain = pd.concat(\\n    [\\n        diabetic,\\n        prediabetic.sample(diabetic.shape[0], random_state=randomseed),\\n        normal.sample(diabetic.shape[0], random_state=randomseed),\\n    ]\\n)\\n\\nxtrain = train[\\n    [\\n        \\\"AGE\\\",\\n        \\\"FIELD_31\\\",\\n        \\\"FIELD_33\\\",\\n        \\\"FIELD_38\\\",\\n        \\\"FIELD_40\\\",\\n        \\\"L100700\\\",\\n        \\\"L101700\\\",\\n        \\\"L103000\\\",\\n        \\\"L104600\\\",\\n        \\\"S000300\\\",\\n        \\\"SEX\\\",\\n    ]\\n]\\nytrain = train[[\\\"CLASS\\\"]]\";\n",
       "                var nbb_cells = Jupyter.notebook.get_cells();\n",
       "                for (var i = 0; i < nbb_cells.length; ++i) {\n",
       "                    if (nbb_cells[i].input_prompt_number == nbb_cell_id) {\n",
       "                        nbb_cells[i].set_text(nbb_formatted_code);\n",
       "                        break;\n",
       "                    }\n",
       "                }\n",
       "            }, 500);\n",
       "            "
      ],
      "text/plain": [
       "<IPython.core.display.Javascript object>"
      ]
     },
     "metadata": {},
     "output_type": "display_data"
    }
   ],
   "source": [
    "diabetic = data[data.CLASS == 2].dropna()\n",
    "prediabetic = data[data.CLASS == 1].dropna()\n",
    "normal = data[data.CLASS == 0].dropna()\n",
    "\n",
    "print(diabetic.shape[0], prediabetic.shape[0], normal.shape[0])\n",
    "\n",
    "train = pd.concat(\n",
    "    [\n",
    "        diabetic,\n",
    "        prediabetic.sample(diabetic.shape[0], random_state=randomseed),\n",
    "        normal.sample(diabetic.shape[0], random_state=randomseed),\n",
    "    ]\n",
    ")\n",
    "\n",
    "xtrain = train[\n",
    "    [\n",
    "        \"AGE\",\n",
    "        \"FIELD_31\",\n",
    "        \"FIELD_33\",\n",
    "        \"FIELD_38\",\n",
    "        \"FIELD_40\",\n",
    "        \"L100700\",\n",
    "        \"L101700\",\n",
    "        \"L103000\",\n",
    "        \"L104600\",\n",
    "        \"S000300\",\n",
    "        \"SEX\",\n",
    "    ]\n",
    "]\n",
    "ytrain = train[[\"CLASS\"]]"
   ]
  },
  {
   "cell_type": "code",
   "execution_count": 4,
   "metadata": {},
   "outputs": [
    {
     "name": "stdout",
     "output_type": "stream",
     "text": [
      "200 200 200\n"
     ]
    },
    {
     "data": {
      "application/javascript": [
       "\n",
       "            setTimeout(function() {\n",
       "                var nbb_cell_id = 4;\n",
       "                var nbb_formatted_code = \"print(\\n    data_test1.dropna().sample(200, random_state=randomseed).shape[0],\\n    data_test2.dropna().sample(200, random_state=randomseed).shape[0],\\n    data_test3.dropna().sample(200, random_state=randomseed).shape[0],\\n)\\n\\ntest = pd.concat(\\n    [\\n        data_test1.dropna().sample(200, random_state=randomseed),\\n        data_test2.dropna().sample(200, random_state=randomseed),\\n        data_test3.dropna().sample(200, random_state=randomseed),\\n    ]\\n)\\n\\ntest = test.dropna()\\n\\nxtest = test[\\n    [\\n        \\\"AGE\\\",\\n        \\\"FIELD_31\\\",\\n        \\\"FIELD_33\\\",\\n        \\\"FIELD_38\\\",\\n        \\\"FIELD_40\\\",\\n        \\\"L100700\\\",\\n        \\\"L101700\\\",\\n        \\\"L103000\\\",\\n        \\\"L104600\\\",\\n        \\\"S000300\\\",\\n        \\\"SEX\\\",\\n    ]\\n]\\nytest = test[[\\\"CLASS\\\"]]\";\n",
       "                var nbb_cells = Jupyter.notebook.get_cells();\n",
       "                for (var i = 0; i < nbb_cells.length; ++i) {\n",
       "                    if (nbb_cells[i].input_prompt_number == nbb_cell_id) {\n",
       "                        nbb_cells[i].set_text(nbb_formatted_code);\n",
       "                        break;\n",
       "                    }\n",
       "                }\n",
       "            }, 500);\n",
       "            "
      ],
      "text/plain": [
       "<IPython.core.display.Javascript object>"
      ]
     },
     "metadata": {},
     "output_type": "display_data"
    }
   ],
   "source": [
    "print(\n",
    "    data_test1.dropna().sample(200, random_state=randomseed).shape[0],\n",
    "    data_test2.dropna().sample(200, random_state=randomseed).shape[0],\n",
    "    data_test3.dropna().sample(200, random_state=randomseed).shape[0],\n",
    ")\n",
    "\n",
    "test = pd.concat(\n",
    "    [\n",
    "        data_test1.dropna().sample(200, random_state=randomseed),\n",
    "        data_test2.dropna().sample(200, random_state=randomseed),\n",
    "        data_test3.dropna().sample(200, random_state=randomseed),\n",
    "    ]\n",
    ")\n",
    "\n",
    "test = test.dropna()\n",
    "\n",
    "xtest = test[\n",
    "    [\n",
    "        \"AGE\",\n",
    "        \"FIELD_31\",\n",
    "        \"FIELD_33\",\n",
    "        \"FIELD_38\",\n",
    "        \"FIELD_40\",\n",
    "        \"L100700\",\n",
    "        \"L101700\",\n",
    "        \"L103000\",\n",
    "        \"L104600\",\n",
    "        \"S000300\",\n",
    "        \"SEX\",\n",
    "    ]\n",
    "]\n",
    "ytest = test[[\"CLASS\"]]"
   ]
  },
  {
   "cell_type": "code",
   "execution_count": 5,
   "metadata": {},
   "outputs": [
    {
     "data": {
      "application/javascript": [
       "\n",
       "            setTimeout(function() {\n",
       "                var nbb_cell_id = 5;\n",
       "                var nbb_formatted_code = \"# diabetic_test = diabetic.sample(200, random_state=randomseed)\\n# prediabetic_test = prediabetic.sample(200, random_state=randomseed)\\n# normal_test = normal.sample(200, random_state=randomseed)\\n# test = pd.concat([diabetic_test, prediabetic_test, normal_test])\\n\\n# diabetic_train = diabetic.drop(diabetic_test.index)\\n# prediabetic_train = prediabetic.drop(prediabetic_test.index).sample(\\n#     2 * diabetic_train.shape[0], random_state=randomseed\\n# )\\n# normal_train = normal.drop(normal_test.index).sample(\\n#     2 * diabetic_train.shape[0], random_state=randomseed\\n# )\\n# train = pd.concat([diabetic_train, diabetic_train, prediabetic_train, normal_train])\";\n",
       "                var nbb_cells = Jupyter.notebook.get_cells();\n",
       "                for (var i = 0; i < nbb_cells.length; ++i) {\n",
       "                    if (nbb_cells[i].input_prompt_number == nbb_cell_id) {\n",
       "                        nbb_cells[i].set_text(nbb_formatted_code);\n",
       "                        break;\n",
       "                    }\n",
       "                }\n",
       "            }, 500);\n",
       "            "
      ],
      "text/plain": [
       "<IPython.core.display.Javascript object>"
      ]
     },
     "metadata": {},
     "output_type": "display_data"
    }
   ],
   "source": [
    "# diabetic_test = diabetic.sample(200, random_state=randomseed)\n",
    "# prediabetic_test = prediabetic.sample(200, random_state=randomseed)\n",
    "# normal_test = normal.sample(200, random_state=randomseed)\n",
    "# test = pd.concat([diabetic_test, prediabetic_test, normal_test])\n",
    "\n",
    "# diabetic_train = diabetic.drop(diabetic_test.index)\n",
    "# prediabetic_train = prediabetic.drop(prediabetic_test.index).sample(\n",
    "#     2 * diabetic_train.shape[0], random_state=randomseed\n",
    "# )\n",
    "# normal_train = normal.drop(normal_test.index).sample(\n",
    "#     2 * diabetic_train.shape[0], random_state=randomseed\n",
    "# )\n",
    "# train = pd.concat([diabetic_train, diabetic_train, prediabetic_train, normal_train])"
   ]
  },
  {
   "cell_type": "code",
   "execution_count": 6,
   "metadata": {},
   "outputs": [
    {
     "data": {
      "application/javascript": [
       "\n",
       "            setTimeout(function() {\n",
       "                var nbb_cell_id = 6;\n",
       "                var nbb_formatted_code = \"# xtrain = train.iloc[:, 3:-2]\\n# ytrain = train.iloc[:, -1]\\n# xtest = test.iloc[:, 3:-2]\\n# ytest = test.iloc[:, -1]\";\n",
       "                var nbb_cells = Jupyter.notebook.get_cells();\n",
       "                for (var i = 0; i < nbb_cells.length; ++i) {\n",
       "                    if (nbb_cells[i].input_prompt_number == nbb_cell_id) {\n",
       "                        nbb_cells[i].set_text(nbb_formatted_code);\n",
       "                        break;\n",
       "                    }\n",
       "                }\n",
       "            }, 500);\n",
       "            "
      ],
      "text/plain": [
       "<IPython.core.display.Javascript object>"
      ]
     },
     "metadata": {},
     "output_type": "display_data"
    }
   ],
   "source": [
    "# xtrain = train.iloc[:, 3:-2]\n",
    "# ytrain = train.iloc[:, -1]\n",
    "# xtest = test.iloc[:, 3:-2]\n",
    "# ytest = test.iloc[:, -1]"
   ]
  },
  {
   "cell_type": "code",
   "execution_count": null,
   "metadata": {},
   "outputs": [],
   "source": []
  },
  {
   "cell_type": "code",
   "execution_count": 7,
   "metadata": {},
   "outputs": [
    {
     "data": {
      "application/javascript": [
       "\n",
       "            setTimeout(function() {\n",
       "                var nbb_cell_id = 7;\n",
       "                var nbb_formatted_code = \"# x = data.iloc[:, 3:-2]\\n# y = data.iloc[:, -1]\\n\\n# xtrain, xtest, ytrain, ytest = train_test_split(\\n#     x, y, random_state=randomseed, test_size=0.2\\n# )\\n\\n# sm = SMOTE(random_state=randomseed)\\n# X_res, y_res = sm.fit_resample(xtrain, ytrain)\\n\\n# print(\\\"Resampled dataset shape %s\\\" % Counter(y_res))\\n# print(\\n#     y_res[y_res == 0].shape[0], y_res[y_res == 1].shape[0], y_res[y_res == 2].shape[0]\\n# )\\n# print(X_res.shape, y_res.shape)\\n\\n# xtrain = X_res\\n# ytrain = y_res\\n\\n# # y_res2 = y_res.copy()\\n# # from keras.utils import to_categorical\\n# # y_res2 = to_categorical(y_res)\\n\\n# # xtrain, xtest, ytrain, ytest = train_test_split(\\n# #     X_res, y_res2, random_state=randomseed, test_size=0.2\\n# # )\";\n",
       "                var nbb_cells = Jupyter.notebook.get_cells();\n",
       "                for (var i = 0; i < nbb_cells.length; ++i) {\n",
       "                    if (nbb_cells[i].input_prompt_number == nbb_cell_id) {\n",
       "                        nbb_cells[i].set_text(nbb_formatted_code);\n",
       "                        break;\n",
       "                    }\n",
       "                }\n",
       "            }, 500);\n",
       "            "
      ],
      "text/plain": [
       "<IPython.core.display.Javascript object>"
      ]
     },
     "metadata": {},
     "output_type": "display_data"
    }
   ],
   "source": [
    "# x = data.iloc[:, 3:-2]\n",
    "# y = data.iloc[:, -1]\n",
    "\n",
    "# xtrain, xtest, ytrain, ytest = train_test_split(\n",
    "#     x, y, random_state=randomseed, test_size=0.2\n",
    "# )\n",
    "\n",
    "# sm = SMOTE(random_state=randomseed)\n",
    "# X_res, y_res = sm.fit_resample(xtrain, ytrain)\n",
    "\n",
    "# print(\"Resampled dataset shape %s\" % Counter(y_res))\n",
    "# print(\n",
    "#     y_res[y_res == 0].shape[0], y_res[y_res == 1].shape[0], y_res[y_res == 2].shape[0]\n",
    "# )\n",
    "# print(X_res.shape, y_res.shape)\n",
    "\n",
    "# xtrain = X_res\n",
    "# ytrain = y_res\n",
    "\n",
    "# # y_res2 = y_res.copy()\n",
    "# # from keras.utils import to_categorical\n",
    "# # y_res2 = to_categorical(y_res)\n",
    "\n",
    "# # xtrain, xtest, ytrain, ytest = train_test_split(\n",
    "# #     X_res, y_res2, random_state=randomseed, test_size=0.2\n",
    "# # )"
   ]
  },
  {
   "cell_type": "code",
   "execution_count": null,
   "metadata": {},
   "outputs": [],
   "source": []
  },
  {
   "cell_type": "code",
   "execution_count": null,
   "metadata": {},
   "outputs": [],
   "source": []
  },
  {
   "cell_type": "code",
   "execution_count": 8,
   "metadata": {},
   "outputs": [
    {
     "data": {
      "text/plain": [
       "RandomForestClassifier(bootstrap=True, class_weight=None, criterion='gini',\n",
       "                       max_depth=12, max_features='auto', max_leaf_nodes=None,\n",
       "                       min_impurity_decrease=0.0, min_impurity_split=None,\n",
       "                       min_samples_leaf=10, min_samples_split=2,\n",
       "                       min_weight_fraction_leaf=0.0, n_estimators=100,\n",
       "                       n_jobs=None, oob_score=False, random_state=7, verbose=0,\n",
       "                       warm_start=False)"
      ]
     },
     "execution_count": 8,
     "metadata": {},
     "output_type": "execute_result"
    },
    {
     "data": {
      "application/javascript": [
       "\n",
       "            setTimeout(function() {\n",
       "                var nbb_cell_id = 8;\n",
       "                var nbb_formatted_code = \"from sklearn.ensemble import RandomForestClassifier\\n\\nrf = RandomForestClassifier(\\n    random_state=randomseed,\\n    n_estimators=100,\\n    max_depth=12,\\n    min_samples_split=2,\\n    min_samples_leaf=10,\\n    max_features=\\\"auto\\\",\\n)\\nrf.fit(xtrain, ytrain)\";\n",
       "                var nbb_cells = Jupyter.notebook.get_cells();\n",
       "                for (var i = 0; i < nbb_cells.length; ++i) {\n",
       "                    if (nbb_cells[i].input_prompt_number == nbb_cell_id) {\n",
       "                        nbb_cells[i].set_text(nbb_formatted_code);\n",
       "                        break;\n",
       "                    }\n",
       "                }\n",
       "            }, 500);\n",
       "            "
      ],
      "text/plain": [
       "<IPython.core.display.Javascript object>"
      ]
     },
     "metadata": {},
     "output_type": "display_data"
    }
   ],
   "source": [
    "from sklearn.ensemble import RandomForestClassifier\n",
    "\n",
    "rf = RandomForestClassifier(\n",
    "    random_state=randomseed,\n",
    "    n_estimators=100,\n",
    "    max_depth=12,\n",
    "    min_samples_split=2,\n",
    "    min_samples_leaf=10,\n",
    "    max_features=\"auto\",\n",
    ")\n",
    "rf.fit(xtrain, ytrain)"
   ]
  },
  {
   "cell_type": "code",
   "execution_count": 9,
   "metadata": {},
   "outputs": [
    {
     "name": "stdout",
     "output_type": "stream",
     "text": [
      "0.6716666666666666\n"
     ]
    },
    {
     "data": {
      "image/png": "[encoded data removed]",
      "text/plain": [
       "<Figure size 432x288 with 1 Axes>"
      ]
     },
     "metadata": {
      "needs_background": "light"
     },
     "output_type": "display_data"
    },
    {
     "name": "stdout",
     "output_type": "stream",
     "text": [
      "Index(['L101700', 'L100700', 'L100800', 'L103000', 'FIELD_40', 'B_DAY',\n",
      "       'L104600', 'FIELD_31', 'FIELD_33', 'FIELD_38', 'SEX'],\n",
      "      dtype='object')\n"
     ]
    },
    {
     "data": {
      "application/javascript": [
       "\n",
       "            setTimeout(function() {\n",
       "                var nbb_cell_id = 9;\n",
       "                var nbb_formatted_code = \"ypred = rf.predict(xtest)\\n\\nscore = rf.score(xtest, ytest)\\nprint(score)\\n\\nfeat_importances = pd.Series(rf.feature_importances_, index=test.iloc[:, 3:-2].columns)\\nfeat_importances.nlargest(16).plot(kind=\\\"barh\\\")\\nplt.show()\\n\\nprint(feat_importances.nlargest(16).index)\";\n",
       "                var nbb_cells = Jupyter.notebook.get_cells();\n",
       "                for (var i = 0; i < nbb_cells.length; ++i) {\n",
       "                    if (nbb_cells[i].input_prompt_number == nbb_cell_id) {\n",
       "                        nbb_cells[i].set_text(nbb_formatted_code);\n",
       "                        break;\n",
       "                    }\n",
       "                }\n",
       "            }, 500);\n",
       "            "
      ],
      "text/plain": [
       "<IPython.core.display.Javascript object>"
      ]
     },
     "metadata": {},
     "output_type": "display_data"
    }
   ],
   "source": [
    "ypred = rf.predict(xtest)\n",
    "\n",
    "score = rf.score(xtest, ytest)\n",
    "print(score)\n",
    "\n",
    "feat_importances = pd.Series(rf.feature_importances_, index=test.iloc[:, 3:-2].columns)\n",
    "feat_importances.nlargest(16).plot(kind=\"barh\")\n",
    "plt.show()\n",
    "\n",
    "print(feat_importances.nlargest(16).index)"
   ]
  },
  {
   "cell_type": "code",
   "execution_count": 10,
   "metadata": {},
   "outputs": [
    {
     "name": "stdout",
     "output_type": "stream",
     "text": [
      "Accuracy on training set: 0.757\n",
      "Accuracy on test set: 0.672\n"
     ]
    },
    {
     "data": {
      "text/html": [
       "<div>\n",
       "<style scoped>\n",
       "    .dataframe tbody tr th:only-of-type {\n",
       "        vertical-align: middle;\n",
       "    }\n",
       "\n",
       "    .dataframe tbody tr th {\n",
       "        vertical-align: top;\n",
       "    }\n",
       "\n",
       "    .dataframe thead th {\n",
       "        text-align: right;\n",
       "    }\n",
       "</style>\n",
       "<table border=\"1\" class=\"dataframe\">\n",
       "  <thead>\n",
       "    <tr style=\"text-align: right;\">\n",
       "      <th></th>\n",
       "      <th>0</th>\n",
       "      <th>1</th>\n",
       "      <th>2</th>\n",
       "    </tr>\n",
       "  </thead>\n",
       "  <tbody>\n",
       "    <tr>\n",
       "      <th>0</th>\n",
       "      <td>157</td>\n",
       "      <td>28</td>\n",
       "      <td>5</td>\n",
       "    </tr>\n",
       "    <tr>\n",
       "      <th>1</th>\n",
       "      <td>88</td>\n",
       "      <td>84</td>\n",
       "      <td>38</td>\n",
       "    </tr>\n",
       "    <tr>\n",
       "      <th>2</th>\n",
       "      <td>15</td>\n",
       "      <td>23</td>\n",
       "      <td>162</td>\n",
       "    </tr>\n",
       "  </tbody>\n",
       "</table>\n",
       "</div>"
      ],
      "text/plain": [
       "     0   1    2\n",
       "0  157  28    5\n",
       "1   88  84   38\n",
       "2   15  23  162"
      ]
     },
     "execution_count": 10,
     "metadata": {},
     "output_type": "execute_result"
    },
    {
     "data": {
      "application/javascript": [
       "\n",
       "            setTimeout(function() {\n",
       "                var nbb_cell_id = 10;\n",
       "                var nbb_formatted_code = \"print(\\\"Accuracy on training set: {:.3f}\\\".format(rf.score(xtrain, ytrain)))\\nprint(\\\"Accuracy on test set: {:.3f}\\\".format(rf.score(xtest, ytest)))\\n\\nconfmatrx = pd.DataFrame(m.confusion_matrix(ytest, ypred))\\nconfmatrx.head()\";\n",
       "                var nbb_cells = Jupyter.notebook.get_cells();\n",
       "                for (var i = 0; i < nbb_cells.length; ++i) {\n",
       "                    if (nbb_cells[i].input_prompt_number == nbb_cell_id) {\n",
       "                        nbb_cells[i].set_text(nbb_formatted_code);\n",
       "                        break;\n",
       "                    }\n",
       "                }\n",
       "            }, 500);\n",
       "            "
      ],
      "text/plain": [
       "<IPython.core.display.Javascript object>"
      ]
     },
     "metadata": {},
     "output_type": "display_data"
    }
   ],
   "source": [
    "print(\"Accuracy on training set: {:.3f}\".format(rf.score(xtrain, ytrain)))\n",
    "print(\"Accuracy on test set: {:.3f}\".format(rf.score(xtest, ytest)))\n",
    "\n",
    "confmatrx = pd.DataFrame(m.confusion_matrix(ytest, ypred))\n",
    "confmatrx.head()"
   ]
  },
  {
   "cell_type": "code",
   "execution_count": 11,
   "metadata": {},
   "outputs": [
    {
     "name": "stdout",
     "output_type": "stream",
     "text": [
      "              precision    recall  f1-score   support\n",
      "\n",
      "           0       0.60      0.83      0.70       190\n",
      "           1       0.62      0.40      0.49       210\n",
      "           2       0.79      0.81      0.80       200\n",
      "\n",
      "    accuracy                           0.67       600\n",
      "   macro avg       0.67      0.68      0.66       600\n",
      "weighted avg       0.67      0.67      0.66       600\n",
      "\n"
     ]
    },
    {
     "data": {
      "application/javascript": [
       "\n",
       "            setTimeout(function() {\n",
       "                var nbb_cell_id = 11;\n",
       "                var nbb_formatted_code = \"from sklearn.metrics import classification_report\\n\\nprint(classification_report(ytest, ypred))\";\n",
       "                var nbb_cells = Jupyter.notebook.get_cells();\n",
       "                for (var i = 0; i < nbb_cells.length; ++i) {\n",
       "                    if (nbb_cells[i].input_prompt_number == nbb_cell_id) {\n",
       "                        nbb_cells[i].set_text(nbb_formatted_code);\n",
       "                        break;\n",
       "                    }\n",
       "                }\n",
       "            }, 500);\n",
       "            "
      ],
      "text/plain": [
       "<IPython.core.display.Javascript object>"
      ]
     },
     "metadata": {},
     "output_type": "display_data"
    }
   ],
   "source": [
    "from sklearn.metrics import classification_report\n",
    "\n",
    "print(classification_report(ytest, ypred))"
   ]
  },
  {
   "cell_type": "code",
   "execution_count": 12,
   "metadata": {},
   "outputs": [
    {
     "name": "stdout",
     "output_type": "stream",
     "text": [
      "accuracy \t 0.6\n"
     ]
    },
    {
     "data": {
      "text/html": [
       "<div>\n",
       "<style scoped>\n",
       "    .dataframe tbody tr th:only-of-type {\n",
       "        vertical-align: middle;\n",
       "    }\n",
       "\n",
       "    .dataframe tbody tr th {\n",
       "        vertical-align: top;\n",
       "    }\n",
       "\n",
       "    .dataframe thead th {\n",
       "        text-align: right;\n",
       "    }\n",
       "</style>\n",
       "<table border=\"1\" class=\"dataframe\">\n",
       "  <thead>\n",
       "    <tr style=\"text-align: right;\">\n",
       "      <th></th>\n",
       "      <th>0</th>\n",
       "      <th>1</th>\n",
       "      <th>2</th>\n",
       "    </tr>\n",
       "  </thead>\n",
       "  <tbody>\n",
       "    <tr>\n",
       "      <th>0</th>\n",
       "      <td>171</td>\n",
       "      <td>11</td>\n",
       "      <td>8</td>\n",
       "    </tr>\n",
       "    <tr>\n",
       "      <th>1</th>\n",
       "      <td>134</td>\n",
       "      <td>37</td>\n",
       "      <td>39</td>\n",
       "    </tr>\n",
       "    <tr>\n",
       "      <th>2</th>\n",
       "      <td>33</td>\n",
       "      <td>15</td>\n",
       "      <td>152</td>\n",
       "    </tr>\n",
       "  </tbody>\n",
       "</table>\n",
       "</div>"
      ],
      "text/plain": [
       "     0   1    2\n",
       "0  171  11    8\n",
       "1  134  37   39\n",
       "2   33  15  152"
      ]
     },
     "execution_count": 12,
     "metadata": {},
     "output_type": "execute_result"
    },
    {
     "data": {
      "application/javascript": [
       "\n",
       "            setTimeout(function() {\n",
       "                var nbb_cell_id = 12;\n",
       "                var nbb_formatted_code = \"import xgboost as xgb\\nfrom sklearn import metrics as m\\n\\nxgb_model = xgb.XGBClassifier(objective=\\\"binary:logistic\\\", random_state=randomseed)\\n\\nxgb_model.fit(xtrain, ytrain)\\n\\ny_pred = xgb_model.predict((xtest))\\n\\nprint(\\\"accuracy \\\\t\\\", m.accuracy_score(ytest, y_pred))\\nconfmatrx = pd.DataFrame(m.confusion_matrix(ytest, y_pred))\\nconfmatrx.head()\";\n",
       "                var nbb_cells = Jupyter.notebook.get_cells();\n",
       "                for (var i = 0; i < nbb_cells.length; ++i) {\n",
       "                    if (nbb_cells[i].input_prompt_number == nbb_cell_id) {\n",
       "                        nbb_cells[i].set_text(nbb_formatted_code);\n",
       "                        break;\n",
       "                    }\n",
       "                }\n",
       "            }, 500);\n",
       "            "
      ],
      "text/plain": [
       "<IPython.core.display.Javascript object>"
      ]
     },
     "metadata": {},
     "output_type": "display_data"
    }
   ],
   "source": [
    "import xgboost as xgb\n",
    "from sklearn import metrics as m\n",
    "\n",
    "xgb_model = xgb.XGBClassifier(objective=\"binary:logistic\", random_state=randomseed)\n",
    "\n",
    "xgb_model.fit(xtrain, ytrain)\n",
    "\n",
    "y_pred = xgb_model.predict((xtest))\n",
    "\n",
    "print(\"accuracy \\t\", m.accuracy_score(ytest, y_pred))\n",
    "confmatrx = pd.DataFrame(m.confusion_matrix(ytest, y_pred))\n",
    "confmatrx.head()"
   ]
  },
  {
   "cell_type": "code",
   "execution_count": 13,
   "metadata": {},
   "outputs": [
    {
     "name": "stdout",
     "output_type": "stream",
     "text": [
      "              precision    recall  f1-score   support\n",
      "\n",
      "           0       0.51      0.90      0.65       190\n",
      "           1       0.59      0.18      0.27       210\n",
      "           2       0.76      0.76      0.76       200\n",
      "\n",
      "    accuracy                           0.60       600\n",
      "   macro avg       0.62      0.61      0.56       600\n",
      "weighted avg       0.62      0.60      0.55       600\n",
      "\n"
     ]
    },
    {
     "data": {
      "application/javascript": [
       "\n",
       "            setTimeout(function() {\n",
       "                var nbb_cell_id = 13;\n",
       "                var nbb_formatted_code = \"print(classification_report(ytest, y_pred))\";\n",
       "                var nbb_cells = Jupyter.notebook.get_cells();\n",
       "                for (var i = 0; i < nbb_cells.length; ++i) {\n",
       "                    if (nbb_cells[i].input_prompt_number == nbb_cell_id) {\n",
       "                        nbb_cells[i].set_text(nbb_formatted_code);\n",
       "                        break;\n",
       "                    }\n",
       "                }\n",
       "            }, 500);\n",
       "            "
      ],
      "text/plain": [
       "<IPython.core.display.Javascript object>"
      ]
     },
     "metadata": {},
     "output_type": "display_data"
    }
   ],
   "source": [
    "print(classification_report(ytest, y_pred))"
   ]
  },
  {
   "cell_type": "code",
   "execution_count": null,
   "metadata": {},
   "outputs": [],
   "source": [
    "# =====================================\n",
    "pred5 = rf.predict((data5.iloc[:, 3:-2]))\n",
    "\n",
    "# temp=data5.iloc[:,3:-2]\n",
    "# temp.columns=['f0', 'f1', 'f2', 'f3', 'f4', 'f5', 'f6', 'f7', 'f8', 'f9', 'f10']\n",
    "# pred5= xgb_model.predict((temp))\n",
    "\n",
    "print(m.accuracy_score(data5.iloc[:, -1], pred5))\n",
    "\n",
    "confmatrx = pd.DataFrame(m.confusion_matrix(data5.iloc[:, -1], pred5))\n",
    "confmatrx"
   ]
  },
  {
   "cell_type": "code",
   "execution_count": null,
   "metadata": {},
   "outputs": [],
   "source": [
    "print(classification_report(data5.iloc[:, -1], pred5))"
   ]
  },
  {
   "cell_type": "code",
   "execution_count": null,
   "metadata": {},
   "outputs": [],
   "source": [
    "# ========================================================"
   ]
  },
  {
   "cell_type": "code",
   "execution_count": null,
   "metadata": {},
   "outputs": [],
   "source": [
    "from sklearn.neighbors import KNeighborsClassifier\n",
    "\n",
    "neigh = KNeighborsClassifier(n_neighbors=50)\n",
    "neigh.fit(xtrain, ytrain)"
   ]
  },
  {
   "cell_type": "code",
   "execution_count": null,
   "metadata": {},
   "outputs": [],
   "source": [
    "y_pred = neigh.predict((xtest))\n",
    "\n",
    "print(\"accuracy \\t\", m.accuracy_score(ytest, y_pred))\n",
    "confmatrx = pd.DataFrame(m.confusion_matrix(ytest, y_pred))\n",
    "confmatrx.head()"
   ]
  },
  {
   "cell_type": "code",
   "execution_count": null,
   "metadata": {},
   "outputs": [],
   "source": [
    "pred5 = neigh.predict((data5.iloc[:, 3:-2]))\n",
    "\n",
    "\n",
    "print(m.accuracy_score(data5.iloc[:, -1], pred5))\n",
    "\n",
    "confmatrx = pd.DataFrame(m.confusion_matrix(data5.iloc[:, -1], pred5))\n",
    "confmatrx"
   ]
  },
  {
   "cell_type": "code",
   "execution_count": null,
   "metadata": {},
   "outputs": [],
   "source": []
  },
  {
   "cell_type": "code",
   "execution_count": null,
   "metadata": {},
   "outputs": [],
   "source": []
  },
  {
   "cell_type": "code",
   "execution_count": null,
   "metadata": {},
   "outputs": [],
   "source": []
  }
 ],
 "metadata": {
  "kernelspec": {
   "display_name": "Python 3",
   "language": "python",
   "name": "python3"
  },
  "language_info": {
   "codemirror_mode": {
    "name": "ipython",
    "version": 3
   },
   "file_extension": ".py",
   "mimetype": "text/x-python",
   "name": "python",
   "nbconvert_exporter": "python",
   "pygments_lexer": "ipython3",
   "version": "3.7.3"
  }
 },
 "nbformat": 4,
 "nbformat_minor": 2
}

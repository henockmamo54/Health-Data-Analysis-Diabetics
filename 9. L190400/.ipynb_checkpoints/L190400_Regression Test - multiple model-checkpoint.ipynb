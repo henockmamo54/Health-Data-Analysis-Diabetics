{
 "cells": [
  {
   "cell_type": "code",
   "execution_count": 2,
   "metadata": {},
   "outputs": [
    {
     "name": "stderr",
     "output_type": "stream",
     "text": [
      "Using TensorFlow backend.\n"
     ]
    }
   ],
   "source": [
    "from matplotlib import pyplot as plt\n",
    "import pandas as pd \n",
    "import numpy as np\n",
    "import warnings\n",
    "warnings.filterwarnings('ignore')\n",
    "from scipy import stats\n",
    "from sklearn.utils import shuffle\n",
    "from sklearn.preprocessing import LabelEncoder\n",
    "from sklearn.metrics import confusion_matrix \n",
    "from sklearn.utils import shuffle\n",
    "from sklearn.ensemble import RandomForestRegressor\n",
    "from sklearn.datasets import make_regression\n",
    "from sklearn.model_selection import train_test_split\n",
    "from sklearn.metrics import mean_absolute_error\n",
    "from sklearn.metrics import mean_squared_error\n",
    "from sklearn.metrics import mean_absolute_error\n",
    "from sklearn.metrics import r2_score\n",
    "from keras.models import Sequential\n",
    "from keras.layers import Dense\n",
    "from keras.wrappers.scikit_learn import KerasRegressor\n",
    "from sklearn.model_selection import cross_val_score\n",
    "from sklearn.model_selection import KFold\n",
    "from sklearn.preprocessing import StandardScaler\n",
    "from sklearn.pipeline import Pipeline\n",
    "from keras.layers import Dropout\n",
    "from keras.layers import BatchNormalization\n",
    "from keras.models import model_from_json\n",
    "from keras.utils import multi_gpu_model \n",
    "from keras.utils import to_categorical\n"
   ]
  },
  {
   "cell_type": "markdown",
   "metadata": {},
   "source": [
    "Read the data\n",
    "==========="
   ]
  },
  {
   "cell_type": "code",
   "execution_count": 8,
   "metadata": {},
   "outputs": [
    {
     "name": "stdout",
     "output_type": "stream",
     "text": [
      "(159381, 22)\n",
      "(159381, 2)\n"
     ]
    }
   ],
   "source": [
    "x_original=pd.read_csv('../_xlable4_withNa_AllColumns.txt')\n",
    "y_original=pd.read_csv('../_targelable4_withNa_AllColumns.txt')\n",
    "\n",
    "# x_original=x_original[['Unnamed: 0','L190400', 'L190500', 'L190300', 'SEX', 'L100700', 'S000100', 'L100500', \n",
    "#                        'L190800', 'L190700', 'L104500', 'L104300', 'L103300', 'L190900', 'S000501', 'L100200', \n",
    "#                        'S000300', 'S000502', 'L101300','FIELD_33', 'AGE', 'FIELD_38', 'FIELD_40', 'FIELD_18', \n",
    "# #                        'FIELD_7', \n",
    "#                        'FIELD_25', 'FIELD_41', 'FIELD_29', 'FIELD_4', 'FIELD_42', 'FIELD_19','L100800']]\n",
    "\n",
    "# y_original=y_original[['Unnamed: 0','L190400', \n",
    "# #                        'L190500', 'L190300', 'SEX', 'L100700', 'S000100', 'L100500', \n",
    "# #                        'L190800', 'L190700', 'L104500', 'L104300', 'L103300', 'L190900', 'S000501', 'L100200', \n",
    "# #                        'S000300', 'S000502', 'L101300','FIELD_33', 'AGE', 'FIELD_38', 'FIELD_40', 'FIELD_18', \n",
    "# #                        'FIELD_7', \n",
    "# #                        'FIELD_25', 'FIELD_41', 'FIELD_29', 'FIELD_4', 'FIELD_42', 'FIELD_19','L100800'\n",
    "#                       ]]\n",
    "\n",
    "\n",
    "x_original=x_original[['Unnamed: 0','L190400', 'L190500','L190300','SEX','L100700','S000100','L100500','L190800','L190700',\n",
    "'L104500','L104300','L103300','L190900','S000501','L100200','S000300','S000502','L101300','L100800',\n",
    "'FIELD_33','AGE']]\n",
    "\n",
    "y_original=y_original[['Unnamed: 0','L190400' ]]\n",
    "\n",
    "\n",
    "print(x_original.shape)\n",
    "print(y_original.shape)\n"
   ]
  },
  {
   "cell_type": "code",
   "execution_count": 9,
   "metadata": {},
   "outputs": [
    {
     "name": "stdout",
     "output_type": "stream",
     "text": [
      "Unnamed: 0 159381\n",
      "L190400 159241\n",
      "L190500 159204\n",
      "L190300 159204\n",
      "SEX 159381\n",
      "L100700 152474\n",
      "S000100 159302\n",
      "L100500 158954\n",
      "L190800 145304\n",
      "L190700 145306\n",
      "L104500 78410\n",
      "L104300 84805\n",
      "L103300 135222\n",
      "L190900 144045\n",
      "S000501 159305\n",
      "L100200 148627\n",
      "S000300 159075\n",
      "S000502 159305\n",
      "L101300 159247\n",
      "L100800 159236\n",
      "FIELD_33 159069\n",
      "AGE 159381\n"
     ]
    }
   ],
   "source": [
    "for index,col in enumerate(x_original.columns):\n",
    "    print(col,x_original[col].dropna().shape[0])"
   ]
  },
  {
   "cell_type": "markdown",
   "metadata": {},
   "source": [
    "Prepare the data\n",
    "============"
   ]
  },
  {
   "cell_type": "code",
   "execution_count": 10,
   "metadata": {},
   "outputs": [],
   "source": [
    "df=x_original.copy()\n",
    "conditions = [\n",
    "    (df.S000501 < 120)  ,\n",
    "    (df.S000501 >= 120) & (df.S000501 < 130),\n",
    "    (df.S000501 >=130)]\n",
    "choices = [0,1,2]\n",
    "df['sbpG'] = np.select(conditions, choices, default=0)\n",
    "df.head()\n",
    "x_original=df.copy()\n",
    "\n",
    "conditions2 = [\n",
    "    (df.S000502 < 80)  ,\n",
    "    (df.S000502 >= 80) & (df.S000502 < 90),\n",
    "    (df.S000502 >=90)]\n",
    "choices2 = [0,1,2]\n",
    "df['dbpG'] = np.select(conditions2, choices2, default=0)\n",
    "df.head()\n",
    "x_original=df.copy()\n",
    "\n",
    "conditions3 = [\n",
    "    (df.AGE < 30)  ,\n",
    "    (df.AGE >= 30) & (df.AGE < 40),\n",
    "    (df.AGE >= 40) & (df.AGE < 50),\n",
    "    (df.AGE >= 50) & (df.AGE < 60),\n",
    "    (df.AGE >= 60)]\n",
    "choices3 = [0,1,2,3,4]\n",
    "df['AgeG'] = np.select(conditions3, choices3, default=0)\n",
    "df.head()\n",
    "x_original=df.copy()\n",
    "\n",
    "\n",
    "conditions4 = [\n",
    "    (df.L100800 < 100)  ,\n",
    "    (df.L100800 >= 100) & (df.L100800 < 126), \n",
    "    (df.L100800 >= 126)]\n",
    "choices4 = [0,1,2]\n",
    "df['CLASS'] = np.select(conditions4, choices4, default=0)\n",
    "df.head()\n",
    "x_original=df.copy()"
   ]
  },
  {
   "cell_type": "code",
   "execution_count": 11,
   "metadata": {},
   "outputs": [
    {
     "name": "stdout",
     "output_type": "stream",
     "text": [
      "(69826, 28)\n"
     ]
    }
   ],
   "source": [
    "data= pd.merge(x_original,y_original, how='inner',left_on='Unnamed: 0', right_on='Unnamed: 0')\n",
    "data=data.dropna(). reset_index()\n",
    "\n",
    "# data=data[data.AGE_x >= 40]\n",
    "# data=data[data.AGE_x < 50]\n",
    "\n",
    "# data=data[data.CLASS_x==0]\n",
    "# data=data[data.sbpG==0]\n",
    "# data=data[data.dbpG==0]\n",
    "\n",
    "# data=data[data.L100800_y <200]\n",
    "\n",
    "print(data.shape)"
   ]
  },
  {
   "cell_type": "code",
   "execution_count": 12,
   "metadata": {},
   "outputs": [
    {
     "name": "stdout",
     "output_type": "stream",
     "text": [
      "(69826, 28)\n",
      "Index(['index', 'Unnamed: 0', 'L190400_x', 'L190500', 'L190300', 'SEX',\n",
      "       'L100700', 'S000100', 'L100500', 'L190800', 'L190700', 'L104500',\n",
      "       'L104300', 'L103300', 'L190900', 'S000501', 'L100200', 'S000300',\n",
      "       'S000502', 'L101300', 'L100800', 'FIELD_33', 'AGE', 'sbpG', 'dbpG',\n",
      "       'AgeG', 'CLASS', 'L190400_y'],\n",
      "      dtype='object')\n"
     ]
    },
    {
     "data": {
      "text/html": [
       "<div>\n",
       "<style scoped>\n",
       "    .dataframe tbody tr th:only-of-type {\n",
       "        vertical-align: middle;\n",
       "    }\n",
       "\n",
       "    .dataframe tbody tr th {\n",
       "        vertical-align: top;\n",
       "    }\n",
       "\n",
       "    .dataframe thead th {\n",
       "        text-align: right;\n",
       "    }\n",
       "</style>\n",
       "<table border=\"1\" class=\"dataframe\">\n",
       "  <thead>\n",
       "    <tr style=\"text-align: right;\">\n",
       "      <th></th>\n",
       "      <th>index</th>\n",
       "      <th>Unnamed: 0</th>\n",
       "      <th>L190400_x</th>\n",
       "      <th>L190500</th>\n",
       "      <th>L190300</th>\n",
       "      <th>SEX</th>\n",
       "      <th>L100700</th>\n",
       "      <th>S000100</th>\n",
       "      <th>L100500</th>\n",
       "      <th>L190800</th>\n",
       "      <th>...</th>\n",
       "      <th>S000502</th>\n",
       "      <th>L101300</th>\n",
       "      <th>L100800</th>\n",
       "      <th>FIELD_33</th>\n",
       "      <th>AGE</th>\n",
       "      <th>sbpG</th>\n",
       "      <th>dbpG</th>\n",
       "      <th>AgeG</th>\n",
       "      <th>CLASS</th>\n",
       "      <th>L190400_y</th>\n",
       "    </tr>\n",
       "  </thead>\n",
       "  <tbody>\n",
       "    <tr>\n",
       "      <th>0</th>\n",
       "      <td>0</td>\n",
       "      <td>0</td>\n",
       "      <td>12.3</td>\n",
       "      <td>38.2</td>\n",
       "      <td>4.20</td>\n",
       "      <td>1.0</td>\n",
       "      <td>3.0</td>\n",
       "      <td>159.8</td>\n",
       "      <td>0.8</td>\n",
       "      <td>32.2</td>\n",
       "      <td>...</td>\n",
       "      <td>67.0</td>\n",
       "      <td>8.0</td>\n",
       "      <td>77.0</td>\n",
       "      <td>1.0</td>\n",
       "      <td>44.0</td>\n",
       "      <td>1</td>\n",
       "      <td>0</td>\n",
       "      <td>2</td>\n",
       "      <td>0</td>\n",
       "      <td>13.1</td>\n",
       "    </tr>\n",
       "    <tr>\n",
       "      <th>1</th>\n",
       "      <td>1</td>\n",
       "      <td>1</td>\n",
       "      <td>13.1</td>\n",
       "      <td>39.0</td>\n",
       "      <td>4.24</td>\n",
       "      <td>1.0</td>\n",
       "      <td>3.0</td>\n",
       "      <td>159.5</td>\n",
       "      <td>0.8</td>\n",
       "      <td>33.6</td>\n",
       "      <td>...</td>\n",
       "      <td>76.0</td>\n",
       "      <td>9.0</td>\n",
       "      <td>89.0</td>\n",
       "      <td>1.0</td>\n",
       "      <td>45.0</td>\n",
       "      <td>0</td>\n",
       "      <td>0</td>\n",
       "      <td>2</td>\n",
       "      <td>0</td>\n",
       "      <td>12.9</td>\n",
       "    </tr>\n",
       "    <tr>\n",
       "      <th>2</th>\n",
       "      <td>2</td>\n",
       "      <td>2</td>\n",
       "      <td>12.9</td>\n",
       "      <td>38.4</td>\n",
       "      <td>4.26</td>\n",
       "      <td>1.0</td>\n",
       "      <td>3.8</td>\n",
       "      <td>159.0</td>\n",
       "      <td>0.8</td>\n",
       "      <td>33.5</td>\n",
       "      <td>...</td>\n",
       "      <td>82.0</td>\n",
       "      <td>10.0</td>\n",
       "      <td>78.0</td>\n",
       "      <td>1.0</td>\n",
       "      <td>46.0</td>\n",
       "      <td>2</td>\n",
       "      <td>1</td>\n",
       "      <td>2</td>\n",
       "      <td>0</td>\n",
       "      <td>11.2</td>\n",
       "    </tr>\n",
       "    <tr>\n",
       "      <th>3</th>\n",
       "      <td>3</td>\n",
       "      <td>3</td>\n",
       "      <td>13.5</td>\n",
       "      <td>40.3</td>\n",
       "      <td>4.20</td>\n",
       "      <td>1.0</td>\n",
       "      <td>3.7</td>\n",
       "      <td>155.3</td>\n",
       "      <td>0.8</td>\n",
       "      <td>33.5</td>\n",
       "      <td>...</td>\n",
       "      <td>71.0</td>\n",
       "      <td>12.0</td>\n",
       "      <td>95.0</td>\n",
       "      <td>1.0</td>\n",
       "      <td>51.0</td>\n",
       "      <td>0</td>\n",
       "      <td>0</td>\n",
       "      <td>3</td>\n",
       "      <td>0</td>\n",
       "      <td>12.6</td>\n",
       "    </tr>\n",
       "    <tr>\n",
       "      <th>4</th>\n",
       "      <td>4</td>\n",
       "      <td>4</td>\n",
       "      <td>12.6</td>\n",
       "      <td>38.6</td>\n",
       "      <td>3.92</td>\n",
       "      <td>1.0</td>\n",
       "      <td>3.4</td>\n",
       "      <td>156.0</td>\n",
       "      <td>0.8</td>\n",
       "      <td>32.6</td>\n",
       "      <td>...</td>\n",
       "      <td>65.0</td>\n",
       "      <td>12.0</td>\n",
       "      <td>90.0</td>\n",
       "      <td>1.0</td>\n",
       "      <td>52.0</td>\n",
       "      <td>0</td>\n",
       "      <td>0</td>\n",
       "      <td>3</td>\n",
       "      <td>0</td>\n",
       "      <td>13.5</td>\n",
       "    </tr>\n",
       "  </tbody>\n",
       "</table>\n",
       "<p>5 rows × 28 columns</p>\n",
       "</div>"
      ],
      "text/plain": [
       "   index  Unnamed: 0  L190400_x  L190500  L190300  SEX  L100700  S000100  \\\n",
       "0      0           0       12.3     38.2     4.20  1.0      3.0    159.8   \n",
       "1      1           1       13.1     39.0     4.24  1.0      3.0    159.5   \n",
       "2      2           2       12.9     38.4     4.26  1.0      3.8    159.0   \n",
       "3      3           3       13.5     40.3     4.20  1.0      3.7    155.3   \n",
       "4      4           4       12.6     38.6     3.92  1.0      3.4    156.0   \n",
       "\n",
       "   L100500  L190800  ...  S000502  L101300  L100800  FIELD_33   AGE  sbpG  \\\n",
       "0      0.8     32.2  ...     67.0      8.0     77.0       1.0  44.0     1   \n",
       "1      0.8     33.6  ...     76.0      9.0     89.0       1.0  45.0     0   \n",
       "2      0.8     33.5  ...     82.0     10.0     78.0       1.0  46.0     2   \n",
       "3      0.8     33.5  ...     71.0     12.0     95.0       1.0  51.0     0   \n",
       "4      0.8     32.6  ...     65.0     12.0     90.0       1.0  52.0     0   \n",
       "\n",
       "   dbpG  AgeG  CLASS  L190400_y  \n",
       "0     0     2      0       13.1  \n",
       "1     0     2      0       12.9  \n",
       "2     1     2      0       11.2  \n",
       "3     0     3      0       12.6  \n",
       "4     0     3      0       13.5  \n",
       "\n",
       "[5 rows x 28 columns]"
      ]
     },
     "execution_count": 12,
     "metadata": {},
     "output_type": "execute_result"
    }
   ],
   "source": [
    "print(data.shape)\n",
    "print(data.columns)\n",
    "data.head()"
   ]
  },
  {
   "cell_type": "code",
   "execution_count": 13,
   "metadata": {},
   "outputs": [],
   "source": [
    "# x=data[['L190400_x', 'L190500_x', 'L190300_x', 'SEX_x', 'L100700_x', 'S000100_x', 'L100500_x', \n",
    "#         'L190800_x', 'L190700_x', 'L104500_x', 'L104300_x', 'L103300_x', 'L190900_x', 'S000501_x', 'L100200_x', \n",
    "#         'S000300_x', 'S000502_x', 'L101300_x','FIELD_33_x', 'AGE_x', 'FIELD_38_x', 'FIELD_40_x', 'FIELD_18_x', \n",
    "# #         'FIELD_7_x', \n",
    "#         'FIELD_25_x', 'FIELD_41_x', 'FIELD_29_x', 'FIELD_4_x', 'FIELD_42_x', 'FIELD_19_x','L100800_x',\n",
    "#         'CLASS','sbpG','dbpG','AgeG']]\n",
    "\n",
    "# y=data[['L190400_y', 'L190500_y', 'L190300_y', 'SEX_y', 'L100700_y', 'S000100_y', 'L100500_y', \n",
    "#         'L190800_y', 'L190700_y', 'L104500_y', 'L104300_y', 'L103300_y', 'L190900_y', 'S000501_y', 'L100200_y', \n",
    "#         'S000300_y', 'S000502_y', 'L101300_y','FIELD_33_y', 'AGE_y', 'FIELD_38_y', 'FIELD_40_y', 'FIELD_18_y', \n",
    "# #         'FIELD_7_y', \n",
    "#         'FIELD_25_y', 'FIELD_41_y', 'FIELD_29_y', 'FIELD_4_y', 'FIELD_42_y', 'FIELD_19_y','L100800_y'\n",
    "#         ]]\n",
    "\n",
    "\n",
    "x=data[['L190400_x','L190500','L190300','SEX','L100700','S000100','L100500','L190800','L190700',\n",
    "'L104500','L104300','L103300','L190900','S000501','L100200','S000300','S000502','L101300',\n",
    "'FIELD_33','AGE']]\n",
    "\n",
    "y=data[['L190400_y']]\n"
   ]
  },
  {
   "cell_type": "markdown",
   "metadata": {},
   "source": [
    "Check the correlation of the selected feature with the independent variables\n",
    "====="
   ]
  },
  {
   "cell_type": "code",
   "execution_count": 14,
   "metadata": {},
   "outputs": [],
   "source": [
    "temppd=pd.DataFrame(x.copy())\n",
    "temppd['y']=y.L190400_y\n",
    "temppd.head()\n",
    "corval=abs(temppd.corr()).sort_values(by='y', ascending=False)"
   ]
  },
  {
   "cell_type": "code",
   "execution_count": 15,
   "metadata": {},
   "outputs": [
    {
     "data": {
      "text/plain": [
       "y            1.000000\n",
       "L190400_x    0.859964\n",
       "L190500      0.833124\n",
       "SEX          0.737337\n",
       "L190300      0.731505\n",
       "S000100      0.541493\n",
       "L100700      0.513987\n",
       "L100500      0.498519\n",
       "FIELD_33     0.448456\n",
       "L190800      0.406133\n",
       "S000300      0.387327\n",
       "L103300      0.382856\n",
       "S000501      0.372322\n",
       "L104500      0.362070\n",
       "L190700      0.347913\n",
       "L101300      0.319795\n",
       "S000502      0.319051\n",
       "L104300      0.294191\n",
       "L190900      0.279205\n",
       "L100200      0.223296\n",
       "AGE          0.060896\n",
       "Name: y, dtype: float64"
      ]
     },
     "execution_count": 15,
     "metadata": {},
     "output_type": "execute_result"
    }
   ],
   "source": [
    "corval.y"
   ]
  },
  {
   "cell_type": "code",
   "execution_count": 16,
   "metadata": {},
   "outputs": [],
   "source": [
    "#histogram plot of the features\n",
    "# import matplotlib.pyplot as plt\n",
    "# x[x.dtypes[(x.dtypes==\"float64\")|(x.dtypes==\"int64\")]\n",
    "#                         .index.values].hist(figsize=[11,11])"
   ]
  },
  {
   "cell_type": "markdown",
   "metadata": {},
   "source": [
    "Apply PCA\n",
    "==========="
   ]
  },
  {
   "cell_type": "code",
   "execution_count": 17,
   "metadata": {},
   "outputs": [],
   "source": [
    "# from sklearn.decomposition import PCA\n",
    "# pca = PCA(n_components=8)\n",
    "# pca.fit(x)\n",
    "\n",
    "# print(pca.explained_variance_ratio_)   \n",
    "# print(np.sum(pca.explained_variance_ratio_))\n",
    "\n",
    "# x=pca.fit_transform(x) \n",
    "# print(x.shape)\n"
   ]
  },
  {
   "cell_type": "markdown",
   "metadata": {},
   "source": [
    "feature scaling\n",
    "======="
   ]
  },
  {
   "cell_type": "code",
   "execution_count": 18,
   "metadata": {},
   "outputs": [],
   "source": [
    "# from sklearn import preprocessing\n",
    "# min_max_scaler = preprocessing.MinMaxScaler()  #StandardScaler()\n",
    "# x = min_max_scaler.fit_transform(x)"
   ]
  },
  {
   "cell_type": "markdown",
   "metadata": {},
   "source": [
    "clustring test\n",
    "=========="
   ]
  },
  {
   "cell_type": "code",
   "execution_count": 19,
   "metadata": {},
   "outputs": [],
   "source": [
    "# from sklearn.cluster import KMeans\n",
    "# from scipy.spatial.distance import cdist\n",
    "\n",
    "# K = range(1,10)\n",
    "# distortions = []\n",
    "\n",
    "# for k in K:\n",
    "#     kmeanModel = KMeans(n_clusters=k).fit(x)\n",
    "#     kmeanModel.fit(x)\n",
    "#     distortions.append(sum(np.min(cdist(x, kmeanModel.cluster_centers_, 'euclidean'), axis=1)) / x.shape[0])\n",
    "\n",
    "# # Plot the elbow\n",
    "# plt.plot(K, distortions, 'bx-')\n",
    "# plt.xlabel('k')\n",
    "# plt.ylabel('Distortion')\n",
    "# plt.title('The Elbow Method showing the optimal k')\n",
    "# plt.show()\n"
   ]
  },
  {
   "cell_type": "code",
   "execution_count": 20,
   "metadata": {},
   "outputs": [],
   "source": [
    "# kmeanModel = KMeans(n_clusters=k).fit(x)\n",
    "# x['lbl']=kmeanModel.labels_ "
   ]
  },
  {
   "cell_type": "code",
   "execution_count": 21,
   "metadata": {},
   "outputs": [],
   "source": [
    "# x.columns"
   ]
  },
  {
   "cell_type": "markdown",
   "metadata": {},
   "source": [
    "Random Forest Regressor\n",
    "============="
   ]
  },
  {
   "cell_type": "code",
   "execution_count": 22,
   "metadata": {},
   "outputs": [],
   "source": [
    "ylable=y[['L190400_y']]  \n",
    "xtrain,xtest,ytrain,ytest=train_test_split(x, ylable, random_state=42, test_size=0.2)"
   ]
  },
  {
   "cell_type": "code",
   "execution_count": 23,
   "metadata": {},
   "outputs": [
    {
     "name": "stdout",
     "output_type": "stream",
     "text": [
      "[4.22001525e-01 1.02907073e-03 8.11496114e-04 5.54379078e-01\n",
      " 4.16311939e-04 6.89190194e-04 7.30408623e-04 1.64274750e-03\n",
      " 2.75648093e-03 2.30754164e-03 1.82113531e-03 6.24966657e-04\n",
      " 2.37587301e-03 5.40671347e-04 4.13311080e-03 1.41939465e-03\n",
      " 5.75168625e-04 6.08025140e-04 1.69994347e-04 9.67808731e-04]\n"
     ]
    }
   ],
   "source": [
    "regr = RandomForestRegressor(max_depth=7, random_state=0,verbose =0,n_estimators=500)\n",
    "regr.fit(xtrain, ytrain) \n",
    "print(regr.feature_importances_)\n",
    "ypred=regr.predict(xtest)\n"
   ]
  },
  {
   "cell_type": "code",
   "execution_count": 24,
   "metadata": {},
   "outputs": [
    {
     "name": "stdout",
     "output_type": "stream",
     "text": [
      "mean_squared_error 0.5203016900514527\n",
      "root mean_squared_error 0.7213194091742248\n",
      "mean_absolute_error 0.5478228938982802\n",
      "r2_score 0.761498105501812\n"
     ]
    },
    {
     "data": {
      "image/png": "[encoded data removed]",
      "text/plain": [
       "<Figure size 432x288 with 1 Axes>"
      ]
     },
     "metadata": {
      "needs_background": "light"
     },
     "output_type": "display_data"
    },
    {
     "data": {
      "text/html": [
       "<div>\n",
       "<style scoped>\n",
       "    .dataframe tbody tr th:only-of-type {\n",
       "        vertical-align: middle;\n",
       "    }\n",
       "\n",
       "    .dataframe tbody tr th {\n",
       "        vertical-align: top;\n",
       "    }\n",
       "\n",
       "    .dataframe thead th {\n",
       "        text-align: right;\n",
       "    }\n",
       "</style>\n",
       "<table border=\"1\" class=\"dataframe\">\n",
       "  <thead>\n",
       "    <tr style=\"text-align: right;\">\n",
       "      <th></th>\n",
       "      <th>t + 1</th>\n",
       "      <th>pred (t +1)</th>\n",
       "    </tr>\n",
       "  </thead>\n",
       "  <tbody>\n",
       "    <tr>\n",
       "      <th>13385</th>\n",
       "      <td>18.4</td>\n",
       "      <td>16.438450</td>\n",
       "    </tr>\n",
       "    <tr>\n",
       "      <th>5329</th>\n",
       "      <td>18.4</td>\n",
       "      <td>17.185723</td>\n",
       "    </tr>\n",
       "    <tr>\n",
       "      <th>12634</th>\n",
       "      <td>18.4</td>\n",
       "      <td>15.659059</td>\n",
       "    </tr>\n",
       "    <tr>\n",
       "      <th>11614</th>\n",
       "      <td>18.6</td>\n",
       "      <td>18.541915</td>\n",
       "    </tr>\n",
       "    <tr>\n",
       "      <th>3049</th>\n",
       "      <td>18.6</td>\n",
       "      <td>16.940001</td>\n",
       "    </tr>\n",
       "    <tr>\n",
       "      <th>8597</th>\n",
       "      <td>18.7</td>\n",
       "      <td>17.108209</td>\n",
       "    </tr>\n",
       "    <tr>\n",
       "      <th>4240</th>\n",
       "      <td>18.8</td>\n",
       "      <td>16.932721</td>\n",
       "    </tr>\n",
       "    <tr>\n",
       "      <th>5797</th>\n",
       "      <td>19.0</td>\n",
       "      <td>16.347067</td>\n",
       "    </tr>\n",
       "    <tr>\n",
       "      <th>1022</th>\n",
       "      <td>19.4</td>\n",
       "      <td>17.113700</td>\n",
       "    </tr>\n",
       "    <tr>\n",
       "      <th>8074</th>\n",
       "      <td>19.8</td>\n",
       "      <td>18.727108</td>\n",
       "    </tr>\n",
       "  </tbody>\n",
       "</table>\n",
       "</div>"
      ],
      "text/plain": [
       "       t + 1  pred (t +1)\n",
       "13385   18.4    16.438450\n",
       "5329    18.4    17.185723\n",
       "12634   18.4    15.659059\n",
       "11614   18.6    18.541915\n",
       "3049    18.6    16.940001\n",
       "8597    18.7    17.108209\n",
       "4240    18.8    16.932721\n",
       "5797    19.0    16.347067\n",
       "1022    19.4    17.113700\n",
       "8074    19.8    18.727108"
      ]
     },
     "execution_count": 24,
     "metadata": {},
     "output_type": "execute_result"
    },
    {
     "data": {
      "image/png": "[encoded data removed]",
      "text/plain": [
       "<Figure size 432x288 with 1 Axes>"
      ]
     },
     "metadata": {
      "needs_background": "light"
     },
     "output_type": "display_data"
    }
   ],
   "source": [
    "\n",
    "import math\n",
    "print('mean_squared_error',mean_squared_error(ytest, ypred))\n",
    "print('root mean_squared_error',math.sqrt(mean_squared_error(ytest, ypred)))\n",
    "print('mean_absolute_error',mean_absolute_error(ytest, ypred))\n",
    "print('r2_score',r2_score(ytest, ypred))\n",
    "\n",
    "ypredPD=pd.DataFrame()\n",
    "# ypredPD['t']=xtest['S000501_x'].values\n",
    "ypredPD['t + 1']=ytest.values.ravel()\n",
    "ypredPD['pred (t +1)']=ypred\n",
    "ypredPD.head(30)\n",
    "\n",
    "import matplotlib.patches as mpatches\n",
    "plt.ylabel('Values')\n",
    "plt.xlabel('index')\n",
    "red_patch = mpatches.Patch(color='red', label='Actual data')\n",
    "blue_patch = mpatches.Patch(color='blue', label='Predicted data')\n",
    "plt.legend(handles=[red_patch,blue_patch])\n",
    "\n",
    "ypredPD=ypredPD.sort_values(by=['t + 1'])\n",
    "plt.scatter(np.arange(0,ypredPD.shape[0],1),ypredPD['pred (t +1)'][:ypredPD.shape[0]])\n",
    "plt.plot(np.arange(0,ypredPD.shape[0],1),ypredPD['t + 1'][:ypredPD.shape[0]],color='red')\n",
    "plt.show()\n",
    "\n",
    "plt.ylabel('p*(t+1), Predicted data')\n",
    "plt.xlabel('p(t+1), Actual data')\n",
    "plt.scatter(ypredPD['t + 1'][:ypredPD.shape[0]],ypredPD['pred (t +1)'][:ypredPD.shape[0]])\n",
    "\n",
    "ypredPD.tail(10)"
   ]
  },
  {
   "cell_type": "code",
   "execution_count": 25,
   "metadata": {},
   "outputs": [],
   "source": [
    "# tempdata=pd.DataFrame(xtest.copy())\n",
    "# tempdata['ytest']=ytest\n",
    "# # temp=temp.dropna()\n",
    "# # tempdata.head()\n",
    "# # tempdata[tempdata.ytest.isna()].index\n",
    "\n",
    "# tempdata=tempdata.drop(tempdata[tempdata.ytest.isna()].index)\n"
   ]
  },
  {
   "cell_type": "markdown",
   "metadata": {},
   "source": [
    "xg boost\n",
    "=========="
   ]
  },
  {
   "cell_type": "code",
   "execution_count": 26,
   "metadata": {},
   "outputs": [],
   "source": [
    "import xgboost as xgb\n",
    "# from sklearn.metrics import mean_squared_error\n",
    "# import pandas as pd\n",
    "# import numpy as np"
   ]
  },
  {
   "cell_type": "code",
   "execution_count": 27,
   "metadata": {},
   "outputs": [
    {
     "name": "stdout",
     "output_type": "stream",
     "text": [
      "[03:29:50] WARNING: C:/Jenkins/workspace/xgboost-win64_release_0.90/src/objective/regression_obj.cu:152: reg:linear is now deprecated in favor of reg:squarederror.\n"
     ]
    },
    {
     "data": {
      "text/plain": [
       "XGBRegressor(base_score=0.5, booster='gbtree', colsample_bylevel=1,\n",
       "             colsample_bynode=1, colsample_bytree=1, gamma=0,\n",
       "             importance_type='gain', learning_rate=0.1, max_delta_step=0,\n",
       "             max_depth=3, min_child_weight=1, missing=None, n_estimators=100,\n",
       "             n_jobs=1, nthread=None, objective='reg:linear', random_state=0,\n",
       "             reg_alpha=0, reg_lambda=1, scale_pos_weight=1, seed=None,\n",
       "             silent=None, subsample=1, verbosity=1)"
      ]
     },
     "execution_count": 27,
     "metadata": {},
     "output_type": "execute_result"
    }
   ],
   "source": [
    "xg_reg = xgb.XGBRegressor()\n",
    "# xg_reg = xgb.XGBRegressor(objective ='reg:linear', colsample_bytree = 0.3, \n",
    "#                           learning_rate = 0.1,max_depth = 5, alpha = 10, n_estimators = 10)\n",
    "xg_reg.fit(xtrain, ytrain) "
   ]
  },
  {
   "cell_type": "code",
   "execution_count": 28,
   "metadata": {},
   "outputs": [
    {
     "name": "stdout",
     "output_type": "stream",
     "text": [
      "mean_squared_error 0.5128182519607668\n",
      "root mean_squared_error 0.7161132954782831\n",
      "mean_absolute_error 0.5433763902610376\n",
      "r2_score 0.7649284502347148\n"
     ]
    }
   ],
   "source": [
    "\n",
    "ypred = xg_reg.predict(xtest)\n",
    "\n",
    "import math\n",
    "print('mean_squared_error',mean_squared_error(ytest, ypred))\n",
    "print('root mean_squared_error',math.sqrt(mean_squared_error(ytest, ypred)))\n",
    "print('mean_absolute_error',mean_absolute_error(ytest, ypred))\n",
    "print('r2_score',r2_score(ytest, ypred))\n",
    "\n",
    "# ypredPD=pd.DataFrame()\n",
    "# ypredPD['t']=xtest['S000501_x'].values\n",
    "# ypredPD['t + 1']=ytest.values\n",
    "# ypredPD['pred (t +1)']=ypred\n",
    "# ypredPD.head(10)"
   ]
  },
  {
   "cell_type": "code",
   "execution_count": 33,
   "metadata": {},
   "outputs": [],
   "source": [
    "# ytest[ytest.isna()].shape\n",
    "# tempdata.iloc[:,-1]"
   ]
  },
  {
   "cell_type": "markdown",
   "metadata": {},
   "source": [
    "ANN\n",
    "=========="
   ]
  },
  {
   "cell_type": "code",
   "execution_count": 37,
   "metadata": {},
   "outputs": [],
   "source": [
    "model= Sequential()\n",
    "model.add(Dense(input_dim=20,units=128,activation='relu', kernel_initializer='uniform'))\n",
    "model.add(Dense(units=128, activation='relu', kernel_initializer='uniform')) \n",
    "model.add(BatchNormalization())\n",
    "model.add(Dropout(0.25))  \n",
    "model.add(Dense(units=64, activation='relu', kernel_initializer='uniform'))\n",
    "model.add(Dense(units=32, activation='relu', kernel_initializer='uniform')) \n",
    "model.add(BatchNormalization())\n",
    "model.add(Dropout(0.25))  \n",
    "model.add(Dense(units=16, activation='relu', kernel_initializer='uniform'))\n",
    "model.add(BatchNormalization())\n",
    "model.add(Dropout(0.25))  \n",
    "model.add(Dense(units=8, activation='relu', kernel_initializer='uniform'))\n",
    "model.add(Dense(units=1, kernel_initializer='uniform'))\n",
    "model.compile(loss='mean_squared_error', optimizer='Nadam', metrics=['mean_squared_error' ])"
   ]
  },
  {
   "cell_type": "code",
   "execution_count": 38,
   "metadata": {
    "scrolled": true
   },
   "outputs": [
    {
     "name": "stderr",
     "output_type": "stream",
     "text": [
      "W1004 02:00:32.951695  6872 deprecation_wrapper.py:119] From C:\\ProgramData\\Anaconda3\\lib\\site-packages\\keras\\backend\\tensorflow_backend.py:986: The name tf.assign_add is deprecated. Please use tf.compat.v1.assign_add instead.\n",
      "\n"
     ]
    },
    {
     "name": "stdout",
     "output_type": "stream",
     "text": [
      "Train on 43988 samples, validate on 10998 samples\n",
      "Epoch 1/100\n",
      "43988/43988 [==============================] - 2s 52us/step - loss: 28.4067 - mean_squared_error: 28.4067 - val_loss: 1.9583 - val_mean_squared_error: 1.9583\n",
      "Epoch 2/100\n",
      "43988/43988 [==============================] - 1s 31us/step - loss: 5.7349 - mean_squared_error: 5.7349 - val_loss: 2.9162 - val_mean_squared_error: 2.9162\n",
      "Epoch 3/100\n",
      "43988/43988 [==============================] - 1s 31us/step - loss: 3.7303 - mean_squared_error: 3.7303 - val_loss: 2.5795 - val_mean_squared_error: 2.5795\n",
      "Epoch 4/100\n",
      "43988/43988 [==============================] - 1s 31us/step - loss: 1.7498 - mean_squared_error: 1.7498 - val_loss: 1.2423 - val_mean_squared_error: 1.2423\n",
      "Epoch 5/100\n",
      "43988/43988 [==============================] - 1s 31us/step - loss: 0.8778 - mean_squared_error: 0.8778 - val_loss: 0.7042 - val_mean_squared_error: 0.7042\n",
      "Epoch 6/100\n",
      "43988/43988 [==============================] - 1s 31us/step - loss: 0.7593 - mean_squared_error: 0.7593 - val_loss: 0.6594 - val_mean_squared_error: 0.6594\n",
      "Epoch 7/100\n",
      "43988/43988 [==============================] - 1s 31us/step - loss: 0.7282 - mean_squared_error: 0.7282 - val_loss: 1.2524 - val_mean_squared_error: 1.2524\n",
      "Epoch 8/100\n",
      "43988/43988 [==============================] - 1s 31us/step - loss: 0.6993 - mean_squared_error: 0.6993 - val_loss: 0.6337 - val_mean_squared_error: 0.6337\n",
      "Epoch 9/100\n",
      "43988/43988 [==============================] - 1s 31us/step - loss: 0.7045 - mean_squared_error: 0.7045 - val_loss: 1.0905 - val_mean_squared_error: 1.0905\n",
      "Epoch 10/100\n",
      "43988/43988 [==============================] - 1s 31us/step - loss: 0.6778 - mean_squared_error: 0.6778 - val_loss: 0.7320 - val_mean_squared_error: 0.7320\n",
      "Epoch 11/100\n",
      "43988/43988 [==============================] - 1s 30us/step - loss: 0.6656 - mean_squared_error: 0.6656 - val_loss: 6.0338 - val_mean_squared_error: 6.0338\n",
      "Epoch 12/100\n",
      "43988/43988 [==============================] - 1s 31us/step - loss: 0.6599 - mean_squared_error: 0.6599 - val_loss: 1.1683 - val_mean_squared_error: 1.1683\n",
      "Epoch 13/100\n",
      "43988/43988 [==============================] - 1s 30us/step - loss: 0.6581 - mean_squared_error: 0.6581 - val_loss: 1.2328 - val_mean_squared_error: 1.2328\n",
      "Epoch 14/100\n",
      "43988/43988 [==============================] - 1s 31us/step - loss: 0.6519 - mean_squared_error: 0.6519 - val_loss: 0.6582 - val_mean_squared_error: 0.6582\n",
      "Epoch 15/100\n",
      "43988/43988 [==============================] - 1s 30us/step - loss: 0.6478 - mean_squared_error: 0.6478 - val_loss: 1.0643 - val_mean_squared_error: 1.0643\n",
      "Epoch 16/100\n",
      "43988/43988 [==============================] - 1s 31us/step - loss: 0.6412 - mean_squared_error: 0.6412 - val_loss: 0.5918 - val_mean_squared_error: 0.5918\n",
      "Epoch 17/100\n",
      "43988/43988 [==============================] - 1s 31us/step - loss: 0.6361 - mean_squared_error: 0.6361 - val_loss: 0.6599 - val_mean_squared_error: 0.6599\n",
      "Epoch 18/100\n",
      "43988/43988 [==============================] - 1s 31us/step - loss: 0.6443 - mean_squared_error: 0.6443 - val_loss: 0.6387 - val_mean_squared_error: 0.6387\n",
      "Epoch 19/100\n",
      "43988/43988 [==============================] - 1s 32us/step - loss: 0.6393 - mean_squared_error: 0.6393 - val_loss: 0.6419 - val_mean_squared_error: 0.6419\n",
      "Epoch 20/100\n",
      "43988/43988 [==============================] - 1s 31us/step - loss: 0.6333 - mean_squared_error: 0.6333 - val_loss: 0.6521 - val_mean_squared_error: 0.6521\n",
      "Epoch 21/100\n",
      "43988/43988 [==============================] - 1s 32us/step - loss: 0.6330 - mean_squared_error: 0.6330 - val_loss: 0.6220 - val_mean_squared_error: 0.6220\n",
      "Epoch 22/100\n",
      "43988/43988 [==============================] - 1s 31us/step - loss: 0.6333 - mean_squared_error: 0.6333 - val_loss: 0.7300 - val_mean_squared_error: 0.7300\n",
      "Epoch 23/100\n",
      "43988/43988 [==============================] - 1s 30us/step - loss: 0.6357 - mean_squared_error: 0.6357 - val_loss: 0.8327 - val_mean_squared_error: 0.8327\n",
      "Epoch 24/100\n",
      "43988/43988 [==============================] - 1s 31us/step - loss: 0.6266 - mean_squared_error: 0.6266 - val_loss: 0.8221 - val_mean_squared_error: 0.8221\n",
      "Epoch 25/100\n",
      "43988/43988 [==============================] - 1s 31us/step - loss: 0.6215 - mean_squared_error: 0.6215 - val_loss: 0.6684 - val_mean_squared_error: 0.6684\n",
      "Epoch 26/100\n",
      "43988/43988 [==============================] - 1s 30us/step - loss: 0.6181 - mean_squared_error: 0.6181 - val_loss: 0.7304 - val_mean_squared_error: 0.7304\n",
      "Epoch 27/100\n",
      "43988/43988 [==============================] - 1s 31us/step - loss: 0.6195 - mean_squared_error: 0.6195 - val_loss: 0.7007 - val_mean_squared_error: 0.7007\n",
      "Epoch 28/100\n",
      "43988/43988 [==============================] - 1s 31us/step - loss: 0.6216 - mean_squared_error: 0.6216 - val_loss: 0.7589 - val_mean_squared_error: 0.7589\n",
      "Epoch 29/100\n",
      "43988/43988 [==============================] - 1s 31us/step - loss: 0.6199 - mean_squared_error: 0.6199 - val_loss: 0.7533 - val_mean_squared_error: 0.7533\n",
      "Epoch 30/100\n",
      "43988/43988 [==============================] - 1s 31us/step - loss: 0.6118 - mean_squared_error: 0.6118 - val_loss: 0.6030 - val_mean_squared_error: 0.6030\n",
      "Epoch 31/100\n",
      "43988/43988 [==============================] - 1s 32us/step - loss: 0.6096 - mean_squared_error: 0.6096 - val_loss: 0.7325 - val_mean_squared_error: 0.7325\n",
      "Epoch 32/100\n",
      "43988/43988 [==============================] - 1s 33us/step - loss: 0.6103 - mean_squared_error: 0.6103 - val_loss: 0.8523 - val_mean_squared_error: 0.8523\n",
      "Epoch 33/100\n",
      "43988/43988 [==============================] - 1s 32us/step - loss: 0.6123 - mean_squared_error: 0.6123 - val_loss: 0.7673 - val_mean_squared_error: 0.7673\n",
      "Epoch 34/100\n",
      "43988/43988 [==============================] - 1s 32us/step - loss: 0.6110 - mean_squared_error: 0.6110 - val_loss: 0.6903 - val_mean_squared_error: 0.6903\n",
      "Epoch 35/100\n",
      "43988/43988 [==============================] - 1s 32us/step - loss: 0.6116 - mean_squared_error: 0.6116 - val_loss: 0.6956 - val_mean_squared_error: 0.6956\n",
      "Epoch 36/100\n",
      "43988/43988 [==============================] - 1s 32us/step - loss: 0.6081 - mean_squared_error: 0.6081 - val_loss: 0.7192 - val_mean_squared_error: 0.7192\n",
      "Epoch 37/100\n",
      "43988/43988 [==============================] - 1s 32us/step - loss: 0.6108 - mean_squared_error: 0.6108 - val_loss: 0.6137 - val_mean_squared_error: 0.6137\n",
      "Epoch 38/100\n",
      "43988/43988 [==============================] - 1s 32us/step - loss: 0.6034 - mean_squared_error: 0.6034 - val_loss: 0.6243 - val_mean_squared_error: 0.6243\n",
      "Epoch 39/100\n",
      "43988/43988 [==============================] - 1s 31us/step - loss: 0.6068 - mean_squared_error: 0.6068 - val_loss: 0.8475 - val_mean_squared_error: 0.8475\n",
      "Epoch 40/100\n",
      "43988/43988 [==============================] - 1s 31us/step - loss: 0.6013 - mean_squared_error: 0.6013 - val_loss: 0.6605 - val_mean_squared_error: 0.6605\n",
      "Epoch 41/100\n",
      "43988/43988 [==============================] - 1s 30us/step - loss: 0.6046 - mean_squared_error: 0.6046 - val_loss: 0.7465 - val_mean_squared_error: 0.7465\n",
      "Epoch 42/100\n",
      "43988/43988 [==============================] - 1s 31us/step - loss: 0.6017 - mean_squared_error: 0.6017 - val_loss: 0.6463 - val_mean_squared_error: 0.6463\n",
      "Epoch 43/100\n",
      "43988/43988 [==============================] - 1s 31us/step - loss: 0.6056 - mean_squared_error: 0.6056 - val_loss: 0.5905 - val_mean_squared_error: 0.5905\n",
      "Epoch 44/100\n",
      "43988/43988 [==============================] - 1s 31us/step - loss: 0.5969 - mean_squared_error: 0.5969 - val_loss: 0.7083 - val_mean_squared_error: 0.7083\n",
      "Epoch 45/100\n",
      "43988/43988 [==============================] - 1s 31us/step - loss: 0.5973 - mean_squared_error: 0.5973 - val_loss: 0.6683 - val_mean_squared_error: 0.6683\n",
      "Epoch 46/100\n",
      "43988/43988 [==============================] - 1s 31us/step - loss: 0.6027 - mean_squared_error: 0.6027 - val_loss: 2.6536 - val_mean_squared_error: 2.6536\n",
      "Epoch 47/100\n",
      "43988/43988 [==============================] - 1s 31us/step - loss: 0.6103 - mean_squared_error: 0.6103 - val_loss: 0.7730 - val_mean_squared_error: 0.7730\n",
      "Epoch 48/100\n",
      "43988/43988 [==============================] - 1s 31us/step - loss: 0.6052 - mean_squared_error: 0.6052 - val_loss: 0.8260 - val_mean_squared_error: 0.8260\n",
      "Epoch 49/100\n",
      "43988/43988 [==============================] - 1s 31us/step - loss: 0.5994 - mean_squared_error: 0.5994 - val_loss: 0.7538 - val_mean_squared_error: 0.7538\n",
      "Epoch 50/100\n",
      "43988/43988 [==============================] - 1s 30us/step - loss: 0.5929 - mean_squared_error: 0.5929 - val_loss: 0.6589 - val_mean_squared_error: 0.6589\n",
      "Epoch 51/100\n",
      "43988/43988 [==============================] - 1s 31us/step - loss: 0.6021 - mean_squared_error: 0.6021 - val_loss: 0.6942 - val_mean_squared_error: 0.6942\n",
      "Epoch 52/100\n",
      "43988/43988 [==============================] - 1s 31us/step - loss: 0.6015 - mean_squared_error: 0.6015 - val_loss: 0.5800 - val_mean_squared_error: 0.5800\n",
      "Epoch 53/100\n",
      "43988/43988 [==============================] - 1s 30us/step - loss: 0.6004 - mean_squared_error: 0.6004 - val_loss: 0.8938 - val_mean_squared_error: 0.8938\n",
      "Epoch 54/100\n",
      "43988/43988 [==============================] - 1s 31us/step - loss: 0.5947 - mean_squared_error: 0.5947 - val_loss: 0.7852 - val_mean_squared_error: 0.7852\n",
      "Epoch 55/100\n",
      "43988/43988 [==============================] - 1s 31us/step - loss: 0.5967 - mean_squared_error: 0.5967 - val_loss: 0.6573 - val_mean_squared_error: 0.6573\n",
      "Epoch 56/100\n",
      "43988/43988 [==============================] - 1s 31us/step - loss: 0.5986 - mean_squared_error: 0.5986 - val_loss: 0.7274 - val_mean_squared_error: 0.7274\n",
      "Epoch 57/100\n",
      "43988/43988 [==============================] - 1s 30us/step - loss: 0.5921 - mean_squared_error: 0.5921 - val_loss: 0.6447 - val_mean_squared_error: 0.6447\n",
      "Epoch 58/100\n",
      "43988/43988 [==============================] - 1s 31us/step - loss: 0.5937 - mean_squared_error: 0.5937 - val_loss: 0.7616 - val_mean_squared_error: 0.7616\n",
      "Epoch 59/100\n",
      "43988/43988 [==============================] - 1s 30us/step - loss: 0.5884 - mean_squared_error: 0.5884 - val_loss: 0.6257 - val_mean_squared_error: 0.6257\n",
      "Epoch 60/100\n",
      "43988/43988 [==============================] - 1s 31us/step - loss: 0.5902 - mean_squared_error: 0.5902 - val_loss: 0.7101 - val_mean_squared_error: 0.7101\n",
      "Epoch 61/100\n",
      "43988/43988 [==============================] - 1s 31us/step - loss: 0.5862 - mean_squared_error: 0.5862 - val_loss: 0.7086 - val_mean_squared_error: 0.7086\n",
      "Epoch 62/100\n",
      "43988/43988 [==============================] - 1s 31us/step - loss: 0.5959 - mean_squared_error: 0.5959 - val_loss: 0.7387 - val_mean_squared_error: 0.7387\n",
      "Epoch 63/100\n",
      "43988/43988 [==============================] - 1s 31us/step - loss: 0.5885 - mean_squared_error: 0.5885 - val_loss: 0.7568 - val_mean_squared_error: 0.7568\n",
      "Epoch 64/100\n",
      "43988/43988 [==============================] - 1s 30us/step - loss: 0.5931 - mean_squared_error: 0.5931 - val_loss: 0.8413 - val_mean_squared_error: 0.8413\n",
      "Epoch 65/100\n",
      "43988/43988 [==============================] - 1s 31us/step - loss: 0.5902 - mean_squared_error: 0.5902 - val_loss: 0.7969 - val_mean_squared_error: 0.7969\n",
      "Epoch 66/100\n",
      "43988/43988 [==============================] - 1s 30us/step - loss: 0.5892 - mean_squared_error: 0.5892 - val_loss: 0.6745 - val_mean_squared_error: 0.6745\n",
      "Epoch 67/100\n",
      "43988/43988 [==============================] - 1s 32us/step - loss: 0.5839 - mean_squared_error: 0.5839 - val_loss: 0.8010 - val_mean_squared_error: 0.8010\n",
      "Epoch 68/100\n",
      "43988/43988 [==============================] - 1s 31us/step - loss: 0.5893 - mean_squared_error: 0.5893 - val_loss: 0.7174 - val_mean_squared_error: 0.7174\n",
      "Epoch 69/100\n",
      "43988/43988 [==============================] - 1s 31us/step - loss: 0.5876 - mean_squared_error: 0.5876 - val_loss: 0.6783 - val_mean_squared_error: 0.6783\n",
      "Epoch 70/100\n",
      "43988/43988 [==============================] - 1s 31us/step - loss: 0.5879 - mean_squared_error: 0.5879 - val_loss: 0.7013 - val_mean_squared_error: 0.7013\n",
      "Epoch 71/100\n",
      "43988/43988 [==============================] - 1s 31us/step - loss: 0.5871 - mean_squared_error: 0.5871 - val_loss: 0.6922 - val_mean_squared_error: 0.6922\n",
      "Epoch 72/100\n",
      "43988/43988 [==============================] - 1s 31us/step - loss: 0.5857 - mean_squared_error: 0.5857 - val_loss: 0.7331 - val_mean_squared_error: 0.7331\n",
      "Epoch 73/100\n",
      "43988/43988 [==============================] - 1s 31us/step - loss: 0.5821 - mean_squared_error: 0.5821 - val_loss: 0.9190 - val_mean_squared_error: 0.9190\n",
      "Epoch 74/100\n",
      "43988/43988 [==============================] - 1s 31us/step - loss: 0.5806 - mean_squared_error: 0.5806 - val_loss: 0.7697 - val_mean_squared_error: 0.7697\n",
      "Epoch 75/100\n",
      "43988/43988 [==============================] - 1s 30us/step - loss: 0.5850 - mean_squared_error: 0.5850 - val_loss: 0.7209 - val_mean_squared_error: 0.7209\n",
      "Epoch 76/100\n",
      "43988/43988 [==============================] - 1s 31us/step - loss: 0.5890 - mean_squared_error: 0.5890 - val_loss: 0.8523 - val_mean_squared_error: 0.8523\n",
      "Epoch 77/100\n",
      "43988/43988 [==============================] - 1s 31us/step - loss: 0.5848 - mean_squared_error: 0.5848 - val_loss: 0.8115 - val_mean_squared_error: 0.8115\n",
      "Epoch 78/100\n",
      "43988/43988 [==============================] - 1s 30us/step - loss: 0.5873 - mean_squared_error: 0.5873 - val_loss: 0.6867 - val_mean_squared_error: 0.6867\n",
      "Epoch 79/100\n",
      "43988/43988 [==============================] - 1s 30us/step - loss: 0.5851 - mean_squared_error: 0.5851 - val_loss: 0.7333 - val_mean_squared_error: 0.7333\n",
      "Epoch 80/100\n",
      "43988/43988 [==============================] - 1s 31us/step - loss: 0.5864 - mean_squared_error: 0.5864 - val_loss: 0.7816 - val_mean_squared_error: 0.7816\n",
      "Epoch 81/100\n",
      "43988/43988 [==============================] - 1s 30us/step - loss: 0.5823 - mean_squared_error: 0.5823 - val_loss: 0.6701 - val_mean_squared_error: 0.6701\n",
      "Epoch 82/100\n",
      "43988/43988 [==============================] - 1s 31us/step - loss: 0.5862 - mean_squared_error: 0.5862 - val_loss: 0.7049 - val_mean_squared_error: 0.7049\n",
      "Epoch 83/100\n",
      "43988/43988 [==============================] - 1s 30us/step - loss: 0.5881 - mean_squared_error: 0.5881 - val_loss: 0.6452 - val_mean_squared_error: 0.6452\n",
      "Epoch 84/100\n",
      "43988/43988 [==============================] - 1s 31us/step - loss: 0.5842 - mean_squared_error: 0.5842 - val_loss: 0.7296 - val_mean_squared_error: 0.7296\n",
      "Epoch 85/100\n",
      "43988/43988 [==============================] - 1s 31us/step - loss: 0.5868 - mean_squared_error: 0.5868 - val_loss: 0.7047 - val_mean_squared_error: 0.7047\n",
      "Epoch 86/100\n",
      "43988/43988 [==============================] - 1s 31us/step - loss: 0.5905 - mean_squared_error: 0.5905 - val_loss: 0.7010 - val_mean_squared_error: 0.7010\n",
      "Epoch 87/100\n",
      "43988/43988 [==============================] - 1s 30us/step - loss: 0.5864 - mean_squared_error: 0.5864 - val_loss: 0.6980 - val_mean_squared_error: 0.6980\n",
      "Epoch 88/100\n",
      "43988/43988 [==============================] - 1s 31us/step - loss: 0.5821 - mean_squared_error: 0.5821 - val_loss: 0.7328 - val_mean_squared_error: 0.7328\n",
      "Epoch 89/100\n",
      "43988/43988 [==============================] - 1s 31us/step - loss: 0.5894 - mean_squared_error: 0.5894 - val_loss: 0.7520 - val_mean_squared_error: 0.7520\n",
      "Epoch 90/100\n",
      "43988/43988 [==============================] - 1s 31us/step - loss: 0.5863 - mean_squared_error: 0.5863 - val_loss: 0.6926 - val_mean_squared_error: 0.6926\n",
      "Epoch 91/100\n",
      "43988/43988 [==============================] - 1s 31us/step - loss: 0.5870 - mean_squared_error: 0.5870 - val_loss: 0.7230 - val_mean_squared_error: 0.7230\n",
      "Epoch 92/100\n",
      "43988/43988 [==============================] - 1s 30us/step - loss: 0.5849 - mean_squared_error: 0.5849 - val_loss: 0.6950 - val_mean_squared_error: 0.6950\n",
      "Epoch 93/100\n",
      "43988/43988 [==============================] - 1s 31us/step - loss: 0.5847 - mean_squared_error: 0.5847 - val_loss: 0.8014 - val_mean_squared_error: 0.8014\n",
      "Epoch 94/100\n",
      "43988/43988 [==============================] - 1s 30us/step - loss: 0.5817 - mean_squared_error: 0.5817 - val_loss: 0.6308 - val_mean_squared_error: 0.6308\n",
      "Epoch 95/100\n",
      "43988/43988 [==============================] - 1s 31us/step - loss: 0.5857 - mean_squared_error: 0.5857 - val_loss: 0.7998 - val_mean_squared_error: 0.7998\n",
      "Epoch 96/100\n",
      "43988/43988 [==============================] - 1s 31us/step - loss: 0.5841 - mean_squared_error: 0.5841 - val_loss: 0.7562 - val_mean_squared_error: 0.7562\n",
      "Epoch 97/100\n"
     ]
    },
    {
     "name": "stdout",
     "output_type": "stream",
     "text": [
      "43988/43988 [==============================] - 1s 31us/step - loss: 0.5819 - mean_squared_error: 0.5819 - val_loss: 0.6790 - val_mean_squared_error: 0.6790\n",
      "Epoch 98/100\n",
      "43988/43988 [==============================] - 1s 30us/step - loss: 0.5842 - mean_squared_error: 0.5842 - val_loss: 0.7940 - val_mean_squared_error: 0.7940\n",
      "Epoch 99/100\n",
      "43988/43988 [==============================] - 1s 31us/step - loss: 0.5856 - mean_squared_error: 0.5856 - val_loss: 0.8322 - val_mean_squared_error: 0.8322\n",
      "Epoch 100/100\n",
      "43988/43988 [==============================] - 1s 30us/step - loss: 0.5802 - mean_squared_error: 0.5802 - val_loss: 0.9363 - val_mean_squared_error: 0.9363\n"
     ]
    }
   ],
   "source": [
    "h=model.fit(xtrain, ytrain, validation_split=.2,epochs=100, batch_size=50)"
   ]
  },
  {
   "cell_type": "code",
   "execution_count": 39,
   "metadata": {},
   "outputs": [
    {
     "name": "stdout",
     "output_type": "stream",
     "text": [
      "mean_squared_error 0.9061687704269004\n",
      "root mean_squared_error 0.9519289734149814\n",
      "mean_absolute_error 0.7434678512737518\n",
      "r2_score 0.5760640905979663\n"
     ]
    },
    {
     "data": {
      "text/html": [
       "<div>\n",
       "<style scoped>\n",
       "    .dataframe tbody tr th:only-of-type {\n",
       "        vertical-align: middle;\n",
       "    }\n",
       "\n",
       "    .dataframe tbody tr th {\n",
       "        vertical-align: top;\n",
       "    }\n",
       "\n",
       "    .dataframe thead th {\n",
       "        text-align: right;\n",
       "    }\n",
       "</style>\n",
       "<table border=\"1\" class=\"dataframe\">\n",
       "  <thead>\n",
       "    <tr style=\"text-align: right;\">\n",
       "      <th></th>\n",
       "      <th>t + 1</th>\n",
       "      <th>pred (t +1)</th>\n",
       "    </tr>\n",
       "  </thead>\n",
       "  <tbody>\n",
       "    <tr>\n",
       "      <th>0</th>\n",
       "      <td>14.0</td>\n",
       "      <td>14.653618</td>\n",
       "    </tr>\n",
       "    <tr>\n",
       "      <th>1</th>\n",
       "      <td>12.5</td>\n",
       "      <td>13.767537</td>\n",
       "    </tr>\n",
       "    <tr>\n",
       "      <th>2</th>\n",
       "      <td>13.2</td>\n",
       "      <td>13.794558</td>\n",
       "    </tr>\n",
       "    <tr>\n",
       "      <th>3</th>\n",
       "      <td>14.9</td>\n",
       "      <td>15.058466</td>\n",
       "    </tr>\n",
       "    <tr>\n",
       "      <th>4</th>\n",
       "      <td>15.1</td>\n",
       "      <td>15.585425</td>\n",
       "    </tr>\n",
       "    <tr>\n",
       "      <th>5</th>\n",
       "      <td>12.7</td>\n",
       "      <td>13.388520</td>\n",
       "    </tr>\n",
       "    <tr>\n",
       "      <th>6</th>\n",
       "      <td>16.2</td>\n",
       "      <td>15.274646</td>\n",
       "    </tr>\n",
       "    <tr>\n",
       "      <th>7</th>\n",
       "      <td>15.3</td>\n",
       "      <td>15.325573</td>\n",
       "    </tr>\n",
       "    <tr>\n",
       "      <th>8</th>\n",
       "      <td>13.8</td>\n",
       "      <td>14.750228</td>\n",
       "    </tr>\n",
       "    <tr>\n",
       "      <th>9</th>\n",
       "      <td>11.7</td>\n",
       "      <td>13.461903</td>\n",
       "    </tr>\n",
       "  </tbody>\n",
       "</table>\n",
       "</div>"
      ],
      "text/plain": [
       "   t + 1  pred (t +1)\n",
       "0   14.0    14.653618\n",
       "1   12.5    13.767537\n",
       "2   13.2    13.794558\n",
       "3   14.9    15.058466\n",
       "4   15.1    15.585425\n",
       "5   12.7    13.388520\n",
       "6   16.2    15.274646\n",
       "7   15.3    15.325573\n",
       "8   13.8    14.750228\n",
       "9   11.7    13.461903"
      ]
     },
     "execution_count": 39,
     "metadata": {},
     "output_type": "execute_result"
    }
   ],
   "source": [
    "ypred=model.predict(xtest)\n",
    "\n",
    "import math\n",
    "print('mean_squared_error',mean_squared_error(ytest, ypred))\n",
    "print('root mean_squared_error',math.sqrt(mean_squared_error(ytest, ypred)))\n",
    "print('mean_absolute_error',mean_absolute_error(ytest, ypred))\n",
    "print('r2_score',r2_score(ytest, ypred))\n",
    "\n",
    "ypredPD=pd.DataFrame()\n",
    "# ypredPD['t']=xtest['S000501_x'].values\n",
    "ypredPD['t + 1']=ytest.values.ravel()\n",
    "ypredPD['pred (t +1)']=ypred\n",
    "ypredPD.head(10)"
   ]
  },
  {
   "cell_type": "code",
   "execution_count": 40,
   "metadata": {},
   "outputs": [
    {
     "name": "stdout",
     "output_type": "stream",
     "text": [
      "dict_keys(['val_loss', 'val_mean_squared_error', 'loss', 'mean_squared_error'])\n"
     ]
    },
    {
     "data": {
      "image/png": "[encoded data removed]",
      "text/plain": [
       "<Figure size 432x288 with 1 Axes>"
      ]
     },
     "metadata": {
      "needs_background": "light"
     },
     "output_type": "display_data"
    },
    {
     "data": {
      "image/png": "[encoded data removed]",
      "text/plain": [
       "<Figure size 432x288 with 1 Axes>"
      ]
     },
     "metadata": {
      "needs_background": "light"
     },
     "output_type": "display_data"
    }
   ],
   "source": [
    "history=h\n",
    "print(history.history.keys())\n",
    "# summarize history for accuracy\n",
    "plt.plot(history.history['val_loss'])\n",
    "plt.plot(history.history['loss'])\n",
    "plt.title('model accuracy')\n",
    "plt.ylabel('accuracy')\n",
    "plt.xlabel('epoch')\n",
    "plt.legend(['train', 'test'], loc='upper left')\n",
    "plt.show()\n",
    "# summarize history for loss\n",
    "plt.plot(history.history['val_mean_squared_error'])\n",
    "plt.plot(history.history['mean_squared_error'])\n",
    "plt.title('model loss')\n",
    "plt.ylabel('loss')\n",
    "plt.xlabel('epoch')\n",
    "plt.legend(['train', 'test'], loc='upper left')\n",
    "plt.show()"
   ]
  },
  {
   "cell_type": "code",
   "execution_count": 41,
   "metadata": {},
   "outputs": [
    {
     "name": "stdout",
     "output_type": "stream",
     "text": [
      "0.743467851273751\n",
      "0.594495016420903\n",
      "99.96362842802066\n"
     ]
    }
   ],
   "source": [
    "ypredPD['diff']=abs(ypredPD['t + 1']- ypredPD['pred (t +1)'])\n",
    "print(np.mean(ypredPD['diff']))\n",
    "print(np.std(ypredPD['diff']))\n",
    "print(100*ypredPD[ypredPD['diff']<=5].shape[0]/ypredPD.shape[0])"
   ]
  },
  {
   "cell_type": "code",
   "execution_count": 42,
   "metadata": {},
   "outputs": [
    {
     "data": {
      "image/png": "[encoded data removed]",
      "text/plain": [
       "<Figure size 432x288 with 1 Axes>"
      ]
     },
     "metadata": {
      "needs_background": "light"
     },
     "output_type": "display_data"
    },
    {
     "data": {
      "text/html": [
       "<div>\n",
       "<style scoped>\n",
       "    .dataframe tbody tr th:only-of-type {\n",
       "        vertical-align: middle;\n",
       "    }\n",
       "\n",
       "    .dataframe tbody tr th {\n",
       "        vertical-align: top;\n",
       "    }\n",
       "\n",
       "    .dataframe thead th {\n",
       "        text-align: right;\n",
       "    }\n",
       "</style>\n",
       "<table border=\"1\" class=\"dataframe\">\n",
       "  <thead>\n",
       "    <tr style=\"text-align: right;\">\n",
       "      <th></th>\n",
       "      <th>t + 1</th>\n",
       "      <th>pred (t +1)</th>\n",
       "      <th>diff</th>\n",
       "    </tr>\n",
       "  </thead>\n",
       "  <tbody>\n",
       "    <tr>\n",
       "      <th>4326</th>\n",
       "      <td>6.1</td>\n",
       "      <td>11.865774</td>\n",
       "      <td>5.765774</td>\n",
       "    </tr>\n",
       "    <tr>\n",
       "      <th>1091</th>\n",
       "      <td>6.8</td>\n",
       "      <td>11.247871</td>\n",
       "      <td>4.447871</td>\n",
       "    </tr>\n",
       "    <tr>\n",
       "      <th>6149</th>\n",
       "      <td>6.9</td>\n",
       "      <td>11.730783</td>\n",
       "      <td>4.830783</td>\n",
       "    </tr>\n",
       "    <tr>\n",
       "      <th>3902</th>\n",
       "      <td>7.0</td>\n",
       "      <td>11.800111</td>\n",
       "      <td>4.800111</td>\n",
       "    </tr>\n",
       "    <tr>\n",
       "      <th>136</th>\n",
       "      <td>7.2</td>\n",
       "      <td>11.833539</td>\n",
       "      <td>4.633539</td>\n",
       "    </tr>\n",
       "    <tr>\n",
       "      <th>3898</th>\n",
       "      <td>7.2</td>\n",
       "      <td>13.333022</td>\n",
       "      <td>6.133022</td>\n",
       "    </tr>\n",
       "    <tr>\n",
       "      <th>11275</th>\n",
       "      <td>7.3</td>\n",
       "      <td>11.300501</td>\n",
       "      <td>4.000501</td>\n",
       "    </tr>\n",
       "    <tr>\n",
       "      <th>7189</th>\n",
       "      <td>7.6</td>\n",
       "      <td>12.938969</td>\n",
       "      <td>5.338969</td>\n",
       "    </tr>\n",
       "    <tr>\n",
       "      <th>7611</th>\n",
       "      <td>7.7</td>\n",
       "      <td>11.810498</td>\n",
       "      <td>4.110498</td>\n",
       "    </tr>\n",
       "    <tr>\n",
       "      <th>1865</th>\n",
       "      <td>7.8</td>\n",
       "      <td>11.628519</td>\n",
       "      <td>3.828519</td>\n",
       "    </tr>\n",
       "  </tbody>\n",
       "</table>\n",
       "</div>"
      ],
      "text/plain": [
       "       t + 1  pred (t +1)      diff\n",
       "4326     6.1    11.865774  5.765774\n",
       "1091     6.8    11.247871  4.447871\n",
       "6149     6.9    11.730783  4.830783\n",
       "3902     7.0    11.800111  4.800111\n",
       "136      7.2    11.833539  4.633539\n",
       "3898     7.2    13.333022  6.133022\n",
       "11275    7.3    11.300501  4.000501\n",
       "7189     7.6    12.938969  5.338969\n",
       "7611     7.7    11.810498  4.110498\n",
       "1865     7.8    11.628519  3.828519"
      ]
     },
     "execution_count": 42,
     "metadata": {},
     "output_type": "execute_result"
    },
    {
     "data": {
      "image/png": "[encoded data removed]",
      "text/plain": [
       "<Figure size 432x288 with 1 Axes>"
      ]
     },
     "metadata": {
      "needs_background": "light"
     },
     "output_type": "display_data"
    }
   ],
   "source": [
    "\n",
    "import matplotlib.patches as mpatches\n",
    "plt.ylabel('Values')\n",
    "plt.xlabel('index')\n",
    "red_patch = mpatches.Patch(color='red', label='Actual data')\n",
    "blue_patch = mpatches.Patch(color='blue', label='Predicted data')\n",
    "plt.legend(handles=[red_patch,blue_patch])\n",
    "\n",
    "ypredPD=ypredPD.sort_values(by=['t + 1'])\n",
    "plt.scatter(np.arange(0,ypredPD.shape[0],1),ypredPD['pred (t +1)'][:ypredPD.shape[0]])\n",
    "plt.plot(np.arange(0,ypredPD.shape[0],1),ypredPD['t + 1'][:ypredPD.shape[0]],color='red')\n",
    "plt.show()\n",
    "\n",
    "plt.ylabel('p*(t+1), Predicted data')\n",
    "plt.xlabel('p(t+1), Actual data')\n",
    "plt.scatter(ypredPD['t + 1'][:ypredPD.shape[0]],ypredPD['pred (t +1)'][:ypredPD.shape[0]])\n",
    "\n",
    "ypredPD.head(10)"
   ]
  },
  {
   "cell_type": "markdown",
   "metadata": {},
   "source": [
    "SVR\n",
    "======"
   ]
  },
  {
   "cell_type": "code",
   "execution_count": null,
   "metadata": {},
   "outputs": [],
   "source": [
    "from sklearn.svm import SVR\n",
    "# svr_rbf = SVR(kernel='rbf', C=10, gamma=0.02, epsilon=.001)\n",
    "svr_rbf = SVR(kernel='rbf')"
   ]
  },
  {
   "cell_type": "code",
   "execution_count": null,
   "metadata": {},
   "outputs": [],
   "source": [
    "svr_rbf.fit(xtrain, ytrain) "
   ]
  },
  {
   "cell_type": "code",
   "execution_count": null,
   "metadata": {},
   "outputs": [],
   "source": [
    "ypred=svr_rbf.predict(xtest)"
   ]
  },
  {
   "cell_type": "code",
   "execution_count": null,
   "metadata": {},
   "outputs": [],
   "source": [
    "import math\n",
    "print('mean_squared_error',mean_squared_error(ytest, ypred))\n",
    "print('root mean_squared_error',math.sqrt(mean_squared_error(ytest, ypred)))\n",
    "print('mean_absolute_error',mean_absolute_error(ytest, ypred))\n",
    "print('r2_score',r2_score(ytest, ypred))\n",
    "\n",
    "ypredPD=pd.DataFrame()\n",
    "# ypredPD['t']=xtest['S000501_x'].values\n",
    "ypredPD['t + 1']=ytest.values.ravel()\n",
    "ypredPD['pred (t +1)']=ypred\n",
    "ypredPD.head(10)"
   ]
  },
  {
   "cell_type": "code",
   "execution_count": null,
   "metadata": {},
   "outputs": [],
   "source": []
  },
  {
   "cell_type": "code",
   "execution_count": null,
   "metadata": {},
   "outputs": [],
   "source": []
  }
 ],
 "metadata": {
  "kernelspec": {
   "display_name": "Python 3",
   "language": "python",
   "name": "python3"
  },
  "language_info": {
   "codemirror_mode": {
    "name": "ipython",
    "version": 3
   },
   "file_extension": ".py",
   "mimetype": "text/x-python",
   "name": "python",
   "nbconvert_exporter": "python",
   "pygments_lexer": "ipython3",
   "version": "3.7.3"
  }
 },
 "nbformat": 4,
 "nbformat_minor": 2
}

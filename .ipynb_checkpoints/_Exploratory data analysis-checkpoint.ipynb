{
 "cells": [
  {
   "cell_type": "code",
   "execution_count": 15,
   "metadata": {},
   "outputs": [],
   "source": [
    "import pandas as pd \n",
    "import numpy as np\n",
    "import warnings\n",
    "warnings.filterwarnings('ignore')\n",
    "from matplotlib import  pyplot as plt"
   ]
  },
  {
   "cell_type": "code",
   "execution_count": 3,
   "metadata": {},
   "outputs": [],
   "source": [
    "data= data= pd.read_csv('sep19SexAndAgeAddedFINAL DATASET_ver2.txt',sep=',')\n"
   ]
  },
  {
   "cell_type": "code",
   "execution_count": 2,
   "metadata": {},
   "outputs": [
    {
     "name": "stdout",
     "output_type": "stream",
     "text": [
      "(535169, 404)\n",
      "(466680, 404)\n"
     ]
    }
   ],
   "source": [
    "\n",
    "data['FIELD_6_7']=np.min(data[['FIELD_6','FIELD_7']],axis=1) #combine FIELD_6 and FIELD_7 both represent the same thing (Women's marital status)\n",
    "data=data.drop(columns=['FIELD_6','FIELD_7','B_DAY'])\n",
    "print(data.shape)\n",
    "# filter the data set \n",
    "data=data[data.FIELD_16!=1] # exclude people who are diagnosed for (diabetes) \n",
    "data=data[data.FIELD_23!=1] # exclude people who are on medication for diabetes\n",
    "\n",
    "data=data[data.FIELD_15!=1] # exclude people who are diagnosed for (high blood pressure)\n",
    "data=data[data.FIELD_22!=1] # exclude people who are on medication for high blood pressure\n",
    "\n",
    "data=data[data.FIELD_17!=1] # exclude people who are diagnosed for hyperlipidemia\n",
    "data=data[data.FIELD_24!=1] # exclude people who are on medication for hyperlipidemia\n",
    "print(data.shape)"
   ]
  },
  {
   "cell_type": "code",
   "execution_count": 16,
   "metadata": {},
   "outputs": [
    {
     "data": {
      "text/plain": [
       "SEX\n",
       "0.0    306461\n",
       "1.0    228705\n",
       "dtype: int64"
      ]
     },
     "execution_count": 16,
     "metadata": {},
     "output_type": "execute_result"
    }
   ],
   "source": [
    "data.groupby(by='SEX').size()"
   ]
  },
  {
   "cell_type": "code",
   "execution_count": null,
   "metadata": {},
   "outputs": [],
   "source": []
  },
  {
   "cell_type": "code",
   "execution_count": 25,
   "metadata": {},
   "outputs": [
    {
     "data": {
      "text/plain": [
       "(array([1.1000e+01, 5.2000e+01, 7.0200e+02, 1.4600e+03, 3.0600e+03,\n",
       "        8.0230e+03, 1.6472e+04, 2.3906e+04, 1.4628e+04, 3.1561e+04,\n",
       "        3.5437e+04, 3.7131e+04, 3.5426e+04, 3.5576e+04, 3.6364e+04,\n",
       "        3.7424e+04, 1.8073e+04, 3.3824e+04, 2.9100e+04, 2.5069e+04,\n",
       "        2.2367e+04, 2.0238e+04, 1.7554e+04, 1.4187e+04, 5.9520e+03,\n",
       "        8.7620e+03, 6.7090e+03, 4.8420e+03, 3.5230e+03, 2.6370e+03,\n",
       "        1.7910e+03, 1.2290e+03, 8.4800e+02, 2.9300e+02, 4.5300e+02,\n",
       "        2.1600e+02, 1.1200e+02, 5.1000e+01, 2.9000e+01, 1.2000e+01,\n",
       "        7.0000e+00, 0.0000e+00, 3.0000e+00, 3.0000e+00, 2.0000e+00,\n",
       "        0.0000e+00, 1.0000e+00, 1.9000e+01, 1.6000e+01, 1.1000e+01]),\n",
       " array([ 14.  ,  15.88,  17.76,  19.64,  21.52,  23.4 ,  25.28,  27.16,\n",
       "         29.04,  30.92,  32.8 ,  34.68,  36.56,  38.44,  40.32,  42.2 ,\n",
       "         44.08,  45.96,  47.84,  49.72,  51.6 ,  53.48,  55.36,  57.24,\n",
       "         59.12,  61.  ,  62.88,  64.76,  66.64,  68.52,  70.4 ,  72.28,\n",
       "         74.16,  76.04,  77.92,  79.8 ,  81.68,  83.56,  85.44,  87.32,\n",
       "         89.2 ,  91.08,  92.96,  94.84,  96.72,  98.6 , 100.48, 102.36,\n",
       "        104.24, 106.12, 108.  ]),\n",
       " <a list of 50 Patch objects>)"
      ]
     },
     "execution_count": 25,
     "metadata": {},
     "output_type": "execute_result"
    },
    {
     "data": {
      "image/png": "[encoded data removed]",
      "text/plain": [
       "<Figure size 432x288 with 1 Axes>"
      ]
     },
     "metadata": {
      "needs_background": "light"
     },
     "output_type": "display_data"
    }
   ],
   "source": [
    "temp=data.sort_values(by='AGE').AGE\n",
    "\n",
    "# plt.scatter(np.arange(0,temp.shape[0]),temp.AGE)\n",
    "plt.ylabel('Count')\n",
    "plt.xlabel('Age')\n",
    "plt.hist(temp,bins=50)"
   ]
  },
  {
   "cell_type": "code",
   "execution_count": 28,
   "metadata": {},
   "outputs": [
    {
     "data": {
      "image/png": "[encoded data removed]",
      "text/plain": [
       "<Figure size 432x288 with 1 Axes>"
      ]
     },
     "metadata": {
      "needs_background": "light"
     },
     "output_type": "display_data"
    }
   ],
   "source": [
    "plt.scatter(data.AGE,data.L100800)\n",
    "plt.xlabel('Age')\n",
    "plt.ylabel('Fasting blood glucose (mg/dl)')\n",
    "plt.show()"
   ]
  },
  {
   "cell_type": "code",
   "execution_count": 29,
   "metadata": {},
   "outputs": [],
   "source": [
    "# add Diabetic Class to the dataset \n",
    "conditions = [\n",
    "    (data.L100800 < 100)  ,\n",
    "    (data.L100800 >= 100) & (data.L100800 < 126),\n",
    "    (data.L100800 >= 126)]\n",
    "choices = [0,1,2]\n",
    "data['DiabeticCLASS'] = np.select(conditions, choices, default=0) "
   ]
  },
  {
   "cell_type": "code",
   "execution_count": 30,
   "metadata": {},
   "outputs": [
    {
     "data": {
      "text/plain": [
       "DiabeticCLASS\n",
       "0    371254\n",
       "1    142908\n",
       "2     21007\n",
       "dtype: int64"
      ]
     },
     "execution_count": 30,
     "metadata": {},
     "output_type": "execute_result"
    }
   ],
   "source": [
    "data.groupby(by='DiabeticCLASS').size()"
   ]
  },
  {
   "cell_type": "code",
   "execution_count": 32,
   "metadata": {},
   "outputs": [
    {
     "ename": "KeyError",
     "evalue": "\"['L1004600', 'L1003000', 'CLASS'] not in index\"",
     "output_type": "error",
     "traceback": [
      "\u001b[1;31m---------------------------------------------------------------------------\u001b[0m",
      "\u001b[1;31mKeyError\u001b[0m                                  Traceback (most recent call last)",
      "\u001b[1;32m<ipython-input-32-a5b5375e202e>\u001b[0m in \u001b[0;36m<module>\u001b[1;34m\u001b[0m\n\u001b[0;32m      1\u001b[0m data[['L1004600', 'L1003000', 'S000300',  'L101700', 'SEX', 'AGE', 'L100700', \n\u001b[1;32m----> 2\u001b[1;33m                'FIELD_33', 'FIELD_38', 'FIELD_40', 'FIELD_31','CLASS']]\n\u001b[0m",
      "\u001b[1;32mC:\\ProgramData\\Anaconda3\\lib\\site-packages\\pandas\\core\\frame.py\u001b[0m in \u001b[0;36m__getitem__\u001b[1;34m(self, key)\u001b[0m\n\u001b[0;32m   2932\u001b[0m                 \u001b[0mkey\u001b[0m \u001b[1;33m=\u001b[0m \u001b[0mlist\u001b[0m\u001b[1;33m(\u001b[0m\u001b[0mkey\u001b[0m\u001b[1;33m)\u001b[0m\u001b[1;33m\u001b[0m\u001b[1;33m\u001b[0m\u001b[0m\n\u001b[0;32m   2933\u001b[0m             indexer = self.loc._convert_to_indexer(key, axis=1,\n\u001b[1;32m-> 2934\u001b[1;33m                                                    raise_missing=True)\n\u001b[0m\u001b[0;32m   2935\u001b[0m \u001b[1;33m\u001b[0m\u001b[0m\n\u001b[0;32m   2936\u001b[0m         \u001b[1;31m# take() does not accept boolean indexers\u001b[0m\u001b[1;33m\u001b[0m\u001b[1;33m\u001b[0m\u001b[1;33m\u001b[0m\u001b[0m\n",
      "\u001b[1;32mC:\\ProgramData\\Anaconda3\\lib\\site-packages\\pandas\\core\\indexing.py\u001b[0m in \u001b[0;36m_convert_to_indexer\u001b[1;34m(self, obj, axis, is_setter, raise_missing)\u001b[0m\n\u001b[0;32m   1352\u001b[0m                 kwargs = {'raise_missing': True if is_setter else\n\u001b[0;32m   1353\u001b[0m                           raise_missing}\n\u001b[1;32m-> 1354\u001b[1;33m                 \u001b[1;32mreturn\u001b[0m \u001b[0mself\u001b[0m\u001b[1;33m.\u001b[0m\u001b[0m_get_listlike_indexer\u001b[0m\u001b[1;33m(\u001b[0m\u001b[0mobj\u001b[0m\u001b[1;33m,\u001b[0m \u001b[0maxis\u001b[0m\u001b[1;33m,\u001b[0m \u001b[1;33m**\u001b[0m\u001b[0mkwargs\u001b[0m\u001b[1;33m)\u001b[0m\u001b[1;33m[\u001b[0m\u001b[1;36m1\u001b[0m\u001b[1;33m]\u001b[0m\u001b[1;33m\u001b[0m\u001b[1;33m\u001b[0m\u001b[0m\n\u001b[0m\u001b[0;32m   1355\u001b[0m         \u001b[1;32melse\u001b[0m\u001b[1;33m:\u001b[0m\u001b[1;33m\u001b[0m\u001b[1;33m\u001b[0m\u001b[0m\n\u001b[0;32m   1356\u001b[0m             \u001b[1;32mtry\u001b[0m\u001b[1;33m:\u001b[0m\u001b[1;33m\u001b[0m\u001b[1;33m\u001b[0m\u001b[0m\n",
      "\u001b[1;32mC:\\ProgramData\\Anaconda3\\lib\\site-packages\\pandas\\core\\indexing.py\u001b[0m in \u001b[0;36m_get_listlike_indexer\u001b[1;34m(self, key, axis, raise_missing)\u001b[0m\n\u001b[0;32m   1159\u001b[0m         self._validate_read_indexer(keyarr, indexer,\n\u001b[0;32m   1160\u001b[0m                                     \u001b[0mo\u001b[0m\u001b[1;33m.\u001b[0m\u001b[0m_get_axis_number\u001b[0m\u001b[1;33m(\u001b[0m\u001b[0maxis\u001b[0m\u001b[1;33m)\u001b[0m\u001b[1;33m,\u001b[0m\u001b[1;33m\u001b[0m\u001b[1;33m\u001b[0m\u001b[0m\n\u001b[1;32m-> 1161\u001b[1;33m                                     raise_missing=raise_missing)\n\u001b[0m\u001b[0;32m   1162\u001b[0m         \u001b[1;32mreturn\u001b[0m \u001b[0mkeyarr\u001b[0m\u001b[1;33m,\u001b[0m \u001b[0mindexer\u001b[0m\u001b[1;33m\u001b[0m\u001b[1;33m\u001b[0m\u001b[0m\n\u001b[0;32m   1163\u001b[0m \u001b[1;33m\u001b[0m\u001b[0m\n",
      "\u001b[1;32mC:\\ProgramData\\Anaconda3\\lib\\site-packages\\pandas\\core\\indexing.py\u001b[0m in \u001b[0;36m_validate_read_indexer\u001b[1;34m(self, key, indexer, axis, raise_missing)\u001b[0m\n\u001b[0;32m   1250\u001b[0m             \u001b[1;32mif\u001b[0m \u001b[1;32mnot\u001b[0m\u001b[1;33m(\u001b[0m\u001b[0mself\u001b[0m\u001b[1;33m.\u001b[0m\u001b[0mname\u001b[0m \u001b[1;33m==\u001b[0m \u001b[1;34m'loc'\u001b[0m \u001b[1;32mand\u001b[0m \u001b[1;32mnot\u001b[0m \u001b[0mraise_missing\u001b[0m\u001b[1;33m)\u001b[0m\u001b[1;33m:\u001b[0m\u001b[1;33m\u001b[0m\u001b[1;33m\u001b[0m\u001b[0m\n\u001b[0;32m   1251\u001b[0m                 \u001b[0mnot_found\u001b[0m \u001b[1;33m=\u001b[0m \u001b[0mlist\u001b[0m\u001b[1;33m(\u001b[0m\u001b[0mset\u001b[0m\u001b[1;33m(\u001b[0m\u001b[0mkey\u001b[0m\u001b[1;33m)\u001b[0m \u001b[1;33m-\u001b[0m \u001b[0mset\u001b[0m\u001b[1;33m(\u001b[0m\u001b[0max\u001b[0m\u001b[1;33m)\u001b[0m\u001b[1;33m)\u001b[0m\u001b[1;33m\u001b[0m\u001b[1;33m\u001b[0m\u001b[0m\n\u001b[1;32m-> 1252\u001b[1;33m                 \u001b[1;32mraise\u001b[0m \u001b[0mKeyError\u001b[0m\u001b[1;33m(\u001b[0m\u001b[1;34m\"{} not in index\"\u001b[0m\u001b[1;33m.\u001b[0m\u001b[0mformat\u001b[0m\u001b[1;33m(\u001b[0m\u001b[0mnot_found\u001b[0m\u001b[1;33m)\u001b[0m\u001b[1;33m)\u001b[0m\u001b[1;33m\u001b[0m\u001b[1;33m\u001b[0m\u001b[0m\n\u001b[0m\u001b[0;32m   1253\u001b[0m \u001b[1;33m\u001b[0m\u001b[0m\n\u001b[0;32m   1254\u001b[0m             \u001b[1;31m# we skip the warning on Categorical/Interval\u001b[0m\u001b[1;33m\u001b[0m\u001b[1;33m\u001b[0m\u001b[1;33m\u001b[0m\u001b[0m\n",
      "\u001b[1;31mKeyError\u001b[0m: \"['L1004600', 'L1003000', 'CLASS'] not in index\""
     ]
    }
   ],
   "source": [
    "data[['L104600', 'L103000', 'S000300',  'L101700', 'SEX', 'AGE', 'L100700', \n",
    "               'FIELD_33', 'FIELD_38', 'FIELD_40', 'FIELD_31','CLASS']]"
   ]
  },
  {
   "cell_type": "markdown",
   "metadata": {},
   "source": [
    "Customer Info Analaysis\n",
    "========"
   ]
  },
  {
   "cell_type": "code",
   "execution_count": 3,
   "metadata": {},
   "outputs": [
    {
     "name": "stdout",
     "output_type": "stream",
     "text": [
      "(466680, 404)\n"
     ]
    },
    {
     "data": {
      "text/html": [
       "<div>\n",
       "<style scoped>\n",
       "    .dataframe tbody tr th:only-of-type {\n",
       "        vertical-align: middle;\n",
       "    }\n",
       "\n",
       "    .dataframe tbody tr th {\n",
       "        vertical-align: top;\n",
       "    }\n",
       "\n",
       "    .dataframe thead th {\n",
       "        text-align: right;\n",
       "    }\n",
       "</style>\n",
       "<table border=\"1\" class=\"dataframe\">\n",
       "  <thead>\n",
       "    <tr style=\"text-align: right;\">\n",
       "      <th></th>\n",
       "      <th>Unnamed: 0</th>\n",
       "      <th>FIELD_1</th>\n",
       "      <th>FIELD_2</th>\n",
       "      <th>COMPARE</th>\n",
       "      <th>AGE</th>\n",
       "      <th>SEX</th>\n",
       "      <th>FIELD_3</th>\n",
       "      <th>FIELD_4</th>\n",
       "      <th>FIELD_5</th>\n",
       "      <th>FIELD_8</th>\n",
       "      <th>...</th>\n",
       "      <th>S004424</th>\n",
       "      <th>S005200</th>\n",
       "      <th>S007400</th>\n",
       "      <th>S008501</th>\n",
       "      <th>S008502</th>\n",
       "      <th>S008503</th>\n",
       "      <th>S008504</th>\n",
       "      <th>S010101</th>\n",
       "      <th>S010102</th>\n",
       "      <th>FIELD_6_7</th>\n",
       "    </tr>\n",
       "  </thead>\n",
       "  <tbody>\n",
       "    <tr>\n",
       "      <th>0</th>\n",
       "      <td>0</td>\n",
       "      <td>1000003</td>\n",
       "      <td>20130913</td>\n",
       "      <td>100000320130913</td>\n",
       "      <td>46.0</td>\n",
       "      <td>0.0</td>\n",
       "      <td>NaN</td>\n",
       "      <td>4</td>\n",
       "      <td>1</td>\n",
       "      <td>NaN</td>\n",
       "      <td>...</td>\n",
       "      <td>NaN</td>\n",
       "      <td>NaN</td>\n",
       "      <td>NaN</td>\n",
       "      <td>NaN</td>\n",
       "      <td>NaN</td>\n",
       "      <td>NaN</td>\n",
       "      <td>NaN</td>\n",
       "      <td>18.0</td>\n",
       "      <td>14.0</td>\n",
       "      <td>NaN</td>\n",
       "    </tr>\n",
       "    <tr>\n",
       "      <th>1</th>\n",
       "      <td>1</td>\n",
       "      <td>1000003</td>\n",
       "      <td>20140613</td>\n",
       "      <td>100000320140613</td>\n",
       "      <td>47.0</td>\n",
       "      <td>0.0</td>\n",
       "      <td>NaN</td>\n",
       "      <td>4</td>\n",
       "      <td>1</td>\n",
       "      <td>NaN</td>\n",
       "      <td>...</td>\n",
       "      <td>NaN</td>\n",
       "      <td>NaN</td>\n",
       "      <td>NaN</td>\n",
       "      <td>NaN</td>\n",
       "      <td>NaN</td>\n",
       "      <td>NaN</td>\n",
       "      <td>NaN</td>\n",
       "      <td>15.0</td>\n",
       "      <td>16.0</td>\n",
       "      <td>NaN</td>\n",
       "    </tr>\n",
       "    <tr>\n",
       "      <th>2</th>\n",
       "      <td>2</td>\n",
       "      <td>1000003</td>\n",
       "      <td>20150917</td>\n",
       "      <td>100000320150917</td>\n",
       "      <td>48.0</td>\n",
       "      <td>0.0</td>\n",
       "      <td>1</td>\n",
       "      <td>4</td>\n",
       "      <td>1</td>\n",
       "      <td>NaN</td>\n",
       "      <td>...</td>\n",
       "      <td>NaN</td>\n",
       "      <td>NaN</td>\n",
       "      <td>NaN</td>\n",
       "      <td>NaN</td>\n",
       "      <td>NaN</td>\n",
       "      <td>NaN</td>\n",
       "      <td>NaN</td>\n",
       "      <td>16.0</td>\n",
       "      <td>16.0</td>\n",
       "      <td>NaN</td>\n",
       "    </tr>\n",
       "    <tr>\n",
       "      <th>3</th>\n",
       "      <td>3</td>\n",
       "      <td>1000003</td>\n",
       "      <td>20160617</td>\n",
       "      <td>100000320160617</td>\n",
       "      <td>49.0</td>\n",
       "      <td>0.0</td>\n",
       "      <td>NaN</td>\n",
       "      <td>4</td>\n",
       "      <td>NaN</td>\n",
       "      <td>NaN</td>\n",
       "      <td>...</td>\n",
       "      <td>NaN</td>\n",
       "      <td>NaN</td>\n",
       "      <td>NaN</td>\n",
       "      <td>NaN</td>\n",
       "      <td>NaN</td>\n",
       "      <td>NaN</td>\n",
       "      <td>NaN</td>\n",
       "      <td>16.0</td>\n",
       "      <td>18.0</td>\n",
       "      <td>NaN</td>\n",
       "    </tr>\n",
       "    <tr>\n",
       "      <th>4</th>\n",
       "      <td>4</td>\n",
       "      <td>1000003</td>\n",
       "      <td>20170608</td>\n",
       "      <td>100000320170608</td>\n",
       "      <td>50.0</td>\n",
       "      <td>0.0</td>\n",
       "      <td>NaN</td>\n",
       "      <td>4</td>\n",
       "      <td>NaN</td>\n",
       "      <td>NaN</td>\n",
       "      <td>...</td>\n",
       "      <td>NaN</td>\n",
       "      <td>NaN</td>\n",
       "      <td>NaN</td>\n",
       "      <td>NaN</td>\n",
       "      <td>NaN</td>\n",
       "      <td>NaN</td>\n",
       "      <td>NaN</td>\n",
       "      <td>16.0</td>\n",
       "      <td>18.0</td>\n",
       "      <td>NaN</td>\n",
       "    </tr>\n",
       "  </tbody>\n",
       "</table>\n",
       "<p>5 rows × 404 columns</p>\n",
       "</div>"
      ],
      "text/plain": [
       "   Unnamed: 0  FIELD_1   FIELD_2          COMPARE   AGE  SEX FIELD_3 FIELD_4  \\\n",
       "0           0  1000003  20130913  100000320130913  46.0  0.0     NaN       4   \n",
       "1           1  1000003  20140613  100000320140613  47.0  0.0     NaN       4   \n",
       "2           2  1000003  20150917  100000320150917  48.0  0.0       1       4   \n",
       "3           3  1000003  20160617  100000320160617  49.0  0.0     NaN       4   \n",
       "4           4  1000003  20170608  100000320170608  50.0  0.0     NaN       4   \n",
       "\n",
       "  FIELD_5 FIELD_8  ...  S004424 S005200 S007400 S008501  S008502  S008503  \\\n",
       "0       1     NaN  ...      NaN     NaN     NaN     NaN      NaN      NaN   \n",
       "1       1     NaN  ...      NaN     NaN     NaN     NaN      NaN      NaN   \n",
       "2       1     NaN  ...      NaN     NaN     NaN     NaN      NaN      NaN   \n",
       "3     NaN     NaN  ...      NaN     NaN     NaN     NaN      NaN      NaN   \n",
       "4     NaN     NaN  ...      NaN     NaN     NaN     NaN      NaN      NaN   \n",
       "\n",
       "   S008504  S010101  S010102  FIELD_6_7  \n",
       "0      NaN     18.0     14.0        NaN  \n",
       "1      NaN     15.0     16.0        NaN  \n",
       "2      NaN     16.0     16.0        NaN  \n",
       "3      NaN     16.0     18.0        NaN  \n",
       "4      NaN     16.0     18.0        NaN  \n",
       "\n",
       "[5 rows x 404 columns]"
      ]
     },
     "execution_count": 3,
     "metadata": {},
     "output_type": "execute_result"
    }
   ],
   "source": [
    "print(data.shape)\n",
    "data.head(5)"
   ]
  },
  {
   "cell_type": "code",
   "execution_count": 12,
   "metadata": {},
   "outputs": [
    {
     "name": "stdout",
     "output_type": "stream",
     "text": [
      "41.1761746296705\n",
      "9.953639592014229\n"
     ]
    }
   ],
   "source": [
    "print(np.mean(data.AGE))\n",
    "print(np.std(data.AGE))"
   ]
  },
  {
   "cell_type": "code",
   "execution_count": 6,
   "metadata": {},
   "outputs": [
    {
     "name": "stdout",
     "output_type": "stream",
     "text": [
      "(253395,)\n"
     ]
    }
   ],
   "source": [
    "# unique Customers\n",
    "print(np.unique(data.FIELD_1).shape)"
   ]
  },
  {
   "cell_type": "code",
   "execution_count": 8,
   "metadata": {},
   "outputs": [
    {
     "data": {
      "text/html": [
       "<div>\n",
       "<style scoped>\n",
       "    .dataframe tbody tr th:only-of-type {\n",
       "        vertical-align: middle;\n",
       "    }\n",
       "\n",
       "    .dataframe tbody tr th {\n",
       "        vertical-align: top;\n",
       "    }\n",
       "\n",
       "    .dataframe thead th {\n",
       "        text-align: right;\n",
       "    }\n",
       "</style>\n",
       "<table border=\"1\" class=\"dataframe\">\n",
       "  <thead>\n",
       "    <tr style=\"text-align: right;\">\n",
       "      <th></th>\n",
       "      <th>FIELD_1</th>\n",
       "      <th>Freq</th>\n",
       "    </tr>\n",
       "  </thead>\n",
       "  <tbody>\n",
       "    <tr>\n",
       "      <th>0</th>\n",
       "      <td>37</td>\n",
       "      <td>1</td>\n",
       "    </tr>\n",
       "    <tr>\n",
       "      <th>1</th>\n",
       "      <td>64</td>\n",
       "      <td>4</td>\n",
       "    </tr>\n",
       "    <tr>\n",
       "      <th>2</th>\n",
       "      <td>104</td>\n",
       "      <td>1</td>\n",
       "    </tr>\n",
       "    <tr>\n",
       "      <th>3</th>\n",
       "      <td>105</td>\n",
       "      <td>2</td>\n",
       "    </tr>\n",
       "    <tr>\n",
       "      <th>4</th>\n",
       "      <td>323</td>\n",
       "      <td>4</td>\n",
       "    </tr>\n",
       "  </tbody>\n",
       "</table>\n",
       "</div>"
      ],
      "text/plain": [
       "   FIELD_1  Freq\n",
       "0       37     1\n",
       "1       64     4\n",
       "2      104     1\n",
       "3      105     2\n",
       "4      323     4"
      ]
     },
     "execution_count": 8,
     "metadata": {},
     "output_type": "execute_result"
    }
   ],
   "source": [
    "# the number of times the customer show up to the hospital\n",
    "groupedCustomer=data.groupby(by=['FIELD_1']).size().reset_index(name='Freq')\n",
    "groupedCustomer.head() \n",
    "# np.unique(groupedCustomer.Freq)"
   ]
  },
  {
   "cell_type": "code",
   "execution_count": 9,
   "metadata": {},
   "outputs": [
    {
     "data": {
      "text/html": [
       "<div>\n",
       "<style scoped>\n",
       "    .dataframe tbody tr th:only-of-type {\n",
       "        vertical-align: middle;\n",
       "    }\n",
       "\n",
       "    .dataframe tbody tr th {\n",
       "        vertical-align: top;\n",
       "    }\n",
       "\n",
       "    .dataframe thead th {\n",
       "        text-align: right;\n",
       "    }\n",
       "</style>\n",
       "<table border=\"1\" class=\"dataframe\">\n",
       "  <thead>\n",
       "    <tr style=\"text-align: right;\">\n",
       "      <th></th>\n",
       "      <th>Freq</th>\n",
       "      <th>Count</th>\n",
       "    </tr>\n",
       "  </thead>\n",
       "  <tbody>\n",
       "    <tr>\n",
       "      <th>0</th>\n",
       "      <td>1</td>\n",
       "      <td>146787</td>\n",
       "    </tr>\n",
       "    <tr>\n",
       "      <th>1</th>\n",
       "      <td>2</td>\n",
       "      <td>49574</td>\n",
       "    </tr>\n",
       "    <tr>\n",
       "      <th>2</th>\n",
       "      <td>3</td>\n",
       "      <td>26970</td>\n",
       "    </tr>\n",
       "    <tr>\n",
       "      <th>3</th>\n",
       "      <td>4</td>\n",
       "      <td>14238</td>\n",
       "    </tr>\n",
       "    <tr>\n",
       "      <th>4</th>\n",
       "      <td>5</td>\n",
       "      <td>12600</td>\n",
       "    </tr>\n",
       "    <tr>\n",
       "      <th>5</th>\n",
       "      <td>6</td>\n",
       "      <td>2910</td>\n",
       "    </tr>\n",
       "    <tr>\n",
       "      <th>6</th>\n",
       "      <td>7</td>\n",
       "      <td>178</td>\n",
       "    </tr>\n",
       "    <tr>\n",
       "      <th>7</th>\n",
       "      <td>8</td>\n",
       "      <td>77</td>\n",
       "    </tr>\n",
       "    <tr>\n",
       "      <th>8</th>\n",
       "      <td>9</td>\n",
       "      <td>49</td>\n",
       "    </tr>\n",
       "    <tr>\n",
       "      <th>9</th>\n",
       "      <td>10</td>\n",
       "      <td>12</td>\n",
       "    </tr>\n",
       "  </tbody>\n",
       "</table>\n",
       "</div>"
      ],
      "text/plain": [
       "   Freq   Count\n",
       "0     1  146787\n",
       "1     2   49574\n",
       "2     3   26970\n",
       "3     4   14238\n",
       "4     5   12600\n",
       "5     6    2910\n",
       "6     7     178\n",
       "7     8      77\n",
       "8     9      49\n",
       "9    10      12"
      ]
     },
     "execution_count": 9,
     "metadata": {},
     "output_type": "execute_result"
    }
   ],
   "source": [
    "# grouped customer list \n",
    "groupedCustomerSecondLevel=groupedCustomer.groupby(by=['Freq']).size().reset_index(name='Count')\n",
    "groupedCustomerSecondLevel.head(10) "
   ]
  },
  {
   "cell_type": "code",
   "execution_count": 10,
   "metadata": {},
   "outputs": [
    {
     "data": {
      "text/plain": [
       "253395"
      ]
     },
     "execution_count": 10,
     "metadata": {},
     "output_type": "execute_result"
    }
   ],
   "source": [
    "np.sum(groupedCustomerSecondLevel.Count)"
   ]
  },
  {
   "cell_type": "code",
   "execution_count": 8,
   "metadata": {},
   "outputs": [
    {
     "name": "stdout",
     "output_type": "stream",
     "text": [
      "(121956, 2)\n"
     ]
    },
    {
     "data": {
      "text/html": [
       "<div>\n",
       "<style scoped>\n",
       "    .dataframe tbody tr th:only-of-type {\n",
       "        vertical-align: middle;\n",
       "    }\n",
       "\n",
       "    .dataframe tbody tr th {\n",
       "        vertical-align: top;\n",
       "    }\n",
       "\n",
       "    .dataframe thead th {\n",
       "        text-align: right;\n",
       "    }\n",
       "</style>\n",
       "<table border=\"1\" class=\"dataframe\">\n",
       "  <thead>\n",
       "    <tr style=\"text-align: right;\">\n",
       "      <th></th>\n",
       "      <th>CustomerID</th>\n",
       "      <th>Freq</th>\n",
       "    </tr>\n",
       "  </thead>\n",
       "  <tbody>\n",
       "    <tr>\n",
       "      <th>1</th>\n",
       "      <td>64</td>\n",
       "      <td>4</td>\n",
       "    </tr>\n",
       "    <tr>\n",
       "      <th>3</th>\n",
       "      <td>105</td>\n",
       "      <td>2</td>\n",
       "    </tr>\n",
       "    <tr>\n",
       "      <th>4</th>\n",
       "      <td>323</td>\n",
       "      <td>4</td>\n",
       "    </tr>\n",
       "    <tr>\n",
       "      <th>9</th>\n",
       "      <td>761</td>\n",
       "      <td>2</td>\n",
       "    </tr>\n",
       "    <tr>\n",
       "      <th>10</th>\n",
       "      <td>782</td>\n",
       "      <td>2</td>\n",
       "    </tr>\n",
       "  </tbody>\n",
       "</table>\n",
       "</div>"
      ],
      "text/plain": [
       "    CustomerID  Freq\n",
       "1           64     4\n",
       "3          105     2\n",
       "4          323     4\n",
       "9          761     2\n",
       "10         782     2"
      ]
     },
     "execution_count": 8,
     "metadata": {},
     "output_type": "execute_result"
    }
   ],
   "source": [
    "# customers who show up more than or equal to two times \n",
    "\n",
    "peoplewhoshowupG1=groupedCustomer[groupedCustomer.Freq>=2]\n",
    "print(peoplewhoshowupG1.shape)\n",
    "peoplewhoshowupG1.head()"
   ]
  },
  {
   "cell_type": "code",
   "execution_count": 9,
   "metadata": {},
   "outputs": [
    {
     "name": "stdout",
     "output_type": "stream",
     "text": [
      "(121956, 1)\n"
     ]
    },
    {
     "data": {
      "text/html": [
       "<div>\n",
       "<style scoped>\n",
       "    .dataframe tbody tr th:only-of-type {\n",
       "        vertical-align: middle;\n",
       "    }\n",
       "\n",
       "    .dataframe tbody tr th {\n",
       "        vertical-align: top;\n",
       "    }\n",
       "\n",
       "    .dataframe thead th {\n",
       "        text-align: right;\n",
       "    }\n",
       "</style>\n",
       "<table border=\"1\" class=\"dataframe\">\n",
       "  <thead>\n",
       "    <tr style=\"text-align: right;\">\n",
       "      <th></th>\n",
       "      <th>CustomerID</th>\n",
       "    </tr>\n",
       "  </thead>\n",
       "  <tbody>\n",
       "    <tr>\n",
       "      <th>0</th>\n",
       "      <td>64</td>\n",
       "    </tr>\n",
       "    <tr>\n",
       "      <th>1</th>\n",
       "      <td>105</td>\n",
       "    </tr>\n",
       "    <tr>\n",
       "      <th>2</th>\n",
       "      <td>323</td>\n",
       "    </tr>\n",
       "    <tr>\n",
       "      <th>3</th>\n",
       "      <td>761</td>\n",
       "    </tr>\n",
       "    <tr>\n",
       "      <th>4</th>\n",
       "      <td>782</td>\n",
       "    </tr>\n",
       "  </tbody>\n",
       "</table>\n",
       "</div>"
      ],
      "text/plain": [
       "   CustomerID\n",
       "0          64\n",
       "1         105\n",
       "2         323\n",
       "3         761\n",
       "4         782"
      ]
     },
     "execution_count": 9,
     "metadata": {},
     "output_type": "execute_result"
    }
   ],
   "source": [
    "uniqueID=np.unique(peoplewhoshowupG1.CustomerID)\n",
    "uniqueID= pd.DataFrame(uniqueID,columns=['CustomerID'])\n",
    "print(uniqueID.shape)\n",
    "uniqueID.head()"
   ]
  },
  {
   "cell_type": "code",
   "execution_count": null,
   "metadata": {},
   "outputs": [],
   "source": []
  },
  {
   "cell_type": "code",
   "execution_count": 27,
   "metadata": {},
   "outputs": [
    {
     "name": "stdout",
     "output_type": "stream",
     "text": [
      "(372494, 5)\n"
     ]
    },
    {
     "data": {
      "text/html": [
       "<div>\n",
       "<style scoped>\n",
       "    .dataframe tbody tr th:only-of-type {\n",
       "        vertical-align: middle;\n",
       "    }\n",
       "\n",
       "    .dataframe tbody tr th {\n",
       "        vertical-align: top;\n",
       "    }\n",
       "\n",
       "    .dataframe thead th {\n",
       "        text-align: right;\n",
       "    }\n",
       "</style>\n",
       "<table border=\"1\" class=\"dataframe\">\n",
       "  <thead>\n",
       "    <tr style=\"text-align: right;\">\n",
       "      <th></th>\n",
       "      <th>CustomerID</th>\n",
       "      <th>Year</th>\n",
       "      <th>Count</th>\n",
       "    </tr>\n",
       "  </thead>\n",
       "  <tbody>\n",
       "    <tr>\n",
       "      <th>0</th>\n",
       "      <td>64</td>\n",
       "      <td>2013</td>\n",
       "      <td>1</td>\n",
       "    </tr>\n",
       "    <tr>\n",
       "      <th>1</th>\n",
       "      <td>64</td>\n",
       "      <td>2014</td>\n",
       "      <td>1</td>\n",
       "    </tr>\n",
       "    <tr>\n",
       "      <th>2</th>\n",
       "      <td>64</td>\n",
       "      <td>2015</td>\n",
       "      <td>1</td>\n",
       "    </tr>\n",
       "    <tr>\n",
       "      <th>3</th>\n",
       "      <td>64</td>\n",
       "      <td>2016</td>\n",
       "      <td>1</td>\n",
       "    </tr>\n",
       "    <tr>\n",
       "      <th>4</th>\n",
       "      <td>105</td>\n",
       "      <td>2013</td>\n",
       "      <td>1</td>\n",
       "    </tr>\n",
       "  </tbody>\n",
       "</table>\n",
       "</div>"
      ],
      "text/plain": [
       "   CustomerID  Year  Count\n",
       "0          64  2013      1\n",
       "1          64  2014      1\n",
       "2          64  2015      1\n",
       "3          64  2016      1\n",
       "4         105  2013      1"
      ]
     },
     "execution_count": 27,
     "metadata": {},
     "output_type": "execute_result"
    }
   ],
   "source": [
    "# Add year column\n",
    "customer2=customer.copy()\n",
    "customer2[\"Year\"] = ((customer['TestDate']/10000)).astype(int)\n",
    "customer2.head()\n",
    "\n",
    "customer2=pd.merge( uniqueID, customer2, how='inner', left_on='CustomerID', right_on='CustomerID' )\n",
    "print(customer2.shape)\n",
    "\n",
    "customer2=customer2.groupby([\"CustomerID\",'Year']).size().reset_index(name='Count')\n",
    "customer2=customer2.sort_values(by=[\"CustomerID\"])\n",
    "\n",
    "customer2GroupedByYear=customer2.copy()\n",
    "customer2GroupedByYear=customer2GroupedByYear.sort_values(by=[\"CustomerID\",\"Year\"])\n",
    "customer2GroupedByYear.head()"
   ]
  },
  {
   "cell_type": "code",
   "execution_count": 29,
   "metadata": {},
   "outputs": [],
   "source": [
    "pivotedData=[]\n",
    "\n",
    "previousID=0\n",
    "previousyear=0\n",
    "years=''\n",
    "for i in range(customer2GroupedByYear.shape[0]):\n",
    "    \n",
    "    if(previousID==np.asarray(customer2GroupedByYear)[i,0]):\n",
    "        previousID=np.asarray(customer2GroupedByYear)[i,0]\n",
    "        previousyear=np.asarray(customer2GroupedByYear)[i,1]\n",
    "        years+=str(previousyear)+','\n",
    "    else:\n",
    "        pivotedData.append([previousID,years])\n",
    "        previousID=np.asarray(customer2GroupedByYear)[i,0]\n",
    "        years=str(np.asarray(customer2GroupedByYear)[i,1])+','\n",
    "pivotedData.append([previousID,years])  \n",
    "del pivotedData[0]"
   ]
  },
  {
   "cell_type": "code",
   "execution_count": 31,
   "metadata": {},
   "outputs": [
    {
     "data": {
      "text/html": [
       "<div>\n",
       "<style scoped>\n",
       "    .dataframe tbody tr th:only-of-type {\n",
       "        vertical-align: middle;\n",
       "    }\n",
       "\n",
       "    .dataframe tbody tr th {\n",
       "        vertical-align: top;\n",
       "    }\n",
       "\n",
       "    .dataframe thead th {\n",
       "        text-align: right;\n",
       "    }\n",
       "</style>\n",
       "<table border=\"1\" class=\"dataframe\">\n",
       "  <thead>\n",
       "    <tr style=\"text-align: right;\">\n",
       "      <th></th>\n",
       "      <th>CustomerID</th>\n",
       "      <th>Years</th>\n",
       "    </tr>\n",
       "  </thead>\n",
       "  <tbody>\n",
       "    <tr>\n",
       "      <th>0</th>\n",
       "      <td>64</td>\n",
       "      <td>2013,2014,2015,2016,</td>\n",
       "    </tr>\n",
       "    <tr>\n",
       "      <th>1</th>\n",
       "      <td>105</td>\n",
       "      <td>2013,2015,</td>\n",
       "    </tr>\n",
       "    <tr>\n",
       "      <th>2</th>\n",
       "      <td>323</td>\n",
       "      <td>2013,2014,2015,2016,</td>\n",
       "    </tr>\n",
       "    <tr>\n",
       "      <th>3</th>\n",
       "      <td>761</td>\n",
       "      <td>2013,2014,</td>\n",
       "    </tr>\n",
       "    <tr>\n",
       "      <th>4</th>\n",
       "      <td>782</td>\n",
       "      <td>2013,2014,</td>\n",
       "    </tr>\n",
       "  </tbody>\n",
       "</table>\n",
       "</div>"
      ],
      "text/plain": [
       "   CustomerID                 Years\n",
       "0          64  2013,2014,2015,2016,\n",
       "1         105            2013,2015,\n",
       "2         323  2013,2014,2015,2016,\n",
       "3         761            2013,2014,\n",
       "4         782            2013,2014,"
      ]
     },
     "execution_count": 31,
     "metadata": {},
     "output_type": "execute_result"
    }
   ],
   "source": [
    "len(pivotedData)\n",
    "pivotedData=pd.DataFrame(pivotedData,columns=['CustomerID', 'Years'])\n",
    "pivotedData.head()"
   ]
  },
  {
   "cell_type": "code",
   "execution_count": 32,
   "metadata": {},
   "outputs": [],
   "source": [
    "# get the count of the continuous years for each customer\n",
    "\n",
    "customerContiniousApp=[]\n",
    "\n",
    "for i in range(pivotedData.shape[0]):\n",
    "    \n",
    "    temp=  (pivotedData['Years'][i])[:-1]\n",
    "    temp=(temp.split(','))\n",
    "    temp=[int(v) for v in temp] \n",
    "    \n",
    "#     print(temp)\n",
    "#     print(pivotedData['CustomerID'][i],temp)\n",
    "    \n",
    "    yearcount=0\n",
    "    \n",
    "    minyear=temp[0]\n",
    "    maxyear=temp[0]\n",
    "    \n",
    "    tempcount=[]\n",
    "    \n",
    "     \n",
    "    for j in range(len(temp)):\n",
    "        \n",
    "        if(temp[j]-maxyear>1):\n",
    "            minyear=temp[j]\n",
    "            maxyear=temp[j]\n",
    "            tempcount.append(yearcount)\n",
    "            yearcount=0\n",
    "            \n",
    "        elif(temp[j]-maxyear==1):\n",
    "            yearcount+=1            \n",
    "            maxyear=temp[j]\n",
    "            \n",
    "    tempcount.append(yearcount)\n",
    "    \n",
    "    maxcount=max(tempcount)\n",
    "    if(maxcount>0):\n",
    "        maxcount+=1\n",
    "            \n",
    "#     print(maxcount)\n",
    "    customerContiniousApp.append([pivotedData['CustomerID'][i],maxcount])\n",
    "\n",
    "# customerContiniousApp\n",
    "            \n",
    "        \n",
    " "
   ]
  },
  {
   "cell_type": "code",
   "execution_count": 34,
   "metadata": {},
   "outputs": [
    {
     "data": {
      "text/html": [
       "<div>\n",
       "<style scoped>\n",
       "    .dataframe tbody tr th:only-of-type {\n",
       "        vertical-align: middle;\n",
       "    }\n",
       "\n",
       "    .dataframe tbody tr th {\n",
       "        vertical-align: top;\n",
       "    }\n",
       "\n",
       "    .dataframe thead th {\n",
       "        text-align: right;\n",
       "    }\n",
       "</style>\n",
       "<table border=\"1\" class=\"dataframe\">\n",
       "  <thead>\n",
       "    <tr style=\"text-align: right;\">\n",
       "      <th></th>\n",
       "      <th>CustomerID</th>\n",
       "      <th>AppYearCount</th>\n",
       "    </tr>\n",
       "  </thead>\n",
       "  <tbody>\n",
       "    <tr>\n",
       "      <th>0</th>\n",
       "      <td>64</td>\n",
       "      <td>4</td>\n",
       "    </tr>\n",
       "    <tr>\n",
       "      <th>1</th>\n",
       "      <td>105</td>\n",
       "      <td>0</td>\n",
       "    </tr>\n",
       "    <tr>\n",
       "      <th>2</th>\n",
       "      <td>323</td>\n",
       "      <td>4</td>\n",
       "    </tr>\n",
       "    <tr>\n",
       "      <th>3</th>\n",
       "      <td>761</td>\n",
       "      <td>2</td>\n",
       "    </tr>\n",
       "    <tr>\n",
       "      <th>4</th>\n",
       "      <td>782</td>\n",
       "      <td>2</td>\n",
       "    </tr>\n",
       "  </tbody>\n",
       "</table>\n",
       "</div>"
      ],
      "text/plain": [
       "   CustomerID  AppYearCount\n",
       "0          64             4\n",
       "1         105             0\n",
       "2         323             4\n",
       "3         761             2\n",
       "4         782             2"
      ]
     },
     "execution_count": 34,
     "metadata": {},
     "output_type": "execute_result"
    }
   ],
   "source": [
    "customerContiniousApp=pd.DataFrame(customerContiniousApp,columns=['CustomerID', 'AppYearCount'])\n",
    "customerContiniousApp.head(5)"
   ]
  },
  {
   "cell_type": "code",
   "execution_count": 41,
   "metadata": {},
   "outputs": [
    {
     "data": {
      "text/html": [
       "<div>\n",
       "<style scoped>\n",
       "    .dataframe tbody tr th:only-of-type {\n",
       "        vertical-align: middle;\n",
       "    }\n",
       "\n",
       "    .dataframe tbody tr th {\n",
       "        vertical-align: top;\n",
       "    }\n",
       "\n",
       "    .dataframe thead th {\n",
       "        text-align: right;\n",
       "    }\n",
       "</style>\n",
       "<table border=\"1\" class=\"dataframe\">\n",
       "  <thead>\n",
       "    <tr style=\"text-align: right;\">\n",
       "      <th></th>\n",
       "      <th>AppYearCount</th>\n",
       "      <th>Count</th>\n",
       "    </tr>\n",
       "  </thead>\n",
       "  <tbody>\n",
       "    <tr>\n",
       "      <th>0</th>\n",
       "      <td>0</td>\n",
       "      <td>32419</td>\n",
       "    </tr>\n",
       "    <tr>\n",
       "      <th>1</th>\n",
       "      <td>2</td>\n",
       "      <td>38485</td>\n",
       "    </tr>\n",
       "    <tr>\n",
       "      <th>2</th>\n",
       "      <td>3</td>\n",
       "      <td>21959</td>\n",
       "    </tr>\n",
       "    <tr>\n",
       "      <th>3</th>\n",
       "      <td>4</td>\n",
       "      <td>11201</td>\n",
       "    </tr>\n",
       "    <tr>\n",
       "      <th>4</th>\n",
       "      <td>5</td>\n",
       "      <td>14100</td>\n",
       "    </tr>\n",
       "    <tr>\n",
       "      <th>5</th>\n",
       "      <td>6</td>\n",
       "      <td>3792</td>\n",
       "    </tr>\n",
       "  </tbody>\n",
       "</table>\n",
       "</div>"
      ],
      "text/plain": [
       "   AppYearCount  Count\n",
       "0             0  32419\n",
       "1             2  38485\n",
       "2             3  21959\n",
       "3             4  11201\n",
       "4             5  14100\n",
       "5             6   3792"
      ]
     },
     "execution_count": 41,
     "metadata": {},
     "output_type": "execute_result"
    }
   ],
   "source": [
    "customerContiniousAppGrouped=customerContiniousApp.groupby('AppYearCount').size().reset_index(name='Count')\n",
    "customerContiniousAppGrouped.head(10)"
   ]
  },
  {
   "cell_type": "code",
   "execution_count": 45,
   "metadata": {},
   "outputs": [
    {
     "data": {
      "text/plain": [
       "89537"
      ]
     },
     "execution_count": 45,
     "metadata": {},
     "output_type": "execute_result"
    }
   ],
   "source": [
    "# Total number of customers who show up continiously for two or more years \n",
    "sum(customerContiniousAppGrouped[customerContiniousAppGrouped.AppYearCount>0].Count)"
   ]
  },
  {
   "cell_type": "code",
   "execution_count": 53,
   "metadata": {},
   "outputs": [
    {
     "name": "stdout",
     "output_type": "stream",
     "text": [
      "(89537, 1)\n"
     ]
    },
    {
     "data": {
      "text/html": [
       "<div>\n",
       "<style scoped>\n",
       "    .dataframe tbody tr th:only-of-type {\n",
       "        vertical-align: middle;\n",
       "    }\n",
       "\n",
       "    .dataframe tbody tr th {\n",
       "        vertical-align: top;\n",
       "    }\n",
       "\n",
       "    .dataframe thead th {\n",
       "        text-align: right;\n",
       "    }\n",
       "</style>\n",
       "<table border=\"1\" class=\"dataframe\">\n",
       "  <thead>\n",
       "    <tr style=\"text-align: right;\">\n",
       "      <th></th>\n",
       "      <th>CustomerID</th>\n",
       "    </tr>\n",
       "  </thead>\n",
       "  <tbody>\n",
       "    <tr>\n",
       "      <th>0</th>\n",
       "      <td>64</td>\n",
       "    </tr>\n",
       "    <tr>\n",
       "      <th>1</th>\n",
       "      <td>323</td>\n",
       "    </tr>\n",
       "    <tr>\n",
       "      <th>2</th>\n",
       "      <td>761</td>\n",
       "    </tr>\n",
       "    <tr>\n",
       "      <th>3</th>\n",
       "      <td>782</td>\n",
       "    </tr>\n",
       "    <tr>\n",
       "      <th>4</th>\n",
       "      <td>785</td>\n",
       "    </tr>\n",
       "  </tbody>\n",
       "</table>\n",
       "</div>"
      ],
      "text/plain": [
       "   CustomerID\n",
       "0          64\n",
       "1         323\n",
       "2         761\n",
       "3         782\n",
       "4         785"
      ]
     },
     "execution_count": 53,
     "metadata": {},
     "output_type": "execute_result"
    }
   ],
   "source": [
    "# update unique ID to customers who show up 2 or more times in a row \n",
    "uniqueID=np.unique(customerContiniousApp[customerContiniousApp.AppYearCount>0].CustomerID)\n",
    "uniqueID= pd.DataFrame(uniqueID,columns=['CustomerID'])\n",
    "print(uniqueID.shape)\n",
    "uniqueID.head()"
   ]
  },
  {
   "cell_type": "code",
   "execution_count": null,
   "metadata": {},
   "outputs": [],
   "source": []
  },
  {
   "cell_type": "code",
   "execution_count": null,
   "metadata": {},
   "outputs": [],
   "source": []
  },
  {
   "cell_type": "code",
   "execution_count": null,
   "metadata": {},
   "outputs": [],
   "source": []
  },
  {
   "cell_type": "code",
   "execution_count": null,
   "metadata": {},
   "outputs": [],
   "source": []
  },
  {
   "cell_type": "markdown",
   "metadata": {},
   "source": [
    "Filtering out the diabetic tests only\n",
    "======"
   ]
  },
  {
   "cell_type": "code",
   "execution_count": 54,
   "metadata": {},
   "outputs": [],
   "source": [
    "N13DiabeticTest=N13.query(' TestCode== \"L1008\" ') \n",
    "N14DiabeticTest=N14.query(' TestCode== \"L1008\" ') \n",
    "N15DiabeticTest=N15.query(' TestCode== \"L1008\" ') \n",
    "N16DiabeticTest=N16.query(' TestCode== \"L1008\" ') \n",
    "N17DiabeticTest=N17.query(' TestCode== \"L1008\" ') \n",
    "N18DiabeticTest=N18.query(' TestCode== \"L1008\" ')  \n",
    "\n",
    "N13UniqueCustomerData= pd.merge(N13DiabeticTest, uniqueID, how='inner', left_on = 'CustomerID', right_on = 'CustomerID')\n",
    "N14UniqueCustomerData= pd.merge(N14DiabeticTest, uniqueID, how='inner', left_on = 'CustomerID', right_on = 'CustomerID')\n",
    "N15UniqueCustomerData= pd.merge(N15DiabeticTest, uniqueID, how='inner', left_on = 'CustomerID', right_on = 'CustomerID')\n",
    "N16UniqueCustomerData= pd.merge(N16DiabeticTest, uniqueID, how='inner', left_on = 'CustomerID', right_on = 'CustomerID')\n",
    "N17UniqueCustomerData= pd.merge(N17DiabeticTest, uniqueID, how='inner', left_on = 'CustomerID', right_on = 'CustomerID')\n",
    "N18UniqueCustomerData= pd.merge(N18DiabeticTest, uniqueID, how='inner', left_on = 'CustomerID', right_on = 'CustomerID')\n"
   ]
  },
  {
   "cell_type": "code",
   "execution_count": 55,
   "metadata": {},
   "outputs": [
    {
     "data": {
      "text/html": [
       "<div>\n",
       "<style scoped>\n",
       "    .dataframe tbody tr th:only-of-type {\n",
       "        vertical-align: middle;\n",
       "    }\n",
       "\n",
       "    .dataframe tbody tr th {\n",
       "        vertical-align: top;\n",
       "    }\n",
       "\n",
       "    .dataframe thead th {\n",
       "        text-align: right;\n",
       "    }\n",
       "</style>\n",
       "<table border=\"1\" class=\"dataframe\">\n",
       "  <thead>\n",
       "    <tr style=\"text-align: right;\">\n",
       "      <th></th>\n",
       "      <th>CustomerID</th>\n",
       "      <th>TestDate</th>\n",
       "      <th>TestCode</th>\n",
       "      <th>TestSerial</th>\n",
       "      <th>NumericResult</th>\n",
       "    </tr>\n",
       "  </thead>\n",
       "  <tbody>\n",
       "    <tr>\n",
       "      <th>0</th>\n",
       "      <td>1000003</td>\n",
       "      <td>20130913</td>\n",
       "      <td>L1008</td>\n",
       "      <td>0</td>\n",
       "      <td>111.0</td>\n",
       "    </tr>\n",
       "    <tr>\n",
       "      <th>1</th>\n",
       "      <td>1000056</td>\n",
       "      <td>20131023</td>\n",
       "      <td>L1008</td>\n",
       "      <td>0</td>\n",
       "      <td>88.0</td>\n",
       "    </tr>\n",
       "    <tr>\n",
       "      <th>2</th>\n",
       "      <td>1000068</td>\n",
       "      <td>20130827</td>\n",
       "      <td>L1008</td>\n",
       "      <td>0</td>\n",
       "      <td>113.0</td>\n",
       "    </tr>\n",
       "    <tr>\n",
       "      <th>3</th>\n",
       "      <td>1000078</td>\n",
       "      <td>20130629</td>\n",
       "      <td>L1008</td>\n",
       "      <td>0</td>\n",
       "      <td>89.0</td>\n",
       "    </tr>\n",
       "    <tr>\n",
       "      <th>4</th>\n",
       "      <td>1000082</td>\n",
       "      <td>20130504</td>\n",
       "      <td>L1008</td>\n",
       "      <td>0</td>\n",
       "      <td>82.0</td>\n",
       "    </tr>\n",
       "  </tbody>\n",
       "</table>\n",
       "</div>"
      ],
      "text/plain": [
       "   CustomerID  TestDate TestCode  TestSerial  NumericResult\n",
       "0     1000003  20130913    L1008           0          111.0\n",
       "1     1000056  20131023    L1008           0           88.0\n",
       "2     1000068  20130827    L1008           0          113.0\n",
       "3     1000078  20130629    L1008           0           89.0\n",
       "4     1000082  20130504    L1008           0           82.0"
      ]
     },
     "execution_count": 55,
     "metadata": {},
     "output_type": "execute_result"
    }
   ],
   "source": [
    "DiabeticTest=pd.concat([N13UniqueCustomerData,\n",
    "N14UniqueCustomerData,\n",
    "N15UniqueCustomerData,\n",
    "N16UniqueCustomerData,\n",
    "N17UniqueCustomerData,\n",
    "N18UniqueCustomerData])\n",
    "DiabeticTest.head()"
   ]
  },
  {
   "cell_type": "code",
   "execution_count": 58,
   "metadata": {},
   "outputs": [
    {
     "name": "stdout",
     "output_type": "stream",
     "text": [
      "(89529,)\n",
      "(300729, 5)\n"
     ]
    }
   ],
   "source": [
    "print(np.unique(DiabeticTest.CustomerID).shape)\n",
    "print(DiabeticTest.shape)"
   ]
  },
  {
   "cell_type": "code",
   "execution_count": 59,
   "metadata": {},
   "outputs": [
    {
     "data": {
      "text/html": [
       "<div>\n",
       "<style scoped>\n",
       "    .dataframe tbody tr th:only-of-type {\n",
       "        vertical-align: middle;\n",
       "    }\n",
       "\n",
       "    .dataframe tbody tr th {\n",
       "        vertical-align: top;\n",
       "    }\n",
       "\n",
       "    .dataframe thead th {\n",
       "        text-align: right;\n",
       "    }\n",
       "</style>\n",
       "<table border=\"1\" class=\"dataframe\">\n",
       "  <thead>\n",
       "    <tr style=\"text-align: right;\">\n",
       "      <th></th>\n",
       "      <th>CustomerID</th>\n",
       "      <th>TestDate</th>\n",
       "      <th>TestCode</th>\n",
       "      <th>TestSerial</th>\n",
       "      <th>NumericResult</th>\n",
       "    </tr>\n",
       "  </thead>\n",
       "  <tbody>\n",
       "    <tr>\n",
       "      <th>0</th>\n",
       "      <td>1000003</td>\n",
       "      <td>20130913</td>\n",
       "      <td>L1008</td>\n",
       "      <td>0</td>\n",
       "      <td>111.0</td>\n",
       "    </tr>\n",
       "    <tr>\n",
       "      <th>1</th>\n",
       "      <td>1000056</td>\n",
       "      <td>20131023</td>\n",
       "      <td>L1008</td>\n",
       "      <td>0</td>\n",
       "      <td>88.0</td>\n",
       "    </tr>\n",
       "    <tr>\n",
       "      <th>2</th>\n",
       "      <td>1000068</td>\n",
       "      <td>20130827</td>\n",
       "      <td>L1008</td>\n",
       "      <td>0</td>\n",
       "      <td>113.0</td>\n",
       "    </tr>\n",
       "    <tr>\n",
       "      <th>3</th>\n",
       "      <td>1000078</td>\n",
       "      <td>20130629</td>\n",
       "      <td>L1008</td>\n",
       "      <td>0</td>\n",
       "      <td>89.0</td>\n",
       "    </tr>\n",
       "    <tr>\n",
       "      <th>4</th>\n",
       "      <td>1000082</td>\n",
       "      <td>20130504</td>\n",
       "      <td>L1008</td>\n",
       "      <td>0</td>\n",
       "      <td>82.0</td>\n",
       "    </tr>\n",
       "  </tbody>\n",
       "</table>\n",
       "</div>"
      ],
      "text/plain": [
       "   CustomerID  TestDate TestCode  TestSerial  NumericResult\n",
       "0     1000003  20130913    L1008           0          111.0\n",
       "1     1000056  20131023    L1008           0           88.0\n",
       "2     1000068  20130827    L1008           0          113.0\n",
       "3     1000078  20130629    L1008           0           89.0\n",
       "4     1000082  20130504    L1008           0           82.0"
      ]
     },
     "execution_count": 59,
     "metadata": {},
     "output_type": "execute_result"
    }
   ],
   "source": [
    "DiabeticTest.head()"
   ]
  },
  {
   "cell_type": "code",
   "execution_count": 76,
   "metadata": {},
   "outputs": [
    {
     "name": "stdout",
     "output_type": "stream",
     "text": [
      "(300729, 3)\n"
     ]
    },
    {
     "data": {
      "text/html": [
       "<div>\n",
       "<style scoped>\n",
       "    .dataframe tbody tr th:only-of-type {\n",
       "        vertical-align: middle;\n",
       "    }\n",
       "\n",
       "    .dataframe tbody tr th {\n",
       "        vertical-align: top;\n",
       "    }\n",
       "\n",
       "    .dataframe thead th {\n",
       "        text-align: right;\n",
       "    }\n",
       "</style>\n",
       "<table border=\"1\" class=\"dataframe\">\n",
       "  <thead>\n",
       "    <tr style=\"text-align: right;\">\n",
       "      <th></th>\n",
       "      <th>CustomerID</th>\n",
       "      <th>TestDate</th>\n",
       "      <th>Year</th>\n",
       "    </tr>\n",
       "  </thead>\n",
       "  <tbody>\n",
       "    <tr>\n",
       "      <th>0</th>\n",
       "      <td>1000003</td>\n",
       "      <td>20130913</td>\n",
       "      <td>2013</td>\n",
       "    </tr>\n",
       "    <tr>\n",
       "      <th>1</th>\n",
       "      <td>1000056</td>\n",
       "      <td>20131023</td>\n",
       "      <td>2014</td>\n",
       "    </tr>\n",
       "    <tr>\n",
       "      <th>2</th>\n",
       "      <td>1000068</td>\n",
       "      <td>20130827</td>\n",
       "      <td>2015</td>\n",
       "    </tr>\n",
       "    <tr>\n",
       "      <th>3</th>\n",
       "      <td>1000078</td>\n",
       "      <td>20130629</td>\n",
       "      <td>2016</td>\n",
       "    </tr>\n",
       "    <tr>\n",
       "      <th>4</th>\n",
       "      <td>1000082</td>\n",
       "      <td>20130504</td>\n",
       "      <td>2017</td>\n",
       "    </tr>\n",
       "  </tbody>\n",
       "</table>\n",
       "</div>"
      ],
      "text/plain": [
       "   CustomerID  TestDate  Year\n",
       "0     1000003  20130913  2013\n",
       "1     1000056  20131023  2014\n",
       "2     1000068  20130827  2015\n",
       "3     1000078  20130629  2016\n",
       "4     1000082  20130504  2017"
      ]
     },
     "execution_count": 76,
     "metadata": {},
     "output_type": "execute_result"
    }
   ],
   "source": [
    "DiabeticTestAndDate =DiabeticTest[['CustomerID','TestDate']]\n",
    "DiabeticTestAndDate[\"Year\"] = ((customer['TestDate']/10000)).astype(int)\n",
    "print(DiabeticTestAndDate.shape)\n",
    "DiabeticTestAndDate.head()"
   ]
  },
  {
   "cell_type": "code",
   "execution_count": 79,
   "metadata": {},
   "outputs": [
    {
     "name": "stdout",
     "output_type": "stream",
     "text": [
      "(89529, 2)\n",
      "(89479, 2)\n"
     ]
    }
   ],
   "source": [
    "DiabeticTestAndDateGrouped=DiabeticTestAndDate.groupby(by='CustomerID').size().reset_index(name='Count')\n",
    "print(DiabeticTestAndDateGrouped.shape)\n",
    "DiabeticTestAndDateGrouped_cG2=DiabeticTestAndDateGrouped[DiabeticTestAndDateGrouped.Count >1]\n",
    "print(DiabeticTestAndDateGrouped_cG2.shape)\n",
    "# DiabeticTestAndDateGrouped.head()"
   ]
  },
  {
   "cell_type": "code",
   "execution_count": 87,
   "metadata": {},
   "outputs": [
    {
     "name": "stdout",
     "output_type": "stream",
     "text": [
      "(89479,)\n",
      "300679\n"
     ]
    },
    {
     "data": {
      "text/html": [
       "<div>\n",
       "<style scoped>\n",
       "    .dataframe tbody tr th:only-of-type {\n",
       "        vertical-align: middle;\n",
       "    }\n",
       "\n",
       "    .dataframe tbody tr th {\n",
       "        vertical-align: top;\n",
       "    }\n",
       "\n",
       "    .dataframe thead th {\n",
       "        text-align: right;\n",
       "    }\n",
       "</style>\n",
       "<table border=\"1\" class=\"dataframe\">\n",
       "  <thead>\n",
       "    <tr style=\"text-align: right;\">\n",
       "      <th></th>\n",
       "      <th>CustomerID</th>\n",
       "      <th>Count</th>\n",
       "    </tr>\n",
       "  </thead>\n",
       "  <tbody>\n",
       "    <tr>\n",
       "      <th>0</th>\n",
       "      <td>64</td>\n",
       "      <td>4</td>\n",
       "    </tr>\n",
       "    <tr>\n",
       "      <th>1</th>\n",
       "      <td>323</td>\n",
       "      <td>4</td>\n",
       "    </tr>\n",
       "    <tr>\n",
       "      <th>2</th>\n",
       "      <td>761</td>\n",
       "      <td>2</td>\n",
       "    </tr>\n",
       "    <tr>\n",
       "      <th>3</th>\n",
       "      <td>782</td>\n",
       "      <td>2</td>\n",
       "    </tr>\n",
       "    <tr>\n",
       "      <th>4</th>\n",
       "      <td>785</td>\n",
       "      <td>2</td>\n",
       "    </tr>\n",
       "  </tbody>\n",
       "</table>\n",
       "</div>"
      ],
      "text/plain": [
       "   CustomerID  Count\n",
       "0          64      4\n",
       "1         323      4\n",
       "2         761      2\n",
       "3         782      2\n",
       "4         785      2"
      ]
     },
     "execution_count": 87,
     "metadata": {},
     "output_type": "execute_result"
    }
   ],
   "source": [
    "print(np.unique(DiabeticTestAndDateGrouped_cG2.CustomerID).shape)\n",
    "print(sum(DiabeticTestAndDateGrouped_cG2.Count))\n",
    "DiabeticTestAndDateGrouped_cG2.head()\n"
   ]
  },
  {
   "cell_type": "code",
   "execution_count": 99,
   "metadata": {},
   "outputs": [
    {
     "name": "stdout",
     "output_type": "stream",
     "text": [
      "(89479, 1)\n"
     ]
    },
    {
     "data": {
      "text/html": [
       "<div>\n",
       "<style scoped>\n",
       "    .dataframe tbody tr th:only-of-type {\n",
       "        vertical-align: middle;\n",
       "    }\n",
       "\n",
       "    .dataframe tbody tr th {\n",
       "        vertical-align: top;\n",
       "    }\n",
       "\n",
       "    .dataframe thead th {\n",
       "        text-align: right;\n",
       "    }\n",
       "</style>\n",
       "<table border=\"1\" class=\"dataframe\">\n",
       "  <thead>\n",
       "    <tr style=\"text-align: right;\">\n",
       "      <th></th>\n",
       "      <th>CustomerID</th>\n",
       "    </tr>\n",
       "  </thead>\n",
       "  <tbody>\n",
       "    <tr>\n",
       "      <th>0</th>\n",
       "      <td>64</td>\n",
       "    </tr>\n",
       "    <tr>\n",
       "      <th>1</th>\n",
       "      <td>323</td>\n",
       "    </tr>\n",
       "    <tr>\n",
       "      <th>2</th>\n",
       "      <td>761</td>\n",
       "    </tr>\n",
       "    <tr>\n",
       "      <th>3</th>\n",
       "      <td>782</td>\n",
       "    </tr>\n",
       "    <tr>\n",
       "      <th>4</th>\n",
       "      <td>785</td>\n",
       "    </tr>\n",
       "  </tbody>\n",
       "</table>\n",
       "</div>"
      ],
      "text/plain": [
       "   CustomerID\n",
       "0          64\n",
       "1         323\n",
       "2         761\n",
       "3         782\n",
       "4         785"
      ]
     },
     "execution_count": 99,
     "metadata": {},
     "output_type": "execute_result"
    }
   ],
   "source": [
    "UniqueIDsROI = np.unique(DiabeticTestAndDateGrouped_cG2.CustomerID)\n",
    "UniqueIDsROI= pd.DataFrame(UniqueIDsROI,columns=['CustomerID'])\n",
    "print(UniqueIDsROI.shape)\n",
    "UniqueIDsROI.head()"
   ]
  },
  {
   "cell_type": "code",
   "execution_count": 88,
   "metadata": {},
   "outputs": [
    {
     "data": {
      "text/plain": [
       "(300880, 4)"
      ]
     },
     "execution_count": 88,
     "metadata": {},
     "output_type": "execute_result"
    }
   ],
   "source": [
    "#extract more information about the ROI\n",
    "\n",
    "# UniqueIDsROI= pd.merge(UniqueIDsROI,customer,how='inner', left_on='CustomerID', right_on='CustomerID')\n",
    "# UniqueIDsROI.shape"
   ]
  },
  {
   "cell_type": "code",
   "execution_count": 119,
   "metadata": {},
   "outputs": [
    {
     "name": "stdout",
     "output_type": "stream",
     "text": [
      "(89479, 9)\n"
     ]
    },
    {
     "data": {
      "text/html": [
       "<div>\n",
       "<style scoped>\n",
       "    .dataframe tbody tr th:only-of-type {\n",
       "        vertical-align: middle;\n",
       "    }\n",
       "\n",
       "    .dataframe tbody tr th {\n",
       "        vertical-align: top;\n",
       "    }\n",
       "\n",
       "    .dataframe thead th {\n",
       "        text-align: right;\n",
       "    }\n",
       "</style>\n",
       "<table border=\"1\" class=\"dataframe\">\n",
       "  <thead>\n",
       "    <tr style=\"text-align: right;\">\n",
       "      <th></th>\n",
       "      <th>CustomerID</th>\n",
       "      <th>AppYearCount</th>\n",
       "      <th>Years</th>\n",
       "      <th>index</th>\n",
       "      <th>BirthDate</th>\n",
       "      <th>Sex</th>\n",
       "      <th>Freq</th>\n",
       "      <th>BirthYear</th>\n",
       "      <th>Age</th>\n",
       "    </tr>\n",
       "  </thead>\n",
       "  <tbody>\n",
       "    <tr>\n",
       "      <th>0</th>\n",
       "      <td>1857443</td>\n",
       "      <td>3</td>\n",
       "      <td>2013,2014,2015,</td>\n",
       "      <td>57464</td>\n",
       "      <td>111111</td>\n",
       "      <td>M</td>\n",
       "      <td>3</td>\n",
       "      <td>2011</td>\n",
       "      <td>8</td>\n",
       "    </tr>\n",
       "    <tr>\n",
       "      <th>1</th>\n",
       "      <td>1307077</td>\n",
       "      <td>2</td>\n",
       "      <td>2013,2014,</td>\n",
       "      <td>51797</td>\n",
       "      <td>31120</td>\n",
       "      <td>M</td>\n",
       "      <td>2</td>\n",
       "      <td>2003</td>\n",
       "      <td>16</td>\n",
       "    </tr>\n",
       "    <tr>\n",
       "      <th>2</th>\n",
       "      <td>1308537</td>\n",
       "      <td>3</td>\n",
       "      <td>2013,2014,2015,</td>\n",
       "      <td>51799</td>\n",
       "      <td>10323</td>\n",
       "      <td>M</td>\n",
       "      <td>3</td>\n",
       "      <td>2001</td>\n",
       "      <td>18</td>\n",
       "    </tr>\n",
       "    <tr>\n",
       "      <th>3</th>\n",
       "      <td>5265376</td>\n",
       "      <td>2</td>\n",
       "      <td>2017,2018,</td>\n",
       "      <td>88931</td>\n",
       "      <td>10614</td>\n",
       "      <td>M</td>\n",
       "      <td>2</td>\n",
       "      <td>2001</td>\n",
       "      <td>18</td>\n",
       "    </tr>\n",
       "    <tr>\n",
       "      <th>4</th>\n",
       "      <td>1308553</td>\n",
       "      <td>2</td>\n",
       "      <td>2014,2015,</td>\n",
       "      <td>51800</td>\n",
       "      <td>10317</td>\n",
       "      <td>M</td>\n",
       "      <td>2</td>\n",
       "      <td>2001</td>\n",
       "      <td>18</td>\n",
       "    </tr>\n",
       "    <tr>\n",
       "      <th>5</th>\n",
       "      <td>1308460</td>\n",
       "      <td>2</td>\n",
       "      <td>2013,2014,</td>\n",
       "      <td>51798</td>\n",
       "      <td>10428</td>\n",
       "      <td>M</td>\n",
       "      <td>2</td>\n",
       "      <td>2001</td>\n",
       "      <td>18</td>\n",
       "    </tr>\n",
       "    <tr>\n",
       "      <th>6</th>\n",
       "      <td>1898994</td>\n",
       "      <td>2</td>\n",
       "      <td>2013,2014,</td>\n",
       "      <td>57587</td>\n",
       "      <td>817</td>\n",
       "      <td>M</td>\n",
       "      <td>2</td>\n",
       "      <td>2000</td>\n",
       "      <td>19</td>\n",
       "    </tr>\n",
       "    <tr>\n",
       "      <th>7</th>\n",
       "      <td>4984608</td>\n",
       "      <td>2</td>\n",
       "      <td>2016,2017,</td>\n",
       "      <td>86621</td>\n",
       "      <td>317</td>\n",
       "      <td>M</td>\n",
       "      <td>2</td>\n",
       "      <td>2000</td>\n",
       "      <td>19</td>\n",
       "    </tr>\n",
       "    <tr>\n",
       "      <th>8</th>\n",
       "      <td>5120013</td>\n",
       "      <td>2</td>\n",
       "      <td>2017,2018,</td>\n",
       "      <td>88126</td>\n",
       "      <td>990221</td>\n",
       "      <td>M</td>\n",
       "      <td>2</td>\n",
       "      <td>1999</td>\n",
       "      <td>20</td>\n",
       "    </tr>\n",
       "    <tr>\n",
       "      <th>9</th>\n",
       "      <td>9636</td>\n",
       "      <td>3</td>\n",
       "      <td>2013,2014,2015,</td>\n",
       "      <td>13</td>\n",
       "      <td>990828</td>\n",
       "      <td>M</td>\n",
       "      <td>3</td>\n",
       "      <td>1999</td>\n",
       "      <td>20</td>\n",
       "    </tr>\n",
       "  </tbody>\n",
       "</table>\n",
       "</div>"
      ],
      "text/plain": [
       "   CustomerID  AppYearCount            Years  index  BirthDate Sex  Freq  \\\n",
       "0     1857443             3  2013,2014,2015,  57464     111111   M     3   \n",
       "1     1307077             2       2013,2014,  51797      31120   M     2   \n",
       "2     1308537             3  2013,2014,2015,  51799      10323   M     3   \n",
       "3     5265376             2       2017,2018,  88931      10614   M     2   \n",
       "4     1308553             2       2014,2015,  51800      10317   M     2   \n",
       "5     1308460             2       2013,2014,  51798      10428   M     2   \n",
       "6     1898994             2       2013,2014,  57587        817   M     2   \n",
       "7     4984608             2       2016,2017,  86621        317   M     2   \n",
       "8     5120013             2       2017,2018,  88126     990221   M     2   \n",
       "9        9636             3  2013,2014,2015,     13     990828   M     3   \n",
       "\n",
       "   BirthYear  Age  \n",
       "0       2011    8  \n",
       "1       2003   16  \n",
       "2       2001   18  \n",
       "3       2001   18  \n",
       "4       2001   18  \n",
       "5       2001   18  \n",
       "6       2000   19  \n",
       "7       2000   19  \n",
       "8       1999   20  \n",
       "9       1999   20  "
      ]
     },
     "execution_count": 119,
     "metadata": {},
     "output_type": "execute_result"
    }
   ],
   "source": [
    "customerbasicinfo=customer.copy() \n",
    "customerbasicinfo=customerbasicinfo.groupby(by=['CustomerID','BirthDate','Sex']).size().reset_index(name='Freq')\n",
    "customerbasicinfo= pd.merge(UniqueIDsROI,customerbasicinfo,how='inner', left_on='CustomerID', right_on='CustomerID')\n",
    "\n",
    "customerbasicinfo[\"BirthYear\"]=((customerbasicinfo[\"BirthDate\"])/10000).astype(int)\n",
    "customerbasicinfo=customerbasicinfo.sort_values(by=[\"BirthYear\"],ascending=True).reset_index()\n",
    "customerbasicinfo.loc[:,'BirthYear'][:8] += 2000\n",
    "customerbasicinfo.loc[:,'BirthYear'][8:] += 1900\n",
    "\n",
    "customerbasicinfo= pd.merge(pivotedData,customerbasicinfo,how='inner', left_on='CustomerID', right_on='CustomerID')\n",
    "customerbasicinfo= pd.merge(customerContiniousApp,customerbasicinfo,how='inner', left_on='CustomerID', right_on='CustomerID')\n",
    "customerbasicinfo[\"Age\"]=( (2019-customerbasicinfo[\"BirthYear\"])).astype(int)\n",
    "\n",
    "customerbasicinfo=customerbasicinfo.sort_values(by=[\"Age\"],ascending=True).reset_index()\n",
    "customerbasicinfo = customerbasicinfo.loc[:, ~customerbasicinfo.columns.str.contains('^level')] \n",
    "print(customerbasicinfo.shape)\n",
    "customerbasicinfo.head(10)"
   ]
  },
  {
   "cell_type": "code",
   "execution_count": 133,
   "metadata": {},
   "outputs": [
    {
     "data": {
      "text/html": [
       "<div>\n",
       "<style scoped>\n",
       "    .dataframe tbody tr th:only-of-type {\n",
       "        vertical-align: middle;\n",
       "    }\n",
       "\n",
       "    .dataframe tbody tr th {\n",
       "        vertical-align: top;\n",
       "    }\n",
       "\n",
       "    .dataframe thead th {\n",
       "        text-align: right;\n",
       "    }\n",
       "</style>\n",
       "<table border=\"1\" class=\"dataframe\">\n",
       "  <thead>\n",
       "    <tr style=\"text-align: right;\">\n",
       "      <th></th>\n",
       "      <th>CustomerID</th>\n",
       "      <th>AppYearCount</th>\n",
       "      <th>Years</th>\n",
       "      <th>index</th>\n",
       "      <th>BirthDate</th>\n",
       "      <th>Sex</th>\n",
       "      <th>Freq</th>\n",
       "      <th>BirthYear</th>\n",
       "      <th>Age</th>\n",
       "      <th>BaseYear</th>\n",
       "    </tr>\n",
       "  </thead>\n",
       "  <tbody>\n",
       "    <tr>\n",
       "      <th>0</th>\n",
       "      <td>1857443</td>\n",
       "      <td>3</td>\n",
       "      <td>2013,2014,2015,</td>\n",
       "      <td>57464</td>\n",
       "      <td>111111</td>\n",
       "      <td>M</td>\n",
       "      <td>3</td>\n",
       "      <td>2011</td>\n",
       "      <td>8</td>\n",
       "      <td>2013</td>\n",
       "    </tr>\n",
       "    <tr>\n",
       "      <th>1</th>\n",
       "      <td>1307077</td>\n",
       "      <td>2</td>\n",
       "      <td>2013,2014,</td>\n",
       "      <td>51797</td>\n",
       "      <td>31120</td>\n",
       "      <td>M</td>\n",
       "      <td>2</td>\n",
       "      <td>2003</td>\n",
       "      <td>16</td>\n",
       "      <td>2013</td>\n",
       "    </tr>\n",
       "    <tr>\n",
       "      <th>2</th>\n",
       "      <td>1308537</td>\n",
       "      <td>3</td>\n",
       "      <td>2013,2014,2015,</td>\n",
       "      <td>51799</td>\n",
       "      <td>10323</td>\n",
       "      <td>M</td>\n",
       "      <td>3</td>\n",
       "      <td>2001</td>\n",
       "      <td>18</td>\n",
       "      <td>2013</td>\n",
       "    </tr>\n",
       "    <tr>\n",
       "      <th>3</th>\n",
       "      <td>5265376</td>\n",
       "      <td>2</td>\n",
       "      <td>2017,2018,</td>\n",
       "      <td>88931</td>\n",
       "      <td>10614</td>\n",
       "      <td>M</td>\n",
       "      <td>2</td>\n",
       "      <td>2001</td>\n",
       "      <td>18</td>\n",
       "      <td>2017</td>\n",
       "    </tr>\n",
       "    <tr>\n",
       "      <th>4</th>\n",
       "      <td>1308553</td>\n",
       "      <td>2</td>\n",
       "      <td>2014,2015,</td>\n",
       "      <td>51800</td>\n",
       "      <td>10317</td>\n",
       "      <td>M</td>\n",
       "      <td>2</td>\n",
       "      <td>2001</td>\n",
       "      <td>18</td>\n",
       "      <td>2014</td>\n",
       "    </tr>\n",
       "  </tbody>\n",
       "</table>\n",
       "</div>"
      ],
      "text/plain": [
       "   CustomerID  AppYearCount            Years  index  BirthDate Sex  Freq  \\\n",
       "0     1857443             3  2013,2014,2015,  57464     111111   M     3   \n",
       "1     1307077             2       2013,2014,  51797      31120   M     2   \n",
       "2     1308537             3  2013,2014,2015,  51799      10323   M     3   \n",
       "3     5265376             2       2017,2018,  88931      10614   M     2   \n",
       "4     1308553             2       2014,2015,  51800      10317   M     2   \n",
       "\n",
       "   BirthYear  Age BaseYear  \n",
       "0       2011    8     2013  \n",
       "1       2003   16     2013  \n",
       "2       2001   18     2013  \n",
       "3       2001   18     2017  \n",
       "4       2001   18     2014  "
      ]
     },
     "execution_count": 133,
     "metadata": {},
     "output_type": "execute_result"
    }
   ],
   "source": [
    "ROI=customerbasicinfo\n",
    "baseyear=[]\n",
    "for i in range(ROI.shape[0]):\n",
    "    \n",
    "    temp=(ROI['Years'][i]).split(',' )\n",
    "    temp=temp[:-1]\n",
    "    \n",
    "    if(int(ROI['AppYearCount'][i])==len(temp)):\n",
    "        baseyear.append((ROI['Years'][i]).split(',' )[0])\n",
    "        \n",
    "    else:\n",
    "        \n",
    "        if(int(len(temp))== 5):\n",
    "            if(int(temp[2])==2015):\n",
    "                baseyear.append(2013)\n",
    "            else:\n",
    "                baseyear.append(2016)\n",
    "                \n",
    "        else:\n",
    "            for j in range(len(temp)-1):\n",
    "                if( ( int(temp[j+1]) - int(temp[j]) ) == 1 ):\n",
    "                    baseyear.append( int(temp[j]) )\n",
    "                    break\n",
    "                    \n",
    "ROI['BaseYear']=baseyear     \n",
    "ROI.head()"
   ]
  },
  {
   "cell_type": "code",
   "execution_count": 136,
   "metadata": {},
   "outputs": [
    {
     "data": {
      "text/plain": [
       "CustomerID  Year\n",
       "64          2014    2\n",
       "            2015    2\n",
       "323         2014    2\n",
       "            2015    1\n",
       "            2017    1\n",
       "761         2013    1\n",
       "            2018    1\n",
       "782         2014    2\n",
       "785         2013    1\n",
       "            2016    1\n",
       "852         2013    1\n",
       "            2015    3\n",
       "            2016    1\n",
       "981         2014    1\n",
       "            2016    1\n",
       "            2018    1\n",
       "1352        2013    2\n",
       "            2014    1\n",
       "1364        2013    2\n",
       "            2014    1\n",
       "            2015    1\n",
       "            2016    1\n",
       "1938        2013    1\n",
       "            2014    1\n",
       "            2016    1\n",
       "            2017    1\n",
       "2063        2015    1\n",
       "            2017    1\n",
       "2113        2015    2\n",
       "            2016    2\n",
       "                   ..\n",
       "5526243     2016    1\n",
       "5526259     2015    1\n",
       "            2017    1\n",
       "5527524     2014    3\n",
       "            2016    2\n",
       "5528601     2015    1\n",
       "            2016    1\n",
       "5529756     2013    1\n",
       "            2018    1\n",
       "5532611     2015    1\n",
       "            2016    1\n",
       "5534268     2013    1\n",
       "            2014    1\n",
       "5654226     2013    2\n",
       "            2015    2\n",
       "5715973     2013    1\n",
       "            2017    1\n",
       "5867953     2013    1\n",
       "            2014    1\n",
       "5878782     2013    1\n",
       "            2015    1\n",
       "5884342     2014    1\n",
       "            2017    1\n",
       "5885504     2015    2\n",
       "5887822     2013    1\n",
       "            2014    1\n",
       "5887825     2014    1\n",
       "            2015    1\n",
       "5890185     2013    1\n",
       "            2015    1\n",
       "Length: 231874, dtype: int64"
      ]
     },
     "execution_count": 136,
     "metadata": {},
     "output_type": "execute_result"
    }
   ],
   "source": [
    "DiabeticTestAndDate.groupby(by=['CustomerID','Year']).size()"
   ]
  },
  {
   "cell_type": "code",
   "execution_count": null,
   "metadata": {},
   "outputs": [],
   "source": []
  }
 ],
 "metadata": {
  "kernelspec": {
   "display_name": "Python 3",
   "language": "python",
   "name": "python3"
  },
  "language_info": {
   "codemirror_mode": {
    "name": "ipython",
    "version": 3
   },
   "file_extension": ".py",
   "mimetype": "text/x-python",
   "name": "python",
   "nbconvert_exporter": "python",
   "pygments_lexer": "ipython3",
   "version": "3.7.3"
  }
 },
 "nbformat": 4,
 "nbformat_minor": 2
}

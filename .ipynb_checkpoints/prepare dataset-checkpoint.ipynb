{
 "cells": [
  {
   "cell_type": "code",
   "execution_count": null,
   "metadata": {},
   "outputs": [],
   "source": [
    "import pandas as pd \n",
    "import numpy as np\n",
    "import warnings\n",
    "warnings.filterwarnings('ignore')\n",
    "# from scipy import stats\n",
    "# from keras.layers import Dense\n",
    "# from keras.layers import Dropout\n",
    "# from sklearn.utils import shuffle\n",
    "# from keras.models import Sequential\n",
    "# from sklearn.metrics import r2_score\n",
    "# from matplotlib import pyplot as plt\n",
    "# from sklearn.pipeline import Pipeline\n",
    "# from keras.utils import to_categorical\n",
    "# from keras.utils import multi_gpu_model\n",
    "# from keras.models import model_from_json\n",
    "# from sklearn.model_selection import KFold\n",
    "# from keras.layers import BatchNormalization\n",
    "# from sklearn.datasets import make_regression\n",
    "# from sklearn.metrics import confusion_matrix \n",
    "# from sklearn.preprocessing import LabelEncoder\n",
    "# from sklearn.metrics import mean_squared_error\n",
    "# from sklearn.metrics import mean_absolute_error\n",
    "# from sklearn.metrics import mean_absolute_error\n",
    "# from sklearn.preprocessing import StandardScaler\n",
    "# from sklearn.ensemble import RandomForestRegressor\n",
    "# from sklearn.model_selection import cross_val_score\n",
    "# from sklearn.ensemble import RandomForestClassifier\n",
    "# from sklearn.model_selection import train_test_split\n",
    "# from keras.wrappers.scikit_learn import KerasRegressor"
   ]
  },
  {
   "cell_type": "code",
   "execution_count": null,
   "metadata": {},
   "outputs": [],
   "source": [
    "dataMain= pd.read_csv('sep19SexAndAgeAddedFINAL DATASET_ver2.txt') \n",
    "print(dataMain.shape)\n",
    "\n",
    "dataMain=dataMain.query('FIELD_15 !=1 and FIELD_16 !=1 and FIELD_17 !=1 and FIELD_22 != 1 and FIELD_23 != 1 and FIELD_24 != 1 and FIELD_30 != 1')\n",
    "print(dataMain.shape)"
   ]
  },
  {
   "cell_type": "code",
   "execution_count": null,
   "metadata": {},
   "outputs": [],
   "source": [
    "newdata=dataMain.copy()\n",
    "print(newdata.shape)\n",
    "newdata.head()"
   ]
  },
  {
   "cell_type": "code",
   "execution_count": null,
   "metadata": {},
   "outputs": [],
   "source": [
    "# for checking if there are two records per day\n",
    "newdata_count_temp=newdata.groupby(by=['FIELD_1','FIELD_2']).size().reset_index(name='freq') \n",
    "# print(newdata_count_temp[newdata_count_temp.freq>1])\n",
    "\n",
    "# group records by id and year to find out the number of tests per specific year\n",
    "newdata_count_temp['Year']=(newdata_count_temp.FIELD_2 / 10000).astype(int)\n",
    "newdata_count_peryear=newdata_count_temp.groupby(by=['FIELD_1','Year']).size().reset_index(name='freq')\n",
    "# max(temp[temp.freq>1].freq)\n",
    "newdata_count_peryear=newdata_count_peryear.sort_values(by='FIELD_1')\n",
    "newdata_count_peryear.head()\n",
    "\n",
    "# to get the number of years a patient visited\n",
    "newdata_count_peryearG1= newdata_count_peryear.groupby(by=['FIELD_1']).size().reset_index(name='freq')\n",
    "newdata_count_peryearG1.head()\n",
    "print(newdata_count_peryearG1.freq.unique())\n",
    "newdata_count_peryearG1=newdata_count_peryearG1[newdata_count_peryearG1.freq>1]\n",
    "print(newdata_count_peryearG1.shape)\n",
    "newdata_count_peryearG1.head()\n"
   ]
  },
  {
   "cell_type": "code",
   "execution_count": null,
   "metadata": {},
   "outputs": [],
   "source": [
    "# newdata_count_temp[newdata_count_temp.freq>1].to_csv('DuplicateValues.csv',sep=',')\n",
    "# newdata_count_temp.head()\n",
    "# newdata_count_peryearG1.head()"
   ]
  },
  {
   "cell_type": "code",
   "execution_count": null,
   "metadata": {},
   "outputs": [],
   "source": [
    "mylist=[]\n",
    "for i in newdata_count_peryearG1.FIELD_1:\n",
    "    vals=newdata_count_peryear[newdata_count_peryear.FIELD_1==i]\n",
    "    mylist.append([i,np.sort(list(vals.Year))])"
   ]
  },
  {
   "cell_type": "code",
   "execution_count": null,
   "metadata": {},
   "outputs": [],
   "source": [
    "mylistPD=pd.DataFrame(mylist,columns=['FIELD_1','Years'])\n",
    "print(mylistPD.shape)\n",
    "mylistPD.tail(10)"
   ]
  },
  {
   "cell_type": "code",
   "execution_count": null,
   "metadata": {},
   "outputs": [],
   "source": [
    "newdata['Year']=(newdata.FIELD_2 / 10000).astype(int)\n",
    "\n",
    "x=[]\n",
    "target=[]\n",
    "\n",
    "for _id in mylistPD.FIELD_1:\n",
    "    ID=_id\n",
    "    years=mylistPD[mylistPD.FIELD_1==ID].Years.values\n",
    "\n",
    "    for y in range(len(years[0])-1):\n",
    "        dif=years[0][y+1] - years[0][y]\n",
    "        if(dif==1):\n",
    "            \n",
    "            tempdata=newdata.query('FIELD_1=='+str(ID)+' and Year=='+str(years[0][y])).reset_index()         \n",
    "            x.append(tempdata.iloc[tempdata.shape[0]-1,:].values)\n",
    "\n",
    "            tempdata=newdata.query('FIELD_1=='+str(ID)+' and Year=='+str(years[0][y+1])).reset_index()         \n",
    "            target.append(tempdata.iloc[tempdata.shape[0]-1,:].values)\n",
    "\n"
   ]
  },
  {
   "cell_type": "code",
   "execution_count": null,
   "metadata": {},
   "outputs": [],
   "source": [
    "newdata.head()"
   ]
  },
  {
   "cell_type": "code",
   "execution_count": null,
   "metadata": {},
   "outputs": [],
   "source": [
    "# print(list(newdata.columns))\n",
    "\n",
    "newcollist=newdata.columns\n",
    "newcollist= np.insert(newcollist,0,'index')\n",
    "newcollist"
   ]
  },
  {
   "cell_type": "code",
   "execution_count": null,
   "metadata": {},
   "outputs": [],
   "source": [
    "newdata.shape\n",
    "tempcols=newcollist\n",
    "# print(list(newdata.columns))"
   ]
  },
  {
   "cell_type": "code",
   "execution_count": null,
   "metadata": {},
   "outputs": [],
   "source": [
    "xlable=pd.DataFrame(x,columns=tempcols).drop(columns='Unnamed: 0')\n",
    "xlable.tail(10)"
   ]
  },
  {
   "cell_type": "code",
   "execution_count": null,
   "metadata": {},
   "outputs": [],
   "source": [
    "targelable=pd.DataFrame(target,columns=tempcols).drop(columns='Unnamed: 0')\n",
    "targelable.tail(10)"
   ]
  },
  {
   "cell_type": "code",
   "execution_count": null,
   "metadata": {},
   "outputs": [],
   "source": [
    "print(xlable.shape)\n",
    "print(targelable.shape)"
   ]
  },
  {
   "cell_type": "code",
   "execution_count": null,
   "metadata": {},
   "outputs": [],
   "source": [
    "targelable.to_csv('_targelable4_withNa_AllColumns.txt',sep=',')\n",
    "xlable.to_csv('_xlable4_withNa_AllColumns.txt',sep=',')"
   ]
  },
  {
   "cell_type": "code",
   "execution_count": null,
   "metadata": {},
   "outputs": [],
   "source": []
  },
  {
   "cell_type": "code",
   "execution_count": null,
   "metadata": {},
   "outputs": [],
   "source": [
    "print(xlable.shape)\n",
    "print(targelable.shape)"
   ]
  },
  {
   "cell_type": "code",
   "execution_count": null,
   "metadata": {},
   "outputs": [],
   "source": []
  },
  {
   "cell_type": "code",
   "execution_count": null,
   "metadata": {},
   "outputs": [],
   "source": [
    "testpd=pd.DataFrame()\n",
    "testpd['test']=abs(xlable.FIELD_1 + xlable.Year - targelable.FIELD_1 - targelable.Year)"
   ]
  },
  {
   "cell_type": "code",
   "execution_count": null,
   "metadata": {},
   "outputs": [],
   "source": [
    "testpd[testpd.test!=1]"
   ]
  },
  {
   "cell_type": "code",
   "execution_count": null,
   "metadata": {},
   "outputs": [],
   "source": []
  },
  {
   "cell_type": "code",
   "execution_count": null,
   "metadata": {},
   "outputs": [],
   "source": []
  },
  {
   "cell_type": "code",
   "execution_count": null,
   "metadata": {},
   "outputs": [],
   "source": []
  }
 ],
 "metadata": {
  "kernelspec": {
   "display_name": "Python 3",
   "language": "python",
   "name": "python3"
  },
  "language_info": {
   "codemirror_mode": {
    "name": "ipython",
    "version": 3
   },
   "file_extension": ".py",
   "mimetype": "text/x-python",
   "name": "python",
   "nbconvert_exporter": "python",
   "pygments_lexer": "ipython3",
   "version": "3.7.3"
  }
 },
 "nbformat": 4,
 "nbformat_minor": 2
}

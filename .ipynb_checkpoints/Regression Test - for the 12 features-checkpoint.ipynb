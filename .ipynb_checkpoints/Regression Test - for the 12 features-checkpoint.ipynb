{
 "cells": [
  {
   "cell_type": "code",
   "execution_count": 1,
   "metadata": {},
   "outputs": [
    {
     "name": "stderr",
     "output_type": "stream",
     "text": [
      "Using TensorFlow backend.\n"
     ]
    }
   ],
   "source": [
    "from matplotlib import pyplot as plt\n",
    "import pandas as pd \n",
    "import numpy as np\n",
    "import warnings\n",
    "warnings.filterwarnings('ignore')\n",
    "from scipy import stats\n",
    "from sklearn.utils import shuffle\n",
    "from sklearn.preprocessing import LabelEncoder\n",
    "from sklearn.metrics import confusion_matrix \n",
    "from sklearn.utils import shuffle\n",
    "from sklearn.ensemble import RandomForestRegressor\n",
    "from sklearn.datasets import make_regression\n",
    "from sklearn.model_selection import train_test_split\n",
    "from sklearn.metrics import mean_absolute_error\n",
    "from sklearn.metrics import mean_squared_error\n",
    "from sklearn.metrics import mean_absolute_error\n",
    "from sklearn.metrics import r2_score\n",
    "from keras.models import Sequential\n",
    "from keras.layers import Dense\n",
    "from keras.wrappers.scikit_learn import KerasRegressor\n",
    "from sklearn.model_selection import cross_val_score\n",
    "from sklearn.model_selection import KFold\n",
    "from sklearn.preprocessing import StandardScaler\n",
    "from sklearn.pipeline import Pipeline\n",
    "from keras.layers import Dropout\n",
    "from keras.layers import BatchNormalization\n",
    "from keras.models import model_from_json\n",
    "from keras.utils import multi_gpu_model \n",
    "from keras.utils import to_categorical\n"
   ]
  },
  {
   "cell_type": "code",
   "execution_count": 2,
   "metadata": {},
   "outputs": [
    {
     "name": "stdout",
     "output_type": "stream",
     "text": [
      "(159741, 26)\n",
      "(159741, 26)\n"
     ]
    },
    {
     "data": {
      "text/html": [
       "<div>\n",
       "<style scoped>\n",
       "    .dataframe tbody tr th:only-of-type {\n",
       "        vertical-align: middle;\n",
       "    }\n",
       "\n",
       "    .dataframe tbody tr th {\n",
       "        vertical-align: top;\n",
       "    }\n",
       "\n",
       "    .dataframe thead th {\n",
       "        text-align: right;\n",
       "    }\n",
       "</style>\n",
       "<table border=\"1\" class=\"dataframe\">\n",
       "  <thead>\n",
       "    <tr style=\"text-align: right;\">\n",
       "      <th></th>\n",
       "      <th>Unnamed: 0</th>\n",
       "      <th>index</th>\n",
       "      <th>FIELD_1</th>\n",
       "      <th>FIELD_2</th>\n",
       "      <th>COMPARE</th>\n",
       "      <th>AGE</th>\n",
       "      <th>B_DAY</th>\n",
       "      <th>SEX</th>\n",
       "      <th>L100700</th>\n",
       "      <th>L100800</th>\n",
       "      <th>...</th>\n",
       "      <th>L103300</th>\n",
       "      <th>L104600</th>\n",
       "      <th>L190300</th>\n",
       "      <th>L190400</th>\n",
       "      <th>L190500</th>\n",
       "      <th>S000300</th>\n",
       "      <th>S000501</th>\n",
       "      <th>S000502</th>\n",
       "      <th>CLASS</th>\n",
       "      <th>Year</th>\n",
       "    </tr>\n",
       "  </thead>\n",
       "  <tbody>\n",
       "    <tr>\n",
       "      <th>0</th>\n",
       "      <td>0</td>\n",
       "      <td>357038.0</td>\n",
       "      <td>64.0</td>\n",
       "      <td>20130621.0</td>\n",
       "      <td>6.420131e+09</td>\n",
       "      <td>44.0</td>\n",
       "      <td>690507.0</td>\n",
       "      <td>1.0</td>\n",
       "      <td>3.0</td>\n",
       "      <td>77.0</td>\n",
       "      <td>...</td>\n",
       "      <td>3.1</td>\n",
       "      <td>NaN</td>\n",
       "      <td>4.20</td>\n",
       "      <td>12.3</td>\n",
       "      <td>38.2</td>\n",
       "      <td>20.1</td>\n",
       "      <td>121.0</td>\n",
       "      <td>67.0</td>\n",
       "      <td>0.0</td>\n",
       "      <td>2013.0</td>\n",
       "    </tr>\n",
       "    <tr>\n",
       "      <th>1</th>\n",
       "      <td>1</td>\n",
       "      <td>357039.0</td>\n",
       "      <td>64.0</td>\n",
       "      <td>20140306.0</td>\n",
       "      <td>6.420140e+09</td>\n",
       "      <td>45.0</td>\n",
       "      <td>690507.0</td>\n",
       "      <td>1.0</td>\n",
       "      <td>3.0</td>\n",
       "      <td>89.0</td>\n",
       "      <td>...</td>\n",
       "      <td>3.3</td>\n",
       "      <td>NaN</td>\n",
       "      <td>4.24</td>\n",
       "      <td>13.1</td>\n",
       "      <td>39.0</td>\n",
       "      <td>19.7</td>\n",
       "      <td>117.0</td>\n",
       "      <td>76.0</td>\n",
       "      <td>0.0</td>\n",
       "      <td>2014.0</td>\n",
       "    </tr>\n",
       "    <tr>\n",
       "      <th>2</th>\n",
       "      <td>2</td>\n",
       "      <td>357040.0</td>\n",
       "      <td>64.0</td>\n",
       "      <td>20150904.0</td>\n",
       "      <td>6.420151e+09</td>\n",
       "      <td>46.0</td>\n",
       "      <td>690507.0</td>\n",
       "      <td>1.0</td>\n",
       "      <td>3.8</td>\n",
       "      <td>78.0</td>\n",
       "      <td>...</td>\n",
       "      <td>3.4</td>\n",
       "      <td>5.28</td>\n",
       "      <td>4.26</td>\n",
       "      <td>12.9</td>\n",
       "      <td>38.4</td>\n",
       "      <td>20.2</td>\n",
       "      <td>135.0</td>\n",
       "      <td>82.0</td>\n",
       "      <td>0.0</td>\n",
       "      <td>2015.0</td>\n",
       "    </tr>\n",
       "    <tr>\n",
       "      <th>3</th>\n",
       "      <td>3</td>\n",
       "      <td>184391.0</td>\n",
       "      <td>323.0</td>\n",
       "      <td>20130722.0</td>\n",
       "      <td>3.232013e+10</td>\n",
       "      <td>50.0</td>\n",
       "      <td>630314.0</td>\n",
       "      <td>1.0</td>\n",
       "      <td>4.1</td>\n",
       "      <td>98.0</td>\n",
       "      <td>...</td>\n",
       "      <td>3.1</td>\n",
       "      <td>NaN</td>\n",
       "      <td>4.20</td>\n",
       "      <td>13.2</td>\n",
       "      <td>39.9</td>\n",
       "      <td>24.7</td>\n",
       "      <td>112.0</td>\n",
       "      <td>70.0</td>\n",
       "      <td>0.0</td>\n",
       "      <td>2013.0</td>\n",
       "    </tr>\n",
       "    <tr>\n",
       "      <th>4</th>\n",
       "      <td>4</td>\n",
       "      <td>184392.0</td>\n",
       "      <td>323.0</td>\n",
       "      <td>20140605.0</td>\n",
       "      <td>3.232014e+10</td>\n",
       "      <td>51.0</td>\n",
       "      <td>630314.0</td>\n",
       "      <td>1.0</td>\n",
       "      <td>3.7</td>\n",
       "      <td>95.0</td>\n",
       "      <td>...</td>\n",
       "      <td>2.8</td>\n",
       "      <td>NaN</td>\n",
       "      <td>4.20</td>\n",
       "      <td>13.5</td>\n",
       "      <td>40.3</td>\n",
       "      <td>24.8</td>\n",
       "      <td>118.0</td>\n",
       "      <td>71.0</td>\n",
       "      <td>0.0</td>\n",
       "      <td>2014.0</td>\n",
       "    </tr>\n",
       "  </tbody>\n",
       "</table>\n",
       "<p>5 rows × 26 columns</p>\n",
       "</div>"
      ],
      "text/plain": [
       "   Unnamed: 0     index  FIELD_1     FIELD_2       COMPARE   AGE     B_DAY  \\\n",
       "0           0  357038.0     64.0  20130621.0  6.420131e+09  44.0  690507.0   \n",
       "1           1  357039.0     64.0  20140306.0  6.420140e+09  45.0  690507.0   \n",
       "2           2  357040.0     64.0  20150904.0  6.420151e+09  46.0  690507.0   \n",
       "3           3  184391.0    323.0  20130722.0  3.232013e+10  50.0  630314.0   \n",
       "4           4  184392.0    323.0  20140605.0  3.232014e+10  51.0  630314.0   \n",
       "\n",
       "   SEX  L100700  L100800  ...  L103300  L104600  L190300  L190400  L190500  \\\n",
       "0  1.0      3.0     77.0  ...      3.1      NaN     4.20     12.3     38.2   \n",
       "1  1.0      3.0     89.0  ...      3.3      NaN     4.24     13.1     39.0   \n",
       "2  1.0      3.8     78.0  ...      3.4     5.28     4.26     12.9     38.4   \n",
       "3  1.0      4.1     98.0  ...      3.1      NaN     4.20     13.2     39.9   \n",
       "4  1.0      3.7     95.0  ...      2.8      NaN     4.20     13.5     40.3   \n",
       "\n",
       "   S000300  S000501  S000502  CLASS    Year  \n",
       "0     20.1    121.0     67.0    0.0  2013.0  \n",
       "1     19.7    117.0     76.0    0.0  2014.0  \n",
       "2     20.2    135.0     82.0    0.0  2015.0  \n",
       "3     24.7    112.0     70.0    0.0  2013.0  \n",
       "4     24.8    118.0     71.0    0.0  2014.0  \n",
       "\n",
       "[5 rows x 26 columns]"
      ]
     },
     "execution_count": 2,
     "metadata": {},
     "output_type": "execute_result"
    }
   ],
   "source": [
    "x=pd.read_csv('_xlable4_withNa.txt') \n",
    "y=pd.read_csv('_targelable4_withNa.txt') \n",
    "\n",
    "print(x.shape)\n",
    "print(y.shape)\n",
    "x.head()"
   ]
  },
  {
   "cell_type": "code",
   "execution_count": 3,
   "metadata": {},
   "outputs": [
    {
     "data": {
      "text/html": [
       "<div>\n",
       "<style scoped>\n",
       "    .dataframe tbody tr th:only-of-type {\n",
       "        vertical-align: middle;\n",
       "    }\n",
       "\n",
       "    .dataframe tbody tr th {\n",
       "        vertical-align: top;\n",
       "    }\n",
       "\n",
       "    .dataframe thead th {\n",
       "        text-align: right;\n",
       "    }\n",
       "</style>\n",
       "<table border=\"1\" class=\"dataframe\">\n",
       "  <thead>\n",
       "    <tr style=\"text-align: right;\">\n",
       "      <th></th>\n",
       "      <th>Unnamed: 0</th>\n",
       "      <th>index</th>\n",
       "      <th>FIELD_1</th>\n",
       "      <th>FIELD_2</th>\n",
       "      <th>COMPARE</th>\n",
       "      <th>AGE</th>\n",
       "      <th>B_DAY</th>\n",
       "      <th>SEX</th>\n",
       "      <th>L100700</th>\n",
       "      <th>L100800</th>\n",
       "      <th>...</th>\n",
       "      <th>L190400</th>\n",
       "      <th>L190500</th>\n",
       "      <th>S000300</th>\n",
       "      <th>S000501</th>\n",
       "      <th>S000502</th>\n",
       "      <th>CLASS</th>\n",
       "      <th>Year</th>\n",
       "      <th>sbpG</th>\n",
       "      <th>dbpG</th>\n",
       "      <th>AgeG</th>\n",
       "    </tr>\n",
       "  </thead>\n",
       "  <tbody>\n",
       "    <tr>\n",
       "      <th>0</th>\n",
       "      <td>0</td>\n",
       "      <td>357038.0</td>\n",
       "      <td>64.0</td>\n",
       "      <td>20130621.0</td>\n",
       "      <td>6.420131e+09</td>\n",
       "      <td>44.0</td>\n",
       "      <td>690507.0</td>\n",
       "      <td>1.0</td>\n",
       "      <td>3.0</td>\n",
       "      <td>77.0</td>\n",
       "      <td>...</td>\n",
       "      <td>12.3</td>\n",
       "      <td>38.2</td>\n",
       "      <td>20.1</td>\n",
       "      <td>121.0</td>\n",
       "      <td>67.0</td>\n",
       "      <td>0.0</td>\n",
       "      <td>2013.0</td>\n",
       "      <td>1</td>\n",
       "      <td>0</td>\n",
       "      <td>2</td>\n",
       "    </tr>\n",
       "    <tr>\n",
       "      <th>1</th>\n",
       "      <td>1</td>\n",
       "      <td>357039.0</td>\n",
       "      <td>64.0</td>\n",
       "      <td>20140306.0</td>\n",
       "      <td>6.420140e+09</td>\n",
       "      <td>45.0</td>\n",
       "      <td>690507.0</td>\n",
       "      <td>1.0</td>\n",
       "      <td>3.0</td>\n",
       "      <td>89.0</td>\n",
       "      <td>...</td>\n",
       "      <td>13.1</td>\n",
       "      <td>39.0</td>\n",
       "      <td>19.7</td>\n",
       "      <td>117.0</td>\n",
       "      <td>76.0</td>\n",
       "      <td>0.0</td>\n",
       "      <td>2014.0</td>\n",
       "      <td>0</td>\n",
       "      <td>0</td>\n",
       "      <td>2</td>\n",
       "    </tr>\n",
       "    <tr>\n",
       "      <th>2</th>\n",
       "      <td>2</td>\n",
       "      <td>357040.0</td>\n",
       "      <td>64.0</td>\n",
       "      <td>20150904.0</td>\n",
       "      <td>6.420151e+09</td>\n",
       "      <td>46.0</td>\n",
       "      <td>690507.0</td>\n",
       "      <td>1.0</td>\n",
       "      <td>3.8</td>\n",
       "      <td>78.0</td>\n",
       "      <td>...</td>\n",
       "      <td>12.9</td>\n",
       "      <td>38.4</td>\n",
       "      <td>20.2</td>\n",
       "      <td>135.0</td>\n",
       "      <td>82.0</td>\n",
       "      <td>0.0</td>\n",
       "      <td>2015.0</td>\n",
       "      <td>2</td>\n",
       "      <td>1</td>\n",
       "      <td>2</td>\n",
       "    </tr>\n",
       "    <tr>\n",
       "      <th>3</th>\n",
       "      <td>3</td>\n",
       "      <td>184391.0</td>\n",
       "      <td>323.0</td>\n",
       "      <td>20130722.0</td>\n",
       "      <td>3.232013e+10</td>\n",
       "      <td>50.0</td>\n",
       "      <td>630314.0</td>\n",
       "      <td>1.0</td>\n",
       "      <td>4.1</td>\n",
       "      <td>98.0</td>\n",
       "      <td>...</td>\n",
       "      <td>13.2</td>\n",
       "      <td>39.9</td>\n",
       "      <td>24.7</td>\n",
       "      <td>112.0</td>\n",
       "      <td>70.0</td>\n",
       "      <td>0.0</td>\n",
       "      <td>2013.0</td>\n",
       "      <td>0</td>\n",
       "      <td>0</td>\n",
       "      <td>3</td>\n",
       "    </tr>\n",
       "    <tr>\n",
       "      <th>4</th>\n",
       "      <td>4</td>\n",
       "      <td>184392.0</td>\n",
       "      <td>323.0</td>\n",
       "      <td>20140605.0</td>\n",
       "      <td>3.232014e+10</td>\n",
       "      <td>51.0</td>\n",
       "      <td>630314.0</td>\n",
       "      <td>1.0</td>\n",
       "      <td>3.7</td>\n",
       "      <td>95.0</td>\n",
       "      <td>...</td>\n",
       "      <td>13.5</td>\n",
       "      <td>40.3</td>\n",
       "      <td>24.8</td>\n",
       "      <td>118.0</td>\n",
       "      <td>71.0</td>\n",
       "      <td>0.0</td>\n",
       "      <td>2014.0</td>\n",
       "      <td>0</td>\n",
       "      <td>0</td>\n",
       "      <td>3</td>\n",
       "    </tr>\n",
       "  </tbody>\n",
       "</table>\n",
       "<p>5 rows × 29 columns</p>\n",
       "</div>"
      ],
      "text/plain": [
       "   Unnamed: 0     index  FIELD_1     FIELD_2       COMPARE   AGE     B_DAY  \\\n",
       "0           0  357038.0     64.0  20130621.0  6.420131e+09  44.0  690507.0   \n",
       "1           1  357039.0     64.0  20140306.0  6.420140e+09  45.0  690507.0   \n",
       "2           2  357040.0     64.0  20150904.0  6.420151e+09  46.0  690507.0   \n",
       "3           3  184391.0    323.0  20130722.0  3.232013e+10  50.0  630314.0   \n",
       "4           4  184392.0    323.0  20140605.0  3.232014e+10  51.0  630314.0   \n",
       "\n",
       "   SEX  L100700  L100800  ...  L190400  L190500  S000300  S000501  S000502  \\\n",
       "0  1.0      3.0     77.0  ...     12.3     38.2     20.1    121.0     67.0   \n",
       "1  1.0      3.0     89.0  ...     13.1     39.0     19.7    117.0     76.0   \n",
       "2  1.0      3.8     78.0  ...     12.9     38.4     20.2    135.0     82.0   \n",
       "3  1.0      4.1     98.0  ...     13.2     39.9     24.7    112.0     70.0   \n",
       "4  1.0      3.7     95.0  ...     13.5     40.3     24.8    118.0     71.0   \n",
       "\n",
       "   CLASS    Year  sbpG  dbpG  AgeG  \n",
       "0    0.0  2013.0     1     0     2  \n",
       "1    0.0  2014.0     0     0     2  \n",
       "2    0.0  2015.0     2     1     2  \n",
       "3    0.0  2013.0     0     0     3  \n",
       "4    0.0  2014.0     0     0     3  \n",
       "\n",
       "[5 rows x 29 columns]"
      ]
     },
     "execution_count": 3,
     "metadata": {},
     "output_type": "execute_result"
    }
   ],
   "source": [
    "df=x.copy()\n",
    "conditions = [\n",
    "    (df.S000501 < 120)  ,\n",
    "    (df.S000501 >= 120) & (df.S000501 < 130),\n",
    "    (df.S000501 >=130)]\n",
    "choices = [0,1,2]\n",
    "df['sbpG'] = np.select(conditions, choices, default=0)\n",
    "x=df.copy()\n",
    "\n",
    "conditions2 = [\n",
    "    (df.S000502 < 80)  ,\n",
    "    (df.S000502 >= 80) & (df.S000502 < 90),\n",
    "    (df.S000502 >=90)]\n",
    "choices2 = [0,1,2]\n",
    "df['dbpG'] = np.select(conditions2, choices2, default=0)\n",
    "x=df.copy()\n",
    "\n",
    "conditions3 = [\n",
    "    (df.AGE < 30)  ,\n",
    "    (df.AGE >= 30) & (df.AGE < 40),\n",
    "    (df.AGE >= 40) & (df.AGE < 50),\n",
    "    (df.AGE >= 50) & (df.AGE < 60),\n",
    "    (df.AGE >= 60)]\n",
    "choices3 = [0,1,2,3,4]\n",
    "df['AgeG'] = np.select(conditions3, choices3, default=0)\n",
    "x=df.copy()\n",
    "x.head()"
   ]
  },
  {
   "cell_type": "code",
   "execution_count": 4,
   "metadata": {},
   "outputs": [
    {
     "name": "stdout",
     "output_type": "stream",
     "text": [
      "(42628, 55)\n"
     ]
    }
   ],
   "source": [
    "data= pd.merge(x,y, how='inner',left_on=['Unnamed: 0'], right_on=['Unnamed: 0'])\n",
    "data=data.dropna(). reset_index()\n",
    "\n",
    "# data=data[data.AGE_x >= 40]\n",
    "# data=data[data.AGE_x < 50]\n",
    "\n",
    "# data=data[data.CLASS_x==0]\n",
    "# data=data[data.sbpG==0]\n",
    "# data=data[data.dbpG==0]\n",
    "\n",
    "print(data.shape)"
   ]
  },
  {
   "cell_type": "code",
   "execution_count": 5,
   "metadata": {},
   "outputs": [
    {
     "name": "stdout",
     "output_type": "stream",
     "text": [
      "(42628, 55)\n",
      "Index(['index', 'Unnamed: 0', 'index_x', 'FIELD_1_x', 'FIELD_2_x', 'COMPARE_x',\n",
      "       'AGE_x', 'B_DAY_x', 'SEX_x', 'L100700_x', 'L100800_x', 'L101300_x',\n",
      "       'L101600_x', 'L101700_x', 'L102900_x', 'L103000_x', 'L103100_x',\n",
      "       'L103300_x', 'L104600_x', 'L190300_x', 'L190400_x', 'L190500_x',\n",
      "       'S000300_x', 'S000501_x', 'S000502_x', 'CLASS_x', 'Year_x', 'sbpG',\n",
      "       'dbpG', 'AgeG', 'index_y', 'FIELD_1_y', 'FIELD_2_y', 'COMPARE_y',\n",
      "       'AGE_y', 'B_DAY_y', 'SEX_y', 'L100700_y', 'L100800_y', 'L101300_y',\n",
      "       'L101600_y', 'L101700_y', 'L102900_y', 'L103000_y', 'L103100_y',\n",
      "       'L103300_y', 'L104600_y', 'L190300_y', 'L190400_y', 'L190500_y',\n",
      "       'S000300_y', 'S000501_y', 'S000502_y', 'CLASS_y', 'Year_y'],\n",
      "      dtype='object')\n"
     ]
    },
    {
     "data": {
      "text/html": [
       "<div>\n",
       "<style scoped>\n",
       "    .dataframe tbody tr th:only-of-type {\n",
       "        vertical-align: middle;\n",
       "    }\n",
       "\n",
       "    .dataframe tbody tr th {\n",
       "        vertical-align: top;\n",
       "    }\n",
       "\n",
       "    .dataframe thead th {\n",
       "        text-align: right;\n",
       "    }\n",
       "</style>\n",
       "<table border=\"1\" class=\"dataframe\">\n",
       "  <thead>\n",
       "    <tr style=\"text-align: right;\">\n",
       "      <th></th>\n",
       "      <th>index</th>\n",
       "      <th>Unnamed: 0</th>\n",
       "      <th>index_x</th>\n",
       "      <th>FIELD_1_x</th>\n",
       "      <th>FIELD_2_x</th>\n",
       "      <th>COMPARE_x</th>\n",
       "      <th>AGE_x</th>\n",
       "      <th>B_DAY_x</th>\n",
       "      <th>SEX_x</th>\n",
       "      <th>L100700_x</th>\n",
       "      <th>...</th>\n",
       "      <th>L103300_y</th>\n",
       "      <th>L104600_y</th>\n",
       "      <th>L190300_y</th>\n",
       "      <th>L190400_y</th>\n",
       "      <th>L190500_y</th>\n",
       "      <th>S000300_y</th>\n",
       "      <th>S000501_y</th>\n",
       "      <th>S000502_y</th>\n",
       "      <th>CLASS_y</th>\n",
       "      <th>Year_y</th>\n",
       "    </tr>\n",
       "  </thead>\n",
       "  <tbody>\n",
       "    <tr>\n",
       "      <th>0</th>\n",
       "      <td>2</td>\n",
       "      <td>2</td>\n",
       "      <td>357040.0</td>\n",
       "      <td>64.0</td>\n",
       "      <td>20150904.0</td>\n",
       "      <td>6.420151e+09</td>\n",
       "      <td>46.0</td>\n",
       "      <td>690507.0</td>\n",
       "      <td>1.0</td>\n",
       "      <td>3.8</td>\n",
       "      <td>...</td>\n",
       "      <td>3.3</td>\n",
       "      <td>4.89</td>\n",
       "      <td>3.82</td>\n",
       "      <td>11.2</td>\n",
       "      <td>34.6</td>\n",
       "      <td>21.0</td>\n",
       "      <td>129.0</td>\n",
       "      <td>78.0</td>\n",
       "      <td>0.0</td>\n",
       "      <td>2016.0</td>\n",
       "    </tr>\n",
       "    <tr>\n",
       "      <th>1</th>\n",
       "      <td>5</td>\n",
       "      <td>5</td>\n",
       "      <td>184393.0</td>\n",
       "      <td>323.0</td>\n",
       "      <td>20150917.0</td>\n",
       "      <td>3.232015e+10</td>\n",
       "      <td>52.0</td>\n",
       "      <td>630314.0</td>\n",
       "      <td>1.0</td>\n",
       "      <td>3.4</td>\n",
       "      <td>...</td>\n",
       "      <td>2.6</td>\n",
       "      <td>5.77</td>\n",
       "      <td>4.28</td>\n",
       "      <td>13.5</td>\n",
       "      <td>40.9</td>\n",
       "      <td>25.4</td>\n",
       "      <td>122.0</td>\n",
       "      <td>65.0</td>\n",
       "      <td>0.0</td>\n",
       "      <td>2016.0</td>\n",
       "    </tr>\n",
       "    <tr>\n",
       "      <th>2</th>\n",
       "      <td>9</td>\n",
       "      <td>9</td>\n",
       "      <td>415745.0</td>\n",
       "      <td>852.0</td>\n",
       "      <td>20150427.0</td>\n",
       "      <td>8.522015e+10</td>\n",
       "      <td>37.0</td>\n",
       "      <td>781215.0</td>\n",
       "      <td>1.0</td>\n",
       "      <td>3.9</td>\n",
       "      <td>...</td>\n",
       "      <td>3.0</td>\n",
       "      <td>5.91</td>\n",
       "      <td>4.12</td>\n",
       "      <td>12.5</td>\n",
       "      <td>37.8</td>\n",
       "      <td>22.5</td>\n",
       "      <td>105.0</td>\n",
       "      <td>68.0</td>\n",
       "      <td>0.0</td>\n",
       "      <td>2016.0</td>\n",
       "    </tr>\n",
       "    <tr>\n",
       "      <th>3</th>\n",
       "      <td>10</td>\n",
       "      <td>10</td>\n",
       "      <td>455748.0</td>\n",
       "      <td>981.0</td>\n",
       "      <td>20160803.0</td>\n",
       "      <td>9.812016e+10</td>\n",
       "      <td>39.0</td>\n",
       "      <td>771005.0</td>\n",
       "      <td>1.0</td>\n",
       "      <td>4.2</td>\n",
       "      <td>...</td>\n",
       "      <td>3.3</td>\n",
       "      <td>4.65</td>\n",
       "      <td>3.97</td>\n",
       "      <td>12.8</td>\n",
       "      <td>38.4</td>\n",
       "      <td>21.4</td>\n",
       "      <td>133.0</td>\n",
       "      <td>85.0</td>\n",
       "      <td>0.0</td>\n",
       "      <td>2017.0</td>\n",
       "    </tr>\n",
       "    <tr>\n",
       "      <th>4</th>\n",
       "      <td>15</td>\n",
       "      <td>15</td>\n",
       "      <td>107680.0</td>\n",
       "      <td>2113.0</td>\n",
       "      <td>20150311.0</td>\n",
       "      <td>2.113202e+11</td>\n",
       "      <td>59.0</td>\n",
       "      <td>560817.0</td>\n",
       "      <td>1.0</td>\n",
       "      <td>4.7</td>\n",
       "      <td>...</td>\n",
       "      <td>6.8</td>\n",
       "      <td>5.58</td>\n",
       "      <td>4.44</td>\n",
       "      <td>13.7</td>\n",
       "      <td>39.8</td>\n",
       "      <td>24.1</td>\n",
       "      <td>104.0</td>\n",
       "      <td>67.0</td>\n",
       "      <td>0.0</td>\n",
       "      <td>2016.0</td>\n",
       "    </tr>\n",
       "  </tbody>\n",
       "</table>\n",
       "<p>5 rows × 55 columns</p>\n",
       "</div>"
      ],
      "text/plain": [
       "   index  Unnamed: 0   index_x  FIELD_1_x   FIELD_2_x     COMPARE_x  AGE_x  \\\n",
       "0      2           2  357040.0       64.0  20150904.0  6.420151e+09   46.0   \n",
       "1      5           5  184393.0      323.0  20150917.0  3.232015e+10   52.0   \n",
       "2      9           9  415745.0      852.0  20150427.0  8.522015e+10   37.0   \n",
       "3     10          10  455748.0      981.0  20160803.0  9.812016e+10   39.0   \n",
       "4     15          15  107680.0     2113.0  20150311.0  2.113202e+11   59.0   \n",
       "\n",
       "    B_DAY_x  SEX_x  L100700_x  ...  L103300_y  L104600_y  L190300_y  \\\n",
       "0  690507.0    1.0        3.8  ...        3.3       4.89       3.82   \n",
       "1  630314.0    1.0        3.4  ...        2.6       5.77       4.28   \n",
       "2  781215.0    1.0        3.9  ...        3.0       5.91       4.12   \n",
       "3  771005.0    1.0        4.2  ...        3.3       4.65       3.97   \n",
       "4  560817.0    1.0        4.7  ...        6.8       5.58       4.44   \n",
       "\n",
       "   L190400_y  L190500_y  S000300_y  S000501_y  S000502_y  CLASS_y  Year_y  \n",
       "0       11.2       34.6       21.0      129.0       78.0      0.0  2016.0  \n",
       "1       13.5       40.9       25.4      122.0       65.0      0.0  2016.0  \n",
       "2       12.5       37.8       22.5      105.0       68.0      0.0  2016.0  \n",
       "3       12.8       38.4       21.4      133.0       85.0      0.0  2017.0  \n",
       "4       13.7       39.8       24.1      104.0       67.0      0.0  2016.0  \n",
       "\n",
       "[5 rows x 55 columns]"
      ]
     },
     "execution_count": 5,
     "metadata": {},
     "output_type": "execute_result"
    }
   ],
   "source": [
    "print(data.shape)\n",
    "print(data.columns)\n",
    "data.head()"
   ]
  },
  {
   "cell_type": "code",
   "execution_count": 10,
   "metadata": {},
   "outputs": [],
   "source": [
    "x=data[['AGE_x', 'SEX_x', 'L100700_x','L100800_x', 'L101300_x', 'L101600_x', 'L101700_x', 'L102900_x', 'L103000_x',\n",
    "       'L103100_x', 'L103300_x', 'L104600_x', 'L190300_x', 'L190400_x', 'L190500_x','S000300_x','S000501_x','S000502_x',\n",
    "        'CLASS_x','sbpG','dbpG','AgeG']]\n",
    "\n",
    "y=data[['AGE_y', 'SEX_y', 'L100700_y','L100800_y', 'L101300_y', 'L101600_y', 'L101700_y', 'L102900_y', 'L103000_y',\n",
    "       'L103100_y', 'L103300_y', 'L104600_y', 'L190300_y', 'L190400_y', 'L190500_y','S000300_y','S000501_y','S000502_y',\n",
    "        'CLASS_y']]"
   ]
  },
  {
   "cell_type": "code",
   "execution_count": 11,
   "metadata": {},
   "outputs": [],
   "source": [
    "# temppd=pd.DataFrame(x.copy())\n",
    "# temppd['y']=y[['S000501_y']]  \n",
    "# temppd.head()\n",
    "# corval=abs(temppd.corr()).sort_values(by='y')"
   ]
  },
  {
   "cell_type": "code",
   "execution_count": 12,
   "metadata": {},
   "outputs": [],
   "source": [
    "# corval.y\n",
    "# # temppd.corr()\n"
   ]
  },
  {
   "cell_type": "code",
   "execution_count": null,
   "metadata": {},
   "outputs": [],
   "source": []
  },
  {
   "cell_type": "markdown",
   "metadata": {},
   "source": [
    "1.L1030\n",
    "======="
   ]
  },
  {
   "cell_type": "code",
   "execution_count": 14,
   "metadata": {},
   "outputs": [],
   "source": [
    "y=data[['AGE_y', 'SEX_y', 'L100700_y','L100800_y', 'L101300_y', 'L101600_y', 'L101700_y', 'L102900_y', 'L103000_y',\n",
    "       'L103100_y', 'L103300_y', 'L104600_y',  'L190300_y', 'L190400_y', 'L190500_y','S000300_y','S000501_y','S000502_y',\n",
    "        'CLASS_y']]\n",
    "\n",
    "ylable=y[['L103000_y']]  \n",
    "xtrain,xtest,ytrain,ytest=train_test_split(x, ylable, random_state=42, test_size=0.2)\n"
   ]
  },
  {
   "cell_type": "code",
   "execution_count": 15,
   "metadata": {},
   "outputs": [
    {
     "name": "stderr",
     "output_type": "stream",
     "text": [
      "[Parallel(n_jobs=1)]: Using backend SequentialBackend with 1 concurrent workers.\n",
      "[Parallel(n_jobs=1)]: Done 300 out of 300 | elapsed:   43.7s finished\n",
      "[Parallel(n_jobs=1)]: Using backend SequentialBackend with 1 concurrent workers.\n"
     ]
    },
    {
     "name": "stdout",
     "output_type": "stream",
     "text": [
      "[0.01633818 0.00089145 0.02480888 0.02378652 0.01789983 0.01654454\n",
      " 0.03982016 0.01986544 0.65845065 0.01768839 0.03418008 0.02614842\n",
      " 0.01857623 0.01380855 0.01545266 0.02226725 0.01319564 0.01261192\n",
      " 0.00191392 0.00175591 0.0015229  0.00247247]\n"
     ]
    },
    {
     "name": "stderr",
     "output_type": "stream",
     "text": [
      "[Parallel(n_jobs=1)]: Done 300 out of 300 | elapsed:    0.2s finished\n"
     ]
    }
   ],
   "source": [
    "regr = RandomForestRegressor(max_depth=12, random_state=0,verbose =1,\n",
    "                             n_estimators=300)\n",
    "regr.fit(xtrain, ytrain) \n",
    "print(regr.feature_importances_)\n",
    "ypred=regr.predict(xtest)"
   ]
  },
  {
   "cell_type": "code",
   "execution_count": 16,
   "metadata": {},
   "outputs": [
    {
     "name": "stdout",
     "output_type": "stream",
     "text": [
      "mean_squared_error 3682.3506583688277\n",
      "root mean_squared_error 60.68237518727186\n",
      "mean_absolute_error 37.53897021835052\n",
      "r2_score 0.5381457835189293\n"
     ]
    }
   ],
   "source": [
    "import math\n",
    "print('mean_squared_error',mean_squared_error(ytest, ypred))\n",
    "print('root mean_squared_error',math.sqrt(mean_squared_error(ytest, ypred)))\n",
    "print('mean_absolute_error',mean_absolute_error(ytest, ypred))\n",
    "print('r2_score',r2_score(ytest, ypred))"
   ]
  },
  {
   "cell_type": "code",
   "execution_count": 17,
   "metadata": {},
   "outputs": [
    {
     "data": {
      "image/png": "[encoded data removed]",
      "text/plain": [
       "<Figure size 432x288 with 1 Axes>"
      ]
     },
     "metadata": {
      "needs_background": "light"
     },
     "output_type": "display_data"
    },
    {
     "data": {
      "text/plain": [
       "<matplotlib.collections.PathCollection at 0x247e45b9748>"
      ]
     },
     "execution_count": 17,
     "metadata": {},
     "output_type": "execute_result"
    },
    {
     "data": {
      "image/png": "[encoded data removed]",
      "text/plain": [
       "<Figure size 432x288 with 1 Axes>"
      ]
     },
     "metadata": {
      "needs_background": "light"
     },
     "output_type": "display_data"
    }
   ],
   "source": [
    "ypredPD=pd.DataFrame()\n",
    "ypredPD['t']=xtest['L103000_x'].values\n",
    "ypredPD['t + 1']=ytest.values\n",
    "ypredPD['pred (t +1)']=ypred\n",
    "ypredPD.head(10)\n",
    "\n",
    "ypredPD=ypredPD.sort_values(by=['t + 1'])\n",
    "plt.scatter(np.arange(0,ypredPD.shape[0],1),ypredPD['t + 1'][:ypredPD.shape[0]])\n",
    "plt.show()\n",
    "plt.scatter(np.arange(0,ypredPD.shape[0],1),ypredPD['pred (t +1)'][:ypredPD.shape[0]])"
   ]
  },
  {
   "cell_type": "code",
   "execution_count": 18,
   "metadata": {},
   "outputs": [
    {
     "name": "stdout",
     "output_type": "stream",
     "text": [
      "37.538970218350435\n",
      "47.67783943631063\n",
      "10.86089608257096\n"
     ]
    }
   ],
   "source": [
    "ypredPD['diff']=abs(ypredPD['t + 1']- ypredPD['pred (t +1)'])\n",
    "print(np.mean(ypredPD['diff']))\n",
    "print(np.std(ypredPD['diff']))\n",
    "print(100*ypredPD[ypredPD['diff']<=5].shape[0]/ypredPD.shape[0])"
   ]
  },
  {
   "cell_type": "markdown",
   "metadata": {},
   "source": [
    "2.S000300\n",
    "==========="
   ]
  },
  {
   "cell_type": "code",
   "execution_count": 20,
   "metadata": {},
   "outputs": [],
   "source": [
    "y=data[['AGE_y', 'SEX_y', 'L100700_y','L100800_y', 'L101300_y', 'L101600_y', 'L101700_y', 'L102900_y', 'L103000_y',\n",
    "       'L103100_y', 'L103300_y', 'L104600_y',  'L190300_y', 'L190400_y', 'L190500_y','S000300_y','S000501_y','S000502_y',\n",
    "        'CLASS_y']]\n",
    "\n",
    "ylable=y[['S000300_y']]  \n",
    "xtrain,xtest,ytrain,ytest=train_test_split(x, ylable, random_state=42, test_size=0.2)"
   ]
  },
  {
   "cell_type": "code",
   "execution_count": 21,
   "metadata": {},
   "outputs": [
    {
     "name": "stderr",
     "output_type": "stream",
     "text": [
      "[Parallel(n_jobs=1)]: Using backend SequentialBackend with 1 concurrent workers.\n",
      "[Parallel(n_jobs=1)]: Done 300 out of 300 | elapsed:   44.0s finished\n",
      "[Parallel(n_jobs=1)]: Using backend SequentialBackend with 1 concurrent workers.\n"
     ]
    },
    {
     "name": "stdout",
     "output_type": "stream",
     "text": [
      "[2.19685145e-03 1.40369711e-04 2.62192840e-03 2.95619262e-03\n",
      " 1.86454037e-03 2.76432282e-02 4.73311137e-03 2.23349427e-03\n",
      " 2.99557977e-03 1.93834480e-03 1.64420743e-03 1.93540853e-03\n",
      " 8.14685957e-03 1.66698992e-03 5.09614475e-03 9.27380694e-01\n",
      " 2.02506144e-03 2.21162427e-03 8.41190730e-05 1.17291025e-04\n",
      " 8.56874489e-05 2.82271403e-04]\n",
      "mean_squared_error 1.1795254932105201\n",
      "root mean_squared_error 1.0860596177054556\n",
      "mean_absolute_error 0.6798682331634514\n",
      "r2_score 0.8805151133981717\n"
     ]
    },
    {
     "name": "stderr",
     "output_type": "stream",
     "text": [
      "[Parallel(n_jobs=1)]: Done 300 out of 300 | elapsed:    0.2s finished\n"
     ]
    },
    {
     "data": {
      "text/html": [
       "<div>\n",
       "<style scoped>\n",
       "    .dataframe tbody tr th:only-of-type {\n",
       "        vertical-align: middle;\n",
       "    }\n",
       "\n",
       "    .dataframe tbody tr th {\n",
       "        vertical-align: top;\n",
       "    }\n",
       "\n",
       "    .dataframe thead th {\n",
       "        text-align: right;\n",
       "    }\n",
       "</style>\n",
       "<table border=\"1\" class=\"dataframe\">\n",
       "  <thead>\n",
       "    <tr style=\"text-align: right;\">\n",
       "      <th></th>\n",
       "      <th>t</th>\n",
       "      <th>t + 1</th>\n",
       "      <th>pred (t +1)</th>\n",
       "    </tr>\n",
       "  </thead>\n",
       "  <tbody>\n",
       "    <tr>\n",
       "      <th>0</th>\n",
       "      <td>18.9</td>\n",
       "      <td>19.7</td>\n",
       "      <td>19.040682</td>\n",
       "    </tr>\n",
       "    <tr>\n",
       "      <th>1</th>\n",
       "      <td>22.6</td>\n",
       "      <td>22.9</td>\n",
       "      <td>22.744606</td>\n",
       "    </tr>\n",
       "    <tr>\n",
       "      <th>2</th>\n",
       "      <td>22.5</td>\n",
       "      <td>22.4</td>\n",
       "      <td>22.613588</td>\n",
       "    </tr>\n",
       "    <tr>\n",
       "      <th>3</th>\n",
       "      <td>23.1</td>\n",
       "      <td>23.4</td>\n",
       "      <td>23.106778</td>\n",
       "    </tr>\n",
       "    <tr>\n",
       "      <th>4</th>\n",
       "      <td>18.9</td>\n",
       "      <td>19.3</td>\n",
       "      <td>19.244620</td>\n",
       "    </tr>\n",
       "    <tr>\n",
       "      <th>5</th>\n",
       "      <td>24.7</td>\n",
       "      <td>25.6</td>\n",
       "      <td>24.766476</td>\n",
       "    </tr>\n",
       "    <tr>\n",
       "      <th>6</th>\n",
       "      <td>20.4</td>\n",
       "      <td>20.4</td>\n",
       "      <td>20.483133</td>\n",
       "    </tr>\n",
       "    <tr>\n",
       "      <th>7</th>\n",
       "      <td>27.0</td>\n",
       "      <td>26.6</td>\n",
       "      <td>26.852264</td>\n",
       "    </tr>\n",
       "    <tr>\n",
       "      <th>8</th>\n",
       "      <td>21.8</td>\n",
       "      <td>21.4</td>\n",
       "      <td>21.912848</td>\n",
       "    </tr>\n",
       "    <tr>\n",
       "      <th>9</th>\n",
       "      <td>26.3</td>\n",
       "      <td>26.7</td>\n",
       "      <td>26.213267</td>\n",
       "    </tr>\n",
       "  </tbody>\n",
       "</table>\n",
       "</div>"
      ],
      "text/plain": [
       "      t  t + 1  pred (t +1)\n",
       "0  18.9   19.7    19.040682\n",
       "1  22.6   22.9    22.744606\n",
       "2  22.5   22.4    22.613588\n",
       "3  23.1   23.4    23.106778\n",
       "4  18.9   19.3    19.244620\n",
       "5  24.7   25.6    24.766476\n",
       "6  20.4   20.4    20.483133\n",
       "7  27.0   26.6    26.852264\n",
       "8  21.8   21.4    21.912848\n",
       "9  26.3   26.7    26.213267"
      ]
     },
     "execution_count": 21,
     "metadata": {},
     "output_type": "execute_result"
    }
   ],
   "source": [
    "regr = RandomForestRegressor(max_depth=12, random_state=0,verbose =1,\n",
    "                             n_estimators=300)\n",
    "regr.fit(xtrain, ytrain) \n",
    "print(regr.feature_importances_)\n",
    "ypred=regr.predict(xtest)\n",
    "\n",
    "import math\n",
    "print('mean_squared_error',mean_squared_error(ytest, ypred))\n",
    "print('root mean_squared_error',math.sqrt(mean_squared_error(ytest, ypred)))\n",
    "print('mean_absolute_error',mean_absolute_error(ytest, ypred))\n",
    "print('r2_score',r2_score(ytest, ypred))\n",
    "\n",
    "ypredPD=pd.DataFrame()\n",
    "ypredPD['t']=xtest['S000300_x'].values\n",
    "ypredPD['t + 1']=ytest.values\n",
    "ypredPD['pred (t +1)']=ypred\n",
    "ypredPD.head(10)"
   ]
  },
  {
   "cell_type": "code",
   "execution_count": 22,
   "metadata": {
    "scrolled": true
   },
   "outputs": [
    {
     "data": {
      "image/png": "[encoded data removed]",
      "text/plain": [
       "<Figure size 432x288 with 1 Axes>"
      ]
     },
     "metadata": {
      "needs_background": "light"
     },
     "output_type": "display_data"
    },
    {
     "data": {
      "text/plain": [
       "<matplotlib.collections.PathCollection at 0x247e4bb9940>"
      ]
     },
     "execution_count": 22,
     "metadata": {},
     "output_type": "execute_result"
    },
    {
     "data": {
      "image/png": "[encoded data removed]",
      "text/plain": [
       "<Figure size 432x288 with 1 Axes>"
      ]
     },
     "metadata": {
      "needs_background": "light"
     },
     "output_type": "display_data"
    }
   ],
   "source": [
    "ypredPD=ypredPD.sort_values(by=['t + 1'])\n",
    "plt.scatter(np.arange(0,ypredPD.shape[0],1),ypredPD['t + 1'][:ypredPD.shape[0]])\n",
    "plt.show()\n",
    "plt.scatter(np.arange(0,ypredPD.shape[0],1),ypredPD['pred (t +1)'][:ypredPD.shape[0]])"
   ]
  },
  {
   "cell_type": "code",
   "execution_count": 23,
   "metadata": {},
   "outputs": [
    {
     "name": "stdout",
     "output_type": "stream",
     "text": [
      "0.6798682331634514\n",
      "0.8469384149663594\n",
      "62.23316912972086\n"
     ]
    }
   ],
   "source": [
    "ypredPD['diff']=abs(ypredPD['t + 1']- ypredPD['pred (t +1)'])\n",
    "print(np.mean(ypredPD['diff']))\n",
    "print(np.std(ypredPD['diff']))\n",
    "print(100*ypredPD[ypredPD['diff']<= np.mean(ypredPD['diff']) ].shape[0]/ypredPD.shape[0])"
   ]
  },
  {
   "cell_type": "markdown",
   "metadata": {},
   "source": [
    "3. S000501\n",
    "=============="
   ]
  },
  {
   "cell_type": "code",
   "execution_count": 55,
   "metadata": {},
   "outputs": [],
   "source": [
    "y=data[['AGE_y', 'SEX_y', 'L100700_y','L100800_y', 'L101300_y', 'L101600_y', 'L101700_y', 'L102900_y', 'L103000_y',\n",
    "       'L103100_y', 'L103300_y', 'L104600_y',  'L190300_y', 'L190400_y', 'L190500_y','S000300_y','S000501_y','S000502_y',\n",
    "        'CLASS_y']]\n",
    "\n",
    "ylable=y[['S000501_y']]  \n",
    "xtrain,xtest,ytrain,ytest=train_test_split(x, ylable, random_state=42, test_size=0.2)"
   ]
  },
  {
   "cell_type": "code",
   "execution_count": 56,
   "metadata": {},
   "outputs": [
    {
     "name": "stderr",
     "output_type": "stream",
     "text": [
      "[Parallel(n_jobs=1)]: Using backend SequentialBackend with 1 concurrent workers.\n",
      "[Parallel(n_jobs=1)]: Done 300 out of 300 | elapsed:   53.7s finished\n",
      "[Parallel(n_jobs=1)]: Using backend SequentialBackend with 1 concurrent workers.\n"
     ]
    },
    {
     "name": "stdout",
     "output_type": "stream",
     "text": [
      "[0.02034178 0.02059913 0.01835401 0.01715264 0.01411087 0.01695649\n",
      " 0.01877655 0.01779434 0.01936688 0.01470858 0.01280644 0.0173065\n",
      " 0.01970023 0.01392788 0.01545847 0.04937791 0.61383907 0.02790686\n",
      " 0.00072696 0.04567617 0.00340373 0.0017085 ]\n",
      "mean_squared_error 83.95670168763701\n",
      "root mean_squared_error 9.162788968847694\n",
      "mean_absolute_error 7.242630051276405\n",
      "r2_score 0.47953049018542016\n"
     ]
    },
    {
     "name": "stderr",
     "output_type": "stream",
     "text": [
      "[Parallel(n_jobs=1)]: Done 300 out of 300 | elapsed:    0.2s finished\n"
     ]
    },
    {
     "data": {
      "text/html": [
       "<div>\n",
       "<style scoped>\n",
       "    .dataframe tbody tr th:only-of-type {\n",
       "        vertical-align: middle;\n",
       "    }\n",
       "\n",
       "    .dataframe tbody tr th {\n",
       "        vertical-align: top;\n",
       "    }\n",
       "\n",
       "    .dataframe thead th {\n",
       "        text-align: right;\n",
       "    }\n",
       "</style>\n",
       "<table border=\"1\" class=\"dataframe\">\n",
       "  <thead>\n",
       "    <tr style=\"text-align: right;\">\n",
       "      <th></th>\n",
       "      <th>t</th>\n",
       "      <th>t + 1</th>\n",
       "      <th>pred (t +1)</th>\n",
       "    </tr>\n",
       "  </thead>\n",
       "  <tbody>\n",
       "    <tr>\n",
       "      <th>0</th>\n",
       "      <td>117.0</td>\n",
       "      <td>104.0</td>\n",
       "      <td>114.843134</td>\n",
       "    </tr>\n",
       "    <tr>\n",
       "      <th>1</th>\n",
       "      <td>106.0</td>\n",
       "      <td>110.0</td>\n",
       "      <td>107.269848</td>\n",
       "    </tr>\n",
       "    <tr>\n",
       "      <th>2</th>\n",
       "      <td>139.0</td>\n",
       "      <td>130.0</td>\n",
       "      <td>133.080301</td>\n",
       "    </tr>\n",
       "    <tr>\n",
       "      <th>3</th>\n",
       "      <td>120.0</td>\n",
       "      <td>150.0</td>\n",
       "      <td>119.073245</td>\n",
       "    </tr>\n",
       "    <tr>\n",
       "      <th>4</th>\n",
       "      <td>117.0</td>\n",
       "      <td>117.0</td>\n",
       "      <td>112.829635</td>\n",
       "    </tr>\n",
       "    <tr>\n",
       "      <th>5</th>\n",
       "      <td>138.0</td>\n",
       "      <td>135.0</td>\n",
       "      <td>129.383163</td>\n",
       "    </tr>\n",
       "    <tr>\n",
       "      <th>6</th>\n",
       "      <td>106.0</td>\n",
       "      <td>110.0</td>\n",
       "      <td>108.556301</td>\n",
       "    </tr>\n",
       "    <tr>\n",
       "      <th>7</th>\n",
       "      <td>129.0</td>\n",
       "      <td>116.0</td>\n",
       "      <td>126.927656</td>\n",
       "    </tr>\n",
       "    <tr>\n",
       "      <th>8</th>\n",
       "      <td>92.0</td>\n",
       "      <td>92.0</td>\n",
       "      <td>100.585283</td>\n",
       "    </tr>\n",
       "    <tr>\n",
       "      <th>9</th>\n",
       "      <td>121.0</td>\n",
       "      <td>139.0</td>\n",
       "      <td>119.579562</td>\n",
       "    </tr>\n",
       "  </tbody>\n",
       "</table>\n",
       "</div>"
      ],
      "text/plain": [
       "       t  t + 1  pred (t +1)\n",
       "0  117.0  104.0   114.843134\n",
       "1  106.0  110.0   107.269848\n",
       "2  139.0  130.0   133.080301\n",
       "3  120.0  150.0   119.073245\n",
       "4  117.0  117.0   112.829635\n",
       "5  138.0  135.0   129.383163\n",
       "6  106.0  110.0   108.556301\n",
       "7  129.0  116.0   126.927656\n",
       "8   92.0   92.0   100.585283\n",
       "9  121.0  139.0   119.579562"
      ]
     },
     "execution_count": 56,
     "metadata": {},
     "output_type": "execute_result"
    }
   ],
   "source": [
    "regr = RandomForestRegressor(max_depth=12, random_state=0,verbose =1,\n",
    "                             n_estimators=300)\n",
    "regr.fit(xtrain, ytrain) \n",
    "print(regr.feature_importances_)\n",
    "ypred=regr.predict(xtest)\n",
    "\n",
    "import math\n",
    "print('mean_squared_error',mean_squared_error(ytest, ypred))\n",
    "print('root mean_squared_error',math.sqrt(mean_squared_error(ytest, ypred)))\n",
    "print('mean_absolute_error',mean_absolute_error(ytest, ypred))\n",
    "print('r2_score',r2_score(ytest, ypred))\n",
    "\n",
    "ypredPD=pd.DataFrame()\n",
    "ypredPD['t']=xtest['S000501_x'].values\n",
    "ypredPD['t + 1']=ytest.values\n",
    "ypredPD['pred (t +1)']=ypred\n",
    "ypredPD.head(10)"
   ]
  },
  {
   "cell_type": "code",
   "execution_count": 57,
   "metadata": {},
   "outputs": [
    {
     "name": "stdout",
     "output_type": "stream",
     "text": [
      "7.242630051276419\n",
      "5.612576202421215\n",
      "41.84846352334037\n"
     ]
    }
   ],
   "source": [
    "ypredPD['diff']=abs(ypredPD['t + 1']- ypredPD['pred (t +1)'])\n",
    "print(np.mean(ypredPD['diff']))\n",
    "print(np.std(ypredPD['diff']))\n",
    "print(100*ypredPD[ypredPD['diff']<=5].shape[0]/ypredPD.shape[0])"
   ]
  },
  {
   "cell_type": "markdown",
   "metadata": {},
   "source": [
    "4. S000502_x\n",
    "============"
   ]
  },
  {
   "cell_type": "code",
   "execution_count": 27,
   "metadata": {},
   "outputs": [],
   "source": [
    "y=data[['AGE_y', 'SEX_y', 'L100700_y','L100800_y', 'L101300_y', 'L101600_y', 'L101700_y', 'L102900_y', 'L103000_y',\n",
    "       'L103100_y', 'L103300_y', 'L104600_y',  'L190300_y', 'L190400_y', 'L190500_y','S000300_y','S000501_y','S000502_y',\n",
    "        'CLASS_y']]\n",
    "\n",
    "ylable=y[['S000502_y']]  \n",
    "xtrain,xtest,ytrain,ytest=train_test_split(x, ylable, random_state=42, test_size=0.2)"
   ]
  },
  {
   "cell_type": "code",
   "execution_count": 28,
   "metadata": {},
   "outputs": [
    {
     "name": "stderr",
     "output_type": "stream",
     "text": [
      "[Parallel(n_jobs=1)]: Using backend SequentialBackend with 1 concurrent workers.\n",
      "[Parallel(n_jobs=1)]: Done 300 out of 300 | elapsed:   43.7s finished\n",
      "[Parallel(n_jobs=1)]: Using backend SequentialBackend with 1 concurrent workers.\n"
     ]
    },
    {
     "name": "stdout",
     "output_type": "stream",
     "text": [
      "[0.0249992  0.00886774 0.02342203 0.02175218 0.01864999 0.02127159\n",
      " 0.03434034 0.02255906 0.02547828 0.01779113 0.01628268 0.02196817\n",
      " 0.0250467  0.01971387 0.01918133 0.03681165 0.24457133 0.25617495\n",
      " 0.00081113 0.09933637 0.03884369 0.00212658]\n",
      "mean_squared_error 50.64294638109967\n",
      "root mean_squared_error 7.116385766742812\n",
      "mean_absolute_error 5.708474616474777\n",
      "r2_score 0.40652848069547076\n"
     ]
    },
    {
     "name": "stderr",
     "output_type": "stream",
     "text": [
      "[Parallel(n_jobs=1)]: Done 300 out of 300 | elapsed:    0.2s finished\n"
     ]
    },
    {
     "data": {
      "text/html": [
       "<div>\n",
       "<style scoped>\n",
       "    .dataframe tbody tr th:only-of-type {\n",
       "        vertical-align: middle;\n",
       "    }\n",
       "\n",
       "    .dataframe tbody tr th {\n",
       "        vertical-align: top;\n",
       "    }\n",
       "\n",
       "    .dataframe thead th {\n",
       "        text-align: right;\n",
       "    }\n",
       "</style>\n",
       "<table border=\"1\" class=\"dataframe\">\n",
       "  <thead>\n",
       "    <tr style=\"text-align: right;\">\n",
       "      <th></th>\n",
       "      <th>t</th>\n",
       "      <th>t + 1</th>\n",
       "      <th>pred (t +1)</th>\n",
       "    </tr>\n",
       "  </thead>\n",
       "  <tbody>\n",
       "    <tr>\n",
       "      <th>0</th>\n",
       "      <td>85.0</td>\n",
       "      <td>73.0</td>\n",
       "      <td>74.647288</td>\n",
       "    </tr>\n",
       "    <tr>\n",
       "      <th>1</th>\n",
       "      <td>64.0</td>\n",
       "      <td>60.0</td>\n",
       "      <td>68.040893</td>\n",
       "    </tr>\n",
       "    <tr>\n",
       "      <th>2</th>\n",
       "      <td>84.0</td>\n",
       "      <td>86.0</td>\n",
       "      <td>80.807575</td>\n",
       "    </tr>\n",
       "    <tr>\n",
       "      <th>3</th>\n",
       "      <td>70.0</td>\n",
       "      <td>85.0</td>\n",
       "      <td>75.610642</td>\n",
       "    </tr>\n",
       "    <tr>\n",
       "      <th>4</th>\n",
       "      <td>71.0</td>\n",
       "      <td>78.0</td>\n",
       "      <td>70.522151</td>\n",
       "    </tr>\n",
       "    <tr>\n",
       "      <th>5</th>\n",
       "      <td>82.0</td>\n",
       "      <td>73.0</td>\n",
       "      <td>80.890992</td>\n",
       "    </tr>\n",
       "    <tr>\n",
       "      <th>6</th>\n",
       "      <td>61.0</td>\n",
       "      <td>68.0</td>\n",
       "      <td>65.943317</td>\n",
       "    </tr>\n",
       "    <tr>\n",
       "      <th>7</th>\n",
       "      <td>78.0</td>\n",
       "      <td>79.0</td>\n",
       "      <td>79.165576</td>\n",
       "    </tr>\n",
       "    <tr>\n",
       "      <th>8</th>\n",
       "      <td>60.0</td>\n",
       "      <td>64.0</td>\n",
       "      <td>63.725748</td>\n",
       "    </tr>\n",
       "    <tr>\n",
       "      <th>9</th>\n",
       "      <td>76.0</td>\n",
       "      <td>87.0</td>\n",
       "      <td>72.434074</td>\n",
       "    </tr>\n",
       "  </tbody>\n",
       "</table>\n",
       "</div>"
      ],
      "text/plain": [
       "      t  t + 1  pred (t +1)\n",
       "0  85.0   73.0    74.647288\n",
       "1  64.0   60.0    68.040893\n",
       "2  84.0   86.0    80.807575\n",
       "3  70.0   85.0    75.610642\n",
       "4  71.0   78.0    70.522151\n",
       "5  82.0   73.0    80.890992\n",
       "6  61.0   68.0    65.943317\n",
       "7  78.0   79.0    79.165576\n",
       "8  60.0   64.0    63.725748\n",
       "9  76.0   87.0    72.434074"
      ]
     },
     "execution_count": 28,
     "metadata": {},
     "output_type": "execute_result"
    }
   ],
   "source": [
    "regr = RandomForestRegressor(max_depth=12, random_state=0,verbose =1,\n",
    "                             n_estimators=300)\n",
    "regr.fit(xtrain, ytrain) \n",
    "print(regr.feature_importances_)\n",
    "ypred=regr.predict(xtest)\n",
    "\n",
    "import math\n",
    "print('mean_squared_error',mean_squared_error(ytest, ypred))\n",
    "print('root mean_squared_error',math.sqrt(mean_squared_error(ytest, ypred)))\n",
    "print('mean_absolute_error',mean_absolute_error(ytest, ypred))\n",
    "print('r2_score',r2_score(ytest, ypred))\n",
    "\n",
    "ypredPD=pd.DataFrame()\n",
    "ypredPD['t']=xtest['S000502_x'].values\n",
    "ypredPD['t + 1']=ytest.values\n",
    "ypredPD['pred (t +1)']=ypred\n",
    "ypredPD.head(10)"
   ]
  },
  {
   "cell_type": "code",
   "execution_count": 29,
   "metadata": {},
   "outputs": [
    {
     "data": {
      "image/png": "[encoded data removed]",
      "text/plain": [
       "<Figure size 432x288 with 1 Axes>"
      ]
     },
     "metadata": {
      "needs_background": "light"
     },
     "output_type": "display_data"
    },
    {
     "data": {
      "text/plain": [
       "<matplotlib.collections.PathCollection at 0x247e4c79860>"
      ]
     },
     "execution_count": 29,
     "metadata": {},
     "output_type": "execute_result"
    },
    {
     "data": {
      "image/png": "[encoded data removed]",
      "text/plain": [
       "<Figure size 432x288 with 1 Axes>"
      ]
     },
     "metadata": {
      "needs_background": "light"
     },
     "output_type": "display_data"
    }
   ],
   "source": [
    "ypredPD=ypredPD.sort_values(by=['t + 1'])\n",
    "plt.scatter(np.arange(0,ypredPD.shape[0],1),ypredPD['t + 1'][:ypredPD.shape[0]])\n",
    "plt.show()\n",
    "plt.scatter(np.arange(0,ypredPD.shape[0],1),ypredPD['pred (t +1)'][:ypredPD.shape[0]])"
   ]
  },
  {
   "cell_type": "code",
   "execution_count": 30,
   "metadata": {},
   "outputs": [
    {
     "name": "stdout",
     "output_type": "stream",
     "text": [
      "5.708474616474777\n",
      "4.249266281861237\n",
      "50.703729767769175\n"
     ]
    }
   ],
   "source": [
    "ypredPD['diff']=abs(ypredPD['t + 1']- ypredPD['pred (t +1)'])\n",
    "print(np.mean(ypredPD['diff']))\n",
    "print(np.std(ypredPD['diff']))\n",
    "print(100*ypredPD[ypredPD['diff']<=5].shape[0]/ypredPD.shape[0])"
   ]
  },
  {
   "cell_type": "markdown",
   "metadata": {},
   "source": [
    "5. L101700\n",
    "==============="
   ]
  },
  {
   "cell_type": "code",
   "execution_count": 31,
   "metadata": {},
   "outputs": [],
   "source": [
    "y=data[['AGE_y', 'SEX_y', 'L100700_y','L100800_y', 'L101300_y', 'L101600_y', 'L101700_y', 'L102900_y', 'L103000_y',\n",
    "       'L103100_y', 'L103300_y', 'L104600_y',  'L190300_y', 'L190400_y', 'L190500_y','S000300_y','S000501_y','S000502_y',\n",
    "        'CLASS_y']]\n",
    "\n",
    "ylable=y[['L101700_y']]  \n",
    "xtrain,xtest,ytrain,ytest=train_test_split(x, ylable, random_state=42, test_size=0.2)"
   ]
  },
  {
   "cell_type": "code",
   "execution_count": 32,
   "metadata": {},
   "outputs": [
    {
     "name": "stderr",
     "output_type": "stream",
     "text": [
      "[Parallel(n_jobs=1)]: Using backend SequentialBackend with 1 concurrent workers.\n",
      "[Parallel(n_jobs=1)]: Done 300 out of 300 | elapsed:   52.5s finished\n",
      "[Parallel(n_jobs=1)]: Using backend SequentialBackend with 1 concurrent workers.\n"
     ]
    },
    {
     "name": "stdout",
     "output_type": "stream",
     "text": [
      "[1.01256579e-02 1.54379595e-03 1.63642740e-02 8.80430214e-03\n",
      " 1.76496002e-02 2.97324228e-02 7.99561778e-01 1.07516197e-02\n",
      " 1.15624840e-02 1.03744493e-02 8.34392870e-03 1.01713040e-02\n",
      " 1.37638895e-02 1.09749066e-02 9.74697332e-03 1.07456940e-02\n",
      " 7.91687063e-03 7.42754651e-03 9.98444221e-04 1.27923891e-03\n",
      " 7.32798134e-04 1.42802194e-03]\n",
      "mean_squared_error 500.68789899035636\n",
      "root mean_squared_error 22.376056377082097\n",
      "mean_absolute_error 8.735462192992756\n",
      "r2_score 0.6483089001420852\n"
     ]
    },
    {
     "name": "stderr",
     "output_type": "stream",
     "text": [
      "[Parallel(n_jobs=1)]: Done 300 out of 300 | elapsed:    0.2s finished\n"
     ]
    },
    {
     "data": {
      "text/html": [
       "<div>\n",
       "<style scoped>\n",
       "    .dataframe tbody tr th:only-of-type {\n",
       "        vertical-align: middle;\n",
       "    }\n",
       "\n",
       "    .dataframe tbody tr th {\n",
       "        vertical-align: top;\n",
       "    }\n",
       "\n",
       "    .dataframe thead th {\n",
       "        text-align: right;\n",
       "    }\n",
       "</style>\n",
       "<table border=\"1\" class=\"dataframe\">\n",
       "  <thead>\n",
       "    <tr style=\"text-align: right;\">\n",
       "      <th></th>\n",
       "      <th>t</th>\n",
       "      <th>t + 1</th>\n",
       "      <th>pred (t +1)</th>\n",
       "    </tr>\n",
       "  </thead>\n",
       "  <tbody>\n",
       "    <tr>\n",
       "      <th>0</th>\n",
       "      <td>19.0</td>\n",
       "      <td>20.0</td>\n",
       "      <td>18.332893</td>\n",
       "    </tr>\n",
       "    <tr>\n",
       "      <th>1</th>\n",
       "      <td>12.0</td>\n",
       "      <td>12.0</td>\n",
       "      <td>12.854557</td>\n",
       "    </tr>\n",
       "    <tr>\n",
       "      <th>2</th>\n",
       "      <td>11.0</td>\n",
       "      <td>15.0</td>\n",
       "      <td>11.790005</td>\n",
       "    </tr>\n",
       "    <tr>\n",
       "      <th>3</th>\n",
       "      <td>44.0</td>\n",
       "      <td>46.0</td>\n",
       "      <td>46.375418</td>\n",
       "    </tr>\n",
       "    <tr>\n",
       "      <th>4</th>\n",
       "      <td>10.0</td>\n",
       "      <td>11.0</td>\n",
       "      <td>10.959478</td>\n",
       "    </tr>\n",
       "    <tr>\n",
       "      <th>5</th>\n",
       "      <td>28.0</td>\n",
       "      <td>27.0</td>\n",
       "      <td>30.975372</td>\n",
       "    </tr>\n",
       "    <tr>\n",
       "      <th>6</th>\n",
       "      <td>31.0</td>\n",
       "      <td>18.0</td>\n",
       "      <td>37.441043</td>\n",
       "    </tr>\n",
       "    <tr>\n",
       "      <th>7</th>\n",
       "      <td>83.0</td>\n",
       "      <td>65.0</td>\n",
       "      <td>68.903819</td>\n",
       "    </tr>\n",
       "    <tr>\n",
       "      <th>8</th>\n",
       "      <td>11.0</td>\n",
       "      <td>11.0</td>\n",
       "      <td>11.519186</td>\n",
       "    </tr>\n",
       "    <tr>\n",
       "      <th>9</th>\n",
       "      <td>12.0</td>\n",
       "      <td>17.0</td>\n",
       "      <td>13.070013</td>\n",
       "    </tr>\n",
       "  </tbody>\n",
       "</table>\n",
       "</div>"
      ],
      "text/plain": [
       "      t  t + 1  pred (t +1)\n",
       "0  19.0   20.0    18.332893\n",
       "1  12.0   12.0    12.854557\n",
       "2  11.0   15.0    11.790005\n",
       "3  44.0   46.0    46.375418\n",
       "4  10.0   11.0    10.959478\n",
       "5  28.0   27.0    30.975372\n",
       "6  31.0   18.0    37.441043\n",
       "7  83.0   65.0    68.903819\n",
       "8  11.0   11.0    11.519186\n",
       "9  12.0   17.0    13.070013"
      ]
     },
     "execution_count": 32,
     "metadata": {},
     "output_type": "execute_result"
    }
   ],
   "source": [
    "regr = RandomForestRegressor(max_depth=12, random_state=0,verbose =1,\n",
    "                             n_estimators=300)\n",
    "regr.fit(xtrain, ytrain) \n",
    "print(regr.feature_importances_)\n",
    "ypred=regr.predict(xtest)\n",
    "\n",
    "import math\n",
    "print('mean_squared_error',mean_squared_error(ytest, ypred))\n",
    "print('root mean_squared_error',math.sqrt(mean_squared_error(ytest, ypred)))\n",
    "print('mean_absolute_error',mean_absolute_error(ytest, ypred))\n",
    "print('r2_score',r2_score(ytest, ypred))\n",
    "\n",
    "ypredPD=pd.DataFrame()\n",
    "ypredPD['t']=xtest['L101700_x'].values\n",
    "ypredPD['t + 1']=ytest.values\n",
    "ypredPD['pred (t +1)']=ypred\n",
    "ypredPD.head(10)"
   ]
  },
  {
   "cell_type": "code",
   "execution_count": 33,
   "metadata": {},
   "outputs": [
    {
     "data": {
      "image/png": "[encoded data removed]",
      "text/plain": [
       "<Figure size 432x288 with 1 Axes>"
      ]
     },
     "metadata": {
      "needs_background": "light"
     },
     "output_type": "display_data"
    },
    {
     "data": {
      "text/plain": [
       "<matplotlib.collections.PathCollection at 0x247e5379eb8>"
      ]
     },
     "execution_count": 33,
     "metadata": {},
     "output_type": "execute_result"
    },
    {
     "data": {
      "image/png": "[encoded data removed]",
      "text/plain": [
       "<Figure size 432x288 with 1 Axes>"
      ]
     },
     "metadata": {
      "needs_background": "light"
     },
     "output_type": "display_data"
    }
   ],
   "source": [
    "ypredPD=ypredPD.sort_values(by=['t + 1'])\n",
    "plt.scatter(np.arange(0,ypredPD.shape[0],1),ypredPD['t + 1'][:ypredPD.shape[0]])\n",
    "plt.show()\n",
    "plt.scatter(np.arange(0,ypredPD.shape[0],1),ypredPD['pred (t +1)'][:ypredPD.shape[0]])"
   ]
  },
  {
   "cell_type": "markdown",
   "metadata": {},
   "source": [
    "6. L103300\n",
    "=============="
   ]
  },
  {
   "cell_type": "code",
   "execution_count": 34,
   "metadata": {},
   "outputs": [],
   "source": [
    "y=data[['AGE_y', 'SEX_y', 'L100700_y','L100800_y', 'L101300_y', 'L101600_y', 'L101700_y', 'L102900_y', 'L103000_y',\n",
    "       'L103100_y', 'L103300_y', 'L104600_y',  'L190300_y', 'L190400_y', 'L190500_y','S000300_y','S000501_y','S000502_y',\n",
    "        'CLASS_y']]\n",
    "\n",
    "ylable=y[['L103300_y']]  \n",
    "xtrain,xtest,ytrain,ytest=train_test_split(x, ylable, random_state=42, test_size=0.2)"
   ]
  },
  {
   "cell_type": "code",
   "execution_count": 35,
   "metadata": {},
   "outputs": [
    {
     "name": "stderr",
     "output_type": "stream",
     "text": [
      "[Parallel(n_jobs=1)]: Using backend SequentialBackend with 1 concurrent workers.\n",
      "[Parallel(n_jobs=1)]: Done 300 out of 300 | elapsed:   54.4s finished\n",
      "[Parallel(n_jobs=1)]: Using backend SequentialBackend with 1 concurrent workers.\n"
     ]
    },
    {
     "name": "stdout",
     "output_type": "stream",
     "text": [
      "[7.56881519e-03 1.12902141e-03 9.72725807e-03 7.97303905e-03\n",
      " 6.89681681e-03 9.57405958e-03 1.02375750e-02 8.29046132e-03\n",
      " 1.56101063e-02 5.60626340e-03 8.60796072e-01 1.11271163e-02\n",
      " 8.93659442e-03 5.35503035e-03 6.38732403e-03 1.06298597e-02\n",
      " 6.12357142e-03 5.95354812e-03 4.82702653e-04 4.42599528e-04\n",
      " 3.59323783e-04 7.92841512e-04]\n",
      "mean_squared_error 0.3862923228156924\n",
      "root mean_squared_error 0.6215241932665956\n",
      "mean_absolute_error 0.46404157125469336\n",
      "r2_score 0.6983060587473326\n"
     ]
    },
    {
     "name": "stderr",
     "output_type": "stream",
     "text": [
      "[Parallel(n_jobs=1)]: Done 300 out of 300 | elapsed:    0.2s finished\n"
     ]
    },
    {
     "data": {
      "text/html": [
       "<div>\n",
       "<style scoped>\n",
       "    .dataframe tbody tr th:only-of-type {\n",
       "        vertical-align: middle;\n",
       "    }\n",
       "\n",
       "    .dataframe tbody tr th {\n",
       "        vertical-align: top;\n",
       "    }\n",
       "\n",
       "    .dataframe thead th {\n",
       "        text-align: right;\n",
       "    }\n",
       "</style>\n",
       "<table border=\"1\" class=\"dataframe\">\n",
       "  <thead>\n",
       "    <tr style=\"text-align: right;\">\n",
       "      <th></th>\n",
       "      <th>t</th>\n",
       "      <th>t + 1</th>\n",
       "      <th>pred (t +1)</th>\n",
       "    </tr>\n",
       "  </thead>\n",
       "  <tbody>\n",
       "    <tr>\n",
       "      <th>0</th>\n",
       "      <td>2.7</td>\n",
       "      <td>3.1</td>\n",
       "      <td>2.789318</td>\n",
       "    </tr>\n",
       "    <tr>\n",
       "      <th>1</th>\n",
       "      <td>3.9</td>\n",
       "      <td>4.1</td>\n",
       "      <td>3.996855</td>\n",
       "    </tr>\n",
       "    <tr>\n",
       "      <th>2</th>\n",
       "      <td>3.3</td>\n",
       "      <td>2.5</td>\n",
       "      <td>3.306442</td>\n",
       "    </tr>\n",
       "    <tr>\n",
       "      <th>3</th>\n",
       "      <td>4.8</td>\n",
       "      <td>4.1</td>\n",
       "      <td>4.608105</td>\n",
       "    </tr>\n",
       "    <tr>\n",
       "      <th>4</th>\n",
       "      <td>2.2</td>\n",
       "      <td>2.1</td>\n",
       "      <td>2.181768</td>\n",
       "    </tr>\n",
       "    <tr>\n",
       "      <th>5</th>\n",
       "      <td>4.7</td>\n",
       "      <td>5.5</td>\n",
       "      <td>4.665266</td>\n",
       "    </tr>\n",
       "    <tr>\n",
       "      <th>6</th>\n",
       "      <td>3.3</td>\n",
       "      <td>2.8</td>\n",
       "      <td>3.224377</td>\n",
       "    </tr>\n",
       "    <tr>\n",
       "      <th>7</th>\n",
       "      <td>5.0</td>\n",
       "      <td>4.2</td>\n",
       "      <td>4.883393</td>\n",
       "    </tr>\n",
       "    <tr>\n",
       "      <th>8</th>\n",
       "      <td>2.9</td>\n",
       "      <td>3.0</td>\n",
       "      <td>2.866080</td>\n",
       "    </tr>\n",
       "    <tr>\n",
       "      <th>9</th>\n",
       "      <td>4.7</td>\n",
       "      <td>5.2</td>\n",
       "      <td>4.546295</td>\n",
       "    </tr>\n",
       "  </tbody>\n",
       "</table>\n",
       "</div>"
      ],
      "text/plain": [
       "     t  t + 1  pred (t +1)\n",
       "0  2.7    3.1     2.789318\n",
       "1  3.9    4.1     3.996855\n",
       "2  3.3    2.5     3.306442\n",
       "3  4.8    4.1     4.608105\n",
       "4  2.2    2.1     2.181768\n",
       "5  4.7    5.5     4.665266\n",
       "6  3.3    2.8     3.224377\n",
       "7  5.0    4.2     4.883393\n",
       "8  2.9    3.0     2.866080\n",
       "9  4.7    5.2     4.546295"
      ]
     },
     "execution_count": 35,
     "metadata": {},
     "output_type": "execute_result"
    }
   ],
   "source": [
    "regr = RandomForestRegressor(max_depth=12, random_state=0,verbose =1,\n",
    "                             n_estimators=300)\n",
    "regr.fit(xtrain, ytrain) \n",
    "print(regr.feature_importances_)\n",
    "ypred=regr.predict(xtest)\n",
    "\n",
    "import math\n",
    "print('mean_squared_error',mean_squared_error(ytest, ypred))\n",
    "print('root mean_squared_error',math.sqrt(mean_squared_error(ytest, ypred)))\n",
    "print('mean_absolute_error',mean_absolute_error(ytest, ypred))\n",
    "print('r2_score',r2_score(ytest, ypred))\n",
    "\n",
    "ypredPD=pd.DataFrame()\n",
    "ypredPD['t']=xtest['L103300_x'].values\n",
    "ypredPD['t + 1']=ytest.values\n",
    "ypredPD['pred (t +1)']=ypred\n",
    "ypredPD.head(10)"
   ]
  },
  {
   "cell_type": "code",
   "execution_count": 36,
   "metadata": {},
   "outputs": [
    {
     "data": {
      "image/png": "[encoded data removed]",
      "text/plain": [
       "<Figure size 432x288 with 1 Axes>"
      ]
     },
     "metadata": {
      "needs_background": "light"
     },
     "output_type": "display_data"
    },
    {
     "data": {
      "text/plain": [
       "<matplotlib.collections.PathCollection at 0x247e73cb7b8>"
      ]
     },
     "execution_count": 36,
     "metadata": {},
     "output_type": "execute_result"
    },
    {
     "data": {
      "image/png": "[encoded data removed]",
      "text/plain": [
       "<Figure size 432x288 with 1 Axes>"
      ]
     },
     "metadata": {
      "needs_background": "light"
     },
     "output_type": "display_data"
    }
   ],
   "source": [
    "ypredPD=ypredPD.sort_values(by=['t + 1'])\n",
    "plt.scatter(np.arange(0,ypredPD.shape[0],1),ypredPD['t + 1'][:ypredPD.shape[0]])\n",
    "plt.show()\n",
    "plt.scatter(np.arange(0,ypredPD.shape[0],1),ypredPD['pred (t +1)'][:ypredPD.shape[0]])"
   ]
  },
  {
   "cell_type": "markdown",
   "metadata": {},
   "source": [
    "7. L190400\n",
    "============"
   ]
  },
  {
   "cell_type": "code",
   "execution_count": 37,
   "metadata": {},
   "outputs": [],
   "source": [
    "y=data[['AGE_y', 'SEX_y', 'L100700_y','L100800_y', 'L101300_y', 'L101600_y', 'L101700_y', 'L102900_y', 'L103000_y',\n",
    "       'L103100_y', 'L103300_y', 'L104600_y',  'L190300_y', 'L190400_y', 'L190500_y','S000300_y','S000501_y','S000502_y',\n",
    "        'CLASS_y']]\n",
    "\n",
    "ylable=y[['L190400_y']]  \n",
    "xtrain,xtest,ytrain,ytest=train_test_split(x, ylable, random_state=42, test_size=0.2)"
   ]
  },
  {
   "cell_type": "code",
   "execution_count": 38,
   "metadata": {},
   "outputs": [
    {
     "name": "stderr",
     "output_type": "stream",
     "text": [
      "[Parallel(n_jobs=1)]: Using backend SequentialBackend with 1 concurrent workers.\n",
      "[Parallel(n_jobs=1)]: Done 300 out of 300 | elapsed:   53.1s finished\n",
      "[Parallel(n_jobs=1)]: Using backend SequentialBackend with 1 concurrent workers.\n"
     ]
    },
    {
     "name": "stdout",
     "output_type": "stream",
     "text": [
      "[5.63573948e-03 4.93575624e-01 6.74204556e-03 6.06819432e-03\n",
      " 5.49545575e-03 6.68952424e-03 5.86332855e-03 7.21697587e-03\n",
      " 6.87580464e-03 7.74817903e-03 4.41997668e-03 7.57486698e-03\n",
      " 9.53128848e-03 3.99957792e-01 7.12920043e-03 7.81706403e-03\n",
      " 5.47577107e-03 4.64591766e-03 2.18452909e-04 4.37756183e-04\n",
      " 3.14462385e-04 5.66579842e-04]\n",
      "mean_squared_error 0.5305060555843941\n",
      "root mean_squared_error 0.7283584664053779\n",
      "mean_absolute_error 0.5548470076029676\n",
      "r2_score 0.7729536142737896\n"
     ]
    },
    {
     "name": "stderr",
     "output_type": "stream",
     "text": [
      "[Parallel(n_jobs=1)]: Done 300 out of 300 | elapsed:    0.2s finished\n"
     ]
    },
    {
     "data": {
      "text/html": [
       "<div>\n",
       "<style scoped>\n",
       "    .dataframe tbody tr th:only-of-type {\n",
       "        vertical-align: middle;\n",
       "    }\n",
       "\n",
       "    .dataframe tbody tr th {\n",
       "        vertical-align: top;\n",
       "    }\n",
       "\n",
       "    .dataframe thead th {\n",
       "        text-align: right;\n",
       "    }\n",
       "</style>\n",
       "<table border=\"1\" class=\"dataframe\">\n",
       "  <thead>\n",
       "    <tr style=\"text-align: right;\">\n",
       "      <th></th>\n",
       "      <th>t</th>\n",
       "      <th>t + 1</th>\n",
       "      <th>pred (t +1)</th>\n",
       "    </tr>\n",
       "  </thead>\n",
       "  <tbody>\n",
       "    <tr>\n",
       "      <th>0</th>\n",
       "      <td>13.3</td>\n",
       "      <td>13.0</td>\n",
       "      <td>13.115785</td>\n",
       "    </tr>\n",
       "    <tr>\n",
       "      <th>1</th>\n",
       "      <td>11.1</td>\n",
       "      <td>12.1</td>\n",
       "      <td>10.844527</td>\n",
       "    </tr>\n",
       "    <tr>\n",
       "      <th>2</th>\n",
       "      <td>12.6</td>\n",
       "      <td>13.0</td>\n",
       "      <td>12.807126</td>\n",
       "    </tr>\n",
       "    <tr>\n",
       "      <th>3</th>\n",
       "      <td>14.4</td>\n",
       "      <td>14.8</td>\n",
       "      <td>14.606349</td>\n",
       "    </tr>\n",
       "    <tr>\n",
       "      <th>4</th>\n",
       "      <td>12.6</td>\n",
       "      <td>12.2</td>\n",
       "      <td>12.781882</td>\n",
       "    </tr>\n",
       "    <tr>\n",
       "      <th>5</th>\n",
       "      <td>13.6</td>\n",
       "      <td>12.3</td>\n",
       "      <td>14.118035</td>\n",
       "    </tr>\n",
       "    <tr>\n",
       "      <th>6</th>\n",
       "      <td>12.3</td>\n",
       "      <td>12.0</td>\n",
       "      <td>12.456250</td>\n",
       "    </tr>\n",
       "    <tr>\n",
       "      <th>7</th>\n",
       "      <td>15.2</td>\n",
       "      <td>15.2</td>\n",
       "      <td>15.243225</td>\n",
       "    </tr>\n",
       "    <tr>\n",
       "      <th>8</th>\n",
       "      <td>13.0</td>\n",
       "      <td>13.6</td>\n",
       "      <td>12.955673</td>\n",
       "    </tr>\n",
       "    <tr>\n",
       "      <th>9</th>\n",
       "      <td>12.1</td>\n",
       "      <td>12.4</td>\n",
       "      <td>12.312774</td>\n",
       "    </tr>\n",
       "  </tbody>\n",
       "</table>\n",
       "</div>"
      ],
      "text/plain": [
       "      t  t + 1  pred (t +1)\n",
       "0  13.3   13.0    13.115785\n",
       "1  11.1   12.1    10.844527\n",
       "2  12.6   13.0    12.807126\n",
       "3  14.4   14.8    14.606349\n",
       "4  12.6   12.2    12.781882\n",
       "5  13.6   12.3    14.118035\n",
       "6  12.3   12.0    12.456250\n",
       "7  15.2   15.2    15.243225\n",
       "8  13.0   13.6    12.955673\n",
       "9  12.1   12.4    12.312774"
      ]
     },
     "execution_count": 38,
     "metadata": {},
     "output_type": "execute_result"
    }
   ],
   "source": [
    "regr = RandomForestRegressor(max_depth=12, random_state=0,verbose =1,\n",
    "                             n_estimators=300)\n",
    "regr.fit(xtrain, ytrain) \n",
    "print(regr.feature_importances_)\n",
    "ypred=regr.predict(xtest)\n",
    "\n",
    "import math\n",
    "print('mean_squared_error',mean_squared_error(ytest, ypred))\n",
    "print('root mean_squared_error',math.sqrt(mean_squared_error(ytest, ypred)))\n",
    "print('mean_absolute_error',mean_absolute_error(ytest, ypred))\n",
    "print('r2_score',r2_score(ytest, ypred))\n",
    "\n",
    "ypredPD=pd.DataFrame()\n",
    "ypredPD['t']=xtest['L190400_x'].values\n",
    "ypredPD['t + 1']=ytest.values\n",
    "ypredPD['pred (t +1)']=ypred\n",
    "ypredPD.head(10)"
   ]
  },
  {
   "cell_type": "code",
   "execution_count": 39,
   "metadata": {},
   "outputs": [
    {
     "data": {
      "image/png": "[encoded data removed]",
      "text/plain": [
       "<Figure size 432x288 with 1 Axes>"
      ]
     },
     "metadata": {
      "needs_background": "light"
     },
     "output_type": "display_data"
    },
    {
     "data": {
      "text/plain": [
       "<matplotlib.collections.PathCollection at 0x247e4d444a8>"
      ]
     },
     "execution_count": 39,
     "metadata": {},
     "output_type": "execute_result"
    },
    {
     "data": {
      "image/png": "[encoded data removed]",
      "text/plain": [
       "<Figure size 432x288 with 1 Axes>"
      ]
     },
     "metadata": {
      "needs_background": "light"
     },
     "output_type": "display_data"
    }
   ],
   "source": [
    "ypredPD=ypredPD.sort_values(by=['t + 1'])\n",
    "plt.scatter(np.arange(0,ypredPD.shape[0],1),ypredPD['t + 1'][:ypredPD.shape[0]])\n",
    "plt.show()\n",
    "plt.scatter(np.arange(0,ypredPD.shape[0],1),ypredPD['pred (t +1)'][:ypredPD.shape[0]])"
   ]
  },
  {
   "cell_type": "markdown",
   "metadata": {},
   "source": [
    "8. L100700\n",
    "==========="
   ]
  },
  {
   "cell_type": "code",
   "execution_count": 40,
   "metadata": {},
   "outputs": [],
   "source": [
    "y=data[['AGE_y', 'SEX_y', 'L100700_y','L100800_y', 'L101300_y', 'L101600_y', 'L101700_y', 'L102900_y', 'L103000_y',\n",
    "       'L103100_y', 'L103300_y', 'L104600_y',  'L190300_y', 'L190400_y', 'L190500_y','S000300_y','S000501_y','S000502_y',\n",
    "        'CLASS_y']]\n",
    "\n",
    "ylable=y[['L100700_y']]  \n",
    "xtrain,xtest,ytrain,ytest=train_test_split(x, ylable, random_state=42, test_size=0.2)"
   ]
  },
  {
   "cell_type": "code",
   "execution_count": 41,
   "metadata": {},
   "outputs": [
    {
     "name": "stderr",
     "output_type": "stream",
     "text": [
      "[Parallel(n_jobs=1)]: Using backend SequentialBackend with 1 concurrent workers.\n",
      "[Parallel(n_jobs=1)]: Done 300 out of 300 | elapsed:   54.4s finished\n",
      "[Parallel(n_jobs=1)]: Using backend SequentialBackend with 1 concurrent workers.\n"
     ]
    },
    {
     "name": "stdout",
     "output_type": "stream",
     "text": [
      "[6.89384145e-03 1.92999273e-02 8.68309593e-01 9.00853484e-03\n",
      " 5.98599879e-03 6.33770283e-03 6.03626470e-03 7.52618710e-03\n",
      " 1.43479579e-02 6.29734213e-03 4.82288302e-03 7.16939954e-03\n",
      " 6.53203051e-03 4.77535796e-03 5.83727602e-03 8.88187255e-03\n",
      " 5.96886836e-03 4.24699769e-03 2.79371803e-04 3.95149045e-04\n",
      " 3.41238746e-04 7.06204692e-04]\n",
      "mean_squared_error 0.4918421880963492\n",
      "root mean_squared_error 0.7013146142041738\n",
      "mean_absolute_error 0.5365226138701358\n",
      "r2_score 0.7546602889187406\n"
     ]
    },
    {
     "name": "stderr",
     "output_type": "stream",
     "text": [
      "[Parallel(n_jobs=1)]: Done 300 out of 300 | elapsed:    0.2s finished\n"
     ]
    },
    {
     "data": {
      "text/html": [
       "<div>\n",
       "<style scoped>\n",
       "    .dataframe tbody tr th:only-of-type {\n",
       "        vertical-align: middle;\n",
       "    }\n",
       "\n",
       "    .dataframe tbody tr th {\n",
       "        vertical-align: top;\n",
       "    }\n",
       "\n",
       "    .dataframe thead th {\n",
       "        text-align: right;\n",
       "    }\n",
       "</style>\n",
       "<table border=\"1\" class=\"dataframe\">\n",
       "  <thead>\n",
       "    <tr style=\"text-align: right;\">\n",
       "      <th></th>\n",
       "      <th>t</th>\n",
       "      <th>t + 1</th>\n",
       "      <th>pred (t +1)</th>\n",
       "    </tr>\n",
       "  </thead>\n",
       "  <tbody>\n",
       "    <tr>\n",
       "      <th>0</th>\n",
       "      <td>4.7</td>\n",
       "      <td>4.2</td>\n",
       "      <td>4.750091</td>\n",
       "    </tr>\n",
       "    <tr>\n",
       "      <th>1</th>\n",
       "      <td>2.0</td>\n",
       "      <td>2.9</td>\n",
       "      <td>2.416335</td>\n",
       "    </tr>\n",
       "    <tr>\n",
       "      <th>2</th>\n",
       "      <td>4.9</td>\n",
       "      <td>6.7</td>\n",
       "      <td>4.980593</td>\n",
       "    </tr>\n",
       "    <tr>\n",
       "      <th>3</th>\n",
       "      <td>4.7</td>\n",
       "      <td>4.6</td>\n",
       "      <td>5.152799</td>\n",
       "    </tr>\n",
       "    <tr>\n",
       "      <th>4</th>\n",
       "      <td>4.7</td>\n",
       "      <td>4.7</td>\n",
       "      <td>4.653823</td>\n",
       "    </tr>\n",
       "    <tr>\n",
       "      <th>5</th>\n",
       "      <td>7.6</td>\n",
       "      <td>6.7</td>\n",
       "      <td>7.674688</td>\n",
       "    </tr>\n",
       "    <tr>\n",
       "      <th>6</th>\n",
       "      <td>4.5</td>\n",
       "      <td>4.3</td>\n",
       "      <td>4.587971</td>\n",
       "    </tr>\n",
       "    <tr>\n",
       "      <th>7</th>\n",
       "      <td>5.8</td>\n",
       "      <td>6.6</td>\n",
       "      <td>6.041854</td>\n",
       "    </tr>\n",
       "    <tr>\n",
       "      <th>8</th>\n",
       "      <td>4.1</td>\n",
       "      <td>4.6</td>\n",
       "      <td>4.174578</td>\n",
       "    </tr>\n",
       "    <tr>\n",
       "      <th>9</th>\n",
       "      <td>5.9</td>\n",
       "      <td>5.2</td>\n",
       "      <td>5.332376</td>\n",
       "    </tr>\n",
       "  </tbody>\n",
       "</table>\n",
       "</div>"
      ],
      "text/plain": [
       "     t  t + 1  pred (t +1)\n",
       "0  4.7    4.2     4.750091\n",
       "1  2.0    2.9     2.416335\n",
       "2  4.9    6.7     4.980593\n",
       "3  4.7    4.6     5.152799\n",
       "4  4.7    4.7     4.653823\n",
       "5  7.6    6.7     7.674688\n",
       "6  4.5    4.3     4.587971\n",
       "7  5.8    6.6     6.041854\n",
       "8  4.1    4.6     4.174578\n",
       "9  5.9    5.2     5.332376"
      ]
     },
     "execution_count": 41,
     "metadata": {},
     "output_type": "execute_result"
    }
   ],
   "source": [
    "regr = RandomForestRegressor(max_depth=12, random_state=0,verbose =1,\n",
    "                             n_estimators=300)\n",
    "regr.fit(xtrain, ytrain) \n",
    "print(regr.feature_importances_)\n",
    "ypred=regr.predict(xtest)\n",
    "\n",
    "import math\n",
    "print('mean_squared_error',mean_squared_error(ytest, ypred))\n",
    "print('root mean_squared_error',math.sqrt(mean_squared_error(ytest, ypred)))\n",
    "print('mean_absolute_error',mean_absolute_error(ytest, ypred))\n",
    "print('r2_score',r2_score(ytest, ypred))\n",
    "\n",
    "ypredPD=pd.DataFrame()\n",
    "ypredPD['t']=xtest['L100700_x'].values\n",
    "ypredPD['t + 1']=ytest.values\n",
    "ypredPD['pred (t +1)']=ypred\n",
    "ypredPD.head(10)"
   ]
  },
  {
   "cell_type": "code",
   "execution_count": 42,
   "metadata": {},
   "outputs": [
    {
     "data": {
      "image/png": "[encoded data removed]",
      "text/plain": [
       "<Figure size 432x288 with 1 Axes>"
      ]
     },
     "metadata": {
      "needs_background": "light"
     },
     "output_type": "display_data"
    },
    {
     "data": {
      "text/plain": [
       "<matplotlib.collections.PathCollection at 0x247e52ff7f0>"
      ]
     },
     "execution_count": 42,
     "metadata": {},
     "output_type": "execute_result"
    },
    {
     "data": {
      "image/png": "[encoded data removed]",
      "text/plain": [
       "<Figure size 432x288 with 1 Axes>"
      ]
     },
     "metadata": {
      "needs_background": "light"
     },
     "output_type": "display_data"
    }
   ],
   "source": [
    "ypredPD=ypredPD.sort_values(by=['t + 1'])\n",
    "plt.scatter(np.arange(0,ypredPD.shape[0],1),ypredPD['t + 1'][:ypredPD.shape[0]])\n",
    "plt.show()\n",
    "plt.scatter(np.arange(0,ypredPD.shape[0],1),ypredPD['pred (t +1)'][:ypredPD.shape[0]])"
   ]
  },
  {
   "cell_type": "markdown",
   "metadata": {},
   "source": [
    "9. L190500\n",
    "============"
   ]
  },
  {
   "cell_type": "code",
   "execution_count": 43,
   "metadata": {},
   "outputs": [],
   "source": [
    "y=data[['AGE_y', 'SEX_y', 'L100700_y','L100800_y', 'L101300_y', 'L101600_y', 'L101700_y', 'L102900_y', 'L103000_y',\n",
    "       'L103100_y', 'L103300_y', 'L104600_y',  'L190300_y', 'L190400_y', 'L190500_y','S000300_y','S000501_y','S000502_y',\n",
    "        'CLASS_y']]\n",
    "\n",
    "ylable=y[['L190500_y']]  \n",
    "xtrain,xtest,ytrain,ytest=train_test_split(x, ylable, random_state=42, test_size=0.2)"
   ]
  },
  {
   "cell_type": "code",
   "execution_count": 44,
   "metadata": {},
   "outputs": [
    {
     "name": "stderr",
     "output_type": "stream",
     "text": [
      "[Parallel(n_jobs=1)]: Using backend SequentialBackend with 1 concurrent workers.\n",
      "[Parallel(n_jobs=1)]: Done 300 out of 300 | elapsed:   53.1s finished\n",
      "[Parallel(n_jobs=1)]: Using backend SequentialBackend with 1 concurrent workers.\n"
     ]
    },
    {
     "name": "stdout",
     "output_type": "stream",
     "text": [
      "[5.94311266e-03 4.90544329e-01 7.52091312e-03 6.51369368e-03\n",
      " 6.12878611e-03 7.38232138e-03 5.90111537e-03 8.08524559e-03\n",
      " 7.29768297e-03 7.12132141e-03 4.70503089e-03 7.76362109e-03\n",
      " 9.17109542e-03 2.62110812e-01 1.43246249e-01 8.49039540e-03\n",
      " 5.72601130e-03 4.84792808e-03 2.38628192e-04 3.74280505e-04\n",
      " 3.14134625e-04 5.73292866e-04]\n",
      "mean_squared_error 4.4269086782429525\n",
      "root mean_squared_error 2.1040220241820076\n",
      "mean_absolute_error 1.6323385618789699\n",
      "r2_score 0.7396169137015611\n"
     ]
    },
    {
     "name": "stderr",
     "output_type": "stream",
     "text": [
      "[Parallel(n_jobs=1)]: Done 300 out of 300 | elapsed:    0.2s finished\n"
     ]
    },
    {
     "data": {
      "text/html": [
       "<div>\n",
       "<style scoped>\n",
       "    .dataframe tbody tr th:only-of-type {\n",
       "        vertical-align: middle;\n",
       "    }\n",
       "\n",
       "    .dataframe tbody tr th {\n",
       "        vertical-align: top;\n",
       "    }\n",
       "\n",
       "    .dataframe thead th {\n",
       "        text-align: right;\n",
       "    }\n",
       "</style>\n",
       "<table border=\"1\" class=\"dataframe\">\n",
       "  <thead>\n",
       "    <tr style=\"text-align: right;\">\n",
       "      <th></th>\n",
       "      <th>t</th>\n",
       "      <th>t + 1</th>\n",
       "      <th>pred (t +1)</th>\n",
       "    </tr>\n",
       "  </thead>\n",
       "  <tbody>\n",
       "    <tr>\n",
       "      <th>0</th>\n",
       "      <td>39.4</td>\n",
       "      <td>40.6</td>\n",
       "      <td>39.724531</td>\n",
       "    </tr>\n",
       "    <tr>\n",
       "      <th>1</th>\n",
       "      <td>34.4</td>\n",
       "      <td>36.8</td>\n",
       "      <td>34.018093</td>\n",
       "    </tr>\n",
       "    <tr>\n",
       "      <th>2</th>\n",
       "      <td>38.6</td>\n",
       "      <td>40.6</td>\n",
       "      <td>38.894679</td>\n",
       "    </tr>\n",
       "    <tr>\n",
       "      <th>3</th>\n",
       "      <td>42.7</td>\n",
       "      <td>44.1</td>\n",
       "      <td>43.565805</td>\n",
       "    </tr>\n",
       "    <tr>\n",
       "      <th>4</th>\n",
       "      <td>36.7</td>\n",
       "      <td>35.6</td>\n",
       "      <td>38.158658</td>\n",
       "    </tr>\n",
       "    <tr>\n",
       "      <th>5</th>\n",
       "      <td>40.8</td>\n",
       "      <td>37.4</td>\n",
       "      <td>42.446601</td>\n",
       "    </tr>\n",
       "    <tr>\n",
       "      <th>6</th>\n",
       "      <td>36.7</td>\n",
       "      <td>36.0</td>\n",
       "      <td>37.666757</td>\n",
       "    </tr>\n",
       "    <tr>\n",
       "      <th>7</th>\n",
       "      <td>44.1</td>\n",
       "      <td>45.0</td>\n",
       "      <td>44.774786</td>\n",
       "    </tr>\n",
       "    <tr>\n",
       "      <th>8</th>\n",
       "      <td>39.9</td>\n",
       "      <td>39.8</td>\n",
       "      <td>39.235935</td>\n",
       "    </tr>\n",
       "    <tr>\n",
       "      <th>9</th>\n",
       "      <td>35.4</td>\n",
       "      <td>37.1</td>\n",
       "      <td>36.880780</td>\n",
       "    </tr>\n",
       "  </tbody>\n",
       "</table>\n",
       "</div>"
      ],
      "text/plain": [
       "      t  t + 1  pred (t +1)\n",
       "0  39.4   40.6    39.724531\n",
       "1  34.4   36.8    34.018093\n",
       "2  38.6   40.6    38.894679\n",
       "3  42.7   44.1    43.565805\n",
       "4  36.7   35.6    38.158658\n",
       "5  40.8   37.4    42.446601\n",
       "6  36.7   36.0    37.666757\n",
       "7  44.1   45.0    44.774786\n",
       "8  39.9   39.8    39.235935\n",
       "9  35.4   37.1    36.880780"
      ]
     },
     "execution_count": 44,
     "metadata": {},
     "output_type": "execute_result"
    }
   ],
   "source": [
    "regr = RandomForestRegressor(max_depth=12, random_state=0,verbose =1,\n",
    "                             n_estimators=300)\n",
    "regr.fit(xtrain, ytrain) \n",
    "print(regr.feature_importances_)\n",
    "ypred=regr.predict(xtest)\n",
    "\n",
    "import math\n",
    "print('mean_squared_error',mean_squared_error(ytest, ypred))\n",
    "print('root mean_squared_error',math.sqrt(mean_squared_error(ytest, ypred)))\n",
    "print('mean_absolute_error',mean_absolute_error(ytest, ypred))\n",
    "print('r2_score',r2_score(ytest, ypred))\n",
    "\n",
    "ypredPD=pd.DataFrame()\n",
    "ypredPD['t']=xtest['L190500_x'].values\n",
    "ypredPD['t + 1']=ytest.values\n",
    "ypredPD['pred (t +1)']=ypred\n",
    "ypredPD.head(10)"
   ]
  },
  {
   "cell_type": "code",
   "execution_count": 45,
   "metadata": {},
   "outputs": [
    {
     "data": {
      "image/png": "[encoded data removed]",
      "text/plain": [
       "<Figure size 432x288 with 1 Axes>"
      ]
     },
     "metadata": {
      "needs_background": "light"
     },
     "output_type": "display_data"
    },
    {
     "data": {
      "text/plain": [
       "<matplotlib.collections.PathCollection at 0x247e4dfbb70>"
      ]
     },
     "execution_count": 45,
     "metadata": {},
     "output_type": "execute_result"
    },
    {
     "data": {
      "image/png": "[encoded data removed]",
      "text/plain": [
       "<Figure size 432x288 with 1 Axes>"
      ]
     },
     "metadata": {
      "needs_background": "light"
     },
     "output_type": "display_data"
    }
   ],
   "source": [
    "ypredPD=ypredPD.sort_values(by=['t + 1'])\n",
    "plt.scatter(np.arange(0,ypredPD.shape[0],1),ypredPD['t + 1'][:ypredPD.shape[0]])\n",
    "plt.show()\n",
    "plt.scatter(np.arange(0,ypredPD.shape[0],1),ypredPD['pred (t +1)'][:ypredPD.shape[0]])"
   ]
  },
  {
   "cell_type": "markdown",
   "metadata": {},
   "source": [
    "10. L101300\n",
    "==============="
   ]
  },
  {
   "cell_type": "code",
   "execution_count": 58,
   "metadata": {},
   "outputs": [],
   "source": [
    "x=data[['AGE_x', 'SEX_x', 'L100700_x','L100800_x', 'L101300_x', 'L101600_x', 'L101700_x', 'L102900_x', 'L103000_x',\n",
    "       'L103100_x', 'L103300_x', 'L104600_x', 'L190300_x', 'L190400_x', 'L190500_x','S000300_x','S000501_x','S000502_x',\n",
    "        'CLASS_x','sbpG','dbpG','AgeG']]\n",
    "\n",
    "y=data[['AGE_y', 'SEX_y', 'L100700_y','L100800_y', 'L101300_y', 'L101600_y', 'L101700_y', 'L102900_y', 'L103000_y',\n",
    "       'L103100_y', 'L103300_y', 'L104600_y',  'L190300_y', 'L190400_y', 'L190500_y','S000300_y','S000501_y','S000502_y',\n",
    "        'CLASS_y']]\n",
    "\n",
    "ylable=y[['L101300_y']]  \n",
    "xtrain,xtest,ytrain,ytest=train_test_split(x, ylable, random_state=42, test_size=0.2)"
   ]
  },
  {
   "cell_type": "code",
   "execution_count": 59,
   "metadata": {},
   "outputs": [
    {
     "name": "stderr",
     "output_type": "stream",
     "text": [
      "[Parallel(n_jobs=1)]: Using backend SequentialBackend with 1 concurrent workers.\n",
      "[Parallel(n_jobs=1)]: Done 300 out of 300 | elapsed:   54.0s finished\n",
      "[Parallel(n_jobs=1)]: Using backend SequentialBackend with 1 concurrent workers.\n"
     ]
    },
    {
     "name": "stdout",
     "output_type": "stream",
     "text": [
      "[0.02796964 0.00720232 0.02687347 0.0271542  0.51297532 0.02591269\n",
      " 0.03362596 0.02555122 0.05017972 0.02721999 0.02689253 0.03666994\n",
      " 0.02259963 0.02248584 0.02560565 0.05087035 0.02044726 0.01732692\n",
      " 0.00161881 0.00230197 0.0019235  0.00659307]\n",
      "mean_squared_error 203.3634935807904\n",
      "root mean_squared_error 14.260557267540086\n",
      "mean_absolute_error 7.6642809280931985\n",
      "r2_score 0.3134494442854766\n"
     ]
    },
    {
     "name": "stderr",
     "output_type": "stream",
     "text": [
      "[Parallel(n_jobs=1)]: Done 300 out of 300 | elapsed:    0.2s finished\n"
     ]
    },
    {
     "data": {
      "text/html": [
       "<div>\n",
       "<style scoped>\n",
       "    .dataframe tbody tr th:only-of-type {\n",
       "        vertical-align: middle;\n",
       "    }\n",
       "\n",
       "    .dataframe tbody tr th {\n",
       "        vertical-align: top;\n",
       "    }\n",
       "\n",
       "    .dataframe thead th {\n",
       "        text-align: right;\n",
       "    }\n",
       "</style>\n",
       "<table border=\"1\" class=\"dataframe\">\n",
       "  <thead>\n",
       "    <tr style=\"text-align: right;\">\n",
       "      <th></th>\n",
       "      <th>t</th>\n",
       "      <th>t + 1</th>\n",
       "      <th>pred (t +1)</th>\n",
       "    </tr>\n",
       "  </thead>\n",
       "  <tbody>\n",
       "    <tr>\n",
       "      <th>0</th>\n",
       "      <td>13.0</td>\n",
       "      <td>16.0</td>\n",
       "      <td>14.006891</td>\n",
       "    </tr>\n",
       "    <tr>\n",
       "      <th>1</th>\n",
       "      <td>10.0</td>\n",
       "      <td>17.0</td>\n",
       "      <td>11.827084</td>\n",
       "    </tr>\n",
       "    <tr>\n",
       "      <th>2</th>\n",
       "      <td>13.0</td>\n",
       "      <td>16.0</td>\n",
       "      <td>16.001394</td>\n",
       "    </tr>\n",
       "    <tr>\n",
       "      <th>3</th>\n",
       "      <td>11.0</td>\n",
       "      <td>17.0</td>\n",
       "      <td>16.314954</td>\n",
       "    </tr>\n",
       "    <tr>\n",
       "      <th>4</th>\n",
       "      <td>10.0</td>\n",
       "      <td>11.0</td>\n",
       "      <td>13.104423</td>\n",
       "    </tr>\n",
       "    <tr>\n",
       "      <th>5</th>\n",
       "      <td>23.0</td>\n",
       "      <td>24.0</td>\n",
       "      <td>25.972473</td>\n",
       "    </tr>\n",
       "    <tr>\n",
       "      <th>6</th>\n",
       "      <td>19.0</td>\n",
       "      <td>14.0</td>\n",
       "      <td>22.321140</td>\n",
       "    </tr>\n",
       "    <tr>\n",
       "      <th>7</th>\n",
       "      <td>66.0</td>\n",
       "      <td>41.0</td>\n",
       "      <td>51.978331</td>\n",
       "    </tr>\n",
       "    <tr>\n",
       "      <th>8</th>\n",
       "      <td>11.0</td>\n",
       "      <td>9.0</td>\n",
       "      <td>13.784083</td>\n",
       "    </tr>\n",
       "    <tr>\n",
       "      <th>9</th>\n",
       "      <td>22.0</td>\n",
       "      <td>26.0</td>\n",
       "      <td>20.476503</td>\n",
       "    </tr>\n",
       "  </tbody>\n",
       "</table>\n",
       "</div>"
      ],
      "text/plain": [
       "      t  t + 1  pred (t +1)\n",
       "0  13.0   16.0    14.006891\n",
       "1  10.0   17.0    11.827084\n",
       "2  13.0   16.0    16.001394\n",
       "3  11.0   17.0    16.314954\n",
       "4  10.0   11.0    13.104423\n",
       "5  23.0   24.0    25.972473\n",
       "6  19.0   14.0    22.321140\n",
       "7  66.0   41.0    51.978331\n",
       "8  11.0    9.0    13.784083\n",
       "9  22.0   26.0    20.476503"
      ]
     },
     "execution_count": 59,
     "metadata": {},
     "output_type": "execute_result"
    }
   ],
   "source": [
    "regr = RandomForestRegressor(max_depth=12, random_state=0,verbose =1,\n",
    "                             n_estimators=300)\n",
    "regr.fit(xtrain, ytrain) \n",
    "print(regr.feature_importances_)\n",
    "ypred=regr.predict(xtest)\n",
    "\n",
    "import math\n",
    "print('mean_squared_error',mean_squared_error(ytest, ypred))\n",
    "print('root mean_squared_error',math.sqrt(mean_squared_error(ytest, ypred)))\n",
    "print('mean_absolute_error',mean_absolute_error(ytest, ypred))\n",
    "print('r2_score',r2_score(ytest, ypred))\n",
    "\n",
    "ypredPD=pd.DataFrame()\n",
    "ypredPD['t']=xtest['L101300_x'].values\n",
    "ypredPD['t + 1']=ytest.values\n",
    "ypredPD['pred (t +1)']=ypred\n",
    "ypredPD.head(10)"
   ]
  },
  {
   "cell_type": "code",
   "execution_count": 60,
   "metadata": {},
   "outputs": [
    {
     "data": {
      "image/png": "[encoded data removed]",
      "text/plain": [
       "<Figure size 432x288 with 1 Axes>"
      ]
     },
     "metadata": {
      "needs_background": "light"
     },
     "output_type": "display_data"
    },
    {
     "data": {
      "text/plain": [
       "<matplotlib.collections.PathCollection at 0x247e4dc9d30>"
      ]
     },
     "execution_count": 60,
     "metadata": {},
     "output_type": "execute_result"
    },
    {
     "data": {
      "image/png": "[encoded data removed]",
      "text/plain": [
       "<Figure size 432x288 with 1 Axes>"
      ]
     },
     "metadata": {
      "needs_background": "light"
     },
     "output_type": "display_data"
    }
   ],
   "source": [
    "ypredPD=ypredPD.sort_values(by=['t + 1'])\n",
    "plt.scatter(np.arange(0,ypredPD.shape[0],1),ypredPD['t + 1'][:ypredPD.shape[0]])\n",
    "plt.show()\n",
    "plt.scatter(np.arange(0,ypredPD.shape[0],1),ypredPD['pred (t +1)'][:ypredPD.shape[0]])"
   ]
  },
  {
   "cell_type": "markdown",
   "metadata": {},
   "source": [
    "11. L190300\n",
    "============="
   ]
  },
  {
   "cell_type": "code",
   "execution_count": 61,
   "metadata": {},
   "outputs": [],
   "source": [
    "y=data[['AGE_y', 'SEX_y', 'L100700_y','L100800_y', 'L101300_y', 'L101600_y', 'L101700_y', 'L102900_y', 'L103000_y',\n",
    "       'L103100_y', 'L103300_y', 'L104600_y',  'L190300_y', 'L190400_y', 'L190500_y','S000300_y','S000501_y','S000502_y',\n",
    "        'CLASS_y']]\n",
    "\n",
    "ylable=y[['L190300_y']]  \n",
    "xtrain,xtest,ytrain,ytest=train_test_split(x, ylable, random_state=42, test_size=0.2)"
   ]
  },
  {
   "cell_type": "code",
   "execution_count": 50,
   "metadata": {},
   "outputs": [
    {
     "name": "stderr",
     "output_type": "stream",
     "text": [
      "[Parallel(n_jobs=1)]: Using backend SequentialBackend with 1 concurrent workers.\n",
      "[Parallel(n_jobs=1)]: Done 300 out of 300 | elapsed:   53.9s finished\n",
      "[Parallel(n_jobs=1)]: Using backend SequentialBackend with 1 concurrent workers.\n"
     ]
    },
    {
     "name": "stdout",
     "output_type": "stream",
     "text": [
      "[5.73558188e-03 2.58033540e-02 6.95171810e-03 6.37226409e-03\n",
      " 5.47881793e-03 6.96165381e-03 5.35786579e-03 7.14631727e-03\n",
      " 7.26520264e-03 7.56349886e-03 4.59201507e-03 6.38688470e-03\n",
      " 8.64697008e-01 6.16850754e-03 1.35515040e-02 8.93387376e-03\n",
      " 5.36321044e-03 4.25695380e-03 2.57817354e-04 2.94813562e-04\n",
      " 2.74581905e-04 5.86555590e-04]\n",
      "mean_squared_error 0.048298226939244744\n",
      "root mean_squared_error 0.21976857586844564\n",
      "mean_absolute_error 0.17179220000153772\n",
      "r2_score 0.7537470600019948\n"
     ]
    },
    {
     "name": "stderr",
     "output_type": "stream",
     "text": [
      "[Parallel(n_jobs=1)]: Done 300 out of 300 | elapsed:    0.2s finished\n"
     ]
    },
    {
     "data": {
      "text/html": [
       "<div>\n",
       "<style scoped>\n",
       "    .dataframe tbody tr th:only-of-type {\n",
       "        vertical-align: middle;\n",
       "    }\n",
       "\n",
       "    .dataframe tbody tr th {\n",
       "        vertical-align: top;\n",
       "    }\n",
       "\n",
       "    .dataframe thead th {\n",
       "        text-align: right;\n",
       "    }\n",
       "</style>\n",
       "<table border=\"1\" class=\"dataframe\">\n",
       "  <thead>\n",
       "    <tr style=\"text-align: right;\">\n",
       "      <th></th>\n",
       "      <th>t</th>\n",
       "      <th>t + 1</th>\n",
       "      <th>pred (t +1)</th>\n",
       "    </tr>\n",
       "  </thead>\n",
       "  <tbody>\n",
       "    <tr>\n",
       "      <th>0</th>\n",
       "      <td>4.59</td>\n",
       "      <td>4.42</td>\n",
       "      <td>4.464262</td>\n",
       "    </tr>\n",
       "    <tr>\n",
       "      <th>1</th>\n",
       "      <td>3.93</td>\n",
       "      <td>4.16</td>\n",
       "      <td>4.026421</td>\n",
       "    </tr>\n",
       "    <tr>\n",
       "      <th>2</th>\n",
       "      <td>4.22</td>\n",
       "      <td>4.38</td>\n",
       "      <td>4.248923</td>\n",
       "    </tr>\n",
       "    <tr>\n",
       "      <th>3</th>\n",
       "      <td>4.45</td>\n",
       "      <td>4.59</td>\n",
       "      <td>4.503423</td>\n",
       "    </tr>\n",
       "    <tr>\n",
       "      <th>4</th>\n",
       "      <td>3.88</td>\n",
       "      <td>3.77</td>\n",
       "      <td>3.979238</td>\n",
       "    </tr>\n",
       "    <tr>\n",
       "      <th>5</th>\n",
       "      <td>4.42</td>\n",
       "      <td>4.29</td>\n",
       "      <td>4.571162</td>\n",
       "    </tr>\n",
       "    <tr>\n",
       "      <th>6</th>\n",
       "      <td>4.14</td>\n",
       "      <td>3.91</td>\n",
       "      <td>4.240958</td>\n",
       "    </tr>\n",
       "    <tr>\n",
       "      <th>7</th>\n",
       "      <td>5.00</td>\n",
       "      <td>4.89</td>\n",
       "      <td>4.949077</td>\n",
       "    </tr>\n",
       "    <tr>\n",
       "      <th>8</th>\n",
       "      <td>4.20</td>\n",
       "      <td>4.19</td>\n",
       "      <td>4.158549</td>\n",
       "    </tr>\n",
       "    <tr>\n",
       "      <th>9</th>\n",
       "      <td>3.80</td>\n",
       "      <td>4.01</td>\n",
       "      <td>3.973996</td>\n",
       "    </tr>\n",
       "  </tbody>\n",
       "</table>\n",
       "</div>"
      ],
      "text/plain": [
       "      t  t + 1  pred (t +1)\n",
       "0  4.59   4.42     4.464262\n",
       "1  3.93   4.16     4.026421\n",
       "2  4.22   4.38     4.248923\n",
       "3  4.45   4.59     4.503423\n",
       "4  3.88   3.77     3.979238\n",
       "5  4.42   4.29     4.571162\n",
       "6  4.14   3.91     4.240958\n",
       "7  5.00   4.89     4.949077\n",
       "8  4.20   4.19     4.158549\n",
       "9  3.80   4.01     3.973996"
      ]
     },
     "execution_count": 50,
     "metadata": {},
     "output_type": "execute_result"
    }
   ],
   "source": [
    "regr = RandomForestRegressor(max_depth=12, random_state=0,verbose =1,\n",
    "                             n_estimators=300)\n",
    "regr.fit(xtrain, ytrain) \n",
    "print(regr.feature_importances_)\n",
    "ypred=regr.predict(xtest)\n",
    "\n",
    "import math\n",
    "print('mean_squared_error',mean_squared_error(ytest, ypred))\n",
    "print('root mean_squared_error',math.sqrt(mean_squared_error(ytest, ypred)))\n",
    "print('mean_absolute_error',mean_absolute_error(ytest, ypred))\n",
    "print('r2_score',r2_score(ytest, ypred))\n",
    "\n",
    "ypredPD=pd.DataFrame()\n",
    "ypredPD['t']=xtest['L190300_x'].values\n",
    "ypredPD['t + 1']=ytest.values\n",
    "ypredPD['pred (t +1)']=ypred\n",
    "ypredPD.head(10)"
   ]
  },
  {
   "cell_type": "code",
   "execution_count": 51,
   "metadata": {},
   "outputs": [
    {
     "data": {
      "image/png": "[encoded data removed]",
      "text/plain": [
       "<Figure size 432x288 with 1 Axes>"
      ]
     },
     "metadata": {
      "needs_background": "light"
     },
     "output_type": "display_data"
    },
    {
     "data": {
      "text/plain": [
       "<matplotlib.collections.PathCollection at 0x247e4ebe080>"
      ]
     },
     "execution_count": 51,
     "metadata": {},
     "output_type": "execute_result"
    },
    {
     "data": {
      "image/png": "[encoded data removed]",
      "text/plain": [
       "<Figure size 432x288 with 1 Axes>"
      ]
     },
     "metadata": {
      "needs_background": "light"
     },
     "output_type": "display_data"
    }
   ],
   "source": [
    "ypredPD=ypredPD.sort_values(by=['t + 1'])\n",
    "plt.scatter(np.arange(0,ypredPD.shape[0],1),ypredPD['t + 1'][:ypredPD.shape[0]])\n",
    "plt.show()\n",
    "plt.scatter(np.arange(0,ypredPD.shape[0],1),ypredPD['pred (t +1)'][:ypredPD.shape[0]])"
   ]
  },
  {
   "cell_type": "markdown",
   "metadata": {},
   "source": [
    "12. L103100\n",
    "=========="
   ]
  },
  {
   "cell_type": "code",
   "execution_count": 52,
   "metadata": {},
   "outputs": [],
   "source": [
    "y=data[['AGE_y', 'SEX_y', 'L100700_y','L100800_y', 'L101300_y', 'L101600_y', 'L101700_y', 'L102900_y', 'L103000_y',\n",
    "       'L103100_y', 'L103300_y', 'L104600_y',  'L190300_y', 'L190400_y', 'L190500_y','S000300_y','S000501_y','S000502_y',\n",
    "        'CLASS_y']]\n",
    "\n",
    "ylable=y[['L103100_y']]  \n",
    "xtrain,xtest,ytrain,ytest=train_test_split(x, ylable, random_state=42, test_size=0.2)"
   ]
  },
  {
   "cell_type": "code",
   "execution_count": 53,
   "metadata": {},
   "outputs": [
    {
     "name": "stderr",
     "output_type": "stream",
     "text": [
      "[Parallel(n_jobs=1)]: Using backend SequentialBackend with 1 concurrent workers.\n",
      "[Parallel(n_jobs=1)]: Done 300 out of 300 | elapsed:   55.2s finished\n",
      "[Parallel(n_jobs=1)]: Using backend SequentialBackend with 1 concurrent workers.\n"
     ]
    },
    {
     "name": "stdout",
     "output_type": "stream",
     "text": [
      "[1.05256277e-02 9.93872214e-04 1.55206725e-02 1.12561774e-02\n",
      " 9.94994503e-03 1.75705748e-02 1.19222030e-02 1.07949438e-02\n",
      " 1.51538598e-02 8.05274687e-01 7.80393039e-03 1.49306270e-02\n",
      " 1.53205944e-02 8.39546499e-03 1.05750776e-02 1.42184690e-02\n",
      " 9.08045819e-03 8.26377142e-03 4.40880716e-04 5.39940217e-04\n",
      " 4.55668460e-04 1.01255425e-03]\n",
      "mean_squared_error 73.82838857873718\n",
      "root mean_squared_error 8.592344766054094\n",
      "mean_absolute_error 6.496606060771483\n",
      "r2_score 0.6434069350545935\n"
     ]
    },
    {
     "name": "stderr",
     "output_type": "stream",
     "text": [
      "[Parallel(n_jobs=1)]: Done 300 out of 300 | elapsed:    0.2s finished\n"
     ]
    },
    {
     "data": {
      "text/html": [
       "<div>\n",
       "<style scoped>\n",
       "    .dataframe tbody tr th:only-of-type {\n",
       "        vertical-align: middle;\n",
       "    }\n",
       "\n",
       "    .dataframe tbody tr th {\n",
       "        vertical-align: top;\n",
       "    }\n",
       "\n",
       "    .dataframe thead th {\n",
       "        text-align: right;\n",
       "    }\n",
       "</style>\n",
       "<table border=\"1\" class=\"dataframe\">\n",
       "  <thead>\n",
       "    <tr style=\"text-align: right;\">\n",
       "      <th></th>\n",
       "      <th>t</th>\n",
       "      <th>t + 1</th>\n",
       "      <th>pred (t +1)</th>\n",
       "    </tr>\n",
       "  </thead>\n",
       "  <tbody>\n",
       "    <tr>\n",
       "      <th>0</th>\n",
       "      <td>59.0</td>\n",
       "      <td>59.0</td>\n",
       "      <td>60.286472</td>\n",
       "    </tr>\n",
       "    <tr>\n",
       "      <th>1</th>\n",
       "      <td>53.0</td>\n",
       "      <td>51.0</td>\n",
       "      <td>57.092566</td>\n",
       "    </tr>\n",
       "    <tr>\n",
       "      <th>2</th>\n",
       "      <td>60.0</td>\n",
       "      <td>94.0</td>\n",
       "      <td>61.474478</td>\n",
       "    </tr>\n",
       "    <tr>\n",
       "      <th>3</th>\n",
       "      <td>45.0</td>\n",
       "      <td>43.0</td>\n",
       "      <td>48.140888</td>\n",
       "    </tr>\n",
       "    <tr>\n",
       "      <th>4</th>\n",
       "      <td>74.0</td>\n",
       "      <td>85.0</td>\n",
       "      <td>76.865268</td>\n",
       "    </tr>\n",
       "    <tr>\n",
       "      <th>5</th>\n",
       "      <td>39.0</td>\n",
       "      <td>35.0</td>\n",
       "      <td>41.716021</td>\n",
       "    </tr>\n",
       "    <tr>\n",
       "      <th>6</th>\n",
       "      <td>49.0</td>\n",
       "      <td>66.0</td>\n",
       "      <td>55.119286</td>\n",
       "    </tr>\n",
       "    <tr>\n",
       "      <th>7</th>\n",
       "      <td>48.0</td>\n",
       "      <td>58.0</td>\n",
       "      <td>48.308586</td>\n",
       "    </tr>\n",
       "    <tr>\n",
       "      <th>8</th>\n",
       "      <td>50.0</td>\n",
       "      <td>55.0</td>\n",
       "      <td>55.148754</td>\n",
       "    </tr>\n",
       "    <tr>\n",
       "      <th>9</th>\n",
       "      <td>55.0</td>\n",
       "      <td>55.0</td>\n",
       "      <td>55.726134</td>\n",
       "    </tr>\n",
       "  </tbody>\n",
       "</table>\n",
       "</div>"
      ],
      "text/plain": [
       "      t  t + 1  pred (t +1)\n",
       "0  59.0   59.0    60.286472\n",
       "1  53.0   51.0    57.092566\n",
       "2  60.0   94.0    61.474478\n",
       "3  45.0   43.0    48.140888\n",
       "4  74.0   85.0    76.865268\n",
       "5  39.0   35.0    41.716021\n",
       "6  49.0   66.0    55.119286\n",
       "7  48.0   58.0    48.308586\n",
       "8  50.0   55.0    55.148754\n",
       "9  55.0   55.0    55.726134"
      ]
     },
     "execution_count": 53,
     "metadata": {},
     "output_type": "execute_result"
    }
   ],
   "source": [
    "regr = RandomForestRegressor(max_depth=12, random_state=0,verbose =1,\n",
    "                             n_estimators=300)\n",
    "regr.fit(xtrain, ytrain) \n",
    "print(regr.feature_importances_)\n",
    "ypred=regr.predict(xtest)\n",
    "\n",
    "import math\n",
    "print('mean_squared_error',mean_squared_error(ytest, ypred))\n",
    "print('root mean_squared_error',math.sqrt(mean_squared_error(ytest, ypred)))\n",
    "print('mean_absolute_error',mean_absolute_error(ytest, ypred))\n",
    "print('r2_score',r2_score(ytest, ypred))\n",
    "\n",
    "ypredPD=pd.DataFrame()\n",
    "ypredPD['t']=xtest['L103100_x'].values\n",
    "ypredPD['t + 1']=ytest.values\n",
    "ypredPD['pred (t +1)']=ypred\n",
    "ypredPD.head(10)"
   ]
  },
  {
   "cell_type": "code",
   "execution_count": 54,
   "metadata": {},
   "outputs": [
    {
     "data": {
      "image/png": "[encoded data removed]",
      "text/plain": [
       "<Figure size 432x288 with 1 Axes>"
      ]
     },
     "metadata": {
      "needs_background": "light"
     },
     "output_type": "display_data"
    },
    {
     "data": {
      "text/plain": [
       "<matplotlib.collections.PathCollection at 0x247e4f29588>"
      ]
     },
     "execution_count": 54,
     "metadata": {},
     "output_type": "execute_result"
    },
    {
     "data": {
      "image/png": "[encoded data removed]",
      "text/plain": [
       "<Figure size 432x288 with 1 Axes>"
      ]
     },
     "metadata": {
      "needs_background": "light"
     },
     "output_type": "display_data"
    }
   ],
   "source": [
    "ypredPD=ypredPD.sort_values(by=['t + 1'])\n",
    "plt.scatter(np.arange(0,ypredPD.shape[0],1),ypredPD['t + 1'][:ypredPD.shape[0]])\n",
    "plt.show()\n",
    "plt.scatter(np.arange(0,ypredPD.shape[0],1),ypredPD['pred (t +1)'][:ypredPD.shape[0]])"
   ]
  },
  {
   "cell_type": "code",
   "execution_count": null,
   "metadata": {},
   "outputs": [],
   "source": []
  },
  {
   "cell_type": "code",
   "execution_count": null,
   "metadata": {},
   "outputs": [],
   "source": []
  },
  {
   "cell_type": "code",
   "execution_count": null,
   "metadata": {},
   "outputs": [],
   "source": []
  }
 ],
 "metadata": {
  "kernelspec": {
   "display_name": "Python 3",
   "language": "python",
   "name": "python3"
  },
  "language_info": {
   "codemirror_mode": {
    "name": "ipython",
    "version": 3
   },
   "file_extension": ".py",
   "mimetype": "text/x-python",
   "name": "python",
   "nbconvert_exporter": "python",
   "pygments_lexer": "ipython3",
   "version": "3.7.3"
  }
 },
 "nbformat": 4,
 "nbformat_minor": 2
}

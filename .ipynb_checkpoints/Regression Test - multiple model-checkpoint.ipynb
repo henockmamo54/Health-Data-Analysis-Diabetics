{
 "cells": [
  {
   "cell_type": "code",
   "execution_count": 1,
   "metadata": {},
   "outputs": [
    {
     "name": "stderr",
     "output_type": "stream",
     "text": [
      "Using TensorFlow backend.\n"
     ]
    }
   ],
   "source": [
    "from matplotlib import pyplot as plt\n",
    "import pandas as pd \n",
    "import numpy as np\n",
    "import warnings\n",
    "warnings.filterwarnings('ignore')\n",
    "from scipy import stats\n",
    "from sklearn.utils import shuffle\n",
    "from sklearn.preprocessing import LabelEncoder\n",
    "from sklearn.metrics import confusion_matrix \n",
    "from sklearn.utils import shuffle\n",
    "from sklearn.ensemble import RandomForestRegressor\n",
    "from sklearn.datasets import make_regression\n",
    "from sklearn.model_selection import train_test_split\n",
    "from sklearn.metrics import mean_absolute_error\n",
    "from sklearn.metrics import mean_squared_error\n",
    "from sklearn.metrics import mean_absolute_error\n",
    "from sklearn.metrics import r2_score\n",
    "from keras.models import Sequential\n",
    "from keras.layers import Dense\n",
    "from keras.wrappers.scikit_learn import KerasRegressor\n",
    "from sklearn.model_selection import cross_val_score\n",
    "from sklearn.model_selection import KFold\n",
    "from sklearn.preprocessing import StandardScaler\n",
    "from sklearn.pipeline import Pipeline\n",
    "from keras.layers import Dropout\n",
    "from keras.layers import BatchNormalization\n",
    "from keras.models import model_from_json\n",
    "from keras.utils import multi_gpu_model \n",
    "from keras.utils import to_categorical\n"
   ]
  },
  {
   "cell_type": "markdown",
   "metadata": {},
   "source": [
    "Read the data\n",
    "==========="
   ]
  },
  {
   "cell_type": "code",
   "execution_count": 2,
   "metadata": {},
   "outputs": [
    {
     "name": "stdout",
     "output_type": "stream",
     "text": [
      "(159741, 26)\n",
      "(159741, 26)\n"
     ]
    }
   ],
   "source": [
    "x=pd.read_csv('_xlable4_withNa.txt')\n",
    "y=pd.read_csv('_targelable4_withNa.txt')\n",
    "\n",
    "print(x.shape)\n",
    "print(y.shape)"
   ]
  },
  {
   "cell_type": "markdown",
   "metadata": {},
   "source": [
    "Prepare the data\n",
    "============"
   ]
  },
  {
   "cell_type": "code",
   "execution_count": 3,
   "metadata": {},
   "outputs": [],
   "source": [
    "df=x.copy()\n",
    "conditions = [\n",
    "    (df.S000501 < 120)  ,\n",
    "    (df.S000501 >= 120) & (df.S000501 < 130),\n",
    "    (df.S000501 >=130)]\n",
    "choices = [0,1,2]\n",
    "df['sbpG'] = np.select(conditions, choices, default=0)\n",
    "df.head()\n",
    "x=df.copy()\n",
    "\n",
    "conditions2 = [\n",
    "    (df.S000502 < 80)  ,\n",
    "    (df.S000502 >= 80) & (df.S000502 < 90),\n",
    "    (df.S000502 >=90)]\n",
    "choices2 = [0,1,2]\n",
    "df['dbpG'] = np.select(conditions2, choices2, default=0)\n",
    "df.head()\n",
    "x=df.copy()\n",
    "\n",
    "\n",
    "\n",
    "conditions3 = [\n",
    "    (df.AGE < 30)  ,\n",
    "    (df.AGE >= 30) & (df.AGE < 40),\n",
    "    (df.AGE >= 40) & (df.AGE < 50),\n",
    "    (df.AGE >= 50) & (df.AGE < 60),\n",
    "    (df.AGE >= 60)]\n",
    "choices3 = [0,1,2,3,4]\n",
    "df['AgeG'] = np.select(conditions3, choices3, default=0)\n",
    "df.head()\n",
    "x=df.copy()"
   ]
  },
  {
   "cell_type": "code",
   "execution_count": 4,
   "metadata": {},
   "outputs": [
    {
     "name": "stdout",
     "output_type": "stream",
     "text": [
      "(42628, 55)\n"
     ]
    }
   ],
   "source": [
    "data= pd.merge(x,y, how='inner',left_on=['Unnamed: 0'], right_on=['Unnamed: 0'])\n",
    "data=data.dropna(). reset_index()\n",
    "\n",
    "# data=data[data.AGE_x >= 40]\n",
    "# data=data[data.AGE_x < 50]\n",
    "\n",
    "# data=data[data.CLASS_x==0]\n",
    "# data=data[data.sbpG==0]\n",
    "# data=data[data.dbpG==0]\n",
    "\n",
    "print(data.shape)"
   ]
  },
  {
   "cell_type": "code",
   "execution_count": 5,
   "metadata": {},
   "outputs": [
    {
     "name": "stdout",
     "output_type": "stream",
     "text": [
      "(42628, 55)\n",
      "Index(['index', 'Unnamed: 0', 'index_x', 'FIELD_1_x', 'FIELD_2_x', 'COMPARE_x',\n",
      "       'AGE_x', 'B_DAY_x', 'SEX_x', 'L100700_x', 'L100800_x', 'L101300_x',\n",
      "       'L101600_x', 'L101700_x', 'L102900_x', 'L103000_x', 'L103100_x',\n",
      "       'L103300_x', 'L104600_x', 'L190300_x', 'L190400_x', 'L190500_x',\n",
      "       'S000300_x', 'S000501_x', 'S000502_x', 'CLASS_x', 'Year_x', 'sbpG',\n",
      "       'dbpG', 'AgeG', 'index_y', 'FIELD_1_y', 'FIELD_2_y', 'COMPARE_y',\n",
      "       'AGE_y', 'B_DAY_y', 'SEX_y', 'L100700_y', 'L100800_y', 'L101300_y',\n",
      "       'L101600_y', 'L101700_y', 'L102900_y', 'L103000_y', 'L103100_y',\n",
      "       'L103300_y', 'L104600_y', 'L190300_y', 'L190400_y', 'L190500_y',\n",
      "       'S000300_y', 'S000501_y', 'S000502_y', 'CLASS_y', 'Year_y'],\n",
      "      dtype='object')\n"
     ]
    },
    {
     "data": {
      "text/html": [
       "<div>\n",
       "<style scoped>\n",
       "    .dataframe tbody tr th:only-of-type {\n",
       "        vertical-align: middle;\n",
       "    }\n",
       "\n",
       "    .dataframe tbody tr th {\n",
       "        vertical-align: top;\n",
       "    }\n",
       "\n",
       "    .dataframe thead th {\n",
       "        text-align: right;\n",
       "    }\n",
       "</style>\n",
       "<table border=\"1\" class=\"dataframe\">\n",
       "  <thead>\n",
       "    <tr style=\"text-align: right;\">\n",
       "      <th></th>\n",
       "      <th>index</th>\n",
       "      <th>Unnamed: 0</th>\n",
       "      <th>index_x</th>\n",
       "      <th>FIELD_1_x</th>\n",
       "      <th>FIELD_2_x</th>\n",
       "      <th>COMPARE_x</th>\n",
       "      <th>AGE_x</th>\n",
       "      <th>B_DAY_x</th>\n",
       "      <th>SEX_x</th>\n",
       "      <th>L100700_x</th>\n",
       "      <th>...</th>\n",
       "      <th>L103300_y</th>\n",
       "      <th>L104600_y</th>\n",
       "      <th>L190300_y</th>\n",
       "      <th>L190400_y</th>\n",
       "      <th>L190500_y</th>\n",
       "      <th>S000300_y</th>\n",
       "      <th>S000501_y</th>\n",
       "      <th>S000502_y</th>\n",
       "      <th>CLASS_y</th>\n",
       "      <th>Year_y</th>\n",
       "    </tr>\n",
       "  </thead>\n",
       "  <tbody>\n",
       "    <tr>\n",
       "      <th>0</th>\n",
       "      <td>2</td>\n",
       "      <td>2</td>\n",
       "      <td>357040.0</td>\n",
       "      <td>64.0</td>\n",
       "      <td>20150904.0</td>\n",
       "      <td>6.420151e+09</td>\n",
       "      <td>46.0</td>\n",
       "      <td>690507.0</td>\n",
       "      <td>1.0</td>\n",
       "      <td>3.8</td>\n",
       "      <td>...</td>\n",
       "      <td>3.3</td>\n",
       "      <td>4.89</td>\n",
       "      <td>3.82</td>\n",
       "      <td>11.2</td>\n",
       "      <td>34.6</td>\n",
       "      <td>21.0</td>\n",
       "      <td>129.0</td>\n",
       "      <td>78.0</td>\n",
       "      <td>0.0</td>\n",
       "      <td>2016.0</td>\n",
       "    </tr>\n",
       "    <tr>\n",
       "      <th>1</th>\n",
       "      <td>5</td>\n",
       "      <td>5</td>\n",
       "      <td>184393.0</td>\n",
       "      <td>323.0</td>\n",
       "      <td>20150917.0</td>\n",
       "      <td>3.232015e+10</td>\n",
       "      <td>52.0</td>\n",
       "      <td>630314.0</td>\n",
       "      <td>1.0</td>\n",
       "      <td>3.4</td>\n",
       "      <td>...</td>\n",
       "      <td>2.6</td>\n",
       "      <td>5.77</td>\n",
       "      <td>4.28</td>\n",
       "      <td>13.5</td>\n",
       "      <td>40.9</td>\n",
       "      <td>25.4</td>\n",
       "      <td>122.0</td>\n",
       "      <td>65.0</td>\n",
       "      <td>0.0</td>\n",
       "      <td>2016.0</td>\n",
       "    </tr>\n",
       "    <tr>\n",
       "      <th>2</th>\n",
       "      <td>9</td>\n",
       "      <td>9</td>\n",
       "      <td>415745.0</td>\n",
       "      <td>852.0</td>\n",
       "      <td>20150427.0</td>\n",
       "      <td>8.522015e+10</td>\n",
       "      <td>37.0</td>\n",
       "      <td>781215.0</td>\n",
       "      <td>1.0</td>\n",
       "      <td>3.9</td>\n",
       "      <td>...</td>\n",
       "      <td>3.0</td>\n",
       "      <td>5.91</td>\n",
       "      <td>4.12</td>\n",
       "      <td>12.5</td>\n",
       "      <td>37.8</td>\n",
       "      <td>22.5</td>\n",
       "      <td>105.0</td>\n",
       "      <td>68.0</td>\n",
       "      <td>0.0</td>\n",
       "      <td>2016.0</td>\n",
       "    </tr>\n",
       "    <tr>\n",
       "      <th>3</th>\n",
       "      <td>10</td>\n",
       "      <td>10</td>\n",
       "      <td>455748.0</td>\n",
       "      <td>981.0</td>\n",
       "      <td>20160803.0</td>\n",
       "      <td>9.812016e+10</td>\n",
       "      <td>39.0</td>\n",
       "      <td>771005.0</td>\n",
       "      <td>1.0</td>\n",
       "      <td>4.2</td>\n",
       "      <td>...</td>\n",
       "      <td>3.3</td>\n",
       "      <td>4.65</td>\n",
       "      <td>3.97</td>\n",
       "      <td>12.8</td>\n",
       "      <td>38.4</td>\n",
       "      <td>21.4</td>\n",
       "      <td>133.0</td>\n",
       "      <td>85.0</td>\n",
       "      <td>0.0</td>\n",
       "      <td>2017.0</td>\n",
       "    </tr>\n",
       "    <tr>\n",
       "      <th>4</th>\n",
       "      <td>15</td>\n",
       "      <td>15</td>\n",
       "      <td>107680.0</td>\n",
       "      <td>2113.0</td>\n",
       "      <td>20150311.0</td>\n",
       "      <td>2.113202e+11</td>\n",
       "      <td>59.0</td>\n",
       "      <td>560817.0</td>\n",
       "      <td>1.0</td>\n",
       "      <td>4.7</td>\n",
       "      <td>...</td>\n",
       "      <td>6.8</td>\n",
       "      <td>5.58</td>\n",
       "      <td>4.44</td>\n",
       "      <td>13.7</td>\n",
       "      <td>39.8</td>\n",
       "      <td>24.1</td>\n",
       "      <td>104.0</td>\n",
       "      <td>67.0</td>\n",
       "      <td>0.0</td>\n",
       "      <td>2016.0</td>\n",
       "    </tr>\n",
       "  </tbody>\n",
       "</table>\n",
       "<p>5 rows × 55 columns</p>\n",
       "</div>"
      ],
      "text/plain": [
       "   index  Unnamed: 0   index_x  FIELD_1_x   FIELD_2_x     COMPARE_x  AGE_x  \\\n",
       "0      2           2  357040.0       64.0  20150904.0  6.420151e+09   46.0   \n",
       "1      5           5  184393.0      323.0  20150917.0  3.232015e+10   52.0   \n",
       "2      9           9  415745.0      852.0  20150427.0  8.522015e+10   37.0   \n",
       "3     10          10  455748.0      981.0  20160803.0  9.812016e+10   39.0   \n",
       "4     15          15  107680.0     2113.0  20150311.0  2.113202e+11   59.0   \n",
       "\n",
       "    B_DAY_x  SEX_x  L100700_x  ...  L103300_y  L104600_y  L190300_y  \\\n",
       "0  690507.0    1.0        3.8  ...        3.3       4.89       3.82   \n",
       "1  630314.0    1.0        3.4  ...        2.6       5.77       4.28   \n",
       "2  781215.0    1.0        3.9  ...        3.0       5.91       4.12   \n",
       "3  771005.0    1.0        4.2  ...        3.3       4.65       3.97   \n",
       "4  560817.0    1.0        4.7  ...        6.8       5.58       4.44   \n",
       "\n",
       "   L190400_y  L190500_y  S000300_y  S000501_y  S000502_y  CLASS_y  Year_y  \n",
       "0       11.2       34.6       21.0      129.0       78.0      0.0  2016.0  \n",
       "1       13.5       40.9       25.4      122.0       65.0      0.0  2016.0  \n",
       "2       12.5       37.8       22.5      105.0       68.0      0.0  2016.0  \n",
       "3       12.8       38.4       21.4      133.0       85.0      0.0  2017.0  \n",
       "4       13.7       39.8       24.1      104.0       67.0      0.0  2016.0  \n",
       "\n",
       "[5 rows x 55 columns]"
      ]
     },
     "execution_count": 5,
     "metadata": {},
     "output_type": "execute_result"
    }
   ],
   "source": [
    "print(data.shape)\n",
    "print(data.columns)\n",
    "data.head()"
   ]
  },
  {
   "cell_type": "code",
   "execution_count": 6,
   "metadata": {},
   "outputs": [],
   "source": [
    "x=data[['AGE_x', 'SEX_x', 'L100700_x','L100800_x', 'L101300_x', 'L101600_x', 'L101700_x', 'L102900_x', 'L103000_x',\n",
    "       'L103100_x', 'L103300_x', 'L104600_x',  'L190300_x', 'L190400_x', 'L190500_x','S000300_x','S000501_x','S000502_x',\n",
    "        'CLASS_x','sbpG','dbpG','AgeG']]\n",
    "\n",
    "y=data[['AGE_y', 'SEX_y', 'L100700_y','L100800_y', 'L101300_y', 'L101600_y', 'L101700_y', 'L102900_y', 'L103000_y',\n",
    "       'L103100_y', 'L103300_y', 'L104600_y',   'L190300_y', 'L190400_y', 'L190500_y','S000300_y','S000501_y','S000502_y',\n",
    "        'CLASS_y']]"
   ]
  },
  {
   "cell_type": "markdown",
   "metadata": {},
   "source": [
    "Check the correlation of the selected feature with the independent variables\n",
    "====="
   ]
  },
  {
   "cell_type": "code",
   "execution_count": 7,
   "metadata": {},
   "outputs": [],
   "source": [
    "temppd=pd.DataFrame(x.copy())\n",
    "temppd['y']=y[['S000501_y']]  \n",
    "temppd.head()\n",
    "corval=abs(temppd.corr()).sort_values(by='y')"
   ]
  },
  {
   "cell_type": "code",
   "execution_count": 8,
   "metadata": {},
   "outputs": [
    {
     "data": {
      "text/plain": [
       "AgeG         0.129051\n",
       "AGE_x        0.136618\n",
       "L104600_x    0.151693\n",
       "L102900_x    0.177621\n",
       "L101600_x    0.189931\n",
       "L103100_x    0.212449\n",
       "CLASS_x      0.224284\n",
       "L101300_x    0.224760\n",
       "L101700_x    0.248863\n",
       "L100800_x    0.249280\n",
       "L103000_x    0.255600\n",
       "L103300_x    0.280773\n",
       "L100700_x    0.339409\n",
       "L190500_x    0.342259\n",
       "L190400_x    0.348337\n",
       "L190300_x    0.350621\n",
       "SEX_x        0.370599\n",
       "S000300_x    0.431329\n",
       "dbpG         0.469292\n",
       "S000502_x    0.576203\n",
       "sbpG         0.589032\n",
       "S000501_x    0.667056\n",
       "y            1.000000\n",
       "Name: y, dtype: float64"
      ]
     },
     "execution_count": 8,
     "metadata": {},
     "output_type": "execute_result"
    }
   ],
   "source": [
    "corval.y"
   ]
  },
  {
   "cell_type": "code",
   "execution_count": 9,
   "metadata": {},
   "outputs": [],
   "source": [
    "#histogram plot of the features\n",
    "# import matplotlib.pyplot as plt\n",
    "# x[x.dtypes[(x.dtypes==\"float64\")|(x.dtypes==\"int64\")]\n",
    "#                         .index.values].hist(figsize=[11,11])"
   ]
  },
  {
   "cell_type": "markdown",
   "metadata": {},
   "source": [
    "Apply PCA\n",
    "==========="
   ]
  },
  {
   "cell_type": "code",
   "execution_count": 66,
   "metadata": {},
   "outputs": [
    {
     "name": "stdout",
     "output_type": "stream",
     "text": [
      "[0.32534765 0.11260918 0.09772    0.07275234 0.06272513 0.05294674\n",
      " 0.04550996 0.03690598]\n",
      "0.8065169806328921\n",
      "(42628, 8)\n"
     ]
    }
   ],
   "source": [
    "# from sklearn.decomposition import PCA\n",
    "# pca = PCA(n_components=8)\n",
    "# pca.fit(x)\n",
    "\n",
    "# print(pca.explained_variance_ratio_)   \n",
    "# print(np.sum(pca.explained_variance_ratio_))\n",
    "\n",
    "# x=pca.fit_transform(x) \n",
    "# print(x.shape)\n"
   ]
  },
  {
   "cell_type": "markdown",
   "metadata": {},
   "source": [
    "feature scaling\n",
    "======="
   ]
  },
  {
   "cell_type": "code",
   "execution_count": 61,
   "metadata": {},
   "outputs": [],
   "source": [
    "# from sklearn import preprocessing\n",
    "# min_max_scaler = preprocessing.StandardScaler()\n",
    "# x = min_max_scaler.fit_transform(x)"
   ]
  },
  {
   "cell_type": "markdown",
   "metadata": {},
   "source": [
    "clustring test\n",
    "=========="
   ]
  },
  {
   "cell_type": "code",
   "execution_count": 12,
   "metadata": {},
   "outputs": [],
   "source": [
    "# from sklearn.cluster import KMeans\n",
    "# from scipy.spatial.distance import cdist\n",
    "\n",
    "# K = range(1,10)\n",
    "# distortions = []\n",
    "\n",
    "# for k in K:\n",
    "#     kmeanModel = KMeans(n_clusters=k).fit(x)\n",
    "#     kmeanModel.fit(x)\n",
    "#     distortions.append(sum(np.min(cdist(x, kmeanModel.cluster_centers_, 'euclidean'), axis=1)) / x.shape[0])\n",
    "\n",
    "# # Plot the elbow\n",
    "# plt.plot(K, distortions, 'bx-')\n",
    "# plt.xlabel('k')\n",
    "# plt.ylabel('Distortion')\n",
    "# plt.title('The Elbow Method showing the optimal k')\n",
    "# plt.show()\n"
   ]
  },
  {
   "cell_type": "code",
   "execution_count": 13,
   "metadata": {},
   "outputs": [],
   "source": [
    "# kmeanModel = KMeans(n_clusters=k).fit(x)\n",
    "# x['lbl']=kmeanModel.labels_ "
   ]
  },
  {
   "cell_type": "code",
   "execution_count": 14,
   "metadata": {},
   "outputs": [
    {
     "data": {
      "text/plain": [
       "Index(['AGE_x', 'SEX_x', 'L100700_x', 'L100800_x', 'L101300_x', 'L101600_x',\n",
       "       'L101700_x', 'L102900_x', 'L103000_x', 'L103100_x', 'L103300_x',\n",
       "       'L104600_x', 'L190300_x', 'L190400_x', 'L190500_x', 'S000300_x',\n",
       "       'S000501_x', 'S000502_x', 'CLASS_x', 'sbpG', 'dbpG', 'AgeG'],\n",
       "      dtype='object')"
      ]
     },
     "execution_count": 14,
     "metadata": {},
     "output_type": "execute_result"
    }
   ],
   "source": [
    "x.columns"
   ]
  },
  {
   "cell_type": "markdown",
   "metadata": {},
   "source": [
    "Random Forest Regressor\n",
    "============="
   ]
  },
  {
   "cell_type": "code",
   "execution_count": 15,
   "metadata": {},
   "outputs": [],
   "source": [
    "ylable=y[['S000501_y']]  \n",
    "xtrain,xtest,ytrain,ytest=train_test_split(x, ylable, random_state=42, test_size=0.2)"
   ]
  },
  {
   "cell_type": "code",
   "execution_count": 16,
   "metadata": {},
   "outputs": [
    {
     "name": "stdout",
     "output_type": "stream",
     "text": [
      "[6.76931755e-03 2.66397605e-02 4.33669540e-03 3.21296859e-03\n",
      " 1.92094985e-03 2.22447753e-03 6.31432716e-03 2.35924356e-03\n",
      " 2.60342202e-03 1.73891459e-03 1.94236494e-03 2.71638419e-03\n",
      " 5.50488725e-03 4.47032922e-03 3.30433358e-03 4.29262794e-02\n",
      " 7.91579938e-01 2.07184060e-02 9.77078165e-05 6.46933650e-02\n",
      " 3.60500172e-03 3.20925652e-04]\n"
     ]
    }
   ],
   "source": [
    "regr = RandomForestRegressor(max_depth=7, random_state=0,verbose =0,n_estimators=500)\n",
    "regr.fit(xtrain, ytrain) \n",
    "print(regr.feature_importances_)\n",
    "ypred=regr.predict(xtest)\n"
   ]
  },
  {
   "cell_type": "code",
   "execution_count": 17,
   "metadata": {},
   "outputs": [
    {
     "name": "stdout",
     "output_type": "stream",
     "text": [
      "mean_squared_error 84.19828733812628\n",
      "root mean_squared_error 9.175962474755783\n",
      "mean_absolute_error 7.256051012697697\n",
      "r2_score 0.478032837674532\n"
     ]
    },
    {
     "data": {
      "text/html": [
       "<div>\n",
       "<style scoped>\n",
       "    .dataframe tbody tr th:only-of-type {\n",
       "        vertical-align: middle;\n",
       "    }\n",
       "\n",
       "    .dataframe tbody tr th {\n",
       "        vertical-align: top;\n",
       "    }\n",
       "\n",
       "    .dataframe thead th {\n",
       "        text-align: right;\n",
       "    }\n",
       "</style>\n",
       "<table border=\"1\" class=\"dataframe\">\n",
       "  <thead>\n",
       "    <tr style=\"text-align: right;\">\n",
       "      <th></th>\n",
       "      <th>t + 1</th>\n",
       "      <th>pred (t +1)</th>\n",
       "    </tr>\n",
       "  </thead>\n",
       "  <tbody>\n",
       "    <tr>\n",
       "      <th>0</th>\n",
       "      <td>104.0</td>\n",
       "      <td>113.614305</td>\n",
       "    </tr>\n",
       "    <tr>\n",
       "      <th>1</th>\n",
       "      <td>110.0</td>\n",
       "      <td>108.847526</td>\n",
       "    </tr>\n",
       "    <tr>\n",
       "      <th>2</th>\n",
       "      <td>130.0</td>\n",
       "      <td>132.526076</td>\n",
       "    </tr>\n",
       "    <tr>\n",
       "      <th>3</th>\n",
       "      <td>150.0</td>\n",
       "      <td>118.809499</td>\n",
       "    </tr>\n",
       "    <tr>\n",
       "      <th>4</th>\n",
       "      <td>117.0</td>\n",
       "      <td>112.944055</td>\n",
       "    </tr>\n",
       "    <tr>\n",
       "      <th>5</th>\n",
       "      <td>135.0</td>\n",
       "      <td>128.572676</td>\n",
       "    </tr>\n",
       "    <tr>\n",
       "      <th>6</th>\n",
       "      <td>110.0</td>\n",
       "      <td>107.451784</td>\n",
       "    </tr>\n",
       "    <tr>\n",
       "      <th>7</th>\n",
       "      <td>116.0</td>\n",
       "      <td>126.117464</td>\n",
       "    </tr>\n",
       "    <tr>\n",
       "      <th>8</th>\n",
       "      <td>92.0</td>\n",
       "      <td>101.297591</td>\n",
       "    </tr>\n",
       "    <tr>\n",
       "      <th>9</th>\n",
       "      <td>139.0</td>\n",
       "      <td>120.623903</td>\n",
       "    </tr>\n",
       "  </tbody>\n",
       "</table>\n",
       "</div>"
      ],
      "text/plain": [
       "   t + 1  pred (t +1)\n",
       "0  104.0   113.614305\n",
       "1  110.0   108.847526\n",
       "2  130.0   132.526076\n",
       "3  150.0   118.809499\n",
       "4  117.0   112.944055\n",
       "5  135.0   128.572676\n",
       "6  110.0   107.451784\n",
       "7  116.0   126.117464\n",
       "8   92.0   101.297591\n",
       "9  139.0   120.623903"
      ]
     },
     "execution_count": 17,
     "metadata": {},
     "output_type": "execute_result"
    }
   ],
   "source": [
    "\n",
    "import math\n",
    "print('mean_squared_error',mean_squared_error(ytest, ypred))\n",
    "print('root mean_squared_error',math.sqrt(mean_squared_error(ytest, ypred)))\n",
    "print('mean_absolute_error',mean_absolute_error(ytest, ypred))\n",
    "print('r2_score',r2_score(ytest, ypred))\n",
    "\n",
    "ypredPD=pd.DataFrame()\n",
    "# ypredPD['t']=xtest['S000501_x'].values\n",
    "ypredPD['t + 1']=ytest.values.ravel()\n",
    "ypredPD['pred (t +1)']=ypred\n",
    "ypredPD.head(10)"
   ]
  },
  {
   "cell_type": "code",
   "execution_count": 18,
   "metadata": {},
   "outputs": [
    {
     "data": {
      "image/png": "[encoded data removed]",
      "text/plain": [
       "<Figure size 432x288 with 1 Axes>"
      ]
     },
     "metadata": {
      "needs_background": "light"
     },
     "output_type": "display_data"
    },
    {
     "data": {
      "text/plain": [
       "<matplotlib.collections.PathCollection at 0x213113c04a8>"
      ]
     },
     "execution_count": 18,
     "metadata": {},
     "output_type": "execute_result"
    },
    {
     "data": {
      "image/png": "[encoded data removed]",
      "text/plain": [
       "<Figure size 432x288 with 1 Axes>"
      ]
     },
     "metadata": {
      "needs_background": "light"
     },
     "output_type": "display_data"
    }
   ],
   "source": [
    "ypredPD=ypredPD.sort_values(by=['t + 1'])\n",
    "plt.scatter(np.arange(0,ypredPD.shape[0],1),ypredPD['t + 1'][:ypredPD.shape[0]])\n",
    "plt.show()\n",
    "plt.scatter(np.arange(0,ypredPD.shape[0],1),ypredPD['pred (t +1)'][:ypredPD.shape[0]])"
   ]
  },
  {
   "cell_type": "code",
   "execution_count": null,
   "metadata": {},
   "outputs": [],
   "source": [
    "# tempdata=pd.DataFrame(xtest.copy())\n",
    "# tempdata['ytest']=ytest\n",
    "# # temp=temp.dropna()\n",
    "# # tempdata.head()\n",
    "# # tempdata[tempdata.ytest.isna()].index\n",
    "\n",
    "# tempdata=tempdata.drop(tempdata[tempdata.ytest.isna()].index)\n"
   ]
  },
  {
   "cell_type": "markdown",
   "metadata": {},
   "source": [
    "xg boost\n",
    "=========="
   ]
  },
  {
   "cell_type": "code",
   "execution_count": 19,
   "metadata": {},
   "outputs": [],
   "source": [
    "import xgboost as xgb\n",
    "# from sklearn.metrics import mean_squared_error\n",
    "# import pandas as pd\n",
    "# import numpy as np"
   ]
  },
  {
   "cell_type": "code",
   "execution_count": 24,
   "metadata": {},
   "outputs": [
    {
     "name": "stdout",
     "output_type": "stream",
     "text": [
      "[01:19:15] WARNING: C:/Jenkins/workspace/xgboost-win64_release_0.90/src/objective/regression_obj.cu:152: reg:linear is now deprecated in favor of reg:squarederror.\n"
     ]
    },
    {
     "data": {
      "text/plain": [
       "XGBRegressor(base_score=0.5, booster='gbtree', colsample_bylevel=1,\n",
       "             colsample_bynode=1, colsample_bytree=1, gamma=0,\n",
       "             importance_type='gain', learning_rate=0.1, max_delta_step=0,\n",
       "             max_depth=3, min_child_weight=1, missing=None, n_estimators=100,\n",
       "             n_jobs=1, nthread=None, objective='reg:linear', random_state=0,\n",
       "             reg_alpha=0, reg_lambda=1, scale_pos_weight=1, seed=None,\n",
       "             silent=None, subsample=1, verbosity=1)"
      ]
     },
     "execution_count": 24,
     "metadata": {},
     "output_type": "execute_result"
    }
   ],
   "source": [
    "xg_reg = xgb.XGBRegressor()\n",
    "# xg_reg = xgb.XGBRegressor(objective ='reg:linear', colsample_bytree = 0.3, \n",
    "#                           learning_rate = 0.1,max_depth = 5, alpha = 10, n_estimators = 10)\n",
    "xg_reg.fit(xtrain, ytrain) "
   ]
  },
  {
   "cell_type": "code",
   "execution_count": 25,
   "metadata": {},
   "outputs": [
    {
     "name": "stdout",
     "output_type": "stream",
     "text": [
      "mean_squared_error 83.42556813910409\n",
      "root mean_squared_error 9.133759803011248\n",
      "mean_absolute_error 7.22946900670416\n",
      "r2_score 0.48282312569984887\n"
     ]
    }
   ],
   "source": [
    "\n",
    "ypred = xg_reg.predict(xtest)\n",
    "\n",
    "import math\n",
    "print('mean_squared_error',mean_squared_error(ytest, ypred))\n",
    "print('root mean_squared_error',math.sqrt(mean_squared_error(ytest, ypred)))\n",
    "print('mean_absolute_error',mean_absolute_error(ytest, ypred))\n",
    "print('r2_score',r2_score(ytest, ypred))\n",
    "\n",
    "# ypredPD=pd.DataFrame()\n",
    "# ypredPD['t']=xtest['S000501_x'].values\n",
    "# ypredPD['t + 1']=ytest.values\n",
    "# ypredPD['pred (t +1)']=ypred\n",
    "# ypredPD.head(10)"
   ]
  },
  {
   "cell_type": "code",
   "execution_count": null,
   "metadata": {},
   "outputs": [],
   "source": [
    "# ytest[ytest.isna()].shape\n",
    "# tempdata.iloc[:,-1]"
   ]
  },
  {
   "cell_type": "markdown",
   "metadata": {},
   "source": [
    "ANN\n",
    "=========="
   ]
  },
  {
   "cell_type": "code",
   "execution_count": 28,
   "metadata": {},
   "outputs": [],
   "source": [
    "model= Sequential()\n",
    "model.add(Dense(input_dim=22,units=128,activation='relu', kernel_initializer='uniform'))\n",
    "model.add(Dense(units=128, activation='relu', kernel_initializer='uniform')) \n",
    "model.add(Dense(units=64, activation='relu', kernel_initializer='uniform'))\n",
    "model.add(Dense(units=32, activation='relu', kernel_initializer='uniform')) \n",
    "model.add(Dense(units=16, activation='relu', kernel_initializer='uniform'))\n",
    "model.add(Dense(units=8, activation='relu', kernel_initializer='uniform'))\n",
    "model.add(Dense(units=1, kernel_initializer='uniform'))\n",
    "model.compile(loss='mean_squared_error', optimizer='Nadam', metrics=['mean_squared_error' ])\n",
    "\n"
   ]
  },
  {
   "cell_type": "code",
   "execution_count": 29,
   "metadata": {
    "scrolled": true
   },
   "outputs": [
    {
     "name": "stderr",
     "output_type": "stream",
     "text": [
      "W1002 01:20:20.842698  5540 deprecation_wrapper.py:119] From C:\\ProgramData\\Anaconda3\\lib\\site-packages\\keras\\backend\\tensorflow_backend.py:986: The name tf.assign_add is deprecated. Please use tf.compat.v1.assign_add instead.\n",
      "\n",
      "W1002 01:20:20.988308  5540 deprecation_wrapper.py:119] From C:\\ProgramData\\Anaconda3\\lib\\site-packages\\keras\\backend\\tensorflow_backend.py:973: The name tf.assign is deprecated. Please use tf.compat.v1.assign instead.\n",
      "\n"
     ]
    },
    {
     "name": "stdout",
     "output_type": "stream",
     "text": [
      "Train on 27281 samples, validate on 6821 samples\n",
      "Epoch 1/100\n",
      "27281/27281 [==============================] - 1s 32us/step - loss: 538.0426 - mean_squared_error: 538.0426 - val_loss: 200.8397 - val_mean_squared_error: 200.8397\n",
      "Epoch 2/100\n",
      "27281/27281 [==============================] - 0s 18us/step - loss: 142.5889 - mean_squared_error: 142.5889 - val_loss: 102.7553 - val_mean_squared_error: 102.7553\n",
      "Epoch 3/100\n",
      "27281/27281 [==============================] - 1s 19us/step - loss: 124.5777 - mean_squared_error: 124.5777 - val_loss: 224.8889 - val_mean_squared_error: 224.8889\n",
      "Epoch 4/100\n",
      "27281/27281 [==============================] - 0s 18us/step - loss: 124.9500 - mean_squared_error: 124.9500 - val_loss: 88.5916 - val_mean_squared_error: 88.5916\n",
      "Epoch 5/100\n",
      "27281/27281 [==============================] - 1s 19us/step - loss: 116.1047 - mean_squared_error: 116.1047 - val_loss: 91.9721 - val_mean_squared_error: 91.9721\n",
      "Epoch 6/100\n",
      "27281/27281 [==============================] - 0s 18us/step - loss: 112.9647 - mean_squared_error: 112.9647 - val_loss: 101.7661 - val_mean_squared_error: 101.7661\n",
      "Epoch 7/100\n",
      "27281/27281 [==============================] - 1s 19us/step - loss: 108.7422 - mean_squared_error: 108.7422 - val_loss: 82.6546 - val_mean_squared_error: 82.6546\n",
      "Epoch 8/100\n",
      "27281/27281 [==============================] - 1s 19us/step - loss: 105.6378 - mean_squared_error: 105.6378 - val_loss: 102.3042 - val_mean_squared_error: 102.3042\n",
      "Epoch 9/100\n",
      "27281/27281 [==============================] - 0s 18us/step - loss: 99.7136 - mean_squared_error: 99.7136 - val_loss: 161.0878 - val_mean_squared_error: 161.0878\n",
      "Epoch 10/100\n",
      "27281/27281 [==============================] - 1s 19us/step - loss: 102.6703 - mean_squared_error: 102.6703 - val_loss: 80.2215 - val_mean_squared_error: 80.2215\n",
      "Epoch 11/100\n",
      "27281/27281 [==============================] - 1s 19us/step - loss: 97.2077 - mean_squared_error: 97.2077 - val_loss: 99.6031 - val_mean_squared_error: 99.6031\n",
      "Epoch 12/100\n",
      "27281/27281 [==============================] - 0s 18us/step - loss: 99.5162 - mean_squared_error: 99.5162 - val_loss: 83.0085 - val_mean_squared_error: 83.0085\n",
      "Epoch 13/100\n",
      "27281/27281 [==============================] - 1s 19us/step - loss: 93.5359 - mean_squared_error: 93.5359 - val_loss: 102.9972 - val_mean_squared_error: 102.9972\n",
      "Epoch 14/100\n",
      "27281/27281 [==============================] - 0s 18us/step - loss: 95.9181 - mean_squared_error: 95.9181 - val_loss: 81.7497 - val_mean_squared_error: 81.7497\n",
      "Epoch 15/100\n",
      "27281/27281 [==============================] - 1s 19us/step - loss: 92.8361 - mean_squared_error: 92.8361 - val_loss: 85.3047 - val_mean_squared_error: 85.3047\n",
      "Epoch 16/100\n",
      "27281/27281 [==============================] - 1s 18us/step - loss: 93.1964 - mean_squared_error: 93.1964 - val_loss: 81.1661 - val_mean_squared_error: 81.1661\n",
      "Epoch 17/100\n",
      "27281/27281 [==============================] - 0s 18us/step - loss: 92.3997 - mean_squared_error: 92.3997 - val_loss: 81.4195 - val_mean_squared_error: 81.4195\n",
      "Epoch 18/100\n",
      "27281/27281 [==============================] - 1s 18us/step - loss: 90.5572 - mean_squared_error: 90.5572 - val_loss: 80.1691 - val_mean_squared_error: 80.1691\n",
      "Epoch 19/100\n",
      "27281/27281 [==============================] - 0s 18us/step - loss: 90.8722 - mean_squared_error: 90.8722 - val_loss: 80.6932 - val_mean_squared_error: 80.6932\n",
      "Epoch 20/100\n",
      "27281/27281 [==============================] - 1s 19us/step - loss: 90.6045 - mean_squared_error: 90.6045 - val_loss: 88.5883 - val_mean_squared_error: 88.5883\n",
      "Epoch 21/100\n",
      "27281/27281 [==============================] - 1s 18us/step - loss: 89.5633 - mean_squared_error: 89.5633 - val_loss: 80.7097 - val_mean_squared_error: 80.7097\n",
      "Epoch 22/100\n",
      "27281/27281 [==============================] - 1s 19us/step - loss: 88.1936 - mean_squared_error: 88.1936 - val_loss: 81.0374 - val_mean_squared_error: 81.0374\n",
      "Epoch 23/100\n",
      "27281/27281 [==============================] - 1s 19us/step - loss: 88.6144 - mean_squared_error: 88.6144 - val_loss: 79.9548 - val_mean_squared_error: 79.9548\n",
      "Epoch 24/100\n",
      "27281/27281 [==============================] - 0s 18us/step - loss: 88.3405 - mean_squared_error: 88.3405 - val_loss: 80.1880 - val_mean_squared_error: 80.1880\n",
      "Epoch 25/100\n",
      "27281/27281 [==============================] - 1s 19us/step - loss: 88.7641 - mean_squared_error: 88.7641 - val_loss: 81.1472 - val_mean_squared_error: 81.1472\n",
      "Epoch 26/100\n",
      "27281/27281 [==============================] - 1s 18us/step - loss: 87.9335 - mean_squared_error: 87.9335 - val_loss: 93.8660 - val_mean_squared_error: 93.8660\n",
      "Epoch 27/100\n",
      "27281/27281 [==============================] - 0s 18us/step - loss: 87.3550 - mean_squared_error: 87.3550 - val_loss: 85.5907 - val_mean_squared_error: 85.5907\n",
      "Epoch 28/100\n",
      "27281/27281 [==============================] - 1s 19us/step - loss: 86.8825 - mean_squared_error: 86.8825 - val_loss: 79.9329 - val_mean_squared_error: 79.9329\n",
      "Epoch 29/100\n",
      "27281/27281 [==============================] - 1s 19us/step - loss: 87.1763 - mean_squared_error: 87.1763 - val_loss: 86.1995 - val_mean_squared_error: 86.1995\n",
      "Epoch 30/100\n",
      "27281/27281 [==============================] - 0s 18us/step - loss: 86.6683 - mean_squared_error: 86.6683 - val_loss: 88.8961 - val_mean_squared_error: 88.8961\n",
      "Epoch 31/100\n",
      "27281/27281 [==============================] - 1s 19us/step - loss: 86.4081 - mean_squared_error: 86.4081 - val_loss: 79.8613 - val_mean_squared_error: 79.8613\n",
      "Epoch 32/100\n",
      "27281/27281 [==============================] - 1s 18us/step - loss: 86.3527 - mean_squared_error: 86.3527 - val_loss: 79.6357 - val_mean_squared_error: 79.6357\n",
      "Epoch 33/100\n",
      "27281/27281 [==============================] - 1s 19us/step - loss: 86.1576 - mean_squared_error: 86.1576 - val_loss: 83.5232 - val_mean_squared_error: 83.5232\n",
      "Epoch 34/100\n",
      "27281/27281 [==============================] - 0s 18us/step - loss: 86.4603 - mean_squared_error: 86.4603 - val_loss: 82.6916 - val_mean_squared_error: 82.6916\n",
      "Epoch 35/100\n",
      "27281/27281 [==============================] - 1s 19us/step - loss: 86.0197 - mean_squared_error: 86.0197 - val_loss: 99.2123 - val_mean_squared_error: 99.2123\n",
      "Epoch 36/100\n",
      "27281/27281 [==============================] - 0s 18us/step - loss: 85.5216 - mean_squared_error: 85.5216 - val_loss: 90.9981 - val_mean_squared_error: 90.9981\n",
      "Epoch 37/100\n",
      "27281/27281 [==============================] - 1s 19us/step - loss: 86.0573 - mean_squared_error: 86.0573 - val_loss: 83.2095 - val_mean_squared_error: 83.2095\n",
      "Epoch 38/100\n",
      "27281/27281 [==============================] - 1s 19us/step - loss: 86.0901 - mean_squared_error: 86.0901 - val_loss: 83.8639 - val_mean_squared_error: 83.8639\n",
      "Epoch 39/100\n",
      "27281/27281 [==============================] - 0s 18us/step - loss: 86.0208 - mean_squared_error: 86.0208 - val_loss: 108.4634 - val_mean_squared_error: 108.4634\n",
      "Epoch 40/100\n",
      "27281/27281 [==============================] - 0s 18us/step - loss: 85.6354 - mean_squared_error: 85.6354 - val_loss: 82.3034 - val_mean_squared_error: 82.3034\n",
      "Epoch 41/100\n",
      "27281/27281 [==============================] - 1s 19us/step - loss: 85.5849 - mean_squared_error: 85.5849 - val_loss: 79.3426 - val_mean_squared_error: 79.3426\n",
      "Epoch 42/100\n",
      "27281/27281 [==============================] - 1s 18us/step - loss: 85.3917 - mean_squared_error: 85.3917 - val_loss: 93.2814 - val_mean_squared_error: 93.2814\n",
      "Epoch 43/100\n",
      "27281/27281 [==============================] - 1s 19us/step - loss: 85.5878 - mean_squared_error: 85.5878 - val_loss: 81.6783 - val_mean_squared_error: 81.6783\n",
      "Epoch 44/100\n",
      "27281/27281 [==============================] - 0s 18us/step - loss: 85.2749 - mean_squared_error: 85.2749 - val_loss: 97.2643 - val_mean_squared_error: 97.2643\n",
      "Epoch 45/100\n",
      "27281/27281 [==============================] - 1s 19us/step - loss: 84.7138 - mean_squared_error: 84.7138 - val_loss: 93.0892 - val_mean_squared_error: 93.0892\n",
      "Epoch 46/100\n",
      "27281/27281 [==============================] - 1s 18us/step - loss: 85.4408 - mean_squared_error: 85.4408 - val_loss: 103.8766 - val_mean_squared_error: 103.8766\n",
      "Epoch 47/100\n",
      "27281/27281 [==============================] - 1s 19us/step - loss: 85.4121 - mean_squared_error: 85.4121 - val_loss: 79.4672 - val_mean_squared_error: 79.4672\n"
     ]
    },
    {
     "name": "stdout",
     "output_type": "stream",
     "text": [
      "Epoch 48/100\n",
      "27281/27281 [==============================] - 1s 19us/step - loss: 85.2418 - mean_squared_error: 85.2418 - val_loss: 79.4365 - val_mean_squared_error: 79.4365\n",
      "Epoch 49/100\n",
      "27281/27281 [==============================] - 0s 18us/step - loss: 85.2581 - mean_squared_error: 85.2581 - val_loss: 86.0610 - val_mean_squared_error: 86.0610\n",
      "Epoch 50/100\n",
      "27281/27281 [==============================] - 0s 18us/step - loss: 84.9574 - mean_squared_error: 84.9574 - val_loss: 81.0007 - val_mean_squared_error: 81.0007\n",
      "Epoch 51/100\n",
      "27281/27281 [==============================] - 1s 19us/step - loss: 85.3274 - mean_squared_error: 85.3274 - val_loss: 81.8594 - val_mean_squared_error: 81.8594\n",
      "Epoch 52/100\n",
      "27281/27281 [==============================] - 0s 18us/step - loss: 85.1186 - mean_squared_error: 85.1186 - val_loss: 83.6114 - val_mean_squared_error: 83.6114\n",
      "Epoch 53/100\n",
      "27281/27281 [==============================] - 1s 19us/step - loss: 84.6513 - mean_squared_error: 84.6513 - val_loss: 79.8611 - val_mean_squared_error: 79.8611\n",
      "Epoch 54/100\n",
      "27281/27281 [==============================] - 0s 18us/step - loss: 84.6403 - mean_squared_error: 84.6403 - val_loss: 82.1439 - val_mean_squared_error: 82.1439\n",
      "Epoch 55/100\n",
      "27281/27281 [==============================] - 0s 18us/step - loss: 84.9663 - mean_squared_error: 84.9663 - val_loss: 80.4827 - val_mean_squared_error: 80.4827\n",
      "Epoch 56/100\n",
      "27281/27281 [==============================] - 0s 18us/step - loss: 84.9321 - mean_squared_error: 84.9321 - val_loss: 85.8528 - val_mean_squared_error: 85.8528\n",
      "Epoch 57/100\n",
      "27281/27281 [==============================] - 0s 18us/step - loss: 84.7412 - mean_squared_error: 84.7412 - val_loss: 79.5900 - val_mean_squared_error: 79.5900\n",
      "Epoch 58/100\n",
      "27281/27281 [==============================] - 0s 18us/step - loss: 84.5867 - mean_squared_error: 84.5867 - val_loss: 81.2448 - val_mean_squared_error: 81.2448\n",
      "Epoch 59/100\n",
      "27281/27281 [==============================] - 0s 18us/step - loss: 84.0388 - mean_squared_error: 84.0388 - val_loss: 79.7931 - val_mean_squared_error: 79.7931\n",
      "Epoch 60/100\n",
      "27281/27281 [==============================] - 0s 18us/step - loss: 84.5672 - mean_squared_error: 84.5672 - val_loss: 86.6984 - val_mean_squared_error: 86.6984\n",
      "Epoch 61/100\n",
      "27281/27281 [==============================] - 0s 18us/step - loss: 84.1885 - mean_squared_error: 84.1885 - val_loss: 93.0731 - val_mean_squared_error: 93.0731\n",
      "Epoch 62/100\n",
      "27281/27281 [==============================] - 0s 18us/step - loss: 84.9031 - mean_squared_error: 84.9031 - val_loss: 79.5925 - val_mean_squared_error: 79.5925\n",
      "Epoch 63/100\n",
      "27281/27281 [==============================] - 1s 19us/step - loss: 84.1628 - mean_squared_error: 84.1628 - val_loss: 80.7327 - val_mean_squared_error: 80.7327\n",
      "Epoch 64/100\n",
      "27281/27281 [==============================] - 0s 18us/step - loss: 84.6175 - mean_squared_error: 84.6175 - val_loss: 83.7731 - val_mean_squared_error: 83.7731\n",
      "Epoch 65/100\n",
      "27281/27281 [==============================] - 1s 19us/step - loss: 84.4643 - mean_squared_error: 84.4643 - val_loss: 79.8452 - val_mean_squared_error: 79.8452\n",
      "Epoch 66/100\n",
      "27281/27281 [==============================] - 0s 18us/step - loss: 84.6155 - mean_squared_error: 84.6155 - val_loss: 84.3491 - val_mean_squared_error: 84.3491\n",
      "Epoch 67/100\n",
      "27281/27281 [==============================] - 0s 18us/step - loss: 84.1359 - mean_squared_error: 84.1359 - val_loss: 79.3619 - val_mean_squared_error: 79.3619\n",
      "Epoch 68/100\n",
      "27281/27281 [==============================] - 0s 18us/step - loss: 84.6141 - mean_squared_error: 84.6141 - val_loss: 80.4041 - val_mean_squared_error: 80.4041\n",
      "Epoch 69/100\n",
      "27281/27281 [==============================] - 1s 19us/step - loss: 84.4344 - mean_squared_error: 84.4344 - val_loss: 84.0966 - val_mean_squared_error: 84.0966\n",
      "Epoch 70/100\n",
      "27281/27281 [==============================] - 0s 18us/step - loss: 84.2540 - mean_squared_error: 84.2540 - val_loss: 86.3100 - val_mean_squared_error: 86.3100\n",
      "Epoch 71/100\n",
      "27281/27281 [==============================] - 0s 18us/step - loss: 84.3769 - mean_squared_error: 84.3769 - val_loss: 83.6158 - val_mean_squared_error: 83.6158\n",
      "Epoch 72/100\n",
      "27281/27281 [==============================] - 0s 18us/step - loss: 83.9413 - mean_squared_error: 83.9413 - val_loss: 80.7118 - val_mean_squared_error: 80.7118\n",
      "Epoch 73/100\n",
      "27281/27281 [==============================] - 1s 19us/step - loss: 84.0752 - mean_squared_error: 84.0752 - val_loss: 119.0126 - val_mean_squared_error: 119.0126\n",
      "Epoch 74/100\n",
      "27281/27281 [==============================] - 1s 18us/step - loss: 84.2116 - mean_squared_error: 84.2116 - val_loss: 79.7333 - val_mean_squared_error: 79.7333\n",
      "Epoch 75/100\n",
      "27281/27281 [==============================] - 0s 17us/step - loss: 83.9238 - mean_squared_error: 83.9238 - val_loss: 81.2137 - val_mean_squared_error: 81.2137\n",
      "Epoch 76/100\n",
      "27281/27281 [==============================] - 0s 18us/step - loss: 84.1836 - mean_squared_error: 84.1836 - val_loss: 79.7960 - val_mean_squared_error: 79.7960\n",
      "Epoch 77/100\n",
      "27281/27281 [==============================] - 1s 19us/step - loss: 83.8869 - mean_squared_error: 83.8869 - val_loss: 82.6146 - val_mean_squared_error: 82.6146\n",
      "Epoch 78/100\n",
      "27281/27281 [==============================] - 0s 18us/step - loss: 83.8791 - mean_squared_error: 83.8791 - val_loss: 79.1087 - val_mean_squared_error: 79.1087\n",
      "Epoch 79/100\n",
      "27281/27281 [==============================] - 1s 19us/step - loss: 83.9003 - mean_squared_error: 83.9003 - val_loss: 93.6197 - val_mean_squared_error: 93.6197\n",
      "Epoch 80/100\n",
      "27281/27281 [==============================] - 0s 18us/step - loss: 83.8996 - mean_squared_error: 83.8996 - val_loss: 90.0952 - val_mean_squared_error: 90.0952\n",
      "Epoch 81/100\n",
      "27281/27281 [==============================] - 1s 19us/step - loss: 84.0007 - mean_squared_error: 84.0007 - val_loss: 79.6432 - val_mean_squared_error: 79.6432\n",
      "Epoch 82/100\n",
      "27281/27281 [==============================] - 1s 18us/step - loss: 83.7041 - mean_squared_error: 83.7041 - val_loss: 84.1541 - val_mean_squared_error: 84.1541\n",
      "Epoch 83/100\n",
      "27281/27281 [==============================] - 0s 18us/step - loss: 83.6143 - mean_squared_error: 83.6143 - val_loss: 86.6832 - val_mean_squared_error: 86.6832\n",
      "Epoch 84/100\n",
      "27281/27281 [==============================] - 1s 19us/step - loss: 83.4814 - mean_squared_error: 83.4814 - val_loss: 82.5927 - val_mean_squared_error: 82.5927\n",
      "Epoch 85/100\n",
      "27281/27281 [==============================] - 0s 18us/step - loss: 83.8976 - mean_squared_error: 83.8976 - val_loss: 79.9657 - val_mean_squared_error: 79.9657\n",
      "Epoch 86/100\n",
      "27281/27281 [==============================] - 1s 19us/step - loss: 83.6416 - mean_squared_error: 83.6416 - val_loss: 80.2760 - val_mean_squared_error: 80.2760\n",
      "Epoch 87/100\n",
      "27281/27281 [==============================] - 0s 18us/step - loss: 83.1292 - mean_squared_error: 83.1292 - val_loss: 82.6002 - val_mean_squared_error: 82.6002\n",
      "Epoch 88/100\n",
      "27281/27281 [==============================] - 0s 18us/step - loss: 83.5587 - mean_squared_error: 83.5587 - val_loss: 79.0132 - val_mean_squared_error: 79.0132\n",
      "Epoch 89/100\n",
      "27281/27281 [==============================] - 0s 18us/step - loss: 83.6941 - mean_squared_error: 83.6941 - val_loss: 80.9070 - val_mean_squared_error: 80.9070\n",
      "Epoch 90/100\n",
      "27281/27281 [==============================] - 1s 19us/step - loss: 83.4859 - mean_squared_error: 83.4859 - val_loss: 79.1243 - val_mean_squared_error: 79.1243\n",
      "Epoch 91/100\n",
      "27281/27281 [==============================] - 0s 18us/step - loss: 83.4402 - mean_squared_error: 83.4402 - val_loss: 79.3943 - val_mean_squared_error: 79.3943\n",
      "Epoch 92/100\n",
      "27281/27281 [==============================] - 1s 19us/step - loss: 83.2883 - mean_squared_error: 83.2883 - val_loss: 95.6687 - val_mean_squared_error: 95.6687\n",
      "Epoch 93/100\n",
      "27281/27281 [==============================] - 0s 18us/step - loss: 83.2131 - mean_squared_error: 83.2131 - val_loss: 88.1787 - val_mean_squared_error: 88.1787\n",
      "Epoch 94/100\n",
      "27281/27281 [==============================] - 1s 19us/step - loss: 83.6670 - mean_squared_error: 83.6670 - val_loss: 79.6489 - val_mean_squared_error: 79.6489\n",
      "Epoch 95/100\n"
     ]
    },
    {
     "name": "stdout",
     "output_type": "stream",
     "text": [
      "27281/27281 [==============================] - 0s 18us/step - loss: 83.5733 - mean_squared_error: 83.5733 - val_loss: 80.0630 - val_mean_squared_error: 80.0630\n",
      "Epoch 96/100\n",
      "27281/27281 [==============================] - 1s 19us/step - loss: 83.3470 - mean_squared_error: 83.3470 - val_loss: 84.4640 - val_mean_squared_error: 84.4640\n",
      "Epoch 97/100\n",
      "27281/27281 [==============================] - 0s 18us/step - loss: 83.4842 - mean_squared_error: 83.4842 - val_loss: 81.8623 - val_mean_squared_error: 81.8623\n",
      "Epoch 98/100\n",
      "27281/27281 [==============================] - 0s 18us/step - loss: 83.4223 - mean_squared_error: 83.4223 - val_loss: 78.7952 - val_mean_squared_error: 78.7952\n",
      "Epoch 99/100\n",
      "27281/27281 [==============================] - 0s 18us/step - loss: 83.4373 - mean_squared_error: 83.4373 - val_loss: 83.8782 - val_mean_squared_error: 83.8782\n",
      "Epoch 100/100\n",
      "27281/27281 [==============================] - 0s 18us/step - loss: 83.3803 - mean_squared_error: 83.3803 - val_loss: 79.0217 - val_mean_squared_error: 79.0217\n"
     ]
    }
   ],
   "source": [
    "h=model.fit(xtrain, ytrain, validation_split=.2,epochs=100, batch_size=50)"
   ]
  },
  {
   "cell_type": "code",
   "execution_count": 30,
   "metadata": {},
   "outputs": [
    {
     "name": "stdout",
     "output_type": "stream",
     "text": [
      "mean_squared_error 84.59219368251402\n",
      "root mean_squared_error 9.197401463593618\n",
      "mean_absolute_error 7.2729637321384475\n",
      "r2_score 0.4755909094203813\n"
     ]
    },
    {
     "data": {
      "text/html": [
       "<div>\n",
       "<style scoped>\n",
       "    .dataframe tbody tr th:only-of-type {\n",
       "        vertical-align: middle;\n",
       "    }\n",
       "\n",
       "    .dataframe tbody tr th {\n",
       "        vertical-align: top;\n",
       "    }\n",
       "\n",
       "    .dataframe thead th {\n",
       "        text-align: right;\n",
       "    }\n",
       "</style>\n",
       "<table border=\"1\" class=\"dataframe\">\n",
       "  <thead>\n",
       "    <tr style=\"text-align: right;\">\n",
       "      <th></th>\n",
       "      <th>t + 1</th>\n",
       "      <th>pred (t +1)</th>\n",
       "    </tr>\n",
       "  </thead>\n",
       "  <tbody>\n",
       "    <tr>\n",
       "      <th>0</th>\n",
       "      <td>104.0</td>\n",
       "      <td>115.317871</td>\n",
       "    </tr>\n",
       "    <tr>\n",
       "      <th>1</th>\n",
       "      <td>110.0</td>\n",
       "      <td>107.066719</td>\n",
       "    </tr>\n",
       "    <tr>\n",
       "      <th>2</th>\n",
       "      <td>130.0</td>\n",
       "      <td>132.243942</td>\n",
       "    </tr>\n",
       "    <tr>\n",
       "      <th>3</th>\n",
       "      <td>150.0</td>\n",
       "      <td>118.796173</td>\n",
       "    </tr>\n",
       "    <tr>\n",
       "      <th>4</th>\n",
       "      <td>117.0</td>\n",
       "      <td>111.956665</td>\n",
       "    </tr>\n",
       "    <tr>\n",
       "      <th>5</th>\n",
       "      <td>135.0</td>\n",
       "      <td>130.147141</td>\n",
       "    </tr>\n",
       "    <tr>\n",
       "      <th>6</th>\n",
       "      <td>110.0</td>\n",
       "      <td>107.727821</td>\n",
       "    </tr>\n",
       "    <tr>\n",
       "      <th>7</th>\n",
       "      <td>116.0</td>\n",
       "      <td>126.983185</td>\n",
       "    </tr>\n",
       "    <tr>\n",
       "      <th>8</th>\n",
       "      <td>92.0</td>\n",
       "      <td>100.962082</td>\n",
       "    </tr>\n",
       "    <tr>\n",
       "      <th>9</th>\n",
       "      <td>139.0</td>\n",
       "      <td>118.669510</td>\n",
       "    </tr>\n",
       "  </tbody>\n",
       "</table>\n",
       "</div>"
      ],
      "text/plain": [
       "   t + 1  pred (t +1)\n",
       "0  104.0   115.317871\n",
       "1  110.0   107.066719\n",
       "2  130.0   132.243942\n",
       "3  150.0   118.796173\n",
       "4  117.0   111.956665\n",
       "5  135.0   130.147141\n",
       "6  110.0   107.727821\n",
       "7  116.0   126.983185\n",
       "8   92.0   100.962082\n",
       "9  139.0   118.669510"
      ]
     },
     "execution_count": 30,
     "metadata": {},
     "output_type": "execute_result"
    }
   ],
   "source": [
    "ypred=model.predict(xtest)\n",
    "\n",
    "import math\n",
    "print('mean_squared_error',mean_squared_error(ytest, ypred))\n",
    "print('root mean_squared_error',math.sqrt(mean_squared_error(ytest, ypred)))\n",
    "print('mean_absolute_error',mean_absolute_error(ytest, ypred))\n",
    "print('r2_score',r2_score(ytest, ypred))\n",
    "\n",
    "ypredPD=pd.DataFrame()\n",
    "# ypredPD['t']=xtest['S000501_x'].values\n",
    "ypredPD['t + 1']=ytest.values.ravel()\n",
    "ypredPD['pred (t +1)']=ypred\n",
    "ypredPD.head(10)"
   ]
  },
  {
   "cell_type": "code",
   "execution_count": 31,
   "metadata": {},
   "outputs": [
    {
     "name": "stdout",
     "output_type": "stream",
     "text": [
      "dict_keys(['val_loss', 'val_mean_squared_error', 'loss', 'mean_squared_error'])\n"
     ]
    },
    {
     "data": {
      "image/png": "[encoded data removed]",
      "text/plain": [
       "<Figure size 432x288 with 1 Axes>"
      ]
     },
     "metadata": {
      "needs_background": "light"
     },
     "output_type": "display_data"
    },
    {
     "data": {
      "image/png": "[encoded data removed]",
      "text/plain": [
       "<Figure size 432x288 with 1 Axes>"
      ]
     },
     "metadata": {
      "needs_background": "light"
     },
     "output_type": "display_data"
    }
   ],
   "source": [
    "history=h\n",
    "print(history.history.keys())\n",
    "# summarize history for accuracy\n",
    "plt.plot(history.history['val_loss'])\n",
    "plt.plot(history.history['loss'])\n",
    "plt.title('model accuracy')\n",
    "plt.ylabel('accuracy')\n",
    "plt.xlabel('epoch')\n",
    "plt.legend(['train', 'test'], loc='upper left')\n",
    "plt.show()\n",
    "# summarize history for loss\n",
    "plt.plot(history.history['val_mean_squared_error'])\n",
    "plt.plot(history.history['mean_squared_error'])\n",
    "plt.title('model loss')\n",
    "plt.ylabel('loss')\n",
    "plt.xlabel('epoch')\n",
    "plt.legend(['train', 'test'], loc='upper left')\n",
    "plt.show()"
   ]
  },
  {
   "cell_type": "code",
   "execution_count": 32,
   "metadata": {},
   "outputs": [
    {
     "name": "stdout",
     "output_type": "stream",
     "text": [
      "7.2729637321384475\n",
      "5.629937142945105\n",
      "42.03612479474548\n"
     ]
    }
   ],
   "source": [
    "ypredPD['diff']=abs(ypredPD['t + 1']- ypredPD['pred (t +1)'])\n",
    "print(np.mean(ypredPD['diff']))\n",
    "print(np.std(ypredPD['diff']))\n",
    "print(100*ypredPD[ypredPD['diff']<=5].shape[0]/ypredPD.shape[0])"
   ]
  },
  {
   "cell_type": "markdown",
   "metadata": {},
   "source": [
    "SVR\n",
    "======"
   ]
  },
  {
   "cell_type": "code",
   "execution_count": 67,
   "metadata": {},
   "outputs": [],
   "source": [
    "from sklearn.svm import SVR\n",
    "# svr_rbf = SVR(kernel='rbf', C=10, gamma=0.02, epsilon=.001)\n",
    "svr_rbf = SVR(kernel='rbf')"
   ]
  },
  {
   "cell_type": "code",
   "execution_count": 68,
   "metadata": {},
   "outputs": [
    {
     "data": {
      "text/plain": [
       "SVR(C=1.0, cache_size=200, coef0=0.0, degree=3, epsilon=0.1,\n",
       "    gamma='auto_deprecated', kernel='rbf', max_iter=-1, shrinking=True,\n",
       "    tol=0.001, verbose=False)"
      ]
     },
     "execution_count": 68,
     "metadata": {},
     "output_type": "execute_result"
    }
   ],
   "source": [
    "svr_rbf.fit(xtrain, ytrain) "
   ]
  },
  {
   "cell_type": "code",
   "execution_count": 69,
   "metadata": {},
   "outputs": [],
   "source": [
    "ypred=svr_rbf.predict(xtest)"
   ]
  },
  {
   "cell_type": "code",
   "execution_count": 70,
   "metadata": {},
   "outputs": [
    {
     "name": "stdout",
     "output_type": "stream",
     "text": [
      "mean_squared_error 161.39336666257483\n",
      "root mean_squared_error 12.704068901835145\n",
      "mean_absolute_error 10.358164700037666\n",
      "r2_score -0.0005196100571027706\n"
     ]
    },
    {
     "data": {
      "text/html": [
       "<div>\n",
       "<style scoped>\n",
       "    .dataframe tbody tr th:only-of-type {\n",
       "        vertical-align: middle;\n",
       "    }\n",
       "\n",
       "    .dataframe tbody tr th {\n",
       "        vertical-align: top;\n",
       "    }\n",
       "\n",
       "    .dataframe thead th {\n",
       "        text-align: right;\n",
       "    }\n",
       "</style>\n",
       "<table border=\"1\" class=\"dataframe\">\n",
       "  <thead>\n",
       "    <tr style=\"text-align: right;\">\n",
       "      <th></th>\n",
       "      <th>t + 1</th>\n",
       "      <th>pred (t +1)</th>\n",
       "    </tr>\n",
       "  </thead>\n",
       "  <tbody>\n",
       "    <tr>\n",
       "      <th>0</th>\n",
       "      <td>104.0</td>\n",
       "      <td>117.992239</td>\n",
       "    </tr>\n",
       "    <tr>\n",
       "      <th>1</th>\n",
       "      <td>110.0</td>\n",
       "      <td>117.989755</td>\n",
       "    </tr>\n",
       "    <tr>\n",
       "      <th>2</th>\n",
       "      <td>130.0</td>\n",
       "      <td>117.992148</td>\n",
       "    </tr>\n",
       "    <tr>\n",
       "      <th>3</th>\n",
       "      <td>150.0</td>\n",
       "      <td>117.992152</td>\n",
       "    </tr>\n",
       "    <tr>\n",
       "      <th>4</th>\n",
       "      <td>117.0</td>\n",
       "      <td>117.992009</td>\n",
       "    </tr>\n",
       "    <tr>\n",
       "      <th>5</th>\n",
       "      <td>135.0</td>\n",
       "      <td>117.992248</td>\n",
       "    </tr>\n",
       "    <tr>\n",
       "      <th>6</th>\n",
       "      <td>110.0</td>\n",
       "      <td>117.992145</td>\n",
       "    </tr>\n",
       "    <tr>\n",
       "      <th>7</th>\n",
       "      <td>116.0</td>\n",
       "      <td>117.992146</td>\n",
       "    </tr>\n",
       "    <tr>\n",
       "      <th>8</th>\n",
       "      <td>92.0</td>\n",
       "      <td>117.991834</td>\n",
       "    </tr>\n",
       "    <tr>\n",
       "      <th>9</th>\n",
       "      <td>139.0</td>\n",
       "      <td>117.992146</td>\n",
       "    </tr>\n",
       "  </tbody>\n",
       "</table>\n",
       "</div>"
      ],
      "text/plain": [
       "   t + 1  pred (t +1)\n",
       "0  104.0   117.992239\n",
       "1  110.0   117.989755\n",
       "2  130.0   117.992148\n",
       "3  150.0   117.992152\n",
       "4  117.0   117.992009\n",
       "5  135.0   117.992248\n",
       "6  110.0   117.992145\n",
       "7  116.0   117.992146\n",
       "8   92.0   117.991834\n",
       "9  139.0   117.992146"
      ]
     },
     "execution_count": 70,
     "metadata": {},
     "output_type": "execute_result"
    }
   ],
   "source": [
    "import math\n",
    "print('mean_squared_error',mean_squared_error(ytest, ypred))\n",
    "print('root mean_squared_error',math.sqrt(mean_squared_error(ytest, ypred)))\n",
    "print('mean_absolute_error',mean_absolute_error(ytest, ypred))\n",
    "print('r2_score',r2_score(ytest, ypred))\n",
    "\n",
    "ypredPD=pd.DataFrame()\n",
    "# ypredPD['t']=xtest['S000501_x'].values\n",
    "ypredPD['t + 1']=ytest.values.ravel()\n",
    "ypredPD['pred (t +1)']=ypred\n",
    "ypredPD.head(10)"
   ]
  },
  {
   "cell_type": "code",
   "execution_count": null,
   "metadata": {},
   "outputs": [],
   "source": []
  },
  {
   "cell_type": "code",
   "execution_count": null,
   "metadata": {},
   "outputs": [],
   "source": []
  }
 ],
 "metadata": {
  "kernelspec": {
   "display_name": "Python 3",
   "language": "python",
   "name": "python3"
  },
  "language_info": {
   "codemirror_mode": {
    "name": "ipython",
    "version": 3
   },
   "file_extension": ".py",
   "mimetype": "text/x-python",
   "name": "python",
   "nbconvert_exporter": "python",
   "pygments_lexer": "ipython3",
   "version": "3.7.3"
  }
 },
 "nbformat": 4,
 "nbformat_minor": 2
}

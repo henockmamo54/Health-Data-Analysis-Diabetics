{
 "cells": [
  {
   "cell_type": "code",
   "execution_count": 3,
   "metadata": {},
   "outputs": [
    {
     "name": "stderr",
     "output_type": "stream",
     "text": [
      "Using TensorFlow backend.\n"
     ]
    }
   ],
   "source": [
    "from matplotlib import pyplot as plt\n",
    "import pandas as pd \n",
    "import numpy as np\n",
    "import warnings\n",
    "warnings.filterwarnings('ignore')\n",
    "from scipy import stats\n",
    "from sklearn.utils import shuffle\n",
    "from sklearn.preprocessing import LabelEncoder\n",
    "from sklearn.metrics import confusion_matrix \n",
    "from sklearn.utils import shuffle\n",
    "from sklearn.ensemble import RandomForestRegressor\n",
    "from sklearn.datasets import make_regression\n",
    "from sklearn.model_selection import train_test_split\n",
    "from sklearn.metrics import mean_absolute_error\n",
    "from sklearn.metrics import mean_squared_error\n",
    "from sklearn.metrics import mean_absolute_error\n",
    "from sklearn.metrics import r2_score\n",
    "from keras.models import Sequential\n",
    "from keras.layers import Dense\n",
    "from keras.wrappers.scikit_learn import KerasRegressor\n",
    "from sklearn.model_selection import cross_val_score\n",
    "from sklearn.model_selection import KFold\n",
    "from sklearn.preprocessing import StandardScaler\n",
    "from sklearn.pipeline import Pipeline\n",
    "from keras.layers import Dropout\n",
    "from keras.layers import BatchNormalization\n",
    "from keras.models import model_from_json\n",
    "from keras.utils import multi_gpu_model \n",
    "from keras.utils import to_categorical\n"
   ]
  },
  {
   "cell_type": "markdown",
   "metadata": {},
   "source": [
    "Read the data\n",
    "==========="
   ]
  },
  {
   "cell_type": "code",
   "execution_count": 4,
   "metadata": {},
   "outputs": [
    {
     "name": "stdout",
     "output_type": "stream",
     "text": [
      "(159381, 16)\n",
      "(159381, 2)\n"
     ]
    }
   ],
   "source": [
    "x_original=pd.read_csv('../_xlable4_withNa_AllColumns.txt')\n",
    "y_original=pd.read_csv('../_targelable4_withNa_AllColumns.txt')\n",
    "\n",
    "# x_original=x_original[['Unnamed: 0','S000502', 'S000501', 'S000300', 'L190400', 'L190500', 'L190300', 'SEX',\n",
    "#                        'L100700', 'L103000', 'L103300', 'L100800', 'L101700', 'AGE', 'L100500', 'L101300',\n",
    "#                        'S000100', 'L102900','FIELD_33', 'FIELD_38', 'FIELD_7', 'FIELD_29', 'FIELD_27', 'FIELD_6',\n",
    "#                        'FIELD_40', 'FIELD_41', 'FIELD_28', 'FIELD_42', 'FIELD_19']]\n",
    "\n",
    "# y_original=y_original[['Unnamed: 0','S000502', 'S000501', 'S000300', 'L190400', 'L190500', 'L190300', 'SEX',\n",
    "#                        'L100700', 'L103000', 'L103300', 'L100800', 'L101700', 'AGE', 'L100500', 'L101300',\n",
    "#                        'S000100', 'L102900','FIELD_33', 'FIELD_38', 'FIELD_7', 'FIELD_29', 'FIELD_27', 'FIELD_6',\n",
    "#                        'FIELD_40', 'FIELD_41', 'FIELD_28', 'FIELD_42', 'FIELD_19']]\n",
    "\n",
    "x_original=x_original[['Unnamed: 0','S000502', 'S000501', 'S000300', 'L190400', 'L190500', 'L190300', 'SEX',\n",
    "                       'L100700', 'L103000', 'L103300', 'L100800', 'L101700', 'AGE', 'L100500', 'L101300'\n",
    "                       ]]\n",
    "\n",
    "y_original=y_original[['Unnamed: 0','S000502']]\n",
    "\n",
    "\n",
    "print(x_original.shape)\n",
    "print(y_original.shape)\n"
   ]
  },
  {
   "cell_type": "code",
   "execution_count": 5,
   "metadata": {},
   "outputs": [
    {
     "name": "stdout",
     "output_type": "stream",
     "text": [
      "Unnamed: 0 159381\n",
      "S000502 159305\n",
      "S000501 159305\n",
      "S000300 159075\n",
      "L190400 159241\n",
      "L190500 159204\n",
      "L190300 159204\n",
      "SEX 159381\n",
      "L100700 152474\n",
      "L103000 158939\n",
      "L103300 135222\n",
      "L100800 159236\n",
      "L101700 158951\n",
      "AGE 159381\n",
      "L100500 158954\n",
      "L101300 159247\n"
     ]
    }
   ],
   "source": [
    "for index,col in enumerate(x_original.columns):\n",
    "    print(col,x_original[col].dropna().shape[0])"
   ]
  },
  {
   "cell_type": "markdown",
   "metadata": {},
   "source": [
    "Prepare the data\n",
    "============"
   ]
  },
  {
   "cell_type": "code",
   "execution_count": 6,
   "metadata": {},
   "outputs": [],
   "source": [
    "df=x_original.copy()\n",
    "conditions = [\n",
    "    (df.S000501 < 120)  ,\n",
    "    (df.S000501 >= 120) & (df.S000501 < 130),\n",
    "    (df.S000501 >=130)]\n",
    "choices = [0,1,2]\n",
    "df['sbpG'] = np.select(conditions, choices, default=0)\n",
    "df.head()\n",
    "x_original=df.copy()\n",
    "\n",
    "conditions2 = [\n",
    "    (df.S000502 < 80)  ,\n",
    "    (df.S000502 >= 80) & (df.S000502 < 90),\n",
    "    (df.S000502 >=90)]\n",
    "choices2 = [0,1,2]\n",
    "df['dbpG'] = np.select(conditions2, choices2, default=0)\n",
    "df.head()\n",
    "x_original=df.copy()\n",
    "\n",
    "conditions3 = [\n",
    "    (df.AGE < 30)  ,\n",
    "    (df.AGE >= 30) & (df.AGE < 40),\n",
    "    (df.AGE >= 40) & (df.AGE < 50),\n",
    "    (df.AGE >= 50) & (df.AGE < 60),\n",
    "    (df.AGE >= 60)]\n",
    "choices3 = [0,1,2,3,4]\n",
    "df['AgeG'] = np.select(conditions3, choices3, default=0)\n",
    "df.head()\n",
    "x_original=df.copy()\n",
    "\n",
    "\n",
    "conditions4 = [\n",
    "    (df.L100800 < 100)  ,\n",
    "    (df.L100800 >= 100) & (df.L100800 < 126), \n",
    "    (df.L100800 >= 126)]\n",
    "choices4 = [0,1,2]\n",
    "df['CLASS'] = np.select(conditions4, choices4, default=0)\n",
    "df.head()\n",
    "x_original=df.copy()"
   ]
  },
  {
   "cell_type": "code",
   "execution_count": 7,
   "metadata": {},
   "outputs": [
    {
     "name": "stdout",
     "output_type": "stream",
     "text": [
      "(129059, 22)\n"
     ]
    }
   ],
   "source": [
    "data= pd.merge(x_original,y_original, how='inner',left_on='Unnamed: 0', right_on='Unnamed: 0')\n",
    "data=data.dropna(). reset_index()\n",
    "\n",
    "# data=data[data.AGE_x >= 40]\n",
    "# data=data[data.AGE_x < 50]\n",
    "\n",
    "# data=data[data.CLASS_x==0]\n",
    "# data=data[data.sbpG==0]\n",
    "# data=data[data.dbpG==0]\n",
    "\n",
    "# data=data[data.L100800_y <200]\n",
    "\n",
    "print(data.shape)"
   ]
  },
  {
   "cell_type": "code",
   "execution_count": 8,
   "metadata": {},
   "outputs": [
    {
     "name": "stdout",
     "output_type": "stream",
     "text": [
      "(129059, 22)\n",
      "Index(['index', 'Unnamed: 0', 'S000502_x', 'S000501', 'S000300', 'L190400',\n",
      "       'L190500', 'L190300', 'SEX', 'L100700', 'L103000', 'L103300', 'L100800',\n",
      "       'L101700', 'AGE', 'L100500', 'L101300', 'sbpG', 'dbpG', 'AgeG', 'CLASS',\n",
      "       'S000502_y'],\n",
      "      dtype='object')\n"
     ]
    },
    {
     "data": {
      "text/html": [
       "<div>\n",
       "<style scoped>\n",
       "    .dataframe tbody tr th:only-of-type {\n",
       "        vertical-align: middle;\n",
       "    }\n",
       "\n",
       "    .dataframe tbody tr th {\n",
       "        vertical-align: top;\n",
       "    }\n",
       "\n",
       "    .dataframe thead th {\n",
       "        text-align: right;\n",
       "    }\n",
       "</style>\n",
       "<table border=\"1\" class=\"dataframe\">\n",
       "  <thead>\n",
       "    <tr style=\"text-align: right;\">\n",
       "      <th></th>\n",
       "      <th>index</th>\n",
       "      <th>Unnamed: 0</th>\n",
       "      <th>S000502_x</th>\n",
       "      <th>S000501</th>\n",
       "      <th>S000300</th>\n",
       "      <th>L190400</th>\n",
       "      <th>L190500</th>\n",
       "      <th>L190300</th>\n",
       "      <th>SEX</th>\n",
       "      <th>L100700</th>\n",
       "      <th>...</th>\n",
       "      <th>L100800</th>\n",
       "      <th>L101700</th>\n",
       "      <th>AGE</th>\n",
       "      <th>L100500</th>\n",
       "      <th>L101300</th>\n",
       "      <th>sbpG</th>\n",
       "      <th>dbpG</th>\n",
       "      <th>AgeG</th>\n",
       "      <th>CLASS</th>\n",
       "      <th>S000502_y</th>\n",
       "    </tr>\n",
       "  </thead>\n",
       "  <tbody>\n",
       "    <tr>\n",
       "      <th>0</th>\n",
       "      <td>0</td>\n",
       "      <td>0</td>\n",
       "      <td>67.0</td>\n",
       "      <td>121.0</td>\n",
       "      <td>20.1</td>\n",
       "      <td>12.3</td>\n",
       "      <td>38.2</td>\n",
       "      <td>4.20</td>\n",
       "      <td>1.0</td>\n",
       "      <td>3.0</td>\n",
       "      <td>...</td>\n",
       "      <td>77.0</td>\n",
       "      <td>13.0</td>\n",
       "      <td>44.0</td>\n",
       "      <td>0.8</td>\n",
       "      <td>8.0</td>\n",
       "      <td>1</td>\n",
       "      <td>0</td>\n",
       "      <td>2</td>\n",
       "      <td>0</td>\n",
       "      <td>76.0</td>\n",
       "    </tr>\n",
       "    <tr>\n",
       "      <th>1</th>\n",
       "      <td>1</td>\n",
       "      <td>1</td>\n",
       "      <td>76.0</td>\n",
       "      <td>117.0</td>\n",
       "      <td>19.7</td>\n",
       "      <td>13.1</td>\n",
       "      <td>39.0</td>\n",
       "      <td>4.24</td>\n",
       "      <td>1.0</td>\n",
       "      <td>3.0</td>\n",
       "      <td>...</td>\n",
       "      <td>89.0</td>\n",
       "      <td>14.0</td>\n",
       "      <td>45.0</td>\n",
       "      <td>0.8</td>\n",
       "      <td>9.0</td>\n",
       "      <td>0</td>\n",
       "      <td>0</td>\n",
       "      <td>2</td>\n",
       "      <td>0</td>\n",
       "      <td>82.0</td>\n",
       "    </tr>\n",
       "    <tr>\n",
       "      <th>2</th>\n",
       "      <td>2</td>\n",
       "      <td>2</td>\n",
       "      <td>82.0</td>\n",
       "      <td>135.0</td>\n",
       "      <td>20.2</td>\n",
       "      <td>12.9</td>\n",
       "      <td>38.4</td>\n",
       "      <td>4.26</td>\n",
       "      <td>1.0</td>\n",
       "      <td>3.8</td>\n",
       "      <td>...</td>\n",
       "      <td>78.0</td>\n",
       "      <td>15.0</td>\n",
       "      <td>46.0</td>\n",
       "      <td>0.8</td>\n",
       "      <td>10.0</td>\n",
       "      <td>2</td>\n",
       "      <td>1</td>\n",
       "      <td>2</td>\n",
       "      <td>0</td>\n",
       "      <td>78.0</td>\n",
       "    </tr>\n",
       "    <tr>\n",
       "      <th>3</th>\n",
       "      <td>3</td>\n",
       "      <td>3</td>\n",
       "      <td>71.0</td>\n",
       "      <td>118.0</td>\n",
       "      <td>24.8</td>\n",
       "      <td>13.5</td>\n",
       "      <td>40.3</td>\n",
       "      <td>4.20</td>\n",
       "      <td>1.0</td>\n",
       "      <td>3.7</td>\n",
       "      <td>...</td>\n",
       "      <td>95.0</td>\n",
       "      <td>10.0</td>\n",
       "      <td>51.0</td>\n",
       "      <td>0.8</td>\n",
       "      <td>12.0</td>\n",
       "      <td>0</td>\n",
       "      <td>0</td>\n",
       "      <td>3</td>\n",
       "      <td>0</td>\n",
       "      <td>65.0</td>\n",
       "    </tr>\n",
       "    <tr>\n",
       "      <th>4</th>\n",
       "      <td>4</td>\n",
       "      <td>4</td>\n",
       "      <td>65.0</td>\n",
       "      <td>111.0</td>\n",
       "      <td>25.5</td>\n",
       "      <td>12.6</td>\n",
       "      <td>38.6</td>\n",
       "      <td>3.92</td>\n",
       "      <td>1.0</td>\n",
       "      <td>3.4</td>\n",
       "      <td>...</td>\n",
       "      <td>90.0</td>\n",
       "      <td>12.0</td>\n",
       "      <td>52.0</td>\n",
       "      <td>0.8</td>\n",
       "      <td>12.0</td>\n",
       "      <td>0</td>\n",
       "      <td>0</td>\n",
       "      <td>3</td>\n",
       "      <td>0</td>\n",
       "      <td>65.0</td>\n",
       "    </tr>\n",
       "  </tbody>\n",
       "</table>\n",
       "<p>5 rows × 22 columns</p>\n",
       "</div>"
      ],
      "text/plain": [
       "   index  Unnamed: 0  S000502_x  S000501  S000300  L190400  L190500  L190300  \\\n",
       "0      0           0       67.0    121.0     20.1     12.3     38.2     4.20   \n",
       "1      1           1       76.0    117.0     19.7     13.1     39.0     4.24   \n",
       "2      2           2       82.0    135.0     20.2     12.9     38.4     4.26   \n",
       "3      3           3       71.0    118.0     24.8     13.5     40.3     4.20   \n",
       "4      4           4       65.0    111.0     25.5     12.6     38.6     3.92   \n",
       "\n",
       "   SEX  L100700  ...  L100800  L101700   AGE  L100500  L101300  sbpG  dbpG  \\\n",
       "0  1.0      3.0  ...     77.0     13.0  44.0      0.8      8.0     1     0   \n",
       "1  1.0      3.0  ...     89.0     14.0  45.0      0.8      9.0     0     0   \n",
       "2  1.0      3.8  ...     78.0     15.0  46.0      0.8     10.0     2     1   \n",
       "3  1.0      3.7  ...     95.0     10.0  51.0      0.8     12.0     0     0   \n",
       "4  1.0      3.4  ...     90.0     12.0  52.0      0.8     12.0     0     0   \n",
       "\n",
       "   AgeG  CLASS  S000502_y  \n",
       "0     2      0       76.0  \n",
       "1     2      0       82.0  \n",
       "2     2      0       78.0  \n",
       "3     3      0       65.0  \n",
       "4     3      0       65.0  \n",
       "\n",
       "[5 rows x 22 columns]"
      ]
     },
     "execution_count": 8,
     "metadata": {},
     "output_type": "execute_result"
    }
   ],
   "source": [
    "print(data.shape)\n",
    "print(data.columns)\n",
    "data.head()"
   ]
  },
  {
   "cell_type": "code",
   "execution_count": 10,
   "metadata": {},
   "outputs": [],
   "source": [
    "# x=data[['S000502_x', 'S000501_x', 'S000300_x', 'L190400_x', 'L190500_x', 'L190300_x', 'SEX_x',\n",
    "#                        'L100700_x', 'L103000_x', 'L103300_x', 'L100800_x', 'L101700_x', 'AGE_x', 'L100500_x', 'L101300_x',\n",
    "#                        'S000100_x', 'L102900_x','FIELD_33_x', 'FIELD_38_x', 'FIELD_7_x', 'FIELD_29_x', 'FIELD_27_x', 'FIELD_6_x',\n",
    "#                        'FIELD_40_x', 'FIELD_41_x', 'FIELD_28_x', 'FIELD_42_x', 'FIELD_19_x',\n",
    "#         'CLASS','sbpG','dbpG','AgeG']]\n",
    "\n",
    "# y=data[['S000502_y', 'S000501_y', 'S000300_y', 'L190400_y', 'L190500_y', 'L190300_y', 'SEX_y',\n",
    "#                        'L100700_y', 'L103000_y', 'L103300_y', 'L100800_y', 'L101700_y', 'AGE_y', 'L100500_y', 'L101300_y',\n",
    "#                        'S000100_y', 'L102900_y','FIELD_33_y', 'FIELD_38_y', 'FIELD_7_y', 'FIELD_29_y', 'FIELD_27_y', 'FIELD_6_y',\n",
    "#                        'FIELD_40_y', 'FIELD_41_y', 'FIELD_28_y', 'FIELD_42_y', 'FIELD_19_y'\n",
    "#         ]]\n",
    "\n",
    "x=data[['S000502_x', 'S000501', 'S000300', 'L190400', 'L190500', 'L190300', 'SEX',\n",
    "                       'L100700', 'L103000', 'L103300', 'L100800', 'L101700', 'AGE', 'L100500', 'L101300']]\n",
    "\n",
    "y=data[['S000502_y']]"
   ]
  },
  {
   "cell_type": "markdown",
   "metadata": {},
   "source": [
    "Check the correlation of the selected feature with the independent variables\n",
    "====="
   ]
  },
  {
   "cell_type": "code",
   "execution_count": 12,
   "metadata": {},
   "outputs": [],
   "source": [
    "temppd=pd.DataFrame(x.copy())\n",
    "temppd['y']=y.S000502_y\n",
    "temppd.head()\n",
    "corval=abs(temppd.corr()).sort_values(by='y', ascending=False)"
   ]
  },
  {
   "cell_type": "code",
   "execution_count": 13,
   "metadata": {},
   "outputs": [
    {
     "data": {
      "text/plain": [
       "y            1.000000\n",
       "S000502_x    0.587135\n",
       "S000501      0.576698\n",
       "S000300      0.371655\n",
       "SEX          0.332026\n",
       "L190400      0.327824\n",
       "L190300      0.322543\n",
       "L190500      0.318169\n",
       "L100700      0.310325\n",
       "L103300      0.268800\n",
       "L103000      0.258139\n",
       "L101700      0.245664\n",
       "L100500      0.245534\n",
       "L100800      0.241453\n",
       "L101300      0.218401\n",
       "AGE          0.167756\n",
       "Name: y, dtype: float64"
      ]
     },
     "execution_count": 13,
     "metadata": {},
     "output_type": "execute_result"
    }
   ],
   "source": [
    "corval.y"
   ]
  },
  {
   "cell_type": "code",
   "execution_count": 14,
   "metadata": {},
   "outputs": [],
   "source": [
    "#histogram plot of the features\n",
    "# import matplotlib.pyplot as plt\n",
    "# x[x.dtypes[(x.dtypes==\"float64\")|(x.dtypes==\"int64\")]\n",
    "#                         .index.values].hist(figsize=[11,11])"
   ]
  },
  {
   "cell_type": "markdown",
   "metadata": {},
   "source": [
    "Apply PCA\n",
    "==========="
   ]
  },
  {
   "cell_type": "code",
   "execution_count": 15,
   "metadata": {},
   "outputs": [],
   "source": [
    "# from sklearn.decomposition import PCA\n",
    "# pca = PCA(n_components=8)\n",
    "# pca.fit(x)\n",
    "\n",
    "# print(pca.explained_variance_ratio_)   \n",
    "# print(np.sum(pca.explained_variance_ratio_))\n",
    "\n",
    "# x=pca.fit_transform(x) \n",
    "# print(x.shape)\n"
   ]
  },
  {
   "cell_type": "markdown",
   "metadata": {},
   "source": [
    "feature scaling\n",
    "======="
   ]
  },
  {
   "cell_type": "code",
   "execution_count": 16,
   "metadata": {},
   "outputs": [],
   "source": [
    "# from sklearn import preprocessing\n",
    "# min_max_scaler = preprocessing.MinMaxScaler()  #StandardScaler()\n",
    "# x = min_max_scaler.fit_transform(x)"
   ]
  },
  {
   "cell_type": "markdown",
   "metadata": {},
   "source": [
    "clustring test\n",
    "=========="
   ]
  },
  {
   "cell_type": "code",
   "execution_count": 17,
   "metadata": {},
   "outputs": [],
   "source": [
    "# from sklearn.cluster import KMeans\n",
    "# from scipy.spatial.distance import cdist\n",
    "\n",
    "# K = range(1,10)\n",
    "# distortions = []\n",
    "\n",
    "# for k in K:\n",
    "#     kmeanModel = KMeans(n_clusters=k).fit(x)\n",
    "#     kmeanModel.fit(x)\n",
    "#     distortions.append(sum(np.min(cdist(x, kmeanModel.cluster_centers_, 'euclidean'), axis=1)) / x.shape[0])\n",
    "\n",
    "# # Plot the elbow\n",
    "# plt.plot(K, distortions, 'bx-')\n",
    "# plt.xlabel('k')\n",
    "# plt.ylabel('Distortion')\n",
    "# plt.title('The Elbow Method showing the optimal k')\n",
    "# plt.show()\n"
   ]
  },
  {
   "cell_type": "code",
   "execution_count": 18,
   "metadata": {},
   "outputs": [],
   "source": [
    "# kmeanModel = KMeans(n_clusters=k).fit(x)\n",
    "# x['lbl']=kmeanModel.labels_ "
   ]
  },
  {
   "cell_type": "code",
   "execution_count": 19,
   "metadata": {},
   "outputs": [],
   "source": [
    "# x.columns"
   ]
  },
  {
   "cell_type": "markdown",
   "metadata": {},
   "source": [
    "Random Forest Regressor\n",
    "============="
   ]
  },
  {
   "cell_type": "code",
   "execution_count": 20,
   "metadata": {},
   "outputs": [],
   "source": [
    "ylable=y[['S000502_y']]  \n",
    "xtrain,xtest,ytrain,ytest=train_test_split(x, ylable, random_state=42, test_size=0.2)"
   ]
  },
  {
   "cell_type": "code",
   "execution_count": 21,
   "metadata": {},
   "outputs": [
    {
     "name": "stdout",
     "output_type": "stream",
     "text": [
      "[6.29534615e-01 2.76210031e-01 1.95379009e-02 2.32723738e-03\n",
      " 1.14369416e-03 2.80385785e-03 2.55738125e-02 2.55463033e-03\n",
      " 2.89559758e-03 1.49748778e-03 1.27218526e-03 2.24327093e-02\n",
      " 1.05240667e-02 3.26830210e-04 1.36534440e-03]\n"
     ]
    }
   ],
   "source": [
    "regr = RandomForestRegressor(max_depth=7, random_state=0,verbose =0,n_estimators=500)\n",
    "regr.fit(xtrain, ytrain) \n",
    "print(regr.feature_importances_)\n",
    "ypred=regr.predict(xtest)\n"
   ]
  },
  {
   "cell_type": "code",
   "execution_count": 22,
   "metadata": {},
   "outputs": [
    {
     "name": "stdout",
     "output_type": "stream",
     "text": [
      "mean_squared_error 48.93743776734448\n",
      "root mean_squared_error 6.995529841787859\n",
      "mean_absolute_error 5.619691668031011\n",
      "r2_score 0.4206851867770648\n"
     ]
    },
    {
     "data": {
      "image/png": "[encoded data removed]",
      "text/plain": [
       "<Figure size 432x288 with 1 Axes>"
      ]
     },
     "metadata": {
      "needs_background": "light"
     },
     "output_type": "display_data"
    },
    {
     "data": {
      "text/html": [
       "<div>\n",
       "<style scoped>\n",
       "    .dataframe tbody tr th:only-of-type {\n",
       "        vertical-align: middle;\n",
       "    }\n",
       "\n",
       "    .dataframe tbody tr th {\n",
       "        vertical-align: top;\n",
       "    }\n",
       "\n",
       "    .dataframe thead th {\n",
       "        text-align: right;\n",
       "    }\n",
       "</style>\n",
       "<table border=\"1\" class=\"dataframe\">\n",
       "  <thead>\n",
       "    <tr style=\"text-align: right;\">\n",
       "      <th></th>\n",
       "      <th>t + 1</th>\n",
       "      <th>pred (t +1)</th>\n",
       "    </tr>\n",
       "  </thead>\n",
       "  <tbody>\n",
       "    <tr>\n",
       "      <th>6839</th>\n",
       "      <td>110.0</td>\n",
       "      <td>83.898821</td>\n",
       "    </tr>\n",
       "    <tr>\n",
       "      <th>6884</th>\n",
       "      <td>111.0</td>\n",
       "      <td>77.705827</td>\n",
       "    </tr>\n",
       "    <tr>\n",
       "      <th>15888</th>\n",
       "      <td>111.0</td>\n",
       "      <td>87.381344</td>\n",
       "    </tr>\n",
       "    <tr>\n",
       "      <th>2337</th>\n",
       "      <td>112.0</td>\n",
       "      <td>82.870969</td>\n",
       "    </tr>\n",
       "    <tr>\n",
       "      <th>2296</th>\n",
       "      <td>113.0</td>\n",
       "      <td>83.269166</td>\n",
       "    </tr>\n",
       "    <tr>\n",
       "      <th>1328</th>\n",
       "      <td>113.0</td>\n",
       "      <td>87.341588</td>\n",
       "    </tr>\n",
       "    <tr>\n",
       "      <th>4294</th>\n",
       "      <td>115.0</td>\n",
       "      <td>85.415632</td>\n",
       "    </tr>\n",
       "    <tr>\n",
       "      <th>10329</th>\n",
       "      <td>120.0</td>\n",
       "      <td>85.824975</td>\n",
       "    </tr>\n",
       "    <tr>\n",
       "      <th>16840</th>\n",
       "      <td>120.0</td>\n",
       "      <td>90.654337</td>\n",
       "    </tr>\n",
       "    <tr>\n",
       "      <th>2050</th>\n",
       "      <td>120.0</td>\n",
       "      <td>77.873342</td>\n",
       "    </tr>\n",
       "  </tbody>\n",
       "</table>\n",
       "</div>"
      ],
      "text/plain": [
       "       t + 1  pred (t +1)\n",
       "6839   110.0    83.898821\n",
       "6884   111.0    77.705827\n",
       "15888  111.0    87.381344\n",
       "2337   112.0    82.870969\n",
       "2296   113.0    83.269166\n",
       "1328   113.0    87.341588\n",
       "4294   115.0    85.415632\n",
       "10329  120.0    85.824975\n",
       "16840  120.0    90.654337\n",
       "2050   120.0    77.873342"
      ]
     },
     "execution_count": 22,
     "metadata": {},
     "output_type": "execute_result"
    },
    {
     "data": {
      "image/png": "[encoded data removed]",
      "text/plain": [
       "<Figure size 432x288 with 1 Axes>"
      ]
     },
     "metadata": {
      "needs_background": "light"
     },
     "output_type": "display_data"
    }
   ],
   "source": [
    "\n",
    "import math\n",
    "print('mean_squared_error',mean_squared_error(ytest, ypred))\n",
    "print('root mean_squared_error',math.sqrt(mean_squared_error(ytest, ypred)))\n",
    "print('mean_absolute_error',mean_absolute_error(ytest, ypred))\n",
    "print('r2_score',r2_score(ytest, ypred))\n",
    "\n",
    "ypredPD=pd.DataFrame()\n",
    "# ypredPD['t']=xtest['S000501_x'].values\n",
    "ypredPD['t + 1']=ytest.values.ravel()\n",
    "ypredPD['pred (t +1)']=ypred\n",
    "ypredPD.head(30)\n",
    "\n",
    "import matplotlib.patches as mpatches\n",
    "plt.ylabel('Values')\n",
    "plt.xlabel('index')\n",
    "red_patch = mpatches.Patch(color='red', label='Actual data')\n",
    "blue_patch = mpatches.Patch(color='blue', label='Predicted data')\n",
    "plt.legend(handles=[red_patch,blue_patch])\n",
    "\n",
    "ypredPD=ypredPD.sort_values(by=['t + 1'])\n",
    "plt.scatter(np.arange(0,ypredPD.shape[0],1),ypredPD['pred (t +1)'][:ypredPD.shape[0]])\n",
    "plt.plot(np.arange(0,ypredPD.shape[0],1),ypredPD['t + 1'][:ypredPD.shape[0]],color='red')\n",
    "plt.show()\n",
    "\n",
    "plt.ylabel('p*(t+1), Predicted data')\n",
    "plt.xlabel('p(t+1), Actual data')\n",
    "plt.scatter(ypredPD['t + 1'][:ypredPD.shape[0]],ypredPD['pred (t +1)'][:ypredPD.shape[0]])\n",
    "\n",
    "ypredPD.tail(10)"
   ]
  },
  {
   "cell_type": "code",
   "execution_count": 23,
   "metadata": {},
   "outputs": [],
   "source": [
    "# tempdata=pd.DataFrame(xtest.copy())\n",
    "# tempdata['ytest']=ytest\n",
    "# # temp=temp.dropna()\n",
    "# # tempdata.head()\n",
    "# # tempdata[tempdata.ytest.isna()].index\n",
    "\n",
    "# tempdata=tempdata.drop(tempdata[tempdata.ytest.isna()].index)\n"
   ]
  },
  {
   "cell_type": "markdown",
   "metadata": {},
   "source": [
    "xg boost\n",
    "=========="
   ]
  },
  {
   "cell_type": "code",
   "execution_count": 24,
   "metadata": {},
   "outputs": [],
   "source": [
    "import xgboost as xgb\n",
    "# from sklearn.metrics import mean_squared_error\n",
    "# import pandas as pd\n",
    "# import numpy as np"
   ]
  },
  {
   "cell_type": "code",
   "execution_count": 25,
   "metadata": {},
   "outputs": [
    {
     "name": "stdout",
     "output_type": "stream",
     "text": [
      "[03:14:05] WARNING: C:/Jenkins/workspace/xgboost-win64_release_0.90/src/objective/regression_obj.cu:152: reg:linear is now deprecated in favor of reg:squarederror.\n"
     ]
    },
    {
     "data": {
      "text/plain": [
       "XGBRegressor(base_score=0.5, booster='gbtree', colsample_bylevel=1,\n",
       "             colsample_bynode=1, colsample_bytree=1, gamma=0,\n",
       "             importance_type='gain', learning_rate=0.1, max_delta_step=0,\n",
       "             max_depth=3, min_child_weight=1, missing=None, n_estimators=100,\n",
       "             n_jobs=1, nthread=None, objective='reg:linear', random_state=0,\n",
       "             reg_alpha=0, reg_lambda=1, scale_pos_weight=1, seed=None,\n",
       "             silent=None, subsample=1, verbosity=1)"
      ]
     },
     "execution_count": 25,
     "metadata": {},
     "output_type": "execute_result"
    }
   ],
   "source": [
    "xg_reg = xgb.XGBRegressor()\n",
    "# xg_reg = xgb.XGBRegressor(objective ='reg:linear', colsample_bytree = 0.3, \n",
    "#                           learning_rate = 0.1,max_depth = 5, alpha = 10, n_estimators = 10)\n",
    "xg_reg.fit(xtrain, ytrain) "
   ]
  },
  {
   "cell_type": "code",
   "execution_count": 26,
   "metadata": {},
   "outputs": [
    {
     "name": "stdout",
     "output_type": "stream",
     "text": [
      "mean_squared_error 48.4846573186078\n",
      "root mean_squared_error 6.963092511133814\n",
      "mean_absolute_error 5.587668842443954\n",
      "r2_score 0.42604514089517587\n"
     ]
    }
   ],
   "source": [
    "\n",
    "ypred = xg_reg.predict(xtest)\n",
    "\n",
    "import math\n",
    "print('mean_squared_error',mean_squared_error(ytest, ypred))\n",
    "print('root mean_squared_error',math.sqrt(mean_squared_error(ytest, ypred)))\n",
    "print('mean_absolute_error',mean_absolute_error(ytest, ypred))\n",
    "print('r2_score',r2_score(ytest, ypred))\n",
    "\n",
    "# ypredPD=pd.DataFrame()\n",
    "# ypredPD['t']=xtest['S000501_x'].values\n",
    "# ypredPD['t + 1']=ytest.values\n",
    "# ypredPD['pred (t +1)']=ypred\n",
    "# ypredPD.head(10)"
   ]
  },
  {
   "cell_type": "code",
   "execution_count": 27,
   "metadata": {},
   "outputs": [],
   "source": [
    "# ytest[ytest.isna()].shape\n",
    "# tempdata.iloc[:,-1]"
   ]
  },
  {
   "cell_type": "markdown",
   "metadata": {},
   "source": [
    "ANN\n",
    "=========="
   ]
  },
  {
   "cell_type": "code",
   "execution_count": 38,
   "metadata": {},
   "outputs": [],
   "source": [
    "model= Sequential()\n",
    "model.add(Dense(input_dim=32,units=128,activation='relu', kernel_initializer='uniform'))\n",
    "model.add(Dense(units=128, activation='relu', kernel_initializer='uniform')) \n",
    "model.add(BatchNormalization())\n",
    "model.add(Dropout(0.25))  \n",
    "model.add(Dense(units=64, activation='relu', kernel_initializer='uniform'))\n",
    "model.add(Dense(units=32, activation='relu', kernel_initializer='uniform')) \n",
    "model.add(BatchNormalization())\n",
    "model.add(Dropout(0.25))  \n",
    "model.add(Dense(units=16, activation='relu', kernel_initializer='uniform'))\n",
    "model.add(BatchNormalization())\n",
    "model.add(Dropout(0.25))  \n",
    "model.add(Dense(units=8, activation='relu', kernel_initializer='uniform'))\n",
    "model.add(Dense(units=1, kernel_initializer='uniform'))\n",
    "model.compile(loss='mean_squared_error', optimizer='Nadam', metrics=['mean_squared_error' ])"
   ]
  },
  {
   "cell_type": "code",
   "execution_count": 39,
   "metadata": {
    "scrolled": true
   },
   "outputs": [
    {
     "name": "stdout",
     "output_type": "stream",
     "text": [
      "Train on 23081 samples, validate on 5771 samples\n",
      "Epoch 1/100\n",
      "23081/23081 [==============================] - 2s 67us/step - loss: 1685.2696 - mean_squared_error: 1685.2696 - val_loss: 130.0532 - val_mean_squared_error: 130.0532\n",
      "Epoch 2/100\n",
      "23081/23081 [==============================] - 1s 31us/step - loss: 267.1356 - mean_squared_error: 267.1356 - val_loss: 64.9673 - val_mean_squared_error: 64.9673\n",
      "Epoch 3/100\n",
      "23081/23081 [==============================] - 1s 32us/step - loss: 286.2935 - mean_squared_error: 286.2935 - val_loss: 133.5067 - val_mean_squared_error: 133.5067\n",
      "Epoch 4/100\n",
      "23081/23081 [==============================] - 1s 31us/step - loss: 155.4325 - mean_squared_error: 155.4325 - val_loss: 2245.0856 - val_mean_squared_error: 2245.0856\n",
      "Epoch 5/100\n",
      "23081/23081 [==============================] - 1s 31us/step - loss: 143.3802 - mean_squared_error: 143.3802 - val_loss: 45.7587 - val_mean_squared_error: 45.7587\n",
      "Epoch 6/100\n",
      "23081/23081 [==============================] - 1s 31us/step - loss: 131.2196 - mean_squared_error: 131.2196 - val_loss: 44.5788 - val_mean_squared_error: 44.5788\n",
      "Epoch 7/100\n",
      "23081/23081 [==============================] - 1s 31us/step - loss: 123.7518 - mean_squared_error: 123.7518 - val_loss: 49.2118 - val_mean_squared_error: 49.2118\n",
      "Epoch 8/100\n",
      "23081/23081 [==============================] - 1s 32us/step - loss: 115.3774 - mean_squared_error: 115.3774 - val_loss: 40.6133 - val_mean_squared_error: 40.6133\n",
      "Epoch 9/100\n",
      "23081/23081 [==============================] - 1s 31us/step - loss: 108.5155 - mean_squared_error: 108.5155 - val_loss: 44.1862 - val_mean_squared_error: 44.1862\n",
      "Epoch 10/100\n",
      "23081/23081 [==============================] - 1s 32us/step - loss: 101.0738 - mean_squared_error: 101.0738 - val_loss: 45.5019 - val_mean_squared_error: 45.5019\n",
      "Epoch 11/100\n",
      "23081/23081 [==============================] - 1s 31us/step - loss: 94.0239 - mean_squared_error: 94.0239 - val_loss: 48.1877 - val_mean_squared_error: 48.1877\n",
      "Epoch 12/100\n",
      "23081/23081 [==============================] - 1s 31us/step - loss: 87.7580 - mean_squared_error: 87.7580 - val_loss: 41.0510 - val_mean_squared_error: 41.0510\n",
      "Epoch 13/100\n",
      "23081/23081 [==============================] - 1s 31us/step - loss: 80.3213 - mean_squared_error: 80.3213 - val_loss: 40.9259 - val_mean_squared_error: 40.9259\n",
      "Epoch 14/100\n",
      "23081/23081 [==============================] - 1s 31us/step - loss: 73.5868 - mean_squared_error: 73.5868 - val_loss: 45.7241 - val_mean_squared_error: 45.7241\n",
      "Epoch 15/100\n",
      "23081/23081 [==============================] - 1s 32us/step - loss: 66.7430 - mean_squared_error: 66.7430 - val_loss: 41.1920 - val_mean_squared_error: 41.1920\n",
      "Epoch 16/100\n",
      "23081/23081 [==============================] - 1s 31us/step - loss: 61.3458 - mean_squared_error: 61.3458 - val_loss: 39.9594 - val_mean_squared_error: 39.9594\n",
      "Epoch 17/100\n",
      "23081/23081 [==============================] - 1s 32us/step - loss: 56.3711 - mean_squared_error: 56.3711 - val_loss: 40.4932 - val_mean_squared_error: 40.4932\n",
      "Epoch 18/100\n",
      "23081/23081 [==============================] - 1s 31us/step - loss: 52.3720 - mean_squared_error: 52.3720 - val_loss: 40.6693 - val_mean_squared_error: 40.6693\n",
      "Epoch 19/100\n",
      "23081/23081 [==============================] - 1s 32us/step - loss: 49.8104 - mean_squared_error: 49.8104 - val_loss: 41.2666 - val_mean_squared_error: 41.2666\n",
      "Epoch 20/100\n",
      "23081/23081 [==============================] - 1s 31us/step - loss: 48.9107 - mean_squared_error: 48.9107 - val_loss: 41.2687 - val_mean_squared_error: 41.2687\n",
      "Epoch 21/100\n",
      "23081/23081 [==============================] - 1s 32us/step - loss: 47.6552 - mean_squared_error: 47.6552 - val_loss: 40.3188 - val_mean_squared_error: 40.3188\n",
      "Epoch 22/100\n",
      "23081/23081 [==============================] - 1s 31us/step - loss: 46.7344 - mean_squared_error: 46.7344 - val_loss: 41.1724 - val_mean_squared_error: 41.1724\n",
      "Epoch 23/100\n",
      "23081/23081 [==============================] - 1s 33us/step - loss: 45.9330 - mean_squared_error: 45.9330 - val_loss: 45.5595 - val_mean_squared_error: 45.5595\n",
      "Epoch 24/100\n",
      "23081/23081 [==============================] - 1s 33us/step - loss: 45.8430 - mean_squared_error: 45.8430 - val_loss: 41.8295 - val_mean_squared_error: 41.8295\n",
      "Epoch 25/100\n",
      "23081/23081 [==============================] - 1s 34us/step - loss: 45.6800 - mean_squared_error: 45.6800 - val_loss: 40.4860 - val_mean_squared_error: 40.4860\n",
      "Epoch 26/100\n",
      "23081/23081 [==============================] - 1s 34us/step - loss: 45.4696 - mean_squared_error: 45.4696 - val_loss: 41.2980 - val_mean_squared_error: 41.2980\n",
      "Epoch 27/100\n",
      "23081/23081 [==============================] - 1s 33us/step - loss: 45.2436 - mean_squared_error: 45.2436 - val_loss: 41.9847 - val_mean_squared_error: 41.9847\n",
      "Epoch 28/100\n",
      "23081/23081 [==============================] - 1s 33us/step - loss: 44.8756 - mean_squared_error: 44.8756 - val_loss: 48.1079 - val_mean_squared_error: 48.1079\n",
      "Epoch 29/100\n",
      "23081/23081 [==============================] - 1s 34us/step - loss: 44.9218 - mean_squared_error: 44.9218 - val_loss: 44.6788 - val_mean_squared_error: 44.6788\n",
      "Epoch 30/100\n",
      "23081/23081 [==============================] - 1s 35us/step - loss: 45.4081 - mean_squared_error: 45.4081 - val_loss: 41.8368 - val_mean_squared_error: 41.8368\n",
      "Epoch 31/100\n",
      "23081/23081 [==============================] - 1s 34us/step - loss: 44.6926 - mean_squared_error: 44.6926 - val_loss: 41.5464 - val_mean_squared_error: 41.5464\n",
      "Epoch 32/100\n",
      "23081/23081 [==============================] - 1s 34us/step - loss: 44.6816 - mean_squared_error: 44.6816 - val_loss: 43.8408 - val_mean_squared_error: 43.8408\n",
      "Epoch 33/100\n",
      "23081/23081 [==============================] - 1s 34us/step - loss: 44.4363 - mean_squared_error: 44.4363 - val_loss: 41.6928 - val_mean_squared_error: 41.6928\n",
      "Epoch 34/100\n",
      "23081/23081 [==============================] - 1s 34us/step - loss: 44.3833 - mean_squared_error: 44.3833 - val_loss: 39.8086 - val_mean_squared_error: 39.8086\n",
      "Epoch 35/100\n",
      "23081/23081 [==============================] - 1s 34us/step - loss: 44.3446 - mean_squared_error: 44.3446 - val_loss: 91.8084 - val_mean_squared_error: 91.8084\n",
      "Epoch 36/100\n",
      "23081/23081 [==============================] - 1s 33us/step - loss: 44.6084 - mean_squared_error: 44.6084 - val_loss: 41.0474 - val_mean_squared_error: 41.0474\n",
      "Epoch 37/100\n",
      "23081/23081 [==============================] - 1s 34us/step - loss: 44.1124 - mean_squared_error: 44.1124 - val_loss: 40.7021 - val_mean_squared_error: 40.7021\n",
      "Epoch 38/100\n",
      "23081/23081 [==============================] - 1s 35us/step - loss: 44.1929 - mean_squared_error: 44.1929 - val_loss: 39.8244 - val_mean_squared_error: 39.8244\n",
      "Epoch 39/100\n",
      "23081/23081 [==============================] - 1s 34us/step - loss: 44.5588 - mean_squared_error: 44.5588 - val_loss: 39.6231 - val_mean_squared_error: 39.6231\n",
      "Epoch 40/100\n",
      "23081/23081 [==============================] - 1s 35us/step - loss: 44.3353 - mean_squared_error: 44.3353 - val_loss: 43.1020 - val_mean_squared_error: 43.1020\n",
      "Epoch 41/100\n",
      "23081/23081 [==============================] - 1s 34us/step - loss: 44.3135 - mean_squared_error: 44.3135 - val_loss: 40.3830 - val_mean_squared_error: 40.3830\n",
      "Epoch 42/100\n",
      "23081/23081 [==============================] - 1s 34us/step - loss: 44.2347 - mean_squared_error: 44.2347 - val_loss: 40.2082 - val_mean_squared_error: 40.2082\n",
      "Epoch 43/100\n",
      "23081/23081 [==============================] - 1s 33us/step - loss: 44.3514 - mean_squared_error: 44.3514 - val_loss: 39.7962 - val_mean_squared_error: 39.7962\n",
      "Epoch 44/100\n",
      "23081/23081 [==============================] - 1s 34us/step - loss: 44.1962 - mean_squared_error: 44.1962 - val_loss: 42.2737 - val_mean_squared_error: 42.2737\n",
      "Epoch 45/100\n",
      "23081/23081 [==============================] - 1s 34us/step - loss: 44.3536 - mean_squared_error: 44.3536 - val_loss: 39.5656 - val_mean_squared_error: 39.5656\n",
      "Epoch 46/100\n",
      "23081/23081 [==============================] - 1s 34us/step - loss: 43.9540 - mean_squared_error: 43.9540 - val_loss: 44.0226 - val_mean_squared_error: 44.0226\n",
      "Epoch 47/100\n",
      "23081/23081 [==============================] - 1s 34us/step - loss: 44.2546 - mean_squared_error: 44.2546 - val_loss: 43.2463 - val_mean_squared_error: 43.2463\n"
     ]
    },
    {
     "name": "stdout",
     "output_type": "stream",
     "text": [
      "Epoch 48/100\n",
      "23081/23081 [==============================] - 1s 34us/step - loss: 44.2245 - mean_squared_error: 44.2245 - val_loss: 41.6533 - val_mean_squared_error: 41.6533\n",
      "Epoch 49/100\n",
      "23081/23081 [==============================] - 1s 34us/step - loss: 44.2098 - mean_squared_error: 44.2098 - val_loss: 39.7779 - val_mean_squared_error: 39.7779\n",
      "Epoch 50/100\n",
      "23081/23081 [==============================] - 1s 35us/step - loss: 43.9036 - mean_squared_error: 43.9036 - val_loss: 40.1667 - val_mean_squared_error: 40.1667\n",
      "Epoch 51/100\n",
      "23081/23081 [==============================] - 1s 34us/step - loss: 43.7038 - mean_squared_error: 43.7038 - val_loss: 40.5862 - val_mean_squared_error: 40.5862\n",
      "Epoch 52/100\n",
      "23081/23081 [==============================] - 1s 34us/step - loss: 44.2443 - mean_squared_error: 44.2443 - val_loss: 41.3574 - val_mean_squared_error: 41.3574\n",
      "Epoch 53/100\n",
      "23081/23081 [==============================] - 1s 33us/step - loss: 43.9789 - mean_squared_error: 43.9789 - val_loss: 43.3988 - val_mean_squared_error: 43.3988\n",
      "Epoch 54/100\n",
      "23081/23081 [==============================] - 1s 34us/step - loss: 43.5867 - mean_squared_error: 43.5867 - val_loss: 47.0778 - val_mean_squared_error: 47.0778\n",
      "Epoch 55/100\n",
      "23081/23081 [==============================] - 1s 34us/step - loss: 43.7942 - mean_squared_error: 43.7942 - val_loss: 41.6821 - val_mean_squared_error: 41.6821\n",
      "Epoch 56/100\n",
      "23081/23081 [==============================] - 1s 32us/step - loss: 44.0210 - mean_squared_error: 44.0210 - val_loss: 39.9413 - val_mean_squared_error: 39.9413\n",
      "Epoch 57/100\n",
      "23081/23081 [==============================] - 1s 32us/step - loss: 43.8681 - mean_squared_error: 43.8681 - val_loss: 43.4227 - val_mean_squared_error: 43.4227\n",
      "Epoch 58/100\n",
      "23081/23081 [==============================] - 1s 32us/step - loss: 44.1590 - mean_squared_error: 44.1590 - val_loss: 41.3520 - val_mean_squared_error: 41.3520\n",
      "Epoch 59/100\n",
      "23081/23081 [==============================] - 1s 31us/step - loss: 43.8636 - mean_squared_error: 43.8636 - val_loss: 40.5712 - val_mean_squared_error: 40.5712\n",
      "Epoch 60/100\n",
      "23081/23081 [==============================] - 1s 32us/step - loss: 43.8372 - mean_squared_error: 43.8372 - val_loss: 42.1960 - val_mean_squared_error: 42.1960\n",
      "Epoch 61/100\n",
      "23081/23081 [==============================] - 1s 32us/step - loss: 43.7991 - mean_squared_error: 43.7991 - val_loss: 42.2713 - val_mean_squared_error: 42.2713\n",
      "Epoch 62/100\n",
      "23081/23081 [==============================] - 1s 32us/step - loss: 43.4902 - mean_squared_error: 43.4902 - val_loss: 41.2018 - val_mean_squared_error: 41.2018\n",
      "Epoch 63/100\n",
      "23081/23081 [==============================] - 1s 32us/step - loss: 43.5637 - mean_squared_error: 43.5637 - val_loss: 41.9427 - val_mean_squared_error: 41.9427\n",
      "Epoch 64/100\n",
      "23081/23081 [==============================] - 1s 32us/step - loss: 43.8121 - mean_squared_error: 43.8121 - val_loss: 39.7965 - val_mean_squared_error: 39.7965\n",
      "Epoch 65/100\n",
      "23081/23081 [==============================] - 1s 31us/step - loss: 43.6210 - mean_squared_error: 43.6210 - val_loss: 43.4540 - val_mean_squared_error: 43.4540\n",
      "Epoch 66/100\n",
      "23081/23081 [==============================] - 1s 31us/step - loss: 43.4821 - mean_squared_error: 43.4821 - val_loss: 41.2673 - val_mean_squared_error: 41.2673\n",
      "Epoch 67/100\n",
      "23081/23081 [==============================] - 1s 32us/step - loss: 43.6442 - mean_squared_error: 43.6442 - val_loss: 40.7291 - val_mean_squared_error: 40.7291\n",
      "Epoch 68/100\n",
      "23081/23081 [==============================] - 1s 31us/step - loss: 43.5028 - mean_squared_error: 43.5028 - val_loss: 41.1899 - val_mean_squared_error: 41.1899\n",
      "Epoch 69/100\n",
      "23081/23081 [==============================] - 1s 32us/step - loss: 43.2665 - mean_squared_error: 43.2665 - val_loss: 42.7683 - val_mean_squared_error: 42.7683\n",
      "Epoch 70/100\n",
      "23081/23081 [==============================] - 1s 32us/step - loss: 43.5398 - mean_squared_error: 43.5398 - val_loss: 41.4185 - val_mean_squared_error: 41.4185\n",
      "Epoch 71/100\n",
      "23081/23081 [==============================] - 1s 31us/step - loss: 43.2612 - mean_squared_error: 43.2612 - val_loss: 40.9101 - val_mean_squared_error: 40.9101\n",
      "Epoch 72/100\n",
      "23081/23081 [==============================] - 1s 31us/step - loss: 43.5912 - mean_squared_error: 43.5912 - val_loss: 40.1526 - val_mean_squared_error: 40.1526\n",
      "Epoch 73/100\n",
      "23081/23081 [==============================] - 1s 33us/step - loss: 43.5584 - mean_squared_error: 43.5584 - val_loss: 41.3537 - val_mean_squared_error: 41.3537\n",
      "Epoch 74/100\n",
      "23081/23081 [==============================] - 1s 32us/step - loss: 43.5928 - mean_squared_error: 43.5928 - val_loss: 42.8402 - val_mean_squared_error: 42.8402\n",
      "Epoch 75/100\n",
      "23081/23081 [==============================] - 1s 32us/step - loss: 43.6574 - mean_squared_error: 43.6574 - val_loss: 39.9732 - val_mean_squared_error: 39.9732\n",
      "Epoch 76/100\n",
      "23081/23081 [==============================] - 1s 32us/step - loss: 43.5127 - mean_squared_error: 43.5127 - val_loss: 42.5959 - val_mean_squared_error: 42.5959\n",
      "Epoch 77/100\n",
      "23081/23081 [==============================] - 1s 32us/step - loss: 43.2247 - mean_squared_error: 43.2247 - val_loss: 42.2936 - val_mean_squared_error: 42.2936\n",
      "Epoch 78/100\n",
      "23081/23081 [==============================] - 1s 31us/step - loss: 43.3256 - mean_squared_error: 43.3256 - val_loss: 42.0137 - val_mean_squared_error: 42.0137\n",
      "Epoch 79/100\n",
      "23081/23081 [==============================] - 1s 32us/step - loss: 43.5335 - mean_squared_error: 43.5335 - val_loss: 41.0809 - val_mean_squared_error: 41.0809\n",
      "Epoch 80/100\n",
      "23081/23081 [==============================] - 1s 31us/step - loss: 43.5026 - mean_squared_error: 43.5026 - val_loss: 45.0263 - val_mean_squared_error: 45.0263\n",
      "Epoch 81/100\n",
      "23081/23081 [==============================] - 1s 32us/step - loss: 43.3895 - mean_squared_error: 43.3895 - val_loss: 41.5938 - val_mean_squared_error: 41.5938\n",
      "Epoch 82/100\n",
      "23081/23081 [==============================] - 1s 32us/step - loss: 43.8662 - mean_squared_error: 43.8662 - val_loss: 40.8891 - val_mean_squared_error: 40.8891\n",
      "Epoch 83/100\n",
      "23081/23081 [==============================] - 1s 32us/step - loss: 43.4283 - mean_squared_error: 43.4283 - val_loss: 42.8331 - val_mean_squared_error: 42.8331\n",
      "Epoch 84/100\n",
      "23081/23081 [==============================] - 1s 32us/step - loss: 43.4373 - mean_squared_error: 43.4373 - val_loss: 42.8287 - val_mean_squared_error: 42.8287\n",
      "Epoch 85/100\n",
      "23081/23081 [==============================] - 1s 34us/step - loss: 43.4839 - mean_squared_error: 43.4839 - val_loss: 44.1716 - val_mean_squared_error: 44.1716\n",
      "Epoch 86/100\n",
      "23081/23081 [==============================] - 1s 35us/step - loss: 43.3800 - mean_squared_error: 43.3800 - val_loss: 42.2548 - val_mean_squared_error: 42.2548\n",
      "Epoch 87/100\n",
      "23081/23081 [==============================] - 1s 34us/step - loss: 43.0754 - mean_squared_error: 43.0754 - val_loss: 42.4356 - val_mean_squared_error: 42.4356\n",
      "Epoch 88/100\n",
      "23081/23081 [==============================] - 1s 35us/step - loss: 43.2629 - mean_squared_error: 43.2629 - val_loss: 43.2771 - val_mean_squared_error: 43.2771\n",
      "Epoch 89/100\n",
      "23081/23081 [==============================] - 1s 33us/step - loss: 43.1668 - mean_squared_error: 43.1668 - val_loss: 40.6813 - val_mean_squared_error: 40.6813\n",
      "Epoch 90/100\n",
      "23081/23081 [==============================] - 1s 34us/step - loss: 43.2791 - mean_squared_error: 43.2791 - val_loss: 42.2707 - val_mean_squared_error: 42.2707\n",
      "Epoch 91/100\n",
      "23081/23081 [==============================] - 1s 33us/step - loss: 43.1655 - mean_squared_error: 43.1655 - val_loss: 43.2669 - val_mean_squared_error: 43.2669\n",
      "Epoch 92/100\n",
      "23081/23081 [==============================] - 1s 36us/step - loss: 43.6371 - mean_squared_error: 43.6371 - val_loss: 48.5006 - val_mean_squared_error: 48.5006\n",
      "Epoch 93/100\n",
      "23081/23081 [==============================] - 1s 36us/step - loss: 43.6086 - mean_squared_error: 43.6086 - val_loss: 41.2625 - val_mean_squared_error: 41.2625\n",
      "Epoch 94/100\n",
      "23081/23081 [==============================] - 1s 35us/step - loss: 43.2907 - mean_squared_error: 43.2907 - val_loss: 41.6072 - val_mean_squared_error: 41.6072\n",
      "Epoch 95/100\n",
      "23081/23081 [==============================] - 1s 36us/step - loss: 43.0869 - mean_squared_error: 43.0869 - val_loss: 42.2674 - val_mean_squared_error: 42.2674\n",
      "Epoch 96/100\n",
      "23081/23081 [==============================] - 1s 36us/step - loss: 43.3063 - mean_squared_error: 43.3063 - val_loss: 41.9634 - val_mean_squared_error: 41.9634\n",
      "Epoch 97/100\n",
      "23081/23081 [==============================] - 1s 35us/step - loss: 43.3558 - mean_squared_error: 43.3558 - val_loss: 42.2893 - val_mean_squared_error: 42.2893\n",
      "Epoch 98/100\n",
      "23081/23081 [==============================] - 1s 35us/step - loss: 43.1835 - mean_squared_error: 43.1835 - val_loss: 43.2042 - val_mean_squared_error: 43.2042\n",
      "Epoch 99/100\n",
      "23081/23081 [==============================] - 1s 36us/step - loss: 43.4258 - mean_squared_error: 43.4258 - val_loss: 41.2294 - val_mean_squared_error: 41.2294\n",
      "Epoch 100/100\n",
      "23081/23081 [==============================] - 1s 36us/step - loss: 43.5807 - mean_squared_error: 43.5807 - val_loss: 44.1893 - val_mean_squared_error: 44.1893\n"
     ]
    }
   ],
   "source": [
    "h=model.fit(xtrain, ytrain, validation_split=.2,epochs=100, batch_size=50)"
   ]
  },
  {
   "cell_type": "code",
   "execution_count": 40,
   "metadata": {},
   "outputs": [
    {
     "name": "stdout",
     "output_type": "stream",
     "text": [
      "mean_squared_error 45.454461256635625\n",
      "root mean_squared_error 6.7419923803454145\n",
      "mean_absolute_error 5.555490631014666\n",
      "r2_score 0.33439692565685286\n"
     ]
    },
    {
     "data": {
      "text/html": [
       "<div>\n",
       "<style scoped>\n",
       "    .dataframe tbody tr th:only-of-type {\n",
       "        vertical-align: middle;\n",
       "    }\n",
       "\n",
       "    .dataframe tbody tr th {\n",
       "        vertical-align: top;\n",
       "    }\n",
       "\n",
       "    .dataframe thead th {\n",
       "        text-align: right;\n",
       "    }\n",
       "</style>\n",
       "<table border=\"1\" class=\"dataframe\">\n",
       "  <thead>\n",
       "    <tr style=\"text-align: right;\">\n",
       "      <th></th>\n",
       "      <th>t + 1</th>\n",
       "      <th>pred (t +1)</th>\n",
       "    </tr>\n",
       "  </thead>\n",
       "  <tbody>\n",
       "    <tr>\n",
       "      <th>0</th>\n",
       "      <td>81.0</td>\n",
       "      <td>71.246559</td>\n",
       "    </tr>\n",
       "    <tr>\n",
       "      <th>1</th>\n",
       "      <td>71.0</td>\n",
       "      <td>72.241997</td>\n",
       "    </tr>\n",
       "    <tr>\n",
       "      <th>2</th>\n",
       "      <td>76.0</td>\n",
       "      <td>71.153358</td>\n",
       "    </tr>\n",
       "    <tr>\n",
       "      <th>3</th>\n",
       "      <td>70.0</td>\n",
       "      <td>72.481361</td>\n",
       "    </tr>\n",
       "    <tr>\n",
       "      <th>4</th>\n",
       "      <td>80.0</td>\n",
       "      <td>81.199577</td>\n",
       "    </tr>\n",
       "    <tr>\n",
       "      <th>5</th>\n",
       "      <td>73.0</td>\n",
       "      <td>75.336769</td>\n",
       "    </tr>\n",
       "    <tr>\n",
       "      <th>6</th>\n",
       "      <td>60.0</td>\n",
       "      <td>67.529060</td>\n",
       "    </tr>\n",
       "    <tr>\n",
       "      <th>7</th>\n",
       "      <td>68.0</td>\n",
       "      <td>71.162544</td>\n",
       "    </tr>\n",
       "    <tr>\n",
       "      <th>8</th>\n",
       "      <td>74.0</td>\n",
       "      <td>72.666443</td>\n",
       "    </tr>\n",
       "    <tr>\n",
       "      <th>9</th>\n",
       "      <td>65.0</td>\n",
       "      <td>76.278847</td>\n",
       "    </tr>\n",
       "  </tbody>\n",
       "</table>\n",
       "</div>"
      ],
      "text/plain": [
       "   t + 1  pred (t +1)\n",
       "0   81.0    71.246559\n",
       "1   71.0    72.241997\n",
       "2   76.0    71.153358\n",
       "3   70.0    72.481361\n",
       "4   80.0    81.199577\n",
       "5   73.0    75.336769\n",
       "6   60.0    67.529060\n",
       "7   68.0    71.162544\n",
       "8   74.0    72.666443\n",
       "9   65.0    76.278847"
      ]
     },
     "execution_count": 40,
     "metadata": {},
     "output_type": "execute_result"
    }
   ],
   "source": [
    "ypred=model.predict(xtest)\n",
    "\n",
    "import math\n",
    "print('mean_squared_error',mean_squared_error(ytest, ypred))\n",
    "print('root mean_squared_error',math.sqrt(mean_squared_error(ytest, ypred)))\n",
    "print('mean_absolute_error',mean_absolute_error(ytest, ypred))\n",
    "print('r2_score',r2_score(ytest, ypred))\n",
    "\n",
    "ypredPD=pd.DataFrame()\n",
    "# ypredPD['t']=xtest['S000501_x'].values\n",
    "ypredPD['t + 1']=ytest.values.ravel()\n",
    "ypredPD['pred (t +1)']=ypred\n",
    "ypredPD.head(10)"
   ]
  },
  {
   "cell_type": "code",
   "execution_count": 41,
   "metadata": {},
   "outputs": [
    {
     "name": "stdout",
     "output_type": "stream",
     "text": [
      "dict_keys(['val_loss', 'val_mean_squared_error', 'loss', 'mean_squared_error'])\n"
     ]
    },
    {
     "data": {
      "image/png": "[encoded data removed]",
      "text/plain": [
       "<Figure size 432x288 with 1 Axes>"
      ]
     },
     "metadata": {
      "needs_background": "light"
     },
     "output_type": "display_data"
    },
    {
     "data": {
      "image/png": "[encoded data removed]",
      "text/plain": [
       "<Figure size 432x288 with 1 Axes>"
      ]
     },
     "metadata": {
      "needs_background": "light"
     },
     "output_type": "display_data"
    }
   ],
   "source": [
    "history=h\n",
    "print(history.history.keys())\n",
    "# summarize history for accuracy\n",
    "plt.plot(history.history['val_loss'])\n",
    "plt.plot(history.history['loss'])\n",
    "plt.title('model accuracy')\n",
    "plt.ylabel('accuracy')\n",
    "plt.xlabel('epoch')\n",
    "plt.legend(['train', 'test'], loc='upper left')\n",
    "plt.show()\n",
    "# summarize history for loss\n",
    "plt.plot(history.history['val_mean_squared_error'])\n",
    "plt.plot(history.history['mean_squared_error'])\n",
    "plt.title('model loss')\n",
    "plt.ylabel('loss')\n",
    "plt.xlabel('epoch')\n",
    "plt.legend(['train', 'test'], loc='upper left')\n",
    "plt.show()"
   ]
  },
  {
   "cell_type": "code",
   "execution_count": 42,
   "metadata": {},
   "outputs": [
    {
     "name": "stdout",
     "output_type": "stream",
     "text": [
      "5.555490631014666\n",
      "3.819814799874982\n",
      "48.75918480521281\n"
     ]
    }
   ],
   "source": [
    "ypredPD['diff']=abs(ypredPD['t + 1']- ypredPD['pred (t +1)'])\n",
    "print(np.mean(ypredPD['diff']))\n",
    "print(np.std(ypredPD['diff']))\n",
    "print(100*ypredPD[ypredPD['diff']<=5].shape[0]/ypredPD.shape[0])"
   ]
  },
  {
   "cell_type": "code",
   "execution_count": 43,
   "metadata": {},
   "outputs": [
    {
     "data": {
      "image/png": "[encoded data removed]",
      "text/plain": [
       "<Figure size 432x288 with 1 Axes>"
      ]
     },
     "metadata": {
      "needs_background": "light"
     },
     "output_type": "display_data"
    },
    {
     "data": {
      "text/html": [
       "<div>\n",
       "<style scoped>\n",
       "    .dataframe tbody tr th:only-of-type {\n",
       "        vertical-align: middle;\n",
       "    }\n",
       "\n",
       "    .dataframe tbody tr th {\n",
       "        vertical-align: top;\n",
       "    }\n",
       "\n",
       "    .dataframe thead th {\n",
       "        text-align: right;\n",
       "    }\n",
       "</style>\n",
       "<table border=\"1\" class=\"dataframe\">\n",
       "  <thead>\n",
       "    <tr style=\"text-align: right;\">\n",
       "      <th></th>\n",
       "      <th>t + 1</th>\n",
       "      <th>pred (t +1)</th>\n",
       "      <th>diff</th>\n",
       "    </tr>\n",
       "  </thead>\n",
       "  <tbody>\n",
       "    <tr>\n",
       "      <th>1126</th>\n",
       "      <td>45.0</td>\n",
       "      <td>65.120796</td>\n",
       "      <td>20.120796</td>\n",
       "    </tr>\n",
       "    <tr>\n",
       "      <th>6934</th>\n",
       "      <td>49.0</td>\n",
       "      <td>66.304474</td>\n",
       "      <td>17.304474</td>\n",
       "    </tr>\n",
       "    <tr>\n",
       "      <th>775</th>\n",
       "      <td>51.0</td>\n",
       "      <td>65.990448</td>\n",
       "      <td>14.990448</td>\n",
       "    </tr>\n",
       "    <tr>\n",
       "      <th>2176</th>\n",
       "      <td>51.0</td>\n",
       "      <td>66.686180</td>\n",
       "      <td>15.686180</td>\n",
       "    </tr>\n",
       "    <tr>\n",
       "      <th>5433</th>\n",
       "      <td>52.0</td>\n",
       "      <td>65.534470</td>\n",
       "      <td>13.534470</td>\n",
       "    </tr>\n",
       "    <tr>\n",
       "      <th>5689</th>\n",
       "      <td>53.0</td>\n",
       "      <td>66.345856</td>\n",
       "      <td>13.345856</td>\n",
       "    </tr>\n",
       "    <tr>\n",
       "      <th>5412</th>\n",
       "      <td>53.0</td>\n",
       "      <td>64.553864</td>\n",
       "      <td>11.553864</td>\n",
       "    </tr>\n",
       "    <tr>\n",
       "      <th>819</th>\n",
       "      <td>53.0</td>\n",
       "      <td>64.526611</td>\n",
       "      <td>11.526611</td>\n",
       "    </tr>\n",
       "    <tr>\n",
       "      <th>5655</th>\n",
       "      <td>54.0</td>\n",
       "      <td>67.312355</td>\n",
       "      <td>13.312355</td>\n",
       "    </tr>\n",
       "    <tr>\n",
       "      <th>1344</th>\n",
       "      <td>54.0</td>\n",
       "      <td>69.152115</td>\n",
       "      <td>15.152115</td>\n",
       "    </tr>\n",
       "  </tbody>\n",
       "</table>\n",
       "</div>"
      ],
      "text/plain": [
       "      t + 1  pred (t +1)       diff\n",
       "1126   45.0    65.120796  20.120796\n",
       "6934   49.0    66.304474  17.304474\n",
       "775    51.0    65.990448  14.990448\n",
       "2176   51.0    66.686180  15.686180\n",
       "5433   52.0    65.534470  13.534470\n",
       "5689   53.0    66.345856  13.345856\n",
       "5412   53.0    64.553864  11.553864\n",
       "819    53.0    64.526611  11.526611\n",
       "5655   54.0    67.312355  13.312355\n",
       "1344   54.0    69.152115  15.152115"
      ]
     },
     "execution_count": 43,
     "metadata": {},
     "output_type": "execute_result"
    },
    {
     "data": {
      "image/png": "[encoded data removed]",
      "text/plain": [
       "<Figure size 432x288 with 1 Axes>"
      ]
     },
     "metadata": {
      "needs_background": "light"
     },
     "output_type": "display_data"
    }
   ],
   "source": [
    "\n",
    "import matplotlib.patches as mpatches\n",
    "plt.ylabel('Values')\n",
    "plt.xlabel('index')\n",
    "red_patch = mpatches.Patch(color='red', label='Actual data')\n",
    "blue_patch = mpatches.Patch(color='blue', label='Predicted data')\n",
    "plt.legend(handles=[red_patch,blue_patch])\n",
    "\n",
    "ypredPD=ypredPD.sort_values(by=['t + 1'])\n",
    "plt.scatter(np.arange(0,ypredPD.shape[0],1),ypredPD['pred (t +1)'][:ypredPD.shape[0]])\n",
    "plt.plot(np.arange(0,ypredPD.shape[0],1),ypredPD['t + 1'][:ypredPD.shape[0]],color='red')\n",
    "plt.show()\n",
    "\n",
    "plt.ylabel('p*(t+1), Predicted data')\n",
    "plt.xlabel('p(t+1), Actual data')\n",
    "plt.scatter(ypredPD['t + 1'][:ypredPD.shape[0]],ypredPD['pred (t +1)'][:ypredPD.shape[0]])\n",
    "\n",
    "ypredPD.head(10)"
   ]
  },
  {
   "cell_type": "markdown",
   "metadata": {},
   "source": [
    "SVR\n",
    "======"
   ]
  },
  {
   "cell_type": "code",
   "execution_count": null,
   "metadata": {},
   "outputs": [],
   "source": [
    "from sklearn.svm import SVR\n",
    "# svr_rbf = SVR(kernel='rbf', C=10, gamma=0.02, epsilon=.001)\n",
    "svr_rbf = SVR(kernel='rbf')"
   ]
  },
  {
   "cell_type": "code",
   "execution_count": null,
   "metadata": {},
   "outputs": [],
   "source": [
    "svr_rbf.fit(xtrain, ytrain) "
   ]
  },
  {
   "cell_type": "code",
   "execution_count": null,
   "metadata": {},
   "outputs": [],
   "source": [
    "ypred=svr_rbf.predict(xtest)"
   ]
  },
  {
   "cell_type": "code",
   "execution_count": null,
   "metadata": {},
   "outputs": [],
   "source": [
    "import math\n",
    "print('mean_squared_error',mean_squared_error(ytest, ypred))\n",
    "print('root mean_squared_error',math.sqrt(mean_squared_error(ytest, ypred)))\n",
    "print('mean_absolute_error',mean_absolute_error(ytest, ypred))\n",
    "print('r2_score',r2_score(ytest, ypred))\n",
    "\n",
    "ypredPD=pd.DataFrame()\n",
    "# ypredPD['t']=xtest['S000501_x'].values\n",
    "ypredPD['t + 1']=ytest.values.ravel()\n",
    "ypredPD['pred (t +1)']=ypred\n",
    "ypredPD.head(10)"
   ]
  },
  {
   "cell_type": "code",
   "execution_count": null,
   "metadata": {},
   "outputs": [],
   "source": []
  },
  {
   "cell_type": "code",
   "execution_count": null,
   "metadata": {},
   "outputs": [],
   "source": []
  }
 ],
 "metadata": {
  "kernelspec": {
   "display_name": "Python 3",
   "language": "python",
   "name": "python3"
  },
  "language_info": {
   "codemirror_mode": {
    "name": "ipython",
    "version": 3
   },
   "file_extension": ".py",
   "mimetype": "text/x-python",
   "name": "python",
   "nbconvert_exporter": "python",
   "pygments_lexer": "ipython3",
   "version": "3.7.3"
  }
 },
 "nbformat": 4,
 "nbformat_minor": 2
}

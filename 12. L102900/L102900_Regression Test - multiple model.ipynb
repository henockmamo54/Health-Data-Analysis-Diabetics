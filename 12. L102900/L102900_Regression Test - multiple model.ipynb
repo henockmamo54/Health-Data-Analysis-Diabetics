{
 "cells": [
  {
   "cell_type": "code",
   "execution_count": 1,
   "metadata": {},
   "outputs": [
    {
     "name": "stderr",
     "output_type": "stream",
     "text": [
      "Using TensorFlow backend.\n"
     ]
    }
   ],
   "source": [
    "from matplotlib import pyplot as plt\n",
    "import pandas as pd \n",
    "import numpy as np\n",
    "import warnings\n",
    "warnings.filterwarnings('ignore')\n",
    "from scipy import stats\n",
    "from sklearn.utils import shuffle\n",
    "from sklearn.preprocessing import LabelEncoder\n",
    "from sklearn.metrics import confusion_matrix \n",
    "from sklearn.utils import shuffle\n",
    "from sklearn.ensemble import RandomForestRegressor\n",
    "from sklearn.datasets import make_regression\n",
    "from sklearn.model_selection import train_test_split\n",
    "from sklearn.metrics import mean_absolute_error\n",
    "from sklearn.metrics import mean_squared_error\n",
    "from sklearn.metrics import mean_absolute_error\n",
    "from sklearn.metrics import r2_score\n",
    "from keras.models import Sequential\n",
    "from keras.layers import Dense\n",
    "from keras.wrappers.scikit_learn import KerasRegressor\n",
    "from sklearn.model_selection import cross_val_score\n",
    "from sklearn.model_selection import KFold\n",
    "from sklearn.preprocessing import StandardScaler\n",
    "from sklearn.pipeline import Pipeline\n",
    "from keras.layers import Dropout\n",
    "from keras.layers import BatchNormalization\n",
    "from keras.models import model_from_json\n",
    "from keras.utils import multi_gpu_model \n",
    "from keras.utils import to_categorical\n"
   ]
  },
  {
   "cell_type": "markdown",
   "metadata": {},
   "source": [
    "Read the data\n",
    "==========="
   ]
  },
  {
   "cell_type": "code",
   "execution_count": 2,
   "metadata": {},
   "outputs": [
    {
     "name": "stdout",
     "output_type": "stream",
     "text": [
      "(159381, 28)\n",
      "(159381, 28)\n"
     ]
    }
   ],
   "source": [
    "x_original=pd.read_csv('../_xlable4_withNa_AllColumns.txt')\n",
    "y_original=pd.read_csv('../_targelable4_withNa_AllColumns.txt')\n",
    "\n",
    "x_original=x_original[['Unnamed: 0','L102900', 'L103200', 'L103300', 'L103000', 'AGE', 'L100100', 'S000300', 'L100700', \n",
    "                       'L104600', 'L101700', 'S000502', 'L100200', 'L190500', 'S000501', 'L190400', 'L100800', 'L101100',\n",
    "                        'FIELD_21', 'FIELD_33', 'FIELD_14', 'FIELD_27', 'FIELD_4', 'FIELD_28', \n",
    "                       'FIELD_38', 'FIELD_25', 'FIELD_20', 'FIELD_31'\n",
    "#                        'FIELD_7','FIELD_6', \n",
    "                      ]]\n",
    "\n",
    "y_original=y_original[['Unnamed: 0','L102900', 'L103200', 'L103300', 'L103000', 'AGE', 'L100100', 'S000300', 'L100700', \n",
    "                       'L104600', 'L101700', 'S000502', 'L100200', 'L190500', 'S000501', 'L190400', 'L100800', 'L101100',\n",
    "                       'FIELD_21', 'FIELD_33', 'FIELD_14', 'FIELD_27', 'FIELD_4', 'FIELD_28', \n",
    "                       'FIELD_38', 'FIELD_25', 'FIELD_20', 'FIELD_31'\n",
    "#                        'FIELD_7', 'FIELD_6', \n",
    "                      ]]\n",
    "\n",
    "print(x_original.shape)\n",
    "print(y_original.shape)\n"
   ]
  },
  {
   "cell_type": "code",
   "execution_count": 3,
   "metadata": {},
   "outputs": [
    {
     "name": "stdout",
     "output_type": "stream",
     "text": [
      "Unnamed: 0 159381\n",
      "L102900 158941\n",
      "L103200 158879\n",
      "L103300 135222\n",
      "L103000 158939\n",
      "AGE 159381\n",
      "L100100 148548\n",
      "S000300 159075\n",
      "L100700 152474\n",
      "L104600 56437\n",
      "L101700 158951\n",
      "S000502 159305\n",
      "L100200 148627\n",
      "L190500 159204\n",
      "S000501 159305\n",
      "L190400 159241\n",
      "L100800 159236\n",
      "L101100 77885\n",
      "FIELD_21 159366\n",
      "FIELD_33 159069\n",
      "FIELD_14 159361\n",
      "FIELD_27 159365\n",
      "FIELD_4 156956\n",
      "FIELD_28 159366\n",
      "FIELD_38 159077\n",
      "FIELD_25 159366\n",
      "FIELD_20 159364\n",
      "FIELD_31 159366\n"
     ]
    }
   ],
   "source": [
    "for index,col in enumerate(x_original.columns):\n",
    "    print(col,x_original[col].dropna().shape[0])"
   ]
  },
  {
   "cell_type": "markdown",
   "metadata": {},
   "source": [
    "Prepare the data\n",
    "============"
   ]
  },
  {
   "cell_type": "code",
   "execution_count": 4,
   "metadata": {},
   "outputs": [],
   "source": [
    "df=x_original.copy()\n",
    "conditions = [\n",
    "    (df.S000501 < 120)  ,\n",
    "    (df.S000501 >= 120) & (df.S000501 < 130),\n",
    "    (df.S000501 >=130)]\n",
    "choices = [0,1,2]\n",
    "df['sbpG'] = np.select(conditions, choices, default=0)\n",
    "df.head()\n",
    "x_original=df.copy()\n",
    "\n",
    "conditions2 = [\n",
    "    (df.S000502 < 80)  ,\n",
    "    (df.S000502 >= 80) & (df.S000502 < 90),\n",
    "    (df.S000502 >=90)]\n",
    "choices2 = [0,1,2]\n",
    "df['dbpG'] = np.select(conditions2, choices2, default=0)\n",
    "df.head()\n",
    "x_original=df.copy()\n",
    "\n",
    "conditions3 = [\n",
    "    (df.AGE < 30)  ,\n",
    "    (df.AGE >= 30) & (df.AGE < 40),\n",
    "    (df.AGE >= 40) & (df.AGE < 50),\n",
    "    (df.AGE >= 50) & (df.AGE < 60),\n",
    "    (df.AGE >= 60)]\n",
    "choices3 = [0,1,2,3,4]\n",
    "df['AgeG'] = np.select(conditions3, choices3, default=0)\n",
    "df.head()\n",
    "x_original=df.copy()\n",
    "\n",
    "\n",
    "conditions4 = [\n",
    "    (df.L100800 < 100)  ,\n",
    "    (df.L100800 >= 100) & (df.L100800 < 126), \n",
    "    (df.L100800 >= 126)]\n",
    "choices4 = [0,1,2]\n",
    "df['CLASS'] = np.select(conditions4, choices4, default=0)\n",
    "df.head()\n",
    "x_original=df.copy()"
   ]
  },
  {
   "cell_type": "code",
   "execution_count": 5,
   "metadata": {},
   "outputs": [
    {
     "name": "stdout",
     "output_type": "stream",
     "text": [
      "(18901, 60)\n"
     ]
    }
   ],
   "source": [
    "data= pd.merge(x_original,y_original, how='inner',left_on='Unnamed: 0', right_on='Unnamed: 0')\n",
    "data=data.dropna(). reset_index()\n",
    "\n",
    "# data=data[data.AGE_x >= 40]\n",
    "# data=data[data.AGE_x < 50]\n",
    "\n",
    "# data=data[data.CLASS_x==0]\n",
    "# data=data[data.sbpG==0]\n",
    "# data=data[data.dbpG==0]\n",
    "\n",
    "# data=data[data.L100800_y <200]\n",
    "\n",
    "print(data.shape)"
   ]
  },
  {
   "cell_type": "code",
   "execution_count": 6,
   "metadata": {},
   "outputs": [
    {
     "name": "stdout",
     "output_type": "stream",
     "text": [
      "(18901, 60)\n",
      "Index(['index', 'Unnamed: 0', 'L102900_x', 'L103200_x', 'L103300_x',\n",
      "       'L103000_x', 'AGE_x', 'L100100_x', 'S000300_x', 'L100700_x',\n",
      "       'L104600_x', 'L101700_x', 'S000502_x', 'L100200_x', 'L190500_x',\n",
      "       'S000501_x', 'L190400_x', 'L100800_x', 'L101100_x', 'FIELD_21_x',\n",
      "       'FIELD_33_x', 'FIELD_14_x', 'FIELD_27_x', 'FIELD_4_x', 'FIELD_28_x',\n",
      "       'FIELD_38_x', 'FIELD_25_x', 'FIELD_20_x', 'FIELD_31_x', 'sbpG', 'dbpG',\n",
      "       'AgeG', 'CLASS', 'L102900_y', 'L103200_y', 'L103300_y', 'L103000_y',\n",
      "       'AGE_y', 'L100100_y', 'S000300_y', 'L100700_y', 'L104600_y',\n",
      "       'L101700_y', 'S000502_y', 'L100200_y', 'L190500_y', 'S000501_y',\n",
      "       'L190400_y', 'L100800_y', 'L101100_y', 'FIELD_21_y', 'FIELD_33_y',\n",
      "       'FIELD_14_y', 'FIELD_27_y', 'FIELD_4_y', 'FIELD_28_y', 'FIELD_38_y',\n",
      "       'FIELD_25_y', 'FIELD_20_y', 'FIELD_31_y'],\n",
      "      dtype='object')\n"
     ]
    },
    {
     "data": {
      "text/html": [
       "<div>\n",
       "<style scoped>\n",
       "    .dataframe tbody tr th:only-of-type {\n",
       "        vertical-align: middle;\n",
       "    }\n",
       "\n",
       "    .dataframe tbody tr th {\n",
       "        vertical-align: top;\n",
       "    }\n",
       "\n",
       "    .dataframe thead th {\n",
       "        text-align: right;\n",
       "    }\n",
       "</style>\n",
       "<table border=\"1\" class=\"dataframe\">\n",
       "  <thead>\n",
       "    <tr style=\"text-align: right;\">\n",
       "      <th></th>\n",
       "      <th>index</th>\n",
       "      <th>Unnamed: 0</th>\n",
       "      <th>L102900_x</th>\n",
       "      <th>L103200_x</th>\n",
       "      <th>L103300_x</th>\n",
       "      <th>L103000_x</th>\n",
       "      <th>AGE_x</th>\n",
       "      <th>L100100_x</th>\n",
       "      <th>S000300_x</th>\n",
       "      <th>L100700_x</th>\n",
       "      <th>...</th>\n",
       "      <th>FIELD_21_y</th>\n",
       "      <th>FIELD_33_y</th>\n",
       "      <th>FIELD_14_y</th>\n",
       "      <th>FIELD_27_y</th>\n",
       "      <th>FIELD_4_y</th>\n",
       "      <th>FIELD_28_y</th>\n",
       "      <th>FIELD_38_y</th>\n",
       "      <th>FIELD_25_y</th>\n",
       "      <th>FIELD_20_y</th>\n",
       "      <th>FIELD_31_y</th>\n",
       "    </tr>\n",
       "  </thead>\n",
       "  <tbody>\n",
       "    <tr>\n",
       "      <th>0</th>\n",
       "      <td>2</td>\n",
       "      <td>2</td>\n",
       "      <td>243.0</td>\n",
       "      <td>163.0</td>\n",
       "      <td>3.4</td>\n",
       "      <td>41.0</td>\n",
       "      <td>46.0</td>\n",
       "      <td>7.8</td>\n",
       "      <td>20.2</td>\n",
       "      <td>3.8</td>\n",
       "      <td>...</td>\n",
       "      <td>0.0</td>\n",
       "      <td>1.0</td>\n",
       "      <td>0.0</td>\n",
       "      <td>0.0</td>\n",
       "      <td>3.0</td>\n",
       "      <td>0.0</td>\n",
       "      <td>2.0</td>\n",
       "      <td>0.0</td>\n",
       "      <td>0.0</td>\n",
       "      <td>0.0</td>\n",
       "    </tr>\n",
       "    <tr>\n",
       "      <th>1</th>\n",
       "      <td>4</td>\n",
       "      <td>4</td>\n",
       "      <td>170.0</td>\n",
       "      <td>102.0</td>\n",
       "      <td>2.9</td>\n",
       "      <td>50.0</td>\n",
       "      <td>52.0</td>\n",
       "      <td>6.4</td>\n",
       "      <td>25.5</td>\n",
       "      <td>3.4</td>\n",
       "      <td>...</td>\n",
       "      <td>0.0</td>\n",
       "      <td>1.0</td>\n",
       "      <td>0.0</td>\n",
       "      <td>0.0</td>\n",
       "      <td>2.0</td>\n",
       "      <td>0.0</td>\n",
       "      <td>0.0</td>\n",
       "      <td>0.0</td>\n",
       "      <td>0.0</td>\n",
       "      <td>1.0</td>\n",
       "    </tr>\n",
       "    <tr>\n",
       "      <th>2</th>\n",
       "      <td>7</td>\n",
       "      <td>7</td>\n",
       "      <td>225.0</td>\n",
       "      <td>139.0</td>\n",
       "      <td>2.9</td>\n",
       "      <td>45.0</td>\n",
       "      <td>37.0</td>\n",
       "      <td>6.5</td>\n",
       "      <td>21.2</td>\n",
       "      <td>3.9</td>\n",
       "      <td>...</td>\n",
       "      <td>0.0</td>\n",
       "      <td>1.0</td>\n",
       "      <td>0.0</td>\n",
       "      <td>0.0</td>\n",
       "      <td>2.0</td>\n",
       "      <td>1.0</td>\n",
       "      <td>0.0</td>\n",
       "      <td>0.0</td>\n",
       "      <td>0.0</td>\n",
       "      <td>1.0</td>\n",
       "    </tr>\n",
       "    <tr>\n",
       "      <th>3</th>\n",
       "      <td>8</td>\n",
       "      <td>8</td>\n",
       "      <td>145.0</td>\n",
       "      <td>87.0</td>\n",
       "      <td>3.1</td>\n",
       "      <td>54.0</td>\n",
       "      <td>39.0</td>\n",
       "      <td>6.8</td>\n",
       "      <td>22.0</td>\n",
       "      <td>4.2</td>\n",
       "      <td>...</td>\n",
       "      <td>0.0</td>\n",
       "      <td>1.0</td>\n",
       "      <td>0.0</td>\n",
       "      <td>0.0</td>\n",
       "      <td>2.0</td>\n",
       "      <td>0.0</td>\n",
       "      <td>2.0</td>\n",
       "      <td>0.0</td>\n",
       "      <td>0.0</td>\n",
       "      <td>0.0</td>\n",
       "    </tr>\n",
       "    <tr>\n",
       "      <th>4</th>\n",
       "      <td>59</td>\n",
       "      <td>59</td>\n",
       "      <td>154.0</td>\n",
       "      <td>90.0</td>\n",
       "      <td>2.8</td>\n",
       "      <td>42.0</td>\n",
       "      <td>19.0</td>\n",
       "      <td>6.9</td>\n",
       "      <td>18.5</td>\n",
       "      <td>3.1</td>\n",
       "      <td>...</td>\n",
       "      <td>0.0</td>\n",
       "      <td>1.0</td>\n",
       "      <td>0.0</td>\n",
       "      <td>0.0</td>\n",
       "      <td>4.0</td>\n",
       "      <td>0.0</td>\n",
       "      <td>2.0</td>\n",
       "      <td>0.0</td>\n",
       "      <td>0.0</td>\n",
       "      <td>0.0</td>\n",
       "    </tr>\n",
       "  </tbody>\n",
       "</table>\n",
       "<p>5 rows × 60 columns</p>\n",
       "</div>"
      ],
      "text/plain": [
       "   index  Unnamed: 0  L102900_x  L103200_x  L103300_x  L103000_x  AGE_x  \\\n",
       "0      2           2      243.0      163.0        3.4       41.0   46.0   \n",
       "1      4           4      170.0      102.0        2.9       50.0   52.0   \n",
       "2      7           7      225.0      139.0        2.9       45.0   37.0   \n",
       "3      8           8      145.0       87.0        3.1       54.0   39.0   \n",
       "4     59          59      154.0       90.0        2.8       42.0   19.0   \n",
       "\n",
       "   L100100_x  S000300_x  L100700_x  ...  FIELD_21_y  FIELD_33_y  FIELD_14_y  \\\n",
       "0        7.8       20.2        3.8  ...         0.0         1.0         0.0   \n",
       "1        6.4       25.5        3.4  ...         0.0         1.0         0.0   \n",
       "2        6.5       21.2        3.9  ...         0.0         1.0         0.0   \n",
       "3        6.8       22.0        4.2  ...         0.0         1.0         0.0   \n",
       "4        6.9       18.5        3.1  ...         0.0         1.0         0.0   \n",
       "\n",
       "   FIELD_27_y  FIELD_4_y  FIELD_28_y  FIELD_38_y  FIELD_25_y  FIELD_20_y  \\\n",
       "0         0.0        3.0         0.0         2.0         0.0         0.0   \n",
       "1         0.0        2.0         0.0         0.0         0.0         0.0   \n",
       "2         0.0        2.0         1.0         0.0         0.0         0.0   \n",
       "3         0.0        2.0         0.0         2.0         0.0         0.0   \n",
       "4         0.0        4.0         0.0         2.0         0.0         0.0   \n",
       "\n",
       "   FIELD_31_y  \n",
       "0         0.0  \n",
       "1         1.0  \n",
       "2         1.0  \n",
       "3         0.0  \n",
       "4         0.0  \n",
       "\n",
       "[5 rows x 60 columns]"
      ]
     },
     "execution_count": 6,
     "metadata": {},
     "output_type": "execute_result"
    }
   ],
   "source": [
    "print(data.shape)\n",
    "print(data.columns)\n",
    "data.head()"
   ]
  },
  {
   "cell_type": "code",
   "execution_count": 8,
   "metadata": {},
   "outputs": [],
   "source": [
    "x=data[['L102900_x', 'L103200_x', 'L103300_x', 'L103000_x', 'AGE_x', 'L100100_x', 'S000300_x', 'L100700_x', \n",
    "                       'L104600_x', 'L101700_x', 'S000502_x', 'L100200_x', 'L190500_x', 'S000501_x', 'L190400_x', 'L100800_x', 'L101100_x',\n",
    "                        'FIELD_21_x', 'FIELD_33_x', 'FIELD_14_x', 'FIELD_27_x', 'FIELD_4_x', 'FIELD_28_x', \n",
    "                       'FIELD_38_x', 'FIELD_25_x', 'FIELD_20_x', 'FIELD_31_x',\n",
    "        #                        , 'FIELD_6'\n",
    "        'CLASS','sbpG','dbpG','AgeG']]\n",
    "\n",
    "y=data[['L102900_y', 'L103200_y', 'L103300_y', 'L103000_y', 'AGE_y', 'L100100_y', 'S000300_y', 'L100700_y', \n",
    "                       'L104600_y', 'L101700_y', 'S000502_y', 'L100200_y', 'L190500_y', 'S000501_y', 'L190400_y', 'L100800_y', 'L101100_y',\n",
    "                        'FIELD_21_y', 'FIELD_33_y', 'FIELD_14_y', 'FIELD_27_y', 'FIELD_4_y', 'FIELD_28_y', \n",
    "                       'FIELD_38_y', 'FIELD_25_y', 'FIELD_20_y', 'FIELD_31_y'\n",
    "        #                        , 'FIELD_6'\n",
    "        ]]"
   ]
  },
  {
   "cell_type": "markdown",
   "metadata": {},
   "source": [
    "Check the correlation of the selected feature with the independent variables\n",
    "====="
   ]
  },
  {
   "cell_type": "code",
   "execution_count": 10,
   "metadata": {},
   "outputs": [],
   "source": [
    "temppd=pd.DataFrame(x.copy())\n",
    "temppd['y']=y.L102900_y\n",
    "temppd.head()\n",
    "corval=abs(temppd.corr()).sort_values(by='y', ascending=False)"
   ]
  },
  {
   "cell_type": "code",
   "execution_count": 11,
   "metadata": {},
   "outputs": [
    {
     "data": {
      "text/plain": [
       "y             1.000000\n",
       "L102900_x     0.731292\n",
       "L103200_x     0.649145\n",
       "L103300_x     0.447048\n",
       "L103000_x     0.265545\n",
       "S000300_x     0.204878\n",
       "L101100_x     0.202592\n",
       "L101700_x     0.189118\n",
       "L104600_x     0.185298\n",
       "L100800_x     0.169336\n",
       "L100700_x     0.167690\n",
       "AGE_x         0.154920\n",
       "S000501_x     0.151405\n",
       "AgeG          0.151030\n",
       "L190500_x     0.144081\n",
       "S000502_x     0.143208\n",
       "L190400_x     0.141187\n",
       "sbpG          0.140504\n",
       "CLASS         0.137921\n",
       "dbpG          0.110261\n",
       "FIELD_33_x    0.098849\n",
       "L100100_x     0.091279\n",
       "FIELD_38_x    0.082089\n",
       "L100200_x     0.073580\n",
       "FIELD_14_x    0.049661\n",
       "FIELD_21_x    0.047761\n",
       "FIELD_4_x     0.043971\n",
       "FIELD_25_x    0.028447\n",
       "FIELD_28_x    0.027904\n",
       "FIELD_31_x    0.024694\n",
       "FIELD_27_x    0.016739\n",
       "FIELD_20_x    0.007182\n",
       "Name: y, dtype: float64"
      ]
     },
     "execution_count": 11,
     "metadata": {},
     "output_type": "execute_result"
    }
   ],
   "source": [
    "corval.y"
   ]
  },
  {
   "cell_type": "code",
   "execution_count": 12,
   "metadata": {},
   "outputs": [],
   "source": [
    "#histogram plot of the features\n",
    "# import matplotlib.pyplot as plt\n",
    "# x[x.dtypes[(x.dtypes==\"float64\")|(x.dtypes==\"int64\")]\n",
    "#                         .index.values].hist(figsize=[11,11])"
   ]
  },
  {
   "cell_type": "markdown",
   "metadata": {},
   "source": [
    "Apply PCA\n",
    "==========="
   ]
  },
  {
   "cell_type": "code",
   "execution_count": 13,
   "metadata": {},
   "outputs": [],
   "source": [
    "# from sklearn.decomposition import PCA\n",
    "# pca = PCA(n_components=8)\n",
    "# pca.fit(x)\n",
    "\n",
    "# print(pca.explained_variance_ratio_)   \n",
    "# print(np.sum(pca.explained_variance_ratio_))\n",
    "\n",
    "# x=pca.fit_transform(x) \n",
    "# print(x.shape)\n"
   ]
  },
  {
   "cell_type": "markdown",
   "metadata": {},
   "source": [
    "feature scaling\n",
    "======="
   ]
  },
  {
   "cell_type": "code",
   "execution_count": 14,
   "metadata": {},
   "outputs": [],
   "source": [
    "# from sklearn import preprocessing\n",
    "# min_max_scaler = preprocessing.MinMaxScaler()  #StandardScaler()\n",
    "# x = min_max_scaler.fit_transform(x)"
   ]
  },
  {
   "cell_type": "markdown",
   "metadata": {},
   "source": [
    "clustring test\n",
    "=========="
   ]
  },
  {
   "cell_type": "code",
   "execution_count": 15,
   "metadata": {},
   "outputs": [],
   "source": [
    "# from sklearn.cluster import KMeans\n",
    "# from scipy.spatial.distance import cdist\n",
    "\n",
    "# K = range(1,10)\n",
    "# distortions = []\n",
    "\n",
    "# for k in K:\n",
    "#     kmeanModel = KMeans(n_clusters=k).fit(x)\n",
    "#     kmeanModel.fit(x)\n",
    "#     distortions.append(sum(np.min(cdist(x, kmeanModel.cluster_centers_, 'euclidean'), axis=1)) / x.shape[0])\n",
    "\n",
    "# # Plot the elbow\n",
    "# plt.plot(K, distortions, 'bx-')\n",
    "# plt.xlabel('k')\n",
    "# plt.ylabel('Distortion')\n",
    "# plt.title('The Elbow Method showing the optimal k')\n",
    "# plt.show()\n"
   ]
  },
  {
   "cell_type": "code",
   "execution_count": 16,
   "metadata": {},
   "outputs": [],
   "source": [
    "# kmeanModel = KMeans(n_clusters=k).fit(x)\n",
    "# x['lbl']=kmeanModel.labels_ "
   ]
  },
  {
   "cell_type": "code",
   "execution_count": 17,
   "metadata": {},
   "outputs": [],
   "source": [
    "# x.columns"
   ]
  },
  {
   "cell_type": "markdown",
   "metadata": {},
   "source": [
    "Random Forest Regressor\n",
    "============="
   ]
  },
  {
   "cell_type": "code",
   "execution_count": 18,
   "metadata": {},
   "outputs": [],
   "source": [
    "ylable=y[['L102900_y']]  \n",
    "xtrain,xtest,ytrain,ytest=train_test_split(x, ylable, random_state=42, test_size=0.2)"
   ]
  },
  {
   "cell_type": "code",
   "execution_count": 19,
   "metadata": {},
   "outputs": [
    {
     "name": "stdout",
     "output_type": "stream",
     "text": [
      "[8.91298628e-01 5.25547497e-03 1.05239762e-02 1.13727464e-02\n",
      " 4.45916766e-03 1.19549116e-02 4.52301140e-03 4.47716188e-03\n",
      " 5.02526269e-03 4.94324364e-03 2.10654745e-03 2.10038209e-02\n",
      " 4.72236977e-03 3.69221834e-03 3.01687890e-03 4.70623895e-03\n",
      " 2.31665184e-03 8.77993056e-05 4.14163407e-04 1.12363681e-04\n",
      " 2.61598599e-04 8.44936969e-04 2.53275357e-04 1.31516536e-03\n",
      " 2.19139472e-04 0.00000000e+00 2.68851956e-04 1.38593080e-04\n",
      " 1.48872603e-04 1.33731463e-04 4.03198180e-04]\n"
     ]
    }
   ],
   "source": [
    "regr = RandomForestRegressor(max_depth=7, random_state=0,verbose =0,n_estimators=500)\n",
    "regr.fit(xtrain, ytrain) \n",
    "print(regr.feature_importances_)\n",
    "ypred=regr.predict(xtest)\n"
   ]
  },
  {
   "cell_type": "code",
   "execution_count": 20,
   "metadata": {},
   "outputs": [
    {
     "name": "stdout",
     "output_type": "stream",
     "text": [
      "mean_squared_error 532.8966336034014\n",
      "root mean_squared_error 23.08455400486224\n",
      "mean_absolute_error 17.69724330329041\n",
      "r2_score 0.5373214628210736\n"
     ]
    },
    {
     "data": {
      "image/png": "[encoded data removed]",
      "text/plain": [
       "<Figure size 432x288 with 1 Axes>"
      ]
     },
     "metadata": {
      "needs_background": "light"
     },
     "output_type": "display_data"
    },
    {
     "data": {
      "text/html": [
       "<div>\n",
       "<style scoped>\n",
       "    .dataframe tbody tr th:only-of-type {\n",
       "        vertical-align: middle;\n",
       "    }\n",
       "\n",
       "    .dataframe tbody tr th {\n",
       "        vertical-align: top;\n",
       "    }\n",
       "\n",
       "    .dataframe thead th {\n",
       "        text-align: right;\n",
       "    }\n",
       "</style>\n",
       "<table border=\"1\" class=\"dataframe\">\n",
       "  <thead>\n",
       "    <tr style=\"text-align: right;\">\n",
       "      <th></th>\n",
       "      <th>t + 1</th>\n",
       "      <th>pred (t +1)</th>\n",
       "    </tr>\n",
       "  </thead>\n",
       "  <tbody>\n",
       "    <tr>\n",
       "      <th>1298</th>\n",
       "      <td>313.0</td>\n",
       "      <td>244.382383</td>\n",
       "    </tr>\n",
       "    <tr>\n",
       "      <th>290</th>\n",
       "      <td>316.0</td>\n",
       "      <td>239.168621</td>\n",
       "    </tr>\n",
       "    <tr>\n",
       "      <th>2460</th>\n",
       "      <td>318.0</td>\n",
       "      <td>232.498030</td>\n",
       "    </tr>\n",
       "    <tr>\n",
       "      <th>3252</th>\n",
       "      <td>320.0</td>\n",
       "      <td>263.352578</td>\n",
       "    </tr>\n",
       "    <tr>\n",
       "      <th>1526</th>\n",
       "      <td>324.0</td>\n",
       "      <td>280.582591</td>\n",
       "    </tr>\n",
       "    <tr>\n",
       "      <th>134</th>\n",
       "      <td>330.0</td>\n",
       "      <td>237.372227</td>\n",
       "    </tr>\n",
       "    <tr>\n",
       "      <th>1394</th>\n",
       "      <td>333.0</td>\n",
       "      <td>289.086337</td>\n",
       "    </tr>\n",
       "    <tr>\n",
       "      <th>331</th>\n",
       "      <td>334.0</td>\n",
       "      <td>221.894382</td>\n",
       "    </tr>\n",
       "    <tr>\n",
       "      <th>1718</th>\n",
       "      <td>338.0</td>\n",
       "      <td>288.133601</td>\n",
       "    </tr>\n",
       "    <tr>\n",
       "      <th>482</th>\n",
       "      <td>421.0</td>\n",
       "      <td>306.453339</td>\n",
       "    </tr>\n",
       "  </tbody>\n",
       "</table>\n",
       "</div>"
      ],
      "text/plain": [
       "      t + 1  pred (t +1)\n",
       "1298  313.0   244.382383\n",
       "290   316.0   239.168621\n",
       "2460  318.0   232.498030\n",
       "3252  320.0   263.352578\n",
       "1526  324.0   280.582591\n",
       "134   330.0   237.372227\n",
       "1394  333.0   289.086337\n",
       "331   334.0   221.894382\n",
       "1718  338.0   288.133601\n",
       "482   421.0   306.453339"
      ]
     },
     "execution_count": 20,
     "metadata": {},
     "output_type": "execute_result"
    },
    {
     "data": {
      "image/png": "[encoded data removed]",
      "text/plain": [
       "<Figure size 432x288 with 1 Axes>"
      ]
     },
     "metadata": {
      "needs_background": "light"
     },
     "output_type": "display_data"
    }
   ],
   "source": [
    "\n",
    "import math\n",
    "print('mean_squared_error',mean_squared_error(ytest, ypred))\n",
    "print('root mean_squared_error',math.sqrt(mean_squared_error(ytest, ypred)))\n",
    "print('mean_absolute_error',mean_absolute_error(ytest, ypred))\n",
    "print('r2_score',r2_score(ytest, ypred))\n",
    "\n",
    "ypredPD=pd.DataFrame()\n",
    "# ypredPD['t']=xtest['S000501_x'].values\n",
    "ypredPD['t + 1']=ytest.values.ravel()\n",
    "ypredPD['pred (t +1)']=ypred\n",
    "ypredPD.head(30)\n",
    "\n",
    "import matplotlib.patches as mpatches\n",
    "plt.ylabel('Values')\n",
    "plt.xlabel('index')\n",
    "red_patch = mpatches.Patch(color='red', label='Actual data')\n",
    "blue_patch = mpatches.Patch(color='blue', label='Predicted data')\n",
    "plt.legend(handles=[red_patch,blue_patch])\n",
    "\n",
    "ypredPD=ypredPD.sort_values(by=['t + 1'])\n",
    "plt.scatter(np.arange(0,ypredPD.shape[0],1),ypredPD['pred (t +1)'][:ypredPD.shape[0]])\n",
    "plt.plot(np.arange(0,ypredPD.shape[0],1),ypredPD['t + 1'][:ypredPD.shape[0]],color='red')\n",
    "plt.show()\n",
    "\n",
    "plt.ylabel('p*(t+1), Predicted data')\n",
    "plt.xlabel('p(t+1), Actual data')\n",
    "plt.scatter(ypredPD['t + 1'][:ypredPD.shape[0]],ypredPD['pred (t +1)'][:ypredPD.shape[0]])\n",
    "\n",
    "ypredPD.tail(10)"
   ]
  },
  {
   "cell_type": "code",
   "execution_count": 21,
   "metadata": {},
   "outputs": [],
   "source": [
    "# tempdata=pd.DataFrame(xtest.copy())\n",
    "# tempdata['ytest']=ytest\n",
    "# # temp=temp.dropna()\n",
    "# # tempdata.head()\n",
    "# # tempdata[tempdata.ytest.isna()].index\n",
    "\n",
    "# tempdata=tempdata.drop(tempdata[tempdata.ytest.isna()].index)\n"
   ]
  },
  {
   "cell_type": "markdown",
   "metadata": {},
   "source": [
    "xg boost\n",
    "=========="
   ]
  },
  {
   "cell_type": "code",
   "execution_count": 22,
   "metadata": {},
   "outputs": [],
   "source": [
    "import xgboost as xgb\n",
    "# from sklearn.metrics import mean_squared_error\n",
    "# import pandas as pd\n",
    "# import numpy as np"
   ]
  },
  {
   "cell_type": "code",
   "execution_count": 23,
   "metadata": {},
   "outputs": [
    {
     "name": "stdout",
     "output_type": "stream",
     "text": [
      "[23:32:10] WARNING: C:/Jenkins/workspace/xgboost-win64_release_0.90/src/objective/regression_obj.cu:152: reg:linear is now deprecated in favor of reg:squarederror.\n"
     ]
    },
    {
     "data": {
      "text/plain": [
       "XGBRegressor(base_score=0.5, booster='gbtree', colsample_bylevel=1,\n",
       "             colsample_bynode=1, colsample_bytree=1, gamma=0,\n",
       "             importance_type='gain', learning_rate=0.1, max_delta_step=0,\n",
       "             max_depth=3, min_child_weight=1, missing=None, n_estimators=100,\n",
       "             n_jobs=1, nthread=None, objective='reg:linear', random_state=0,\n",
       "             reg_alpha=0, reg_lambda=1, scale_pos_weight=1, seed=None,\n",
       "             silent=None, subsample=1, verbosity=1)"
      ]
     },
     "execution_count": 23,
     "metadata": {},
     "output_type": "execute_result"
    }
   ],
   "source": [
    "xg_reg = xgb.XGBRegressor()\n",
    "# xg_reg = xgb.XGBRegressor(objective ='reg:linear', colsample_bytree = 0.3, \n",
    "#                           learning_rate = 0.1,max_depth = 5, alpha = 10, n_estimators = 10)\n",
    "xg_reg.fit(xtrain, ytrain) "
   ]
  },
  {
   "cell_type": "code",
   "execution_count": 24,
   "metadata": {},
   "outputs": [
    {
     "name": "stdout",
     "output_type": "stream",
     "text": [
      "mean_squared_error 524.0116605983067\n",
      "root mean_squared_error 22.89130098090335\n",
      "mean_absolute_error 17.570328925091637\n",
      "r2_score 0.5450356911603935\n"
     ]
    }
   ],
   "source": [
    "\n",
    "ypred = xg_reg.predict(xtest)\n",
    "\n",
    "import math\n",
    "print('mean_squared_error',mean_squared_error(ytest, ypred))\n",
    "print('root mean_squared_error',math.sqrt(mean_squared_error(ytest, ypred)))\n",
    "print('mean_absolute_error',mean_absolute_error(ytest, ypred))\n",
    "print('r2_score',r2_score(ytest, ypred))\n",
    "\n",
    "# ypredPD=pd.DataFrame()\n",
    "# ypredPD['t']=xtest['S000501_x'].values\n",
    "# ypredPD['t + 1']=ytest.values\n",
    "# ypredPD['pred (t +1)']=ypred\n",
    "# ypredPD.head(10)"
   ]
  },
  {
   "cell_type": "code",
   "execution_count": 25,
   "metadata": {},
   "outputs": [],
   "source": [
    "# ytest[ytest.isna()].shape\n",
    "# tempdata.iloc[:,-1]"
   ]
  },
  {
   "cell_type": "markdown",
   "metadata": {},
   "source": [
    "ANN\n",
    "=========="
   ]
  },
  {
   "cell_type": "code",
   "execution_count": 26,
   "metadata": {},
   "outputs": [
    {
     "name": "stderr",
     "output_type": "stream",
     "text": [
      "WARNING: Logging before flag parsing goes to stderr.\n",
      "W1003 23:32:12.284086 13888 deprecation_wrapper.py:119] From C:\\ProgramData\\Anaconda3\\lib\\site-packages\\keras\\backend\\tensorflow_backend.py:74: The name tf.get_default_graph is deprecated. Please use tf.compat.v1.get_default_graph instead.\n",
      "\n",
      "W1003 23:32:12.295031 13888 deprecation_wrapper.py:119] From C:\\ProgramData\\Anaconda3\\lib\\site-packages\\keras\\backend\\tensorflow_backend.py:517: The name tf.placeholder is deprecated. Please use tf.compat.v1.placeholder instead.\n",
      "\n",
      "W1003 23:32:12.297026 13888 deprecation_wrapper.py:119] From C:\\ProgramData\\Anaconda3\\lib\\site-packages\\keras\\backend\\tensorflow_backend.py:4138: The name tf.random_uniform is deprecated. Please use tf.random.uniform instead.\n",
      "\n",
      "W1003 23:32:12.384212 13888 deprecation_wrapper.py:119] From C:\\ProgramData\\Anaconda3\\lib\\site-packages\\keras\\backend\\tensorflow_backend.py:133: The name tf.placeholder_with_default is deprecated. Please use tf.compat.v1.placeholder_with_default instead.\n",
      "\n",
      "W1003 23:32:12.402817 13888 deprecation.py:506] From C:\\ProgramData\\Anaconda3\\lib\\site-packages\\keras\\backend\\tensorflow_backend.py:3445: calling dropout (from tensorflow.python.ops.nn_ops) with keep_prob is deprecated and will be removed in a future version.\n",
      "Instructions for updating:\n",
      "Please use `rate` instead of `keep_prob`. Rate should be set to `rate = 1 - keep_prob`.\n",
      "W1003 23:32:12.513552 13888 deprecation_wrapper.py:119] From C:\\ProgramData\\Anaconda3\\lib\\site-packages\\keras\\optimizers.py:790: The name tf.train.Optimizer is deprecated. Please use tf.compat.v1.train.Optimizer instead.\n",
      "\n"
     ]
    }
   ],
   "source": [
    "model= Sequential()\n",
    "model.add(Dense(input_dim=31,units=128,activation='relu', kernel_initializer='uniform'))\n",
    "model.add(Dense(units=128, activation='relu', kernel_initializer='uniform')) \n",
    "# model.add(BatchNormalization())\n",
    "# model.add(Dropout(0.25))  \n",
    "model.add(Dense(units=64, activation='relu', kernel_initializer='uniform'))\n",
    "model.add(Dense(units=32, activation='relu', kernel_initializer='uniform')) \n",
    "model.add(BatchNormalization())\n",
    "model.add(Dropout(0.25))  \n",
    "model.add(Dense(units=16, activation='relu', kernel_initializer='uniform'))\n",
    "model.add(BatchNormalization())\n",
    "model.add(Dropout(0.25))  \n",
    "model.add(Dense(units=8, activation='relu', kernel_initializer='uniform'))\n",
    "model.add(Dense(units=1, kernel_initializer='uniform'))\n",
    "model.compile(loss='mean_squared_error', optimizer='Nadam', metrics=['mean_squared_error' ])"
   ]
  },
  {
   "cell_type": "code",
   "execution_count": 27,
   "metadata": {
    "scrolled": true
   },
   "outputs": [
    {
     "name": "stderr",
     "output_type": "stream",
     "text": [
      "W1003 23:32:12.900465 13888 deprecation_wrapper.py:119] From C:\\ProgramData\\Anaconda3\\lib\\site-packages\\keras\\backend\\tensorflow_backend.py:986: The name tf.assign_add is deprecated. Please use tf.compat.v1.assign_add instead.\n",
      "\n"
     ]
    },
    {
     "name": "stdout",
     "output_type": "stream",
     "text": [
      "Train on 12096 samples, validate on 3024 samples\n",
      "Epoch 1/100\n",
      "12096/12096 [==============================] - 1s 73us/step - loss: 34242.8010 - mean_squared_error: 34242.8010 - val_loss: 19774.9159 - val_mean_squared_error: 19774.9159\n",
      "Epoch 2/100\n",
      "12096/12096 [==============================] - 0s 23us/step - loss: 7337.4176 - mean_squared_error: 7337.4176 - val_loss: 15058.0954 - val_mean_squared_error: 15058.0954\n",
      "Epoch 3/100\n",
      "12096/12096 [==============================] - 0s 26us/step - loss: 2759.0275 - mean_squared_error: 2759.0275 - val_loss: 2025.6485 - val_mean_squared_error: 2025.6485\n",
      "Epoch 4/100\n",
      "12096/12096 [==============================] - 0s 23us/step - loss: 1731.2786 - mean_squared_error: 1731.2786 - val_loss: 795.3663 - val_mean_squared_error: 795.3663\n",
      "Epoch 5/100\n",
      "12096/12096 [==============================] - 0s 24us/step - loss: 1437.3270 - mean_squared_error: 1437.3270 - val_loss: 593.4113 - val_mean_squared_error: 593.4113\n",
      "Epoch 6/100\n",
      "12096/12096 [==============================] - 0s 23us/step - loss: 1362.0954 - mean_squared_error: 1362.0954 - val_loss: 1175.1452 - val_mean_squared_error: 1175.1452\n",
      "Epoch 7/100\n",
      "12096/12096 [==============================] - 0s 25us/step - loss: 1394.8721 - mean_squared_error: 1394.8721 - val_loss: 1032.1128 - val_mean_squared_error: 1032.1128\n",
      "Epoch 8/100\n",
      "12096/12096 [==============================] - 0s 23us/step - loss: 1405.8332 - mean_squared_error: 1405.8332 - val_loss: 549.3110 - val_mean_squared_error: 549.3110\n",
      "Epoch 9/100\n",
      "12096/12096 [==============================] - 0s 24us/step - loss: 1416.1646 - mean_squared_error: 1416.1646 - val_loss: 553.7038 - val_mean_squared_error: 553.7038\n",
      "Epoch 10/100\n",
      "12096/12096 [==============================] - 0s 24us/step - loss: 1381.7018 - mean_squared_error: 1381.7018 - val_loss: 565.5765 - val_mean_squared_error: 565.5765\n",
      "Epoch 11/100\n",
      "12096/12096 [==============================] - 0s 24us/step - loss: 1363.1693 - mean_squared_error: 1363.1693 - val_loss: 612.0204 - val_mean_squared_error: 612.0204\n",
      "Epoch 12/100\n",
      "12096/12096 [==============================] - 0s 23us/step - loss: 1355.7799 - mean_squared_error: 1355.7799 - val_loss: 613.3688 - val_mean_squared_error: 613.3688\n",
      "Epoch 13/100\n",
      "12096/12096 [==============================] - 0s 26us/step - loss: 1363.8936 - mean_squared_error: 1363.8936 - val_loss: 549.9803 - val_mean_squared_error: 549.9803\n",
      "Epoch 14/100\n",
      "12096/12096 [==============================] - 0s 25us/step - loss: 1338.9202 - mean_squared_error: 1338.9202 - val_loss: 583.0428 - val_mean_squared_error: 583.0428\n",
      "Epoch 15/100\n",
      "12096/12096 [==============================] - 0s 24us/step - loss: 1312.9987 - mean_squared_error: 1312.9987 - val_loss: 673.6689 - val_mean_squared_error: 673.6689\n",
      "Epoch 16/100\n",
      "12096/12096 [==============================] - 0s 25us/step - loss: 1315.1896 - mean_squared_error: 1315.1896 - val_loss: 553.8039 - val_mean_squared_error: 553.8039\n",
      "Epoch 17/100\n",
      "12096/12096 [==============================] - 0s 23us/step - loss: 1292.8155 - mean_squared_error: 1292.8155 - val_loss: 554.3389 - val_mean_squared_error: 554.3389\n",
      "Epoch 18/100\n",
      "12096/12096 [==============================] - 0s 27us/step - loss: 1252.7267 - mean_squared_error: 1252.7267 - val_loss: 570.4557 - val_mean_squared_error: 570.4557\n",
      "Epoch 19/100\n",
      "12096/12096 [==============================] - 0s 23us/step - loss: 1288.6029 - mean_squared_error: 1288.6029 - val_loss: 582.5058 - val_mean_squared_error: 582.5058\n",
      "Epoch 20/100\n",
      "12096/12096 [==============================] - 0s 26us/step - loss: 1251.9395 - mean_squared_error: 1251.9395 - val_loss: 674.9103 - val_mean_squared_error: 674.9103\n",
      "Epoch 21/100\n",
      "12096/12096 [==============================] - 0s 23us/step - loss: 1236.2094 - mean_squared_error: 1236.2094 - val_loss: 1028.0963 - val_mean_squared_error: 1028.0963\n",
      "Epoch 22/100\n",
      "12096/12096 [==============================] - 0s 24us/step - loss: 1256.1086 - mean_squared_error: 1256.1086 - val_loss: 544.8370 - val_mean_squared_error: 544.8370\n",
      "Epoch 23/100\n",
      "12096/12096 [==============================] - 0s 25us/step - loss: 1229.6645 - mean_squared_error: 1229.6645 - val_loss: 583.4783 - val_mean_squared_error: 583.4783\n",
      "Epoch 24/100\n",
      "12096/12096 [==============================] - 0s 24us/step - loss: 1193.2417 - mean_squared_error: 1193.2417 - val_loss: 629.9556 - val_mean_squared_error: 629.9556\n",
      "Epoch 25/100\n",
      "12096/12096 [==============================] - 0s 24us/step - loss: 1210.0027 - mean_squared_error: 1210.0027 - val_loss: 771.0144 - val_mean_squared_error: 771.0144\n",
      "Epoch 26/100\n",
      "12096/12096 [==============================] - 0s 24us/step - loss: 1187.1421 - mean_squared_error: 1187.1421 - val_loss: 534.7799 - val_mean_squared_error: 534.7799\n",
      "Epoch 27/100\n",
      "12096/12096 [==============================] - 0s 25us/step - loss: 1182.8102 - mean_squared_error: 1182.8102 - val_loss: 16902.6421 - val_mean_squared_error: 16902.6421\n",
      "Epoch 28/100\n",
      "12096/12096 [==============================] - 0s 24us/step - loss: 1145.0134 - mean_squared_error: 1145.0134 - val_loss: 581.9978 - val_mean_squared_error: 581.9978\n",
      "Epoch 29/100\n",
      "12096/12096 [==============================] - 0s 23us/step - loss: 1145.5989 - mean_squared_error: 1145.5989 - val_loss: 581.5569 - val_mean_squared_error: 581.5569\n",
      "Epoch 30/100\n",
      "12096/12096 [==============================] - 0s 24us/step - loss: 1138.7892 - mean_squared_error: 1138.7892 - val_loss: 3744.3698 - val_mean_squared_error: 3744.3698\n",
      "Epoch 31/100\n",
      "12096/12096 [==============================] - 0s 25us/step - loss: 1098.9848 - mean_squared_error: 1098.9848 - val_loss: 626.2546 - val_mean_squared_error: 626.2546\n",
      "Epoch 32/100\n",
      "12096/12096 [==============================] - 0s 23us/step - loss: 1086.4715 - mean_squared_error: 1086.4715 - val_loss: 543.7126 - val_mean_squared_error: 543.7126\n",
      "Epoch 33/100\n",
      "12096/12096 [==============================] - 0s 24us/step - loss: 1079.3460 - mean_squared_error: 1079.3460 - val_loss: 610.3196 - val_mean_squared_error: 610.3196\n",
      "Epoch 34/100\n",
      "12096/12096 [==============================] - 0s 24us/step - loss: 1046.2270 - mean_squared_error: 1046.2270 - val_loss: 618.1264 - val_mean_squared_error: 618.1264\n",
      "Epoch 35/100\n",
      "12096/12096 [==============================] - 0s 24us/step - loss: 1019.4427 - mean_squared_error: 1019.4427 - val_loss: 535.1897 - val_mean_squared_error: 535.1897\n",
      "Epoch 36/100\n",
      "12096/12096 [==============================] - 0s 24us/step - loss: 1022.0614 - mean_squared_error: 1022.0614 - val_loss: 560.0381 - val_mean_squared_error: 560.0381\n",
      "Epoch 37/100\n",
      "12096/12096 [==============================] - 0s 24us/step - loss: 995.8295 - mean_squared_error: 995.8295 - val_loss: 553.0768 - val_mean_squared_error: 553.0768\n",
      "Epoch 38/100\n",
      "12096/12096 [==============================] - 0s 24us/step - loss: 972.6661 - mean_squared_error: 972.6661 - val_loss: 539.9341 - val_mean_squared_error: 539.9341\n",
      "Epoch 39/100\n",
      "12096/12096 [==============================] - 0s 23us/step - loss: 976.7900 - mean_squared_error: 976.7900 - val_loss: 536.9544 - val_mean_squared_error: 536.9544\n",
      "Epoch 40/100\n",
      "12096/12096 [==============================] - 0s 24us/step - loss: 938.4892 - mean_squared_error: 938.4892 - val_loss: 568.9705 - val_mean_squared_error: 568.9705\n",
      "Epoch 41/100\n",
      "12096/12096 [==============================] - 0s 24us/step - loss: 951.2087 - mean_squared_error: 951.2087 - val_loss: 16041.8025 - val_mean_squared_error: 16041.8025\n",
      "Epoch 42/100\n",
      "12096/12096 [==============================] - 0s 23us/step - loss: 949.4062 - mean_squared_error: 949.4062 - val_loss: 537.1173 - val_mean_squared_error: 537.1173\n",
      "Epoch 43/100\n",
      "12096/12096 [==============================] - 0s 25us/step - loss: 901.8112 - mean_squared_error: 901.8112 - val_loss: 585.4537 - val_mean_squared_error: 585.4537\n",
      "Epoch 44/100\n",
      "12096/12096 [==============================] - 0s 23us/step - loss: 902.2771 - mean_squared_error: 902.2771 - val_loss: 577.2526 - val_mean_squared_error: 577.2526\n",
      "Epoch 45/100\n",
      "12096/12096 [==============================] - 0s 23us/step - loss: 863.6368 - mean_squared_error: 863.6368 - val_loss: 536.3801 - val_mean_squared_error: 536.3801\n",
      "Epoch 46/100\n",
      "12096/12096 [==============================] - 0s 24us/step - loss: 849.6168 - mean_squared_error: 849.6168 - val_loss: 6385.7711 - val_mean_squared_error: 6385.7711\n",
      "Epoch 47/100\n",
      "12096/12096 [==============================] - 0s 25us/step - loss: 836.1208 - mean_squared_error: 836.1208 - val_loss: 1453.8026 - val_mean_squared_error: 1453.8026\n",
      "Epoch 48/100\n",
      "12096/12096 [==============================] - 0s 24us/step - loss: 830.7729 - mean_squared_error: 830.7729 - val_loss: 627.5673 - val_mean_squared_error: 627.5673\n",
      "Epoch 49/100\n",
      "12096/12096 [==============================] - 0s 24us/step - loss: 817.3006 - mean_squared_error: 817.3006 - val_loss: 619.8842 - val_mean_squared_error: 619.8842\n",
      "Epoch 50/100\n",
      "12096/12096 [==============================] - 0s 24us/step - loss: 802.3543 - mean_squared_error: 802.3543 - val_loss: 604.4759 - val_mean_squared_error: 604.4759\n",
      "Epoch 51/100\n",
      "12096/12096 [==============================] - 0s 24us/step - loss: 796.2568 - mean_squared_error: 796.2568 - val_loss: 546.7998 - val_mean_squared_error: 546.7998\n",
      "Epoch 52/100\n",
      "12096/12096 [==============================] - 0s 25us/step - loss: 778.2667 - mean_squared_error: 778.2667 - val_loss: 529.7450 - val_mean_squared_error: 529.7450\n",
      "Epoch 53/100\n",
      "12096/12096 [==============================] - 0s 26us/step - loss: 767.9169 - mean_squared_error: 767.9169 - val_loss: 711.6203 - val_mean_squared_error: 711.6203\n",
      "Epoch 54/100\n",
      "12096/12096 [==============================] - 0s 26us/step - loss: 760.0403 - mean_squared_error: 760.0403 - val_loss: 537.9002 - val_mean_squared_error: 537.9002\n",
      "Epoch 55/100\n",
      "12096/12096 [==============================] - 0s 24us/step - loss: 751.1488 - mean_squared_error: 751.1488 - val_loss: 651.5329 - val_mean_squared_error: 651.5329\n",
      "Epoch 56/100\n",
      "12096/12096 [==============================] - 0s 24us/step - loss: 741.9375 - mean_squared_error: 741.9375 - val_loss: 533.2780 - val_mean_squared_error: 533.2780\n",
      "Epoch 57/100\n",
      "12096/12096 [==============================] - 0s 24us/step - loss: 734.6746 - mean_squared_error: 734.6746 - val_loss: 712.2589 - val_mean_squared_error: 712.2589\n",
      "Epoch 58/100\n",
      "12096/12096 [==============================] - 0s 24us/step - loss: 722.7011 - mean_squared_error: 722.7011 - val_loss: 550.0458 - val_mean_squared_error: 550.0458\n",
      "Epoch 59/100\n",
      "12096/12096 [==============================] - 0s 25us/step - loss: 697.0063 - mean_squared_error: 697.0063 - val_loss: 545.9351 - val_mean_squared_error: 545.9351\n",
      "Epoch 60/100\n",
      "12096/12096 [==============================] - 0s 25us/step - loss: 695.8109 - mean_squared_error: 695.8109 - val_loss: 635.7213 - val_mean_squared_error: 635.7213\n",
      "Epoch 61/100\n",
      "12096/12096 [==============================] - 0s 24us/step - loss: 697.0525 - mean_squared_error: 697.0525 - val_loss: 1131.9942 - val_mean_squared_error: 1131.9942\n",
      "Epoch 62/100\n",
      "12096/12096 [==============================] - 0s 23us/step - loss: 693.2873 - mean_squared_error: 693.2873 - val_loss: 539.4296 - val_mean_squared_error: 539.4296\n",
      "Epoch 63/100\n",
      "12096/12096 [==============================] - 0s 25us/step - loss: 684.6277 - mean_squared_error: 684.6277 - val_loss: 531.7197 - val_mean_squared_error: 531.7197\n",
      "Epoch 64/100\n",
      "12096/12096 [==============================] - 0s 23us/step - loss: 670.1974 - mean_squared_error: 670.1974 - val_loss: 534.6941 - val_mean_squared_error: 534.6941\n",
      "Epoch 65/100\n",
      "12096/12096 [==============================] - 0s 24us/step - loss: 680.9691 - mean_squared_error: 680.9691 - val_loss: 553.0968 - val_mean_squared_error: 553.0968\n",
      "Epoch 66/100\n",
      "12096/12096 [==============================] - 0s 24us/step - loss: 676.9071 - mean_squared_error: 676.9071 - val_loss: 573.3980 - val_mean_squared_error: 573.3980\n",
      "Epoch 67/100\n",
      "12096/12096 [==============================] - 0s 23us/step - loss: 673.7778 - mean_squared_error: 673.7778 - val_loss: 551.0399 - val_mean_squared_error: 551.0399\n",
      "Epoch 68/100\n",
      "12096/12096 [==============================] - 0s 23us/step - loss: 673.8312 - mean_squared_error: 673.8312 - val_loss: 549.3520 - val_mean_squared_error: 549.3520\n",
      "Epoch 69/100\n",
      "12096/12096 [==============================] - 0s 24us/step - loss: 659.8880 - mean_squared_error: 659.8880 - val_loss: 698.7855 - val_mean_squared_error: 698.7855\n",
      "Epoch 70/100\n",
      "12096/12096 [==============================] - 0s 24us/step - loss: 654.4203 - mean_squared_error: 654.4203 - val_loss: 1187.4033 - val_mean_squared_error: 1187.4033\n",
      "Epoch 71/100\n",
      "12096/12096 [==============================] - 0s 24us/step - loss: 662.4965 - mean_squared_error: 662.4965 - val_loss: 41592522.9418 - val_mean_squared_error: 41592522.9418\n",
      "Epoch 72/100\n",
      "12096/12096 [==============================] - 0s 24us/step - loss: 651.0242 - mean_squared_error: 651.0242 - val_loss: 3067303.3175 - val_mean_squared_error: 3067303.3175\n",
      "Epoch 73/100\n",
      "12096/12096 [==============================] - 0s 23us/step - loss: 666.3768 - mean_squared_error: 666.3768 - val_loss: 564.5863 - val_mean_squared_error: 564.5863\n",
      "Epoch 74/100\n",
      "12096/12096 [==============================] - 0s 24us/step - loss: 637.5770 - mean_squared_error: 637.5770 - val_loss: 561.0253 - val_mean_squared_error: 561.0253\n",
      "Epoch 75/100\n",
      "12096/12096 [==============================] - 0s 24us/step - loss: 629.8884 - mean_squared_error: 629.8884 - val_loss: 570.3524 - val_mean_squared_error: 570.3524\n",
      "Epoch 76/100\n",
      "12096/12096 [==============================] - 0s 24us/step - loss: 634.2059 - mean_squared_error: 634.2059 - val_loss: 543.2132 - val_mean_squared_error: 543.2132\n",
      "Epoch 77/100\n",
      "12096/12096 [==============================] - 0s 23us/step - loss: 639.1187 - mean_squared_error: 639.1187 - val_loss: 535.2143 - val_mean_squared_error: 535.2143\n",
      "Epoch 78/100\n",
      "12096/12096 [==============================] - 0s 25us/step - loss: 634.1704 - mean_squared_error: 634.1704 - val_loss: 638.3150 - val_mean_squared_error: 638.3150\n",
      "Epoch 79/100\n",
      "12096/12096 [==============================] - 0s 23us/step - loss: 632.1856 - mean_squared_error: 632.1856 - val_loss: 595.3843 - val_mean_squared_error: 595.3843\n",
      "Epoch 80/100\n",
      "12096/12096 [==============================] - 0s 23us/step - loss: 631.6393 - mean_squared_error: 631.6393 - val_loss: 588.5180 - val_mean_squared_error: 588.5180\n",
      "Epoch 81/100\n",
      "12096/12096 [==============================] - 0s 23us/step - loss: 618.3729 - mean_squared_error: 618.3729 - val_loss: 539.4195 - val_mean_squared_error: 539.4195\n",
      "Epoch 82/100\n",
      "12096/12096 [==============================] - 0s 25us/step - loss: 628.7676 - mean_squared_error: 628.7676 - val_loss: 551.8890 - val_mean_squared_error: 551.8890\n",
      "Epoch 83/100\n",
      "12096/12096 [==============================] - 0s 24us/step - loss: 627.0640 - mean_squared_error: 627.0640 - val_loss: 669.3127 - val_mean_squared_error: 669.3127\n",
      "Epoch 84/100\n",
      "12096/12096 [==============================] - 0s 23us/step - loss: 628.5344 - mean_squared_error: 628.5344 - val_loss: 6832.0032 - val_mean_squared_error: 6832.0032\n",
      "Epoch 85/100\n",
      "12096/12096 [==============================] - 0s 24us/step - loss: 619.1723 - mean_squared_error: 619.1723 - val_loss: 620.2482 - val_mean_squared_error: 620.2482\n",
      "Epoch 86/100\n",
      "12096/12096 [==============================] - 0s 23us/step - loss: 612.2247 - mean_squared_error: 612.2247 - val_loss: 571.6595 - val_mean_squared_error: 571.6595\n",
      "Epoch 87/100\n",
      "12096/12096 [==============================] - 0s 23us/step - loss: 616.9679 - mean_squared_error: 616.9679 - val_loss: 545.6620 - val_mean_squared_error: 545.6620\n",
      "Epoch 88/100\n",
      "12096/12096 [==============================] - 0s 25us/step - loss: 616.6317 - mean_squared_error: 616.6317 - val_loss: 655.5563 - val_mean_squared_error: 655.5563\n",
      "Epoch 89/100\n",
      "12096/12096 [==============================] - 0s 23us/step - loss: 616.2819 - mean_squared_error: 616.2819 - val_loss: 559.2299 - val_mean_squared_error: 559.2299\n",
      "Epoch 90/100\n",
      "12096/12096 [==============================] - 0s 23us/step - loss: 613.3349 - mean_squared_error: 613.3349 - val_loss: 555.4434 - val_mean_squared_error: 555.4434\n",
      "Epoch 91/100\n",
      "12096/12096 [==============================] - 0s 24us/step - loss: 615.3409 - mean_squared_error: 615.3409 - val_loss: 542.3870 - val_mean_squared_error: 542.3870\n",
      "Epoch 92/100\n"
     ]
    },
    {
     "name": "stdout",
     "output_type": "stream",
     "text": [
      "12096/12096 [==============================] - 0s 23us/step - loss: 618.8584 - mean_squared_error: 618.8584 - val_loss: 583.5093 - val_mean_squared_error: 583.5093\n",
      "Epoch 93/100\n",
      "12096/12096 [==============================] - 0s 25us/step - loss: 611.8876 - mean_squared_error: 611.8876 - val_loss: 540.0979 - val_mean_squared_error: 540.0979\n",
      "Epoch 94/100\n",
      "12096/12096 [==============================] - 0s 24us/step - loss: 617.3460 - mean_squared_error: 617.3460 - val_loss: 552.8949 - val_mean_squared_error: 552.8949\n",
      "Epoch 95/100\n",
      "12096/12096 [==============================] - 0s 24us/step - loss: 608.4811 - mean_squared_error: 608.4811 - val_loss: 573.5916 - val_mean_squared_error: 573.5916\n",
      "Epoch 96/100\n",
      "12096/12096 [==============================] - 0s 24us/step - loss: 613.9012 - mean_squared_error: 613.9012 - val_loss: 577.9895 - val_mean_squared_error: 577.9895\n",
      "Epoch 97/100\n",
      "12096/12096 [==============================] - 0s 23us/step - loss: 616.1077 - mean_squared_error: 616.1077 - val_loss: 582.5584 - val_mean_squared_error: 582.5584\n",
      "Epoch 98/100\n",
      "12096/12096 [==============================] - 0s 25us/step - loss: 615.9985 - mean_squared_error: 615.9985 - val_loss: 529.4647 - val_mean_squared_error: 529.4647\n",
      "Epoch 99/100\n",
      "12096/12096 [==============================] - 0s 25us/step - loss: 618.5819 - mean_squared_error: 618.5819 - val_loss: 556.2098 - val_mean_squared_error: 556.2098\n",
      "Epoch 100/100\n",
      "12096/12096 [==============================] - 0s 25us/step - loss: 602.2987 - mean_squared_error: 602.2987 - val_loss: 1534.8333 - val_mean_squared_error: 1534.8333\n"
     ]
    }
   ],
   "source": [
    "h=model.fit(xtrain, ytrain, validation_split=.2,epochs=100, batch_size=50)"
   ]
  },
  {
   "cell_type": "code",
   "execution_count": 28,
   "metadata": {},
   "outputs": [
    {
     "name": "stdout",
     "output_type": "stream",
     "text": [
      "mean_squared_error 1554.0967871163605\n",
      "root mean_squared_error 39.42203428434865\n",
      "mean_absolute_error 33.84541874491831\n",
      "r2_score -0.3493183907643238\n"
     ]
    },
    {
     "data": {
      "text/html": [
       "<div>\n",
       "<style scoped>\n",
       "    .dataframe tbody tr th:only-of-type {\n",
       "        vertical-align: middle;\n",
       "    }\n",
       "\n",
       "    .dataframe tbody tr th {\n",
       "        vertical-align: top;\n",
       "    }\n",
       "\n",
       "    .dataframe thead th {\n",
       "        text-align: right;\n",
       "    }\n",
       "</style>\n",
       "<table border=\"1\" class=\"dataframe\">\n",
       "  <thead>\n",
       "    <tr style=\"text-align: right;\">\n",
       "      <th></th>\n",
       "      <th>t + 1</th>\n",
       "      <th>pred (t +1)</th>\n",
       "    </tr>\n",
       "  </thead>\n",
       "  <tbody>\n",
       "    <tr>\n",
       "      <th>0</th>\n",
       "      <td>223.0</td>\n",
       "      <td>254.542999</td>\n",
       "    </tr>\n",
       "    <tr>\n",
       "      <th>1</th>\n",
       "      <td>180.0</td>\n",
       "      <td>245.175491</td>\n",
       "    </tr>\n",
       "    <tr>\n",
       "      <th>2</th>\n",
       "      <td>212.0</td>\n",
       "      <td>264.032410</td>\n",
       "    </tr>\n",
       "    <tr>\n",
       "      <th>3</th>\n",
       "      <td>231.0</td>\n",
       "      <td>239.456085</td>\n",
       "    </tr>\n",
       "    <tr>\n",
       "      <th>4</th>\n",
       "      <td>229.0</td>\n",
       "      <td>256.070892</td>\n",
       "    </tr>\n",
       "    <tr>\n",
       "      <th>5</th>\n",
       "      <td>198.0</td>\n",
       "      <td>252.263199</td>\n",
       "    </tr>\n",
       "    <tr>\n",
       "      <th>6</th>\n",
       "      <td>158.0</td>\n",
       "      <td>215.401917</td>\n",
       "    </tr>\n",
       "    <tr>\n",
       "      <th>7</th>\n",
       "      <td>205.0</td>\n",
       "      <td>217.475815</td>\n",
       "    </tr>\n",
       "    <tr>\n",
       "      <th>8</th>\n",
       "      <td>172.0</td>\n",
       "      <td>229.008636</td>\n",
       "    </tr>\n",
       "    <tr>\n",
       "      <th>9</th>\n",
       "      <td>182.0</td>\n",
       "      <td>213.220657</td>\n",
       "    </tr>\n",
       "  </tbody>\n",
       "</table>\n",
       "</div>"
      ],
      "text/plain": [
       "   t + 1  pred (t +1)\n",
       "0  223.0   254.542999\n",
       "1  180.0   245.175491\n",
       "2  212.0   264.032410\n",
       "3  231.0   239.456085\n",
       "4  229.0   256.070892\n",
       "5  198.0   252.263199\n",
       "6  158.0   215.401917\n",
       "7  205.0   217.475815\n",
       "8  172.0   229.008636\n",
       "9  182.0   213.220657"
      ]
     },
     "execution_count": 28,
     "metadata": {},
     "output_type": "execute_result"
    }
   ],
   "source": [
    "ypred=model.predict(xtest)\n",
    "\n",
    "import math\n",
    "print('mean_squared_error',mean_squared_error(ytest, ypred))\n",
    "print('root mean_squared_error',math.sqrt(mean_squared_error(ytest, ypred)))\n",
    "print('mean_absolute_error',mean_absolute_error(ytest, ypred))\n",
    "print('r2_score',r2_score(ytest, ypred))\n",
    "\n",
    "ypredPD=pd.DataFrame()\n",
    "# ypredPD['t']=xtest['S000501_x'].values\n",
    "ypredPD['t + 1']=ytest.values.ravel()\n",
    "ypredPD['pred (t +1)']=ypred\n",
    "ypredPD.head(10)"
   ]
  },
  {
   "cell_type": "code",
   "execution_count": 29,
   "metadata": {},
   "outputs": [
    {
     "name": "stdout",
     "output_type": "stream",
     "text": [
      "dict_keys(['val_loss', 'val_mean_squared_error', 'loss', 'mean_squared_error'])\n"
     ]
    },
    {
     "data": {
      "image/png": "[encoded data removed]",
      "text/plain": [
       "<Figure size 432x288 with 1 Axes>"
      ]
     },
     "metadata": {
      "needs_background": "light"
     },
     "output_type": "display_data"
    },
    {
     "data": {
      "image/png": "[encoded data removed]",
      "text/plain": [
       "<Figure size 432x288 with 1 Axes>"
      ]
     },
     "metadata": {
      "needs_background": "light"
     },
     "output_type": "display_data"
    }
   ],
   "source": [
    "history=h\n",
    "print(history.history.keys())\n",
    "# summarize history for accuracy\n",
    "plt.plot(history.history['val_loss'])\n",
    "plt.plot(history.history['loss'])\n",
    "plt.title('model accuracy')\n",
    "plt.ylabel('accuracy')\n",
    "plt.xlabel('epoch')\n",
    "plt.legend(['train', 'test'], loc='upper left')\n",
    "plt.show()\n",
    "# summarize history for loss\n",
    "plt.plot(history.history['val_mean_squared_error'])\n",
    "plt.plot(history.history['mean_squared_error'])\n",
    "plt.title('model loss')\n",
    "plt.ylabel('loss')\n",
    "plt.xlabel('epoch')\n",
    "plt.legend(['train', 'test'], loc='upper left')\n",
    "plt.show()"
   ]
  },
  {
   "cell_type": "code",
   "execution_count": 30,
   "metadata": {},
   "outputs": [
    {
     "name": "stdout",
     "output_type": "stream",
     "text": [
      "33.84541874491831\n",
      "20.213471178832517\n",
      "5.395398042845808\n"
     ]
    }
   ],
   "source": [
    "ypredPD['diff']=abs(ypredPD['t + 1']- ypredPD['pred (t +1)'])\n",
    "print(np.mean(ypredPD['diff']))\n",
    "print(np.std(ypredPD['diff']))\n",
    "print(100*ypredPD[ypredPD['diff']<=5].shape[0]/ypredPD.shape[0])"
   ]
  },
  {
   "cell_type": "code",
   "execution_count": 31,
   "metadata": {},
   "outputs": [
    {
     "data": {
      "image/png": "[encoded data removed]",
      "text/plain": [
       "<Figure size 432x288 with 1 Axes>"
      ]
     },
     "metadata": {
      "needs_background": "light"
     },
     "output_type": "display_data"
    },
    {
     "data": {
      "text/html": [
       "<div>\n",
       "<style scoped>\n",
       "    .dataframe tbody tr th:only-of-type {\n",
       "        vertical-align: middle;\n",
       "    }\n",
       "\n",
       "    .dataframe tbody tr th {\n",
       "        vertical-align: top;\n",
       "    }\n",
       "\n",
       "    .dataframe thead th {\n",
       "        text-align: right;\n",
       "    }\n",
       "</style>\n",
       "<table border=\"1\" class=\"dataframe\">\n",
       "  <thead>\n",
       "    <tr style=\"text-align: right;\">\n",
       "      <th></th>\n",
       "      <th>t + 1</th>\n",
       "      <th>pred (t +1)</th>\n",
       "      <th>diff</th>\n",
       "    </tr>\n",
       "  </thead>\n",
       "  <tbody>\n",
       "    <tr>\n",
       "      <th>887</th>\n",
       "      <td>100.0</td>\n",
       "      <td>156.547409</td>\n",
       "      <td>56.547409</td>\n",
       "    </tr>\n",
       "    <tr>\n",
       "      <th>47</th>\n",
       "      <td>101.0</td>\n",
       "      <td>252.757584</td>\n",
       "      <td>151.757584</td>\n",
       "    </tr>\n",
       "    <tr>\n",
       "      <th>2787</th>\n",
       "      <td>106.0</td>\n",
       "      <td>228.155746</td>\n",
       "      <td>122.155746</td>\n",
       "    </tr>\n",
       "    <tr>\n",
       "      <th>2891</th>\n",
       "      <td>110.0</td>\n",
       "      <td>154.213943</td>\n",
       "      <td>44.213943</td>\n",
       "    </tr>\n",
       "    <tr>\n",
       "      <th>2148</th>\n",
       "      <td>111.0</td>\n",
       "      <td>185.153198</td>\n",
       "      <td>74.153198</td>\n",
       "    </tr>\n",
       "    <tr>\n",
       "      <th>1788</th>\n",
       "      <td>111.0</td>\n",
       "      <td>153.605515</td>\n",
       "      <td>42.605515</td>\n",
       "    </tr>\n",
       "    <tr>\n",
       "      <th>308</th>\n",
       "      <td>112.0</td>\n",
       "      <td>162.970047</td>\n",
       "      <td>50.970047</td>\n",
       "    </tr>\n",
       "    <tr>\n",
       "      <th>2480</th>\n",
       "      <td>114.0</td>\n",
       "      <td>167.585693</td>\n",
       "      <td>53.585693</td>\n",
       "    </tr>\n",
       "    <tr>\n",
       "      <th>3723</th>\n",
       "      <td>114.0</td>\n",
       "      <td>162.528946</td>\n",
       "      <td>48.528946</td>\n",
       "    </tr>\n",
       "    <tr>\n",
       "      <th>2854</th>\n",
       "      <td>115.0</td>\n",
       "      <td>194.043686</td>\n",
       "      <td>79.043686</td>\n",
       "    </tr>\n",
       "  </tbody>\n",
       "</table>\n",
       "</div>"
      ],
      "text/plain": [
       "      t + 1  pred (t +1)        diff\n",
       "887   100.0   156.547409   56.547409\n",
       "47    101.0   252.757584  151.757584\n",
       "2787  106.0   228.155746  122.155746\n",
       "2891  110.0   154.213943   44.213943\n",
       "2148  111.0   185.153198   74.153198\n",
       "1788  111.0   153.605515   42.605515\n",
       "308   112.0   162.970047   50.970047\n",
       "2480  114.0   167.585693   53.585693\n",
       "3723  114.0   162.528946   48.528946\n",
       "2854  115.0   194.043686   79.043686"
      ]
     },
     "execution_count": 31,
     "metadata": {},
     "output_type": "execute_result"
    },
    {
     "data": {
      "image/png": "[encoded data removed]",
      "text/plain": [
       "<Figure size 432x288 with 1 Axes>"
      ]
     },
     "metadata": {
      "needs_background": "light"
     },
     "output_type": "display_data"
    }
   ],
   "source": [
    "\n",
    "import matplotlib.patches as mpatches\n",
    "plt.ylabel('Values')\n",
    "plt.xlabel('index')\n",
    "red_patch = mpatches.Patch(color='red', label='Actual data')\n",
    "blue_patch = mpatches.Patch(color='blue', label='Predicted data')\n",
    "plt.legend(handles=[red_patch,blue_patch])\n",
    "\n",
    "ypredPD=ypredPD.sort_values(by=['t + 1'])\n",
    "plt.scatter(np.arange(0,ypredPD.shape[0],1),ypredPD['pred (t +1)'][:ypredPD.shape[0]])\n",
    "plt.plot(np.arange(0,ypredPD.shape[0],1),ypredPD['t + 1'][:ypredPD.shape[0]],color='red')\n",
    "plt.show()\n",
    "\n",
    "plt.ylabel('p*(t+1), Predicted data')\n",
    "plt.xlabel('p(t+1), Actual data')\n",
    "plt.scatter(ypredPD['t + 1'][:ypredPD.shape[0]],ypredPD['pred (t +1)'][:ypredPD.shape[0]])\n",
    "\n",
    "ypredPD.head(10)"
   ]
  },
  {
   "cell_type": "markdown",
   "metadata": {},
   "source": [
    "SVR\n",
    "======"
   ]
  },
  {
   "cell_type": "code",
   "execution_count": null,
   "metadata": {},
   "outputs": [],
   "source": [
    "from sklearn.svm import SVR\n",
    "# svr_rbf = SVR(kernel='rbf', C=10, gamma=0.02, epsilon=.001)\n",
    "svr_rbf = SVR(kernel='rbf')"
   ]
  },
  {
   "cell_type": "code",
   "execution_count": null,
   "metadata": {},
   "outputs": [],
   "source": [
    "svr_rbf.fit(xtrain, ytrain) "
   ]
  },
  {
   "cell_type": "code",
   "execution_count": null,
   "metadata": {},
   "outputs": [],
   "source": [
    "ypred=svr_rbf.predict(xtest)"
   ]
  },
  {
   "cell_type": "code",
   "execution_count": null,
   "metadata": {},
   "outputs": [],
   "source": [
    "import math\n",
    "print('mean_squared_error',mean_squared_error(ytest, ypred))\n",
    "print('root mean_squared_error',math.sqrt(mean_squared_error(ytest, ypred)))\n",
    "print('mean_absolute_error',mean_absolute_error(ytest, ypred))\n",
    "print('r2_score',r2_score(ytest, ypred))\n",
    "\n",
    "ypredPD=pd.DataFrame()\n",
    "# ypredPD['t']=xtest['S000501_x'].values\n",
    "ypredPD['t + 1']=ytest.values.ravel()\n",
    "ypredPD['pred (t +1)']=ypred\n",
    "ypredPD.head(10)"
   ]
  },
  {
   "cell_type": "code",
   "execution_count": null,
   "metadata": {},
   "outputs": [],
   "source": []
  },
  {
   "cell_type": "code",
   "execution_count": null,
   "metadata": {},
   "outputs": [],
   "source": []
  }
 ],
 "metadata": {
  "kernelspec": {
   "display_name": "Python 3",
   "language": "python",
   "name": "python3"
  },
  "language_info": {
   "codemirror_mode": {
    "name": "ipython",
    "version": 3
   },
   "file_extension": ".py",
   "mimetype": "text/x-python",
   "name": "python",
   "nbconvert_exporter": "python",
   "pygments_lexer": "ipython3",
   "version": "3.7.3"
  }
 },
 "nbformat": 4,
 "nbformat_minor": 2
}

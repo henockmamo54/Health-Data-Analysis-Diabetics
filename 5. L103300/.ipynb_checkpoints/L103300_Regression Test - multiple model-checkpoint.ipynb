{
 "cells": [
  {
   "cell_type": "code",
   "execution_count": 1,
   "metadata": {},
   "outputs": [
    {
     "name": "stderr",
     "output_type": "stream",
     "text": [
      "Using TensorFlow backend.\n"
     ]
    }
   ],
   "source": [
    "from matplotlib import pyplot as plt\n",
    "import pandas as pd \n",
    "import numpy as np\n",
    "import warnings\n",
    "warnings.filterwarnings('ignore')\n",
    "from scipy import stats\n",
    "from sklearn.utils import shuffle\n",
    "from sklearn.preprocessing import LabelEncoder\n",
    "from sklearn.metrics import confusion_matrix \n",
    "from sklearn.utils import shuffle\n",
    "from sklearn.ensemble import RandomForestRegressor\n",
    "from sklearn.datasets import make_regression\n",
    "from sklearn.model_selection import train_test_split\n",
    "from sklearn.metrics import mean_absolute_error\n",
    "from sklearn.metrics import mean_squared_error\n",
    "from sklearn.metrics import mean_absolute_error\n",
    "from sklearn.metrics import r2_score\n",
    "from keras.models import Sequential\n",
    "from keras.layers import Dense\n",
    "from keras.wrappers.scikit_learn import KerasRegressor\n",
    "from sklearn.model_selection import cross_val_score\n",
    "from sklearn.model_selection import KFold\n",
    "from sklearn.preprocessing import StandardScaler\n",
    "from sklearn.pipeline import Pipeline\n",
    "from keras.layers import Dropout\n",
    "from keras.layers import BatchNormalization\n",
    "from keras.models import model_from_json\n",
    "from keras.utils import multi_gpu_model \n",
    "from keras.utils import to_categorical\n"
   ]
  },
  {
   "cell_type": "markdown",
   "metadata": {},
   "source": [
    "Read the data\n",
    "==========="
   ]
  },
  {
   "cell_type": "code",
   "execution_count": 70,
   "metadata": {},
   "outputs": [
    {
     "name": "stdout",
     "output_type": "stream",
     "text": [
      "(159381, 15)\n",
      "(159381, 2)\n"
     ]
    }
   ],
   "source": [
    "x_original=pd.read_csv('../_xlable4_withNa_AllColumns.txt')\n",
    "y_original=pd.read_csv('../_targelable4_withNa_AllColumns.txt')\n",
    "\n",
    "# x_original=x_original[['Unnamed: 0','L103300', 'L103100', 'L103000', 'L103200', 'L102900', 'S000300', 'SEX', 'L100700',\n",
    "#                        'L190300', 'L190400', 'L190500', 'L100500', 'L101300', 'S000501', 'L100800', 'L104600', 'S000502',\n",
    "#                        'FIELD_33', 'FIELD_7', 'FIELD_6', 'FIELD_27', 'FIELD_28', 'FIELD_40', 'FIELD_41', 'FIELD_38',\n",
    "#                        'FIELD_31', 'FIELD_4', 'FIELD_29','AGE']]\n",
    "\n",
    "# y_original=y_original[['Unnamed: 0','L103300', 'L103100', 'L103000', 'L103200', 'L102900', 'S000300', 'SEX', 'L100700',\n",
    "#                        'L190300', 'L190400', 'L190500', 'L100500', 'L101300', 'S000501', 'L100800', 'L104600', 'S000502',\n",
    "#                        'FIELD_33', 'FIELD_7', 'FIELD_6', 'FIELD_27', 'FIELD_28', 'FIELD_40', 'FIELD_41', 'FIELD_38',\n",
    "#                        'FIELD_31', 'FIELD_4', 'FIELD_29','AGE']]\n",
    "\n",
    "x_original=x_original[['Unnamed: 0','L103300','L103100','L103200','L103000','L102900','S000300','AGE',\n",
    "'L104600','L100800','S000501','L100700',\n",
    "'S000502','L101300','L190300']]\n",
    "\n",
    "y_original=y_original[['Unnamed: 0','L103300']]\n",
    "\n",
    "print(x_original.shape)\n",
    "print(y_original.shape)\n"
   ]
  },
  {
   "cell_type": "markdown",
   "metadata": {},
   "source": [
    "Prepare the data\n",
    "============"
   ]
  },
  {
   "cell_type": "code",
   "execution_count": 71,
   "metadata": {},
   "outputs": [],
   "source": [
    "df=x_original.copy()\n",
    "conditions = [\n",
    "    (df.S000501 < 120)  ,\n",
    "    (df.S000501 >= 120) & (df.S000501 < 130),\n",
    "    (df.S000501 >=130)]\n",
    "choices = [0,1,2]\n",
    "df['sbpG'] = np.select(conditions, choices, default=0)\n",
    "df.head()\n",
    "x_original=df.copy()\n",
    "\n",
    "conditions2 = [\n",
    "    (df.S000502 < 80)  ,\n",
    "    (df.S000502 >= 80) & (df.S000502 < 90),\n",
    "    (df.S000502 >=90)]\n",
    "choices2 = [0,1,2]\n",
    "df['dbpG'] = np.select(conditions2, choices2, default=0)\n",
    "df.head()\n",
    "x_original=df.copy()\n",
    "\n",
    "conditions3 = [\n",
    "    (df.AGE < 30)  ,\n",
    "    (df.AGE >= 30) & (df.AGE < 40),\n",
    "    (df.AGE >= 40) & (df.AGE < 50),\n",
    "    (df.AGE >= 50) & (df.AGE < 60),\n",
    "    (df.AGE >= 60)]\n",
    "choices3 = [0,1,2,3,4]\n",
    "df['AgeG'] = np.select(conditions3, choices3, default=0)\n",
    "df.head()\n",
    "x_original=df.copy()\n",
    "\n",
    "\n",
    "conditions4 = [\n",
    "    (df.L100800 < 100)  ,\n",
    "    (df.L100800 >= 100) & (df.L100800 < 126), \n",
    "    (df.L100800 >= 126)]\n",
    "choices4 = [0,1,2]\n",
    "df['CLASS'] = np.select(conditions4, choices4, default=0)\n",
    "df.head()\n",
    "x_original=df.copy()"
   ]
  },
  {
   "cell_type": "code",
   "execution_count": 72,
   "metadata": {},
   "outputs": [
    {
     "name": "stdout",
     "output_type": "stream",
     "text": [
      "(44891, 21)\n"
     ]
    }
   ],
   "source": [
    "data= pd.merge(x_original,y_original, how='inner',left_on='Unnamed: 0', right_on='Unnamed: 0')\n",
    "data=data.dropna(). reset_index()\n",
    "\n",
    "# data=data[data.AGE_x >= 40]\n",
    "# data=data[data.AGE_x < 50]\n",
    "\n",
    "# data=data[data.CLASS_x==0]\n",
    "# data=data[data.sbpG==0]\n",
    "# data=data[data.dbpG==0]\n",
    "\n",
    "# data=data[data.L100800_y <200]\n",
    "\n",
    "print(data.shape)"
   ]
  },
  {
   "cell_type": "code",
   "execution_count": 73,
   "metadata": {},
   "outputs": [
    {
     "name": "stdout",
     "output_type": "stream",
     "text": [
      "(44891, 21)\n",
      "Index(['index', 'Unnamed: 0', 'L103300_x', 'L103100', 'L103200', 'L103000',\n",
      "       'L102900', 'S000300', 'AGE', 'L104600', 'L100800', 'S000501', 'L100700',\n",
      "       'S000502', 'L101300', 'L190300', 'sbpG', 'dbpG', 'AgeG', 'CLASS',\n",
      "       'L103300_y'],\n",
      "      dtype='object')\n"
     ]
    },
    {
     "data": {
      "text/html": [
       "<div>\n",
       "<style scoped>\n",
       "    .dataframe tbody tr th:only-of-type {\n",
       "        vertical-align: middle;\n",
       "    }\n",
       "\n",
       "    .dataframe tbody tr th {\n",
       "        vertical-align: top;\n",
       "    }\n",
       "\n",
       "    .dataframe thead th {\n",
       "        text-align: right;\n",
       "    }\n",
       "</style>\n",
       "<table border=\"1\" class=\"dataframe\">\n",
       "  <thead>\n",
       "    <tr style=\"text-align: right;\">\n",
       "      <th></th>\n",
       "      <th>index</th>\n",
       "      <th>Unnamed: 0</th>\n",
       "      <th>L103300_x</th>\n",
       "      <th>L103100</th>\n",
       "      <th>L103200</th>\n",
       "      <th>L103000</th>\n",
       "      <th>L102900</th>\n",
       "      <th>S000300</th>\n",
       "      <th>AGE</th>\n",
       "      <th>L104600</th>\n",
       "      <th>...</th>\n",
       "      <th>S000501</th>\n",
       "      <th>L100700</th>\n",
       "      <th>S000502</th>\n",
       "      <th>L101300</th>\n",
       "      <th>L190300</th>\n",
       "      <th>sbpG</th>\n",
       "      <th>dbpG</th>\n",
       "      <th>AgeG</th>\n",
       "      <th>CLASS</th>\n",
       "      <th>L103300_y</th>\n",
       "    </tr>\n",
       "  </thead>\n",
       "  <tbody>\n",
       "    <tr>\n",
       "      <th>0</th>\n",
       "      <td>2</td>\n",
       "      <td>2</td>\n",
       "      <td>3.4</td>\n",
       "      <td>72.0</td>\n",
       "      <td>163.0</td>\n",
       "      <td>41.0</td>\n",
       "      <td>243.0</td>\n",
       "      <td>20.2</td>\n",
       "      <td>46.0</td>\n",
       "      <td>5.28</td>\n",
       "      <td>...</td>\n",
       "      <td>135.0</td>\n",
       "      <td>3.8</td>\n",
       "      <td>82.0</td>\n",
       "      <td>10.0</td>\n",
       "      <td>4.26</td>\n",
       "      <td>2</td>\n",
       "      <td>1</td>\n",
       "      <td>2</td>\n",
       "      <td>0</td>\n",
       "      <td>3.3</td>\n",
       "    </tr>\n",
       "    <tr>\n",
       "      <th>1</th>\n",
       "      <td>4</td>\n",
       "      <td>4</td>\n",
       "      <td>2.9</td>\n",
       "      <td>58.0</td>\n",
       "      <td>102.0</td>\n",
       "      <td>50.0</td>\n",
       "      <td>170.0</td>\n",
       "      <td>25.5</td>\n",
       "      <td>52.0</td>\n",
       "      <td>5.74</td>\n",
       "      <td>...</td>\n",
       "      <td>111.0</td>\n",
       "      <td>3.4</td>\n",
       "      <td>65.0</td>\n",
       "      <td>12.0</td>\n",
       "      <td>3.92</td>\n",
       "      <td>0</td>\n",
       "      <td>0</td>\n",
       "      <td>3</td>\n",
       "      <td>0</td>\n",
       "      <td>2.6</td>\n",
       "    </tr>\n",
       "    <tr>\n",
       "      <th>2</th>\n",
       "      <td>7</td>\n",
       "      <td>7</td>\n",
       "      <td>2.9</td>\n",
       "      <td>77.0</td>\n",
       "      <td>139.0</td>\n",
       "      <td>45.0</td>\n",
       "      <td>225.0</td>\n",
       "      <td>21.2</td>\n",
       "      <td>37.0</td>\n",
       "      <td>5.83</td>\n",
       "      <td>...</td>\n",
       "      <td>136.0</td>\n",
       "      <td>3.9</td>\n",
       "      <td>61.0</td>\n",
       "      <td>5.0</td>\n",
       "      <td>4.44</td>\n",
       "      <td>2</td>\n",
       "      <td>0</td>\n",
       "      <td>1</td>\n",
       "      <td>0</td>\n",
       "      <td>3.0</td>\n",
       "    </tr>\n",
       "    <tr>\n",
       "      <th>3</th>\n",
       "      <td>8</td>\n",
       "      <td>8</td>\n",
       "      <td>3.1</td>\n",
       "      <td>47.0</td>\n",
       "      <td>87.0</td>\n",
       "      <td>54.0</td>\n",
       "      <td>145.0</td>\n",
       "      <td>22.0</td>\n",
       "      <td>39.0</td>\n",
       "      <td>4.73</td>\n",
       "      <td>...</td>\n",
       "      <td>130.0</td>\n",
       "      <td>4.2</td>\n",
       "      <td>77.0</td>\n",
       "      <td>15.0</td>\n",
       "      <td>4.28</td>\n",
       "      <td>2</td>\n",
       "      <td>0</td>\n",
       "      <td>1</td>\n",
       "      <td>0</td>\n",
       "      <td>3.3</td>\n",
       "    </tr>\n",
       "    <tr>\n",
       "      <th>4</th>\n",
       "      <td>30</td>\n",
       "      <td>30</td>\n",
       "      <td>2.6</td>\n",
       "      <td>57.0</td>\n",
       "      <td>74.0</td>\n",
       "      <td>92.0</td>\n",
       "      <td>149.0</td>\n",
       "      <td>20.1</td>\n",
       "      <td>19.0</td>\n",
       "      <td>5.10</td>\n",
       "      <td>...</td>\n",
       "      <td>105.0</td>\n",
       "      <td>4.8</td>\n",
       "      <td>60.0</td>\n",
       "      <td>9.0</td>\n",
       "      <td>4.42</td>\n",
       "      <td>0</td>\n",
       "      <td>0</td>\n",
       "      <td>0</td>\n",
       "      <td>0</td>\n",
       "      <td>2.8</td>\n",
       "    </tr>\n",
       "  </tbody>\n",
       "</table>\n",
       "<p>5 rows × 21 columns</p>\n",
       "</div>"
      ],
      "text/plain": [
       "   index  Unnamed: 0  L103300_x  L103100  L103200  L103000  L102900  S000300  \\\n",
       "0      2           2        3.4     72.0    163.0     41.0    243.0     20.2   \n",
       "1      4           4        2.9     58.0    102.0     50.0    170.0     25.5   \n",
       "2      7           7        2.9     77.0    139.0     45.0    225.0     21.2   \n",
       "3      8           8        3.1     47.0     87.0     54.0    145.0     22.0   \n",
       "4     30          30        2.6     57.0     74.0     92.0    149.0     20.1   \n",
       "\n",
       "    AGE  L104600  ...  S000501  L100700  S000502  L101300  L190300  sbpG  \\\n",
       "0  46.0     5.28  ...    135.0      3.8     82.0     10.0     4.26     2   \n",
       "1  52.0     5.74  ...    111.0      3.4     65.0     12.0     3.92     0   \n",
       "2  37.0     5.83  ...    136.0      3.9     61.0      5.0     4.44     2   \n",
       "3  39.0     4.73  ...    130.0      4.2     77.0     15.0     4.28     2   \n",
       "4  19.0     5.10  ...    105.0      4.8     60.0      9.0     4.42     0   \n",
       "\n",
       "   dbpG  AgeG  CLASS  L103300_y  \n",
       "0     1     2      0        3.3  \n",
       "1     0     3      0        2.6  \n",
       "2     0     1      0        3.0  \n",
       "3     0     1      0        3.3  \n",
       "4     0     0      0        2.8  \n",
       "\n",
       "[5 rows x 21 columns]"
      ]
     },
     "execution_count": 73,
     "metadata": {},
     "output_type": "execute_result"
    }
   ],
   "source": [
    "print(data.shape)\n",
    "print(data.columns)\n",
    "data.head()"
   ]
  },
  {
   "cell_type": "code",
   "execution_count": 74,
   "metadata": {},
   "outputs": [],
   "source": [
    "# x=data[['L103300_x', 'L103100_x', 'L103000_x', 'L103200_x', 'L102900_x', 'S000300_x', 'SEX_x', 'L100700_x',\n",
    "#         'L190300_x', 'L190400_x', 'L190500_x', 'L100500_x', 'L101300_x', 'S000501_x', 'L100800_x', 'L104600_x', 'S000502_x',\n",
    "#         'FIELD_33_x', 'FIELD_7_x', 'FIELD_6_x', 'FIELD_27_x', 'FIELD_28_x', 'FIELD_40_x', 'FIELD_41_x', 'FIELD_38_x',\n",
    "#         'FIELD_31_x', 'FIELD_4_x', 'FIELD_29_x','AGE_x',\n",
    "#         'CLASS','sbpG','dbpG','AgeG']]\n",
    "\n",
    "# y=data[['L103300_y', 'L103100_y', 'L103000_y', 'L103200_y', 'L102900_y', 'S000300_y', 'SEX_y', 'L100700_y',\n",
    "#         'L190300_y', 'L190400_y', 'L190500_y', 'L100500_y', 'L101300_y', 'S000501_y', 'L100800_y', 'L104600_y', 'S000502_y',\n",
    "#         'FIELD_33_y', 'FIELD_7_y', 'FIELD_6_y', 'FIELD_27_y', 'FIELD_28_y', 'FIELD_40_y', 'FIELD_41_y', 'FIELD_38_y',\n",
    "#         'FIELD_31_y', 'FIELD_4_y', 'FIELD_29_y','AGE_y'\n",
    "#        ]]\n",
    "\n",
    "x=data[['L103300_x', 'L103100','L103200','L103000','L102900','S000300','AGE',\n",
    "'L104600','L100800','S000501','L100700',\n",
    "'S000502','L101300','L190300']]\n",
    "\n",
    "y=data[['L103300_y' ]]\n"
   ]
  },
  {
   "cell_type": "markdown",
   "metadata": {},
   "source": [
    "Check the correlation of the selected feature with the independent variables\n",
    "====="
   ]
  },
  {
   "cell_type": "code",
   "execution_count": 75,
   "metadata": {},
   "outputs": [],
   "source": [
    "temppd=pd.DataFrame(x.copy())\n",
    "temppd['y']=y.L103300_y\n",
    "temppd.head()\n",
    "corval=abs(temppd.corr()).sort_values(by='y', ascending=False)"
   ]
  },
  {
   "cell_type": "code",
   "execution_count": 76,
   "metadata": {},
   "outputs": [
    {
     "data": {
      "text/plain": [
       "y            1.000000\n",
       "L103300_x    0.829585\n",
       "L103100      0.640978\n",
       "L103000      0.523477\n",
       "L103200      0.447810\n",
       "L102900      0.427255\n",
       "S000300      0.422939\n",
       "L100700      0.391809\n",
       "L190300      0.366690\n",
       "L101300      0.279001\n",
       "L100800      0.273918\n",
       "L104600      0.262444\n",
       "S000501      0.259036\n",
       "S000502      0.243357\n",
       "AGE          0.165342\n",
       "Name: y, dtype: float64"
      ]
     },
     "execution_count": 76,
     "metadata": {},
     "output_type": "execute_result"
    }
   ],
   "source": [
    "corval.y"
   ]
  },
  {
   "cell_type": "code",
   "execution_count": 77,
   "metadata": {},
   "outputs": [],
   "source": [
    "#histogram plot of the features\n",
    "# import matplotlib.pyplot as plt\n",
    "# x[x.dtypes[(x.dtypes==\"float64\")|(x.dtypes==\"int64\")]\n",
    "#                         .index.values].hist(figsize=[11,11])"
   ]
  },
  {
   "cell_type": "markdown",
   "metadata": {},
   "source": [
    "Apply PCA\n",
    "==========="
   ]
  },
  {
   "cell_type": "code",
   "execution_count": 78,
   "metadata": {},
   "outputs": [],
   "source": [
    "# from sklearn.decomposition import PCA\n",
    "# pca = PCA(n_components=8)\n",
    "# pca.fit(x)\n",
    "\n",
    "# print(pca.explained_variance_ratio_)   \n",
    "# print(np.sum(pca.explained_variance_ratio_))\n",
    "\n",
    "# x=pca.fit_transform(x) \n",
    "# print(x.shape)\n"
   ]
  },
  {
   "cell_type": "markdown",
   "metadata": {},
   "source": [
    "feature scaling\n",
    "======="
   ]
  },
  {
   "cell_type": "code",
   "execution_count": 79,
   "metadata": {},
   "outputs": [],
   "source": [
    "# from sklearn import preprocessing\n",
    "# min_max_scaler = preprocessing.MinMaxScaler()  #StandardScaler()\n",
    "# x = min_max_scaler.fit_transform(x)"
   ]
  },
  {
   "cell_type": "markdown",
   "metadata": {},
   "source": [
    "clustring test\n",
    "=========="
   ]
  },
  {
   "cell_type": "code",
   "execution_count": 80,
   "metadata": {},
   "outputs": [],
   "source": [
    "# from sklearn.cluster import KMeans\n",
    "# from scipy.spatial.distance import cdist\n",
    "\n",
    "# K = range(1,10)\n",
    "# distortions = []\n",
    "\n",
    "# for k in K:\n",
    "#     kmeanModel = KMeans(n_clusters=k).fit(x)\n",
    "#     kmeanModel.fit(x)\n",
    "#     distortions.append(sum(np.min(cdist(x, kmeanModel.cluster_centers_, 'euclidean'), axis=1)) / x.shape[0])\n",
    "\n",
    "# # Plot the elbow\n",
    "# plt.plot(K, distortions, 'bx-')\n",
    "# plt.xlabel('k')\n",
    "# plt.ylabel('Distortion')\n",
    "# plt.title('The Elbow Method showing the optimal k')\n",
    "# plt.show()\n"
   ]
  },
  {
   "cell_type": "code",
   "execution_count": 81,
   "metadata": {},
   "outputs": [],
   "source": [
    "# kmeanModel = KMeans(n_clusters=k).fit(x)\n",
    "# x['lbl']=kmeanModel.labels_ "
   ]
  },
  {
   "cell_type": "code",
   "execution_count": 82,
   "metadata": {},
   "outputs": [],
   "source": [
    "# x.columns"
   ]
  },
  {
   "cell_type": "markdown",
   "metadata": {},
   "source": [
    "Random Forest Regressor\n",
    "============="
   ]
  },
  {
   "cell_type": "code",
   "execution_count": 83,
   "metadata": {},
   "outputs": [],
   "source": [
    "ylable=y[['L103300_y']]  \n",
    "xtrain,xtest,ytrain,ytest=train_test_split(x, ylable, random_state=42, test_size=0.2)"
   ]
  },
  {
   "cell_type": "code",
   "execution_count": 84,
   "metadata": {},
   "outputs": [
    {
     "name": "stdout",
     "output_type": "stream",
     "text": [
      "[0.96392469 0.00148764 0.00227477 0.00628634 0.00189278 0.00418306\n",
      " 0.00167528 0.00359812 0.00312963 0.00126415 0.004992   0.00148938\n",
      " 0.00112931 0.00267286]\n"
     ]
    }
   ],
   "source": [
    "regr = RandomForestRegressor(max_depth=7, random_state=0,verbose =0,n_estimators=500)\n",
    "regr.fit(xtrain, ytrain) \n",
    "print(regr.feature_importances_)\n",
    "ypred=regr.predict(xtest)\n"
   ]
  },
  {
   "cell_type": "code",
   "execution_count": 85,
   "metadata": {},
   "outputs": [
    {
     "name": "stdout",
     "output_type": "stream",
     "text": [
      "mean_squared_error 0.4026177781100677\n",
      "root mean_squared_error 0.6345216923873191\n",
      "mean_absolute_error 0.4704426551647394\n",
      "r2_score 0.6882543391041974\n"
     ]
    },
    {
     "data": {
      "image/png": "[encoded data removed]",
      "text/plain": [
       "<Figure size 432x288 with 1 Axes>"
      ]
     },
     "metadata": {
      "needs_background": "light"
     },
     "output_type": "display_data"
    },
    {
     "data": {
      "text/html": [
       "<div>\n",
       "<style scoped>\n",
       "    .dataframe tbody tr th:only-of-type {\n",
       "        vertical-align: middle;\n",
       "    }\n",
       "\n",
       "    .dataframe tbody tr th {\n",
       "        vertical-align: top;\n",
       "    }\n",
       "\n",
       "    .dataframe thead th {\n",
       "        text-align: right;\n",
       "    }\n",
       "</style>\n",
       "<table border=\"1\" class=\"dataframe\">\n",
       "  <thead>\n",
       "    <tr style=\"text-align: right;\">\n",
       "      <th></th>\n",
       "      <th>t + 1</th>\n",
       "      <th>pred (t +1)</th>\n",
       "    </tr>\n",
       "  </thead>\n",
       "  <tbody>\n",
       "    <tr>\n",
       "      <th>4506</th>\n",
       "      <td>8.6</td>\n",
       "      <td>6.845600</td>\n",
       "    </tr>\n",
       "    <tr>\n",
       "      <th>3595</th>\n",
       "      <td>8.7</td>\n",
       "      <td>4.624545</td>\n",
       "    </tr>\n",
       "    <tr>\n",
       "      <th>3318</th>\n",
       "      <td>8.7</td>\n",
       "      <td>5.169484</td>\n",
       "    </tr>\n",
       "    <tr>\n",
       "      <th>2293</th>\n",
       "      <td>8.8</td>\n",
       "      <td>5.690695</td>\n",
       "    </tr>\n",
       "    <tr>\n",
       "      <th>8792</th>\n",
       "      <td>8.9</td>\n",
       "      <td>7.178475</td>\n",
       "    </tr>\n",
       "    <tr>\n",
       "      <th>4307</th>\n",
       "      <td>9.2</td>\n",
       "      <td>6.774462</td>\n",
       "    </tr>\n",
       "    <tr>\n",
       "      <th>6671</th>\n",
       "      <td>10.3</td>\n",
       "      <td>5.628886</td>\n",
       "    </tr>\n",
       "    <tr>\n",
       "      <th>8666</th>\n",
       "      <td>11.5</td>\n",
       "      <td>5.330641</td>\n",
       "    </tr>\n",
       "    <tr>\n",
       "      <th>1626</th>\n",
       "      <td>12.3</td>\n",
       "      <td>3.945347</td>\n",
       "    </tr>\n",
       "    <tr>\n",
       "      <th>6253</th>\n",
       "      <td>12.8</td>\n",
       "      <td>6.405360</td>\n",
       "    </tr>\n",
       "  </tbody>\n",
       "</table>\n",
       "</div>"
      ],
      "text/plain": [
       "      t + 1  pred (t +1)\n",
       "4506    8.6     6.845600\n",
       "3595    8.7     4.624545\n",
       "3318    8.7     5.169484\n",
       "2293    8.8     5.690695\n",
       "8792    8.9     7.178475\n",
       "4307    9.2     6.774462\n",
       "6671   10.3     5.628886\n",
       "8666   11.5     5.330641\n",
       "1626   12.3     3.945347\n",
       "6253   12.8     6.405360"
      ]
     },
     "execution_count": 85,
     "metadata": {},
     "output_type": "execute_result"
    },
    {
     "data": {
      "image/png": "[encoded data removed]",
      "text/plain": [
       "<Figure size 432x288 with 1 Axes>"
      ]
     },
     "metadata": {
      "needs_background": "light"
     },
     "output_type": "display_data"
    }
   ],
   "source": [
    "\n",
    "import math\n",
    "print('mean_squared_error',mean_squared_error(ytest, ypred))\n",
    "print('root mean_squared_error',math.sqrt(mean_squared_error(ytest, ypred)))\n",
    "print('mean_absolute_error',mean_absolute_error(ytest, ypred))\n",
    "print('r2_score',r2_score(ytest, ypred))\n",
    "\n",
    "ypredPD=pd.DataFrame()\n",
    "# ypredPD['t']=xtest['S000501_x'].values\n",
    "ypredPD['t + 1']=ytest.values.ravel()\n",
    "ypredPD['pred (t +1)']=ypred\n",
    "ypredPD.head(30)\n",
    "\n",
    "import matplotlib.patches as mpatches\n",
    "plt.ylabel('Values')\n",
    "plt.xlabel('index')\n",
    "red_patch = mpatches.Patch(color='red', label='Actual data')\n",
    "blue_patch = mpatches.Patch(color='blue', label='Predicted data')\n",
    "plt.legend(handles=[red_patch,blue_patch])\n",
    "\n",
    "ypredPD=ypredPD.sort_values(by=['t + 1'])\n",
    "plt.scatter(np.arange(0,ypredPD.shape[0],1),ypredPD['pred (t +1)'][:ypredPD.shape[0]])\n",
    "plt.plot(np.arange(0,ypredPD.shape[0],1),ypredPD['t + 1'][:ypredPD.shape[0]],color='red')\n",
    "plt.show()\n",
    "\n",
    "plt.ylabel('p*(t+1), Predicted data')\n",
    "plt.xlabel('p(t+1), Actual data')\n",
    "plt.scatter(ypredPD['t + 1'][:ypredPD.shape[0]],ypredPD['pred (t +1)'][:ypredPD.shape[0]])\n",
    "\n",
    "ypredPD.tail(10)"
   ]
  },
  {
   "cell_type": "code",
   "execution_count": 86,
   "metadata": {},
   "outputs": [],
   "source": [
    "# tempdata=pd.DataFrame(xtest.copy())\n",
    "# tempdata['ytest']=ytest\n",
    "# # temp=temp.dropna()\n",
    "# # tempdata.head()\n",
    "# # tempdata[tempdata.ytest.isna()].index\n",
    "\n",
    "# tempdata=tempdata.drop(tempdata[tempdata.ytest.isna()].index)\n"
   ]
  },
  {
   "cell_type": "markdown",
   "metadata": {},
   "source": [
    "xg boost\n",
    "=========="
   ]
  },
  {
   "cell_type": "code",
   "execution_count": 87,
   "metadata": {},
   "outputs": [],
   "source": [
    "import xgboost as xgb\n",
    "# from sklearn.metrics import mean_squared_error\n",
    "# import pandas as pd\n",
    "# import numpy as np"
   ]
  },
  {
   "cell_type": "code",
   "execution_count": 88,
   "metadata": {},
   "outputs": [
    {
     "name": "stdout",
     "output_type": "stream",
     "text": [
      "[02:47:27] WARNING: C:/Jenkins/workspace/xgboost-win64_release_0.90/src/objective/regression_obj.cu:152: reg:linear is now deprecated in favor of reg:squarederror.\n"
     ]
    },
    {
     "data": {
      "text/plain": [
       "XGBRegressor(base_score=0.5, booster='gbtree', colsample_bylevel=1,\n",
       "             colsample_bynode=1, colsample_bytree=1, gamma=0,\n",
       "             importance_type='gain', learning_rate=0.1, max_delta_step=0,\n",
       "             max_depth=3, min_child_weight=1, missing=None, n_estimators=100,\n",
       "             n_jobs=1, nthread=None, objective='reg:linear', random_state=0,\n",
       "             reg_alpha=0, reg_lambda=1, scale_pos_weight=1, seed=None,\n",
       "             silent=None, subsample=1, verbosity=1)"
      ]
     },
     "execution_count": 88,
     "metadata": {},
     "output_type": "execute_result"
    }
   ],
   "source": [
    "xg_reg = xgb.XGBRegressor()\n",
    "# xg_reg = xgb.XGBRegressor(objective ='reg:linear', colsample_bytree = 0.3, \n",
    "#                           learning_rate = 0.1,max_depth = 5, alpha = 10, n_estimators = 10)\n",
    "xg_reg.fit(xtrain, ytrain) "
   ]
  },
  {
   "cell_type": "code",
   "execution_count": 89,
   "metadata": {},
   "outputs": [
    {
     "name": "stdout",
     "output_type": "stream",
     "text": [
      "mean_squared_error 0.39751246450000827\n",
      "root mean_squared_error 0.6304858955599311\n",
      "mean_absolute_error 0.46452900168757383\n",
      "r2_score 0.6922073671421526\n"
     ]
    }
   ],
   "source": [
    "\n",
    "ypred = xg_reg.predict(xtest)\n",
    "\n",
    "import math\n",
    "print('mean_squared_error',mean_squared_error(ytest, ypred))\n",
    "print('root mean_squared_error',math.sqrt(mean_squared_error(ytest, ypred)))\n",
    "print('mean_absolute_error',mean_absolute_error(ytest, ypred))\n",
    "print('r2_score',r2_score(ytest, ypred))\n",
    "\n",
    "# ypredPD=pd.DataFrame()\n",
    "# ypredPD['t']=xtest['S000501_x'].values\n",
    "# ypredPD['t + 1']=ytest.values\n",
    "# ypredPD['pred (t +1)']=ypred\n",
    "# ypredPD.head(10)"
   ]
  },
  {
   "cell_type": "code",
   "execution_count": 53,
   "metadata": {},
   "outputs": [],
   "source": [
    "# ytest[ytest.isna()].shape\n",
    "# tempdata.iloc[:,-1]"
   ]
  },
  {
   "cell_type": "markdown",
   "metadata": {},
   "source": [
    "ANN\n",
    "=========="
   ]
  },
  {
   "cell_type": "code",
   "execution_count": 33,
   "metadata": {},
   "outputs": [],
   "source": [
    "model= Sequential()\n",
    "model.add(Dense(input_dim=33,units=128,activation='relu', kernel_initializer='uniform'))\n",
    "model.add(Dense(units=128, activation='relu', kernel_initializer='uniform')) \n",
    "model.add(BatchNormalization())\n",
    "model.add(Dropout(0.25))  \n",
    "model.add(Dense(units=64, activation='relu', kernel_initializer='uniform'))\n",
    "model.add(Dense(units=32, activation='relu', kernel_initializer='uniform')) \n",
    "model.add(BatchNormalization())\n",
    "model.add(Dropout(0.25))  \n",
    "model.add(Dense(units=16, activation='relu', kernel_initializer='uniform'))\n",
    "model.add(BatchNormalization())\n",
    "model.add(Dropout(0.25))  \n",
    "model.add(Dense(units=8, activation='relu', kernel_initializer='uniform'))\n",
    "model.add(Dense(units=1, kernel_initializer='uniform'))\n",
    "model.compile(loss='mean_squared_error', optimizer='Nadam', metrics=['mean_squared_error' ])"
   ]
  },
  {
   "cell_type": "code",
   "execution_count": 34,
   "metadata": {
    "scrolled": true
   },
   "outputs": [
    {
     "name": "stderr",
     "output_type": "stream",
     "text": [
      "W1003 20:56:34.952983 11444 deprecation_wrapper.py:119] From C:\\ProgramData\\Anaconda3\\lib\\site-packages\\keras\\backend\\tensorflow_backend.py:986: The name tf.assign_add is deprecated. Please use tf.compat.v1.assign_add instead.\n",
      "\n"
     ]
    },
    {
     "name": "stdout",
     "output_type": "stream",
     "text": [
      "Train on 7195 samples, validate on 1799 samples\n",
      "Epoch 1/100\n",
      "7195/7195 [==============================] - 1s 146us/step - loss: 4.3330 - mean_squared_error: 4.3330 - val_loss: 30.6565 - val_mean_squared_error: 30.6565\n",
      "Epoch 2/100\n",
      "7195/7195 [==============================] - 0s 33us/step - loss: 0.8084 - mean_squared_error: 0.8084 - val_loss: 0.6949 - val_mean_squared_error: 0.6949\n",
      "Epoch 3/100\n",
      "7195/7195 [==============================] - 0s 29us/step - loss: 0.7595 - mean_squared_error: 0.7595 - val_loss: 0.9301 - val_mean_squared_error: 0.9301\n",
      "Epoch 4/100\n",
      "7195/7195 [==============================] - 0s 30us/step - loss: 0.6703 - mean_squared_error: 0.6703 - val_loss: 0.9116 - val_mean_squared_error: 0.9116\n",
      "Epoch 5/100\n",
      "7195/7195 [==============================] - 0s 33us/step - loss: 0.6154 - mean_squared_error: 0.6154 - val_loss: 0.4184 - val_mean_squared_error: 0.4184\n",
      "Epoch 6/100\n",
      "7195/7195 [==============================] - 0s 32us/step - loss: 0.5507 - mean_squared_error: 0.5507 - val_loss: 0.6971 - val_mean_squared_error: 0.6971\n",
      "Epoch 7/100\n",
      "7195/7195 [==============================] - 0s 31us/step - loss: 0.5321 - mean_squared_error: 0.5321 - val_loss: 0.5284 - val_mean_squared_error: 0.5284\n",
      "Epoch 8/100\n",
      "7195/7195 [==============================] - 0s 30us/step - loss: 0.4911 - mean_squared_error: 0.4911 - val_loss: 0.3698 - val_mean_squared_error: 0.3698\n",
      "Epoch 9/100\n",
      "7195/7195 [==============================] - 0s 30us/step - loss: 0.4359 - mean_squared_error: 0.4359 - val_loss: 1.0195 - val_mean_squared_error: 1.0195\n",
      "Epoch 10/100\n",
      "7195/7195 [==============================] - 0s 33us/step - loss: 0.3990 - mean_squared_error: 0.3990 - val_loss: 0.3327 - val_mean_squared_error: 0.3327\n",
      "Epoch 11/100\n",
      "7195/7195 [==============================] - 0s 31us/step - loss: 0.3747 - mean_squared_error: 0.3747 - val_loss: 0.6581 - val_mean_squared_error: 0.6581\n",
      "Epoch 12/100\n",
      "7195/7195 [==============================] - 0s 30us/step - loss: 0.3554 - mean_squared_error: 0.3554 - val_loss: 0.5241 - val_mean_squared_error: 0.5241\n",
      "Epoch 13/100\n",
      "7195/7195 [==============================] - 0s 34us/step - loss: 0.3588 - mean_squared_error: 0.3588 - val_loss: 0.6343 - val_mean_squared_error: 0.6343\n",
      "Epoch 14/100\n",
      "7195/7195 [==============================] - 0s 34us/step - loss: 0.3488 - mean_squared_error: 0.3488 - val_loss: 0.2936 - val_mean_squared_error: 0.2936\n",
      "Epoch 15/100\n",
      "7195/7195 [==============================] - 0s 32us/step - loss: 0.3414 - mean_squared_error: 0.3414 - val_loss: 0.3102 - val_mean_squared_error: 0.3102\n",
      "Epoch 16/100\n",
      "7195/7195 [==============================] - 0s 30us/step - loss: 0.3422 - mean_squared_error: 0.3422 - val_loss: 0.3265 - val_mean_squared_error: 0.3265\n",
      "Epoch 17/100\n",
      "7195/7195 [==============================] - 0s 32us/step - loss: 0.3382 - mean_squared_error: 0.3382 - val_loss: 0.3911 - val_mean_squared_error: 0.3911\n",
      "Epoch 18/100\n",
      "7195/7195 [==============================] - 0s 31us/step - loss: 0.3249 - mean_squared_error: 0.3249 - val_loss: 0.2969 - val_mean_squared_error: 0.2969\n",
      "Epoch 19/100\n",
      "7195/7195 [==============================] - 0s 31us/step - loss: 0.3319 - mean_squared_error: 0.3319 - val_loss: 0.4239 - val_mean_squared_error: 0.4239\n",
      "Epoch 20/100\n",
      "7195/7195 [==============================] - 0s 30us/step - loss: 0.3306 - mean_squared_error: 0.3306 - val_loss: 0.3387 - val_mean_squared_error: 0.3387\n",
      "Epoch 21/100\n",
      "7195/7195 [==============================] - 0s 31us/step - loss: 0.3303 - mean_squared_error: 0.3303 - val_loss: 0.3129 - val_mean_squared_error: 0.3129\n",
      "Epoch 22/100\n",
      "7195/7195 [==============================] - 0s 31us/step - loss: 0.3269 - mean_squared_error: 0.3269 - val_loss: 0.2878 - val_mean_squared_error: 0.2878\n",
      "Epoch 23/100\n",
      "7195/7195 [==============================] - 0s 30us/step - loss: 0.3333 - mean_squared_error: 0.3333 - val_loss: 0.3701 - val_mean_squared_error: 0.3701\n",
      "Epoch 24/100\n",
      "7195/7195 [==============================] - 0s 32us/step - loss: 0.3313 - mean_squared_error: 0.3313 - val_loss: 0.3138 - val_mean_squared_error: 0.3138\n",
      "Epoch 25/100\n",
      "7195/7195 [==============================] - 0s 31us/step - loss: 0.3217 - mean_squared_error: 0.3217 - val_loss: 0.3347 - val_mean_squared_error: 0.3347\n",
      "Epoch 26/100\n",
      "7195/7195 [==============================] - 0s 29us/step - loss: 0.3340 - mean_squared_error: 0.3340 - val_loss: 0.3650 - val_mean_squared_error: 0.3650\n",
      "Epoch 27/100\n",
      "7195/7195 [==============================] - 0s 32us/step - loss: 0.3240 - mean_squared_error: 0.3240 - val_loss: 0.2962 - val_mean_squared_error: 0.2962\n",
      "Epoch 28/100\n",
      "7195/7195 [==============================] - 0s 30us/step - loss: 0.3237 - mean_squared_error: 0.3237 - val_loss: 0.2924 - val_mean_squared_error: 0.2924\n",
      "Epoch 29/100\n",
      "7195/7195 [==============================] - 0s 32us/step - loss: 0.3239 - mean_squared_error: 0.3239 - val_loss: 0.3072 - val_mean_squared_error: 0.3072\n",
      "Epoch 30/100\n",
      "7195/7195 [==============================] - 0s 33us/step - loss: 0.3305 - mean_squared_error: 0.3305 - val_loss: 0.3553 - val_mean_squared_error: 0.3553\n",
      "Epoch 31/100\n",
      "7195/7195 [==============================] - 0s 31us/step - loss: 0.3246 - mean_squared_error: 0.3246 - val_loss: 0.2995 - val_mean_squared_error: 0.2995\n",
      "Epoch 32/100\n",
      "7195/7195 [==============================] - 0s 31us/step - loss: 0.3206 - mean_squared_error: 0.3206 - val_loss: 0.4240 - val_mean_squared_error: 0.4240\n",
      "Epoch 33/100\n",
      "7195/7195 [==============================] - 0s 30us/step - loss: 0.3245 - mean_squared_error: 0.3245 - val_loss: 0.3511 - val_mean_squared_error: 0.3511\n",
      "Epoch 34/100\n",
      "7195/7195 [==============================] - 0s 32us/step - loss: 0.3262 - mean_squared_error: 0.3262 - val_loss: 0.3503 - val_mean_squared_error: 0.3503\n",
      "Epoch 35/100\n",
      "7195/7195 [==============================] - 0s 32us/step - loss: 0.3242 - mean_squared_error: 0.3242 - val_loss: 0.3378 - val_mean_squared_error: 0.3378\n",
      "Epoch 36/100\n",
      "7195/7195 [==============================] - 0s 32us/step - loss: 0.3269 - mean_squared_error: 0.3269 - val_loss: 0.2957 - val_mean_squared_error: 0.2957\n",
      "Epoch 37/100\n",
      "7195/7195 [==============================] - 0s 33us/step - loss: 0.3261 - mean_squared_error: 0.3261 - val_loss: 0.2885 - val_mean_squared_error: 0.2885\n",
      "Epoch 38/100\n",
      "7195/7195 [==============================] - 0s 32us/step - loss: 0.3271 - mean_squared_error: 0.3271 - val_loss: 0.4404 - val_mean_squared_error: 0.4404\n",
      "Epoch 39/100\n",
      "7195/7195 [==============================] - 0s 32us/step - loss: 0.3215 - mean_squared_error: 0.3215 - val_loss: 0.3691 - val_mean_squared_error: 0.3691\n",
      "Epoch 40/100\n",
      "7195/7195 [==============================] - 0s 30us/step - loss: 0.3230 - mean_squared_error: 0.3230 - val_loss: 0.2903 - val_mean_squared_error: 0.2903\n",
      "Epoch 41/100\n",
      "7195/7195 [==============================] - 0s 30us/step - loss: 0.3176 - mean_squared_error: 0.3176 - val_loss: 0.2912 - val_mean_squared_error: 0.2912\n",
      "Epoch 42/100\n",
      "7195/7195 [==============================] - 0s 32us/step - loss: 0.3228 - mean_squared_error: 0.3228 - val_loss: 0.2885 - val_mean_squared_error: 0.2885\n",
      "Epoch 43/100\n",
      "7195/7195 [==============================] - 0s 32us/step - loss: 0.3235 - mean_squared_error: 0.3235 - val_loss: 0.4128 - val_mean_squared_error: 0.4128\n",
      "Epoch 44/100\n",
      "7195/7195 [==============================] - 0s 30us/step - loss: 0.3198 - mean_squared_error: 0.3198 - val_loss: 0.4107 - val_mean_squared_error: 0.4107\n",
      "Epoch 45/100\n",
      "7195/7195 [==============================] - 0s 32us/step - loss: 0.3256 - mean_squared_error: 0.3256 - val_loss: 0.3310 - val_mean_squared_error: 0.3310\n",
      "Epoch 46/100\n",
      "7195/7195 [==============================] - 0s 31us/step - loss: 0.3251 - mean_squared_error: 0.3251 - val_loss: 0.3473 - val_mean_squared_error: 0.3473\n",
      "Epoch 47/100\n",
      "7195/7195 [==============================] - 0s 30us/step - loss: 0.3252 - mean_squared_error: 0.3252 - val_loss: 0.4234 - val_mean_squared_error: 0.4234\n",
      "Epoch 48/100\n",
      "7195/7195 [==============================] - 0s 32us/step - loss: 0.3216 - mean_squared_error: 0.3216 - val_loss: 0.2982 - val_mean_squared_error: 0.2982\n",
      "Epoch 49/100\n",
      "7195/7195 [==============================] - 0s 30us/step - loss: 0.3157 - mean_squared_error: 0.3157 - val_loss: 1.0389 - val_mean_squared_error: 1.0389\n"
     ]
    },
    {
     "name": "stdout",
     "output_type": "stream",
     "text": [
      "Epoch 50/100\n",
      "7195/7195 [==============================] - 0s 30us/step - loss: 0.3210 - mean_squared_error: 0.3210 - val_loss: 0.2881 - val_mean_squared_error: 0.2881\n",
      "Epoch 51/100\n",
      "7195/7195 [==============================] - 0s 32us/step - loss: 0.3189 - mean_squared_error: 0.3189 - val_loss: 0.2979 - val_mean_squared_error: 0.2979\n",
      "Epoch 52/100\n",
      "7195/7195 [==============================] - 0s 32us/step - loss: 0.3135 - mean_squared_error: 0.3135 - val_loss: 0.3017 - val_mean_squared_error: 0.3017\n",
      "Epoch 53/100\n",
      "7195/7195 [==============================] - 0s 31us/step - loss: 0.3155 - mean_squared_error: 0.3155 - val_loss: 0.3567 - val_mean_squared_error: 0.3567\n",
      "Epoch 54/100\n",
      "7195/7195 [==============================] - 0s 30us/step - loss: 0.3200 - mean_squared_error: 0.3200 - val_loss: 0.3099 - val_mean_squared_error: 0.3099\n",
      "Epoch 55/100\n",
      "7195/7195 [==============================] - 0s 32us/step - loss: 0.3201 - mean_squared_error: 0.3201 - val_loss: 0.2972 - val_mean_squared_error: 0.2972\n",
      "Epoch 56/100\n",
      "7195/7195 [==============================] - 0s 31us/step - loss: 0.3161 - mean_squared_error: 0.3161 - val_loss: 0.4505 - val_mean_squared_error: 0.4505\n",
      "Epoch 57/100\n",
      "7195/7195 [==============================] - 0s 30us/step - loss: 0.3184 - mean_squared_error: 0.3184 - val_loss: 0.3081 - val_mean_squared_error: 0.3081\n",
      "Epoch 58/100\n",
      "7195/7195 [==============================] - 0s 32us/step - loss: 0.3223 - mean_squared_error: 0.3223 - val_loss: 0.4273 - val_mean_squared_error: 0.4273\n",
      "Epoch 59/100\n",
      "7195/7195 [==============================] - 0s 30us/step - loss: 0.3227 - mean_squared_error: 0.3227 - val_loss: 0.3993 - val_mean_squared_error: 0.3993\n",
      "Epoch 60/100\n",
      "7195/7195 [==============================] - 0s 32us/step - loss: 0.3161 - mean_squared_error: 0.3161 - val_loss: 0.2894 - val_mean_squared_error: 0.2894\n",
      "Epoch 61/100\n",
      "7195/7195 [==============================] - 0s 32us/step - loss: 0.3164 - mean_squared_error: 0.3164 - val_loss: 0.3665 - val_mean_squared_error: 0.3665\n",
      "Epoch 62/100\n",
      "7195/7195 [==============================] - 0s 30us/step - loss: 0.3201 - mean_squared_error: 0.3201 - val_loss: 0.3307 - val_mean_squared_error: 0.3307\n",
      "Epoch 63/100\n",
      "7195/7195 [==============================] - 0s 32us/step - loss: 0.3130 - mean_squared_error: 0.3130 - val_loss: 0.2878 - val_mean_squared_error: 0.2878\n",
      "Epoch 64/100\n",
      "7195/7195 [==============================] - 0s 31us/step - loss: 0.3229 - mean_squared_error: 0.3229 - val_loss: 0.3069 - val_mean_squared_error: 0.3069\n",
      "Epoch 65/100\n",
      "7195/7195 [==============================] - 0s 32us/step - loss: 0.3203 - mean_squared_error: 0.3203 - val_loss: 0.3009 - val_mean_squared_error: 0.3009\n",
      "Epoch 66/100\n",
      "7195/7195 [==============================] - 0s 32us/step - loss: 0.3216 - mean_squared_error: 0.3216 - val_loss: 0.3407 - val_mean_squared_error: 0.3407\n",
      "Epoch 67/100\n",
      "7195/7195 [==============================] - 0s 32us/step - loss: 0.3220 - mean_squared_error: 0.3220 - val_loss: 0.2959 - val_mean_squared_error: 0.2959\n",
      "Epoch 68/100\n",
      "7195/7195 [==============================] - 0s 35us/step - loss: 0.3126 - mean_squared_error: 0.3126 - val_loss: 0.3506 - val_mean_squared_error: 0.3506\n",
      "Epoch 69/100\n",
      "7195/7195 [==============================] - 0s 30us/step - loss: 0.3138 - mean_squared_error: 0.3138 - val_loss: 0.2925 - val_mean_squared_error: 0.2925\n",
      "Epoch 70/100\n",
      "7195/7195 [==============================] - 0s 33us/step - loss: 0.3240 - mean_squared_error: 0.3240 - val_loss: 0.4440 - val_mean_squared_error: 0.4440\n",
      "Epoch 71/100\n",
      "7195/7195 [==============================] - 0s 31us/step - loss: 0.3156 - mean_squared_error: 0.3156 - val_loss: 0.3092 - val_mean_squared_error: 0.3092\n",
      "Epoch 72/100\n",
      "7195/7195 [==============================] - 0s 30us/step - loss: 0.3183 - mean_squared_error: 0.3183 - val_loss: 0.3243 - val_mean_squared_error: 0.3243\n",
      "Epoch 73/100\n",
      "7195/7195 [==============================] - 0s 32us/step - loss: 0.3166 - mean_squared_error: 0.3166 - val_loss: 0.2928 - val_mean_squared_error: 0.2928\n",
      "Epoch 74/100\n",
      "7195/7195 [==============================] - 0s 32us/step - loss: 0.3139 - mean_squared_error: 0.3139 - val_loss: 0.3031 - val_mean_squared_error: 0.3031\n",
      "Epoch 75/100\n",
      "7195/7195 [==============================] - 0s 30us/step - loss: 0.3150 - mean_squared_error: 0.3150 - val_loss: 0.3359 - val_mean_squared_error: 0.3359\n",
      "Epoch 76/100\n",
      "7195/7195 [==============================] - 0s 32us/step - loss: 0.3246 - mean_squared_error: 0.3246 - val_loss: 0.3153 - val_mean_squared_error: 0.3153\n",
      "Epoch 77/100\n",
      "7195/7195 [==============================] - 0s 32us/step - loss: 0.3197 - mean_squared_error: 0.3197 - val_loss: 0.3180 - val_mean_squared_error: 0.3180\n",
      "Epoch 78/100\n",
      "7195/7195 [==============================] - 0s 32us/step - loss: 0.3172 - mean_squared_error: 0.3172 - val_loss: 0.3047 - val_mean_squared_error: 0.3047\n",
      "Epoch 79/100\n",
      "7195/7195 [==============================] - 0s 31us/step - loss: 0.3164 - mean_squared_error: 0.3164 - val_loss: 0.2897 - val_mean_squared_error: 0.2897\n",
      "Epoch 80/100\n",
      "7195/7195 [==============================] - 0s 30us/step - loss: 0.3154 - mean_squared_error: 0.3154 - val_loss: 0.3129 - val_mean_squared_error: 0.3129\n",
      "Epoch 81/100\n",
      "7195/7195 [==============================] - 0s 33us/step - loss: 0.3171 - mean_squared_error: 0.3171 - val_loss: 0.2969 - val_mean_squared_error: 0.2969\n",
      "Epoch 82/100\n",
      "7195/7195 [==============================] - 0s 32us/step - loss: 0.3241 - mean_squared_error: 0.3241 - val_loss: 0.3247 - val_mean_squared_error: 0.3247\n",
      "Epoch 83/100\n",
      "7195/7195 [==============================] - 0s 32us/step - loss: 0.3198 - mean_squared_error: 0.3198 - val_loss: 0.3345 - val_mean_squared_error: 0.3345\n",
      "Epoch 84/100\n",
      "7195/7195 [==============================] - 0s 30us/step - loss: 0.3203 - mean_squared_error: 0.3203 - val_loss: 0.3490 - val_mean_squared_error: 0.3490\n",
      "Epoch 85/100\n",
      "7195/7195 [==============================] - 0s 33us/step - loss: 0.3143 - mean_squared_error: 0.3143 - val_loss: 0.2952 - val_mean_squared_error: 0.2952\n",
      "Epoch 86/100\n",
      "7195/7195 [==============================] - 0s 31us/step - loss: 0.3197 - mean_squared_error: 0.3197 - val_loss: 0.3032 - val_mean_squared_error: 0.3032\n",
      "Epoch 87/100\n",
      "7195/7195 [==============================] - 0s 30us/step - loss: 0.3217 - mean_squared_error: 0.3217 - val_loss: 0.3297 - val_mean_squared_error: 0.3297\n",
      "Epoch 88/100\n",
      "7195/7195 [==============================] - 0s 32us/step - loss: 0.3170 - mean_squared_error: 0.3170 - val_loss: 0.3017 - val_mean_squared_error: 0.3017\n",
      "Epoch 89/100\n",
      "7195/7195 [==============================] - 0s 33us/step - loss: 0.3172 - mean_squared_error: 0.3172 - val_loss: 0.2944 - val_mean_squared_error: 0.2944\n",
      "Epoch 90/100\n",
      "7195/7195 [==============================] - 0s 29us/step - loss: 0.3214 - mean_squared_error: 0.3214 - val_loss: 0.3124 - val_mean_squared_error: 0.3124\n",
      "Epoch 91/100\n",
      "7195/7195 [==============================] - 0s 32us/step - loss: 0.3114 - mean_squared_error: 0.3114 - val_loss: 0.3103 - val_mean_squared_error: 0.3103\n",
      "Epoch 92/100\n",
      "7195/7195 [==============================] - 0s 32us/step - loss: 0.3119 - mean_squared_error: 0.3119 - val_loss: 0.3547 - val_mean_squared_error: 0.3547\n",
      "Epoch 93/100\n",
      "7195/7195 [==============================] - 0s 30us/step - loss: 0.3114 - mean_squared_error: 0.3114 - val_loss: 0.3235 - val_mean_squared_error: 0.3235\n",
      "Epoch 94/100\n",
      "7195/7195 [==============================] - 0s 32us/step - loss: 0.3145 - mean_squared_error: 0.3145 - val_loss: 0.3189 - val_mean_squared_error: 0.3189\n",
      "Epoch 95/100\n",
      "7195/7195 [==============================] - 0s 33us/step - loss: 0.3080 - mean_squared_error: 0.3080 - val_loss: 0.3064 - val_mean_squared_error: 0.3064\n",
      "Epoch 96/100\n",
      "7195/7195 [==============================] - 0s 32us/step - loss: 0.3176 - mean_squared_error: 0.3176 - val_loss: 0.3441 - val_mean_squared_error: 0.3441\n",
      "Epoch 97/100\n",
      "7195/7195 [==============================] - 0s 30us/step - loss: 0.3174 - mean_squared_error: 0.3174 - val_loss: 0.2929 - val_mean_squared_error: 0.2929\n",
      "Epoch 98/100\n",
      "7195/7195 [==============================] - 0s 32us/step - loss: 0.3105 - mean_squared_error: 0.3105 - val_loss: 0.2898 - val_mean_squared_error: 0.2898\n",
      "Epoch 99/100\n"
     ]
    },
    {
     "name": "stdout",
     "output_type": "stream",
     "text": [
      "7195/7195 [==============================] - 0s 32us/step - loss: 0.3143 - mean_squared_error: 0.3143 - val_loss: 0.3087 - val_mean_squared_error: 0.3087\n",
      "Epoch 100/100\n",
      "7195/7195 [==============================] - 0s 32us/step - loss: 0.3147 - mean_squared_error: 0.3147 - val_loss: 0.3535 - val_mean_squared_error: 0.3535\n"
     ]
    }
   ],
   "source": [
    "h=model.fit(xtrain, ytrain, validation_split=.2,epochs=100, batch_size=50)"
   ]
  },
  {
   "cell_type": "code",
   "execution_count": 35,
   "metadata": {},
   "outputs": [
    {
     "name": "stdout",
     "output_type": "stream",
     "text": [
      "mean_squared_error 0.3604460256227187\n",
      "root mean_squared_error 0.6003715729635429\n",
      "mean_absolute_error 0.45564174698744414\n",
      "r2_score 0.5610992779302096\n"
     ]
    },
    {
     "data": {
      "text/html": [
       "<div>\n",
       "<style scoped>\n",
       "    .dataframe tbody tr th:only-of-type {\n",
       "        vertical-align: middle;\n",
       "    }\n",
       "\n",
       "    .dataframe tbody tr th {\n",
       "        vertical-align: top;\n",
       "    }\n",
       "\n",
       "    .dataframe thead th {\n",
       "        text-align: right;\n",
       "    }\n",
       "</style>\n",
       "<table border=\"1\" class=\"dataframe\">\n",
       "  <thead>\n",
       "    <tr style=\"text-align: right;\">\n",
       "      <th></th>\n",
       "      <th>t + 1</th>\n",
       "      <th>pred (t +1)</th>\n",
       "    </tr>\n",
       "  </thead>\n",
       "  <tbody>\n",
       "    <tr>\n",
       "      <th>0</th>\n",
       "      <td>3.4</td>\n",
       "      <td>3.325231</td>\n",
       "    </tr>\n",
       "    <tr>\n",
       "      <th>1</th>\n",
       "      <td>2.6</td>\n",
       "      <td>2.542303</td>\n",
       "    </tr>\n",
       "    <tr>\n",
       "      <th>2</th>\n",
       "      <td>2.3</td>\n",
       "      <td>2.520181</td>\n",
       "    </tr>\n",
       "    <tr>\n",
       "      <th>3</th>\n",
       "      <td>3.0</td>\n",
       "      <td>2.953143</td>\n",
       "    </tr>\n",
       "    <tr>\n",
       "      <th>4</th>\n",
       "      <td>6.1</td>\n",
       "      <td>6.056044</td>\n",
       "    </tr>\n",
       "    <tr>\n",
       "      <th>5</th>\n",
       "      <td>3.1</td>\n",
       "      <td>2.971803</td>\n",
       "    </tr>\n",
       "    <tr>\n",
       "      <th>6</th>\n",
       "      <td>2.3</td>\n",
       "      <td>2.529089</td>\n",
       "    </tr>\n",
       "    <tr>\n",
       "      <th>7</th>\n",
       "      <td>3.4</td>\n",
       "      <td>2.965737</td>\n",
       "    </tr>\n",
       "    <tr>\n",
       "      <th>8</th>\n",
       "      <td>5.6</td>\n",
       "      <td>4.897521</td>\n",
       "    </tr>\n",
       "    <tr>\n",
       "      <th>9</th>\n",
       "      <td>4.2</td>\n",
       "      <td>4.747361</td>\n",
       "    </tr>\n",
       "  </tbody>\n",
       "</table>\n",
       "</div>"
      ],
      "text/plain": [
       "   t + 1  pred (t +1)\n",
       "0    3.4     3.325231\n",
       "1    2.6     2.542303\n",
       "2    2.3     2.520181\n",
       "3    3.0     2.953143\n",
       "4    6.1     6.056044\n",
       "5    3.1     2.971803\n",
       "6    2.3     2.529089\n",
       "7    3.4     2.965737\n",
       "8    5.6     4.897521\n",
       "9    4.2     4.747361"
      ]
     },
     "execution_count": 35,
     "metadata": {},
     "output_type": "execute_result"
    }
   ],
   "source": [
    "ypred=model.predict(xtest)\n",
    "\n",
    "import math\n",
    "print('mean_squared_error',mean_squared_error(ytest, ypred))\n",
    "print('root mean_squared_error',math.sqrt(mean_squared_error(ytest, ypred)))\n",
    "print('mean_absolute_error',mean_absolute_error(ytest, ypred))\n",
    "print('r2_score',r2_score(ytest, ypred))\n",
    "\n",
    "ypredPD=pd.DataFrame()\n",
    "# ypredPD['t']=xtest['S000501_x'].values\n",
    "ypredPD['t + 1']=ytest.values.ravel()\n",
    "ypredPD['pred (t +1)']=ypred\n",
    "ypredPD.head(10)"
   ]
  },
  {
   "cell_type": "code",
   "execution_count": 36,
   "metadata": {},
   "outputs": [
    {
     "name": "stdout",
     "output_type": "stream",
     "text": [
      "dict_keys(['val_loss', 'val_mean_squared_error', 'loss', 'mean_squared_error'])\n"
     ]
    },
    {
     "data": {
      "image/png": "[encoded data removed]",
      "text/plain": [
       "<Figure size 432x288 with 1 Axes>"
      ]
     },
     "metadata": {
      "needs_background": "light"
     },
     "output_type": "display_data"
    },
    {
     "data": {
      "image/png": "[encoded data removed]",
      "text/plain": [
       "<Figure size 432x288 with 1 Axes>"
      ]
     },
     "metadata": {
      "needs_background": "light"
     },
     "output_type": "display_data"
    }
   ],
   "source": [
    "history=h\n",
    "print(history.history.keys())\n",
    "# summarize history for accuracy\n",
    "plt.plot(history.history['val_loss'])\n",
    "plt.plot(history.history['loss'])\n",
    "plt.title('model accuracy')\n",
    "plt.ylabel('accuracy')\n",
    "plt.xlabel('epoch')\n",
    "plt.legend(['train', 'test'], loc='upper left')\n",
    "plt.show()\n",
    "# summarize history for loss\n",
    "plt.plot(history.history['val_mean_squared_error'])\n",
    "plt.plot(history.history['mean_squared_error'])\n",
    "plt.title('model loss')\n",
    "plt.ylabel('loss')\n",
    "plt.xlabel('epoch')\n",
    "plt.legend(['train', 'test'], loc='upper left')\n",
    "plt.show()"
   ]
  },
  {
   "cell_type": "code",
   "execution_count": 37,
   "metadata": {},
   "outputs": [
    {
     "name": "stdout",
     "output_type": "stream",
     "text": [
      "0.45564174698744403\n",
      "0.3909432491103392\n",
      "100.0\n"
     ]
    }
   ],
   "source": [
    "ypredPD['diff']=abs(ypredPD['t + 1']- ypredPD['pred (t +1)'])\n",
    "print(np.mean(ypredPD['diff']))\n",
    "print(np.std(ypredPD['diff']))\n",
    "print(100*ypredPD[ypredPD['diff']<=5].shape[0]/ypredPD.shape[0])"
   ]
  },
  {
   "cell_type": "code",
   "execution_count": 38,
   "metadata": {},
   "outputs": [
    {
     "data": {
      "image/png": "[encoded data removed]",
      "text/plain": [
       "<Figure size 432x288 with 1 Axes>"
      ]
     },
     "metadata": {
      "needs_background": "light"
     },
     "output_type": "display_data"
    },
    {
     "data": {
      "text/html": [
       "<div>\n",
       "<style scoped>\n",
       "    .dataframe tbody tr th:only-of-type {\n",
       "        vertical-align: middle;\n",
       "    }\n",
       "\n",
       "    .dataframe tbody tr th {\n",
       "        vertical-align: top;\n",
       "    }\n",
       "\n",
       "    .dataframe thead th {\n",
       "        text-align: right;\n",
       "    }\n",
       "</style>\n",
       "<table border=\"1\" class=\"dataframe\">\n",
       "  <thead>\n",
       "    <tr style=\"text-align: right;\">\n",
       "      <th></th>\n",
       "      <th>t + 1</th>\n",
       "      <th>pred (t +1)</th>\n",
       "      <th>diff</th>\n",
       "    </tr>\n",
       "  </thead>\n",
       "  <tbody>\n",
       "    <tr>\n",
       "      <th>282</th>\n",
       "      <td>1.4</td>\n",
       "      <td>2.501773</td>\n",
       "      <td>1.101773</td>\n",
       "    </tr>\n",
       "    <tr>\n",
       "      <th>861</th>\n",
       "      <td>1.6</td>\n",
       "      <td>2.783868</td>\n",
       "      <td>1.183868</td>\n",
       "    </tr>\n",
       "    <tr>\n",
       "      <th>897</th>\n",
       "      <td>1.6</td>\n",
       "      <td>2.343221</td>\n",
       "      <td>0.743221</td>\n",
       "    </tr>\n",
       "    <tr>\n",
       "      <th>1045</th>\n",
       "      <td>1.6</td>\n",
       "      <td>2.288517</td>\n",
       "      <td>0.688517</td>\n",
       "    </tr>\n",
       "    <tr>\n",
       "      <th>1378</th>\n",
       "      <td>1.7</td>\n",
       "      <td>2.549014</td>\n",
       "      <td>0.849014</td>\n",
       "    </tr>\n",
       "    <tr>\n",
       "      <th>1455</th>\n",
       "      <td>1.7</td>\n",
       "      <td>2.636457</td>\n",
       "      <td>0.936457</td>\n",
       "    </tr>\n",
       "    <tr>\n",
       "      <th>2237</th>\n",
       "      <td>1.7</td>\n",
       "      <td>2.549365</td>\n",
       "      <td>0.849365</td>\n",
       "    </tr>\n",
       "    <tr>\n",
       "      <th>1327</th>\n",
       "      <td>1.7</td>\n",
       "      <td>2.910475</td>\n",
       "      <td>1.210475</td>\n",
       "    </tr>\n",
       "    <tr>\n",
       "      <th>1825</th>\n",
       "      <td>1.7</td>\n",
       "      <td>2.535621</td>\n",
       "      <td>0.835621</td>\n",
       "    </tr>\n",
       "    <tr>\n",
       "      <th>1462</th>\n",
       "      <td>1.7</td>\n",
       "      <td>2.532087</td>\n",
       "      <td>0.832087</td>\n",
       "    </tr>\n",
       "  </tbody>\n",
       "</table>\n",
       "</div>"
      ],
      "text/plain": [
       "      t + 1  pred (t +1)      diff\n",
       "282     1.4     2.501773  1.101773\n",
       "861     1.6     2.783868  1.183868\n",
       "897     1.6     2.343221  0.743221\n",
       "1045    1.6     2.288517  0.688517\n",
       "1378    1.7     2.549014  0.849014\n",
       "1455    1.7     2.636457  0.936457\n",
       "2237    1.7     2.549365  0.849365\n",
       "1327    1.7     2.910475  1.210475\n",
       "1825    1.7     2.535621  0.835621\n",
       "1462    1.7     2.532087  0.832087"
      ]
     },
     "execution_count": 38,
     "metadata": {},
     "output_type": "execute_result"
    },
    {
     "data": {
      "image/png": "[encoded data removed]",
      "text/plain": [
       "<Figure size 432x288 with 1 Axes>"
      ]
     },
     "metadata": {
      "needs_background": "light"
     },
     "output_type": "display_data"
    }
   ],
   "source": [
    "\n",
    "import matplotlib.patches as mpatches\n",
    "plt.ylabel('Values')\n",
    "plt.xlabel('index')\n",
    "red_patch = mpatches.Patch(color='red', label='Actual data')\n",
    "blue_patch = mpatches.Patch(color='blue', label='Predicted data')\n",
    "plt.legend(handles=[red_patch,blue_patch])\n",
    "\n",
    "ypredPD=ypredPD.sort_values(by=['t + 1'])\n",
    "plt.scatter(np.arange(0,ypredPD.shape[0],1),ypredPD['pred (t +1)'][:ypredPD.shape[0]])\n",
    "plt.plot(np.arange(0,ypredPD.shape[0],1),ypredPD['t + 1'][:ypredPD.shape[0]],color='red')\n",
    "plt.show()\n",
    "\n",
    "plt.ylabel('p*(t+1), Predicted data')\n",
    "plt.xlabel('p(t+1), Actual data')\n",
    "plt.scatter(ypredPD['t + 1'][:ypredPD.shape[0]],ypredPD['pred (t +1)'][:ypredPD.shape[0]])\n",
    "\n",
    "ypredPD.head(10)"
   ]
  },
  {
   "cell_type": "markdown",
   "metadata": {},
   "source": [
    "SVR\n",
    "======"
   ]
  },
  {
   "cell_type": "code",
   "execution_count": null,
   "metadata": {},
   "outputs": [],
   "source": [
    "from sklearn.svm import SVR\n",
    "# svr_rbf = SVR(kernel='rbf', C=10, gamma=0.02, epsilon=.001)\n",
    "svr_rbf = SVR(kernel='rbf')"
   ]
  },
  {
   "cell_type": "code",
   "execution_count": null,
   "metadata": {},
   "outputs": [],
   "source": [
    "svr_rbf.fit(xtrain, ytrain) "
   ]
  },
  {
   "cell_type": "code",
   "execution_count": null,
   "metadata": {},
   "outputs": [],
   "source": [
    "ypred=svr_rbf.predict(xtest)"
   ]
  },
  {
   "cell_type": "code",
   "execution_count": null,
   "metadata": {},
   "outputs": [],
   "source": [
    "import math\n",
    "print('mean_squared_error',mean_squared_error(ytest, ypred))\n",
    "print('root mean_squared_error',math.sqrt(mean_squared_error(ytest, ypred)))\n",
    "print('mean_absolute_error',mean_absolute_error(ytest, ypred))\n",
    "print('r2_score',r2_score(ytest, ypred))\n",
    "\n",
    "ypredPD=pd.DataFrame()\n",
    "# ypredPD['t']=xtest['S000501_x'].values\n",
    "ypredPD['t + 1']=ytest.values.ravel()\n",
    "ypredPD['pred (t +1)']=ypred\n",
    "ypredPD.head(10)"
   ]
  },
  {
   "cell_type": "code",
   "execution_count": null,
   "metadata": {},
   "outputs": [],
   "source": []
  },
  {
   "cell_type": "code",
   "execution_count": null,
   "metadata": {},
   "outputs": [],
   "source": []
  }
 ],
 "metadata": {
  "kernelspec": {
   "display_name": "Python 3",
   "language": "python",
   "name": "python3"
  },
  "language_info": {
   "codemirror_mode": {
    "name": "ipython",
    "version": 3
   },
   "file_extension": ".py",
   "mimetype": "text/x-python",
   "name": "python",
   "nbconvert_exporter": "python",
   "pygments_lexer": "ipython3",
   "version": "3.7.3"
  }
 },
 "nbformat": 4,
 "nbformat_minor": 2
}

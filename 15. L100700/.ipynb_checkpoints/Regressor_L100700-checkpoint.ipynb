{
 "cells": [
  {
   "cell_type": "code",
   "execution_count": 4,
   "metadata": {},
   "outputs": [],
   "source": [
    "from matplotlib import pyplot as plt\n",
    "import pandas as pd \n",
    "import numpy as np\n",
    "import warnings\n",
    "warnings.filterwarnings('ignore')\n",
    "from sklearn.ensemble import RandomForestRegressor\n",
    "from sklearn import metrics as m\n",
    "from sklearn.model_selection import train_test_split\n",
    "import xgboost as xgb\n",
    "import seaborn as sns"
   ]
  },
  {
   "cell_type": "code",
   "execution_count": 5,
   "metadata": {},
   "outputs": [],
   "source": [
    "x_original=pd.read_csv('../XLable_onlyDiabeticRemoved.txt')\n",
    "y_original=pd.read_csv('../TargetLable_onlyDiabeticRemoved.txt')\n",
    "\n",
    "# x_original=pd.read_csv('../_xlable4_withNa_AllColumns.txt')\n",
    "# y_original=pd.read_csv('../_targelable4_withNa_AllColumns.txt')\n",
    "\n",
    "y_original=y_original[['Unnamed: 0','L100700']]"
   ]
  },
  {
   "cell_type": "code",
   "execution_count": 6,
   "metadata": {},
   "outputs": [
    {
     "name": "stdout",
     "output_type": "stream",
     "text": [
      "(185843, 407)\n"
     ]
    }
   ],
   "source": [
    "data= pd.merge(x_original,y_original, how='inner',left_on='Unnamed: 0', right_on='Unnamed: 0')\n",
    " \n",
    "#combine FIELD_6 and FIELD_7 both represent the same thing (Women's marital status)\n",
    "data['max']=np.min(data[['FIELD_6','FIELD_7']],axis=1)\n",
    "data=data.drop(columns=['FIELD_6','FIELD_7','B_DAY'])\n",
    "print(data.shape)"
   ]
  },
  {
   "cell_type": "code",
   "execution_count": 7,
   "metadata": {},
   "outputs": [
    {
     "name": "stdout",
     "output_type": "stream",
     "text": [
      "(169024, 407)\n"
     ]
    }
   ],
   "source": [
    "# filter the data set \n",
    "data=data[data.FIELD_16!=1] # exclude people who are diagnosed for (diabetes) \n",
    "data=data[data.FIELD_23!=1] # exclude people who are on medication for diabetes\n",
    "\n",
    "data=data[data.FIELD_15!=1] # exclude people who are diagnosed for (high blood pressure)\n",
    "data=data[data.FIELD_22!=1] # exclude people who are on medication for high blood pressure\n",
    "\n",
    "data=data[data.FIELD_17!=1] # exclude people who are diagnosed for hyperlipidemia\n",
    "data=data[data.FIELD_24!=1] # exclude people who are on medication for hyperlipidemia\n",
    "\n",
    "print(data.shape)"
   ]
  },
  {
   "cell_type": "code",
   "execution_count": 9,
   "metadata": {},
   "outputs": [
    {
     "name": "stdout",
     "output_type": "stream",
     "text": [
      "(135859, 13)\n"
     ]
    },
    {
     "data": {
      "text/html": [
       "<div>\n",
       "<style scoped>\n",
       "    .dataframe tbody tr th:only-of-type {\n",
       "        vertical-align: middle;\n",
       "    }\n",
       "\n",
       "    .dataframe tbody tr th {\n",
       "        vertical-align: top;\n",
       "    }\n",
       "\n",
       "    .dataframe thead th {\n",
       "        text-align: right;\n",
       "    }\n",
       "</style>\n",
       "<table border=\"1\" class=\"dataframe\">\n",
       "  <thead>\n",
       "    <tr style=\"text-align: right;\">\n",
       "      <th></th>\n",
       "      <th>L100700_y</th>\n",
       "      <th>L100700_x</th>\n",
       "      <th>L100500</th>\n",
       "      <th>S000100</th>\n",
       "      <th>S000300</th>\n",
       "      <th>L103300</th>\n",
       "      <th>L103000</th>\n",
       "      <th>L103100</th>\n",
       "      <th>S000501</th>\n",
       "      <th>L101300</th>\n",
       "      <th>L101700</th>\n",
       "      <th>S000502</th>\n",
       "      <th>L107400</th>\n",
       "    </tr>\n",
       "  </thead>\n",
       "  <tbody>\n",
       "    <tr>\n",
       "      <th>0</th>\n",
       "      <td>3.0</td>\n",
       "      <td>3.0</td>\n",
       "      <td>0.8</td>\n",
       "      <td>159.8</td>\n",
       "      <td>20.1</td>\n",
       "      <td>3.1</td>\n",
       "      <td>53.0</td>\n",
       "      <td>68.0</td>\n",
       "      <td>121.0</td>\n",
       "      <td>8.0</td>\n",
       "      <td>13.0</td>\n",
       "      <td>67.0</td>\n",
       "      <td>12.5</td>\n",
       "    </tr>\n",
       "    <tr>\n",
       "      <th>1</th>\n",
       "      <td>3.8</td>\n",
       "      <td>3.0</td>\n",
       "      <td>0.8</td>\n",
       "      <td>159.5</td>\n",
       "      <td>19.7</td>\n",
       "      <td>3.3</td>\n",
       "      <td>53.0</td>\n",
       "      <td>71.0</td>\n",
       "      <td>117.0</td>\n",
       "      <td>9.0</td>\n",
       "      <td>14.0</td>\n",
       "      <td>76.0</td>\n",
       "      <td>15.4</td>\n",
       "    </tr>\n",
       "    <tr>\n",
       "      <th>2</th>\n",
       "      <td>3.1</td>\n",
       "      <td>3.8</td>\n",
       "      <td>0.8</td>\n",
       "      <td>159.0</td>\n",
       "      <td>20.2</td>\n",
       "      <td>3.4</td>\n",
       "      <td>41.0</td>\n",
       "      <td>72.0</td>\n",
       "      <td>135.0</td>\n",
       "      <td>10.0</td>\n",
       "      <td>15.0</td>\n",
       "      <td>82.0</td>\n",
       "      <td>11.9</td>\n",
       "    </tr>\n",
       "    <tr>\n",
       "      <th>3</th>\n",
       "      <td>3.7</td>\n",
       "      <td>4.1</td>\n",
       "      <td>0.8</td>\n",
       "      <td>155.2</td>\n",
       "      <td>24.7</td>\n",
       "      <td>3.1</td>\n",
       "      <td>80.0</td>\n",
       "      <td>51.0</td>\n",
       "      <td>112.0</td>\n",
       "      <td>20.0</td>\n",
       "      <td>13.0</td>\n",
       "      <td>70.0</td>\n",
       "      <td>12.4</td>\n",
       "    </tr>\n",
       "    <tr>\n",
       "      <th>4</th>\n",
       "      <td>3.4</td>\n",
       "      <td>3.7</td>\n",
       "      <td>0.8</td>\n",
       "      <td>155.3</td>\n",
       "      <td>24.8</td>\n",
       "      <td>2.8</td>\n",
       "      <td>58.0</td>\n",
       "      <td>64.0</td>\n",
       "      <td>118.0</td>\n",
       "      <td>12.0</td>\n",
       "      <td>10.0</td>\n",
       "      <td>71.0</td>\n",
       "      <td>13.1</td>\n",
       "    </tr>\n",
       "  </tbody>\n",
       "</table>\n",
       "</div>"
      ],
      "text/plain": [
       "   L100700_y  L100700_x  L100500  S000100  S000300  L103300  L103000  L103100  \\\n",
       "0        3.0        3.0      0.8    159.8     20.1      3.1     53.0     68.0   \n",
       "1        3.8        3.0      0.8    159.5     19.7      3.3     53.0     71.0   \n",
       "2        3.1        3.8      0.8    159.0     20.2      3.4     41.0     72.0   \n",
       "3        3.7        4.1      0.8    155.2     24.7      3.1     80.0     51.0   \n",
       "4        3.4        3.7      0.8    155.3     24.8      2.8     58.0     64.0   \n",
       "\n",
       "   S000501  L101300  L101700  S000502  L107400  \n",
       "0    121.0      8.0     13.0     67.0     12.5  \n",
       "1    117.0      9.0     14.0     76.0     15.4  \n",
       "2    135.0     10.0     15.0     82.0     11.9  \n",
       "3    112.0     20.0     13.0     70.0     12.4  \n",
       "4    118.0     12.0     10.0     71.0     13.1  "
      ]
     },
     "execution_count": 9,
     "metadata": {},
     "output_type": "execute_result"
    }
   ],
   "source": [
    "mydata=data[['L100700_y','L100700_x', 'L100500', 'S000100', 'S000300', 'L103300', 'L103000', 'L103100', \n",
    "             'S000501', 'L101300', 'L101700', 'S000502', 'L107400']].dropna() \n",
    "\n",
    "print(mydata.shape)\n",
    "\n",
    "mydata.head()"
   ]
  },
  {
   "cell_type": "code",
   "execution_count": 10,
   "metadata": {},
   "outputs": [
    {
     "name": "stdout",
     "output_type": "stream",
     "text": [
      "(135859, 25)\n"
     ]
    },
    {
     "data": {
      "text/html": [
       "<div>\n",
       "<style scoped>\n",
       "    .dataframe tbody tr th:only-of-type {\n",
       "        vertical-align: middle;\n",
       "    }\n",
       "\n",
       "    .dataframe tbody tr th {\n",
       "        vertical-align: top;\n",
       "    }\n",
       "\n",
       "    .dataframe thead th {\n",
       "        text-align: right;\n",
       "    }\n",
       "</style>\n",
       "<table border=\"1\" class=\"dataframe\">\n",
       "  <thead>\n",
       "    <tr style=\"text-align: right;\">\n",
       "      <th></th>\n",
       "      <th>L100700_y</th>\n",
       "      <th>L100700_x</th>\n",
       "      <th>L100500</th>\n",
       "      <th>S000100</th>\n",
       "      <th>S000300</th>\n",
       "      <th>L103300</th>\n",
       "      <th>L103000</th>\n",
       "      <th>L103100</th>\n",
       "      <th>S000501</th>\n",
       "      <th>L101300</th>\n",
       "      <th>...</th>\n",
       "      <th>p_S000100</th>\n",
       "      <th>p_S000300</th>\n",
       "      <th>p_L103300</th>\n",
       "      <th>p_L103000</th>\n",
       "      <th>p_L103100</th>\n",
       "      <th>p_S000501</th>\n",
       "      <th>p_L101300</th>\n",
       "      <th>p_L101700</th>\n",
       "      <th>p_S000502</th>\n",
       "      <th>p_L107400</th>\n",
       "    </tr>\n",
       "  </thead>\n",
       "  <tbody>\n",
       "    <tr>\n",
       "      <th>0</th>\n",
       "      <td>3.0</td>\n",
       "      <td>3.0</td>\n",
       "      <td>0.8</td>\n",
       "      <td>159.8</td>\n",
       "      <td>20.1</td>\n",
       "      <td>3.1</td>\n",
       "      <td>53.0</td>\n",
       "      <td>68.0</td>\n",
       "      <td>121.0</td>\n",
       "      <td>8.0</td>\n",
       "      <td>...</td>\n",
       "      <td>4080659.192</td>\n",
       "      <td>8120.601</td>\n",
       "      <td>29.791</td>\n",
       "      <td>148877.0</td>\n",
       "      <td>314432.0</td>\n",
       "      <td>1771561.0</td>\n",
       "      <td>512.0</td>\n",
       "      <td>2197.0</td>\n",
       "      <td>300763.0</td>\n",
       "      <td>1953.125</td>\n",
       "    </tr>\n",
       "    <tr>\n",
       "      <th>1</th>\n",
       "      <td>3.8</td>\n",
       "      <td>3.0</td>\n",
       "      <td>0.8</td>\n",
       "      <td>159.5</td>\n",
       "      <td>19.7</td>\n",
       "      <td>3.3</td>\n",
       "      <td>53.0</td>\n",
       "      <td>71.0</td>\n",
       "      <td>117.0</td>\n",
       "      <td>9.0</td>\n",
       "      <td>...</td>\n",
       "      <td>4057719.875</td>\n",
       "      <td>7645.373</td>\n",
       "      <td>35.937</td>\n",
       "      <td>148877.0</td>\n",
       "      <td>357911.0</td>\n",
       "      <td>1601613.0</td>\n",
       "      <td>729.0</td>\n",
       "      <td>2744.0</td>\n",
       "      <td>438976.0</td>\n",
       "      <td>3652.264</td>\n",
       "    </tr>\n",
       "    <tr>\n",
       "      <th>2</th>\n",
       "      <td>3.1</td>\n",
       "      <td>3.8</td>\n",
       "      <td>0.8</td>\n",
       "      <td>159.0</td>\n",
       "      <td>20.2</td>\n",
       "      <td>3.4</td>\n",
       "      <td>41.0</td>\n",
       "      <td>72.0</td>\n",
       "      <td>135.0</td>\n",
       "      <td>10.0</td>\n",
       "      <td>...</td>\n",
       "      <td>4019679.000</td>\n",
       "      <td>8242.408</td>\n",
       "      <td>39.304</td>\n",
       "      <td>68921.0</td>\n",
       "      <td>373248.0</td>\n",
       "      <td>2460375.0</td>\n",
       "      <td>1000.0</td>\n",
       "      <td>3375.0</td>\n",
       "      <td>551368.0</td>\n",
       "      <td>1685.159</td>\n",
       "    </tr>\n",
       "    <tr>\n",
       "      <th>3</th>\n",
       "      <td>3.7</td>\n",
       "      <td>4.1</td>\n",
       "      <td>0.8</td>\n",
       "      <td>155.2</td>\n",
       "      <td>24.7</td>\n",
       "      <td>3.1</td>\n",
       "      <td>80.0</td>\n",
       "      <td>51.0</td>\n",
       "      <td>112.0</td>\n",
       "      <td>20.0</td>\n",
       "      <td>...</td>\n",
       "      <td>3738308.608</td>\n",
       "      <td>15069.223</td>\n",
       "      <td>29.791</td>\n",
       "      <td>512000.0</td>\n",
       "      <td>132651.0</td>\n",
       "      <td>1404928.0</td>\n",
       "      <td>8000.0</td>\n",
       "      <td>2197.0</td>\n",
       "      <td>343000.0</td>\n",
       "      <td>1906.624</td>\n",
       "    </tr>\n",
       "    <tr>\n",
       "      <th>4</th>\n",
       "      <td>3.4</td>\n",
       "      <td>3.7</td>\n",
       "      <td>0.8</td>\n",
       "      <td>155.3</td>\n",
       "      <td>24.8</td>\n",
       "      <td>2.8</td>\n",
       "      <td>58.0</td>\n",
       "      <td>64.0</td>\n",
       "      <td>118.0</td>\n",
       "      <td>12.0</td>\n",
       "      <td>...</td>\n",
       "      <td>3745539.377</td>\n",
       "      <td>15252.992</td>\n",
       "      <td>21.952</td>\n",
       "      <td>195112.0</td>\n",
       "      <td>262144.0</td>\n",
       "      <td>1643032.0</td>\n",
       "      <td>1728.0</td>\n",
       "      <td>1000.0</td>\n",
       "      <td>357911.0</td>\n",
       "      <td>2248.091</td>\n",
       "    </tr>\n",
       "  </tbody>\n",
       "</table>\n",
       "<p>5 rows × 25 columns</p>\n",
       "</div>"
      ],
      "text/plain": [
       "   L100700_y  L100700_x  L100500  S000100  S000300  L103300  L103000  L103100  \\\n",
       "0        3.0        3.0      0.8    159.8     20.1      3.1     53.0     68.0   \n",
       "1        3.8        3.0      0.8    159.5     19.7      3.3     53.0     71.0   \n",
       "2        3.1        3.8      0.8    159.0     20.2      3.4     41.0     72.0   \n",
       "3        3.7        4.1      0.8    155.2     24.7      3.1     80.0     51.0   \n",
       "4        3.4        3.7      0.8    155.3     24.8      2.8     58.0     64.0   \n",
       "\n",
       "   S000501  L101300  ...    p_S000100  p_S000300  p_L103300  p_L103000  \\\n",
       "0    121.0      8.0  ...  4080659.192   8120.601     29.791   148877.0   \n",
       "1    117.0      9.0  ...  4057719.875   7645.373     35.937   148877.0   \n",
       "2    135.0     10.0  ...  4019679.000   8242.408     39.304    68921.0   \n",
       "3    112.0     20.0  ...  3738308.608  15069.223     29.791   512000.0   \n",
       "4    118.0     12.0  ...  3745539.377  15252.992     21.952   195112.0   \n",
       "\n",
       "   p_L103100  p_S000501  p_L101300  p_L101700  p_S000502  p_L107400  \n",
       "0   314432.0  1771561.0      512.0     2197.0   300763.0   1953.125  \n",
       "1   357911.0  1601613.0      729.0     2744.0   438976.0   3652.264  \n",
       "2   373248.0  2460375.0     1000.0     3375.0   551368.0   1685.159  \n",
       "3   132651.0  1404928.0     8000.0     2197.0   343000.0   1906.624  \n",
       "4   262144.0  1643032.0     1728.0     1000.0   357911.0   2248.091  \n",
       "\n",
       "[5 rows x 25 columns]"
      ]
     },
     "execution_count": 10,
     "metadata": {},
     "output_type": "execute_result"
    }
   ],
   "source": [
    "for i in mydata.columns:\n",
    "    if (i != 'L100700_y'): \n",
    "        mydata['p_'+i]=np.power(mydata[i],0.03)\n",
    "        mydata['p_'+i]=np.power(mydata[i],3)\n",
    "#         mydata['l_'+i]=np.log10(mydata[i])\n",
    "\n",
    "mydata=mydata.dropna()\n",
    "\n",
    "print(mydata.shape)\n",
    "mydata.head()\n",
    "\n",
    "# mydata=np.log2(mydata).dropna()\n",
    "# mydata=np.power(mydata,0.03)"
   ]
  },
  {
   "cell_type": "code",
   "execution_count": 11,
   "metadata": {},
   "outputs": [],
   "source": [
    "# x=mydata[['L103000_x', 'S000501', 'L100700', 'SEX', 'L103100', 'L190300', 'L190400', \n",
    "#              'L101300', 'S000502']] \n",
    "\n",
    "x=mydata.iloc[:,1:]\n",
    "y=mydata[['L100700_y']]"
   ]
  },
  {
   "cell_type": "code",
   "execution_count": 12,
   "metadata": {},
   "outputs": [],
   "source": [
    "xtrain,xtest,ytrain,ytest=train_test_split(x, y, random_state=42, test_size=0.2)"
   ]
  },
  {
   "cell_type": "code",
   "execution_count": 13,
   "metadata": {},
   "outputs": [
    {
     "name": "stdout",
     "output_type": "stream",
     "text": [
      "[5.37645788e-01 5.31290715e-04 4.36459004e-03 9.03141261e-04\n",
      " 7.20155000e-05 4.33327623e-03 5.27503970e-04 1.54479154e-04\n",
      " 1.41382083e-04 2.32627707e-04 3.58597610e-05 1.03428034e-03\n",
      " 4.36683705e-01 5.49943131e-04 5.11060904e-03 1.01434160e-03\n",
      " 7.53579433e-05 4.30054976e-03 5.09767896e-04 1.85993531e-04\n",
      " 1.58051794e-04 2.45320907e-04 3.28184982e-05 1.15730711e-03]\n"
     ]
    }
   ],
   "source": [
    "regr = RandomForestRegressor(max_depth=7, random_state=0,verbose =0,n_estimators=50)\n",
    "regr.fit(xtrain, ytrain) \n",
    "print(regr.feature_importances_)\n",
    "ypred=regr.predict(xtest)\n"
   ]
  },
  {
   "cell_type": "code",
   "execution_count": 14,
   "metadata": {},
   "outputs": [
    {
     "name": "stdout",
     "output_type": "stream",
     "text": [
      "mean_squared_error 0.505469258506628\n",
      "root mean_squared_error 0.7109636126459835\n",
      "mean_absolute_error 0.5373114285152948\n",
      "r2_score 0.7453780387570497\n"
     ]
    },
    {
     "data": {
      "image/png": "[encoded data removed]",
      "text/plain": [
       "<Figure size 432x288 with 1 Axes>"
      ]
     },
     "metadata": {
      "needs_background": "light"
     },
     "output_type": "display_data"
    },
    {
     "data": {
      "text/plain": [
       "<matplotlib.collections.PathCollection at 0x1ff672fd908>"
      ]
     },
     "execution_count": 14,
     "metadata": {},
     "output_type": "execute_result"
    },
    {
     "data": {
      "image/png": "[encoded data removed]",
      "text/plain": [
       "<Figure size 432x288 with 1 Axes>"
      ]
     },
     "metadata": {
      "needs_background": "light"
     },
     "output_type": "display_data"
    }
   ],
   "source": [
    "import math\n",
    "print('mean_squared_error',m.mean_squared_error(ytest, ypred))\n",
    "print('root mean_squared_error',math.sqrt(m.mean_squared_error(ytest, ypred)))\n",
    "print('mean_absolute_error',m.mean_absolute_error(ytest, ypred))\n",
    "print('r2_score',m.r2_score(ytest, ypred))\n",
    "\n",
    "ypredPD=pd.DataFrame()\n",
    "ypredPD['t + 1']=ytest.values.ravel()\n",
    "ypredPD['pred (t +1)']=ypred \n",
    "ypredPD.tail(10)\n",
    "\n",
    "import matplotlib.patches as mpatches\n",
    "plt.ylabel('Values')\n",
    "plt.xlabel('index')\n",
    "red_patch = mpatches.Patch(color='red', label='Actual data')\n",
    "blue_patch = mpatches.Patch(color='blue', label='Predicted data')\n",
    "plt.legend(handles=[red_patch,blue_patch])\n",
    "\n",
    "ypredPD=ypredPD.sort_values(by=['t + 1'])\n",
    "plt.scatter(np.arange(0,ypredPD.shape[0],1),ypredPD['pred (t +1)'][:ypredPD.shape[0]])\n",
    "plt.plot(np.arange(0,ypredPD.shape[0],1),ypredPD['t + 1'][:ypredPD.shape[0]],color='red')\n",
    "plt.show()\n",
    "\n",
    "plt.ylabel('p*(t+1), Predicted data')\n",
    "plt.xlabel('p(t+1), Actual data')\n",
    "plt.scatter(ypredPD['t + 1'][:ypredPD.shape[0]],ypredPD['pred (t +1)'][:ypredPD.shape[0]])\n"
   ]
  },
  {
   "cell_type": "code",
   "execution_count": 15,
   "metadata": {},
   "outputs": [
    {
     "data": {
      "text/plain": [
       "XGBRegressor(alpha=200, base_score=0.5, booster='gbtree', colsample_bylevel=1,\n",
       "             colsample_bynode=1, colsample_bytree=0.6, gamma=10,\n",
       "             importance_type='gain', learning_rate=0.08, max_delta_step=0,\n",
       "             max_depth=10, min_child_weight=1, missing=None, n_estimators=50,\n",
       "             n_jobs=1, nthread=None, objective='reg:squarederror',\n",
       "             random_state=0, reg_alpha=0, reg_lambda=1, scale_pos_weight=1,\n",
       "             seed=None, silent=None, subsample=1, tree_method='gpu_hist',\n",
       "             verbosity=1)"
      ]
     },
     "execution_count": 15,
     "metadata": {},
     "output_type": "execute_result"
    }
   ],
   "source": [
    "xg_reg = xgb.XGBRegressor(objective ='reg:squarederror',max_depth = 10, alpha = 200, n_estimators = 50, \n",
    "                          booster='gbtree',\n",
    "                          colsample_bytree = 0.6,learning_rate = 0.08,gamma=10, tree_method = 'gpu_hist'\n",
    "                         )\n",
    "\n",
    "xg_reg.fit(xtrain, ytrain) "
   ]
  },
  {
   "cell_type": "code",
   "execution_count": 16,
   "metadata": {},
   "outputs": [
    {
     "name": "stdout",
     "output_type": "stream",
     "text": [
      "mean_squared_error 0.5098526041607403\n",
      "root mean_squared_error 0.714039637667784\n",
      "mean_absolute_error 0.5360765847733527\n",
      "r2_score 0.7431699992997081\n"
     ]
    },
    {
     "data": {
      "image/png": "[encoded data removed]",
      "text/plain": [
       "<Figure size 432x288 with 1 Axes>"
      ]
     },
     "metadata": {
      "needs_background": "light"
     },
     "output_type": "display_data"
    },
    {
     "data": {
      "text/html": [
       "<div>\n",
       "<style scoped>\n",
       "    .dataframe tbody tr th:only-of-type {\n",
       "        vertical-align: middle;\n",
       "    }\n",
       "\n",
       "    .dataframe tbody tr th {\n",
       "        vertical-align: top;\n",
       "    }\n",
       "\n",
       "    .dataframe thead th {\n",
       "        text-align: right;\n",
       "    }\n",
       "</style>\n",
       "<table border=\"1\" class=\"dataframe\">\n",
       "  <thead>\n",
       "    <tr style=\"text-align: right;\">\n",
       "      <th></th>\n",
       "      <th>t + 1</th>\n",
       "      <th>pred (t +1)</th>\n",
       "    </tr>\n",
       "  </thead>\n",
       "  <tbody>\n",
       "    <tr>\n",
       "      <th>20786</th>\n",
       "      <td>0.4</td>\n",
       "      <td>0.693916</td>\n",
       "    </tr>\n",
       "    <tr>\n",
       "      <th>5061</th>\n",
       "      <td>0.5</td>\n",
       "      <td>0.811457</td>\n",
       "    </tr>\n",
       "    <tr>\n",
       "      <th>14243</th>\n",
       "      <td>0.5</td>\n",
       "      <td>0.940179</td>\n",
       "    </tr>\n",
       "    <tr>\n",
       "      <th>4775</th>\n",
       "      <td>0.6</td>\n",
       "      <td>1.063430</td>\n",
       "    </tr>\n",
       "    <tr>\n",
       "      <th>26149</th>\n",
       "      <td>0.6</td>\n",
       "      <td>0.727626</td>\n",
       "    </tr>\n",
       "    <tr>\n",
       "      <th>19005</th>\n",
       "      <td>0.6</td>\n",
       "      <td>0.647037</td>\n",
       "    </tr>\n",
       "    <tr>\n",
       "      <th>1360</th>\n",
       "      <td>0.7</td>\n",
       "      <td>0.903650</td>\n",
       "    </tr>\n",
       "    <tr>\n",
       "      <th>5077</th>\n",
       "      <td>0.7</td>\n",
       "      <td>1.262467</td>\n",
       "    </tr>\n",
       "    <tr>\n",
       "      <th>11586</th>\n",
       "      <td>0.7</td>\n",
       "      <td>0.776951</td>\n",
       "    </tr>\n",
       "    <tr>\n",
       "      <th>4154</th>\n",
       "      <td>0.8</td>\n",
       "      <td>1.114552</td>\n",
       "    </tr>\n",
       "  </tbody>\n",
       "</table>\n",
       "</div>"
      ],
      "text/plain": [
       "       t + 1  pred (t +1)\n",
       "20786    0.4     0.693916\n",
       "5061     0.5     0.811457\n",
       "14243    0.5     0.940179\n",
       "4775     0.6     1.063430\n",
       "26149    0.6     0.727626\n",
       "19005    0.6     0.647037\n",
       "1360     0.7     0.903650\n",
       "5077     0.7     1.262467\n",
       "11586    0.7     0.776951\n",
       "4154     0.8     1.114552"
      ]
     },
     "execution_count": 16,
     "metadata": {},
     "output_type": "execute_result"
    },
    {
     "data": {
      "image/png": "[encoded data removed]",
      "text/plain": [
       "<Figure size 432x288 with 1 Axes>"
      ]
     },
     "metadata": {
      "needs_background": "light"
     },
     "output_type": "display_data"
    }
   ],
   "source": [
    "ypred = xg_reg.predict(xtest)\n",
    " \n",
    "import math\n",
    "print('mean_squared_error',m.mean_squared_error(ytest, ypred))\n",
    "print('root mean_squared_error',math.sqrt(m.mean_squared_error(ytest, ypred)))\n",
    "print('mean_absolute_error',m.mean_absolute_error(ytest, ypred))\n",
    "print('r2_score',m.r2_score(ytest, ypred))\n",
    "\n",
    "ypredPD=pd.DataFrame()\n",
    "ypredPD['t + 1']=ytest.values.ravel()\n",
    "ypredPD['pred (t +1)']=ypred\n",
    "ypredPD.head(10)\n",
    "\n",
    "\n",
    "import matplotlib.patches as mpatches\n",
    "plt.ylabel('Values')\n",
    "plt.xlabel('index')\n",
    "red_patch = mpatches.Patch(color='red', label='Actual data')\n",
    "blue_patch = mpatches.Patch(color='blue', label='Predicted data')\n",
    "plt.legend(handles=[red_patch,blue_patch])\n",
    "\n",
    "ypredPD=ypredPD.sort_values(by=['t + 1'])\n",
    "plt.scatter(np.arange(0,ypredPD.shape[0],1),ypredPD['pred (t +1)'][:ypredPD.shape[0]])\n",
    "plt.plot(np.arange(0,ypredPD.shape[0],1),ypredPD['t + 1'][:ypredPD.shape[0]],color='red')\n",
    "plt.show()\n",
    "\n",
    "plt.ylabel('p*(t+1), Predicted data')\n",
    "plt.xlabel('p(t+1), Actual data')\n",
    "plt.scatter(ypredPD['t + 1'][:ypredPD.shape[0]],ypredPD['pred (t +1)'][:ypredPD.shape[0]])\n",
    "\n",
    "ypredPD.head(10)"
   ]
  },
  {
   "cell_type": "code",
   "execution_count": null,
   "metadata": {},
   "outputs": [],
   "source": []
  },
  {
   "cell_type": "code",
   "execution_count": null,
   "metadata": {},
   "outputs": [],
   "source": []
  },
  {
   "cell_type": "code",
   "execution_count": null,
   "metadata": {},
   "outputs": [],
   "source": []
  }
 ],
 "metadata": {
  "kernelspec": {
   "display_name": "Python 3",
   "language": "python",
   "name": "python3"
  },
  "language_info": {
   "codemirror_mode": {
    "name": "ipython",
    "version": 3
   },
   "file_extension": ".py",
   "mimetype": "text/x-python",
   "name": "python",
   "nbconvert_exporter": "python",
   "pygments_lexer": "ipython3",
   "version": "3.7.3"
  }
 },
 "nbformat": 4,
 "nbformat_minor": 2
}

{
 "cells": [
  {
   "cell_type": "code",
   "execution_count": 3,
   "metadata": {},
   "outputs": [
    {
     "name": "stdout",
     "output_type": "stream",
     "text": [
      "The nb_black extension is already loaded. To reload it, use:\n",
      "  %reload_ext nb_black\n"
     ]
    },
    {
     "data": {
      "application/javascript": [
       "\n",
       "            setTimeout(function() {\n",
       "                var nbb_cell_id = 3;\n",
       "                var nbb_unformatted_code = \"%load_ext nb_black\\n# !pip install nb_black\";\n",
       "                var nbb_formatted_code = \"%load_ext nb_black\\n# !pip install nb_black\";\n",
       "                var nbb_cells = Jupyter.notebook.get_cells();\n",
       "                for (var i = 0; i < nbb_cells.length; ++i) {\n",
       "                    if (nbb_cells[i].input_prompt_number == nbb_cell_id) {\n",
       "                        if (nbb_cells[i].get_text() == nbb_unformatted_code) {\n",
       "                             nbb_cells[i].set_text(nbb_formatted_code);\n",
       "                        }\n",
       "                        break;\n",
       "                    }\n",
       "                }\n",
       "            }, 500);\n",
       "            "
      ],
      "text/plain": [
       "<IPython.core.display.Javascript object>"
      ]
     },
     "metadata": {},
     "output_type": "display_data"
    }
   ],
   "source": [
    "%load_ext nb_black\n",
    "# !pip install nb_black"
   ]
  },
  {
   "cell_type": "code",
   "execution_count": 4,
   "metadata": {},
   "outputs": [
    {
     "name": "stderr",
     "output_type": "stream",
     "text": [
      "Using TensorFlow backend.\n"
     ]
    },
    {
     "data": {
      "application/javascript": [
       "\n",
       "            setTimeout(function() {\n",
       "                var nbb_cell_id = 4;\n",
       "                var nbb_unformatted_code = \"import pandas as pd\\nimport numpy as np\\nfrom matplotlib import pyplot as plt\\nfrom sklearn import metrics as m\\nfrom sklearn.datasets import make_classification\\nfrom imblearn.over_sampling import SMOTE  # doctest: +NORMALIZE_WHITESPACE\\nfrom sklearn.metrics import confusion_matrix\\nfrom sklearn.metrics import classification_report\\nfrom sklearn.model_selection import train_test_split\\nfrom collections import Counter\\nfrom sklearn.linear_model import LogisticRegression\\nfrom sklearn.neighbors import KNeighborsClassifier\\nfrom sklearn.svm import SVC\\nfrom sklearn.model_selection import GridSearchCV\\nfrom sklearn.model_selection import RandomizedSearchCV\\nfrom sklearn.ensemble import RandomForestClassifier\\nfrom sklearn.ensemble import VotingClassifier\\nimport xgboost as xgb\\nfrom sklearn.pipeline import make_pipeline\\nfrom mlxtend.feature_selection import ColumnSelector\\nfrom sklearn import model_selection\\nfrom mlxtend.classifier import StackingClassifier\\nfrom thundersvm import SVC as svmgpu\\n\\n# import PPOCS as p\\nfrom sklearn.utils import shuffle\\nimport math\\n\\nimport warnings\\n\\nwarnings.filterwarnings(\\\"ignore\\\")\\nrandomseed = 45\\nnp.random.seed(randomseed)\";\n",
       "                var nbb_formatted_code = \"import pandas as pd\\nimport numpy as np\\nfrom matplotlib import pyplot as plt\\nfrom sklearn import metrics as m\\nfrom sklearn.datasets import make_classification\\nfrom imblearn.over_sampling import SMOTE  # doctest: +NORMALIZE_WHITESPACE\\nfrom sklearn.metrics import confusion_matrix\\nfrom sklearn.metrics import classification_report\\nfrom sklearn.model_selection import train_test_split\\nfrom collections import Counter\\nfrom sklearn.linear_model import LogisticRegression\\nfrom sklearn.neighbors import KNeighborsClassifier\\nfrom sklearn.svm import SVC\\nfrom sklearn.model_selection import GridSearchCV\\nfrom sklearn.model_selection import RandomizedSearchCV\\nfrom sklearn.ensemble import RandomForestClassifier\\nfrom sklearn.ensemble import VotingClassifier\\nimport xgboost as xgb\\nfrom sklearn.pipeline import make_pipeline\\nfrom mlxtend.feature_selection import ColumnSelector\\nfrom sklearn import model_selection\\nfrom mlxtend.classifier import StackingClassifier\\nfrom thundersvm import SVC as svmgpu\\n\\n# import PPOCS as p\\nfrom sklearn.utils import shuffle\\nimport math\\n\\nimport warnings\\n\\nwarnings.filterwarnings(\\\"ignore\\\")\\nrandomseed = 45\\nnp.random.seed(randomseed)\";\n",
       "                var nbb_cells = Jupyter.notebook.get_cells();\n",
       "                for (var i = 0; i < nbb_cells.length; ++i) {\n",
       "                    if (nbb_cells[i].input_prompt_number == nbb_cell_id) {\n",
       "                        if (nbb_cells[i].get_text() == nbb_unformatted_code) {\n",
       "                             nbb_cells[i].set_text(nbb_formatted_code);\n",
       "                        }\n",
       "                        break;\n",
       "                    }\n",
       "                }\n",
       "            }, 500);\n",
       "            "
      ],
      "text/plain": [
       "<IPython.core.display.Javascript object>"
      ]
     },
     "metadata": {},
     "output_type": "display_data"
    }
   ],
   "source": [
    "import pandas as pd\n",
    "import numpy as np\n",
    "from matplotlib import pyplot as plt\n",
    "from sklearn import metrics as m\n",
    "from sklearn.datasets import make_classification\n",
    "from imblearn.over_sampling import SMOTE  # doctest: +NORMALIZE_WHITESPACE\n",
    "from sklearn.metrics import confusion_matrix\n",
    "from sklearn.metrics import classification_report\n",
    "from sklearn.model_selection import train_test_split\n",
    "from collections import Counter\n",
    "from sklearn.linear_model import LogisticRegression\n",
    "from sklearn.neighbors import KNeighborsClassifier\n",
    "from sklearn.svm import SVC\n",
    "from sklearn.model_selection import GridSearchCV\n",
    "from sklearn.model_selection import RandomizedSearchCV\n",
    "from sklearn.ensemble import RandomForestClassifier\n",
    "from sklearn.ensemble import VotingClassifier\n",
    "import xgboost as xgb\n",
    "from sklearn.pipeline import make_pipeline\n",
    "from mlxtend.feature_selection import ColumnSelector\n",
    "from sklearn import model_selection\n",
    "from mlxtend.classifier import StackingClassifier\n",
    "from thundersvm import SVC as svmgpu\n",
    "\n",
    "# import PPOCS as p\n",
    "from sklearn.utils import shuffle\n",
    "import math\n",
    "\n",
    "import warnings\n",
    "\n",
    "warnings.filterwarnings(\"ignore\")\n",
    "randomseed = 45\n",
    "np.random.seed(randomseed)"
   ]
  },
  {
   "cell_type": "markdown",
   "metadata": {},
   "source": [
    "# 1. Read the dataset"
   ]
  },
  {
   "cell_type": "code",
   "execution_count": 5,
   "metadata": {},
   "outputs": [
    {
     "name": "stdout",
     "output_type": "stream",
     "text": [
      "(20414, 20)\n"
     ]
    },
    {
     "data": {
      "application/javascript": [
       "\n",
       "            setTimeout(function() {\n",
       "                var nbb_cell_id = 5;\n",
       "                var nbb_unformatted_code = \"x_original = pd.read_csv(\\\"XLable_onlyDiabeticRemoved.txt\\\")\\n\\nconditions = [\\n    (x_original.L100800 < 100),\\n    (x_original.L100800 >= 100) & (x_original.L100800 < 126),\\n    (x_original.L100800 >= 126),\\n]\\nchoices = [0, 1, 2]\\nx_original[\\\"CLASS\\\"] = np.select(conditions, choices, default=0)\\nx_original = x_original[\\n    [\\n        \\\"Unnamed: 0\\\",\\n        \\\"L100800\\\",\\n        \\\"L104600\\\",\\n        \\\"L103000\\\",\\n        \\\"S000300\\\",\\n        \\\"L101700\\\",\\n        \\\"L100700\\\",\\n        \\\"FIELD_33\\\",\\n        \\\"FIELD_38\\\",\\n        \\\"FIELD_40\\\",\\n        \\\"FIELD_31\\\",\\n        \\\"SEX\\\",\\n        \\\"AGE\\\",  #'CLASS',\\n        \\\"FIELD_16\\\",\\n        \\\"FIELD_23\\\",\\n        \\\"FIELD_15\\\",\\n        \\\"FIELD_22\\\",\\n        \\\"FIELD_17\\\",\\n        \\\"FIELD_24\\\",\\n        \\\"FIELD_1\\\",\\n    ]\\n]\\n\\nprint(x_original.shape)\";\n",
       "                var nbb_formatted_code = \"x_original = pd.read_csv(\\\"XLable_onlyDiabeticRemoved.txt\\\")\\n\\nconditions = [\\n    (x_original.L100800 < 100),\\n    (x_original.L100800 >= 100) & (x_original.L100800 < 126),\\n    (x_original.L100800 >= 126),\\n]\\nchoices = [0, 1, 2]\\nx_original[\\\"CLASS\\\"] = np.select(conditions, choices, default=0)\\nx_original = x_original[\\n    [\\n        \\\"Unnamed: 0\\\",\\n        \\\"L100800\\\",\\n        \\\"L104600\\\",\\n        \\\"L103000\\\",\\n        \\\"S000300\\\",\\n        \\\"L101700\\\",\\n        \\\"L100700\\\",\\n        \\\"FIELD_33\\\",\\n        \\\"FIELD_38\\\",\\n        \\\"FIELD_40\\\",\\n        \\\"FIELD_31\\\",\\n        \\\"SEX\\\",\\n        \\\"AGE\\\",  #'CLASS',\\n        \\\"FIELD_16\\\",\\n        \\\"FIELD_23\\\",\\n        \\\"FIELD_15\\\",\\n        \\\"FIELD_22\\\",\\n        \\\"FIELD_17\\\",\\n        \\\"FIELD_24\\\",\\n        \\\"FIELD_1\\\",\\n    ]\\n]\\n\\nprint(x_original.shape)\";\n",
       "                var nbb_cells = Jupyter.notebook.get_cells();\n",
       "                for (var i = 0; i < nbb_cells.length; ++i) {\n",
       "                    if (nbb_cells[i].input_prompt_number == nbb_cell_id) {\n",
       "                        if (nbb_cells[i].get_text() == nbb_unformatted_code) {\n",
       "                             nbb_cells[i].set_text(nbb_formatted_code);\n",
       "                        }\n",
       "                        break;\n",
       "                    }\n",
       "                }\n",
       "            }, 500);\n",
       "            "
      ],
      "text/plain": [
       "<IPython.core.display.Javascript object>"
      ]
     },
     "metadata": {},
     "output_type": "display_data"
    }
   ],
   "source": [
    "x_original = pd.read_csv(\"XLable_onlyDiabeticRemoved.txt\")\n",
    "\n",
    "conditions = [\n",
    "    (x_original.L100800 < 100),\n",
    "    (x_original.L100800 >= 100) & (x_original.L100800 < 126),\n",
    "    (x_original.L100800 >= 126),\n",
    "]\n",
    "choices = [0, 1, 2]\n",
    "x_original[\"CLASS\"] = np.select(conditions, choices, default=0)\n",
    "x_original = x_original[\n",
    "    [\n",
    "        \"Unnamed: 0\",\n",
    "        \"L100800\",\n",
    "        \"L104600\",\n",
    "        \"L103000\",\n",
    "        \"S000300\",\n",
    "        \"L101700\",\n",
    "        \"L100700\",\n",
    "        \"FIELD_33\",\n",
    "        \"FIELD_38\",\n",
    "        \"FIELD_40\",\n",
    "        \"FIELD_31\",\n",
    "        \"SEX\",\n",
    "        \"AGE\",  #'CLASS',\n",
    "        \"FIELD_16\",\n",
    "        \"FIELD_23\",\n",
    "        \"FIELD_15\",\n",
    "        \"FIELD_22\",\n",
    "        \"FIELD_17\",\n",
    "        \"FIELD_24\",\n",
    "        \"FIELD_1\",\n",
    "    ]\n",
    "]\n",
    "\n",
    "print(x_original.shape)"
   ]
  },
  {
   "cell_type": "code",
   "execution_count": 6,
   "metadata": {},
   "outputs": [
    {
     "name": "stdout",
     "output_type": "stream",
     "text": [
      "(20414, 20)\n"
     ]
    },
    {
     "data": {
      "application/javascript": [
       "\n",
       "            setTimeout(function() {\n",
       "                var nbb_cell_id = 6;\n",
       "                var nbb_unformatted_code = \"x_original2 = pd.read_csv(\\\"XLable_onlyDiabeticRemoved2.txt\\\")\\n\\nconditions = [\\n    (x_original2.L100800 < 100),\\n    (x_original2.L100800 >= 100) & (x_original2.L100800 < 126),\\n    (x_original2.L100800 >= 126),\\n]\\nchoices = [0, 1, 2]\\nx_original2[\\\"CLASS\\\"] = np.select(conditions, choices, default=0)\\nx_original2 = x_original2[\\n    [\\n        \\\"Unnamed: 0\\\",\\n        \\\"L100800\\\",\\n        \\\"L104600\\\",\\n        \\\"L103000\\\",\\n        \\\"S000300\\\",\\n        \\\"L101700\\\",\\n        \\\"L100700\\\",\\n        \\\"FIELD_33\\\",\\n        \\\"FIELD_38\\\",\\n        \\\"FIELD_40\\\",\\n        \\\"FIELD_31\\\",\\n        \\\"SEX\\\",\\n        \\\"AGE\\\",  #'CLASS',\\n        \\\"FIELD_16\\\",\\n        \\\"FIELD_23\\\",\\n        \\\"FIELD_15\\\",\\n        \\\"FIELD_22\\\",\\n        \\\"FIELD_17\\\",\\n        \\\"FIELD_24\\\",\\n        \\\"FIELD_1\\\",\\n    ]\\n]\\n\\nprint(x_original2.shape)\";\n",
       "                var nbb_formatted_code = \"x_original2 = pd.read_csv(\\\"XLable_onlyDiabeticRemoved2.txt\\\")\\n\\nconditions = [\\n    (x_original2.L100800 < 100),\\n    (x_original2.L100800 >= 100) & (x_original2.L100800 < 126),\\n    (x_original2.L100800 >= 126),\\n]\\nchoices = [0, 1, 2]\\nx_original2[\\\"CLASS\\\"] = np.select(conditions, choices, default=0)\\nx_original2 = x_original2[\\n    [\\n        \\\"Unnamed: 0\\\",\\n        \\\"L100800\\\",\\n        \\\"L104600\\\",\\n        \\\"L103000\\\",\\n        \\\"S000300\\\",\\n        \\\"L101700\\\",\\n        \\\"L100700\\\",\\n        \\\"FIELD_33\\\",\\n        \\\"FIELD_38\\\",\\n        \\\"FIELD_40\\\",\\n        \\\"FIELD_31\\\",\\n        \\\"SEX\\\",\\n        \\\"AGE\\\",  #'CLASS',\\n        \\\"FIELD_16\\\",\\n        \\\"FIELD_23\\\",\\n        \\\"FIELD_15\\\",\\n        \\\"FIELD_22\\\",\\n        \\\"FIELD_17\\\",\\n        \\\"FIELD_24\\\",\\n        \\\"FIELD_1\\\",\\n    ]\\n]\\n\\nprint(x_original2.shape)\";\n",
       "                var nbb_cells = Jupyter.notebook.get_cells();\n",
       "                for (var i = 0; i < nbb_cells.length; ++i) {\n",
       "                    if (nbb_cells[i].input_prompt_number == nbb_cell_id) {\n",
       "                        if (nbb_cells[i].get_text() == nbb_unformatted_code) {\n",
       "                             nbb_cells[i].set_text(nbb_formatted_code);\n",
       "                        }\n",
       "                        break;\n",
       "                    }\n",
       "                }\n",
       "            }, 500);\n",
       "            "
      ],
      "text/plain": [
       "<IPython.core.display.Javascript object>"
      ]
     },
     "metadata": {},
     "output_type": "display_data"
    }
   ],
   "source": [
    "x_original2 = pd.read_csv(\"XLable_onlyDiabeticRemoved2.txt\")\n",
    "\n",
    "conditions = [\n",
    "    (x_original2.L100800 < 100),\n",
    "    (x_original2.L100800 >= 100) & (x_original2.L100800 < 126),\n",
    "    (x_original2.L100800 >= 126),\n",
    "]\n",
    "choices = [0, 1, 2]\n",
    "x_original2[\"CLASS\"] = np.select(conditions, choices, default=0)\n",
    "x_original2 = x_original2[\n",
    "    [\n",
    "        \"Unnamed: 0\",\n",
    "        \"L100800\",\n",
    "        \"L104600\",\n",
    "        \"L103000\",\n",
    "        \"S000300\",\n",
    "        \"L101700\",\n",
    "        \"L100700\",\n",
    "        \"FIELD_33\",\n",
    "        \"FIELD_38\",\n",
    "        \"FIELD_40\",\n",
    "        \"FIELD_31\",\n",
    "        \"SEX\",\n",
    "        \"AGE\",  #'CLASS',\n",
    "        \"FIELD_16\",\n",
    "        \"FIELD_23\",\n",
    "        \"FIELD_15\",\n",
    "        \"FIELD_22\",\n",
    "        \"FIELD_17\",\n",
    "        \"FIELD_24\",\n",
    "        \"FIELD_1\",\n",
    "    ]\n",
    "]\n",
    "\n",
    "print(x_original2.shape)"
   ]
  },
  {
   "cell_type": "code",
   "execution_count": 7,
   "metadata": {},
   "outputs": [
    {
     "name": "stdout",
     "output_type": "stream",
     "text": [
      "(20414, 20)\n"
     ]
    },
    {
     "data": {
      "application/javascript": [
       "\n",
       "            setTimeout(function() {\n",
       "                var nbb_cell_id = 7;\n",
       "                var nbb_unformatted_code = \"x_original3 = pd.read_csv(\\\"XLable_onlyDiabeticRemoved3.txt\\\")\\n\\nconditions = [\\n    (x_original3.L100800 < 100),\\n    (x_original3.L100800 >= 100) & (x_original3.L100800 < 126),\\n    (x_original3.L100800 >= 126),\\n]\\n\\nchoices = [0, 1, 2]\\nx_original3[\\\"CLASS\\\"] = np.select(conditions, choices, default=0)\\n\\nx_original3 = x_original3[\\n    [\\n        \\\"Unnamed: 0\\\",\\n        \\\"L100800\\\",\\n        \\\"L104600\\\",\\n        \\\"L103000\\\",\\n        \\\"S000300\\\",\\n        \\\"L101700\\\",\\n        \\\"L100700\\\",\\n        \\\"FIELD_33\\\",\\n        \\\"FIELD_38\\\",\\n        \\\"FIELD_40\\\",\\n        \\\"FIELD_31\\\",\\n        \\\"SEX\\\",\\n        \\\"AGE\\\",  #'CLASS',\\n        \\\"FIELD_16\\\",\\n        \\\"FIELD_23\\\",\\n        \\\"FIELD_15\\\",\\n        \\\"FIELD_22\\\",\\n        \\\"FIELD_17\\\",\\n        \\\"FIELD_24\\\",\\n        \\\"FIELD_1\\\",\\n    ]\\n]\\n\\nprint(x_original3.shape)\";\n",
       "                var nbb_formatted_code = \"x_original3 = pd.read_csv(\\\"XLable_onlyDiabeticRemoved3.txt\\\")\\n\\nconditions = [\\n    (x_original3.L100800 < 100),\\n    (x_original3.L100800 >= 100) & (x_original3.L100800 < 126),\\n    (x_original3.L100800 >= 126),\\n]\\n\\nchoices = [0, 1, 2]\\nx_original3[\\\"CLASS\\\"] = np.select(conditions, choices, default=0)\\n\\nx_original3 = x_original3[\\n    [\\n        \\\"Unnamed: 0\\\",\\n        \\\"L100800\\\",\\n        \\\"L104600\\\",\\n        \\\"L103000\\\",\\n        \\\"S000300\\\",\\n        \\\"L101700\\\",\\n        \\\"L100700\\\",\\n        \\\"FIELD_33\\\",\\n        \\\"FIELD_38\\\",\\n        \\\"FIELD_40\\\",\\n        \\\"FIELD_31\\\",\\n        \\\"SEX\\\",\\n        \\\"AGE\\\",  #'CLASS',\\n        \\\"FIELD_16\\\",\\n        \\\"FIELD_23\\\",\\n        \\\"FIELD_15\\\",\\n        \\\"FIELD_22\\\",\\n        \\\"FIELD_17\\\",\\n        \\\"FIELD_24\\\",\\n        \\\"FIELD_1\\\",\\n    ]\\n]\\n\\nprint(x_original3.shape)\";\n",
       "                var nbb_cells = Jupyter.notebook.get_cells();\n",
       "                for (var i = 0; i < nbb_cells.length; ++i) {\n",
       "                    if (nbb_cells[i].input_prompt_number == nbb_cell_id) {\n",
       "                        if (nbb_cells[i].get_text() == nbb_unformatted_code) {\n",
       "                             nbb_cells[i].set_text(nbb_formatted_code);\n",
       "                        }\n",
       "                        break;\n",
       "                    }\n",
       "                }\n",
       "            }, 500);\n",
       "            "
      ],
      "text/plain": [
       "<IPython.core.display.Javascript object>"
      ]
     },
     "metadata": {},
     "output_type": "display_data"
    }
   ],
   "source": [
    "x_original3 = pd.read_csv(\"XLable_onlyDiabeticRemoved3.txt\")\n",
    "\n",
    "conditions = [\n",
    "    (x_original3.L100800 < 100),\n",
    "    (x_original3.L100800 >= 100) & (x_original3.L100800 < 126),\n",
    "    (x_original3.L100800 >= 126),\n",
    "]\n",
    "\n",
    "choices = [0, 1, 2]\n",
    "x_original3[\"CLASS\"] = np.select(conditions, choices, default=0)\n",
    "\n",
    "x_original3 = x_original3[\n",
    "    [\n",
    "        \"Unnamed: 0\",\n",
    "        \"L100800\",\n",
    "        \"L104600\",\n",
    "        \"L103000\",\n",
    "        \"S000300\",\n",
    "        \"L101700\",\n",
    "        \"L100700\",\n",
    "        \"FIELD_33\",\n",
    "        \"FIELD_38\",\n",
    "        \"FIELD_40\",\n",
    "        \"FIELD_31\",\n",
    "        \"SEX\",\n",
    "        \"AGE\",  #'CLASS',\n",
    "        \"FIELD_16\",\n",
    "        \"FIELD_23\",\n",
    "        \"FIELD_15\",\n",
    "        \"FIELD_22\",\n",
    "        \"FIELD_17\",\n",
    "        \"FIELD_24\",\n",
    "        \"FIELD_1\",\n",
    "    ]\n",
    "]\n",
    "\n",
    "print(x_original3.shape)"
   ]
  },
  {
   "cell_type": "code",
   "execution_count": 20,
   "metadata": {},
   "outputs": [
    {
     "name": "stdout",
     "output_type": "stream",
     "text": [
      "(20414, 20)\n"
     ]
    },
    {
     "data": {
      "application/javascript": [
       "\n",
       "            setTimeout(function() {\n",
       "                var nbb_cell_id = 20;\n",
       "                var nbb_unformatted_code = \"x_original4 = pd.read_csv(\\\"XLable_onlyDiabeticRemoved4.txt\\\")\\n\\nconditions = [\\n    (x_original4.L100800 < 100),\\n    (x_original4.L100800 >= 100) & (x_original4.L100800 < 126),\\n    (x_original4.L100800 >= 126),\\n]\\n\\nchoices = [0, 1, 2]\\nx_original4[\\\"CLASS\\\"] = np.select(conditions, choices, default=0)\\n\\nx_original4 = x_original4[\\n    [\\n        \\\"Unnamed: 0\\\",\\n        \\\"L100800\\\",\\n        \\\"L104600\\\",\\n        \\\"L103000\\\",\\n        \\\"S000300\\\",\\n        \\\"L101700\\\",\\n        \\\"L100700\\\",\\n        \\\"FIELD_33\\\",\\n        \\\"FIELD_38\\\",\\n        \\\"FIELD_40\\\",\\n        \\\"FIELD_31\\\",\\n        \\\"SEX\\\",\\n        \\\"AGE\\\",  #'CLASS',\\n        \\\"FIELD_16\\\",\\n        \\\"FIELD_23\\\",\\n        \\\"FIELD_15\\\",\\n        \\\"FIELD_22\\\",\\n        \\\"FIELD_17\\\",\\n        \\\"FIELD_24\\\",\\n        \\\"FIELD_1\\\",\\n    ]\\n]\\n\\nx_original4=x_original4.rename(\\n    columns={\\n        \\\"Unnamed: 0\\\": \\\"Unnamed: 0\\\",\\n        \\\"L100800\\\": \\\"L100800_z\\\",\\n        \\\"L104600\\\": \\\"L104600_z\\\",\\n        \\\"L103000\\\": \\\"L103000_z\\\",\\n        \\\"S000300\\\": \\\"S000300_z\\\",\\n        \\\"L101700\\\": \\\"L101700_z\\\",\\n        \\\"L100700\\\": \\\"L100700_z\\\",\\n        \\\"FIELD_33\\\": \\\"FIELD_33_z\\\",\\n        \\\"FIELD_38\\\": \\\"FIELD_38_z\\\",\\n        \\\"FIELD_40\\\": \\\"FIELD_40_z\\\",\\n        \\\"FIELD_31\\\": \\\"FIELD_31_z\\\",\\n        \\\"SEX\\\": \\\"SEX_z\\\",\\n        \\\"AGE\\\": \\\"AGE_z\\\",\\n        \\\"FIELD_16\\\": \\\"FIELD_16_z\\\",\\n        \\\"FIELD_23\\\": \\\"FIELD_23_z\\\",\\n        \\\"FIELD_15\\\": \\\"FIELD_15_z\\\",\\n        \\\"FIELD_22\\\": \\\"FIELD_22_z\\\",\\n        \\\"FIELD_17\\\": \\\"FIELD_17_z\\\",\\n        \\\"FIELD_24\\\": \\\"FIELD_24_z\\\",\\n        \\\"FIELD_1\\\": \\\"FIELD_1\\\",\\n    }\\n)\\n\\nprint(x_original4.shape)\";\n",
       "                var nbb_formatted_code = \"x_original4 = pd.read_csv(\\\"XLable_onlyDiabeticRemoved4.txt\\\")\\n\\nconditions = [\\n    (x_original4.L100800 < 100),\\n    (x_original4.L100800 >= 100) & (x_original4.L100800 < 126),\\n    (x_original4.L100800 >= 126),\\n]\\n\\nchoices = [0, 1, 2]\\nx_original4[\\\"CLASS\\\"] = np.select(conditions, choices, default=0)\\n\\nx_original4 = x_original4[\\n    [\\n        \\\"Unnamed: 0\\\",\\n        \\\"L100800\\\",\\n        \\\"L104600\\\",\\n        \\\"L103000\\\",\\n        \\\"S000300\\\",\\n        \\\"L101700\\\",\\n        \\\"L100700\\\",\\n        \\\"FIELD_33\\\",\\n        \\\"FIELD_38\\\",\\n        \\\"FIELD_40\\\",\\n        \\\"FIELD_31\\\",\\n        \\\"SEX\\\",\\n        \\\"AGE\\\",  #'CLASS',\\n        \\\"FIELD_16\\\",\\n        \\\"FIELD_23\\\",\\n        \\\"FIELD_15\\\",\\n        \\\"FIELD_22\\\",\\n        \\\"FIELD_17\\\",\\n        \\\"FIELD_24\\\",\\n        \\\"FIELD_1\\\",\\n    ]\\n]\\n\\nx_original4 = x_original4.rename(\\n    columns={\\n        \\\"Unnamed: 0\\\": \\\"Unnamed: 0\\\",\\n        \\\"L100800\\\": \\\"L100800_z\\\",\\n        \\\"L104600\\\": \\\"L104600_z\\\",\\n        \\\"L103000\\\": \\\"L103000_z\\\",\\n        \\\"S000300\\\": \\\"S000300_z\\\",\\n        \\\"L101700\\\": \\\"L101700_z\\\",\\n        \\\"L100700\\\": \\\"L100700_z\\\",\\n        \\\"FIELD_33\\\": \\\"FIELD_33_z\\\",\\n        \\\"FIELD_38\\\": \\\"FIELD_38_z\\\",\\n        \\\"FIELD_40\\\": \\\"FIELD_40_z\\\",\\n        \\\"FIELD_31\\\": \\\"FIELD_31_z\\\",\\n        \\\"SEX\\\": \\\"SEX_z\\\",\\n        \\\"AGE\\\": \\\"AGE_z\\\",\\n        \\\"FIELD_16\\\": \\\"FIELD_16_z\\\",\\n        \\\"FIELD_23\\\": \\\"FIELD_23_z\\\",\\n        \\\"FIELD_15\\\": \\\"FIELD_15_z\\\",\\n        \\\"FIELD_22\\\": \\\"FIELD_22_z\\\",\\n        \\\"FIELD_17\\\": \\\"FIELD_17_z\\\",\\n        \\\"FIELD_24\\\": \\\"FIELD_24_z\\\",\\n        \\\"FIELD_1\\\": \\\"FIELD_1\\\",\\n    }\\n)\\n\\nprint(x_original4.shape)\";\n",
       "                var nbb_cells = Jupyter.notebook.get_cells();\n",
       "                for (var i = 0; i < nbb_cells.length; ++i) {\n",
       "                    if (nbb_cells[i].input_prompt_number == nbb_cell_id) {\n",
       "                        if (nbb_cells[i].get_text() == nbb_unformatted_code) {\n",
       "                             nbb_cells[i].set_text(nbb_formatted_code);\n",
       "                        }\n",
       "                        break;\n",
       "                    }\n",
       "                }\n",
       "            }, 500);\n",
       "            "
      ],
      "text/plain": [
       "<IPython.core.display.Javascript object>"
      ]
     },
     "metadata": {},
     "output_type": "display_data"
    }
   ],
   "source": [
    "x_original4 = pd.read_csv(\"XLable_onlyDiabeticRemoved4.txt\")\n",
    "\n",
    "conditions = [\n",
    "    (x_original4.L100800 < 100),\n",
    "    (x_original4.L100800 >= 100) & (x_original4.L100800 < 126),\n",
    "    (x_original4.L100800 >= 126),\n",
    "]\n",
    "\n",
    "choices = [0, 1, 2]\n",
    "x_original4[\"CLASS\"] = np.select(conditions, choices, default=0)\n",
    "\n",
    "x_original4 = x_original4[\n",
    "    [\n",
    "        \"Unnamed: 0\",\n",
    "        \"L100800\",\n",
    "        \"L104600\",\n",
    "        \"L103000\",\n",
    "        \"S000300\",\n",
    "        \"L101700\",\n",
    "        \"L100700\",\n",
    "        \"FIELD_33\",\n",
    "        \"FIELD_38\",\n",
    "        \"FIELD_40\",\n",
    "        \"FIELD_31\",\n",
    "        \"SEX\",\n",
    "        \"AGE\",  #'CLASS',\n",
    "        \"FIELD_16\",\n",
    "        \"FIELD_23\",\n",
    "        \"FIELD_15\",\n",
    "        \"FIELD_22\",\n",
    "        \"FIELD_17\",\n",
    "        \"FIELD_24\",\n",
    "        \"FIELD_1\",\n",
    "    ]\n",
    "]\n",
    "\n",
    "x_original4 = x_original4.rename(\n",
    "    columns={\n",
    "        \"Unnamed: 0\": \"Unnamed: 0\",\n",
    "        \"L100800\": \"L100800_z\",\n",
    "        \"L104600\": \"L104600_z\",\n",
    "        \"L103000\": \"L103000_z\",\n",
    "        \"S000300\": \"S000300_z\",\n",
    "        \"L101700\": \"L101700_z\",\n",
    "        \"L100700\": \"L100700_z\",\n",
    "        \"FIELD_33\": \"FIELD_33_z\",\n",
    "        \"FIELD_38\": \"FIELD_38_z\",\n",
    "        \"FIELD_40\": \"FIELD_40_z\",\n",
    "        \"FIELD_31\": \"FIELD_31_z\",\n",
    "        \"SEX\": \"SEX_z\",\n",
    "        \"AGE\": \"AGE_z\",\n",
    "        \"FIELD_16\": \"FIELD_16_z\",\n",
    "        \"FIELD_23\": \"FIELD_23_z\",\n",
    "        \"FIELD_15\": \"FIELD_15_z\",\n",
    "        \"FIELD_22\": \"FIELD_22_z\",\n",
    "        \"FIELD_17\": \"FIELD_17_z\",\n",
    "        \"FIELD_24\": \"FIELD_24_z\",\n",
    "        \"FIELD_1\": \"FIELD_1\",\n",
    "    }\n",
    ")\n",
    "\n",
    "print(x_original4.shape)"
   ]
  },
  {
   "cell_type": "code",
   "execution_count": 21,
   "metadata": {},
   "outputs": [
    {
     "name": "stdout",
     "output_type": "stream",
     "text": [
      "(20414, 3)\n"
     ]
    },
    {
     "data": {
      "application/javascript": [
       "\n",
       "            setTimeout(function() {\n",
       "                var nbb_cell_id = 21;\n",
       "                var nbb_unformatted_code = \"y_original = pd.read_csv(\\\"TargetLable_onlyDiabeticRemoved.txt\\\")\\n\\nconditions = [\\n    (y_original.L100800 < 100),\\n    (y_original.L100800 >= 100) & (y_original.L100800 < 126),\\n    (y_original.L100800 >= 126),\\n]\\n\\nchoices = [0, 1, 2]\\ny_original[\\\"CLASS\\\"] = np.select(conditions, choices, default=0)\\n\\ny_original = y_original[[\\\"Unnamed: 0\\\", \\\"FIELD_1\\\", \\\"CLASS\\\"]]\\n\\nprint(y_original.shape)\";\n",
       "                var nbb_formatted_code = \"y_original = pd.read_csv(\\\"TargetLable_onlyDiabeticRemoved.txt\\\")\\n\\nconditions = [\\n    (y_original.L100800 < 100),\\n    (y_original.L100800 >= 100) & (y_original.L100800 < 126),\\n    (y_original.L100800 >= 126),\\n]\\n\\nchoices = [0, 1, 2]\\ny_original[\\\"CLASS\\\"] = np.select(conditions, choices, default=0)\\n\\ny_original = y_original[[\\\"Unnamed: 0\\\", \\\"FIELD_1\\\", \\\"CLASS\\\"]]\\n\\nprint(y_original.shape)\";\n",
       "                var nbb_cells = Jupyter.notebook.get_cells();\n",
       "                for (var i = 0; i < nbb_cells.length; ++i) {\n",
       "                    if (nbb_cells[i].input_prompt_number == nbb_cell_id) {\n",
       "                        if (nbb_cells[i].get_text() == nbb_unformatted_code) {\n",
       "                             nbb_cells[i].set_text(nbb_formatted_code);\n",
       "                        }\n",
       "                        break;\n",
       "                    }\n",
       "                }\n",
       "            }, 500);\n",
       "            "
      ],
      "text/plain": [
       "<IPython.core.display.Javascript object>"
      ]
     },
     "metadata": {},
     "output_type": "display_data"
    }
   ],
   "source": [
    "y_original = pd.read_csv(\"TargetLable_onlyDiabeticRemoved.txt\")\n",
    "\n",
    "conditions = [\n",
    "    (y_original.L100800 < 100),\n",
    "    (y_original.L100800 >= 100) & (y_original.L100800 < 126),\n",
    "    (y_original.L100800 >= 126),\n",
    "]\n",
    "\n",
    "choices = [0, 1, 2]\n",
    "y_original[\"CLASS\"] = np.select(conditions, choices, default=0)\n",
    "\n",
    "y_original = y_original[[\"Unnamed: 0\", \"FIELD_1\", \"CLASS\"]]\n",
    "\n",
    "print(y_original.shape)"
   ]
  },
  {
   "cell_type": "code",
   "execution_count": 22,
   "metadata": {},
   "outputs": [
    {
     "data": {
      "text/html": [
       "<div>\n",
       "<style scoped>\n",
       "    .dataframe tbody tr th:only-of-type {\n",
       "        vertical-align: middle;\n",
       "    }\n",
       "\n",
       "    .dataframe tbody tr th {\n",
       "        vertical-align: top;\n",
       "    }\n",
       "\n",
       "    .dataframe thead th {\n",
       "        text-align: right;\n",
       "    }\n",
       "</style>\n",
       "<table border=\"1\" class=\"dataframe\">\n",
       "  <thead>\n",
       "    <tr style=\"text-align: right;\">\n",
       "      <th></th>\n",
       "      <th>Unnamed: 0</th>\n",
       "      <th>L100800_x</th>\n",
       "      <th>L104600_x</th>\n",
       "      <th>L103000_x</th>\n",
       "      <th>S000300_x</th>\n",
       "      <th>L101700_x</th>\n",
       "      <th>L100700_x</th>\n",
       "      <th>FIELD_33_x</th>\n",
       "      <th>FIELD_38_x</th>\n",
       "      <th>FIELD_40_x</th>\n",
       "      <th>...</th>\n",
       "      <th>FIELD_40_y</th>\n",
       "      <th>FIELD_31_y</th>\n",
       "      <th>SEX_y</th>\n",
       "      <th>AGE_y</th>\n",
       "      <th>FIELD_16_y</th>\n",
       "      <th>FIELD_23_y</th>\n",
       "      <th>FIELD_15_y</th>\n",
       "      <th>FIELD_22_y</th>\n",
       "      <th>FIELD_17_y</th>\n",
       "      <th>FIELD_24_y</th>\n",
       "    </tr>\n",
       "  </thead>\n",
       "  <tbody>\n",
       "    <tr>\n",
       "      <th>0</th>\n",
       "      <td>0</td>\n",
       "      <td>78.0</td>\n",
       "      <td>NaN</td>\n",
       "      <td>92.0</td>\n",
       "      <td>23.5</td>\n",
       "      <td>13.0</td>\n",
       "      <td>4.3</td>\n",
       "      <td>1.0</td>\n",
       "      <td>0.0</td>\n",
       "      <td>3.0</td>\n",
       "      <td>...</td>\n",
       "      <td>3.0</td>\n",
       "      <td>0.0</td>\n",
       "      <td>1.0</td>\n",
       "      <td>68.0</td>\n",
       "      <td>0.0</td>\n",
       "      <td>0.0</td>\n",
       "      <td>0.0</td>\n",
       "      <td>0.0</td>\n",
       "      <td>1.0</td>\n",
       "      <td>1.0</td>\n",
       "    </tr>\n",
       "    <tr>\n",
       "      <th>1</th>\n",
       "      <td>1</td>\n",
       "      <td>91.0</td>\n",
       "      <td>NaN</td>\n",
       "      <td>492.0</td>\n",
       "      <td>25.4</td>\n",
       "      <td>27.0</td>\n",
       "      <td>4.9</td>\n",
       "      <td>1.0</td>\n",
       "      <td>0.0</td>\n",
       "      <td>0.0</td>\n",
       "      <td>...</td>\n",
       "      <td>0.0</td>\n",
       "      <td>0.0</td>\n",
       "      <td>1.0</td>\n",
       "      <td>58.0</td>\n",
       "      <td>0.0</td>\n",
       "      <td>0.0</td>\n",
       "      <td>0.0</td>\n",
       "      <td>0.0</td>\n",
       "      <td>0.0</td>\n",
       "      <td>0.0</td>\n",
       "    </tr>\n",
       "    <tr>\n",
       "      <th>2</th>\n",
       "      <td>2</td>\n",
       "      <td>121.0</td>\n",
       "      <td>NaN</td>\n",
       "      <td>131.0</td>\n",
       "      <td>23.5</td>\n",
       "      <td>94.0</td>\n",
       "      <td>4.2</td>\n",
       "      <td>1.0</td>\n",
       "      <td>0.0</td>\n",
       "      <td>1.0</td>\n",
       "      <td>...</td>\n",
       "      <td>0.0</td>\n",
       "      <td>0.0</td>\n",
       "      <td>1.0</td>\n",
       "      <td>60.0</td>\n",
       "      <td>0.0</td>\n",
       "      <td>0.0</td>\n",
       "      <td>1.0</td>\n",
       "      <td>1.0</td>\n",
       "      <td>1.0</td>\n",
       "      <td>1.0</td>\n",
       "    </tr>\n",
       "    <tr>\n",
       "      <th>3</th>\n",
       "      <td>3</td>\n",
       "      <td>96.0</td>\n",
       "      <td>NaN</td>\n",
       "      <td>53.0</td>\n",
       "      <td>18.3</td>\n",
       "      <td>15.0</td>\n",
       "      <td>5.2</td>\n",
       "      <td>1.0</td>\n",
       "      <td>0.0</td>\n",
       "      <td>3.0</td>\n",
       "      <td>...</td>\n",
       "      <td>2.0</td>\n",
       "      <td>0.0</td>\n",
       "      <td>1.0</td>\n",
       "      <td>17.0</td>\n",
       "      <td>0.0</td>\n",
       "      <td>0.0</td>\n",
       "      <td>0.0</td>\n",
       "      <td>0.0</td>\n",
       "      <td>0.0</td>\n",
       "      <td>0.0</td>\n",
       "    </tr>\n",
       "    <tr>\n",
       "      <th>4</th>\n",
       "      <td>4</td>\n",
       "      <td>84.0</td>\n",
       "      <td>5.0</td>\n",
       "      <td>84.0</td>\n",
       "      <td>19.9</td>\n",
       "      <td>11.0</td>\n",
       "      <td>5.1</td>\n",
       "      <td>1.0</td>\n",
       "      <td>1.0</td>\n",
       "      <td>1.0</td>\n",
       "      <td>...</td>\n",
       "      <td>2.0</td>\n",
       "      <td>0.0</td>\n",
       "      <td>1.0</td>\n",
       "      <td>20.0</td>\n",
       "      <td>0.0</td>\n",
       "      <td>0.0</td>\n",
       "      <td>0.0</td>\n",
       "      <td>0.0</td>\n",
       "      <td>0.0</td>\n",
       "      <td>0.0</td>\n",
       "    </tr>\n",
       "  </tbody>\n",
       "</table>\n",
       "<p>5 rows × 38 columns</p>\n",
       "</div>"
      ],
      "text/plain": [
       "   Unnamed: 0  L100800_x  L104600_x  L103000_x  S000300_x  L101700_x  \\\n",
       "0           0       78.0        NaN       92.0       23.5       13.0   \n",
       "1           1       91.0        NaN      492.0       25.4       27.0   \n",
       "2           2      121.0        NaN      131.0       23.5       94.0   \n",
       "3           3       96.0        NaN       53.0       18.3       15.0   \n",
       "4           4       84.0        5.0       84.0       19.9       11.0   \n",
       "\n",
       "   L100700_x  FIELD_33_x  FIELD_38_x  FIELD_40_x  ...  FIELD_40_y  FIELD_31_y  \\\n",
       "0        4.3         1.0         0.0         3.0  ...         3.0         0.0   \n",
       "1        4.9         1.0         0.0         0.0  ...         0.0         0.0   \n",
       "2        4.2         1.0         0.0         1.0  ...         0.0         0.0   \n",
       "3        5.2         1.0         0.0         3.0  ...         2.0         0.0   \n",
       "4        5.1         1.0         1.0         1.0  ...         2.0         0.0   \n",
       "\n",
       "   SEX_y  AGE_y  FIELD_16_y  FIELD_23_y  FIELD_15_y  FIELD_22_y  FIELD_17_y  \\\n",
       "0    1.0   68.0         0.0         0.0         0.0         0.0         1.0   \n",
       "1    1.0   58.0         0.0         0.0         0.0         0.0         0.0   \n",
       "2    1.0   60.0         0.0         0.0         1.0         1.0         1.0   \n",
       "3    1.0   17.0         0.0         0.0         0.0         0.0         0.0   \n",
       "4    1.0   20.0         0.0         0.0         0.0         0.0         0.0   \n",
       "\n",
       "   FIELD_24_y  \n",
       "0         1.0  \n",
       "1         0.0  \n",
       "2         1.0  \n",
       "3         0.0  \n",
       "4         0.0  \n",
       "\n",
       "[5 rows x 38 columns]"
      ]
     },
     "execution_count": 22,
     "metadata": {},
     "output_type": "execute_result"
    },
    {
     "data": {
      "application/javascript": [
       "\n",
       "            setTimeout(function() {\n",
       "                var nbb_cell_id = 22;\n",
       "                var nbb_unformatted_code = \"data = pd.merge(\\n    x_original,\\n    x_original2,\\n    how=\\\"inner\\\",\\n    left_on=[\\\"Unnamed: 0\\\", \\\"FIELD_1\\\"],\\n    right_on=[\\\"Unnamed: 0\\\", \\\"FIELD_1\\\"],\\n)\\ndata.head()\";\n",
       "                var nbb_formatted_code = \"data = pd.merge(\\n    x_original,\\n    x_original2,\\n    how=\\\"inner\\\",\\n    left_on=[\\\"Unnamed: 0\\\", \\\"FIELD_1\\\"],\\n    right_on=[\\\"Unnamed: 0\\\", \\\"FIELD_1\\\"],\\n)\\ndata.head()\";\n",
       "                var nbb_cells = Jupyter.notebook.get_cells();\n",
       "                for (var i = 0; i < nbb_cells.length; ++i) {\n",
       "                    if (nbb_cells[i].input_prompt_number == nbb_cell_id) {\n",
       "                        if (nbb_cells[i].get_text() == nbb_unformatted_code) {\n",
       "                             nbb_cells[i].set_text(nbb_formatted_code);\n",
       "                        }\n",
       "                        break;\n",
       "                    }\n",
       "                }\n",
       "            }, 500);\n",
       "            "
      ],
      "text/plain": [
       "<IPython.core.display.Javascript object>"
      ]
     },
     "metadata": {},
     "output_type": "display_data"
    }
   ],
   "source": [
    "data = pd.merge(\n",
    "    x_original,\n",
    "    x_original2,\n",
    "    how=\"inner\",\n",
    "    left_on=[\"Unnamed: 0\", \"FIELD_1\"],\n",
    "    right_on=[\"Unnamed: 0\", \"FIELD_1\"],\n",
    ")\n",
    "data.head()"
   ]
  },
  {
   "cell_type": "code",
   "execution_count": 23,
   "metadata": {},
   "outputs": [
    {
     "data": {
      "text/html": [
       "<div>\n",
       "<style scoped>\n",
       "    .dataframe tbody tr th:only-of-type {\n",
       "        vertical-align: middle;\n",
       "    }\n",
       "\n",
       "    .dataframe tbody tr th {\n",
       "        vertical-align: top;\n",
       "    }\n",
       "\n",
       "    .dataframe thead th {\n",
       "        text-align: right;\n",
       "    }\n",
       "</style>\n",
       "<table border=\"1\" class=\"dataframe\">\n",
       "  <thead>\n",
       "    <tr style=\"text-align: right;\">\n",
       "      <th></th>\n",
       "      <th>Unnamed: 0</th>\n",
       "      <th>L100800_x</th>\n",
       "      <th>L104600_x</th>\n",
       "      <th>L103000_x</th>\n",
       "      <th>S000300_x</th>\n",
       "      <th>L101700_x</th>\n",
       "      <th>L100700_x</th>\n",
       "      <th>FIELD_33_x</th>\n",
       "      <th>FIELD_38_x</th>\n",
       "      <th>FIELD_40_x</th>\n",
       "      <th>...</th>\n",
       "      <th>FIELD_40</th>\n",
       "      <th>FIELD_31</th>\n",
       "      <th>SEX</th>\n",
       "      <th>AGE</th>\n",
       "      <th>FIELD_16</th>\n",
       "      <th>FIELD_23</th>\n",
       "      <th>FIELD_15</th>\n",
       "      <th>FIELD_22</th>\n",
       "      <th>FIELD_17</th>\n",
       "      <th>FIELD_24</th>\n",
       "    </tr>\n",
       "  </thead>\n",
       "  <tbody>\n",
       "    <tr>\n",
       "      <th>0</th>\n",
       "      <td>0</td>\n",
       "      <td>78.0</td>\n",
       "      <td>NaN</td>\n",
       "      <td>92.0</td>\n",
       "      <td>23.5</td>\n",
       "      <td>13.0</td>\n",
       "      <td>4.3</td>\n",
       "      <td>1.0</td>\n",
       "      <td>0.0</td>\n",
       "      <td>3.0</td>\n",
       "      <td>...</td>\n",
       "      <td>4.0</td>\n",
       "      <td>0.0</td>\n",
       "      <td>1.0</td>\n",
       "      <td>69.0</td>\n",
       "      <td>0.0</td>\n",
       "      <td>0.0</td>\n",
       "      <td>0.0</td>\n",
       "      <td>0.0</td>\n",
       "      <td>1.0</td>\n",
       "      <td>1.0</td>\n",
       "    </tr>\n",
       "    <tr>\n",
       "      <th>1</th>\n",
       "      <td>1</td>\n",
       "      <td>91.0</td>\n",
       "      <td>NaN</td>\n",
       "      <td>492.0</td>\n",
       "      <td>25.4</td>\n",
       "      <td>27.0</td>\n",
       "      <td>4.9</td>\n",
       "      <td>1.0</td>\n",
       "      <td>0.0</td>\n",
       "      <td>0.0</td>\n",
       "      <td>...</td>\n",
       "      <td>2.0</td>\n",
       "      <td>0.0</td>\n",
       "      <td>1.0</td>\n",
       "      <td>59.0</td>\n",
       "      <td>0.0</td>\n",
       "      <td>0.0</td>\n",
       "      <td>0.0</td>\n",
       "      <td>0.0</td>\n",
       "      <td>0.0</td>\n",
       "      <td>0.0</td>\n",
       "    </tr>\n",
       "    <tr>\n",
       "      <th>2</th>\n",
       "      <td>2</td>\n",
       "      <td>121.0</td>\n",
       "      <td>NaN</td>\n",
       "      <td>131.0</td>\n",
       "      <td>23.5</td>\n",
       "      <td>94.0</td>\n",
       "      <td>4.2</td>\n",
       "      <td>1.0</td>\n",
       "      <td>0.0</td>\n",
       "      <td>1.0</td>\n",
       "      <td>...</td>\n",
       "      <td>0.0</td>\n",
       "      <td>0.0</td>\n",
       "      <td>1.0</td>\n",
       "      <td>61.0</td>\n",
       "      <td>0.0</td>\n",
       "      <td>0.0</td>\n",
       "      <td>0.0</td>\n",
       "      <td>0.0</td>\n",
       "      <td>1.0</td>\n",
       "      <td>0.0</td>\n",
       "    </tr>\n",
       "    <tr>\n",
       "      <th>3</th>\n",
       "      <td>3</td>\n",
       "      <td>96.0</td>\n",
       "      <td>NaN</td>\n",
       "      <td>53.0</td>\n",
       "      <td>18.3</td>\n",
       "      <td>15.0</td>\n",
       "      <td>5.2</td>\n",
       "      <td>1.0</td>\n",
       "      <td>0.0</td>\n",
       "      <td>3.0</td>\n",
       "      <td>...</td>\n",
       "      <td>0.0</td>\n",
       "      <td>0.0</td>\n",
       "      <td>1.0</td>\n",
       "      <td>18.0</td>\n",
       "      <td>0.0</td>\n",
       "      <td>0.0</td>\n",
       "      <td>0.0</td>\n",
       "      <td>0.0</td>\n",
       "      <td>0.0</td>\n",
       "      <td>0.0</td>\n",
       "    </tr>\n",
       "    <tr>\n",
       "      <th>4</th>\n",
       "      <td>4</td>\n",
       "      <td>84.0</td>\n",
       "      <td>5.0</td>\n",
       "      <td>84.0</td>\n",
       "      <td>19.9</td>\n",
       "      <td>11.0</td>\n",
       "      <td>5.1</td>\n",
       "      <td>1.0</td>\n",
       "      <td>1.0</td>\n",
       "      <td>1.0</td>\n",
       "      <td>...</td>\n",
       "      <td>2.0</td>\n",
       "      <td>0.0</td>\n",
       "      <td>1.0</td>\n",
       "      <td>21.0</td>\n",
       "      <td>0.0</td>\n",
       "      <td>0.0</td>\n",
       "      <td>0.0</td>\n",
       "      <td>0.0</td>\n",
       "      <td>0.0</td>\n",
       "      <td>0.0</td>\n",
       "    </tr>\n",
       "  </tbody>\n",
       "</table>\n",
       "<p>5 rows × 56 columns</p>\n",
       "</div>"
      ],
      "text/plain": [
       "   Unnamed: 0  L100800_x  L104600_x  L103000_x  S000300_x  L101700_x  \\\n",
       "0           0       78.0        NaN       92.0       23.5       13.0   \n",
       "1           1       91.0        NaN      492.0       25.4       27.0   \n",
       "2           2      121.0        NaN      131.0       23.5       94.0   \n",
       "3           3       96.0        NaN       53.0       18.3       15.0   \n",
       "4           4       84.0        5.0       84.0       19.9       11.0   \n",
       "\n",
       "   L100700_x  FIELD_33_x  FIELD_38_x  FIELD_40_x  ...  FIELD_40  FIELD_31  \\\n",
       "0        4.3         1.0         0.0         3.0  ...       4.0       0.0   \n",
       "1        4.9         1.0         0.0         0.0  ...       2.0       0.0   \n",
       "2        4.2         1.0         0.0         1.0  ...       0.0       0.0   \n",
       "3        5.2         1.0         0.0         3.0  ...       0.0       0.0   \n",
       "4        5.1         1.0         1.0         1.0  ...       2.0       0.0   \n",
       "\n",
       "   SEX   AGE  FIELD_16  FIELD_23  FIELD_15  FIELD_22  FIELD_17  FIELD_24  \n",
       "0  1.0  69.0       0.0       0.0       0.0       0.0       1.0       1.0  \n",
       "1  1.0  59.0       0.0       0.0       0.0       0.0       0.0       0.0  \n",
       "2  1.0  61.0       0.0       0.0       0.0       0.0       1.0       0.0  \n",
       "3  1.0  18.0       0.0       0.0       0.0       0.0       0.0       0.0  \n",
       "4  1.0  21.0       0.0       0.0       0.0       0.0       0.0       0.0  \n",
       "\n",
       "[5 rows x 56 columns]"
      ]
     },
     "execution_count": 23,
     "metadata": {},
     "output_type": "execute_result"
    },
    {
     "data": {
      "application/javascript": [
       "\n",
       "            setTimeout(function() {\n",
       "                var nbb_cell_id = 23;\n",
       "                var nbb_unformatted_code = \"data = pd.merge(\\n    data,\\n    x_original3,\\n    how=\\\"inner\\\",\\n    left_on=[\\\"Unnamed: 0\\\", \\\"FIELD_1\\\"],\\n    right_on=[\\\"Unnamed: 0\\\", \\\"FIELD_1\\\"],\\n)\\ndata.head()\";\n",
       "                var nbb_formatted_code = \"data = pd.merge(\\n    data,\\n    x_original3,\\n    how=\\\"inner\\\",\\n    left_on=[\\\"Unnamed: 0\\\", \\\"FIELD_1\\\"],\\n    right_on=[\\\"Unnamed: 0\\\", \\\"FIELD_1\\\"],\\n)\\ndata.head()\";\n",
       "                var nbb_cells = Jupyter.notebook.get_cells();\n",
       "                for (var i = 0; i < nbb_cells.length; ++i) {\n",
       "                    if (nbb_cells[i].input_prompt_number == nbb_cell_id) {\n",
       "                        if (nbb_cells[i].get_text() == nbb_unformatted_code) {\n",
       "                             nbb_cells[i].set_text(nbb_formatted_code);\n",
       "                        }\n",
       "                        break;\n",
       "                    }\n",
       "                }\n",
       "            }, 500);\n",
       "            "
      ],
      "text/plain": [
       "<IPython.core.display.Javascript object>"
      ]
     },
     "metadata": {},
     "output_type": "display_data"
    }
   ],
   "source": [
    "data = pd.merge(\n",
    "    data,\n",
    "    x_original3,\n",
    "    how=\"inner\",\n",
    "    left_on=[\"Unnamed: 0\", \"FIELD_1\"],\n",
    "    right_on=[\"Unnamed: 0\", \"FIELD_1\"],\n",
    ")\n",
    "data.head()"
   ]
  },
  {
   "cell_type": "code",
   "execution_count": 24,
   "metadata": {},
   "outputs": [
    {
     "data": {
      "text/html": [
       "<div>\n",
       "<style scoped>\n",
       "    .dataframe tbody tr th:only-of-type {\n",
       "        vertical-align: middle;\n",
       "    }\n",
       "\n",
       "    .dataframe tbody tr th {\n",
       "        vertical-align: top;\n",
       "    }\n",
       "\n",
       "    .dataframe thead th {\n",
       "        text-align: right;\n",
       "    }\n",
       "</style>\n",
       "<table border=\"1\" class=\"dataframe\">\n",
       "  <thead>\n",
       "    <tr style=\"text-align: right;\">\n",
       "      <th></th>\n",
       "      <th>Unnamed: 0</th>\n",
       "      <th>L100800_x</th>\n",
       "      <th>L104600_x</th>\n",
       "      <th>L103000_x</th>\n",
       "      <th>S000300_x</th>\n",
       "      <th>L101700_x</th>\n",
       "      <th>L100700_x</th>\n",
       "      <th>FIELD_33_x</th>\n",
       "      <th>FIELD_38_x</th>\n",
       "      <th>FIELD_40_x</th>\n",
       "      <th>...</th>\n",
       "      <th>FIELD_40_z</th>\n",
       "      <th>FIELD_31_z</th>\n",
       "      <th>SEX_z</th>\n",
       "      <th>AGE_z</th>\n",
       "      <th>FIELD_16_z</th>\n",
       "      <th>FIELD_23_z</th>\n",
       "      <th>FIELD_15_z</th>\n",
       "      <th>FIELD_22_z</th>\n",
       "      <th>FIELD_17_z</th>\n",
       "      <th>FIELD_24_z</th>\n",
       "    </tr>\n",
       "  </thead>\n",
       "  <tbody>\n",
       "    <tr>\n",
       "      <th>0</th>\n",
       "      <td>0</td>\n",
       "      <td>78.0</td>\n",
       "      <td>NaN</td>\n",
       "      <td>92.0</td>\n",
       "      <td>23.5</td>\n",
       "      <td>13.0</td>\n",
       "      <td>4.3</td>\n",
       "      <td>1.0</td>\n",
       "      <td>0.0</td>\n",
       "      <td>3.0</td>\n",
       "      <td>...</td>\n",
       "      <td>2.0</td>\n",
       "      <td>0.0</td>\n",
       "      <td>1.0</td>\n",
       "      <td>70.0</td>\n",
       "      <td>0.0</td>\n",
       "      <td>0.0</td>\n",
       "      <td>0.0</td>\n",
       "      <td>0.0</td>\n",
       "      <td>1.0</td>\n",
       "      <td>1.0</td>\n",
       "    </tr>\n",
       "    <tr>\n",
       "      <th>1</th>\n",
       "      <td>1</td>\n",
       "      <td>91.0</td>\n",
       "      <td>NaN</td>\n",
       "      <td>492.0</td>\n",
       "      <td>25.4</td>\n",
       "      <td>27.0</td>\n",
       "      <td>4.9</td>\n",
       "      <td>1.0</td>\n",
       "      <td>0.0</td>\n",
       "      <td>0.0</td>\n",
       "      <td>...</td>\n",
       "      <td>0.0</td>\n",
       "      <td>0.0</td>\n",
       "      <td>1.0</td>\n",
       "      <td>60.0</td>\n",
       "      <td>0.0</td>\n",
       "      <td>0.0</td>\n",
       "      <td>0.0</td>\n",
       "      <td>0.0</td>\n",
       "      <td>1.0</td>\n",
       "      <td>0.0</td>\n",
       "    </tr>\n",
       "    <tr>\n",
       "      <th>2</th>\n",
       "      <td>2</td>\n",
       "      <td>121.0</td>\n",
       "      <td>NaN</td>\n",
       "      <td>131.0</td>\n",
       "      <td>23.5</td>\n",
       "      <td>94.0</td>\n",
       "      <td>4.2</td>\n",
       "      <td>1.0</td>\n",
       "      <td>0.0</td>\n",
       "      <td>1.0</td>\n",
       "      <td>...</td>\n",
       "      <td>2.0</td>\n",
       "      <td>0.0</td>\n",
       "      <td>1.0</td>\n",
       "      <td>62.0</td>\n",
       "      <td>0.0</td>\n",
       "      <td>0.0</td>\n",
       "      <td>0.0</td>\n",
       "      <td>0.0</td>\n",
       "      <td>1.0</td>\n",
       "      <td>1.0</td>\n",
       "    </tr>\n",
       "    <tr>\n",
       "      <th>3</th>\n",
       "      <td>3</td>\n",
       "      <td>96.0</td>\n",
       "      <td>NaN</td>\n",
       "      <td>53.0</td>\n",
       "      <td>18.3</td>\n",
       "      <td>15.0</td>\n",
       "      <td>5.2</td>\n",
       "      <td>1.0</td>\n",
       "      <td>0.0</td>\n",
       "      <td>3.0</td>\n",
       "      <td>...</td>\n",
       "      <td>1.0</td>\n",
       "      <td>0.0</td>\n",
       "      <td>1.0</td>\n",
       "      <td>19.0</td>\n",
       "      <td>0.0</td>\n",
       "      <td>0.0</td>\n",
       "      <td>0.0</td>\n",
       "      <td>0.0</td>\n",
       "      <td>0.0</td>\n",
       "      <td>0.0</td>\n",
       "    </tr>\n",
       "    <tr>\n",
       "      <th>4</th>\n",
       "      <td>4</td>\n",
       "      <td>84.0</td>\n",
       "      <td>5.0</td>\n",
       "      <td>84.0</td>\n",
       "      <td>19.9</td>\n",
       "      <td>11.0</td>\n",
       "      <td>5.1</td>\n",
       "      <td>1.0</td>\n",
       "      <td>1.0</td>\n",
       "      <td>1.0</td>\n",
       "      <td>...</td>\n",
       "      <td>3.0</td>\n",
       "      <td>0.0</td>\n",
       "      <td>1.0</td>\n",
       "      <td>22.0</td>\n",
       "      <td>0.0</td>\n",
       "      <td>0.0</td>\n",
       "      <td>0.0</td>\n",
       "      <td>0.0</td>\n",
       "      <td>0.0</td>\n",
       "      <td>0.0</td>\n",
       "    </tr>\n",
       "  </tbody>\n",
       "</table>\n",
       "<p>5 rows × 74 columns</p>\n",
       "</div>"
      ],
      "text/plain": [
       "   Unnamed: 0  L100800_x  L104600_x  L103000_x  S000300_x  L101700_x  \\\n",
       "0           0       78.0        NaN       92.0       23.5       13.0   \n",
       "1           1       91.0        NaN      492.0       25.4       27.0   \n",
       "2           2      121.0        NaN      131.0       23.5       94.0   \n",
       "3           3       96.0        NaN       53.0       18.3       15.0   \n",
       "4           4       84.0        5.0       84.0       19.9       11.0   \n",
       "\n",
       "   L100700_x  FIELD_33_x  FIELD_38_x  FIELD_40_x  ...  FIELD_40_z  FIELD_31_z  \\\n",
       "0        4.3         1.0         0.0         3.0  ...         2.0         0.0   \n",
       "1        4.9         1.0         0.0         0.0  ...         0.0         0.0   \n",
       "2        4.2         1.0         0.0         1.0  ...         2.0         0.0   \n",
       "3        5.2         1.0         0.0         3.0  ...         1.0         0.0   \n",
       "4        5.1         1.0         1.0         1.0  ...         3.0         0.0   \n",
       "\n",
       "   SEX_z  AGE_z  FIELD_16_z  FIELD_23_z  FIELD_15_z  FIELD_22_z  FIELD_17_z  \\\n",
       "0    1.0   70.0         0.0         0.0         0.0         0.0         1.0   \n",
       "1    1.0   60.0         0.0         0.0         0.0         0.0         1.0   \n",
       "2    1.0   62.0         0.0         0.0         0.0         0.0         1.0   \n",
       "3    1.0   19.0         0.0         0.0         0.0         0.0         0.0   \n",
       "4    1.0   22.0         0.0         0.0         0.0         0.0         0.0   \n",
       "\n",
       "   FIELD_24_z  \n",
       "0         1.0  \n",
       "1         0.0  \n",
       "2         1.0  \n",
       "3         0.0  \n",
       "4         0.0  \n",
       "\n",
       "[5 rows x 74 columns]"
      ]
     },
     "execution_count": 24,
     "metadata": {},
     "output_type": "execute_result"
    },
    {
     "data": {
      "application/javascript": [
       "\n",
       "            setTimeout(function() {\n",
       "                var nbb_cell_id = 24;\n",
       "                var nbb_unformatted_code = \"data = pd.merge(\\n    data,\\n    x_original4,\\n    how=\\\"inner\\\",\\n    left_on=[\\\"Unnamed: 0\\\", \\\"FIELD_1\\\"],\\n    right_on=[\\\"Unnamed: 0\\\", \\\"FIELD_1\\\"],\\n)\\ndata.head()\";\n",
       "                var nbb_formatted_code = \"data = pd.merge(\\n    data,\\n    x_original4,\\n    how=\\\"inner\\\",\\n    left_on=[\\\"Unnamed: 0\\\", \\\"FIELD_1\\\"],\\n    right_on=[\\\"Unnamed: 0\\\", \\\"FIELD_1\\\"],\\n)\\ndata.head()\";\n",
       "                var nbb_cells = Jupyter.notebook.get_cells();\n",
       "                for (var i = 0; i < nbb_cells.length; ++i) {\n",
       "                    if (nbb_cells[i].input_prompt_number == nbb_cell_id) {\n",
       "                        if (nbb_cells[i].get_text() == nbb_unformatted_code) {\n",
       "                             nbb_cells[i].set_text(nbb_formatted_code);\n",
       "                        }\n",
       "                        break;\n",
       "                    }\n",
       "                }\n",
       "            }, 500);\n",
       "            "
      ],
      "text/plain": [
       "<IPython.core.display.Javascript object>"
      ]
     },
     "metadata": {},
     "output_type": "display_data"
    }
   ],
   "source": [
    "data = pd.merge(\n",
    "    data,\n",
    "    x_original4,\n",
    "    how=\"inner\",\n",
    "    left_on=[\"Unnamed: 0\", \"FIELD_1\"],\n",
    "    right_on=[\"Unnamed: 0\", \"FIELD_1\"],\n",
    ")\n",
    "data.head()"
   ]
  },
  {
   "cell_type": "code",
   "execution_count": 25,
   "metadata": {},
   "outputs": [
    {
     "data": {
      "application/javascript": [
       "\n",
       "            setTimeout(function() {\n",
       "                var nbb_cell_id = 25;\n",
       "                var nbb_unformatted_code = \"data = pd.merge(\\n    data,\\n    y_original,\\n    how=\\\"inner\\\",\\n    left_on=[\\\"Unnamed: 0\\\", \\\"FIELD_1\\\"],\\n    right_on=[\\\"Unnamed: 0\\\", \\\"FIELD_1\\\"],\\n)\";\n",
       "                var nbb_formatted_code = \"data = pd.merge(\\n    data,\\n    y_original,\\n    how=\\\"inner\\\",\\n    left_on=[\\\"Unnamed: 0\\\", \\\"FIELD_1\\\"],\\n    right_on=[\\\"Unnamed: 0\\\", \\\"FIELD_1\\\"],\\n)\";\n",
       "                var nbb_cells = Jupyter.notebook.get_cells();\n",
       "                for (var i = 0; i < nbb_cells.length; ++i) {\n",
       "                    if (nbb_cells[i].input_prompt_number == nbb_cell_id) {\n",
       "                        if (nbb_cells[i].get_text() == nbb_unformatted_code) {\n",
       "                             nbb_cells[i].set_text(nbb_formatted_code);\n",
       "                        }\n",
       "                        break;\n",
       "                    }\n",
       "                }\n",
       "            }, 500);\n",
       "            "
      ],
      "text/plain": [
       "<IPython.core.display.Javascript object>"
      ]
     },
     "metadata": {},
     "output_type": "display_data"
    }
   ],
   "source": [
    "data = pd.merge(\n",
    "    data,\n",
    "    y_original,\n",
    "    how=\"inner\",\n",
    "    left_on=[\"Unnamed: 0\", \"FIELD_1\"],\n",
    "    right_on=[\"Unnamed: 0\", \"FIELD_1\"],\n",
    ")"
   ]
  },
  {
   "cell_type": "code",
   "execution_count": 26,
   "metadata": {},
   "outputs": [
    {
     "data": {
      "text/html": [
       "<div>\n",
       "<style scoped>\n",
       "    .dataframe tbody tr th:only-of-type {\n",
       "        vertical-align: middle;\n",
       "    }\n",
       "\n",
       "    .dataframe tbody tr th {\n",
       "        vertical-align: top;\n",
       "    }\n",
       "\n",
       "    .dataframe thead th {\n",
       "        text-align: right;\n",
       "    }\n",
       "</style>\n",
       "<table border=\"1\" class=\"dataframe\">\n",
       "  <thead>\n",
       "    <tr style=\"text-align: right;\">\n",
       "      <th></th>\n",
       "      <th>Unnamed: 0</th>\n",
       "      <th>L100800_x</th>\n",
       "      <th>L104600_x</th>\n",
       "      <th>L103000_x</th>\n",
       "      <th>S000300_x</th>\n",
       "      <th>L101700_x</th>\n",
       "      <th>L100700_x</th>\n",
       "      <th>FIELD_33_x</th>\n",
       "      <th>FIELD_38_x</th>\n",
       "      <th>FIELD_40_x</th>\n",
       "      <th>...</th>\n",
       "      <th>FIELD_31_z</th>\n",
       "      <th>SEX_z</th>\n",
       "      <th>AGE_z</th>\n",
       "      <th>FIELD_16_z</th>\n",
       "      <th>FIELD_23_z</th>\n",
       "      <th>FIELD_15_z</th>\n",
       "      <th>FIELD_22_z</th>\n",
       "      <th>FIELD_17_z</th>\n",
       "      <th>FIELD_24_z</th>\n",
       "      <th>CLASS</th>\n",
       "    </tr>\n",
       "  </thead>\n",
       "  <tbody>\n",
       "    <tr>\n",
       "      <th>0</th>\n",
       "      <td>0</td>\n",
       "      <td>78.0</td>\n",
       "      <td>NaN</td>\n",
       "      <td>92.0</td>\n",
       "      <td>23.5</td>\n",
       "      <td>13.0</td>\n",
       "      <td>4.3</td>\n",
       "      <td>1.0</td>\n",
       "      <td>0.0</td>\n",
       "      <td>3.0</td>\n",
       "      <td>...</td>\n",
       "      <td>0.0</td>\n",
       "      <td>1.0</td>\n",
       "      <td>70.0</td>\n",
       "      <td>0.0</td>\n",
       "      <td>0.0</td>\n",
       "      <td>0.0</td>\n",
       "      <td>0.0</td>\n",
       "      <td>1.0</td>\n",
       "      <td>1.0</td>\n",
       "      <td>1</td>\n",
       "    </tr>\n",
       "    <tr>\n",
       "      <th>1</th>\n",
       "      <td>1</td>\n",
       "      <td>91.0</td>\n",
       "      <td>NaN</td>\n",
       "      <td>492.0</td>\n",
       "      <td>25.4</td>\n",
       "      <td>27.0</td>\n",
       "      <td>4.9</td>\n",
       "      <td>1.0</td>\n",
       "      <td>0.0</td>\n",
       "      <td>0.0</td>\n",
       "      <td>...</td>\n",
       "      <td>0.0</td>\n",
       "      <td>1.0</td>\n",
       "      <td>60.0</td>\n",
       "      <td>0.0</td>\n",
       "      <td>0.0</td>\n",
       "      <td>0.0</td>\n",
       "      <td>0.0</td>\n",
       "      <td>1.0</td>\n",
       "      <td>0.0</td>\n",
       "      <td>0</td>\n",
       "    </tr>\n",
       "    <tr>\n",
       "      <th>2</th>\n",
       "      <td>2</td>\n",
       "      <td>121.0</td>\n",
       "      <td>NaN</td>\n",
       "      <td>131.0</td>\n",
       "      <td>23.5</td>\n",
       "      <td>94.0</td>\n",
       "      <td>4.2</td>\n",
       "      <td>1.0</td>\n",
       "      <td>0.0</td>\n",
       "      <td>1.0</td>\n",
       "      <td>...</td>\n",
       "      <td>0.0</td>\n",
       "      <td>1.0</td>\n",
       "      <td>62.0</td>\n",
       "      <td>0.0</td>\n",
       "      <td>0.0</td>\n",
       "      <td>0.0</td>\n",
       "      <td>0.0</td>\n",
       "      <td>1.0</td>\n",
       "      <td>1.0</td>\n",
       "      <td>1</td>\n",
       "    </tr>\n",
       "    <tr>\n",
       "      <th>3</th>\n",
       "      <td>3</td>\n",
       "      <td>96.0</td>\n",
       "      <td>NaN</td>\n",
       "      <td>53.0</td>\n",
       "      <td>18.3</td>\n",
       "      <td>15.0</td>\n",
       "      <td>5.2</td>\n",
       "      <td>1.0</td>\n",
       "      <td>0.0</td>\n",
       "      <td>3.0</td>\n",
       "      <td>...</td>\n",
       "      <td>0.0</td>\n",
       "      <td>1.0</td>\n",
       "      <td>19.0</td>\n",
       "      <td>0.0</td>\n",
       "      <td>0.0</td>\n",
       "      <td>0.0</td>\n",
       "      <td>0.0</td>\n",
       "      <td>0.0</td>\n",
       "      <td>0.0</td>\n",
       "      <td>0</td>\n",
       "    </tr>\n",
       "    <tr>\n",
       "      <th>4</th>\n",
       "      <td>4</td>\n",
       "      <td>84.0</td>\n",
       "      <td>5.0</td>\n",
       "      <td>84.0</td>\n",
       "      <td>19.9</td>\n",
       "      <td>11.0</td>\n",
       "      <td>5.1</td>\n",
       "      <td>1.0</td>\n",
       "      <td>1.0</td>\n",
       "      <td>1.0</td>\n",
       "      <td>...</td>\n",
       "      <td>0.0</td>\n",
       "      <td>1.0</td>\n",
       "      <td>22.0</td>\n",
       "      <td>0.0</td>\n",
       "      <td>0.0</td>\n",
       "      <td>0.0</td>\n",
       "      <td>0.0</td>\n",
       "      <td>0.0</td>\n",
       "      <td>0.0</td>\n",
       "      <td>0</td>\n",
       "    </tr>\n",
       "  </tbody>\n",
       "</table>\n",
       "<p>5 rows × 75 columns</p>\n",
       "</div>"
      ],
      "text/plain": [
       "   Unnamed: 0  L100800_x  L104600_x  L103000_x  S000300_x  L101700_x  \\\n",
       "0           0       78.0        NaN       92.0       23.5       13.0   \n",
       "1           1       91.0        NaN      492.0       25.4       27.0   \n",
       "2           2      121.0        NaN      131.0       23.5       94.0   \n",
       "3           3       96.0        NaN       53.0       18.3       15.0   \n",
       "4           4       84.0        5.0       84.0       19.9       11.0   \n",
       "\n",
       "   L100700_x  FIELD_33_x  FIELD_38_x  FIELD_40_x  ...  FIELD_31_z  SEX_z  \\\n",
       "0        4.3         1.0         0.0         3.0  ...         0.0    1.0   \n",
       "1        4.9         1.0         0.0         0.0  ...         0.0    1.0   \n",
       "2        4.2         1.0         0.0         1.0  ...         0.0    1.0   \n",
       "3        5.2         1.0         0.0         3.0  ...         0.0    1.0   \n",
       "4        5.1         1.0         1.0         1.0  ...         0.0    1.0   \n",
       "\n",
       "   AGE_z  FIELD_16_z  FIELD_23_z  FIELD_15_z  FIELD_22_z  FIELD_17_z  \\\n",
       "0   70.0         0.0         0.0         0.0         0.0         1.0   \n",
       "1   60.0         0.0         0.0         0.0         0.0         1.0   \n",
       "2   62.0         0.0         0.0         0.0         0.0         1.0   \n",
       "3   19.0         0.0         0.0         0.0         0.0         0.0   \n",
       "4   22.0         0.0         0.0         0.0         0.0         0.0   \n",
       "\n",
       "   FIELD_24_z  CLASS  \n",
       "0         1.0      1  \n",
       "1         0.0      0  \n",
       "2         1.0      1  \n",
       "3         0.0      0  \n",
       "4         0.0      0  \n",
       "\n",
       "[5 rows x 75 columns]"
      ]
     },
     "execution_count": 26,
     "metadata": {},
     "output_type": "execute_result"
    },
    {
     "data": {
      "application/javascript": [
       "\n",
       "            setTimeout(function() {\n",
       "                var nbb_cell_id = 26;\n",
       "                var nbb_unformatted_code = \"data.head()\";\n",
       "                var nbb_formatted_code = \"data.head()\";\n",
       "                var nbb_cells = Jupyter.notebook.get_cells();\n",
       "                for (var i = 0; i < nbb_cells.length; ++i) {\n",
       "                    if (nbb_cells[i].input_prompt_number == nbb_cell_id) {\n",
       "                        if (nbb_cells[i].get_text() == nbb_unformatted_code) {\n",
       "                             nbb_cells[i].set_text(nbb_formatted_code);\n",
       "                        }\n",
       "                        break;\n",
       "                    }\n",
       "                }\n",
       "            }, 500);\n",
       "            "
      ],
      "text/plain": [
       "<IPython.core.display.Javascript object>"
      ]
     },
     "metadata": {},
     "output_type": "display_data"
    }
   ],
   "source": [
    "data.head()"
   ]
  },
  {
   "cell_type": "code",
   "execution_count": 28,
   "metadata": {},
   "outputs": [
    {
     "data": {
      "application/javascript": [
       "\n",
       "            setTimeout(function() {\n",
       "                var nbb_cell_id = 28;\n",
       "                var nbb_unformatted_code = \"# data.columns.unique().shape\";\n",
       "                var nbb_formatted_code = \"# data.columns.unique().shape\";\n",
       "                var nbb_cells = Jupyter.notebook.get_cells();\n",
       "                for (var i = 0; i < nbb_cells.length; ++i) {\n",
       "                    if (nbb_cells[i].input_prompt_number == nbb_cell_id) {\n",
       "                        if (nbb_cells[i].get_text() == nbb_unformatted_code) {\n",
       "                             nbb_cells[i].set_text(nbb_formatted_code);\n",
       "                        }\n",
       "                        break;\n",
       "                    }\n",
       "                }\n",
       "            }, 500);\n",
       "            "
      ],
      "text/plain": [
       "<IPython.core.display.Javascript object>"
      ]
     },
     "metadata": {},
     "output_type": "display_data"
    }
   ],
   "source": [
    "# data.columns.unique().shape"
   ]
  },
  {
   "cell_type": "code",
   "execution_count": 30,
   "metadata": {},
   "outputs": [
    {
     "data": {
      "application/javascript": [
       "\n",
       "            setTimeout(function() {\n",
       "                var nbb_cell_id = 30;\n",
       "                var nbb_unformatted_code = \"# filter the data set\\ndata = data[data.FIELD_16_x != 1]  # exclude people who are diagnosed for (diabetes)\\ndata = data[data.FIELD_23_x != 1]  # exclude people who are on medication for diabetes\\n\\ndata = data[data.FIELD_16_y != 1]  # exclude people who are diagnosed for (diabetes)\\ndata = data[data.FIELD_23_y != 1]  # exclude people who are on medication for diabetes\\n\\ndata = data[data.FIELD_16 != 1]  # exclude people who are diagnosed for (diabetes)\\ndata = data[data.FIELD_23 != 1]  # exclude people who are on medication for diabetes\\n\\ndata = data[data.FIELD_16_z != 1]  # exclude people who are diagnosed for (diabetes)\\ndata = data[data.FIELD_23_z != 1]  # exclude people who are on medication for diabetes\\n\\ndata = data[\\n    data.FIELD_15_x != 1\\n]  # exclude people who are diagnosed for (high blood pressure)\\ndata = data[\\n    data.FIELD_22_x != 1\\n]  # exclude people who are on medication for high blood pressure\\n\\n\\ndata = data[\\n    data.FIELD_15_y != 1\\n]  # exclude people who are diagnosed for (high blood pressure)\\ndata = data[\\n    data.FIELD_22_y != 1\\n]  # exclude people who are on medication for high blood pressure\\n\\n\\ndata = data[\\n    data.FIELD_15 != 1\\n]  # exclude people who are diagnosed for (high blood pressure)\\ndata = data[\\n    data.FIELD_22 != 1\\n]  # exclude people who are on medication for high blood pressure\\n\\n\\ndata = data[\\n    data.FIELD_15_z != 1\\n]  # exclude people who are diagnosed for (high blood pressure)\\ndata = data[\\n    data.FIELD_22_z != 1\\n]  # exclude people who are on medication for high blood pressure\\n\\n\\n\\ndata = data[data.FIELD_17_x != 1]  # exclude people who are diagnosed for hyperlipidemia\\ndata = data[\\n    data.FIELD_24_x != 1\\n]  # exclude people who are on medication for hyperlipidemia\\n\\ndata = data[data.FIELD_17_y != 1]  # exclude people who are diagnosed for hyperlipidemia\\ndata = data[\\n    data.FIELD_24_y != 1\\n]  # exclude people who are on medication for hyperlipidemia\\n\\ndata = data[data.FIELD_17 != 1]  # exclude people who are diagnosed for hyperlipidemia\\ndata = data[\\n    data.FIELD_24 != 1\\n]  # exclude people who are on medication for hyperlipidemia\\n\\ndata = data[data.FIELD_17_z != 1]  # exclude people who are diagnosed for hyperlipidemia\\ndata = data[\\n    data.FIELD_24_z != 1\\n]  # exclude people who are on medication for hyperlipidemia\\n\\n# print(data.shape)\";\n",
       "                var nbb_formatted_code = \"# filter the data set\\ndata = data[data.FIELD_16_x != 1]  # exclude people who are diagnosed for (diabetes)\\ndata = data[data.FIELD_23_x != 1]  # exclude people who are on medication for diabetes\\n\\ndata = data[data.FIELD_16_y != 1]  # exclude people who are diagnosed for (diabetes)\\ndata = data[data.FIELD_23_y != 1]  # exclude people who are on medication for diabetes\\n\\ndata = data[data.FIELD_16 != 1]  # exclude people who are diagnosed for (diabetes)\\ndata = data[data.FIELD_23 != 1]  # exclude people who are on medication for diabetes\\n\\ndata = data[data.FIELD_16_z != 1]  # exclude people who are diagnosed for (diabetes)\\ndata = data[data.FIELD_23_z != 1]  # exclude people who are on medication for diabetes\\n\\ndata = data[\\n    data.FIELD_15_x != 1\\n]  # exclude people who are diagnosed for (high blood pressure)\\ndata = data[\\n    data.FIELD_22_x != 1\\n]  # exclude people who are on medication for high blood pressure\\n\\n\\ndata = data[\\n    data.FIELD_15_y != 1\\n]  # exclude people who are diagnosed for (high blood pressure)\\ndata = data[\\n    data.FIELD_22_y != 1\\n]  # exclude people who are on medication for high blood pressure\\n\\n\\ndata = data[\\n    data.FIELD_15 != 1\\n]  # exclude people who are diagnosed for (high blood pressure)\\ndata = data[\\n    data.FIELD_22 != 1\\n]  # exclude people who are on medication for high blood pressure\\n\\n\\ndata = data[\\n    data.FIELD_15_z != 1\\n]  # exclude people who are diagnosed for (high blood pressure)\\ndata = data[\\n    data.FIELD_22_z != 1\\n]  # exclude people who are on medication for high blood pressure\\n\\n\\ndata = data[data.FIELD_17_x != 1]  # exclude people who are diagnosed for hyperlipidemia\\ndata = data[\\n    data.FIELD_24_x != 1\\n]  # exclude people who are on medication for hyperlipidemia\\n\\ndata = data[data.FIELD_17_y != 1]  # exclude people who are diagnosed for hyperlipidemia\\ndata = data[\\n    data.FIELD_24_y != 1\\n]  # exclude people who are on medication for hyperlipidemia\\n\\ndata = data[data.FIELD_17 != 1]  # exclude people who are diagnosed for hyperlipidemia\\ndata = data[\\n    data.FIELD_24 != 1\\n]  # exclude people who are on medication for hyperlipidemia\\n\\ndata = data[data.FIELD_17_z != 1]  # exclude people who are diagnosed for hyperlipidemia\\ndata = data[\\n    data.FIELD_24_z != 1\\n]  # exclude people who are on medication for hyperlipidemia\\n\\n# print(data.shape)\";\n",
       "                var nbb_cells = Jupyter.notebook.get_cells();\n",
       "                for (var i = 0; i < nbb_cells.length; ++i) {\n",
       "                    if (nbb_cells[i].input_prompt_number == nbb_cell_id) {\n",
       "                        if (nbb_cells[i].get_text() == nbb_unformatted_code) {\n",
       "                             nbb_cells[i].set_text(nbb_formatted_code);\n",
       "                        }\n",
       "                        break;\n",
       "                    }\n",
       "                }\n",
       "            }, 500);\n",
       "            "
      ],
      "text/plain": [
       "<IPython.core.display.Javascript object>"
      ]
     },
     "metadata": {},
     "output_type": "display_data"
    }
   ],
   "source": [
    "# filter the data set\n",
    "data = data[data.FIELD_16_x != 1]  # exclude people who are diagnosed for (diabetes)\n",
    "data = data[data.FIELD_23_x != 1]  # exclude people who are on medication for diabetes\n",
    "\n",
    "data = data[data.FIELD_16_y != 1]  # exclude people who are diagnosed for (diabetes)\n",
    "data = data[data.FIELD_23_y != 1]  # exclude people who are on medication for diabetes\n",
    "\n",
    "data = data[data.FIELD_16 != 1]  # exclude people who are diagnosed for (diabetes)\n",
    "data = data[data.FIELD_23 != 1]  # exclude people who are on medication for diabetes\n",
    "\n",
    "data = data[data.FIELD_16_z != 1]  # exclude people who are diagnosed for (diabetes)\n",
    "data = data[data.FIELD_23_z != 1]  # exclude people who are on medication for diabetes\n",
    "\n",
    "data = data[\n",
    "    data.FIELD_15_x != 1\n",
    "]  # exclude people who are diagnosed for (high blood pressure)\n",
    "data = data[\n",
    "    data.FIELD_22_x != 1\n",
    "]  # exclude people who are on medication for high blood pressure\n",
    "\n",
    "\n",
    "data = data[\n",
    "    data.FIELD_15_y != 1\n",
    "]  # exclude people who are diagnosed for (high blood pressure)\n",
    "data = data[\n",
    "    data.FIELD_22_y != 1\n",
    "]  # exclude people who are on medication for high blood pressure\n",
    "\n",
    "\n",
    "data = data[\n",
    "    data.FIELD_15 != 1\n",
    "]  # exclude people who are diagnosed for (high blood pressure)\n",
    "data = data[\n",
    "    data.FIELD_22 != 1\n",
    "]  # exclude people who are on medication for high blood pressure\n",
    "\n",
    "\n",
    "data = data[\n",
    "    data.FIELD_15_z != 1\n",
    "]  # exclude people who are diagnosed for (high blood pressure)\n",
    "data = data[\n",
    "    data.FIELD_22_z != 1\n",
    "]  # exclude people who are on medication for high blood pressure\n",
    "\n",
    "\n",
    "data = data[data.FIELD_17_x != 1]  # exclude people who are diagnosed for hyperlipidemia\n",
    "data = data[\n",
    "    data.FIELD_24_x != 1\n",
    "]  # exclude people who are on medication for hyperlipidemia\n",
    "\n",
    "data = data[data.FIELD_17_y != 1]  # exclude people who are diagnosed for hyperlipidemia\n",
    "data = data[\n",
    "    data.FIELD_24_y != 1\n",
    "]  # exclude people who are on medication for hyperlipidemia\n",
    "\n",
    "data = data[data.FIELD_17 != 1]  # exclude people who are diagnosed for hyperlipidemia\n",
    "data = data[\n",
    "    data.FIELD_24 != 1\n",
    "]  # exclude people who are on medication for hyperlipidemia\n",
    "\n",
    "data = data[data.FIELD_17_z != 1]  # exclude people who are diagnosed for hyperlipidemia\n",
    "data = data[\n",
    "    data.FIELD_24_z != 1\n",
    "]  # exclude people who are on medication for hyperlipidemia\n",
    "\n",
    "# print(data.shape)"
   ]
  },
  {
   "cell_type": "code",
   "execution_count": 31,
   "metadata": {},
   "outputs": [
    {
     "name": "stdout",
     "output_type": "stream",
     "text": [
      "(3790, 49)\n"
     ]
    },
    {
     "data": {
      "text/html": [
       "<div>\n",
       "<style scoped>\n",
       "    .dataframe tbody tr th:only-of-type {\n",
       "        vertical-align: middle;\n",
       "    }\n",
       "\n",
       "    .dataframe tbody tr th {\n",
       "        vertical-align: top;\n",
       "    }\n",
       "\n",
       "    .dataframe thead th {\n",
       "        text-align: right;\n",
       "    }\n",
       "</style>\n",
       "<table border=\"1\" class=\"dataframe\">\n",
       "  <thead>\n",
       "    <tr style=\"text-align: right;\">\n",
       "      <th></th>\n",
       "      <th>L100800_x</th>\n",
       "      <th>L104600_x</th>\n",
       "      <th>L103000_x</th>\n",
       "      <th>S000300_x</th>\n",
       "      <th>L101700_x</th>\n",
       "      <th>L100700_x</th>\n",
       "      <th>FIELD_33_x</th>\n",
       "      <th>FIELD_38_x</th>\n",
       "      <th>FIELD_40_x</th>\n",
       "      <th>FIELD_31_x</th>\n",
       "      <th>...</th>\n",
       "      <th>S000300_z</th>\n",
       "      <th>L101700_z</th>\n",
       "      <th>L100700_z</th>\n",
       "      <th>FIELD_33_z</th>\n",
       "      <th>FIELD_38_z</th>\n",
       "      <th>FIELD_40_z</th>\n",
       "      <th>FIELD_31_z</th>\n",
       "      <th>SEX_z</th>\n",
       "      <th>AGE_z</th>\n",
       "      <th>CLASS</th>\n",
       "    </tr>\n",
       "  </thead>\n",
       "  <tbody>\n",
       "    <tr>\n",
       "      <th>4</th>\n",
       "      <td>84.0</td>\n",
       "      <td>5.0</td>\n",
       "      <td>84.0</td>\n",
       "      <td>19.9</td>\n",
       "      <td>11.0</td>\n",
       "      <td>5.1</td>\n",
       "      <td>1.0</td>\n",
       "      <td>1.0</td>\n",
       "      <td>1.0</td>\n",
       "      <td>0.0</td>\n",
       "      <td>...</td>\n",
       "      <td>20.0</td>\n",
       "      <td>7.0</td>\n",
       "      <td>4.9</td>\n",
       "      <td>1.0</td>\n",
       "      <td>1.0</td>\n",
       "      <td>3.0</td>\n",
       "      <td>0.0</td>\n",
       "      <td>1.0</td>\n",
       "      <td>22.0</td>\n",
       "      <td>0</td>\n",
       "    </tr>\n",
       "    <tr>\n",
       "      <th>5</th>\n",
       "      <td>81.0</td>\n",
       "      <td>4.9</td>\n",
       "      <td>46.0</td>\n",
       "      <td>18.4</td>\n",
       "      <td>14.0</td>\n",
       "      <td>4.1</td>\n",
       "      <td>1.0</td>\n",
       "      <td>2.0</td>\n",
       "      <td>0.0</td>\n",
       "      <td>0.0</td>\n",
       "      <td>...</td>\n",
       "      <td>18.9</td>\n",
       "      <td>15.0</td>\n",
       "      <td>4.8</td>\n",
       "      <td>1.0</td>\n",
       "      <td>4.0</td>\n",
       "      <td>0.0</td>\n",
       "      <td>0.0</td>\n",
       "      <td>1.0</td>\n",
       "      <td>22.0</td>\n",
       "      <td>0</td>\n",
       "    </tr>\n",
       "    <tr>\n",
       "      <th>6</th>\n",
       "      <td>90.0</td>\n",
       "      <td>5.2</td>\n",
       "      <td>118.0</td>\n",
       "      <td>18.7</td>\n",
       "      <td>10.0</td>\n",
       "      <td>3.5</td>\n",
       "      <td>1.0</td>\n",
       "      <td>1.0</td>\n",
       "      <td>0.0</td>\n",
       "      <td>0.0</td>\n",
       "      <td>...</td>\n",
       "      <td>17.8</td>\n",
       "      <td>8.0</td>\n",
       "      <td>3.6</td>\n",
       "      <td>1.0</td>\n",
       "      <td>0.0</td>\n",
       "      <td>0.0</td>\n",
       "      <td>0.0</td>\n",
       "      <td>1.0</td>\n",
       "      <td>23.0</td>\n",
       "      <td>1</td>\n",
       "    </tr>\n",
       "    <tr>\n",
       "      <th>9</th>\n",
       "      <td>92.0</td>\n",
       "      <td>5.4</td>\n",
       "      <td>76.0</td>\n",
       "      <td>17.4</td>\n",
       "      <td>15.0</td>\n",
       "      <td>5.6</td>\n",
       "      <td>1.0</td>\n",
       "      <td>0.0</td>\n",
       "      <td>3.0</td>\n",
       "      <td>1.0</td>\n",
       "      <td>...</td>\n",
       "      <td>16.3</td>\n",
       "      <td>17.0</td>\n",
       "      <td>5.0</td>\n",
       "      <td>1.0</td>\n",
       "      <td>0.0</td>\n",
       "      <td>0.0</td>\n",
       "      <td>0.0</td>\n",
       "      <td>1.0</td>\n",
       "      <td>23.0</td>\n",
       "      <td>0</td>\n",
       "    </tr>\n",
       "    <tr>\n",
       "      <th>14</th>\n",
       "      <td>91.0</td>\n",
       "      <td>4.8</td>\n",
       "      <td>45.0</td>\n",
       "      <td>21.6</td>\n",
       "      <td>14.0</td>\n",
       "      <td>3.4</td>\n",
       "      <td>1.0</td>\n",
       "      <td>1.0</td>\n",
       "      <td>2.0</td>\n",
       "      <td>0.0</td>\n",
       "      <td>...</td>\n",
       "      <td>22.0</td>\n",
       "      <td>11.0</td>\n",
       "      <td>3.5</td>\n",
       "      <td>1.0</td>\n",
       "      <td>0.0</td>\n",
       "      <td>0.0</td>\n",
       "      <td>0.0</td>\n",
       "      <td>1.0</td>\n",
       "      <td>25.0</td>\n",
       "      <td>1</td>\n",
       "    </tr>\n",
       "  </tbody>\n",
       "</table>\n",
       "<p>5 rows × 49 columns</p>\n",
       "</div>"
      ],
      "text/plain": [
       "    L100800_x  L104600_x  L103000_x  S000300_x  L101700_x  L100700_x  \\\n",
       "4        84.0        5.0       84.0       19.9       11.0        5.1   \n",
       "5        81.0        4.9       46.0       18.4       14.0        4.1   \n",
       "6        90.0        5.2      118.0       18.7       10.0        3.5   \n",
       "9        92.0        5.4       76.0       17.4       15.0        5.6   \n",
       "14       91.0        4.8       45.0       21.6       14.0        3.4   \n",
       "\n",
       "    FIELD_33_x  FIELD_38_x  FIELD_40_x  FIELD_31_x  ...  S000300_z  L101700_z  \\\n",
       "4          1.0         1.0         1.0         0.0  ...       20.0        7.0   \n",
       "5          1.0         2.0         0.0         0.0  ...       18.9       15.0   \n",
       "6          1.0         1.0         0.0         0.0  ...       17.8        8.0   \n",
       "9          1.0         0.0         3.0         1.0  ...       16.3       17.0   \n",
       "14         1.0         1.0         2.0         0.0  ...       22.0       11.0   \n",
       "\n",
       "    L100700_z  FIELD_33_z  FIELD_38_z  FIELD_40_z  FIELD_31_z  SEX_z  AGE_z  \\\n",
       "4         4.9         1.0         1.0         3.0         0.0    1.0   22.0   \n",
       "5         4.8         1.0         4.0         0.0         0.0    1.0   22.0   \n",
       "6         3.6         1.0         0.0         0.0         0.0    1.0   23.0   \n",
       "9         5.0         1.0         0.0         0.0         0.0    1.0   23.0   \n",
       "14        3.5         1.0         0.0         0.0         0.0    1.0   25.0   \n",
       "\n",
       "    CLASS  \n",
       "4       0  \n",
       "5       0  \n",
       "6       1  \n",
       "9       0  \n",
       "14      1  \n",
       "\n",
       "[5 rows x 49 columns]"
      ]
     },
     "execution_count": 31,
     "metadata": {},
     "output_type": "execute_result"
    },
    {
     "data": {
      "application/javascript": [
       "\n",
       "            setTimeout(function() {\n",
       "                var nbb_cell_id = 31;\n",
       "                var nbb_unformatted_code = \"data = data[\\n    [\\n        \\\"L100800_x\\\",\\n        \\\"L104600_x\\\",\\n        \\\"L103000_x\\\",\\n        \\\"S000300_x\\\",\\n        \\\"L101700_x\\\",\\n        \\\"L100700_x\\\",\\n        \\\"FIELD_33_x\\\",\\n        \\\"FIELD_38_x\\\",\\n        \\\"FIELD_40_x\\\",\\n        \\\"FIELD_31_x\\\",\\n        \\\"SEX_x\\\",\\n        \\\"AGE_x\\\",\\n        \\\"L100800_y\\\",\\n        \\\"L104600_y\\\",\\n        \\\"L103000_y\\\",\\n        \\\"S000300_y\\\",\\n        \\\"L101700_y\\\",\\n        \\\"L100700_y\\\",\\n        \\\"FIELD_33_y\\\",\\n        \\\"FIELD_38_y\\\",\\n        \\\"FIELD_40_y\\\",\\n        \\\"FIELD_31_y\\\",\\n        \\\"SEX_y\\\",\\n        \\\"AGE_y\\\",\\n        \\\"L100800\\\",\\n        \\\"L104600\\\",\\n        \\\"L103000\\\",\\n        \\\"S000300\\\",\\n        \\\"L101700\\\",\\n        \\\"L100700\\\",\\n        \\\"FIELD_33\\\",\\n        \\\"FIELD_38\\\",\\n        \\\"FIELD_40\\\",\\n        \\\"FIELD_31\\\",\\n        \\\"SEX\\\",\\n        \\\"AGE\\\",\\n        \\\"L100800_z\\\",\\n        \\\"L104600_z\\\",\\n        \\\"L103000_z\\\",\\n        \\\"S000300_z\\\",\\n        \\\"L101700_z\\\",\\n        \\\"L100700_z\\\",\\n        \\\"FIELD_33_z\\\",\\n        \\\"FIELD_38_z\\\",\\n        \\\"FIELD_40_z\\\",\\n        \\\"FIELD_31_z\\\",\\n        \\\"SEX_z\\\",\\n        \\\"AGE_z\\\",\\n        \\\"CLASS\\\",\\n    ]\\n]\\ndata = data.dropna()\\nprint(data.shape)\\ndata.head()\";\n",
       "                var nbb_formatted_code = \"data = data[\\n    [\\n        \\\"L100800_x\\\",\\n        \\\"L104600_x\\\",\\n        \\\"L103000_x\\\",\\n        \\\"S000300_x\\\",\\n        \\\"L101700_x\\\",\\n        \\\"L100700_x\\\",\\n        \\\"FIELD_33_x\\\",\\n        \\\"FIELD_38_x\\\",\\n        \\\"FIELD_40_x\\\",\\n        \\\"FIELD_31_x\\\",\\n        \\\"SEX_x\\\",\\n        \\\"AGE_x\\\",\\n        \\\"L100800_y\\\",\\n        \\\"L104600_y\\\",\\n        \\\"L103000_y\\\",\\n        \\\"S000300_y\\\",\\n        \\\"L101700_y\\\",\\n        \\\"L100700_y\\\",\\n        \\\"FIELD_33_y\\\",\\n        \\\"FIELD_38_y\\\",\\n        \\\"FIELD_40_y\\\",\\n        \\\"FIELD_31_y\\\",\\n        \\\"SEX_y\\\",\\n        \\\"AGE_y\\\",\\n        \\\"L100800\\\",\\n        \\\"L104600\\\",\\n        \\\"L103000\\\",\\n        \\\"S000300\\\",\\n        \\\"L101700\\\",\\n        \\\"L100700\\\",\\n        \\\"FIELD_33\\\",\\n        \\\"FIELD_38\\\",\\n        \\\"FIELD_40\\\",\\n        \\\"FIELD_31\\\",\\n        \\\"SEX\\\",\\n        \\\"AGE\\\",\\n        \\\"L100800_z\\\",\\n        \\\"L104600_z\\\",\\n        \\\"L103000_z\\\",\\n        \\\"S000300_z\\\",\\n        \\\"L101700_z\\\",\\n        \\\"L100700_z\\\",\\n        \\\"FIELD_33_z\\\",\\n        \\\"FIELD_38_z\\\",\\n        \\\"FIELD_40_z\\\",\\n        \\\"FIELD_31_z\\\",\\n        \\\"SEX_z\\\",\\n        \\\"AGE_z\\\",\\n        \\\"CLASS\\\",\\n    ]\\n]\\ndata = data.dropna()\\nprint(data.shape)\\ndata.head()\";\n",
       "                var nbb_cells = Jupyter.notebook.get_cells();\n",
       "                for (var i = 0; i < nbb_cells.length; ++i) {\n",
       "                    if (nbb_cells[i].input_prompt_number == nbb_cell_id) {\n",
       "                        if (nbb_cells[i].get_text() == nbb_unformatted_code) {\n",
       "                             nbb_cells[i].set_text(nbb_formatted_code);\n",
       "                        }\n",
       "                        break;\n",
       "                    }\n",
       "                }\n",
       "            }, 500);\n",
       "            "
      ],
      "text/plain": [
       "<IPython.core.display.Javascript object>"
      ]
     },
     "metadata": {},
     "output_type": "display_data"
    }
   ],
   "source": [
    "data = data[\n",
    "    [\n",
    "        \"L100800_x\",\n",
    "        \"L104600_x\",\n",
    "        \"L103000_x\",\n",
    "        \"S000300_x\",\n",
    "        \"L101700_x\",\n",
    "        \"L100700_x\",\n",
    "        \"FIELD_33_x\",\n",
    "        \"FIELD_38_x\",\n",
    "        \"FIELD_40_x\",\n",
    "        \"FIELD_31_x\",\n",
    "        \"SEX_x\",\n",
    "        \"AGE_x\",\n",
    "        \"L100800_y\",\n",
    "        \"L104600_y\",\n",
    "        \"L103000_y\",\n",
    "        \"S000300_y\",\n",
    "        \"L101700_y\",\n",
    "        \"L100700_y\",\n",
    "        \"FIELD_33_y\",\n",
    "        \"FIELD_38_y\",\n",
    "        \"FIELD_40_y\",\n",
    "        \"FIELD_31_y\",\n",
    "        \"SEX_y\",\n",
    "        \"AGE_y\",\n",
    "        \"L100800\",\n",
    "        \"L104600\",\n",
    "        \"L103000\",\n",
    "        \"S000300\",\n",
    "        \"L101700\",\n",
    "        \"L100700\",\n",
    "        \"FIELD_33\",\n",
    "        \"FIELD_38\",\n",
    "        \"FIELD_40\",\n",
    "        \"FIELD_31\",\n",
    "        \"SEX\",\n",
    "        \"AGE\",\n",
    "        \"L100800_z\",\n",
    "        \"L104600_z\",\n",
    "        \"L103000_z\",\n",
    "        \"S000300_z\",\n",
    "        \"L101700_z\",\n",
    "        \"L100700_z\",\n",
    "        \"FIELD_33_z\",\n",
    "        \"FIELD_38_z\",\n",
    "        \"FIELD_40_z\",\n",
    "        \"FIELD_31_z\",\n",
    "        \"SEX_z\",\n",
    "        \"AGE_z\",\n",
    "        \"CLASS\",\n",
    "    ]\n",
    "]\n",
    "data = data.dropna()\n",
    "print(data.shape)\n",
    "data.head()"
   ]
  },
  {
   "cell_type": "code",
   "execution_count": 32,
   "metadata": {},
   "outputs": [
    {
     "data": {
      "text/html": [
       "<div>\n",
       "<style scoped>\n",
       "    .dataframe tbody tr th:only-of-type {\n",
       "        vertical-align: middle;\n",
       "    }\n",
       "\n",
       "    .dataframe tbody tr th {\n",
       "        vertical-align: top;\n",
       "    }\n",
       "\n",
       "    .dataframe thead th {\n",
       "        text-align: right;\n",
       "    }\n",
       "</style>\n",
       "<table border=\"1\" class=\"dataframe\">\n",
       "  <thead>\n",
       "    <tr style=\"text-align: right;\">\n",
       "      <th></th>\n",
       "      <th>L100800_x</th>\n",
       "      <th>L104600_x</th>\n",
       "      <th>L103000_x</th>\n",
       "      <th>S000300_x</th>\n",
       "      <th>L101700_x</th>\n",
       "      <th>L100700_x</th>\n",
       "      <th>FIELD_33_x</th>\n",
       "      <th>FIELD_38_x</th>\n",
       "      <th>FIELD_40_x</th>\n",
       "      <th>FIELD_31_x</th>\n",
       "      <th>...</th>\n",
       "      <th>S000300_z</th>\n",
       "      <th>L101700_z</th>\n",
       "      <th>L100700_z</th>\n",
       "      <th>FIELD_33_z</th>\n",
       "      <th>FIELD_38_z</th>\n",
       "      <th>FIELD_40_z</th>\n",
       "      <th>FIELD_31_z</th>\n",
       "      <th>SEX_z</th>\n",
       "      <th>AGE_z</th>\n",
       "      <th>CLASS</th>\n",
       "    </tr>\n",
       "  </thead>\n",
       "  <tbody>\n",
       "    <tr>\n",
       "      <th>3464</th>\n",
       "      <td>85.0</td>\n",
       "      <td>5.3</td>\n",
       "      <td>100.0</td>\n",
       "      <td>22.4</td>\n",
       "      <td>19.0</td>\n",
       "      <td>2.7</td>\n",
       "      <td>1.0</td>\n",
       "      <td>1.0</td>\n",
       "      <td>0.0</td>\n",
       "      <td>0.0</td>\n",
       "      <td>...</td>\n",
       "      <td>20.6</td>\n",
       "      <td>17.0</td>\n",
       "      <td>3.0</td>\n",
       "      <td>1.0</td>\n",
       "      <td>0.0</td>\n",
       "      <td>2.0</td>\n",
       "      <td>0.0</td>\n",
       "      <td>1.0</td>\n",
       "      <td>39.0</td>\n",
       "      <td>0</td>\n",
       "    </tr>\n",
       "    <tr>\n",
       "      <th>16149</th>\n",
       "      <td>97.0</td>\n",
       "      <td>5.5</td>\n",
       "      <td>161.0</td>\n",
       "      <td>20.5</td>\n",
       "      <td>37.0</td>\n",
       "      <td>5.2</td>\n",
       "      <td>3.0</td>\n",
       "      <td>3.0</td>\n",
       "      <td>0.0</td>\n",
       "      <td>1.0</td>\n",
       "      <td>...</td>\n",
       "      <td>19.9</td>\n",
       "      <td>31.0</td>\n",
       "      <td>5.3</td>\n",
       "      <td>3.0</td>\n",
       "      <td>3.0</td>\n",
       "      <td>0.0</td>\n",
       "      <td>0.0</td>\n",
       "      <td>0.0</td>\n",
       "      <td>57.0</td>\n",
       "      <td>1</td>\n",
       "    </tr>\n",
       "    <tr>\n",
       "      <th>762</th>\n",
       "      <td>104.0</td>\n",
       "      <td>5.3</td>\n",
       "      <td>115.0</td>\n",
       "      <td>26.3</td>\n",
       "      <td>42.0</td>\n",
       "      <td>6.2</td>\n",
       "      <td>1.0</td>\n",
       "      <td>2.0</td>\n",
       "      <td>2.0</td>\n",
       "      <td>1.0</td>\n",
       "      <td>...</td>\n",
       "      <td>25.5</td>\n",
       "      <td>20.0</td>\n",
       "      <td>6.5</td>\n",
       "      <td>1.0</td>\n",
       "      <td>0.0</td>\n",
       "      <td>0.0</td>\n",
       "      <td>0.0</td>\n",
       "      <td>0.0</td>\n",
       "      <td>33.0</td>\n",
       "      <td>0</td>\n",
       "    </tr>\n",
       "    <tr>\n",
       "      <th>9328</th>\n",
       "      <td>90.0</td>\n",
       "      <td>5.6</td>\n",
       "      <td>68.0</td>\n",
       "      <td>22.2</td>\n",
       "      <td>14.0</td>\n",
       "      <td>4.8</td>\n",
       "      <td>1.0</td>\n",
       "      <td>1.0</td>\n",
       "      <td>3.0</td>\n",
       "      <td>0.0</td>\n",
       "      <td>...</td>\n",
       "      <td>22.5</td>\n",
       "      <td>12.0</td>\n",
       "      <td>4.2</td>\n",
       "      <td>1.0</td>\n",
       "      <td>0.0</td>\n",
       "      <td>1.0</td>\n",
       "      <td>0.0</td>\n",
       "      <td>1.0</td>\n",
       "      <td>47.0</td>\n",
       "      <td>1</td>\n",
       "    </tr>\n",
       "    <tr>\n",
       "      <th>1347</th>\n",
       "      <td>82.0</td>\n",
       "      <td>5.1</td>\n",
       "      <td>88.0</td>\n",
       "      <td>23.0</td>\n",
       "      <td>59.0</td>\n",
       "      <td>7.2</td>\n",
       "      <td>3.0</td>\n",
       "      <td>3.0</td>\n",
       "      <td>2.0</td>\n",
       "      <td>0.0</td>\n",
       "      <td>...</td>\n",
       "      <td>23.1</td>\n",
       "      <td>40.0</td>\n",
       "      <td>5.9</td>\n",
       "      <td>3.0</td>\n",
       "      <td>3.0</td>\n",
       "      <td>1.0</td>\n",
       "      <td>0.0</td>\n",
       "      <td>0.0</td>\n",
       "      <td>34.0</td>\n",
       "      <td>0</td>\n",
       "    </tr>\n",
       "  </tbody>\n",
       "</table>\n",
       "<p>5 rows × 49 columns</p>\n",
       "</div>"
      ],
      "text/plain": [
       "       L100800_x  L104600_x  L103000_x  S000300_x  L101700_x  L100700_x  \\\n",
       "3464        85.0        5.3      100.0       22.4       19.0        2.7   \n",
       "16149       97.0        5.5      161.0       20.5       37.0        5.2   \n",
       "762        104.0        5.3      115.0       26.3       42.0        6.2   \n",
       "9328        90.0        5.6       68.0       22.2       14.0        4.8   \n",
       "1347        82.0        5.1       88.0       23.0       59.0        7.2   \n",
       "\n",
       "       FIELD_33_x  FIELD_38_x  FIELD_40_x  FIELD_31_x  ...  S000300_z  \\\n",
       "3464          1.0         1.0         0.0         0.0  ...       20.6   \n",
       "16149         3.0         3.0         0.0         1.0  ...       19.9   \n",
       "762           1.0         2.0         2.0         1.0  ...       25.5   \n",
       "9328          1.0         1.0         3.0         0.0  ...       22.5   \n",
       "1347          3.0         3.0         2.0         0.0  ...       23.1   \n",
       "\n",
       "       L101700_z  L100700_z  FIELD_33_z  FIELD_38_z  FIELD_40_z  FIELD_31_z  \\\n",
       "3464        17.0        3.0         1.0         0.0         2.0         0.0   \n",
       "16149       31.0        5.3         3.0         3.0         0.0         0.0   \n",
       "762         20.0        6.5         1.0         0.0         0.0         0.0   \n",
       "9328        12.0        4.2         1.0         0.0         1.0         0.0   \n",
       "1347        40.0        5.9         3.0         3.0         1.0         0.0   \n",
       "\n",
       "       SEX_z  AGE_z  CLASS  \n",
       "3464     1.0   39.0      0  \n",
       "16149    0.0   57.0      1  \n",
       "762      0.0   33.0      0  \n",
       "9328     1.0   47.0      1  \n",
       "1347     0.0   34.0      0  \n",
       "\n",
       "[5 rows x 49 columns]"
      ]
     },
     "execution_count": 32,
     "metadata": {},
     "output_type": "execute_result"
    },
    {
     "data": {
      "application/javascript": [
       "\n",
       "            setTimeout(function() {\n",
       "                var nbb_cell_id = 32;\n",
       "                var nbb_unformatted_code = \"data = shuffle(data)\\ndata.head()\";\n",
       "                var nbb_formatted_code = \"data = shuffle(data)\\ndata.head()\";\n",
       "                var nbb_cells = Jupyter.notebook.get_cells();\n",
       "                for (var i = 0; i < nbb_cells.length; ++i) {\n",
       "                    if (nbb_cells[i].input_prompt_number == nbb_cell_id) {\n",
       "                        if (nbb_cells[i].get_text() == nbb_unformatted_code) {\n",
       "                             nbb_cells[i].set_text(nbb_formatted_code);\n",
       "                        }\n",
       "                        break;\n",
       "                    }\n",
       "                }\n",
       "            }, 500);\n",
       "            "
      ],
      "text/plain": [
       "<IPython.core.display.Javascript object>"
      ]
     },
     "metadata": {},
     "output_type": "display_data"
    }
   ],
   "source": [
    "data = shuffle(data)\n",
    "data.head()"
   ]
  },
  {
   "cell_type": "code",
   "execution_count": 33,
   "metadata": {},
   "outputs": [
    {
     "data": {
      "application/javascript": [
       "\n",
       "            setTimeout(function() {\n",
       "                var nbb_cell_id = 33;\n",
       "                var nbb_unformatted_code = \"# data[\\\"L100800diff\\\"] = np.power(data.L100800_x - data.L100800_y, 5)\\n# data[\\\"L104600diff\\\"] = np.power(data.L104600_x - data.L104600_y, 5)\\n# data[\\\"L103000diff\\\"] = np.power(data.L103000_x - data.L103000_y, 5)\\n# data[\\\"S000300diff\\\"] = np.power(data.S000300_x - data.S000300_y, 5)\\n# data[\\\"L101700diff\\\"] = np.power(data.L101700_x - data.L101700_y, 5)\\n# data[\\\"L100700diff\\\"] = np.power(data.L100700_x - data.L100700_y, 5)\\n\\n# data[\\\"L100800diff\\\"] = np.power(data.L100800_x - data.L100800, 5)\\n# data[\\\"L104600diff\\\"] = np.power(data.L104600_x - data.L104600, 5)\\n# data[\\\"L103000diff\\\"] = np.power(data.L103000_x - data.L103000, 5)\\n# data[\\\"S000300diff\\\"] = np.power(data.S000300_x - data.S000300, 5)\\n# data[\\\"L101700diff\\\"] = np.power(data.L101700_x - data.L101700, 5)\\n# data[\\\"L100700diff\\\"] = np.power(data.L100700_x - data.L100700, 5)\\n\\n# data[\\\"L100800diff2\\\"] = np.power(data.L100800_y - data.L100800, 5)\\n# data[\\\"L104600diff2\\\"] = np.power(data.L104600_y - data.L104600, 5)\\n# data[\\\"L103000diff2\\\"] = np.power(data.L103000_y - data.L103000, 5)\\n# data[\\\"S000300diff2\\\"] = np.power(data.S000300_y - data.S000300, 5)\\n# data[\\\"L101700diff2\\\"] = np.power(data.L101700_y - data.L101700, 5)\\n# data[\\\"L100700diff2\\\"] = np.power(data.L100700_y - data.L100700, 5)\\n\\n# tempclass = data.CLASS\\n# data = data.drop(columns=\\\"CLASS\\\")\\n# data[\\\"CLASS\\\"] = tempclass\";\n",
       "                var nbb_formatted_code = \"# data[\\\"L100800diff\\\"] = np.power(data.L100800_x - data.L100800_y, 5)\\n# data[\\\"L104600diff\\\"] = np.power(data.L104600_x - data.L104600_y, 5)\\n# data[\\\"L103000diff\\\"] = np.power(data.L103000_x - data.L103000_y, 5)\\n# data[\\\"S000300diff\\\"] = np.power(data.S000300_x - data.S000300_y, 5)\\n# data[\\\"L101700diff\\\"] = np.power(data.L101700_x - data.L101700_y, 5)\\n# data[\\\"L100700diff\\\"] = np.power(data.L100700_x - data.L100700_y, 5)\\n\\n# data[\\\"L100800diff\\\"] = np.power(data.L100800_x - data.L100800, 5)\\n# data[\\\"L104600diff\\\"] = np.power(data.L104600_x - data.L104600, 5)\\n# data[\\\"L103000diff\\\"] = np.power(data.L103000_x - data.L103000, 5)\\n# data[\\\"S000300diff\\\"] = np.power(data.S000300_x - data.S000300, 5)\\n# data[\\\"L101700diff\\\"] = np.power(data.L101700_x - data.L101700, 5)\\n# data[\\\"L100700diff\\\"] = np.power(data.L100700_x - data.L100700, 5)\\n\\n# data[\\\"L100800diff2\\\"] = np.power(data.L100800_y - data.L100800, 5)\\n# data[\\\"L104600diff2\\\"] = np.power(data.L104600_y - data.L104600, 5)\\n# data[\\\"L103000diff2\\\"] = np.power(data.L103000_y - data.L103000, 5)\\n# data[\\\"S000300diff2\\\"] = np.power(data.S000300_y - data.S000300, 5)\\n# data[\\\"L101700diff2\\\"] = np.power(data.L101700_y - data.L101700, 5)\\n# data[\\\"L100700diff2\\\"] = np.power(data.L100700_y - data.L100700, 5)\\n\\n# tempclass = data.CLASS\\n# data = data.drop(columns=\\\"CLASS\\\")\\n# data[\\\"CLASS\\\"] = tempclass\";\n",
       "                var nbb_cells = Jupyter.notebook.get_cells();\n",
       "                for (var i = 0; i < nbb_cells.length; ++i) {\n",
       "                    if (nbb_cells[i].input_prompt_number == nbb_cell_id) {\n",
       "                        if (nbb_cells[i].get_text() == nbb_unformatted_code) {\n",
       "                             nbb_cells[i].set_text(nbb_formatted_code);\n",
       "                        }\n",
       "                        break;\n",
       "                    }\n",
       "                }\n",
       "            }, 500);\n",
       "            "
      ],
      "text/plain": [
       "<IPython.core.display.Javascript object>"
      ]
     },
     "metadata": {},
     "output_type": "display_data"
    }
   ],
   "source": [
    "# data[\"L100800diff\"] = np.power(data.L100800_x - data.L100800_y, 5)\n",
    "# data[\"L104600diff\"] = np.power(data.L104600_x - data.L104600_y, 5)\n",
    "# data[\"L103000diff\"] = np.power(data.L103000_x - data.L103000_y, 5)\n",
    "# data[\"S000300diff\"] = np.power(data.S000300_x - data.S000300_y, 5)\n",
    "# data[\"L101700diff\"] = np.power(data.L101700_x - data.L101700_y, 5)\n",
    "# data[\"L100700diff\"] = np.power(data.L100700_x - data.L100700_y, 5)\n",
    "\n",
    "# data[\"L100800diff\"] = np.power(data.L100800_x - data.L100800, 5)\n",
    "# data[\"L104600diff\"] = np.power(data.L104600_x - data.L104600, 5)\n",
    "# data[\"L103000diff\"] = np.power(data.L103000_x - data.L103000, 5)\n",
    "# data[\"S000300diff\"] = np.power(data.S000300_x - data.S000300, 5)\n",
    "# data[\"L101700diff\"] = np.power(data.L101700_x - data.L101700, 5)\n",
    "# data[\"L100700diff\"] = np.power(data.L100700_x - data.L100700, 5)\n",
    "\n",
    "# data[\"L100800diff2\"] = np.power(data.L100800_y - data.L100800, 5)\n",
    "# data[\"L104600diff2\"] = np.power(data.L104600_y - data.L104600, 5)\n",
    "# data[\"L103000diff2\"] = np.power(data.L103000_y - data.L103000, 5)\n",
    "# data[\"S000300diff2\"] = np.power(data.S000300_y - data.S000300, 5)\n",
    "# data[\"L101700diff2\"] = np.power(data.L101700_y - data.L101700, 5)\n",
    "# data[\"L100700diff2\"] = np.power(data.L100700_y - data.L100700, 5)\n",
    "\n",
    "# tempclass = data.CLASS\n",
    "# data = data.drop(columns=\"CLASS\")\n",
    "# data[\"CLASS\"] = tempclass"
   ]
  },
  {
   "cell_type": "code",
   "execution_count": 34,
   "metadata": {},
   "outputs": [
    {
     "data": {
      "text/html": [
       "<div>\n",
       "<style scoped>\n",
       "    .dataframe tbody tr th:only-of-type {\n",
       "        vertical-align: middle;\n",
       "    }\n",
       "\n",
       "    .dataframe tbody tr th {\n",
       "        vertical-align: top;\n",
       "    }\n",
       "\n",
       "    .dataframe thead th {\n",
       "        text-align: right;\n",
       "    }\n",
       "</style>\n",
       "<table border=\"1\" class=\"dataframe\">\n",
       "  <thead>\n",
       "    <tr style=\"text-align: right;\">\n",
       "      <th></th>\n",
       "      <th>L100800_x</th>\n",
       "      <th>L104600_x</th>\n",
       "      <th>L103000_x</th>\n",
       "      <th>S000300_x</th>\n",
       "      <th>L101700_x</th>\n",
       "      <th>L100700_x</th>\n",
       "      <th>FIELD_33_x</th>\n",
       "      <th>FIELD_38_x</th>\n",
       "      <th>FIELD_40_x</th>\n",
       "      <th>FIELD_31_x</th>\n",
       "      <th>...</th>\n",
       "      <th>S000300_z</th>\n",
       "      <th>L101700_z</th>\n",
       "      <th>L100700_z</th>\n",
       "      <th>FIELD_33_z</th>\n",
       "      <th>FIELD_38_z</th>\n",
       "      <th>FIELD_40_z</th>\n",
       "      <th>FIELD_31_z</th>\n",
       "      <th>SEX_z</th>\n",
       "      <th>AGE_z</th>\n",
       "      <th>CLASS</th>\n",
       "    </tr>\n",
       "  </thead>\n",
       "  <tbody>\n",
       "    <tr>\n",
       "      <th>3464</th>\n",
       "      <td>85.0</td>\n",
       "      <td>5.3</td>\n",
       "      <td>100.0</td>\n",
       "      <td>22.4</td>\n",
       "      <td>19.0</td>\n",
       "      <td>2.7</td>\n",
       "      <td>1.0</td>\n",
       "      <td>1.0</td>\n",
       "      <td>0.0</td>\n",
       "      <td>0.0</td>\n",
       "      <td>...</td>\n",
       "      <td>20.6</td>\n",
       "      <td>17.0</td>\n",
       "      <td>3.0</td>\n",
       "      <td>1.0</td>\n",
       "      <td>0.0</td>\n",
       "      <td>2.0</td>\n",
       "      <td>0.0</td>\n",
       "      <td>1.0</td>\n",
       "      <td>39.0</td>\n",
       "      <td>0</td>\n",
       "    </tr>\n",
       "    <tr>\n",
       "      <th>16149</th>\n",
       "      <td>97.0</td>\n",
       "      <td>5.5</td>\n",
       "      <td>161.0</td>\n",
       "      <td>20.5</td>\n",
       "      <td>37.0</td>\n",
       "      <td>5.2</td>\n",
       "      <td>3.0</td>\n",
       "      <td>3.0</td>\n",
       "      <td>0.0</td>\n",
       "      <td>1.0</td>\n",
       "      <td>...</td>\n",
       "      <td>19.9</td>\n",
       "      <td>31.0</td>\n",
       "      <td>5.3</td>\n",
       "      <td>3.0</td>\n",
       "      <td>3.0</td>\n",
       "      <td>0.0</td>\n",
       "      <td>0.0</td>\n",
       "      <td>0.0</td>\n",
       "      <td>57.0</td>\n",
       "      <td>1</td>\n",
       "    </tr>\n",
       "    <tr>\n",
       "      <th>762</th>\n",
       "      <td>104.0</td>\n",
       "      <td>5.3</td>\n",
       "      <td>115.0</td>\n",
       "      <td>26.3</td>\n",
       "      <td>42.0</td>\n",
       "      <td>6.2</td>\n",
       "      <td>1.0</td>\n",
       "      <td>2.0</td>\n",
       "      <td>2.0</td>\n",
       "      <td>1.0</td>\n",
       "      <td>...</td>\n",
       "      <td>25.5</td>\n",
       "      <td>20.0</td>\n",
       "      <td>6.5</td>\n",
       "      <td>1.0</td>\n",
       "      <td>0.0</td>\n",
       "      <td>0.0</td>\n",
       "      <td>0.0</td>\n",
       "      <td>0.0</td>\n",
       "      <td>33.0</td>\n",
       "      <td>0</td>\n",
       "    </tr>\n",
       "    <tr>\n",
       "      <th>9328</th>\n",
       "      <td>90.0</td>\n",
       "      <td>5.6</td>\n",
       "      <td>68.0</td>\n",
       "      <td>22.2</td>\n",
       "      <td>14.0</td>\n",
       "      <td>4.8</td>\n",
       "      <td>1.0</td>\n",
       "      <td>1.0</td>\n",
       "      <td>3.0</td>\n",
       "      <td>0.0</td>\n",
       "      <td>...</td>\n",
       "      <td>22.5</td>\n",
       "      <td>12.0</td>\n",
       "      <td>4.2</td>\n",
       "      <td>1.0</td>\n",
       "      <td>0.0</td>\n",
       "      <td>1.0</td>\n",
       "      <td>0.0</td>\n",
       "      <td>1.0</td>\n",
       "      <td>47.0</td>\n",
       "      <td>1</td>\n",
       "    </tr>\n",
       "    <tr>\n",
       "      <th>1347</th>\n",
       "      <td>82.0</td>\n",
       "      <td>5.1</td>\n",
       "      <td>88.0</td>\n",
       "      <td>23.0</td>\n",
       "      <td>59.0</td>\n",
       "      <td>7.2</td>\n",
       "      <td>3.0</td>\n",
       "      <td>3.0</td>\n",
       "      <td>2.0</td>\n",
       "      <td>0.0</td>\n",
       "      <td>...</td>\n",
       "      <td>23.1</td>\n",
       "      <td>40.0</td>\n",
       "      <td>5.9</td>\n",
       "      <td>3.0</td>\n",
       "      <td>3.0</td>\n",
       "      <td>1.0</td>\n",
       "      <td>0.0</td>\n",
       "      <td>0.0</td>\n",
       "      <td>34.0</td>\n",
       "      <td>0</td>\n",
       "    </tr>\n",
       "  </tbody>\n",
       "</table>\n",
       "<p>5 rows × 49 columns</p>\n",
       "</div>"
      ],
      "text/plain": [
       "       L100800_x  L104600_x  L103000_x  S000300_x  L101700_x  L100700_x  \\\n",
       "3464        85.0        5.3      100.0       22.4       19.0        2.7   \n",
       "16149       97.0        5.5      161.0       20.5       37.0        5.2   \n",
       "762        104.0        5.3      115.0       26.3       42.0        6.2   \n",
       "9328        90.0        5.6       68.0       22.2       14.0        4.8   \n",
       "1347        82.0        5.1       88.0       23.0       59.0        7.2   \n",
       "\n",
       "       FIELD_33_x  FIELD_38_x  FIELD_40_x  FIELD_31_x  ...  S000300_z  \\\n",
       "3464          1.0         1.0         0.0         0.0  ...       20.6   \n",
       "16149         3.0         3.0         0.0         1.0  ...       19.9   \n",
       "762           1.0         2.0         2.0         1.0  ...       25.5   \n",
       "9328          1.0         1.0         3.0         0.0  ...       22.5   \n",
       "1347          3.0         3.0         2.0         0.0  ...       23.1   \n",
       "\n",
       "       L101700_z  L100700_z  FIELD_33_z  FIELD_38_z  FIELD_40_z  FIELD_31_z  \\\n",
       "3464        17.0        3.0         1.0         0.0         2.0         0.0   \n",
       "16149       31.0        5.3         3.0         3.0         0.0         0.0   \n",
       "762         20.0        6.5         1.0         0.0         0.0         0.0   \n",
       "9328        12.0        4.2         1.0         0.0         1.0         0.0   \n",
       "1347        40.0        5.9         3.0         3.0         1.0         0.0   \n",
       "\n",
       "       SEX_z  AGE_z  CLASS  \n",
       "3464     1.0   39.0      0  \n",
       "16149    0.0   57.0      1  \n",
       "762      0.0   33.0      0  \n",
       "9328     1.0   47.0      1  \n",
       "1347     0.0   34.0      0  \n",
       "\n",
       "[5 rows x 49 columns]"
      ]
     },
     "execution_count": 34,
     "metadata": {},
     "output_type": "execute_result"
    },
    {
     "data": {
      "application/javascript": [
       "\n",
       "            setTimeout(function() {\n",
       "                var nbb_cell_id = 34;\n",
       "                var nbb_unformatted_code = \"data.head()\";\n",
       "                var nbb_formatted_code = \"data.head()\";\n",
       "                var nbb_cells = Jupyter.notebook.get_cells();\n",
       "                for (var i = 0; i < nbb_cells.length; ++i) {\n",
       "                    if (nbb_cells[i].input_prompt_number == nbb_cell_id) {\n",
       "                        if (nbb_cells[i].get_text() == nbb_unformatted_code) {\n",
       "                             nbb_cells[i].set_text(nbb_formatted_code);\n",
       "                        }\n",
       "                        break;\n",
       "                    }\n",
       "                }\n",
       "            }, 500);\n",
       "            "
      ],
      "text/plain": [
       "<IPython.core.display.Javascript object>"
      ]
     },
     "metadata": {},
     "output_type": "display_data"
    }
   ],
   "source": [
    "data.head()"
   ]
  },
  {
   "cell_type": "markdown",
   "metadata": {},
   "source": [
    "# 2. Downsample the majority class and upsample the minority"
   ]
  },
  {
   "cell_type": "code",
   "execution_count": 35,
   "metadata": {},
   "outputs": [
    {
     "name": "stdout",
     "output_type": "stream",
     "text": [
      "76 1400 2314\n"
     ]
    },
    {
     "data": {
      "application/javascript": [
       "\n",
       "            setTimeout(function() {\n",
       "                var nbb_cell_id = 35;\n",
       "                var nbb_unformatted_code = \"diabetic = data[data.CLASS == 2]\\nprediabetic = data[data.CLASS == 1]\\nnormal = data[data.CLASS == 0]\\n\\nprint(diabetic.shape[0], prediabetic.shape[0], normal.shape[0])\";\n",
       "                var nbb_formatted_code = \"diabetic = data[data.CLASS == 2]\\nprediabetic = data[data.CLASS == 1]\\nnormal = data[data.CLASS == 0]\\n\\nprint(diabetic.shape[0], prediabetic.shape[0], normal.shape[0])\";\n",
       "                var nbb_cells = Jupyter.notebook.get_cells();\n",
       "                for (var i = 0; i < nbb_cells.length; ++i) {\n",
       "                    if (nbb_cells[i].input_prompt_number == nbb_cell_id) {\n",
       "                        if (nbb_cells[i].get_text() == nbb_unformatted_code) {\n",
       "                             nbb_cells[i].set_text(nbb_formatted_code);\n",
       "                        }\n",
       "                        break;\n",
       "                    }\n",
       "                }\n",
       "            }, 500);\n",
       "            "
      ],
      "text/plain": [
       "<IPython.core.display.Javascript object>"
      ]
     },
     "metadata": {},
     "output_type": "display_data"
    }
   ],
   "source": [
    "diabetic = data[data.CLASS == 2]\n",
    "prediabetic = data[data.CLASS == 1]\n",
    "normal = data[data.CLASS == 0]\n",
    "\n",
    "print(diabetic.shape[0], prediabetic.shape[0], normal.shape[0])"
   ]
  },
  {
   "cell_type": "code",
   "execution_count": 36,
   "metadata": {},
   "outputs": [
    {
     "data": {
      "application/javascript": [
       "\n",
       "            setTimeout(function() {\n",
       "                var nbb_cell_id = 36;\n",
       "                var nbb_unformatted_code = \"diabetic_test = diabetic.sample(50, random_state=randomseed)\\nprediabetic_test = prediabetic.sample(50, random_state=randomseed)\\nnormal_test = normal.sample(50, random_state=randomseed)\\ntest = pd.concat([diabetic_test, prediabetic_test, normal_test])\\n\\ndiabetic_train = diabetic.drop(diabetic_test.index)\\nprediabetic_train = prediabetic.drop(prediabetic_test.index)\\n# .sample(\\n#     10 * diabetic_train.shape[0], random_state=randomseed\\n# )\\nnormal_train = normal.drop(normal_test.index).sample(\\n    prediabetic_train.shape[0],\\n    random_state=randomseed\\n    #     10 * diabetic_train.shape[0], random_state=randomseed\\n)\\ntrain = pd.concat([diabetic_train, diabetic_train, prediabetic_train, normal_train])\";\n",
       "                var nbb_formatted_code = \"diabetic_test = diabetic.sample(50, random_state=randomseed)\\nprediabetic_test = prediabetic.sample(50, random_state=randomseed)\\nnormal_test = normal.sample(50, random_state=randomseed)\\ntest = pd.concat([diabetic_test, prediabetic_test, normal_test])\\n\\ndiabetic_train = diabetic.drop(diabetic_test.index)\\nprediabetic_train = prediabetic.drop(prediabetic_test.index)\\n# .sample(\\n#     10 * diabetic_train.shape[0], random_state=randomseed\\n# )\\nnormal_train = normal.drop(normal_test.index).sample(\\n    prediabetic_train.shape[0],\\n    random_state=randomseed\\n    #     10 * diabetic_train.shape[0], random_state=randomseed\\n)\\ntrain = pd.concat([diabetic_train, diabetic_train, prediabetic_train, normal_train])\";\n",
       "                var nbb_cells = Jupyter.notebook.get_cells();\n",
       "                for (var i = 0; i < nbb_cells.length; ++i) {\n",
       "                    if (nbb_cells[i].input_prompt_number == nbb_cell_id) {\n",
       "                        if (nbb_cells[i].get_text() == nbb_unformatted_code) {\n",
       "                             nbb_cells[i].set_text(nbb_formatted_code);\n",
       "                        }\n",
       "                        break;\n",
       "                    }\n",
       "                }\n",
       "            }, 500);\n",
       "            "
      ],
      "text/plain": [
       "<IPython.core.display.Javascript object>"
      ]
     },
     "metadata": {},
     "output_type": "display_data"
    }
   ],
   "source": [
    "diabetic_test = diabetic.sample(50, random_state=randomseed)\n",
    "prediabetic_test = prediabetic.sample(50, random_state=randomseed)\n",
    "normal_test = normal.sample(50, random_state=randomseed)\n",
    "test = pd.concat([diabetic_test, prediabetic_test, normal_test])\n",
    "\n",
    "diabetic_train = diabetic.drop(diabetic_test.index)\n",
    "prediabetic_train = prediabetic.drop(prediabetic_test.index)\n",
    "# .sample(\n",
    "#     10 * diabetic_train.shape[0], random_state=randomseed\n",
    "# )\n",
    "normal_train = normal.drop(normal_test.index).sample(\n",
    "    prediabetic_train.shape[0],\n",
    "    random_state=randomseed\n",
    "    #     10 * diabetic_train.shape[0], random_state=randomseed\n",
    ")\n",
    "train = pd.concat([diabetic_train, diabetic_train, prediabetic_train, normal_train])"
   ]
  },
  {
   "cell_type": "code",
   "execution_count": 37,
   "metadata": {},
   "outputs": [
    {
     "data": {
      "application/javascript": [
       "\n",
       "            setTimeout(function() {\n",
       "                var nbb_cell_id = 37;\n",
       "                var nbb_unformatted_code = \"xtrain = train.iloc[:, :-1]\\nytrain = train.iloc[:, -1]\\nxtest = test.iloc[:, :-1]\\nytest = test.iloc[:, -1]\";\n",
       "                var nbb_formatted_code = \"xtrain = train.iloc[:, :-1]\\nytrain = train.iloc[:, -1]\\nxtest = test.iloc[:, :-1]\\nytest = test.iloc[:, -1]\";\n",
       "                var nbb_cells = Jupyter.notebook.get_cells();\n",
       "                for (var i = 0; i < nbb_cells.length; ++i) {\n",
       "                    if (nbb_cells[i].input_prompt_number == nbb_cell_id) {\n",
       "                        if (nbb_cells[i].get_text() == nbb_unformatted_code) {\n",
       "                             nbb_cells[i].set_text(nbb_formatted_code);\n",
       "                        }\n",
       "                        break;\n",
       "                    }\n",
       "                }\n",
       "            }, 500);\n",
       "            "
      ],
      "text/plain": [
       "<IPython.core.display.Javascript object>"
      ]
     },
     "metadata": {},
     "output_type": "display_data"
    }
   ],
   "source": [
    "xtrain = train.iloc[:, :-1]\n",
    "ytrain = train.iloc[:, -1]\n",
    "xtest = test.iloc[:, :-1]\n",
    "ytest = test.iloc[:, -1]"
   ]
  },
  {
   "cell_type": "code",
   "execution_count": 38,
   "metadata": {},
   "outputs": [
    {
     "data": {
      "application/javascript": [
       "\n",
       "            setTimeout(function() {\n",
       "                var nbb_cell_id = 38;\n",
       "                var nbb_unformatted_code = \"from sklearn.preprocessing import MinMaxScaler\\n\\nscaler = MinMaxScaler()\\nxtrain = scaler.fit_transform(xtrain)\\nxtest = scaler.transform(xtest)\";\n",
       "                var nbb_formatted_code = \"from sklearn.preprocessing import MinMaxScaler\\n\\nscaler = MinMaxScaler()\\nxtrain = scaler.fit_transform(xtrain)\\nxtest = scaler.transform(xtest)\";\n",
       "                var nbb_cells = Jupyter.notebook.get_cells();\n",
       "                for (var i = 0; i < nbb_cells.length; ++i) {\n",
       "                    if (nbb_cells[i].input_prompt_number == nbb_cell_id) {\n",
       "                        if (nbb_cells[i].get_text() == nbb_unformatted_code) {\n",
       "                             nbb_cells[i].set_text(nbb_formatted_code);\n",
       "                        }\n",
       "                        break;\n",
       "                    }\n",
       "                }\n",
       "            }, 500);\n",
       "            "
      ],
      "text/plain": [
       "<IPython.core.display.Javascript object>"
      ]
     },
     "metadata": {},
     "output_type": "display_data"
    }
   ],
   "source": [
    "from sklearn.preprocessing import MinMaxScaler\n",
    "\n",
    "scaler = MinMaxScaler()\n",
    "xtrain = scaler.fit_transform(xtrain)\n",
    "xtest = scaler.transform(xtest)"
   ]
  },
  {
   "cell_type": "code",
   "execution_count": 39,
   "metadata": {},
   "outputs": [
    {
     "name": "stdout",
     "output_type": "stream",
     "text": [
      "Resampled dataset shape Counter({2: 1350, 1: 1350, 0: 1350})\n",
      "1350 1350 1350\n",
      "(4050, 48) (4050,)\n"
     ]
    },
    {
     "data": {
      "application/javascript": [
       "\n",
       "            setTimeout(function() {\n",
       "                var nbb_cell_id = 39;\n",
       "                var nbb_unformatted_code = \"from imblearn.over_sampling import SMOTE, SMOTENC  # doctest: +NORMALIZE_WHITESPACE\\n\\nrandomseed = 42\\n\\nsm = SMOTENC(\\n    random_state=randomseed,\\n    categorical_features=[6, 7, 8, 9, 10],\\n    sampling_strategy=\\\"minority\\\",\\n)\\nX_res, y_res = sm.fit_resample(xtrain, ytrain)\\n\\nprint(\\\"Resampled dataset shape %s\\\" % Counter(y_res))\\nprint(\\n    y_res[y_res == 0].shape[0], y_res[y_res == 1].shape[0], y_res[y_res == 2].shape[0]\\n)\\nprint(X_res.shape, y_res.shape)\\n\\nxtrain = X_res\\nytrain = y_res\";\n",
       "                var nbb_formatted_code = \"from imblearn.over_sampling import SMOTE, SMOTENC  # doctest: +NORMALIZE_WHITESPACE\\n\\nrandomseed = 42\\n\\nsm = SMOTENC(\\n    random_state=randomseed,\\n    categorical_features=[6, 7, 8, 9, 10],\\n    sampling_strategy=\\\"minority\\\",\\n)\\nX_res, y_res = sm.fit_resample(xtrain, ytrain)\\n\\nprint(\\\"Resampled dataset shape %s\\\" % Counter(y_res))\\nprint(\\n    y_res[y_res == 0].shape[0], y_res[y_res == 1].shape[0], y_res[y_res == 2].shape[0]\\n)\\nprint(X_res.shape, y_res.shape)\\n\\nxtrain = X_res\\nytrain = y_res\";\n",
       "                var nbb_cells = Jupyter.notebook.get_cells();\n",
       "                for (var i = 0; i < nbb_cells.length; ++i) {\n",
       "                    if (nbb_cells[i].input_prompt_number == nbb_cell_id) {\n",
       "                        if (nbb_cells[i].get_text() == nbb_unformatted_code) {\n",
       "                             nbb_cells[i].set_text(nbb_formatted_code);\n",
       "                        }\n",
       "                        break;\n",
       "                    }\n",
       "                }\n",
       "            }, 500);\n",
       "            "
      ],
      "text/plain": [
       "<IPython.core.display.Javascript object>"
      ]
     },
     "metadata": {},
     "output_type": "display_data"
    }
   ],
   "source": [
    "from imblearn.over_sampling import SMOTE, SMOTENC  # doctest: +NORMALIZE_WHITESPACE\n",
    "\n",
    "randomseed = 42\n",
    "\n",
    "sm = SMOTENC(\n",
    "    random_state=randomseed,\n",
    "    categorical_features=[6, 7, 8, 9, 10],\n",
    "    sampling_strategy=\"minority\",\n",
    ")\n",
    "X_res, y_res = sm.fit_resample(xtrain, ytrain)\n",
    "\n",
    "print(\"Resampled dataset shape %s\" % Counter(y_res))\n",
    "print(\n",
    "    y_res[y_res == 0].shape[0], y_res[y_res == 1].shape[0], y_res[y_res == 2].shape[0]\n",
    ")\n",
    "print(X_res.shape, y_res.shape)\n",
    "\n",
    "xtrain = X_res\n",
    "ytrain = y_res"
   ]
  },
  {
   "cell_type": "code",
   "execution_count": null,
   "metadata": {},
   "outputs": [],
   "source": []
  },
  {
   "cell_type": "code",
   "execution_count": 40,
   "metadata": {},
   "outputs": [
    {
     "data": {
      "application/javascript": [
       "\n",
       "            setTimeout(function() {\n",
       "                var nbb_cell_id = 40;\n",
       "                var nbb_unformatted_code = \"# from sklearn.cluster import KMeans\\n# import numpy as np\\n\\n# kmeans = KMeans(n_clusters=3, random_state=0, max_iter=300).fit(xtrain)\\n# predlabel = kmeans.predict(xtest)\\n\\n# xtrain = pd.DataFrame(xtrain)\\n# xtrain[\\\"cl\\\"] = kmeans.labels_\\n\\n# xtest = pd.DataFrame(xtest)\\n# xtest[\\\"cl\\\"] = predlabel\";\n",
       "                var nbb_formatted_code = \"# from sklearn.cluster import KMeans\\n# import numpy as np\\n\\n# kmeans = KMeans(n_clusters=3, random_state=0, max_iter=300).fit(xtrain)\\n# predlabel = kmeans.predict(xtest)\\n\\n# xtrain = pd.DataFrame(xtrain)\\n# xtrain[\\\"cl\\\"] = kmeans.labels_\\n\\n# xtest = pd.DataFrame(xtest)\\n# xtest[\\\"cl\\\"] = predlabel\";\n",
       "                var nbb_cells = Jupyter.notebook.get_cells();\n",
       "                for (var i = 0; i < nbb_cells.length; ++i) {\n",
       "                    if (nbb_cells[i].input_prompt_number == nbb_cell_id) {\n",
       "                        if (nbb_cells[i].get_text() == nbb_unformatted_code) {\n",
       "                             nbb_cells[i].set_text(nbb_formatted_code);\n",
       "                        }\n",
       "                        break;\n",
       "                    }\n",
       "                }\n",
       "            }, 500);\n",
       "            "
      ],
      "text/plain": [
       "<IPython.core.display.Javascript object>"
      ]
     },
     "metadata": {},
     "output_type": "display_data"
    }
   ],
   "source": [
    "# from sklearn.cluster import KMeans\n",
    "# import numpy as np\n",
    "\n",
    "# kmeans = KMeans(n_clusters=3, random_state=0, max_iter=300).fit(xtrain)\n",
    "# predlabel = kmeans.predict(xtest)\n",
    "\n",
    "# xtrain = pd.DataFrame(xtrain)\n",
    "# xtrain[\"cl\"] = kmeans.labels_\n",
    "\n",
    "# xtest = pd.DataFrame(xtest)\n",
    "# xtest[\"cl\"] = predlabel"
   ]
  },
  {
   "cell_type": "code",
   "execution_count": null,
   "metadata": {},
   "outputs": [],
   "source": []
  },
  {
   "cell_type": "code",
   "execution_count": 41,
   "metadata": {},
   "outputs": [
    {
     "data": {
      "application/javascript": [
       "\n",
       "            setTimeout(function() {\n",
       "                var nbb_cell_id = 41;\n",
       "                var nbb_unformatted_code = \"# xtrainlabel = p.fit(xtrain, 3)\";\n",
       "                var nbb_formatted_code = \"# xtrainlabel = p.fit(xtrain, 3)\";\n",
       "                var nbb_cells = Jupyter.notebook.get_cells();\n",
       "                for (var i = 0; i < nbb_cells.length; ++i) {\n",
       "                    if (nbb_cells[i].input_prompt_number == nbb_cell_id) {\n",
       "                        if (nbb_cells[i].get_text() == nbb_unformatted_code) {\n",
       "                             nbb_cells[i].set_text(nbb_formatted_code);\n",
       "                        }\n",
       "                        break;\n",
       "                    }\n",
       "                }\n",
       "            }, 500);\n",
       "            "
      ],
      "text/plain": [
       "<IPython.core.display.Javascript object>"
      ]
     },
     "metadata": {},
     "output_type": "display_data"
    }
   ],
   "source": [
    "# xtrainlabel = p.fit(xtrain, 3)"
   ]
  },
  {
   "cell_type": "code",
   "execution_count": 42,
   "metadata": {},
   "outputs": [
    {
     "data": {
      "application/javascript": [
       "\n",
       "            setTimeout(function() {\n",
       "                var nbb_cell_id = 42;\n",
       "                var nbb_unformatted_code = \"# xtestlabel = p.predict(xtest)\\n\\n# xtrain = pd.DataFrame(xtrain)\\n# xtrain[\\\"cl\\\"] = xtrainlabel\\n\\n# xtest = pd.DataFrame(xtest)\\n# xtest[\\\"cl\\\"] = xtestlabel\";\n",
       "                var nbb_formatted_code = \"# xtestlabel = p.predict(xtest)\\n\\n# xtrain = pd.DataFrame(xtrain)\\n# xtrain[\\\"cl\\\"] = xtrainlabel\\n\\n# xtest = pd.DataFrame(xtest)\\n# xtest[\\\"cl\\\"] = xtestlabel\";\n",
       "                var nbb_cells = Jupyter.notebook.get_cells();\n",
       "                for (var i = 0; i < nbb_cells.length; ++i) {\n",
       "                    if (nbb_cells[i].input_prompt_number == nbb_cell_id) {\n",
       "                        if (nbb_cells[i].get_text() == nbb_unformatted_code) {\n",
       "                             nbb_cells[i].set_text(nbb_formatted_code);\n",
       "                        }\n",
       "                        break;\n",
       "                    }\n",
       "                }\n",
       "            }, 500);\n",
       "            "
      ],
      "text/plain": [
       "<IPython.core.display.Javascript object>"
      ]
     },
     "metadata": {},
     "output_type": "display_data"
    }
   ],
   "source": [
    "# xtestlabel = p.predict(xtest)\n",
    "\n",
    "# xtrain = pd.DataFrame(xtrain)\n",
    "# xtrain[\"cl\"] = xtrainlabel\n",
    "\n",
    "# xtest = pd.DataFrame(xtest)\n",
    "# xtest[\"cl\"] = xtestlabel"
   ]
  },
  {
   "cell_type": "code",
   "execution_count": null,
   "metadata": {},
   "outputs": [],
   "source": []
  },
  {
   "cell_type": "code",
   "execution_count": null,
   "metadata": {},
   "outputs": [],
   "source": []
  },
  {
   "cell_type": "code",
   "execution_count": null,
   "metadata": {},
   "outputs": [],
   "source": []
  },
  {
   "cell_type": "markdown",
   "metadata": {},
   "source": [
    "# 3. Generate the classifier models based on the selected 12 features"
   ]
  },
  {
   "cell_type": "markdown",
   "metadata": {},
   "source": [
    "# 3.1.  Features : 12"
   ]
  },
  {
   "cell_type": "markdown",
   "metadata": {},
   "source": [
    "# a. Random forest"
   ]
  },
  {
   "cell_type": "code",
   "execution_count": null,
   "metadata": {
    "scrolled": true
   },
   "outputs": [],
   "source": [
    "from sklearn.model_selection import GridSearchCV\n",
    "from sklearn.ensemble import RandomForestClassifier\n",
    "\n",
    "parameters = {\n",
    "    \"max_features\": (\"auto\", \"sqrt\", \"log2\"),\n",
    "    \"n_estimators\": [10, 100, 200, 700],\n",
    "    \"max_depth\": [2, 8, 10],\n",
    "    \"min_samples_split\": [2, 8, 12],\n",
    "    \"min_samples_leaf\": [2, 8, 12],\n",
    "    \"criterion\": [\"gini\", \"entropy\"],\n",
    "}\n",
    "\n",
    "rf_clf = RandomForestClassifier(n_jobs=-1, verbose=1)\n",
    "rf_clf = RandomizedSearchCV(rf_clf, parameters)\n",
    "rf_clf.fit(xtrain, ytrain)"
   ]
  },
  {
   "cell_type": "code",
   "execution_count": null,
   "metadata": {},
   "outputs": [],
   "source": [
    "rf_clf.best_estimator_"
   ]
  },
  {
   "cell_type": "code",
   "execution_count": 43,
   "metadata": {},
   "outputs": [
    {
     "data": {
      "application/javascript": [
       "\n",
       "            setTimeout(function() {\n",
       "                var nbb_cell_id = 43;\n",
       "                var nbb_unformatted_code = \"rf_12 = RandomForestClassifier(\\n    random_state=randomseed,\\n    n_estimators=500,\\n    max_depth=8,\\n    min_samples_split=5,\\n    min_samples_leaf=8,\\n    max_features=\\\"auto\\\",\\n)\\n\\n# # rf_12=rf_clf.best_estimator_\\n# rf_12 = RandomForestClassifier(\\n#     bootstrap=True,\\n#     class_weight=None,\\n#     criterion=\\\"gini\\\",\\n#     max_depth=10,\\n#     max_features=\\\"log2\\\",\\n#     max_leaf_nodes=None,\\n#     min_impurity_decrease=0.0,\\n#     min_impurity_split=None,\\n#     min_samples_leaf=2,\\n#     min_samples_split=12,\\n#     min_weight_fraction_leaf=0.0,\\n#     n_estimators=100,\\n#     n_jobs=-1,\\n#     oob_score=False,\\n#     random_state=None,\\n#     verbose=1,\\n#     warm_start=False,\\n# )\";\n",
       "                var nbb_formatted_code = \"rf_12 = RandomForestClassifier(\\n    random_state=randomseed,\\n    n_estimators=500,\\n    max_depth=8,\\n    min_samples_split=5,\\n    min_samples_leaf=8,\\n    max_features=\\\"auto\\\",\\n)\\n\\n# # rf_12=rf_clf.best_estimator_\\n# rf_12 = RandomForestClassifier(\\n#     bootstrap=True,\\n#     class_weight=None,\\n#     criterion=\\\"gini\\\",\\n#     max_depth=10,\\n#     max_features=\\\"log2\\\",\\n#     max_leaf_nodes=None,\\n#     min_impurity_decrease=0.0,\\n#     min_impurity_split=None,\\n#     min_samples_leaf=2,\\n#     min_samples_split=12,\\n#     min_weight_fraction_leaf=0.0,\\n#     n_estimators=100,\\n#     n_jobs=-1,\\n#     oob_score=False,\\n#     random_state=None,\\n#     verbose=1,\\n#     warm_start=False,\\n# )\";\n",
       "                var nbb_cells = Jupyter.notebook.get_cells();\n",
       "                for (var i = 0; i < nbb_cells.length; ++i) {\n",
       "                    if (nbb_cells[i].input_prompt_number == nbb_cell_id) {\n",
       "                        if (nbb_cells[i].get_text() == nbb_unformatted_code) {\n",
       "                             nbb_cells[i].set_text(nbb_formatted_code);\n",
       "                        }\n",
       "                        break;\n",
       "                    }\n",
       "                }\n",
       "            }, 500);\n",
       "            "
      ],
      "text/plain": [
       "<IPython.core.display.Javascript object>"
      ]
     },
     "metadata": {},
     "output_type": "display_data"
    }
   ],
   "source": [
    "rf_12 = RandomForestClassifier(\n",
    "    random_state=randomseed,\n",
    "    n_estimators=500,\n",
    "    max_depth=8,\n",
    "    min_samples_split=5,\n",
    "    min_samples_leaf=8,\n",
    "    max_features=\"auto\",\n",
    ")\n",
    "\n",
    "# # rf_12=rf_clf.best_estimator_\n",
    "# rf_12 = RandomForestClassifier(\n",
    "#     bootstrap=True,\n",
    "#     class_weight=None,\n",
    "#     criterion=\"gini\",\n",
    "#     max_depth=10,\n",
    "#     max_features=\"log2\",\n",
    "#     max_leaf_nodes=None,\n",
    "#     min_impurity_decrease=0.0,\n",
    "#     min_impurity_split=None,\n",
    "#     min_samples_leaf=2,\n",
    "#     min_samples_split=12,\n",
    "#     min_weight_fraction_leaf=0.0,\n",
    "#     n_estimators=100,\n",
    "#     n_jobs=-1,\n",
    "#     oob_score=False,\n",
    "#     random_state=None,\n",
    "#     verbose=1,\n",
    "#     warm_start=False,\n",
    "# )"
   ]
  },
  {
   "cell_type": "code",
   "execution_count": 44,
   "metadata": {},
   "outputs": [
    {
     "data": {
      "text/plain": [
       "RandomForestClassifier(bootstrap=True, class_weight=None, criterion='gini',\n",
       "                       max_depth=8, max_features='auto', max_leaf_nodes=None,\n",
       "                       min_impurity_decrease=0.0, min_impurity_split=None,\n",
       "                       min_samples_leaf=8, min_samples_split=5,\n",
       "                       min_weight_fraction_leaf=0.0, n_estimators=500,\n",
       "                       n_jobs=None, oob_score=False, random_state=42, verbose=0,\n",
       "                       warm_start=False)"
      ]
     },
     "execution_count": 44,
     "metadata": {},
     "output_type": "execute_result"
    },
    {
     "data": {
      "application/javascript": [
       "\n",
       "            setTimeout(function() {\n",
       "                var nbb_cell_id = 44;\n",
       "                var nbb_unformatted_code = \"rf_12.fit(xtrain, ytrain)\";\n",
       "                var nbb_formatted_code = \"rf_12.fit(xtrain, ytrain)\";\n",
       "                var nbb_cells = Jupyter.notebook.get_cells();\n",
       "                for (var i = 0; i < nbb_cells.length; ++i) {\n",
       "                    if (nbb_cells[i].input_prompt_number == nbb_cell_id) {\n",
       "                        if (nbb_cells[i].get_text() == nbb_unformatted_code) {\n",
       "                             nbb_cells[i].set_text(nbb_formatted_code);\n",
       "                        }\n",
       "                        break;\n",
       "                    }\n",
       "                }\n",
       "            }, 500);\n",
       "            "
      ],
      "text/plain": [
       "<IPython.core.display.Javascript object>"
      ]
     },
     "metadata": {},
     "output_type": "display_data"
    }
   ],
   "source": [
    "rf_12.fit(xtrain, ytrain)"
   ]
  },
  {
   "cell_type": "code",
   "execution_count": 45,
   "metadata": {},
   "outputs": [
    {
     "name": "stdout",
     "output_type": "stream",
     "text": [
      "Accuracy =  0.64\n"
     ]
    },
    {
     "data": {
      "application/javascript": [
       "\n",
       "            setTimeout(function() {\n",
       "                var nbb_cell_id = 45;\n",
       "                var nbb_unformatted_code = \"ypred = rf_12.predict(xtest)\\nprint(\\\"Accuracy = \\\", m.accuracy_score(ytest, ypred))\";\n",
       "                var nbb_formatted_code = \"ypred = rf_12.predict(xtest)\\nprint(\\\"Accuracy = \\\", m.accuracy_score(ytest, ypred))\";\n",
       "                var nbb_cells = Jupyter.notebook.get_cells();\n",
       "                for (var i = 0; i < nbb_cells.length; ++i) {\n",
       "                    if (nbb_cells[i].input_prompt_number == nbb_cell_id) {\n",
       "                        if (nbb_cells[i].get_text() == nbb_unformatted_code) {\n",
       "                             nbb_cells[i].set_text(nbb_formatted_code);\n",
       "                        }\n",
       "                        break;\n",
       "                    }\n",
       "                }\n",
       "            }, 500);\n",
       "            "
      ],
      "text/plain": [
       "<IPython.core.display.Javascript object>"
      ]
     },
     "metadata": {},
     "output_type": "display_data"
    }
   ],
   "source": [
    "ypred = rf_12.predict(xtest)\n",
    "print(\"Accuracy = \", m.accuracy_score(ytest, ypred))"
   ]
  },
  {
   "cell_type": "code",
   "execution_count": 46,
   "metadata": {},
   "outputs": [
    {
     "data": {
      "text/html": [
       "<div>\n",
       "<style scoped>\n",
       "    .dataframe tbody tr th:only-of-type {\n",
       "        vertical-align: middle;\n",
       "    }\n",
       "\n",
       "    .dataframe tbody tr th {\n",
       "        vertical-align: top;\n",
       "    }\n",
       "\n",
       "    .dataframe thead th {\n",
       "        text-align: right;\n",
       "    }\n",
       "</style>\n",
       "<table border=\"1\" class=\"dataframe\">\n",
       "  <thead>\n",
       "    <tr style=\"text-align: right;\">\n",
       "      <th></th>\n",
       "      <th>Normal</th>\n",
       "      <th>Prediabetes</th>\n",
       "      <th>diabetes</th>\n",
       "    </tr>\n",
       "  </thead>\n",
       "  <tbody>\n",
       "    <tr>\n",
       "      <th>Normal</th>\n",
       "      <td>38</td>\n",
       "      <td>12</td>\n",
       "      <td>0</td>\n",
       "    </tr>\n",
       "    <tr>\n",
       "      <th>Prediabetes</th>\n",
       "      <td>9</td>\n",
       "      <td>40</td>\n",
       "      <td>1</td>\n",
       "    </tr>\n",
       "    <tr>\n",
       "      <th>diabetes</th>\n",
       "      <td>0</td>\n",
       "      <td>32</td>\n",
       "      <td>18</td>\n",
       "    </tr>\n",
       "  </tbody>\n",
       "</table>\n",
       "</div>"
      ],
      "text/plain": [
       "             Normal  Prediabetes  diabetes\n",
       "Normal           38           12         0\n",
       "Prediabetes       9           40         1\n",
       "diabetes          0           32        18"
      ]
     },
     "execution_count": 46,
     "metadata": {},
     "output_type": "execute_result"
    },
    {
     "data": {
      "application/javascript": [
       "\n",
       "            setTimeout(function() {\n",
       "                var nbb_cell_id = 46;\n",
       "                var nbb_unformatted_code = \"confmatrx = pd.DataFrame(\\n    m.confusion_matrix(ytest, ypred),\\n    columns=[\\\"Normal\\\", \\\"Prediabetes\\\", \\\"diabetes\\\"],\\n    index=[\\\"Normal\\\", \\\"Prediabetes\\\", \\\"diabetes\\\"],\\n)\\nconfmatrx.head()\";\n",
       "                var nbb_formatted_code = \"confmatrx = pd.DataFrame(\\n    m.confusion_matrix(ytest, ypred),\\n    columns=[\\\"Normal\\\", \\\"Prediabetes\\\", \\\"diabetes\\\"],\\n    index=[\\\"Normal\\\", \\\"Prediabetes\\\", \\\"diabetes\\\"],\\n)\\nconfmatrx.head()\";\n",
       "                var nbb_cells = Jupyter.notebook.get_cells();\n",
       "                for (var i = 0; i < nbb_cells.length; ++i) {\n",
       "                    if (nbb_cells[i].input_prompt_number == nbb_cell_id) {\n",
       "                        if (nbb_cells[i].get_text() == nbb_unformatted_code) {\n",
       "                             nbb_cells[i].set_text(nbb_formatted_code);\n",
       "                        }\n",
       "                        break;\n",
       "                    }\n",
       "                }\n",
       "            }, 500);\n",
       "            "
      ],
      "text/plain": [
       "<IPython.core.display.Javascript object>"
      ]
     },
     "metadata": {},
     "output_type": "display_data"
    }
   ],
   "source": [
    "confmatrx = pd.DataFrame(\n",
    "    m.confusion_matrix(ytest, ypred),\n",
    "    columns=[\"Normal\", \"Prediabetes\", \"diabetes\"],\n",
    "    index=[\"Normal\", \"Prediabetes\", \"diabetes\"],\n",
    ")\n",
    "confmatrx.head()"
   ]
  },
  {
   "cell_type": "code",
   "execution_count": 47,
   "metadata": {},
   "outputs": [
    {
     "name": "stdout",
     "output_type": "stream",
     "text": [
      "              precision    recall  f1-score   support\n",
      "\n",
      "           0       0.81      0.76      0.78        50\n",
      "           1       0.48      0.80      0.60        50\n",
      "           2       0.95      0.36      0.52        50\n",
      "\n",
      "    accuracy                           0.64       150\n",
      "   macro avg       0.74      0.64      0.63       150\n",
      "weighted avg       0.74      0.64      0.63       150\n",
      "\n"
     ]
    },
    {
     "data": {
      "application/javascript": [
       "\n",
       "            setTimeout(function() {\n",
       "                var nbb_cell_id = 47;\n",
       "                var nbb_unformatted_code = \"print(m.classification_report(ytest, ypred))\";\n",
       "                var nbb_formatted_code = \"print(m.classification_report(ytest, ypred))\";\n",
       "                var nbb_cells = Jupyter.notebook.get_cells();\n",
       "                for (var i = 0; i < nbb_cells.length; ++i) {\n",
       "                    if (nbb_cells[i].input_prompt_number == nbb_cell_id) {\n",
       "                        if (nbb_cells[i].get_text() == nbb_unformatted_code) {\n",
       "                             nbb_cells[i].set_text(nbb_formatted_code);\n",
       "                        }\n",
       "                        break;\n",
       "                    }\n",
       "                }\n",
       "            }, 500);\n",
       "            "
      ],
      "text/plain": [
       "<IPython.core.display.Javascript object>"
      ]
     },
     "metadata": {},
     "output_type": "display_data"
    }
   ],
   "source": [
    "print(m.classification_report(ytest, ypred))"
   ]
  },
  {
   "cell_type": "code",
   "execution_count": 48,
   "metadata": {},
   "outputs": [
    {
     "name": "stdout",
     "output_type": "stream",
     "text": [
      "Accuracy: 0.84 (+/- 0.02) [RandomForestClassifier] \n",
      " [[0.85185185 0.82716049 0.8345679  0.83209877 0.79259259 0.82716049\n",
      " 0.86419753 0.8345679  0.84691358 0.86419753]]\n"
     ]
    },
    {
     "data": {
      "application/javascript": [
       "\n",
       "            setTimeout(function() {\n",
       "                var nbb_cell_id = 48;\n",
       "                var nbb_unformatted_code = \"from sklearn import model_selection\\n\\nscores = model_selection.cross_val_score(rf_12, xtrain, ytrain, cv=10, scoring=\\\"accuracy\\\")\\nprint(\\n    \\\"Accuracy: %0.2f (+/- %0.2f) [%s] \\\\n [%s]\\\"\\n    % (scores.mean(), scores.std(), \\\"RandomForestClassifier\\\", scores)\\n)\";\n",
       "                var nbb_formatted_code = \"from sklearn import model_selection\\n\\nscores = model_selection.cross_val_score(\\n    rf_12, xtrain, ytrain, cv=10, scoring=\\\"accuracy\\\"\\n)\\nprint(\\n    \\\"Accuracy: %0.2f (+/- %0.2f) [%s] \\\\n [%s]\\\"\\n    % (scores.mean(), scores.std(), \\\"RandomForestClassifier\\\", scores)\\n)\";\n",
       "                var nbb_cells = Jupyter.notebook.get_cells();\n",
       "                for (var i = 0; i < nbb_cells.length; ++i) {\n",
       "                    if (nbb_cells[i].input_prompt_number == nbb_cell_id) {\n",
       "                        if (nbb_cells[i].get_text() == nbb_unformatted_code) {\n",
       "                             nbb_cells[i].set_text(nbb_formatted_code);\n",
       "                        }\n",
       "                        break;\n",
       "                    }\n",
       "                }\n",
       "            }, 500);\n",
       "            "
      ],
      "text/plain": [
       "<IPython.core.display.Javascript object>"
      ]
     },
     "metadata": {},
     "output_type": "display_data"
    }
   ],
   "source": [
    "from sklearn import model_selection\n",
    "\n",
    "scores = model_selection.cross_val_score(rf_12, xtrain, ytrain, cv=10, scoring=\"accuracy\")\n",
    "print(\n",
    "    \"Accuracy: %0.2f (+/- %0.2f) [%s] \\n [%s]\"\n",
    "    % (scores.mean(), scores.std(), \"RandomForestClassifier\", scores)\n",
    ")\n"
   ]
  },
  {
   "cell_type": "markdown",
   "metadata": {},
   "source": [
    "# b. XGBOOST "
   ]
  },
  {
   "cell_type": "code",
   "execution_count": null,
   "metadata": {
    "scrolled": true
   },
   "outputs": [],
   "source": [
    "parameters = {\n",
    "    \"max_depth\": [2, 8, 10],\n",
    "    \"n_estimators\": [10, 100, 700],\n",
    "    \"learning_rate\": [0.05, 0.15, 0.25],\n",
    "    \"min_child_weight\": [1, 3, 5],\n",
    "    \"gamma\": [0.0, 0.2, 0.4],\n",
    "    \"colsample_bytree\": [0.3, 0.4, 0.5],\n",
    "}\n",
    "xgb_clf = xgb.XGBClassifier()\n",
    "xgb_clf = RandomizedSearchCV(xgb_clf, parameters, verbose=2)\n",
    "xgb_clf.fit(xtrain, ytrain)\n",
    "xgb_clf.best_estimator_"
   ]
  },
  {
   "cell_type": "code",
   "execution_count": 49,
   "metadata": {},
   "outputs": [
    {
     "data": {
      "application/javascript": [
       "\n",
       "            setTimeout(function() {\n",
       "                var nbb_cell_id = 49;\n",
       "                var nbb_unformatted_code = \"import xgboost as xgb\\nfrom sklearn import metrics as m\\n\\nxgb_model_12 = xgb.XGBClassifier(n_estimators=100,objective=\\\"binary:logistic\\\", random_state=randomseed)\\n# objective=\\\"multi:softmax\\\"\\n# objective=\\\"binary:logistic\\\"\\n# xgb_model=xgb_clf.best_estimator_\\n\\n# xgb_model=xgb_clf.best_estimator_\\n# xgb_model_12=xgb.XGBClassifier(base_score=0.5, booster='gbtree', colsample_bylevel=1,\\n#               colsample_bynode=1, colsample_bytree=0.3, gamma=0.2,\\n#               learning_rate=0.05, max_delta_step=0, max_depth=10,\\n#               min_child_weight=5, missing=None, n_estimators=700, n_jobs=1,\\n#               nthread=None, objective='multi:softprob', random_state=0,\\n#               reg_alpha=0, reg_lambda=1, scale_pos_weight=1, seed=None,\\n#               silent=None, subsample=1, verbosity=1)\";\n",
       "                var nbb_formatted_code = \"import xgboost as xgb\\nfrom sklearn import metrics as m\\n\\nxgb_model_12 = xgb.XGBClassifier(\\n    n_estimators=100, objective=\\\"binary:logistic\\\", random_state=randomseed\\n)\\n# objective=\\\"multi:softmax\\\"\\n# objective=\\\"binary:logistic\\\"\\n# xgb_model=xgb_clf.best_estimator_\\n\\n# xgb_model=xgb_clf.best_estimator_\\n# xgb_model_12=xgb.XGBClassifier(base_score=0.5, booster='gbtree', colsample_bylevel=1,\\n#               colsample_bynode=1, colsample_bytree=0.3, gamma=0.2,\\n#               learning_rate=0.05, max_delta_step=0, max_depth=10,\\n#               min_child_weight=5, missing=None, n_estimators=700, n_jobs=1,\\n#               nthread=None, objective='multi:softprob', random_state=0,\\n#               reg_alpha=0, reg_lambda=1, scale_pos_weight=1, seed=None,\\n#               silent=None, subsample=1, verbosity=1)\";\n",
       "                var nbb_cells = Jupyter.notebook.get_cells();\n",
       "                for (var i = 0; i < nbb_cells.length; ++i) {\n",
       "                    if (nbb_cells[i].input_prompt_number == nbb_cell_id) {\n",
       "                        if (nbb_cells[i].get_text() == nbb_unformatted_code) {\n",
       "                             nbb_cells[i].set_text(nbb_formatted_code);\n",
       "                        }\n",
       "                        break;\n",
       "                    }\n",
       "                }\n",
       "            }, 500);\n",
       "            "
      ],
      "text/plain": [
       "<IPython.core.display.Javascript object>"
      ]
     },
     "metadata": {},
     "output_type": "display_data"
    }
   ],
   "source": [
    "import xgboost as xgb\n",
    "from sklearn import metrics as m\n",
    "\n",
    "xgb_model_12 = xgb.XGBClassifier(n_estimators=100,objective=\"binary:logistic\", random_state=randomseed)\n",
    "# objective=\"multi:softmax\"\n",
    "# objective=\"binary:logistic\"\n",
    "# xgb_model=xgb_clf.best_estimator_\n",
    "\n",
    "# xgb_model=xgb_clf.best_estimator_\n",
    "# xgb_model_12=xgb.XGBClassifier(base_score=0.5, booster='gbtree', colsample_bylevel=1,\n",
    "#               colsample_bynode=1, colsample_bytree=0.3, gamma=0.2,\n",
    "#               learning_rate=0.05, max_delta_step=0, max_depth=10,\n",
    "#               min_child_weight=5, missing=None, n_estimators=700, n_jobs=1,\n",
    "#               nthread=None, objective='multi:softprob', random_state=0,\n",
    "#               reg_alpha=0, reg_lambda=1, scale_pos_weight=1, seed=None,\n",
    "#               silent=None, subsample=1, verbosity=1)\n"
   ]
  },
  {
   "cell_type": "code",
   "execution_count": 50,
   "metadata": {},
   "outputs": [
    {
     "data": {
      "text/plain": [
       "XGBClassifier(base_score=0.5, booster='gbtree', colsample_bylevel=1,\n",
       "              colsample_bynode=1, colsample_bytree=1, gamma=0,\n",
       "              learning_rate=0.1, max_delta_step=0, max_depth=3,\n",
       "              min_child_weight=1, missing=None, n_estimators=100, n_jobs=1,\n",
       "              nthread=None, objective='multi:softprob', random_state=42,\n",
       "              reg_alpha=0, reg_lambda=1, scale_pos_weight=1, seed=None,\n",
       "              silent=None, subsample=1, verbosity=1)"
      ]
     },
     "execution_count": 50,
     "metadata": {},
     "output_type": "execute_result"
    },
    {
     "data": {
      "application/javascript": [
       "\n",
       "            setTimeout(function() {\n",
       "                var nbb_cell_id = 50;\n",
       "                var nbb_unformatted_code = \"xgb_model_12.fit(xtrain, ytrain)\";\n",
       "                var nbb_formatted_code = \"xgb_model_12.fit(xtrain, ytrain)\";\n",
       "                var nbb_cells = Jupyter.notebook.get_cells();\n",
       "                for (var i = 0; i < nbb_cells.length; ++i) {\n",
       "                    if (nbb_cells[i].input_prompt_number == nbb_cell_id) {\n",
       "                        if (nbb_cells[i].get_text() == nbb_unformatted_code) {\n",
       "                             nbb_cells[i].set_text(nbb_formatted_code);\n",
       "                        }\n",
       "                        break;\n",
       "                    }\n",
       "                }\n",
       "            }, 500);\n",
       "            "
      ],
      "text/plain": [
       "<IPython.core.display.Javascript object>"
      ]
     },
     "metadata": {},
     "output_type": "display_data"
    }
   ],
   "source": [
    "xgb_model_12.fit(xtrain, ytrain)"
   ]
  },
  {
   "cell_type": "code",
   "execution_count": 51,
   "metadata": {},
   "outputs": [
    {
     "name": "stdout",
     "output_type": "stream",
     "text": [
      "Accuracy =  0.64\n"
     ]
    },
    {
     "data": {
      "application/javascript": [
       "\n",
       "            setTimeout(function() {\n",
       "                var nbb_cell_id = 51;\n",
       "                var nbb_unformatted_code = \"ypred = xgb_model_12.predict(xtest)\\nprint(\\\"Accuracy = \\\", m.accuracy_score(ytest, ypred))\";\n",
       "                var nbb_formatted_code = \"ypred = xgb_model_12.predict(xtest)\\nprint(\\\"Accuracy = \\\", m.accuracy_score(ytest, ypred))\";\n",
       "                var nbb_cells = Jupyter.notebook.get_cells();\n",
       "                for (var i = 0; i < nbb_cells.length; ++i) {\n",
       "                    if (nbb_cells[i].input_prompt_number == nbb_cell_id) {\n",
       "                        if (nbb_cells[i].get_text() == nbb_unformatted_code) {\n",
       "                             nbb_cells[i].set_text(nbb_formatted_code);\n",
       "                        }\n",
       "                        break;\n",
       "                    }\n",
       "                }\n",
       "            }, 500);\n",
       "            "
      ],
      "text/plain": [
       "<IPython.core.display.Javascript object>"
      ]
     },
     "metadata": {},
     "output_type": "display_data"
    }
   ],
   "source": [
    "ypred = xgb_model_12.predict(xtest)\n",
    "print(\"Accuracy = \", m.accuracy_score(ytest, ypred))"
   ]
  },
  {
   "cell_type": "code",
   "execution_count": 52,
   "metadata": {},
   "outputs": [
    {
     "data": {
      "text/html": [
       "<div>\n",
       "<style scoped>\n",
       "    .dataframe tbody tr th:only-of-type {\n",
       "        vertical-align: middle;\n",
       "    }\n",
       "\n",
       "    .dataframe tbody tr th {\n",
       "        vertical-align: top;\n",
       "    }\n",
       "\n",
       "    .dataframe thead th {\n",
       "        text-align: right;\n",
       "    }\n",
       "</style>\n",
       "<table border=\"1\" class=\"dataframe\">\n",
       "  <thead>\n",
       "    <tr style=\"text-align: right;\">\n",
       "      <th></th>\n",
       "      <th>Normal</th>\n",
       "      <th>Prediabetes</th>\n",
       "      <th>diabetes</th>\n",
       "    </tr>\n",
       "  </thead>\n",
       "  <tbody>\n",
       "    <tr>\n",
       "      <th>Normal</th>\n",
       "      <td>40</td>\n",
       "      <td>10</td>\n",
       "      <td>0</td>\n",
       "    </tr>\n",
       "    <tr>\n",
       "      <th>Prediabetes</th>\n",
       "      <td>12</td>\n",
       "      <td>38</td>\n",
       "      <td>0</td>\n",
       "    </tr>\n",
       "    <tr>\n",
       "      <th>diabetes</th>\n",
       "      <td>0</td>\n",
       "      <td>32</td>\n",
       "      <td>18</td>\n",
       "    </tr>\n",
       "  </tbody>\n",
       "</table>\n",
       "</div>"
      ],
      "text/plain": [
       "             Normal  Prediabetes  diabetes\n",
       "Normal           40           10         0\n",
       "Prediabetes      12           38         0\n",
       "diabetes          0           32        18"
      ]
     },
     "execution_count": 52,
     "metadata": {},
     "output_type": "execute_result"
    },
    {
     "data": {
      "application/javascript": [
       "\n",
       "            setTimeout(function() {\n",
       "                var nbb_cell_id = 52;\n",
       "                var nbb_unformatted_code = \"confmatrx = pd.DataFrame(\\n    m.confusion_matrix(ytest, ypred),\\n    columns=[\\\"Normal\\\", \\\"Prediabetes\\\", \\\"diabetes\\\"],\\n    index=[\\\"Normal\\\", \\\"Prediabetes\\\", \\\"diabetes\\\"],\\n)\\nconfmatrx.head()\";\n",
       "                var nbb_formatted_code = \"confmatrx = pd.DataFrame(\\n    m.confusion_matrix(ytest, ypred),\\n    columns=[\\\"Normal\\\", \\\"Prediabetes\\\", \\\"diabetes\\\"],\\n    index=[\\\"Normal\\\", \\\"Prediabetes\\\", \\\"diabetes\\\"],\\n)\\nconfmatrx.head()\";\n",
       "                var nbb_cells = Jupyter.notebook.get_cells();\n",
       "                for (var i = 0; i < nbb_cells.length; ++i) {\n",
       "                    if (nbb_cells[i].input_prompt_number == nbb_cell_id) {\n",
       "                        if (nbb_cells[i].get_text() == nbb_unformatted_code) {\n",
       "                             nbb_cells[i].set_text(nbb_formatted_code);\n",
       "                        }\n",
       "                        break;\n",
       "                    }\n",
       "                }\n",
       "            }, 500);\n",
       "            "
      ],
      "text/plain": [
       "<IPython.core.display.Javascript object>"
      ]
     },
     "metadata": {},
     "output_type": "display_data"
    }
   ],
   "source": [
    "confmatrx = pd.DataFrame(\n",
    "    m.confusion_matrix(ytest, ypred),\n",
    "    columns=[\"Normal\", \"Prediabetes\", \"diabetes\"],\n",
    "    index=[\"Normal\", \"Prediabetes\", \"diabetes\"],\n",
    ")\n",
    "confmatrx.head()"
   ]
  },
  {
   "cell_type": "code",
   "execution_count": 53,
   "metadata": {},
   "outputs": [
    {
     "name": "stdout",
     "output_type": "stream",
     "text": [
      "              precision    recall  f1-score   support\n",
      "\n",
      "           0       0.77      0.80      0.78        50\n",
      "           1       0.47      0.76      0.58        50\n",
      "           2       1.00      0.36      0.53        50\n",
      "\n",
      "    accuracy                           0.64       150\n",
      "   macro avg       0.75      0.64      0.63       150\n",
      "weighted avg       0.75      0.64      0.63       150\n",
      "\n"
     ]
    },
    {
     "data": {
      "application/javascript": [
       "\n",
       "            setTimeout(function() {\n",
       "                var nbb_cell_id = 53;\n",
       "                var nbb_unformatted_code = \"print(m.classification_report(ytest, ypred))\";\n",
       "                var nbb_formatted_code = \"print(m.classification_report(ytest, ypred))\";\n",
       "                var nbb_cells = Jupyter.notebook.get_cells();\n",
       "                for (var i = 0; i < nbb_cells.length; ++i) {\n",
       "                    if (nbb_cells[i].input_prompt_number == nbb_cell_id) {\n",
       "                        if (nbb_cells[i].get_text() == nbb_unformatted_code) {\n",
       "                             nbb_cells[i].set_text(nbb_formatted_code);\n",
       "                        }\n",
       "                        break;\n",
       "                    }\n",
       "                }\n",
       "            }, 500);\n",
       "            "
      ],
      "text/plain": [
       "<IPython.core.display.Javascript object>"
      ]
     },
     "metadata": {},
     "output_type": "display_data"
    }
   ],
   "source": [
    "print(m.classification_report(ytest, ypred))"
   ]
  },
  {
   "cell_type": "code",
   "execution_count": 54,
   "metadata": {},
   "outputs": [
    {
     "name": "stdout",
     "output_type": "stream",
     "text": [
      "Accuracy: 0.83 (+/- 0.02) [xgb_model] \n",
      " [[0.83209877 0.80987654 0.83209877 0.84197531 0.79753086 0.8345679\n",
      " 0.84938272 0.81975309 0.83703704 0.84691358]]\n"
     ]
    },
    {
     "data": {
      "application/javascript": [
       "\n",
       "            setTimeout(function() {\n",
       "                var nbb_cell_id = 54;\n",
       "                var nbb_unformatted_code = \"scores = model_selection.cross_val_score(\\n    xgb_model_12, xtrain, ytrain, cv=10, scoring=\\\"accuracy\\\"\\n)\\nprint(\\n    \\\"Accuracy: %0.2f (+/- %0.2f) [%s] \\\\n [%s]\\\"\\n    % (scores.mean(), scores.std(), \\\"xgb_model\\\", scores)\\n)\";\n",
       "                var nbb_formatted_code = \"scores = model_selection.cross_val_score(\\n    xgb_model_12, xtrain, ytrain, cv=10, scoring=\\\"accuracy\\\"\\n)\\nprint(\\n    \\\"Accuracy: %0.2f (+/- %0.2f) [%s] \\\\n [%s]\\\"\\n    % (scores.mean(), scores.std(), \\\"xgb_model\\\", scores)\\n)\";\n",
       "                var nbb_cells = Jupyter.notebook.get_cells();\n",
       "                for (var i = 0; i < nbb_cells.length; ++i) {\n",
       "                    if (nbb_cells[i].input_prompt_number == nbb_cell_id) {\n",
       "                        if (nbb_cells[i].get_text() == nbb_unformatted_code) {\n",
       "                             nbb_cells[i].set_text(nbb_formatted_code);\n",
       "                        }\n",
       "                        break;\n",
       "                    }\n",
       "                }\n",
       "            }, 500);\n",
       "            "
      ],
      "text/plain": [
       "<IPython.core.display.Javascript object>"
      ]
     },
     "metadata": {},
     "output_type": "display_data"
    }
   ],
   "source": [
    "scores = model_selection.cross_val_score(\n",
    "    xgb_model_12, xtrain, ytrain, cv=10, scoring=\"accuracy\"\n",
    ")\n",
    "print(\n",
    "    \"Accuracy: %0.2f (+/- %0.2f) [%s] \\n [%s]\"\n",
    "    % (scores.mean(), scores.std(), \"xgb_model\", scores)\n",
    ")"
   ]
  },
  {
   "cell_type": "markdown",
   "metadata": {},
   "source": [
    "# c. SVM"
   ]
  },
  {
   "cell_type": "code",
   "execution_count": null,
   "metadata": {
    "scrolled": true
   },
   "outputs": [],
   "source": [
    "from thundersvm import SVC as svmgpu\n",
    "\n",
    "parameters = {\n",
    "    \"C\": [0.1, 1, 10, 100, 1000],\n",
    "    \"gamma\": [1, 0.1, 0.01, 0.001, 0.0001],\n",
    "    \"kernel\": [\"linear\", \"rbf\"],\n",
    "}\n",
    "\n",
    "SVC_clf = svmgpu()\n",
    "SVC_clf2 = RandomizedSearchCV(SVC_clf, parameters, verbose=2)\n",
    "SVC_clf2.fit(xtrain, ytrain)\n",
    "\n",
    "\n",
    "# sorted(SVC_clf2.cv_results_.keys())"
   ]
  },
  {
   "cell_type": "code",
   "execution_count": null,
   "metadata": {
    "scrolled": true
   },
   "outputs": [],
   "source": [
    "SVC_clf2.best_estimator_"
   ]
  },
  {
   "cell_type": "code",
   "execution_count": null,
   "metadata": {},
   "outputs": [],
   "source": [
    "# # scv_12=SVC_clf2.best_estimator_\n",
    "# scv_12 = svmgpu(\n",
    "#     C=100,\n",
    "#     cache_size=None,\n",
    "#     class_weight={},\n",
    "#     coef0=0.0,\n",
    "#     decision_function_shape=\"ovo\",\n",
    "#     degree=3,\n",
    "#     gamma=0.001,\n",
    "#     gpu_id=0,\n",
    "#     kernel=\"linear\",\n",
    "#     max_iter=-1,\n",
    "#     max_mem_size=-1,\n",
    "#     n_jobs=-1,\n",
    "#     probability=False,\n",
    "#     random_state=None,\n",
    "#     shrinking=False,\n",
    "#     tol=0.001,\n",
    "#     verbose=False,\n",
    "# )"
   ]
  },
  {
   "cell_type": "code",
   "execution_count": 55,
   "metadata": {},
   "outputs": [
    {
     "data": {
      "application/javascript": [
       "\n",
       "            setTimeout(function() {\n",
       "                var nbb_cell_id = 55;\n",
       "                var nbb_unformatted_code = \"scv_12 = svmgpu(\\n    C=0.5,\\n    cache_size=None,\\n    class_weight={},\\n    coef0=0.0,\\n    decision_function_shape=\\\"ovo\\\",\\n    degree=3,\\n    gamma=0.1,\\n    gpu_id=0,\\n    kernel=\\\"linear\\\",\\n    max_iter=-1,\\n    max_mem_size=-1,\\n    n_jobs=-1,\\n    probability=False,\\n    random_state=randomseed,\\n    shrinking=False,\\n    tol=0.001,\\n    verbose=False,\\n)\";\n",
       "                var nbb_formatted_code = \"scv_12 = svmgpu(\\n    C=0.5,\\n    cache_size=None,\\n    class_weight={},\\n    coef0=0.0,\\n    decision_function_shape=\\\"ovo\\\",\\n    degree=3,\\n    gamma=0.1,\\n    gpu_id=0,\\n    kernel=\\\"linear\\\",\\n    max_iter=-1,\\n    max_mem_size=-1,\\n    n_jobs=-1,\\n    probability=False,\\n    random_state=randomseed,\\n    shrinking=False,\\n    tol=0.001,\\n    verbose=False,\\n)\";\n",
       "                var nbb_cells = Jupyter.notebook.get_cells();\n",
       "                for (var i = 0; i < nbb_cells.length; ++i) {\n",
       "                    if (nbb_cells[i].input_prompt_number == nbb_cell_id) {\n",
       "                        if (nbb_cells[i].get_text() == nbb_unformatted_code) {\n",
       "                             nbb_cells[i].set_text(nbb_formatted_code);\n",
       "                        }\n",
       "                        break;\n",
       "                    }\n",
       "                }\n",
       "            }, 500);\n",
       "            "
      ],
      "text/plain": [
       "<IPython.core.display.Javascript object>"
      ]
     },
     "metadata": {},
     "output_type": "display_data"
    }
   ],
   "source": [
    "scv_12 = svmgpu(\n",
    "    C=0.5,\n",
    "    cache_size=None,\n",
    "    class_weight={},\n",
    "    coef0=0.0,\n",
    "    decision_function_shape=\"ovo\",\n",
    "    degree=3,\n",
    "    gamma=0.1,\n",
    "    gpu_id=0,\n",
    "    kernel=\"linear\",\n",
    "    max_iter=-1,\n",
    "    max_mem_size=-1,\n",
    "    n_jobs=-1,\n",
    "    probability=False,\n",
    "    random_state=randomseed,\n",
    "    shrinking=False,\n",
    "    tol=0.001,\n",
    "    verbose=False,\n",
    ")"
   ]
  },
  {
   "cell_type": "code",
   "execution_count": 56,
   "metadata": {},
   "outputs": [
    {
     "data": {
      "application/javascript": [
       "\n",
       "            setTimeout(function() {\n",
       "                var nbb_cell_id = 56;\n",
       "                var nbb_unformatted_code = \"# scv_12 = SVC(\\n#     C=70,\\n#     cache_size=200,\\n#     class_weight=None,\\n#     coef0=0.0,\\n#     decision_function_shape=\\\"ovr\\\",\\n#     degree=3,\\n#     gamma=\\\"auto_deprecated\\\",\\n#     kernel=\\\"linear\\\",\\n#     max_iter=-1,\\n#     probability=True,\\n#     random_state=42,\\n#     shrinking=True,\\n#     tol=0.001,\\n#     verbose=False,\\n# )\";\n",
       "                var nbb_formatted_code = \"# scv_12 = SVC(\\n#     C=70,\\n#     cache_size=200,\\n#     class_weight=None,\\n#     coef0=0.0,\\n#     decision_function_shape=\\\"ovr\\\",\\n#     degree=3,\\n#     gamma=\\\"auto_deprecated\\\",\\n#     kernel=\\\"linear\\\",\\n#     max_iter=-1,\\n#     probability=True,\\n#     random_state=42,\\n#     shrinking=True,\\n#     tol=0.001,\\n#     verbose=False,\\n# )\";\n",
       "                var nbb_cells = Jupyter.notebook.get_cells();\n",
       "                for (var i = 0; i < nbb_cells.length; ++i) {\n",
       "                    if (nbb_cells[i].input_prompt_number == nbb_cell_id) {\n",
       "                        if (nbb_cells[i].get_text() == nbb_unformatted_code) {\n",
       "                             nbb_cells[i].set_text(nbb_formatted_code);\n",
       "                        }\n",
       "                        break;\n",
       "                    }\n",
       "                }\n",
       "            }, 500);\n",
       "            "
      ],
      "text/plain": [
       "<IPython.core.display.Javascript object>"
      ]
     },
     "metadata": {},
     "output_type": "display_data"
    }
   ],
   "source": [
    "# scv_12 = SVC(\n",
    "#     C=70,\n",
    "#     cache_size=200,\n",
    "#     class_weight=None,\n",
    "#     coef0=0.0,\n",
    "#     decision_function_shape=\"ovr\",\n",
    "#     degree=3,\n",
    "#     gamma=\"auto_deprecated\",\n",
    "#     kernel=\"linear\",\n",
    "#     max_iter=-1,\n",
    "#     probability=True,\n",
    "#     random_state=42,\n",
    "#     shrinking=True,\n",
    "#     tol=0.001,\n",
    "#     verbose=False,\n",
    "# )"
   ]
  },
  {
   "cell_type": "code",
   "execution_count": 57,
   "metadata": {},
   "outputs": [
    {
     "data": {
      "text/plain": [
       "SVC(C=0.5, cache_size=None, class_weight={}, coef0=0.0,\n",
       "    decision_function_shape='ovo', degree=3, gamma=0.1, gpu_id=0,\n",
       "    kernel='linear', max_iter=-1, max_mem_size=-1, n_jobs=-1, probability=False,\n",
       "    random_state=42, shrinking=False, tol=0.001, verbose=False)"
      ]
     },
     "execution_count": 57,
     "metadata": {},
     "output_type": "execute_result"
    },
    {
     "data": {
      "application/javascript": [
       "\n",
       "            setTimeout(function() {\n",
       "                var nbb_cell_id = 57;\n",
       "                var nbb_unformatted_code = \"scv_12.fit(xtrain, ytrain)\";\n",
       "                var nbb_formatted_code = \"scv_12.fit(xtrain, ytrain)\";\n",
       "                var nbb_cells = Jupyter.notebook.get_cells();\n",
       "                for (var i = 0; i < nbb_cells.length; ++i) {\n",
       "                    if (nbb_cells[i].input_prompt_number == nbb_cell_id) {\n",
       "                        if (nbb_cells[i].get_text() == nbb_unformatted_code) {\n",
       "                             nbb_cells[i].set_text(nbb_formatted_code);\n",
       "                        }\n",
       "                        break;\n",
       "                    }\n",
       "                }\n",
       "            }, 500);\n",
       "            "
      ],
      "text/plain": [
       "<IPython.core.display.Javascript object>"
      ]
     },
     "metadata": {},
     "output_type": "display_data"
    }
   ],
   "source": [
    "scv_12.fit(xtrain, ytrain)"
   ]
  },
  {
   "cell_type": "code",
   "execution_count": 58,
   "metadata": {},
   "outputs": [
    {
     "name": "stdout",
     "output_type": "stream",
     "text": [
      "Accuracy =  0.6666666666666666\n"
     ]
    },
    {
     "data": {
      "application/javascript": [
       "\n",
       "            setTimeout(function() {\n",
       "                var nbb_cell_id = 58;\n",
       "                var nbb_unformatted_code = \"ypred = scv_12.predict(xtest)\\nprint(\\\"Accuracy = \\\", m.accuracy_score(ytest, ypred))\";\n",
       "                var nbb_formatted_code = \"ypred = scv_12.predict(xtest)\\nprint(\\\"Accuracy = \\\", m.accuracy_score(ytest, ypred))\";\n",
       "                var nbb_cells = Jupyter.notebook.get_cells();\n",
       "                for (var i = 0; i < nbb_cells.length; ++i) {\n",
       "                    if (nbb_cells[i].input_prompt_number == nbb_cell_id) {\n",
       "                        if (nbb_cells[i].get_text() == nbb_unformatted_code) {\n",
       "                             nbb_cells[i].set_text(nbb_formatted_code);\n",
       "                        }\n",
       "                        break;\n",
       "                    }\n",
       "                }\n",
       "            }, 500);\n",
       "            "
      ],
      "text/plain": [
       "<IPython.core.display.Javascript object>"
      ]
     },
     "metadata": {},
     "output_type": "display_data"
    }
   ],
   "source": [
    "ypred = scv_12.predict(xtest)\n",
    "print(\"Accuracy = \", m.accuracy_score(ytest, ypred))"
   ]
  },
  {
   "cell_type": "code",
   "execution_count": 59,
   "metadata": {},
   "outputs": [
    {
     "data": {
      "text/html": [
       "<div>\n",
       "<style scoped>\n",
       "    .dataframe tbody tr th:only-of-type {\n",
       "        vertical-align: middle;\n",
       "    }\n",
       "\n",
       "    .dataframe tbody tr th {\n",
       "        vertical-align: top;\n",
       "    }\n",
       "\n",
       "    .dataframe thead th {\n",
       "        text-align: right;\n",
       "    }\n",
       "</style>\n",
       "<table border=\"1\" class=\"dataframe\">\n",
       "  <thead>\n",
       "    <tr style=\"text-align: right;\">\n",
       "      <th></th>\n",
       "      <th>Normal</th>\n",
       "      <th>Prediabetes</th>\n",
       "      <th>diabetes</th>\n",
       "    </tr>\n",
       "  </thead>\n",
       "  <tbody>\n",
       "    <tr>\n",
       "      <th>Normal</th>\n",
       "      <td>39</td>\n",
       "      <td>11</td>\n",
       "      <td>0</td>\n",
       "    </tr>\n",
       "    <tr>\n",
       "      <th>Prediabetes</th>\n",
       "      <td>12</td>\n",
       "      <td>38</td>\n",
       "      <td>0</td>\n",
       "    </tr>\n",
       "    <tr>\n",
       "      <th>diabetes</th>\n",
       "      <td>0</td>\n",
       "      <td>27</td>\n",
       "      <td>23</td>\n",
       "    </tr>\n",
       "  </tbody>\n",
       "</table>\n",
       "</div>"
      ],
      "text/plain": [
       "             Normal  Prediabetes  diabetes\n",
       "Normal           39           11         0\n",
       "Prediabetes      12           38         0\n",
       "diabetes          0           27        23"
      ]
     },
     "execution_count": 59,
     "metadata": {},
     "output_type": "execute_result"
    },
    {
     "data": {
      "application/javascript": [
       "\n",
       "            setTimeout(function() {\n",
       "                var nbb_cell_id = 59;\n",
       "                var nbb_unformatted_code = \"confmatrx = pd.DataFrame(\\n    m.confusion_matrix(ytest, ypred),\\n    columns=[\\\"Normal\\\", \\\"Prediabetes\\\", \\\"diabetes\\\"],\\n    index=[\\\"Normal\\\", \\\"Prediabetes\\\", \\\"diabetes\\\"],\\n)\\nconfmatrx.head()\";\n",
       "                var nbb_formatted_code = \"confmatrx = pd.DataFrame(\\n    m.confusion_matrix(ytest, ypred),\\n    columns=[\\\"Normal\\\", \\\"Prediabetes\\\", \\\"diabetes\\\"],\\n    index=[\\\"Normal\\\", \\\"Prediabetes\\\", \\\"diabetes\\\"],\\n)\\nconfmatrx.head()\";\n",
       "                var nbb_cells = Jupyter.notebook.get_cells();\n",
       "                for (var i = 0; i < nbb_cells.length; ++i) {\n",
       "                    if (nbb_cells[i].input_prompt_number == nbb_cell_id) {\n",
       "                        if (nbb_cells[i].get_text() == nbb_unformatted_code) {\n",
       "                             nbb_cells[i].set_text(nbb_formatted_code);\n",
       "                        }\n",
       "                        break;\n",
       "                    }\n",
       "                }\n",
       "            }, 500);\n",
       "            "
      ],
      "text/plain": [
       "<IPython.core.display.Javascript object>"
      ]
     },
     "metadata": {},
     "output_type": "display_data"
    }
   ],
   "source": [
    "confmatrx = pd.DataFrame(\n",
    "    m.confusion_matrix(ytest, ypred),\n",
    "    columns=[\"Normal\", \"Prediabetes\", \"diabetes\"],\n",
    "    index=[\"Normal\", \"Prediabetes\", \"diabetes\"],\n",
    ")\n",
    "confmatrx.head()"
   ]
  },
  {
   "cell_type": "code",
   "execution_count": 60,
   "metadata": {},
   "outputs": [
    {
     "name": "stdout",
     "output_type": "stream",
     "text": [
      "              precision    recall  f1-score   support\n",
      "\n",
      "           0       0.76      0.78      0.77        50\n",
      "           1       0.50      0.76      0.60        50\n",
      "           2       1.00      0.46      0.63        50\n",
      "\n",
      "    accuracy                           0.67       150\n",
      "   macro avg       0.75      0.67      0.67       150\n",
      "weighted avg       0.75      0.67      0.67       150\n",
      "\n"
     ]
    },
    {
     "data": {
      "application/javascript": [
       "\n",
       "            setTimeout(function() {\n",
       "                var nbb_cell_id = 60;\n",
       "                var nbb_unformatted_code = \"print(m.classification_report(ytest, ypred))\";\n",
       "                var nbb_formatted_code = \"print(m.classification_report(ytest, ypred))\";\n",
       "                var nbb_cells = Jupyter.notebook.get_cells();\n",
       "                for (var i = 0; i < nbb_cells.length; ++i) {\n",
       "                    if (nbb_cells[i].input_prompt_number == nbb_cell_id) {\n",
       "                        if (nbb_cells[i].get_text() == nbb_unformatted_code) {\n",
       "                             nbb_cells[i].set_text(nbb_formatted_code);\n",
       "                        }\n",
       "                        break;\n",
       "                    }\n",
       "                }\n",
       "            }, 500);\n",
       "            "
      ],
      "text/plain": [
       "<IPython.core.display.Javascript object>"
      ]
     },
     "metadata": {},
     "output_type": "display_data"
    }
   ],
   "source": [
    "print(m.classification_report(ytest, ypred))"
   ]
  },
  {
   "cell_type": "code",
   "execution_count": 61,
   "metadata": {},
   "outputs": [
    {
     "name": "stdout",
     "output_type": "stream",
     "text": [
      "Accuracy: 0.81 (+/- 0.02) [SVC_clf] \n",
      " [[0.80493827 0.81975309 0.80987654 0.81234568 0.78271605 0.80246914\n",
      " 0.83209877 0.79506173 0.82222222 0.8345679 ]]\n"
     ]
    },
    {
     "data": {
      "application/javascript": [
       "\n",
       "            setTimeout(function() {\n",
       "                var nbb_cell_id = 61;\n",
       "                var nbb_unformatted_code = \"scores = model_selection.cross_val_score(\\n    scv_12, xtrain, ytrain, cv=10, scoring=\\\"accuracy\\\"\\n)\\nprint(\\n    \\\"Accuracy: %0.2f (+/- %0.2f) [%s] \\\\n [%s]\\\"\\n    % (scores.mean(), scores.std(), \\\"SVC_clf\\\", scores)\\n)\";\n",
       "                var nbb_formatted_code = \"scores = model_selection.cross_val_score(\\n    scv_12, xtrain, ytrain, cv=10, scoring=\\\"accuracy\\\"\\n)\\nprint(\\n    \\\"Accuracy: %0.2f (+/- %0.2f) [%s] \\\\n [%s]\\\"\\n    % (scores.mean(), scores.std(), \\\"SVC_clf\\\", scores)\\n)\";\n",
       "                var nbb_cells = Jupyter.notebook.get_cells();\n",
       "                for (var i = 0; i < nbb_cells.length; ++i) {\n",
       "                    if (nbb_cells[i].input_prompt_number == nbb_cell_id) {\n",
       "                        if (nbb_cells[i].get_text() == nbb_unformatted_code) {\n",
       "                             nbb_cells[i].set_text(nbb_formatted_code);\n",
       "                        }\n",
       "                        break;\n",
       "                    }\n",
       "                }\n",
       "            }, 500);\n",
       "            "
      ],
      "text/plain": [
       "<IPython.core.display.Javascript object>"
      ]
     },
     "metadata": {},
     "output_type": "display_data"
    }
   ],
   "source": [
    "scores = model_selection.cross_val_score(\n",
    "    scv_12, xtrain, ytrain, cv=10, scoring=\"accuracy\"\n",
    ")\n",
    "print(\n",
    "    \"Accuracy: %0.2f (+/- %0.2f) [%s] \\n [%s]\"\n",
    "    % (scores.mean(), scores.std(), \"SVC_clf\", scores)\n",
    ")"
   ]
  },
  {
   "cell_type": "code",
   "execution_count": null,
   "metadata": {},
   "outputs": [],
   "source": []
  },
  {
   "cell_type": "code",
   "execution_count": null,
   "metadata": {},
   "outputs": [],
   "source": []
  }
 ],
 "metadata": {
  "kernelspec": {
   "display_name": "Python 3",
   "language": "python",
   "name": "python3"
  },
  "language_info": {
   "codemirror_mode": {
    "name": "ipython",
    "version": 3
   },
   "file_extension": ".py",
   "mimetype": "text/x-python",
   "name": "python",
   "nbconvert_exporter": "python",
   "pygments_lexer": "ipython3",
   "version": "3.7.3"
  }
 },
 "nbformat": 4,
 "nbformat_minor": 2
}

{
 "cells": [
  {
   "cell_type": "code",
   "execution_count": 1,
   "metadata": {},
   "outputs": [
    {
     "name": "stderr",
     "output_type": "stream",
     "text": [
      "Using TensorFlow backend.\n"
     ]
    }
   ],
   "source": [
    "from matplotlib import pyplot as plt\n",
    "import pandas as pd \n",
    "import numpy as np\n",
    "import warnings\n",
    "warnings.filterwarnings('ignore')\n",
    "from scipy import stats\n",
    "from sklearn.utils import shuffle\n",
    "from sklearn.preprocessing import LabelEncoder\n",
    "from sklearn.metrics import confusion_matrix \n",
    "from sklearn.utils import shuffle\n",
    "from sklearn.ensemble import RandomForestRegressor\n",
    "from sklearn.datasets import make_regression\n",
    "from sklearn.model_selection import train_test_split\n",
    "from sklearn.metrics import mean_absolute_error\n",
    "from sklearn.metrics import mean_squared_error\n",
    "from sklearn.metrics import mean_absolute_error\n",
    "from sklearn.metrics import r2_score\n",
    "from keras.models import Sequential\n",
    "from keras.layers import Dense\n",
    "from keras.wrappers.scikit_learn import KerasRegressor\n",
    "from sklearn.model_selection import cross_val_score\n",
    "from sklearn.model_selection import KFold\n",
    "from sklearn.preprocessing import StandardScaler\n",
    "from sklearn.pipeline import Pipeline\n",
    "from keras.layers import Dropout\n",
    "from keras.layers import BatchNormalization\n",
    "from keras.models import model_from_json\n",
    "from keras.utils import multi_gpu_model \n",
    "from keras.utils import to_categorical\n"
   ]
  },
  {
   "cell_type": "markdown",
   "metadata": {},
   "source": [
    "Read the data\n",
    "==========="
   ]
  },
  {
   "cell_type": "code",
   "execution_count": 3,
   "metadata": {},
   "outputs": [
    {
     "name": "stdout",
     "output_type": "stream",
     "text": [
      "(159381, 29)\n",
      "(159381, 29)\n"
     ]
    }
   ],
   "source": [
    "x_original=pd.read_csv('_xlable4_withNa_AllColumns.txt')\n",
    "y_original=pd.read_csv('_targelable4_withNa_AllColumns.txt')\n",
    "\n",
    "x_original=x_original[['Unnamed: 0','L190300', 'L190500', 'L190400', 'SEX', 'L100700', 'L100500', 'S000100', 'L103300',\n",
    "                       'S000501', 'S000300', 'L100200', 'S000502', 'L103100', 'L101300', 'L103000', 'L101600', 'L190600',\n",
    "                       'FIELD_33', 'AGE', 'FIELD_38', 'FIELD_18', 'FIELD_40', 'FIELD_25', 'FIELD_41', 'FIELD_4', \n",
    "                       'FIELD_29', 'FIELD_42', 'FIELD_32'\n",
    "#                        , 'FIELD_6' \n",
    "                      ]]\n",
    "\n",
    "y_original=y_original[['Unnamed: 0','L190300', 'L190500', 'L190400', 'SEX', 'L100700', 'L100500', 'S000100', 'L103300',\n",
    "                       'S000501', 'S000300', 'L100200', 'S000502', 'L103100', 'L101300', 'L103000', 'L101600', 'L190600',\n",
    "                       'FIELD_33', 'AGE', 'FIELD_38', 'FIELD_18', 'FIELD_40', 'FIELD_25', 'FIELD_41', 'FIELD_4', \n",
    "                       'FIELD_29', 'FIELD_42', 'FIELD_32'\n",
    "#                        , 'FIELD_6'\n",
    "                      ]]\n",
    "\n",
    "print(x_original.shape)\n",
    "print(y_original.shape)\n"
   ]
  },
  {
   "cell_type": "code",
   "execution_count": 4,
   "metadata": {},
   "outputs": [
    {
     "name": "stdout",
     "output_type": "stream",
     "text": [
      "Unnamed: 0 159381\n",
      "L190300 159204\n",
      "L190500 159204\n",
      "L190400 159241\n",
      "SEX 159381\n",
      "L100700 152474\n",
      "L100500 158954\n",
      "S000100 159302\n",
      "L103300 135222\n",
      "S000501 159305\n",
      "S000300 159075\n",
      "L100200 148627\n",
      "S000502 159305\n",
      "L103100 158880\n",
      "L101300 159247\n",
      "L103000 158939\n",
      "L101600 152251\n",
      "L190600 145182\n",
      "FIELD_33 159069\n",
      "AGE 159381\n",
      "FIELD_38 159077\n",
      "FIELD_18 159365\n",
      "FIELD_40 159083\n",
      "FIELD_25 159366\n",
      "FIELD_41 159053\n",
      "FIELD_4 156956\n",
      "FIELD_29 159365\n",
      "FIELD_42 159032\n",
      "FIELD_32 158869\n"
     ]
    }
   ],
   "source": [
    "for index,col in enumerate(x_original.columns):\n",
    "    print(col,x_original[col].dropna().shape[0])"
   ]
  },
  {
   "cell_type": "markdown",
   "metadata": {},
   "source": [
    "Prepare the data\n",
    "============"
   ]
  },
  {
   "cell_type": "code",
   "execution_count": 5,
   "metadata": {},
   "outputs": [
    {
     "ename": "AttributeError",
     "evalue": "'DataFrame' object has no attribute 'L100800'",
     "output_type": "error",
     "traceback": [
      "\u001b[1;31m---------------------------------------------------------------------------\u001b[0m",
      "\u001b[1;31mAttributeError\u001b[0m                            Traceback (most recent call last)",
      "\u001b[1;32m<ipython-input-5-ad9b39045c4d>\u001b[0m in \u001b[0;36m<module>\u001b[1;34m\u001b[0m\n\u001b[0;32m     31\u001b[0m \u001b[1;33m\u001b[0m\u001b[0m\n\u001b[0;32m     32\u001b[0m conditions4 = [\n\u001b[1;32m---> 33\u001b[1;33m     \u001b[1;33m(\u001b[0m\u001b[0mdf\u001b[0m\u001b[1;33m.\u001b[0m\u001b[0mL100800\u001b[0m \u001b[1;33m<\u001b[0m \u001b[1;36m100\u001b[0m\u001b[1;33m)\u001b[0m  \u001b[1;33m,\u001b[0m\u001b[1;33m\u001b[0m\u001b[1;33m\u001b[0m\u001b[0m\n\u001b[0m\u001b[0;32m     34\u001b[0m     \u001b[1;33m(\u001b[0m\u001b[0mdf\u001b[0m\u001b[1;33m.\u001b[0m\u001b[0mL100800\u001b[0m \u001b[1;33m>=\u001b[0m \u001b[1;36m100\u001b[0m\u001b[1;33m)\u001b[0m \u001b[1;33m&\u001b[0m \u001b[1;33m(\u001b[0m\u001b[0mdf\u001b[0m\u001b[1;33m.\u001b[0m\u001b[0mL100800\u001b[0m \u001b[1;33m<\u001b[0m \u001b[1;36m126\u001b[0m\u001b[1;33m)\u001b[0m\u001b[1;33m,\u001b[0m\u001b[1;33m\u001b[0m\u001b[1;33m\u001b[0m\u001b[0m\n\u001b[0;32m     35\u001b[0m     (df.L100800 >= 126)]\n",
      "\u001b[1;32mC:\\ProgramData\\Anaconda3\\lib\\site-packages\\pandas\\core\\generic.py\u001b[0m in \u001b[0;36m__getattr__\u001b[1;34m(self, name)\u001b[0m\n\u001b[0;32m   5065\u001b[0m             \u001b[1;32mif\u001b[0m \u001b[0mself\u001b[0m\u001b[1;33m.\u001b[0m\u001b[0m_info_axis\u001b[0m\u001b[1;33m.\u001b[0m\u001b[0m_can_hold_identifiers_and_holds_name\u001b[0m\u001b[1;33m(\u001b[0m\u001b[0mname\u001b[0m\u001b[1;33m)\u001b[0m\u001b[1;33m:\u001b[0m\u001b[1;33m\u001b[0m\u001b[1;33m\u001b[0m\u001b[0m\n\u001b[0;32m   5066\u001b[0m                 \u001b[1;32mreturn\u001b[0m \u001b[0mself\u001b[0m\u001b[1;33m[\u001b[0m\u001b[0mname\u001b[0m\u001b[1;33m]\u001b[0m\u001b[1;33m\u001b[0m\u001b[1;33m\u001b[0m\u001b[0m\n\u001b[1;32m-> 5067\u001b[1;33m             \u001b[1;32mreturn\u001b[0m \u001b[0mobject\u001b[0m\u001b[1;33m.\u001b[0m\u001b[0m__getattribute__\u001b[0m\u001b[1;33m(\u001b[0m\u001b[0mself\u001b[0m\u001b[1;33m,\u001b[0m \u001b[0mname\u001b[0m\u001b[1;33m)\u001b[0m\u001b[1;33m\u001b[0m\u001b[1;33m\u001b[0m\u001b[0m\n\u001b[0m\u001b[0;32m   5068\u001b[0m \u001b[1;33m\u001b[0m\u001b[0m\n\u001b[0;32m   5069\u001b[0m     \u001b[1;32mdef\u001b[0m \u001b[0m__setattr__\u001b[0m\u001b[1;33m(\u001b[0m\u001b[0mself\u001b[0m\u001b[1;33m,\u001b[0m \u001b[0mname\u001b[0m\u001b[1;33m,\u001b[0m \u001b[0mvalue\u001b[0m\u001b[1;33m)\u001b[0m\u001b[1;33m:\u001b[0m\u001b[1;33m\u001b[0m\u001b[1;33m\u001b[0m\u001b[0m\n",
      "\u001b[1;31mAttributeError\u001b[0m: 'DataFrame' object has no attribute 'L100800'"
     ]
    }
   ],
   "source": [
    "df=x_original.copy()\n",
    "conditions = [\n",
    "    (df.S000501 < 120)  ,\n",
    "    (df.S000501 >= 120) & (df.S000501 < 130),\n",
    "    (df.S000501 >=130)]\n",
    "choices = [0,1,2]\n",
    "df['sbpG'] = np.select(conditions, choices, default=0)\n",
    "df.head()\n",
    "x_original=df.copy()\n",
    "\n",
    "conditions2 = [\n",
    "    (df.S000502 < 80)  ,\n",
    "    (df.S000502 >= 80) & (df.S000502 < 90),\n",
    "    (df.S000502 >=90)]\n",
    "choices2 = [0,1,2]\n",
    "df['dbpG'] = np.select(conditions2, choices2, default=0)\n",
    "df.head()\n",
    "x_original=df.copy()\n",
    "\n",
    "conditions3 = [\n",
    "    (df.AGE < 30)  ,\n",
    "    (df.AGE >= 30) & (df.AGE < 40),\n",
    "    (df.AGE >= 40) & (df.AGE < 50),\n",
    "    (df.AGE >= 50) & (df.AGE < 60),\n",
    "    (df.AGE >= 60)]\n",
    "choices3 = [0,1,2,3,4]\n",
    "df['AgeG'] = np.select(conditions3, choices3, default=0)\n",
    "df.head()\n",
    "x_original=df.copy()\n",
    "\n",
    "\n",
    "conditions4 = [\n",
    "    (df.L100800 < 100)  ,\n",
    "    (df.L100800 >= 100) & (df.L100800 < 126), \n",
    "    (df.L100800 >= 126)]\n",
    "choices4 = [0,1,2]\n",
    "df['CLASS'] = np.select(conditions4, choices4, default=0)\n",
    "df.head()\n",
    "x_original=df.copy()"
   ]
  },
  {
   "cell_type": "code",
   "execution_count": null,
   "metadata": {},
   "outputs": [],
   "source": [
    "data= pd.merge(x_original,y_original, how='inner',left_on='Unnamed: 0', right_on='Unnamed: 0')\n",
    "data=data.dropna(). reset_index()\n",
    "\n",
    "# data=data[data.AGE_x >= 40]\n",
    "# data=data[data.AGE_x < 50]\n",
    "\n",
    "# data=data[data.CLASS_x==0]\n",
    "# data=data[data.sbpG==0]\n",
    "# data=data[data.dbpG==0]\n",
    "\n",
    "# data=data[data.L100800_y <200]\n",
    "\n",
    "print(data.shape)"
   ]
  },
  {
   "cell_type": "code",
   "execution_count": null,
   "metadata": {},
   "outputs": [],
   "source": [
    "print(data.shape)\n",
    "print(data.columns)\n",
    "data.head()"
   ]
  },
  {
   "cell_type": "code",
   "execution_count": 20,
   "metadata": {},
   "outputs": [],
   "source": [
    "x=data[['L190300_x', 'L190500_x', 'L190400_x', 'SEX_x', 'L100700_x', 'L100500_x', 'S000100_x', 'L103300_x',\n",
    "        'S000501_x', 'S000300_x', 'L100200_x', 'S000502_x', 'L103100_x', 'L101300_x', 'L103000_x', 'L101600_x', 'L190600_x',\n",
    "        'FIELD_33_x', 'CLASS_x', 'FIELD_38_x', 'FIELD_18_x', 'FIELD_40_x', 'FIELD_25_x', 'FIELD_41_x', 'FIELD_4_x',\n",
    "        #                        , 'FIELD_6'\n",
    "        'CLASS','sbpG','dbpG','AgeG']]\n",
    "\n",
    "y=data[['L190500_y', 'L190400_y', 'L190300_y', 'SEX_y', 'L100500_y', 'S000100_y', 'L100700_y', 'L103300_y', \n",
    "                       'S000501_y', 'L100200_y', 'L104500_y', 'L104300_y', 'S000502_y', 'S000300_y', 'L101300_y', 'L190700_y', 'L101000_y',\n",
    "                       'FIELD_33_y', 'AGE_y', 'FIELD_38_y', 'FIELD_40_y', 'FIELD_18_y', 'FIELD_25_y', 'FIELD_41_y', \n",
    "                       'FIELD_29_y', 'FIELD_42_y', 'FIELD_19_y'\n",
    "#                        , 'FIELD_6''FIELD_7_y', \n",
    "        ]]"
   ]
  },
  {
   "cell_type": "markdown",
   "metadata": {},
   "source": [
    "Check the correlation of the selected feature with the independent variables\n",
    "====="
   ]
  },
  {
   "cell_type": "code",
   "execution_count": 26,
   "metadata": {},
   "outputs": [],
   "source": [
    "temppd=pd.DataFrame(x.copy())\n",
    "temppd['y']=y.L190500_y\n",
    "temppd.head()\n",
    "corval=abs(temppd.corr()).sort_values(by='y', ascending=False)"
   ]
  },
  {
   "cell_type": "code",
   "execution_count": 27,
   "metadata": {},
   "outputs": [
    {
     "data": {
      "text/plain": [
       "y             1.000000\n",
       "L190500_x     0.834940\n",
       "L190400_x     0.834766\n",
       "L190300_x     0.744982\n",
       "SEX_x         0.722799\n",
       "S000100_x     0.532268\n",
       "L100500_x     0.499733\n",
       "L100700_x     0.494766\n",
       "FIELD_33_x    0.447817\n",
       "S000300_x     0.368730\n",
       "S000501_x     0.364928\n",
       "L103300_x     0.358559\n",
       "L104500_x     0.324761\n",
       "S000502_x     0.312200\n",
       "sbpG          0.307141\n",
       "L101300_x     0.303483\n",
       "L190700_x     0.278975\n",
       "L104300_x     0.272796\n",
       "FIELD_38_x    0.250323\n",
       "dbpG          0.226805\n",
       "L101000_x     0.221156\n",
       "L100200_x     0.211737\n",
       "CLASS         0.200641\n",
       "FIELD_40_x    0.095753\n",
       "AgeG          0.058064\n",
       "AGE_x         0.055969\n",
       "FIELD_29_x    0.055062\n",
       "FIELD_41_x    0.054200\n",
       "FIELD_18_x    0.044268\n",
       "FIELD_25_x    0.041289\n",
       "FIELD_42_x    0.038922\n",
       "FIELD_19_x    0.010605\n",
       "Name: y, dtype: float64"
      ]
     },
     "execution_count": 27,
     "metadata": {},
     "output_type": "execute_result"
    }
   ],
   "source": [
    "corval.y"
   ]
  },
  {
   "cell_type": "code",
   "execution_count": 28,
   "metadata": {},
   "outputs": [],
   "source": [
    "#histogram plot of the features\n",
    "# import matplotlib.pyplot as plt\n",
    "# x[x.dtypes[(x.dtypes==\"float64\")|(x.dtypes==\"int64\")]\n",
    "#                         .index.values].hist(figsize=[11,11])"
   ]
  },
  {
   "cell_type": "markdown",
   "metadata": {},
   "source": [
    "Apply PCA\n",
    "==========="
   ]
  },
  {
   "cell_type": "code",
   "execution_count": 29,
   "metadata": {},
   "outputs": [],
   "source": [
    "# from sklearn.decomposition import PCA\n",
    "# pca = PCA(n_components=8)\n",
    "# pca.fit(x)\n",
    "\n",
    "# print(pca.explained_variance_ratio_)   \n",
    "# print(np.sum(pca.explained_variance_ratio_))\n",
    "\n",
    "# x=pca.fit_transform(x) \n",
    "# print(x.shape)\n"
   ]
  },
  {
   "cell_type": "markdown",
   "metadata": {},
   "source": [
    "feature scaling\n",
    "======="
   ]
  },
  {
   "cell_type": "code",
   "execution_count": 30,
   "metadata": {},
   "outputs": [],
   "source": [
    "# from sklearn import preprocessing\n",
    "# min_max_scaler = preprocessing.MinMaxScaler()  #StandardScaler()\n",
    "# x = min_max_scaler.fit_transform(x)"
   ]
  },
  {
   "cell_type": "markdown",
   "metadata": {},
   "source": [
    "clustring test\n",
    "=========="
   ]
  },
  {
   "cell_type": "code",
   "execution_count": 31,
   "metadata": {},
   "outputs": [],
   "source": [
    "# from sklearn.cluster import KMeans\n",
    "# from scipy.spatial.distance import cdist\n",
    "\n",
    "# K = range(1,10)\n",
    "# distortions = []\n",
    "\n",
    "# for k in K:\n",
    "#     kmeanModel = KMeans(n_clusters=k).fit(x)\n",
    "#     kmeanModel.fit(x)\n",
    "#     distortions.append(sum(np.min(cdist(x, kmeanModel.cluster_centers_, 'euclidean'), axis=1)) / x.shape[0])\n",
    "\n",
    "# # Plot the elbow\n",
    "# plt.plot(K, distortions, 'bx-')\n",
    "# plt.xlabel('k')\n",
    "# plt.ylabel('Distortion')\n",
    "# plt.title('The Elbow Method showing the optimal k')\n",
    "# plt.show()\n"
   ]
  },
  {
   "cell_type": "code",
   "execution_count": 32,
   "metadata": {},
   "outputs": [],
   "source": [
    "# kmeanModel = KMeans(n_clusters=k).fit(x)\n",
    "# x['lbl']=kmeanModel.labels_ "
   ]
  },
  {
   "cell_type": "code",
   "execution_count": 33,
   "metadata": {},
   "outputs": [],
   "source": [
    "# x.columns"
   ]
  },
  {
   "cell_type": "markdown",
   "metadata": {},
   "source": [
    "Random Forest Regressor\n",
    "============="
   ]
  },
  {
   "cell_type": "code",
   "execution_count": 34,
   "metadata": {},
   "outputs": [],
   "source": [
    "ylable=y[['L190500_y']]  \n",
    "xtrain,xtest,ytrain,ytest=train_test_split(x, ylable, random_state=42, test_size=0.2)"
   ]
  },
  {
   "cell_type": "code",
   "execution_count": 35,
   "metadata": {},
   "outputs": [
    {
     "name": "stdout",
     "output_type": "stream",
     "text": [
      "[1.92639140e-01 2.34498049e-01 9.91958852e-04 5.53478566e-01\n",
      " 3.86029052e-04 8.13841784e-04 4.62409868e-04 4.76074624e-04\n",
      " 5.20736503e-04 6.67583040e-03 2.04302758e-03 1.11623555e-03\n",
      " 5.99623429e-04 1.38154565e-03 5.25635468e-04 1.09058544e-03\n",
      " 2.78769564e-04 1.37121286e-04 8.50126355e-04 2.84866405e-04\n",
      " 1.05397550e-04 2.32947636e-05 2.91578061e-05 1.33586270e-04\n",
      " 2.62488864e-05 2.42844721e-04 1.81405314e-05 7.56591091e-05\n",
      " 2.22680822e-05 1.28115009e-05 6.04182702e-05]\n"
     ]
    }
   ],
   "source": [
    "regr = RandomForestRegressor(max_depth=7, random_state=0,verbose =0,n_estimators=500)\n",
    "regr.fit(xtrain, ytrain) \n",
    "print(regr.feature_importances_)\n",
    "ypred=regr.predict(xtest)\n"
   ]
  },
  {
   "cell_type": "code",
   "execution_count": 36,
   "metadata": {},
   "outputs": [
    {
     "name": "stdout",
     "output_type": "stream",
     "text": [
      "mean_squared_error 4.223543054554998\n",
      "root mean_squared_error 2.055126043471543\n",
      "mean_absolute_error 1.594495503661157\n",
      "r2_score 0.7427260165176859\n"
     ]
    },
    {
     "data": {
      "image/png": "[encoded data removed]",
      "text/plain": [
       "<Figure size 432x288 with 1 Axes>"
      ]
     },
     "metadata": {
      "needs_background": "light"
     },
     "output_type": "display_data"
    },
    {
     "data": {
      "text/html": [
       "<div>\n",
       "<style scoped>\n",
       "    .dataframe tbody tr th:only-of-type {\n",
       "        vertical-align: middle;\n",
       "    }\n",
       "\n",
       "    .dataframe tbody tr th {\n",
       "        vertical-align: top;\n",
       "    }\n",
       "\n",
       "    .dataframe thead th {\n",
       "        text-align: right;\n",
       "    }\n",
       "</style>\n",
       "<table border=\"1\" class=\"dataframe\">\n",
       "  <thead>\n",
       "    <tr style=\"text-align: right;\">\n",
       "      <th></th>\n",
       "      <th>t + 1</th>\n",
       "      <th>pred (t +1)</th>\n",
       "    </tr>\n",
       "  </thead>\n",
       "  <tbody>\n",
       "    <tr>\n",
       "      <th>2317</th>\n",
       "      <td>54.3</td>\n",
       "      <td>51.543194</td>\n",
       "    </tr>\n",
       "    <tr>\n",
       "      <th>1703</th>\n",
       "      <td>54.5</td>\n",
       "      <td>50.496412</td>\n",
       "    </tr>\n",
       "    <tr>\n",
       "      <th>9697</th>\n",
       "      <td>54.5</td>\n",
       "      <td>50.661713</td>\n",
       "    </tr>\n",
       "    <tr>\n",
       "      <th>5387</th>\n",
       "      <td>54.7</td>\n",
       "      <td>48.655079</td>\n",
       "    </tr>\n",
       "    <tr>\n",
       "      <th>448</th>\n",
       "      <td>54.7</td>\n",
       "      <td>48.367393</td>\n",
       "    </tr>\n",
       "    <tr>\n",
       "      <th>2529</th>\n",
       "      <td>54.9</td>\n",
       "      <td>53.431941</td>\n",
       "    </tr>\n",
       "    <tr>\n",
       "      <th>7882</th>\n",
       "      <td>55.1</td>\n",
       "      <td>51.684521</td>\n",
       "    </tr>\n",
       "    <tr>\n",
       "      <th>68</th>\n",
       "      <td>55.3</td>\n",
       "      <td>49.780567</td>\n",
       "    </tr>\n",
       "    <tr>\n",
       "      <th>5112</th>\n",
       "      <td>57.8</td>\n",
       "      <td>52.602199</td>\n",
       "    </tr>\n",
       "    <tr>\n",
       "      <th>6718</th>\n",
       "      <td>58.0</td>\n",
       "      <td>52.673692</td>\n",
       "    </tr>\n",
       "  </tbody>\n",
       "</table>\n",
       "</div>"
      ],
      "text/plain": [
       "      t + 1  pred (t +1)\n",
       "2317   54.3    51.543194\n",
       "1703   54.5    50.496412\n",
       "9697   54.5    50.661713\n",
       "5387   54.7    48.655079\n",
       "448    54.7    48.367393\n",
       "2529   54.9    53.431941\n",
       "7882   55.1    51.684521\n",
       "68     55.3    49.780567\n",
       "5112   57.8    52.602199\n",
       "6718   58.0    52.673692"
      ]
     },
     "execution_count": 36,
     "metadata": {},
     "output_type": "execute_result"
    },
    {
     "data": {
      "image/png": "[encoded data removed]",
      "text/plain": [
       "<Figure size 432x288 with 1 Axes>"
      ]
     },
     "metadata": {
      "needs_background": "light"
     },
     "output_type": "display_data"
    }
   ],
   "source": [
    "\n",
    "import math\n",
    "print('mean_squared_error',mean_squared_error(ytest, ypred))\n",
    "print('root mean_squared_error',math.sqrt(mean_squared_error(ytest, ypred)))\n",
    "print('mean_absolute_error',mean_absolute_error(ytest, ypred))\n",
    "print('r2_score',r2_score(ytest, ypred))\n",
    "\n",
    "ypredPD=pd.DataFrame()\n",
    "# ypredPD['t']=xtest['S000501_x'].values\n",
    "ypredPD['t + 1']=ytest.values.ravel()\n",
    "ypredPD['pred (t +1)']=ypred\n",
    "ypredPD.head(30)\n",
    "\n",
    "import matplotlib.patches as mpatches\n",
    "plt.ylabel('Values')\n",
    "plt.xlabel('index')\n",
    "red_patch = mpatches.Patch(color='red', label='Actual data')\n",
    "blue_patch = mpatches.Patch(color='blue', label='Predicted data')\n",
    "plt.legend(handles=[red_patch,blue_patch])\n",
    "\n",
    "ypredPD=ypredPD.sort_values(by=['t + 1'])\n",
    "plt.scatter(np.arange(0,ypredPD.shape[0],1),ypredPD['pred (t +1)'][:ypredPD.shape[0]])\n",
    "plt.plot(np.arange(0,ypredPD.shape[0],1),ypredPD['t + 1'][:ypredPD.shape[0]],color='red')\n",
    "plt.show()\n",
    "\n",
    "plt.ylabel('p*(t+1), Predicted data')\n",
    "plt.xlabel('p(t+1), Actual data')\n",
    "plt.scatter(ypredPD['t + 1'][:ypredPD.shape[0]],ypredPD['pred (t +1)'][:ypredPD.shape[0]])\n",
    "\n",
    "ypredPD.tail(10)"
   ]
  },
  {
   "cell_type": "code",
   "execution_count": 37,
   "metadata": {},
   "outputs": [],
   "source": [
    "# tempdata=pd.DataFrame(xtest.copy())\n",
    "# tempdata['ytest']=ytest\n",
    "# # temp=temp.dropna()\n",
    "# # tempdata.head()\n",
    "# # tempdata[tempdata.ytest.isna()].index\n",
    "\n",
    "# tempdata=tempdata.drop(tempdata[tempdata.ytest.isna()].index)\n"
   ]
  },
  {
   "cell_type": "markdown",
   "metadata": {},
   "source": [
    "xg boost\n",
    "=========="
   ]
  },
  {
   "cell_type": "code",
   "execution_count": 38,
   "metadata": {},
   "outputs": [],
   "source": [
    "import xgboost as xgb\n",
    "# from sklearn.metrics import mean_squared_error\n",
    "# import pandas as pd\n",
    "# import numpy as np"
   ]
  },
  {
   "cell_type": "code",
   "execution_count": 39,
   "metadata": {},
   "outputs": [
    {
     "name": "stdout",
     "output_type": "stream",
     "text": [
      "[23:04:38] WARNING: C:/Jenkins/workspace/xgboost-win64_release_0.90/src/objective/regression_obj.cu:152: reg:linear is now deprecated in favor of reg:squarederror.\n"
     ]
    },
    {
     "data": {
      "text/plain": [
       "XGBRegressor(base_score=0.5, booster='gbtree', colsample_bylevel=1,\n",
       "             colsample_bynode=1, colsample_bytree=1, gamma=0,\n",
       "             importance_type='gain', learning_rate=0.1, max_delta_step=0,\n",
       "             max_depth=3, min_child_weight=1, missing=None, n_estimators=100,\n",
       "             n_jobs=1, nthread=None, objective='reg:linear', random_state=0,\n",
       "             reg_alpha=0, reg_lambda=1, scale_pos_weight=1, seed=None,\n",
       "             silent=None, subsample=1, verbosity=1)"
      ]
     },
     "execution_count": 39,
     "metadata": {},
     "output_type": "execute_result"
    }
   ],
   "source": [
    "xg_reg = xgb.XGBRegressor()\n",
    "# xg_reg = xgb.XGBRegressor(objective ='reg:linear', colsample_bytree = 0.3, \n",
    "#                           learning_rate = 0.1,max_depth = 5, alpha = 10, n_estimators = 10)\n",
    "xg_reg.fit(xtrain, ytrain) "
   ]
  },
  {
   "cell_type": "code",
   "execution_count": 40,
   "metadata": {},
   "outputs": [
    {
     "name": "stdout",
     "output_type": "stream",
     "text": [
      "mean_squared_error 4.16500903288366\n",
      "root mean_squared_error 2.0408353762328946\n",
      "mean_absolute_error 1.5833570984255194\n",
      "r2_score 0.7462915729072163\n"
     ]
    }
   ],
   "source": [
    "\n",
    "ypred = xg_reg.predict(xtest)\n",
    "\n",
    "import math\n",
    "print('mean_squared_error',mean_squared_error(ytest, ypred))\n",
    "print('root mean_squared_error',math.sqrt(mean_squared_error(ytest, ypred)))\n",
    "print('mean_absolute_error',mean_absolute_error(ytest, ypred))\n",
    "print('r2_score',r2_score(ytest, ypred))\n",
    "\n",
    "# ypredPD=pd.DataFrame()\n",
    "# ypredPD['t']=xtest['S000501_x'].values\n",
    "# ypredPD['t + 1']=ytest.values\n",
    "# ypredPD['pred (t +1)']=ypred\n",
    "# ypredPD.head(10)"
   ]
  },
  {
   "cell_type": "code",
   "execution_count": 41,
   "metadata": {},
   "outputs": [],
   "source": [
    "# ytest[ytest.isna()].shape\n",
    "# tempdata.iloc[:,-1]"
   ]
  },
  {
   "cell_type": "markdown",
   "metadata": {},
   "source": [
    "ANN\n",
    "=========="
   ]
  },
  {
   "cell_type": "code",
   "execution_count": 44,
   "metadata": {},
   "outputs": [],
   "source": [
    "model= Sequential()\n",
    "model.add(Dense(input_dim=31,units=128,activation='relu', kernel_initializer='uniform'))\n",
    "model.add(Dense(units=128, activation='relu', kernel_initializer='uniform')) \n",
    "# model.add(BatchNormalization())\n",
    "# model.add(Dropout(0.25))  \n",
    "model.add(Dense(units=64, activation='relu', kernel_initializer='uniform'))\n",
    "model.add(Dense(units=32, activation='relu', kernel_initializer='uniform')) \n",
    "model.add(BatchNormalization())\n",
    "model.add(Dropout(0.25))  \n",
    "model.add(Dense(units=16, activation='relu', kernel_initializer='uniform'))\n",
    "model.add(BatchNormalization())\n",
    "model.add(Dropout(0.25))  \n",
    "model.add(Dense(units=8, activation='relu', kernel_initializer='uniform'))\n",
    "model.add(Dense(units=1, kernel_initializer='uniform'))\n",
    "model.compile(loss='mean_squared_error', optimizer='Nadam', metrics=['mean_squared_error' ])"
   ]
  },
  {
   "cell_type": "code",
   "execution_count": 45,
   "metadata": {
    "scrolled": true
   },
   "outputs": [
    {
     "name": "stderr",
     "output_type": "stream",
     "text": [
      "W1003 23:05:01.668176  5044 deprecation_wrapper.py:119] From C:\\ProgramData\\Anaconda3\\lib\\site-packages\\keras\\backend\\tensorflow_backend.py:986: The name tf.assign_add is deprecated. Please use tf.compat.v1.assign_add instead.\n",
      "\n"
     ]
    },
    {
     "name": "stdout",
     "output_type": "stream",
     "text": [
      "Train on 40017 samples, validate on 10005 samples\n",
      "Epoch 1/100\n",
      "40017/40017 [==============================] - 2s 41us/step - loss: 382.7516 - mean_squared_error: 382.7516 - val_loss: 1682.3247 - val_mean_squared_error: 1682.3247\n",
      "Epoch 2/100\n",
      "40017/40017 [==============================] - 1s 25us/step - loss: 47.3438 - mean_squared_error: 47.3438 - val_loss: 23.3590 - val_mean_squared_error: 23.3590\n",
      "Epoch 3/100\n",
      "40017/40017 [==============================] - 1s 25us/step - loss: 39.6240 - mean_squared_error: 39.6240 - val_loss: 7.6778 - val_mean_squared_error: 7.6778\n",
      "Epoch 4/100\n",
      "40017/40017 [==============================] - 1s 24us/step - loss: 32.8922 - mean_squared_error: 32.8922 - val_loss: 11.4548 - val_mean_squared_error: 11.4548\n",
      "Epoch 5/100\n",
      "40017/40017 [==============================] - 1s 24us/step - loss: 26.5935 - mean_squared_error: 26.5935 - val_loss: 12.9701 - val_mean_squared_error: 12.9701\n",
      "Epoch 6/100\n",
      "40017/40017 [==============================] - 1s 25us/step - loss: 21.9231 - mean_squared_error: 21.9231 - val_loss: 7.5469 - val_mean_squared_error: 7.5469\n",
      "Epoch 7/100\n",
      "40017/40017 [==============================] - 1s 24us/step - loss: 13.9511 - mean_squared_error: 13.9511 - val_loss: 6.6733 - val_mean_squared_error: 6.6733\n",
      "Epoch 8/100\n",
      "40017/40017 [==============================] - 1s 26us/step - loss: 9.6399 - mean_squared_error: 9.6399 - val_loss: 5.5044 - val_mean_squared_error: 5.5044\n",
      "Epoch 9/100\n",
      "40017/40017 [==============================] - 1s 24us/step - loss: 7.3899 - mean_squared_error: 7.3899 - val_loss: 4.9292 - val_mean_squared_error: 4.9292\n",
      "Epoch 10/100\n",
      "40017/40017 [==============================] - 1s 24us/step - loss: 6.5783 - mean_squared_error: 6.5783 - val_loss: 4.5188 - val_mean_squared_error: 4.5188\n",
      "Epoch 11/100\n",
      "40017/40017 [==============================] - 1s 24us/step - loss: 6.2549 - mean_squared_error: 6.2549 - val_loss: 4.5541 - val_mean_squared_error: 4.5541\n",
      "Epoch 12/100\n",
      "40017/40017 [==============================] - 1s 24us/step - loss: 5.9913 - mean_squared_error: 5.9913 - val_loss: 5.6089 - val_mean_squared_error: 5.6089\n",
      "Epoch 13/100\n",
      "40017/40017 [==============================] - 1s 24us/step - loss: 5.8146 - mean_squared_error: 5.8146 - val_loss: 8.5387 - val_mean_squared_error: 8.5387\n",
      "Epoch 14/100\n",
      "40017/40017 [==============================] - 1s 24us/step - loss: 5.6883 - mean_squared_error: 5.6883 - val_loss: 8.0604 - val_mean_squared_error: 8.0604\n",
      "Epoch 15/100\n",
      "40017/40017 [==============================] - 1s 24us/step - loss: 5.7502 - mean_squared_error: 5.7502 - val_loss: 7.6255 - val_mean_squared_error: 7.6255\n",
      "Epoch 16/100\n",
      "40017/40017 [==============================] - 1s 24us/step - loss: 5.6832 - mean_squared_error: 5.6832 - val_loss: 4.6307 - val_mean_squared_error: 4.6307\n",
      "Epoch 17/100\n",
      "40017/40017 [==============================] - 1s 24us/step - loss: 5.6831 - mean_squared_error: 5.6831 - val_loss: 5.8575 - val_mean_squared_error: 5.8575\n",
      "Epoch 18/100\n",
      "40017/40017 [==============================] - 1s 24us/step - loss: 5.6277 - mean_squared_error: 5.6277 - val_loss: 5.0906 - val_mean_squared_error: 5.0906\n",
      "Epoch 19/100\n",
      "40017/40017 [==============================] - 1s 24us/step - loss: 5.5740 - mean_squared_error: 5.5740 - val_loss: 5.0663 - val_mean_squared_error: 5.0663\n",
      "Epoch 20/100\n",
      "40017/40017 [==============================] - 1s 24us/step - loss: 5.6240 - mean_squared_error: 5.6240 - val_loss: 7.9380 - val_mean_squared_error: 7.9380\n",
      "Epoch 21/100\n",
      "40017/40017 [==============================] - 1s 24us/step - loss: 5.6215 - mean_squared_error: 5.6215 - val_loss: 4.7443 - val_mean_squared_error: 4.7443\n",
      "Epoch 22/100\n",
      "40017/40017 [==============================] - 1s 24us/step - loss: 5.5680 - mean_squared_error: 5.5680 - val_loss: 4.4641 - val_mean_squared_error: 4.4641\n",
      "Epoch 23/100\n",
      "40017/40017 [==============================] - 1s 24us/step - loss: 5.6198 - mean_squared_error: 5.6198 - val_loss: 5.5276 - val_mean_squared_error: 5.5276\n",
      "Epoch 24/100\n",
      "40017/40017 [==============================] - 1s 25us/step - loss: 5.6082 - mean_squared_error: 5.6082 - val_loss: 4.6058 - val_mean_squared_error: 4.6058\n",
      "Epoch 25/100\n",
      "40017/40017 [==============================] - 1s 25us/step - loss: 5.5497 - mean_squared_error: 5.5497 - val_loss: 7.2537 - val_mean_squared_error: 7.2537\n",
      "Epoch 26/100\n",
      "40017/40017 [==============================] - 1s 25us/step - loss: 5.5824 - mean_squared_error: 5.5824 - val_loss: 5.4464 - val_mean_squared_error: 5.4464\n",
      "Epoch 27/100\n",
      "40017/40017 [==============================] - 1s 24us/step - loss: 5.7116 - mean_squared_error: 5.7116 - val_loss: 5.9717 - val_mean_squared_error: 5.9717\n",
      "Epoch 28/100\n",
      "40017/40017 [==============================] - 1s 25us/step - loss: 5.4064 - mean_squared_error: 5.4064 - val_loss: 5.2247 - val_mean_squared_error: 5.2247\n",
      "Epoch 29/100\n",
      "40017/40017 [==============================] - 1s 25us/step - loss: 5.3668 - mean_squared_error: 5.3668 - val_loss: 5.0697 - val_mean_squared_error: 5.0697\n",
      "Epoch 30/100\n",
      "40017/40017 [==============================] - 1s 25us/step - loss: 5.3645 - mean_squared_error: 5.3645 - val_loss: 4.6312 - val_mean_squared_error: 4.6312\n",
      "Epoch 31/100\n",
      "40017/40017 [==============================] - 1s 24us/step - loss: 5.3031 - mean_squared_error: 5.3031 - val_loss: 4.6079 - val_mean_squared_error: 4.6079\n",
      "Epoch 32/100\n",
      "40017/40017 [==============================] - 1s 25us/step - loss: 5.3015 - mean_squared_error: 5.3015 - val_loss: 6.4096 - val_mean_squared_error: 6.4096\n",
      "Epoch 33/100\n",
      "40017/40017 [==============================] - 1s 25us/step - loss: 5.3056 - mean_squared_error: 5.3056 - val_loss: 4.7383 - val_mean_squared_error: 4.7383\n",
      "Epoch 34/100\n",
      "40017/40017 [==============================] - 1s 24us/step - loss: 5.3769 - mean_squared_error: 5.3769 - val_loss: 4.5632 - val_mean_squared_error: 4.5632\n",
      "Epoch 35/100\n",
      "40017/40017 [==============================] - 1s 24us/step - loss: 5.3261 - mean_squared_error: 5.3261 - val_loss: 4.7285 - val_mean_squared_error: 4.7285\n",
      "Epoch 36/100\n",
      "40017/40017 [==============================] - 1s 25us/step - loss: 5.3330 - mean_squared_error: 5.3330 - val_loss: 4.5375 - val_mean_squared_error: 4.5375\n",
      "Epoch 37/100\n",
      "40017/40017 [==============================] - 1s 26us/step - loss: 5.3224 - mean_squared_error: 5.3224 - val_loss: 7.0062 - val_mean_squared_error: 7.0062\n",
      "Epoch 38/100\n",
      "40017/40017 [==============================] - 1s 26us/step - loss: 5.2832 - mean_squared_error: 5.2832 - val_loss: 5.2522 - val_mean_squared_error: 5.2522\n",
      "Epoch 39/100\n",
      "40017/40017 [==============================] - 1s 26us/step - loss: 5.2485 - mean_squared_error: 5.2485 - val_loss: 4.6304 - val_mean_squared_error: 4.6304\n",
      "Epoch 40/100\n",
      "40017/40017 [==============================] - 1s 25us/step - loss: 5.2708 - mean_squared_error: 5.2708 - val_loss: 9.0760 - val_mean_squared_error: 9.0760\n",
      "Epoch 41/100\n",
      "40017/40017 [==============================] - 1s 26us/step - loss: 5.2598 - mean_squared_error: 5.2598 - val_loss: 7.4452 - val_mean_squared_error: 7.4452\n",
      "Epoch 42/100\n",
      "40017/40017 [==============================] - 1s 27us/step - loss: 5.2802 - mean_squared_error: 5.2802 - val_loss: 6.0053 - val_mean_squared_error: 6.0053\n",
      "Epoch 43/100\n",
      "40017/40017 [==============================] - 1s 27us/step - loss: 5.2586 - mean_squared_error: 5.2586 - val_loss: 5.8053 - val_mean_squared_error: 5.8053\n",
      "Epoch 44/100\n",
      "40017/40017 [==============================] - 1s 27us/step - loss: 5.2538 - mean_squared_error: 5.2538 - val_loss: 4.4779 - val_mean_squared_error: 4.4779\n",
      "Epoch 45/100\n",
      "40017/40017 [==============================] - 1s 27us/step - loss: 5.2746 - mean_squared_error: 5.2746 - val_loss: 4.7940 - val_mean_squared_error: 4.7940\n",
      "Epoch 46/100\n",
      "40017/40017 [==============================] - 1s 25us/step - loss: 5.2548 - mean_squared_error: 5.2548 - val_loss: 4.7517 - val_mean_squared_error: 4.7517\n",
      "Epoch 47/100\n",
      "40017/40017 [==============================] - 1s 26us/step - loss: 5.2761 - mean_squared_error: 5.2761 - val_loss: 4.5935 - val_mean_squared_error: 4.5935\n",
      "Epoch 48/100\n",
      "40017/40017 [==============================] - 1s 26us/step - loss: 5.2419 - mean_squared_error: 5.2419 - val_loss: 4.6425 - val_mean_squared_error: 4.6425\n",
      "Epoch 49/100\n"
     ]
    },
    {
     "name": "stdout",
     "output_type": "stream",
     "text": [
      "40017/40017 [==============================] - 1s 26us/step - loss: 5.2469 - mean_squared_error: 5.2469 - val_loss: 4.7061 - val_mean_squared_error: 4.7061\n",
      "Epoch 50/100\n",
      "40017/40017 [==============================] - 1s 26us/step - loss: 5.2720 - mean_squared_error: 5.2720 - val_loss: 5.2151 - val_mean_squared_error: 5.2151\n",
      "Epoch 51/100\n",
      "40017/40017 [==============================] - 1s 27us/step - loss: 5.2713 - mean_squared_error: 5.2713 - val_loss: 4.8863 - val_mean_squared_error: 4.8863\n",
      "Epoch 52/100\n",
      "40017/40017 [==============================] - 1s 25us/step - loss: 5.2482 - mean_squared_error: 5.2482 - val_loss: 4.8085 - val_mean_squared_error: 4.8085\n",
      "Epoch 53/100\n",
      "40017/40017 [==============================] - 1s 26us/step - loss: 5.2725 - mean_squared_error: 5.2725 - val_loss: 4.4193 - val_mean_squared_error: 4.4193\n",
      "Epoch 54/100\n",
      "40017/40017 [==============================] - 1s 26us/step - loss: 5.2489 - mean_squared_error: 5.2489 - val_loss: 4.6086 - val_mean_squared_error: 4.6086\n",
      "Epoch 55/100\n",
      "40017/40017 [==============================] - 1s 25us/step - loss: 5.2620 - mean_squared_error: 5.2620 - val_loss: 4.6278 - val_mean_squared_error: 4.6278\n",
      "Epoch 56/100\n",
      "40017/40017 [==============================] - 1s 26us/step - loss: 5.2305 - mean_squared_error: 5.2305 - val_loss: 4.6441 - val_mean_squared_error: 4.6441\n",
      "Epoch 57/100\n",
      "40017/40017 [==============================] - 1s 26us/step - loss: 5.2713 - mean_squared_error: 5.2713 - val_loss: 4.7018 - val_mean_squared_error: 4.7018\n",
      "Epoch 58/100\n",
      "40017/40017 [==============================] - 1s 25us/step - loss: 5.2842 - mean_squared_error: 5.2842 - val_loss: 2205.6461 - val_mean_squared_error: 2205.6461\n",
      "Epoch 59/100\n",
      "40017/40017 [==============================] - 1s 26us/step - loss: 5.1872 - mean_squared_error: 5.1872 - val_loss: 4.4911 - val_mean_squared_error: 4.4911\n",
      "Epoch 60/100\n",
      "40017/40017 [==============================] - 1s 25us/step - loss: 5.1660 - mean_squared_error: 5.1660 - val_loss: 4.6918 - val_mean_squared_error: 4.6918\n",
      "Epoch 61/100\n",
      "40017/40017 [==============================] - 1s 26us/step - loss: 5.1747 - mean_squared_error: 5.1747 - val_loss: 4.5388 - val_mean_squared_error: 4.5388\n",
      "Epoch 62/100\n",
      "40017/40017 [==============================] - 1s 26us/step - loss: 5.1757 - mean_squared_error: 5.1757 - val_loss: 4.4251 - val_mean_squared_error: 4.4251\n",
      "Epoch 63/100\n",
      "40017/40017 [==============================] - 1s 25us/step - loss: 5.1596 - mean_squared_error: 5.1596 - val_loss: 4.5321 - val_mean_squared_error: 4.5321\n",
      "Epoch 64/100\n",
      "40017/40017 [==============================] - 1s 25us/step - loss: 5.1489 - mean_squared_error: 5.1489 - val_loss: 4.4119 - val_mean_squared_error: 4.4119\n",
      "Epoch 65/100\n",
      "40017/40017 [==============================] - 1s 24us/step - loss: 5.1275 - mean_squared_error: 5.1275 - val_loss: 4.4269 - val_mean_squared_error: 4.4269\n",
      "Epoch 66/100\n",
      "40017/40017 [==============================] - 1s 24us/step - loss: 5.1855 - mean_squared_error: 5.1855 - val_loss: 4.7809 - val_mean_squared_error: 4.7809\n",
      "Epoch 67/100\n",
      "40017/40017 [==============================] - 1s 25us/step - loss: 5.1268 - mean_squared_error: 5.1268 - val_loss: 4.3712 - val_mean_squared_error: 4.3712\n",
      "Epoch 68/100\n",
      "40017/40017 [==============================] - 1s 24us/step - loss: 5.1535 - mean_squared_error: 5.1535 - val_loss: 4.9214 - val_mean_squared_error: 4.9214\n",
      "Epoch 69/100\n",
      "40017/40017 [==============================] - 1s 24us/step - loss: 5.1338 - mean_squared_error: 5.1338 - val_loss: 4.7022 - val_mean_squared_error: 4.7022\n",
      "Epoch 70/100\n",
      "40017/40017 [==============================] - 1s 24us/step - loss: 5.1643 - mean_squared_error: 5.1643 - val_loss: 4.6139 - val_mean_squared_error: 4.6139\n",
      "Epoch 71/100\n",
      "40017/40017 [==============================] - 1s 24us/step - loss: 5.1712 - mean_squared_error: 5.1712 - val_loss: 4.5400 - val_mean_squared_error: 4.5400\n",
      "Epoch 72/100\n",
      "40017/40017 [==============================] - 1s 24us/step - loss: 5.1306 - mean_squared_error: 5.1306 - val_loss: 4.4318 - val_mean_squared_error: 4.4318\n",
      "Epoch 73/100\n",
      "40017/40017 [==============================] - 1s 25us/step - loss: 5.1248 - mean_squared_error: 5.1248 - val_loss: 4.4481 - val_mean_squared_error: 4.4481\n",
      "Epoch 74/100\n",
      "40017/40017 [==============================] - 1s 24us/step - loss: 5.1508 - mean_squared_error: 5.1508 - val_loss: 4.5078 - val_mean_squared_error: 4.5078\n",
      "Epoch 75/100\n",
      "40017/40017 [==============================] - 1s 24us/step - loss: 5.0947 - mean_squared_error: 5.0947 - val_loss: 4.5369 - val_mean_squared_error: 4.5369\n",
      "Epoch 76/100\n",
      "40017/40017 [==============================] - 1s 24us/step - loss: 5.1199 - mean_squared_error: 5.1199 - val_loss: 4.4846 - val_mean_squared_error: 4.4846\n",
      "Epoch 77/100\n",
      "40017/40017 [==============================] - 1s 24us/step - loss: 5.0881 - mean_squared_error: 5.0881 - val_loss: 4.5392 - val_mean_squared_error: 4.5392\n",
      "Epoch 78/100\n",
      "40017/40017 [==============================] - 1s 25us/step - loss: 5.1374 - mean_squared_error: 5.1374 - val_loss: 4.7137 - val_mean_squared_error: 4.7137\n",
      "Epoch 79/100\n",
      "40017/40017 [==============================] - 1s 24us/step - loss: 5.0526 - mean_squared_error: 5.0526 - val_loss: 4.5556 - val_mean_squared_error: 4.5556\n",
      "Epoch 80/100\n",
      "40017/40017 [==============================] - 1s 24us/step - loss: 5.0657 - mean_squared_error: 5.0657 - val_loss: 7.6730 - val_mean_squared_error: 7.6730\n",
      "Epoch 81/100\n",
      "40017/40017 [==============================] - 1s 24us/step - loss: 5.0940 - mean_squared_error: 5.0940 - val_loss: 4.7567 - val_mean_squared_error: 4.7567\n",
      "Epoch 82/100\n",
      "40017/40017 [==============================] - 1s 24us/step - loss: 5.0468 - mean_squared_error: 5.0468 - val_loss: 5.0499 - val_mean_squared_error: 5.0499\n",
      "Epoch 83/100\n",
      "40017/40017 [==============================] - 1s 25us/step - loss: 5.0646 - mean_squared_error: 5.0646 - val_loss: 4.9076 - val_mean_squared_error: 4.9076\n",
      "Epoch 84/100\n",
      "40017/40017 [==============================] - 1s 24us/step - loss: 5.0755 - mean_squared_error: 5.0755 - val_loss: 4.6473 - val_mean_squared_error: 4.6473\n",
      "Epoch 85/100\n",
      "40017/40017 [==============================] - 1s 25us/step - loss: 5.0708 - mean_squared_error: 5.0708 - val_loss: 4.8396 - val_mean_squared_error: 4.8396\n",
      "Epoch 86/100\n",
      "40017/40017 [==============================] - 1s 24us/step - loss: 5.0837 - mean_squared_error: 5.0837 - val_loss: 4.8661 - val_mean_squared_error: 4.8661\n",
      "Epoch 87/100\n",
      "40017/40017 [==============================] - 1s 24us/step - loss: 5.0744 - mean_squared_error: 5.0744 - val_loss: 4.6688 - val_mean_squared_error: 4.6688\n",
      "Epoch 88/100\n",
      "40017/40017 [==============================] - 1s 25us/step - loss: 5.0334 - mean_squared_error: 5.0334 - val_loss: 4.7963 - val_mean_squared_error: 4.7963\n",
      "Epoch 89/100\n",
      "40017/40017 [==============================] - 1s 26us/step - loss: 5.1118 - mean_squared_error: 5.1118 - val_loss: 5.3904 - val_mean_squared_error: 5.3904\n",
      "Epoch 90/100\n",
      "40017/40017 [==============================] - 1s 26us/step - loss: 5.0724 - mean_squared_error: 5.0724 - val_loss: 4.5234 - val_mean_squared_error: 4.5234\n",
      "Epoch 91/100\n",
      "40017/40017 [==============================] - 1s 27us/step - loss: 5.0472 - mean_squared_error: 5.0472 - val_loss: 5.0633 - val_mean_squared_error: 5.0633\n",
      "Epoch 92/100\n",
      "40017/40017 [==============================] - 1s 25us/step - loss: 5.0620 - mean_squared_error: 5.0620 - val_loss: 4.4758 - val_mean_squared_error: 4.4758\n",
      "Epoch 93/100\n",
      "40017/40017 [==============================] - 1s 26us/step - loss: 5.0590 - mean_squared_error: 5.0590 - val_loss: 4.6608 - val_mean_squared_error: 4.6608\n",
      "Epoch 94/100\n",
      "40017/40017 [==============================] - 1s 25us/step - loss: 5.1188 - mean_squared_error: 5.1188 - val_loss: 4.6031 - val_mean_squared_error: 4.6031\n",
      "Epoch 95/100\n",
      "40017/40017 [==============================] - 1s 24us/step - loss: 5.0594 - mean_squared_error: 5.0594 - val_loss: 5.0610 - val_mean_squared_error: 5.0610\n",
      "Epoch 96/100\n",
      "40017/40017 [==============================] - 1s 24us/step - loss: 5.0594 - mean_squared_error: 5.0594 - val_loss: 5.3758 - val_mean_squared_error: 5.3758\n",
      "Epoch 97/100\n",
      "40017/40017 [==============================] - 1s 24us/step - loss: 5.1276 - mean_squared_error: 5.1276 - val_loss: 4.8810 - val_mean_squared_error: 4.8810\n",
      "Epoch 98/100\n",
      "40017/40017 [==============================] - 1s 24us/step - loss: 5.0590 - mean_squared_error: 5.0590 - val_loss: 4.4876 - val_mean_squared_error: 4.4876\n",
      "Epoch 99/100\n",
      "40017/40017 [==============================] - 1s 24us/step - loss: 5.0615 - mean_squared_error: 5.0615 - val_loss: 4.5538 - val_mean_squared_error: 4.5538\n",
      "Epoch 100/100\n",
      "40017/40017 [==============================] - 1s 24us/step - loss: 5.0503 - mean_squared_error: 5.0503 - val_loss: 5.7002 - val_mean_squared_error: 5.7002\n"
     ]
    }
   ],
   "source": [
    "h=model.fit(xtrain, ytrain, validation_split=.2,epochs=100, batch_size=50)"
   ]
  },
  {
   "cell_type": "code",
   "execution_count": 46,
   "metadata": {},
   "outputs": [
    {
     "name": "stdout",
     "output_type": "stream",
     "text": [
      "mean_squared_error 5.905749656369205\n",
      "root mean_squared_error 2.4301748201249236\n",
      "mean_absolute_error 1.9310996130182707\n",
      "r2_score 0.6402556526789094\n"
     ]
    },
    {
     "data": {
      "text/html": [
       "<div>\n",
       "<style scoped>\n",
       "    .dataframe tbody tr th:only-of-type {\n",
       "        vertical-align: middle;\n",
       "    }\n",
       "\n",
       "    .dataframe tbody tr th {\n",
       "        vertical-align: top;\n",
       "    }\n",
       "\n",
       "    .dataframe thead th {\n",
       "        text-align: right;\n",
       "    }\n",
       "</style>\n",
       "<table border=\"1\" class=\"dataframe\">\n",
       "  <thead>\n",
       "    <tr style=\"text-align: right;\">\n",
       "      <th></th>\n",
       "      <th>t + 1</th>\n",
       "      <th>pred (t +1)</th>\n",
       "    </tr>\n",
       "  </thead>\n",
       "  <tbody>\n",
       "    <tr>\n",
       "      <th>0</th>\n",
       "      <td>38.8</td>\n",
       "      <td>39.488052</td>\n",
       "    </tr>\n",
       "    <tr>\n",
       "      <th>1</th>\n",
       "      <td>43.8</td>\n",
       "      <td>45.308468</td>\n",
       "    </tr>\n",
       "    <tr>\n",
       "      <th>2</th>\n",
       "      <td>46.7</td>\n",
       "      <td>45.934563</td>\n",
       "    </tr>\n",
       "    <tr>\n",
       "      <th>3</th>\n",
       "      <td>40.2</td>\n",
       "      <td>41.604385</td>\n",
       "    </tr>\n",
       "    <tr>\n",
       "      <th>4</th>\n",
       "      <td>43.8</td>\n",
       "      <td>46.169514</td>\n",
       "    </tr>\n",
       "    <tr>\n",
       "      <th>5</th>\n",
       "      <td>46.5</td>\n",
       "      <td>46.281223</td>\n",
       "    </tr>\n",
       "    <tr>\n",
       "      <th>6</th>\n",
       "      <td>30.5</td>\n",
       "      <td>35.716496</td>\n",
       "    </tr>\n",
       "    <tr>\n",
       "      <th>7</th>\n",
       "      <td>48.0</td>\n",
       "      <td>44.888905</td>\n",
       "    </tr>\n",
       "    <tr>\n",
       "      <th>8</th>\n",
       "      <td>49.4</td>\n",
       "      <td>47.929161</td>\n",
       "    </tr>\n",
       "    <tr>\n",
       "      <th>9</th>\n",
       "      <td>38.8</td>\n",
       "      <td>42.036991</td>\n",
       "    </tr>\n",
       "  </tbody>\n",
       "</table>\n",
       "</div>"
      ],
      "text/plain": [
       "   t + 1  pred (t +1)\n",
       "0   38.8    39.488052\n",
       "1   43.8    45.308468\n",
       "2   46.7    45.934563\n",
       "3   40.2    41.604385\n",
       "4   43.8    46.169514\n",
       "5   46.5    46.281223\n",
       "6   30.5    35.716496\n",
       "7   48.0    44.888905\n",
       "8   49.4    47.929161\n",
       "9   38.8    42.036991"
      ]
     },
     "execution_count": 46,
     "metadata": {},
     "output_type": "execute_result"
    }
   ],
   "source": [
    "ypred=model.predict(xtest)\n",
    "\n",
    "import math\n",
    "print('mean_squared_error',mean_squared_error(ytest, ypred))\n",
    "print('root mean_squared_error',math.sqrt(mean_squared_error(ytest, ypred)))\n",
    "print('mean_absolute_error',mean_absolute_error(ytest, ypred))\n",
    "print('r2_score',r2_score(ytest, ypred))\n",
    "\n",
    "ypredPD=pd.DataFrame()\n",
    "# ypredPD['t']=xtest['S000501_x'].values\n",
    "ypredPD['t + 1']=ytest.values.ravel()\n",
    "ypredPD['pred (t +1)']=ypred\n",
    "ypredPD.head(10)"
   ]
  },
  {
   "cell_type": "code",
   "execution_count": 47,
   "metadata": {},
   "outputs": [
    {
     "name": "stdout",
     "output_type": "stream",
     "text": [
      "dict_keys(['val_loss', 'val_mean_squared_error', 'loss', 'mean_squared_error'])\n"
     ]
    },
    {
     "data": {
      "image/png": "[encoded data removed]",
      "text/plain": [
       "<Figure size 432x288 with 1 Axes>"
      ]
     },
     "metadata": {
      "needs_background": "light"
     },
     "output_type": "display_data"
    },
    {
     "data": {
      "image/png": "[encoded data removed]",
      "text/plain": [
       "<Figure size 432x288 with 1 Axes>"
      ]
     },
     "metadata": {
      "needs_background": "light"
     },
     "output_type": "display_data"
    }
   ],
   "source": [
    "history=h\n",
    "print(history.history.keys())\n",
    "# summarize history for accuracy\n",
    "plt.plot(history.history['val_loss'])\n",
    "plt.plot(history.history['loss'])\n",
    "plt.title('model accuracy')\n",
    "plt.ylabel('accuracy')\n",
    "plt.xlabel('epoch')\n",
    "plt.legend(['train', 'test'], loc='upper left')\n",
    "plt.show()\n",
    "# summarize history for loss\n",
    "plt.plot(history.history['val_mean_squared_error'])\n",
    "plt.plot(history.history['mean_squared_error'])\n",
    "plt.title('model loss')\n",
    "plt.ylabel('loss')\n",
    "plt.xlabel('epoch')\n",
    "plt.legend(['train', 'test'], loc='upper left')\n",
    "plt.show()"
   ]
  },
  {
   "cell_type": "code",
   "execution_count": 48,
   "metadata": {},
   "outputs": [
    {
     "name": "stdout",
     "output_type": "stream",
     "text": [
      "1.9310996130182798\n",
      "1.4753318070759163\n",
      "96.49768111306572\n"
     ]
    }
   ],
   "source": [
    "ypredPD['diff']=abs(ypredPD['t + 1']- ypredPD['pred (t +1)'])\n",
    "print(np.mean(ypredPD['diff']))\n",
    "print(np.std(ypredPD['diff']))\n",
    "print(100*ypredPD[ypredPD['diff']<=5].shape[0]/ypredPD.shape[0])"
   ]
  },
  {
   "cell_type": "code",
   "execution_count": 49,
   "metadata": {},
   "outputs": [
    {
     "data": {
      "image/png": "[encoded data removed]",
      "text/plain": [
       "<Figure size 432x288 with 1 Axes>"
      ]
     },
     "metadata": {
      "needs_background": "light"
     },
     "output_type": "display_data"
    },
    {
     "data": {
      "text/html": [
       "<div>\n",
       "<style scoped>\n",
       "    .dataframe tbody tr th:only-of-type {\n",
       "        vertical-align: middle;\n",
       "    }\n",
       "\n",
       "    .dataframe tbody tr th {\n",
       "        vertical-align: top;\n",
       "    }\n",
       "\n",
       "    .dataframe thead th {\n",
       "        text-align: right;\n",
       "    }\n",
       "</style>\n",
       "<table border=\"1\" class=\"dataframe\">\n",
       "  <thead>\n",
       "    <tr style=\"text-align: right;\">\n",
       "      <th></th>\n",
       "      <th>t + 1</th>\n",
       "      <th>pred (t +1)</th>\n",
       "      <th>diff</th>\n",
       "    </tr>\n",
       "  </thead>\n",
       "  <tbody>\n",
       "    <tr>\n",
       "      <th>6633</th>\n",
       "      <td>23.7</td>\n",
       "      <td>32.832478</td>\n",
       "      <td>9.132478</td>\n",
       "    </tr>\n",
       "    <tr>\n",
       "      <th>5499</th>\n",
       "      <td>23.8</td>\n",
       "      <td>33.588280</td>\n",
       "      <td>9.788280</td>\n",
       "    </tr>\n",
       "    <tr>\n",
       "      <th>5445</th>\n",
       "      <td>25.6</td>\n",
       "      <td>33.033413</td>\n",
       "      <td>7.433413</td>\n",
       "    </tr>\n",
       "    <tr>\n",
       "      <th>828</th>\n",
       "      <td>25.6</td>\n",
       "      <td>39.732983</td>\n",
       "      <td>14.132983</td>\n",
       "    </tr>\n",
       "    <tr>\n",
       "      <th>5832</th>\n",
       "      <td>25.8</td>\n",
       "      <td>34.694187</td>\n",
       "      <td>8.894187</td>\n",
       "    </tr>\n",
       "    <tr>\n",
       "      <th>5553</th>\n",
       "      <td>25.9</td>\n",
       "      <td>37.637955</td>\n",
       "      <td>11.737955</td>\n",
       "    </tr>\n",
       "    <tr>\n",
       "      <th>10364</th>\n",
       "      <td>26.8</td>\n",
       "      <td>38.747070</td>\n",
       "      <td>11.947070</td>\n",
       "    </tr>\n",
       "    <tr>\n",
       "      <th>8200</th>\n",
       "      <td>26.9</td>\n",
       "      <td>37.483696</td>\n",
       "      <td>10.583696</td>\n",
       "    </tr>\n",
       "    <tr>\n",
       "      <th>3645</th>\n",
       "      <td>27.0</td>\n",
       "      <td>34.265736</td>\n",
       "      <td>7.265736</td>\n",
       "    </tr>\n",
       "    <tr>\n",
       "      <th>10584</th>\n",
       "      <td>27.3</td>\n",
       "      <td>35.527908</td>\n",
       "      <td>8.227908</td>\n",
       "    </tr>\n",
       "  </tbody>\n",
       "</table>\n",
       "</div>"
      ],
      "text/plain": [
       "       t + 1  pred (t +1)       diff\n",
       "6633    23.7    32.832478   9.132478\n",
       "5499    23.8    33.588280   9.788280\n",
       "5445    25.6    33.033413   7.433413\n",
       "828     25.6    39.732983  14.132983\n",
       "5832    25.8    34.694187   8.894187\n",
       "5553    25.9    37.637955  11.737955\n",
       "10364   26.8    38.747070  11.947070\n",
       "8200    26.9    37.483696  10.583696\n",
       "3645    27.0    34.265736   7.265736\n",
       "10584   27.3    35.527908   8.227908"
      ]
     },
     "execution_count": 49,
     "metadata": {},
     "output_type": "execute_result"
    },
    {
     "data": {
      "image/png": "[encoded data removed]",
      "text/plain": [
       "<Figure size 432x288 with 1 Axes>"
      ]
     },
     "metadata": {
      "needs_background": "light"
     },
     "output_type": "display_data"
    }
   ],
   "source": [
    "\n",
    "import matplotlib.patches as mpatches\n",
    "plt.ylabel('Values')\n",
    "plt.xlabel('index')\n",
    "red_patch = mpatches.Patch(color='red', label='Actual data')\n",
    "blue_patch = mpatches.Patch(color='blue', label='Predicted data')\n",
    "plt.legend(handles=[red_patch,blue_patch])\n",
    "\n",
    "ypredPD=ypredPD.sort_values(by=['t + 1'])\n",
    "plt.scatter(np.arange(0,ypredPD.shape[0],1),ypredPD['pred (t +1)'][:ypredPD.shape[0]])\n",
    "plt.plot(np.arange(0,ypredPD.shape[0],1),ypredPD['t + 1'][:ypredPD.shape[0]],color='red')\n",
    "plt.show()\n",
    "\n",
    "plt.ylabel('p*(t+1), Predicted data')\n",
    "plt.xlabel('p(t+1), Actual data')\n",
    "plt.scatter(ypredPD['t + 1'][:ypredPD.shape[0]],ypredPD['pred (t +1)'][:ypredPD.shape[0]])\n",
    "\n",
    "ypredPD.head(10)"
   ]
  },
  {
   "cell_type": "markdown",
   "metadata": {},
   "source": [
    "SVR\n",
    "======"
   ]
  },
  {
   "cell_type": "code",
   "execution_count": null,
   "metadata": {},
   "outputs": [],
   "source": [
    "from sklearn.svm import SVR\n",
    "# svr_rbf = SVR(kernel='rbf', C=10, gamma=0.02, epsilon=.001)\n",
    "svr_rbf = SVR(kernel='rbf')"
   ]
  },
  {
   "cell_type": "code",
   "execution_count": null,
   "metadata": {},
   "outputs": [],
   "source": [
    "svr_rbf.fit(xtrain, ytrain) "
   ]
  },
  {
   "cell_type": "code",
   "execution_count": null,
   "metadata": {},
   "outputs": [],
   "source": [
    "ypred=svr_rbf.predict(xtest)"
   ]
  },
  {
   "cell_type": "code",
   "execution_count": null,
   "metadata": {},
   "outputs": [],
   "source": [
    "import math\n",
    "print('mean_squared_error',mean_squared_error(ytest, ypred))\n",
    "print('root mean_squared_error',math.sqrt(mean_squared_error(ytest, ypred)))\n",
    "print('mean_absolute_error',mean_absolute_error(ytest, ypred))\n",
    "print('r2_score',r2_score(ytest, ypred))\n",
    "\n",
    "ypredPD=pd.DataFrame()\n",
    "# ypredPD['t']=xtest['S000501_x'].values\n",
    "ypredPD['t + 1']=ytest.values.ravel()\n",
    "ypredPD['pred (t +1)']=ypred\n",
    "ypredPD.head(10)"
   ]
  },
  {
   "cell_type": "code",
   "execution_count": null,
   "metadata": {},
   "outputs": [],
   "source": []
  },
  {
   "cell_type": "code",
   "execution_count": null,
   "metadata": {},
   "outputs": [],
   "source": []
  }
 ],
 "metadata": {
  "kernelspec": {
   "display_name": "Python 3",
   "language": "python",
   "name": "python3"
  },
  "language_info": {
   "codemirror_mode": {
    "name": "ipython",
    "version": 3
   },
   "file_extension": ".py",
   "mimetype": "text/x-python",
   "name": "python",
   "nbconvert_exporter": "python",
   "pygments_lexer": "ipython3",
   "version": "3.7.3"
  }
 },
 "nbformat": 4,
 "nbformat_minor": 2
}

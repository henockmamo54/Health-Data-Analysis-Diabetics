{
 "cells": [
  {
   "cell_type": "code",
   "execution_count": null,
   "metadata": {},
   "outputs": [],
   "source": [
    "# this file generated prediction model to clasify the class of the given data\n",
    "# we used the predictive values to identify the status of the next year\n",
    "# basically the model uses the input feature data and tries to find the class of the instances\n",
    "#     nextyear prediction relies on the predicted value of the features"
   ]
  },
  {
   "cell_type": "code",
   "execution_count": 16,
   "metadata": {},
   "outputs": [],
   "source": [
    "import pandas as pd\n",
    "import numpy as np\n",
    "import warnings\n",
    "from matplotlib import pyplot as plt\n",
    "from sklearn import metrics as m\n",
    "from sklearn.datasets import make_classification\n",
    "from imblearn.over_sampling import SMOTE  # doctest: +NORMALIZE_WHITESPACE\n",
    "from sklearn.metrics import confusion_matrix\n",
    "from sklearn.metrics import classification_report\n",
    "from sklearn.model_selection import train_test_split\n",
    "from collections import Counter\n",
    "\n",
    "warnings.filterwarnings(\"ignore\")\n",
    "randomseed = 7"
   ]
  },
  {
   "cell_type": "code",
   "execution_count": 17,
   "metadata": {},
   "outputs": [
    {
     "name": "stdout",
     "output_type": "stream",
     "text": [
      "(74745, 16)\n"
     ]
    },
    {
     "data": {
      "text/html": [
       "<div>\n",
       "<style scoped>\n",
       "    .dataframe tbody tr th:only-of-type {\n",
       "        vertical-align: middle;\n",
       "    }\n",
       "\n",
       "    .dataframe tbody tr th {\n",
       "        vertical-align: top;\n",
       "    }\n",
       "\n",
       "    .dataframe thead th {\n",
       "        text-align: right;\n",
       "    }\n",
       "</style>\n",
       "<table border=\"1\" class=\"dataframe\">\n",
       "  <thead>\n",
       "    <tr style=\"text-align: right;\">\n",
       "      <th></th>\n",
       "      <th>Unnamed: 0</th>\n",
       "      <th>FIELD_1</th>\n",
       "      <th>FIELD_2</th>\n",
       "      <th>L104600</th>\n",
       "      <th>L103000</th>\n",
       "      <th>S000300</th>\n",
       "      <th>L101700</th>\n",
       "      <th>L100700</th>\n",
       "      <th>FIELD_33</th>\n",
       "      <th>FIELD_38</th>\n",
       "      <th>FIELD_40</th>\n",
       "      <th>FIELD_31</th>\n",
       "      <th>SEX</th>\n",
       "      <th>AGE</th>\n",
       "      <th>L100800</th>\n",
       "      <th>CLASS</th>\n",
       "    </tr>\n",
       "  </thead>\n",
       "  <tbody>\n",
       "    <tr>\n",
       "      <th>0</th>\n",
       "      <td>0</td>\n",
       "      <td>1088387</td>\n",
       "      <td>20160715</td>\n",
       "      <td>6.73</td>\n",
       "      <td>148.0</td>\n",
       "      <td>29.4</td>\n",
       "      <td>38.0</td>\n",
       "      <td>5.6</td>\n",
       "      <td>3.0</td>\n",
       "      <td>0.0</td>\n",
       "      <td>1.0</td>\n",
       "      <td>0.0</td>\n",
       "      <td>0.0</td>\n",
       "      <td>53.0</td>\n",
       "      <td>115.0</td>\n",
       "      <td>1</td>\n",
       "    </tr>\n",
       "    <tr>\n",
       "      <th>1</th>\n",
       "      <td>1</td>\n",
       "      <td>137731</td>\n",
       "      <td>20161026</td>\n",
       "      <td>5.37</td>\n",
       "      <td>40.0</td>\n",
       "      <td>21.6</td>\n",
       "      <td>15.0</td>\n",
       "      <td>4.9</td>\n",
       "      <td>1.0</td>\n",
       "      <td>1.0</td>\n",
       "      <td>1.0</td>\n",
       "      <td>0.0</td>\n",
       "      <td>1.0</td>\n",
       "      <td>28.0</td>\n",
       "      <td>83.0</td>\n",
       "      <td>0</td>\n",
       "    </tr>\n",
       "    <tr>\n",
       "      <th>2</th>\n",
       "      <td>2</td>\n",
       "      <td>797147</td>\n",
       "      <td>20161123</td>\n",
       "      <td>5.76</td>\n",
       "      <td>176.0</td>\n",
       "      <td>25.9</td>\n",
       "      <td>91.0</td>\n",
       "      <td>4.7</td>\n",
       "      <td>3.0</td>\n",
       "      <td>1.0</td>\n",
       "      <td>0.0</td>\n",
       "      <td>0.0</td>\n",
       "      <td>0.0</td>\n",
       "      <td>43.0</td>\n",
       "      <td>111.0</td>\n",
       "      <td>1</td>\n",
       "    </tr>\n",
       "    <tr>\n",
       "      <th>3</th>\n",
       "      <td>3</td>\n",
       "      <td>1155086</td>\n",
       "      <td>20161129</td>\n",
       "      <td>6.13</td>\n",
       "      <td>124.0</td>\n",
       "      <td>29.2</td>\n",
       "      <td>20.0</td>\n",
       "      <td>5.5</td>\n",
       "      <td>1.0</td>\n",
       "      <td>0.0</td>\n",
       "      <td>0.0</td>\n",
       "      <td>1.0</td>\n",
       "      <td>1.0</td>\n",
       "      <td>57.0</td>\n",
       "      <td>98.0</td>\n",
       "      <td>0</td>\n",
       "    </tr>\n",
       "    <tr>\n",
       "      <th>4</th>\n",
       "      <td>4</td>\n",
       "      <td>887475</td>\n",
       "      <td>20140711</td>\n",
       "      <td>5.90</td>\n",
       "      <td>187.0</td>\n",
       "      <td>24.5</td>\n",
       "      <td>33.0</td>\n",
       "      <td>5.8</td>\n",
       "      <td>3.0</td>\n",
       "      <td>2.0</td>\n",
       "      <td>1.0</td>\n",
       "      <td>0.0</td>\n",
       "      <td>0.0</td>\n",
       "      <td>44.0</td>\n",
       "      <td>93.0</td>\n",
       "      <td>0</td>\n",
       "    </tr>\n",
       "  </tbody>\n",
       "</table>\n",
       "</div>"
      ],
      "text/plain": [
       "   Unnamed: 0  FIELD_1   FIELD_2  L104600  L103000  S000300  L101700  L100700  \\\n",
       "0           0  1088387  20160715     6.73    148.0     29.4     38.0      5.6   \n",
       "1           1   137731  20161026     5.37     40.0     21.6     15.0      4.9   \n",
       "2           2   797147  20161123     5.76    176.0     25.9     91.0      4.7   \n",
       "3           3  1155086  20161129     6.13    124.0     29.2     20.0      5.5   \n",
       "4           4   887475  20140711     5.90    187.0     24.5     33.0      5.8   \n",
       "\n",
       "   FIELD_33  FIELD_38  FIELD_40  FIELD_31  SEX   AGE  L100800  CLASS  \n",
       "0       3.0       0.0       1.0       0.0  0.0  53.0    115.0      1  \n",
       "1       1.0       1.0       1.0       0.0  1.0  28.0     83.0      0  \n",
       "2       3.0       1.0       0.0       0.0  0.0  43.0    111.0      1  \n",
       "3       1.0       0.0       0.0       1.0  1.0  57.0     98.0      0  \n",
       "4       3.0       2.0       1.0       0.0  0.0  44.0     93.0      0  "
      ]
     },
     "execution_count": 17,
     "metadata": {},
     "output_type": "execute_result"
    }
   ],
   "source": [
    "data1 = pd.read_csv(\"NextYearData_actualData_train.txt\")\n",
    "data2 = pd.read_csv(\"ThisYearData_actualData_train.txt\")\n",
    "data3 = pd.read_csv(\"ThisYearData_actualData_test.txt\")\n",
    "\n",
    "data4 = pd.read_csv(\"NextYearData_actualData_test.txt\")\n",
    "\n",
    "data5 = pd.read_csv(\"Predicted_NextYearData.txt\")\n",
    "data5.columns = data4.columns\n",
    "\n",
    "data = pd.concat([data1, data2, data3])\n",
    "\n",
    "print(data.shape)\n",
    "data.head()"
   ]
  },
  {
   "cell_type": "code",
   "execution_count": 18,
   "metadata": {},
   "outputs": [
    {
     "name": "stdout",
     "output_type": "stream",
     "text": [
      "1122 20542 53081\n"
     ]
    }
   ],
   "source": [
    "diabetic = data[data.CLASS == 2]\n",
    "prediabetic = data[data.CLASS == 1]\n",
    "normal = data[data.CLASS == 0]\n",
    "\n",
    "print(diabetic.shape[0], prediabetic.shape[0], normal.shape[0])"
   ]
  },
  {
   "cell_type": "code",
   "execution_count": 19,
   "metadata": {},
   "outputs": [],
   "source": [
    "diabetic_test = diabetic.sample(200, random_state=randomseed)\n",
    "prediabetic_test = prediabetic.sample(200, random_state=randomseed)\n",
    "normal_test = normal.sample(200, random_state=randomseed)\n",
    "test = pd.concat([diabetic_test, prediabetic_test, normal_test])\n",
    "\n",
    "diabetic_train = diabetic.drop(diabetic_test.index)\n",
    "prediabetic_train = prediabetic.drop(prediabetic_test.index).sample(\n",
    "    2 * diabetic_train.shape[0], random_state=randomseed\n",
    ")\n",
    "normal_train = normal.drop(normal_test.index).sample(\n",
    "    2 * diabetic_train.shape[0], random_state=randomseed\n",
    ")\n",
    "train = pd.concat([diabetic_train, diabetic_train, prediabetic_train, normal_train])"
   ]
  },
  {
   "cell_type": "code",
   "execution_count": 20,
   "metadata": {},
   "outputs": [],
   "source": [
    "xtrain = train.iloc[:, 3:-2]\n",
    "ytrain = train.iloc[:, -1]\n",
    "xtest = test.iloc[:, 3:-2]\n",
    "ytest = test.iloc[:, -1]"
   ]
  },
  {
   "cell_type": "code",
   "execution_count": 21,
   "metadata": {},
   "outputs": [],
   "source": [
    "from sklearn.preprocessing import MinMaxScaler \n",
    "scaler = MinMaxScaler()\n",
    "xtrain=scaler.fit_transform(xtrain)\n",
    "xtest=scaler.transform(xtest)\n"
   ]
  },
  {
   "cell_type": "code",
   "execution_count": 22,
   "metadata": {},
   "outputs": [],
   "source": [
    "# x = data.iloc[:, 3:-2]\n",
    "# y = data.iloc[:, -1]\n",
    "\n",
    "# xtrain, xtest, ytrain, ytest = train_test_split(\n",
    "#     x, y, random_state=randomseed, test_size=0.2\n",
    "# )\n",
    "\n",
    "# sm = SMOTE(random_state=randomseed)\n",
    "# X_res, y_res = sm.fit_resample(xtrain, ytrain)\n",
    "\n",
    "# print(\"Resampled dataset shape %s\" % Counter(y_res))\n",
    "# print(\n",
    "#     y_res[y_res == 0].shape[0], y_res[y_res == 1].shape[0], y_res[y_res == 2].shape[0]\n",
    "# )\n",
    "# print(X_res.shape, y_res.shape)\n",
    "\n",
    "# xtrain = X_res\n",
    "# ytrain = y_res\n",
    "\n",
    "# # y_res2 = y_res.copy()\n",
    "# # from keras.utils import to_categorical\n",
    "# # y_res2 = to_categorical(y_res)\n",
    "\n",
    "# # xtrain, xtest, ytrain, ytest = train_test_split(\n",
    "# #     X_res, y_res2, random_state=randomseed, test_size=0.2\n",
    "# # )"
   ]
  },
  {
   "cell_type": "code",
   "execution_count": null,
   "metadata": {},
   "outputs": [],
   "source": []
  },
  {
   "cell_type": "code",
   "execution_count": null,
   "metadata": {},
   "outputs": [],
   "source": []
  },
  {
   "cell_type": "code",
   "execution_count": 23,
   "metadata": {},
   "outputs": [
    {
     "data": {
      "text/plain": [
       "RandomForestClassifier(bootstrap=True, class_weight=None, criterion='gini',\n",
       "                       max_depth=12, max_features='auto', max_leaf_nodes=None,\n",
       "                       min_impurity_decrease=0.0, min_impurity_split=None,\n",
       "                       min_samples_leaf=10, min_samples_split=2,\n",
       "                       min_weight_fraction_leaf=0.0, n_estimators=100,\n",
       "                       n_jobs=None, oob_score=False, random_state=7, verbose=0,\n",
       "                       warm_start=False)"
      ]
     },
     "execution_count": 23,
     "metadata": {},
     "output_type": "execute_result"
    }
   ],
   "source": [
    "from sklearn.ensemble import RandomForestClassifier\n",
    "\n",
    "rf = RandomForestClassifier(\n",
    "    random_state=randomseed,\n",
    "    n_estimators=100,\n",
    "    max_depth=12,\n",
    "    min_samples_split=2,\n",
    "    min_samples_leaf=10,\n",
    "    max_features=\"auto\",\n",
    ")\n",
    "rf.fit(xtrain, ytrain)"
   ]
  },
  {
   "cell_type": "code",
   "execution_count": 24,
   "metadata": {},
   "outputs": [
    {
     "name": "stdout",
     "output_type": "stream",
     "text": [
      "0.7116666666666667\n"
     ]
    },
    {
     "data": {
      "image/png": "[encoded data removed]",
      "text/plain": [
       "<Figure size 432x288 with 1 Axes>"
      ]
     },
     "metadata": {
      "needs_background": "light"
     },
     "output_type": "display_data"
    },
    {
     "name": "stdout",
     "output_type": "stream",
     "text": [
      "Index(['L104600', 'L103000', 'L101700', 'S000300', 'AGE', 'L100700', 'SEX',\n",
      "       'FIELD_38', 'FIELD_33', 'FIELD_40', 'FIELD_31'],\n",
      "      dtype='object')\n"
     ]
    }
   ],
   "source": [
    "ypred = rf.predict(xtest)\n",
    "\n",
    "score = rf.score(xtest, ytest)\n",
    "print(score)\n",
    "\n",
    "feat_importances = pd.Series(rf.feature_importances_, index=test.iloc[:, 3:-2].columns)\n",
    "feat_importances.nlargest(16).plot(kind=\"barh\")\n",
    "plt.show()\n",
    "\n",
    "print(feat_importances.nlargest(16).index)"
   ]
  },
  {
   "cell_type": "code",
   "execution_count": 25,
   "metadata": {},
   "outputs": [
    {
     "name": "stdout",
     "output_type": "stream",
     "text": [
      "Accuracy on training set: 0.809\n",
      "Accuracy on test set: 0.712\n"
     ]
    },
    {
     "data": {
      "text/html": [
       "<div>\n",
       "<style scoped>\n",
       "    .dataframe tbody tr th:only-of-type {\n",
       "        vertical-align: middle;\n",
       "    }\n",
       "\n",
       "    .dataframe tbody tr th {\n",
       "        vertical-align: top;\n",
       "    }\n",
       "\n",
       "    .dataframe thead th {\n",
       "        text-align: right;\n",
       "    }\n",
       "</style>\n",
       "<table border=\"1\" class=\"dataframe\">\n",
       "  <thead>\n",
       "    <tr style=\"text-align: right;\">\n",
       "      <th></th>\n",
       "      <th>0</th>\n",
       "      <th>1</th>\n",
       "      <th>2</th>\n",
       "    </tr>\n",
       "  </thead>\n",
       "  <tbody>\n",
       "    <tr>\n",
       "      <th>0</th>\n",
       "      <td>140</td>\n",
       "      <td>58</td>\n",
       "      <td>2</td>\n",
       "    </tr>\n",
       "    <tr>\n",
       "      <th>1</th>\n",
       "      <td>55</td>\n",
       "      <td>118</td>\n",
       "      <td>27</td>\n",
       "    </tr>\n",
       "    <tr>\n",
       "      <th>2</th>\n",
       "      <td>2</td>\n",
       "      <td>29</td>\n",
       "      <td>169</td>\n",
       "    </tr>\n",
       "  </tbody>\n",
       "</table>\n",
       "</div>"
      ],
      "text/plain": [
       "     0    1    2\n",
       "0  140   58    2\n",
       "1   55  118   27\n",
       "2    2   29  169"
      ]
     },
     "execution_count": 25,
     "metadata": {},
     "output_type": "execute_result"
    }
   ],
   "source": [
    "print(\"Accuracy on training set: {:.3f}\".format(rf.score(xtrain, ytrain)))\n",
    "print(\"Accuracy on test set: {:.3f}\".format(rf.score(xtest, ytest)))\n",
    "\n",
    "confmatrx = pd.DataFrame(m.confusion_matrix(ytest, ypred))\n",
    "confmatrx.head()"
   ]
  },
  {
   "cell_type": "code",
   "execution_count": 26,
   "metadata": {},
   "outputs": [
    {
     "name": "stdout",
     "output_type": "stream",
     "text": [
      "              precision    recall  f1-score   support\n",
      "\n",
      "           0       0.71      0.70      0.71       200\n",
      "           1       0.58      0.59      0.58       200\n",
      "           2       0.85      0.84      0.85       200\n",
      "\n",
      "    accuracy                           0.71       600\n",
      "   macro avg       0.71      0.71      0.71       600\n",
      "weighted avg       0.71      0.71      0.71       600\n",
      "\n"
     ]
    }
   ],
   "source": [
    "from sklearn.metrics import classification_report\n",
    "\n",
    "print(classification_report(ytest, ypred))"
   ]
  },
  {
   "cell_type": "code",
   "execution_count": 27,
   "metadata": {},
   "outputs": [
    {
     "name": "stdout",
     "output_type": "stream",
     "text": [
      "accuracy \t 0.71\n"
     ]
    },
    {
     "data": {
      "text/html": [
       "<div>\n",
       "<style scoped>\n",
       "    .dataframe tbody tr th:only-of-type {\n",
       "        vertical-align: middle;\n",
       "    }\n",
       "\n",
       "    .dataframe tbody tr th {\n",
       "        vertical-align: top;\n",
       "    }\n",
       "\n",
       "    .dataframe thead th {\n",
       "        text-align: right;\n",
       "    }\n",
       "</style>\n",
       "<table border=\"1\" class=\"dataframe\">\n",
       "  <thead>\n",
       "    <tr style=\"text-align: right;\">\n",
       "      <th></th>\n",
       "      <th>0</th>\n",
       "      <th>1</th>\n",
       "      <th>2</th>\n",
       "    </tr>\n",
       "  </thead>\n",
       "  <tbody>\n",
       "    <tr>\n",
       "      <th>0</th>\n",
       "      <td>141</td>\n",
       "      <td>57</td>\n",
       "      <td>2</td>\n",
       "    </tr>\n",
       "    <tr>\n",
       "      <th>1</th>\n",
       "      <td>51</td>\n",
       "      <td>119</td>\n",
       "      <td>30</td>\n",
       "    </tr>\n",
       "    <tr>\n",
       "      <th>2</th>\n",
       "      <td>1</td>\n",
       "      <td>33</td>\n",
       "      <td>166</td>\n",
       "    </tr>\n",
       "  </tbody>\n",
       "</table>\n",
       "</div>"
      ],
      "text/plain": [
       "     0    1    2\n",
       "0  141   57    2\n",
       "1   51  119   30\n",
       "2    1   33  166"
      ]
     },
     "execution_count": 27,
     "metadata": {},
     "output_type": "execute_result"
    }
   ],
   "source": [
    "import xgboost as xgb\n",
    "from sklearn import metrics as m\n",
    "\n",
    "xgb_model = xgb.XGBClassifier(objective=\"binary:logistic\", random_state=randomseed)\n",
    "\n",
    "xgb_model.fit(xtrain, ytrain)\n",
    "\n",
    "y_pred = xgb_model.predict((xtest))\n",
    "\n",
    "print(\"accuracy \\t\", m.accuracy_score(ytest, y_pred))\n",
    "confmatrx = pd.DataFrame(m.confusion_matrix(ytest, y_pred))\n",
    "confmatrx.head()"
   ]
  },
  {
   "cell_type": "code",
   "execution_count": 28,
   "metadata": {},
   "outputs": [
    {
     "name": "stdout",
     "output_type": "stream",
     "text": [
      "              precision    recall  f1-score   support\n",
      "\n",
      "           0       0.73      0.70      0.72       200\n",
      "           1       0.57      0.59      0.58       200\n",
      "           2       0.84      0.83      0.83       200\n",
      "\n",
      "    accuracy                           0.71       600\n",
      "   macro avg       0.71      0.71      0.71       600\n",
      "weighted avg       0.71      0.71      0.71       600\n",
      "\n"
     ]
    }
   ],
   "source": [
    "print(classification_report(ytest, y_pred))"
   ]
  },
  {
   "cell_type": "code",
   "execution_count": null,
   "metadata": {},
   "outputs": [],
   "source": [
    "\n"
   ]
  },
  {
   "cell_type": "code",
   "execution_count": 54,
   "metadata": {},
   "outputs": [
    {
     "data": {
      "text/plain": [
       "GridSearchCV(cv='warn', error_score='raise-deprecating',\n",
       "             estimator=SVC(C=1.0, cache_size=200, class_weight=None, coef0=0.0,\n",
       "                           decision_function_shape='ovr', degree=3,\n",
       "                           gamma='auto_deprecated', kernel='rbf', max_iter=-1,\n",
       "                           probability=False, random_state=None, shrinking=True,\n",
       "                           tol=0.001, verbose=False),\n",
       "             iid='warn', n_jobs=None,\n",
       "             param_grid={'C': [1, 5, 10, 15, 20, 25, 30, 70],\n",
       "                         'kernel': ('linear', 'rbf')},\n",
       "             pre_dispatch='2*n_jobs', refit=True, return_train_score=False,\n",
       "             scoring=None, verbose=0)"
      ]
     },
     "execution_count": 54,
     "metadata": {},
     "output_type": "execute_result"
    }
   ],
   "source": [
    "from sklearn.svm import SVC\n",
    "from sklearn.model_selection import GridSearchCV\n",
    "\n",
    "parameters = {'kernel':('linear', 'rbf'), 'C':[1,5,10,15,20,25,30,70]}\n",
    "SVC_clf = SVC()\n",
    "SVC_clf2 = GridSearchCV(SVC_clf, parameters)\n",
    "SVC_clf2.fit(xtrain, ytrain)\n",
    "\n",
    "\n",
    "# sorted(SVC_clf2.cv_results_.keys())"
   ]
  },
  {
   "cell_type": "code",
   "execution_count": 55,
   "metadata": {},
   "outputs": [
    {
     "data": {
      "text/plain": [
       "SVC(C=20, cache_size=200, class_weight=None, coef0=0.0,\n",
       "    decision_function_shape='ovr', degree=3, gamma='auto_deprecated',\n",
       "    kernel='linear', max_iter=-1, probability=False, random_state=None,\n",
       "    shrinking=True, tol=0.001, verbose=False)"
      ]
     },
     "execution_count": 55,
     "metadata": {},
     "output_type": "execute_result"
    }
   ],
   "source": [
    "SVC_clf2.best_estimator_"
   ]
  },
  {
   "cell_type": "code",
   "execution_count": 56,
   "metadata": {},
   "outputs": [
    {
     "data": {
      "text/plain": [
       "SVC(C=20, cache_size=200, class_weight=None, coef0=0.0,\n",
       "    decision_function_shape='ovr', degree=3, gamma='auto_deprecated',\n",
       "    kernel='linear', max_iter=-1, probability=False, random_state=None,\n",
       "    shrinking=True, tol=0.001, verbose=False)"
      ]
     },
     "execution_count": 56,
     "metadata": {},
     "output_type": "execute_result"
    }
   ],
   "source": [
    "\n",
    "SVC_clf = SVC_clf2.best_estimator_\n",
    "SVC_clf.fit(xtrain, ytrain)"
   ]
  },
  {
   "cell_type": "code",
   "execution_count": 57,
   "metadata": {},
   "outputs": [
    {
     "name": "stdout",
     "output_type": "stream",
     "text": [
      "accuracy \t 0.725\n"
     ]
    },
    {
     "data": {
      "text/html": [
       "<div>\n",
       "<style scoped>\n",
       "    .dataframe tbody tr th:only-of-type {\n",
       "        vertical-align: middle;\n",
       "    }\n",
       "\n",
       "    .dataframe tbody tr th {\n",
       "        vertical-align: top;\n",
       "    }\n",
       "\n",
       "    .dataframe thead th {\n",
       "        text-align: right;\n",
       "    }\n",
       "</style>\n",
       "<table border=\"1\" class=\"dataframe\">\n",
       "  <thead>\n",
       "    <tr style=\"text-align: right;\">\n",
       "      <th></th>\n",
       "      <th>0</th>\n",
       "      <th>1</th>\n",
       "      <th>2</th>\n",
       "    </tr>\n",
       "  </thead>\n",
       "  <tbody>\n",
       "    <tr>\n",
       "      <th>0</th>\n",
       "      <td>141</td>\n",
       "      <td>58</td>\n",
       "      <td>1</td>\n",
       "    </tr>\n",
       "    <tr>\n",
       "      <th>1</th>\n",
       "      <td>51</td>\n",
       "      <td>126</td>\n",
       "      <td>23</td>\n",
       "    </tr>\n",
       "    <tr>\n",
       "      <th>2</th>\n",
       "      <td>1</td>\n",
       "      <td>31</td>\n",
       "      <td>168</td>\n",
       "    </tr>\n",
       "  </tbody>\n",
       "</table>\n",
       "</div>"
      ],
      "text/plain": [
       "     0    1    2\n",
       "0  141   58    1\n",
       "1   51  126   23\n",
       "2    1   31  168"
      ]
     },
     "execution_count": 57,
     "metadata": {},
     "output_type": "execute_result"
    }
   ],
   "source": [
    "y_pred = SVC_clf.predict((xtest))\n",
    "\n",
    "print(\"accuracy \\t\", m.accuracy_score(ytest, y_pred))\n",
    "confmatrx = pd.DataFrame(m.confusion_matrix(ytest, y_pred))\n",
    "confmatrx.head()"
   ]
  },
  {
   "cell_type": "code",
   "execution_count": null,
   "metadata": {},
   "outputs": [],
   "source": []
  },
  {
   "cell_type": "code",
   "execution_count": 83,
   "metadata": {},
   "outputs": [],
   "source": [
    "# multi-class classification with Keras\n",
    "import pandas\n",
    "from tensorflow.keras.models import Sequential\n",
    "from tensorflow.keras.layers import Dense\n",
    "from tensorflow.keras.layers import BatchNormalization\n",
    "from tensorflow.keras.layers import Dropout\n",
    "from tensorflow.keras.wrappers.scikit_learn import KerasClassifier\n",
    "\n",
    "from keras.utils import np_utils\n",
    "\n",
    "from sklearn.model_selection import cross_val_score\n",
    "from sklearn.model_selection import KFold\n",
    "from sklearn.preprocessing import LabelEncoder\n",
    "from sklearn.pipeline import Pipeline\n",
    " \n",
    "# create model\n",
    "model = Sequential()\n",
    "model.add(Dense(64, input_dim=11, kernel_initializer='normal', activation='relu'))\n",
    "model.add(BatchNormalization())\n",
    "model.add(Dropout(0.25))\n",
    "model.add(Dense(32, kernel_initializer='normal', activation='relu'))\n",
    "model.add(BatchNormalization())\n",
    "model.add(Dropout(0.25))\n",
    "model.add(Dense(32, kernel_initializer='normal', activation='relu'))\n",
    "model.add(BatchNormalization())\n",
    "model.add(Dropout(0.25))\n",
    "model.add(Dense(16, kernel_initializer='normal', activation='relu'))\n",
    "model.add(BatchNormalization())\n",
    "model.add(Dropout(0.25))\n",
    "model.add(Dense(3, kernel_initializer='normal', activation='linear'))\n",
    "\n",
    "\n",
    "# Compile model\n",
    "model.compile(loss='categorical_crossentropy', optimizer='adam', metrics=['accuracy']) \n",
    "\n",
    "# estimator = KerasClassifier(build_fn=model, epochs=200, batch_size=5, verbose=0)\n",
    "# kfold = KFold(n_splits=10, shuffle=True)\n",
    "# results = cross_val_score(estimator, xtrain, ytrain, cv=kfold)\n",
    "# print(\"Baseline: %.2f%% (%.2f%%)\" % (results.mean()*100, results.std()*100))"
   ]
  },
  {
   "cell_type": "code",
   "execution_count": 84,
   "metadata": {},
   "outputs": [
    {
     "name": "stdout",
     "output_type": "stream",
     "text": [
      "Train on 3988 samples, validate on 998 samples\n",
      "Epoch 1/100\n",
      "3988/3988 [==============================] - 2s 463us/sample - loss: 3.8235 - accuracy: 0.3398 - val_loss: 2.9672 - val_accuracy: 0.1844\n",
      "Epoch 2/100\n",
      "3988/3988 [==============================] - 1s 146us/sample - loss: 1.7765 - accuracy: 0.3506 - val_loss: 1.7770 - val_accuracy: 0.6503\n",
      "Epoch 3/100\n",
      "3988/3988 [==============================] - 1s 149us/sample - loss: 1.6514 - accuracy: 0.2996 - val_loss: 1.5506 - val_accuracy: 0.2685\n",
      "Epoch 4/100\n",
      "3988/3988 [==============================] - 1s 150us/sample - loss: 1.5456 - accuracy: 0.3137 - val_loss: 1.4530 - val_accuracy: 0.4569\n",
      "Epoch 5/100\n",
      "3988/3988 [==============================] - 1s 148us/sample - loss: 1.4432 - accuracy: 0.3044 - val_loss: 1.5028 - val_accuracy: 0.7084\n",
      "Epoch 6/100\n",
      "3988/3988 [==============================] - 1s 146us/sample - loss: 1.3369 - accuracy: 0.2849 - val_loss: 1.7675 - val_accuracy: 0.8287\n",
      "Epoch 7/100\n",
      "3988/3988 [==============================] - 1s 149us/sample - loss: 1.3018 - accuracy: 0.2736 - val_loss: 1.5495 - val_accuracy: 0.7625\n",
      "Epoch 8/100\n",
      "3988/3988 [==============================] - 1s 146us/sample - loss: 1.1630 - accuracy: 0.2598 - val_loss: 1.7761 - val_accuracy: 0.7926\n",
      "Epoch 9/100\n",
      "3988/3988 [==============================] - 1s 148us/sample - loss: 1.1780 - accuracy: 0.2798 - val_loss: 1.7285 - val_accuracy: 0.8006\n",
      "Epoch 10/100\n",
      "3988/3988 [==============================] - 1s 146us/sample - loss: 1.2292 - accuracy: 0.2859 - val_loss: 1.6798 - val_accuracy: 0.8267\n",
      "Epoch 11/100\n",
      "3988/3988 [==============================] - 1s 149us/sample - loss: 1.1750 - accuracy: 0.2773 - val_loss: 1.8845 - val_accuracy: 0.7625\n",
      "Epoch 12/100\n",
      "3988/3988 [==============================] - 1s 148us/sample - loss: 1.3146 - accuracy: 0.3082 - val_loss: 2.1932 - val_accuracy: 0.8016\n",
      "Epoch 13/100\n",
      "3988/3988 [==============================] - 1s 150us/sample - loss: 1.1853 - accuracy: 0.3137 - val_loss: 1.7897 - val_accuracy: 0.6693\n",
      "Epoch 14/100\n",
      "3988/3988 [==============================] - 1s 148us/sample - loss: 1.1984 - accuracy: 0.3154 - val_loss: 1.7881 - val_accuracy: 0.7265\n",
      "Epoch 15/100\n",
      "3988/3988 [==============================] - 1s 144us/sample - loss: 1.1205 - accuracy: 0.2934 - val_loss: 1.7500 - val_accuracy: 0.7325\n",
      "Epoch 16/100\n",
      "3988/3988 [==============================] - 1s 151us/sample - loss: 1.3546 - accuracy: 0.2528 - val_loss: 1.8290 - val_accuracy: 0.4649\n",
      "Epoch 17/100\n",
      "3988/3988 [==============================] - 1s 147us/sample - loss: 1.2748 - accuracy: 0.2555 - val_loss: 1.9581 - val_accuracy: 0.5160\n",
      "Epoch 18/100\n",
      "3988/3988 [==============================] - 1s 144us/sample - loss: 1.3352 - accuracy: 0.2558 - val_loss: 1.5847 - val_accuracy: 0.1964\n",
      "Epoch 19/100\n",
      "3988/3988 [==============================] - 1s 151us/sample - loss: 1.3198 - accuracy: 0.2681 - val_loss: 1.8352 - val_accuracy: 0.2144\n",
      "Epoch 20/100\n",
      "3988/3988 [==============================] - 1s 144us/sample - loss: 1.4415 - accuracy: 0.2578 - val_loss: 2.0550 - val_accuracy: 0.2124\n",
      "Epoch 21/100\n",
      "3988/3988 [==============================] - 1s 152us/sample - loss: 1.3992 - accuracy: 0.2508 - val_loss: 1.9280 - val_accuracy: 0.4128\n",
      "Epoch 22/100\n",
      "3988/3988 [==============================] - 1s 148us/sample - loss: 1.2209 - accuracy: 0.2182 - val_loss: 1.7203 - val_accuracy: 0.4018\n",
      "Epoch 23/100\n",
      "3988/3988 [==============================] - 1s 144us/sample - loss: 1.2658 - accuracy: 0.2064 - val_loss: 1.7269 - val_accuracy: 0.4228\n",
      "Epoch 24/100\n",
      "3988/3988 [==============================] - 1s 148us/sample - loss: 1.1966 - accuracy: 0.1913 - val_loss: 1.8004 - val_accuracy: 0.4800\n",
      "Epoch 25/100\n",
      "3988/3988 [==============================] - 1s 148us/sample - loss: 1.1908 - accuracy: 0.1828 - val_loss: 2.2008 - val_accuracy: 0.4910\n",
      "Epoch 26/100\n",
      "3988/3988 [==============================] - 1s 146us/sample - loss: 1.2172 - accuracy: 0.2209 - val_loss: 1.8399 - val_accuracy: 0.3186\n",
      "Epoch 27/100\n",
      "3988/3988 [==============================] - 1s 148us/sample - loss: 1.1894 - accuracy: 0.2262 - val_loss: 1.8219 - val_accuracy: 0.3246\n",
      "Epoch 28/100\n",
      "3988/3988 [==============================] - 1s 151us/sample - loss: 1.2941 - accuracy: 0.2603 - val_loss: 1.7240 - val_accuracy: 0.3026\n",
      "Epoch 29/100\n",
      "3988/3988 [==============================] - 1s 145us/sample - loss: 1.2779 - accuracy: 0.2788 - val_loss: 1.8116 - val_accuracy: 0.3667\n",
      "Epoch 30/100\n",
      "3988/3988 [==============================] - 1s 150us/sample - loss: 1.1905 - accuracy: 0.2362 - val_loss: 1.7320 - val_accuracy: 0.4098\n",
      "Epoch 31/100\n",
      "3988/3988 [==============================] - 1s 149us/sample - loss: 1.1343 - accuracy: 0.2360 - val_loss: 1.7632 - val_accuracy: 0.4900\n",
      "Epoch 32/100\n",
      "3988/3988 [==============================] - 1s 148us/sample - loss: 1.1525 - accuracy: 0.2219 - val_loss: 2.2613 - val_accuracy: 0.5431\n",
      "Epoch 33/100\n",
      "3988/3988 [==============================] - 1s 148us/sample - loss: 1.1306 - accuracy: 0.2104 - val_loss: 1.9597 - val_accuracy: 0.6192\n",
      "Epoch 34/100\n",
      "3988/3988 [==============================] - 1s 146us/sample - loss: 1.1248 - accuracy: 0.2179 - val_loss: 1.6959 - val_accuracy: 0.4820\n",
      "Epoch 35/100\n",
      "3988/3988 [==============================] - 1s 146us/sample - loss: 1.1285 - accuracy: 0.2540 - val_loss: 1.7670 - val_accuracy: 0.8226\n",
      "Epoch 36/100\n",
      "3988/3988 [==============================] - 1s 148us/sample - loss: 1.1465 - accuracy: 0.2628 - val_loss: 1.7024 - val_accuracy: 0.8086\n",
      "Epoch 37/100\n",
      "3988/3988 [==============================] - 1s 144us/sample - loss: 1.1484 - accuracy: 0.2753 - val_loss: 1.6865 - val_accuracy: 0.9058\n",
      "Epoch 38/100\n",
      "3988/3988 [==============================] - 1s 152us/sample - loss: 1.1373 - accuracy: 0.2736 - val_loss: 1.6951 - val_accuracy: 0.8687\n",
      "Epoch 39/100\n",
      "3988/3988 [==============================] - 1s 146us/sample - loss: 1.1287 - accuracy: 0.2686 - val_loss: 1.7065 - val_accuracy: 0.8828\n",
      "Epoch 40/100\n",
      "3988/3988 [==============================] - 1s 149us/sample - loss: 1.1297 - accuracy: 0.2645 - val_loss: 1.7240 - val_accuracy: 0.9519\n",
      "Epoch 41/100\n",
      "3988/3988 [==============================] - 1s 144us/sample - loss: 1.1455 - accuracy: 0.2866 - val_loss: 1.7049 - val_accuracy: 0.9369\n",
      "Epoch 42/100\n",
      "3988/3988 [==============================] - 1s 148us/sample - loss: 1.0981 - accuracy: 0.2640 - val_loss: 1.7278 - val_accuracy: 0.9409\n",
      "Epoch 43/100\n",
      "3988/3988 [==============================] - 1s 144us/sample - loss: 1.0686 - accuracy: 0.2578 - val_loss: 1.7349 - val_accuracy: 0.8798\n",
      "Epoch 44/100\n",
      "3988/3988 [==============================] - 1s 149us/sample - loss: 1.0767 - accuracy: 0.2477 - val_loss: 1.5509 - val_accuracy: 0.7445\n",
      "Epoch 45/100\n",
      "3988/3988 [==============================] - 1s 148us/sample - loss: 1.1111 - accuracy: 0.2380 - val_loss: 1.7299 - val_accuracy: 0.8026\n",
      "Epoch 46/100\n",
      "3988/3988 [==============================] - 1s 143us/sample - loss: 1.0567 - accuracy: 0.2422 - val_loss: 1.7296 - val_accuracy: 0.7475\n",
      "Epoch 47/100\n",
      "3988/3988 [==============================] - 1s 152us/sample - loss: 1.1255 - accuracy: 0.2447 - val_loss: 1.7998 - val_accuracy: 0.7325\n",
      "Epoch 48/100\n",
      "3988/3988 [==============================] - 1s 147us/sample - loss: 1.1571 - accuracy: 0.2309 - val_loss: 2.1764 - val_accuracy: 0.5832\n",
      "Epoch 49/100\n",
      "3988/3988 [==============================] - 1s 145us/sample - loss: 1.1405 - accuracy: 0.2229 - val_loss: 1.9802 - val_accuracy: 0.5892\n",
      "Epoch 50/100\n",
      "3988/3988 [==============================] - 1s 149us/sample - loss: 1.2135 - accuracy: 0.2172 - val_loss: 1.6730 - val_accuracy: 0.5371\n",
      "Epoch 51/100\n",
      "3988/3988 [==============================] - 1s 146us/sample - loss: 1.1569 - accuracy: 0.1678 - val_loss: 1.7007 - val_accuracy: 0.5421\n",
      "Epoch 52/100\n",
      "3988/3988 [==============================] - 1s 148us/sample - loss: 1.1004 - accuracy: 0.1642 - val_loss: 1.8848 - val_accuracy: 0.5100\n",
      "Epoch 53/100\n",
      "3988/3988 [==============================] - 1s 147us/sample - loss: 1.1416 - accuracy: 0.1933 - val_loss: 1.8789 - val_accuracy: 0.5531\n",
      "Epoch 54/100\n",
      "3988/3988 [==============================] - 1s 146us/sample - loss: 1.1382 - accuracy: 0.2387 - val_loss: 2.3452 - val_accuracy: 0.6493\n",
      "Epoch 55/100\n"
     ]
    },
    {
     "name": "stdout",
     "output_type": "stream",
     "text": [
      "3988/3988 [==============================] - 1s 149us/sample - loss: 1.1840 - accuracy: 0.2460 - val_loss: 1.8587 - val_accuracy: 0.8788\n",
      "Epoch 56/100\n",
      "3988/3988 [==============================] - 1s 147us/sample - loss: 1.1123 - accuracy: 0.2934 - val_loss: 1.7312 - val_accuracy: 0.7926\n",
      "Epoch 57/100\n",
      "3988/3988 [==============================] - 1s 146us/sample - loss: 1.1452 - accuracy: 0.2505 - val_loss: 1.9292 - val_accuracy: 0.9138\n",
      "Epoch 58/100\n",
      "3988/3988 [==============================] - 1s 146us/sample - loss: 1.1930 - accuracy: 0.2776 - val_loss: 1.8012 - val_accuracy: 0.8858\n",
      "Epoch 59/100\n",
      "3988/3988 [==============================] - 1s 147us/sample - loss: 1.1777 - accuracy: 0.2941 - val_loss: 1.8490 - val_accuracy: 0.9289\n",
      "Epoch 60/100\n",
      "3988/3988 [==============================] - 1s 148us/sample - loss: 1.1463 - accuracy: 0.2756 - val_loss: 1.8349 - val_accuracy: 0.8888\n",
      "Epoch 61/100\n",
      "3988/3988 [==============================] - 1s 143us/sample - loss: 1.1037 - accuracy: 0.2731 - val_loss: 1.7527 - val_accuracy: 0.8938\n",
      "Epoch 62/100\n",
      "3988/3988 [==============================] - 1s 150us/sample - loss: 1.0640 - accuracy: 0.2711 - val_loss: 1.7302 - val_accuracy: 0.8978\n",
      "Epoch 63/100\n",
      "3988/3988 [==============================] - 1s 144us/sample - loss: 1.0977 - accuracy: 0.2718 - val_loss: 1.7797 - val_accuracy: 0.9198\n",
      "Epoch 64/100\n",
      "3988/3988 [==============================] - 1s 151us/sample - loss: 1.0929 - accuracy: 0.2628 - val_loss: 1.8126 - val_accuracy: 0.9178\n",
      "Epoch 65/100\n",
      "3988/3988 [==============================] - 1s 145us/sample - loss: 1.1062 - accuracy: 0.2590 - val_loss: 1.7437 - val_accuracy: 0.9208\n",
      "Epoch 66/100\n",
      "3988/3988 [==============================] - 1s 149us/sample - loss: 1.1005 - accuracy: 0.2460 - val_loss: 1.6847 - val_accuracy: 0.9369\n",
      "Epoch 67/100\n",
      "3988/3988 [==============================] - 1s 147us/sample - loss: 1.0740 - accuracy: 0.2397 - val_loss: 2.0498 - val_accuracy: 0.9319\n",
      "Epoch 68/100\n",
      "3988/3988 [==============================] - 1s 148us/sample - loss: 1.1486 - accuracy: 0.2460 - val_loss: 1.6666 - val_accuracy: 0.9659\n",
      "Epoch 69/100\n",
      "3988/3988 [==============================] - 1s 145us/sample - loss: 1.0926 - accuracy: 0.2309 - val_loss: 1.7754 - val_accuracy: 0.9259\n",
      "Epoch 70/100\n",
      "3988/3988 [==============================] - 1s 150us/sample - loss: 1.1019 - accuracy: 0.2229 - val_loss: 2.0835 - val_accuracy: 0.9078\n",
      "Epoch 71/100\n",
      "3988/3988 [==============================] - 1s 148us/sample - loss: 1.1804 - accuracy: 0.2146 - val_loss: 1.7373 - val_accuracy: 0.7715\n",
      "Epoch 72/100\n",
      "3988/3988 [==============================] - 1s 148us/sample - loss: 1.1540 - accuracy: 0.2304 - val_loss: 1.7940 - val_accuracy: 0.7886\n",
      "Epoch 73/100\n",
      "3988/3988 [==============================] - 1s 150us/sample - loss: 1.2157 - accuracy: 0.2071 - val_loss: 1.9537 - val_accuracy: 0.8006\n",
      "Epoch 74/100\n",
      "3988/3988 [==============================] - 1s 149us/sample - loss: 1.0753 - accuracy: 0.2227 - val_loss: 1.8649 - val_accuracy: 0.8407\n",
      "Epoch 75/100\n",
      "3988/3988 [==============================] - 1s 149us/sample - loss: 1.2002 - accuracy: 0.2229 - val_loss: 1.8678 - val_accuracy: 0.8467\n",
      "Epoch 76/100\n",
      "3988/3988 [==============================] - 1s 148us/sample - loss: 1.1419 - accuracy: 0.2257 - val_loss: 1.7752 - val_accuracy: 0.9108\n",
      "Epoch 77/100\n",
      "3988/3988 [==============================] - 1s 146us/sample - loss: 1.1699 - accuracy: 0.2129 - val_loss: 1.8577 - val_accuracy: 0.8587\n",
      "Epoch 78/100\n",
      "3988/3988 [==============================] - 1s 148us/sample - loss: 1.1061 - accuracy: 0.2329 - val_loss: 1.8767 - val_accuracy: 0.8758\n",
      "Epoch 79/100\n",
      "3988/3988 [==============================] - 1s 148us/sample - loss: 1.1120 - accuracy: 0.2678 - val_loss: 1.7922 - val_accuracy: 0.8958\n",
      "Epoch 80/100\n",
      "3988/3988 [==============================] - 1s 150us/sample - loss: 1.1270 - accuracy: 0.2653 - val_loss: 1.9378 - val_accuracy: 0.8557\n",
      "Epoch 81/100\n",
      "3988/3988 [==============================] - 1s 150us/sample - loss: 1.1316 - accuracy: 0.2673 - val_loss: 1.6952 - val_accuracy: 0.9339\n",
      "Epoch 82/100\n",
      "3988/3988 [==============================] - 1s 148us/sample - loss: 1.1341 - accuracy: 0.2738 - val_loss: 1.7848 - val_accuracy: 0.8267\n",
      "Epoch 83/100\n",
      "3988/3988 [==============================] - 1s 147us/sample - loss: 1.1029 - accuracy: 0.2768 - val_loss: 1.7756 - val_accuracy: 0.8076\n",
      "Epoch 84/100\n",
      "3988/3988 [==============================] - 1s 149us/sample - loss: 1.0845 - accuracy: 0.2728 - val_loss: 1.8251 - val_accuracy: 0.8737\n",
      "Epoch 85/100\n",
      "3988/3988 [==============================] - 1s 149us/sample - loss: 1.0804 - accuracy: 0.2741 - val_loss: 1.8756 - val_accuracy: 0.8948\n",
      "Epoch 86/100\n",
      "3988/3988 [==============================] - 1s 144us/sample - loss: 1.1130 - accuracy: 0.2931 - val_loss: 1.8590 - val_accuracy: 0.9198\n",
      "Epoch 87/100\n",
      "3988/3988 [==============================] - 1s 148us/sample - loss: 1.1340 - accuracy: 0.3322 - val_loss: 1.8728 - val_accuracy: 0.9128\n",
      "Epoch 88/100\n",
      "3988/3988 [==============================] - 1s 151us/sample - loss: 1.1174 - accuracy: 0.3170 - val_loss: 1.9967 - val_accuracy: 0.8487\n",
      "Epoch 89/100\n",
      "3988/3988 [==============================] - 1s 148us/sample - loss: 1.1510 - accuracy: 0.3287 - val_loss: 1.9193 - val_accuracy: 0.8848\n",
      "Epoch 90/100\n",
      "3988/3988 [==============================] - 1s 149us/sample - loss: 1.1467 - accuracy: 0.3132 - val_loss: 2.1356 - val_accuracy: 0.8838\n",
      "Epoch 91/100\n",
      "3988/3988 [==============================] - 1s 145us/sample - loss: 1.1364 - accuracy: 0.3122 - val_loss: 1.7906 - val_accuracy: 0.8828\n",
      "Epoch 92/100\n",
      "3988/3988 [==============================] - 1s 148us/sample - loss: 1.1084 - accuracy: 0.3192 - val_loss: 1.6566 - val_accuracy: 0.9158\n",
      "Epoch 93/100\n",
      "3988/3988 [==============================] - 1s 150us/sample - loss: 1.1112 - accuracy: 0.3054 - val_loss: 1.6437 - val_accuracy: 0.8898\n",
      "Epoch 94/100\n",
      "3988/3988 [==============================] - 1s 146us/sample - loss: 1.1133 - accuracy: 0.3027 - val_loss: 1.7396 - val_accuracy: 0.9138\n",
      "Epoch 95/100\n",
      "3988/3988 [==============================] - 1s 146us/sample - loss: 1.1289 - accuracy: 0.2716 - val_loss: 1.6753 - val_accuracy: 0.9118\n",
      "Epoch 96/100\n",
      "3988/3988 [==============================] - 1s 148us/sample - loss: 1.1080 - accuracy: 0.2660 - val_loss: 1.6301 - val_accuracy: 0.9208\n",
      "Epoch 97/100\n",
      "3988/3988 [==============================] - 1s 148us/sample - loss: 1.2008 - accuracy: 0.2906 - val_loss: 2.0352 - val_accuracy: 0.9459\n",
      "Epoch 98/100\n",
      "3988/3988 [==============================] - 1s 153us/sample - loss: 1.2685 - accuracy: 0.2635 - val_loss: 1.7501 - val_accuracy: 0.9198\n",
      "Epoch 99/100\n",
      "3988/3988 [==============================] - 1s 145us/sample - loss: 1.2301 - accuracy: 0.2560 - val_loss: 1.8029 - val_accuracy: 0.9269\n",
      "Epoch 100/100\n",
      "3988/3988 [==============================] - 1s 147us/sample - loss: 1.2100 - accuracy: 0.2480 - val_loss: 1.7090 - val_accuracy: 0.9178\n"
     ]
    }
   ],
   "source": [
    "history=model.fit(xtrain, np_utils.to_categorical( ytrain.to_numpy()), \n",
    "                  epochs=100, batch_size=10,validation_split=.2)"
   ]
  },
  {
   "cell_type": "code",
   "execution_count": 85,
   "metadata": {},
   "outputs": [
    {
     "data": {
      "image/png": "[encoded data removed]",
      "text/plain": [
       "<Figure size 432x288 with 1 Axes>"
      ]
     },
     "metadata": {
      "needs_background": "light"
     },
     "output_type": "display_data"
    },
    {
     "data": {
      "image/png": "[encoded data removed]",
      "text/plain": [
       "<Figure size 432x288 with 1 Axes>"
      ]
     },
     "metadata": {
      "needs_background": "light"
     },
     "output_type": "display_data"
    }
   ],
   "source": [
    "# summarize history for accuracy\n",
    "plt.plot(history.history['accuracy'])\n",
    "plt.plot(history.history['val_accuracy'])\n",
    "plt.title('model accuracy')\n",
    "plt.ylabel('accuracy')\n",
    "plt.xlabel('epoch')\n",
    "plt.legend(['train', 'test'], loc='upper left')\n",
    "plt.show()\n",
    "# summarize history for loss\n",
    "plt.plot(history.history['loss'])\n",
    "plt.plot(history.history['val_loss'])\n",
    "plt.title('model loss')\n",
    "plt.ylabel('loss')\n",
    "plt.xlabel('epoch')\n",
    "plt.legend(['train', 'test'], loc='upper left')\n",
    "plt.show()"
   ]
  },
  {
   "cell_type": "code",
   "execution_count": null,
   "metadata": {},
   "outputs": [],
   "source": []
  },
  {
   "cell_type": "code",
   "execution_count": null,
   "metadata": {},
   "outputs": [],
   "source": []
  },
  {
   "cell_type": "code",
   "execution_count": 29,
   "metadata": {},
   "outputs": [
    {
     "name": "stdout",
     "output_type": "stream",
     "text": [
      "0.7070063694267515\n"
     ]
    },
    {
     "data": {
      "text/html": [
       "<div>\n",
       "<style scoped>\n",
       "    .dataframe tbody tr th:only-of-type {\n",
       "        vertical-align: middle;\n",
       "    }\n",
       "\n",
       "    .dataframe tbody tr th {\n",
       "        vertical-align: top;\n",
       "    }\n",
       "\n",
       "    .dataframe thead th {\n",
       "        text-align: right;\n",
       "    }\n",
       "</style>\n",
       "<table border=\"1\" class=\"dataframe\">\n",
       "  <thead>\n",
       "    <tr style=\"text-align: right;\">\n",
       "      <th></th>\n",
       "      <th>0</th>\n",
       "      <th>1</th>\n",
       "      <th>2</th>\n",
       "    </tr>\n",
       "  </thead>\n",
       "  <tbody>\n",
       "    <tr>\n",
       "      <th>0</th>\n",
       "      <td>110</td>\n",
       "      <td>45</td>\n",
       "      <td>2</td>\n",
       "    </tr>\n",
       "    <tr>\n",
       "      <th>1</th>\n",
       "      <td>48</td>\n",
       "      <td>101</td>\n",
       "      <td>8</td>\n",
       "    </tr>\n",
       "    <tr>\n",
       "      <th>2</th>\n",
       "      <td>3</td>\n",
       "      <td>32</td>\n",
       "      <td>122</td>\n",
       "    </tr>\n",
       "  </tbody>\n",
       "</table>\n",
       "</div>"
      ],
      "text/plain": [
       "     0    1    2\n",
       "0  110   45    2\n",
       "1   48  101    8\n",
       "2    3   32  122"
      ]
     },
     "execution_count": 29,
     "metadata": {},
     "output_type": "execute_result"
    }
   ],
   "source": [
    "# =====================================\n",
    "\n",
    "tempdata=data5\n",
    "\n",
    "diabetic = tempdata[tempdata.CLASS == 2]\n",
    "prediabetic = tempdata[tempdata.CLASS == 1].sample(diabetic.shape[0],random_state=0)\n",
    "normal = tempdata[tempdata.CLASS == 0].sample(diabetic.shape[0],random_state=0)\n",
    "\n",
    "tempdata5=pd.concat([diabetic,prediabetic,normal])\n",
    "tempdata5.iloc[:, 3:-2]=scaler.transform(tempdata5.iloc[:, 3:-2])\n",
    "\n",
    "pred5 = rf.predict((tempdata5.iloc[:, 3:-2]))\n",
    "print(m.accuracy_score(tempdata5.iloc[:, -1], pred5))\n",
    "\n",
    "confmatrx = pd.DataFrame(m.confusion_matrix(tempdata5.iloc[:, -1], pred5))\n",
    "confmatrx"
   ]
  },
  {
   "cell_type": "code",
   "execution_count": 30,
   "metadata": {},
   "outputs": [
    {
     "name": "stdout",
     "output_type": "stream",
     "text": [
      "              precision    recall  f1-score   support\n",
      "\n",
      "           0       0.68      0.70      0.69       157\n",
      "           1       0.57      0.64      0.60       157\n",
      "           2       0.92      0.78      0.84       157\n",
      "\n",
      "    accuracy                           0.71       471\n",
      "   macro avg       0.72      0.71      0.71       471\n",
      "weighted avg       0.72      0.71      0.71       471\n",
      "\n"
     ]
    }
   ],
   "source": [
    "print(classification_report(tempdata5.iloc[:, -1], pred5))"
   ]
  },
  {
   "cell_type": "code",
   "execution_count": null,
   "metadata": {},
   "outputs": [],
   "source": [
    "#xgboost test"
   ]
  },
  {
   "cell_type": "code",
   "execution_count": 16,
   "metadata": {},
   "outputs": [
    {
     "name": "stdout",
     "output_type": "stream",
     "text": [
      "0.6963906581740976\n"
     ]
    },
    {
     "data": {
      "text/html": [
       "<div>\n",
       "<style scoped>\n",
       "    .dataframe tbody tr th:only-of-type {\n",
       "        vertical-align: middle;\n",
       "    }\n",
       "\n",
       "    .dataframe tbody tr th {\n",
       "        vertical-align: top;\n",
       "    }\n",
       "\n",
       "    .dataframe thead th {\n",
       "        text-align: right;\n",
       "    }\n",
       "</style>\n",
       "<table border=\"1\" class=\"dataframe\">\n",
       "  <thead>\n",
       "    <tr style=\"text-align: right;\">\n",
       "      <th></th>\n",
       "      <th>0</th>\n",
       "      <th>1</th>\n",
       "      <th>2</th>\n",
       "    </tr>\n",
       "  </thead>\n",
       "  <tbody>\n",
       "    <tr>\n",
       "      <th>0</th>\n",
       "      <td>109</td>\n",
       "      <td>46</td>\n",
       "      <td>2</td>\n",
       "    </tr>\n",
       "    <tr>\n",
       "      <th>1</th>\n",
       "      <td>52</td>\n",
       "      <td>97</td>\n",
       "      <td>8</td>\n",
       "    </tr>\n",
       "    <tr>\n",
       "      <th>2</th>\n",
       "      <td>2</td>\n",
       "      <td>33</td>\n",
       "      <td>122</td>\n",
       "    </tr>\n",
       "  </tbody>\n",
       "</table>\n",
       "</div>"
      ],
      "text/plain": [
       "     0   1    2\n",
       "0  109  46    2\n",
       "1   52  97    8\n",
       "2    2  33  122"
      ]
     },
     "execution_count": 16,
     "metadata": {},
     "output_type": "execute_result"
    }
   ],
   "source": [
    "tempdata5Rcolumns=tempdata5.iloc[:, 3:-2]\n",
    "tempdata5Rcolumns.columns=['f0', 'f1', 'f2', 'f3', 'f4', 'f5', 'f6', 'f7', 'f8', 'f9', 'f10']\n",
    "pred5 = xgb_model.predict((tempdata5Rcolumns))\n",
    "print(m.accuracy_score(tempdata5.iloc[:, -1], pred5))\n",
    "\n",
    "confmatrx = pd.DataFrame(m.confusion_matrix(tempdata5.iloc[:, -1], pred5))\n",
    "confmatrx"
   ]
  },
  {
   "cell_type": "code",
   "execution_count": 17,
   "metadata": {},
   "outputs": [
    {
     "name": "stdout",
     "output_type": "stream",
     "text": [
      "              precision    recall  f1-score   support\n",
      "\n",
      "           0       0.67      0.69      0.68       157\n",
      "           1       0.55      0.62      0.58       157\n",
      "           2       0.92      0.78      0.84       157\n",
      "\n",
      "    accuracy                           0.70       471\n",
      "   macro avg       0.71      0.70      0.70       471\n",
      "weighted avg       0.71      0.70      0.70       471\n",
      "\n"
     ]
    }
   ],
   "source": [
    "print(classification_report(tempdata5.iloc[:, -1], pred5))\n"
   ]
  },
  {
   "cell_type": "code",
   "execution_count": null,
   "metadata": {},
   "outputs": [],
   "source": [
    "#SVC"
   ]
  },
  {
   "cell_type": "code",
   "execution_count": 58,
   "metadata": {},
   "outputs": [
    {
     "name": "stdout",
     "output_type": "stream",
     "text": [
      "0.6985138004246284\n"
     ]
    },
    {
     "data": {
      "text/html": [
       "<div>\n",
       "<style scoped>\n",
       "    .dataframe tbody tr th:only-of-type {\n",
       "        vertical-align: middle;\n",
       "    }\n",
       "\n",
       "    .dataframe tbody tr th {\n",
       "        vertical-align: top;\n",
       "    }\n",
       "\n",
       "    .dataframe thead th {\n",
       "        text-align: right;\n",
       "    }\n",
       "</style>\n",
       "<table border=\"1\" class=\"dataframe\">\n",
       "  <thead>\n",
       "    <tr style=\"text-align: right;\">\n",
       "      <th></th>\n",
       "      <th>0</th>\n",
       "      <th>1</th>\n",
       "      <th>2</th>\n",
       "    </tr>\n",
       "  </thead>\n",
       "  <tbody>\n",
       "    <tr>\n",
       "      <th>0</th>\n",
       "      <td>108</td>\n",
       "      <td>48</td>\n",
       "      <td>1</td>\n",
       "    </tr>\n",
       "    <tr>\n",
       "      <th>1</th>\n",
       "      <td>50</td>\n",
       "      <td>103</td>\n",
       "      <td>4</td>\n",
       "    </tr>\n",
       "    <tr>\n",
       "      <th>2</th>\n",
       "      <td>3</td>\n",
       "      <td>36</td>\n",
       "      <td>118</td>\n",
       "    </tr>\n",
       "  </tbody>\n",
       "</table>\n",
       "</div>"
      ],
      "text/plain": [
       "     0    1    2\n",
       "0  108   48    1\n",
       "1   50  103    4\n",
       "2    3   36  118"
      ]
     },
     "execution_count": 58,
     "metadata": {},
     "output_type": "execute_result"
    }
   ],
   "source": [
    "pred5 = SVC_clf.predict((tempdata5.iloc[:, 3:-2]))\n",
    "print(m.accuracy_score(tempdata5.iloc[:, -1], pred5))\n",
    "\n",
    "confmatrx = pd.DataFrame(m.confusion_matrix(tempdata5.iloc[:, -1], pred5))\n",
    "confmatrx"
   ]
  },
  {
   "cell_type": "code",
   "execution_count": 59,
   "metadata": {},
   "outputs": [
    {
     "name": "stdout",
     "output_type": "stream",
     "text": [
      "              precision    recall  f1-score   support\n",
      "\n",
      "           0       0.67      0.69      0.68       157\n",
      "           1       0.55      0.66      0.60       157\n",
      "           2       0.96      0.75      0.84       157\n",
      "\n",
      "    accuracy                           0.70       471\n",
      "   macro avg       0.73      0.70      0.71       471\n",
      "weighted avg       0.73      0.70      0.71       471\n",
      "\n"
     ]
    }
   ],
   "source": [
    "print(classification_report(tempdata5.iloc[:, -1], pred5))"
   ]
  },
  {
   "cell_type": "code",
   "execution_count": null,
   "metadata": {},
   "outputs": [],
   "source": []
  },
  {
   "cell_type": "code",
   "execution_count": null,
   "metadata": {},
   "outputs": [],
   "source": [
    "# ========================================================"
   ]
  },
  {
   "cell_type": "code",
   "execution_count": null,
   "metadata": {},
   "outputs": [],
   "source": [
    "# import pickle\n",
    "\n",
    "# with open('_DiabeticClassifierModelForNextYear_rf_model', 'wb') as f:\n",
    "#     pickle.dump(rf, f)"
   ]
  },
  {
   "cell_type": "code",
   "execution_count": 31,
   "metadata": {},
   "outputs": [],
   "source": [
    "# with open('_DiabeticClassifierModelForNextYear_scaler', 'wb') as f:\n",
    "#     pickle.dump(scaler, f)"
   ]
  },
  {
   "cell_type": "code",
   "execution_count": null,
   "metadata": {},
   "outputs": [],
   "source": []
  }
 ],
 "metadata": {
  "kernelspec": {
   "display_name": "Python 3",
   "language": "python",
   "name": "python3"
  },
  "language_info": {
   "codemirror_mode": {
    "name": "ipython",
    "version": 3
   },
   "file_extension": ".py",
   "mimetype": "text/x-python",
   "name": "python",
   "nbconvert_exporter": "python",
   "pygments_lexer": "ipython3",
   "version": "3.7.3"
  }
 },
 "nbformat": 4,
 "nbformat_minor": 2
}

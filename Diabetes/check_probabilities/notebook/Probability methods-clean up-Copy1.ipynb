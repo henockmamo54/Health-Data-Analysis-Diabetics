{
 "cells": [
  {
   "cell_type": "code",
   "execution_count": 3,
   "metadata": {},
   "outputs": [],
   "source": [
    "import numpy as np\n",
    "import pandas as pd \n",
    "import warnings\n",
    "\n",
    "warnings.filterwarnings(\"ignore\")\n",
    "randomseed = 7\n",
    "np.random.seed(randomseed)"
   ]
  },
  {
   "cell_type": "markdown",
   "metadata": {},
   "source": [
    "# Read dataset"
   ]
  },
  {
   "cell_type": "code",
   "execution_count": 4,
   "metadata": {},
   "outputs": [
    {
     "data": {
      "text/html": [
       "<div>\n",
       "<style scoped>\n",
       "    .dataframe tbody tr th:only-of-type {\n",
       "        vertical-align: middle;\n",
       "    }\n",
       "\n",
       "    .dataframe tbody tr th {\n",
       "        vertical-align: top;\n",
       "    }\n",
       "\n",
       "    .dataframe thead th {\n",
       "        text-align: right;\n",
       "    }\n",
       "</style>\n",
       "<table border=\"1\" class=\"dataframe\">\n",
       "  <thead>\n",
       "    <tr style=\"text-align: right;\">\n",
       "      <th></th>\n",
       "      <th>Unnamed: 0</th>\n",
       "      <th>FIELD_1</th>\n",
       "      <th>FIELD_2</th>\n",
       "      <th>COMPARE</th>\n",
       "      <th>AGE</th>\n",
       "      <th>B_DAY</th>\n",
       "      <th>SEX</th>\n",
       "      <th>FIELD_3</th>\n",
       "      <th>FIELD_4</th>\n",
       "      <th>FIELD_5</th>\n",
       "      <th>...</th>\n",
       "      <th>S004424</th>\n",
       "      <th>S005200</th>\n",
       "      <th>S007400</th>\n",
       "      <th>S008501</th>\n",
       "      <th>S008502</th>\n",
       "      <th>S008503</th>\n",
       "      <th>S008504</th>\n",
       "      <th>S010101</th>\n",
       "      <th>S010102</th>\n",
       "      <th>CLASS</th>\n",
       "    </tr>\n",
       "  </thead>\n",
       "  <tbody>\n",
       "    <tr>\n",
       "      <th>0</th>\n",
       "      <td>0</td>\n",
       "      <td>1000003</td>\n",
       "      <td>20130913</td>\n",
       "      <td>100000320130913</td>\n",
       "      <td>46.0</td>\n",
       "      <td>670212.0</td>\n",
       "      <td>0.0</td>\n",
       "      <td>NaN</td>\n",
       "      <td>4</td>\n",
       "      <td>1</td>\n",
       "      <td>...</td>\n",
       "      <td>NaN</td>\n",
       "      <td>NaN</td>\n",
       "      <td>NaN</td>\n",
       "      <td>NaN</td>\n",
       "      <td>NaN</td>\n",
       "      <td>NaN</td>\n",
       "      <td>NaN</td>\n",
       "      <td>18.0</td>\n",
       "      <td>14.0</td>\n",
       "      <td>0</td>\n",
       "    </tr>\n",
       "    <tr>\n",
       "      <th>1</th>\n",
       "      <td>1</td>\n",
       "      <td>1000003</td>\n",
       "      <td>20140613</td>\n",
       "      <td>100000320140613</td>\n",
       "      <td>47.0</td>\n",
       "      <td>670212.0</td>\n",
       "      <td>0.0</td>\n",
       "      <td>NaN</td>\n",
       "      <td>4</td>\n",
       "      <td>1</td>\n",
       "      <td>...</td>\n",
       "      <td>NaN</td>\n",
       "      <td>NaN</td>\n",
       "      <td>NaN</td>\n",
       "      <td>NaN</td>\n",
       "      <td>NaN</td>\n",
       "      <td>NaN</td>\n",
       "      <td>NaN</td>\n",
       "      <td>15.0</td>\n",
       "      <td>16.0</td>\n",
       "      <td>0</td>\n",
       "    </tr>\n",
       "    <tr>\n",
       "      <th>2</th>\n",
       "      <td>2</td>\n",
       "      <td>1000003</td>\n",
       "      <td>20150917</td>\n",
       "      <td>100000320150917</td>\n",
       "      <td>48.0</td>\n",
       "      <td>670212.0</td>\n",
       "      <td>0.0</td>\n",
       "      <td>1</td>\n",
       "      <td>4</td>\n",
       "      <td>1</td>\n",
       "      <td>...</td>\n",
       "      <td>NaN</td>\n",
       "      <td>NaN</td>\n",
       "      <td>NaN</td>\n",
       "      <td>NaN</td>\n",
       "      <td>NaN</td>\n",
       "      <td>NaN</td>\n",
       "      <td>NaN</td>\n",
       "      <td>16.0</td>\n",
       "      <td>16.0</td>\n",
       "      <td>0</td>\n",
       "    </tr>\n",
       "    <tr>\n",
       "      <th>3</th>\n",
       "      <td>3</td>\n",
       "      <td>1000003</td>\n",
       "      <td>20160617</td>\n",
       "      <td>100000320160617</td>\n",
       "      <td>49.0</td>\n",
       "      <td>670212.0</td>\n",
       "      <td>0.0</td>\n",
       "      <td>NaN</td>\n",
       "      <td>4</td>\n",
       "      <td>NaN</td>\n",
       "      <td>...</td>\n",
       "      <td>NaN</td>\n",
       "      <td>NaN</td>\n",
       "      <td>NaN</td>\n",
       "      <td>NaN</td>\n",
       "      <td>NaN</td>\n",
       "      <td>NaN</td>\n",
       "      <td>NaN</td>\n",
       "      <td>16.0</td>\n",
       "      <td>18.0</td>\n",
       "      <td>0</td>\n",
       "    </tr>\n",
       "    <tr>\n",
       "      <th>4</th>\n",
       "      <td>4</td>\n",
       "      <td>1000003</td>\n",
       "      <td>20170608</td>\n",
       "      <td>100000320170608</td>\n",
       "      <td>50.0</td>\n",
       "      <td>670212.0</td>\n",
       "      <td>0.0</td>\n",
       "      <td>NaN</td>\n",
       "      <td>4</td>\n",
       "      <td>NaN</td>\n",
       "      <td>...</td>\n",
       "      <td>NaN</td>\n",
       "      <td>NaN</td>\n",
       "      <td>NaN</td>\n",
       "      <td>NaN</td>\n",
       "      <td>NaN</td>\n",
       "      <td>NaN</td>\n",
       "      <td>NaN</td>\n",
       "      <td>16.0</td>\n",
       "      <td>18.0</td>\n",
       "      <td>0</td>\n",
       "    </tr>\n",
       "  </tbody>\n",
       "</table>\n",
       "<p>5 rows × 407 columns</p>\n",
       "</div>"
      ],
      "text/plain": [
       "   Unnamed: 0  FIELD_1   FIELD_2          COMPARE   AGE     B_DAY  SEX  \\\n",
       "0           0  1000003  20130913  100000320130913  46.0  670212.0  0.0   \n",
       "1           1  1000003  20140613  100000320140613  47.0  670212.0  0.0   \n",
       "2           2  1000003  20150917  100000320150917  48.0  670212.0  0.0   \n",
       "3           3  1000003  20160617  100000320160617  49.0  670212.0  0.0   \n",
       "4           4  1000003  20170608  100000320170608  50.0  670212.0  0.0   \n",
       "\n",
       "  FIELD_3 FIELD_4 FIELD_5  ...  S004424  S005200 S007400  S008501 S008502  \\\n",
       "0     NaN       4       1  ...      NaN      NaN     NaN      NaN     NaN   \n",
       "1     NaN       4       1  ...      NaN      NaN     NaN      NaN     NaN   \n",
       "2       1       4       1  ...      NaN      NaN     NaN      NaN     NaN   \n",
       "3     NaN       4     NaN  ...      NaN      NaN     NaN      NaN     NaN   \n",
       "4     NaN       4     NaN  ...      NaN      NaN     NaN      NaN     NaN   \n",
       "\n",
       "  S008503 S008504  S010101  S010102  CLASS  \n",
       "0     NaN     NaN     18.0     14.0      0  \n",
       "1     NaN     NaN     15.0     16.0      0  \n",
       "2     NaN     NaN     16.0     16.0      0  \n",
       "3     NaN     NaN     16.0     18.0      0  \n",
       "4     NaN     NaN     16.0     18.0      0  \n",
       "\n",
       "[5 rows x 407 columns]"
      ]
     },
     "execution_count": 4,
     "metadata": {},
     "output_type": "execute_result"
    }
   ],
   "source": [
    "fulldata= pd.read_csv('../dataset/DATASET_2019-10-24_light.txt')\n",
    "data=fulldata.copy()\n",
    "data.head()"
   ]
  },
  {
   "cell_type": "markdown",
   "metadata": {},
   "source": [
    "#Note\n",
    "\n",
    "data.FIELD_16 == 1 people who are diagnosed for (diabetes)\n",
    "\n",
    "data.FIELD_23 == 1 people who are on medication for diabetes\n",
    "\n",
    "data.FIELD_15 == 1 people who are diagnosed for (high blood pressure)\n",
    "\n",
    "data.FIELD_22 == 1 people who are on medication for high blood pressure\n"
   ]
  },
  {
   "cell_type": "markdown",
   "metadata": {},
   "source": [
    "# Probability of being diabetes, HBP and joint probability"
   ]
  },
  {
   "cell_type": "markdown",
   "metadata": {},
   "source": [
    "# a. Diabetes"
   ]
  },
  {
   "cell_type": "code",
   "execution_count": 5,
   "metadata": {},
   "outputs": [
    {
     "name": "stdout",
     "output_type": "stream",
     "text": [
      "(535169, 407)\n",
      "(18332, 407)\n"
     ]
    }
   ],
   "source": [
    "#people who are diagnosed for diabetes\n",
    "\n",
    "data_diagnosedfordiabetes= data[data.FIELD_16 == 1]\n",
    "\n",
    "print(data.shape)\n",
    "print(data_diagnosedfordiabetes.shape)\n"
   ]
  },
  {
   "cell_type": "code",
   "execution_count": null,
   "metadata": {},
   "outputs": [],
   "source": []
  },
  {
   "cell_type": "code",
   "execution_count": 14,
   "metadata": {},
   "outputs": [
    {
     "data": {
      "text/plain": [
       "(11169,)"
      ]
     },
     "execution_count": 14,
     "metadata": {},
     "output_type": "execute_result"
    }
   ],
   "source": [
    "data_diagnosedfordiabetes.FIELD_1.unique().shape"
   ]
  },
  {
   "cell_type": "code",
   "execution_count": null,
   "metadata": {},
   "outputs": [],
   "source": []
  },
  {
   "cell_type": "code",
   "execution_count": 4,
   "metadata": {},
   "outputs": [
    {
     "name": "stdout",
     "output_type": "stream",
     "text": [
      "(535169, 407)\n",
      "(16082, 407)\n"
     ]
    }
   ],
   "source": [
    "#people who are on medication for diabetes\n",
    "\n",
    "data_onmedicationfordiabetes= data[data.FIELD_23 == 1]\n",
    "\n",
    "print(data.shape)\n",
    "print(data_onmedicationfordiabetes.shape)\n"
   ]
  },
  {
   "cell_type": "code",
   "execution_count": 5,
   "metadata": {},
   "outputs": [
    {
     "name": "stdout",
     "output_type": "stream",
     "text": [
      "(2461, 407)\n",
      "(18332, 407)\n"
     ]
    }
   ],
   "source": [
    "# people who are diagnosed with diabetes but not on medication\n",
    "data_diagnosedfordiabetes= data[data.FIELD_16 == 1]\n",
    "\n",
    "data_diagnosedfordiabetesButnotonmed = data_diagnosedfordiabetes[data_diagnosedfordiabetes.FIELD_23 == 0]\n",
    "\n",
    "print(data_diagnosedfordiabetesButnotonmed.shape)\n",
    "print(data_diagnosedfordiabetes.shape)\n"
   ]
  },
  {
   "cell_type": "code",
   "execution_count": 6,
   "metadata": {},
   "outputs": [
    {
     "name": "stdout",
     "output_type": "stream",
     "text": [
      "0.03425459994880122\n"
     ]
    }
   ],
   "source": [
    "# probablity of being diabetic\n",
    "\n",
    "p_d = data_diagnosedfordiabetes.shape[0]/data.shape[0]\n",
    "print(p_d)"
   ]
  },
  {
   "cell_type": "markdown",
   "metadata": {},
   "source": [
    "# b. HBP"
   ]
  },
  {
   "cell_type": "code",
   "execution_count": 7,
   "metadata": {},
   "outputs": [
    {
     "name": "stdout",
     "output_type": "stream",
     "text": [
      "(535169, 407)\n",
      "(48805, 407)\n"
     ]
    }
   ],
   "source": [
    "#people who diagnosed for (high blood pressure)\n",
    "\n",
    "data_diagnosedforHBP= data[data.FIELD_15 == 1]\n",
    "\n",
    "print(data.shape)\n",
    "print(data_diagnosedforHBP.shape)\n"
   ]
  },
  {
   "cell_type": "code",
   "execution_count": 8,
   "metadata": {},
   "outputs": [
    {
     "name": "stdout",
     "output_type": "stream",
     "text": [
      "(535169, 407)\n",
      "(43617, 407)\n"
     ]
    }
   ],
   "source": [
    "#people who are on medication for high blood pressure\n",
    "\n",
    "data_onmedicationforHBP= data[data.FIELD_22 == 1]\n",
    "\n",
    "print(data.shape)\n",
    "print(data_onmedicationforHBP.shape)\n"
   ]
  },
  {
   "cell_type": "code",
   "execution_count": 9,
   "metadata": {},
   "outputs": [
    {
     "name": "stdout",
     "output_type": "stream",
     "text": [
      "(5882, 407)\n",
      "(48805, 407)\n"
     ]
    }
   ],
   "source": [
    "# people who are diagnosed wih hbp but not on med \n",
    "\n",
    "data_diagnosedforHBP= data[data.FIELD_15 == 1]\n",
    "data_diagnosedforHBPButnotonMeds= data_diagnosedforHBP[data_diagnosedforHBP.FIELD_22 == 0]\n",
    "\n",
    "print(data_diagnosedforHBPButnotonMeds.shape)\n",
    "print(data_diagnosedforHBP.shape)\n",
    "\n"
   ]
  },
  {
   "cell_type": "code",
   "execution_count": 10,
   "metadata": {},
   "outputs": [
    {
     "name": "stdout",
     "output_type": "stream",
     "text": [
      "0.09119549151763275\n"
     ]
    }
   ],
   "source": [
    "# probability of bieng hbp\n",
    "p_hbp= data_diagnosedforHBP.shape[0]/data.shape[0]\n",
    "print(p_hbp)"
   ]
  },
  {
   "cell_type": "markdown",
   "metadata": {},
   "source": [
    "# C. JOINT probability"
   ]
  },
  {
   "cell_type": "code",
   "execution_count": 11,
   "metadata": {},
   "outputs": [
    {
     "name": "stdout",
     "output_type": "stream",
     "text": [
      "(535169, 407)\n",
      "(7936, 407)\n"
     ]
    }
   ],
   "source": [
    "# people who are diagnosed with hbp and diabetes\n",
    "\n",
    "data_diagnosedfordiabetesandHBP= data[data.FIELD_15 == 1]\n",
    "data_diagnosedfordiabetesandHBP= data_diagnosedfordiabetesandHBP[data_diagnosedfordiabetesandHBP.FIELD_16 == 1]\n",
    "\n",
    "print(data.shape)\n",
    "print(data_diagnosedfordiabetesandHBP.shape)"
   ]
  },
  {
   "cell_type": "code",
   "execution_count": 12,
   "metadata": {},
   "outputs": [
    {
     "name": "stdout",
     "output_type": "stream",
     "text": [
      "0.014828960571333542\n"
     ]
    }
   ],
   "source": [
    "# joint probablity \n",
    "\n",
    "p_d_hbp = data_diagnosedfordiabetesandHBP.shape[0]/data.shape[0]\n",
    "print(p_d_hbp)"
   ]
  },
  {
   "cell_type": "markdown",
   "metadata": {},
   "source": [
    "# d. conditional probability"
   ]
  },
  {
   "cell_type": "code",
   "execution_count": 13,
   "metadata": {},
   "outputs": [
    {
     "name": "stdout",
     "output_type": "stream",
     "text": [
      "0.16260629033910462\n"
     ]
    }
   ],
   "source": [
    "# p(d/hbp) the prboability of being diabetes given the person is hbp\n",
    "\n",
    "p_d_g_hbp= p_d_hbp/ p_hbp\n",
    "print(p_d_g_hbp)"
   ]
  },
  {
   "cell_type": "code",
   "execution_count": 14,
   "metadata": {},
   "outputs": [
    {
     "name": "stdout",
     "output_type": "stream",
     "text": [
      "0.4329042112153611\n"
     ]
    }
   ],
   "source": [
    "# p(d/hbp) the prboability of being hbp given the person is diabetic\n",
    "\n",
    "p_hbp_g_d = p_d_hbp/ p_d\n",
    "print(p_hbp_g_d)"
   ]
  },
  {
   "cell_type": "code",
   "execution_count": null,
   "metadata": {},
   "outputs": [],
   "source": []
  }
 ],
 "metadata": {
  "kernelspec": {
   "display_name": "Python 3",
   "language": "python",
   "name": "python3"
  },
  "language_info": {
   "codemirror_mode": {
    "name": "ipython",
    "version": 3
   },
   "file_extension": ".py",
   "mimetype": "text/x-python",
   "name": "python",
   "nbconvert_exporter": "python",
   "pygments_lexer": "ipython3",
   "version": "3.7.3"
  }
 },
 "nbformat": 4,
 "nbformat_minor": 2
}

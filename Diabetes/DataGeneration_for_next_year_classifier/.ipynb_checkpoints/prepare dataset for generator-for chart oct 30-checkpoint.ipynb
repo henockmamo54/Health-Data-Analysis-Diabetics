{
 "cells": [
  {
   "cell_type": "code",
   "execution_count": 1,
   "metadata": {},
   "outputs": [],
   "source": [
    "import numpy as np\n",
    "import pandas as pd\n",
    "import warnings\n",
    "from sklearn.model_selection import train_test_split\n",
    "from sklearn.ensemble import RandomForestRegressor\n",
    "from sklearn import metrics as m\n",
    "import xgboost as xgb\n",
    "import seaborn as sns\n",
    "\n",
    "warnings.filterwarnings(\"ignore\")\n",
    "random_seed = 8"
   ]
  },
  {
   "cell_type": "code",
   "execution_count": 2,
   "metadata": {},
   "outputs": [],
   "source": [
    "# collected form each main diabetic indicator features regressors\n",
    "cols = np.unique(\n",
    "    [\n",
    "        \"AGE\",\"FIELD_31\",\"FIELD_33\",\"FIELD_38\",\"FIELD_40\",\"L100500\",\"L100700\",\"L100800\",\"L101200\",\"L101300\",\n",
    "        \"L101600\",\"L101700\",\"L103000\",\"L103100\",\"L103300\",\"L104600\",\"L107400\",\"L190000\",\"L190300\",\"L190400\",\n",
    "        \"S000100\",\"S000300\",\"S000501\",\"S000502\",\"SEX\",\"FIELD_1\",\"FIELD_2\",\"FIELD_16\",\"FIELD_23\",\"FIELD_15\",\n",
    "        \"FIELD_22\",\"FIELD_17\",\"FIELD_24\",'CLASS'\n",
    "    ]\n",
    ")"
   ]
  },
  {
   "cell_type": "code",
   "execution_count": 3,
   "metadata": {},
   "outputs": [],
   "source": [
    "xcols=[]\n",
    "ycols=[]\n",
    "allxycols=[]\n",
    "\n",
    "for i in cols:\n",
    "    xcols.append (i+'_x')\n",
    "    ycols.append (i+'_y')\n",
    "    \n",
    "    allxycols.append (i+'_x')\n",
    "    allxycols.append (i+'_y')"
   ]
  },
  {
   "cell_type": "markdown",
   "metadata": {},
   "source": [
    "Read Dataset\n",
    "===="
   ]
  },
  {
   "cell_type": "code",
   "execution_count": 4,
   "metadata": {},
   "outputs": [],
   "source": [
    "x_original = pd.read_csv(\"../../XLable_onlyDiabeticRemoved.txt\")\n",
    "\n",
    "conditions = [\n",
    "    (x_original.L100800 < 100),\n",
    "    (x_original.L100800 >= 100) & (x_original.L100800 < 126),\n",
    "    (x_original.L100800 >= 126),\n",
    "]\n",
    "choices = [0, 1, 2]\n",
    "x_original[\"CLASS\"] = np.select(conditions, choices, default=0)\n",
    "x_original=x_original #[cols]"
   ]
  },
  {
   "cell_type": "code",
   "execution_count": 5,
   "metadata": {},
   "outputs": [],
   "source": [
    "y_original = pd.read_csv(\"../../TargetLable_onlyDiabeticRemoved.txt\")\n",
    "\n",
    "conditions = [\n",
    "    (y_original.L100800 < 100),\n",
    "    (y_original.L100800 >= 100) & (y_original.L100800 < 126),\n",
    "    (y_original.L100800 >= 126),\n",
    "]\n",
    "\n",
    "choices = [0, 1, 2]\n",
    "y_original[\"CLASS\"] = np.select(conditions, choices, default=0)\n",
    "\n",
    "y_original=y_original #[cols]"
   ]
  },
  {
   "cell_type": "code",
   "execution_count": 6,
   "metadata": {},
   "outputs": [],
   "source": [
    "data = pd.merge(\n",
    "    x_original, y_original, how=\"inner\", left_on=\"Unnamed: 0\", right_on=\"Unnamed: 0\"\n",
    ")"
   ]
  },
  {
   "cell_type": "markdown",
   "metadata": {},
   "source": [
    "Prepare dataset\n",
    "==="
   ]
  },
  {
   "cell_type": "code",
   "execution_count": 7,
   "metadata": {},
   "outputs": [
    {
     "name": "stdout",
     "output_type": "stream",
     "text": [
      "(41525, 68)\n"
     ]
    }
   ],
   "source": [
    "# filter the data set\n",
    "data = data[data.FIELD_16_x != 1]  # exclude people who are diagnosed for (diabetes)\n",
    "data = data[data.FIELD_23_x != 1]  # exclude people who are on medication for diabetes\n",
    "\n",
    "data = data[\n",
    "    data.FIELD_15_x != 1\n",
    "]  # exclude people who are diagnosed for (high blood pressure)\n",
    "data = data[\n",
    "    data.FIELD_22_x != 1\n",
    "]  # exclude people who are on medication for high blood pressure\n",
    "\n",
    "data = data[data.FIELD_17_x != 1]  # exclude people who are diagnosed for hyperlipidemia\n",
    "data = data[\n",
    "    data.FIELD_24_x != 1\n",
    "]  # exclude people who are on medication for hyperlipidemia\n",
    "\n",
    "data = data[allxycols].dropna()\n",
    "print(data.shape)"
   ]
  },
  {
   "cell_type": "code",
   "execution_count": 9,
   "metadata": {},
   "outputs": [],
   "source": [
    "x = data[xcols]\n",
    "y = data[ycols]\n",
    "xtrain, xtest, ytrain, ytest = train_test_split(x, y, random_state=42, test_size=0.2)"
   ]
  },
  {
   "cell_type": "markdown",
   "metadata": {},
   "source": [
    "Train Regression Models\n",
    "=========="
   ]
  },
  {
   "cell_type": "markdown",
   "metadata": {},
   "source": [
    "L104600_y # HBA1C\n",
    "===="
   ]
  },
  {
   "cell_type": "code",
   "execution_count": 10,
   "metadata": {},
   "outputs": [
    {
     "name": "stdout",
     "output_type": "stream",
     "text": [
      "r2_score 0.629478063806677\n"
     ]
    }
   ],
   "source": [
    "regr = RandomForestRegressor(\n",
    "    max_depth=10, random_state=random_seed, verbose=0, n_estimators=300, max_features=4\n",
    ")\n",
    "\n",
    "regr.fit(\n",
    "    xtrain[\n",
    "        [\n",
    "            \"L104600_x\",\"L100800_x\",\"S000300_x\",\"AGE_x\",\"L101300_x\",\"S000501_x\",\"L101700_x\",\"S000502_x\",\n",
    "            \"L190000_x\",\"L101600_x\",\"L190300_x\",\n",
    "        ]\n",
    "    ],\n",
    "    ytrain[[\"L104600_y\"]],\n",
    ")\n",
    "\n",
    "ypred = regr.predict(\n",
    "    xtest[\n",
    "        [\n",
    "           \"L104600_x\",\"L100800_x\",\"S000300_x\",\"AGE_x\",\"L101300_x\",\"S000501_x\",\"L101700_x\",\"S000502_x\",\n",
    "            \"L190000_x\",\"L101600_x\",\"L190300_x\",\n",
    "        ]\n",
    "    ]\n",
    ")\n",
    "\n",
    "print(\"r2_score\", m.r2_score(ytest[[\"L104600_y\"]], ypred))"
   ]
  },
  {
   "cell_type": "code",
   "execution_count": 11,
   "metadata": {},
   "outputs": [
    {
     "data": {
      "text/plain": [
       "(8305,)"
      ]
     },
     "execution_count": 11,
     "metadata": {},
     "output_type": "execute_result"
    }
   ],
   "source": [
    "pred_L104600 = ypred\n",
    "pred_L104600.shape"
   ]
  },
  {
   "cell_type": "code",
   "execution_count": 12,
   "metadata": {},
   "outputs": [
    {
     "data": {
      "image/png": "[encoded data removed]",
      "text/plain": [
       "<Figure size 432x288 with 1 Axes>"
      ]
     },
     "metadata": {
      "needs_background": "light"
     },
     "output_type": "display_data"
    },
    {
     "data": {
      "text/plain": [
       "<matplotlib.collections.PathCollection at 0x1feacaed0f0>"
      ]
     },
     "execution_count": 12,
     "metadata": {},
     "output_type": "execute_result"
    },
    {
     "data": {
      "image/png": "[encoded data removed]",
      "text/plain": [
       "<Figure size 432x288 with 1 Axes>"
      ]
     },
     "metadata": {
      "needs_background": "light"
     },
     "output_type": "display_data"
    }
   ],
   "source": [
    "from matplotlib import pyplot as plt\n",
    "import matplotlib.patches as mpatches\n",
    "\n",
    "ypredPD=pd.DataFrame() \n",
    "ypredPD['t + 1']=ytest[[\"L104600_y\"]].values.ravel()\n",
    "ypredPD['pred (t +1)']=ypred\n",
    "ypredPD.head(30)\n",
    "\n",
    "import matplotlib.patches as mpatches\n",
    "plt.ylabel('Values')\n",
    "plt.xlabel('index')\n",
    "red_patch = mpatches.Patch(color='red', label='Actual data')\n",
    "blue_patch = mpatches.Patch(color='blue', label='Predicted data')\n",
    "plt.legend(handles=[red_patch,blue_patch])\n",
    "\n",
    "ypredPD=ypredPD.sort_values(by=['t + 1'])\n",
    "plt.scatter(np.arange(0,ypredPD.shape[0],1),ypredPD['pred (t +1)'][:ypredPD.shape[0]])\n",
    "plt.plot(np.arange(0,ypredPD.shape[0],1),ypredPD['t + 1'][:ypredPD.shape[0]],color='red')\n",
    "plt.show()\n",
    "\n",
    "plt.ylabel('p*(t+1), Predicted data')\n",
    "plt.xlabel('p(t+1), Actual data')\n",
    "plt.scatter(ypredPD['t + 1'][:ypredPD.shape[0]],ypredPD['pred (t +1)'][:ypredPD.shape[0]])"
   ]
  },
  {
   "cell_type": "markdown",
   "metadata": {},
   "source": [
    "L103000 #Triglyceride\n",
    "====="
   ]
  },
  {
   "cell_type": "code",
   "execution_count": 13,
   "metadata": {},
   "outputs": [
    {
     "name": "stdout",
     "output_type": "stream",
     "text": [
      "r2_score 0.510529744921204\n"
     ]
    }
   ],
   "source": [
    "regr = RandomForestRegressor(\n",
    "    max_depth=10, random_state=random_seed, verbose=0, n_estimators=300, max_features=8\n",
    ")\n",
    "regr.fit(\n",
    "    xtrain[\n",
    "        [\n",
    "            \"L103000_x\",\n",
    "            \"L100700_x\",\n",
    "            \"L101700_x\",\n",
    "            \"S000300_x\",\n",
    "            \"S000502_x\",\n",
    "            \"FIELD_33_x\",\n",
    "            \"L190000_x\",\n",
    "            \"L100800_x\",\n",
    "            \"L101600_x\",\n",
    "            \"S000501_x\",\n",
    "        ]\n",
    "    ],\n",
    "    ytrain[[\"L103000_y\"]],\n",
    ")\n",
    "\n",
    "ypred = regr.predict(\n",
    "    xtest[\n",
    "        [\n",
    "            \"L103000_x\",\n",
    "            \"L100700_x\",\n",
    "            \"L101700_x\",\n",
    "            \"S000300_x\",\n",
    "            \"S000502_x\",\n",
    "            \"FIELD_33_x\",\n",
    "            \"L190000_x\",\n",
    "            \"L100800_x\",\n",
    "            \"L101600_x\",\n",
    "            \"S000501_x\",\n",
    "        ]\n",
    "    ]\n",
    ")\n",
    "\n",
    "print(\"r2_score\", m.r2_score(ytest[[\"L103000_y\"]], ypred))"
   ]
  },
  {
   "cell_type": "code",
   "execution_count": 14,
   "metadata": {},
   "outputs": [],
   "source": [
    "pred_L103000 = ypred"
   ]
  },
  {
   "cell_type": "code",
   "execution_count": 15,
   "metadata": {},
   "outputs": [
    {
     "data": {
      "image/png": "[encoded data removed]",
      "text/plain": [
       "<Figure size 432x288 with 1 Axes>"
      ]
     },
     "metadata": {
      "needs_background": "light"
     },
     "output_type": "display_data"
    },
    {
     "data": {
      "text/plain": [
       "<matplotlib.collections.PathCollection at 0x1feac9606a0>"
      ]
     },
     "execution_count": 15,
     "metadata": {},
     "output_type": "execute_result"
    },
    {
     "data": {
      "image/png": "[encoded data removed]",
      "text/plain": [
       "<Figure size 432x288 with 1 Axes>"
      ]
     },
     "metadata": {
      "needs_background": "light"
     },
     "output_type": "display_data"
    }
   ],
   "source": [
    "from matplotlib import pyplot as plt\n",
    "import matplotlib.patches as mpatches\n",
    "\n",
    "ypredPD=pd.DataFrame() \n",
    "ypredPD['t + 1']=ytest[[\"L103000_y\"]].values.ravel()\n",
    "ypredPD['pred (t +1)']=ypred\n",
    "ypredPD.head(30)\n",
    "\n",
    "import matplotlib.patches as mpatches\n",
    "plt.ylabel('Values')\n",
    "plt.xlabel('index')\n",
    "red_patch = mpatches.Patch(color='red', label='Actual data')\n",
    "blue_patch = mpatches.Patch(color='blue', label='Predicted data')\n",
    "plt.legend(handles=[red_patch,blue_patch])\n",
    "\n",
    "ypredPD=ypredPD.sort_values(by=['t + 1'])\n",
    "plt.scatter(np.arange(0,ypredPD.shape[0],1),ypredPD['pred (t +1)'][:ypredPD.shape[0]])\n",
    "plt.plot(np.arange(0,ypredPD.shape[0],1),ypredPD['t + 1'][:ypredPD.shape[0]],color='red')\n",
    "plt.show()\n",
    "\n",
    "plt.ylabel('p*(t+1), Predicted data')\n",
    "plt.xlabel('p(t+1), Actual data')\n",
    "plt.scatter(ypredPD['t + 1'][:ypredPD.shape[0]],ypredPD['pred (t +1)'][:ypredPD.shape[0]])"
   ]
  },
  {
   "cell_type": "markdown",
   "metadata": {},
   "source": [
    "S000300 #BMI\n",
    "==="
   ]
  },
  {
   "cell_type": "code",
   "execution_count": null,
   "metadata": {},
   "outputs": [],
   "source": [
    "regr = RandomForestRegressor(\n",
    "    max_depth=10, random_state=random_seed, verbose=0, n_estimators=300, max_features=8\n",
    ")\n",
    "regr.fit(\n",
    "    xtrain[\n",
    "        [\n",
    "            \"S000300_x\",\n",
    "            \"L103300_x\",\n",
    "            \"S000501_x\",\n",
    "            \"L100700_x\",\n",
    "            \"SEX_x\",\n",
    "            \"L103100_x\",\n",
    "            \"L190300_x\",\n",
    "            \"L190400_x\",\n",
    "            \"L101300_x\",\n",
    "            \"S000502_x\",\n",
    "        ]\n",
    "    ],\n",
    "    ytrain[[\"S000300_y\"]],\n",
    ")\n",
    "\n",
    "ypred = regr.predict(\n",
    "    xtest[\n",
    "        [\n",
    "            \"S000300_x\",\n",
    "            \"L103300_x\",\n",
    "            \"S000501_x\",\n",
    "            \"L100700_x\",\n",
    "            \"SEX_x\",\n",
    "            \"L103100_x\",\n",
    "            \"L190300_x\",\n",
    "            \"L190400_x\",\n",
    "            \"L101300_x\",\n",
    "            \"S000502_x\",\n",
    "        ]\n",
    "    ]\n",
    ")\n",
    "\n",
    "print(\"r2_score\", m.r2_score(ytest[[\"S000300_y\"]], ypred))"
   ]
  },
  {
   "cell_type": "code",
   "execution_count": null,
   "metadata": {},
   "outputs": [],
   "source": [
    "pred_S000300 = ypred"
   ]
  },
  {
   "cell_type": "code",
   "execution_count": null,
   "metadata": {},
   "outputs": [],
   "source": [
    "from matplotlib import pyplot as plt\n",
    "import matplotlib.patches as mpatches\n",
    "\n",
    "ypredPD=pd.DataFrame() \n",
    "ypredPD['t + 1']=ytest[[\"S000300_y\"]].values.ravel()\n",
    "ypredPD['pred (t +1)']=ypred\n",
    "ypredPD.head(30)\n",
    "\n",
    "import matplotlib.patches as mpatches\n",
    "plt.ylabel('Values')\n",
    "plt.xlabel('index')\n",
    "red_patch = mpatches.Patch(color='red', label='Actual data')\n",
    "blue_patch = mpatches.Patch(color='blue', label='Predicted data')\n",
    "plt.legend(handles=[red_patch,blue_patch])\n",
    "\n",
    "ypredPD=ypredPD.sort_values(by=['t + 1'])\n",
    "plt.scatter(np.arange(0,ypredPD.shape[0],1),ypredPD['pred (t +1)'][:ypredPD.shape[0]])\n",
    "plt.plot(np.arange(0,ypredPD.shape[0],1),ypredPD['t + 1'][:ypredPD.shape[0]],color='red')\n",
    "plt.show()\n",
    "\n",
    "plt.ylabel('p*(t+1), Predicted data')\n",
    "plt.xlabel('p(t+1), Actual data')\n",
    "plt.scatter(ypredPD['t + 1'][:ypredPD.shape[0]],ypredPD['pred (t +1)'][:ypredPD.shape[0]])"
   ]
  },
  {
   "cell_type": "markdown",
   "metadata": {},
   "source": [
    "L101700 # r-GTP gamma\n",
    "==="
   ]
  },
  {
   "cell_type": "code",
   "execution_count": null,
   "metadata": {},
   "outputs": [],
   "source": [
    "regr = RandomForestRegressor(\n",
    "    max_depth=10, random_state=random_seed, verbose=0, n_estimators=300, max_features=8\n",
    ")\n",
    "regr.fit(\n",
    "    xtrain[\n",
    "        [\n",
    "            \"L101700_x\",\n",
    "            \"L101300_x\",\n",
    "            \"L103000_x\",\n",
    "            \"SEX_x\",\n",
    "            \"L100700_x\",\n",
    "            \"L101200_x\",\n",
    "            \"S000300_x\",\n",
    "            \"S000501_x\",\n",
    "            \"L100800_x\",\n",
    "            \"S000502_x\",\n",
    "            \"L101600_x\",\n",
    "            \"S000100_x\",\n",
    "        ]\n",
    "    ],\n",
    "    ytrain[[\"L101700_y\"]],\n",
    ")\n",
    "\n",
    "ypred = regr.predict(\n",
    "    xtest[\n",
    "        [\n",
    "            \"L101700_x\",\n",
    "            \"L101300_x\",\n",
    "            \"L103000_x\",\n",
    "            \"SEX_x\",\n",
    "            \"L100700_x\",\n",
    "            \"L101200_x\",\n",
    "            \"S000300_x\",\n",
    "            \"S000501_x\",\n",
    "            \"L100800_x\",\n",
    "            \"S000502_x\",\n",
    "            \"L101600_x\",\n",
    "            \"S000100_x\",\n",
    "        ]\n",
    "    ]\n",
    ")\n",
    "\n",
    "print(\"r2_score\", m.r2_score(ytest[[\"L101700_y\"]], ypred))"
   ]
  },
  {
   "cell_type": "code",
   "execution_count": null,
   "metadata": {},
   "outputs": [],
   "source": [
    "pred_L101700 = ypred"
   ]
  },
  {
   "cell_type": "code",
   "execution_count": null,
   "metadata": {},
   "outputs": [],
   "source": [
    "from matplotlib import pyplot as plt\n",
    "import matplotlib.patches as mpatches\n",
    "\n",
    "ypredPD=pd.DataFrame() \n",
    "ypredPD['t + 1']=ytest[[\"L101700_y\"]].values.ravel()\n",
    "ypredPD['pred (t +1)']=ypred\n",
    "ypredPD.head(30)\n",
    "\n",
    "import matplotlib.patches as mpatches\n",
    "plt.ylabel('Values')\n",
    "plt.xlabel('index')\n",
    "red_patch = mpatches.Patch(color='red', label='Actual data')\n",
    "blue_patch = mpatches.Patch(color='blue', label='Predicted data')\n",
    "plt.legend(handles=[red_patch,blue_patch])\n",
    "\n",
    "ypredPD=ypredPD.sort_values(by=['t + 1'])\n",
    "plt.scatter(np.arange(0,ypredPD.shape[0],1),ypredPD['pred (t +1)'][:ypredPD.shape[0]])\n",
    "plt.plot(np.arange(0,ypredPD.shape[0],1),ypredPD['t + 1'][:ypredPD.shape[0]],color='red')\n",
    "plt.show()\n",
    "\n",
    "plt.ylabel('p*(t+1), Predicted data')\n",
    "plt.xlabel('p(t+1), Actual data')\n",
    "plt.scatter(ypredPD['t + 1'][:ypredPD.shape[0]],ypredPD['pred (t +1)'][:ypredPD.shape[0]])"
   ]
  },
  {
   "cell_type": "markdown",
   "metadata": {},
   "source": [
    "L100700 #Uric acid\n",
    "===="
   ]
  },
  {
   "cell_type": "code",
   "execution_count": null,
   "metadata": {},
   "outputs": [],
   "source": [
    "regr = RandomForestRegressor(\n",
    "    max_depth=10, random_state=random_seed, verbose=0, n_estimators=300, max_features=8\n",
    ")\n",
    "regr.fit(\n",
    "    xtrain[\n",
    "        [\n",
    "            \"L100700_x\",\n",
    "            \"L100500_x\",\n",
    "            \"S000100_x\",\n",
    "            \"S000300_x\",\n",
    "            \"L103300_x\",\n",
    "            \"L103000_x\",\n",
    "            \"L103100_x\",\n",
    "            \"S000501_x\",\n",
    "            \"L101300_x\",\n",
    "            \"L101700_x\",\n",
    "            \"S000502_x\",\n",
    "            \"L107400_x\",\n",
    "        ]\n",
    "    ],\n",
    "    ytrain[[\"L100700_y\"]],\n",
    ")\n",
    "\n",
    "ypred = regr.predict(\n",
    "    xtest[\n",
    "        [\n",
    "            \"L100700_x\",\n",
    "            \"L100500_x\",\n",
    "            \"S000100_x\",\n",
    "            \"S000300_x\",\n",
    "            \"L103300_x\",\n",
    "            \"L103000_x\",\n",
    "            \"L103100_x\",\n",
    "            \"S000501_x\",\n",
    "            \"L101300_x\",\n",
    "            \"L101700_x\",\n",
    "            \"S000502_x\",\n",
    "            \"L107400_x\",\n",
    "        ]\n",
    "    ]\n",
    ")\n",
    "\n",
    "print(\"r2_score\", m.r2_score(ytest[[\"L100700_y\"]], ypred))"
   ]
  },
  {
   "cell_type": "code",
   "execution_count": null,
   "metadata": {},
   "outputs": [],
   "source": [
    "pred_L100700 = ypred"
   ]
  },
  {
   "cell_type": "code",
   "execution_count": null,
   "metadata": {},
   "outputs": [],
   "source": [
    "from matplotlib import pyplot as plt\n",
    "import matplotlib.patches as mpatches\n",
    "\n",
    "ypredPD=pd.DataFrame() \n",
    "ypredPD['t + 1']=ytest[[\"L100700_y\"]].values.ravel()\n",
    "ypredPD['pred (t +1)']=ypred\n",
    "ypredPD.head(30)\n",
    "\n",
    "import matplotlib.patches as mpatches\n",
    "plt.ylabel('Values')\n",
    "plt.xlabel('index')\n",
    "red_patch = mpatches.Patch(color='red', label='Actual data')\n",
    "blue_patch = mpatches.Patch(color='blue', label='Predicted data')\n",
    "plt.legend(handles=[red_patch,blue_patch])\n",
    "\n",
    "ypredPD=ypredPD.sort_values(by=['t + 1'])\n",
    "plt.scatter(np.arange(0,ypredPD.shape[0],1),ypredPD['pred (t +1)'][:ypredPD.shape[0]])\n",
    "plt.plot(np.arange(0,ypredPD.shape[0],1),ypredPD['t + 1'][:ypredPD.shape[0]],color='red')\n",
    "plt.show()\n",
    "\n",
    "plt.ylabel('p*(t+1), Predicted data')\n",
    "plt.xlabel('p(t+1), Actual data')\n",
    "plt.scatter(ypredPD['t + 1'][:ypredPD.shape[0]],ypredPD['pred (t +1)'][:ypredPD.shape[0]])"
   ]
  },
  {
   "cell_type": "markdown",
   "metadata": {},
   "source": [
    "Categorical values\n",
    "====="
   ]
  },
  {
   "cell_type": "code",
   "execution_count": null,
   "metadata": {},
   "outputs": [],
   "source": [
    "pred_FIELD_33 = ytest.FIELD_33_y"
   ]
  },
  {
   "cell_type": "code",
   "execution_count": null,
   "metadata": {},
   "outputs": [],
   "source": [
    "pred_FIELD_38 = ytest.FIELD_38_y"
   ]
  },
  {
   "cell_type": "code",
   "execution_count": null,
   "metadata": {},
   "outputs": [],
   "source": [
    "pred_FIELD_40 = ytest.FIELD_40_y"
   ]
  },
  {
   "cell_type": "code",
   "execution_count": null,
   "metadata": {},
   "outputs": [],
   "source": [
    "pred_FIELD_31 = ytest.FIELD_31_y"
   ]
  },
  {
   "cell_type": "code",
   "execution_count": null,
   "metadata": {},
   "outputs": [],
   "source": [
    "pred_SEX = ytest.SEX_y"
   ]
  },
  {
   "cell_type": "code",
   "execution_count": null,
   "metadata": {},
   "outputs": [],
   "source": [
    "pred_AGE = ytest.AGE_y + 1"
   ]
  },
  {
   "cell_type": "markdown",
   "metadata": {},
   "source": [
    "Combine the predicted values to make dataframe\n",
    "===="
   ]
  },
  {
   "cell_type": "code",
   "execution_count": null,
   "metadata": {},
   "outputs": [],
   "source": [
    "NextYearData = pd.DataFrame()\n",
    "NextYearData[\"P_FIELD_1\"] = ytest.FIELD_1_y.values\n",
    "NextYearData[\"P_FIELD_2\"] = ytest.FIELD_2_y.values\n",
    "NextYearData[\"P_L104600\"] = pred_L104600\n",
    "NextYearData[\"P_L103000\"] = pred_L103000\n",
    "NextYearData[\"P_S000300\"] = pred_S000300\n",
    "NextYearData[\"P_L101700\"] = pred_L101700\n",
    "NextYearData[\"P_L100700\"] = pred_L100700\n",
    "NextYearData[\"P_FIELD_33\"] = pred_FIELD_33.values\n",
    "NextYearData[\"P_FIELD_38\"] = pred_FIELD_38.values\n",
    "NextYearData[\"P_FIELD_40\"] = pred_FIELD_40.values\n",
    "NextYearData[\"P_FIELD_31\"] = pred_FIELD_31.values\n",
    "NextYearData[\"P_SEX\"] = pred_SEX.values\n",
    "NextYearData[\"P_AGE\"] = pred_AGE.values\n",
    "\n",
    "NextYearData[\"P_AGE\"] = pred_AGE.values\n",
    "NextYearData[\"P_AGE\"] = pred_AGE.values\n",
    "\n",
    "\n",
    "NextYearData[\"A_L100800\"] = ytest.L100800_y.values\n",
    "\n",
    "conditions = [\n",
    "    (NextYearData.A_L100800 < 100),\n",
    "    (NextYearData.A_L100800 >= 100) & (NextYearData.A_L100800 < 126),\n",
    "    (NextYearData.A_L100800 >= 126),\n",
    "]\n",
    "choices = [0, 1, 2]\n",
    "NextYearData[\"A_CLASS\"] = np.select(conditions, choices, default=0)\n",
    "NextYearData.head()"
   ]
  },
  {
   "cell_type": "code",
   "execution_count": null,
   "metadata": {},
   "outputs": [],
   "source": [
    "NextYearData.to_csv(\"Predicted_NextYearData.txt\", sep=\",\")"
   ]
  },
  {
   "cell_type": "markdown",
   "metadata": {},
   "source": [
    "==============================================\n",
    "=========="
   ]
  },
  {
   "cell_type": "code",
   "execution_count": null,
   "metadata": {},
   "outputs": [],
   "source": [
    "# select the actual next year values\n",
    "\n",
    "NextYearData_actualData = pd.DataFrame()\n",
    "NextYearData_actualData[\"FIELD_1\"] = ytest.FIELD_1_y.values\n",
    "NextYearData_actualData[\"FIELD_2\"] = ytest.FIELD_2_y.values\n",
    "NextYearData_actualData[\"L104600\"] = ytest.L104600_y.values\n",
    "NextYearData_actualData[\"L103000\"] = ytest.L103000_y.values\n",
    "NextYearData_actualData[\"S000300\"] = ytest.S000300_y.values\n",
    "NextYearData_actualData[\"L101700\"] = ytest.L101700_y.values\n",
    "NextYearData_actualData[\"L100700\"] = ytest.L100700_y.values\n",
    "NextYearData_actualData[\"FIELD_33\"] = ytest.FIELD_33_y.values\n",
    "NextYearData_actualData[\"FIELD_38\"] = ytest.FIELD_38_y.values\n",
    "NextYearData_actualData[\"FIELD_40\"] = ytest.FIELD_40_y.values\n",
    "NextYearData_actualData[\"FIELD_31\"] = ytest.FIELD_31_y.values\n",
    "NextYearData_actualData[\"SEX\"] = ytest.SEX_y.values\n",
    "NextYearData_actualData[\"AGE\"] = ytest.AGE_y.values\n",
    "\n",
    "NextYearData_actualData[\"L100800\"] = ytest.L100800_y.values\n",
    "\n",
    "conditions = [\n",
    "    (NextYearData_actualData.L100800 < 100),\n",
    "    (NextYearData_actualData.L100800 >= 100) & (NextYearData_actualData.L100800 < 126),\n",
    "    (NextYearData_actualData.L100800 >= 126),\n",
    "]\n",
    "choices = [0, 1, 2]\n",
    "NextYearData_actualData[\"CLASS\"] = np.select(conditions, choices, default=0)\n",
    "NextYearData_actualData.head()\n",
    "\n",
    "NextYearData_actualData.to_csv(\"NextYearData_actualData_test.txt\", sep=\",\")"
   ]
  },
  {
   "cell_type": "markdown",
   "metadata": {},
   "source": [
    "==========================================================\n",
    "==="
   ]
  },
  {
   "cell_type": "code",
   "execution_count": null,
   "metadata": {},
   "outputs": [],
   "source": [
    "# select the actual this year values\n",
    "\n",
    "ThisYearData_actualData = pd.DataFrame()\n",
    "ThisYearData_actualData[\"FIELD_1\"] = xtest.FIELD_1_x.values\n",
    "ThisYearData_actualData[\"FIELD_2\"] = xtest.FIELD_2_x.values\n",
    "ThisYearData_actualData[\"L104600\"] = xtest.L104600_x.values\n",
    "ThisYearData_actualData[\"L103000\"] = xtest.L103000_x.values\n",
    "ThisYearData_actualData[\"S000300\"] = xtest.S000300_x.values\n",
    "ThisYearData_actualData[\"L101700\"] = xtest.L101700_x.values\n",
    "ThisYearData_actualData[\"L100700\"] = xtest.L100700_x.values\n",
    "ThisYearData_actualData[\"FIELD_33\"] = xtest.FIELD_33_x.values\n",
    "ThisYearData_actualData[\"FIELD_38\"] = xtest.FIELD_38_x.values\n",
    "ThisYearData_actualData[\"FIELD_40\"] = xtest.FIELD_40_x.values\n",
    "ThisYearData_actualData[\"FIELD_31\"] = xtest.FIELD_31_x.values\n",
    "ThisYearData_actualData[\"SEX\"] = xtest.SEX_x.values\n",
    "ThisYearData_actualData[\"AGE\"] = xtest.AGE_x.values\n",
    "ThisYearData_actualData[\"L100800\"] = xtest.L100800_x.values\n",
    "\n",
    "conditions = [\n",
    "    (ThisYearData_actualData.L100800 < 100),\n",
    "    (ThisYearData_actualData.L100800 >= 100) & (ThisYearData_actualData.L100800 < 126),\n",
    "    (ThisYearData_actualData.L100800 >= 126),\n",
    "]\n",
    "choices = [0, 1, 2]\n",
    "ThisYearData_actualData[\"CLASS\"] = np.select(conditions, choices, default=0)\n",
    "ThisYearData_actualData.head()\n",
    "\n",
    "ThisYearData_actualData.to_csv(\"ThisYearData_actualData_test.txt\", sep=\",\")"
   ]
  },
  {
   "cell_type": "markdown",
   "metadata": {},
   "source": [
    "============================================\n",
    "========="
   ]
  },
  {
   "cell_type": "code",
   "execution_count": null,
   "metadata": {},
   "outputs": [],
   "source": [
    "# select the actual next year values train\n",
    "\n",
    "NextYearData_actualData_train = pd.DataFrame()\n",
    "NextYearData_actualData_train[\"FIELD_1\"] = ytrain.FIELD_1_y.values\n",
    "NextYearData_actualData_train[\"FIELD_2\"] = ytrain.FIELD_2_y.values\n",
    "NextYearData_actualData_train[\"L104600\"] = ytrain.L104600_y.values\n",
    "NextYearData_actualData_train[\"L103000\"] = ytrain.L103000_y.values\n",
    "NextYearData_actualData_train[\"S000300\"] = ytrain.S000300_y.values\n",
    "NextYearData_actualData_train[\"L101700\"] = ytrain.L101700_y.values\n",
    "NextYearData_actualData_train[\"L100700\"] = ytrain.L100700_y.values\n",
    "NextYearData_actualData_train[\"FIELD_33\"] = ytrain.FIELD_33_y.values\n",
    "NextYearData_actualData_train[\"FIELD_38\"] = ytrain.FIELD_38_y.values\n",
    "NextYearData_actualData_train[\"FIELD_40\"] = ytrain.FIELD_40_y.values\n",
    "NextYearData_actualData_train[\"FIELD_31\"] = ytrain.FIELD_31_y.values\n",
    "NextYearData_actualData_train[\"SEX\"] = ytrain.SEX_y.values\n",
    "NextYearData_actualData_train[\"AGE\"] = ytrain.AGE_y.values\n",
    "\n",
    "NextYearData_actualData_train[\"L100800\"] = ytrain.L100800_y.values\n",
    "\n",
    "conditions = [\n",
    "    (NextYearData_actualData_train.L100800 < 100),\n",
    "    (NextYearData_actualData_train.L100800 >= 100)\n",
    "    & (NextYearData_actualData_train.L100800 < 126),\n",
    "    (NextYearData_actualData_train.L100800 >= 126),\n",
    "]\n",
    "choices = [0, 1, 2]\n",
    "NextYearData_actualData_train[\"CLASS\"] = np.select(conditions, choices, default=0)\n",
    "NextYearData_actualData_train.head()\n",
    "\n",
    "NextYearData_actualData_train.to_csv(\"NextYearData_actualData_train.txt\", sep=\",\")"
   ]
  },
  {
   "cell_type": "markdown",
   "metadata": {},
   "source": [
    "=================================================\n",
    "=============="
   ]
  },
  {
   "cell_type": "code",
   "execution_count": null,
   "metadata": {},
   "outputs": [],
   "source": [
    "# select the actual this year values train\n",
    "\n",
    "ThisYearData_actualData_train = pd.DataFrame()\n",
    "ThisYearData_actualData_train[\"FIELD_1\"] = xtrain.FIELD_1_x.values\n",
    "ThisYearData_actualData_train[\"FIELD_2\"] = xtrain.FIELD_2_x.values\n",
    "ThisYearData_actualData_train[\"L104600\"] = xtrain.L104600_x.values\n",
    "ThisYearData_actualData_train[\"L103000\"] = xtrain.L103000_x.values\n",
    "ThisYearData_actualData_train[\"S000300\"] = xtrain.S000300_x.values\n",
    "ThisYearData_actualData_train[\"L101700\"] = xtrain.L101700_x.values\n",
    "ThisYearData_actualData_train[\"L100700\"] = xtrain.L100700_x.values\n",
    "ThisYearData_actualData_train[\"FIELD_33\"] = xtrain.FIELD_33_x.values\n",
    "ThisYearData_actualData_train[\"FIELD_38\"] = xtrain.FIELD_38_x.values\n",
    "ThisYearData_actualData_train[\"FIELD_40\"] = xtrain.FIELD_40_x.values\n",
    "ThisYearData_actualData_train[\"FIELD_31\"] = xtrain.FIELD_31_x.values\n",
    "ThisYearData_actualData_train[\"SEX\"] = xtrain.SEX_x.values\n",
    "ThisYearData_actualData_train[\"AGE\"] = xtrain.AGE_x.values\n",
    "ThisYearData_actualData_train[\"L100800\"] = xtrain.L100800_x.values\n",
    "\n",
    "conditions = [\n",
    "    (ThisYearData_actualData_train.L100800 < 100),\n",
    "    (ThisYearData_actualData_train.L100800 >= 100)\n",
    "    & (ThisYearData_actualData_train.L100800 < 126),\n",
    "    (ThisYearData_actualData_train.L100800 >= 126),\n",
    "]\n",
    "choices = [0, 1, 2]\n",
    "ThisYearData_actualData_train[\"CLASS\"] = np.select(conditions, choices, default=0)\n",
    "ThisYearData_actualData_train.head()\n",
    "\n",
    "ThisYearData_actualData_train.to_csv(\"ThisYearData_actualData_train.txt\", sep=\",\")"
   ]
  },
  {
   "cell_type": "code",
   "execution_count": null,
   "metadata": {},
   "outputs": [],
   "source": []
  },
  {
   "cell_type": "code",
   "execution_count": null,
   "metadata": {},
   "outputs": [],
   "source": []
  },
  {
   "cell_type": "code",
   "execution_count": null,
   "metadata": {},
   "outputs": [],
   "source": []
  }
 ],
 "metadata": {
  "kernelspec": {
   "display_name": "Python 3",
   "language": "python",
   "name": "python3"
  },
  "language_info": {
   "codemirror_mode": {
    "name": "ipython",
    "version": 3
   },
   "file_extension": ".py",
   "mimetype": "text/x-python",
   "name": "python",
   "nbconvert_exporter": "python",
   "pygments_lexer": "ipython3",
   "version": "3.7.3"
  }
 },
 "nbformat": 4,
 "nbformat_minor": 2
}

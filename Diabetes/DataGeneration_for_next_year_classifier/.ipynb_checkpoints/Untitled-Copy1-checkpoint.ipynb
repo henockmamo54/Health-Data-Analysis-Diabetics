{
 "cells": [
  {
   "cell_type": "code",
   "execution_count": 26,
   "metadata": {},
   "outputs": [],
   "source": [
    "import numpy as np\n",
    "import pandas as pd \n",
    "import warnings\n",
    "warnings.filterwarnings('ignore')\n",
    "from scipy.stats import chi2_contingency\n",
    "from scipy import stats\n",
    "from matplotlib import pyplot as plt\n",
    "from sklearn import metrics as m\n",
    "from sklearn.model_selection import train_test_split\n",
    "from collections import Counter\n",
    "from sklearn.datasets import make_classification\n",
    "from imblearn.over_sampling import SMOTE # doctest: +NORMALIZE_WHITESPACE\n",
    "from sklearn.metrics import confusion_matrix\n",
    "from sklearn.metrics import classification_report \n",
    "\n",
    "randomseed=7"
   ]
  },
  {
   "cell_type": "code",
   "execution_count": 27,
   "metadata": {},
   "outputs": [],
   "source": [
    "data= pd.read_csv('../sep19SexAndAgeAddedFINAL DATASET_ver2.txt',sep=',')"
   ]
  },
  {
   "cell_type": "code",
   "execution_count": 28,
   "metadata": {},
   "outputs": [],
   "source": [
    "# filter the data set \n",
    "data=data[data.FIELD_16!=1] # exclude people who are diagnosed for (diabetes) \n",
    "data=data[data.FIELD_23!=1] # exclude people who are on medication for diabetes\n",
    "\n",
    "data=data[data.FIELD_15!=1] # exclude people who are diagnosed for (high blood pressure)\n",
    "data=data[data.FIELD_22!=1] # exclude people who are on medication for high blood pressure\n",
    "\n",
    "data=data[data.FIELD_17!=1] # exclude people who are diagnosed for hyperlipidemia\n",
    "data=data[data.FIELD_24!=1] # exclude people who are on medication for hyperlipidemia"
   ]
  },
  {
   "cell_type": "code",
   "execution_count": 29,
   "metadata": {},
   "outputs": [],
   "source": [
    "# add Class to the dataset \n",
    "conditions = [\n",
    "    (data.L100800 < 100)  ,\n",
    "    (data.L100800 >= 100) & (data.L100800 < 126),\n",
    "    (data.L100800 >= 126)]\n",
    "choices = [0,1,2]\n",
    "data['CLASS'] = np.select(conditions, choices, default=0) "
   ]
  },
  {
   "cell_type": "code",
   "execution_count": 30,
   "metadata": {},
   "outputs": [
    {
     "data": {
      "text/plain": [
       "(142716, 14)"
      ]
     },
     "execution_count": 30,
     "metadata": {},
     "output_type": "execute_result"
    }
   ],
   "source": [
    "mydata=data.copy()[['L104600','L103000','S000300','L101700','L100700','FIELD_33','FIELD_38','FIELD_40','S000501', 'S000502',\n",
    "                    'FIELD_31','SEX','AGE','CLASS']].dropna()\n",
    "mydata.shape"
   ]
  },
  {
   "cell_type": "code",
   "execution_count": 31,
   "metadata": {},
   "outputs": [
    {
     "name": "stdout",
     "output_type": "stream",
     "text": [
      "Resampled dataset shape Counter({1: 104030, 0: 104030, 2: 104030})\n",
      "104030 104030 104030\n",
      "(312090, 13) (312090,)\n"
     ]
    }
   ],
   "source": [
    "x=mydata[['L104600','L103000','S000300','L101700','L100700','FIELD_33','FIELD_38','FIELD_40','S000501', 'S000502',\n",
    "                    'FIELD_31','SEX','AGE']]\n",
    "y=mydata[['CLASS']]\n",
    "\n",
    "\n",
    "sm = SMOTE(random_state=randomseed)\n",
    "X_res, y_res = sm.fit_resample(x, y)\n",
    "print('Resampled dataset shape %s' % Counter(y_res))\n",
    "print(y_res[y_res==0].shape[0], y_res[y_res==1].shape[0], y_res[y_res==2].shape[0])\n",
    "\n",
    "print(X_res.shape,y_res.shape)\n",
    "\n"
   ]
  },
  {
   "cell_type": "code",
   "execution_count": 40,
   "metadata": {},
   "outputs": [],
   "source": [
    "y_res2=y_res.copy()\n",
    "# from keras.utils import to_categorical\n",
    "# y_res2 = to_categorical(y_res)  \n",
    "\n",
    "xtrain,xtest,ytrain,ytest=train_test_split(X_res,y_res2,random_state=randomseed, test_size=0.2)"
   ]
  },
  {
   "cell_type": "code",
   "execution_count": 47,
   "metadata": {},
   "outputs": [
    {
     "data": {
      "text/plain": [
       "(312090, 13)"
      ]
     },
     "execution_count": 47,
     "metadata": {},
     "output_type": "execute_result"
    }
   ],
   "source": [
    "X_res.shape"
   ]
  },
  {
   "cell_type": "code",
   "execution_count": 49,
   "metadata": {},
   "outputs": [],
   "source": [
    "from sklearn.kernel_approximation import RBFSampler\n",
    "rbf_feature = RBFSampler(gamma=1, random_state=randomseed,n_components=X_res.shape[1])\n",
    "X_res = rbf_feature.fit_transform(X_res)\n",
    "\n",
    "\n",
    "xtrain,xtest,ytrain,ytest=train_test_split(X_res,y_res2,random_state=randomseed, test_size=0.2)"
   ]
  },
  {
   "cell_type": "code",
   "execution_count": 50,
   "metadata": {},
   "outputs": [],
   "source": [
    "# from sklearn.kernel_approximation import RBFSampler\n",
    "# from sklearn.linear_model import SGDClassifier\n",
    "# X = [[0, 0], [1, 1], [1, 0], [0, 1]]\n",
    "# y = [0, 0, 1, 1]\n",
    "# rbf_feature = RBFSampler(gamma=1, random_state=1,n_components=2)\n",
    "# X_features = rbf_feature.fit_transform(X)\n",
    "\n",
    "# X_features"
   ]
  },
  {
   "cell_type": "code",
   "execution_count": 8,
   "metadata": {},
   "outputs": [
    {
     "name": "stdout",
     "output_type": "stream",
     "text": [
      "2451 36235 104030\n"
     ]
    }
   ],
   "source": [
    "diabetic = mydata[mydata.CLASS==2]\n",
    "prediabetic = mydata[mydata.CLASS==1]\n",
    "normal = mydata[mydata.CLASS==0]\n",
    "\n",
    "print(diabetic.shape[0],prediabetic.shape[0],normal.shape[0])"
   ]
  },
  {
   "cell_type": "code",
   "execution_count": 9,
   "metadata": {},
   "outputs": [],
   "source": [
    "diabetic_test = diabetic.sample(500,random_state=randomseed)\n",
    "prediabetic_test = prediabetic.sample(500,random_state=randomseed)\n",
    "normal_test = normal.sample(500,random_state=randomseed)\n",
    "test=pd.concat([diabetic_test,prediabetic_test,normal_test])\n",
    "\n",
    "diabetic_train = diabetic.drop(diabetic_test.index)\n",
    "prediabetic_train = prediabetic.drop(prediabetic_test.index).sample(diabetic_train.shape[0],random_state=randomseed)\n",
    "normal_train = normal.drop(normal_test.index).sample(diabetic_train.shape[0],random_state=randomseed)\n",
    "train=pd.concat([diabetic_train,prediabetic_train,normal_train])"
   ]
  },
  {
   "cell_type": "code",
   "execution_count": 10,
   "metadata": {},
   "outputs": [],
   "source": [
    "# xtrain=train.iloc[:,:-1]\n",
    "# ytrain=train.iloc[:,-1]\n",
    "# xtest=test.iloc[:,:-1]\n",
    "# ytest=test.iloc[:,-1]"
   ]
  },
  {
   "cell_type": "code",
   "execution_count": null,
   "metadata": {},
   "outputs": [],
   "source": []
  },
  {
   "cell_type": "code",
   "execution_count": 11,
   "metadata": {},
   "outputs": [
    {
     "data": {
      "text/plain": [
       "RandomForestClassifier(bootstrap=True, class_weight=None, criterion='gini',\n",
       "                       max_depth=10, max_features='auto', max_leaf_nodes=None,\n",
       "                       min_impurity_decrease=0.0, min_impurity_split=None,\n",
       "                       min_samples_leaf=1, min_samples_split=2,\n",
       "                       min_weight_fraction_leaf=0.0, n_estimators=100,\n",
       "                       n_jobs=None, oob_score=False, random_state=7, verbose=0,\n",
       "                       warm_start=False)"
      ]
     },
     "execution_count": 11,
     "metadata": {},
     "output_type": "execute_result"
    }
   ],
   "source": [
    "from sklearn.ensemble import RandomForestClassifier\n",
    "\n",
    "rf=RandomForestClassifier(random_state=randomseed,n_estimators=100,max_depth=10 ) \n",
    "rf.fit(xtrain,ytrain)"
   ]
  },
  {
   "cell_type": "code",
   "execution_count": 12,
   "metadata": {},
   "outputs": [],
   "source": [
    "ypred= rf.predict(xtest)"
   ]
  },
  {
   "cell_type": "code",
   "execution_count": 32,
   "metadata": {},
   "outputs": [
    {
     "name": "stdout",
     "output_type": "stream",
     "text": [
      "0.8014354833541607\n",
      "              precision    recall  f1-score   support\n",
      "\n",
      "           0       0.80      0.80      0.80     20709\n",
      "           1       0.76      0.70      0.73     20827\n",
      "           2       0.94      0.90      0.92     20882\n",
      "\n",
      "   micro avg       0.84      0.80      0.82     62418\n",
      "   macro avg       0.83      0.80      0.82     62418\n",
      "weighted avg       0.83      0.80      0.82     62418\n",
      " samples avg       0.80      0.80      0.80     62418\n",
      "\n"
     ]
    },
    {
     "data": {
      "image/png": "[encoded data removed]",
      "text/plain": [
       "<Figure size 432x288 with 1 Axes>"
      ]
     },
     "metadata": {
      "needs_background": "light"
     },
     "output_type": "display_data"
    },
    {
     "name": "stdout",
     "output_type": "stream",
     "text": [
      "Index(['L104600', 'FIELD_33', 'SEX', 'L101700', 'L103000', 'FIELD_38', 'AGE',\n",
      "       'S000300', 'FIELD_40', 'S000501', 'FIELD_31', 'S000502', 'L100700'],\n",
      "      dtype='object')\n",
      "Accuracy on training set: 0.811\n",
      "Accuracy on test set: 0.801\n"
     ]
    },
    {
     "ename": "ValueError",
     "evalue": "multilabel-indicator is not supported",
     "output_type": "error",
     "traceback": [
      "\u001b[1;31m---------------------------------------------------------------------------\u001b[0m",
      "\u001b[1;31mValueError\u001b[0m                                Traceback (most recent call last)",
      "\u001b[1;32m<ipython-input-32-adc8dba0b6e9>\u001b[0m in \u001b[0;36m<module>\u001b[1;34m\u001b[0m\n\u001b[0;32m     14\u001b[0m \u001b[1;33m\u001b[0m\u001b[0m\n\u001b[0;32m     15\u001b[0m \u001b[1;33m\u001b[0m\u001b[0m\n\u001b[1;32m---> 16\u001b[1;33m \u001b[0mconfmatrx\u001b[0m\u001b[1;33m=\u001b[0m\u001b[0mpd\u001b[0m\u001b[1;33m.\u001b[0m\u001b[0mDataFrame\u001b[0m\u001b[1;33m(\u001b[0m\u001b[0mconfusion_matrix\u001b[0m\u001b[1;33m(\u001b[0m\u001b[0mytest\u001b[0m\u001b[1;33m,\u001b[0m\u001b[0mypred\u001b[0m\u001b[1;33m)\u001b[0m\u001b[1;33m)\u001b[0m\u001b[1;33m\u001b[0m\u001b[1;33m\u001b[0m\u001b[0m\n\u001b[0m\u001b[0;32m     17\u001b[0m \u001b[0mconfmatrx\u001b[0m\u001b[1;33m.\u001b[0m\u001b[0mhead\u001b[0m\u001b[1;33m(\u001b[0m\u001b[1;33m)\u001b[0m\u001b[1;33m\u001b[0m\u001b[1;33m\u001b[0m\u001b[0m\n\u001b[0;32m     18\u001b[0m \u001b[1;33m\u001b[0m\u001b[0m\n",
      "\u001b[1;32mC:\\ProgramData\\Anaconda3\\lib\\site-packages\\sklearn\\metrics\\classification.py\u001b[0m in \u001b[0;36mconfusion_matrix\u001b[1;34m(y_true, y_pred, labels, sample_weight)\u001b[0m\n\u001b[0;32m    253\u001b[0m     \u001b[0my_type\u001b[0m\u001b[1;33m,\u001b[0m \u001b[0my_true\u001b[0m\u001b[1;33m,\u001b[0m \u001b[0my_pred\u001b[0m \u001b[1;33m=\u001b[0m \u001b[0m_check_targets\u001b[0m\u001b[1;33m(\u001b[0m\u001b[0my_true\u001b[0m\u001b[1;33m,\u001b[0m \u001b[0my_pred\u001b[0m\u001b[1;33m)\u001b[0m\u001b[1;33m\u001b[0m\u001b[1;33m\u001b[0m\u001b[0m\n\u001b[0;32m    254\u001b[0m     \u001b[1;32mif\u001b[0m \u001b[0my_type\u001b[0m \u001b[1;32mnot\u001b[0m \u001b[1;32min\u001b[0m \u001b[1;33m(\u001b[0m\u001b[1;34m\"binary\"\u001b[0m\u001b[1;33m,\u001b[0m \u001b[1;34m\"multiclass\"\u001b[0m\u001b[1;33m)\u001b[0m\u001b[1;33m:\u001b[0m\u001b[1;33m\u001b[0m\u001b[1;33m\u001b[0m\u001b[0m\n\u001b[1;32m--> 255\u001b[1;33m         \u001b[1;32mraise\u001b[0m \u001b[0mValueError\u001b[0m\u001b[1;33m(\u001b[0m\u001b[1;34m\"%s is not supported\"\u001b[0m \u001b[1;33m%\u001b[0m \u001b[0my_type\u001b[0m\u001b[1;33m)\u001b[0m\u001b[1;33m\u001b[0m\u001b[1;33m\u001b[0m\u001b[0m\n\u001b[0m\u001b[0;32m    256\u001b[0m \u001b[1;33m\u001b[0m\u001b[0m\n\u001b[0;32m    257\u001b[0m     \u001b[1;32mif\u001b[0m \u001b[0mlabels\u001b[0m \u001b[1;32mis\u001b[0m \u001b[1;32mNone\u001b[0m\u001b[1;33m:\u001b[0m\u001b[1;33m\u001b[0m\u001b[1;33m\u001b[0m\u001b[0m\n",
      "\u001b[1;31mValueError\u001b[0m: multilabel-indicator is not supported"
     ]
    }
   ],
   "source": [
    "score=rf.score(xtest,ytest)\n",
    "print(score)\n",
    "\n",
    "print(classification_report(ytest,ypred))\n",
    "\n",
    "feat_importances = pd.Series(rf.feature_importances_, index=test.iloc[:,:-1].columns)\n",
    "feat_importances.nlargest(16).plot(kind='barh')\n",
    "plt.show()\n",
    "\n",
    "print(feat_importances.nlargest(16).index)\n",
    "\n",
    "print(\"Accuracy on training set: {:.3f}\".format(rf.score(xtrain,ytrain)))\n",
    "print(\"Accuracy on test set: {:.3f}\".format(rf.score(xtest,ytest ))) \n",
    "\n",
    "\n",
    "confmatrx=pd.DataFrame(confusion_matrix(ytest,ypred))\n",
    "confmatrx.head()\n",
    "\n"
   ]
  },
  {
   "cell_type": "code",
   "execution_count": null,
   "metadata": {},
   "outputs": [],
   "source": []
  },
  {
   "cell_type": "code",
   "execution_count": 14,
   "metadata": {},
   "outputs": [],
   "source": [
    "from keras.layers import Dropout\n",
    "from keras.layers import BatchNormalization\n",
    "from keras.models import model_from_json\n",
    "from keras.utils import multi_gpu_model \n",
    "from keras.utils import to_categorical\n",
    "from keras.models import Sequential\n",
    "from keras.layers import Dense\n",
    "from keras.wrappers.scikit_learn import KerasRegressor"
   ]
  },
  {
   "cell_type": "code",
   "execution_count": 23,
   "metadata": {},
   "outputs": [],
   "source": [
    "# model= Sequential()\n",
    "# model.add(Dense(input_dim=13,units=128,activation='relu', kernel_initializer='uniform'))\n",
    "# model.add(Dense(units=128, activation='relu', kernel_initializer='uniform')) \n",
    "# model.add(BatchNormalization())\n",
    "# model.add(Dropout(0.25))  \n",
    "# model.add(Dense(units=64, activation='relu', kernel_initializer='uniform'))\n",
    "# model.add(Dense(units=32, activation='relu', kernel_initializer='uniform')) \n",
    "# model.add(BatchNormalization())\n",
    "# model.add(Dropout(0.25))  \n",
    "# model.add(Dense(units=16, activation='relu', kernel_initializer='uniform'))\n",
    "# model.add(BatchNormalization())\n",
    "# model.add(Dropout(0.25))  \n",
    "# model.add(Dense(units=8, activation='relu', kernel_initializer='uniform'))\n",
    "# model.add(Dense(units=3, kernel_initializer='uniform', activation='softmax'))\n",
    "\n",
    "model= Sequential()\n",
    "model.add(Dense(input_dim=13,units=512,activation='relu', kernel_initializer='uniform'))\n",
    "model.add(BatchNormalization())\n",
    "model.add(Dropout(0.25))  \n",
    "model.add(Dense(units=128, activation='relu', kernel_initializer='uniform')) \n",
    "model.add(BatchNormalization())\n",
    "model.add(Dropout(0.25))  \n",
    "model.add(Dense(units=64, activation='relu', kernel_initializer='uniform')) \n",
    "model.add(BatchNormalization())\n",
    "model.add(Dropout(0.25))  \n",
    "model.add(Dense(units=32, activation='relu', kernel_initializer='uniform')) \n",
    "model.add(BatchNormalization())\n",
    "model.add(Dropout(0.25))  \n",
    "model.add(Dense(units=16, activation='relu', kernel_initializer='uniform')) \n",
    "model.add(BatchNormalization())\n",
    "model.add(Dropout(0.25))  \n",
    "model.add(Dense(units=8, activation='relu', kernel_initializer='uniform')) \n",
    "model.add(BatchNormalization())\n",
    "model.add(Dropout(0.25)) \n",
    "model.add(Dense(units=4, activation='relu', kernel_initializer='uniform'))\n",
    "model.add(Dense(units=3, kernel_initializer='uniform', activation='softmax'))\n",
    "\n",
    "\n",
    "model.compile(loss='categorical_crossentropy', optimizer='Nadam', metrics=['accuracy'])"
   ]
  },
  {
   "cell_type": "code",
   "execution_count": 24,
   "metadata": {},
   "outputs": [
    {
     "name": "stdout",
     "output_type": "stream",
     "text": [
      "Train on 199737 samples, validate on 49935 samples\n",
      "Epoch 1/100\n",
      "199737/199737 [==============================] - 7s 37us/step - loss: 1.0978 - acc: 0.4071 - val_loss: 1.0981 - val_acc: 0.3541\n",
      "Epoch 2/100\n",
      "199737/199737 [==============================] - 5s 27us/step - loss: 1.0887 - acc: 0.4912 - val_loss: 1.1163 - val_acc: 0.3328\n",
      "Epoch 3/100\n",
      "199737/199737 [==============================] - 5s 27us/step - loss: 1.0686 - acc: 0.5592 - val_loss: 1.3901 - val_acc: 0.3328\n",
      "Epoch 4/100\n",
      "199737/199737 [==============================] - 5s 27us/step - loss: 1.0305 - acc: 0.5746 - val_loss: 0.9337 - val_acc: 0.5465\n",
      "Epoch 5/100\n",
      "199737/199737 [==============================] - 5s 27us/step - loss: 0.9844 - acc: 0.5744 - val_loss: 1.3865 - val_acc: 0.4105\n",
      "Epoch 6/100\n",
      "199737/199737 [==============================] - 5s 27us/step - loss: 0.9219 - acc: 0.5960 - val_loss: 1.2956 - val_acc: 0.4759\n",
      "Epoch 7/100\n",
      "199737/199737 [==============================] - 5s 27us/step - loss: 0.8591 - acc: 0.6105 - val_loss: 1.2422 - val_acc: 0.3449\n",
      "Epoch 8/100\n",
      "199737/199737 [==============================] - 5s 27us/step - loss: 0.7944 - acc: 0.6290 - val_loss: 0.7908 - val_acc: 0.6090\n",
      "Epoch 9/100\n",
      "199737/199737 [==============================] - 5s 27us/step - loss: 0.7916 - acc: 0.6258 - val_loss: 0.8443 - val_acc: 0.5485\n",
      "Epoch 10/100\n",
      "199737/199737 [==============================] - 5s 27us/step - loss: 0.7193 - acc: 0.6551 - val_loss: 1.1448 - val_acc: 0.4199\n",
      "Epoch 11/100\n",
      "199737/199737 [==============================] - 5s 27us/step - loss: 0.6914 - acc: 0.6666 - val_loss: 0.7212 - val_acc: 0.6064\n",
      "Epoch 12/100\n",
      "199737/199737 [==============================] - 5s 27us/step - loss: 0.6615 - acc: 0.6853 - val_loss: 0.6297 - val_acc: 0.6405\n",
      "Epoch 13/100\n",
      "199737/199737 [==============================] - 5s 27us/step - loss: 0.6342 - acc: 0.7004 - val_loss: 0.6378 - val_acc: 0.6255\n",
      "Epoch 14/100\n",
      "199737/199737 [==============================] - 5s 27us/step - loss: 0.6389 - acc: 0.6986 - val_loss: 0.5848 - val_acc: 0.6991\n",
      "Epoch 15/100\n",
      "199737/199737 [==============================] - 5s 28us/step - loss: 0.6176 - acc: 0.7149 - val_loss: 0.6401 - val_acc: 0.6985\n",
      "Epoch 16/100\n",
      "199737/199737 [==============================] - 6s 28us/step - loss: 0.6060 - acc: 0.7215 - val_loss: 0.6911 - val_acc: 0.6904\n",
      "Epoch 17/100\n",
      "199737/199737 [==============================] - 6s 29us/step - loss: 0.5995 - acc: 0.7248 - val_loss: 0.8506 - val_acc: 0.6498\n",
      "Epoch 18/100\n",
      "199737/199737 [==============================] - 6s 28us/step - loss: 0.5945 - acc: 0.7298 - val_loss: 2.6726 - val_acc: 0.4055\n",
      "Epoch 19/100\n",
      "199737/199737 [==============================] - 6s 28us/step - loss: 0.5896 - acc: 0.7313 - val_loss: 0.7795 - val_acc: 0.6844\n",
      "Epoch 20/100\n",
      "199737/199737 [==============================] - 6s 28us/step - loss: 0.5815 - acc: 0.7356 - val_loss: 1.1584 - val_acc: 0.6320\n",
      "Epoch 21/100\n",
      "199737/199737 [==============================] - 6s 28us/step - loss: 0.5764 - acc: 0.7358 - val_loss: 0.5971 - val_acc: 0.6875\n",
      "Epoch 22/100\n",
      "199737/199737 [==============================] - 6s 28us/step - loss: 0.5741 - acc: 0.7370 - val_loss: 2.2208 - val_acc: 0.4400\n",
      "Epoch 23/100\n",
      "199737/199737 [==============================] - 6s 28us/step - loss: 0.6075 - acc: 0.7199 - val_loss: 0.7187 - val_acc: 0.6780\n",
      "Epoch 24/100\n",
      "199737/199737 [==============================] - 6s 28us/step - loss: 0.5749 - acc: 0.7355 - val_loss: 0.6189 - val_acc: 0.7041\n",
      "Epoch 25/100\n",
      "199737/199737 [==============================] - 6s 28us/step - loss: 0.5705 - acc: 0.7380 - val_loss: 0.6063 - val_acc: 0.7101\n",
      "Epoch 26/100\n",
      "199737/199737 [==============================] - 6s 28us/step - loss: 0.5699 - acc: 0.7375 - val_loss: 0.6297 - val_acc: 0.7003\n",
      "Epoch 27/100\n",
      "199737/199737 [==============================] - 6s 28us/step - loss: 0.5603 - acc: 0.7417 - val_loss: 0.7591 - val_acc: 0.5951\n",
      "Epoch 28/100\n",
      "199737/199737 [==============================] - 6s 28us/step - loss: 0.5638 - acc: 0.7389 - val_loss: 0.6437 - val_acc: 0.7112\n",
      "Epoch 29/100\n",
      "199737/199737 [==============================] - 6s 28us/step - loss: 0.5592 - acc: 0.7415 - val_loss: 1.1822 - val_acc: 0.5427\n",
      "Epoch 30/100\n",
      "199737/199737 [==============================] - 6s 28us/step - loss: 0.5702 - acc: 0.7343 - val_loss: 5.9005 - val_acc: 0.3329\n",
      "Epoch 31/100\n",
      "199737/199737 [==============================] - 6s 28us/step - loss: 0.5784 - acc: 0.7325 - val_loss: 4.2868 - val_acc: 0.3374\n",
      "Epoch 32/100\n",
      "199737/199737 [==============================] - 5s 27us/step - loss: 0.5632 - acc: 0.7387 - val_loss: 3.8633 - val_acc: 0.3483\n",
      "Epoch 33/100\n",
      "199737/199737 [==============================] - 6s 28us/step - loss: 0.5548 - acc: 0.7426 - val_loss: 2.8870 - val_acc: 0.3760\n",
      "Epoch 34/100\n",
      "199737/199737 [==============================] - 6s 28us/step - loss: 0.5532 - acc: 0.7430 - val_loss: 2.7385 - val_acc: 0.3706\n",
      "Epoch 35/100\n",
      "199737/199737 [==============================] - 5s 28us/step - loss: 0.5558 - acc: 0.7416 - val_loss: 1.5241 - val_acc: 0.5135\n",
      "Epoch 36/100\n",
      "199737/199737 [==============================] - 5s 28us/step - loss: 0.5510 - acc: 0.7440 - val_loss: 2.3470 - val_acc: 0.4422\n",
      "Epoch 37/100\n",
      "199737/199737 [==============================] - 5s 27us/step - loss: 0.5593 - acc: 0.7404 - val_loss: 2.4872 - val_acc: 0.4189\n",
      "Epoch 38/100\n",
      "199737/199737 [==============================] - 6s 28us/step - loss: 0.5503 - acc: 0.7453 - val_loss: 1.2361 - val_acc: 0.5657\n",
      "Epoch 39/100\n",
      "199737/199737 [==============================] - 6s 28us/step - loss: 0.5540 - acc: 0.7425 - val_loss: 1.2794 - val_acc: 0.5657\n",
      "Epoch 40/100\n",
      "199737/199737 [==============================] - 5s 27us/step - loss: 0.5474 - acc: 0.7460 - val_loss: 0.9951 - val_acc: 0.6372\n",
      "Epoch 41/100\n",
      "199737/199737 [==============================] - 6s 28us/step - loss: 0.5649 - acc: 0.7375 - val_loss: 0.6556 - val_acc: 0.6840\n",
      "Epoch 42/100\n",
      "199737/199737 [==============================] - 5s 27us/step - loss: 0.5562 - acc: 0.7414 - val_loss: 1.0966 - val_acc: 0.6413\n",
      "Epoch 43/100\n",
      "199737/199737 [==============================] - 5s 27us/step - loss: 0.5452 - acc: 0.7471 - val_loss: 1.0698 - val_acc: 0.6176\n",
      "Epoch 44/100\n",
      "199737/199737 [==============================] - 5s 27us/step - loss: 0.5531 - acc: 0.7434 - val_loss: 4.8005 - val_acc: 0.3380\n",
      "Epoch 45/100\n",
      "199737/199737 [==============================] - 5s 27us/step - loss: 0.5501 - acc: 0.7440 - val_loss: 0.6299 - val_acc: 0.7225\n",
      "Epoch 46/100\n",
      "199737/199737 [==============================] - 5s 27us/step - loss: nan - acc: 0.6193 - val_loss: nan - val_acc: 0.3380\n",
      "Epoch 47/100\n",
      "199737/199737 [==============================] - 5s 27us/step - loss: nan - acc: 0.3327 - val_loss: nan - val_acc: 0.3380\n",
      "Epoch 48/100\n",
      "199737/199737 [==============================] - 5s 27us/step - loss: nan - acc: 0.3327 - val_loss: nan - val_acc: 0.3380\n",
      "Epoch 49/100\n",
      "199737/199737 [==============================] - 5s 27us/step - loss: nan - acc: 0.3327 - val_loss: nan - val_acc: 0.3380\n",
      "Epoch 50/100\n",
      "199737/199737 [==============================] - 5s 27us/step - loss: nan - acc: 0.3327 - val_loss: nan - val_acc: 0.3380\n",
      "Epoch 51/100\n",
      "199737/199737 [==============================] - 5s 27us/step - loss: nan - acc: 0.3327 - val_loss: nan - val_acc: 0.3380\n",
      "Epoch 52/100\n",
      "199737/199737 [==============================] - 6s 28us/step - loss: nan - acc: 0.3327 - val_loss: nan - val_acc: 0.3380\n",
      "Epoch 53/100\n",
      "199737/199737 [==============================] - 6s 28us/step - loss: nan - acc: 0.3327 - val_loss: nan - val_acc: 0.3380\n",
      "Epoch 54/100\n",
      "199737/199737 [==============================] - 6s 28us/step - loss: nan - acc: 0.3327 - val_loss: nan - val_acc: 0.3380\n",
      "Epoch 55/100\n",
      "199737/199737 [==============================] - 6s 28us/step - loss: nan - acc: 0.3327 - val_loss: nan - val_acc: 0.3380\n",
      "Epoch 56/100\n",
      "199737/199737 [==============================] - 6s 29us/step - loss: nan - acc: 0.3327 - val_loss: nan - val_acc: 0.3380\n",
      "Epoch 57/100\n",
      "199737/199737 [==============================] - 5s 27us/step - loss: nan - acc: 0.3327 - val_loss: nan - val_acc: 0.3380\n",
      "Epoch 58/100\n",
      "199737/199737 [==============================] - 5s 27us/step - loss: nan - acc: 0.3327 - val_loss: nan - val_acc: 0.3380\n",
      "Epoch 59/100\n"
     ]
    },
    {
     "name": "stdout",
     "output_type": "stream",
     "text": [
      "199737/199737 [==============================] - 5s 27us/step - loss: nan - acc: 0.3327 - val_loss: nan - val_acc: 0.3380\n",
      "Epoch 60/100\n",
      "199737/199737 [==============================] - 5s 27us/step - loss: nan - acc: 0.3327 - val_loss: nan - val_acc: 0.3380\n",
      "Epoch 61/100\n",
      "199737/199737 [==============================] - 5s 27us/step - loss: nan - acc: 0.3327 - val_loss: nan - val_acc: 0.3380\n",
      "Epoch 62/100\n",
      "199737/199737 [==============================] - 5s 27us/step - loss: nan - acc: 0.3327 - val_loss: nan - val_acc: 0.3380\n",
      "Epoch 63/100\n",
      "199737/199737 [==============================] - 6s 28us/step - loss: nan - acc: 0.3327 - val_loss: nan - val_acc: 0.3380\n",
      "Epoch 64/100\n",
      "199737/199737 [==============================] - 6s 28us/step - loss: nan - acc: 0.3327 - val_loss: nan - val_acc: 0.3380\n",
      "Epoch 65/100\n",
      "199737/199737 [==============================] - 5s 28us/step - loss: nan - acc: 0.3327 - val_loss: nan - val_acc: 0.3380\n",
      "Epoch 66/100\n",
      "199737/199737 [==============================] - 6s 28us/step - loss: nan - acc: 0.3327 - val_loss: nan - val_acc: 0.3380\n",
      "Epoch 67/100\n",
      "199737/199737 [==============================] - 5s 27us/step - loss: nan - acc: 0.3327 - val_loss: nan - val_acc: 0.3380\n",
      "Epoch 68/100\n",
      "199737/199737 [==============================] - 6s 28us/step - loss: nan - acc: 0.3327 - val_loss: nan - val_acc: 0.3380\n",
      "Epoch 69/100\n",
      "199737/199737 [==============================] - 6s 28us/step - loss: nan - acc: 0.3327 - val_loss: nan - val_acc: 0.3380\n",
      "Epoch 70/100\n",
      "199737/199737 [==============================] - 6s 29us/step - loss: nan - acc: 0.3327 - val_loss: nan - val_acc: 0.3380\n",
      "Epoch 71/100\n",
      "199737/199737 [==============================] - 6s 29us/step - loss: nan - acc: 0.3327 - val_loss: nan - val_acc: 0.3380\n",
      "Epoch 72/100\n",
      "199737/199737 [==============================] - 6s 30us/step - loss: nan - acc: 0.3327 - val_loss: nan - val_acc: 0.3380\n",
      "Epoch 73/100\n",
      "199737/199737 [==============================] - 6s 29us/step - loss: nan - acc: 0.3327 - val_loss: nan - val_acc: 0.3380\n",
      "Epoch 74/100\n",
      "199737/199737 [==============================] - 6s 29us/step - loss: nan - acc: 0.3327 - val_loss: nan - val_acc: 0.3380\n",
      "Epoch 75/100\n",
      "199737/199737 [==============================] - 6s 30us/step - loss: nan - acc: 0.3327 - val_loss: nan - val_acc: 0.3380\n",
      "Epoch 76/100\n",
      "199737/199737 [==============================] - 6s 28us/step - loss: nan - acc: 0.3327 - val_loss: nan - val_acc: 0.3380\n",
      "Epoch 77/100\n",
      "199737/199737 [==============================] - 6s 28us/step - loss: nan - acc: 0.3327 - val_loss: nan - val_acc: 0.3380\n",
      "Epoch 78/100\n",
      "199737/199737 [==============================] - 6s 28us/step - loss: nan - acc: 0.3327 - val_loss: nan - val_acc: 0.3380\n",
      "Epoch 79/100\n",
      "199737/199737 [==============================] - 5s 27us/step - loss: nan - acc: 0.3327 - val_loss: nan - val_acc: 0.3380\n",
      "Epoch 80/100\n",
      "199737/199737 [==============================] - 6s 28us/step - loss: nan - acc: 0.3327 - val_loss: nan - val_acc: 0.3380\n",
      "Epoch 81/100\n",
      "199737/199737 [==============================] - 6s 28us/step - loss: nan - acc: 0.3327 - val_loss: nan - val_acc: 0.3380\n",
      "Epoch 82/100\n",
      "199737/199737 [==============================] - 5s 27us/step - loss: nan - acc: 0.3327 - val_loss: nan - val_acc: 0.3380\n",
      "Epoch 83/100\n",
      "199737/199737 [==============================] - 5s 27us/step - loss: nan - acc: 0.3327 - val_loss: nan - val_acc: 0.3380\n",
      "Epoch 84/100\n",
      "199737/199737 [==============================] - 5s 27us/step - loss: nan - acc: 0.3327 - val_loss: nan - val_acc: 0.3380\n",
      "Epoch 85/100\n",
      "199737/199737 [==============================] - 5s 27us/step - loss: nan - acc: 0.3327 - val_loss: nan - val_acc: 0.3380\n",
      "Epoch 86/100\n",
      "199737/199737 [==============================] - 5s 27us/step - loss: nan - acc: 0.3327 - val_loss: nan - val_acc: 0.3380\n",
      "Epoch 87/100\n",
      "199737/199737 [==============================] - 5s 27us/step - loss: nan - acc: 0.3327 - val_loss: nan - val_acc: 0.3380\n",
      "Epoch 88/100\n",
      "199737/199737 [==============================] - 5s 27us/step - loss: nan - acc: 0.3327 - val_loss: nan - val_acc: 0.3380\n",
      "Epoch 89/100\n",
      "199737/199737 [==============================] - 5s 27us/step - loss: nan - acc: 0.3327 - val_loss: nan - val_acc: 0.3380\n",
      "Epoch 90/100\n",
      "199737/199737 [==============================] - 5s 27us/step - loss: nan - acc: 0.3327 - val_loss: nan - val_acc: 0.3380\n",
      "Epoch 91/100\n",
      "199737/199737 [==============================] - 6s 28us/step - loss: nan - acc: 0.3327 - val_loss: nan - val_acc: 0.3380\n",
      "Epoch 92/100\n",
      "199737/199737 [==============================] - 5s 27us/step - loss: nan - acc: 0.3327 - val_loss: nan - val_acc: 0.3380\n",
      "Epoch 93/100\n",
      "199737/199737 [==============================] - 5s 27us/step - loss: nan - acc: 0.3327 - val_loss: nan - val_acc: 0.3380\n",
      "Epoch 94/100\n",
      "199737/199737 [==============================] - 5s 27us/step - loss: nan - acc: 0.3327 - val_loss: nan - val_acc: 0.3380\n",
      "Epoch 95/100\n",
      "199737/199737 [==============================] - 5s 27us/step - loss: nan - acc: 0.3327 - val_loss: nan - val_acc: 0.3380\n",
      "Epoch 96/100\n",
      "199737/199737 [==============================] - 5s 27us/step - loss: nan - acc: 0.3327 - val_loss: nan - val_acc: 0.3380\n",
      "Epoch 97/100\n",
      "199737/199737 [==============================] - 6s 28us/step - loss: nan - acc: 0.3327 - val_loss: nan - val_acc: 0.3380\n",
      "Epoch 98/100\n",
      "199737/199737 [==============================] - 5s 27us/step - loss: nan - acc: 0.3327 - val_loss: nan - val_acc: 0.3380\n",
      "Epoch 99/100\n",
      "199737/199737 [==============================] - 5s 27us/step - loss: nan - acc: 0.3327 - val_loss: nan - val_acc: 0.3380\n",
      "Epoch 100/100\n",
      "199737/199737 [==============================] - 5s 27us/step - loss: nan - acc: 0.3327 - val_loss: nan - val_acc: 0.3380\n"
     ]
    }
   ],
   "source": [
    "h=model.fit(xtrain, ytrain, validation_split=.2,epochs=100, batch_size=20000)"
   ]
  },
  {
   "cell_type": "code",
   "execution_count": 25,
   "metadata": {},
   "outputs": [
    {
     "name": "stdout",
     "output_type": "stream",
     "text": [
      "dict_keys(['val_loss', 'val_acc', 'loss', 'acc'])\n"
     ]
    },
    {
     "data": {
      "image/png": "[encoded data removed]",
      "text/plain": [
       "<Figure size 432x288 with 1 Axes>"
      ]
     },
     "metadata": {
      "needs_background": "light"
     },
     "output_type": "display_data"
    },
    {
     "data": {
      "image/png": "[encoded data removed]",
      "text/plain": [
       "<Figure size 432x288 with 1 Axes>"
      ]
     },
     "metadata": {
      "needs_background": "light"
     },
     "output_type": "display_data"
    }
   ],
   "source": [
    "history=h\n",
    "# list all data in history\n",
    "print(history.history.keys())\n",
    "# summarize history for accuracy\n",
    "plt.plot(history.history['acc'])\n",
    "plt.plot(history.history['val_acc'])\n",
    "plt.title('model accuracy')\n",
    "plt.ylabel('accuracy')\n",
    "plt.xlabel('epoch')\n",
    "plt.legend(['train', 'test'], loc='upper left')\n",
    "plt.show()\n",
    "# summarize history for loss\n",
    "plt.plot(history.history['loss'])\n",
    "plt.plot(history.history['val_loss'])\n",
    "plt.title('model loss')\n",
    "plt.ylabel('loss')\n",
    "plt.xlabel('epoch')\n",
    "plt.legend(['train', 'test'], loc='upper left')\n",
    "plt.show()"
   ]
  },
  {
   "cell_type": "code",
   "execution_count": null,
   "metadata": {},
   "outputs": [],
   "source": []
  }
 ],
 "metadata": {
  "kernelspec": {
   "display_name": "Python 3",
   "language": "python",
   "name": "python3"
  },
  "language_info": {
   "codemirror_mode": {
    "name": "ipython",
    "version": 3
   },
   "file_extension": ".py",
   "mimetype": "text/x-python",
   "name": "python",
   "nbconvert_exporter": "python",
   "pygments_lexer": "ipython3",
   "version": "3.7.3"
  }
 },
 "nbformat": 4,
 "nbformat_minor": 2
}

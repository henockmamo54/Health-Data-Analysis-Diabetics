{
 "cells": [
  {
   "cell_type": "code",
   "execution_count": null,
   "metadata": {},
   "outputs": [],
   "source": [
    "# this prediction model tires to model the current year feature values with the next year's class value\n",
    "# with out any prediction for the feature values"
   ]
  },
  {
   "cell_type": "code",
   "execution_count": 2,
   "metadata": {},
   "outputs": [
    {
     "name": "stderr",
     "output_type": "stream",
     "text": [
      "Using TensorFlow backend.\n"
     ]
    }
   ],
   "source": [
    "import pandas as pd\n",
    "import numpy as np\n",
    "import warnings\n",
    "from matplotlib import pyplot as plt\n",
    "from sklearn import metrics as m\n",
    "from sklearn.datasets import make_classification\n",
    "from imblearn.over_sampling import SMOTE  # doctest: +NORMALIZE_WHITESPACE\n",
    "from sklearn.metrics import confusion_matrix\n",
    "from sklearn.metrics import classification_report\n",
    "from sklearn.model_selection import train_test_split\n",
    "from collections import Counter\n",
    "\n",
    "warnings.filterwarnings(\"ignore\")\n",
    "randomseed = 7"
   ]
  },
  {
   "cell_type": "code",
   "execution_count": 3,
   "metadata": {},
   "outputs": [],
   "source": [
    "x_original = pd.read_csv(\"../../XLable_onlyDiabeticRemoved.txt\")\n",
    "\n",
    "conditions = [\n",
    "    (x_original.L100800 < 100),\n",
    "    (x_original.L100800 >= 100) & (x_original.L100800 < 126),\n",
    "    (x_original.L100800 >= 126),\n",
    "]\n",
    "choices = [0, 1, 2]\n",
    "x_original[\"CLASS\"] = np.select(conditions, choices, default=0)\n",
    "x_original=x_original [['Unnamed: 0','L100800','L104600','S000300','FIELD_31',\n",
    "                       'FIELD_16','FIELD_23','FIELD_15','FIELD_22','FIELD_17','FIELD_24'\n",
    "                       ]]"
   ]
  },
  {
   "cell_type": "code",
   "execution_count": 4,
   "metadata": {},
   "outputs": [],
   "source": [
    "y_original = pd.read_csv(\"../../TargetLable_onlyDiabeticRemoved.txt\")\n",
    "\n",
    "conditions = [\n",
    "    (y_original.L100800 < 100),\n",
    "    (y_original.L100800 >= 100) & (y_original.L100800 < 126),\n",
    "    (y_original.L100800 >= 126),\n",
    "]\n",
    "\n",
    "choices = [0, 1, 2]\n",
    "y_original[\"CLASS\"] = np.select(conditions, choices, default=0)\n",
    "\n",
    "y_original=y_original[['Unnamed: 0','CLASS' ]]"
   ]
  },
  {
   "cell_type": "code",
   "execution_count": 5,
   "metadata": {},
   "outputs": [],
   "source": [
    "data = pd.merge(\n",
    "    x_original, y_original, how=\"inner\", left_on=\"Unnamed: 0\", right_on=\"Unnamed: 0\"\n",
    ")"
   ]
  },
  {
   "cell_type": "code",
   "execution_count": 6,
   "metadata": {},
   "outputs": [
    {
     "name": "stdout",
     "output_type": "stream",
     "text": [
      "(169024, 12)\n"
     ]
    }
   ],
   "source": [
    "# filter the data set\n",
    "data = data[data.FIELD_16 != 1]  # exclude people who are diagnosed for (diabetes)\n",
    "data = data[data.FIELD_23 != 1]  # exclude people who are on medication for diabetes\n",
    "\n",
    "data = data[\n",
    "    data.FIELD_15 != 1\n",
    "]  # exclude people who are diagnosed for (high blood pressure)\n",
    "data = data[\n",
    "    data.FIELD_22 != 1\n",
    "]  # exclude people who are on medication for high blood pressure\n",
    "\n",
    "data = data[data.FIELD_17 != 1]  # exclude people who are diagnosed for hyperlipidemia\n",
    "data = data[\n",
    "    data.FIELD_24 != 1\n",
    "]  # exclude people who are on medication for hyperlipidemia\n",
    "\n",
    "\n",
    "print(data.shape)"
   ]
  },
  {
   "cell_type": "code",
   "execution_count": 7,
   "metadata": {},
   "outputs": [
    {
     "name": "stdout",
     "output_type": "stream",
     "text": [
      "(60035, 12)\n"
     ]
    },
    {
     "data": {
      "text/html": [
       "<div>\n",
       "<style scoped>\n",
       "    .dataframe tbody tr th:only-of-type {\n",
       "        vertical-align: middle;\n",
       "    }\n",
       "\n",
       "    .dataframe tbody tr th {\n",
       "        vertical-align: top;\n",
       "    }\n",
       "\n",
       "    .dataframe thead th {\n",
       "        text-align: right;\n",
       "    }\n",
       "</style>\n",
       "<table border=\"1\" class=\"dataframe\">\n",
       "  <thead>\n",
       "    <tr style=\"text-align: right;\">\n",
       "      <th></th>\n",
       "      <th>L104600</th>\n",
       "      <th>S000300</th>\n",
       "      <th>FIELD_31</th>\n",
       "      <th>CLASS</th>\n",
       "    </tr>\n",
       "  </thead>\n",
       "  <tbody>\n",
       "    <tr>\n",
       "      <th>2</th>\n",
       "      <td>5.28</td>\n",
       "      <td>20.2</td>\n",
       "      <td>0.0</td>\n",
       "      <td>0</td>\n",
       "    </tr>\n",
       "    <tr>\n",
       "      <th>5</th>\n",
       "      <td>5.74</td>\n",
       "      <td>25.5</td>\n",
       "      <td>0.0</td>\n",
       "      <td>0</td>\n",
       "    </tr>\n",
       "    <tr>\n",
       "      <th>10</th>\n",
       "      <td>5.83</td>\n",
       "      <td>21.2</td>\n",
       "      <td>1.0</td>\n",
       "      <td>0</td>\n",
       "    </tr>\n",
       "    <tr>\n",
       "      <th>11</th>\n",
       "      <td>4.73</td>\n",
       "      <td>22.0</td>\n",
       "      <td>0.0</td>\n",
       "      <td>0</td>\n",
       "    </tr>\n",
       "    <tr>\n",
       "      <th>20</th>\n",
       "      <td>5.60</td>\n",
       "      <td>24.6</td>\n",
       "      <td>0.0</td>\n",
       "      <td>0</td>\n",
       "    </tr>\n",
       "  </tbody>\n",
       "</table>\n",
       "</div>"
      ],
      "text/plain": [
       "    L104600  S000300  FIELD_31  CLASS\n",
       "2      5.28     20.2       0.0      0\n",
       "5      5.74     25.5       0.0      0\n",
       "10     5.83     21.2       1.0      0\n",
       "11     4.73     22.0       0.0      0\n",
       "20     5.60     24.6       0.0      0"
      ]
     },
     "execution_count": 7,
     "metadata": {},
     "output_type": "execute_result"
    }
   ],
   "source": [
    "data=data.dropna()\n",
    "print(data.shape)\n",
    "data=data[['L104600','S000300','FIELD_31','CLASS']]\n",
    "data.head()"
   ]
  },
  {
   "cell_type": "code",
   "execution_count": 8,
   "metadata": {},
   "outputs": [
    {
     "data": {
      "text/plain": [
       "CLASS\n",
       "0    40171\n",
       "1    18708\n",
       "2     1156\n",
       "dtype: int64"
      ]
     },
     "execution_count": 8,
     "metadata": {},
     "output_type": "execute_result"
    }
   ],
   "source": [
    "data.groupby(by='CLASS').size()"
   ]
  },
  {
   "cell_type": "code",
   "execution_count": null,
   "metadata": {},
   "outputs": [],
   "source": []
  },
  {
   "cell_type": "code",
   "execution_count": null,
   "metadata": {},
   "outputs": [],
   "source": []
  },
  {
   "cell_type": "code",
   "execution_count": 9,
   "metadata": {},
   "outputs": [],
   "source": [
    "# data1 = pd.read_csv(\"NextYearData_actualData_train.txt\")\n",
    "# data2 = pd.read_csv(\"ThisYearData_actualData_train.txt\")\n",
    "# data3 = pd.read_csv(\"ThisYearData_actualData_test.txt\")\n",
    "\n",
    "# data4 = pd.read_csv(\"NextYearData_actualData_test.txt\")\n",
    "\n",
    "# data5 = pd.read_csv(\"Predicted_NextYearData.txt\")\n",
    "# data5.columns = data4.columns\n",
    "\n",
    "# data = pd.concat([data1, data2, data3])\n",
    "\n",
    "# print(data.shape)\n",
    "# data.head()"
   ]
  },
  {
   "cell_type": "code",
   "execution_count": 10,
   "metadata": {},
   "outputs": [
    {
     "name": "stdout",
     "output_type": "stream",
     "text": [
      "1156 18708 40171\n"
     ]
    }
   ],
   "source": [
    "diabetic = data[data.CLASS == 2]\n",
    "prediabetic = data[data.CLASS == 1]\n",
    "normal = data[data.CLASS == 0]\n",
    "\n",
    "print(diabetic.shape[0], prediabetic.shape[0], normal.shape[0])"
   ]
  },
  {
   "cell_type": "code",
   "execution_count": 11,
   "metadata": {},
   "outputs": [],
   "source": [
    "diabetic_test = diabetic.sample(200, random_state=randomseed)\n",
    "prediabetic_test = prediabetic.sample(200, random_state=randomseed)\n",
    "normal_test = normal.sample(200, random_state=randomseed)\n",
    "test = pd.concat([diabetic_test, prediabetic_test, normal_test])\n",
    "\n",
    "diabetic_train = diabetic.drop(diabetic_test.index)\n",
    "prediabetic_train = prediabetic.drop(prediabetic_test.index).sample(\n",
    "    2 * diabetic_train.shape[0], random_state=randomseed\n",
    ")\n",
    "normal_train = normal.drop(normal_test.index).sample(\n",
    "    2 * diabetic_train.shape[0], random_state=randomseed\n",
    ")\n",
    "train = pd.concat([diabetic_train, diabetic_train, prediabetic_train, normal_train])"
   ]
  },
  {
   "cell_type": "code",
   "execution_count": 12,
   "metadata": {},
   "outputs": [],
   "source": [
    "xtrain = train.iloc[:, :-1]\n",
    "ytrain = train.iloc[:, -1]\n",
    "xtest = test.iloc[:, :-1]\n",
    "ytest = test.iloc[:, -1]"
   ]
  },
  {
   "cell_type": "code",
   "execution_count": 13,
   "metadata": {},
   "outputs": [],
   "source": [
    "from sklearn.preprocessing import MinMaxScaler \n",
    "scaler = MinMaxScaler()\n",
    "xtrain=scaler.fit_transform(xtrain)\n",
    "xtest=scaler.transform(xtest)\n"
   ]
  },
  {
   "cell_type": "code",
   "execution_count": null,
   "metadata": {},
   "outputs": [],
   "source": []
  },
  {
   "cell_type": "code",
   "execution_count": null,
   "metadata": {},
   "outputs": [],
   "source": []
  },
  {
   "cell_type": "code",
   "execution_count": 14,
   "metadata": {},
   "outputs": [
    {
     "data": {
      "text/plain": [
       "RandomForestClassifier(bootstrap=True, class_weight=None, criterion='gini',\n",
       "                       max_depth=12, max_features='auto', max_leaf_nodes=None,\n",
       "                       min_impurity_decrease=0.0, min_impurity_split=None,\n",
       "                       min_samples_leaf=10, min_samples_split=2,\n",
       "                       min_weight_fraction_leaf=0.0, n_estimators=100,\n",
       "                       n_jobs=None, oob_score=False, random_state=7, verbose=0,\n",
       "                       warm_start=False)"
      ]
     },
     "execution_count": 14,
     "metadata": {},
     "output_type": "execute_result"
    }
   ],
   "source": [
    "from sklearn.ensemble import RandomForestClassifier\n",
    "\n",
    "rf = RandomForestClassifier(\n",
    "    random_state=randomseed,\n",
    "    n_estimators=100,\n",
    "    max_depth=12,\n",
    "    min_samples_split=2,\n",
    "    min_samples_leaf=10,\n",
    "    max_features=\"auto\",\n",
    ")\n",
    "rf.fit(xtrain, ytrain)"
   ]
  },
  {
   "cell_type": "code",
   "execution_count": 15,
   "metadata": {},
   "outputs": [
    {
     "name": "stdout",
     "output_type": "stream",
     "text": [
      "0.665\n"
     ]
    },
    {
     "data": {
      "image/png": "[encoded data removed]",
      "text/plain": [
       "<Figure size 432x288 with 1 Axes>"
      ]
     },
     "metadata": {
      "needs_background": "light"
     },
     "output_type": "display_data"
    },
    {
     "name": "stdout",
     "output_type": "stream",
     "text": [
      "Index(['L104600', 'S000300', 'FIELD_31'], dtype='object')\n"
     ]
    }
   ],
   "source": [
    "ypred = rf.predict(xtest)\n",
    "\n",
    "score = rf.score(xtest, ytest)\n",
    "print(score)\n",
    "\n",
    "feat_importances = pd.Series(rf.feature_importances_, index=test.iloc[:, :-1].columns)\n",
    "feat_importances.nlargest(16).plot(kind=\"barh\")\n",
    "plt.show()\n",
    "\n",
    "print(feat_importances.nlargest(16).index)"
   ]
  },
  {
   "cell_type": "code",
   "execution_count": 16,
   "metadata": {},
   "outputs": [
    {
     "name": "stdout",
     "output_type": "stream",
     "text": [
      "Accuracy on training set: 0.700\n",
      "Accuracy on test set: 0.665\n"
     ]
    },
    {
     "data": {
      "text/html": [
       "<div>\n",
       "<style scoped>\n",
       "    .dataframe tbody tr th:only-of-type {\n",
       "        vertical-align: middle;\n",
       "    }\n",
       "\n",
       "    .dataframe tbody tr th {\n",
       "        vertical-align: top;\n",
       "    }\n",
       "\n",
       "    .dataframe thead th {\n",
       "        text-align: right;\n",
       "    }\n",
       "</style>\n",
       "<table border=\"1\" class=\"dataframe\">\n",
       "  <thead>\n",
       "    <tr style=\"text-align: right;\">\n",
       "      <th></th>\n",
       "      <th>0</th>\n",
       "      <th>1</th>\n",
       "      <th>2</th>\n",
       "    </tr>\n",
       "  </thead>\n",
       "  <tbody>\n",
       "    <tr>\n",
       "      <th>0</th>\n",
       "      <td>125</td>\n",
       "      <td>64</td>\n",
       "      <td>11</td>\n",
       "    </tr>\n",
       "    <tr>\n",
       "      <th>1</th>\n",
       "      <td>69</td>\n",
       "      <td>102</td>\n",
       "      <td>29</td>\n",
       "    </tr>\n",
       "    <tr>\n",
       "      <th>2</th>\n",
       "      <td>3</td>\n",
       "      <td>25</td>\n",
       "      <td>172</td>\n",
       "    </tr>\n",
       "  </tbody>\n",
       "</table>\n",
       "</div>"
      ],
      "text/plain": [
       "     0    1    2\n",
       "0  125   64   11\n",
       "1   69  102   29\n",
       "2    3   25  172"
      ]
     },
     "execution_count": 16,
     "metadata": {},
     "output_type": "execute_result"
    }
   ],
   "source": [
    "print(\"Accuracy on training set: {:.3f}\".format(rf.score(xtrain, ytrain)))\n",
    "print(\"Accuracy on test set: {:.3f}\".format(rf.score(xtest, ytest)))\n",
    "\n",
    "confmatrx = pd.DataFrame(m.confusion_matrix(ytest, ypred))\n",
    "confmatrx.head()"
   ]
  },
  {
   "cell_type": "code",
   "execution_count": 17,
   "metadata": {},
   "outputs": [
    {
     "name": "stdout",
     "output_type": "stream",
     "text": [
      "              precision    recall  f1-score   support\n",
      "\n",
      "           0       0.63      0.62      0.63       200\n",
      "           1       0.53      0.51      0.52       200\n",
      "           2       0.81      0.86      0.83       200\n",
      "\n",
      "    accuracy                           0.67       600\n",
      "   macro avg       0.66      0.67      0.66       600\n",
      "weighted avg       0.66      0.67      0.66       600\n",
      "\n"
     ]
    }
   ],
   "source": [
    "from sklearn.metrics import classification_report\n",
    "\n",
    "print(classification_report(ytest, ypred))"
   ]
  },
  {
   "cell_type": "code",
   "execution_count": 18,
   "metadata": {},
   "outputs": [
    {
     "name": "stdout",
     "output_type": "stream",
     "text": [
      "accuracy \t 0.67\n"
     ]
    },
    {
     "data": {
      "text/html": [
       "<div>\n",
       "<style scoped>\n",
       "    .dataframe tbody tr th:only-of-type {\n",
       "        vertical-align: middle;\n",
       "    }\n",
       "\n",
       "    .dataframe tbody tr th {\n",
       "        vertical-align: top;\n",
       "    }\n",
       "\n",
       "    .dataframe thead th {\n",
       "        text-align: right;\n",
       "    }\n",
       "</style>\n",
       "<table border=\"1\" class=\"dataframe\">\n",
       "  <thead>\n",
       "    <tr style=\"text-align: right;\">\n",
       "      <th></th>\n",
       "      <th>0</th>\n",
       "      <th>1</th>\n",
       "      <th>2</th>\n",
       "    </tr>\n",
       "  </thead>\n",
       "  <tbody>\n",
       "    <tr>\n",
       "      <th>0</th>\n",
       "      <td>129</td>\n",
       "      <td>62</td>\n",
       "      <td>9</td>\n",
       "    </tr>\n",
       "    <tr>\n",
       "      <th>1</th>\n",
       "      <td>70</td>\n",
       "      <td>101</td>\n",
       "      <td>29</td>\n",
       "    </tr>\n",
       "    <tr>\n",
       "      <th>2</th>\n",
       "      <td>3</td>\n",
       "      <td>25</td>\n",
       "      <td>172</td>\n",
       "    </tr>\n",
       "  </tbody>\n",
       "</table>\n",
       "</div>"
      ],
      "text/plain": [
       "     0    1    2\n",
       "0  129   62    9\n",
       "1   70  101   29\n",
       "2    3   25  172"
      ]
     },
     "execution_count": 18,
     "metadata": {},
     "output_type": "execute_result"
    }
   ],
   "source": [
    "import xgboost as xgb\n",
    "from sklearn import metrics as m\n",
    "\n",
    "xgb_model = xgb.XGBClassifier(objective=\"binary:logistic\", random_state=randomseed)\n",
    "\n",
    "xgb_model.fit(xtrain, ytrain)\n",
    "\n",
    "y_pred = xgb_model.predict((xtest))\n",
    "\n",
    "print(\"accuracy \\t\", m.accuracy_score(ytest, y_pred))\n",
    "confmatrx = pd.DataFrame(m.confusion_matrix(ytest, y_pred))\n",
    "confmatrx.head()"
   ]
  },
  {
   "cell_type": "code",
   "execution_count": 19,
   "metadata": {},
   "outputs": [
    {
     "name": "stdout",
     "output_type": "stream",
     "text": [
      "              precision    recall  f1-score   support\n",
      "\n",
      "           0       0.64      0.65      0.64       200\n",
      "           1       0.54      0.51      0.52       200\n",
      "           2       0.82      0.86      0.84       200\n",
      "\n",
      "    accuracy                           0.67       600\n",
      "   macro avg       0.66      0.67      0.67       600\n",
      "weighted avg       0.66      0.67      0.67       600\n",
      "\n"
     ]
    }
   ],
   "source": [
    "print(classification_report(ytest, y_pred))"
   ]
  },
  {
   "cell_type": "code",
   "execution_count": null,
   "metadata": {},
   "outputs": [],
   "source": [
    "\n"
   ]
  },
  {
   "cell_type": "code",
   "execution_count": 20,
   "metadata": {},
   "outputs": [
    {
     "data": {
      "text/plain": [
       "GridSearchCV(cv='warn', error_score='raise-deprecating',\n",
       "             estimator=SVC(C=1.0, cache_size=200, class_weight=None, coef0=0.0,\n",
       "                           decision_function_shape='ovr', degree=3,\n",
       "                           gamma='auto_deprecated', kernel='rbf', max_iter=-1,\n",
       "                           probability=False, random_state=None, shrinking=True,\n",
       "                           tol=0.001, verbose=False),\n",
       "             iid='warn', n_jobs=None,\n",
       "             param_grid={'C': [1, 5, 10, 15, 20, 25, 30, 70],\n",
       "                         'kernel': ('linear', 'rbf')},\n",
       "             pre_dispatch='2*n_jobs', refit=True, return_train_score=False,\n",
       "             scoring=None, verbose=0)"
      ]
     },
     "execution_count": 20,
     "metadata": {},
     "output_type": "execute_result"
    }
   ],
   "source": [
    "from sklearn.svm import SVC\n",
    "from sklearn.model_selection import GridSearchCV\n",
    "\n",
    "parameters = {'kernel':('linear', 'rbf'), 'C':[1,5,10,15,20,25,30,70]}\n",
    "SVC_clf = SVC()\n",
    "SVC_clf2 = GridSearchCV(SVC_clf, parameters)\n",
    "SVC_clf2.fit(xtrain, ytrain)\n",
    "\n",
    "\n",
    "# sorted(SVC_clf2.cv_results_.keys())"
   ]
  },
  {
   "cell_type": "code",
   "execution_count": 63,
   "metadata": {},
   "outputs": [
    {
     "data": {
      "text/plain": [
       "SVC(C=30, cache_size=200, class_weight=None, coef0=0.0,\n",
       "    decision_function_shape='ovr', degree=3, gamma='auto_deprecated',\n",
       "    kernel='linear', max_iter=-1, probability=False, random_state=None,\n",
       "    shrinking=True, tol=0.001, verbose=False)"
      ]
     },
     "execution_count": 63,
     "metadata": {},
     "output_type": "execute_result"
    }
   ],
   "source": [
    "SVC_clf2.best_estimator_"
   ]
  },
  {
   "cell_type": "code",
   "execution_count": 64,
   "metadata": {},
   "outputs": [
    {
     "data": {
      "text/plain": [
       "SVC(C=30, cache_size=200, class_weight=None, coef0=0.0,\n",
       "    decision_function_shape='ovr', degree=3, gamma='auto_deprecated',\n",
       "    kernel='linear', max_iter=-1, probability=False, random_state=None,\n",
       "    shrinking=True, tol=0.001, verbose=False)"
      ]
     },
     "execution_count": 64,
     "metadata": {},
     "output_type": "execute_result"
    }
   ],
   "source": [
    "\n",
    "SVC_clf = SVC_clf2.best_estimator_\n",
    "SVC_clf.fit(xtrain, ytrain)"
   ]
  },
  {
   "cell_type": "code",
   "execution_count": 65,
   "metadata": {},
   "outputs": [
    {
     "name": "stdout",
     "output_type": "stream",
     "text": [
      "accuracy \t 0.7466666666666667\n"
     ]
    },
    {
     "data": {
      "text/html": [
       "<div>\n",
       "<style scoped>\n",
       "    .dataframe tbody tr th:only-of-type {\n",
       "        vertical-align: middle;\n",
       "    }\n",
       "\n",
       "    .dataframe tbody tr th {\n",
       "        vertical-align: top;\n",
       "    }\n",
       "\n",
       "    .dataframe thead th {\n",
       "        text-align: right;\n",
       "    }\n",
       "</style>\n",
       "<table border=\"1\" class=\"dataframe\">\n",
       "  <thead>\n",
       "    <tr style=\"text-align: right;\">\n",
       "      <th></th>\n",
       "      <th>0</th>\n",
       "      <th>1</th>\n",
       "      <th>2</th>\n",
       "    </tr>\n",
       "  </thead>\n",
       "  <tbody>\n",
       "    <tr>\n",
       "      <th>0</th>\n",
       "      <td>151</td>\n",
       "      <td>48</td>\n",
       "      <td>1</td>\n",
       "    </tr>\n",
       "    <tr>\n",
       "      <th>1</th>\n",
       "      <td>52</td>\n",
       "      <td>132</td>\n",
       "      <td>16</td>\n",
       "    </tr>\n",
       "    <tr>\n",
       "      <th>2</th>\n",
       "      <td>3</td>\n",
       "      <td>32</td>\n",
       "      <td>165</td>\n",
       "    </tr>\n",
       "  </tbody>\n",
       "</table>\n",
       "</div>"
      ],
      "text/plain": [
       "     0    1    2\n",
       "0  151   48    1\n",
       "1   52  132   16\n",
       "2    3   32  165"
      ]
     },
     "execution_count": 65,
     "metadata": {},
     "output_type": "execute_result"
    }
   ],
   "source": [
    "y_pred = SVC_clf.predict((xtest))\n",
    "\n",
    "print(\"accuracy \\t\", m.accuracy_score(ytest, y_pred))\n",
    "confmatrx = pd.DataFrame(m.confusion_matrix(ytest, y_pred))\n",
    "confmatrx.head()"
   ]
  },
  {
   "cell_type": "code",
   "execution_count": null,
   "metadata": {},
   "outputs": [],
   "source": []
  },
  {
   "cell_type": "code",
   "execution_count": 57,
   "metadata": {},
   "outputs": [],
   "source": [
    "# multi-class classification with Keras\n",
    "import pandas\n",
    "from tensorflow.keras.models import Sequential\n",
    "from tensorflow.keras.layers import Dense\n",
    "from tensorflow.keras.layers import BatchNormalization\n",
    "from tensorflow.keras.layers import Dropout\n",
    "from tensorflow.keras.wrappers.scikit_learn import KerasClassifier\n",
    "\n",
    "from keras.utils import np_utils\n",
    "\n",
    "from sklearn.model_selection import cross_val_score\n",
    "from sklearn.model_selection import KFold\n",
    "from sklearn.preprocessing import LabelEncoder\n",
    "from sklearn.pipeline import Pipeline\n",
    " \n",
    "# create model\n",
    "model = Sequential()\n",
    "model.add(Dense(64, input_dim=11, kernel_initializer='normal', activation='relu'))\n",
    "model.add(BatchNormalization())\n",
    "model.add(Dropout(0.25))\n",
    "model.add(Dense(32, kernel_initializer='normal', activation='relu'))\n",
    "model.add(BatchNormalization())\n",
    "model.add(Dropout(0.25))\n",
    "model.add(Dense(32, kernel_initializer='normal', activation='relu'))\n",
    "model.add(BatchNormalization())\n",
    "model.add(Dropout(0.25))\n",
    "model.add(Dense(16, kernel_initializer='normal', activation='relu'))\n",
    "model.add(BatchNormalization())\n",
    "model.add(Dropout(0.25))\n",
    "model.add(Dense(3, kernel_initializer='normal', activation='linear'))\n",
    "\n",
    "\n",
    "# Compile model\n",
    "model.compile(loss='categorical_crossentropy', optimizer='adam', metrics=['accuracy']) \n",
    "\n",
    "# estimator = KerasClassifier(build_fn=model, epochs=200, batch_size=5, verbose=0)\n",
    "# kfold = KFold(n_splits=10, shuffle=True)\n",
    "# results = cross_val_score(estimator, xtrain, ytrain, cv=kfold)\n",
    "# print(\"Baseline: %.2f%% (%.2f%%)\" % (results.mean()*100, results.std()*100))"
   ]
  },
  {
   "cell_type": "code",
   "execution_count": 58,
   "metadata": {},
   "outputs": [
    {
     "name": "stdout",
     "output_type": "stream",
     "text": [
      "Train on 4041 samples, validate on 1011 samples\n",
      "Epoch 1/100\n",
      "4041/4041 [==============================] - 2s 523us/sample - loss: 5.0574 - accuracy: 0.2853 - val_loss: 13.9526 - val_accuracy: 0.9387\n",
      "Epoch 2/100\n",
      "4041/4041 [==============================] - 1s 152us/sample - loss: 4.0152 - accuracy: 0.3237 - val_loss: 2.4594 - val_accuracy: 0.0534\n",
      "Epoch 3/100\n",
      "4041/4041 [==============================] - 1s 147us/sample - loss: 2.5485 - accuracy: 0.3309 - val_loss: 1.9407 - val_accuracy: 0.1306\n",
      "Epoch 4/100\n",
      "4041/4041 [==============================] - 1s 146us/sample - loss: 1.8043 - accuracy: 0.3375 - val_loss: 1.8642 - val_accuracy: 0.2404\n",
      "Epoch 5/100\n",
      "4041/4041 [==============================] - 1s 149us/sample - loss: 1.5339 - accuracy: 0.3314 - val_loss: 1.6172 - val_accuracy: 0.3749\n",
      "Epoch 6/100\n",
      "4041/4041 [==============================] - 1s 152us/sample - loss: 1.5184 - accuracy: 0.3123 - val_loss: 1.9645 - val_accuracy: 0.3610\n",
      "Epoch 7/100\n",
      "4041/4041 [==============================] - 1s 151us/sample - loss: 1.5359 - accuracy: 0.2987 - val_loss: 1.8817 - val_accuracy: 0.6855\n",
      "Epoch 8/100\n",
      "4041/4041 [==============================] - 1s 151us/sample - loss: 1.4393 - accuracy: 0.2992 - val_loss: 2.6179 - val_accuracy: 0.6400\n",
      "Epoch 9/100\n",
      "4041/4041 [==============================] - 1s 149us/sample - loss: 1.4499 - accuracy: 0.2826 - val_loss: 1.9928 - val_accuracy: 0.6766\n",
      "Epoch 10/100\n",
      "4041/4041 [==============================] - 1s 150us/sample - loss: 1.3944 - accuracy: 0.2438 - val_loss: 2.3101 - val_accuracy: 0.6775\n",
      "Epoch 11/100\n",
      "4041/4041 [==============================] - 1s 151us/sample - loss: 1.4539 - accuracy: 0.2126 - val_loss: 2.3197 - val_accuracy: 0.6657\n",
      "Epoch 12/100\n",
      "4041/4041 [==============================] - 1s 149us/sample - loss: 1.4429 - accuracy: 0.2489 - val_loss: 1.8439 - val_accuracy: 0.7873\n",
      "Epoch 13/100\n",
      "4041/4041 [==============================] - 1s 153us/sample - loss: 1.3374 - accuracy: 0.2529 - val_loss: 2.0800 - val_accuracy: 0.5173\n",
      "Epoch 14/100\n",
      "4041/4041 [==============================] - 1s 152us/sample - loss: 1.3508 - accuracy: 0.2544 - val_loss: 2.4821 - val_accuracy: 0.5905\n",
      "Epoch 15/100\n",
      "4041/4041 [==============================] - 1s 153us/sample - loss: 1.4565 - accuracy: 0.2700 - val_loss: 1.5879 - val_accuracy: 0.7755\n",
      "Epoch 16/100\n",
      "4041/4041 [==============================] - 1s 150us/sample - loss: 1.4564 - accuracy: 0.2970 - val_loss: 1.4827 - val_accuracy: 0.5054\n",
      "Epoch 17/100\n",
      "4041/4041 [==============================] - 1s 151us/sample - loss: 1.4226 - accuracy: 0.2791 - val_loss: 1.7851 - val_accuracy: 0.6034\n",
      "Epoch 18/100\n",
      "4041/4041 [==============================] - 1s 151us/sample - loss: 1.4436 - accuracy: 0.2821 - val_loss: 2.3421 - val_accuracy: 0.5509\n",
      "Epoch 19/100\n",
      "4041/4041 [==============================] - 1s 147us/sample - loss: 1.5061 - accuracy: 0.2836 - val_loss: 1.7129 - val_accuracy: 0.7725\n",
      "Epoch 20/100\n",
      "4041/4041 [==============================] - 1s 152us/sample - loss: 1.4007 - accuracy: 0.2824 - val_loss: 1.5482 - val_accuracy: 0.6954\n",
      "Epoch 21/100\n",
      "4041/4041 [==============================] - 1s 152us/sample - loss: 1.3681 - accuracy: 0.2861 - val_loss: 1.4800 - val_accuracy: 0.6914\n",
      "Epoch 22/100\n",
      "4041/4041 [==============================] - 1s 151us/sample - loss: 1.3451 - accuracy: 0.2821 - val_loss: 1.8729 - val_accuracy: 0.7171\n",
      "Epoch 23/100\n",
      "4041/4041 [==============================] - 1s 150us/sample - loss: 1.3278 - accuracy: 0.2970 - val_loss: 1.7401 - val_accuracy: 0.7211\n",
      "Epoch 24/100\n",
      "4041/4041 [==============================] - 1s 154us/sample - loss: 1.3035 - accuracy: 0.2752 - val_loss: 1.6737 - val_accuracy: 0.7151\n",
      "Epoch 25/100\n",
      "4041/4041 [==============================] - 1s 151us/sample - loss: 1.2297 - accuracy: 0.2707 - val_loss: 1.6215 - val_accuracy: 0.7488\n",
      "Epoch 26/100\n",
      "4041/4041 [==============================] - 1s 152us/sample - loss: 1.2045 - accuracy: 0.2707 - val_loss: 1.6250 - val_accuracy: 0.6954\n",
      "Epoch 27/100\n",
      "4041/4041 [==============================] - 1s 149us/sample - loss: 1.1248 - accuracy: 0.2544 - val_loss: 1.7004 - val_accuracy: 0.8140\n",
      "Epoch 28/100\n",
      "4041/4041 [==============================] - 1s 153us/sample - loss: 1.2096 - accuracy: 0.2554 - val_loss: 1.9126 - val_accuracy: 0.7151\n",
      "Epoch 29/100\n",
      "4041/4041 [==============================] - 1s 150us/sample - loss: 1.1735 - accuracy: 0.2447 - val_loss: 1.7689 - val_accuracy: 0.6954\n",
      "Epoch 30/100\n",
      "4041/4041 [==============================] - 1s 153us/sample - loss: 1.1534 - accuracy: 0.2683 - val_loss: 1.9167 - val_accuracy: 0.6894\n",
      "Epoch 31/100\n",
      "4041/4041 [==============================] - 1s 147us/sample - loss: 1.1584 - accuracy: 0.2628 - val_loss: 1.9006 - val_accuracy: 0.7072\n",
      "Epoch 32/100\n",
      "4041/4041 [==============================] - 1s 154us/sample - loss: 1.2128 - accuracy: 0.2549 - val_loss: 3.3404 - val_accuracy: 0.8002\n",
      "Epoch 33/100\n",
      "4041/4041 [==============================] - 1s 150us/sample - loss: 1.1997 - accuracy: 0.2663 - val_loss: 1.7039 - val_accuracy: 0.8368\n",
      "Epoch 34/100\n",
      "4041/4041 [==============================] - 1s 148us/sample - loss: 1.2029 - accuracy: 0.2715 - val_loss: 1.6513 - val_accuracy: 0.6756\n",
      "Epoch 35/100\n",
      "4041/4041 [==============================] - 1s 152us/sample - loss: 1.1818 - accuracy: 0.2890 - val_loss: 1.6468 - val_accuracy: 0.7230\n",
      "Epoch 36/100\n",
      "4041/4041 [==============================] - 1s 150us/sample - loss: 1.2351 - accuracy: 0.2970 - val_loss: 1.7041 - val_accuracy: 0.7319\n",
      "Epoch 37/100\n",
      "4041/4041 [==============================] - 1s 151us/sample - loss: 1.2239 - accuracy: 0.2856 - val_loss: 1.8648 - val_accuracy: 0.7676\n",
      "Epoch 38/100\n",
      "4041/4041 [==============================] - 1s 150us/sample - loss: 1.2145 - accuracy: 0.2816 - val_loss: 1.7376 - val_accuracy: 0.7695\n",
      "Epoch 39/100\n",
      "4041/4041 [==============================] - 1s 146us/sample - loss: 1.1973 - accuracy: 0.2937 - val_loss: 1.8453 - val_accuracy: 0.7893\n",
      "Epoch 40/100\n",
      "4041/4041 [==============================] - 1s 154us/sample - loss: 1.1403 - accuracy: 0.2623 - val_loss: 1.6560 - val_accuracy: 0.4718\n",
      "Epoch 41/100\n",
      "4041/4041 [==============================] - 1s 146us/sample - loss: 1.0946 - accuracy: 0.2299 - val_loss: 1.7076 - val_accuracy: 0.4728\n",
      "Epoch 42/100\n",
      "4041/4041 [==============================] - 1s 153us/sample - loss: 1.0983 - accuracy: 0.2368 - val_loss: 1.6634 - val_accuracy: 0.4728\n",
      "Epoch 43/100\n",
      "4041/4041 [==============================] - 1s 150us/sample - loss: 1.1282 - accuracy: 0.2430 - val_loss: 1.7404 - val_accuracy: 0.4669\n",
      "Epoch 44/100\n",
      "4041/4041 [==============================] - 1s 152us/sample - loss: 1.1484 - accuracy: 0.2393 - val_loss: 1.6543 - val_accuracy: 0.4718\n",
      "Epoch 45/100\n",
      "4041/4041 [==============================] - 1s 146us/sample - loss: 1.1056 - accuracy: 0.2339 - val_loss: 1.6523 - val_accuracy: 0.4728\n",
      "Epoch 46/100\n",
      "4041/4041 [==============================] - 1s 154us/sample - loss: 1.0677 - accuracy: 0.2346 - val_loss: 1.7137 - val_accuracy: 0.4738\n",
      "Epoch 47/100\n",
      "4041/4041 [==============================] - 1s 151us/sample - loss: 1.2845 - accuracy: 0.2287 - val_loss: 1.6343 - val_accuracy: 0.4263\n",
      "Epoch 48/100\n",
      "4041/4041 [==============================] - 1s 154us/sample - loss: 1.1616 - accuracy: 0.2358 - val_loss: 1.7116 - val_accuracy: 0.4728\n",
      "Epoch 49/100\n",
      "4041/4041 [==============================] - 1s 150us/sample - loss: 1.1590 - accuracy: 0.2319 - val_loss: 1.7275 - val_accuracy: 0.4125\n",
      "Epoch 50/100\n",
      "4041/4041 [==============================] - 1s 149us/sample - loss: 1.1501 - accuracy: 0.2373 - val_loss: 1.7843 - val_accuracy: 0.4649\n",
      "Epoch 51/100\n",
      "4041/4041 [==============================] - 1s 152us/sample - loss: 1.1405 - accuracy: 0.2363 - val_loss: 1.9220 - val_accuracy: 0.4599\n",
      "Epoch 52/100\n",
      "4041/4041 [==============================] - 1s 154us/sample - loss: 1.1703 - accuracy: 0.2292 - val_loss: 1.9369 - val_accuracy: 0.4303\n",
      "Epoch 53/100\n",
      "4041/4041 [==============================] - 1s 154us/sample - loss: 1.1569 - accuracy: 0.2368 - val_loss: 1.9110 - val_accuracy: 0.4372\n",
      "Epoch 54/100\n",
      "4041/4041 [==============================] - 1s 154us/sample - loss: 1.1461 - accuracy: 0.2480 - val_loss: 1.8379 - val_accuracy: 0.4679\n",
      "Epoch 55/100\n",
      "4041/4041 [==============================] - 1s 148us/sample - loss: 1.2084 - accuracy: 0.2361 - val_loss: 1.8052 - val_accuracy: 0.4599\n",
      "Epoch 56/100\n",
      "4041/4041 [==============================] - 1s 151us/sample - loss: 1.1368 - accuracy: 0.2232 - val_loss: 1.7898 - val_accuracy: 0.4609\n",
      "Epoch 57/100\n",
      "4041/4041 [==============================] - 1s 150us/sample - loss: 1.1645 - accuracy: 0.2358 - val_loss: 1.7250 - val_accuracy: 0.4540\n",
      "Epoch 58/100\n",
      "4041/4041 [==============================] - 1s 148us/sample - loss: 1.1591 - accuracy: 0.2282 - val_loss: 1.7561 - val_accuracy: 0.4550\n",
      "Epoch 59/100\n",
      "4041/4041 [==============================] - 1s 150us/sample - loss: 1.1209 - accuracy: 0.2358 - val_loss: 1.7198 - val_accuracy: 0.4609\n",
      "Epoch 60/100\n",
      "4041/4041 [==============================] - 1s 150us/sample - loss: 1.0827 - accuracy: 0.2343 - val_loss: 1.7762 - val_accuracy: 0.4619\n",
      "Epoch 61/100\n",
      "4041/4041 [==============================] - 1s 147us/sample - loss: 1.1350 - accuracy: 0.2282 - val_loss: 1.7557 - val_accuracy: 0.4649\n",
      "Epoch 62/100\n",
      "4041/4041 [==============================] - 1s 150us/sample - loss: 1.1033 - accuracy: 0.2252 - val_loss: 1.8156 - val_accuracy: 0.4669\n",
      "Epoch 63/100\n",
      "4041/4041 [==============================] - 1s 154us/sample - loss: 1.1111 - accuracy: 0.2289 - val_loss: 1.8421 - val_accuracy: 0.4659\n",
      "Epoch 64/100\n",
      "4041/4041 [==============================] - 1s 150us/sample - loss: 1.0843 - accuracy: 0.2339 - val_loss: 1.7905 - val_accuracy: 0.4679\n",
      "Epoch 65/100\n",
      "4041/4041 [==============================] - 1s 150us/sample - loss: 1.0905 - accuracy: 0.2259 - val_loss: 1.7737 - val_accuracy: 0.4629\n",
      "Epoch 66/100\n",
      "4041/4041 [==============================] - 1s 151us/sample - loss: 1.0789 - accuracy: 0.2279 - val_loss: 1.7589 - val_accuracy: 0.4679\n",
      "Epoch 67/100\n",
      "4041/4041 [==============================] - 1s 149us/sample - loss: 1.1007 - accuracy: 0.2363 - val_loss: 1.7995 - val_accuracy: 0.4659\n",
      "Epoch 68/100\n",
      "4041/4041 [==============================] - 1s 147us/sample - loss: 1.1042 - accuracy: 0.2405 - val_loss: 1.7995 - val_accuracy: 0.4411\n",
      "Epoch 69/100\n",
      "4041/4041 [==============================] - 1s 152us/sample - loss: 1.1479 - accuracy: 0.2514 - val_loss: 1.7825 - val_accuracy: 0.4580\n",
      "Epoch 70/100\n",
      "4041/4041 [==============================] - 1s 148us/sample - loss: 1.1592 - accuracy: 0.2435 - val_loss: 1.8455 - val_accuracy: 0.4629\n",
      "Epoch 71/100\n",
      "4041/4041 [==============================] - 1s 155us/sample - loss: 1.1354 - accuracy: 0.2430 - val_loss: 1.7810 - val_accuracy: 0.4639\n",
      "Epoch 72/100\n",
      "4041/4041 [==============================] - 1s 149us/sample - loss: 1.1222 - accuracy: 0.2400 - val_loss: 1.7859 - val_accuracy: 0.4738\n",
      "Epoch 73/100\n",
      "4041/4041 [==============================] - 1s 148us/sample - loss: 1.1280 - accuracy: 0.2284 - val_loss: 1.7616 - val_accuracy: 0.4738\n",
      "Epoch 74/100\n",
      "4041/4041 [==============================] - 1s 150us/sample - loss: 1.0814 - accuracy: 0.2390 - val_loss: 1.7388 - val_accuracy: 0.4787\n",
      "Epoch 75/100\n",
      "4041/4041 [==============================] - 1s 149us/sample - loss: 1.1828 - accuracy: 0.2294 - val_loss: 1.7718 - val_accuracy: 0.4728\n",
      "Epoch 76/100\n",
      "4041/4041 [==============================] - 1s 150us/sample - loss: 1.1329 - accuracy: 0.2413 - val_loss: 1.6645 - val_accuracy: 0.4599\n",
      "Epoch 77/100\n",
      "4041/4041 [==============================] - 1s 149us/sample - loss: 1.1450 - accuracy: 0.2472 - val_loss: 1.7076 - val_accuracy: 0.4639\n",
      "Epoch 78/100\n",
      "4041/4041 [==============================] - 1s 149us/sample - loss: 1.1123 - accuracy: 0.2524 - val_loss: 1.7075 - val_accuracy: 0.4649\n",
      "Epoch 79/100\n",
      "4041/4041 [==============================] - 1s 151us/sample - loss: 1.1149 - accuracy: 0.2460 - val_loss: 1.6729 - val_accuracy: 0.4708\n",
      "Epoch 80/100\n",
      "4041/4041 [==============================] - 1s 151us/sample - loss: 1.1374 - accuracy: 0.2499 - val_loss: 1.6885 - val_accuracy: 0.4718\n",
      "Epoch 81/100\n",
      "4041/4041 [==============================] - 1s 150us/sample - loss: 1.1021 - accuracy: 0.2601 - val_loss: 1.7335 - val_accuracy: 0.4955\n",
      "Epoch 82/100\n",
      "4041/4041 [==============================] - 1s 149us/sample - loss: 1.1109 - accuracy: 0.2329 - val_loss: 1.7410 - val_accuracy: 0.4837\n",
      "Epoch 83/100\n",
      "4041/4041 [==============================] - 1s 150us/sample - loss: 1.1453 - accuracy: 0.2390 - val_loss: 1.8475 - val_accuracy: 0.4748\n",
      "Epoch 84/100\n",
      "4041/4041 [==============================] - 1s 146us/sample - loss: 1.1272 - accuracy: 0.2460 - val_loss: 1.7982 - val_accuracy: 0.4777\n",
      "Epoch 85/100\n",
      "4041/4041 [==============================] - 1s 150us/sample - loss: 1.1370 - accuracy: 0.2395 - val_loss: 1.7688 - val_accuracy: 0.4580\n",
      "Epoch 86/100\n",
      "4041/4041 [==============================] - 1s 151us/sample - loss: 1.1341 - accuracy: 0.2509 - val_loss: 1.7148 - val_accuracy: 0.4263\n",
      "Epoch 87/100\n",
      "4041/4041 [==============================] - 1s 151us/sample - loss: 1.1404 - accuracy: 0.2690 - val_loss: 1.7634 - val_accuracy: 0.4263\n",
      "Epoch 88/100\n",
      "4041/4041 [==============================] - 1s 150us/sample - loss: 1.1085 - accuracy: 0.2801 - val_loss: 1.7230 - val_accuracy: 0.4570\n",
      "Epoch 89/100\n",
      "4041/4041 [==============================] - 1s 148us/sample - loss: 1.0847 - accuracy: 0.2903 - val_loss: 1.7601 - val_accuracy: 0.4431\n",
      "Epoch 90/100\n",
      "4041/4041 [==============================] - 1s 150us/sample - loss: 1.1427 - accuracy: 0.2799 - val_loss: 1.8281 - val_accuracy: 0.4679\n",
      "Epoch 91/100\n",
      "4041/4041 [==============================] - 1s 147us/sample - loss: 1.1426 - accuracy: 0.2460 - val_loss: 1.8397 - val_accuracy: 0.5025\n",
      "Epoch 92/100\n",
      "4041/4041 [==============================] - 1s 150us/sample - loss: 1.1490 - accuracy: 0.2566 - val_loss: 1.8910 - val_accuracy: 0.3976\n",
      "Epoch 93/100\n",
      "4041/4041 [==============================] - 1s 151us/sample - loss: 1.1211 - accuracy: 0.2779 - val_loss: 1.8799 - val_accuracy: 0.4451\n",
      "Epoch 94/100\n",
      "4041/4041 [==============================] - 1s 147us/sample - loss: 1.1561 - accuracy: 0.2910 - val_loss: 2.4981 - val_accuracy: 0.5727\n",
      "Epoch 95/100\n",
      "4041/4041 [==============================] - 1s 150us/sample - loss: 1.1465 - accuracy: 0.2856 - val_loss: 1.7997 - val_accuracy: 0.4500\n",
      "Epoch 96/100\n",
      "4041/4041 [==============================] - 1s 150us/sample - loss: 1.1641 - accuracy: 0.2554 - val_loss: 1.7258 - val_accuracy: 0.5321\n",
      "Epoch 97/100\n",
      "4041/4041 [==============================] - 1s 150us/sample - loss: 1.1612 - accuracy: 0.2108 - val_loss: 1.8385 - val_accuracy: 0.5262\n",
      "Epoch 98/100\n",
      "4041/4041 [==============================] - 1s 150us/sample - loss: 1.1433 - accuracy: 0.1972 - val_loss: 1.8200 - val_accuracy: 0.5302\n",
      "Epoch 99/100\n",
      "4041/4041 [==============================] - 1s 150us/sample - loss: 1.1528 - accuracy: 0.2155 - val_loss: 1.7528 - val_accuracy: 0.5262\n",
      "Epoch 100/100\n",
      "4041/4041 [==============================] - 1s 149us/sample - loss: 1.1770 - accuracy: 0.2329 - val_loss: 1.8178 - val_accuracy: 0.5252\n"
     ]
    }
   ],
   "source": [
    "history=model.fit(xtrain, np_utils.to_categorical( ytrain.to_numpy()), \n",
    "                  epochs=100, batch_size=10,validation_split=.2)"
   ]
  },
  {
   "cell_type": "code",
   "execution_count": 59,
   "metadata": {},
   "outputs": [
    {
     "data": {
      "image/png": "[encoded data removed]",
      "text/plain": [
       "<Figure size 432x288 with 1 Axes>"
      ]
     },
     "metadata": {
      "needs_background": "light"
     },
     "output_type": "display_data"
    },
    {
     "data": {
      "image/png": "[encoded data removed]",
      "text/plain": [
       "<Figure size 432x288 with 1 Axes>"
      ]
     },
     "metadata": {
      "needs_background": "light"
     },
     "output_type": "display_data"
    }
   ],
   "source": [
    "# summarize history for accuracy\n",
    "plt.plot(history.history['accuracy'])\n",
    "plt.plot(history.history['val_accuracy'])\n",
    "plt.title('model accuracy')\n",
    "plt.ylabel('accuracy')\n",
    "plt.xlabel('epoch')\n",
    "plt.legend(['train', 'test'], loc='upper left')\n",
    "plt.show()\n",
    "# summarize history for loss\n",
    "plt.plot(history.history['loss'])\n",
    "plt.plot(history.history['val_loss'])\n",
    "plt.title('model loss')\n",
    "plt.ylabel('loss')\n",
    "plt.xlabel('epoch')\n",
    "plt.legend(['train', 'test'], loc='upper left')\n",
    "plt.show()"
   ]
  },
  {
   "cell_type": "code",
   "execution_count": null,
   "metadata": {},
   "outputs": [],
   "source": []
  },
  {
   "cell_type": "code",
   "execution_count": null,
   "metadata": {},
   "outputs": [],
   "source": []
  },
  {
   "cell_type": "code",
   "execution_count": 29,
   "metadata": {},
   "outputs": [
    {
     "name": "stdout",
     "output_type": "stream",
     "text": [
      "0.7070063694267515\n"
     ]
    },
    {
     "data": {
      "text/html": [
       "<div>\n",
       "<style scoped>\n",
       "    .dataframe tbody tr th:only-of-type {\n",
       "        vertical-align: middle;\n",
       "    }\n",
       "\n",
       "    .dataframe tbody tr th {\n",
       "        vertical-align: top;\n",
       "    }\n",
       "\n",
       "    .dataframe thead th {\n",
       "        text-align: right;\n",
       "    }\n",
       "</style>\n",
       "<table border=\"1\" class=\"dataframe\">\n",
       "  <thead>\n",
       "    <tr style=\"text-align: right;\">\n",
       "      <th></th>\n",
       "      <th>0</th>\n",
       "      <th>1</th>\n",
       "      <th>2</th>\n",
       "    </tr>\n",
       "  </thead>\n",
       "  <tbody>\n",
       "    <tr>\n",
       "      <th>0</th>\n",
       "      <td>110</td>\n",
       "      <td>45</td>\n",
       "      <td>2</td>\n",
       "    </tr>\n",
       "    <tr>\n",
       "      <th>1</th>\n",
       "      <td>48</td>\n",
       "      <td>101</td>\n",
       "      <td>8</td>\n",
       "    </tr>\n",
       "    <tr>\n",
       "      <th>2</th>\n",
       "      <td>3</td>\n",
       "      <td>32</td>\n",
       "      <td>122</td>\n",
       "    </tr>\n",
       "  </tbody>\n",
       "</table>\n",
       "</div>"
      ],
      "text/plain": [
       "     0    1    2\n",
       "0  110   45    2\n",
       "1   48  101    8\n",
       "2    3   32  122"
      ]
     },
     "execution_count": 29,
     "metadata": {},
     "output_type": "execute_result"
    }
   ],
   "source": [
    "# =====================================\n",
    "\n",
    "tempdata=data5\n",
    "\n",
    "diabetic = tempdata[tempdata.CLASS == 2]\n",
    "prediabetic = tempdata[tempdata.CLASS == 1].sample(diabetic.shape[0],random_state=0)\n",
    "normal = tempdata[tempdata.CLASS == 0].sample(diabetic.shape[0],random_state=0)\n",
    "\n",
    "tempdata5=pd.concat([diabetic,prediabetic,normal])\n",
    "tempdata5.iloc[:, 3:-2]=scaler.transform(tempdata5.iloc[:, 3:-2])\n",
    "\n",
    "pred5 = rf.predict((tempdata5.iloc[:, 3:-2]))\n",
    "print(m.accuracy_score(tempdata5.iloc[:, -1], pred5))\n",
    "\n",
    "confmatrx = pd.DataFrame(m.confusion_matrix(tempdata5.iloc[:, -1], pred5))\n",
    "confmatrx"
   ]
  },
  {
   "cell_type": "code",
   "execution_count": 30,
   "metadata": {},
   "outputs": [
    {
     "name": "stdout",
     "output_type": "stream",
     "text": [
      "              precision    recall  f1-score   support\n",
      "\n",
      "           0       0.68      0.70      0.69       157\n",
      "           1       0.57      0.64      0.60       157\n",
      "           2       0.92      0.78      0.84       157\n",
      "\n",
      "    accuracy                           0.71       471\n",
      "   macro avg       0.72      0.71      0.71       471\n",
      "weighted avg       0.72      0.71      0.71       471\n",
      "\n"
     ]
    }
   ],
   "source": [
    "print(classification_report(tempdata5.iloc[:, -1], pred5))"
   ]
  },
  {
   "cell_type": "code",
   "execution_count": null,
   "metadata": {},
   "outputs": [],
   "source": [
    "#xgboost test"
   ]
  },
  {
   "cell_type": "code",
   "execution_count": 16,
   "metadata": {},
   "outputs": [
    {
     "name": "stdout",
     "output_type": "stream",
     "text": [
      "0.6963906581740976\n"
     ]
    },
    {
     "data": {
      "text/html": [
       "<div>\n",
       "<style scoped>\n",
       "    .dataframe tbody tr th:only-of-type {\n",
       "        vertical-align: middle;\n",
       "    }\n",
       "\n",
       "    .dataframe tbody tr th {\n",
       "        vertical-align: top;\n",
       "    }\n",
       "\n",
       "    .dataframe thead th {\n",
       "        text-align: right;\n",
       "    }\n",
       "</style>\n",
       "<table border=\"1\" class=\"dataframe\">\n",
       "  <thead>\n",
       "    <tr style=\"text-align: right;\">\n",
       "      <th></th>\n",
       "      <th>0</th>\n",
       "      <th>1</th>\n",
       "      <th>2</th>\n",
       "    </tr>\n",
       "  </thead>\n",
       "  <tbody>\n",
       "    <tr>\n",
       "      <th>0</th>\n",
       "      <td>109</td>\n",
       "      <td>46</td>\n",
       "      <td>2</td>\n",
       "    </tr>\n",
       "    <tr>\n",
       "      <th>1</th>\n",
       "      <td>52</td>\n",
       "      <td>97</td>\n",
       "      <td>8</td>\n",
       "    </tr>\n",
       "    <tr>\n",
       "      <th>2</th>\n",
       "      <td>2</td>\n",
       "      <td>33</td>\n",
       "      <td>122</td>\n",
       "    </tr>\n",
       "  </tbody>\n",
       "</table>\n",
       "</div>"
      ],
      "text/plain": [
       "     0   1    2\n",
       "0  109  46    2\n",
       "1   52  97    8\n",
       "2    2  33  122"
      ]
     },
     "execution_count": 16,
     "metadata": {},
     "output_type": "execute_result"
    }
   ],
   "source": [
    "tempdata5Rcolumns=tempdata5.iloc[:, 3:-2]\n",
    "tempdata5Rcolumns.columns=['f0', 'f1', 'f2', 'f3', 'f4', 'f5', 'f6', 'f7', 'f8', 'f9', 'f10']\n",
    "pred5 = xgb_model.predict((tempdata5Rcolumns))\n",
    "print(m.accuracy_score(tempdata5.iloc[:, -1], pred5))\n",
    "\n",
    "confmatrx = pd.DataFrame(m.confusion_matrix(tempdata5.iloc[:, -1], pred5))\n",
    "confmatrx"
   ]
  },
  {
   "cell_type": "code",
   "execution_count": 17,
   "metadata": {},
   "outputs": [
    {
     "name": "stdout",
     "output_type": "stream",
     "text": [
      "              precision    recall  f1-score   support\n",
      "\n",
      "           0       0.67      0.69      0.68       157\n",
      "           1       0.55      0.62      0.58       157\n",
      "           2       0.92      0.78      0.84       157\n",
      "\n",
      "    accuracy                           0.70       471\n",
      "   macro avg       0.71      0.70      0.70       471\n",
      "weighted avg       0.71      0.70      0.70       471\n",
      "\n"
     ]
    }
   ],
   "source": [
    "print(classification_report(tempdata5.iloc[:, -1], pred5))\n"
   ]
  },
  {
   "cell_type": "code",
   "execution_count": null,
   "metadata": {},
   "outputs": [],
   "source": [
    "#SVC"
   ]
  },
  {
   "cell_type": "code",
   "execution_count": 58,
   "metadata": {},
   "outputs": [
    {
     "name": "stdout",
     "output_type": "stream",
     "text": [
      "0.6985138004246284\n"
     ]
    },
    {
     "data": {
      "text/html": [
       "<div>\n",
       "<style scoped>\n",
       "    .dataframe tbody tr th:only-of-type {\n",
       "        vertical-align: middle;\n",
       "    }\n",
       "\n",
       "    .dataframe tbody tr th {\n",
       "        vertical-align: top;\n",
       "    }\n",
       "\n",
       "    .dataframe thead th {\n",
       "        text-align: right;\n",
       "    }\n",
       "</style>\n",
       "<table border=\"1\" class=\"dataframe\">\n",
       "  <thead>\n",
       "    <tr style=\"text-align: right;\">\n",
       "      <th></th>\n",
       "      <th>0</th>\n",
       "      <th>1</th>\n",
       "      <th>2</th>\n",
       "    </tr>\n",
       "  </thead>\n",
       "  <tbody>\n",
       "    <tr>\n",
       "      <th>0</th>\n",
       "      <td>108</td>\n",
       "      <td>48</td>\n",
       "      <td>1</td>\n",
       "    </tr>\n",
       "    <tr>\n",
       "      <th>1</th>\n",
       "      <td>50</td>\n",
       "      <td>103</td>\n",
       "      <td>4</td>\n",
       "    </tr>\n",
       "    <tr>\n",
       "      <th>2</th>\n",
       "      <td>3</td>\n",
       "      <td>36</td>\n",
       "      <td>118</td>\n",
       "    </tr>\n",
       "  </tbody>\n",
       "</table>\n",
       "</div>"
      ],
      "text/plain": [
       "     0    1    2\n",
       "0  108   48    1\n",
       "1   50  103    4\n",
       "2    3   36  118"
      ]
     },
     "execution_count": 58,
     "metadata": {},
     "output_type": "execute_result"
    }
   ],
   "source": [
    "pred5 = SVC_clf.predict((tempdata5.iloc[:, 3:-2]))\n",
    "print(m.accuracy_score(tempdata5.iloc[:, -1], pred5))\n",
    "\n",
    "confmatrx = pd.DataFrame(m.confusion_matrix(tempdata5.iloc[:, -1], pred5))\n",
    "confmatrx"
   ]
  },
  {
   "cell_type": "code",
   "execution_count": 59,
   "metadata": {},
   "outputs": [
    {
     "name": "stdout",
     "output_type": "stream",
     "text": [
      "              precision    recall  f1-score   support\n",
      "\n",
      "           0       0.67      0.69      0.68       157\n",
      "           1       0.55      0.66      0.60       157\n",
      "           2       0.96      0.75      0.84       157\n",
      "\n",
      "    accuracy                           0.70       471\n",
      "   macro avg       0.73      0.70      0.71       471\n",
      "weighted avg       0.73      0.70      0.71       471\n",
      "\n"
     ]
    }
   ],
   "source": [
    "print(classification_report(tempdata5.iloc[:, -1], pred5))"
   ]
  },
  {
   "cell_type": "code",
   "execution_count": null,
   "metadata": {},
   "outputs": [],
   "source": []
  },
  {
   "cell_type": "code",
   "execution_count": null,
   "metadata": {},
   "outputs": [],
   "source": [
    "# ========================================================"
   ]
  },
  {
   "cell_type": "code",
   "execution_count": null,
   "metadata": {},
   "outputs": [],
   "source": [
    "# import pickle\n",
    "\n",
    "# with open('_DiabeticClassifierModelForNextYear_rf_model', 'wb') as f:\n",
    "#     pickle.dump(rf, f)"
   ]
  },
  {
   "cell_type": "code",
   "execution_count": 31,
   "metadata": {},
   "outputs": [],
   "source": [
    "# with open('_DiabeticClassifierModelForNextYear_scaler', 'wb') as f:\n",
    "#     pickle.dump(scaler, f)"
   ]
  },
  {
   "cell_type": "code",
   "execution_count": null,
   "metadata": {},
   "outputs": [],
   "source": []
  }
 ],
 "metadata": {
  "kernelspec": {
   "display_name": "Python 3",
   "language": "python",
   "name": "python3"
  },
  "language_info": {
   "codemirror_mode": {
    "name": "ipython",
    "version": 3
   },
   "file_extension": ".py",
   "mimetype": "text/x-python",
   "name": "python",
   "nbconvert_exporter": "python",
   "pygments_lexer": "ipython3",
   "version": "3.7.3"
  }
 },
 "nbformat": 4,
 "nbformat_minor": 2
}

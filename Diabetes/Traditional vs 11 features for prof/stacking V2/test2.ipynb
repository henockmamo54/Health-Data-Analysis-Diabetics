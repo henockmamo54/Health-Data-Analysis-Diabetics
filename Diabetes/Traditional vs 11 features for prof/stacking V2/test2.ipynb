{
 "cells": [
  {
   "cell_type": "code",
   "execution_count": 1,
   "metadata": {},
   "outputs": [
    {
     "name": "stderr",
     "output_type": "stream",
     "text": [
      "Using TensorFlow backend.\n"
     ]
    }
   ],
   "source": [
    "import pandas as pd\n",
    "import numpy as np\n",
    "import warnings\n",
    "from matplotlib import pyplot as plt\n",
    "from sklearn import metrics as m\n",
    "from sklearn.datasets import make_classification\n",
    "from imblearn.over_sampling import SMOTE  # doctest: +NORMALIZE_WHITESPACE\n",
    "from sklearn.metrics import confusion_matrix\n",
    "from sklearn.metrics import classification_report\n",
    "from sklearn.model_selection import train_test_split\n",
    "from collections import Counter\n",
    "from sklearn.model_selection import GridSearchCV\n",
    "from sklearn.ensemble import RandomForestClassifier\n",
    "from sklearn import model_selection\n",
    "from sklearn.metrics import classification_report\n",
    "import xgboost as xgb\n",
    "from sklearn.utils import shuffle\n",
    "from sklearn.svm import SVC\n",
    "from sklearn.model_selection import GridSearchCV\n",
    "from sklearn.linear_model import LogisticRegression\n",
    "from sklearn.neighbors import KNeighborsClassifier\n",
    "from mlxtend.classifier import StackingClassifier\n",
    "import itertools\n",
    "from sklearn.pipeline import make_pipeline\n",
    "from mlxtend.feature_selection import ColumnSelector\n",
    "from mlxtend.classifier import StackingCVClassifier\n",
    "\n",
    "\n",
    "\n",
    "warnings.filterwarnings(\"ignore\")\n",
    "randomseed = 7"
   ]
  },
  {
   "cell_type": "code",
   "execution_count": 2,
   "metadata": {},
   "outputs": [],
   "source": [
    "x_original = pd.read_csv(\"../../../XLable_onlyDiabeticRemoved.txt\")\n",
    "\n",
    "conditions = [\n",
    "    (x_original.L100800 < 100),\n",
    "    (x_original.L100800 >= 100) & (x_original.L100800 < 126),\n",
    "    (x_original.L100800 >= 126),\n",
    "]\n",
    "choices = [0, 1, 2]\n",
    "x_original[\"CLASS\"] = np.select(conditions, choices, default=0)\n",
    "x_original=x_original [['Unnamed: 0','L100800','L104600','L103000','S000300','L101700','L100700','FIELD_33',\n",
    "                       'FIELD_38','FIELD_40','FIELD_31','SEX','AGE',#'CLASS',\n",
    "                       'FIELD_16','FIELD_23','FIELD_15','FIELD_22','FIELD_17','FIELD_24'\n",
    "                       ]]"
   ]
  },
  {
   "cell_type": "code",
   "execution_count": 3,
   "metadata": {},
   "outputs": [],
   "source": [
    "y_original = pd.read_csv(\"../../../TargetLable_onlyDiabeticRemoved.txt\")\n",
    "\n",
    "conditions = [\n",
    "    (y_original.L100800 < 100),\n",
    "    (y_original.L100800 >= 100) & (y_original.L100800 < 126),\n",
    "    (y_original.L100800 >= 126),\n",
    "]\n",
    "\n",
    "choices = [0, 1, 2]\n",
    "y_original[\"CLASS\"] = np.select(conditions, choices, default=0)\n",
    "\n",
    "y_original=y_original[['Unnamed: 0','CLASS' ]]"
   ]
  },
  {
   "cell_type": "code",
   "execution_count": 4,
   "metadata": {},
   "outputs": [],
   "source": [
    "data = pd.merge(\n",
    "    x_original, y_original, how=\"inner\", left_on=\"Unnamed: 0\", right_on=\"Unnamed: 0\"\n",
    ")"
   ]
  },
  {
   "cell_type": "code",
   "execution_count": 5,
   "metadata": {},
   "outputs": [
    {
     "name": "stdout",
     "output_type": "stream",
     "text": [
      "(169024, 20)\n"
     ]
    }
   ],
   "source": [
    "# filter the data set\n",
    "data = data[data.FIELD_16 != 1]  # exclude people who are diagnosed for (diabetes)\n",
    "data = data[data.FIELD_23 != 1]  # exclude people who are on medication for diabetes\n",
    "\n",
    "data = data[\n",
    "    data.FIELD_15 != 1\n",
    "]  # exclude people who are diagnosed for (high blood pressure)\n",
    "data = data[\n",
    "    data.FIELD_22 != 1\n",
    "]  # exclude people who are on medication for high blood pressure\n",
    "\n",
    "data = data[data.FIELD_17 != 1]  # exclude people who are diagnosed for hyperlipidemia\n",
    "data = data[\n",
    "    data.FIELD_24 != 1\n",
    "]  # exclude people who are on medication for hyperlipidemia\n",
    "\n",
    "\n",
    "print(data.shape)"
   ]
  },
  {
   "cell_type": "code",
   "execution_count": 6,
   "metadata": {},
   "outputs": [
    {
     "name": "stdout",
     "output_type": "stream",
     "text": [
      "(56542, 13)\n"
     ]
    },
    {
     "data": {
      "text/html": [
       "<div>\n",
       "<style scoped>\n",
       "    .dataframe tbody tr th:only-of-type {\n",
       "        vertical-align: middle;\n",
       "    }\n",
       "\n",
       "    .dataframe tbody tr th {\n",
       "        vertical-align: top;\n",
       "    }\n",
       "\n",
       "    .dataframe thead th {\n",
       "        text-align: right;\n",
       "    }\n",
       "</style>\n",
       "<table border=\"1\" class=\"dataframe\">\n",
       "  <thead>\n",
       "    <tr style=\"text-align: right;\">\n",
       "      <th></th>\n",
       "      <th>L100800</th>\n",
       "      <th>L104600</th>\n",
       "      <th>L103000</th>\n",
       "      <th>S000300</th>\n",
       "      <th>L101700</th>\n",
       "      <th>L100700</th>\n",
       "      <th>FIELD_33</th>\n",
       "      <th>FIELD_38</th>\n",
       "      <th>FIELD_40</th>\n",
       "      <th>FIELD_31</th>\n",
       "      <th>SEX</th>\n",
       "      <th>AGE</th>\n",
       "      <th>CLASS</th>\n",
       "    </tr>\n",
       "  </thead>\n",
       "  <tbody>\n",
       "    <tr>\n",
       "      <th>2</th>\n",
       "      <td>78.0</td>\n",
       "      <td>5.28</td>\n",
       "      <td>41.0</td>\n",
       "      <td>20.2</td>\n",
       "      <td>15.0</td>\n",
       "      <td>3.8</td>\n",
       "      <td>1.0</td>\n",
       "      <td>2.0</td>\n",
       "      <td>1.0</td>\n",
       "      <td>0.0</td>\n",
       "      <td>1.0</td>\n",
       "      <td>46.0</td>\n",
       "      <td>0</td>\n",
       "    </tr>\n",
       "    <tr>\n",
       "      <th>5</th>\n",
       "      <td>90.0</td>\n",
       "      <td>5.74</td>\n",
       "      <td>50.0</td>\n",
       "      <td>25.5</td>\n",
       "      <td>12.0</td>\n",
       "      <td>3.4</td>\n",
       "      <td>1.0</td>\n",
       "      <td>0.0</td>\n",
       "      <td>1.0</td>\n",
       "      <td>0.0</td>\n",
       "      <td>1.0</td>\n",
       "      <td>52.0</td>\n",
       "      <td>0</td>\n",
       "    </tr>\n",
       "    <tr>\n",
       "      <th>10</th>\n",
       "      <td>86.0</td>\n",
       "      <td>5.83</td>\n",
       "      <td>45.0</td>\n",
       "      <td>21.2</td>\n",
       "      <td>17.0</td>\n",
       "      <td>3.9</td>\n",
       "      <td>1.0</td>\n",
       "      <td>0.0</td>\n",
       "      <td>1.0</td>\n",
       "      <td>1.0</td>\n",
       "      <td>1.0</td>\n",
       "      <td>37.0</td>\n",
       "      <td>0</td>\n",
       "    </tr>\n",
       "    <tr>\n",
       "      <th>11</th>\n",
       "      <td>86.0</td>\n",
       "      <td>4.73</td>\n",
       "      <td>54.0</td>\n",
       "      <td>22.0</td>\n",
       "      <td>30.0</td>\n",
       "      <td>4.2</td>\n",
       "      <td>1.0</td>\n",
       "      <td>2.0</td>\n",
       "      <td>3.0</td>\n",
       "      <td>0.0</td>\n",
       "      <td>1.0</td>\n",
       "      <td>39.0</td>\n",
       "      <td>0</td>\n",
       "    </tr>\n",
       "    <tr>\n",
       "      <th>20</th>\n",
       "      <td>87.0</td>\n",
       "      <td>5.60</td>\n",
       "      <td>340.0</td>\n",
       "      <td>24.6</td>\n",
       "      <td>26.0</td>\n",
       "      <td>4.7</td>\n",
       "      <td>1.0</td>\n",
       "      <td>0.0</td>\n",
       "      <td>2.0</td>\n",
       "      <td>0.0</td>\n",
       "      <td>1.0</td>\n",
       "      <td>59.0</td>\n",
       "      <td>0</td>\n",
       "    </tr>\n",
       "  </tbody>\n",
       "</table>\n",
       "</div>"
      ],
      "text/plain": [
       "    L100800  L104600  L103000  S000300  L101700  L100700  FIELD_33  FIELD_38  \\\n",
       "2      78.0     5.28     41.0     20.2     15.0      3.8       1.0       2.0   \n",
       "5      90.0     5.74     50.0     25.5     12.0      3.4       1.0       0.0   \n",
       "10     86.0     5.83     45.0     21.2     17.0      3.9       1.0       0.0   \n",
       "11     86.0     4.73     54.0     22.0     30.0      4.2       1.0       2.0   \n",
       "20     87.0     5.60    340.0     24.6     26.0      4.7       1.0       0.0   \n",
       "\n",
       "    FIELD_40  FIELD_31  SEX   AGE  CLASS  \n",
       "2        1.0       0.0  1.0  46.0      0  \n",
       "5        1.0       0.0  1.0  52.0      0  \n",
       "10       1.0       1.0  1.0  37.0      0  \n",
       "11       3.0       0.0  1.0  39.0      0  \n",
       "20       2.0       0.0  1.0  59.0      0  "
      ]
     },
     "execution_count": 6,
     "metadata": {},
     "output_type": "execute_result"
    }
   ],
   "source": [
    "data=data[['L100800','L104600', 'L103000', 'S000300', 'L101700', 'L100700',\n",
    "       'FIELD_33', 'FIELD_38', 'FIELD_40', 'FIELD_31', 'SEX', 'AGE','CLASS']]\n",
    "data=data.dropna()\n",
    "print(data.shape)\n",
    "data.head()"
   ]
  },
  {
   "cell_type": "code",
   "execution_count": 7,
   "metadata": {},
   "outputs": [
    {
     "name": "stdout",
     "output_type": "stream",
     "text": [
      "1045 17331 38166\n"
     ]
    }
   ],
   "source": [
    "diabetic = data[data.CLASS == 2]\n",
    "prediabetic = data[data.CLASS == 1]\n",
    "normal = data[data.CLASS == 0]\n",
    "\n",
    "print(diabetic.shape[0], prediabetic.shape[0], normal.shape[0])"
   ]
  },
  {
   "cell_type": "code",
   "execution_count": 8,
   "metadata": {},
   "outputs": [],
   "source": [
    "diabetic_test = diabetic.sample(200, random_state=randomseed)\n",
    "prediabetic_test = prediabetic.sample(200, random_state=randomseed)\n",
    "normal_test = normal.sample(200, random_state=randomseed)\n",
    "test = pd.concat([diabetic_test, prediabetic_test, normal_test])\n",
    "\n",
    "diabetic_train = diabetic.drop(diabetic_test.index)\n",
    "prediabetic_train = prediabetic.drop(prediabetic_test.index)\n",
    "# .sample(\n",
    "#     10 * diabetic_train.shape[0], random_state=randomseed\n",
    "# )\n",
    "normal_train = normal.drop(normal_test.index).sample(\n",
    "    prediabetic_train.shape[0]\n",
    "#     10 * diabetic_train.shape[0], random_state=randomseed\n",
    ")\n",
    "train = pd.concat([diabetic_train, diabetic_train, prediabetic_train, normal_train])"
   ]
  },
  {
   "cell_type": "code",
   "execution_count": 9,
   "metadata": {},
   "outputs": [],
   "source": [
    "\n",
    "xtrain = train.iloc[:, :-1]\n",
    "ytrain = train.iloc[:, -1]\n",
    "xtest = test.iloc[:, :-1]\n",
    "ytest = test.iloc[:, -1]\n",
    "\n"
   ]
  },
  {
   "cell_type": "code",
   "execution_count": 10,
   "metadata": {},
   "outputs": [],
   "source": [
    "from sklearn.preprocessing import MinMaxScaler \n",
    "scaler = MinMaxScaler()\n",
    "xtrain=scaler.fit_transform(xtrain)\n",
    "xtest=scaler.transform(xtest)\n"
   ]
  },
  {
   "cell_type": "code",
   "execution_count": 11,
   "metadata": {},
   "outputs": [
    {
     "name": "stdout",
     "output_type": "stream",
     "text": [
      "Resampled dataset shape Counter({2: 17131, 1: 17131, 0: 17131})\n",
      "17131 17131 17131\n",
      "(51393, 12) (51393,)\n"
     ]
    }
   ],
   "source": [
    "from imblearn.over_sampling import SMOTE,SMOTENC  # doctest: +NORMALIZE_WHITESPACE\n",
    "randomseed=42\n",
    "\n",
    "sm = SMOTENC(random_state=randomseed,categorical_features=[6,7,8,9,10],sampling_strategy='minority')\n",
    "X_res, y_res = sm.fit_resample(xtrain, ytrain)\n",
    "\n",
    "print(\"Resampled dataset shape %s\" % Counter(y_res))\n",
    "print(\n",
    "    y_res[y_res == 0].shape[0], y_res[y_res == 1].shape[0], y_res[y_res == 2].shape[0]\n",
    ")\n",
    "print(X_res.shape, y_res.shape)\n",
    "\n",
    "xtrain = X_res\n",
    "ytrain = y_res\n"
   ]
  },
  {
   "cell_type": "code",
   "execution_count": null,
   "metadata": {},
   "outputs": [],
   "source": []
  },
  {
   "cell_type": "code",
   "execution_count": 31,
   "metadata": {},
   "outputs": [],
   "source": [
    "rf_5 = RandomForestClassifier(\n",
    "    random_state=randomseed,\n",
    "    n_estimators=100, \n",
    "    max_depth=12,\n",
    "    min_samples_split=3,\n",
    "    min_samples_leaf=10,\n",
    "    max_features=\"auto\",\n",
    ")"
   ]
  },
  {
   "cell_type": "code",
   "execution_count": 76,
   "metadata": {},
   "outputs": [],
   "source": [
    "SVC_clf_5=SVC(C=70, cache_size=200, class_weight=None, coef0=0.0,\n",
    "    decision_function_shape='ovr', degree=3, gamma='auto_deprecated',\n",
    "    kernel='linear', max_iter=-1, probability=False, random_state=None,\n",
    "    shrinking=True, tol=0.001, verbose=False)"
   ]
  },
  {
   "cell_type": "code",
   "execution_count": 33,
   "metadata": {},
   "outputs": [],
   "source": [
    "lr_5=LogisticRegression(random_state=0) "
   ]
  },
  {
   "cell_type": "code",
   "execution_count": 34,
   "metadata": {},
   "outputs": [],
   "source": [
    "xgb_model_5 = xgb.XGBClassifier(objective=\"multi:softmax\", random_state=randomseed)"
   ]
  },
  {
   "cell_type": "code",
   "execution_count": 92,
   "metadata": {},
   "outputs": [],
   "source": [
    "model=make_pipeline(ColumnSelector(cols=(0, 1, 8, 9, 10)), SVC_clf_5 )"
   ]
  },
  {
   "cell_type": "code",
   "execution_count": null,
   "metadata": {},
   "outputs": [],
   "source": []
  },
  {
   "cell_type": "code",
   "execution_count": 54,
   "metadata": {},
   "outputs": [],
   "source": [
    "from sklearn.model_selection import RandomizedSearchCV"
   ]
  },
  {
   "cell_type": "code",
   "execution_count": null,
   "metadata": {},
   "outputs": [],
   "source": []
  },
  {
   "cell_type": "code",
   "execution_count": 64,
   "metadata": {
    "scrolled": true
   },
   "outputs": [
    {
     "name": "stdout",
     "output_type": "stream",
     "text": [
      "Fitting 5 folds for each of 10 candidates, totalling 50 fits\n",
      "[CV] svc__kernel=rbf, svc__gamma=0.001, svc__C=10 ....................\n"
     ]
    },
    {
     "name": "stderr",
     "output_type": "stream",
     "text": [
      "[Parallel(n_jobs=1)]: Using backend SequentialBackend with 1 concurrent workers.\n"
     ]
    },
    {
     "name": "stdout",
     "output_type": "stream",
     "text": [
      "[CV] ..... svc__kernel=rbf, svc__gamma=0.001, svc__C=10, total=  38.1s\n",
      "[CV] svc__kernel=rbf, svc__gamma=0.001, svc__C=10 ....................\n"
     ]
    },
    {
     "name": "stderr",
     "output_type": "stream",
     "text": [
      "[Parallel(n_jobs=1)]: Done   1 out of   1 | elapsed:   38.0s remaining:    0.0s\n"
     ]
    },
    {
     "name": "stdout",
     "output_type": "stream",
     "text": [
      "[CV] ..... svc__kernel=rbf, svc__gamma=0.001, svc__C=10, total=  38.1s\n",
      "[CV] svc__kernel=rbf, svc__gamma=0.001, svc__C=10 ....................\n",
      "[CV] ..... svc__kernel=rbf, svc__gamma=0.001, svc__C=10, total=  38.6s\n",
      "[CV] svc__kernel=rbf, svc__gamma=0.001, svc__C=10 ....................\n",
      "[CV] ..... svc__kernel=rbf, svc__gamma=0.001, svc__C=10, total=  38.5s\n",
      "[CV] svc__kernel=rbf, svc__gamma=0.001, svc__C=10 ....................\n",
      "[CV] ..... svc__kernel=rbf, svc__gamma=0.001, svc__C=10, total=  38.5s\n",
      "[CV] svc__kernel=linear, svc__gamma=1, svc__C=0.001 ..................\n",
      "[CV] ... svc__kernel=linear, svc__gamma=1, svc__C=0.001, total=  23.2s\n",
      "[CV] svc__kernel=linear, svc__gamma=1, svc__C=0.001 ..................\n",
      "[CV] ... svc__kernel=linear, svc__gamma=1, svc__C=0.001, total=  23.4s\n",
      "[CV] svc__kernel=linear, svc__gamma=1, svc__C=0.001 ..................\n",
      "[CV] ... svc__kernel=linear, svc__gamma=1, svc__C=0.001, total=  23.5s\n",
      "[CV] svc__kernel=linear, svc__gamma=1, svc__C=0.001 ..................\n",
      "[CV] ... svc__kernel=linear, svc__gamma=1, svc__C=0.001, total=  23.4s\n",
      "[CV] svc__kernel=linear, svc__gamma=1, svc__C=0.001 ..................\n",
      "[CV] ... svc__kernel=linear, svc__gamma=1, svc__C=0.001, total=  23.3s\n",
      "[CV] svc__kernel=linear, svc__gamma=0.001, svc__C=0.01 ...............\n",
      "[CV]  svc__kernel=linear, svc__gamma=0.001, svc__C=0.01, total=  20.3s\n",
      "[CV] svc__kernel=linear, svc__gamma=0.001, svc__C=0.01 ...............\n",
      "[CV]  svc__kernel=linear, svc__gamma=0.001, svc__C=0.01, total=  20.4s\n",
      "[CV] svc__kernel=linear, svc__gamma=0.001, svc__C=0.01 ...............\n",
      "[CV]  svc__kernel=linear, svc__gamma=0.001, svc__C=0.01, total=  20.4s\n",
      "[CV] svc__kernel=linear, svc__gamma=0.001, svc__C=0.01 ...............\n",
      "[CV]  svc__kernel=linear, svc__gamma=0.001, svc__C=0.01, total=  20.3s\n",
      "[CV] svc__kernel=linear, svc__gamma=0.001, svc__C=0.01 ...............\n",
      "[CV]  svc__kernel=linear, svc__gamma=0.001, svc__C=0.01, total=  20.3s\n",
      "[CV] svc__kernel=rbf, svc__gamma=1, svc__C=0.001 .....................\n",
      "[CV] ...... svc__kernel=rbf, svc__gamma=1, svc__C=0.001, total=  48.1s\n",
      "[CV] svc__kernel=rbf, svc__gamma=1, svc__C=0.001 .....................\n",
      "[CV] ...... svc__kernel=rbf, svc__gamma=1, svc__C=0.001, total=  48.2s\n",
      "[CV] svc__kernel=rbf, svc__gamma=1, svc__C=0.001 .....................\n",
      "[CV] ...... svc__kernel=rbf, svc__gamma=1, svc__C=0.001, total=  48.3s\n",
      "[CV] svc__kernel=rbf, svc__gamma=1, svc__C=0.001 .....................\n",
      "[CV] ...... svc__kernel=rbf, svc__gamma=1, svc__C=0.001, total=  48.3s\n",
      "[CV] svc__kernel=rbf, svc__gamma=1, svc__C=0.001 .....................\n",
      "[CV] ...... svc__kernel=rbf, svc__gamma=1, svc__C=0.001, total=  48.1s\n",
      "[CV] svc__kernel=rbf, svc__gamma=0.1, svc__C=1 .......................\n",
      "[CV] ........ svc__kernel=rbf, svc__gamma=0.1, svc__C=1, total=  29.0s\n",
      "[CV] svc__kernel=rbf, svc__gamma=0.1, svc__C=1 .......................\n",
      "[CV] ........ svc__kernel=rbf, svc__gamma=0.1, svc__C=1, total=  28.7s\n",
      "[CV] svc__kernel=rbf, svc__gamma=0.1, svc__C=1 .......................\n",
      "[CV] ........ svc__kernel=rbf, svc__gamma=0.1, svc__C=1, total=  28.8s\n",
      "[CV] svc__kernel=rbf, svc__gamma=0.1, svc__C=1 .......................\n",
      "[CV] ........ svc__kernel=rbf, svc__gamma=0.1, svc__C=1, total=  28.7s\n",
      "[CV] svc__kernel=rbf, svc__gamma=0.1, svc__C=1 .......................\n",
      "[CV] ........ svc__kernel=rbf, svc__gamma=0.1, svc__C=1, total=  28.8s\n",
      "[CV] svc__kernel=rbf, svc__gamma=0.1, svc__C=0.001 ...................\n",
      "[CV] .... svc__kernel=rbf, svc__gamma=0.1, svc__C=0.001, total=  52.8s\n",
      "[CV] svc__kernel=rbf, svc__gamma=0.1, svc__C=0.001 ...................\n",
      "[CV] .... svc__kernel=rbf, svc__gamma=0.1, svc__C=0.001, total=  52.6s\n",
      "[CV] svc__kernel=rbf, svc__gamma=0.1, svc__C=0.001 ...................\n",
      "[CV] .... svc__kernel=rbf, svc__gamma=0.1, svc__C=0.001, total=  52.8s\n",
      "[CV] svc__kernel=rbf, svc__gamma=0.1, svc__C=0.001 ...................\n",
      "[CV] .... svc__kernel=rbf, svc__gamma=0.1, svc__C=0.001, total=  52.7s\n",
      "[CV] svc__kernel=rbf, svc__gamma=0.1, svc__C=0.001 ...................\n",
      "[CV] .... svc__kernel=rbf, svc__gamma=0.1, svc__C=0.001, total=  52.4s\n",
      "[CV] svc__kernel=rbf, svc__gamma=0.001, svc__C=1 .....................\n",
      "[CV] ...... svc__kernel=rbf, svc__gamma=0.001, svc__C=1, total=  45.6s\n",
      "[CV] svc__kernel=rbf, svc__gamma=0.001, svc__C=1 .....................\n",
      "[CV] ...... svc__kernel=rbf, svc__gamma=0.001, svc__C=1, total=  45.8s\n",
      "[CV] svc__kernel=rbf, svc__gamma=0.001, svc__C=1 .....................\n",
      "[CV] ...... svc__kernel=rbf, svc__gamma=0.001, svc__C=1, total=  46.3s\n",
      "[CV] svc__kernel=rbf, svc__gamma=0.001, svc__C=1 .....................\n",
      "[CV] ...... svc__kernel=rbf, svc__gamma=0.001, svc__C=1, total=  46.0s\n",
      "[CV] svc__kernel=rbf, svc__gamma=0.001, svc__C=1 .....................\n",
      "[CV] ...... svc__kernel=rbf, svc__gamma=0.001, svc__C=1, total=  46.0s\n",
      "[CV] svc__kernel=rbf, svc__gamma=0.1, svc__C=0.1 .....................\n",
      "[CV] ...... svc__kernel=rbf, svc__gamma=0.1, svc__C=0.1, total=  37.4s\n",
      "[CV] svc__kernel=rbf, svc__gamma=0.1, svc__C=0.1 .....................\n",
      "[CV] ...... svc__kernel=rbf, svc__gamma=0.1, svc__C=0.1, total=  37.6s\n",
      "[CV] svc__kernel=rbf, svc__gamma=0.1, svc__C=0.1 .....................\n",
      "[CV] ...... svc__kernel=rbf, svc__gamma=0.1, svc__C=0.1, total=  37.4s\n",
      "[CV] svc__kernel=rbf, svc__gamma=0.1, svc__C=0.1 .....................\n",
      "[CV] ...... svc__kernel=rbf, svc__gamma=0.1, svc__C=0.1, total=  37.5s\n",
      "[CV] svc__kernel=rbf, svc__gamma=0.1, svc__C=0.1 .....................\n",
      "[CV] ...... svc__kernel=rbf, svc__gamma=0.1, svc__C=0.1, total=  37.5s\n",
      "[CV] svc__kernel=rbf, svc__gamma=0.01, svc__C=0.01 ...................\n",
      "[CV] .... svc__kernel=rbf, svc__gamma=0.01, svc__C=0.01, total=  52.7s\n",
      "[CV] svc__kernel=rbf, svc__gamma=0.01, svc__C=0.01 ...................\n",
      "[CV] .... svc__kernel=rbf, svc__gamma=0.01, svc__C=0.01, total=  52.7s\n",
      "[CV] svc__kernel=rbf, svc__gamma=0.01, svc__C=0.01 ...................\n",
      "[CV] .... svc__kernel=rbf, svc__gamma=0.01, svc__C=0.01, total=  52.6s\n",
      "[CV] svc__kernel=rbf, svc__gamma=0.01, svc__C=0.01 ...................\n",
      "[CV] .... svc__kernel=rbf, svc__gamma=0.01, svc__C=0.01, total=  52.8s\n",
      "[CV] svc__kernel=rbf, svc__gamma=0.01, svc__C=0.01 ...................\n",
      "[CV] .... svc__kernel=rbf, svc__gamma=0.01, svc__C=0.01, total=  52.8s\n",
      "[CV] svc__kernel=rbf, svc__gamma=1, svc__C=1 .........................\n",
      "[CV] .......... svc__kernel=rbf, svc__gamma=1, svc__C=1, total=  24.8s\n",
      "[CV] svc__kernel=rbf, svc__gamma=1, svc__C=1 .........................\n",
      "[CV] .......... svc__kernel=rbf, svc__gamma=1, svc__C=1, total=  25.3s\n",
      "[CV] svc__kernel=rbf, svc__gamma=1, svc__C=1 .........................\n",
      "[CV] .......... svc__kernel=rbf, svc__gamma=1, svc__C=1, total=  25.1s\n",
      "[CV] svc__kernel=rbf, svc__gamma=1, svc__C=1 .........................\n",
      "[CV] .......... svc__kernel=rbf, svc__gamma=1, svc__C=1, total=  25.1s\n",
      "[CV] svc__kernel=rbf, svc__gamma=1, svc__C=1 .........................\n",
      "[CV] .......... svc__kernel=rbf, svc__gamma=1, svc__C=1, total=  25.2s\n"
     ]
    },
    {
     "name": "stderr",
     "output_type": "stream",
     "text": [
      "[Parallel(n_jobs=1)]: Done  50 out of  50 | elapsed: 31.1min finished\n"
     ]
    },
    {
     "ename": "SyntaxError",
     "evalue": "'return' outside function (<ipython-input-64-538315104edc>, line 8)",
     "output_type": "error",
     "traceback": [
      "\u001b[1;36m  File \u001b[1;32m\"<ipython-input-64-538315104edc>\"\u001b[1;36m, line \u001b[1;32m8\u001b[0m\n\u001b[1;33m    return grid_search.best_params_\u001b[0m\n\u001b[1;37m                                   ^\u001b[0m\n\u001b[1;31mSyntaxError\u001b[0m\u001b[1;31m:\u001b[0m 'return' outside function\n"
     ]
    }
   ],
   "source": [
    "\n",
    "Cs = [0.001, 0.01, 0.1, 1, 10]\n",
    "gammas = [0.001, 0.01, 0.1, 1]\n",
    "param_grid = {'svc__C': Cs, 'svc__gamma' : gammas,'svc__kernel':('linear', 'rbf')}\n",
    "\n",
    "grid_search = RandomizedSearchCV(model, param_grid, cv=5, verbose=2)\n",
    "grid_search.fit(xtrain,ytrain)\n"
   ]
  },
  {
   "cell_type": "code",
   "execution_count": 75,
   "metadata": {},
   "outputs": [
    {
     "name": "stdout",
     "output_type": "stream",
     "text": [
      "{'svc__kernel': 'rbf', 'svc__gamma': 1, 'svc__C': 1}\n"
     ]
    },
    {
     "data": {
      "text/plain": [
       "Pipeline(memory=None,\n",
       "         steps=[('columnselector',\n",
       "                 ColumnSelector(cols=(0, 1, 8, 9, 10), drop_axis=False)),\n",
       "                ('svc',\n",
       "                 SVC(C=1, cache_size=200, class_weight=None, coef0=0.0,\n",
       "                     decision_function_shape='ovr', degree=3, gamma=1,\n",
       "                     kernel='rbf', max_iter=-1, probability=False,\n",
       "                     random_state=None, shrinking=True, tol=0.001,\n",
       "                     verbose=False))],\n",
       "         verbose=False)"
      ]
     },
     "execution_count": 75,
     "metadata": {},
     "output_type": "execute_result"
    }
   ],
   "source": [
    "print(grid_search.best_params_)\n",
    "grid_search.best_estimator_"
   ]
  },
  {
   "cell_type": "code",
   "execution_count": 91,
   "metadata": {},
   "outputs": [],
   "source": [
    "model=grid_search.best_estimator_\n",
    "model=SVC(C=70, cache_size=200, class_weight=None, coef0=0.0,\n",
    "                     decision_function_shape='ovr', degree=3, gamma=1,\n",
    "                     kernel='rbf', max_iter=-1, probability=False,\n",
    "                     random_state=None, shrinking=True, tol=0.001,\n",
    "                     verbose=False)"
   ]
  },
  {
   "cell_type": "code",
   "execution_count": null,
   "metadata": {},
   "outputs": [],
   "source": []
  },
  {
   "cell_type": "code",
   "execution_count": 93,
   "metadata": {},
   "outputs": [
    {
     "data": {
      "text/plain": [
       "Pipeline(memory=None,\n",
       "         steps=[('columnselector',\n",
       "                 ColumnSelector(cols=(0, 1, 8, 9, 10), drop_axis=False)),\n",
       "                ('svc',\n",
       "                 SVC(C=70, cache_size=200, class_weight=None, coef0=0.0,\n",
       "                     decision_function_shape='ovr', degree=3,\n",
       "                     gamma='auto_deprecated', kernel='linear', max_iter=-1,\n",
       "                     probability=False, random_state=None, shrinking=True,\n",
       "                     tol=0.001, verbose=False))],\n",
       "         verbose=False)"
      ]
     },
     "execution_count": 93,
     "metadata": {},
     "output_type": "execute_result"
    }
   ],
   "source": [
    "model.fit(xtrain,ytrain)"
   ]
  },
  {
   "cell_type": "code",
   "execution_count": 94,
   "metadata": {},
   "outputs": [
    {
     "name": "stdout",
     "output_type": "stream",
     "text": [
      "accuracy \t 0.755\n"
     ]
    },
    {
     "data": {
      "text/html": [
       "<div>\n",
       "<style scoped>\n",
       "    .dataframe tbody tr th:only-of-type {\n",
       "        vertical-align: middle;\n",
       "    }\n",
       "\n",
       "    .dataframe tbody tr th {\n",
       "        vertical-align: top;\n",
       "    }\n",
       "\n",
       "    .dataframe thead th {\n",
       "        text-align: right;\n",
       "    }\n",
       "</style>\n",
       "<table border=\"1\" class=\"dataframe\">\n",
       "  <thead>\n",
       "    <tr style=\"text-align: right;\">\n",
       "      <th></th>\n",
       "      <th>0</th>\n",
       "      <th>1</th>\n",
       "      <th>2</th>\n",
       "    </tr>\n",
       "  </thead>\n",
       "  <tbody>\n",
       "    <tr>\n",
       "      <th>0</th>\n",
       "      <td>154</td>\n",
       "      <td>45</td>\n",
       "      <td>1</td>\n",
       "    </tr>\n",
       "    <tr>\n",
       "      <th>1</th>\n",
       "      <td>48</td>\n",
       "      <td>125</td>\n",
       "      <td>27</td>\n",
       "    </tr>\n",
       "    <tr>\n",
       "      <th>2</th>\n",
       "      <td>3</td>\n",
       "      <td>23</td>\n",
       "      <td>174</td>\n",
       "    </tr>\n",
       "  </tbody>\n",
       "</table>\n",
       "</div>"
      ],
      "text/plain": [
       "     0    1    2\n",
       "0  154   45    1\n",
       "1   48  125   27\n",
       "2    3   23  174"
      ]
     },
     "execution_count": 94,
     "metadata": {},
     "output_type": "execute_result"
    }
   ],
   "source": [
    "y_pred = model.predict((xtest))\n",
    "\n",
    "print(\"accuracy \\t\", m.accuracy_score(ytest, y_pred))\n",
    "confmatrx = pd.DataFrame(m.confusion_matrix(ytest, y_pred))\n",
    "confmatrx.head()"
   ]
  },
  {
   "cell_type": "code",
   "execution_count": 95,
   "metadata": {},
   "outputs": [
    {
     "name": "stdout",
     "output_type": "stream",
     "text": [
      "              precision    recall  f1-score   support\n",
      "\n",
      "           0       0.75      0.77      0.76       200\n",
      "           1       0.65      0.62      0.64       200\n",
      "           2       0.86      0.87      0.87       200\n",
      "\n",
      "    accuracy                           0.76       600\n",
      "   macro avg       0.75      0.76      0.75       600\n",
      "weighted avg       0.75      0.76      0.75       600\n",
      "\n"
     ]
    }
   ],
   "source": [
    "print(classification_report(ytest, y_pred))"
   ]
  },
  {
   "cell_type": "code",
   "execution_count": 96,
   "metadata": {
    "scrolled": false
   },
   "outputs": [
    {
     "name": "stdout",
     "output_type": "stream",
     "text": [
      "[CV]  ................................................................\n"
     ]
    },
    {
     "name": "stderr",
     "output_type": "stream",
     "text": [
      "[Parallel(n_jobs=1)]: Using backend SequentialBackend with 1 concurrent workers.\n"
     ]
    },
    {
     "name": "stdout",
     "output_type": "stream",
     "text": [
      "[CV] ................................................. , total=  15.3s\n",
      "[CV]  ................................................................\n"
     ]
    },
    {
     "name": "stderr",
     "output_type": "stream",
     "text": [
      "[Parallel(n_jobs=1)]: Done   1 out of   1 | elapsed:   15.2s remaining:    0.0s\n"
     ]
    },
    {
     "name": "stdout",
     "output_type": "stream",
     "text": [
      "[CV] ................................................. , total=  15.5s\n",
      "[CV]  ................................................................\n",
      "[CV] ................................................. , total=  15.6s\n",
      "[CV]  ................................................................\n",
      "[CV] ................................................. , total=  15.6s\n",
      "[CV]  ................................................................\n",
      "[CV] ................................................. , total=  15.6s\n"
     ]
    },
    {
     "name": "stderr",
     "output_type": "stream",
     "text": [
      "[Parallel(n_jobs=1)]: Done   5 out of   5 | elapsed:  1.3min finished\n"
     ]
    }
   ],
   "source": [
    "from sklearn.model_selection import cross_val_score\n",
    "scores = cross_val_score(model,\n",
    "                         xtrain,ytrain,\n",
    "                         cv=5,\n",
    "                         scoring='accuracy',\n",
    "                        verbose=2)"
   ]
  },
  {
   "cell_type": "code",
   "execution_count": 82,
   "metadata": {},
   "outputs": [
    {
     "data": {
      "text/plain": [
       "array([0.70975586, 0.73088149, 0.73370306, 0.73088149, 0.72407083])"
      ]
     },
     "execution_count": 82,
     "metadata": {},
     "output_type": "execute_result"
    }
   ],
   "source": [
    "scores"
   ]
  },
  {
   "cell_type": "code",
   "execution_count": 73,
   "metadata": {},
   "outputs": [
    {
     "data": {
      "text/plain": [
       "array([0.70761599, 0.73341117, 0.73039502, 0.7288383 , 0.72163845])"
      ]
     },
     "execution_count": 73,
     "metadata": {},
     "output_type": "execute_result"
    }
   ],
   "source": [
    "scores"
   ]
  },
  {
   "cell_type": "code",
   "execution_count": 74,
   "metadata": {},
   "outputs": [
    {
     "data": {
      "text/plain": [
       "0.7243797850170852"
      ]
     },
     "execution_count": 74,
     "metadata": {},
     "output_type": "execute_result"
    }
   ],
   "source": [
    "np.mean(scores)"
   ]
  },
  {
   "cell_type": "code",
   "execution_count": null,
   "metadata": {},
   "outputs": [],
   "source": []
  }
 ],
 "metadata": {
  "kernelspec": {
   "display_name": "Python 3",
   "language": "python",
   "name": "python3"
  },
  "language_info": {
   "codemirror_mode": {
    "name": "ipython",
    "version": 3
   },
   "file_extension": ".py",
   "mimetype": "text/x-python",
   "name": "python",
   "nbconvert_exporter": "python",
   "pygments_lexer": "ipython3",
   "version": "3.7.3"
  }
 },
 "nbformat": 4,
 "nbformat_minor": 2
}

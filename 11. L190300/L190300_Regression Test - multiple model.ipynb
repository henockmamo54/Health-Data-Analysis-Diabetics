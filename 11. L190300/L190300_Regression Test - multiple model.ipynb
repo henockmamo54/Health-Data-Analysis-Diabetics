{
 "cells": [
  {
   "cell_type": "code",
   "execution_count": 2,
   "metadata": {},
   "outputs": [
    {
     "name": "stderr",
     "output_type": "stream",
     "text": [
      "Using TensorFlow backend.\n"
     ]
    }
   ],
   "source": [
    "from matplotlib import pyplot as plt\n",
    "import pandas as pd \n",
    "import numpy as np\n",
    "import warnings\n",
    "warnings.filterwarnings('ignore')\n",
    "from scipy import stats\n",
    "from sklearn.utils import shuffle\n",
    "from sklearn.preprocessing import LabelEncoder\n",
    "from sklearn.metrics import confusion_matrix \n",
    "from sklearn.utils import shuffle\n",
    "from sklearn.ensemble import RandomForestRegressor\n",
    "from sklearn.datasets import make_regression\n",
    "from sklearn.model_selection import train_test_split\n",
    "from sklearn.metrics import mean_absolute_error\n",
    "from sklearn.metrics import mean_squared_error\n",
    "from sklearn.metrics import mean_absolute_error\n",
    "from sklearn.metrics import r2_score\n",
    "from keras.models import Sequential\n",
    "from keras.layers import Dense\n",
    "from keras.wrappers.scikit_learn import KerasRegressor\n",
    "from sklearn.model_selection import cross_val_score\n",
    "from sklearn.model_selection import KFold\n",
    "from sklearn.preprocessing import StandardScaler\n",
    "from sklearn.pipeline import Pipeline\n",
    "from keras.layers import Dropout\n",
    "from keras.layers import BatchNormalization\n",
    "from keras.models import model_from_json\n",
    "from keras.utils import multi_gpu_model \n",
    "from keras.utils import to_categorical\n"
   ]
  },
  {
   "cell_type": "markdown",
   "metadata": {},
   "source": [
    "Read the data\n",
    "==========="
   ]
  },
  {
   "cell_type": "code",
   "execution_count": 6,
   "metadata": {},
   "outputs": [
    {
     "name": "stdout",
     "output_type": "stream",
     "text": [
      "(159381, 22)\n",
      "(159381, 2)\n"
     ]
    }
   ],
   "source": [
    "x_original=pd.read_csv('../_xlable4_withNa_AllColumns.txt')\n",
    "y_original=pd.read_csv('../_targelable4_withNa_AllColumns.txt')\n",
    "\n",
    "# x_original=x_original[['Unnamed: 0','L190300', 'L190500', 'L190400', 'SEX', 'L100700', 'L100500', 'S000100', 'L103300',\n",
    "#                        'S000501', 'S000300', 'L100200', 'S000502', 'L103100', 'L101300', 'L103000', 'L101600', 'L190600',\n",
    "#                        'FIELD_33', 'AGE', 'FIELD_38', 'FIELD_18', 'FIELD_40', 'FIELD_25', 'FIELD_41', 'FIELD_4', \n",
    "#                        'FIELD_29', 'FIELD_42', 'FIELD_32','L100800'\n",
    "# #                        , 'FIELD_6' \n",
    "#                       ]]\n",
    "\n",
    "# y_original=y_original[['Unnamed: 0','L190300', 'L190500', 'L190400', 'SEX', 'L100700', 'L100500', 'S000100', 'L103300',\n",
    "#                        'S000501', 'S000300', 'L100200', 'S000502', 'L103100', 'L101300', 'L103000', 'L101600', 'L190600',\n",
    "#                        'FIELD_33', 'AGE', 'FIELD_38', 'FIELD_18', 'FIELD_40', 'FIELD_25', 'FIELD_41', 'FIELD_4', \n",
    "#                        'FIELD_29', 'FIELD_42', 'FIELD_32','L100800'\n",
    "# #                        , 'FIELD_6'\n",
    "#                       ]]\n",
    "\n",
    "x_original=x_original[['Unnamed: 0','L190300', 'L190500', 'L190400', 'SEX', 'L100700', 'L100500', 'S000100', 'L103300',\n",
    "                       'S000501', 'S000300', 'L100200', 'S000502', 'L103100', 'L101300', 'L103000', 'L101600', 'L190600',\n",
    "                       'FIELD_33', 'AGE', 'FIELD_38','L100800']]\n",
    "\n",
    "y_original=y_original[['Unnamed: 0','L190300']]\n",
    "\n",
    "print(x_original.shape)\n",
    "print(y_original.shape)\n"
   ]
  },
  {
   "cell_type": "code",
   "execution_count": 7,
   "metadata": {},
   "outputs": [
    {
     "name": "stdout",
     "output_type": "stream",
     "text": [
      "Unnamed: 0 159381\n",
      "L190300 159204\n",
      "L190500 159204\n",
      "L190400 159241\n",
      "SEX 159381\n",
      "L100700 152474\n",
      "L100500 158954\n",
      "S000100 159302\n",
      "L103300 135222\n",
      "S000501 159305\n",
      "S000300 159075\n",
      "L100200 148627\n",
      "S000502 159305\n",
      "L103100 158880\n",
      "L101300 159247\n",
      "L103000 158939\n",
      "L101600 152251\n",
      "L190600 145182\n",
      "FIELD_33 159069\n",
      "AGE 159381\n",
      "FIELD_38 159077\n",
      "L100800 159236\n"
     ]
    }
   ],
   "source": [
    "for index,col in enumerate(x_original.columns):\n",
    "    print(col,x_original[col].dropna().shape[0])"
   ]
  },
  {
   "cell_type": "markdown",
   "metadata": {},
   "source": [
    "Prepare the data\n",
    "============"
   ]
  },
  {
   "cell_type": "code",
   "execution_count": 8,
   "metadata": {},
   "outputs": [],
   "source": [
    "df=x_original.copy()\n",
    "conditions = [\n",
    "    (df.S000501 < 120)  ,\n",
    "    (df.S000501 >= 120) & (df.S000501 < 130),\n",
    "    (df.S000501 >=130)]\n",
    "choices = [0,1,2]\n",
    "df['sbpG'] = np.select(conditions, choices, default=0)\n",
    "df.head()\n",
    "x_original=df.copy()\n",
    "\n",
    "conditions2 = [\n",
    "    (df.S000502 < 80)  ,\n",
    "    (df.S000502 >= 80) & (df.S000502 < 90),\n",
    "    (df.S000502 >=90)]\n",
    "choices2 = [0,1,2]\n",
    "df['dbpG'] = np.select(conditions2, choices2, default=0)\n",
    "df.head()\n",
    "x_original=df.copy()\n",
    "\n",
    "conditions3 = [\n",
    "    (df.AGE < 30)  ,\n",
    "    (df.AGE >= 30) & (df.AGE < 40),\n",
    "    (df.AGE >= 40) & (df.AGE < 50),\n",
    "    (df.AGE >= 50) & (df.AGE < 60),\n",
    "    (df.AGE >= 60)]\n",
    "choices3 = [0,1,2,3,4]\n",
    "df['AgeG'] = np.select(conditions3, choices3, default=0)\n",
    "df.head()\n",
    "x_original=df.copy()\n",
    "\n",
    "\n",
    "conditions4 = [\n",
    "    (df.L100800 < 100)  ,\n",
    "    (df.L100800 >= 100) & (df.L100800 < 126), \n",
    "    (df.L100800 >= 126)]\n",
    "choices4 = [0,1,2]\n",
    "df['CLASS'] = np.select(conditions4, choices4, default=0)\n",
    "df.head()\n",
    "x_original=df.copy()"
   ]
  },
  {
   "cell_type": "code",
   "execution_count": 9,
   "metadata": {},
   "outputs": [
    {
     "name": "stdout",
     "output_type": "stream",
     "text": [
      "(126805, 28)\n"
     ]
    }
   ],
   "source": [
    "data= pd.merge(x_original,y_original, how='inner',left_on='Unnamed: 0', right_on='Unnamed: 0')\n",
    "data=data.dropna(). reset_index()\n",
    "\n",
    "# data=data[data.AGE_x >= 40]\n",
    "# data=data[data.AGE_x < 50]\n",
    "\n",
    "# data=data[data.CLASS_x==0]\n",
    "# data=data[data.sbpG==0]\n",
    "# data=data[data.dbpG==0]\n",
    "\n",
    "# data=data[data.L100800_y <200]\n",
    "\n",
    "print(data.shape)"
   ]
  },
  {
   "cell_type": "code",
   "execution_count": 10,
   "metadata": {},
   "outputs": [
    {
     "name": "stdout",
     "output_type": "stream",
     "text": [
      "(126805, 28)\n",
      "Index(['index', 'Unnamed: 0', 'L190300_x', 'L190500', 'L190400', 'SEX',\n",
      "       'L100700', 'L100500', 'S000100', 'L103300', 'S000501', 'S000300',\n",
      "       'L100200', 'S000502', 'L103100', 'L101300', 'L103000', 'L101600',\n",
      "       'L190600', 'FIELD_33', 'AGE', 'FIELD_38', 'L100800', 'sbpG', 'dbpG',\n",
      "       'AgeG', 'CLASS', 'L190300_y'],\n",
      "      dtype='object')\n"
     ]
    },
    {
     "data": {
      "text/html": [
       "<div>\n",
       "<style scoped>\n",
       "    .dataframe tbody tr th:only-of-type {\n",
       "        vertical-align: middle;\n",
       "    }\n",
       "\n",
       "    .dataframe tbody tr th {\n",
       "        vertical-align: top;\n",
       "    }\n",
       "\n",
       "    .dataframe thead th {\n",
       "        text-align: right;\n",
       "    }\n",
       "</style>\n",
       "<table border=\"1\" class=\"dataframe\">\n",
       "  <thead>\n",
       "    <tr style=\"text-align: right;\">\n",
       "      <th></th>\n",
       "      <th>index</th>\n",
       "      <th>Unnamed: 0</th>\n",
       "      <th>L190300_x</th>\n",
       "      <th>L190500</th>\n",
       "      <th>L190400</th>\n",
       "      <th>SEX</th>\n",
       "      <th>L100700</th>\n",
       "      <th>L100500</th>\n",
       "      <th>S000100</th>\n",
       "      <th>L103300</th>\n",
       "      <th>...</th>\n",
       "      <th>L190600</th>\n",
       "      <th>FIELD_33</th>\n",
       "      <th>AGE</th>\n",
       "      <th>FIELD_38</th>\n",
       "      <th>L100800</th>\n",
       "      <th>sbpG</th>\n",
       "      <th>dbpG</th>\n",
       "      <th>AgeG</th>\n",
       "      <th>CLASS</th>\n",
       "      <th>L190300_y</th>\n",
       "    </tr>\n",
       "  </thead>\n",
       "  <tbody>\n",
       "    <tr>\n",
       "      <th>0</th>\n",
       "      <td>0</td>\n",
       "      <td>0</td>\n",
       "      <td>4.20</td>\n",
       "      <td>38.2</td>\n",
       "      <td>12.3</td>\n",
       "      <td>1.0</td>\n",
       "      <td>3.0</td>\n",
       "      <td>0.8</td>\n",
       "      <td>159.8</td>\n",
       "      <td>3.1</td>\n",
       "      <td>...</td>\n",
       "      <td>91.0</td>\n",
       "      <td>1.0</td>\n",
       "      <td>44.0</td>\n",
       "      <td>1.0</td>\n",
       "      <td>77.0</td>\n",
       "      <td>1</td>\n",
       "      <td>0</td>\n",
       "      <td>2</td>\n",
       "      <td>0</td>\n",
       "      <td>4.24</td>\n",
       "    </tr>\n",
       "    <tr>\n",
       "      <th>1</th>\n",
       "      <td>1</td>\n",
       "      <td>1</td>\n",
       "      <td>4.24</td>\n",
       "      <td>39.0</td>\n",
       "      <td>13.1</td>\n",
       "      <td>1.0</td>\n",
       "      <td>3.0</td>\n",
       "      <td>0.8</td>\n",
       "      <td>159.5</td>\n",
       "      <td>3.3</td>\n",
       "      <td>...</td>\n",
       "      <td>91.9</td>\n",
       "      <td>1.0</td>\n",
       "      <td>45.0</td>\n",
       "      <td>1.0</td>\n",
       "      <td>89.0</td>\n",
       "      <td>0</td>\n",
       "      <td>0</td>\n",
       "      <td>2</td>\n",
       "      <td>0</td>\n",
       "      <td>4.26</td>\n",
       "    </tr>\n",
       "    <tr>\n",
       "      <th>2</th>\n",
       "      <td>2</td>\n",
       "      <td>2</td>\n",
       "      <td>4.26</td>\n",
       "      <td>38.4</td>\n",
       "      <td>12.9</td>\n",
       "      <td>1.0</td>\n",
       "      <td>3.8</td>\n",
       "      <td>0.8</td>\n",
       "      <td>159.0</td>\n",
       "      <td>3.4</td>\n",
       "      <td>...</td>\n",
       "      <td>90.3</td>\n",
       "      <td>1.0</td>\n",
       "      <td>46.0</td>\n",
       "      <td>2.0</td>\n",
       "      <td>78.0</td>\n",
       "      <td>2</td>\n",
       "      <td>1</td>\n",
       "      <td>2</td>\n",
       "      <td>0</td>\n",
       "      <td>3.82</td>\n",
       "    </tr>\n",
       "    <tr>\n",
       "      <th>3</th>\n",
       "      <td>3</td>\n",
       "      <td>3</td>\n",
       "      <td>4.20</td>\n",
       "      <td>40.3</td>\n",
       "      <td>13.5</td>\n",
       "      <td>1.0</td>\n",
       "      <td>3.7</td>\n",
       "      <td>0.8</td>\n",
       "      <td>155.3</td>\n",
       "      <td>2.8</td>\n",
       "      <td>...</td>\n",
       "      <td>96.0</td>\n",
       "      <td>1.0</td>\n",
       "      <td>51.0</td>\n",
       "      <td>0.0</td>\n",
       "      <td>95.0</td>\n",
       "      <td>0</td>\n",
       "      <td>0</td>\n",
       "      <td>3</td>\n",
       "      <td>0</td>\n",
       "      <td>3.92</td>\n",
       "    </tr>\n",
       "    <tr>\n",
       "      <th>4</th>\n",
       "      <td>4</td>\n",
       "      <td>4</td>\n",
       "      <td>3.92</td>\n",
       "      <td>38.6</td>\n",
       "      <td>12.6</td>\n",
       "      <td>1.0</td>\n",
       "      <td>3.4</td>\n",
       "      <td>0.8</td>\n",
       "      <td>156.0</td>\n",
       "      <td>2.9</td>\n",
       "      <td>...</td>\n",
       "      <td>98.4</td>\n",
       "      <td>1.0</td>\n",
       "      <td>52.0</td>\n",
       "      <td>0.0</td>\n",
       "      <td>90.0</td>\n",
       "      <td>0</td>\n",
       "      <td>0</td>\n",
       "      <td>3</td>\n",
       "      <td>0</td>\n",
       "      <td>4.28</td>\n",
       "    </tr>\n",
       "  </tbody>\n",
       "</table>\n",
       "<p>5 rows × 28 columns</p>\n",
       "</div>"
      ],
      "text/plain": [
       "   index  Unnamed: 0  L190300_x  L190500  L190400  SEX  L100700  L100500  \\\n",
       "0      0           0       4.20     38.2     12.3  1.0      3.0      0.8   \n",
       "1      1           1       4.24     39.0     13.1  1.0      3.0      0.8   \n",
       "2      2           2       4.26     38.4     12.9  1.0      3.8      0.8   \n",
       "3      3           3       4.20     40.3     13.5  1.0      3.7      0.8   \n",
       "4      4           4       3.92     38.6     12.6  1.0      3.4      0.8   \n",
       "\n",
       "   S000100  L103300  ...  L190600  FIELD_33   AGE  FIELD_38  L100800  sbpG  \\\n",
       "0    159.8      3.1  ...     91.0       1.0  44.0       1.0     77.0     1   \n",
       "1    159.5      3.3  ...     91.9       1.0  45.0       1.0     89.0     0   \n",
       "2    159.0      3.4  ...     90.3       1.0  46.0       2.0     78.0     2   \n",
       "3    155.3      2.8  ...     96.0       1.0  51.0       0.0     95.0     0   \n",
       "4    156.0      2.9  ...     98.4       1.0  52.0       0.0     90.0     0   \n",
       "\n",
       "   dbpG  AgeG  CLASS  L190300_y  \n",
       "0     0     2      0       4.24  \n",
       "1     0     2      0       4.26  \n",
       "2     1     2      0       3.82  \n",
       "3     0     3      0       3.92  \n",
       "4     0     3      0       4.28  \n",
       "\n",
       "[5 rows x 28 columns]"
      ]
     },
     "execution_count": 10,
     "metadata": {},
     "output_type": "execute_result"
    }
   ],
   "source": [
    "print(data.shape)\n",
    "print(data.columns)\n",
    "data.head()"
   ]
  },
  {
   "cell_type": "code",
   "execution_count": 14,
   "metadata": {},
   "outputs": [],
   "source": [
    "# x=data[['L190300_x', 'L190500_x', 'L190400_x', 'SEX_x', 'L100700_x', 'L100500_x', 'S000100_x', 'L103300_x',\n",
    "#         'S000501_x', 'S000300_x', 'L100200_x', 'S000502_x', 'L103100_x', 'L101300_x', 'L103000_x', 'L101600_x', 'L190600_x',\n",
    "#         'FIELD_33_x', 'AGE_x', 'FIELD_38_x', 'FIELD_18_x', 'FIELD_40_x', 'FIELD_25_x', 'FIELD_41_x', 'FIELD_4_x',\n",
    "#         #                        , 'FIELD_6'\n",
    "#         'CLASS','sbpG','dbpG','AgeG']]\n",
    "\n",
    "# y=data[['L190300_y', 'L190500_y', 'L190400_y', 'SEX_y', 'L100700_y', 'L100500_y', 'S000100_y', 'L103300_y',\n",
    "#         'S000501_y', 'S000300_y', 'L100200_y', 'S000502_y', 'L103100_y', 'L101300_y', 'L103000_y', 'L101600_y', 'L190600_y',\n",
    "#         'FIELD_33_y', 'AGE_y', 'FIELD_38_y', 'FIELD_18_y', 'FIELD_40_y', 'FIELD_25_y', 'FIELD_41_y', 'FIELD_4_y', \n",
    "#         'FIELD_29_y', 'FIELD_42_y', 'FIELD_32_y', \n",
    "#         #                        , 'FIELD_6'\n",
    "#         ]]\n",
    "\n",
    "x=data[['L190300_x','L190500', 'L190400', 'SEX', 'L100700', 'L100500', 'S000100', 'L103300',\n",
    "                       'S000501', 'S000300', 'L100200', 'S000502', 'L103100', 'L101300', 'L103000', 'L101600', 'L190600',\n",
    "                       'FIELD_33', 'AGE', 'FIELD_38','L100800']]\n",
    "\n",
    "y=data[['L190300_y']]"
   ]
  },
  {
   "cell_type": "markdown",
   "metadata": {},
   "source": [
    "Check the correlation of the selected feature with the independent variables\n",
    "====="
   ]
  },
  {
   "cell_type": "code",
   "execution_count": 15,
   "metadata": {},
   "outputs": [],
   "source": [
    "temppd=pd.DataFrame(x.copy())\n",
    "temppd['y']=y.L190300_y\n",
    "temppd.head()\n",
    "corval=abs(temppd.corr()).sort_values(by='y', ascending=False)"
   ]
  },
  {
   "cell_type": "code",
   "execution_count": 16,
   "metadata": {},
   "outputs": [
    {
     "data": {
      "text/plain": [
       "y            1.000000\n",
       "L190300_x    0.857909\n",
       "L190500      0.742033\n",
       "L190400      0.726629\n",
       "SEX          0.677997\n",
       "S000100      0.511095\n",
       "L100700      0.494146\n",
       "L100500      0.488433\n",
       "S000300      0.387336\n",
       "L103300      0.380924\n",
       "FIELD_33     0.366469\n",
       "S000501      0.363849\n",
       "L103100      0.354436\n",
       "S000502      0.311502\n",
       "L101300      0.302591\n",
       "L103000      0.292354\n",
       "L101600      0.256508\n",
       "L190600      0.241373\n",
       "L100200      0.224599\n",
       "L100800      0.213234\n",
       "FIELD_38     0.176991\n",
       "AGE          0.041280\n",
       "Name: y, dtype: float64"
      ]
     },
     "execution_count": 16,
     "metadata": {},
     "output_type": "execute_result"
    }
   ],
   "source": [
    "corval.y"
   ]
  },
  {
   "cell_type": "code",
   "execution_count": 17,
   "metadata": {},
   "outputs": [],
   "source": [
    "#histogram plot of the features\n",
    "# import matplotlib.pyplot as plt\n",
    "# x[x.dtypes[(x.dtypes==\"float64\")|(x.dtypes==\"int64\")]\n",
    "#                         .index.values].hist(figsize=[11,11])"
   ]
  },
  {
   "cell_type": "markdown",
   "metadata": {},
   "source": [
    "Apply PCA\n",
    "==========="
   ]
  },
  {
   "cell_type": "code",
   "execution_count": 18,
   "metadata": {},
   "outputs": [],
   "source": [
    "# from sklearn.decomposition import PCA\n",
    "# pca = PCA(n_components=8)\n",
    "# pca.fit(x)\n",
    "\n",
    "# print(pca.explained_variance_ratio_)   \n",
    "# print(np.sum(pca.explained_variance_ratio_))\n",
    "\n",
    "# x=pca.fit_transform(x) \n",
    "# print(x.shape)\n"
   ]
  },
  {
   "cell_type": "markdown",
   "metadata": {},
   "source": [
    "feature scaling\n",
    "======="
   ]
  },
  {
   "cell_type": "code",
   "execution_count": 19,
   "metadata": {},
   "outputs": [],
   "source": [
    "# from sklearn import preprocessing\n",
    "# min_max_scaler = preprocessing.MinMaxScaler()  #StandardScaler()\n",
    "# x = min_max_scaler.fit_transform(x)"
   ]
  },
  {
   "cell_type": "markdown",
   "metadata": {},
   "source": [
    "clustring test\n",
    "=========="
   ]
  },
  {
   "cell_type": "code",
   "execution_count": 20,
   "metadata": {},
   "outputs": [],
   "source": [
    "# from sklearn.cluster import KMeans\n",
    "# from scipy.spatial.distance import cdist\n",
    "\n",
    "# K = range(1,10)\n",
    "# distortions = []\n",
    "\n",
    "# for k in K:\n",
    "#     kmeanModel = KMeans(n_clusters=k).fit(x)\n",
    "#     kmeanModel.fit(x)\n",
    "#     distortions.append(sum(np.min(cdist(x, kmeanModel.cluster_centers_, 'euclidean'), axis=1)) / x.shape[0])\n",
    "\n",
    "# # Plot the elbow\n",
    "# plt.plot(K, distortions, 'bx-')\n",
    "# plt.xlabel('k')\n",
    "# plt.ylabel('Distortion')\n",
    "# plt.title('The Elbow Method showing the optimal k')\n",
    "# plt.show()\n"
   ]
  },
  {
   "cell_type": "code",
   "execution_count": 21,
   "metadata": {},
   "outputs": [],
   "source": [
    "# kmeanModel = KMeans(n_clusters=k).fit(x)\n",
    "# x['lbl']=kmeanModel.labels_ "
   ]
  },
  {
   "cell_type": "code",
   "execution_count": 22,
   "metadata": {},
   "outputs": [],
   "source": [
    "# x.columns"
   ]
  },
  {
   "cell_type": "markdown",
   "metadata": {},
   "source": [
    "Random Forest Regressor\n",
    "============="
   ]
  },
  {
   "cell_type": "code",
   "execution_count": 23,
   "metadata": {},
   "outputs": [],
   "source": [
    "ylable=y[['L190300_y']]  \n",
    "xtrain,xtest,ytrain,ytest=train_test_split(x, ylable, random_state=42, test_size=0.2)"
   ]
  },
  {
   "cell_type": "code",
   "execution_count": 24,
   "metadata": {},
   "outputs": [
    {
     "name": "stdout",
     "output_type": "stream",
     "text": [
      "[9.52468483e-01 5.56145056e-04 3.88431105e-04 3.00310562e-02\n",
      " 9.45115648e-05 1.22744402e-04 1.72763604e-04 1.66320888e-04\n",
      " 1.55428991e-04 7.67743672e-04 4.18860001e-03 1.14882415e-04\n",
      " 6.10896717e-04 1.51219558e-04 3.11377347e-04 1.98056244e-04\n",
      " 8.89326706e-03 1.74912891e-05 2.60295601e-04 1.38038341e-04\n",
      " 1.92246679e-04]\n"
     ]
    }
   ],
   "source": [
    "regr = RandomForestRegressor(max_depth=7, random_state=0,verbose =0,n_estimators=500)\n",
    "regr.fit(xtrain, ytrain) \n",
    "print(regr.feature_importances_)\n",
    "ypred=regr.predict(xtest)\n"
   ]
  },
  {
   "cell_type": "code",
   "execution_count": 25,
   "metadata": {},
   "outputs": [
    {
     "name": "stdout",
     "output_type": "stream",
     "text": [
      "mean_squared_error 0.04802312529295947\n",
      "root mean_squared_error 0.2191417926662084\n",
      "mean_absolute_error 0.17111652328930888\n",
      "r2_score 0.7634947151433129\n"
     ]
    },
    {
     "data": {
      "image/png": "[encoded data removed]",
      "text/plain": [
       "<Figure size 432x288 with 1 Axes>"
      ]
     },
     "metadata": {
      "needs_background": "light"
     },
     "output_type": "display_data"
    },
    {
     "data": {
      "text/html": [
       "<div>\n",
       "<style scoped>\n",
       "    .dataframe tbody tr th:only-of-type {\n",
       "        vertical-align: middle;\n",
       "    }\n",
       "\n",
       "    .dataframe tbody tr th {\n",
       "        vertical-align: top;\n",
       "    }\n",
       "\n",
       "    .dataframe thead th {\n",
       "        text-align: right;\n",
       "    }\n",
       "</style>\n",
       "<table border=\"1\" class=\"dataframe\">\n",
       "  <thead>\n",
       "    <tr style=\"text-align: right;\">\n",
       "      <th></th>\n",
       "      <th>t + 1</th>\n",
       "      <th>pred (t +1)</th>\n",
       "    </tr>\n",
       "  </thead>\n",
       "  <tbody>\n",
       "    <tr>\n",
       "      <th>21711</th>\n",
       "      <td>6.15</td>\n",
       "      <td>5.636432</td>\n",
       "    </tr>\n",
       "    <tr>\n",
       "      <th>14458</th>\n",
       "      <td>6.16</td>\n",
       "      <td>5.359748</td>\n",
       "    </tr>\n",
       "    <tr>\n",
       "      <th>9550</th>\n",
       "      <td>6.22</td>\n",
       "      <td>5.827579</td>\n",
       "    </tr>\n",
       "    <tr>\n",
       "      <th>3581</th>\n",
       "      <td>6.23</td>\n",
       "      <td>5.785462</td>\n",
       "    </tr>\n",
       "    <tr>\n",
       "      <th>7584</th>\n",
       "      <td>6.23</td>\n",
       "      <td>5.402034</td>\n",
       "    </tr>\n",
       "    <tr>\n",
       "      <th>23548</th>\n",
       "      <td>6.25</td>\n",
       "      <td>5.477394</td>\n",
       "    </tr>\n",
       "    <tr>\n",
       "      <th>6429</th>\n",
       "      <td>6.25</td>\n",
       "      <td>5.579332</td>\n",
       "    </tr>\n",
       "    <tr>\n",
       "      <th>11415</th>\n",
       "      <td>6.27</td>\n",
       "      <td>5.526979</td>\n",
       "    </tr>\n",
       "    <tr>\n",
       "      <th>25227</th>\n",
       "      <td>6.30</td>\n",
       "      <td>5.396989</td>\n",
       "    </tr>\n",
       "    <tr>\n",
       "      <th>3897</th>\n",
       "      <td>6.97</td>\n",
       "      <td>6.276801</td>\n",
       "    </tr>\n",
       "  </tbody>\n",
       "</table>\n",
       "</div>"
      ],
      "text/plain": [
       "       t + 1  pred (t +1)\n",
       "21711   6.15     5.636432\n",
       "14458   6.16     5.359748\n",
       "9550    6.22     5.827579\n",
       "3581    6.23     5.785462\n",
       "7584    6.23     5.402034\n",
       "23548   6.25     5.477394\n",
       "6429    6.25     5.579332\n",
       "11415   6.27     5.526979\n",
       "25227   6.30     5.396989\n",
       "3897    6.97     6.276801"
      ]
     },
     "execution_count": 25,
     "metadata": {},
     "output_type": "execute_result"
    },
    {
     "data": {
      "image/png": "[encoded data removed]",
      "text/plain": [
       "<Figure size 432x288 with 1 Axes>"
      ]
     },
     "metadata": {
      "needs_background": "light"
     },
     "output_type": "display_data"
    }
   ],
   "source": [
    "\n",
    "import math\n",
    "print('mean_squared_error',mean_squared_error(ytest, ypred))\n",
    "print('root mean_squared_error',math.sqrt(mean_squared_error(ytest, ypred)))\n",
    "print('mean_absolute_error',mean_absolute_error(ytest, ypred))\n",
    "print('r2_score',r2_score(ytest, ypred))\n",
    "\n",
    "ypredPD=pd.DataFrame()\n",
    "# ypredPD['t']=xtest['S000501_x'].values\n",
    "ypredPD['t + 1']=ytest.values.ravel()\n",
    "ypredPD['pred (t +1)']=ypred\n",
    "ypredPD.head(30)\n",
    "\n",
    "import matplotlib.patches as mpatches\n",
    "plt.ylabel('Values')\n",
    "plt.xlabel('index')\n",
    "red_patch = mpatches.Patch(color='red', label='Actual data')\n",
    "blue_patch = mpatches.Patch(color='blue', label='Predicted data')\n",
    "plt.legend(handles=[red_patch,blue_patch])\n",
    "\n",
    "ypredPD=ypredPD.sort_values(by=['t + 1'])\n",
    "plt.scatter(np.arange(0,ypredPD.shape[0],1),ypredPD['pred (t +1)'][:ypredPD.shape[0]])\n",
    "plt.plot(np.arange(0,ypredPD.shape[0],1),ypredPD['t + 1'][:ypredPD.shape[0]],color='red')\n",
    "plt.show()\n",
    "\n",
    "plt.ylabel('p*(t+1), Predicted data')\n",
    "plt.xlabel('p(t+1), Actual data')\n",
    "plt.scatter(ypredPD['t + 1'][:ypredPD.shape[0]],ypredPD['pred (t +1)'][:ypredPD.shape[0]])\n",
    "\n",
    "ypredPD.tail(10)"
   ]
  },
  {
   "cell_type": "code",
   "execution_count": 26,
   "metadata": {},
   "outputs": [],
   "source": [
    "# tempdata=pd.DataFrame(xtest.copy())\n",
    "# tempdata['ytest']=ytest\n",
    "# # temp=temp.dropna()\n",
    "# # tempdata.head()\n",
    "# # tempdata[tempdata.ytest.isna()].index\n",
    "\n",
    "# tempdata=tempdata.drop(tempdata[tempdata.ytest.isna()].index)\n"
   ]
  },
  {
   "cell_type": "markdown",
   "metadata": {},
   "source": [
    "xg boost\n",
    "=========="
   ]
  },
  {
   "cell_type": "code",
   "execution_count": 27,
   "metadata": {},
   "outputs": [],
   "source": [
    "import xgboost as xgb\n",
    "# from sklearn.metrics import mean_squared_error\n",
    "# import pandas as pd\n",
    "# import numpy as np"
   ]
  },
  {
   "cell_type": "code",
   "execution_count": 28,
   "metadata": {},
   "outputs": [
    {
     "name": "stdout",
     "output_type": "stream",
     "text": [
      "[03:44:48] WARNING: C:/Jenkins/workspace/xgboost-win64_release_0.90/src/objective/regression_obj.cu:152: reg:linear is now deprecated in favor of reg:squarederror.\n"
     ]
    },
    {
     "data": {
      "text/plain": [
       "XGBRegressor(base_score=0.5, booster='gbtree', colsample_bylevel=1,\n",
       "             colsample_bynode=1, colsample_bytree=1, gamma=0,\n",
       "             importance_type='gain', learning_rate=0.1, max_delta_step=0,\n",
       "             max_depth=3, min_child_weight=1, missing=None, n_estimators=100,\n",
       "             n_jobs=1, nthread=None, objective='reg:linear', random_state=0,\n",
       "             reg_alpha=0, reg_lambda=1, scale_pos_weight=1, seed=None,\n",
       "             silent=None, subsample=1, verbosity=1)"
      ]
     },
     "execution_count": 28,
     "metadata": {},
     "output_type": "execute_result"
    }
   ],
   "source": [
    "xg_reg = xgb.XGBRegressor()\n",
    "# xg_reg = xgb.XGBRegressor(objective ='reg:linear', colsample_bytree = 0.3, \n",
    "#                           learning_rate = 0.1,max_depth = 5, alpha = 10, n_estimators = 10)\n",
    "xg_reg.fit(xtrain, ytrain) "
   ]
  },
  {
   "cell_type": "code",
   "execution_count": 29,
   "metadata": {},
   "outputs": [
    {
     "name": "stdout",
     "output_type": "stream",
     "text": [
      "mean_squared_error 0.04695495115269574\n",
      "root mean_squared_error 0.21669091155998155\n",
      "mean_absolute_error 0.1691770198314067\n",
      "r2_score 0.7687552813346736\n"
     ]
    }
   ],
   "source": [
    "\n",
    "ypred = xg_reg.predict(xtest)\n",
    "\n",
    "import math\n",
    "print('mean_squared_error',mean_squared_error(ytest, ypred))\n",
    "print('root mean_squared_error',math.sqrt(mean_squared_error(ytest, ypred)))\n",
    "print('mean_absolute_error',mean_absolute_error(ytest, ypred))\n",
    "print('r2_score',r2_score(ytest, ypred))\n",
    "\n",
    "# ypredPD=pd.DataFrame()\n",
    "# ypredPD['t']=xtest['S000501_x'].values\n",
    "# ypredPD['t + 1']=ytest.values\n",
    "# ypredPD['pred (t +1)']=ypred\n",
    "# ypredPD.head(10)"
   ]
  },
  {
   "cell_type": "code",
   "execution_count": 31,
   "metadata": {},
   "outputs": [],
   "source": [
    "# ytest[ytest.isna()].shape\n",
    "# tempdata.iloc[:,-1]"
   ]
  },
  {
   "cell_type": "markdown",
   "metadata": {},
   "source": [
    "ANN\n",
    "=========="
   ]
  },
  {
   "cell_type": "code",
   "execution_count": 34,
   "metadata": {},
   "outputs": [],
   "source": [
    "model= Sequential()\n",
    "model.add(Dense(input_dim=29,units=128,activation='relu', kernel_initializer='uniform'))\n",
    "model.add(Dense(units=128, activation='relu', kernel_initializer='uniform')) \n",
    "# model.add(BatchNormalization())\n",
    "# model.add(Dropout(0.25))  \n",
    "model.add(Dense(units=64, activation='relu', kernel_initializer='uniform'))\n",
    "model.add(Dense(units=32, activation='relu', kernel_initializer='uniform')) \n",
    "model.add(BatchNormalization())\n",
    "model.add(Dropout(0.25))  \n",
    "model.add(Dense(units=16, activation='relu', kernel_initializer='uniform'))\n",
    "model.add(BatchNormalization())\n",
    "model.add(Dropout(0.25))  \n",
    "model.add(Dense(units=8, activation='relu', kernel_initializer='uniform'))\n",
    "model.add(Dense(units=1, kernel_initializer='uniform'))\n",
    "model.compile(loss='mean_squared_error', optimizer='Nadam', metrics=['mean_squared_error' ])"
   ]
  },
  {
   "cell_type": "code",
   "execution_count": 35,
   "metadata": {
    "scrolled": true
   },
   "outputs": [
    {
     "name": "stderr",
     "output_type": "stream",
     "text": [
      "W1003 23:22:17.992126 15028 deprecation_wrapper.py:119] From C:\\ProgramData\\Anaconda3\\lib\\site-packages\\keras\\backend\\tensorflow_backend.py:986: The name tf.assign_add is deprecated. Please use tf.compat.v1.assign_add instead.\n",
      "\n"
     ]
    },
    {
     "name": "stdout",
     "output_type": "stream",
     "text": [
      "Train on 72399 samples, validate on 18100 samples\n",
      "Epoch 1/100\n",
      "72399/72399 [==============================] - 2s 33us/step - loss: 1.5064 - mean_squared_error: 1.5064 - val_loss: 0.3452 - val_mean_squared_error: 0.3452\n",
      "Epoch 2/100\n",
      "72399/72399 [==============================] - 2s 25us/step - loss: 0.1308 - mean_squared_error: 0.1308 - val_loss: 0.4932 - val_mean_squared_error: 0.4932\n",
      "Epoch 3/100\n",
      "72399/72399 [==============================] - 2s 25us/step - loss: 0.0659 - mean_squared_error: 0.0659 - val_loss: 0.7417 - val_mean_squared_error: 0.7417\n",
      "Epoch 4/100\n",
      "72399/72399 [==============================] - 2s 25us/step - loss: 0.0621 - mean_squared_error: 0.0621 - val_loss: 1.0655 - val_mean_squared_error: 1.0655\n",
      "Epoch 5/100\n",
      "72399/72399 [==============================] - 2s 25us/step - loss: 0.0578 - mean_squared_error: 0.0578 - val_loss: 28.1867 - val_mean_squared_error: 28.1867\n",
      "Epoch 6/100\n",
      "72399/72399 [==============================] - 2s 25us/step - loss: 0.0577 - mean_squared_error: 0.0577 - val_loss: 0.7619 - val_mean_squared_error: 0.7619\n",
      "Epoch 7/100\n",
      "72399/72399 [==============================] - 2s 24us/step - loss: 0.0566 - mean_squared_error: 0.0566 - val_loss: 0.0939 - val_mean_squared_error: 0.0939\n",
      "Epoch 8/100\n",
      "72399/72399 [==============================] - 2s 24us/step - loss: 0.0563 - mean_squared_error: 0.0563 - val_loss: 0.0572 - val_mean_squared_error: 0.0572\n",
      "Epoch 9/100\n",
      "72399/72399 [==============================] - 2s 24us/step - loss: 0.0562 - mean_squared_error: 0.0562 - val_loss: 0.1623 - val_mean_squared_error: 0.1623\n",
      "Epoch 10/100\n",
      "72399/72399 [==============================] - 2s 24us/step - loss: 0.0560 - mean_squared_error: 0.0560 - val_loss: 0.0616 - val_mean_squared_error: 0.0616\n",
      "Epoch 11/100\n",
      "72399/72399 [==============================] - 2s 24us/step - loss: 0.0553 - mean_squared_error: 0.0553 - val_loss: 0.1830 - val_mean_squared_error: 0.1830\n",
      "Epoch 12/100\n",
      "72399/72399 [==============================] - 2s 24us/step - loss: 0.0550 - mean_squared_error: 0.0550 - val_loss: 0.0485 - val_mean_squared_error: 0.0485\n",
      "Epoch 13/100\n",
      "72399/72399 [==============================] - 2s 24us/step - loss: 0.0546 - mean_squared_error: 0.0546 - val_loss: 0.0634 - val_mean_squared_error: 0.0634\n",
      "Epoch 14/100\n",
      "72399/72399 [==============================] - 2s 24us/step - loss: 0.0547 - mean_squared_error: 0.0547 - val_loss: 0.1589 - val_mean_squared_error: 0.1589\n",
      "Epoch 15/100\n",
      "72399/72399 [==============================] - 2s 24us/step - loss: 0.0553 - mean_squared_error: 0.0553 - val_loss: 0.0463 - val_mean_squared_error: 0.0463\n",
      "Epoch 16/100\n",
      "72399/72399 [==============================] - 2s 24us/step - loss: 0.0549 - mean_squared_error: 0.0549 - val_loss: 0.1739 - val_mean_squared_error: 0.1739\n",
      "Epoch 17/100\n",
      "72399/72399 [==============================] - 2s 24us/step - loss: 0.0542 - mean_squared_error: 0.0542 - val_loss: 0.0523 - val_mean_squared_error: 0.0523\n",
      "Epoch 18/100\n",
      "72399/72399 [==============================] - 2s 24us/step - loss: 0.0542 - mean_squared_error: 0.0542 - val_loss: 0.0547 - val_mean_squared_error: 0.0547\n",
      "Epoch 19/100\n",
      "72399/72399 [==============================] - 2s 24us/step - loss: 0.0540 - mean_squared_error: 0.0540 - val_loss: 0.0549 - val_mean_squared_error: 0.0549\n",
      "Epoch 20/100\n",
      "72399/72399 [==============================] - 2s 24us/step - loss: 0.0543 - mean_squared_error: 0.0543 - val_loss: 0.0588 - val_mean_squared_error: 0.0588\n",
      "Epoch 21/100\n",
      "72399/72399 [==============================] - 2s 24us/step - loss: 0.0540 - mean_squared_error: 0.0540 - val_loss: 0.0628 - val_mean_squared_error: 0.0628\n",
      "Epoch 22/100\n",
      "72399/72399 [==============================] - 2s 24us/step - loss: 0.0540 - mean_squared_error: 0.0540 - val_loss: 0.0568 - val_mean_squared_error: 0.0568\n",
      "Epoch 23/100\n",
      "72399/72399 [==============================] - 2s 24us/step - loss: 0.0541 - mean_squared_error: 0.0541 - val_loss: 0.0504 - val_mean_squared_error: 0.0504\n",
      "Epoch 24/100\n",
      "72399/72399 [==============================] - 2s 24us/step - loss: 0.0541 - mean_squared_error: 0.0541 - val_loss: 0.0541 - val_mean_squared_error: 0.0541\n",
      "Epoch 25/100\n",
      "72399/72399 [==============================] - 2s 24us/step - loss: 0.0539 - mean_squared_error: 0.0539 - val_loss: 0.0552 - val_mean_squared_error: 0.0552\n",
      "Epoch 26/100\n",
      "72399/72399 [==============================] - 2s 24us/step - loss: 0.0538 - mean_squared_error: 0.0538 - val_loss: 0.0509 - val_mean_squared_error: 0.0509\n",
      "Epoch 27/100\n",
      "72399/72399 [==============================] - 2s 25us/step - loss: 0.0535 - mean_squared_error: 0.0535 - val_loss: 0.0551 - val_mean_squared_error: 0.0551\n",
      "Epoch 28/100\n",
      "72399/72399 [==============================] - 2s 25us/step - loss: 0.0538 - mean_squared_error: 0.0538 - val_loss: 0.0497 - val_mean_squared_error: 0.0497\n",
      "Epoch 29/100\n",
      "72399/72399 [==============================] - 2s 25us/step - loss: 0.0534 - mean_squared_error: 0.0534 - val_loss: 0.0893 - val_mean_squared_error: 0.0893\n",
      "Epoch 30/100\n",
      "72399/72399 [==============================] - 2s 25us/step - loss: 0.0537 - mean_squared_error: 0.0537 - val_loss: 0.0648 - val_mean_squared_error: 0.0648\n",
      "Epoch 31/100\n",
      "72399/72399 [==============================] - 2s 25us/step - loss: 0.0538 - mean_squared_error: 0.0538 - val_loss: 0.0546 - val_mean_squared_error: 0.0546\n",
      "Epoch 32/100\n",
      "72399/72399 [==============================] - 2s 24us/step - loss: 0.0535 - mean_squared_error: 0.0535 - val_loss: 0.0601 - val_mean_squared_error: 0.0601\n",
      "Epoch 33/100\n",
      "72399/72399 [==============================] - 2s 24us/step - loss: 0.0536 - mean_squared_error: 0.0536 - val_loss: 0.0508 - val_mean_squared_error: 0.0508\n",
      "Epoch 34/100\n",
      "72399/72399 [==============================] - 2s 25us/step - loss: 0.0538 - mean_squared_error: 0.0538 - val_loss: 0.0498 - val_mean_squared_error: 0.0498\n",
      "Epoch 35/100\n",
      "72399/72399 [==============================] - 2s 24us/step - loss: 0.0536 - mean_squared_error: 0.0536 - val_loss: 0.0556 - val_mean_squared_error: 0.0556\n",
      "Epoch 36/100\n",
      "72399/72399 [==============================] - 2s 26us/step - loss: 0.0536 - mean_squared_error: 0.0536 - val_loss: 0.0522 - val_mean_squared_error: 0.0522\n",
      "Epoch 37/100\n",
      "72399/72399 [==============================] - 2s 24us/step - loss: 0.0533 - mean_squared_error: 0.0533 - val_loss: 0.0482 - val_mean_squared_error: 0.0482\n",
      "Epoch 38/100\n",
      "72399/72399 [==============================] - 2s 24us/step - loss: 0.0533 - mean_squared_error: 0.0533 - val_loss: 0.0831 - val_mean_squared_error: 0.0831\n",
      "Epoch 39/100\n",
      "72399/72399 [==============================] - 2s 26us/step - loss: 0.0531 - mean_squared_error: 0.0531 - val_loss: 0.0526 - val_mean_squared_error: 0.0526\n",
      "Epoch 40/100\n",
      "72399/72399 [==============================] - 2s 25us/step - loss: 0.0534 - mean_squared_error: 0.0534 - val_loss: 0.0510 - val_mean_squared_error: 0.0510\n",
      "Epoch 41/100\n",
      "72399/72399 [==============================] - 2s 26us/step - loss: 0.0536 - mean_squared_error: 0.0536 - val_loss: 0.0683 - val_mean_squared_error: 0.0683\n",
      "Epoch 42/100\n",
      "72399/72399 [==============================] - 2s 26us/step - loss: 0.0535 - mean_squared_error: 0.0535 - val_loss: 0.0529 - val_mean_squared_error: 0.0529\n",
      "Epoch 43/100\n",
      "72399/72399 [==============================] - 2s 24us/step - loss: 0.0534 - mean_squared_error: 0.0534 - val_loss: 0.0515 - val_mean_squared_error: 0.0515\n",
      "Epoch 44/100\n",
      "72399/72399 [==============================] - 2s 24us/step - loss: 0.0534 - mean_squared_error: 0.0534 - val_loss: 0.0706 - val_mean_squared_error: 0.0706\n",
      "Epoch 45/100\n",
      "72399/72399 [==============================] - 2s 24us/step - loss: 0.0534 - mean_squared_error: 0.0534 - val_loss: 0.0584 - val_mean_squared_error: 0.0584\n",
      "Epoch 46/100\n",
      "72399/72399 [==============================] - 2s 24us/step - loss: 0.0534 - mean_squared_error: 0.0534 - val_loss: 0.0895 - val_mean_squared_error: 0.0895\n",
      "Epoch 47/100\n",
      "72399/72399 [==============================] - 2s 25us/step - loss: 0.0537 - mean_squared_error: 0.0537 - val_loss: 0.0795 - val_mean_squared_error: 0.0795\n",
      "Epoch 48/100\n",
      "72399/72399 [==============================] - 2s 26us/step - loss: 0.0533 - mean_squared_error: 0.0533 - val_loss: 0.0862 - val_mean_squared_error: 0.0862\n",
      "Epoch 49/100\n",
      "72399/72399 [==============================] - 2s 26us/step - loss: 0.0536 - mean_squared_error: 0.0536 - val_loss: 0.0702 - val_mean_squared_error: 0.0702\n",
      "Epoch 50/100\n",
      "72399/72399 [==============================] - 2s 27us/step - loss: 0.0536 - mean_squared_error: 0.0536 - val_loss: 0.0547 - val_mean_squared_error: 0.0547\n",
      "Epoch 51/100\n",
      "72399/72399 [==============================] - 2s 26us/step - loss: 0.0535 - mean_squared_error: 0.0535 - val_loss: 0.1253 - val_mean_squared_error: 0.1253\n",
      "Epoch 52/100\n",
      "72399/72399 [==============================] - 2s 27us/step - loss: 0.0535 - mean_squared_error: 0.0535 - val_loss: 0.0883 - val_mean_squared_error: 0.0883\n",
      "Epoch 53/100\n",
      "72399/72399 [==============================] - 2s 26us/step - loss: 0.0530 - mean_squared_error: 0.0530 - val_loss: 0.0550 - val_mean_squared_error: 0.0550\n",
      "Epoch 54/100\n",
      "72399/72399 [==============================] - 2s 26us/step - loss: 0.0532 - mean_squared_error: 0.0532 - val_loss: 0.0700 - val_mean_squared_error: 0.0700\n",
      "Epoch 55/100\n",
      "72399/72399 [==============================] - 2s 26us/step - loss: 0.0535 - mean_squared_error: 0.0535 - val_loss: 0.0608 - val_mean_squared_error: 0.0608\n",
      "Epoch 56/100\n",
      "72399/72399 [==============================] - 2s 26us/step - loss: 0.0533 - mean_squared_error: 0.0533 - val_loss: 0.0557 - val_mean_squared_error: 0.0557\n",
      "Epoch 57/100\n",
      "72399/72399 [==============================] - 2s 26us/step - loss: 0.0534 - mean_squared_error: 0.0534 - val_loss: 0.0689 - val_mean_squared_error: 0.0689\n",
      "Epoch 58/100\n",
      "72399/72399 [==============================] - 2s 26us/step - loss: 0.0531 - mean_squared_error: 0.0531 - val_loss: 0.0573 - val_mean_squared_error: 0.0573\n",
      "Epoch 59/100\n",
      "72399/72399 [==============================] - 2s 26us/step - loss: 0.0534 - mean_squared_error: 0.0534 - val_loss: 0.0774 - val_mean_squared_error: 0.0774\n",
      "Epoch 60/100\n",
      "72399/72399 [==============================] - 2s 28us/step - loss: 0.0535 - mean_squared_error: 0.0535 - val_loss: 0.0512 - val_mean_squared_error: 0.0512\n",
      "Epoch 61/100\n",
      "72399/72399 [==============================] - 2s 29us/step - loss: 0.0536 - mean_squared_error: 0.0536 - val_loss: 0.0815 - val_mean_squared_error: 0.0815\n",
      "Epoch 62/100\n",
      "72399/72399 [==============================] - 2s 27us/step - loss: 0.0534 - mean_squared_error: 0.0534 - val_loss: 0.0646 - val_mean_squared_error: 0.0646\n",
      "Epoch 63/100\n",
      "72399/72399 [==============================] - 2s 27us/step - loss: 0.0533 - mean_squared_error: 0.0533 - val_loss: 0.0564 - val_mean_squared_error: 0.0564\n",
      "Epoch 64/100\n",
      "72399/72399 [==============================] - 2s 27us/step - loss: 0.0535 - mean_squared_error: 0.0535 - val_loss: 0.0743 - val_mean_squared_error: 0.0743\n",
      "Epoch 65/100\n",
      "72399/72399 [==============================] - 2s 26us/step - loss: 0.0532 - mean_squared_error: 0.0532 - val_loss: 0.0496 - val_mean_squared_error: 0.0496\n",
      "Epoch 66/100\n",
      "72399/72399 [==============================] - 2s 26us/step - loss: 0.0532 - mean_squared_error: 0.0532 - val_loss: 0.0530 - val_mean_squared_error: 0.0530\n",
      "Epoch 67/100\n",
      "72399/72399 [==============================] - 2s 26us/step - loss: 0.0532 - mean_squared_error: 0.0532 - val_loss: 0.0514 - val_mean_squared_error: 0.0514\n",
      "Epoch 68/100\n",
      "72399/72399 [==============================] - 2s 25us/step - loss: 0.0533 - mean_squared_error: 0.0533 - val_loss: 0.0515 - val_mean_squared_error: 0.0515\n",
      "Epoch 69/100\n",
      "72399/72399 [==============================] - 2s 24us/step - loss: 0.0538 - mean_squared_error: 0.0538 - val_loss: 0.0511 - val_mean_squared_error: 0.0511\n",
      "Epoch 70/100\n",
      "72399/72399 [==============================] - 2s 25us/step - loss: 0.0532 - mean_squared_error: 0.0532 - val_loss: 0.0500 - val_mean_squared_error: 0.0500\n",
      "Epoch 71/100\n",
      "72399/72399 [==============================] - 2s 24us/step - loss: 0.0533 - mean_squared_error: 0.0533 - val_loss: 0.0667 - val_mean_squared_error: 0.0667\n",
      "Epoch 72/100\n",
      "72399/72399 [==============================] - 2s 25us/step - loss: 0.0535 - mean_squared_error: 0.0535 - val_loss: 0.0583 - val_mean_squared_error: 0.0583\n",
      "Epoch 73/100\n",
      "72399/72399 [==============================] - 2s 25us/step - loss: 0.0533 - mean_squared_error: 0.0533 - val_loss: 0.0484 - val_mean_squared_error: 0.0484\n",
      "Epoch 74/100\n",
      "72399/72399 [==============================] - 2s 24us/step - loss: 0.0533 - mean_squared_error: 0.0533 - val_loss: 0.0559 - val_mean_squared_error: 0.0559\n",
      "Epoch 75/100\n",
      "72399/72399 [==============================] - 2s 25us/step - loss: 0.0533 - mean_squared_error: 0.0533 - val_loss: 0.0727 - val_mean_squared_error: 0.0727\n",
      "Epoch 76/100\n",
      "72399/72399 [==============================] - 2s 26us/step - loss: 0.0533 - mean_squared_error: 0.0533 - val_loss: 0.0523 - val_mean_squared_error: 0.0523\n",
      "Epoch 77/100\n",
      "72399/72399 [==============================] - 2s 26us/step - loss: 0.0531 - mean_squared_error: 0.0531 - val_loss: 0.0516 - val_mean_squared_error: 0.0516\n",
      "Epoch 78/100\n",
      "72399/72399 [==============================] - 2s 26us/step - loss: 0.0531 - mean_squared_error: 0.0531 - val_loss: 0.0523 - val_mean_squared_error: 0.0523\n",
      "Epoch 79/100\n",
      "72399/72399 [==============================] - 2s 27us/step - loss: 0.0532 - mean_squared_error: 0.0532 - val_loss: 0.0482 - val_mean_squared_error: 0.0482\n",
      "Epoch 80/100\n",
      "72399/72399 [==============================] - 2s 29us/step - loss: 0.0531 - mean_squared_error: 0.0531 - val_loss: 0.0608 - val_mean_squared_error: 0.0608\n",
      "Epoch 81/100\n",
      "72399/72399 [==============================] - 2s 29us/step - loss: 0.0531 - mean_squared_error: 0.0531 - val_loss: 0.0495 - val_mean_squared_error: 0.0495\n",
      "Epoch 82/100\n",
      "72399/72399 [==============================] - 2s 28us/step - loss: 0.0531 - mean_squared_error: 0.0531 - val_loss: 0.0515 - val_mean_squared_error: 0.0515\n",
      "Epoch 83/100\n",
      "72399/72399 [==============================] - 2s 29us/step - loss: 0.0530 - mean_squared_error: 0.0530 - val_loss: 0.0491 - val_mean_squared_error: 0.0491\n",
      "Epoch 84/100\n",
      "72399/72399 [==============================] - 2s 28us/step - loss: 0.0533 - mean_squared_error: 0.0533 - val_loss: 0.0504 - val_mean_squared_error: 0.0504\n",
      "Epoch 85/100\n",
      "72399/72399 [==============================] - 2s 29us/step - loss: 0.0529 - mean_squared_error: 0.0529 - val_loss: 0.0537 - val_mean_squared_error: 0.0537\n",
      "Epoch 86/100\n",
      "72399/72399 [==============================] - 2s 29us/step - loss: 0.0533 - mean_squared_error: 0.0533 - val_loss: 0.0501 - val_mean_squared_error: 0.0501\n",
      "Epoch 87/100\n",
      "72399/72399 [==============================] - 2s 29us/step - loss: 0.0534 - mean_squared_error: 0.0534 - val_loss: 0.0633 - val_mean_squared_error: 0.0633\n",
      "Epoch 88/100\n",
      "72399/72399 [==============================] - 2s 30us/step - loss: 0.0536 - mean_squared_error: 0.0536 - val_loss: 0.0487 - val_mean_squared_error: 0.0487\n",
      "Epoch 89/100\n",
      "72399/72399 [==============================] - 2s 26us/step - loss: 0.0539 - mean_squared_error: 0.0539 - val_loss: 0.0555 - val_mean_squared_error: 0.0555\n",
      "Epoch 90/100\n",
      "72399/72399 [==============================] - 2s 28us/step - loss: 0.0544 - mean_squared_error: 0.0544 - val_loss: 0.0731 - val_mean_squared_error: 0.0731\n",
      "Epoch 91/100\n",
      "72399/72399 [==============================] - 2s 28us/step - loss: 0.0540 - mean_squared_error: 0.0540 - val_loss: 0.0790 - val_mean_squared_error: 0.0790\n",
      "Epoch 92/100\n",
      "72399/72399 [==============================] - 2s 28us/step - loss: 0.0550 - mean_squared_error: 0.0550 - val_loss: 0.0489 - val_mean_squared_error: 0.0489\n",
      "Epoch 93/100\n",
      "72399/72399 [==============================] - 2s 28us/step - loss: 0.0547 - mean_squared_error: 0.0547 - val_loss: 0.0489 - val_mean_squared_error: 0.0489\n",
      "Epoch 94/100\n",
      "72399/72399 [==============================] - 2s 28us/step - loss: 0.0543 - mean_squared_error: 0.0543 - val_loss: 0.1267 - val_mean_squared_error: 0.1267\n",
      "Epoch 95/100\n",
      "72399/72399 [==============================] - 2s 27us/step - loss: 0.0544 - mean_squared_error: 0.0544 - val_loss: 0.0576 - val_mean_squared_error: 0.0576\n",
      "Epoch 96/100\n",
      "72399/72399 [==============================] - 2s 25us/step - loss: 0.0539 - mean_squared_error: 0.0539 - val_loss: 0.0620 - val_mean_squared_error: 0.0620\n",
      "Epoch 97/100\n"
     ]
    },
    {
     "name": "stdout",
     "output_type": "stream",
     "text": [
      "72399/72399 [==============================] - 2s 25us/step - loss: 0.0545 - mean_squared_error: 0.0545 - val_loss: 0.0857 - val_mean_squared_error: 0.0857\n",
      "Epoch 98/100\n",
      "72399/72399 [==============================] - 2s 26us/step - loss: 0.0543 - mean_squared_error: 0.0543 - val_loss: 0.0569 - val_mean_squared_error: 0.0569\n",
      "Epoch 99/100\n",
      "72399/72399 [==============================] - 2s 25us/step - loss: 0.0543 - mean_squared_error: 0.0543 - val_loss: 0.0551 - val_mean_squared_error: 0.0551\n",
      "Epoch 100/100\n",
      "72399/72399 [==============================] - 2s 25us/step - loss: 0.0539 - mean_squared_error: 0.0539 - val_loss: 0.0679 - val_mean_squared_error: 0.0679\n"
     ]
    }
   ],
   "source": [
    "h=model.fit(xtrain, ytrain, validation_split=.2,epochs=100, batch_size=50)"
   ]
  },
  {
   "cell_type": "code",
   "execution_count": 36,
   "metadata": {},
   "outputs": [
    {
     "name": "stdout",
     "output_type": "stream",
     "text": [
      "mean_squared_error 0.06896989270376258\n",
      "root mean_squared_error 0.2626211962195028\n",
      "mean_absolute_error 0.20715332079555449\n",
      "r2_score 0.6509835026362908\n"
     ]
    },
    {
     "data": {
      "text/html": [
       "<div>\n",
       "<style scoped>\n",
       "    .dataframe tbody tr th:only-of-type {\n",
       "        vertical-align: middle;\n",
       "    }\n",
       "\n",
       "    .dataframe tbody tr th {\n",
       "        vertical-align: top;\n",
       "    }\n",
       "\n",
       "    .dataframe thead th {\n",
       "        text-align: right;\n",
       "    }\n",
       "</style>\n",
       "<table border=\"1\" class=\"dataframe\">\n",
       "  <thead>\n",
       "    <tr style=\"text-align: right;\">\n",
       "      <th></th>\n",
       "      <th>t + 1</th>\n",
       "      <th>pred (t +1)</th>\n",
       "    </tr>\n",
       "  </thead>\n",
       "  <tbody>\n",
       "    <tr>\n",
       "      <th>0</th>\n",
       "      <td>3.86</td>\n",
       "      <td>4.023293</td>\n",
       "    </tr>\n",
       "    <tr>\n",
       "      <th>1</th>\n",
       "      <td>4.62</td>\n",
       "      <td>4.731384</td>\n",
       "    </tr>\n",
       "    <tr>\n",
       "      <th>2</th>\n",
       "      <td>3.96</td>\n",
       "      <td>4.048664</td>\n",
       "    </tr>\n",
       "    <tr>\n",
       "      <th>3</th>\n",
       "      <td>4.48</td>\n",
       "      <td>4.267197</td>\n",
       "    </tr>\n",
       "    <tr>\n",
       "      <th>4</th>\n",
       "      <td>4.25</td>\n",
       "      <td>4.335638</td>\n",
       "    </tr>\n",
       "    <tr>\n",
       "      <th>5</th>\n",
       "      <td>3.97</td>\n",
       "      <td>4.307290</td>\n",
       "    </tr>\n",
       "    <tr>\n",
       "      <th>6</th>\n",
       "      <td>4.11</td>\n",
       "      <td>4.482774</td>\n",
       "    </tr>\n",
       "    <tr>\n",
       "      <th>7</th>\n",
       "      <td>4.05</td>\n",
       "      <td>4.108521</td>\n",
       "    </tr>\n",
       "    <tr>\n",
       "      <th>8</th>\n",
       "      <td>4.93</td>\n",
       "      <td>4.275688</td>\n",
       "    </tr>\n",
       "    <tr>\n",
       "      <th>9</th>\n",
       "      <td>4.76</td>\n",
       "      <td>4.643146</td>\n",
       "    </tr>\n",
       "  </tbody>\n",
       "</table>\n",
       "</div>"
      ],
      "text/plain": [
       "   t + 1  pred (t +1)\n",
       "0   3.86     4.023293\n",
       "1   4.62     4.731384\n",
       "2   3.96     4.048664\n",
       "3   4.48     4.267197\n",
       "4   4.25     4.335638\n",
       "5   3.97     4.307290\n",
       "6   4.11     4.482774\n",
       "7   4.05     4.108521\n",
       "8   4.93     4.275688\n",
       "9   4.76     4.643146"
      ]
     },
     "execution_count": 36,
     "metadata": {},
     "output_type": "execute_result"
    }
   ],
   "source": [
    "ypred=model.predict(xtest)\n",
    "\n",
    "import math\n",
    "print('mean_squared_error',mean_squared_error(ytest, ypred))\n",
    "print('root mean_squared_error',math.sqrt(mean_squared_error(ytest, ypred)))\n",
    "print('mean_absolute_error',mean_absolute_error(ytest, ypred))\n",
    "print('r2_score',r2_score(ytest, ypred))\n",
    "\n",
    "ypredPD=pd.DataFrame()\n",
    "# ypredPD['t']=xtest['S000501_x'].values\n",
    "ypredPD['t + 1']=ytest.values.ravel()\n",
    "ypredPD['pred (t +1)']=ypred\n",
    "ypredPD.head(10)"
   ]
  },
  {
   "cell_type": "code",
   "execution_count": 37,
   "metadata": {},
   "outputs": [
    {
     "name": "stdout",
     "output_type": "stream",
     "text": [
      "dict_keys(['val_loss', 'val_mean_squared_error', 'loss', 'mean_squared_error'])\n"
     ]
    },
    {
     "data": {
      "image/png": "[encoded data removed]",
      "text/plain": [
       "<Figure size 432x288 with 1 Axes>"
      ]
     },
     "metadata": {
      "needs_background": "light"
     },
     "output_type": "display_data"
    },
    {
     "data": {
      "image/png": "[encoded data removed]",
      "text/plain": [
       "<Figure size 432x288 with 1 Axes>"
      ]
     },
     "metadata": {
      "needs_background": "light"
     },
     "output_type": "display_data"
    }
   ],
   "source": [
    "history=h\n",
    "print(history.history.keys())\n",
    "# summarize history for accuracy\n",
    "plt.plot(history.history['val_loss'])\n",
    "plt.plot(history.history['loss'])\n",
    "plt.title('model accuracy')\n",
    "plt.ylabel('accuracy')\n",
    "plt.xlabel('epoch')\n",
    "plt.legend(['train', 'test'], loc='upper left')\n",
    "plt.show()\n",
    "# summarize history for loss\n",
    "plt.plot(history.history['val_mean_squared_error'])\n",
    "plt.plot(history.history['mean_squared_error'])\n",
    "plt.title('model loss')\n",
    "plt.ylabel('loss')\n",
    "plt.xlabel('epoch')\n",
    "plt.legend(['train', 'test'], loc='upper left')\n",
    "plt.show()"
   ]
  },
  {
   "cell_type": "code",
   "execution_count": 38,
   "metadata": {},
   "outputs": [
    {
     "name": "stdout",
     "output_type": "stream",
     "text": [
      "0.20715332079555243\n",
      "0.16142302929612215\n",
      "100.0\n"
     ]
    }
   ],
   "source": [
    "ypredPD['diff']=abs(ypredPD['t + 1']- ypredPD['pred (t +1)'])\n",
    "print(np.mean(ypredPD['diff']))\n",
    "print(np.std(ypredPD['diff']))\n",
    "print(100*ypredPD[ypredPD['diff']<=5].shape[0]/ypredPD.shape[0])"
   ]
  },
  {
   "cell_type": "code",
   "execution_count": 39,
   "metadata": {},
   "outputs": [
    {
     "data": {
      "image/png": "[encoded data removed]",
      "text/plain": [
       "<Figure size 432x288 with 1 Axes>"
      ]
     },
     "metadata": {
      "needs_background": "light"
     },
     "output_type": "display_data"
    },
    {
     "data": {
      "text/html": [
       "<div>\n",
       "<style scoped>\n",
       "    .dataframe tbody tr th:only-of-type {\n",
       "        vertical-align: middle;\n",
       "    }\n",
       "\n",
       "    .dataframe tbody tr th {\n",
       "        vertical-align: top;\n",
       "    }\n",
       "\n",
       "    .dataframe thead th {\n",
       "        text-align: right;\n",
       "    }\n",
       "</style>\n",
       "<table border=\"1\" class=\"dataframe\">\n",
       "  <thead>\n",
       "    <tr style=\"text-align: right;\">\n",
       "      <th></th>\n",
       "      <th>t + 1</th>\n",
       "      <th>pred (t +1)</th>\n",
       "      <th>diff</th>\n",
       "    </tr>\n",
       "  </thead>\n",
       "  <tbody>\n",
       "    <tr>\n",
       "      <th>8501</th>\n",
       "      <td>2.98</td>\n",
       "      <td>4.106242</td>\n",
       "      <td>1.126242</td>\n",
       "    </tr>\n",
       "    <tr>\n",
       "      <th>20737</th>\n",
       "      <td>3.10</td>\n",
       "      <td>4.084755</td>\n",
       "      <td>0.984755</td>\n",
       "    </tr>\n",
       "    <tr>\n",
       "      <th>12878</th>\n",
       "      <td>3.10</td>\n",
       "      <td>3.807423</td>\n",
       "      <td>0.707423</td>\n",
       "    </tr>\n",
       "    <tr>\n",
       "      <th>6217</th>\n",
       "      <td>3.13</td>\n",
       "      <td>3.807423</td>\n",
       "      <td>0.677423</td>\n",
       "    </tr>\n",
       "    <tr>\n",
       "      <th>19339</th>\n",
       "      <td>3.15</td>\n",
       "      <td>4.132241</td>\n",
       "      <td>0.982241</td>\n",
       "    </tr>\n",
       "    <tr>\n",
       "      <th>14207</th>\n",
       "      <td>3.18</td>\n",
       "      <td>4.440772</td>\n",
       "      <td>1.260772</td>\n",
       "    </tr>\n",
       "    <tr>\n",
       "      <th>101</th>\n",
       "      <td>3.20</td>\n",
       "      <td>3.835858</td>\n",
       "      <td>0.635858</td>\n",
       "    </tr>\n",
       "    <tr>\n",
       "      <th>11341</th>\n",
       "      <td>3.21</td>\n",
       "      <td>3.860869</td>\n",
       "      <td>0.650869</td>\n",
       "    </tr>\n",
       "    <tr>\n",
       "      <th>4946</th>\n",
       "      <td>3.29</td>\n",
       "      <td>4.272937</td>\n",
       "      <td>0.982937</td>\n",
       "    </tr>\n",
       "    <tr>\n",
       "      <th>6461</th>\n",
       "      <td>3.29</td>\n",
       "      <td>3.867522</td>\n",
       "      <td>0.577522</td>\n",
       "    </tr>\n",
       "  </tbody>\n",
       "</table>\n",
       "</div>"
      ],
      "text/plain": [
       "       t + 1  pred (t +1)      diff\n",
       "8501    2.98     4.106242  1.126242\n",
       "20737   3.10     4.084755  0.984755\n",
       "12878   3.10     3.807423  0.707423\n",
       "6217    3.13     3.807423  0.677423\n",
       "19339   3.15     4.132241  0.982241\n",
       "14207   3.18     4.440772  1.260772\n",
       "101     3.20     3.835858  0.635858\n",
       "11341   3.21     3.860869  0.650869\n",
       "4946    3.29     4.272937  0.982937\n",
       "6461    3.29     3.867522  0.577522"
      ]
     },
     "execution_count": 39,
     "metadata": {},
     "output_type": "execute_result"
    },
    {
     "data": {
      "image/png": "[encoded data removed]",
      "text/plain": [
       "<Figure size 432x288 with 1 Axes>"
      ]
     },
     "metadata": {
      "needs_background": "light"
     },
     "output_type": "display_data"
    }
   ],
   "source": [
    "\n",
    "import matplotlib.patches as mpatches\n",
    "plt.ylabel('Values')\n",
    "plt.xlabel('index')\n",
    "red_patch = mpatches.Patch(color='red', label='Actual data')\n",
    "blue_patch = mpatches.Patch(color='blue', label='Predicted data')\n",
    "plt.legend(handles=[red_patch,blue_patch])\n",
    "\n",
    "ypredPD=ypredPD.sort_values(by=['t + 1'])\n",
    "plt.scatter(np.arange(0,ypredPD.shape[0],1),ypredPD['pred (t +1)'][:ypredPD.shape[0]])\n",
    "plt.plot(np.arange(0,ypredPD.shape[0],1),ypredPD['t + 1'][:ypredPD.shape[0]],color='red')\n",
    "plt.show()\n",
    "\n",
    "plt.ylabel('p*(t+1), Predicted data')\n",
    "plt.xlabel('p(t+1), Actual data')\n",
    "plt.scatter(ypredPD['t + 1'][:ypredPD.shape[0]],ypredPD['pred (t +1)'][:ypredPD.shape[0]])\n",
    "\n",
    "ypredPD.head(10)"
   ]
  },
  {
   "cell_type": "markdown",
   "metadata": {},
   "source": [
    "SVR\n",
    "======"
   ]
  },
  {
   "cell_type": "code",
   "execution_count": null,
   "metadata": {},
   "outputs": [],
   "source": [
    "from sklearn.svm import SVR\n",
    "# svr_rbf = SVR(kernel='rbf', C=10, gamma=0.02, epsilon=.001)\n",
    "svr_rbf = SVR(kernel='rbf')"
   ]
  },
  {
   "cell_type": "code",
   "execution_count": null,
   "metadata": {},
   "outputs": [],
   "source": [
    "svr_rbf.fit(xtrain, ytrain) "
   ]
  },
  {
   "cell_type": "code",
   "execution_count": null,
   "metadata": {},
   "outputs": [],
   "source": [
    "ypred=svr_rbf.predict(xtest)"
   ]
  },
  {
   "cell_type": "code",
   "execution_count": null,
   "metadata": {},
   "outputs": [],
   "source": [
    "import math\n",
    "print('mean_squared_error',mean_squared_error(ytest, ypred))\n",
    "print('root mean_squared_error',math.sqrt(mean_squared_error(ytest, ypred)))\n",
    "print('mean_absolute_error',mean_absolute_error(ytest, ypred))\n",
    "print('r2_score',r2_score(ytest, ypred))\n",
    "\n",
    "ypredPD=pd.DataFrame()\n",
    "# ypredPD['t']=xtest['S000501_x'].values\n",
    "ypredPD['t + 1']=ytest.values.ravel()\n",
    "ypredPD['pred (t +1)']=ypred\n",
    "ypredPD.head(10)"
   ]
  },
  {
   "cell_type": "code",
   "execution_count": null,
   "metadata": {},
   "outputs": [],
   "source": []
  },
  {
   "cell_type": "code",
   "execution_count": null,
   "metadata": {},
   "outputs": [],
   "source": []
  }
 ],
 "metadata": {
  "kernelspec": {
   "display_name": "Python 3",
   "language": "python",
   "name": "python3"
  },
  "language_info": {
   "codemirror_mode": {
    "name": "ipython",
    "version": 3
   },
   "file_extension": ".py",
   "mimetype": "text/x-python",
   "name": "python",
   "nbconvert_exporter": "python",
   "pygments_lexer": "ipython3",
   "version": "3.7.3"
  }
 },
 "nbformat": 4,
 "nbformat_minor": 2
}

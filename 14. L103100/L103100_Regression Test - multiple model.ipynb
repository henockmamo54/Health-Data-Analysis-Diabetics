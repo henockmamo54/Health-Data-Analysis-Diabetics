{
 "cells": [
  {
   "cell_type": "code",
   "execution_count": 2,
   "metadata": {},
   "outputs": [
    {
     "name": "stderr",
     "output_type": "stream",
     "text": [
      "Using TensorFlow backend.\n"
     ]
    }
   ],
   "source": [
    "from matplotlib import pyplot as plt\n",
    "import pandas as pd \n",
    "import numpy as np\n",
    "import warnings\n",
    "warnings.filterwarnings('ignore')\n",
    "from scipy import stats\n",
    "from sklearn.utils import shuffle\n",
    "from sklearn.preprocessing import LabelEncoder\n",
    "from sklearn.metrics import confusion_matrix \n",
    "from sklearn.utils import shuffle\n",
    "from sklearn.ensemble import RandomForestRegressor\n",
    "from sklearn.datasets import make_regression\n",
    "from sklearn.model_selection import train_test_split\n",
    "from sklearn.metrics import mean_absolute_error\n",
    "from sklearn.metrics import mean_squared_error\n",
    "from sklearn.metrics import mean_absolute_error\n",
    "from sklearn.metrics import r2_score\n",
    "from keras.models import Sequential\n",
    "from keras.layers import Dense\n",
    "from keras.wrappers.scikit_learn import KerasRegressor\n",
    "from sklearn.model_selection import cross_val_score\n",
    "from sklearn.model_selection import KFold\n",
    "from sklearn.preprocessing import StandardScaler\n",
    "from sklearn.pipeline import Pipeline\n",
    "from keras.layers import Dropout\n",
    "from keras.layers import BatchNormalization\n",
    "from keras.models import model_from_json\n",
    "from keras.utils import multi_gpu_model \n",
    "from keras.utils import to_categorical\n"
   ]
  },
  {
   "cell_type": "markdown",
   "metadata": {},
   "source": [
    "Read the data\n",
    "==========="
   ]
  },
  {
   "cell_type": "code",
   "execution_count": 4,
   "metadata": {},
   "outputs": [
    {
     "name": "stdout",
     "output_type": "stream",
     "text": [
      "(159381, 9)\n",
      "(159381, 2)\n"
     ]
    }
   ],
   "source": [
    "x_original=pd.read_csv('../_xlable4_withNa_AllColumns.txt')\n",
    "y_original=pd.read_csv('../_targelable4_withNa_AllColumns.txt')\n",
    "\n",
    "# x_original=x_original[['Unnamed: 0','L103100', 'L103300', 'L103000', 'SEX', 'S000300', 'L190300', 'L100500', 'L100700', \n",
    "#                        'L190400', 'S000100', 'L190500', 'L101300', 'S000501', 'L103800', 'L103700', 'L100800', 'L101400', \n",
    "#                        'S000502', 'L101600','FIELD_33',  'FIELD_40', 'FIELD_21', 'FIELD_29', \n",
    "#                        'FIELD_38', 'FIELD_41', 'FIELD_14', 'FIELD_42', 'FIELD_27', 'FIELD_31', 'AGE'\n",
    "# #                        'FIELD_6', 'FIELD_7',\n",
    "#                       ]]\n",
    "\n",
    "# y_original=y_original[['Unnamed: 0','L103100', 'L103300', 'L103000', 'SEX', 'S000300', 'L190300', 'L100500', 'L100700', \n",
    "#                        'L190400', 'S000100', 'L190500', 'L101300', 'S000501', 'L103800', 'L103700', 'L100800', 'L101400', \n",
    "#                        'S000502', 'L101600','FIELD_33',  'FIELD_40', 'FIELD_21', 'FIELD_29', \n",
    "#                        'FIELD_38', 'FIELD_41', 'FIELD_14', 'FIELD_42', 'FIELD_27', 'FIELD_31', 'AGE'\n",
    "# #                        'FIELD_6', 'FIELD_7',\n",
    "#                       ]]\n",
    "\n",
    "x_original=x_original[['Unnamed: 0','L103100','L103300','L103000','S000300','FIELD_38','AGE','L100800','L100700' ]]\n",
    "\n",
    "y_original=y_original[['Unnamed: 0','L103100', ]]\n",
    "\n",
    "print(x_original.shape)\n",
    "print(y_original.shape)\n"
   ]
  },
  {
   "cell_type": "code",
   "execution_count": 5,
   "metadata": {},
   "outputs": [
    {
     "name": "stdout",
     "output_type": "stream",
     "text": [
      "Unnamed: 0 159381\n",
      "L103100 158880\n",
      "L103300 135222\n",
      "L103000 158939\n",
      "S000300 159075\n",
      "FIELD_38 159077\n",
      "AGE 159381\n",
      "L100800 159236\n",
      "L100700 152474\n"
     ]
    }
   ],
   "source": [
    "for index,col in enumerate(x_original.columns):\n",
    "    print(col,x_original[col].dropna().shape[0])"
   ]
  },
  {
   "cell_type": "markdown",
   "metadata": {},
   "source": [
    "Prepare the data\n",
    "============"
   ]
  },
  {
   "cell_type": "code",
   "execution_count": 8,
   "metadata": {},
   "outputs": [],
   "source": [
    "# df=x_original.copy()\n",
    "# conditions = [\n",
    "#     (df.S000501 < 120)  ,\n",
    "#     (df.S000501 >= 120) & (df.S000501 < 130),\n",
    "#     (df.S000501 >=130)]\n",
    "# choices = [0,1,2]\n",
    "# df['sbpG'] = np.select(conditions, choices, default=0)\n",
    "# df.head()\n",
    "# x_original=df.copy()\n",
    "\n",
    "# conditions2 = [\n",
    "#     (df.S000502 < 80)  ,\n",
    "#     (df.S000502 >= 80) & (df.S000502 < 90),\n",
    "#     (df.S000502 >=90)]\n",
    "# choices2 = [0,1,2]\n",
    "# df['dbpG'] = np.select(conditions2, choices2, default=0)\n",
    "# df.head()\n",
    "# x_original=df.copy()\n",
    "\n",
    "# conditions3 = [\n",
    "#     (df.AGE < 30)  ,\n",
    "#     (df.AGE >= 30) & (df.AGE < 40),\n",
    "#     (df.AGE >= 40) & (df.AGE < 50),\n",
    "#     (df.AGE >= 50) & (df.AGE < 60),\n",
    "#     (df.AGE >= 60)]\n",
    "# choices3 = [0,1,2,3,4]\n",
    "# df['AgeG'] = np.select(conditions3, choices3, default=0)\n",
    "# df.head()\n",
    "# x_original=df.copy()\n",
    "\n",
    "\n",
    "# conditions4 = [\n",
    "#     (df.L100800 < 100)  ,\n",
    "#     (df.L100800 >= 100) & (df.L100800 < 126), \n",
    "#     (df.L100800 >= 126)]\n",
    "# choices4 = [0,1,2]\n",
    "# df['CLASS'] = np.select(conditions4, choices4, default=0)\n",
    "# df.head()\n",
    "# x_original=df.copy()"
   ]
  },
  {
   "cell_type": "code",
   "execution_count": 9,
   "metadata": {},
   "outputs": [
    {
     "name": "stdout",
     "output_type": "stream",
     "text": [
      "(128620, 11)\n"
     ]
    }
   ],
   "source": [
    "data= pd.merge(x_original,y_original, how='inner',left_on='Unnamed: 0', right_on='Unnamed: 0')\n",
    "data=data.dropna(). reset_index()\n",
    "\n",
    "# data=data[data.AGE_x >= 40]\n",
    "# data=data[data.AGE_x < 50]\n",
    "\n",
    "# data=data[data.CLASS_x==0]\n",
    "# data=data[data.sbpG==0]\n",
    "# data=data[data.dbpG==0]\n",
    "\n",
    "# data=data[data.L100800_y <200]\n",
    "\n",
    "print(data.shape)"
   ]
  },
  {
   "cell_type": "code",
   "execution_count": 10,
   "metadata": {},
   "outputs": [
    {
     "name": "stdout",
     "output_type": "stream",
     "text": [
      "(128620, 11)\n",
      "Index(['index', 'Unnamed: 0', 'L103100_x', 'L103300', 'L103000', 'S000300',\n",
      "       'FIELD_38', 'AGE', 'L100800', 'L100700', 'L103100_y'],\n",
      "      dtype='object')\n"
     ]
    },
    {
     "data": {
      "text/html": [
       "<div>\n",
       "<style scoped>\n",
       "    .dataframe tbody tr th:only-of-type {\n",
       "        vertical-align: middle;\n",
       "    }\n",
       "\n",
       "    .dataframe tbody tr th {\n",
       "        vertical-align: top;\n",
       "    }\n",
       "\n",
       "    .dataframe thead th {\n",
       "        text-align: right;\n",
       "    }\n",
       "</style>\n",
       "<table border=\"1\" class=\"dataframe\">\n",
       "  <thead>\n",
       "    <tr style=\"text-align: right;\">\n",
       "      <th></th>\n",
       "      <th>index</th>\n",
       "      <th>Unnamed: 0</th>\n",
       "      <th>L103100_x</th>\n",
       "      <th>L103300</th>\n",
       "      <th>L103000</th>\n",
       "      <th>S000300</th>\n",
       "      <th>FIELD_38</th>\n",
       "      <th>AGE</th>\n",
       "      <th>L100800</th>\n",
       "      <th>L100700</th>\n",
       "      <th>L103100_y</th>\n",
       "    </tr>\n",
       "  </thead>\n",
       "  <tbody>\n",
       "    <tr>\n",
       "      <th>0</th>\n",
       "      <td>0</td>\n",
       "      <td>0</td>\n",
       "      <td>68.0</td>\n",
       "      <td>3.1</td>\n",
       "      <td>53.0</td>\n",
       "      <td>20.1</td>\n",
       "      <td>1.0</td>\n",
       "      <td>44.0</td>\n",
       "      <td>77.0</td>\n",
       "      <td>3.0</td>\n",
       "      <td>71.0</td>\n",
       "    </tr>\n",
       "    <tr>\n",
       "      <th>1</th>\n",
       "      <td>1</td>\n",
       "      <td>1</td>\n",
       "      <td>71.0</td>\n",
       "      <td>3.3</td>\n",
       "      <td>53.0</td>\n",
       "      <td>19.7</td>\n",
       "      <td>1.0</td>\n",
       "      <td>45.0</td>\n",
       "      <td>89.0</td>\n",
       "      <td>3.0</td>\n",
       "      <td>72.0</td>\n",
       "    </tr>\n",
       "    <tr>\n",
       "      <th>2</th>\n",
       "      <td>2</td>\n",
       "      <td>2</td>\n",
       "      <td>72.0</td>\n",
       "      <td>3.4</td>\n",
       "      <td>41.0</td>\n",
       "      <td>20.2</td>\n",
       "      <td>2.0</td>\n",
       "      <td>46.0</td>\n",
       "      <td>78.0</td>\n",
       "      <td>3.8</td>\n",
       "      <td>76.0</td>\n",
       "    </tr>\n",
       "    <tr>\n",
       "      <th>3</th>\n",
       "      <td>3</td>\n",
       "      <td>3</td>\n",
       "      <td>64.0</td>\n",
       "      <td>2.8</td>\n",
       "      <td>58.0</td>\n",
       "      <td>24.8</td>\n",
       "      <td>0.0</td>\n",
       "      <td>51.0</td>\n",
       "      <td>95.0</td>\n",
       "      <td>3.7</td>\n",
       "      <td>58.0</td>\n",
       "    </tr>\n",
       "    <tr>\n",
       "      <th>4</th>\n",
       "      <td>4</td>\n",
       "      <td>4</td>\n",
       "      <td>58.0</td>\n",
       "      <td>2.9</td>\n",
       "      <td>50.0</td>\n",
       "      <td>25.5</td>\n",
       "      <td>0.0</td>\n",
       "      <td>52.0</td>\n",
       "      <td>90.0</td>\n",
       "      <td>3.4</td>\n",
       "      <td>67.0</td>\n",
       "    </tr>\n",
       "  </tbody>\n",
       "</table>\n",
       "</div>"
      ],
      "text/plain": [
       "   index  Unnamed: 0  L103100_x  L103300  L103000  S000300  FIELD_38   AGE  \\\n",
       "0      0           0       68.0      3.1     53.0     20.1       1.0  44.0   \n",
       "1      1           1       71.0      3.3     53.0     19.7       1.0  45.0   \n",
       "2      2           2       72.0      3.4     41.0     20.2       2.0  46.0   \n",
       "3      3           3       64.0      2.8     58.0     24.8       0.0  51.0   \n",
       "4      4           4       58.0      2.9     50.0     25.5       0.0  52.0   \n",
       "\n",
       "   L100800  L100700  L103100_y  \n",
       "0     77.0      3.0       71.0  \n",
       "1     89.0      3.0       72.0  \n",
       "2     78.0      3.8       76.0  \n",
       "3     95.0      3.7       58.0  \n",
       "4     90.0      3.4       67.0  "
      ]
     },
     "execution_count": 10,
     "metadata": {},
     "output_type": "execute_result"
    }
   ],
   "source": [
    "print(data.shape)\n",
    "print(data.columns)\n",
    "data.head()"
   ]
  },
  {
   "cell_type": "code",
   "execution_count": 11,
   "metadata": {},
   "outputs": [],
   "source": [
    "# x=data[['L103100_x', 'L103300_x', 'L103000_x', 'SEX_x', 'S000300_x', 'L190300_x', 'L100500_x', 'L100700_x', \n",
    "#                        'L190400_x', 'S000100_x', 'L190500_x', 'L101300_x', 'S000501_x', 'L103800_x', 'L103700_x', 'L100800_x', 'L101400_x', \n",
    "#                        'S000502_x', 'L101600_x','FIELD_33_x',  'FIELD_40_x', 'FIELD_21_x', 'FIELD_29_x', \n",
    "#                        'FIELD_38_x', 'FIELD_41_x', 'FIELD_14_x', 'FIELD_42_x', 'FIELD_27_x', 'FIELD_31_x', 'AGE_x',\n",
    "#         'CLASS','sbpG','dbpG','AgeG']]\n",
    "\n",
    "# y=data[['L103100_y', 'L103300_y', 'L103000_y', 'SEX_y', 'S000300_y', 'L190300_y', 'L100500_y', 'L100700_y', \n",
    "#                        'L190400_y', 'S000100_y', 'L190500_y', 'L101300_y', 'S000501_y', 'L103800_y', 'L103700_y', 'L100800_y', 'L101400_y', \n",
    "#                        'S000502_y', 'L101600_y','FIELD_33_y',  'FIELD_40_y', 'FIELD_21_y', 'FIELD_29_y', \n",
    "#                        'FIELD_38_y', 'FIELD_41_y', 'FIELD_14_y', 'FIELD_42_y', 'FIELD_27_y', 'FIELD_31_y', 'AGE_y'\n",
    "#         ]]\n",
    "\n",
    "x=data[['L103100_x', 'L103300','L103000','S000300','FIELD_38','AGE','L100800','L100700']]\n",
    "\n",
    "y=data[['L103100_y' ]]"
   ]
  },
  {
   "cell_type": "markdown",
   "metadata": {},
   "source": [
    "Check the correlation of the selected feature with the independent variables\n",
    "====="
   ]
  },
  {
   "cell_type": "code",
   "execution_count": 12,
   "metadata": {},
   "outputs": [],
   "source": [
    "temppd=pd.DataFrame(x.copy())\n",
    "temppd['y']=y.L103100_y\n",
    "temppd.head()\n",
    "corval=abs(temppd.corr()).sort_values(by='y', ascending=False)"
   ]
  },
  {
   "cell_type": "code",
   "execution_count": 13,
   "metadata": {},
   "outputs": [
    {
     "data": {
      "text/plain": [
       "y            1.000000\n",
       "L103100_x    0.783116\n",
       "L103300      0.631790\n",
       "S000300      0.386041\n",
       "L103000      0.383398\n",
       "L100700      0.349224\n",
       "L100800      0.209074\n",
       "AGE          0.115655\n",
       "FIELD_38     0.000650\n",
       "Name: y, dtype: float64"
      ]
     },
     "execution_count": 13,
     "metadata": {},
     "output_type": "execute_result"
    }
   ],
   "source": [
    "corval.y"
   ]
  },
  {
   "cell_type": "code",
   "execution_count": 14,
   "metadata": {},
   "outputs": [],
   "source": [
    "#histogram plot of the features\n",
    "# import matplotlib.pyplot as plt\n",
    "# x[x.dtypes[(x.dtypes==\"float64\")|(x.dtypes==\"int64\")]\n",
    "#                         .index.values].hist(figsize=[11,11])"
   ]
  },
  {
   "cell_type": "markdown",
   "metadata": {},
   "source": [
    "Apply PCA\n",
    "==========="
   ]
  },
  {
   "cell_type": "code",
   "execution_count": 15,
   "metadata": {},
   "outputs": [],
   "source": [
    "# from sklearn.decomposition import PCA\n",
    "# pca = PCA(n_components=8)\n",
    "# pca.fit(x)\n",
    "\n",
    "# print(pca.explained_variance_ratio_)   \n",
    "# print(np.sum(pca.explained_variance_ratio_))\n",
    "\n",
    "# x=pca.fit_transform(x) \n",
    "# print(x.shape)\n"
   ]
  },
  {
   "cell_type": "markdown",
   "metadata": {},
   "source": [
    "feature scaling\n",
    "======="
   ]
  },
  {
   "cell_type": "code",
   "execution_count": 16,
   "metadata": {},
   "outputs": [],
   "source": [
    "# from sklearn import preprocessing\n",
    "# min_max_scaler = preprocessing.MinMaxScaler()  #StandardScaler()\n",
    "# x = min_max_scaler.fit_transform(x)"
   ]
  },
  {
   "cell_type": "markdown",
   "metadata": {},
   "source": [
    "clustring test\n",
    "=========="
   ]
  },
  {
   "cell_type": "code",
   "execution_count": 17,
   "metadata": {},
   "outputs": [],
   "source": [
    "# from sklearn.cluster import KMeans\n",
    "# from scipy.spatial.distance import cdist\n",
    "\n",
    "# K = range(1,10)\n",
    "# distortions = []\n",
    "\n",
    "# for k in K:\n",
    "#     kmeanModel = KMeans(n_clusters=k).fit(x)\n",
    "#     kmeanModel.fit(x)\n",
    "#     distortions.append(sum(np.min(cdist(x, kmeanModel.cluster_centers_, 'euclidean'), axis=1)) / x.shape[0])\n",
    "\n",
    "# # Plot the elbow\n",
    "# plt.plot(K, distortions, 'bx-')\n",
    "# plt.xlabel('k')\n",
    "# plt.ylabel('Distortion')\n",
    "# plt.title('The Elbow Method showing the optimal k')\n",
    "# plt.show()\n"
   ]
  },
  {
   "cell_type": "code",
   "execution_count": 18,
   "metadata": {},
   "outputs": [],
   "source": [
    "# kmeanModel = KMeans(n_clusters=k).fit(x)\n",
    "# x['lbl']=kmeanModel.labels_ "
   ]
  },
  {
   "cell_type": "code",
   "execution_count": 19,
   "metadata": {},
   "outputs": [],
   "source": [
    "# x.columns"
   ]
  },
  {
   "cell_type": "markdown",
   "metadata": {},
   "source": [
    "Random Forest Regressor\n",
    "============="
   ]
  },
  {
   "cell_type": "code",
   "execution_count": 20,
   "metadata": {},
   "outputs": [],
   "source": [
    "ylable=y[['L103100_y']]  \n",
    "xtrain,xtest,ytrain,ytest=train_test_split(x, ylable, random_state=42, test_size=0.2)"
   ]
  },
  {
   "cell_type": "code",
   "execution_count": 21,
   "metadata": {},
   "outputs": [
    {
     "name": "stdout",
     "output_type": "stream",
     "text": [
      "[9.67134142e-01 5.22598506e-03 3.53613708e-03 4.55893255e-03\n",
      " 6.71525417e-04 1.38213308e-03 2.99798651e-03 1.44931587e-02]\n"
     ]
    }
   ],
   "source": [
    "regr = RandomForestRegressor(max_depth=7, random_state=0,verbose =0,n_estimators=500)\n",
    "regr.fit(xtrain, ytrain) \n",
    "print(regr.feature_importances_)\n",
    "ypred=regr.predict(xtest)\n"
   ]
  },
  {
   "cell_type": "code",
   "execution_count": 22,
   "metadata": {},
   "outputs": [
    {
     "name": "stdout",
     "output_type": "stream",
     "text": [
      "mean_squared_error 74.27732345035498\n",
      "root mean_squared_error 8.618429291370614\n",
      "mean_absolute_error 6.5612771416175475\n",
      "r2_score 0.6281896328345709\n"
     ]
    },
    {
     "data": {
      "image/png": "[encoded data removed]",
      "text/plain": [
       "<Figure size 432x288 with 1 Axes>"
      ]
     },
     "metadata": {
      "needs_background": "light"
     },
     "output_type": "display_data"
    },
    {
     "data": {
      "text/html": [
       "<div>\n",
       "<style scoped>\n",
       "    .dataframe tbody tr th:only-of-type {\n",
       "        vertical-align: middle;\n",
       "    }\n",
       "\n",
       "    .dataframe tbody tr th {\n",
       "        vertical-align: top;\n",
       "    }\n",
       "\n",
       "    .dataframe thead th {\n",
       "        text-align: right;\n",
       "    }\n",
       "</style>\n",
       "<table border=\"1\" class=\"dataframe\">\n",
       "  <thead>\n",
       "    <tr style=\"text-align: right;\">\n",
       "      <th></th>\n",
       "      <th>t + 1</th>\n",
       "      <th>pred (t +1)</th>\n",
       "    </tr>\n",
       "  </thead>\n",
       "  <tbody>\n",
       "    <tr>\n",
       "      <th>12640</th>\n",
       "      <td>123.0</td>\n",
       "      <td>95.350450</td>\n",
       "    </tr>\n",
       "    <tr>\n",
       "      <th>13601</th>\n",
       "      <td>124.0</td>\n",
       "      <td>99.776202</td>\n",
       "    </tr>\n",
       "    <tr>\n",
       "      <th>11912</th>\n",
       "      <td>125.0</td>\n",
       "      <td>111.047319</td>\n",
       "    </tr>\n",
       "    <tr>\n",
       "      <th>21798</th>\n",
       "      <td>126.0</td>\n",
       "      <td>90.380635</td>\n",
       "    </tr>\n",
       "    <tr>\n",
       "      <th>7711</th>\n",
       "      <td>126.0</td>\n",
       "      <td>94.672191</td>\n",
       "    </tr>\n",
       "    <tr>\n",
       "      <th>15766</th>\n",
       "      <td>127.0</td>\n",
       "      <td>75.198994</td>\n",
       "    </tr>\n",
       "    <tr>\n",
       "      <th>11034</th>\n",
       "      <td>135.0</td>\n",
       "      <td>82.741931</td>\n",
       "    </tr>\n",
       "    <tr>\n",
       "      <th>4096</th>\n",
       "      <td>138.0</td>\n",
       "      <td>67.773020</td>\n",
       "    </tr>\n",
       "    <tr>\n",
       "      <th>20290</th>\n",
       "      <td>159.0</td>\n",
       "      <td>102.909587</td>\n",
       "    </tr>\n",
       "    <tr>\n",
       "      <th>25003</th>\n",
       "      <td>175.0</td>\n",
       "      <td>116.485055</td>\n",
       "    </tr>\n",
       "  </tbody>\n",
       "</table>\n",
       "</div>"
      ],
      "text/plain": [
       "       t + 1  pred (t +1)\n",
       "12640  123.0    95.350450\n",
       "13601  124.0    99.776202\n",
       "11912  125.0   111.047319\n",
       "21798  126.0    90.380635\n",
       "7711   126.0    94.672191\n",
       "15766  127.0    75.198994\n",
       "11034  135.0    82.741931\n",
       "4096   138.0    67.773020\n",
       "20290  159.0   102.909587\n",
       "25003  175.0   116.485055"
      ]
     },
     "execution_count": 22,
     "metadata": {},
     "output_type": "execute_result"
    },
    {
     "data": {
      "image/png": "[encoded data removed]",
      "text/plain": [
       "<Figure size 432x288 with 1 Axes>"
      ]
     },
     "metadata": {
      "needs_background": "light"
     },
     "output_type": "display_data"
    }
   ],
   "source": [
    "\n",
    "import math\n",
    "print('mean_squared_error',mean_squared_error(ytest, ypred))\n",
    "print('root mean_squared_error',math.sqrt(mean_squared_error(ytest, ypred)))\n",
    "print('mean_absolute_error',mean_absolute_error(ytest, ypred))\n",
    "print('r2_score',r2_score(ytest, ypred))\n",
    "\n",
    "ypredPD=pd.DataFrame()\n",
    "# ypredPD['t']=xtest['S000501_x'].values\n",
    "ypredPD['t + 1']=ytest.values.ravel()\n",
    "ypredPD['pred (t +1)']=ypred\n",
    "ypredPD.head(30)\n",
    "\n",
    "import matplotlib.patches as mpatches\n",
    "plt.ylabel('Values')\n",
    "plt.xlabel('index')\n",
    "red_patch = mpatches.Patch(color='red', label='Actual data')\n",
    "blue_patch = mpatches.Patch(color='blue', label='Predicted data')\n",
    "plt.legend(handles=[red_patch,blue_patch])\n",
    "\n",
    "ypredPD=ypredPD.sort_values(by=['t + 1'])\n",
    "plt.scatter(np.arange(0,ypredPD.shape[0],1),ypredPD['pred (t +1)'][:ypredPD.shape[0]])\n",
    "plt.plot(np.arange(0,ypredPD.shape[0],1),ypredPD['t + 1'][:ypredPD.shape[0]],color='red')\n",
    "plt.show()\n",
    "\n",
    "plt.ylabel('p*(t+1), Predicted data')\n",
    "plt.xlabel('p(t+1), Actual data')\n",
    "plt.scatter(ypredPD['t + 1'][:ypredPD.shape[0]],ypredPD['pred (t +1)'][:ypredPD.shape[0]])\n",
    "\n",
    "ypredPD.tail(10)"
   ]
  },
  {
   "cell_type": "code",
   "execution_count": 23,
   "metadata": {},
   "outputs": [],
   "source": [
    "# tempdata=pd.DataFrame(xtest.copy())\n",
    "# tempdata['ytest']=ytest\n",
    "# # temp=temp.dropna()\n",
    "# # tempdata.head()\n",
    "# # tempdata[tempdata.ytest.isna()].index\n",
    "\n",
    "# tempdata=tempdata.drop(tempdata[tempdata.ytest.isna()].index)\n"
   ]
  },
  {
   "cell_type": "markdown",
   "metadata": {},
   "source": [
    "xg boost\n",
    "=========="
   ]
  },
  {
   "cell_type": "code",
   "execution_count": 24,
   "metadata": {},
   "outputs": [],
   "source": [
    "import xgboost as xgb\n",
    "# from sklearn.metrics import mean_squared_error\n",
    "# import pandas as pd\n",
    "# import numpy as np"
   ]
  },
  {
   "cell_type": "code",
   "execution_count": 25,
   "metadata": {},
   "outputs": [
    {
     "name": "stdout",
     "output_type": "stream",
     "text": [
      "[04:02:19] WARNING: C:/Jenkins/workspace/xgboost-win64_release_0.90/src/objective/regression_obj.cu:152: reg:linear is now deprecated in favor of reg:squarederror.\n"
     ]
    },
    {
     "data": {
      "text/plain": [
       "XGBRegressor(base_score=0.5, booster='gbtree', colsample_bylevel=1,\n",
       "             colsample_bynode=1, colsample_bytree=1, gamma=0,\n",
       "             importance_type='gain', learning_rate=0.1, max_delta_step=0,\n",
       "             max_depth=3, min_child_weight=1, missing=None, n_estimators=100,\n",
       "             n_jobs=1, nthread=None, objective='reg:linear', random_state=0,\n",
       "             reg_alpha=0, reg_lambda=1, scale_pos_weight=1, seed=None,\n",
       "             silent=None, subsample=1, verbosity=1)"
      ]
     },
     "execution_count": 25,
     "metadata": {},
     "output_type": "execute_result"
    }
   ],
   "source": [
    "xg_reg = xgb.XGBRegressor()\n",
    "# xg_reg = xgb.XGBRegressor(objective ='reg:linear', colsample_bytree = 0.3, \n",
    "#                           learning_rate = 0.1,max_depth = 5, alpha = 10, n_estimators = 10)\n",
    "xg_reg.fit(xtrain, ytrain) "
   ]
  },
  {
   "cell_type": "code",
   "execution_count": 26,
   "metadata": {},
   "outputs": [
    {
     "name": "stdout",
     "output_type": "stream",
     "text": [
      "mean_squared_error 73.5289759195828\n",
      "root mean_squared_error 8.574903843168318\n",
      "mean_absolute_error 6.525504294570284\n",
      "r2_score 0.6319356397887622\n"
     ]
    }
   ],
   "source": [
    "\n",
    "ypred = xg_reg.predict(xtest)\n",
    "\n",
    "import math\n",
    "print('mean_squared_error',mean_squared_error(ytest, ypred))\n",
    "print('root mean_squared_error',math.sqrt(mean_squared_error(ytest, ypred)))\n",
    "print('mean_absolute_error',mean_absolute_error(ytest, ypred))\n",
    "print('r2_score',r2_score(ytest, ypred))\n",
    "\n",
    "# ypredPD=pd.DataFrame()\n",
    "# ypredPD['t']=xtest['S000501_x'].values\n",
    "# ypredPD['t + 1']=ytest.values\n",
    "# ypredPD['pred (t +1)']=ypred\n",
    "# ypredPD.head(10)"
   ]
  },
  {
   "cell_type": "code",
   "execution_count": 27,
   "metadata": {},
   "outputs": [],
   "source": [
    "# ytest[ytest.isna()].shape\n",
    "# tempdata.iloc[:,-1]"
   ]
  },
  {
   "cell_type": "markdown",
   "metadata": {},
   "source": [
    "ANN\n",
    "=========="
   ]
  },
  {
   "cell_type": "code",
   "execution_count": 59,
   "metadata": {},
   "outputs": [],
   "source": [
    "model= Sequential()\n",
    "model.add(Dense(input_dim=34,units=128,activation='relu', kernel_initializer='uniform'))\n",
    "model.add(Dense(units=128, activation='relu', kernel_initializer='uniform')) \n",
    "# model.add(BatchNormalization())\n",
    "# model.add(Dropout(0.25))  \n",
    "model.add(Dense(units=64, activation='relu', kernel_initializer='uniform'))\n",
    "model.add(Dense(units=32, activation='relu', kernel_initializer='uniform')) \n",
    "model.add(BatchNormalization())\n",
    "model.add(Dropout(0.25))  \n",
    "model.add(Dense(units=16, activation='relu', kernel_initializer='uniform'))\n",
    "model.add(BatchNormalization())\n",
    "model.add(Dropout(0.25))  \n",
    "model.add(Dense(units=8, activation='relu', kernel_initializer='uniform'))\n",
    "model.add(Dense(units=1, kernel_initializer='uniform'))\n",
    "model.compile(loss='mean_squared_error', optimizer='Nadam', metrics=['mean_squared_error' ])"
   ]
  },
  {
   "cell_type": "code",
   "execution_count": 60,
   "metadata": {
    "scrolled": true
   },
   "outputs": [
    {
     "name": "stdout",
     "output_type": "stream",
     "text": [
      "Train on 9624 samples, validate on 2406 samples\n",
      "Epoch 1/100\n",
      "9624/9624 [==============================] - 1s 103us/step - loss: 2860.3370 - mean_squared_error: 2860.3370 - val_loss: 2136.0533 - val_mean_squared_error: 2136.0533\n",
      "Epoch 2/100\n",
      "9624/9624 [==============================] - 0s 26us/step - loss: 510.4216 - mean_squared_error: 510.4216 - val_loss: 286.7814 - val_mean_squared_error: 286.7814\n",
      "Epoch 3/100\n",
      "9624/9624 [==============================] - 0s 26us/step - loss: 322.7037 - mean_squared_error: 322.7037 - val_loss: 190.8061 - val_mean_squared_error: 190.8061\n",
      "Epoch 4/100\n",
      "9624/9624 [==============================] - 0s 26us/step - loss: 285.8393 - mean_squared_error: 285.8393 - val_loss: 1173.7380 - val_mean_squared_error: 1173.7380\n",
      "Epoch 5/100\n",
      "9624/9624 [==============================] - 0s 26us/step - loss: 253.6345 - mean_squared_error: 253.6345 - val_loss: 14396.2846 - val_mean_squared_error: 14396.2846\n",
      "Epoch 6/100\n",
      "9624/9624 [==============================] - 0s 24us/step - loss: 239.0312 - mean_squared_error: 239.0312 - val_loss: 346.5040 - val_mean_squared_error: 346.5040\n",
      "Epoch 7/100\n",
      "9624/9624 [==============================] - 0s 26us/step - loss: 209.4174 - mean_squared_error: 209.4174 - val_loss: 157.4336 - val_mean_squared_error: 157.4336\n",
      "Epoch 8/100\n",
      "9624/9624 [==============================] - 0s 25us/step - loss: 198.6243 - mean_squared_error: 198.6243 - val_loss: 116.8275 - val_mean_squared_error: 116.8275\n",
      "Epoch 9/100\n",
      "9624/9624 [==============================] - 0s 25us/step - loss: 193.1378 - mean_squared_error: 193.1378 - val_loss: 138.6233 - val_mean_squared_error: 138.6233\n",
      "Epoch 10/100\n",
      "9624/9624 [==============================] - 0s 26us/step - loss: 198.0453 - mean_squared_error: 198.0453 - val_loss: 101.3140 - val_mean_squared_error: 101.3140\n",
      "Epoch 11/100\n",
      "9624/9624 [==============================] - 0s 25us/step - loss: 185.9302 - mean_squared_error: 185.9302 - val_loss: 174.0147 - val_mean_squared_error: 174.0147\n",
      "Epoch 12/100\n",
      "9624/9624 [==============================] - 0s 26us/step - loss: 182.5528 - mean_squared_error: 182.5528 - val_loss: 160.9492 - val_mean_squared_error: 160.9492\n",
      "Epoch 13/100\n",
      "9624/9624 [==============================] - 0s 25us/step - loss: 178.0675 - mean_squared_error: 178.0675 - val_loss: 95.8318 - val_mean_squared_error: 95.8318\n",
      "Epoch 14/100\n",
      "9624/9624 [==============================] - 0s 26us/step - loss: 173.2745 - mean_squared_error: 173.2745 - val_loss: 98.8616 - val_mean_squared_error: 98.8616\n",
      "Epoch 15/100\n",
      "9624/9624 [==============================] - 0s 25us/step - loss: 168.5838 - mean_squared_error: 168.5838 - val_loss: 104.1322 - val_mean_squared_error: 104.1322\n",
      "Epoch 16/100\n",
      "9624/9624 [==============================] - 0s 26us/step - loss: 170.6335 - mean_squared_error: 170.6335 - val_loss: 94.3615 - val_mean_squared_error: 94.3615\n",
      "Epoch 17/100\n",
      "9624/9624 [==============================] - 0s 24us/step - loss: 166.5341 - mean_squared_error: 166.5341 - val_loss: 93.1774 - val_mean_squared_error: 93.1774\n",
      "Epoch 18/100\n",
      "9624/9624 [==============================] - 0s 27us/step - loss: 163.7462 - mean_squared_error: 163.7462 - val_loss: 95.8704 - val_mean_squared_error: 95.8704\n",
      "Epoch 19/100\n",
      "9624/9624 [==============================] - 0s 26us/step - loss: 163.6900 - mean_squared_error: 163.6900 - val_loss: 96.1141 - val_mean_squared_error: 96.1141\n",
      "Epoch 20/100\n",
      "9624/9624 [==============================] - 0s 24us/step - loss: 160.2843 - mean_squared_error: 160.2843 - val_loss: 112.1464 - val_mean_squared_error: 112.1464\n",
      "Epoch 21/100\n",
      "9624/9624 [==============================] - 0s 27us/step - loss: 153.0418 - mean_squared_error: 153.0418 - val_loss: 135.8721 - val_mean_squared_error: 135.8721\n",
      "Epoch 22/100\n",
      "9624/9624 [==============================] - 0s 26us/step - loss: 153.6272 - mean_squared_error: 153.6272 - val_loss: 92.6791 - val_mean_squared_error: 92.6791\n",
      "Epoch 23/100\n",
      "9624/9624 [==============================] - 0s 25us/step - loss: 150.3238 - mean_squared_error: 150.3238 - val_loss: 92.6676 - val_mean_squared_error: 92.6676\n",
      "Epoch 24/100\n",
      "9624/9624 [==============================] - 0s 26us/step - loss: 151.0875 - mean_squared_error: 151.0875 - val_loss: 114.4889 - val_mean_squared_error: 114.4889\n",
      "Epoch 25/100\n",
      "9624/9624 [==============================] - 0s 26us/step - loss: 148.9010 - mean_squared_error: 148.9010 - val_loss: 93.1016 - val_mean_squared_error: 93.1016\n",
      "Epoch 26/100\n",
      "9624/9624 [==============================] - 0s 27us/step - loss: 146.8367 - mean_squared_error: 146.8367 - val_loss: 93.3416 - val_mean_squared_error: 93.3416\n",
      "Epoch 27/100\n",
      "9624/9624 [==============================] - 0s 27us/step - loss: 142.5381 - mean_squared_error: 142.5381 - val_loss: 94.2310 - val_mean_squared_error: 94.2310\n",
      "Epoch 28/100\n",
      "9624/9624 [==============================] - 0s 26us/step - loss: 140.4358 - mean_squared_error: 140.4358 - val_loss: 96.8359 - val_mean_squared_error: 96.8359\n",
      "Epoch 29/100\n",
      "9624/9624 [==============================] - 0s 28us/step - loss: 138.6767 - mean_squared_error: 138.6767 - val_loss: 228.6141 - val_mean_squared_error: 228.6141\n",
      "Epoch 30/100\n",
      "9624/9624 [==============================] - 0s 27us/step - loss: 136.6278 - mean_squared_error: 136.6278 - val_loss: 92.4271 - val_mean_squared_error: 92.4271\n",
      "Epoch 31/100\n",
      "9624/9624 [==============================] - 0s 28us/step - loss: 133.9301 - mean_squared_error: 133.9301 - val_loss: 128.5131 - val_mean_squared_error: 128.5131\n",
      "Epoch 32/100\n",
      "9624/9624 [==============================] - 0s 27us/step - loss: 136.5423 - mean_squared_error: 136.5423 - val_loss: 122.0554 - val_mean_squared_error: 122.0554\n",
      "Epoch 33/100\n",
      "9624/9624 [==============================] - 0s 24us/step - loss: 128.9404 - mean_squared_error: 128.9404 - val_loss: 102.3651 - val_mean_squared_error: 102.3651\n",
      "Epoch 34/100\n",
      "9624/9624 [==============================] - 0s 27us/step - loss: 128.2068 - mean_squared_error: 128.2068 - val_loss: 101.3612 - val_mean_squared_error: 101.3612\n",
      "Epoch 35/100\n",
      "9624/9624 [==============================] - 0s 26us/step - loss: 128.1771 - mean_squared_error: 128.1771 - val_loss: 164.4738 - val_mean_squared_error: 164.4738\n",
      "Epoch 36/100\n",
      "9624/9624 [==============================] - 0s 26us/step - loss: 126.3000 - mean_squared_error: 126.3000 - val_loss: 184.7756 - val_mean_squared_error: 184.7756\n",
      "Epoch 37/100\n",
      "9624/9624 [==============================] - 0s 25us/step - loss: 122.8220 - mean_squared_error: 122.8220 - val_loss: 102.5143 - val_mean_squared_error: 102.5143\n",
      "Epoch 38/100\n",
      "9624/9624 [==============================] - 0s 25us/step - loss: 121.9827 - mean_squared_error: 121.9827 - val_loss: 98.0411 - val_mean_squared_error: 98.0411\n",
      "Epoch 39/100\n",
      "9624/9624 [==============================] - 0s 25us/step - loss: 120.6255 - mean_squared_error: 120.6255 - val_loss: 94.2403 - val_mean_squared_error: 94.2403\n",
      "Epoch 40/100\n",
      "9624/9624 [==============================] - 0s 27us/step - loss: 119.6652 - mean_squared_error: 119.6652 - val_loss: 96.3252 - val_mean_squared_error: 96.3252\n",
      "Epoch 41/100\n",
      "9624/9624 [==============================] - 0s 26us/step - loss: 119.3055 - mean_squared_error: 119.3055 - val_loss: 98.2242 - val_mean_squared_error: 98.2242\n",
      "Epoch 42/100\n",
      "9624/9624 [==============================] - 0s 25us/step - loss: 119.6407 - mean_squared_error: 119.6407 - val_loss: 109.6944 - val_mean_squared_error: 109.6944\n",
      "Epoch 43/100\n",
      "9624/9624 [==============================] - 0s 27us/step - loss: 114.6283 - mean_squared_error: 114.6283 - val_loss: 92.9626 - val_mean_squared_error: 92.9626\n",
      "Epoch 44/100\n",
      "9624/9624 [==============================] - 0s 24us/step - loss: 114.5286 - mean_squared_error: 114.5286 - val_loss: 109.0025 - val_mean_squared_error: 109.0025\n",
      "Epoch 45/100\n",
      "9624/9624 [==============================] - 0s 27us/step - loss: 117.2588 - mean_squared_error: 117.2588 - val_loss: 92.8452 - val_mean_squared_error: 92.8452\n",
      "Epoch 46/100\n",
      "9624/9624 [==============================] - 0s 25us/step - loss: 114.1668 - mean_squared_error: 114.1668 - val_loss: 108.3959 - val_mean_squared_error: 108.3959\n",
      "Epoch 47/100\n",
      "9624/9624 [==============================] - 0s 26us/step - loss: 111.8324 - mean_squared_error: 111.8324 - val_loss: 93.7806 - val_mean_squared_error: 93.7806\n"
     ]
    },
    {
     "name": "stdout",
     "output_type": "stream",
     "text": [
      "Epoch 48/100\n",
      "9624/9624 [==============================] - 0s 27us/step - loss: 111.8485 - mean_squared_error: 111.8485 - val_loss: 93.0641 - val_mean_squared_error: 93.0641\n",
      "Epoch 49/100\n",
      "9624/9624 [==============================] - 0s 25us/step - loss: 112.8032 - mean_squared_error: 112.8032 - val_loss: 115.8166 - val_mean_squared_error: 115.8166\n",
      "Epoch 50/100\n",
      "9624/9624 [==============================] - 0s 25us/step - loss: 112.9549 - mean_squared_error: 112.9549 - val_loss: 103.7584 - val_mean_squared_error: 103.7584\n",
      "Epoch 51/100\n",
      "9624/9624 [==============================] - 0s 27us/step - loss: 111.7061 - mean_squared_error: 111.7061 - val_loss: 101.3116 - val_mean_squared_error: 101.3116\n",
      "Epoch 52/100\n",
      "9624/9624 [==============================] - 0s 26us/step - loss: 110.4159 - mean_squared_error: 110.4159 - val_loss: 97.5460 - val_mean_squared_error: 97.5460\n",
      "Epoch 53/100\n",
      "9624/9624 [==============================] - 0s 27us/step - loss: 109.3584 - mean_squared_error: 109.3584 - val_loss: 99.4509 - val_mean_squared_error: 99.4509\n",
      "Epoch 54/100\n",
      "9624/9624 [==============================] - 0s 25us/step - loss: 110.6137 - mean_squared_error: 110.6137 - val_loss: 119.2115 - val_mean_squared_error: 119.2115\n",
      "Epoch 55/100\n",
      "9624/9624 [==============================] - 0s 28us/step - loss: 110.6316 - mean_squared_error: 110.6316 - val_loss: 116.1475 - val_mean_squared_error: 116.1475\n",
      "Epoch 56/100\n",
      "9624/9624 [==============================] - 0s 27us/step - loss: 109.1252 - mean_squared_error: 109.1252 - val_loss: 97.0348 - val_mean_squared_error: 97.0348\n",
      "Epoch 57/100\n",
      "9624/9624 [==============================] - 0s 25us/step - loss: 108.7609 - mean_squared_error: 108.7609 - val_loss: 113.9599 - val_mean_squared_error: 113.9599\n",
      "Epoch 58/100\n",
      "9624/9624 [==============================] - 0s 28us/step - loss: 111.0362 - mean_squared_error: 111.0362 - val_loss: 179.7973 - val_mean_squared_error: 179.7973\n",
      "Epoch 59/100\n",
      "9624/9624 [==============================] - 0s 25us/step - loss: 112.4969 - mean_squared_error: 112.4969 - val_loss: 282.2613 - val_mean_squared_error: 282.2613\n",
      "Epoch 60/100\n",
      "9624/9624 [==============================] - 0s 27us/step - loss: 114.5116 - mean_squared_error: 114.5116 - val_loss: 314.3208 - val_mean_squared_error: 314.3208\n",
      "Epoch 61/100\n",
      "9624/9624 [==============================] - 0s 27us/step - loss: 113.8878 - mean_squared_error: 113.8878 - val_loss: 93.3457 - val_mean_squared_error: 93.3457\n",
      "Epoch 62/100\n",
      "9624/9624 [==============================] - 0s 27us/step - loss: 113.7616 - mean_squared_error: 113.7616 - val_loss: 121.1621 - val_mean_squared_error: 121.1621\n",
      "Epoch 63/100\n",
      "9624/9624 [==============================] - 0s 27us/step - loss: 113.6584 - mean_squared_error: 113.6584 - val_loss: 96.5980 - val_mean_squared_error: 96.5980\n",
      "Epoch 64/100\n",
      "9624/9624 [==============================] - 0s 27us/step - loss: 111.9752 - mean_squared_error: 111.9752 - val_loss: 96.3521 - val_mean_squared_error: 96.3521\n",
      "Epoch 65/100\n",
      "9624/9624 [==============================] - 0s 27us/step - loss: 113.4006 - mean_squared_error: 113.4006 - val_loss: 96.6493 - val_mean_squared_error: 96.6493\n",
      "Epoch 66/100\n",
      "9624/9624 [==============================] - 0s 26us/step - loss: 112.7362 - mean_squared_error: 112.7362 - val_loss: 111.3733 - val_mean_squared_error: 111.3733\n",
      "Epoch 67/100\n",
      "9624/9624 [==============================] - 0s 26us/step - loss: 113.5158 - mean_squared_error: 113.5158 - val_loss: 105.8960 - val_mean_squared_error: 105.8960\n",
      "Epoch 68/100\n",
      "9624/9624 [==============================] - 0s 26us/step - loss: 111.7014 - mean_squared_error: 111.7014 - val_loss: 92.5579 - val_mean_squared_error: 92.5579\n",
      "Epoch 69/100\n",
      "9624/9624 [==============================] - 0s 27us/step - loss: 114.3579 - mean_squared_error: 114.3579 - val_loss: 100.5386 - val_mean_squared_error: 100.5386\n",
      "Epoch 70/100\n",
      "9624/9624 [==============================] - 0s 27us/step - loss: 114.2435 - mean_squared_error: 114.2435 - val_loss: 94.3101 - val_mean_squared_error: 94.3101\n",
      "Epoch 71/100\n",
      "9624/9624 [==============================] - 0s 25us/step - loss: 113.6261 - mean_squared_error: 113.6261 - val_loss: 97.9571 - val_mean_squared_error: 97.9571\n",
      "Epoch 72/100\n",
      "9624/9624 [==============================] - 0s 27us/step - loss: 112.4688 - mean_squared_error: 112.4688 - val_loss: 111.8786 - val_mean_squared_error: 111.8786\n",
      "Epoch 73/100\n",
      "9624/9624 [==============================] - 0s 26us/step - loss: 113.3595 - mean_squared_error: 113.3595 - val_loss: 96.0370 - val_mean_squared_error: 96.0370\n",
      "Epoch 74/100\n",
      "9624/9624 [==============================] - 0s 27us/step - loss: 114.7636 - mean_squared_error: 114.7636 - val_loss: 97.8178 - val_mean_squared_error: 97.8178\n",
      "Epoch 75/100\n",
      "9624/9624 [==============================] - 0s 27us/step - loss: 112.6441 - mean_squared_error: 112.6441 - val_loss: 102.1179 - val_mean_squared_error: 102.1179\n",
      "Epoch 76/100\n",
      "9624/9624 [==============================] - 0s 25us/step - loss: 114.5142 - mean_squared_error: 114.5142 - val_loss: 121.8080 - val_mean_squared_error: 121.8080\n",
      "Epoch 77/100\n",
      "9624/9624 [==============================] - 0s 28us/step - loss: 112.6982 - mean_squared_error: 112.6982 - val_loss: 96.4818 - val_mean_squared_error: 96.4818\n",
      "Epoch 78/100\n",
      "9624/9624 [==============================] - 0s 27us/step - loss: 112.5489 - mean_squared_error: 112.5489 - val_loss: 97.9849 - val_mean_squared_error: 97.9849\n",
      "Epoch 79/100\n",
      "9624/9624 [==============================] - 0s 27us/step - loss: 112.9939 - mean_squared_error: 112.9939 - val_loss: 122.6564 - val_mean_squared_error: 122.6564\n",
      "Epoch 80/100\n",
      "9624/9624 [==============================] - 0s 26us/step - loss: 112.0203 - mean_squared_error: 112.0203 - val_loss: 92.6784 - val_mean_squared_error: 92.6784\n",
      "Epoch 81/100\n",
      "9624/9624 [==============================] - 0s 27us/step - loss: 111.8089 - mean_squared_error: 111.8089 - val_loss: 115.5602 - val_mean_squared_error: 115.5602\n",
      "Epoch 82/100\n",
      "9624/9624 [==============================] - 0s 26us/step - loss: 113.7967 - mean_squared_error: 113.7967 - val_loss: 105.6525 - val_mean_squared_error: 105.6525\n",
      "Epoch 83/100\n",
      "9624/9624 [==============================] - 0s 27us/step - loss: 111.0231 - mean_squared_error: 111.0231 - val_loss: 117.7220 - val_mean_squared_error: 117.7220\n",
      "Epoch 84/100\n",
      "9624/9624 [==============================] - 0s 27us/step - loss: 111.7228 - mean_squared_error: 111.7228 - val_loss: 106.1644 - val_mean_squared_error: 106.1644\n",
      "Epoch 85/100\n",
      "9624/9624 [==============================] - 0s 27us/step - loss: 111.6190 - mean_squared_error: 111.6190 - val_loss: 96.5875 - val_mean_squared_error: 96.5875\n",
      "Epoch 86/100\n",
      "9624/9624 [==============================] - 0s 26us/step - loss: 111.0725 - mean_squared_error: 111.0725 - val_loss: 124.7989 - val_mean_squared_error: 124.7989\n",
      "Epoch 87/100\n",
      "9624/9624 [==============================] - 0s 27us/step - loss: 111.5868 - mean_squared_error: 111.5868 - val_loss: 112.5799 - val_mean_squared_error: 112.5799\n",
      "Epoch 88/100\n",
      "9624/9624 [==============================] - 0s 27us/step - loss: 110.8103 - mean_squared_error: 110.8103 - val_loss: 104.8136 - val_mean_squared_error: 104.8136\n",
      "Epoch 89/100\n",
      "9624/9624 [==============================] - 0s 27us/step - loss: 110.7401 - mean_squared_error: 110.7401 - val_loss: 123.0399 - val_mean_squared_error: 123.0399\n",
      "Epoch 90/100\n",
      "9624/9624 [==============================] - 0s 24us/step - loss: 111.1185 - mean_squared_error: 111.1185 - val_loss: 97.6628 - val_mean_squared_error: 97.6628\n",
      "Epoch 91/100\n",
      "9624/9624 [==============================] - 0s 27us/step - loss: 111.2552 - mean_squared_error: 111.2552 - val_loss: 96.6698 - val_mean_squared_error: 96.6698\n",
      "Epoch 92/100\n",
      "9624/9624 [==============================] - 0s 24us/step - loss: 111.3009 - mean_squared_error: 111.3009 - val_loss: 96.1362 - val_mean_squared_error: 96.1362\n",
      "Epoch 93/100\n",
      "9624/9624 [==============================] - 0s 27us/step - loss: 111.5038 - mean_squared_error: 111.5038 - val_loss: 118.1417 - val_mean_squared_error: 118.1417\n",
      "Epoch 94/100\n",
      "9624/9624 [==============================] - 0s 26us/step - loss: 110.5454 - mean_squared_error: 110.5454 - val_loss: 122.1653 - val_mean_squared_error: 122.1653\n",
      "Epoch 95/100\n"
     ]
    },
    {
     "name": "stdout",
     "output_type": "stream",
     "text": [
      "9624/9624 [==============================] - 0s 25us/step - loss: 110.7153 - mean_squared_error: 110.7153 - val_loss: 136.6962 - val_mean_squared_error: 136.6962\n",
      "Epoch 96/100\n",
      "9624/9624 [==============================] - 0s 25us/step - loss: 110.9794 - mean_squared_error: 110.9794 - val_loss: 111.1936 - val_mean_squared_error: 111.1936\n",
      "Epoch 97/100\n",
      "9624/9624 [==============================] - 0s 25us/step - loss: 111.2335 - mean_squared_error: 111.2335 - val_loss: 98.8974 - val_mean_squared_error: 98.8974\n",
      "Epoch 98/100\n",
      "9624/9624 [==============================] - 0s 25us/step - loss: 109.0044 - mean_squared_error: 109.0044 - val_loss: 108.0141 - val_mean_squared_error: 108.0141\n",
      "Epoch 99/100\n",
      "9624/9624 [==============================] - 0s 25us/step - loss: 110.5251 - mean_squared_error: 110.5251 - val_loss: 98.0837 - val_mean_squared_error: 98.0837\n",
      "Epoch 100/100\n",
      "9624/9624 [==============================] - 0s 24us/step - loss: 110.4582 - mean_squared_error: 110.4582 - val_loss: 160.0395 - val_mean_squared_error: 160.0395\n"
     ]
    }
   ],
   "source": [
    "h=model.fit(xtrain, ytrain, validation_split=.2,epochs=100, batch_size=50)"
   ]
  },
  {
   "cell_type": "code",
   "execution_count": 61,
   "metadata": {},
   "outputs": [
    {
     "name": "stdout",
     "output_type": "stream",
     "text": [
      "mean_squared_error 166.06552812965217\n",
      "root mean_squared_error 12.886641460429175\n",
      "mean_absolute_error 9.529440167102408\n",
      "r2_score 0.14242285246462394\n"
     ]
    },
    {
     "data": {
      "text/html": [
       "<div>\n",
       "<style scoped>\n",
       "    .dataframe tbody tr th:only-of-type {\n",
       "        vertical-align: middle;\n",
       "    }\n",
       "\n",
       "    .dataframe tbody tr th {\n",
       "        vertical-align: top;\n",
       "    }\n",
       "\n",
       "    .dataframe thead th {\n",
       "        text-align: right;\n",
       "    }\n",
       "</style>\n",
       "<table border=\"1\" class=\"dataframe\">\n",
       "  <thead>\n",
       "    <tr style=\"text-align: right;\">\n",
       "      <th></th>\n",
       "      <th>t + 1</th>\n",
       "      <th>pred (t +1)</th>\n",
       "    </tr>\n",
       "  </thead>\n",
       "  <tbody>\n",
       "    <tr>\n",
       "      <th>0</th>\n",
       "      <td>80.0</td>\n",
       "      <td>69.716156</td>\n",
       "    </tr>\n",
       "    <tr>\n",
       "      <th>1</th>\n",
       "      <td>103.0</td>\n",
       "      <td>60.330444</td>\n",
       "    </tr>\n",
       "    <tr>\n",
       "      <th>2</th>\n",
       "      <td>47.0</td>\n",
       "      <td>49.057709</td>\n",
       "    </tr>\n",
       "    <tr>\n",
       "      <th>3</th>\n",
       "      <td>60.0</td>\n",
       "      <td>50.022259</td>\n",
       "    </tr>\n",
       "    <tr>\n",
       "      <th>4</th>\n",
       "      <td>54.0</td>\n",
       "      <td>58.381298</td>\n",
       "    </tr>\n",
       "    <tr>\n",
       "      <th>5</th>\n",
       "      <td>70.0</td>\n",
       "      <td>54.491722</td>\n",
       "    </tr>\n",
       "    <tr>\n",
       "      <th>6</th>\n",
       "      <td>58.0</td>\n",
       "      <td>53.914780</td>\n",
       "    </tr>\n",
       "    <tr>\n",
       "      <th>7</th>\n",
       "      <td>61.0</td>\n",
       "      <td>52.649265</td>\n",
       "    </tr>\n",
       "    <tr>\n",
       "      <th>8</th>\n",
       "      <td>36.0</td>\n",
       "      <td>44.397129</td>\n",
       "    </tr>\n",
       "    <tr>\n",
       "      <th>9</th>\n",
       "      <td>78.0</td>\n",
       "      <td>59.885746</td>\n",
       "    </tr>\n",
       "  </tbody>\n",
       "</table>\n",
       "</div>"
      ],
      "text/plain": [
       "   t + 1  pred (t +1)\n",
       "0   80.0    69.716156\n",
       "1  103.0    60.330444\n",
       "2   47.0    49.057709\n",
       "3   60.0    50.022259\n",
       "4   54.0    58.381298\n",
       "5   70.0    54.491722\n",
       "6   58.0    53.914780\n",
       "7   61.0    52.649265\n",
       "8   36.0    44.397129\n",
       "9   78.0    59.885746"
      ]
     },
     "execution_count": 61,
     "metadata": {},
     "output_type": "execute_result"
    }
   ],
   "source": [
    "ypred=model.predict(xtest)\n",
    "\n",
    "import math\n",
    "print('mean_squared_error',mean_squared_error(ytest, ypred))\n",
    "print('root mean_squared_error',math.sqrt(mean_squared_error(ytest, ypred)))\n",
    "print('mean_absolute_error',mean_absolute_error(ytest, ypred))\n",
    "print('r2_score',r2_score(ytest, ypred))\n",
    "\n",
    "ypredPD=pd.DataFrame()\n",
    "# ypredPD['t']=xtest['S000501_x'].values\n",
    "ypredPD['t + 1']=ytest.values.ravel()\n",
    "ypredPD['pred (t +1)']=ypred\n",
    "ypredPD.head(10)"
   ]
  },
  {
   "cell_type": "code",
   "execution_count": 62,
   "metadata": {},
   "outputs": [
    {
     "name": "stdout",
     "output_type": "stream",
     "text": [
      "dict_keys(['val_loss', 'val_mean_squared_error', 'loss', 'mean_squared_error'])\n"
     ]
    },
    {
     "data": {
      "image/png": "[encoded data removed]",
      "text/plain": [
       "<Figure size 432x288 with 1 Axes>"
      ]
     },
     "metadata": {
      "needs_background": "light"
     },
     "output_type": "display_data"
    },
    {
     "data": {
      "image/png": "[encoded data removed]",
      "text/plain": [
       "<Figure size 432x288 with 1 Axes>"
      ]
     },
     "metadata": {
      "needs_background": "light"
     },
     "output_type": "display_data"
    }
   ],
   "source": [
    "history=h\n",
    "print(history.history.keys())\n",
    "# summarize history for accuracy\n",
    "plt.plot(history.history['val_loss'])\n",
    "plt.plot(history.history['loss'])\n",
    "plt.title('model accuracy')\n",
    "plt.ylabel('accuracy')\n",
    "plt.xlabel('epoch')\n",
    "plt.legend(['train', 'test'], loc='upper left')\n",
    "plt.show()\n",
    "# summarize history for loss\n",
    "plt.plot(history.history['val_mean_squared_error'])\n",
    "plt.plot(history.history['mean_squared_error'])\n",
    "plt.title('model loss')\n",
    "plt.ylabel('loss')\n",
    "plt.xlabel('epoch')\n",
    "plt.legend(['train', 'test'], loc='upper left')\n",
    "plt.show()"
   ]
  },
  {
   "cell_type": "code",
   "execution_count": 63,
   "metadata": {},
   "outputs": [
    {
     "name": "stdout",
     "output_type": "stream",
     "text": [
      "9.529440167102408\n",
      "8.674981166046837\n",
      "37.30053191489362\n"
     ]
    }
   ],
   "source": [
    "ypredPD['diff']=abs(ypredPD['t + 1']- ypredPD['pred (t +1)'])\n",
    "print(np.mean(ypredPD['diff']))\n",
    "print(np.std(ypredPD['diff']))\n",
    "print(100*ypredPD[ypredPD['diff']<=5].shape[0]/ypredPD.shape[0])"
   ]
  },
  {
   "cell_type": "code",
   "execution_count": 64,
   "metadata": {},
   "outputs": [
    {
     "data": {
      "image/png": "[encoded data removed]",
      "text/plain": [
       "<Figure size 432x288 with 1 Axes>"
      ]
     },
     "metadata": {
      "needs_background": "light"
     },
     "output_type": "display_data"
    },
    {
     "data": {
      "text/html": [
       "<div>\n",
       "<style scoped>\n",
       "    .dataframe tbody tr th:only-of-type {\n",
       "        vertical-align: middle;\n",
       "    }\n",
       "\n",
       "    .dataframe tbody tr th {\n",
       "        vertical-align: top;\n",
       "    }\n",
       "\n",
       "    .dataframe thead th {\n",
       "        text-align: right;\n",
       "    }\n",
       "</style>\n",
       "<table border=\"1\" class=\"dataframe\">\n",
       "  <thead>\n",
       "    <tr style=\"text-align: right;\">\n",
       "      <th></th>\n",
       "      <th>t + 1</th>\n",
       "      <th>pred (t +1)</th>\n",
       "      <th>diff</th>\n",
       "    </tr>\n",
       "  </thead>\n",
       "  <tbody>\n",
       "    <tr>\n",
       "      <th>609</th>\n",
       "      <td>22.0</td>\n",
       "      <td>44.397129</td>\n",
       "      <td>22.397129</td>\n",
       "    </tr>\n",
       "    <tr>\n",
       "      <th>1327</th>\n",
       "      <td>26.0</td>\n",
       "      <td>44.397129</td>\n",
       "      <td>18.397129</td>\n",
       "    </tr>\n",
       "    <tr>\n",
       "      <th>680</th>\n",
       "      <td>26.0</td>\n",
       "      <td>44.397129</td>\n",
       "      <td>18.397129</td>\n",
       "    </tr>\n",
       "    <tr>\n",
       "      <th>1097</th>\n",
       "      <td>26.0</td>\n",
       "      <td>44.397129</td>\n",
       "      <td>18.397129</td>\n",
       "    </tr>\n",
       "    <tr>\n",
       "      <th>1743</th>\n",
       "      <td>27.0</td>\n",
       "      <td>53.613831</td>\n",
       "      <td>26.613831</td>\n",
       "    </tr>\n",
       "    <tr>\n",
       "      <th>1263</th>\n",
       "      <td>28.0</td>\n",
       "      <td>47.514629</td>\n",
       "      <td>19.514629</td>\n",
       "    </tr>\n",
       "    <tr>\n",
       "      <th>1758</th>\n",
       "      <td>28.0</td>\n",
       "      <td>44.752533</td>\n",
       "      <td>16.752533</td>\n",
       "    </tr>\n",
       "    <tr>\n",
       "      <th>1191</th>\n",
       "      <td>29.0</td>\n",
       "      <td>44.397129</td>\n",
       "      <td>15.397129</td>\n",
       "    </tr>\n",
       "    <tr>\n",
       "      <th>447</th>\n",
       "      <td>31.0</td>\n",
       "      <td>44.397129</td>\n",
       "      <td>13.397129</td>\n",
       "    </tr>\n",
       "    <tr>\n",
       "      <th>2081</th>\n",
       "      <td>31.0</td>\n",
       "      <td>44.509941</td>\n",
       "      <td>13.509941</td>\n",
       "    </tr>\n",
       "  </tbody>\n",
       "</table>\n",
       "</div>"
      ],
      "text/plain": [
       "      t + 1  pred (t +1)       diff\n",
       "609    22.0    44.397129  22.397129\n",
       "1327   26.0    44.397129  18.397129\n",
       "680    26.0    44.397129  18.397129\n",
       "1097   26.0    44.397129  18.397129\n",
       "1743   27.0    53.613831  26.613831\n",
       "1263   28.0    47.514629  19.514629\n",
       "1758   28.0    44.752533  16.752533\n",
       "1191   29.0    44.397129  15.397129\n",
       "447    31.0    44.397129  13.397129\n",
       "2081   31.0    44.509941  13.509941"
      ]
     },
     "execution_count": 64,
     "metadata": {},
     "output_type": "execute_result"
    },
    {
     "data": {
      "image/png": "[encoded data removed]",
      "text/plain": [
       "<Figure size 432x288 with 1 Axes>"
      ]
     },
     "metadata": {
      "needs_background": "light"
     },
     "output_type": "display_data"
    }
   ],
   "source": [
    "\n",
    "import matplotlib.patches as mpatches\n",
    "plt.ylabel('Values')\n",
    "plt.xlabel('index')\n",
    "red_patch = mpatches.Patch(color='red', label='Actual data')\n",
    "blue_patch = mpatches.Patch(color='blue', label='Predicted data')\n",
    "plt.legend(handles=[red_patch,blue_patch])\n",
    "\n",
    "ypredPD=ypredPD.sort_values(by=['t + 1'])\n",
    "plt.scatter(np.arange(0,ypredPD.shape[0],1),ypredPD['pred (t +1)'][:ypredPD.shape[0]])\n",
    "plt.plot(np.arange(0,ypredPD.shape[0],1),ypredPD['t + 1'][:ypredPD.shape[0]],color='red')\n",
    "plt.show()\n",
    "\n",
    "plt.ylabel('p*(t+1), Predicted data')\n",
    "plt.xlabel('p(t+1), Actual data')\n",
    "plt.scatter(ypredPD['t + 1'][:ypredPD.shape[0]],ypredPD['pred (t +1)'][:ypredPD.shape[0]])\n",
    "\n",
    "ypredPD.head(10)"
   ]
  },
  {
   "cell_type": "markdown",
   "metadata": {},
   "source": [
    "SVR\n",
    "======"
   ]
  },
  {
   "cell_type": "code",
   "execution_count": null,
   "metadata": {},
   "outputs": [],
   "source": [
    "from sklearn.svm import SVR\n",
    "# svr_rbf = SVR(kernel='rbf', C=10, gamma=0.02, epsilon=.001)\n",
    "svr_rbf = SVR(kernel='rbf')"
   ]
  },
  {
   "cell_type": "code",
   "execution_count": null,
   "metadata": {},
   "outputs": [],
   "source": [
    "svr_rbf.fit(xtrain, ytrain) "
   ]
  },
  {
   "cell_type": "code",
   "execution_count": null,
   "metadata": {},
   "outputs": [],
   "source": [
    "ypred=svr_rbf.predict(xtest)"
   ]
  },
  {
   "cell_type": "code",
   "execution_count": null,
   "metadata": {},
   "outputs": [],
   "source": [
    "import math\n",
    "print('mean_squared_error',mean_squared_error(ytest, ypred))\n",
    "print('root mean_squared_error',math.sqrt(mean_squared_error(ytest, ypred)))\n",
    "print('mean_absolute_error',mean_absolute_error(ytest, ypred))\n",
    "print('r2_score',r2_score(ytest, ypred))\n",
    "\n",
    "ypredPD=pd.DataFrame()\n",
    "# ypredPD['t']=xtest['S000501_x'].values\n",
    "ypredPD['t + 1']=ytest.values.ravel()\n",
    "ypredPD['pred (t +1)']=ypred\n",
    "ypredPD.head(10)"
   ]
  },
  {
   "cell_type": "code",
   "execution_count": null,
   "metadata": {},
   "outputs": [],
   "source": []
  },
  {
   "cell_type": "code",
   "execution_count": null,
   "metadata": {},
   "outputs": [],
   "source": []
  }
 ],
 "metadata": {
  "kernelspec": {
   "display_name": "Python 3",
   "language": "python",
   "name": "python3"
  },
  "language_info": {
   "codemirror_mode": {
    "name": "ipython",
    "version": 3
   },
   "file_extension": ".py",
   "mimetype": "text/x-python",
   "name": "python",
   "nbconvert_exporter": "python",
   "pygments_lexer": "ipython3",
   "version": "3.7.3"
  }
 },
 "nbformat": 4,
 "nbformat_minor": 2
}

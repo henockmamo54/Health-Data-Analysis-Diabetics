{
 "cells": [
  {
   "cell_type": "code",
   "execution_count": 1,
   "metadata": {},
   "outputs": [
    {
     "name": "stderr",
     "output_type": "stream",
     "text": [
      "Using TensorFlow backend.\n"
     ]
    }
   ],
   "source": [
    "from matplotlib import pyplot as plt\n",
    "import pandas as pd \n",
    "import numpy as np\n",
    "import warnings\n",
    "warnings.filterwarnings('ignore')\n",
    "from scipy import stats\n",
    "from sklearn.utils import shuffle\n",
    "from sklearn.preprocessing import LabelEncoder\n",
    "from sklearn.metrics import confusion_matrix \n",
    "from sklearn.utils import shuffle\n",
    "from sklearn.ensemble import RandomForestRegressor\n",
    "from sklearn.datasets import make_regression\n",
    "from sklearn.model_selection import train_test_split\n",
    "from sklearn.metrics import mean_absolute_error\n",
    "from sklearn.metrics import mean_squared_error\n",
    "from sklearn.metrics import mean_absolute_error\n",
    "from sklearn.metrics import r2_score\n",
    "from keras.models import Sequential\n",
    "from keras.layers import Dense\n",
    "from keras.wrappers.scikit_learn import KerasRegressor\n",
    "from sklearn.model_selection import cross_val_score\n",
    "from sklearn.model_selection import KFold\n",
    "from sklearn.preprocessing import StandardScaler\n",
    "from sklearn.pipeline import Pipeline\n",
    "from keras.layers import Dropout\n",
    "from keras.layers import BatchNormalization\n",
    "from keras.models import model_from_json\n",
    "from keras.utils import multi_gpu_model \n",
    "from keras.utils import to_categorical\n"
   ]
  },
  {
   "cell_type": "markdown",
   "metadata": {},
   "source": [
    "Read the data\n",
    "==========="
   ]
  },
  {
   "cell_type": "code",
   "execution_count": 2,
   "metadata": {},
   "outputs": [
    {
     "name": "stdout",
     "output_type": "stream",
     "text": [
      "(159381, 30)\n",
      "(159381, 30)\n"
     ]
    }
   ],
   "source": [
    "x_original=pd.read_csv('_xlable4_withNa_AllColumns.txt')\n",
    "y_original=pd.read_csv('_targelable4_withNa_AllColumns.txt')\n",
    "\n",
    "x_original=x_original[['Unnamed: 0','L103300', 'L103100', 'L103000', 'L103200', 'L102900', 'S000300', 'SEX', 'L100700',\n",
    "                       'L190300', 'L190400', 'L190500', 'L100500', 'L101300', 'S000501', 'L100800', 'L104600', 'S000502',\n",
    "                       'FIELD_33', 'FIELD_7', 'FIELD_6', 'FIELD_27', 'FIELD_28', 'FIELD_40', 'FIELD_41', 'FIELD_38',\n",
    "                       'FIELD_31', 'FIELD_4', 'FIELD_29','AGE']]\n",
    "\n",
    "y_original=y_original[['Unnamed: 0','L103300', 'L103100', 'L103000', 'L103200', 'L102900', 'S000300', 'SEX', 'L100700',\n",
    "                       'L190300', 'L190400', 'L190500', 'L100500', 'L101300', 'S000501', 'L100800', 'L104600', 'S000502',\n",
    "                       'FIELD_33', 'FIELD_7', 'FIELD_6', 'FIELD_27', 'FIELD_28', 'FIELD_40', 'FIELD_41', 'FIELD_38',\n",
    "                       'FIELD_31', 'FIELD_4', 'FIELD_29','AGE']]\n",
    "\n",
    "print(x_original.shape)\n",
    "print(y_original.shape)\n"
   ]
  },
  {
   "cell_type": "markdown",
   "metadata": {},
   "source": [
    "Prepare the data\n",
    "============"
   ]
  },
  {
   "cell_type": "code",
   "execution_count": 3,
   "metadata": {},
   "outputs": [],
   "source": [
    "df=x_original.copy()\n",
    "conditions = [\n",
    "    (df.S000501 < 120)  ,\n",
    "    (df.S000501 >= 120) & (df.S000501 < 130),\n",
    "    (df.S000501 >=130)]\n",
    "choices = [0,1,2]\n",
    "df['sbpG'] = np.select(conditions, choices, default=0)\n",
    "df.head()\n",
    "x_original=df.copy()\n",
    "\n",
    "conditions2 = [\n",
    "    (df.S000502 < 80)  ,\n",
    "    (df.S000502 >= 80) & (df.S000502 < 90),\n",
    "    (df.S000502 >=90)]\n",
    "choices2 = [0,1,2]\n",
    "df['dbpG'] = np.select(conditions2, choices2, default=0)\n",
    "df.head()\n",
    "x_original=df.copy()\n",
    "\n",
    "conditions3 = [\n",
    "    (df.AGE < 30)  ,\n",
    "    (df.AGE >= 30) & (df.AGE < 40),\n",
    "    (df.AGE >= 40) & (df.AGE < 50),\n",
    "    (df.AGE >= 50) & (df.AGE < 60),\n",
    "    (df.AGE >= 60)]\n",
    "choices3 = [0,1,2,3,4]\n",
    "df['AgeG'] = np.select(conditions3, choices3, default=0)\n",
    "df.head()\n",
    "x_original=df.copy()\n",
    "\n",
    "\n",
    "conditions4 = [\n",
    "    (df.L100800 < 100)  ,\n",
    "    (df.L100800 >= 100) & (df.L100800 < 126), \n",
    "    (df.L100800 >= 126)]\n",
    "choices4 = [0,1,2]\n",
    "df['CLASS'] = np.select(conditions4, choices4, default=0)\n",
    "df.head()\n",
    "x_original=df.copy()"
   ]
  },
  {
   "cell_type": "code",
   "execution_count": 4,
   "metadata": {},
   "outputs": [
    {
     "name": "stdout",
     "output_type": "stream",
     "text": [
      "(11243, 64)\n"
     ]
    }
   ],
   "source": [
    "data= pd.merge(x_original,y_original, how='inner',left_on='Unnamed: 0', right_on='Unnamed: 0')\n",
    "data=data.dropna(). reset_index()\n",
    "\n",
    "# data=data[data.AGE_x >= 40]\n",
    "# data=data[data.AGE_x < 50]\n",
    "\n",
    "# data=data[data.CLASS_x==0]\n",
    "# data=data[data.sbpG==0]\n",
    "# data=data[data.dbpG==0]\n",
    "\n",
    "# data=data[data.L100800_y <200]\n",
    "\n",
    "print(data.shape)"
   ]
  },
  {
   "cell_type": "code",
   "execution_count": 5,
   "metadata": {},
   "outputs": [
    {
     "name": "stdout",
     "output_type": "stream",
     "text": [
      "(11243, 64)\n",
      "Index(['index', 'Unnamed: 0', 'L103300_x', 'L103100_x', 'L103000_x',\n",
      "       'L103200_x', 'L102900_x', 'S000300_x', 'SEX_x', 'L100700_x',\n",
      "       'L190300_x', 'L190400_x', 'L190500_x', 'L100500_x', 'L101300_x',\n",
      "       'S000501_x', 'L100800_x', 'L104600_x', 'S000502_x', 'FIELD_33_x',\n",
      "       'FIELD_7_x', 'FIELD_6_x', 'FIELD_27_x', 'FIELD_28_x', 'FIELD_40_x',\n",
      "       'FIELD_41_x', 'FIELD_38_x', 'FIELD_31_x', 'FIELD_4_x', 'FIELD_29_x',\n",
      "       'AGE_x', 'sbpG', 'dbpG', 'AgeG', 'CLASS', 'L103300_y', 'L103100_y',\n",
      "       'L103000_y', 'L103200_y', 'L102900_y', 'S000300_y', 'SEX_y',\n",
      "       'L100700_y', 'L190300_y', 'L190400_y', 'L190500_y', 'L100500_y',\n",
      "       'L101300_y', 'S000501_y', 'L100800_y', 'L104600_y', 'S000502_y',\n",
      "       'FIELD_33_y', 'FIELD_7_y', 'FIELD_6_y', 'FIELD_27_y', 'FIELD_28_y',\n",
      "       'FIELD_40_y', 'FIELD_41_y', 'FIELD_38_y', 'FIELD_31_y', 'FIELD_4_y',\n",
      "       'FIELD_29_y', 'AGE_y'],\n",
      "      dtype='object')\n"
     ]
    },
    {
     "data": {
      "text/html": [
       "<div>\n",
       "<style scoped>\n",
       "    .dataframe tbody tr th:only-of-type {\n",
       "        vertical-align: middle;\n",
       "    }\n",
       "\n",
       "    .dataframe tbody tr th {\n",
       "        vertical-align: top;\n",
       "    }\n",
       "\n",
       "    .dataframe thead th {\n",
       "        text-align: right;\n",
       "    }\n",
       "</style>\n",
       "<table border=\"1\" class=\"dataframe\">\n",
       "  <thead>\n",
       "    <tr style=\"text-align: right;\">\n",
       "      <th></th>\n",
       "      <th>index</th>\n",
       "      <th>Unnamed: 0</th>\n",
       "      <th>L103300_x</th>\n",
       "      <th>L103100_x</th>\n",
       "      <th>L103000_x</th>\n",
       "      <th>L103200_x</th>\n",
       "      <th>L102900_x</th>\n",
       "      <th>S000300_x</th>\n",
       "      <th>SEX_x</th>\n",
       "      <th>L100700_x</th>\n",
       "      <th>...</th>\n",
       "      <th>FIELD_6_y</th>\n",
       "      <th>FIELD_27_y</th>\n",
       "      <th>FIELD_28_y</th>\n",
       "      <th>FIELD_40_y</th>\n",
       "      <th>FIELD_41_y</th>\n",
       "      <th>FIELD_38_y</th>\n",
       "      <th>FIELD_31_y</th>\n",
       "      <th>FIELD_4_y</th>\n",
       "      <th>FIELD_29_y</th>\n",
       "      <th>AGE_y</th>\n",
       "    </tr>\n",
       "  </thead>\n",
       "  <tbody>\n",
       "    <tr>\n",
       "      <th>0</th>\n",
       "      <td>2</td>\n",
       "      <td>2</td>\n",
       "      <td>3.4</td>\n",
       "      <td>72.0</td>\n",
       "      <td>41.0</td>\n",
       "      <td>163.0</td>\n",
       "      <td>243.0</td>\n",
       "      <td>20.2</td>\n",
       "      <td>1.0</td>\n",
       "      <td>3.8</td>\n",
       "      <td>...</td>\n",
       "      <td>2.0</td>\n",
       "      <td>0.0</td>\n",
       "      <td>0.0</td>\n",
       "      <td>0.0</td>\n",
       "      <td>3.0</td>\n",
       "      <td>2.0</td>\n",
       "      <td>0.0</td>\n",
       "      <td>3.0</td>\n",
       "      <td>0.0</td>\n",
       "      <td>47.0</td>\n",
       "    </tr>\n",
       "    <tr>\n",
       "      <th>1</th>\n",
       "      <td>4</td>\n",
       "      <td>4</td>\n",
       "      <td>2.9</td>\n",
       "      <td>58.0</td>\n",
       "      <td>50.0</td>\n",
       "      <td>102.0</td>\n",
       "      <td>170.0</td>\n",
       "      <td>25.5</td>\n",
       "      <td>1.0</td>\n",
       "      <td>3.4</td>\n",
       "      <td>...</td>\n",
       "      <td>2.0</td>\n",
       "      <td>0.0</td>\n",
       "      <td>0.0</td>\n",
       "      <td>0.0</td>\n",
       "      <td>5.0</td>\n",
       "      <td>0.0</td>\n",
       "      <td>1.0</td>\n",
       "      <td>2.0</td>\n",
       "      <td>1.0</td>\n",
       "      <td>53.0</td>\n",
       "    </tr>\n",
       "    <tr>\n",
       "      <th>2</th>\n",
       "      <td>7</td>\n",
       "      <td>7</td>\n",
       "      <td>2.9</td>\n",
       "      <td>77.0</td>\n",
       "      <td>45.0</td>\n",
       "      <td>139.0</td>\n",
       "      <td>225.0</td>\n",
       "      <td>21.2</td>\n",
       "      <td>1.0</td>\n",
       "      <td>3.9</td>\n",
       "      <td>...</td>\n",
       "      <td>2.0</td>\n",
       "      <td>0.0</td>\n",
       "      <td>1.0</td>\n",
       "      <td>0.0</td>\n",
       "      <td>7.0</td>\n",
       "      <td>0.0</td>\n",
       "      <td>1.0</td>\n",
       "      <td>2.0</td>\n",
       "      <td>1.0</td>\n",
       "      <td>38.0</td>\n",
       "    </tr>\n",
       "    <tr>\n",
       "      <th>3</th>\n",
       "      <td>8</td>\n",
       "      <td>8</td>\n",
       "      <td>3.1</td>\n",
       "      <td>47.0</td>\n",
       "      <td>54.0</td>\n",
       "      <td>87.0</td>\n",
       "      <td>145.0</td>\n",
       "      <td>22.0</td>\n",
       "      <td>1.0</td>\n",
       "      <td>4.2</td>\n",
       "      <td>...</td>\n",
       "      <td>2.0</td>\n",
       "      <td>0.0</td>\n",
       "      <td>0.0</td>\n",
       "      <td>0.0</td>\n",
       "      <td>0.0</td>\n",
       "      <td>2.0</td>\n",
       "      <td>0.0</td>\n",
       "      <td>2.0</td>\n",
       "      <td>0.0</td>\n",
       "      <td>40.0</td>\n",
       "    </tr>\n",
       "    <tr>\n",
       "      <th>4</th>\n",
       "      <td>31</td>\n",
       "      <td>31</td>\n",
       "      <td>2.8</td>\n",
       "      <td>44.0</td>\n",
       "      <td>99.0</td>\n",
       "      <td>66.0</td>\n",
       "      <td>130.0</td>\n",
       "      <td>19.4</td>\n",
       "      <td>1.0</td>\n",
       "      <td>4.1</td>\n",
       "      <td>...</td>\n",
       "      <td>1.0</td>\n",
       "      <td>0.0</td>\n",
       "      <td>0.0</td>\n",
       "      <td>0.0</td>\n",
       "      <td>3.0</td>\n",
       "      <td>1.0</td>\n",
       "      <td>0.0</td>\n",
       "      <td>4.0</td>\n",
       "      <td>0.0</td>\n",
       "      <td>21.0</td>\n",
       "    </tr>\n",
       "  </tbody>\n",
       "</table>\n",
       "<p>5 rows × 64 columns</p>\n",
       "</div>"
      ],
      "text/plain": [
       "   index  Unnamed: 0  L103300_x  L103100_x  L103000_x  L103200_x  L102900_x  \\\n",
       "0      2           2        3.4       72.0       41.0      163.0      243.0   \n",
       "1      4           4        2.9       58.0       50.0      102.0      170.0   \n",
       "2      7           7        2.9       77.0       45.0      139.0      225.0   \n",
       "3      8           8        3.1       47.0       54.0       87.0      145.0   \n",
       "4     31          31        2.8       44.0       99.0       66.0      130.0   \n",
       "\n",
       "   S000300_x  SEX_x  L100700_x  ...  FIELD_6_y  FIELD_27_y  FIELD_28_y  \\\n",
       "0       20.2    1.0        3.8  ...        2.0         0.0         0.0   \n",
       "1       25.5    1.0        3.4  ...        2.0         0.0         0.0   \n",
       "2       21.2    1.0        3.9  ...        2.0         0.0         1.0   \n",
       "3       22.0    1.0        4.2  ...        2.0         0.0         0.0   \n",
       "4       19.4    1.0        4.1  ...        1.0         0.0         0.0   \n",
       "\n",
       "   FIELD_40_y  FIELD_41_y  FIELD_38_y  FIELD_31_y  FIELD_4_y  FIELD_29_y  \\\n",
       "0         0.0         3.0         2.0         0.0        3.0         0.0   \n",
       "1         0.0         5.0         0.0         1.0        2.0         1.0   \n",
       "2         0.0         7.0         0.0         1.0        2.0         1.0   \n",
       "3         0.0         0.0         2.0         0.0        2.0         0.0   \n",
       "4         0.0         3.0         1.0         0.0        4.0         0.0   \n",
       "\n",
       "   AGE_y  \n",
       "0   47.0  \n",
       "1   53.0  \n",
       "2   38.0  \n",
       "3   40.0  \n",
       "4   21.0  \n",
       "\n",
       "[5 rows x 64 columns]"
      ]
     },
     "execution_count": 5,
     "metadata": {},
     "output_type": "execute_result"
    }
   ],
   "source": [
    "print(data.shape)\n",
    "print(data.columns)\n",
    "data.head()"
   ]
  },
  {
   "cell_type": "code",
   "execution_count": 6,
   "metadata": {},
   "outputs": [
    {
     "ename": "KeyError",
     "evalue": "\"['L101700_x', 'FIELD_18_x', 'FIELD_25_x', 'FIELD_42_x'] not in index\"",
     "output_type": "error",
     "traceback": [
      "\u001b[1;31m---------------------------------------------------------------------------\u001b[0m",
      "\u001b[1;31mKeyError\u001b[0m                                  Traceback (most recent call last)",
      "\u001b[1;32m<ipython-input-6-519e9778bc3d>\u001b[0m in \u001b[0;36m<module>\u001b[1;34m\u001b[0m\n\u001b[0;32m      3\u001b[0m         \u001b[1;34m'L104600_x'\u001b[0m\u001b[1;33m,\u001b[0m\u001b[1;34m'FIELD_33_x'\u001b[0m\u001b[1;33m,\u001b[0m \u001b[1;34m'FIELD_7_x'\u001b[0m\u001b[1;33m,\u001b[0m \u001b[1;34m'FIELD_38_x'\u001b[0m\u001b[1;33m,\u001b[0m  \u001b[1;34m'FIELD_40_x'\u001b[0m\u001b[1;33m,\u001b[0m \u001b[1;34m'FIELD_41_x'\u001b[0m\u001b[1;33m,\u001b[0m \u001b[1;34m'FIELD_31_x'\u001b[0m\u001b[1;33m,\u001b[0m\u001b[1;33m\u001b[0m\u001b[1;33m\u001b[0m\u001b[0m\n\u001b[0;32m      4\u001b[0m         \u001b[1;34m'FIELD_27_x'\u001b[0m\u001b[1;33m,\u001b[0m \u001b[1;34m'FIELD_42_x'\u001b[0m\u001b[1;33m,\u001b[0m \u001b[1;34m'FIELD_18_x'\u001b[0m\u001b[1;33m,\u001b[0m \u001b[1;34m'FIELD_25_x'\u001b[0m\u001b[1;33m,\u001b[0m\u001b[1;34m'FIELD_6_x'\u001b[0m\u001b[1;33m,\u001b[0m\u001b[1;33m\u001b[0m\u001b[1;33m\u001b[0m\u001b[0m\n\u001b[1;32m----> 5\u001b[1;33m         'CLASS','sbpG','dbpG','AgeG']]\n\u001b[0m\u001b[0;32m      6\u001b[0m \u001b[1;33m\u001b[0m\u001b[0m\n\u001b[0;32m      7\u001b[0m y=data[['L103000_y', 'L103300_y', 'L103100_y', 'L101700_y', 'L100800_y', 'S000300_y', 'L100700_y',\n",
      "\u001b[1;32mC:\\ProgramData\\Anaconda3\\lib\\site-packages\\pandas\\core\\frame.py\u001b[0m in \u001b[0;36m__getitem__\u001b[1;34m(self, key)\u001b[0m\n\u001b[0;32m   2932\u001b[0m                 \u001b[0mkey\u001b[0m \u001b[1;33m=\u001b[0m \u001b[0mlist\u001b[0m\u001b[1;33m(\u001b[0m\u001b[0mkey\u001b[0m\u001b[1;33m)\u001b[0m\u001b[1;33m\u001b[0m\u001b[1;33m\u001b[0m\u001b[0m\n\u001b[0;32m   2933\u001b[0m             indexer = self.loc._convert_to_indexer(key, axis=1,\n\u001b[1;32m-> 2934\u001b[1;33m                                                    raise_missing=True)\n\u001b[0m\u001b[0;32m   2935\u001b[0m \u001b[1;33m\u001b[0m\u001b[0m\n\u001b[0;32m   2936\u001b[0m         \u001b[1;31m# take() does not accept boolean indexers\u001b[0m\u001b[1;33m\u001b[0m\u001b[1;33m\u001b[0m\u001b[1;33m\u001b[0m\u001b[0m\n",
      "\u001b[1;32mC:\\ProgramData\\Anaconda3\\lib\\site-packages\\pandas\\core\\indexing.py\u001b[0m in \u001b[0;36m_convert_to_indexer\u001b[1;34m(self, obj, axis, is_setter, raise_missing)\u001b[0m\n\u001b[0;32m   1352\u001b[0m                 kwargs = {'raise_missing': True if is_setter else\n\u001b[0;32m   1353\u001b[0m                           raise_missing}\n\u001b[1;32m-> 1354\u001b[1;33m                 \u001b[1;32mreturn\u001b[0m \u001b[0mself\u001b[0m\u001b[1;33m.\u001b[0m\u001b[0m_get_listlike_indexer\u001b[0m\u001b[1;33m(\u001b[0m\u001b[0mobj\u001b[0m\u001b[1;33m,\u001b[0m \u001b[0maxis\u001b[0m\u001b[1;33m,\u001b[0m \u001b[1;33m**\u001b[0m\u001b[0mkwargs\u001b[0m\u001b[1;33m)\u001b[0m\u001b[1;33m[\u001b[0m\u001b[1;36m1\u001b[0m\u001b[1;33m]\u001b[0m\u001b[1;33m\u001b[0m\u001b[1;33m\u001b[0m\u001b[0m\n\u001b[0m\u001b[0;32m   1355\u001b[0m         \u001b[1;32melse\u001b[0m\u001b[1;33m:\u001b[0m\u001b[1;33m\u001b[0m\u001b[1;33m\u001b[0m\u001b[0m\n\u001b[0;32m   1356\u001b[0m             \u001b[1;32mtry\u001b[0m\u001b[1;33m:\u001b[0m\u001b[1;33m\u001b[0m\u001b[1;33m\u001b[0m\u001b[0m\n",
      "\u001b[1;32mC:\\ProgramData\\Anaconda3\\lib\\site-packages\\pandas\\core\\indexing.py\u001b[0m in \u001b[0;36m_get_listlike_indexer\u001b[1;34m(self, key, axis, raise_missing)\u001b[0m\n\u001b[0;32m   1159\u001b[0m         self._validate_read_indexer(keyarr, indexer,\n\u001b[0;32m   1160\u001b[0m                                     \u001b[0mo\u001b[0m\u001b[1;33m.\u001b[0m\u001b[0m_get_axis_number\u001b[0m\u001b[1;33m(\u001b[0m\u001b[0maxis\u001b[0m\u001b[1;33m)\u001b[0m\u001b[1;33m,\u001b[0m\u001b[1;33m\u001b[0m\u001b[1;33m\u001b[0m\u001b[0m\n\u001b[1;32m-> 1161\u001b[1;33m                                     raise_missing=raise_missing)\n\u001b[0m\u001b[0;32m   1162\u001b[0m         \u001b[1;32mreturn\u001b[0m \u001b[0mkeyarr\u001b[0m\u001b[1;33m,\u001b[0m \u001b[0mindexer\u001b[0m\u001b[1;33m\u001b[0m\u001b[1;33m\u001b[0m\u001b[0m\n\u001b[0;32m   1163\u001b[0m \u001b[1;33m\u001b[0m\u001b[0m\n",
      "\u001b[1;32mC:\\ProgramData\\Anaconda3\\lib\\site-packages\\pandas\\core\\indexing.py\u001b[0m in \u001b[0;36m_validate_read_indexer\u001b[1;34m(self, key, indexer, axis, raise_missing)\u001b[0m\n\u001b[0;32m   1250\u001b[0m             \u001b[1;32mif\u001b[0m \u001b[1;32mnot\u001b[0m\u001b[1;33m(\u001b[0m\u001b[0mself\u001b[0m\u001b[1;33m.\u001b[0m\u001b[0mname\u001b[0m \u001b[1;33m==\u001b[0m \u001b[1;34m'loc'\u001b[0m \u001b[1;32mand\u001b[0m \u001b[1;32mnot\u001b[0m \u001b[0mraise_missing\u001b[0m\u001b[1;33m)\u001b[0m\u001b[1;33m:\u001b[0m\u001b[1;33m\u001b[0m\u001b[1;33m\u001b[0m\u001b[0m\n\u001b[0;32m   1251\u001b[0m                 \u001b[0mnot_found\u001b[0m \u001b[1;33m=\u001b[0m \u001b[0mlist\u001b[0m\u001b[1;33m(\u001b[0m\u001b[0mset\u001b[0m\u001b[1;33m(\u001b[0m\u001b[0mkey\u001b[0m\u001b[1;33m)\u001b[0m \u001b[1;33m-\u001b[0m \u001b[0mset\u001b[0m\u001b[1;33m(\u001b[0m\u001b[0max\u001b[0m\u001b[1;33m)\u001b[0m\u001b[1;33m)\u001b[0m\u001b[1;33m\u001b[0m\u001b[1;33m\u001b[0m\u001b[0m\n\u001b[1;32m-> 1252\u001b[1;33m                 \u001b[1;32mraise\u001b[0m \u001b[0mKeyError\u001b[0m\u001b[1;33m(\u001b[0m\u001b[1;34m\"{} not in index\"\u001b[0m\u001b[1;33m.\u001b[0m\u001b[0mformat\u001b[0m\u001b[1;33m(\u001b[0m\u001b[0mnot_found\u001b[0m\u001b[1;33m)\u001b[0m\u001b[1;33m)\u001b[0m\u001b[1;33m\u001b[0m\u001b[1;33m\u001b[0m\u001b[0m\n\u001b[0m\u001b[0;32m   1253\u001b[0m \u001b[1;33m\u001b[0m\u001b[0m\n\u001b[0;32m   1254\u001b[0m             \u001b[1;31m# we skip the warning on Categorical/Interval\u001b[0m\u001b[1;33m\u001b[0m\u001b[1;33m\u001b[0m\u001b[1;33m\u001b[0m\u001b[0m\n",
      "\u001b[1;31mKeyError\u001b[0m: \"['L101700_x', 'FIELD_18_x', 'FIELD_25_x', 'FIELD_42_x'] not in index\""
     ]
    }
   ],
   "source": [
    "x=data[['Unnamed: 0_x','L103300_x', 'L103100_x', 'L103000_x', 'L103200_x', 'L102900_x', 'S000300_x', 'SEX_x', 'L100700_x',\n",
    "        'L190300_x', 'L190400_x', 'L190500_x', 'L100500_x', 'L101300_x', 'S000501_x', 'L100800_x', 'L104600_x', 'S000502_x',\n",
    "        'FIELD_33_x', 'FIELD_7_x', 'FIELD_6_x', 'FIELD_27_x', 'FIELD_28_x', 'FIELD_40_x', 'FIELD_41_x', 'FIELD_38_x',\n",
    "        'FIELD_31_x', 'FIELD_4_x', 'FIELD_29_x','AGE_x',\n",
    "        'CLASS','sbpG','dbpG','AgeG']]\n",
    "\n",
    "y=data[['Unnamed: 0_y','L103300_y', 'L103100_y', 'L103000_y', 'L103200_y', 'L102900_y', 'S000300_y', 'SEX_y', 'L100700_y',\n",
    "        'L190300_y', 'L190400_y', 'L190500_y', 'L100500_y', 'L101300_y', 'S000501_y', 'L100800_y', 'L104600_y', 'S000502_y',\n",
    "        'FIELD_33_y', 'FIELD_7_y', 'FIELD_6_y', 'FIELD_27_y', 'FIELD_28_y', 'FIELD_40_y', 'FIELD_41_y', 'FIELD_38_y',\n",
    "        'FIELD_31_y', 'FIELD_4_y', 'FIELD_29_y','AGE_y'\n",
    "       ]]"
   ]
  },
  {
   "cell_type": "markdown",
   "metadata": {},
   "source": [
    "Check the correlation of the selected feature with the independent variables\n",
    "====="
   ]
  },
  {
   "cell_type": "code",
   "execution_count": 9,
   "metadata": {},
   "outputs": [],
   "source": [
    "temppd=pd.DataFrame(x.copy())\n",
    "temppd['y']=y.L104600_y\n",
    "temppd.head()\n",
    "corval=abs(temppd.corr()).sort_values(by='y', ascending=False)"
   ]
  },
  {
   "cell_type": "code",
   "execution_count": 10,
   "metadata": {},
   "outputs": [
    {
     "data": {
      "text/plain": [
       "y             1.000000\n",
       "L104600_x     0.682334\n",
       "L100800_x     0.409902\n",
       "CLASS         0.323879\n",
       "AGE_x         0.281758\n",
       "AgeG          0.268312\n",
       "S000300_x     0.256484\n",
       "L103300_x     0.254951\n",
       "L103000_x     0.231813\n",
       "FIELD_7_x     0.201350\n",
       "L102900_x     0.183113\n",
       "FIELD_6_x     0.156413\n",
       "S000501_x     0.154875\n",
       "sbpG          0.140547\n",
       "L101300_x     0.136402\n",
       "FIELD_38_x    0.131657\n",
       "L103100_x     0.131439\n",
       "L101700_x     0.125446\n",
       "S000502_x     0.124726\n",
       "L100700_x     0.102135\n",
       "dbpG          0.099460\n",
       "L190300_x     0.089836\n",
       "FIELD_31_x    0.072038\n",
       "FIELD_33_x    0.044224\n",
       "L190400_x     0.044101\n",
       "FIELD_27_x    0.034125\n",
       "FIELD_18_x    0.019330\n",
       "FIELD_40_x    0.017444\n",
       "FIELD_42_x    0.015927\n",
       "L190500_x     0.013593\n",
       "FIELD_41_x    0.012373\n",
       "FIELD_25_x    0.010574\n",
       "SEX_x              NaN\n",
       "Name: y, dtype: float64"
      ]
     },
     "execution_count": 10,
     "metadata": {},
     "output_type": "execute_result"
    }
   ],
   "source": [
    "corval.y"
   ]
  },
  {
   "cell_type": "code",
   "execution_count": 11,
   "metadata": {},
   "outputs": [],
   "source": [
    "#histogram plot of the features\n",
    "# import matplotlib.pyplot as plt\n",
    "# x[x.dtypes[(x.dtypes==\"float64\")|(x.dtypes==\"int64\")]\n",
    "#                         .index.values].hist(figsize=[11,11])"
   ]
  },
  {
   "cell_type": "markdown",
   "metadata": {},
   "source": [
    "Apply PCA\n",
    "==========="
   ]
  },
  {
   "cell_type": "code",
   "execution_count": 12,
   "metadata": {},
   "outputs": [],
   "source": [
    "# from sklearn.decomposition import PCA\n",
    "# pca = PCA(n_components=8)\n",
    "# pca.fit(x)\n",
    "\n",
    "# print(pca.explained_variance_ratio_)   \n",
    "# print(np.sum(pca.explained_variance_ratio_))\n",
    "\n",
    "# x=pca.fit_transform(x) \n",
    "# print(x.shape)\n"
   ]
  },
  {
   "cell_type": "markdown",
   "metadata": {},
   "source": [
    "feature scaling\n",
    "======="
   ]
  },
  {
   "cell_type": "code",
   "execution_count": 13,
   "metadata": {},
   "outputs": [],
   "source": [
    "# from sklearn import preprocessing\n",
    "# min_max_scaler = preprocessing.MinMaxScaler()  #StandardScaler()\n",
    "# x = min_max_scaler.fit_transform(x)"
   ]
  },
  {
   "cell_type": "markdown",
   "metadata": {},
   "source": [
    "clustring test\n",
    "=========="
   ]
  },
  {
   "cell_type": "code",
   "execution_count": 14,
   "metadata": {},
   "outputs": [],
   "source": [
    "# from sklearn.cluster import KMeans\n",
    "# from scipy.spatial.distance import cdist\n",
    "\n",
    "# K = range(1,10)\n",
    "# distortions = []\n",
    "\n",
    "# for k in K:\n",
    "#     kmeanModel = KMeans(n_clusters=k).fit(x)\n",
    "#     kmeanModel.fit(x)\n",
    "#     distortions.append(sum(np.min(cdist(x, kmeanModel.cluster_centers_, 'euclidean'), axis=1)) / x.shape[0])\n",
    "\n",
    "# # Plot the elbow\n",
    "# plt.plot(K, distortions, 'bx-')\n",
    "# plt.xlabel('k')\n",
    "# plt.ylabel('Distortion')\n",
    "# plt.title('The Elbow Method showing the optimal k')\n",
    "# plt.show()\n"
   ]
  },
  {
   "cell_type": "code",
   "execution_count": 15,
   "metadata": {},
   "outputs": [],
   "source": [
    "# kmeanModel = KMeans(n_clusters=k).fit(x)\n",
    "# x['lbl']=kmeanModel.labels_ "
   ]
  },
  {
   "cell_type": "code",
   "execution_count": 16,
   "metadata": {},
   "outputs": [],
   "source": [
    "# x.columns"
   ]
  },
  {
   "cell_type": "markdown",
   "metadata": {},
   "source": [
    "Random Forest Regressor\n",
    "============="
   ]
  },
  {
   "cell_type": "code",
   "execution_count": 17,
   "metadata": {},
   "outputs": [],
   "source": [
    "ylable=y[['L103000_y']]  \n",
    "xtrain,xtest,ytrain,ytest=train_test_split(x, ylable, random_state=42, test_size=0.2)"
   ]
  },
  {
   "cell_type": "code",
   "execution_count": 18,
   "metadata": {},
   "outputs": [
    {
     "name": "stdout",
     "output_type": "stream",
     "text": [
      "[6.58929933e-01 6.09643699e-02 1.21494334e-02 2.92592949e-02\n",
      " 1.55577770e-02 2.10891395e-02 4.01993088e-02 2.32890136e-02\n",
      " 1.66156257e-02 0.00000000e+00 1.00761210e-02 1.14983107e-02\n",
      " 1.02650111e-02 1.03905338e-02 2.29190190e-02 1.00266121e-02\n",
      " 1.79760458e-02 9.09931481e-04 1.21976579e-03 4.78218343e-03\n",
      " 3.86378895e-03 3.98517220e-03 7.98677961e-04 3.45611419e-04\n",
      " 6.46865663e-03 3.90386253e-04 1.25868807e-03 5.17589660e-04\n",
      " 9.91805232e-04 9.18469873e-04 5.24953382e-04 1.81877006e-03]\n"
     ]
    }
   ],
   "source": [
    "regr = RandomForestRegressor(max_depth=7, random_state=0,verbose =0,n_estimators=500)\n",
    "regr.fit(xtrain, ytrain) \n",
    "print(regr.feature_importances_)\n",
    "ypred=regr.predict(xtest)\n"
   ]
  },
  {
   "cell_type": "code",
   "execution_count": 19,
   "metadata": {},
   "outputs": [
    {
     "name": "stdout",
     "output_type": "stream",
     "text": [
      "mean_squared_error 1379.5226790137285\n",
      "root mean_squared_error 37.141926161868994\n",
      "mean_absolute_error 24.84036954078753\n",
      "r2_score 0.46751287887001947\n"
     ]
    },
    {
     "data": {
      "image/png": "[encoded data removed]",
      "text/plain": [
       "<Figure size 432x288 with 1 Axes>"
      ]
     },
     "metadata": {
      "needs_background": "light"
     },
     "output_type": "display_data"
    },
    {
     "data": {
      "text/html": [
       "<div>\n",
       "<style scoped>\n",
       "    .dataframe tbody tr th:only-of-type {\n",
       "        vertical-align: middle;\n",
       "    }\n",
       "\n",
       "    .dataframe tbody tr th {\n",
       "        vertical-align: top;\n",
       "    }\n",
       "\n",
       "    .dataframe thead th {\n",
       "        text-align: right;\n",
       "    }\n",
       "</style>\n",
       "<table border=\"1\" class=\"dataframe\">\n",
       "  <thead>\n",
       "    <tr style=\"text-align: right;\">\n",
       "      <th></th>\n",
       "      <th>t + 1</th>\n",
       "      <th>pred (t +1)</th>\n",
       "    </tr>\n",
       "  </thead>\n",
       "  <tbody>\n",
       "    <tr>\n",
       "      <th>67</th>\n",
       "      <td>331.0</td>\n",
       "      <td>122.307374</td>\n",
       "    </tr>\n",
       "    <tr>\n",
       "      <th>601</th>\n",
       "      <td>332.0</td>\n",
       "      <td>140.136770</td>\n",
       "    </tr>\n",
       "    <tr>\n",
       "      <th>1817</th>\n",
       "      <td>362.0</td>\n",
       "      <td>191.674096</td>\n",
       "    </tr>\n",
       "    <tr>\n",
       "      <th>237</th>\n",
       "      <td>373.0</td>\n",
       "      <td>264.651189</td>\n",
       "    </tr>\n",
       "    <tr>\n",
       "      <th>477</th>\n",
       "      <td>411.0</td>\n",
       "      <td>281.401266</td>\n",
       "    </tr>\n",
       "    <tr>\n",
       "      <th>1569</th>\n",
       "      <td>426.0</td>\n",
       "      <td>132.469985</td>\n",
       "    </tr>\n",
       "    <tr>\n",
       "      <th>179</th>\n",
       "      <td>481.0</td>\n",
       "      <td>194.899275</td>\n",
       "    </tr>\n",
       "    <tr>\n",
       "      <th>2290</th>\n",
       "      <td>558.0</td>\n",
       "      <td>222.270527</td>\n",
       "    </tr>\n",
       "    <tr>\n",
       "      <th>1859</th>\n",
       "      <td>587.0</td>\n",
       "      <td>264.042398</td>\n",
       "    </tr>\n",
       "    <tr>\n",
       "      <th>1326</th>\n",
       "      <td>642.0</td>\n",
       "      <td>339.465712</td>\n",
       "    </tr>\n",
       "  </tbody>\n",
       "</table>\n",
       "</div>"
      ],
      "text/plain": [
       "      t + 1  pred (t +1)\n",
       "67    331.0   122.307374\n",
       "601   332.0   140.136770\n",
       "1817  362.0   191.674096\n",
       "237   373.0   264.651189\n",
       "477   411.0   281.401266\n",
       "1569  426.0   132.469985\n",
       "179   481.0   194.899275\n",
       "2290  558.0   222.270527\n",
       "1859  587.0   264.042398\n",
       "1326  642.0   339.465712"
      ]
     },
     "execution_count": 19,
     "metadata": {},
     "output_type": "execute_result"
    },
    {
     "data": {
      "image/png": "[encoded data removed]",
      "text/plain": [
       "<Figure size 432x288 with 1 Axes>"
      ]
     },
     "metadata": {
      "needs_background": "light"
     },
     "output_type": "display_data"
    }
   ],
   "source": [
    "\n",
    "import math\n",
    "print('mean_squared_error',mean_squared_error(ytest, ypred))\n",
    "print('root mean_squared_error',math.sqrt(mean_squared_error(ytest, ypred)))\n",
    "print('mean_absolute_error',mean_absolute_error(ytest, ypred))\n",
    "print('r2_score',r2_score(ytest, ypred))\n",
    "\n",
    "ypredPD=pd.DataFrame()\n",
    "# ypredPD['t']=xtest['S000501_x'].values\n",
    "ypredPD['t + 1']=ytest.values.ravel()\n",
    "ypredPD['pred (t +1)']=ypred\n",
    "ypredPD.head(30)\n",
    "\n",
    "import matplotlib.patches as mpatches\n",
    "plt.ylabel('Values')\n",
    "plt.xlabel('index')\n",
    "red_patch = mpatches.Patch(color='red', label='Actual data')\n",
    "blue_patch = mpatches.Patch(color='blue', label='Predicted data')\n",
    "plt.legend(handles=[red_patch,blue_patch])\n",
    "\n",
    "ypredPD=ypredPD.sort_values(by=['t + 1'])\n",
    "plt.scatter(np.arange(0,ypredPD.shape[0],1),ypredPD['pred (t +1)'][:ypredPD.shape[0]])\n",
    "plt.plot(np.arange(0,ypredPD.shape[0],1),ypredPD['t + 1'][:ypredPD.shape[0]],color='red')\n",
    "plt.show()\n",
    "\n",
    "plt.ylabel('p*(t+1), Predicted data')\n",
    "plt.xlabel('p(t+1), Actual data')\n",
    "plt.scatter(ypredPD['t + 1'][:ypredPD.shape[0]],ypredPD['pred (t +1)'][:ypredPD.shape[0]])\n",
    "\n",
    "ypredPD.tail(10)"
   ]
  },
  {
   "cell_type": "code",
   "execution_count": 20,
   "metadata": {},
   "outputs": [],
   "source": [
    "# tempdata=pd.DataFrame(xtest.copy())\n",
    "# tempdata['ytest']=ytest\n",
    "# # temp=temp.dropna()\n",
    "# # tempdata.head()\n",
    "# # tempdata[tempdata.ytest.isna()].index\n",
    "\n",
    "# tempdata=tempdata.drop(tempdata[tempdata.ytest.isna()].index)\n"
   ]
  },
  {
   "cell_type": "markdown",
   "metadata": {},
   "source": [
    "xg boost\n",
    "=========="
   ]
  },
  {
   "cell_type": "code",
   "execution_count": 21,
   "metadata": {},
   "outputs": [],
   "source": [
    "import xgboost as xgb\n",
    "# from sklearn.metrics import mean_squared_error\n",
    "# import pandas as pd\n",
    "# import numpy as np"
   ]
  },
  {
   "cell_type": "code",
   "execution_count": 22,
   "metadata": {},
   "outputs": [
    {
     "name": "stdout",
     "output_type": "stream",
     "text": [
      "[20:21:55] WARNING: C:/Jenkins/workspace/xgboost-win64_release_0.90/src/objective/regression_obj.cu:152: reg:linear is now deprecated in favor of reg:squarederror.\n"
     ]
    },
    {
     "data": {
      "text/plain": [
       "XGBRegressor(base_score=0.5, booster='gbtree', colsample_bylevel=1,\n",
       "             colsample_bynode=1, colsample_bytree=1, gamma=0,\n",
       "             importance_type='gain', learning_rate=0.1, max_delta_step=0,\n",
       "             max_depth=3, min_child_weight=1, missing=None, n_estimators=100,\n",
       "             n_jobs=1, nthread=None, objective='reg:linear', random_state=0,\n",
       "             reg_alpha=0, reg_lambda=1, scale_pos_weight=1, seed=None,\n",
       "             silent=None, subsample=1, verbosity=1)"
      ]
     },
     "execution_count": 22,
     "metadata": {},
     "output_type": "execute_result"
    }
   ],
   "source": [
    "xg_reg = xgb.XGBRegressor()\n",
    "# xg_reg = xgb.XGBRegressor(objective ='reg:linear', colsample_bytree = 0.3, \n",
    "#                           learning_rate = 0.1,max_depth = 5, alpha = 10, n_estimators = 10)\n",
    "xg_reg.fit(xtrain, ytrain) "
   ]
  },
  {
   "cell_type": "code",
   "execution_count": 23,
   "metadata": {},
   "outputs": [
    {
     "name": "stdout",
     "output_type": "stream",
     "text": [
      "mean_squared_error 1383.7703035168934\n",
      "root mean_squared_error 37.19906320751765\n",
      "mean_absolute_error 24.856737372673514\n",
      "r2_score 0.4658733223931746\n"
     ]
    }
   ],
   "source": [
    "\n",
    "ypred = xg_reg.predict(xtest)\n",
    "\n",
    "import math\n",
    "print('mean_squared_error',mean_squared_error(ytest, ypred))\n",
    "print('root mean_squared_error',math.sqrt(mean_squared_error(ytest, ypred)))\n",
    "print('mean_absolute_error',mean_absolute_error(ytest, ypred))\n",
    "print('r2_score',r2_score(ytest, ypred))\n",
    "\n",
    "# ypredPD=pd.DataFrame()\n",
    "# ypredPD['t']=xtest['S000501_x'].values\n",
    "# ypredPD['t + 1']=ytest.values\n",
    "# ypredPD['pred (t +1)']=ypred\n",
    "# ypredPD.head(10)"
   ]
  },
  {
   "cell_type": "code",
   "execution_count": 24,
   "metadata": {},
   "outputs": [],
   "source": [
    "# ytest[ytest.isna()].shape\n",
    "# tempdata.iloc[:,-1]"
   ]
  },
  {
   "cell_type": "markdown",
   "metadata": {},
   "source": [
    "ANN\n",
    "=========="
   ]
  },
  {
   "cell_type": "code",
   "execution_count": 27,
   "metadata": {},
   "outputs": [],
   "source": [
    "model= Sequential()\n",
    "model.add(Dense(input_dim=32,units=128,activation='relu', kernel_initializer='uniform'))\n",
    "model.add(Dense(units=128, activation='relu', kernel_initializer='uniform')) \n",
    "model.add(BatchNormalization())\n",
    "model.add(Dropout(0.25))  \n",
    "model.add(Dense(units=64, activation='relu', kernel_initializer='uniform'))\n",
    "model.add(Dense(units=32, activation='relu', kernel_initializer='uniform')) \n",
    "model.add(BatchNormalization())\n",
    "model.add(Dropout(0.25))  \n",
    "model.add(Dense(units=16, activation='relu', kernel_initializer='uniform'))\n",
    "model.add(BatchNormalization())\n",
    "model.add(Dropout(0.25))  \n",
    "model.add(Dense(units=8, activation='relu', kernel_initializer='uniform'))\n",
    "model.add(Dense(units=1, kernel_initializer='uniform'))\n",
    "model.compile(loss='mean_squared_error', optimizer='Nadam', metrics=['mean_squared_error' ])"
   ]
  },
  {
   "cell_type": "code",
   "execution_count": 28,
   "metadata": {
    "scrolled": true
   },
   "outputs": [
    {
     "name": "stderr",
     "output_type": "stream",
     "text": [
      "W1003 20:22:48.172275  9144 deprecation_wrapper.py:119] From C:\\ProgramData\\Anaconda3\\lib\\site-packages\\keras\\backend\\tensorflow_backend.py:986: The name tf.assign_add is deprecated. Please use tf.compat.v1.assign_add instead.\n",
      "\n"
     ]
    },
    {
     "name": "stdout",
     "output_type": "stream",
     "text": [
      "Train on 7376 samples, validate on 1844 samples\n",
      "Epoch 1/100\n",
      "7376/7376 [==============================] - 1s 146us/step - loss: 8221.3069 - mean_squared_error: 8221.3069 - val_loss: 1713.0967 - val_mean_squared_error: 1713.0967\n",
      "Epoch 2/100\n",
      "7376/7376 [==============================] - 0s 32us/step - loss: 3086.4114 - mean_squared_error: 3086.4114 - val_loss: 4516.2152 - val_mean_squared_error: 4516.2152\n",
      "Epoch 3/100\n",
      "7376/7376 [==============================] - 0s 32us/step - loss: 1827.1235 - mean_squared_error: 1827.1235 - val_loss: 1797.9997 - val_mean_squared_error: 1797.9997\n",
      "Epoch 4/100\n",
      "7376/7376 [==============================] - 0s 32us/step - loss: 1789.8455 - mean_squared_error: 1789.8455 - val_loss: 1574.1817 - val_mean_squared_error: 1574.1817\n",
      "Epoch 5/100\n",
      "7376/7376 [==============================] - 0s 32us/step - loss: 1753.8395 - mean_squared_error: 1753.8395 - val_loss: 1461.3147 - val_mean_squared_error: 1461.3147\n",
      "Epoch 6/100\n",
      "7376/7376 [==============================] - 0s 33us/step - loss: 1681.4691 - mean_squared_error: 1681.4691 - val_loss: 1572.5837 - val_mean_squared_error: 1572.5837\n",
      "Epoch 7/100\n",
      "7376/7376 [==============================] - 0s 33us/step - loss: 1727.7345 - mean_squared_error: 1727.7345 - val_loss: 1498.3084 - val_mean_squared_error: 1498.3084\n",
      "Epoch 8/100\n",
      "7376/7376 [==============================] - 0s 33us/step - loss: 1693.3900 - mean_squared_error: 1693.3900 - val_loss: 2026.4262 - val_mean_squared_error: 2026.4262\n",
      "Epoch 9/100\n",
      "7376/7376 [==============================] - 0s 31us/step - loss: 1724.7078 - mean_squared_error: 1724.7078 - val_loss: 3266.5235 - val_mean_squared_error: 3266.5235\n",
      "Epoch 10/100\n",
      "7376/7376 [==============================] - 0s 36us/step - loss: 1667.0614 - mean_squared_error: 1667.0614 - val_loss: 1640.5602 - val_mean_squared_error: 1640.5602\n",
      "Epoch 11/100\n",
      "7376/7376 [==============================] - 0s 34us/step - loss: 1671.1821 - mean_squared_error: 1671.1821 - val_loss: 1527.0811 - val_mean_squared_error: 1527.0811\n",
      "Epoch 12/100\n",
      "7376/7376 [==============================] - 0s 30us/step - loss: 1699.3282 - mean_squared_error: 1699.3282 - val_loss: 2830.2540 - val_mean_squared_error: 2830.2540\n",
      "Epoch 13/100\n",
      "7376/7376 [==============================] - 0s 33us/step - loss: 1708.9175 - mean_squared_error: 1708.9175 - val_loss: 1499.4172 - val_mean_squared_error: 1499.4172\n",
      "Epoch 14/100\n",
      "7376/7376 [==============================] - 0s 32us/step - loss: 1672.1271 - mean_squared_error: 1672.1271 - val_loss: 1617.2577 - val_mean_squared_error: 1617.2577\n",
      "Epoch 15/100\n",
      "7376/7376 [==============================] - 0s 32us/step - loss: 1635.9408 - mean_squared_error: 1635.9408 - val_loss: 2158.5897 - val_mean_squared_error: 2158.5897\n",
      "Epoch 16/100\n",
      "7376/7376 [==============================] - 0s 31us/step - loss: 1650.1382 - mean_squared_error: 1650.1382 - val_loss: 2050.6826 - val_mean_squared_error: 2050.6826\n",
      "Epoch 17/100\n",
      "7376/7376 [==============================] - 0s 33us/step - loss: 1628.5564 - mean_squared_error: 1628.5564 - val_loss: 1614.1235 - val_mean_squared_error: 1614.1235\n",
      "Epoch 18/100\n",
      "7376/7376 [==============================] - 0s 32us/step - loss: 1594.2438 - mean_squared_error: 1594.2438 - val_loss: 1662.6248 - val_mean_squared_error: 1662.6248\n",
      "Epoch 19/100\n",
      "7376/7376 [==============================] - 0s 32us/step - loss: 1617.1534 - mean_squared_error: 1617.1534 - val_loss: 1414.0065 - val_mean_squared_error: 1414.0065\n",
      "Epoch 20/100\n",
      "7376/7376 [==============================] - 0s 30us/step - loss: 1598.3490 - mean_squared_error: 1598.3490 - val_loss: 1462.4934 - val_mean_squared_error: 1462.4934\n",
      "Epoch 21/100\n",
      "7376/7376 [==============================] - 0s 32us/step - loss: 1622.5221 - mean_squared_error: 1622.5221 - val_loss: 1467.7410 - val_mean_squared_error: 1467.7410\n",
      "Epoch 22/100\n",
      "7376/7376 [==============================] - 0s 34us/step - loss: 1628.1757 - mean_squared_error: 1628.1757 - val_loss: 1517.5675 - val_mean_squared_error: 1517.5675\n",
      "Epoch 23/100\n",
      "7376/7376 [==============================] - 0s 29us/step - loss: 1604.5349 - mean_squared_error: 1604.5349 - val_loss: 2260.4482 - val_mean_squared_error: 2260.4482\n",
      "Epoch 24/100\n",
      "7376/7376 [==============================] - 0s 30us/step - loss: 1616.8216 - mean_squared_error: 1616.8216 - val_loss: 1419.6024 - val_mean_squared_error: 1419.6024\n",
      "Epoch 25/100\n",
      "7376/7376 [==============================] - 0s 32us/step - loss: 1594.4144 - mean_squared_error: 1594.4144 - val_loss: 1533.6258 - val_mean_squared_error: 1533.6258\n",
      "Epoch 26/100\n",
      "7376/7376 [==============================] - 0s 32us/step - loss: 1574.9296 - mean_squared_error: 1574.9296 - val_loss: 1490.1616 - val_mean_squared_error: 1490.1616\n",
      "Epoch 27/100\n",
      "7376/7376 [==============================] - 0s 32us/step - loss: 1560.6192 - mean_squared_error: 1560.6192 - val_loss: 1437.9326 - val_mean_squared_error: 1437.9326\n",
      "Epoch 28/100\n",
      "7376/7376 [==============================] - 0s 34us/step - loss: 1562.9982 - mean_squared_error: 1562.9982 - val_loss: 1437.4330 - val_mean_squared_error: 1437.4330\n",
      "Epoch 29/100\n",
      "7376/7376 [==============================] - 0s 29us/step - loss: 1596.7151 - mean_squared_error: 1596.7151 - val_loss: 1461.4380 - val_mean_squared_error: 1461.4380\n",
      "Epoch 30/100\n",
      "7376/7376 [==============================] - 0s 33us/step - loss: 1560.9565 - mean_squared_error: 1560.9565 - val_loss: 1442.3184 - val_mean_squared_error: 1442.3184\n",
      "Epoch 31/100\n",
      "7376/7376 [==============================] - 0s 30us/step - loss: 1543.4044 - mean_squared_error: 1543.4044 - val_loss: 1425.0023 - val_mean_squared_error: 1425.0023\n",
      "Epoch 32/100\n",
      "7376/7376 [==============================] - 0s 35us/step - loss: 1552.3411 - mean_squared_error: 1552.3411 - val_loss: 1419.8830 - val_mean_squared_error: 1419.8830\n",
      "Epoch 33/100\n",
      "7376/7376 [==============================] - 0s 32us/step - loss: 1559.9743 - mean_squared_error: 1559.9743 - val_loss: 1406.8917 - val_mean_squared_error: 1406.8917\n",
      "Epoch 34/100\n",
      "7376/7376 [==============================] - 0s 33us/step - loss: 1545.1503 - mean_squared_error: 1545.1503 - val_loss: 1449.1197 - val_mean_squared_error: 1449.1197\n",
      "Epoch 35/100\n",
      "7376/7376 [==============================] - 0s 35us/step - loss: 1514.3439 - mean_squared_error: 1514.3439 - val_loss: 1423.6236 - val_mean_squared_error: 1423.6236\n",
      "Epoch 36/100\n",
      "7376/7376 [==============================] - 0s 34us/step - loss: 1533.8760 - mean_squared_error: 1533.8760 - val_loss: 1450.7414 - val_mean_squared_error: 1450.7414\n",
      "Epoch 37/100\n",
      "7376/7376 [==============================] - 0s 34us/step - loss: 1547.3423 - mean_squared_error: 1547.3423 - val_loss: 1578.0278 - val_mean_squared_error: 1578.0278\n",
      "Epoch 38/100\n",
      "7376/7376 [==============================] - 0s 32us/step - loss: 1526.2852 - mean_squared_error: 1526.2852 - val_loss: 1478.6706 - val_mean_squared_error: 1478.6706\n",
      "Epoch 39/100\n",
      "7376/7376 [==============================] - 0s 33us/step - loss: 1524.5409 - mean_squared_error: 1524.5409 - val_loss: 1485.8725 - val_mean_squared_error: 1485.8725\n",
      "Epoch 40/100\n",
      "7376/7376 [==============================] - 0s 32us/step - loss: 1519.7721 - mean_squared_error: 1519.7721 - val_loss: 1431.0758 - val_mean_squared_error: 1431.0758\n",
      "Epoch 41/100\n",
      "7376/7376 [==============================] - 0s 31us/step - loss: 1507.7598 - mean_squared_error: 1507.7598 - val_loss: 1414.6699 - val_mean_squared_error: 1414.6699\n",
      "Epoch 42/100\n",
      "7376/7376 [==============================] - 0s 33us/step - loss: 1550.8230 - mean_squared_error: 1550.8230 - val_loss: 1571.8248 - val_mean_squared_error: 1571.8248\n",
      "Epoch 43/100\n",
      "7376/7376 [==============================] - 0s 32us/step - loss: 1528.6199 - mean_squared_error: 1528.6199 - val_loss: 1481.4498 - val_mean_squared_error: 1481.4498\n",
      "Epoch 44/100\n",
      "7376/7376 [==============================] - 0s 33us/step - loss: 1528.9730 - mean_squared_error: 1528.9730 - val_loss: 1430.5505 - val_mean_squared_error: 1430.5505\n",
      "Epoch 45/100\n",
      "7376/7376 [==============================] - 0s 33us/step - loss: 1538.2812 - mean_squared_error: 1538.2812 - val_loss: 1530.1509 - val_mean_squared_error: 1530.1509\n",
      "Epoch 46/100\n",
      "7376/7376 [==============================] - 0s 34us/step - loss: 1519.4020 - mean_squared_error: 1519.4020 - val_loss: 1437.9257 - val_mean_squared_error: 1437.9257\n",
      "Epoch 47/100\n",
      "7376/7376 [==============================] - 0s 33us/step - loss: 1510.3896 - mean_squared_error: 1510.3896 - val_loss: 1702.6690 - val_mean_squared_error: 1702.6690\n",
      "Epoch 48/100\n",
      "7376/7376 [==============================] - 0s 34us/step - loss: 1455.7865 - mean_squared_error: 1455.7865 - val_loss: 1492.2290 - val_mean_squared_error: 1492.2290\n",
      "Epoch 49/100\n",
      "7376/7376 [==============================] - 0s 32us/step - loss: 1503.8000 - mean_squared_error: 1503.8000 - val_loss: 1423.0827 - val_mean_squared_error: 1423.0827\n",
      "Epoch 50/100\n",
      "7376/7376 [==============================] - 0s 34us/step - loss: 1479.3133 - mean_squared_error: 1479.3133 - val_loss: 1652.7836 - val_mean_squared_error: 1652.7836\n",
      "Epoch 51/100\n",
      "7376/7376 [==============================] - 0s 31us/step - loss: 1521.3085 - mean_squared_error: 1521.3085 - val_loss: 1468.8434 - val_mean_squared_error: 1468.8434\n",
      "Epoch 52/100\n",
      "7376/7376 [==============================] - 0s 32us/step - loss: 1503.7977 - mean_squared_error: 1503.7977 - val_loss: 1477.3992 - val_mean_squared_error: 1477.3992\n",
      "Epoch 53/100\n",
      "7376/7376 [==============================] - 0s 32us/step - loss: 1516.0668 - mean_squared_error: 1516.0668 - val_loss: 1422.1404 - val_mean_squared_error: 1422.1404\n",
      "Epoch 54/100\n",
      "7376/7376 [==============================] - 0s 32us/step - loss: 1486.1500 - mean_squared_error: 1486.1500 - val_loss: 1475.9933 - val_mean_squared_error: 1475.9933\n",
      "Epoch 55/100\n",
      "7376/7376 [==============================] - 0s 32us/step - loss: 1529.9108 - mean_squared_error: 1529.9108 - val_loss: 1494.9589 - val_mean_squared_error: 1494.9589\n",
      "Epoch 56/100\n",
      "7376/7376 [==============================] - 0s 32us/step - loss: 1469.6011 - mean_squared_error: 1469.6011 - val_loss: 1590.2001 - val_mean_squared_error: 1590.2001\n",
      "Epoch 57/100\n",
      "7376/7376 [==============================] - 0s 33us/step - loss: 1484.8500 - mean_squared_error: 1484.8500 - val_loss: 1516.1715 - val_mean_squared_error: 1516.1715\n",
      "Epoch 58/100\n",
      "7376/7376 [==============================] - 0s 33us/step - loss: 1491.9365 - mean_squared_error: 1491.9365 - val_loss: 1428.0340 - val_mean_squared_error: 1428.0340\n",
      "Epoch 59/100\n",
      "7376/7376 [==============================] - 0s 32us/step - loss: 1462.5842 - mean_squared_error: 1462.5842 - val_loss: 1420.5341 - val_mean_squared_error: 1420.5341\n",
      "Epoch 60/100\n",
      "7376/7376 [==============================] - 0s 33us/step - loss: 1494.3368 - mean_squared_error: 1494.3368 - val_loss: 1625.1490 - val_mean_squared_error: 1625.1490\n",
      "Epoch 61/100\n",
      "7376/7376 [==============================] - 0s 30us/step - loss: 1499.7485 - mean_squared_error: 1499.7485 - val_loss: 1465.5550 - val_mean_squared_error: 1465.5550\n",
      "Epoch 62/100\n",
      "7376/7376 [==============================] - 0s 31us/step - loss: 1477.6630 - mean_squared_error: 1477.6630 - val_loss: 1595.2954 - val_mean_squared_error: 1595.2954\n",
      "Epoch 63/100\n",
      "7376/7376 [==============================] - 0s 31us/step - loss: 1497.5095 - mean_squared_error: 1497.5095 - val_loss: 1477.4219 - val_mean_squared_error: 1477.4219\n",
      "Epoch 64/100\n",
      "7376/7376 [==============================] - 0s 34us/step - loss: 1464.8104 - mean_squared_error: 1464.8104 - val_loss: 1524.3300 - val_mean_squared_error: 1524.3300\n",
      "Epoch 65/100\n",
      "7376/7376 [==============================] - 0s 31us/step - loss: 1462.8799 - mean_squared_error: 1462.8799 - val_loss: 1484.6895 - val_mean_squared_error: 1484.6895\n",
      "Epoch 66/100\n",
      "7376/7376 [==============================] - 0s 33us/step - loss: 1457.9902 - mean_squared_error: 1457.9902 - val_loss: 1417.0543 - val_mean_squared_error: 1417.0543\n",
      "Epoch 67/100\n",
      "7376/7376 [==============================] - 0s 30us/step - loss: 1468.2507 - mean_squared_error: 1468.2507 - val_loss: 1462.7387 - val_mean_squared_error: 1462.7387\n",
      "Epoch 68/100\n",
      "7376/7376 [==============================] - 0s 32us/step - loss: 1448.6025 - mean_squared_error: 1448.6025 - val_loss: 1432.0544 - val_mean_squared_error: 1432.0544\n",
      "Epoch 69/100\n",
      "7376/7376 [==============================] - 0s 32us/step - loss: 1426.1152 - mean_squared_error: 1426.1152 - val_loss: 1488.6546 - val_mean_squared_error: 1488.6546\n",
      "Epoch 70/100\n",
      "7376/7376 [==============================] - 0s 32us/step - loss: 1430.9713 - mean_squared_error: 1430.9713 - val_loss: 2055.2141 - val_mean_squared_error: 2055.2141\n",
      "Epoch 71/100\n",
      "7376/7376 [==============================] - 0s 32us/step - loss: 1459.3420 - mean_squared_error: 1459.3420 - val_loss: 1430.5188 - val_mean_squared_error: 1430.5188\n",
      "Epoch 72/100\n",
      "7376/7376 [==============================] - 0s 33us/step - loss: 1463.0153 - mean_squared_error: 1463.0153 - val_loss: 1444.0851 - val_mean_squared_error: 1444.0851\n",
      "Epoch 73/100\n",
      "7376/7376 [==============================] - 0s 32us/step - loss: 1455.7991 - mean_squared_error: 1455.7991 - val_loss: 1460.3606 - val_mean_squared_error: 1460.3606\n",
      "Epoch 74/100\n",
      "7376/7376 [==============================] - 0s 32us/step - loss: 1433.9552 - mean_squared_error: 1433.9552 - val_loss: 1435.6639 - val_mean_squared_error: 1435.6639\n",
      "Epoch 75/100\n",
      "7376/7376 [==============================] - 0s 31us/step - loss: 1429.9716 - mean_squared_error: 1429.9716 - val_loss: 1580.0170 - val_mean_squared_error: 1580.0170\n",
      "Epoch 76/100\n",
      "7376/7376 [==============================] - 0s 30us/step - loss: 1461.6182 - mean_squared_error: 1461.6182 - val_loss: 1457.1365 - val_mean_squared_error: 1457.1365\n",
      "Epoch 77/100\n",
      "7376/7376 [==============================] - 0s 35us/step - loss: 1438.9863 - mean_squared_error: 1438.9863 - val_loss: 1423.9813 - val_mean_squared_error: 1423.9813\n",
      "Epoch 78/100\n",
      "7376/7376 [==============================] - 0s 32us/step - loss: 1428.4557 - mean_squared_error: 1428.4557 - val_loss: 1431.7079 - val_mean_squared_error: 1431.7079\n",
      "Epoch 79/100\n",
      "7376/7376 [==============================] - 0s 34us/step - loss: 1464.2325 - mean_squared_error: 1464.2325 - val_loss: 1629.0750 - val_mean_squared_error: 1629.0750\n",
      "Epoch 80/100\n",
      "7376/7376 [==============================] - 0s 31us/step - loss: 1429.9927 - mean_squared_error: 1429.9927 - val_loss: 1470.8519 - val_mean_squared_error: 1470.8519\n",
      "Epoch 81/100\n",
      "7376/7376 [==============================] - 0s 31us/step - loss: 1444.0953 - mean_squared_error: 1444.0953 - val_loss: 1579.9198 - val_mean_squared_error: 1579.9198\n",
      "Epoch 82/100\n",
      "7376/7376 [==============================] - 0s 32us/step - loss: 1447.8204 - mean_squared_error: 1447.8204 - val_loss: 1504.7556 - val_mean_squared_error: 1504.7556\n",
      "Epoch 83/100\n",
      "7376/7376 [==============================] - 0s 33us/step - loss: 1433.4227 - mean_squared_error: 1433.4227 - val_loss: 1463.1650 - val_mean_squared_error: 1463.1650\n",
      "Epoch 84/100\n",
      "7376/7376 [==============================] - 0s 30us/step - loss: 1408.5808 - mean_squared_error: 1408.5808 - val_loss: 1492.4049 - val_mean_squared_error: 1492.4049\n",
      "Epoch 85/100\n",
      "7376/7376 [==============================] - 0s 35us/step - loss: 1422.6229 - mean_squared_error: 1422.6229 - val_loss: 1502.6837 - val_mean_squared_error: 1502.6837\n",
      "Epoch 86/100\n",
      "7376/7376 [==============================] - 0s 31us/step - loss: 1421.0235 - mean_squared_error: 1421.0235 - val_loss: 1433.3599 - val_mean_squared_error: 1433.3599\n",
      "Epoch 87/100\n",
      "7376/7376 [==============================] - 0s 32us/step - loss: 1446.9915 - mean_squared_error: 1446.9915 - val_loss: 1492.3806 - val_mean_squared_error: 1492.3806\n",
      "Epoch 88/100\n",
      "7376/7376 [==============================] - 0s 31us/step - loss: 1435.4900 - mean_squared_error: 1435.4900 - val_loss: 1443.9719 - val_mean_squared_error: 1443.9719\n",
      "Epoch 89/100\n",
      "7376/7376 [==============================] - 0s 32us/step - loss: 1427.2743 - mean_squared_error: 1427.2743 - val_loss: 1496.2467 - val_mean_squared_error: 1496.2467\n",
      "Epoch 90/100\n",
      "7376/7376 [==============================] - 0s 31us/step - loss: 1431.3201 - mean_squared_error: 1431.3201 - val_loss: 1410.3737 - val_mean_squared_error: 1410.3737\n",
      "Epoch 91/100\n",
      "7376/7376 [==============================] - 0s 32us/step - loss: 1460.0766 - mean_squared_error: 1460.0766 - val_loss: 2815.2617 - val_mean_squared_error: 2815.2617\n"
     ]
    },
    {
     "name": "stdout",
     "output_type": "stream",
     "text": [
      "Epoch 92/100\n",
      "7376/7376 [==============================] - 0s 31us/step - loss: 1430.2527 - mean_squared_error: 1430.2527 - val_loss: 1469.8638 - val_mean_squared_error: 1469.8638\n",
      "Epoch 93/100\n",
      "7376/7376 [==============================] - 0s 31us/step - loss: 1446.1152 - mean_squared_error: 1446.1152 - val_loss: 1437.3226 - val_mean_squared_error: 1437.3226\n",
      "Epoch 94/100\n",
      "7376/7376 [==============================] - 0s 31us/step - loss: 1442.2272 - mean_squared_error: 1442.2272 - val_loss: 1423.9858 - val_mean_squared_error: 1423.9858\n",
      "Epoch 95/100\n",
      "7376/7376 [==============================] - 0s 31us/step - loss: 1428.8463 - mean_squared_error: 1428.8463 - val_loss: 1408.0734 - val_mean_squared_error: 1408.0734\n",
      "Epoch 96/100\n",
      "7376/7376 [==============================] - 0s 32us/step - loss: 1396.7347 - mean_squared_error: 1396.7347 - val_loss: 1550.0142 - val_mean_squared_error: 1550.0142\n",
      "Epoch 97/100\n",
      "7376/7376 [==============================] - 0s 33us/step - loss: 1433.8782 - mean_squared_error: 1433.8782 - val_loss: 1577.8068 - val_mean_squared_error: 1577.8068\n",
      "Epoch 98/100\n",
      "7376/7376 [==============================] - 0s 32us/step - loss: 1419.1949 - mean_squared_error: 1419.1949 - val_loss: 1489.3945 - val_mean_squared_error: 1489.3945\n",
      "Epoch 99/100\n",
      "7376/7376 [==============================] - 0s 29us/step - loss: 1430.2115 - mean_squared_error: 1430.2115 - val_loss: 1443.9404 - val_mean_squared_error: 1443.9404\n",
      "Epoch 100/100\n",
      "7376/7376 [==============================] - 0s 32us/step - loss: 1416.9694 - mean_squared_error: 1416.9694 - val_loss: 1430.2196 - val_mean_squared_error: 1430.2196\n"
     ]
    }
   ],
   "source": [
    "h=model.fit(xtrain, ytrain, validation_split=.2,epochs=100, batch_size=50)"
   ]
  },
  {
   "cell_type": "code",
   "execution_count": 29,
   "metadata": {},
   "outputs": [
    {
     "name": "stdout",
     "output_type": "stream",
     "text": [
      "mean_squared_error 1362.6897250782922\n",
      "root mean_squared_error 36.91462752186851\n",
      "mean_absolute_error 25.218208327882977\n",
      "r2_score 0.47401029374949233\n"
     ]
    },
    {
     "data": {
      "text/html": [
       "<div>\n",
       "<style scoped>\n",
       "    .dataframe tbody tr th:only-of-type {\n",
       "        vertical-align: middle;\n",
       "    }\n",
       "\n",
       "    .dataframe tbody tr th {\n",
       "        vertical-align: top;\n",
       "    }\n",
       "\n",
       "    .dataframe thead th {\n",
       "        text-align: right;\n",
       "    }\n",
       "</style>\n",
       "<table border=\"1\" class=\"dataframe\">\n",
       "  <thead>\n",
       "    <tr style=\"text-align: right;\">\n",
       "      <th></th>\n",
       "      <th>t + 1</th>\n",
       "      <th>pred (t +1)</th>\n",
       "    </tr>\n",
       "  </thead>\n",
       "  <tbody>\n",
       "    <tr>\n",
       "      <th>0</th>\n",
       "      <td>69.0</td>\n",
       "      <td>67.160217</td>\n",
       "    </tr>\n",
       "    <tr>\n",
       "      <th>1</th>\n",
       "      <td>65.0</td>\n",
       "      <td>66.416763</td>\n",
       "    </tr>\n",
       "    <tr>\n",
       "      <th>2</th>\n",
       "      <td>34.0</td>\n",
       "      <td>69.378426</td>\n",
       "    </tr>\n",
       "    <tr>\n",
       "      <th>3</th>\n",
       "      <td>104.0</td>\n",
       "      <td>150.823853</td>\n",
       "    </tr>\n",
       "    <tr>\n",
       "      <th>4</th>\n",
       "      <td>97.0</td>\n",
       "      <td>89.947075</td>\n",
       "    </tr>\n",
       "    <tr>\n",
       "      <th>5</th>\n",
       "      <td>58.0</td>\n",
       "      <td>62.604557</td>\n",
       "    </tr>\n",
       "    <tr>\n",
       "      <th>6</th>\n",
       "      <td>250.0</td>\n",
       "      <td>136.081635</td>\n",
       "    </tr>\n",
       "    <tr>\n",
       "      <th>7</th>\n",
       "      <td>126.0</td>\n",
       "      <td>118.472076</td>\n",
       "    </tr>\n",
       "    <tr>\n",
       "      <th>8</th>\n",
       "      <td>48.0</td>\n",
       "      <td>60.798912</td>\n",
       "    </tr>\n",
       "    <tr>\n",
       "      <th>9</th>\n",
       "      <td>228.0</td>\n",
       "      <td>182.246460</td>\n",
       "    </tr>\n",
       "  </tbody>\n",
       "</table>\n",
       "</div>"
      ],
      "text/plain": [
       "   t + 1  pred (t +1)\n",
       "0   69.0    67.160217\n",
       "1   65.0    66.416763\n",
       "2   34.0    69.378426\n",
       "3  104.0   150.823853\n",
       "4   97.0    89.947075\n",
       "5   58.0    62.604557\n",
       "6  250.0   136.081635\n",
       "7  126.0   118.472076\n",
       "8   48.0    60.798912\n",
       "9  228.0   182.246460"
      ]
     },
     "execution_count": 29,
     "metadata": {},
     "output_type": "execute_result"
    }
   ],
   "source": [
    "ypred=model.predict(xtest)\n",
    "\n",
    "import math\n",
    "print('mean_squared_error',mean_squared_error(ytest, ypred))\n",
    "print('root mean_squared_error',math.sqrt(mean_squared_error(ytest, ypred)))\n",
    "print('mean_absolute_error',mean_absolute_error(ytest, ypred))\n",
    "print('r2_score',r2_score(ytest, ypred))\n",
    "\n",
    "ypredPD=pd.DataFrame()\n",
    "# ypredPD['t']=xtest['S000501_x'].values\n",
    "ypredPD['t + 1']=ytest.values.ravel()\n",
    "ypredPD['pred (t +1)']=ypred\n",
    "ypredPD.head(10)"
   ]
  },
  {
   "cell_type": "code",
   "execution_count": 30,
   "metadata": {},
   "outputs": [
    {
     "name": "stdout",
     "output_type": "stream",
     "text": [
      "dict_keys(['val_loss', 'val_mean_squared_error', 'loss', 'mean_squared_error'])\n"
     ]
    },
    {
     "data": {
      "image/png": "[encoded data removed]",
      "text/plain": [
       "<Figure size 432x288 with 1 Axes>"
      ]
     },
     "metadata": {
      "needs_background": "light"
     },
     "output_type": "display_data"
    },
    {
     "data": {
      "image/png": "[encoded data removed]",
      "text/plain": [
       "<Figure size 432x288 with 1 Axes>"
      ]
     },
     "metadata": {
      "needs_background": "light"
     },
     "output_type": "display_data"
    }
   ],
   "source": [
    "history=h\n",
    "print(history.history.keys())\n",
    "# summarize history for accuracy\n",
    "plt.plot(history.history['val_loss'])\n",
    "plt.plot(history.history['loss'])\n",
    "plt.title('model accuracy')\n",
    "plt.ylabel('accuracy')\n",
    "plt.xlabel('epoch')\n",
    "plt.legend(['train', 'test'], loc='upper left')\n",
    "plt.show()\n",
    "# summarize history for loss\n",
    "plt.plot(history.history['val_mean_squared_error'])\n",
    "plt.plot(history.history['mean_squared_error'])\n",
    "plt.title('model loss')\n",
    "plt.ylabel('loss')\n",
    "plt.xlabel('epoch')\n",
    "plt.legend(['train', 'test'], loc='upper left')\n",
    "plt.show()"
   ]
  },
  {
   "cell_type": "code",
   "execution_count": 31,
   "metadata": {},
   "outputs": [
    {
     "name": "stdout",
     "output_type": "stream",
     "text": [
      "25.218208327882977\n",
      "26.957961603388817\n",
      "12.885032537960955\n"
     ]
    }
   ],
   "source": [
    "ypredPD['diff']=abs(ypredPD['t + 1']- ypredPD['pred (t +1)'])\n",
    "print(np.mean(ypredPD['diff']))\n",
    "print(np.std(ypredPD['diff']))\n",
    "print(100*ypredPD[ypredPD['diff']<=5].shape[0]/ypredPD.shape[0])"
   ]
  },
  {
   "cell_type": "code",
   "execution_count": 32,
   "metadata": {},
   "outputs": [
    {
     "data": {
      "image/png": "[encoded data removed]",
      "text/plain": [
       "<Figure size 432x288 with 1 Axes>"
      ]
     },
     "metadata": {
      "needs_background": "light"
     },
     "output_type": "display_data"
    },
    {
     "data": {
      "text/html": [
       "<div>\n",
       "<style scoped>\n",
       "    .dataframe tbody tr th:only-of-type {\n",
       "        vertical-align: middle;\n",
       "    }\n",
       "\n",
       "    .dataframe tbody tr th {\n",
       "        vertical-align: top;\n",
       "    }\n",
       "\n",
       "    .dataframe thead th {\n",
       "        text-align: right;\n",
       "    }\n",
       "</style>\n",
       "<table border=\"1\" class=\"dataframe\">\n",
       "  <thead>\n",
       "    <tr style=\"text-align: right;\">\n",
       "      <th></th>\n",
       "      <th>t + 1</th>\n",
       "      <th>pred (t +1)</th>\n",
       "      <th>diff</th>\n",
       "    </tr>\n",
       "  </thead>\n",
       "  <tbody>\n",
       "    <tr>\n",
       "      <th>604</th>\n",
       "      <td>19.0</td>\n",
       "      <td>70.156456</td>\n",
       "      <td>51.156456</td>\n",
       "    </tr>\n",
       "    <tr>\n",
       "      <th>989</th>\n",
       "      <td>21.0</td>\n",
       "      <td>53.715137</td>\n",
       "      <td>32.715137</td>\n",
       "    </tr>\n",
       "    <tr>\n",
       "      <th>1184</th>\n",
       "      <td>22.0</td>\n",
       "      <td>72.944481</td>\n",
       "      <td>50.944481</td>\n",
       "    </tr>\n",
       "    <tr>\n",
       "      <th>2298</th>\n",
       "      <td>22.0</td>\n",
       "      <td>66.956093</td>\n",
       "      <td>44.956093</td>\n",
       "    </tr>\n",
       "    <tr>\n",
       "      <th>1084</th>\n",
       "      <td>22.0</td>\n",
       "      <td>74.842163</td>\n",
       "      <td>52.842163</td>\n",
       "    </tr>\n",
       "    <tr>\n",
       "      <th>1323</th>\n",
       "      <td>24.0</td>\n",
       "      <td>52.338913</td>\n",
       "      <td>28.338913</td>\n",
       "    </tr>\n",
       "    <tr>\n",
       "      <th>426</th>\n",
       "      <td>24.0</td>\n",
       "      <td>81.655571</td>\n",
       "      <td>57.655571</td>\n",
       "    </tr>\n",
       "    <tr>\n",
       "      <th>468</th>\n",
       "      <td>25.0</td>\n",
       "      <td>62.694519</td>\n",
       "      <td>37.694519</td>\n",
       "    </tr>\n",
       "    <tr>\n",
       "      <th>1322</th>\n",
       "      <td>25.0</td>\n",
       "      <td>60.711884</td>\n",
       "      <td>35.711884</td>\n",
       "    </tr>\n",
       "    <tr>\n",
       "      <th>132</th>\n",
       "      <td>25.0</td>\n",
       "      <td>56.378269</td>\n",
       "      <td>31.378269</td>\n",
       "    </tr>\n",
       "  </tbody>\n",
       "</table>\n",
       "</div>"
      ],
      "text/plain": [
       "      t + 1  pred (t +1)       diff\n",
       "604    19.0    70.156456  51.156456\n",
       "989    21.0    53.715137  32.715137\n",
       "1184   22.0    72.944481  50.944481\n",
       "2298   22.0    66.956093  44.956093\n",
       "1084   22.0    74.842163  52.842163\n",
       "1323   24.0    52.338913  28.338913\n",
       "426    24.0    81.655571  57.655571\n",
       "468    25.0    62.694519  37.694519\n",
       "1322   25.0    60.711884  35.711884\n",
       "132    25.0    56.378269  31.378269"
      ]
     },
     "execution_count": 32,
     "metadata": {},
     "output_type": "execute_result"
    },
    {
     "data": {
      "image/png": "[encoded data removed]",
      "text/plain": [
       "<Figure size 432x288 with 1 Axes>"
      ]
     },
     "metadata": {
      "needs_background": "light"
     },
     "output_type": "display_data"
    }
   ],
   "source": [
    "\n",
    "import matplotlib.patches as mpatches\n",
    "plt.ylabel('Values')\n",
    "plt.xlabel('index')\n",
    "red_patch = mpatches.Patch(color='red', label='Actual data')\n",
    "blue_patch = mpatches.Patch(color='blue', label='Predicted data')\n",
    "plt.legend(handles=[red_patch,blue_patch])\n",
    "\n",
    "ypredPD=ypredPD.sort_values(by=['t + 1'])\n",
    "plt.scatter(np.arange(0,ypredPD.shape[0],1),ypredPD['pred (t +1)'][:ypredPD.shape[0]])\n",
    "plt.plot(np.arange(0,ypredPD.shape[0],1),ypredPD['t + 1'][:ypredPD.shape[0]],color='red')\n",
    "plt.show()\n",
    "\n",
    "plt.ylabel('p*(t+1), Predicted data')\n",
    "plt.xlabel('p(t+1), Actual data')\n",
    "plt.scatter(ypredPD['t + 1'][:ypredPD.shape[0]],ypredPD['pred (t +1)'][:ypredPD.shape[0]])\n",
    "\n",
    "ypredPD.head(10)"
   ]
  },
  {
   "cell_type": "markdown",
   "metadata": {},
   "source": [
    "SVR\n",
    "======"
   ]
  },
  {
   "cell_type": "code",
   "execution_count": null,
   "metadata": {},
   "outputs": [],
   "source": [
    "from sklearn.svm import SVR\n",
    "# svr_rbf = SVR(kernel='rbf', C=10, gamma=0.02, epsilon=.001)\n",
    "svr_rbf = SVR(kernel='rbf')"
   ]
  },
  {
   "cell_type": "code",
   "execution_count": null,
   "metadata": {},
   "outputs": [],
   "source": [
    "svr_rbf.fit(xtrain, ytrain) "
   ]
  },
  {
   "cell_type": "code",
   "execution_count": null,
   "metadata": {},
   "outputs": [],
   "source": [
    "ypred=svr_rbf.predict(xtest)"
   ]
  },
  {
   "cell_type": "code",
   "execution_count": null,
   "metadata": {},
   "outputs": [],
   "source": [
    "import math\n",
    "print('mean_squared_error',mean_squared_error(ytest, ypred))\n",
    "print('root mean_squared_error',math.sqrt(mean_squared_error(ytest, ypred)))\n",
    "print('mean_absolute_error',mean_absolute_error(ytest, ypred))\n",
    "print('r2_score',r2_score(ytest, ypred))\n",
    "\n",
    "ypredPD=pd.DataFrame()\n",
    "# ypredPD['t']=xtest['S000501_x'].values\n",
    "ypredPD['t + 1']=ytest.values.ravel()\n",
    "ypredPD['pred (t +1)']=ypred\n",
    "ypredPD.head(10)"
   ]
  },
  {
   "cell_type": "code",
   "execution_count": null,
   "metadata": {},
   "outputs": [],
   "source": []
  },
  {
   "cell_type": "code",
   "execution_count": null,
   "metadata": {},
   "outputs": [],
   "source": []
  }
 ],
 "metadata": {
  "kernelspec": {
   "display_name": "Python 3",
   "language": "python",
   "name": "python3"
  },
  "language_info": {
   "codemirror_mode": {
    "name": "ipython",
    "version": 3
   },
   "file_extension": ".py",
   "mimetype": "text/x-python",
   "name": "python",
   "nbconvert_exporter": "python",
   "pygments_lexer": "ipython3",
   "version": "3.7.3"
  }
 },
 "nbformat": 4,
 "nbformat_minor": 2
}

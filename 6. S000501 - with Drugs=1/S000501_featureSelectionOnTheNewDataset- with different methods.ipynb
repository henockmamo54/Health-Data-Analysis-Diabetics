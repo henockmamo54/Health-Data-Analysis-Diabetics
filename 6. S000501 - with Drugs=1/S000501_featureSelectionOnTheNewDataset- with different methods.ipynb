{
 "cells": [
  {
   "cell_type": "code",
   "execution_count": 1,
   "metadata": {},
   "outputs": [],
   "source": [
    "import numpy as np\n",
    "import pandas as pd \n",
    "import warnings\n",
    "warnings.filterwarnings('ignore')\n",
    "from scipy.stats import chi2_contingency\n",
    "from scipy import stats\n",
    "import seaborn as sns"
   ]
  },
  {
   "cell_type": "code",
   "execution_count": 3,
   "metadata": {},
   "outputs": [],
   "source": [
    "x=pd.read_csv('../_xlable4_withNa_AllColumns_OnDrugForBP.txt')\n",
    "y=pd.read_csv('../_targelable4_withNa_AllColumns_OnDrugForBP.txt')\n",
    "\n",
    "y=y[['Unnamed: 0','S000501']]"
   ]
  },
  {
   "cell_type": "code",
   "execution_count": 4,
   "metadata": {},
   "outputs": [],
   "source": [
    "data= pd.merge(x,y, how='inner',left_on='Unnamed: 0', right_on='Unnamed: 0')\n",
    "data['max']=np.min(data[['FIELD_6','FIELD_7']],axis=1)\n",
    "data=data.drop(columns=['FIELD_6','FIELD_7'])"
   ]
  },
  {
   "cell_type": "code",
   "execution_count": 5,
   "metadata": {},
   "outputs": [],
   "source": [
    "# data=data.query('FIELD_15 !=1 and FIELD_17 !=1 and FIELD_22 != 1 and FIELD_24 != 1 and FIELD_16 != 1 and FIELD_23 != 1')\n",
    "# data=data.query('FIELD_16 != 1 and FIELD_23 != 1')"
   ]
  },
  {
   "cell_type": "code",
   "execution_count": 6,
   "metadata": {},
   "outputs": [
    {
     "name": "stdout",
     "output_type": "stream",
     "text": [
      "(10732, 408)\n"
     ]
    }
   ],
   "source": [
    "# data=data[data.SEX==0]\n",
    "# data=data[data.FIELD_15!=1]\n",
    "# data=data[data.FIELD_17!=1]\n",
    "# data=data[data.FIELD_22!=1]\n",
    "# data=data[data.FIELD_24!=1]\n",
    "# data=data[data.AGE>=40]\n",
    "# data=data[data.AGE<50]\n",
    "\n",
    "print(data.shape)"
   ]
  },
  {
   "cell_type": "code",
   "execution_count": 7,
   "metadata": {},
   "outputs": [],
   "source": [
    "#split column types to categorical and numerical\n",
    "numerical_cols = list(data.columns[~data.columns.str.startswith('FIELD')])\n",
    "categorical_cols = list(data.columns[data.columns.str.startswith('FIELD')])"
   ]
  },
  {
   "cell_type": "markdown",
   "metadata": {},
   "source": [
    "Calculate correlation Value - for numerical values\n",
    "========"
   ]
  },
  {
   "cell_type": "code",
   "execution_count": 8,
   "metadata": {},
   "outputs": [
    {
     "data": {
      "text/html": [
       "<div>\n",
       "<style scoped>\n",
       "    .dataframe tbody tr th:only-of-type {\n",
       "        vertical-align: middle;\n",
       "    }\n",
       "\n",
       "    .dataframe tbody tr th {\n",
       "        vertical-align: top;\n",
       "    }\n",
       "\n",
       "    .dataframe thead th {\n",
       "        text-align: right;\n",
       "    }\n",
       "</style>\n",
       "<table border=\"1\" class=\"dataframe\">\n",
       "  <thead>\n",
       "    <tr style=\"text-align: right;\">\n",
       "      <th></th>\n",
       "      <th>Col</th>\n",
       "      <th>val</th>\n",
       "    </tr>\n",
       "  </thead>\n",
       "  <tbody>\n",
       "    <tr>\n",
       "      <th>144</th>\n",
       "      <td>L500300</td>\n",
       "      <td>1.0</td>\n",
       "    </tr>\n",
       "    <tr>\n",
       "      <th>278</th>\n",
       "      <td>S000501_y</td>\n",
       "      <td>1.0</td>\n",
       "    </tr>\n",
       "    <tr>\n",
       "      <th>272</th>\n",
       "      <td>S008502</td>\n",
       "      <td>1.0</td>\n",
       "    </tr>\n",
       "    <tr>\n",
       "      <th>257</th>\n",
       "      <td>S004413</td>\n",
       "      <td>1.0</td>\n",
       "    </tr>\n",
       "    <tr>\n",
       "      <th>135</th>\n",
       "      <td>L394600</td>\n",
       "      <td>1.0</td>\n",
       "    </tr>\n",
       "  </tbody>\n",
       "</table>\n",
       "</div>"
      ],
      "text/plain": [
       "           Col  val\n",
       "144    L500300  1.0\n",
       "278  S000501_y  1.0\n",
       "272    S008502  1.0\n",
       "257    S004413  1.0\n",
       "135    L394600  1.0"
      ]
     },
     "execution_count": 8,
     "metadata": {},
     "output_type": "execute_result"
    }
   ],
   "source": [
    "corr=data[numerical_cols].corr()\n",
    "corr=corr.S000501_y\n",
    "corrvalPD=pd.DataFrame()\n",
    "corrvalPD['Col']=corr.index\n",
    "corrvalPD['val']=abs(corr.values)\n",
    "\n",
    "corrvalPD=corrvalPD.sort_values(by='val',ascending=False)\n",
    "corrvalPD.head()"
   ]
  },
  {
   "cell_type": "code",
   "execution_count": 9,
   "metadata": {},
   "outputs": [
    {
     "data": {
      "text/html": [
       "<div>\n",
       "<style scoped>\n",
       "    .dataframe tbody tr th:only-of-type {\n",
       "        vertical-align: middle;\n",
       "    }\n",
       "\n",
       "    .dataframe tbody tr th {\n",
       "        vertical-align: top;\n",
       "    }\n",
       "\n",
       "    .dataframe thead th {\n",
       "        text-align: right;\n",
       "    }\n",
       "</style>\n",
       "<table border=\"1\" class=\"dataframe\">\n",
       "  <thead>\n",
       "    <tr style=\"text-align: right;\">\n",
       "      <th></th>\n",
       "      <th>Col</th>\n",
       "      <th>Count</th>\n",
       "    </tr>\n",
       "  </thead>\n",
       "  <tbody>\n",
       "    <tr>\n",
       "      <th>0</th>\n",
       "      <td>Unnamed: 0</td>\n",
       "      <td>10732</td>\n",
       "    </tr>\n",
       "    <tr>\n",
       "      <th>1</th>\n",
       "      <td>index</td>\n",
       "      <td>10732</td>\n",
       "    </tr>\n",
       "    <tr>\n",
       "      <th>2</th>\n",
       "      <td>COMPARE</td>\n",
       "      <td>10732</td>\n",
       "    </tr>\n",
       "    <tr>\n",
       "      <th>3</th>\n",
       "      <td>AGE</td>\n",
       "      <td>10732</td>\n",
       "    </tr>\n",
       "    <tr>\n",
       "      <th>4</th>\n",
       "      <td>B_DAY</td>\n",
       "      <td>10732</td>\n",
       "    </tr>\n",
       "  </tbody>\n",
       "</table>\n",
       "</div>"
      ],
      "text/plain": [
       "          Col  Count\n",
       "0  Unnamed: 0  10732\n",
       "1       index  10732\n",
       "2     COMPARE  10732\n",
       "3         AGE  10732\n",
       "4       B_DAY  10732"
      ]
     },
     "execution_count": 9,
     "metadata": {},
     "output_type": "execute_result"
    }
   ],
   "source": [
    "#count of none NA values of feature set\n",
    "mydataset=data.copy()[numerical_cols]\n",
    "colCount=[]\n",
    "for i in mydataset.columns:\n",
    "    colCount.append([i,mydataset[i].dropna().shape[0]])\n",
    "\n",
    "colCountPD=pd.DataFrame(colCount,columns=['Col','Count'])\n",
    "colCountPD.head()"
   ]
  },
  {
   "cell_type": "code",
   "execution_count": 10,
   "metadata": {},
   "outputs": [
    {
     "data": {
      "text/html": [
       "<div>\n",
       "<style scoped>\n",
       "    .dataframe tbody tr th:only-of-type {\n",
       "        vertical-align: middle;\n",
       "    }\n",
       "\n",
       "    .dataframe tbody tr th {\n",
       "        vertical-align: top;\n",
       "    }\n",
       "\n",
       "    .dataframe thead th {\n",
       "        text-align: right;\n",
       "    }\n",
       "</style>\n",
       "<table border=\"1\" class=\"dataframe\">\n",
       "  <thead>\n",
       "    <tr style=\"text-align: right;\">\n",
       "      <th></th>\n",
       "      <th>Col</th>\n",
       "      <th>val</th>\n",
       "      <th>Count</th>\n",
       "    </tr>\n",
       "  </thead>\n",
       "  <tbody>\n",
       "    <tr>\n",
       "      <th>1</th>\n",
       "      <td>S000501_y</td>\n",
       "      <td>1.000000</td>\n",
       "      <td>10732</td>\n",
       "    </tr>\n",
       "    <tr>\n",
       "      <th>13</th>\n",
       "      <td>S000501_x</td>\n",
       "      <td>0.403591</td>\n",
       "      <td>10730</td>\n",
       "    </tr>\n",
       "    <tr>\n",
       "      <th>16</th>\n",
       "      <td>S000502</td>\n",
       "      <td>0.292738</td>\n",
       "      <td>10730</td>\n",
       "    </tr>\n",
       "    <tr>\n",
       "      <th>39</th>\n",
       "      <td>S000300</td>\n",
       "      <td>0.103988</td>\n",
       "      <td>10730</td>\n",
       "    </tr>\n",
       "    <tr>\n",
       "      <th>40</th>\n",
       "      <td>L101400</td>\n",
       "      <td>0.099710</td>\n",
       "      <td>8779</td>\n",
       "    </tr>\n",
       "    <tr>\n",
       "      <th>42</th>\n",
       "      <td>L100100</td>\n",
       "      <td>0.098530</td>\n",
       "      <td>9884</td>\n",
       "    </tr>\n",
       "    <tr>\n",
       "      <th>45</th>\n",
       "      <td>S001200</td>\n",
       "      <td>0.090811</td>\n",
       "      <td>10723</td>\n",
       "    </tr>\n",
       "    <tr>\n",
       "      <th>46</th>\n",
       "      <td>L100300</td>\n",
       "      <td>0.088684</td>\n",
       "      <td>9564</td>\n",
       "    </tr>\n",
       "    <tr>\n",
       "      <th>48</th>\n",
       "      <td>S010101</td>\n",
       "      <td>0.080073</td>\n",
       "      <td>9832</td>\n",
       "    </tr>\n",
       "    <tr>\n",
       "      <th>51</th>\n",
       "      <td>L100800</td>\n",
       "      <td>0.075261</td>\n",
       "      <td>10731</td>\n",
       "    </tr>\n",
       "    <tr>\n",
       "      <th>54</th>\n",
       "      <td>S010102</td>\n",
       "      <td>0.072451</td>\n",
       "      <td>9825</td>\n",
       "    </tr>\n",
       "    <tr>\n",
       "      <th>56</th>\n",
       "      <td>S000200</td>\n",
       "      <td>0.069574</td>\n",
       "      <td>10730</td>\n",
       "    </tr>\n",
       "    <tr>\n",
       "      <th>62</th>\n",
       "      <td>B_DAY</td>\n",
       "      <td>0.063333</td>\n",
       "      <td>10732</td>\n",
       "    </tr>\n",
       "    <tr>\n",
       "      <th>65</th>\n",
       "      <td>L102900</td>\n",
       "      <td>0.061275</td>\n",
       "      <td>10728</td>\n",
       "    </tr>\n",
       "    <tr>\n",
       "      <th>66</th>\n",
       "      <td>AGE</td>\n",
       "      <td>0.060376</td>\n",
       "      <td>10732</td>\n",
       "    </tr>\n",
       "    <tr>\n",
       "      <th>67</th>\n",
       "      <td>L190300</td>\n",
       "      <td>0.057738</td>\n",
       "      <td>10729</td>\n",
       "    </tr>\n",
       "    <tr>\n",
       "      <th>69</th>\n",
       "      <td>L101200</td>\n",
       "      <td>0.054546</td>\n",
       "      <td>10731</td>\n",
       "    </tr>\n",
       "    <tr>\n",
       "      <th>71</th>\n",
       "      <td>L101600</td>\n",
       "      <td>0.052741</td>\n",
       "      <td>10365</td>\n",
       "    </tr>\n",
       "    <tr>\n",
       "      <th>74</th>\n",
       "      <td>L107500</td>\n",
       "      <td>0.048908</td>\n",
       "      <td>9451</td>\n",
       "    </tr>\n",
       "    <tr>\n",
       "      <th>76</th>\n",
       "      <td>L103200</td>\n",
       "      <td>0.045418</td>\n",
       "      <td>10728</td>\n",
       "    </tr>\n",
       "  </tbody>\n",
       "</table>\n",
       "</div>"
      ],
      "text/plain": [
       "          Col       val  Count\n",
       "1   S000501_y  1.000000  10732\n",
       "13  S000501_x  0.403591  10730\n",
       "16    S000502  0.292738  10730\n",
       "39    S000300  0.103988  10730\n",
       "40    L101400  0.099710   8779\n",
       "42    L100100  0.098530   9884\n",
       "45    S001200  0.090811  10723\n",
       "46    L100300  0.088684   9564\n",
       "48    S010101  0.080073   9832\n",
       "51    L100800  0.075261  10731\n",
       "54    S010102  0.072451   9825\n",
       "56    S000200  0.069574  10730\n",
       "62      B_DAY  0.063333  10732\n",
       "65    L102900  0.061275  10728\n",
       "66        AGE  0.060376  10732\n",
       "67    L190300  0.057738  10729\n",
       "69    L101200  0.054546  10731\n",
       "71    L101600  0.052741  10365\n",
       "74    L107500  0.048908   9451\n",
       "76    L103200  0.045418  10728"
      ]
     },
     "execution_count": 10,
     "metadata": {},
     "output_type": "execute_result"
    }
   ],
   "source": [
    "mergedColCorrCount=pd.merge(corrvalPD,colCountPD,how='inner',left_on='Col',right_on='Col')\n",
    "mergedColCorrCount=mergedColCorrCount[mergedColCorrCount.Count>5000]\n",
    "mergedColCorrCount=mergedColCorrCount.sort_values(by='val', ascending=False)\n",
    "mergedColCorrCount.head(20)"
   ]
  },
  {
   "cell_type": "code",
   "execution_count": 11,
   "metadata": {},
   "outputs": [
    {
     "name": "stdout",
     "output_type": "stream",
     "text": [
      "['S000501_y', 'S000501_x', 'S000502', 'S000300', 'L101400', 'L100100', 'S001200', 'L100300', 'S010101', 'L100800', 'S010102', 'S000200', 'B_DAY', 'L102900', 'AGE', 'L190300', 'L101200', 'L101600']\n"
     ]
    }
   ],
   "source": [
    "print(list(mergedColCorrCount.head(18).Col))"
   ]
  },
  {
   "cell_type": "markdown",
   "metadata": {},
   "source": [
    "Anova test - For categorical values [Questionnaire answers]\n",
    "======="
   ]
  },
  {
   "cell_type": "code",
   "execution_count": 12,
   "metadata": {},
   "outputs": [],
   "source": [
    "mydataset=data.copy()[categorical_cols] #[np.insert(categorical_cols,0,'L100800')]\n",
    "\n",
    "# mydataset=mydataset.drop(columns=['FIELD_1','FIELD_2','FIELD_8','FIELD_10','FIELD_11','FIELD_12','FIELD_39','FIELD_88',\n",
    "#                            'FIELD_89','FIELD_109','FIELD_110','FIELD_111','FIELD_70','FIELD_82','FIELD_85','FIELD_91',\n",
    "#                            'FIELD_103','FIELD_106'])\n",
    "\n",
    "# mydataset=mydataset.drop(columns=['FIELD_1','FIELD_2','FIELD_87','FIELD_8','FIELD_10','FIELD_11','FIELD_12','FIELD_39',\n",
    "#                                   'FIELD_88','FIELD_89', 'FIELD_108','FIELD_109','FIELD_110','FIELD_111','FIELD_82',\n",
    "#                                  'FIELD_91','FIELD_103','FIELD_118','FIELD_119','FIELD_120','FIELD_121','FIELD_122',\n",
    "#                                  'FIELD_123','FIELD_124','FIELD_125','FIELD_126','FIELD_127','FIELD_128','FIELD_129',\n",
    "#                                  'FIELD_130','FIELD_131','FIELD_132','FIELD_133','FIELD_134','FIELD_135','FIELD_136',\n",
    "#                                   'FIELD_137','FIELD_138','FIELD_139','FIELD_140'])\n",
    "\n",
    "\n",
    "mydataset=mydataset.drop(columns=['FIELD_1','FIELD_2','FIELD_87','FIELD_8','FIELD_10','FIELD_11','FIELD_12','FIELD_39',\n",
    "                                  'FIELD_88','FIELD_89', 'FIELD_108','FIELD_109','FIELD_110','FIELD_111','FIELD_82',\n",
    "                                 'FIELD_91','FIELD_103','FIELD_118','FIELD_119','FIELD_120','FIELD_121','FIELD_122',\n",
    "                                 'FIELD_123','FIELD_124','FIELD_125','FIELD_126','FIELD_127','FIELD_128','FIELD_129',\n",
    "                                 'FIELD_130','FIELD_131','FIELD_132','FIELD_133','FIELD_134','FIELD_135','FIELD_136',\n",
    "                                  'FIELD_137','FIELD_138','FIELD_139','FIELD_140',\n",
    "                                  'FIELD_64','FIELD_65','FIELD_66','FIELD_67','FIELD_68','FIELD_69','FIELD_70','FIELD_72',\n",
    "                                  'FIELD_73','FIELD_74','FIELD_75','FIELD_76','FIELD_77','FIELD_80','FIELD_81','FIELD_84',\n",
    "                                  'FIELD_85','FIELD_90','FIELD_93','FIELD_94','FIELD_95','FIELD_96','FIELD_97','FIELD_98',\n",
    "                                  'FIELD_101','FIELD_102','FIELD_105','FIELD_106','FIELD_112','FIELD_113','FIELD_114',\n",
    "                                  'FIELD_115','FIELD_116','FIELD_117','FIELD_118','FIELD_119','FIELD_9'\n",
    "                                 ])\n",
    "\n",
    "\n",
    "mydataset=mydataset.drop(mydataset[mydataset.FIELD_3=='`'].index)\n",
    "mydataset=mydataset.drop(mydataset[mydataset.FIELD_3=='G'].index)\n",
    "\n",
    "\n",
    "mydataset=mydataset.drop(mydataset[mydataset.FIELD_4=='.'].index)\n",
    "mydataset=mydataset.drop(mydataset[mydataset.FIELD_5=='.'].index)\n",
    "\n",
    "mydataset=mydataset.drop(mydataset[mydataset.FIELD_35=='?'].index)\n",
    "mydataset=mydataset.drop(mydataset[mydataset.FIELD_35=='.'].index)\n",
    "mydataset=mydataset.drop(mydataset[mydataset.FIELD_36=='.'].index)\n",
    "mydataset=mydataset.drop(mydataset[mydataset.FIELD_37=='\\\\'].index)\n",
    " \n",
    "# mydataset=mydataset.drop(mydataset[mydataset.FIELD_39 == '7+' ].index)\n",
    "# mydataset=mydataset.drop(mydataset[mydataset.FIELD_39 == '5~7'].index)\n",
    "# mydataset=mydataset.drop(mydataset[mydataset.FIELD_39 == '3-4'].index)\n",
    "\n",
    "\n",
    "# mydataset=mydataset.drop(mydataset[mydataset.FIELD_95=='.'].index)"
   ]
  },
  {
   "cell_type": "code",
   "execution_count": 13,
   "metadata": {
    "scrolled": true
   },
   "outputs": [
    {
     "name": "stdout",
     "output_type": "stream",
     "text": [
      "0 FIELD_3\n",
      "1 FIELD_4\n",
      "2 FIELD_5\n",
      "3 FIELD_13\n",
      "4 FIELD_14\n",
      "5 FIELD_15\n",
      "6 FIELD_16\n",
      "7 FIELD_17\n",
      "8 FIELD_18\n",
      "9 FIELD_19\n",
      "10 FIELD_20\n",
      "11 FIELD_21\n",
      "12 FIELD_22\n",
      "13 FIELD_23\n",
      "14 FIELD_24\n",
      "15 FIELD_25\n",
      "16 FIELD_26\n",
      "17 FIELD_27\n",
      "18 FIELD_28\n",
      "19 FIELD_29\n",
      "20 FIELD_30\n",
      "21 FIELD_31\n",
      "22 FIELD_32\n",
      "23 FIELD_33\n",
      "24 FIELD_34\n",
      "25 FIELD_35\n",
      "26 FIELD_36\n",
      "27 FIELD_37\n",
      "28 FIELD_38\n",
      "29 FIELD_40\n",
      "30 FIELD_41\n",
      "31 FIELD_42\n",
      "32 FIELD_43\n",
      "33 FIELD_44\n",
      "34 FIELD_45\n",
      "35 FIELD_46\n",
      "36 FIELD_47\n",
      "37 FIELD_48\n",
      "38 FIELD_49\n",
      "39 FIELD_50\n",
      "40 FIELD_51\n",
      "41 FIELD_52\n",
      "42 FIELD_53\n",
      "43 FIELD_54\n",
      "44 FIELD_55\n",
      "45 FIELD_56\n",
      "46 FIELD_57\n",
      "47 FIELD_58\n",
      "48 FIELD_59\n",
      "49 FIELD_60\n",
      "50 FIELD_61\n",
      "51 FIELD_62\n",
      "52 FIELD_63\n"
     ]
    }
   ],
   "source": [
    "colslist=mydataset.columns\n",
    "DiabeticColVals=data.S000501_y\n",
    "\n",
    "cor=[]\n",
    "pval=[]\n",
    "count=[]\n",
    "\n",
    "for i in range(len(colslist)):\n",
    "    print(i,colslist[i])\n",
    "    \n",
    "    temp=pd.DataFrame([])\n",
    "    temp['a']=DiabeticColVals\n",
    "    temp['b']=mydataset[colslist[i]].astype(float)\n",
    "    temp=temp.dropna()\n",
    "    count.append(temp.shape[0])\n",
    "    \n",
    "    uniquevalues=temp.b.unique()\n",
    "    \n",
    "    selectedGroupVals=[]\n",
    "    for k in range(len(uniquevalues)):\n",
    "        selectedGroupVals.append(np.asarray(temp[temp['b']==uniquevalues[k]].a))\n",
    "\n",
    "    F, p = stats.f_oneway(*selectedGroupVals)\n",
    "    cor.append(F)\n",
    "    pval.append(p)\n",
    "    "
   ]
  },
  {
   "cell_type": "code",
   "execution_count": 14,
   "metadata": {},
   "outputs": [],
   "source": [
    "FvalPvalCorr=pd.DataFrame()    \n",
    "FvalPvalCorr['Cols']=colslist\n",
    "FvalPvalCorr['F']=cor\n",
    "FvalPvalCorr['P']=pval\n",
    "FvalPvalCorr['Count']=count\n",
    "FvalPvalCorr=FvalPvalCorr.sort_values(by='F', ascending=False)\n"
   ]
  },
  {
   "cell_type": "code",
   "execution_count": 15,
   "metadata": {},
   "outputs": [
    {
     "data": {
      "text/html": [
       "<div>\n",
       "<style scoped>\n",
       "    .dataframe tbody tr th:only-of-type {\n",
       "        vertical-align: middle;\n",
       "    }\n",
       "\n",
       "    .dataframe tbody tr th {\n",
       "        vertical-align: top;\n",
       "    }\n",
       "\n",
       "    .dataframe thead th {\n",
       "        text-align: right;\n",
       "    }\n",
       "</style>\n",
       "<table border=\"1\" class=\"dataframe\">\n",
       "  <thead>\n",
       "    <tr style=\"text-align: right;\">\n",
       "      <th></th>\n",
       "      <th>Cols</th>\n",
       "      <th>F</th>\n",
       "      <th>P</th>\n",
       "      <th>Count</th>\n",
       "    </tr>\n",
       "  </thead>\n",
       "  <tbody>\n",
       "    <tr>\n",
       "      <th>23</th>\n",
       "      <td>FIELD_33</td>\n",
       "      <td>22.315576</td>\n",
       "      <td>2.126973e-14</td>\n",
       "      <td>10718</td>\n",
       "    </tr>\n",
       "    <tr>\n",
       "      <th>19</th>\n",
       "      <td>FIELD_29</td>\n",
       "      <td>14.791156</td>\n",
       "      <td>1.207920e-04</td>\n",
       "      <td>10732</td>\n",
       "    </tr>\n",
       "    <tr>\n",
       "      <th>7</th>\n",
       "      <td>FIELD_17</td>\n",
       "      <td>13.765442</td>\n",
       "      <td>2.081572e-04</td>\n",
       "      <td>10732</td>\n",
       "    </tr>\n",
       "    <tr>\n",
       "      <th>14</th>\n",
       "      <td>FIELD_24</td>\n",
       "      <td>13.513994</td>\n",
       "      <td>2.379461e-04</td>\n",
       "      <td>10732</td>\n",
       "    </tr>\n",
       "    <tr>\n",
       "      <th>18</th>\n",
       "      <td>FIELD_28</td>\n",
       "      <td>10.371658</td>\n",
       "      <td>1.283458e-03</td>\n",
       "      <td>10732</td>\n",
       "    </tr>\n",
       "    <tr>\n",
       "      <th>21</th>\n",
       "      <td>FIELD_31</td>\n",
       "      <td>9.413199</td>\n",
       "      <td>2.159661e-03</td>\n",
       "      <td>10732</td>\n",
       "    </tr>\n",
       "    <tr>\n",
       "      <th>17</th>\n",
       "      <td>FIELD_27</td>\n",
       "      <td>8.710609</td>\n",
       "      <td>3.170479e-03</td>\n",
       "      <td>10732</td>\n",
       "    </tr>\n",
       "    <tr>\n",
       "      <th>3</th>\n",
       "      <td>FIELD_13</td>\n",
       "      <td>6.072582</td>\n",
       "      <td>1.374517e-02</td>\n",
       "      <td>10732</td>\n",
       "    </tr>\n",
       "    <tr>\n",
       "      <th>10</th>\n",
       "      <td>FIELD_20</td>\n",
       "      <td>3.481275</td>\n",
       "      <td>6.209418e-02</td>\n",
       "      <td>10732</td>\n",
       "    </tr>\n",
       "    <tr>\n",
       "      <th>29</th>\n",
       "      <td>FIELD_40</td>\n",
       "      <td>2.076115</td>\n",
       "      <td>4.257368e-02</td>\n",
       "      <td>10712</td>\n",
       "    </tr>\n",
       "  </tbody>\n",
       "</table>\n",
       "</div>"
      ],
      "text/plain": [
       "        Cols          F             P  Count\n",
       "23  FIELD_33  22.315576  2.126973e-14  10718\n",
       "19  FIELD_29  14.791156  1.207920e-04  10732\n",
       "7   FIELD_17  13.765442  2.081572e-04  10732\n",
       "14  FIELD_24  13.513994  2.379461e-04  10732\n",
       "18  FIELD_28  10.371658  1.283458e-03  10732\n",
       "21  FIELD_31   9.413199  2.159661e-03  10732\n",
       "17  FIELD_27   8.710609  3.170479e-03  10732\n",
       "3   FIELD_13   6.072582  1.374517e-02  10732\n",
       "10  FIELD_20   3.481275  6.209418e-02  10732\n",
       "29  FIELD_40   2.076115  4.257368e-02  10712"
      ]
     },
     "execution_count": 15,
     "metadata": {},
     "output_type": "execute_result"
    }
   ],
   "source": [
    "FvalPvalCorr[FvalPvalCorr.Count>5000].head(10)"
   ]
  },
  {
   "cell_type": "code",
   "execution_count": 16,
   "metadata": {},
   "outputs": [
    {
     "name": "stdout",
     "output_type": "stream",
     "text": [
      "['FIELD_33', 'FIELD_29', 'FIELD_17', 'FIELD_24', 'FIELD_28', 'FIELD_31', 'FIELD_27', 'FIELD_13', 'FIELD_20', 'FIELD_40']\n"
     ]
    }
   ],
   "source": [
    "print(list(FvalPvalCorr[FvalPvalCorr.Count>5000].Cols)[:10])"
   ]
  },
  {
   "cell_type": "markdown",
   "metadata": {},
   "source": [
    "========================= LASSO method\n",
    "================"
   ]
  },
  {
   "cell_type": "code",
   "execution_count": 21,
   "metadata": {},
   "outputs": [
    {
     "name": "stdout",
     "output_type": "stream",
     "text": [
      "(7996, 27)\n"
     ]
    }
   ],
   "source": [
    "selectedcols=['S000501_y', 'S000501_x', 'S000502', 'S000300', 'L101400', 'L100100', 'S001200', 'L100300', \n",
    "              'S010101', 'L100800', 'S010102', 'S000200', 'L102900', 'AGE', 'L190300', 'L101200', \n",
    "              'L101600','FIELD_33', 'FIELD_29', 'FIELD_17', 'FIELD_24', 'FIELD_28', 'FIELD_31', 'FIELD_27', \n",
    "              'FIELD_13', 'FIELD_20', 'FIELD_40'\n",
    "             ]\n",
    "data2=data[selectedcols].copy().dropna()\n",
    "print(data2.shape)"
   ]
  },
  {
   "cell_type": "code",
   "execution_count": 22,
   "metadata": {},
   "outputs": [],
   "source": [
    "x=data2[['S000501_x', 'S000502', 'S000300', 'L101400', 'L100100', 'S001200', 'L100300', \n",
    "              'S010101', 'L100800', 'S010102', 'S000200','L102900', 'AGE', 'L190300', 'L101200', \n",
    "              'L101600','FIELD_33', 'FIELD_29', 'FIELD_17', 'FIELD_24', 'FIELD_28', 'FIELD_31', 'FIELD_27', \n",
    "              'FIELD_13', 'FIELD_20', 'FIELD_40'\n",
    "        ]]\n",
    "y=data2.S000501_y"
   ]
  },
  {
   "cell_type": "code",
   "execution_count": 23,
   "metadata": {},
   "outputs": [
    {
     "name": "stdout",
     "output_type": "stream",
     "text": [
      "[ 0.34613618  0.05214205  0.1303679   0.00542043  0.72943867 -0.\n",
      "  0.          0.10282832  0.00909726 -0.          0.02980369  0.00481427\n",
      "  0.10196789  0.19953672  0.01936847  0.01230338 -0.60260386 -0.\n",
      " -0.03761079 -0.         -0.         -0.         -0.         -0.\n",
      " -0.          0.00152916]\n",
      "56.07894056618251\n"
     ]
    },
    {
     "data": {
      "text/html": [
       "<div>\n",
       "<style scoped>\n",
       "    .dataframe tbody tr th:only-of-type {\n",
       "        vertical-align: middle;\n",
       "    }\n",
       "\n",
       "    .dataframe tbody tr th {\n",
       "        vertical-align: top;\n",
       "    }\n",
       "\n",
       "    .dataframe thead th {\n",
       "        text-align: right;\n",
       "    }\n",
       "</style>\n",
       "<table border=\"1\" class=\"dataframe\">\n",
       "  <thead>\n",
       "    <tr style=\"text-align: right;\">\n",
       "      <th></th>\n",
       "      <th>Name</th>\n",
       "      <th>coeff</th>\n",
       "    </tr>\n",
       "  </thead>\n",
       "  <tbody>\n",
       "    <tr>\n",
       "      <th>4</th>\n",
       "      <td>L100100</td>\n",
       "      <td>0.729439</td>\n",
       "    </tr>\n",
       "    <tr>\n",
       "      <th>16</th>\n",
       "      <td>FIELD_33</td>\n",
       "      <td>0.602604</td>\n",
       "    </tr>\n",
       "    <tr>\n",
       "      <th>0</th>\n",
       "      <td>S000501_x</td>\n",
       "      <td>0.346136</td>\n",
       "    </tr>\n",
       "    <tr>\n",
       "      <th>13</th>\n",
       "      <td>L190300</td>\n",
       "      <td>0.199537</td>\n",
       "    </tr>\n",
       "    <tr>\n",
       "      <th>2</th>\n",
       "      <td>S000300</td>\n",
       "      <td>0.130368</td>\n",
       "    </tr>\n",
       "    <tr>\n",
       "      <th>7</th>\n",
       "      <td>S010101</td>\n",
       "      <td>0.102828</td>\n",
       "    </tr>\n",
       "    <tr>\n",
       "      <th>12</th>\n",
       "      <td>AGE</td>\n",
       "      <td>0.101968</td>\n",
       "    </tr>\n",
       "    <tr>\n",
       "      <th>1</th>\n",
       "      <td>S000502</td>\n",
       "      <td>0.052142</td>\n",
       "    </tr>\n",
       "    <tr>\n",
       "      <th>18</th>\n",
       "      <td>FIELD_17</td>\n",
       "      <td>0.037611</td>\n",
       "    </tr>\n",
       "    <tr>\n",
       "      <th>10</th>\n",
       "      <td>S000200</td>\n",
       "      <td>0.029804</td>\n",
       "    </tr>\n",
       "    <tr>\n",
       "      <th>14</th>\n",
       "      <td>L101200</td>\n",
       "      <td>0.019368</td>\n",
       "    </tr>\n",
       "    <tr>\n",
       "      <th>15</th>\n",
       "      <td>L101600</td>\n",
       "      <td>0.012303</td>\n",
       "    </tr>\n",
       "    <tr>\n",
       "      <th>8</th>\n",
       "      <td>L100800</td>\n",
       "      <td>0.009097</td>\n",
       "    </tr>\n",
       "    <tr>\n",
       "      <th>3</th>\n",
       "      <td>L101400</td>\n",
       "      <td>0.005420</td>\n",
       "    </tr>\n",
       "    <tr>\n",
       "      <th>11</th>\n",
       "      <td>L102900</td>\n",
       "      <td>0.004814</td>\n",
       "    </tr>\n",
       "    <tr>\n",
       "      <th>25</th>\n",
       "      <td>FIELD_40</td>\n",
       "      <td>0.001529</td>\n",
       "    </tr>\n",
       "  </tbody>\n",
       "</table>\n",
       "</div>"
      ],
      "text/plain": [
       "         Name     coeff\n",
       "4     L100100  0.729439\n",
       "16   FIELD_33  0.602604\n",
       "0   S000501_x  0.346136\n",
       "13    L190300  0.199537\n",
       "2     S000300  0.130368\n",
       "7     S010101  0.102828\n",
       "12        AGE  0.101968\n",
       "1     S000502  0.052142\n",
       "18   FIELD_17  0.037611\n",
       "10    S000200  0.029804\n",
       "14    L101200  0.019368\n",
       "15    L101600  0.012303\n",
       "8     L100800  0.009097\n",
       "3     L101400  0.005420\n",
       "11    L102900  0.004814\n",
       "25   FIELD_40  0.001529"
      ]
     },
     "execution_count": 23,
     "metadata": {},
     "output_type": "execute_result"
    }
   ],
   "source": [
    "from sklearn import linear_model\n",
    "clf = linear_model.Lasso(alpha=0.1)\n",
    "clf.fit(x,y)\n",
    "\n",
    "print(clf.coef_)\n",
    "\n",
    "print(clf.intercept_)  \n",
    "\n",
    "# pd.DataFrame([x.columns.ravel(),clf.coef_.ravel()],columns=['Name','coeff'])\n",
    "\n",
    "lassod=pd.DataFrame()\n",
    "lassod['Name']=x.columns\n",
    "lassod['coeff']=clf.coef_\n",
    "lassod\n",
    "\n",
    "lassod=lassod.drop(lassod[lassod.coeff==0].index)\n",
    "lassod.coeff=abs(lassod.coeff)\n",
    "lassod=lassod.sort_values(by='coeff', ascending=False)\n",
    "lassod"
   ]
  },
  {
   "cell_type": "code",
   "execution_count": 24,
   "metadata": {},
   "outputs": [
    {
     "name": "stdout",
     "output_type": "stream",
     "text": [
      "['L100100', 'FIELD_33', 'S000501_x', 'L190300', 'S000300', 'S010101', 'AGE', 'S000502', 'FIELD_17', 'S000200', 'L101200', 'L101600', 'L100800', 'L101400', 'L102900', 'FIELD_40']\n"
     ]
    }
   ],
   "source": [
    "print(list(lassod.Name[:20]))"
   ]
  },
  {
   "cell_type": "markdown",
   "metadata": {},
   "source": [
    "=============================== SelectKBest method\n",
    "========================"
   ]
  },
  {
   "cell_type": "code",
   "execution_count": 25,
   "metadata": {},
   "outputs": [
    {
     "name": "stdout",
     "output_type": "stream",
     "text": [
      "['S000501_x', 'S000502', 'S000300', 'L101400', 'L100100', 'S001200', 'L100300', 'S010101', 'L100800', 'S010102', 'S000200', 'L102900', 'AGE', 'L190300', 'L101200', 'L101600']\n"
     ]
    }
   ],
   "source": [
    "# from sklearn.feature_selection import chi2\n",
    "from sklearn.feature_selection import f_regression\n",
    "from sklearn.feature_selection import SelectKBest\n",
    "\n",
    "bestfeatures = SelectKBest(score_func=f_regression, k=10)\n",
    "fit = bestfeatures.fit(x,y)\n",
    "\n",
    "dfscores = pd.DataFrame(fit.scores_)\n",
    "dfcolumns = pd.DataFrame(x.columns)\n",
    "\n",
    "featureScores = pd.concat([dfcolumns,dfscores],axis=1)\n",
    "featureScores.columns = ['Specs','Score']  #naming the dataframe columns\n",
    "\n",
    "# x=x[x.columns[:15]]\n",
    "print(list(x.columns[:16]))"
   ]
  },
  {
   "cell_type": "markdown",
   "metadata": {},
   "source": [
    "========================================= LinearSVC\n",
    "==============="
   ]
  },
  {
   "cell_type": "code",
   "execution_count": 26,
   "metadata": {},
   "outputs": [],
   "source": [
    "# from sklearn.svm import LinearSVC\n",
    "# from sklearn.datasets import load_iris\n",
    "# from sklearn.feature_selection import SelectFromModel\n",
    "\n",
    "# lsvc = LinearSVC(C=0.01, penalty=\"l1\", dual=False).fit(x, y)\n",
    "# model = SelectFromModel(lsvc, prefit=True)\n",
    "# X_new = model.transform(x)\n",
    "# X_new.shape"
   ]
  },
  {
   "cell_type": "code",
   "execution_count": 27,
   "metadata": {},
   "outputs": [],
   "source": [
    "# x.dtypes"
   ]
  },
  {
   "cell_type": "markdown",
   "metadata": {},
   "source": [
    "================================ SequentialFeatureSelector \n",
    "================================"
   ]
  },
  {
   "cell_type": "code",
   "execution_count": 28,
   "metadata": {},
   "outputs": [],
   "source": [
    "# from sklearn.linear_model import LinearRegression\n",
    "# from mlxtend.feature_selection import SequentialFeatureSelector as SFS\n",
    "# from mlxtend.plotting import plot_sequential_feature_selection as plot_sfs\n",
    "# from sklearn.ensemble import RandomForestRegressor\n",
    "\n",
    "# lr = RandomForestRegressor()\n",
    "\n",
    "# sfs = SFS(lr, \n",
    "#           k_features=13, \n",
    "#           forward=True, \n",
    "#           floating=False, \n",
    "#           scoring='neg_mean_squared_error',\n",
    "#           cv=5)\n",
    "\n",
    "# sfs = sfs.fit(x, y)\n",
    "# fig = plot_sfs(sfs.get_metric_dict(), kind='std_err')\n",
    "\n",
    "# plt.title('Sequential Forward Selection (w. StdErr)')\n",
    "# plt.grid()\n",
    "# plt.show()"
   ]
  },
  {
   "cell_type": "markdown",
   "metadata": {},
   "source": [
    "================================= feature_importances\n",
    "====="
   ]
  },
  {
   "cell_type": "code",
   "execution_count": 29,
   "metadata": {},
   "outputs": [
    {
     "name": "stdout",
     "output_type": "stream",
     "text": [
      "[0.17816493 0.06575739 0.042198   0.04584976 0.04363099 0.03897957\n",
      " 0.03867877 0.04052726 0.04139042 0.0388379  0.03880159 0.04330504\n",
      " 0.04766807 0.04653941 0.04208751 0.04631924 0.02925152 0.02077856\n",
      " 0.00988978 0.00853591 0.01528153 0.01711962 0.01922911 0.00267411\n",
      " 0.00165346 0.03685056]\n"
     ]
    },
    {
     "data": {
      "image/png": "[encoded data removed]",
      "text/plain": [
       "<Figure size 432x288 with 1 Axes>"
      ]
     },
     "metadata": {
      "needs_background": "light"
     },
     "output_type": "display_data"
    },
    {
     "name": "stdout",
     "output_type": "stream",
     "text": [
      "Index(['S000501_x', 'S000502', 'AGE', 'L190300', 'L101600', 'L101400',\n",
      "       'L100100', 'L102900', 'S000300', 'L101200', 'L100800', 'S010101',\n",
      "       'S001200', 'S010102', 'S000200', 'L100300'],\n",
      "      dtype='object')\n"
     ]
    }
   ],
   "source": [
    "from sklearn.ensemble import ExtraTreesRegressor\n",
    "import matplotlib.pyplot as plt\n",
    "model = ExtraTreesRegressor()\n",
    "model.fit(x,y)\n",
    "\n",
    "print(model.feature_importances_) #use inbuilt class feature_importances of tree based classifiers\n",
    "\n",
    "#plot graph of feature importances for better visualization\n",
    "feat_importances = pd.Series(model.feature_importances_, index=x.columns)\n",
    "feat_importances.nlargest(16).plot(kind='barh')\n",
    "plt.show()\n",
    "\n",
    "print(feat_importances.nlargest(16).index)"
   ]
  },
  {
   "cell_type": "markdown",
   "metadata": {},
   "source": [
    "============================= Backward Elimination\n",
    "========"
   ]
  },
  {
   "cell_type": "code",
   "execution_count": null,
   "metadata": {},
   "outputs": [],
   "source": [
    "import statsmodels.regression.linear_model as sm\n",
    "temp=x.copy()\n",
    "temp['const']=np.ones((x.shape[0],1))\n",
    "regressor_OLS = sm.OLS(endog = y, exog = temp).fit()\n",
    "regressor_OLS.summary()"
   ]
  },
  {
   "cell_type": "code",
   "execution_count": null,
   "metadata": {},
   "outputs": [],
   "source": [
    "# temp=temp.drop(columns=['L103100', 'S000300','L190400','L102900','L101300','S000501','S000502','L100500','FIELD_40',\n",
    "#                         'FIELD_41','FIELD_29','FIELD_18','FIELD_31','FIELD_27','FIELD_25','SEX'])\n",
    "# regressor_OLS = sm.OLS(endog = y, exog = temp).fit()\n",
    "# regressor_OLS.summary()"
   ]
  },
  {
   "cell_type": "code",
   "execution_count": null,
   "metadata": {},
   "outputs": [],
   "source": [
    "# temp=temp.drop(columns=['FIELD_33'])\n",
    "# regressor_OLS = sm.OLS(endog = y, exog = temp).fit()\n",
    "# regressor_OLS.summary()"
   ]
  },
  {
   "cell_type": "code",
   "execution_count": null,
   "metadata": {},
   "outputs": [],
   "source": [
    "print(temp.columns.shape)\n",
    "temp.columns"
   ]
  },
  {
   "cell_type": "markdown",
   "metadata": {},
   "source": [
    "================== Check Variance inflation factor and multi collinearity\n",
    "==================== "
   ]
  },
  {
   "cell_type": "code",
   "execution_count": null,
   "metadata": {},
   "outputs": [],
   "source": [
    "temppd=pd.DataFrame(data2[['S000501_x', 'S000502', 'S000300', 'SEX', 'L190400', 'L190300', 'L190500', 'L100700', \n",
    "              'L103300', 'L100500', 'S000100', 'L100800', 'L103000', 'L101700', 'L101300', 'L103100', 'max',\n",
    "              'FIELD_33', 'FIELD_38', 'FIELD_40', 'FIELD_29', 'FIELD_41', 'FIELD_27', 'FIELD_42', 'FIELD_5', \n",
    "              'FIELD_18', 'FIELD_25'\n",
    "                          ]]).dropna()  \n",
    "temppd['y']=data.S000501_y\n",
    " \n",
    "\n",
    "corr = (temppd.corr())\n",
    "sns.heatmap(corr, vmin=-1, vmax=1) \n",
    "\n",
    "corr.head(20)"
   ]
  },
  {
   "cell_type": "code",
   "execution_count": null,
   "metadata": {},
   "outputs": [],
   "source": [
    "\n",
    "def vifcal(inputdata,depcol):\n",
    "    vifL5=[]\n",
    "    import statsmodels.formula.api as sm\n",
    "    xvars=inputdata.drop([depcol],axis=1)\n",
    "    xvarnames=xvars.columns\n",
    "    for i in range(0,xvarnames.shape[0]):\n",
    "        _y=xvars[xvarnames[i]]\n",
    "        _x=xvars[xvarnames.drop(xvarnames[i])]\n",
    "        rsq=sm.ols(formula=\"_y~_x\",data=xvars).fit().rsquared\n",
    "        vif=round(1/(1-rsq),2)\n",
    "        print(i,', ',xvarnames[i],\" VIF = \",vif)\n",
    "        if(vif<5):\n",
    "            vifL5.append(xvarnames[i])\n",
    "    return vifL5\n",
    "    \n",
    "    \n",
    "newcols = vifcal(temppd,'y')"
   ]
  },
  {
   "cell_type": "code",
   "execution_count": null,
   "metadata": {},
   "outputs": [],
   "source": [
    "print(newcols,len(newcols))"
   ]
  },
  {
   "cell_type": "code",
   "execution_count": null,
   "metadata": {},
   "outputs": [],
   "source": []
  }
 ],
 "metadata": {
  "kernelspec": {
   "display_name": "Python 3",
   "language": "python",
   "name": "python3"
  },
  "language_info": {
   "codemirror_mode": {
    "name": "ipython",
    "version": 3
   },
   "file_extension": ".py",
   "mimetype": "text/x-python",
   "name": "python",
   "nbconvert_exporter": "python",
   "pygments_lexer": "ipython3",
   "version": "3.7.3"
  }
 },
 "nbformat": 4,
 "nbformat_minor": 2
}

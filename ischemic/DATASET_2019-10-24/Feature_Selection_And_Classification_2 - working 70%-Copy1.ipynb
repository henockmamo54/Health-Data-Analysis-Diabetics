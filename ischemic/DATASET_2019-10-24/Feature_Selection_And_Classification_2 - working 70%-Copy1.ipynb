{
 "cells": [
  {
   "cell_type": "code",
   "execution_count": 1,
   "metadata": {},
   "outputs": [],
   "source": [
    "import numpy as np\n",
    "import pandas as pd\n",
    "import warnings\n",
    "from scipy.stats import chi2_contingency\n",
    "from scipy import stats\n",
    "from matplotlib import pyplot as plt\n",
    "import json\n",
    "import yapf.yapflib.yapf_api\n",
    "from sklearn.utils import shuffle\n",
    "warnings.filterwarnings(\"ignore\")"
   ]
  },
  {
   "cell_type": "markdown",
   "metadata": {},
   "source": [
    "1 Read the dataset \n",
    "========"
   ]
  },
  {
   "cell_type": "code",
   "execution_count": 2,
   "metadata": {},
   "outputs": [],
   "source": [
    "maindata= pd.read_csv('DATASET_2019-10-24_light.txt',sep=',')"
   ]
  },
  {
   "cell_type": "code",
   "execution_count": 3,
   "metadata": {},
   "outputs": [
    {
     "name": "stdout",
     "output_type": "stream",
     "text": [
      "(9482, 407)\n"
     ]
    },
    {
     "data": {
      "text/plain": [
       "CLASS\n",
       "0    4741\n",
       "1    4741\n",
       "dtype: int64"
      ]
     },
     "execution_count": 3,
     "metadata": {},
     "output_type": "execute_result"
    }
   ],
   "source": [
    "class0=maindata[maindata.CLASS==0]\n",
    "class1=maindata[maindata.CLASS==1]\n",
    "class0=class0.sample(class1.shape[0],random_state=42)\n",
    "data=pd.concat([class1,class0])\n",
    "print(data.shape)\n",
    "\n",
    "data.groupby(by='CLASS').size()"
   ]
  },
  {
   "cell_type": "code",
   "execution_count": 4,
   "metadata": {},
   "outputs": [
    {
     "name": "stdout",
     "output_type": "stream",
     "text": [
      "(9482, 403)\n"
     ]
    }
   ],
   "source": [
    "\n",
    "data['FIELD_6_7']=np.min(data[['FIELD_6','FIELD_7']],axis=1) #combine FIELD_6 and FIELD_7 both represent the same thing (Women's marital status)\n",
    "data=data.drop(columns=['FIELD_6','FIELD_7','COMPARE','B_DAY','Unnamed: 0'])#,'FIELD_1','FIELD_2'\n",
    "print(data.shape)"
   ]
  },
  {
   "cell_type": "code",
   "execution_count": 5,
   "metadata": {},
   "outputs": [],
   "source": [
    "# # filter the data set\n",
    "# data = data[data.FIELD_16 != 1]  # exclude people who are diagnosed for (diabetes)\n",
    "# data = data[data.FIELD_23 != 1]  # exclude people who are on medication for diabetes\n",
    "\n",
    "# data = data[\n",
    "#     data.FIELD_15 != 1\n",
    "# ]  # exclude people who are diagnosed for (high blood pressure)\n",
    "# data = data[\n",
    "#     data.FIELD_22 != 1\n",
    "# ]  # exclude people who are on medication for high blood pressure\n",
    "\n",
    "# data = data[data.FIELD_17 != 1]  # exclude people who are diagnosed for hyperlipidemia\n",
    "# data = data[\n",
    "#     data.FIELD_24 != 1\n",
    "# ]  # exclude people who are on medication for hyperlipidemia\n",
    "\n",
    "# data = data[data.FIELD_13 != 1]  \n",
    "# data = data[data.FIELD_20 != 1]  \n",
    "\n",
    "# print(data.shape)"
   ]
  },
  {
   "cell_type": "code",
   "execution_count": 6,
   "metadata": {},
   "outputs": [],
   "source": [
    "# rename columns\n",
    "data.rename(\n",
    "    columns={\n",
    "        \"L104600\": \"HBA1C\",\n",
    "        \"L103000\": \"Triglycerides\",\n",
    "        \"L100800\": \"fasting glucose\",\n",
    "        \"S000300\": \"BMI\",\n",
    "        \"S000501\": \"SBP\",\n",
    "        \"S000502\": \"DBP\",\n",
    "        \"L101700\": \"r-GTP gamma\",\n",
    "        \"L103300\": \"Cardiac risk factor\",\n",
    "        \"L190400\": \"Hemoglobin\",\n",
    "        \"L190500\": \"HCT\",\n",
    "        \"L100700\": \"Uric Acid\",\n",
    "        \"L101300\": \"SGPT\",\n",
    "        \"L190300\": \"RBC\",\n",
    "        \"L102900\": \"total cholesterol\",\n",
    "        \"L103100\": \"HDL-Cholesterol\",\n",
    "    },\n",
    "    inplace=True,\n",
    ")"
   ]
  },
  {
   "cell_type": "code",
   "execution_count": 7,
   "metadata": {},
   "outputs": [],
   "source": [
    "# split column types to categorical and numerical\n",
    "numerical_cols = list(data.columns[~data.columns.str.startswith(\"FIELD\")])\n",
    "categorical_cols = list(data.columns[data.columns.str.startswith(\"FIELD\")])\n",
    "categorical_cols.append(\"CLASS\")\n",
    "numerical_cols.remove(\"SEX\")\n",
    "categorical_cols.append(\"SEX\")"
   ]
  },
  {
   "cell_type": "code",
   "execution_count": 8,
   "metadata": {},
   "outputs": [
    {
     "name": "stdout",
     "output_type": "stream",
     "text": [
      "(9482, 403)\n",
      "CLASS\n",
      "0    4741\n",
      "1    4741\n",
      "dtype: int64\n"
     ]
    }
   ],
   "source": [
    "print(data.shape)\n",
    "print(data.groupby(by='CLASS').size())"
   ]
  },
  {
   "cell_type": "code",
   "execution_count": 9,
   "metadata": {},
   "outputs": [],
   "source": [
    "# print(data.shape)\n",
    "# print(data.groupby(by='CLASS').size())\n",
    "\n",
    "# mydata=data.copy()\n",
    "# class1 = mydata[mydata.CLASS == 1]\n",
    "# class0 = mydata[mydata.CLASS == 0]\n",
    "\n",
    "# data = pd.concat([class1.sample(class0.shape[0],random_state=42), \n",
    "#                   class0])\n",
    "\n",
    "# print(data.shape)"
   ]
  },
  {
   "cell_type": "markdown",
   "metadata": {},
   "source": [
    "2 Feature Selection\n",
    "==========="
   ]
  },
  {
   "cell_type": "markdown",
   "metadata": {},
   "source": [
    "2.1 Calculate correlation Value - for numerical values\n",
    "========"
   ]
  },
  {
   "cell_type": "markdown",
   "metadata": {},
   "source": [
    "2.1.1 Pearson Correlation\n",
    "======"
   ]
  },
  {
   "cell_type": "code",
   "execution_count": null,
   "metadata": {},
   "outputs": [],
   "source": [
    "corr = data[numerical_cols].corr()  # compute the correlation value\n",
    "corr = corr.CLASS  # select the correlation values of the Class\n",
    "\n",
    "# convert correlation values to dataframe\n",
    "corrvalPD = pd.DataFrame()\n",
    "corrvalPD[\"Col\"] = corr.index\n",
    "corrvalPD[\"val\"] = abs(corr.values)\n",
    "\n",
    "corrvalPD = corrvalPD.sort_values(by=\"val\", ascending=False)\n",
    "corrvalPD.head()"
   ]
  },
  {
   "cell_type": "code",
   "execution_count": null,
   "metadata": {},
   "outputs": [],
   "source": [
    "# get count of none NA values of each feature set\n",
    "mydataset = data.copy()[numerical_cols]\n",
    "colCount = []\n",
    "for i in mydataset.columns:\n",
    "    colCount.append([i, mydataset[i].dropna().shape[0]])\n",
    "\n",
    "colCountPD = pd.DataFrame(colCount, columns=[\"Col\", \"Count\"])\n",
    "colCountPD.head()"
   ]
  },
  {
   "cell_type": "code",
   "execution_count": null,
   "metadata": {},
   "outputs": [],
   "source": [
    "# merge the correlation value and the total count of the feature\n",
    "mergedColCorrCount = pd.merge(\n",
    "    corrvalPD, colCountPD, how=\"inner\", left_on=\"Col\", right_on=\"Col\"\n",
    ")\n",
    "mergedColCorrCount = mergedColCorrCount[mergedColCorrCount.Count > 100000]\n",
    "mergedColCorrCount = mergedColCorrCount.sort_values(by=\"val\", ascending=False)\n",
    "mergedColCorrCount.head(20)"
   ]
  },
  {
   "cell_type": "code",
   "execution_count": null,
   "metadata": {},
   "outputs": [],
   "source": [
    "# select top 20 correlated features\n",
    "print(list(mergedColCorrCount.head(16).Col))"
   ]
  },
  {
   "cell_type": "markdown",
   "metadata": {},
   "source": [
    "2.1.2 Anova test\n",
    "======="
   ]
  },
  {
   "cell_type": "code",
   "execution_count": null,
   "metadata": {},
   "outputs": [],
   "source": [
    "# another option for feature selection of numerical values\n",
    "\n",
    "mydataset = data.copy()[numerical_cols]  # filter only numrical columns\n",
    "colslist = mydataset.columns\n",
    "DiabeticColVals = mydataset.CLASS\n",
    "\n",
    "cor = []\n",
    "pval = []\n",
    "count = []\n",
    "\n",
    "# for each column compute f and p values\n",
    "for i in range(len(colslist)):\n",
    "\n",
    "    temp = pd.DataFrame([])\n",
    "    temp[\"a\"] = DiabeticColVals\n",
    "    temp[\"b\"] = mydataset[colslist[i]]\n",
    "    temp = temp.dropna()\n",
    "\n",
    "    count.append(temp.shape[0])\n",
    "    tempcor = temp.corr()\n",
    "\n",
    "    if tempcor.shape[0] > 1:\n",
    "        F, p = stats.f_oneway(\n",
    "            temp[temp[\"a\"] == 0].b, temp[temp[\"a\"] == 1].b\n",
    "        )\n",
    "        cor.append(F)\n",
    "        pval.append(p)\n",
    "    else:\n",
    "        cor.append(0)\n",
    "        pval.append(0)"
   ]
  },
  {
   "cell_type": "code",
   "execution_count": null,
   "metadata": {},
   "outputs": [],
   "source": [
    "FvalPvalCorr = pd.DataFrame()\n",
    "FvalPvalCorr[\"Cols\"] = colslist\n",
    "FvalPvalCorr[\"F\"] = cor\n",
    "FvalPvalCorr[\"P\"] = pval\n",
    "FvalPvalCorr[\"Count\"] = count\n",
    "FvalPvalCorr = FvalPvalCorr.sort_values(by=\"F\", ascending=False)"
   ]
  },
  {
   "cell_type": "code",
   "execution_count": null,
   "metadata": {},
   "outputs": [],
   "source": [
    "# select top 20 features\n",
    "print(list(FvalPvalCorr[FvalPvalCorr.Count > 7000].Cols)[:25])\n",
    "FvalPvalCorr[FvalPvalCorr.Count > 7000].head(20)"
   ]
  },
  {
   "cell_type": "markdown",
   "metadata": {},
   "source": [
    "2.2 Correlation for categorical values\n",
    "============"
   ]
  },
  {
   "cell_type": "markdown",
   "metadata": {},
   "source": [
    "2.2.1 chi2 method\n",
    "====="
   ]
  },
  {
   "cell_type": "code",
   "execution_count": 10,
   "metadata": {},
   "outputs": [],
   "source": [
    "# rename commen field names\n",
    "categorical_cols[categorical_cols.index(\"FIELD_33\")] = \"_4_1_Smoking\"\n",
    "categorical_cols[categorical_cols.index(\"FIELD_38\")] = \"Drinking_5_1_days\"\n",
    "categorical_cols[\n",
    "    categorical_cols.index(\"FIELD_40\")\n",
    "] = \"_6_1_of_physical_activity_high_strength\"\n",
    "categorical_cols[categorical_cols.index(\"FIELD_31\")] = \"Family_history\"\n",
    "categorical_cols[\n",
    "    categorical_cols.index(\"FIELD_41\")\n",
    "] = \"_6_2_of_physical_activity_moderate\"\n",
    "categorical_cols[categorical_cols.index(\"FIELD_27\")] = \"_2_family_history_stroke\"\n",
    "categorical_cols[categorical_cols.index(\"FIELD_21\")] = \"_1_medication_heart_disease\"\n",
    "categorical_cols[categorical_cols.index(\"FIELD_14\")] = \"Whether_one_diagnosis_disease\"\n",
    "categorical_cols[categorical_cols.index(\"FIELD_32\")] = \"_3B_hepatitis\"\n",
    "categorical_cols[\n",
    "    categorical_cols.index(\"FIELD_42\")\n",
    "] = \"_6_3_of_physical_activity_walking\"\n",
    "categorical_cols[categorical_cols.index(\"FIELD_4\")] = \"blood_type\"\n",
    "categorical_cols[categorical_cols.index(\"FIELD_29\")] = \"_2_family_history_hypertension\"\n",
    "categorical_cols[categorical_cols.index(\"FIELD_3\")] = \"Blood_factor_RH_factor\"\n",
    "categorical_cols[categorical_cols.index(\"FIELD_19\")] = \"_1_drug_therapy_stroke\""
   ]
  },
  {
   "cell_type": "code",
   "execution_count": 11,
   "metadata": {},
   "outputs": [],
   "source": [
    "mydata = data.rename(\n",
    "    columns={\n",
    "        \"FIELD_33\": \"_4_1_Smoking\",\n",
    "        \"FIELD_38\": \"Drinking_5_1_days\",\n",
    "        \"FIELD_40\": \"_6_1_of_physical_activity_high_strength\",\n",
    "        \"FIELD_31\": \"Family_history\",\n",
    "        \"FIELD_41\": \"_6_2_of_physical_activity_moderate\",\n",
    "        \"FIELD_27\": \"_2_family_history_stroke\",\n",
    "        \"FIELD_21\": \"_1_medication_heart_disease\",\n",
    "        \"FIELD_14\": \"Whether_one_diagnosis_disease\",\n",
    "        \"FIELD_32\": \"_3B_hepatitis\",\n",
    "        \"FIELD_42\": \"_6_3_of_physical_activity_walking\",\n",
    "        \"FIELD_4\": \"blood_type\",\n",
    "        \"FIELD_29\": \"_2_family_history_hypertension\",\n",
    "        \"FIELD_3\": \"Blood_factor_RH_factor\",\n",
    "        \"FIELD_19\": \"_1_drug_therapy_stroke\",\n",
    "    },\n",
    "    inplace=True,\n",
    ")\n",
    "\n",
    "\n",
    "# mydata=data[categorical_cols] # filter only categorical columns"
   ]
  },
  {
   "cell_type": "code",
   "execution_count": 12,
   "metadata": {},
   "outputs": [
    {
     "data": {
      "text/html": [
       "<div>\n",
       "<style scoped>\n",
       "    .dataframe tbody tr th:only-of-type {\n",
       "        vertical-align: middle;\n",
       "    }\n",
       "\n",
       "    .dataframe tbody tr th {\n",
       "        vertical-align: top;\n",
       "    }\n",
       "\n",
       "    .dataframe thead th {\n",
       "        text-align: right;\n",
       "    }\n",
       "</style>\n",
       "<table border=\"1\" class=\"dataframe\">\n",
       "  <thead>\n",
       "    <tr style=\"text-align: right;\">\n",
       "      <th></th>\n",
       "      <th>FIELD_1</th>\n",
       "      <th>FIELD_2</th>\n",
       "      <th>Blood_factor_RH_factor</th>\n",
       "      <th>blood_type</th>\n",
       "      <th>FIELD_5</th>\n",
       "      <th>FIELD_9</th>\n",
       "      <th>FIELD_13</th>\n",
       "      <th>Whether_one_diagnosis_disease</th>\n",
       "      <th>FIELD_15</th>\n",
       "      <th>FIELD_16</th>\n",
       "      <th>...</th>\n",
       "      <th>FIELD_134</th>\n",
       "      <th>FIELD_135</th>\n",
       "      <th>FIELD_136</th>\n",
       "      <th>FIELD_137</th>\n",
       "      <th>FIELD_138</th>\n",
       "      <th>FIELD_139</th>\n",
       "      <th>FIELD_140</th>\n",
       "      <th>FIELD_6_7</th>\n",
       "      <th>CLASS</th>\n",
       "      <th>SEX</th>\n",
       "    </tr>\n",
       "  </thead>\n",
       "  <tbody>\n",
       "    <tr>\n",
       "      <th>196</th>\n",
       "      <td>1000482</td>\n",
       "      <td>20141104</td>\n",
       "      <td>NaN</td>\n",
       "      <td>3</td>\n",
       "      <td>NaN</td>\n",
       "      <td>NaN</td>\n",
       "      <td>0.0</td>\n",
       "      <td>0.0</td>\n",
       "      <td>0.0</td>\n",
       "      <td>0.0</td>\n",
       "      <td>...</td>\n",
       "      <td>NaN</td>\n",
       "      <td>NaN</td>\n",
       "      <td>NaN</td>\n",
       "      <td>NaN</td>\n",
       "      <td>NaN</td>\n",
       "      <td>NaN</td>\n",
       "      <td>NaN</td>\n",
       "      <td>NaN</td>\n",
       "      <td>1</td>\n",
       "      <td>0.0</td>\n",
       "    </tr>\n",
       "    <tr>\n",
       "      <th>501</th>\n",
       "      <td>1001277</td>\n",
       "      <td>20130115</td>\n",
       "      <td>NaN</td>\n",
       "      <td>1</td>\n",
       "      <td>1</td>\n",
       "      <td>NaN</td>\n",
       "      <td>0.0</td>\n",
       "      <td>0.0</td>\n",
       "      <td>0.0</td>\n",
       "      <td>0.0</td>\n",
       "      <td>...</td>\n",
       "      <td>NaN</td>\n",
       "      <td>NaN</td>\n",
       "      <td>NaN</td>\n",
       "      <td>NaN</td>\n",
       "      <td>NaN</td>\n",
       "      <td>NaN</td>\n",
       "      <td>NaN</td>\n",
       "      <td>NaN</td>\n",
       "      <td>1</td>\n",
       "      <td>0.0</td>\n",
       "    </tr>\n",
       "    <tr>\n",
       "      <th>539</th>\n",
       "      <td>1001450</td>\n",
       "      <td>20150819</td>\n",
       "      <td>NaN</td>\n",
       "      <td>1</td>\n",
       "      <td>2</td>\n",
       "      <td>NaN</td>\n",
       "      <td>0.0</td>\n",
       "      <td>0.0</td>\n",
       "      <td>0.0</td>\n",
       "      <td>0.0</td>\n",
       "      <td>...</td>\n",
       "      <td>NaN</td>\n",
       "      <td>NaN</td>\n",
       "      <td>NaN</td>\n",
       "      <td>NaN</td>\n",
       "      <td>NaN</td>\n",
       "      <td>NaN</td>\n",
       "      <td>NaN</td>\n",
       "      <td>NaN</td>\n",
       "      <td>1</td>\n",
       "      <td>0.0</td>\n",
       "    </tr>\n",
       "    <tr>\n",
       "      <th>633</th>\n",
       "      <td>1001642</td>\n",
       "      <td>20140226</td>\n",
       "      <td>1</td>\n",
       "      <td>2</td>\n",
       "      <td>NaN</td>\n",
       "      <td>NaN</td>\n",
       "      <td>0.0</td>\n",
       "      <td>0.0</td>\n",
       "      <td>0.0</td>\n",
       "      <td>0.0</td>\n",
       "      <td>...</td>\n",
       "      <td>NaN</td>\n",
       "      <td>NaN</td>\n",
       "      <td>NaN</td>\n",
       "      <td>NaN</td>\n",
       "      <td>NaN</td>\n",
       "      <td>NaN</td>\n",
       "      <td>NaN</td>\n",
       "      <td>NaN</td>\n",
       "      <td>1</td>\n",
       "      <td>0.0</td>\n",
       "    </tr>\n",
       "    <tr>\n",
       "      <th>699</th>\n",
       "      <td>1001799</td>\n",
       "      <td>20180421</td>\n",
       "      <td>1</td>\n",
       "      <td>2</td>\n",
       "      <td>NaN</td>\n",
       "      <td>NaN</td>\n",
       "      <td>0.0</td>\n",
       "      <td>0.0</td>\n",
       "      <td>0.0</td>\n",
       "      <td>1.0</td>\n",
       "      <td>...</td>\n",
       "      <td>NaN</td>\n",
       "      <td>NaN</td>\n",
       "      <td>NaN</td>\n",
       "      <td>NaN</td>\n",
       "      <td>NaN</td>\n",
       "      <td>NaN</td>\n",
       "      <td>NaN</td>\n",
       "      <td>NaN</td>\n",
       "      <td>1</td>\n",
       "      <td>0.0</td>\n",
       "    </tr>\n",
       "  </tbody>\n",
       "</table>\n",
       "<p>5 rows × 114 columns</p>\n",
       "</div>"
      ],
      "text/plain": [
       "     FIELD_1   FIELD_2 Blood_factor_RH_factor blood_type FIELD_5  FIELD_9  \\\n",
       "196  1000482  20141104                    NaN          3     NaN      NaN   \n",
       "501  1001277  20130115                    NaN          1       1      NaN   \n",
       "539  1001450  20150819                    NaN          1       2      NaN   \n",
       "633  1001642  20140226                      1          2     NaN      NaN   \n",
       "699  1001799  20180421                      1          2     NaN      NaN   \n",
       "\n",
       "     FIELD_13  Whether_one_diagnosis_disease  FIELD_15  FIELD_16  ...  \\\n",
       "196       0.0                            0.0       0.0       0.0  ...   \n",
       "501       0.0                            0.0       0.0       0.0  ...   \n",
       "539       0.0                            0.0       0.0       0.0  ...   \n",
       "633       0.0                            0.0       0.0       0.0  ...   \n",
       "699       0.0                            0.0       0.0       1.0  ...   \n",
       "\n",
       "     FIELD_134  FIELD_135  FIELD_136  FIELD_137  FIELD_138  FIELD_139  \\\n",
       "196        NaN        NaN        NaN        NaN        NaN        NaN   \n",
       "501        NaN        NaN        NaN        NaN        NaN        NaN   \n",
       "539        NaN        NaN        NaN        NaN        NaN        NaN   \n",
       "633        NaN        NaN        NaN        NaN        NaN        NaN   \n",
       "699        NaN        NaN        NaN        NaN        NaN        NaN   \n",
       "\n",
       "     FIELD_140  FIELD_6_7  CLASS  SEX  \n",
       "196        NaN        NaN      1  0.0  \n",
       "501        NaN        NaN      1  0.0  \n",
       "539        NaN        NaN      1  0.0  \n",
       "633        NaN        NaN      1  0.0  \n",
       "699        NaN        NaN      1  0.0  \n",
       "\n",
       "[5 rows x 114 columns]"
      ]
     },
     "execution_count": 12,
     "metadata": {},
     "output_type": "execute_result"
    }
   ],
   "source": [
    "# filter only categorical columns\n",
    "mydata = data[categorical_cols]\n",
    "# remove columns with string values as data type\n",
    "mydata = mydata.drop(\n",
    "    columns=[\n",
    "        \"FIELD_8\",\n",
    "        \"FIELD_10\",\n",
    "        \"FIELD_11\",\n",
    "        \"FIELD_12\",\n",
    "        \"FIELD_39\",'FIELD_37',\n",
    "        \"FIELD_88\",\n",
    "        \"FIELD_89\",\n",
    "        \"FIELD_109\",\n",
    "        \"FIELD_110\",\n",
    "        \"FIELD_111\",\n",
    "        \"FIELD_70\",\n",
    "        \"FIELD_82\",\n",
    "        \"FIELD_85\",\n",
    "        \"FIELD_91\",\n",
    "        \"FIELD_103\",\n",
    "        \"FIELD_106\",\n",
    "    ]\n",
    ")\n",
    "\n",
    "mydata.head()"
   ]
  },
  {
   "cell_type": "code",
   "execution_count": 13,
   "metadata": {},
   "outputs": [
    {
     "data": {
      "text/html": [
       "<div>\n",
       "<style scoped>\n",
       "    .dataframe tbody tr th:only-of-type {\n",
       "        vertical-align: middle;\n",
       "    }\n",
       "\n",
       "    .dataframe tbody tr th {\n",
       "        vertical-align: top;\n",
       "    }\n",
       "\n",
       "    .dataframe thead th {\n",
       "        text-align: right;\n",
       "    }\n",
       "</style>\n",
       "<table border=\"1\" class=\"dataframe\">\n",
       "  <thead>\n",
       "    <tr style=\"text-align: right;\">\n",
       "      <th></th>\n",
       "      <th>FIELD_1</th>\n",
       "      <th>FIELD_2</th>\n",
       "      <th>Blood_factor_RH_factor</th>\n",
       "      <th>blood_type</th>\n",
       "      <th>FIELD_5</th>\n",
       "      <th>FIELD_9</th>\n",
       "      <th>FIELD_13</th>\n",
       "      <th>Whether_one_diagnosis_disease</th>\n",
       "      <th>FIELD_15</th>\n",
       "      <th>FIELD_16</th>\n",
       "      <th>...</th>\n",
       "      <th>FIELD_134</th>\n",
       "      <th>FIELD_135</th>\n",
       "      <th>FIELD_136</th>\n",
       "      <th>FIELD_137</th>\n",
       "      <th>FIELD_138</th>\n",
       "      <th>FIELD_139</th>\n",
       "      <th>FIELD_140</th>\n",
       "      <th>FIELD_6_7</th>\n",
       "      <th>CLASS</th>\n",
       "      <th>SEX</th>\n",
       "    </tr>\n",
       "  </thead>\n",
       "  <tbody>\n",
       "    <tr>\n",
       "      <th>196</th>\n",
       "      <td>1000482</td>\n",
       "      <td>20141104</td>\n",
       "      <td>NaN</td>\n",
       "      <td>3</td>\n",
       "      <td>NaN</td>\n",
       "      <td>NaN</td>\n",
       "      <td>0.0</td>\n",
       "      <td>0.0</td>\n",
       "      <td>0.0</td>\n",
       "      <td>0.0</td>\n",
       "      <td>...</td>\n",
       "      <td>NaN</td>\n",
       "      <td>NaN</td>\n",
       "      <td>NaN</td>\n",
       "      <td>NaN</td>\n",
       "      <td>NaN</td>\n",
       "      <td>NaN</td>\n",
       "      <td>NaN</td>\n",
       "      <td>NaN</td>\n",
       "      <td>1</td>\n",
       "      <td>0.0</td>\n",
       "    </tr>\n",
       "    <tr>\n",
       "      <th>501</th>\n",
       "      <td>1001277</td>\n",
       "      <td>20130115</td>\n",
       "      <td>NaN</td>\n",
       "      <td>1</td>\n",
       "      <td>1</td>\n",
       "      <td>NaN</td>\n",
       "      <td>0.0</td>\n",
       "      <td>0.0</td>\n",
       "      <td>0.0</td>\n",
       "      <td>0.0</td>\n",
       "      <td>...</td>\n",
       "      <td>NaN</td>\n",
       "      <td>NaN</td>\n",
       "      <td>NaN</td>\n",
       "      <td>NaN</td>\n",
       "      <td>NaN</td>\n",
       "      <td>NaN</td>\n",
       "      <td>NaN</td>\n",
       "      <td>NaN</td>\n",
       "      <td>1</td>\n",
       "      <td>0.0</td>\n",
       "    </tr>\n",
       "    <tr>\n",
       "      <th>539</th>\n",
       "      <td>1001450</td>\n",
       "      <td>20150819</td>\n",
       "      <td>NaN</td>\n",
       "      <td>1</td>\n",
       "      <td>2</td>\n",
       "      <td>NaN</td>\n",
       "      <td>0.0</td>\n",
       "      <td>0.0</td>\n",
       "      <td>0.0</td>\n",
       "      <td>0.0</td>\n",
       "      <td>...</td>\n",
       "      <td>NaN</td>\n",
       "      <td>NaN</td>\n",
       "      <td>NaN</td>\n",
       "      <td>NaN</td>\n",
       "      <td>NaN</td>\n",
       "      <td>NaN</td>\n",
       "      <td>NaN</td>\n",
       "      <td>NaN</td>\n",
       "      <td>1</td>\n",
       "      <td>0.0</td>\n",
       "    </tr>\n",
       "    <tr>\n",
       "      <th>633</th>\n",
       "      <td>1001642</td>\n",
       "      <td>20140226</td>\n",
       "      <td>1</td>\n",
       "      <td>2</td>\n",
       "      <td>NaN</td>\n",
       "      <td>NaN</td>\n",
       "      <td>0.0</td>\n",
       "      <td>0.0</td>\n",
       "      <td>0.0</td>\n",
       "      <td>0.0</td>\n",
       "      <td>...</td>\n",
       "      <td>NaN</td>\n",
       "      <td>NaN</td>\n",
       "      <td>NaN</td>\n",
       "      <td>NaN</td>\n",
       "      <td>NaN</td>\n",
       "      <td>NaN</td>\n",
       "      <td>NaN</td>\n",
       "      <td>NaN</td>\n",
       "      <td>1</td>\n",
       "      <td>0.0</td>\n",
       "    </tr>\n",
       "    <tr>\n",
       "      <th>699</th>\n",
       "      <td>1001799</td>\n",
       "      <td>20180421</td>\n",
       "      <td>1</td>\n",
       "      <td>2</td>\n",
       "      <td>NaN</td>\n",
       "      <td>NaN</td>\n",
       "      <td>0.0</td>\n",
       "      <td>0.0</td>\n",
       "      <td>0.0</td>\n",
       "      <td>1.0</td>\n",
       "      <td>...</td>\n",
       "      <td>NaN</td>\n",
       "      <td>NaN</td>\n",
       "      <td>NaN</td>\n",
       "      <td>NaN</td>\n",
       "      <td>NaN</td>\n",
       "      <td>NaN</td>\n",
       "      <td>NaN</td>\n",
       "      <td>NaN</td>\n",
       "      <td>1</td>\n",
       "      <td>0.0</td>\n",
       "    </tr>\n",
       "  </tbody>\n",
       "</table>\n",
       "<p>5 rows × 114 columns</p>\n",
       "</div>"
      ],
      "text/plain": [
       "     FIELD_1   FIELD_2 Blood_factor_RH_factor blood_type FIELD_5  FIELD_9  \\\n",
       "196  1000482  20141104                    NaN          3     NaN      NaN   \n",
       "501  1001277  20130115                    NaN          1       1      NaN   \n",
       "539  1001450  20150819                    NaN          1       2      NaN   \n",
       "633  1001642  20140226                      1          2     NaN      NaN   \n",
       "699  1001799  20180421                      1          2     NaN      NaN   \n",
       "\n",
       "     FIELD_13  Whether_one_diagnosis_disease  FIELD_15  FIELD_16  ...  \\\n",
       "196       0.0                            0.0       0.0       0.0  ...   \n",
       "501       0.0                            0.0       0.0       0.0  ...   \n",
       "539       0.0                            0.0       0.0       0.0  ...   \n",
       "633       0.0                            0.0       0.0       0.0  ...   \n",
       "699       0.0                            0.0       0.0       1.0  ...   \n",
       "\n",
       "     FIELD_134  FIELD_135  FIELD_136  FIELD_137  FIELD_138  FIELD_139  \\\n",
       "196        NaN        NaN        NaN        NaN        NaN        NaN   \n",
       "501        NaN        NaN        NaN        NaN        NaN        NaN   \n",
       "539        NaN        NaN        NaN        NaN        NaN        NaN   \n",
       "633        NaN        NaN        NaN        NaN        NaN        NaN   \n",
       "699        NaN        NaN        NaN        NaN        NaN        NaN   \n",
       "\n",
       "     FIELD_140  FIELD_6_7  CLASS  SEX  \n",
       "196        NaN        NaN      1  0.0  \n",
       "501        NaN        NaN      1  0.0  \n",
       "539        NaN        NaN      1  0.0  \n",
       "633        NaN        NaN      1  0.0  \n",
       "699        NaN        NaN      1  0.0  \n",
       "\n",
       "[5 rows x 114 columns]"
      ]
     },
     "execution_count": 13,
     "metadata": {},
     "output_type": "execute_result"
    }
   ],
   "source": [
    "# Data clean up\n",
    "mydata = mydata.drop(\n",
    "    mydata[[\"Blood_factor_RH_factor\"]][mydata[[\"Blood_factor_RH_factor\"]] == \"`\"]\n",
    "    .dropna()\n",
    "    .index\n",
    ")\n",
    "mydata = mydata.drop(\n",
    "    mydata[[\"Blood_factor_RH_factor\"]][mydata[[\"Blood_factor_RH_factor\"]] == \"G\"]\n",
    "    .dropna()\n",
    "    .index\n",
    ")\n",
    "\n",
    "mydata = mydata.drop(\n",
    "    mydata[[\"blood_type\"]][mydata[[\"blood_type\"]] == \".\"].dropna().index\n",
    ")\n",
    "mydata = mydata.drop(mydata[mydata.FIELD_5 == \".\"].index)\n",
    "\n",
    "\n",
    "mydata = mydata.drop(mydata[mydata.FIELD_35 == \"?\"].index)\n",
    "mydata = mydata.drop(mydata[mydata.FIELD_35 == \".\"].index)\n",
    "mydata = mydata.drop(mydata[mydata.FIELD_36 == \".\"].index)\n",
    "# mydata = mydata.drop(mydata[mydata.FIELD_37 == \"\\\\\"].index)\n",
    "mydata.head()\n",
    "\n",
    "# mydata=mydata.drop(mydata[mydata.FIELD_39 == '7+' ].index)\n",
    "# mydata=mydata.drop(mydata[mydata.FIELD_39 == '5~7'].index)\n",
    "# mydata=mydata.drop(mydata[mydata.FIELD_39 == '3-4'].index)\n",
    "\n",
    "\n",
    "mydata = mydata.drop(mydata[mydata.FIELD_95 == \".\"].index)\n",
    "mydata.head()\n",
    "\n",
    "mydata.head()"
   ]
  },
  {
   "cell_type": "code",
   "execution_count": null,
   "metadata": {
    "scrolled": true
   },
   "outputs": [],
   "source": [
    "AllTables = []\n",
    "\n",
    "# prepare the table indicating the number of entries per class and per each column group\n",
    "for j in range(len(mydata.columns)):\n",
    "\n",
    "    columnName = mydata.columns[j]\n",
    "    print(j, columnName)\n",
    "\n",
    "    temp = mydata[columnName].dropna().astype(float).unique()\n",
    "    mytempdata = mydata[[columnName, \"CLASS\"]].dropna()\n",
    "    mytempdata[columnName] = mytempdata[columnName].astype(float)\n",
    "    temptable = []\n",
    "\n",
    "    sumval = 0\n",
    "\n",
    "    for i in range(temp.shape[0]):\n",
    "\n",
    "        temp_i_val = str(temp[i])\n",
    "        class0_count = mytempdata.query(\n",
    "            columnName + \" == \" + (temp_i_val) + \" & CLASS == 0\"\n",
    "        ).shape[0]\n",
    "        class1_count = mytempdata.query(\n",
    "            columnName + \" == \" + (temp_i_val) + \" & CLASS == 1\"\n",
    "        ).shape[0]\n",
    "\n",
    "        sumval = sumval + (class0_count + class1_count)\n",
    "\n",
    "        temptable.append([class0_count, class1_count])\n",
    "\n",
    "    #     print(sumval,mytempdata.shape[0], mytempdata.shape[0] == sumval)\n",
    "\n",
    "    if len(temptable) > 1:\n",
    "        AllTables.append([temptable, columnName, mytempdata.shape[0]])"
   ]
  },
  {
   "cell_type": "code",
   "execution_count": null,
   "metadata": {
    "scrolled": true
   },
   "outputs": [],
   "source": [
    "# compute the statisitical values\n",
    "statas = []\n",
    "for i in range(len(AllTables)):\n",
    "    #     print(i,AllTables[i][1])\n",
    "    table = AllTables[i][0]\n",
    "    stat, p, dof, expected = chi2_contingency(table)\n",
    "    statas.append(\n",
    "        [\n",
    "            AllTables[i][1],\n",
    "            stat,\n",
    "            p,\n",
    "            dof,\n",
    "            np.sum(table),\n",
    "            AllTables[i][2],\n",
    "            AllTables[i][1],\n",
    "            table,\n",
    "            expected,\n",
    "        ]\n",
    "    )"
   ]
  },
  {
   "cell_type": "code",
   "execution_count": null,
   "metadata": {},
   "outputs": [],
   "source": [
    "# convert the computed status to dataframe\n",
    "finalstat = pd.DataFrame(\n",
    "    statas,\n",
    "    columns=[\n",
    "        \"Name\",\n",
    "        \"stat\",\n",
    "        \"p\",\n",
    "        \"dof\",\n",
    "        \"instances\",\n",
    "        \"orginal\",\n",
    "        \"Name2\",\n",
    "        \"table\",\n",
    "        \"expected\",\n",
    "    ],\n",
    ")\n",
    "finalstat = finalstat[\n",
    "    finalstat.orginal > 7000\n",
    "]  # select columns with count at least 200, 000\n",
    "\n",
    "# sort stat value and select top 20 features\n",
    "finalstat.stat = finalstat.stat.astype(int)\n",
    "finalstat = finalstat.sort_values(by=\"stat\", ascending=False)\n",
    "\n",
    "print(list(finalstat.Name[:15]))\n",
    "finalstat[[\"Name\", \"stat\", \"instances\"]].head(10)"
   ]
  },
  {
   "cell_type": "markdown",
   "metadata": {},
   "source": [
    "3 Refine the selected numerical and categorical features\n",
    "===="
   ]
  },
  {
   "cell_type": "code",
   "execution_count": null,
   "metadata": {},
   "outputs": [],
   "source": [
    "data.shape"
   ]
  },
  {
   "cell_type": "code",
   "execution_count": null,
   "metadata": {},
   "outputs": [],
   "source": [
    "# combine the selected columns list from section 2.1.2 and 2.2.1\n",
    "\n",
    "newColList = [\n",
    "    'AGE', 'SBP', 'BMI', 'DBP', 'L100400', 'L101400', 'L105200', 'fasting glucose', 'Hemoglobin', 'L100500', \n",
    "    'L101200', 'HDL-Cholesterol', 'HCT', 'S001908', 'L504700', 'RBC', 'r-GTP gamma', 'Uric Acid', 'L190000', \n",
    "    'SGPT', 'L101600', 'Cardiac risk factor', 'Triglycerides', 'L190900','FIELD_15', 'FIELD_22', \n",
    "    'Whether_one_diagnosis_disease', '_1_medication_heart_disease', '_4_1_Smoking', 'SEX', \n",
    "    'FIELD_16', 'FIELD_23', '_6_3_of_physical_activity_walking', '_2_family_history_stroke', \n",
    "    'FIELD_24', 'FIELD_17', 'blood_type', '_6_2_of_physical_activity_moderate',\n",
    "    \"CLASS\"\n",
    "]"
   ]
  },
  {
   "cell_type": "code",
   "execution_count": null,
   "metadata": {},
   "outputs": [],
   "source": [
    "# mydata = data[newColList].copy()\n",
    "# for i in mydata.columns:\n",
    "# #     if(mydata[i].dropna().shape[0] < 100000):\n",
    "#     print(i,mydata[i].dropna().shape[0])\n",
    "\n",
    "# print(mydata.dropna().shape[0])\n",
    "\n",
    "# mydata.head()"
   ]
  },
  {
   "cell_type": "code",
   "execution_count": null,
   "metadata": {},
   "outputs": [],
   "source": [
    "# filter a new data based on the selected columns\n",
    "mydata = data[newColList].copy().dropna()\n",
    "\n",
    "print(mydata.shape)\n",
    "mydata.head()\n"
   ]
  },
  {
   "cell_type": "code",
   "execution_count": null,
   "metadata": {},
   "outputs": [],
   "source": [
    "x = mydata[\n",
    "    [\n",
    "    'AGE', 'SBP', 'BMI', 'DBP', 'L100400', 'L101400', 'L105200', 'fasting glucose', 'Hemoglobin', 'L100500', \n",
    "    'L101200', 'HDL-Cholesterol', 'HCT', 'S001908', 'L504700', 'RBC', 'r-GTP gamma', 'Uric Acid', 'L190000', \n",
    "    'SGPT', 'L101600', 'Cardiac risk factor', 'Triglycerides', 'L190900','FIELD_15', 'FIELD_22', \n",
    "    'Whether_one_diagnosis_disease', '_1_medication_heart_disease', '_4_1_Smoking', 'SEX', \n",
    "    'FIELD_16', 'FIELD_23', '_6_3_of_physical_activity_walking', '_2_family_history_stroke', \n",
    "    'FIELD_24', 'FIELD_17', 'blood_type', '_6_2_of_physical_activity_moderate'\n",
    "    ]\n",
    "]\n",
    "\n",
    "\n",
    "y = mydata[[\"CLASS\"]]\n",
    "\n",
    "print(x.shape)\n",
    "mydata.head()"
   ]
  },
  {
   "cell_type": "markdown",
   "metadata": {},
   "source": [
    "3.1 ExtraTreesClassifier feature_importances method\n",
    "========================"
   ]
  },
  {
   "cell_type": "code",
   "execution_count": null,
   "metadata": {},
   "outputs": [],
   "source": [
    "from sklearn.ensemble import ExtraTreesClassifier\n",
    "import matplotlib.pyplot as plt\n",
    "\n",
    "model = ExtraTreesClassifier()\n",
    "model.fit(x, y)\n",
    "\n",
    "print(\n",
    "    model.feature_importances_\n",
    ")  # use inbuilt class feature_importances of tree based classifiers\n",
    "\n",
    "# plot graph of feature importances for better visualization\n",
    "feat_importances = pd.Series(model.feature_importances_, index=x.columns)\n",
    "feat_importances.nlargest(16).plot(kind=\"barh\")\n",
    "plt.show()\n",
    "\n",
    "print(feat_importances.nlargest(17).index)"
   ]
  },
  {
   "cell_type": "markdown",
   "metadata": {},
   "source": [
    "3.2 SelectKBest method\n",
    "========="
   ]
  },
  {
   "cell_type": "code",
   "execution_count": null,
   "metadata": {},
   "outputs": [],
   "source": [
    "from sklearn.feature_selection import f_classif\n",
    "from sklearn.feature_selection import SelectKBest\n",
    "\n",
    "bestfeatures = SelectKBest(score_func=f_classif, k=10)\n",
    "fit = bestfeatures.fit(x, y)\n",
    "\n",
    "dfscores = pd.DataFrame(fit.scores_)\n",
    "dfcolumns = pd.DataFrame(x.columns)\n",
    "\n",
    "featureScores = pd.concat([dfcolumns, dfscores], axis=1)\n",
    "featureScores.columns = [\"Specs\", \"Score\"]  # naming the dataframe columns\n",
    "\n",
    "# x=x[x.columns[:15]]\n",
    "print(list(x.columns[:20]))"
   ]
  },
  {
   "cell_type": "markdown",
   "metadata": {},
   "source": [
    "3.3 variance inflation factor \n",
    "============="
   ]
  },
  {
   "cell_type": "code",
   "execution_count": null,
   "metadata": {},
   "outputs": [],
   "source": [
    "# this function computes vif value which help us to remove columns with redundant information ( to avoid Multicollinearity)\n",
    "# Multicollinearity occurs when two or more predictors in the model are correlated and provide redundant information about the response.\n",
    "# Multicollinearity was measured by variance inflation factors (VIF) and tolerance\n",
    "\n",
    "\n",
    "def vifcal(inputdata, depcol):\n",
    "    vifL5 = []\n",
    "    import statsmodels.formula.api as sm\n",
    "\n",
    "    xvars = inputdata.drop([depcol], axis=1)\n",
    "    xvarnames = xvars.columns\n",
    "    for i in range(0, xvarnames.shape[0]):\n",
    "        _y = xvars[xvarnames[i]]\n",
    "        _x = xvars[xvarnames.drop(xvarnames[i])]\n",
    "        rsq = sm.ols(formula=\"_y~_x\", data=xvars).fit().rsquared\n",
    "        vif = round(1 / (1 - rsq), 2)\n",
    "        print(i, \", \", xvarnames[i], \" VIF = \", vif)\n",
    "        if vif < 5:\n",
    "            vifL5.append(xvarnames[i])\n",
    "    return vifL5"
   ]
  },
  {
   "cell_type": "code",
   "execution_count": null,
   "metadata": {},
   "outputs": [],
   "source": [
    "# the new columns are selcted from section 3.2\n",
    "# newcols = vifcal(mydata[['L104600', 'L103000', 'S000300', 'S000501', 'S000502', 'L101700', 'L103300', 'SEX',\n",
    "#                          'L190400', 'AGE', 'L190500', 'L100700', 'L101300', 'L190300', 'L102900', 'L103100',\n",
    "#                          'FIELD_33', 'FIELD_38', 'FIELD_40', 'FIELD_31','CLASS']],'CLASS')\n",
    "\n",
    "newcols = vifcal(\n",
    "    mydata[\n",
    "        [\n",
    "            'AGE', 'L100100', #'DBP','SBP', 'HDL-Cholesterol', \n",
    "       'Uric Acid', 'BMI', 'L100200', 'r-GTP gamma', 'fasting glucose',\n",
    "       'L101600', 'L100400', 'SGPT', 'RBC', 'Hemoglobin', 'HCT',\n",
    "        '_4_1_Smoking','SEX','Drinking_5_1_days', '_6_1_of_physical_activity_high_strength',\n",
    "            \"CLASS\",\n",
    "        ]\n",
    "    ],\n",
    "    \"CLASS\",\n",
    ")\n",
    "print(newcols, len(newcols))\n",
    "\n",
    "# we need to exclude features with vif value >5\n",
    "# L190400  ,L103300,L190500,L190300,L102900,L103100"
   ]
  },
  {
   "cell_type": "markdown",
   "metadata": {},
   "source": [
    "3.4 Final Selected Features\n",
    "======"
   ]
  },
  {
   "cell_type": "code",
   "execution_count": 394,
   "metadata": {},
   "outputs": [],
   "source": [
    "# based on the out put of section of 3.2 and 3.3 the following features are selected\n",
    "\n",
    "# finalFeatures = ['AGE', 'BMI',  'L101400', 'fasting glucose', \n",
    "#             'HDL-Cholesterol', 'HCT',   'RBC', 'r-GTP gamma', \n",
    "#             'Uric Acid', 'L190000', #'L101200', 'SGPT','SBP', 'DBP', 'L504700','S001908','L100400','L105200', 'L100500', 'Hemoglobin', \n",
    "#                  'CLASS'\n",
    "# ]\n",
    "\n",
    "# finalFeatures = ['_6_3_of_physical_activity_walking','AGE', 'BMI', 'DBP', 'L504700', 'L100400', 'SBP', 'L101400', 'L190900',\n",
    "#        'HDL-Cholesterol', 'total cholesterol', 'L103200', 'L190000', 'fasting glucose', 'SGPT', 'r-GTP gamma',\n",
    "#        'L105200', 'L101600',  'Uric Acid', 'Cardiac risk factor', 'Triglycerides',\n",
    "#                  'CLASS'\n",
    "# ]\n",
    "\n",
    "# finalFeatures = ['AGE', 'SBP', 'BMI', 'DBP', 'L101400', 'FIELD_15', 'L100400', 'L190900',\n",
    "#        'L190000', 'L105200', 'Cardiac risk factor', 'L504700', 'RBC',\n",
    "#        'HDL-Cholesterol', 'Uric Acid', 'fasting glucose', 'Triglycerides',\n",
    "#                  'CLASS'\n",
    "# ]\n",
    "\n",
    "\n",
    "# finalFeatures = ['_6_3_of_physical_activity_walking','AGE', 'BMI', 'L504700', 'L100400', 'L101400',\n",
    "#                  'L190900','HDL-Cholesterol', 'total cholesterol', 'L103200', 'L190000', 'fasting glucose', 'SGPT',                 \n",
    "#                  'r-GTP gamma','L105200', 'L101600',  'Uric Acid', 'Cardiac risk factor', 'Triglycerides',\n",
    "#                  'DBP', 'SBP', \n",
    "#                  'CLASS'\n",
    "# ]\n",
    "\n",
    "\n",
    "# finalFeatures = ['_6_3_of_physical_activity_walking','AGE', 'BMI', 'L504700', 'L100400', \n",
    "#                  'L190900','L190000', 'Uric Acid',   'DBP', 'SBP', 'SEX',\n",
    "#                  '_4_1_Smoking', 'Drinking_5_1_days', '_6_1_of_physical_activity_high_strength',\n",
    "#                  'CLASS'\n",
    "# ]\n",
    "\n",
    "finalFeatures = ['AGE', 'BMI', 'FIELD_15', 'L190900',\n",
    "                 'Cardiac risk factor', 'L504700', 'RBC',\n",
    "                 'HDL-Cholesterol', 'Uric Acid', \n",
    "                 '_4_1_Smoking', 'Drinking_5_1_days', 'SEX','Triglycerides','r-GTP gamma',\n",
    "#                  'SBP',  'DBP','fasting glucose', \n",
    "                 #'L101400', 'L100400', 'L190000', 'L105200', \n",
    "                 'CLASS'\n",
    "]\n",
    "\n",
    "\n"
   ]
  },
  {
   "cell_type": "markdown",
   "metadata": {},
   "source": [
    "Classifier Model Test Based on the features \n",
    "========"
   ]
  },
  {
   "cell_type": "code",
   "execution_count": 395,
   "metadata": {},
   "outputs": [
    {
     "name": "stdout",
     "output_type": "stream",
     "text": [
      "(6279, 15)\n"
     ]
    },
    {
     "data": {
      "text/html": [
       "<div>\n",
       "<style scoped>\n",
       "    .dataframe tbody tr th:only-of-type {\n",
       "        vertical-align: middle;\n",
       "    }\n",
       "\n",
       "    .dataframe tbody tr th {\n",
       "        vertical-align: top;\n",
       "    }\n",
       "\n",
       "    .dataframe thead th {\n",
       "        text-align: right;\n",
       "    }\n",
       "</style>\n",
       "<table border=\"1\" class=\"dataframe\">\n",
       "  <thead>\n",
       "    <tr style=\"text-align: right;\">\n",
       "      <th></th>\n",
       "      <th>AGE</th>\n",
       "      <th>BMI</th>\n",
       "      <th>FIELD_15</th>\n",
       "      <th>L190900</th>\n",
       "      <th>Cardiac risk factor</th>\n",
       "      <th>L504700</th>\n",
       "      <th>RBC</th>\n",
       "      <th>HDL-Cholesterol</th>\n",
       "      <th>Uric Acid</th>\n",
       "      <th>_4_1_Smoking</th>\n",
       "      <th>Drinking_5_1_days</th>\n",
       "      <th>SEX</th>\n",
       "      <th>Triglycerides</th>\n",
       "      <th>r-GTP gamma</th>\n",
       "      <th>CLASS</th>\n",
       "    </tr>\n",
       "  </thead>\n",
       "  <tbody>\n",
       "    <tr>\n",
       "      <th>501</th>\n",
       "      <td>46.0</td>\n",
       "      <td>25.4</td>\n",
       "      <td>0.0</td>\n",
       "      <td>13.2</td>\n",
       "      <td>4.0</td>\n",
       "      <td>3.26</td>\n",
       "      <td>4.93</td>\n",
       "      <td>54.0</td>\n",
       "      <td>5.8</td>\n",
       "      <td>2.0</td>\n",
       "      <td>4.0</td>\n",
       "      <td>0.0</td>\n",
       "      <td>88.0</td>\n",
       "      <td>43.0</td>\n",
       "      <td>1</td>\n",
       "    </tr>\n",
       "    <tr>\n",
       "      <th>633</th>\n",
       "      <td>47.0</td>\n",
       "      <td>29.2</td>\n",
       "      <td>0.0</td>\n",
       "      <td>13.9</td>\n",
       "      <td>5.4</td>\n",
       "      <td>1.48</td>\n",
       "      <td>5.25</td>\n",
       "      <td>28.0</td>\n",
       "      <td>4.1</td>\n",
       "      <td>3.0</td>\n",
       "      <td>1.0</td>\n",
       "      <td>0.0</td>\n",
       "      <td>277.0</td>\n",
       "      <td>43.0</td>\n",
       "      <td>1</td>\n",
       "    </tr>\n",
       "    <tr>\n",
       "      <th>735</th>\n",
       "      <td>48.0</td>\n",
       "      <td>21.5</td>\n",
       "      <td>0.0</td>\n",
       "      <td>13.4</td>\n",
       "      <td>3.0</td>\n",
       "      <td>0.62</td>\n",
       "      <td>4.58</td>\n",
       "      <td>72.0</td>\n",
       "      <td>4.4</td>\n",
       "      <td>1.0</td>\n",
       "      <td>3.0</td>\n",
       "      <td>1.0</td>\n",
       "      <td>94.0</td>\n",
       "      <td>33.0</td>\n",
       "      <td>1</td>\n",
       "    </tr>\n",
       "    <tr>\n",
       "      <th>1050</th>\n",
       "      <td>47.0</td>\n",
       "      <td>24.7</td>\n",
       "      <td>0.0</td>\n",
       "      <td>13.5</td>\n",
       "      <td>3.6</td>\n",
       "      <td>0.98</td>\n",
       "      <td>4.69</td>\n",
       "      <td>55.0</td>\n",
       "      <td>4.4</td>\n",
       "      <td>1.0</td>\n",
       "      <td>2.0</td>\n",
       "      <td>0.0</td>\n",
       "      <td>124.0</td>\n",
       "      <td>44.0</td>\n",
       "      <td>1</td>\n",
       "    </tr>\n",
       "    <tr>\n",
       "      <th>1759</th>\n",
       "      <td>49.0</td>\n",
       "      <td>28.4</td>\n",
       "      <td>0.0</td>\n",
       "      <td>13.1</td>\n",
       "      <td>5.3</td>\n",
       "      <td>3.70</td>\n",
       "      <td>4.71</td>\n",
       "      <td>37.0</td>\n",
       "      <td>5.5</td>\n",
       "      <td>1.0</td>\n",
       "      <td>1.0</td>\n",
       "      <td>0.0</td>\n",
       "      <td>177.0</td>\n",
       "      <td>44.0</td>\n",
       "      <td>1</td>\n",
       "    </tr>\n",
       "  </tbody>\n",
       "</table>\n",
       "</div>"
      ],
      "text/plain": [
       "       AGE   BMI  FIELD_15  L190900  Cardiac risk factor  L504700   RBC  \\\n",
       "501   46.0  25.4       0.0     13.2                  4.0     3.26  4.93   \n",
       "633   47.0  29.2       0.0     13.9                  5.4     1.48  5.25   \n",
       "735   48.0  21.5       0.0     13.4                  3.0     0.62  4.58   \n",
       "1050  47.0  24.7       0.0     13.5                  3.6     0.98  4.69   \n",
       "1759  49.0  28.4       0.0     13.1                  5.3     3.70  4.71   \n",
       "\n",
       "      HDL-Cholesterol  Uric Acid  _4_1_Smoking  Drinking_5_1_days  SEX  \\\n",
       "501              54.0        5.8           2.0                4.0  0.0   \n",
       "633              28.0        4.1           3.0                1.0  0.0   \n",
       "735              72.0        4.4           1.0                3.0  1.0   \n",
       "1050             55.0        4.4           1.0                2.0  0.0   \n",
       "1759             37.0        5.5           1.0                1.0  0.0   \n",
       "\n",
       "      Triglycerides  r-GTP gamma  CLASS  \n",
       "501            88.0         43.0      1  \n",
       "633           277.0         43.0      1  \n",
       "735            94.0         33.0      1  \n",
       "1050          124.0         44.0      1  \n",
       "1759          177.0         44.0      1  "
      ]
     },
     "execution_count": 395,
     "metadata": {},
     "output_type": "execute_result"
    }
   ],
   "source": [
    "randomseed = 7\n",
    "mydata = data[finalFeatures].copy().dropna()\n",
    "print(mydata.shape)\n",
    "mydata.head()"
   ]
  },
  {
   "cell_type": "code",
   "execution_count": 383,
   "metadata": {},
   "outputs": [
    {
     "name": "stdout",
     "output_type": "stream",
     "text": [
      "3117 3162\n"
     ]
    }
   ],
   "source": [
    "class1 = mydata[mydata.CLASS == 1]\n",
    "class0 = mydata[mydata.CLASS == 0]\n",
    "\n",
    "print(class1.shape[0],class0.shape[0],)\n",
    "\n",
    "class1_test = class1.sample(200, random_state=42)\n",
    "class0_test = class0.sample(200, random_state=42)\n",
    "test = pd.concat([class1_test, class0_test])\n",
    "test=shuffle(test)\n",
    "\n",
    "\n",
    "class1_train = class1.drop(class1_test.index) #.sample( class2_train.shape[0], random_state=randomseed)\n",
    "class0_train = class0.drop(class0_test.index) #.sample( class2_train.shape[0], random_state=randomseed)\n",
    "train = pd.concat([class1_train, class0_train])\n",
    "train=shuffle(train, random_state=42)"
   ]
  },
  {
   "cell_type": "code",
   "execution_count": 384,
   "metadata": {},
   "outputs": [],
   "source": [
    "# # generate synthetic dataset to overcome class imbalance\n",
    "# from collections import Counter\n",
    "# from numpy.random import RandomState\n",
    "# from sklearn.datasets import make_classification\n",
    "# from imblearn.over_sampling import SMOTENC\n",
    "\n",
    "# sm = SMOTENC(random_state=42, categorical_features=[0],k_neighbors=10,sampling_strategy = 0.9)\n",
    "# X_res, y_res = sm.fit_resample(train.iloc[:,:-1],train.iloc[:,-1])\n",
    "# print(\"Resampled dataset samples per class {}\".format(Counter(y_res)))\n",
    "\n",
    "# train=pd.DataFrame(X_res,columns=list(train.columns[:-1]))\n",
    "# train['CLASS']=y_res"
   ]
  },
  {
   "cell_type": "code",
   "execution_count": 385,
   "metadata": {},
   "outputs": [
    {
     "data": {
      "text/plain": [
       "RandomForestClassifier(bootstrap=True, class_weight=None, criterion='gini',\n",
       "                       max_depth=10, max_features='auto', max_leaf_nodes=None,\n",
       "                       min_impurity_decrease=0.0, min_impurity_split=None,\n",
       "                       min_samples_leaf=1, min_samples_split=2,\n",
       "                       min_weight_fraction_leaf=0.0, n_estimators=1000,\n",
       "                       n_jobs=None, oob_score=False, random_state=42, verbose=0,\n",
       "                       warm_start=False)"
      ]
     },
     "execution_count": 385,
     "metadata": {},
     "output_type": "execute_result"
    }
   ],
   "source": [
    "from sklearn.ensemble import RandomForestClassifier\n",
    "rf = RandomForestClassifier(random_state=42, n_estimators=1000, max_depth=10, criterion='gini')\n",
    "rf.fit(train.iloc[:, :-1], train.iloc[:, -1])"
   ]
  },
  {
   "cell_type": "code",
   "execution_count": 386,
   "metadata": {},
   "outputs": [
    {
     "name": "stdout",
     "output_type": "stream",
     "text": [
      "0.74\n"
     ]
    },
    {
     "data": {
      "image/png": "[encoded data removed]",
      "text/plain": [
       "<Figure size 432x288 with 1 Axes>"
      ]
     },
     "metadata": {
      "needs_background": "light"
     },
     "output_type": "display_data"
    },
    {
     "name": "stdout",
     "output_type": "stream",
     "text": [
      "Index(['AGE', 'BMI', 'L504700', 'r-GTP gamma', 'RBC', 'L190900',\n",
      "       'Triglycerides', 'Uric Acid', 'HDL-Cholesterol', 'Cardiac risk factor',\n",
      "       'FIELD_15', 'Drinking_5_1_days', '_4_1_Smoking', 'SEX'],\n",
      "      dtype='object')\n",
      "1.0\n"
     ]
    }
   ],
   "source": [
    "ypred = rf.predict(test.iloc[:, :-1])\n",
    "\n",
    "score = rf.score(test.iloc[:, :-1], test.iloc[:, -1])\n",
    "print(score)\n",
    "\n",
    "feat_importances = pd.Series(rf.feature_importances_, index=test.iloc[:, :-1].columns)\n",
    "feat_importances.nlargest(16).plot(kind=\"barh\")\n",
    "plt.show()\n",
    "\n",
    "print(feat_importances.nlargest(16).index)\n",
    "\n",
    "print(np.sum(feat_importances.nlargest(16)))"
   ]
  },
  {
   "cell_type": "code",
   "execution_count": 387,
   "metadata": {},
   "outputs": [
    {
     "data": {
      "text/plain": [
       "array([[151,  49],\n",
       "       [ 55, 145]], dtype=int64)"
      ]
     },
     "execution_count": 387,
     "metadata": {},
     "output_type": "execute_result"
    }
   ],
   "source": [
    "from sklearn.metrics import confusion_matrix\n",
    "\n",
    "confusion_matrix(test.iloc[:, -1], ypred)"
   ]
  },
  {
   "cell_type": "code",
   "execution_count": 388,
   "metadata": {},
   "outputs": [
    {
     "name": "stdout",
     "output_type": "stream",
     "text": [
      "Accuracy on training set: 0.838\n",
      "Accuracy on test set: 0.740\n"
     ]
    },
    {
     "data": {
      "text/html": [
       "<div>\n",
       "<style scoped>\n",
       "    .dataframe tbody tr th:only-of-type {\n",
       "        vertical-align: middle;\n",
       "    }\n",
       "\n",
       "    .dataframe tbody tr th {\n",
       "        vertical-align: top;\n",
       "    }\n",
       "\n",
       "    .dataframe thead th {\n",
       "        text-align: right;\n",
       "    }\n",
       "</style>\n",
       "<table border=\"1\" class=\"dataframe\">\n",
       "  <thead>\n",
       "    <tr style=\"text-align: right;\">\n",
       "      <th></th>\n",
       "      <th>0</th>\n",
       "      <th>1</th>\n",
       "    </tr>\n",
       "  </thead>\n",
       "  <tbody>\n",
       "    <tr>\n",
       "      <th>0</th>\n",
       "      <td>151</td>\n",
       "      <td>49</td>\n",
       "    </tr>\n",
       "    <tr>\n",
       "      <th>1</th>\n",
       "      <td>55</td>\n",
       "      <td>145</td>\n",
       "    </tr>\n",
       "  </tbody>\n",
       "</table>\n",
       "</div>"
      ],
      "text/plain": [
       "     0    1\n",
       "0  151   49\n",
       "1   55  145"
      ]
     },
     "execution_count": 388,
     "metadata": {},
     "output_type": "execute_result"
    }
   ],
   "source": [
    "print(\n",
    "    \"Accuracy on training set: {:.3f}\".format(\n",
    "        rf.score(train.iloc[:, :-1], train.iloc[:, -1])\n",
    "    )\n",
    ")\n",
    "print(\n",
    "    \"Accuracy on test set: {:.3f}\".format(rf.score(test.iloc[:, :-1], test.iloc[:, -1]))\n",
    ")\n",
    "ypred = rf.predict(test.iloc[:, :-1])\n",
    "\n",
    "confmatrx = pd.DataFrame(confusion_matrix(test.iloc[:, -1], ypred))\n",
    "confmatrx.head()"
   ]
  },
  {
   "cell_type": "code",
   "execution_count": 389,
   "metadata": {},
   "outputs": [
    {
     "name": "stdout",
     "output_type": "stream",
     "text": [
      "              precision    recall  f1-score   support\n",
      "\n",
      "           0       0.73      0.76      0.74       200\n",
      "           1       0.75      0.72      0.74       200\n",
      "\n",
      "    accuracy                           0.74       400\n",
      "   macro avg       0.74      0.74      0.74       400\n",
      "weighted avg       0.74      0.74      0.74       400\n",
      "\n"
     ]
    }
   ],
   "source": [
    "from sklearn.metrics import classification_report\n",
    "\n",
    "print(classification_report(test.iloc[:, -1], ypred))"
   ]
  },
  {
   "cell_type": "code",
   "execution_count": 390,
   "metadata": {},
   "outputs": [],
   "source": [
    "# train.to_csv('train.csv',sep=',')\n",
    "# test.to_csv('test.csv',sep=',')\n",
    "# mydata.to_csv('mydata_train_test.csv',sep=',',index=False)"
   ]
  },
  {
   "cell_type": "code",
   "execution_count": 391,
   "metadata": {},
   "outputs": [],
   "source": [
    "# mydata2 = data[['FIELD_1','FIELD_2','AGE', 'BMI', 'L101400', 'FIELD_15', 'L100400', 'L190900',\n",
    "#                  'L190000', 'L105200', 'Cardiac risk factor', 'L504700', 'RBC',\n",
    "#                  'HDL-Cholesterol', 'Uric Acid', 'fasting glucose', 'Triglycerides',\n",
    "#                  'SBP',  'DBP',\n",
    "#                  'CLASS'\n",
    "# ]].copy().dropna()\n",
    "# mydata2.to_csv('mydata_train_test.csv',sep=',',index=False)"
   ]
  },
  {
   "cell_type": "code",
   "execution_count": 392,
   "metadata": {},
   "outputs": [
    {
     "name": "stdout",
     "output_type": "stream",
     "text": [
      "Accuracy on training set: 0.707\n",
      "Accuracy on test set: 0.750\n"
     ]
    },
    {
     "data": {
      "text/html": [
       "<div>\n",
       "<style scoped>\n",
       "    .dataframe tbody tr th:only-of-type {\n",
       "        vertical-align: middle;\n",
       "    }\n",
       "\n",
       "    .dataframe tbody tr th {\n",
       "        vertical-align: top;\n",
       "    }\n",
       "\n",
       "    .dataframe thead th {\n",
       "        text-align: right;\n",
       "    }\n",
       "</style>\n",
       "<table border=\"1\" class=\"dataframe\">\n",
       "  <thead>\n",
       "    <tr style=\"text-align: right;\">\n",
       "      <th></th>\n",
       "      <th>0</th>\n",
       "      <th>1</th>\n",
       "    </tr>\n",
       "  </thead>\n",
       "  <tbody>\n",
       "    <tr>\n",
       "      <th>0</th>\n",
       "      <td>154</td>\n",
       "      <td>46</td>\n",
       "    </tr>\n",
       "    <tr>\n",
       "      <th>1</th>\n",
       "      <td>54</td>\n",
       "      <td>146</td>\n",
       "    </tr>\n",
       "  </tbody>\n",
       "</table>\n",
       "</div>"
      ],
      "text/plain": [
       "     0    1\n",
       "0  154   46\n",
       "1   54  146"
      ]
     },
     "execution_count": 392,
     "metadata": {},
     "output_type": "execute_result"
    }
   ],
   "source": [
    "import xgboost as xgb\n",
    "from sklearn import metrics as m\n",
    "\n",
    "xgb_model = xgb.XGBClassifier(objective=\"binary:logistic\", random_state=randomseed)\n",
    "\n",
    "xgb_model.fit(train.iloc[:, :-1], train.iloc[:, -1])\n",
    "\n",
    "y_pred = xgb_model.predict((test.iloc[:, :-1]))\n",
    "\n",
    "print(\n",
    "    \"Accuracy on training set: {:.3f}\".format(\n",
    "        xgb_model.score(train.iloc[:, :-1], train.iloc[:, -1])\n",
    "    )\n",
    ")\n",
    "print(\n",
    "    \"Accuracy on test set: {:.3f}\".format(xgb_model.score(test.iloc[:, :-1], test.iloc[:, -1]))\n",
    ")\n",
    "confmatrx = pd.DataFrame(confusion_matrix(test.iloc[:, -1], y_pred))\n",
    "confmatrx.head()"
   ]
  },
  {
   "cell_type": "code",
   "execution_count": 393,
   "metadata": {},
   "outputs": [
    {
     "name": "stdout",
     "output_type": "stream",
     "text": [
      "              precision    recall  f1-score   support\n",
      "\n",
      "           0       0.74      0.77      0.75       200\n",
      "           1       0.76      0.73      0.74       200\n",
      "\n",
      "    accuracy                           0.75       400\n",
      "   macro avg       0.75      0.75      0.75       400\n",
      "weighted avg       0.75      0.75      0.75       400\n",
      "\n"
     ]
    }
   ],
   "source": [
    "print(classification_report(test.iloc[:, -1], y_pred))"
   ]
  },
  {
   "cell_type": "code",
   "execution_count": null,
   "metadata": {},
   "outputs": [],
   "source": [
    "# train.to_csv('datasets/classification/train.txt',sep=',')\n",
    "# test.to_csv('datasets/classification/test.txt',sep=',')"
   ]
  },
  {
   "cell_type": "code",
   "execution_count": null,
   "metadata": {},
   "outputs": [],
   "source": [
    "# from sklearn.svm import SVC\n",
    "# clf = SVC(gamma='auto')\n",
    "# clf.fit(train.iloc[:, :-1], train.iloc[:, -1])\n"
   ]
  },
  {
   "cell_type": "code",
   "execution_count": null,
   "metadata": {},
   "outputs": [],
   "source": [
    "# ypred=clf.predict((test.iloc[:, :-1]))\n",
    "\n",
    "# print(\n",
    "#     \"Accuracy on training set: {:.3f}\".format(\n",
    "#         clf.score(train.iloc[:, :-1], train.iloc[:, -1])\n",
    "#     )\n",
    "# )\n",
    "# print(\n",
    "#     \"Accuracy on test set: {:.3f}\".format(clf.score(test.iloc[:, :-1], test.iloc[:, -1]))\n",
    "# )\n",
    "\n",
    "# confmatrx = pd.DataFrame(confusion_matrix(test.iloc[:, -1], y_pred))\n",
    "# confmatrx.head()"
   ]
  },
  {
   "cell_type": "code",
   "execution_count": null,
   "metadata": {},
   "outputs": [],
   "source": [
    "# print(classification_report(test.iloc[:, -1], ypred))"
   ]
  },
  {
   "cell_type": "markdown",
   "metadata": {},
   "source": [
    "===============================\n",
    "=========="
   ]
  },
  {
   "cell_type": "code",
   "execution_count": null,
   "metadata": {},
   "outputs": [],
   "source": [
    "\n",
    "from tensorflow.python.keras import backend as k\n",
    "from tensorflow.keras.layers import Dropout\n",
    "from tensorflow.keras.layers import BatchNormalization\n",
    "from tensorflow.keras.models import model_from_json\n",
    "from tensorflow.keras.utils import multi_gpu_model \n",
    "from tensorflow.keras.utils import to_categorical\n",
    "\n",
    "# from keras.models import Sequential\n",
    "from tensorflow.keras.models import Sequential\n",
    "\n",
    "from tensorflow.keras.layers import Dense\n",
    "from tensorflow.keras.wrappers.scikit_learn import KerasRegressor"
   ]
  },
  {
   "cell_type": "code",
   "execution_count": null,
   "metadata": {},
   "outputs": [],
   "source": [
    "model= Sequential()\n",
    "model.add(Dense(input_dim=21,units=512,activation='relu', kernel_initializer='uniform'))\n",
    "model.add(Dense(units=512, activation='relu', kernel_initializer='uniform')) \n",
    "model.add(BatchNormalization())\n",
    "model.add(Dropout(0.25))  \n",
    "model.add(Dense(units=128, activation='relu', kernel_initializer='uniform'))\n",
    "model.add(Dense(units=128, activation='relu', kernel_initializer='uniform')) \n",
    "model.add(BatchNormalization())\n",
    "model.add(Dropout(0.25))   \n",
    "model.add(Dense(units=64, activation='relu', kernel_initializer='uniform'))\n",
    "model.add(Dense(units=64, activation='relu', kernel_initializer='uniform')) \n",
    "model.add(BatchNormalization())\n",
    "model.add(Dropout(0.25))   \n",
    "model.add(Dense(units=32, activation='relu', kernel_initializer='uniform'))\n",
    "model.add(Dense(units=32, activation='relu', kernel_initializer='uniform')) \n",
    "model.add(BatchNormalization())\n",
    "model.add(Dropout(0.25))  \n",
    "model.add(Dense(units=16, activation='relu', kernel_initializer='uniform'))\n",
    "model.add(BatchNormalization())\n",
    "model.add(Dropout(0.25))  \n",
    "model.add(Dense(units=8, activation='relu', kernel_initializer='uniform'))\n",
    "model.add(Dense(units=1, activation='softmax', kernel_initializer='uniform'))\n",
    "model.compile(loss='binary_crossentropy', optimizer='adam', metrics=['accuracy' ])"
   ]
  },
  {
   "cell_type": "code",
   "execution_count": null,
   "metadata": {},
   "outputs": [],
   "source": [
    "h=model.fit(train.iloc[:, :-1], train.iloc[:, -1], validation_split=.3,epochs=100, batch_size=200)"
   ]
  },
  {
   "cell_type": "code",
   "execution_count": null,
   "metadata": {},
   "outputs": [],
   "source": [
    "history=h\n",
    "# summarize history for accuracy\n",
    "plt.plot(history.history['accuracy'])\n",
    "plt.plot(history.history['val_accuracy'])\n",
    "plt.title('model accuracy')\n",
    "plt.ylabel('accuracy')\n",
    "plt.xlabel('epoch')\n",
    "plt.legend(['train', 'test'], loc='upper left')\n",
    "plt.show()\n",
    "# summarize history for loss\n",
    "plt.plot(history.history['loss'])\n",
    "plt.plot(history.history['val_loss'])\n",
    "plt.title('model loss')\n",
    "plt.ylabel('loss')\n",
    "plt.xlabel('epoch')\n",
    "plt.legend(['train', 'test'], loc='upper left')\n",
    "plt.show()"
   ]
  },
  {
   "cell_type": "code",
   "execution_count": null,
   "metadata": {},
   "outputs": [],
   "source": []
  }
 ],
 "metadata": {
  "kernelspec": {
   "display_name": "Python 3",
   "language": "python",
   "name": "python3"
  },
  "language_info": {
   "codemirror_mode": {
    "name": "ipython",
    "version": 3
   },
   "file_extension": ".py",
   "mimetype": "text/x-python",
   "name": "python",
   "nbconvert_exporter": "python",
   "pygments_lexer": "ipython3",
   "version": "3.7.3"
  }
 },
 "nbformat": 4,
 "nbformat_minor": 2
}

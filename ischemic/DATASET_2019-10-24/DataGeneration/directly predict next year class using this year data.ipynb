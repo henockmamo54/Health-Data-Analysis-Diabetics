{
 "cells": [
  {
   "cell_type": "code",
   "execution_count": 71,
   "metadata": {},
   "outputs": [],
   "source": [
    "# %load_ext nb_black\n",
    "import numpy as np\n",
    "import pandas as pd\n",
    "import warnings\n",
    "from sklearn.model_selection import train_test_split\n",
    "from sklearn.ensemble import RandomForestRegressor\n",
    "from sklearn import metrics as m\n",
    "import xgboost as xgb\n",
    "import seaborn as sns\n",
    "warnings.filterwarnings(\"ignore\")\n",
    "random_seed = 8\n",
    "from matplotlib import pyplot as plt"
   ]
  },
  {
   "cell_type": "code",
   "execution_count": 49,
   "metadata": {},
   "outputs": [],
   "source": [
    "cols=['Unnamed: 0','FIELD_1','FIELD_2','AGE','SEX','FIELD_15','FIELD_38', 'FIELD_33', 'L100700','S000300', \n",
    "'L101700','L100800','L103300', 'L103100','L190900','L504700', \n",
    "'L190300', 'L103000']"
   ]
  },
  {
   "cell_type": "code",
   "execution_count": 50,
   "metadata": {},
   "outputs": [],
   "source": [
    "newdata=pd.read_csv('../DATASET_2019-10-24_light.txt')[['FIELD_1','FIELD_2','CLASS']]"
   ]
  },
  {
   "cell_type": "code",
   "execution_count": 51,
   "metadata": {},
   "outputs": [],
   "source": [
    "x_original=pd.read_csv('../_XLable_forischemic.txt').drop(columns=['CLASS'])[cols]\n",
    "y_original=pd.read_csv('../_TargetLable_forischemic.txt').drop(columns=['CLASS'])[cols]"
   ]
  },
  {
   "cell_type": "code",
   "execution_count": 52,
   "metadata": {},
   "outputs": [
    {
     "data": {
      "text/plain": [
       "(193691, 19)"
      ]
     },
     "execution_count": 52,
     "metadata": {},
     "output_type": "execute_result"
    }
   ],
   "source": [
    "x_original=pd.merge(x_original,newdata,how='inner', left_on=['FIELD_1','FIELD_2'], right_on=['FIELD_1','FIELD_2'])\n",
    "x_original.shape"
   ]
  },
  {
   "cell_type": "code",
   "execution_count": 53,
   "metadata": {},
   "outputs": [
    {
     "data": {
      "text/plain": [
       "(193691, 19)"
      ]
     },
     "execution_count": 53,
     "metadata": {},
     "output_type": "execute_result"
    }
   ],
   "source": [
    "y_original=pd.merge(y_original,newdata,how='inner', left_on=['FIELD_1','FIELD_2'], right_on=['FIELD_1','FIELD_2'])\n",
    "y_original.shape"
   ]
  },
  {
   "cell_type": "code",
   "execution_count": 82,
   "metadata": {},
   "outputs": [
    {
     "data": {
      "text/plain": [
       "(120357, 37)"
      ]
     },
     "execution_count": 82,
     "metadata": {},
     "output_type": "execute_result"
    }
   ],
   "source": [
    "data = pd.merge(\n",
    "    x_original, y_original, how=\"inner\", left_on=\"Unnamed: 0\", right_on=\"Unnamed: 0\"\n",
    ").dropna()\n",
    "data.shape"
   ]
  },
  {
   "cell_type": "code",
   "execution_count": 83,
   "metadata": {},
   "outputs": [],
   "source": [
    "cols=['AGE','SEX','FIELD_15','FIELD_38', 'FIELD_33', 'L100700','S000300', \n",
    "'L101700','L100800','L103300', 'L103100','L190900','L504700', \n",
    "'L190300', 'L103000']"
   ]
  },
  {
   "cell_type": "code",
   "execution_count": 84,
   "metadata": {},
   "outputs": [],
   "source": [
    "xcols=[]\n",
    "ycols=[]\n",
    "\n",
    "for i in cols:\n",
    "    xcols.append (i+'_x')\n",
    "#     ycols.append (i+'_y')"
   ]
  },
  {
   "cell_type": "code",
   "execution_count": 100,
   "metadata": {},
   "outputs": [
    {
     "name": "stdout",
     "output_type": "stream",
     "text": [
      "(654, 37)\n"
     ]
    },
    {
     "data": {
      "text/plain": [
       "CLASS_y\n",
       "0    327\n",
       "1    327\n",
       "dtype: int64"
      ]
     },
     "execution_count": 100,
     "metadata": {},
     "output_type": "execute_result"
    }
   ],
   "source": [
    "maindata=data.copy()\n",
    "\n",
    "class0=maindata[maindata.CLASS_y==0]\n",
    "class1=maindata[maindata.CLASS_y==1]\n",
    "\n",
    "class0=class0.sample(class1.shape[0],random_state=42)\n",
    "\n",
    "data=pd.concat([class1,class0])\n",
    "\n",
    "print(data.shape)\n",
    "\n",
    "data.groupby(by='CLASS_y').size()"
   ]
  },
  {
   "cell_type": "code",
   "execution_count": 102,
   "metadata": {},
   "outputs": [
    {
     "name": "stdout",
     "output_type": "stream",
     "text": [
      "(554, 15) (100, 15) (554, 1) (100, 1)\n"
     ]
    }
   ],
   "source": [
    "# x = data[xcols]\n",
    "# y = data[['CLASS_y']]\n",
    "# xtrain, xtest, ytrain, ytest = train_test_split(x, y, random_state=42, test_size=0.3)\n",
    "\n",
    "\n",
    "test=pd.concat([data[data.CLASS_y==0].sample(50,random_state=42),\n",
    "               data[data.CLASS_y==1].sample(50,random_state=42)])           \n",
    "train=data.drop(test.index)\n",
    "\n",
    "xtrain=train[xcols] \n",
    "xtest=test[xcols] \n",
    "ytrain=train[['CLASS_y']]  \n",
    "ytest=test[['CLASS_y']]  \n",
    "\n",
    "print(xtrain.shape,xtest.shape,ytrain.shape,ytest.shape)"
   ]
  },
  {
   "cell_type": "code",
   "execution_count": 103,
   "metadata": {},
   "outputs": [
    {
     "data": {
      "text/plain": [
       "RandomForestClassifier(bootstrap=True, class_weight=None, criterion='gini',\n",
       "                       max_depth=10, max_features=8, max_leaf_nodes=None,\n",
       "                       min_impurity_decrease=0.0, min_impurity_split=None,\n",
       "                       min_samples_leaf=10, min_samples_split=2,\n",
       "                       min_weight_fraction_leaf=0.0, n_estimators=1000,\n",
       "                       n_jobs=None, oob_score=False, random_state=42, verbose=0,\n",
       "                       warm_start=False)"
      ]
     },
     "execution_count": 103,
     "metadata": {},
     "output_type": "execute_result"
    }
   ],
   "source": [
    "from sklearn.ensemble import RandomForestClassifier\n",
    "\n",
    "rf = RandomForestClassifier(\n",
    "    random_state=42,\n",
    "    n_estimators=1000,\n",
    "    max_depth=10,\n",
    "    min_samples_split=2,\n",
    "    min_samples_leaf=10,\n",
    "    max_features=8,\n",
    ")\n",
    "rf.fit(xtrain, ytrain)"
   ]
  },
  {
   "cell_type": "code",
   "execution_count": 104,
   "metadata": {},
   "outputs": [
    {
     "name": "stdout",
     "output_type": "stream",
     "text": [
      "0.54\n"
     ]
    },
    {
     "data": {
      "image/png": "[encoded data removed]",
      "text/plain": [
       "<Figure size 432x288 with 1 Axes>"
      ]
     },
     "metadata": {
      "needs_background": "light"
     },
     "output_type": "display_data"
    },
    {
     "name": "stdout",
     "output_type": "stream",
     "text": [
      "Index(['AGE_x', 'S000300_x', 'L504700_x', 'L103000_x', 'L101700_x',\n",
      "       'L103100_x', 'L100700_x', 'L190900_x', 'L190300_x', 'L100800_x',\n",
      "       'L103300_x', 'FIELD_38_x', 'FIELD_33_x', 'FIELD_15_x', 'SEX_x'],\n",
      "      dtype='object')\n",
      "1.0\n"
     ]
    }
   ],
   "source": [
    "ypred = rf.predict(xtest)\n",
    "\n",
    "score = rf.score(xtest, ytest)\n",
    "print(score)\n",
    "\n",
    "feat_importances = pd.Series(rf.feature_importances_, index=xtest.columns)\n",
    "feat_importances.nlargest(16).plot(kind=\"barh\")\n",
    "plt.show()\n",
    "\n",
    "print(feat_importances.nlargest(16).index)\n",
    "\n",
    "print(np.sum(feat_importances.nlargest(16)))"
   ]
  },
  {
   "cell_type": "code",
   "execution_count": 105,
   "metadata": {},
   "outputs": [
    {
     "data": {
      "text/plain": [
       "array([[25, 25],\n",
       "       [21, 29]], dtype=int64)"
      ]
     },
     "execution_count": 105,
     "metadata": {},
     "output_type": "execute_result"
    }
   ],
   "source": [
    "from sklearn.metrics import confusion_matrix\n",
    "\n",
    "confusion_matrix(ytest, ypred)"
   ]
  },
  {
   "cell_type": "code",
   "execution_count": null,
   "metadata": {},
   "outputs": [],
   "source": []
  }
 ],
 "metadata": {
  "kernelspec": {
   "display_name": "Python 3",
   "language": "python",
   "name": "python3"
  },
  "language_info": {
   "codemirror_mode": {
    "name": "ipython",
    "version": 3
   },
   "file_extension": ".py",
   "mimetype": "text/x-python",
   "name": "python",
   "nbconvert_exporter": "python",
   "pygments_lexer": "ipython3",
   "version": "3.7.3"
  }
 },
 "nbformat": 4,
 "nbformat_minor": 2
}

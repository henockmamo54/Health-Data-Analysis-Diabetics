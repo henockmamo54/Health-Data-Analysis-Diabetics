{
 "cells": [
  {
   "cell_type": "code",
   "execution_count": 1,
   "metadata": {},
   "outputs": [
    {
     "name": "stderr",
     "output_type": "stream",
     "text": [
      "Using TensorFlow backend.\n"
     ]
    }
   ],
   "source": [
    "# %load_ext nb_black\n",
    "\n",
    "import pandas as pd\n",
    "import numpy as np\n",
    "import warnings\n",
    "from matplotlib import pyplot as plt\n",
    "from sklearn import metrics as m\n",
    "from sklearn.datasets import make_classification\n",
    "from imblearn.over_sampling import SMOTE  # doctest: +NORMALIZE_WHITESPACE\n",
    "from sklearn.metrics import confusion_matrix\n",
    "from sklearn.metrics import classification_report\n",
    "from sklearn.model_selection import train_test_split\n",
    "from collections import Counter\n",
    "\n",
    "warnings.filterwarnings(\"ignore\")\n",
    "randomseed = 7"
   ]
  },
  {
   "cell_type": "code",
   "execution_count": 2,
   "metadata": {},
   "outputs": [
    {
     "name": "stdout",
     "output_type": "stream",
     "text": [
      "(1680, 18)\n",
      "CLASS\n",
      "0    1131\n",
      "1     549\n",
      "dtype: int64\n"
     ]
    },
    {
     "data": {
      "text/html": [
       "<div>\n",
       "<style scoped>\n",
       "    .dataframe tbody tr th:only-of-type {\n",
       "        vertical-align: middle;\n",
       "    }\n",
       "\n",
       "    .dataframe tbody tr th {\n",
       "        vertical-align: top;\n",
       "    }\n",
       "\n",
       "    .dataframe thead th {\n",
       "        text-align: right;\n",
       "    }\n",
       "</style>\n",
       "<table border=\"1\" class=\"dataframe\">\n",
       "  <thead>\n",
       "    <tr style=\"text-align: right;\">\n",
       "      <th></th>\n",
       "      <th>Unnamed: 0</th>\n",
       "      <th>FIELD_1</th>\n",
       "      <th>FIELD_2</th>\n",
       "      <th>L100700</th>\n",
       "      <th>S000300</th>\n",
       "      <th>L101700</th>\n",
       "      <th>L103300</th>\n",
       "      <th>L103100</th>\n",
       "      <th>L190900</th>\n",
       "      <th>L504700</th>\n",
       "      <th>L190300</th>\n",
       "      <th>L103000</th>\n",
       "      <th>FIELD_15</th>\n",
       "      <th>FIELD_38</th>\n",
       "      <th>FIELD_33</th>\n",
       "      <th>SEX</th>\n",
       "      <th>AGE</th>\n",
       "      <th>CLASS</th>\n",
       "    </tr>\n",
       "  </thead>\n",
       "  <tbody>\n",
       "    <tr>\n",
       "      <th>0</th>\n",
       "      <td>0</td>\n",
       "      <td>123111</td>\n",
       "      <td>20140729</td>\n",
       "      <td>4.2</td>\n",
       "      <td>18.9</td>\n",
       "      <td>13.0</td>\n",
       "      <td>2.3</td>\n",
       "      <td>75.0</td>\n",
       "      <td>13.0</td>\n",
       "      <td>0.86</td>\n",
       "      <td>4.45</td>\n",
       "      <td>64.0</td>\n",
       "      <td>0.0</td>\n",
       "      <td>2.0</td>\n",
       "      <td>1.0</td>\n",
       "      <td>1.0</td>\n",
       "      <td>25.0</td>\n",
       "      <td>1</td>\n",
       "    </tr>\n",
       "    <tr>\n",
       "      <th>1</th>\n",
       "      <td>1</td>\n",
       "      <td>247895</td>\n",
       "      <td>20150729</td>\n",
       "      <td>6.1</td>\n",
       "      <td>23.5</td>\n",
       "      <td>26.0</td>\n",
       "      <td>4.6</td>\n",
       "      <td>43.0</td>\n",
       "      <td>12.7</td>\n",
       "      <td>0.60</td>\n",
       "      <td>4.50</td>\n",
       "      <td>114.0</td>\n",
       "      <td>0.0</td>\n",
       "      <td>1.0</td>\n",
       "      <td>3.0</td>\n",
       "      <td>0.0</td>\n",
       "      <td>29.0</td>\n",
       "      <td>1</td>\n",
       "    </tr>\n",
       "    <tr>\n",
       "      <th>2</th>\n",
       "      <td>2</td>\n",
       "      <td>273354</td>\n",
       "      <td>20141111</td>\n",
       "      <td>4.1</td>\n",
       "      <td>18.6</td>\n",
       "      <td>29.0</td>\n",
       "      <td>2.1</td>\n",
       "      <td>89.0</td>\n",
       "      <td>12.9</td>\n",
       "      <td>1.00</td>\n",
       "      <td>4.51</td>\n",
       "      <td>76.0</td>\n",
       "      <td>0.0</td>\n",
       "      <td>3.0</td>\n",
       "      <td>3.0</td>\n",
       "      <td>1.0</td>\n",
       "      <td>29.0</td>\n",
       "      <td>1</td>\n",
       "    </tr>\n",
       "    <tr>\n",
       "      <th>3</th>\n",
       "      <td>3</td>\n",
       "      <td>273354</td>\n",
       "      <td>20151215</td>\n",
       "      <td>4.0</td>\n",
       "      <td>19.7</td>\n",
       "      <td>43.0</td>\n",
       "      <td>1.9</td>\n",
       "      <td>105.0</td>\n",
       "      <td>13.6</td>\n",
       "      <td>0.70</td>\n",
       "      <td>4.48</td>\n",
       "      <td>34.0</td>\n",
       "      <td>0.0</td>\n",
       "      <td>5.0</td>\n",
       "      <td>3.0</td>\n",
       "      <td>1.0</td>\n",
       "      <td>30.0</td>\n",
       "      <td>1</td>\n",
       "    </tr>\n",
       "    <tr>\n",
       "      <th>4</th>\n",
       "      <td>4</td>\n",
       "      <td>299264</td>\n",
       "      <td>20150729</td>\n",
       "      <td>6.9</td>\n",
       "      <td>29.4</td>\n",
       "      <td>87.0</td>\n",
       "      <td>6.1</td>\n",
       "      <td>35.0</td>\n",
       "      <td>13.1</td>\n",
       "      <td>2.90</td>\n",
       "      <td>5.31</td>\n",
       "      <td>242.0</td>\n",
       "      <td>0.0</td>\n",
       "      <td>1.0</td>\n",
       "      <td>1.0</td>\n",
       "      <td>0.0</td>\n",
       "      <td>30.0</td>\n",
       "      <td>1</td>\n",
       "    </tr>\n",
       "  </tbody>\n",
       "</table>\n",
       "</div>"
      ],
      "text/plain": [
       "   Unnamed: 0  FIELD_1   FIELD_2  L100700  S000300  L101700  L103300  L103100  \\\n",
       "0           0   123111  20140729      4.2     18.9     13.0      2.3     75.0   \n",
       "1           1   247895  20150729      6.1     23.5     26.0      4.6     43.0   \n",
       "2           2   273354  20141111      4.1     18.6     29.0      2.1     89.0   \n",
       "3           3   273354  20151215      4.0     19.7     43.0      1.9    105.0   \n",
       "4           4   299264  20150729      6.9     29.4     87.0      6.1     35.0   \n",
       "\n",
       "   L190900  L504700  L190300  L103000  FIELD_15  FIELD_38  FIELD_33  SEX  \\\n",
       "0     13.0     0.86     4.45     64.0       0.0       2.0       1.0  1.0   \n",
       "1     12.7     0.60     4.50    114.0       0.0       1.0       3.0  0.0   \n",
       "2     12.9     1.00     4.51     76.0       0.0       3.0       3.0  1.0   \n",
       "3     13.6     0.70     4.48     34.0       0.0       5.0       3.0  1.0   \n",
       "4     13.1     2.90     5.31    242.0       0.0       1.0       1.0  0.0   \n",
       "\n",
       "    AGE  CLASS  \n",
       "0  25.0      1  \n",
       "1  29.0      1  \n",
       "2  29.0      1  \n",
       "3  30.0      1  \n",
       "4  30.0      1  "
      ]
     },
     "execution_count": 2,
     "metadata": {},
     "output_type": "execute_result"
    }
   ],
   "source": [
    "data1 = pd.read_csv(\"NextYearData_actualData_train.txt\")\n",
    "data2 = pd.read_csv(\"ThisYearData_actualData_train.txt\")\n",
    "data3 = pd.read_csv(\"ThisYearData_actualData_test.txt\")\n",
    "\n",
    "data4 = pd.read_csv(\"NextYearData_actualData_test.txt\")\n",
    "\n",
    "data5 = pd.read_csv(\"Predicted_NextYearData.txt\")\n",
    "\n",
    "data = pd.concat([data1, data2, data3])\n",
    "\n",
    "print(data.shape)\n",
    "print(data.groupby(by='CLASS').size())\n",
    "data.head()"
   ]
  },
  {
   "cell_type": "code",
   "execution_count": 3,
   "metadata": {},
   "outputs": [
    {
     "name": "stdout",
     "output_type": "stream",
     "text": [
      "CLASS\n",
      "0    1131\n",
      "1     549\n",
      "dtype: int64\n",
      "(1098, 18)\n",
      "CLASS\n",
      "0    549\n",
      "1    549\n",
      "dtype: int64\n"
     ]
    }
   ],
   "source": [
    "print(data.groupby(by='CLASS').size())\n",
    "\n",
    "maindata=data.copy()\n",
    "\n",
    "class0=maindata[maindata.CLASS==0]\n",
    "class1=maindata[maindata.CLASS==1]\n",
    "\n",
    "class0=class0.sample(class1.shape[0],random_state=42)\n",
    "\n",
    "data=pd.concat([class1,class0])\n",
    "\n",
    "print(data.shape)\n",
    "print(data.groupby(by='CLASS').size())"
   ]
  },
  {
   "cell_type": "code",
   "execution_count": 4,
   "metadata": {},
   "outputs": [],
   "source": [
    "data=data[['L100700','S000300','L101700','L103300','L103100','L504700','L190300',           \n",
    "           'SEX','FIELD_15','FIELD_33','FIELD_38','L190900', 'AGE','CLASS']]\n",
    "xtrain, xtest, ytrain, ytest = train_test_split(data.iloc[:,:-1], data.iloc[:,-1], random_state=42, test_size=0.2)"
   ]
  },
  {
   "cell_type": "code",
   "execution_count": 5,
   "metadata": {},
   "outputs": [],
   "source": [
    "data.to_csv('trainingset.txt',sep=',')"
   ]
  },
  {
   "cell_type": "code",
   "execution_count": 6,
   "metadata": {},
   "outputs": [
    {
     "data": {
      "text/plain": [
       "(1098, 14)"
      ]
     },
     "execution_count": 6,
     "metadata": {},
     "output_type": "execute_result"
    }
   ],
   "source": [
    "data.shape"
   ]
  },
  {
   "cell_type": "code",
   "execution_count": 7,
   "metadata": {},
   "outputs": [],
   "source": [
    "# # xtrain=data.iloc[:,:-1] \n",
    "# # xtest=data.iloc[:,:-1] \n",
    "# # ytrain=data.iloc[:,-1] \n",
    "# # ytest=data.iloc[:,-1]\n",
    "\n",
    "\n",
    "# test=pd.concat([data[data.CLASS==0].dropna().sample(50,random_state=42),\n",
    "#                data[data.CLASS==1].dropna().sample(50,random_state=42)])           \n",
    "# train=data.drop(test.index)\n",
    "\n",
    "# xtrain=train.iloc[:,:-1] \n",
    "# xtest=test.iloc[:,:-1] \n",
    "# ytrain=train.iloc[:,-1] \n",
    "# ytest=test.iloc[:,-1]\n"
   ]
  },
  {
   "cell_type": "code",
   "execution_count": 8,
   "metadata": {},
   "outputs": [
    {
     "data": {
      "text/plain": [
       "RandomForestClassifier(bootstrap=True, class_weight=None, criterion='gini',\n",
       "                       max_depth=8, max_features=8, max_leaf_nodes=None,\n",
       "                       min_impurity_decrease=0.0, min_impurity_split=None,\n",
       "                       min_samples_leaf=8, min_samples_split=2,\n",
       "                       min_weight_fraction_leaf=0.0, n_estimators=1000,\n",
       "                       n_jobs=None, oob_score=False, random_state=7, verbose=0,\n",
       "                       warm_start=False)"
      ]
     },
     "execution_count": 8,
     "metadata": {},
     "output_type": "execute_result"
    }
   ],
   "source": [
    "from sklearn.ensemble import RandomForestClassifier\n",
    "\n",
    "rf = RandomForestClassifier(\n",
    "    random_state=randomseed,\n",
    "    n_estimators=1000,\n",
    "    max_depth=8,\n",
    "    min_samples_split=2,\n",
    "    min_samples_leaf=8,\n",
    "    max_features=8,\n",
    ")\n",
    "rf.fit(xtrain, ytrain)"
   ]
  },
  {
   "cell_type": "code",
   "execution_count": 9,
   "metadata": {},
   "outputs": [
    {
     "name": "stdout",
     "output_type": "stream",
     "text": [
      "0.65\n"
     ]
    },
    {
     "data": {
      "image/png": "[encoded data removed]",
      "text/plain": [
       "<Figure size 432x288 with 1 Axes>"
      ]
     },
     "metadata": {
      "needs_background": "light"
     },
     "output_type": "display_data"
    },
    {
     "name": "stdout",
     "output_type": "stream",
     "text": [
      "Index(['S000300', 'AGE', 'L100700', 'L504700', 'L190300', 'L101700', 'L103300',\n",
      "       'L103100', 'L190900', 'FIELD_38', 'FIELD_33', 'FIELD_15', 'SEX'],\n",
      "      dtype='object')\n"
     ]
    }
   ],
   "source": [
    "ypred = rf.predict(xtest)\n",
    "\n",
    "score = rf.score(xtest, ytest)\n",
    "print(score)\n",
    "\n",
    "feat_importances = pd.Series(rf.feature_importances_, index=xtest.columns)\n",
    "feat_importances.nlargest(16).plot(kind=\"barh\")\n",
    "plt.show()\n",
    "\n",
    "print(feat_importances.nlargest(16).index)"
   ]
  },
  {
   "cell_type": "code",
   "execution_count": 10,
   "metadata": {},
   "outputs": [
    {
     "name": "stdout",
     "output_type": "stream",
     "text": [
      "Accuracy on training set: 0.864\n",
      "Accuracy on test set: 0.650\n"
     ]
    },
    {
     "data": {
      "text/html": [
       "<div>\n",
       "<style scoped>\n",
       "    .dataframe tbody tr th:only-of-type {\n",
       "        vertical-align: middle;\n",
       "    }\n",
       "\n",
       "    .dataframe tbody tr th {\n",
       "        vertical-align: top;\n",
       "    }\n",
       "\n",
       "    .dataframe thead th {\n",
       "        text-align: right;\n",
       "    }\n",
       "</style>\n",
       "<table border=\"1\" class=\"dataframe\">\n",
       "  <thead>\n",
       "    <tr style=\"text-align: right;\">\n",
       "      <th></th>\n",
       "      <th>0</th>\n",
       "      <th>1</th>\n",
       "    </tr>\n",
       "  </thead>\n",
       "  <tbody>\n",
       "    <tr>\n",
       "      <th>0</th>\n",
       "      <td>67</td>\n",
       "      <td>34</td>\n",
       "    </tr>\n",
       "    <tr>\n",
       "      <th>1</th>\n",
       "      <td>43</td>\n",
       "      <td>76</td>\n",
       "    </tr>\n",
       "  </tbody>\n",
       "</table>\n",
       "</div>"
      ],
      "text/plain": [
       "    0   1\n",
       "0  67  34\n",
       "1  43  76"
      ]
     },
     "execution_count": 10,
     "metadata": {},
     "output_type": "execute_result"
    }
   ],
   "source": [
    "print(\"Accuracy on training set: {:.3f}\".format(rf.score(xtrain, ytrain)))\n",
    "print(\"Accuracy on test set: {:.3f}\".format(rf.score(xtest, ytest)))\n",
    "\n",
    "confmatrx = pd.DataFrame(m.confusion_matrix(ytest, ypred))\n",
    "confmatrx.head()"
   ]
  },
  {
   "cell_type": "code",
   "execution_count": 11,
   "metadata": {},
   "outputs": [
    {
     "name": "stdout",
     "output_type": "stream",
     "text": [
      "              precision    recall  f1-score   support\n",
      "\n",
      "           0       0.61      0.66      0.64       101\n",
      "           1       0.69      0.64      0.66       119\n",
      "\n",
      "    accuracy                           0.65       220\n",
      "   macro avg       0.65      0.65      0.65       220\n",
      "weighted avg       0.65      0.65      0.65       220\n",
      "\n"
     ]
    }
   ],
   "source": [
    "from sklearn.metrics import classification_report\n",
    "\n",
    "print(classification_report(ytest, ypred))"
   ]
  },
  {
   "cell_type": "code",
   "execution_count": 12,
   "metadata": {},
   "outputs": [
    {
     "name": "stdout",
     "output_type": "stream",
     "text": [
      "accuracy \t 0.6181818181818182\n"
     ]
    },
    {
     "data": {
      "text/html": [
       "<div>\n",
       "<style scoped>\n",
       "    .dataframe tbody tr th:only-of-type {\n",
       "        vertical-align: middle;\n",
       "    }\n",
       "\n",
       "    .dataframe tbody tr th {\n",
       "        vertical-align: top;\n",
       "    }\n",
       "\n",
       "    .dataframe thead th {\n",
       "        text-align: right;\n",
       "    }\n",
       "</style>\n",
       "<table border=\"1\" class=\"dataframe\">\n",
       "  <thead>\n",
       "    <tr style=\"text-align: right;\">\n",
       "      <th></th>\n",
       "      <th>0</th>\n",
       "      <th>1</th>\n",
       "    </tr>\n",
       "  </thead>\n",
       "  <tbody>\n",
       "    <tr>\n",
       "      <th>0</th>\n",
       "      <td>68</td>\n",
       "      <td>33</td>\n",
       "    </tr>\n",
       "    <tr>\n",
       "      <th>1</th>\n",
       "      <td>51</td>\n",
       "      <td>68</td>\n",
       "    </tr>\n",
       "  </tbody>\n",
       "</table>\n",
       "</div>"
      ],
      "text/plain": [
       "    0   1\n",
       "0  68  33\n",
       "1  51  68"
      ]
     },
     "execution_count": 12,
     "metadata": {},
     "output_type": "execute_result"
    }
   ],
   "source": [
    "import xgboost as xgb\n",
    "from sklearn import metrics as m\n",
    "\n",
    "xgb_model = xgb.XGBClassifier(objective=\"binary:logistic\", random_state=randomseed)\n",
    "\n",
    "xgb_model.fit(xtrain, ytrain)\n",
    "\n",
    "y_pred = xgb_model.predict((xtest))\n",
    "\n",
    "print(\"accuracy \\t\", m.accuracy_score(ytest, y_pred))\n",
    "confmatrx = pd.DataFrame(m.confusion_matrix(ytest, y_pred))\n",
    "confmatrx.head()"
   ]
  },
  {
   "cell_type": "code",
   "execution_count": 13,
   "metadata": {},
   "outputs": [
    {
     "name": "stdout",
     "output_type": "stream",
     "text": [
      "              precision    recall  f1-score   support\n",
      "\n",
      "           0       0.57      0.67      0.62       101\n",
      "           1       0.67      0.57      0.62       119\n",
      "\n",
      "    accuracy                           0.62       220\n",
      "   macro avg       0.62      0.62      0.62       220\n",
      "weighted avg       0.63      0.62      0.62       220\n",
      "\n"
     ]
    }
   ],
   "source": [
    "print(classification_report(ytest, y_pred))"
   ]
  },
  {
   "cell_type": "code",
   "execution_count": 14,
   "metadata": {},
   "outputs": [
    {
     "name": "stdout",
     "output_type": "stream",
     "text": [
      "Accuracy  0.58\n"
     ]
    },
    {
     "data": {
      "text/html": [
       "<div>\n",
       "<style scoped>\n",
       "    .dataframe tbody tr th:only-of-type {\n",
       "        vertical-align: middle;\n",
       "    }\n",
       "\n",
       "    .dataframe tbody tr th {\n",
       "        vertical-align: top;\n",
       "    }\n",
       "\n",
       "    .dataframe thead th {\n",
       "        text-align: right;\n",
       "    }\n",
       "</style>\n",
       "<table border=\"1\" class=\"dataframe\">\n",
       "  <thead>\n",
       "    <tr style=\"text-align: right;\">\n",
       "      <th></th>\n",
       "      <th>0</th>\n",
       "      <th>1</th>\n",
       "    </tr>\n",
       "  </thead>\n",
       "  <tbody>\n",
       "    <tr>\n",
       "      <th>0</th>\n",
       "      <td>72</td>\n",
       "      <td>28</td>\n",
       "    </tr>\n",
       "    <tr>\n",
       "      <th>1</th>\n",
       "      <td>56</td>\n",
       "      <td>44</td>\n",
       "    </tr>\n",
       "  </tbody>\n",
       "</table>\n",
       "</div>"
      ],
      "text/plain": [
       "    0   1\n",
       "0  72  28\n",
       "1  56  44"
      ]
     },
     "execution_count": 14,
     "metadata": {},
     "output_type": "execute_result"
    }
   ],
   "source": [
    "data4=data4[['L100700','S000300','L101700','L103300','L103100','L504700','L190300',             \n",
    "             'SEX','FIELD_15','FIELD_33','FIELD_38','L190900',\n",
    "             'AGE','CLASS']]\n",
    "\n",
    "pred4 = rf.predict((data4.iloc[:, :-1]))\n",
    "\n",
    "print(\"Accuracy \",m.accuracy_score(data4.iloc[:, -1], pred4))\n",
    "\n",
    "confmatrx = pd.DataFrame(m.confusion_matrix(data4.iloc[:, -1], pred4))\n",
    "confmatrx"
   ]
  },
  {
   "cell_type": "code",
   "execution_count": 15,
   "metadata": {},
   "outputs": [
    {
     "name": "stdout",
     "output_type": "stream",
     "text": [
      "              precision    recall  f1-score   support\n",
      "\n",
      "           0       0.56      0.72      0.63       100\n",
      "           1       0.61      0.44      0.51       100\n",
      "\n",
      "    accuracy                           0.58       200\n",
      "   macro avg       0.59      0.58      0.57       200\n",
      "weighted avg       0.59      0.58      0.57       200\n",
      "\n"
     ]
    }
   ],
   "source": [
    "print(classification_report(data4.iloc[:, -1], pred4))"
   ]
  },
  {
   "cell_type": "code",
   "execution_count": 16,
   "metadata": {},
   "outputs": [
    {
     "name": "stdout",
     "output_type": "stream",
     "text": [
      "Accuracy  0.62\n"
     ]
    },
    {
     "data": {
      "text/html": [
       "<div>\n",
       "<style scoped>\n",
       "    .dataframe tbody tr th:only-of-type {\n",
       "        vertical-align: middle;\n",
       "    }\n",
       "\n",
       "    .dataframe tbody tr th {\n",
       "        vertical-align: top;\n",
       "    }\n",
       "\n",
       "    .dataframe thead th {\n",
       "        text-align: right;\n",
       "    }\n",
       "</style>\n",
       "<table border=\"1\" class=\"dataframe\">\n",
       "  <thead>\n",
       "    <tr style=\"text-align: right;\">\n",
       "      <th></th>\n",
       "      <th>0</th>\n",
       "      <th>1</th>\n",
       "    </tr>\n",
       "  </thead>\n",
       "  <tbody>\n",
       "    <tr>\n",
       "      <th>0</th>\n",
       "      <td>76</td>\n",
       "      <td>24</td>\n",
       "    </tr>\n",
       "    <tr>\n",
       "      <th>1</th>\n",
       "      <td>52</td>\n",
       "      <td>48</td>\n",
       "    </tr>\n",
       "  </tbody>\n",
       "</table>\n",
       "</div>"
      ],
      "text/plain": [
       "    0   1\n",
       "0  76  24\n",
       "1  52  48"
      ]
     },
     "execution_count": 16,
     "metadata": {},
     "output_type": "execute_result"
    }
   ],
   "source": [
    "# =====================================\n",
    "# =====================================\n",
    "# =====================================\n",
    "# =====================================\n",
    "\n",
    "data5=data5[['P_L100700','P_S000300','P_L101700','P_L103300','P_L103100','P_L504700','P_L190300',\n",
    "             'P_SEX','P_FIELD_15','P_FIELD_33','P_FIELD_38','P_L190900','P_AGE','CLASS']]\n",
    "data5.columns=data4.columns\n",
    "pred5 = rf.predict((data5.iloc[:, :-1]))\n",
    "\n",
    "\n",
    "\n",
    "print(\"Accuracy \",m.accuracy_score(data5.iloc[:, -1], pred5))\n",
    "\n",
    "confmatrx = pd.DataFrame(m.confusion_matrix(data5.iloc[:, -1], pred5))\n",
    "confmatrx"
   ]
  },
  {
   "cell_type": "code",
   "execution_count": 17,
   "metadata": {},
   "outputs": [
    {
     "name": "stdout",
     "output_type": "stream",
     "text": [
      "              precision    recall  f1-score   support\n",
      "\n",
      "           0       0.59      0.76      0.67       100\n",
      "           1       0.67      0.48      0.56       100\n",
      "\n",
      "    accuracy                           0.62       200\n",
      "   macro avg       0.63      0.62      0.61       200\n",
      "weighted avg       0.63      0.62      0.61       200\n",
      "\n"
     ]
    }
   ],
   "source": [
    "print(classification_report(data5.iloc[:, -1], pred5))"
   ]
  },
  {
   "cell_type": "code",
   "execution_count": 18,
   "metadata": {},
   "outputs": [],
   "source": [
    "# ========================================================"
   ]
  },
  {
   "cell_type": "code",
   "execution_count": 19,
   "metadata": {},
   "outputs": [
    {
     "data": {
      "text/html": [
       "<div>\n",
       "<style scoped>\n",
       "    .dataframe tbody tr th:only-of-type {\n",
       "        vertical-align: middle;\n",
       "    }\n",
       "\n",
       "    .dataframe tbody tr th {\n",
       "        vertical-align: top;\n",
       "    }\n",
       "\n",
       "    .dataframe thead th {\n",
       "        text-align: right;\n",
       "    }\n",
       "</style>\n",
       "<table border=\"1\" class=\"dataframe\">\n",
       "  <thead>\n",
       "    <tr style=\"text-align: right;\">\n",
       "      <th></th>\n",
       "      <th>L100700</th>\n",
       "      <th>S000300</th>\n",
       "      <th>L101700</th>\n",
       "      <th>L103300</th>\n",
       "      <th>L103100</th>\n",
       "      <th>L504700</th>\n",
       "      <th>L190300</th>\n",
       "      <th>SEX</th>\n",
       "      <th>FIELD_15</th>\n",
       "      <th>FIELD_33</th>\n",
       "      <th>FIELD_38</th>\n",
       "      <th>L190900</th>\n",
       "      <th>AGE</th>\n",
       "      <th>CLASS</th>\n",
       "    </tr>\n",
       "  </thead>\n",
       "  <tbody>\n",
       "    <tr>\n",
       "      <th>0</th>\n",
       "      <td>5.903878</td>\n",
       "      <td>24.936563</td>\n",
       "      <td>96.321380</td>\n",
       "      <td>4.575048</td>\n",
       "      <td>40.242360</td>\n",
       "      <td>2.493663</td>\n",
       "      <td>5.346577</td>\n",
       "      <td>0.0</td>\n",
       "      <td>1.0</td>\n",
       "      <td>3.0</td>\n",
       "      <td>3.0</td>\n",
       "      <td>12.839790</td>\n",
       "      <td>51.0</td>\n",
       "      <td>0</td>\n",
       "    </tr>\n",
       "    <tr>\n",
       "      <th>1</th>\n",
       "      <td>5.528629</td>\n",
       "      <td>28.495972</td>\n",
       "      <td>25.589891</td>\n",
       "      <td>3.516775</td>\n",
       "      <td>47.242240</td>\n",
       "      <td>1.687456</td>\n",
       "      <td>4.871007</td>\n",
       "      <td>0.0</td>\n",
       "      <td>0.0</td>\n",
       "      <td>1.0</td>\n",
       "      <td>1.0</td>\n",
       "      <td>12.386224</td>\n",
       "      <td>30.0</td>\n",
       "      <td>0</td>\n",
       "    </tr>\n",
       "    <tr>\n",
       "      <th>2</th>\n",
       "      <td>3.311584</td>\n",
       "      <td>19.369055</td>\n",
       "      <td>38.772820</td>\n",
       "      <td>2.671394</td>\n",
       "      <td>66.143974</td>\n",
       "      <td>1.271503</td>\n",
       "      <td>3.818899</td>\n",
       "      <td>1.0</td>\n",
       "      <td>0.0</td>\n",
       "      <td>1.0</td>\n",
       "      <td>0.0</td>\n",
       "      <td>12.723549</td>\n",
       "      <td>66.0</td>\n",
       "      <td>0</td>\n",
       "    </tr>\n",
       "    <tr>\n",
       "      <th>3</th>\n",
       "      <td>6.604036</td>\n",
       "      <td>27.713593</td>\n",
       "      <td>140.533630</td>\n",
       "      <td>3.896889</td>\n",
       "      <td>48.812250</td>\n",
       "      <td>2.215843</td>\n",
       "      <td>4.999487</td>\n",
       "      <td>0.0</td>\n",
       "      <td>1.0</td>\n",
       "      <td>3.0</td>\n",
       "      <td>3.0</td>\n",
       "      <td>13.243757</td>\n",
       "      <td>44.0</td>\n",
       "      <td>0</td>\n",
       "    </tr>\n",
       "    <tr>\n",
       "      <th>4</th>\n",
       "      <td>4.705701</td>\n",
       "      <td>21.827599</td>\n",
       "      <td>16.667198</td>\n",
       "      <td>3.069759</td>\n",
       "      <td>47.455368</td>\n",
       "      <td>2.131195</td>\n",
       "      <td>4.383299</td>\n",
       "      <td>0.0</td>\n",
       "      <td>0.0</td>\n",
       "      <td>2.0</td>\n",
       "      <td>1.0</td>\n",
       "      <td>12.449883</td>\n",
       "      <td>68.0</td>\n",
       "      <td>0</td>\n",
       "    </tr>\n",
       "  </tbody>\n",
       "</table>\n",
       "</div>"
      ],
      "text/plain": [
       "    L100700    S000300     L101700   L103300    L103100   L504700   L190300  \\\n",
       "0  5.903878  24.936563   96.321380  4.575048  40.242360  2.493663  5.346577   \n",
       "1  5.528629  28.495972   25.589891  3.516775  47.242240  1.687456  4.871007   \n",
       "2  3.311584  19.369055   38.772820  2.671394  66.143974  1.271503  3.818899   \n",
       "3  6.604036  27.713593  140.533630  3.896889  48.812250  2.215843  4.999487   \n",
       "4  4.705701  21.827599   16.667198  3.069759  47.455368  2.131195  4.383299   \n",
       "\n",
       "   SEX  FIELD_15  FIELD_33  FIELD_38    L190900   AGE  CLASS  \n",
       "0  0.0       1.0       3.0       3.0  12.839790  51.0      0  \n",
       "1  0.0       0.0       1.0       1.0  12.386224  30.0      0  \n",
       "2  1.0       0.0       1.0       0.0  12.723549  66.0      0  \n",
       "3  0.0       1.0       3.0       3.0  13.243757  44.0      0  \n",
       "4  0.0       0.0       2.0       1.0  12.449883  68.0      0  "
      ]
     },
     "execution_count": 19,
     "metadata": {},
     "output_type": "execute_result"
    }
   ],
   "source": [
    "data5.head()"
   ]
  },
  {
   "cell_type": "code",
   "execution_count": 20,
   "metadata": {},
   "outputs": [
    {
     "name": "stdout",
     "output_type": "stream",
     "text": [
      "(878, 13)\n"
     ]
    }
   ],
   "source": [
    "print(xtrain.shape)"
   ]
  },
  {
   "cell_type": "code",
   "execution_count": 21,
   "metadata": {},
   "outputs": [
    {
     "name": "stdout",
     "output_type": "stream",
     "text": [
      "(220, 13)\n"
     ]
    }
   ],
   "source": [
    "print(xtest.shape)"
   ]
  },
  {
   "cell_type": "code",
   "execution_count": 22,
   "metadata": {},
   "outputs": [
    {
     "data": {
      "text/plain": [
       "(200, 14)"
      ]
     },
     "execution_count": 22,
     "metadata": {},
     "output_type": "execute_result"
    }
   ],
   "source": [
    "data5.shape"
   ]
  },
  {
   "cell_type": "code",
   "execution_count": null,
   "metadata": {},
   "outputs": [],
   "source": [
    "data.to_csv('_train.txt',sep=',')"
   ]
  },
  {
   "cell_type": "code",
   "execution_count": null,
   "metadata": {},
   "outputs": [],
   "source": [
    "data4.to_csv('_test.txt',sep=',')"
   ]
  },
  {
   "cell_type": "code",
   "execution_count": null,
   "metadata": {},
   "outputs": [],
   "source": [
    "data5.to_csv('_PredictedNextYearTest.txt',sep=',')"
   ]
  },
  {
   "cell_type": "code",
   "execution_count": null,
   "metadata": {},
   "outputs": [],
   "source": [
    "data4.head()"
   ]
  },
  {
   "cell_type": "code",
   "execution_count": null,
   "metadata": {},
   "outputs": [],
   "source": []
  },
  {
   "cell_type": "code",
   "execution_count": null,
   "metadata": {},
   "outputs": [],
   "source": []
  },
  {
   "cell_type": "code",
   "execution_count": null,
   "metadata": {},
   "outputs": [],
   "source": []
  },
  {
   "cell_type": "code",
   "execution_count": 24,
   "metadata": {},
   "outputs": [],
   "source": [
    "import pickle\n",
    "with open('models/ISchemia_nextyear_RF_classifier', 'wb') as f:\n",
    "    pickle.dump(rf, f) "
   ]
  },
  {
   "cell_type": "code",
   "execution_count": null,
   "metadata": {},
   "outputs": [],
   "source": []
  }
 ],
 "metadata": {
  "kernelspec": {
   "display_name": "Python 3",
   "language": "python",
   "name": "python3"
  },
  "language_info": {
   "codemirror_mode": {
    "name": "ipython",
    "version": 3
   },
   "file_extension": ".py",
   "mimetype": "text/x-python",
   "name": "python",
   "nbconvert_exporter": "python",
   "pygments_lexer": "ipython3",
   "version": "3.7.3"
  }
 },
 "nbformat": 4,
 "nbformat_minor": 2
}

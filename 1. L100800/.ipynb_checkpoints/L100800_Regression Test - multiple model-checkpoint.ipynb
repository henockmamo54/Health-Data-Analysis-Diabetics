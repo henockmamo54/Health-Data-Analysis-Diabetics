{
 "cells": [
  {
   "cell_type": "code",
   "execution_count": 2,
   "metadata": {},
   "outputs": [
    {
     "name": "stderr",
     "output_type": "stream",
     "text": [
      "Using TensorFlow backend.\n"
     ]
    }
   ],
   "source": [
    "from matplotlib import pyplot as plt\n",
    "import pandas as pd \n",
    "import numpy as np\n",
    "import warnings\n",
    "warnings.filterwarnings('ignore')\n",
    "from scipy import stats\n",
    "from sklearn.utils import shuffle\n",
    "from sklearn.preprocessing import LabelEncoder\n",
    "from sklearn.metrics import confusion_matrix \n",
    "from sklearn.utils import shuffle\n",
    "from sklearn.ensemble import RandomForestRegressor\n",
    "from sklearn.datasets import make_regression\n",
    "from sklearn.model_selection import train_test_split\n",
    "from sklearn.metrics import mean_absolute_error\n",
    "from sklearn.metrics import mean_squared_error\n",
    "from sklearn.metrics import mean_absolute_error\n",
    "from sklearn.metrics import r2_score\n",
    "from keras.models import Sequential\n",
    "from keras.layers import Dense\n",
    "from keras.wrappers.scikit_learn import KerasRegressor\n",
    "from sklearn.model_selection import cross_val_score\n",
    "from sklearn.model_selection import KFold\n",
    "from sklearn.preprocessing import StandardScaler\n",
    "from sklearn.pipeline import Pipeline\n",
    "from keras.layers import Dropout\n",
    "from keras.layers import BatchNormalization\n",
    "from keras.models import model_from_json\n",
    "from keras.utils import multi_gpu_model \n",
    "from keras.utils import to_categorical\n"
   ]
  },
  {
   "cell_type": "markdown",
   "metadata": {},
   "source": [
    "Read the data\n",
    "==========="
   ]
  },
  {
   "cell_type": "code",
   "execution_count": 47,
   "metadata": {},
   "outputs": [
    {
     "name": "stdout",
     "output_type": "stream",
     "text": [
      "(159381, 42)\n",
      "(159381, 2)\n"
     ]
    }
   ],
   "source": [
    "x_original=pd.read_csv('../_xlable4_withNa_AllColumns.txt')\n",
    "y_original=pd.read_csv('../_targelable4_withNa_AllColumns.txt')\n",
    "\n",
    "# x_original=x_original[['Unnamed: 0','L100800', 'L104600', 'L103000', 'S000300', 'L103300', 'S000501', 'S000502', 'L101700', 'SEX', \n",
    "# 'L190400', 'L190500', 'AGE', 'L190300', 'L102900', 'L101300', 'L103100','FIELD_33', 'FIELD_38', 'L100700',\n",
    "# 'FIELD_31', 'FIELD_21', 'FIELD_40', 'FIELD_27', 'FIELD_14', 'FIELD_41', 'FIELD_29', 'FIELD_20', 'FIELD_32']]\n",
    "\n",
    "# y_original=y_original[['Unnamed: 0','L100800', 'L104600', 'L103000', 'S000300', 'L103300', 'S000501', 'S000502', 'L101700', 'SEX', \n",
    "# 'L190400', 'L190500', 'AGE', 'L190300', 'L102900', 'L101300', 'L103100','FIELD_33', 'FIELD_38', 'L100700',\n",
    "# 'FIELD_31', 'FIELD_21', 'FIELD_40', 'FIELD_27', 'FIELD_14', 'FIELD_41', 'FIELD_29', 'FIELD_20', 'FIELD_32']]\n",
    "\n",
    "# x_original=x_original[['Unnamed: 0','L100800','L104600','S000300','L103000','L103300','SEX','S000501','L101700','L190400',\n",
    "# 'L190500','S000502','L190300','L101300','L103100','AGE','L100700','FIELD_33', 'FIELD_38', 'FIELD_40']]\n",
    "\n",
    "# y_original=y_original[['Unnamed: 0','L100800','L104600','S000300','L103000','L103300','SEX','S000501','L101700','L190400',\n",
    "# 'L190500','S000502','L190300','L101300','L103100','AGE','L100700','FIELD_33', 'FIELD_38', 'FIELD_40' ]]\n",
    "                       \n",
    "    \n",
    "x_original=x_original[['Unnamed: 0','L100800', 'L104600', 'L103000', 'S000300', 'S000501', 'L103300', 'S000502', 'L101700', \n",
    "'SEX', 'AGE', 'L190400', 'L190500', 'L101300', 'L190300', 'L103100', 'L101600', 'L100700', 'L102900',\n",
    " 'L504700', 'S010102', 'S010101',\n",
    "# 'FIELD_7',\n",
    "'FIELD_15', 'FIELD_22', 'FIELD_33',  'FIELD_24', 'FIELD_17', 'FIELD_38', 'FIELD_31',\n",
    " 'FIELD_21', 'FIELD_27', 'FIELD_14', 'FIELD_40', 'FIELD_20', 'FIELD_41', 'FIELD_13', 'FIELD_29', \n",
    " 'FIELD_28', 'FIELD_32', 'FIELD_4', 'FIELD_42', 'FIELD_19'\n",
    "                      ]]\n",
    "\n",
    "y_original=y_original[['Unnamed: 0','L100800' ]]\n",
    "        \n",
    "    \n",
    "                       \n",
    "print(x_original.shape)\n",
    "print(y_original.shape)\n"
   ]
  },
  {
   "cell_type": "code",
   "execution_count": 48,
   "metadata": {},
   "outputs": [],
   "source": [
    "# x_original[x_original.FIELD_7==1]['SEX'].unique()"
   ]
  },
  {
   "cell_type": "code",
   "execution_count": 49,
   "metadata": {},
   "outputs": [
    {
     "name": "stdout",
     "output_type": "stream",
     "text": [
      "Unnamed: 0 159381\n",
      "L100800 159236\n",
      "L104600 56437\n",
      "L103000 158939\n",
      "S000300 159075\n",
      "S000501 159305\n",
      "L103300 135222\n",
      "S000502 159305\n",
      "L101700 158951\n",
      "SEX 159381\n",
      "AGE 159381\n",
      "L190400 159241\n",
      "L190500 159204\n",
      "L101300 159247\n",
      "L190300 159204\n",
      "L103100 158880\n",
      "L101600 152251\n",
      "L100700 152474\n",
      "L102900 158941\n",
      "L504700 135994\n",
      "S010102 134555\n",
      "S010101 134555\n",
      "FIELD_15 159361\n",
      "FIELD_22 159365\n",
      "FIELD_33 159069\n",
      "FIELD_24 158934\n",
      "FIELD_17 159364\n",
      "FIELD_38 159077\n",
      "FIELD_31 159366\n",
      "FIELD_21 159366\n",
      "FIELD_27 159365\n",
      "FIELD_14 159361\n",
      "FIELD_40 159083\n",
      "FIELD_20 159364\n",
      "FIELD_41 159053\n",
      "FIELD_13 159365\n",
      "FIELD_29 159365\n",
      "FIELD_28 159366\n",
      "FIELD_32 158869\n",
      "FIELD_4 156956\n",
      "FIELD_42 159032\n",
      "FIELD_19 159363\n"
     ]
    }
   ],
   "source": [
    "for index,col in enumerate(x_original.columns):\n",
    "    print(col,x_original[col].dropna().shape[0])"
   ]
  },
  {
   "cell_type": "markdown",
   "metadata": {},
   "source": [
    "Prepare the data\n",
    "============"
   ]
  },
  {
   "cell_type": "code",
   "execution_count": 50,
   "metadata": {},
   "outputs": [],
   "source": [
    "# df=x_original.copy()\n",
    "# conditions = [\n",
    "#     (df.S000501 < 120)  ,\n",
    "#     (df.S000501 >= 120) & (df.S000501 < 130),\n",
    "#     (df.S000501 >=130)]\n",
    "# choices = [0,1,2]\n",
    "# df['sbpG'] = np.select(conditions, choices, default=0)\n",
    "# df.head()\n",
    "# x_original=df.copy()\n",
    "\n",
    "# conditions2 = [\n",
    "#     (df.S000502 < 80)  ,\n",
    "#     (df.S000502 >= 80) & (df.S000502 < 90),\n",
    "#     (df.S000502 >=90)]\n",
    "# choices2 = [0,1,2]\n",
    "# df['dbpG'] = np.select(conditions2, choices2, default=0)\n",
    "# df.head()\n",
    "# x_original=df.copy()\n",
    "\n",
    "# conditions3 = [\n",
    "#     (df.AGE < 30)  ,\n",
    "#     (df.AGE >= 30) & (df.AGE < 40),\n",
    "#     (df.AGE >= 40) & (df.AGE < 50),\n",
    "#     (df.AGE >= 50) & (df.AGE < 60),\n",
    "#     (df.AGE >= 60)]\n",
    "# choices3 = [0,1,2,3,4]\n",
    "# df['AgeG'] = np.select(conditions3, choices3, default=0)\n",
    "# df.head()\n",
    "# x_original=df.copy()\n",
    "\n",
    "\n",
    "# conditions4 = [\n",
    "#     (df.L100800 < 100)  ,\n",
    "#     (df.L100800 >= 100) & (df.L100800 < 126), \n",
    "#     (df.L100800 >= 126)]\n",
    "# choices4 = [0,1,2]\n",
    "# df['CLASS'] = np.select(conditions4, choices4, default=0)\n",
    "# df.head()\n",
    "# x_original=df.copy()"
   ]
  },
  {
   "cell_type": "code",
   "execution_count": 90,
   "metadata": {},
   "outputs": [
    {
     "name": "stdout",
     "output_type": "stream",
     "text": [
      "(8177, 44)\n"
     ]
    }
   ],
   "source": [
    "data= pd.merge(x_original,y_original, how='inner',left_on='Unnamed: 0', right_on='Unnamed: 0')\n",
    "data=data.dropna(). reset_index()\n",
    "\n",
    "# data=data[data.AGE_x >= 40]\n",
    "# data=data[data.AGE_x < 50]\n",
    "\n",
    "# data=data[data.CLASS_x==0]\n",
    "# data=data[data.sbpG==0]\n",
    "# data=data[data.dbpG==0]\n",
    "\n",
    "data=data[data.L100800_y <200]\n",
    "\n",
    "data=data[data.FIELD_15==0]\n",
    "data=data[data.FIELD_22==0]\n",
    "data=data[data.SEX==0]\n",
    "data=data[data.AGE < 40]\n",
    "\n",
    "print(data.shape)"
   ]
  },
  {
   "cell_type": "code",
   "execution_count": 91,
   "metadata": {},
   "outputs": [
    {
     "name": "stdout",
     "output_type": "stream",
     "text": [
      "(8177, 44)\n",
      "Index(['index', 'Unnamed: 0', 'L100800_x', 'L104600', 'L103000', 'S000300',\n",
      "       'S000501', 'L103300', 'S000502', 'L101700', 'SEX', 'AGE', 'L190400',\n",
      "       'L190500', 'L101300', 'L190300', 'L103100', 'L101600', 'L100700',\n",
      "       'L102900', 'L504700', 'S010102', 'S010101', 'FIELD_15', 'FIELD_22',\n",
      "       'FIELD_33', 'FIELD_24', 'FIELD_17', 'FIELD_38', 'FIELD_31', 'FIELD_21',\n",
      "       'FIELD_27', 'FIELD_14', 'FIELD_40', 'FIELD_20', 'FIELD_41', 'FIELD_13',\n",
      "       'FIELD_29', 'FIELD_28', 'FIELD_32', 'FIELD_4', 'FIELD_42', 'FIELD_19',\n",
      "       'L100800_y'],\n",
      "      dtype='object')\n"
     ]
    },
    {
     "data": {
      "text/html": [
       "<div>\n",
       "<style scoped>\n",
       "    .dataframe tbody tr th:only-of-type {\n",
       "        vertical-align: middle;\n",
       "    }\n",
       "\n",
       "    .dataframe tbody tr th {\n",
       "        vertical-align: top;\n",
       "    }\n",
       "\n",
       "    .dataframe thead th {\n",
       "        text-align: right;\n",
       "    }\n",
       "</style>\n",
       "<table border=\"1\" class=\"dataframe\">\n",
       "  <thead>\n",
       "    <tr style=\"text-align: right;\">\n",
       "      <th></th>\n",
       "      <th>index</th>\n",
       "      <th>Unnamed: 0</th>\n",
       "      <th>L100800_x</th>\n",
       "      <th>L104600</th>\n",
       "      <th>L103000</th>\n",
       "      <th>S000300</th>\n",
       "      <th>S000501</th>\n",
       "      <th>L103300</th>\n",
       "      <th>S000502</th>\n",
       "      <th>L101700</th>\n",
       "      <th>...</th>\n",
       "      <th>FIELD_20</th>\n",
       "      <th>FIELD_41</th>\n",
       "      <th>FIELD_13</th>\n",
       "      <th>FIELD_29</th>\n",
       "      <th>FIELD_28</th>\n",
       "      <th>FIELD_32</th>\n",
       "      <th>FIELD_4</th>\n",
       "      <th>FIELD_42</th>\n",
       "      <th>FIELD_19</th>\n",
       "      <th>L100800_y</th>\n",
       "    </tr>\n",
       "  </thead>\n",
       "  <tbody>\n",
       "    <tr>\n",
       "      <th>36</th>\n",
       "      <td>153</td>\n",
       "      <td>153</td>\n",
       "      <td>78.0</td>\n",
       "      <td>5.00</td>\n",
       "      <td>74.0</td>\n",
       "      <td>20.7</td>\n",
       "      <td>106.0</td>\n",
       "      <td>4.0</td>\n",
       "      <td>60.0</td>\n",
       "      <td>17.0</td>\n",
       "      <td>...</td>\n",
       "      <td>0.0</td>\n",
       "      <td>0.0</td>\n",
       "      <td>0.0</td>\n",
       "      <td>0.0</td>\n",
       "      <td>0.0</td>\n",
       "      <td>3.0</td>\n",
       "      <td>4.0</td>\n",
       "      <td>7.0</td>\n",
       "      <td>0.0</td>\n",
       "      <td>79.0</td>\n",
       "    </tr>\n",
       "    <tr>\n",
       "      <th>40</th>\n",
       "      <td>163</td>\n",
       "      <td>163</td>\n",
       "      <td>82.0</td>\n",
       "      <td>4.90</td>\n",
       "      <td>79.0</td>\n",
       "      <td>24.2</td>\n",
       "      <td>133.0</td>\n",
       "      <td>3.8</td>\n",
       "      <td>79.0</td>\n",
       "      <td>22.0</td>\n",
       "      <td>...</td>\n",
       "      <td>0.0</td>\n",
       "      <td>0.0</td>\n",
       "      <td>0.0</td>\n",
       "      <td>0.0</td>\n",
       "      <td>0.0</td>\n",
       "      <td>3.0</td>\n",
       "      <td>4.0</td>\n",
       "      <td>6.0</td>\n",
       "      <td>0.0</td>\n",
       "      <td>87.0</td>\n",
       "    </tr>\n",
       "    <tr>\n",
       "      <th>41</th>\n",
       "      <td>164</td>\n",
       "      <td>164</td>\n",
       "      <td>87.0</td>\n",
       "      <td>5.20</td>\n",
       "      <td>33.0</td>\n",
       "      <td>21.0</td>\n",
       "      <td>125.0</td>\n",
       "      <td>2.8</td>\n",
       "      <td>64.0</td>\n",
       "      <td>25.0</td>\n",
       "      <td>...</td>\n",
       "      <td>0.0</td>\n",
       "      <td>0.0</td>\n",
       "      <td>0.0</td>\n",
       "      <td>0.0</td>\n",
       "      <td>0.0</td>\n",
       "      <td>3.0</td>\n",
       "      <td>4.0</td>\n",
       "      <td>0.0</td>\n",
       "      <td>0.0</td>\n",
       "      <td>87.0</td>\n",
       "    </tr>\n",
       "    <tr>\n",
       "      <th>42</th>\n",
       "      <td>165</td>\n",
       "      <td>165</td>\n",
       "      <td>87.0</td>\n",
       "      <td>5.24</td>\n",
       "      <td>35.0</td>\n",
       "      <td>21.0</td>\n",
       "      <td>127.0</td>\n",
       "      <td>2.6</td>\n",
       "      <td>73.0</td>\n",
       "      <td>25.0</td>\n",
       "      <td>...</td>\n",
       "      <td>0.0</td>\n",
       "      <td>5.0</td>\n",
       "      <td>0.0</td>\n",
       "      <td>0.0</td>\n",
       "      <td>0.0</td>\n",
       "      <td>3.0</td>\n",
       "      <td>4.0</td>\n",
       "      <td>5.0</td>\n",
       "      <td>0.0</td>\n",
       "      <td>85.0</td>\n",
       "    </tr>\n",
       "    <tr>\n",
       "      <th>43</th>\n",
       "      <td>166</td>\n",
       "      <td>166</td>\n",
       "      <td>85.0</td>\n",
       "      <td>5.22</td>\n",
       "      <td>56.0</td>\n",
       "      <td>21.8</td>\n",
       "      <td>109.0</td>\n",
       "      <td>3.9</td>\n",
       "      <td>61.0</td>\n",
       "      <td>21.0</td>\n",
       "      <td>...</td>\n",
       "      <td>0.0</td>\n",
       "      <td>2.0</td>\n",
       "      <td>0.0</td>\n",
       "      <td>0.0</td>\n",
       "      <td>0.0</td>\n",
       "      <td>3.0</td>\n",
       "      <td>4.0</td>\n",
       "      <td>3.0</td>\n",
       "      <td>0.0</td>\n",
       "      <td>98.0</td>\n",
       "    </tr>\n",
       "  </tbody>\n",
       "</table>\n",
       "<p>5 rows × 44 columns</p>\n",
       "</div>"
      ],
      "text/plain": [
       "    index  Unnamed: 0  L100800_x  L104600  L103000  S000300  S000501  L103300  \\\n",
       "36    153         153       78.0     5.00     74.0     20.7    106.0      4.0   \n",
       "40    163         163       82.0     4.90     79.0     24.2    133.0      3.8   \n",
       "41    164         164       87.0     5.20     33.0     21.0    125.0      2.8   \n",
       "42    165         165       87.0     5.24     35.0     21.0    127.0      2.6   \n",
       "43    166         166       85.0     5.22     56.0     21.8    109.0      3.9   \n",
       "\n",
       "    S000502  L101700  ...  FIELD_20  FIELD_41  FIELD_13  FIELD_29  FIELD_28  \\\n",
       "36     60.0     17.0  ...       0.0       0.0       0.0       0.0       0.0   \n",
       "40     79.0     22.0  ...       0.0       0.0       0.0       0.0       0.0   \n",
       "41     64.0     25.0  ...       0.0       0.0       0.0       0.0       0.0   \n",
       "42     73.0     25.0  ...       0.0       5.0       0.0       0.0       0.0   \n",
       "43     61.0     21.0  ...       0.0       2.0       0.0       0.0       0.0   \n",
       "\n",
       "    FIELD_32  FIELD_4  FIELD_42  FIELD_19  L100800_y  \n",
       "36       3.0      4.0       7.0       0.0       79.0  \n",
       "40       3.0      4.0       6.0       0.0       87.0  \n",
       "41       3.0      4.0       0.0       0.0       87.0  \n",
       "42       3.0      4.0       5.0       0.0       85.0  \n",
       "43       3.0      4.0       3.0       0.0       98.0  \n",
       "\n",
       "[5 rows x 44 columns]"
      ]
     },
     "execution_count": 91,
     "metadata": {},
     "output_type": "execute_result"
    }
   ],
   "source": [
    "print(data.shape)\n",
    "print(data.columns)\n",
    "data.head()"
   ]
  },
  {
   "cell_type": "code",
   "execution_count": 92,
   "metadata": {},
   "outputs": [],
   "source": [
    "# x=data[['L100800_x', 'CLASS', 'L104600_x', 'L103000_x', 'S000300_x', 'L103300_x', 'S000501_x', 'S000502_x', 'L101700_x',\n",
    "#         'SEX_x','L190400_x', 'L190500_x', 'AGE_x', 'L190300_x', 'L102900_x', 'L101300_x', 'L103100_x','FIELD_33_x',\n",
    "#         'FIELD_38_x','FIELD_31_x', 'FIELD_21_x', 'FIELD_40_x', 'FIELD_27_x', 'FIELD_14_x', 'FIELD_41_x', 'FIELD_29_x',\n",
    "#         'FIELD_20_x', 'FIELD_32_x','sbpG','dbpG','AgeG']]\n",
    "\n",
    "# x=data[['L100800_x','L104600_x','S000300_x','L103000_x','L103300_x','SEX_x','S000501_x','L101700_x','L190400_x',\n",
    "#         'L190500_x','S000502_x','L190300_x','L101300_x','L103100_x','AGE_x','L100700_x','FIELD_33_x', 'FIELD_38_x', 'FIELD_40_x' ]]\n",
    "\n",
    "# y=data[['L100800_y']]\n",
    "\n",
    "# y=data[['L100800_y', 'L104600_y', 'L103000_y', 'S000300_y', 'L103300_y', 'S000501_y', 'S000502_y', 'L101700_y',\n",
    "#         'SEX_y','L190400_y', 'L190500_y', 'AGE_y', 'L190300_y', 'L102900_y', 'L101300_y', 'L103100_y','FIELD_33_y',\n",
    "#         'FIELD_38_y','FIELD_31_y', 'FIELD_21_y', 'FIELD_40_y', 'FIELD_27_y', 'FIELD_14_y', 'FIELD_41_y', 'FIELD_29_y',\n",
    "#         'FIELD_20_y', 'FIELD_32_y']]\n",
    "\n",
    "\n",
    "x=data[['L100800_x', 'L104600', 'L103000', 'S000300',\n",
    "       'S000501', 'L103300', 'S000502', 'L101700', 'SEX', 'AGE', 'L190400',\n",
    "       'L190500', 'L101300', 'L190300', 'L103100', 'L101600', 'L100700',\n",
    "       'L102900', 'L504700', 'S010102', 'S010101', 'FIELD_15', 'FIELD_22',\n",
    "       'FIELD_33', 'FIELD_24', 'FIELD_17', 'FIELD_38', 'FIELD_31', 'FIELD_21',\n",
    "       'FIELD_27', 'FIELD_14', 'FIELD_40', 'FIELD_20', 'FIELD_41', 'FIELD_13',\n",
    "       'FIELD_29', 'FIELD_28', 'FIELD_32', 'FIELD_4', 'FIELD_42', 'FIELD_19']]\n",
    "\n",
    "y=data[['L100800_y']]\n"
   ]
  },
  {
   "cell_type": "code",
   "execution_count": 107,
   "metadata": {},
   "outputs": [],
   "source": [
    "# for index,col in enumerate(x.columns):\n",
    "#     print(col,x[col].dropna().shape[0])"
   ]
  },
  {
   "cell_type": "markdown",
   "metadata": {},
   "source": [
    "Check the correlation of the selected feature with the independent variables\n",
    "====="
   ]
  },
  {
   "cell_type": "code",
   "execution_count": 94,
   "metadata": {},
   "outputs": [],
   "source": [
    "temppd=pd.DataFrame(x.copy())\n",
    "temppd['y']=y.L100800_y\n",
    "temppd.head()\n",
    "corval=abs(temppd.corr()).sort_values(by='y', ascending=False)"
   ]
  },
  {
   "cell_type": "code",
   "execution_count": 95,
   "metadata": {},
   "outputs": [
    {
     "data": {
      "text/plain": [
       "y            1.000000\n",
       "L100800_x    0.482694\n",
       "L104600      0.379110\n",
       "S000300      0.235398\n",
       "L103000      0.225946\n",
       "L101700      0.215518\n",
       "L103300      0.184745\n",
       "AGE          0.152039\n",
       "L102900      0.151789\n",
       "S000501      0.150921\n",
       "S000502      0.132675\n",
       "L101300      0.123368\n",
       "L100700      0.115870\n",
       "L103100      0.096199\n",
       "FIELD_38     0.090182\n",
       "FIELD_33     0.082186\n",
       "FIELD_31     0.069848\n",
       "S010101      0.067641\n",
       "S010102      0.062805\n",
       "L190400      0.058996\n",
       "L504700      0.044438\n",
       "L190500      0.041684\n",
       "L101600      0.040608\n",
       "L190300      0.036786\n",
       "FIELD_14     0.021786\n",
       "FIELD_42     0.019390\n",
       "FIELD_19     0.018480\n",
       "FIELD_29     0.017527\n",
       "FIELD_20     0.012782\n",
       "FIELD_32     0.011929\n",
       "FIELD_40     0.009394\n",
       "FIELD_21     0.007589\n",
       "FIELD_13     0.004775\n",
       "FIELD_4      0.004222\n",
       "FIELD_28     0.002600\n",
       "FIELD_41     0.000836\n",
       "FIELD_27     0.000510\n",
       "SEX               NaN\n",
       "FIELD_15          NaN\n",
       "FIELD_22          NaN\n",
       "FIELD_24          NaN\n",
       "FIELD_17          NaN\n",
       "Name: y, dtype: float64"
      ]
     },
     "execution_count": 95,
     "metadata": {},
     "output_type": "execute_result"
    }
   ],
   "source": [
    "corval.y"
   ]
  },
  {
   "cell_type": "code",
   "execution_count": null,
   "metadata": {},
   "outputs": [],
   "source": [
    "x=data[['L100800_x', 'L104600', 'L103000', 'S000300',\n",
    "       'S000501', 'L103300', 'S000502', 'L101700', 'SEX', 'AGE', 'L190400',\n",
    "       'L190500', 'L101300', 'L190300', 'L103100', 'L101600', 'L100700',\n",
    "       'L102900', 'L504700', 'S010102', 'S010101']]"
   ]
  },
  {
   "cell_type": "code",
   "execution_count": 96,
   "metadata": {},
   "outputs": [],
   "source": [
    "#histogram plot of the features\n",
    "# import matplotlib.pyplot as plt\n",
    "# x[x.dtypes[(x.dtypes==\"float64\")|(x.dtypes==\"int64\")]\n",
    "#                         .index.values].hist(figsize=[11,11])"
   ]
  },
  {
   "cell_type": "markdown",
   "metadata": {},
   "source": [
    "Apply PCA\n",
    "==========="
   ]
  },
  {
   "cell_type": "code",
   "execution_count": 97,
   "metadata": {},
   "outputs": [],
   "source": [
    "# from sklearn.decomposition import PCA\n",
    "# pca = PCA(n_components=8)\n",
    "# pca.fit(x)\n",
    "\n",
    "# print(pca.explained_variance_ratio_)   \n",
    "# print(np.sum(pca.explained_variance_ratio_))\n",
    "\n",
    "# x=pca.fit_transform(x) \n",
    "# print(x.shape)\n"
   ]
  },
  {
   "cell_type": "markdown",
   "metadata": {},
   "source": [
    "feature scaling\n",
    "======="
   ]
  },
  {
   "cell_type": "code",
   "execution_count": 98,
   "metadata": {},
   "outputs": [],
   "source": [
    "# from sklearn import preprocessing\n",
    "# min_max_scaler = preprocessing.MinMaxScaler()  #StandardScaler()\n",
    "# x = min_max_scaler.fit_transform(x)"
   ]
  },
  {
   "cell_type": "markdown",
   "metadata": {},
   "source": [
    "clustring test\n",
    "=========="
   ]
  },
  {
   "cell_type": "code",
   "execution_count": 99,
   "metadata": {},
   "outputs": [],
   "source": [
    "# from sklearn.cluster import KMeans\n",
    "# from scipy.spatial.distance import cdist\n",
    "\n",
    "# K = range(1,10)\n",
    "# distortions = []\n",
    "\n",
    "# for k in K:\n",
    "#     kmeanModel = KMeans(n_clusters=k).fit(x)\n",
    "#     kmeanModel.fit(x)\n",
    "#     distortions.append(sum(np.min(cdist(x, kmeanModel.cluster_centers_, 'euclidean'), axis=1)) / x.shape[0])\n",
    "\n",
    "# # Plot the elbow\n",
    "# plt.plot(K, distortions, 'bx-')\n",
    "# plt.xlabel('k')\n",
    "# plt.ylabel('Distortion')\n",
    "# plt.title('The Elbow Method showing the optimal k')\n",
    "# plt.show()\n"
   ]
  },
  {
   "cell_type": "code",
   "execution_count": 100,
   "metadata": {},
   "outputs": [],
   "source": [
    "# kmeanModel = KMeans(n_clusters=k).fit(x)\n",
    "# x['lbl']=kmeanModel.labels_ "
   ]
  },
  {
   "cell_type": "code",
   "execution_count": 101,
   "metadata": {},
   "outputs": [],
   "source": [
    "# x.columns"
   ]
  },
  {
   "cell_type": "code",
   "execution_count": 102,
   "metadata": {},
   "outputs": [
    {
     "data": {
      "text/plain": [
       "(8177, 41)"
      ]
     },
     "execution_count": 102,
     "metadata": {},
     "output_type": "execute_result"
    }
   ],
   "source": [
    "x.shape"
   ]
  },
  {
   "cell_type": "markdown",
   "metadata": {},
   "source": [
    "Random Forest Regressor\n",
    "============="
   ]
  },
  {
   "cell_type": "code",
   "execution_count": 103,
   "metadata": {},
   "outputs": [],
   "source": [
    "ylable=y[['L100800_y']]  \n",
    "xtrain,xtest,ytrain,ytest=train_test_split(x, ylable, random_state=42, test_size=0.2)"
   ]
  },
  {
   "cell_type": "code",
   "execution_count": 104,
   "metadata": {},
   "outputs": [
    {
     "name": "stdout",
     "output_type": "stream",
     "text": [
      "[4.70231959e-01 2.09162874e-01 2.94083118e-02 3.61542156e-02\n",
      " 1.47634738e-02 1.55530721e-02 8.98542831e-03 3.53021056e-02\n",
      " 0.00000000e+00 1.27201263e-02 1.00190890e-02 9.05534215e-03\n",
      " 1.88365175e-02 1.39684640e-02 1.17464840e-02 1.21422373e-02\n",
      " 1.19639299e-02 1.52987569e-02 1.55569171e-02 8.32804662e-03\n",
      " 8.14532488e-03 0.00000000e+00 0.00000000e+00 2.25859593e-03\n",
      " 0.00000000e+00 0.00000000e+00 8.27429887e-03 1.01296713e-03\n",
      " 4.11899364e-06 7.74760461e-04 0.00000000e+00 4.78446130e-03\n",
      " 0.00000000e+00 3.21247518e-03 0.00000000e+00 5.18359153e-04\n",
      " 2.22740182e-04 2.56528738e-03 2.42719001e-03 6.45553375e-03\n",
      " 1.46536055e-04]\n"
     ]
    }
   ],
   "source": [
    "regr = RandomForestRegressor(max_depth=7, random_state=0,verbose =0,n_estimators=500)\n",
    "regr.fit(xtrain, ytrain) \n",
    "print(regr.feature_importances_)\n",
    "ypred=regr.predict(xtest)\n"
   ]
  },
  {
   "cell_type": "code",
   "execution_count": 105,
   "metadata": {},
   "outputs": [
    {
     "data": {
      "text/plain": [
       "Index(['L100800_x', 'L104600', 'L103000', 'S000300', 'S000501', 'L103300',\n",
       "       'S000502', 'L101700', 'SEX', 'AGE', 'L190400', 'L190500', 'L101300',\n",
       "       'L190300', 'L103100', 'L101600', 'L100700', 'L102900', 'L504700',\n",
       "       'S010102', 'S010101', 'FIELD_15', 'FIELD_22', 'FIELD_33', 'FIELD_24',\n",
       "       'FIELD_17', 'FIELD_38', 'FIELD_31', 'FIELD_21', 'FIELD_27', 'FIELD_14',\n",
       "       'FIELD_40', 'FIELD_20', 'FIELD_41', 'FIELD_13', 'FIELD_29', 'FIELD_28',\n",
       "       'FIELD_32', 'FIELD_4', 'FIELD_42', 'FIELD_19'],\n",
       "      dtype='object')"
      ]
     },
     "execution_count": 105,
     "metadata": {},
     "output_type": "execute_result"
    }
   ],
   "source": [
    "xtrain.columns"
   ]
  },
  {
   "cell_type": "code",
   "execution_count": 106,
   "metadata": {},
   "outputs": [
    {
     "name": "stdout",
     "output_type": "stream",
     "text": [
      "mean_squared_error 60.3908503255801\n",
      "root mean_squared_error 7.771155018758801\n",
      "mean_absolute_error 5.8009572411411865\n",
      "r2_score 0.2934862416107321\n"
     ]
    },
    {
     "data": {
      "image/png": "[encoded data removed]",
      "text/plain": [
       "<Figure size 432x288 with 1 Axes>"
      ]
     },
     "metadata": {
      "needs_background": "light"
     },
     "output_type": "display_data"
    },
    {
     "data": {
      "text/html": [
       "<div>\n",
       "<style scoped>\n",
       "    .dataframe tbody tr th:only-of-type {\n",
       "        vertical-align: middle;\n",
       "    }\n",
       "\n",
       "    .dataframe tbody tr th {\n",
       "        vertical-align: top;\n",
       "    }\n",
       "\n",
       "    .dataframe thead th {\n",
       "        text-align: right;\n",
       "    }\n",
       "</style>\n",
       "<table border=\"1\" class=\"dataframe\">\n",
       "  <thead>\n",
       "    <tr style=\"text-align: right;\">\n",
       "      <th></th>\n",
       "      <th>t + 1</th>\n",
       "      <th>pred (t +1)</th>\n",
       "    </tr>\n",
       "  </thead>\n",
       "  <tbody>\n",
       "    <tr>\n",
       "      <th>1398</th>\n",
       "      <td>128.0</td>\n",
       "      <td>122.213610</td>\n",
       "    </tr>\n",
       "    <tr>\n",
       "      <th>447</th>\n",
       "      <td>129.0</td>\n",
       "      <td>92.595869</td>\n",
       "    </tr>\n",
       "    <tr>\n",
       "      <th>1440</th>\n",
       "      <td>130.0</td>\n",
       "      <td>129.180338</td>\n",
       "    </tr>\n",
       "    <tr>\n",
       "      <th>1599</th>\n",
       "      <td>132.0</td>\n",
       "      <td>99.431737</td>\n",
       "    </tr>\n",
       "    <tr>\n",
       "      <th>949</th>\n",
       "      <td>133.0</td>\n",
       "      <td>146.751446</td>\n",
       "    </tr>\n",
       "    <tr>\n",
       "      <th>483</th>\n",
       "      <td>135.0</td>\n",
       "      <td>130.971472</td>\n",
       "    </tr>\n",
       "    <tr>\n",
       "      <th>1558</th>\n",
       "      <td>139.0</td>\n",
       "      <td>94.940231</td>\n",
       "    </tr>\n",
       "    <tr>\n",
       "      <th>1165</th>\n",
       "      <td>159.0</td>\n",
       "      <td>144.040751</td>\n",
       "    </tr>\n",
       "    <tr>\n",
       "      <th>1092</th>\n",
       "      <td>163.0</td>\n",
       "      <td>104.241181</td>\n",
       "    </tr>\n",
       "    <tr>\n",
       "      <th>841</th>\n",
       "      <td>192.0</td>\n",
       "      <td>123.038947</td>\n",
       "    </tr>\n",
       "  </tbody>\n",
       "</table>\n",
       "</div>"
      ],
      "text/plain": [
       "      t + 1  pred (t +1)\n",
       "1398  128.0   122.213610\n",
       "447   129.0    92.595869\n",
       "1440  130.0   129.180338\n",
       "1599  132.0    99.431737\n",
       "949   133.0   146.751446\n",
       "483   135.0   130.971472\n",
       "1558  139.0    94.940231\n",
       "1165  159.0   144.040751\n",
       "1092  163.0   104.241181\n",
       "841   192.0   123.038947"
      ]
     },
     "execution_count": 106,
     "metadata": {},
     "output_type": "execute_result"
    },
    {
     "data": {
      "image/png": "[encoded data removed]",
      "text/plain": [
       "<Figure size 432x288 with 1 Axes>"
      ]
     },
     "metadata": {
      "needs_background": "light"
     },
     "output_type": "display_data"
    }
   ],
   "source": [
    "\n",
    "import math\n",
    "print('mean_squared_error',mean_squared_error(ytest, ypred))\n",
    "print('root mean_squared_error',math.sqrt(mean_squared_error(ytest, ypred)))\n",
    "print('mean_absolute_error',mean_absolute_error(ytest, ypred))\n",
    "print('r2_score',r2_score(ytest, ypred))\n",
    "\n",
    "ypredPD=pd.DataFrame()\n",
    "# ypredPD['t']=xtest['S000501_x'].values\n",
    "ypredPD['t + 1']=ytest.values.ravel()\n",
    "ypredPD['pred (t +1)']=ypred\n",
    "ypredPD.head(30)\n",
    "\n",
    "import matplotlib.patches as mpatches\n",
    "plt.ylabel('Values')\n",
    "plt.xlabel('index')\n",
    "red_patch = mpatches.Patch(color='red', label='Actual data')\n",
    "blue_patch = mpatches.Patch(color='blue', label='Predicted data')\n",
    "plt.legend(handles=[red_patch,blue_patch])\n",
    "\n",
    "ypredPD=ypredPD.sort_values(by=['t + 1'])\n",
    "plt.scatter(np.arange(0,ypredPD.shape[0],1),ypredPD['pred (t +1)'][:ypredPD.shape[0]])\n",
    "plt.plot(np.arange(0,ypredPD.shape[0],1),ypredPD['t + 1'][:ypredPD.shape[0]],color='red')\n",
    "plt.show()\n",
    "\n",
    "plt.ylabel('p*(t+1), Predicted data')\n",
    "plt.xlabel('p(t+1), Actual data')\n",
    "plt.scatter(ypredPD['t + 1'][:ypredPD.shape[0]],ypredPD['pred (t +1)'][:ypredPD.shape[0]])\n",
    "\n",
    "ypredPD.tail(10)"
   ]
  },
  {
   "cell_type": "code",
   "execution_count": 89,
   "metadata": {},
   "outputs": [],
   "source": [
    "# tempdata=pd.DataFrame(xtest.copy())\n",
    "# tempdata['ytest']=ytest\n",
    "# # temp=temp.dropna()\n",
    "# # tempdata.head()\n",
    "# # tempdata[tempdata.ytest.isna()].index\n",
    "\n",
    "# tempdata=tempdata.drop(tempdata[tempdata.ytest.isna()].index)\n"
   ]
  },
  {
   "cell_type": "markdown",
   "metadata": {},
   "source": [
    "xg boost\n",
    "=========="
   ]
  },
  {
   "cell_type": "code",
   "execution_count": 53,
   "metadata": {},
   "outputs": [],
   "source": [
    "import xgboost as xgb\n",
    "# from sklearn.metrics import mean_squared_error\n",
    "# import pandas as pd\n",
    "# import numpy as np"
   ]
  },
  {
   "cell_type": "code",
   "execution_count": 54,
   "metadata": {},
   "outputs": [
    {
     "name": "stdout",
     "output_type": "stream",
     "text": [
      "[01:29:56] WARNING: C:/Jenkins/workspace/xgboost-win64_release_0.90/src/objective/regression_obj.cu:152: reg:linear is now deprecated in favor of reg:squarederror.\n"
     ]
    },
    {
     "data": {
      "text/plain": [
       "XGBRegressor(base_score=0.5, booster='gbtree', colsample_bylevel=1,\n",
       "             colsample_bynode=1, colsample_bytree=1, gamma=0,\n",
       "             importance_type='gain', learning_rate=0.1, max_delta_step=0,\n",
       "             max_depth=3, min_child_weight=1, missing=None, n_estimators=100,\n",
       "             n_jobs=1, nthread=None, objective='reg:linear', random_state=0,\n",
       "             reg_alpha=0, reg_lambda=1, scale_pos_weight=1, seed=None,\n",
       "             silent=None, subsample=1, verbosity=1)"
      ]
     },
     "execution_count": 54,
     "metadata": {},
     "output_type": "execute_result"
    }
   ],
   "source": [
    "xg_reg = xgb.XGBRegressor()\n",
    "# xg_reg = xgb.XGBRegressor(objective ='reg:linear', colsample_bytree = 0.3, \n",
    "#                           learning_rate = 0.1,max_depth = 5, alpha = 10, n_estimators = 10)\n",
    "xg_reg.fit(xtrain, ytrain) "
   ]
  },
  {
   "cell_type": "code",
   "execution_count": 55,
   "metadata": {},
   "outputs": [
    {
     "name": "stdout",
     "output_type": "stream",
     "text": [
      "mean_squared_error 61.75672619197282\n",
      "root mean_squared_error 7.8585447884435204\n",
      "mean_absolute_error 5.909727513858967\n",
      "r2_score 0.48109264708694155\n"
     ]
    }
   ],
   "source": [
    "\n",
    "ypred = xg_reg.predict(xtest)\n",
    "\n",
    "import math\n",
    "print('mean_squared_error',mean_squared_error(ytest, ypred))\n",
    "print('root mean_squared_error',math.sqrt(mean_squared_error(ytest, ypred)))\n",
    "print('mean_absolute_error',mean_absolute_error(ytest, ypred))\n",
    "print('r2_score',r2_score(ytest, ypred))\n",
    "\n",
    "# ypredPD=pd.DataFrame()\n",
    "# ypredPD['t']=xtest['S000501_x'].values\n",
    "# ypredPD['t + 1']=ytest.values\n",
    "# ypredPD['pred (t +1)']=ypred\n",
    "# ypredPD.head(10)"
   ]
  },
  {
   "cell_type": "code",
   "execution_count": 56,
   "metadata": {},
   "outputs": [],
   "source": [
    "# ytest[ytest.isna()].shape\n",
    "# tempdata.iloc[:,-1]"
   ]
  },
  {
   "cell_type": "markdown",
   "metadata": {},
   "source": [
    "ANN\n",
    "=========="
   ]
  },
  {
   "cell_type": "code",
   "execution_count": 58,
   "metadata": {},
   "outputs": [],
   "source": [
    "model= Sequential()\n",
    "model.add(Dense(input_dim=19,units=128,activation='relu', kernel_initializer='uniform'))\n",
    "model.add(Dense(units=128, activation='relu', kernel_initializer='uniform')) \n",
    "model.add(BatchNormalization())\n",
    "model.add(Dropout(0.25))  \n",
    "model.add(Dense(units=64, activation='relu', kernel_initializer='uniform'))\n",
    "model.add(Dense(units=32, activation='relu', kernel_initializer='uniform')) \n",
    "model.add(BatchNormalization())\n",
    "model.add(Dropout(0.25))  \n",
    "model.add(Dense(units=16, activation='relu', kernel_initializer='uniform'))\n",
    "model.add(BatchNormalization())\n",
    "model.add(Dropout(0.25))  \n",
    "model.add(Dense(units=8, activation='relu', kernel_initializer='uniform'))\n",
    "model.add(Dense(units=1, kernel_initializer='uniform'))\n",
    "model.compile(loss='mean_squared_error', optimizer='Nadam', metrics=['mean_squared_error' ])"
   ]
  },
  {
   "cell_type": "code",
   "execution_count": 59,
   "metadata": {
    "scrolled": true
   },
   "outputs": [
    {
     "name": "stderr",
     "output_type": "stream",
     "text": [
      "W1004 01:30:06.831277   164 deprecation_wrapper.py:119] From C:\\ProgramData\\Anaconda3\\lib\\site-packages\\keras\\backend\\tensorflow_backend.py:986: The name tf.assign_add is deprecated. Please use tf.compat.v1.assign_add instead.\n",
      "\n"
     ]
    },
    {
     "name": "stdout",
     "output_type": "stream",
     "text": [
      "Train on 24937 samples, validate on 6235 samples\n",
      "Epoch 1/100\n",
      "24937/24937 [==============================] - 2s 70us/step - loss: 3466.0611 - mean_squared_error: 3466.0611 - val_loss: 223.7124 - val_mean_squared_error: 223.7124\n",
      "Epoch 2/100\n",
      "24937/24937 [==============================] - 1s 31us/step - loss: 408.2913 - mean_squared_error: 408.2913 - val_loss: 262.0882 - val_mean_squared_error: 262.0882\n",
      "Epoch 3/100\n",
      "24937/24937 [==============================] - 1s 32us/step - loss: 329.2152 - mean_squared_error: 329.2152 - val_loss: 2545.9635 - val_mean_squared_error: 2545.9635\n",
      "Epoch 4/100\n",
      "24937/24937 [==============================] - 1s 32us/step - loss: 286.4956 - mean_squared_error: 286.4956 - val_loss: 3514.3411 - val_mean_squared_error: 3514.3411\n",
      "Epoch 5/100\n",
      "24937/24937 [==============================] - 1s 31us/step - loss: 268.6574 - mean_squared_error: 268.6574 - val_loss: 131.6172 - val_mean_squared_error: 131.6172\n",
      "Epoch 6/100\n",
      "24937/24937 [==============================] - 1s 32us/step - loss: 262.0184 - mean_squared_error: 262.0184 - val_loss: 180.9986 - val_mean_squared_error: 180.9986\n",
      "Epoch 7/100\n",
      "24937/24937 [==============================] - 1s 32us/step - loss: 236.6908 - mean_squared_error: 236.6908 - val_loss: 223.4075 - val_mean_squared_error: 223.4075\n",
      "Epoch 8/100\n",
      "24937/24937 [==============================] - 1s 32us/step - loss: 216.4480 - mean_squared_error: 216.4480 - val_loss: 704.3552 - val_mean_squared_error: 704.3552\n",
      "Epoch 9/100\n",
      "24937/24937 [==============================] - 1s 31us/step - loss: 209.6765 - mean_squared_error: 209.6765 - val_loss: 74.2548 - val_mean_squared_error: 74.2548\n",
      "Epoch 10/100\n",
      "24937/24937 [==============================] - 1s 32us/step - loss: 196.0138 - mean_squared_error: 196.0138 - val_loss: 89.1585 - val_mean_squared_error: 89.1585\n",
      "Epoch 11/100\n",
      "24937/24937 [==============================] - 1s 31us/step - loss: 188.0446 - mean_squared_error: 188.0446 - val_loss: 78.6644 - val_mean_squared_error: 78.6644\n",
      "Epoch 12/100\n",
      "24937/24937 [==============================] - 1s 32us/step - loss: 175.4773 - mean_squared_error: 175.4773 - val_loss: 76.4355 - val_mean_squared_error: 76.4355\n",
      "Epoch 13/100\n",
      "24937/24937 [==============================] - 1s 31us/step - loss: 159.3507 - mean_squared_error: 159.3507 - val_loss: 67.7299 - val_mean_squared_error: 67.7299\n",
      "Epoch 14/100\n",
      "24937/24937 [==============================] - 1s 32us/step - loss: 145.2000 - mean_squared_error: 145.2000 - val_loss: 95.9782 - val_mean_squared_error: 95.9782\n",
      "Epoch 15/100\n",
      "24937/24937 [==============================] - 1s 31us/step - loss: 132.2362 - mean_squared_error: 132.2362 - val_loss: 105.8567 - val_mean_squared_error: 105.8567\n",
      "Epoch 16/100\n",
      "24937/24937 [==============================] - 1s 32us/step - loss: 118.3806 - mean_squared_error: 118.3806 - val_loss: 204116.6636 - val_mean_squared_error: 204116.6636\n",
      "Epoch 17/100\n",
      "24937/24937 [==============================] - 1s 31us/step - loss: 110.9180 - mean_squared_error: 110.9180 - val_loss: 941656.4589 - val_mean_squared_error: 941656.4589\n",
      "Epoch 18/100\n",
      "24937/24937 [==============================] - 1s 32us/step - loss: 105.2725 - mean_squared_error: 105.2725 - val_loss: 88.2253 - val_mean_squared_error: 88.2253\n",
      "Epoch 19/100\n",
      "24937/24937 [==============================] - 1s 32us/step - loss: 94.0879 - mean_squared_error: 94.0879 - val_loss: 77.0107 - val_mean_squared_error: 77.0107\n",
      "Epoch 20/100\n",
      "24937/24937 [==============================] - 1s 32us/step - loss: 86.5157 - mean_squared_error: 86.5157 - val_loss: 71.8161 - val_mean_squared_error: 71.8161\n",
      "Epoch 21/100\n",
      "24937/24937 [==============================] - 1s 32us/step - loss: 82.0049 - mean_squared_error: 82.0049 - val_loss: 77.7409 - val_mean_squared_error: 77.7409\n",
      "Epoch 22/100\n",
      "24937/24937 [==============================] - 1s 31us/step - loss: 80.5312 - mean_squared_error: 80.5312 - val_loss: 72.7819 - val_mean_squared_error: 72.7819\n",
      "Epoch 23/100\n",
      "24937/24937 [==============================] - 1s 32us/step - loss: 78.6046 - mean_squared_error: 78.6046 - val_loss: 70.8879 - val_mean_squared_error: 70.8879\n",
      "Epoch 24/100\n",
      "24937/24937 [==============================] - 1s 32us/step - loss: 77.5280 - mean_squared_error: 77.5280 - val_loss: 71.7881 - val_mean_squared_error: 71.7881\n",
      "Epoch 25/100\n",
      "24937/24937 [==============================] - 1s 32us/step - loss: 76.2579 - mean_squared_error: 76.2579 - val_loss: 67.2614 - val_mean_squared_error: 67.2614\n",
      "Epoch 26/100\n",
      "24937/24937 [==============================] - 1s 32us/step - loss: 76.4944 - mean_squared_error: 76.4944 - val_loss: 86.5728 - val_mean_squared_error: 86.5728\n",
      "Epoch 27/100\n",
      "24937/24937 [==============================] - 1s 32us/step - loss: 76.2576 - mean_squared_error: 76.2576 - val_loss: 72.0864 - val_mean_squared_error: 72.0864\n",
      "Epoch 28/100\n",
      "24937/24937 [==============================] - 1s 33us/step - loss: 75.1070 - mean_squared_error: 75.1070 - val_loss: 64.2033 - val_mean_squared_error: 64.2033\n",
      "Epoch 29/100\n",
      "24937/24937 [==============================] - 1s 33us/step - loss: 74.7664 - mean_squared_error: 74.7664 - val_loss: 68.1010 - val_mean_squared_error: 68.1010\n",
      "Epoch 30/100\n",
      "24937/24937 [==============================] - 1s 33us/step - loss: 74.0423 - mean_squared_error: 74.0423 - val_loss: 131.5513 - val_mean_squared_error: 131.5513\n",
      "Epoch 31/100\n",
      "24937/24937 [==============================] - 1s 32us/step - loss: 74.3440 - mean_squared_error: 74.3440 - val_loss: 75.1023 - val_mean_squared_error: 75.1023\n",
      "Epoch 32/100\n",
      "24937/24937 [==============================] - 1s 32us/step - loss: 74.0810 - mean_squared_error: 74.0810 - val_loss: 92.8178 - val_mean_squared_error: 92.8178\n",
      "Epoch 33/100\n",
      "24937/24937 [==============================] - 1s 32us/step - loss: 73.9201 - mean_squared_error: 73.9201 - val_loss: 69.0309 - val_mean_squared_error: 69.0309\n",
      "Epoch 34/100\n",
      "24937/24937 [==============================] - 1s 32us/step - loss: 73.3497 - mean_squared_error: 73.3497 - val_loss: 67.8456 - val_mean_squared_error: 67.8456\n",
      "Epoch 35/100\n",
      "24937/24937 [==============================] - 1s 32us/step - loss: 73.1991 - mean_squared_error: 73.1991 - val_loss: 63.7910 - val_mean_squared_error: 63.7910\n",
      "Epoch 36/100\n",
      "24937/24937 [==============================] - 1s 32us/step - loss: 73.3997 - mean_squared_error: 73.3997 - val_loss: 101.3320 - val_mean_squared_error: 101.3320\n",
      "Epoch 37/100\n",
      "24937/24937 [==============================] - 1s 32us/step - loss: 72.9049 - mean_squared_error: 72.9049 - val_loss: 65.4400 - val_mean_squared_error: 65.4400\n",
      "Epoch 38/100\n",
      "24937/24937 [==============================] - 1s 32us/step - loss: 72.0935 - mean_squared_error: 72.0935 - val_loss: 76.0992 - val_mean_squared_error: 76.0992\n",
      "Epoch 39/100\n",
      "24937/24937 [==============================] - 1s 32us/step - loss: 72.5832 - mean_squared_error: 72.5832 - val_loss: 90.9653 - val_mean_squared_error: 90.9653\n",
      "Epoch 40/100\n",
      "24937/24937 [==============================] - 1s 32us/step - loss: 72.5102 - mean_squared_error: 72.5102 - val_loss: 69.6321 - val_mean_squared_error: 69.6321\n",
      "Epoch 41/100\n",
      "24937/24937 [==============================] - 1s 31us/step - loss: 73.1238 - mean_squared_error: 73.1238 - val_loss: 101.3748 - val_mean_squared_error: 101.3748\n",
      "Epoch 42/100\n",
      "24937/24937 [==============================] - 1s 32us/step - loss: 73.0716 - mean_squared_error: 73.0716 - val_loss: 71.2382 - val_mean_squared_error: 71.2382\n",
      "Epoch 43/100\n",
      "24937/24937 [==============================] - 1s 31us/step - loss: 72.7179 - mean_squared_error: 72.7179 - val_loss: 67.9085 - val_mean_squared_error: 67.9085\n",
      "Epoch 44/100\n",
      "24937/24937 [==============================] - 1s 32us/step - loss: 73.1283 - mean_squared_error: 73.1283 - val_loss: 80.7929 - val_mean_squared_error: 80.7929\n",
      "Epoch 45/100\n",
      "24937/24937 [==============================] - 1s 32us/step - loss: 72.8071 - mean_squared_error: 72.8071 - val_loss: 64.9344 - val_mean_squared_error: 64.9344\n",
      "Epoch 46/100\n",
      "24937/24937 [==============================] - 1s 32us/step - loss: 72.5421 - mean_squared_error: 72.5421 - val_loss: 69.1581 - val_mean_squared_error: 69.1581\n",
      "Epoch 47/100\n",
      "24937/24937 [==============================] - 1s 31us/step - loss: 72.8767 - mean_squared_error: 72.8767 - val_loss: 83.4350 - val_mean_squared_error: 83.4350\n",
      "Epoch 48/100\n",
      "24937/24937 [==============================] - 1s 32us/step - loss: 72.5356 - mean_squared_error: 72.5356 - val_loss: 65.1585 - val_mean_squared_error: 65.1585\n",
      "Epoch 49/100\n",
      "24937/24937 [==============================] - 1s 32us/step - loss: 72.0496 - mean_squared_error: 72.0496 - val_loss: 94.6202 - val_mean_squared_error: 94.6202\n",
      "Epoch 50/100\n",
      "24937/24937 [==============================] - 1s 31us/step - loss: 72.4460 - mean_squared_error: 72.4460 - val_loss: 114.9351 - val_mean_squared_error: 114.9351\n",
      "Epoch 51/100\n",
      "24937/24937 [==============================] - 1s 32us/step - loss: 72.8812 - mean_squared_error: 72.8812 - val_loss: 78.1185 - val_mean_squared_error: 78.1185\n",
      "Epoch 52/100\n",
      "24937/24937 [==============================] - 1s 32us/step - loss: 71.7488 - mean_squared_error: 71.7488 - val_loss: 81.0055 - val_mean_squared_error: 81.0055\n",
      "Epoch 53/100\n",
      "24937/24937 [==============================] - 1s 32us/step - loss: 71.9392 - mean_squared_error: 71.9392 - val_loss: 81.8038 - val_mean_squared_error: 81.8038\n",
      "Epoch 54/100\n",
      "24937/24937 [==============================] - 1s 31us/step - loss: 71.9526 - mean_squared_error: 71.9526 - val_loss: 68.2524 - val_mean_squared_error: 68.2524\n",
      "Epoch 55/100\n",
      "24937/24937 [==============================] - 1s 31us/step - loss: 71.8448 - mean_squared_error: 71.8448 - val_loss: 71.1181 - val_mean_squared_error: 71.1181\n",
      "Epoch 56/100\n",
      "24937/24937 [==============================] - 1s 32us/step - loss: 71.2072 - mean_squared_error: 71.2072 - val_loss: 70.6607 - val_mean_squared_error: 70.6607\n",
      "Epoch 57/100\n",
      "24937/24937 [==============================] - 1s 31us/step - loss: 71.8950 - mean_squared_error: 71.8950 - val_loss: 65.7307 - val_mean_squared_error: 65.7307\n",
      "Epoch 58/100\n",
      "24937/24937 [==============================] - 1s 31us/step - loss: 71.4359 - mean_squared_error: 71.4359 - val_loss: 80.9868 - val_mean_squared_error: 80.9868\n",
      "Epoch 59/100\n",
      "24937/24937 [==============================] - 1s 32us/step - loss: 71.1797 - mean_squared_error: 71.1797 - val_loss: 74.6676 - val_mean_squared_error: 74.6676\n",
      "Epoch 60/100\n",
      "24937/24937 [==============================] - 1s 32us/step - loss: 71.9694 - mean_squared_error: 71.9694 - val_loss: 81.7898 - val_mean_squared_error: 81.7898\n",
      "Epoch 61/100\n",
      "24937/24937 [==============================] - 1s 31us/step - loss: 72.5300 - mean_squared_error: 72.5300 - val_loss: 75.1260 - val_mean_squared_error: 75.1260\n",
      "Epoch 62/100\n",
      "24937/24937 [==============================] - 1s 31us/step - loss: 71.4155 - mean_squared_error: 71.4155 - val_loss: 69.3444 - val_mean_squared_error: 69.3444\n",
      "Epoch 63/100\n",
      "24937/24937 [==============================] - 1s 32us/step - loss: 71.6998 - mean_squared_error: 71.6998 - val_loss: 66.0708 - val_mean_squared_error: 66.0708\n",
      "Epoch 64/100\n",
      "24937/24937 [==============================] - 1s 32us/step - loss: 71.2050 - mean_squared_error: 71.2050 - val_loss: 77.4422 - val_mean_squared_error: 77.4422\n",
      "Epoch 65/100\n",
      "24937/24937 [==============================] - 1s 31us/step - loss: 72.4824 - mean_squared_error: 72.4824 - val_loss: 66.5576 - val_mean_squared_error: 66.5576\n",
      "Epoch 66/100\n",
      "24937/24937 [==============================] - 1s 31us/step - loss: 71.0496 - mean_squared_error: 71.0496 - val_loss: 91.0417 - val_mean_squared_error: 91.0417\n",
      "Epoch 67/100\n",
      "24937/24937 [==============================] - 1s 32us/step - loss: 72.1026 - mean_squared_error: 72.1026 - val_loss: 65.3722 - val_mean_squared_error: 65.3722\n",
      "Epoch 68/100\n",
      "24937/24937 [==============================] - 1s 32us/step - loss: 71.8107 - mean_squared_error: 71.8107 - val_loss: 132.5779 - val_mean_squared_error: 132.5779\n",
      "Epoch 69/100\n",
      "24937/24937 [==============================] - 1s 32us/step - loss: 71.8694 - mean_squared_error: 71.8694 - val_loss: 75.9544 - val_mean_squared_error: 75.9544\n",
      "Epoch 70/100\n",
      "24937/24937 [==============================] - 1s 31us/step - loss: 72.4240 - mean_squared_error: 72.4240 - val_loss: 81.6543 - val_mean_squared_error: 81.6543\n",
      "Epoch 71/100\n",
      "24937/24937 [==============================] - 1s 31us/step - loss: 71.1327 - mean_squared_error: 71.1327 - val_loss: 104.8090 - val_mean_squared_error: 104.8090\n",
      "Epoch 72/100\n",
      "24937/24937 [==============================] - 1s 31us/step - loss: 71.1744 - mean_squared_error: 71.1744 - val_loss: 65.1997 - val_mean_squared_error: 65.1997\n",
      "Epoch 73/100\n",
      "24937/24937 [==============================] - 1s 32us/step - loss: 71.3901 - mean_squared_error: 71.3901 - val_loss: 84.6999 - val_mean_squared_error: 84.6999\n",
      "Epoch 74/100\n",
      "24937/24937 [==============================] - 1s 31us/step - loss: 72.2450 - mean_squared_error: 72.2450 - val_loss: 67.7561 - val_mean_squared_error: 67.7561\n",
      "Epoch 75/100\n",
      "24937/24937 [==============================] - 1s 32us/step - loss: 70.7950 - mean_squared_error: 70.7950 - val_loss: 70.5444 - val_mean_squared_error: 70.5444\n",
      "Epoch 76/100\n",
      "24937/24937 [==============================] - 1s 31us/step - loss: 71.4911 - mean_squared_error: 71.4911 - val_loss: 90.5937 - val_mean_squared_error: 90.5937\n",
      "Epoch 77/100\n",
      "24937/24937 [==============================] - 1s 32us/step - loss: 70.7915 - mean_squared_error: 70.7915 - val_loss: 79.6901 - val_mean_squared_error: 79.6901\n",
      "Epoch 78/100\n",
      "24937/24937 [==============================] - 1s 31us/step - loss: 71.1633 - mean_squared_error: 71.1633 - val_loss: 69.9462 - val_mean_squared_error: 69.9462\n",
      "Epoch 79/100\n",
      "24937/24937 [==============================] - 1s 31us/step - loss: 72.1378 - mean_squared_error: 72.1378 - val_loss: 66.0745 - val_mean_squared_error: 66.0745\n",
      "Epoch 80/100\n",
      "24937/24937 [==============================] - 1s 32us/step - loss: 72.0090 - mean_squared_error: 72.0090 - val_loss: 72.5147 - val_mean_squared_error: 72.5147\n",
      "Epoch 81/100\n",
      "24937/24937 [==============================] - 1s 31us/step - loss: 70.6922 - mean_squared_error: 70.6922 - val_loss: 64.8582 - val_mean_squared_error: 64.8582\n",
      "Epoch 82/100\n",
      "24937/24937 [==============================] - 1s 33us/step - loss: 71.0550 - mean_squared_error: 71.0550 - val_loss: 87.0305 - val_mean_squared_error: 87.0305\n",
      "Epoch 83/100\n",
      "24937/24937 [==============================] - 1s 32us/step - loss: 71.4202 - mean_squared_error: 71.4202 - val_loss: 67.4637 - val_mean_squared_error: 67.4637\n",
      "Epoch 84/100\n",
      "24937/24937 [==============================] - 1s 32us/step - loss: 71.4900 - mean_squared_error: 71.4900 - val_loss: 78.2503 - val_mean_squared_error: 78.2503\n",
      "Epoch 85/100\n",
      "24937/24937 [==============================] - 1s 32us/step - loss: 71.4976 - mean_squared_error: 71.4976 - val_loss: 100.4658 - val_mean_squared_error: 100.4658\n",
      "Epoch 86/100\n",
      "24937/24937 [==============================] - 1s 32us/step - loss: 71.2184 - mean_squared_error: 71.2184 - val_loss: 67.1707 - val_mean_squared_error: 67.1707\n",
      "Epoch 87/100\n",
      "24937/24937 [==============================] - 1s 32us/step - loss: 71.2393 - mean_squared_error: 71.2393 - val_loss: 67.8874 - val_mean_squared_error: 67.8874\n",
      "Epoch 88/100\n",
      "24937/24937 [==============================] - 1s 32us/step - loss: 71.6185 - mean_squared_error: 71.6185 - val_loss: 76.7242 - val_mean_squared_error: 76.7242\n",
      "Epoch 89/100\n",
      "24937/24937 [==============================] - 1s 31us/step - loss: 71.1657 - mean_squared_error: 71.1657 - val_loss: 67.3280 - val_mean_squared_error: 67.3280\n",
      "Epoch 90/100\n",
      "24937/24937 [==============================] - 1s 31us/step - loss: 70.9424 - mean_squared_error: 70.9424 - val_loss: 68.2662 - val_mean_squared_error: 68.2662\n",
      "Epoch 91/100\n",
      "24937/24937 [==============================] - 1s 31us/step - loss: 70.8729 - mean_squared_error: 70.8729 - val_loss: 71.8253 - val_mean_squared_error: 71.8253\n",
      "Epoch 92/100\n",
      "24937/24937 [==============================] - 1s 31us/step - loss: 70.7312 - mean_squared_error: 70.7312 - val_loss: 71.5504 - val_mean_squared_error: 71.5504\n",
      "Epoch 93/100\n",
      "24937/24937 [==============================] - 1s 32us/step - loss: 70.7501 - mean_squared_error: 70.7501 - val_loss: 71.3290 - val_mean_squared_error: 71.3290\n",
      "Epoch 94/100\n"
     ]
    },
    {
     "name": "stdout",
     "output_type": "stream",
     "text": [
      "24937/24937 [==============================] - 1s 32us/step - loss: 70.4709 - mean_squared_error: 70.4709 - val_loss: 97.8517 - val_mean_squared_error: 97.8517\n",
      "Epoch 95/100\n",
      "24937/24937 [==============================] - 1s 31us/step - loss: 70.3885 - mean_squared_error: 70.3885 - val_loss: 78.2340 - val_mean_squared_error: 78.2340\n",
      "Epoch 96/100\n",
      "24937/24937 [==============================] - 1s 31us/step - loss: 70.3243 - mean_squared_error: 70.3243 - val_loss: 65.7738 - val_mean_squared_error: 65.7738\n",
      "Epoch 97/100\n",
      "24937/24937 [==============================] - 1s 31us/step - loss: 69.9672 - mean_squared_error: 69.9672 - val_loss: 71.9764 - val_mean_squared_error: 71.9764\n",
      "Epoch 98/100\n",
      "24937/24937 [==============================] - 1s 31us/step - loss: 70.7425 - mean_squared_error: 70.7425 - val_loss: 71.9981 - val_mean_squared_error: 71.9981\n",
      "Epoch 99/100\n",
      "24937/24937 [==============================] - 1s 31us/step - loss: 70.9729 - mean_squared_error: 70.9729 - val_loss: 79.1552 - val_mean_squared_error: 79.1552\n",
      "Epoch 100/100\n",
      "24937/24937 [==============================] - 1s 32us/step - loss: 70.0874 - mean_squared_error: 70.0874 - val_loss: 77.6462 - val_mean_squared_error: 77.6462\n"
     ]
    }
   ],
   "source": [
    "h=model.fit(xtrain, ytrain, validation_split=.2,epochs=100, batch_size=50)"
   ]
  },
  {
   "cell_type": "code",
   "execution_count": 60,
   "metadata": {},
   "outputs": [
    {
     "name": "stdout",
     "output_type": "stream",
     "text": [
      "mean_squared_error 73.95340234275717\n",
      "root mean_squared_error 8.599616406721708\n",
      "mean_absolute_error 6.329188529569806\n",
      "r2_score 0.3786107746497982\n"
     ]
    },
    {
     "data": {
      "text/html": [
       "<div>\n",
       "<style scoped>\n",
       "    .dataframe tbody tr th:only-of-type {\n",
       "        vertical-align: middle;\n",
       "    }\n",
       "\n",
       "    .dataframe tbody tr th {\n",
       "        vertical-align: top;\n",
       "    }\n",
       "\n",
       "    .dataframe thead th {\n",
       "        text-align: right;\n",
       "    }\n",
       "</style>\n",
       "<table border=\"1\" class=\"dataframe\">\n",
       "  <thead>\n",
       "    <tr style=\"text-align: right;\">\n",
       "      <th></th>\n",
       "      <th>t + 1</th>\n",
       "      <th>pred (t +1)</th>\n",
       "    </tr>\n",
       "  </thead>\n",
       "  <tbody>\n",
       "    <tr>\n",
       "      <th>0</th>\n",
       "      <td>89.0</td>\n",
       "      <td>92.097168</td>\n",
       "    </tr>\n",
       "    <tr>\n",
       "      <th>1</th>\n",
       "      <td>106.0</td>\n",
       "      <td>97.246140</td>\n",
       "    </tr>\n",
       "    <tr>\n",
       "      <th>2</th>\n",
       "      <td>94.0</td>\n",
       "      <td>94.313225</td>\n",
       "    </tr>\n",
       "    <tr>\n",
       "      <th>3</th>\n",
       "      <td>97.0</td>\n",
       "      <td>91.301956</td>\n",
       "    </tr>\n",
       "    <tr>\n",
       "      <th>4</th>\n",
       "      <td>95.0</td>\n",
       "      <td>90.068474</td>\n",
       "    </tr>\n",
       "    <tr>\n",
       "      <th>5</th>\n",
       "      <td>99.0</td>\n",
       "      <td>92.388924</td>\n",
       "    </tr>\n",
       "    <tr>\n",
       "      <th>6</th>\n",
       "      <td>92.0</td>\n",
       "      <td>94.721748</td>\n",
       "    </tr>\n",
       "    <tr>\n",
       "      <th>7</th>\n",
       "      <td>93.0</td>\n",
       "      <td>93.327438</td>\n",
       "    </tr>\n",
       "    <tr>\n",
       "      <th>8</th>\n",
       "      <td>100.0</td>\n",
       "      <td>93.935234</td>\n",
       "    </tr>\n",
       "    <tr>\n",
       "      <th>9</th>\n",
       "      <td>102.0</td>\n",
       "      <td>95.853935</td>\n",
       "    </tr>\n",
       "  </tbody>\n",
       "</table>\n",
       "</div>"
      ],
      "text/plain": [
       "   t + 1  pred (t +1)\n",
       "0   89.0    92.097168\n",
       "1  106.0    97.246140\n",
       "2   94.0    94.313225\n",
       "3   97.0    91.301956\n",
       "4   95.0    90.068474\n",
       "5   99.0    92.388924\n",
       "6   92.0    94.721748\n",
       "7   93.0    93.327438\n",
       "8  100.0    93.935234\n",
       "9  102.0    95.853935"
      ]
     },
     "execution_count": 60,
     "metadata": {},
     "output_type": "execute_result"
    }
   ],
   "source": [
    "ypred=model.predict(xtest)\n",
    "\n",
    "import math\n",
    "print('mean_squared_error',mean_squared_error(ytest, ypred))\n",
    "print('root mean_squared_error',math.sqrt(mean_squared_error(ytest, ypred)))\n",
    "print('mean_absolute_error',mean_absolute_error(ytest, ypred))\n",
    "print('r2_score',r2_score(ytest, ypred))\n",
    "\n",
    "ypredPD=pd.DataFrame()\n",
    "# ypredPD['t']=xtest['S000501_x'].values\n",
    "ypredPD['t + 1']=ytest.values.ravel()\n",
    "ypredPD['pred (t +1)']=ypred\n",
    "ypredPD.head(10)"
   ]
  },
  {
   "cell_type": "code",
   "execution_count": 61,
   "metadata": {},
   "outputs": [
    {
     "name": "stdout",
     "output_type": "stream",
     "text": [
      "dict_keys(['val_loss', 'val_mean_squared_error', 'loss', 'mean_squared_error'])\n"
     ]
    },
    {
     "data": {
      "image/png": "[encoded data removed]",
      "text/plain": [
       "<Figure size 432x288 with 1 Axes>"
      ]
     },
     "metadata": {
      "needs_background": "light"
     },
     "output_type": "display_data"
    },
    {
     "data": {
      "image/png": "[encoded data removed]",
      "text/plain": [
       "<Figure size 432x288 with 1 Axes>"
      ]
     },
     "metadata": {
      "needs_background": "light"
     },
     "output_type": "display_data"
    }
   ],
   "source": [
    "history=h\n",
    "print(history.history.keys())\n",
    "# summarize history for accuracy\n",
    "plt.plot(history.history['val_loss'])\n",
    "plt.plot(history.history['loss'])\n",
    "plt.title('model accuracy')\n",
    "plt.ylabel('accuracy')\n",
    "plt.xlabel('epoch')\n",
    "plt.legend(['train', 'test'], loc='upper left')\n",
    "plt.show()\n",
    "# summarize history for loss\n",
    "plt.plot(history.history['val_mean_squared_error'])\n",
    "plt.plot(history.history['mean_squared_error'])\n",
    "plt.title('model loss')\n",
    "plt.ylabel('loss')\n",
    "plt.xlabel('epoch')\n",
    "plt.legend(['train', 'test'], loc='upper left')\n",
    "plt.show()"
   ]
  },
  {
   "cell_type": "code",
   "execution_count": 62,
   "metadata": {},
   "outputs": [
    {
     "name": "stdout",
     "output_type": "stream",
     "text": [
      "6.329188529569806\n",
      "5.821921924924723\n",
      "50.981650198896446\n"
     ]
    }
   ],
   "source": [
    "ypredPD['diff']=abs(ypredPD['t + 1']- ypredPD['pred (t +1)'])\n",
    "print(np.mean(ypredPD['diff']))\n",
    "print(np.std(ypredPD['diff']))\n",
    "print(100*ypredPD[ypredPD['diff']<=5].shape[0]/ypredPD.shape[0])"
   ]
  },
  {
   "cell_type": "code",
   "execution_count": 63,
   "metadata": {},
   "outputs": [
    {
     "data": {
      "image/png": "[encoded data removed]",
      "text/plain": [
       "<Figure size 432x288 with 1 Axes>"
      ]
     },
     "metadata": {
      "needs_background": "light"
     },
     "output_type": "display_data"
    },
    {
     "data": {
      "text/html": [
       "<div>\n",
       "<style scoped>\n",
       "    .dataframe tbody tr th:only-of-type {\n",
       "        vertical-align: middle;\n",
       "    }\n",
       "\n",
       "    .dataframe tbody tr th {\n",
       "        vertical-align: top;\n",
       "    }\n",
       "\n",
       "    .dataframe thead th {\n",
       "        text-align: right;\n",
       "    }\n",
       "</style>\n",
       "<table border=\"1\" class=\"dataframe\">\n",
       "  <thead>\n",
       "    <tr style=\"text-align: right;\">\n",
       "      <th></th>\n",
       "      <th>t + 1</th>\n",
       "      <th>pred (t +1)</th>\n",
       "      <th>diff</th>\n",
       "    </tr>\n",
       "  </thead>\n",
       "  <tbody>\n",
       "    <tr>\n",
       "      <th>7409</th>\n",
       "      <td>59.0</td>\n",
       "      <td>90.086021</td>\n",
       "      <td>31.086021</td>\n",
       "    </tr>\n",
       "    <tr>\n",
       "      <th>1099</th>\n",
       "      <td>70.0</td>\n",
       "      <td>90.065338</td>\n",
       "      <td>20.065338</td>\n",
       "    </tr>\n",
       "    <tr>\n",
       "      <th>1135</th>\n",
       "      <td>70.0</td>\n",
       "      <td>90.083504</td>\n",
       "      <td>20.083504</td>\n",
       "    </tr>\n",
       "    <tr>\n",
       "      <th>7325</th>\n",
       "      <td>70.0</td>\n",
       "      <td>90.090096</td>\n",
       "      <td>20.090096</td>\n",
       "    </tr>\n",
       "    <tr>\n",
       "      <th>1923</th>\n",
       "      <td>70.0</td>\n",
       "      <td>90.064430</td>\n",
       "      <td>20.064430</td>\n",
       "    </tr>\n",
       "    <tr>\n",
       "      <th>6150</th>\n",
       "      <td>70.0</td>\n",
       "      <td>90.078682</td>\n",
       "      <td>20.078682</td>\n",
       "    </tr>\n",
       "    <tr>\n",
       "      <th>6940</th>\n",
       "      <td>70.0</td>\n",
       "      <td>89.735100</td>\n",
       "      <td>19.735100</td>\n",
       "    </tr>\n",
       "    <tr>\n",
       "      <th>7198</th>\n",
       "      <td>70.0</td>\n",
       "      <td>90.075302</td>\n",
       "      <td>20.075302</td>\n",
       "    </tr>\n",
       "    <tr>\n",
       "      <th>6727</th>\n",
       "      <td>70.0</td>\n",
       "      <td>90.069450</td>\n",
       "      <td>20.069450</td>\n",
       "    </tr>\n",
       "    <tr>\n",
       "      <th>5082</th>\n",
       "      <td>70.0</td>\n",
       "      <td>90.095238</td>\n",
       "      <td>20.095238</td>\n",
       "    </tr>\n",
       "  </tbody>\n",
       "</table>\n",
       "</div>"
      ],
      "text/plain": [
       "      t + 1  pred (t +1)       diff\n",
       "7409   59.0    90.086021  31.086021\n",
       "1099   70.0    90.065338  20.065338\n",
       "1135   70.0    90.083504  20.083504\n",
       "7325   70.0    90.090096  20.090096\n",
       "1923   70.0    90.064430  20.064430\n",
       "6150   70.0    90.078682  20.078682\n",
       "6940   70.0    89.735100  19.735100\n",
       "7198   70.0    90.075302  20.075302\n",
       "6727   70.0    90.069450  20.069450\n",
       "5082   70.0    90.095238  20.095238"
      ]
     },
     "execution_count": 63,
     "metadata": {},
     "output_type": "execute_result"
    },
    {
     "data": {
      "image/png": "[encoded data removed]",
      "text/plain": [
       "<Figure size 432x288 with 1 Axes>"
      ]
     },
     "metadata": {
      "needs_background": "light"
     },
     "output_type": "display_data"
    }
   ],
   "source": [
    "\n",
    "import matplotlib.patches as mpatches\n",
    "plt.ylabel('Values')\n",
    "plt.xlabel('index')\n",
    "red_patch = mpatches.Patch(color='red', label='Actual data')\n",
    "blue_patch = mpatches.Patch(color='blue', label='Predicted data')\n",
    "plt.legend(handles=[red_patch,blue_patch])\n",
    "\n",
    "ypredPD=ypredPD.sort_values(by=['t + 1'])\n",
    "plt.scatter(np.arange(0,ypredPD.shape[0],1),ypredPD['pred (t +1)'][:ypredPD.shape[0]])\n",
    "plt.plot(np.arange(0,ypredPD.shape[0],1),ypredPD['t + 1'][:ypredPD.shape[0]],color='red')\n",
    "plt.show()\n",
    "\n",
    "plt.ylabel('p*(t+1), Predicted data')\n",
    "plt.xlabel('p(t+1), Actual data')\n",
    "plt.scatter(ypredPD['t + 1'][:ypredPD.shape[0]],ypredPD['pred (t +1)'][:ypredPD.shape[0]])\n",
    "\n",
    "ypredPD.head(10)"
   ]
  },
  {
   "cell_type": "markdown",
   "metadata": {},
   "source": [
    "SVR\n",
    "======"
   ]
  },
  {
   "cell_type": "code",
   "execution_count": null,
   "metadata": {},
   "outputs": [],
   "source": [
    "from sklearn.svm import SVR\n",
    "# svr_rbf = SVR(kernel='rbf', C=10, gamma=0.02, epsilon=.001)\n",
    "svr_rbf = SVR(kernel='rbf')"
   ]
  },
  {
   "cell_type": "code",
   "execution_count": null,
   "metadata": {},
   "outputs": [],
   "source": [
    "svr_rbf.fit(xtrain, ytrain) "
   ]
  },
  {
   "cell_type": "code",
   "execution_count": null,
   "metadata": {},
   "outputs": [],
   "source": [
    "ypred=svr_rbf.predict(xtest)"
   ]
  },
  {
   "cell_type": "code",
   "execution_count": null,
   "metadata": {},
   "outputs": [],
   "source": [
    "import math\n",
    "print('mean_squared_error',mean_squared_error(ytest, ypred))\n",
    "print('root mean_squared_error',math.sqrt(mean_squared_error(ytest, ypred)))\n",
    "print('mean_absolute_error',mean_absolute_error(ytest, ypred))\n",
    "print('r2_score',r2_score(ytest, ypred))\n",
    "\n",
    "ypredPD=pd.DataFrame()\n",
    "# ypredPD['t']=xtest['S000501_x'].values\n",
    "ypredPD['t + 1']=ytest.values.ravel()\n",
    "ypredPD['pred (t +1)']=ypred\n",
    "ypredPD.head(10)"
   ]
  },
  {
   "cell_type": "code",
   "execution_count": null,
   "metadata": {},
   "outputs": [],
   "source": []
  },
  {
   "cell_type": "code",
   "execution_count": null,
   "metadata": {},
   "outputs": [],
   "source": []
  }
 ],
 "metadata": {
  "kernelspec": {
   "display_name": "Python 3",
   "language": "python",
   "name": "python3"
  },
  "language_info": {
   "codemirror_mode": {
    "name": "ipython",
    "version": 3
   },
   "file_extension": ".py",
   "mimetype": "text/x-python",
   "name": "python",
   "nbconvert_exporter": "python",
   "pygments_lexer": "ipython3",
   "version": "3.7.3"
  }
 },
 "nbformat": 4,
 "nbformat_minor": 2
}

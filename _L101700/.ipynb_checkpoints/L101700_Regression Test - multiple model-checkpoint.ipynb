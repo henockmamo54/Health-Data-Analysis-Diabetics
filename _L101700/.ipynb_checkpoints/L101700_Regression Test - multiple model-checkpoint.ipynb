{
 "cells": [
  {
   "cell_type": "code",
   "execution_count": 1,
   "metadata": {},
   "outputs": [
    {
     "name": "stderr",
     "output_type": "stream",
     "text": [
      "Using TensorFlow backend.\n"
     ]
    }
   ],
   "source": [
    "from matplotlib import pyplot as plt\n",
    "import pandas as pd \n",
    "import numpy as np\n",
    "import warnings\n",
    "warnings.filterwarnings('ignore')\n",
    "from scipy import stats\n",
    "from sklearn.utils import shuffle\n",
    "from sklearn.preprocessing import LabelEncoder\n",
    "from sklearn.metrics import confusion_matrix \n",
    "from sklearn.utils import shuffle\n",
    "from sklearn.ensemble import RandomForestRegressor\n",
    "from sklearn.datasets import make_regression\n",
    "from sklearn.model_selection import train_test_split\n",
    "from sklearn.metrics import mean_absolute_error\n",
    "from sklearn.metrics import mean_squared_error\n",
    "from sklearn.metrics import mean_absolute_error\n",
    "from sklearn.metrics import r2_score\n",
    "from keras.models import Sequential\n",
    "from keras.layers import Dense\n",
    "from keras.wrappers.scikit_learn import KerasRegressor\n",
    "from sklearn.model_selection import cross_val_score\n",
    "from sklearn.model_selection import KFold\n",
    "from sklearn.preprocessing import StandardScaler\n",
    "from sklearn.pipeline import Pipeline\n",
    "from keras.layers import Dropout\n",
    "from keras.layers import BatchNormalization\n",
    "from keras.models import model_from_json\n",
    "from keras.utils import multi_gpu_model \n",
    "from keras.utils import to_categorical\n"
   ]
  },
  {
   "cell_type": "markdown",
   "metadata": {},
   "source": [
    "Read the data\n",
    "==========="
   ]
  },
  {
   "cell_type": "code",
   "execution_count": 9,
   "metadata": {},
   "outputs": [
    {
     "name": "stdout",
     "output_type": "stream",
     "text": [
      "(159381, 20)\n",
      "(159381, 2)\n"
     ]
    }
   ],
   "source": [
    "x_original=pd.read_csv('../_xlable4_withNa_AllColumns.txt')\n",
    "y_original=pd.read_csv('../_targelable4_withNa_AllColumns.txt')\n",
    "\n",
    "# x_original=x_original[['Unnamed: 0','L101700', 'L101300', 'L103000', 'L100700', 'SEX', 'L101200', 'L190400', 'L190500', \n",
    "#                        'L101600', 'S000300', 'L103300', 'S000501', 'S000502', 'L100800', 'L190300', 'AGE', 'S000100',\n",
    "#                        'FIELD_33', 'FIELD_38', 'FIELD_40',  'FIELD_18', 'FIELD_29', 'FIELD_41',\n",
    "# #                        'FIELD_7', 'FIELD_6',\n",
    "#                        'FIELD_21', 'FIELD_25', 'FIELD_27']]\n",
    "\n",
    "# y_original=y_original[['Unnamed: 0','L101700', 'L101300', 'L103000', 'L100700', 'SEX', 'L101200', 'L190400', 'L190500', \n",
    "#                        'L101600', 'S000300', 'L103300', 'S000501', 'S000502', 'L100800', 'L190300', 'AGE', 'S000100',\n",
    "#                        'FIELD_33', 'FIELD_38',  'FIELD_40',  'FIELD_18', 'FIELD_29', 'FIELD_41', \n",
    "# #                        'FIELD_7','FIELD_6',\n",
    "#                        'FIELD_21', 'FIELD_25', 'FIELD_27']]\n",
    "\n",
    "x_original=x_original[['Unnamed: 0','L101700','L101300','L103000','SEX','L100700','L190400','FIELD_38','FIELD_33',\n",
    "'L190500','L101200','S000300','S000501','L103300','L190300','S000502','L100800','S000100','L101600', 'AGE']]\n",
    "\n",
    "y_original=y_original[['Unnamed: 0','L101700']]\n",
    "\n",
    "\n",
    "print(x_original.shape)\n",
    "print(y_original.shape)\n"
   ]
  },
  {
   "cell_type": "code",
   "execution_count": 10,
   "metadata": {},
   "outputs": [
    {
     "name": "stdout",
     "output_type": "stream",
     "text": [
      "Unnamed: 0 159381\n",
      "L101700 158951\n",
      "L101300 159247\n",
      "L103000 158939\n",
      "SEX 159381\n",
      "L100700 152474\n",
      "L190400 159241\n",
      "FIELD_38 159077\n",
      "FIELD_33 159069\n",
      "L190500 159204\n",
      "L101200 159247\n",
      "S000300 159075\n",
      "S000501 159305\n",
      "L103300 135222\n",
      "L190300 159204\n",
      "S000502 159305\n",
      "L100800 159236\n",
      "S000100 159302\n",
      "L101600 152251\n",
      "AGE 159381\n"
     ]
    }
   ],
   "source": [
    "for index,col in enumerate(x_original.columns):\n",
    "    print(col,x_original[col].dropna().shape[0])"
   ]
  },
  {
   "cell_type": "markdown",
   "metadata": {},
   "source": [
    "Prepare the data\n",
    "============"
   ]
  },
  {
   "cell_type": "code",
   "execution_count": 11,
   "metadata": {},
   "outputs": [],
   "source": [
    "df=x_original.copy()\n",
    "conditions = [\n",
    "    (df.S000501 < 120)  ,\n",
    "    (df.S000501 >= 120) & (df.S000501 < 130),\n",
    "    (df.S000501 >=130)]\n",
    "choices = [0,1,2]\n",
    "df['sbpG'] = np.select(conditions, choices, default=0)\n",
    "df.head()\n",
    "x_original=df.copy()\n",
    "\n",
    "conditions2 = [\n",
    "    (df.S000502 < 80)  ,\n",
    "    (df.S000502 >= 80) & (df.S000502 < 90),\n",
    "    (df.S000502 >=90)]\n",
    "choices2 = [0,1,2]\n",
    "df['dbpG'] = np.select(conditions2, choices2, default=0)\n",
    "df.head()\n",
    "x_original=df.copy()\n",
    "\n",
    "conditions3 = [\n",
    "    (df.AGE < 30)  ,\n",
    "    (df.AGE >= 30) & (df.AGE < 40),\n",
    "    (df.AGE >= 40) & (df.AGE < 50),\n",
    "    (df.AGE >= 50) & (df.AGE < 60),\n",
    "    (df.AGE >= 60)]\n",
    "choices3 = [0,1,2,3,4]\n",
    "df['AgeG'] = np.select(conditions3, choices3, default=0)\n",
    "df.head()\n",
    "x_original=df.copy()\n",
    "\n",
    "\n",
    "conditions4 = [\n",
    "    (df.L100800 < 100)  ,\n",
    "    (df.L100800 >= 100) & (df.L100800 < 126), \n",
    "    (df.L100800 >= 126)]\n",
    "choices4 = [0,1,2]\n",
    "df['CLASS'] = np.select(conditions4, choices4, default=0)\n",
    "df.head()\n",
    "x_original=df.copy()"
   ]
  },
  {
   "cell_type": "code",
   "execution_count": 12,
   "metadata": {},
   "outputs": [
    {
     "name": "stdout",
     "output_type": "stream",
     "text": [
      "(128406, 26)\n"
     ]
    }
   ],
   "source": [
    "data= pd.merge(x_original,y_original, how='inner',left_on='Unnamed: 0', right_on='Unnamed: 0')\n",
    "data=data.dropna(). reset_index()\n",
    "\n",
    "# data=data[data.AGE_x >= 40]\n",
    "# data=data[data.AGE_x < 50]\n",
    "\n",
    "# data=data[data.CLASS_x==0]\n",
    "# data=data[data.sbpG==0]\n",
    "# data=data[data.dbpG==0]\n",
    "\n",
    "# data=data[data.L100800_y <200]\n",
    "\n",
    "print(data.shape)"
   ]
  },
  {
   "cell_type": "code",
   "execution_count": 13,
   "metadata": {},
   "outputs": [
    {
     "name": "stdout",
     "output_type": "stream",
     "text": [
      "(128406, 26)\n",
      "Index(['index', 'Unnamed: 0', 'L101700_x', 'L101300', 'L103000', 'SEX',\n",
      "       'L100700', 'L190400', 'FIELD_38', 'FIELD_33', 'L190500', 'L101200',\n",
      "       'S000300', 'S000501', 'L103300', 'L190300', 'S000502', 'L100800',\n",
      "       'S000100', 'L101600', 'AGE', 'sbpG', 'dbpG', 'AgeG', 'CLASS',\n",
      "       'L101700_y'],\n",
      "      dtype='object')\n"
     ]
    },
    {
     "data": {
      "text/html": [
       "<div>\n",
       "<style scoped>\n",
       "    .dataframe tbody tr th:only-of-type {\n",
       "        vertical-align: middle;\n",
       "    }\n",
       "\n",
       "    .dataframe tbody tr th {\n",
       "        vertical-align: top;\n",
       "    }\n",
       "\n",
       "    .dataframe thead th {\n",
       "        text-align: right;\n",
       "    }\n",
       "</style>\n",
       "<table border=\"1\" class=\"dataframe\">\n",
       "  <thead>\n",
       "    <tr style=\"text-align: right;\">\n",
       "      <th></th>\n",
       "      <th>index</th>\n",
       "      <th>Unnamed: 0</th>\n",
       "      <th>L101700_x</th>\n",
       "      <th>L101300</th>\n",
       "      <th>L103000</th>\n",
       "      <th>SEX</th>\n",
       "      <th>L100700</th>\n",
       "      <th>L190400</th>\n",
       "      <th>FIELD_38</th>\n",
       "      <th>FIELD_33</th>\n",
       "      <th>...</th>\n",
       "      <th>S000502</th>\n",
       "      <th>L100800</th>\n",
       "      <th>S000100</th>\n",
       "      <th>L101600</th>\n",
       "      <th>AGE</th>\n",
       "      <th>sbpG</th>\n",
       "      <th>dbpG</th>\n",
       "      <th>AgeG</th>\n",
       "      <th>CLASS</th>\n",
       "      <th>L101700_y</th>\n",
       "    </tr>\n",
       "  </thead>\n",
       "  <tbody>\n",
       "    <tr>\n",
       "      <th>0</th>\n",
       "      <td>0</td>\n",
       "      <td>0</td>\n",
       "      <td>13.0</td>\n",
       "      <td>8.0</td>\n",
       "      <td>53.0</td>\n",
       "      <td>1.0</td>\n",
       "      <td>3.0</td>\n",
       "      <td>12.3</td>\n",
       "      <td>1.0</td>\n",
       "      <td>1.0</td>\n",
       "      <td>...</td>\n",
       "      <td>67.0</td>\n",
       "      <td>77.0</td>\n",
       "      <td>159.8</td>\n",
       "      <td>49.0</td>\n",
       "      <td>44.0</td>\n",
       "      <td>1</td>\n",
       "      <td>0</td>\n",
       "      <td>2</td>\n",
       "      <td>0</td>\n",
       "      <td>14.0</td>\n",
       "    </tr>\n",
       "    <tr>\n",
       "      <th>1</th>\n",
       "      <td>1</td>\n",
       "      <td>1</td>\n",
       "      <td>14.0</td>\n",
       "      <td>9.0</td>\n",
       "      <td>53.0</td>\n",
       "      <td>1.0</td>\n",
       "      <td>3.0</td>\n",
       "      <td>13.1</td>\n",
       "      <td>1.0</td>\n",
       "      <td>1.0</td>\n",
       "      <td>...</td>\n",
       "      <td>76.0</td>\n",
       "      <td>89.0</td>\n",
       "      <td>159.5</td>\n",
       "      <td>51.0</td>\n",
       "      <td>45.0</td>\n",
       "      <td>0</td>\n",
       "      <td>0</td>\n",
       "      <td>2</td>\n",
       "      <td>0</td>\n",
       "      <td>15.0</td>\n",
       "    </tr>\n",
       "    <tr>\n",
       "      <th>2</th>\n",
       "      <td>2</td>\n",
       "      <td>2</td>\n",
       "      <td>15.0</td>\n",
       "      <td>10.0</td>\n",
       "      <td>41.0</td>\n",
       "      <td>1.0</td>\n",
       "      <td>3.8</td>\n",
       "      <td>12.9</td>\n",
       "      <td>2.0</td>\n",
       "      <td>1.0</td>\n",
       "      <td>...</td>\n",
       "      <td>82.0</td>\n",
       "      <td>78.0</td>\n",
       "      <td>159.0</td>\n",
       "      <td>56.0</td>\n",
       "      <td>46.0</td>\n",
       "      <td>2</td>\n",
       "      <td>1</td>\n",
       "      <td>2</td>\n",
       "      <td>0</td>\n",
       "      <td>14.0</td>\n",
       "    </tr>\n",
       "    <tr>\n",
       "      <th>3</th>\n",
       "      <td>3</td>\n",
       "      <td>3</td>\n",
       "      <td>10.0</td>\n",
       "      <td>12.0</td>\n",
       "      <td>58.0</td>\n",
       "      <td>1.0</td>\n",
       "      <td>3.7</td>\n",
       "      <td>13.5</td>\n",
       "      <td>0.0</td>\n",
       "      <td>1.0</td>\n",
       "      <td>...</td>\n",
       "      <td>71.0</td>\n",
       "      <td>95.0</td>\n",
       "      <td>155.3</td>\n",
       "      <td>42.0</td>\n",
       "      <td>51.0</td>\n",
       "      <td>0</td>\n",
       "      <td>0</td>\n",
       "      <td>3</td>\n",
       "      <td>0</td>\n",
       "      <td>12.0</td>\n",
       "    </tr>\n",
       "    <tr>\n",
       "      <th>4</th>\n",
       "      <td>4</td>\n",
       "      <td>4</td>\n",
       "      <td>12.0</td>\n",
       "      <td>12.0</td>\n",
       "      <td>50.0</td>\n",
       "      <td>1.0</td>\n",
       "      <td>3.4</td>\n",
       "      <td>12.6</td>\n",
       "      <td>0.0</td>\n",
       "      <td>1.0</td>\n",
       "      <td>...</td>\n",
       "      <td>65.0</td>\n",
       "      <td>90.0</td>\n",
       "      <td>156.0</td>\n",
       "      <td>46.0</td>\n",
       "      <td>52.0</td>\n",
       "      <td>0</td>\n",
       "      <td>0</td>\n",
       "      <td>3</td>\n",
       "      <td>0</td>\n",
       "      <td>13.0</td>\n",
       "    </tr>\n",
       "  </tbody>\n",
       "</table>\n",
       "<p>5 rows × 26 columns</p>\n",
       "</div>"
      ],
      "text/plain": [
       "   index  Unnamed: 0  L101700_x  L101300  L103000  SEX  L100700  L190400  \\\n",
       "0      0           0       13.0      8.0     53.0  1.0      3.0     12.3   \n",
       "1      1           1       14.0      9.0     53.0  1.0      3.0     13.1   \n",
       "2      2           2       15.0     10.0     41.0  1.0      3.8     12.9   \n",
       "3      3           3       10.0     12.0     58.0  1.0      3.7     13.5   \n",
       "4      4           4       12.0     12.0     50.0  1.0      3.4     12.6   \n",
       "\n",
       "   FIELD_38  FIELD_33  ...  S000502  L100800  S000100  L101600   AGE  sbpG  \\\n",
       "0       1.0       1.0  ...     67.0     77.0    159.8     49.0  44.0     1   \n",
       "1       1.0       1.0  ...     76.0     89.0    159.5     51.0  45.0     0   \n",
       "2       2.0       1.0  ...     82.0     78.0    159.0     56.0  46.0     2   \n",
       "3       0.0       1.0  ...     71.0     95.0    155.3     42.0  51.0     0   \n",
       "4       0.0       1.0  ...     65.0     90.0    156.0     46.0  52.0     0   \n",
       "\n",
       "   dbpG  AgeG  CLASS  L101700_y  \n",
       "0     0     2      0       14.0  \n",
       "1     0     2      0       15.0  \n",
       "2     1     2      0       14.0  \n",
       "3     0     3      0       12.0  \n",
       "4     0     3      0       13.0  \n",
       "\n",
       "[5 rows x 26 columns]"
      ]
     },
     "execution_count": 13,
     "metadata": {},
     "output_type": "execute_result"
    }
   ],
   "source": [
    "print(data.shape)\n",
    "print(data.columns)\n",
    "data.head()"
   ]
  },
  {
   "cell_type": "code",
   "execution_count": 14,
   "metadata": {},
   "outputs": [],
   "source": [
    "# x=data[['L101700_x', 'L101300_x', 'L103000_x', 'L100700_x', 'SEX_x', 'L101200_x', 'L190400_x', 'L190500_x', \n",
    "#         'L101600_x', 'S000300_x', 'L103300_x', 'S000501_x', 'S000502_x', 'L100800_x', 'L190300_x', 'AGE_x', 'S000100_x',\n",
    "#         'FIELD_33_x', 'FIELD_38_x',  'FIELD_40_x',  'FIELD_18_x', 'FIELD_29_x', 'FIELD_41_x', \n",
    "#         'FIELD_21_x', 'FIELD_25_x', 'FIELD_27_x',\n",
    "# #         'FIELD_7_x','FIELD_6_x',\n",
    "#         'CLASS','sbpG','dbpG','AgeG']]\n",
    "\n",
    "# y=data[['L101700_y', 'L101300_y', 'L103000_y', 'L100700_y', 'SEX_y', 'L101200_y', 'L190400_y', 'L190500_y', \n",
    "#         'L101600_y', 'S000300_y', 'L103300_y', 'S000501_y', 'S000502_y', 'L100800_y', 'L190300_y', 'AGE_y', 'S000100_y',\n",
    "#         'FIELD_33_y', 'FIELD_38_y',  'FIELD_40_y',  'FIELD_18_y', 'FIELD_29_y', 'FIELD_41_y', \n",
    "# #         'FIELD_7_y','FIELD_6_y',\n",
    "#         'FIELD_21_y', 'FIELD_25_y', 'FIELD_27_y'\n",
    "#         ]]\n",
    "\n",
    "x=data[['L101700_x', 'L101300','L103000','SEX','L100700','L190400','FIELD_38','FIELD_33',\n",
    "'L190500','L101200','S000300','S000501','L103300','L190300','S000502','L100800','S000100','L101600', 'AGE']]\n",
    "\n",
    "y=data[['L101700_y' ]]\n"
   ]
  },
  {
   "cell_type": "markdown",
   "metadata": {},
   "source": [
    "Check the correlation of the selected feature with the independent variables\n",
    "====="
   ]
  },
  {
   "cell_type": "code",
   "execution_count": 15,
   "metadata": {},
   "outputs": [],
   "source": [
    "temppd=pd.DataFrame(x.copy())\n",
    "temppd['y']=y.L101700_y\n",
    "temppd.head()\n",
    "corval=abs(temppd.corr()).sort_values(by='y', ascending=False)"
   ]
  },
  {
   "cell_type": "code",
   "execution_count": 16,
   "metadata": {},
   "outputs": [
    {
     "data": {
      "text/plain": [
       "y            1.000000\n",
       "L101700_x    0.848059\n",
       "L101300      0.350356\n",
       "L103000      0.343934\n",
       "SEX          0.309403\n",
       "L100700      0.301036\n",
       "L190400      0.289278\n",
       "FIELD_38     0.282624\n",
       "FIELD_33     0.280756\n",
       "L190500      0.279431\n",
       "L101200      0.267613\n",
       "S000300      0.262111\n",
       "S000501      0.241330\n",
       "L103300      0.239320\n",
       "L190300      0.234579\n",
       "S000502      0.234564\n",
       "L100800      0.230701\n",
       "S000100      0.206816\n",
       "L101600      0.203317\n",
       "AGE          0.075951\n",
       "Name: y, dtype: float64"
      ]
     },
     "execution_count": 16,
     "metadata": {},
     "output_type": "execute_result"
    }
   ],
   "source": [
    "corval.y"
   ]
  },
  {
   "cell_type": "code",
   "execution_count": 17,
   "metadata": {},
   "outputs": [],
   "source": [
    "#histogram plot of the features\n",
    "# import matplotlib.pyplot as plt\n",
    "# x[x.dtypes[(x.dtypes==\"float64\")|(x.dtypes==\"int64\")]\n",
    "#                         .index.values].hist(figsize=[11,11])"
   ]
  },
  {
   "cell_type": "markdown",
   "metadata": {},
   "source": [
    "Apply PCA\n",
    "==========="
   ]
  },
  {
   "cell_type": "code",
   "execution_count": 18,
   "metadata": {},
   "outputs": [],
   "source": [
    "# from sklearn.decomposition import PCA\n",
    "# pca = PCA(n_components=8)\n",
    "# pca.fit(x)\n",
    "\n",
    "# print(pca.explained_variance_ratio_)   \n",
    "# print(np.sum(pca.explained_variance_ratio_))\n",
    "\n",
    "# x=pca.fit_transform(x) \n",
    "# print(x.shape)\n"
   ]
  },
  {
   "cell_type": "markdown",
   "metadata": {},
   "source": [
    "feature scaling\n",
    "======="
   ]
  },
  {
   "cell_type": "code",
   "execution_count": 19,
   "metadata": {},
   "outputs": [],
   "source": [
    "# from sklearn import preprocessing\n",
    "# min_max_scaler = preprocessing.MinMaxScaler()  #StandardScaler()\n",
    "# x = min_max_scaler.fit_transform(x)"
   ]
  },
  {
   "cell_type": "markdown",
   "metadata": {},
   "source": [
    "clustring test\n",
    "=========="
   ]
  },
  {
   "cell_type": "code",
   "execution_count": 20,
   "metadata": {},
   "outputs": [],
   "source": [
    "# from sklearn.cluster import KMeans\n",
    "# from scipy.spatial.distance import cdist\n",
    "\n",
    "# K = range(1,10)\n",
    "# distortions = []\n",
    "\n",
    "# for k in K:\n",
    "#     kmeanModel = KMeans(n_clusters=k).fit(x)\n",
    "#     kmeanModel.fit(x)\n",
    "#     distortions.append(sum(np.min(cdist(x, kmeanModel.cluster_centers_, 'euclidean'), axis=1)) / x.shape[0])\n",
    "\n",
    "# # Plot the elbow\n",
    "# plt.plot(K, distortions, 'bx-')\n",
    "# plt.xlabel('k')\n",
    "# plt.ylabel('Distortion')\n",
    "# plt.title('The Elbow Method showing the optimal k')\n",
    "# plt.show()\n"
   ]
  },
  {
   "cell_type": "code",
   "execution_count": 21,
   "metadata": {},
   "outputs": [],
   "source": [
    "# kmeanModel = KMeans(n_clusters=k).fit(x)\n",
    "# x['lbl']=kmeanModel.labels_ "
   ]
  },
  {
   "cell_type": "code",
   "execution_count": 22,
   "metadata": {},
   "outputs": [],
   "source": [
    "# x.columns"
   ]
  },
  {
   "cell_type": "markdown",
   "metadata": {},
   "source": [
    "Random Forest Regressor\n",
    "============="
   ]
  },
  {
   "cell_type": "code",
   "execution_count": 23,
   "metadata": {},
   "outputs": [],
   "source": [
    "ylable=y[['L101700_y']]  \n",
    "xtrain,xtest,ytrain,ytest=train_test_split(x, ylable, random_state=42, test_size=0.2)"
   ]
  },
  {
   "cell_type": "code",
   "execution_count": 24,
   "metadata": {},
   "outputs": [
    {
     "name": "stdout",
     "output_type": "stream",
     "text": [
      "[9.23024659e-01 1.10798212e-02 3.42898001e-03 3.58355634e-04\n",
      " 5.35181505e-03 3.22213835e-03 2.96620637e-03 8.74231985e-04\n",
      " 3.53989046e-03 6.08299228e-03 9.39725517e-03 4.62172297e-03\n",
      " 5.50839784e-03 6.02903224e-03 1.94125952e-03 2.74760259e-03\n",
      " 2.68664631e-03 4.58568806e-03 2.55330549e-03]\n"
     ]
    }
   ],
   "source": [
    "regr = RandomForestRegressor(max_depth=7, random_state=0,verbose =0,n_estimators=500)\n",
    "regr.fit(xtrain, ytrain) \n",
    "print(regr.feature_importances_)\n",
    "ypred=regr.predict(xtest)\n"
   ]
  },
  {
   "cell_type": "code",
   "execution_count": 25,
   "metadata": {},
   "outputs": [
    {
     "name": "stdout",
     "output_type": "stream",
     "text": [
      "mean_squared_error 405.6490545209432\n",
      "root mean_squared_error 20.14073123103884\n",
      "mean_absolute_error 8.608965456341268\n",
      "r2_score 0.7204043270250297\n"
     ]
    },
    {
     "data": {
      "image/png": "[encoded data removed]",
      "text/plain": [
       "<Figure size 432x288 with 1 Axes>"
      ]
     },
     "metadata": {
      "needs_background": "light"
     },
     "output_type": "display_data"
    },
    {
     "data": {
      "text/html": [
       "<div>\n",
       "<style scoped>\n",
       "    .dataframe tbody tr th:only-of-type {\n",
       "        vertical-align: middle;\n",
       "    }\n",
       "\n",
       "    .dataframe tbody tr th {\n",
       "        vertical-align: top;\n",
       "    }\n",
       "\n",
       "    .dataframe thead th {\n",
       "        text-align: right;\n",
       "    }\n",
       "</style>\n",
       "<table border=\"1\" class=\"dataframe\">\n",
       "  <thead>\n",
       "    <tr style=\"text-align: right;\">\n",
       "      <th></th>\n",
       "      <th>t + 1</th>\n",
       "      <th>pred (t +1)</th>\n",
       "    </tr>\n",
       "  </thead>\n",
       "  <tbody>\n",
       "    <tr>\n",
       "      <th>21498</th>\n",
       "      <td>580.0</td>\n",
       "      <td>662.070369</td>\n",
       "    </tr>\n",
       "    <tr>\n",
       "      <th>10771</th>\n",
       "      <td>639.0</td>\n",
       "      <td>624.833680</td>\n",
       "    </tr>\n",
       "    <tr>\n",
       "      <th>13888</th>\n",
       "      <td>643.0</td>\n",
       "      <td>365.917392</td>\n",
       "    </tr>\n",
       "    <tr>\n",
       "      <th>2964</th>\n",
       "      <td>645.0</td>\n",
       "      <td>284.800450</td>\n",
       "    </tr>\n",
       "    <tr>\n",
       "      <th>15906</th>\n",
       "      <td>671.0</td>\n",
       "      <td>343.102652</td>\n",
       "    </tr>\n",
       "    <tr>\n",
       "      <th>19156</th>\n",
       "      <td>694.0</td>\n",
       "      <td>265.085904</td>\n",
       "    </tr>\n",
       "    <tr>\n",
       "      <th>23470</th>\n",
       "      <td>813.0</td>\n",
       "      <td>332.029350</td>\n",
       "    </tr>\n",
       "    <tr>\n",
       "      <th>16435</th>\n",
       "      <td>833.0</td>\n",
       "      <td>622.630209</td>\n",
       "    </tr>\n",
       "    <tr>\n",
       "      <th>6510</th>\n",
       "      <td>834.0</td>\n",
       "      <td>683.091937</td>\n",
       "    </tr>\n",
       "    <tr>\n",
       "      <th>7337</th>\n",
       "      <td>1047.0</td>\n",
       "      <td>620.035912</td>\n",
       "    </tr>\n",
       "  </tbody>\n",
       "</table>\n",
       "</div>"
      ],
      "text/plain": [
       "        t + 1  pred (t +1)\n",
       "21498   580.0   662.070369\n",
       "10771   639.0   624.833680\n",
       "13888   643.0   365.917392\n",
       "2964    645.0   284.800450\n",
       "15906   671.0   343.102652\n",
       "19156   694.0   265.085904\n",
       "23470   813.0   332.029350\n",
       "16435   833.0   622.630209\n",
       "6510    834.0   683.091937\n",
       "7337   1047.0   620.035912"
      ]
     },
     "execution_count": 25,
     "metadata": {},
     "output_type": "execute_result"
    },
    {
     "data": {
      "image/png": "[encoded data removed]",
      "text/plain": [
       "<Figure size 432x288 with 1 Axes>"
      ]
     },
     "metadata": {
      "needs_background": "light"
     },
     "output_type": "display_data"
    }
   ],
   "source": [
    "\n",
    "import math\n",
    "print('mean_squared_error',mean_squared_error(ytest, ypred))\n",
    "print('root mean_squared_error',math.sqrt(mean_squared_error(ytest, ypred)))\n",
    "print('mean_absolute_error',mean_absolute_error(ytest, ypred))\n",
    "print('r2_score',r2_score(ytest, ypred))\n",
    "\n",
    "ypredPD=pd.DataFrame()\n",
    "# ypredPD['t']=xtest['S000501_x'].values\n",
    "ypredPD['t + 1']=ytest.values.ravel()\n",
    "ypredPD['pred (t +1)']=ypred\n",
    "ypredPD.head(30)\n",
    "\n",
    "import matplotlib.patches as mpatches\n",
    "plt.ylabel('Values')\n",
    "plt.xlabel('index')\n",
    "red_patch = mpatches.Patch(color='red', label='Actual data')\n",
    "blue_patch = mpatches.Patch(color='blue', label='Predicted data')\n",
    "plt.legend(handles=[red_patch,blue_patch])\n",
    "\n",
    "ypredPD=ypredPD.sort_values(by=['t + 1'])\n",
    "plt.scatter(np.arange(0,ypredPD.shape[0],1),ypredPD['pred (t +1)'][:ypredPD.shape[0]])\n",
    "plt.plot(np.arange(0,ypredPD.shape[0],1),ypredPD['t + 1'][:ypredPD.shape[0]],color='red')\n",
    "plt.show()\n",
    "\n",
    "plt.ylabel('p*(t+1), Predicted data')\n",
    "plt.xlabel('p(t+1), Actual data')\n",
    "plt.scatter(ypredPD['t + 1'][:ypredPD.shape[0]],ypredPD['pred (t +1)'][:ypredPD.shape[0]])\n",
    "\n",
    "ypredPD.tail(10)"
   ]
  },
  {
   "cell_type": "code",
   "execution_count": 26,
   "metadata": {},
   "outputs": [],
   "source": [
    "# tempdata=pd.DataFrame(xtest.copy())\n",
    "# tempdata['ytest']=ytest\n",
    "# # temp=temp.dropna()\n",
    "# # tempdata.head()\n",
    "# # tempdata[tempdata.ytest.isna()].index\n",
    "\n",
    "# tempdata=tempdata.drop(tempdata[tempdata.ytest.isna()].index)\n"
   ]
  },
  {
   "cell_type": "markdown",
   "metadata": {},
   "source": [
    "xg boost\n",
    "=========="
   ]
  },
  {
   "cell_type": "code",
   "execution_count": 27,
   "metadata": {},
   "outputs": [],
   "source": [
    "import xgboost as xgb\n",
    "# from sklearn.metrics import mean_squared_error\n",
    "# import pandas as pd\n",
    "# import numpy as np"
   ]
  },
  {
   "cell_type": "code",
   "execution_count": 28,
   "metadata": {},
   "outputs": [
    {
     "name": "stdout",
     "output_type": "stream",
     "text": [
      "[03:24:57] WARNING: C:/Jenkins/workspace/xgboost-win64_release_0.90/src/objective/regression_obj.cu:152: reg:linear is now deprecated in favor of reg:squarederror.\n"
     ]
    },
    {
     "data": {
      "text/plain": [
       "XGBRegressor(base_score=0.5, booster='gbtree', colsample_bylevel=1,\n",
       "             colsample_bynode=1, colsample_bytree=1, gamma=0,\n",
       "             importance_type='gain', learning_rate=0.1, max_delta_step=0,\n",
       "             max_depth=3, min_child_weight=1, missing=None, n_estimators=100,\n",
       "             n_jobs=1, nthread=None, objective='reg:linear', random_state=0,\n",
       "             reg_alpha=0, reg_lambda=1, scale_pos_weight=1, seed=None,\n",
       "             silent=None, subsample=1, verbosity=1)"
      ]
     },
     "execution_count": 28,
     "metadata": {},
     "output_type": "execute_result"
    }
   ],
   "source": [
    "xg_reg = xgb.XGBRegressor()\n",
    "# xg_reg = xgb.XGBRegressor(objective ='reg:linear', colsample_bytree = 0.3, \n",
    "#                           learning_rate = 0.1,max_depth = 5, alpha = 10, n_estimators = 10)\n",
    "xg_reg.fit(xtrain, ytrain) "
   ]
  },
  {
   "cell_type": "code",
   "execution_count": 29,
   "metadata": {},
   "outputs": [
    {
     "name": "stdout",
     "output_type": "stream",
     "text": [
      "mean_squared_error 399.0845955705247\n",
      "root mean_squared_error 19.977101781052344\n",
      "mean_absolute_error 8.56053476878884\n",
      "r2_score 0.7249289137275091\n"
     ]
    }
   ],
   "source": [
    "\n",
    "ypred = xg_reg.predict(xtest)\n",
    "\n",
    "import math\n",
    "print('mean_squared_error',mean_squared_error(ytest, ypred))\n",
    "print('root mean_squared_error',math.sqrt(mean_squared_error(ytest, ypred)))\n",
    "print('mean_absolute_error',mean_absolute_error(ytest, ypred))\n",
    "print('r2_score',r2_score(ytest, ypred))\n",
    "\n",
    "# ypredPD=pd.DataFrame()\n",
    "# ypredPD['t']=xtest['S000501_x'].values\n",
    "# ypredPD['t + 1']=ytest.values\n",
    "# ypredPD['pred (t +1)']=ypred\n",
    "# ypredPD.head(10)"
   ]
  },
  {
   "cell_type": "code",
   "execution_count": 28,
   "metadata": {},
   "outputs": [],
   "source": [
    "# ytest[ytest.isna()].shape\n",
    "# tempdata.iloc[:,-1]"
   ]
  },
  {
   "cell_type": "markdown",
   "metadata": {},
   "source": [
    "ANN\n",
    "=========="
   ]
  },
  {
   "cell_type": "code",
   "execution_count": 37,
   "metadata": {},
   "outputs": [],
   "source": [
    "model= Sequential()\n",
    "model.add(Dense(input_dim=30,units=128,activation='relu', kernel_initializer='uniform'))\n",
    "model.add(Dense(units=128, activation='relu', kernel_initializer='uniform')) \n",
    "# model.add(BatchNormalization())\n",
    "# model.add(Dropout(0.25))  \n",
    "model.add(Dense(units=64, activation='relu', kernel_initializer='uniform'))\n",
    "model.add(Dense(units=32, activation='relu', kernel_initializer='uniform')) \n",
    "model.add(BatchNormalization())\n",
    "model.add(Dropout(0.25))  \n",
    "model.add(Dense(units=16, activation='relu', kernel_initializer='uniform'))\n",
    "model.add(BatchNormalization())\n",
    "model.add(Dropout(0.25))  \n",
    "model.add(Dense(units=8, activation='relu', kernel_initializer='uniform'))\n",
    "model.add(Dense(units=1, kernel_initializer='uniform'))\n",
    "model.compile(loss='mean_squared_error', optimizer='Nadam', metrics=['mean_squared_error' ])"
   ]
  },
  {
   "cell_type": "code",
   "execution_count": 38,
   "metadata": {
    "scrolled": true
   },
   "outputs": [
    {
     "name": "stdout",
     "output_type": "stream",
     "text": [
      "Train on 75195 samples, validate on 18799 samples\n",
      "Epoch 1/100\n",
      "75195/75195 [==============================] - 3s 35us/step - loss: 877.6370 - mean_squared_error: 877.6370 - val_loss: 598.1457 - val_mean_squared_error: 598.1457\n",
      "Epoch 2/100\n",
      "75195/75195 [==============================] - 2s 26us/step - loss: 638.3489 - mean_squared_error: 638.3489 - val_loss: 873.4147 - val_mean_squared_error: 873.4147\n",
      "Epoch 3/100\n",
      "75195/75195 [==============================] - 2s 25us/step - loss: 629.2064 - mean_squared_error: 629.2064 - val_loss: 533.7377 - val_mean_squared_error: 533.7377\n",
      "Epoch 4/100\n",
      "75195/75195 [==============================] - 2s 25us/step - loss: 617.4954 - mean_squared_error: 617.4954 - val_loss: 717.0495 - val_mean_squared_error: 717.0495\n",
      "Epoch 5/100\n",
      "75195/75195 [==============================] - 2s 25us/step - loss: 611.4456 - mean_squared_error: 611.4456 - val_loss: 480.6361 - val_mean_squared_error: 480.6361\n",
      "Epoch 6/100\n",
      "75195/75195 [==============================] - 2s 25us/step - loss: 606.6413 - mean_squared_error: 606.6413 - val_loss: 642.3792 - val_mean_squared_error: 642.3792\n",
      "Epoch 7/100\n",
      "75195/75195 [==============================] - 2s 25us/step - loss: 597.4425 - mean_squared_error: 597.4425 - val_loss: 474.6275 - val_mean_squared_error: 474.6275\n",
      "Epoch 8/100\n",
      "75195/75195 [==============================] - 2s 25us/step - loss: 593.5372 - mean_squared_error: 593.5372 - val_loss: 555.0798 - val_mean_squared_error: 555.0798\n",
      "Epoch 9/100\n",
      "75195/75195 [==============================] - 2s 25us/step - loss: 589.8072 - mean_squared_error: 589.8072 - val_loss: 582.4208 - val_mean_squared_error: 582.4208\n",
      "Epoch 10/100\n",
      "75195/75195 [==============================] - 2s 25us/step - loss: 586.7118 - mean_squared_error: 586.7118 - val_loss: 1200.6069 - val_mean_squared_error: 1200.6069\n",
      "Epoch 11/100\n",
      "75195/75195 [==============================] - 2s 25us/step - loss: 578.2918 - mean_squared_error: 578.2918 - val_loss: 637.1564 - val_mean_squared_error: 637.1564\n",
      "Epoch 12/100\n",
      "75195/75195 [==============================] - 2s 25us/step - loss: 556.8116 - mean_squared_error: 556.8116 - val_loss: 1164.0203 - val_mean_squared_error: 1164.0203\n",
      "Epoch 13/100\n",
      "75195/75195 [==============================] - 2s 25us/step - loss: 554.6333 - mean_squared_error: 554.6333 - val_loss: 1091.7488 - val_mean_squared_error: 1091.7488\n",
      "Epoch 14/100\n",
      "75195/75195 [==============================] - 2s 25us/step - loss: 545.5990 - mean_squared_error: 545.5990 - val_loss: 4020.5090 - val_mean_squared_error: 4020.5090\n",
      "Epoch 15/100\n",
      "75195/75195 [==============================] - 2s 25us/step - loss: 557.2527 - mean_squared_error: 557.2527 - val_loss: 1079.8060 - val_mean_squared_error: 1079.8060\n",
      "Epoch 16/100\n",
      "75195/75195 [==============================] - 2s 25us/step - loss: 542.3141 - mean_squared_error: 542.3141 - val_loss: 1774.9566 - val_mean_squared_error: 1774.9566\n",
      "Epoch 17/100\n",
      "75195/75195 [==============================] - 2s 25us/step - loss: 527.2921 - mean_squared_error: 527.2921 - val_loss: 1659.8169 - val_mean_squared_error: 1659.8169\n",
      "Epoch 18/100\n",
      "75195/75195 [==============================] - 2s 25us/step - loss: 535.0365 - mean_squared_error: 535.0365 - val_loss: 2548.7693 - val_mean_squared_error: 2548.7693\n",
      "Epoch 19/100\n",
      "75195/75195 [==============================] - 2s 25us/step - loss: 521.6333 - mean_squared_error: 521.6333 - val_loss: 5486.1335 - val_mean_squared_error: 5486.1335\n",
      "Epoch 20/100\n",
      "75195/75195 [==============================] - 2s 24us/step - loss: 532.2685 - mean_squared_error: 532.2685 - val_loss: 4411.9657 - val_mean_squared_error: 4411.9657\n",
      "Epoch 21/100\n",
      "75195/75195 [==============================] - 2s 25us/step - loss: 523.8677 - mean_squared_error: 523.8677 - val_loss: 4981.5572 - val_mean_squared_error: 4981.5572\n",
      "Epoch 22/100\n",
      "75195/75195 [==============================] - 2s 25us/step - loss: 522.4986 - mean_squared_error: 522.4986 - val_loss: 6816.1017 - val_mean_squared_error: 6816.1017\n",
      "Epoch 23/100\n",
      "75195/75195 [==============================] - 2s 25us/step - loss: 524.5222 - mean_squared_error: 524.5222 - val_loss: 3673.5065 - val_mean_squared_error: 3673.5065\n",
      "Epoch 24/100\n",
      "75195/75195 [==============================] - 2s 24us/step - loss: 518.1518 - mean_squared_error: 518.1518 - val_loss: 7666.9817 - val_mean_squared_error: 7666.9817\n",
      "Epoch 25/100\n",
      "75195/75195 [==============================] - 2s 24us/step - loss: 518.3986 - mean_squared_error: 518.3986 - val_loss: 8932.6825 - val_mean_squared_error: 8932.6825\n",
      "Epoch 26/100\n",
      "75195/75195 [==============================] - 2s 25us/step - loss: 523.0658 - mean_squared_error: 523.0658 - val_loss: 5039.1653 - val_mean_squared_error: 5039.1653\n",
      "Epoch 27/100\n",
      "75195/75195 [==============================] - 2s 25us/step - loss: 519.1111 - mean_squared_error: 519.1111 - val_loss: 4947.9274 - val_mean_squared_error: 4947.9274\n",
      "Epoch 28/100\n",
      "75195/75195 [==============================] - 2s 25us/step - loss: 506.3116 - mean_squared_error: 506.3116 - val_loss: 2971.9349 - val_mean_squared_error: 2971.9349\n",
      "Epoch 29/100\n",
      "75195/75195 [==============================] - 2s 25us/step - loss: 513.1243 - mean_squared_error: 513.1243 - val_loss: 10375.5284 - val_mean_squared_error: 10375.5284\n",
      "Epoch 30/100\n",
      "75195/75195 [==============================] - 2s 25us/step - loss: 512.0658 - mean_squared_error: 512.0658 - val_loss: 16907.3873 - val_mean_squared_error: 16907.3873\n",
      "Epoch 31/100\n",
      "75195/75195 [==============================] - 2s 25us/step - loss: 509.1970 - mean_squared_error: 509.1970 - val_loss: 5984.3554 - val_mean_squared_error: 5984.3554\n",
      "Epoch 32/100\n",
      "75195/75195 [==============================] - 2s 25us/step - loss: 521.0418 - mean_squared_error: 521.0418 - val_loss: 15370.8559 - val_mean_squared_error: 15370.8559\n",
      "Epoch 33/100\n",
      "75195/75195 [==============================] - 2s 25us/step - loss: 504.8438 - mean_squared_error: 504.8438 - val_loss: 9104.2605 - val_mean_squared_error: 9104.2605\n",
      "Epoch 34/100\n",
      "75195/75195 [==============================] - 2s 25us/step - loss: 498.3160 - mean_squared_error: 498.3160 - val_loss: 10385.2388 - val_mean_squared_error: 10385.2388\n",
      "Epoch 35/100\n",
      "75195/75195 [==============================] - 2s 24us/step - loss: 507.1366 - mean_squared_error: 507.1366 - val_loss: 2433.8393 - val_mean_squared_error: 2433.8393\n",
      "Epoch 36/100\n",
      "75195/75195 [==============================] - 2s 24us/step - loss: 505.6393 - mean_squared_error: 505.6393 - val_loss: 6935.3837 - val_mean_squared_error: 6935.3837\n",
      "Epoch 37/100\n",
      "75195/75195 [==============================] - 2s 25us/step - loss: 509.9820 - mean_squared_error: 509.9820 - val_loss: 1131.0601 - val_mean_squared_error: 1131.0601\n",
      "Epoch 38/100\n",
      "75195/75195 [==============================] - 2s 24us/step - loss: 503.4865 - mean_squared_error: 503.4865 - val_loss: 1198.5972 - val_mean_squared_error: 1198.5972\n",
      "Epoch 39/100\n",
      "75195/75195 [==============================] - 2s 25us/step - loss: 496.6315 - mean_squared_error: 496.6315 - val_loss: 1812.9709 - val_mean_squared_error: 1812.9709\n",
      "Epoch 40/100\n",
      "75195/75195 [==============================] - 2s 24us/step - loss: 499.7762 - mean_squared_error: 499.7762 - val_loss: 652.3463 - val_mean_squared_error: 652.3463\n",
      "Epoch 41/100\n",
      "75195/75195 [==============================] - 2s 25us/step - loss: 491.2343 - mean_squared_error: 491.2343 - val_loss: 1884.0893 - val_mean_squared_error: 1884.0893\n",
      "Epoch 42/100\n",
      "75195/75195 [==============================] - 2s 25us/step - loss: 491.9499 - mean_squared_error: 491.9499 - val_loss: 1308.9504 - val_mean_squared_error: 1308.9504\n",
      "Epoch 43/100\n",
      "75195/75195 [==============================] - 2s 25us/step - loss: 496.8108 - mean_squared_error: 496.8108 - val_loss: 845.0978 - val_mean_squared_error: 845.0978\n",
      "Epoch 44/100\n",
      "75195/75195 [==============================] - 2s 24us/step - loss: 480.7441 - mean_squared_error: 480.7441 - val_loss: 1078.5460 - val_mean_squared_error: 1078.5460\n",
      "Epoch 45/100\n",
      "75195/75195 [==============================] - 2s 25us/step - loss: 488.0514 - mean_squared_error: 488.0514 - val_loss: 730.7986 - val_mean_squared_error: 730.7986\n",
      "Epoch 46/100\n",
      "75195/75195 [==============================] - 2s 25us/step - loss: 487.1791 - mean_squared_error: 487.1791 - val_loss: 547.7325 - val_mean_squared_error: 547.7325\n",
      "Epoch 47/100\n",
      "75195/75195 [==============================] - 2s 24us/step - loss: 487.2810 - mean_squared_error: 487.2810 - val_loss: 700.0181 - val_mean_squared_error: 700.0181\n",
      "Epoch 48/100\n",
      "75195/75195 [==============================] - 2s 25us/step - loss: 489.4312 - mean_squared_error: 489.4312 - val_loss: 738.8862 - val_mean_squared_error: 738.8862\n",
      "Epoch 49/100\n",
      "75195/75195 [==============================] - 2s 25us/step - loss: 470.2385 - mean_squared_error: 470.2385 - val_loss: 867.1714 - val_mean_squared_error: 867.1714\n",
      "Epoch 50/100\n",
      "75195/75195 [==============================] - 2s 25us/step - loss: 482.7360 - mean_squared_error: 482.7360 - val_loss: 1158.6029 - val_mean_squared_error: 1158.6029\n",
      "Epoch 51/100\n",
      "75195/75195 [==============================] - 2s 24us/step - loss: 486.1980 - mean_squared_error: 486.1980 - val_loss: 1505.8580 - val_mean_squared_error: 1505.8580\n",
      "Epoch 52/100\n",
      "75195/75195 [==============================] - 2s 24us/step - loss: 489.2447 - mean_squared_error: 489.2447 - val_loss: 1052.2055 - val_mean_squared_error: 1052.2055\n",
      "Epoch 53/100\n",
      "75195/75195 [==============================] - 2s 25us/step - loss: 489.0614 - mean_squared_error: 489.0614 - val_loss: 3323.6310 - val_mean_squared_error: 3323.6310\n",
      "Epoch 54/100\n",
      "75195/75195 [==============================] - 2s 25us/step - loss: 462.9022 - mean_squared_error: 462.9022 - val_loss: 1797.7983 - val_mean_squared_error: 1797.7983\n",
      "Epoch 55/100\n",
      "75195/75195 [==============================] - 2s 25us/step - loss: 483.2339 - mean_squared_error: 483.2339 - val_loss: 1160.4710 - val_mean_squared_error: 1160.4710\n",
      "Epoch 56/100\n",
      "75195/75195 [==============================] - 2s 25us/step - loss: 476.7306 - mean_squared_error: 476.7306 - val_loss: 1082.1005 - val_mean_squared_error: 1082.1005\n",
      "Epoch 57/100\n",
      "75195/75195 [==============================] - 2s 25us/step - loss: 476.9300 - mean_squared_error: 476.9300 - val_loss: 1368.1609 - val_mean_squared_error: 1368.1609\n",
      "Epoch 58/100\n",
      "75195/75195 [==============================] - 2s 25us/step - loss: 469.3434 - mean_squared_error: 469.3434 - val_loss: 1562.0062 - val_mean_squared_error: 1562.0062\n",
      "Epoch 59/100\n",
      "75195/75195 [==============================] - 2s 25us/step - loss: 470.7002 - mean_squared_error: 470.7002 - val_loss: 1995.1366 - val_mean_squared_error: 1995.1366\n",
      "Epoch 60/100\n",
      "75195/75195 [==============================] - 2s 25us/step - loss: 485.5712 - mean_squared_error: 485.5712 - val_loss: 1347.5297 - val_mean_squared_error: 1347.5297\n",
      "Epoch 61/100\n",
      "75195/75195 [==============================] - 2s 25us/step - loss: 474.9315 - mean_squared_error: 474.9315 - val_loss: 1398.2180 - val_mean_squared_error: 1398.2180\n",
      "Epoch 62/100\n",
      "75195/75195 [==============================] - 2s 25us/step - loss: 473.7266 - mean_squared_error: 473.7266 - val_loss: 1863.1874 - val_mean_squared_error: 1863.1874\n",
      "Epoch 63/100\n",
      "75195/75195 [==============================] - 2s 26us/step - loss: 468.3143 - mean_squared_error: 468.3143 - val_loss: 1859.8563 - val_mean_squared_error: 1859.8563\n",
      "Epoch 64/100\n",
      "75195/75195 [==============================] - 2s 25us/step - loss: 480.2435 - mean_squared_error: 480.2435 - val_loss: 1358.3040 - val_mean_squared_error: 1358.3040\n",
      "Epoch 65/100\n",
      "75195/75195 [==============================] - 2s 25us/step - loss: 460.1765 - mean_squared_error: 460.1765 - val_loss: 2097.8625 - val_mean_squared_error: 2097.8625\n",
      "Epoch 66/100\n",
      "75195/75195 [==============================] - 2s 25us/step - loss: 467.0848 - mean_squared_error: 467.0848 - val_loss: 1782.2603 - val_mean_squared_error: 1782.2603\n",
      "Epoch 67/100\n",
      "75195/75195 [==============================] - 2s 25us/step - loss: 471.9707 - mean_squared_error: 471.9707 - val_loss: 2036.8023 - val_mean_squared_error: 2036.8023\n",
      "Epoch 68/100\n",
      "75195/75195 [==============================] - 2s 25us/step - loss: 460.6401 - mean_squared_error: 460.6401 - val_loss: 1668.7081 - val_mean_squared_error: 1668.7081\n",
      "Epoch 69/100\n",
      "75195/75195 [==============================] - 2s 25us/step - loss: 472.7835 - mean_squared_error: 472.7835 - val_loss: 1393.9272 - val_mean_squared_error: 1393.9272\n",
      "Epoch 70/100\n",
      "75195/75195 [==============================] - 2s 25us/step - loss: 480.8557 - mean_squared_error: 480.8557 - val_loss: 1953.0161 - val_mean_squared_error: 1953.0161\n",
      "Epoch 71/100\n",
      "75195/75195 [==============================] - 2s 25us/step - loss: 463.4252 - mean_squared_error: 463.4252 - val_loss: 1840.7570 - val_mean_squared_error: 1840.7570\n",
      "Epoch 72/100\n",
      "75195/75195 [==============================] - 2s 25us/step - loss: 466.9835 - mean_squared_error: 466.9835 - val_loss: 1730.5253 - val_mean_squared_error: 1730.5253\n",
      "Epoch 73/100\n",
      "75195/75195 [==============================] - 2s 25us/step - loss: 469.8444 - mean_squared_error: 469.8444 - val_loss: 1915.8611 - val_mean_squared_error: 1915.8611\n",
      "Epoch 74/100\n",
      "75195/75195 [==============================] - 2s 25us/step - loss: 460.0624 - mean_squared_error: 460.0624 - val_loss: 2031.0492 - val_mean_squared_error: 2031.0492\n",
      "Epoch 75/100\n",
      "75195/75195 [==============================] - 2s 26us/step - loss: 462.7985 - mean_squared_error: 462.7985 - val_loss: 3216.2742 - val_mean_squared_error: 3216.2742\n",
      "Epoch 76/100\n",
      "75195/75195 [==============================] - 2s 26us/step - loss: 463.6122 - mean_squared_error: 463.6122 - val_loss: 1798.9171 - val_mean_squared_error: 1798.9171\n",
      "Epoch 77/100\n",
      "75195/75195 [==============================] - 2s 25us/step - loss: 469.5473 - mean_squared_error: 469.5473 - val_loss: 1757.7490 - val_mean_squared_error: 1757.7490\n",
      "Epoch 78/100\n",
      "75195/75195 [==============================] - ETA: 0s - loss: 469.6587 - mean_squared_error: 469.65 - 2s 25us/step - loss: 469.1033 - mean_squared_error: 469.1033 - val_loss: 931.6831 - val_mean_squared_error: 931.6831\n",
      "Epoch 79/100\n",
      "75195/75195 [==============================] - 2s 25us/step - loss: 471.3112 - mean_squared_error: 471.3112 - val_loss: 1536.1289 - val_mean_squared_error: 1536.1289\n",
      "Epoch 80/100\n",
      "75195/75195 [==============================] - 2s 25us/step - loss: 458.4803 - mean_squared_error: 458.4803 - val_loss: 1743.5779 - val_mean_squared_error: 1743.5779\n",
      "Epoch 81/100\n",
      "75195/75195 [==============================] - 2s 25us/step - loss: 465.6910 - mean_squared_error: 465.6910 - val_loss: 1570.6564 - val_mean_squared_error: 1570.6564\n",
      "Epoch 82/100\n",
      "75195/75195 [==============================] - 2s 26us/step - loss: 468.6234 - mean_squared_error: 468.6234 - val_loss: 2360.4623 - val_mean_squared_error: 2360.4623\n",
      "Epoch 83/100\n",
      "75195/75195 [==============================] - 2s 25us/step - loss: 466.4806 - mean_squared_error: 466.4806 - val_loss: 2053.8925 - val_mean_squared_error: 2053.8925\n",
      "Epoch 84/100\n",
      "75195/75195 [==============================] - 2s 26us/step - loss: 457.7662 - mean_squared_error: 457.7662 - val_loss: 1921.6200 - val_mean_squared_error: 1921.6200\n",
      "Epoch 85/100\n",
      "75195/75195 [==============================] - 2s 26us/step - loss: 468.6316 - mean_squared_error: 468.6316 - val_loss: 1324.2002 - val_mean_squared_error: 1324.2002\n",
      "Epoch 86/100\n",
      "75195/75195 [==============================] - 2s 26us/step - loss: 459.9049 - mean_squared_error: 459.9049 - val_loss: 1409.6738 - val_mean_squared_error: 1409.6738\n",
      "Epoch 87/100\n",
      "75195/75195 [==============================] - 2s 26us/step - loss: 469.7550 - mean_squared_error: 469.7550 - val_loss: 1089.7692 - val_mean_squared_error: 1089.7692\n",
      "Epoch 88/100\n",
      "75195/75195 [==============================] - 2s 27us/step - loss: 455.4178 - mean_squared_error: 455.4178 - val_loss: 1647.9636 - val_mean_squared_error: 1647.9636\n",
      "Epoch 89/100\n",
      "75195/75195 [==============================] - 2s 27us/step - loss: 474.7540 - mean_squared_error: 474.7540 - val_loss: 2117.0197 - val_mean_squared_error: 2117.0197\n",
      "Epoch 90/100\n",
      "75195/75195 [==============================] - 2s 29us/step - loss: 472.1233 - mean_squared_error: 472.1233 - val_loss: 1801.9399 - val_mean_squared_error: 1801.9399\n",
      "Epoch 91/100\n"
     ]
    },
    {
     "name": "stdout",
     "output_type": "stream",
     "text": [
      "75195/75195 [==============================] - 2s 26us/step - loss: 464.3581 - mean_squared_error: 464.3581 - val_loss: 2119.7317 - val_mean_squared_error: 2119.7317\n",
      "Epoch 92/100\n",
      "75195/75195 [==============================] - 2s 26us/step - loss: 457.2194 - mean_squared_error: 457.2194 - val_loss: 2406.2780 - val_mean_squared_error: 2406.2780\n",
      "Epoch 93/100\n",
      "75195/75195 [==============================] - 2s 26us/step - loss: 473.3761 - mean_squared_error: 473.3761 - val_loss: 1614.0577 - val_mean_squared_error: 1614.0577\n",
      "Epoch 94/100\n",
      "75195/75195 [==============================] - 2s 25us/step - loss: 467.3560 - mean_squared_error: 467.3560 - val_loss: 1357.0962 - val_mean_squared_error: 1357.0962\n",
      "Epoch 95/100\n",
      "75195/75195 [==============================] - 2s 26us/step - loss: 456.0543 - mean_squared_error: 456.0543 - val_loss: 2600.2458 - val_mean_squared_error: 2600.2458\n",
      "Epoch 96/100\n",
      "75195/75195 [==============================] - 2s 26us/step - loss: 467.2995 - mean_squared_error: 467.2995 - val_loss: 1012.1699 - val_mean_squared_error: 1012.1699\n",
      "Epoch 97/100\n",
      "75195/75195 [==============================] - 2s 26us/step - loss: 460.4012 - mean_squared_error: 460.4012 - val_loss: 3459.6402 - val_mean_squared_error: 3459.6402\n",
      "Epoch 98/100\n",
      "75195/75195 [==============================] - 2s 26us/step - loss: 462.3720 - mean_squared_error: 462.3720 - val_loss: 1552.0528 - val_mean_squared_error: 1552.0528\n",
      "Epoch 99/100\n",
      "75195/75195 [==============================] - 2s 26us/step - loss: 455.3227 - mean_squared_error: 455.3227 - val_loss: 2047.9620 - val_mean_squared_error: 2047.9620\n",
      "Epoch 100/100\n",
      "75195/75195 [==============================] - 2s 26us/step - loss: 471.3568 - mean_squared_error: 471.3568 - val_loss: 1445.8663 - val_mean_squared_error: 1445.8663\n"
     ]
    }
   ],
   "source": [
    "h=model.fit(xtrain, ytrain, validation_split=.2,epochs=100, batch_size=50)"
   ]
  },
  {
   "cell_type": "code",
   "execution_count": 39,
   "metadata": {},
   "outputs": [
    {
     "name": "stdout",
     "output_type": "stream",
     "text": [
      "mean_squared_error 485.7913634492556\n",
      "root mean_squared_error 22.040675204023483\n",
      "mean_absolute_error 9.900580230624255\n",
      "r2_score 0.6610064310917647\n"
     ]
    },
    {
     "data": {
      "text/html": [
       "<div>\n",
       "<style scoped>\n",
       "    .dataframe tbody tr th:only-of-type {\n",
       "        vertical-align: middle;\n",
       "    }\n",
       "\n",
       "    .dataframe tbody tr th {\n",
       "        vertical-align: top;\n",
       "    }\n",
       "\n",
       "    .dataframe thead th {\n",
       "        text-align: right;\n",
       "    }\n",
       "</style>\n",
       "<table border=\"1\" class=\"dataframe\">\n",
       "  <thead>\n",
       "    <tr style=\"text-align: right;\">\n",
       "      <th></th>\n",
       "      <th>t + 1</th>\n",
       "      <th>pred (t +1)</th>\n",
       "    </tr>\n",
       "  </thead>\n",
       "  <tbody>\n",
       "    <tr>\n",
       "      <th>0</th>\n",
       "      <td>11.0</td>\n",
       "      <td>16.678478</td>\n",
       "    </tr>\n",
       "    <tr>\n",
       "      <th>1</th>\n",
       "      <td>14.0</td>\n",
       "      <td>17.103142</td>\n",
       "    </tr>\n",
       "    <tr>\n",
       "      <th>2</th>\n",
       "      <td>87.0</td>\n",
       "      <td>83.290115</td>\n",
       "    </tr>\n",
       "    <tr>\n",
       "      <th>3</th>\n",
       "      <td>28.0</td>\n",
       "      <td>47.152172</td>\n",
       "    </tr>\n",
       "    <tr>\n",
       "      <th>4</th>\n",
       "      <td>16.0</td>\n",
       "      <td>16.994118</td>\n",
       "    </tr>\n",
       "    <tr>\n",
       "      <th>5</th>\n",
       "      <td>65.0</td>\n",
       "      <td>69.687584</td>\n",
       "    </tr>\n",
       "    <tr>\n",
       "      <th>6</th>\n",
       "      <td>15.0</td>\n",
       "      <td>27.181637</td>\n",
       "    </tr>\n",
       "    <tr>\n",
       "      <th>7</th>\n",
       "      <td>33.0</td>\n",
       "      <td>47.657501</td>\n",
       "    </tr>\n",
       "    <tr>\n",
       "      <th>8</th>\n",
       "      <td>21.0</td>\n",
       "      <td>25.662109</td>\n",
       "    </tr>\n",
       "    <tr>\n",
       "      <th>9</th>\n",
       "      <td>15.0</td>\n",
       "      <td>21.654165</td>\n",
       "    </tr>\n",
       "  </tbody>\n",
       "</table>\n",
       "</div>"
      ],
      "text/plain": [
       "   t + 1  pred (t +1)\n",
       "0   11.0    16.678478\n",
       "1   14.0    17.103142\n",
       "2   87.0    83.290115\n",
       "3   28.0    47.152172\n",
       "4   16.0    16.994118\n",
       "5   65.0    69.687584\n",
       "6   15.0    27.181637\n",
       "7   33.0    47.657501\n",
       "8   21.0    25.662109\n",
       "9   15.0    21.654165"
      ]
     },
     "execution_count": 39,
     "metadata": {},
     "output_type": "execute_result"
    }
   ],
   "source": [
    "ypred=model.predict(xtest)\n",
    "\n",
    "import math\n",
    "print('mean_squared_error',mean_squared_error(ytest, ypred))\n",
    "print('root mean_squared_error',math.sqrt(mean_squared_error(ytest, ypred)))\n",
    "print('mean_absolute_error',mean_absolute_error(ytest, ypred))\n",
    "print('r2_score',r2_score(ytest, ypred))\n",
    "\n",
    "ypredPD=pd.DataFrame()\n",
    "# ypredPD['t']=xtest['S000501_x'].values\n",
    "ypredPD['t + 1']=ytest.values.ravel()\n",
    "ypredPD['pred (t +1)']=ypred\n",
    "ypredPD.head(10)"
   ]
  },
  {
   "cell_type": "code",
   "execution_count": 40,
   "metadata": {},
   "outputs": [
    {
     "name": "stdout",
     "output_type": "stream",
     "text": [
      "dict_keys(['val_loss', 'val_mean_squared_error', 'loss', 'mean_squared_error'])\n"
     ]
    },
    {
     "data": {
      "image/png": "[encoded data removed]",
      "text/plain": [
       "<Figure size 432x288 with 1 Axes>"
      ]
     },
     "metadata": {
      "needs_background": "light"
     },
     "output_type": "display_data"
    },
    {
     "data": {
      "image/png": "[encoded data removed]",
      "text/plain": [
       "<Figure size 432x288 with 1 Axes>"
      ]
     },
     "metadata": {
      "needs_background": "light"
     },
     "output_type": "display_data"
    }
   ],
   "source": [
    "history=h\n",
    "print(history.history.keys())\n",
    "# summarize history for accuracy\n",
    "plt.plot(history.history['val_loss'])\n",
    "plt.plot(history.history['loss'])\n",
    "plt.title('model accuracy')\n",
    "plt.ylabel('accuracy')\n",
    "plt.xlabel('epoch')\n",
    "plt.legend(['train', 'test'], loc='upper left')\n",
    "plt.show()\n",
    "# summarize history for loss\n",
    "plt.plot(history.history['val_mean_squared_error'])\n",
    "plt.plot(history.history['mean_squared_error'])\n",
    "plt.title('model loss')\n",
    "plt.ylabel('loss')\n",
    "plt.xlabel('epoch')\n",
    "plt.legend(['train', 'test'], loc='upper left')\n",
    "plt.show()"
   ]
  },
  {
   "cell_type": "code",
   "execution_count": 41,
   "metadata": {},
   "outputs": [
    {
     "name": "stdout",
     "output_type": "stream",
     "text": [
      "9.900580230624255\n",
      "19.691873312263258\n",
      "50.648963785693006\n"
     ]
    }
   ],
   "source": [
    "ypredPD['diff']=abs(ypredPD['t + 1']- ypredPD['pred (t +1)'])\n",
    "print(np.mean(ypredPD['diff']))\n",
    "print(np.std(ypredPD['diff']))\n",
    "print(100*ypredPD[ypredPD['diff']<=5].shape[0]/ypredPD.shape[0])"
   ]
  },
  {
   "cell_type": "code",
   "execution_count": 42,
   "metadata": {},
   "outputs": [
    {
     "data": {
      "image/png": "[encoded data removed]",
      "text/plain": [
       "<Figure size 432x288 with 1 Axes>"
      ]
     },
     "metadata": {
      "needs_background": "light"
     },
     "output_type": "display_data"
    },
    {
     "data": {
      "text/html": [
       "<div>\n",
       "<style scoped>\n",
       "    .dataframe tbody tr th:only-of-type {\n",
       "        vertical-align: middle;\n",
       "    }\n",
       "\n",
       "    .dataframe tbody tr th {\n",
       "        vertical-align: top;\n",
       "    }\n",
       "\n",
       "    .dataframe thead th {\n",
       "        text-align: right;\n",
       "    }\n",
       "</style>\n",
       "<table border=\"1\" class=\"dataframe\">\n",
       "  <thead>\n",
       "    <tr style=\"text-align: right;\">\n",
       "      <th></th>\n",
       "      <th>t + 1</th>\n",
       "      <th>pred (t +1)</th>\n",
       "      <th>diff</th>\n",
       "    </tr>\n",
       "  </thead>\n",
       "  <tbody>\n",
       "    <tr>\n",
       "      <th>5238</th>\n",
       "      <td>1.0</td>\n",
       "      <td>44.164242</td>\n",
       "      <td>43.164242</td>\n",
       "    </tr>\n",
       "    <tr>\n",
       "      <th>17876</th>\n",
       "      <td>1.0</td>\n",
       "      <td>14.392642</td>\n",
       "      <td>13.392642</td>\n",
       "    </tr>\n",
       "    <tr>\n",
       "      <th>18505</th>\n",
       "      <td>2.0</td>\n",
       "      <td>13.927414</td>\n",
       "      <td>11.927414</td>\n",
       "    </tr>\n",
       "    <tr>\n",
       "      <th>8259</th>\n",
       "      <td>4.0</td>\n",
       "      <td>12.714792</td>\n",
       "      <td>8.714792</td>\n",
       "    </tr>\n",
       "    <tr>\n",
       "      <th>6110</th>\n",
       "      <td>4.0</td>\n",
       "      <td>12.730762</td>\n",
       "      <td>8.730762</td>\n",
       "    </tr>\n",
       "    <tr>\n",
       "      <th>3757</th>\n",
       "      <td>4.0</td>\n",
       "      <td>13.512300</td>\n",
       "      <td>9.512300</td>\n",
       "    </tr>\n",
       "    <tr>\n",
       "      <th>10004</th>\n",
       "      <td>4.0</td>\n",
       "      <td>12.706313</td>\n",
       "      <td>8.706313</td>\n",
       "    </tr>\n",
       "    <tr>\n",
       "      <th>9520</th>\n",
       "      <td>5.0</td>\n",
       "      <td>12.720598</td>\n",
       "      <td>7.720598</td>\n",
       "    </tr>\n",
       "    <tr>\n",
       "      <th>11534</th>\n",
       "      <td>5.0</td>\n",
       "      <td>14.173598</td>\n",
       "      <td>9.173598</td>\n",
       "    </tr>\n",
       "    <tr>\n",
       "      <th>21001</th>\n",
       "      <td>5.0</td>\n",
       "      <td>12.760441</td>\n",
       "      <td>7.760441</td>\n",
       "    </tr>\n",
       "  </tbody>\n",
       "</table>\n",
       "</div>"
      ],
      "text/plain": [
       "       t + 1  pred (t +1)       diff\n",
       "5238     1.0    44.164242  43.164242\n",
       "17876    1.0    14.392642  13.392642\n",
       "18505    2.0    13.927414  11.927414\n",
       "8259     4.0    12.714792   8.714792\n",
       "6110     4.0    12.730762   8.730762\n",
       "3757     4.0    13.512300   9.512300\n",
       "10004    4.0    12.706313   8.706313\n",
       "9520     5.0    12.720598   7.720598\n",
       "11534    5.0    14.173598   9.173598\n",
       "21001    5.0    12.760441   7.760441"
      ]
     },
     "execution_count": 42,
     "metadata": {},
     "output_type": "execute_result"
    },
    {
     "data": {
      "image/png": "[encoded data removed]",
      "text/plain": [
       "<Figure size 432x288 with 1 Axes>"
      ]
     },
     "metadata": {
      "needs_background": "light"
     },
     "output_type": "display_data"
    }
   ],
   "source": [
    "\n",
    "import matplotlib.patches as mpatches\n",
    "plt.ylabel('Values')\n",
    "plt.xlabel('index')\n",
    "red_patch = mpatches.Patch(color='red', label='Actual data')\n",
    "blue_patch = mpatches.Patch(color='blue', label='Predicted data')\n",
    "plt.legend(handles=[red_patch,blue_patch])\n",
    "\n",
    "ypredPD=ypredPD.sort_values(by=['t + 1'])\n",
    "plt.scatter(np.arange(0,ypredPD.shape[0],1),ypredPD['pred (t +1)'][:ypredPD.shape[0]])\n",
    "plt.plot(np.arange(0,ypredPD.shape[0],1),ypredPD['t + 1'][:ypredPD.shape[0]],color='red')\n",
    "plt.show()\n",
    "\n",
    "plt.ylabel('p*(t+1), Predicted data')\n",
    "plt.xlabel('p(t+1), Actual data')\n",
    "plt.scatter(ypredPD['t + 1'][:ypredPD.shape[0]],ypredPD['pred (t +1)'][:ypredPD.shape[0]])\n",
    "\n",
    "ypredPD.head(10)"
   ]
  },
  {
   "cell_type": "markdown",
   "metadata": {},
   "source": [
    "SVR\n",
    "======"
   ]
  },
  {
   "cell_type": "code",
   "execution_count": null,
   "metadata": {},
   "outputs": [],
   "source": [
    "from sklearn.svm import SVR\n",
    "# svr_rbf = SVR(kernel='rbf', C=10, gamma=0.02, epsilon=.001)\n",
    "svr_rbf = SVR(kernel='rbf')"
   ]
  },
  {
   "cell_type": "code",
   "execution_count": null,
   "metadata": {},
   "outputs": [],
   "source": [
    "svr_rbf.fit(xtrain, ytrain) "
   ]
  },
  {
   "cell_type": "code",
   "execution_count": null,
   "metadata": {},
   "outputs": [],
   "source": [
    "ypred=svr_rbf.predict(xtest)"
   ]
  },
  {
   "cell_type": "code",
   "execution_count": null,
   "metadata": {},
   "outputs": [],
   "source": [
    "import math\n",
    "print('mean_squared_error',mean_squared_error(ytest, ypred))\n",
    "print('root mean_squared_error',math.sqrt(mean_squared_error(ytest, ypred)))\n",
    "print('mean_absolute_error',mean_absolute_error(ytest, ypred))\n",
    "print('r2_score',r2_score(ytest, ypred))\n",
    "\n",
    "ypredPD=pd.DataFrame()\n",
    "# ypredPD['t']=xtest['S000501_x'].values\n",
    "ypredPD['t + 1']=ytest.values.ravel()\n",
    "ypredPD['pred (t +1)']=ypred\n",
    "ypredPD.head(10)"
   ]
  },
  {
   "cell_type": "code",
   "execution_count": null,
   "metadata": {},
   "outputs": [],
   "source": []
  },
  {
   "cell_type": "code",
   "execution_count": null,
   "metadata": {},
   "outputs": [],
   "source": []
  }
 ],
 "metadata": {
  "kernelspec": {
   "display_name": "Python 3",
   "language": "python",
   "name": "python3"
  },
  "language_info": {
   "codemirror_mode": {
    "name": "ipython",
    "version": 3
   },
   "file_extension": ".py",
   "mimetype": "text/x-python",
   "name": "python",
   "nbconvert_exporter": "python",
   "pygments_lexer": "ipython3",
   "version": "3.7.3"
  }
 },
 "nbformat": 4,
 "nbformat_minor": 2
}

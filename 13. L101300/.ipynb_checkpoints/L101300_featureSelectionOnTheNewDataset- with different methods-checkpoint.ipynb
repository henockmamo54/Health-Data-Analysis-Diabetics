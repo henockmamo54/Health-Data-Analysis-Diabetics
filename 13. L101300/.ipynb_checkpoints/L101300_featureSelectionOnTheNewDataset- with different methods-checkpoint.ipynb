{
 "cells": [
  {
   "cell_type": "code",
   "execution_count": 1,
   "metadata": {},
   "outputs": [],
   "source": [
    "import numpy as np\n",
    "import pandas as pd \n",
    "import warnings\n",
    "warnings.filterwarnings('ignore')\n",
    "from scipy.stats import chi2_contingency\n",
    "from scipy import stats\n",
    "import seaborn as sns"
   ]
  },
  {
   "cell_type": "code",
   "execution_count": 2,
   "metadata": {},
   "outputs": [],
   "source": [
    "x=pd.read_csv('../_xlable4_withNa_AllColumns.txt')\n",
    "y=pd.read_csv('../_targelable4_withNa_AllColumns.txt')\n",
    "\n",
    "y=y[['Unnamed: 0','L101300']]"
   ]
  },
  {
   "cell_type": "code",
   "execution_count": 3,
   "metadata": {},
   "outputs": [],
   "source": [
    "data= pd.merge(x,y, how='inner',left_on='Unnamed: 0', right_on='Unnamed: 0')\n",
    "data['max']=np.min(data[['FIELD_6','FIELD_7']],axis=1)\n",
    "data=data.drop(columns=['FIELD_6','FIELD_7'])"
   ]
  },
  {
   "cell_type": "code",
   "execution_count": 4,
   "metadata": {},
   "outputs": [],
   "source": [
    "data=data.query('FIELD_15 !=1 and FIELD_17 !=1 and FIELD_22 != 1 and FIELD_24 != 1 and FIELD_16 != 1 and FIELD_23 != 1')\n",
    "# data=data.query('FIELD_16 != 1 and FIELD_23 != 1')"
   ]
  },
  {
   "cell_type": "code",
   "execution_count": 5,
   "metadata": {},
   "outputs": [
    {
     "name": "stdout",
     "output_type": "stream",
     "text": [
      "(159381, 408)\n"
     ]
    }
   ],
   "source": [
    "# data=data[data.SEX==0]\n",
    "# data=data[data.FIELD_15!=1]\n",
    "# data=data[data.FIELD_17!=1]\n",
    "# data=data[data.FIELD_22!=1]\n",
    "# data=data[data.FIELD_24!=1]\n",
    "# data=data[data.AGE>=40]\n",
    "# data=data[data.AGE<50]\n",
    "\n",
    "print(data.shape)"
   ]
  },
  {
   "cell_type": "code",
   "execution_count": 6,
   "metadata": {},
   "outputs": [],
   "source": [
    "#split column types to categorical and numerical\n",
    "numerical_cols = list(data.columns[~data.columns.str.startswith('FIELD')])\n",
    "categorical_cols = list(data.columns[data.columns.str.startswith('FIELD')])"
   ]
  },
  {
   "cell_type": "markdown",
   "metadata": {},
   "source": [
    "Calculate correlation Value - for numerical values\n",
    "========"
   ]
  },
  {
   "cell_type": "code",
   "execution_count": null,
   "metadata": {},
   "outputs": [],
   "source": [
    "corr=data[numerical_cols].corr()\n",
    "corr=corr.L101300_y\n",
    "corrvalPD=pd.DataFrame()\n",
    "corrvalPD['Col']=corr.index\n",
    "corrvalPD['val']=abs(corr.values)\n",
    "\n",
    "corrvalPD=corrvalPD.sort_values(by='val',ascending=False)\n",
    "corrvalPD.head()"
   ]
  },
  {
   "cell_type": "code",
   "execution_count": 8,
   "metadata": {},
   "outputs": [
    {
     "data": {
      "text/html": [
       "<div>\n",
       "<style scoped>\n",
       "    .dataframe tbody tr th:only-of-type {\n",
       "        vertical-align: middle;\n",
       "    }\n",
       "\n",
       "    .dataframe tbody tr th {\n",
       "        vertical-align: top;\n",
       "    }\n",
       "\n",
       "    .dataframe thead th {\n",
       "        text-align: right;\n",
       "    }\n",
       "</style>\n",
       "<table border=\"1\" class=\"dataframe\">\n",
       "  <thead>\n",
       "    <tr style=\"text-align: right;\">\n",
       "      <th></th>\n",
       "      <th>Col</th>\n",
       "      <th>Count</th>\n",
       "    </tr>\n",
       "  </thead>\n",
       "  <tbody>\n",
       "    <tr>\n",
       "      <th>0</th>\n",
       "      <td>Unnamed: 0</td>\n",
       "      <td>159381</td>\n",
       "    </tr>\n",
       "    <tr>\n",
       "      <th>1</th>\n",
       "      <td>index</td>\n",
       "      <td>159381</td>\n",
       "    </tr>\n",
       "    <tr>\n",
       "      <th>2</th>\n",
       "      <td>COMPARE</td>\n",
       "      <td>159381</td>\n",
       "    </tr>\n",
       "    <tr>\n",
       "      <th>3</th>\n",
       "      <td>AGE</td>\n",
       "      <td>159381</td>\n",
       "    </tr>\n",
       "    <tr>\n",
       "      <th>4</th>\n",
       "      <td>B_DAY</td>\n",
       "      <td>159381</td>\n",
       "    </tr>\n",
       "  </tbody>\n",
       "</table>\n",
       "</div>"
      ],
      "text/plain": [
       "          Col   Count\n",
       "0  Unnamed: 0  159381\n",
       "1       index  159381\n",
       "2     COMPARE  159381\n",
       "3         AGE  159381\n",
       "4       B_DAY  159381"
      ]
     },
     "execution_count": 8,
     "metadata": {},
     "output_type": "execute_result"
    }
   ],
   "source": [
    "#count of none NA values of feature set\n",
    "mydataset=data.copy()[numerical_cols]\n",
    "colCount=[]\n",
    "for i in mydataset.columns:\n",
    "    colCount.append([i,mydataset[i].dropna().shape[0]])\n",
    "\n",
    "colCountPD=pd.DataFrame(colCount,columns=['Col','Count'])\n",
    "colCountPD.head()"
   ]
  },
  {
   "cell_type": "code",
   "execution_count": 9,
   "metadata": {},
   "outputs": [
    {
     "data": {
      "text/html": [
       "<div>\n",
       "<style scoped>\n",
       "    .dataframe tbody tr th:only-of-type {\n",
       "        vertical-align: middle;\n",
       "    }\n",
       "\n",
       "    .dataframe tbody tr th {\n",
       "        vertical-align: top;\n",
       "    }\n",
       "\n",
       "    .dataframe thead th {\n",
       "        text-align: right;\n",
       "    }\n",
       "</style>\n",
       "<table border=\"1\" class=\"dataframe\">\n",
       "  <thead>\n",
       "    <tr style=\"text-align: right;\">\n",
       "      <th></th>\n",
       "      <th>Col</th>\n",
       "      <th>val</th>\n",
       "      <th>Count</th>\n",
       "    </tr>\n",
       "  </thead>\n",
       "  <tbody>\n",
       "    <tr>\n",
       "      <th>0</th>\n",
       "      <td>L102900_y</td>\n",
       "      <td>1.000000</td>\n",
       "      <td>158890</td>\n",
       "    </tr>\n",
       "    <tr>\n",
       "      <th>4</th>\n",
       "      <td>L102900_x</td>\n",
       "      <td>0.726413</td>\n",
       "      <td>158941</td>\n",
       "    </tr>\n",
       "    <tr>\n",
       "      <th>6</th>\n",
       "      <td>L103200</td>\n",
       "      <td>0.646128</td>\n",
       "      <td>158879</td>\n",
       "    </tr>\n",
       "    <tr>\n",
       "      <th>16</th>\n",
       "      <td>L103300</td>\n",
       "      <td>0.442681</td>\n",
       "      <td>135222</td>\n",
       "    </tr>\n",
       "    <tr>\n",
       "      <th>27</th>\n",
       "      <td>L103000</td>\n",
       "      <td>0.272072</td>\n",
       "      <td>158939</td>\n",
       "    </tr>\n",
       "    <tr>\n",
       "      <th>36</th>\n",
       "      <td>max</td>\n",
       "      <td>0.212042</td>\n",
       "      <td>58375</td>\n",
       "    </tr>\n",
       "    <tr>\n",
       "      <th>37</th>\n",
       "      <td>L101100</td>\n",
       "      <td>0.210139</td>\n",
       "      <td>77885</td>\n",
       "    </tr>\n",
       "    <tr>\n",
       "      <th>39</th>\n",
       "      <td>S000300</td>\n",
       "      <td>0.195928</td>\n",
       "      <td>159075</td>\n",
       "    </tr>\n",
       "    <tr>\n",
       "      <th>40</th>\n",
       "      <td>L104600</td>\n",
       "      <td>0.186412</td>\n",
       "      <td>56437</td>\n",
       "    </tr>\n",
       "    <tr>\n",
       "      <th>41</th>\n",
       "      <td>AGE</td>\n",
       "      <td>0.182023</td>\n",
       "      <td>159381</td>\n",
       "    </tr>\n",
       "    <tr>\n",
       "      <th>43</th>\n",
       "      <td>B_DAY</td>\n",
       "      <td>0.179006</td>\n",
       "      <td>159381</td>\n",
       "    </tr>\n",
       "    <tr>\n",
       "      <th>48</th>\n",
       "      <td>L101700</td>\n",
       "      <td>0.167031</td>\n",
       "      <td>158951</td>\n",
       "    </tr>\n",
       "    <tr>\n",
       "      <th>49</th>\n",
       "      <td>L100800</td>\n",
       "      <td>0.161225</td>\n",
       "      <td>159236</td>\n",
       "    </tr>\n",
       "    <tr>\n",
       "      <th>50</th>\n",
       "      <td>L100700</td>\n",
       "      <td>0.155444</td>\n",
       "      <td>152474</td>\n",
       "    </tr>\n",
       "    <tr>\n",
       "      <th>51</th>\n",
       "      <td>S000501</td>\n",
       "      <td>0.151966</td>\n",
       "      <td>159305</td>\n",
       "    </tr>\n",
       "    <tr>\n",
       "      <th>52</th>\n",
       "      <td>S000502</td>\n",
       "      <td>0.151741</td>\n",
       "      <td>159305</td>\n",
       "    </tr>\n",
       "    <tr>\n",
       "      <th>55</th>\n",
       "      <td>L101300</td>\n",
       "      <td>0.133397</td>\n",
       "      <td>159247</td>\n",
       "    </tr>\n",
       "    <tr>\n",
       "      <th>57</th>\n",
       "      <td>L190500</td>\n",
       "      <td>0.126339</td>\n",
       "      <td>159204</td>\n",
       "    </tr>\n",
       "    <tr>\n",
       "      <th>59</th>\n",
       "      <td>L190400</td>\n",
       "      <td>0.124777</td>\n",
       "      <td>159241</td>\n",
       "    </tr>\n",
       "    <tr>\n",
       "      <th>62</th>\n",
       "      <td>L190300</td>\n",
       "      <td>0.118216</td>\n",
       "      <td>159204</td>\n",
       "    </tr>\n",
       "  </tbody>\n",
       "</table>\n",
       "</div>"
      ],
      "text/plain": [
       "          Col       val   Count\n",
       "0   L102900_y  1.000000  158890\n",
       "4   L102900_x  0.726413  158941\n",
       "6     L103200  0.646128  158879\n",
       "16    L103300  0.442681  135222\n",
       "27    L103000  0.272072  158939\n",
       "36        max  0.212042   58375\n",
       "37    L101100  0.210139   77885\n",
       "39    S000300  0.195928  159075\n",
       "40    L104600  0.186412   56437\n",
       "41        AGE  0.182023  159381\n",
       "43      B_DAY  0.179006  159381\n",
       "48    L101700  0.167031  158951\n",
       "49    L100800  0.161225  159236\n",
       "50    L100700  0.155444  152474\n",
       "51    S000501  0.151966  159305\n",
       "52    S000502  0.151741  159305\n",
       "55    L101300  0.133397  159247\n",
       "57    L190500  0.126339  159204\n",
       "59    L190400  0.124777  159241\n",
       "62    L190300  0.118216  159204"
      ]
     },
     "execution_count": 9,
     "metadata": {},
     "output_type": "execute_result"
    }
   ],
   "source": [
    "mergedColCorrCount=pd.merge(corrvalPD,colCountPD,how='inner',left_on='Col',right_on='Col')\n",
    "mergedColCorrCount=mergedColCorrCount[mergedColCorrCount.Count>50000]\n",
    "mergedColCorrCount=mergedColCorrCount.sort_values(by='val', ascending=False)\n",
    "mergedColCorrCount.head(20)"
   ]
  },
  {
   "cell_type": "code",
   "execution_count": 10,
   "metadata": {},
   "outputs": [
    {
     "name": "stdout",
     "output_type": "stream",
     "text": [
      "['L102900_y', 'L102900_x', 'L103200', 'L103300', 'L103000', 'max', 'L101100', 'S000300', 'L104600', 'AGE', 'B_DAY', 'L101700', 'L100800', 'L100700', 'S000501', 'S000502', 'L101300', 'L190500', 'L190400', 'L190300']\n"
     ]
    }
   ],
   "source": [
    "print(list(mergedColCorrCount.head(20).Col))"
   ]
  },
  {
   "cell_type": "markdown",
   "metadata": {},
   "source": [
    "Anova test - For categorical values [Questionnaire answers]\n",
    "======="
   ]
  },
  {
   "cell_type": "code",
   "execution_count": 11,
   "metadata": {},
   "outputs": [],
   "source": [
    "mydataset=data.copy()[categorical_cols] #[np.insert(categorical_cols,0,'L100800')]\n",
    "\n",
    "# mydataset=mydataset.drop(columns=['FIELD_1','FIELD_2','FIELD_8','FIELD_10','FIELD_11','FIELD_12','FIELD_39','FIELD_88',\n",
    "#                            'FIELD_89','FIELD_109','FIELD_110','FIELD_111','FIELD_70','FIELD_82','FIELD_85','FIELD_91',\n",
    "#                            'FIELD_103','FIELD_106'])\n",
    "\n",
    "# mydataset=mydataset.drop(columns=['FIELD_1','FIELD_2','FIELD_87','FIELD_8','FIELD_10','FIELD_11','FIELD_12','FIELD_39',\n",
    "#                                   'FIELD_88','FIELD_89', 'FIELD_108','FIELD_109','FIELD_110','FIELD_111','FIELD_82',\n",
    "#                                  'FIELD_91','FIELD_103','FIELD_118','FIELD_119','FIELD_120','FIELD_121','FIELD_122',\n",
    "#                                  'FIELD_123','FIELD_124','FIELD_125','FIELD_126','FIELD_127','FIELD_128','FIELD_129',\n",
    "#                                  'FIELD_130','FIELD_131','FIELD_132','FIELD_133','FIELD_134','FIELD_135','FIELD_136',\n",
    "#                                   'FIELD_137','FIELD_138','FIELD_139','FIELD_140'])\n",
    "\n",
    "\n",
    "mydataset=mydataset.drop(columns=['FIELD_1','FIELD_2','FIELD_87','FIELD_8','FIELD_10','FIELD_11','FIELD_12','FIELD_39',\n",
    "                                  'FIELD_88','FIELD_89', 'FIELD_108','FIELD_109','FIELD_110','FIELD_111','FIELD_82',\n",
    "                                 'FIELD_91','FIELD_103','FIELD_118','FIELD_119','FIELD_120','FIELD_121','FIELD_122',\n",
    "                                 'FIELD_123','FIELD_124','FIELD_125','FIELD_126','FIELD_127','FIELD_128','FIELD_129',\n",
    "                                 'FIELD_130','FIELD_131','FIELD_132','FIELD_133','FIELD_134','FIELD_135','FIELD_136',\n",
    "                                  'FIELD_137','FIELD_138','FIELD_139','FIELD_140',\n",
    "                                  'FIELD_64','FIELD_65','FIELD_66','FIELD_67','FIELD_68','FIELD_69','FIELD_70','FIELD_72',\n",
    "                                  'FIELD_73','FIELD_74','FIELD_75','FIELD_76','FIELD_77','FIELD_80','FIELD_81','FIELD_84',\n",
    "                                  'FIELD_85','FIELD_90','FIELD_93','FIELD_94','FIELD_95','FIELD_96','FIELD_97','FIELD_98',\n",
    "                                  'FIELD_101','FIELD_102','FIELD_105','FIELD_106','FIELD_112','FIELD_113','FIELD_114',\n",
    "                                  'FIELD_115','FIELD_116','FIELD_117','FIELD_118','FIELD_119','FIELD_9'\n",
    "                                 ])\n",
    "\n",
    "\n",
    "mydataset=mydataset.drop(mydataset[mydataset.FIELD_3=='`'].index)\n",
    "mydataset=mydataset.drop(mydataset[mydataset.FIELD_3=='G'].index)\n",
    "\n",
    "\n",
    "mydataset=mydataset.drop(mydataset[mydataset.FIELD_4=='.'].index)\n",
    "mydataset=mydataset.drop(mydataset[mydataset.FIELD_5=='.'].index)\n",
    "\n",
    "mydataset=mydataset.drop(mydataset[mydataset.FIELD_35=='?'].index)\n",
    "mydataset=mydataset.drop(mydataset[mydataset.FIELD_35=='.'].index)\n",
    "mydataset=mydataset.drop(mydataset[mydataset.FIELD_36=='.'].index)\n",
    "mydataset=mydataset.drop(mydataset[mydataset.FIELD_37=='\\\\'].index)\n",
    " \n",
    "# mydataset=mydataset.drop(mydataset[mydataset.FIELD_39 == '7+' ].index)\n",
    "# mydataset=mydataset.drop(mydataset[mydataset.FIELD_39 == '5~7'].index)\n",
    "# mydataset=mydataset.drop(mydataset[mydataset.FIELD_39 == '3-4'].index)\n",
    "\n",
    "\n",
    "# mydataset=mydataset.drop(mydataset[mydataset.FIELD_95=='.'].index)"
   ]
  },
  {
   "cell_type": "code",
   "execution_count": 12,
   "metadata": {
    "scrolled": true
   },
   "outputs": [
    {
     "name": "stdout",
     "output_type": "stream",
     "text": [
      "0 FIELD_3\n",
      "1 FIELD_4\n",
      "2 FIELD_5\n",
      "3 FIELD_13\n",
      "4 FIELD_14\n",
      "5 FIELD_15\n",
      "6 FIELD_16\n",
      "7 FIELD_17\n",
      "8 FIELD_18\n",
      "9 FIELD_19\n",
      "10 FIELD_20\n",
      "11 FIELD_21\n",
      "12 FIELD_22\n",
      "13 FIELD_23\n",
      "14 FIELD_24\n",
      "15 FIELD_25\n",
      "16 FIELD_26\n",
      "17 FIELD_27\n",
      "18 FIELD_28\n",
      "19 FIELD_29\n",
      "20 FIELD_30\n",
      "21 FIELD_31\n",
      "22 FIELD_32\n",
      "23 FIELD_33\n",
      "24 FIELD_34\n",
      "25 FIELD_35\n",
      "26 FIELD_36\n",
      "27 FIELD_37\n",
      "28 FIELD_38\n",
      "29 FIELD_40\n",
      "30 FIELD_41\n",
      "31 FIELD_42\n",
      "32 FIELD_43\n",
      "33 FIELD_44\n",
      "34 FIELD_45\n",
      "35 FIELD_46\n",
      "36 FIELD_47\n",
      "37 FIELD_48\n",
      "38 FIELD_49\n",
      "39 FIELD_50\n",
      "40 FIELD_51\n",
      "41 FIELD_52\n",
      "42 FIELD_53\n",
      "43 FIELD_54\n",
      "44 FIELD_55\n",
      "45 FIELD_56\n",
      "46 FIELD_57\n",
      "47 FIELD_58\n",
      "48 FIELD_59\n",
      "49 FIELD_60\n",
      "50 FIELD_61\n",
      "51 FIELD_62\n",
      "52 FIELD_63\n"
     ]
    }
   ],
   "source": [
    "colslist=mydataset.columns\n",
    "DiabeticColVals=data.L102900_y\n",
    "\n",
    "cor=[]\n",
    "pval=[]\n",
    "count=[]\n",
    "\n",
    "for i in range(len(colslist)):\n",
    "    print(i,colslist[i])\n",
    "    \n",
    "    temp=pd.DataFrame([])\n",
    "    temp['a']=DiabeticColVals\n",
    "    temp['b']=mydataset[colslist[i]].astype(float)\n",
    "    temp=temp.dropna()\n",
    "    count.append(temp.shape[0])\n",
    "    \n",
    "    uniquevalues=temp.b.unique()\n",
    "    \n",
    "    selectedGroupVals=[]\n",
    "    for k in range(len(uniquevalues)):\n",
    "        selectedGroupVals.append(np.asarray(temp[temp['b']==uniquevalues[k]].a))\n",
    "\n",
    "    F, p = stats.f_oneway(*selectedGroupVals)\n",
    "    cor.append(F)\n",
    "    pval.append(p)\n",
    "    "
   ]
  },
  {
   "cell_type": "code",
   "execution_count": 13,
   "metadata": {},
   "outputs": [],
   "source": [
    "FvalPvalCorr=pd.DataFrame()    \n",
    "FvalPvalCorr['Cols']=colslist\n",
    "FvalPvalCorr['F']=cor\n",
    "FvalPvalCorr['P']=pval\n",
    "FvalPvalCorr['Count']=count\n",
    "FvalPvalCorr=FvalPvalCorr.sort_values(by='F', ascending=False)\n"
   ]
  },
  {
   "cell_type": "code",
   "execution_count": 14,
   "metadata": {},
   "outputs": [
    {
     "data": {
      "text/html": [
       "<div>\n",
       "<style scoped>\n",
       "    .dataframe tbody tr th:only-of-type {\n",
       "        vertical-align: middle;\n",
       "    }\n",
       "\n",
       "    .dataframe tbody tr th {\n",
       "        vertical-align: top;\n",
       "    }\n",
       "\n",
       "    .dataframe thead th {\n",
       "        text-align: right;\n",
       "    }\n",
       "</style>\n",
       "<table border=\"1\" class=\"dataframe\">\n",
       "  <thead>\n",
       "    <tr style=\"text-align: right;\">\n",
       "      <th></th>\n",
       "      <th>Cols</th>\n",
       "      <th>F</th>\n",
       "      <th>P</th>\n",
       "      <th>Count</th>\n",
       "    </tr>\n",
       "  </thead>\n",
       "  <tbody>\n",
       "    <tr>\n",
       "      <th>11</th>\n",
       "      <td>FIELD_21</td>\n",
       "      <td>318.673436</td>\n",
       "      <td>3.308272e-71</td>\n",
       "      <td>158873</td>\n",
       "    </tr>\n",
       "    <tr>\n",
       "      <th>23</th>\n",
       "      <td>FIELD_33</td>\n",
       "      <td>296.848707</td>\n",
       "      <td>2.379799e-317</td>\n",
       "      <td>158577</td>\n",
       "    </tr>\n",
       "    <tr>\n",
       "      <th>4</th>\n",
       "      <td>FIELD_14</td>\n",
       "      <td>136.992377</td>\n",
       "      <td>3.599246e-60</td>\n",
       "      <td>158868</td>\n",
       "    </tr>\n",
       "    <tr>\n",
       "      <th>17</th>\n",
       "      <td>FIELD_27</td>\n",
       "      <td>136.247322</td>\n",
       "      <td>1.814595e-31</td>\n",
       "      <td>158872</td>\n",
       "    </tr>\n",
       "    <tr>\n",
       "      <th>28</th>\n",
       "      <td>FIELD_38</td>\n",
       "      <td>99.385529</td>\n",
       "      <td>1.234970e-145</td>\n",
       "      <td>158585</td>\n",
       "    </tr>\n",
       "    <tr>\n",
       "      <th>18</th>\n",
       "      <td>FIELD_28</td>\n",
       "      <td>77.871888</td>\n",
       "      <td>1.110259e-18</td>\n",
       "      <td>158873</td>\n",
       "    </tr>\n",
       "    <tr>\n",
       "      <th>15</th>\n",
       "      <td>FIELD_25</td>\n",
       "      <td>68.726527</td>\n",
       "      <td>1.139772e-16</td>\n",
       "      <td>158873</td>\n",
       "    </tr>\n",
       "    <tr>\n",
       "      <th>1</th>\n",
       "      <td>FIELD_4</td>\n",
       "      <td>63.631658</td>\n",
       "      <td>5.820223e-92</td>\n",
       "      <td>156468</td>\n",
       "    </tr>\n",
       "    <tr>\n",
       "      <th>8</th>\n",
       "      <td>FIELD_18</td>\n",
       "      <td>59.497890</td>\n",
       "      <td>1.231319e-14</td>\n",
       "      <td>158872</td>\n",
       "    </tr>\n",
       "    <tr>\n",
       "      <th>21</th>\n",
       "      <td>FIELD_31</td>\n",
       "      <td>53.903527</td>\n",
       "      <td>2.115797e-13</td>\n",
       "      <td>158873</td>\n",
       "    </tr>\n",
       "  </tbody>\n",
       "</table>\n",
       "</div>"
      ],
      "text/plain": [
       "        Cols           F              P   Count\n",
       "11  FIELD_21  318.673436   3.308272e-71  158873\n",
       "23  FIELD_33  296.848707  2.379799e-317  158577\n",
       "4   FIELD_14  136.992377   3.599246e-60  158868\n",
       "17  FIELD_27  136.247322   1.814595e-31  158872\n",
       "28  FIELD_38   99.385529  1.234970e-145  158585\n",
       "18  FIELD_28   77.871888   1.110259e-18  158873\n",
       "15  FIELD_25   68.726527   1.139772e-16  158873\n",
       "1    FIELD_4   63.631658   5.820223e-92  156468\n",
       "8   FIELD_18   59.497890   1.231319e-14  158872\n",
       "21  FIELD_31   53.903527   2.115797e-13  158873"
      ]
     },
     "execution_count": 14,
     "metadata": {},
     "output_type": "execute_result"
    }
   ],
   "source": [
    "FvalPvalCorr[FvalPvalCorr.Count>50000].head(10)"
   ]
  },
  {
   "cell_type": "code",
   "execution_count": 15,
   "metadata": {},
   "outputs": [
    {
     "name": "stdout",
     "output_type": "stream",
     "text": [
      "['FIELD_21', 'FIELD_33', 'FIELD_14', 'FIELD_27', 'FIELD_38', 'FIELD_28', 'FIELD_25', 'FIELD_4', 'FIELD_18', 'FIELD_31']\n"
     ]
    }
   ],
   "source": [
    "print(list(FvalPvalCorr[FvalPvalCorr.Count>50000].Cols)[:10])"
   ]
  },
  {
   "cell_type": "markdown",
   "metadata": {},
   "source": [
    "========================= LASSO method\n",
    "================"
   ]
  },
  {
   "cell_type": "code",
   "execution_count": 17,
   "metadata": {},
   "outputs": [
    {
     "name": "stdout",
     "output_type": "stream",
     "text": [
      "(8339, 30)\n"
     ]
    }
   ],
   "source": [
    "selectedcols=['L102900_y', 'L102900_x', 'L103200', 'L103300', 'L103000', 'max', 'L101100', 'S000300', 'L104600', 'AGE',\n",
    "              'B_DAY', 'L101700', 'L100800', 'L100700', 'S000501', 'S000502', 'L101300', 'L190500', 'L190400', \n",
    "              'L190300','FIELD_21', 'FIELD_33', 'FIELD_14', 'FIELD_27', 'FIELD_38', 'FIELD_28', 'FIELD_25', \n",
    "              'FIELD_4', 'FIELD_18', 'FIELD_31'\n",
    "             ]\n",
    "data2=data[selectedcols].copy().dropna()\n",
    "print(data2.shape)"
   ]
  },
  {
   "cell_type": "code",
   "execution_count": 33,
   "metadata": {},
   "outputs": [],
   "source": [
    "x=data2[['L102900_x', 'L103200', 'L103300', 'L103000', 'max', 'L101100', 'S000300', 'L104600', 'AGE',\n",
    "              'L101700', 'L100800', 'L100700', 'S000501', 'S000502', 'L101300', 'L190500', 'L190400', \n",
    "              'L190300','FIELD_21', 'FIELD_33', 'FIELD_14', 'FIELD_27', 'FIELD_38', 'FIELD_28', 'FIELD_25', \n",
    "              'FIELD_4', 'FIELD_18', 'FIELD_31'\n",
    "        ]]\n",
    "y=data2.L102900_y"
   ]
  },
  {
   "cell_type": "code",
   "execution_count": 34,
   "metadata": {},
   "outputs": [
    {
     "name": "stdout",
     "output_type": "stream",
     "text": [
      "[ 0.64677743  0.0579971   1.16883932  0.02813418  0.         -1.81870761\n",
      "  0.13904555  0.38100209  0.27841954  0.01549808 -0.07808801 -0.91186392\n",
      "  0.02955984 -0.05652979 -0.03638293 -0.24033634  0.         -1.26382875\n",
      " -0.          0.61541267 -0.         -0.          0.02637855  0.78126487\n",
      " -0.45970615 -0.34272957 -0.          0.        ]\n",
      "67.76303532183968\n"
     ]
    },
    {
     "data": {
      "text/html": [
       "<div>\n",
       "<style scoped>\n",
       "    .dataframe tbody tr th:only-of-type {\n",
       "        vertical-align: middle;\n",
       "    }\n",
       "\n",
       "    .dataframe tbody tr th {\n",
       "        vertical-align: top;\n",
       "    }\n",
       "\n",
       "    .dataframe thead th {\n",
       "        text-align: right;\n",
       "    }\n",
       "</style>\n",
       "<table border=\"1\" class=\"dataframe\">\n",
       "  <thead>\n",
       "    <tr style=\"text-align: right;\">\n",
       "      <th></th>\n",
       "      <th>Name</th>\n",
       "      <th>coeff</th>\n",
       "    </tr>\n",
       "  </thead>\n",
       "  <tbody>\n",
       "    <tr>\n",
       "      <th>5</th>\n",
       "      <td>L101100</td>\n",
       "      <td>1.818708</td>\n",
       "    </tr>\n",
       "    <tr>\n",
       "      <th>17</th>\n",
       "      <td>L190300</td>\n",
       "      <td>1.263829</td>\n",
       "    </tr>\n",
       "    <tr>\n",
       "      <th>2</th>\n",
       "      <td>L103300</td>\n",
       "      <td>1.168839</td>\n",
       "    </tr>\n",
       "    <tr>\n",
       "      <th>11</th>\n",
       "      <td>L100700</td>\n",
       "      <td>0.911864</td>\n",
       "    </tr>\n",
       "    <tr>\n",
       "      <th>23</th>\n",
       "      <td>FIELD_28</td>\n",
       "      <td>0.781265</td>\n",
       "    </tr>\n",
       "    <tr>\n",
       "      <th>0</th>\n",
       "      <td>L102900_x</td>\n",
       "      <td>0.646777</td>\n",
       "    </tr>\n",
       "    <tr>\n",
       "      <th>19</th>\n",
       "      <td>FIELD_33</td>\n",
       "      <td>0.615413</td>\n",
       "    </tr>\n",
       "    <tr>\n",
       "      <th>24</th>\n",
       "      <td>FIELD_25</td>\n",
       "      <td>0.459706</td>\n",
       "    </tr>\n",
       "    <tr>\n",
       "      <th>7</th>\n",
       "      <td>L104600</td>\n",
       "      <td>0.381002</td>\n",
       "    </tr>\n",
       "    <tr>\n",
       "      <th>25</th>\n",
       "      <td>FIELD_4</td>\n",
       "      <td>0.342730</td>\n",
       "    </tr>\n",
       "    <tr>\n",
       "      <th>8</th>\n",
       "      <td>AGE</td>\n",
       "      <td>0.278420</td>\n",
       "    </tr>\n",
       "    <tr>\n",
       "      <th>15</th>\n",
       "      <td>L190500</td>\n",
       "      <td>0.240336</td>\n",
       "    </tr>\n",
       "    <tr>\n",
       "      <th>6</th>\n",
       "      <td>S000300</td>\n",
       "      <td>0.139046</td>\n",
       "    </tr>\n",
       "    <tr>\n",
       "      <th>10</th>\n",
       "      <td>L100800</td>\n",
       "      <td>0.078088</td>\n",
       "    </tr>\n",
       "    <tr>\n",
       "      <th>1</th>\n",
       "      <td>L103200</td>\n",
       "      <td>0.057997</td>\n",
       "    </tr>\n",
       "    <tr>\n",
       "      <th>13</th>\n",
       "      <td>S000502</td>\n",
       "      <td>0.056530</td>\n",
       "    </tr>\n",
       "    <tr>\n",
       "      <th>14</th>\n",
       "      <td>L101300</td>\n",
       "      <td>0.036383</td>\n",
       "    </tr>\n",
       "    <tr>\n",
       "      <th>12</th>\n",
       "      <td>S000501</td>\n",
       "      <td>0.029560</td>\n",
       "    </tr>\n",
       "    <tr>\n",
       "      <th>3</th>\n",
       "      <td>L103000</td>\n",
       "      <td>0.028134</td>\n",
       "    </tr>\n",
       "    <tr>\n",
       "      <th>22</th>\n",
       "      <td>FIELD_38</td>\n",
       "      <td>0.026379</td>\n",
       "    </tr>\n",
       "    <tr>\n",
       "      <th>9</th>\n",
       "      <td>L101700</td>\n",
       "      <td>0.015498</td>\n",
       "    </tr>\n",
       "  </tbody>\n",
       "</table>\n",
       "</div>"
      ],
      "text/plain": [
       "         Name     coeff\n",
       "5     L101100  1.818708\n",
       "17    L190300  1.263829\n",
       "2     L103300  1.168839\n",
       "11    L100700  0.911864\n",
       "23   FIELD_28  0.781265\n",
       "0   L102900_x  0.646777\n",
       "19   FIELD_33  0.615413\n",
       "24   FIELD_25  0.459706\n",
       "7     L104600  0.381002\n",
       "25    FIELD_4  0.342730\n",
       "8         AGE  0.278420\n",
       "15    L190500  0.240336\n",
       "6     S000300  0.139046\n",
       "10    L100800  0.078088\n",
       "1     L103200  0.057997\n",
       "13    S000502  0.056530\n",
       "14    L101300  0.036383\n",
       "12    S000501  0.029560\n",
       "3     L103000  0.028134\n",
       "22   FIELD_38  0.026379\n",
       "9     L101700  0.015498"
      ]
     },
     "execution_count": 34,
     "metadata": {},
     "output_type": "execute_result"
    }
   ],
   "source": [
    "from sklearn import linear_model\n",
    "clf = linear_model.Lasso(alpha=0.1)\n",
    "clf.fit(x,y)\n",
    "\n",
    "print(clf.coef_)\n",
    "\n",
    "print(clf.intercept_)  \n",
    "\n",
    "# pd.DataFrame([x.columns.ravel(),clf.coef_.ravel()],columns=['Name','coeff'])\n",
    "\n",
    "lassod=pd.DataFrame()\n",
    "lassod['Name']=x.columns\n",
    "lassod['coeff']=clf.coef_\n",
    "lassod\n",
    "\n",
    "lassod=lassod.drop(lassod[lassod.coeff==0].index)\n",
    "lassod.coeff=abs(lassod.coeff)\n",
    "lassod=lassod.sort_values(by='coeff', ascending=False)\n",
    "lassod"
   ]
  },
  {
   "cell_type": "code",
   "execution_count": 35,
   "metadata": {},
   "outputs": [
    {
     "name": "stdout",
     "output_type": "stream",
     "text": [
      "['L101100', 'L190300', 'L103300', 'L100700', 'FIELD_28', 'L102900_x', 'FIELD_33', 'FIELD_25', 'L104600', 'FIELD_4', 'AGE', 'L190500', 'S000300', 'L100800', 'L103200', 'S000502', 'L101300', 'S000501', 'L103000', 'FIELD_38']\n"
     ]
    }
   ],
   "source": [
    "print(list(lassod.Name[:20]))"
   ]
  },
  {
   "cell_type": "markdown",
   "metadata": {},
   "source": [
    "=============================== SelectKBest method\n",
    "========================"
   ]
  },
  {
   "cell_type": "code",
   "execution_count": 36,
   "metadata": {},
   "outputs": [
    {
     "name": "stdout",
     "output_type": "stream",
     "text": [
      "['L102900_x', 'L103200', 'L103300', 'L103000', 'max', 'L101100', 'S000300', 'L104600', 'AGE', 'L101700', 'L100800', 'L100700', 'S000501', 'S000502', 'L101300', 'L190500']\n"
     ]
    }
   ],
   "source": [
    "# from sklearn.feature_selection import chi2\n",
    "from sklearn.feature_selection import f_regression\n",
    "from sklearn.feature_selection import SelectKBest\n",
    "\n",
    "bestfeatures = SelectKBest(score_func=f_regression, k=10)\n",
    "fit = bestfeatures.fit(x,y)\n",
    "\n",
    "dfscores = pd.DataFrame(fit.scores_)\n",
    "dfcolumns = pd.DataFrame(x.columns)\n",
    "\n",
    "featureScores = pd.concat([dfcolumns,dfscores],axis=1)\n",
    "featureScores.columns = ['Specs','Score']  #naming the dataframe columns\n",
    "\n",
    "# x=x[x.columns[:15]]\n",
    "print(list(x.columns[:16]))"
   ]
  },
  {
   "cell_type": "markdown",
   "metadata": {},
   "source": [
    "========================================= LinearSVC\n",
    "==============="
   ]
  },
  {
   "cell_type": "code",
   "execution_count": 37,
   "metadata": {},
   "outputs": [],
   "source": [
    "# from sklearn.svm import LinearSVC\n",
    "# from sklearn.datasets import load_iris\n",
    "# from sklearn.feature_selection import SelectFromModel\n",
    "\n",
    "# lsvc = LinearSVC(C=0.01, penalty=\"l1\", dual=False).fit(x, y)\n",
    "# model = SelectFromModel(lsvc, prefit=True)\n",
    "# X_new = model.transform(x)\n",
    "# X_new.shape"
   ]
  },
  {
   "cell_type": "code",
   "execution_count": 38,
   "metadata": {},
   "outputs": [],
   "source": [
    "# x.dtypes"
   ]
  },
  {
   "cell_type": "markdown",
   "metadata": {},
   "source": [
    "================================ SequentialFeatureSelector \n",
    "================================"
   ]
  },
  {
   "cell_type": "code",
   "execution_count": 39,
   "metadata": {},
   "outputs": [],
   "source": [
    "# from sklearn.linear_model import LinearRegression\n",
    "# from mlxtend.feature_selection import SequentialFeatureSelector as SFS\n",
    "# from mlxtend.plotting import plot_sequential_feature_selection as plot_sfs\n",
    "# from sklearn.ensemble import RandomForestRegressor\n",
    "\n",
    "# lr = RandomForestRegressor()\n",
    "\n",
    "# sfs = SFS(lr, \n",
    "#           k_features=13, \n",
    "#           forward=True, \n",
    "#           floating=False, \n",
    "#           scoring='neg_mean_squared_error',\n",
    "#           cv=5)\n",
    "\n",
    "# sfs = sfs.fit(x, y)\n",
    "# fig = plot_sfs(sfs.get_metric_dict(), kind='std_err')\n",
    "\n",
    "# plt.title('Sequential Forward Selection (w. StdErr)')\n",
    "# plt.grid()\n",
    "# plt.show()"
   ]
  },
  {
   "cell_type": "markdown",
   "metadata": {},
   "source": [
    "================================= feature_importances\n",
    "====="
   ]
  },
  {
   "cell_type": "code",
   "execution_count": 40,
   "metadata": {},
   "outputs": [
    {
     "name": "stdout",
     "output_type": "stream",
     "text": [
      "[2.72673452e-01 2.38690046e-01 4.04555233e-02 3.40635709e-02\n",
      " 2.01518710e-02 2.37317629e-02 2.30259620e-02 2.53598537e-02\n",
      " 3.79891265e-02 2.13299078e-02 2.60084522e-02 2.52712057e-02\n",
      " 2.18317432e-02 2.32510062e-02 2.16719369e-02 2.08644696e-02\n",
      " 1.96763618e-02 2.31635962e-02 1.25272227e-04 8.37640260e-03\n",
      " 6.39943591e-04 6.27914076e-03 1.79577364e-02 8.04867776e-03\n",
      " 3.84992009e-03 2.07852507e-02 4.43174884e-03 1.02960594e-02]\n"
     ]
    },
    {
     "data": {
      "image/png": "[encoded data removed]",
      "text/plain": [
       "<Figure size 432x288 with 1 Axes>"
      ]
     },
     "metadata": {
      "needs_background": "light"
     },
     "output_type": "display_data"
    },
    {
     "name": "stdout",
     "output_type": "stream",
     "text": [
      "Index(['L102900_x', 'L103200', 'L103300', 'AGE', 'L103000', 'L100800',\n",
      "       'L104600', 'L100700', 'L101100', 'S000502', 'L190300', 'S000300',\n",
      "       'S000501', 'L101300', 'L101700', 'L190500'],\n",
      "      dtype='object')\n"
     ]
    }
   ],
   "source": [
    "from sklearn.ensemble import ExtraTreesRegressor\n",
    "import matplotlib.pyplot as plt\n",
    "model = ExtraTreesRegressor()\n",
    "model.fit(x,y)\n",
    "\n",
    "print(model.feature_importances_) #use inbuilt class feature_importances of tree based classifiers\n",
    "\n",
    "#plot graph of feature importances for better visualization\n",
    "feat_importances = pd.Series(model.feature_importances_, index=x.columns)\n",
    "feat_importances.nlargest(16).plot(kind='barh')\n",
    "plt.show()\n",
    "\n",
    "print(feat_importances.nlargest(16).index)"
   ]
  },
  {
   "cell_type": "markdown",
   "metadata": {},
   "source": [
    "============================= Backward Elimination\n",
    "========"
   ]
  },
  {
   "cell_type": "code",
   "execution_count": 41,
   "metadata": {},
   "outputs": [
    {
     "data": {
      "text/html": [
       "<table class=\"simpletable\">\n",
       "<caption>OLS Regression Results</caption>\n",
       "<tr>\n",
       "  <th>Dep. Variable:</th>        <td>L102900_y</td>    <th>  R-squared:         </th> <td>   0.519</td> \n",
       "</tr>\n",
       "<tr>\n",
       "  <th>Model:</th>                   <td>OLS</td>       <th>  Adj. R-squared:    </th> <td>   0.517</td> \n",
       "</tr>\n",
       "<tr>\n",
       "  <th>Method:</th>             <td>Least Squares</td>  <th>  F-statistic:       </th> <td>   320.2</td> \n",
       "</tr>\n",
       "<tr>\n",
       "  <th>Date:</th>             <td>Thu, 10 Oct 2019</td> <th>  Prob (F-statistic):</th>  <td>  0.00</td>  \n",
       "</tr>\n",
       "<tr>\n",
       "  <th>Time:</th>                 <td>14:04:31</td>     <th>  Log-Likelihood:    </th> <td> -38077.</td> \n",
       "</tr>\n",
       "<tr>\n",
       "  <th>No. Observations:</th>      <td>  8339</td>      <th>  AIC:               </th> <td>7.621e+04</td>\n",
       "</tr>\n",
       "<tr>\n",
       "  <th>Df Residuals:</th>          <td>  8310</td>      <th>  BIC:               </th> <td>7.642e+04</td>\n",
       "</tr>\n",
       "<tr>\n",
       "  <th>Df Model:</th>              <td>    28</td>      <th>                     </th>     <td> </td>    \n",
       "</tr>\n",
       "<tr>\n",
       "  <th>Covariance Type:</th>      <td>nonrobust</td>    <th>                     </th>     <td> </td>    \n",
       "</tr>\n",
       "</table>\n",
       "<table class=\"simpletable\">\n",
       "<tr>\n",
       "      <td></td>         <th>coef</th>     <th>std err</th>      <th>t</th>      <th>P>|t|</th>  <th>[0.025</th>    <th>0.975]</th>  \n",
       "</tr>\n",
       "<tr>\n",
       "  <th>L102900_x</th> <td>    0.7130</td> <td>    0.047</td> <td>   15.146</td> <td> 0.000</td> <td>    0.621</td> <td>    0.805</td>\n",
       "</tr>\n",
       "<tr>\n",
       "  <th>L103200</th>   <td>   -0.0515</td> <td>    0.066</td> <td>   -0.781</td> <td> 0.435</td> <td>   -0.181</td> <td>    0.078</td>\n",
       "</tr>\n",
       "<tr>\n",
       "  <th>L103300</th>   <td>    3.1978</td> <td>    1.151</td> <td>    2.778</td> <td> 0.005</td> <td>    0.941</td> <td>    5.454</td>\n",
       "</tr>\n",
       "<tr>\n",
       "  <th>L103000</th>   <td>   -0.0007</td> <td>    0.015</td> <td>   -0.048</td> <td> 0.962</td> <td>   -0.030</td> <td>    0.029</td>\n",
       "</tr>\n",
       "<tr>\n",
       "  <th>max</th>       <td>   -0.1456</td> <td>    0.872</td> <td>   -0.167</td> <td> 0.867</td> <td>   -1.854</td> <td>    1.563</td>\n",
       "</tr>\n",
       "<tr>\n",
       "  <th>L101100</th>   <td>  -15.3011</td> <td>    2.947</td> <td>   -5.191</td> <td> 0.000</td> <td>  -21.079</td> <td>   -9.524</td>\n",
       "</tr>\n",
       "<tr>\n",
       "  <th>S000300</th>   <td>    0.1125</td> <td>    0.103</td> <td>    1.090</td> <td> 0.276</td> <td>   -0.090</td> <td>    0.315</td>\n",
       "</tr>\n",
       "<tr>\n",
       "  <th>L104600</th>   <td>    1.7884</td> <td>    0.944</td> <td>    1.895</td> <td> 0.058</td> <td>   -0.062</td> <td>    3.638</td>\n",
       "</tr>\n",
       "<tr>\n",
       "  <th>AGE</th>       <td>    0.2745</td> <td>    0.041</td> <td>    6.685</td> <td> 0.000</td> <td>    0.194</td> <td>    0.355</td>\n",
       "</tr>\n",
       "<tr>\n",
       "  <th>L101700</th>   <td>    0.0186</td> <td>    0.021</td> <td>    0.882</td> <td> 0.378</td> <td>   -0.023</td> <td>    0.060</td>\n",
       "</tr>\n",
       "<tr>\n",
       "  <th>L100800</th>   <td>   -0.1072</td> <td>    0.033</td> <td>   -3.242</td> <td> 0.001</td> <td>   -0.172</td> <td>   -0.042</td>\n",
       "</tr>\n",
       "<tr>\n",
       "  <th>L100700</th>   <td>   -1.0873</td> <td>    0.322</td> <td>   -3.378</td> <td> 0.001</td> <td>   -1.718</td> <td>   -0.456</td>\n",
       "</tr>\n",
       "<tr>\n",
       "  <th>S000501</th>   <td>    0.0390</td> <td>    0.033</td> <td>    1.171</td> <td> 0.241</td> <td>   -0.026</td> <td>    0.104</td>\n",
       "</tr>\n",
       "<tr>\n",
       "  <th>S000502</th>   <td>   -0.0634</td> <td>    0.045</td> <td>   -1.399</td> <td> 0.162</td> <td>   -0.152</td> <td>    0.025</td>\n",
       "</tr>\n",
       "<tr>\n",
       "  <th>L101300</th>   <td>   -0.0364</td> <td>    0.020</td> <td>   -1.822</td> <td> 0.068</td> <td>   -0.076</td> <td>    0.003</td>\n",
       "</tr>\n",
       "<tr>\n",
       "  <th>L190500</th>   <td>   -0.4613</td> <td>    0.323</td> <td>   -1.429</td> <td> 0.153</td> <td>   -1.094</td> <td>    0.171</td>\n",
       "</tr>\n",
       "<tr>\n",
       "  <th>L190400</th>   <td>    1.1414</td> <td>    0.744</td> <td>    1.533</td> <td> 0.125</td> <td>   -0.318</td> <td>    2.601</td>\n",
       "</tr>\n",
       "<tr>\n",
       "  <th>L190300</th>   <td>   -2.8769</td> <td>    1.287</td> <td>   -2.235</td> <td> 0.025</td> <td>   -5.400</td> <td>   -0.354</td>\n",
       "</tr>\n",
       "<tr>\n",
       "  <th>FIELD_21</th>  <td>    1.3638</td> <td>    7.728</td> <td>    0.176</td> <td> 0.860</td> <td>  -13.784</td> <td>   16.512</td>\n",
       "</tr>\n",
       "<tr>\n",
       "  <th>FIELD_33</th>  <td>    1.1561</td> <td>    0.729</td> <td>    1.585</td> <td> 0.113</td> <td>   -0.274</td> <td>    2.586</td>\n",
       "</tr>\n",
       "<tr>\n",
       "  <th>FIELD_14</th>  <td>   -9.9340</td> <td>    6.077</td> <td>   -1.635</td> <td> 0.102</td> <td>  -21.847</td> <td>    1.978</td>\n",
       "</tr>\n",
       "<tr>\n",
       "  <th>FIELD_27</th>  <td>   -0.4301</td> <td>    1.054</td> <td>   -0.408</td> <td> 0.683</td> <td>   -2.496</td> <td>    1.635</td>\n",
       "</tr>\n",
       "<tr>\n",
       "  <th>FIELD_38</th>  <td>    0.1507</td> <td>    0.274</td> <td>    0.550</td> <td> 0.582</td> <td>   -0.386</td> <td>    0.688</td>\n",
       "</tr>\n",
       "<tr>\n",
       "  <th>FIELD_28</th>  <td>    2.6582</td> <td>    1.088</td> <td>    2.443</td> <td> 0.015</td> <td>    0.526</td> <td>    4.791</td>\n",
       "</tr>\n",
       "<tr>\n",
       "  <th>FIELD_25</th>  <td>   -3.3660</td> <td>    2.437</td> <td>   -1.381</td> <td> 0.167</td> <td>   -8.144</td> <td>    1.412</td>\n",
       "</tr>\n",
       "<tr>\n",
       "  <th>FIELD_4</th>   <td>   -0.4569</td> <td>    0.208</td> <td>   -2.197</td> <td> 0.028</td> <td>   -0.865</td> <td>   -0.049</td>\n",
       "</tr>\n",
       "<tr>\n",
       "  <th>FIELD_18</th>  <td>    0.0036</td> <td>    2.152</td> <td>    0.002</td> <td> 0.999</td> <td>   -4.215</td> <td>    4.223</td>\n",
       "</tr>\n",
       "<tr>\n",
       "  <th>FIELD_31</th>  <td>    0.1721</td> <td>    0.714</td> <td>    0.241</td> <td> 0.810</td> <td>   -1.227</td> <td>    1.572</td>\n",
       "</tr>\n",
       "<tr>\n",
       "  <th>const</th>     <td>   62.9339</td> <td>    7.115</td> <td>    8.845</td> <td> 0.000</td> <td>   48.986</td> <td>   76.881</td>\n",
       "</tr>\n",
       "</table>\n",
       "<table class=\"simpletable\">\n",
       "<tr>\n",
       "  <th>Omnibus:</th>       <td>549.734</td> <th>  Durbin-Watson:     </th> <td>   2.122</td>\n",
       "</tr>\n",
       "<tr>\n",
       "  <th>Prob(Omnibus):</th> <td> 0.000</td>  <th>  Jarque-Bera (JB):  </th> <td>1599.597</td>\n",
       "</tr>\n",
       "<tr>\n",
       "  <th>Skew:</th>          <td> 0.341</td>  <th>  Prob(JB):          </th> <td>    0.00</td>\n",
       "</tr>\n",
       "<tr>\n",
       "  <th>Kurtosis:</th>      <td> 5.034</td>  <th>  Cond. No.          </th> <td>1.06e+04</td>\n",
       "</tr>\n",
       "</table><br/><br/>Warnings:<br/>[1] Standard Errors assume that the covariance matrix of the errors is correctly specified.<br/>[2] The condition number is large, 1.06e+04. This might indicate that there are<br/>strong multicollinearity or other numerical problems."
      ],
      "text/plain": [
       "<class 'statsmodels.iolib.summary.Summary'>\n",
       "\"\"\"\n",
       "                            OLS Regression Results                            \n",
       "==============================================================================\n",
       "Dep. Variable:              L102900_y   R-squared:                       0.519\n",
       "Model:                            OLS   Adj. R-squared:                  0.517\n",
       "Method:                 Least Squares   F-statistic:                     320.2\n",
       "Date:                Thu, 10 Oct 2019   Prob (F-statistic):               0.00\n",
       "Time:                        14:04:31   Log-Likelihood:                -38077.\n",
       "No. Observations:                8339   AIC:                         7.621e+04\n",
       "Df Residuals:                    8310   BIC:                         7.642e+04\n",
       "Df Model:                          28                                         \n",
       "Covariance Type:            nonrobust                                         \n",
       "==============================================================================\n",
       "                 coef    std err          t      P>|t|      [0.025      0.975]\n",
       "------------------------------------------------------------------------------\n",
       "L102900_x      0.7130      0.047     15.146      0.000       0.621       0.805\n",
       "L103200       -0.0515      0.066     -0.781      0.435      -0.181       0.078\n",
       "L103300        3.1978      1.151      2.778      0.005       0.941       5.454\n",
       "L103000       -0.0007      0.015     -0.048      0.962      -0.030       0.029\n",
       "max           -0.1456      0.872     -0.167      0.867      -1.854       1.563\n",
       "L101100      -15.3011      2.947     -5.191      0.000     -21.079      -9.524\n",
       "S000300        0.1125      0.103      1.090      0.276      -0.090       0.315\n",
       "L104600        1.7884      0.944      1.895      0.058      -0.062       3.638\n",
       "AGE            0.2745      0.041      6.685      0.000       0.194       0.355\n",
       "L101700        0.0186      0.021      0.882      0.378      -0.023       0.060\n",
       "L100800       -0.1072      0.033     -3.242      0.001      -0.172      -0.042\n",
       "L100700       -1.0873      0.322     -3.378      0.001      -1.718      -0.456\n",
       "S000501        0.0390      0.033      1.171      0.241      -0.026       0.104\n",
       "S000502       -0.0634      0.045     -1.399      0.162      -0.152       0.025\n",
       "L101300       -0.0364      0.020     -1.822      0.068      -0.076       0.003\n",
       "L190500       -0.4613      0.323     -1.429      0.153      -1.094       0.171\n",
       "L190400        1.1414      0.744      1.533      0.125      -0.318       2.601\n",
       "L190300       -2.8769      1.287     -2.235      0.025      -5.400      -0.354\n",
       "FIELD_21       1.3638      7.728      0.176      0.860     -13.784      16.512\n",
       "FIELD_33       1.1561      0.729      1.585      0.113      -0.274       2.586\n",
       "FIELD_14      -9.9340      6.077     -1.635      0.102     -21.847       1.978\n",
       "FIELD_27      -0.4301      1.054     -0.408      0.683      -2.496       1.635\n",
       "FIELD_38       0.1507      0.274      0.550      0.582      -0.386       0.688\n",
       "FIELD_28       2.6582      1.088      2.443      0.015       0.526       4.791\n",
       "FIELD_25      -3.3660      2.437     -1.381      0.167      -8.144       1.412\n",
       "FIELD_4       -0.4569      0.208     -2.197      0.028      -0.865      -0.049\n",
       "FIELD_18       0.0036      2.152      0.002      0.999      -4.215       4.223\n",
       "FIELD_31       0.1721      0.714      0.241      0.810      -1.227       1.572\n",
       "const         62.9339      7.115      8.845      0.000      48.986      76.881\n",
       "==============================================================================\n",
       "Omnibus:                      549.734   Durbin-Watson:                   2.122\n",
       "Prob(Omnibus):                  0.000   Jarque-Bera (JB):             1599.597\n",
       "Skew:                           0.341   Prob(JB):                         0.00\n",
       "Kurtosis:                       5.034   Cond. No.                     1.06e+04\n",
       "==============================================================================\n",
       "\n",
       "Warnings:\n",
       "[1] Standard Errors assume that the covariance matrix of the errors is correctly specified.\n",
       "[2] The condition number is large, 1.06e+04. This might indicate that there are\n",
       "strong multicollinearity or other numerical problems.\n",
       "\"\"\""
      ]
     },
     "execution_count": 41,
     "metadata": {},
     "output_type": "execute_result"
    }
   ],
   "source": [
    "import statsmodels.regression.linear_model as sm\n",
    "temp=x.copy()\n",
    "temp['const']=np.ones((x.shape[0],1))\n",
    "regressor_OLS = sm.OLS(endog = y, exog = temp).fit()\n",
    "regressor_OLS.summary()"
   ]
  },
  {
   "cell_type": "code",
   "execution_count": 27,
   "metadata": {},
   "outputs": [],
   "source": [
    "# temp=temp.drop(columns=['L103100', 'S000300','L190400','L102900','L101300','S000501','S000502','L100500','FIELD_40',\n",
    "#                         'FIELD_41','FIELD_29','FIELD_18','FIELD_31','FIELD_27','FIELD_25','SEX'])\n",
    "# regressor_OLS = sm.OLS(endog = y, exog = temp).fit()\n",
    "# regressor_OLS.summary()"
   ]
  },
  {
   "cell_type": "code",
   "execution_count": 28,
   "metadata": {},
   "outputs": [],
   "source": [
    "# temp=temp.drop(columns=['FIELD_33'])\n",
    "# regressor_OLS = sm.OLS(endog = y, exog = temp).fit()\n",
    "# regressor_OLS.summary()"
   ]
  },
  {
   "cell_type": "code",
   "execution_count": 29,
   "metadata": {},
   "outputs": [
    {
     "name": "stdout",
     "output_type": "stream",
     "text": [
      "(30,)\n"
     ]
    },
    {
     "data": {
      "text/plain": [
       "Index(['L102900_x', 'L103200', 'L103300', 'L103000', 'max', 'L101100',\n",
       "       'S000300', 'L104600', 'AGE', 'B_DAY', 'L101700', 'L100800', 'L100700',\n",
       "       'S000501', 'S000502', 'L101300', 'L190500', 'L190400', 'L190300',\n",
       "       'FIELD_21', 'FIELD_33', 'FIELD_14', 'FIELD_27', 'FIELD_38', 'FIELD_28',\n",
       "       'FIELD_25', 'FIELD_4', 'FIELD_18', 'FIELD_31', 'const'],\n",
       "      dtype='object')"
      ]
     },
     "execution_count": 29,
     "metadata": {},
     "output_type": "execute_result"
    }
   ],
   "source": [
    "print(temp.columns.shape)\n",
    "temp.columns"
   ]
  },
  {
   "cell_type": "markdown",
   "metadata": {},
   "source": [
    "================== Check Variance inflation factor and multi collinearity\n",
    "==================== "
   ]
  },
  {
   "cell_type": "code",
   "execution_count": 30,
   "metadata": {},
   "outputs": [
    {
     "ename": "KeyError",
     "evalue": "\"['L100500', 'S000501_x', 'FIELD_29', 'FIELD_5', 'L103100', 'SEX', 'S000100', 'FIELD_42', 'FIELD_40', 'FIELD_41'] not in index\"",
     "output_type": "error",
     "traceback": [
      "\u001b[1;31m---------------------------------------------------------------------------\u001b[0m",
      "\u001b[1;31mKeyError\u001b[0m                                  Traceback (most recent call last)",
      "\u001b[1;32m<ipython-input-30-583a016e1578>\u001b[0m in \u001b[0;36m<module>\u001b[1;34m\u001b[0m\n\u001b[0;32m      2\u001b[0m               \u001b[1;34m'L103300'\u001b[0m\u001b[1;33m,\u001b[0m \u001b[1;34m'L100500'\u001b[0m\u001b[1;33m,\u001b[0m \u001b[1;34m'S000100'\u001b[0m\u001b[1;33m,\u001b[0m \u001b[1;34m'L100800'\u001b[0m\u001b[1;33m,\u001b[0m \u001b[1;34m'L103000'\u001b[0m\u001b[1;33m,\u001b[0m \u001b[1;34m'L101700'\u001b[0m\u001b[1;33m,\u001b[0m \u001b[1;34m'L101300'\u001b[0m\u001b[1;33m,\u001b[0m \u001b[1;34m'L103100'\u001b[0m\u001b[1;33m,\u001b[0m \u001b[1;34m'max'\u001b[0m\u001b[1;33m,\u001b[0m\u001b[1;33m\u001b[0m\u001b[1;33m\u001b[0m\u001b[0m\n\u001b[0;32m      3\u001b[0m               \u001b[1;34m'FIELD_33'\u001b[0m\u001b[1;33m,\u001b[0m \u001b[1;34m'FIELD_38'\u001b[0m\u001b[1;33m,\u001b[0m \u001b[1;34m'FIELD_40'\u001b[0m\u001b[1;33m,\u001b[0m \u001b[1;34m'FIELD_29'\u001b[0m\u001b[1;33m,\u001b[0m \u001b[1;34m'FIELD_41'\u001b[0m\u001b[1;33m,\u001b[0m \u001b[1;34m'FIELD_27'\u001b[0m\u001b[1;33m,\u001b[0m \u001b[1;34m'FIELD_42'\u001b[0m\u001b[1;33m,\u001b[0m \u001b[1;34m'FIELD_5'\u001b[0m\u001b[1;33m,\u001b[0m\u001b[1;33m\u001b[0m\u001b[1;33m\u001b[0m\u001b[0m\n\u001b[1;32m----> 4\u001b[1;33m               \u001b[1;34m'FIELD_18'\u001b[0m\u001b[1;33m,\u001b[0m \u001b[1;34m'FIELD_25'\u001b[0m\u001b[1;33m\u001b[0m\u001b[1;33m\u001b[0m\u001b[0m\n\u001b[0m\u001b[0;32m      5\u001b[0m                           ]]).dropna()  \n\u001b[0;32m      6\u001b[0m \u001b[0mtemppd\u001b[0m\u001b[1;33m[\u001b[0m\u001b[1;34m'y'\u001b[0m\u001b[1;33m]\u001b[0m\u001b[1;33m=\u001b[0m\u001b[0mdata\u001b[0m\u001b[1;33m.\u001b[0m\u001b[0mS000501_y\u001b[0m\u001b[1;33m\u001b[0m\u001b[1;33m\u001b[0m\u001b[0m\n",
      "\u001b[1;32mC:\\ProgramData\\Anaconda3\\lib\\site-packages\\pandas\\core\\frame.py\u001b[0m in \u001b[0;36m__getitem__\u001b[1;34m(self, key)\u001b[0m\n\u001b[0;32m   2932\u001b[0m                 \u001b[0mkey\u001b[0m \u001b[1;33m=\u001b[0m \u001b[0mlist\u001b[0m\u001b[1;33m(\u001b[0m\u001b[0mkey\u001b[0m\u001b[1;33m)\u001b[0m\u001b[1;33m\u001b[0m\u001b[1;33m\u001b[0m\u001b[0m\n\u001b[0;32m   2933\u001b[0m             indexer = self.loc._convert_to_indexer(key, axis=1,\n\u001b[1;32m-> 2934\u001b[1;33m                                                    raise_missing=True)\n\u001b[0m\u001b[0;32m   2935\u001b[0m \u001b[1;33m\u001b[0m\u001b[0m\n\u001b[0;32m   2936\u001b[0m         \u001b[1;31m# take() does not accept boolean indexers\u001b[0m\u001b[1;33m\u001b[0m\u001b[1;33m\u001b[0m\u001b[1;33m\u001b[0m\u001b[0m\n",
      "\u001b[1;32mC:\\ProgramData\\Anaconda3\\lib\\site-packages\\pandas\\core\\indexing.py\u001b[0m in \u001b[0;36m_convert_to_indexer\u001b[1;34m(self, obj, axis, is_setter, raise_missing)\u001b[0m\n\u001b[0;32m   1352\u001b[0m                 kwargs = {'raise_missing': True if is_setter else\n\u001b[0;32m   1353\u001b[0m                           raise_missing}\n\u001b[1;32m-> 1354\u001b[1;33m                 \u001b[1;32mreturn\u001b[0m \u001b[0mself\u001b[0m\u001b[1;33m.\u001b[0m\u001b[0m_get_listlike_indexer\u001b[0m\u001b[1;33m(\u001b[0m\u001b[0mobj\u001b[0m\u001b[1;33m,\u001b[0m \u001b[0maxis\u001b[0m\u001b[1;33m,\u001b[0m \u001b[1;33m**\u001b[0m\u001b[0mkwargs\u001b[0m\u001b[1;33m)\u001b[0m\u001b[1;33m[\u001b[0m\u001b[1;36m1\u001b[0m\u001b[1;33m]\u001b[0m\u001b[1;33m\u001b[0m\u001b[1;33m\u001b[0m\u001b[0m\n\u001b[0m\u001b[0;32m   1355\u001b[0m         \u001b[1;32melse\u001b[0m\u001b[1;33m:\u001b[0m\u001b[1;33m\u001b[0m\u001b[1;33m\u001b[0m\u001b[0m\n\u001b[0;32m   1356\u001b[0m             \u001b[1;32mtry\u001b[0m\u001b[1;33m:\u001b[0m\u001b[1;33m\u001b[0m\u001b[1;33m\u001b[0m\u001b[0m\n",
      "\u001b[1;32mC:\\ProgramData\\Anaconda3\\lib\\site-packages\\pandas\\core\\indexing.py\u001b[0m in \u001b[0;36m_get_listlike_indexer\u001b[1;34m(self, key, axis, raise_missing)\u001b[0m\n\u001b[0;32m   1159\u001b[0m         self._validate_read_indexer(keyarr, indexer,\n\u001b[0;32m   1160\u001b[0m                                     \u001b[0mo\u001b[0m\u001b[1;33m.\u001b[0m\u001b[0m_get_axis_number\u001b[0m\u001b[1;33m(\u001b[0m\u001b[0maxis\u001b[0m\u001b[1;33m)\u001b[0m\u001b[1;33m,\u001b[0m\u001b[1;33m\u001b[0m\u001b[1;33m\u001b[0m\u001b[0m\n\u001b[1;32m-> 1161\u001b[1;33m                                     raise_missing=raise_missing)\n\u001b[0m\u001b[0;32m   1162\u001b[0m         \u001b[1;32mreturn\u001b[0m \u001b[0mkeyarr\u001b[0m\u001b[1;33m,\u001b[0m \u001b[0mindexer\u001b[0m\u001b[1;33m\u001b[0m\u001b[1;33m\u001b[0m\u001b[0m\n\u001b[0;32m   1163\u001b[0m \u001b[1;33m\u001b[0m\u001b[0m\n",
      "\u001b[1;32mC:\\ProgramData\\Anaconda3\\lib\\site-packages\\pandas\\core\\indexing.py\u001b[0m in \u001b[0;36m_validate_read_indexer\u001b[1;34m(self, key, indexer, axis, raise_missing)\u001b[0m\n\u001b[0;32m   1250\u001b[0m             \u001b[1;32mif\u001b[0m \u001b[1;32mnot\u001b[0m\u001b[1;33m(\u001b[0m\u001b[0mself\u001b[0m\u001b[1;33m.\u001b[0m\u001b[0mname\u001b[0m \u001b[1;33m==\u001b[0m \u001b[1;34m'loc'\u001b[0m \u001b[1;32mand\u001b[0m \u001b[1;32mnot\u001b[0m \u001b[0mraise_missing\u001b[0m\u001b[1;33m)\u001b[0m\u001b[1;33m:\u001b[0m\u001b[1;33m\u001b[0m\u001b[1;33m\u001b[0m\u001b[0m\n\u001b[0;32m   1251\u001b[0m                 \u001b[0mnot_found\u001b[0m \u001b[1;33m=\u001b[0m \u001b[0mlist\u001b[0m\u001b[1;33m(\u001b[0m\u001b[0mset\u001b[0m\u001b[1;33m(\u001b[0m\u001b[0mkey\u001b[0m\u001b[1;33m)\u001b[0m \u001b[1;33m-\u001b[0m \u001b[0mset\u001b[0m\u001b[1;33m(\u001b[0m\u001b[0max\u001b[0m\u001b[1;33m)\u001b[0m\u001b[1;33m)\u001b[0m\u001b[1;33m\u001b[0m\u001b[1;33m\u001b[0m\u001b[0m\n\u001b[1;32m-> 1252\u001b[1;33m                 \u001b[1;32mraise\u001b[0m \u001b[0mKeyError\u001b[0m\u001b[1;33m(\u001b[0m\u001b[1;34m\"{} not in index\"\u001b[0m\u001b[1;33m.\u001b[0m\u001b[0mformat\u001b[0m\u001b[1;33m(\u001b[0m\u001b[0mnot_found\u001b[0m\u001b[1;33m)\u001b[0m\u001b[1;33m)\u001b[0m\u001b[1;33m\u001b[0m\u001b[1;33m\u001b[0m\u001b[0m\n\u001b[0m\u001b[0;32m   1253\u001b[0m \u001b[1;33m\u001b[0m\u001b[0m\n\u001b[0;32m   1254\u001b[0m             \u001b[1;31m# we skip the warning on Categorical/Interval\u001b[0m\u001b[1;33m\u001b[0m\u001b[1;33m\u001b[0m\u001b[1;33m\u001b[0m\u001b[0m\n",
      "\u001b[1;31mKeyError\u001b[0m: \"['L100500', 'S000501_x', 'FIELD_29', 'FIELD_5', 'L103100', 'SEX', 'S000100', 'FIELD_42', 'FIELD_40', 'FIELD_41'] not in index\""
     ]
    }
   ],
   "source": [
    "temppd=pd.DataFrame(data2[['S000501_x', 'S000502', 'S000300', 'SEX', 'L190400', 'L190300', 'L190500', 'L100700', \n",
    "              'L103300', 'L100500', 'S000100', 'L100800', 'L103000', 'L101700', 'L101300', 'L103100', 'max',\n",
    "              'FIELD_33', 'FIELD_38', 'FIELD_40', 'FIELD_29', 'FIELD_41', 'FIELD_27', 'FIELD_42', 'FIELD_5', \n",
    "              'FIELD_18', 'FIELD_25'\n",
    "                          ]]).dropna()  \n",
    "temppd['y']=data.S000501_y\n",
    " \n",
    "\n",
    "corr = (temppd.corr())\n",
    "sns.heatmap(corr, vmin=-1, vmax=1) \n",
    "\n",
    "corr.head(20)"
   ]
  },
  {
   "cell_type": "code",
   "execution_count": 31,
   "metadata": {},
   "outputs": [
    {
     "ename": "NameError",
     "evalue": "name 'temppd' is not defined",
     "output_type": "error",
     "traceback": [
      "\u001b[1;31m---------------------------------------------------------------------------\u001b[0m",
      "\u001b[1;31mNameError\u001b[0m                                 Traceback (most recent call last)",
      "\u001b[1;32m<ipython-input-31-098bc3463176>\u001b[0m in \u001b[0;36m<module>\u001b[1;34m\u001b[0m\n\u001b[0;32m     15\u001b[0m \u001b[1;33m\u001b[0m\u001b[0m\n\u001b[0;32m     16\u001b[0m \u001b[1;33m\u001b[0m\u001b[0m\n\u001b[1;32m---> 17\u001b[1;33m \u001b[0mnewcols\u001b[0m \u001b[1;33m=\u001b[0m \u001b[0mvifcal\u001b[0m\u001b[1;33m(\u001b[0m\u001b[0mtemppd\u001b[0m\u001b[1;33m,\u001b[0m\u001b[1;34m'y'\u001b[0m\u001b[1;33m)\u001b[0m\u001b[1;33m\u001b[0m\u001b[1;33m\u001b[0m\u001b[0m\n\u001b[0m",
      "\u001b[1;31mNameError\u001b[0m: name 'temppd' is not defined"
     ]
    }
   ],
   "source": [
    "\n",
    "def vifcal(inputdata,depcol):\n",
    "    vifL5=[]\n",
    "    import statsmodels.formula.api as sm\n",
    "    xvars=inputdata.drop([depcol],axis=1)\n",
    "    xvarnames=xvars.columns\n",
    "    for i in range(0,xvarnames.shape[0]):\n",
    "        _y=xvars[xvarnames[i]]\n",
    "        _x=xvars[xvarnames.drop(xvarnames[i])]\n",
    "        rsq=sm.ols(formula=\"_y~_x\",data=xvars).fit().rsquared\n",
    "        vif=round(1/(1-rsq),2)\n",
    "        print(i,', ',xvarnames[i],\" VIF = \",vif)\n",
    "        if(vif<5):\n",
    "            vifL5.append(xvarnames[i])\n",
    "    return vifL5\n",
    "    \n",
    "    \n",
    "newcols = vifcal(temppd,'y')"
   ]
  },
  {
   "cell_type": "code",
   "execution_count": 32,
   "metadata": {},
   "outputs": [
    {
     "ename": "NameError",
     "evalue": "name 'newcols' is not defined",
     "output_type": "error",
     "traceback": [
      "\u001b[1;31m---------------------------------------------------------------------------\u001b[0m",
      "\u001b[1;31mNameError\u001b[0m                                 Traceback (most recent call last)",
      "\u001b[1;32m<ipython-input-32-114a24edf0e4>\u001b[0m in \u001b[0;36m<module>\u001b[1;34m\u001b[0m\n\u001b[1;32m----> 1\u001b[1;33m \u001b[0mprint\u001b[0m\u001b[1;33m(\u001b[0m\u001b[0mnewcols\u001b[0m\u001b[1;33m,\u001b[0m\u001b[0mlen\u001b[0m\u001b[1;33m(\u001b[0m\u001b[0mnewcols\u001b[0m\u001b[1;33m)\u001b[0m\u001b[1;33m)\u001b[0m\u001b[1;33m\u001b[0m\u001b[1;33m\u001b[0m\u001b[0m\n\u001b[0m",
      "\u001b[1;31mNameError\u001b[0m: name 'newcols' is not defined"
     ]
    }
   ],
   "source": [
    "print(newcols,len(newcols))"
   ]
  },
  {
   "cell_type": "code",
   "execution_count": null,
   "metadata": {},
   "outputs": [],
   "source": []
  }
 ],
 "metadata": {
  "kernelspec": {
   "display_name": "Python 3",
   "language": "python",
   "name": "python3"
  },
  "language_info": {
   "codemirror_mode": {
    "name": "ipython",
    "version": 3
   },
   "file_extension": ".py",
   "mimetype": "text/x-python",
   "name": "python",
   "nbconvert_exporter": "python",
   "pygments_lexer": "ipython3",
   "version": "3.7.3"
  }
 },
 "nbformat": 4,
 "nbformat_minor": 2
}

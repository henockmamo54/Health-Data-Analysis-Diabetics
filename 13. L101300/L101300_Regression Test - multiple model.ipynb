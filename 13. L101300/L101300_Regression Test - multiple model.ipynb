{
 "cells": [
  {
   "cell_type": "code",
   "execution_count": 2,
   "metadata": {},
   "outputs": [
    {
     "name": "stderr",
     "output_type": "stream",
     "text": [
      "Using TensorFlow backend.\n"
     ]
    }
   ],
   "source": [
    "from matplotlib import pyplot as plt\n",
    "import pandas as pd \n",
    "import numpy as np\n",
    "import warnings\n",
    "warnings.filterwarnings('ignore')\n",
    "from scipy import stats\n",
    "from sklearn.utils import shuffle\n",
    "from sklearn.preprocessing import LabelEncoder\n",
    "from sklearn.metrics import confusion_matrix \n",
    "from sklearn.utils import shuffle\n",
    "from sklearn.ensemble import RandomForestRegressor\n",
    "from sklearn.datasets import make_regression\n",
    "from sklearn.model_selection import train_test_split\n",
    "from sklearn.metrics import mean_absolute_error\n",
    "from sklearn.metrics import mean_squared_error\n",
    "from sklearn.metrics import mean_absolute_error\n",
    "from sklearn.metrics import r2_score\n",
    "from keras.models import Sequential\n",
    "from keras.layers import Dense\n",
    "from keras.wrappers.scikit_learn import KerasRegressor\n",
    "from sklearn.model_selection import cross_val_score\n",
    "from sklearn.model_selection import KFold\n",
    "from sklearn.preprocessing import StandardScaler\n",
    "from sklearn.pipeline import Pipeline\n",
    "from keras.layers import Dropout\n",
    "from keras.layers import BatchNormalization\n",
    "from keras.models import model_from_json\n",
    "from keras.utils import multi_gpu_model \n",
    "from keras.utils import to_categorical\n"
   ]
  },
  {
   "cell_type": "markdown",
   "metadata": {},
   "source": [
    "Read the data\n",
    "==========="
   ]
  },
  {
   "cell_type": "code",
   "execution_count": 12,
   "metadata": {},
   "outputs": [
    {
     "name": "stdout",
     "output_type": "stream",
     "text": [
      "(159381, 23)\n",
      "(159381, 2)\n"
     ]
    }
   ],
   "source": [
    "x_original=pd.read_csv('../_xlable4_withNa_AllColumns.txt')\n",
    "y_original=pd.read_csv('../_targelable4_withNa_AllColumns.txt')\n",
    "\n",
    "# x_original=x_original[['Unnamed: 0','L101300', 'L101200', 'L101700', 'S000300', 'L100700', 'L190400', 'L103300', \n",
    "#                        'L190500', 'L190300', 'SEX', 'L103000', 'L101400', 'L101600', 'S000501', 'L103100', 'L100500',\n",
    "#                        'S000502', 'S000100', 'L100800', 'FIELD_33',  'FIELD_38',  'FIELD_32', \n",
    "#                        'FIELD_5', 'FIELD_40', 'FIELD_41', 'FIELD_31', 'FIELD_21', 'FIELD_14', 'FIELD_29','AGE'\n",
    "# #                        'FIELD_7','FIELD_6',\n",
    "#                       ]]\n",
    "\n",
    "# y_original=y_original[['Unnamed: 0','L101300', 'L101200', 'L101700', 'S000300', 'L100700', 'L190400', 'L103300', \n",
    "#                        'L190500', 'L190300', 'SEX', 'L103000', 'L101400', 'L101600', 'S000501', 'L103100', 'L100500',\n",
    "#                        'S000502', 'S000100', 'L100800', 'FIELD_33',  'FIELD_38',  'FIELD_32', \n",
    "#                        'FIELD_5', 'FIELD_40', 'FIELD_41', 'FIELD_31', 'FIELD_21', 'FIELD_14', 'FIELD_29','AGE'\n",
    "# #                        'FIELD_7','FIELD_6',\n",
    "#                       ]]\n",
    "\n",
    "\n",
    "\n",
    "x_original=x_original[['Unnamed: 0','L101300', 'L101200', 'L101700', 'S000300', 'L100700', 'L190400', 'L103300', \n",
    "                       'L190500', 'L190300', 'SEX', 'L103000', 'L101400', 'L101600', 'S000501', 'L103100', 'L100500',\n",
    "                       'S000502', 'S000100', 'L100800', 'FIELD_33',  'FIELD_38','AGE']]\n",
    "\n",
    "y_original=y_original[['Unnamed: 0','L101300']]\n",
    "\n",
    "\n",
    "print(x_original.shape)\n",
    "print(y_original.shape)\n"
   ]
  },
  {
   "cell_type": "code",
   "execution_count": 13,
   "metadata": {},
   "outputs": [
    {
     "name": "stdout",
     "output_type": "stream",
     "text": [
      "Unnamed: 0 159381\n",
      "L101300 159247\n",
      "L101200 159247\n",
      "L101700 158951\n",
      "S000300 159075\n",
      "L100700 152474\n",
      "L190400 159241\n",
      "L103300 135222\n",
      "L190500 159204\n",
      "L190300 159204\n",
      "SEX 159381\n",
      "L103000 158939\n",
      "L101400 130752\n",
      "L101600 152251\n",
      "S000501 159305\n",
      "L103100 158880\n",
      "L100500 158954\n",
      "S000502 159305\n",
      "S000100 159302\n",
      "L100800 159236\n",
      "FIELD_33 159069\n",
      "FIELD_38 159077\n",
      "AGE 159381\n"
     ]
    }
   ],
   "source": [
    "for index,col in enumerate(x_original.columns):\n",
    "    print(col,x_original[col].dropna().shape[0])"
   ]
  },
  {
   "cell_type": "markdown",
   "metadata": {},
   "source": [
    "Prepare the data\n",
    "============"
   ]
  },
  {
   "cell_type": "code",
   "execution_count": 14,
   "metadata": {},
   "outputs": [],
   "source": [
    "df=x_original.copy()\n",
    "conditions = [\n",
    "    (df.S000501 < 120)  ,\n",
    "    (df.S000501 >= 120) & (df.S000501 < 130),\n",
    "    (df.S000501 >=130)]\n",
    "choices = [0,1,2]\n",
    "df['sbpG'] = np.select(conditions, choices, default=0)\n",
    "df.head()\n",
    "x_original=df.copy()\n",
    "\n",
    "conditions2 = [\n",
    "    (df.S000502 < 80)  ,\n",
    "    (df.S000502 >= 80) & (df.S000502 < 90),\n",
    "    (df.S000502 >=90)]\n",
    "choices2 = [0,1,2]\n",
    "df['dbpG'] = np.select(conditions2, choices2, default=0)\n",
    "df.head()\n",
    "x_original=df.copy()\n",
    "\n",
    "conditions3 = [\n",
    "    (df.AGE < 30)  ,\n",
    "    (df.AGE >= 30) & (df.AGE < 40),\n",
    "    (df.AGE >= 40) & (df.AGE < 50),\n",
    "    (df.AGE >= 50) & (df.AGE < 60),\n",
    "    (df.AGE >= 60)]\n",
    "choices3 = [0,1,2,3,4]\n",
    "df['AgeG'] = np.select(conditions3, choices3, default=0)\n",
    "df.head()\n",
    "x_original=df.copy()\n",
    "\n",
    "\n",
    "conditions4 = [\n",
    "    (df.L100800 < 100)  ,\n",
    "    (df.L100800 >= 100) & (df.L100800 < 126), \n",
    "    (df.L100800 >= 126)]\n",
    "choices4 = [0,1,2]\n",
    "df['CLASS'] = np.select(conditions4, choices4, default=0)\n",
    "df.head()\n",
    "x_original=df.copy()"
   ]
  },
  {
   "cell_type": "code",
   "execution_count": 15,
   "metadata": {},
   "outputs": [
    {
     "name": "stdout",
     "output_type": "stream",
     "text": [
      "(113883, 29)\n"
     ]
    }
   ],
   "source": [
    "data= pd.merge(x_original,y_original, how='inner',left_on='Unnamed: 0', right_on='Unnamed: 0')\n",
    "data=data.dropna(). reset_index()\n",
    "\n",
    "# data=data[data.AGE_x >= 40]\n",
    "# data=data[data.AGE_x < 50]\n",
    "\n",
    "# data=data[data.CLASS_x==0]\n",
    "# data=data[data.sbpG==0]\n",
    "# data=data[data.dbpG==0]\n",
    "\n",
    "# data=data[data.L100800_y <200]\n",
    "\n",
    "print(data.shape)"
   ]
  },
  {
   "cell_type": "code",
   "execution_count": 16,
   "metadata": {},
   "outputs": [
    {
     "name": "stdout",
     "output_type": "stream",
     "text": [
      "(113883, 29)\n",
      "Index(['index', 'Unnamed: 0', 'L101300_x', 'L101200', 'L101700', 'S000300',\n",
      "       'L100700', 'L190400', 'L103300', 'L190500', 'L190300', 'SEX', 'L103000',\n",
      "       'L101400', 'L101600', 'S000501', 'L103100', 'L100500', 'S000502',\n",
      "       'S000100', 'L100800', 'FIELD_33', 'FIELD_38', 'AGE', 'sbpG', 'dbpG',\n",
      "       'AgeG', 'CLASS', 'L101300_y'],\n",
      "      dtype='object')\n"
     ]
    },
    {
     "data": {
      "text/html": [
       "<div>\n",
       "<style scoped>\n",
       "    .dataframe tbody tr th:only-of-type {\n",
       "        vertical-align: middle;\n",
       "    }\n",
       "\n",
       "    .dataframe tbody tr th {\n",
       "        vertical-align: top;\n",
       "    }\n",
       "\n",
       "    .dataframe thead th {\n",
       "        text-align: right;\n",
       "    }\n",
       "</style>\n",
       "<table border=\"1\" class=\"dataframe\">\n",
       "  <thead>\n",
       "    <tr style=\"text-align: right;\">\n",
       "      <th></th>\n",
       "      <th>index</th>\n",
       "      <th>Unnamed: 0</th>\n",
       "      <th>L101300_x</th>\n",
       "      <th>L101200</th>\n",
       "      <th>L101700</th>\n",
       "      <th>S000300</th>\n",
       "      <th>L100700</th>\n",
       "      <th>L190400</th>\n",
       "      <th>L103300</th>\n",
       "      <th>L190500</th>\n",
       "      <th>...</th>\n",
       "      <th>S000100</th>\n",
       "      <th>L100800</th>\n",
       "      <th>FIELD_33</th>\n",
       "      <th>FIELD_38</th>\n",
       "      <th>AGE</th>\n",
       "      <th>sbpG</th>\n",
       "      <th>dbpG</th>\n",
       "      <th>AgeG</th>\n",
       "      <th>CLASS</th>\n",
       "      <th>L101300_y</th>\n",
       "    </tr>\n",
       "  </thead>\n",
       "  <tbody>\n",
       "    <tr>\n",
       "      <th>0</th>\n",
       "      <td>0</td>\n",
       "      <td>0</td>\n",
       "      <td>8.0</td>\n",
       "      <td>17.0</td>\n",
       "      <td>13.0</td>\n",
       "      <td>20.1</td>\n",
       "      <td>3.0</td>\n",
       "      <td>12.3</td>\n",
       "      <td>3.1</td>\n",
       "      <td>38.2</td>\n",
       "      <td>...</td>\n",
       "      <td>159.8</td>\n",
       "      <td>77.0</td>\n",
       "      <td>1.0</td>\n",
       "      <td>1.0</td>\n",
       "      <td>44.0</td>\n",
       "      <td>1</td>\n",
       "      <td>0</td>\n",
       "      <td>2</td>\n",
       "      <td>0</td>\n",
       "      <td>9.0</td>\n",
       "    </tr>\n",
       "    <tr>\n",
       "      <th>1</th>\n",
       "      <td>1</td>\n",
       "      <td>1</td>\n",
       "      <td>9.0</td>\n",
       "      <td>21.0</td>\n",
       "      <td>14.0</td>\n",
       "      <td>19.7</td>\n",
       "      <td>3.0</td>\n",
       "      <td>13.1</td>\n",
       "      <td>3.3</td>\n",
       "      <td>39.0</td>\n",
       "      <td>...</td>\n",
       "      <td>159.5</td>\n",
       "      <td>89.0</td>\n",
       "      <td>1.0</td>\n",
       "      <td>1.0</td>\n",
       "      <td>45.0</td>\n",
       "      <td>0</td>\n",
       "      <td>0</td>\n",
       "      <td>2</td>\n",
       "      <td>0</td>\n",
       "      <td>10.0</td>\n",
       "    </tr>\n",
       "    <tr>\n",
       "      <th>2</th>\n",
       "      <td>2</td>\n",
       "      <td>2</td>\n",
       "      <td>10.0</td>\n",
       "      <td>19.0</td>\n",
       "      <td>15.0</td>\n",
       "      <td>20.2</td>\n",
       "      <td>3.8</td>\n",
       "      <td>12.9</td>\n",
       "      <td>3.4</td>\n",
       "      <td>38.4</td>\n",
       "      <td>...</td>\n",
       "      <td>159.0</td>\n",
       "      <td>78.0</td>\n",
       "      <td>1.0</td>\n",
       "      <td>2.0</td>\n",
       "      <td>46.0</td>\n",
       "      <td>2</td>\n",
       "      <td>1</td>\n",
       "      <td>2</td>\n",
       "      <td>0</td>\n",
       "      <td>10.0</td>\n",
       "    </tr>\n",
       "    <tr>\n",
       "      <th>3</th>\n",
       "      <td>3</td>\n",
       "      <td>3</td>\n",
       "      <td>12.0</td>\n",
       "      <td>15.0</td>\n",
       "      <td>10.0</td>\n",
       "      <td>24.8</td>\n",
       "      <td>3.7</td>\n",
       "      <td>13.5</td>\n",
       "      <td>2.8</td>\n",
       "      <td>40.3</td>\n",
       "      <td>...</td>\n",
       "      <td>155.3</td>\n",
       "      <td>95.0</td>\n",
       "      <td>1.0</td>\n",
       "      <td>0.0</td>\n",
       "      <td>51.0</td>\n",
       "      <td>0</td>\n",
       "      <td>0</td>\n",
       "      <td>3</td>\n",
       "      <td>0</td>\n",
       "      <td>12.0</td>\n",
       "    </tr>\n",
       "    <tr>\n",
       "      <th>4</th>\n",
       "      <td>4</td>\n",
       "      <td>4</td>\n",
       "      <td>12.0</td>\n",
       "      <td>16.0</td>\n",
       "      <td>12.0</td>\n",
       "      <td>25.5</td>\n",
       "      <td>3.4</td>\n",
       "      <td>12.6</td>\n",
       "      <td>2.9</td>\n",
       "      <td>38.6</td>\n",
       "      <td>...</td>\n",
       "      <td>156.0</td>\n",
       "      <td>90.0</td>\n",
       "      <td>1.0</td>\n",
       "      <td>0.0</td>\n",
       "      <td>52.0</td>\n",
       "      <td>0</td>\n",
       "      <td>0</td>\n",
       "      <td>3</td>\n",
       "      <td>0</td>\n",
       "      <td>23.0</td>\n",
       "    </tr>\n",
       "  </tbody>\n",
       "</table>\n",
       "<p>5 rows × 29 columns</p>\n",
       "</div>"
      ],
      "text/plain": [
       "   index  Unnamed: 0  L101300_x  L101200  L101700  S000300  L100700  L190400  \\\n",
       "0      0           0        8.0     17.0     13.0     20.1      3.0     12.3   \n",
       "1      1           1        9.0     21.0     14.0     19.7      3.0     13.1   \n",
       "2      2           2       10.0     19.0     15.0     20.2      3.8     12.9   \n",
       "3      3           3       12.0     15.0     10.0     24.8      3.7     13.5   \n",
       "4      4           4       12.0     16.0     12.0     25.5      3.4     12.6   \n",
       "\n",
       "   L103300  L190500  ...  S000100  L100800  FIELD_33  FIELD_38   AGE  sbpG  \\\n",
       "0      3.1     38.2  ...    159.8     77.0       1.0       1.0  44.0     1   \n",
       "1      3.3     39.0  ...    159.5     89.0       1.0       1.0  45.0     0   \n",
       "2      3.4     38.4  ...    159.0     78.0       1.0       2.0  46.0     2   \n",
       "3      2.8     40.3  ...    155.3     95.0       1.0       0.0  51.0     0   \n",
       "4      2.9     38.6  ...    156.0     90.0       1.0       0.0  52.0     0   \n",
       "\n",
       "   dbpG  AgeG  CLASS  L101300_y  \n",
       "0     0     2      0        9.0  \n",
       "1     0     2      0       10.0  \n",
       "2     1     2      0       10.0  \n",
       "3     0     3      0       12.0  \n",
       "4     0     3      0       23.0  \n",
       "\n",
       "[5 rows x 29 columns]"
      ]
     },
     "execution_count": 16,
     "metadata": {},
     "output_type": "execute_result"
    }
   ],
   "source": [
    "print(data.shape)\n",
    "print(data.columns)\n",
    "data.head()"
   ]
  },
  {
   "cell_type": "code",
   "execution_count": 18,
   "metadata": {},
   "outputs": [],
   "source": [
    "# x=data[['L101300_x', 'L101200_x', 'L101700_x', 'S000300_x', 'L100700_x', 'L190400_x', 'L103300_x', \n",
    "#                        'L190500_x', 'L190300_x', 'SEX_x', 'L103000_x', 'L101400_x', 'L101600_x', 'S000501_x', 'L103100_x', 'L100500_x',\n",
    "#                        'S000502_x', 'S000100_x', 'L100800_x', 'FIELD_33_x',  'FIELD_38_x',  'FIELD_32_x', 'AGE_x',\n",
    "#                        'FIELD_5_x', 'FIELD_40_x', 'FIELD_41_x', 'FIELD_31_x', 'FIELD_21_x', 'FIELD_14_x', 'FIELD_29_x',\n",
    "#         'CLASS','sbpG','dbpG','AgeG']]\n",
    "\n",
    "# y=data[['L101300_y', 'L101200_y', 'L101700_y', 'S000300_y', 'L100700_y', 'L190400_y', 'L103300_y', \n",
    "#                        'L190500_y', 'L190300_y', 'SEX_y', 'L103000_y', 'L101400_y', 'L101600_y', 'S000501_y', 'L103100_y', 'L100500_y',\n",
    "#                        'S000502_y', 'S000100_y', 'L100800_y', 'FIELD_33_y',  'FIELD_38_y',  'FIELD_32_y',  'AGE_y',\n",
    "#                        'FIELD_5_y', 'FIELD_40_y', 'FIELD_41_y', 'FIELD_31_y', 'FIELD_21_y', 'FIELD_14_y', 'FIELD_29_y'\n",
    "#         ]]\n",
    "\n",
    "x=data[['L101300_x', 'L101200', 'L101700', 'S000300', 'L100700', 'L190400', 'L103300', \n",
    "                       'L190500', 'L190300', 'SEX', 'L103000', 'L101400', 'L101600', 'S000501', 'L103100', 'L100500',\n",
    "                       'S000502', 'S000100', 'L100800', 'FIELD_33',  'FIELD_38','AGE']]\n",
    "\n",
    "y=data[['L101300_y']]"
   ]
  },
  {
   "cell_type": "markdown",
   "metadata": {},
   "source": [
    "Check the correlation of the selected feature with the independent variables\n",
    "====="
   ]
  },
  {
   "cell_type": "code",
   "execution_count": 19,
   "metadata": {},
   "outputs": [],
   "source": [
    "temppd=pd.DataFrame(x.copy())\n",
    "temppd['y']=y.L101300_y\n",
    "temppd.head()\n",
    "corval=abs(temppd.corr()).sort_values(by='y', ascending=False)"
   ]
  },
  {
   "cell_type": "code",
   "execution_count": 20,
   "metadata": {},
   "outputs": [
    {
     "data": {
      "text/plain": [
       "y            1.000000\n",
       "L101300_x    0.572565\n",
       "L101700      0.382934\n",
       "L101200      0.368339\n",
       "S000300      0.364626\n",
       "L190400      0.323398\n",
       "SEX          0.318139\n",
       "L100700      0.314312\n",
       "L190500      0.310421\n",
       "L190300      0.308989\n",
       "L103300      0.307048\n",
       "L103000      0.280873\n",
       "S000501      0.242413\n",
       "L103100      0.236622\n",
       "S000100      0.225382\n",
       "L100500      0.216533\n",
       "S000502      0.214561\n",
       "FIELD_33     0.211966\n",
       "L100800      0.192097\n",
       "L101600      0.190536\n",
       "L101400      0.172482\n",
       "FIELD_38     0.101819\n",
       "AGE          0.023964\n",
       "Name: y, dtype: float64"
      ]
     },
     "execution_count": 20,
     "metadata": {},
     "output_type": "execute_result"
    }
   ],
   "source": [
    "corval.y"
   ]
  },
  {
   "cell_type": "code",
   "execution_count": 21,
   "metadata": {},
   "outputs": [],
   "source": [
    "#histogram plot of the features\n",
    "# import matplotlib.pyplot as plt\n",
    "# x[x.dtypes[(x.dtypes==\"float64\")|(x.dtypes==\"int64\")]\n",
    "#                         .index.values].hist(figsize=[11,11])"
   ]
  },
  {
   "cell_type": "markdown",
   "metadata": {},
   "source": [
    "Apply PCA\n",
    "==========="
   ]
  },
  {
   "cell_type": "code",
   "execution_count": 22,
   "metadata": {},
   "outputs": [],
   "source": [
    "# from sklearn.decomposition import PCA\n",
    "# pca = PCA(n_components=8)\n",
    "# pca.fit(x)\n",
    "\n",
    "# print(pca.explained_variance_ratio_)   \n",
    "# print(np.sum(pca.explained_variance_ratio_))\n",
    "\n",
    "# x=pca.fit_transform(x) \n",
    "# print(x.shape)\n"
   ]
  },
  {
   "cell_type": "markdown",
   "metadata": {},
   "source": [
    "feature scaling\n",
    "======="
   ]
  },
  {
   "cell_type": "code",
   "execution_count": 23,
   "metadata": {},
   "outputs": [],
   "source": [
    "# from sklearn import preprocessing\n",
    "# min_max_scaler = preprocessing.MinMaxScaler()  #StandardScaler()\n",
    "# x = min_max_scaler.fit_transform(x)"
   ]
  },
  {
   "cell_type": "markdown",
   "metadata": {},
   "source": [
    "clustring test\n",
    "=========="
   ]
  },
  {
   "cell_type": "code",
   "execution_count": 24,
   "metadata": {},
   "outputs": [],
   "source": [
    "# from sklearn.cluster import KMeans\n",
    "# from scipy.spatial.distance import cdist\n",
    "\n",
    "# K = range(1,10)\n",
    "# distortions = []\n",
    "\n",
    "# for k in K:\n",
    "#     kmeanModel = KMeans(n_clusters=k).fit(x)\n",
    "#     kmeanModel.fit(x)\n",
    "#     distortions.append(sum(np.min(cdist(x, kmeanModel.cluster_centers_, 'euclidean'), axis=1)) / x.shape[0])\n",
    "\n",
    "# # Plot the elbow\n",
    "# plt.plot(K, distortions, 'bx-')\n",
    "# plt.xlabel('k')\n",
    "# plt.ylabel('Distortion')\n",
    "# plt.title('The Elbow Method showing the optimal k')\n",
    "# plt.show()\n"
   ]
  },
  {
   "cell_type": "code",
   "execution_count": 25,
   "metadata": {},
   "outputs": [],
   "source": [
    "# kmeanModel = KMeans(n_clusters=k).fit(x)\n",
    "# x['lbl']=kmeanModel.labels_ "
   ]
  },
  {
   "cell_type": "code",
   "execution_count": 26,
   "metadata": {},
   "outputs": [],
   "source": [
    "# x.columns"
   ]
  },
  {
   "cell_type": "markdown",
   "metadata": {},
   "source": [
    "Random Forest Regressor\n",
    "============="
   ]
  },
  {
   "cell_type": "code",
   "execution_count": 27,
   "metadata": {},
   "outputs": [],
   "source": [
    "ylable=y[['L101300_y']]  \n",
    "xtrain,xtest,ytrain,ytest=train_test_split(x, ylable, random_state=42, test_size=0.2)"
   ]
  },
  {
   "cell_type": "code",
   "execution_count": 28,
   "metadata": {},
   "outputs": [
    {
     "name": "stdout",
     "output_type": "stream",
     "text": [
      "[0.7398643  0.014226   0.02278446 0.0436572  0.01563948 0.01368066\n",
      " 0.01256301 0.01092292 0.01158083 0.01053669 0.01901158 0.00732178\n",
      " 0.01068131 0.00671206 0.00873493 0.00264131 0.00416907 0.00600275\n",
      " 0.01329629 0.00144054 0.0033531  0.02117973]\n"
     ]
    }
   ],
   "source": [
    "regr = RandomForestRegressor(max_depth=7, random_state=0,verbose =0,n_estimators=500)\n",
    "regr.fit(xtrain, ytrain) \n",
    "print(regr.feature_importances_)\n",
    "ypred=regr.predict(xtest)\n"
   ]
  },
  {
   "cell_type": "code",
   "execution_count": 29,
   "metadata": {},
   "outputs": [
    {
     "name": "stdout",
     "output_type": "stream",
     "text": [
      "mean_squared_error 196.31144294409322\n",
      "root mean_squared_error 14.011118547214323\n",
      "mean_absolute_error 7.530477219755059\n",
      "r2_score 0.4383548736285373\n"
     ]
    },
    {
     "data": {
      "image/png": "[encoded data removed]",
      "text/plain": [
       "<Figure size 432x288 with 1 Axes>"
      ]
     },
     "metadata": {
      "needs_background": "light"
     },
     "output_type": "display_data"
    },
    {
     "data": {
      "text/html": [
       "<div>\n",
       "<style scoped>\n",
       "    .dataframe tbody tr th:only-of-type {\n",
       "        vertical-align: middle;\n",
       "    }\n",
       "\n",
       "    .dataframe tbody tr th {\n",
       "        vertical-align: top;\n",
       "    }\n",
       "\n",
       "    .dataframe thead th {\n",
       "        text-align: right;\n",
       "    }\n",
       "</style>\n",
       "<table border=\"1\" class=\"dataframe\">\n",
       "  <thead>\n",
       "    <tr style=\"text-align: right;\">\n",
       "      <th></th>\n",
       "      <th>t + 1</th>\n",
       "      <th>pred (t +1)</th>\n",
       "    </tr>\n",
       "  </thead>\n",
       "  <tbody>\n",
       "    <tr>\n",
       "      <th>9617</th>\n",
       "      <td>252.0</td>\n",
       "      <td>51.102003</td>\n",
       "    </tr>\n",
       "    <tr>\n",
       "      <th>6908</th>\n",
       "      <td>270.0</td>\n",
       "      <td>20.997063</td>\n",
       "    </tr>\n",
       "    <tr>\n",
       "      <th>7288</th>\n",
       "      <td>274.0</td>\n",
       "      <td>75.329531</td>\n",
       "    </tr>\n",
       "    <tr>\n",
       "      <th>8638</th>\n",
       "      <td>279.0</td>\n",
       "      <td>133.215804</td>\n",
       "    </tr>\n",
       "    <tr>\n",
       "      <th>12695</th>\n",
       "      <td>283.0</td>\n",
       "      <td>21.710155</td>\n",
       "    </tr>\n",
       "    <tr>\n",
       "      <th>18067</th>\n",
       "      <td>322.0</td>\n",
       "      <td>77.377300</td>\n",
       "    </tr>\n",
       "    <tr>\n",
       "      <th>10674</th>\n",
       "      <td>358.0</td>\n",
       "      <td>168.995814</td>\n",
       "    </tr>\n",
       "    <tr>\n",
       "      <th>18345</th>\n",
       "      <td>370.0</td>\n",
       "      <td>173.328494</td>\n",
       "    </tr>\n",
       "    <tr>\n",
       "      <th>10927</th>\n",
       "      <td>405.0</td>\n",
       "      <td>23.253167</td>\n",
       "    </tr>\n",
       "    <tr>\n",
       "      <th>16867</th>\n",
       "      <td>453.0</td>\n",
       "      <td>37.101388</td>\n",
       "    </tr>\n",
       "  </tbody>\n",
       "</table>\n",
       "</div>"
      ],
      "text/plain": [
       "       t + 1  pred (t +1)\n",
       "9617   252.0    51.102003\n",
       "6908   270.0    20.997063\n",
       "7288   274.0    75.329531\n",
       "8638   279.0   133.215804\n",
       "12695  283.0    21.710155\n",
       "18067  322.0    77.377300\n",
       "10674  358.0   168.995814\n",
       "18345  370.0   173.328494\n",
       "10927  405.0    23.253167\n",
       "16867  453.0    37.101388"
      ]
     },
     "execution_count": 29,
     "metadata": {},
     "output_type": "execute_result"
    },
    {
     "data": {
      "image/png": "[encoded data removed]",
      "text/plain": [
       "<Figure size 432x288 with 1 Axes>"
      ]
     },
     "metadata": {
      "needs_background": "light"
     },
     "output_type": "display_data"
    }
   ],
   "source": [
    "\n",
    "import math\n",
    "print('mean_squared_error',mean_squared_error(ytest, ypred))\n",
    "print('root mean_squared_error',math.sqrt(mean_squared_error(ytest, ypred)))\n",
    "print('mean_absolute_error',mean_absolute_error(ytest, ypred))\n",
    "print('r2_score',r2_score(ytest, ypred))\n",
    "\n",
    "ypredPD=pd.DataFrame()\n",
    "# ypredPD['t']=xtest['S000501_x'].values\n",
    "ypredPD['t + 1']=ytest.values.ravel()\n",
    "ypredPD['pred (t +1)']=ypred\n",
    "ypredPD.head(30)\n",
    "\n",
    "import matplotlib.patches as mpatches\n",
    "plt.ylabel('Values')\n",
    "plt.xlabel('index')\n",
    "red_patch = mpatches.Patch(color='red', label='Actual data')\n",
    "blue_patch = mpatches.Patch(color='blue', label='Predicted data')\n",
    "plt.legend(handles=[red_patch,blue_patch])\n",
    "\n",
    "ypredPD=ypredPD.sort_values(by=['t + 1'])\n",
    "plt.scatter(np.arange(0,ypredPD.shape[0],1),ypredPD['pred (t +1)'][:ypredPD.shape[0]])\n",
    "plt.plot(np.arange(0,ypredPD.shape[0],1),ypredPD['t + 1'][:ypredPD.shape[0]],color='red')\n",
    "plt.show()\n",
    "\n",
    "plt.ylabel('p*(t+1), Predicted data')\n",
    "plt.xlabel('p(t+1), Actual data')\n",
    "plt.scatter(ypredPD['t + 1'][:ypredPD.shape[0]],ypredPD['pred (t +1)'][:ypredPD.shape[0]])\n",
    "\n",
    "ypredPD.tail(10)"
   ]
  },
  {
   "cell_type": "code",
   "execution_count": 30,
   "metadata": {},
   "outputs": [],
   "source": [
    "# tempdata=pd.DataFrame(xtest.copy())\n",
    "# tempdata['ytest']=ytest\n",
    "# # temp=temp.dropna()\n",
    "# # tempdata.head()\n",
    "# # tempdata[tempdata.ytest.isna()].index\n",
    "\n",
    "# tempdata=tempdata.drop(tempdata[tempdata.ytest.isna()].index)\n"
   ]
  },
  {
   "cell_type": "markdown",
   "metadata": {},
   "source": [
    "xg boost\n",
    "=========="
   ]
  },
  {
   "cell_type": "code",
   "execution_count": 31,
   "metadata": {},
   "outputs": [],
   "source": [
    "import xgboost as xgb\n",
    "# from sklearn.metrics import mean_squared_error\n",
    "# import pandas as pd\n",
    "# import numpy as np"
   ]
  },
  {
   "cell_type": "code",
   "execution_count": 32,
   "metadata": {},
   "outputs": [
    {
     "name": "stdout",
     "output_type": "stream",
     "text": [
      "[03:53:09] WARNING: C:/Jenkins/workspace/xgboost-win64_release_0.90/src/objective/regression_obj.cu:152: reg:linear is now deprecated in favor of reg:squarederror.\n"
     ]
    },
    {
     "data": {
      "text/plain": [
       "XGBRegressor(base_score=0.5, booster='gbtree', colsample_bylevel=1,\n",
       "             colsample_bynode=1, colsample_bytree=1, gamma=0,\n",
       "             importance_type='gain', learning_rate=0.1, max_delta_step=0,\n",
       "             max_depth=3, min_child_weight=1, missing=None, n_estimators=100,\n",
       "             n_jobs=1, nthread=None, objective='reg:linear', random_state=0,\n",
       "             reg_alpha=0, reg_lambda=1, scale_pos_weight=1, seed=None,\n",
       "             silent=None, subsample=1, verbosity=1)"
      ]
     },
     "execution_count": 32,
     "metadata": {},
     "output_type": "execute_result"
    }
   ],
   "source": [
    "xg_reg = xgb.XGBRegressor()\n",
    "# xg_reg = xgb.XGBRegressor(objective ='reg:linear', colsample_bytree = 0.3, \n",
    "#                           learning_rate = 0.1,max_depth = 5, alpha = 10, n_estimators = 10)\n",
    "xg_reg.fit(xtrain, ytrain) "
   ]
  },
  {
   "cell_type": "code",
   "execution_count": 33,
   "metadata": {},
   "outputs": [
    {
     "name": "stdout",
     "output_type": "stream",
     "text": [
      "mean_squared_error 192.59233775208605\n",
      "root mean_squared_error 13.87776414816472\n",
      "mean_absolute_error 7.485225813986625\n",
      "r2_score 0.4489951973622307\n"
     ]
    }
   ],
   "source": [
    "\n",
    "ypred = xg_reg.predict(xtest)\n",
    "\n",
    "import math\n",
    "print('mean_squared_error',mean_squared_error(ytest, ypred))\n",
    "print('root mean_squared_error',math.sqrt(mean_squared_error(ytest, ypred)))\n",
    "print('mean_absolute_error',mean_absolute_error(ytest, ypred))\n",
    "print('r2_score',r2_score(ytest, ypred))\n",
    "\n",
    "# ypredPD=pd.DataFrame()\n",
    "# ypredPD['t']=xtest['S000501_x'].values\n",
    "# ypredPD['t + 1']=ytest.values\n",
    "# ypredPD['pred (t +1)']=ypred\n",
    "# ypredPD.head(10)"
   ]
  },
  {
   "cell_type": "code",
   "execution_count": 34,
   "metadata": {},
   "outputs": [],
   "source": [
    "# ytest[ytest.isna()].shape\n",
    "# tempdata.iloc[:,-1]"
   ]
  },
  {
   "cell_type": "markdown",
   "metadata": {},
   "source": [
    "ANN\n",
    "=========="
   ]
  },
  {
   "cell_type": "code",
   "execution_count": 34,
   "metadata": {},
   "outputs": [],
   "source": [
    "model= Sequential()\n",
    "model.add(Dense(input_dim=34,units=128,activation='relu', kernel_initializer='uniform'))\n",
    "model.add(Dense(units=128, activation='relu', kernel_initializer='uniform')) \n",
    "# model.add(BatchNormalization())\n",
    "# model.add(Dropout(0.25))  \n",
    "model.add(Dense(units=64, activation='relu', kernel_initializer='uniform'))\n",
    "model.add(Dense(units=32, activation='relu', kernel_initializer='uniform')) \n",
    "model.add(BatchNormalization())\n",
    "model.add(Dropout(0.25))  \n",
    "model.add(Dense(units=16, activation='relu', kernel_initializer='uniform'))\n",
    "model.add(BatchNormalization())\n",
    "model.add(Dropout(0.25))  \n",
    "model.add(Dense(units=8, activation='relu', kernel_initializer='uniform'))\n",
    "model.add(Dense(units=1, kernel_initializer='uniform'))\n",
    "model.compile(loss='mean_squared_error', optimizer='Nadam', metrics=['mean_squared_error' ])"
   ]
  },
  {
   "cell_type": "code",
   "execution_count": 35,
   "metadata": {
    "scrolled": true
   },
   "outputs": [
    {
     "name": "stderr",
     "output_type": "stream",
     "text": [
      "W1003 23:42:09.332351 17432 deprecation_wrapper.py:119] From C:\\ProgramData\\Anaconda3\\lib\\site-packages\\keras\\backend\\tensorflow_backend.py:986: The name tf.assign_add is deprecated. Please use tf.compat.v1.assign_add instead.\n",
      "\n"
     ]
    },
    {
     "name": "stdout",
     "output_type": "stream",
     "text": [
      "Train on 14930 samples, validate on 3733 samples\n",
      "Epoch 1/100\n",
      "14930/14930 [==============================] - 1s 67us/step - loss: 521.5574 - mean_squared_error: 521.5574 - val_loss: 484.1793 - val_mean_squared_error: 484.1793\n",
      "Epoch 2/100\n",
      "14930/14930 [==============================] - 0s 25us/step - loss: 270.9792 - mean_squared_error: 270.9792 - val_loss: 284.2984 - val_mean_squared_error: 284.2984\n",
      "Epoch 3/100\n",
      "14930/14930 [==============================] - 0s 26us/step - loss: 259.8076 - mean_squared_error: 259.8076 - val_loss: 260.4897 - val_mean_squared_error: 260.4897\n",
      "Epoch 4/100\n",
      "14930/14930 [==============================] - 0s 25us/step - loss: 259.0042 - mean_squared_error: 259.0042 - val_loss: 294.8089 - val_mean_squared_error: 294.8089\n",
      "Epoch 5/100\n",
      "14930/14930 [==============================] - 0s 24us/step - loss: 256.1533 - mean_squared_error: 256.1533 - val_loss: 834.4343 - val_mean_squared_error: 834.4343\n",
      "Epoch 6/100\n",
      "14930/14930 [==============================] - 0s 25us/step - loss: 251.6756 - mean_squared_error: 251.6756 - val_loss: 261.5653 - val_mean_squared_error: 261.5653\n",
      "Epoch 7/100\n",
      "14930/14930 [==============================] - 0s 26us/step - loss: 252.3519 - mean_squared_error: 252.3519 - val_loss: 276.4221 - val_mean_squared_error: 276.4221\n",
      "Epoch 8/100\n",
      "14930/14930 [==============================] - 0s 24us/step - loss: 252.8925 - mean_squared_error: 252.8925 - val_loss: 299.6614 - val_mean_squared_error: 299.6614\n",
      "Epoch 9/100\n",
      "14930/14930 [==============================] - 0s 26us/step - loss: 245.9017 - mean_squared_error: 245.9017 - val_loss: 293.9443 - val_mean_squared_error: 293.9443\n",
      "Epoch 10/100\n",
      "14930/14930 [==============================] - 0s 24us/step - loss: 246.1146 - mean_squared_error: 246.1146 - val_loss: 278.7060 - val_mean_squared_error: 278.7060\n",
      "Epoch 11/100\n",
      "14930/14930 [==============================] - 0s 25us/step - loss: 247.2902 - mean_squared_error: 247.2902 - val_loss: 261.5952 - val_mean_squared_error: 261.5952\n",
      "Epoch 12/100\n",
      "14930/14930 [==============================] - 0s 26us/step - loss: 248.1541 - mean_squared_error: 248.1541 - val_loss: 315.9148 - val_mean_squared_error: 315.9148\n",
      "Epoch 13/100\n",
      "14930/14930 [==============================] - 0s 23us/step - loss: 243.8876 - mean_squared_error: 243.8876 - val_loss: 268.2651 - val_mean_squared_error: 268.2651\n",
      "Epoch 14/100\n",
      "14930/14930 [==============================] - 0s 25us/step - loss: 242.1072 - mean_squared_error: 242.1072 - val_loss: 261.3645 - val_mean_squared_error: 261.3645\n",
      "Epoch 15/100\n",
      "14930/14930 [==============================] - 0s 25us/step - loss: 241.1490 - mean_squared_error: 241.1490 - val_loss: 312.2452 - val_mean_squared_error: 312.2452\n",
      "Epoch 16/100\n",
      "14930/14930 [==============================] - 0s 25us/step - loss: 241.7958 - mean_squared_error: 241.7958 - val_loss: 265.1825 - val_mean_squared_error: 265.1825\n",
      "Epoch 17/100\n",
      "14930/14930 [==============================] - 0s 25us/step - loss: 241.9208 - mean_squared_error: 241.9208 - val_loss: 248.5796 - val_mean_squared_error: 248.5796\n",
      "Epoch 18/100\n",
      "14930/14930 [==============================] - 0s 24us/step - loss: 242.0287 - mean_squared_error: 242.0287 - val_loss: 282.0868 - val_mean_squared_error: 282.0868\n",
      "Epoch 19/100\n",
      "14930/14930 [==============================] - 0s 25us/step - loss: 237.7425 - mean_squared_error: 237.7425 - val_loss: 305.6977 - val_mean_squared_error: 305.6977\n",
      "Epoch 20/100\n",
      "14930/14930 [==============================] - 0s 24us/step - loss: 241.6919 - mean_squared_error: 241.6919 - val_loss: 282.4702 - val_mean_squared_error: 282.4702\n",
      "Epoch 21/100\n",
      "14930/14930 [==============================] - 0s 25us/step - loss: 235.0128 - mean_squared_error: 235.0128 - val_loss: 243.6020 - val_mean_squared_error: 243.6020\n",
      "Epoch 22/100\n",
      "14930/14930 [==============================] - 0s 25us/step - loss: 235.5100 - mean_squared_error: 235.5100 - val_loss: 261.0195 - val_mean_squared_error: 261.0195\n",
      "Epoch 23/100\n",
      "14930/14930 [==============================] - 0s 24us/step - loss: 242.0806 - mean_squared_error: 242.0806 - val_loss: 255.6163 - val_mean_squared_error: 255.6163\n",
      "Epoch 24/100\n",
      "14930/14930 [==============================] - 0s 23us/step - loss: 238.7128 - mean_squared_error: 238.7128 - val_loss: 235.5502 - val_mean_squared_error: 235.5502\n",
      "Epoch 25/100\n",
      "14930/14930 [==============================] - 0s 24us/step - loss: 240.0235 - mean_squared_error: 240.0235 - val_loss: 416.1237 - val_mean_squared_error: 416.1237\n",
      "Epoch 26/100\n",
      "14930/14930 [==============================] - 0s 25us/step - loss: 238.9154 - mean_squared_error: 238.9154 - val_loss: 266.2705 - val_mean_squared_error: 266.2705\n",
      "Epoch 27/100\n",
      "14930/14930 [==============================] - 0s 24us/step - loss: 237.4954 - mean_squared_error: 237.4954 - val_loss: 286.4694 - val_mean_squared_error: 286.4694\n",
      "Epoch 28/100\n",
      "14930/14930 [==============================] - 0s 25us/step - loss: 238.5490 - mean_squared_error: 238.5490 - val_loss: 264.7501 - val_mean_squared_error: 264.7501\n",
      "Epoch 29/100\n",
      "14930/14930 [==============================] - 0s 24us/step - loss: 241.1463 - mean_squared_error: 241.1463 - val_loss: 293.6346 - val_mean_squared_error: 293.6346\n",
      "Epoch 30/100\n",
      "14930/14930 [==============================] - 0s 25us/step - loss: 237.2838 - mean_squared_error: 237.2838 - val_loss: 278.0130 - val_mean_squared_error: 278.0130\n",
      "Epoch 31/100\n",
      "14930/14930 [==============================] - 0s 24us/step - loss: 234.9512 - mean_squared_error: 234.9512 - val_loss: 258.0267 - val_mean_squared_error: 258.0267\n",
      "Epoch 32/100\n",
      "14930/14930 [==============================] - 0s 24us/step - loss: 236.0751 - mean_squared_error: 236.0751 - val_loss: 250.2778 - val_mean_squared_error: 250.2778\n",
      "Epoch 33/100\n",
      "14930/14930 [==============================] - 0s 25us/step - loss: 238.1332 - mean_squared_error: 238.1332 - val_loss: 255.1621 - val_mean_squared_error: 255.1621\n",
      "Epoch 34/100\n",
      "14930/14930 [==============================] - 0s 25us/step - loss: 237.2754 - mean_squared_error: 237.2754 - val_loss: 241.8882 - val_mean_squared_error: 241.8882\n",
      "Epoch 35/100\n",
      "14930/14930 [==============================] - 0s 25us/step - loss: 237.5439 - mean_squared_error: 237.5439 - val_loss: 253.9555 - val_mean_squared_error: 253.9555\n",
      "Epoch 36/100\n",
      "14930/14930 [==============================] - 0s 24us/step - loss: 236.0671 - mean_squared_error: 236.0671 - val_loss: 247.8880 - val_mean_squared_error: 247.8880\n",
      "Epoch 37/100\n",
      "14930/14930 [==============================] - 0s 25us/step - loss: 236.7139 - mean_squared_error: 236.7139 - val_loss: 250.6277 - val_mean_squared_error: 250.6277\n",
      "Epoch 38/100\n",
      "14930/14930 [==============================] - 0s 24us/step - loss: 234.1455 - mean_squared_error: 234.1455 - val_loss: 264.9418 - val_mean_squared_error: 264.9418\n",
      "Epoch 39/100\n",
      "14930/14930 [==============================] - 0s 25us/step - loss: 239.0931 - mean_squared_error: 239.0931 - val_loss: 282.4593 - val_mean_squared_error: 282.4593\n",
      "Epoch 40/100\n",
      "14930/14930 [==============================] - 0s 24us/step - loss: 233.9393 - mean_squared_error: 233.9393 - val_loss: 306.5777 - val_mean_squared_error: 306.5777\n",
      "Epoch 41/100\n",
      "14930/14930 [==============================] - 0s 25us/step - loss: 236.3731 - mean_squared_error: 236.3731 - val_loss: 319.6506 - val_mean_squared_error: 319.6506\n",
      "Epoch 42/100\n",
      "14930/14930 [==============================] - 0s 25us/step - loss: 238.2420 - mean_squared_error: 238.2420 - val_loss: 251.8316 - val_mean_squared_error: 251.8316\n",
      "Epoch 43/100\n",
      "14930/14930 [==============================] - 0s 24us/step - loss: 238.6294 - mean_squared_error: 238.6294 - val_loss: 266.1518 - val_mean_squared_error: 266.1518\n",
      "Epoch 44/100\n",
      "14930/14930 [==============================] - 0s 25us/step - loss: 236.3924 - mean_squared_error: 236.3924 - val_loss: 272.2969 - val_mean_squared_error: 272.2969\n",
      "Epoch 45/100\n",
      "14930/14930 [==============================] - 0s 23us/step - loss: 237.3652 - mean_squared_error: 237.3652 - val_loss: 248.7682 - val_mean_squared_error: 248.7682\n",
      "Epoch 46/100\n",
      "14930/14930 [==============================] - 0s 25us/step - loss: 237.7580 - mean_squared_error: 237.7580 - val_loss: 265.6525 - val_mean_squared_error: 265.6525\n",
      "Epoch 47/100\n"
     ]
    },
    {
     "name": "stdout",
     "output_type": "stream",
     "text": [
      "14930/14930 [==============================] - 0s 25us/step - loss: 236.3681 - mean_squared_error: 236.3681 - val_loss: 266.0871 - val_mean_squared_error: 266.0871\n",
      "Epoch 48/100\n",
      "14930/14930 [==============================] - 0s 24us/step - loss: 235.0131 - mean_squared_error: 235.0131 - val_loss: 271.8186 - val_mean_squared_error: 271.8186\n",
      "Epoch 49/100\n",
      "14930/14930 [==============================] - 0s 23us/step - loss: 233.8299 - mean_squared_error: 233.8299 - val_loss: 246.3295 - val_mean_squared_error: 246.3295\n",
      "Epoch 50/100\n",
      "14930/14930 [==============================] - 0s 25us/step - loss: 236.6574 - mean_squared_error: 236.6574 - val_loss: 246.3250 - val_mean_squared_error: 246.3250\n",
      "Epoch 51/100\n",
      "14930/14930 [==============================] - 0s 25us/step - loss: 234.6217 - mean_squared_error: 234.6217 - val_loss: 383.1526 - val_mean_squared_error: 383.1526\n",
      "Epoch 52/100\n",
      "14930/14930 [==============================] - 0s 24us/step - loss: 237.2909 - mean_squared_error: 237.2909 - val_loss: 244.3079 - val_mean_squared_error: 244.3079\n",
      "Epoch 53/100\n",
      "14930/14930 [==============================] - 0s 24us/step - loss: 235.0950 - mean_squared_error: 235.0950 - val_loss: 268.7243 - val_mean_squared_error: 268.7243\n",
      "Epoch 54/100\n",
      "14930/14930 [==============================] - 0s 25us/step - loss: 235.5657 - mean_squared_error: 235.5657 - val_loss: 291.7565 - val_mean_squared_error: 291.7565\n",
      "Epoch 55/100\n",
      "14930/14930 [==============================] - 0s 24us/step - loss: 231.7981 - mean_squared_error: 231.7981 - val_loss: 241.7823 - val_mean_squared_error: 241.7823\n",
      "Epoch 56/100\n",
      "14930/14930 [==============================] - 0s 24us/step - loss: 237.0745 - mean_squared_error: 237.0745 - val_loss: 244.0771 - val_mean_squared_error: 244.0771\n",
      "Epoch 57/100\n",
      "14930/14930 [==============================] - 0s 24us/step - loss: 235.8095 - mean_squared_error: 235.8095 - val_loss: 308.9822 - val_mean_squared_error: 308.9822\n",
      "Epoch 58/100\n",
      "14930/14930 [==============================] - 0s 28us/step - loss: 236.1881 - mean_squared_error: 236.1881 - val_loss: 326.0105 - val_mean_squared_error: 326.0105\n",
      "Epoch 59/100\n",
      "14930/14930 [==============================] - 0s 26us/step - loss: 235.4485 - mean_squared_error: 235.4485 - val_loss: 239.5081 - val_mean_squared_error: 239.5081\n",
      "Epoch 60/100\n",
      "14930/14930 [==============================] - 0s 27us/step - loss: 237.9265 - mean_squared_error: 237.9265 - val_loss: 354.6692 - val_mean_squared_error: 354.6692\n",
      "Epoch 61/100\n",
      "14930/14930 [==============================] - 0s 25us/step - loss: 235.9771 - mean_squared_error: 235.9771 - val_loss: 237.6182 - val_mean_squared_error: 237.6182\n",
      "Epoch 62/100\n",
      "14930/14930 [==============================] - 0s 25us/step - loss: 235.7622 - mean_squared_error: 235.7622 - val_loss: 251.2766 - val_mean_squared_error: 251.2766\n",
      "Epoch 63/100\n",
      "14930/14930 [==============================] - 0s 24us/step - loss: 236.7643 - mean_squared_error: 236.7643 - val_loss: 254.9580 - val_mean_squared_error: 254.9580\n",
      "Epoch 64/100\n",
      "14930/14930 [==============================] - 0s 24us/step - loss: 237.6119 - mean_squared_error: 237.6119 - val_loss: 239.9293 - val_mean_squared_error: 239.9293\n",
      "Epoch 65/100\n",
      "14930/14930 [==============================] - 0s 25us/step - loss: 237.5366 - mean_squared_error: 237.5366 - val_loss: 234.5758 - val_mean_squared_error: 234.5758\n",
      "Epoch 66/100\n",
      "14930/14930 [==============================] - 0s 24us/step - loss: 231.8027 - mean_squared_error: 231.8027 - val_loss: 252.9959 - val_mean_squared_error: 252.9959\n",
      "Epoch 67/100\n",
      "14930/14930 [==============================] - 0s 24us/step - loss: 236.1405 - mean_squared_error: 236.1405 - val_loss: 230.5169 - val_mean_squared_error: 230.5169\n",
      "Epoch 68/100\n",
      "14930/14930 [==============================] - 0s 23us/step - loss: 235.1486 - mean_squared_error: 235.1486 - val_loss: 245.4571 - val_mean_squared_error: 245.4571\n",
      "Epoch 69/100\n",
      "14930/14930 [==============================] - 0s 25us/step - loss: 233.6875 - mean_squared_error: 233.6875 - val_loss: 232.2662 - val_mean_squared_error: 232.2662\n",
      "Epoch 70/100\n",
      "14930/14930 [==============================] - 0s 24us/step - loss: 232.7298 - mean_squared_error: 232.7298 - val_loss: 232.1017 - val_mean_squared_error: 232.1017\n",
      "Epoch 71/100\n",
      "14930/14930 [==============================] - 0s 23us/step - loss: 233.5457 - mean_squared_error: 233.5457 - val_loss: 287.2544 - val_mean_squared_error: 287.2544\n",
      "Epoch 72/100\n",
      "14930/14930 [==============================] - 0s 24us/step - loss: 234.1692 - mean_squared_error: 234.1692 - val_loss: 232.0880 - val_mean_squared_error: 232.0880\n",
      "Epoch 73/100\n",
      "14930/14930 [==============================] - 0s 24us/step - loss: 233.7343 - mean_squared_error: 233.7343 - val_loss: 257.5758 - val_mean_squared_error: 257.5758\n",
      "Epoch 74/100\n",
      "14930/14930 [==============================] - 0s 24us/step - loss: 230.9703 - mean_squared_error: 230.9703 - val_loss: 327.8707 - val_mean_squared_error: 327.8707\n",
      "Epoch 75/100\n",
      "14930/14930 [==============================] - 0s 25us/step - loss: 232.5340 - mean_squared_error: 232.5340 - val_loss: 235.0549 - val_mean_squared_error: 235.0549\n",
      "Epoch 76/100\n",
      "14930/14930 [==============================] - 0s 23us/step - loss: 233.6308 - mean_squared_error: 233.6308 - val_loss: 233.6994 - val_mean_squared_error: 233.6994\n",
      "Epoch 77/100\n",
      "14930/14930 [==============================] - 0s 24us/step - loss: 232.5425 - mean_squared_error: 232.5425 - val_loss: 225.7825 - val_mean_squared_error: 225.7825\n",
      "Epoch 78/100\n",
      "14930/14930 [==============================] - 0s 24us/step - loss: 230.8121 - mean_squared_error: 230.8121 - val_loss: 235.5471 - val_mean_squared_error: 235.5471\n",
      "Epoch 79/100\n",
      "14930/14930 [==============================] - 0s 24us/step - loss: 233.4571 - mean_squared_error: 233.4571 - val_loss: 283.0988 - val_mean_squared_error: 283.0988\n",
      "Epoch 80/100\n",
      "14930/14930 [==============================] - 0s 24us/step - loss: 227.4878 - mean_squared_error: 227.4878 - val_loss: 259.7975 - val_mean_squared_error: 259.7975\n",
      "Epoch 81/100\n",
      "14930/14930 [==============================] - 0s 25us/step - loss: 234.3750 - mean_squared_error: 234.3750 - val_loss: 235.2256 - val_mean_squared_error: 235.2256\n",
      "Epoch 82/100\n",
      "14930/14930 [==============================] - 0s 24us/step - loss: 228.3849 - mean_squared_error: 228.3849 - val_loss: 220.7154 - val_mean_squared_error: 220.7154\n",
      "Epoch 83/100\n",
      "14930/14930 [==============================] - 0s 24us/step - loss: 231.7320 - mean_squared_error: 231.7320 - val_loss: 224.0476 - val_mean_squared_error: 224.0476\n",
      "Epoch 84/100\n",
      "14930/14930 [==============================] - 0s 24us/step - loss: 228.8867 - mean_squared_error: 228.8867 - val_loss: 226.4372 - val_mean_squared_error: 226.4372\n",
      "Epoch 85/100\n",
      "14930/14930 [==============================] - 0s 23us/step - loss: 229.5858 - mean_squared_error: 229.5858 - val_loss: 296.5507 - val_mean_squared_error: 296.5507\n",
      "Epoch 86/100\n",
      "14930/14930 [==============================] - 0s 24us/step - loss: 230.3314 - mean_squared_error: 230.3314 - val_loss: 266.0815 - val_mean_squared_error: 266.0815\n",
      "Epoch 87/100\n",
      "14930/14930 [==============================] - 0s 23us/step - loss: 232.0597 - mean_squared_error: 232.0597 - val_loss: 239.0526 - val_mean_squared_error: 239.0526\n",
      "Epoch 88/100\n",
      "14930/14930 [==============================] - 0s 24us/step - loss: 229.0615 - mean_squared_error: 229.0615 - val_loss: 365.7778 - val_mean_squared_error: 365.7778\n",
      "Epoch 89/100\n",
      "14930/14930 [==============================] - 0s 24us/step - loss: 230.1856 - mean_squared_error: 230.1856 - val_loss: 285.5111 - val_mean_squared_error: 285.5111\n",
      "Epoch 90/100\n",
      "14930/14930 [==============================] - 0s 24us/step - loss: 231.5772 - mean_squared_error: 231.5772 - val_loss: 248.1744 - val_mean_squared_error: 248.1744\n",
      "Epoch 91/100\n",
      "14930/14930 [==============================] - 0s 24us/step - loss: 230.4535 - mean_squared_error: 230.4535 - val_loss: 259.5588 - val_mean_squared_error: 259.5588\n",
      "Epoch 92/100\n",
      "14930/14930 [==============================] - 0s 24us/step - loss: 225.5503 - mean_squared_error: 225.5503 - val_loss: 228.9071 - val_mean_squared_error: 228.9071\n",
      "Epoch 93/100\n",
      "14930/14930 [==============================] - 0s 23us/step - loss: 228.6084 - mean_squared_error: 228.6084 - val_loss: 253.3045 - val_mean_squared_error: 253.3045\n",
      "Epoch 94/100\n",
      "14930/14930 [==============================] - 0s 24us/step - loss: 229.8825 - mean_squared_error: 229.8825 - val_loss: 264.2989 - val_mean_squared_error: 264.2989\n",
      "Epoch 95/100\n",
      "14930/14930 [==============================] - 0s 25us/step - loss: 230.6975 - mean_squared_error: 230.6975 - val_loss: 272.2861 - val_mean_squared_error: 272.2861\n",
      "Epoch 96/100\n",
      "14930/14930 [==============================] - 0s 23us/step - loss: 229.3711 - mean_squared_error: 229.3711 - val_loss: 245.8634 - val_mean_squared_error: 245.8634\n",
      "Epoch 97/100\n",
      "14930/14930 [==============================] - 0s 24us/step - loss: 232.1042 - mean_squared_error: 232.1042 - val_loss: 247.2515 - val_mean_squared_error: 247.2515\n",
      "Epoch 98/100\n",
      "14930/14930 [==============================] - 0s 25us/step - loss: 226.3768 - mean_squared_error: 226.3768 - val_loss: 243.5463 - val_mean_squared_error: 243.5463\n",
      "Epoch 99/100\n",
      "14930/14930 [==============================] - 0s 23us/step - loss: 229.2982 - mean_squared_error: 229.2982 - val_loss: 263.3668 - val_mean_squared_error: 263.3668\n",
      "Epoch 100/100\n",
      "14930/14930 [==============================] - 0s 24us/step - loss: 231.0743 - mean_squared_error: 231.0743 - val_loss: 264.9569 - val_mean_squared_error: 264.9569\n"
     ]
    }
   ],
   "source": [
    "h=model.fit(xtrain, ytrain, validation_split=.2,epochs=100, batch_size=50)"
   ]
  },
  {
   "cell_type": "code",
   "execution_count": 36,
   "metadata": {},
   "outputs": [
    {
     "name": "stdout",
     "output_type": "stream",
     "text": [
      "mean_squared_error 496.1629233699221\n",
      "root mean_squared_error 22.274714888633753\n",
      "mean_absolute_error 7.946551557574413\n",
      "r2_score 0.23412286875170862\n"
     ]
    },
    {
     "data": {
      "text/html": [
       "<div>\n",
       "<style scoped>\n",
       "    .dataframe tbody tr th:only-of-type {\n",
       "        vertical-align: middle;\n",
       "    }\n",
       "\n",
       "    .dataframe tbody tr th {\n",
       "        vertical-align: top;\n",
       "    }\n",
       "\n",
       "    .dataframe thead th {\n",
       "        text-align: right;\n",
       "    }\n",
       "</style>\n",
       "<table border=\"1\" class=\"dataframe\">\n",
       "  <thead>\n",
       "    <tr style=\"text-align: right;\">\n",
       "      <th></th>\n",
       "      <th>t + 1</th>\n",
       "      <th>pred (t +1)</th>\n",
       "    </tr>\n",
       "  </thead>\n",
       "  <tbody>\n",
       "    <tr>\n",
       "      <th>0</th>\n",
       "      <td>40.0</td>\n",
       "      <td>23.159456</td>\n",
       "    </tr>\n",
       "    <tr>\n",
       "      <th>1</th>\n",
       "      <td>18.0</td>\n",
       "      <td>17.667181</td>\n",
       "    </tr>\n",
       "    <tr>\n",
       "      <th>2</th>\n",
       "      <td>16.0</td>\n",
       "      <td>12.740708</td>\n",
       "    </tr>\n",
       "    <tr>\n",
       "      <th>3</th>\n",
       "      <td>22.0</td>\n",
       "      <td>19.936028</td>\n",
       "    </tr>\n",
       "    <tr>\n",
       "      <th>4</th>\n",
       "      <td>17.0</td>\n",
       "      <td>11.952861</td>\n",
       "    </tr>\n",
       "    <tr>\n",
       "      <th>5</th>\n",
       "      <td>14.0</td>\n",
       "      <td>13.421432</td>\n",
       "    </tr>\n",
       "    <tr>\n",
       "      <th>6</th>\n",
       "      <td>8.0</td>\n",
       "      <td>15.275977</td>\n",
       "    </tr>\n",
       "    <tr>\n",
       "      <th>7</th>\n",
       "      <td>41.0</td>\n",
       "      <td>24.102568</td>\n",
       "    </tr>\n",
       "    <tr>\n",
       "      <th>8</th>\n",
       "      <td>10.0</td>\n",
       "      <td>12.210329</td>\n",
       "    </tr>\n",
       "    <tr>\n",
       "      <th>9</th>\n",
       "      <td>27.0</td>\n",
       "      <td>13.834530</td>\n",
       "    </tr>\n",
       "  </tbody>\n",
       "</table>\n",
       "</div>"
      ],
      "text/plain": [
       "   t + 1  pred (t +1)\n",
       "0   40.0    23.159456\n",
       "1   18.0    17.667181\n",
       "2   16.0    12.740708\n",
       "3   22.0    19.936028\n",
       "4   17.0    11.952861\n",
       "5   14.0    13.421432\n",
       "6    8.0    15.275977\n",
       "7   41.0    24.102568\n",
       "8   10.0    12.210329\n",
       "9   27.0    13.834530"
      ]
     },
     "execution_count": 36,
     "metadata": {},
     "output_type": "execute_result"
    }
   ],
   "source": [
    "ypred=model.predict(xtest)\n",
    "\n",
    "import math\n",
    "print('mean_squared_error',mean_squared_error(ytest, ypred))\n",
    "print('root mean_squared_error',math.sqrt(mean_squared_error(ytest, ypred)))\n",
    "print('mean_absolute_error',mean_absolute_error(ytest, ypred))\n",
    "print('r2_score',r2_score(ytest, ypred))\n",
    "\n",
    "ypredPD=pd.DataFrame()\n",
    "# ypredPD['t']=xtest['S000501_x'].values\n",
    "ypredPD['t + 1']=ytest.values.ravel()\n",
    "ypredPD['pred (t +1)']=ypred\n",
    "ypredPD.head(10)"
   ]
  },
  {
   "cell_type": "code",
   "execution_count": 37,
   "metadata": {},
   "outputs": [
    {
     "name": "stdout",
     "output_type": "stream",
     "text": [
      "dict_keys(['val_loss', 'val_mean_squared_error', 'loss', 'mean_squared_error'])\n"
     ]
    },
    {
     "data": {
      "image/png": "[encoded data removed]",
      "text/plain": [
       "<Figure size 432x288 with 1 Axes>"
      ]
     },
     "metadata": {
      "needs_background": "light"
     },
     "output_type": "display_data"
    },
    {
     "data": {
      "image/png": "[encoded data removed]",
      "text/plain": [
       "<Figure size 432x288 with 1 Axes>"
      ]
     },
     "metadata": {
      "needs_background": "light"
     },
     "output_type": "display_data"
    }
   ],
   "source": [
    "history=h\n",
    "print(history.history.keys())\n",
    "# summarize history for accuracy\n",
    "plt.plot(history.history['val_loss'])\n",
    "plt.plot(history.history['loss'])\n",
    "plt.title('model accuracy')\n",
    "plt.ylabel('accuracy')\n",
    "plt.xlabel('epoch')\n",
    "plt.legend(['train', 'test'], loc='upper left')\n",
    "plt.show()\n",
    "# summarize history for loss\n",
    "plt.plot(history.history['val_mean_squared_error'])\n",
    "plt.plot(history.history['mean_squared_error'])\n",
    "plt.title('model loss')\n",
    "plt.ylabel('loss')\n",
    "plt.xlabel('epoch')\n",
    "plt.legend(['train', 'test'], loc='upper left')\n",
    "plt.show()"
   ]
  },
  {
   "cell_type": "code",
   "execution_count": 38,
   "metadata": {},
   "outputs": [
    {
     "name": "stdout",
     "output_type": "stream",
     "text": [
      "7.946551557574413\n",
      "20.809018278446835\n",
      "58.52978996999571\n"
     ]
    }
   ],
   "source": [
    "ypredPD['diff']=abs(ypredPD['t + 1']- ypredPD['pred (t +1)'])\n",
    "print(np.mean(ypredPD['diff']))\n",
    "print(np.std(ypredPD['diff']))\n",
    "print(100*ypredPD[ypredPD['diff']<=5].shape[0]/ypredPD.shape[0])"
   ]
  },
  {
   "cell_type": "code",
   "execution_count": 39,
   "metadata": {},
   "outputs": [
    {
     "data": {
      "image/png": "[encoded data removed]",
      "text/plain": [
       "<Figure size 432x288 with 1 Axes>"
      ]
     },
     "metadata": {
      "needs_background": "light"
     },
     "output_type": "display_data"
    },
    {
     "data": {
      "text/html": [
       "<div>\n",
       "<style scoped>\n",
       "    .dataframe tbody tr th:only-of-type {\n",
       "        vertical-align: middle;\n",
       "    }\n",
       "\n",
       "    .dataframe tbody tr th {\n",
       "        vertical-align: top;\n",
       "    }\n",
       "\n",
       "    .dataframe thead th {\n",
       "        text-align: right;\n",
       "    }\n",
       "</style>\n",
       "<table border=\"1\" class=\"dataframe\">\n",
       "  <thead>\n",
       "    <tr style=\"text-align: right;\">\n",
       "      <th></th>\n",
       "      <th>t + 1</th>\n",
       "      <th>pred (t +1)</th>\n",
       "      <th>diff</th>\n",
       "    </tr>\n",
       "  </thead>\n",
       "  <tbody>\n",
       "    <tr>\n",
       "      <th>1754</th>\n",
       "      <td>1.0</td>\n",
       "      <td>18.915892</td>\n",
       "      <td>17.915892</td>\n",
       "    </tr>\n",
       "    <tr>\n",
       "      <th>3582</th>\n",
       "      <td>1.0</td>\n",
       "      <td>12.772871</td>\n",
       "      <td>11.772871</td>\n",
       "    </tr>\n",
       "    <tr>\n",
       "      <th>158</th>\n",
       "      <td>4.0</td>\n",
       "      <td>12.347008</td>\n",
       "      <td>8.347008</td>\n",
       "    </tr>\n",
       "    <tr>\n",
       "      <th>193</th>\n",
       "      <td>4.0</td>\n",
       "      <td>12.194701</td>\n",
       "      <td>8.194701</td>\n",
       "    </tr>\n",
       "    <tr>\n",
       "      <th>2865</th>\n",
       "      <td>4.0</td>\n",
       "      <td>11.420227</td>\n",
       "      <td>7.420227</td>\n",
       "    </tr>\n",
       "    <tr>\n",
       "      <th>688</th>\n",
       "      <td>5.0</td>\n",
       "      <td>12.265177</td>\n",
       "      <td>7.265177</td>\n",
       "    </tr>\n",
       "    <tr>\n",
       "      <th>1735</th>\n",
       "      <td>5.0</td>\n",
       "      <td>12.259502</td>\n",
       "      <td>7.259502</td>\n",
       "    </tr>\n",
       "    <tr>\n",
       "      <th>2672</th>\n",
       "      <td>5.0</td>\n",
       "      <td>12.263136</td>\n",
       "      <td>7.263136</td>\n",
       "    </tr>\n",
       "    <tr>\n",
       "      <th>1227</th>\n",
       "      <td>5.0</td>\n",
       "      <td>12.033879</td>\n",
       "      <td>7.033879</td>\n",
       "    </tr>\n",
       "    <tr>\n",
       "      <th>475</th>\n",
       "      <td>5.0</td>\n",
       "      <td>12.195220</td>\n",
       "      <td>7.195220</td>\n",
       "    </tr>\n",
       "  </tbody>\n",
       "</table>\n",
       "</div>"
      ],
      "text/plain": [
       "      t + 1  pred (t +1)       diff\n",
       "1754    1.0    18.915892  17.915892\n",
       "3582    1.0    12.772871  11.772871\n",
       "158     4.0    12.347008   8.347008\n",
       "193     4.0    12.194701   8.194701\n",
       "2865    4.0    11.420227   7.420227\n",
       "688     5.0    12.265177   7.265177\n",
       "1735    5.0    12.259502   7.259502\n",
       "2672    5.0    12.263136   7.263136\n",
       "1227    5.0    12.033879   7.033879\n",
       "475     5.0    12.195220   7.195220"
      ]
     },
     "execution_count": 39,
     "metadata": {},
     "output_type": "execute_result"
    },
    {
     "data": {
      "image/png": "[encoded data removed]",
      "text/plain": [
       "<Figure size 432x288 with 1 Axes>"
      ]
     },
     "metadata": {
      "needs_background": "light"
     },
     "output_type": "display_data"
    }
   ],
   "source": [
    "\n",
    "import matplotlib.patches as mpatches\n",
    "plt.ylabel('Values')\n",
    "plt.xlabel('index')\n",
    "red_patch = mpatches.Patch(color='red', label='Actual data')\n",
    "blue_patch = mpatches.Patch(color='blue', label='Predicted data')\n",
    "plt.legend(handles=[red_patch,blue_patch])\n",
    "\n",
    "ypredPD=ypredPD.sort_values(by=['t + 1'])\n",
    "plt.scatter(np.arange(0,ypredPD.shape[0],1),ypredPD['pred (t +1)'][:ypredPD.shape[0]])\n",
    "plt.plot(np.arange(0,ypredPD.shape[0],1),ypredPD['t + 1'][:ypredPD.shape[0]],color='red')\n",
    "plt.show()\n",
    "\n",
    "plt.ylabel('p*(t+1), Predicted data')\n",
    "plt.xlabel('p(t+1), Actual data')\n",
    "plt.scatter(ypredPD['t + 1'][:ypredPD.shape[0]],ypredPD['pred (t +1)'][:ypredPD.shape[0]])\n",
    "\n",
    "ypredPD.head(10)"
   ]
  },
  {
   "cell_type": "markdown",
   "metadata": {},
   "source": [
    "SVR\n",
    "======"
   ]
  },
  {
   "cell_type": "code",
   "execution_count": null,
   "metadata": {},
   "outputs": [],
   "source": [
    "from sklearn.svm import SVR\n",
    "# svr_rbf = SVR(kernel='rbf', C=10, gamma=0.02, epsilon=.001)\n",
    "svr_rbf = SVR(kernel='rbf')"
   ]
  },
  {
   "cell_type": "code",
   "execution_count": null,
   "metadata": {},
   "outputs": [],
   "source": [
    "svr_rbf.fit(xtrain, ytrain) "
   ]
  },
  {
   "cell_type": "code",
   "execution_count": null,
   "metadata": {},
   "outputs": [],
   "source": [
    "ypred=svr_rbf.predict(xtest)"
   ]
  },
  {
   "cell_type": "code",
   "execution_count": null,
   "metadata": {},
   "outputs": [],
   "source": [
    "import math\n",
    "print('mean_squared_error',mean_squared_error(ytest, ypred))\n",
    "print('root mean_squared_error',math.sqrt(mean_squared_error(ytest, ypred)))\n",
    "print('mean_absolute_error',mean_absolute_error(ytest, ypred))\n",
    "print('r2_score',r2_score(ytest, ypred))\n",
    "\n",
    "ypredPD=pd.DataFrame()\n",
    "# ypredPD['t']=xtest['S000501_x'].values\n",
    "ypredPD['t + 1']=ytest.values.ravel()\n",
    "ypredPD['pred (t +1)']=ypred\n",
    "ypredPD.head(10)"
   ]
  },
  {
   "cell_type": "code",
   "execution_count": null,
   "metadata": {},
   "outputs": [],
   "source": []
  },
  {
   "cell_type": "code",
   "execution_count": null,
   "metadata": {},
   "outputs": [],
   "source": []
  }
 ],
 "metadata": {
  "kernelspec": {
   "display_name": "Python 3",
   "language": "python",
   "name": "python3"
  },
  "language_info": {
   "codemirror_mode": {
    "name": "ipython",
    "version": 3
   },
   "file_extension": ".py",
   "mimetype": "text/x-python",
   "name": "python",
   "nbconvert_exporter": "python",
   "pygments_lexer": "ipython3",
   "version": "3.7.3"
  }
 },
 "nbformat": 4,
 "nbformat_minor": 2
}

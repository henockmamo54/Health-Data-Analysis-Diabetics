{
 "cells": [
  {
   "cell_type": "code",
   "execution_count": 1,
   "metadata": {},
   "outputs": [],
   "source": [
    "import pandas as pd \n",
    "import numpy as np\n",
    "import warnings\n",
    "from matplotlib import pyplot as plt\n",
    "from sklearn import metrics as m\n",
    "\n",
    "warnings.filterwarnings('ignore')\n",
    "randomseed=7"
   ]
  },
  {
   "cell_type": "code",
   "execution_count": 4,
   "metadata": {},
   "outputs": [
    {
     "name": "stdout",
     "output_type": "stream",
     "text": [
      "(70592, 16)\n"
     ]
    },
    {
     "data": {
      "text/html": [
       "<div>\n",
       "<style scoped>\n",
       "    .dataframe tbody tr th:only-of-type {\n",
       "        vertical-align: middle;\n",
       "    }\n",
       "\n",
       "    .dataframe tbody tr th {\n",
       "        vertical-align: top;\n",
       "    }\n",
       "\n",
       "    .dataframe thead th {\n",
       "        text-align: right;\n",
       "    }\n",
       "</style>\n",
       "<table border=\"1\" class=\"dataframe\">\n",
       "  <thead>\n",
       "    <tr style=\"text-align: right;\">\n",
       "      <th></th>\n",
       "      <th>Unnamed: 0</th>\n",
       "      <th>FIELD_1</th>\n",
       "      <th>FIELD_2</th>\n",
       "      <th>L104600</th>\n",
       "      <th>L103000</th>\n",
       "      <th>S000300</th>\n",
       "      <th>L101700</th>\n",
       "      <th>L100700</th>\n",
       "      <th>FIELD_33</th>\n",
       "      <th>FIELD_38</th>\n",
       "      <th>FIELD_40</th>\n",
       "      <th>FIELD_31</th>\n",
       "      <th>SEX</th>\n",
       "      <th>AGE</th>\n",
       "      <th>L100800</th>\n",
       "      <th>CLASS</th>\n",
       "    </tr>\n",
       "  </thead>\n",
       "  <tbody>\n",
       "    <tr>\n",
       "      <th>0</th>\n",
       "      <td>0</td>\n",
       "      <td>696760</td>\n",
       "      <td>20150404</td>\n",
       "      <td>5.67</td>\n",
       "      <td>89.0</td>\n",
       "      <td>24.3</td>\n",
       "      <td>13.0</td>\n",
       "      <td>3.8</td>\n",
       "      <td>1.0</td>\n",
       "      <td>0.0</td>\n",
       "      <td>0.0</td>\n",
       "      <td>1.0</td>\n",
       "      <td>1.0</td>\n",
       "      <td>39.0</td>\n",
       "      <td>96.0</td>\n",
       "      <td>0</td>\n",
       "    </tr>\n",
       "    <tr>\n",
       "      <th>1</th>\n",
       "      <td>1</td>\n",
       "      <td>819364</td>\n",
       "      <td>20150923</td>\n",
       "      <td>5.80</td>\n",
       "      <td>173.0</td>\n",
       "      <td>26.2</td>\n",
       "      <td>13.0</td>\n",
       "      <td>4.8</td>\n",
       "      <td>1.0</td>\n",
       "      <td>0.0</td>\n",
       "      <td>0.0</td>\n",
       "      <td>0.0</td>\n",
       "      <td>1.0</td>\n",
       "      <td>43.0</td>\n",
       "      <td>92.0</td>\n",
       "      <td>0</td>\n",
       "    </tr>\n",
       "    <tr>\n",
       "      <th>2</th>\n",
       "      <td>2</td>\n",
       "      <td>816630</td>\n",
       "      <td>20170928</td>\n",
       "      <td>5.51</td>\n",
       "      <td>74.0</td>\n",
       "      <td>21.8</td>\n",
       "      <td>21.0</td>\n",
       "      <td>7.4</td>\n",
       "      <td>2.0</td>\n",
       "      <td>3.0</td>\n",
       "      <td>0.0</td>\n",
       "      <td>0.0</td>\n",
       "      <td>0.0</td>\n",
       "      <td>45.0</td>\n",
       "      <td>108.0</td>\n",
       "      <td>1</td>\n",
       "    </tr>\n",
       "    <tr>\n",
       "      <th>3</th>\n",
       "      <td>3</td>\n",
       "      <td>3869001</td>\n",
       "      <td>20161109</td>\n",
       "      <td>5.14</td>\n",
       "      <td>224.0</td>\n",
       "      <td>25.1</td>\n",
       "      <td>32.0</td>\n",
       "      <td>4.1</td>\n",
       "      <td>3.0</td>\n",
       "      <td>3.0</td>\n",
       "      <td>0.0</td>\n",
       "      <td>0.0</td>\n",
       "      <td>0.0</td>\n",
       "      <td>47.0</td>\n",
       "      <td>90.0</td>\n",
       "      <td>0</td>\n",
       "    </tr>\n",
       "    <tr>\n",
       "      <th>4</th>\n",
       "      <td>4</td>\n",
       "      <td>2853000</td>\n",
       "      <td>20161121</td>\n",
       "      <td>5.75</td>\n",
       "      <td>189.0</td>\n",
       "      <td>19.5</td>\n",
       "      <td>12.0</td>\n",
       "      <td>2.6</td>\n",
       "      <td>1.0</td>\n",
       "      <td>0.0</td>\n",
       "      <td>0.0</td>\n",
       "      <td>0.0</td>\n",
       "      <td>1.0</td>\n",
       "      <td>38.0</td>\n",
       "      <td>89.0</td>\n",
       "      <td>0</td>\n",
       "    </tr>\n",
       "  </tbody>\n",
       "</table>\n",
       "</div>"
      ],
      "text/plain": [
       "   Unnamed: 0  FIELD_1   FIELD_2  L104600  L103000  S000300  L101700  L100700  \\\n",
       "0           0   696760  20150404     5.67     89.0     24.3     13.0      3.8   \n",
       "1           1   819364  20150923     5.80    173.0     26.2     13.0      4.8   \n",
       "2           2   816630  20170928     5.51     74.0     21.8     21.0      7.4   \n",
       "3           3  3869001  20161109     5.14    224.0     25.1     32.0      4.1   \n",
       "4           4  2853000  20161121     5.75    189.0     19.5     12.0      2.6   \n",
       "\n",
       "   FIELD_33  FIELD_38  FIELD_40  FIELD_31  SEX   AGE  L100800  CLASS  \n",
       "0       1.0       0.0       0.0       1.0  1.0  39.0     96.0      0  \n",
       "1       1.0       0.0       0.0       0.0  1.0  43.0     92.0      0  \n",
       "2       2.0       3.0       0.0       0.0  0.0  45.0    108.0      1  \n",
       "3       3.0       3.0       0.0       0.0  0.0  47.0     90.0      0  \n",
       "4       1.0       0.0       0.0       0.0  1.0  38.0     89.0      0  "
      ]
     },
     "execution_count": 4,
     "metadata": {},
     "output_type": "execute_result"
    }
   ],
   "source": [
    "data1=pd.read_csv('NextYearData_actualData_train.txt')\n",
    "data2=pd.read_csv('ThisYearData_actualData_train.txt')\n",
    "data3=pd.read_csv('ThisYearData_actualData.txt')\n",
    "\n",
    "data4=pd.read_csv('NextYearData_actualData.txt')\n",
    "\n",
    "data5=pd.read_csv('Predicted_NextYearData.txt')\n",
    "data5.columns=data4.columns\n",
    "\n",
    "data=pd.concat([data1,data2,data3])\n",
    "\n",
    "print(data.shape)\n",
    "data.head()"
   ]
  },
  {
   "cell_type": "code",
   "execution_count": 5,
   "metadata": {},
   "outputs": [
    {
     "name": "stdout",
     "output_type": "stream",
     "text": [
      "1043 19307 50242\n"
     ]
    }
   ],
   "source": [
    "diabetic = data[data.CLASS==2]\n",
    "prediabetic = data[data.CLASS==1]\n",
    "normal = data[data.CLASS==0]\n",
    "\n",
    "print(diabetic.shape[0],prediabetic.shape[0],normal.shape[0])"
   ]
  },
  {
   "cell_type": "code",
   "execution_count": 67,
   "metadata": {},
   "outputs": [],
   "source": [
    "diabetic_test = diabetic.sample(200,random_state=randomseed)\n",
    "prediabetic_test = prediabetic.sample(200,random_state=randomseed)\n",
    "normal_test = normal.sample(200,random_state=randomseed)\n",
    "test=pd.concat([diabetic_test,prediabetic_test,normal_test])\n",
    "\n",
    "diabetic_train = diabetic.drop(diabetic_test.index)\n",
    "prediabetic_train = prediabetic.drop(prediabetic_test.index).sample(2*diabetic_train.shape[0],random_state=randomseed)\n",
    "normal_train = normal.drop(normal_test.index).sample(2*diabetic_train.shape[0],random_state=randomseed)\n",
    "train=pd.concat([diabetic_train,diabetic_train,prediabetic_train,normal_train])"
   ]
  },
  {
   "cell_type": "code",
   "execution_count": 68,
   "metadata": {},
   "outputs": [
    {
     "data": {
      "text/plain": [
       "RandomForestClassifier(bootstrap=True, class_weight=None, criterion='gini',\n",
       "                       max_depth=12, max_features='auto', max_leaf_nodes=None,\n",
       "                       min_impurity_decrease=0.0, min_impurity_split=None,\n",
       "                       min_samples_leaf=10, min_samples_split=2,\n",
       "                       min_weight_fraction_leaf=0.0, n_estimators=1000,\n",
       "                       n_jobs=None, oob_score=False, random_state=7, verbose=0,\n",
       "                       warm_start=False)"
      ]
     },
     "execution_count": 68,
     "metadata": {},
     "output_type": "execute_result"
    }
   ],
   "source": [
    "from sklearn.ensemble import RandomForestClassifier\n",
    "\n",
    "rf=RandomForestClassifier(random_state=randomseed,n_estimators=1000,max_depth=12,\n",
    "                          min_samples_split=2, min_samples_leaf = 10, max_features =  'auto'   )\n",
    "rf.fit(train.iloc[:,3:-2],train.iloc[:,-1])"
   ]
  },
  {
   "cell_type": "code",
   "execution_count": 69,
   "metadata": {},
   "outputs": [
    {
     "name": "stdout",
     "output_type": "stream",
     "text": [
      "0.6983333333333334\n"
     ]
    },
    {
     "data": {
      "image/png": "[encoded data removed]",
      "text/plain": [
       "<Figure size 432x288 with 1 Axes>"
      ]
     },
     "metadata": {
      "needs_background": "light"
     },
     "output_type": "display_data"
    },
    {
     "name": "stdout",
     "output_type": "stream",
     "text": [
      "Index(['L104600', 'L103000', 'L101700', 'S000300', 'AGE', 'L100700', 'SEX',\n",
      "       'FIELD_38', 'FIELD_40', 'FIELD_33', 'FIELD_31'],\n",
      "      dtype='object')\n"
     ]
    }
   ],
   "source": [
    "ypred= rf.predict(test.iloc[:,3:-2])\n",
    "\n",
    "score=rf.score(test.iloc[:,3:-2],test.iloc[:,-1])\n",
    "print(score)\n",
    "\n",
    "feat_importances = pd.Series(rf.feature_importances_, index=test.iloc[:,3:-2].columns)\n",
    "feat_importances.nlargest(16).plot(kind='barh')\n",
    "plt.show()\n",
    "\n",
    "print(feat_importances.nlargest(16).index)"
   ]
  },
  {
   "cell_type": "code",
   "execution_count": 70,
   "metadata": {},
   "outputs": [
    {
     "name": "stdout",
     "output_type": "stream",
     "text": [
      "Accuracy on training set: 0.810\n",
      "Accuracy on test set: 0.698\n"
     ]
    },
    {
     "data": {
      "text/html": [
       "<div>\n",
       "<style scoped>\n",
       "    .dataframe tbody tr th:only-of-type {\n",
       "        vertical-align: middle;\n",
       "    }\n",
       "\n",
       "    .dataframe tbody tr th {\n",
       "        vertical-align: top;\n",
       "    }\n",
       "\n",
       "    .dataframe thead th {\n",
       "        text-align: right;\n",
       "    }\n",
       "</style>\n",
       "<table border=\"1\" class=\"dataframe\">\n",
       "  <thead>\n",
       "    <tr style=\"text-align: right;\">\n",
       "      <th></th>\n",
       "      <th>0</th>\n",
       "      <th>1</th>\n",
       "      <th>2</th>\n",
       "    </tr>\n",
       "  </thead>\n",
       "  <tbody>\n",
       "    <tr>\n",
       "      <th>0</th>\n",
       "      <td>128</td>\n",
       "      <td>72</td>\n",
       "      <td>0</td>\n",
       "    </tr>\n",
       "    <tr>\n",
       "      <th>1</th>\n",
       "      <td>57</td>\n",
       "      <td>125</td>\n",
       "      <td>18</td>\n",
       "    </tr>\n",
       "    <tr>\n",
       "      <th>2</th>\n",
       "      <td>0</td>\n",
       "      <td>34</td>\n",
       "      <td>166</td>\n",
       "    </tr>\n",
       "  </tbody>\n",
       "</table>\n",
       "</div>"
      ],
      "text/plain": [
       "     0    1    2\n",
       "0  128   72    0\n",
       "1   57  125   18\n",
       "2    0   34  166"
      ]
     },
     "execution_count": 70,
     "metadata": {},
     "output_type": "execute_result"
    }
   ],
   "source": [
    "print(\"Accuracy on training set: {:.3f}\".format(rf.score(train.iloc[:,3:-2],train.iloc[:,-1])))\n",
    "print(\"Accuracy on test set: {:.3f}\".format(rf.score(test.iloc[:,3:-2],test.iloc[:,-1] )))  \n",
    "\n",
    "confmatrx=pd.DataFrame(m.confusion_matrix(test.iloc[:,-1],ypred))\n",
    "confmatrx.head()"
   ]
  },
  {
   "cell_type": "code",
   "execution_count": 71,
   "metadata": {},
   "outputs": [
    {
     "name": "stdout",
     "output_type": "stream",
     "text": [
      "              precision    recall  f1-score   support\n",
      "\n",
      "           0       0.69      0.64      0.66       200\n",
      "           1       0.54      0.62      0.58       200\n",
      "           2       0.90      0.83      0.86       200\n",
      "\n",
      "    accuracy                           0.70       600\n",
      "   macro avg       0.71      0.70      0.70       600\n",
      "weighted avg       0.71      0.70      0.70       600\n",
      "\n"
     ]
    }
   ],
   "source": [
    "\n",
    "from sklearn.metrics import classification_report \n",
    "print(classification_report(test.iloc[:,-1], ypred))\n"
   ]
  },
  {
   "cell_type": "code",
   "execution_count": 72,
   "metadata": {},
   "outputs": [
    {
     "name": "stdout",
     "output_type": "stream",
     "text": [
      "accuracy \t 0.715\n"
     ]
    },
    {
     "data": {
      "text/html": [
       "<div>\n",
       "<style scoped>\n",
       "    .dataframe tbody tr th:only-of-type {\n",
       "        vertical-align: middle;\n",
       "    }\n",
       "\n",
       "    .dataframe tbody tr th {\n",
       "        vertical-align: top;\n",
       "    }\n",
       "\n",
       "    .dataframe thead th {\n",
       "        text-align: right;\n",
       "    }\n",
       "</style>\n",
       "<table border=\"1\" class=\"dataframe\">\n",
       "  <thead>\n",
       "    <tr style=\"text-align: right;\">\n",
       "      <th></th>\n",
       "      <th>0</th>\n",
       "      <th>1</th>\n",
       "      <th>2</th>\n",
       "    </tr>\n",
       "  </thead>\n",
       "  <tbody>\n",
       "    <tr>\n",
       "      <th>0</th>\n",
       "      <td>130</td>\n",
       "      <td>67</td>\n",
       "      <td>3</td>\n",
       "    </tr>\n",
       "    <tr>\n",
       "      <th>1</th>\n",
       "      <td>51</td>\n",
       "      <td>134</td>\n",
       "      <td>15</td>\n",
       "    </tr>\n",
       "    <tr>\n",
       "      <th>2</th>\n",
       "      <td>2</td>\n",
       "      <td>33</td>\n",
       "      <td>165</td>\n",
       "    </tr>\n",
       "  </tbody>\n",
       "</table>\n",
       "</div>"
      ],
      "text/plain": [
       "     0    1    2\n",
       "0  130   67    3\n",
       "1   51  134   15\n",
       "2    2   33  165"
      ]
     },
     "execution_count": 72,
     "metadata": {},
     "output_type": "execute_result"
    }
   ],
   "source": [
    "import xgboost as xgb\n",
    "from sklearn import metrics as m\n",
    "xgb_model = xgb.XGBClassifier(objective=\"binary:logistic\", random_state=randomseed)\n",
    "\n",
    "xgb_model.fit(train.iloc[:,3:-2],train.iloc[:,-1])\n",
    "\n",
    "y_pred = xgb_model.predict((test.iloc[:,3:-2]))\n",
    "\n",
    "print('accuracy \\t',m.accuracy_score(test.iloc[:,-1],y_pred))\n",
    "confmatrx=pd.DataFrame(m.confusion_matrix(test.iloc[:,-1],y_pred))\n",
    "confmatrx.head()"
   ]
  },
  {
   "cell_type": "code",
   "execution_count": 73,
   "metadata": {},
   "outputs": [
    {
     "name": "stdout",
     "output_type": "stream",
     "text": [
      "              precision    recall  f1-score   support\n",
      "\n",
      "           0       0.71      0.65      0.68       200\n",
      "           1       0.57      0.67      0.62       200\n",
      "           2       0.90      0.82      0.86       200\n",
      "\n",
      "    accuracy                           0.71       600\n",
      "   macro avg       0.73      0.71      0.72       600\n",
      "weighted avg       0.73      0.71      0.72       600\n",
      "\n"
     ]
    }
   ],
   "source": [
    "print(classification_report(test.iloc[:,-1], y_pred))"
   ]
  },
  {
   "cell_type": "code",
   "execution_count": 74,
   "metadata": {},
   "outputs": [
    {
     "name": "stdout",
     "output_type": "stream",
     "text": [
      "0.6617434580189436\n"
     ]
    },
    {
     "data": {
      "text/html": [
       "<div>\n",
       "<style scoped>\n",
       "    .dataframe tbody tr th:only-of-type {\n",
       "        vertical-align: middle;\n",
       "    }\n",
       "\n",
       "    .dataframe tbody tr th {\n",
       "        vertical-align: top;\n",
       "    }\n",
       "\n",
       "    .dataframe thead th {\n",
       "        text-align: right;\n",
       "    }\n",
       "</style>\n",
       "<table border=\"1\" class=\"dataframe\">\n",
       "  <thead>\n",
       "    <tr style=\"text-align: right;\">\n",
       "      <th></th>\n",
       "      <th>0</th>\n",
       "      <th>1</th>\n",
       "      <th>2</th>\n",
       "    </tr>\n",
       "  </thead>\n",
       "  <tbody>\n",
       "    <tr>\n",
       "      <th>0</th>\n",
       "      <td>5596</td>\n",
       "      <td>2950</td>\n",
       "      <td>34</td>\n",
       "    </tr>\n",
       "    <tr>\n",
       "      <th>1</th>\n",
       "      <td>950</td>\n",
       "      <td>2473</td>\n",
       "      <td>219</td>\n",
       "    </tr>\n",
       "    <tr>\n",
       "      <th>2</th>\n",
       "      <td>4</td>\n",
       "      <td>57</td>\n",
       "      <td>175</td>\n",
       "    </tr>\n",
       "  </tbody>\n",
       "</table>\n",
       "</div>"
      ],
      "text/plain": [
       "      0     1    2\n",
       "0  5596  2950   34\n",
       "1   950  2473  219\n",
       "2     4    57  175"
      ]
     },
     "execution_count": 74,
     "metadata": {},
     "output_type": "execute_result"
    }
   ],
   "source": [
    "# =====================================\n",
    "pred5= rf.predict((data5.iloc[:,3:-2]))\n",
    "\n",
    "print(m.accuracy_score(data5.iloc[:,-1],pred5))\n",
    "\n",
    "confmatrx=pd.DataFrame(m.confusion_matrix(data5.iloc[:,-1],pred5))\n",
    "confmatrx"
   ]
  },
  {
   "cell_type": "code",
   "execution_count": 75,
   "metadata": {},
   "outputs": [
    {
     "name": "stdout",
     "output_type": "stream",
     "text": [
      "              precision    recall  f1-score   support\n",
      "\n",
      "           0       0.85      0.65      0.74      8580\n",
      "           1       0.45      0.68      0.54      3642\n",
      "           2       0.41      0.74      0.53       236\n",
      "\n",
      "    accuracy                           0.66     12458\n",
      "   macro avg       0.57      0.69      0.60     12458\n",
      "weighted avg       0.73      0.66      0.68     12458\n",
      "\n"
     ]
    }
   ],
   "source": [
    "print(classification_report(data5.iloc[:,-1], pred5))"
   ]
  },
  {
   "cell_type": "code",
   "execution_count": null,
   "metadata": {},
   "outputs": [],
   "source": []
  },
  {
   "cell_type": "code",
   "execution_count": null,
   "metadata": {},
   "outputs": [],
   "source": []
  },
  {
   "cell_type": "code",
   "execution_count": null,
   "metadata": {},
   "outputs": [],
   "source": []
  }
 ],
 "metadata": {
  "kernelspec": {
   "display_name": "Python 3",
   "language": "python",
   "name": "python3"
  },
  "language_info": {
   "codemirror_mode": {
    "name": "ipython",
    "version": 3
   },
   "file_extension": ".py",
   "mimetype": "text/x-python",
   "name": "python",
   "nbconvert_exporter": "python",
   "pygments_lexer": "ipython3",
   "version": "3.7.3"
  }
 },
 "nbformat": 4,
 "nbformat_minor": 2
}

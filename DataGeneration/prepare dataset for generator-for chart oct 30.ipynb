{
 "cells": [
  {
   "cell_type": "code",
   "execution_count": 3,
   "metadata": {},
   "outputs": [],
   "source": [
    "\n",
    "import numpy as np\n",
    "import pandas as pd\n",
    "import warnings\n",
    "from sklearn.model_selection import train_test_split\n",
    "from sklearn.ensemble import RandomForestRegressor\n",
    "from sklearn import metrics as m\n",
    "import xgboost as xgb\n",
    "import seaborn as sns\n",
    "\n",
    "warnings.filterwarnings(\"ignore\")\n",
    "random_seed = 8"
   ]
  },
  {
   "cell_type": "code",
   "execution_count": 4,
   "metadata": {},
   "outputs": [],
   "source": [
    "# collected form each main diabetic indicator features regressors\n",
    "cols = np.unique(\n",
    "    [\n",
    "        \"AGE\",\n",
    "        \"FIELD_31\",\n",
    "        \"FIELD_33\",\n",
    "        \"FIELD_38\",\n",
    "        \"FIELD_40\",\n",
    "        \"L100500\",\n",
    "        \"L100700\",\n",
    "        \"L100800\",\n",
    "        \"L101200\",\n",
    "        \"L101300\",\n",
    "        \"L101600\",\n",
    "        \"L101700\",\n",
    "        \"L103000\",\n",
    "        \"L103100\",\n",
    "        \"L103300\",\n",
    "        \"L104600\",\n",
    "        \"L107400\",\n",
    "        \"L190000\",\n",
    "        \"L190300\",\n",
    "        \"L190400\",\n",
    "        \"S000100\",\n",
    "        \"S000300\",\n",
    "        \"S000501\",\n",
    "        \"S000502\",\n",
    "        \"SEX\",\n",
    "        \"FIELD_1\",\n",
    "        \"FIELD_2\",\n",
    "        \"Unnamed: 0\",\n",
    "        \"FIELD_16\",\n",
    "        \"FIELD_23\",\n",
    "        \"FIELD_15\",\n",
    "        \"FIELD_22\",\n",
    "        \"FIELD_17\",\n",
    "        \"FIELD_24\",\n",
    "    ]\n",
    ")"
   ]
  },
  {
   "cell_type": "markdown",
   "metadata": {},
   "source": [
    "Read Dataset\n",
    "===="
   ]
  },
  {
   "cell_type": "code",
   "execution_count": 5,
   "metadata": {},
   "outputs": [],
   "source": [
    "x_original = pd.read_csv(\"../XLable_onlyDiabeticRemoved.txt\")[cols]\n",
    "y_original = pd.read_csv(\"../TargetLable_onlyDiabeticRemoved.txt\")[cols]\n",
    "\n",
    "\n",
    "data = pd.merge(\n",
    "    x_original, y_original, how=\"inner\", left_on=\"Unnamed: 0\", right_on=\"Unnamed: 0\"\n",
    ")"
   ]
  },
  {
   "cell_type": "markdown",
   "metadata": {},
   "source": [
    "Prepare dataset\n",
    "==="
   ]
  },
  {
   "cell_type": "code",
   "execution_count": 6,
   "metadata": {},
   "outputs": [
    {
     "name": "stdout",
     "output_type": "stream",
     "text": [
      "(41525, 67)\n"
     ]
    }
   ],
   "source": [
    "# filter the data set\n",
    "data = data[data.FIELD_16_x != 1]  # exclude people who are diagnosed for (diabetes)\n",
    "data = data[data.FIELD_23_x != 1]  # exclude people who are on medication for diabetes\n",
    "\n",
    "data = data[\n",
    "    data.FIELD_15_x != 1\n",
    "]  # exclude people who are diagnosed for (high blood pressure)\n",
    "data = data[\n",
    "    data.FIELD_22_x != 1\n",
    "]  # exclude people who are on medication for high blood pressure\n",
    "\n",
    "data = data[data.FIELD_17_x != 1]  # exclude people who are diagnosed for hyperlipidemia\n",
    "data = data[\n",
    "    data.FIELD_24_x != 1\n",
    "]  # exclude people who are on medication for hyperlipidemia\n",
    "\n",
    "data = data.dropna()\n",
    "print(data.shape)"
   ]
  },
  {
   "cell_type": "code",
   "execution_count": 7,
   "metadata": {},
   "outputs": [],
   "source": [
    "x = data[\n",
    "    [\n",
    "        \"AGE_x\",\n",
    "        \"FIELD_31_x\",\n",
    "        \"FIELD_33_x\",\n",
    "        \"FIELD_38_x\",\n",
    "        \"FIELD_40_x\",\n",
    "        \"L100500_x\",\n",
    "        \"L100700_x\",\n",
    "        \"L100800_x\",\n",
    "        \"L101200_x\",\n",
    "        \"L101300_x\",\n",
    "        \"L101600_x\",\n",
    "        \"L101700_x\",\n",
    "        \"L103000_x\",\n",
    "        \"L103100_x\",\n",
    "        \"L103300_x\",\n",
    "        \"L104600_x\",\n",
    "        \"L107400_x\",\n",
    "        \"L190000_x\",\n",
    "        \"L190300_x\",\n",
    "        \"L190400_x\",\n",
    "        \"S000100_x\",\n",
    "        \"S000300_x\",\n",
    "        \"S000501_x\",\n",
    "        \"S000502_x\",\n",
    "        \"SEX_x\",\n",
    "        \"FIELD_1_x\",\n",
    "        \"FIELD_2_x\",\n",
    "    ]\n",
    "]\n",
    "\n",
    "y = data[\n",
    "    [\n",
    "        \"AGE_y\",\n",
    "        \"FIELD_31_y\",\n",
    "        \"FIELD_33_y\",\n",
    "        \"FIELD_38_y\",\n",
    "        \"FIELD_40_y\",\n",
    "        \"L100500_y\",\n",
    "        \"L100700_y\",\n",
    "        \"L100800_y\",\n",
    "        \"L101200_y\",\n",
    "        \"L101300_y\",\n",
    "        \"L101600_y\",\n",
    "        \"L101700_y\",\n",
    "        \"L103000_y\",\n",
    "        \"L103100_y\",\n",
    "        \"L103300_y\",\n",
    "        \"L104600_y\",\n",
    "        \"L107400_y\",\n",
    "        \"L190000_y\",\n",
    "        \"L190300_y\",\n",
    "        \"L190400_y\",\n",
    "        \"S000100_y\",\n",
    "        \"S000300_y\",\n",
    "        \"S000501_y\",\n",
    "        \"S000502_y\",\n",
    "        \"SEX_y\",\n",
    "        \"FIELD_1_y\",\n",
    "        \"FIELD_2_y\",\n",
    "    ]\n",
    "]"
   ]
  },
  {
   "cell_type": "code",
   "execution_count": 8,
   "metadata": {},
   "outputs": [],
   "source": [
    "xtrain, xtest, ytrain, ytest = train_test_split(x, y, random_state=42, test_size=0.3)"
   ]
  },
  {
   "cell_type": "markdown",
   "metadata": {},
   "source": [
    "Train Regression Models\n",
    "=========="
   ]
  },
  {
   "cell_type": "markdown",
   "metadata": {},
   "source": [
    "L104600_y # HBA1C\n",
    "===="
   ]
  },
  {
   "cell_type": "code",
   "execution_count": 11,
   "metadata": {},
   "outputs": [
    {
     "name": "stdout",
     "output_type": "stream",
     "text": [
      "r2_score 0.6419151696559172\n"
     ]
    }
   ],
   "source": [
    "regr = RandomForestRegressor(\n",
    "    max_depth=10, random_state=random_seed, verbose=0, n_estimators=300, max_features=4\n",
    ")\n",
    "regr.fit(\n",
    "    xtrain[\n",
    "        [\n",
    "            \"L104600_x\",\n",
    "            \"L100800_x\",\n",
    "            \"S000300_x\",\n",
    "            \"AGE_x\",\n",
    "            \"L101300_x\",\n",
    "            \"S000501_x\",\n",
    "            \"L101700_x\",\n",
    "            \"S000502_x\",\n",
    "            \"L190000_x\",\n",
    "            \"L101600_x\",\n",
    "            \"L190300_x\",\n",
    "        ]\n",
    "    ],\n",
    "    ytrain[[\"L104600_y\"]],\n",
    ")\n",
    "\n",
    "ypred = regr.predict(\n",
    "    xtest[\n",
    "        [\n",
    "            \"L104600_x\",\n",
    "            \"L100800_x\",\n",
    "            \"S000300_x\",\n",
    "            \"AGE_x\",\n",
    "            \"L101300_x\",\n",
    "            \"S000501_x\",\n",
    "            \"L101700_x\",\n",
    "            \"S000502_x\",\n",
    "            \"L190000_x\",\n",
    "            \"L101600_x\",\n",
    "            \"L190300_x\",\n",
    "        ]\n",
    "    ]\n",
    ")\n",
    "\n",
    "print(\"r2_score\", m.r2_score(ytest[[\"L104600_y\"]], ypred))"
   ]
  },
  {
   "cell_type": "code",
   "execution_count": 12,
   "metadata": {},
   "outputs": [
    {
     "data": {
      "text/plain": [
       "(12458,)"
      ]
     },
     "execution_count": 12,
     "metadata": {},
     "output_type": "execute_result"
    }
   ],
   "source": [
    "pred_L104600 = ypred\n",
    "pred_L104600.shape"
   ]
  },
  {
   "cell_type": "code",
   "execution_count": 16,
   "metadata": {},
   "outputs": [
    {
     "data": {
      "image/png": "[encoded data removed]",
      "text/plain": [
       "<Figure size 432x288 with 1 Axes>"
      ]
     },
     "metadata": {
      "needs_background": "light"
     },
     "output_type": "display_data"
    },
    {
     "data": {
      "text/plain": [
       "<matplotlib.collections.PathCollection at 0x1165a1db518>"
      ]
     },
     "execution_count": 16,
     "metadata": {},
     "output_type": "execute_result"
    },
    {
     "data": {
      "image/png": "[encoded data removed]",
      "text/plain": [
       "<Figure size 432x288 with 1 Axes>"
      ]
     },
     "metadata": {
      "needs_background": "light"
     },
     "output_type": "display_data"
    }
   ],
   "source": [
    "from matplotlib import pyplot as plt\n",
    "import matplotlib.patches as mpatches\n",
    "\n",
    "ypredPD=pd.DataFrame() \n",
    "ypredPD['t + 1']=ytest[[\"L104600_y\"]].values.ravel()\n",
    "ypredPD['pred (t +1)']=ypred\n",
    "ypredPD.head(30)\n",
    "\n",
    "import matplotlib.patches as mpatches\n",
    "plt.ylabel('Values')\n",
    "plt.xlabel('index')\n",
    "red_patch = mpatches.Patch(color='red', label='Actual data')\n",
    "blue_patch = mpatches.Patch(color='blue', label='Predicted data')\n",
    "plt.legend(handles=[red_patch,blue_patch])\n",
    "\n",
    "ypredPD=ypredPD.sort_values(by=['t + 1'])\n",
    "plt.scatter(np.arange(0,ypredPD.shape[0],1),ypredPD['pred (t +1)'][:ypredPD.shape[0]])\n",
    "plt.plot(np.arange(0,ypredPD.shape[0],1),ypredPD['t + 1'][:ypredPD.shape[0]],color='red')\n",
    "plt.show()\n",
    "\n",
    "plt.ylabel('p*(t+1), Predicted data')\n",
    "plt.xlabel('p(t+1), Actual data')\n",
    "plt.scatter(ypredPD['t + 1'][:ypredPD.shape[0]],ypredPD['pred (t +1)'][:ypredPD.shape[0]])"
   ]
  },
  {
   "cell_type": "markdown",
   "metadata": {},
   "source": [
    "L103000 #Triglyceride\n",
    "====="
   ]
  },
  {
   "cell_type": "code",
   "execution_count": 29,
   "metadata": {},
   "outputs": [
    {
     "name": "stdout",
     "output_type": "stream",
     "text": [
      "r2_score 0.5207258572160092\n"
     ]
    }
   ],
   "source": [
    "regr = RandomForestRegressor(\n",
    "    max_depth=10, random_state=random_seed, verbose=0, n_estimators=300, max_features=8\n",
    ")\n",
    "regr.fit(\n",
    "    xtrain[\n",
    "        [\n",
    "            \"L103000_x\",\n",
    "            \"L100700_x\",\n",
    "            \"L101700_x\",\n",
    "            \"S000300_x\",\n",
    "            \"S000502_x\",\n",
    "            \"FIELD_33_x\",\n",
    "            \"L190000_x\",\n",
    "            \"L100800_x\",\n",
    "            \"L101600_x\",\n",
    "            \"S000501_x\",\n",
    "        ]\n",
    "    ],\n",
    "    ytrain[[\"L103000_y\"]],\n",
    ")\n",
    "\n",
    "ypred = regr.predict(\n",
    "    xtest[\n",
    "        [\n",
    "            \"L103000_x\",\n",
    "            \"L100700_x\",\n",
    "            \"L101700_x\",\n",
    "            \"S000300_x\",\n",
    "            \"S000502_x\",\n",
    "            \"FIELD_33_x\",\n",
    "            \"L190000_x\",\n",
    "            \"L100800_x\",\n",
    "            \"L101600_x\",\n",
    "            \"S000501_x\",\n",
    "        ]\n",
    "    ]\n",
    ")\n",
    "\n",
    "print(\"r2_score\", m.r2_score(ytest[[\"L103000_y\"]], ypred))"
   ]
  },
  {
   "cell_type": "code",
   "execution_count": 30,
   "metadata": {},
   "outputs": [],
   "source": [
    "pred_L103000 = ypred"
   ]
  },
  {
   "cell_type": "code",
   "execution_count": 31,
   "metadata": {},
   "outputs": [
    {
     "data": {
      "image/png": "[encoded data removed]",
      "text/plain": [
       "<Figure size 432x288 with 1 Axes>"
      ]
     },
     "metadata": {
      "needs_background": "light"
     },
     "output_type": "display_data"
    },
    {
     "data": {
      "text/plain": [
       "<matplotlib.collections.PathCollection at 0x116014505f8>"
      ]
     },
     "execution_count": 31,
     "metadata": {},
     "output_type": "execute_result"
    },
    {
     "data": {
      "image/png": "[encoded data removed]",
      "text/plain": [
       "<Figure size 432x288 with 1 Axes>"
      ]
     },
     "metadata": {
      "needs_background": "light"
     },
     "output_type": "display_data"
    }
   ],
   "source": [
    "from matplotlib import pyplot as plt\n",
    "import matplotlib.patches as mpatches\n",
    "\n",
    "ypredPD=pd.DataFrame() \n",
    "ypredPD['t + 1']=ytest[[\"L103000_y\"]].values.ravel()\n",
    "ypredPD['pred (t +1)']=ypred\n",
    "ypredPD.head(30)\n",
    "\n",
    "import matplotlib.patches as mpatches\n",
    "plt.ylabel('Values')\n",
    "plt.xlabel('index')\n",
    "red_patch = mpatches.Patch(color='red', label='Actual data')\n",
    "blue_patch = mpatches.Patch(color='blue', label='Predicted data')\n",
    "plt.legend(handles=[red_patch,blue_patch])\n",
    "\n",
    "ypredPD=ypredPD.sort_values(by=['t + 1'])\n",
    "plt.scatter(np.arange(0,ypredPD.shape[0],1),ypredPD['pred (t +1)'][:ypredPD.shape[0]])\n",
    "plt.plot(np.arange(0,ypredPD.shape[0],1),ypredPD['t + 1'][:ypredPD.shape[0]],color='red')\n",
    "plt.show()\n",
    "\n",
    "plt.ylabel('p*(t+1), Predicted data')\n",
    "plt.xlabel('p(t+1), Actual data')\n",
    "plt.scatter(ypredPD['t + 1'][:ypredPD.shape[0]],ypredPD['pred (t +1)'][:ypredPD.shape[0]])"
   ]
  },
  {
   "cell_type": "markdown",
   "metadata": {},
   "source": [
    "S000300 #BMI\n",
    "==="
   ]
  },
  {
   "cell_type": "code",
   "execution_count": 34,
   "metadata": {},
   "outputs": [
    {
     "name": "stdout",
     "output_type": "stream",
     "text": [
      "r2_score 0.9098004163279408\n"
     ]
    }
   ],
   "source": [
    "regr = RandomForestRegressor(\n",
    "    max_depth=10, random_state=random_seed, verbose=0, n_estimators=300, max_features=8\n",
    ")\n",
    "regr.fit(\n",
    "    xtrain[\n",
    "        [\n",
    "            \"S000300_x\",\n",
    "            \"L103300_x\",\n",
    "            \"S000501_x\",\n",
    "            \"L100700_x\",\n",
    "            \"SEX_x\",\n",
    "            \"L103100_x\",\n",
    "            \"L190300_x\",\n",
    "            \"L190400_x\",\n",
    "            \"L101300_x\",\n",
    "            \"S000502_x\",\n",
    "        ]\n",
    "    ],\n",
    "    ytrain[[\"S000300_y\"]],\n",
    ")\n",
    "\n",
    "ypred = regr.predict(\n",
    "    xtest[\n",
    "        [\n",
    "            \"S000300_x\",\n",
    "            \"L103300_x\",\n",
    "            \"S000501_x\",\n",
    "            \"L100700_x\",\n",
    "            \"SEX_x\",\n",
    "            \"L103100_x\",\n",
    "            \"L190300_x\",\n",
    "            \"L190400_x\",\n",
    "            \"L101300_x\",\n",
    "            \"S000502_x\",\n",
    "        ]\n",
    "    ]\n",
    ")\n",
    "\n",
    "print(\"r2_score\", m.r2_score(ytest[[\"S000300_y\"]], ypred))"
   ]
  },
  {
   "cell_type": "code",
   "execution_count": 35,
   "metadata": {},
   "outputs": [],
   "source": [
    "pred_S000300 = ypred"
   ]
  },
  {
   "cell_type": "code",
   "execution_count": 36,
   "metadata": {},
   "outputs": [
    {
     "data": {
      "image/png": "[encoded data removed]",
      "text/plain": [
       "<Figure size 432x288 with 1 Axes>"
      ]
     },
     "metadata": {
      "needs_background": "light"
     },
     "output_type": "display_data"
    },
    {
     "data": {
      "text/plain": [
       "<matplotlib.collections.PathCollection at 0x116013eeac8>"
      ]
     },
     "execution_count": 36,
     "metadata": {},
     "output_type": "execute_result"
    },
    {
     "data": {
      "image/png": "[encoded data removed]",
      "text/plain": [
       "<Figure size 432x288 with 1 Axes>"
      ]
     },
     "metadata": {
      "needs_background": "light"
     },
     "output_type": "display_data"
    }
   ],
   "source": [
    "from matplotlib import pyplot as plt\n",
    "import matplotlib.patches as mpatches\n",
    "\n",
    "ypredPD=pd.DataFrame() \n",
    "ypredPD['t + 1']=ytest[[\"S000300_y\"]].values.ravel()\n",
    "ypredPD['pred (t +1)']=ypred\n",
    "ypredPD.head(30)\n",
    "\n",
    "import matplotlib.patches as mpatches\n",
    "plt.ylabel('Values')\n",
    "plt.xlabel('index')\n",
    "red_patch = mpatches.Patch(color='red', label='Actual data')\n",
    "blue_patch = mpatches.Patch(color='blue', label='Predicted data')\n",
    "plt.legend(handles=[red_patch,blue_patch])\n",
    "\n",
    "ypredPD=ypredPD.sort_values(by=['t + 1'])\n",
    "plt.scatter(np.arange(0,ypredPD.shape[0],1),ypredPD['pred (t +1)'][:ypredPD.shape[0]])\n",
    "plt.plot(np.arange(0,ypredPD.shape[0],1),ypredPD['t + 1'][:ypredPD.shape[0]],color='red')\n",
    "plt.show()\n",
    "\n",
    "plt.ylabel('p*(t+1), Predicted data')\n",
    "plt.xlabel('p(t+1), Actual data')\n",
    "plt.scatter(ypredPD['t + 1'][:ypredPD.shape[0]],ypredPD['pred (t +1)'][:ypredPD.shape[0]])"
   ]
  },
  {
   "cell_type": "markdown",
   "metadata": {},
   "source": [
    "L101700 # r-GTP gamma\n",
    "==="
   ]
  },
  {
   "cell_type": "code",
   "execution_count": 37,
   "metadata": {},
   "outputs": [
    {
     "name": "stdout",
     "output_type": "stream",
     "text": [
      "r2_score 0.6944800823709181\n"
     ]
    }
   ],
   "source": [
    "regr = RandomForestRegressor(\n",
    "    max_depth=10, random_state=random_seed, verbose=0, n_estimators=300, max_features=8\n",
    ")\n",
    "regr.fit(\n",
    "    xtrain[\n",
    "        [\n",
    "            \"L101700_x\",\n",
    "            \"L101300_x\",\n",
    "            \"L103000_x\",\n",
    "            \"SEX_x\",\n",
    "            \"L100700_x\",\n",
    "            \"L101200_x\",\n",
    "            \"S000300_x\",\n",
    "            \"S000501_x\",\n",
    "            \"L100800_x\",\n",
    "            \"S000502_x\",\n",
    "            \"L101600_x\",\n",
    "            \"S000100_x\",\n",
    "        ]\n",
    "    ],\n",
    "    ytrain[[\"L101700_y\"]],\n",
    ")\n",
    "\n",
    "ypred = regr.predict(\n",
    "    xtest[\n",
    "        [\n",
    "            \"L101700_x\",\n",
    "            \"L101300_x\",\n",
    "            \"L103000_x\",\n",
    "            \"SEX_x\",\n",
    "            \"L100700_x\",\n",
    "            \"L101200_x\",\n",
    "            \"S000300_x\",\n",
    "            \"S000501_x\",\n",
    "            \"L100800_x\",\n",
    "            \"S000502_x\",\n",
    "            \"L101600_x\",\n",
    "            \"S000100_x\",\n",
    "        ]\n",
    "    ]\n",
    ")\n",
    "\n",
    "print(\"r2_score\", m.r2_score(ytest[[\"L101700_y\"]], ypred))"
   ]
  },
  {
   "cell_type": "code",
   "execution_count": 38,
   "metadata": {},
   "outputs": [],
   "source": [
    "pred_L101700 = ypred"
   ]
  },
  {
   "cell_type": "code",
   "execution_count": 39,
   "metadata": {},
   "outputs": [
    {
     "data": {
      "image/png": "[encoded data removed]",
      "text/plain": [
       "<Figure size 432x288 with 1 Axes>"
      ]
     },
     "metadata": {
      "needs_background": "light"
     },
     "output_type": "display_data"
    },
    {
     "data": {
      "text/plain": [
       "<matplotlib.collections.PathCollection at 0x11601498828>"
      ]
     },
     "execution_count": 39,
     "metadata": {},
     "output_type": "execute_result"
    },
    {
     "data": {
      "image/png": "[encoded data removed]",
      "text/plain": [
       "<Figure size 432x288 with 1 Axes>"
      ]
     },
     "metadata": {
      "needs_background": "light"
     },
     "output_type": "display_data"
    }
   ],
   "source": [
    "from matplotlib import pyplot as plt\n",
    "import matplotlib.patches as mpatches\n",
    "\n",
    "ypredPD=pd.DataFrame() \n",
    "ypredPD['t + 1']=ytest[[\"L101700_y\"]].values.ravel()\n",
    "ypredPD['pred (t +1)']=ypred\n",
    "ypredPD.head(30)\n",
    "\n",
    "import matplotlib.patches as mpatches\n",
    "plt.ylabel('Values')\n",
    "plt.xlabel('index')\n",
    "red_patch = mpatches.Patch(color='red', label='Actual data')\n",
    "blue_patch = mpatches.Patch(color='blue', label='Predicted data')\n",
    "plt.legend(handles=[red_patch,blue_patch])\n",
    "\n",
    "ypredPD=ypredPD.sort_values(by=['t + 1'])\n",
    "plt.scatter(np.arange(0,ypredPD.shape[0],1),ypredPD['pred (t +1)'][:ypredPD.shape[0]])\n",
    "plt.plot(np.arange(0,ypredPD.shape[0],1),ypredPD['t + 1'][:ypredPD.shape[0]],color='red')\n",
    "plt.show()\n",
    "\n",
    "plt.ylabel('p*(t+1), Predicted data')\n",
    "plt.xlabel('p(t+1), Actual data')\n",
    "plt.scatter(ypredPD['t + 1'][:ypredPD.shape[0]],ypredPD['pred (t +1)'][:ypredPD.shape[0]])"
   ]
  },
  {
   "cell_type": "markdown",
   "metadata": {},
   "source": [
    "L100700 #Uric acid\n",
    "===="
   ]
  },
  {
   "cell_type": "code",
   "execution_count": 40,
   "metadata": {},
   "outputs": [
    {
     "name": "stdout",
     "output_type": "stream",
     "text": [
      "r2_score 0.7575763038312331\n"
     ]
    }
   ],
   "source": [
    "regr = RandomForestRegressor(\n",
    "    max_depth=10, random_state=random_seed, verbose=0, n_estimators=300, max_features=8\n",
    ")\n",
    "regr.fit(\n",
    "    xtrain[\n",
    "        [\n",
    "            \"L100700_x\",\n",
    "            \"L100500_x\",\n",
    "            \"S000100_x\",\n",
    "            \"S000300_x\",\n",
    "            \"L103300_x\",\n",
    "            \"L103000_x\",\n",
    "            \"L103100_x\",\n",
    "            \"S000501_x\",\n",
    "            \"L101300_x\",\n",
    "            \"L101700_x\",\n",
    "            \"S000502_x\",\n",
    "            \"L107400_x\",\n",
    "        ]\n",
    "    ],\n",
    "    ytrain[[\"L100700_y\"]],\n",
    ")\n",
    "\n",
    "ypred = regr.predict(\n",
    "    xtest[\n",
    "        [\n",
    "            \"L100700_x\",\n",
    "            \"L100500_x\",\n",
    "            \"S000100_x\",\n",
    "            \"S000300_x\",\n",
    "            \"L103300_x\",\n",
    "            \"L103000_x\",\n",
    "            \"L103100_x\",\n",
    "            \"S000501_x\",\n",
    "            \"L101300_x\",\n",
    "            \"L101700_x\",\n",
    "            \"S000502_x\",\n",
    "            \"L107400_x\",\n",
    "        ]\n",
    "    ]\n",
    ")\n",
    "\n",
    "print(\"r2_score\", m.r2_score(ytest[[\"L100700_y\"]], ypred))"
   ]
  },
  {
   "cell_type": "code",
   "execution_count": 27,
   "metadata": {},
   "outputs": [],
   "source": [
    "pred_L100700 = ypred"
   ]
  },
  {
   "cell_type": "code",
   "execution_count": 41,
   "metadata": {},
   "outputs": [
    {
     "data": {
      "image/png": "[encoded data removed]",
      "text/plain": [
       "<Figure size 432x288 with 1 Axes>"
      ]
     },
     "metadata": {
      "needs_background": "light"
     },
     "output_type": "display_data"
    },
    {
     "data": {
      "text/plain": [
       "<matplotlib.collections.PathCollection at 0x11602f92b00>"
      ]
     },
     "execution_count": 41,
     "metadata": {},
     "output_type": "execute_result"
    },
    {
     "data": {
      "image/png": "[encoded data removed]",
      "text/plain": [
       "<Figure size 432x288 with 1 Axes>"
      ]
     },
     "metadata": {
      "needs_background": "light"
     },
     "output_type": "display_data"
    }
   ],
   "source": [
    "from matplotlib import pyplot as plt\n",
    "import matplotlib.patches as mpatches\n",
    "\n",
    "ypredPD=pd.DataFrame() \n",
    "ypredPD['t + 1']=ytest[[\"L100700_y\"]].values.ravel()\n",
    "ypredPD['pred (t +1)']=ypred\n",
    "ypredPD.head(30)\n",
    "\n",
    "import matplotlib.patches as mpatches\n",
    "plt.ylabel('Values')\n",
    "plt.xlabel('index')\n",
    "red_patch = mpatches.Patch(color='red', label='Actual data')\n",
    "blue_patch = mpatches.Patch(color='blue', label='Predicted data')\n",
    "plt.legend(handles=[red_patch,blue_patch])\n",
    "\n",
    "ypredPD=ypredPD.sort_values(by=['t + 1'])\n",
    "plt.scatter(np.arange(0,ypredPD.shape[0],1),ypredPD['pred (t +1)'][:ypredPD.shape[0]])\n",
    "plt.plot(np.arange(0,ypredPD.shape[0],1),ypredPD['t + 1'][:ypredPD.shape[0]],color='red')\n",
    "plt.show()\n",
    "\n",
    "plt.ylabel('p*(t+1), Predicted data')\n",
    "plt.xlabel('p(t+1), Actual data')\n",
    "plt.scatter(ypredPD['t + 1'][:ypredPD.shape[0]],ypredPD['pred (t +1)'][:ypredPD.shape[0]])"
   ]
  },
  {
   "cell_type": "markdown",
   "metadata": {},
   "source": [
    "Categorical values\n",
    "====="
   ]
  },
  {
   "cell_type": "code",
   "execution_count": 31,
   "metadata": {},
   "outputs": [
    {
     "data": {
      "application/javascript": [
       "\n",
       "            setTimeout(function() {\n",
       "                var nbb_cell_id = 31;\n",
       "                var nbb_formatted_code = \"pred_FIELD_33 = ytest.FIELD_33_y\";\n",
       "                var nbb_cells = Jupyter.notebook.get_cells();\n",
       "                for (var i = 0; i < nbb_cells.length; ++i) {\n",
       "                    if (nbb_cells[i].input_prompt_number == nbb_cell_id) {\n",
       "                        nbb_cells[i].set_text(nbb_formatted_code);\n",
       "                        break;\n",
       "                    }\n",
       "                }\n",
       "            }, 500);\n",
       "            "
      ],
      "text/plain": [
       "<IPython.core.display.Javascript object>"
      ]
     },
     "metadata": {},
     "output_type": "display_data"
    }
   ],
   "source": [
    "pred_FIELD_33 = ytest.FIELD_33_y"
   ]
  },
  {
   "cell_type": "code",
   "execution_count": 32,
   "metadata": {},
   "outputs": [
    {
     "data": {
      "application/javascript": [
       "\n",
       "            setTimeout(function() {\n",
       "                var nbb_cell_id = 32;\n",
       "                var nbb_formatted_code = \"pred_FIELD_38 = ytest.FIELD_38_y\";\n",
       "                var nbb_cells = Jupyter.notebook.get_cells();\n",
       "                for (var i = 0; i < nbb_cells.length; ++i) {\n",
       "                    if (nbb_cells[i].input_prompt_number == nbb_cell_id) {\n",
       "                        nbb_cells[i].set_text(nbb_formatted_code);\n",
       "                        break;\n",
       "                    }\n",
       "                }\n",
       "            }, 500);\n",
       "            "
      ],
      "text/plain": [
       "<IPython.core.display.Javascript object>"
      ]
     },
     "metadata": {},
     "output_type": "display_data"
    }
   ],
   "source": [
    "pred_FIELD_38 = ytest.FIELD_38_y"
   ]
  },
  {
   "cell_type": "code",
   "execution_count": 33,
   "metadata": {},
   "outputs": [
    {
     "data": {
      "application/javascript": [
       "\n",
       "            setTimeout(function() {\n",
       "                var nbb_cell_id = 33;\n",
       "                var nbb_formatted_code = \"pred_FIELD_40 = ytest.FIELD_40_y\";\n",
       "                var nbb_cells = Jupyter.notebook.get_cells();\n",
       "                for (var i = 0; i < nbb_cells.length; ++i) {\n",
       "                    if (nbb_cells[i].input_prompt_number == nbb_cell_id) {\n",
       "                        nbb_cells[i].set_text(nbb_formatted_code);\n",
       "                        break;\n",
       "                    }\n",
       "                }\n",
       "            }, 500);\n",
       "            "
      ],
      "text/plain": [
       "<IPython.core.display.Javascript object>"
      ]
     },
     "metadata": {},
     "output_type": "display_data"
    }
   ],
   "source": [
    "pred_FIELD_40 = ytest.FIELD_40_y"
   ]
  },
  {
   "cell_type": "code",
   "execution_count": 34,
   "metadata": {},
   "outputs": [
    {
     "data": {
      "application/javascript": [
       "\n",
       "            setTimeout(function() {\n",
       "                var nbb_cell_id = 34;\n",
       "                var nbb_formatted_code = \"pred_FIELD_31 = ytest.FIELD_31_y\";\n",
       "                var nbb_cells = Jupyter.notebook.get_cells();\n",
       "                for (var i = 0; i < nbb_cells.length; ++i) {\n",
       "                    if (nbb_cells[i].input_prompt_number == nbb_cell_id) {\n",
       "                        nbb_cells[i].set_text(nbb_formatted_code);\n",
       "                        break;\n",
       "                    }\n",
       "                }\n",
       "            }, 500);\n",
       "            "
      ],
      "text/plain": [
       "<IPython.core.display.Javascript object>"
      ]
     },
     "metadata": {},
     "output_type": "display_data"
    }
   ],
   "source": [
    "pred_FIELD_31 = ytest.FIELD_31_y"
   ]
  },
  {
   "cell_type": "code",
   "execution_count": 35,
   "metadata": {},
   "outputs": [
    {
     "data": {
      "application/javascript": [
       "\n",
       "            setTimeout(function() {\n",
       "                var nbb_cell_id = 35;\n",
       "                var nbb_formatted_code = \"pred_SEX = ytest.SEX_y\";\n",
       "                var nbb_cells = Jupyter.notebook.get_cells();\n",
       "                for (var i = 0; i < nbb_cells.length; ++i) {\n",
       "                    if (nbb_cells[i].input_prompt_number == nbb_cell_id) {\n",
       "                        nbb_cells[i].set_text(nbb_formatted_code);\n",
       "                        break;\n",
       "                    }\n",
       "                }\n",
       "            }, 500);\n",
       "            "
      ],
      "text/plain": [
       "<IPython.core.display.Javascript object>"
      ]
     },
     "metadata": {},
     "output_type": "display_data"
    }
   ],
   "source": [
    "pred_SEX = ytest.SEX_y"
   ]
  },
  {
   "cell_type": "code",
   "execution_count": 36,
   "metadata": {},
   "outputs": [
    {
     "data": {
      "application/javascript": [
       "\n",
       "            setTimeout(function() {\n",
       "                var nbb_cell_id = 36;\n",
       "                var nbb_formatted_code = \"pred_AGE = ytest.AGE_y + 1\";\n",
       "                var nbb_cells = Jupyter.notebook.get_cells();\n",
       "                for (var i = 0; i < nbb_cells.length; ++i) {\n",
       "                    if (nbb_cells[i].input_prompt_number == nbb_cell_id) {\n",
       "                        nbb_cells[i].set_text(nbb_formatted_code);\n",
       "                        break;\n",
       "                    }\n",
       "                }\n",
       "            }, 500);\n",
       "            "
      ],
      "text/plain": [
       "<IPython.core.display.Javascript object>"
      ]
     },
     "metadata": {},
     "output_type": "display_data"
    }
   ],
   "source": [
    "pred_AGE = ytest.AGE_y + 1"
   ]
  },
  {
   "cell_type": "markdown",
   "metadata": {},
   "source": [
    "Combine the predicted values to make dataframe\n",
    "===="
   ]
  },
  {
   "cell_type": "code",
   "execution_count": 56,
   "metadata": {},
   "outputs": [
    {
     "data": {
      "text/html": [
       "<div>\n",
       "<style scoped>\n",
       "    .dataframe tbody tr th:only-of-type {\n",
       "        vertical-align: middle;\n",
       "    }\n",
       "\n",
       "    .dataframe tbody tr th {\n",
       "        vertical-align: top;\n",
       "    }\n",
       "\n",
       "    .dataframe thead th {\n",
       "        text-align: right;\n",
       "    }\n",
       "</style>\n",
       "<table border=\"1\" class=\"dataframe\">\n",
       "  <thead>\n",
       "    <tr style=\"text-align: right;\">\n",
       "      <th></th>\n",
       "      <th>P_FIELD_1</th>\n",
       "      <th>P_FIELD_2</th>\n",
       "      <th>P_L104600</th>\n",
       "      <th>P_L103000</th>\n",
       "      <th>P_S000300</th>\n",
       "      <th>P_L101700</th>\n",
       "      <th>P_L100700</th>\n",
       "      <th>P_FIELD_33</th>\n",
       "      <th>P_FIELD_38</th>\n",
       "      <th>P_FIELD_40</th>\n",
       "      <th>P_FIELD_31</th>\n",
       "      <th>P_SEX</th>\n",
       "      <th>P_AGE</th>\n",
       "      <th>A_L100800</th>\n",
       "      <th>A_CLASS</th>\n",
       "    </tr>\n",
       "  </thead>\n",
       "  <tbody>\n",
       "    <tr>\n",
       "      <th>0</th>\n",
       "      <td>2461167</td>\n",
       "      <td>20150819</td>\n",
       "      <td>5.402485</td>\n",
       "      <td>261.775799</td>\n",
       "      <td>27.312744</td>\n",
       "      <td>18.998256</td>\n",
       "      <td>6.963664</td>\n",
       "      <td>1.0</td>\n",
       "      <td>1.0</td>\n",
       "      <td>3.0</td>\n",
       "      <td>0.0</td>\n",
       "      <td>0.0</td>\n",
       "      <td>39.0</td>\n",
       "      <td>89.0</td>\n",
       "      <td>0</td>\n",
       "    </tr>\n",
       "    <tr>\n",
       "      <th>1</th>\n",
       "      <td>557666</td>\n",
       "      <td>20161230</td>\n",
       "      <td>5.348863</td>\n",
       "      <td>131.973577</td>\n",
       "      <td>24.563304</td>\n",
       "      <td>27.170484</td>\n",
       "      <td>6.097580</td>\n",
       "      <td>2.0</td>\n",
       "      <td>2.0</td>\n",
       "      <td>0.0</td>\n",
       "      <td>0.0</td>\n",
       "      <td>0.0</td>\n",
       "      <td>37.0</td>\n",
       "      <td>101.0</td>\n",
       "      <td>1</td>\n",
       "    </tr>\n",
       "    <tr>\n",
       "      <th>2</th>\n",
       "      <td>2560579</td>\n",
       "      <td>20150727</td>\n",
       "      <td>5.423695</td>\n",
       "      <td>88.339654</td>\n",
       "      <td>26.200620</td>\n",
       "      <td>30.028523</td>\n",
       "      <td>5.210947</td>\n",
       "      <td>3.0</td>\n",
       "      <td>1.0</td>\n",
       "      <td>0.0</td>\n",
       "      <td>1.0</td>\n",
       "      <td>0.0</td>\n",
       "      <td>44.0</td>\n",
       "      <td>102.0</td>\n",
       "      <td>1</td>\n",
       "    </tr>\n",
       "    <tr>\n",
       "      <th>3</th>\n",
       "      <td>792860</td>\n",
       "      <td>20151120</td>\n",
       "      <td>5.353395</td>\n",
       "      <td>87.950718</td>\n",
       "      <td>21.165480</td>\n",
       "      <td>85.286946</td>\n",
       "      <td>3.758306</td>\n",
       "      <td>1.0</td>\n",
       "      <td>1.0</td>\n",
       "      <td>0.0</td>\n",
       "      <td>0.0</td>\n",
       "      <td>1.0</td>\n",
       "      <td>43.0</td>\n",
       "      <td>92.0</td>\n",
       "      <td>0</td>\n",
       "    </tr>\n",
       "    <tr>\n",
       "      <th>4</th>\n",
       "      <td>823373</td>\n",
       "      <td>20150314</td>\n",
       "      <td>5.458354</td>\n",
       "      <td>89.535733</td>\n",
       "      <td>29.021627</td>\n",
       "      <td>22.607522</td>\n",
       "      <td>5.825629</td>\n",
       "      <td>3.0</td>\n",
       "      <td>3.0</td>\n",
       "      <td>2.0</td>\n",
       "      <td>0.0</td>\n",
       "      <td>0.0</td>\n",
       "      <td>44.0</td>\n",
       "      <td>91.0</td>\n",
       "      <td>0</td>\n",
       "    </tr>\n",
       "  </tbody>\n",
       "</table>\n",
       "</div>"
      ],
      "text/plain": [
       "   P_FIELD_1  P_FIELD_2  P_L104600   P_L103000  P_S000300  P_L101700  \\\n",
       "0    2461167   20150819   5.402485  261.775799  27.312744  18.998256   \n",
       "1     557666   20161230   5.348863  131.973577  24.563304  27.170484   \n",
       "2    2560579   20150727   5.423695   88.339654  26.200620  30.028523   \n",
       "3     792860   20151120   5.353395   87.950718  21.165480  85.286946   \n",
       "4     823373   20150314   5.458354   89.535733  29.021627  22.607522   \n",
       "\n",
       "   P_L100700  P_FIELD_33  P_FIELD_38  P_FIELD_40  P_FIELD_31  P_SEX  P_AGE  \\\n",
       "0   6.963664         1.0         1.0         3.0         0.0    0.0   39.0   \n",
       "1   6.097580         2.0         2.0         0.0         0.0    0.0   37.0   \n",
       "2   5.210947         3.0         1.0         0.0         1.0    0.0   44.0   \n",
       "3   3.758306         1.0         1.0         0.0         0.0    1.0   43.0   \n",
       "4   5.825629         3.0         3.0         2.0         0.0    0.0   44.0   \n",
       "\n",
       "   A_L100800  A_CLASS  \n",
       "0       89.0        0  \n",
       "1      101.0        1  \n",
       "2      102.0        1  \n",
       "3       92.0        0  \n",
       "4       91.0        0  "
      ]
     },
     "execution_count": 56,
     "metadata": {},
     "output_type": "execute_result"
    },
    {
     "data": {
      "application/javascript": [
       "\n",
       "            setTimeout(function() {\n",
       "                var nbb_cell_id = 56;\n",
       "                var nbb_formatted_code = \"NextYearData = pd.DataFrame()\\nNextYearData[\\\"P_FIELD_1\\\"] = ytest.FIELD_1_y.values\\nNextYearData[\\\"P_FIELD_2\\\"] = ytest.FIELD_2_y.values\\nNextYearData[\\\"P_L104600\\\"] = pred_L104600\\nNextYearData[\\\"P_L103000\\\"] = pred_L103000\\nNextYearData[\\\"P_S000300\\\"] = pred_S000300\\nNextYearData[\\\"P_L101700\\\"] = pred_L101700\\nNextYearData[\\\"P_L100700\\\"] = pred_L100700\\nNextYearData[\\\"P_FIELD_33\\\"] = pred_FIELD_33.values\\nNextYearData[\\\"P_FIELD_38\\\"] = pred_FIELD_38.values\\nNextYearData[\\\"P_FIELD_40\\\"] = pred_FIELD_40.values\\nNextYearData[\\\"P_FIELD_31\\\"] = pred_FIELD_31.values\\nNextYearData[\\\"P_SEX\\\"] = pred_SEX.values\\nNextYearData[\\\"P_AGE\\\"] = pred_AGE.values\\n\\nNextYearData[\\\"P_AGE\\\"] = pred_AGE.values\\nNextYearData[\\\"P_AGE\\\"] = pred_AGE.values\\n\\n\\nNextYearData[\\\"A_L100800\\\"] = ytest.L100800_y.values\\n\\nconditions = [\\n    (NextYearData.A_L100800 < 100),\\n    (NextYearData.A_L100800 >= 100) & (NextYearData.A_L100800 < 126),\\n    (NextYearData.A_L100800 >= 126),\\n]\\nchoices = [0, 1, 2]\\nNextYearData[\\\"A_CLASS\\\"] = np.select(conditions, choices, default=0)\\nNextYearData.head()\";\n",
       "                var nbb_cells = Jupyter.notebook.get_cells();\n",
       "                for (var i = 0; i < nbb_cells.length; ++i) {\n",
       "                    if (nbb_cells[i].input_prompt_number == nbb_cell_id) {\n",
       "                        nbb_cells[i].set_text(nbb_formatted_code);\n",
       "                        break;\n",
       "                    }\n",
       "                }\n",
       "            }, 500);\n",
       "            "
      ],
      "text/plain": [
       "<IPython.core.display.Javascript object>"
      ]
     },
     "metadata": {},
     "output_type": "display_data"
    }
   ],
   "source": [
    "NextYearData = pd.DataFrame()\n",
    "NextYearData[\"P_FIELD_1\"] = ytest.FIELD_1_y.values\n",
    "NextYearData[\"P_FIELD_2\"] = ytest.FIELD_2_y.values\n",
    "NextYearData[\"P_L104600\"] = pred_L104600\n",
    "NextYearData[\"P_L103000\"] = pred_L103000\n",
    "NextYearData[\"P_S000300\"] = pred_S000300\n",
    "NextYearData[\"P_L101700\"] = pred_L101700\n",
    "NextYearData[\"P_L100700\"] = pred_L100700\n",
    "NextYearData[\"P_FIELD_33\"] = pred_FIELD_33.values\n",
    "NextYearData[\"P_FIELD_38\"] = pred_FIELD_38.values\n",
    "NextYearData[\"P_FIELD_40\"] = pred_FIELD_40.values\n",
    "NextYearData[\"P_FIELD_31\"] = pred_FIELD_31.values\n",
    "NextYearData[\"P_SEX\"] = pred_SEX.values\n",
    "NextYearData[\"P_AGE\"] = pred_AGE.values\n",
    "\n",
    "NextYearData[\"P_AGE\"] = pred_AGE.values\n",
    "NextYearData[\"P_AGE\"] = pred_AGE.values\n",
    "\n",
    "\n",
    "NextYearData[\"A_L100800\"] = ytest.L100800_y.values\n",
    "\n",
    "conditions = [\n",
    "    (NextYearData.A_L100800 < 100),\n",
    "    (NextYearData.A_L100800 >= 100) & (NextYearData.A_L100800 < 126),\n",
    "    (NextYearData.A_L100800 >= 126),\n",
    "]\n",
    "choices = [0, 1, 2]\n",
    "NextYearData[\"A_CLASS\"] = np.select(conditions, choices, default=0)\n",
    "NextYearData.head()"
   ]
  },
  {
   "cell_type": "code",
   "execution_count": 57,
   "metadata": {},
   "outputs": [
    {
     "data": {
      "application/javascript": [
       "\n",
       "            setTimeout(function() {\n",
       "                var nbb_cell_id = 57;\n",
       "                var nbb_formatted_code = \"NextYearData.to_csv(\\\"Predicted_NextYearData.txt\\\", sep=\\\",\\\")\";\n",
       "                var nbb_cells = Jupyter.notebook.get_cells();\n",
       "                for (var i = 0; i < nbb_cells.length; ++i) {\n",
       "                    if (nbb_cells[i].input_prompt_number == nbb_cell_id) {\n",
       "                        nbb_cells[i].set_text(nbb_formatted_code);\n",
       "                        break;\n",
       "                    }\n",
       "                }\n",
       "            }, 500);\n",
       "            "
      ],
      "text/plain": [
       "<IPython.core.display.Javascript object>"
      ]
     },
     "metadata": {},
     "output_type": "display_data"
    }
   ],
   "source": [
    "NextYearData.to_csv(\"Predicted_NextYearData.txt\", sep=\",\")"
   ]
  },
  {
   "cell_type": "markdown",
   "metadata": {},
   "source": [
    "==============================================\n",
    "=========="
   ]
  },
  {
   "cell_type": "code",
   "execution_count": 59,
   "metadata": {},
   "outputs": [
    {
     "data": {
      "application/javascript": [
       "\n",
       "            setTimeout(function() {\n",
       "                var nbb_cell_id = 59;\n",
       "                var nbb_formatted_code = \"# select the actual next year values\\n\\nNextYearData_actualData = pd.DataFrame()\\nNextYearData_actualData[\\\"FIELD_1\\\"] = ytest.FIELD_1_y.values\\nNextYearData_actualData[\\\"FIELD_2\\\"] = ytest.FIELD_2_y.values\\nNextYearData_actualData[\\\"L104600\\\"] = ytest.L104600_y.values\\nNextYearData_actualData[\\\"L103000\\\"] = ytest.L103000_y.values\\nNextYearData_actualData[\\\"S000300\\\"] = ytest.S000300_y.values\\nNextYearData_actualData[\\\"L101700\\\"] = ytest.L101700_y.values\\nNextYearData_actualData[\\\"L100700\\\"] = ytest.L100700_y.values\\nNextYearData_actualData[\\\"FIELD_33\\\"] = ytest.FIELD_33_y.values\\nNextYearData_actualData[\\\"FIELD_38\\\"] = ytest.FIELD_38_y.values\\nNextYearData_actualData[\\\"FIELD_40\\\"] = ytest.FIELD_40_y.values\\nNextYearData_actualData[\\\"FIELD_31\\\"] = ytest.FIELD_31_y.values\\nNextYearData_actualData[\\\"SEX\\\"] = ytest.SEX_y.values\\nNextYearData_actualData[\\\"AGE\\\"] = ytest.AGE_y.values\\n\\nNextYearData_actualData[\\\"L100800\\\"] = ytest.L100800_y.values\\n\\nconditions = [\\n    (NextYearData_actualData.L100800 < 100),\\n    (NextYearData_actualData.L100800 >= 100) & (NextYearData_actualData.L100800 < 126),\\n    (NextYearData_actualData.L100800 >= 126),\\n]\\nchoices = [0, 1, 2]\\nNextYearData_actualData[\\\"CLASS\\\"] = np.select(conditions, choices, default=0)\\nNextYearData_actualData.head()\\n\\nNextYearData_actualData.to_csv(\\\"NextYearData_actualData.txt\\\", sep=\\\",\\\")\";\n",
       "                var nbb_cells = Jupyter.notebook.get_cells();\n",
       "                for (var i = 0; i < nbb_cells.length; ++i) {\n",
       "                    if (nbb_cells[i].input_prompt_number == nbb_cell_id) {\n",
       "                        nbb_cells[i].set_text(nbb_formatted_code);\n",
       "                        break;\n",
       "                    }\n",
       "                }\n",
       "            }, 500);\n",
       "            "
      ],
      "text/plain": [
       "<IPython.core.display.Javascript object>"
      ]
     },
     "metadata": {},
     "output_type": "display_data"
    }
   ],
   "source": [
    "# select the actual next year values\n",
    "\n",
    "NextYearData_actualData = pd.DataFrame()\n",
    "NextYearData_actualData[\"FIELD_1\"] = ytest.FIELD_1_y.values\n",
    "NextYearData_actualData[\"FIELD_2\"] = ytest.FIELD_2_y.values\n",
    "NextYearData_actualData[\"L104600\"] = ytest.L104600_y.values\n",
    "NextYearData_actualData[\"L103000\"] = ytest.L103000_y.values\n",
    "NextYearData_actualData[\"S000300\"] = ytest.S000300_y.values\n",
    "NextYearData_actualData[\"L101700\"] = ytest.L101700_y.values\n",
    "NextYearData_actualData[\"L100700\"] = ytest.L100700_y.values\n",
    "NextYearData_actualData[\"FIELD_33\"] = ytest.FIELD_33_y.values\n",
    "NextYearData_actualData[\"FIELD_38\"] = ytest.FIELD_38_y.values\n",
    "NextYearData_actualData[\"FIELD_40\"] = ytest.FIELD_40_y.values\n",
    "NextYearData_actualData[\"FIELD_31\"] = ytest.FIELD_31_y.values\n",
    "NextYearData_actualData[\"SEX\"] = ytest.SEX_y.values\n",
    "NextYearData_actualData[\"AGE\"] = ytest.AGE_y.values\n",
    "\n",
    "NextYearData_actualData[\"L100800\"] = ytest.L100800_y.values\n",
    "\n",
    "conditions = [\n",
    "    (NextYearData_actualData.L100800 < 100),\n",
    "    (NextYearData_actualData.L100800 >= 100) & (NextYearData_actualData.L100800 < 126),\n",
    "    (NextYearData_actualData.L100800 >= 126),\n",
    "]\n",
    "choices = [0, 1, 2]\n",
    "NextYearData_actualData[\"CLASS\"] = np.select(conditions, choices, default=0)\n",
    "NextYearData_actualData.head()\n",
    "\n",
    "NextYearData_actualData.to_csv(\"NextYearData_actualData.txt\", sep=\",\")"
   ]
  },
  {
   "cell_type": "markdown",
   "metadata": {},
   "source": [
    "==========================================================\n",
    "==="
   ]
  },
  {
   "cell_type": "code",
   "execution_count": 62,
   "metadata": {},
   "outputs": [
    {
     "data": {
      "application/javascript": [
       "\n",
       "            setTimeout(function() {\n",
       "                var nbb_cell_id = 62;\n",
       "                var nbb_formatted_code = \"# select the actual this year values\\n\\nThisYearData_actualData = pd.DataFrame()\\nThisYearData_actualData[\\\"FIELD_1\\\"] = xtest.FIELD_1_x.values\\nThisYearData_actualData[\\\"FIELD_2\\\"] = xtest.FIELD_2_x.values\\nThisYearData_actualData[\\\"L104600\\\"] = xtest.L104600_x.values\\nThisYearData_actualData[\\\"L103000\\\"] = xtest.L103000_x.values\\nThisYearData_actualData[\\\"S000300\\\"] = xtest.S000300_x.values\\nThisYearData_actualData[\\\"L101700\\\"] = xtest.L101700_x.values\\nThisYearData_actualData[\\\"L100700\\\"] = xtest.L100700_x.values\\nThisYearData_actualData[\\\"FIELD_33\\\"] = xtest.FIELD_33_x.values\\nThisYearData_actualData[\\\"FIELD_38\\\"] = xtest.FIELD_38_x.values\\nThisYearData_actualData[\\\"FIELD_40\\\"] = xtest.FIELD_40_x.values\\nThisYearData_actualData[\\\"FIELD_31\\\"] = xtest.FIELD_31_x.values\\nThisYearData_actualData[\\\"SEX\\\"] = xtest.SEX_x.values\\nThisYearData_actualData[\\\"AGE\\\"] = xtest.AGE_x.values\\nThisYearData_actualData[\\\"L100800\\\"] = xtest.L100800_x.values\\n\\nconditions = [\\n    (ThisYearData_actualData.L100800 < 100),\\n    (ThisYearData_actualData.L100800 >= 100) & (ThisYearData_actualData.L100800 < 126),\\n    (ThisYearData_actualData.L100800 >= 126),\\n]\\nchoices = [0, 1, 2]\\nThisYearData_actualData[\\\"CLASS\\\"] = np.select(conditions, choices, default=0)\\nThisYearData_actualData.head()\\n\\nThisYearData_actualData.to_csv(\\\"ThisYearData_actualData.txt\\\", sep=\\\",\\\")\";\n",
       "                var nbb_cells = Jupyter.notebook.get_cells();\n",
       "                for (var i = 0; i < nbb_cells.length; ++i) {\n",
       "                    if (nbb_cells[i].input_prompt_number == nbb_cell_id) {\n",
       "                        nbb_cells[i].set_text(nbb_formatted_code);\n",
       "                        break;\n",
       "                    }\n",
       "                }\n",
       "            }, 500);\n",
       "            "
      ],
      "text/plain": [
       "<IPython.core.display.Javascript object>"
      ]
     },
     "metadata": {},
     "output_type": "display_data"
    }
   ],
   "source": [
    "# select the actual this year values\n",
    "\n",
    "ThisYearData_actualData = pd.DataFrame()\n",
    "ThisYearData_actualData[\"FIELD_1\"] = xtest.FIELD_1_x.values\n",
    "ThisYearData_actualData[\"FIELD_2\"] = xtest.FIELD_2_x.values\n",
    "ThisYearData_actualData[\"L104600\"] = xtest.L104600_x.values\n",
    "ThisYearData_actualData[\"L103000\"] = xtest.L103000_x.values\n",
    "ThisYearData_actualData[\"S000300\"] = xtest.S000300_x.values\n",
    "ThisYearData_actualData[\"L101700\"] = xtest.L101700_x.values\n",
    "ThisYearData_actualData[\"L100700\"] = xtest.L100700_x.values\n",
    "ThisYearData_actualData[\"FIELD_33\"] = xtest.FIELD_33_x.values\n",
    "ThisYearData_actualData[\"FIELD_38\"] = xtest.FIELD_38_x.values\n",
    "ThisYearData_actualData[\"FIELD_40\"] = xtest.FIELD_40_x.values\n",
    "ThisYearData_actualData[\"FIELD_31\"] = xtest.FIELD_31_x.values\n",
    "ThisYearData_actualData[\"SEX\"] = xtest.SEX_x.values\n",
    "ThisYearData_actualData[\"AGE\"] = xtest.AGE_x.values\n",
    "ThisYearData_actualData[\"L100800\"] = xtest.L100800_x.values\n",
    "\n",
    "conditions = [\n",
    "    (ThisYearData_actualData.L100800 < 100),\n",
    "    (ThisYearData_actualData.L100800 >= 100) & (ThisYearData_actualData.L100800 < 126),\n",
    "    (ThisYearData_actualData.L100800 >= 126),\n",
    "]\n",
    "choices = [0, 1, 2]\n",
    "ThisYearData_actualData[\"CLASS\"] = np.select(conditions, choices, default=0)\n",
    "ThisYearData_actualData.head()\n",
    "\n",
    "ThisYearData_actualData.to_csv(\"ThisYearData_actualData.txt\", sep=\",\")"
   ]
  },
  {
   "cell_type": "markdown",
   "metadata": {},
   "source": [
    "============================================\n",
    "========="
   ]
  },
  {
   "cell_type": "code",
   "execution_count": 64,
   "metadata": {},
   "outputs": [
    {
     "data": {
      "application/javascript": [
       "\n",
       "            setTimeout(function() {\n",
       "                var nbb_cell_id = 64;\n",
       "                var nbb_formatted_code = \"# select the actual next year values train\\n\\nNextYearData_actualData_train = pd.DataFrame()\\nNextYearData_actualData_train[\\\"FIELD_1\\\"] = ytrain.FIELD_1_y.values\\nNextYearData_actualData_train[\\\"FIELD_2\\\"] = ytrain.FIELD_2_y.values\\nNextYearData_actualData_train[\\\"L104600\\\"] = ytrain.L104600_y.values\\nNextYearData_actualData_train[\\\"L103000\\\"] = ytrain.L103000_y.values\\nNextYearData_actualData_train[\\\"S000300\\\"] = ytrain.S000300_y.values\\nNextYearData_actualData_train[\\\"L101700\\\"] = ytrain.L101700_y.values\\nNextYearData_actualData_train[\\\"L100700\\\"] = ytrain.L100700_y.values\\nNextYearData_actualData_train[\\\"FIELD_33\\\"] = ytrain.FIELD_33_y.values\\nNextYearData_actualData_train[\\\"FIELD_38\\\"] = ytrain.FIELD_38_y.values\\nNextYearData_actualData_train[\\\"FIELD_40\\\"] = ytrain.FIELD_40_y.values\\nNextYearData_actualData_train[\\\"FIELD_31\\\"] = ytrain.FIELD_31_y.values\\nNextYearData_actualData_train[\\\"SEX\\\"] = ytrain.SEX_y.values\\nNextYearData_actualData_train[\\\"AGE\\\"] = ytrain.AGE_y.values\\n\\nNextYearData_actualData_train[\\\"L100800\\\"] = ytrain.L100800_y.values\\n\\nconditions = [\\n    (NextYearData_actualData_train.L100800 < 100),\\n    (NextYearData_actualData_train.L100800 >= 100)\\n    & (NextYearData_actualData_train.L100800 < 126),\\n    (NextYearData_actualData_train.L100800 >= 126),\\n]\\nchoices = [0, 1, 2]\\nNextYearData_actualData_train[\\\"CLASS\\\"] = np.select(conditions, choices, default=0)\\nNextYearData_actualData_train.head()\\n\\nNextYearData_actualData_train.to_csv(\\\"NextYearData_actualData_train.txt\\\", sep=\\\",\\\")\";\n",
       "                var nbb_cells = Jupyter.notebook.get_cells();\n",
       "                for (var i = 0; i < nbb_cells.length; ++i) {\n",
       "                    if (nbb_cells[i].input_prompt_number == nbb_cell_id) {\n",
       "                        nbb_cells[i].set_text(nbb_formatted_code);\n",
       "                        break;\n",
       "                    }\n",
       "                }\n",
       "            }, 500);\n",
       "            "
      ],
      "text/plain": [
       "<IPython.core.display.Javascript object>"
      ]
     },
     "metadata": {},
     "output_type": "display_data"
    }
   ],
   "source": [
    "# select the actual next year values train\n",
    "\n",
    "NextYearData_actualData_train = pd.DataFrame()\n",
    "NextYearData_actualData_train[\"FIELD_1\"] = ytrain.FIELD_1_y.values\n",
    "NextYearData_actualData_train[\"FIELD_2\"] = ytrain.FIELD_2_y.values\n",
    "NextYearData_actualData_train[\"L104600\"] = ytrain.L104600_y.values\n",
    "NextYearData_actualData_train[\"L103000\"] = ytrain.L103000_y.values\n",
    "NextYearData_actualData_train[\"S000300\"] = ytrain.S000300_y.values\n",
    "NextYearData_actualData_train[\"L101700\"] = ytrain.L101700_y.values\n",
    "NextYearData_actualData_train[\"L100700\"] = ytrain.L100700_y.values\n",
    "NextYearData_actualData_train[\"FIELD_33\"] = ytrain.FIELD_33_y.values\n",
    "NextYearData_actualData_train[\"FIELD_38\"] = ytrain.FIELD_38_y.values\n",
    "NextYearData_actualData_train[\"FIELD_40\"] = ytrain.FIELD_40_y.values\n",
    "NextYearData_actualData_train[\"FIELD_31\"] = ytrain.FIELD_31_y.values\n",
    "NextYearData_actualData_train[\"SEX\"] = ytrain.SEX_y.values\n",
    "NextYearData_actualData_train[\"AGE\"] = ytrain.AGE_y.values\n",
    "\n",
    "NextYearData_actualData_train[\"L100800\"] = ytrain.L100800_y.values\n",
    "\n",
    "conditions = [\n",
    "    (NextYearData_actualData_train.L100800 < 100),\n",
    "    (NextYearData_actualData_train.L100800 >= 100)\n",
    "    & (NextYearData_actualData_train.L100800 < 126),\n",
    "    (NextYearData_actualData_train.L100800 >= 126),\n",
    "]\n",
    "choices = [0, 1, 2]\n",
    "NextYearData_actualData_train[\"CLASS\"] = np.select(conditions, choices, default=0)\n",
    "NextYearData_actualData_train.head()\n",
    "\n",
    "NextYearData_actualData_train.to_csv(\"NextYearData_actualData_train.txt\", sep=\",\")"
   ]
  },
  {
   "cell_type": "markdown",
   "metadata": {},
   "source": [
    "=================================================\n",
    "=============="
   ]
  },
  {
   "cell_type": "code",
   "execution_count": 65,
   "metadata": {},
   "outputs": [
    {
     "data": {
      "application/javascript": [
       "\n",
       "            setTimeout(function() {\n",
       "                var nbb_cell_id = 65;\n",
       "                var nbb_formatted_code = \"# select the actual this year values train\\n\\nThisYearData_actualData_train = pd.DataFrame()\\nThisYearData_actualData_train[\\\"FIELD_1\\\"] = xtrain.FIELD_1_x.values\\nThisYearData_actualData_train[\\\"FIELD_2\\\"] = xtrain.FIELD_2_x.values\\nThisYearData_actualData_train[\\\"L104600\\\"] = xtrain.L104600_x.values\\nThisYearData_actualData_train[\\\"L103000\\\"] = xtrain.L103000_x.values\\nThisYearData_actualData_train[\\\"S000300\\\"] = xtrain.S000300_x.values\\nThisYearData_actualData_train[\\\"L101700\\\"] = xtrain.L101700_x.values\\nThisYearData_actualData_train[\\\"L100700\\\"] = xtrain.L100700_x.values\\nThisYearData_actualData_train[\\\"FIELD_33\\\"] = xtrain.FIELD_33_x.values\\nThisYearData_actualData_train[\\\"FIELD_38\\\"] = xtrain.FIELD_38_x.values\\nThisYearData_actualData_train[\\\"FIELD_40\\\"] = xtrain.FIELD_40_x.values\\nThisYearData_actualData_train[\\\"FIELD_31\\\"] = xtrain.FIELD_31_x.values\\nThisYearData_actualData_train[\\\"SEX\\\"] = xtrain.SEX_x.values\\nThisYearData_actualData_train[\\\"AGE\\\"] = xtrain.AGE_x.values\\nThisYearData_actualData_train[\\\"L100800\\\"] = xtrain.L100800_x.values\\n\\nconditions = [\\n    (ThisYearData_actualData_train.L100800 < 100),\\n    (ThisYearData_actualData_train.L100800 >= 100)\\n    & (ThisYearData_actualData_train.L100800 < 126),\\n    (ThisYearData_actualData_train.L100800 >= 126),\\n]\\nchoices = [0, 1, 2]\\nThisYearData_actualData_train[\\\"CLASS\\\"] = np.select(conditions, choices, default=0)\\nThisYearData_actualData_train.head()\\n\\nThisYearData_actualData_train.to_csv(\\\"ThisYearData_actualData_train.txt\\\", sep=\\\",\\\")\";\n",
       "                var nbb_cells = Jupyter.notebook.get_cells();\n",
       "                for (var i = 0; i < nbb_cells.length; ++i) {\n",
       "                    if (nbb_cells[i].input_prompt_number == nbb_cell_id) {\n",
       "                        nbb_cells[i].set_text(nbb_formatted_code);\n",
       "                        break;\n",
       "                    }\n",
       "                }\n",
       "            }, 500);\n",
       "            "
      ],
      "text/plain": [
       "<IPython.core.display.Javascript object>"
      ]
     },
     "metadata": {},
     "output_type": "display_data"
    }
   ],
   "source": [
    "# select the actual this year values train\n",
    "\n",
    "ThisYearData_actualData_train = pd.DataFrame()\n",
    "ThisYearData_actualData_train[\"FIELD_1\"] = xtrain.FIELD_1_x.values\n",
    "ThisYearData_actualData_train[\"FIELD_2\"] = xtrain.FIELD_2_x.values\n",
    "ThisYearData_actualData_train[\"L104600\"] = xtrain.L104600_x.values\n",
    "ThisYearData_actualData_train[\"L103000\"] = xtrain.L103000_x.values\n",
    "ThisYearData_actualData_train[\"S000300\"] = xtrain.S000300_x.values\n",
    "ThisYearData_actualData_train[\"L101700\"] = xtrain.L101700_x.values\n",
    "ThisYearData_actualData_train[\"L100700\"] = xtrain.L100700_x.values\n",
    "ThisYearData_actualData_train[\"FIELD_33\"] = xtrain.FIELD_33_x.values\n",
    "ThisYearData_actualData_train[\"FIELD_38\"] = xtrain.FIELD_38_x.values\n",
    "ThisYearData_actualData_train[\"FIELD_40\"] = xtrain.FIELD_40_x.values\n",
    "ThisYearData_actualData_train[\"FIELD_31\"] = xtrain.FIELD_31_x.values\n",
    "ThisYearData_actualData_train[\"SEX\"] = xtrain.SEX_x.values\n",
    "ThisYearData_actualData_train[\"AGE\"] = xtrain.AGE_x.values\n",
    "ThisYearData_actualData_train[\"L100800\"] = xtrain.L100800_x.values\n",
    "\n",
    "conditions = [\n",
    "    (ThisYearData_actualData_train.L100800 < 100),\n",
    "    (ThisYearData_actualData_train.L100800 >= 100)\n",
    "    & (ThisYearData_actualData_train.L100800 < 126),\n",
    "    (ThisYearData_actualData_train.L100800 >= 126),\n",
    "]\n",
    "choices = [0, 1, 2]\n",
    "ThisYearData_actualData_train[\"CLASS\"] = np.select(conditions, choices, default=0)\n",
    "ThisYearData_actualData_train.head()\n",
    "\n",
    "ThisYearData_actualData_train.to_csv(\"ThisYearData_actualData_train.txt\", sep=\",\")"
   ]
  },
  {
   "cell_type": "code",
   "execution_count": null,
   "metadata": {},
   "outputs": [],
   "source": []
  }
 ],
 "metadata": {
  "kernelspec": {
   "display_name": "Python 3",
   "language": "python",
   "name": "python3"
  },
  "language_info": {
   "codemirror_mode": {
    "name": "ipython",
    "version": 3
   },
   "file_extension": ".py",
   "mimetype": "text/x-python",
   "name": "python",
   "nbconvert_exporter": "python",
   "pygments_lexer": "ipython3",
   "version": "3.7.3"
  }
 },
 "nbformat": 4,
 "nbformat_minor": 2
}

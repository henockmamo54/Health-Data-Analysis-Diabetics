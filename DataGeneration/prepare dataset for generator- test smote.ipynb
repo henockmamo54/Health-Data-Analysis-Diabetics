{
 "cells": [
  {
   "cell_type": "code",
   "execution_count": 1,
   "metadata": {},
   "outputs": [
    {
     "name": "stderr",
     "output_type": "stream",
     "text": [
      "Using TensorFlow backend.\n"
     ]
    },
    {
     "data": {
      "application/javascript": [
       "\n",
       "            setTimeout(function() {\n",
       "                var nbb_cell_id = 1;\n",
       "                var nbb_formatted_code = \"%load_ext nb_black\\nimport numpy as np\\nimport pandas as pd\\nimport warnings\\nfrom sklearn.model_selection import train_test_split\\nfrom sklearn.ensemble import RandomForestRegressor\\nfrom sklearn import metrics as m\\nimport xgboost as xgb\\nimport seaborn as sns\\nfrom imblearn.over_sampling import SMOTE  # doctest: +NORMALIZE_WHITESPACE\\nfrom sklearn.metrics import confusion_matrix\\nfrom sklearn.metrics import classification_report\\nfrom sklearn.model_selection import train_test_split\\nfrom collections import Counter\\n\\nwarnings.filterwarnings(\\\"ignore\\\")\\nrandom_seed = 8\";\n",
       "                var nbb_cells = Jupyter.notebook.get_cells();\n",
       "                for (var i = 0; i < nbb_cells.length; ++i) {\n",
       "                    if (nbb_cells[i].input_prompt_number == nbb_cell_id) {\n",
       "                        nbb_cells[i].set_text(nbb_formatted_code);\n",
       "                        break;\n",
       "                    }\n",
       "                }\n",
       "            }, 500);\n",
       "            "
      ],
      "text/plain": [
       "<IPython.core.display.Javascript object>"
      ]
     },
     "metadata": {},
     "output_type": "display_data"
    }
   ],
   "source": [
    "%load_ext nb_black\n",
    "import numpy as np\n",
    "import pandas as pd\n",
    "import warnings\n",
    "from sklearn.model_selection import train_test_split\n",
    "from sklearn.ensemble import RandomForestRegressor\n",
    "from sklearn import metrics as m\n",
    "import xgboost as xgb\n",
    "import seaborn as sns\n",
    "from imblearn.over_sampling import SMOTE  # doctest: +NORMALIZE_WHITESPACE\n",
    "from sklearn.metrics import confusion_matrix\n",
    "from sklearn.metrics import classification_report\n",
    "from sklearn.model_selection import train_test_split\n",
    "from collections import Counter\n",
    "\n",
    "warnings.filterwarnings(\"ignore\")\n",
    "random_seed = 8"
   ]
  },
  {
   "cell_type": "code",
   "execution_count": 2,
   "metadata": {},
   "outputs": [
    {
     "data": {
      "application/javascript": [
       "\n",
       "            setTimeout(function() {\n",
       "                var nbb_cell_id = 2;\n",
       "                var nbb_formatted_code = \"# collected form each main diabetic indicator features regressors\\ncols = np.unique(\\n    [\\n        \\\"AGE\\\",\\n        \\\"FIELD_31\\\",\\n        \\\"FIELD_33\\\",\\n        \\\"FIELD_38\\\",\\n        \\\"FIELD_40\\\",\\n        \\\"L100500\\\",\\n        \\\"L100700\\\",\\n        \\\"L100800\\\",\\n        \\\"L101200\\\",\\n        \\\"L101300\\\",\\n        \\\"L101600\\\",\\n        \\\"L101700\\\",\\n        \\\"L103000\\\",\\n        \\\"L103100\\\",\\n        \\\"L103300\\\",\\n        \\\"L104600\\\",\\n        \\\"L107400\\\",\\n        \\\"L190000\\\",\\n        \\\"L190300\\\",\\n        \\\"L190400\\\",\\n        \\\"S000100\\\",\\n        \\\"S000300\\\",\\n        \\\"S000501\\\",\\n        \\\"S000502\\\",\\n        \\\"SEX\\\",\\n        \\\"FIELD_1\\\",\\n        \\\"FIELD_2\\\",\\n        \\\"Unnamed: 0\\\",\\n        \\\"FIELD_16\\\",\\n        \\\"FIELD_23\\\",\\n        \\\"FIELD_15\\\",\\n        \\\"FIELD_22\\\",\\n        \\\"FIELD_17\\\",\\n        \\\"FIELD_24\\\",\\n    ]\\n)\";\n",
       "                var nbb_cells = Jupyter.notebook.get_cells();\n",
       "                for (var i = 0; i < nbb_cells.length; ++i) {\n",
       "                    if (nbb_cells[i].input_prompt_number == nbb_cell_id) {\n",
       "                        nbb_cells[i].set_text(nbb_formatted_code);\n",
       "                        break;\n",
       "                    }\n",
       "                }\n",
       "            }, 500);\n",
       "            "
      ],
      "text/plain": [
       "<IPython.core.display.Javascript object>"
      ]
     },
     "metadata": {},
     "output_type": "display_data"
    }
   ],
   "source": [
    "# collected form each main diabetic indicator features regressors\n",
    "cols = np.unique(\n",
    "    [\n",
    "        \"AGE\",\n",
    "        \"FIELD_31\",\n",
    "        \"FIELD_33\",\n",
    "        \"FIELD_38\",\n",
    "        \"FIELD_40\",\n",
    "        \"L100500\",\n",
    "        \"L100700\",\n",
    "        \"L100800\",\n",
    "        \"L101200\",\n",
    "        \"L101300\",\n",
    "        \"L101600\",\n",
    "        \"L101700\",\n",
    "        \"L103000\",\n",
    "        \"L103100\",\n",
    "        \"L103300\",\n",
    "        \"L104600\",\n",
    "        \"L107400\",\n",
    "        \"L190000\",\n",
    "        \"L190300\",\n",
    "        \"L190400\",\n",
    "        \"S000100\",\n",
    "        \"S000300\",\n",
    "        \"S000501\",\n",
    "        \"S000502\",\n",
    "        \"SEX\",\n",
    "        \"FIELD_1\",\n",
    "        \"FIELD_2\",\n",
    "        \"Unnamed: 0\",\n",
    "        \"FIELD_16\",\n",
    "        \"FIELD_23\",\n",
    "        \"FIELD_15\",\n",
    "        \"FIELD_22\",\n",
    "        \"FIELD_17\",\n",
    "        \"FIELD_24\",\n",
    "    ]\n",
    ")"
   ]
  },
  {
   "cell_type": "markdown",
   "metadata": {},
   "source": [
    "Read Dataset\n",
    "===="
   ]
  },
  {
   "cell_type": "code",
   "execution_count": 3,
   "metadata": {},
   "outputs": [
    {
     "data": {
      "application/javascript": [
       "\n",
       "            setTimeout(function() {\n",
       "                var nbb_cell_id = 3;\n",
       "                var nbb_formatted_code = \"x_original = pd.read_csv(\\\"../XLable_onlyDiabeticRemoved.txt\\\")[cols]\\ny_original = pd.read_csv(\\\"../TargetLable_onlyDiabeticRemoved.txt\\\")[cols]\\n\\n\\ndata = pd.merge(\\n    x_original, y_original, how=\\\"inner\\\", left_on=\\\"Unnamed: 0\\\", right_on=\\\"Unnamed: 0\\\"\\n)\";\n",
       "                var nbb_cells = Jupyter.notebook.get_cells();\n",
       "                for (var i = 0; i < nbb_cells.length; ++i) {\n",
       "                    if (nbb_cells[i].input_prompt_number == nbb_cell_id) {\n",
       "                        nbb_cells[i].set_text(nbb_formatted_code);\n",
       "                        break;\n",
       "                    }\n",
       "                }\n",
       "            }, 500);\n",
       "            "
      ],
      "text/plain": [
       "<IPython.core.display.Javascript object>"
      ]
     },
     "metadata": {},
     "output_type": "display_data"
    }
   ],
   "source": [
    "x_original = pd.read_csv(\"../XLable_onlyDiabeticRemoved.txt\")[cols]\n",
    "y_original = pd.read_csv(\"../TargetLable_onlyDiabeticRemoved.txt\")[cols]\n",
    "\n",
    "\n",
    "data = pd.merge(\n",
    "    x_original, y_original, how=\"inner\", left_on=\"Unnamed: 0\", right_on=\"Unnamed: 0\"\n",
    ")"
   ]
  },
  {
   "cell_type": "markdown",
   "metadata": {},
   "source": [
    "Prepare dataset\n",
    "==="
   ]
  },
  {
   "cell_type": "code",
   "execution_count": 4,
   "metadata": {},
   "outputs": [
    {
     "name": "stdout",
     "output_type": "stream",
     "text": [
      "(41525, 67)\n"
     ]
    },
    {
     "data": {
      "application/javascript": [
       "\n",
       "            setTimeout(function() {\n",
       "                var nbb_cell_id = 4;\n",
       "                var nbb_formatted_code = \"# filter the data set\\ndata = data[data.FIELD_16_x != 1]  # exclude people who are diagnosed for (diabetes)\\ndata = data[data.FIELD_23_x != 1]  # exclude people who are on medication for diabetes\\n\\ndata = data[\\n    data.FIELD_15_x != 1\\n]  # exclude people who are diagnosed for (high blood pressure)\\ndata = data[\\n    data.FIELD_22_x != 1\\n]  # exclude people who are on medication for high blood pressure\\n\\ndata = data[data.FIELD_17_x != 1]  # exclude people who are diagnosed for hyperlipidemia\\ndata = data[\\n    data.FIELD_24_x != 1\\n]  # exclude people who are on medication for hyperlipidemia\\n\\ndata = data.dropna()\\nprint(data.shape)\";\n",
       "                var nbb_cells = Jupyter.notebook.get_cells();\n",
       "                for (var i = 0; i < nbb_cells.length; ++i) {\n",
       "                    if (nbb_cells[i].input_prompt_number == nbb_cell_id) {\n",
       "                        nbb_cells[i].set_text(nbb_formatted_code);\n",
       "                        break;\n",
       "                    }\n",
       "                }\n",
       "            }, 500);\n",
       "            "
      ],
      "text/plain": [
       "<IPython.core.display.Javascript object>"
      ]
     },
     "metadata": {},
     "output_type": "display_data"
    }
   ],
   "source": [
    "# filter the data set\n",
    "data = data[data.FIELD_16_x != 1]  # exclude people who are diagnosed for (diabetes)\n",
    "data = data[data.FIELD_23_x != 1]  # exclude people who are on medication for diabetes\n",
    "\n",
    "data = data[\n",
    "    data.FIELD_15_x != 1\n",
    "]  # exclude people who are diagnosed for (high blood pressure)\n",
    "data = data[\n",
    "    data.FIELD_22_x != 1\n",
    "]  # exclude people who are on medication for high blood pressure\n",
    "\n",
    "data = data[data.FIELD_17_x != 1]  # exclude people who are diagnosed for hyperlipidemia\n",
    "data = data[\n",
    "    data.FIELD_24_x != 1\n",
    "]  # exclude people who are on medication for hyperlipidemia\n",
    "\n",
    "data = data.dropna()\n",
    "print(data.shape)"
   ]
  },
  {
   "cell_type": "code",
   "execution_count": 5,
   "metadata": {},
   "outputs": [
    {
     "data": {
      "application/javascript": [
       "\n",
       "            setTimeout(function() {\n",
       "                var nbb_cell_id = 5;\n",
       "                var nbb_formatted_code = \"x = data[\\n    [\\n        \\\"AGE_x\\\",\\n        \\\"FIELD_31_x\\\",\\n        \\\"FIELD_33_x\\\",\\n        \\\"FIELD_38_x\\\",\\n        \\\"FIELD_40_x\\\",\\n        \\\"L100500_x\\\",\\n        \\\"L100700_x\\\",\\n        \\\"L100800_x\\\",\\n        \\\"L101200_x\\\",\\n        \\\"L101300_x\\\",\\n        \\\"L101600_x\\\",\\n        \\\"L101700_x\\\",\\n        \\\"L103000_x\\\",\\n        \\\"L103100_x\\\",\\n        \\\"L103300_x\\\",\\n        \\\"L104600_x\\\",\\n        \\\"L107400_x\\\",\\n        \\\"L190000_x\\\",\\n        \\\"L190300_x\\\",\\n        \\\"L190400_x\\\",\\n        \\\"S000100_x\\\",\\n        \\\"S000300_x\\\",\\n        \\\"S000501_x\\\",\\n        \\\"S000502_x\\\",\\n        \\\"SEX_x\\\",\\n        \\\"FIELD_1_x\\\",\\n        \\\"FIELD_2_x\\\",\\n    ]\\n]\\n\\ny = data[\\n    [\\n        \\\"AGE_y\\\",\\n        \\\"FIELD_31_y\\\",\\n        \\\"FIELD_33_y\\\",\\n        \\\"FIELD_38_y\\\",\\n        \\\"FIELD_40_y\\\",\\n        \\\"L100500_y\\\",\\n        \\\"L100700_y\\\",\\n        \\\"L100800_y\\\",\\n        \\\"L101200_y\\\",\\n        \\\"L101300_y\\\",\\n        \\\"L101600_y\\\",\\n        \\\"L101700_y\\\",\\n        \\\"L103000_y\\\",\\n        \\\"L103100_y\\\",\\n        \\\"L103300_y\\\",\\n        \\\"L104600_y\\\",\\n        \\\"L107400_y\\\",\\n        \\\"L190000_y\\\",\\n        \\\"L190300_y\\\",\\n        \\\"L190400_y\\\",\\n        \\\"S000100_y\\\",\\n        \\\"S000300_y\\\",\\n        \\\"S000501_y\\\",\\n        \\\"S000502_y\\\",\\n        \\\"SEX_y\\\",\\n        \\\"FIELD_1_y\\\",\\n        \\\"FIELD_2_y\\\",\\n    ]\\n]\";\n",
       "                var nbb_cells = Jupyter.notebook.get_cells();\n",
       "                for (var i = 0; i < nbb_cells.length; ++i) {\n",
       "                    if (nbb_cells[i].input_prompt_number == nbb_cell_id) {\n",
       "                        nbb_cells[i].set_text(nbb_formatted_code);\n",
       "                        break;\n",
       "                    }\n",
       "                }\n",
       "            }, 500);\n",
       "            "
      ],
      "text/plain": [
       "<IPython.core.display.Javascript object>"
      ]
     },
     "metadata": {},
     "output_type": "display_data"
    }
   ],
   "source": [
    "x = data[\n",
    "    [\n",
    "        \"AGE_x\",\n",
    "        \"FIELD_31_x\",\n",
    "        \"FIELD_33_x\",\n",
    "        \"FIELD_38_x\",\n",
    "        \"FIELD_40_x\",\n",
    "        \"L100500_x\",\n",
    "        \"L100700_x\",\n",
    "        \"L100800_x\",\n",
    "        \"L101200_x\",\n",
    "        \"L101300_x\",\n",
    "        \"L101600_x\",\n",
    "        \"L101700_x\",\n",
    "        \"L103000_x\",\n",
    "        \"L103100_x\",\n",
    "        \"L103300_x\",\n",
    "        \"L104600_x\",\n",
    "        \"L107400_x\",\n",
    "        \"L190000_x\",\n",
    "        \"L190300_x\",\n",
    "        \"L190400_x\",\n",
    "        \"S000100_x\",\n",
    "        \"S000300_x\",\n",
    "        \"S000501_x\",\n",
    "        \"S000502_x\",\n",
    "        \"SEX_x\",\n",
    "        \"FIELD_1_x\",\n",
    "        \"FIELD_2_x\",\n",
    "    ]\n",
    "]\n",
    "\n",
    "y = data[\n",
    "    [\n",
    "        \"AGE_y\",\n",
    "        \"FIELD_31_y\",\n",
    "        \"FIELD_33_y\",\n",
    "        \"FIELD_38_y\",\n",
    "        \"FIELD_40_y\",\n",
    "        \"L100500_y\",\n",
    "        \"L100700_y\",\n",
    "        \"L100800_y\",\n",
    "        \"L101200_y\",\n",
    "        \"L101300_y\",\n",
    "        \"L101600_y\",\n",
    "        \"L101700_y\",\n",
    "        \"L103000_y\",\n",
    "        \"L103100_y\",\n",
    "        \"L103300_y\",\n",
    "        \"L104600_y\",\n",
    "        \"L107400_y\",\n",
    "        \"L190000_y\",\n",
    "        \"L190300_y\",\n",
    "        \"L190400_y\",\n",
    "        \"S000100_y\",\n",
    "        \"S000300_y\",\n",
    "        \"S000501_y\",\n",
    "        \"S000502_y\",\n",
    "        \"SEX_y\",\n",
    "        \"FIELD_1_y\",\n",
    "        \"FIELD_2_y\",\n",
    "    ]\n",
    "]"
   ]
  },
  {
   "cell_type": "code",
   "execution_count": 6,
   "metadata": {},
   "outputs": [
    {
     "data": {
      "application/javascript": [
       "\n",
       "            setTimeout(function() {\n",
       "                var nbb_cell_id = 6;\n",
       "                var nbb_formatted_code = \"xtrain, xtest, ytrain, ytest = train_test_split(x, y, random_state=42, test_size=0.3)\";\n",
       "                var nbb_cells = Jupyter.notebook.get_cells();\n",
       "                for (var i = 0; i < nbb_cells.length; ++i) {\n",
       "                    if (nbb_cells[i].input_prompt_number == nbb_cell_id) {\n",
       "                        nbb_cells[i].set_text(nbb_formatted_code);\n",
       "                        break;\n",
       "                    }\n",
       "                }\n",
       "            }, 500);\n",
       "            "
      ],
      "text/plain": [
       "<IPython.core.display.Javascript object>"
      ]
     },
     "metadata": {},
     "output_type": "display_data"
    }
   ],
   "source": [
    "xtrain, xtest, ytrain, ytest = train_test_split(x, y, random_state=42, test_size=0.3)"
   ]
  },
  {
   "cell_type": "code",
   "execution_count": null,
   "metadata": {},
   "outputs": [],
   "source": []
  },
  {
   "cell_type": "markdown",
   "metadata": {},
   "source": [
    "Train Regression Models\n",
    "=========="
   ]
  },
  {
   "cell_type": "markdown",
   "metadata": {},
   "source": [
    "L104600_y # HBA1C\n",
    "===="
   ]
  },
  {
   "cell_type": "code",
   "execution_count": 7,
   "metadata": {},
   "outputs": [
    {
     "data": {
      "text/html": [
       "<div>\n",
       "<style scoped>\n",
       "    .dataframe tbody tr th:only-of-type {\n",
       "        vertical-align: middle;\n",
       "    }\n",
       "\n",
       "    .dataframe tbody tr th {\n",
       "        vertical-align: top;\n",
       "    }\n",
       "\n",
       "    .dataframe thead th {\n",
       "        text-align: right;\n",
       "    }\n",
       "</style>\n",
       "<table border=\"1\" class=\"dataframe\">\n",
       "  <thead>\n",
       "    <tr style=\"text-align: right;\">\n",
       "      <th></th>\n",
       "      <th>L104600_x</th>\n",
       "      <th>L100800_x</th>\n",
       "      <th>S000300_x</th>\n",
       "      <th>AGE_x</th>\n",
       "      <th>L101300_x</th>\n",
       "      <th>S000501_x</th>\n",
       "      <th>L101700_x</th>\n",
       "      <th>S000502_x</th>\n",
       "      <th>L190000_x</th>\n",
       "      <th>L101600_x</th>\n",
       "      <th>L190300_x</th>\n",
       "      <th>L104600_y</th>\n",
       "      <th>CLASS</th>\n",
       "    </tr>\n",
       "  </thead>\n",
       "  <tbody>\n",
       "    <tr>\n",
       "      <th>35813</th>\n",
       "      <td>5.30</td>\n",
       "      <td>104.0</td>\n",
       "      <td>26.7</td>\n",
       "      <td>38.0</td>\n",
       "      <td>10.0</td>\n",
       "      <td>120.0</td>\n",
       "      <td>15.0</td>\n",
       "      <td>81.0</td>\n",
       "      <td>5.62</td>\n",
       "      <td>39.0</td>\n",
       "      <td>4.01</td>\n",
       "      <td>5.67</td>\n",
       "      <td>1</td>\n",
       "    </tr>\n",
       "    <tr>\n",
       "      <th>53995</th>\n",
       "      <td>5.70</td>\n",
       "      <td>91.0</td>\n",
       "      <td>25.3</td>\n",
       "      <td>42.0</td>\n",
       "      <td>9.0</td>\n",
       "      <td>99.0</td>\n",
       "      <td>11.0</td>\n",
       "      <td>64.0</td>\n",
       "      <td>8.18</td>\n",
       "      <td>45.0</td>\n",
       "      <td>4.39</td>\n",
       "      <td>5.80</td>\n",
       "      <td>0</td>\n",
       "    </tr>\n",
       "    <tr>\n",
       "      <th>53547</th>\n",
       "      <td>5.33</td>\n",
       "      <td>95.0</td>\n",
       "      <td>21.7</td>\n",
       "      <td>44.0</td>\n",
       "      <td>16.0</td>\n",
       "      <td>122.0</td>\n",
       "      <td>19.0</td>\n",
       "      <td>85.0</td>\n",
       "      <td>4.02</td>\n",
       "      <td>38.0</td>\n",
       "      <td>4.45</td>\n",
       "      <td>5.51</td>\n",
       "      <td>0</td>\n",
       "    </tr>\n",
       "    <tr>\n",
       "      <th>170134</th>\n",
       "      <td>5.37</td>\n",
       "      <td>98.0</td>\n",
       "      <td>25.1</td>\n",
       "      <td>46.0</td>\n",
       "      <td>21.0</td>\n",
       "      <td>128.0</td>\n",
       "      <td>30.0</td>\n",
       "      <td>79.0</td>\n",
       "      <td>9.34</td>\n",
       "      <td>60.0</td>\n",
       "      <td>4.74</td>\n",
       "      <td>5.14</td>\n",
       "      <td>0</td>\n",
       "    </tr>\n",
       "    <tr>\n",
       "      <th>157606</th>\n",
       "      <td>5.91</td>\n",
       "      <td>87.0</td>\n",
       "      <td>18.6</td>\n",
       "      <td>37.0</td>\n",
       "      <td>13.0</td>\n",
       "      <td>106.0</td>\n",
       "      <td>12.0</td>\n",
       "      <td>75.0</td>\n",
       "      <td>5.78</td>\n",
       "      <td>44.0</td>\n",
       "      <td>3.95</td>\n",
       "      <td>5.75</td>\n",
       "      <td>0</td>\n",
       "    </tr>\n",
       "  </tbody>\n",
       "</table>\n",
       "</div>"
      ],
      "text/plain": [
       "        L104600_x  L100800_x  S000300_x  AGE_x  L101300_x  S000501_x  \\\n",
       "35813        5.30      104.0       26.7   38.0       10.0      120.0   \n",
       "53995        5.70       91.0       25.3   42.0        9.0       99.0   \n",
       "53547        5.33       95.0       21.7   44.0       16.0      122.0   \n",
       "170134       5.37       98.0       25.1   46.0       21.0      128.0   \n",
       "157606       5.91       87.0       18.6   37.0       13.0      106.0   \n",
       "\n",
       "        L101700_x  S000502_x  L190000_x  L101600_x  L190300_x  L104600_y  \\\n",
       "35813        15.0       81.0       5.62       39.0       4.01       5.67   \n",
       "53995        11.0       64.0       8.18       45.0       4.39       5.80   \n",
       "53547        19.0       85.0       4.02       38.0       4.45       5.51   \n",
       "170134       30.0       79.0       9.34       60.0       4.74       5.14   \n",
       "157606       12.0       75.0       5.78       44.0       3.95       5.75   \n",
       "\n",
       "        CLASS  \n",
       "35813       1  \n",
       "53995       0  \n",
       "53547       0  \n",
       "170134      0  \n",
       "157606      0  "
      ]
     },
     "execution_count": 7,
     "metadata": {},
     "output_type": "execute_result"
    },
    {
     "data": {
      "application/javascript": [
       "\n",
       "            setTimeout(function() {\n",
       "                var nbb_cell_id = 7;\n",
       "                var nbb_formatted_code = \"temp = pd.DataFrame(\\n    xtrain[\\n        [\\n            \\\"L104600_x\\\",\\n            \\\"L100800_x\\\",\\n            \\\"S000300_x\\\",\\n            \\\"AGE_x\\\",\\n            \\\"L101300_x\\\",\\n            \\\"S000501_x\\\",\\n            \\\"L101700_x\\\",\\n            \\\"S000502_x\\\",\\n            \\\"L190000_x\\\",\\n            \\\"L101600_x\\\",\\n            \\\"L190300_x\\\",\\n        ]\\n    ]\\n)\\ntemp[\\\"L104600_y\\\"] = ytrain[[\\\"L104600_y\\\"]]\\n\\nconditions = [\\n    (temp.L100800_x < 100),\\n    (temp.L100800_x >= 100) & (temp.L100800_x < 126),\\n    (temp.L100800_x >= 126),\\n]\\nchoices = [0, 1, 2]\\ntemp[\\\"CLASS\\\"] = np.select(conditions, choices, default=0)\\ntemp.head()\";\n",
       "                var nbb_cells = Jupyter.notebook.get_cells();\n",
       "                for (var i = 0; i < nbb_cells.length; ++i) {\n",
       "                    if (nbb_cells[i].input_prompt_number == nbb_cell_id) {\n",
       "                        nbb_cells[i].set_text(nbb_formatted_code);\n",
       "                        break;\n",
       "                    }\n",
       "                }\n",
       "            }, 500);\n",
       "            "
      ],
      "text/plain": [
       "<IPython.core.display.Javascript object>"
      ]
     },
     "metadata": {},
     "output_type": "display_data"
    }
   ],
   "source": [
    "temp = pd.DataFrame(\n",
    "    xtrain[\n",
    "        [\n",
    "            \"L104600_x\",\n",
    "            \"L100800_x\",\n",
    "            \"S000300_x\",\n",
    "            \"AGE_x\",\n",
    "            \"L101300_x\",\n",
    "            \"S000501_x\",\n",
    "            \"L101700_x\",\n",
    "            \"S000502_x\",\n",
    "            \"L190000_x\",\n",
    "            \"L101600_x\",\n",
    "            \"L190300_x\",\n",
    "        ]\n",
    "    ]\n",
    ")\n",
    "temp[\"L104600_y\"] = ytrain[[\"L104600_y\"]]\n",
    "\n",
    "conditions = [\n",
    "    (temp.L100800_x < 100),\n",
    "    (temp.L100800_x >= 100) & (temp.L100800_x < 126),\n",
    "    (temp.L100800_x >= 126),\n",
    "]\n",
    "choices = [0, 1, 2]\n",
    "temp[\"CLASS\"] = np.select(conditions, choices, default=0)\n",
    "temp.head()"
   ]
  },
  {
   "cell_type": "code",
   "execution_count": 8,
   "metadata": {},
   "outputs": [
    {
     "name": "stdout",
     "output_type": "stream",
     "text": [
      "Resampled dataset shape Counter({1: 21229, 0: 21229, 2: 21229})\n",
      "21229 21229 21229\n",
      "(63687, 12) (63687,)\n"
     ]
    },
    {
     "data": {
      "application/javascript": [
       "\n",
       "            setTimeout(function() {\n",
       "                var nbb_cell_id = 8;\n",
       "                var nbb_formatted_code = \"sm = SMOTE(random_state=random_seed)\\nX_res, y_res = sm.fit_resample(temp.iloc[:, :-1], temp.iloc[:, -1])\\n\\nprint(\\\"Resampled dataset shape %s\\\" % Counter(y_res))\\nprint(\\n    y_res[y_res == 0].shape[0], y_res[y_res == 1].shape[0], y_res[y_res == 2].shape[0]\\n)\\nprint(X_res.shape, y_res.shape)\\n\\ny_res2 = y_res.copy()\";\n",
       "                var nbb_cells = Jupyter.notebook.get_cells();\n",
       "                for (var i = 0; i < nbb_cells.length; ++i) {\n",
       "                    if (nbb_cells[i].input_prompt_number == nbb_cell_id) {\n",
       "                        nbb_cells[i].set_text(nbb_formatted_code);\n",
       "                        break;\n",
       "                    }\n",
       "                }\n",
       "            }, 500);\n",
       "            "
      ],
      "text/plain": [
       "<IPython.core.display.Javascript object>"
      ]
     },
     "metadata": {},
     "output_type": "display_data"
    }
   ],
   "source": [
    "sm = SMOTE(random_state=random_seed)\n",
    "X_res, y_res = sm.fit_resample(temp.iloc[:, :-1], temp.iloc[:, -1])\n",
    "\n",
    "print(\"Resampled dataset shape %s\" % Counter(y_res))\n",
    "print(\n",
    "    y_res[y_res == 0].shape[0], y_res[y_res == 1].shape[0], y_res[y_res == 2].shape[0]\n",
    ")\n",
    "print(X_res.shape, y_res.shape)\n",
    "\n",
    "y_res2 = y_res.copy()"
   ]
  },
  {
   "cell_type": "code",
   "execution_count": 9,
   "metadata": {},
   "outputs": [
    {
     "name": "stdout",
     "output_type": "stream",
     "text": [
      "r2_score 0.6419151696559172\n"
     ]
    },
    {
     "data": {
      "application/javascript": [
       "\n",
       "            setTimeout(function() {\n",
       "                var nbb_cell_id = 9;\n",
       "                var nbb_formatted_code = \"regr = RandomForestRegressor(\\n    max_depth=10, random_state=random_seed, verbose=0, n_estimators=300, max_features=4\\n)\\nregr.fit(\\n    temp[\\n        [\\n            \\\"L104600_x\\\",\\n            \\\"L100800_x\\\",\\n            \\\"S000300_x\\\",\\n            \\\"AGE_x\\\",\\n            \\\"L101300_x\\\",\\n            \\\"S000501_x\\\",\\n            \\\"L101700_x\\\",\\n            \\\"S000502_x\\\",\\n            \\\"L190000_x\\\",\\n            \\\"L101600_x\\\",\\n            \\\"L190300_x\\\",\\n        ]\\n    ],\\n    temp[[\\\"L104600_y\\\"]],\\n)\\n\\nypred = regr.predict(\\n    xtest[\\n        [\\n            \\\"L104600_x\\\",\\n            \\\"L100800_x\\\",\\n            \\\"S000300_x\\\",\\n            \\\"AGE_x\\\",\\n            \\\"L101300_x\\\",\\n            \\\"S000501_x\\\",\\n            \\\"L101700_x\\\",\\n            \\\"S000502_x\\\",\\n            \\\"L190000_x\\\",\\n            \\\"L101600_x\\\",\\n            \\\"L190300_x\\\",\\n        ]\\n    ]\\n)\\n\\nprint(\\\"r2_score\\\", m.r2_score(ytest[[\\\"L104600_y\\\"]], ypred))\";\n",
       "                var nbb_cells = Jupyter.notebook.get_cells();\n",
       "                for (var i = 0; i < nbb_cells.length; ++i) {\n",
       "                    if (nbb_cells[i].input_prompt_number == nbb_cell_id) {\n",
       "                        nbb_cells[i].set_text(nbb_formatted_code);\n",
       "                        break;\n",
       "                    }\n",
       "                }\n",
       "            }, 500);\n",
       "            "
      ],
      "text/plain": [
       "<IPython.core.display.Javascript object>"
      ]
     },
     "metadata": {},
     "output_type": "display_data"
    }
   ],
   "source": [
    "regr = RandomForestRegressor(\n",
    "    max_depth=10, random_state=random_seed, verbose=0, n_estimators=300, max_features=4\n",
    ")\n",
    "regr.fit(\n",
    "    temp[\n",
    "        [\n",
    "            \"L104600_x\",\n",
    "            \"L100800_x\",\n",
    "            \"S000300_x\",\n",
    "            \"AGE_x\",\n",
    "            \"L101300_x\",\n",
    "            \"S000501_x\",\n",
    "            \"L101700_x\",\n",
    "            \"S000502_x\",\n",
    "            \"L190000_x\",\n",
    "            \"L101600_x\",\n",
    "            \"L190300_x\",\n",
    "        ]\n",
    "    ],\n",
    "    temp[[\"L104600_y\"]],\n",
    ")\n",
    "\n",
    "ypred = regr.predict(\n",
    "    xtest[\n",
    "        [\n",
    "            \"L104600_x\",\n",
    "            \"L100800_x\",\n",
    "            \"S000300_x\",\n",
    "            \"AGE_x\",\n",
    "            \"L101300_x\",\n",
    "            \"S000501_x\",\n",
    "            \"L101700_x\",\n",
    "            \"S000502_x\",\n",
    "            \"L190000_x\",\n",
    "            \"L101600_x\",\n",
    "            \"L190300_x\",\n",
    "        ]\n",
    "    ]\n",
    ")\n",
    "\n",
    "print(\"r2_score\", m.r2_score(ytest[[\"L104600_y\"]], ypred))"
   ]
  },
  {
   "cell_type": "code",
   "execution_count": 10,
   "metadata": {},
   "outputs": [
    {
     "data": {
      "text/plain": [
       "(12458,)"
      ]
     },
     "execution_count": 10,
     "metadata": {},
     "output_type": "execute_result"
    },
    {
     "data": {
      "application/javascript": [
       "\n",
       "            setTimeout(function() {\n",
       "                var nbb_cell_id = 10;\n",
       "                var nbb_formatted_code = \"pred_L104600 = ypred\\npred_L104600.shape\";\n",
       "                var nbb_cells = Jupyter.notebook.get_cells();\n",
       "                for (var i = 0; i < nbb_cells.length; ++i) {\n",
       "                    if (nbb_cells[i].input_prompt_number == nbb_cell_id) {\n",
       "                        nbb_cells[i].set_text(nbb_formatted_code);\n",
       "                        break;\n",
       "                    }\n",
       "                }\n",
       "            }, 500);\n",
       "            "
      ],
      "text/plain": [
       "<IPython.core.display.Javascript object>"
      ]
     },
     "metadata": {},
     "output_type": "display_data"
    }
   ],
   "source": [
    "pred_L104600 = ypred\n",
    "pred_L104600.shape"
   ]
  },
  {
   "cell_type": "markdown",
   "metadata": {},
   "source": [
    "L103000 #Triglyceride\n",
    "====="
   ]
  },
  {
   "cell_type": "code",
   "execution_count": null,
   "metadata": {},
   "outputs": [],
   "source": [
    "regr = RandomForestRegressor(\n",
    "    max_depth=10, random_state=random_seed, verbose=0, n_estimators=300, max_features=8\n",
    ")\n",
    "regr.fit(\n",
    "    xtrain[\n",
    "        [\n",
    "            \"L103000_x\",\n",
    "            \"L100700_x\",\n",
    "            \"L101700_x\",\n",
    "            \"S000300_x\",\n",
    "            \"S000502_x\",\n",
    "            \"FIELD_33_x\",\n",
    "            \"L190000_x\",\n",
    "            \"L100800_x\",\n",
    "            \"L101600_x\",\n",
    "            \"S000501_x\",\n",
    "        ]\n",
    "    ],\n",
    "    ytrain[[\"L103000_y\"]],\n",
    ")\n",
    "\n",
    "ypred = regr.predict(\n",
    "    xtest[\n",
    "        [\n",
    "            \"L103000_x\",\n",
    "            \"L100700_x\",\n",
    "            \"L101700_x\",\n",
    "            \"S000300_x\",\n",
    "            \"S000502_x\",\n",
    "            \"FIELD_33_x\",\n",
    "            \"L190000_x\",\n",
    "            \"L100800_x\",\n",
    "            \"L101600_x\",\n",
    "            \"S000501_x\",\n",
    "        ]\n",
    "    ]\n",
    ")\n",
    "\n",
    "print(\"r2_score\", m.r2_score(ytest[[\"L103000_y\"]], ypred))"
   ]
  },
  {
   "cell_type": "code",
   "execution_count": null,
   "metadata": {},
   "outputs": [],
   "source": [
    "pred_L103000 = ypred"
   ]
  },
  {
   "cell_type": "markdown",
   "metadata": {},
   "source": [
    "S000300 #BMI\n",
    "==="
   ]
  },
  {
   "cell_type": "code",
   "execution_count": null,
   "metadata": {},
   "outputs": [],
   "source": [
    "regr = RandomForestRegressor(\n",
    "    max_depth=10, random_state=random_seed, verbose=0, n_estimators=300, max_features=8\n",
    ")\n",
    "regr.fit(\n",
    "    xtrain[\n",
    "        [\n",
    "            \"S000300_x\",\n",
    "            \"L103300_x\",\n",
    "            \"S000501_x\",\n",
    "            \"L100700_x\",\n",
    "            \"SEX_x\",\n",
    "            \"L103100_x\",\n",
    "            \"L190300_x\",\n",
    "            \"L190400_x\",\n",
    "            \"L101300_x\",\n",
    "            \"S000502_x\",\n",
    "        ]\n",
    "    ],\n",
    "    ytrain[[\"S000300_y\"]],\n",
    ")\n",
    "\n",
    "ypred = regr.predict(\n",
    "    xtest[\n",
    "        [\n",
    "            \"S000300_x\",\n",
    "            \"L103300_x\",\n",
    "            \"S000501_x\",\n",
    "            \"L100700_x\",\n",
    "            \"SEX_x\",\n",
    "            \"L103100_x\",\n",
    "            \"L190300_x\",\n",
    "            \"L190400_x\",\n",
    "            \"L101300_x\",\n",
    "            \"S000502_x\",\n",
    "        ]\n",
    "    ]\n",
    ")\n",
    "\n",
    "print(\"r2_score\", m.r2_score(ytest[[\"S000300_y\"]], ypred))"
   ]
  },
  {
   "cell_type": "code",
   "execution_count": null,
   "metadata": {},
   "outputs": [],
   "source": [
    "pred_S000300 = ypred"
   ]
  },
  {
   "cell_type": "markdown",
   "metadata": {},
   "source": [
    "L101700 # r-GTP gamma\n",
    "==="
   ]
  },
  {
   "cell_type": "code",
   "execution_count": null,
   "metadata": {},
   "outputs": [],
   "source": [
    "regr = RandomForestRegressor(\n",
    "    max_depth=10, random_state=random_seed, verbose=0, n_estimators=300, max_features=8\n",
    ")\n",
    "regr.fit(\n",
    "    xtrain[\n",
    "        [\n",
    "            \"L101700_x\",\n",
    "            \"L101300_x\",\n",
    "            \"L103000_x\",\n",
    "            \"SEX_x\",\n",
    "            \"L100700_x\",\n",
    "            \"L101200_x\",\n",
    "            \"S000300_x\",\n",
    "            \"S000501_x\",\n",
    "            \"L100800_x\",\n",
    "            \"S000502_x\",\n",
    "            \"L101600_x\",\n",
    "            \"S000100_x\",\n",
    "        ]\n",
    "    ],\n",
    "    ytrain[[\"L101700_y\"]],\n",
    ")\n",
    "\n",
    "ypred = regr.predict(\n",
    "    xtest[\n",
    "        [\n",
    "            \"L101700_x\",\n",
    "            \"L101300_x\",\n",
    "            \"L103000_x\",\n",
    "            \"SEX_x\",\n",
    "            \"L100700_x\",\n",
    "            \"L101200_x\",\n",
    "            \"S000300_x\",\n",
    "            \"S000501_x\",\n",
    "            \"L100800_x\",\n",
    "            \"S000502_x\",\n",
    "            \"L101600_x\",\n",
    "            \"S000100_x\",\n",
    "        ]\n",
    "    ]\n",
    ")\n",
    "\n",
    "print(\"r2_score\", m.r2_score(ytest[[\"L101700_y\"]], ypred))"
   ]
  },
  {
   "cell_type": "code",
   "execution_count": null,
   "metadata": {},
   "outputs": [],
   "source": [
    "pred_L101700 = ypred"
   ]
  },
  {
   "cell_type": "markdown",
   "metadata": {},
   "source": [
    "L100700 #Uric acid\n",
    "===="
   ]
  },
  {
   "cell_type": "code",
   "execution_count": null,
   "metadata": {},
   "outputs": [],
   "source": [
    "regr = RandomForestRegressor(\n",
    "    max_depth=10, random_state=random_seed, verbose=0, n_estimators=300, max_features=8\n",
    ")\n",
    "regr.fit(\n",
    "    xtrain[\n",
    "        [\n",
    "            \"L100700_x\",\n",
    "            \"L100500_x\",\n",
    "            \"S000100_x\",\n",
    "            \"S000300_x\",\n",
    "            \"L103300_x\",\n",
    "            \"L103000_x\",\n",
    "            \"L103100_x\",\n",
    "            \"S000501_x\",\n",
    "            \"L101300_x\",\n",
    "            \"L101700_x\",\n",
    "            \"S000502_x\",\n",
    "            \"L107400_x\",\n",
    "        ]\n",
    "    ],\n",
    "    ytrain[[\"L100700_y\"]],\n",
    ")\n",
    "\n",
    "ypred = regr.predict(\n",
    "    xtest[\n",
    "        [\n",
    "            \"L100700_x\",\n",
    "            \"L100500_x\",\n",
    "            \"S000100_x\",\n",
    "            \"S000300_x\",\n",
    "            \"L103300_x\",\n",
    "            \"L103000_x\",\n",
    "            \"L103100_x\",\n",
    "            \"S000501_x\",\n",
    "            \"L101300_x\",\n",
    "            \"L101700_x\",\n",
    "            \"S000502_x\",\n",
    "            \"L107400_x\",\n",
    "        ]\n",
    "    ]\n",
    ")\n",
    "\n",
    "print(\"r2_score\", m.r2_score(ytest[[\"L100700_y\"]], ypred))"
   ]
  },
  {
   "cell_type": "code",
   "execution_count": null,
   "metadata": {},
   "outputs": [],
   "source": [
    "pred_L100700 = ypred"
   ]
  },
  {
   "cell_type": "markdown",
   "metadata": {},
   "source": [
    "Categorical values\n",
    "====="
   ]
  },
  {
   "cell_type": "code",
   "execution_count": null,
   "metadata": {},
   "outputs": [],
   "source": [
    "pred_FIELD_33 = ytest.FIELD_33_y"
   ]
  },
  {
   "cell_type": "code",
   "execution_count": null,
   "metadata": {},
   "outputs": [],
   "source": [
    "pred_FIELD_38 = ytest.FIELD_38_y"
   ]
  },
  {
   "cell_type": "code",
   "execution_count": null,
   "metadata": {},
   "outputs": [],
   "source": [
    "pred_FIELD_40 = ytest.FIELD_40_y"
   ]
  },
  {
   "cell_type": "code",
   "execution_count": null,
   "metadata": {},
   "outputs": [],
   "source": [
    "pred_FIELD_31 = ytest.FIELD_31_y"
   ]
  },
  {
   "cell_type": "code",
   "execution_count": null,
   "metadata": {},
   "outputs": [],
   "source": [
    "pred_SEX = ytest.SEX_y"
   ]
  },
  {
   "cell_type": "code",
   "execution_count": null,
   "metadata": {},
   "outputs": [],
   "source": [
    "pred_AGE = ytest.AGE_y + 1"
   ]
  },
  {
   "cell_type": "markdown",
   "metadata": {},
   "source": [
    "Combine the predicted values to make dataframe\n",
    "===="
   ]
  },
  {
   "cell_type": "code",
   "execution_count": null,
   "metadata": {},
   "outputs": [],
   "source": [
    "NextYearData = pd.DataFrame()\n",
    "NextYearData[\"P_FIELD_1\"] = ytest.FIELD_1_y.values\n",
    "NextYearData[\"P_FIELD_2\"] = ytest.FIELD_2_y.values\n",
    "NextYearData[\"P_L104600\"] = pred_L104600\n",
    "NextYearData[\"P_L103000\"] = pred_L103000\n",
    "NextYearData[\"P_S000300\"] = pred_S000300\n",
    "NextYearData[\"P_L101700\"] = pred_L101700\n",
    "NextYearData[\"P_L100700\"] = pred_L100700\n",
    "NextYearData[\"P_FIELD_33\"] = pred_FIELD_33.values\n",
    "NextYearData[\"P_FIELD_38\"] = pred_FIELD_38.values\n",
    "NextYearData[\"P_FIELD_40\"] = pred_FIELD_40.values\n",
    "NextYearData[\"P_FIELD_31\"] = pred_FIELD_31.values\n",
    "NextYearData[\"P_SEX\"] = pred_SEX.values\n",
    "NextYearData[\"P_AGE\"] = pred_AGE.values\n",
    "\n",
    "NextYearData[\"P_AGE\"] = pred_AGE.values\n",
    "NextYearData[\"P_AGE\"] = pred_AGE.values\n",
    "\n",
    "\n",
    "NextYearData[\"A_L100800\"] = ytest.L100800_y.values\n",
    "\n",
    "conditions = [\n",
    "    (NextYearData.A_L100800 < 100),\n",
    "    (NextYearData.A_L100800 >= 100) & (NextYearData.A_L100800 < 126),\n",
    "    (NextYearData.A_L100800 >= 126),\n",
    "]\n",
    "choices = [0, 1, 2]\n",
    "NextYearData[\"A_CLASS\"] = np.select(conditions, choices, default=0)\n",
    "NextYearData.head()"
   ]
  },
  {
   "cell_type": "code",
   "execution_count": null,
   "metadata": {},
   "outputs": [],
   "source": [
    "NextYearData.to_csv(\"Predicted_NextYearData.txt\", sep=\",\")"
   ]
  },
  {
   "cell_type": "markdown",
   "metadata": {},
   "source": [
    "==============================================\n",
    "=========="
   ]
  },
  {
   "cell_type": "code",
   "execution_count": null,
   "metadata": {},
   "outputs": [],
   "source": [
    "# select the actual next year values\n",
    "\n",
    "NextYearData_actualData = pd.DataFrame()\n",
    "NextYearData_actualData[\"FIELD_1\"] = ytest.FIELD_1_y.values\n",
    "NextYearData_actualData[\"FIELD_2\"] = ytest.FIELD_2_y.values\n",
    "NextYearData_actualData[\"L104600\"] = ytest.L104600_y.values\n",
    "NextYearData_actualData[\"L103000\"] = ytest.L103000_y.values\n",
    "NextYearData_actualData[\"S000300\"] = ytest.S000300_y.values\n",
    "NextYearData_actualData[\"L101700\"] = ytest.L101700_y.values\n",
    "NextYearData_actualData[\"L100700\"] = ytest.L100700_y.values\n",
    "NextYearData_actualData[\"FIELD_33\"] = ytest.FIELD_33_y.values\n",
    "NextYearData_actualData[\"FIELD_38\"] = ytest.FIELD_38_y.values\n",
    "NextYearData_actualData[\"FIELD_40\"] = ytest.FIELD_40_y.values\n",
    "NextYearData_actualData[\"FIELD_31\"] = ytest.FIELD_31_y.values\n",
    "NextYearData_actualData[\"SEX\"] = ytest.SEX_y.values\n",
    "NextYearData_actualData[\"AGE\"] = ytest.AGE_y.values\n",
    "\n",
    "NextYearData_actualData[\"L100800\"] = ytest.L100800_y.values\n",
    "\n",
    "conditions = [\n",
    "    (NextYearData_actualData.L100800 < 100),\n",
    "    (NextYearData_actualData.L100800 >= 100) & (NextYearData_actualData.L100800 < 126),\n",
    "    (NextYearData_actualData.L100800 >= 126),\n",
    "]\n",
    "choices = [0, 1, 2]\n",
    "NextYearData_actualData[\"CLASS\"] = np.select(conditions, choices, default=0)\n",
    "NextYearData_actualData.head()\n",
    "\n",
    "NextYearData_actualData.to_csv(\"NextYearData_actualData_test.txt\", sep=\",\")"
   ]
  },
  {
   "cell_type": "markdown",
   "metadata": {},
   "source": [
    "==========================================================\n",
    "==="
   ]
  },
  {
   "cell_type": "code",
   "execution_count": null,
   "metadata": {},
   "outputs": [],
   "source": [
    "# select the actual this year values\n",
    "\n",
    "ThisYearData_actualData = pd.DataFrame()\n",
    "ThisYearData_actualData[\"FIELD_1\"] = xtest.FIELD_1_x.values\n",
    "ThisYearData_actualData[\"FIELD_2\"] = xtest.FIELD_2_x.values\n",
    "ThisYearData_actualData[\"L104600\"] = xtest.L104600_x.values\n",
    "ThisYearData_actualData[\"L103000\"] = xtest.L103000_x.values\n",
    "ThisYearData_actualData[\"S000300\"] = xtest.S000300_x.values\n",
    "ThisYearData_actualData[\"L101700\"] = xtest.L101700_x.values\n",
    "ThisYearData_actualData[\"L100700\"] = xtest.L100700_x.values\n",
    "ThisYearData_actualData[\"FIELD_33\"] = xtest.FIELD_33_x.values\n",
    "ThisYearData_actualData[\"FIELD_38\"] = xtest.FIELD_38_x.values\n",
    "ThisYearData_actualData[\"FIELD_40\"] = xtest.FIELD_40_x.values\n",
    "ThisYearData_actualData[\"FIELD_31\"] = xtest.FIELD_31_x.values\n",
    "ThisYearData_actualData[\"SEX\"] = xtest.SEX_x.values\n",
    "ThisYearData_actualData[\"AGE\"] = xtest.AGE_x.values\n",
    "ThisYearData_actualData[\"L100800\"] = xtest.L100800_x.values\n",
    "\n",
    "conditions = [\n",
    "    (ThisYearData_actualData.L100800 < 100),\n",
    "    (ThisYearData_actualData.L100800 >= 100) & (ThisYearData_actualData.L100800 < 126),\n",
    "    (ThisYearData_actualData.L100800 >= 126),\n",
    "]\n",
    "choices = [0, 1, 2]\n",
    "ThisYearData_actualData[\"CLASS\"] = np.select(conditions, choices, default=0)\n",
    "ThisYearData_actualData.head()\n",
    "\n",
    "ThisYearData_actualData.to_csv(\"ThisYearData_actualData_test.txt\", sep=\",\")"
   ]
  },
  {
   "cell_type": "markdown",
   "metadata": {},
   "source": [
    "============================================\n",
    "========="
   ]
  },
  {
   "cell_type": "code",
   "execution_count": null,
   "metadata": {},
   "outputs": [],
   "source": [
    "# select the actual next year values train\n",
    "\n",
    "NextYearData_actualData_train = pd.DataFrame()\n",
    "NextYearData_actualData_train[\"FIELD_1\"] = ytrain.FIELD_1_y.values\n",
    "NextYearData_actualData_train[\"FIELD_2\"] = ytrain.FIELD_2_y.values\n",
    "NextYearData_actualData_train[\"L104600\"] = ytrain.L104600_y.values\n",
    "NextYearData_actualData_train[\"L103000\"] = ytrain.L103000_y.values\n",
    "NextYearData_actualData_train[\"S000300\"] = ytrain.S000300_y.values\n",
    "NextYearData_actualData_train[\"L101700\"] = ytrain.L101700_y.values\n",
    "NextYearData_actualData_train[\"L100700\"] = ytrain.L100700_y.values\n",
    "NextYearData_actualData_train[\"FIELD_33\"] = ytrain.FIELD_33_y.values\n",
    "NextYearData_actualData_train[\"FIELD_38\"] = ytrain.FIELD_38_y.values\n",
    "NextYearData_actualData_train[\"FIELD_40\"] = ytrain.FIELD_40_y.values\n",
    "NextYearData_actualData_train[\"FIELD_31\"] = ytrain.FIELD_31_y.values\n",
    "NextYearData_actualData_train[\"SEX\"] = ytrain.SEX_y.values\n",
    "NextYearData_actualData_train[\"AGE\"] = ytrain.AGE_y.values\n",
    "\n",
    "NextYearData_actualData_train[\"L100800\"] = ytrain.L100800_y.values\n",
    "\n",
    "conditions = [\n",
    "    (NextYearData_actualData_train.L100800 < 100),\n",
    "    (NextYearData_actualData_train.L100800 >= 100)\n",
    "    & (NextYearData_actualData_train.L100800 < 126),\n",
    "    (NextYearData_actualData_train.L100800 >= 126),\n",
    "]\n",
    "choices = [0, 1, 2]\n",
    "NextYearData_actualData_train[\"CLASS\"] = np.select(conditions, choices, default=0)\n",
    "NextYearData_actualData_train.head()\n",
    "\n",
    "NextYearData_actualData_train.to_csv(\"NextYearData_actualData_train.txt\", sep=\",\")"
   ]
  },
  {
   "cell_type": "markdown",
   "metadata": {},
   "source": [
    "=================================================\n",
    "=============="
   ]
  },
  {
   "cell_type": "code",
   "execution_count": null,
   "metadata": {},
   "outputs": [],
   "source": [
    "# select the actual this year values train\n",
    "\n",
    "ThisYearData_actualData_train = pd.DataFrame()\n",
    "ThisYearData_actualData_train[\"FIELD_1\"] = xtrain.FIELD_1_x.values\n",
    "ThisYearData_actualData_train[\"FIELD_2\"] = xtrain.FIELD_2_x.values\n",
    "ThisYearData_actualData_train[\"L104600\"] = xtrain.L104600_x.values\n",
    "ThisYearData_actualData_train[\"L103000\"] = xtrain.L103000_x.values\n",
    "ThisYearData_actualData_train[\"S000300\"] = xtrain.S000300_x.values\n",
    "ThisYearData_actualData_train[\"L101700\"] = xtrain.L101700_x.values\n",
    "ThisYearData_actualData_train[\"L100700\"] = xtrain.L100700_x.values\n",
    "ThisYearData_actualData_train[\"FIELD_33\"] = xtrain.FIELD_33_x.values\n",
    "ThisYearData_actualData_train[\"FIELD_38\"] = xtrain.FIELD_38_x.values\n",
    "ThisYearData_actualData_train[\"FIELD_40\"] = xtrain.FIELD_40_x.values\n",
    "ThisYearData_actualData_train[\"FIELD_31\"] = xtrain.FIELD_31_x.values\n",
    "ThisYearData_actualData_train[\"SEX\"] = xtrain.SEX_x.values\n",
    "ThisYearData_actualData_train[\"AGE\"] = xtrain.AGE_x.values\n",
    "ThisYearData_actualData_train[\"L100800\"] = xtrain.L100800_x.values\n",
    "\n",
    "conditions = [\n",
    "    (ThisYearData_actualData_train.L100800 < 100),\n",
    "    (ThisYearData_actualData_train.L100800 >= 100)\n",
    "    & (ThisYearData_actualData_train.L100800 < 126),\n",
    "    (ThisYearData_actualData_train.L100800 >= 126),\n",
    "]\n",
    "choices = [0, 1, 2]\n",
    "ThisYearData_actualData_train[\"CLASS\"] = np.select(conditions, choices, default=0)\n",
    "ThisYearData_actualData_train.head()\n",
    "\n",
    "ThisYearData_actualData_train.to_csv(\"ThisYearData_actualData_train.txt\", sep=\",\")"
   ]
  },
  {
   "cell_type": "code",
   "execution_count": null,
   "metadata": {},
   "outputs": [],
   "source": []
  }
 ],
 "metadata": {
  "kernelspec": {
   "display_name": "Python 3",
   "language": "python",
   "name": "python3"
  },
  "language_info": {
   "codemirror_mode": {
    "name": "ipython",
    "version": 3
   },
   "file_extension": ".py",
   "mimetype": "text/x-python",
   "name": "python",
   "nbconvert_exporter": "python",
   "pygments_lexer": "ipython3",
   "version": "3.7.3"
  }
 },
 "nbformat": 4,
 "nbformat_minor": 2
}

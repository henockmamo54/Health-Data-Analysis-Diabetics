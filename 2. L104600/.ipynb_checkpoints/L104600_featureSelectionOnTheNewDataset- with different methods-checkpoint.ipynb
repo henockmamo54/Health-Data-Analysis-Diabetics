{
 "cells": [
  {
   "cell_type": "code",
   "execution_count": 6,
   "metadata": {},
   "outputs": [],
   "source": [
    "import numpy as np\n",
    "import pandas as pd \n",
    "import warnings\n",
    "warnings.filterwarnings('ignore')\n",
    "from scipy.stats import chi2_contingency\n",
    "from scipy import stats\n",
    "import seaborn as sns"
   ]
  },
  {
   "cell_type": "code",
   "execution_count": 7,
   "metadata": {},
   "outputs": [],
   "source": [
    "x=pd.read_csv('../XLable_onlyDiabeticRemoved.txt')\n",
    "y=pd.read_csv('../TargetLable_onlyDiabeticRemoved.txt')\n",
    "\n",
    "y=y[['Unnamed: 0','L104600']]"
   ]
  },
  {
   "cell_type": "code",
   "execution_count": 20,
   "metadata": {},
   "outputs": [
    {
     "name": "stdout",
     "output_type": "stream",
     "text": [
      "(535169, 404)\n"
     ]
    }
   ],
   "source": [
    "data= pd.read_csv('../sep19SexAndAgeAddedFINAL DATASET_ver2.txt',sep=',')\n",
    "# data= pd.merge(x,y, how='inner',left_on='Unnamed: 0', right_on='Unnamed: 0')\n",
    " \n",
    "#combine FIELD_6 and FIELD_7 both represent the same thing (Women's marital status)\n",
    "data['max']=np.min(data[['FIELD_6','FIELD_7']],axis=1)\n",
    "data=data.drop(columns=['FIELD_6','FIELD_7','B_DAY'])\n",
    "print(data.shape)"
   ]
  },
  {
   "cell_type": "code",
   "execution_count": 21,
   "metadata": {},
   "outputs": [
    {
     "name": "stdout",
     "output_type": "stream",
     "text": [
      "(466680, 404)\n"
     ]
    }
   ],
   "source": [
    "# filter the data set \n",
    "data=data[data.FIELD_16!=1] # exclude people who are diagnosed for (diabetes) \n",
    "data=data[data.FIELD_23!=1] # exclude people who are on medication for diabetes\n",
    "\n",
    "data=data[data.FIELD_15!=1] # exclude people who are diagnosed for (high blood pressure)\n",
    "data=data[data.FIELD_22!=1] # exclude people who are on medication for high blood pressure\n",
    "\n",
    "data=data[data.FIELD_17!=1] # exclude people who are diagnosed for hyperlipidemia\n",
    "data=data[data.FIELD_24!=1] # exclude people who are on medication for hyperlipidemia\n",
    "\n",
    "print(data.shape)"
   ]
  },
  {
   "cell_type": "code",
   "execution_count": 22,
   "metadata": {},
   "outputs": [],
   "source": [
    "#split column types to categorical and numerical\n",
    "numerical_cols = list(data.columns[~data.columns.str.startswith('FIELD')])\n",
    "categorical_cols = list(data.columns[data.columns.str.startswith('FIELD')])"
   ]
  },
  {
   "cell_type": "markdown",
   "metadata": {},
   "source": [
    "Calculate correlation Value - for numerical values\n",
    "========"
   ]
  },
  {
   "cell_type": "code",
   "execution_count": 24,
   "metadata": {},
   "outputs": [
    {
     "data": {
      "text/html": [
       "<div>\n",
       "<style scoped>\n",
       "    .dataframe tbody tr th:only-of-type {\n",
       "        vertical-align: middle;\n",
       "    }\n",
       "\n",
       "    .dataframe tbody tr th {\n",
       "        vertical-align: top;\n",
       "    }\n",
       "\n",
       "    .dataframe thead th {\n",
       "        text-align: right;\n",
       "    }\n",
       "</style>\n",
       "<table border=\"1\" class=\"dataframe\">\n",
       "  <thead>\n",
       "    <tr style=\"text-align: right;\">\n",
       "      <th></th>\n",
       "      <th>Col</th>\n",
       "      <th>val</th>\n",
       "    </tr>\n",
       "  </thead>\n",
       "  <tbody>\n",
       "    <tr>\n",
       "      <th>131</th>\n",
       "      <td>L382900</td>\n",
       "      <td>1.0</td>\n",
       "    </tr>\n",
       "    <tr>\n",
       "      <th>40</th>\n",
       "      <td>L104600</td>\n",
       "      <td>1.0</td>\n",
       "    </tr>\n",
       "    <tr>\n",
       "      <th>119</th>\n",
       "      <td>L305900</td>\n",
       "      <td>1.0</td>\n",
       "    </tr>\n",
       "    <tr>\n",
       "      <th>59</th>\n",
       "      <td>L117700</td>\n",
       "      <td>1.0</td>\n",
       "    </tr>\n",
       "    <tr>\n",
       "      <th>60</th>\n",
       "      <td>L120100</td>\n",
       "      <td>1.0</td>\n",
       "    </tr>\n",
       "  </tbody>\n",
       "</table>\n",
       "</div>"
      ],
      "text/plain": [
       "         Col  val\n",
       "131  L382900  1.0\n",
       "40   L104600  1.0\n",
       "119  L305900  1.0\n",
       "59   L117700  1.0\n",
       "60   L120100  1.0"
      ]
     },
     "execution_count": 24,
     "metadata": {},
     "output_type": "execute_result"
    }
   ],
   "source": [
    "corr=data[numerical_cols].corr()\n",
    "corr=corr.L104600\n",
    "corrvalPD=pd.DataFrame()\n",
    "corrvalPD['Col']=corr.index\n",
    "corrvalPD['val']=abs(corr.values)\n",
    "\n",
    "corrvalPD=corrvalPD.sort_values(by='val',ascending=False)\n",
    "corrvalPD.head()"
   ]
  },
  {
   "cell_type": "code",
   "execution_count": 25,
   "metadata": {},
   "outputs": [
    {
     "data": {
      "text/html": [
       "<div>\n",
       "<style scoped>\n",
       "    .dataframe tbody tr th:only-of-type {\n",
       "        vertical-align: middle;\n",
       "    }\n",
       "\n",
       "    .dataframe tbody tr th {\n",
       "        vertical-align: top;\n",
       "    }\n",
       "\n",
       "    .dataframe thead th {\n",
       "        text-align: right;\n",
       "    }\n",
       "</style>\n",
       "<table border=\"1\" class=\"dataframe\">\n",
       "  <thead>\n",
       "    <tr style=\"text-align: right;\">\n",
       "      <th></th>\n",
       "      <th>Col</th>\n",
       "      <th>Count</th>\n",
       "    </tr>\n",
       "  </thead>\n",
       "  <tbody>\n",
       "    <tr>\n",
       "      <th>0</th>\n",
       "      <td>Unnamed: 0</td>\n",
       "      <td>466680</td>\n",
       "    </tr>\n",
       "    <tr>\n",
       "      <th>1</th>\n",
       "      <td>COMPARE</td>\n",
       "      <td>466680</td>\n",
       "    </tr>\n",
       "    <tr>\n",
       "      <th>2</th>\n",
       "      <td>AGE</td>\n",
       "      <td>466679</td>\n",
       "    </tr>\n",
       "    <tr>\n",
       "      <th>3</th>\n",
       "      <td>SEX</td>\n",
       "      <td>466679</td>\n",
       "    </tr>\n",
       "    <tr>\n",
       "      <th>4</th>\n",
       "      <td>L100100</td>\n",
       "      <td>446887</td>\n",
       "    </tr>\n",
       "  </tbody>\n",
       "</table>\n",
       "</div>"
      ],
      "text/plain": [
       "          Col   Count\n",
       "0  Unnamed: 0  466680\n",
       "1     COMPARE  466680\n",
       "2         AGE  466679\n",
       "3         SEX  466679\n",
       "4     L100100  446887"
      ]
     },
     "execution_count": 25,
     "metadata": {},
     "output_type": "execute_result"
    }
   ],
   "source": [
    "#count of none NA values of feature set\n",
    "mydataset=data.copy()[numerical_cols]\n",
    "colCount=[]\n",
    "for i in mydataset.columns:\n",
    "    colCount.append([i,mydataset[i].dropna().shape[0]])\n",
    "\n",
    "colCountPD=pd.DataFrame(colCount,columns=['Col','Count'])\n",
    "colCountPD.head()"
   ]
  },
  {
   "cell_type": "code",
   "execution_count": 26,
   "metadata": {},
   "outputs": [
    {
     "data": {
      "text/html": [
       "<div>\n",
       "<style scoped>\n",
       "    .dataframe tbody tr th:only-of-type {\n",
       "        vertical-align: middle;\n",
       "    }\n",
       "\n",
       "    .dataframe tbody tr th {\n",
       "        vertical-align: top;\n",
       "    }\n",
       "\n",
       "    .dataframe thead th {\n",
       "        text-align: right;\n",
       "    }\n",
       "</style>\n",
       "<table border=\"1\" class=\"dataframe\">\n",
       "  <thead>\n",
       "    <tr style=\"text-align: right;\">\n",
       "      <th></th>\n",
       "      <th>Col</th>\n",
       "      <th>val</th>\n",
       "      <th>Count</th>\n",
       "    </tr>\n",
       "  </thead>\n",
       "  <tbody>\n",
       "    <tr>\n",
       "      <th>1</th>\n",
       "      <td>L104600</td>\n",
       "      <td>1.000000</td>\n",
       "      <td>161194</td>\n",
       "    </tr>\n",
       "    <tr>\n",
       "      <th>8</th>\n",
       "      <td>L100800</td>\n",
       "      <td>0.671399</td>\n",
       "      <td>466134</td>\n",
       "    </tr>\n",
       "    <tr>\n",
       "      <th>16</th>\n",
       "      <td>L103300</td>\n",
       "      <td>0.267091</td>\n",
       "      <td>397549</td>\n",
       "    </tr>\n",
       "    <tr>\n",
       "      <th>17</th>\n",
       "      <td>max</td>\n",
       "      <td>0.256458</td>\n",
       "      <td>204407</td>\n",
       "    </tr>\n",
       "    <tr>\n",
       "      <th>20</th>\n",
       "      <td>AGE</td>\n",
       "      <td>0.242576</td>\n",
       "      <td>466679</td>\n",
       "    </tr>\n",
       "    <tr>\n",
       "      <th>22</th>\n",
       "      <td>L103000</td>\n",
       "      <td>0.236908</td>\n",
       "      <td>465103</td>\n",
       "    </tr>\n",
       "    <tr>\n",
       "      <th>23</th>\n",
       "      <td>S000300</td>\n",
       "      <td>0.235990</td>\n",
       "      <td>465393</td>\n",
       "    </tr>\n",
       "    <tr>\n",
       "      <th>26</th>\n",
       "      <td>L102900</td>\n",
       "      <td>0.196673</td>\n",
       "      <td>465273</td>\n",
       "    </tr>\n",
       "    <tr>\n",
       "      <th>28</th>\n",
       "      <td>L101600</td>\n",
       "      <td>0.169049</td>\n",
       "      <td>452094</td>\n",
       "    </tr>\n",
       "    <tr>\n",
       "      <th>30</th>\n",
       "      <td>S000501</td>\n",
       "      <td>0.166674</td>\n",
       "      <td>466410</td>\n",
       "    </tr>\n",
       "    <tr>\n",
       "      <th>33</th>\n",
       "      <td>L103200</td>\n",
       "      <td>0.161501</td>\n",
       "      <td>464362</td>\n",
       "    </tr>\n",
       "    <tr>\n",
       "      <th>34</th>\n",
       "      <td>L103100</td>\n",
       "      <td>0.159375</td>\n",
       "      <td>464378</td>\n",
       "    </tr>\n",
       "    <tr>\n",
       "      <th>35</th>\n",
       "      <td>L101700</td>\n",
       "      <td>0.158633</td>\n",
       "      <td>465651</td>\n",
       "    </tr>\n",
       "    <tr>\n",
       "      <th>36</th>\n",
       "      <td>L101300</td>\n",
       "      <td>0.157687</td>\n",
       "      <td>466235</td>\n",
       "    </tr>\n",
       "    <tr>\n",
       "      <th>37</th>\n",
       "      <td>S000502</td>\n",
       "      <td>0.155266</td>\n",
       "      <td>466410</td>\n",
       "    </tr>\n",
       "    <tr>\n",
       "      <th>41</th>\n",
       "      <td>L190000</td>\n",
       "      <td>0.139233</td>\n",
       "      <td>465286</td>\n",
       "    </tr>\n",
       "    <tr>\n",
       "      <th>42</th>\n",
       "      <td>L102000</td>\n",
       "      <td>0.132961</td>\n",
       "      <td>69625</td>\n",
       "    </tr>\n",
       "    <tr>\n",
       "      <th>43</th>\n",
       "      <td>L190300</td>\n",
       "      <td>0.130289</td>\n",
       "      <td>465316</td>\n",
       "    </tr>\n",
       "    <tr>\n",
       "      <th>48</th>\n",
       "      <td>L504700</td>\n",
       "      <td>0.117589</td>\n",
       "      <td>401035</td>\n",
       "    </tr>\n",
       "    <tr>\n",
       "      <th>49</th>\n",
       "      <td>L101100</td>\n",
       "      <td>0.115910</td>\n",
       "      <td>240499</td>\n",
       "    </tr>\n",
       "  </tbody>\n",
       "</table>\n",
       "</div>"
      ],
      "text/plain": [
       "        Col       val   Count\n",
       "1   L104600  1.000000  161194\n",
       "8   L100800  0.671399  466134\n",
       "16  L103300  0.267091  397549\n",
       "17      max  0.256458  204407\n",
       "20      AGE  0.242576  466679\n",
       "22  L103000  0.236908  465103\n",
       "23  S000300  0.235990  465393\n",
       "26  L102900  0.196673  465273\n",
       "28  L101600  0.169049  452094\n",
       "30  S000501  0.166674  466410\n",
       "33  L103200  0.161501  464362\n",
       "34  L103100  0.159375  464378\n",
       "35  L101700  0.158633  465651\n",
       "36  L101300  0.157687  466235\n",
       "37  S000502  0.155266  466410\n",
       "41  L190000  0.139233  465286\n",
       "42  L102000  0.132961   69625\n",
       "43  L190300  0.130289  465316\n",
       "48  L504700  0.117589  401035\n",
       "49  L101100  0.115910  240499"
      ]
     },
     "execution_count": 26,
     "metadata": {},
     "output_type": "execute_result"
    }
   ],
   "source": [
    "mergedColCorrCount=pd.merge(corrvalPD,colCountPD,how='inner',left_on='Col',right_on='Col')\n",
    "mergedColCorrCount=mergedColCorrCount[mergedColCorrCount.Count>50000]\n",
    "mergedColCorrCount=mergedColCorrCount.sort_values(by='val', ascending=False)\n",
    "mergedColCorrCount.head(20)"
   ]
  },
  {
   "cell_type": "code",
   "execution_count": 27,
   "metadata": {},
   "outputs": [
    {
     "name": "stdout",
     "output_type": "stream",
     "text": [
      "['L104600', 'L100800', 'L103300', 'max', 'AGE', 'L103000', 'S000300', 'L102900', 'L101600', 'S000501', 'L103200', 'L103100', 'L101700', 'L101300', 'S000502', 'L190000', 'L102000', 'L190300', 'L504700', 'L101100']\n"
     ]
    }
   ],
   "source": [
    "print(list(mergedColCorrCount.head(20).Col))"
   ]
  },
  {
   "cell_type": "markdown",
   "metadata": {},
   "source": [
    "Anova test - For categorical values [Questionnaire answers]\n",
    "======="
   ]
  },
  {
   "cell_type": "code",
   "execution_count": 33,
   "metadata": {},
   "outputs": [],
   "source": [
    "mydataset=data.copy()[categorical_cols] #[np.insert(categorical_cols,0,'L100800')]\n",
    "\n",
    "\n",
    "mydataset=mydataset.drop(columns=['FIELD_1','FIELD_2','FIELD_8','FIELD_10','FIELD_11','FIELD_12','FIELD_39','FIELD_88',\n",
    "                                    'FIELD_89','FIELD_109','FIELD_110','FIELD_111','FIELD_70','FIELD_82','FIELD_85','FIELD_91',\n",
    "                                    'FIELD_103','FIELD_106',\n",
    "                                    'FIELD_64','FIELD_65','FIELD_66','FIELD_67','FIELD_68','FIELD_69','FIELD_70','FIELD_72',\n",
    "                                    'FIELD_73','FIELD_74','FIELD_75','FIELD_76','FIELD_77','FIELD_80','FIELD_81','FIELD_84',\n",
    "                                    'FIELD_85','FIELD_87','FIELD_90','FIELD_93','FIELD_94','FIELD_95','FIELD_96','FIELD_97',\n",
    "                                    'FIELD_98','FIELD_101','FIELD_102','FIELD_105','FIELD_108','FIELD_112','FIELD_113',\n",
    "                                    'FIELD_114','FIELD_115','FIELD_116','FIELD_117','FIELD_118','FIELD_119','FIELD_120',\n",
    "                                    'FIELD_121','FIELD_122','FIELD_123','FIELD_124','FIELD_125','FIELD_126','FIELD_127',\n",
    "                                    'FIELD_128','FIELD_129','FIELD_130','FIELD_131','FIELD_132','FIELD_133','FIELD_134',\n",
    "                                    'FIELD_135','FIELD_136','FIELD_137','FIELD_138','FIELD_139','FIELD_140'\n",
    "                                 ])\n",
    "\n",
    "mydataset=mydataset.drop(mydataset[mydataset.FIELD_3=='`'].index)\n",
    "mydataset=mydataset.drop(mydataset[mydataset.FIELD_3=='G'].index)\n",
    "\n",
    "\n",
    "mydataset=mydataset.drop(mydataset[mydataset.FIELD_4=='.'].index)\n",
    "mydataset=mydataset.drop(mydataset[mydataset.FIELD_5=='.'].index)\n",
    "\n",
    "mydataset=mydataset.drop(mydataset[mydataset.FIELD_35=='?'].index)\n",
    "mydataset=mydataset.drop(mydataset[mydataset.FIELD_35=='.'].index)\n",
    "mydataset=mydataset.drop(mydataset[mydataset.FIELD_36=='.'].index)\n",
    "mydataset=mydataset.drop(mydataset[mydataset.FIELD_37=='\\\\'].index)\n",
    " \n",
    "# mydataset=mydataset.drop(mydataset[mydataset.FIELD_39 == '7+' ].index)\n",
    "# mydataset=mydataset.drop(mydataset[mydataset.FIELD_39 == '5~7'].index)\n",
    "# mydataset=mydataset.drop(mydataset[mydataset.FIELD_39 == '3-4'].index)\n",
    "\n",
    "\n",
    "# mydataset=mydataset.drop(mydataset[mydataset.FIELD_95=='.'].index)"
   ]
  },
  {
   "cell_type": "code",
   "execution_count": 34,
   "metadata": {
    "scrolled": true
   },
   "outputs": [
    {
     "name": "stdout",
     "output_type": "stream",
     "text": [
      "0 FIELD_3\n",
      "1 FIELD_4\n",
      "2 FIELD_5\n",
      "3 FIELD_9\n",
      "4 FIELD_13\n",
      "5 FIELD_14\n",
      "6 FIELD_15\n",
      "7 FIELD_16\n",
      "8 FIELD_17\n",
      "9 FIELD_18\n",
      "10 FIELD_19\n",
      "11 FIELD_20\n",
      "12 FIELD_21\n",
      "13 FIELD_22\n",
      "14 FIELD_23\n",
      "15 FIELD_24\n",
      "16 FIELD_25\n",
      "17 FIELD_26\n",
      "18 FIELD_27\n",
      "19 FIELD_28\n",
      "20 FIELD_29\n",
      "21 FIELD_30\n",
      "22 FIELD_31\n",
      "23 FIELD_32\n",
      "24 FIELD_33\n",
      "25 FIELD_34\n",
      "26 FIELD_35\n",
      "27 FIELD_36\n",
      "28 FIELD_37\n",
      "29 FIELD_38\n",
      "30 FIELD_40\n",
      "31 FIELD_41\n",
      "32 FIELD_42\n",
      "33 FIELD_43\n",
      "34 FIELD_44\n",
      "35 FIELD_45\n",
      "36 FIELD_46\n",
      "37 FIELD_47\n",
      "38 FIELD_48\n",
      "39 FIELD_49\n",
      "40 FIELD_50\n",
      "41 FIELD_51\n",
      "42 FIELD_52\n",
      "43 FIELD_53\n",
      "44 FIELD_54\n",
      "45 FIELD_55\n",
      "46 FIELD_56\n",
      "47 FIELD_57\n",
      "48 FIELD_58\n",
      "49 FIELD_59\n",
      "50 FIELD_60\n",
      "51 FIELD_61\n",
      "52 FIELD_62\n",
      "53 FIELD_63\n"
     ]
    }
   ],
   "source": [
    "colslist=mydataset.columns\n",
    "DiabeticColVals=data.L104600\n",
    "\n",
    "cor=[]\n",
    "pval=[]\n",
    "count=[]\n",
    "\n",
    "for i in range(len(colslist)):\n",
    "    print(i,colslist[i])\n",
    "    \n",
    "    temp=pd.DataFrame([])\n",
    "    temp['a']=DiabeticColVals\n",
    "    temp['b']=mydataset[colslist[i]].astype(float)\n",
    "    temp=temp.dropna()\n",
    "    count.append(temp.shape[0])\n",
    "    \n",
    "    uniquevalues=temp.b.unique()\n",
    "    \n",
    "    selectedGroupVals=[]\n",
    "    for k in range(len(uniquevalues)):\n",
    "        selectedGroupVals.append(np.asarray(temp[temp['b']==uniquevalues[k]].a))\n",
    "\n",
    "    F, p = stats.f_oneway(*selectedGroupVals)\n",
    "    cor.append(F)\n",
    "    pval.append(p)\n",
    "    "
   ]
  },
  {
   "cell_type": "code",
   "execution_count": 35,
   "metadata": {},
   "outputs": [],
   "source": [
    "FvalPvalCorr=pd.DataFrame()    \n",
    "FvalPvalCorr['Cols']=colslist\n",
    "FvalPvalCorr['F']=cor\n",
    "FvalPvalCorr['P']=pval\n",
    "FvalPvalCorr['Count']=count\n",
    "FvalPvalCorr=FvalPvalCorr.sort_values(by='F', ascending=False)\n"
   ]
  },
  {
   "cell_type": "code",
   "execution_count": 36,
   "metadata": {},
   "outputs": [
    {
     "data": {
      "text/html": [
       "<div>\n",
       "<style scoped>\n",
       "    .dataframe tbody tr th:only-of-type {\n",
       "        vertical-align: middle;\n",
       "    }\n",
       "\n",
       "    .dataframe tbody tr th {\n",
       "        vertical-align: top;\n",
       "    }\n",
       "\n",
       "    .dataframe thead th {\n",
       "        text-align: right;\n",
       "    }\n",
       "</style>\n",
       "<table border=\"1\" class=\"dataframe\">\n",
       "  <thead>\n",
       "    <tr style=\"text-align: right;\">\n",
       "      <th></th>\n",
       "      <th>Cols</th>\n",
       "      <th>F</th>\n",
       "      <th>P</th>\n",
       "      <th>Count</th>\n",
       "    </tr>\n",
       "  </thead>\n",
       "  <tbody>\n",
       "    <tr>\n",
       "      <th>22</th>\n",
       "      <td>FIELD_31</td>\n",
       "      <td>601.135929</td>\n",
       "      <td>1.668798e-132</td>\n",
       "      <td>159832</td>\n",
       "    </tr>\n",
       "    <tr>\n",
       "      <th>24</th>\n",
       "      <td>FIELD_33</td>\n",
       "      <td>297.654705</td>\n",
       "      <td>3.110642e-318</td>\n",
       "      <td>160564</td>\n",
       "    </tr>\n",
       "    <tr>\n",
       "      <th>12</th>\n",
       "      <td>FIELD_21</td>\n",
       "      <td>144.909915</td>\n",
       "      <td>2.323962e-33</td>\n",
       "      <td>158504</td>\n",
       "    </tr>\n",
       "    <tr>\n",
       "      <th>18</th>\n",
       "      <td>FIELD_27</td>\n",
       "      <td>80.463878</td>\n",
       "      <td>1.181897e-35</td>\n",
       "      <td>159679</td>\n",
       "    </tr>\n",
       "    <tr>\n",
       "      <th>5</th>\n",
       "      <td>FIELD_14</td>\n",
       "      <td>63.271839</td>\n",
       "      <td>3.405682e-28</td>\n",
       "      <td>160688</td>\n",
       "    </tr>\n",
       "    <tr>\n",
       "      <th>19</th>\n",
       "      <td>FIELD_28</td>\n",
       "      <td>17.713902</td>\n",
       "      <td>2.568836e-05</td>\n",
       "      <td>159596</td>\n",
       "    </tr>\n",
       "    <tr>\n",
       "      <th>2</th>\n",
       "      <td>FIELD_5</td>\n",
       "      <td>16.718443</td>\n",
       "      <td>2.256394e-19</td>\n",
       "      <td>53897</td>\n",
       "    </tr>\n",
       "    <tr>\n",
       "      <th>29</th>\n",
       "      <td>FIELD_38</td>\n",
       "      <td>12.015843</td>\n",
       "      <td>2.672690e-17</td>\n",
       "      <td>148708</td>\n",
       "    </tr>\n",
       "    <tr>\n",
       "      <th>1</th>\n",
       "      <td>FIELD_4</td>\n",
       "      <td>10.831715</td>\n",
       "      <td>9.841347e-14</td>\n",
       "      <td>158257</td>\n",
       "    </tr>\n",
       "    <tr>\n",
       "      <th>9</th>\n",
       "      <td>FIELD_18</td>\n",
       "      <td>10.455934</td>\n",
       "      <td>1.222808e-03</td>\n",
       "      <td>160600</td>\n",
       "    </tr>\n",
       "  </tbody>\n",
       "</table>\n",
       "</div>"
      ],
      "text/plain": [
       "        Cols           F              P   Count\n",
       "22  FIELD_31  601.135929  1.668798e-132  159832\n",
       "24  FIELD_33  297.654705  3.110642e-318  160564\n",
       "12  FIELD_21  144.909915   2.323962e-33  158504\n",
       "18  FIELD_27   80.463878   1.181897e-35  159679\n",
       "5   FIELD_14   63.271839   3.405682e-28  160688\n",
       "19  FIELD_28   17.713902   2.568836e-05  159596\n",
       "2    FIELD_5   16.718443   2.256394e-19   53897\n",
       "29  FIELD_38   12.015843   2.672690e-17  148708\n",
       "1    FIELD_4   10.831715   9.841347e-14  158257\n",
       "9   FIELD_18   10.455934   1.222808e-03  160600"
      ]
     },
     "execution_count": 36,
     "metadata": {},
     "output_type": "execute_result"
    }
   ],
   "source": [
    "FvalPvalCorr[FvalPvalCorr.Count>50000].head(10)"
   ]
  },
  {
   "cell_type": "code",
   "execution_count": 37,
   "metadata": {},
   "outputs": [
    {
     "name": "stdout",
     "output_type": "stream",
     "text": [
      "['FIELD_31', 'FIELD_33', 'FIELD_21', 'FIELD_27', 'FIELD_14', 'FIELD_28', 'FIELD_5', 'FIELD_38', 'FIELD_4', 'FIELD_18']\n"
     ]
    }
   ],
   "source": [
    "print(list(FvalPvalCorr[FvalPvalCorr.Count>50000].Cols)[:10])"
   ]
  },
  {
   "cell_type": "markdown",
   "metadata": {},
   "source": [
    "================== Check Variance inflation factor and multi collinearity\n",
    "==================== "
   ]
  },
  {
   "cell_type": "code",
   "execution_count": 54,
   "metadata": {},
   "outputs": [],
   "source": [
    "# temppd=pd.DataFrame(data[['L100800', 'L103300', 'max', 'AGE', 'L103000', 'S000300', 'L102900', 'L101600', \n",
    "#                            'S000501', 'L103200', 'L103100', 'L101700', 'L101300', 'S000502', 'L190000', 'L102000', \n",
    "#                            'L190300', 'L504700', 'L101100','FIELD_31', 'FIELD_33', 'FIELD_21', 'FIELD_27', \n",
    "#                            'FIELD_14', 'FIELD_28', 'FIELD_5', 'FIELD_38', 'FIELD_4', 'FIELD_18'\n",
    "#                           ]]).dropna()  \n",
    "# temppd['y']=data.L104600\n",
    " \n",
    "\n",
    "# corr = (temppd.corr())\n",
    "# sns.heatmap(corr, vmin=-1, vmax=1) \n",
    "\n",
    "# corr.head(20)"
   ]
  },
  {
   "cell_type": "code",
   "execution_count": 56,
   "metadata": {},
   "outputs": [],
   "source": [
    "\n",
    "# def vifcal(inputdata,depcol):\n",
    "#     vifL5=[]\n",
    "#     import statsmodels.formula.api as sm\n",
    "#     xvars=inputdata.drop([depcol],axis=1)\n",
    "#     xvarnames=xvars.columns\n",
    "#     for i in range(0,xvarnames.shape[0]):\n",
    "#         _y=xvars[xvarnames[i]]\n",
    "#         _x=xvars[xvarnames.drop(xvarnames[i])]\n",
    "#         rsq=sm.ols(formula=\"_y~_x\",data=xvars).fit().rsquared\n",
    "#         vif=round(1/(1-rsq),2)\n",
    "#         print(i,', ',xvarnames[i],\" VIF = \",vif)\n",
    "#         if(vif<5):\n",
    "#             vifL5.append(xvarnames[i])\n",
    "#     return vifL5\n",
    "    \n",
    "    \n",
    "# newcols = vifcal(temppd,'y')"
   ]
  },
  {
   "cell_type": "code",
   "execution_count": null,
   "metadata": {},
   "outputs": [],
   "source": [
    "print(newcols,len(newcols))"
   ]
  },
  {
   "cell_type": "markdown",
   "metadata": {},
   "source": [
    "========================= LASSO method\n",
    "================"
   ]
  },
  {
   "cell_type": "code",
   "execution_count": null,
   "metadata": {},
   "outputs": [],
   "source": [
    "selectedcols=['L104600', 'L100800', 'L103300', 'max', 'AGE', 'L103000', 'S000300', 'L102900', 'L101600', \n",
    "                'S000501', 'L103200', 'L103100', 'L101700', 'L101300', 'S000502', 'L190000', 'L102000', \n",
    "                'L190300', 'L504700', 'L101100','FIELD_31', 'FIELD_33', 'FIELD_21', 'FIELD_27', \n",
    "                'FIELD_14', 'FIELD_28', 'FIELD_5', 'FIELD_38', 'FIELD_4', 'FIELD_18'\n",
    "             ]\n",
    "data2=data[selectedcols].copy().dropna()\n",
    "print(data2.shape)"
   ]
  },
  {
   "cell_type": "code",
   "execution_count": null,
   "metadata": {},
   "outputs": [],
   "source": [
    "x=data2[['L104600_x', 'L100800', 'S000300', 'max', 'AGE', 'L101300', 'S000501', 'L101700', \n",
    "              'S000502', 'L190000', 'L101600', 'L190300', 'L101100', 'SEX', 'FIELD_33', 'FIELD_31', 'FIELD_21', \n",
    "              'FIELD_27', 'FIELD_14', 'FIELD_28', 'FIELD_40', 'FIELD_41', 'FIELD_4', 'FIELD_32'\n",
    "        ]]\n",
    "y=data2.L104600_y"
   ]
  },
  {
   "cell_type": "code",
   "execution_count": null,
   "metadata": {},
   "outputs": [],
   "source": [
    "from sklearn import linear_model\n",
    "clf = linear_model.Lasso(alpha=0.1)\n",
    "clf.fit(x,y)\n",
    "\n",
    "print(clf.coef_)\n",
    "\n",
    "print(clf.intercept_)  \n",
    "\n",
    "# pd.DataFrame([x.columns.ravel(),clf.coef_.ravel()],columns=['Name','coeff'])\n",
    "\n",
    "lassod=pd.DataFrame()\n",
    "lassod['Name']=x.columns\n",
    "lassod['coeff']=clf.coef_\n",
    "lassod\n",
    "\n",
    "lassod=lassod.drop(lassod[lassod.coeff==0].index)\n",
    "lassod.coeff=abs(lassod.coeff)\n",
    "lassod=lassod.sort_values(by='coeff', ascending=False)\n",
    "lassod"
   ]
  },
  {
   "cell_type": "code",
   "execution_count": null,
   "metadata": {},
   "outputs": [],
   "source": [
    "print(list(lassod.Name[:16]))"
   ]
  },
  {
   "cell_type": "markdown",
   "metadata": {},
   "source": [
    "=============================== SelectKBest method\n",
    "========================"
   ]
  },
  {
   "cell_type": "code",
   "execution_count": null,
   "metadata": {},
   "outputs": [],
   "source": [
    "# from sklearn.feature_selection import chi2\n",
    "from sklearn.feature_selection import f_regression\n",
    "from sklearn.feature_selection import SelectKBest\n",
    "\n",
    "bestfeatures = SelectKBest(score_func=f_regression, k=10)\n",
    "fit = bestfeatures.fit(x,y)\n",
    "\n",
    "dfscores = pd.DataFrame(fit.scores_)\n",
    "dfcolumns = pd.DataFrame(x.columns)\n",
    "\n",
    "featureScores = pd.concat([dfcolumns,dfscores],axis=1)\n",
    "featureScores.columns = ['Specs','Score']  #naming the dataframe columns\n",
    "\n",
    "# x=x[x.columns[:15]]\n",
    "print(list(x.columns[:16]))"
   ]
  },
  {
   "cell_type": "markdown",
   "metadata": {},
   "source": [
    "========================================= LinearSVC\n",
    "==============="
   ]
  },
  {
   "cell_type": "code",
   "execution_count": null,
   "metadata": {},
   "outputs": [],
   "source": [
    "# from sklearn.svm import LinearSVC\n",
    "# from sklearn.datasets import load_iris\n",
    "# from sklearn.feature_selection import SelectFromModel\n",
    "\n",
    "# lsvc = LinearSVC(C=0.01, penalty=\"l1\", dual=False).fit(x, y)\n",
    "# model = SelectFromModel(lsvc, prefit=True)\n",
    "# X_new = model.transform(x)\n",
    "# X_new.shape"
   ]
  },
  {
   "cell_type": "code",
   "execution_count": null,
   "metadata": {},
   "outputs": [],
   "source": [
    "# x.dtypes"
   ]
  },
  {
   "cell_type": "markdown",
   "metadata": {},
   "source": [
    "================================ SequentialFeatureSelector \n",
    "================================"
   ]
  },
  {
   "cell_type": "code",
   "execution_count": null,
   "metadata": {},
   "outputs": [],
   "source": [
    "# from sklearn.linear_model import LinearRegression\n",
    "# from mlxtend.feature_selection import SequentialFeatureSelector as SFS\n",
    "# from mlxtend.plotting import plot_sequential_feature_selection as plot_sfs\n",
    "# from sklearn.ensemble import RandomForestRegressor\n",
    "\n",
    "# lr = RandomForestRegressor()\n",
    "\n",
    "# sfs = SFS(lr, \n",
    "#           k_features=13, \n",
    "#           forward=True, \n",
    "#           floating=False, \n",
    "#           scoring='neg_mean_squared_error',\n",
    "#           cv=5)\n",
    "\n",
    "# sfs = sfs.fit(x, y)\n",
    "# fig = plot_sfs(sfs.get_metric_dict(), kind='std_err')\n",
    "\n",
    "# plt.title('Sequential Forward Selection (w. StdErr)')\n",
    "# plt.grid()\n",
    "# plt.show()"
   ]
  },
  {
   "cell_type": "markdown",
   "metadata": {},
   "source": [
    "================================= feature_importances\n",
    "====="
   ]
  },
  {
   "cell_type": "code",
   "execution_count": null,
   "metadata": {},
   "outputs": [],
   "source": [
    "from sklearn.ensemble import ExtraTreesRegressor\n",
    "import matplotlib.pyplot as plt\n",
    "model = ExtraTreesRegressor()\n",
    "model.fit(x,y)\n",
    "\n",
    "print(model.feature_importances_) #use inbuilt class feature_importances of tree based classifiers\n",
    "\n",
    "#plot graph of feature importances for better visualization\n",
    "feat_importances = pd.Series(model.feature_importances_, index=x.columns)\n",
    "feat_importances.nlargest(16).plot(kind='barh')\n",
    "plt.show()\n",
    "\n",
    "print(feat_importances.nlargest(16).index)"
   ]
  },
  {
   "cell_type": "markdown",
   "metadata": {},
   "source": [
    "============================= Backward Elimination\n",
    "========"
   ]
  },
  {
   "cell_type": "code",
   "execution_count": null,
   "metadata": {},
   "outputs": [],
   "source": [
    "import statsmodels.regression.linear_model as sm\n",
    "temp=x.copy()\n",
    "temp['const']=np.ones((x.shape[0],1))\n",
    "regressor_OLS = sm.OLS(endog = y, exog = temp).fit()\n",
    "regressor_OLS.summary()"
   ]
  },
  {
   "cell_type": "code",
   "execution_count": null,
   "metadata": {},
   "outputs": [],
   "source": [
    "# temp=temp.drop(columns=['L103100', 'S000300','L190400','L102900','L101300','S000501','S000502','L100500','FIELD_40',\n",
    "#                         'FIELD_41','FIELD_29','FIELD_18','FIELD_31','FIELD_27','FIELD_25','SEX'])\n",
    "# regressor_OLS = sm.OLS(endog = y, exog = temp).fit()\n",
    "# regressor_OLS.summary()"
   ]
  },
  {
   "cell_type": "code",
   "execution_count": null,
   "metadata": {},
   "outputs": [],
   "source": [
    "# temp=temp.drop(columns=['FIELD_33'])\n",
    "# regressor_OLS = sm.OLS(endog = y, exog = temp).fit()\n",
    "# regressor_OLS.summary()"
   ]
  },
  {
   "cell_type": "code",
   "execution_count": null,
   "metadata": {},
   "outputs": [],
   "source": [
    "print(temp.columns.shape)\n",
    "temp.columns"
   ]
  },
  {
   "cell_type": "markdown",
   "metadata": {},
   "source": []
  },
  {
   "cell_type": "code",
   "execution_count": null,
   "metadata": {},
   "outputs": [],
   "source": []
  },
  {
   "cell_type": "code",
   "execution_count": null,
   "metadata": {},
   "outputs": [],
   "source": []
  },
  {
   "cell_type": "code",
   "execution_count": null,
   "metadata": {},
   "outputs": [],
   "source": []
  },
  {
   "cell_type": "code",
   "execution_count": null,
   "metadata": {},
   "outputs": [],
   "source": []
  }
 ],
 "metadata": {
  "kernelspec": {
   "display_name": "Python 3",
   "language": "python",
   "name": "python3"
  },
  "language_info": {
   "codemirror_mode": {
    "name": "ipython",
    "version": 3
   },
   "file_extension": ".py",
   "mimetype": "text/x-python",
   "name": "python",
   "nbconvert_exporter": "python",
   "pygments_lexer": "ipython3",
   "version": "3.7.3"
  }
 },
 "nbformat": 4,
 "nbformat_minor": 2
}

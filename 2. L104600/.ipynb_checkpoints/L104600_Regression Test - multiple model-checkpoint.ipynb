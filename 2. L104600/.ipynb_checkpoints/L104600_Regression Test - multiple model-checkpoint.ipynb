{
 "cells": [
  {
   "cell_type": "code",
   "execution_count": 1,
   "metadata": {},
   "outputs": [
    {
     "name": "stderr",
     "output_type": "stream",
     "text": [
      "Using TensorFlow backend.\n"
     ]
    }
   ],
   "source": [
    "from matplotlib import pyplot as plt\n",
    "import pandas as pd \n",
    "import numpy as np\n",
    "import warnings\n",
    "warnings.filterwarnings('ignore')\n",
    "from scipy import stats\n",
    "from sklearn.utils import shuffle\n",
    "from sklearn.preprocessing import LabelEncoder\n",
    "from sklearn.metrics import confusion_matrix \n",
    "from sklearn.utils import shuffle\n",
    "from sklearn.ensemble import RandomForestRegressor\n",
    "from sklearn.datasets import make_regression\n",
    "from sklearn.model_selection import train_test_split\n",
    "from sklearn.metrics import mean_absolute_error\n",
    "from sklearn.metrics import mean_squared_error\n",
    "from sklearn.metrics import mean_absolute_error\n",
    "from sklearn.metrics import r2_score\n",
    "from keras.models import Sequential\n",
    "from keras.layers import Dense\n",
    "from keras.wrappers.scikit_learn import KerasRegressor\n",
    "from sklearn.model_selection import cross_val_score\n",
    "from sklearn.model_selection import KFold\n",
    "from sklearn.preprocessing import StandardScaler\n",
    "from sklearn.pipeline import Pipeline\n",
    "from keras.layers import Dropout\n",
    "from keras.layers import BatchNormalization\n",
    "from keras.models import model_from_json\n",
    "from keras.utils import multi_gpu_model \n",
    "from keras.utils import to_categorical\n"
   ]
  },
  {
   "cell_type": "markdown",
   "metadata": {},
   "source": [
    "Read the data\n",
    "==========="
   ]
  },
  {
   "cell_type": "code",
   "execution_count": 2,
   "metadata": {},
   "outputs": [
    {
     "name": "stdout",
     "output_type": "stream",
     "text": [
      "(159381, 29)\n",
      "(159381, 29)\n"
     ]
    }
   ],
   "source": [
    "x_original=pd.read_csv('../_xlable4_withNa_AllColumns.txt')\n",
    "y_original=pd.read_csv('../_targelable4_withNa_AllColumns.txt')\n",
    "\n",
    "x_original=x_original[['Unnamed: 0','L104600', 'L100800', 'L103300', 'AGE', 'L103000', 'S000300', 'L102900',\n",
    "                       'L101600', 'S000501', 'L103200', 'L103100', 'L101700', 'S000502', 'L101300', 'L190000',\n",
    "                       'L190300','L504700', 'FIELD_31', 'FIELD_33', 'FIELD_21', 'FIELD_27', 'FIELD_14', 'FIELD_28', \n",
    "                       'FIELD_38', 'FIELD_18', 'FIELD_29', 'FIELD_4', 'FIELD_40']]\n",
    "\n",
    "y_original=y_original[['Unnamed: 0','L104600', 'L100800', 'L103300', 'AGE', 'L103000', 'S000300', 'L102900',\n",
    "                       'L101600', 'S000501', 'L103200', 'L103100', 'L101700', 'S000502', 'L101300', 'L190000',\n",
    "                       'L190300','L504700', 'FIELD_31', 'FIELD_33', 'FIELD_21', 'FIELD_27', 'FIELD_14', 'FIELD_28', \n",
    "                       'FIELD_38', 'FIELD_18', 'FIELD_29', 'FIELD_4', 'FIELD_40']]\n",
    "\n",
    "print(x_original.shape)\n",
    "print(y_original.shape)\n"
   ]
  },
  {
   "cell_type": "markdown",
   "metadata": {},
   "source": [
    "Prepare the data\n",
    "============"
   ]
  },
  {
   "cell_type": "code",
   "execution_count": 3,
   "metadata": {},
   "outputs": [],
   "source": [
    "df=x_original.copy()\n",
    "conditions = [\n",
    "    (df.S000501 < 120)  ,\n",
    "    (df.S000501 >= 120) & (df.S000501 < 130),\n",
    "    (df.S000501 >=130)]\n",
    "choices = [0,1,2]\n",
    "df['sbpG'] = np.select(conditions, choices, default=0)\n",
    "df.head()\n",
    "x_original=df.copy()\n",
    "\n",
    "conditions2 = [\n",
    "    (df.S000502 < 80)  ,\n",
    "    (df.S000502 >= 80) & (df.S000502 < 90),\n",
    "    (df.S000502 >=90)]\n",
    "choices2 = [0,1,2]\n",
    "df['dbpG'] = np.select(conditions2, choices2, default=0)\n",
    "df.head()\n",
    "x_original=df.copy()\n",
    "\n",
    "conditions3 = [\n",
    "    (df.AGE < 30)  ,\n",
    "    (df.AGE >= 30) & (df.AGE < 40),\n",
    "    (df.AGE >= 40) & (df.AGE < 50),\n",
    "    (df.AGE >= 50) & (df.AGE < 60),\n",
    "    (df.AGE >= 60)]\n",
    "choices3 = [0,1,2,3,4]\n",
    "df['AgeG'] = np.select(conditions3, choices3, default=0)\n",
    "df.head()\n",
    "x_original=df.copy()\n",
    "\n",
    "\n",
    "conditions4 = [\n",
    "    (df.L100800 < 100)  ,\n",
    "    (df.L100800 >= 100) & (df.L100800 < 126), \n",
    "    (df.L100800 >= 126)]\n",
    "choices4 = [0,1,2]\n",
    "df['CLASS'] = np.select(conditions4, choices4, default=0)\n",
    "df.head()\n",
    "x_original=df.copy()"
   ]
  },
  {
   "cell_type": "code",
   "execution_count": 4,
   "metadata": {},
   "outputs": [
    {
     "name": "stdout",
     "output_type": "stream",
     "text": [
      "(40284, 62)\n"
     ]
    }
   ],
   "source": [
    "data= pd.merge(x_original,y_original, how='inner',left_on='Unnamed: 0', right_on='Unnamed: 0')\n",
    "data=data.dropna(). reset_index()\n",
    "\n",
    "# data=data[data.AGE_x >= 40]\n",
    "# data=data[data.AGE_x < 50]\n",
    "\n",
    "# data=data[data.CLASS_x==0]\n",
    "# data=data[data.sbpG==0]\n",
    "# data=data[data.dbpG==0]\n",
    "\n",
    "# data=data[data.L100800_y <200]\n",
    "\n",
    "print(data.shape)"
   ]
  },
  {
   "cell_type": "code",
   "execution_count": 5,
   "metadata": {},
   "outputs": [
    {
     "name": "stdout",
     "output_type": "stream",
     "text": [
      "(40284, 62)\n",
      "Index(['index', 'Unnamed: 0', 'L104600_x', 'L100800_x', 'L103300_x', 'AGE_x',\n",
      "       'L103000_x', 'S000300_x', 'L102900_x', 'L101600_x', 'S000501_x',\n",
      "       'L103200_x', 'L103100_x', 'L101700_x', 'S000502_x', 'L101300_x',\n",
      "       'L190000_x', 'L190300_x', 'L504700_x', 'FIELD_31_x', 'FIELD_33_x',\n",
      "       'FIELD_21_x', 'FIELD_27_x', 'FIELD_14_x', 'FIELD_28_x', 'FIELD_38_x',\n",
      "       'FIELD_18_x', 'FIELD_29_x', 'FIELD_4_x', 'FIELD_40_x', 'sbpG', 'dbpG',\n",
      "       'AgeG', 'CLASS', 'L104600_y', 'L100800_y', 'L103300_y', 'AGE_y',\n",
      "       'L103000_y', 'S000300_y', 'L102900_y', 'L101600_y', 'S000501_y',\n",
      "       'L103200_y', 'L103100_y', 'L101700_y', 'S000502_y', 'L101300_y',\n",
      "       'L190000_y', 'L190300_y', 'L504700_y', 'FIELD_31_y', 'FIELD_33_y',\n",
      "       'FIELD_21_y', 'FIELD_27_y', 'FIELD_14_y', 'FIELD_28_y', 'FIELD_38_y',\n",
      "       'FIELD_18_y', 'FIELD_29_y', 'FIELD_4_y', 'FIELD_40_y'],\n",
      "      dtype='object')\n"
     ]
    },
    {
     "data": {
      "text/html": [
       "<div>\n",
       "<style scoped>\n",
       "    .dataframe tbody tr th:only-of-type {\n",
       "        vertical-align: middle;\n",
       "    }\n",
       "\n",
       "    .dataframe tbody tr th {\n",
       "        vertical-align: top;\n",
       "    }\n",
       "\n",
       "    .dataframe thead th {\n",
       "        text-align: right;\n",
       "    }\n",
       "</style>\n",
       "<table border=\"1\" class=\"dataframe\">\n",
       "  <thead>\n",
       "    <tr style=\"text-align: right;\">\n",
       "      <th></th>\n",
       "      <th>index</th>\n",
       "      <th>Unnamed: 0</th>\n",
       "      <th>L104600_x</th>\n",
       "      <th>L100800_x</th>\n",
       "      <th>L103300_x</th>\n",
       "      <th>AGE_x</th>\n",
       "      <th>L103000_x</th>\n",
       "      <th>S000300_x</th>\n",
       "      <th>L102900_x</th>\n",
       "      <th>L101600_x</th>\n",
       "      <th>...</th>\n",
       "      <th>FIELD_33_y</th>\n",
       "      <th>FIELD_21_y</th>\n",
       "      <th>FIELD_27_y</th>\n",
       "      <th>FIELD_14_y</th>\n",
       "      <th>FIELD_28_y</th>\n",
       "      <th>FIELD_38_y</th>\n",
       "      <th>FIELD_18_y</th>\n",
       "      <th>FIELD_29_y</th>\n",
       "      <th>FIELD_4_y</th>\n",
       "      <th>FIELD_40_y</th>\n",
       "    </tr>\n",
       "  </thead>\n",
       "  <tbody>\n",
       "    <tr>\n",
       "      <th>0</th>\n",
       "      <td>2</td>\n",
       "      <td>2</td>\n",
       "      <td>5.28</td>\n",
       "      <td>78.0</td>\n",
       "      <td>3.4</td>\n",
       "      <td>46.0</td>\n",
       "      <td>41.0</td>\n",
       "      <td>20.2</td>\n",
       "      <td>243.0</td>\n",
       "      <td>56.0</td>\n",
       "      <td>...</td>\n",
       "      <td>1.0</td>\n",
       "      <td>0.0</td>\n",
       "      <td>0.0</td>\n",
       "      <td>0.0</td>\n",
       "      <td>0.0</td>\n",
       "      <td>2.0</td>\n",
       "      <td>0.0</td>\n",
       "      <td>0.0</td>\n",
       "      <td>3.0</td>\n",
       "      <td>0.0</td>\n",
       "    </tr>\n",
       "    <tr>\n",
       "      <th>1</th>\n",
       "      <td>4</td>\n",
       "      <td>4</td>\n",
       "      <td>5.74</td>\n",
       "      <td>90.0</td>\n",
       "      <td>2.9</td>\n",
       "      <td>52.0</td>\n",
       "      <td>50.0</td>\n",
       "      <td>25.5</td>\n",
       "      <td>170.0</td>\n",
       "      <td>46.0</td>\n",
       "      <td>...</td>\n",
       "      <td>1.0</td>\n",
       "      <td>0.0</td>\n",
       "      <td>0.0</td>\n",
       "      <td>0.0</td>\n",
       "      <td>0.0</td>\n",
       "      <td>0.0</td>\n",
       "      <td>0.0</td>\n",
       "      <td>1.0</td>\n",
       "      <td>2.0</td>\n",
       "      <td>0.0</td>\n",
       "    </tr>\n",
       "    <tr>\n",
       "      <th>2</th>\n",
       "      <td>7</td>\n",
       "      <td>7</td>\n",
       "      <td>5.83</td>\n",
       "      <td>86.0</td>\n",
       "      <td>2.9</td>\n",
       "      <td>37.0</td>\n",
       "      <td>45.0</td>\n",
       "      <td>21.2</td>\n",
       "      <td>225.0</td>\n",
       "      <td>63.0</td>\n",
       "      <td>...</td>\n",
       "      <td>1.0</td>\n",
       "      <td>0.0</td>\n",
       "      <td>0.0</td>\n",
       "      <td>0.0</td>\n",
       "      <td>1.0</td>\n",
       "      <td>0.0</td>\n",
       "      <td>0.0</td>\n",
       "      <td>1.0</td>\n",
       "      <td>2.0</td>\n",
       "      <td>0.0</td>\n",
       "    </tr>\n",
       "    <tr>\n",
       "      <th>3</th>\n",
       "      <td>8</td>\n",
       "      <td>8</td>\n",
       "      <td>4.73</td>\n",
       "      <td>86.0</td>\n",
       "      <td>3.1</td>\n",
       "      <td>39.0</td>\n",
       "      <td>54.0</td>\n",
       "      <td>22.0</td>\n",
       "      <td>145.0</td>\n",
       "      <td>37.0</td>\n",
       "      <td>...</td>\n",
       "      <td>1.0</td>\n",
       "      <td>0.0</td>\n",
       "      <td>0.0</td>\n",
       "      <td>0.0</td>\n",
       "      <td>0.0</td>\n",
       "      <td>2.0</td>\n",
       "      <td>0.0</td>\n",
       "      <td>0.0</td>\n",
       "      <td>2.0</td>\n",
       "      <td>0.0</td>\n",
       "    </tr>\n",
       "    <tr>\n",
       "      <th>4</th>\n",
       "      <td>30</td>\n",
       "      <td>30</td>\n",
       "      <td>5.10</td>\n",
       "      <td>99.0</td>\n",
       "      <td>2.6</td>\n",
       "      <td>19.0</td>\n",
       "      <td>92.0</td>\n",
       "      <td>20.1</td>\n",
       "      <td>149.0</td>\n",
       "      <td>49.0</td>\n",
       "      <td>...</td>\n",
       "      <td>1.0</td>\n",
       "      <td>0.0</td>\n",
       "      <td>0.0</td>\n",
       "      <td>0.0</td>\n",
       "      <td>0.0</td>\n",
       "      <td>1.0</td>\n",
       "      <td>0.0</td>\n",
       "      <td>0.0</td>\n",
       "      <td>4.0</td>\n",
       "      <td>0.0</td>\n",
       "    </tr>\n",
       "  </tbody>\n",
       "</table>\n",
       "<p>5 rows × 62 columns</p>\n",
       "</div>"
      ],
      "text/plain": [
       "   index  Unnamed: 0  L104600_x  L100800_x  L103300_x  AGE_x  L103000_x  \\\n",
       "0      2           2       5.28       78.0        3.4   46.0       41.0   \n",
       "1      4           4       5.74       90.0        2.9   52.0       50.0   \n",
       "2      7           7       5.83       86.0        2.9   37.0       45.0   \n",
       "3      8           8       4.73       86.0        3.1   39.0       54.0   \n",
       "4     30          30       5.10       99.0        2.6   19.0       92.0   \n",
       "\n",
       "   S000300_x  L102900_x  L101600_x  ...  FIELD_33_y  FIELD_21_y  FIELD_27_y  \\\n",
       "0       20.2      243.0       56.0  ...         1.0         0.0         0.0   \n",
       "1       25.5      170.0       46.0  ...         1.0         0.0         0.0   \n",
       "2       21.2      225.0       63.0  ...         1.0         0.0         0.0   \n",
       "3       22.0      145.0       37.0  ...         1.0         0.0         0.0   \n",
       "4       20.1      149.0       49.0  ...         1.0         0.0         0.0   \n",
       "\n",
       "   FIELD_14_y  FIELD_28_y  FIELD_38_y  FIELD_18_y  FIELD_29_y  FIELD_4_y  \\\n",
       "0         0.0         0.0         2.0         0.0         0.0        3.0   \n",
       "1         0.0         0.0         0.0         0.0         1.0        2.0   \n",
       "2         0.0         1.0         0.0         0.0         1.0        2.0   \n",
       "3         0.0         0.0         2.0         0.0         0.0        2.0   \n",
       "4         0.0         0.0         1.0         0.0         0.0        4.0   \n",
       "\n",
       "   FIELD_40_y  \n",
       "0         0.0  \n",
       "1         0.0  \n",
       "2         0.0  \n",
       "3         0.0  \n",
       "4         0.0  \n",
       "\n",
       "[5 rows x 62 columns]"
      ]
     },
     "execution_count": 5,
     "metadata": {},
     "output_type": "execute_result"
    }
   ],
   "source": [
    "print(data.shape)\n",
    "print(data.columns)\n",
    "data.head()"
   ]
  },
  {
   "cell_type": "code",
   "execution_count": 9,
   "metadata": {},
   "outputs": [],
   "source": [
    "# x=data[['L104600_x', 'L100800_x', 'L103300_x', 'AGE_x', 'L103000_x', 'S000300_x', 'L102900_x',\n",
    "#         'L101600_x', 'S000501_x', 'L103200_x', 'L103100_x', 'L101700_x', 'S000502_x', 'L101300_x', 'L190000_x',\n",
    "#         'L190300_x','L504700_x', 'FIELD_31_x', 'FIELD_33_x', 'FIELD_21_x', 'FIELD_27_x', 'FIELD_14_x', 'FIELD_28_x', \n",
    "#         'FIELD_38_x', 'FIELD_18_x', 'FIELD_29_x', 'FIELD_4_x', 'FIELD_40_x',\n",
    "#         'CLASS','sbpG','dbpG','AgeG']]\n",
    "\n",
    "# y=data[['L104600_y', 'L100800_y', 'L103300_y', 'AGE_y', 'L103000_y', 'S000300_y', 'L102900_y',\n",
    "#         'L101600_y', 'S000501_y', 'L103200_y', 'L103100_y', 'L101700_y', 'S000502_y', 'L101300_y', 'L190000_y',\n",
    "#         'L190300_y','L504700_y', 'FIELD_31_y', 'FIELD_33_y', 'FIELD_21_y', 'FIELD_27_y', 'FIELD_14_y', 'FIELD_28_y', \n",
    "#         'FIELD_38_y', 'FIELD_18_y', 'FIELD_29_y', 'FIELD_4_y', 'FIELD_40_y',]]\n",
    "\n",
    "x=data[['L104600_x','L100800_x','CLASS','L103300_x','S000300_x','AGE_x','L103000_x',  \n",
    "        'L102900_x','L101300_x','L101700_x','L103200_x','L190000_x','S000501_x','L103100_x',  \n",
    "        'S000502_x','L101600_x','L190300_x','FIELD_33_x','L504700_x', ]]\n",
    "\n",
    "y=data[['L104600_y']]\n"
   ]
  },
  {
   "cell_type": "markdown",
   "metadata": {},
   "source": [
    "Check the correlation of the selected feature with the independent variables\n",
    "====="
   ]
  },
  {
   "cell_type": "code",
   "execution_count": 10,
   "metadata": {},
   "outputs": [],
   "source": [
    "temppd=pd.DataFrame(x.copy())\n",
    "temppd['y']=y.L104600_y\n",
    "temppd.head()\n",
    "corval=abs(temppd.corr()).sort_values(by='y', ascending=False)"
   ]
  },
  {
   "cell_type": "code",
   "execution_count": 11,
   "metadata": {},
   "outputs": [
    {
     "data": {
      "text/plain": [
       "y             1.000000\n",
       "L104600_x     0.775852\n",
       "L100800_x     0.538101\n",
       "CLASS         0.399946\n",
       "L103300_x     0.242938\n",
       "S000300_x     0.238122\n",
       "AGE_x         0.210735\n",
       "L103000_x     0.207670\n",
       "L102900_x     0.192172\n",
       "L101300_x     0.176261\n",
       "L101700_x     0.153809\n",
       "L103200_x     0.152935\n",
       "L190000_x     0.151385\n",
       "S000501_x     0.145127\n",
       "L103100_x     0.142568\n",
       "S000502_x     0.141425\n",
       "L101600_x     0.134421\n",
       "L190300_x     0.122751\n",
       "FIELD_33_x    0.109053\n",
       "L504700_x     0.101522\n",
       "Name: y, dtype: float64"
      ]
     },
     "execution_count": 11,
     "metadata": {},
     "output_type": "execute_result"
    }
   ],
   "source": [
    "corval.y"
   ]
  },
  {
   "cell_type": "code",
   "execution_count": 12,
   "metadata": {},
   "outputs": [],
   "source": [
    "#histogram plot of the features\n",
    "# import matplotlib.pyplot as plt\n",
    "# x[x.dtypes[(x.dtypes==\"float64\")|(x.dtypes==\"int64\")]\n",
    "#                         .index.values].hist(figsize=[11,11])"
   ]
  },
  {
   "cell_type": "markdown",
   "metadata": {},
   "source": [
    "Apply PCA\n",
    "==========="
   ]
  },
  {
   "cell_type": "code",
   "execution_count": 13,
   "metadata": {},
   "outputs": [],
   "source": [
    "# from sklearn.decomposition import PCA\n",
    "# pca = PCA(n_components=8)\n",
    "# pca.fit(x)\n",
    "\n",
    "# print(pca.explained_variance_ratio_)   \n",
    "# print(np.sum(pca.explained_variance_ratio_))\n",
    "\n",
    "# x=pca.fit_transform(x) \n",
    "# print(x.shape)\n"
   ]
  },
  {
   "cell_type": "markdown",
   "metadata": {},
   "source": [
    "feature scaling\n",
    "======="
   ]
  },
  {
   "cell_type": "code",
   "execution_count": 14,
   "metadata": {},
   "outputs": [],
   "source": [
    "# from sklearn import preprocessing\n",
    "# min_max_scaler = preprocessing.MinMaxScaler()  #StandardScaler()\n",
    "# x = min_max_scaler.fit_transform(x)"
   ]
  },
  {
   "cell_type": "markdown",
   "metadata": {},
   "source": [
    "clustring test\n",
    "=========="
   ]
  },
  {
   "cell_type": "code",
   "execution_count": 15,
   "metadata": {},
   "outputs": [],
   "source": [
    "# from sklearn.cluster import KMeans\n",
    "# from scipy.spatial.distance import cdist\n",
    "\n",
    "# K = range(1,10)\n",
    "# distortions = []\n",
    "\n",
    "# for k in K:\n",
    "#     kmeanModel = KMeans(n_clusters=k).fit(x)\n",
    "#     kmeanModel.fit(x)\n",
    "#     distortions.append(sum(np.min(cdist(x, kmeanModel.cluster_centers_, 'euclidean'), axis=1)) / x.shape[0])\n",
    "\n",
    "# # Plot the elbow\n",
    "# plt.plot(K, distortions, 'bx-')\n",
    "# plt.xlabel('k')\n",
    "# plt.ylabel('Distortion')\n",
    "# plt.title('The Elbow Method showing the optimal k')\n",
    "# plt.show()\n"
   ]
  },
  {
   "cell_type": "code",
   "execution_count": 16,
   "metadata": {},
   "outputs": [],
   "source": [
    "# kmeanModel = KMeans(n_clusters=k).fit(x)\n",
    "# x['lbl']=kmeanModel.labels_ "
   ]
  },
  {
   "cell_type": "code",
   "execution_count": 17,
   "metadata": {},
   "outputs": [],
   "source": [
    "# x.columns"
   ]
  },
  {
   "cell_type": "markdown",
   "metadata": {},
   "source": [
    "Random Forest Regressor\n",
    "============="
   ]
  },
  {
   "cell_type": "code",
   "execution_count": 18,
   "metadata": {},
   "outputs": [],
   "source": [
    "ylable=y[['L104600_y']]  \n",
    "xtrain,xtest,ytrain,ytest=train_test_split(x, ylable, random_state=42, test_size=0.2)"
   ]
  },
  {
   "cell_type": "code",
   "execution_count": 19,
   "metadata": {},
   "outputs": [
    {
     "name": "stdout",
     "output_type": "stream",
     "text": [
      "[8.60608714e-01 3.49715760e-02 5.19370185e-04 4.42376652e-03\n",
      " 6.13592663e-03 8.67723009e-03 6.38532058e-03 5.49103701e-03\n",
      " 8.90840134e-03 4.92210641e-03 5.18325511e-03 8.69423516e-03\n",
      " 4.20513811e-03 3.47476610e-03 3.68659231e-03 7.30471053e-03\n",
      " 1.16822111e-02 1.09997087e-03 1.36256718e-02]\n"
     ]
    }
   ],
   "source": [
    "regr = RandomForestRegressor(max_depth=7, random_state=0,verbose =0,n_estimators=500)\n",
    "regr.fit(xtrain, ytrain) \n",
    "print(regr.feature_importances_)\n",
    "ypred=regr.predict(xtest)\n"
   ]
  },
  {
   "cell_type": "code",
   "execution_count": 20,
   "metadata": {},
   "outputs": [
    {
     "name": "stdout",
     "output_type": "stream",
     "text": [
      "mean_squared_error 0.06115458321204943\n",
      "root mean_squared_error 0.24729452725858983\n",
      "mean_absolute_error 0.1704702235439328\n",
      "r2_score 0.6498328641412509\n"
     ]
    },
    {
     "data": {
      "image/png": "[encoded data removed]",
      "text/plain": [
       "<Figure size 432x288 with 1 Axes>"
      ]
     },
     "metadata": {
      "needs_background": "light"
     },
     "output_type": "display_data"
    },
    {
     "data": {
      "text/html": [
       "<div>\n",
       "<style scoped>\n",
       "    .dataframe tbody tr th:only-of-type {\n",
       "        vertical-align: middle;\n",
       "    }\n",
       "\n",
       "    .dataframe tbody tr th {\n",
       "        vertical-align: top;\n",
       "    }\n",
       "\n",
       "    .dataframe thead th {\n",
       "        text-align: right;\n",
       "    }\n",
       "</style>\n",
       "<table border=\"1\" class=\"dataframe\">\n",
       "  <thead>\n",
       "    <tr style=\"text-align: right;\">\n",
       "      <th></th>\n",
       "      <th>t + 1</th>\n",
       "      <th>pred (t +1)</th>\n",
       "    </tr>\n",
       "  </thead>\n",
       "  <tbody>\n",
       "    <tr>\n",
       "      <th>3770</th>\n",
       "      <td>9.90</td>\n",
       "      <td>8.961657</td>\n",
       "    </tr>\n",
       "    <tr>\n",
       "      <th>5896</th>\n",
       "      <td>10.10</td>\n",
       "      <td>11.456179</td>\n",
       "    </tr>\n",
       "    <tr>\n",
       "      <th>7279</th>\n",
       "      <td>10.42</td>\n",
       "      <td>6.523538</td>\n",
       "    </tr>\n",
       "    <tr>\n",
       "      <th>1529</th>\n",
       "      <td>10.58</td>\n",
       "      <td>9.705143</td>\n",
       "    </tr>\n",
       "    <tr>\n",
       "      <th>1794</th>\n",
       "      <td>10.81</td>\n",
       "      <td>5.818242</td>\n",
       "    </tr>\n",
       "    <tr>\n",
       "      <th>66</th>\n",
       "      <td>11.26</td>\n",
       "      <td>8.369939</td>\n",
       "    </tr>\n",
       "    <tr>\n",
       "      <th>6077</th>\n",
       "      <td>11.33</td>\n",
       "      <td>8.544585</td>\n",
       "    </tr>\n",
       "    <tr>\n",
       "      <th>1650</th>\n",
       "      <td>11.55</td>\n",
       "      <td>11.529038</td>\n",
       "    </tr>\n",
       "    <tr>\n",
       "      <th>7887</th>\n",
       "      <td>12.07</td>\n",
       "      <td>9.116789</td>\n",
       "    </tr>\n",
       "    <tr>\n",
       "      <th>6410</th>\n",
       "      <td>12.57</td>\n",
       "      <td>9.426222</td>\n",
       "    </tr>\n",
       "  </tbody>\n",
       "</table>\n",
       "</div>"
      ],
      "text/plain": [
       "      t + 1  pred (t +1)\n",
       "3770   9.90     8.961657\n",
       "5896  10.10    11.456179\n",
       "7279  10.42     6.523538\n",
       "1529  10.58     9.705143\n",
       "1794  10.81     5.818242\n",
       "66    11.26     8.369939\n",
       "6077  11.33     8.544585\n",
       "1650  11.55    11.529038\n",
       "7887  12.07     9.116789\n",
       "6410  12.57     9.426222"
      ]
     },
     "execution_count": 20,
     "metadata": {},
     "output_type": "execute_result"
    },
    {
     "data": {
      "image/png": "[encoded data removed]",
      "text/plain": [
       "<Figure size 432x288 with 1 Axes>"
      ]
     },
     "metadata": {
      "needs_background": "light"
     },
     "output_type": "display_data"
    }
   ],
   "source": [
    "\n",
    "import math\n",
    "print('mean_squared_error',mean_squared_error(ytest, ypred))\n",
    "print('root mean_squared_error',math.sqrt(mean_squared_error(ytest, ypred)))\n",
    "print('mean_absolute_error',mean_absolute_error(ytest, ypred))\n",
    "print('r2_score',r2_score(ytest, ypred))\n",
    "\n",
    "ypredPD=pd.DataFrame()\n",
    "# ypredPD['t']=xtest['S000501_x'].values\n",
    "ypredPD['t + 1']=ytest.values.ravel()\n",
    "ypredPD['pred (t +1)']=ypred\n",
    "ypredPD.head(30)\n",
    "\n",
    "import matplotlib.patches as mpatches\n",
    "plt.ylabel('Values')\n",
    "plt.xlabel('index')\n",
    "red_patch = mpatches.Patch(color='red', label='Actual data')\n",
    "blue_patch = mpatches.Patch(color='blue', label='Predicted data')\n",
    "plt.legend(handles=[red_patch,blue_patch])\n",
    "\n",
    "ypredPD=ypredPD.sort_values(by=['t + 1'])\n",
    "plt.scatter(np.arange(0,ypredPD.shape[0],1),ypredPD['pred (t +1)'][:ypredPD.shape[0]])\n",
    "plt.plot(np.arange(0,ypredPD.shape[0],1),ypredPD['t + 1'][:ypredPD.shape[0]],color='red')\n",
    "plt.show()\n",
    "\n",
    "plt.ylabel('p*(t+1), Predicted data')\n",
    "plt.xlabel('p(t+1), Actual data')\n",
    "plt.scatter(ypredPD['t + 1'][:ypredPD.shape[0]],ypredPD['pred (t +1)'][:ypredPD.shape[0]])\n",
    "\n",
    "ypredPD.tail(10)"
   ]
  },
  {
   "cell_type": "code",
   "execution_count": 21,
   "metadata": {},
   "outputs": [],
   "source": [
    "# tempdata=pd.DataFrame(xtest.copy())\n",
    "# tempdata['ytest']=ytest\n",
    "# # temp=temp.dropna()\n",
    "# # tempdata.head()\n",
    "# # tempdata[tempdata.ytest.isna()].index\n",
    "\n",
    "# tempdata=tempdata.drop(tempdata[tempdata.ytest.isna()].index)\n"
   ]
  },
  {
   "cell_type": "markdown",
   "metadata": {},
   "source": [
    "xg boost\n",
    "=========="
   ]
  },
  {
   "cell_type": "code",
   "execution_count": 22,
   "metadata": {},
   "outputs": [],
   "source": [
    "import xgboost as xgb\n",
    "# from sklearn.metrics import mean_squared_error\n",
    "# import pandas as pd\n",
    "# import numpy as np"
   ]
  },
  {
   "cell_type": "code",
   "execution_count": 23,
   "metadata": {},
   "outputs": [
    {
     "name": "stdout",
     "output_type": "stream",
     "text": [
      "[01:38:03] WARNING: C:/Jenkins/workspace/xgboost-win64_release_0.90/src/objective/regression_obj.cu:152: reg:linear is now deprecated in favor of reg:squarederror.\n"
     ]
    },
    {
     "data": {
      "text/plain": [
       "XGBRegressor(base_score=0.5, booster='gbtree', colsample_bylevel=1,\n",
       "             colsample_bynode=1, colsample_bytree=1, gamma=0,\n",
       "             importance_type='gain', learning_rate=0.1, max_delta_step=0,\n",
       "             max_depth=3, min_child_weight=1, missing=None, n_estimators=100,\n",
       "             n_jobs=1, nthread=None, objective='reg:linear', random_state=0,\n",
       "             reg_alpha=0, reg_lambda=1, scale_pos_weight=1, seed=None,\n",
       "             silent=None, subsample=1, verbosity=1)"
      ]
     },
     "execution_count": 23,
     "metadata": {},
     "output_type": "execute_result"
    }
   ],
   "source": [
    "xg_reg = xgb.XGBRegressor()\n",
    "# xg_reg = xgb.XGBRegressor(objective ='reg:linear', colsample_bytree = 0.3, \n",
    "#                           learning_rate = 0.1,max_depth = 5, alpha = 10, n_estimators = 10)\n",
    "xg_reg.fit(xtrain, ytrain) "
   ]
  },
  {
   "cell_type": "code",
   "execution_count": 24,
   "metadata": {},
   "outputs": [
    {
     "name": "stdout",
     "output_type": "stream",
     "text": [
      "mean_squared_error 0.06074919208044445\n",
      "root mean_squared_error 0.246473511924597\n",
      "mean_absolute_error 0.17036310670806973\n",
      "r2_score 0.6521541071945218\n"
     ]
    }
   ],
   "source": [
    "\n",
    "ypred = xg_reg.predict(xtest)\n",
    "\n",
    "import math\n",
    "print('mean_squared_error',mean_squared_error(ytest, ypred))\n",
    "print('root mean_squared_error',math.sqrt(mean_squared_error(ytest, ypred)))\n",
    "print('mean_absolute_error',mean_absolute_error(ytest, ypred))\n",
    "print('r2_score',r2_score(ytest, ypred))\n",
    "\n",
    "# ypredPD=pd.DataFrame()\n",
    "# ypredPD['t']=xtest['S000501_x'].values\n",
    "# ypredPD['t + 1']=ytest.values\n",
    "# ypredPD['pred (t +1)']=ypred\n",
    "# ypredPD.head(10)"
   ]
  },
  {
   "cell_type": "code",
   "execution_count": 25,
   "metadata": {},
   "outputs": [],
   "source": [
    "# ytest[ytest.isna()].shape\n",
    "# tempdata.iloc[:,-1]"
   ]
  },
  {
   "cell_type": "markdown",
   "metadata": {},
   "source": [
    "ANN\n",
    "=========="
   ]
  },
  {
   "cell_type": "code",
   "execution_count": 28,
   "metadata": {},
   "outputs": [],
   "source": [
    "model= Sequential()\n",
    "model.add(Dense(input_dim=19,units=128,activation='relu', kernel_initializer='uniform'))\n",
    "model.add(Dense(units=128, activation='relu', kernel_initializer='uniform')) \n",
    "model.add(BatchNormalization())\n",
    "model.add(Dropout(0.25))  \n",
    "model.add(Dense(units=64, activation='relu', kernel_initializer='uniform'))\n",
    "model.add(Dense(units=32, activation='relu', kernel_initializer='uniform')) \n",
    "model.add(BatchNormalization())\n",
    "model.add(Dropout(0.25))  \n",
    "model.add(Dense(units=16, activation='relu', kernel_initializer='uniform'))\n",
    "model.add(BatchNormalization())\n",
    "model.add(Dropout(0.25))  \n",
    "model.add(Dense(units=8, activation='relu', kernel_initializer='uniform'))\n",
    "model.add(Dense(units=1, kernel_initializer='uniform'))\n",
    "model.compile(loss='mean_squared_error', optimizer='Nadam', metrics=['mean_squared_error' ])"
   ]
  },
  {
   "cell_type": "code",
   "execution_count": 29,
   "metadata": {
    "scrolled": true
   },
   "outputs": [
    {
     "name": "stderr",
     "output_type": "stream",
     "text": [
      "W1004 01:39:06.366142   384 deprecation_wrapper.py:119] From C:\\ProgramData\\Anaconda3\\lib\\site-packages\\keras\\backend\\tensorflow_backend.py:986: The name tf.assign_add is deprecated. Please use tf.compat.v1.assign_add instead.\n",
      "\n"
     ]
    },
    {
     "name": "stdout",
     "output_type": "stream",
     "text": [
      "Train on 25781 samples, validate on 6446 samples\n",
      "Epoch 1/100\n",
      "25781/25781 [==============================] - 2s 66us/step - loss: 4.5769 - mean_squared_error: 4.5769 - val_loss: 1.9284 - val_mean_squared_error: 1.9284\n",
      "Epoch 2/100\n",
      "25781/25781 [==============================] - 1s 31us/step - loss: 0.7760 - mean_squared_error: 0.7760 - val_loss: 0.1701 - val_mean_squared_error: 0.1701\n",
      "Epoch 3/100\n",
      "25781/25781 [==============================] - 1s 31us/step - loss: 0.4140 - mean_squared_error: 0.4140 - val_loss: 0.1550 - val_mean_squared_error: 0.1550\n",
      "Epoch 4/100\n",
      "25781/25781 [==============================] - 1s 31us/step - loss: 0.2117 - mean_squared_error: 0.2117 - val_loss: 0.1421 - val_mean_squared_error: 0.1421\n",
      "Epoch 5/100\n",
      "25781/25781 [==============================] - 1s 31us/step - loss: 0.1786 - mean_squared_error: 0.1786 - val_loss: 0.1342 - val_mean_squared_error: 0.1342\n",
      "Epoch 6/100\n",
      "25781/25781 [==============================] - 1s 32us/step - loss: 0.1610 - mean_squared_error: 0.1610 - val_loss: 0.1174 - val_mean_squared_error: 0.1174\n",
      "Epoch 7/100\n",
      "25781/25781 [==============================] - 1s 32us/step - loss: 0.1496 - mean_squared_error: 0.1496 - val_loss: 0.1402 - val_mean_squared_error: 0.1402\n",
      "Epoch 8/100\n",
      "25781/25781 [==============================] - 1s 32us/step - loss: 0.1484 - mean_squared_error: 0.1484 - val_loss: 0.1393 - val_mean_squared_error: 0.1393\n",
      "Epoch 9/100\n",
      "25781/25781 [==============================] - 1s 31us/step - loss: 0.1422 - mean_squared_error: 0.1422 - val_loss: 0.1183 - val_mean_squared_error: 0.1183\n",
      "Epoch 10/100\n",
      "25781/25781 [==============================] - 1s 31us/step - loss: 0.1390 - mean_squared_error: 0.1390 - val_loss: 0.0945 - val_mean_squared_error: 0.0945\n",
      "Epoch 11/100\n",
      "25781/25781 [==============================] - 1s 31us/step - loss: 0.1259 - mean_squared_error: 0.1259 - val_loss: 0.3557 - val_mean_squared_error: 0.3557\n",
      "Epoch 12/100\n",
      "25781/25781 [==============================] - 1s 31us/step - loss: 0.1139 - mean_squared_error: 0.1139 - val_loss: 0.2043 - val_mean_squared_error: 0.2043\n",
      "Epoch 13/100\n",
      "25781/25781 [==============================] - 1s 32us/step - loss: 0.1207 - mean_squared_error: 0.1207 - val_loss: 0.1564 - val_mean_squared_error: 0.1564\n",
      "Epoch 14/100\n",
      "25781/25781 [==============================] - 1s 31us/step - loss: 0.1127 - mean_squared_error: 0.1127 - val_loss: 0.1417 - val_mean_squared_error: 0.1417\n",
      "Epoch 15/100\n",
      "25781/25781 [==============================] - 1s 32us/step - loss: 0.1029 - mean_squared_error: 0.1029 - val_loss: 0.0793 - val_mean_squared_error: 0.0793\n",
      "Epoch 16/100\n",
      "25781/25781 [==============================] - 1s 31us/step - loss: 0.1033 - mean_squared_error: 0.1033 - val_loss: 0.1005 - val_mean_squared_error: 0.1005\n",
      "Epoch 17/100\n",
      "25781/25781 [==============================] - 1s 31us/step - loss: 0.1005 - mean_squared_error: 0.1005 - val_loss: 0.1047 - val_mean_squared_error: 0.1047\n",
      "Epoch 18/100\n",
      "25781/25781 [==============================] - 1s 31us/step - loss: 0.1086 - mean_squared_error: 0.1086 - val_loss: 0.0814 - val_mean_squared_error: 0.0814\n",
      "Epoch 19/100\n",
      "25781/25781 [==============================] - 1s 32us/step - loss: 0.1007 - mean_squared_error: 0.1007 - val_loss: 0.0876 - val_mean_squared_error: 0.0876\n",
      "Epoch 20/100\n",
      "25781/25781 [==============================] - 1s 31us/step - loss: 0.1019 - mean_squared_error: 0.1019 - val_loss: 0.0767 - val_mean_squared_error: 0.0767\n",
      "Epoch 21/100\n",
      "25781/25781 [==============================] - 1s 31us/step - loss: 0.0953 - mean_squared_error: 0.0953 - val_loss: 4.7861 - val_mean_squared_error: 4.7861\n",
      "Epoch 22/100\n",
      "25781/25781 [==============================] - 1s 31us/step - loss: 0.0982 - mean_squared_error: 0.0982 - val_loss: 0.0996 - val_mean_squared_error: 0.0996\n",
      "Epoch 23/100\n",
      "25781/25781 [==============================] - 1s 31us/step - loss: 0.0964 - mean_squared_error: 0.0964 - val_loss: 0.0868 - val_mean_squared_error: 0.0868\n",
      "Epoch 24/100\n",
      "25781/25781 [==============================] - 1s 32us/step - loss: 0.0944 - mean_squared_error: 0.0944 - val_loss: 0.1396 - val_mean_squared_error: 0.1396\n",
      "Epoch 25/100\n",
      "25781/25781 [==============================] - 1s 32us/step - loss: 0.0938 - mean_squared_error: 0.0938 - val_loss: 0.0997 - val_mean_squared_error: 0.0997\n",
      "Epoch 26/100\n",
      "25781/25781 [==============================] - 1s 31us/step - loss: 0.0933 - mean_squared_error: 0.0933 - val_loss: 0.0829 - val_mean_squared_error: 0.0829\n",
      "Epoch 27/100\n",
      "25781/25781 [==============================] - 1s 32us/step - loss: 0.0939 - mean_squared_error: 0.0939 - val_loss: 0.1570 - val_mean_squared_error: 0.1570\n",
      "Epoch 28/100\n",
      "25781/25781 [==============================] - 1s 31us/step - loss: 0.0905 - mean_squared_error: 0.0905 - val_loss: 0.0982 - val_mean_squared_error: 0.0982\n",
      "Epoch 29/100\n",
      "25781/25781 [==============================] - 1s 32us/step - loss: 0.0903 - mean_squared_error: 0.0903 - val_loss: 0.0741 - val_mean_squared_error: 0.0741\n",
      "Epoch 30/100\n",
      "25781/25781 [==============================] - 1s 31us/step - loss: 0.0901 - mean_squared_error: 0.0901 - val_loss: 0.1015 - val_mean_squared_error: 0.1015\n",
      "Epoch 31/100\n",
      "25781/25781 [==============================] - 1s 32us/step - loss: 0.0912 - mean_squared_error: 0.0912 - val_loss: 0.0840 - val_mean_squared_error: 0.0840\n",
      "Epoch 32/100\n",
      "25781/25781 [==============================] - 1s 31us/step - loss: 0.0938 - mean_squared_error: 0.0938 - val_loss: 0.1151 - val_mean_squared_error: 0.1151\n",
      "Epoch 33/100\n",
      "25781/25781 [==============================] - 1s 32us/step - loss: 0.0914 - mean_squared_error: 0.0914 - val_loss: 0.0963 - val_mean_squared_error: 0.0963\n",
      "Epoch 34/100\n",
      "25781/25781 [==============================] - 1s 32us/step - loss: 0.0904 - mean_squared_error: 0.0904 - val_loss: 0.2028 - val_mean_squared_error: 0.2028\n",
      "Epoch 35/100\n",
      "25781/25781 [==============================] - 1s 31us/step - loss: 0.0919 - mean_squared_error: 0.0919 - val_loss: 0.0791 - val_mean_squared_error: 0.0791\n",
      "Epoch 36/100\n",
      "25781/25781 [==============================] - 1s 32us/step - loss: 0.0956 - mean_squared_error: 0.0956 - val_loss: 2.1975 - val_mean_squared_error: 2.1975\n",
      "Epoch 37/100\n",
      "25781/25781 [==============================] - 1s 31us/step - loss: 0.1044 - mean_squared_error: 0.1044 - val_loss: 0.1213 - val_mean_squared_error: 0.1213\n",
      "Epoch 38/100\n",
      "25781/25781 [==============================] - 1s 32us/step - loss: 0.0928 - mean_squared_error: 0.0928 - val_loss: 0.0746 - val_mean_squared_error: 0.0746\n",
      "Epoch 39/100\n",
      "25781/25781 [==============================] - 1s 31us/step - loss: 0.0906 - mean_squared_error: 0.0906 - val_loss: 0.1298 - val_mean_squared_error: 0.1298\n",
      "Epoch 40/100\n",
      "25781/25781 [==============================] - 1s 32us/step - loss: 0.0897 - mean_squared_error: 0.0897 - val_loss: 0.0779 - val_mean_squared_error: 0.0779\n",
      "Epoch 41/100\n",
      "25781/25781 [==============================] - 1s 31us/step - loss: 0.0874 - mean_squared_error: 0.0874 - val_loss: 0.0813 - val_mean_squared_error: 0.0813\n",
      "Epoch 42/100\n",
      "25781/25781 [==============================] - 1s 32us/step - loss: 0.0870 - mean_squared_error: 0.0870 - val_loss: 0.0865 - val_mean_squared_error: 0.0865\n",
      "Epoch 43/100\n",
      "25781/25781 [==============================] - 1s 31us/step - loss: 0.0880 - mean_squared_error: 0.0880 - val_loss: 0.0949 - val_mean_squared_error: 0.0949\n",
      "Epoch 44/100\n",
      "25781/25781 [==============================] - 1s 33us/step - loss: 0.0916 - mean_squared_error: 0.0916 - val_loss: 0.0717 - val_mean_squared_error: 0.0717\n",
      "Epoch 45/100\n",
      "25781/25781 [==============================] - 1s 33us/step - loss: 0.0870 - mean_squared_error: 0.0870 - val_loss: 0.0681 - val_mean_squared_error: 0.0681\n",
      "Epoch 46/100\n",
      "25781/25781 [==============================] - 1s 34us/step - loss: 0.0843 - mean_squared_error: 0.0843 - val_loss: 0.2223 - val_mean_squared_error: 0.2223\n",
      "Epoch 47/100\n",
      "25781/25781 [==============================] - 1s 33us/step - loss: 0.0867 - mean_squared_error: 0.0867 - val_loss: 0.1032 - val_mean_squared_error: 0.1032\n",
      "Epoch 48/100\n",
      "25781/25781 [==============================] - 1s 33us/step - loss: 0.0875 - mean_squared_error: 0.0875 - val_loss: 0.0729 - val_mean_squared_error: 0.0729\n",
      "Epoch 49/100\n",
      "25781/25781 [==============================] - 1s 33us/step - loss: 0.0938 - mean_squared_error: 0.0938 - val_loss: 0.8781 - val_mean_squared_error: 0.8781\n",
      "Epoch 50/100\n",
      "25781/25781 [==============================] - 1s 33us/step - loss: 0.0913 - mean_squared_error: 0.0913 - val_loss: 0.0799 - val_mean_squared_error: 0.0799\n",
      "Epoch 51/100\n",
      "25781/25781 [==============================] - 1s 33us/step - loss: 0.0874 - mean_squared_error: 0.0874 - val_loss: 0.0814 - val_mean_squared_error: 0.0814\n",
      "Epoch 52/100\n",
      "25781/25781 [==============================] - 1s 33us/step - loss: 0.0900 - mean_squared_error: 0.0900 - val_loss: 0.0905 - val_mean_squared_error: 0.0905\n",
      "Epoch 53/100\n",
      "25781/25781 [==============================] - 1s 33us/step - loss: 0.0884 - mean_squared_error: 0.0884 - val_loss: 0.0695 - val_mean_squared_error: 0.0695\n",
      "Epoch 54/100\n",
      "25781/25781 [==============================] - 1s 33us/step - loss: 0.0858 - mean_squared_error: 0.0858 - val_loss: 0.0928 - val_mean_squared_error: 0.0928\n",
      "Epoch 55/100\n",
      "25781/25781 [==============================] - 1s 33us/step - loss: 0.0883 - mean_squared_error: 0.0883 - val_loss: 0.1172 - val_mean_squared_error: 0.1172\n",
      "Epoch 56/100\n",
      "25781/25781 [==============================] - 1s 33us/step - loss: 0.0856 - mean_squared_error: 0.0856 - val_loss: 0.0944 - val_mean_squared_error: 0.0944\n",
      "Epoch 57/100\n",
      "25781/25781 [==============================] - 1s 33us/step - loss: 0.0936 - mean_squared_error: 0.0936 - val_loss: 0.1002 - val_mean_squared_error: 0.1002\n",
      "Epoch 58/100\n",
      "25781/25781 [==============================] - 1s 33us/step - loss: 0.0903 - mean_squared_error: 0.0903 - val_loss: 0.1115 - val_mean_squared_error: 0.1115\n",
      "Epoch 59/100\n",
      "25781/25781 [==============================] - 1s 33us/step - loss: 0.0846 - mean_squared_error: 0.0846 - val_loss: 0.0881 - val_mean_squared_error: 0.0881\n",
      "Epoch 60/100\n",
      "25781/25781 [==============================] - 1s 33us/step - loss: 0.0867 - mean_squared_error: 0.0867 - val_loss: 0.0818 - val_mean_squared_error: 0.0818\n",
      "Epoch 61/100\n",
      "25781/25781 [==============================] - 1s 33us/step - loss: 0.0851 - mean_squared_error: 0.0851 - val_loss: 0.0828 - val_mean_squared_error: 0.0828\n",
      "Epoch 62/100\n",
      "25781/25781 [==============================] - 1s 31us/step - loss: 0.0880 - mean_squared_error: 0.0880 - val_loss: 0.0737 - val_mean_squared_error: 0.0737\n",
      "Epoch 63/100\n",
      "25781/25781 [==============================] - 1s 31us/step - loss: 0.0872 - mean_squared_error: 0.0872 - val_loss: 0.0922 - val_mean_squared_error: 0.0922\n",
      "Epoch 64/100\n",
      "25781/25781 [==============================] - 1s 32us/step - loss: 0.0906 - mean_squared_error: 0.0906 - val_loss: 0.0825 - val_mean_squared_error: 0.0825\n",
      "Epoch 65/100\n",
      "25781/25781 [==============================] - 1s 31us/step - loss: 0.0861 - mean_squared_error: 0.0861 - val_loss: 0.0784 - val_mean_squared_error: 0.0784\n",
      "Epoch 66/100\n",
      "25781/25781 [==============================] - 1s 32us/step - loss: 0.0865 - mean_squared_error: 0.0865 - val_loss: 0.0840 - val_mean_squared_error: 0.0840\n",
      "Epoch 67/100\n",
      "25781/25781 [==============================] - 1s 32us/step - loss: 0.0885 - mean_squared_error: 0.0885 - val_loss: 0.0775 - val_mean_squared_error: 0.0775\n",
      "Epoch 68/100\n",
      "25781/25781 [==============================] - 1s 32us/step - loss: 0.0873 - mean_squared_error: 0.0873 - val_loss: 0.1118 - val_mean_squared_error: 0.1118\n",
      "Epoch 69/100\n",
      "25781/25781 [==============================] - 1s 32us/step - loss: 0.0873 - mean_squared_error: 0.0873 - val_loss: 0.0859 - val_mean_squared_error: 0.0859\n",
      "Epoch 70/100\n",
      "25781/25781 [==============================] - 1s 32us/step - loss: 0.0866 - mean_squared_error: 0.0866 - val_loss: 0.0793 - val_mean_squared_error: 0.0793\n",
      "Epoch 71/100\n",
      "25781/25781 [==============================] - 1s 32us/step - loss: 0.0863 - mean_squared_error: 0.0863 - val_loss: 0.0859 - val_mean_squared_error: 0.0859\n",
      "Epoch 72/100\n",
      "25781/25781 [==============================] - 1s 31us/step - loss: 0.0837 - mean_squared_error: 0.0837 - val_loss: 0.1018 - val_mean_squared_error: 0.1018\n",
      "Epoch 73/100\n",
      "25781/25781 [==============================] - 1s 31us/step - loss: 0.0888 - mean_squared_error: 0.0888 - val_loss: 0.0918 - val_mean_squared_error: 0.0918\n",
      "Epoch 74/100\n",
      "25781/25781 [==============================] - 1s 32us/step - loss: 0.0871 - mean_squared_error: 0.0871 - val_loss: 0.0742 - val_mean_squared_error: 0.0742\n",
      "Epoch 75/100\n",
      "25781/25781 [==============================] - 1s 32us/step - loss: 0.0873 - mean_squared_error: 0.0873 - val_loss: 10.1024 - val_mean_squared_error: 10.1024\n",
      "Epoch 76/100\n",
      "25781/25781 [==============================] - 1s 31us/step - loss: 0.0889 - mean_squared_error: 0.0889 - val_loss: 0.1233 - val_mean_squared_error: 0.1233\n",
      "Epoch 77/100\n",
      "25781/25781 [==============================] - 1s 31us/step - loss: 0.0837 - mean_squared_error: 0.0837 - val_loss: 0.1191 - val_mean_squared_error: 0.1191\n",
      "Epoch 78/100\n",
      "25781/25781 [==============================] - 1s 31us/step - loss: 0.0853 - mean_squared_error: 0.0853 - val_loss: 0.0711 - val_mean_squared_error: 0.0711\n",
      "Epoch 79/100\n",
      "25781/25781 [==============================] - 1s 32us/step - loss: 0.0861 - mean_squared_error: 0.0861 - val_loss: 0.0905 - val_mean_squared_error: 0.0905\n",
      "Epoch 80/100\n",
      "25781/25781 [==============================] - 1s 31us/step - loss: 0.0845 - mean_squared_error: 0.0845 - val_loss: 0.0870 - val_mean_squared_error: 0.0870\n",
      "Epoch 81/100\n",
      "25781/25781 [==============================] - 1s 32us/step - loss: 0.0880 - mean_squared_error: 0.0880 - val_loss: 0.0834 - val_mean_squared_error: 0.0834\n",
      "Epoch 82/100\n",
      "25781/25781 [==============================] - 1s 31us/step - loss: 0.0871 - mean_squared_error: 0.0871 - val_loss: 0.0800 - val_mean_squared_error: 0.0800\n",
      "Epoch 83/100\n",
      "25781/25781 [==============================] - 1s 31us/step - loss: 0.0851 - mean_squared_error: 0.0851 - val_loss: 0.0739 - val_mean_squared_error: 0.0739\n",
      "Epoch 84/100\n",
      "25781/25781 [==============================] - 1s 31us/step - loss: 0.0857 - mean_squared_error: 0.0857 - val_loss: 0.0869 - val_mean_squared_error: 0.0869\n",
      "Epoch 85/100\n",
      "25781/25781 [==============================] - 1s 31us/step - loss: 0.0859 - mean_squared_error: 0.0859 - val_loss: 0.1120 - val_mean_squared_error: 0.1120\n",
      "Epoch 86/100\n",
      "25781/25781 [==============================] - 1s 32us/step - loss: 0.0859 - mean_squared_error: 0.0859 - val_loss: 0.0683 - val_mean_squared_error: 0.0683\n",
      "Epoch 87/100\n",
      "25781/25781 [==============================] - 1s 31us/step - loss: 0.0880 - mean_squared_error: 0.0880 - val_loss: 0.0785 - val_mean_squared_error: 0.0785\n",
      "Epoch 88/100\n",
      "25781/25781 [==============================] - 1s 32us/step - loss: 0.0844 - mean_squared_error: 0.0844 - val_loss: 0.0947 - val_mean_squared_error: 0.0947\n",
      "Epoch 89/100\n",
      "25781/25781 [==============================] - 1s 31us/step - loss: 0.0847 - mean_squared_error: 0.0847 - val_loss: 0.0831 - val_mean_squared_error: 0.0831\n",
      "Epoch 90/100\n",
      "25781/25781 [==============================] - 1s 32us/step - loss: 0.0845 - mean_squared_error: 0.0845 - val_loss: 0.0852 - val_mean_squared_error: 0.0852\n",
      "Epoch 91/100\n",
      "25781/25781 [==============================] - 1s 31us/step - loss: 0.0879 - mean_squared_error: 0.0879 - val_loss: 0.0878 - val_mean_squared_error: 0.0878\n",
      "Epoch 92/100\n",
      "25781/25781 [==============================] - 1s 31us/step - loss: 0.0868 - mean_squared_error: 0.0868 - val_loss: 4.9281 - val_mean_squared_error: 4.9281\n",
      "Epoch 93/100\n",
      "25781/25781 [==============================] - 1s 32us/step - loss: 0.0870 - mean_squared_error: 0.0870 - val_loss: 149.8726 - val_mean_squared_error: 149.8726\n",
      "Epoch 94/100\n",
      "25781/25781 [==============================] - 1s 31us/step - loss: 0.0848 - mean_squared_error: 0.0848 - val_loss: 14.1391 - val_mean_squared_error: 14.1391\n",
      "Epoch 95/100\n",
      "25781/25781 [==============================] - 1s 32us/step - loss: 0.0857 - mean_squared_error: 0.0857 - val_loss: 4.7024 - val_mean_squared_error: 4.7024\n",
      "Epoch 96/100\n",
      "25781/25781 [==============================] - 1s 32us/step - loss: 0.0858 - mean_squared_error: 0.0858 - val_loss: 0.5030 - val_mean_squared_error: 0.5030\n",
      "Epoch 97/100\n"
     ]
    },
    {
     "name": "stdout",
     "output_type": "stream",
     "text": [
      "25781/25781 [==============================] - 1s 31us/step - loss: 0.0852 - mean_squared_error: 0.0852 - val_loss: 1.2693 - val_mean_squared_error: 1.2693\n",
      "Epoch 98/100\n",
      "25781/25781 [==============================] - 1s 32us/step - loss: 0.0856 - mean_squared_error: 0.0856 - val_loss: 0.1088 - val_mean_squared_error: 0.1088\n",
      "Epoch 99/100\n",
      "25781/25781 [==============================] - 1s 31us/step - loss: 0.0836 - mean_squared_error: 0.0836 - val_loss: 2.1722 - val_mean_squared_error: 2.1722\n",
      "Epoch 100/100\n",
      "25781/25781 [==============================] - 1s 31us/step - loss: 0.0880 - mean_squared_error: 0.0880 - val_loss: 1.6826 - val_mean_squared_error: 1.6826\n"
     ]
    }
   ],
   "source": [
    "h=model.fit(xtrain, ytrain, validation_split=.2,epochs=100, batch_size=50)"
   ]
  },
  {
   "cell_type": "code",
   "execution_count": 30,
   "metadata": {},
   "outputs": [
    {
     "name": "stdout",
     "output_type": "stream",
     "text": [
      "mean_squared_error 6.907779749136988\n",
      "root mean_squared_error 2.6282655400733366\n",
      "mean_absolute_error 0.25955957602578683\n",
      "r2_score -38.553494159400486\n"
     ]
    },
    {
     "data": {
      "text/html": [
       "<div>\n",
       "<style scoped>\n",
       "    .dataframe tbody tr th:only-of-type {\n",
       "        vertical-align: middle;\n",
       "    }\n",
       "\n",
       "    .dataframe tbody tr th {\n",
       "        vertical-align: top;\n",
       "    }\n",
       "\n",
       "    .dataframe thead th {\n",
       "        text-align: right;\n",
       "    }\n",
       "</style>\n",
       "<table border=\"1\" class=\"dataframe\">\n",
       "  <thead>\n",
       "    <tr style=\"text-align: right;\">\n",
       "      <th></th>\n",
       "      <th>t + 1</th>\n",
       "      <th>pred (t +1)</th>\n",
       "    </tr>\n",
       "  </thead>\n",
       "  <tbody>\n",
       "    <tr>\n",
       "      <th>0</th>\n",
       "      <td>5.38</td>\n",
       "      <td>5.480370</td>\n",
       "    </tr>\n",
       "    <tr>\n",
       "      <th>1</th>\n",
       "      <td>5.11</td>\n",
       "      <td>5.293475</td>\n",
       "    </tr>\n",
       "    <tr>\n",
       "      <th>2</th>\n",
       "      <td>5.00</td>\n",
       "      <td>5.269818</td>\n",
       "    </tr>\n",
       "    <tr>\n",
       "      <th>3</th>\n",
       "      <td>6.14</td>\n",
       "      <td>5.504930</td>\n",
       "    </tr>\n",
       "    <tr>\n",
       "      <th>4</th>\n",
       "      <td>5.19</td>\n",
       "      <td>5.384503</td>\n",
       "    </tr>\n",
       "    <tr>\n",
       "      <th>5</th>\n",
       "      <td>5.12</td>\n",
       "      <td>5.273005</td>\n",
       "    </tr>\n",
       "    <tr>\n",
       "      <th>6</th>\n",
       "      <td>5.10</td>\n",
       "      <td>5.245786</td>\n",
       "    </tr>\n",
       "    <tr>\n",
       "      <th>7</th>\n",
       "      <td>5.30</td>\n",
       "      <td>5.307129</td>\n",
       "    </tr>\n",
       "    <tr>\n",
       "      <th>8</th>\n",
       "      <td>5.26</td>\n",
       "      <td>5.282045</td>\n",
       "    </tr>\n",
       "    <tr>\n",
       "      <th>9</th>\n",
       "      <td>5.71</td>\n",
       "      <td>5.420794</td>\n",
       "    </tr>\n",
       "  </tbody>\n",
       "</table>\n",
       "</div>"
      ],
      "text/plain": [
       "   t + 1  pred (t +1)\n",
       "0   5.38     5.480370\n",
       "1   5.11     5.293475\n",
       "2   5.00     5.269818\n",
       "3   6.14     5.504930\n",
       "4   5.19     5.384503\n",
       "5   5.12     5.273005\n",
       "6   5.10     5.245786\n",
       "7   5.30     5.307129\n",
       "8   5.26     5.282045\n",
       "9   5.71     5.420794"
      ]
     },
     "execution_count": 30,
     "metadata": {},
     "output_type": "execute_result"
    }
   ],
   "source": [
    "ypred=model.predict(xtest)\n",
    "\n",
    "import math\n",
    "print('mean_squared_error',mean_squared_error(ytest, ypred))\n",
    "print('root mean_squared_error',math.sqrt(mean_squared_error(ytest, ypred)))\n",
    "print('mean_absolute_error',mean_absolute_error(ytest, ypred))\n",
    "print('r2_score',r2_score(ytest, ypred))\n",
    "\n",
    "ypredPD=pd.DataFrame()\n",
    "# ypredPD['t']=xtest['S000501_x'].values\n",
    "ypredPD['t + 1']=ytest.values.ravel()\n",
    "ypredPD['pred (t +1)']=ypred\n",
    "ypredPD.head(10)"
   ]
  },
  {
   "cell_type": "code",
   "execution_count": 31,
   "metadata": {},
   "outputs": [
    {
     "name": "stdout",
     "output_type": "stream",
     "text": [
      "dict_keys(['val_loss', 'val_mean_squared_error', 'loss', 'mean_squared_error'])\n"
     ]
    },
    {
     "data": {
      "image/png": "[encoded data removed]",
      "text/plain": [
       "<Figure size 432x288 with 1 Axes>"
      ]
     },
     "metadata": {
      "needs_background": "light"
     },
     "output_type": "display_data"
    },
    {
     "data": {
      "image/png": "[encoded data removed]",
      "text/plain": [
       "<Figure size 432x288 with 1 Axes>"
      ]
     },
     "metadata": {
      "needs_background": "light"
     },
     "output_type": "display_data"
    }
   ],
   "source": [
    "history=h\n",
    "print(history.history.keys())\n",
    "# summarize history for accuracy\n",
    "plt.plot(history.history['val_loss'])\n",
    "plt.plot(history.history['loss'])\n",
    "plt.title('model accuracy')\n",
    "plt.ylabel('accuracy')\n",
    "plt.xlabel('epoch')\n",
    "plt.legend(['train', 'test'], loc='upper left')\n",
    "plt.show()\n",
    "# summarize history for loss\n",
    "plt.plot(history.history['val_mean_squared_error'])\n",
    "plt.plot(history.history['mean_squared_error'])\n",
    "plt.title('model loss')\n",
    "plt.ylabel('loss')\n",
    "plt.xlabel('epoch')\n",
    "plt.legend(['train', 'test'], loc='upper left')\n",
    "plt.show()"
   ]
  },
  {
   "cell_type": "code",
   "execution_count": 32,
   "metadata": {},
   "outputs": [
    {
     "name": "stdout",
     "output_type": "stream",
     "text": [
      "0.25955957602578816\n",
      "2.615417476356368\n",
      "99.90070745935212\n"
     ]
    }
   ],
   "source": [
    "ypredPD['diff']=abs(ypredPD['t + 1']- ypredPD['pred (t +1)'])\n",
    "print(np.mean(ypredPD['diff']))\n",
    "print(np.std(ypredPD['diff']))\n",
    "print(100*ypredPD[ypredPD['diff']<=5].shape[0]/ypredPD.shape[0])"
   ]
  },
  {
   "cell_type": "code",
   "execution_count": 33,
   "metadata": {},
   "outputs": [
    {
     "data": {
      "image/png": "[encoded data removed]",
      "text/plain": [
       "<Figure size 432x288 with 1 Axes>"
      ]
     },
     "metadata": {
      "needs_background": "light"
     },
     "output_type": "display_data"
    },
    {
     "data": {
      "text/html": [
       "<div>\n",
       "<style scoped>\n",
       "    .dataframe tbody tr th:only-of-type {\n",
       "        vertical-align: middle;\n",
       "    }\n",
       "\n",
       "    .dataframe tbody tr th {\n",
       "        vertical-align: top;\n",
       "    }\n",
       "\n",
       "    .dataframe thead th {\n",
       "        text-align: right;\n",
       "    }\n",
       "</style>\n",
       "<table border=\"1\" class=\"dataframe\">\n",
       "  <thead>\n",
       "    <tr style=\"text-align: right;\">\n",
       "      <th></th>\n",
       "      <th>t + 1</th>\n",
       "      <th>pred (t +1)</th>\n",
       "      <th>diff</th>\n",
       "    </tr>\n",
       "  </thead>\n",
       "  <tbody>\n",
       "    <tr>\n",
       "      <th>3036</th>\n",
       "      <td>4.30</td>\n",
       "      <td>5.120495</td>\n",
       "      <td>0.820495</td>\n",
       "    </tr>\n",
       "    <tr>\n",
       "      <th>575</th>\n",
       "      <td>4.30</td>\n",
       "      <td>5.153140</td>\n",
       "      <td>0.853140</td>\n",
       "    </tr>\n",
       "    <tr>\n",
       "      <th>4263</th>\n",
       "      <td>4.34</td>\n",
       "      <td>5.336392</td>\n",
       "      <td>0.996392</td>\n",
       "    </tr>\n",
       "    <tr>\n",
       "      <th>2003</th>\n",
       "      <td>4.35</td>\n",
       "      <td>5.221239</td>\n",
       "      <td>0.871239</td>\n",
       "    </tr>\n",
       "    <tr>\n",
       "      <th>3624</th>\n",
       "      <td>4.35</td>\n",
       "      <td>5.235993</td>\n",
       "      <td>0.885993</td>\n",
       "    </tr>\n",
       "    <tr>\n",
       "      <th>2553</th>\n",
       "      <td>4.49</td>\n",
       "      <td>5.197121</td>\n",
       "      <td>0.707121</td>\n",
       "    </tr>\n",
       "    <tr>\n",
       "      <th>6082</th>\n",
       "      <td>4.50</td>\n",
       "      <td>5.186310</td>\n",
       "      <td>0.686310</td>\n",
       "    </tr>\n",
       "    <tr>\n",
       "      <th>7970</th>\n",
       "      <td>4.59</td>\n",
       "      <td>5.299462</td>\n",
       "      <td>0.709462</td>\n",
       "    </tr>\n",
       "    <tr>\n",
       "      <th>2110</th>\n",
       "      <td>4.59</td>\n",
       "      <td>5.188396</td>\n",
       "      <td>0.598396</td>\n",
       "    </tr>\n",
       "    <tr>\n",
       "      <th>570</th>\n",
       "      <td>4.59</td>\n",
       "      <td>5.166644</td>\n",
       "      <td>0.576644</td>\n",
       "    </tr>\n",
       "  </tbody>\n",
       "</table>\n",
       "</div>"
      ],
      "text/plain": [
       "      t + 1  pred (t +1)      diff\n",
       "3036   4.30     5.120495  0.820495\n",
       "575    4.30     5.153140  0.853140\n",
       "4263   4.34     5.336392  0.996392\n",
       "2003   4.35     5.221239  0.871239\n",
       "3624   4.35     5.235993  0.885993\n",
       "2553   4.49     5.197121  0.707121\n",
       "6082   4.50     5.186310  0.686310\n",
       "7970   4.59     5.299462  0.709462\n",
       "2110   4.59     5.188396  0.598396\n",
       "570    4.59     5.166644  0.576644"
      ]
     },
     "execution_count": 33,
     "metadata": {},
     "output_type": "execute_result"
    },
    {
     "data": {
      "image/png": "[encoded data removed]",
      "text/plain": [
       "<Figure size 432x288 with 1 Axes>"
      ]
     },
     "metadata": {
      "needs_background": "light"
     },
     "output_type": "display_data"
    }
   ],
   "source": [
    "\n",
    "import matplotlib.patches as mpatches\n",
    "plt.ylabel('Values')\n",
    "plt.xlabel('index')\n",
    "red_patch = mpatches.Patch(color='red', label='Actual data')\n",
    "blue_patch = mpatches.Patch(color='blue', label='Predicted data')\n",
    "plt.legend(handles=[red_patch,blue_patch])\n",
    "\n",
    "ypredPD=ypredPD.sort_values(by=['t + 1'])\n",
    "plt.scatter(np.arange(0,ypredPD.shape[0],1),ypredPD['pred (t +1)'][:ypredPD.shape[0]])\n",
    "plt.plot(np.arange(0,ypredPD.shape[0],1),ypredPD['t + 1'][:ypredPD.shape[0]],color='red')\n",
    "plt.show()\n",
    "\n",
    "plt.ylabel('p*(t+1), Predicted data')\n",
    "plt.xlabel('p(t+1), Actual data')\n",
    "plt.scatter(ypredPD['t + 1'][:ypredPD.shape[0]],ypredPD['pred (t +1)'][:ypredPD.shape[0]])\n",
    "\n",
    "ypredPD.head(10)"
   ]
  },
  {
   "cell_type": "markdown",
   "metadata": {},
   "source": [
    "SVR\n",
    "======"
   ]
  },
  {
   "cell_type": "code",
   "execution_count": null,
   "metadata": {},
   "outputs": [],
   "source": [
    "from sklearn.svm import SVR\n",
    "# svr_rbf = SVR(kernel='rbf', C=10, gamma=0.02, epsilon=.001)\n",
    "svr_rbf = SVR(kernel='rbf')"
   ]
  },
  {
   "cell_type": "code",
   "execution_count": null,
   "metadata": {},
   "outputs": [],
   "source": [
    "svr_rbf.fit(xtrain, ytrain) "
   ]
  },
  {
   "cell_type": "code",
   "execution_count": null,
   "metadata": {},
   "outputs": [],
   "source": [
    "ypred=svr_rbf.predict(xtest)"
   ]
  },
  {
   "cell_type": "code",
   "execution_count": null,
   "metadata": {},
   "outputs": [],
   "source": [
    "import math\n",
    "print('mean_squared_error',mean_squared_error(ytest, ypred))\n",
    "print('root mean_squared_error',math.sqrt(mean_squared_error(ytest, ypred)))\n",
    "print('mean_absolute_error',mean_absolute_error(ytest, ypred))\n",
    "print('r2_score',r2_score(ytest, ypred))\n",
    "\n",
    "ypredPD=pd.DataFrame()\n",
    "# ypredPD['t']=xtest['S000501_x'].values\n",
    "ypredPD['t + 1']=ytest.values.ravel()\n",
    "ypredPD['pred (t +1)']=ypred\n",
    "ypredPD.head(10)"
   ]
  },
  {
   "cell_type": "code",
   "execution_count": null,
   "metadata": {},
   "outputs": [],
   "source": []
  },
  {
   "cell_type": "code",
   "execution_count": null,
   "metadata": {},
   "outputs": [],
   "source": []
  }
 ],
 "metadata": {
  "kernelspec": {
   "display_name": "Python 3",
   "language": "python",
   "name": "python3"
  },
  "language_info": {
   "codemirror_mode": {
    "name": "ipython",
    "version": 3
   },
   "file_extension": ".py",
   "mimetype": "text/x-python",
   "name": "python",
   "nbconvert_exporter": "python",
   "pygments_lexer": "ipython3",
   "version": "3.7.3"
  }
 },
 "nbformat": 4,
 "nbformat_minor": 2
}
